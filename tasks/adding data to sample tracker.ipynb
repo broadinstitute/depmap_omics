{
 "cells": [
  {
   "cell_type": "code",
   "execution_count": null,
   "metadata": {},
   "outputs": [],
   "source": [
    "from taigapy import TaigaClient\n",
    "tc = TaigaClient()\n",
    "\n",
    "from depmapomics import tracker as track\n",
    "from depmapomics import expressions\n",
    "\n",
    "import dalmatian as dm\n",
    "from gsheets import Sheets\n",
    "import pandas as pd\n",
    "\n",
    "MY_ID = '~/.client_secret.json'\n",
    "MYSTORAGE_ID = \"~/.storage.json\"\n",
    "\n",
    "Sheets.from_files(MY_ID, MYSTORAGE_ID)\n",
    "#autoreload\n",
    "%load_ext autoreload\n",
    "%autoreload 2"
   ]
  },
  {
   "cell_type": "code",
   "execution_count": null,
   "metadata": {},
   "outputs": [],
   "source": [
    "# loading annotations\n",
    "CCLE_annotation = track.getTracker() # the function uses pygsheets to load this: REFSHEET_URL=https://docs.google.com/spreadsheets/d/1Pgb5fIClGnErEqzxpU7qqX6ULpGTDjvzWwDN8XUJKIY\n",
    "# Sheets.from_files(MY_ID, MYSTORAGE_ID).get(REFSHEET_URL).sheets[0].to_frame(index_col=0)\n",
    "# you can also get it from pd.read_csv('gs://ccle_default_params/celligner_ex/CCLE_annotation.csv.gz', index_col=0)"
   ]
  },
  {
   "cell_type": "code",
   "execution_count": null,
   "metadata": {},
   "outputs": [],
   "source": [
    "CCLE_annotation = CCLE_annotation.rename(columns=rename)[['sample_id', 'participant_id', 'sex', 'age', 'primary_site', 'disease_type', \"disease_subtype\", 'origin', 'mediatype', 'sequencing_type']]\n",
    "CCLE_annotation['method']=\"bulk\"\n",
    "CCLE_annotation['cell_type']=\"historical_CL\""
   ]
  },
  {
   "cell_type": "code",
   "execution_count": null,
   "metadata": {},
   "outputs": [],
   "source": [
    "val[val.issue!=\"\"].issue"
   ]
  },
  {
   "cell_type": "code",
   "execution_count": null,
   "metadata": {},
   "outputs": [],
   "source": [
    "val = h.makeCellosaurusExport()"
   ]
  },
  {
   "cell_type": "code",
   "execution_count": null,
   "metadata": {},
   "outputs": [],
   "source": [
    "val"
   ]
  },
  {
   "cell_type": "code",
   "execution_count": null,
   "metadata": {},
   "outputs": [],
   "source": [
    "anc = h.getAncestry(val)"
   ]
  },
  {
   "cell_type": "code",
   "execution_count": null,
   "metadata": {},
   "outputs": [],
   "source": [
    "a = ACH.drop_duplicates('arxspan_id', keep='first').set_index(\"arxspan_id\")[['RRID', \"Primary/Metastasis\", \"Adult/Pediatric\", \"CCLF Age\"]]"
   ]
  },
  {
   "cell_type": "code",
   "execution_count": null,
   "metadata": {},
   "outputs": [],
   "source": [
    "b = CCLE_annotation.drop_duplicates('arxspan_id', keep='first').set_index(\"arxspan_id\")[['cellosaurus_id', 'age']]"
   ]
  },
  {
   "cell_type": "code",
   "execution_count": null,
   "metadata": {},
   "outputs": [],
   "source": [
    "na = pd.concat([a, b], axis=1)"
   ]
  },
  {
   "cell_type": "code",
   "execution_count": null,
   "metadata": {},
   "outputs": [],
   "source": [
    "na.loc[~na.RRID.isna()&((na.cellosaurus_id==\"U\") | na.cellosaurus_id.isna()), \"cellosaurus_id\"] = na[~na.RRID.isna()&((na.cellosaurus_id==\"U\") | na.cellosaurus_id.isna())].RRID.tolist()"
   ]
  },
  {
   "cell_type": "code",
   "execution_count": null,
   "metadata": {},
   "outputs": [],
   "source": [
    "na.loc[na.RRID.isna()&~na.cellosaurus_id.isna(), \"RRID\"] = na[na.RRID.isna()&~na.cellosaurus_id.isna()].cellosaurus_id.tolist()"
   ]
  },
  {
   "cell_type": "code",
   "execution_count": null,
   "metadata": {},
   "outputs": [],
   "source": [
    "na.loc[~((na[\"CCLF Age\"]=='Unknown') | na[\"CCLF Age\"].isna()) & (na.age.isna() | (na.age==\"U\")), \"age\"] = na[~((na[\"CCLF Age\"]=='Unknown') | na[\"CCLF Age\"].isna()) & (na.age.isna() | (na.age==\"U\"))][\"CCLF Age\"].tolist()"
   ]
  },
  {
   "cell_type": "code",
   "execution_count": null,
   "metadata": {},
   "outputs": [],
   "source": [
    "na.loc[((na[\"CCLF Age\"]=='Unknown') | na[\"CCLF Age\"].isna()) & ~(na.age.isna() | (na.age==\"U\")), \"CCLF Age\"] = na[((na[\"CCLF Age\"]=='Unknown') | na[\"CCLF Age\"].isna()) & ~(na.age.isna() | (na.age==\"U\"))][\"age\"].tolist()"
   ]
  },
  {
   "cell_type": "code",
   "execution_count": null,
   "metadata": {},
   "outputs": [],
   "source": [
    "# ACH-002050 adult 2years\n",
    "# many age are actually months\n",
    "na.loc[\"ACH-000644\", \"age\"] = \"45\"\n",
    "na.loc[\"ACH-003019\", \"age\"] = \"75\"\n",
    "na.loc[\"ACH-002050\", \"Adult/Pediatric\"] = \"Pediatric\""
   ]
  },
  {
   "cell_type": "code",
   "execution_count": null,
   "metadata": {},
   "outputs": [],
   "source": [
    "na.loc[~((na[\"Adult/Pediatric\"]=='-1') | na[\"Adult/Pediatric\"].isna()) & (na.age.isna() | (na.age==\"U\")), \"age\"] = na[~((na[\"Adult/Pediatric\"]=='-1') | na[\"Adult/Pediatric\"].isna()) & (na.age.isna() | (na.age==\"U\"))][\"Adult/Pediatric\"].tolist()"
   ]
  },
  {
   "cell_type": "code",
   "execution_count": null,
   "metadata": {},
   "outputs": [],
   "source": [
    "na"
   ]
  },
  {
   "cell_type": "code",
   "execution_count": null,
   "metadata": {},
   "outputs": [],
   "source": [
    "for i, va in na.iterrows():\n",
    "    if va.cellosaurus_id is not None and va.cellosaurus_id!='U':\n",
    "        if va.cellosaurus_id in val.index:\n",
    "            if val.loc[va.cellosaurus_id, 'isMeta'] != (va[\"Primary/Metastasis\"]==\"Metastasis\"):\n",
    "                if val.loc[va.cellosaurus_id, 'isMeta']:\n",
    "                    na.loc[i,\"Primary/Metastasis\"]=\"Metastasis\""
   ]
  },
  {
   "cell_type": "code",
   "execution_count": null,
   "metadata": {},
   "outputs": [],
   "source": [
    "toadd = val[val.depmap_id.isin(set(val[~val.depmap_id.isna() & (val.depmap_id!='')].depmap_id)- set(na[~na.cellosaurus_id.isna()&(na.cellosaurus_id!=\"U\")].index))]"
   ]
  },
  {
   "cell_type": "code",
   "execution_count": null,
   "metadata": {},
   "outputs": [],
   "source": [
    "na.loc[toadd.depmap_id.tolist(), 'cellosaurus_id'] = toadd.index.tolist()"
   ]
  },
  {
   "cell_type": "code",
   "execution_count": null,
   "metadata": {},
   "outputs": [],
   "source": [
    "na"
   ]
  },
  {
   "cell_type": "code",
   "execution_count": null,
   "metadata": {},
   "outputs": [],
   "source": [
    "subset = (~na.cellosaurus_id.isna()&(na.cellosaurus_id!=\"U\") & ~na.cellosaurus_id.isin(['CVCL_4J73', 'CVCL_Y549', 'CVCL_UF98', 'CVCL_3280', 'CVCL_M266', 'CVCL_8722']))"
   ]
  },
  {
   "cell_type": "code",
   "execution_count": null,
   "metadata": {},
   "outputs": [],
   "source": [
    "na.loc[na[subset].index.tolist(), [\"characteristics\", \"ancestry\", \"issue\", \"instability\", \"transfected\", \"synonyms\", \"cellosaurus_comments\",\"atcclink\",\"dsmzlink\",\"doublingt\",\"hasebv\", \"cellosaurus_origin\"]] = val.loc[na[subset].cellosaurus_id.tolist(), [\"characteristics\",\"ancestry\",\"issue\", \"instability\",\"transfected\", \"synonyms\", \"comments\",\"atcclink\",\"dsmzlink\",\"doublingt\",\"hasebv\", \"origin\"]].values"
   ]
  },
  {
   "cell_type": "code",
   "execution_count": null,
   "metadata": {},
   "outputs": [],
   "source": [
    "CCLE_annotation[[\"Primary/Metastasis\", \"characteristics\", \"ancestry\", \"issue\", \"instability\", \"transfected\", \"synonyms\", \"cellosaurus_comments\",\"atcclink\",\"dsmzlink\",\"doublingt\",\"hasebv\", \"cellosaurus_origin\"]] = None"
   ]
  },
  {
   "cell_type": "code",
   "execution_count": null,
   "metadata": {},
   "outputs": [],
   "source": [
    "tofix = [\"age\", \"cellosaurus_id\", \"Primary/Metastasis\", \"characteristics\", \"ancestry\", \"issue\", \"instability\", \"transfected\", \"synonyms\", \"cellosaurus_comments\",\"atcclink\",\"dsmzlink\",\"doublingt\",\"hasebv\", \"cellosaurus_origin\"]\n",
    "for i, val in na.iterrows():\n",
    "    CCLE_annotation.loc[CCLE_annotation.arxspan_id==i, tofix] = val[tofix].values"
   ]
  },
  {
   "cell_type": "code",
   "execution_count": null,
   "metadata": {},
   "outputs": [],
   "source": [
    "from gsheets import Sheets\n",
    "from depmapomics.config_prod import MY_ID, MYSTORAGE_ID\n",
    "otherano = Sheets.from_files(MY_ID, MYSTORAGE_ID).get(\"https://docs.google.com/spreadsheets/d/1LYY2gWVnNzjGtM68TBgvA7fpN51T-5OJD2ShvQRmfsM/\").sheets[0].to_frame(index_col=0)#gid=1776180249\n",
    "b = otherano.drop_duplicates('arxspan_id', keep='first').set_index(\"arxspan_id\")[['primary_site']]\n",
    "\n",
    "na = pd.concat([a, b], axis=1)"
   ]
  },
  {
   "cell_type": "code",
   "execution_count": null,
   "metadata": {},
   "outputs": [],
   "source": [
    "set(na[~(na['Sample Collection Site'].isna() | (na['Sample Collection Site']==\"-1\"))]['Sample Collection Site'])"
   ]
  },
  {
   "cell_type": "code",
   "execution_count": null,
   "metadata": {},
   "outputs": [],
   "source": [
    "ina = (na[\"primary_site\"].isna() | (na['primary_site']==\"U\")) & ~(na['Sample Collection Site'].isna() | (na['Sample Collection Site']==\"-1\"))\n",
    "#inb = ~(na[\"primary_site\"].isna() | (na['primary_site']==\"U\")) & (na['Sample Collection Site'].isna() | (na['Sample Collection Site']==-1))\n",
    "na.loc[ina, \"primary_site\"] = na.loc[ina, \"Sample Collection Site\"] \n",
    "#na.loc[inb, \"Sample Collection Site\"] = na.loc[inb, \"primary_site\"] "
   ]
  },
  {
   "cell_type": "code",
   "execution_count": null,
   "metadata": {},
   "outputs": [],
   "source": [
    "na.loc[\"ACH-001743\", \"Sample Collection Site\"] = \"bone_marrow\""
   ]
  },
  {
   "cell_type": "code",
   "execution_count": null,
   "metadata": {},
   "outputs": [],
   "source": [
    "na.loc[na[\"Sample Collection Site\"]!=na['primary_site'], \"primary_site\"]\n",
    "na.loc[na[\"Sample Collection Site\"]!=na['primary_site'], \"primary_site\"] = na.loc[na[\"Sample Collection Site\"]!=na['primary_site'], \"Sample Collection Site\"].values"
   ]
  },
  {
   "cell_type": "code",
   "execution_count": null,
   "metadata": {},
   "outputs": [],
   "source": [
    "na = na.replace({'primary_site':{'-1': 'U',\n",
    " 'Colon': 'colon',\n",
    " 'Embryonal': 'embryo',\n",
    " 'Other': 'U',\n",
    " 'Placenta': 'placenta',\n",
    " 'Testes': 'testes',\n",
    " 'Thymus': 'thymus',\n",
    " 'Unknown': 'U',\n",
    " 'brain': 'central_nervous_system',\n",
    " 'engineered': 'U',\n",
    " 'left heel':'heel',\n",
    " 'matched_normal_tissue': 'U',\n",
    " 'pericardial_effusion': 'pleural_effusion',\n",
    " 'pleura': \"pleural_effusion\",\n",
    " 'pleural_cavity': \"pleural_effusion\",\n",
    " 'right heel': 'heel',\n",
    "}})"
   ]
  },
  {
   "cell_type": "code",
   "execution_count": null,
   "metadata": {},
   "outputs": [],
   "source": [
    "for i, v in na['primary_site'].iteritems():\n",
    "    CCLE_annotation.loc[CCLE_annotation.arxspan_id==i, 'collection_site'] = v"
   ]
  },
  {
   "cell_type": "code",
   "execution_count": null,
   "metadata": {},
   "outputs": [],
   "source": [
    "dfToSheet(CCLE_annotation, \"ccle sample tracker\", \"../.credentials.json\")"
   ]
  }
 ],
 "metadata": {
  "kernelspec": {
   "display_name": "Python 3",
   "language": "python",
   "name": "python3"
  },
  "language_info": {
   "codemirror_mode": {
    "name": "ipython",
    "version": 3
   },
   "file_extension": ".py",
   "mimetype": "text/x-python",
   "name": "python",
   "nbconvert_exporter": "python",
   "pygments_lexer": "ipython3",
   "version": "3.7.3"
  },
  "latex_envs": {
   "LaTeX_envs_menu_present": true,
   "autoclose": false,
   "autocomplete": true,
   "bibliofile": "biblio.bib",
   "cite_by": "apalike",
   "current_citInitial": 1,
   "eqLabelWithNumbers": true,
   "eqNumInitial": 1,
   "hotkeys": {
    "equation": "Ctrl-E",
    "itemize": "Ctrl-I"
   },
   "labels_anchors": false,
   "latex_user_defs": false,
   "report_style_numbering": false,
   "user_envs_cfg": false
  },
  "toc": {
   "base_numbering": 1,
   "nav_menu": {},
   "number_sections": true,
   "sideBar": true,
   "skip_h1_title": false,
   "title_cell": "Table of Contents",
   "title_sidebar": "Contents",
   "toc_cell": false,
   "toc_position": {},
   "toc_section_display": true,
   "toc_window_display": false
  },
  "varInspector": {
   "cols": {
    "lenName": 16,
    "lenType": 16,
    "lenVar": 40
   },
   "kernels_config": {
    "python": {
     "delete_cmd_postfix": "",
     "delete_cmd_prefix": "del ",
     "library": "var_list.py",
     "varRefreshCmd": "print(var_dic_list())"
    },
    "r": {
     "delete_cmd_postfix": ") ",
     "delete_cmd_prefix": "rm(",
     "library": "var_list.r",
     "varRefreshCmd": "cat(var_dic_list()) "
    }
   },
   "types_to_exclude": [
    "module",
    "function",
    "builtin_function_or_method",
    "instance",
    "_Feature"
   ],
   "window_display": false
  }
 },
 "nbformat": 4,
 "nbformat_minor": 2
}
