{
 "cells": [
  {
   "cell_type": "code",
   "execution_count": null,
   "id": "7128a69a",
   "metadata": {},
   "outputs": [],
   "source": [
    "# extract sanger male normal lines from tracker\n",
    "\n",
    "from depmapomics.tracker import getTracker\n",
    "tracker = getTracker()\n",
    "sanger = tracker[(tracker['source'] == 'SANGER') & (tracker['primary_disease'].str.lower()=='normal')]\n",
    "assert (sanger['datatype'] == 'wes').all()\n",
    "\n",
    "sanger['sex'].value_counts()"
   ]
  },
  {
   "cell_type": "code",
   "execution_count": null,
   "id": "7d652c18",
   "metadata": {},
   "outputs": [],
   "source": [
    "sanger = sanger[sanger.sex == 'Male']\n",
    "sanger"
   ]
  },
  {
   "cell_type": "code",
   "execution_count": null,
   "id": "8506397c",
   "metadata": {},
   "outputs": [],
   "source": [
    "sanger = sanger[['internal_bam_filepath', 'internal_bai_filepath', 'participant_id']]\n",
    "sanger = sanger.rename(columns={'internal_bam_filepath': 'hg38_analysis_ready_bam', 'internal_bai_filepath': 'hg38_analysis_ready_bam_index'})\n",
    "sanger"
   ]
  },
  {
   "cell_type": "code",
   "execution_count": null,
   "id": "44a2012a",
   "metadata": {},
   "outputs": [],
   "source": [
    "# import the above lines to terra workspace broad-firecloud-ccle/DepMap_WES_PONS_hg38-copy\n",
    "from depmapomics import loading\n",
    "import dalmatian as dm\n",
    "\n",
    "refworkspace = 'broad-firecloud-ccle/DepMap_WES_PONS_hg38-copy'\n",
    "samplesetname = 'SANGER_XY'\n",
    "samples = sanger\n",
    "\n",
    "samples.index.name = 'sample_id'\n",
    "refwm = dm.WorkspaceManager(refworkspace).disable_hound()\n",
    "refwm.upload_samples(samples)\n",
    "\n",
    "#creating a sample set\n",
    "refwm.update_sample_set(sample_set_id=samplesetname,\n",
    "                      sample_ids=samples.index)\n"
   ]
  },
  {
   "cell_type": "code",
   "execution_count": null,
   "id": "6db04f70",
   "metadata": {},
   "outputs": [],
   "source": [
    "from genepy import terra\n",
    "\n",
    "submission_id = refwm.create_submission(\"CNV_Somatic_Panel_Workflow_Agilent_XY\", samplesetname)\n",
    "await terra.waitForSubmission(refworkspace, submission_id)"
   ]
  },
  {
   "cell_type": "code",
   "execution_count": null,
   "id": "589a6cc0",
   "metadata": {},
   "outputs": [],
   "source": [
    "# create a sanger sampleset in broad-firecloud-ccle/DepMap_WES_CN_hg38-sandbox\n",
    "\n",
    "tracker = getTracker()\n",
    "\n",
    "sangerwes = tracker[(tracker['source'] == 'SANGER') & (tracker['datatype']=='wes')]\n",
    "sangerwes"
   ]
  },
  {
   "cell_type": "code",
   "execution_count": null,
   "id": "47798d9e",
   "metadata": {},
   "outputs": [],
   "source": [
    "refworkspace = 'broad-firecloud-ccle/DepMap_WES_CN_hg38-sandbox'\n",
    "samplesetname = 'all_sanger'\n",
    "samples = sangerwes\n",
    "\n",
    "# samples.index.name = 'sample_id'\n",
    "# refwm = dm.WorkspaceManager(refworkspace).disable_hound()\n",
    "# refwm.update_sample_set(sample_set_id=samplesetname,\n",
    "#                       sample_ids=samples.index)"
   ]
  },
  {
   "cell_type": "code",
   "execution_count": null,
   "id": "621576be",
   "metadata": {},
   "outputs": [],
   "source": [
    "all_pairs = refwm.get_pairs()\n",
    "sanger_pairs = all_pairs[all_pairs.case_sample.isin(sangerwes.index)]\n",
    "sanger_pairs.index"
   ]
  },
  {
   "cell_type": "code",
   "execution_count": null,
   "id": "f32775c9",
   "metadata": {},
   "outputs": [],
   "source": [
    "refwm.update_pair_set(pair_set_id=samplesetname,\n",
    "                      pair_ids=sanger_pairs.index)"
   ]
  },
  {
   "cell_type": "code",
   "execution_count": null,
   "id": "f2aa060c",
   "metadata": {},
   "outputs": [],
   "source": [
    "# hg38_analysis_ready_bam_index != internal_bai_filepath for some lines\n",
    "# update those lines in workspace:\n",
    "terra_wes = refwm.get_samples()\n",
    "terra_wes_sanger = terra_wes[terra_wes.index.isin(sangerwes.index)]\n",
    "terra_wes_sanger"
   ]
  },
  {
   "cell_type": "code",
   "execution_count": null,
   "id": "828b03f1",
   "metadata": {},
   "outputs": [],
   "source": [
    "sum(terra_wes_sanger['internal_bai_filepath'] == terra_wes_sanger['hg38_analysis_ready_bam_index'])"
   ]
  },
  {
   "cell_type": "code",
   "execution_count": null,
   "id": "38d0edbc",
   "metadata": {},
   "outputs": [],
   "source": [
    "terra_wes_sanger['hg38_analysis_ready_bam_index'] = terra_wes_sanger['internal_bai_filepath']\n",
    "sum(terra_wes_sanger['internal_bai_filepath'] == terra_wes_sanger['hg38_analysis_ready_bam_index'])"
   ]
  },
  {
   "cell_type": "code",
   "execution_count": null,
   "id": "d4673afd",
   "metadata": {},
   "outputs": [],
   "source": [
    "terra_wes.update(terra_wes_sanger)\n",
    "terra_wes"
   ]
  },
  {
   "cell_type": "code",
   "execution_count": null,
   "id": "665222e8",
   "metadata": {},
   "outputs": [],
   "source": [
    "refwm.update_sample_attributes(terra_wes)"
   ]
  },
  {
   "cell_type": "code",
   "execution_count": null,
   "id": "85ffd358",
   "metadata": {},
   "outputs": [],
   "source": [
    "submission_id = refwm.create_submission(\"CNV_sample_XY_agilent\", 'all_sanger', 'pair_set', expression='this.pairs')\n",
    "await terra.waitForSubmission(refworkspace, submission_id)"
   ]
  },
  {
   "cell_type": "code",
   "execution_count": null,
   "id": "7cdb6e79",
   "metadata": {},
   "outputs": [],
   "source": [
    "submission_id = refwm.create_submission(\"Aggregate_CN_seg_files\", 'all')\n",
    "await terra.waitForSubmission(refworkspace, submission_id)"
   ]
  },
  {
   "cell_type": "code",
   "execution_count": null,
   "id": "fe80bcb4",
   "metadata": {},
   "outputs": [],
   "source": [
    "# plot histogram!\n",
    "import pandas as pd\n",
    "\n",
    "sanger_seg = pd.read_csv(\"gs://fc-secure-72da20b9-dac7-4c49-9ffa-c7175b79855a/d34cb8cd-2350-455c-af70-5cb893959399/aggregate_CN_segments_wrkflw/d548fcf8-4713-407f-b6a8-8f9c5b8b719a/call-aggregate_CN_segments/all_sanger.called.seg\", delimiter='\\t')\n",
    "sanger_seg"
   ]
  },
  {
   "cell_type": "code",
   "execution_count": null,
   "id": "aa105e5c",
   "metadata": {},
   "outputs": [],
   "source": [
    "import matplotlib.pyplot as plt\n",
    "\n",
    "sanger_seg_counts = sanger_seg.Sample.value_counts()\n",
    "plt.hist(sanger_seg.Sample.value_counts(), bins=120)"
   ]
  },
  {
   "cell_type": "code",
   "execution_count": null,
   "id": "bbbfbf3e",
   "metadata": {},
   "outputs": [],
   "source": [
    "all_seg = pd.read_csv(\"gs://fc-secure-d2a2d895-a7af-4117-bdc7-652d7d268324/bdd767bd-f535-4716-88cb-0faeff5e5ec7/aggregate_CN_segments_wrkflw/a816ac7e-2fc6-4165-b98e-ec39975ab9fa/call-aggregate_CN_segments/attempt-2/all.called.seg\", delimiter='\\t')\n",
    "all_seg"
   ]
  },
  {
   "cell_type": "code",
   "execution_count": null,
   "id": "86ce66e0",
   "metadata": {},
   "outputs": [],
   "source": [
    "all_seg_counts = all_seg.Sample.value_counts()\n",
    "all_seg_counts"
   ]
  },
  {
   "cell_type": "code",
   "execution_count": null,
   "id": "7e6760d6",
   "metadata": {},
   "outputs": [],
   "source": [
    "t = getTracker()"
   ]
  },
  {
   "cell_type": "code",
   "execution_count": null,
   "id": "1ead3b44",
   "metadata": {},
   "outputs": [],
   "source": [
    "broad_wes_idx = t[(t.source != 'SANGER') & (t.source != 'CHORDOMA') & (t.datatype == 'wes')].index\n",
    "broad_seg_counts = all_seg_counts[broad_wes_idx]\n",
    "broad_seg_counts"
   ]
  },
  {
   "cell_type": "code",
   "execution_count": null,
   "id": "97350d41",
   "metadata": {},
   "outputs": [],
   "source": [
    "from matplotlib import pyplot\n",
    "import numpy as np\n",
    "\n",
    "bins = np.linspace(0, 1500, 75)\n",
    "\n",
    "pyplot.hist(sanger_seg_counts, bins, alpha=0.5, label='sanger wes')\n",
    "pyplot.hist(broad_seg_counts, bins, alpha=0.5, label='broad wes')\n",
    "pyplot.legend(loc='upper right')\n",
    "pyplot.show()"
   ]
  },
  {
   "cell_type": "code",
   "execution_count": null,
   "id": "fa74024f",
   "metadata": {},
   "outputs": [],
   "source": []
  },
  {
   "cell_type": "code",
   "execution_count": null,
   "id": "b3561697",
   "metadata": {},
   "outputs": [],
   "source": []
  },
  {
   "cell_type": "code",
   "execution_count": null,
   "id": "46d64ead",
   "metadata": {},
   "outputs": [],
   "source": []
  },
  {
   "cell_type": "code",
   "execution_count": null,
   "id": "d8702c17",
   "metadata": {},
   "outputs": [],
   "source": []
  },
  {
   "cell_type": "code",
   "execution_count": null,
   "id": "8023f077",
   "metadata": {},
   "outputs": [],
   "source": []
  },
  {
   "cell_type": "code",
   "execution_count": null,
   "id": "d6139bc5",
   "metadata": {},
   "outputs": [],
   "source": []
  },
  {
   "cell_type": "code",
   "execution_count": null,
   "id": "9e281085",
   "metadata": {},
   "outputs": [],
   "source": []
  }
 ],
 "metadata": {
  "kernelspec": {
   "display_name": "Python 3",
   "language": "python",
   "name": "python3"
  },
  "language_info": {
   "codemirror_mode": {
    "name": "ipython",
    "version": 3
   },
   "file_extension": ".py",
   "mimetype": "text/x-python",
   "name": "python",
   "nbconvert_exporter": "python",
   "pygments_lexer": "ipython3",
   "version": "3.8.2"
  }
 },
 "nbformat": 4,
 "nbformat_minor": 5
}
