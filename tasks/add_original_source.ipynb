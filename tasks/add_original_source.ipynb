{
 "cells": [
  {
   "cell_type": "code",
   "execution_count": null,
   "id": "1b49f739",
   "metadata": {},
   "outputs": [],
   "source": [
    "from __future__ import print_function\n",
    "\n",
    "from depmapomics.config import *\n",
    "\n",
    "from depmapomics import loading, tracker\n",
    "from depmapomics import terra as myterra\n",
    "from depmapomics import mutations as omics_mut\n",
    "from depmapomics import copynumbers as omics_cn\n",
    "from genepy import terra\n",
    "from genepy.utils import helper as h\n",
    "from gsheets import Sheets\n",
    "from depmapomics import tracker as track\n",
    "from genepy.utils import helper as h\n",
    "\n",
    "import pandas as pd\n",
    "import dalmatian as dm\n",
    "from bokeh.plotting import output_notebook\n",
    "\n",
    "%load_ext autoreload\n",
    "%autoreload 2\n",
    "\n",
    "output_notebook()"
   ]
  },
  {
   "cell_type": "code",
   "execution_count": null,
   "id": "381dffd8",
   "metadata": {},
   "outputs": [],
   "source": [
    "sheets = Sheets.from_files(MY_ID, MYSTORAGE_ID)"
   ]
  },
  {
   "cell_type": "code",
   "execution_count": null,
   "id": "7017e3a5",
   "metadata": {},
   "outputs": [],
   "source": [
    "from taigapy import TaigaClient\n",
    "tc = TaigaClient()\n",
    "\n",
    "depmap_master = tc.get(name=DEPMAP_TAIGA, file=\"ACH\").set_index(\n",
    "    \"arxspan_id\", drop=True\n",
    ")"
   ]
  },
  {
   "cell_type": "code",
   "execution_count": null,
   "id": "8f048163",
   "metadata": {},
   "outputs": [],
   "source": [
    "depmap_master[depmap_master['Original Source'].isnull()].index"
   ]
  },
  {
   "cell_type": "code",
   "execution_count": null,
   "id": "fd144aed",
   "metadata": {},
   "outputs": [],
   "source": [
    "depmap_master.loc['ACH-000114', ]"
   ]
  },
  {
   "cell_type": "code",
   "execution_count": null,
   "id": "6fbdb43f",
   "metadata": {},
   "outputs": [],
   "source": [
    "# check if samples on tracker that have original source agree with master\n",
    "t = tracker.getTracker()\n",
    "withos = t[~t.original_source.isnull()]"
   ]
  },
  {
   "cell_type": "code",
   "execution_count": null,
   "id": "a5992c50",
   "metadata": {},
   "outputs": [],
   "source": [
    "for arxs in withos.arxspan_id.unique():\n",
    "    i = withos[withos.arxspan_id == arxs].index[0]\n",
    "    if withos.loc[i, 'original_source'] != depmap_master.loc[arxs, 'Original Source'] and withos.loc[i, 'original_source'] != 'HSSRB':\n",
    "        if depmap_master.loc[arxs, 'Original Source'] == None:\n",
    "            print('No annotation on master: ' + arxs)\n",
    "        else:\n",
    "            print(arxs + ':  tracker: ' + withos.loc[i, 'original_source'] + \", master: \" + depmap_master.loc[arxs, 'Original Source'])"
   ]
  },
  {
   "cell_type": "code",
   "execution_count": null,
   "id": "ba11df00",
   "metadata": {},
   "outputs": [],
   "source": [
    "len(withos.arxspan_id.unique())"
   ]
  },
  {
   "cell_type": "code",
   "execution_count": null,
   "id": "7113950e",
   "metadata": {},
   "outputs": [],
   "source": [
    "# rename HSSRB into HSRRB\n",
    "for i in t[t.original_source == 'HSSRB'].index:\n",
    "    t.loc[i, 'original_source'] = 'HSRRB'\n",
    "    print(i)"
   ]
  },
  {
   "cell_type": "code",
   "execution_count": null,
   "id": "9b30eb5e",
   "metadata": {},
   "outputs": [],
   "source": [
    "from genepy.google.google_sheet import dfToSheet\n",
    "dfToSheet(t, 'ccle sample tracker', secret=\"../../.credentials.json\")"
   ]
  },
  {
   "cell_type": "code",
   "execution_count": null,
   "id": "7f73e645",
   "metadata": {},
   "outputs": [],
   "source": []
  }
 ],
 "metadata": {
  "kernelspec": {
   "display_name": "Python 3",
   "language": "python",
   "name": "python3"
  },
  "language_info": {
   "codemirror_mode": {
    "name": "ipython",
    "version": 3
   },
   "file_extension": ".py",
   "mimetype": "text/x-python",
   "name": "python",
   "nbconvert_exporter": "python",
   "pygments_lexer": "ipython3",
   "version": "3.8.2"
  }
 },
 "nbformat": 4,
 "nbformat_minor": 5
}
