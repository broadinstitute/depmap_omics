{
 "cells": [
  {
   "cell_type": "code",
   "execution_count": null,
   "metadata": {},
   "outputs": [],
   "source": [
    "# looking into germlines vs somatics\n",
    "from genepy.mutations import vcf_to_df\n",
    "import pandas as pd\n",
    "%load_ext autoreload\n",
    "%autoreload 2"
   ]
  },
  {
   "cell_type": "code",
   "execution_count": null,
   "metadata": {},
   "outputs": [],
   "source": [
    "name = \"CDS-HHbqZS\""
   ]
  },
  {
   "cell_type": "code",
   "execution_count": null,
   "metadata": {},
   "outputs": [],
   "source": [
    "cmd = \"gsutil cp gs://aborah_data/germline_annotation_hg38/\"+name+\"_cnn_filtered.vcf.variant.tsv ..\"\n",
    "! $cmd\n",
    "germ = pd.read_csv(\"../\"+name+\"_cnn_filtered.vcf.variant.tsv\", sep='\\t', comment=\"#\", index_col= False,)\n",
    "germ = germ.drop(columns=[\"uid\"]+[i for i in germ.columns if germ[i].isna().sum()==len(germ)])"
   ]
  },
  {
   "cell_type": "code",
   "execution_count": null,
   "metadata": {},
   "outputs": [],
   "source": [
    "cmd = \"gsutil cp gs://aborah_data/Mutation_annotation/tsv/\" + name + \".MuTect2.call_stats.vcf.variant.tsv ..\"\n",
    "! $cmd\n",
    "som = pd.read_csv(\"../\"+name+\".MuTect2.call_stats.vcf.variant.tsv\", sep='\\t', comment=\"#\", index_col= False,)\n",
    "som = som.drop(columns=['uid']+[i for i in som.columns if som[i].isna().sum()==len(som)])"
   ]
  },
  {
   "cell_type": "code",
   "execution_count": null,
   "metadata": {},
   "outputs": [],
   "source": [
    "len(som),len(som[som['dann.score'].isna()])"
   ]
  },
  {
   "cell_type": "code",
   "execution_count": null,
   "metadata": {},
   "outputs": [],
   "source": [
    "len(germ),len(germ[germ['dann.score'].isna()])"
   ]
  },
  {
   "cell_type": "code",
   "execution_count": null,
   "metadata": {},
   "outputs": [],
   "source": [
    "ssom"
   ]
  },
  {
   "cell_type": "code",
   "execution_count": null,
   "metadata": {},
   "outputs": [],
   "source": [
    "ssom = som[som['dann.score'].isna()]\n",
    "sgerm = germ[~germ['dann.score'].isna()]\n",
    "set(ssom['chrom']+'_'+ssom['pos'].astype(str)+\"_\"+ssom['alt_base']) & set(sgerm['chrom']+'_'+sgerm['pos'].astype(str)+\"_\"+sgerm['alt_base'])"
   ]
  },
  {
   "cell_type": "code",
   "execution_count": null,
   "metadata": {},
   "outputs": [],
   "source": [
    "sgerm = germ[(germ['vcfinfo.af']>.3)&(germ['dann.score']>.96)]\n",
    "ssom = som[(som['vcfinfo.af']>.3)&(som['dann.score']>.96)]\n",
    "len(sgerm), len(set(ssom['chrom']+'_'+ssom['pos'].astype(str)+\"_\"+ssom['alt_base']) & set(sgerm['chrom']+'_'+sgerm['pos'].astype(str)+\"_\"+sgerm['alt_base'])), len(ssom)"
   ]
  },
  {
   "cell_type": "code",
   "execution_count": null,
   "metadata": {},
   "outputs": [],
   "source": [
    "sgerm = germ[(germ['vcfinfo.af']>.3)&(germ['cadd.phred']>25)]\n",
    "ssom = som[(som['vcfinfo.af']>.3)&(som['cadd.phred']>25)]\n",
    "len(sgerm), len(set(ssom['chrom']+'_'+ssom['pos'].astype(str)+\"_\"+ssom['alt_base']) & set(sgerm['chrom']+'_'+sgerm['pos'].astype(str)+\"_\"+sgerm['alt_base'])), len(ssom)"
   ]
  },
  {
   "cell_type": "code",
   "execution_count": null,
   "metadata": {},
   "outputs": [],
   "source": []
  }
 ],
 "metadata": {
  "kernelspec": {
   "display_name": "Python 3",
   "language": "python",
   "name": "python3"
  },
  "language_info": {
   "codemirror_mode": {
    "name": "ipython",
    "version": 3
   },
   "file_extension": ".py",
   "mimetype": "text/x-python",
   "name": "python",
   "nbconvert_exporter": "python",
   "pygments_lexer": "ipython3",
   "version": "3.7.3"
  },
  "latex_envs": {
   "LaTeX_envs_menu_present": true,
   "autoclose": false,
   "autocomplete": true,
   "bibliofile": "biblio.bib",
   "cite_by": "apalike",
   "current_citInitial": 1,
   "eqLabelWithNumbers": true,
   "eqNumInitial": 1,
   "hotkeys": {
    "equation": "Ctrl-E",
    "itemize": "Ctrl-I"
   },
   "labels_anchors": false,
   "latex_user_defs": false,
   "report_style_numbering": false,
   "user_envs_cfg": false
  },
  "toc": {
   "base_numbering": 1,
   "nav_menu": {},
   "number_sections": true,
   "sideBar": true,
   "skip_h1_title": false,
   "title_cell": "Table of Contents",
   "title_sidebar": "Contents",
   "toc_cell": false,
   "toc_position": {},
   "toc_section_display": true,
   "toc_window_display": false
  },
  "varInspector": {
   "cols": {
    "lenName": 16,
    "lenType": 16,
    "lenVar": 40
   },
   "kernels_config": {
    "python": {
     "delete_cmd_postfix": "",
     "delete_cmd_prefix": "del ",
     "library": "var_list.py",
     "varRefreshCmd": "print(var_dic_list())"
    },
    "r": {
     "delete_cmd_postfix": ") ",
     "delete_cmd_prefix": "rm(",
     "library": "var_list.r",
     "varRefreshCmd": "cat(var_dic_list()) "
    }
   },
   "types_to_exclude": [
    "module",
    "function",
    "builtin_function_or_method",
    "instance",
    "_Feature"
   ],
   "window_display": false
  }
 },
 "nbformat": 4,
 "nbformat_minor": 2
}
