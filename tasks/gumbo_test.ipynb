{
 "cells": [
  {
   "cell_type": "code",
   "execution_count": null,
   "id": "1bb22561",
   "metadata": {},
   "outputs": [],
   "source": [
    "from depmapomics.config import *\n",
    "from depmapomics import tracker\n",
    "from depmapomics import upload"
   ]
  },
  {
   "cell_type": "code",
   "execution_count": null,
   "id": "af8d3d78",
   "metadata": {},
   "outputs": [],
   "source": [
    "trackerobj = tracker.initTracker()"
   ]
  },
  {
   "cell_type": "code",
   "execution_count": null,
   "id": "56d7feea",
   "metadata": {},
   "outputs": [],
   "source": [
    "virtual_model = {'internal': '44fe63f5711d4314b52bf1b25ef2ec10',\n",
    " 'ibm': '3f5686f41bcd4b60a25f8de85c554a6b',\n",
    " 'dmc': '565cb84d59fd4f81884074a1c21caceb',\n",
    " 'public': '0237e90a15684d8ebab8797bbfeb2e8b'}\n",
    "# upload.uploadAuxTables(trackerobj, taiga_ids=virtual)"
   ]
  },
  {
   "cell_type": "code",
   "execution_count": null,
   "id": "0584cba2",
   "metadata": {},
   "outputs": [],
   "source": [
    "upload.makeModelLvMatrices(trackerobj, virtual_ids=virtual_model, folder=\"../output/\" + SAMPLESETNAME)"
   ]
  },
  {
   "cell_type": "code",
   "execution_count": null,
   "id": "7d8b22cc",
   "metadata": {},
   "outputs": [],
   "source": [
    "# virutal_pr, virtual_model = upload.initVirtualDatasets(samplesetname='22Q2')"
   ]
  },
  {
   "cell_type": "code",
   "execution_count": null,
   "id": "9f4ef4b0",
   "metadata": {},
   "outputs": [],
   "source": [
    "virutal_pr = {'internal': 'dfe74fdb544148e08acd9d20b72ad418',\n",
    " 'ibm': 'e5d7f73ec9d34384842feebec0de6f3b',\n",
    " 'dmc': 'dea3b2bab40d4c59ac632477bc63b606',\n",
    " 'public': '84fdde349d944112ad975f5a66bdbc3c'}"
   ]
  },
  {
   "cell_type": "code",
   "execution_count": null,
   "id": "94d3e085",
   "metadata": {},
   "outputs": [],
   "source": [
    "upload.makePRLvMatrices(trackerobj, virtual_ids=virutal_pr)"
   ]
  },
  {
   "cell_type": "code",
   "execution_count": null,
   "id": "dd5ed8d5",
   "metadata": {},
   "outputs": [],
   "source": []
  },
  {
   "cell_type": "code",
   "execution_count": null,
   "id": "657ca3c5",
   "metadata": {},
   "outputs": [],
   "source": []
  },
  {
   "cell_type": "code",
   "execution_count": null,
   "id": "42b5de8d",
   "metadata": {},
   "outputs": [],
   "source": []
  }
 ],
 "metadata": {
  "kernelspec": {
   "display_name": "Python 3",
   "language": "python",
   "name": "python3"
  },
  "language_info": {
   "codemirror_mode": {
    "name": "ipython",
    "version": 3
   },
   "file_extension": ".py",
   "mimetype": "text/x-python",
   "name": "python",
   "nbconvert_exporter": "python",
   "pygments_lexer": "ipython3",
   "version": "3.8.2"
  }
 },
 "nbformat": 4,
 "nbformat_minor": 5
}
