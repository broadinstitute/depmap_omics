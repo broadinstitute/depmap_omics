{
 "cells": [
  {
   "cell_type": "code",
   "execution_count": null,
   "metadata": {},
   "outputs": [],
   "source": [
    "from taigapy import TaigaClient\n",
    "tc = TaigaClient()\n",
    "import dalmatian as dm\n",
    "from IPython.display import Image, display\n",
    "import os\n",
    "import seaborn as sns\n",
    "from collections import Counter\n",
    "from depmapomics import tracker as track\n",
    "\n",
    "wes_segments_all = tc.get(name='cn-latest-d8d4', file='wes_segments_all')\n",
    "wgs_segments_all = tc.get(name='cn-latest-d8d4' ,file='wgs_segments_all')"
   ]
  },
  {
   "cell_type": "code",
   "execution_count": null,
   "metadata": {},
   "outputs": [],
   "source": [
    "CCLE_segment_cn_new =CCLE_segment_cn = tc.get(name='internal-22q2-097a', file='CCLE_segment_cn')\n",
    "CCLE_segmented_cn_old = tc.get(name='internal-20q1-f1a0', version=15, file='CCLE_segmented_cn')"
   ]
  },
  {
   "cell_type": "code",
   "execution_count": null,
   "metadata": {},
   "outputs": [],
   "source": [
    "def pl(v):\n",
    "    sns.distplot(list({i: len(v[v.DepMap_ID==i]) for i in set(v.DepMap_ID)}.values()), bins=100)"
   ]
  },
  {
   "cell_type": "code",
   "execution_count": null,
   "metadata": {},
   "outputs": [],
   "source": [
    "pl(CCLE_segment_cn_new)"
   ]
  },
  {
   "cell_type": "code",
   "execution_count": null,
   "metadata": {},
   "outputs": [],
   "source": [
    "pl(CCLE_segmented_cn_old)"
   ]
  },
  {
   "cell_type": "code",
   "execution_count": null,
   "metadata": {},
   "outputs": [],
   "source": [
    "ccle = track.getTracker()"
   ]
  },
  {
   "cell_type": "code",
   "execution_count": null,
   "metadata": {},
   "outputs": [],
   "source": [
    "count_wes = {i: len(wes_segments_all[wes_segments_all.DepMap_ID==i]) for i in set(wes_segments_all.DepMap_ID)}"
   ]
  },
  {
   "cell_type": "code",
   "execution_count": null,
   "metadata": {},
   "outputs": [],
   "source": [
    "# QC, keep theem, use the values drop new, flag old (amybe drop but only in CN?)\n",
    "# bimodality in WES (XY AGILENT - new PON)\n",
    "# bimodality in WGS (why?)\n",
    "# long tail in release data not in our data (because of legacy)"
   ]
  },
  {
   "cell_type": "code",
   "execution_count": null,
   "metadata": {},
   "outputs": [],
   "source": [
    "sns.distplot(list(count_wes.values()), bins=100)"
   ]
  },
  {
   "cell_type": "code",
   "execution_count": null,
   "metadata": {},
   "outputs": [],
   "source": [
    "Counter(ccle.loc[[i for i, v in count_wes.items() if v < 300],'baits'])"
   ]
  },
  {
   "cell_type": "code",
   "execution_count": null,
   "metadata": {},
   "outputs": [],
   "source": [
    "Counter(ccle.loc[[i for i, v in count_wes.items() if v > 300],'baits'])"
   ]
  },
  {
   "cell_type": "code",
   "execution_count": null,
   "metadata": {},
   "outputs": [],
   "source": [
    "v = ccle.loc[[i for i, v in count_wes.items() if v > 600],['sex','baits']]\n",
    "v[v.baits==\"AGILENT\"]\n",
    "Counter(v.sex)"
   ]
  },
  {
   "cell_type": "code",
   "execution_count": null,
   "metadata": {},
   "outputs": [],
   "source": [
    "v = ccle.loc[[i for i, v in count_wes.items() if v < 200],['sex','baits']]\n",
    "v[v.baits==\"AGILENT\"]\n",
    "Counter(v.sex)"
   ]
  },
  {
   "cell_type": "code",
   "execution_count": null,
   "metadata": {},
   "outputs": [],
   "source": [
    "Counter(ccle.loc[[i for i, v in count_wes.items() if v > 600],['sex',].val)"
   ]
  },
  {
   "cell_type": "code",
   "execution_count": null,
   "metadata": {},
   "outputs": [],
   "source": [
    "Counter(ccle.loc[[i for i, v in count_wes.items() if v < 200],'sex'])"
   ]
  },
  {
   "cell_type": "code",
   "execution_count": null,
   "metadata": {},
   "outputs": [],
   "source": [
    "fail = [i for i,v in count_wes.items() if v > 1000]\n",
    "fail"
   ]
  },
  {
   "cell_type": "code",
   "execution_count": null,
   "metadata": {},
   "outputs": [],
   "source": [
    "wm = dm.WorkspaceManager(\"broad-firecloud-ccle/DepMap_WES_CN_hg38\")\n",
    "for i, (k, val) in enumerate(wm.get_samples().loc[fail].iterrows()):\n",
    "    plot = val[\"modeled_segments_plot_tumor\"]\n",
    "    os.system('gsutil cp '+plot+' '+\"/tmp/\")\n",
    "    print(k)\n",
    "    print(val['arxspan_id'], val['sex'])\n",
    "    display(Image(os.path.join(\"/tmp/\",plot.split('/')[-1])))"
   ]
  },
  {
   "cell_type": "code",
   "execution_count": null,
   "metadata": {},
   "outputs": [],
   "source": [
    "count_wgs = {i: len(wgs_segments_all[wgs_segments_all.DepMap_ID==i]) for i in set(wgs_segments_all.DepMap_ID)}"
   ]
  },
  {
   "cell_type": "code",
   "execution_count": null,
   "metadata": {},
   "outputs": [],
   "source": [
    "sns.distplot(list(count_wgs.values()), bins=200)"
   ]
  },
  {
   "cell_type": "code",
   "execution_count": null,
   "metadata": {},
   "outputs": [],
   "source": [
    "fail = [i for i,v in count_wgs.items() if v > 1500]\n",
    "fail"
   ]
  },
  {
   "cell_type": "code",
   "execution_count": null,
   "metadata": {},
   "outputs": [],
   "source": [
    "wgs_segments_all_noY = wgs_segments_all[wgs_segments_all.Chromosome!='Y']"
   ]
  },
  {
   "cell_type": "code",
   "execution_count": null,
   "metadata": {},
   "outputs": [],
   "source": [
    "count_wgs = {i: len(wgs_segments_all_noY[(wgs_segments_all_noY.DepMap_ID==i)]) for i in set(wgs_segments_all.DepMap_ID)}"
   ]
  },
  {
   "cell_type": "code",
   "execution_count": null,
   "metadata": {},
   "outputs": [],
   "source": [
    "sns.distplot(list(count_wgs.values()), bins=200)"
   ]
  },
  {
   "cell_type": "code",
   "execution_count": null,
   "metadata": {},
   "outputs": [],
   "source": [
    "wgs_segments_all_Y = wgs_segments_all[wgs_segments_all.Chromosome=='Y']"
   ]
  },
  {
   "cell_type": "code",
   "execution_count": null,
   "metadata": {},
   "outputs": [],
   "source": [
    "count_wgs = {i: len(wgs_segments_all_Y[(wgs_segments_all_Y.DepMap_ID==i)]) for i in set(wgs_segments_all.DepMap_ID)}"
   ]
  },
  {
   "cell_type": "code",
   "execution_count": null,
   "metadata": {},
   "outputs": [],
   "source": [
    "import matplotlib.pyplot as plt"
   ]
  },
  {
   "cell_type": "code",
   "execution_count": null,
   "metadata": {},
   "outputs": [],
   "source": [
    "sns.distplot(list(count_wgs.values()), bins=600)\n",
    "plt.xlim(0, 100)"
   ]
  },
  {
   "cell_type": "code",
   "execution_count": null,
   "metadata": {},
   "outputs": [],
   "source": [
    "Counter(ccle.loc[[i for i, v in count_wgs.items() if v < 150],'sex'])"
   ]
  },
  {
   "cell_type": "code",
   "execution_count": null,
   "metadata": {},
   "outputs": [],
   "source": [
    "## drop all Y chromosome calls if more than 150 segments"
   ]
  }
 ],
 "metadata": {
  "kernelspec": {
   "display_name": "Python 3",
   "language": "python",
   "name": "python3"
  },
  "language_info": {
   "codemirror_mode": {
    "name": "ipython",
    "version": 3
   },
   "file_extension": ".py",
   "mimetype": "text/x-python",
   "name": "python",
   "nbconvert_exporter": "python",
   "pygments_lexer": "ipython3",
   "version": "3.8.12"
  },
  "latex_envs": {
   "LaTeX_envs_menu_present": true,
   "autoclose": false,
   "autocomplete": true,
   "bibliofile": "biblio.bib",
   "cite_by": "apalike",
   "current_citInitial": 1,
   "eqLabelWithNumbers": true,
   "eqNumInitial": 1,
   "hotkeys": {
    "equation": "Ctrl-E",
    "itemize": "Ctrl-I"
   },
   "labels_anchors": false,
   "latex_user_defs": false,
   "report_style_numbering": false,
   "user_envs_cfg": false
  },
  "toc": {
   "base_numbering": 1,
   "nav_menu": {},
   "number_sections": true,
   "sideBar": true,
   "skip_h1_title": false,
   "title_cell": "Table of Contents",
   "title_sidebar": "Contents",
   "toc_cell": false,
   "toc_position": {},
   "toc_section_display": true,
   "toc_window_display": false
  },
  "varInspector": {
   "cols": {
    "lenName": 16,
    "lenType": 16,
    "lenVar": 40
   },
   "kernels_config": {
    "python": {
     "delete_cmd_postfix": "",
     "delete_cmd_prefix": "del ",
     "library": "var_list.py",
     "varRefreshCmd": "print(var_dic_list())"
    },
    "r": {
     "delete_cmd_postfix": ") ",
     "delete_cmd_prefix": "rm(",
     "library": "var_list.r",
     "varRefreshCmd": "cat(var_dic_list()) "
    }
   },
   "types_to_exclude": [
    "module",
    "function",
    "builtin_function_or_method",
    "instance",
    "_Feature"
   ],
   "window_display": false
  }
 },
 "nbformat": 4,
 "nbformat_minor": 2
}
