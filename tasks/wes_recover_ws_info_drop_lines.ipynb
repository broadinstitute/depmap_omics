{
 "cells": [
  {
   "cell_type": "code",
   "execution_count": null,
   "id": "3302b27c",
   "metadata": {},
   "outputs": [],
   "source": [
    "# certain pair/sample set info was accidentally removed\n",
    "# this notebook reverted those changes and removed samples we want to remove due to various issues\n",
    "# see https://app.asana.com/0/478455687490660/1201271559247444/f\n",
    "import dalmatian as dm\n",
    "\n",
    "sandbox2ws = 'broad-firecloud-ccle/DepMap_WES_CN_hg38-sandbox2'\n",
    "sandbox2wm = dm.WorkspaceManager(sandbox2ws).disable_hound()"
   ]
  },
  {
   "cell_type": "code",
   "execution_count": null,
   "id": "7e8ca9be",
   "metadata": {},
   "outputs": [],
   "source": [
    "sandbox1ws = 'broad-firecloud-ccle/DepMap_WES_CN_hg38'\n",
    "sandbox1wm = dm.WorkspaceManager(sandbox1ws).disable_hound()"
   ]
  },
  {
   "cell_type": "code",
   "execution_count": null,
   "id": "a93a6969",
   "metadata": {},
   "outputs": [],
   "source": [
    "sb2pairs = sandbox2wm.get_pairs()\n",
    "sb1pairs = sandbox1wm.get_pairs()"
   ]
  },
  {
   "cell_type": "code",
   "execution_count": null,
   "id": "28c8c481",
   "metadata": {},
   "outputs": [],
   "source": [
    "pairstoadd = sb2pairs[~sb2pairs.index.isin(sb1pairs.index)]\n",
    "pairstoadd"
   ]
  },
  {
   "cell_type": "code",
   "execution_count": null,
   "id": "be4867b5",
   "metadata": {},
   "outputs": [],
   "source": [
    "sandbox1wm.upload_entities('pair', pairstoadd)"
   ]
  },
  {
   "cell_type": "code",
   "execution_count": null,
   "id": "d58cc531",
   "metadata": {},
   "outputs": [],
   "source": [
    "sandbox1wm.get_sample_sets()"
   ]
  },
  {
   "cell_type": "code",
   "execution_count": null,
   "id": "0b69ab20",
   "metadata": {},
   "outputs": [],
   "source": [
    "for s in sandbox1wm.get_sample_sets().index:\n",
    "    sam = sandbox2wm.get_sample_sets().loc[s, 'samples']\n",
    "    sandbox1wm.update_sample_set(sample_set_id=s, sample_ids=sam)"
   ]
  },
  {
   "cell_type": "code",
   "execution_count": null,
   "id": "3326f49a",
   "metadata": {},
   "outputs": [],
   "source": [
    "for s in sandbox1wm.get_pair_sets().index:\n",
    "    pairs = sandbox2wm.get_pair_sets().loc[s, 'pairs']\n",
    "    sandbox1wm.update_pair_set(pair_set_id=s, pair_ids=pairs)"
   ]
  },
  {
   "cell_type": "code",
   "execution_count": null,
   "id": "76342aaa",
   "metadata": {},
   "outputs": [],
   "source": [
    "from genepy import terra\n",
    "\n",
    "samples_to_remove = {'CDS-NE61ys', 'CDS-YANwQB', 'CDS-ywnbJT', 'CDS-P4ZoH4', 'CDS-d2xe4x', 'CDS-A7rsOJ', 'CDS-CCAK2f', 'CDS-ezLdbO', 'CDS-TUYedU', 'CDS-GNOJc5', 'CDS-P5LOnq'}\n",
    "\n",
    "terra.removeSamples(sandbox1ws, samples_to_remove)"
   ]
  },
  {
   "cell_type": "code",
   "execution_count": null,
   "id": "907ee3c6",
   "metadata": {},
   "outputs": [],
   "source": [
    "# since we are using pair and pair_set for WES from now on,\n",
    "# we need to run aggreate_CN on pair_set = all\n",
    "# sanger lines have been rerun as pairs, and\n",
    "# the following steps move non-sanger line's seg files over to the pairs page\n",
    "\n",
    "sandbox1ws = 'broad-firecloud-ccle/DepMap_WES_CN_hg38'\n",
    "sandbox1wm = dm.WorkspaceManager(sandbox1ws).disable_hound()\n",
    "\n",
    "wespairs = sandbox1wm.get_pairs()\n",
    "wessamples = sandbox1wm.get_samples()"
   ]
  },
  {
   "cell_type": "code",
   "execution_count": null,
   "id": "678f8381",
   "metadata": {},
   "outputs": [],
   "source": [
    "wespairs[wespairs.called_copy_ratio_segments_tumor.isnull()].index"
   ]
  },
  {
   "cell_type": "code",
   "execution_count": null,
   "id": "5e1e64ea",
   "metadata": {},
   "outputs": [],
   "source": [
    "wessamples[wessamples.called_copy_ratio_segments_tumor.isnull()].index"
   ]
  },
  {
   "cell_type": "code",
   "execution_count": null,
   "id": "7bc20234",
   "metadata": {},
   "outputs": [],
   "source": [
    "str(wessamples.loc['CDS-pgiLpD', 'called_copy_ratio_segments_tumor'])"
   ]
  },
  {
   "cell_type": "code",
   "execution_count": null,
   "id": "30e6b1a0",
   "metadata": {},
   "outputs": [],
   "source": [
    "for p in wespairs[wespairs.called_copy_ratio_segments_tumor.isnull()].index:\n",
    "    i = p.split('_')[0]\n",
    "    if str(wessamples.loc[i, 'called_copy_ratio_segments_tumor']) != 'nan':\n",
    "        wespairs.loc[p, 'called_copy_ratio_segments_tumor'] = wessamples.loc[i, 'called_copy_ratio_segments_tumor']\n",
    "    else:\n",
    "        print(i)"
   ]
  },
  {
   "cell_type": "code",
   "execution_count": null,
   "id": "7af47d12",
   "metadata": {},
   "outputs": [],
   "source": [
    "sandbox1wm.update_entity_attributes('pair', wespairs)"
   ]
  },
  {
   "cell_type": "code",
   "execution_count": null,
   "id": "bec16d9f",
   "metadata": {},
   "outputs": [],
   "source": []
  },
  {
   "cell_type": "code",
   "execution_count": null,
   "id": "1c4f4fd0",
   "metadata": {},
   "outputs": [],
   "source": []
  },
  {
   "cell_type": "code",
   "execution_count": null,
   "id": "93f8dbba",
   "metadata": {},
   "outputs": [],
   "source": []
  },
  {
   "cell_type": "code",
   "execution_count": null,
   "id": "98193f3f",
   "metadata": {},
   "outputs": [],
   "source": []
  }
 ],
 "metadata": {
  "kernelspec": {
   "display_name": "Python 3",
   "language": "python",
   "name": "python3"
  },
  "language_info": {
   "codemirror_mode": {
    "name": "ipython",
    "version": 3
   },
   "file_extension": ".py",
   "mimetype": "text/x-python",
   "name": "python",
   "nbconvert_exporter": "python",
   "pygments_lexer": "ipython3",
   "version": "3.8.2"
  }
 },
 "nbformat": 4,
 "nbformat_minor": 5
}
