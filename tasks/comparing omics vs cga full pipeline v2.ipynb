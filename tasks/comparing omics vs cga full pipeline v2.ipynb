{
 "cells": [
  {
   "cell_type": "code",
   "execution_count": null,
   "metadata": {},
   "outputs": [],
   "source": [
    "from genepy.google import gcp\n",
    "import pandas as pd\n",
    "from depmapomics.tracker import initTracker, SampleTracker\n",
    "from depmapomics.config_prod import *\n",
    "from taigapy import TaigaClient\n",
    "tc = TaigaClient()\n",
    "%load_ext autoreload\n",
    "%autoreload 2"
   ]
  },
  {
   "cell_type": "code",
   "execution_count": null,
   "metadata": {},
   "outputs": [],
   "source": [
    "track = SampleTracker(\n",
    "        my_id=MY_ID,\n",
    "        mystorage_id=MYSTORAGE_ID,\n",
    "        sheetcreds=SHEETCREDS,\n",
    "        refsheet_url=REFSHEET_URL,\n",
    "        depmap_pv=DEPMAP_PV,\n",
    "        samples_not_found_url=\"https://docs.google.com/spreadsheets/d/1yC3brpov3JELvzNoQe3eh0W196tfXzvpa0jUezMAxIg\",\n",
    "        samples_missing_arxspan_url=\"https://docs.google.com/spreadsheets/d/1htfgpXrMvXDlqbcZltpq6vOE_Vo2YZ3-3mdaXV-Irzk\",\n",
    "        gumbo_url='https://docs.google.com/spreadsheets/d/10Lg0xkT5OHLYgJ9VKpkh8VR64TXfxPVJXRVAckU8uBg',\n",
    "        gumbo_sheetname=\"Backfilled profile IDs\",\n",
    "    )"
   ]
  },
  {
   "cell_type": "markdown",
   "metadata": {},
   "source": [
    "## updating the pipeline"
   ]
  },
  {
   "cell_type": "code",
   "execution_count": null,
   "metadata": {},
   "outputs": [],
   "source": [
    "tracker = track.read_tracker()"
   ]
  },
  {
   "cell_type": "code",
   "execution_count": null,
   "metadata": {},
   "outputs": [],
   "source": [
    "rn = {u: v['arxspan_id'] for u,v in tracker[['arxspan_id']].iterrows()}"
   ]
  },
  {
   "cell_type": "code",
   "execution_count": null,
   "metadata": {},
   "outputs": [],
   "source": [
    "import dalmatian as dm\n",
    "wm = dm.WorkspaceManager(\"broad-firecloud-ccle/DepMap_WES_CN_hg38\")"
   ]
  },
  {
   "cell_type": "code",
   "execution_count": null,
   "metadata": {},
   "outputs": [],
   "source": [
    "samp = wm.get_samples()"
   ]
  },
  {
   "cell_type": "markdown",
   "metadata": {},
   "source": [
    "## making the files"
   ]
  },
  {
   "cell_type": "code",
   "execution_count": null,
   "metadata": {},
   "outputs": [],
   "source": [
    "oldmaf = pd.read_csv(dm.WorkspaceManager('broad-firecloud-ccle/DepMap_Mutation_Calling_CGA_pipeline').get_sample_sets().loc['all','filtered_CGA_MAF_aggregated'], sep='\\t')"
   ]
  },
  {
   "cell_type": "code",
   "execution_count": null,
   "metadata": {},
   "outputs": [],
   "source": [
    "oldmaf"
   ]
  },
  {
   "cell_type": "code",
   "execution_count": null,
   "metadata": {},
   "outputs": [],
   "source": [
    "res = []\n",
    "for file in samp[~samp.depmap_maf.isna()].depmap_maf.tolist():\n",
    "    maf = pd.read_csv(file)\n",
    "    maf[\"sample_id\"] = file.split('/')[-1].split('-maf-')[0]\n",
    "    res.append(maf)\n",
    "res = pd.concat(res)"
   ]
  },
  {
   "cell_type": "code",
   "execution_count": null,
   "metadata": {},
   "outputs": [],
   "source": [
    "oldmaf"
   ]
  },
  {
   "cell_type": "code",
   "execution_count": null,
   "metadata": {},
   "outputs": [],
   "source": [
    "oldmaf = oldmaf.rename(columns={'Chromosome':'chrom', 'Start_position':'start','Tumor_Sample_Barcode': 'sample_id', 'Reference_Allele': 'ref', 'Tumor_Seq_Allele2': 'alt'})"
   ]
  },
  {
   "cell_type": "code",
   "execution_count": null,
   "metadata": {},
   "outputs": [],
   "source": [
    "oldmaf = oldmaf[oldmaf.sample_id.isin(set(res[\"sample_id\"]))]"
   ]
  },
  {
   "cell_type": "code",
   "execution_count": null,
   "metadata": {},
   "outputs": [],
   "source": [
    "res = res[res[\"sample_id\"].isin(set(oldmaf.sample_id))]"
   ]
  },
  {
   "cell_type": "code",
   "execution_count": null,
   "metadata": {},
   "outputs": [],
   "source": [
    "len(set(oldmaf.sample_id)), len(set(res[\"sample_id\"]))"
   ]
  },
  {
   "cell_type": "code",
   "execution_count": null,
   "metadata": {},
   "outputs": [],
   "source": [
    "res.to_csv('data/new.csv', index=False)"
   ]
  },
  {
   "cell_type": "code",
   "execution_count": null,
   "metadata": {},
   "outputs": [],
   "source": [
    "res.iloc[:70000].replace({'sample_id':rn}).to_csv('data/newmaf_subset.csv.gz', index=False)"
   ]
  },
  {
   "cell_type": "code",
   "execution_count": null,
   "metadata": {},
   "outputs": [],
   "source": [
    "res = pd.read_csv('data/new.csv')"
   ]
  },
  {
   "cell_type": "code",
   "execution_count": null,
   "metadata": {},
   "outputs": [],
   "source": [
    "res"
   ]
  },
  {
   "cell_type": "markdown",
   "metadata": {},
   "source": [
    "## converting"
   ]
  },
  {
   "cell_type": "code",
   "execution_count": null,
   "metadata": {},
   "outputs": [],
   "source": [
    "from liftover import get_lifter\n",
    "converter = get_lifter('hg19', 'hg38')"
   ]
  },
  {
   "cell_type": "code",
   "execution_count": null,
   "metadata": {},
   "outputs": [],
   "source": [
    "new = []\n",
    "for (chrom,pos) in oldmaf[['chrom','start']].values:\n",
    "    d = converter[chrom][pos]\n",
    "    if len(d)>0:\n",
    "        new.append(list(d[0])[:2])\n",
    "    else:\n",
    "        new.append([chrom,pos])\n",
    "    \n",
    "oldmaf[['chrom','start']] = np.array(new)"
   ]
  },
  {
   "cell_type": "code",
   "execution_count": null,
   "metadata": {},
   "outputs": [],
   "source": [
    "print(len(oldmaf))\n",
    "oldmaf = oldmaf[oldmaf['tumor_f']>=0.15]\n",
    "print(len(oldmaf))"
   ]
  },
  {
   "cell_type": "code",
   "execution_count": null,
   "metadata": {},
   "outputs": [],
   "source": [
    "oldmaf = oldmaf.drop(columns=['Center',  'NCBI_Build', 'End_position', 'Strand', 'PASS', 'dbSNP_Val_Status','dbSNP_RS', 'Tumor_Seq_Allele1'])"
   ]
  },
  {
   "cell_type": "code",
   "execution_count": null,
   "metadata": {},
   "outputs": [],
   "source": [
    "oldmaf[oldmaf['Variant_Type']=='INS']"
   ]
  },
  {
   "cell_type": "code",
   "execution_count": null,
   "metadata": {},
   "outputs": [],
   "source": [
    "res.loc[res['variant_type']=='DEL', 'alt'] = '-'\n",
    "res.loc[res['variant_type']=='DEL', 'ref'] = res.loc[res['variant_type']=='DEL', 'ref'].str[1:]\n",
    "res.loc[res['variant_type']=='DEL', 'pos'] = res.loc[res['variant_type']=='DEL', 'pos']+1"
   ]
  },
  {
   "cell_type": "code",
   "execution_count": null,
   "metadata": {},
   "outputs": [],
   "source": [
    "res.loc[res['variant_type']=='INS', 'ref'] = '-'\n",
    "res.loc[res['variant_type']=='INS', 'alt'] = res.loc[res['variant_type']=='INS', 'alt'].str[1:]\n",
    "res.loc[res['variant_type']=='INS', 'pos'] = res.loc[res['variant_type']=='INS', 'pos']+1"
   ]
  },
  {
   "cell_type": "code",
   "execution_count": null,
   "metadata": {},
   "outputs": [],
   "source": [
    "res['locat'] = res.sample_id+\":\"+res.chrom+\":\"+res.pos.astype(str)\n",
    "res['id'] = res.locat + \":\"+res.alt\n",
    "\n",
    "oldmaf['locat'] = oldmaf.sample_id+ ':'+oldmaf.chrom.astype(str) + \":\" + oldmaf.start.astype(str)\n",
    "oldmaf['id'] = oldmaf.locat + \":\"+oldmaf.alt"
   ]
  },
  {
   "cell_type": "code",
   "execution_count": null,
   "metadata": {},
   "outputs": [],
   "source": [
    "oldmaf = oldmaf.sort_values(by='locat')\n",
    "res = res.sort_values(by='locat')"
   ]
  },
  {
   "cell_type": "code",
   "execution_count": null,
   "metadata": {},
   "outputs": [],
   "source": [
    "oldmaf"
   ]
  },
  {
   "cell_type": "code",
   "execution_count": null,
   "metadata": {},
   "outputs": [],
   "source": [
    "res = res.drop_duplicates('locat')\n",
    "res"
   ]
  },
  {
   "cell_type": "markdown",
   "metadata": {},
   "source": [
    "## checking overlap"
   ]
  },
  {
   "cell_type": "code",
   "execution_count": null,
   "metadata": {},
   "outputs": [],
   "source": [
    "a = len(set(res.locat) & set(oldmaf.locat))\n",
    "b = len(set(res.locat) ^ set(oldmaf.locat))\n",
    "a / (a+b)"
   ]
  },
  {
   "cell_type": "code",
   "execution_count": null,
   "metadata": {},
   "outputs": [],
   "source": [
    "len(set(res.locat)),len(set(oldmaf.locat))"
   ]
  },
  {
   "cell_type": "code",
   "execution_count": null,
   "metadata": {},
   "outputs": [],
   "source": [
    "## twice as less cosmic hotspot on average than what we are supposed to have (cosmic info is not used to filter) !!!"
   ]
  },
  {
   "cell_type": "code",
   "execution_count": null,
   "metadata": {},
   "outputs": [],
   "source": [
    "oldmaf.isCOSMIChotspot.sum() / len(oldmaf)"
   ]
  },
  {
   "cell_type": "code",
   "execution_count": null,
   "metadata": {},
   "outputs": [],
   "source": [
    "oldmaf[oldmaf.locat.isin(set(oldmaf.locat)- set(res.locat))].reset_index().iloc[:].isCOSMIChotspot.sum() / len(oldmaf[oldmaf.locat.isin(set(oldmaf.locat)- set(res.locat))])"
   ]
  },
  {
   "cell_type": "code",
   "execution_count": null,
   "metadata": {},
   "outputs": [],
   "source": [
    "oldmaf[oldmaf.locat.isin(set(oldmaf.locat)- set(res.locat))].reset_index().iloc[181:210]"
   ]
  },
  {
   "cell_type": "code",
   "execution_count": null,
   "metadata": {},
   "outputs": [],
   "source": [
    "1. CDS-00rz9N:chr10:102416887\tclustered_event\n",
    "2. CDS-00rz9N:chr10:68969042\tDNP\n",
    "3. CDS-00rz9N:chr11:105002202\twrong mapping\n",
    "4. CDS-00rz9N:chr11:120424378\tgermline\n",
    "5. CDS-00rz9N:chr11:59212836\tgermline\n",
    "6. CDS-00rz9N:chr11:75668254\tbase_qual\n",
    "7. CDS-00rz9N:chr12:27780599\tconversion\n",
    "8. CDS-00rz9N:chr12:6748879\tconversion\n",
    "9. CDS-00rz9N:chr13:41131871\tgermline\n",
    "10.CDS-00rz9N:chr13:47988897\tgermline\n",
    "11.CDS-00rz9N:chr14:20060702\tgermline\n",
    "12.CDS-00rz9N:chr14:20401510\tgermline\n",
    "13.CDS-00rz9N:chr14:26595549\tgermline\n",
    "14.CDS-00rz9N:chr15:22909259\tconversion (+2)\n",
    "15.CDS-00rz9N:chr15:79923022\tconversion\n",
    "16.CDS-00rz9N:chr16:66912890\tnot detected by M2??A->C\n",
    "17.CDS-00rz9N:chr16:780252\tINTRON, not splice site\n",
    "18.CDS-00rz9N:chr16:89919794\tgermline\n",
    "19.CDS-00rz9N:chr17:28898692\tgermline. but likely driver.\n",
    "20.CDS-00rz9N:chr17:4672736\tgermline"
   ]
  },
  {
   "cell_type": "code",
   "execution_count": null,
   "metadata": {},
   "outputs": [],
   "source": [
    "parq = pd.read_parquet('gs://fc-secure-d2a2d895-a7af-4117-bdc7-652d7d268324/6001c090-b09a-4785-8b8a-33aa9c3a7ec6/omics_post_mutect2/6b5fc00b-2b07-4b26-967e-1b4386a7094f/call-my_vcf_to_depmap/glob-233ae0abbeccb769e7426b0faeb6b946/f2351d30fada4391a5f07110744e543e-0.parquet')"
   ]
  },
  {
   "cell_type": "code",
   "execution_count": null,
   "metadata": {},
   "outputs": [],
   "source": [
    "parq[(parq.chrom==\"chr16\")&(parq.pos>=780250)][[\"chrom\", \"variant_type\", \"variant_info\",\"pos\", \"ref\", \"alt\", \"map_qual\", \"slippage\", \"strand_bias\", \"weak_evidence\", \"clustered_events\", \"base_qual\", \"likely_lof\", \"likely_driver\", \"is_coding\", \"germline\", \"pon\", \"popaf\"]]"
   ]
  },
  {
   "cell_type": "code",
   "execution_count": null,
   "metadata": {},
   "outputs": [],
   "source": [
    "res[(res.chrom==\"chr16\")&(res.pos>=780100)].sort_values(by=['chrom','pos'])"
   ]
  },
  {
   "cell_type": "markdown",
   "metadata": {},
   "source": [
    "1. CDS-vaC7MY: ACH-000011: locat: 11:77934713 one wes rep. het-del in hg19. gene has been removed on hg38. and merged with another one at another location (78223667). still see the deletion there but was not picked to be in the maf as it was defined as germline by mutect2.\n",
    "\n",
    "\n",
    "2. CDS-wA1WJ8: ACH-002467:chr22:39,966,847: one wes rep: het del in hhg19. can be seen in exon 1 of CACNA1I: loc on hg38 is 39,570,753 and the del can be seen at 39,570,842. It has no reason to be filtered and exist under chhr22:39,966,846 according to the chain file. this is because in one it is given as AT->A instead of a T->-. dropping cases like these doesn't change the overlap amount much..\n",
    "\n",
    "3. CDS-uMD8jg:ACH-000038:chr4:188924749 only one wes rep: het SNP in hg19. can be seen in exon of ZFP42. in hg38 itss location is chr4:187,995,771. we can see the same G-A SNP in hg38 at location chr4:188,003,595. Doesn't exist in the mutect2 output. it is noted as germline and has no reasons to be whitelisted."
   ]
  },
  {
   "cell_type": "markdown",
   "metadata": {},
   "source": [
    "## looking at key mutations"
   ]
  },
  {
   "cell_type": "code",
   "execution_count": null,
   "metadata": {},
   "outputs": [],
   "source": [
    "res[res.hugo_symbol=='JAK2'][[ 'af','gt', 'variant_info',\n",
    "       'hugo_symbol','issues',\n",
    "       'achilles_top_genes', 'ccle_deleterious', 'cosmic_hotspot', 'lof', 'driver', 'likely_driver',\n",
    "       'transcript_likely_lof',\n",
    "       'popaf', 'likely_gof', 'likely_lof', 'hess_driver',\n",
    "       'sample_id']].iloc[:50]"
   ]
  },
  {
   "cell_type": "code",
   "execution_count": null,
   "metadata": {},
   "outputs": [],
   "source": [
    "# we have more known mutations (only found not was CEBPA)\n",
    "print('gene', 'new', 'old')\n",
    "print('JAK2:',len(res[res.hugo_symbol=='JAK2']),len(oldmaf[oldmaf.Hugo_Symbol=='JAK2']))\n",
    "print('EGFR:',len(res[res.hugo_symbol=='EGFR']),len(oldmaf[oldmaf.Hugo_Symbol=='EGFR']))\n",
    "print('BRAF:',len(res[res.hugo_symbol=='BRAF']),len(oldmaf[oldmaf.Hugo_Symbol=='BRAF']))\n",
    "print('VHL:',len(res[res.hugo_symbol=='VHL']),len(oldmaf[oldmaf.Hugo_Symbol=='VHL']))\n",
    "print('FLT3:',len(res[res.hugo_symbol=='FLT3']),len(oldmaf[oldmaf.Hugo_Symbol=='FLT3']))\n",
    "print('MEF2D:',len(res[res.hugo_symbol=='MEF2D']),len(oldmaf[oldmaf.Hugo_Symbol=='MEF2D']))\n",
    "print('KRAS:',len(res[res.hugo_symbol=='KRAS']),len(oldmaf[oldmaf.Hugo_Symbol=='KRAS']))\n",
    "print('BRCA2:',len(res[res.hugo_symbol=='BRCA2']),len(oldmaf[oldmaf.Hugo_Symbol=='BRCA2']))\n",
    "print('TP53:',len(res[res.hugo_symbol=='TP53']),len(oldmaf[oldmaf.Hugo_Symbol=='TP53']))"
   ]
  },
  {
   "cell_type": "code",
   "execution_count": null,
   "metadata": {},
   "outputs": [],
   "source": [
    "of these: what is the significance freq"
   ]
  },
  {
   "cell_type": "code",
   "execution_count": null,
   "metadata": {},
   "outputs": [],
   "source": [
    "Achilles_gene_dependency = tc.get(name='depmap-a0ab', version=116, file='Achilles_gene_dependency')"
   ]
  },
  {
   "cell_type": "code",
   "execution_count": null,
   "metadata": {},
   "outputs": [],
   "source": [
    "Achilles_gene_dependency.columns = [i.split(' (')[0] for i in Achilles_gene_dependency.columns]"
   ]
  },
  {
   "cell_type": "code",
   "execution_count": null,
   "metadata": {},
   "outputs": [],
   "source": [
    "import seaborn as sns\n",
    "import matplotlib.pyplot as plt\n",
    "from scipy.stats import ttest_ind"
   ]
  },
  {
   "cell_type": "markdown",
   "metadata": {},
   "source": [
    "## KRAS"
   ]
  },
  {
   "cell_type": "code",
   "execution_count": null,
   "metadata": {},
   "outputs": [],
   "source": [
    "datanew = Achilles_gene_dependency[['KRAS']].rename(columns={'KRAS':'KRAS_dep_score'})\n",
    "datanew['KRAS_lof']=False\n",
    "datanew['type']=\"new\"\n",
    "datanew.loc[list(set([rn[i] for i in res[(res.hugo_symbol=='KRAS') & ((res.likely_lof==\"Y\")|(res.ccle_deleterious==\"Y\"))].sample_id]) &set(datanew.index)), \"KRAS_lof\"]=True\n",
    "\n",
    "dataold = Achilles_gene_dependency[['KRAS']].rename(columns={'KRAS':'KRAS_dep_score'})\n",
    "dataold['KRAS_lof']=False\n",
    "dataold['type']=\"old\"\n",
    "dataold.loc[list(set([rn[i] for i in oldmaf[(oldmaf.Hugo_Symbol=='KRAS') & (oldmaf.isDeleterious)].sample_id]) & set(dataold.index)), \"KRAS_lof\"]=True"
   ]
  },
  {
   "cell_type": "code",
   "execution_count": null,
   "metadata": {},
   "outputs": [],
   "source": [
    "dataold.KRAS_lof.sum(), datanew.KRAS_lof.sum()"
   ]
  },
  {
   "cell_type": "code",
   "execution_count": null,
   "metadata": {},
   "outputs": [],
   "source": [
    "sns.violinplot(data=datanew, x=\"KRAS_lof\", y=\"KRAS_dep_score\")\n",
    "plt.show()"
   ]
  },
  {
   "cell_type": "code",
   "execution_count": null,
   "metadata": {},
   "outputs": [],
   "source": [
    "sns.violinplot(data=dataold, x=\"KRAS_lof\", y=\"KRAS_dep_score\")\n",
    "plt.show()"
   ]
  },
  {
   "cell_type": "code",
   "execution_count": null,
   "metadata": {},
   "outputs": [],
   "source": [
    "stat, p_value = ttest_ind(datanew.loc[datanew['KRAS_lof'], 'KRAS_dep_score'].tolist(), datanew.loc[~datanew['KRAS_lof'], 'KRAS_dep_score'].tolist())\n",
    "print(f\"NEW:\\nt-test: statistic={stat:.4f}, p-value={p_value:.4f}\\n\")\n",
    "\n",
    "stat, p_value = ttest_ind(dataold.loc[dataold['KRAS_lof'], 'KRAS_dep_score'].tolist(), dataold.loc[~dataold['KRAS_lof'], 'KRAS_dep_score'].tolist())\n",
    "print(f\"OLD:\\nt-test: statistic={stat:.4f}, p-value={p_value:.4f}\")"
   ]
  },
  {
   "cell_type": "markdown",
   "metadata": {},
   "source": [
    "## TP53"
   ]
  },
  {
   "cell_type": "code",
   "execution_count": null,
   "metadata": {},
   "outputs": [],
   "source": [
    "datanew = Achilles_gene_dependency[['MDM2']].rename(columns={'MDM2':'MDM2_dep_score'})\n",
    "datanew['TP53_lof']=False\n",
    "datanew['type']=\"new\"\n",
    "datanew.loc[list(set([rn[i] for i in res[(res.hugo_symbol=='TP53') & ((res.likely_lof==\"Y\")|(res.ccle_deleterious==\"Y\"))].sample_id]) &set(datanew.index)), \"TP53_lof\"]=True\n",
    "\n",
    "dataold = Achilles_gene_dependency[['MDM2']].rename(columns={'MDM2':'MDM2_dep_score'})\n",
    "dataold['TP53_lof']=False\n",
    "dataold['type']=\"old\"\n",
    "dataold.loc[list(set([rn[i] for i in oldmaf[(oldmaf.Hugo_Symbol=='TP53') & (oldmaf.isDeleterious)].sample_id]) & set(dataold.index)), \"TP53_lof\"]=True"
   ]
  },
  {
   "cell_type": "code",
   "execution_count": null,
   "metadata": {},
   "outputs": [],
   "source": [
    "dataold.TP53_lof.sum(), datanew.TP53_lof.sum()"
   ]
  },
  {
   "cell_type": "code",
   "execution_count": null,
   "metadata": {},
   "outputs": [],
   "source": [
    "sns.violinplot(data=datanew, x=\"TP53_lof\", y=\"MDM2_dep_score\")\n",
    "plt.show()"
   ]
  },
  {
   "cell_type": "code",
   "execution_count": null,
   "metadata": {},
   "outputs": [],
   "source": [
    "sns.violinplot(data=dataold, x=\"TP53_lof\", y=\"MDM2_dep_score\")\n",
    "plt.show()"
   ]
  },
  {
   "cell_type": "code",
   "execution_count": null,
   "metadata": {},
   "outputs": [],
   "source": [
    "stat, p_value = ttest_ind(datanew.loc[datanew['TP53_lof'], 'MDM2_dep_score'].tolist(), datanew.loc[~datanew['TP53_lof'], 'MDM2_dep_score'].tolist())\n",
    "print(f\"NEW:\\nt-test: statistic={stat:.4f}, p-value={p_value:.4f}\\n\")\n",
    "\n",
    "stat, p_value = ttest_ind(dataold.loc[dataold['TP53_lof'], 'MDM2_dep_score'].tolist(), dataold.loc[~dataold['TP53_lof'], 'MDM2_dep_score'].tolist())\n",
    "print(f\"OLD:\\nt-test: statistic={stat:.4f}, p-value={p_value:.4f}\")"
   ]
  },
  {
   "cell_type": "markdown",
   "metadata": {},
   "source": [
    "## RB1 w/ E2F3 dep"
   ]
  },
  {
   "cell_type": "code",
   "execution_count": null,
   "metadata": {},
   "outputs": [],
   "source": [
    "datanew = Achilles_gene_dependency[['E2F3']].rename(columns={'E2F3':'E2F3_dep_score'})\n",
    "datanew['RB1_lof']=False\n",
    "datanew['type']=\"new\"\n",
    "datanew.loc[list(set([rn[i] for i in res[(res.hugo_symbol=='RB1') & ((res.likely_lof==\"Y\") |(res.ccle_deleterious==\"Y\"))].sample_id]) &set(datanew.index)), \"RB1_lof\"]=True\n",
    "\n",
    "dataold = Achilles_gene_dependency[['E2F3']].rename(columns={'E2F3':'E2F3_dep_score'})\n",
    "dataold['RB1_lof']=False\n",
    "dataold['type']=\"old\"\n",
    "dataold.loc[list(set([rn[i] for i in oldmaf[(oldmaf.Hugo_Symbol=='RB1') & (oldmaf.isDeleterious)].sample_id]) & set(dataold.index)), \"RB1_lof\"]=True"
   ]
  },
  {
   "cell_type": "code",
   "execution_count": null,
   "metadata": {},
   "outputs": [],
   "source": [
    "dataold.RB1_lof.sum(), datanew.RB1_lof.sum()"
   ]
  },
  {
   "cell_type": "code",
   "execution_count": null,
   "metadata": {},
   "outputs": [],
   "source": [
    "sns.violinplot(data=datanew, x=\"RB1_lof\", y=\"E2F3_dep_score\")\n",
    "plt.show()"
   ]
  },
  {
   "cell_type": "code",
   "execution_count": null,
   "metadata": {},
   "outputs": [],
   "source": [
    "sns.violinplot(data=dataold, x=\"RB1_lof\", y=\"E2F3_dep_score\")\n",
    "plt.show()"
   ]
  },
  {
   "cell_type": "code",
   "execution_count": null,
   "metadata": {},
   "outputs": [],
   "source": [
    "stat, p_value = ttest_ind(datanew.loc[datanew['RB1_lof'], 'E2F3_dep_score'].tolist(), datanew.loc[~datanew['RB1_lof'], 'E2F3_dep_score'].tolist())\n",
    "print(f\"NEW:\\nt-test: statistic={stat:.4f}, p-value={p_value:.4f}\\n\")\n",
    "\n",
    "stat, p_value = ttest_ind(dataold.loc[dataold['RB1_lof'], 'E2F3_dep_score'].tolist(), dataold.loc[~dataold['RB1_lof'], 'E2F3_dep_score'].tolist())\n",
    "print(f\"OLD:\\nt-test: statistic={stat:.4f}, p-value={p_value:.4f}\")"
   ]
  },
  {
   "cell_type": "markdown",
   "metadata": {},
   "source": [
    "## BRAF w/ BRAF dep"
   ]
  },
  {
   "cell_type": "code",
   "execution_count": null,
   "metadata": {},
   "outputs": [],
   "source": [
    "datanew = Achilles_gene_dependency[['BRAF']].rename(columns={'BRAF':'BRAF_dep_score'})\n",
    "datanew['BRAF_lof']=False\n",
    "datanew['type']=\"new\"\n",
    "datanew.loc[list(set([rn[i] for i in res[(res.hugo_symbol=='BRAF') & ((res.likely_lof==\"Y\") | (res.ccle_deleterious=='Y'))].sample_id]) &set(datanew.index)), \"BRAF_lof\"]=True\n",
    "\n",
    "dataold = Achilles_gene_dependency[['BRAF']].rename(columns={'BRAF':'BRAF_dep_score'})\n",
    "dataold['BRAF_lof']=False\n",
    "dataold['type']=\"old\"\n",
    "dataold.loc[list(set([rn[i] for i in oldmaf[(oldmaf.Hugo_Symbol=='BRAF') & (oldmaf.isDeleterious)].sample_id]) & set(dataold.index)), \"BRAF_lof\"]=True"
   ]
  },
  {
   "cell_type": "code",
   "execution_count": null,
   "metadata": {},
   "outputs": [],
   "source": [
    "dataold.BRAF_lof.sum(), datanew.BRAF_lof.sum()"
   ]
  },
  {
   "cell_type": "code",
   "execution_count": null,
   "metadata": {},
   "outputs": [],
   "source": [
    "sns.violinplot(data=datanew, x=\"BRAF_lof\", y=\"BRAF_dep_score\")\n",
    "plt.show()"
   ]
  },
  {
   "cell_type": "code",
   "execution_count": null,
   "metadata": {},
   "outputs": [],
   "source": [
    "sns.violinplot(data=dataold, x=\"BRAF_lof\", y=\"BRAF_dep_score\")\n",
    "plt.show()"
   ]
  },
  {
   "cell_type": "code",
   "execution_count": null,
   "metadata": {},
   "outputs": [],
   "source": [
    "stat, p_value = ttest_ind(datanew.loc[datanew['BRAF_lof'], 'BRAF_dep_score'].tolist(), datanew.loc[~datanew['BRAF_lof'], 'BRAF_dep_score'].tolist())\n",
    "print(f\"NEW:\\nt-test: statistic={stat:.4f}, p-value={p_value:.4f}\\n\")\n",
    "\n",
    "stat, p_value = ttest_ind(dataold.loc[dataold['BRAF_lof'], 'BRAF_dep_score'].tolist(), dataold.loc[~dataold['BRAF_lof'], 'BRAF_dep_score'].tolist())\n",
    "print(f\"OLD:\\nt-test: statistic={stat:.4f}, p-value={p_value:.4f}\")"
   ]
  },
  {
   "cell_type": "markdown",
   "metadata": {},
   "source": [
    "#### In the 4 cases tested, the new method is better in 3. Adding the old method's annotation makes the results worst in 2."
   ]
  },
  {
   "cell_type": "markdown",
   "metadata": {},
   "source": [
    "## plotting files"
   ]
  },
  {
   "cell_type": "code",
   "execution_count": null,
   "metadata": {},
   "outputs": [],
   "source": [
    "converter[\"chr22\"][39570841]"
   ]
  },
  {
   "cell_type": "code",
   "execution_count": null,
   "metadata": {},
   "outputs": [],
   "source": [
    "res[res.cosmic_hotspot=='Y'].cosmic_overlapping_mutations"
   ]
  },
  {
   "cell_type": "code",
   "execution_count": null,
   "metadata": {},
   "outputs": [],
   "source": [
    "res.columns"
   ]
  },
  {
   "cell_type": "code",
   "execution_count": null,
   "metadata": {},
   "outputs": [],
   "source": []
  },
  {
   "cell_type": "code",
   "execution_count": null,
   "metadata": {},
   "outputs": [],
   "source": [
    "res[(res.sample_id=='ACH-002467') & (res.chrom=='chr22')]"
   ]
  },
  {
   "cell_type": "code",
   "execution_count": null,
   "metadata": {},
   "outputs": [],
   "source": [
    "pd.concat([res[res.locat.isin(set(res.locat) & set(CCLE_mutations.locat))].reset_index()[['alt', 'ref_count', 'alt_count', 'popaf', 'cosmic_hotspot', 'ccle_deleterious']], CCLE_mutations[CCLE_mutations.locat.isin(set(res.locat) & set(CCLE_mutations.locat))].reset_index()[['Alternate_Allele', 'isCOSMIChotspot', 'CGA_WES_AC', 'isDeleterious', 'locat']]],axis=1)"
   ]
  },
  {
   "cell_type": "code",
   "execution_count": null,
   "metadata": {},
   "outputs": [],
   "source": [
    "res[res.likely_driver=='Y']"
   ]
  },
  {
   "cell_type": "code",
   "execution_count": null,
   "metadata": {},
   "outputs": [],
   "source": [
    "CCLE_mutations"
   ]
  },
  {
   "cell_type": "markdown",
   "metadata": {},
   "source": [
    "## LOF matrices"
   ]
  },
  {
   "cell_type": "code",
   "execution_count": null,
   "metadata": {},
   "outputs": [],
   "source": [
    "from genepy.utils import helper as h"
   ]
  },
  {
   "cell_type": "code",
   "execution_count": null,
   "metadata": {},
   "outputs": [],
   "source": [
    "parqfiles = {'CDS-00Nrzi': ['gs://fc-secure-d2a2d895-a7af-4117-bdc7-652d7d268324/6001c090-b09a-4785-8b8a-33aa9c3a7ec6/omics_post_mutect2/6b5fc00b-2b07-4b26-967e-1b4386a7094f/call-my_vcf_to_depmap/glob-233ae0abbeccb769e7426b0faeb6b946/f2351d30fada4391a5f07110744e543e-0.parquet']}"
   ]
  },
  {
   "cell_type": "code",
   "execution_count": null,
   "metadata": {},
   "outputs": [],
   "source": [
    "import requests\n",
    "import json\n",
    "from liftover import get_lifter\n",
    "converter = get_lifter('hg19', 'hg38')"
   ]
  },
  {
   "cell_type": "code",
   "execution_count": null,
   "metadata": {},
   "outputs": [],
   "source": [
    "converter[\"chr\" + chrom_37][int(pos_37)]"
   ]
  },
  {
   "cell_type": "code",
   "execution_count": null,
   "metadata": {},
   "outputs": [],
   "source": [
    "records[:40]"
   ]
  },
  {
   "cell_type": "code",
   "execution_count": null,
   "metadata": {},
   "outputs": [],
   "source": [
    "set([i['type'] for i in records])"
   ]
  },
  {
   "cell_type": "code",
   "execution_count": null,
   "metadata": {},
   "outputs": [],
   "source": [
    "civicdata = {}\n",
    "page_url = 'https://civicdb.org/api/variants?count=500&page=1'\n",
    "while page_url is not None:\n",
    "    try:\n",
    "        r = requests.get(page_url, timeout=5)\n",
    "    except requests.exceptions.ConnectionError:\n",
    "        msg = 'ERROR: Incomplete CIVIC data load'\n",
    "        print(msg)\n",
    "        break\n",
    "    d = json.loads(r.text)\n",
    "    records = d['records']\n",
    "    page_url = d['_meta']['links']['next']\n",
    "    for variant in records:\n",
    "        print(varia)\n",
    "        chrom_37 = variant['coordinates']['chromosome']\n",
    "        pos_37 = variant['coordinates']['start']\n",
    "        new_coords = converter[\"chr\" + chrom_37][int(pos_37)]\n",
    "        if len(new_coords) > 0:\n",
    "            chrom_38 = new_coords[0][0].replace('chr','')\n",
    "            pos_38 = new_coords[0][1]\n",
    "        else:\n",
    "            continue\n",
    "        ref = variant['coordinates']['reference_bases']\n",
    "        alt = variant['coordinates']['variant_bases']\n",
    "        toks = [chrom_38, pos_38, ref, alt]\n",
    "        if None not in toks:\n",
    "            vkey = ':'.join(map(str, toks))\n",
    "            civicdata[vkey] = variant\n",
    "        else:\n",
    "            continue   "
   ]
  },
  {
   "cell_type": "code",
   "execution_count": null,
   "metadata": {},
   "outputs": [],
   "source": [
    "civicdata.keys()"
   ]
  },
  {
   "cell_type": "code",
   "execution_count": null,
   "metadata": {},
   "outputs": [],
   "source": [
    "val.hgnc_symbol.unique()"
   ]
  },
  {
   "cell_type": "code",
   "execution_count": null,
   "metadata": {},
   "outputs": [],
   "source": [
    "def makeMatrices(parqfiles, homin=0.95, **kwargs):\n",
    "    val = h.generateGeneNames()#.hugo_symbol.unique()\n",
    "    lof_mat = pd.DataFrame(index=val.hgnc_symbol.unique())\n",
    "    driver_mat = pd.DataFrame(index=val.hgnc_symbol.unique())\n",
    "    le = len(parqfiles)\n",
    "    for j, (sam, parq) in enumerate(parqfiles.items()):\n",
    "        h.showcount(i ,le)\n",
    "        parq = pd.concat([pd.read_parquet(par) for par in parq])\n",
    "        parq = parq[(parq.multiallelic!=\"Y\")]\n",
    "        parq = parq[(parq.af.astype(float)>=0.15)]\n",
    "        lof = parq[parq.likely_lof=='Y']\n",
    "        homlof = set(lof[lof['gt']=='1|1'].hugo_symbol)\n",
    "        for dup in h.dups(lof.hugo_symbol):\n",
    "            if lof[lof.hugo_symbol==dup]['af'].astype(float).sum() >= homin:\n",
    "                homlof.add(dup)\n",
    "        hetlof = set(lof.hugo_symbol)-homlof\n",
    "        lof_mat.loc[homlof, sam] = '2'\n",
    "        lof_mat.loc[hetlof, sam] = '1'\n",
    "        # driver\n",
    "        driver = parq[parq.civic_score!='']\n",
    "        homdriv = set(driver[driver['gt']=='1|1'].hugo_symbol)\n",
    "        for dup in h.dups(driver.hugo_symbol):\n",
    "            if driver[driver.hugo_symbol==dup]['af'].astype(float).sum() >= homin:\n",
    "                homdriv.add(dup)\n",
    "        hetdriv = set(driver.hugo_symbol)-homdriv\n",
    "        driver_mat.loc[homdriv, sam] = '2'\n",
    "        driver_mat.loc[hetdriv, sam] = '1'\n",
    "    lof_mat[lof_mat.isna().sum(1)<lof_mat.shape[1]]\n",
    "    driver_mat[driver_mat.isna().sum(1)<driver_mat.shape[1]]\n",
    "    return lof_mat, driver_mat"
   ]
  },
  {
   "cell_type": "code",
   "execution_count": null,
   "metadata": {},
   "outputs": [],
   "source": [
    "parqfiles = {}\n",
    "for k, v in samp[~samp.full_file.isna()].full_file.iteritems():\n",
    "    if rn[k] in parqfiles:\n",
    "        continue\n",
    "    else:\n",
    "        parqfiles[rn[k]] = v"
   ]
  },
  {
   "cell_type": "code",
   "execution_count": null,
   "metadata": {},
   "outputs": [],
   "source": [
    "samp = dm.WorkspaceManager('broad-firecloud-ccle/DepMap_WGS_CN').get_samples()"
   ]
  },
  {
   "cell_type": "code",
   "execution_count": null,
   "metadata": {},
   "outputs": [],
   "source": [
    "for k, v in samp[~samp.main_output.isna()].main_output.iteritems():\n",
    "    if rn[k] in parqfiles:\n",
    "        continue\n",
    "    else:\n",
    "        parqfiles[rn[k]] = v"
   ]
  },
  {
   "cell_type": "code",
   "execution_count": null,
   "metadata": {},
   "outputs": [],
   "source": [
    "len(parqfiles)"
   ]
  },
  {
   "cell_type": "code",
   "execution_count": null,
   "metadata": {},
   "outputs": [],
   "source": [
    "oldhugo = pd.read_csv('~/results.txt', sep='\\t')"
   ]
  },
  {
   "cell_type": "code",
   "execution_count": null,
   "metadata": {},
   "outputs": [],
   "source": [
    "remap = {b:a for a,b in oldhugo[~oldhugo['Previous symbol'].isna()].values}"
   ]
  },
  {
   "cell_type": "code",
   "execution_count": null,
   "metadata": {},
   "outputs": [],
   "source": [
    "val = h.generateGeneNames()#.hugo_symbol.unique()\n",
    "lof_mat = pd.DataFrame(index=val.hgnc_symbol.unique())\n",
    "driver_mat = pd.DataFrame(index=val.hgnc_symbol.unique())\n",
    "le = len(parqfiles)\n",
    "\n",
    "lof_mat=lof_mat.rename(index=remap)\n",
    "driver_mat=driver_mat.rename(index=remap)"
   ]
  },
  {
   "cell_type": "code",
   "execution_count": null,
   "metadata": {},
   "outputs": [],
   "source": [
    "homin = 0.95"
   ]
  },
  {
   "cell_type": "code",
   "execution_count": null,
   "metadata": {},
   "outputs": [],
   "source": [
    "j"
   ]
  },
  {
   "cell_type": "code",
   "execution_count": null,
   "metadata": {},
   "outputs": [],
   "source": [
    "ind = set(lof_mat.index)"
   ]
  },
  {
   "cell_type": "code",
   "execution_count": null,
   "metadata": {},
   "outputs": [],
   "source": [
    "failed = set()"
   ]
  },
  {
   "cell_type": "code",
   "execution_count": null,
   "metadata": {},
   "outputs": [],
   "source": [
    "failed"
   ]
  },
  {
   "cell_type": "code",
   "execution_count": null,
   "metadata": {},
   "outputs": [],
   "source": [
    "driver_mat = driver_mat.copy()\n",
    "lof_mat = lof_mat.copy()"
   ]
  },
  {
   "cell_type": "code",
   "execution_count": null,
   "metadata": {},
   "outputs": [],
   "source": [
    "parq['civic_score']"
   ]
  },
  {
   "cell_type": "code",
   "execution_count": null,
   "metadata": {},
   "outputs": [],
   "source": [
    "list(parqfiles.keys())[1682]"
   ]
  },
  {
   "cell_type": "code",
   "execution_count": null,
   "metadata": {},
   "outputs": [],
   "source": [
    "list(parqfiles.keys())[1683]"
   ]
  },
  {
   "cell_type": "code",
   "execution_count": null,
   "metadata": {},
   "outputs": [],
   "source": [
    "list(parqfiles.keys())[1683]"
   ]
  },
  {
   "cell_type": "code",
   "execution_count": null,
   "metadata": {},
   "outputs": [],
   "source": [
    "for j, (sam, parq) in enumerate(parqfiles.items()):\n",
    "    h.showcount(j ,le)\n",
    "    if j<1684:\n",
    "        continue\n",
    "    parq = pd.concat([pd.read_parquet(par) for par in parq])\n",
    "    if len(set(parq.multiallelic)) > 2 or len(set(parq.likely_lof))>2:\n",
    "        print(sam)\n",
    "        continue\n",
    "    parq = parq[(parq.multiallelic!=\"Y\")]\n",
    "    parq = parq[(parq.af.astype(float)>=0.15)]\n",
    "    lof = parq[parq.likely_lof=='Y']\n",
    "    homlof = set(lof[lof['gt']=='1|1'].hugo_symbol)\n",
    "    for dup in h.dups(lof.hugo_symbol):\n",
    "        if lof[lof.hugo_symbol==dup]['af'].astype(float).sum() >= homin:\n",
    "            homlof.add(dup)\n",
    "    hetlof = set(lof.hugo_symbol)-homlof\n",
    "    homlof = [remap[i] if i in remap else i for i in homlof]\n",
    "    hetlof = [remap[i] if i in remap else i for i in hetlof]\n",
    "    failed = failed | set(homlof) - ind\n",
    "    failed = failed | set(hetlof) - ind\n",
    "\n",
    "    lof_mat.loc[list(set(homlof)-failed), sam] = '2'\n",
    "    lof_mat.loc[list(set(hetlof)-failed), sam] = '1'\n",
    "    # driver\n",
    "    driver = parq[parq.civic_score!='']\n",
    "    homdriv = set(driver[driver['gt']=='1|1'].hugo_symbol)\n",
    "    for dup in h.dups(driver.hugo_symbol):\n",
    "        if driver[driver.hugo_symbol==dup]['af'].astype(float).sum() >= homin:\n",
    "            homdriv.add(dup)\n",
    "    hetdriv = set(driver.hugo_symbol)-homdriv\n",
    "    homdriv = [remap[i] if i in remap else i for i in homdriv]\n",
    "    hetdriv = [remap[i] if i in remap else i for i in hetdriv]\n",
    "    failed = failed | set(homdriv) - ind\n",
    "    failed = failed | set(homdriv) - ind\n",
    "    \n",
    "    driver_mat.loc[list(set(homdriv)-failed), sam] = '2'\n",
    "    driver_mat.loc[list(set(hetdriv)-failed), sam] = '1'\n",
    "    if (j+1)%50==0:\n",
    "        driver_mat = driver_mat.copy()\n",
    "        lof_mat = lof_mat.copy()\n",
    "lof_mat[lof_mat.isna().sum(1)<lof_mat.shape[1]]\n",
    "driver_mat[driver_mat.isna().sum(1)<driver_mat.shape[1]]"
   ]
  },
  {
   "cell_type": "code",
   "execution_count": null,
   "metadata": {},
   "outputs": [],
   "source": [
    "lof_mat[lof_mat.isna().sum(1)!=lof_mat.shape[1]].fillna('0').to_csv('lofmat.csv.gz')\n",
    "driver_mat[driver_mat.isna().sum(1)!=driver_mat.shape[1]].fillna('0').to_csv('driver_mat.csv.gz')"
   ]
  },
  {
   "cell_type": "code",
   "execution_count": null,
   "metadata": {},
   "outputs": [],
   "source": []
  }
 ],
 "metadata": {
  "kernelspec": {
   "display_name": "gae",
   "language": "python",
   "name": "gae"
  },
  "language_info": {
   "codemirror_mode": {
    "name": "ipython",
    "version": 3
   },
   "file_extension": ".py",
   "mimetype": "text/x-python",
   "name": "python",
   "nbconvert_exporter": "python",
   "pygments_lexer": "ipython3",
   "version": "3.8.12"
  },
  "latex_envs": {
   "LaTeX_envs_menu_present": true,
   "autoclose": false,
   "autocomplete": true,
   "bibliofile": "biblio.bib",
   "cite_by": "apalike",
   "current_citInitial": 1,
   "eqLabelWithNumbers": true,
   "eqNumInitial": 1,
   "hotkeys": {
    "equation": "Ctrl-E",
    "itemize": "Ctrl-I"
   },
   "labels_anchors": false,
   "latex_user_defs": false,
   "report_style_numbering": false,
   "user_envs_cfg": false
  },
  "toc": {
   "base_numbering": 1,
   "nav_menu": {},
   "number_sections": true,
   "sideBar": true,
   "skip_h1_title": false,
   "title_cell": "Table of Contents",
   "title_sidebar": "Contents",
   "toc_cell": false,
   "toc_position": {
    "height": "calc(100% - 180px)",
    "left": "10px",
    "top": "150px",
    "width": "165px"
   },
   "toc_section_display": true,
   "toc_window_display": true
  },
  "varInspector": {
   "cols": {
    "lenName": 16,
    "lenType": 16,
    "lenVar": 40
   },
   "kernels_config": {
    "python": {
     "delete_cmd_postfix": "",
     "delete_cmd_prefix": "del ",
     "library": "var_list.py",
     "varRefreshCmd": "print(var_dic_list())"
    },
    "r": {
     "delete_cmd_postfix": ") ",
     "delete_cmd_prefix": "rm(",
     "library": "var_list.r",
     "varRefreshCmd": "cat(var_dic_list()) "
    }
   },
   "types_to_exclude": [
    "module",
    "function",
    "builtin_function_or_method",
    "instance",
    "_Feature"
   ],
   "window_display": false
  }
 },
 "nbformat": 4,
 "nbformat_minor": 2
}
