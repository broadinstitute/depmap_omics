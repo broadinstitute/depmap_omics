{
 "cells": [
  {
   "cell_type": "code",
   "execution_count": null,
   "metadata": {},
   "outputs": [],
   "source": [
    "from genepy.epigenetics import chipseq as chip\n",
    "from genepy.utils import helper as h\n",
    "import pandas as pd\n",
    "import os \n",
    "import dalmatian as dm # give link to dalmatian\n",
    "from depmapomics.config_prod import *\n",
    "import multiprocessing\n",
    "from depmapomics import loading, tracker\n",
    "%load_ext autoreload\n",
    "%autoreload 2\n"
   ]
  },
  {
   "cell_type": "code",
   "execution_count": null,
   "metadata": {},
   "outputs": [],
   "source": [
    "! gsutil cp gs://fc-4a2230c7-3b51-4476-8c82-84c15d3962f8/filtering.bed /tmp/\n",
    "CORES=16"
   ]
  },
  {
   "cell_type": "code",
   "execution_count": null,
   "metadata": {},
   "outputs": [],
   "source": [
    "wm = dm.WorkspaceManager(WGSWORKSPACE)\n",
    "samp = wm.get_samples()\n",
    "vcfs = samp['cnn_filtered_vcf']\n",
    "vcfslist = vcfs[~vcfs.isna()].tolist()\n",
    "# load vcfs using dalmatian (column: cnn_filtered_vcf)\n",
    "h.createFoldersFor('/tmp/vcfs/')\n",
    "guides_bed = pd.read_csv(\"/tmp/filtering.bed\", sep='\\t', header=None, names=['chrom', 'start', 'end', 'foldchange'])"
   ]
  },
  {
   "cell_type": "code",
   "execution_count": null,
   "metadata": {},
   "outputs": [],
   "source": [
    "cmd = [\n",
    "\"gsutil cp \"+sam+\" /tmp/vcfs/\"+sam.split('/')[-1]+\"&& \\\n",
    " bcftools index /tmp/vcfs/\"+sam.split('/')[-1]+\" && \\\n",
    " bcftools query \\\n",
    "  --exclude \\\"FILTER!='PASS'&GT!='mis'&GT!~'\\.'\\\" \\\n",
    "  --regions-file /tmp/filtering.bed \\\n",
    "  --format '%CHROM\\\\t%POS\\\\t%END\\\\t%ALT{0}\\n' /tmp/vcfs/\"+sam.split('/')[-1]+\" >\\\n",
    " /tmp/vcfs/loc_\"+sam.split('/')[-1].split('.')[0]+\".bed &&\\\n",
    " rm /tmp/vcfs/\"+sam.split('/')[-1]+\"*\" for sam in vcfslist]\n",
    "h.parrun(cmd, cores=CORES)"
   ]
  },
  {
   "cell_type": "code",
   "execution_count": null,
   "metadata": {},
   "outputs": [],
   "source": [
    "def stuff(file):    \n",
    "    bed = pd.read_csv('/tmp/vcfs/'+file, sep='\\t', header=None, names=['chrom', 'start', 'end', 'foldchange'])\n",
    "    bed['foldchange'] = 1\n",
    "    name = file.split('/')[-1].split('.')[0].split('_')[1]\n",
    "    if len(bed)==0:\n",
    "        return (name, None)\n",
    "    val = chip.putInBed(guides_bed, bed, mergetype='sum')\n",
    "    return (name, val)\n",
    "\n",
    "pool = multiprocessing.Pool(CORES)\n",
    "res = pool.map(stuff, os.listdir('/tmp/vcfs/'))\n",
    "sorted_guides_bed = guides_bed.sort_values(by=[\"chrom\", \"start\", \"end\"]).reset_index(drop=True)\n",
    "#res = [stuff(val) for val in os.listdir('/tmp/vcfs/')[5:]]\n",
    "print('done pooling')\n",
    "for name, val in res:\n",
    "    if val is not None:\n",
    "        sorted_guides_bed[name] = val\n",
    "print('saving matrix')\n",
    "sorted_guides_bed.to_csv('../temp/binary_mutguides_wgs.tsv.gz', sep='\\t')"
   ]
  },
  {
   "cell_type": "code",
   "execution_count": null,
   "metadata": {},
   "outputs": [],
   "source": [
    "################# merge wgs and wes matrices ###################\n",
    "wgs_mat = pd.read_csv(\"../temp/binary_mutguides_wgs.tsv.gz\", sep='\\t', index_col='Unnamed: 0')\n",
    "wes_mat = pd.read_csv(\"../temp/binary_mutguides_wes.tsv.gz\", sep='\\t', index_col='Unnamed: 0')"
   ]
  },
  {
   "cell_type": "code",
   "execution_count": null,
   "metadata": {},
   "outputs": [],
   "source": [
    "wgs_mat_noguides = wgs_mat.iloc[:, 4:]\n",
    "wes_mat_noguides = wes_mat.iloc[:, 4:]"
   ]
  },
  {
   "cell_type": "code",
   "execution_count": null,
   "metadata": {},
   "outputs": [],
   "source": [
    "wgs_mat_noguides"
   ]
  },
  {
   "cell_type": "code",
   "execution_count": null,
   "metadata": {},
   "outputs": [],
   "source": [
    "import json\n",
    "\n",
    "wgs_renaming = {}\n",
    "wes_renaming = {}\n",
    "\n",
    "with open('../temp/22Q2/wgs_sample_renaming.json') as json_file:\n",
    "    wgs_renaming = json.load(json_file)\n",
    "\n",
    "with open('../temp/22Q2/wes_sample_renaming.json') as json_file:\n",
    "    wes_renaming = json.load(json_file)\n"
   ]
  },
  {
   "cell_type": "code",
   "execution_count": null,
   "metadata": {},
   "outputs": [],
   "source": [
    "wgs_whitelist = [x for x in wgs_mat_noguides.columns if x in wgs_renaming]\n",
    "wes_whitelist = [x for x in wes_mat_noguides.columns if x in wes_renaming]\n",
    "\n",
    "len(wgs_whitelist)"
   ]
  },
  {
   "cell_type": "code",
   "execution_count": null,
   "metadata": {},
   "outputs": [],
   "source": [
    "wgs_whitelist_mat = wgs_mat_noguides[wgs_whitelist]\n",
    "wes_whitelist_mat = wes_mat_noguides[wes_whitelist]\n",
    "wgs_whitelist_mat = wgs_whitelist_mat.rename(columns=wgs_renaming)\n",
    "wes_whitelist_mat = wes_whitelist_mat.rename(columns=wes_renaming)\n",
    "wgs_whitelist_mat"
   ]
  },
  {
   "cell_type": "code",
   "execution_count": null,
   "metadata": {},
   "outputs": [],
   "source": [
    "wes_to_append = [x for x in wes_whitelist_mat.columns if x not in wgs_whitelist_mat.columns]\n",
    "mergedmat = wgs_whitelist_mat.join(wes_whitelist_mat[wes_to_append])"
   ]
  },
  {
   "cell_type": "code",
   "execution_count": null,
   "metadata": {},
   "outputs": [],
   "source": [
    "[x for x in mergedmat.columns.tolist() if x[:4] != 'ACH-']"
   ]
  },
  {
   "cell_type": "code",
   "execution_count": null,
   "metadata": {},
   "outputs": [],
   "source": [
    "# binarize the matrix\n",
    "mergedmat = mergedmat.astype(bool).astype(int)"
   ]
  },
  {
   "cell_type": "code",
   "execution_count": null,
   "metadata": {},
   "outputs": [],
   "source": [
    "sorted_mat = sorted_guides_bed.iloc[:, :4].join(mergedmat)\n",
    "sorted_mat"
   ]
  },
  {
   "cell_type": "code",
   "execution_count": null,
   "metadata": {},
   "outputs": [],
   "source": [
    "sorted_mat['end'] = sorted_mat['end'].astype(int)\n",
    "sorted_mat.to_csv('../temp/merged_binary_germline.csv', index=False)"
   ]
  },
  {
   "cell_type": "code",
   "execution_count": null,
   "metadata": {},
   "outputs": [],
   "source": [
    "from taigapy import TaigaClient\n",
    "\n",
    "tc = TaigaClient()\n",
    "\n",
    "tc.update_dataset(\n",
    "    changes_description=\"add binary germline matrix\",\n",
    "    dataset_permaname=TAIGA_CN_ACHILLES,\n",
    "    upload_files=[\n",
    "        {\n",
    "            \"path\": '../temp/merged_binary_germline.csv',\n",
    "            \"format\": \"TableCSV\",\n",
    "            \"encoding\": \"utf-8\",\n",
    "        },\n",
    "    ],\n",
    "    add_all_existing_files=True,\n",
    ")"
   ]
  },
  {
   "cell_type": "code",
   "execution_count": null,
   "metadata": {},
   "outputs": [],
   "source": [
    "sorted_mat"
   ]
  },
  {
   "cell_type": "code",
   "execution_count": null,
   "metadata": {},
   "outputs": [],
   "source": [
    "arx = 'ACH-000550'\n",
    "spot_df = sorted_mat[['chrom', 'start', 'end', arx]]\n",
    "spot_hits = spot_df[spot_df[arx] != 0]\n",
    "spot_hits"
   ]
  },
  {
   "cell_type": "code",
   "execution_count": null,
   "metadata": {},
   "outputs": [],
   "source": [
    "spot_hits[(spot_hits['chrom'] == 'chrX') & (spot_hits['start'] > 797471)]"
   ]
  },
  {
   "cell_type": "code",
   "execution_count": null,
   "metadata": {},
   "outputs": [],
   "source": []
  }
 ],
 "metadata": {
  "kernelspec": {
   "display_name": "Python 3",
   "language": "python",
   "name": "python3"
  },
  "language_info": {
   "codemirror_mode": {
    "name": "ipython",
    "version": 3
   },
   "file_extension": ".py",
   "mimetype": "text/x-python",
   "name": "python",
   "nbconvert_exporter": "python",
   "pygments_lexer": "ipython3",
   "version": "3.8.2"
  },
  "latex_envs": {
   "LaTeX_envs_menu_present": true,
   "autoclose": false,
   "autocomplete": true,
   "bibliofile": "biblio.bib",
   "cite_by": "apalike",
   "current_citInitial": 1,
   "eqLabelWithNumbers": true,
   "eqNumInitial": 1,
   "hotkeys": {
    "equation": "Ctrl-E",
    "itemize": "Ctrl-I"
   },
   "labels_anchors": false,
   "latex_user_defs": false,
   "report_style_numbering": false,
   "user_envs_cfg": false
  },
  "toc": {
   "base_numbering": 1,
   "nav_menu": {},
   "number_sections": true,
   "sideBar": true,
   "skip_h1_title": false,
   "title_cell": "Table of Contents",
   "title_sidebar": "Contents",
   "toc_cell": false,
   "toc_position": {},
   "toc_section_display": true,
   "toc_window_display": false
  },
  "varInspector": {
   "cols": {
    "lenName": 16,
    "lenType": 16,
    "lenVar": 40
   },
   "kernels_config": {
    "python": {
     "delete_cmd_postfix": "",
     "delete_cmd_prefix": "del ",
     "library": "var_list.py",
     "varRefreshCmd": "print(var_dic_list())"
    },
    "r": {
     "delete_cmd_postfix": ") ",
     "delete_cmd_prefix": "rm(",
     "library": "var_list.r",
     "varRefreshCmd": "cat(var_dic_list()) "
    }
   },
   "types_to_exclude": [
    "module",
    "function",
    "builtin_function_or_method",
    "instance",
    "_Feature"
   ],
   "window_display": false
  }
 },
 "nbformat": 4,
 "nbformat_minor": 2
}
