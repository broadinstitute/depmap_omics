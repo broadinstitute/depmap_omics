{
 "cells": [
  {
   "cell_type": "code",
   "execution_count": null,
   "metadata": {},
   "outputs": [],
   "source": [
    "import pandas as pd\n",
    "import genepy.mutations as mut\n",
    "import numpy as np\n",
    "\n",
    "from importlib import reload\n",
    "\n",
    "import pyarrow.parquet as pq\n",
    "import pyarrow as pa\n",
    "\n",
    "from depmapomics import vcf\n",
    "\n",
    "%load_ext autoreload\n",
    "%autoreload 2"
   ]
  },
  {
   "cell_type": "code",
   "execution_count": null,
   "metadata": {},
   "outputs": [],
   "source": [
    "!gsutil cp gs://fc-secure-bd7b8bc9-f665-4269-997e-5a402088a369/656daacd-9c89-4b94-a952-f531e67bc325/omics_post_mutect2/70383990-bcdb-4ec2-909c-ad8f12924cc5/call-open_cravat/out/CDS-1UJEpC_fixed.vcf.gz.vcf.gz ."
   ]
  },
  {
   "cell_type": "code",
   "execution_count": null,
   "metadata": {},
   "outputs": [],
   "source": [
    "! gsutil cp gs://fc-secure-76d1542e-1c49-4411-8268-e41e92f9f311/1408f7db-9e1a-447f-99d1-a15f16c3c98a/omics_post_mutect2/fe55ad1f-2f11-46ee-ba5a-35000082e905/call-open_cravat/out/CDS-Kockd8.hg38-filtered.vcf.gz.annotated.vcf.gz.vcf.gz .\n",
    "\n",
    "! gsutil cp gs://fc-secure-d2a2d895-a7af-4117-bdc7-652d7d268324/e07d7685-6000-43e3-ab2d-081cce51f111/opencravat/2fdacfa1-7136-43b1-ba21-2b6151ce781d/call-run_opencravat/out/CDS-00rz9N_fixedploidy.vcf.gz.vcf.gz ."
   ]
  },
  {
   "cell_type": "code",
   "execution_count": null,
   "metadata": {},
   "outputs": [],
   "source": [
    "#no opencrav\n",
    "! gsutil cp gs://fc-secure-bd7b8bc9-f665-4269-997e-5a402088a369/51b88f4b-4eb5-4f72-9dbe-9904400682a9/omics_mutect2/d36d8cf7-b100-4521-baa6-99a01841b028/call-fix_mutect2/CDS-00Nrci_fixed.vcf.gz ."
   ]
  },
  {
   "cell_type": "code",
   "execution_count": null,
   "metadata": {},
   "outputs": [],
   "source": [
    "force_keep=['clinvar_vcf_ssr', 'clinvar_vcf_clndnincl', 'clinvar_vcf_clndisdbincl', 'clinvar_vcf_clnsigincl', 'oc_oncokb__all', 'oc_oncokb__highestdiagnosticimplicationlevel']"
   ]
  },
  {
   "cell_type": "code",
   "execution_count": null,
   "metadata": {},
   "outputs": [],
   "source": [
    "! gsutil ls gs://fc-secure-bd7b8bc9-f665-4269-997e-5a402088a369/0fa53646-a1ff-4494-82ad-70bd64a6735c/omics_post_mutect2/cd241fb3-21a9-4cc7-9b42-c8b2dc12f122/call-my_vcf_to_depmap/glob-cee1f6320fb2e9690dc69ecc442b61ec/"
   ]
  },
  {
   "cell_type": "code",
   "execution_count": null,
   "metadata": {},
   "outputs": [],
   "source": []
  },
  {
   "cell_type": "code",
   "execution_count": null,
   "metadata": {},
   "outputs": [],
   "source": [
    "! gsutil rm gs://fc-secure-bd7b8bc9-f665-4269-997e-5a402088a369/0fa53646-a1ff-4494-82ad-70bd64a6735c/omics_post_mutect2/cd241fb3-21a9-4cc7-9b42-c8b2dc12f122/call-my_vcf_to_depmap/glob-cee1f6320fb2e9690dc69ecc442b61ec/cromwell_glob_control_file"
   ]
  },
  {
   "cell_type": "code",
   "execution_count": null,
   "metadata": {},
   "outputs": [],
   "source": [
    "rm CDS-0bV15m.parquet/glob-cee1f6320fb2e9690dc69ecc442b61ec/cromwell_glob_control_file"
   ]
  },
  {
   "cell_type": "code",
   "execution_count": null,
   "metadata": {},
   "outputs": [],
   "source": [
    "hot"
   ]
  },
  {
   "cell_type": "code",
   "execution_count": null,
   "metadata": {},
   "outputs": [],
   "source": [
    "hot = pd.read_csv('gs://ccleparams/hotspot_hess_et_al.csv')\n",
    "h = set(hot.chrom.astype(str)+\":\"+hot.pos.astype(str)+\":\"+hot.alt)\n",
    "v = set(val.chrom.astype(str)+\":\"+val.pos.astype(str)+\":\"+val.alt)\n",
    "for pos in list(v & h):\n",
    "    pos = pos.split(':')\n",
    "    loc = (val.chrom==pos[0])&(val.pos.astype(str)==pos[1])&(val.alt==pos[2])]\n",
    "    for k, val in val[loc].iteritems()\n",
    "    for k, l in :\n",
    "        base_ch.append(tuple(l[3:-3].split('->')))\n",
    "\n",
    "    print('possible match: ',base_ch, )\n",
    "    if l in"
   ]
  },
  {
   "cell_type": "code",
   "execution_count": null,
   "metadata": {},
   "outputs": [],
   "source": [
    "# !!!!!!!!!!! it looks like hg19 not same ref at same base"
   ]
  },
  {
   "cell_type": "code",
   "execution_count": null,
   "metadata": {},
   "outputs": [],
   "source": [
    "val = pd.read_csv('CDS-1UJEpC_fixed-maf-coding_somatic-subset.csv.gz')\n",
    "val"
   ]
  },
  {
   "cell_type": "code",
   "execution_count": null,
   "metadata": {},
   "outputs": [],
   "source": [
    "file = pd.read_parquet('gs://fc-secure-bd7b8bc9-f665-4269-997e-5a402088a369/443ddd61-b278-4985-b251-20e9f780655b/omics_post_mutect2/acd8b67d-cd40-4f22-8f61-d12e124bcb5a/call-my_vcf_to_depmap/attempt-2/glob-a8ffee9532d02dbc02d223472b942444/6c7e1f5f559f4c5f85f122850a802c09-0.parquet')"
   ]
  },
  {
   "cell_type": "code",
   "execution_count": null,
   "metadata": {},
   "outputs": [],
   "source": [
    "cgc_mutation_type"
   ]
  },
  {
   "cell_type": "code",
   "execution_count": null,
   "metadata": {},
   "outputs": [],
   "source": [
    "import re"
   ]
  },
  {
   "cell_type": "code",
   "execution_count": null,
   "metadata": {},
   "outputs": [],
   "source": [
    "min_count_hotspot=5\n",
    "hotspot_l=[]"
   ]
  },
  {
   "cell_type": "code",
   "execution_count": null,
   "metadata": {},
   "outputs": [],
   "source": [
    "file.loc[file['cosmic_overlapping_mutations'].isin(hotspot_l)][file.columns[:5].tolist()+['variant_info','popaf','cosmic_overlapping_mutations', 'protein_change', 'is_coding', 'germline', 'ad']].germline"
   ]
  },
  {
   "cell_type": "code",
   "execution_count": null,
   "metadata": {},
   "outputs": [],
   "source": [
    "for v in list(set(file[file['cosmic_overlapping_mutations']!='']['cosmic_overlapping_mutations'])):\n",
    "    res = sum([int(val.group(0)[1:-1]) for val in re.finditer(r'([(])\\d+([)])',  v)])\n",
    "    if res>min_count_hotspot:\n",
    "        hotspot_l.append(v)"
   ]
  },
  {
   "cell_type": "code",
   "execution_count": null,
   "metadata": {},
   "outputs": [],
   "source": [
    "file[file['cosmic_overlapping_mutations']!='']['cosmic_overlapping_mutations']"
   ]
  },
  {
   "cell_type": "code",
   "execution_count": null,
   "metadata": {},
   "outputs": [],
   "source": [
    "file[file['cosmictissue_tissue_types_affected']!='']['cosmictissue_tissue_types_affected']"
   ]
  },
  {
   "cell_type": "code",
   "execution_count": null,
   "metadata": {},
   "outputs": [],
   "source": [
    "file.columns.tolist()"
   ]
  },
  {
   "cell_type": "code",
   "execution_count": null,
   "metadata": {},
   "outputs": [],
   "source": []
  },
  {
   "cell_type": "code",
   "execution_count": null,
   "metadata": {},
   "outputs": [],
   "source": []
  },
  {
   "cell_type": "code",
   "execution_count": null,
   "metadata": {},
   "outputs": [],
   "source": []
  },
  {
   "cell_type": "code",
   "execution_count": null,
   "metadata": {},
   "outputs": [],
   "source": [
    "# read in vcf as a df\n",
    "n_rows = 500_000\n",
    "tobreak=False\n",
    "for i in range(100):\n",
    "    vcf_file, _, _ = mut.vcf_to_df(\"CDS-00Nrci.filtered.vcf.gz\", additional_cols=[\"PON\"], force_keep=force_keep if i==0 else prev_cols + force_keep, drop_null=True, parse_filter=True, nrows=n_rows, skiprows=n_rows*i, cols_to_drop=[\n",
    "            \"clinvar_vcf_mc\",\n",
    "            \"oreganno_build\",\n",
    "            \"gt\",\n",
    "            \"ad\",\n",
    "            \"af\",\n",
    "            \"dp\",\n",
    "            \"f1r2\",\n",
    "            \"f2r1\",\n",
    "            \"fad\",\n",
    "            \"sb\",\n",
    "            \"pid\",\n",
    "            \"pl\",\n",
    "            \"ps\",\n",
    "            \"gq\",\n",
    "            'pgt',\n",
    "        ])\n",
    "    \n",
    "    if len(vcf_file) < n_rows:\n",
    "        #we have reached the end:\n",
    "        tobreak=True\n",
    "    \n",
    "    #improve\n",
    "    vcf_file_o = vcf.improve(vcf_file.copy(), with_onco_kb=False, split_multiallelic=False, torename = vcf.TO_RENAME)\n",
    "\n",
    "    # checking we have the same set of columns\n",
    "    cols = vcf_file_o.columns.tolist()\n",
    "    if i==0:\n",
    "        prev_cols=cols\n",
    "    if cols != prev_cols:\n",
    "        raise ValueError('we are removing different sets of columns', cols, list(set(cols)^set(prev_cols)))\n",
    "        \n",
    "    #save full\n",
    "    # need pyarrows\n",
    "    pq.write_to_dataset(pa.Table.from_pandas(vcf_file_o) , root_path='CDS-1UJEpC_fixed'+\"-maf-full.parquet\")\n",
    "\n",
    "    #save maf\n",
    "    if i==0:\n",
    "        vcf.to_maf(vcf_file_o, 'CDS-1UJEpC_fixed', drop_multi=True, index=False)\n",
    "    else:\n",
    "        vcf.to_maf(vcf_file_o, 'CDS-1UJEpC_fixed', drop_multi=True, mode='a', header=False, index=False)\n",
    "        \n",
    "    if tobreak:\n",
    "        break"
   ]
  },
  {
   "cell_type": "code",
   "execution_count": null,
   "metadata": {},
   "outputs": [],
   "source": [
    "pd.read_parquet('gs://cclebams/CDS-00Nrci-maf-full.parquet')"
   ]
  },
  {
   "cell_type": "code",
   "execution_count": null,
   "metadata": {},
   "outputs": [],
   "source": [
    "#split multi allelic"
   ]
  },
  {
   "cell_type": "code",
   "execution_count": null,
   "metadata": {},
   "outputs": [],
   "source": [
    "for k, row in vcf_df_split[vcf_df_split.multiallelic].iterrows():\n",
    "    row.split"
   ]
  },
  {
   "cell_type": "code",
   "execution_count": null,
   "metadata": {},
   "outputs": [],
   "source": [
    "vcf_df_split.oc_oncokb__knowneffect=='Likely Loss-of-function'"
   ]
  },
  {
   "cell_type": "code",
   "execution_count": null,
   "metadata": {},
   "outputs": [],
   "source": [
    "vcf_df_split.oc_oncokb__oncogenic==\"Likely Oncogenic\""
   ]
  },
  {
   "cell_type": "code",
   "execution_count": null,
   "metadata": {},
   "outputs": [],
   "source": [
    "set(vcf_df_split.oc_genehancer__feature_name)"
   ]
  },
  {
   "cell_type": "code",
   "execution_count": null,
   "metadata": {},
   "outputs": [],
   "source": [
    "vcf_df_split.hgnc_locus_typereplace('RNA, ': 'RNA: ')"
   ]
  },
  {
   "cell_type": "code",
   "execution_count": null,
   "metadata": {},
   "outputs": [],
   "source": [
    "set(vcf_df_split.hgnc_locus_type.str.replace(r'([^\\s-]),([^\\s-])', r'\\1%3D\\2', regex=True)).str.split('%3D')[0]"
   ]
  },
  {
   "cell_type": "code",
   "execution_count": null,
   "metadata": {},
   "outputs": [],
   "source": [
    "set(vcf_df_split.hgnc_locus_group)"
   ]
  },
  {
   "cell_type": "code",
   "execution_count": null,
   "metadata": {},
   "outputs": [],
   "source": [
    "set(vcf_df_split.oc_base__so)"
   ]
  },
  {
   "cell_type": "code",
   "execution_count": null,
   "metadata": {},
   "outputs": [],
   "source": [
    "set(val.ccle_deleterious)"
   ]
  },
  {
   "cell_type": "code",
   "execution_count": null,
   "metadata": {},
   "outputs": [],
   "source": [
    "val['']"
   ]
  },
  {
   "cell_type": "code",
   "execution_count": null,
   "metadata": {},
   "outputs": [],
   "source": [
    "val[val.protein_change!='']"
   ]
  },
  {
   "cell_type": "code",
   "execution_count": null,
   "metadata": {},
   "outputs": [],
   "source": [
    "val[(val.ccle_deleterious!=True) & val.is_coding]"
   ]
  },
  {
   "cell_type": "code",
   "execution_count": null,
   "metadata": {},
   "outputs": [],
   "source": []
  },
  {
   "cell_type": "code",
   "execution_count": null,
   "metadata": {},
   "outputs": [],
   "source": [
    "set(val['cosmictissue_tissue_types_affected'])"
   ]
  },
  {
   "cell_type": "code",
   "execution_count": null,
   "metadata": {},
   "outputs": [],
   "source": [
    "set(val[\"cosmictissue_total_alterations_in_gene\"])"
   ]
  },
  {
   "cell_type": "code",
   "execution_count": null,
   "metadata": {},
   "outputs": [],
   "source": [
    "set(val[\"variant_info\"]+\"____\"+val[\"gencode_34_secondaryvariantclassification\"])"
   ]
  },
  {
   "cell_type": "code",
   "execution_count": null,
   "metadata": {},
   "outputs": [],
   "source": [
    "# feature_name\n",
    "vcf_df_split[~vcf_df_split.hgnc_locus_type.isna() & (vcf_df_split.hgnc_locus_type != vcf_df_split.hgnc_locus_group)][[\"oc_genehancer__feature_name\",\n",
    "\"hgnc_locus_type\",\n",
    "\"hgnc_locus_group\",\n",
    "\n",
    "\"gencode_34_variantclassification\",\n",
    "\"gencode_34_secondaryvariantclassification\",\n",
    "\"oc_base__so\"]]"
   ]
  },
  {
   "cell_type": "code",
   "execution_count": null,
   "metadata": {},
   "outputs": [],
   "source": [
    "#somatic_score\n",
    "\n",
    "\n",
    "#quality_score\n",
    "\n",
    "\n",
    "#deleteriousness_score\n",
    "\n",
    "\n",
    "#transcript_specific_pathogenecity\n",
    "\n",
    "\n",
    "#functionality_score\n",
    "\n",
    "\n",
    "#effect_score\n",
    "\n",
    "\n",
    "#disease_association\n",
    "\n",
    "\n",
    "#chemical_association\n",
    "\n",
    "\n",
    "#splice_AI_info\n",
    "\n"
   ]
  },
  {
   "cell_type": "markdown",
   "metadata": {},
   "source": [
    "### 6. variantClassification\n",
    "Type: String\n",
    "The classification of the variant being annotated. Will always be one of the following:\n",
    "\n",
    "- COULD_NOT_DETERMINE : Variant classification could not be determined.\n",
    "- INTRON : Variant lies between exons within the bounds of the chosen transcript. Only valid for Introns.\n",
    "- FIVE_PRIME_UTR : Variant is on the 5'UTR for the chosen transcript. Only valid for UTRs.\n",
    "- THREE_PRIME_UTR : Variant is on the 3'UTR for the chosen transcript. Only valid for UTRs.\n",
    "- IGR : Intergenic region. Does not overlap any transcript. Only valid for IGRs.\n",
    "- FIVE_PRIME_FLANK : The variant is upstream of the chosen transcript. Only valid for IGRs.\n",
    "- THREE_PRIME_FLANK : The variant is downstream of the chosen transcript. Only valid for IGRs.\n",
    "- MISSENSE : The point mutation alters the protein structure by one amino acid. Can occur in Coding regions or Introns.\n",
    "- NONSENSE : A premature stop codon is created by the variant. Can occur in Coding regions or Introns.\n",
    "- NONSTOP : Variant removes stop codon. Can occur in Coding regions or Introns.\n",
    "- SILENT : Variant is in coding region of the chosen transcript, but protein structure is identical. Can occur in Coding regions or Introns.\n",
    "- SPLICE_SITE : The variant is within a configurable number of bases of a splice site. See the secondary classification to determine if it lies on the exon or intron side. Can occur in Coding regions or Introns.\n",
    "- IN_FRAME_DEL : Deletion that keeps the sequence in frame. Can occur in Coding regions or Introns.\n",
    "- IN_FRAME_INS : Insertion that keeps the sequence in frame. Can occur in Coding regions or Introns.\n",
    "- FRAME_SHIFT_INS : Insertion that moves the coding sequence out of frame. Can occur in Coding regions or Introns.\n",
    "- FRAME_SHIFT_DEL : Deletion that moves the sequence out of frame. Can occur in Coding regions or Introns.\n",
    "- START_CODON_SNP : Point mutation that overlaps the start codon. Can occur in Coding regions.\n",
    "- START_CODON_INS : Insertion that overlaps the start codon. Can occur in Coding regions.\n",
    "- START_CODON_DEL : Deletion that overlaps the start codon. Can occur in Coding regions.\n",
    "- DE_NOVO_START_IN_FRAME : New start codon is created by the given variant using the chosen transcript. However, it is in frame relative to the coded protein, meaning that if the coding sequence were extended then the new start codon would be in frame with the existing start and stop codons. This can only occur in a 5' UTR.\n",
    "- DE_NOVO_START_OUT_FRAME : New start codon is created by the given variant using the chosen transcript. However, it is out of frame relative to the coded protein, meaning that if the coding sequence were extended then the new start codon would NOT be in frame with the existing start and stop codons. This can only occur in a 5' UTR.\n",
    "- RNA : Variant lies on one of the RNA transcripts. (special catch-all case)\n",
    "- LINCRNA : Variant lies on one of the lincRNAs. (special catch-all case)\n",
    "\n",
    "#### 7. secondaryVariantClassification\n",
    "\n",
    "Type: String\n",
    "Additional variant classification information for variant alleles that have a VariantClassification of SPLICE_SITE. For a variant allele with the VariantClassification of SPLICE_SITE, this will indicate the specific classification of the variant. For all variants that do not have the VariantClassification of SPLICE_SITE, this will be the empty string.\n",
    "\n",
    "#### 8. variantType\n",
    "Type: String\n",
    "Basic information about the variant allele being annotated. Can be one of:\n",
    "\n",
    "- INS - The variant allele is some kind of insertion.\n",
    "- DEL - The variant allele is some kind of deletion.\n",
    "- SNP - The variant allele is a single nucleotide polymorphism.\n",
    "- DNP - The variant allele is a di-nucleotide polymorphism.\n",
    "- TNP - The variant allele is a tri-nucleotide polymorphism.\n",
    "- ONP - The variant allele is an oligo-nucleotide polymorphism (Synonymous with MNP).\n",
    "- MNP - The variant allele is a multi-nucleotide polymorphism (Synonymous with ONP).\n",
    "- NA - The variant allele type cannot be determined."
   ]
  },
  {
   "cell_type": "code",
   "execution_count": null,
   "metadata": {},
   "outputs": [],
   "source": []
  },
  {
   "cell_type": "markdown",
   "metadata": {},
   "source": [
    "## final trial"
   ]
  },
  {
   "cell_type": "code",
   "execution_count": null,
   "metadata": {},
   "outputs": [],
   "source": [
    "!gsutil cp gs://fc-secure-bd7b8bc9-f665-4269-997e-5a402088a369/66840e8f-26c6-49b8-ac5d-6906f7b05b09/run_opencravat/800a2baa-18d1-4939-b2ff-f1b02790980d/call-opencravat/out/CDS-00Nrci_fixed.vcf.gz.vcf.gz ."
   ]
  },
  {
   "cell_type": "code",
   "execution_count": null,
   "metadata": {},
   "outputs": [],
   "source": [
    "#WES\n",
    "! gsutil cp gs://fc-secure-d2a2d895-a7af-4117-bdc7-652d7d268324/af7a9918-f957-41b3-8bfa-b7a0db4918c6/run_opencravat/2f0bd249-6ff9-48e3-b455-5fe9208af18b/call-opencravat/out/CDS-00rz9N.filtered.vcf.gz.vcf.gz .\n",
    "! gsutil cp gs://fc-secure-d2a2d895-a7af-4117-bdc7-652d7d268324/af7a9918-f957-41b3-8bfa-b7a0db4918c6/run_opencravat/69983e68-0205-4d7c-a000-cfa852066ec5/call-opencravat/out/CDS-02waxZ.filtered.vcf.gz.vcf.gz .\n",
    "! gsutil cp gs://fc-secure-d2a2d895-a7af-4117-bdc7-652d7d268324/af7a9918-f957-41b3-8bfa-b7a0db4918c6/run_opencravat/3cd2d7e7-0a9f-46b6-ac93-2da877e47efb/call-opencravat/attempt-2/out/CDS-01bI6z.filtered.vcf.gz.vcf.gz ."
   ]
  },
  {
   "cell_type": "code",
   "execution_count": null,
   "metadata": {},
   "outputs": [],
   "source": [
    "from depmapomics import vcf\n",
    "from genepy import mutations"
   ]
  },
  {
   "cell_type": "code",
   "execution_count": null,
   "metadata": {},
   "outputs": [],
   "source": [
    "n_rows = 500_000\n",
    "use_multi = False\n",
    "force_keep = ['clinvar_vcf_ssr', 'clinvar_vcf_clndisdbincl', 'clinvar_vcf_clnsigincl', 'clinvar_vcf_clndnincl', 'oc_oncokb__all', 'oc_oncokb__highestdiagnosticimplicationlevel', 'cgc_other_germline_mut', 'cgc_other_syndrome/disease', 'clinvar_vcf_clnsigconf', 'center', 'cosmicfusion_fusion_id', 'tumor_barcode', 'source\"', 'clinvar_vcf_filter', 'clinvar_vcf_dbvarid', 'normal_barcode', 'gencode_34_ncbibuild', 'oc_oncokb_dm__highestprognosticimplicationlevel', 'strandq', 'oc_oncokb_dm__highestsensitivelevel', 'ocm', 'oc_oncokb_dm__all', 'seqq', 'nlod', 'contq', 'nalod', 'oc_base__note', 'oc_cancer_hotspots__samples', 'oc_oncokb_dm__highestresistancelevel', 'oc_oncokb_dm__tumorsummary', 'oc_oncokb_dm__highestdiagnosticimplicationlevel', 'oc_hess_drivers__signature', 'oc_hess_drivers__is_driver']"
   ]
  },
  {
   "cell_type": "code",
   "execution_count": null,
   "metadata": {},
   "outputs": [],
   "source": [
    "vcf_file['oc_cscape__score']"
   ]
  },
  {
   "cell_type": "code",
   "execution_count": null,
   "metadata": {},
   "outputs": [],
   "source": [
    "vcf_file, _, _ = mutations.vcf_to_df(\n",
    "        \"CDS-02waxZ.filtered.vcf.gz.vcf.gz\",\n",
    "        additional_cols=[\"PON\"],\n",
    "        parse_filter=True,\n",
    "        force_keep=force_keep,\n",
    "        drop_null=True,\n",
    "        cols_to_drop=[\n",
    "            \"clinvar_vcf_mc\",\n",
    "            \"oreganno_build\",\n",
    "            \"gt\",\n",
    "            \"ad\",\n",
    "            \"af\",\n",
    "            \"dp\",\n",
    "            \"f1r2\",\n",
    "            \"f2r1\",\n",
    "            \"fad\",\n",
    "            \"sb\",\n",
    "            \"pid\",\n",
    "            \"pl\",\n",
    "            \"ps\",\n",
    "            \"gq\",\n",
    "            \"pgt\",\n",
    "            \"gencode_34_chromosome\",\n",
    "        ])"
   ]
  },
  {
   "cell_type": "code",
   "execution_count": null,
   "metadata": {},
   "outputs": [],
   "source": [
    "vcf_file[vcf_file['oc_oncokb_dm__oncogenic']==\"Likely Oncogenic\"]['oc_oncokb_dm__oncogenic']"
   ]
  },
  {
   "cell_type": "code",
   "execution_count": null,
   "metadata": {},
   "outputs": [],
   "source": [
    "vcf_file[vcf_file['oc_oncokb_dm__hotspot']==\"True\"]"
   ]
  },
  {
   "cell_type": "code",
   "execution_count": null,
   "metadata": {},
   "outputs": [],
   "source": [
    "set(vcf_file['oc_oncokb_dm__highestsensitivelevel']), set(vcf_file['oc_oncokb_dm__highestresistancelevel']), set(vcf_file['oc_oncokb_dm__highestdiagnosticimplicationlevel']), set(vcf_file['oc_oncokb_dm__highestprognosticimplicationlevel'])"
   ]
  },
  {
   "cell_type": "code",
   "execution_count": null,
   "metadata": {},
   "outputs": [],
   "source": [
    "set(vcf_file[\"oc_oncokb_dm__knowneffect\"])"
   ]
  },
  {
   "cell_type": "code",
   "execution_count": null,
   "metadata": {},
   "outputs": [],
   "source": [
    "set(vcf_file[vcf_file.oc_oncokb_dm__oncogenic==\"Oncogenic\"][\"oc_oncokb_dm__knowneffect\"])"
   ]
  },
  {
   "cell_type": "code",
   "execution_count": null,
   "metadata": {},
   "outputs": [],
   "source": [
    "set(vcf_file[vcf_file.oc_oncokb_dm__oncogenic==\"Likely Oncogenic\"][\"oc_oncokb_dm__knowneffect\"])"
   ]
  },
  {
   "cell_type": "code",
   "execution_count": null,
   "metadata": {},
   "outputs": [],
   "source": [
    "loc = ~vcf_file['oc_oncokb_dm__variantsummary'].isna()"
   ]
  },
  {
   "cell_type": "code",
   "execution_count": null,
   "metadata": {},
   "outputs": [],
   "source": [
    "set(vcf_file[loc][~vcf_file[loc]['oc_oncokb_dm__variantsummary'].str.endswith('is unknown.')]['oc_oncokb_dm__variantsummary'])"
   ]
  },
  {
   "cell_type": "code",
   "execution_count": null,
   "metadata": {},
   "outputs": [],
   "source": [
    "# DRIVER"
   ]
  },
  {
   "cell_type": "code",
   "execution_count": null,
   "metadata": {},
   "outputs": [],
   "source": [
    "vcf_file[\"driver\"] =\"\"\n",
    "vcf_file.loc[vcf_file.oc_oncokb_dm__oncogenic==\"Oncogenic\", \"driver\"] =\"Y\""
   ]
  },
  {
   "cell_type": "code",
   "execution_count": null,
   "metadata": {},
   "outputs": [],
   "source": [
    "subvcf = vcf_file[~vcf_file.oc_cscape__score.isna() & ~vcf_file.multiallelic][[\"oc_base__coding\",\"oc_cscape__score\"]]"
   ]
  },
  {
   "cell_type": "code",
   "execution_count": null,
   "metadata": {},
   "outputs": [],
   "source": [
    "vcf_file['likely_driver'] = ''"
   ]
  },
  {
   "cell_type": "code",
   "execution_count": null,
   "metadata": {},
   "outputs": [],
   "source": [
    "vcf_file.loc[subvcf[((~subvcf['oc_base__coding'].isna()) & (subvcf['oc_cscape__score'].astype(float)>=0.89)) | ((subvcf['oc_base__coding'].isna()) & (subvcf['oc_cscape__score'].astype(float)>=0.70))].index, 'likely_driver'] = 'Y'"
   ]
  },
  {
   "cell_type": "code",
   "execution_count": null,
   "metadata": {},
   "outputs": [],
   "source": [
    "vcf_file[~(vcf_file[\"map_qual\"] | vcf_file[\"slippage\"] | vcf_file[\"strand_bias\"] | vcf_file[\"weak_evidence\"] | vcf_file[\"clustered_events\"] | vcf_file[\"base_qual\"]) & (vcf_file['likely_driver']==\"Y\") & subvcf['oc_base__coding'].isna()]"
   ]
  },
  {
   "cell_type": "code",
   "execution_count": null,
   "metadata": {},
   "outputs": [],
   "source": [
    "#7300 with non coding, 200 with coding"
   ]
  },
  {
   "cell_type": "code",
   "execution_count": null,
   "metadata": {},
   "outputs": [],
   "source": [
    "set(vcf_file['oc_cancer_hotspots__samples'])\n",
    "# looks to be the same as oncokb's hotspot, same group, same paper"
   ]
  },
  {
   "cell_type": "code",
   "execution_count": null,
   "metadata": {},
   "outputs": [],
   "source": [
    "#comparing it with CIVIC\n",
    "vcf_file[~vcf_file['oc_civic__description'].isna()].oc_oncokb_dm__highestdiagnosticimplicationlevel\n",
    "# there seem to quite some non overlap between civic and oncoKB regarding clinical annotations.."
   ]
  },
  {
   "cell_type": "code",
   "execution_count": null,
   "metadata": {},
   "outputs": [],
   "source": [
    "vcf_file['clinically_significant_in_cancer'] = oc_civic__clinical_a_score | oc_oncokb_dm__highestprognosticimplicationlevel | oc_oncokb_dm__highestdiagnosticimplicationlevel | oc_oncokb_dm__highestsensitivelevel"
   ]
  },
  {
   "cell_type": "code",
   "execution_count": null,
   "metadata": {},
   "outputs": [],
   "source": [
    "vcf_file['gain_of_function'] = \"\"\n",
    "loc = vcf_file['oc_oncokb_dm__knowneffect']==\"Gain-of-function\"\n",
    "vcf_file['gain_of_function'] = \"Y\""
   ]
  },
  {
   "cell_type": "code",
   "execution_count": null,
   "metadata": {},
   "outputs": [],
   "source": [
    "vcf_file['likely_gain_of_function'] = ''\n",
    "loc = (vcf_file['oc_oncokb_dm__knowneffect']==\"Likely Gain-of-function\") # |\n",
    "vcff_file.loc[loc, 'likely_gain_of_function'] = \"Y\""
   ]
  },
  {
   "cell_type": "code",
   "execution_count": null,
   "metadata": {},
   "outputs": [],
   "source": [
    "vcf_file['lof'] = ''\n",
    "loc = (vcf_file['oc_oncokb_dm__knowneffect']==\"Loss-of-function\")\n",
    "vcff_file.loc[loc, 'lof'] = \"Y\""
   ]
  },
  {
   "cell_type": "code",
   "execution_count": null,
   "metadata": {},
   "outputs": [],
   "source": [
    "vcf_file[~vcf_file['oc_brca1_func_assay__score'].isna()].oc_brca1_func_assay__score\n",
    "#'oc_brca1_func_assay__class',"
   ]
  },
  {
   "cell_type": "code",
   "execution_count": null,
   "metadata": {},
   "outputs": [],
   "source": [
    "vcf_file['likely_lof'] = \"\"\n",
    "loc = (vcf_file['oc_oncokb_dm__knowneffect']==\"Likely Loss-of-function\") # |\n",
    "vcf_file.loc[ind, 'transcript_likely_lof'] = \"Y\"\n",
    "# OR in DANN\n",
    "#http://www.enlis.com/blog/2015/03/17/the-best-variant-prediction-method-that-no-one-is-using/\n",
    "loc = ~vcf_file['oc_dann__score'].isna() & ~vcf_file['multiallelic']\n",
    "loc = vcf_file[loc][vcf_file[loc]['oc_dann__score'].astype(float)>=0.96].index\n",
    "vcf_file.loc[ind, 'transcript_likely_lof'] = \"Y\""
   ]
  },
  {
   "cell_type": "code",
   "execution_count": null,
   "metadata": {},
   "outputs": [],
   "source": [
    "# pathogenecity of a variant\n",
    "'oc_revel__transcript',\n",
    " 'oc_revel__score',\n",
    " 'oc_revel__rankscore',\n",
    " 'oc_revel__all',"
   ]
  },
  {
   "cell_type": "code",
   "execution_count": null,
   "metadata": {},
   "outputs": [],
   "source": [
    "loc = ~vcf_file['oc_revel__score'].isna() & ~vcf_file['multiallelic']\n",
    "vcf_file[loc][vcf_file[loc]['oc_revel__score'].astype(float)>0.9]"
   ]
  },
  {
   "cell_type": "code",
   "execution_count": null,
   "metadata": {},
   "outputs": [],
   "source": [
    "vcf_file['pathogenic']=\"\"\n",
    "vcf_file.loc[vcf_file[loc][vcf_file[loc]['oc_revel__score'].astype(float)>=0.9].index, 'pathogenic']='Y'\n",
    "vcf_file['likely_pathogenic']=\"\"\n",
    "vcf_file.loc[vcf_file[loc][(vcf_file[loc]['oc_revel__score'].astype(float)>=0.7) & (vcf_file[loc]['oc_revel__score'].astype(float)<0.9)].index, 'likely_pathogenic']='Y'"
   ]
  },
  {
   "cell_type": "code",
   "execution_count": null,
   "metadata": {},
   "outputs": [],
   "source": [
    "vcf_file['trancript_likely_pathogenic'] = ''\n",
    "trscs = []\n",
    "for k, val in vcf_file[~vcf_file['oc_revel__all'].isna()][[\"oc_revel__all\"]].iterrows():\n",
    "    trsc = \"\"\n",
    "    for trsc in [i.split(',') for i in val.oc_revel__all.replace('%2C',',')[2:-2].split('],[')]:\n",
    "        if float(trsc[1]) > 0.7:\n",
    "            trsc += trsc[0][1:-1]+\";\"\n",
    "    trscs.append(trsc)\n",
    "    \n",
    "vcf_file.loc[~vcf_file['oc_revel__all'].isna(), 'trancript_likely_pathogenic'] = trscs"
   ]
  },
  {
   "cell_type": "code",
   "execution_count": null,
   "metadata": {},
   "outputs": [],
   "source": [
    "vcf_file[~vcf_file['oc_gwas_catalog__disease'].isna()].oc_gwas_catalog__disease"
   ]
  },
  {
   "cell_type": "code",
   "execution_count": null,
   "metadata": {},
   "outputs": [],
   "source": [
    " 'oc_gwas_catalog__disease',\n",
    " 'oc_gwas_catalog__or_beta',\n",
    " 'oc_gwas_catalog__pval',\n",
    " 'oc_gwas_catalog__pmid',\n",
    " 'oc_gwas_catalog__init_samp',\n",
    " 'oc_gwas_catalog__rep_samp',\n",
    " 'oc_gwas_catalog__risk_allele',\n",
    " 'oc_gwas_catalog__ci',"
   ]
  },
  {
   "cell_type": "code",
   "execution_count": null,
   "metadata": {},
   "outputs": [],
   "source": []
  },
  {
   "cell_type": "code",
   "execution_count": null,
   "metadata": {},
   "outputs": [],
   "source": [
    "vcf_file[~vcf_file['oc_gtex__gtex_gene'].isna()].oc_gtex__gtex_tissue"
   ]
  },
  {
   "cell_type": "code",
   "execution_count": null,
   "metadata": {},
   "outputs": [],
   "source": [
    " 'oc_gtex__gtex_gene',\n",
    " 'oc_gtex__gtex_tissue',"
   ]
  },
  {
   "cell_type": "code",
   "execution_count": null,
   "metadata": {},
   "outputs": [],
   "source": []
  },
  {
   "cell_type": "code",
   "execution_count": null,
   "metadata": {},
   "outputs": [],
   "source": []
  },
  {
   "cell_type": "code",
   "execution_count": null,
   "metadata": {},
   "outputs": [],
   "source": []
  },
  {
   "cell_type": "code",
   "execution_count": null,
   "metadata": {},
   "outputs": [],
   "source": [
    "vcf_file[~vcf_file['oc_fitcons__fitcons_coding_score'].isna()][['oc_fitcons__fitcons_coding_score',\n",
    "'oc_fitcons__fitcons_coding_rankscore',\n",
    "'oc_fitcons__fitcons_coding_pred',]]"
   ]
  },
  {
   "cell_type": "code",
   "execution_count": null,
   "metadata": {},
   "outputs": [],
   "source": []
  },
  {
   "cell_type": "code",
   "execution_count": null,
   "metadata": {},
   "outputs": [],
   "source": [
    "vcf_file[~vcf_file['oc_spliceai__ds_ag'].isna()][[ 'oc_spliceai__ds_ag',\n",
    " 'oc_spliceai__ds_al',\n",
    " 'oc_spliceai__ds_dg',\n",
    " 'oc_spliceai__ds_dl',\n",
    " 'oc_spliceai__dp_ag',\n",
    " 'oc_spliceai__dp_al',\n",
    " 'oc_spliceai__dp_dg',\n",
    " 'oc_spliceai__dp_dl',]]"
   ]
  },
  {
   "cell_type": "code",
   "execution_count": null,
   "metadata": {},
   "outputs": [],
   "source": []
  },
  {
   "cell_type": "code",
   "execution_count": null,
   "metadata": {},
   "outputs": [],
   "source": [
    "splicing_assof"
   ]
  },
  {
   "cell_type": "code",
   "execution_count": null,
   "metadata": {},
   "outputs": [],
   "source": [
    "vcf_file.loc[subvcf[(subvcf['oc_spliceai__ds_ag'].astype(float) > 0.5) | (subvcf['oc_spliceai__ds_al'].astype(float) > 0.5) | (subvcf['oc_spliceai__ds_dg'].astype(float) > 0.5) | (subvcf['oc_spliceai__ds_dl'].astype(float) > 0.5)].index]"
   ]
  },
  {
   "cell_type": "code",
   "execution_count": null,
   "metadata": {},
   "outputs": [],
   "source": []
  },
  {
   "cell_type": "code",
   "execution_count": null,
   "metadata": {},
   "outputs": [],
   "source": []
  },
  {
   "cell_type": "code",
   "execution_count": null,
   "metadata": {},
   "outputs": [],
   "source": [
    "loc_c = (vcf_file['likely_driver']==\"Y\") | (vcf_file['hotspot']==\"Y\") | (vcf_file['clinically_significant_in_cancer']==\"Y\")\n",
    "\n",
    "subvcf = vcf_file[~vcf_file['oc_spliceai__ds_ag'].isna() & ~vcf_file['multiallelic']]\n",
    "loc_s = subvcf[(subvcf['oc_spliceai__ds_ag'].astype(float) > 0.5) | (subvcf['oc_spliceai__ds_al'].astype(float) > 0.5) | (subvcf['oc_spliceai__ds_dg'].astype(float) > 0.5) | (subvcf['oc_spliceai__ds_dl'].astype(float) > 0.5)].index\n",
    "\n",
    "loc_e_g = ~vcf_file['oc_gtex__gtex_gene'].isna()\n",
    "loc = ~vcf_file['oc_funseq2__score'].isna() & ~vcf_file['multiallelic']\n",
    "loc_e_f = vcf_file[loc][(vcf_file[loc].oc_funseq2__score.astype(float)>0.5) & (~vcf_file[loc]['oc_funseq2__motif'].isna() | ~vcf_file[loc]['oc_funseq2__hot'].isna()) & (vcf_file['oc_gtex__gtex_gene'].isna())]\n",
    "\n",
    "loc_ch = ~vcf_file['oc_pharmgkb__chemicals'].isna() | ~vcf_file['oc_oncokb_dm__highestsensitivelevel'].isna()\n",
    "loc_f = (vcf_file['likely_gof']=='Y') | (vcf_file['gof']=='Y')| (vcf_file['likely_lof']=='Y') | (vcf_file['lof']=='Y')\n",
    "loc_dida = ~vcf_file['oc_dida__id'].isna()\n",
    "loc_d = (vcf_file['likely_pathogenic']==\"Y\")\n",
    "loc_g = ~vcf_file['oc_gwas_catalog__disease'].isna()"
   ]
  },
  {
   "cell_type": "code",
   "execution_count": null,
   "metadata": {},
   "outputs": [],
   "source": [
    "vcf_file['associated_with'] =\"\"\n",
    "vcf_file.loc[loc_s,'associated_with'] += 'splicing;'\n",
    "vcf_file.loc[loc_e_g,'associated_with'] += 'expression;'\n",
    "vcf_file.loc[loc_e_f,'associated_with'] += 'expression;'\n",
    "vcf_file.loc[loc_ch,'associated_with'] += 'chemicals;'\n",
    "vcf_file.loc[loc_f,'associated_with'] += 'gene_function_loss;'\n",
    "vcf_file.loc[loc_f,'associated_with'] += 'gene_function_gain;'\n",
    "vcf_file.loc[loc_c,'associated_with'] += 'cancer;'\n",
    "vcf_file.loc[loc_dida,'associated_with'] += 'digenic_disease;'\n",
    "vcf_file.loc[loc_d,'associated_with'] += 'disease;'\n",
    "vcf_file.loc[loc_g,'associated_with'] += 'gwas;'"
   ]
  },
  {
   "cell_type": "code",
   "execution_count": null,
   "metadata": {},
   "outputs": [],
   "source": []
  },
  {
   "cell_type": "code",
   "execution_count": null,
   "metadata": {},
   "outputs": [],
   "source": [
    "vcf_file[~vcf_file['oc_pharmgkb__chemicals'].isna()].oc_pharmgkb__chemicals"
   ]
  },
  {
   "cell_type": "code",
   "execution_count": null,
   "metadata": {},
   "outputs": [],
   "source": [
    "oc_pharmgkb__id\n",
    "oc_pharmgkb__chemicals\n",
    "oc_pharmgkb__pheno_cat"
   ]
  },
  {
   "cell_type": "code",
   "execution_count": null,
   "metadata": {},
   "outputs": [],
   "source": []
  },
  {
   "cell_type": "code",
   "execution_count": null,
   "metadata": {},
   "outputs": [],
   "source": [
    "vcf_file[~vcf_file.oc_dida__id.isna()][['oc_dida__id',\n",
    " 'oc_dida__name',\n",
    " 'oc_dida__effect',\n",
    " 'oc_dida__relation',\n",
    " 'oc_dida__fam',\n",
    " 'oc_dida__funct',\n",
    " 'oc_dida__dist',\n",
    " 'oc_dida__pub',\n",
    " 'oc_dida__all',]]"
   ]
  },
  {
   "cell_type": "code",
   "execution_count": null,
   "metadata": {},
   "outputs": [],
   "source": [
    "'alfa',\n",
    "'provean'"
   ]
  },
  {
   "cell_type": "code",
   "execution_count": null,
   "metadata": {},
   "outputs": [],
   "source": [
    "list(vcf_file.columns)"
   ]
  },
  {
   "cell_type": "code",
   "execution_count": null,
   "metadata": {},
   "outputs": [],
   "source": [
    "vcf_file[vcf_file['oc_oncokb_dm__oncogenic']==\"Likely Oncogenic\"]['oc_oncokb_dm__oncogenic']"
   ]
  },
  {
   "cell_type": "code",
   "execution_count": null,
   "metadata": {},
   "outputs": [],
   "source": [
    "onco_kb=True"
   ]
  },
  {
   "cell_type": "code",
   "execution_count": null,
   "metadata": {},
   "outputs": [],
   "source": [
    "# improve\n",
    "vcf_file_i = vcf.improve(\n",
    "    vcf_file.copy(),\n",
    "    force_list=[\"oc_genehancer__feature_name\"],\n",
    "    annotators=[\"oncokb\", \"cscape\", \"civic\", \"brca1_func\", \"sift\", \"provean\", \"dann\", \n",
    "    \"revel\", \"spliceai\", \"gtex\", \"funseq2\", \"pharmgkb\", \"dida\", \"gwas_catalog\"] if onco_kb else [],\n",
    "    split_multiallelic=use_multi,                \n",
    ")"
   ]
  },
  {
   "cell_type": "code",
   "execution_count": null,
   "metadata": {},
   "outputs": [],
   "source": [
    "vcf_file_i[(vcf_file_i.likely_driver!=\"\") & vcf_file_i.hugo_symbol.isin(oncogene+tumor_suppressor_list)]"
   ]
  },
  {
   "cell_type": "code",
   "execution_count": null,
   "metadata": {},
   "outputs": [],
   "source": [
    "likely_pathogenic: 60\n",
    "oc_pharmgkb__chemicals: 360\n",
    "oc_oncokb_dm__highestsensitivelevel: 2\n",
    "likely_gof: 4\n",
    "likely_lof: 1200\n",
    "likely_driver: 2400\n",
    "clinically_significant: 30\n",
    "dna_repair: 570\n",
    "lof: 0"
   ]
  },
  {
   "cell_type": "code",
   "execution_count": null,
   "metadata": {},
   "outputs": [],
   "source": [
    "from genepy.utils import helper as h"
   ]
  },
  {
   "cell_type": "code",
   "execution_count": null,
   "metadata": {},
   "outputs": [],
   "source": [
    "oncogene = h.fileToList('../WGS_pipeline/oncokb_dm/data/onocogene_oncokb.txt')\n",
    "tumor_suppressor_list = h.fileToList('../WGS_pipeline/oncokb_dm/data/tumor_suppressor_oncokb.txt')"
   ]
  },
  {
   "cell_type": "code",
   "execution_count": null,
   "metadata": {},
   "outputs": [],
   "source": [
    "vcf.to_maf(vcf_file_i, sample_id=\"trial_samp\", drop_multi=True, oncogenic_list=oncogene, tumor_suppressor_list=tumor_suppressor_list, tokeep={**vcf.TOKEEP_BASE, **vcf.TOKEEP_ADD}, index=False)"
   ]
  },
  {
   "cell_type": "code",
   "execution_count": null,
   "metadata": {},
   "outputs": [],
   "source": [
    "pd.read_csv('trial_samp-maf-coding_somatic-subset.csv.gz')"
   ]
  },
  {
   "cell_type": "code",
   "execution_count": null,
   "metadata": {},
   "outputs": [],
   "source": [
    "oncogene = h.fileToList(\"../WGS_pipeline/oncokb_dm/data/onocogene_oncokb.txt\")\n",
    "tumor_suppressor_list = h.fileToList(\"../WGS_pipeline/oncokb_dm/data/tumor_suppressor_oncokb.txt\"\n",
    ")"
   ]
  },
  {
   "cell_type": "code",
   "execution_count": null,
   "metadata": {},
   "outputs": [],
   "source": [
    "force_keep=['oc_brca1_func_assay__class', 'oc_brca1_func_assay__score', 'clinvar_vcf_ssr', 'clinvar_vcf_clndisdbincl', 'clinvar_vcf_clnsigincl', 'clinvar_vcf_clndnincl', 'oc_oncokb__all', 'oc_oncokb__highestdiagnosticimplicationlevel', 'cgc_other_germline_mut', 'cgc_other_syndrome/disease', 'clinvar_vcf_clnsigconf', 'center', 'cosmicfusion_fusion_id', 'tumor_barcode', 'source\"', 'clinvar_vcf_filter', 'clinvar_vcf_dbvarid', 'normal_barcode', 'gencode_34_ncbibuild', 'oc_oncokb_dm__highestprognosticimplicationlevel', 'strandq', 'oc_oncokb_dm__highestsensitivelevel', 'ocm', 'oc_oncokb_dm__all', 'seqq', 'nlod', 'contq', 'nalod', 'oc_base__note', 'oc_cancer_hotspots__samples', 'oc_oncokb_dm__highestresistancelevel', 'oc_oncokb_dm__tumorsummary', 'oc_oncokb_dm__highestdiagnosticimplicationlevel', 'oc_hess_drivers__signature', 'oc_hess_drivers__is_driver']\n",
    "\n",
    "annotators=[\"oncokb\", \"cscape_coding\", \"civic\", \"brca1_func\", \"sift\", \"provean\", \"dann_coding\", \"revel\", \"spliceai\", \"gtex\", \"funseq2\", \"pharmgkb\", \"dida\", \"gwas_catalog\"]"
   ]
  },
  {
   "cell_type": "code",
   "execution_count": null,
   "metadata": {},
   "outputs": [],
   "source": [
    "! gsutil cp gs://fc-secure-d2a2d895-a7af-4117-bdc7-652d7d268324/00c56896-6485-40c0-bd2e-62dc2eb99ea3/run_opencravat/0b0ddfc9-a0c5-4301-8a98-7ddb769477b2/call-opencravat/out/CDS-0lrlra.filtered.vcf.gz ."
   ]
  },
  {
   "cell_type": "code",
   "execution_count": null,
   "metadata": {},
   "outputs": [],
   "source": [
    "sample_name= \"CDS-0lrlra\"\n",
    "whitelist=True"
   ]
  },
  {
   "cell_type": "code",
   "execution_count": null,
   "metadata": {},
   "outputs": [],
   "source": [
    "from taigapy import TaigaClient\n",
    "tc = TaigaClient()\n",
    "all_somatic_mutations_withlegacy = tc.get(name='depmap-a0ab', version=116, file='all_somatic_mutations_withlegacy')"
   ]
  },
  {
   "cell_type": "code",
   "execution_count": null,
   "metadata": {},
   "outputs": [],
   "source": [
    "all_somatic_mutations_withlegacy['Variant_Type']"
   ]
  },
  {
   "cell_type": "code",
   "execution_count": null,
   "metadata": {},
   "outputs": [],
   "source": [
    "all_somatic_mutations_withlegacy.columns.tolist()"
   ]
  },
  {
   "cell_type": "markdown",
   "metadata": {},
   "source": [
    "1. dropped: NCBI_Build: the same everywhere \n",
    "1. dropped: TCGAhsCnt, isTCGAhotspot (the same as the cosmic version and not available as default from most annotators)\n",
    "2. dropped Codon_Change, cDNA_Change as same as DNAchange\n",
    "3. added many new columns: see [CCLE MAF colunms selection](https://docs.google.com/spreadsheets/d/1qP7-SWlUrSH85KWzK1aTRb_N6yvvE6yB6JfN-JUekt8/edit#gid=1503712741)\n",
    "4. renamed columns: 'dbSNP_RS','dbSNP_Val_Status',\n",
    "2. not filtering likely immortalized mutations but annotating them: is_likely_immortalization\n",
    "3. keeping more\n",
    "4. solved bug removing key cancer mutations by adding better whitelisting based on oncoKB\n",
    "    \n",
    "    - mut is \"driver\" or #oncoKB\n",
    "    - mut is \"pathogenic\" or # revel\n",
    "    - mut is \"likely_gof\" or # oncoKB\n",
    "    - mut is \"clinically_significant\" or # oncoKB | civic\n",
    "    - mut is \"lof\" or # oncoKB\n",
    "    - (\n",
    "        - mut is \"likely_lof\" and # oncoKB | DANN\n",
    "        - mut is in tumor_suppressor gene #oncoKB\n",
    "    - ) or\n",
    "    - (\n",
    "        - mut is \"likely_driver\" and # oncoKB | cscape\n",
    "        - mut is \"hugo_symbol\" is in oncogenic_list or tumor_suppressor_list #oncoKB\n",
    "    - )\n",
    "5. dropping any mutation with issues of mapping quality, slippage error, strand bias, part of clustered events (see 5.1), base quality,  as defined by GATK variant filter tool and default parameters. And any mutations with low depth (<3), low frequency (<0.15) or that is multiallelic.\n",
    "    - clustered events are redefined over GATK filter's definition by this [pipeline](https://github.com/broadinstitute/depmap_omics/blob/master/WGS_pipeline/correct_mutect2_clusteredevent.R) and as explained here: [Mutect2 clustered events correction #63](https://github.com/broadinstitute/depmap_omics/issues/63)\n",
    "6. dropping any mutation that is non coding except if SPLICE_SITE event or whitelisted.\n",
    "7. dropping any mutation that is germline according to mutect2's germline filtering model or in the PON or which population allele frequency from gnomad is more than 1 in 1000 except if whitelisted."
   ]
  },
  {
   "cell_type": "code",
   "execution_count": null,
   "metadata": {},
   "outputs": [],
   "source": [
    "! gsutil rm gs://fc-secure-d2a2d895-a7af-4117-bdc7-652d7d268324/12b71160-28b6-4e0a-96d3-e4df85eb11a6/run_vcf_to_depmap/*/call-vcf_to_depmap/*/cromwell_glob_control_file"
   ]
  },
  {
   "cell_type": "code",
   "execution_count": null,
   "metadata": {},
   "outputs": [],
   "source": [
    "!gsutil ls gs://fc-secure-d2a2d895-a7af-4117-bdc7-652d7d268324/12b71160-28b6-4e0a-96d3-e4df85eb11a6/run_vcf_to_depmap/55aa6cf4-0557-4df3-9d26-7775ce8a6519/call-vcf_to_depmap/glob-233ae0abbeccb769e7426b0faeb6b946"
   ]
  },
  {
   "cell_type": "code",
   "execution_count": null,
   "metadata": {},
   "outputs": [],
   "source": [
    "! gsutil cp gs://fc-secure-d2a2d895-a7af-4117-bdc7-652d7d268324/12b71160-28b6-4e0a-96d3-e4df85eb11a6/run_vcf_to_depmap/55aa6cf4-0557-4df3-9d26-7775ce8a6519/call-vcf_to_depmap/glob-233ae0abbeccb769e7426b0faeb6b946/* ."
   ]
  },
  {
   "cell_type": "code",
   "execution_count": null,
   "metadata": {},
   "outputs": [],
   "source": [
    "ls"
   ]
  },
  {
   "cell_type": "code",
   "execution_count": null,
   "metadata": {},
   "outputs": [],
   "source": [
    "res = pd.read_parquet(\"870baaaada9a45a9aea13e51acd34e8d-0.parquet\")#\"gs://fc-secure-d2a2d895-a7af-4117-bdc7-652d7d268324/12b71160-28b6-4e0a-96d3-e4df85eb11a6/run_vcf_to_depmap/55aa6cf4-0557-4df3-9d26-7775ce8a6519/call-vcf_to_depmap/glob-233ae0abbeccb769e7426b0faeb6b946\")"
   ]
  },
  {
   "cell_type": "code",
   "execution_count": null,
   "metadata": {},
   "outputs": [],
   "source": [
    "subvcf = res[(res[\"cscape_score\"] != \"\") & (res[\"multiallelic\"] != \"Y\")][[\"oc_base__coding\", \"cscape_score\"]]"
   ]
  },
  {
   "cell_type": "code",
   "execution_count": null,
   "metadata": {},
   "outputs": [],
   "source": [
    "res[res[\"driver\"]==\"Y\"]"
   ]
  },
  {
   "cell_type": "code",
   "execution_count": null,
   "metadata": {},
   "outputs": [],
   "source": [
    "res[res.civic_description!=''].civic_score"
   ]
  },
  {
   "cell_type": "code",
   "execution_count": null,
   "metadata": {},
   "outputs": [],
   "source": [
    "res[res.ccle_deleterious==\"Y\"]"
   ]
  },
  {
   "cell_type": "code",
   "execution_count": null,
   "metadata": {},
   "outputs": [],
   "source": [
    "\"trancript_likely_lof\"]"
   ]
  },
  {
   "cell_type": "code",
   "execution_count": null,
   "metadata": {},
   "outputs": [],
   "source": [
    "loc = (res[\"oc_provean__score\"] != \"\") & (res[\"multiallelic\"] != \"Y\")\n",
    "res[loc][res[loc][\"oc_provean__score\"].astype(float) < -2.5][['dann_score', 'revel_score']]"
   ]
  },
  {
   "cell_type": "code",
   "execution_count": null,
   "metadata": {},
   "outputs": [],
   "source": []
  },
  {
   "cell_type": "code",
   "execution_count": null,
   "metadata": {},
   "outputs": [],
   "source": [
    "subres = res[(res.dann_score!='') & (res.multiallelic==\"\")]\n",
    "import seaborn as sns\n",
    "subres[(subres.dann_score.astype(float)<0.96) & (subres.likely_driver=='Y')]"
   ]
  },
  {
   "cell_type": "code",
   "execution_count": null,
   "metadata": {},
   "outputs": [],
   "source": [
    "res[res['oc_oncokb_dm__knowneffect']=='Likely Loss-of-function'].variant_info"
   ]
  },
  {
   "cell_type": "code",
   "execution_count": null,
   "metadata": {},
   "outputs": [],
   "source": [
    "set(res['oc_oncokb_dm__knowneffect'])"
   ]
  },
  {
   "cell_type": "code",
   "execution_count": null,
   "metadata": {},
   "outputs": [],
   "source": [
    "subvcf[subvcf.cscape_score.astype(float)>0.89]"
   ]
  },
  {
   "cell_type": "code",
   "execution_count": null,
   "metadata": {},
   "outputs": [],
   "source": [
    "from collections import Counter"
   ]
  },
  {
   "cell_type": "code",
   "execution_count": null,
   "metadata": {},
   "outputs": [],
   "source": [
    "for val in res[res.likely_lof==\"Y\"]['gt'])"
   ]
  },
  {
   "cell_type": "code",
   "execution_count": null,
   "metadata": {},
   "outputs": [],
   "source": [
    "res.columns.tolist()"
   ]
  },
  {
   "cell_type": "code",
   "execution_count": null,
   "metadata": {},
   "outputs": [],
   "source": [
    "res.loc[(res.multiallelic==\"Y\")&(res.as_filterstatus==\"SITE,SITE\"),\"variant_info\"].tolist()"
   ]
  },
  {
   "cell_type": "code",
   "execution_count": null,
   "metadata": {},
   "outputs": [],
   "source": [
    "\"a\".replace(\"a\", \"b\")"
   ]
  },
  {
   "cell_type": "code",
   "execution_count": null,
   "metadata": {},
   "outputs": [],
   "source": [
    "for k in [\"hgnc_synonyms\", \"hgnc_pubmed_ids\", \"hgnc_ccds_ids\", \"hgnc_name\", \"hgnc_locus_type\", \"hgnc_previous_symbols\", \"hgnc_previous_name\", \"hgnc_accession_numbers\", \"hgnc_refseq_ids\", \"hgnc_family\", \"hgnc_omim_id(supplied_by_omim)\", \"uniprot_id\", \"go_biological_process\", \"go_cellular_component\", \"go_molecular_function\", \"dbsnp_common\", \"dbsnp_geneinfo\"]:\n",
    "    res[k] = res[k].str.replace(',',\";\").str.replace(\"%3B\", \",\")"
   ]
  },
  {
   "cell_type": "code",
   "execution_count": null,
   "metadata": {},
   "outputs": [],
   "source": [
    "res[\"dbsnp_caf\"] = res[\"dbsnp_caf\"].str.replace('%3B', \",\")"
   ]
  },
  {
   "cell_type": "code",
   "execution_count": null,
   "metadata": {},
   "outputs": [],
   "source": [
    "res[\"oc_funseq2__all\"] = res[\"oc_funseq2__all\"].str.replace('\",\"', '\";\"')\n",
    "res[\"dbsnp_topmed\"] = res[\"dbsnp_topmed\"].str.replace('%3B', ';')"
   ]
  },
  {
   "cell_type": "code",
   "execution_count": null,
   "metadata": {},
   "outputs": [],
   "source": [
    "for k, val in res[(res['multiallelic']==\"Y\")].iterrows():\n",
    "    count = len(val['as_filterstatus'].split(','))\n",
    "    #for i, v in enumerate(val['as_filterstatus'].split(',')):\n",
    "    if val['dbsnp_topmed']!=\"\":\n",
    "        new = val['dbsnp_topmed'].split(\";\")\n",
    "        sm = int(len(new)/count)\n",
    "        res.loc[k, \"dbsnp_topmed\"] = ','.join([\";\".join(new[n:n+sm]) for n in range(count)])"
   ]
  },
  {
   "cell_type": "code",
   "execution_count": null,
   "metadata": {},
   "outputs": [],
   "source": [
    "for k, val in res[(res['multiallelic']==\"Y\")].iterrows():\n",
    "    count = len(val['as_filterstatus'].split(','))\n",
    "    data = val.values\n",
    "    dec = 0\n",
    "    for i, v in enumerate(val['as_filterstatus'].split(',')):\n",
    "        if v not in [\"SITE\", \"PON\", \"germline\"] or val['af'].split(',')[i]<=0.15:\n",
    "            for j, (coln, colv) in enumerate(val.iteritems()):\n",
    "                if \",\" in str(colv) or \"%3B\" in str(colv):\n",
    "                    loc = i-dec\n",
    "                    if coln in [\"mbq\", \"mfrl\", \"mmq\", \"ad\", \"af\", \"F1R2\", \"F2R1\", \"FAD\", \"as_sb_table\", \"dbsnp_caf\"]:\n",
    "                        # 1 more for ref:\n",
    "                        loc+=1\n",
    "                    if coln in [\"alt\", \"as_filterstatus\", \"as_sb_table\", \"gencode_34_start\", \"gencode_34_end\", \"variant_info\", \"gencode_34_varianttype\", \"gencode_34_refallele\", \"gencode_34_tumorseqallele1\", \"gencode_34_tumorseqallele2\", \"gencode_34_genomechange\", \"dna_change\", \"gc_content\", \"gencode_34_referencecontext\", \"gencode_34_othertranscripts\", \"hgnc_name\", \"hgnc_locus_type\", \"hgnc_previous_symbols\", \"hgnc_previous_name\", \"hgnc_synonyms\", \"hgnc_accession_numbers\", \"hgnc_pubmed_ids\", \"hgnc_refseq_ids\", \"hgnc_family\", \"hgnc_ccds_ids\", \"hgnc_omim_id(supplied_by_omim)\", \"uniprot_id\", \"go_biological_process\", \"go_cellular_component\", \"go_molecular_function\", \"dbsnp_ass\", \"dbsnp_caf\", \"dbsnp_cda\", \"dbsnp_common\", \"dbsnp_dss\", \"dbsnp_g5\", \"dbsnp_g5a\", \"dbsnp_geneinfo\", \"dbsnp_gno\", \"dbsnp_hd\", \"dbsnp_int\", \"dbsnp_kgphase1\", \"dbsnp_kgphase3\", \"dbsnp_lsd\", \"dbsnp_mtp\", \"dbsnp_mut\", \"dbsnp_noc\", \"dbsnp_nov\", \"dbsnp_nsf\", \"dbsnp_nsm\", \"dbsnp_nsn\", \"dbsnp_om\", \"dbsnp_oth\", \"dbsnp_pm\", \"dbsnp_pmc\", \"dbsnp_r3\", \"dbsnp_r5\", \"dbsnp_ref\", \"dbsnp_rs\", \"dbsnp_rspos\", \"dbsnp_rv\", \"dbsnp_s3d\", \"dbsnp_sao\", \"dbsnp_slo\", \"dbsnp_ssr\", \"dbsnp_syn\", \"dbsnp_topmed\", \"dbsnp_tpa\", \"dbsnp_u3\", \"dbsnp_u5\", \"dbsnp_vc\", \"dbsnp_vld\", \"dbsnp_vp\", \"dbsnp_wgt\", \"dbsnp_wtd\", \"dbsnp_dbsnpbuildid\", \"dbsnp_id\", \"mbq\", \"mfrl\", \"mmq\", \"mpos\", \"popaf\", \"tlod\", \"oc_base__so\", \"oc_base__cchange\", \"oc_base__all_mappings\", \"oc_alfa__total_alt\", \"oc_alfa__total_freq\", \"funseq2_score\", \"oc_funseq2__all\", \"oc_original_input__pos\", \"oc_original_input__ref_base\", \"oc_original_input__alt_base\", \"ad\", \"af\", \"F1R2\", \"F2R1\", \"FAD\", \"SB\"]:\n",
    "                        if coln != \"SB\": # don't know what to do here:\n",
    "                            new = data[j].split(\",\")\n",
    "                            new.pop(loc)\n",
    "                            data[j] = \",\".join(new)\n",
    "                    else:\n",
    "                        print(k, coln, colv)\n",
    "                        raise ValueError(\"\")\n",
    "            dec+=1\n",
    "    res.loc[k]=data"
   ]
  },
  {
   "cell_type": "code",
   "execution_count": null,
   "metadata": {},
   "outputs": [],
   "source": [
    "val['as_filterstatus'].split(',')"
   ]
  },
  {
   "cell_type": "code",
   "execution_count": null,
   "metadata": {},
   "outputs": [],
   "source": [
    "v"
   ]
  },
  {
   "cell_type": "code",
   "execution_count": null,
   "metadata": {},
   "outputs": [],
   "source": [
    "v not in [\"SITE\", \"PON\", \"germline\"]"
   ]
  },
  {
   "cell_type": "code",
   "execution_count": null,
   "metadata": {},
   "outputs": [],
   "source": [
    "loc, dec, i"
   ]
  },
  {
   "cell_type": "code",
   "execution_count": null,
   "metadata": {},
   "outputs": [],
   "source": [
    "h.dups(res.columns)"
   ]
  },
  {
   "cell_type": "code",
   "execution_count": null,
   "metadata": {},
   "outputs": [],
   "source": [
    "k, coln, colv"
   ]
  },
  {
   "cell_type": "code",
   "execution_count": null,
   "metadata": {},
   "outputs": [],
   "source": [
    "res.loc[k, 'mbq']"
   ]
  },
  {
   "cell_type": "code",
   "execution_count": null,
   "metadata": {},
   "outputs": [],
   "source": [
    "for k, val in res[(res['multiallelic']==\"Y\")].iterrows():\n",
    "    count = len(val['as_filterstatus'].split(','))\n",
    "    for i, v in enumerate(val['as_filterstatus'].split(',')):\n",
    "        if v!=\"SITE\":\n",
    "            data = val.values\n",
    "            \n",
    "            for j, (coln, colv) in enumerate(val.iteritems()):\n",
    "                if \",\" in str(colv) or \"%3B\" in str(colv):"
   ]
  },
  {
   "cell_type": "code",
   "execution_count": null,
   "metadata": {},
   "outputs": [],
   "source": [
    "# 3 to 2\n",
    "mbq 30,30,30\n",
    "mfrl 192,195,208\n",
    "mmq 60,51,27\n",
    "ad 35,18,26\n",
    "af 0.232,0.329\n",
    "F1R2 2,2,4\n",
    "F2R1 33,16,22\n",
    "FAD 35,18,26\n",
    "SB 31,4,43,1\n",
    "as_sb_table 31,4|17,1|26,0"
   ]
  },
  {
   "cell_type": "code",
   "execution_count": null,
   "metadata": {},
   "outputs": [],
   "source": [
    "# 3B to split\n",
    "hgnc_synonyms\n",
    "hgnc_pubmed_ids\n",
    "hgnc_ccds_ids\n",
    "hgnc_name\n",
    "hgnc_locus_type\n",
    "hgnc_previous_symbols\n",
    "hgnc_previous_name\n",
    "hgnc_accession_numbers\n",
    "hgnc_refseq_ids\n",
    "hgnc_family\n",
    "hgnc_omim_id\n",
    "uniprot_id\n",
    "go_biological_process\n",
    "go_cellular_component\n",
    "go_molecular_function\n",
    "dbsnp_common\n",
    "dbsnp_geneinfo"
   ]
  },
  {
   "cell_type": "code",
   "execution_count": null,
   "metadata": {},
   "outputs": [],
   "source": [
    "# cut on , but replace %3B to ,\n",
    "dbsnp_caf\n"
   ]
  },
  {
   "cell_type": "code",
   "execution_count": null,
   "metadata": {},
   "outputs": [],
   "source": [
    "# cut on %3B but full of %3B\n",
    "dbsnp_topmed"
   ]
  },
  {
   "cell_type": "code",
   "execution_count": null,
   "metadata": {},
   "outputs": [],
   "source": [
    "#list\n",
    "oc_funseq2__all"
   ]
  },
  {
   "cell_type": "code",
   "execution_count": null,
   "metadata": {},
   "outputs": [],
   "source": [
    "alt C,G\n",
    "as_filterstatus SITE,map_qual\n",
    "as_sb_table 31,4|17,1|26,0\n",
    "gencode_34_start 1646352,1646352\n",
    "gencode_34_end 1646352,1646352\n",
    "variant_info INTRON,INTRON\n",
    "gencode_34_varianttype SNP,SNP\n",
    "gencode_34_refallele A,A\n",
    "gencode_34_tumorseqallele1 A,A\n",
    "gencode_34_tumorseqallele2 C,G\n",
    "gencode_34_genomechange g.chr1:1646352A>C,g.chr1:1646352A>G\n",
    "dna_change c.e6+1090T>G,c.e6+1090T>C\n",
    "gc_content 0.341645885286783,0.341645885286783\n",
    "gencode_34_referencecontext GTACTTTTTAAAACACTAAGA,GTACTTTTTAAAACACTAAGA\n",
    "gencode_34_othertranscripts CDK11B_ENST00000341832.10_INTRON/CDK11B_ENST00000340677.9_INTRON/CDK11B_ENST00000629312.2_INTRON/CDK11B_ENST00000629289.2_INTRON/CDK11B_ENST00000626918.2_INTRON,CDK11B_ENST00000341832.10_INTRON/CDK11B_ENST00000340677.9_INTRON/CDK11B_ENST00000629312.2_INTRON/CDK11B_ENST00000629289.2_INTRON/CDK11B_ENST00000626918.2_INTRON\n",
    "hgnc_name cyclin dependent kinase 11B%3Bcyclin dependent kinase 11B\n",
    "hgnc_locus_type gene with protein product%3Bgene with protein product\n",
    "hgnc_previous_symbols CDC2L1%3BCDC2L1\n",
    "hgnc_previous_name \"cell division cycle 2-like 1 (PITSLRE proteins)\"%3B\"cell division cycle 2-like 1 (PITSLRE proteins)\"\n",
    "hgnc_synonyms CDK11-p110, CDK11-p58, CDK11-p46%3BCDK11-p110, CDK11-p58, CDK11-p46\n",
    "hgnc_accession_numbers AK000081%3BAK000081\n",
    "hgnc_pubmed_ids 1774066, 14511641, 19884882%3B1774066, 14511641, 19884882\n",
    "hgnc_refseq_ids NM_001787%3BNM_001787\n",
    "hgnc_family Cyclin dependent kinases%3BCyclin dependent kinases\n",
    "hgnc_ccds_ids CCDS72682, CCDS72683, CCDS72684%3BCCDS72682, CCDS72683, CCDS72684\n",
    "hgnc_omim_id(supplied_by_omim) 176873%3B176873\n",
    "uniprot_id P21127%3BP21127\n",
    "go_biological_process apoptotic process (GO:0006915) cell proliferation (GO:0008283) mitotic nuclear division (GO:0007067) protein phosphorylation (GO:0006468) regulation of cell growth (GO:0001558) regulation of mRNA processing (GO:0050684) regulation of transcription, DNA-templated (GO:0006355)%3Bapoptotic process (GO:0006915) cell proliferation (GO:0008283) mitotic nuclear division (GO:0007067) protein phosphorylation (GO:0006468) regulation of cell growth (GO:0001558) regulation of mRNA processing (GO:0050684) regulation of transcription, DNA-templated (GO:0006355)\n",
    "go_cellular_component cytoplasm (GO:0005737) nucleus (GO:0005634)%3Bcytoplasm (GO:0005737) nucleus (GO:0005634)\n",
    "go_molecular_function ATP binding (GO:0005524) cyclin-dependent protein serine/threonine kinase activity (GO:0004693) poly(A) RNA binding (GO:0044822) protein kinase activity (GO:0004672) protein serine/threonine kinase activity (GO:0004674)%3BATP binding (GO:0005524) cyclin-dependent protein serine/threonine kinase activity (GO:0004693) poly(A) RNA binding (GO:0044822) protein kinase activity (GO:0004672) protein serine/threonine kinase activity (GO:0004674)\n",
    "dbsnp_ass false,false\n",
    "dbsnp_caf 0.7508%3B0.2492%3B.,0.7508%3B0.2492%3B.\n",
    "dbsnp_cda false,false\n",
    "dbsnp_common 1%3B1\n",
    "dbsnp_dss false,false\n",
    "dbsnp_g5 true,true\n",
    "dbsnp_g5a false,false\n",
    "dbsnp_geneinfo CDK11B:984%3BCDK11B:984\n",
    "dbsnp_gno true,true\n",
    "dbsnp_hd false,false\n",
    "dbsnp_int true,true\n",
    "dbsnp_kgphase1 true,true\n",
    "dbsnp_kgphase3 true,true\n",
    "dbsnp_lsd false,false\n",
    "dbsnp_mtp false,false\n",
    "dbsnp_mut false,false\n",
    "dbsnp_noc false,false\n",
    "dbsnp_nov false,false\n",
    "dbsnp_nsf false,false\n",
    "dbsnp_nsm false,false\n",
    "dbsnp_nsn false,false\n",
    "dbsnp_om false,false\n",
    "dbsnp_oth false,false\n",
    "dbsnp_pm false,false\n",
    "dbsnp_pmc false,false\n",
    "dbsnp_r3 false,false\n",
    "dbsnp_r5 false,false\n",
    "dbsnp_ref false,false\n",
    "dbsnp_rs 76922129,76922129\n",
    "dbsnp_rspos 1646352,1646352\n",
    "dbsnp_rv false,false\n",
    "dbsnp_s3d false,false\n",
    "dbsnp_sao 0,0\n",
    "dbsnp_slo true,true\n",
    "dbsnp_ssr 0,0\n",
    "dbsnp_syn false,false\n",
    "dbsnp_topmed 0.17447916666666666%3B0.32427847859327217%3B0.50124235474006116%3B0.17447916666666666%3B0.32427847859327217%3B0.50124235474006116\n",
    "dbsnp_tpa false,false\n",
    "dbsnp_u3 false,false\n",
    "dbsnp_u5 false,false\n",
    "dbsnp_vc SNV,SNV\n",
    "dbsnp_vld true,true\n",
    "dbsnp_vp 0x050100080005150136000100,0x050100080005150136000100\n",
    "dbsnp_wgt 1,1\n",
    "dbsnp_wtd false,false\n",
    "dbsnp_dbsnpbuildid 131,131\n",
    "dbsnp_id rs76922129,rs76922129\n",
    "mbq 30,30,30\n",
    "mfrl 192,195,208\n",
    "mmq 60,51,27\n",
    "mpos 18,22\n",
    "popaf 0.554,0.623\n",
    "tlod 42.68,60.37\n",
    "oc_base__so intron_variant,intron_variant\n",
    "oc_base__cchange c.495-1090T>G,c.495-1090T>C\n",
    "oc_base__all_mappings ENST00000340677.9:CDK11B:P21127:intron_variant::c.393-1090T>G;-ENST00000341028.8:CDK11B::intron_variant,processed_transcript::;-ENST00000341832.10:CDK11B:P21127:intron_variant::c.495-1090T>G;-ENST00000407249.7:CDK11B:P21127:intron_variant::c.495-1090T>G;-ENST00000611150.3:CDK11B::intron_variant,NMD_transcript_variant::c.494+3147T>G;-ENST00000615951.4:CDK11B::intron_variant,NMD_transcript_variant::c.494+3147T>G;-ENST00000626918.2:CDK11B::intron_variant::c.228-209T>G;-ENST00000629289.2:CDK11B::intron_variant::c.228-174T>G;-ENST00000629312.2:CDK11B::intron_variant::c.228-304T>G,ENST00000340677.9:CDK11B:P21127:intron_variant::c.393-1090T>C;-ENST00000341028.8:CDK11B::intron_variant,processed_transcript::;-ENST00000341832.10:CDK11B:P21127:intron_variant::c.495-1090T>C;-ENST00000407249.7:CDK11B:P21127:intron_variant::c.495-1090T>C;-ENST00000611150.3:CDK11B::intron_variant,NMD_transcript_variant::c.494+3147T>C;-ENST00000615951.4:CDK11B::intron_variant,NMD_transcript_variant::c.494+3147T>C;-ENST00000626918.2:CDK11B::intron_variant::c.228-209T>C;-ENST00000629289.2:CDK11B::intron_variant::c.228-174T>C;-ENST00000629312.2:CDK11B::intron_variant::c.228-304T>C\n",
    "oc_alfa__total_alt 1042,\n",
    "oc_alfa__total_freq 0.47623400365630714,\n",
    "funseq2_score 0.0114791273831854,0.0114791273831854\n",
    "oc_funseq2__all [[\"\",\"\",\"\",\"\",\"\",\"\",\"0.0114791273831854\"]],[[\"\",\"\",\"\",\"\",\"\",\"\",\"0.0114791273831854\"]]\n",
    "oc_original_input__pos 1646352,1646352\n",
    "oc_original_input__ref_base A,A\n",
    "oc_original_input__alt_base C,G\n",
    "ad 35,18,26\n",
    "af 0.232,0.329\n",
    "F1R2 2,2,4\n",
    "F2R1 33,16,22\n",
    "FAD 35,18,26\n",
    "SB 31,4,43,1"
   ]
  },
  {
   "cell_type": "code",
   "execution_count": null,
   "metadata": {},
   "outputs": [],
   "source": []
  },
  {
   "cell_type": "code",
   "execution_count": null,
   "metadata": {},
   "outputs": [],
   "source": [
    "res[(res.multiallelic!=\"Y\") or (as_filterstatus.isin(['SITE,SITE']))]"
   ]
  },
  {
   "cell_type": "code",
   "execution_count": null,
   "metadata": {},
   "outputs": [],
   "source": [
    "res[res['gt']==\"0|1\"]"
   ]
  },
  {
   "cell_type": "code",
   "execution_count": null,
   "metadata": {},
   "outputs": [],
   "source": [
    "pd.read_csv('CDS-0lrlra-maf-coding_somatic-subset.csv.gz').columns.tolist()"
   ]
  },
  {
   "cell_type": "code",
   "execution_count": null,
   "metadata": {},
   "outputs": [],
   "source": [
    "vcf.to_maf(vcf_file, sample_name, drop_multi=True, only_somatic=True, only_coding=True, whitelist=whitelist, oncogenic_list=oncogene, tumor_suppressor_list=tumor_suppressor_list, tokeep={**vcf.TOKEEP_BASE, **vcf.TOKEEP_ADD}, index=False)"
   ]
  },
  {
   "cell_type": "code",
   "execution_count": null,
   "metadata": {},
   "outputs": [],
   "source": [
    "! gsutil"
   ]
  },
  {
   "cell_type": "code",
   "execution_count": null,
   "metadata": {},
   "outputs": [],
   "source": [
    "from genepy import mutations\n",
    "from depmapomics import vcf\n",
    "from genepy.utils import helper as h"
   ]
  },
  {
   "cell_type": "code",
   "execution_count": null,
   "metadata": {},
   "outputs": [],
   "source": [
    "%load_ext autoreload\n",
    "%autoreload 2"
   ]
  },
  {
   "cell_type": "code",
   "execution_count": null,
   "metadata": {},
   "outputs": [],
   "source": [
    "! gsutil cp gs://fc-secure-bd7b8bc9-f665-4269-997e-5a402088a369/submissions/eeed6174-a0ca-4212-8cd0-fbbeeceb8bbf/omics_post_mutect2/3538c675-76cd-4f00-9f7a-1b1812401ee9/call-open_cravat/out/CDS-82ZkGF.filtered.vcf.gz . \n",
    "#! gsutil cp gs://fc-secure-d2a2d895-a7af-4117-bdc7-652d7d268324/submissions/6ae580dd-c48c-484a-bf6e-534e627fefea/omics_post_mutect2/2bcfc364-8af9-4955-abd4-15e89d3d18bf/call-open_cravat/out/CDS-WUwVHP.filtered.vcf.gz .\n",
    "#gs://fc-secure-d2a2d895-a7af-4117-bdc7-652d7d268324/submissions/6ae580dd-c48c-484a-bf6e-534e627fefea/omics_post_mutect2/2fb03ecd-5ca1-4b82-9038-ecc645bb6f28/call-open_cravat/out/CDS-ZN0K5L.filtered.vcf.gz"
   ]
  },
  {
   "cell_type": "code",
   "execution_count": null,
   "metadata": {},
   "outputs": [],
   "source": []
  },
  {
   "cell_type": "code",
   "execution_count": null,
   "metadata": {},
   "outputs": [],
   "source": [
    "force_keep=['oc_brca1_func_assay__class', 'oc_brca1_func_assay__score', 'clinvar_vcf_ssr', 'clinvar_vcf_clndisdbincl', 'clinvar_vcf_clnsigincl', 'clinvar_vcf_clndnincl', 'oc_oncokb__all', 'oc_oncokb__highestdiagnosticimplicationlevel', 'cgc_other_germline_mut', 'cgc_other_syndrome/disease', 'clinvar_vcf_clnsigconf', 'center', 'cosmicfusion_fusion_id', 'tumor_barcode', 'source\"', 'clinvar_vcf_filter', 'clinvar_vcf_dbvarid', 'normal_barcode', 'gencode_34_ncbibuild', 'oc_oncokb_dm__highestprognosticimplicationlevel', 'strandq', 'oc_oncokb_dm__highestsensitivelevel', 'ocm', 'oc_oncokb_dm__all', 'seqq', 'nlod', 'contq', 'nalod', 'oc_base__note', 'oc_cancer_hotspots__samples', 'oc_oncokb_dm__highestresistancelevel', 'oc_oncokb_dm__tumorsummary', 'oc_oncokb_dm__highestdiagnosticimplicationlevel', 'oc_hess_drivers__signature', 'oc_hess_drivers__is_driver']\n",
    "use_multi=False\n",
    "annotators=[\"cscape\", \"civic\", \"brca1_func_assay\", \"provean\", \"dann\", \"revel\", \"spliceai\", \"gtex\", \"funseq2\", \"pharmgkb\", \"dida\", \"gwas_catalog\"]\n",
    "sample_name=\"CDS-82ZkGF\"\n",
    "vcf_filename=\"CDS-82ZkGF.filtered.vcf.gz\"\n",
    "whitelist=True\n",
    "loc = \"../WGS_pipeline\"\n",
    "oncogene = h.fileToList(loc + \"/oncokb_dm/data/onocogene_oncokb.txt\")\n",
    "tumor_suppressor_list = h.fileToList(\n",
    "    loc + \"/oncokb_dm/data/tumor_suppressor_oncokb.txt\"\n",
    ")\n",
    "n_rows=400_000"
   ]
  },
  {
   "cell_type": "code",
   "execution_count": null,
   "metadata": {},
   "outputs": [],
   "source": [
    "tobreak = False\n",
    "for i in range(10_000):\n",
    "    # read in vcf as a df\n",
    "    if i<6:\n",
    "        continue\n",
    "    vcf_file, _, _ = mutations.vcf_to_df(\n",
    "        vcf_filename,\n",
    "        additional_cols=[\"PON\"],\n",
    "        parse_filter=True,\n",
    "        force_keep=force_keep\n",
    "        + list(vcf.TO_RENAME_OC.keys())\n",
    "        + list(vcf.TO_RENAME_BASE.keys()),\n",
    "        drop_null=False,\n",
    "        cols_to_drop=[\n",
    "            \"clinvar_vcf_mc\",\n",
    "            \"oreganno_build\",\n",
    "            \"gt\",\n",
    "            \"ad\",\n",
    "            \"af\",\n",
    "            \"dp\",\n",
    "            \"f1r2\",\n",
    "            \"f2r1\",\n",
    "            \"fad\",\n",
    "            \"sb\",\n",
    "            \"pid\",\n",
    "            \"pl\",\n",
    "            \"ps\",\n",
    "            \"gq\",\n",
    "            \"pgt\",\n",
    "            \"gencode_34_chromosome\",\n",
    "        ],\n",
    "        nrows=n_rows,\n",
    "        skiprows=n_rows * i,\n",
    "    )\n",
    "    if \"PID\" not in vcf_file.columns.tolist():\n",
    "        vcf_file[\"PID\"] = \"\"\n",
    "    filen = len(vcf_file)\n",
    "    if filen < n_rows:\n",
    "        # we have reached the end:\n",
    "        tobreak = True\n",
    "\n",
    "    # improve\n",
    "    vcf_file = vcf.improve(\n",
    "        vcf_file,\n",
    "        force_list=[\"oc_genehancer__feature_name\"],\n",
    "        split_multiallelic=use_multi,\n",
    "        annotators=annotators,\n",
    "    )\n",
    "\n",
    "    # checking we have the same set of columns\n",
    "    cols = vcf_file.columns.tolist()\n",
    "    if i == 0:\n",
    "        prev_cols = cols\n",
    "    elif set(cols) != set(prev_cols):\n",
    "        raise ValueError(\n",
    "            \"we are removing different sets of columns\",\n",
    "            cols,\n",
    "            list(set(cols) ^ set(prev_cols)),\n",
    "        )\n",
    "    elif len(cols) != len(prev_cols):\n",
    "        raise ValueError(\"some columns have duplicate values\", prev_cols, cols)\n",
    "    elif cols != prev_cols:\n",
    "        vcf_file = vcf_file[prev_cols]\n",
    "\n",
    "    # save full\n",
    "    # need pyarrows\n",
    "    print(\"to parquet\")\n",
    "    pq.write_to_dataset(\n",
    "        pa.Table.from_pandas(vcf_file), root_path=sample_name + \"-maf-full.parquet\"\n",
    "    )\n",
    "\n",
    "    # save maf\n",
    "    print(\"saving maf\")\n",
    "    if i == 0:\n",
    "        vcf.to_maf(\n",
    "            vcf_file,\n",
    "            sample_name,\n",
    "            only_somatic=True,\n",
    "            only_coding=True,\n",
    "            whitelist=whitelist,\n",
    "            drop_multi=True,\n",
    "            oncogenic_list=oncogene,\n",
    "            tumor_suppressor_list=tumor_suppressor_list,\n",
    "            tokeep={**vcf.TOKEEP_BASE, **vcf.TOKEEP_ADD},\n",
    "            index=False,\n",
    "        )\n",
    "    else:\n",
    "        vcf.to_maf(\n",
    "            vcf_file,\n",
    "            sample_name,\n",
    "            only_somatic=True,\n",
    "            only_coding=True,\n",
    "            whitelist=whitelist,\n",
    "            drop_multi=True,\n",
    "            mode=\"a\",\n",
    "            header=False,\n",
    "            oncogenic_list=oncogene,\n",
    "            tumor_suppressor_list=tumor_suppressor_list,\n",
    "            tokeep={**vcf.TOKEEP_BASE, **vcf.TOKEEP_ADD},\n",
    "            index=False,\n",
    "        )\n",
    "    del vcf_file\n",
    "    if tobreak:\n",
    "        break\n",
    "print(\"finished, processed {} rows\".format((n_rows * i) + filen))"
   ]
  },
  {
   "cell_type": "code",
   "execution_count": null,
   "metadata": {},
   "outputs": [],
   "source": [
    "vcf_file, _, _ = mutations.vcf_to_df(\n",
    "    vcf_filename[:-3],\n",
    "    additional_cols=[\"PON\"],\n",
    "    parse_filter=True,\n",
    "    force_keep=force_keep\n",
    "    + list(vcf.TO_RENAME_OC.keys())\n",
    "    + list(vcf.TO_RENAME_BASE.keys()),\n",
    "    drop_null=False,\n",
    "    cols_to_drop=[\n",
    "        \"clinvar_vcf_mc\",\n",
    "        \"oreganno_build\",\n",
    "        \"gt\",\n",
    "        \"ad\",\n",
    "        \"af\",\n",
    "        \"dp\",\n",
    "        \"f1r2\",\n",
    "        \"f2r1\",\n",
    "        \"fad\",\n",
    "        \"sb\",\n",
    "        \"pid\",\n",
    "        \"pl\",\n",
    "        \"ps\",\n",
    "        \"gq\",\n",
    "        \"pgt\",\n",
    "        \"gencode_34_chromosome\",\n",
    "    ],\n",
    "    nrows=n_rows,\n",
    "    skiprows=(n_rows * i) + 230000,\n",
    ")"
   ]
  },
  {
   "cell_type": "code",
   "execution_count": null,
   "metadata": {},
   "outputs": [],
   "source": [
    "vcf_file = vcf.improve(\n",
    "    vcf_file,\n",
    "    force_list=[\"oc_genehancer__feature_name\"],\n",
    "    split_multiallelic=use_multi,\n",
    "    annotators=annotators,\n",
    ")"
   ]
  },
  {
   "cell_type": "code",
   "execution_count": null,
   "metadata": {},
   "outputs": [],
   "source": [
    "trscs = []\n",
    "loc = vcf_file[\"oc_revel__all\"].replace({None:''}) != \"\""
   ]
  },
  {
   "cell_type": "code",
   "execution_count": null,
   "metadata": {},
   "outputs": [],
   "source": [
    "vcf_file.loc[loc, \"oc_revel__all\"]"
   ]
  },
  {
   "cell_type": "code",
   "execution_count": null,
   "metadata": {},
   "outputs": [],
   "source": [
    "for k, val in vcf_file[loc][[\"oc_revel__all\"]].iterrows():\n",
    "    trsc = \"\"\n",
    "    for v in [i.split(\",\") for i in val.oc_revel__all[2:-2].split(\"],[\")]:\n",
    "        if float(v[1]) >= 0.7:\n",
    "            trsc += v[0][1:-1] + \";\"\n",
    "    trscs.append(trsc)"
   ]
  },
  {
   "cell_type": "code",
   "execution_count": null,
   "metadata": {},
   "outputs": [],
   "source": [
    "len(trscs)"
   ]
  },
  {
   "cell_type": "code",
   "execution_count": null,
   "metadata": {},
   "outputs": [],
   "source": [
    "vcf_file[loc].iloc[4388].multiallelic"
   ]
  },
  {
   "cell_type": "code",
   "execution_count": null,
   "metadata": {},
   "outputs": [],
   "source": [
    "val"
   ]
  },
  {
   "cell_type": "code",
   "execution_count": null,
   "metadata": {},
   "outputs": [],
   "source": [
    "val.oc_revel__all"
   ]
  },
  {
   "cell_type": "code",
   "execution_count": null,
   "metadata": {},
   "outputs": [],
   "source": [
    "vcf_file"
   ]
  },
  {
   "cell_type": "code",
   "execution_count": null,
   "metadata": {},
   "outputs": [],
   "source": [
    "pq.write_to_dataset(\n",
    "    pa.Table.from_pandas(vcf_file), root_path=sample_name + \"-maf-full.parquet\"\n",
    ")"
   ]
  },
  {
   "cell_type": "code",
   "execution_count": null,
   "metadata": {},
   "outputs": [],
   "source": [
    "vcf.to_maf(vcf_file, sample_name, drop_multi=True, only_somatic=True, only_coding=True, whitelist=True, oncogenic_list=oncogene, tumor_suppressor_list=tumor_suppressor_list, tokeep={**vcf.TOKEEP_BASE, **vcf.TOKEEP_ADD}, index=False, mode=\"a\", header=False)"
   ]
  },
  {
   "cell_type": "code",
   "execution_count": null,
   "metadata": {},
   "outputs": [],
   "source": [
    "set(pd.read_parquet(\"gs://fc-secure-bd7b8bc9-f665-4269-997e-5a402088a369/submissions/eeed6174-a0ca-4212-8cd0-fbbeeceb8bbf/omics_post_mutect2/393582b4-1ba8-491e-b946-2bc1b9aa35a3/call-my_vcf_to_depmap/glob-e1c0acb009de9ade4ec9ff7a6297cbf7/fad8addafb8c4329a1c9ccd7a9ce0605-0.parquet\").multiallelic)"
   ]
  },
  {
   "cell_type": "code",
   "execution_count": null,
   "metadata": {},
   "outputs": [],
   "source": []
  }
 ],
 "metadata": {
  "kernelspec": {
   "display_name": "Python 3 (ipykernel)",
   "language": "python",
   "name": "python3"
  },
  "latex_envs": {
   "LaTeX_envs_menu_present": true,
   "autoclose": false,
   "autocomplete": true,
   "bibliofile": "biblio.bib",
   "cite_by": "apalike",
   "current_citInitial": 1,
   "eqLabelWithNumbers": true,
   "eqNumInitial": 1,
   "hotkeys": {
    "equation": "Ctrl-E",
    "itemize": "Ctrl-I"
   },
   "labels_anchors": false,
   "latex_user_defs": false,
   "report_style_numbering": false,
   "user_envs_cfg": false
  },
  "toc": {
   "base_numbering": 1,
   "nav_menu": {},
   "number_sections": true,
   "sideBar": true,
   "skip_h1_title": false,
   "title_cell": "Table of Contents",
   "title_sidebar": "Contents",
   "toc_cell": false,
   "toc_position": {
    "height": "calc(100% - 180px)",
    "left": "10px",
    "top": "150px",
    "width": "261.811px"
   },
   "toc_section_display": true,
   "toc_window_display": true
  },
  "varInspector": {
   "cols": {
    "lenName": 16,
    "lenType": 16,
    "lenVar": 40
   },
   "kernels_config": {
    "python": {
     "delete_cmd_postfix": "",
     "delete_cmd_prefix": "del ",
     "library": "var_list.py",
     "varRefreshCmd": "print(var_dic_list())"
    },
    "r": {
     "delete_cmd_postfix": ") ",
     "delete_cmd_prefix": "rm(",
     "library": "var_list.r",
     "varRefreshCmd": "cat(var_dic_list()) "
    }
   },
   "position": {
    "height": "550.859px",
    "left": "922.994px",
    "right": "20px",
    "top": "104px",
    "width": "375.007px"
   },
   "types_to_exclude": [
    "module",
    "function",
    "builtin_function_or_method",
    "instance",
    "_Feature"
   ],
   "window_display": false
  }
 },
 "nbformat": 4,
 "nbformat_minor": 2
}
