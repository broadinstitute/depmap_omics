{
 "cells": [
  {
   "cell_type": "code",
   "execution_count": null,
   "id": "0f94f6a8",
   "metadata": {},
   "outputs": [],
   "source": [
    "import pandas as pd\n"
   ]
  },
  {
   "cell_type": "code",
   "execution_count": null,
   "id": "be9570ec",
   "metadata": {},
   "outputs": [],
   "source": [
    "ADD_WGS = {'ACH-000164', 'ACH-000928', 'ACH-000550', 'ACH-000739', 'ACH-000632', 'ACH-000454', 'ACH-001239'}\n",
    "ADD_HC = {'ACH-001187', 'ACH-001043', 'ACH-001092'}\n",
    "RENAME_SANGER_WES = {'ACH-002260': 'ACH-001543'}"
   ]
  },
  {
   "cell_type": "code",
   "execution_count": null,
   "id": "8bc19e6f",
   "metadata": {},
   "outputs": [],
   "source": [
    "from taigapy import TaigaClient\n",
    "tc = TaigaClient()\n",
    "legacy_wgs_exoniconly_somatic_mutations = tc.get(name='mutations-da6a', version=1, file='legacy_wgs_exoniconly_somatic_mutations')\n",
    "add_wgs = legacy_wgs_exoniconly_somatic_mutations[legacy_wgs_exoniconly_somatic_mutations.DepMap_ID.isin(ADD_WGS)]\n",
    "add_wgs"
   ]
  },
  {
   "cell_type": "code",
   "execution_count": null,
   "id": "9e20c398",
   "metadata": {},
   "outputs": [],
   "source": [
    "legacy_wgs_exoniconly_somatic_mutations[legacy_wgs_exoniconly_somatic_mutations.DepMap_ID=='ACH-000893']"
   ]
  },
  {
   "cell_type": "code",
   "execution_count": null,
   "id": "7a07e20e",
   "metadata": {},
   "outputs": [],
   "source": [
    "legacy_wgs_exoniconly = tc.get(name='mutations-da6a', version=6, file='legacy_wgs_exoniconly')\n",
    "legacy_wgs_exoniconly"
   ]
  },
  {
   "cell_type": "code",
   "execution_count": null,
   "id": "0366437c",
   "metadata": {},
   "outputs": [],
   "source": [
    "legacy_wgs_exoniconly = legacy_wgs_exoniconly.append(add_wgs)"
   ]
  },
  {
   "cell_type": "code",
   "execution_count": null,
   "id": "75d237c4",
   "metadata": {},
   "outputs": [],
   "source": [
    "legacy_wgs_exoniconly"
   ]
  },
  {
   "cell_type": "code",
   "execution_count": null,
   "id": "b1e1d37a",
   "metadata": {},
   "outputs": [],
   "source": [
    "legacy_hybridcapture_v3 = tc.get(name='mutations-da6a', version=3, file='legacy_hybridcapture')\n",
    "add_hc = legacy_hybridcapture_v3[legacy_hybridcapture_v3.DepMap_ID.isin(ADD_HC)]\n",
    "add_hc"
   ]
  },
  {
   "cell_type": "code",
   "execution_count": null,
   "id": "af3fbb7c",
   "metadata": {},
   "outputs": [],
   "source": [
    "legacy_hybridcapture = tc.get(name='mutations-da6a', version=8, file='legacy_hybridcapture')\n",
    "legacy_hybridcapture"
   ]
  },
  {
   "cell_type": "code",
   "execution_count": null,
   "id": "ffddfad1",
   "metadata": {},
   "outputs": [],
   "source": [
    "legacy_hybridcapture = legacy_hybridcapture.append(add_hc)\n",
    "legacy_hybridcapture"
   ]
  },
  {
   "cell_type": "code",
   "execution_count": null,
   "id": "a60b377d",
   "metadata": {},
   "outputs": [],
   "source": [
    "legacy_wes_sanger_v3 = tc.get(name='mutations-da6a', version=3, file='legacy_wes_sanger')\n",
    "wes_rename = legacy_wes_sanger_v3[legacy_wes_sanger_v3.DepMap_ID=='ACH-002260']\n",
    "wes_rename = wes_rename.replace({\"DepMap_ID\": RENAME_SANGER_WES})\n",
    "wes_rename"
   ]
  },
  {
   "cell_type": "code",
   "execution_count": null,
   "id": "b74038fe",
   "metadata": {},
   "outputs": [],
   "source": [
    "legacy_wes_sanger_v3[legacy_wes_sanger_v3.DepMap_ID=='']"
   ]
  },
  {
   "cell_type": "code",
   "execution_count": null,
   "id": "783746ee",
   "metadata": {},
   "outputs": [],
   "source": [
    "legacy_wes_sanger = tc.get(name='mutations-da6a', version=6, file='legacy_wes_sanger')\n",
    "legacy_wes_sanger"
   ]
  },
  {
   "cell_type": "code",
   "execution_count": null,
   "id": "a0df7d6d",
   "metadata": {},
   "outputs": [],
   "source": [
    "legacy_wes_sanger = legacy_wes_sanger.append(wes_rename)\n",
    "legacy_wes_sanger"
   ]
  },
  {
   "cell_type": "code",
   "execution_count": null,
   "id": "796f124f",
   "metadata": {},
   "outputs": [],
   "source": [
    "#legacy_wgs_exoniconly.to_csv('../temp/legacy_wgs_exoniconly.csv', index=False)\n",
    "legacy_hybridcapture.to_csv('../temp/legacy_hybridcapture.csv', index=False)\n",
    "#legacy_wes_sanger.to_csv('../temp/legacy_wes_sanger.csv', index=False)"
   ]
  },
  {
   "cell_type": "code",
   "execution_count": null,
   "id": "c5dd159f",
   "metadata": {},
   "outputs": [],
   "source": [
    "tc.update_dataset(changes_description=\"add lines back for 21Q4\",\n",
    "                dataset_permaname='mutations-da6a',\n",
    "                upload_files=[\n",
    "                  {\n",
    "                      \"path\": '../temp/legacy_hybridcapture.csv',\n",
    "                      \"format\": \"TableCSV\",\n",
    "                      \"encoding\": \"utf-8\"\n",
    "                  },\n",
    "                  {\n",
    "                      \"path\": '../temp/legacy_raindance.csv',\n",
    "                      \"format\": \"TableCSV\",\n",
    "                      \"encoding\": \"utf-8\"\n",
    "                  },\n",
    "                  {\n",
    "                      \"path\": '../temp/legacy_rna.csv',\n",
    "                      \"format\": \"TableCSV\",\n",
    "                      \"encoding\": \"utf-8\"\n",
    "                  },\n",
    "                  {\n",
    "                      \"path\": '../temp/legacy_wes_sanger.csv',\n",
    "                      \"format\": \"TableCSV\",\n",
    "                      \"encoding\": \"utf-8\"\n",
    "                  },\n",
    "                  {\n",
    "                      \"path\": '../temp/legacy_wgs_exoniconly.csv',\n",
    "                      \"format\": \"TableCSV\",\n",
    "                      \"encoding\": \"utf-8\"\n",
    "                  },\n",
    "                ],\n",
    "                dataset_description=\"where the legacy mutation lies\")"
   ]
  },
  {
   "cell_type": "code",
   "execution_count": null,
   "id": "e64dbc3b",
   "metadata": {},
   "outputs": [],
   "source": [
    "from taigapy import TaigaClient\n",
    "tc = TaigaClient()\n",
    "\n",
    "legacy_raindance = tc.get(name='mutations-da6a', version=6, file='legacy_raindance')\n",
    "legacy_rna = tc.get(name='mutations-da6a', version=6, file='legacy_rna')"
   ]
  },
  {
   "cell_type": "code",
   "execution_count": null,
   "id": "c4bd9731",
   "metadata": {},
   "outputs": [],
   "source": [
    "legacy_raindance.to_csv('../temp/legacy_raindance.csv', index=False)\n",
    "legacy_rna.to_csv('../temp/legacy_rna.csv', index=False)"
   ]
  },
  {
   "cell_type": "code",
   "execution_count": null,
   "id": "8e2dd74e",
   "metadata": {},
   "outputs": [],
   "source": []
  }
 ],
 "metadata": {
  "kernelspec": {
   "display_name": "Python 3",
   "language": "python",
   "name": "python3"
  },
  "language_info": {
   "codemirror_mode": {
    "name": "ipython",
    "version": 3
   },
   "file_extension": ".py",
   "mimetype": "text/x-python",
   "name": "python",
   "nbconvert_exporter": "python",
   "pygments_lexer": "ipython3",
   "version": "3.8.2"
  }
 },
 "nbformat": 4,
 "nbformat_minor": 5
}
