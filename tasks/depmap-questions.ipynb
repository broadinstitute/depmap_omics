{
 "cells": [
  {
   "cell_type": "markdown",
   "metadata": {},
   "source": [
    "# https://app.asana.com/0/0/1199347781908598/f"
   ]
  },
  {
   "cell_type": "code",
   "execution_count": null,
   "metadata": {},
   "outputs": [],
   "source": [
    "from taigapy import TaigaClient\n",
    "tc = TaigaClient()"
   ]
  },
  {
   "cell_type": "code",
   "execution_count": null,
   "metadata": {},
   "outputs": [],
   "source": [
    "CCLE_expression = tc.get(name='dmc-20q4-fcf4', version=33, file='CCLE_expression')"
   ]
  },
  {
   "cell_type": "code",
   "execution_count": null,
   "metadata": {},
   "outputs": [],
   "source": [
    "CCLE_expression.loc[:, CCLE_expression.columns.str.startswith('PINX1')]"
   ]
  },
  {
   "cell_type": "code",
   "execution_count": null,
   "metadata": {},
   "outputs": [],
   "source": [
    "CCLE_expression_full = tc.get(name='dmc-20q4-fcf4', version=33, file='CCLE_expression_full')"
   ]
  },
  {
   "cell_type": "code",
   "execution_count": null,
   "metadata": {},
   "outputs": [],
   "source": [
    "CCLE_expression_full.loc[:, CCLE_expression_full.columns.str.startswith('PINX1')]"
   ]
  },
  {
   "cell_type": "code",
   "execution_count": null,
   "metadata": {},
   "outputs": [],
   "source": [
    "import numpy as np\n",
    "np.log2(CCLE_expression_full.loc[:, CCLE_expression_full.columns.str.startswith('PINX1')]+1)"
   ]
  },
  {
   "cell_type": "markdown",
   "metadata": {},
   "source": [
    "# https://forum.depmap.org/t/high-number-of-cell-lines-with-copy-number-equal-to-0/295/5"
   ]
  },
  {
   "cell_type": "code",
   "execution_count": null,
   "metadata": {},
   "outputs": [],
   "source": [
    "from taigapy import TaigaClient\n",
    "tc = TaigaClient()"
   ]
  },
  {
   "cell_type": "code",
   "execution_count": null,
   "metadata": {},
   "outputs": [],
   "source": [
    "CCLE_gene_cn_20q4 = tc.get(name='public-20q4-a4b3', version=39, file='CCLE_gene_cn')"
   ]
  },
  {
   "cell_type": "code",
   "execution_count": null,
   "metadata": {},
   "outputs": [],
   "source": [
    "CCLE_segment_cn_20q4 = tc.get(name='public-20q4-a4b3', version=39, file='CCLE_segment_cn')"
   ]
  },
  {
   "cell_type": "code",
   "execution_count": null,
   "metadata": {},
   "outputs": [],
   "source": [
    "CCLE_gene_cn_20q3 = tc.get(name='public-20q3-3d35', version=33, file='CCLE_gene_cn')"
   ]
  },
  {
   "cell_type": "code",
   "execution_count": null,
   "metadata": {},
   "outputs": [],
   "source": [
    "CCLE_segment_cn_20q3 = tc.get(name='public-20q3-3d35', version=33, file='CCLE_segment_cn')"
   ]
  },
  {
   "cell_type": "code",
   "execution_count": null,
   "metadata": {},
   "outputs": [],
   "source": [
    "CCLE_gene_cn_20q4.columns[CCLE_gene_cn_20q4.columns.str.startswith('ERBB2')]"
   ]
  },
  {
   "cell_type": "code",
   "execution_count": null,
   "metadata": {},
   "outputs": [],
   "source": [
    "CCLE_gene_cn_20q4.loc['ACH-000859', 'ERBB2 (2064)'], CCLE_gene_cn_20q3.loc['ACH-000859', 'ERBB2 (2064)']"
   ]
  },
  {
   "cell_type": "code",
   "execution_count": null,
   "metadata": {},
   "outputs": [],
   "source": [
    "#ERBB2: chr17:39,687,914-39,730,426(GRCh38/hg38)"
   ]
  },
  {
   "cell_type": "code",
   "execution_count": null,
   "metadata": {},
   "outputs": [],
   "source": [
    "tmp = CCLE_segment_cn_20q4[CCLE_segment_cn_20q4['DepMap_ID'] == 'ACH-000859']\n",
    "tmp = tmp[tmp['Chromosome'] == '17']\n",
    "tmp[(tmp['Start'] < 39730426) & (tmp['End']>39687914)]"
   ]
  },
  {
   "cell_type": "markdown",
   "metadata": {},
   "source": [
    "### why is there so much difference in gene level copy numbers"
   ]
  },
  {
   "cell_type": "code",
   "execution_count": null,
   "metadata": {},
   "outputs": [],
   "source": [
    "tmp1 = CCLE_gene_cn_20q3.stack()\n",
    "tmp2 = CCLE_gene_cn_20q4.stack()"
   ]
  },
  {
   "cell_type": "code",
   "execution_count": null,
   "metadata": {},
   "outputs": [],
   "source": [
    "import pandas as pd\n",
    "CCLE_gene_cn_20q3q4 = pd.concat([tmp1, tmp2], axis=1)"
   ]
  },
  {
   "cell_type": "code",
   "execution_count": null,
   "metadata": {},
   "outputs": [],
   "source": [
    "CCLE_gene_cn_20q3q4.columns=['20q3', '20q4']"
   ]
  },
  {
   "cell_type": "code",
   "execution_count": null,
   "metadata": {},
   "outputs": [],
   "source": [
    "tmp_peak_at1 = CCLE_gene_cn_20q3q4[(CCLE_gene_cn_20q3q4['20q4']>2) & (CCLE_gene_cn_20q3q4['20q3'] > 0.5) & (CCLE_gene_cn_20q3q4['20q3']<1.5)]"
   ]
  },
  {
   "cell_type": "code",
   "execution_count": null,
   "metadata": {},
   "outputs": [],
   "source": [
    "len(set(CCLE_gene_cn_20q3q4.index.get_level_values(0)) - set(tmp_peak_at1.index.get_level_values(0)))"
   ]
  },
  {
   "cell_type": "code",
   "execution_count": null,
   "metadata": {},
   "outputs": [],
   "source": [
    "len(set(tmp_peak_at1.index.get_level_values(0)))"
   ]
  },
  {
   "cell_type": "code",
   "execution_count": null,
   "metadata": {},
   "outputs": [],
   "source": [
    "CCLE_gene_cn_20q3q4.reset_index(inplace=True)\n",
    "CCLE_gene_cn_20q3q4.rename(columns={'level_0': 'DepMap_ID', 'level_1': 'gene'}, inplace=True)"
   ]
  },
  {
   "cell_type": "code",
   "execution_count": null,
   "metadata": {},
   "outputs": [],
   "source": [
    "# cols = ['Source_20q3_x', 'Source_20q4_x',\n",
    "#        'source_change_x', 'Source_20q3_y', 'Source_20q4_y', 'source_change_y']\n",
    "\n",
    "# CCLE_gene_cn_20q3q4.drop(cols, axis=1, inplace=True)"
   ]
  },
  {
   "cell_type": "code",
   "execution_count": null,
   "metadata": {},
   "outputs": [],
   "source": [
    "sources = pd.merge(CCLE_segment_cn_20q3[['DepMap_ID', 'Source']].drop_duplicates(), \n",
    "         CCLE_segment_cn_20q4[['DepMap_ID', 'Source']].drop_duplicates(), \n",
    "         on='DepMap_ID', suffixes=['_20q3', '_20q4'])\n",
    "\n",
    "sources['source_change'] = sources.apply(lambda x: '{:s} -> {:s}'.format(x['Source_20q3'], x['Source_20q4']), axis=1)\n",
    "sources['source_has_changed'] = (sources['Source_20q3'] != sources['Source_20q4'])"
   ]
  },
  {
   "cell_type": "code",
   "execution_count": null,
   "metadata": {},
   "outputs": [],
   "source": [
    "CCLE_gene_cn_20q3q4 = pd.merge(CCLE_gene_cn_20q3q4, sources, on='DepMap_ID')"
   ]
  },
  {
   "cell_type": "code",
   "execution_count": null,
   "metadata": {},
   "outputs": [],
   "source": [
    "CCLE_gene_cn_20q3q4"
   ]
  },
  {
   "cell_type": "code",
   "execution_count": null,
   "metadata": {},
   "outputs": [],
   "source": [
    "%matplotlib inline\n",
    "import seaborn as sns\n",
    "import matplotlib.pyplot as plt\n",
    "plt.figure(figsize=(20,10))\n",
    "sns.scatterplot(data=CCLE_gene_cn_20q3q4.sample(1000000, random_state=0), x='20q3', y='20q4', \n",
    "                hue='source_change', style='source_has_changed', alpha=0.5, cmap='Tab20')"
   ]
  },
  {
   "cell_type": "markdown",
   "metadata": {},
   "source": [
    "What's going on with the peak?"
   ]
  },
  {
   "cell_type": "code",
   "execution_count": null,
   "metadata": {},
   "outputs": [],
   "source": [
    "tmp = CCLE_gene_cn_20q3q4[(CCLE_gene_cn_20q3q4['20q3'] > 0.8) & (CCLE_gene_cn_20q3q4['20q3'] < 1.2)]"
   ]
  },
  {
   "cell_type": "code",
   "execution_count": null,
   "metadata": {},
   "outputs": [],
   "source": [
    "tmp[tmp['20q4'] > 5]"
   ]
  },
  {
   "cell_type": "markdown",
   "metadata": {},
   "source": [
    "Looks like a lot of the genes in the 20q3 ~ 1 peak are on X chromosome. Let's remove XY genes and look at results again."
   ]
  },
  {
   "cell_type": "code",
   "execution_count": null,
   "metadata": {},
   "outputs": [],
   "source": [
    "genemapping_19Q1 = pd.read_csv('/Users/jnoorbak/broad/projects/depmap-omics/ccle_processing/data/genemapping_19Q1.csv')\n",
    "genemapping_19Q1"
   ]
  },
  {
   "cell_type": "code",
   "execution_count": null,
   "metadata": {},
   "outputs": [],
   "source": [
    "genemapping_19Q1_noXY = genemapping_19Q1[~genemapping_19Q1['Chromosome'].isin(['X', 'Y'])]"
   ]
  },
  {
   "cell_type": "code",
   "execution_count": null,
   "metadata": {},
   "outputs": [],
   "source": [
    "genenames_noXY = set(genemapping_19Q1_noXY['symbol'])"
   ]
  },
  {
   "cell_type": "code",
   "execution_count": null,
   "metadata": {},
   "outputs": [],
   "source": [
    "genemapping_19Q1_noXY"
   ]
  },
  {
   "cell_type": "code",
   "execution_count": null,
   "metadata": {},
   "outputs": [],
   "source": [
    "CCLE_gene_cn_20q3q4_filter = CCLE_gene_cn_20q3q4['gene'].map(lambda x: x.split()[0] in genenames_noXY)"
   ]
  },
  {
   "cell_type": "code",
   "execution_count": null,
   "metadata": {},
   "outputs": [],
   "source": [
    "CCLE_gene_cn_20q3q4_noXY = CCLE_gene_cn_20q3q4[CCLE_gene_cn_20q3q4_filter]"
   ]
  },
  {
   "cell_type": "code",
   "execution_count": null,
   "metadata": {},
   "outputs": [],
   "source": [
    "tmp = CCLE_gene_cn_20q3q4_noXY[(CCLE_gene_cn_20q3q4_noXY['20q3'] > 0.8) & (CCLE_gene_cn_20q3q4_noXY['20q3'] < 1.2)]"
   ]
  },
  {
   "cell_type": "code",
   "execution_count": null,
   "metadata": {},
   "outputs": [],
   "source": [
    "tmp[tmp['20q4'] > 3]"
   ]
  },
  {
   "cell_type": "code",
   "execution_count": null,
   "metadata": {},
   "outputs": [],
   "source": [
    "%matplotlib inline\n",
    "import seaborn as sns\n",
    "import matplotlib.pyplot as plt\n",
    "plt.figure(figsize=(20,10))\n",
    "sns.scatterplot(data=CCLE_gene_cn_20q3q4_noXY.sample(1000000, random_state=0), x='20q3', y='20q4', \n",
    "                hue='source_change', style='source_has_changed', alpha=0.5, cmap='Tab20')"
   ]
  },
  {
   "cell_type": "markdown",
   "metadata": {},
   "source": [
    "There are a lot of SNP array data that were changed to other data. Let's drop those and check again:"
   ]
  },
  {
   "cell_type": "code",
   "execution_count": null,
   "metadata": {},
   "outputs": [],
   "source": [
    "CCLE_gene_cn_20q3q4_noXY_noSNP = CCLE_gene_cn_20q3q4_noXY[CCLE_gene_cn_20q3q4_noXY['Source_20q3'] != 'Broad SNP' ]"
   ]
  },
  {
   "cell_type": "code",
   "execution_count": null,
   "metadata": {},
   "outputs": [],
   "source": [
    "plt.figure(figsize=(20,10))\n",
    "sns.scatterplot(data=CCLE_gene_cn_20q3q4_noXY_noSNP.sample(1000000, random_state=0), x='20q3', y='20q4', \n",
    "                hue='source_change', style='source_has_changed', alpha=0.5, cmap='Tab20')"
   ]
  },
  {
   "cell_type": "markdown",
   "metadata": {},
   "source": [
    "Let's drop cases with no source change for cleaner plots"
   ]
  },
  {
   "cell_type": "code",
   "execution_count": null,
   "metadata": {},
   "outputs": [],
   "source": [
    "CCLE_gene_cn_20q3q4_noXY_sourcechanged = CCLE_gene_cn_20q3q4_noXY[CCLE_gene_cn_20q3q4_noXY['source_has_changed']]"
   ]
  },
  {
   "cell_type": "code",
   "execution_count": null,
   "metadata": {},
   "outputs": [],
   "source": [
    "plt.figure(figsize=(20,10))\n",
    "sns.scatterplot(data=CCLE_gene_cn_20q3q4_noXY_sourcechanged.sample(1000000, random_state=0), x='20q3', y='20q4', \n",
    "                hue='source_change', alpha=0.5, cmap='Tab20')"
   ]
  },
  {
   "cell_type": "markdown",
   "metadata": {},
   "source": [
    "Let's only keep cases with no source change"
   ]
  },
  {
   "cell_type": "code",
   "execution_count": null,
   "metadata": {},
   "outputs": [],
   "source": [
    "CCLE_gene_cn_20q3q4_noXY_nosourcechanged = CCLE_gene_cn_20q3q4_noXY[~CCLE_gene_cn_20q3q4_noXY['source_has_changed']]"
   ]
  },
  {
   "cell_type": "code",
   "execution_count": null,
   "metadata": {},
   "outputs": [],
   "source": [
    "plt.figure(figsize=(20,10))\n",
    "sns.scatterplot(data=CCLE_gene_cn_20q3q4_noXY_nosourcechanged.sample(1000000, random_state=0), x='20q3', y='20q4', \n",
    "                hue='source_change', alpha=0.1, cmap='Tab20')"
   ]
  },
  {
   "cell_type": "markdown",
   "metadata": {},
   "source": [
    "Let's only keep cases with no source change (but add back XY)"
   ]
  },
  {
   "cell_type": "code",
   "execution_count": null,
   "metadata": {},
   "outputs": [],
   "source": [
    "CCLE_gene_cn_20q3q4_nosourcechanged = CCLE_gene_cn_20q3q4[~CCLE_gene_cn_20q3q4['source_has_changed']]"
   ]
  },
  {
   "cell_type": "code",
   "execution_count": null,
   "metadata": {},
   "outputs": [],
   "source": [
    "plt.figure(figsize=(20,10))\n",
    "sns.scatterplot(data=CCLE_gene_cn_20q3q4_nosourcechanged.sample(1000000, random_state=0), x='20q3', y='20q4', \n",
    "                hue='source_change', alpha=0.1, cmap='Tab20')"
   ]
  },
  {
   "cell_type": "markdown",
   "metadata": {},
   "source": [
    "Which samples have the unusual log transform?"
   ]
  },
  {
   "cell_type": "code",
   "execution_count": null,
   "metadata": {},
   "outputs": [],
   "source": [
    "import numpy as np\n",
    "weird_curve = np.abs(CCLE_gene_cn_20q3q4['20q4'] - np.log2(CCLE_gene_cn_20q3q4['20q3']+1))"
   ]
  },
  {
   "cell_type": "code",
   "execution_count": null,
   "metadata": {},
   "outputs": [],
   "source": [
    "CCLE_gene_cn_20q3q4_weird_curve = CCLE_gene_cn_20q3q4[weird_curve < 1e-9]"
   ]
  },
  {
   "cell_type": "code",
   "execution_count": null,
   "metadata": {},
   "outputs": [],
   "source": [
    "plt.figure(figsize=(20,10))\n",
    "sns.scatterplot(data=CCLE_gene_cn_20q3q4_weird_curve.sample(1000000, random_state=0), x='20q3', y='20q4', \n",
    "                hue='source_change', style='source_has_changed', alpha=0.5, cmap='Tab20')"
   ]
  },
  {
   "cell_type": "code",
   "execution_count": null,
   "metadata": {},
   "outputs": [],
   "source": [
    "CCLE_gene_cn_20q3q4['weird_curve'] = weird_curve < 1e-9"
   ]
  },
  {
   "cell_type": "code",
   "execution_count": null,
   "metadata": {},
   "outputs": [],
   "source": [
    "mean_genes_in_weird_curve = CCLE_gene_cn_20q3q4.groupby('DepMap_ID')['weird_curve'].mean()"
   ]
  },
  {
   "cell_type": "markdown",
   "metadata": {},
   "source": [
    "Let's plot the ratio of genes in each sample that are"
   ]
  },
  {
   "cell_type": "code",
   "execution_count": null,
   "metadata": {},
   "outputs": [],
   "source": [
    "mean_genes_in_weird_curve.plot.hist(40)"
   ]
  },
  {
   "cell_type": "code",
   "execution_count": null,
   "metadata": {},
   "outputs": [],
   "source": [
    "(mean_genes_in_weird_curve > 0.8).sum()"
   ]
  },
  {
   "cell_type": "markdown",
   "metadata": {},
   "source": [
    "Looks like samples are either in the curve or not. 862 samples are on this curve."
   ]
  },
  {
   "cell_type": "markdown",
   "metadata": {},
   "source": [
    "How about segment files?"
   ]
  },
  {
   "cell_type": "code",
   "execution_count": null,
   "metadata": {},
   "outputs": [],
   "source": [
    "CCLE_segment_cn_20q4 = tc.get(name='public-20q4-a4b3', version=39, file='CCLE_segment_cn')"
   ]
  },
  {
   "cell_type": "code",
   "execution_count": null,
   "metadata": {},
   "outputs": [],
   "source": [
    "CCLE_segment_cn_20q4.sort_values(['DepMap_ID', 'Chromosome', 'Start', 'End'], inplace=True)"
   ]
  },
  {
   "cell_type": "markdown",
   "metadata": {},
   "source": [
    "# https://forum.depmap.org/t/disappearing-mutations/248"
   ]
  },
  {
   "cell_type": "code",
   "execution_count": null,
   "metadata": {},
   "outputs": [],
   "source": [
    "from taigapy import TaigaClient\n",
    "tc = TaigaClient()\n"
   ]
  },
  {
   "cell_type": "code",
   "execution_count": null,
   "metadata": {},
   "outputs": [],
   "source": [
    "depmap_mutation_calls_20Q4 = tc.get(name='mutations-latest-ed72', version=2, file='wes_somatic_mutations_all_20Q4')\n",
    "depmap_mutation_calls_20Q2 = tc.get(name='depmap-mutation-calls-9be3', version=22, file='depmap_20Q2_mutation_calls')\n",
    "depmap_mutation_calls_20Q1 = tc.get(name='public-20q1-c3b6', version=17, file='CCLE_mutations')\n",
    "depmap_mutation_calls_19Q2 = tc.get(name='internal-19q2-9504', version=24, file='CCLE_mutations')"
   ]
  },
  {
   "cell_type": "code",
   "execution_count": null,
   "metadata": {},
   "outputs": [],
   "source": [
    "tmp = depmap_mutation_calls_20Q2.copy()\n",
    "tmp = tmp[tmp['DepMap_ID']=='ACH-000158']\n",
    "tmp[tmp['Hugo_Symbol']=='MYD88']"
   ]
  },
  {
   "cell_type": "code",
   "execution_count": null,
   "metadata": {},
   "outputs": [],
   "source": [
    "tmp = depmap_mutation_calls_20Q1.copy()\n",
    "tmp = tmp[tmp['DepMap_ID']=='ACH-000158']\n",
    "tmp[tmp['Hugo_Symbol']=='MYD88']"
   ]
  },
  {
   "cell_type": "code",
   "execution_count": null,
   "metadata": {},
   "outputs": [],
   "source": [
    "tmp = depmap_mutation_calls_19Q2.copy()\n",
    "tmp = tmp[tmp['DepMap_ID']=='ACH-000158']\n",
    "tmp[tmp['Hugo_Symbol']=='MYD88']"
   ]
  },
  {
   "cell_type": "code",
   "execution_count": null,
   "metadata": {},
   "outputs": [],
   "source": [
    "wes_mutation_somatic_unfiltered_withreplicates = tc.get(name='mutations-latest-ed72', version=2, \n",
    "                                                        file='wes_mutation_somatic_unfiltered_withreplicates')"
   ]
  },
  {
   "cell_type": "code",
   "execution_count": null,
   "metadata": {},
   "outputs": [],
   "source": [
    "tmp = wes_mutation_somatic_unfiltered_withreplicates\n",
    "tmp = tmp[tmp['DepMap_ID']=='ACH-000158']\n",
    "tmp[tmp['Hugo_Symbol']=='MYD88']"
   ]
  },
  {
   "cell_type": "markdown",
   "metadata": {},
   "source": [
    "# Scratch"
   ]
  },
  {
   "cell_type": "code",
   "execution_count": null,
   "metadata": {},
   "outputs": [],
   "source": [
    "gene_sets_20Q4_all = tc.get(name='expression-d035', version=2, file='gene_sets_20Q4_all')\n"
   ]
  },
  {
   "cell_type": "code",
   "execution_count": null,
   "metadata": {},
   "outputs": [],
   "source": [
    "gene_sets_20Q4_all"
   ]
  },
  {
   "cell_type": "code",
   "execution_count": null,
   "metadata": {},
   "outputs": [],
   "source": []
  },
  {
   "cell_type": "code",
   "execution_count": null,
   "metadata": {},
   "outputs": [],
   "source": [
    "from taigapy import TaigaClient\n",
    "tc = TaigaClient()\n",
    "\n",
    "depmap_mutation_calls = tc.get(name='mutations-latest-ed72', version=2, file='wes_somatic_mutations_all_20Q4')\n",
    "depmap_mutation_calls_old = tc.get(name='depmap-mutation-calls-9be3', version=22, file='depmap_20Q2_mutation_calls')\n"
   ]
  },
  {
   "cell_type": "code",
   "execution_count": null,
   "metadata": {},
   "outputs": [],
   "source": [
    "from gsheets import Sheets\n",
    "sheets_obj = Sheets.from_files('~/.client_secret.json', '~/.storage.json')\n",
    "\n",
    "sample_tracker = 'https://docs.google.com/spreadsheets/d/1XkZypRuOEXzNLxVk9EOHeWRE98Z8_DBvL4PovyM01FE/edit#gid=892927125'\n",
    "sheets = sheets_obj.get(sample_tracker).sheets\n",
    "# tmp1 = sheets[3].to_frame(header=0, index_col=None, usecols=['Sample ID', 'Primary Disease', 'Final Diagnosis', 'Fingerprint Pass / Fail', 'TCGA code (Moony)'])\n",
    "\n",
    "depmap_samples = sheets[0].to_frame(header=0, index_col=0)\n"
   ]
  },
  {
   "cell_type": "code",
   "execution_count": null,
   "metadata": {},
   "outputs": [],
   "source": [
    "depmap_samples['baits']"
   ]
  },
  {
   "cell_type": "code",
   "execution_count": null,
   "metadata": {},
   "outputs": [],
   "source": [
    "tmp = depmap_mutation_calls[depmap_mutation_calls['Hugo_Symbol']=='MYD88']['DepMap_ID'].sort_values()\n",
    "tmp"
   ]
  },
  {
   "cell_type": "code",
   "execution_count": null,
   "metadata": {},
   "outputs": [],
   "source": [
    "ccle_lines = depmap_samples[depmap_samples['source'] == 'CCLE2']['arxspan_id'].drop_duplicates().values"
   ]
  },
  {
   "cell_type": "code",
   "execution_count": null,
   "metadata": {},
   "outputs": [],
   "source": [
    "len(ccle_lines)"
   ]
  },
  {
   "cell_type": "code",
   "execution_count": null,
   "metadata": {},
   "outputs": [],
   "source": [
    "import pandas as pd\n",
    "fp = pd.read_csv('../other/Fingerprinting_test - parental_ref.tsv', sep='\\t', header=1)"
   ]
  },
  {
   "cell_type": "code",
   "execution_count": null,
   "metadata": {},
   "outputs": [],
   "source": [
    "len(fp)"
   ]
  },
  {
   "cell_type": "code",
   "execution_count": null,
   "metadata": {},
   "outputs": [],
   "source": [
    "fp = fp[fp['arxspan_id'].isin(ccle_lines)]"
   ]
  },
  {
   "cell_type": "code",
   "execution_count": null,
   "metadata": {},
   "outputs": [],
   "source": [
    "len(fp)"
   ]
  },
  {
   "cell_type": "code",
   "execution_count": null,
   "metadata": {},
   "outputs": [],
   "source": [
    "fp.to_csv('../other/fp_ccle.tsv', sep='\\t', index=None)"
   ]
  },
  {
   "cell_type": "code",
   "execution_count": null,
   "metadata": {},
   "outputs": [],
   "source": [
    "!open ../other/"
   ]
  },
  {
   "cell_type": "code",
   "execution_count": null,
   "metadata": {},
   "outputs": [],
   "source": [
    "depmap_mutation_calls[depmap_mutation_calls['Hugo_Symbol']=='MYD88']"
   ]
  },
  {
   "cell_type": "code",
   "execution_count": null,
   "metadata": {},
   "outputs": [],
   "source": [
    "depmap_samples['baits'].loc[tmp].value_counts()"
   ]
  },
  {
   "cell_type": "code",
   "execution_count": null,
   "metadata": {},
   "outputs": [],
   "source": [
    "depmap_mutation_calls_old[depmap_mutation_calls_old['Hugo_Symbol']=='MYD88']['DepMap_ID'].sort_values()"
   ]
  },
  {
   "cell_type": "code",
   "execution_count": null,
   "metadata": {},
   "outputs": [],
   "source": [
    "CCLE_fusions = tc.get(name='internal-20q2-7f46', version=18, file='CCLE_fusions')"
   ]
  },
  {
   "cell_type": "code",
   "execution_count": null,
   "metadata": {},
   "outputs": [],
   "source": [
    "CCLE_fusions"
   ]
  },
  {
   "cell_type": "code",
   "execution_count": null,
   "metadata": {},
   "outputs": [],
   "source": [
    "from taigapy import TaigaClient\n",
    "tc = TaigaClient()\n",
    "dmc_20Q3_gene_cn = tc.get(name='depmap-cn-data-9b9d', version=15, file='dmc_20Q3_gene_cn')\n",
    "dmc_20Q3_segs_cn = tc.get(name='depmap-cn-data-9b9d', version=15, file='dmc_20Q3_segs_cn')"
   ]
  },
  {
   "cell_type": "code",
   "execution_count": null,
   "metadata": {},
   "outputs": [],
   "source": [
    "dmc_20Q3_segs_cn"
   ]
  },
  {
   "cell_type": "code",
   "execution_count": null,
   "metadata": {},
   "outputs": [],
   "source": [
    "internal_20Q3_gene_cn = tc.get(name='depmap-wes-cn-data-81a7', version=24, file='internal_20Q3_gene_cn')"
   ]
  },
  {
   "cell_type": "code",
   "execution_count": null,
   "metadata": {},
   "outputs": [],
   "source": [
    "internal_20Q3_segs_cn = tc.get(name='depmap-wes-cn-data-81a7', version=24, file='internal_20Q3_segs_cn')"
   ]
  },
  {
   "cell_type": "code",
   "execution_count": null,
   "metadata": {},
   "outputs": [],
   "source": [
    "%%bash\n",
    "# maf=gs://fc-secure-d8458bee-4f7e-4de1-b9d0-17df5cbe9477/e2d8d510-ff89-4825-9d23-51b026a2f6e0/CNVSomaticPairWorkflow/e76c5c17-5528-4ec1-b44a-b74b12d5bcc1/call-CallCopyRatioSegmentsTumor/AA01-Tumor-SM-5GU8S.hg38.called.seg\n",
    "maf=gs://fc-secure-d8458bee-4f7e-4de1-b9d0-17df5cbe9477/e2d8d510-ff89-4825-9d23-51b026a2f6e0/CNVSomaticPairWorkflow/fc082402-b099-4035-8bd5-f13cc87207af/call-CallCopyRatioSegmentsTumor/AA02-Tumor-SM-5GU8T.hg38.called.seg\n",
    "gsutil cp $maf /tmp/    "
   ]
  },
  {
   "cell_type": "code",
   "execution_count": null,
   "metadata": {},
   "outputs": [],
   "source": [
    "cnv=pd.read_csv('/tmp/AA02-Tumor-SM-5GU8T.hg38.called.seg', sep='\\t', comment='@')"
   ]
  },
  {
   "cell_type": "code",
   "execution_count": null,
   "metadata": {},
   "outputs": [],
   "source": [
    "cnv=pd.read_csv('/tmp/AA01-Tumor-SM-5GU8S.hg38.called.seg', sep='\\t', comment='@')"
   ]
  },
  {
   "cell_type": "code",
   "execution_count": null,
   "metadata": {},
   "outputs": [],
   "source": [
    "%matplotlib inline\n",
    "import matplotlib.pyplot as plt\n",
    "import seaborn as sns\n",
    "\n",
    "sns.set_style('whitegrid')\n",
    "cnv['CRatio']=2**cnv['MEAN_LOG2_COPY_RATIO']\n",
    "sns.stripplot(data=cnv, x='CALL', y='CRatio', order=['-', '0', '+'])\n"
   ]
  },
  {
   "cell_type": "code",
   "execution_count": null,
   "metadata": {},
   "outputs": [],
   "source": [
    "from taigapy import TaigaClient\n",
    "tc = TaigaClient()\n",
    "\n",
    "CCLE_segment_cn = tc.get(name='internal-20q2-7f46', version=18, file='CCLE_segment_cn')"
   ]
  },
  {
   "cell_type": "code",
   "execution_count": null,
   "metadata": {},
   "outputs": [],
   "source": [
    "CCLE_segment_cn"
   ]
  },
  {
   "cell_type": "code",
   "execution_count": null,
   "metadata": {},
   "outputs": [],
   "source": [
    "import numpy as np\n",
    "cnv.groupby('CALL')['MEAN_LOG2_COPY_RATIO'].apply(lambda x: (2**x).describe()).unstack().loc[['-', '0', '+']]"
   ]
  },
  {
   "cell_type": "code",
   "execution_count": null,
   "metadata": {},
   "outputs": [],
   "source": [
    "import pandas as pd\n",
    "\n",
    "df = pd.read_csv('/tmp/tmp.txt', sep='\\t')"
   ]
  },
  {
   "cell_type": "code",
   "execution_count": null,
   "metadata": {},
   "outputs": [],
   "source": [
    "df['COSMIC_overlapping_mutations'].notnull().count()"
   ]
  },
  {
   "cell_type": "code",
   "execution_count": null,
   "metadata": {},
   "outputs": [],
   "source": [
    "df['COSMIC_n_overlapping_mutations'].notnull().count()"
   ]
  },
  {
   "cell_type": "code",
   "execution_count": null,
   "metadata": {},
   "outputs": [],
   "source": [
    "df[df['COSMIC_n_overlapping_mutations'].notnull()][['Hugo_Symbol', 'COSMIC_overlapping_mutations', 'COSMIC_n_overlapping_mutations']]"
   ]
  },
  {
   "cell_type": "code",
   "execution_count": null,
   "metadata": {},
   "outputs": [],
   "source": [
    "df[df['COSMIC_n_overlapping_mutations'] == 1582][['Hugo_Symbol', 'COSMIC_overlapping_mutations']].iloc[0]"
   ]
  },
  {
   "cell_type": "code",
   "execution_count": null,
   "metadata": {},
   "outputs": [],
   "source": [
    "df['COSMIC_overlapping_mutations'].unique()"
   ]
  },
  {
   "cell_type": "code",
   "execution_count": null,
   "metadata": {},
   "outputs": [],
   "source": [
    "%load_ext rpy2.ipython"
   ]
  },
  {
   "cell_type": "code",
   "execution_count": null,
   "metadata": {},
   "outputs": [],
   "source": [
    "%%R\n",
    "COSMIChotspotMinCnt = 10\n",
    "maf <- read.csv(file = '/tmp/tmp.txt', sep='\\t')\n",
    "# Cosmic cnts (overlapping muts)\n",
    "\n",
    "COSMICcnt = unlist(sapply(as.character(maf$COSMIC_overlapping_mutations), \n",
    "                          function(x){sum(as.numeric(\n",
    "                            gsub(')','', sapply(unlist(strsplit(x, '|', fixed=TRUE)), \n",
    "                                                function(x){ unlist(strsplit(x,'(', fixed=TRUE))[2] }))))}));\n",
    "\n",
    "\n",
    "\n",
    "if(is.null(maf$COSMIC_overlapping_mutations)){\n",
    "  COSMICcnt=  maf$COSMIC_n_overlapping_mutations\n",
    "  if(is.null(COSMICcnt)){\n",
    "    COSMICcnt =  maf$i_COSMIC_n_overlapping_mutations\n",
    "    \n",
    "  }\n",
    "}\n",
    "\n",
    "\n",
    "# COSMICcnt= convertToNumeric(COSMICcnt)\n",
    "# isCOSMIChotspot = (COSMICcnt>=COSMIChotspotMinCnt);\n",
    "# COSMICcnt"
   ]
  },
  {
   "cell_type": "code",
   "execution_count": null,
   "metadata": {},
   "outputs": [],
   "source": [
    "from taigapy import TaigaClient\n",
    "tc = TaigaClient()\n",
    "internal_20Q2_gene_cn = tc.get(name='depmap-wes-cn-data-81a7', version=22, file='internal_20Q2_gene_cn')\n",
    "internal_20Q2_segs_cn = tc.get(name='depmap-wes-cn-data-81a7', version=22, file='internal_20Q2_segs_cn')"
   ]
  },
  {
   "cell_type": "code",
   "execution_count": null,
   "metadata": {},
   "outputs": [],
   "source": [
    "tmp = (2**internal_20Q2_gene_cn).unstack()"
   ]
  },
  {
   "cell_type": "code",
   "execution_count": null,
   "metadata": {},
   "outputs": [],
   "source": [
    "tmp"
   ]
  },
  {
   "cell_type": "code",
   "execution_count": null,
   "metadata": {},
   "outputs": [],
   "source": [
    "(2*(tmp-1)).describe()"
   ]
  },
  {
   "cell_type": "code",
   "execution_count": null,
   "metadata": {},
   "outputs": [],
   "source": [
    "internal_20Q2_gene_cn.mean()"
   ]
  },
  {
   "cell_type": "code",
   "execution_count": null,
   "metadata": {},
   "outputs": [],
   "source": [
    "internal_20Q2_gene_cn.median()"
   ]
  },
  {
   "cell_type": "code",
   "execution_count": null,
   "metadata": {},
   "outputs": [],
   "source": [
    "internal_20Q2_segs_cn.groupby('DepMap_ID')['Segment_Mean'].median().describe()"
   ]
  },
  {
   "cell_type": "code",
   "execution_count": null,
   "metadata": {},
   "outputs": [],
   "source": [
    "(np.log2(internal_20Q2_segs_cn.groupby('DepMap_ID')['Segment_Mean'].min())).plot.hist(bins=40)"
   ]
  },
  {
   "cell_type": "code",
   "execution_count": null,
   "metadata": {},
   "outputs": [],
   "source": [
    "internal_20Q2_segs_cn.groupby('DepMap_ID')['Segment_Mean'].mean().describe()"
   ]
  },
  {
   "cell_type": "code",
   "execution_count": null,
   "metadata": {},
   "outputs": [],
   "source": [
    "2**.005"
   ]
  },
  {
   "cell_type": "code",
   "execution_count": null,
   "metadata": {},
   "outputs": [],
   "source": [
    "internal_20Q2_segs_cn['Segment_Mean'].describe()"
   ]
  },
  {
   "cell_type": "code",
   "execution_count": null,
   "metadata": {},
   "outputs": [],
   "source": [
    "internal_20Q2_gene_cn.stack().describe()"
   ]
  },
  {
   "cell_type": "code",
   "execution_count": null,
   "metadata": {},
   "outputs": [],
   "source": [
    "%matplotlib inline\n",
    "import matplotlib.pyplot as plt\n",
    "internal_20Q2_segs_cn['Segment_Mean'].sample(1000).plot.hist(bins=100)\n",
    "plt.xlim([0, 5]);"
   ]
  },
  {
   "cell_type": "code",
   "execution_count": null,
   "metadata": {},
   "outputs": [],
   "source": [
    "%matplotlib inline\n",
    "import matplotlib.pyplot as plt\n",
    "tmp.sample(1000).plot.hist(bins=100)\n",
    "plt.xlim([0, 5]);"
   ]
  },
  {
   "cell_type": "code",
   "execution_count": null,
   "metadata": {},
   "outputs": [],
   "source": [
    "%matplotlib inline\n",
    "import matplotlib.pyplot as plt\n",
    "internal_20Q2_gene_cn.unstack().sample(1000).plot.hist(bins=100)\n",
    "plt.xlim([0, 5]);"
   ]
  },
  {
   "cell_type": "code",
   "execution_count": null,
   "metadata": {},
   "outputs": [],
   "source": [
    "import numpy as np\n",
    "x = np.linspace(-10, 20, 100)\n",
    "y = np.log2(2**x+1)\n",
    "\n",
    "plt.plot(x, y)\n",
    "plt.plot(x, x, '--')"
   ]
  },
  {
   "cell_type": "code",
   "execution_count": null,
   "metadata": {},
   "outputs": [],
   "source": []
  }
 ],
 "metadata": {
  "kernelspec": {
   "display_name": "Python 3",
   "language": "python",
   "name": "python3"
  },
  "language_info": {
   "codemirror_mode": {
    "name": "ipython",
    "version": 3
   },
   "file_extension": ".py",
   "mimetype": "text/x-python",
   "name": "python",
   "nbconvert_exporter": "python",
   "pygments_lexer": "ipython3",
   "version": "3.7.4"
  }
 },
 "nbformat": 4,
 "nbformat_minor": 4
}
