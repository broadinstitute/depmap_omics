{
 "cells": [
  {
   "cell_type": "code",
   "execution_count": null,
   "id": "61914300",
   "metadata": {},
   "outputs": [],
   "source": [
    "from __future__ import print_function\n",
    "\n",
    "from depmapomics.config import *\n",
    "\n",
    "from depmapomics import tracker, loading, fusions, expressions\n",
    "from depmapomics import terra as myterra\n",
    "from genepy import terra\n",
    "from genepy.utils import helper as h\n",
    "import subprocess\n",
    "\n",
    "import dalmatian as dm\n",
    "\n",
    "from bokeh.plotting import output_notebook\n",
    "\n",
    "%load_ext autoreload\n",
    "%autoreload 2\n",
    "\n",
    "output_notebook()"
   ]
  },
  {
   "cell_type": "code",
   "execution_count": null,
   "id": "12d49a08",
   "metadata": {},
   "outputs": [],
   "source": [
    "ws = dm.WorkspaceManager('broad-firecloud-ccle/CCLE_PDX_RNAseq').disable_hound()\n",
    "samples = ws.get_samples()"
   ]
  },
  {
   "cell_type": "code",
   "execution_count": null,
   "id": "a8662a5a",
   "metadata": {},
   "outputs": [],
   "source": [
    "terra.changeToBucket(\n",
    "        samples,\n",
    "        'gs://coldcclebams/rna/PDX/',\n",
    "        name_col=\"index\",\n",
    "        values=['RNAseq_bam'],\n",
    "        filetypes=['bam'],\n",
    "        catchdup=True,\n",
    "        dryrun=False,\n",
    "    )"
   ]
  },
  {
   "cell_type": "code",
   "execution_count": null,
   "id": "c192413c",
   "metadata": {},
   "outputs": [],
   "source": [
    "# broad-firecloud-ccle/DepMap_WES_PONS_hg38"
   ]
  },
  {
   "cell_type": "code",
   "execution_count": null,
   "id": "c5c69f7d",
   "metadata": {},
   "outputs": [],
   "source": [
    "normal_ws = dm.WorkspaceManager('broad-firecloud-ccle/DepMap_WES_PONS_hg38').disable_hound()\n",
    "normal_samples = normal_ws.get_samples()"
   ]
  },
  {
   "cell_type": "code",
   "execution_count": null,
   "id": "2fd69c52",
   "metadata": {},
   "outputs": [],
   "source": [
    "normal_samples"
   ]
  },
  {
   "cell_type": "code",
   "execution_count": null,
   "id": "32a6a57e",
   "metadata": {},
   "outputs": [],
   "source": [
    "from google.cloud import storage\n",
    "import pandas as pd\n",
    "storage_client = storage.Client()\n",
    "\n",
    "def check_broken_path(row):\n",
    "    if pd.isna(row['hg38_analysis_ready_bam']):\n",
    "        return False\n",
    "    else:\n",
    "        bucket_name = row['hg38_analysis_ready_bam'].split(\"/\")[2]\n",
    "        file_name = \"/\".join(row['hg38_analysis_ready_bam'].split(\"/\")[3:])\n",
    "        bucket = storage_client.bucket(bucket_name)\n",
    "        return storage.Blob(bucket=bucket, name=file_name).exists(storage_client)"
   ]
  },
  {
   "cell_type": "code",
   "execution_count": null,
   "id": "5b578374",
   "metadata": {},
   "outputs": [],
   "source": [
    "validnormals = normal_samples[normal_samples.apply(check_broken_path, axis=1)]\n",
    "validnormals"
   ]
  },
  {
   "cell_type": "code",
   "execution_count": null,
   "id": "b3f5ffbe",
   "metadata": {},
   "outputs": [],
   "source": [
    "terra.changeToBucket(\n",
    "        validnormals,\n",
    "        'gs://depmap-wes-normals/',\n",
    "        name_col=\"index\",\n",
    "        values=['hg38_analysis_ready_bam', 'hg38_analysis_ready_bam_index'],\n",
    "        filetypes=['bam', 'bai'],\n",
    "        catchdup=True,\n",
    "        dryrun=False,\n",
    "    )"
   ]
  },
  {
   "cell_type": "code",
   "execution_count": null,
   "id": "70ad72c3",
   "metadata": {},
   "outputs": [],
   "source": [
    "samples = terra.changeToBucket(\n",
    "        validnormals,\n",
    "        'gs://depmap-wes-normals/',\n",
    "        name_col=\"index\",\n",
    "        values=['hg38_analysis_ready_bam', 'hg38_analysis_ready_bam_index'],\n",
    "        filetypes=['bam', 'bai'],\n",
    "        catchdup=True,\n",
    "        dryrun=True,\n",
    "    )"
   ]
  },
  {
   "cell_type": "code",
   "execution_count": null,
   "id": "172a5f30",
   "metadata": {},
   "outputs": [],
   "source": [
    "samples"
   ]
  },
  {
   "cell_type": "code",
   "execution_count": null,
   "id": "e6f097c2",
   "metadata": {},
   "outputs": [],
   "source": [
    "for i in normal_samples.index:\n",
    "    if i in samples.index and normal_samples.loc[i, 'hg38_analysis_ready_bam_index'] != samples.loc[i, 'hg38_analysis_ready_bam_index']:\n",
    "        normal_samples.loc[i, 'hg38_analysis_ready_bam'] = samples.loc[i, 'hg38_analysis_ready_bam']\n",
    "        normal_samples.loc[i, 'hg38_analysis_ready_bam_index'] = samples.loc[i, 'hg38_analysis_ready_bam_index']\n",
    "normal_samples"
   ]
  },
  {
   "cell_type": "code",
   "execution_count": null,
   "id": "18b6f23e",
   "metadata": {},
   "outputs": [],
   "source": [
    "normal_samples.loc['AGILENT_10541']"
   ]
  },
  {
   "cell_type": "code",
   "execution_count": null,
   "id": "eaa94160",
   "metadata": {},
   "outputs": [],
   "source": [
    "samples.loc['AGILENT_10541', 'hg38_analysis_ready_bam_index']"
   ]
  },
  {
   "cell_type": "code",
   "execution_count": null,
   "id": "7705667f",
   "metadata": {},
   "outputs": [],
   "source": [
    "normal_ws.update_sample_attributes(normal_samples)"
   ]
  },
  {
   "cell_type": "code",
   "execution_count": null,
   "id": "f6a3969b",
   "metadata": {},
   "outputs": [],
   "source": [
    "torm = await terra.deleteHeavyFiles(\"broad-firecloud-ccle/DepMap_WES_PONS_hg38\")\n",
    "h.parrun(['gsutil rm '+i for i in storm], cores=8)"
   ]
  },
  {
   "cell_type": "code",
   "execution_count": null,
   "id": "3cbcb792",
   "metadata": {},
   "outputs": [],
   "source": [
    "rna_wm = dm.WorkspaceManager('broad-firecloud-ccle/DepMap_hg38_RNAseq').disable_hound()\n",
    "rna_samples = rna_wm.get_samples()"
   ]
  },
  {
   "cell_type": "code",
   "execution_count": null,
   "id": "6a9b8f6e",
   "metadata": {},
   "outputs": [],
   "source": [
    "# too slow!! because changeToBucket uses cp instead of mv\n",
    "rna_samples = terra.changeToBucket(\n",
    "        rna_samples,\n",
    "        'gs://cclebams/rna_transcriptome/',\n",
    "        name_col=\"index\",\n",
    "        values=['star_transcriptome_bam'],\n",
    "        filetypes=['bam'],\n",
    "        catchdup=True,\n",
    "        dryrun=True,\n",
    "    )"
   ]
  },
  {
   "cell_type": "code",
   "execution_count": null,
   "id": "d27110e0",
   "metadata": {},
   "outputs": [],
   "source": [
    "from genepy.google import gcp\n",
    "\n",
    "gcp.mvFiles(rna_samples.star_transcriptome_bam.tolist(), 'gs://cclebams/rna_transcriptome/')"
   ]
  },
  {
   "cell_type": "code",
   "execution_count": null,
   "id": "8ea0a5b3",
   "metadata": {},
   "outputs": [],
   "source": [
    "for i in rna_samples.index:\n",
    "    if not (rna_samples.loc[i, 'star_transcriptome_bam'].startswith('gs://cclebams/')):\n",
    "        rna_samples.loc[i, 'star_transcriptome_bam'] = 'gs://cclebams/rna_transcriptome/' + rna_samples.loc[i, 'star_transcriptome_bam'].split('/')[-1]"
   ]
  },
  {
   "cell_type": "code",
   "execution_count": null,
   "id": "a46fe0a1",
   "metadata": {},
   "outputs": [],
   "source": [
    "rna_samples.star_transcriptome_bam"
   ]
  },
  {
   "cell_type": "code",
   "execution_count": null,
   "id": "c36aec68",
   "metadata": {},
   "outputs": [],
   "source": [
    "rna_wm.update_sample_attributes(rna_samples)"
   ]
  },
  {
   "cell_type": "code",
   "execution_count": null,
   "id": "e96721d8",
   "metadata": {},
   "outputs": [],
   "source": []
  }
 ],
 "metadata": {
  "kernelspec": {
   "display_name": "Python 3",
   "language": "python",
   "name": "python3"
  },
  "language_info": {
   "codemirror_mode": {
    "name": "ipython",
    "version": 3
   },
   "file_extension": ".py",
   "mimetype": "text/x-python",
   "name": "python",
   "nbconvert_exporter": "python",
   "pygments_lexer": "ipython3",
   "version": "3.8.2"
  }
 },
 "nbformat": 4,
 "nbformat_minor": 5
}
