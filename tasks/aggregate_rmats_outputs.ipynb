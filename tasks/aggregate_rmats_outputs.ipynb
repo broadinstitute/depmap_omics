{
 "cells": [
  {
   "cell_type": "code",
   "execution_count": null,
   "id": "604a21b8",
   "metadata": {},
   "outputs": [],
   "source": [
    "import pandas as pd\n",
    "import dalmatian as dm"
   ]
  },
  {
   "cell_type": "code",
   "execution_count": null,
   "id": "865187cc",
   "metadata": {},
   "outputs": [],
   "source": [
    "# rMATS analyzes skipped exon (SE), alternative 5' splice site (A5SS), alternative 3' splice site (A3SS), \n",
    "# mutually exclusive exons (MXE), and retained intron (RI) events\n",
    "rmats_cols = [\"A3SS_JC_output\", \"A5SS_JC_output\", \"MXE_JC_output\", \"RI_JC_output\", \"SE_JC_output\"]"
   ]
  },
  {
   "cell_type": "code",
   "execution_count": null,
   "id": "68cdfc8b",
   "metadata": {},
   "outputs": [],
   "source": [
    "import json\n",
    "\n",
    "rna_renaming = {}\n",
    "with open('../temp/22minerva/rna_sample_renaming.json') as json_file:\n",
    "    rna_renaming = json.load(json_file)\n"
   ]
  },
  {
   "cell_type": "code",
   "execution_count": null,
   "id": "494fb2c0",
   "metadata": {},
   "outputs": [],
   "source": [
    "def aggregate_rmats(ws, renaming_dict, rmats_cols):\n",
    "    wm = dm.WorkspaceManager(ws).disable_hound()\n",
    "    rnasamples = wm.get_samples()\n",
    "    for c in rmats_cols:\n",
    "        print(\"aggregating \" + c)\n",
    "        df_list = []\n",
    "        for i in rnasamples.index:\n",
    "            if i in renaming_dict:\n",
    "                arxspan = renaming_dict.loc[i, \"arxspan_id\"]\n",
    "                df = pd.read_csv(rnasamples.loc[i, c], sep='\\t')\n",
    "                df = df.dropna(axis=1, how='all')\n",
    "                df = df.drop(['ID', 'ID.1'], axis=1)\n",
    "                df = df[~df.IncLevel1.isna()]\n",
    "                df['DepMap_ID'] = rna_renaming[i]\n",
    "                df_list.append(df)\n",
    "        agg_df = pd.concat(df_list)\n",
    "        print(\"saving file: \" + c + \"_aggregated.csv\")\n",
    "        agg_df.to_csv(c + \"_aggregated.csv\", index=False)\n",
    "        print(c + \"_aggregated.csv saved\")"
   ]
  },
  {
   "cell_type": "code",
   "execution_count": null,
   "id": "0191cc59",
   "metadata": {},
   "outputs": [],
   "source": [
    "pd.read_csv(\"A3SS_JC_output_aggregated.csv\", sep='\\t')"
   ]
  },
  {
   "cell_type": "code",
   "execution_count": null,
   "id": "2e847361",
   "metadata": {},
   "outputs": [],
   "source": [
    "from taigapy import TaigaClient\n",
    "tc = TaigaClient()\n",
    "\n",
    "tc.update_dataset(\n",
    "        changes_description=\"updated aggregated rMATS outputs\",\n",
    "        dataset_permaname=\"omics-features-952e\",\n",
    "        upload_files=[\n",
    "            {\n",
    "                \"path\": \"A3SS_JC_output_aggregated.csv\",\n",
    "                \"format\": \"TableCSV\",\n",
    "                \"encoding\": \"utf-8\",\n",
    "            },\n",
    "            {\n",
    "                \"path\": \"A5SS_JC_output_aggregated.csv\",\n",
    "                \"format\": \"TableCSV\",\n",
    "                \"encoding\": \"utf-8\",\n",
    "            },\n",
    "            {\n",
    "                \"path\": \"MXE_JC_output_aggregated.csv\",\n",
    "                \"format\": \"TableCSV\",\n",
    "                \"encoding\": \"utf-8\",\n",
    "            },\n",
    "            {\n",
    "                \"path\": \"RI_JC_output_aggregated.csv\",\n",
    "                \"format\": \"TableCSV\",\n",
    "                \"encoding\": \"utf-8\",\n",
    "            },\n",
    "#             {\n",
    "#                 \"path\": \"SE_JC_output_aggregated.csv\",\n",
    "#                 \"format\": \"TableCSV\",\n",
    "#                 \"encoding\": \"utf-8\",\n",
    "#             },\n",
    "        ],\n",
    "        add_all_existing_files=True\n",
    "    )"
   ]
  },
  {
   "cell_type": "code",
   "execution_count": null,
   "id": "51a2180e",
   "metadata": {},
   "outputs": [],
   "source": [
    "# SE_JC output file is too big for taiga\n",
    "# stored here: gs://cclebams-sandbox/SE_JC_output_aggregated.csv"
   ]
  }
 ],
 "metadata": {
  "kernelspec": {
   "display_name": "Python 3",
   "language": "python",
   "name": "python3"
  },
  "language_info": {
   "codemirror_mode": {
    "name": "ipython",
    "version": 3
   },
   "file_extension": ".py",
   "mimetype": "text/x-python",
   "name": "python",
   "nbconvert_exporter": "python",
   "pygments_lexer": "ipython3",
   "version": "3.8.2"
  }
 },
 "nbformat": 4,
 "nbformat_minor": 5
}
