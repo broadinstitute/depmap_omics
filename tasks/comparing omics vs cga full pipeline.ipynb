{
 "cells": [
  {
   "cell_type": "code",
   "execution_count": null,
   "metadata": {},
   "outputs": [],
   "source": [
    "from genepy.google import gcp\n",
    "import pandas as pd\n",
    "from depmapomics.tracker import initTracker, SampleTracker\n",
    "from depmapomics.config_prod import *\n",
    "from taigapy import TaigaClient\n",
    "tc = TaigaClient()\n",
    "%load_ext autoreload\n",
    "%autoreload 2"
   ]
  },
  {
   "cell_type": "code",
   "execution_count": null,
   "metadata": {},
   "outputs": [],
   "source": [
    "pip install liftover"
   ]
  },
  {
   "cell_type": "code",
   "execution_count": null,
   "metadata": {},
   "outputs": [],
   "source": [
    "from liftover import get_lifter\n",
    "converter = get_lifter('hg38', 'hg19')"
   ]
  },
  {
   "cell_type": "code",
   "execution_count": null,
   "metadata": {},
   "outputs": [],
   "source": [
    "track = SampleTracker(\n",
    "        my_id=MY_ID,\n",
    "        mystorage_id=MYSTORAGE_ID,\n",
    "        sheetcreds=SHEETCREDS,\n",
    "        refsheet_url=REFSHEET_URL,\n",
    "        depmap_pv=DEPMAP_PV,\n",
    "        samples_not_found_url=SAMPLES_NOT_FOUND_URL,\n",
    "        samples_missing_arxspan_url=SAMPLES_MISSING_ARXSPAN_URL,\n",
    "        gumbo_url=GUMBO_SHEET,\n",
    "        gumbo_sheetname=GUMBO_SHEETNAME,\n",
    "    )"
   ]
  },
  {
   "cell_type": "markdown",
   "metadata": {},
   "source": [
    "## updating the pipeline"
   ]
  },
  {
   "cell_type": "code",
   "execution_count": null,
   "metadata": {},
   "outputs": [],
   "source": [
    "tracker = track.read_tracker()"
   ]
  },
  {
   "cell_type": "code",
   "execution_count": null,
   "metadata": {},
   "outputs": [],
   "source": [
    "rn = {u: v['arxspan_id'] for u,v in tracker[['arxspan_id']].iterrows()}"
   ]
  },
  {
   "cell_type": "code",
   "execution_count": null,
   "metadata": {},
   "outputs": [],
   "source": [
    "import dalmatian as dm\n",
    "wm = dm.WorkspaceManager(\"broad-firecloud-ccle/DepMap_WES_CN_hg38\")"
   ]
  },
  {
   "cell_type": "code",
   "execution_count": null,
   "metadata": {},
   "outputs": [],
   "source": [
    "samp = wm.get_samples()"
   ]
  },
  {
   "cell_type": "code",
   "execution_count": null,
   "metadata": {},
   "outputs": [],
   "source": [
    "files = ! gsutil ls 'gs://fc-secure-d2a2d895-a7af-4117-bdc7-652d7d268324/6001c090-b09a-4785-8b8a-33aa9c3a7ec6/omics_post_mutect2/*/call-my_vcf_to_depmap/*-maf-coding_somatic-subset.csv.gz'\n"
   ]
  },
  {
   "cell_type": "code",
   "execution_count": null,
   "metadata": {},
   "outputs": [],
   "source": [
    "morefiles = ! gsutil ls 'gs://fc-secure-d2a2d895-a7af-4117-bdc7-652d7d268324/6001c090-b09a-4785-8b8a-33aa9c3a7ec6/omics_post_mutect2/*/call-my_vcf_to_depmap/*/*-maf-coding_somatic-subset.csv.gz'"
   ]
  },
  {
   "cell_type": "code",
   "execution_count": null,
   "metadata": {},
   "outputs": [],
   "source": [
    "len(files+morefiles)"
   ]
  },
  {
   "cell_type": "code",
   "execution_count": null,
   "metadata": {},
   "outputs": [],
   "source": [
    "depmap_file = {i.split('/')[-1].split('-maf')[0]: i for i in files+morefiles}"
   ]
  },
  {
   "cell_type": "code",
   "execution_count": null,
   "metadata": {},
   "outputs": [],
   "source": [
    "files = ! gsutil ls 'gs://fc-secure-d2a2d895-a7af-4117-bdc7-652d7d268324/6001c090-b09a-4785-8b8a-33aa9c3a7ec6/omics_post_mutect2/*/call-my_vcf_to_depmap/glob-*/*.parquet'\n",
    "morefiles = ! gsutil ls 'gs://fc-secure-d2a2d895-a7af-4117-bdc7-652d7d268324/6001c090-b09a-4785-8b8a-33aa9c3a7ec6/omics_post_mutect2/*/call-my_vcf_to_depmap/*/glob-*/*.parquet'\n",
    "len(files+morefiles)"
   ]
  },
  {
   "cell_type": "code",
   "execution_count": null,
   "metadata": {},
   "outputs": [],
   "source": [
    "full_file = {sam: '[\"' for sam in list(set([i.split('/')[5] for i in files+morefiles]))}"
   ]
  },
  {
   "cell_type": "code",
   "execution_count": null,
   "metadata": {},
   "outputs": [],
   "source": [
    "for f in files+morefiles:\n",
    "    full_file[f.split('/')[5]]+=('\", \"'+f if full_file[f.split('/')[5]][-2]!='[' else f)"
   ]
  },
  {
   "cell_type": "code",
   "execution_count": null,
   "metadata": {},
   "outputs": [],
   "source": [
    "len(depmap_file)"
   ]
  },
  {
   "cell_type": "code",
   "execution_count": null,
   "metadata": {},
   "outputs": [],
   "source": [
    "repl = {}\n",
    "for k,v in depmap_file.items():\n",
    "    repl[v.split('/')[5]] = k"
   ]
  },
  {
   "cell_type": "code",
   "execution_count": null,
   "metadata": {},
   "outputs": [],
   "source": [
    "for k in list(full_file.keys()):\n",
    "    full_file[k] += ']\"'"
   ]
  },
  {
   "cell_type": "code",
   "execution_count": null,
   "metadata": {},
   "outputs": [],
   "source": [
    "set(depmap_file.keys())-set(full_file.keys())"
   ]
  },
  {
   "cell_type": "code",
   "execution_count": null,
   "metadata": {},
   "outputs": [],
   "source": [
    "full_file['CDS-4oiBVD'] = '[ \"gs://fc-secure-d2a2d895-a7af-4117-bdc7-652d7d268324/6001c090-b09a-4785-8b8a-33aa9c3a7ec6/omics_post_mutect2/995afd45-83ae-4c8a-ac38-e4c7157f5eb9/call-my_vcf_to_depmap/glob-17f6425344ec8f0636d7ea01c552c5c4/9ac687e4eeee4116aff90689cb1902e6-0.parquet\" ]'"
   ]
  },
  {
   "cell_type": "code",
   "execution_count": null,
   "metadata": {},
   "outputs": [],
   "source": [
    "full_file['CDS-ui7Aql'] = '[ \"gs://fc-secure-d2a2d895-a7af-4117-bdc7-652d7d268324/6001c090-b09a-4785-8b8a-33aa9c3a7ec6/omics_post_mutect2/95447349-2662-48d8-81d9-fc17c984d765/call-my_vcf_to_depmap/glob-1cb8229fb23d0a4528679a2033e1adbf/d268c7595271446d9bb7e021b87b3366-0.parquet\" ]'"
   ]
  },
  {
   "cell_type": "code",
   "execution_count": null,
   "metadata": {},
   "outputs": [],
   "source": [
    "files = ! gsutil ls 'gs://fc-secure-d2a2d895-a7af-4117-bdc7-652d7d268324/6001c090-b09a-4785-8b8a-33aa9c3a7ec6/omics_post_mutect2/*/call-open_cravat/out/*.filtered.vcf.gz.err'\n",
    "morefiles = ! gsutil ls 'gs://fc-secure-d2a2d895-a7af-4117-bdc7-652d7d268324/6001c090-b09a-4785-8b8a-33aa9c3a7ec6/omics_post_mutect2/*/call-open_cravat/*/out/*.filtered.vcf.gz.err'\n",
    "len(files+morefiles)"
   ]
  },
  {
   "cell_type": "code",
   "execution_count": null,
   "metadata": {},
   "outputs": [],
   "source": [
    "oc_err = {i.split('/')[-1].split('.')[0]: i for i in files+morefiles}"
   ]
  },
  {
   "cell_type": "code",
   "execution_count": null,
   "metadata": {},
   "outputs": [],
   "source": [
    "oc_log = {i.split('/')[-1].split('.')[0]: i[:-3]+'log' for i in files+morefiles}"
   ]
  },
  {
   "cell_type": "code",
   "execution_count": null,
   "metadata": {},
   "outputs": [],
   "source": [
    "df = pd.DataFrame(data={'oc_err':oc_err, 'oc_log':oc_log, 'full_file':full_file, 'depmap_file':depmap_file})\n",
    "df.index='sample_id'"
   ]
  },
  {
   "cell_type": "code",
   "execution_count": null,
   "metadata": {},
   "outputs": [],
   "source": [
    "wm.update_entity_attributes('sample', df)"
   ]
  },
  {
   "cell_type": "code",
   "execution_count": null,
   "metadata": {},
   "outputs": [],
   "source": [
    "files = ! gsutil ls 'gs://fc-secure-d2a2d895-a7af-4117-bdc7-652d7d268324/6001c090-b09a-4785-8b8a-33aa9c3a7ec6/omics_post_mutect2/*/call-open_cravat/out/*.filtered.vcf.gz'\n",
    "morefiles = ! gsutil ls 'gs://fc-secure-d2a2d895-a7af-4117-bdc7-652d7d268324/6001c090-b09a-4785-8b8a-33aa9c3a7ec6/omics_post_mutect2/*/call-open_cravat/*/out/*.filtered.vcf.gz'\n",
    "len(files+morefiles)"
   ]
  },
  {
   "cell_type": "code",
   "execution_count": null,
   "metadata": {},
   "outputs": [],
   "source": [
    "oc_main = {i.split('/')[-1].split('.')[0]: i for i in files+morefiles}"
   ]
  },
  {
   "cell_type": "code",
   "execution_count": null,
   "metadata": {},
   "outputs": [],
   "source": [
    "df = pd.DataFrame(data={'oc_main_files':oc_main})\n",
    "df.index.name=\"sample_id\"            \n",
    "wm.update_entity_attributes('sample', df)"
   ]
  },
  {
   "cell_type": "code",
   "execution_count": null,
   "metadata": {},
   "outputs": [],
   "source": [
    "depmap_maf-> somatic_maf,"
   ]
  },
  {
   "cell_type": "code",
   "execution_count": null,
   "metadata": {},
   "outputs": [],
   "source": [
    "sam = wm.get_samples()\n",
    "wm.update_entity_attributes('sample', sam[~sam.depmap_maf.isna()][['depmap_maf']].rename(columns={'depmap_maf':'somatic_maf'}))"
   ]
  },
  {
   "cell_type": "markdown",
   "metadata": {},
   "source": [
    "## making the files"
   ]
  },
  {
   "cell_type": "code",
   "execution_count": null,
   "metadata": {},
   "outputs": [],
   "source": [
    "res = []\n",
    "li = []\n",
    "for file in files:\n",
    "    if rn[file.split('/')[-1].split('-maf-')[0]] in li:\n",
    "        continue\n",
    "    li.append(rn[file.split('/')[-1].split('-maf-')[0]])\n",
    "    maf = pd.read_csv(file)\n",
    "    maf[\"sample_id\"] = li[-1]\n",
    "    res.append(maf)\n",
    "res = pd.concat(res)"
   ]
  },
  {
   "cell_type": "code",
   "execution_count": null,
   "metadata": {},
   "outputs": [],
   "source": [
    "CCLE_mutations = tc.get(name='depmap-a0ab', version=116, file='CCLE_mutations')"
   ]
  },
  {
   "cell_type": "code",
   "execution_count": null,
   "metadata": {},
   "outputs": [],
   "source": [
    "CCLE_mutations = CCLE_mutations[CCLE_mutations.DepMap_ID.isin(li)][['Hugo_Symbol', 'Entrez_Gene_Id', 'NCBI_Build', 'Chromosome',\n",
    "       'Start_position', 'End_position', 'Strand', 'Variant_Classification',\n",
    "       'Variant_Type', 'Reference_Allele', 'Alternate_Allele', 'dbSNP_RS',\n",
    "       'dbSNP_Val_Status', 'Genome_Change', 'Annotation_Transcript',\n",
    "       'DepMap_ID', 'cDNA_Change', 'Codon_Change', 'Protein_Change',\n",
    "       'isDeleterious', 'isTCGAhotspot', 'TCGAhsCnt', 'isCOSMIChotspot',\n",
    "       'COSMIChsCnt', 'ExAC_AF', 'Variant_annotation', 'CGA_WES_AC']]"
   ]
  },
  {
   "cell_type": "code",
   "execution_count": null,
   "metadata": {},
   "outputs": [],
   "source": [
    "res.to_csv('data/new.csv', index=False)"
   ]
  },
  {
   "cell_type": "code",
   "execution_count": null,
   "metadata": {},
   "outputs": [],
   "source": [
    "res = pd.read_csv('data/new.csv', index_col=0)"
   ]
  },
  {
   "cell_type": "markdown",
   "metadata": {},
   "source": [
    "## converting"
   ]
  },
  {
   "cell_type": "code",
   "execution_count": null,
   "metadata": {},
   "outputs": [],
   "source": [
    "new = []\n",
    "for (chrom,pos) in res[['chrom','pos']].values:\n",
    "    d = converter[chrom][pos]\n",
    "    if len(d)>0:\n",
    "        new.append(list(d[0])[:2])\n",
    "    else:\n",
    "        new.append([chrom,pos])\n",
    "    \n",
    "res[['chrom','pos']] = np.array(new)"
   ]
  },
  {
   "cell_type": "code",
   "execution_count": null,
   "metadata": {},
   "outputs": [],
   "source": [
    "len(set(res.sample_id))"
   ]
  },
  {
   "cell_type": "code",
   "execution_count": null,
   "metadata": {},
   "outputs": [],
   "source": [
    "res"
   ]
  },
  {
   "cell_type": "code",
   "execution_count": null,
   "metadata": {},
   "outputs": [],
   "source": [
    "res['locat'] = res.sample_id+\":\"+res.chrom+\":\"+res.pos.astype(str)\n",
    "res['id'] = res.locat + \":\"+res.alt\n",
    "\n",
    "CCLE_mutations['locat'] = CCLE_mutations.DepMap_ID+\":chr\" + CCLE_mutations.Chromosome.astype(str) + \":\" + CCLE_mutations.Start_position.astype(str)\n",
    "CCLE_mutations['id'] = CCLE_mutations.locat + \":\"+CCLE_mutations.Alternate_Allele"
   ]
  },
  {
   "cell_type": "code",
   "execution_count": null,
   "metadata": {},
   "outputs": [],
   "source": [
    "CCLE_mutations = CCLE_mutations.sort_values(by='locat')\n",
    "res = res.sort_values(by='locat')"
   ]
  },
  {
   "cell_type": "markdown",
   "metadata": {},
   "source": [
    "## checking overlap"
   ]
  },
  {
   "cell_type": "code",
   "execution_count": null,
   "metadata": {},
   "outputs": [],
   "source": [
    "res[res.variant_type!=\"SNP\"].iloc[:40]"
   ]
  },
  {
   "cell_type": "code",
   "execution_count": null,
   "metadata": {},
   "outputs": [],
   "source": [
    "CCLE_mutations.Variant_Type=='SNP'"
   ]
  },
  {
   "cell_type": "code",
   "execution_count": null,
   "metadata": {},
   "outputs": [],
   "source": [
    "CCLE_mutations.loc[CCLE_mutations.freq.isna(), 'freq']=0"
   ]
  },
  {
   "cell_type": "code",
   "execution_count": null,
   "metadata": {},
   "outputs": [],
   "source": [
    "a = len(set(res.locat) & set(CCLE_mutations.locat))\n",
    "b = len(set(res[res.variant_type==\"SNP\"].locat) ^ set(CCLE_mutations[CCLE_mutations.Variant_Type=='SNP'].locat))\n",
    "a / (a+b)"
   ]
  },
  {
   "cell_type": "code",
   "execution_count": null,
   "metadata": {},
   "outputs": [],
   "source": [
    "(CCLE_mutations.freq<0.15).sum() / len(CCLE_mutations)"
   ]
  },
  {
   "cell_type": "code",
   "execution_count": null,
   "metadata": {},
   "outputs": [],
   "source": [
    "a = len(set(res.locat) & set(CCLE_mutations.locat))\n",
    "b = len(set(res[res.variant_type==\"SNP\"].locat) ^ set(CCLE_mutations[(~CCLE_mutations.CGA_WES_AC.isna())&(CCLE_mutations.Variant_Type=='SNP')].locat))\n",
    "a / (a+b)"
   ]
  },
  {
   "cell_type": "code",
   "execution_count": null,
   "metadata": {},
   "outputs": [],
   "source": [
    "res.ccle_deleterious.isna().sum()"
   ]
  },
  {
   "cell_type": "code",
   "execution_count": null,
   "metadata": {},
   "outputs": [],
   "source": [
    "(~res[res.locat.isin(set(res.locat) & set(CCLE_mutations.locat))].reset_index()[['alt', 'ref_count', 'alt_count', 'popaf', 'cosmic_hotspot', 'ccle_deleterious']].ccle_deleterious.isna()).sum() / (~res.ccle_deleterious.isna()).sum()"
   ]
  },
  {
   "cell_type": "code",
   "execution_count": null,
   "metadata": {},
   "outputs": [],
   "source": [
    "CCLE_mutations[CCLE_mutations.locat.isin(set(res.locat) & set(CCLE_mutations.locat))].reset_index()[['Alternate_Allele', 'isCOSMIChotspot', 'CGA_WES_AC', 'isDeleterious', 'locat']].isDeleterious.sum()/CCLE_mutations.isDeleterious.sum()"
   ]
  },
  {
   "cell_type": "markdown",
   "metadata": {},
   "source": [
    "## issue no hotspot!!!"
   ]
  },
  {
   "cell_type": "code",
   "execution_count": null,
   "metadata": {},
   "outputs": [],
   "source": [
    "(res.cosmic_hotspot!='Y').sum()"
   ]
  },
  {
   "cell_type": "markdown",
   "metadata": {},
   "source": [
    "## comparing specific differences"
   ]
  },
  {
   "cell_type": "code",
   "execution_count": null,
   "metadata": {},
   "outputs": [],
   "source": [
    "CCLE_mutations.shape"
   ]
  },
  {
   "cell_type": "code",
   "execution_count": null,
   "metadata": {},
   "outputs": [],
   "source": [
    "36000/385639"
   ]
  },
  {
   "cell_type": "code",
   "execution_count": null,
   "metadata": {},
   "outputs": [],
   "source": [
    "len(res[res.locat.isin(set(res.locat)-set(CCLE_mutations.locat))& (res.variant_type=='SNP')])"
   ]
  },
  {
   "cell_type": "code",
   "execution_count": null,
   "metadata": {},
   "outputs": [],
   "source": [
    "198803/len(res)"
   ]
  },
  {
   "cell_type": "markdown",
   "metadata": {},
   "source": [
    "10% of the mutations in CGA pipeline are not registered in the mutect2 pipeline (in CGA / freq>0.15) but\n",
    "\n",
    "40% if the mutations in mutect2 are not in CGA"
   ]
  },
  {
   "cell_type": "code",
   "execution_count": null,
   "metadata": {},
   "outputs": [],
   "source": [
    "CCLE_mutations['freq']=0"
   ]
  },
  {
   "cell_type": "code",
   "execution_count": null,
   "metadata": {},
   "outputs": [],
   "source": [
    "freq = np.array(CCLE_mutations[~CCLE_mutations.CGA_WES_AC.isna()].CGA_WES_AC.str.split(':').tolist()).astype(int)\n",
    "CCLE_mutations.loc[~CCLE_mutations.CGA_WES_AC.isna(),'freq'] = freq[:,0]/(freq[:,1]+freq[:,0])"
   ]
  },
  {
   "cell_type": "code",
   "execution_count": null,
   "metadata": {},
   "outputs": [],
   "source": [
    "CCLE_mutations[CCLE_mutations.locat.isin(set(CCLE_mutations.locat)- set(res.locat))  & (~CCLE_mutations.CGA_WES_AC.isna()) & (CCLE_mutations.Variant_Type=='SNP') & (CCLE_mutations.freq>0.15)].reset_index()[['Alternate_Allele', 'isCOSMIChotspot', 'CGA_WES_AC', 'isDeleterious', 'locat']].iloc[300:]"
   ]
  },
  {
   "cell_type": "code",
   "execution_count": null,
   "metadata": {},
   "outputs": [],
   "source": [
    "CCLE_mutations[CCLE_mutations.locat.isin(set(CCLE_mutations.locat)- set(res.locat))  & (~CCLE_mutations.CGA_WES_AC.isna()) & (CCLE_mutations.Variant_Type=='SNP') & (CCLE_mutations.freq>0.15)].reset_index()[['Alternate_Allele', 'isCOSMIChotspot', 'CGA_WES_AC', 'isDeleterious', 'locat']].iloc[300:]"
   ]
  },
  {
   "cell_type": "markdown",
   "metadata": {},
   "source": [
    "1. CDS-vaC7MY: ACH-000011: locat: 11:77934713 one wes rep. het-del in hg19. gene has been removed on hg38. and merged with another one at another location (78223667). still see the deletion there but was not picked to be in the maf as it was defined as germline by mutect2.\n",
    "\n",
    "\n",
    "2. CDS-wA1WJ8: ACH-002467:chr22:39,966,847: one wes rep: het del in hhg19. can be seen in exon 1 of CACNA1I: loc on hg38 is 39,570,753 and the del can be seen at 39,570,842. It has no reason to be filtered and exist under chhr22:39,966,846 according to the chain file. this is because in one it is given as AT->A instead of a T->-. dropping cases like these doesn't change the overlap amount much..\n",
    "\n",
    "3. CDS-uMD8jg:ACH-000038:chr4:188924749 only one wes rep: het SNP in hg19. can be seen in exon of ZFP42. in hg38 itss location is chr4:187,995,771. we can see the same G-A SNP in hg38 at location chr4:188,003,595. Doesn't exist in the mutect2 output. it is noted as germline and has no reasons to be whitelisted."
   ]
  },
  {
   "cell_type": "code",
   "execution_count": null,
   "metadata": {},
   "outputs": [],
   "source": [
    "parq = pd.read_parquet('gs://fc-secure-d2a2d895-a7af-4117-bdc7-652d7d268324/6001c090-b09a-4785-8b8a-33aa9c3a7ec6/omics_post_mutect2/06f7cfae-edc9-4889-adc6-627293df573e/call-my_vcf_to_depmap/attempt-3/glob-3e19b3e957fc484f883891e251a64a3d/d0d5f757a9b94940a554b73fcfc38bcc-0.parquet')"
   ]
  },
  {
   "cell_type": "code",
   "execution_count": null,
   "metadata": {},
   "outputs": [],
   "source": [
    "v = pd.read_csv(\"gs://fc-secure-d2a2d895-a7af-4117-bdc7-652d7d268324/6001c090-b09a-4785-8b8a-33aa9c3a7ec6/omics_post_mutect2/3ef3dd22-043b-41e0-97d9-5307719f5d25/call-my_vcf_to_depmap/CDS-wA1WJ8-maf-coding_somatic-subset.csv.gz\")\n",
    "v[v.chrom==\"chr22\"]"
   ]
  },
  {
   "cell_type": "code",
   "execution_count": null,
   "metadata": {},
   "outputs": [],
   "source": [
    "parq[(parq.chrom==\"chr4\")&(parq.pos>188_000_000)][[\"chrom\", \"pos\",\"map_qual\", \"slippage\", \"strand_bias\", \"weak_evidence\", \"clustered_events\", \"base_qual\", \"likely_lof\", \"likely_driver\", \"is_coding\", \"germline\", \"pon\", \"popaf\"]]."
   ]
  },
  {
   "cell_type": "markdown",
   "metadata": {},
   "source": [
    "## looking at JAK2 mutations"
   ]
  },
  {
   "cell_type": "code",
   "execution_count": null,
   "metadata": {},
   "outputs": [],
   "source": [
    "# we have more known mutations (only found not was CEBPA)\n",
    "print('gene', 'new', 'old')\n",
    "print('JAK2:',len(res[res.hugo_symbol=='JAK2']),len(CCLE_mutations[CCLE_mutations.Hugo_Symbol=='JAK2']))\n",
    "print('EGFR:',len(res[res.hugo_symbol=='EGFR']),len(CCLE_mutations[CCLE_mutations.Hugo_Symbol=='EGFR']))\n",
    "print('BRAF:',len(res[res.hugo_symbol=='BRAF']),len(CCLE_mutations[CCLE_mutations.Hugo_Symbol=='BRAF']))\n",
    "print('VHL:',len(res[res.hugo_symbol=='VHL']),len(CCLE_mutations[CCLE_mutations.Hugo_Symbol=='VHL']))\n",
    "print('FLT3:',len(res[res.hugo_symbol=='FLT3']),len(CCLE_mutations[CCLE_mutations.Hugo_Symbol=='FLT3']))\n",
    "print('MEF2D:',len(res[res.hugo_symbol=='MEF2D']),len(CCLE_mutations[CCLE_mutations.Hugo_Symbol=='MEF2D']))\n",
    "print('KRAS:',len(res[res.hugo_symbol=='KRAS']),len(CCLE_mutations[CCLE_mutations.Hugo_Symbol=='KRAS']))\n",
    "print('BRCA2:',len(res[res.hugo_symbol=='BRCA2']),len(CCLE_mutations[CCLE_mutations.Hugo_Symbol=='BRCA2']))"
   ]
  },
  {
   "cell_type": "markdown",
   "metadata": {},
   "source": [
    "## plotting files"
   ]
  },
  {
   "cell_type": "code",
   "execution_count": null,
   "metadata": {},
   "outputs": [],
   "source": [
    "converter[\"chr22\"][39570841]"
   ]
  },
  {
   "cell_type": "code",
   "execution_count": null,
   "metadata": {},
   "outputs": [],
   "source": [
    "res[(res.sample_id=='ACH-002467') & (res.chrom=='chr22')]"
   ]
  },
  {
   "cell_type": "code",
   "execution_count": null,
   "metadata": {},
   "outputs": [],
   "source": [
    "pd.concat([res[res.locat.isin(set(res.locat) & set(CCLE_mutations.locat))].reset_index()[['alt', 'ref_count', 'alt_count', 'popaf', 'cosmic_hotspot', 'ccle_deleterious']], CCLE_mutations[CCLE_mutations.locat.isin(set(res.locat) & set(CCLE_mutations.locat))].reset_index()[['Alternate_Allele', 'isCOSMIChotspot', 'CGA_WES_AC', 'isDeleterious', 'locat']]],axis=1)"
   ]
  },
  {
   "cell_type": "code",
   "execution_count": null,
   "metadata": {},
   "outputs": [],
   "source": [
    "res"
   ]
  },
  {
   "cell_type": "code",
   "execution_count": null,
   "metadata": {},
   "outputs": [],
   "source": [
    "CCLE_mutations"
   ]
  },
  {
   "cell_type": "code",
   "execution_count": null,
   "metadata": {},
   "outputs": [],
   "source": []
  }
 ],
 "metadata": {
  "kernelspec": {
   "display_name": "gae",
   "language": "python",
   "name": "gae"
  },
  "language_info": {
   "codemirror_mode": {
    "name": "ipython",
    "version": 3
   },
   "file_extension": ".py",
   "mimetype": "text/x-python",
   "name": "python",
   "nbconvert_exporter": "python",
   "pygments_lexer": "ipython3",
   "version": "3.8.12"
  },
  "latex_envs": {
   "LaTeX_envs_menu_present": true,
   "autoclose": false,
   "autocomplete": true,
   "bibliofile": "biblio.bib",
   "cite_by": "apalike",
   "current_citInitial": 1,
   "eqLabelWithNumbers": true,
   "eqNumInitial": 1,
   "hotkeys": {
    "equation": "Ctrl-E",
    "itemize": "Ctrl-I"
   },
   "labels_anchors": false,
   "latex_user_defs": false,
   "report_style_numbering": false,
   "user_envs_cfg": false
  },
  "toc": {
   "base_numbering": 1,
   "nav_menu": {},
   "number_sections": true,
   "sideBar": true,
   "skip_h1_title": false,
   "title_cell": "Table of Contents",
   "title_sidebar": "Contents",
   "toc_cell": false,
   "toc_position": {
    "height": "calc(100% - 180px)",
    "left": "10px",
    "top": "150px",
    "width": "165px"
   },
   "toc_section_display": true,
   "toc_window_display": true
  },
  "varInspector": {
   "cols": {
    "lenName": 16,
    "lenType": 16,
    "lenVar": 40
   },
   "kernels_config": {
    "python": {
     "delete_cmd_postfix": "",
     "delete_cmd_prefix": "del ",
     "library": "var_list.py",
     "varRefreshCmd": "print(var_dic_list())"
    },
    "r": {
     "delete_cmd_postfix": ") ",
     "delete_cmd_prefix": "rm(",
     "library": "var_list.r",
     "varRefreshCmd": "cat(var_dic_list()) "
    }
   },
   "types_to_exclude": [
    "module",
    "function",
    "builtin_function_or_method",
    "instance",
    "_Feature"
   ],
   "window_display": false
  }
 },
 "nbformat": 4,
 "nbformat_minor": 2
}
