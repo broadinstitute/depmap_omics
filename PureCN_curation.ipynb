{
 "cells": [
  {
   "cell_type": "markdown",
   "id": "419ad8c6",
   "metadata": {},
   "source": [
    "# PureCN Curation\n",
    "Notebook to select PureCN absolute copy number calls for manual curation.\n",
    "\n",
    "William Colgan (wcolgan@broadinstitute.org)"
   ]
  },
  {
   "cell_type": "code",
   "execution_count": null,
   "id": "95d4d150",
   "metadata": {},
   "outputs": [],
   "source": [
    "# Load packages\n",
    "\n",
    "import pandas as pd\n",
    "import numpy as np\n",
    "import dalmatian as dm\n",
    "import os\n",
    "pd.options.mode.chained_assignment = None"
   ]
  },
  {
   "cell_type": "code",
   "execution_count": null,
   "id": "04c12474",
   "metadata": {},
   "outputs": [],
   "source": [
    "# Pipeline parameters\n",
    "WORKSPACE = \"broad-firecloud-ccle/DepMap_WES_CN_hg38\"\n",
    "MIN_GOF = 70\n",
    "MAX_PLOIDY = 5\n",
    "SAVE_PDF_DIR = \"output/solutions/\" # directory where all solution PDF files are saved\n",
    "SAVE_TOCURATE_FILE = \"to_curate.csv\" # location of the csv file where solution indices are listed"
   ]
  },
  {
   "cell_type": "markdown",
   "id": "7263a260",
   "metadata": {},
   "source": [
    "## Select calls to Curate\n",
    "Criteria for samples that need to be curated: Goodness of fit < MIN_GOF and not Non-aberrant or Ploidy > MAX_PLOIDY"
   ]
  },
  {
   "cell_type": "code",
   "execution_count": null,
   "id": "e4bb6282",
   "metadata": {},
   "outputs": [],
   "source": [
    "wm = dm.WorkspaceManager(WORKSPACE)\n",
    "samples_df = wm.get_samples()\n",
    "#samples_df = pd.read_csv(\"~/Downloads/sample.tsv\",sep = \"\\t\")"
   ]
  },
  {
   "cell_type": "code",
   "execution_count": null,
   "id": "497bdd63",
   "metadata": {},
   "outputs": [],
   "source": [
    "samples_df['PureCN_gof'] = samples_df.PureCN_comment.str.extract(r'([0-9]+)',expand = True).fillna(100).astype(int)\n",
    "samples_df['Non_aberrant'] = samples_df.PureCN_comment.str.contains(\"NON-ABERRANT\").astype(bool)"
   ]
  },
  {
   "cell_type": "code",
   "execution_count": null,
   "id": "635ca32b",
   "metadata": {},
   "outputs": [],
   "source": [
    "samples_df = samples_df[samples_df.PureCN_ploidy != 'NA']"
   ]
  },
  {
   "cell_type": "code",
   "execution_count": null,
   "id": "9c072570",
   "metadata": {},
   "outputs": [],
   "source": [
    "to_curate = samples_df[((samples_df.PureCN_gof < MIN_GOF) & ~samples_df.Non_aberrant) | \\\n",
    "                       (samples_df.PureCN_ploidy.astype(float) > MAX_PLOIDY)]\n",
    "to_curate[\"PureCN_curated_solution\"] = \"\"\n",
    "to_curate[\"PureCN_failed\"] = \"\"\n",
    "to_curate[\"PureCN_curated\"] = True\n",
    "to_curate_df = to_curate.loc[:,['PureCN_ploidy','PureCN_comment','PureCN_curated', \\\n",
    "           'PureCN_curated_solution','PureCN_failed']]\n",
    "# Saves lines that need to be manually curated as a csv file\n",
    "to_curate_df.to_csv(SAVE_TOCURATE_FILE) "
   ]
  },
  {
   "cell_type": "code",
   "execution_count": null,
   "id": "1a5163a2",
   "metadata": {},
   "outputs": [],
   "source": [
    "to_curate_df"
   ]
  },
  {
   "cell_type": "markdown",
   "id": "88cb0c2a",
   "metadata": {},
   "source": [
    "## Download Solution PDFs"
   ]
  },
  {
   "cell_type": "code",
   "execution_count": null,
   "id": "a6ee3126",
   "metadata": {},
   "outputs": [],
   "source": [
    "os.system(\"gsutil -m cp \"+to_curate.PureCN_solutions_pdf.str.cat(sep = \" \")+ \" \" + SAVE_PDF_DIR)"
   ]
  },
  {
   "cell_type": "markdown",
   "id": "88252357",
   "metadata": {},
   "source": [
    "# Manually inspect and update solutions "
   ]
  },
  {
   "cell_type": "markdown",
   "id": "50baf673",
   "metadata": {},
   "source": [
    "Now that all the solution PDFs and \"to_curate.csv\" are downloaded, open the solution PDFs locally and manually inspect them following the guidelines here: https://docs.google.com/document/d/1Rte0xKK3ZE_UV6MWepdXRIbAehUJg8FuLaDckrWhPTQ/edit?usp=sharing. Fill in the PureCN_curated_solution column for all samples in to_curate.csv with the index of the most reasonable solution. Note that solution indices are 1-based. If none of the solutions look right, set PureCN_failed = \"TRUE\" & PureCN_curated_solution = 0."
   ]
  },
  {
   "cell_type": "markdown",
   "id": "e24b380a",
   "metadata": {},
   "source": [
    "# Once PureCN_curated_solution is filled in for all samples in to_curate.csv, run the following cells to sync the manually curated columns to terra workspace"
   ]
  },
  {
   "cell_type": "code",
   "execution_count": null,
   "id": "26394795",
   "metadata": {},
   "outputs": [],
   "source": [
    "curated = pd.read_csv(SAVE_TOCURATE_FILE,index_col = 0)\n",
    "samples_df = samples_df.drop(['PureCN_curated'], axis = 1).join( \\\n",
    "                  curated[['PureCN_curated','PureCN_curated_solution','PureCN_failed']])\n",
    "samples_df['PureCN_curated'] = samples_df['PureCN_curated'].fillna(False)\n",
    "samples_df['PureCN_failed'] = samples_df['PureCN_failed'].fillna(False)"
   ]
  },
  {
   "cell_type": "code",
   "execution_count": null,
   "id": "b7e8125c",
   "metadata": {},
   "outputs": [],
   "source": [
    "wm.upload_samples(samples_df.drop(['PureCN_gof','Non_aberrant'], axis = 1))\n",
    "#samples_df.drop(['PureCN_gof','Non_aberrant'], axis = 1).to_csv(\"~/Desktop/sample.tsv\",sep = \"\\t\",index=False)"
   ]
  }
 ],
 "metadata": {
  "kernelspec": {
   "display_name": "Python 3",
   "language": "python",
   "name": "python3"
  },
  "language_info": {
   "codemirror_mode": {
    "name": "ipython",
    "version": 3
   },
   "file_extension": ".py",
   "mimetype": "text/x-python",
   "name": "python",
   "nbconvert_exporter": "python",
   "pygments_lexer": "ipython3",
   "version": "3.8.2"
  }
 },
 "nbformat": 4,
 "nbformat_minor": 5
}
