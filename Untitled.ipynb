{
 "cells": [
  {
   "cell_type": "code",
   "execution_count": null,
   "metadata": {},
   "outputs": [],
   "source": [
    "from __future__ import print_function\n",
    "import os.path\n",
    "import pandas as pd\n",
    "import gzip\n",
    "import sys\n",
    "import numpy as np\n",
    "from collections import Counter\n",
    "\n",
    "sys.path.insert(0, '..')\n",
    "\n",
    "from src.CCLE_postp_function import *\n",
    "from JKBio import terra\n",
    "from JKBio.utils import helper as h\n",
    "from JKBio.google import gcp\n",
    "from gsheets import Sheets\n",
    "from taigapy import TaigaClient\n",
    "import dalmatian as dm\n",
    "\n",
    "from sklearn.manifold import TSNE\n",
    "from sklearn.neighbors import KNeighborsClassifier\n",
    "from scipy.stats import pearsonr,spearmanr\n",
    "\n",
    "from bokeh.plotting import *\n",
    "from bokeh.models import HoverTool\n",
    "from collections import OrderedDict\n",
    "from IPython.display import Image,display\n",
    "\n",
    "%load_ext autoreload\n",
    "%autoreload 2\n",
    "%load_ext rpy2.ipython\n",
    "tc = TaigaClient()\n",
    "output_notebook()\n",
    "\n",
    "my_id = '~/.client_secret.json'\n",
    "mystorage_id = \"~/.storage.json\""
   ]
  },
  {
   "cell_type": "code",
   "execution_count": null,
   "metadata": {},
   "outputs": [],
   "source": [
    "prevprevname ='20Q2'\n",
    "prevprevversion= 40\n",
    "virtual_public='public-20q3-3d35'\n",
    "virtual_dmc='dmc-20q3-033d'\n",
    "virtual_internal='internal-20q3-00d0'\n",
    "\n",
    "refworkspace=\"broad-firecloud-ccle/DepMap_hg38_RNAseq\"\n",
    "\n",
    "genelist_hg38 = 'ftp://ftp.ncbi.nlm.nih.gov/pub/CCDS/current_human/CCDS.20180614.txt'\n",
    "\n",
    "refsheet_url = \"https://docs.google.com/spreadsheets/d/1XkZypRuOEXzNLxVk9EOHeWRE98Z8_DBvL4PovyM01FE\"\n",
    "sheeturl = \"https://docs.google.com/spreadsheets/d/115TUgA1t_mD32SnWAGpW9OKmJ2W5WYAOs3SuSdedpX4\"\n",
    "potential_list_url = \"https://docs.google.com/spreadsheets/d/1BEgH03V4OmGhYeciLCZV00h6hp3WkO0basahS93akCE\""
   ]
  },
  {
   "cell_type": "code",
   "execution_count": null,
   "metadata": {},
   "outputs": [],
   "source": [
    "refwm = dm.WorkspaceManager(refworkspace)\n",
    "ccle_refsamples = sheets.get(refsheet_url).sheets[0].to_frame().set_index('cds_sample_id')"
   ]
  },
  {
   "cell_type": "code",
   "execution_count": null,
   "metadata": {},
   "outputs": [],
   "source": [
    "refwm.get_storage()"
   ]
  },
  {
   "cell_type": "code",
   "execution_count": null,
   "metadata": {},
   "outputs": [],
   "source": [
    "workspaceid = 'broad-firecloud-ccle/DepMap_WES_CN_hg38'\n",
    "torm = terra.listHeavyFiles(workspaceid)\n",
    "h.parrun(['gsutil rm '+i for i in torm], cores=8)\n",
    "terra.removeFromFailedWorkflows(workspaceid, dryrun=False, everythingFor=['Realign_WES_GATK4','Generate_uBAM_File_List','BamToUnmappedRGBams_MC','CGA_WES_CCLE_ICE','CGA_WES_CCLE_AGILENT'])"
   ]
  },
  {
   "cell_type": "code",
   "execution_count": null,
   "metadata": {},
   "outputs": [],
   "source": [
    "#workspaceid = 'broad-firecloud-ccle/DepMap_Mutation_Calling_CGA_pipeline'\n",
    "#torm = terra.listHeavyFiles(workspaceid)\n",
    "#h.parrun(['gsutil rm '+i for i in torm], cores=8)\n",
    "terra.removeFromFailedWorkflows(workspaceid, dryrun=False, everythingFor=['Realign_WES_GATK4','Generate_uBAM_File_List','BamToUnmappedRGBams_MC','CGA_WES_CCLE_ICE','CGA_WES_CCLE_AGILENT'])"
   ]
  },
  {
   "cell_type": "code",
   "execution_count": null,
   "metadata": {},
   "outputs": [],
   "source": [
    "a = findFilesInWorkspaces(['SANGER_C32_SKIN.bam', 'SANGER_HN_UPPER_AERODIGESTIVE_TRACT.bam', 'SANGER_NCIH1755_LUNG.bam'],lookup=['**'])"
   ]
  },
  {
   "cell_type": "code",
   "execution_count": null,
   "metadata": {},
   "outputs": [],
   "source": [
    "samplesetname=\"remap\""
   ]
  },
  {
   "cell_type": "code",
   "execution_count": null,
   "metadata": {},
   "outputs": [],
   "source": [
    "refwm.update_sample_set('remap',remap)"
   ]
  },
  {
   "cell_type": "code",
   "execution_count": null,
   "metadata": {},
   "outputs": [],
   "source": [
    "gcp.exists([ccle_refsamples.loc[val].legacy_bam_filepath for val in remap])"
   ]
  },
  {
   "cell_type": "code",
   "execution_count": null,
   "metadata": {},
   "outputs": [],
   "source": []
  },
  {
   "cell_type": "code",
   "execution_count": null,
   "metadata": {},
   "outputs": [],
   "source": [
    "pos = {\"gs://cclebams/wes/CDS-8sQWae.bam\": \"gs://fc-9d2e10ea-1be3-4a23-a772-57854dbd1659/DepMap_CellLine_WES_June2019/RP-1561/Exome/HO1U1/v2/HO1U1.bam\",\n",
    "\"gs://cclebams/wes/CDS-AJMYsd.bam\": \"gs://fc-9d2e10ea-1be3-4a23-a772-57854dbd1659/DepMap_CellLine_WES_Oct2019/RP-1561/Exome/OSC19/v2/OSC19.bam\",\n",
    "\"gs://cclebams/wes/CDS-EzZEgz.bam\": \"gs://fc-ea03c0c1-9d38-4d76-881b-0679ea6167c4/Getz_IBM_CellLines_Exomes_39samples_09262017/RP-1500/Exome/HMY1_1/v1/HMY1_1.bam\",\n",
    "\"gs://cclebams/wes/CDS-T10Uph.bam\": \"gs://fc-ea03c0c1-9d38-4d76-881b-0679ea6167c4/Getz_IBM_DMX_CellLines_12samples_deepcov_01302018/RP-1561/Exome/HT144SKINFV2/v1/HT144SKINFV2.bam\",\n",
    "\"gs://cclebams/wes/CDS-VS9XDY.bam\": \"gs://fc-c7d47ebf-26a0-404c-8ef6-a1eb59c32e54/C836.JHUEM-7.1.bam\",\n",
    "\"gs://cclebams/wes/CDS-cmV75B.bam\": \"gs://fc-ea03c0c1-9d38-4d76-881b-0679ea6167c4/Getz_IBM_CellLines_Exomes_39samples_09262017/RP-1500/Exome/MCC13_1/v1/MCC13_1.bam\",\n",
    "'gs://cclebams/wes/C836.JHOS-4.1.bam': \"gs://fc-c7d47ebf-26a0-404c-8ef6-a1eb59c32e54/C836.JHOS-4.1.bam\",\n",
    "  'gs://cclebams/wes/C836.MJ.2.bam': \"gs://fc-c7d47ebf-26a0-404c-8ef6-a1eb59c32e54/C836.MJ.2.bam\",\n",
    "  'gs://cclebams/wes/C836.OVMANA.2.bam': \"gs://fc-c7d47ebf-26a0-404c-8ef6-a1eb59c32e54/C836.OVMANA.2.bam\",\n",
    "  'gs://cclebams/wes/C836.Panc_02.13.2.bam': \"gs://fc-c7d47ebf-26a0-404c-8ef6-a1eb59c32e54/C836.Panc_02.13.2.bam\",\n",
    "  'gs://cclebams/wes/C836.SNU-738.2.bam': \"gs://fc-c7d47ebf-26a0-404c-8ef6-a1eb59c32e54/C836.SNU-738.2.bam\",\n",
    "  'gs://cclebams/wes/C836.TO_175.T.1.bam': \"gs://fc-c7d47ebf-26a0-404c-8ef6-a1eb59c32e54/C836.TO_175.T.1.bam\",\n",
    "  'gs://cclebams/wes/C836.YD-8.1.bam': \"gs://fc-c7d47ebf-26a0-404c-8ef6-a1eb59c32e54/C836.YD-8.1.bam\"}"
   ]
  },
  {
   "cell_type": "code",
   "execution_count": null,
   "metadata": {},
   "outputs": [],
   "source": [
    "for k,v in pos.items():\n",
    "    !gsutil cp $v $k\n",
    "    v = v.replace('.bam','.bam.bai')\n",
    "    k = k.replace('.bam','.bai')\n",
    "    !gsutil cp $v $k"
   ]
  },
  {
   "cell_type": "code",
   "execution_count": null,
   "metadata": {},
   "outputs": [],
   "source": []
  },
  {
   "cell_type": "code",
   "execution_count": null,
   "metadata": {},
   "outputs": [],
   "source": []
  },
  {
   "cell_type": "code",
   "execution_count": null,
   "metadata": {},
   "outputs": [],
   "source": [
    "findback = ['CDS-519oCd', 'CDS-5LolJ4', 'CDS-8sQWae', 'CDS-AJMYsd', 'CDS-EzZEgz', 'CDS-NE61ys', 'CDS-Sl300T', 'CDS-T10Uph', 'CDS-VS9XDY', 'CDS-cmV75B', 'CDS-d2xe4x', 'CDS-dGaHMd', 'CDS-ezLdbO', 'CDS-fb9VZf', 'CDS-klYQtA','CDS-u9hZ60']"
   ]
  },
  {
   "cell_type": "code",
   "execution_count": null,
   "metadata": {},
   "outputs": [],
   "source": [
    "a = {'ACH-000466':[1,2], 'ACH-000514':[2,3], 'ACH-000544':[2,3], 'ACH-000557':[1,2], 'ACH-000577':[2,3], 'ACH-000596':[2,3], 'ACH-000655':[2,3], 'ACH-000672':[2,3], 'ACH-000698':[2,3], 'ACH-000740':[2,3], 'ACH-000767':[2,3], 'ACH-000800':[2,3], 'ACH-000823':[2,3], 'ACH-000837':[2,3], 'ACH-000866':[2,3], 'ACH-001075':[2,3], 'ACH-001129':[1,3], 'ACH-001151':[2,3], 'ACH-001190':[2,3], 'ACH-001333':[2,3], 'ACH-001336':[2,3], 'ACH-001341':[2,3], 'ACH-001345':[2,3], 'ACH-001360':[2,3], 'ACH-001368':[2,3], 'ACH-001373':[2,3,4], 'ACH-001374':[2,3], 'ACH-001401':[2,3], 'ACH-001402':[2,3], 'ACH-001418':[2,3], 'ACH-001443':[2,3], 'ACH-001496':[2,3], 'ACH-001497':[2,3], 'ACH-001500':[2,3], 'ACH-001517':[2,3], 'ACH-001525':[2,3], 'ACH-001526':[2,3], 'ACH-001530':[2,3], 'ACH-001542':[2,3], 'ACH-001549':[2,3], 'ACH-001630':[2,3], 'ACH-001638':[2,3], 'ACH-001642':[2,3], 'ACH-001650':[2,3], 'ACH-001654':[2,3], 'ACH-001655':[2,3], 'ACH-001674':[2,3], 'ACH-001702':[2,3], 'ACH-001715':[2,3], 'ACH-001794':[2,3], 'ACH-001861':[2,3], 'ACH-002446':[1,2,3], 'ACH-001398':[2,3], 'ACH-001453':[2,3], 'ACH-001498':[2,3], 'ACH-001617':[2,3], 'ACH-001653':[1,2,3], 'ACH-001670':[2,3], 'ACH-001819':[2,3], 'ACH-002029':[2,3], 'ACH-002059':[2,3], 'ACH-002062':[2,3], 'ACH-000004':[2,3], 'ACH-000007':[2,3], 'ACH-000019':[2,3], 'ACH-000047':[2,3], 'ACH-000200':[2,3], 'ACH-000217':[2,3], 'ACH-000247':[2,3], 'ACH-000304':[2,3], 'ACH-000312':[2,3], 'ACH-000337':[2,3], 'ACH-000434':[2,3], 'ACH-000452':[2,3], 'ACH-001421':[1,2,3,4], 'ACH-001711': [2,3,4,5], 'ACH-001679':[2,3,4]}"
   ]
  },
  {
   "cell_type": "code",
   "execution_count": null,
   "metadata": {},
   "outputs": [],
   "source": [
    "for k,v in a.items():\n",
    "    for i in v:\n",
    "        val = ccle_refsamples[(ccle_refsamples.arxspan_id==k) & (ccle_refsamples.version==i) & (ccle_refsamples.datatype=='wes')]\n",
    "        if len(val)==0:\n",
    "            print(k,i)\n",
    "            a[k].remove(i)\n",
    "            while True:\n",
    "                val = ccle_refsamples[(ccle_refsamples.arxspan_id==k) & (ccle_refsamples.version==i+1) & (ccle_refsamples.datatype=='wes')] \n",
    "                if len(val)==0:\n",
    "                    break\n",
    "                ccle_refsamples.loc[val.index[0],'version']=i\n",
    "                i+=1\n",
    "                "
   ]
  },
  {
   "cell_type": "code",
   "execution_count": null,
   "metadata": {},
   "outputs": [],
   "source": [
    "ccle_refsamples = cleanVersions(ccle_refsamples)"
   ]
  },
  {
   "cell_type": "code",
   "execution_count": null,
   "metadata": {},
   "outputs": [],
   "source": [
    "ccle_refsamples = setRightName(ccle_refsamples)"
   ]
  },
  {
   "cell_type": "code",
   "execution_count": null,
   "metadata": {},
   "outputs": [],
   "source": []
  },
  {
   "cell_type": "code",
   "execution_count": null,
   "metadata": {},
   "outputs": [],
   "source": [
    "dups, arxsp, issus = findLikelyDup(ccle_refsamples,looksub=False)"
   ]
  },
  {
   "cell_type": "code",
   "execution_count": null,
   "metadata": {},
   "outputs": [],
   "source": [
    "dups"
   ]
  },
  {
   "cell_type": "code",
   "execution_count": null,
   "metadata": {},
   "outputs": [],
   "source": [
    "issus"
   ]
  },
  {
   "cell_type": "code",
   "execution_count": null,
   "metadata": {},
   "outputs": [],
   "source": [
    "merge = {'ACH-001316':'ACH-001163',\n",
    "        }\n",
    "issues = {\"ACH-000025\":\"CH157MN\",\n",
    "\"ACH-001328\" :\"A431\",\n",
    "\"ACH-000757\" :\"A427\",\n",
    "\"ACH-000278\" :\"COV362\",\n",
    "\"ACH-000695\" :\"CORL47\",\n",
    "\"ACH-001707\" :\"WAOSEL\",\n",
    "\"ACH-000123\" :\"COV434\",\n",
    "\"ACH-000608\" :\"COV644\",\n",
    "\"ACH-001795\" :\"94T778\",\n",
    "\"ACH-000025\": \"CH157MN\",\n",
    "\"ACH-000511\": \"CALU1\",\n",
    "\"ACH-000274\": \"HS852T\",\n",
    "\"ACH-001523\": \"HSC1\",\n",
    "\"ACH-000261\": \"RERFLCAI\",\n",
    "\"ACH-000960\": \"REH\",\n",
    "\"ACH-000473\": \"RT112\",\n",
    "\"ACH-000662\": \"CORL23\",\n",
    "\"ACH-001339\": \"COLO794\",\n",
    "\"ACH-000608\": \"COV644\",\n",
    "\"ACH-001795\": \"94T778\",\n",
    "}"
   ]
  },
  {
   "cell_type": "code",
   "execution_count": null,
   "metadata": {},
   "outputs": [],
   "source": [
    "for k,v in issues.items():\n",
    "    ccle_refsamples.loc[ccle_refsamples[ccle_refsamples['arxspan_id']==k].index, \"stripped_cell_line_name\"] = v"
   ]
  },
  {
   "cell_type": "code",
   "execution_count": null,
   "metadata": {},
   "outputs": [],
   "source": [
    "dfToSheet(ccle_refsamples,'ccle sample tracker', secret=creds)"
   ]
  },
  {
   "cell_type": "code",
   "execution_count": null,
   "metadata": {},
   "outputs": [],
   "source": [
    "copyToWorkspace(\"broad-firecloud-ccle/DepMap_WES_CN_hg38\", ccle_refsamples, deleteUnmatched=True)\n",
    "copyToWorkspace(\"broad-firecloud-ccle/DepMap_Mutation_Calling_CGA_pipeline\", ccle_refsamples, deleteUnmatched=True)\n",
    "copyToWorkspace(\"broad-firecloud-ccle/DepMap_hg38_RNAseq\", ccle_refsamples, deleteUnmatched=False)"
   ]
  }
 ],
 "metadata": {
  "kernelspec": {
   "display_name": "Python 3",
   "language": "python",
   "name": "python3"
  },
  "language_info": {
   "codemirror_mode": {
    "name": "ipython",
    "version": 3
   },
   "file_extension": ".py",
   "mimetype": "text/x-python",
   "name": "python",
   "nbconvert_exporter": "python",
   "pygments_lexer": "ipython3",
   "version": "3.7.3"
  },
  "latex_envs": {
   "LaTeX_envs_menu_present": true,
   "autoclose": false,
   "autocomplete": true,
   "bibliofile": "biblio.bib",
   "cite_by": "apalike",
   "current_citInitial": 1,
   "eqLabelWithNumbers": true,
   "eqNumInitial": 1,
   "hotkeys": {
    "equation": "Ctrl-E",
    "itemize": "Ctrl-I"
   },
   "labels_anchors": false,
   "latex_user_defs": false,
   "report_style_numbering": false,
   "user_envs_cfg": false
  },
  "toc": {
   "base_numbering": 1,
   "nav_menu": {},
   "number_sections": true,
   "sideBar": true,
   "skip_h1_title": false,
   "title_cell": "Table of Contents",
   "title_sidebar": "Contents",
   "toc_cell": false,
   "toc_position": {},
   "toc_section_display": true,
   "toc_window_display": false
  }
 },
 "nbformat": 4,
 "nbformat_minor": 2
}
