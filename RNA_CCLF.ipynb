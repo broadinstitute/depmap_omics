{
 "cells": [
  {
   "cell_type": "code",
   "execution_count": null,
   "metadata": {},
   "outputs": [],
   "source": [
    "from __future__ import print_function\n",
    "import os.path\n",
    "import dalmatian as dm\n",
    "import pandas as pd\n",
    "import gzip\n",
    "import sys\n",
    "sys.path.insert(0, '../JKBio/')\n",
    "from src.CCLE_postp_function import *\n",
    "\n",
    "import Datanalytics as da \n",
    "\n",
    "from JKBio import TerraFunction as terra\n",
    "from JKBio import Helper\n",
    "from Helper import * \n",
    "%load_ext autoreload\n",
    "%autoreload 2\n",
    "%load_ext rpy2.ipython\n",
    "from IPython.display import Image,display\n",
    "from taigapy import TaigaClient\n",
    "tc = TaigaClient()\n",
    "import numpy as np\n",
    "from sklearn.manifold import TSNE\n",
    "from sklearn.neighbors import KNeighborsClassifier\n",
    "from bokeh.plotting import *\n",
    "from bokeh.models import HoverTool\n",
    "output_notebook()\n",
    "from collections import OrderedDict\n",
    "from gsheets import Sheets\n",
    "sheets = Sheets.from_files('~/.client_secret.json', '~/.storage.json')\n",
    "replace = {'T': 'Tumor', 'N': 'Normal', 'm': 'Unknown', 'L': 'Unknown'}"
   ]
  },
  {
   "cell_type": "code",
   "execution_count": null,
   "metadata": {},
   "outputs": [],
   "source": [
    "samplesetname=\"20Q1\"\n",
    "# prevname=\"19Q4\"\n",
    "# prevprevname = \"19Q3\"\n",
    "# prevprevversion='17'\n",
    "\n",
    "\n",
    "workspace1=\"broad-genomics-delivery/Cancer_Cell_Line_Factory_CCLF_RNAseq\"\n",
    "workspace2=\"nci-mimoun-bi-org/CCLF_RNA_2_0\"\n",
    "source1=\"cclf\"\n",
    "source2=\"cclf\"\n",
    "\n",
    "refworkspace = workspace2\n",
    "\n",
    "release = samplesetname"
   ]
  },
  {
   "cell_type": "code",
   "execution_count": null,
   "metadata": {},
   "outputs": [],
   "source": [
    "%%R\n",
    "genome_version <- 'hg38'\n",
    "release <- '20Q1'\n",
    "hg38_cyto_band_reference <- '../JKBio/data/hg38_cytoband.gz'"
   ]
  },
  {
   "cell_type": "markdown",
   "metadata": {},
   "source": [
    "# Generate sample set from new samples"
   ]
  },
  {
   "cell_type": "code",
   "execution_count": null,
   "metadata": {},
   "outputs": [],
   "source": [
    "extract_to_change = {'ref_bams':'bam_file_rna','ref_bais':\"bai_file_rna\"}"
   ]
  },
  {
   "cell_type": "code",
   "execution_count": null,
   "metadata": {},
   "outputs": [],
   "source": [
    "wm1 = dm.WorkspaceManager(workspace1)\n",
    "wm2 = dm.WorkspaceManager(workspace2)\n",
    "refwm = wm2"
   ]
  },
  {
   "cell_type": "code",
   "execution_count": null,
   "metadata": {},
   "outputs": [],
   "source": [
    "sample_ids, refsamples, ccle_name = createDatasetWithNewCellLines(refworkspace, samplesetname, wmfroms = [workspace1], sources=[source1], gsfolderto='gs://ccle_bams/rna/', match='', participantslicepos=10, accept_unknowntypes=True, extract=extract_to_change, dry_run = True)"
   ]
  },
  {
   "cell_type": "markdown",
   "metadata": {},
   "source": [
    "# Run Terra pipeline\n",
    "\n",
    "We are using Dalmatian to send request to Terra, and we are running a set of 6 functions to generate the expression/fusion dataset. These workflows are the same ones used in for the CCLE RNASeq analysis.\n",
    "\n",
    "**Note:** Ideally, we want to stay up-to-date with whatever CCLE is using. This will eventually require us being able to determine which Snapshots of the below methods are currently being used for CCLE. I think there may be a tool via Dalmation to figure out the latest Snapshot, but this doesn't guarantee that it is the snapshot used by CCLE (e.g. if there is a development effort, the latest snapshot will likely be ahead of the actual snapshot used by CCLE).\n",
    "\n",
    "## Expression\n",
    "We use the GTEx pipeline (https://github.com/broadinstitute/gtex-pipeline/blob/v9/TOPMed_RNAseq_pipeline.md).\n",
    "To generate the expression dataset, run the following tasks on all samples that you need, in this order:\n",
    "1. `samtofastq_v1-0_BETA_cfg `\n",
    "(broadinstitute_gtex/samtofastq_v1-0_BETA Snapshot ID: 6)\n",
    "2. `star_v1-0_BETA_cfg`\n",
    "(broadinstitute_gtex/star_v1-0_BETA Snapshot ID: 7)\n",
    "3. `rsem_v1-0_BETA_cfg`\n",
    "(broadinstitute_gtex/rsem_v1-0_BETA Snapshot ID: 5)\n",
    "4. `rsem_aggregate_results_v1-0_BETA_cfg` (broadinstitute_gtex/rsem_aggregate_results_v1-0_BETA Snapshot ID: 3)\n",
    "\n",
    "The outputs to be downloaded will be saved under the sample set that you ran. The outputs used for CCLE releases are:\n",
    "- `rsem_genes_expected_count`\n",
    "- `rsem_genes_tpm`\n",
    "- `rsem_transcripts_tpm`\n",
    "\n",
    "**Make sure that you delete the intermediate files. These files are quite large so cost a lot to store. To delete, you can either write a task that deletes them or use gsutil rm***\n",
    "\n",
    "## Fusions\n",
    "We use STAR-Fusion https://github.com/STAR-Fusion/STAR-Fusion/wiki. The fusions are generated by running the following tasks\n",
    "1. `hg38_STAR_fusion` (gkugener/STAR_fusion Snapshot ID: 14)\n",
    "2. `Aggregate_Fusion_Calls` (gkugener/Aggregate_files_set Snapshot ID: 2)\n",
    "\n",
    "The outputs to be downloaded will be saved under the sample set you ran. The outputs used for CCLE releases are: \n",
    "- `fusions_star`\n",
    "\n",
    "This task uses the same `samtofastq_v1-0_BETA_cfg` task as in the expression pipeline, although in the current implementation, this task will be run twice. It might be worth combing the expression/fusion calling into a single workflow. This task also contains a flag that lets you specify if you want to delete the intermediates (fastqs). "
   ]
  },
  {
   "cell_type": "markdown",
   "metadata": {},
   "source": [
    "## On Terra"
   ]
  },
  {
   "cell_type": "code",
   "execution_count": null,
   "metadata": {},
   "outputs": [],
   "source": [
    "# List of lines that initially failed the samtofastq workflow, but passed the second time after fixing some bam paths. Given that even fixing paths didnt result in all failures succeeding, I expect that memory is an issue\n",
    "failed_sam_to_fastq = ['AB018-Tumor-SM-GXH34',\n",
    " 'CCLF_PEDS1034-Tumor-SM-HUQMD',\n",
    " 'CCLF_PEDS1034-Tumor-SM-HUQMU',\n",
    " 'CCLF_PEDS1041-Tumor-SM-HUQN4',\n",
    " 'CCLF_PEDS1083-Tumor-SM-HUQNP',\n",
    " 'CCLF_PEDS1083-Tumor-SM-HUQNX',\n",
    " 'CCLF_RCRF1009-Tumor-SM-HPY1O',\n",
    " 'CCLF_SS1009-Tumor-SM-HPY1V',\n",
    " 'SP022-Tumor-SM-B289M',\n",
    " 'SP025-Tumor-SM-C1JOO']"
   ]
  },
  {
   "cell_type": "code",
   "execution_count": null,
   "metadata": {},
   "outputs": [],
   "source": [
    "terra.addToSampleSet(refworkspace,samplesetid = \"failed_sam_to_fastq\", samples=failed_sam_to_fastq)\n"
   ]
  },
  {
   "cell_type": "code",
   "execution_count": null,
   "metadata": {},
   "outputs": [],
   "source": [
    "failed_to_retry"
   ]
  },
  {
   "cell_type": "code",
   "execution_count": null,
   "metadata": {},
   "outputs": [],
   "source": [
    "failed_now_passing = list(set(failed_to_retry) - set(failed_sam_to_fastq))\n",
    "\n",
    "all_samples = refwm.get_samples().index\n",
    "initial_passing = list(set(all_samples) - set(failed_stof))\n",
    "\n",
    "# passed_sam_to_fastq = initial_passing + failed_now_passing\n",
    "# Now all are passing except for the 5 that have broken bam file paths\n",
    "passed_sam_to_fastq = initial_passing + failed_to_retry\n",
    "len(passed_sam_to_fastq)"
   ]
  },
  {
   "cell_type": "code",
   "execution_count": null,
   "metadata": {},
   "outputs": [],
   "source": [
    "terra.addToSampleSet(refworkspace,samplesetid = \"passed_sam_to_fastq\", samples=passed_sam_to_fastq)\n"
   ]
  },
  {
   "cell_type": "code",
   "execution_count": null,
   "metadata": {},
   "outputs": [],
   "source": [
    "# When Terra functional again, can run passed_sam_to_fastq (136) samples through next step, which is rsem.\n",
    "\n",
    "# There are only 5 RNAseq samples that I couldn't run in this workspace."
   ]
  },
  {
   "cell_type": "code",
   "execution_count": null,
   "metadata": {},
   "outputs": [],
   "source": [
    "# List of samples that failed the first attempt of samtofastq workflow run on all 141 samples in the workspace:\n",
    "failed_stof = [\"AA66-Tumor-SM-GZFLV\", \"AB018-Tumor-SM-GXH34\", \"BI_2_03\", \"CCLF_PEDS1034-Tumor-SM-HUQMD\", \"CCLF_PEDS1034-Tumor-SM-HUQMU\", \"CCLF_PEDS1037-Tumor-SM-HUQMS\", \"CCLF_PEDS1041-Tumor-SM-HUQM6\", \"CCLF_PEDS1041-Tumor-SM-HUQN4\", \"CCLF_PEDS1051-Tumor-SM-HUQNL\", \"CCLF_PEDS1083-Tumor-SM-HUQNP\", \"CCLF_PEDS1083-Tumor-SM-HUQNX\", \"CCLF_RCRF1009-Tumor-SM-HPY1O\", \"CCLF_RCRF1019-Tumor-SM-HUQM5\", \"CCLF_RCRF1020-Tumor-SM-HUQM7\", \"CCLF_SS1009-Tumor-SM-HPY1V\", \"PEDS071-Tumor-SM-HUQN3\", \"PEDS201-Tumor-SM-HUQMV\", \"Peds015_Late\", \"Peds015_TP\", \"Peds015_early\", \"SP022-Tumor-SM-B289M\", \"SP025-Tumor-SM-C1JOO\"]\n",
    "\n",
    "broken = [\"AA66-Tumor-SM-GZFLV\", \"BI_2_03\", \"Peds015_early\", \"Peds015_Late\", \"Peds015_TP\"]\n",
    "insufficient_permissions_to_fix = [\"RP-571_CCLF_AB1004T_v1_RNA_OnPrem\", \"RP-571_CCLF_AB1067T_v1_RNA_OnPrem\", \"RP-571_CCLF_AB1075T_v1_RNA_OnPrem\", \"RP-571_CCLF_PEDS1046T_v1_RNA_OnPrem\", \"RP-571_CCLF_PEDS1064T_v1_RNA_OnPrem\"]\n",
    "broken = broken + insufficient_permissions_to_fix\n",
    "\n",
    "failed_to_retry = [i for i in failed_stof if i not in broken]\n",
    "\n",
    "samples_to_fix = [\"CCLF_PEDS1034-Tumor-SM-HUQMD\", \"CCLF_PEDS1034-Tumor-SM-HUQMU\", \"CCLF_PEDS1037-Tumor-SM-HUQMS\", \"CCLF_PEDS1041-Tumor-SM-HUQM6\", \"CCLF_PEDS1041-Tumor-SM-HUQN4\", \"CCLF_PEDS1051-Tumor-SM-HUQNL\", \"CCLF_PEDS1083-Tumor-SM-HUQNP\", \"CCLF_PEDS1083-Tumor-SM-HUQNX\", \"CCLF_RCRF1019-Tumor-SM-HUQM5\", \"CCLF_RCRF1020-Tumor-SM-HUQM7\", \"PEDS071-Tumor-SM-HUQN3\", \"PEDS201-Tumor-SM-HUQMV\", \"RP-571_CCLF_AB1004T_v1_RNA_OnPrem\", \"RP-571_CCLF_AB1067T_v1_RNA_OnPrem\", \"RP-571_CCLF_AB1075T_v1_RNA_OnPrem\", \"RP-571_CCLF_PEDS1046T_v1_RNA_OnPrem\", \"RP-571_CCLF_PEDS1064T_v1_RNA_OnPrem\"]\n",
    "\n",
    "to_fix_bam_col_name = [\"bam_file_rna\", \"bam_file_rna\", \"bam_file_rna\", \"bam_file_rna\", \"bam_file_rna\", \"bam_file_rna\", \"bam_file_rna\", \"bam_file_rna\", \"bam_file_rna\", \"bam_file_rna\", \"bam_file_rna\", \"bam_file_rna\", \"cram_or_bam_path\", \"cram_or_bam_path\", \"cram_or_bam_path\", \"cram_or_bam_path\", \"cram_or_bam_path\"]\n",
    "\n",
    "to_fix_bai_col_name = [\"bai_file_rna\", \"bai_file_rna\", \"bai_file_rna\", \"bai_file_rna\", \"bai_file_rna\", \"bai_file_rna\", \"bai_file_rna\", \"bai_file_rna\", \"bai_file_rna\", \"bai_file_rna\", \"bai_file_rna\", \"bai_file_rna\", \"crai_or_bai_path\", \"crai_or_bai_path\", \"crai_or_bai_path\", \"crai_or_bai_path\", \"crai_or_bai_path\"]\n",
    "\n",
    "old_bam_paths = [\"gs://fc-bdfe4c68-a2bc-41b0-ac15-931e84fb1092/Cancer_Cell_Line_Factory_CCLF_RNAseq/RP-571/RNA/CCLF_PEDS1034T_primary/v1/CCLF_PEDS1034T_primary.bam\", \"gs://fc-bdfe4c68-a2bc-41b0-ac15-931e84fb1092/Cancer_Cell_Line_Factory_CCLF_RNAseq/RP-571/RNA/CCLF_PEDS1034T/v1/CCLF_PEDS1034T.bam\", \"gs://fc-bdfe4c68-a2bc-41b0-ac15-931e84fb1092/Cancer_Cell_Line_Factory_CCLF_RNAseq/RP-571/RNA/CCLF_PEDS1037T/v1/CCLF_PEDS1037T.bam\", \"gs://fc-bdfe4c68-a2bc-41b0-ac15-931e84fb1092/Cancer_Cell_Line_Factory_CCLF_RNAseq/RP-571/RNA/CCLF_PEDS1041T/v1/CCLF_PEDS1041T.bam\", \"gs://fc-bdfe4c68-a2bc-41b0-ac15-931e84fb1092/Cancer_Cell_Line_Factory_CCLF_RNAseq/RP-571/RNA/CCLF_PEDS1041T_primary/v1/CCLF_PEDS1041T_primary.bam\", \"gs://fc-bdfe4c68-a2bc-41b0-ac15-931e84fb1092/Cancer_Cell_Line_Factory_CCLF_RNAseq/RP-571/RNA/CCLF_PEDS1051T/v1/CCLF_PEDS1051T.bam\", \"gs://fc-bdfe4c68-a2bc-41b0-ac15-931e84fb1092/Cancer_Cell_Line_Factory_CCLF_RNAseq/RP-571/RNA/CCLF_PEDS1083T/v1/CCLF_PEDS1083T.bam\", \"gs://fc-bdfe4c68-a2bc-41b0-ac15-931e84fb1092/Cancer_Cell_Line_Factory_CCLF_RNAseq/RP-571/RNA/CCLF_PEDS1083T_primary/v1/CCLF_PEDS1083T_primary.bam\", \"gs://fc-bdfe4c68-a2bc-41b0-ac15-931e84fb1092/Cancer_Cell_Line_Factory_CCLF_RNAseq/RP-571/RNA/CCLF_RCRF1019T/v1/CCLF_RCRF1019T.bam\", \"gs://fc-bdfe4c68-a2bc-41b0-ac15-931e84fb1092/Cancer_Cell_Line_Factory_CCLF_RNAseq/RP-571/RNA/CCLF_RCRF1020T/v1/CCLF_RCRF1020T.bam\", \"gs://fc-bdfe4c68-a2bc-41b0-ac15-931e84fb1092/Cancer_Cell_Line_Factory_CCLF_RNAseq/RP-571/RNA/CCLF_PEDS1029T_4/v1/CCLF_PEDS1029T_4.bam\", \"gs://fc-bdfe4c68-a2bc-41b0-ac15-931e84fb1092/Cancer_Cell_Line_Factory_CCLF_RNAseq/RP-571/RNA/PEDS201T/v1/PEDS201T.bam\", \"gs://fc-bdfe4c68-a2bc-41b0-ac15-931e84fb1092/Cancer_Cell_Line_Factory_CCLF_RNAseq/RP-571/RNA/CCLF_AB1004T/v1/CCLF_AB1004T.bam\", \"gs://fc-bdfe4c68-a2bc-41b0-ac15-931e84fb1092/Cancer_Cell_Line_Factory_CCLF_RNAseq/RP-571/RNA/CCLF_AB1067T/v1/CCLF_AB1067T.bam\", \"gs://fc-bdfe4c68-a2bc-41b0-ac15-931e84fb1092/Cancer_Cell_Line_Factory_CCLF_RNAseq/RP-571/RNA/CCLF_AB1075T/v1/CCLF_AB1075T.bam\", \"gs://fc-bdfe4c68-a2bc-41b0-ac15-931e84fb1092/Cancer_Cell_Line_Factory_CCLF_RNAseq/RP-571/RNA/CCLF_PEDS1046T/v1/CCLF_PEDS1046T.bam\", \"gs://fc-bdfe4c68-a2bc-41b0-ac15-931e84fb1092/Cancer_Cell_Line_Factory_CCLF_RNAseq/RP-571/RNA/CCLF_PEDS1064T/v1/CCLF_PEDS1064T.bam\"]\n",
    "fixed_bam_paths = [\"gs://fc-1d1574d1-5469-4d1d-b11d-ea13b2f0d5d9/Cancer_Cell_Line_Factory_CCLF_RNAseq/RP-571/RNA/CCLF_PEDS1034T_primary/v1/CCLF_PEDS1034T_primary.bam\", \"gs://fc-1d1574d1-5469-4d1d-b11d-ea13b2f0d5d9/Cancer_Cell_Line_Factory_CCLF_RNAseq/RP-571/RNA/CCLF_PEDS1034T/v1/CCLF_PEDS1034T.bam\", \"gs://fc-1d1574d1-5469-4d1d-b11d-ea13b2f0d5d9/Cancer_Cell_Line_Factory_CCLF_RNAseq/RP-571/RNA/CCLF_PEDS1037T/v1/CCLF_PEDS1037T.bam\", \"gs://fc-1d1574d1-5469-4d1d-b11d-ea13b2f0d5d9/Cancer_Cell_Line_Factory_CCLF_RNAseq/RP-571/RNA/CCLF_PEDS1041T/v1/CCLF_PEDS1041T.bam\", \"gs://fc-1d1574d1-5469-4d1d-b11d-ea13b2f0d5d9/Cancer_Cell_Line_Factory_CCLF_RNAseq/RP-571/RNA/CCLF_PEDS1041T_primary/v1/CCLF_PEDS1041T_primary.bam\", \"gs://fc-1d1574d1-5469-4d1d-b11d-ea13b2f0d5d9/Cancer_Cell_Line_Factory_CCLF_RNAseq/RP-571/RNA/CCLF_PEDS1051T/v1/CCLF_PEDS1051T.bam\", \"gs://fc-1d1574d1-5469-4d1d-b11d-ea13b2f0d5d9/Cancer_Cell_Line_Factory_CCLF_RNAseq/RP-571/RNA/CCLF_PEDS1083T/v1/CCLF_PEDS1083T.bam\", \"gs://fc-1d1574d1-5469-4d1d-b11d-ea13b2f0d5d9/Cancer_Cell_Line_Factory_CCLF_RNAseq/RP-571/RNA/CCLF_PEDS1083T_primary/v1/CCLF_PEDS1083T_primary.bam\", \"gs://fc-1d1574d1-5469-4d1d-b11d-ea13b2f0d5d9/Cancer_Cell_Line_Factory_CCLF_RNAseq/RP-571/RNA/CCLF_RCRF1019T/v1/CCLF_RCRF1019T.bam\", \"gs://fc-1d1574d1-5469-4d1d-b11d-ea13b2f0d5d9/Cancer_Cell_Line_Factory_CCLF_RNAseq/RP-571/RNA/CCLF_RCRF1020T/v1/CCLF_RCRF1020T.bam\", \"gs://fc-1d1574d1-5469-4d1d-b11d-ea13b2f0d5d9/Cancer_Cell_Line_Factory_CCLF_RNAseq/RP-571/RNA/CCLF_PEDS1029T_4/v1/CCLF_PEDS1029T_4.bam\", \"gs://fc-1d1574d1-5469-4d1d-b11d-ea13b2f0d5d9/Cancer_Cell_Line_Factory_CCLF_RNAseq/RP-571/RNA/PEDS201T/v1/PEDS201T.bam\", \"gs://fc-1d1574d1-5469-4d1d-b11d-ea13b2f0d5d9/Cancer_Cell_Line_Factory_CCLF_RNAseq/RP-571/RNA/CCLF_AB1004T/v1/CCLF_AB1004T.bam\", \"gs://fc-1d1574d1-5469-4d1d-b11d-ea13b2f0d5d9/Cancer_Cell_Line_Factory_CCLF_RNAseq/RP-571/RNA/CCLF_AB1067T/v1/CCLF_AB1067T.bam\", \"gs://fc-1d1574d1-5469-4d1d-b11d-ea13b2f0d5d9/Cancer_Cell_Line_Factory_CCLF_RNAseq/RP-571/RNA/CCLF_AB1075T/v1/CCLF_AB1075T.bam\", \"gs://fc-1d1574d1-5469-4d1d-b11d-ea13b2f0d5d9/Cancer_Cell_Line_Factory_CCLF_RNAseq/RP-571/RNA/CCLF_PEDS1046T/v1/CCLF_PEDS1046T.bam\", \"gs://fc-1d1574d1-5469-4d1d-b11d-ea13b2f0d5d9/Cancer_Cell_Line_Factory_CCLF_RNAseq/RP-571/RNA/CCLF_PEDS1064T/v1/CCLF_PEDS1064T.bam\"]\n",
    "\n",
    "fixed_bai_paths = [\"gs://fc-1d1574d1-5469-4d1d-b11d-ea13b2f0d5d9/Cancer_Cell_Line_Factory_CCLF_RNAseq/RP-571/RNA/CCLF_PEDS1034T_primary/v1/CCLF_PEDS1034T_primary.bai\", \"gs://fc-1d1574d1-5469-4d1d-b11d-ea13b2f0d5d9/Cancer_Cell_Line_Factory_CCLF_RNAseq/RP-571/RNA/CCLF_PEDS1034T/v1/CCLF_PEDS1034T.bai\", \"gs://fc-1d1574d1-5469-4d1d-b11d-ea13b2f0d5d9/Cancer_Cell_Line_Factory_CCLF_RNAseq/RP-571/RNA/CCLF_PEDS1037T/v1/CCLF_PEDS1037T.bai\", \"gs://fc-1d1574d1-5469-4d1d-b11d-ea13b2f0d5d9/Cancer_Cell_Line_Factory_CCLF_RNAseq/RP-571/RNA/CCLF_PEDS1041T/v1/CCLF_PEDS1041T.bai\", \"gs://fc-1d1574d1-5469-4d1d-b11d-ea13b2f0d5d9/Cancer_Cell_Line_Factory_CCLF_RNAseq/RP-571/RNA/CCLF_PEDS1041T_primary/v1/CCLF_PEDS1041T_primary.bai\", \"gs://fc-1d1574d1-5469-4d1d-b11d-ea13b2f0d5d9/Cancer_Cell_Line_Factory_CCLF_RNAseq/RP-571/RNA/CCLF_PEDS1051T/v1/CCLF_PEDS1051T.bai\", \"gs://fc-1d1574d1-5469-4d1d-b11d-ea13b2f0d5d9/Cancer_Cell_Line_Factory_CCLF_RNAseq/RP-571/RNA/CCLF_PEDS1083T/v1/CCLF_PEDS1083T.bai\", \"gs://fc-1d1574d1-5469-4d1d-b11d-ea13b2f0d5d9/Cancer_Cell_Line_Factory_CCLF_RNAseq/RP-571/RNA/CCLF_PEDS1083T_primary/v1/CCLF_PEDS1083T_primary.bai\", \"gs://fc-1d1574d1-5469-4d1d-b11d-ea13b2f0d5d9/Cancer_Cell_Line_Factory_CCLF_RNAseq/RP-571/RNA/CCLF_RCRF1019T/v1/CCLF_RCRF1019T.bai\", \"gs://fc-1d1574d1-5469-4d1d-b11d-ea13b2f0d5d9/Cancer_Cell_Line_Factory_CCLF_RNAseq/RP-571/RNA/CCLF_RCRF1020T/v1/CCLF_RCRF1020T.bai\", \"gs://fc-1d1574d1-5469-4d1d-b11d-ea13b2f0d5d9/Cancer_Cell_Line_Factory_CCLF_RNAseq/RP-571/RNA/CCLF_PEDS1029T_4/v1/CCLF_PEDS1029T_4.bai\", \"gs://fc-1d1574d1-5469-4d1d-b11d-ea13b2f0d5d9/Cancer_Cell_Line_Factory_CCLF_RNAseq/RP-571/RNA/PEDS201T/v1/PEDS201T.bai\", \"gs://fc-1d1574d1-5469-4d1d-b11d-ea13b2f0d5d9/Cancer_Cell_Line_Factory_CCLF_RNAseq/RP-571/RNA/CCLF_AB1004T/v1/CCLF_AB1004T.bai\", \"gs://fc-1d1574d1-5469-4d1d-b11d-ea13b2f0d5d9/Cancer_Cell_Line_Factory_CCLF_RNAseq/RP-571/RNA/CCLF_AB1067T/v1/CCLF_AB1067T.bai\", \"gs://fc-1d1574d1-5469-4d1d-b11d-ea13b2f0d5d9/Cancer_Cell_Line_Factory_CCLF_RNAseq/RP-571/RNA/CCLF_AB1075T/v1/CCLF_AB1075T.bai\", \"gs://fc-1d1574d1-5469-4d1d-b11d-ea13b2f0d5d9/Cancer_Cell_Line_Factory_CCLF_RNAseq/RP-571/RNA/CCLF_PEDS1046T/v1/CCLF_PEDS1046T.bai\", \"gs://fc-1d1574d1-5469-4d1d-b11d-ea13b2f0d5d9/Cancer_Cell_Line_Factory_CCLF_RNAseq/RP-571/RNA/CCLF_PEDS1064T/v1/CCLF_PEDS1064T.bai\"]"
   ]
  },
  {
   "cell_type": "code",
   "execution_count": null,
   "metadata": {},
   "outputs": [],
   "source": [
    "wm_bam_dict = {\"nci-mimoun-bi-org/CCLF_WES\":\"formatted_bam_file\",\n",
    "                     \"nci-mimoun-bi-org/CCLF_RNA_2_0\":\"bam_file_rna\",\n",
    "                     \"nci-mimoun-bi-org/CCLF_RNASeq\":\"bam_file_rna\",\n",
    "                     \"broad-genomics-delivery/Cancer_Cell_Line_Factory_CCLF_RNAseq\":\"cram_or_bam_path\"}\n",
    "\n",
    "bam_wm_dict = {v:k for k,v in wm_bam_dict.items() if k != \"nci-mimoun-bi-org/CCLF_RNASeq\"}\n",
    "print(bam_wm_dict)\n",
    "\n",
    "# Fix / update the bam paths for select samples\n",
    "for sample_id, new_bam, new_bai, bam_col, bai_col in zip(samples_to_fix, fixed_bam_paths, fixed_bai_paths, to_fix_bam_col_name, to_fix_bai_col_name):\n",
    "    attrs = {bam_col:new_bam, bai_col:new_bai}\n",
    "#     print(attrs)\n",
    "    attrs = pd.DataFrame(attrs, index=[sample_id])\n",
    "    display(attrs)\n",
    "    if bam_wm_dict[bam_col] == \"nci-mimoun-bi-org/CCLF_RNA_2_0\":\n",
    "#         continue\n",
    "        wm2.update_sample_attributes(attrs = attrs, sample_id=sample_id)\n",
    "    else:\n",
    "        continue\n",
    "        # TODO: currently don't have permission to change stuff here because it's in the broad-genomics-delivery workspace. I probably need to copy these files somewhere else.\n",
    "#         wm1.update_sample_attributes(attrs = attrs, sample_id=sample_id)"
   ]
  },
  {
   "cell_type": "code",
   "execution_count": null,
   "metadata": {},
   "outputs": [],
   "source": [
    "terra.addToSampleSet(refworkspace,samplesetid = \"failed_to_retry\", samples= failed_to_retry)"
   ]
  },
  {
   "cell_type": "code",
   "execution_count": null,
   "metadata": {},
   "outputs": [],
   "source": [
    "\n",
    "sub_id_2_succeeded = refwm.create_submission(\"star_v1-0_BETA_cfg\", samplesetname,'sample_set',expression='this.samples')\n",
    "terra.waitForSubmission(refworkspace, sub_id_2_succeeded)"
   ]
  },
  {
   "cell_type": "code",
   "execution_count": null,
   "metadata": {},
   "outputs": [],
   "source": [
    "sub_id_1_failed_samples = refwm.create_submission(\"samtofastq_v1-0_BETA_cfg\", \"failed_to_retry\",'sample_set',expression='this.samples')\n",
    "terra.waitForSubmission(refworkspace, sub_id_1_failed_samples)"
   ]
  },
  {
   "cell_type": "code",
   "execution_count": null,
   "metadata": {},
   "outputs": [],
   "source": [
    "sub_id_1 = refwm.create_submission(\"samtofastq_v1-0_BETA_cfg\", samplesetname,'sample_set',expression='this.samples')\n",
    "terra.waitForSubmission(refworkspace, sub_id_1)"
   ]
  },
  {
   "cell_type": "code",
   "execution_count": null,
   "metadata": {},
   "outputs": [],
   "source": [
    "sub_id_2 = refwm.create_submission(\"star_v1-0_BETA_cfg\", samplesetname,'sample_set',expression='this.samples')\n",
    "terra.waitForSubmission(refworkspace, sub_id_2)"
   ]
  },
  {
   "cell_type": "code",
   "execution_count": null,
   "metadata": {},
   "outputs": [],
   "source": [
    "sub_id_3 = refwm.create_submission(\"rsem_v1-0_BETA_cfg\", samplesetname,'sample_set',expression='this.samples')\n",
    "terra.waitForSubmission(refworkspace, sub_id_3)"
   ]
  },
  {
   "cell_type": "code",
   "execution_count": null,
   "metadata": {},
   "outputs": [],
   "source": [
    "sub_id_fusion_1 = refwm.create_submission(\"hg38_STAR_fusion\", samplesetname,'sample_set',expression='this.samples')"
   ]
  },
  {
   "cell_type": "code",
   "execution_count": null,
   "metadata": {},
   "outputs": [],
   "source": [
    "# submission_id_snp = refwm.create_submission(\"rnaseq-germline-snps-indels\", samplesetname,'sample_set',expression='this.samples')"
   ]
  },
  {
   "cell_type": "code",
   "execution_count": null,
   "metadata": {},
   "outputs": [],
   "source": [
    "# update a samples set with another sampleset containing all the samples processed so far\n",
    "terra.updateAllSampleSet(refworkspace, samplesetname)"
   ]
  },
  {
   "cell_type": "code",
   "execution_count": null,
   "metadata": {},
   "outputs": [],
   "source": [
    "sub_id_4 = refwm.create_submission(\"rsem_aggregate_results\", 'all_samples')"
   ]
  },
  {
   "cell_type": "code",
   "execution_count": null,
   "metadata": {},
   "outputs": [],
   "source": [
    "terra.waitForSubmission(refworkspace, [sub_id_4])"
   ]
  },
  {
   "cell_type": "markdown",
   "metadata": {},
   "source": [
    "## On Local"
   ]
  },
  {
   "cell_type": "markdown",
   "metadata": {},
   "source": [
    "### Save the workflow configurations used"
   ]
  },
  {
   "cell_type": "code",
   "execution_count": null,
   "metadata": {},
   "outputs": [],
   "source": [
    "terra.saveConfigs(refworkspace,'data/'+samplesetname+'/RNAconfig')"
   ]
  },
  {
   "cell_type": "markdown",
   "metadata": {},
   "source": [
    "### Expression post processing\n",
    "\n",
    "Here we get all data and remove the duplicates directly with the function `removeDuplicates`\n",
    "\n",
    "we then run:\n",
    "\n",
    "- readTranscripts\n",
    "- readCounts\n",
    "- readTPM\n",
    "- renameFunction\n",
    "\n",
    "- Allie's gene renaming / filtering and log transform"
   ]
  },
  {
   "cell_type": "code",
   "execution_count": null,
   "metadata": {},
   "outputs": [],
   "source": [
    "res = refwm.get_sample_sets().loc['All_samples']\n",
    "rsem_genes_expected_count = res['rsem_genes_expected_count']\n",
    "rsem_genes_tpm = res['rsem_genes_tpm']\n",
    "rsem_transcripts_tpm = res['rsem_transcripts_tpm']\n",
    "! gsutil cp $rsem_genes_expected_count \"temp/expression.expectedcount\" & gsutil cp $rsem_genes_tpm \"temp/expression.genes.tpm\" & gsutil cp $rsem_transcripts_tpm \"temp/expression.transcript.tpm\""
   ]
  },
  {
   "cell_type": "code",
   "execution_count": null,
   "metadata": {},
   "outputs": [],
   "source": [
    "[file.columns[i] for i in range(len(file.columns)-1) if file.columns[i] == file.columns[i+1]]"
   ]
  },
  {
   "cell_type": "code",
   "execution_count": null,
   "metadata": {},
   "outputs": [],
   "source": [
    "len(file.columns) - len((set(file.columns)))"
   ]
  },
  {
   "cell_type": "code",
   "execution_count": null,
   "metadata": {},
   "outputs": [],
   "source": [
    "for val in [\"temp/expression.expectedcount\",\"temp/expression.transcript.tpm\",\"temp/expression.genes.tpm\"]:\n",
    "    file = pd.read_csv(val, compression='gzip', header=0, sep='\\t', quotechar='\"', error_bad_lines=False)\n",
    "    file = removeColDuplicates(file)\n",
    "    file.columns = [i.split('_')[0] if i not in ['gene_id', \"transcript_id\" \"transcript_id(s)\"] else i for i in file.columns]\n",
    "    file.set_index('gene_id').to_csv(val,sep='\\t',)"
   ]
  },
  {
   "cell_type": "code",
   "execution_count": null,
   "metadata": {},
   "outputs": [],
   "source": [
    "%%R\n",
    "library('taigr')\n",
    "source('../gkugener/RScripts/load_libraries_and_annotations.R')\n",
    "source('src/CCLE_postp_function.R')\n",
    "library('cdsomics')"
   ]
  },
  {
   "cell_type": "code",
   "execution_count": null,
   "metadata": {},
   "outputs": [],
   "source": [
    "%%R\n",
    "# These files are downloaded from FireCloud/Terra\n",
    "download_paths <- list(\n",
    "  tpm_genes='temp/expression.genes.tpm',\n",
    "  tpm_transcripts='temp/expression.transcript.tpm',\n",
    "  counts_genes='temp/expression.expectedcount')"
   ]
  },
  {
   "cell_type": "code",
   "execution_count": null,
   "metadata": {},
   "outputs": [],
   "source": [
    "%%R\n",
    "tpm_transcripts = readTranscripts(download_paths$tpm_transcripts)\n",
    "counts_genes = readCounts(download_paths$counts_genes)\n",
    "tpm_genes = readTPM(download_paths$tpm_genes)"
   ]
  },
  {
   "cell_type": "code",
   "execution_count": null,
   "metadata": {},
   "outputs": [],
   "source": [
    "%%R\n",
    "head(tpm_transcripts)"
   ]
  },
  {
   "cell_type": "code",
   "execution_count": null,
   "metadata": {},
   "outputs": [],
   "source": [
    "%%R\n",
    "# Fix the colnames (for cases where there are mixed values (CCLE_name and DepMap_IDs))\n",
    "colnames(counts_genes) %<>% renameFunction(.)\n",
    "colnames(tpm_genes) %<>% renameFunction(.)\n",
    "colnames(tpm_transcripts) %<>% renameFunction(.)"
   ]
  },
  {
   "cell_type": "markdown",
   "metadata": {},
   "source": [
    "### data exploration and QC\n",
    "\n",
    "- we QC on the amount of genes with 0 counts for each samples"
   ]
  },
  {
   "cell_type": "code",
   "execution_count": null,
   "metadata": {},
   "outputs": [],
   "source": [
    "%%R \n",
    "# Quick QC\n",
    "# We are looking for samples with a worrying amount of zeros\n",
    "zero_threshold <- 39000\n",
    "number_zeros <- apply(tpm_genes[,2:ncol(tpm_genes)-1] ==0, 2, FUN = sum)\n",
    "nzdf <- data.frame(CL=names(number_zeros), nz=number_zeros, stringsAsFactors = F)"
   ]
  },
  {
   "cell_type": "code",
   "execution_count": null,
   "metadata": {},
   "outputs": [],
   "source": [
    "%%R\n",
    "number_zeros <- number_zeros[order(-number_zeros)]\n",
    "number_zeros <- number_zeros[number_zeros < zero_threshold]\n",
    "pass <- number_zeros %>% names()"
   ]
  },
  {
   "cell_type": "code",
   "execution_count": null,
   "metadata": {},
   "outputs": [],
   "source": [
    "%%R\n",
    "counts_genes"
   ]
  },
  {
   "cell_type": "code",
   "execution_count": null,
   "metadata": {},
   "outputs": [],
   "source": [
    "%%R\n",
    "colnames(tpm_transcripts)[which(colnames(tpm_transcripts)=='transcript')] <- 'transcript_id(s)'\n",
    "colnames(tpm_genes)[which(colnames(tpm_genes)=='transcript')] <- 'transcript_id(s)'\n",
    "colnames(counts_genes)[which(colnames(counts_genes)=='transcript')] <- 'transcript_id(s)'"
   ]
  },
  {
   "cell_type": "code",
   "execution_count": null,
   "metadata": {},
   "outputs": [],
   "source": [
    "%%R\n",
    "# These samples failed\n",
    "failed <- setdiff(colnames(tpm_genes), pass) %>% .[!(. %in% c('gene_id', 'transcript_id(s)'))]"
   ]
  },
  {
   "cell_type": "code",
   "execution_count": null,
   "metadata": {},
   "outputs": [],
   "source": [
    "%%R\n",
    "counts_genes"
   ]
  },
  {
   "cell_type": "code",
   "execution_count": null,
   "metadata": {},
   "outputs": [],
   "source": [
    "%%R\n",
    "counts_genes %<>% dplyr::select(c(\"gene_id\",\"transcript_id(s)\", pass))"
   ]
  },
  {
   "cell_type": "code",
   "execution_count": null,
   "metadata": {},
   "outputs": [],
   "source": [
    "%%R\n",
    "failed"
   ]
  },
  {
   "cell_type": "code",
   "execution_count": null,
   "metadata": {},
   "outputs": [],
   "source": [
    "%%R\n",
    "tpm_genes %<>% dplyr::select(c(\"gene_id\",\"transcript_id(s)\", pass))\n",
    "tpm_transcripts %<>% dplyr::select(c(\"transcript_id(s)\", \"gene_id\", pass))"
   ]
  },
  {
   "cell_type": "code",
   "execution_count": null,
   "metadata": {},
   "outputs": [],
   "source": [
    "%%R\n",
    "# Plot of the samples that fail\n",
    "plot <- ggplot(nzdf, aes(nz)) +\n",
    "  geom_histogram(bins = 100, color='black', fill='white') +\n",
    "  geom_vline(xintercept = zero_threshold, linetype=2) +\n",
    "  geom_label_repel(data = nzdf %>% filter(nz > zero_threshold), aes(x=nz, y=0, label=CL), size=5, fill=rgb(1,1,1,0.5))\n",
    "\n",
    "ggsave(plot, filename ='temp/ggplot.png', width=20, height = 20)"
   ]
  },
  {
   "cell_type": "code",
   "execution_count": null,
   "metadata": {},
   "outputs": [],
   "source": [
    "display(Image(filename='temp/ggplot.png'))"
   ]
  },
  {
   "cell_type": "markdown",
   "metadata": {},
   "source": [
    "### Allie post processing "
   ]
  },
  {
   "cell_type": "code",
   "execution_count": null,
   "metadata": {},
   "outputs": [],
   "source": [
    "%%R\n",
    "colnames(tpm_transcripts)[which(colnames(tpm_transcripts)=='transcript')] <- 'transcript_id(s)'\n",
    "colnames(tpm_genes)[which(colnames(tpm_genes)=='transcript')] <- 'transcript_id(s)'\n",
    "colnames(counts_genes)[which(colnames(counts_genes)=='transcript')] <- 'transcript_id(s)'"
   ]
  },
  {
   "cell_type": "code",
   "execution_count": null,
   "metadata": {},
   "outputs": [],
   "source": [
    "%%R\n",
    "print(colnames(tpm_genes)[1:10])\n",
    "tpm_gene_ids <- gsub(\"\\\\..*\", \"\", tpm_genes$gene_id)\n",
    "if(nrow(tpm_genes) != length(unique(tpm_gene_ids))){\n",
    "  print(\"Duplicated ensembl ids\")\n",
    "  print(nrow(tpm_genes) - length(unique(tpm_gene_ids)))\n",
    "  tpm_genes <- tpm_genes[-which(duplicated(tpm_gene_ids)==T),]\n",
    "}"
   ]
  },
  {
   "cell_type": "code",
   "execution_count": null,
   "metadata": {},
   "outputs": [],
   "source": [
    "%%R\n",
    "annotations<-download.raw.from.taiga(data.name='gene-annotations-e737', data.version=1, data.file='gencode.v29.annotation')\n",
    "tpm_protein_coding <- prepare_depmap_TPM_for_taiga(tpm_genes, log_transform=T, just_protein_coding=T, gencode_annotations=annotations)\n",
    "tpm_genes <- prepare_depmap_TPM_for_taiga(tpm_genes, log_transform=T, just_protein_coding=F, gencode_annotations=annotations)"
   ]
  },
  {
   "cell_type": "code",
   "execution_count": null,
   "metadata": {},
   "outputs": [],
   "source": [
    "%%R\n",
    "### transcripts\n",
    "print(colnames(tpm_transcripts)[1:10])\n",
    "tpm_transcript_id <- gsub(\"\\\\..*\", \"\", tpm_transcripts$`transcript_id(s)`)\n",
    "if(nrow(tpm_transcripts) != length(unique(tpm_transcript_id))) {\n",
    "  print(\"Duplicated transcript ids\")\n",
    "  print(nrow(tpm_transcripts) - length(unique(tpm_transcript_id)))\n",
    "  tpm_transcript <- tpm_transcripts[-which(duplicated(tpm_transcript_id)==T),]\n",
    "}\n",
    "tpm_transcripts <- prepare_depmap_transcripts_for_taiga(tpm_transcript, gencode_annotations = annotations) "
   ]
  },
  {
   "cell_type": "code",
   "execution_count": null,
   "metadata": {},
   "outputs": [],
   "source": [
    "%%R\n",
    "### counts\n",
    "print(colnames(counts_genes)[1:10])\n",
    "counts_gene_ids <- gsub(\"\\\\..*\", \"\", counts_genes$gene_id)\n",
    "if(nrow(counts_genes) != length(unique(counts_gene_ids))) {\n",
    "  print(\"Duplicate ensembl ids\")\n",
    "  print(length(which(duplicated(counts_gene_ids)==T)))\n",
    "  counts_genes <- counts_genes[-which(duplicated(counts_gene_ids)==T),]\n",
    "}\n",
    "counts_genes <- prepare_depmap_TPM_for_taiga(counts_genes, gencode_annotations =annotations) "
   ]
  },
  {
   "cell_type": "code",
   "execution_count": null,
   "metadata": {},
   "outputs": [],
   "source": [
    "%%R\n",
    "write.table(\n",
    "  counts_genes, \n",
    "  file = paste0('temp/expression.', release,'.counts.tsv'), \n",
    "  sep = '\\t', quote = F)\n",
    "write.table(\n",
    "  tpm_genes, \n",
    "  file = paste0('temp/expression.', release,'.genes.tsv'), \n",
    "  sep = '\\t', quote = F)\n",
    "write.table(\n",
    "  tpm_protein_coding, \n",
    "  file = paste0('temp/expression.', release,'.protein_coding.tsv'), \n",
    "  sep = '\\t', quote = F)\n",
    "write.table(\n",
    "  tpm_transcripts, \n",
    "  file = paste0('temp/expression.', release,'.transcripts.tsv'),\n",
    "  sep = '\\t', quote = F)"
   ]
  },
  {
   "cell_type": "markdown",
   "metadata": {},
   "source": [
    "## Loading"
   ]
  },
  {
   "cell_type": "code",
   "execution_count": null,
   "metadata": {},
   "outputs": [],
   "source": [
    "counts_genes = pd.read_csv('temp/expression.'+ release + '.counts.tsv', sep='\\t',index_col=0)\n",
    "tpm_genes = pd.read_csv('temp/expression.'+ release + '.genes.tsv', sep='\\t' ,index_col=0)\n",
    "tpm_proteincoding = pd.read_csv('temp/expression.'+ release + '.protein_coding.tsv', sep='\\t',index_col=0)\n",
    "tpm_transcripts = pd.read_csv('temp/expression.'+ release + '.transcripts.tsv', sep='\\t', index_col=0)"
   ]
  },
  {
   "cell_type": "code",
   "execution_count": null,
   "metadata": {},
   "outputs": [],
   "source": [
    "tpm_transcripts"
   ]
  },
  {
   "cell_type": "code",
   "execution_count": null,
   "metadata": {},
   "outputs": [],
   "source": [
    "tpm_transcripts.to_csv('temp/expression.'+ release + '.transcripts.tsv', sep='\\t')"
   ]
  },
  {
   "cell_type": "code",
   "execution_count": null,
   "metadata": {},
   "outputs": [],
   "source": [
    "tpm_transcripts"
   ]
  },
  {
   "cell_type": "markdown",
   "metadata": {},
   "source": [
    "## validation\n"
   ]
  },
  {
   "cell_type": "code",
   "execution_count": null,
   "metadata": {},
   "outputs": [],
   "source": [
    "prevcounts = tc.get(name='depmap-expression-87f8', file=\"expression.\"+prevname+'.counts')\n",
    "prevgenes = tc.get(name='depmap-expression-87f8', file=\"expression.\"+prevname+'.genes')\n",
    "prevtranscripts = tc.get(name='depmap-expression-87f8', file=\"expression.\"+prevname+'.transcripts')\n",
    "prevproteincoding = tc.get(name='depmap-expression-87f8', file=\"expression.\"+prevname+'.protein')"
   ]
  },
  {
   "cell_type": "code",
   "execution_count": null,
   "metadata": {},
   "outputs": [],
   "source": [
    "new1 = set(counts_genes.columns.values.tolist())\n",
    "prev = set(prev.columns.values.tolist())"
   ]
  },
  {
   "cell_type": "code",
   "execution_count": null,
   "metadata": {},
   "outputs": [],
   "source": [
    "new3 = set(tpm_transcripts.columns.values.tolist())\n",
    "new2 = set(tpm_genes.columns.values.tolist())"
   ]
  },
  {
   "cell_type": "code",
   "execution_count": null,
   "metadata": {},
   "outputs": [],
   "source": [
    "print(len(prev), len(prev & new2), len(new1), len(new1 & new2 & new3), new2-prev, prev-new2)"
   ]
  },
  {
   "cell_type": "code",
   "execution_count": null,
   "metadata": {},
   "outputs": [],
   "source": [
    "metadata = tc.get(name='depmap-a0ab', file='sample_info')"
   ]
  },
  {
   "cell_type": "code",
   "execution_count": null,
   "metadata": {},
   "outputs": [],
   "source": [
    "metadata"
   ]
  },
  {
   "cell_type": "code",
   "execution_count": null,
   "metadata": {},
   "outputs": [],
   "source": [
    "# finding train and test set\n",
    "trainame = [val for val in new1&prev if val[:3] == 'ACH']\n",
    "testname = [val for val in new1-prev if val[:3] == 'ACH']\n",
    "\n",
    "#looking at the 2000 most variable genes in the two sets\n",
    "genetolookfor = 2000\n",
    "gene_var = counts_genes[trainame].var(1).values\n",
    "print(len(gene_var))\n",
    "sorting = np.argsort(gene_var)[-genetolookfor:]"
   ]
  },
  {
   "cell_type": "code",
   "execution_count": null,
   "metadata": {},
   "outputs": [],
   "source": [
    "unregistered = set(testname) - set(metadata[\"DepMap_ID\"].values.tolist())\n",
    "unregistered"
   ]
  },
  {
   "cell_type": "code",
   "execution_count": null,
   "metadata": {},
   "outputs": [],
   "source": [
    "len(counts_genes['ACH-001767']) - np.count_nonzero(counts_genes['ACH-001767'].values)"
   ]
  },
  {
   "cell_type": "code",
   "execution_count": null,
   "metadata": {},
   "outputs": [],
   "source": [
    "# creating and reodering train and test sets\n",
    "traindata = counts_genes[set(trainame)-unregistered].values[sorting].T\n",
    "trainlabels = [metadata[metadata[\"DepMap_ID\"]==val][\"disease\"].values[0] for val in counts_genes[set(trainame)-unregistered].columns.tolist() if val not in unregistered]\n",
    "\n",
    "testdata = counts_genes[set(testname)-unregistered].values[sorting].T\n",
    "testlabels = [metadata[metadata[\"DepMap_ID\"]==val][\"disease\"].values[0] for val in counts_genes[set(testname)-unregistered].columns.tolist() if val not in unregistered]"
   ]
  },
  {
   "cell_type": "code",
   "execution_count": null,
   "metadata": {},
   "outputs": [],
   "source": [
    "traindata.shape"
   ]
  },
  {
   "cell_type": "code",
   "execution_count": null,
   "metadata": {},
   "outputs": [],
   "source": [
    "# learn KNN classifier to the metadata diseases\n",
    "neigh = KNeighborsClassifier(n_neighbors=5)\n",
    "neigh.fit(traindata, trainlabels) \n",
    "predicted = neigh.predict(testdata)"
   ]
  },
  {
   "cell_type": "code",
   "execution_count": null,
   "metadata": {},
   "outputs": [],
   "source": [
    "predicted[1]"
   ]
  },
  {
   "cell_type": "code",
   "execution_count": null,
   "metadata": {},
   "outputs": [],
   "source": [
    "labels = trainlabels + testlabels\n",
    "colors=[0]*len(trainlabels)\n",
    "colors.extend([1,2,2,2,2,1,2,2,2,1,2])\n",
    "data = np.vstack([traindata,testdata])"
   ]
  },
  {
   "cell_type": "code",
   "execution_count": null,
   "metadata": {},
   "outputs": [],
   "source": [
    "# plot them with TSNE, highlight the points that failed and show colors for diseases\n",
    "dimred = TSNE(2,10).fit_transform(data)"
   ]
  },
  {
   "cell_type": "code",
   "execution_count": null,
   "metadata": {},
   "outputs": [],
   "source": [
    "scatter(dimred, labels=labels,colors=colors, radi=1.9)"
   ]
  },
  {
   "cell_type": "markdown",
   "metadata": {},
   "source": [
    "## Save files for taiga"
   ]
  },
  {
   "cell_type": "code",
   "execution_count": null,
   "metadata": {},
   "outputs": [],
   "source": [
    "! ls temp/expression.*"
   ]
  },
  {
   "cell_type": "code",
   "execution_count": null,
   "metadata": {},
   "outputs": [],
   "source": [
    "tc.update_dataset(dataset_permaname=\"depmap-expression-87f8\",\n",
    "                 upload_file_path_dict={'temp/expression.'+release+'.transcripts.tsv': 'NumericMatrixTSV',\n",
    "                                       'temp/expression.'+release+'.genes.tsv': 'NumericMatrixTSV',\n",
    "                                       'temp/expression.'+release+'.counts.tsv': 'NumericMatrixTSV',\n",
    "                                       'temp/expression.'+release+'.protein_coding.tsv': 'NumericMatrixTSV'},\n",
    "                  dataset_description=\n",
    "\"\"\"\n",
    "# RNAseq\n",
    "\n",
    "Combined segment and gene-level CN calls from Broad WES, Sanger WES, and Broad SNP. Relative CN, not log2 transformed.\n",
    "\n",
    "PORTAL TEAM SHOULD NOT USE THIS: There are lines here that should not make it even to internal. Must use subsetted dataset instead. These data will not make it on the portal starting 19Q1. With the DMC portal, there is new cell line release prioritization as to which lines can be included, so a new taiga dataset will be created containing CN for the portal.\n",
    "\n",
    "version 1-8: guillaume releases\n",
    "version 9: 19Q3 release\n",
    "version 10:  adding missing samples in Terra merge files\n",
    "version 11: 19Q4 new release.\n",
    "\n",
    "Adding 93 new cell lines. \n",
    "Some cells lines have been removed because they:\n",
    "\n",
    " - had too many 0 values = [\"ACH-001388\" \"ACH-001577\" \"ACH-001767\" \"ACH-002463\"] \n",
    "\n",
    "Some cells lines have been flagged as:\n",
    "\n",
    " - having too many..\n",
    " \n",
    "version 12:\n",
    "    uploading as matrices \n",
    "    \n",
    "version 13:\n",
    "    20Q1 new release. \n",
    " \n",
    "transcriptions (Transcripts rpkm):\n",
    "\n",
    "genes (gene rpkm):\n",
    "__Rows__:\n",
    "__Columns__:\n",
    "Counts (gene counts):\n",
    "__Rows__:\n",
    "__Columns__:\n",
    "Gene level CN data:\n",
    "__Rows__:\n",
    "__Columns__:\n",
    " DepMap cell line IDs\n",
    " gene names in the format HGNC\\_symbol (Entrez\\_ID)\n",
    "DepMap\\_ID, Chromosome, Start, End, Num\\_Probes, Segment\\_Mean\n",
    "\"\"\")"
   ]
  },
  {
   "cell_type": "code",
   "execution_count": null,
   "metadata": {},
   "outputs": [],
   "source": [
    "prevprevcells = set(tc.get(name='depmap-rnaseq-expression-data-363a', file='CCLE_depMap_'+prevprevname+'_TPM_ProteinCoding',version=17).index.tolist())"
   ]
  },
  {
   "cell_type": "markdown",
   "metadata": {},
   "source": [
    "### internal"
   ]
  },
  {
   "cell_type": "code",
   "execution_count": null,
   "metadata": {},
   "outputs": [],
   "source": [
    "print(len(tpm_transcripts))\n",
    "tpm_transcripts = tpm_transcripts[~tpm_transcripts.index.isin(blacklist)]\n",
    "print(len(tpm_transcripts))\n",
    "tpm_transcripts.to_csv('temp/internal_'+release+'_transcripts_tpm', sep='\\t')"
   ]
  },
  {
   "cell_type": "code",
   "execution_count": null,
   "metadata": {},
   "outputs": [],
   "source": [
    "## removing first blacklisted, then embargoed, to create two datasets\n",
    "print(len(counts_genes))\n",
    "counts_genes = counts_genes[~counts_genes.index.isin(blacklist)]\n",
    "print(len(counts_genes))\n",
    "<<<<<< HEAD\n",
    "counts_genes.to_csv('temp/internal_'+release+'_counts', sep='\\t', index=False)\n",
    "tpm_genes = tpm_genes[~tpm_genes.index.isin(blacklist)]\n",
    "print(len(tpm_genes))\n",
    "tpm_genes.to_csv('temp/internal_'+release+'_tpm', sep='\\t', index=False)\n",
    "tpm_proteincoding = tpm_proteincoding[~tpm_proteincoding.index.isin(blacklist)]\n",
    "print(len(tpm_proteincoding))\n",
    "tpm_proteincoding.to_csv('temp/internal_'+release+'_proteincoding_tpm', sep='\\t', index=False)\n",
    "tpm_transcripts = tpm_transcripts[[i for i in tpm_transcripts.columns if i not in blacklist]]\n",
    "print(len(tpm_transcripts.columns))\n",
    "tpm_transcripts.to_csv('temp/internal_'+release+'_transcripts_tpm', sep='\\t', index=False)=======\n",
    "counts_genes.to_csv('temp/internal_'+release+'_counts', sep='\\t')\n",
    "print(len(tpm_genes))\n",
    "tpm_genes = tpm_genes[~tpm_genes.index.isin(blacklist)]\n",
    "print(len(tpm_genes))\n",
    "tpm_genes.to_csv('temp/internal_'+release+'_tpm', sep='\\t')\n",
    "print(len(tpm_proteincoding))\n",
    "tpm_proteincoding = tpm_proteincoding[~tpm_proteincoding.index.isin(blacklist)]\n",
    "print(len(tpm_proteincoding))\n",
    "tpm_proteincoding.to_csv('temp/internal_'+release+'_proteincoding_tpm', sep='\\t')\n",
    "print(len(tpm_transcripts))\n",
    "tpm_transcripts = tpm_transcripts[~tpm_transcripts.index.isin(blacklist)]\n",
    "print(len(tpm_transcripts))\n",
    "tpm_transcripts.to_csv('temp/internal_'+release+'_transcripts_tpm', sep='\\t')\n",
    ">>>>>> bc0588ff7c603506463782e3f4d6527ba31122dc"
   ]
  },
  {
   "cell_type": "code",
   "execution_count": null,
   "metadata": {},
   "outputs": [],
   "source": [
    "tc.update_dataset(dataset_permaname=\"depmap-rnaseq-expression-data-363a\",\n",
    "                 upload_file_path_dict={'temp/internal_'+release+'_counts': 'NumericMatrixTSV',\n",
    "                                       'temp/internal_'+release+'_tpm': 'NumericMatrixTSV',\n",
    "                                       'temp/internal_'+release+'_proteincoding_tpm': 'NumericMatrixTSV',\n",
    "                                       'temp/internal_'+release+'_transcripts_tpm': 'NumericMatrixTSV'},\n",
    "                  dataset_description=\n",
    "\"\"\"\n",
    "# INTERNAL RNA\n",
    "\n",
    "* Version 1-3 Internal 18Q1*\n",
    "\n",
    "All CCLE cell lines with RNAseq data.\n",
    "\n",
    "Original data source:\n",
    "\n",
    "`/xchip/ccle_dist/broad_only/CMAG/expression/CCLE_depMap_18Q1_RNAseq_reads_20180201.gct`\n",
    "`/xchip/ccle_dist/broad_only/CMAG/expression/CCLE_depMap_18Q1_RNAseq_RPKM_20180201.gct`\n",
    "\n",
    "Version 2 of RPKM data are log2-transformed with a noisy floor at -3 (-3 + N(0, 0.1))\n",
    "\n",
    "* Version 4-6 Internal 18Q2*\n",
    "\n",
    "Original data source:\n",
    "\n",
    "`/xchip/ccle_dist/broad_only/CMAG/expression/CCLE_depMap_18q2_RNAseq_reads_20180420.gct` `/xchip/ccle_dist/broad_only/CMAG/expression/CCLE_depMap_18q2_RNAseq_RPKM_20180420.gct`\n",
    "\n",
    "RPKM data are log2-transformed with a noisy floor at -3 (-3 + N(0, 0.1)). Reads file unaltered aside from formatting row / column names.\n",
    "\n",
    "* Version 7 Internal 18Q2*\n",
    "\n",
    "Includes a matrix with genes filtered by HGNC protein-coding gene locus group.\n",
    "\n",
    "* Version 8-10 Internal 18Q3*\n",
    "\n",
    "use version 10\n",
    "\n",
    "Original data source:\n",
    "\n",
    "`/xchip/ccle_dist/broad_only/CMAG/expression/CCLE_depMap_18q3_RNAseq_reads_20180716.gct` `/xchip/ccle_dist/broad_only/CMAG/expression/CCLE_depMap_18q3_RNAseq_RPKM_20180716.gct`\n",
    "\n",
    "RPKM data are log2-transformed with a noisy floor at -3 (-3 + N(0, 0.1)). Reads file unaltered aside from formatting row / column names.\n",
    "\n",
    "The ProteinCoding datasets contain just protein coding genes and are based on protein coding annotations from https://www.genenames.org/cgi-bin/download (locus_group == \"protein-coding gene\")\n",
    "\n",
    "Rows: are Broad (Arxspan) cell line IDs.\n",
    "\n",
    "Columns: In the complete RPKM and read datasets column names are HGNC_symbol (Ensembl_ID), while in the ProteinCoding RPKM and read datasets column names are HGNC_symbol (Entrez_ID)\n",
    "\n",
    "version 9 updates names, and slightly different RPKM values due to randomly added noisy floor (using a seed of 4)\n",
    "\n",
    "version 10 removes duplicate gene names from the protein coding datasets\n",
    "\n",
    "* Version 11-12 Internal 18Q4*\n",
    "\n",
    "18Q4 transcript level data is found in version 14. (In versions 1-13 transcript data contains only gene level not transcript level data)\n",
    "\n",
    "changing to TPM expression\n",
    "\n",
    "Original data source:\n",
    "\n",
    "`/xchip/ccle_dist/broad_only/CMAG/expression/CCLE_DepMap_18Q4_rsem_genes_tpm_20181029.txt` `/xchip/ccle_dist/broad_only/CMAG/expression/CCLE_DepMap_18Q4_rsem_transcripts_tpm_20181029.gct` `/xchip/ccle_dist/broad_only/CMAG/expression/CCLE_DepMap_18Q4_RNAseq_reads_20181029.gct` `/xchip/ccle_dist/broad_only/CMAG/expression/CCLE_DepMap_18Q4_RNAseq_RPKM_20181029.gct`\n",
    "\n",
    "TPM data is the primary expression data now. It is log2-transformed with a pseudo count of 1 added. The TPM data contains 4 cell lines not included in the RPKM data.\n",
    "\n",
    "RPKM data are log2-transformed with a pseudo count of 1 added. RPKM values are no longer thresholded.\n",
    "\n",
    "Reads/transcript files unaltered aside from formatting row / column names.\n",
    "\n",
    "The ProteinCoding datasets contain just protein coding genes and are based on protein coding annotations from https://www.genenames.org/cgi-bin/download (locus_group == \"protein-coding gene\")\n",
    "\n",
    "Rows: are DepMap (Arxspan) cell line IDs\n",
    "\n",
    "Columns: In the complete TPM, TPM transcripts, RPKM and read datasets column names are HGNC_symbol (Ensembl_ID), while in the ProteinCoding TPM dataset column names are HGNC_symbol (Entrez_ID)\n",
    "\n",
    "* Version 13-15 Internal 19Q1*\n",
    "\n",
    "Version 15 contains the correct data sets for 19Q1 - 2 cell lines are removed\n",
    "\n",
    "Version 14 contains the correct transcript level data for 18Q4\n",
    "\n",
    "* Version 16 Internal 19Q2*\n",
    "\n",
    "* Version 17 Internal 19Q3*\n",
    "\n",
    "* Version 18 Internal 19Q4\n",
    "\n",
    "Adding 93 new cell lines - Blacklisted\n",
    "Some cells lines have been removed because they:\n",
    "\n",
    " - had too many 0 values = [\"ACH-001388\" \"ACH-001577\" \"ACH-001767\" \"ACH-002463\"] \n",
    "\n",
    "Some cells lines have been flagged as:\n",
    "\n",
    " - None\n",
    "* Version 19 Internal 19Q4\n",
    "removing blacklisted\n",
    "\n",
    "* Version 20 Internal 19Q4\n",
    "removing blacklisted in transcripts\n",
    "\n",
    "* Version 21 Internal 19Q4\n",
    "uploading as matrices \n",
    "\n",
    "* Version 21 Internal 20Q1\n",
    "adding 6 new cell lines\n",
    "\n",
    "data is aligned to hg38\n",
    "\n",
    "read count data is created using RSEM, which, when a read maps to multiple places, splits the counts between genes, with the weight based on the likelihood that it came from one gene or the other, so counts data may not be integers\n",
    "\n",
    "TPM data is log2-transformed with a pseudo count of 1 added. log2(X+1)\n",
    "\n",
    "Reads/transcript files unaltered aside from formatting row / column names.\n",
    "\n",
    "The ProteinCoding datasets contain just protein coding genes and are based on protein coding annotations from https://www.genenames.org/cgi-bin/download (locus_group == \"protein-coding gene\")\n",
    "\n",
    "Rows: are DepMap cell line IDs Mapping between Broad IDs and CCLE IDs can be done using a R or python package\n",
    "\n",
    "To install R implementation: options(repos = c(\"https://iwww.broadinstitute.org/~datasci/R-packages\", \"https://cran.cnr.berkeley.edu\")) install.packages('celllinemapr')\n",
    "\n",
    "To install python implementation: pip install https://intranet.broadinstitute.org/~datasci/python-packages/cell_line_mapper-0.1.9.tar.gz)\n",
    "\n",
    "Columns: In the complete TPM and read counts datasets column names are HGNC_symbol (Ensembl_ID), while in the ProteinCoding TPM dataset column names are HGNC_symbol (Entrez_ID). In the TPM transcript dataset column names are HGNC_symbol (Transcript_ID) - the HGNC symbols are not unique, use the transcript IDs for unique identifiers.\n",
    "\"\"\")"
   ]
  },
  {
   "cell_type": "code",
   "execution_count": null,
   "metadata": {},
   "outputs": [],
   "source": [
    "AddToVirtual('depmap-a0ab', \"depmap-rnaseq-expression-data-363a\", files=[('CCLE_RNAseq_reads', 'internal_'+release+'_counts'),('CCLE_expression_full', 'internal_'+release+'_tpm'),('CCLE_expression', 'internal_'+release+'_proteincoding_tpm'),('CCLE_RNAseq_transcripts', 'internal_'+release+'_transcripts_tpm')])\n",
    "\n",
    "AddToVirtual(virtual_internal, \"depmap-rnaseq-expression-data-363a\", files=[('CCLE_RNAseq_reads', 'internal_'+release+'_counts'),('CCLE_expression_full', 'internal_'+release+'_tpm'),('CCLE_expression', 'internal_'+release+'_proteincoding_tpm'),('CCLE_RNAseq_transcripts', 'internal_'+release+'_transcripts_tpm')])"
   ]
  },
  {
   "cell_type": "markdown",
   "metadata": {},
   "source": [
    "## Fusion post processing"
   ]
  },
  {
   "cell_type": "code",
   "execution_count": null,
   "metadata": {},
   "outputs": [],
   "source": [
    "terra.waitForSubmission(refworkspace, sub_id_fusion_1)"
   ]
  },
  {
   "cell_type": "code",
   "execution_count": null,
   "metadata": {},
   "outputs": [],
   "source": [
    "sub_id_fusion_2 = refwm.create_submission(\"Aggregate_Fusion_Calls\", 'All_samples')\n",
    "terra.waitForSubmission(refworkspace, sub_id_fusion_2)"
   ]
  },
  {
   "cell_type": "code",
   "execution_count": null,
   "metadata": {},
   "outputs": [],
   "source": [
    "aggregated = refwm.get_sample_sets().loc['All_samples']['fusions_star']"
   ]
  },
  {
   "cell_type": "code",
   "execution_count": null,
   "metadata": {},
   "outputs": [],
   "source": [
    "! gsutil cp $aggregated \"temp/expression.fusion.tsv\""
   ]
  },
  {
   "cell_type": "code",
   "execution_count": null,
   "metadata": {},
   "outputs": [],
   "source": [
    "fusions = pd.read_csv('temp/expression.fusion.tsv', sep='\\t')\n",
    "fusions['DepMap_ID'] = [i.split('.')[0] for i in fusions.DepMap_ID]\n",
    "fusions['DepMap_ID'] = [i.split('_')[1] if i.split('_')[0] in ['dm','ccle','ibm'] else i for i in fusions.DepMap_ID]\n",
    "a = list(set(fusions['DepMap_ID']))\n",
    "a.sort()\n",
    "todrop = []\n",
    "for i in range(len(a)- 1):\n",
    "    e = a[i + 1].split('_')\n",
    "    if len(e[-1]) == 1:\n",
    "        if int(e[-1]) > 1 and e[0] == a[i].split('_')[0]:\n",
    "            todrop.append(a[i])\n",
    "            print(a[i])\n",
    "            print(e)\n",
    "fusions = fusions.set_index('DepMap_ID').drop(todrop).reset_index()\n",
    "fusions['DepMap_ID'] = [i.split('_')[0] for i in fusions.DepMap_ID]\n",
    "fusions.to_csv('temp/expression.fusion.tsv',sep='\\t')"
   ]
  },
  {
   "cell_type": "markdown",
   "metadata": {},
   "source": [
    "### Overview\n",
    "\n",
    "This document contains the code used to generate the unfiltered and filtered versions of the fusion datasets for the release. The bottom of the document also contains some comparisons between the release fusion dataset, CCLE2 fusion calls, and the translocation data from CCLE2."
   ]
  },
  {
   "cell_type": "code",
   "execution_count": null,
   "metadata": {},
   "outputs": [],
   "source": [
    "%%R\n",
    "source('../gkugener/RScripts/load_libraries_and_annotations.R')\n",
    "source(\"src/CCLE_postp_function.R\")\n",
    "library('cdsomics')"
   ]
  },
  {
   "cell_type": "markdown",
   "metadata": {},
   "source": [
    "## Generate filtered fusion table\n",
    "\n",
    "Release: `r release`\n",
    "\n",
    "We want to apply filters to the fusion table to reduce the number of artifacts in the dataset. Specifically, we filter the following:\n",
    "\n",
    "* Remove fusions involving mitochondrial chromosomes, or HLA genes, or immunoglobulin genes\n",
    "* Remove red herring fusions (from STAR-Fusion annotations column)\n",
    "* Remove recurrent in CCLE (>= 25 samples)\n",
    "* Remove fusion with (SpliceType=\" INCL_NON_REF_SPLICE\" and LargeAnchorSupport=\"No\" and FFPM < 0.1)\n",
    "* Remove fusions with FFPM < 0.05 (STAR-Fusion suggests using 0.1, but looking at the translocation data, this looks like it might be too aggressive)\n",
    "\n",
    "with the functions:\n",
    "- readFusions\n",
    "- filterFusions\n",
    "- prepare_depmap_fusion_data_for_taiga"
   ]
  },
  {
   "cell_type": "code",
   "execution_count": null,
   "metadata": {},
   "outputs": [],
   "source": [
    "%%R\n",
    "unfiltered_fusions <- readFusions('temp/expression.fusion.tsv')\n",
    "filtered_fusions <- filterFusions(unfiltered_fusions)\n",
    "\n",
    "filtered_fusions <- prepare_depmap_fusion_data_for_taiga(filtered_fusions)\n",
    "unfiltered_fusions <- prepare_depmap_fusion_data_for_taiga(unfiltered_fusions)\n",
    "\n",
    "filtered_fusions <- filtered_fusions[,2:ncol(filtered_fusions)]\n",
    "unfiltered_fusions <- unfiltered_fusions[,2:ncol(unfiltered_fusions)]"
   ]
  },
  {
   "cell_type": "code",
   "execution_count": null,
   "metadata": {},
   "outputs": [],
   "source": [
    "%%R\n",
    "# Save the files (to be uploaded to taiga)\n",
    "write.table(\n",
    "  unfiltered_fusions,\n",
    "  file = paste0('temp/fusions.',release, '.unfiltered.tsv'),\n",
    "  sep = '\\t', quote = F, row.names = F\n",
    ")\n",
    "write.table(\n",
    "  filtered_fusions,\n",
    "  file = paste0('temp/fusions.', release, '.filtered.tsv'),\n",
    "  sep = '\\t', quote = F, row.names = F\n",
    ")"
   ]
  },
  {
   "cell_type": "markdown",
   "metadata": {},
   "source": [
    "# Validation"
   ]
  },
  {
   "cell_type": "markdown",
   "metadata": {},
   "source": [
    "## Validation Protocol:\n",
    "\n",
    "to validate fusions, one should be able to list all cells with known fusions (i.e. elwing sarcoma) and check for each new cell in this set of knownfusioncells, if the fusion is present or not. and validate the fusion quality this way."
   ]
  },
  {
   "cell_type": "code",
   "execution_count": null,
   "metadata": {},
   "outputs": [],
   "source": [
    "# check that all cells lines are present on fusion unfiltered\n",
    "df = pd.read_csv('temp/fusions.'+release+'.unfiltered.tsv', sep='\\t')\n",
    "new = set([i.split('_')[1][:10] for i in list(set(df[\"DepMap_ID\"].tolist()))])\n",
    "print(prev - new, new-prev)"
   ]
  },
  {
   "cell_type": "code",
   "execution_count": null,
   "metadata": {},
   "outputs": [],
   "source": [
    "unfiltered = pd.read_csv('temp/fusions.'+release+'.unfiltered.tsv', sep='\\t')\n",
    "filtered = pd.read_csv('temp/fusions.'+ release+ '.filtered.tsv',sep='\\t')"
   ]
  },
  {
   "cell_type": "code",
   "execution_count": null,
   "metadata": {},
   "outputs": [],
   "source": [
    "prevfiltered = tc.get(name='depmap-fusions-7990', file=\"fusions.\"+prevname+\".filtered\")\n",
    "prevunfiltered = tc.get(name='depmap-fusions-7990', file='fusions.'+prevname+'.unfiltered')"
   ]
  },
  {
   "cell_type": "markdown",
   "metadata": {},
   "source": [
    "# Uploading to Taiga"
   ]
  },
  {
   "cell_type": "code",
   "execution_count": null,
   "metadata": {},
   "outputs": [],
   "source": [
    "tc.update_dataset(dataset_permaname=\"depmap-fusions-7990\",\n",
    "                     upload_file_path_dict={'temp/fusions.'+release+'.filtered.tsv': 'TableTSV',\n",
    "                                        'temp/fusions.'+release+'.unfiltered.tsv': 'TableTSV'},\n",
    "                 dataset_description=\"\"\"\n",
    "# Fusions\n",
    "\n",
    "filtered and unfiltered fusion files from Broad RNAseq data mapped to hg38\n",
    "\n",
    "PORTAL TEAM SHOULD NOT USE THIS: There are lines here that should not make it even to internal. Must use subsetted dataset instead. These data will not make it on the portal starting 19Q1. With the DMC portal, there is new cell line release prioritization as to which lines can be included, so a new taiga dataset will be created containing CN for the portal.\n",
    "\n",
    "version 1-4: guillaume releases\n",
    "version 5: 19Q3 release\n",
    "version 6:  adding missing samples in Terra merge files\n",
    "version 7: 19Q4 new release.\n",
    "\n",
    "## ** Internal 19Q4****\n",
    "\n",
    "Adding 17 new cell lines, 3 reprioritized cell lines. log2(COPY RATIO+1). \n",
    "Some cells lines have been flagged as:\n",
    "\n",
    "## ** Internal 20Q1****\n",
    "\n",
    "Adding 6 new lines\n",
    "\n",
    "transcriptions (Transcripts rpkm):\n",
    "\n",
    "genes (gene rpkm):\n",
    "__Rows__:\n",
    "__Columns__:\n",
    "Counts (gene counts):\n",
    "__Rows__:\n",
    "__Columns__:\n",
    "Gene level CN data:\n",
    "__Rows__:\n",
    "__Columns__:\n",
    " DepMap cell line IDs\n",
    " gene names in the format HGNC\\_symbol (Entrez\\_ID)\n",
    "DepMap\\_ID, Chromosome, Start, End, Num\\_Probes, Segment\\_Mean\n",
    " \"\"\")"
   ]
  },
  {
   "cell_type": "markdown",
   "metadata": {},
   "source": [
    "## Internal"
   ]
  },
  {
   "cell_type": "code",
   "execution_count": null,
   "metadata": {},
   "outputs": [],
   "source": [
    "filtered"
   ]
  },
  {
   "cell_type": "code",
   "execution_count": null,
   "metadata": {},
   "outputs": [],
   "source": [
    "## removing first blacklisted, then embargoed, to create two datasets\n",
    "print(len(filtered))\n",
    "filtered = filtered[~filtered.DepMap_ID.isin(blacklist)]\n",
    "print(len(filtered))\n",
    "filtered.to_csv('temp/filtered_fusions_'+release, sep='\\t', index=False)\n",
    "print(len(unfiltered))\n",
    "unfiltered= unfiltered[~unfiltered.DepMap_ID.isin(blacklist)]\n",
    "print(len(unfiltered))\n",
    "unfiltered.to_csv('temp/unfiltered_fusions_'+release, sep='\\t', index=False)"
   ]
  },
  {
   "cell_type": "code",
   "execution_count": null,
   "metadata": {},
   "outputs": [],
   "source": [
    "tc.update_dataset(dataset_permaname=\"gene-fusions-8b7a\",\n",
    "                 upload_file_path_dict={'temp/filtered_fusions_'+release: 'TableTSV',\n",
    "                                       'temp/unfiltered_fusions_'+release: 'TableTSV'},\n",
    "                  dataset_description=\n",
    "\"\"\"\n",
    "# Internal Fusions\n",
    "\n",
    "Description: Gene fusions derived from RNAseq data.\n",
    "\n",
    "Rows: cell lines\n",
    "\n",
    "Original Raw Data: Generated by Mahmoud Ghandi on April 25, 2017. Can be found at xchip_ccle_dist/broad_only/unpublished_Novartis_data/RNAseq/fusions.txt\n",
    "\n",
    "Version 3: added a column containing the Broad_ID\n",
    "\n",
    "* Version 4-5 Internal 19Q1*\n",
    "\n",
    "version 5 contains the correct data for 19Q1\n",
    "\n",
    "Description: Gene fusions derived from RNAseq data.\n",
    "\n",
    "Rows: cell lines\n",
    "\n",
    "* Version 6 Internal 19Q2*\n",
    "\n",
    "* Version 7*\n",
    "\n",
    "Josh D added \"common_fusion_matrix\".\n",
    "\n",
    "Binary matrix of the most common gene fusions (those where the two involved genes are fused in at least 5 cell lines) with no additional filtering. Use at your own risk.\n",
    "\n",
    "Description: Gene fusions derived from RNAseq data.\n",
    "\n",
    "Rows: cell lines\n",
    "\n",
    "* Version 8 Internal 19Q3*\n",
    "\n",
    "Unfiltered data contains all output fusions, while the filtered data uses the following filters:\n",
    "\n",
    "Removing fusion involving mitochondrial chromosomes or HLA genes\n",
    "Removed common false positive fusions (red herring annotations as described in the STAR-Fusion docs)\n",
    "Recurrent fusions observed in CCLE across cell lines (in 25 or more samples)\n",
    "Removed fusions where SpliceType='INCL_NON_REF_SPLICE' and LargeAnchorSupport='NO_LDAS' and FFPM < 0.1\n",
    "FFPM < 0.05\n",
    "Columns:\n",
    "\n",
    "LeftGene and RightGene separated by an ampersand (\"&\").\n",
    "\n",
    "Rows:\n",
    "\n",
    "DepMap_IDs\n",
    "\"\"\")\n",
    "AddToVirtual('depmap-a0ab', \"gene-fusions-8b7a\", files=[('CCLE_fusions_unfiltered', 'unfiltered_fusions_'+release),('CCLE_fusions', 'filtered_fusions_'+release)])\n",
    "\n",
    "AddToVirtual(virtual_internal, \"gene-fusions-8b7a\", files=[('CCLE_fusions_unfiltered', 'unfiltered_fusions_'+release),('CCLE_fusions', 'filtered_fusions_'+release)])"
   ]
  },
  {
   "cell_type": "markdown",
   "metadata": {},
   "source": [
    "# [Additional] IF want to merge here instead of on Terra:"
   ]
  },
  {
   "cell_type": "code",
   "execution_count": null,
   "metadata": {},
   "outputs": [],
   "source": [
    "newsamples"
   ]
  },
  {
   "cell_type": "code",
   "execution_count": null,
   "metadata": {},
   "outputs": [],
   "source": [
    "prevsamplesets = ['CCLE_19Q3interim',samplesetname]\n",
    "samples = []\n",
    "for i in prevsamplesets:\n",
    "    samples.extend(refwm.get_sample_sets().loc[i].samples)\n",
    "res = []\n",
    "terrasamp = refwm.get_samples()\n",
    "for i, sample in enumerate(samples):\n",
    "    res.append(terrasamp.loc[sample])\n",
    "    genes_fusion = res[i]['fusion_predictions_abridged']\n",
    "    rsem_genes_transcripts = res[i]['rsem_isoforms']\n",
    "    rsem_genes_expected_count = res[i]['rsem_genes']\n",
    "    ! gsutil cp $rsem_genes_expected_count 'temp/' && gsutil cp $rsem_genes_transcripts 'temp/' && gsutil cp $genes_fusion 'temp/'"
   ]
  },
  {
   "cell_type": "code",
   "execution_count": null,
   "metadata": {},
   "outputs": [],
   "source": [
    "mainres = refwm.get_sample_sets().loc['DM19Q2_PATHS_CORRECTED_V2']\n",
    "maingenes_fusion = mainres['fusions_star']\n",
    "mainrsem_genes_tpm = mainres['rsem_genes_tpm']\n",
    "mainrsem_genes_transcripts = mainres['rsem_transcripts_tpm']\n",
    "mainrsem_genes_expected_count = mainres['rsem_genes_expected_count']\n",
    "! gsutil cp $mainrsem_genes_expected_count \"temp/\" && gsutil cp $mainrsem_genes_transcripts \"temp/\" && gsutil cp $maingenes_fusion \"temp/expression.fusion.tsv\" && gsutil cp $mainrsem_genes_tpm \"temp/\""
   ]
  },
  {
   "cell_type": "code",
   "execution_count": null,
   "metadata": {},
   "outputs": [],
   "source": [
    "mainres['rsem_genes_expected_count']"
   ]
  },
  {
   "cell_type": "code",
   "execution_count": null,
   "metadata": {},
   "outputs": [],
   "source": [
    "addSamplesRSEMToMain(res,mainres)"
   ]
  },
  {
   "cell_type": "code",
   "execution_count": null,
   "metadata": {},
   "outputs": [],
   "source": [
    "genes_fusion = ['temp/'+val['fusion_predictions_abridged'].split('/')[-1] for val in res]\n",
    "addToMainFusion(genes_fusion,'temp/expression.fusion.tsv')"
   ]
  }
 ],
 "metadata": {
  "kernelspec": {
   "display_name": "Python 3",
   "language": "python",
   "name": "python3"
  },
  "language_info": {
   "codemirror_mode": {
    "name": "ipython",
    "version": 3
   },
   "file_extension": ".py",
   "mimetype": "text/x-python",
   "name": "python",
   "nbconvert_exporter": "python",
   "pygments_lexer": "ipython3",
   "version": "3.7.4"
  },
  "latex_envs": {
   "LaTeX_envs_menu_present": true,
   "autoclose": false,
   "autocomplete": true,
   "bibliofile": "biblio.bib",
   "cite_by": "apalike",
   "current_citInitial": 1,
   "eqLabelWithNumbers": true,
   "eqNumInitial": 1,
   "hotkeys": {
    "equation": "Ctrl-E",
    "itemize": "Ctrl-I"
   },
   "labels_anchors": false,
   "latex_user_defs": false,
   "report_style_numbering": false,
   "user_envs_cfg": false
  },
  "toc": {
   "base_numbering": 1,
   "nav_menu": {},
   "number_sections": true,
   "sideBar": true,
   "skip_h1_title": false,
   "title_cell": "Table of Contents",
   "title_sidebar": "Contents",
   "toc_cell": false,
   "toc_position": {},
   "toc_section_display": true,
   "toc_window_display": false
  },
  "varInspector": {
   "cols": {
    "lenName": 16,
    "lenType": 16,
    "lenVar": 40
   },
   "kernels_config": {
    "python": {
     "delete_cmd_postfix": "",
     "delete_cmd_prefix": "del ",
     "library": "var_list.py",
     "varRefreshCmd": "print(var_dic_list())"
    },
    "r": {
     "delete_cmd_postfix": ") ",
     "delete_cmd_prefix": "rm(",
     "library": "var_list.r",
     "varRefreshCmd": "cat(var_dic_list()) "
    }
   },
   "types_to_exclude": [
    "module",
    "function",
    "builtin_function_or_method",
    "instance",
    "_Feature"
   ],
   "window_display": false
  }
 },
 "nbformat": 4,
 "nbformat_minor": 2
}
