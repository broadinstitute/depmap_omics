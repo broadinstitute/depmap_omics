{
 "cells": [
  {
   "cell_type": "markdown",
   "source": [
    "# Preproccessing and loading data"
   ],
   "metadata": {}
  },
  {
   "cell_type": "markdown",
   "source": [
    "Dependencies: R, DESeq2 in R"
   ],
   "metadata": {}
  },
  {
   "cell_type": "code",
   "execution_count": 2,
   "source": [
    "from __future__ import print_function\n",
    "\n",
    "from depmapomics.config import *\n",
    "\n",
    "from depmapomics import loading, tracker\n",
    "from depmapomics import mutations as omics_mut\n",
    "from depmapomics import copynumbers as omics_cn\n",
    "from genepy import terra\n",
    "from genepy.utils import helper as h\n",
<<<<<<< Updated upstream
    "from depmapomics.config import \n",
=======
    "from depmapomics.config import *\n",
>>>>>>> Stashed changes
    "\n",
    "import dalmatian as dm\n",
    "from bokeh.plotting import output_notebook\n",
    "\n",
    "%load_ext autoreload\n",
    "%autoreload 2\n",
    "\n",
    "output_notebook()"
   ],
   "outputs": [
    {
     "output_type": "stream",
     "name": "stderr",
     "text": [
      "/Users/xiaomeng/miniconda3/lib/python3.9/site-packages/rpy2/robjects/pandas2ri.py:14: FutureWarning: pandas.core.index is deprecated and will be removed in a future version.  The public classes are available in the top-level namespace.\n",
      "  from pandas.core.index import Index as PandasIndex\n"
     ]
    },
    {
     "output_type": "stream",
     "name": "stdout",
     "text": [
      "No dataset version provided. Using version 98.\n",
      "No dataset version provided. Using version 98.\n",
      "No dataset version provided. Using version 98.\n"
     ]
    },
    {
     "output_type": "display_data",
     "data": {
      "text/html": [
       "\n",
       "    <div class=\"bk-root\">\n",
       "        <a href=\"https://bokeh.org\" target=\"_blank\" class=\"bk-logo bk-logo-small bk-logo-notebook\"></a>\n",
       "        <span id=\"1002\">Loading BokehJS ...</span>\n",
       "    </div>"
      ]
     },
     "metadata": {}
    },
    {
     "output_type": "display_data",
     "data": {
      "application/javascript": "\n(function(root) {\n  function now() {\n    return new Date();\n  }\n\n  var force = true;\n\n  if (typeof root._bokeh_onload_callbacks === \"undefined\" || force === true) {\n    root._bokeh_onload_callbacks = [];\n    root._bokeh_is_loading = undefined;\n  }\n\n  var JS_MIME_TYPE = 'application/javascript';\n  var HTML_MIME_TYPE = 'text/html';\n  var EXEC_MIME_TYPE = 'application/vnd.bokehjs_exec.v0+json';\n  var CLASS_NAME = 'output_bokeh rendered_html';\n\n  /**\n   * Render data to the DOM node\n   */\n  function render(props, node) {\n    var script = document.createElement(\"script\");\n    node.appendChild(script);\n  }\n\n  /**\n   * Handle when an output is cleared or removed\n   */\n  function handleClearOutput(event, handle) {\n    var cell = handle.cell;\n\n    var id = cell.output_area._bokeh_element_id;\n    var server_id = cell.output_area._bokeh_server_id;\n    // Clean up Bokeh references\n    if (id != null && id in Bokeh.index) {\n      Bokeh.index[id].model.document.clear();\n      delete Bokeh.index[id];\n    }\n\n    if (server_id !== undefined) {\n      // Clean up Bokeh references\n      var cmd = \"from bokeh.io.state import curstate; print(curstate().uuid_to_server['\" + server_id + \"'].get_sessions()[0].document.roots[0]._id)\";\n      cell.notebook.kernel.execute(cmd, {\n        iopub: {\n          output: function(msg) {\n            var id = msg.content.text.trim();\n            if (id in Bokeh.index) {\n              Bokeh.index[id].model.document.clear();\n              delete Bokeh.index[id];\n            }\n          }\n        }\n      });\n      // Destroy server and session\n      var cmd = \"import bokeh.io.notebook as ion; ion.destroy_server('\" + server_id + \"')\";\n      cell.notebook.kernel.execute(cmd);\n    }\n  }\n\n  /**\n   * Handle when a new output is added\n   */\n  function handleAddOutput(event, handle) {\n    var output_area = handle.output_area;\n    var output = handle.output;\n\n    // limit handleAddOutput to display_data with EXEC_MIME_TYPE content only\n    if ((output.output_type != \"display_data\") || (!Object.prototype.hasOwnProperty.call(output.data, EXEC_MIME_TYPE))) {\n      return\n    }\n\n    var toinsert = output_area.element.find(\".\" + CLASS_NAME.split(' ')[0]);\n\n    if (output.metadata[EXEC_MIME_TYPE][\"id\"] !== undefined) {\n      toinsert[toinsert.length - 1].firstChild.textContent = output.data[JS_MIME_TYPE];\n      // store reference to embed id on output_area\n      output_area._bokeh_element_id = output.metadata[EXEC_MIME_TYPE][\"id\"];\n    }\n    if (output.metadata[EXEC_MIME_TYPE][\"server_id\"] !== undefined) {\n      var bk_div = document.createElement(\"div\");\n      bk_div.innerHTML = output.data[HTML_MIME_TYPE];\n      var script_attrs = bk_div.children[0].attributes;\n      for (var i = 0; i < script_attrs.length; i++) {\n        toinsert[toinsert.length - 1].firstChild.setAttribute(script_attrs[i].name, script_attrs[i].value);\n        toinsert[toinsert.length - 1].firstChild.textContent = bk_div.children[0].textContent\n      }\n      // store reference to server id on output_area\n      output_area._bokeh_server_id = output.metadata[EXEC_MIME_TYPE][\"server_id\"];\n    }\n  }\n\n  function register_renderer(events, OutputArea) {\n\n    function append_mime(data, metadata, element) {\n      // create a DOM node to render to\n      var toinsert = this.create_output_subarea(\n        metadata,\n        CLASS_NAME,\n        EXEC_MIME_TYPE\n      );\n      this.keyboard_manager.register_events(toinsert);\n      // Render to node\n      var props = {data: data, metadata: metadata[EXEC_MIME_TYPE]};\n      render(props, toinsert[toinsert.length - 1]);\n      element.append(toinsert);\n      return toinsert\n    }\n\n    /* Handle when an output is cleared or removed */\n    events.on('clear_output.CodeCell', handleClearOutput);\n    events.on('delete.Cell', handleClearOutput);\n\n    /* Handle when a new output is added */\n    events.on('output_added.OutputArea', handleAddOutput);\n\n    /**\n     * Register the mime type and append_mime function with output_area\n     */\n    OutputArea.prototype.register_mime_type(EXEC_MIME_TYPE, append_mime, {\n      /* Is output safe? */\n      safe: true,\n      /* Index of renderer in `output_area.display_order` */\n      index: 0\n    });\n  }\n\n  // register the mime type if in Jupyter Notebook environment and previously unregistered\n  if (root.Jupyter !== undefined) {\n    var events = require('base/js/events');\n    var OutputArea = require('notebook/js/outputarea').OutputArea;\n\n    if (OutputArea.prototype.mime_types().indexOf(EXEC_MIME_TYPE) == -1) {\n      register_renderer(events, OutputArea);\n    }\n  }\n\n  \n  if (typeof (root._bokeh_timeout) === \"undefined\" || force === true) {\n    root._bokeh_timeout = Date.now() + 5000;\n    root._bokeh_failed_load = false;\n  }\n\n  var NB_LOAD_WARNING = {'data': {'text/html':\n     \"<div style='background-color: #fdd'>\\n\"+\n     \"<p>\\n\"+\n     \"BokehJS does not appear to have successfully loaded. If loading BokehJS from CDN, this \\n\"+\n     \"may be due to a slow or bad network connection. Possible fixes:\\n\"+\n     \"</p>\\n\"+\n     \"<ul>\\n\"+\n     \"<li>re-rerun `output_notebook()` to attempt to load from CDN again, or</li>\\n\"+\n     \"<li>use INLINE resources instead, as so:</li>\\n\"+\n     \"</ul>\\n\"+\n     \"<code>\\n\"+\n     \"from bokeh.resources import INLINE\\n\"+\n     \"output_notebook(resources=INLINE)\\n\"+\n     \"</code>\\n\"+\n     \"</div>\"}};\n\n  function display_loaded() {\n    var el = document.getElementById(\"1002\");\n    if (el != null) {\n      el.textContent = \"BokehJS is loading...\";\n    }\n    if (root.Bokeh !== undefined) {\n      if (el != null) {\n        el.textContent = \"BokehJS \" + root.Bokeh.version + \" successfully loaded.\";\n      }\n    } else if (Date.now() < root._bokeh_timeout) {\n      setTimeout(display_loaded, 100)\n    }\n  }\n\n\n  function run_callbacks() {\n    try {\n      root._bokeh_onload_callbacks.forEach(function(callback) {\n        if (callback != null)\n          callback();\n      });\n    } finally {\n      delete root._bokeh_onload_callbacks\n    }\n    console.debug(\"Bokeh: all callbacks have finished\");\n  }\n\n  function load_libs(css_urls, js_urls, callback) {\n    if (css_urls == null) css_urls = [];\n    if (js_urls == null) js_urls = [];\n\n    root._bokeh_onload_callbacks.push(callback);\n    if (root._bokeh_is_loading > 0) {\n      console.debug(\"Bokeh: BokehJS is being loaded, scheduling callback at\", now());\n      return null;\n    }\n    if (js_urls == null || js_urls.length === 0) {\n      run_callbacks();\n      return null;\n    }\n    console.debug(\"Bokeh: BokehJS not loaded, scheduling load and callback at\", now());\n    root._bokeh_is_loading = css_urls.length + js_urls.length;\n\n    function on_load() {\n      root._bokeh_is_loading--;\n      if (root._bokeh_is_loading === 0) {\n        console.debug(\"Bokeh: all BokehJS libraries/stylesheets loaded\");\n        run_callbacks()\n      }\n    }\n\n    function on_error(url) {\n      console.error(\"failed to load \" + url);\n    }\n\n    for (let i = 0; i < css_urls.length; i++) {\n      const url = css_urls[i];\n      const element = document.createElement(\"link\");\n      element.onload = on_load;\n      element.onerror = on_error.bind(null, url);\n      element.rel = \"stylesheet\";\n      element.type = \"text/css\";\n      element.href = url;\n      console.debug(\"Bokeh: injecting link tag for BokehJS stylesheet: \", url);\n      document.body.appendChild(element);\n    }\n\n    const hashes = {\"https://cdn.bokeh.org/bokeh/release/bokeh-2.3.3.min.js\": \"dM3QQsP+wXdHg42wTqW85BjZQdLNNIXqlPw/BgKoExPmTG7ZLML4EGqLMfqHT6ON\", \"https://cdn.bokeh.org/bokeh/release/bokeh-tables-2.3.3.min.js\": \"8x57I4YuIfu8XyZfFo0XVr2WAT8EK4rh/uDe3wF7YuW2FNUSNEpJbsPaB1nJ2fz2\", \"https://cdn.bokeh.org/bokeh/release/bokeh-widgets-2.3.3.min.js\": \"3QTqdz9LyAm2i0sG5XTePsHec3UHWwVsrOL68SYRoAXsafvfAyqtQ+h440+qIBhS\"};\n\n    for (let i = 0; i < js_urls.length; i++) {\n      const url = js_urls[i];\n      const element = document.createElement('script');\n      element.onload = on_load;\n      element.onerror = on_error.bind(null, url);\n      element.async = false;\n      element.src = url;\n      if (url in hashes) {\n        element.crossOrigin = \"anonymous\";\n        element.integrity = \"sha384-\" + hashes[url];\n      }\n      console.debug(\"Bokeh: injecting script tag for BokehJS library: \", url);\n      document.head.appendChild(element);\n    }\n  };\n\n  function inject_raw_css(css) {\n    const element = document.createElement(\"style\");\n    element.appendChild(document.createTextNode(css));\n    document.body.appendChild(element);\n  }\n\n  \n  var js_urls = [\"https://cdn.bokeh.org/bokeh/release/bokeh-2.3.3.min.js\", \"https://cdn.bokeh.org/bokeh/release/bokeh-widgets-2.3.3.min.js\", \"https://cdn.bokeh.org/bokeh/release/bokeh-tables-2.3.3.min.js\"];\n  var css_urls = [];\n  \n\n  var inline_js = [\n    function(Bokeh) {\n      Bokeh.set_log_level(\"info\");\n    },\n    function(Bokeh) {\n    \n    \n    }\n  ];\n\n  function run_inline_js() {\n    \n    if (root.Bokeh !== undefined || force === true) {\n      \n    for (var i = 0; i < inline_js.length; i++) {\n      inline_js[i].call(root, root.Bokeh);\n    }\n    if (force === true) {\n        display_loaded();\n      }} else if (Date.now() < root._bokeh_timeout) {\n      setTimeout(run_inline_js, 100);\n    } else if (!root._bokeh_failed_load) {\n      console.log(\"Bokeh: BokehJS failed to load within specified timeout.\");\n      root._bokeh_failed_load = true;\n    } else if (force !== true) {\n      var cell = $(document.getElementById(\"1002\")).parents('.cell').data().cell;\n      cell.output_area.append_execute_result(NB_LOAD_WARNING)\n    }\n\n  }\n\n  if (root._bokeh_is_loading === 0) {\n    console.debug(\"Bokeh: BokehJS loaded, going straight to plotting\");\n    run_inline_js();\n  } else {\n    load_libs(css_urls, js_urls, function() {\n      console.debug(\"Bokeh: BokehJS plotting callback run at\", now());\n      run_inline_js();\n    });\n  }\n}(window));",
      "application/vnd.bokehjs_load.v0+json": ""
     },
     "metadata": {}
    }
   ],
   "metadata": {}
  },
  {
   "cell_type": "markdown",
   "source": [
    "## Adding new data\n",
    "\n",
    "We are looking for new samples in a range of workspaces.\n",
    "\n",
    "They are quite messy and might contains duplicates, contain broken file paths...\n",
    "\n",
    "- We are thus looking at the bam files one by one and comparing them with our own bams. \n",
    "- We remove broken files, duplicates and add new version of a cell line's bam if we find some."
   ],
   "metadata": {}
  },
  {
   "cell_type": "code",
   "execution_count": 3,
   "source": [
    "if isCCLE:\n",
    "    print(\"loading new WGS data\")\n",
    "    wgssamples = loading.loadWGS(SAMPLESETNAME)"
   ],
   "outputs": [
    {
     "output_type": "stream",
     "name": "stdout",
     "text": [
      "loading new WGS data\n",
      "refsamples is overrided by a refurl\n",
      "Getting sample infos...\n",
      "\n",
      "The shape of the sample tsv from <dalmatian.wmanager.WorkspaceManager terra-broad-cancer-prod/DepMap_WGS>: (163, 233)\n",
      "Identifying any true duplicates by checking file hashes (this runs for each data source)...\n",
      "This step can take a while as we need to use gsutil to check the size of each potential duplicate...\n",
      "listing files in gs\n",
      "These 0 bam file path do not exist: set()\n",
      "listing files in gs\n"
     ]
    },
    {
     "output_type": "stream",
     "name": "stderr",
     "text": [
      "/Users/xiaomeng/Desktop/cds/git/ccle_processing/depmapomics/loading.py:340: SettingWithCopyWarning: \n",
      "A value is trying to be set on a copy of a slice from a DataFrame.\n",
      "Try using .loc[row_indexer,col_indexer] = value instead\n",
      "\n",
      "See the caveats in the documentation: https://pandas.pydata.org/pandas-docs/stable/user_guide/indexing.html#returning-a-view-versus-a-copy\n",
      "  samples[extract['hash']] = [gcp.extractHash(val) for val in gcp.lsFiles(samples[extract[\"bam\"]].tolist(), \"-L\", 200)]\n"
     ]
    },
    {
     "output_type": "stream",
     "name": "stdout",
     "text": [
      "listing files in gs\n"
     ]
    },
    {
     "output_type": "stream",
     "name": "stderr",
     "text": [
      "/Users/xiaomeng/Desktop/cds/git/ccle_processing/depmapomics/loading.py:343: SettingWithCopyWarning: \n",
      "A value is trying to be set on a copy of a slice from a DataFrame.\n",
      "Try using .loc[row_indexer,col_indexer] = value instead\n",
      "\n",
      "See the caveats in the documentation: https://pandas.pydata.org/pandas-docs/stable/user_guide/indexing.html#returning-a-view-versus-a-copy\n",
      "  samples[extract['legacy_size']] = [gcp.extractSize(i)[1] for i in lis]\n",
      "/Users/xiaomeng/Desktop/cds/git/ccle_processing/depmapomics/loading.py:345: SettingWithCopyWarning: \n",
      "A value is trying to be set on a copy of a slice from a DataFrame.\n",
      "Try using .loc[row_indexer,col_indexer] = value instead\n",
      "\n",
      "See the caveats in the documentation: https://pandas.pydata.org/pandas-docs/stable/user_guide/indexing.html#returning-a-view-versus-a-copy\n",
      "  samples[extract['update_time']] = [gcp.extractTime(i) for i in lis]\n"
     ]
    },
    {
     "output_type": "stream",
     "name": "stdout",
     "text": [
      "Index(['rna_ribosomal_bases', 'wgs_pct_80x', 'hs_zero_cvg_targets_pct',\n",
      "       'min_insert_size', 'library-1_read_pair_duplicates',\n",
      "       'hs_fold_enrichment', 'window_size', 'wgs_pct_100x',\n",
      "       'rna_intergenic_bases', 'participant',\n",
      "       ...\n",
      "       'library-2_read_pairs_examined', 'library-2_name',\n",
      "       'library-2_estimated_library_size', 'library-2_read_pair_duplicates',\n",
      "       'crc32c_hash', 'legacy_size', 'update_time', 'sequencing_date',\n",
      "       'participant_id', 'source'],\n",
      "      dtype='object', length=238)\n",
      "listing files in gs\n",
      "listing files in gs\n",
      "Index(['rna_ribosomal_bases', 'wgs_pct_80x', 'hs_zero_cvg_targets_pct',\n",
      "       'min_insert_size', 'library-1_read_pair_duplicates',\n",
      "       'hs_fold_enrichment', 'window_size', 'wgs_pct_100x',\n",
      "       'rna_intergenic_bases', 'participant',\n",
      "       ...\n",
      "       'library-2_read_pairs_examined', 'library-2_name',\n",
      "       'library-2_estimated_library_size', 'library-2_read_pair_duplicates',\n",
      "       'crc32c_hash', 'legacy_size', 'update_time', 'sequencing_date',\n",
      "       'participant_id', 'source'],\n",
      "      dtype='object', length=238)\n",
      "we found and removed 0 samples which did not match our id names: ['ACH-', 'CDS-']\n",
      "found 131 likely replicate\n",
      "listing files in gs\n",
      "Len of samples before removal: 132\n",
      "Dups from this workspace has len 262:\n",
      " ['gs://fc-d2a92869-a028-40cf-a400-6ce6f7a5e92b/DepMap_CellLine_WGS_Aug2020/RP-1561/WGS/LU143/v1/LU143.bam', 'gs://fc-d2a92869-a028-40cf-a400-6ce6f7a5e92b/DepMap_CellLine_16_WGS_April2021/RP-1561/WGS/SM-KRSWA/v2/SM-KRSWA.bam', 'gs://fc-d2a92869-a028-40cf-a400-6ce6f7a5e92b/DepMap_CellLine_WGS_Aug2020/RP-1561/WGS/MAMEL27/v1/MAMEL27.bam', 'gs://fc-d2a92869-a028-40cf-a400-6ce6f7a5e92b/DepMap_CellLine_WGS_March2020/RP-1561/WGS/WM3772F/v1/WM3772F.bam', 'gs://fc-d2a92869-a028-40cf-a400-6ce6f7a5e92b/DepMap_CellLine_WGS_Aug2020/RP-1561/WGS/C242_1/v1/C242_1.bam', 'gs://fc-d2a92869-a028-40cf-a400-6ce6f7a5e92b/DepMap_CellLine_WGS_March2020/RP-1561/WGS/CCLFPEDS0010T/v3/CCLFPEDS0010T.bam', 'gs://fc-d2a92869-a028-40cf-a400-6ce6f7a5e92b/DepMap_CellLine_16_WGS_April2021/RP-1561/WGS/SM-KRSVL/v1/SM-KRSVL.bam', 'gs://fc-d2a92869-a028-40cf-a400-6ce6f7a5e92b/DepMap_CellLine_16_WGS_April2021/RP-1561/WGS/SM-KRSVE/v1/SM-KRSVE.bam', 'gs://fc-d2a92869-a028-40cf-a400-6ce6f7a5e92b/DepMap_CellLine_WGS_Oct2020/RP-1561/WGS/RPE1SS119/v1/RPE1SS119.bam', 'gs://fc-d2a92869-a028-40cf-a400-6ce6f7a5e92b/DepMap_CellLine_WGS_Aug2020/RP-1561/WGS/NZM42/v1/NZM42.bam', 'gs://fc-d2a92869-a028-40cf-a400-6ce6f7a5e92b/DepMap_CellLine_WGS_Aug2020/RP-1561/WGS/NZM2/v1/NZM2.bam', 'gs://fc-d2a92869-a028-40cf-a400-6ce6f7a5e92b/DepMap_CellLine_WGS_Aug2020/RP-1561/WGS/T3M11/v1/T3M11.bam', 'gs://fc-d2a92869-a028-40cf-a400-6ce6f7a5e92b/DepMap_CellLine_WGS_June2020/RP-1561/WGS/KOSC2CL343/v1/KOSC2CL343.bam', 'gs://fc-d2a92869-a028-40cf-a400-6ce6f7a5e92b/DepMap_CellLine_WGS_June2020/RP-1561/WGS/MM28__/v1/MM28__.bam', 'gs://fc-d2a92869-a028-40cf-a400-6ce6f7a5e92b/DepMap_CellLine_14_WGS_May2021/RP-1561/WGS/SM-L3DEC/v1/SM-L3DEC.bam', 'gs://fc-d2a92869-a028-40cf-a400-6ce6f7a5e92b/DepMap_CellLine_WGS_June2020/RP-1561/WGS/SCC3/v1/SCC3.bam', 'gs://fc-d2a92869-a028-40cf-a400-6ce6f7a5e92b/DepMap_WGS/RP-1561/WGS/ACH-002818_LL/v1/ACH-002818_LL.bam', 'gs://fc-d2a92869-a028-40cf-a400-6ce6f7a5e92b/DepMap_CellLine_WGS_Oct2020/RP-1561/WGS/NCCMPNST2C1_1/v1/NCCMPNST2C1_1.bam', 'gs://fc-d2a92869-a028-40cf-a400-6ce6f7a5e92b/DepMap_CellLine_WGS_Batch2_June2020/RP-1561/WGS/MEGA2/v2/MEGA2.bam', 'gs://fc-d2a92869-a028-40cf-a400-6ce6f7a5e92b/DepMap_CellLine_16_WGS_April2021/RP-1561/WGS/SM-KRSVJ/v1/SM-KRSVJ.bam', 'gs://fc-d2a92869-a028-40cf-a400-6ce6f7a5e92b/DepMap_CellLine_WGS_Aug2020/RP-1561/WGS/MY/v1/MY.bam', 'gs://fc-d2a92869-a028-40cf-a400-6ce6f7a5e92b/DepMap_CellLine_WGS_Aug2020/RP-1561/WGS/MM576_1/v1/MM576_1.bam', 'gs://fc-d2a92869-a028-40cf-a400-6ce6f7a5e92b/DepMap_CellLine_WGS_Oct2020/RP-1561/WGS/LO68/v1/LO68.bam', 'gs://fc-d2a92869-a028-40cf-a400-6ce6f7a5e92b/DepMap_CellLine_WGS_Aug2020/RP-1561/WGS/NZM3/v1/NZM3.bam', 'gs://fc-d2a92869-a028-40cf-a400-6ce6f7a5e92b/DepMap_CellLine_WGS_June2020/RP-1561/WGS/TKKK/v1/TKKK.bam', 'gs://fc-d2a92869-a028-40cf-a400-6ce6f7a5e92b/DepMap_CellLine_WGS_Oct2020/RP-1561/WGS/CMK115/v1/CMK115.bam', 'gs://fc-d2a92869-a028-40cf-a400-6ce6f7a5e92b/DepMap_CellLine_16_WGS_April2021/RP-1561/WGS/SM-KRSWC/v1/SM-KRSWC.bam', 'gs://fc-d2a92869-a028-40cf-a400-6ce6f7a5e92b/DepMap_CellLine_WGS_Aug2020/RP-1561/WGS/MM537/v1/MM537.bam', 'gs://fc-d2a92869-a028-40cf-a400-6ce6f7a5e92b/DepMap_CellLine_WGS_Aug2020/RP-1561/WGS/TN2/v1/TN2.bam', 'gs://fc-d2a92869-a028-40cf-a400-6ce6f7a5e92b/DepMap_CellLine_WGS_March2020/RP-1561/WGS/IMSM2/v1/IMSM2.bam', 'gs://fc-d2a92869-a028-40cf-a400-6ce6f7a5e92b/DepMap_CellLine_16_WGS_April2021/RP-1561/WGS/SM-KRSVI/v1/SM-KRSVI.bam', 'gs://fc-d2a92869-a028-40cf-a400-6ce6f7a5e92b/DepMap_CellLine_16_WGS_April2021/RP-1561/WGS/SM-KRSVO/v1/SM-KRSVO.bam', 'gs://fc-d2a92869-a028-40cf-a400-6ce6f7a5e92b/DepMap_CellLine_WGS_batch2_Jan2021/RP-1561/WGS/SM-KPQK6/v1/SM-KPQK6.bam', 'gs://fc-d2a92869-a028-40cf-a400-6ce6f7a5e92b/DepMap_CellLine_16_WGS_April2021/RP-1561/WGS/SM-KRSW8/v1/SM-KRSW8.bam', 'gs://fc-d2a92869-a028-40cf-a400-6ce6f7a5e92b/DepMap_CellLine_16_WGS_April2021/RP-1561/WGS/SM-KRSVF/v1/SM-KRSVF.bam', 'gs://fc-d2a92869-a028-40cf-a400-6ce6f7a5e92b/DepMap_CellLine_WGS_June2020/RP-1561/WGS/RAMOS/v2/RAMOS.bam', 'gs://fc-d2a92869-a028-40cf-a400-6ce6f7a5e92b/DepMap_CellLine_WGS_Aug2020/RP-1561/WGS/UPCISCC114/v1/UPCISCC114.bam', 'gs://fc-d2a92869-a028-40cf-a400-6ce6f7a5e92b/DepMap_CellLine_WGS_June2020/RP-1561/WGS/UPCISCC131/v1/UPCISCC131.bam', 'gs://fc-d2a92869-a028-40cf-a400-6ce6f7a5e92b/DepMap_CellLine_WGS_June2020/RP-1561/WGS/WAOSEL/v2/WAOSEL.bam', 'gs://fc-d2a92869-a028-40cf-a400-6ce6f7a5e92b/DepMap_CellLine_2_WGS_batch2_April2021/RP-1561/WGS/NZM6/v1/NZM6.bam', 'gs://fc-d2a92869-a028-40cf-a400-6ce6f7a5e92b/DepMap_CellLine_WGS_Oct2020/RP-1561/WGS/MSDASH1_1/v1/MSDASH1_1.bam', 'gs://fc-d2a92869-a028-40cf-a400-6ce6f7a5e92b/DepMap_CellLine_WGS_March2020/RP-1561/WGS/CCLFPEDS0009T/v4/CCLFPEDS0009T.bam', 'gs://fc-d2a92869-a028-40cf-a400-6ce6f7a5e92b/DepMap_CellLine_16_WGS_April2021/RP-1561/WGS/SM-KRSWD/v1/SM-KRSWD.bam', 'gs://fc-d2a92869-a028-40cf-a400-6ce6f7a5e92b/DepMap_CellLine_WGS_June2020/RP-1561/WGS/VP267/v2/VP267.bam', 'gs://fc-d2a92869-a028-40cf-a400-6ce6f7a5e92b/DepMap_CellLine_WGS_June2020/RP-1561/WGS/MEL270/v1/MEL270.bam', 'gs://fc-d2a92869-a028-40cf-a400-6ce6f7a5e92b/DepMap_CellLine_14_WGS_May2021/RP-1561/WGS/SM-KPQK9/v1/SM-KPQK9.bam', 'gs://fc-d2a92869-a028-40cf-a400-6ce6f7a5e92b/DepMap_CellLine_2_WGS_batch2_May2021/RP-1561/WGS/SM-L3DE9/v1/SM-L3DE9.bam', 'gs://fc-d2a92869-a028-40cf-a400-6ce6f7a5e92b/DepMap_CellLine_WGS_Aug2020/RP-1561/WGS/ONE58/v1/ONE58.bam', 'gs://fc-d2a92869-a028-40cf-a400-6ce6f7a5e92b/DepMap_CellLine_14_WGS_May2021/RP-1561/WGS/SM-L3DEH/v1/SM-L3DEH.bam', 'gs://fc-d2a92869-a028-40cf-a400-6ce6f7a5e92b/DepMap_CellLine_WGS_Aug2020/RP-1561/WGS/UACC3133/v1/UACC3133.bam', 'gs://fc-d2a92869-a028-40cf-a400-6ce6f7a5e92b/DepMap_CellLine_WGS_Nov2020/RP-1561/WGS/BICR3/v1/BICR3.bam', 'gs://fc-d2a92869-a028-40cf-a400-6ce6f7a5e92b/DepMap_CellLine_WGS_Oct2020/RP-1561/WGS/UPCISCC111/v1/UPCISCC111.bam', 'gs://fc-d2a92869-a028-40cf-a400-6ce6f7a5e92b/DepMap_CellLine_16_WGS_April2021/RP-1561/WGS/SM-KRSW7/v1/SM-KRSW7.bam', 'gs://fc-d2a92869-a028-40cf-a400-6ce6f7a5e92b/DepMap_CellLine_WGS_Aug2020/RP-1561/WGS/NO36/v1/NO36.bam', 'gs://fc-d2a92869-a028-40cf-a400-6ce6f7a5e92b/DepMap_CellLine_WGS_June2020/RP-1561/WGS/M1610113/v1/M1610113.bam', 'gs://fc-d2a92869-a028-40cf-a400-6ce6f7a5e92b/DepMap_CellLine_WGS_Oct2020/RP-1561/WGS/HSSCH2/v1/HSSCH2.bam', 'gs://fc-d2a92869-a028-40cf-a400-6ce6f7a5e92b/DepMap_CellLine_WGS_Oct2020/RP-1561/WGS/RMZ/v1/RMZ.bam', 'gs://fc-d2a92869-a028-40cf-a400-6ce6f7a5e92b/DepMap_CellLine_WGS_Aug2020/RP-1561/WGS/NZM4/v1/NZM4.bam', 'gs://fc-d2a92869-a028-40cf-a400-6ce6f7a5e92b/DepMap_CellLine_WGS_June2020/RP-1561/WGS/M140325/v2/M140325.bam', 'gs://fc-d2a92869-a028-40cf-a400-6ce6f7a5e92b/DepMap_CellLine_WGS_June2020/RP-1561/WGS/CHP134/v1/CHP134.bam', 'gs://fc-d2a92869-a028-40cf-a400-6ce6f7a5e92b/DepMap_CellLine_WGS_June2020/RP-1561/WGS/SAT/v1/SAT.bam', 'gs://fc-d2a92869-a028-40cf-a400-6ce6f7a5e92b/DepMap_CellLine_14_WGS_May2021/RP-1561/WGS/SM-L3DEB/v1/SM-L3DEB.bam', 'gs://fc-d2a92869-a028-40cf-a400-6ce6f7a5e92b/DepMap_CellLine_WGS_June2020/RP-1561/WGS/KARPAS1718/v2/KARPAS1718.bam', 'gs://fc-d2a92869-a028-40cf-a400-6ce6f7a5e92b/DepMap_CellLine_WGS_Aug2020/RP-1561/WGS/NZM30/v1/NZM30.bam', 'gs://fc-d2a92869-a028-40cf-a400-6ce6f7a5e92b/DepMap_CellLine_WGS_June2020/RP-1561/WGS/SNU2372_1/v1/SNU2372_1.bam', 'gs://fc-d2a92869-a028-40cf-a400-6ce6f7a5e92b/DepMap_CellLine_14_WGS_May2021/RP-1561/WGS/SM-KPQKF/v1/SM-KPQKF.bam', 'gs://fc-d2a92869-a028-40cf-a400-6ce6f7a5e92b/DepMap_CellLine_WGS_batch2_Jan2021/RP-1561/WGS/SM-KPQJV/v1/SM-KPQJV.bam', 'gs://fc-d2a92869-a028-40cf-a400-6ce6f7a5e92b/DepMap_CellLine_WGS_Aug2020/RP-1561/WGS/DOGKIT/v1/DOGKIT.bam', 'gs://fc-d2a92869-a028-40cf-a400-6ce6f7a5e92b/DepMap_CellLine_14_WGS_May2021/RP-1561/WGS/SM-KPQKN/v1/SM-KPQKN.bam', 'gs://fc-d2a92869-a028-40cf-a400-6ce6f7a5e92b/DepMap_CellLine_WGS_Aug2020/RP-1561/WGS/C393/v1/C393.bam', 'gs://fc-d2a92869-a028-40cf-a400-6ce6f7a5e92b/DepMap_CellLine_WGS_batch2_Jan2021/RP-1561/WGS/SM-KPQJZ/v1/SM-KPQJZ.bam', 'gs://fc-d2a92869-a028-40cf-a400-6ce6f7a5e92b/DepMap_CellLine_WGS_Aug2020/RP-1561/WGS/P2URK562_1/v1/P2URK562_1.bam', 'gs://fc-d2a92869-a028-40cf-a400-6ce6f7a5e92b/DepMap_CellLine_WGS_June2020/RP-1561/WGS/VAL/v1/VAL.bam', 'gs://fc-d2a92869-a028-40cf-a400-6ce6f7a5e92b/Stegamaier_Osteo_WGS_082020/RP-1561/WGS/OS252_1/v1/OS252_1.bam', 'gs://fc-d2a92869-a028-40cf-a400-6ce6f7a5e92b/DepMap_CellLine_WGS_Aug2020/RP-1561/WGS/ICC16/v1/ICC16.bam', 'gs://fc-d2a92869-a028-40cf-a400-6ce6f7a5e92b/DepMap_CellLine_WGS_Aug2020/RP-1561/WGS/UPCISCC029A/v1/UPCISCC029A.bam', 'gs://fc-d2a92869-a028-40cf-a400-6ce6f7a5e92b/DepMap_CellLine_WGS_Aug2020/RP-1561/WGS/NZM1/v1/NZM1.bam', 'gs://fc-d2a92869-a028-40cf-a400-6ce6f7a5e92b/DepMap_CellLine_WGS_Aug2020/RP-1561/WGS/UPCISCC200/v1/UPCISCC200.bam', 'gs://fc-d2a92869-a028-40cf-a400-6ce6f7a5e92b/DepMap_CellLine_16_WGS_April2021/RP-1561/WGS/SM-KRSVK/v1/SM-KRSVK.bam', 'gs://fc-d2a92869-a028-40cf-a400-6ce6f7a5e92b/DepMap_CellLine_WGS_Aug2020/RP-1561/WGS/MAMEL46/v1/MAMEL46.bam', 'gs://fc-d2a92869-a028-40cf-a400-6ce6f7a5e92b/DepMap_CellLine_14_WGS_May2021/RP-1561/WGS/SM-L3DE8/v1/SM-L3DE8.bam', 'gs://fc-d2a92869-a028-40cf-a400-6ce6f7a5e92b/DepMap_CellLine_14_WGS_May2021/RP-1561/WGS/SM-L3DEN/v1/SM-L3DEN.bam', 'gs://fc-d2a92869-a028-40cf-a400-6ce6f7a5e92b/DepMap_CellLine_WGS_batch2_Jan2021/RP-1561/WGS/SM-KPQJX/v1/SM-KPQJX.bam', 'gs://fc-d2a92869-a028-40cf-a400-6ce6f7a5e92b/DepMap_CellLine_14_WGS_May2021/RP-1561/WGS/SM-L3DEJ/v1/SM-L3DEJ.bam', 'gs://fc-d2a92869-a028-40cf-a400-6ce6f7a5e92b/DepMap_WGS/RP-1561/WGS/ACH-002828_LL/v1/ACH-002828_LL.bam', 'gs://fc-d2a92869-a028-40cf-a400-6ce6f7a5e92b/Stegamaier_Osteo_WGS_082020/RP-1561/WGS/G292CLONEA141B1/v1/G292CLONEA141B1.bam', 'gs://fc-d2a92869-a028-40cf-a400-6ce6f7a5e92b/DepMap_CellLine_WGS_batch2_Jan2021/RP-1561/WGS/SM-KPQJS/v1/SM-KPQJS.bam', 'gs://fc-d2a92869-a028-40cf-a400-6ce6f7a5e92b/DepMap_CellLine_16_WGS_April2021/RP-1561/WGS/SM-KRSWG/v1/SM-KRSWG.bam', 'gs://fc-d2a92869-a028-40cf-a400-6ce6f7a5e92b/DepMap_CellLine_16_WGS_April2021/RP-1561/WGS/SM-KRSWF/v2/SM-KRSWF.bam', 'gs://fc-d2a92869-a028-40cf-a400-6ce6f7a5e92b/DepMap_CellLine_14_WGS_May2021/RP-1561/WGS/SM-L3DEL/v1/SM-L3DEL.bam', 'gs://fc-d2a92869-a028-40cf-a400-6ce6f7a5e92b/DepMap_CellLine_WGS_June2020/RP-1561/WGS/RPMI2650/v1/RPMI2650.bam', 'gs://fc-d2a92869-a028-40cf-a400-6ce6f7a5e92b/DepMap_CellLine_16_WGS_April2021/RP-1561/WGS/SM-KRSWH/v1/SM-KRSWH.bam', 'gs://fc-d2a92869-a028-40cf-a400-6ce6f7a5e92b/Stegamaier_Osteo_WGS_082020/RP-1561/WGS/MG63/v1/MG63.bam', 'gs://fc-d2a92869-a028-40cf-a400-6ce6f7a5e92b/DepMap_CellLine_WGS_Aug2020/RP-1561/WGS/MO__/v1/MO__.bam', 'gs://fc-d2a92869-a028-40cf-a400-6ce6f7a5e92b/DepMap_CellLine_WGS_batch2_Jan2021/RP-1561/WGS/SM-KPQKE/v1/SM-KPQKE.bam', 'gs://fc-d2a92869-a028-40cf-a400-6ce6f7a5e92b/DepMap_CellLine_14_WGS_May2021/RP-1561/WGS/SM-L3DEF/v1/SM-L3DEF.bam', 'gs://fc-d2a92869-a028-40cf-a400-6ce6f7a5e92b/DepMap_CellLine_WGS_Jan2021/RP-1561/WGS/MM473/v1/MM473.bam', 'gs://fc-d2a92869-a028-40cf-a400-6ce6f7a5e92b/DepMap_WGS/RP-1561/WGS/ACH-002825_LL/v1/ACH-002825_LL.bam', 'gs://fc-d2a92869-a028-40cf-a400-6ce6f7a5e92b/DepMap_CellLine_2_WGS_batch2_May2021/RP-1561/WGS/SM-KPQKM/v1/SM-KPQKM.bam', 'gs://fc-d2a92869-a028-40cf-a400-6ce6f7a5e92b/DepMap_CellLine_14_WGS_May2021/RP-1561/WGS/SM-L3DEO/v1/SM-L3DEO.bam', 'gs://fc-d2a92869-a028-40cf-a400-6ce6f7a5e92b/DepMap_CellLine_16_WGS_April2021/RP-1561/WGS/SM-KRSVR/v1/SM-KRSVR.bam', 'gs://fc-d2a92869-a028-40cf-a400-6ce6f7a5e92b/DepMap_CellLine_WGS_Aug2020/RP-1561/WGS/UCH17S/v1/UCH17S.bam', 'gs://fc-d2a92869-a028-40cf-a400-6ce6f7a5e92b/DepMap_CellLine_WGS_Aug2020/RP-1561/WGS/UPCISCC172/v1/UPCISCC172.bam', 'gs://fc-d2a92869-a028-40cf-a400-6ce6f7a5e92b/DepMap_WGS/RP-1561/WGS/ACH-002851_LL/v1/ACH-002851_LL.bam', 'gs://fc-d2a92869-a028-40cf-a400-6ce6f7a5e92b/DepMap_CellLine_WGS_Oct2020/RP-1561/WGS/921/v1/921.bam', 'gs://fc-d2a92869-a028-40cf-a400-6ce6f7a5e92b/DepMap_CellLine_2_WGS_batch2_April2021/RP-1561/WGS/NZM7/v1/NZM7.bam', 'gs://fc-d2a92869-a028-40cf-a400-6ce6f7a5e92b/DepMap_WGS/RP-1561/WGS/ACH-002822_LL/v1/ACH-002822_LL.bam', 'gs://fc-d2a92869-a028-40cf-a400-6ce6f7a5e92b/Stegamaier_Osteo_WGS_082020/RP-1561/WGS/CAL72/v1/CAL72.bam', 'gs://fc-d2a92869-a028-40cf-a400-6ce6f7a5e92b/DepMap_CellLine_WGS_Oct2020/RP-1561/WGS/LU138/v1/LU138.bam', 'gs://fc-d2a92869-a028-40cf-a400-6ce6f7a5e92b/DepMap_CellLine_WGS_Aug2020/RP-1561/WGS/NZM40/v1/NZM40.bam', 'gs://fc-d2a92869-a028-40cf-a400-6ce6f7a5e92b/DepMap_CellLine_WGS_June2020/RP-1561/WGS/C396/v1/C396.bam', 'gs://fc-d2a92869-a028-40cf-a400-6ce6f7a5e92b/DepMap_CellLine_WGS_Oct2020/RP-1561/WGS/CMS/v1/CMS.bam', 'gs://fc-d2a92869-a028-40cf-a400-6ce6f7a5e92b/DepMap_CellLine_WGS_June2020/RP-1561/WGS/HCC1739BL/v2/HCC1739BL.bam', 'gs://fc-d2a92869-a028-40cf-a400-6ce6f7a5e92b/DepMap_WGS/RP-1561/WGS/ACH-002810_LL/v1/ACH-002810_LL.bam', 'gs://fc-d2a92869-a028-40cf-a400-6ce6f7a5e92b/DepMap_CellLine_WGS_batch2_Jan2021/RP-1561/WGS/SM-KPQK2/v1/SM-KPQK2.bam', 'gs://fc-d2a92869-a028-40cf-a400-6ce6f7a5e92b/DepMap_CellLine_WGS_Jan2021/RP-1561/WGS/JVE127_1/v1/JVE127_1.bam', 'gs://fc-d2a92869-a028-40cf-a400-6ce6f7a5e92b/Stegamaier_Osteo_WGS_082020/RP-1561/WGS/HUO9/v1/HUO9.bam', 'gs://fc-d2a92869-a028-40cf-a400-6ce6f7a5e92b/Stegamaier_Osteo_WGS_082020/RP-1561/WGS/HSOS1/v1/HSOS1.bam', 'gs://fc-d2a92869-a028-40cf-a400-6ce6f7a5e92b/DepMap_CellLine_WGS_Aug2020/RP-1561/WGS/GUMBUS_1/v1/GUMBUS_1.bam', 'gs://fc-d2a92869-a028-40cf-a400-6ce6f7a5e92b/DepMap_CellLine_WGS_Aug2020/RP-1561/WGS/NZM12/v1/NZM12.bam', 'gs://fc-d2a92869-a028-40cf-a400-6ce6f7a5e92b/DepMap_CellLine_WGS_Aug2020/RP-1561/WGS/SHSY5Y/v1/SHSY5Y.bam', 'gs://fc-d2a92869-a028-40cf-a400-6ce6f7a5e92b/DepMap_CellLine_14_WGS_May2021/RP-1561/WGS/SM-L3DEA/v1/SM-L3DEA.bam', 'gs://fc-d2a92869-a028-40cf-a400-6ce6f7a5e92b/DepMap_CellLine_WGS_Aug2020/RP-1561/WGS/BJAB/v1/BJAB.bam', 'gs://fc-d2a92869-a028-40cf-a400-6ce6f7a5e92b/DepMap_CellLine_WGS_June2020/RP-1561/WGS/SW954/v1/SW954.bam', 'gs://fc-d2a92869-a028-40cf-a400-6ce6f7a5e92b/DepMap_CellLine_WGS_Aug2020/RP-1561/WGS/MMAC/v1/MMAC.bam', 'gs://fc-d2a92869-a028-40cf-a400-6ce6f7a5e92b/DepMap_CellLine_WGS_Jan2021/RP-1561/WGS/NZM5/v1/NZM5.bam', 'gs://fc-d2a92869-a028-40cf-a400-6ce6f7a5e92b/DepMap_CellLine_14_WGS_May2021/RP-1561/WGS/SM-L3DEK/v1/SM-L3DEK.bam', 'gs://fc-d2a92869-a028-40cf-a400-6ce6f7a5e92b/DepMap_CellLine_WGS_batch2_Jan2021/RP-1561/WGS/SM-KPQKB/v1/SM-KPQKB.bam', 'gs://fc-d2a92869-a028-40cf-a400-6ce6f7a5e92b/DepMap_CellLine_WGS_Aug2020/RP-1561/WGS/MM603/v1/MM603.bam', 'gs://fc-d2a92869-a028-40cf-a400-6ce6f7a5e92b/DepMap_CellLine_WGS_Oct2020/RP-1561/WGS/PSS008/v1/PSS008.bam', 'gs://fc-d2a92869-a028-40cf-a400-6ce6f7a5e92b/DepMap_CellLine_WGS_Aug2020/RP-1561/WGS/TR146/v1/TR146.bam', 'gs://fc-d2a92869-a028-40cf-a400-6ce6f7a5e92b/DepMap_CellLine_WGS_Aug2020/RP-1561/WGS/LU143/v1/LU143.bam', 'gs://fc-d2a92869-a028-40cf-a400-6ce6f7a5e92b/DepMap_CellLine_16_WGS_April2021/RP-1561/WGS/SM-KRSWA/v2/SM-KRSWA.bam', 'gs://fc-d2a92869-a028-40cf-a400-6ce6f7a5e92b/DepMap_CellLine_WGS_Aug2020/RP-1561/WGS/MAMEL27/v1/MAMEL27.bam', 'gs://fc-d2a92869-a028-40cf-a400-6ce6f7a5e92b/DepMap_CellLine_WGS_March2020/RP-1561/WGS/WM3772F/v1/WM3772F.bam', 'gs://fc-d2a92869-a028-40cf-a400-6ce6f7a5e92b/DepMap_CellLine_WGS_Aug2020/RP-1561/WGS/C242_1/v1/C242_1.bam', 'gs://fc-d2a92869-a028-40cf-a400-6ce6f7a5e92b/DepMap_CellLine_WGS_March2020/RP-1561/WGS/CCLFPEDS0010T/v3/CCLFPEDS0010T.bam', 'gs://fc-d2a92869-a028-40cf-a400-6ce6f7a5e92b/DepMap_CellLine_16_WGS_April2021/RP-1561/WGS/SM-KRSVL/v1/SM-KRSVL.bam', 'gs://fc-d2a92869-a028-40cf-a400-6ce6f7a5e92b/DepMap_CellLine_16_WGS_April2021/RP-1561/WGS/SM-KRSVE/v1/SM-KRSVE.bam', 'gs://fc-d2a92869-a028-40cf-a400-6ce6f7a5e92b/DepMap_CellLine_WGS_Oct2020/RP-1561/WGS/RPE1SS119/v1/RPE1SS119.bam', 'gs://fc-d2a92869-a028-40cf-a400-6ce6f7a5e92b/DepMap_CellLine_WGS_Aug2020/RP-1561/WGS/NZM42/v1/NZM42.bam', 'gs://fc-d2a92869-a028-40cf-a400-6ce6f7a5e92b/DepMap_CellLine_WGS_Aug2020/RP-1561/WGS/NZM2/v1/NZM2.bam', 'gs://fc-d2a92869-a028-40cf-a400-6ce6f7a5e92b/DepMap_CellLine_WGS_Aug2020/RP-1561/WGS/T3M11/v1/T3M11.bam', 'gs://fc-d2a92869-a028-40cf-a400-6ce6f7a5e92b/DepMap_CellLine_WGS_June2020/RP-1561/WGS/KOSC2CL343/v1/KOSC2CL343.bam', 'gs://fc-d2a92869-a028-40cf-a400-6ce6f7a5e92b/DepMap_CellLine_WGS_June2020/RP-1561/WGS/MM28__/v1/MM28__.bam', 'gs://fc-d2a92869-a028-40cf-a400-6ce6f7a5e92b/DepMap_CellLine_14_WGS_May2021/RP-1561/WGS/SM-L3DEC/v1/SM-L3DEC.bam', 'gs://fc-d2a92869-a028-40cf-a400-6ce6f7a5e92b/DepMap_CellLine_WGS_June2020/RP-1561/WGS/SCC3/v1/SCC3.bam', 'gs://fc-d2a92869-a028-40cf-a400-6ce6f7a5e92b/DepMap_WGS/RP-1561/WGS/ACH-002818_LL/v1/ACH-002818_LL.bam', 'gs://fc-d2a92869-a028-40cf-a400-6ce6f7a5e92b/DepMap_CellLine_WGS_Oct2020/RP-1561/WGS/NCCMPNST2C1_1/v1/NCCMPNST2C1_1.bam', 'gs://fc-d2a92869-a028-40cf-a400-6ce6f7a5e92b/DepMap_CellLine_WGS_Batch2_June2020/RP-1561/WGS/MEGA2/v2/MEGA2.bam', 'gs://fc-d2a92869-a028-40cf-a400-6ce6f7a5e92b/DepMap_CellLine_16_WGS_April2021/RP-1561/WGS/SM-KRSVJ/v1/SM-KRSVJ.bam', 'gs://fc-d2a92869-a028-40cf-a400-6ce6f7a5e92b/DepMap_CellLine_WGS_Aug2020/RP-1561/WGS/MY/v1/MY.bam', 'gs://fc-d2a92869-a028-40cf-a400-6ce6f7a5e92b/DepMap_CellLine_WGS_Aug2020/RP-1561/WGS/MM576_1/v1/MM576_1.bam', 'gs://fc-d2a92869-a028-40cf-a400-6ce6f7a5e92b/DepMap_CellLine_WGS_Oct2020/RP-1561/WGS/LO68/v1/LO68.bam', 'gs://fc-d2a92869-a028-40cf-a400-6ce6f7a5e92b/DepMap_CellLine_WGS_Aug2020/RP-1561/WGS/NZM3/v1/NZM3.bam', 'gs://fc-d2a92869-a028-40cf-a400-6ce6f7a5e92b/DepMap_CellLine_WGS_June2020/RP-1561/WGS/TKKK/v1/TKKK.bam', 'gs://fc-d2a92869-a028-40cf-a400-6ce6f7a5e92b/DepMap_CellLine_WGS_Oct2020/RP-1561/WGS/CMK115/v1/CMK115.bam', 'gs://fc-d2a92869-a028-40cf-a400-6ce6f7a5e92b/DepMap_CellLine_16_WGS_April2021/RP-1561/WGS/SM-KRSWC/v1/SM-KRSWC.bam', 'gs://fc-d2a92869-a028-40cf-a400-6ce6f7a5e92b/DepMap_CellLine_WGS_Aug2020/RP-1561/WGS/MM537/v1/MM537.bam', 'gs://fc-d2a92869-a028-40cf-a400-6ce6f7a5e92b/DepMap_CellLine_WGS_Aug2020/RP-1561/WGS/TN2/v1/TN2.bam', 'gs://fc-d2a92869-a028-40cf-a400-6ce6f7a5e92b/DepMap_CellLine_WGS_March2020/RP-1561/WGS/IMSM2/v1/IMSM2.bam', 'gs://fc-d2a92869-a028-40cf-a400-6ce6f7a5e92b/DepMap_CellLine_16_WGS_April2021/RP-1561/WGS/SM-KRSVI/v1/SM-KRSVI.bam', 'gs://fc-d2a92869-a028-40cf-a400-6ce6f7a5e92b/DepMap_CellLine_16_WGS_April2021/RP-1561/WGS/SM-KRSVO/v1/SM-KRSVO.bam', 'gs://fc-d2a92869-a028-40cf-a400-6ce6f7a5e92b/DepMap_CellLine_WGS_batch2_Jan2021/RP-1561/WGS/SM-KPQK6/v1/SM-KPQK6.bam', 'gs://fc-d2a92869-a028-40cf-a400-6ce6f7a5e92b/DepMap_CellLine_16_WGS_April2021/RP-1561/WGS/SM-KRSW8/v1/SM-KRSW8.bam', 'gs://fc-d2a92869-a028-40cf-a400-6ce6f7a5e92b/DepMap_CellLine_16_WGS_April2021/RP-1561/WGS/SM-KRSVF/v1/SM-KRSVF.bam', 'gs://fc-d2a92869-a028-40cf-a400-6ce6f7a5e92b/DepMap_CellLine_WGS_June2020/RP-1561/WGS/RAMOS/v2/RAMOS.bam', 'gs://fc-d2a92869-a028-40cf-a400-6ce6f7a5e92b/DepMap_CellLine_WGS_Aug2020/RP-1561/WGS/UPCISCC114/v1/UPCISCC114.bam', 'gs://fc-d2a92869-a028-40cf-a400-6ce6f7a5e92b/DepMap_CellLine_WGS_June2020/RP-1561/WGS/UPCISCC131/v1/UPCISCC131.bam', 'gs://fc-d2a92869-a028-40cf-a400-6ce6f7a5e92b/DepMap_CellLine_WGS_June2020/RP-1561/WGS/WAOSEL/v2/WAOSEL.bam', 'gs://fc-d2a92869-a028-40cf-a400-6ce6f7a5e92b/DepMap_CellLine_2_WGS_batch2_April2021/RP-1561/WGS/NZM6/v1/NZM6.bam', 'gs://fc-d2a92869-a028-40cf-a400-6ce6f7a5e92b/DepMap_CellLine_WGS_Oct2020/RP-1561/WGS/MSDASH1_1/v1/MSDASH1_1.bam', 'gs://fc-d2a92869-a028-40cf-a400-6ce6f7a5e92b/DepMap_CellLine_WGS_March2020/RP-1561/WGS/CCLFPEDS0009T/v4/CCLFPEDS0009T.bam', 'gs://fc-d2a92869-a028-40cf-a400-6ce6f7a5e92b/DepMap_CellLine_16_WGS_April2021/RP-1561/WGS/SM-KRSWD/v1/SM-KRSWD.bam', 'gs://fc-d2a92869-a028-40cf-a400-6ce6f7a5e92b/DepMap_CellLine_WGS_June2020/RP-1561/WGS/VP267/v2/VP267.bam', 'gs://fc-d2a92869-a028-40cf-a400-6ce6f7a5e92b/DepMap_CellLine_WGS_June2020/RP-1561/WGS/MEL270/v1/MEL270.bam', 'gs://fc-d2a92869-a028-40cf-a400-6ce6f7a5e92b/DepMap_CellLine_14_WGS_May2021/RP-1561/WGS/SM-KPQK9/v1/SM-KPQK9.bam', 'gs://fc-d2a92869-a028-40cf-a400-6ce6f7a5e92b/DepMap_CellLine_2_WGS_batch2_May2021/RP-1561/WGS/SM-L3DE9/v1/SM-L3DE9.bam', 'gs://fc-d2a92869-a028-40cf-a400-6ce6f7a5e92b/DepMap_CellLine_WGS_Aug2020/RP-1561/WGS/ONE58/v1/ONE58.bam', 'gs://fc-d2a92869-a028-40cf-a400-6ce6f7a5e92b/DepMap_CellLine_14_WGS_May2021/RP-1561/WGS/SM-L3DEH/v1/SM-L3DEH.bam', 'gs://fc-d2a92869-a028-40cf-a400-6ce6f7a5e92b/DepMap_CellLine_WGS_Aug2020/RP-1561/WGS/UACC3133/v1/UACC3133.bam', 'gs://fc-d2a92869-a028-40cf-a400-6ce6f7a5e92b/DepMap_CellLine_WGS_Nov2020/RP-1561/WGS/BICR3/v1/BICR3.bam', 'gs://fc-d2a92869-a028-40cf-a400-6ce6f7a5e92b/DepMap_CellLine_WGS_Oct2020/RP-1561/WGS/UPCISCC111/v1/UPCISCC111.bam', 'gs://fc-d2a92869-a028-40cf-a400-6ce6f7a5e92b/DepMap_CellLine_16_WGS_April2021/RP-1561/WGS/SM-KRSW7/v1/SM-KRSW7.bam', 'gs://fc-d2a92869-a028-40cf-a400-6ce6f7a5e92b/DepMap_CellLine_WGS_Aug2020/RP-1561/WGS/NO36/v1/NO36.bam', 'gs://fc-d2a92869-a028-40cf-a400-6ce6f7a5e92b/DepMap_CellLine_WGS_June2020/RP-1561/WGS/M1610113/v1/M1610113.bam', 'gs://fc-d2a92869-a028-40cf-a400-6ce6f7a5e92b/DepMap_CellLine_WGS_Oct2020/RP-1561/WGS/HSSCH2/v1/HSSCH2.bam', 'gs://fc-d2a92869-a028-40cf-a400-6ce6f7a5e92b/DepMap_CellLine_WGS_Oct2020/RP-1561/WGS/RMZ/v1/RMZ.bam', 'gs://fc-d2a92869-a028-40cf-a400-6ce6f7a5e92b/DepMap_CellLine_WGS_Aug2020/RP-1561/WGS/NZM4/v1/NZM4.bam', 'gs://fc-d2a92869-a028-40cf-a400-6ce6f7a5e92b/DepMap_CellLine_WGS_June2020/RP-1561/WGS/M140325/v2/M140325.bam', 'gs://fc-d2a92869-a028-40cf-a400-6ce6f7a5e92b/DepMap_CellLine_WGS_June2020/RP-1561/WGS/CHP134/v1/CHP134.bam', 'gs://fc-d2a92869-a028-40cf-a400-6ce6f7a5e92b/DepMap_CellLine_WGS_June2020/RP-1561/WGS/SAT/v1/SAT.bam', 'gs://fc-d2a92869-a028-40cf-a400-6ce6f7a5e92b/DepMap_CellLine_14_WGS_May2021/RP-1561/WGS/SM-L3DEB/v1/SM-L3DEB.bam', 'gs://fc-d2a92869-a028-40cf-a400-6ce6f7a5e92b/DepMap_CellLine_WGS_June2020/RP-1561/WGS/KARPAS1718/v2/KARPAS1718.bam', 'gs://fc-d2a92869-a028-40cf-a400-6ce6f7a5e92b/DepMap_CellLine_WGS_Aug2020/RP-1561/WGS/NZM30/v1/NZM30.bam', 'gs://fc-d2a92869-a028-40cf-a400-6ce6f7a5e92b/DepMap_CellLine_WGS_June2020/RP-1561/WGS/SNU2372_1/v1/SNU2372_1.bam', 'gs://fc-d2a92869-a028-40cf-a400-6ce6f7a5e92b/DepMap_CellLine_14_WGS_May2021/RP-1561/WGS/SM-KPQKF/v1/SM-KPQKF.bam', 'gs://fc-d2a92869-a028-40cf-a400-6ce6f7a5e92b/DepMap_CellLine_WGS_batch2_Jan2021/RP-1561/WGS/SM-KPQJV/v1/SM-KPQJV.bam', 'gs://fc-d2a92869-a028-40cf-a400-6ce6f7a5e92b/DepMap_CellLine_WGS_Aug2020/RP-1561/WGS/DOGKIT/v1/DOGKIT.bam', 'gs://fc-d2a92869-a028-40cf-a400-6ce6f7a5e92b/DepMap_CellLine_14_WGS_May2021/RP-1561/WGS/SM-KPQKN/v1/SM-KPQKN.bam', 'gs://fc-d2a92869-a028-40cf-a400-6ce6f7a5e92b/DepMap_CellLine_WGS_Aug2020/RP-1561/WGS/C393/v1/C393.bam', 'gs://fc-d2a92869-a028-40cf-a400-6ce6f7a5e92b/DepMap_CellLine_WGS_batch2_Jan2021/RP-1561/WGS/SM-KPQJZ/v1/SM-KPQJZ.bam', 'gs://fc-d2a92869-a028-40cf-a400-6ce6f7a5e92b/DepMap_CellLine_WGS_Aug2020/RP-1561/WGS/P2URK562_1/v1/P2URK562_1.bam', 'gs://fc-d2a92869-a028-40cf-a400-6ce6f7a5e92b/DepMap_CellLine_WGS_June2020/RP-1561/WGS/VAL/v1/VAL.bam', 'gs://fc-d2a92869-a028-40cf-a400-6ce6f7a5e92b/Stegamaier_Osteo_WGS_082020/RP-1561/WGS/OS252_1/v1/OS252_1.bam', 'gs://fc-d2a92869-a028-40cf-a400-6ce6f7a5e92b/DepMap_CellLine_WGS_Aug2020/RP-1561/WGS/ICC16/v1/ICC16.bam', 'gs://fc-d2a92869-a028-40cf-a400-6ce6f7a5e92b/DepMap_CellLine_WGS_Aug2020/RP-1561/WGS/UPCISCC029A/v1/UPCISCC029A.bam', 'gs://fc-d2a92869-a028-40cf-a400-6ce6f7a5e92b/DepMap_CellLine_WGS_Aug2020/RP-1561/WGS/NZM1/v1/NZM1.bam', 'gs://fc-d2a92869-a028-40cf-a400-6ce6f7a5e92b/DepMap_CellLine_WGS_Aug2020/RP-1561/WGS/UPCISCC200/v1/UPCISCC200.bam', 'gs://fc-d2a92869-a028-40cf-a400-6ce6f7a5e92b/DepMap_CellLine_16_WGS_April2021/RP-1561/WGS/SM-KRSVK/v1/SM-KRSVK.bam', 'gs://fc-d2a92869-a028-40cf-a400-6ce6f7a5e92b/DepMap_CellLine_WGS_Aug2020/RP-1561/WGS/MAMEL46/v1/MAMEL46.bam', 'gs://fc-d2a92869-a028-40cf-a400-6ce6f7a5e92b/DepMap_CellLine_14_WGS_May2021/RP-1561/WGS/SM-L3DE8/v1/SM-L3DE8.bam', 'gs://fc-d2a92869-a028-40cf-a400-6ce6f7a5e92b/DepMap_CellLine_14_WGS_May2021/RP-1561/WGS/SM-L3DEN/v1/SM-L3DEN.bam', 'gs://fc-d2a92869-a028-40cf-a400-6ce6f7a5e92b/DepMap_CellLine_WGS_batch2_Jan2021/RP-1561/WGS/SM-KPQJX/v1/SM-KPQJX.bam', 'gs://fc-d2a92869-a028-40cf-a400-6ce6f7a5e92b/DepMap_CellLine_14_WGS_May2021/RP-1561/WGS/SM-L3DEJ/v1/SM-L3DEJ.bam', 'gs://fc-d2a92869-a028-40cf-a400-6ce6f7a5e92b/DepMap_WGS/RP-1561/WGS/ACH-002828_LL/v1/ACH-002828_LL.bam', 'gs://fc-d2a92869-a028-40cf-a400-6ce6f7a5e92b/Stegamaier_Osteo_WGS_082020/RP-1561/WGS/G292CLONEA141B1/v1/G292CLONEA141B1.bam', 'gs://fc-d2a92869-a028-40cf-a400-6ce6f7a5e92b/DepMap_CellLine_WGS_batch2_Jan2021/RP-1561/WGS/SM-KPQJS/v1/SM-KPQJS.bam', 'gs://fc-d2a92869-a028-40cf-a400-6ce6f7a5e92b/DepMap_CellLine_16_WGS_April2021/RP-1561/WGS/SM-KRSWG/v1/SM-KRSWG.bam', 'gs://fc-d2a92869-a028-40cf-a400-6ce6f7a5e92b/DepMap_CellLine_16_WGS_April2021/RP-1561/WGS/SM-KRSWF/v2/SM-KRSWF.bam', 'gs://fc-d2a92869-a028-40cf-a400-6ce6f7a5e92b/DepMap_CellLine_14_WGS_May2021/RP-1561/WGS/SM-L3DEL/v1/SM-L3DEL.bam', 'gs://fc-d2a92869-a028-40cf-a400-6ce6f7a5e92b/DepMap_CellLine_WGS_June2020/RP-1561/WGS/RPMI2650/v1/RPMI2650.bam', 'gs://fc-d2a92869-a028-40cf-a400-6ce6f7a5e92b/DepMap_CellLine_16_WGS_April2021/RP-1561/WGS/SM-KRSWH/v1/SM-KRSWH.bam', 'gs://fc-d2a92869-a028-40cf-a400-6ce6f7a5e92b/Stegamaier_Osteo_WGS_082020/RP-1561/WGS/MG63/v1/MG63.bam', 'gs://fc-d2a92869-a028-40cf-a400-6ce6f7a5e92b/DepMap_CellLine_WGS_Aug2020/RP-1561/WGS/MO__/v1/MO__.bam', 'gs://fc-d2a92869-a028-40cf-a400-6ce6f7a5e92b/DepMap_CellLine_WGS_batch2_Jan2021/RP-1561/WGS/SM-KPQKE/v1/SM-KPQKE.bam', 'gs://fc-d2a92869-a028-40cf-a400-6ce6f7a5e92b/DepMap_CellLine_14_WGS_May2021/RP-1561/WGS/SM-L3DEF/v1/SM-L3DEF.bam', 'gs://fc-d2a92869-a028-40cf-a400-6ce6f7a5e92b/DepMap_CellLine_WGS_Jan2021/RP-1561/WGS/MM473/v1/MM473.bam', 'gs://fc-d2a92869-a028-40cf-a400-6ce6f7a5e92b/DepMap_WGS/RP-1561/WGS/ACH-002825_LL/v1/ACH-002825_LL.bam', 'gs://fc-d2a92869-a028-40cf-a400-6ce6f7a5e92b/DepMap_CellLine_2_WGS_batch2_May2021/RP-1561/WGS/SM-KPQKM/v1/SM-KPQKM.bam', 'gs://fc-d2a92869-a028-40cf-a400-6ce6f7a5e92b/DepMap_CellLine_14_WGS_May2021/RP-1561/WGS/SM-L3DEO/v1/SM-L3DEO.bam', 'gs://fc-d2a92869-a028-40cf-a400-6ce6f7a5e92b/DepMap_CellLine_16_WGS_April2021/RP-1561/WGS/SM-KRSVR/v1/SM-KRSVR.bam', 'gs://fc-d2a92869-a028-40cf-a400-6ce6f7a5e92b/DepMap_CellLine_WGS_Aug2020/RP-1561/WGS/UCH17S/v1/UCH17S.bam', 'gs://fc-d2a92869-a028-40cf-a400-6ce6f7a5e92b/DepMap_CellLine_WGS_Aug2020/RP-1561/WGS/UPCISCC172/v1/UPCISCC172.bam', 'gs://fc-d2a92869-a028-40cf-a400-6ce6f7a5e92b/DepMap_WGS/RP-1561/WGS/ACH-002851_LL/v1/ACH-002851_LL.bam', 'gs://fc-d2a92869-a028-40cf-a400-6ce6f7a5e92b/DepMap_CellLine_WGS_Oct2020/RP-1561/WGS/921/v1/921.bam', 'gs://fc-d2a92869-a028-40cf-a400-6ce6f7a5e92b/DepMap_CellLine_2_WGS_batch2_April2021/RP-1561/WGS/NZM7/v1/NZM7.bam', 'gs://fc-d2a92869-a028-40cf-a400-6ce6f7a5e92b/DepMap_WGS/RP-1561/WGS/ACH-002822_LL/v1/ACH-002822_LL.bam', 'gs://fc-d2a92869-a028-40cf-a400-6ce6f7a5e92b/Stegamaier_Osteo_WGS_082020/RP-1561/WGS/CAL72/v1/CAL72.bam', 'gs://fc-d2a92869-a028-40cf-a400-6ce6f7a5e92b/DepMap_CellLine_WGS_Oct2020/RP-1561/WGS/LU138/v1/LU138.bam', 'gs://fc-d2a92869-a028-40cf-a400-6ce6f7a5e92b/DepMap_CellLine_WGS_Aug2020/RP-1561/WGS/NZM40/v1/NZM40.bam', 'gs://fc-d2a92869-a028-40cf-a400-6ce6f7a5e92b/DepMap_CellLine_WGS_June2020/RP-1561/WGS/C396/v1/C396.bam', 'gs://fc-d2a92869-a028-40cf-a400-6ce6f7a5e92b/DepMap_CellLine_WGS_Oct2020/RP-1561/WGS/CMS/v1/CMS.bam', 'gs://fc-d2a92869-a028-40cf-a400-6ce6f7a5e92b/DepMap_CellLine_WGS_June2020/RP-1561/WGS/HCC1739BL/v2/HCC1739BL.bam', 'gs://fc-d2a92869-a028-40cf-a400-6ce6f7a5e92b/DepMap_WGS/RP-1561/WGS/ACH-002810_LL/v1/ACH-002810_LL.bam', 'gs://fc-d2a92869-a028-40cf-a400-6ce6f7a5e92b/DepMap_CellLine_WGS_batch2_Jan2021/RP-1561/WGS/SM-KPQK2/v1/SM-KPQK2.bam', 'gs://fc-d2a92869-a028-40cf-a400-6ce6f7a5e92b/DepMap_CellLine_WGS_Jan2021/RP-1561/WGS/JVE127_1/v1/JVE127_1.bam', 'gs://fc-d2a92869-a028-40cf-a400-6ce6f7a5e92b/Stegamaier_Osteo_WGS_082020/RP-1561/WGS/HUO9/v1/HUO9.bam', 'gs://fc-d2a92869-a028-40cf-a400-6ce6f7a5e92b/Stegamaier_Osteo_WGS_082020/RP-1561/WGS/HSOS1/v1/HSOS1.bam', 'gs://fc-d2a92869-a028-40cf-a400-6ce6f7a5e92b/DepMap_CellLine_WGS_Aug2020/RP-1561/WGS/GUMBUS_1/v1/GUMBUS_1.bam', 'gs://fc-d2a92869-a028-40cf-a400-6ce6f7a5e92b/DepMap_CellLine_WGS_Aug2020/RP-1561/WGS/NZM12/v1/NZM12.bam', 'gs://fc-d2a92869-a028-40cf-a400-6ce6f7a5e92b/DepMap_CellLine_WGS_Aug2020/RP-1561/WGS/SHSY5Y/v1/SHSY5Y.bam', 'gs://fc-d2a92869-a028-40cf-a400-6ce6f7a5e92b/DepMap_CellLine_14_WGS_May2021/RP-1561/WGS/SM-L3DEA/v1/SM-L3DEA.bam', 'gs://fc-d2a92869-a028-40cf-a400-6ce6f7a5e92b/DepMap_CellLine_WGS_Aug2020/RP-1561/WGS/BJAB/v1/BJAB.bam', 'gs://fc-d2a92869-a028-40cf-a400-6ce6f7a5e92b/DepMap_CellLine_WGS_June2020/RP-1561/WGS/SW954/v1/SW954.bam', 'gs://fc-d2a92869-a028-40cf-a400-6ce6f7a5e92b/DepMap_CellLine_WGS_Aug2020/RP-1561/WGS/MMAC/v1/MMAC.bam', 'gs://fc-d2a92869-a028-40cf-a400-6ce6f7a5e92b/DepMap_CellLine_WGS_Jan2021/RP-1561/WGS/NZM5/v1/NZM5.bam', 'gs://fc-d2a92869-a028-40cf-a400-6ce6f7a5e92b/DepMap_CellLine_14_WGS_May2021/RP-1561/WGS/SM-L3DEK/v1/SM-L3DEK.bam', 'gs://fc-d2a92869-a028-40cf-a400-6ce6f7a5e92b/DepMap_CellLine_WGS_batch2_Jan2021/RP-1561/WGS/SM-KPQKB/v1/SM-KPQKB.bam', 'gs://fc-d2a92869-a028-40cf-a400-6ce6f7a5e92b/DepMap_CellLine_WGS_Aug2020/RP-1561/WGS/MM603/v1/MM603.bam', 'gs://fc-d2a92869-a028-40cf-a400-6ce6f7a5e92b/DepMap_CellLine_WGS_Oct2020/RP-1561/WGS/PSS008/v1/PSS008.bam', 'gs://fc-d2a92869-a028-40cf-a400-6ce6f7a5e92b/DepMap_CellLine_WGS_Aug2020/RP-1561/WGS/TR146/v1/TR146.bam']\n",
      "Len of samples after removal: 1\n",
      "\n",
      "The shape of the sample tsv from <dalmatian.wmanager.WorkspaceManager terra-broad-cancer-prod/Getz_IBM_CellLines_WGS>: (27, 233)\n",
      "Identifying any true duplicates by checking file hashes (this runs for each data source)...\n",
      "This step can take a while as we need to use gsutil to check the size of each potential duplicate...\n",
      "listing files in gs\n",
      "These 0 bam file path do not exist: set()\n",
      "listing files in gs\n",
      "listing files in gs\n",
      "Index(['rna_ribosomal_bases', 'wgs_pct_80x', 'hs_zero_cvg_targets_pct',\n",
      "       'min_insert_size', 'library-1_read_pair_duplicates',\n",
      "       'hs_fold_enrichment', 'window_size', 'wgs_pct_100x',\n",
      "       'library-2_read_pair_optical_duplicates', 'rna_intergenic_bases',\n",
      "       ...\n",
      "       'rna_num_r1_transcript_strand_reads', 'wgs_pct_1x', 'root_sample_id',\n",
      "       'hs_min_target_coverage', 'crc32c_hash', 'legacy_size', 'update_time',\n",
      "       'sequencing_date', 'participant_id', 'source'],\n",
      "      dtype='object', length=238)\n",
      "listing files in gs\n",
      "listing files in gs\n",
      "Index(['rna_ribosomal_bases', 'wgs_pct_80x', 'hs_zero_cvg_targets_pct',\n",
      "       'min_insert_size', 'library-1_read_pair_duplicates',\n",
      "       'hs_fold_enrichment', 'window_size', 'wgs_pct_100x',\n",
      "       'library-2_read_pair_optical_duplicates', 'rna_intergenic_bases',\n",
      "       ...\n",
      "       'rna_num_r1_transcript_strand_reads', 'wgs_pct_1x', 'root_sample_id',\n",
      "       'hs_min_target_coverage', 'crc32c_hash', 'legacy_size', 'update_time',\n",
      "       'sequencing_date', 'participant_id', 'source'],\n",
      "      dtype='object', length=238)\n",
      "we found and removed 0 samples which did not match our id names: ['ACH-', 'CDS-']\n",
      "found 26 likely replicate\n",
      "listing files in gs\n",
      "Len of samples before removal: 26\n",
      "Dups from this workspace has len 52:\n",
      " ['gs://fc-49b66034-d2f1-4d65-84db-891ae1be11d4/Getz_IBM_CellLine_WGS_Nov2020/RP-1561/WGS/UPCISCC074/v1/UPCISCC074.bam', 'gs://fc-49b66034-d2f1-4d65-84db-891ae1be11d4/Getz_IBM_CellLine_2_WGS_April2021/RP-1561/WGS/SM-KPQKA/v1/SM-KPQKA.bam', 'gs://fc-49b66034-d2f1-4d65-84db-891ae1be11d4/Getz_IBM_CellLine_8_WGS_May2021/RP-1561/WGS/SM-L3DER/v1/SM-L3DER.bam', 'gs://fc-49b66034-d2f1-4d65-84db-891ae1be11d4/Getz_IBM_CellLine_8_WGS_May2021/RP-1561/WGS/SM-L3DET/v1/SM-L3DET.bam', 'gs://fc-49b66034-d2f1-4d65-84db-891ae1be11d4/Getz_IBM_CellLine_WGS_Jan2021/RP-1561/WGS/SNU1750_1/v1/SNU1750_1.bam', 'gs://fc-49b66034-d2f1-4d65-84db-891ae1be11d4/Getz_IBM_CellLine_WGS_June2020/RP-1561/WGS/Set2_/v1/Set2_.bam', 'gs://fc-49b66034-d2f1-4d65-84db-891ae1be11d4/Getz_IBM_CellLine_WGS_June2020/RP-1561/WGS/UPCISCC090/v1/UPCISCC090.bam', 'gs://fc-49b66034-d2f1-4d65-84db-891ae1be11d4/Getz_IBM_CellLine_WGS_Nov2020/RP-1561/WGS/WPE1NA22/v1/WPE1NA22.bam', 'gs://fc-49b66034-d2f1-4d65-84db-891ae1be11d4/Getz_IBM_CellLine_8_WGS_May2021/RP-1561/WGS/SM-L3DEV/v1/SM-L3DEV.bam', 'gs://fc-49b66034-d2f1-4d65-84db-891ae1be11d4/Getz_IBM_CellLine_8_WGS_May2021/RP-1561/WGS/SM-L3DEQ/v1/SM-L3DEQ.bam', 'gs://fc-49b66034-d2f1-4d65-84db-891ae1be11d4/Getz_IBM_CellLine_8_WGS_May2021/RP-1561/WGS/SM-L3DEU/v1/SM-L3DEU.bam', 'gs://fc-49b66034-d2f1-4d65-84db-891ae1be11d4/Getz_IBM_CellLine_WGS_Batch2_Nov2020/RP-1561/WGS/SW156/v1/SW156.bam', 'gs://fc-49b66034-d2f1-4d65-84db-891ae1be11d4/Getz_IBM_CellLine_WGS_Aug2020/RP-1561/WGS/HIRSBM/v1/HIRSBM.bam', 'gs://fc-49b66034-d2f1-4d65-84db-891ae1be11d4/Getz_IBM_CellLine_WGS_Batch2_Jan2021/RP-1561/WGS/SM-KPQK3/v1/SM-KPQK3.bam', 'gs://fc-49b66034-d2f1-4d65-84db-891ae1be11d4/Getz_IBM_CellLine_WGS_Nov2020/RP-1561/WGS/IHH4/v1/IHH4.bam', 'gs://fc-49b66034-d2f1-4d65-84db-891ae1be11d4/Getz_IBM_CellLine_1_WGS_batch2_April2021/RP-1561/WGS/WSUNHL/v1/WSUNHL.bam', 'gs://fc-49b66034-d2f1-4d65-84db-891ae1be11d4/Getz_IBM_CellLine_WGS_June2020/RP-1561/WGS/CORL26/v1/CORL26.bam', 'gs://fc-49b66034-d2f1-4d65-84db-891ae1be11d4/Getz_IBM_CellLine_WGS_Nov2020/RP-1561/WGS/HSKTC/v1/HSKTC.bam', 'gs://fc-49b66034-d2f1-4d65-84db-891ae1be11d4/Getz_IBM_CellLine_8_WGS_May2021/RP-1561/WGS/SM-L3DEP/v1/SM-L3DEP.bam', 'gs://fc-49b66034-d2f1-4d65-84db-891ae1be11d4/Getz_IBM_CellLine_WGS_Batch2_Jan2021/RP-1561/WGS/SM-KPQKG/v1/SM-KPQKG.bam', 'gs://fc-49b66034-d2f1-4d65-84db-891ae1be11d4/Getz_IBM_CellLine_8_WGS_May2021/RP-1561/WGS/SM-L3DES/v1/SM-L3DES.bam', 'gs://fc-49b66034-d2f1-4d65-84db-891ae1be11d4/Getz_IBM_CellLine_WGS_Nov2020/RP-1561/WGS/SUM44PE/v2/SUM44PE.bam', 'gs://fc-49b66034-d2f1-4d65-84db-891ae1be11d4/Getz_IBM_CellLine_2_WGS_April2021/RP-1561/WGS/SM-KRSVQ/v1/SM-KRSVQ.bam', 'gs://fc-49b66034-d2f1-4d65-84db-891ae1be11d4/Getz_IBM_CellLine_8_WGS_May2021/RP-1561/WGS/SM-KPQJT/v1/SM-KPQJT.bam', 'gs://fc-49b66034-d2f1-4d65-84db-891ae1be11d4/Getz_IBM_CellLine_WGS_Nov2020/RP-1561/WGS/SUM190PT/v1/SUM190PT.bam', 'gs://fc-49b66034-d2f1-4d65-84db-891ae1be11d4/Getz_IBM_CellLine_WGS_Nov2020/RP-1561/WGS/SHMAC5/v2/SHMAC5.bam', 'gs://fc-49b66034-d2f1-4d65-84db-891ae1be11d4/Getz_IBM_CellLine_WGS_Nov2020/RP-1561/WGS/UPCISCC074/v1/UPCISCC074.bam', 'gs://fc-49b66034-d2f1-4d65-84db-891ae1be11d4/Getz_IBM_CellLine_2_WGS_April2021/RP-1561/WGS/SM-KPQKA/v1/SM-KPQKA.bam', 'gs://fc-49b66034-d2f1-4d65-84db-891ae1be11d4/Getz_IBM_CellLine_8_WGS_May2021/RP-1561/WGS/SM-L3DER/v1/SM-L3DER.bam', 'gs://fc-49b66034-d2f1-4d65-84db-891ae1be11d4/Getz_IBM_CellLine_8_WGS_May2021/RP-1561/WGS/SM-L3DET/v1/SM-L3DET.bam', 'gs://fc-49b66034-d2f1-4d65-84db-891ae1be11d4/Getz_IBM_CellLine_WGS_Jan2021/RP-1561/WGS/SNU1750_1/v1/SNU1750_1.bam', 'gs://fc-49b66034-d2f1-4d65-84db-891ae1be11d4/Getz_IBM_CellLine_WGS_June2020/RP-1561/WGS/Set2_/v1/Set2_.bam', 'gs://fc-49b66034-d2f1-4d65-84db-891ae1be11d4/Getz_IBM_CellLine_WGS_June2020/RP-1561/WGS/UPCISCC090/v1/UPCISCC090.bam', 'gs://fc-49b66034-d2f1-4d65-84db-891ae1be11d4/Getz_IBM_CellLine_WGS_Nov2020/RP-1561/WGS/WPE1NA22/v1/WPE1NA22.bam', 'gs://fc-49b66034-d2f1-4d65-84db-891ae1be11d4/Getz_IBM_CellLine_8_WGS_May2021/RP-1561/WGS/SM-L3DEV/v1/SM-L3DEV.bam', 'gs://fc-49b66034-d2f1-4d65-84db-891ae1be11d4/Getz_IBM_CellLine_8_WGS_May2021/RP-1561/WGS/SM-L3DEQ/v1/SM-L3DEQ.bam', 'gs://fc-49b66034-d2f1-4d65-84db-891ae1be11d4/Getz_IBM_CellLine_8_WGS_May2021/RP-1561/WGS/SM-L3DEU/v1/SM-L3DEU.bam', 'gs://fc-49b66034-d2f1-4d65-84db-891ae1be11d4/Getz_IBM_CellLine_WGS_Batch2_Nov2020/RP-1561/WGS/SW156/v1/SW156.bam', 'gs://fc-49b66034-d2f1-4d65-84db-891ae1be11d4/Getz_IBM_CellLine_WGS_Aug2020/RP-1561/WGS/HIRSBM/v1/HIRSBM.bam', 'gs://fc-49b66034-d2f1-4d65-84db-891ae1be11d4/Getz_IBM_CellLine_WGS_Batch2_Jan2021/RP-1561/WGS/SM-KPQK3/v1/SM-KPQK3.bam', 'gs://fc-49b66034-d2f1-4d65-84db-891ae1be11d4/Getz_IBM_CellLine_WGS_Nov2020/RP-1561/WGS/IHH4/v1/IHH4.bam', 'gs://fc-49b66034-d2f1-4d65-84db-891ae1be11d4/Getz_IBM_CellLine_1_WGS_batch2_April2021/RP-1561/WGS/WSUNHL/v1/WSUNHL.bam', 'gs://fc-49b66034-d2f1-4d65-84db-891ae1be11d4/Getz_IBM_CellLine_WGS_June2020/RP-1561/WGS/CORL26/v1/CORL26.bam', 'gs://fc-49b66034-d2f1-4d65-84db-891ae1be11d4/Getz_IBM_CellLine_WGS_Nov2020/RP-1561/WGS/HSKTC/v1/HSKTC.bam', 'gs://fc-49b66034-d2f1-4d65-84db-891ae1be11d4/Getz_IBM_CellLine_8_WGS_May2021/RP-1561/WGS/SM-L3DEP/v1/SM-L3DEP.bam', 'gs://fc-49b66034-d2f1-4d65-84db-891ae1be11d4/Getz_IBM_CellLine_WGS_Batch2_Jan2021/RP-1561/WGS/SM-KPQKG/v1/SM-KPQKG.bam', 'gs://fc-49b66034-d2f1-4d65-84db-891ae1be11d4/Getz_IBM_CellLine_8_WGS_May2021/RP-1561/WGS/SM-L3DES/v1/SM-L3DES.bam', 'gs://fc-49b66034-d2f1-4d65-84db-891ae1be11d4/Getz_IBM_CellLine_WGS_Nov2020/RP-1561/WGS/SUM44PE/v2/SUM44PE.bam', 'gs://fc-49b66034-d2f1-4d65-84db-891ae1be11d4/Getz_IBM_CellLine_2_WGS_April2021/RP-1561/WGS/SM-KRSVQ/v1/SM-KRSVQ.bam', 'gs://fc-49b66034-d2f1-4d65-84db-891ae1be11d4/Getz_IBM_CellLine_8_WGS_May2021/RP-1561/WGS/SM-KPQJT/v1/SM-KPQJT.bam', 'gs://fc-49b66034-d2f1-4d65-84db-891ae1be11d4/Getz_IBM_CellLine_WGS_Nov2020/RP-1561/WGS/SUM190PT/v1/SUM190PT.bam', 'gs://fc-49b66034-d2f1-4d65-84db-891ae1be11d4/Getz_IBM_CellLine_WGS_Nov2020/RP-1561/WGS/SHMAC5/v2/SHMAC5.bam']\n",
      "Len of samples after removal: 0\n",
      "we had 0 duplicates in the release buckets\n",
      "found 0 matched normals\n",
      "removed because exist in duplicte in the workspace: \n",
      "set()\n",
      "deleting closest samples:\n",
      "removed: 0 samples from size alone (too similar to a replicate)\n",
      "deleting closest samples:\n",
      "removed, because too old:\n",
      "sample_id\n",
      "CDS-j3LZXi    gs://fc-d2a92869-a028-40cf-a400-6ce6f7a5e92b/D...\n",
      "Name: legacy_bam_filepath, dtype: object\n",
      "sample_id\n",
      "CDS-RKHxIy    gs://fc-d2a92869-a028-40cf-a400-6ce6f7a5e92b/D...\n",
      "Name: legacy_bam_filepath, dtype: object\n",
      "removed: 1 samples that have not changed since last time (likely     duplicate having been removed)\n",
      "we found and removed 0 samples which did not match our id names: ['ACH', 'CDS']\n",
      "found 0 likely replicate\n",
      "listing files in gs\n",
      "Len of samples before removal: 0\n",
      "Dups from this workspace has len 0:\n",
      " []\n",
      "Len of samples after removal: 0\n",
      "we had 0 duplicates in the release buckets\n"
     ]
    }
   ],
   "metadata": {}
  },
  {
   "cell_type": "code",
   "execution_count": 4,
   "source": [
    "if isCCLE:\n",
    "    ref = tracker.getCCLETracker()\n",
    "    print('samples without wgs:')\n",
    "    print(set(LINES_TO_RELEASE) - (set(wgssamples.arxspan_id) | set(ref[ref.datatype=='wgs'].arxspan_id)))\n",
    "    print('\\nsamples without DNAseq:')\n",
    "    print(set(LINES_TO_RELEASE) - (set(wgssamples.arxspan_id) | set(ref[ref.datatype.isin(['wes', 'wgs'])].arxspan_id)))\n",
    "    %store wgssamples"
   ],
   "outputs": [
    {
     "output_type": "stream",
     "name": "stdout",
     "text": [
      "samples without wgs:\n",
      "{'\\n    \"ACH-000345\",\\n    \"ACH-000359\",\\n    \"ACH-000399\",\\n    \"ACH-000409\",\\n    \"ACH-000515\",\\n    \"ACH-000664\",\\n    \"ACH-000744\",\\n    \"ACH-000992\",\\n    \"ACH-001032\",\\n    \"ACH-001373\",\\n    \"ACH-001393\",\\n    \"ACH-001410\",\\n    \"ACH-001558\",\\n    \"ACH-001679\",\\n    \"ACH-001696\",\\n    \"ACH-002022\",\\n    \"ACH-002060\",\\n    \"ACH-002659\",\\n    \"ACH-002687\",\\n    \"ACH-002707\",\\n    ', 'ACH-000205'}\n",
      "\n",
      "samples without DNAseq:\n",
      "{'\\n    \"ACH-000345\",\\n    \"ACH-000359\",\\n    \"ACH-000399\",\\n    \"ACH-000409\",\\n    \"ACH-000515\",\\n    \"ACH-000664\",\\n    \"ACH-000744\",\\n    \"ACH-000992\",\\n    \"ACH-001032\",\\n    \"ACH-001373\",\\n    \"ACH-001393\",\\n    \"ACH-001410\",\\n    \"ACH-001558\",\\n    \"ACH-001679\",\\n    \"ACH-001696\",\\n    \"ACH-002022\",\\n    \"ACH-002060\",\\n    \"ACH-002659\",\\n    \"ACH-002687\",\\n    \"ACH-002707\",\\n    '}\n",
      "Stored 'wgssamples' (DataFrame)\n"
     ]
    }
   ],
   "metadata": {}
  },
  {
   "cell_type": "code",
   "execution_count": 5,
   "source": [
    "# HERE APPLY ANY STEP TO CLEANUP LINES FUTHER (from)\n",
    "%store -r rnasamples\n",
    "%store -r wgssamples\n",
    "###############################\n",
    "rnasamples.loc[\"CDS-nOdwML\", 'participant_id'] = \"PT-Elndt09g\"\n",
    "rnasamples.loc[[\"CDS-ugq3tZ\",\n",
    "\"CDS-MyY7Gc\"], 'cellosaurus_id'] = [\"U\", \"CVCL_D843\"]\n",
    "\n",
    "wgssamples.loc[[\"CDS-WXSgfq\",\n",
    "\"CDS-uLf8M0\",\n",
    "\"CDS-5pxach\",\n",
    "\"CDS-pX3bvG\",\n",
    "\"CDS-JsZ9Nh\",\n",
    "\"CDS-BXIBwR\",\n",
    "\"CDS-BEbnKg\",\n",
    "\"CDS-xvtYY4\"],\"cellosaurus_id\"] = [\"CVCL_D842\",\n",
    "\"CVCL_D843\",\n",
    "\"CVCL_0B81\",\n",
    "\"CVCL_8915\",\n",
    "\"CVCL_5040\",\n",
    "\"CVCL_W891\",\n",
    "\"CVCL_5402\",\n",
    "\"CVCL_1793\"]\n",
    "#################################\n",
    "%store rnasamples\n",
    "%store wgssamples"
   ],
   "outputs": [
    {
     "output_type": "error",
     "ename": "KeyError",
     "evalue": "\"None of [Index(['CDS-ugq3tZ', 'CDS-MyY7Gc'], dtype='object', name='sample_id')] are in the [index]\"",
     "traceback": [
      "\u001b[0;31m---------------------------------------------------------------------------\u001b[0m",
      "\u001b[0;31mKeyError\u001b[0m                                  Traceback (most recent call last)",
      "\u001b[0;32m/var/folders/z4/g9905z5x4s5cyl27br7_br6h0000gp/T/ipykernel_7918/3465752119.py\u001b[0m in \u001b[0;36m<module>\u001b[0;34m\u001b[0m\n\u001b[1;32m      4\u001b[0m \u001b[0;31m###############################\u001b[0m\u001b[0;34m\u001b[0m\u001b[0;34m\u001b[0m\u001b[0;34m\u001b[0m\u001b[0m\n\u001b[1;32m      5\u001b[0m \u001b[0mrnasamples\u001b[0m\u001b[0;34m.\u001b[0m\u001b[0mloc\u001b[0m\u001b[0;34m[\u001b[0m\u001b[0;34m\"CDS-nOdwML\"\u001b[0m\u001b[0;34m,\u001b[0m \u001b[0;34m'participant_id'\u001b[0m\u001b[0;34m]\u001b[0m \u001b[0;34m=\u001b[0m \u001b[0;34m\"PT-Elndt09g\"\u001b[0m\u001b[0;34m\u001b[0m\u001b[0;34m\u001b[0m\u001b[0m\n\u001b[0;32m----> 6\u001b[0;31m rnasamples.loc[[\"CDS-ugq3tZ\",\n\u001b[0m\u001b[1;32m      7\u001b[0m \"CDS-MyY7Gc\"], 'cellosaurus_id'] = [\"U\", \"CVCL_D843\"]\n\u001b[1;32m      8\u001b[0m \u001b[0;34m\u001b[0m\u001b[0m\n",
      "\u001b[0;32m~/miniconda3/lib/python3.9/site-packages/pandas/core/indexing.py\u001b[0m in \u001b[0;36m__setitem__\u001b[0;34m(self, key, value)\u001b[0m\n\u001b[1;32m    717\u001b[0m         \u001b[0;32melse\u001b[0m\u001b[0;34m:\u001b[0m\u001b[0;34m\u001b[0m\u001b[0;34m\u001b[0m\u001b[0m\n\u001b[1;32m    718\u001b[0m             \u001b[0mkey\u001b[0m \u001b[0;34m=\u001b[0m \u001b[0mcom\u001b[0m\u001b[0;34m.\u001b[0m\u001b[0mapply_if_callable\u001b[0m\u001b[0;34m(\u001b[0m\u001b[0mkey\u001b[0m\u001b[0;34m,\u001b[0m \u001b[0mself\u001b[0m\u001b[0;34m.\u001b[0m\u001b[0mobj\u001b[0m\u001b[0;34m)\u001b[0m\u001b[0;34m\u001b[0m\u001b[0;34m\u001b[0m\u001b[0m\n\u001b[0;32m--> 719\u001b[0;31m         \u001b[0mindexer\u001b[0m \u001b[0;34m=\u001b[0m \u001b[0mself\u001b[0m\u001b[0;34m.\u001b[0m\u001b[0m_get_setitem_indexer\u001b[0m\u001b[0;34m(\u001b[0m\u001b[0mkey\u001b[0m\u001b[0;34m)\u001b[0m\u001b[0;34m\u001b[0m\u001b[0;34m\u001b[0m\u001b[0m\n\u001b[0m\u001b[1;32m    720\u001b[0m         \u001b[0mself\u001b[0m\u001b[0;34m.\u001b[0m\u001b[0m_has_valid_setitem_indexer\u001b[0m\u001b[0;34m(\u001b[0m\u001b[0mkey\u001b[0m\u001b[0;34m)\u001b[0m\u001b[0;34m\u001b[0m\u001b[0;34m\u001b[0m\u001b[0m\n\u001b[1;32m    721\u001b[0m \u001b[0;34m\u001b[0m\u001b[0m\n",
      "\u001b[0;32m~/miniconda3/lib/python3.9/site-packages/pandas/core/indexing.py\u001b[0m in \u001b[0;36m_get_setitem_indexer\u001b[0;34m(self, key)\u001b[0m\n\u001b[1;32m    658\u001b[0m         \u001b[0;32mif\u001b[0m \u001b[0misinstance\u001b[0m\u001b[0;34m(\u001b[0m\u001b[0mkey\u001b[0m\u001b[0;34m,\u001b[0m \u001b[0mtuple\u001b[0m\u001b[0;34m)\u001b[0m\u001b[0;34m:\u001b[0m\u001b[0;34m\u001b[0m\u001b[0;34m\u001b[0m\u001b[0m\n\u001b[1;32m    659\u001b[0m             \u001b[0;32mwith\u001b[0m \u001b[0msuppress\u001b[0m\u001b[0;34m(\u001b[0m\u001b[0mIndexingError\u001b[0m\u001b[0;34m)\u001b[0m\u001b[0;34m:\u001b[0m\u001b[0;34m\u001b[0m\u001b[0;34m\u001b[0m\u001b[0m\n\u001b[0;32m--> 660\u001b[0;31m                 \u001b[0;32mreturn\u001b[0m \u001b[0mself\u001b[0m\u001b[0;34m.\u001b[0m\u001b[0m_convert_tuple\u001b[0m\u001b[0;34m(\u001b[0m\u001b[0mkey\u001b[0m\u001b[0;34m,\u001b[0m \u001b[0mis_setter\u001b[0m\u001b[0;34m=\u001b[0m\u001b[0;32mTrue\u001b[0m\u001b[0;34m)\u001b[0m\u001b[0;34m\u001b[0m\u001b[0;34m\u001b[0m\u001b[0m\n\u001b[0m\u001b[1;32m    661\u001b[0m \u001b[0;34m\u001b[0m\u001b[0m\n\u001b[1;32m    662\u001b[0m         \u001b[0;32mif\u001b[0m \u001b[0misinstance\u001b[0m\u001b[0;34m(\u001b[0m\u001b[0mkey\u001b[0m\u001b[0;34m,\u001b[0m \u001b[0mrange\u001b[0m\u001b[0;34m)\u001b[0m\u001b[0;34m:\u001b[0m\u001b[0;34m\u001b[0m\u001b[0;34m\u001b[0m\u001b[0m\n",
      "\u001b[0;32m~/miniconda3/lib/python3.9/site-packages/pandas/core/indexing.py\u001b[0m in \u001b[0;36m_convert_tuple\u001b[0;34m(self, key, is_setter)\u001b[0m\n\u001b[1;32m    783\u001b[0m             \u001b[0mself\u001b[0m\u001b[0;34m.\u001b[0m\u001b[0m_validate_key_length\u001b[0m\u001b[0;34m(\u001b[0m\u001b[0mkey\u001b[0m\u001b[0;34m)\u001b[0m\u001b[0;34m\u001b[0m\u001b[0;34m\u001b[0m\u001b[0m\n\u001b[1;32m    784\u001b[0m             \u001b[0;32mfor\u001b[0m \u001b[0mi\u001b[0m\u001b[0;34m,\u001b[0m \u001b[0mk\u001b[0m \u001b[0;32min\u001b[0m \u001b[0menumerate\u001b[0m\u001b[0;34m(\u001b[0m\u001b[0mkey\u001b[0m\u001b[0;34m)\u001b[0m\u001b[0;34m:\u001b[0m\u001b[0;34m\u001b[0m\u001b[0;34m\u001b[0m\u001b[0m\n\u001b[0;32m--> 785\u001b[0;31m                 \u001b[0midx\u001b[0m \u001b[0;34m=\u001b[0m \u001b[0mself\u001b[0m\u001b[0;34m.\u001b[0m\u001b[0m_convert_to_indexer\u001b[0m\u001b[0;34m(\u001b[0m\u001b[0mk\u001b[0m\u001b[0;34m,\u001b[0m \u001b[0maxis\u001b[0m\u001b[0;34m=\u001b[0m\u001b[0mi\u001b[0m\u001b[0;34m,\u001b[0m \u001b[0mis_setter\u001b[0m\u001b[0;34m=\u001b[0m\u001b[0mis_setter\u001b[0m\u001b[0;34m)\u001b[0m\u001b[0;34m\u001b[0m\u001b[0;34m\u001b[0m\u001b[0m\n\u001b[0m\u001b[1;32m    786\u001b[0m                 \u001b[0mkeyidx\u001b[0m\u001b[0;34m.\u001b[0m\u001b[0mappend\u001b[0m\u001b[0;34m(\u001b[0m\u001b[0midx\u001b[0m\u001b[0;34m)\u001b[0m\u001b[0;34m\u001b[0m\u001b[0;34m\u001b[0m\u001b[0m\n\u001b[1;32m    787\u001b[0m \u001b[0;34m\u001b[0m\u001b[0m\n",
      "\u001b[0;32m~/miniconda3/lib/python3.9/site-packages/pandas/core/indexing.py\u001b[0m in \u001b[0;36m_convert_to_indexer\u001b[0;34m(self, key, axis, is_setter)\u001b[0m\n\u001b[1;32m   1255\u001b[0m                 \u001b[0;32mreturn\u001b[0m \u001b[0minds\u001b[0m\u001b[0;34m\u001b[0m\u001b[0;34m\u001b[0m\u001b[0m\n\u001b[1;32m   1256\u001b[0m             \u001b[0;32melse\u001b[0m\u001b[0;34m:\u001b[0m\u001b[0;34m\u001b[0m\u001b[0;34m\u001b[0m\u001b[0m\n\u001b[0;32m-> 1257\u001b[0;31m                 \u001b[0;32mreturn\u001b[0m \u001b[0mself\u001b[0m\u001b[0;34m.\u001b[0m\u001b[0m_get_listlike_indexer\u001b[0m\u001b[0;34m(\u001b[0m\u001b[0mkey\u001b[0m\u001b[0;34m,\u001b[0m \u001b[0maxis\u001b[0m\u001b[0;34m)\u001b[0m\u001b[0;34m[\u001b[0m\u001b[0;36m1\u001b[0m\u001b[0;34m]\u001b[0m\u001b[0;34m\u001b[0m\u001b[0;34m\u001b[0m\u001b[0m\n\u001b[0m\u001b[1;32m   1258\u001b[0m         \u001b[0;32melse\u001b[0m\u001b[0;34m:\u001b[0m\u001b[0;34m\u001b[0m\u001b[0;34m\u001b[0m\u001b[0m\n\u001b[1;32m   1259\u001b[0m             \u001b[0;32mtry\u001b[0m\u001b[0;34m:\u001b[0m\u001b[0;34m\u001b[0m\u001b[0;34m\u001b[0m\u001b[0m\n",
      "\u001b[0;32m~/miniconda3/lib/python3.9/site-packages/pandas/core/indexing.py\u001b[0m in \u001b[0;36m_get_listlike_indexer\u001b[0;34m(self, key, axis)\u001b[0m\n\u001b[1;32m   1312\u001b[0m             \u001b[0mkeyarr\u001b[0m\u001b[0;34m,\u001b[0m \u001b[0mindexer\u001b[0m\u001b[0;34m,\u001b[0m \u001b[0mnew_indexer\u001b[0m \u001b[0;34m=\u001b[0m \u001b[0max\u001b[0m\u001b[0;34m.\u001b[0m\u001b[0m_reindex_non_unique\u001b[0m\u001b[0;34m(\u001b[0m\u001b[0mkeyarr\u001b[0m\u001b[0;34m)\u001b[0m\u001b[0;34m\u001b[0m\u001b[0;34m\u001b[0m\u001b[0m\n\u001b[1;32m   1313\u001b[0m \u001b[0;34m\u001b[0m\u001b[0m\n\u001b[0;32m-> 1314\u001b[0;31m         \u001b[0mself\u001b[0m\u001b[0;34m.\u001b[0m\u001b[0m_validate_read_indexer\u001b[0m\u001b[0;34m(\u001b[0m\u001b[0mkeyarr\u001b[0m\u001b[0;34m,\u001b[0m \u001b[0mindexer\u001b[0m\u001b[0;34m,\u001b[0m \u001b[0maxis\u001b[0m\u001b[0;34m)\u001b[0m\u001b[0;34m\u001b[0m\u001b[0;34m\u001b[0m\u001b[0m\n\u001b[0m\u001b[1;32m   1315\u001b[0m \u001b[0;34m\u001b[0m\u001b[0m\n\u001b[1;32m   1316\u001b[0m         if needs_i8_conversion(ax.dtype) or isinstance(\n",
      "\u001b[0;32m~/miniconda3/lib/python3.9/site-packages/pandas/core/indexing.py\u001b[0m in \u001b[0;36m_validate_read_indexer\u001b[0;34m(self, key, indexer, axis)\u001b[0m\n\u001b[1;32m   1372\u001b[0m                 \u001b[0;32mif\u001b[0m \u001b[0muse_interval_msg\u001b[0m\u001b[0;34m:\u001b[0m\u001b[0;34m\u001b[0m\u001b[0;34m\u001b[0m\u001b[0m\n\u001b[1;32m   1373\u001b[0m                     \u001b[0mkey\u001b[0m \u001b[0;34m=\u001b[0m \u001b[0mlist\u001b[0m\u001b[0;34m(\u001b[0m\u001b[0mkey\u001b[0m\u001b[0;34m)\u001b[0m\u001b[0;34m\u001b[0m\u001b[0;34m\u001b[0m\u001b[0m\n\u001b[0;32m-> 1374\u001b[0;31m                 \u001b[0;32mraise\u001b[0m \u001b[0mKeyError\u001b[0m\u001b[0;34m(\u001b[0m\u001b[0;34mf\"None of [{key}] are in the [{axis_name}]\"\u001b[0m\u001b[0;34m)\u001b[0m\u001b[0;34m\u001b[0m\u001b[0;34m\u001b[0m\u001b[0m\n\u001b[0m\u001b[1;32m   1375\u001b[0m \u001b[0;34m\u001b[0m\u001b[0m\n\u001b[1;32m   1376\u001b[0m             \u001b[0mnot_found\u001b[0m \u001b[0;34m=\u001b[0m \u001b[0mlist\u001b[0m\u001b[0;34m(\u001b[0m\u001b[0mensure_index\u001b[0m\u001b[0;34m(\u001b[0m\u001b[0mkey\u001b[0m\u001b[0;34m)\u001b[0m\u001b[0;34m[\u001b[0m\u001b[0mmissing_mask\u001b[0m\u001b[0;34m.\u001b[0m\u001b[0mnonzero\u001b[0m\u001b[0;34m(\u001b[0m\u001b[0;34m)\u001b[0m\u001b[0;34m[\u001b[0m\u001b[0;36m0\u001b[0m\u001b[0;34m]\u001b[0m\u001b[0;34m]\u001b[0m\u001b[0;34m.\u001b[0m\u001b[0munique\u001b[0m\u001b[0;34m(\u001b[0m\u001b[0;34m)\u001b[0m\u001b[0;34m)\u001b[0m\u001b[0;34m\u001b[0m\u001b[0;34m\u001b[0m\u001b[0m\n",
      "\u001b[0;31mKeyError\u001b[0m: \"None of [Index(['CDS-ugq3tZ', 'CDS-MyY7Gc'], dtype='object', name='sample_id')] are in the [index]\""
     ]
    }
   ],
   "metadata": {}
  },
  {
   "cell_type": "code",
   "execution_count": 10,
   "source": [
    "if isCCLE:\n",
    "    print('sorting our patient_id for new samples on both WGS and RNAseq')\n",
    "    %store -r rnasamples\n",
    "    %store -r wgssamples\n",
    "    for val in set(wgssamples.arxspan_id)&set(rnasamples.arxspan_id):\n",
    "        r = rnasamples[rnasamples.arxspan_id == val] \n",
    "        w = wgssamples[wgssamples.arxspan_id == val]\n",
    "        if len(set(r.participant_id) | set(w.participant_id)) >1:\n",
    "            print(\"sorting out: \"+val)\n",
    "            v = r.participant_id[0]\n",
    "            rnasamples.loc[r.index, 'participant_id'] = v\n",
    "            wgssamples.loc[w.index, 'participant_id'] = v\n",
    "    %store rnasamples\n",
    "    %store wgssamples"
   ],
   "outputs": [
    {
     "output_type": "stream",
     "name": "stdout",
     "text": [
      "sorting our patient_id for new samples on both WGS and RNAseq\n",
      "no stored variable or alias rnasamples\n"
     ]
    },
    {
     "output_type": "error",
     "ename": "NameError",
     "evalue": "name 'rnasamples' is not defined",
     "traceback": [
      "\u001b[0;31m---------------------------------------------------------------------------\u001b[0m",
      "\u001b[0;31mNameError\u001b[0m                                 Traceback (most recent call last)",
      "\u001b[0;32m/var/folders/z4/g9905z5x4s5cyl27br7_br6h0000gp/T/ipykernel_16801/411488108.py\u001b[0m in \u001b[0;36m<module>\u001b[0;34m\u001b[0m\n\u001b[1;32m      3\u001b[0m     \u001b[0mget_ipython\u001b[0m\u001b[0;34m(\u001b[0m\u001b[0;34m)\u001b[0m\u001b[0;34m.\u001b[0m\u001b[0mrun_line_magic\u001b[0m\u001b[0;34m(\u001b[0m\u001b[0;34m'store'\u001b[0m\u001b[0;34m,\u001b[0m \u001b[0;34m'-r rnasamples'\u001b[0m\u001b[0;34m)\u001b[0m\u001b[0;34m\u001b[0m\u001b[0;34m\u001b[0m\u001b[0m\n\u001b[1;32m      4\u001b[0m     \u001b[0mget_ipython\u001b[0m\u001b[0;34m(\u001b[0m\u001b[0;34m)\u001b[0m\u001b[0;34m.\u001b[0m\u001b[0mrun_line_magic\u001b[0m\u001b[0;34m(\u001b[0m\u001b[0;34m'store'\u001b[0m\u001b[0;34m,\u001b[0m \u001b[0;34m'-r wgssamples'\u001b[0m\u001b[0;34m)\u001b[0m\u001b[0;34m\u001b[0m\u001b[0;34m\u001b[0m\u001b[0m\n\u001b[0;32m----> 5\u001b[0;31m     \u001b[0;32mfor\u001b[0m \u001b[0mval\u001b[0m \u001b[0;32min\u001b[0m \u001b[0mset\u001b[0m\u001b[0;34m(\u001b[0m\u001b[0mwgssamples\u001b[0m\u001b[0;34m.\u001b[0m\u001b[0marxspan_id\u001b[0m\u001b[0;34m)\u001b[0m\u001b[0;34m&\u001b[0m\u001b[0mset\u001b[0m\u001b[0;34m(\u001b[0m\u001b[0mrnasamples\u001b[0m\u001b[0;34m.\u001b[0m\u001b[0marxspan_id\u001b[0m\u001b[0;34m)\u001b[0m\u001b[0;34m:\u001b[0m\u001b[0;34m\u001b[0m\u001b[0;34m\u001b[0m\u001b[0m\n\u001b[0m\u001b[1;32m      6\u001b[0m         \u001b[0mr\u001b[0m \u001b[0;34m=\u001b[0m \u001b[0mrnasamples\u001b[0m\u001b[0;34m[\u001b[0m\u001b[0mrnasamples\u001b[0m\u001b[0;34m.\u001b[0m\u001b[0marxspan_id\u001b[0m \u001b[0;34m==\u001b[0m \u001b[0mval\u001b[0m\u001b[0;34m]\u001b[0m\u001b[0;34m\u001b[0m\u001b[0;34m\u001b[0m\u001b[0m\n\u001b[1;32m      7\u001b[0m         \u001b[0mw\u001b[0m \u001b[0;34m=\u001b[0m \u001b[0mwgssamples\u001b[0m\u001b[0;34m[\u001b[0m\u001b[0mwgssamples\u001b[0m\u001b[0;34m.\u001b[0m\u001b[0marxspan_id\u001b[0m \u001b[0;34m==\u001b[0m \u001b[0mval\u001b[0m\u001b[0;34m]\u001b[0m\u001b[0;34m\u001b[0m\u001b[0;34m\u001b[0m\u001b[0m\n",
      "\u001b[0;31mNameError\u001b[0m: name 'rnasamples' is not defined"
     ]
    }
   ],
   "metadata": {}
  },
  {
   "cell_type": "code",
   "execution_count": 7,
   "source": [
    "wgssamples"
   ],
   "outputs": [
    {
     "output_type": "execute_result",
     "data": {
      "text/plain": [
       "Empty DataFrame\n",
       "Columns: [legacy_bam_filepath, legacy_bai_filepath, stripped_cell_line_name, arxspan_id, sequencing_date, participant_id, legacy_size, PDO, update_time, datatype, version, sex, primary_disease, cellosaurus_id, age, primary_site, subtype, subsubtype, origin, parent_cell_line, matched_normal, comments, mediatype, condition, baits]\n",
       "Index: []\n",
       "\n",
       "[0 rows x 25 columns]"
      ],
      "text/html": [
       "<div>\n",
       "<style scoped>\n",
       "    .dataframe tbody tr th:only-of-type {\n",
       "        vertical-align: middle;\n",
       "    }\n",
       "\n",
       "    .dataframe tbody tr th {\n",
       "        vertical-align: top;\n",
       "    }\n",
       "\n",
       "    .dataframe thead th {\n",
       "        text-align: right;\n",
       "    }\n",
       "</style>\n",
       "<table border=\"1\" class=\"dataframe\">\n",
       "  <thead>\n",
       "    <tr style=\"text-align: right;\">\n",
       "      <th></th>\n",
       "      <th>legacy_bam_filepath</th>\n",
       "      <th>legacy_bai_filepath</th>\n",
       "      <th>stripped_cell_line_name</th>\n",
       "      <th>arxspan_id</th>\n",
       "      <th>sequencing_date</th>\n",
       "      <th>participant_id</th>\n",
       "      <th>legacy_size</th>\n",
       "      <th>PDO</th>\n",
       "      <th>update_time</th>\n",
       "      <th>datatype</th>\n",
       "      <th>...</th>\n",
       "      <th>primary_site</th>\n",
       "      <th>subtype</th>\n",
       "      <th>subsubtype</th>\n",
       "      <th>origin</th>\n",
       "      <th>parent_cell_line</th>\n",
       "      <th>matched_normal</th>\n",
       "      <th>comments</th>\n",
       "      <th>mediatype</th>\n",
       "      <th>condition</th>\n",
       "      <th>baits</th>\n",
       "    </tr>\n",
       "    <tr>\n",
       "      <th>sample_id</th>\n",
       "      <th></th>\n",
       "      <th></th>\n",
       "      <th></th>\n",
       "      <th></th>\n",
       "      <th></th>\n",
       "      <th></th>\n",
       "      <th></th>\n",
       "      <th></th>\n",
       "      <th></th>\n",
       "      <th></th>\n",
       "      <th></th>\n",
       "      <th></th>\n",
       "      <th></th>\n",
       "      <th></th>\n",
       "      <th></th>\n",
       "      <th></th>\n",
       "      <th></th>\n",
       "      <th></th>\n",
       "      <th></th>\n",
       "      <th></th>\n",
       "      <th></th>\n",
       "    </tr>\n",
       "  </thead>\n",
       "  <tbody>\n",
       "  </tbody>\n",
       "</table>\n",
       "<p>0 rows × 25 columns</p>\n",
       "</div>"
      ]
     },
     "metadata": {},
     "execution_count": 7
    }
   ],
   "metadata": {}
  },
  {
   "cell_type": "code",
   "execution_count": null,
   "source": [
    "wgssamples = wgssamples.iloc[:3]\n",
    "wgssamples"
   ],
   "outputs": [
    {
     "output_type": "execute_result",
     "data": {
      "text/plain": [
       "pandas.core.frame.DataFrame"
      ]
     },
     "metadata": {},
     "execution_count": 30
    }
   ],
   "metadata": {}
  },
  {
   "cell_type": "code",
   "execution_count": null,
   "source": [
    "if isCCLE:\n",
    "    print(\"uploading samples to the tracker and Terra: \"+SAMPLESETNAME)\n",
    "    loading.update(wgssamples, samplesetname=SAMPLESETNAME, stype=\"wgs\", bucket=WGS_GCS_PATH, refworkspace=WGSWORKSPACE)"
<<<<<<< Updated upstream
   ]
=======
   ],
   "outputs": [
    {
     "output_type": "stream",
     "name": "stdout",
     "text": [
      "uploading samples to the tracker and Terra: 21Q3\n"
     ]
    },
    {
     "output_type": "stream",
     "name": "stderr",
     "text": [
      "CommandException: One or more URLs matched no objects.\n"
     ]
    },
    {
     "output_type": "stream",
     "name": "stdout",
     "text": [
      "gsutil cp gs://fc-d2a92869-a028-40cf-a400-6ce6f7a5e92b/DepMap_CellLine_14_WGS_May2021/RP-1561/WGS/SM-KPQK9/v1/SM-KPQK9.bam gs://cclebams-sandbox/wgs/CDS-S3ePeg.bam\n"
     ]
    },
    {
     "output_type": "stream",
     "name": "stderr",
     "text": [
      "CommandException: One or more URLs matched no objects.\n"
     ]
    },
    {
     "output_type": "stream",
     "name": "stdout",
     "text": [
      "gsutil cp gs://fc-d2a92869-a028-40cf-a400-6ce6f7a5e92b/DepMap_CellLine_14_WGS_May2021/RP-1561/WGS/SM-KPQK9/v1/SM-KPQK9.bai gs://cclebams-sandbox/wgs/CDS-S3ePeg.bai\n"
     ]
    },
    {
     "output_type": "stream",
     "name": "stderr",
     "text": [
      "CommandException: One or more URLs matched no objects.\n"
     ]
    },
    {
     "output_type": "stream",
     "name": "stdout",
     "text": [
      "gsutil cp gs://fc-d2a92869-a028-40cf-a400-6ce6f7a5e92b/DepMap_CellLine_14_WGS_May2021/RP-1561/WGS/SM-KPQKF/v1/SM-KPQKF.bam gs://cclebams-sandbox/wgs/CDS-TwkwLJ.bam\n"
     ]
    },
    {
     "output_type": "stream",
     "name": "stderr",
     "text": [
      "CommandException: One or more URLs matched no objects.\n"
     ]
    },
    {
     "output_type": "stream",
     "name": "stdout",
     "text": [
      "gsutil cp gs://fc-d2a92869-a028-40cf-a400-6ce6f7a5e92b/DepMap_CellLine_14_WGS_May2021/RP-1561/WGS/SM-KPQKF/v1/SM-KPQKF.bai gs://cclebams-sandbox/wgs/CDS-TwkwLJ.bai\n"
     ]
    },
    {
     "output_type": "stream",
     "name": "stderr",
     "text": [
      "CommandException: One or more URLs matched no objects.\n"
     ]
    },
    {
     "output_type": "stream",
     "name": "stdout",
     "text": [
      "gsutil cp gs://fc-d2a92869-a028-40cf-a400-6ce6f7a5e92b/DepMap_CellLine_2_WGS_batch2_May2021/RP-1561/WGS/SM-KPQKM/v1/SM-KPQKM.bam gs://cclebams-sandbox/wgs/CDS-lUN6w7.bam\n"
     ]
    },
    {
     "output_type": "stream",
     "name": "stderr",
     "text": [
      "CommandException: One or more URLs matched no objects.\n"
     ]
    },
    {
     "output_type": "stream",
     "name": "stdout",
     "text": [
      "gsutil cp gs://fc-d2a92869-a028-40cf-a400-6ce6f7a5e92b/DepMap_CellLine_2_WGS_batch2_May2021/RP-1561/WGS/SM-KPQKM/v1/SM-KPQKM.bai gs://cclebams-sandbox/wgs/CDS-lUN6w7.bai\n",
      "Successfully imported 3 participants.\n",
      "Successfully imported 3 samples.\n",
      "Sample set \"21Q3\" (3 samples) successfully updated.\n",
      "Sample set \"all\" (519 samples) successfully updated.\n"
     ]
    }
   ],
   "metadata": {}
>>>>>>> Stashed changes
  },
  {
   "cell_type": "markdown",
   "source": [
    "# run the pipeline\n",
    "\n",
    "We are using Dalmatian to send request to Terra, we are running a set of 5 functions To generate the mutation dataset:\n",
    "\n",
    "*   For new samples in DepMap, run the ICE version of this task. CCLE2 samples used Agilent targets, so this pipeline should be used instead. The pipelines are identical in terms of their outputs, but the proper targets, baits, and pseudo normal should be used based on how the samples were sequenced.\n",
    "\n",
    "    **ICE_CGA_Production_Analysis_Pipeline_Cell_Lines_copy** (cclf/CGA_Production_Analysis_Pipeline_Cell_Lines_debuggingSnapshot ID: 22) OR\n",
    "\n",
    "\n",
    "    **AGILENT_CGA_Production_Analysis_Pipeline_Cell_Lines** (cclf/CGA_Production_Anablysis_Pipeline_Cell_Lines_debuggingSnapshot ID: 22)\n",
    "\n",
    "*   **common_variant_filter** (breardon/common_variant_filterSnapshot ID: 3)\n",
    "*   **filterMAF_on_CGA_pipeline** (gkugener/filterMAF_on_CGA_pipelineSnapshot ID: 8)\n",
    "*   **aggregateMAFs_selectFields** (ccle_mg/aggregateMAFs_selectFieldsSnapshot ID: 1)\n",
    "\n",
    "This outputs to be downloaded will be saved in the sample set that was run. The output we use for the release is:\n",
    "\n",
    "\n",
    "*   **passedCGA_filteredMAF_aggregated** \n",
    "\n",
    "There are several other tasks in this workspace. In brief:\n",
    "\n",
    "\n",
    "\n",
    "*   **CGA_Production_Analysis_Pipeline_Cell_Lines** (lelagina/CGA_Production_Analysis_Pipeline_Cell_LinesSnapshot ID: 12). This task is the same as the ICE and AGILENT prefixed version above, except that it relied on pulling the baits and targets to use from the metadata stored for the samples. Having AGILENT and ICE versions specified made the uploading and running process easier.\n",
    "*   **SANGER_CGA_Production_Analysis_Pipeline_Cell_Lines** (cclf/CGA_Production_Analysis_Pipeline_Cell_Lines_debuggingSnapshot ID: 22). This task was trying to run the CGA pipeline on the Sanger WES data, using a Sanger pseudo normal. In its current implementation, this task fails to complete for the samples.\n",
    "*   **UNFILTERED_aggregateMAFs_selectFields** (ccle_mg/aggregateMAFs_selectFieldsSnapshot ID: 1). Aggregates the MAF outputted by the CGA cell line pipeline prior to the common variant filter and germline filtering tasks. This can give us insight to which mutations are getting filtered out when. We may want to potentially include this MAF in the release so people can see why certain mutations of interest may be getting filtered out.\n",
    "*   WES_DM_Mutation_Calling_Pipeline_(standard |expensive) (gkugener/WES_DM_Mutation_Calling_PipelineSnapshot ID: 2). This was a previous mutation calling pipeline implemented for CCLE. We do not use this pipeline any more as the CGA pipeline looks better.\n",
    "*   aggregate_filterMAF_CGA (CCLE/aggregate_filterMAF_CGASnapshot ID: 1). An aggregation MAF task that we used in the past. We do not use this task anymore.\n",
    "*   calculate_mutational_burden (breardon/calculate_mutational_burdenSnapshot ID: 21). This task can be used to calculate the mutational rate of the samples. We do not make use of this data in the release although it could be of interest.\n",
    "*   summarizeWigFile (breardon/summarizeWigFileSnapshot ID: 5). CCLF ran this task (might be necessary for the mutational burden task). For our workflow, we do not run it."
   ],
   "metadata": {}
  },
  {
   "cell_type": "markdown",
   "source": [
    "### cleaning workspaces"
   ],
   "metadata": {}
  },
  {
   "cell_type": "code",
   "execution_count": null,
   "source": [
    "doCleanup=True"
   ],
   "outputs": [],
   "metadata": {}
  },
  {
   "cell_type": "code",
   "execution_count": 12,
   "source": [
    "if doCleanup:\n",
    "    print(\"cleaning workspaces\")\n",
    "    torm = await terra.deleteHeavyFiles(WGSWORKSPACE)\n",
    "    h.parrun(['gsutil rm '+i for i in torm], cores=8)\n",
    "    terra.removeFromFailedWorkflows(WGSWORKSPACE, dryrun=False, everythingFor=['Realign_WES_GATK4','Generate_uBAM_File_List','BamToUnmappedRGBams_MC','CGA_WES_CCLE_ICE','CGA_WES_CCLE_AGILENT'])"
   ],
   "outputs": [
    {
     "output_type": "stream",
     "name": "stdout",
     "text": [
      "cleaning workspaces\n",
      "we got 2890 files\n",
      "we might remove more than 2624.765130126GB\n"
     ]
    },
    {
     "output_type": "stream",
     "name": "stderr",
     "text": [
      "/Users/xiaomeng/Desktop/cds/git/genepy/genepy/terra/__init__.py:872: FutureWarning: Comparison of Timestamp with datetime.date is deprecated in order to match the standard library behavior.  In a future version these will be considered non-comparable.Use 'ts == pd.Timestamp(date)' or 'ts.date() == date' instead.\n",
      "  if (val.Failed > 0 or val.configuration in everythingFor) and val.date.date() > pd.to_datetime(maxtime):\n"
     ]
    },
    {
     "output_type": "error",
     "ename": "ValueError",
     "evalue": "issue with the command: b'Fatal Python error: init_import_site: Failed to import the site module\\nPython runtime state: initialized\\nTraceback (most recent call last):\\nTraceback (most recent call last):\\n  File \"/Users/xiaomeng/miniconda3/lib/python3.9/site.py\", line 589, in <module>\\n  File \"/Users/xiaomeng/google-cloud-sdk/platform/gsutil/gsutil\", line 21, in <module>\\nTraceback (most recent call last):\\n  File \"/Users/xiaomeng/google-cloud-sdk/platform/gsutil/gsutil\", line 18, in <module>\\nTraceback (most recent call last):\\n  File \"/Users/xiaomeng/google-cloud-sdk/platform/gsutil/gsutil\", line 21, in <module>\\nTraceback (most recent call last):\\n  File \"/Users/xiaomeng/google-cloud-sdk/platform/gsutil/gsutil\", line 21, in <module>\\nTraceback (most recent call last):\\n  File \"/Users/xiaomeng/google-cloud-sdk/platform/gsutil/gsutil\", line 21, in <module>\\nTraceback (most recent call last):\\n  File \"/Users/xiaomeng/google-cloud-sdk/platform/gsutil/gsutil\", line 21, in <module>\\nRemoving gs://fc-secure-751a10ae-ce60-415d-a837-50b8502a7d33/3e00e07b-3670-4dcb-8336-3bdb69f8b729/WGS_pipeline/71090371-e199-4cff-bd7b-15372e3dffc6/call-PreProcessingForVariantDiscovery_GATK4/PreProcessingForVariantDiscovery_GATK4.PreProcessingForVariantDiscovery_GATK4/40a317bd-3eb5-45b1-ba41-4325127f9887/call-SamToFastqAndBwaMem/shard-0/pipelines-logs/action/9/stderr...\\nRemoving gs://fc-secure-751a10ae-ce60-415d-a837-50b8502a7d33/3e00e07b-3670-4dcb-8336-3bdb69f8b729/WGS_pipeline/71090371-e199-4cff-bd7b-15372e3dffc6/call-CreateTxt/CDS-0e3PRe.txt...\\nRemoving gs://fc-secure-751a10ae-ce60-415d-a837-50b8502a7d33/3e00e07b-3670-4dcb-8336-3bdb69f8b729/WGS_pipeline/71090371-e199-4cff-bd7b-15372e3dffc6/call-CGA_Production_Analysis_Workflow/CGA_WES_CCLE_Characterization_Pipeline_v0.CGA_Production_Analysis_Workflow/d23e9a71-bc33-4216-9f6d-2641129454f3/call-Mutect2_Task/shard-3/pipelines-logs/action/2/stdout...\\nRemoving gs://fc-secure-751a10ae-ce60-415d-a837-50b8502a7d33/3e00e07b-3670-4dcb-8336-3bdb69f8b729/WGS_pipeline/71090371-e199-4cff-bd7b-15372e3dffc6/call-PreProcessingForVariantDiscovery_GATK4/PreProcessingForVariantDiscovery_GATK4.PreProcessingForVariantDiscovery_GATK4/40a317bd-3eb5-45b1-ba41-4325127f9887/call-ApplyBQSR/shard-3/attempt-2/pipelines-logs/action/16/stdout...\\nRemoving gs://fc-secure-751a10ae-ce60-415d-a837-50b8502a7d33/3e00e07b-3670-4dcb-8336-3bdb69f8b729/WGS_pipeline/71090371-e199-4cff-bd7b-15372e3dffc6/call-BamToUnmappedRGBamsWf/BamToUnmappedRGBams.BamToUnmappedRGBamsWf/bdcb39b4-5f15-423c-9d96-53a7b5ef735c/call-ValidateSamFile/shard-2/pipelines-logs/action/9/stdout...\\n/ [1 objects]                                                                   \\r\\nOperation completed over 1 objects.                                              \\n/ [1 objects]                                                                   \\r\\nOperation completed over 1 objects.                                              \\n/ [1 objects]                                                                   \\r/ [1 objects]                                                                   \\r\\nOperation completed over 1 objects.                                              \\n\\nOperation completed over 1 objects.                                              \\n/ [1 objects]                                                                   \\r\\nOperation completed over 1 objects.                                              \\n'",
     "traceback": [
      "\u001b[0;31m---------------------------------------------------------------------------\u001b[0m",
      "\u001b[0;31mValueError\u001b[0m                                Traceback (most recent call last)",
      "\u001b[0;32m/var/folders/z4/g9905z5x4s5cyl27br7_br6h0000gp/T/ipykernel_16801/2993357354.py\u001b[0m in \u001b[0;36m<module>\u001b[0;34m\u001b[0m\n\u001b[1;32m      3\u001b[0m     \u001b[0mtorm\u001b[0m \u001b[0;34m=\u001b[0m \u001b[0;32mawait\u001b[0m \u001b[0mterra\u001b[0m\u001b[0;34m.\u001b[0m\u001b[0mdeleteHeavyFiles\u001b[0m\u001b[0;34m(\u001b[0m\u001b[0mWGSWORKSPACE\u001b[0m\u001b[0;34m)\u001b[0m\u001b[0;34m\u001b[0m\u001b[0;34m\u001b[0m\u001b[0m\n\u001b[1;32m      4\u001b[0m     \u001b[0mh\u001b[0m\u001b[0;34m.\u001b[0m\u001b[0mparrun\u001b[0m\u001b[0;34m(\u001b[0m\u001b[0;34m[\u001b[0m\u001b[0;34m'gsutil rm '\u001b[0m\u001b[0;34m+\u001b[0m\u001b[0mi\u001b[0m \u001b[0;32mfor\u001b[0m \u001b[0mi\u001b[0m \u001b[0;32min\u001b[0m \u001b[0mtorm\u001b[0m\u001b[0;34m]\u001b[0m\u001b[0;34m,\u001b[0m \u001b[0mcores\u001b[0m\u001b[0;34m=\u001b[0m\u001b[0;36m8\u001b[0m\u001b[0;34m)\u001b[0m\u001b[0;34m\u001b[0m\u001b[0;34m\u001b[0m\u001b[0m\n\u001b[0;32m----> 5\u001b[0;31m     \u001b[0mterra\u001b[0m\u001b[0;34m.\u001b[0m\u001b[0mremoveFromFailedWorkflows\u001b[0m\u001b[0;34m(\u001b[0m\u001b[0mWGSWORKSPACE\u001b[0m\u001b[0;34m,\u001b[0m \u001b[0mdryrun\u001b[0m\u001b[0;34m=\u001b[0m\u001b[0;32mFalse\u001b[0m\u001b[0;34m,\u001b[0m \u001b[0meverythingFor\u001b[0m\u001b[0;34m=\u001b[0m\u001b[0;34m[\u001b[0m\u001b[0;34m'Realign_WES_GATK4'\u001b[0m\u001b[0;34m,\u001b[0m\u001b[0;34m'Generate_uBAM_File_List'\u001b[0m\u001b[0;34m,\u001b[0m\u001b[0;34m'BamToUnmappedRGBams_MC'\u001b[0m\u001b[0;34m,\u001b[0m\u001b[0;34m'CGA_WES_CCLE_ICE'\u001b[0m\u001b[0;34m,\u001b[0m\u001b[0;34m'CGA_WES_CCLE_AGILENT'\u001b[0m\u001b[0;34m]\u001b[0m\u001b[0;34m)\u001b[0m\u001b[0;34m\u001b[0m\u001b[0;34m\u001b[0m\u001b[0m\n\u001b[0m",
      "\u001b[0;32m~/Desktop/cds/git/genepy/genepy/terra/__init__.py\u001b[0m in \u001b[0;36mremoveFromFailedWorkflows\u001b[0;34m(workspaceid, maxtime, everythingFor, dryrun)\u001b[0m\n\u001b[1;32m    878\u001b[0m                     \u001b[0;32mexcept\u001b[0m\u001b[0;34m:\u001b[0m\u001b[0;34m\u001b[0m\u001b[0;34m\u001b[0m\u001b[0m\n\u001b[1;32m    879\u001b[0m                         \u001b[0;32mcontinue\u001b[0m\u001b[0;34m\u001b[0m\u001b[0;34m\u001b[0m\u001b[0m\n\u001b[0;32m--> 880\u001b[0;31m                     \u001b[0mdelete_job\u001b[0m\u001b[0;34m(\u001b[0m\u001b[0mworkspaceid\u001b[0m\u001b[0;34m,\u001b[0m\u001b[0mval\u001b[0m\u001b[0;34m.\u001b[0m\u001b[0msubmission_id\u001b[0m\u001b[0;34m,\u001b[0m\u001b[0ma\u001b[0m\u001b[0;34m,\u001b[0m\u001b[0mdryrun\u001b[0m\u001b[0;34m=\u001b[0m\u001b[0mdryrun\u001b[0m\u001b[0;34m)\u001b[0m\u001b[0;34m\u001b[0m\u001b[0;34m\u001b[0m\u001b[0m\n\u001b[0m\u001b[1;32m    881\u001b[0m \u001b[0;34m\u001b[0m\u001b[0m\n\u001b[1;32m    882\u001b[0m \u001b[0;34m\u001b[0m\u001b[0m\n",
      "\u001b[0;32m~/Desktop/cds/git/genepy/genepy/terra/__init__.py\u001b[0m in \u001b[0;36mdelete_job\u001b[0;34m(workspaceid, subid, taskid, DeleteCurrent, dryrun)\u001b[0m\n\u001b[1;32m    851\u001b[0m         \u001b[0mprint\u001b[0m\u001b[0;34m(\u001b[0m\u001b[0mtorm\u001b[0m\u001b[0;34m)\u001b[0m\u001b[0;34m\u001b[0m\u001b[0;34m\u001b[0m\u001b[0m\n\u001b[1;32m    852\u001b[0m       \u001b[0;32melse\u001b[0m\u001b[0;34m:\u001b[0m\u001b[0;34m\u001b[0m\u001b[0;34m\u001b[0m\u001b[0m\n\u001b[0;32m--> 853\u001b[0;31m         \u001b[0mh\u001b[0m\u001b[0;34m.\u001b[0m\u001b[0mparrun\u001b[0m\u001b[0;34m(\u001b[0m\u001b[0;34m[\u001b[0m\u001b[0;34m'gsutil rm '\u001b[0m\u001b[0;34m+\u001b[0m\u001b[0mi\u001b[0m \u001b[0;32mfor\u001b[0m \u001b[0mi\u001b[0m \u001b[0;32min\u001b[0m \u001b[0mtorm\u001b[0m\u001b[0;34m]\u001b[0m\u001b[0;34m,\u001b[0m \u001b[0mcores\u001b[0m\u001b[0;34m=\u001b[0m\u001b[0;36m12\u001b[0m\u001b[0;34m)\u001b[0m\u001b[0;34m\u001b[0m\u001b[0;34m\u001b[0m\u001b[0m\n\u001b[0m\u001b[1;32m    854\u001b[0m \u001b[0;34m\u001b[0m\u001b[0m\n\u001b[1;32m    855\u001b[0m \u001b[0;34m\u001b[0m\u001b[0m\n",
      "\u001b[0;32m~/Desktop/cds/git/genepy/genepy/utils/helper.py\u001b[0m in \u001b[0;36mparrun\u001b[0;34m(cmds, cores, add)\u001b[0m\n\u001b[1;32m    300\u001b[0m             \u001b[0mres\u001b[0m \u001b[0;34m=\u001b[0m \u001b[0msubprocess\u001b[0m\u001b[0;34m.\u001b[0m\u001b[0mrun\u001b[0m\u001b[0;34m(\u001b[0m\u001b[0mexe\u001b[0m\u001b[0;34m,\u001b[0m \u001b[0mcapture_output\u001b[0m\u001b[0;34m=\u001b[0m\u001b[0;32mTrue\u001b[0m\u001b[0;34m,\u001b[0m \u001b[0mshell\u001b[0m\u001b[0;34m=\u001b[0m\u001b[0;32mTrue\u001b[0m\u001b[0;34m)\u001b[0m\u001b[0;34m\u001b[0m\u001b[0;34m\u001b[0m\u001b[0m\n\u001b[1;32m    301\u001b[0m             \u001b[0;32mif\u001b[0m \u001b[0mres\u001b[0m\u001b[0;34m.\u001b[0m\u001b[0mreturncode\u001b[0m \u001b[0;34m!=\u001b[0m \u001b[0;36m0\u001b[0m\u001b[0;34m:\u001b[0m\u001b[0;34m\u001b[0m\u001b[0;34m\u001b[0m\u001b[0m\n\u001b[0;32m--> 302\u001b[0;31m                 \u001b[0;32mraise\u001b[0m \u001b[0mValueError\u001b[0m\u001b[0;34m(\u001b[0m\u001b[0;34m'issue with the command: '\u001b[0m \u001b[0;34m+\u001b[0m \u001b[0mstr\u001b[0m\u001b[0;34m(\u001b[0m\u001b[0mres\u001b[0m\u001b[0;34m.\u001b[0m\u001b[0mstderr\u001b[0m\u001b[0;34m)\u001b[0m\u001b[0;34m)\u001b[0m\u001b[0;34m\u001b[0m\u001b[0;34m\u001b[0m\u001b[0m\n\u001b[0m\u001b[1;32m    303\u001b[0m             \u001b[0mexe\u001b[0m \u001b[0;34m=\u001b[0m \u001b[0;34m''\u001b[0m\u001b[0;34m\u001b[0m\u001b[0;34m\u001b[0m\u001b[0m\n\u001b[1;32m    304\u001b[0m             \u001b[0;32mif\u001b[0m \u001b[0mlen\u001b[0m\u001b[0;34m(\u001b[0m\u001b[0madd\u001b[0m\u001b[0;34m)\u001b[0m \u001b[0;34m!=\u001b[0m \u001b[0;36m0\u001b[0m\u001b[0;34m:\u001b[0m\u001b[0;34m\u001b[0m\u001b[0;34m\u001b[0m\u001b[0m\n",
      "\u001b[0;31mValueError\u001b[0m: issue with the command: b'Fatal Python error: init_import_site: Failed to import the site module\\nPython runtime state: initialized\\nTraceback (most recent call last):\\nTraceback (most recent call last):\\n  File \"/Users/xiaomeng/miniconda3/lib/python3.9/site.py\", line 589, in <module>\\n  File \"/Users/xiaomeng/google-cloud-sdk/platform/gsutil/gsutil\", line 21, in <module>\\nTraceback (most recent call last):\\n  File \"/Users/xiaomeng/google-cloud-sdk/platform/gsutil/gsutil\", line 18, in <module>\\nTraceback (most recent call last):\\n  File \"/Users/xiaomeng/google-cloud-sdk/platform/gsutil/gsutil\", line 21, in <module>\\nTraceback (most recent call last):\\n  File \"/Users/xiaomeng/google-cloud-sdk/platform/gsutil/gsutil\", line 21, in <module>\\nTraceback (most recent call last):\\n  File \"/Users/xiaomeng/google-cloud-sdk/platform/gsutil/gsutil\", line 21, in <module>\\nTraceback (most recent call last):\\n  File \"/Users/xiaomeng/google-cloud-sdk/platform/gsutil/gsutil\", line 21, in <module>\\nRemoving gs://fc-secure-751a10ae-ce60-415d-a837-50b8502a7d33/3e00e07b-3670-4dcb-8336-3bdb69f8b729/WGS_pipeline/71090371-e199-4cff-bd7b-15372e3dffc6/call-PreProcessingForVariantDiscovery_GATK4/PreProcessingForVariantDiscovery_GATK4.PreProcessingForVariantDiscovery_GATK4/40a317bd-3eb5-45b1-ba41-4325127f9887/call-SamToFastqAndBwaMem/shard-0/pipelines-logs/action/9/stderr...\\nRemoving gs://fc-secure-751a10ae-ce60-415d-a837-50b8502a7d33/3e00e07b-3670-4dcb-8336-3bdb69f8b729/WGS_pipeline/71090371-e199-4cff-bd7b-15372e3dffc6/call-CreateTxt/CDS-0e3PRe.txt...\\nRemoving gs://fc-secure-751a10ae-ce60-415d-a837-50b8502a7d33/3e00e07b-3670-4dcb-8336-3bdb69f8b729/WGS_pipeline/71090371-e199-4cff-bd7b-15372e3dffc6/call-CGA_Production_Analysis_Workflow/CGA_WES_CCLE_Characterization_Pipeline_v0.CGA_Production_Analysis_Workflow/d23e9a71-bc33-4216-9f6d-2641129454f3/call-Mutect2_Task/shard-3/pipelines-logs/action/2/stdout...\\nRemoving gs://fc-secure-751a10ae-ce60-415d-a837-50b8502a7d33/3e00e07b-3670-4dcb-8336-3bdb69f8b729/WGS_pipeline/71090371-e199-4cff-bd7b-15372e3dffc6/call-PreProcessingForVariantDiscovery_GATK4/PreProcessingForVariantDiscovery_GATK4.PreProcessingForVariantDiscovery_GATK4/40a317bd-3eb5-45b1-ba41-4325127f9887/call-ApplyBQSR/shard-3/attempt-2/pipelines-logs/action/16/stdout...\\nRemoving gs://fc-secure-751a10ae-ce60-415d-a837-50b8502a7d33/3e00e07b-3670-4dcb-8336-3bdb69f8b729/WGS_pipeline/71090371-e199-4cff-bd7b-15372e3dffc6/call-BamToUnmappedRGBamsWf/BamToUnmappedRGBams.BamToUnmappedRGBamsWf/bdcb39b4-5f15-423c-9d96-53a7b5ef735c/call-ValidateSamFile/shard-2/pipelines-logs/action/9/stdout...\\n/ [1 objects]                                                                   \\r\\nOperation completed over 1 objects.                                              \\n/ [1 objects]                                                                   \\r\\nOperation completed over 1 objects.                                              \\n/ [1 objects]                                                                   \\r/ [1 objects]                                                                   \\r\\nOperation completed over 1 objects.                                              \\n\\nOperation completed over 1 objects.                                              \\n/ [1 objects]                                                                   \\r\\nOperation completed over 1 objects.                                              \\n'"
     ]
    }
   ],
   "metadata": {}
  },
  {
   "cell_type": "markdown",
   "source": [
    "## On Terra"
   ],
   "metadata": {}
  },
  {
   "cell_type": "code",
   "execution_count": null,
   "source": [
    "# TODO: update with latest workspace parameters from our repo"
   ],
   "outputs": [],
   "metadata": {}
  },
  {
   "cell_type": "code",
   "execution_count": 32,
   "source": [
    "print(\"running Terra pipeline\")\n",
    "refwm = dm.WorkspaceManager(WGSWORKSPACE)\n",
    "submission_id = refwm.create_submission(\"WGS_pipeline\", SAMPLESETNAME, 'sample_set', expression='this.samples')\n",
    "await terra.waitForSubmission(WGSWORKSPACE, submission_id)"
   ],
   "outputs": [
    {
     "output_type": "stream",
     "name": "stdout",
     "text": [
      "running Terra pipeline\n",
      "Successfully created submission 9c53f310-42e4-4200-ac12-4f86be55215e.\n"
     ]
    }
   ],
   "metadata": {}
  },
  {
   "cell_type": "code",
   "execution_count": 8,
   "source": [
    "refwm = dm.WorkspaceManager(WGSWORKSPACE)"
   ],
   "outputs": [],
   "metadata": {}
  },
  {
   "cell_type": "code",
   "execution_count": 9,
   "source": [
    "submission_id = refwm.create_submission(\"WGS_aggregate\", 'all')\n",
    "await terra.waitForSubmission(WGSWORKSPACE, submission_id)"
   ],
   "outputs": [
    {
     "output_type": "stream",
     "name": "stdout",
     "text": [
      "Successfully created submission 6cee3dd2-54bd-4e61-b7aa-52e4268b4d34.\n",
      "all\n",
      "0.0 of jobs Succeeded in submission 0.\n"
     ]
    },
    {
     "output_type": "error",
     "ename": "RuntimeError",
     "evalue": "1 failed submission",
     "traceback": [
      "\u001b[0;31m---------------------------------------------------------------------------\u001b[0m",
      "\u001b[0;31mRuntimeError\u001b[0m                              Traceback (most recent call last)",
      "\u001b[0;32m/var/folders/z4/g9905z5x4s5cyl27br7_br6h0000gp/T/ipykernel_7918/3599151902.py\u001b[0m in \u001b[0;36m<module>\u001b[0;34m\u001b[0m\n\u001b[1;32m      1\u001b[0m \u001b[0msubmission_id\u001b[0m \u001b[0;34m=\u001b[0m \u001b[0mrefwm\u001b[0m\u001b[0;34m.\u001b[0m\u001b[0mcreate_submission\u001b[0m\u001b[0;34m(\u001b[0m\u001b[0;34m\"WGS_aggregate\"\u001b[0m\u001b[0;34m,\u001b[0m \u001b[0;34m'all'\u001b[0m\u001b[0;34m)\u001b[0m\u001b[0;34m\u001b[0m\u001b[0;34m\u001b[0m\u001b[0m\n\u001b[0;32m----> 2\u001b[0;31m \u001b[0;32mawait\u001b[0m \u001b[0mterra\u001b[0m\u001b[0;34m.\u001b[0m\u001b[0mwaitForSubmission\u001b[0m\u001b[0;34m(\u001b[0m\u001b[0mWGSWORKSPACE\u001b[0m\u001b[0;34m,\u001b[0m \u001b[0msubmission_id\u001b[0m\u001b[0;34m)\u001b[0m\u001b[0;34m\u001b[0m\u001b[0;34m\u001b[0m\u001b[0m\n\u001b[0m",
      "\u001b[0;32m~/Desktop/cds/git/genepy/genepy/terra/__init__.py\u001b[0m in \u001b[0;36mwaitForSubmission\u001b[0;34m(workspace, submissions, raise_errors)\u001b[0m\n\u001b[1;32m     88\u001b[0m         \u001b[0mprint\u001b[0m\u001b[0;34m(\u001b[0m\u001b[0mstr\u001b[0m\u001b[0;34m(\u001b[0m\u001b[0mdone\u001b[0m \u001b[0;34m/\u001b[0m \u001b[0;34m(\u001b[0m\u001b[0mdone\u001b[0m \u001b[0;34m+\u001b[0m \u001b[0mfailed\u001b[0m\u001b[0;34m)\u001b[0m\u001b[0;34m)\u001b[0m \u001b[0;34m+\u001b[0m \u001b[0;34m\" of jobs Succeeded in submission \"\u001b[0m \u001b[0;34m+\u001b[0m \u001b[0mstr\u001b[0m\u001b[0;34m(\u001b[0m\u001b[0mscount\u001b[0m\u001b[0;34m)\u001b[0m \u001b[0;34m+\u001b[0m \u001b[0;34m\".\"\u001b[0m\u001b[0;34m)\u001b[0m\u001b[0;34m\u001b[0m\u001b[0;34m\u001b[0m\u001b[0m\n\u001b[1;32m     89\u001b[0m   \u001b[0;32mif\u001b[0m \u001b[0mlen\u001b[0m\u001b[0;34m(\u001b[0m\u001b[0mfailed_submission\u001b[0m\u001b[0;34m)\u001b[0m \u001b[0;34m>\u001b[0m \u001b[0;36m0\u001b[0m \u001b[0;32mand\u001b[0m \u001b[0mraise_errors\u001b[0m\u001b[0;34m:\u001b[0m\u001b[0;34m\u001b[0m\u001b[0;34m\u001b[0m\u001b[0m\n\u001b[0;32m---> 90\u001b[0;31m     \u001b[0;32mraise\u001b[0m \u001b[0mRuntimeError\u001b[0m\u001b[0;34m(\u001b[0m\u001b[0mstr\u001b[0m\u001b[0;34m(\u001b[0m\u001b[0mlen\u001b[0m\u001b[0;34m(\u001b[0m\u001b[0mfailed_submission\u001b[0m\u001b[0;34m)\u001b[0m\u001b[0;34m)\u001b[0m \u001b[0;34m+\u001b[0m \u001b[0;34m\" failed submission\"\u001b[0m\u001b[0;34m)\u001b[0m\u001b[0;34m\u001b[0m\u001b[0;34m\u001b[0m\u001b[0m\n\u001b[0m\u001b[1;32m     91\u001b[0m   \u001b[0;32mreturn\u001b[0m \u001b[0mfailed_submission\u001b[0m\u001b[0;34m\u001b[0m\u001b[0;34m\u001b[0m\u001b[0m\n\u001b[1;32m     92\u001b[0m   \u001b[0;31m# print and return well formated data\u001b[0m\u001b[0;34m\u001b[0m\u001b[0;34m\u001b[0m\u001b[0;34m\u001b[0m\u001b[0m\n",
      "\u001b[0;31mRuntimeError\u001b[0m: 1 failed submission"
     ]
    }
   ],
   "metadata": {}
  },
  {
   "cell_type": "markdown",
   "source": [
    "### Save the workflow configurations used"
   ],
   "metadata": {}
  },
  {
   "cell_type": "code",
   "execution_count": null,
   "source": [
    "terra.saveWorkspace(WGSWORKSPACE,'data/'+SAMPLESETNAME+'/WGSconfig/')"
   ],
   "outputs": [],
   "metadata": {}
  },
  {
   "cell_type": "markdown",
   "source": [
    "## On local\n"
   ],
   "metadata": {}
  },
  {
   "cell_type": "markdown",
   "source": [
    "### Copy Number"
   ],
   "metadata": {}
  },
  {
   "cell_type": "code",
   "execution_count": 10,
   "source": [
    "wespriosegs, wgspriosegs = await omics_cn.CCLEPostProcessing(samplesetname=SAMPLESETNAME)"
   ],
   "outputs": [
    {
     "output_type": "stream",
     "name": "stdout",
     "text": [
      "new\n",
      "No dataset version provided. Using version 98.\n",
      "doing wes\n",
      "loading CN from Terra\n",
      "cleaning up\n",
      "loading 1923 rows\n",
      "making gene level copy number\n",
      "downloading gene names from biomart\n"
     ]
    },
    {
     "output_type": "stream",
     "name": "stderr",
     "text": [
      "/Users/xiaomeng/Desktop/cds/git/ccle_processing/depmapomics/utils.py:45: DtypeWarning: Columns (7) have mixed types.Specify dtype option on import or set low_memory=False.\n",
      "  res = _fetchFromServer(ensemble_server, attributes)\n"
     ]
    },
    {
     "output_type": "stream",
     "name": "stdout",
     "text": []
    },
    {
     "output_type": "error",
     "ename": "KeyError",
     "evalue": "'symbol'",
     "traceback": [
      "\u001b[0;31m---------------------------------------------------------------------------\u001b[0m",
      "\u001b[0;31mKeyError\u001b[0m                                  Traceback (most recent call last)",
      "\u001b[0;32m~/miniconda3/lib/python3.9/site-packages/pandas/core/indexes/base.py\u001b[0m in \u001b[0;36mget_loc\u001b[0;34m(self, key, method, tolerance)\u001b[0m\n\u001b[1;32m   3360\u001b[0m             \u001b[0;32mtry\u001b[0m\u001b[0;34m:\u001b[0m\u001b[0;34m\u001b[0m\u001b[0;34m\u001b[0m\u001b[0m\n\u001b[0;32m-> 3361\u001b[0;31m                 \u001b[0;32mreturn\u001b[0m \u001b[0mself\u001b[0m\u001b[0;34m.\u001b[0m\u001b[0m_engine\u001b[0m\u001b[0;34m.\u001b[0m\u001b[0mget_loc\u001b[0m\u001b[0;34m(\u001b[0m\u001b[0mcasted_key\u001b[0m\u001b[0;34m)\u001b[0m\u001b[0;34m\u001b[0m\u001b[0;34m\u001b[0m\u001b[0m\n\u001b[0m\u001b[1;32m   3362\u001b[0m             \u001b[0;32mexcept\u001b[0m \u001b[0mKeyError\u001b[0m \u001b[0;32mas\u001b[0m \u001b[0merr\u001b[0m\u001b[0;34m:\u001b[0m\u001b[0;34m\u001b[0m\u001b[0;34m\u001b[0m\u001b[0m\n",
      "\u001b[0;32m~/miniconda3/lib/python3.9/site-packages/pandas/_libs/index.pyx\u001b[0m in \u001b[0;36mpandas._libs.index.IndexEngine.get_loc\u001b[0;34m()\u001b[0m\n",
      "\u001b[0;32m~/miniconda3/lib/python3.9/site-packages/pandas/_libs/index.pyx\u001b[0m in \u001b[0;36mpandas._libs.index.IndexEngine.get_loc\u001b[0;34m()\u001b[0m\n",
      "\u001b[0;32mpandas/_libs/hashtable_class_helper.pxi\u001b[0m in \u001b[0;36mpandas._libs.hashtable.PyObjectHashTable.get_item\u001b[0;34m()\u001b[0m\n",
      "\u001b[0;32mpandas/_libs/hashtable_class_helper.pxi\u001b[0m in \u001b[0;36mpandas._libs.hashtable.PyObjectHashTable.get_item\u001b[0;34m()\u001b[0m\n",
      "\u001b[0;31mKeyError\u001b[0m: 'symbol'",
      "\nThe above exception was the direct cause of the following exception:\n",
      "\u001b[0;31mKeyError\u001b[0m                                  Traceback (most recent call last)",
      "\u001b[0;32m/var/folders/z4/g9905z5x4s5cyl27br7_br6h0000gp/T/ipykernel_7918/2265091990.py\u001b[0m in \u001b[0;36m<module>\u001b[0;34m\u001b[0m\n\u001b[0;32m----> 1\u001b[0;31m \u001b[0mwespriosegs\u001b[0m\u001b[0;34m,\u001b[0m \u001b[0mwgspriosegs\u001b[0m \u001b[0;34m=\u001b[0m \u001b[0;32mawait\u001b[0m \u001b[0momics_cn\u001b[0m\u001b[0;34m.\u001b[0m\u001b[0mCCLEPostProcessing\u001b[0m\u001b[0;34m(\u001b[0m\u001b[0msamplesetname\u001b[0m\u001b[0;34m=\u001b[0m\u001b[0mSAMPLESETNAME\u001b[0m\u001b[0;34m)\u001b[0m\u001b[0;34m\u001b[0m\u001b[0;34m\u001b[0m\u001b[0m\n\u001b[0m",
      "\u001b[0;32m~/Desktop/cds/git/ccle_processing/depmapomics/copynumbers.py\u001b[0m in \u001b[0;36mCCLEPostProcessing\u001b[0;34m(wesrefworkspace, wgsrefworkspace, samplesetname, AllSamplesetName, my_id, mystorage_id, sheetcreds, sheetname, refsheet_url, todrop, prevgenecn, taiga_dataset, dataset_description, subsetsegs, bamqc, procqc, source_rename, **kwargs)\u001b[0m\n\u001b[1;32m    298\u001b[0m   \u001b[0mpriority\u001b[0m\u001b[0;34m=\u001b[0m\u001b[0mtracker\u001b[0m\u001b[0;34m[\u001b[0m\u001b[0;34m(\u001b[0m\u001b[0mtracker\u001b[0m\u001b[0;34m.\u001b[0m\u001b[0mdatatype\u001b[0m\u001b[0;34m==\u001b[0m\u001b[0;34m'wes'\u001b[0m\u001b[0;34m)\u001b[0m\u001b[0;34m&\u001b[0m\u001b[0;34m(\u001b[0m\u001b[0mtracker\u001b[0m\u001b[0;34m.\u001b[0m\u001b[0mprioritized\u001b[0m \u001b[0;34m==\u001b[0m \u001b[0;36m1\u001b[0m\u001b[0;34m)\u001b[0m\u001b[0;34m]\u001b[0m\u001b[0;34m.\u001b[0m\u001b[0mindex\u001b[0m\u001b[0;34m.\u001b[0m\u001b[0mtolist\u001b[0m\u001b[0;34m(\u001b[0m\u001b[0;34m)\u001b[0m\u001b[0;34m\u001b[0m\u001b[0;34m\u001b[0m\u001b[0m\n\u001b[1;32m    299\u001b[0m   \u001b[0mtodropwes\u001b[0m\u001b[0;34m=\u001b[0m\u001b[0mtodrop\u001b[0m\u001b[0;34m+\u001b[0m\u001b[0mtracker\u001b[0m\u001b[0;34m[\u001b[0m\u001b[0;34m(\u001b[0m\u001b[0mtracker\u001b[0m\u001b[0;34m.\u001b[0m\u001b[0mdatatype\u001b[0m\u001b[0;34m==\u001b[0m\u001b[0;34m'wes'\u001b[0m\u001b[0;34m)\u001b[0m\u001b[0;34m&\u001b[0m\u001b[0;34m(\u001b[0m\u001b[0mtracker\u001b[0m\u001b[0;34m.\u001b[0m\u001b[0mblacklist\u001b[0m \u001b[0;34m==\u001b[0m \u001b[0;36m1\u001b[0m\u001b[0;34m)\u001b[0m\u001b[0;34m]\u001b[0m\u001b[0;34m.\u001b[0m\u001b[0mindex\u001b[0m\u001b[0;34m.\u001b[0m\u001b[0mtolist\u001b[0m\u001b[0;34m(\u001b[0m\u001b[0;34m)\u001b[0m\u001b[0;34m\u001b[0m\u001b[0;34m\u001b[0m\u001b[0m\n\u001b[0;32m--> 300\u001b[0;31m   wessegments, genecn, wesfailed = postProcess(wesrefworkspace, AllSamplesetName if AllSamplesetName else samplesetname,\n\u001b[0m\u001b[1;32m    301\u001b[0m               \u001b[0mtodrop\u001b[0m\u001b[0;34m=\u001b[0m\u001b[0mtodropwes\u001b[0m\u001b[0;34m,\u001b[0m\u001b[0;34m\u001b[0m\u001b[0;34m\u001b[0m\u001b[0m\n\u001b[1;32m    302\u001b[0m               \u001b[0msave_output\u001b[0m\u001b[0;34m=\u001b[0m\u001b[0mfolder\u001b[0m\u001b[0;34m,\u001b[0m\u001b[0;34m\u001b[0m\u001b[0;34m\u001b[0m\u001b[0m\n",
      "\u001b[0;32m~/Desktop/cds/git/ccle_processing/depmapomics/copynumbers.py\u001b[0m in \u001b[0;36mpostProcess\u001b[0;34m(refworkspace, sampleset, save_output, doCleanup, sortby, todrop, priority, genechangethresh, segmentsthresh, ensemblserver, source_rename, useCache)\u001b[0m\n\u001b[1;32m    218\u001b[0m                             ')' for _, i in mybiomart.iterrows()]\n\u001b[1;32m    219\u001b[0m   \u001b[0mmybiomart\u001b[0m \u001b[0;34m=\u001b[0m \u001b[0mmybiomart\u001b[0m\u001b[0;34m.\u001b[0m\u001b[0mdrop_duplicates\u001b[0m\u001b[0;34m(\u001b[0m\u001b[0;34m'gene_name'\u001b[0m\u001b[0;34m,\u001b[0m \u001b[0mkeep\u001b[0m\u001b[0;34m=\u001b[0m\u001b[0;34m\"first\"\u001b[0m\u001b[0;34m)\u001b[0m\u001b[0;34m\u001b[0m\u001b[0;34m\u001b[0m\u001b[0m\n\u001b[0;32m--> 220\u001b[0;31m   \u001b[0mgenecn\u001b[0m \u001b[0;34m=\u001b[0m \u001b[0mmut\u001b[0m\u001b[0;34m.\u001b[0m\u001b[0mtoGeneMatrix\u001b[0m\u001b[0;34m(\u001b[0m\u001b[0mmut\u001b[0m\u001b[0;34m.\u001b[0m\u001b[0mmanageGapsInSegments\u001b[0m\u001b[0;34m(\u001b[0m\u001b[0msegments\u001b[0m\u001b[0;34m)\u001b[0m\u001b[0;34m,\u001b[0m \u001b[0mmybiomart\u001b[0m\u001b[0;34m)\u001b[0m\u001b[0;34m\u001b[0m\u001b[0;34m\u001b[0m\u001b[0m\n\u001b[0m\u001b[1;32m    221\u001b[0m \u001b[0;34m\u001b[0m\u001b[0m\n\u001b[1;32m    222\u001b[0m   \u001b[0;31m# validation step\u001b[0m\u001b[0;34m\u001b[0m\u001b[0;34m\u001b[0m\u001b[0;34m\u001b[0m\u001b[0m\n",
      "\u001b[0;32m~/Desktop/cds/git/genepy/genepy/mutations/__init__.py\u001b[0m in \u001b[0;36mtoGeneMatrix\u001b[0;34m(segments, gene_mapping, style, missingchrom)\u001b[0m\n\u001b[1;32m    333\u001b[0m             \u001b[0mcoef\u001b[0m \u001b[0;34m=\u001b[0m \u001b[0mncoef\u001b[0m\u001b[0;34m\u001b[0m\u001b[0;34m\u001b[0m\u001b[0m\n\u001b[1;32m    334\u001b[0m           \u001b[0mdata\u001b[0m\u001b[0;34m[\u001b[0m\u001b[0mi\u001b[0m\u001b[0;34m,\u001b[0m \u001b[0mk\u001b[0m\u001b[0;34m]\u001b[0m \u001b[0;34m=\u001b[0m \u001b[0mval\u001b[0m \u001b[0;32mif\u001b[0m \u001b[0mstyle\u001b[0m \u001b[0;34m==\u001b[0m \u001b[0;34m\"weighted\"\u001b[0m \u001b[0;32melse\u001b[0m \u001b[0mval\u001b[0m \u001b[0;34m/\u001b[0m \u001b[0mc\u001b[0m\u001b[0;34m\u001b[0m\u001b[0;34m\u001b[0m\u001b[0m\n\u001b[0;32m--> 335\u001b[0;31m   \u001b[0;32mreturn\u001b[0m \u001b[0mpd\u001b[0m\u001b[0;34m.\u001b[0m\u001b[0mDataFrame\u001b[0m\u001b[0;34m(\u001b[0m\u001b[0mdata\u001b[0m\u001b[0;34m=\u001b[0m\u001b[0mdata\u001b[0m\u001b[0;34m,\u001b[0m \u001b[0mindex\u001b[0m\u001b[0;34m=\u001b[0m\u001b[0msamples\u001b[0m\u001b[0;34m,\u001b[0m \u001b[0mcolumns\u001b[0m\u001b[0;34m=\u001b[0m\u001b[0;34m[\u001b[0m\u001b[0mi\u001b[0m\u001b[0;34m[\u001b[0m\u001b[0;34m'symbol'\u001b[0m\u001b[0;34m]\u001b[0m \u001b[0;34m+\u001b[0m \u001b[0;34m' ('\u001b[0m \u001b[0;34m+\u001b[0m \u001b[0mstr\u001b[0m\u001b[0;34m(\u001b[0m\u001b[0mi\u001b[0m\u001b[0;34m[\u001b[0m\u001b[0;34m'ensembl_id'\u001b[0m\u001b[0;34m]\u001b[0m\u001b[0;34m)\u001b[0m \u001b[0;34m+\u001b[0m \u001b[0;34m')'\u001b[0m \u001b[0;32mfor\u001b[0m \u001b[0m_\u001b[0m\u001b[0;34m,\u001b[0m \u001b[0mi\u001b[0m \u001b[0;32min\u001b[0m \u001b[0mgene_mapping\u001b[0m\u001b[0;34m.\u001b[0m\u001b[0miterrows\u001b[0m\u001b[0;34m(\u001b[0m\u001b[0;34m)\u001b[0m\u001b[0;34m]\u001b[0m\u001b[0;34m)\u001b[0m\u001b[0;34m\u001b[0m\u001b[0;34m\u001b[0m\u001b[0m\n\u001b[0m\u001b[1;32m    336\u001b[0m \u001b[0;34m\u001b[0m\u001b[0m\n\u001b[1;32m    337\u001b[0m \u001b[0;34m\u001b[0m\u001b[0m\n",
      "\u001b[0;32m~/Desktop/cds/git/genepy/genepy/mutations/__init__.py\u001b[0m in \u001b[0;36m<listcomp>\u001b[0;34m(.0)\u001b[0m\n\u001b[1;32m    333\u001b[0m             \u001b[0mcoef\u001b[0m \u001b[0;34m=\u001b[0m \u001b[0mncoef\u001b[0m\u001b[0;34m\u001b[0m\u001b[0;34m\u001b[0m\u001b[0m\n\u001b[1;32m    334\u001b[0m           \u001b[0mdata\u001b[0m\u001b[0;34m[\u001b[0m\u001b[0mi\u001b[0m\u001b[0;34m,\u001b[0m \u001b[0mk\u001b[0m\u001b[0;34m]\u001b[0m \u001b[0;34m=\u001b[0m \u001b[0mval\u001b[0m \u001b[0;32mif\u001b[0m \u001b[0mstyle\u001b[0m \u001b[0;34m==\u001b[0m \u001b[0;34m\"weighted\"\u001b[0m \u001b[0;32melse\u001b[0m \u001b[0mval\u001b[0m \u001b[0;34m/\u001b[0m \u001b[0mc\u001b[0m\u001b[0;34m\u001b[0m\u001b[0;34m\u001b[0m\u001b[0m\n\u001b[0;32m--> 335\u001b[0;31m   \u001b[0;32mreturn\u001b[0m \u001b[0mpd\u001b[0m\u001b[0;34m.\u001b[0m\u001b[0mDataFrame\u001b[0m\u001b[0;34m(\u001b[0m\u001b[0mdata\u001b[0m\u001b[0;34m=\u001b[0m\u001b[0mdata\u001b[0m\u001b[0;34m,\u001b[0m \u001b[0mindex\u001b[0m\u001b[0;34m=\u001b[0m\u001b[0msamples\u001b[0m\u001b[0;34m,\u001b[0m \u001b[0mcolumns\u001b[0m\u001b[0;34m=\u001b[0m\u001b[0;34m[\u001b[0m\u001b[0mi\u001b[0m\u001b[0;34m[\u001b[0m\u001b[0;34m'symbol'\u001b[0m\u001b[0;34m]\u001b[0m \u001b[0;34m+\u001b[0m \u001b[0;34m' ('\u001b[0m \u001b[0;34m+\u001b[0m \u001b[0mstr\u001b[0m\u001b[0;34m(\u001b[0m\u001b[0mi\u001b[0m\u001b[0;34m[\u001b[0m\u001b[0;34m'ensembl_id'\u001b[0m\u001b[0;34m]\u001b[0m\u001b[0;34m)\u001b[0m \u001b[0;34m+\u001b[0m \u001b[0;34m')'\u001b[0m \u001b[0;32mfor\u001b[0m \u001b[0m_\u001b[0m\u001b[0;34m,\u001b[0m \u001b[0mi\u001b[0m \u001b[0;32min\u001b[0m \u001b[0mgene_mapping\u001b[0m\u001b[0;34m.\u001b[0m\u001b[0miterrows\u001b[0m\u001b[0;34m(\u001b[0m\u001b[0;34m)\u001b[0m\u001b[0;34m]\u001b[0m\u001b[0;34m)\u001b[0m\u001b[0;34m\u001b[0m\u001b[0;34m\u001b[0m\u001b[0m\n\u001b[0m\u001b[1;32m    336\u001b[0m \u001b[0;34m\u001b[0m\u001b[0m\n\u001b[1;32m    337\u001b[0m \u001b[0;34m\u001b[0m\u001b[0m\n",
      "\u001b[0;32m~/miniconda3/lib/python3.9/site-packages/pandas/core/series.py\u001b[0m in \u001b[0;36m__getitem__\u001b[0;34m(self, key)\u001b[0m\n\u001b[1;32m    940\u001b[0m \u001b[0;34m\u001b[0m\u001b[0m\n\u001b[1;32m    941\u001b[0m         \u001b[0;32melif\u001b[0m \u001b[0mkey_is_scalar\u001b[0m\u001b[0;34m:\u001b[0m\u001b[0;34m\u001b[0m\u001b[0;34m\u001b[0m\u001b[0m\n\u001b[0;32m--> 942\u001b[0;31m             \u001b[0;32mreturn\u001b[0m \u001b[0mself\u001b[0m\u001b[0;34m.\u001b[0m\u001b[0m_get_value\u001b[0m\u001b[0;34m(\u001b[0m\u001b[0mkey\u001b[0m\u001b[0;34m)\u001b[0m\u001b[0;34m\u001b[0m\u001b[0;34m\u001b[0m\u001b[0m\n\u001b[0m\u001b[1;32m    943\u001b[0m \u001b[0;34m\u001b[0m\u001b[0m\n\u001b[1;32m    944\u001b[0m         \u001b[0;32mif\u001b[0m \u001b[0mis_hashable\u001b[0m\u001b[0;34m(\u001b[0m\u001b[0mkey\u001b[0m\u001b[0;34m)\u001b[0m\u001b[0;34m:\u001b[0m\u001b[0;34m\u001b[0m\u001b[0;34m\u001b[0m\u001b[0m\n",
      "\u001b[0;32m~/miniconda3/lib/python3.9/site-packages/pandas/core/series.py\u001b[0m in \u001b[0;36m_get_value\u001b[0;34m(self, label, takeable)\u001b[0m\n\u001b[1;32m   1049\u001b[0m \u001b[0;34m\u001b[0m\u001b[0m\n\u001b[1;32m   1050\u001b[0m         \u001b[0;31m# Similar to Index.get_value, but we do not fall back to positional\u001b[0m\u001b[0;34m\u001b[0m\u001b[0;34m\u001b[0m\u001b[0;34m\u001b[0m\u001b[0m\n\u001b[0;32m-> 1051\u001b[0;31m         \u001b[0mloc\u001b[0m \u001b[0;34m=\u001b[0m \u001b[0mself\u001b[0m\u001b[0;34m.\u001b[0m\u001b[0mindex\u001b[0m\u001b[0;34m.\u001b[0m\u001b[0mget_loc\u001b[0m\u001b[0;34m(\u001b[0m\u001b[0mlabel\u001b[0m\u001b[0;34m)\u001b[0m\u001b[0;34m\u001b[0m\u001b[0;34m\u001b[0m\u001b[0m\n\u001b[0m\u001b[1;32m   1052\u001b[0m         \u001b[0;32mreturn\u001b[0m \u001b[0mself\u001b[0m\u001b[0;34m.\u001b[0m\u001b[0mindex\u001b[0m\u001b[0;34m.\u001b[0m\u001b[0m_get_values_for_loc\u001b[0m\u001b[0;34m(\u001b[0m\u001b[0mself\u001b[0m\u001b[0;34m,\u001b[0m \u001b[0mloc\u001b[0m\u001b[0;34m,\u001b[0m \u001b[0mlabel\u001b[0m\u001b[0;34m)\u001b[0m\u001b[0;34m\u001b[0m\u001b[0;34m\u001b[0m\u001b[0m\n\u001b[1;32m   1053\u001b[0m \u001b[0;34m\u001b[0m\u001b[0m\n",
      "\u001b[0;32m~/miniconda3/lib/python3.9/site-packages/pandas/core/indexes/base.py\u001b[0m in \u001b[0;36mget_loc\u001b[0;34m(self, key, method, tolerance)\u001b[0m\n\u001b[1;32m   3361\u001b[0m                 \u001b[0;32mreturn\u001b[0m \u001b[0mself\u001b[0m\u001b[0;34m.\u001b[0m\u001b[0m_engine\u001b[0m\u001b[0;34m.\u001b[0m\u001b[0mget_loc\u001b[0m\u001b[0;34m(\u001b[0m\u001b[0mcasted_key\u001b[0m\u001b[0;34m)\u001b[0m\u001b[0;34m\u001b[0m\u001b[0;34m\u001b[0m\u001b[0m\n\u001b[1;32m   3362\u001b[0m             \u001b[0;32mexcept\u001b[0m \u001b[0mKeyError\u001b[0m \u001b[0;32mas\u001b[0m \u001b[0merr\u001b[0m\u001b[0;34m:\u001b[0m\u001b[0;34m\u001b[0m\u001b[0;34m\u001b[0m\u001b[0m\n\u001b[0;32m-> 3363\u001b[0;31m                 \u001b[0;32mraise\u001b[0m \u001b[0mKeyError\u001b[0m\u001b[0;34m(\u001b[0m\u001b[0mkey\u001b[0m\u001b[0;34m)\u001b[0m \u001b[0;32mfrom\u001b[0m \u001b[0merr\u001b[0m\u001b[0;34m\u001b[0m\u001b[0;34m\u001b[0m\u001b[0m\n\u001b[0m\u001b[1;32m   3364\u001b[0m \u001b[0;34m\u001b[0m\u001b[0m\n\u001b[1;32m   3365\u001b[0m         \u001b[0;32mif\u001b[0m \u001b[0mis_scalar\u001b[0m\u001b[0;34m(\u001b[0m\u001b[0mkey\u001b[0m\u001b[0;34m)\u001b[0m \u001b[0;32mand\u001b[0m \u001b[0misna\u001b[0m\u001b[0;34m(\u001b[0m\u001b[0mkey\u001b[0m\u001b[0;34m)\u001b[0m \u001b[0;32mand\u001b[0m \u001b[0;32mnot\u001b[0m \u001b[0mself\u001b[0m\u001b[0;34m.\u001b[0m\u001b[0mhasnans\u001b[0m\u001b[0;34m:\u001b[0m\u001b[0;34m\u001b[0m\u001b[0;34m\u001b[0m\u001b[0m\n",
      "\u001b[0;31mKeyError\u001b[0m: 'symbol'"
     ]
    }
   ],
   "metadata": {}
  },
  {
   "cell_type": "markdown",
   "source": [
    "### Achilles CN"
   ],
   "metadata": {}
  },
  {
   "cell_type": "code",
   "execution_count": null,
   "source": [
    "omics_cn.ProcessForAchilles(wespriosegs, wgspriosegs, samplesetname=SAMPLESETNAME,)"
   ],
   "outputs": [],
   "metadata": {}
  },
  {
   "cell_type": "markdown",
   "source": [
    "### Somatic Mutations"
   ],
   "metadata": {}
  },
  {
   "cell_type": "code",
   "execution_count": null,
   "source": [
    "omics_mut.CCLEPostProcessing(samplesetname=SAMPLESETNAME)"
   ],
   "outputs": [],
   "metadata": {}
  },
  {
   "cell_type": "code",
   "execution_count": null,
   "source": [
    "omics_mut.analyzeUnfiltered(allsampleset=\"allcurrent\")"
   ],
   "outputs": [],
   "metadata": {}
  },
  {
   "cell_type": "markdown",
   "source": [
    "### Structural variants"
   ],
   "metadata": {}
  },
  {
   "cell_type": "code",
   "execution_count": null,
   "source": [],
   "outputs": [],
   "metadata": {}
  },
  {
   "cell_type": "markdown",
   "source": [
    "### germline Mutations"
   ],
   "metadata": {}
  },
  {
   "cell_type": "code",
   "execution_count": null,
   "source": [],
   "outputs": [],
   "metadata": {}
  }
 ],
 "metadata": {
  "kernelspec": {
<<<<<<< Updated upstream
   "display_name": "Python 3",
   "language": "python",
   "name": "python3"
=======
   "name": "python3",
   "display_name": "Python 3.9.5 64-bit ('base': conda)"
>>>>>>> Stashed changes
  },
  "latex_envs": {
   "LaTeX_envs_menu_present": true,
   "autoclose": false,
   "autocomplete": true,
   "bibliofile": "biblio.bib",
   "cite_by": "apalike",
   "current_citInitial": 1,
   "eqLabelWithNumbers": true,
   "eqNumInitial": 1,
   "hotkeys": {
    "equation": "Ctrl-E",
    "itemize": "Ctrl-I"
   },
   "labels_anchors": false,
   "latex_user_defs": false,
   "report_style_numbering": false,
   "user_envs_cfg": false
  },
  "notify_time": "5",
  "toc": {
   "base_numbering": 1,
   "nav_menu": {
    "height": "277px",
    "width": "375px"
   },
   "number_sections": true,
   "sideBar": true,
   "skip_h1_title": false,
   "title_cell": "Table of Contents",
   "title_sidebar": "Contents",
   "toc_cell": false,
   "toc_position": {
    "height": "386.4px",
    "left": "762px",
    "top": "202px",
    "width": "198.8px"
   },
   "toc_section_display": true,
   "toc_window_display": true
  },
  "varInspector": {
   "cols": {
    "lenName": 16,
    "lenType": 16,
    "lenVar": 40
   },
   "kernels_config": {
    "python": {
     "delete_cmd_postfix": "",
     "delete_cmd_prefix": "del ",
     "library": "var_list.py",
     "varRefreshCmd": "print(var_dic_list())"
    },
    "r": {
     "delete_cmd_postfix": ") ",
     "delete_cmd_prefix": "rm(",
     "library": "var_list.r",
     "varRefreshCmd": "cat(var_dic_list()) "
    }
   },
   "oldHeight": 577.8,
   "position": {
    "height": "40px",
    "left": "1285.4px",
    "right": "20px",
    "top": "106px",
    "width": "254.8px"
   },
   "types_to_exclude": [
    "module",
    "function",
    "builtin_function_or_method",
    "instance",
    "_Feature"
   ],
   "varInspector_section_display": "none",
   "window_display": false
  },
  "language_info": {
   "name": "python",
   "version": "3.9.5",
   "mimetype": "text/x-python",
   "codemirror_mode": {
    "name": "ipython",
    "version": 3
   },
   "pygments_lexer": "ipython3",
   "nbconvert_exporter": "python",
   "file_extension": ".py"
  },
  "interpreter": {
   "hash": "c43df2cae5c6158b6e53cea1d8cdf493489329b0941ecb076bd167c8d5a6836b"
  }
 },
 "nbformat": 4,
 "nbformat_minor": 2
}