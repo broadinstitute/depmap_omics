{
 "cells": [
  {
   "cell_type": "markdown",
   "metadata": {},
   "source": [
    "# Preproccessing and loading data"
   ]
  },
  {
   "cell_type": "code",
   "execution_count": null,
   "metadata": {},
   "outputs": [],
   "source": [
    "from __future__ import print_function\n",
    "\n",
    "\n",
    "from depmapomics import loading, tracker\n",
    "from depmapomics import mutations as omics_mut\n",
    "from depmapomics import terra as myterra\n",
    "from genepy import terra\n",
    "from genepy import mutations as mut\n",
    "from genepy.utils import helper as h\n",
    "\n",
    "from gsheets import Sheets\n",
    "from taigapy import TaigaClient\n",
    "import dalmatian as dm\n",
    "from bokeh.plotting import output_notebook\n",
    "\n",
    "%load_ext autoreload\n",
    "%autoreload 2\n",
    "\n",
    "tc = TaigaClient()\n",
    "output_notebook()"
   ]
  },
  {
   "cell_type": "markdown",
   "metadata": {},
   "source": [
    "## boot up\n",
    "\n",
    "we are instanciating all the parameters needed for this pipeline to run"
   ]
  },
  {
   "cell_type": "code",
   "execution_count": null,
   "metadata": {},
   "outputs": [],
   "source": [
    "#GENERAL PARAMS\n",
    "isCCLE = True\n",
    "doCleanup = True\n",
    "samplesetname = \"21Q2\"\n",
    "\n",
    "## current age at which to consider the sample already loaded in previous release\n",
    "maxage = '2020-11-01'\n",
    "\n",
    "## genomic annotations (v35)\n",
    "\n",
    "replace = {'T': 'Tumor', 'N': 'Normal', 'm': 'Unknown', 'L': 'Unknown'}\n",
    "\n",
    "# Terra workflow names\n",
    "\n",
    "WGSmethods = [\n",
    "    \"gatk/PreProcessingForVariantDiscovery_GATK4/8\",\n",
    "    \"GP-TAG/Manta_SomaticSV/9\",\n",
    "    \"gkugener/ArrayOfFilesToTxt/1\",\n",
    "    \"vdauwera/BamToUnmappedRGBams/4\",\n",
    "    \"gatk/CNV_Somatic_Pair_Workflow/9\",\n",
    "    \"gkugener/Aggregate_CN_seg_files/2\"\n",
    "]\n",
    "\n",
    "MutationWESmethods=[\n",
    "    \"broadinstitute_gtex/samtofastq_v1-0_BETA/6\",\n",
    "    \"broadinstitute_gtex/star_v1-0_BETA/7\",\n",
    "    \"broadinstitute_gtex/rsem_v1-0_BETA/6\",\n",
    "    \"jkobject/rsem_aggregate_results/5\",\n",
    "    \"jkobject/rnaseq-germline-snps-indels/7\",\n",
    "    \"broadinstitute_gtex/rnaseqc2_v1-0_BETA/2\",\n",
    "    \"gkugener/STAR_fusion/17\",\n",
    "    \"jkobject/aggregate_vcfs/22\",\n",
    "    \"gkugener/Aggregate_files_set/2\",\n",
    "]\n",
    "\n",
    "CNWESmethods = [\n",
    "    \"gatk/PreProcessingForVariantDiscovery_GATK4/8\",\n",
    "    \"GP-TAG/Manta_SomaticSV/9\",\n",
    "    \"gkugener/ArrayOfFilesToTxt/1\",\n",
    "    \"vdauwera/BamToUnmappedRGBams/4\",\n",
    "    \"gatk/CNV_Somatic_Pair_Workflow/9\",\n",
    "    \"gkugener/Aggregate_CN_seg_files/2\"\n",
    "]\n",
    "\n",
    "## version 102\n",
    "ensemblserver = \"http://nov2020.archive.ensembl.org/biomart\" \n",
    "\n",
    "datatype = 'rna'\n",
    "\n",
    "# USER SPECIFIC\n",
    "\n",
    "my_id = '~/.client_secret.json'\n",
    "mystorage_id = \"~/.storage.json\"\n",
    "\n",
    "## do the first steps of https://medium.com/craftsmenltd/from-csv-to-google-sheet-using-python-ef097cb014f9\n",
    "creds = '../.credentials.json'\n",
    "sheets = Sheets.from_files(my_id, mystorage_id)\n",
    "\n",
    "## lines that have issues\n",
    "wrongwes = {'CDS-VnMBYD', 'CDS-TGTiB8', 'CDS-8Ut3sT', 'CDS-BNyMCM', 'CDS-dgxjAa', 'CDS-ZJh6UN', 'CDS-Ip02tY', 'CDS-Rd4nMx', 'CDS-YSRYLi', 'CDS-0qPmaJ','CDS-0aJ4Yh','CDS-0lfqVz','CDS-0pZb0j','CDS-1b1Hxk','CDS-1djAlo','CDS-1p2nnc','CDS-34hKv3','CDS-3EBt51','CDS-3M6Pq9','CDS-3WygAj','CDS-49azaP','CDS-4sr6RL','CDS-5rD8XC','CDS-5wYxZS','CDS-6Yy3Yj','CDS-6da3hu','CDS-6l3V79','CDS-7PFldq','CDS-9XPgHB','CDS-9qDPiX','CDS-B0qAaq','CDS-CMenCH','CDS-CuJ0f8','CDS-Dkl8OF','CDS-Eq9UNX','CDS-FRxdcH','CDS-HNytLD','CDS-Hj3xAa','CDS-IJnjkY','CDS-Ig6N9S','CDS-KQDgIV','CDS-KYkMDa','CDS-KbbgMb','CDS-KgRznV','CDS-L0pDPl','CDS-M8xDMS','CDS-MLJbT2','CDS-MnF3x8','CDS-OCkOqy','CDS-ODmXrP','CDS-OgPf0h','CDS-PYw8ID','CDS-PdUZxY','CDS-QHp4h4','CDS-QU7ftt','CDS-QVhVDT','CDS-QXBhht','CDS-SJq3p4','CDS-Sp18uD','CDS-TpDBjm','CDS-TyWjJs','CDS-UV1pVE','CDS-UnDaBI','CDS-UtrDTK','CDS-W80jkV','CDS-WedVJA','CDS-WfjTcJ','CDS-X3c4UY','CDS-XQkXf4','CDS-XevQNc','CDS-YMIv9D','CDS-YYLKZ0','CDS-agZcmk','CDS-bntBUl','CDS-cAEii6','CDS-cYWYp7','CDS-cyuMYb','CDS-d18Xie','CDS-dpub1O','CDS-eUqT7L','CDS-eowEZF','CDS-fXMRF9','CDS-gIMBax','CDS-gRA4SM','CDS-iEULQm','CDS-ihI7Dp','CDS-iqPqOr','CDS-jqOvtj','CDS-kxNZ5S','CDS-leGxSD','CDS-nby0QM','CDS-no7ysz','CDS-o4dXGr','CDS-oHu1Ik','CDS-pXMN9C','CDS-picEuX','CDS-qZsCuJ','CDS-rLRUbG','CDS-txTRwz','CDS-uQ8nnX','CDS-yPSmxb''CDS-0qPmaJ','CDS-1PXzlf','CDS-1uWUTi','CDS-294bk6','CDS-2JxT1P','CDS-2LFZYm','CDS-2Q2Kia','CDS-2hGt1N','CDS-2lAFkD','CDS-2xSJmZ','CDS-3DHwSX','CDS-3FueNQ','CDS-3VNhFC','CDS-3jIdRa','CDS-3mvYnW','CDS-3pZIvU','CDS-49xzNU','CDS-4BrJr7','CDS-4S6juQ','CDS-4ZOQQF','CDS-4l9BUT','CDS-5H2go6','CDS-5IcijG','CDS-5LNjjI','CDS-5PXB9Y','CDS-5ViPeM','CDS-5bQzF2','CDS-5hbofu','CDS-6EyvRQ','CDS-6Fc0S5','CDS-6PZKz8','CDS-6mq2Or','CDS-6xyqy9','CDS-75psAH','CDS-7JWzyA','CDS-7nEZFG','CDS-7rcFYn','CDS-83LhEq','CDS-8aHSii','CDS-8mpXJa','CDS-8sQWae','CDS-8yHnJv','CDS-8z476r','CDS-96DdrP','CDS-9JpX07','CDS-9M8GNS','CDS-9sg0Pm','CDS-9u5DMn','CDS-9zidMf','CDS-AJMYsd','CDS-AOWMF3','CDS-AjRIMt','CDS-Awmxa5','CDS-BRxHbu','CDS-BnszE4','CDS-Bojgi7','CDS-C3hSav','CDS-C7o0op','CDS-CRPZeK','CDS-CZstO2','CDS-D6mIfI','CDS-DIckeT','CDS-DZMoWW','CDS-Eh7ost','CDS-Eo5oAR','CDS-EpURcL','CDS-EzZEgz','CDS-Fz0HXE','CDS-G1sVsw','CDS-GINQfy','CDS-GnBdHN','CDS-H1oKTL','CDS-H4hPhD','CDS-HEoDm7','CDS-HOVBCg','CDS-HjGCvC','CDS-HkZUmY','CDS-HoW111','CDS-Hv0i3y','CDS-Hw6KuA','CDS-Hx6zuD','CDS-I7bMcd','CDS-I97Uzq','CDS-IGOgCK','CDS-Iu8c04','CDS-IzeN7a','CDS-J3jfZW','CDS-J6kDsZ','CDS-JMfP1M','CDS-JvOeJK','CDS-K2tTmq','CDS-Kswf83','CDS-LCfY0q','CDS-LNTGnh','CDS-LOW19e','CDS-LUm1Vn','CDS-LVeuLY','CDS-LifesX','CDS-LnV7QY','CDS-M1sAGX','CDS-M8aV3P','CDS-MOOIHL','CDS-Md89va','CDS-MhXQX3','CDS-N83rwD','CDS-NBnCDl','CDS-NPG23x','CDS-NXnWiI','CDS-NZsio7','CDS-NjunRu','CDS-O1ShTQ','CDS-O8dfj7','CDS-OLgoE4','CDS-OWJaXi','CDS-OjLMVy','CDS-OnIxUL','CDS-OxQgBw','CDS-P79y6z','CDS-PHI8VT','CDS-PYWxsh','CDS-Pkk9e2','CDS-Pku96X','CDS-PyELSk','CDS-QE7bdY','CDS-Qbfoau','CDS-Ql8GJZ','CDS-QtTdY6','CDS-QxeMJW','CDS-R3txwY','CDS-R6ehaT','CDS-RFBAY6','CDS-RWYJ02','CDS-RnsUHX','CDS-RxQhcq','CDS-SO3AhH','CDS-SvzhGj','CDS-T10Uph','CDS-TCqSJW','CDS-TDblpN','CDS-TSDUCK','CDS-Twv1kD','CDS-Ty3mgt','CDS-UL1jLm','CDS-UVxUrF','CDS-UfC2Dz','CDS-Uru0Mh','CDS-UvBswk','CDS-UxKEaK','CDS-V2ZEuP','CDS-V6Kk5q','CDS-VBr00g','CDS-VCuHjJ','CDS-WAPQGk','CDS-WHZolj','CDS-WP95Oi','CDS-Ww1LC7','CDS-XJDBDj','CDS-Xgu4mi','CDS-XqaEOX','CDS-Y27yfi','CDS-YYd4ww','CDS-YnodyM','CDS-ZGlgTf','CDS-ZMsoXe','CDS-aDUHcI','CDS-aGMcvr','CDS-aXqwpM','CDS-allHxr','CDS-awunD8','CDS-b9sdh9','CDS-bPT1F0','CDS-bdb5iE','CDS-bons31','CDS-c2Sowd','CDS-cBOy2Z','CDS-cKMeDY','CDS-cMvnjL','CDS-ck9vpG','CDS-cmV75B','CDS-ctVpqU','CDS-dJqQ4g','CDS-dNVjOc','CDS-dPlJzz','CDS-dWHWU3','CDS-eGQYXr','CDS-eZg4P8','CDS-fLsYaB','CDS-fRpNQH','CDS-frzvLf','CDS-fs8moU','CDS-g0KUGN','CDS-gCSYjV','CDS-gKIdjs','CDS-gsqqAz','CDS-h4mOdz','CDS-hOI086','CDS-iKXYuH','CDS-iRstNJ','CDS-iX8vqU','CDS-ik526H','CDS-jHqXGP','CDS-kAARUi','CDS-kFiHZk','CDS-kt2Gne','CDS-ktRRkc','CDS-l1OClV','CDS-lSpYo6','CDS-lTogDX','CDS-ldrQm3','CDS-leyYAD','CDS-loy9vi','CDS-m49nRz','CDS-mGHY2S','CDS-mazUYU','CDS-mtMTts','CDS-n7Fqfe','CDS-nOKbmw','CDS-nTW67d','CDS-nYIBWR','CDS-ocw0rP','CDS-ogUnWk','CDS-ohjYlg','CDS-opnGD7','CDS-qIc5x3','CDS-qP2MBQ','CDS-qUtkjN','CDS-qaOoHQ','CDS-qeIIoY','CDS-qv2bpJ','CDS-r5Ym7C','CDS-rLadW7','CDS-rQIdNN','CDS-rQMY3G','CDS-rUs3FP','CDS-rVAuin','CDS-ragHOy','CDS-s7pOQR','CDS-sCWLGL','CDS-sbwn0P','CDS-sieIuO','CDS-soTPPi','CDS-tORJC8','CDS-tPR3fn','CDS-tYXity','CDS-tgnRyK','CDS-u1AlUI','CDS-uGZguG','CDS-w7i5l7','CDS-w8wJvh','CDS-wSV3OM','CDS-wWwBMZ','CDS-wbPtTZ','CDS-wlTAAF','CDS-wpXVQk','CDS-x21VqU','CDS-x7srFK','CDS-xCyamv','CDS-xI8ZAZ','CDS-xIv1KJ','CDS-xKNh7Q','CDS-yCSYHi','CDS-ycD9px','CDS-ydPJEM','CDS-z8Bvmk','CDS-ziEOXJ','CDS-zwAn7G'}\n",
    "\n",
    "#TODO: rerun aggrgate wes with new All (without those bams)\n",
    "deletedwes = {'CDS-phR2eo', 'CDS-5x4qLj', 'CDS-9TDRpv', 'CDS-NUlX3d', 'CDS-yu1s5X', 'CDS-jSUD4f', 'CDS-2jBQ8n', 'CDS-up4Vo5', 'CDS-BNyMCM', 'CDS-vrqu12', 'CDS-c51IFr', 'CDS-VS9XDY', 'CDS-363TYH', 'CDS-k9Qfva', 'CDS-RLVrVE', 'CDS-gLz8Kz', 'CDS-gJupgp', 'CDS-lIXOWR', 'CDS-pBashm', 'CDS-b5ElTm', 'CDS-6i6dRP', 'CDS-g2J7MD', 'CDS-0qPmaJ', 'CDS-59uKc2', 'CDS-ljFuDX', 'CDS-GuKG2u', 'CDS-oRM8DN', 'CDS-IQuj9W', 'CDS-bb2V33', 'CDS-pIy1EQ', 'CDS-6YFjST', 'CDS-T5BcdG', 'CDS-2HO10g'}\n",
    "\n",
    "# samples we know have issues\n",
    "wrongwes_arxspan = {'ACH-001189', 'ACH-002303', 'ACH-002315', 'ACH-002341', 'ACH-001011', 'ACH-001108', 'ACH-001187', 'ACH-002875', 'ACH-002874', \n",
    "\"ACH-001955\", #chordoma lines\n",
    "\"ACH-001956\",\n",
    "\"ACH-001957\"}\n",
    "\n",
    "# samples that failed QC but we still want to keep for now\n",
    "wes_toprefer = {\"CDS-Ckptje\": \"ACH-001672\",\n",
    "\"CDS-pgDmZb\": \"ACH-002291\",\n",
    "\"CDS-mys9Dm\":\"ACH-001955\",\n",
    "\"CDS-Rl87Z1\":\"ACH-001956\",\n",
    "\"CDS-TzQAjG\":\"ACH-001957\"}\n",
    "\n",
    "wesfailed = ['CDS-mys9Dm',\n",
    "             'CDS-8GqFo5',\n",
    "             'CDS-Rl87Z1',\n",
    "             'CDS-H8AM79',\n",
    "             'CDS-C2RlCj',\n",
    "             'CDS-Qcyabl',\n",
    "             'CDS-TzQAjG']\n",
    "\n",
    "wgsfailed = ['CDS-mYOC4j', 'CDS-Wszh2o', 'CDS-3PGQ84']\n",
    "\n",
    "tokeep_specific_hybrid_capture = [\"ACH-001187\", \"ACH-001011\", \"ACH-001108\"]\n",
    "\n",
    "## bucket to save in\n",
    "bucket = \"gs://cclebams/rna/\"\n",
    "\n",
    "# CCLE SPECIFIC\n",
    "\n",
    "## old GP storage buckets\n",
    "\n",
    "## curent GP buckets\n",
    "workspace1=\"terra-broad-cancer-prod/DepMap_WGS\"\n",
    "workspace2=\"terra-broad-cancer-prod/Getz_IBM_CellLines_WGS\"\n",
    "\n",
    "## and their correesponding sample source\n",
    "source1=\"ccle\"\n",
    "source2=\"ibm\"\n",
    "\n",
    "## our working workspace (reference)\n",
    "refworkspace=\"broad-firecloud-ccle/DepMap_WGS_CN\"\n",
    "wescnworkspace=\"broad-firecloud-ccle/DepMap_WES_CN_hg38\"\n",
    "wesmutworkspace=\"broad-firecloud-ccle/DepMap_Mutation_Calling_CGA_pipeline\"\n",
    "\n",
    "## info/metadata google spreadsheets (info about cell lines)\n",
    "refsheet_url = \"https://docs.google.com/spreadsheets/d/1Pgb5fIClGnErEqzxpU7qqX6ULpGTDjvzWwDN8XUJKIY\"\n",
    "privacy_release_url = \"https://docs.google.com/spreadsheets/d/115TUgA1t_mD32SnWAGpW9OKmJ2W5WYAOs3SuSdedpX4\"\n",
    "depmap_pv = \"https://docs.google.com/spreadsheets/d/1uqCOos-T9EMQU7y2ZUw4Nm84opU5fIT1y7jet1vnScE\"\n",
    "depmap_taiga = \"arxspan-cell-line-export-f808\"\n",
    "\n",
    "sampletrackername='ccle sample tracker'\n",
    "\n",
    "## values we need to rename from the GP workspaces\n",
    "extract_to_change = {'from_arxspan_id': 'participant'}\n",
    "\n",
    "## things to match to from the GP workspaces\n",
    "match = ['ACH-','CDS-']"
   ]
  },
  {
   "cell_type": "code",
   "execution_count": null,
   "metadata": {},
   "outputs": [],
   "source": [
    "ccle_refsamples = sheets.get(refsheet_url).sheets[0].to_frame(index_col=0)"
   ]
  },
  {
   "cell_type": "code",
   "execution_count": null,
   "metadata": {},
   "outputs": [],
   "source": []
  },
  {
   "cell_type": "markdown",
   "metadata": {},
   "source": [
    "## Adding new data\n",
    "\n",
    "We are looking for new samples in a range of workspaces.\n",
    "\n",
    "They are quite messy and might contains duplicates, contain broken file paths...\n",
    "\n",
    "- We are thus looking at the bam files one by one and comparing them with our own bams. \n",
    "- We remove broken files, duplicates and add new version of a cell line's bam if we find some."
   ]
  },
  {
   "cell_type": "code",
   "execution_count": null,
   "metadata": {},
   "outputs": [],
   "source": [
    "if isCCLE:\n",
    "    print(\"loading new WGS data\")\n",
    "    samples = loading.loadWGS(samplesetname,workspaces=[workspace1, workspace2],sources=[\"ccle\", \"ibm\"], maxage=maxage, baits='genome', stype=\"wgs\", toraise=toraise)"
   ]
  },
  {
   "cell_type": "code",
   "execution_count": null,
   "metadata": {},
   "outputs": [],
   "source": [
    "if isCCLE:\n",
    "    print(\"uploading samples to the tracker and Terra\")\n",
    "    loading.update(samples, samplesetname, stype=\"wgs\", bucket=\"gs://cclebams/wgs/\", refworkspace,\n",
    "          name_col=\"index\", values=['legacy_bam_filepath', 'legacy_bai_filepath'],\n",
    "          filetypes=['bam', 'bai'],\n",
    "          my_id=my_id,\n",
    "          mystorage_id=mystorage_id,\n",
    "          creds=creds,\n",
    "          sampletrackername=sampletrackername, refsheet_url=refsheet_url)"
   ]
  },
  {
   "cell_type": "markdown",
   "metadata": {},
   "source": [
    "# run the pipeline\n",
    "\n",
    "We are using Dalmatian to send request to Terra, we are running a set of 5 functions To generate the mutation dataset:\n",
    "\n",
    "*   For new samples in DepMap, run the ICE version of this task. CCLE2 samples used Agilent targets, so this pipeline should be used instead. The pipelines are identical in terms of their outputs, but the proper targets, baits, and pseudo normal should be used based on how the samples were sequenced.\n",
    "\n",
    "    **ICE_CGA_Production_Analysis_Pipeline_Cell_Lines_copy** (cclf/CGA_Production_Analysis_Pipeline_Cell_Lines_debuggingSnapshot ID: 22) OR\n",
    "\n",
    "\n",
    "    **AGILENT_CGA_Production_Analysis_Pipeline_Cell_Lines** (cclf/CGA_Production_Anablysis_Pipeline_Cell_Lines_debuggingSnapshot ID: 22)\n",
    "\n",
    "*   **common_variant_filter** (breardon/common_variant_filterSnapshot ID: 3)\n",
    "*   **filterMAF_on_CGA_pipeline** (gkugener/filterMAF_on_CGA_pipelineSnapshot ID: 8)\n",
    "*   **aggregateMAFs_selectFields** (ccle_mg/aggregateMAFs_selectFieldsSnapshot ID: 1)\n",
    "\n",
    "This outputs to be downloaded will be saved in the sample set that was run. The output we use for the release is:\n",
    "\n",
    "\n",
    "*   **passedCGA_filteredMAF_aggregated** \n",
    "\n",
    "There are several other tasks in this workspace. In brief:\n",
    "\n",
    "\n",
    "\n",
    "*   **CGA_Production_Analysis_Pipeline_Cell_Lines** (lelagina/CGA_Production_Analysis_Pipeline_Cell_LinesSnapshot ID: 12). This task is the same as the ICE and AGILENT prefixed version above, except that it relied on pulling the baits and targets to use from the metadata stored for the samples. Having AGILENT and ICE versions specified made the uploading and running process easier.\n",
    "*   **SANGER_CGA_Production_Analysis_Pipeline_Cell_Lines** (cclf/CGA_Production_Analysis_Pipeline_Cell_Lines_debuggingSnapshot ID: 22). This task was trying to run the CGA pipeline on the Sanger WES data, using a Sanger pseudo normal. In its current implementation, this task fails to complete for the samples.\n",
    "*   **UNFILTERED_aggregateMAFs_selectFields** (ccle_mg/aggregateMAFs_selectFieldsSnapshot ID: 1). Aggregates the MAF outputted by the CGA cell line pipeline prior to the common variant filter and germline filtering tasks. This can give us insight to which mutations are getting filtered out when. We may want to potentially include this MAF in the release so people can see why certain mutations of interest may be getting filtered out.\n",
    "*   WES_DM_Mutation_Calling_Pipeline_(standard |expensive) (gkugener/WES_DM_Mutation_Calling_PipelineSnapshot ID: 2). This was a previous mutation calling pipeline implemented for CCLE. We do not use this pipeline any more as the CGA pipeline looks better.\n",
    "*   aggregate_filterMAF_CGA (CCLE/aggregate_filterMAF_CGASnapshot ID: 1). An aggregation MAF task that we used in the past. We do not use this task anymore.\n",
    "*   calculate_mutational_burden (breardon/calculate_mutational_burdenSnapshot ID: 21). This task can be used to calculate the mutational rate of the samples. We do not make use of this data in the release although it could be of interest.\n",
    "*   summarizeWigFile (breardon/summarizeWigFileSnapshot ID: 5). CCLF ran this task (might be necessary for the mutational burden task). For our workflow, we do not run it."
   ]
  },
  {
   "cell_type": "markdown",
   "metadata": {},
   "source": [
    "### cleaning workspaces"
   ]
  },
  {
   "cell_type": "code",
   "execution_count": null,
   "metadata": {},
   "outputs": [],
   "source": [
    "if doCleanup:\n",
    "    print(\"cleaning workspaces\")\n",
    "    torm = asyncio.run(terra.deleteHeavyFiles(refworkspace))\n",
    "    h.parrun(['gsutil rm '+i for i in torm], cores=8)\n",
    "    terra.removeFromFailedWorkflows(refworkspace, dryrun=False, everythingFor)"
   ]
  },
  {
   "cell_type": "markdown",
   "metadata": {},
   "source": [
    "## On Terra"
   ]
  },
  {
   "cell_type": "code",
   "execution_count": null,
   "metadata": {},
   "outputs": [],
   "source": [
    "# TODO: update with latest workspace parameters from our repo"
   ]
  },
  {
   "cell_type": "code",
   "execution_count": null,
   "metadata": {},
   "outputs": [],
   "source": [
    "print(\"running Terra pipeline\")\n",
    "submission_id = refwm.create_submission(\"WGS_pipeline\", samplesetname,'sample_set',expression='this.samples')\n",
    "asyncio.run(terra.waitForSubmission(refworkspace, submission_id))"
   ]
  },
  {
   "cell_type": "code",
   "execution_count": null,
   "metadata": {},
   "outputs": [],
   "source": [
    "submission_id = refwm.create_submission(\"WGS_aggregate\", 'all')\n",
    "asyncio.run(terra.waitForSubmission(refworkspace, submission_id))"
   ]
  },
  {
   "cell_type": "markdown",
   "metadata": {},
   "source": [
    "### Save the workflow configurations used"
   ]
  },
  {
   "cell_type": "code",
   "execution_count": null,
   "metadata": {},
   "outputs": [],
   "source": [
    "terra.saveWorkspace(refworkspace,'data/'+samplesetname+'/WGSconfig/')"
   ]
  },
  {
   "cell_type": "markdown",
   "metadata": {},
   "source": [
    "## On local\n"
   ]
  },
  {
   "cell_type": "markdown",
   "metadata": {},
   "source": [
    "### Remove some datafile to save money"
   ]
  },
  {
   "cell_type": "code",
   "execution_count": null,
   "metadata": {},
   "outputs": [],
   "source": [
    "val = \"\"\n",
    "! gsutil -m rm gs://fc-secure-012d088c-f039-4d36-bde5-ee9b1b76b912/$val/**/call-tumorMM_Task/*.cleaned.bam"
   ]
  },
  {
   "cell_type": "code",
   "execution_count": null,
   "metadata": {},
   "outputs": [],
   "source": [
    "# sometimes it does not work so better check again\n",
    "toremove = [\"readgroup_ubams\",]\n",
    "\n",
    "for val in toremove:\n",
    "    refwm.disable_hound().delete_entity_attributes('sample', toremove)\n",
    "    \n",
    "a = refwm.get_samples()\n",
    "e = []\n",
    "for i in a[toremove].values.tolist():\n",
    "    if i is not np.nan:\n",
    "        e.extend(i)\n",
    "gcp.rmFiles(e)"
   ]
  },
  {
   "cell_type": "code",
   "execution_count": null,
   "metadata": {},
   "outputs": [],
   "source": [
    "### move HG38 to our bucket\n",
    "onlycol = ['internal_bam_filepath', 'internal_bai_filepath']\n",
    "samplesinset= [i['entityName'] for i in refwm.get_entities('sample_set').loc[samplesetname].samples]\n",
    "len(samplesinset), samplesinset"
   ]
  },
  {
   "cell_type": "code",
   "execution_count": null,
   "metadata": {},
   "outputs": [],
   "source": [
    "wgs_newgs = 'gs://cclebams/wgs_hg38/'\n",
    "wgs_res, _ = terra.changeGSlocation(refworkspace, newgs=wgs_newgs, onlycol=onlycol, entity='sample', keeppath=False, dry_run = False, onlysamples=samplesinset)"
   ]
  },
  {
   "cell_type": "code",
   "execution_count": null,
   "metadata": {},
   "outputs": [],
   "source": [
    "ccle_refsamples = sheets.get(refsheet_url).sheets[0].to_frame(index_col=0)"
   ]
  },
  {
   "cell_type": "code",
   "execution_count": null,
   "metadata": {},
   "outputs": [],
   "source": [
    "ccle_refsamples.loc[wgs_res.index.tolist()][['legacy_size', 'legacy_crc32c_hash']] = ccle_refsamples.loc[wgs_res.index.tolist()][['size','crc32c_hash']].values\n",
    "\n",
    "ccle_refsamples.loc[wgs_res.index.tolist()][['internal_bam_filepath','internal_bai_filepath']] = wgs_res[['internal_bam_filepath','internal_bai_filepath']].values\n",
    "\n",
    "ccle_refsamples.loc[wgs_res.index.tolist(),'size'] = [gcp.extractSize(i)[1] for i in gcp.lsFiles(wgs_res['internal_bam_filepath'].tolist(),'-l')]\n",
    "\n",
    "ccle_refsamples.loc[wgs_res.index.tolist(),'crc32c_hash'] = [gcp.extractHash(i) for i in gcp.lsFiles(wgs_res['internal_bam_filepath'].tolist(),'-L')]\n",
    "\n",
    "ccle_refsamples.loc[wgs_res.index.tolist(),'md5_hash'] = gcp.catFiles(refwm.get_samples().loc[samplesinset,'analysis_ready_bam_md5',].tolist(), cut=32)"
   ]
  },
  {
   "cell_type": "markdown",
   "metadata": {},
   "source": [
    "### get QC files"
   ]
  },
  {
   "cell_type": "code",
   "execution_count": null,
   "metadata": {},
   "outputs": [],
   "source": [
    "dataMut = getQC(workspace=cgaworkspace ,only=samplesinset, qcname=[\"gatk_cnv_all_plots\", \"lego_plotter_pngs\", \"copy_number_qc_report\", \"ffpe_OBF_figures\", \"mut_legos_html\", \"oxoG_OBF_figures\", \"tumor_bam_base_distribution_by_cycle_metrics\", \"tumor_bam_converted_oxog_metrics\"])"
   ]
  },
  {
   "cell_type": "code",
   "execution_count": null,
   "metadata": {},
   "outputs": [],
   "source": [
    "dataBamCGA = getQC(workspace=cgaworkspace ,only=samplesinset, qcname=[\"tumor_bam_alignment_summary_metrics\", \"tumor_bam_bait_bias_summary_metrics\", \"tumor_bam_gc_bias_summary_metrics\", \"tumor_bam_hybrid_selection_metrics\", \"tumor_bam_insert_size_histogram\", \"tumor_bam_insert_size_metrics\", \"tumor_bam_pre_adapter_summary_metrics\", \"tumor_bam_quality_by_cycle_metrics\", \"tumor_bam_quality_distribution_metrics\", \"tumor_bam_quality_yield_metrics\"])"
   ]
  },
  {
   "cell_type": "code",
   "execution_count": null,
   "metadata": {},
   "outputs": [],
   "source": [
    "for k,v in dataMut.items():\n",
    "    if k =='nan':\n",
    "        continue\n",
    "    a = ccle_refsamples.loc[k,'processing_qc']\n",
    "    a = '' if a is np.nan else a\n",
    "    ccle_refsamples.loc[k,'processing_qc'] = str(v) + ',' + a\n",
    "for k,v in dataBamCGA.items():\n",
    "    if k =='nan':\n",
    "        continue\n",
    "    a = ccle_refsamples.loc[k,'bam_qc']\n",
    "    a = '' if a is np.nan else a\n",
    "    ccle_refsamples.loc[k,'bam_qc'] = str(v) + ',' + a"
   ]
  },
  {
   "cell_type": "code",
   "execution_count": null,
   "metadata": {},
   "outputs": [],
   "source": [
    "dataBamGATK = getQC(workspace=refworkspace, only=samplesinset, qcname=[\"duplication_metrics\", \"bqsr_report\"])"
   ]
  },
  {
   "cell_type": "code",
   "execution_count": null,
   "metadata": {},
   "outputs": [],
   "source": [
    "dataCN = getQC(workspace=refworkspace,only=samplesinset, qcname=[\"allelic_counts_tumor\",\"delta_MAD_tumor\",\"denoised_MAD_tumor\",\"scaled_delta_MAD_tumor\",\"denoised_copy_ratios_lim_4_plot_tumor\",\"denoised_copy_ratios_plot_tumor\",\"modeled_segments_plot_tumor\"])"
   ]
  },
  {
   "cell_type": "code",
   "execution_count": null,
   "metadata": {},
   "outputs": [],
   "source": [
    "for k,v in dataCN.items():\n",
    "    if k =='nan':\n",
    "        continue\n",
    "    a = ccle_refsamples.loc[k,'processing_qc']\n",
    "    a = '' if a is np.nan else a\n",
    "    ccle_refsamples.loc[k,'processing_qc'] = str(v) + ',' + a\n",
    "for k,v in dataBamGATK.items():\n",
    "    if k =='nan':\n",
    "        continue\n",
    "    a = ccle_refsamples.loc[k,'bam_qc']\n",
    "    a = '' if a is np.nan else a\n",
    "    ccle_refsamples.loc[k,'bam_qc'] = str(v) + ',' + a"
   ]
  },
  {
   "cell_type": "code",
   "execution_count": null,
   "metadata": {},
   "outputs": [],
   "source": [
    "dfToSheet(ccle_refsamples,'ccle sample tracker', secret=creds)"
   ]
  },
  {
   "cell_type": "markdown",
   "metadata": {},
   "source": [
    "# Post processing"
   ]
  },
  {
   "cell_type": "markdown",
   "metadata": {},
   "source": [
    "## postprocessing Copy Number"
   ]
  },
  {
   "cell_type": "code",
   "execution_count": null,
   "metadata": {},
   "outputs": [],
   "source": [
    "gene_rename, protcod_rename, ensembltohgnc = utils.generateGeneNames(ensemble_server=ensemble_server)"
   ]
  },
  {
   "cell_type": "markdown",
   "metadata": {},
   "source": [
    "### loading WES"
   ]
  },
  {
   "cell_type": "code",
   "execution_count": null,
   "metadata": {},
   "outputs": [],
   "source": [
    "print('loading WES from Terra')\n",
    "segments = pp_cn.loadFromGATKAggregation(wesrefwm, sampleset=\"all\", sortby=[\"DepMap_ID\", 'Chromosome', \"Start\", \"End\"], todrop = wrongwes|deletedwes)"
   ]
  },
  {
   "cell_type": "code",
   "execution_count": null,
   "metadata": {},
   "outputs": [],
   "source": [
    "print('making gene level copy number')\n",
    "genecn = mut.toGeneMatrix(mut.manageGapsInSegments(segments), gene_mapping)\n",
    "\n",
    "# validation step\n",
    "print('summary of the gene cn data:')\n",
    "print(genecn.values.min(), genecn.values.mean(), genecn.values.max())\n",
    "mut.checkGeneChangeAccrossAll(genecn, thresh=0.025)\n",
    "wesfailed = mut.checkAmountOfSegments(segments,thresh = 2000)\n",
    "print(\"failed our QC\")\n",
    "print(wesfailed)\n",
    "%store wesfailed\n",
    "\n",
    "segments = segments[~segments.DepMap_ID.isin(set(wesfailed)-set(wes_toprefer.keys()))].reset_index(drop=True)\n",
    "genecn = genecn[~genecn.index.isin(set(wesfailed)-set(wes_toprefer.keys()))]\n",
    "\n",
    "#resetting the source\n",
    "for v in set(segments.DepMap_ID):\n",
    "    segments.loc[segments[segments.DepMap_ID==v].index,'Source']= ccle_refsamples[ccle_refsamples.index==v].source.values[0]\n",
    "segments.Source = segments.Source.replace({'CCLF':'Broad WES', 'CHORDOMA':'Chordoma WES', 'SANGER':'Sanger WES', 'IBM':'Broad WES', np.nan:'Broad WES', 'DEPMAP':'Broad WES', 'IBM WES': \"Broad WES\", 'Broad CCLF':\"Broad WES\"})\n",
    "\n",
    "#saving\n",
    "print('saving files')\n",
    "segments.to_csv('temp/segments_allWES_withreplicates_'+samplesetname+'.csv', index=False)\n",
    "genecn.to_csv('temp/gene_cn_allWES_withreplicates_'+samplesetname+\".csv\")"
   ]
  },
  {
   "cell_type": "code",
   "execution_count": null,
   "metadata": {},
   "outputs": [],
   "source": [
    "segments = pd.read_csv('temp/segments_allWES_withreplicates_'+samplesetname+'.csv')\n",
    "genecn = pd.read_csv('temp/gene_cn_allWES_withreplicates_'+samplesetname+\".csv\", index_col=0)"
   ]
  },
  {
   "cell_type": "code",
   "execution_count": null,
   "metadata": {},
   "outputs": [],
   "source": [
    "if isCCLE:\n",
    "    # selecting the right arxspan id (latest version) \n",
    "    renaming = tracker.removeOlderVersions(names=set(segments.DepMap_ID.tolist()), refsamples=ccle_refsamples[ccle_refsamples.datatype==\"wes\"], arxspan_id=\"arxspan_id\", version=\"version\")\n",
    "\n",
    "    # reparing QC when we have a better duplicate\n",
    "    ref=pd.DataFrame(ccle_refsamples[ccle_refsamples.datatype==\"wes\"]['arxspan_id'])\n",
    "    replace={}\n",
    "    for val in wesfailed:\n",
    "        if val in list(renaming.keys()):\n",
    "            a = ref[ref.arxspan_id==ref.loc[val].arxspan_id].index\n",
    "            for v in a:\n",
    "                if v not in wesfailed:\n",
    "                    replace.update({val:v})\n",
    "                    break\n",
    "    print(len(replace), len(wesfailed))\n",
    "    for k, val in replace.items():\n",
    "        renaming[val] = renaming.pop(k)\n",
    "\n",
    "    print(\"failed: \", wesfailed)\n",
    "    renaming.update(wes_toprefer)\n",
    "\n",
    "    torm=[]\n",
    "    for k, val in renaming.items():\n",
    "        if val in wrongwes_arxspan:\n",
    "            torm.append(k)\n",
    "    print('wrong wes:', torm)\n",
    "    for v in torm:\n",
    "        renaming.pop(v)"
   ]
  },
  {
   "cell_type": "markdown",
   "metadata": {},
   "source": [
    "### QCing and saving replicate level data"
   ]
  },
  {
   "cell_type": "code",
   "execution_count": null,
   "metadata": {},
   "outputs": [],
   "source": [
    "prevgenecn = (2**tc.get(name='depmap-a0ab', file='CCLE_gene_cn'))-1 \n",
    "prevsegments = tc.get(name='depmap-a0ab', file='CCLE_segment_cn')\n",
    "prev = prevgenecn.index.tolist()"
   ]
  },
  {
   "cell_type": "code",
   "execution_count": null,
   "metadata": {},
   "outputs": [],
   "source": [
    "pd.concat([prevgenecn.loc[[\"ACH-002291\"]], genecn.loc[['CDS-SyBYYw',\"CDS-PavpH4\"]])"
   ]
  },
  {
   "cell_type": "code",
   "execution_count": null,
   "metadata": {},
   "outputs": [],
   "source": [
    "np.corrcoef(genecn.loc[['CDS-SyBYYw',\"CDS-PavpH4\", \"CDS-l4hN5a\"]])"
   ]
  },
  {
   "cell_type": "code",
   "execution_count": null,
   "metadata": {},
   "outputs": [],
   "source": [
    "#ccle_refsamples = sheets.get(refsheet_url).sheets[0].to_frame(index_col=0)\n",
    "#normals = ccle_refsamples[ccle_refsamples['primary_disease']=='normal'].index.tolist()\n",
    "#wespriosegments = wespriosegments[~wespriosegments.DepMap_ID.isin(normals)]\n",
    "#wespriogenecn = wespriogenecn.drop(index=normals)\n",
    "\n",
    "# prioritization\n",
    "if isCCLE:\n",
    "    print('renaming')\n",
    "    wespriosegments = segments[segments.DepMap_ID.isin(set(renaming.keys()))].replace({'DepMap_ID': renaming}).reset_index(drop = True)\n",
    "    wespriogenecn = genecn[genecn.index.isin(set(renaming.keys()))].rename(index=renaming)\n",
    "\n",
    "    #saving prio\n",
    "    wespriosegments.to_csv(\"temp/segments_allWES_latest_\"+samplesetname+\".csv\", index=False)\n",
    "    wespriogenecn.to_csv('temp/gene_cn_allWES_latest_'+samplesetname+\".csv\")"
   ]
  },
  {
   "cell_type": "code",
   "execution_count": null,
   "metadata": {},
   "outputs": [],
   "source": [
    "# comparing\n",
    "if isCCLE:\n",
    "    print('comparing to previous version')\n",
    "    #h.compareDfs(priosegments, tc.get(name='depmap-a0ab', file='CCLE_segment_cn'))\n",
    "    h.compareDfs(wespriogenecn, tc.get(name='depmap-a0ab', file='CCLE_gene_cn'))"
   ]
  },
  {
   "cell_type": "markdown",
   "metadata": {},
   "source": [
    "### Loading WGS"
   ]
  },
  {
   "cell_type": "code",
   "execution_count": null,
   "metadata": {},
   "outputs": [],
   "source": [
    "print('loading WGS from Terra')\n",
    "pp_cn.loadFromGATKAggregation(refwm, sampleset=\"all\", sortby=[\"DepMap_ID\", 'Chromosome', \"Start\", \"End\"], todrop = wrongwes|deletedwes)"
   ]
  },
  {
   "cell_type": "code",
   "execution_count": null,
   "metadata": {},
   "outputs": [],
   "source": [
    "print('making gene level copy number')\n",
    "wgsgenecn = mut.toGeneMatrix(mut.manageGapsInSegments(wgssegments), gene_mapping)\n",
    "\n",
    "# validation step\n",
    "print('summary of the gene cn data:')\n",
    "print(wgssegments.Segment_Mean.min(), wespriosegments.Segment_Mean.min())\n",
    "\n",
    "mut.checkGeneChangeAccrossAll(wgsgenecn, thresh=0.025)\n",
    "wgsfailed = mut.checkAmountOfSegments(wgssegments,thresh = 3000)\n",
    "print(\"failed our QC\")\n",
    "print(wgsfailed)\n",
    "%store wgsfailed\n",
    "\n",
    "#removing failed samples\n",
    "wgssegments = wgssegments[~wgssegments.DepMap_ID.isin(wgsfailed)].reset_index(drop=True)\n",
    "wgsgenecn = wgsgenecn[~wgsgenecn.index.isin(wgsfailed)]\n",
    "\n",
    "#saving\n",
    "print('saving files')\n",
    "wgssegments.to_csv('temp/segments_allWGS_withreplicates_'+samplesetname+'.csv', index=False)\n",
    "wgsgenecn.to_csv('temp/gene_cn_allWGS_withreplicates_'+samplesetname+\".csv\")"
   ]
  },
  {
   "cell_type": "code",
   "execution_count": null,
   "metadata": {},
   "outputs": [],
   "source": [
    "wgssegments = pd.read_csv('temp/segments_allWGS_withreplicates_'+samplesetname+'.csv')\n",
    "wgsgenecn = pd.read_csv('temp/gene_cn_allWGS_withreplicates_'+samplesetname+\".csv\", index_col=0)"
   ]
  },
  {
   "cell_type": "code",
   "execution_count": null,
   "metadata": {},
   "outputs": [],
   "source": [
    "if isCCLE:\n",
    "    # selecting the right arxspan id (latest version) \n",
    "    wgsrenaming = tracker.removeOlderVersions(names = set(wgssegments['DepMap_ID']), refsamples = ccle_refsamples[ccle_refsamples.datatype==\"wgs\"], arxspan_id = \"arxspan_id\", version=\"version\")\n",
    "    # reparing QC when we have a better duplicate\n",
    "    ref=pd.DataFrame(ccle_refsamples[ccle_refsamples.datatype==\"wgs\"]['arxspan_id'])\n",
    "    replace={}\n",
    "    for val in wgsfailed:\n",
    "        if val in list(wgsrenaming.keys()):\n",
    "            a = ref[ref.arxspan_id==ref.loc[val].arxspan_id].index\n",
    "            for v in a:\n",
    "                if v not in wgsfailed:\n",
    "                    replace.update({val:v})\n",
    "                    break\n",
    "    print(len(replace))\n",
    "    for k, val in replace.items():\n",
    "        wgsrenaming[val] = wgsrenaming.pop(k)"
   ]
  },
  {
   "cell_type": "markdown",
   "metadata": {},
   "source": [
    "### Saving and merging CN"
   ]
  },
  {
   "cell_type": "code",
   "execution_count": null,
   "metadata": {},
   "outputs": [],
   "source": [
    "if isCCLE:\n",
    "    #renaming\n",
    "    print('renaming')\n",
    "    wgspriosegments = wgssegments[wgssegments.DepMap_ID.isin(set(wgsrenaming.keys()))].replace({'DepMap_ID':wgsrenaming}).reset_index(drop=True)\n",
    "    wgspriogenecn = wgsgenecn[wgsgenecn.index.isin(set(wgsrenaming.keys()))].rename(index=wgsrenaming)\n",
    "    # saving prio\n",
    "    wgspriosegments.to_csv(\"temp/segments_allWGS_latest_\"+samplesetname+\".csv\", index=False)\n",
    "    wgspriogenecn.to_csv('temp/gene_cn_allWGS_latest_'+samplesetname+\".csv\")"
   ]
  },
  {
   "cell_type": "code",
   "execution_count": null,
   "metadata": {},
   "outputs": [],
   "source": [
    "if isCCLE:\n",
    "    print('comparing to previous version')\n",
    "    #h.compareDfs(priosegments, tc.get(name='depmap-a0ab', file='CCLE_segment_cn'))\n",
    "    h.compareDfs(wgspriogenecn, tc.get(name='depmap-a0ab', file='CCLE_gene_cn'))"
   ]
  },
  {
   "cell_type": "code",
   "execution_count": null,
   "metadata": {},
   "outputs": [],
   "source": [
    "#adding to the sample tracker the sequencing that were selected and the ones that failed QC\n",
    "ccle_refsamples = sheets.get(refsheet_url).sheets[0].to_frame(index_col=0)\n",
    "ccle_refsamples.loc[ccle_refsamples[ccle_refsamples.datatype.isin(['wes',\"wgs\"])].index, samplesetname]=0\n",
    "selected = {j:i for i,j in renaming.items()}\n",
    "selected.update({j:i for i,j in wgsrenaming.items()})\n",
    "len(selected)\n",
    "ccle_refsamples.loc[selected.values(),samplesetname]=1\n",
    "ccle_refsamples.loc[list(wesfailed)+list(wgsfailed),'low_quality']=1\n",
    "dfToSheet(ccle_refsamples,'ccle sample tracker', secret=creds)"
   ]
  },
  {
   "cell_type": "markdown",
   "metadata": {},
   "source": [
    "### Comparison and merging with WES"
   ]
  },
  {
   "cell_type": "code",
   "execution_count": null,
   "metadata": {},
   "outputs": [],
   "source": [
    "ind = set(wespriogenecn.index) & set(wgspriogenecn.index)\n",
    "cols = set(wespriogenecn.columns) & set(wgspriogenecn.columns)\n",
    "ge = np.log2(1+wespriogenecn[cols])\n",
    "ce = np.log2(1+wgspriogenecn[cols])\n",
    "corr={}\n",
    "for val in ind:\n",
    "    corr[val] = pearsonr(ge.loc[val],ce.loc[val])[0]"
   ]
  },
  {
   "cell_type": "code",
   "execution_count": null,
   "metadata": {},
   "outputs": [],
   "source": [
    "for k,v in corr.items():\n",
    "    if v<0.5:\n",
    "        print(k)\n",
    "        print(set(wgspriosegments[wgspriosegments.DepMap_ID==k].Source), set(wespriosegments[wespriosegments.DepMap_ID==k].Source))\n",
    "        \n",
    "a = np.array(list(corr.values()))\n",
    "sns.kdeplot(a)\n",
    "plt.show()\n",
    "sns.scatterplot(x=ge.loc[ind].values.ravel()[:100000],y=ce.loc[ind].values.ravel()[:100000],)\n",
    "plt.show()\n",
    "sns.kdeplot(data=np.array([ge.loc[ind].values.ravel()[:100000], ce.loc[ind].values.ravel()[:100000]]).T, fill=True)\n",
    "plt.show()"
   ]
  },
  {
   "cell_type": "code",
   "execution_count": null,
   "metadata": {},
   "outputs": [],
   "source": [
    "#merging WES/WGS\n",
    "mergedsegments =  wgspriosegments.append(wespriosegments[~wespriosegments.DepMap_ID.isin(set(wgspriosegments.DepMap_ID))])[['DepMap_ID', 'Chromosome', 'Start', 'End', 'Segment_Mean', 'Num_Probes', 'Status', 'Source']]\n",
    "mergedgenecn =  wgspriogenecn.append(wespriogenecn[~wespriogenecn.index.isin(set(wgspriogenecn.index))])\n",
    "\n",
    "mergedgenecn.to_csv('temp/gene_cn_all_merged_'+samplesetname+\".csv\")\n",
    "mergedsegments.to_csv('temp/segments_all_merged_'+samplesetname+\".csv\",index=False)"
   ]
  },
  {
   "cell_type": "markdown",
   "metadata": {},
   "source": [
    "## postprocessing Mutations\n",
    "\n",
    "\n",
    "Here, rather than rerunning the entire analysis, because we know we are adding only WES samples, we can download the previous release's MAF, add the samples, update any annotations, and perform any global filters at the end.\n",
    "\n",
    "First we need to do an additional step of filtering on coverage and number \n",
    "\n",
    "- readMutations\n",
    "- createSNPs\n",
    "- addToMainMutation\n",
    "- filterAllelicFraction\n",
    "- filterMinCoverage\n",
    "- mergeAnnotations\n",
    "- addAnnotation\n",
    "- maf_add_variant_annotations\n",
    "- mutation_maf_to_binary_matrix (x3)"
   ]
  },
  {
   "cell_type": "code",
   "execution_count": null,
   "metadata": {},
   "outputs": [],
   "source": [
    "wesres = dm.WorkspaceManager(wesmutworkspace)"
   ]
  },
  {
   "cell_type": "markdown",
   "metadata": {},
   "source": [
    "### WES Somatic"
   ]
  },
  {
   "cell_type": "code",
   "execution_count": null,
   "metadata": {},
   "outputs": [],
   "source": [
    "wesres.update_sample_set('all', wesres.get_samples().index.tolist())"
   ]
  },
  {
   "cell_type": "code",
   "execution_count": null,
   "metadata": {},
   "outputs": [],
   "source": [
    "filtered = wesres.get_sample_sets().loc['all','filtered_CGA_MAF_aggregated']\n",
    "! gsutil cp $filtered \"temp/mutation_filtered_terra_merged.txt\"\n",
    "mutations = pd.read_csv('temp/mutation_filtered_terra_merged.txt',sep='\\t') \n",
    "print(mutations.columns[:10])\n",
    "mutations = mutations.rename(columns={\"i_ExAC_AF\":\"ExAC_AF\",\"Tumor_Sample_Barcode\":'DepMap_ID',\"Tumor_Seq_Allele2\":\"Tumor_Allele\"}).drop(columns=['Center','Tumor_Seq_Allele1'])\n",
    "mutations['CGA_WES_AC'] = [str(i[0]) + ':' + str(i[1]) for i in np.nan_to_num(mutations[['t_alt_count','t_ref_count']].values,0).astype(int)]\n",
    "mutations = mutations[~mutations['DepMap_ID'].isin(wrong|deletedwes)]\n",
    "#renaming = tracker.removeOlderVersions(names = set(mutations['DepMap_ID']), refsamples = wescgawm.get_samples(), arxspan_id = \"arxspan_id\", version=\"version\")"
   ]
  },
  {
   "cell_type": "code",
   "execution_count": null,
   "metadata": {},
   "outputs": [],
   "source": [
    "mutations = mut.filterCoverage(mutations, loc=['CGA_WES_AC'], sep=':',cov=2)\n",
    "mutations = mut.filterAllelicFraction(mutations, loc=['CGA_WES_AC'], sep=':',frac=0.1)\n",
    "mutations = omics_mut.addAnnotation(mutations, NCBI_Build='37', Strand=\"+\")\n",
    "mutations = omics_mut.annotateLikelyImmortalized(mutations, TCGAlocs = ['TCGAhsCnt',\n",
    "'COSMIChsCnt'], max_recurrence=0.05 ,min_tcga_true_cancer=5)\n",
    "mutations.to_csv('temp/wes_somatic_mutations_withduplicates_'+samplesetname+'.csv', index=False)"
   ]
  },
  {
   "cell_type": "code",
   "execution_count": null,
   "metadata": {},
   "outputs": [],
   "source": [
    "mutations = pd.read_csv('temp/wes_somatic_mutations_withduplicates_'+samplesetname+'.csv')"
   ]
  },
  {
   "cell_type": "code",
   "execution_count": null,
   "metadata": {},
   "outputs": [],
   "source": [
    "#TODO: Count the total number of mutations per cell line, split by type (SNP, INS, DEL)\n",
    "#TODO: Count the total number of mutations observed by position"
   ]
  },
  {
   "cell_type": "code",
   "execution_count": null,
   "metadata": {},
   "outputs": [],
   "source": [
    "%store -r failed \n",
    "failed"
   ]
  },
  {
   "cell_type": "code",
   "execution_count": null,
   "metadata": {},
   "outputs": [],
   "source": [
    "# based on QC from the CN pipeline: \n",
    "#TODO: in the future merge QC results from mutations/ remapping & CN to filter wrong \n",
    "priomutations = mutations[mutations.DepMap_ID.isin(renaming.keys())].replace({'DepMap_ID':renaming})"
   ]
  },
  {
   "cell_type": "markdown",
   "metadata": {},
   "source": [
    "### WGS Somatic"
   ]
  },
  {
   "cell_type": "code",
   "execution_count": null,
   "metadata": {},
   "outputs": [],
   "source": [
    "res = cgawm.get_sample_sets().loc[\"allcurrent\"]\n",
    "filtered = res['filtered_CGA_MAF_aggregated']\n",
    "! gsutil cp $filtered \"temp/mutation_filtered_terra_merged_wgs.txt\"\n",
    "wgsmutations = pd.read_csv('temp/mutation_filtered_terra_merged_wgs.txt',sep='\\t') \n",
    "print(wgsmutations.columns[:10])\n",
    "wgsmutations = wgsmutations.rename(columns={\"i_ExAC_AF\":\"ExAC_AF\",\"Tumor_Sample_Barcode\":'DepMap_ID',\"Tumor_Seq_Allele2\":\"Tumor_Allele\"}).drop(columns=['Center','Tumor_Seq_Allele1'])\n",
    "wgsmutations = omics_mut.annotateLikelyImmortalized(wgsmutations, TCGAlocs = ['TCGAhsCnt', 'COSMIChsCnt'], max_recurrence=0.05 ,min_tcga_true_cancer=5)\n",
    "\n",
    "wgsmutations['CGA_WES_AC'] = [str(i[0]) + ':' + str(i[1]) for i in np.nan_to_num(wgsmutations[['t_alt_count','t_ref_count']].values,0).astype(int)]\n",
    "\n",
    "wgsmutations = mut.filterCoverage(wgsmutations, loc=['CGA_WES_AC'], sep=':',cov=2)\n",
    "wgsmutations = mut.filterAllelicFraction(wgsmutations, loc=['CGA_WES_AC'], sep=':',frac=0.1)\n",
    "wgsmutations = omics_mut.addAnnotation(wgsmutations, NCBI_Build='37', Strand=\"+\")\n",
    "\n",
    "wgsmutations = wgsmutations[wgsmutations.DepMap_ID.isin(wgsrenaming.keys())].replace({'DepMap_ID':wgsrenaming})\n",
    "\n",
    "wgsmutations.to_csv('temp/wgs_somatic_mutations_'+samplesetname+'.csv',index=None)"
   ]
  },
  {
   "cell_type": "code",
   "execution_count": null,
   "metadata": {},
   "outputs": [],
   "source": [
    "h.dups(priomutations.Genome_Change+priomutations.DepMap_ID)"
   ]
  },
  {
   "cell_type": "code",
   "execution_count": null,
   "metadata": {},
   "outputs": [],
   "source": [
    "wgsmutations = pd.read_csv('temp/wgs_somatic_mutations_'+samplesetname+'.csv')"
   ]
  },
  {
   "cell_type": "markdown",
   "metadata": {},
   "source": [
    "### Merge [WES / WGS exonic] somatic"
   ]
  },
  {
   "cell_type": "code",
   "execution_count": null,
   "metadata": {},
   "outputs": [],
   "source": [
    "toadd = set(wgsmutations.DepMap_ID) - set(priomutations.DepMap_ID)\n",
    "priomutations = priomutations.append(wgsmutations[wgsmutations.DepMap_ID.isin(toadd)]).reset_index(drop = True)\n",
    "#normals = set(ccle_refsamples[ccle_refsamples.primary_disease==\"normal\"].arxspan_id)\n",
    "#mutations = mutations[~mutations.DepMap_ID.isin(normals)]\n",
    "priomutations.to_csv('temp/wes_somatic_mutations_all_'+samplesetname+'.csv', index=False)"
   ]
  },
  {
   "cell_type": "code",
   "execution_count": null,
   "metadata": {},
   "outputs": [],
   "source": [
    "priomutations = pd.read_csv('temp/wes_somatic_mutations_all_'+samplesetname+'.csv')"
   ]
  },
  {
   "cell_type": "markdown",
   "metadata": {},
   "source": [
    "### making mutations matrices"
   ]
  },
  {
   "cell_type": "code",
   "execution_count": null,
   "metadata": {},
   "outputs": [],
   "source": [
    "# binary mutations matrices\n",
    "mut.mafToMat(priomutations[(priomutations.isDeleterious) ]).astype(int).T.to_csv('temp/wes_somatic_mutations_deleterious_boolmatrix.csv')\n",
    "mut.mafToMat(priomutations[~(priomutations.isDeleterious | priomutations.isCOSMIChotspot | priomutations.isTCGAhotspot | priomutations['Variant_Classification']=='Silent') ]).astype(int).T.to_csv('temp/wes_somatic_mutations_other_boolmatrix.csv')\n",
    "mut.mafToMat(priomutations[(priomutations.isCOSMIChotspot | priomutations.isTCGAhotspot)]).astype(int).T.to_csv('temp/wes_somatic_mutations_hotspot_boolmatrix.csv')"
   ]
  },
  {
   "cell_type": "code",
   "execution_count": null,
   "metadata": {},
   "outputs": [],
   "source": [
    "# genotyped mutations matrices\n",
    "mut.mafToMat(priomutations[(priomutations.isDeleterious)], mode=\"genotype\", minfreqtocall=0.05).T.to_csv('temp/wes_somatic_mutations_deleterious_matrix.csv')\n",
    "mut.mafToMat(priomutations[~(priomutations.isDeleterious | priomutations.isCOSMIChotspot | priomutations.isTCGAhotspot | priomutations['Variant_Classification']=='Silent')], mode=\"genotype\", minfreqtocall=0.05).T.to_csv('temp/wes_somatic_mutations_other_matrix.csv')\n",
    "mut.mafToMat(priomutations[(priomutations.isCOSMIChotspot | priomutations.isTCGAhotspot)], mode=\"genotype\", minfreqtocall=0.05).T.to_csv('temp/wes_somatic_mutations_hotspot_matrix.csv')"
   ]
  },
  {
   "cell_type": "markdown",
   "metadata": {},
   "source": [
    "### adding legacy datasets"
   ]
  },
  {
   "cell_type": "code",
   "execution_count": null,
   "metadata": {},
   "outputs": [],
   "source": [
    "legacy_hybridcapture = tc.get(name='mutations-da6a', file='legacy_hybridcapture_somatic_mutations').drop(columns=['Unnamed: 0',\"Tumor_Sample_Barcode\"]).rename(columns={'Tumor_Seq_Allele1':'Tumor_Allele'})\n",
    "legacy_raindance = tc.get(name='mutations-da6a', file='legacy_raindance_somatic_mutations').drop(columns=['Unnamed: 0',\"Tumor_Sample_Barcode\"]).rename(columns={'Tumor_Seq_Allele1':'Tumor_Allele'})\n",
    "legacy_rna = tc.get(name='mutations-da6a', file='legacy_rna_somatic_mutations').drop(columns=['Unnamed: 0',\"Tumor_Sample_Barcode\"]).rename(columns={'Tumor_Seq_Allele1':'Tumor_Allele'})\n",
    "legacy_wes_sanger = tc.get(name='mutations-da6a', file='legacy_wes_sanger_somatic_mutations').drop(columns=['Unnamed: 0',\"Tumor_Sample_Barcode\"]).rename(columns={'Tumor_Seq_Allele1':'Tumor_Allele'})\n",
    "legacy_wgs_exoniconly = tc.get(name='mutations-da6a', file='legacy_wgs_exoniconly_somatic_mutations').drop(columns=['Unnamed: 0',\"Tumor_Sample_Barcode\"]).rename(columns={'Tumor_Seq_Allele1':'Tumor_Allele'})"
   ]
  },
  {
   "cell_type": "markdown",
   "metadata": {},
   "source": [
    "### solving issues with the legacy datasets"
   ]
  },
  {
   "cell_type": "code",
   "execution_count": null,
   "metadata": {},
   "outputs": [],
   "source": [
    "legacy_wgs_exoniconly.loc[legacy_wgs_exoniconly[legacy_wgs_exoniconly['Genome_Change'].isna()].index, 'Genome_Change'] = ['g.chr'+str(i.Chromosome)+\":\"+str(i.Start_position)+i.Reference_Allele+\">\"+i.Tumor_Allele for _, i in legacy_wgs_exoniconly[legacy_wgs_exoniconly['Genome_Change'].isna()].iterrows()]\n",
    "legacy_wgs_exoniconly['t_alt_count'] = legacy_wgs_exoniconly.WGS_AC.str.split(':').str[0].astype(int)\n",
    "legacy_wgs_exoniconly['t_ref_count'] = legacy_wgs_exoniconly.WGS_AC.str.split(':').str[1].astype(int)\n",
    "legacy_wgs_exoniconly['tumor_f'] = legacy_wgs_exoniconly['t_alt_count'] / (legacy_wgs_exoniconly['t_ref_count'] + legacy_wgs_exoniconly['t_alt_count'])"
   ]
  },
  {
   "cell_type": "code",
   "execution_count": null,
   "metadata": {},
   "outputs": [],
   "source": [
    "legacy_wes_sanger.loc[legacy_wes_sanger[legacy_wes_sanger['Genome_Change'].isna()].index, 'Genome_Change'] = ['g.chr'+str(i.Chromosome)+\":\"+str(i.Start_position)+i.Reference_Allele+\">\"+i.Tumor_Allele for _, i in legacy_wes_sanger[legacy_wes_sanger['Genome_Change'].isna()].iterrows()]\n",
    "legacy_wes_sanger['t_alt_count'] = legacy_wes_sanger.SangerWES_AC.str.split(':').str[0].astype(int)\n",
    "legacy_wes_sanger['t_ref_count'] = legacy_wes_sanger.SangerWES_AC.str.split(':').str[1].astype(int)\n",
    "legacy_wes_sanger['tumor_f'] = legacy_wes_sanger['t_alt_count'] / (legacy_wes_sanger['t_ref_count'] + legacy_wes_sanger['t_alt_count'])"
   ]
  },
  {
   "cell_type": "code",
   "execution_count": null,
   "metadata": {},
   "outputs": [],
   "source": [
    "legacy_raindance.loc[legacy_raindance[legacy_raindance['Genome_Change'].isna()].index, 'Genome_Change'] = ['g.chr'+str(i.Chromosome)+\":\"+str(i.Start_position)+i.Reference_Allele+\">\"+i.Tumor_Allele for _, i in legacy_raindance[legacy_raindance['Genome_Change'].isna()].iterrows()]\n",
    "legacy_raindance['t_alt_count'] = legacy_raindance.RD_AC.str.split(':').str[0].astype(int)\n",
    "legacy_raindance['t_ref_count'] = legacy_raindance.RD_AC.str.split(':').str[1].astype(int)\n",
    "legacy_raindance['tumor_f'] = legacy_raindance['t_alt_count'] / (legacy_raindance['t_ref_count'] + legacy_raindance['t_alt_count'])"
   ]
  },
  {
   "cell_type": "code",
   "execution_count": null,
   "metadata": {},
   "outputs": [],
   "source": [
    "legacy_hybridcapture.loc[legacy_hybridcapture[legacy_hybridcapture['Variant_Classification'].isna()].index,'Variant_Classification']='Missense_Mutation'\n",
    "legacy_hybridcapture.loc[legacy_hybridcapture[legacy_hybridcapture['Genome_Change'].isna()].index, 'Genome_Change'] = ['g.chr'+str(i.Chromosome)+\":\"+str(i.Start_position)+i.Reference_Allele+\">\"+i.Tumor_Allele for _, i in legacy_hybridcapture[legacy_hybridcapture['Genome_Change'].isna()].iterrows()]\n",
    "legacy_hybridcapture['t_alt_count'] = legacy_hybridcapture.HC_AC.str.split(':').str[0].astype(int)\n",
    "legacy_hybridcapture['t_ref_count'] = legacy_hybridcapture.HC_AC.str.split(':').str[1].astype(int)\n",
    "legacy_hybridcapture['tumor_f'] = legacy_hybridcapture['t_alt_count'] / (legacy_hybridcapture['t_ref_count'] + legacy_hybridcapture['t_alt_count'])"
   ]
  },
  {
   "cell_type": "code",
   "execution_count": null,
   "metadata": {},
   "outputs": [],
   "source": [
    "legacy_rna.loc[legacy_rna[legacy_rna['Genome_Change'].isna()].index, 'Genome_Change'] = ['g.chr'+str(i.Chromosome)+\":\"+str(i.Start_position)+i.Reference_Allele+\">\"+i.Tumor_Allele for _, i in legacy_rna[legacy_rna['Genome_Change'].isna()].iterrows()]\n",
    "legacy_rna['t_alt_count'] = legacy_rna.RNAseq_AC.str.split(':').str[0].astype(int)\n",
    "legacy_rna['t_ref_count'] = legacy_rna.RNAseq_AC.str.split(':').str[1].astype(int)\n",
    "legacy_rna['tumor_f'] = legacy_rna['t_alt_count'] / (legacy_rna['t_ref_count'] + legacy_rna['t_alt_count'])"
   ]
  },
  {
   "cell_type": "code",
   "execution_count": null,
   "metadata": {},
   "outputs": [],
   "source": [
    "todrop = []\n",
    "legacy_rna['loci'] = legacy_rna['DepMap_ID']+\"_\"+legacy_rna['Chromosome']+\"_\"+legacy_rna['Start_position'].astype(str)\n",
    "for val in h.dups(legacy_rna.loci):\n",
    "    todrop.append(legacy_rna[legacy_rna.loci==val].index[0])\n",
    "legacy_rna = legacy_rna.drop(todrop)"
   ]
  },
  {
   "cell_type": "code",
   "execution_count": null,
   "metadata": {},
   "outputs": [],
   "source": [
    "#legacy_hybridcapture = legacy_hybridcapture[~legacy_hybridcapture.DepMap_ID.isin(normals)]\n",
    "#legacy_raindance = legacy_raindance[~legacy_raindance.DepMap_ID.isin(normals)]\n",
    "#legacy_wes_sanger = legacy_wes_sanger[~legacy_wes_sanger.DepMap_ID.isin(normals)]"
   ]
  },
  {
   "cell_type": "code",
   "execution_count": null,
   "metadata": {},
   "outputs": [],
   "source": [
    "legacy_wgs_exoniconly = legacy_wgs_exoniconly[~legacy_wgs_exoniconly.DepMap_ID.isin(wrongwes_arxspan)]\n",
    "legacy_wes_sanger = legacy_wes_sanger[~legacy_wes_sanger.DepMap_ID.isin(wrongwes_arxspan)]\n",
    "legacy_raindance = legacy_raindance[~legacy_raindance.DepMap_ID.isin(wrongwes_arxspan)]\n",
    "legacy_rna = legacy_rna[~legacy_rna.DepMap_ID.isin(wrongwes_arxspan)]\n",
    "legacy_hybridcapture = legacy_hybridcapture[~legacy_hybridcapture.DepMap_ID.isin(set(wrongwes_arxspan)-set(tokeep_specific_hybrid_capture))]"
   ]
  },
  {
   "cell_type": "code",
   "execution_count": null,
   "metadata": {},
   "outputs": [],
   "source": [
    "merged = mut.mergeAnnotations(priomutations, legacy_hybridcapture, \"HC_AC\", useSecondForConflict=True, dry_run=False)\n",
    "merged = mut.mergeAnnotations(merged, legacy_raindance, \"RD_AC\", useSecondForConflict=True, dry_run=False)\n",
    "merged = mut.mergeAnnotations(merged, legacy_wgs_exoniconly, \"WGS_AC\", useSecondForConflict=False, dry_run=False)\n",
    "merged = mut.mergeAnnotations(merged, legacy_wes_sanger, \"SangerWES_AC\", useSecondForConflict=False, dry_run=False)\n",
    "merged = mut.mergeAnnotations(merged, legacy_rna, \"RNAseq_AC\", useSecondForConflict=False, dry_run=False)"
   ]
  },
  {
   "cell_type": "code",
   "execution_count": null,
   "metadata": {},
   "outputs": [],
   "source": [
    "merged = merged[merged['tumor_f']>0.05]"
   ]
  },
  {
   "cell_type": "code",
   "execution_count": null,
   "metadata": {},
   "outputs": [],
   "source": [
    "merged = omics_mut.annotateLikelyImmortalized(merged, TCGAlocs = ['TCGAhsCnt', 'COSMIChsCnt'], max_recurrence=0.05 ,min_tcga_true_cancer=5)"
   ]
  },
  {
   "cell_type": "markdown",
   "metadata": {},
   "source": [
    "### changing variant annotations"
   ]
  },
  {
   "cell_type": "code",
   "execution_count": null,
   "metadata": {},
   "outputs": [],
   "source": [
    "mutation_groups={\n",
    "\"other conserving\": [\"5'Flank\", \"Intron\", \"IGR\", \"3'UTR\", \"5'UTR\"],\n",
    "\"other non-conserving\":[\"In_Frame_Del\", \"In_Frame_Ins\", \"Stop_Codon_Del\", \"Stop_Codon_Ins\", \"Missense_Mutation\", \"Nonstop_Mutation\"],\n",
    "'silent': ['Silent'],\n",
    "\"damaging\":['De_novo_Start_OutOfFrame','Frame_Shift_Del','Frame_Shift_Ins', 'Splice_Site', 'Start_Codon_Del', 'Start_Codon_Ins', 'Start_Codon_SNP','Nonsense_Mutation']\n",
    "}"
   ]
  },
  {
   "cell_type": "code",
   "execution_count": null,
   "metadata": {},
   "outputs": [],
   "source": [
    "rename = {}\n",
    "for k,v in mutation_groups.items():\n",
    "    for e in v:\n",
    "        rename[e] = k\n",
    "merged['Variant_annotation'] = [rename[i] for i in merged['Variant_Classification'].tolist()]"
   ]
  },
  {
   "cell_type": "markdown",
   "metadata": {},
   "source": [
    "### Compare to previous release\n",
    "\n",
    "I would run some checks here comparing the results to the previous releases MAF. Namely:\n",
    "\n",
    "- Count the total number of mutations per cell line, split by type (SNP, INS, DEL)\n",
    "- Count the total number of mutations observed by position (group by chromosome, start position, end position and count the number of mutations)\n",
    "- Look at specific differences between the two MAFs (join on DepMap_ID, Chromosome, Start position, End position, Variant_Type). I would do this for WES only"
   ]
  },
  {
   "cell_type": "code",
   "execution_count": null,
   "metadata": {},
   "outputs": [],
   "source": [
    "a = set(merged.DepMap_ID) \n",
    "prev = tc.get(name='depmap-a0ab', file='CCLE_mutations')#tc.get(name='internal-20q2-7f46', version=18, file='CCLE_mutations')\n",
    "b = set(prev.DepMap_ID)\n",
    "print(\"new lines:\")\n",
    "print(a-b)\n",
    "print('lost lines:')\n",
    "print(b-a)"
   ]
  },
  {
   "cell_type": "code",
   "execution_count": null,
   "metadata": {},
   "outputs": [],
   "source": [
    "set(mutations[mutations.DepMap_ID.isin(e.keys())].replace({'DepMap_ID':e}).DepMap_ID)"
   ]
  },
  {
   "cell_type": "code",
   "execution_count": null,
   "metadata": {},
   "outputs": [],
   "source": [
    "e = {\"CDS-mys9Dm\":\"ACH-001955\",\n",
    "\"CDS-Rl87Z1\":\"ACH-001956\",\n",
    "\"CDS-TzQAjG\":\"ACH-001957\"}"
   ]
  },
  {
   "cell_type": "code",
   "execution_count": null,
   "metadata": {},
   "outputs": [],
   "source": [
    "merged = merged.append(mutations[mutations.DepMap_ID.isin(e.keys())].replace({'DepMap_ID':e}))"
   ]
  },
  {
   "cell_type": "markdown",
   "metadata": {},
   "source": [
    "### check important mutations"
   ]
  },
  {
   "cell_type": "code",
   "execution_count": null,
   "metadata": {},
   "outputs": [],
   "source": [
    "# check MOLM13, MV411 cell lines- The well known mutation status of FLT3"
   ]
  },
  {
   "cell_type": "code",
   "execution_count": null,
   "metadata": {},
   "outputs": [],
   "source": [
    "# check TP53 mutation "
   ]
  },
  {
   "cell_type": "markdown",
   "metadata": {},
   "source": [
    "Are mutation consistent?"
   ]
  },
  {
   "cell_type": "markdown",
   "metadata": {},
   "source": [
    "QC mutations, for a known dependency, check if it matches mutation of this gene. (if P53 is mutated, cannot have dependency on P53 or MDM2 MDM4/ inverse fir BRAF and KRAF to themselves)"
   ]
  },
  {
   "cell_type": "markdown",
   "metadata": {},
   "source": [
    "### saving this version"
   ]
  },
  {
   "cell_type": "code",
   "execution_count": null,
   "metadata": {},
   "outputs": [],
   "source": [
    "merged.to_csv('temp/all_somatic_mutations_withlegacy_'+samplesetname+'.csv', index=False)"
   ]
  },
  {
   "cell_type": "code",
   "execution_count": null,
   "metadata": {},
   "outputs": [],
   "source": [
    "merged = pd.read_csv('temp/all_somatic_mutations_withlegacy_'+samplesetname+'.csv')"
   ]
  },
  {
   "cell_type": "markdown",
   "metadata": {},
   "source": [
    "### making binary matrices"
   ]
  },
  {
   "cell_type": "code",
   "execution_count": null,
   "metadata": {},
   "outputs": [],
   "source": [
    "merged['mutname'] = merged['Hugo_Symbol'] + \" (\" + merged[\"Entrez_Gene_Id\"].astype(str) + \")\"\n",
    "merged = merged[merged['Entrez_Gene_Id']!=0]\n",
    "\n",
    "# removing immortalized ffor now \n",
    "merged = merged[merged.is_likely_immortalization!=True]\n"
   ]
  },
  {
   "cell_type": "code",
   "execution_count": null,
   "metadata": {},
   "outputs": [],
   "source": [
    "mut.mafToMat(merged[(merged.Variant_annotation==\"damaging\")], mode='bool', mutNameCol=\"mutname\").astype(int).T.to_csv('temp/all_somatic_mutations_boolmatrix_fordepmap_damaging.csv')\n",
    "mut.mafToMat(merged[(merged.Variant_annotation==\"other conserving\")], mode='bool', mutNameCol=\"mutname\").astype(int).T.to_csv('temp/all_somatic_mutations_boolmatrix_fordepmap_othercons.csv')\n",
    "mut.mafToMat(merged[(merged.Variant_annotation==\"other non-conserving\")], mode='bool', mutNameCol=\"mutname\").astype(int).T.to_csv('temp/all_somatic_mutations_boolmatrix_fordepmap_othernoncons.csv')\n",
    "mut.mafToMat(merged[(merged.isCOSMIChotspot | merged.isTCGAhotspot)], mode='bool', mutNameCol=\"mutname\").astype(int).T.to_csv('temp/all_somatic_mutations_boolmatrix_fordepmap_hotspot.csv')"
   ]
  },
  {
   "cell_type": "markdown",
   "metadata": {},
   "source": [
    "### retrieving unfiltered mutations [OPTIONAL]"
   ]
  },
  {
   "cell_type": "code",
   "execution_count": null,
   "metadata": {},
   "outputs": [],
   "source": [
    "####### WES\n",
    "unfiltered = wesres['unfiltered_CGA_MAF_aggregated']\n",
    "! gsutil cp $unfiltered \"temp/wes_mutation_unfiltered_terra_merged.txt\"\n",
    "unfiltered = pd.read_csv('temp/wes_mutation_unfiltered_terra_merged.txt', sep='\\t', encoding='L6',na_values=[\"__UNKNOWN__\",'.'], engine='c', dtype=str)"
   ]
  },
  {
   "cell_type": "code",
   "execution_count": null,
   "metadata": {},
   "outputs": [],
   "source": [
    "unfiltered['somatic'] = unfiltered['somatic'].replace('nan','False')\n",
    "unfiltered['HGNC_Status'] = unfiltered['HGNC_Status'].replace('nan','Unapproved')\n",
    "unfiltered['judgement'] = unfiltered['judgement'].replace('nan','REMOVE')\n",
    "unfiltered = unfiltered.rename(columns={\"i_ExAC_AF\":\"ExAC_AF\",\"Tumor_Sample_Barcode\":'DepMap_ID',\"Tumor_Seq_Allele2\":\"Tumor_Allele\"}).drop(columns=['Tumor_Seq_Allele1'])\n",
    "unfiltered['CGA_WES_AC'] = [str(i[0]) + ':' + str(i[1]) for i in np.nan_to_num(unfiltered[['t_alt_count','t_ref_count']].values.astype(float),0).astype(int)]"
   ]
  },
  {
   "cell_type": "code",
   "execution_count": null,
   "metadata": {},
   "outputs": [],
   "source": [
    "toremove = []\n",
    "subunfilt = unfiltered.iloc[:10000]\n",
    "for i, val in enumerate(unfiltered.columns):\n",
    "    h.showcount(i,len(unfiltered.columns))\n",
    "    if len(set(subunfilt[val])-set(['nan']))==1:\n",
    "        if len(set(unfiltered[val])-set(['nan']))==1:\n",
    "            toremove.append(val)\n",
    "unfiltered = unfiltered.drop(columns=set(toremove))"
   ]
  },
  {
   "cell_type": "code",
   "execution_count": null,
   "metadata": {},
   "outputs": [],
   "source": [
    "ls temp/*_mutation_somatic_unfiltered_withreplicates.csv*"
   ]
  },
  {
   "cell_type": "code",
   "execution_count": null,
   "metadata": {},
   "outputs": [],
   "source": [
    "toint =  [\"Start_position\", \"End_position\"]\n",
    "for val in toint:\n",
    "    unfiltered[val]  = unfiltered[val].astype(int)\n",
    "unfiltered.to_csv('temp/wes_mutation_somatic_unfiltered_withreplicates.csv.gz', index=False)"
   ]
  },
  {
   "cell_type": "code",
   "execution_count": null,
   "metadata": {},
   "outputs": [],
   "source": [
    "del unfiltered"
   ]
  },
  {
   "cell_type": "code",
   "execution_count": null,
   "metadata": {},
   "outputs": [],
   "source": [
    "####### WGS\n",
    "unfiltered = res['unfiltered_CGA_MAF_aggregated']\n",
    "! gsutil cp $unfiltered \"temp/wes_mutation_unfiltered_terra_merged.txt\"\n",
    "unfiltered = pd.read_csv('temp/wes_mutation_unfiltered_terra_merged.txt', sep='\\t', encoding='L6',na_values=[\"__UNKNOWN__\",'.'], engine='c', dtype=str)"
   ]
  },
  {
   "cell_type": "code",
   "execution_count": null,
   "metadata": {},
   "outputs": [],
   "source": [
    "unfiltered['somatic'] = unfiltered['somatic'].replace('nan','False')\n",
    "unfiltered['HGNC_Status'] = unfiltered['HGNC_Status'].replace('nan','Unapproved')\n",
    "unfiltered['judgement'] = unfiltered['judgement'].replace('nan','REMOVE')\n",
    "unfiltered = unfiltered.rename(columns={\"i_ExAC_AF\":\"ExAC_AF\",\"Tumor_Sample_Barcode\":'DepMap_ID',\"Tumor_Seq_Allele2\":\"Tumor_Allele\"}).drop(columns=['Tumor_Seq_Allele1'])\n",
    "unfiltered['CGA_WES_AC'] = [str(i[0]) + ':' + str(i[1]) for i in np.nan_to_num(unfiltered[['t_alt_count','t_ref_count']].values.astype(float),0).astype(int)]"
   ]
  },
  {
   "cell_type": "code",
   "execution_count": null,
   "metadata": {},
   "outputs": [],
   "source": [
    "toremove = []\n",
    "subunfilt = unfiltered.iloc[:10000]\n",
    "for i, val in enumerate(unfiltered.columns):\n",
    "    h.showcount(i,len(unfiltered.columns))\n",
    "    if len(set(subunfilt[val])-set(['nan']))==1:\n",
    "        if len(set(unfiltered[val])-set(['nan']))==1:\n",
    "            toremove.append(val)\n",
    "unfiltered = unfiltered.drop(columns=set(toremove))"
   ]
  },
  {
   "cell_type": "code",
   "execution_count": null,
   "metadata": {},
   "outputs": [],
   "source": [
    "toint =  [\"Start_position\", \"End_position\"]\n",
    "for val in toint:\n",
    "    unfiltered[val]  = unfiltered[val].astype(int)\n",
    "unfiltered.to_csv('temp/wgs_mutation_somatic_unfiltered_withreplicates.csv.gz', index=False)"
   ]
  },
  {
   "cell_type": "code",
   "execution_count": null,
   "metadata": {},
   "outputs": [],
   "source": [
    "del unfiltered"
   ]
  },
  {
   "cell_type": "markdown",
   "metadata": {},
   "source": [
    "# uploading on taiga [CCLE ONLY]"
   ]
  },
  {
   "cell_type": "markdown",
   "metadata": {},
   "source": [
    "## Somatic mutations"
   ]
  },
  {
   "cell_type": "code",
   "execution_count": null,
   "metadata": {},
   "outputs": [],
   "source": [
    "#reverting to previous versions\n",
    "merged = merged[['Hugo_Symbol', 'Entrez_Gene_Id', 'NCBI_Build', 'Chromosome',\n",
    "       'Start_position', 'End_position', 'Strand', 'Variant_Classification',\n",
    "       'Variant_Type', 'Reference_Allele', 'Tumor_Allele', 'dbSNP_RS',\n",
    "       'dbSNP_Val_Status', 'Genome_Change', 'Annotation_Transcript',\n",
    "       'DepMap_ID', 'cDNA_Change', 'Codon_Change', 'Protein_Change', 'isDeleterious',\n",
    "       'isTCGAhotspot', 'TCGAhsCnt', 'isCOSMIChotspot', 'COSMIChsCnt',\n",
    "       'ExAC_AF',\"Variant_annotation\", 'CGA_WES_AC', 'HC_AC',\n",
    "       'RD_AC', 'RNAseq_AC', 'SangerWES_AC', 'WGS_AC']].rename(columns={\"Tumor_Allele\":\"Tumor_Seq_Allele1\"})\n",
    "merged.to_csv('temp/all_somatic_mutations_withlegacy_'+samplesetname+\"_depmapversion.csv\", index=False)"
   ]
  },
  {
   "cell_type": "code",
   "execution_count": null,
   "metadata": {},
   "outputs": [],
   "source": [
    "!gunzip temp/wes_mutation_somatic_unfiltered_withreplicates.csv.gz\n",
    "!gunzip temp/wgs_mutation_somatic_unfiltered_withreplicates.csv.gz"
   ]
  },
  {
   "cell_type": "code",
   "execution_count": null,
   "metadata": {},
   "outputs": [],
   "source": [
    "a = 'temp/expression_' + samplesetname + '_transcripts_tpm_logp1.csv'\n",
    "! ls -al $a"
   ]
  },
  {
   "cell_type": "code",
   "execution_count": null,
   "metadata": {},
   "outputs": [],
   "source": [
    "tc.update_dataset(changes_description=\"new \"+samplesetname+\" release!\",\n",
    "                 dataset_permaname=\"mutations-latest-ed72\",\n",
    "                 upload_files=[\n",
    "                    {\n",
    "                       \"path\": \"temp/all_somatic_mutations_boolmatrix_fordepmap_hotspot.csv\",\n",
    "                       \"name\": \"all_somatic_mutations_boolmatrix_fordepmap_hotspot\",\n",
    "                       \"format\": \"NumericMatrixCSV\",\n",
    "                       \"encoding\": \"utf-8\"\n",
    "                    },\n",
    "                    {\n",
    "                       \"path\": \"temp/all_somatic_mutations_boolmatrix_fordepmap_othernoncons.csv\",\n",
    "                       \"name\": \"all_somatic_mutations_boolmatrix_fordepmap_othernoncons\",\n",
    "                       \"format\": \"NumericMatrixCSV\",\n",
    "                       \"encoding\": \"utf-8\"\n",
    "                    },\n",
    "                    {\n",
    "                        \"path\": \"temp/all_somatic_mutations_boolmatrix_fordepmap_damaging.csv\",\n",
    "                        \"name\": \"all_somatic_mutations_boolmatrix_fordepmap_damaging\",\n",
    "                        \"format\": \"NumericMatrixCSV\",\n",
    "                        \"encoding\": \"utf-8\"\n",
    "                    },\n",
    "                    {\n",
    "                        \"path\": \"temp/all_somatic_mutations_withlegacy_\"+samplesetname+\"_depmapversion.csv\",\n",
    "                        \"name\": 'all_somatic_mutations_all_'+samplesetname+\"_depmapversion\",\n",
    "                        \"format\": \"TableCSV\",\n",
    "                        \"encoding\": \"utf-8\"\n",
    "                    },\n",
    "                    {\n",
    "                        \"path\": \"temp/all_somatic_mutations_withlegacy_\"+samplesetname+\".csv\",\n",
    "                        \"name\": 'all_somatic_mutations_all_'+samplesetname,\n",
    "                        \"format\": \"TableCSV\",\n",
    "                        \"encoding\": \"utf-8\"\n",
    "                    },\n",
    "                 ],\n",
    "                 add_all_existing_files=True,\n",
    "                  upload_async=False,\n",
    "                 dataset_description=\"\"\"\n",
    "# Mutations\n",
    "\n",
    "PORTAL TEAM SHOULD NOT USE THIS: There are lines here that should not make it even to internal.\n",
    "\n",
    "/!\\ This is the most up to date version of the CCLE Mutatios data.\n",
    "The data is most likely of a better quality that what is on other folder. It is however in beta version as not all changes have either been confirmed or accepted by the DepMap Ops and the DepMap Portal Team.\n",
    "\n",
    "# Notations:\n",
    "\n",
    "all: every cell lines we have\n",
    "\n",
    "WES: all data comes from the WExomeS samples we posses\n",
    "\n",
    "WGS: all data comes from the WGenomeS samples we posses\n",
    "\n",
    "withreplicates: if we have two different sequencing from a sample, we kept both, see the depmap sample tracker for annotations [https://docs.google.com/spreadsheets/d/1XkZypRuOEXzNLxVk9EOHeWRE98Z8_DBvL4PovyM01FE](https://docs.google.com/spreadsheets/d/1XkZypRuOEXzNLxVk9EOHeWRE98Z8_DBvL4PovyM01FE). this dataset is more geared toward QC or in-depth analysis of a particular cell line.\n",
    "\n",
    "merged: everything from both WGS and WES\n",
    "\n",
    "latest: only the latest sequencing versions of the samples were kept\n",
    "\n",
    "genes (gene rpkm):\n",
    "__Rows__:\n",
    "__Columns__:\n",
    "Counts (gene counts):\n",
    "__Rows__:\n",
    "__Columns__:\n",
    "Gene level CN data:\n",
    "__Rows__:\n",
    "__Columns__:\n",
    " DepMap cell line IDs\n",
    " gene names in the format HGNC\\_symbol (Entrez\\_ID)\n",
    "DepMap\\_ID, Chromosome, Start, End, Num\\_Probes, Segment\\_Mean\n",
    " \"\"\")"
   ]
  },
  {
   "cell_type": "markdown",
   "metadata": {},
   "source": [
    "## Copy Number\n",
    "\n",
    " we push full dataset version in depmap taiga CN"
   ]
  },
  {
   "cell_type": "code",
   "execution_count": null,
   "metadata": {},
   "outputs": [],
   "source": [
    "tc.update_dataset(changes_description=\"new \"+samplesetname+\" release! (removed misslabellings, see changelog)\",\n",
    "                  dataset_permaname=\"cn-latest-d8d4\", \n",
    "                  upload_files=[\n",
    "                    {\n",
    "                        \"path\": \"temp/segments_allWES_latest_\"+samplesetname+\".csv\",\n",
    "                        \"name\": \"segments_allWES_latest_\"+samplesetname,\n",
    "                        \"format\": \"TableCSV\",\n",
    "                        \"encoding\": \"utf-8\"\n",
    "                    },\n",
    "                    {\n",
    "                        \"path\": \"temp/gene_cn_allWES_latest_\"+samplesetname+\".csv\",\n",
    "                        \"name\": \"gene_cn_allWES_latest_\"+samplesetname,\n",
    "                        \"format\": \"NumericMatrixCSV\",\n",
    "                        \"encoding\": \"utf-8\"\n",
    "                    },\n",
    "                    {\n",
    "                        \"path\": \"temp/segments_allWES_withreplicates_\"+samplesetname+\".csv\",\n",
    "                        \"name\": \"segments_allWES_withreplicates_\"+samplesetname,\n",
    "                        \"format\": \"TableCSV\",\n",
    "                        \"encoding\": \"utf-8\"\n",
    "                    },\n",
    "                    {\n",
    "                        \"path\": \"temp/gene_cn_allWES_withreplicates_\"+samplesetname+\".csv\",\n",
    "                        \"name\": \"gene_cn_allWES_withreplicates_\"+samplesetname,\n",
    "                        \"format\": \"NumericMatrixCSV\",\n",
    "                        \"encoding\": \"utf-8\"\n",
    "                    },\n",
    "                    {\n",
    "                        \"path\": \"temp/gene_cn_all_merged_\"+samplesetname+\".csv\",\n",
    "                        \"name\": \"gene_cn_all_merged_\"+samplesetname,\n",
    "                        \"format\": \"NumericMatrixCSV\",\n",
    "                        \"encoding\": \"utf-8\"\n",
    "                    },\n",
    "                    {\n",
    "                        \"path\": \"temp/segments_allWGS_withreplicates_\"+samplesetname+\".csv\",\n",
    "                        \"name\": \"segments_allWGS_withreplicates_\"+samplesetname,\n",
    "                        \"format\": \"TableCSV\",\n",
    "                        \"encoding\": \"utf-8\"\n",
    "                    },\n",
    "                    {\n",
    "                        \"path\": \"temp/gene_cn_allWGS_withreplicates_\"+samplesetname+\".csv\",\n",
    "                        \"name\": \"gene_cn_allWGS_withreplicates_\"+samplesetname,\n",
    "                        \"format\": \"NumericMatrixCSV\",\n",
    "                        \"encoding\": \"utf-8\"\n",
    "                    },\n",
    "                    {\n",
    "                        \"path\": \"temp/segments_all_merged_\"+samplesetname+\".csv\",\n",
    "                        \"name\": \"segments_all_merged_\"+samplesetname,\n",
    "                        \"format\": \"NumericMatrixCSV\",\n",
    "                        \"encoding\": \"utf-8\"\n",
    "                    },\n",
    "                  ],\n",
    "                  dataset_description=\"\"\"\n",
    "# Copy Number\n",
    "\n",
    "PORTAL TEAM SHOULD NOT USE THIS: There are lines here that should not make it even to internal.\n",
    "\n",
    "/!\\ This is the most up to date version of the CCLE CN data.\n",
    "\n",
    "# Notations:\n",
    "\n",
    "all: everything\n",
    "\n",
    "allWES: all data comes from the WExomeS samples we posses\n",
    "\n",
    "allWGS: all data comes from the WGenomeS samples we posses\n",
    "\n",
    "withreplicates: if we have two different sequencing from a sample, we kept both, see the depmap sample tracker for annotations [https://docs.google.com/spreadsheets/d/1XkZypRuOEXzNLxVk9EOHeWRE98Z8_DBvL4PovyM01FE](https://docs.google.com/spreadsheets/d/1XkZypRuOEXzNLxVk9EOHeWRE98Z8_DBvL4PovyM01FE). this dataset is more geared toward QC or in-depth analysis of a particular cell line.\n",
    "\n",
    "merged: everything from both WGS and WES\n",
    "\n",
    "latest: only the latest sequencing versions of the samples were kept\n",
    "\n",
    "\n",
    "Gene level CN data:\n",
    "\n",
    "__Rows__: cell line IDs\n",
    "\n",
    "__Columns__: gene names in the format HGNC\\_symbol (Entrez\\_ID)\n",
    "\n",
    "Segment level data:\n",
    "\n",
    "__Columns__: DepMap\\_ID, Chromosome, Start, End, Segment\\_Mean, Num\\_Probes, Calls\"\"\")"
   ]
  },
  {
   "cell_type": "markdown",
   "metadata": {},
   "source": [
    "## Structural variants"
   ]
  },
  {
   "cell_type": "code",
   "execution_count": null,
   "metadata": {},
   "outputs": [],
   "source": []
  },
  {
   "cell_type": "code",
   "execution_count": null,
   "metadata": {},
   "outputs": [],
   "source": []
  },
  {
   "cell_type": "code",
   "execution_count": null,
   "metadata": {},
   "outputs": [],
   "source": []
  },
  {
   "cell_type": "markdown",
   "metadata": {},
   "source": [
    "## germline Mutations"
   ]
  },
  {
   "cell_type": "code",
   "execution_count": null,
   "metadata": {},
   "outputs": [],
   "source": []
  },
  {
   "cell_type": "code",
   "execution_count": null,
   "metadata": {},
   "outputs": [],
   "source": []
  }
 ],
 "metadata": {
  "kernelspec": {
   "display_name": "Python 3",
   "language": "python",
   "name": "python3"
  },
  "language_info": {
   "codemirror_mode": {
    "name": "ipython",
    "version": 3
   },
   "file_extension": ".py",
   "mimetype": "text/x-python",
   "name": "python",
   "nbconvert_exporter": "python",
   "pygments_lexer": "ipython3",
   "version": "3.7.3"
  },
  "latex_envs": {
   "LaTeX_envs_menu_present": true,
   "autoclose": false,
   "autocomplete": true,
   "bibliofile": "biblio.bib",
   "cite_by": "apalike",
   "current_citInitial": 1,
   "eqLabelWithNumbers": true,
   "eqNumInitial": 1,
   "hotkeys": {
    "equation": "Ctrl-E",
    "itemize": "Ctrl-I"
   },
   "labels_anchors": false,
   "latex_user_defs": false,
   "report_style_numbering": false,
   "user_envs_cfg": false
  },
  "notify_time": "5",
  "toc": {
   "base_numbering": 1,
   "nav_menu": {
    "height": "277px",
    "width": "375px"
   },
   "number_sections": true,
   "sideBar": true,
   "skip_h1_title": false,
   "title_cell": "Table of Contents",
   "title_sidebar": "Contents",
   "toc_cell": false,
   "toc_position": {
    "height": "calc(100% - 180px)",
    "left": "10px",
    "top": "150px",
    "width": "198.8px"
   },
   "toc_section_display": true,
   "toc_window_display": true
  },
  "varInspector": {
   "cols": {
    "lenName": 16,
    "lenType": 16,
    "lenVar": 40
   },
   "kernels_config": {
    "python": {
     "delete_cmd_postfix": "",
     "delete_cmd_prefix": "del ",
     "library": "var_list.py",
     "varRefreshCmd": "print(var_dic_list())"
    },
    "r": {
     "delete_cmd_postfix": ") ",
     "delete_cmd_prefix": "rm(",
     "library": "var_list.r",
     "varRefreshCmd": "cat(var_dic_list()) "
    }
   },
   "oldHeight": 577.8,
   "position": {
    "height": "40px",
    "left": "1285.4px",
    "right": "20px",
    "top": "106px",
    "width": "254.8px"
   },
   "types_to_exclude": [
    "module",
    "function",
    "builtin_function_or_method",
    "instance",
    "_Feature"
   ],
   "varInspector_section_display": "none",
   "window_display": false
  }
 },
 "nbformat": 4,
 "nbformat_minor": 2
}
