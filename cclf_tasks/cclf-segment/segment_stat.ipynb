{
 "cells": [
  {
   "cell_type": "code",
   "execution_count": null,
   "id": "0c8863d8",
   "metadata": {},
   "outputs": [],
   "source": [
    "%load_ext autoreload\n",
    "%autoreload 2"
   ]
  },
  {
   "cell_type": "code",
   "execution_count": null,
   "id": "8f1a6d78",
   "metadata": {},
   "outputs": [],
   "source": [
    "import seaborn as sns\n",
    "import pandas as pd\n",
    "import matplotlib.pyplot as plt\n",
    "from google.cloud import storage\n",
    "import os\n",
    "import seaborn as sns\n",
    "import matplotlib.pyplot as plt\n",
    "import numpy as np\n",
    "import gcsfs\n",
    "import json\n",
    "import firecloud.api\n",
    "from glob import glob\n",
    "import dalmatian as dm\n",
    "import pandas as pd"
   ]
  },
  {
   "cell_type": "code",
   "execution_count": null,
   "id": "1a349bac",
   "metadata": {},
   "outputs": [],
   "source": [
    "align_res = []\n",
    "for align in glob(\"*alignment*\"):\n",
    "    align_res.append(pd.read_table(align, skiprows=6).loc[:, ['PF_HQ_ALIGNED_READS']])\n",
    "align_res = pd.concat(align_res, axis=1)   \n",
    "align_res.columns = list(map(lambda x:x.split('.')[0], glob(\"*alignment*\")))"
   ]
  },
  {
   "cell_type": "code",
   "execution_count": null,
   "id": "1f23b7a1",
   "metadata": {},
   "outputs": [],
   "source": [
    "#wm = dm.WorkspaceManager(\"broad-genomics-data/DepMap_WGS\")\n",
    "wm = dm.WorkspaceManager(\"broad-firecloud-ccle/DepMap_WES_CN_hg38\")\n",
    "allstat = wm.get_samples()"
   ]
  },
  {
   "cell_type": "code",
   "execution_count": null,
   "id": "8f8e1087",
   "metadata": {},
   "outputs": [],
   "source": [
    "for col in allstat.columns:\n",
    "    if 'bam' in col:\n",
    "        print(col)"
   ]
  },
  {
   "cell_type": "code",
   "execution_count": null,
   "id": "bdb95592",
   "metadata": {},
   "outputs": [],
   "source": [
    "allstat_use = allstat.loc[:, ['internal_bam_filepath', 'internal_bam_filepath_alt','source', 'sex', 'primary_disease', 'tumor_bam_alignment_summary_metrics']]"
   ]
  },
  {
   "cell_type": "code",
   "execution_count": null,
   "id": "fe6e2f4a",
   "metadata": {},
   "outputs": [],
   "source": [
    "allstat_use.loc[allstat_use.loc[:,'tumor_bam_alignment_summary_metrics'].isnull(), :]['source'].value_counts()"
   ]
  },
  {
   "cell_type": "code",
   "execution_count": null,
   "id": "8a00a37b",
   "metadata": {},
   "outputs": [],
   "source": [
    "for alt in allstat_use['internal_bam_filepath'].dropna():\n",
    "    print(alt)\n",
    "    break"
   ]
  },
  {
   "cell_type": "code",
   "execution_count": null,
   "id": "09fa7eda",
   "metadata": {},
   "outputs": [],
   "source": [
    "allstat_use.loc[allstat_use.loc[:,'tumor_bam_alignment_summary_metrics'].isnull(), :].to_csv(\"CCLF.bam_list\")"
   ]
  },
  {
   "cell_type": "code",
   "execution_count": null,
   "id": "197915c4",
   "metadata": {},
   "outputs": [],
   "source": [
    "cclf_bams = allstat_use.loc[allstat_use.loc[:,'tumor_bam_alignment_summary_metrics'].isnull(), ['internal_bam_filepath_alt', 'internal_bam_filepath']]"
   ]
  },
  {
   "cell_type": "code",
   "execution_count": null,
   "id": "1fe424d2",
   "metadata": {},
   "outputs": [],
   "source": [
    "cclf_bams.head()"
   ]
  },
  {
   "cell_type": "code",
   "execution_count": null,
   "id": "2230bd08",
   "metadata": {},
   "outputs": [],
   "source": [
    "cclf_bams = pd.DataFrame(cclf_bams)\n",
    "cclf_bams.loc[:, 'bai'] = cclf_bams.internal_bam_filepath_alt.str.replace(\".bam\", \".bai\", regex=False)"
   ]
  },
  {
   "cell_type": "code",
   "execution_count": null,
   "id": "61321957",
   "metadata": {},
   "outputs": [],
   "source": [
    "cclf_bams.loc[:, 'no_alt_bai'] = cclf_bams.internal_bam_filepath.str.replace(\".bam\", \".bai\", regex=False)"
   ]
  },
  {
   "cell_type": "code",
   "execution_count": null,
   "id": "82659515",
   "metadata": {},
   "outputs": [],
   "source": [
    "cclf_bams.loc[[\"CDS-VNR5t7\", \"CDS-CYVPOD\", \"CDS-aSwDFc\"]]"
   ]
  },
  {
   "cell_type": "code",
   "execution_count": null,
   "id": "7d101169",
   "metadata": {},
   "outputs": [],
   "source": [
    "cclf_bams.shape"
   ]
  },
  {
   "cell_type": "code",
   "execution_count": null,
   "id": "713cbbb1",
   "metadata": {},
   "outputs": [],
   "source": [
    "bait = {\"AGILENT\": \"gs://ccleparams/references/intervals/agilent_hg38_lifted_chrXY.no_header.list\",\n",
    "        \"ICE\": \"gs://ccleparams/references/intervals/ice_hg38_lifted_chrXY.no_header.list\"}"
   ]
  },
  {
   "cell_type": "code",
   "execution_count": null,
   "id": "f1efae5f",
   "metadata": {},
   "outputs": [],
   "source": [
    "bait"
   ]
  },
  {
   "cell_type": "code",
   "execution_count": null,
   "id": "b335d2bf",
   "metadata": {},
   "outputs": [],
   "source": [
    "bait_info = pd.read_table(\"baits_info_clean.tsv\", header=None)"
   ]
  },
  {
   "cell_type": "code",
   "execution_count": null,
   "id": "43753dfb",
   "metadata": {},
   "outputs": [],
   "source": [
    "bait_info.head()"
   ]
  },
  {
   "cell_type": "code",
   "execution_count": null,
   "id": "1045173c",
   "metadata": {},
   "outputs": [],
   "source": [
    "bait_info.shape"
   ]
  },
  {
   "cell_type": "code",
   "execution_count": null,
   "id": "618df54a",
   "metadata": {},
   "outputs": [],
   "source": [
    "import numpy as np\n",
    "baits_id = [dict(zip(bait_info.iloc[:, 0], bait_info.iloc[:, 5])).get(cds_id, 'NA') for cds_id in cclf_bams.index]"
   ]
  },
  {
   "cell_type": "code",
   "execution_count": null,
   "id": "600ef1d7",
   "metadata": {},
   "outputs": [],
   "source": [
    "baits_id[:5]"
   ]
  },
  {
   "cell_type": "code",
   "execution_count": null,
   "id": "6dd78430",
   "metadata": {},
   "outputs": [],
   "source": [
    "baits = [bait.get(b, 'NA') for b in baits_id]"
   ]
  },
  {
   "cell_type": "code",
   "execution_count": null,
   "id": "1f385837",
   "metadata": {},
   "outputs": [],
   "source": [
    "baits[:5]"
   ]
  },
  {
   "cell_type": "code",
   "execution_count": null,
   "id": "bcd9234b",
   "metadata": {},
   "outputs": [],
   "source": [
    "beds = [bait.get(b, 'NA').replace('.list', '.bed') for b in baits_id]"
   ]
  },
  {
   "cell_type": "code",
   "execution_count": null,
   "id": "f7290577",
   "metadata": {},
   "outputs": [],
   "source": [
    "beds[:5]"
   ]
  },
  {
   "cell_type": "code",
   "execution_count": null,
   "id": "e63ce178",
   "metadata": {},
   "outputs": [],
   "source": [
    "cclf_bams.head()"
   ]
  },
  {
   "cell_type": "code",
   "execution_count": null,
   "id": "167c0ffd",
   "metadata": {},
   "outputs": [],
   "source": [
    "cclf_bams.shape, len(baits), len(beds)"
   ]
  },
  {
   "cell_type": "markdown",
   "id": "40186d32",
   "metadata": {},
   "source": [
    "# Test three alt-aware bam for QC steps"
   ]
  },
  {
   "cell_type": "code",
   "execution_count": null,
   "id": "fcbd203a",
   "metadata": {},
   "outputs": [],
   "source": [
    "jsons = {'BamMetrics.bams': list(cclf_bams.loc[:, 'internal_bam_filepath_alt'].values[:3]),\n",
    "         'BamMetrics.bamIndexes': list(cclf_bams.loc[:, 'bai'].values[:3]),\n",
    "         'BamMetrics.bait_interval': baits[:3], \n",
    "         'BamMetrics.targetBed': beds[:3],\n",
    "         'BamMetrics.referenceFasta': 'gs://genomics-public-data/resources/broad/hg38/v0/Homo_sapiens_assembly38.fasta',\n",
    "         'BamMetrics.referenceFastaDict': 'gs://genomics-public-data/resources/broad/hg38/v0/Homo_sapiens_assembly38.dict',\n",
    "         'BamMetrics.referenceFastaFai': 'gs://genomics-public-data/resources/broad/hg38/v0/Homo_sapiens_assembly38.fasta.fai'}"
   ]
  },
  {
   "cell_type": "code",
   "execution_count": null,
   "id": "2a2c7b8d",
   "metadata": {},
   "outputs": [],
   "source": [
    "import json\n",
    "with open(\"input_cclf.json\", \"w\") as js:\n",
    "    json.dump(jsons, js)"
   ]
  },
  {
   "cell_type": "code",
   "execution_count": null,
   "id": "55a8448f",
   "metadata": {},
   "outputs": [],
   "source": [
    "cclf_bams.shape"
   ]
  },
  {
   "cell_type": "code",
   "execution_count": null,
   "id": "6043a470",
   "metadata": {},
   "outputs": [],
   "source": [
    "cclf_bams.loc[:, 'bait'] = baits\n",
    "cclf_bams.loc[:, 'bed'] = beds"
   ]
  },
  {
   "cell_type": "code",
   "execution_count": null,
   "id": "494d08e5",
   "metadata": {},
   "outputs": [],
   "source": [
    "cclf_bams.head()"
   ]
  },
  {
   "cell_type": "code",
   "execution_count": null,
   "id": "45af453a",
   "metadata": {},
   "outputs": [],
   "source": [
    "cclf_bams.loc[cclf_bams.bait=='NA', :]"
   ]
  },
  {
   "cell_type": "code",
   "execution_count": null,
   "id": "9c7a829e",
   "metadata": {},
   "outputs": [],
   "source": [
    "cclf_bams = cclf_bams.dropna()"
   ]
  },
  {
   "cell_type": "code",
   "execution_count": null,
   "id": "d058197c",
   "metadata": {},
   "outputs": [],
   "source": [
    "cclf_bams.tail()"
   ]
  },
  {
   "cell_type": "code",
   "execution_count": null,
   "id": "b5ada44e",
   "metadata": {},
   "outputs": [],
   "source": [
    "cclf_bams"
   ]
  },
  {
   "cell_type": "markdown",
   "id": "97cf641d",
   "metadata": {},
   "source": [
    "# Double check no-alt bams"
   ]
  },
  {
   "cell_type": "code",
   "execution_count": null,
   "id": "5d740924",
   "metadata": {},
   "outputs": [],
   "source": [
    "jsons = {'BamMetrics.bams': list(cclf_bams.loc[:, 'internal_bam_filepath'].values),\n",
    "         'BamMetrics.bamIndexes': list(cclf_bams.loc[:, 'no_alt_bai'].values),\n",
    "         'BamMetrics.bait_interval': list(cclf_bams.loc[:, 'bait'].values), \n",
    "         'BamMetrics.targetBed': list(cclf_bams.loc[:, 'bed'].values),\n",
    "         'BamMetrics.referenceFasta': 'gs://genomics-public-data/resources/broad/hg38/v0/Homo_sapiens_assembly38.fasta',\n",
    "         'BamMetrics.referenceFastaDict': 'gs://genomics-public-data/resources/broad/hg38/v0/Homo_sapiens_assembly38.dict',\n",
    "         'BamMetrics.referenceFastaFai': 'gs://genomics-public-data/resources/broad/hg38/v0/Homo_sapiens_assembly38.fasta.fai'}"
   ]
  },
  {
   "cell_type": "code",
   "execution_count": null,
   "id": "fc5f923b",
   "metadata": {},
   "outputs": [],
   "source": [
    "import json\n",
    "with open(\"input_cclf_all_noalt.json\", \"w\") as js:\n",
    "    json.dump(jsons, js)"
   ]
  },
  {
   "cell_type": "markdown",
   "id": "6124dc64",
   "metadata": {},
   "source": [
    "# Validate on all alt-aware bams"
   ]
  },
  {
   "cell_type": "code",
   "execution_count": null,
   "id": "30c28658",
   "metadata": {},
   "outputs": [],
   "source": [
    "jsons = {'BamMetrics.bams': list(cclf_bams.loc[:, 'internal_bam_filepath_alt'].values),\n",
    "         'BamMetrics.bamIndexes': list(cclf_bams.loc[:, 'bai'].values),\n",
    "         'BamMetrics.bait_interval': list(cclf_bams.loc[:, 'bait'].values), \n",
    "         'BamMetrics.targetBed': list(cclf_bams.loc[:, 'bed'].values),\n",
    "         'BamMetrics.referenceFasta': 'gs://genomics-public-data/resources/broad/hg38/v0/Homo_sapiens_assembly38.fasta',\n",
    "         'BamMetrics.referenceFastaDict': 'gs://genomics-public-data/resources/broad/hg38/v0/Homo_sapiens_assembly38.dict',\n",
    "         'BamMetrics.referenceFastaFai': 'gs://genomics-public-data/resources/broad/hg38/v0/Homo_sapiens_assembly38.fasta.fai'}"
   ]
  },
  {
   "cell_type": "code",
   "execution_count": null,
   "id": "ad0bd0c9",
   "metadata": {},
   "outputs": [],
   "source": [
    "len(jsons['BamMetrics.bams'])"
   ]
  },
  {
   "cell_type": "code",
   "execution_count": null,
   "id": "6d3e193d",
   "metadata": {},
   "outputs": [],
   "source": [
    "import json\n",
    "with open(\"input_cclf_all.json\", \"w\") as js:\n",
    "    json.dump(jsons, js)"
   ]
  },
  {
   "cell_type": "code",
   "execution_count": null,
   "id": "6336215c",
   "metadata": {},
   "outputs": [],
   "source": [
    "!pwd && ls input_cclf_all.json"
   ]
  },
  {
   "cell_type": "code",
   "execution_count": null,
   "id": "a1482a3e",
   "metadata": {},
   "outputs": [],
   "source": [
    "allstat_use.loc[~allstat_use.loc[:,'tumor_bam_alignment_summary_metrics'].isnull(), :]['source'].value_counts()"
   ]
  },
  {
   "cell_type": "code",
   "execution_count": null,
   "id": "1885a998",
   "metadata": {},
   "outputs": [],
   "source": [
    "allstat_use.loc['CDS-0Ab8A9', 'tumor_bam_alignment_summary_metrics']"
   ]
  },
  {
   "cell_type": "code",
   "execution_count": null,
   "id": "d5f98767",
   "metadata": {},
   "outputs": [],
   "source": [
    "allstat_use['source'].value_counts()"
   ]
  },
  {
   "cell_type": "code",
   "execution_count": null,
   "id": "4c141f97",
   "metadata": {},
   "outputs": [],
   "source": [
    "allstat.loc[:, ['internal_bam_filepath', 'source', 'sex', 'primary_disease', 'tumor_bam_alignment_summary_metrics']].to_csv(\"all.stats\")"
   ]
  },
  {
   "cell_type": "code",
   "execution_count": null,
   "id": "0508011e",
   "metadata": {},
   "outputs": [],
   "source": [
    "clf = pd.read_table(\"23Q2.called.seg\")\n",
    "cle = pd.read_table(\"all.called.seg\")\n",
    "clf_seg_num = clf.groupby('Sample').apply(lambda x:x.shape[0])\n",
    "cle_seg_num = cle.groupby('Sample').apply(lambda x:x.shape[0])"
   ]
  },
  {
   "cell_type": "code",
   "execution_count": null,
   "id": "a4feca4f",
   "metadata": {},
   "outputs": [],
   "source": [
    "cle_seg_num.index.isin(align_res.columns).sum()"
   ]
  },
  {
   "cell_type": "code",
   "execution_count": null,
   "id": "339fb4a9",
   "metadata": {},
   "outputs": [],
   "source": [
    "cle_seg_num_df = pd.DataFrame(cle_seg_num)"
   ]
  },
  {
   "cell_type": "code",
   "execution_count": null,
   "id": "87d8a3cc",
   "metadata": {},
   "outputs": [],
   "source": [
    "cle_seg_num_df['SampleID'] = cle_seg_num_df.index"
   ]
  },
  {
   "cell_type": "code",
   "execution_count": null,
   "id": "f623e1e6",
   "metadata": {},
   "outputs": [],
   "source": [
    "align_res = align_res.T"
   ]
  },
  {
   "cell_type": "code",
   "execution_count": null,
   "id": "e35d874e",
   "metadata": {},
   "outputs": [],
   "source": [
    "align_res['SampleID'] = align_res.index"
   ]
  },
  {
   "cell_type": "code",
   "execution_count": null,
   "id": "70c9fd1f",
   "metadata": {},
   "outputs": [],
   "source": [
    "res = cle_seg_num_df.merge(align_res, left_on='SampleID', right_on='SampleID')"
   ]
  },
  {
   "cell_type": "code",
   "execution_count": null,
   "id": "ced9b1b6",
   "metadata": {},
   "outputs": [],
   "source": [
    "cle_seg_num.plot.hist(bins=200, label='CCLE')\n",
    "clf_seg_num.plot.hist(bins=200, label='CCLF')"
   ]
  },
  {
   "cell_type": "code",
   "execution_count": null,
   "id": "950fd856",
   "metadata": {},
   "outputs": [],
   "source": [
    "fig, ax = plt.subplots(1, 1)\n",
    "sns.scatterplot(res, x='0_x', y=2, ax=ax)\n",
    "ax.set_ylabel(\"Paired read Q>20\")\n",
    "ax.set_xlabel(\"Segment number\")\n",
    "ax.set_title(\"CCLE WES samples\")\n",
    "fig.set_size_inches(9, 5)"
   ]
  },
  {
   "cell_type": "code",
   "execution_count": null,
   "id": "29d354a9",
   "metadata": {},
   "outputs": [],
   "source": [
    "newclf = pd.read_table(\"latest_segments/23Q2.called.seg\")\n",
    "newclf_seg_num = newclf.groupby('Sample').apply(lambda x:x.shape[0])"
   ]
  },
  {
   "cell_type": "code",
   "execution_count": null,
   "id": "452ccd27",
   "metadata": {},
   "outputs": [],
   "source": [
    "newclf_seg_num"
   ]
  },
  {
   "cell_type": "code",
   "execution_count": null,
   "id": "63b63940",
   "metadata": {},
   "outputs": [],
   "source": [
    "cle_seg_num.plot.hist(bins=200, alpha=0.4, label='CCLE')\n",
    "clf_seg_num.plot.hist(bins=200, alpha=0.4, label='CCLF')\n",
    "newclf_seg_num.plot.hist(bins=200, alpha=0.4, label='New CCLF')"
   ]
  },
  {
   "cell_type": "markdown",
   "id": "3cc8f9cd",
   "metadata": {},
   "source": [
    "# Load meta json with alt-aware bams"
   ]
  },
  {
   "cell_type": "markdown",
   "id": "1156648d",
   "metadata": {},
   "source": [
    "## Load coverage analysis"
   ]
  },
  {
   "cell_type": "code",
   "execution_count": null,
   "id": "ff6e8d2d",
   "metadata": {},
   "outputs": [],
   "source": [
    "gcs_file_system = gcsfs.GCSFileSystem(project=\"broad-qqin\")\n",
    "gcs_json_path = \"gs://broad-qqin-sparkles/BamMetrics/b012f426-0347-4433-8d16-f4298a134614/metadata.json\"\n",
    "with gcs_file_system.open(gcs_json_path) as f:\n",
    "    json_dict = json.load(f)\n",
    "depth2_output = [i['outputs']['result_sum'] for i in json_dict['calls']['BamMetrics.Depth2']]\n",
    "depth2_output[:5]"
   ]
  },
  {
   "cell_type": "code",
   "execution_count": null,
   "id": "8cac4965",
   "metadata": {},
   "outputs": [],
   "source": [
    "dep2_list = []\n",
    "dep2_name = []\n",
    "for dep2 in depth2_output:\n",
    "#    print(dep2)\n",
    "    dep2_name.append(os.path.basename(dep2).split('.')[0])\n",
    "    with gcs_file_system.open(dep2) as f:\n",
    "        dep2_list.append(float(f.readlines()[-1].strip().split()[-3].decode('utf-8')))"
   ]
  },
  {
   "cell_type": "code",
   "execution_count": null,
   "id": "b70941a0",
   "metadata": {},
   "outputs": [],
   "source": [
    "plt.hist(dep2_list, bins=50)"
   ]
  },
  {
   "cell_type": "code",
   "execution_count": null,
   "id": "937c40df",
   "metadata": {},
   "outputs": [],
   "source": [
    "dep2_list = pd.DataFrame({\"value\": dep2_list, 'name': dep2_name})"
   ]
  },
  {
   "cell_type": "code",
   "execution_count": null,
   "id": "10ca9d9e",
   "metadata": {},
   "outputs": [],
   "source": [
    "depth3_output = [i['outputs']['HsMetrics'] for i in json_dict['calls']['BamMetrics.CollectHsMetrics']]\n",
    "depth3_output[:5]"
   ]
  },
  {
   "cell_type": "code",
   "execution_count": null,
   "id": "565e30f5",
   "metadata": {},
   "outputs": [],
   "source": [
    "dep3_list = []\n",
    "for dep3 in depth3_output:\n",
    "#    print(dep2)\n",
    "    dep3_list.append(pd.read_table(dep3, skiprows=6, nrows=1).loc[:, [\"BAIT_SET\", \"MEAN_BAIT_COVERAGE\"]])"
   ]
  },
  {
   "cell_type": "code",
   "execution_count": null,
   "id": "91a1739a",
   "metadata": {},
   "outputs": [],
   "source": [
    "dep3_list = pd.concat(dep3_list, axis=0)"
   ]
  },
  {
   "cell_type": "code",
   "execution_count": null,
   "id": "1d5744e2",
   "metadata": {},
   "outputs": [],
   "source": [
    "dep2_list.head()"
   ]
  },
  {
   "cell_type": "code",
   "execution_count": null,
   "id": "d7545ae7",
   "metadata": {},
   "outputs": [],
   "source": [
    "dep3_list.head()"
   ]
  },
  {
   "cell_type": "code",
   "execution_count": null,
   "id": "75ca33a4",
   "metadata": {},
   "outputs": [],
   "source": [
    "dep3_list.merge(dep2_list, left_on='BAIT_SET', right_on='name').corr()"
   ]
  },
  {
   "cell_type": "code",
   "execution_count": null,
   "id": "70be2219",
   "metadata": {},
   "outputs": [],
   "source": [
    "sns.scatterplot(x='MEAN_BAIT_COVERAGE', y='value', data=dep3_list.merge(dep2_list, left_on='BAIT_SET', right_on='name'))\n",
    "plt.ylabel(\"mosdepth on bait\")"
   ]
  },
  {
   "cell_type": "code",
   "execution_count": null,
   "id": "29f11d46",
   "metadata": {},
   "outputs": [],
   "source": [
    "plt.hist(dep3_list.iloc[:, 1], bins=50)"
   ]
  },
  {
   "cell_type": "code",
   "execution_count": null,
   "id": "81747b37",
   "metadata": {},
   "outputs": [],
   "source": [
    "depth_output = [i['stdout'] for i in json_dict['calls']['BamMetrics.Depth']]\n",
    "cache_list = []\n",
    "for dep1 in depth_output:\n",
    "    print(dep1)\n",
    "    try:\n",
    "        with gcs_file_system.open(dep1) as f:\n",
    "            dep1_list.append(float(f.read().strip().split()[-1].decode('utf-8')))    \n",
    "    except:\n",
    "        # cache files are in different folders\n",
    "        with gcs_file_system.open(dep1.replace('stdout', 'cacheCopy/call_caching_placeholder.txt')) as f:\n",
    "            cache_list.append(os.path.join(f.readlines()[-2].strip().split()[-1].decode('utf-8'), 'stdout'))\n",
    "dep1_list = []\n",
    "for dep1 in cache_list:\n",
    "    with gcs_file_system.open(dep1) as f:\n",
    "        dep1_list.append(float(f.read().strip().split()[-1].decode('utf-8')))  "
   ]
  },
  {
   "cell_type": "code",
   "execution_count": null,
   "id": "8c00bdc0",
   "metadata": {},
   "outputs": [],
   "source": [
    "plt.hist(dep1_list, bins=50)"
   ]
  },
  {
   "cell_type": "markdown",
   "id": "1f98c240",
   "metadata": {},
   "source": [
    "# old bams (not alt-aware with high segments)"
   ]
  },
  {
   "cell_type": "code",
   "execution_count": null,
   "id": "071ee325",
   "metadata": {},
   "outputs": [],
   "source": [
    "gcs_file_system = gcsfs.GCSFileSystem(project=\"broad-qqin\")\n",
    "gcs_json_path = \"gs://broad-qqin-sparkles/BamMetrics/fbaa56e1-3ed9-4cc8-9c15-6d271df7f745/metadata.json\"\n",
    "with gcs_file_system.open(gcs_json_path) as f:\n",
    "    json_dict = json.load(f)\n",
    "depth_output = [i['stdout'] for i in json_dict['calls']['BamMetrics.Depth']]\n",
    "dep1_list = []\n",
    "for dep1 in depth_output:\n",
    "    with gcs_file_system.open(dep1) as f:\n",
    "        dep1_list.append(float(f.read().strip().split()[-1].decode('utf-8')))    "
   ]
  },
  {
   "cell_type": "code",
   "execution_count": null,
   "id": "8c543523",
   "metadata": {},
   "outputs": [],
   "source": [
    "plt.hist(dep1_list, bins=50)"
   ]
  },
  {
   "cell_type": "markdown",
   "id": "610dd15c",
   "metadata": {},
   "source": [
    "## Old bam do not have Depth2 from mosdepth\n",
    "#### depth2_output = [i['outputs']['result_sum'] for i in json_dict['calls']['BamMetrics.Depth2']]"
   ]
  },
  {
   "cell_type": "markdown",
   "id": "7ec4d11d",
   "metadata": {},
   "source": [
    "# HsMetrics/samtools depth/mosdepth read in coverage comparison"
   ]
  },
  {
   "cell_type": "code",
   "execution_count": null,
   "id": "b15195fa",
   "metadata": {},
   "outputs": [],
   "source": [
    "#test pandas API\n",
    "pd.read_table('gs://broad-qqin-sparkles/BamMetrics/b1930991-8c01-4ca4-bdf8-55b8302b1c28/call-CollectHsMetrics/shard-*/*.hg38.hs_metrics.txt', skiprows=6, nrows=1)"
   ]
  },
  {
   "cell_type": "code",
   "execution_count": null,
   "id": "2c5c5f88",
   "metadata": {},
   "outputs": [],
   "source": [
    "from google.cloud import storage\n",
    "import os\n",
    "client = storage.Client()\n",
    "hsMetrics = []\n",
    "for blob in client.list_blobs('broad-qqin-sparkles', prefix='BamMetrics'):\n",
    "    if 'hs_metrics' in blob.name:\n",
    "        hsMetrics.append(pd.read_table(os.path.join(\"gs://broad-qqin-sparkles/\", blob.name), skiprows=6, nrows=1))\n",
    "hsMetrics = pd.concat(hsMetrics, axis=0)"
   ]
  },
  {
   "cell_type": "code",
   "execution_count": null,
   "id": "af72bd63",
   "metadata": {},
   "outputs": [],
   "source": [
    "hsMetrics.MEAN_TARGET_COVERAGE"
   ]
  },
  {
   "cell_type": "code",
   "execution_count": null,
   "id": "039882d4",
   "metadata": {},
   "outputs": [],
   "source": [
    "hsMetrics.MEDIAN_TARGET_COVERAGE"
   ]
  },
  {
   "cell_type": "code",
   "execution_count": null,
   "id": "69f8492c",
   "metadata": {},
   "outputs": [],
   "source": [
    "\n",
    "# client = storage.Client()\n",
    "# hsMetrics = []\n",
    "# for blob in client.list_blobs('broad-qqin-sparkles', prefix='BamMetrics'):\n",
    "#     if 'alignment_summary_metrics' in blob.name:\n",
    "#         print(blob.name)\n",
    "#         hsMetrics.append(pd.read_table(os.path.join(\"gs://broad-qqin-sparkles/\", blob.name), nrows=1,header=None,sep=' ').iloc[[2], :])\n",
    "# hsMetrics = pd.concat(hsMetrics, axis=0)"
   ]
  },
  {
   "cell_type": "markdown",
   "id": "0c49ada2",
   "metadata": {},
   "source": [
    "## Library complexity"
   ]
  },
  {
   "cell_type": "code",
   "execution_count": null,
   "id": "ba310b5b",
   "metadata": {},
   "outputs": [],
   "source": [
    "from google.cloud import storage\n",
    "import os\n",
    "client = storage.Client()\n",
    "hsMetrics = []\n",
    "for blob in client.list_blobs('broad-qqin-sparkles', prefix='BamMetrics/5a863ea2-c8a6-4d24-a56c-c8984c5a125e'):\n",
    "    if 'libcomplex' in blob.name:\n",
    "        print(blob.name)\n",
    "        try:\n",
    "            df = pd.read_table(os.path.join(\"gs://broad-qqin-sparkles/\", blob.name), skiprows=6, nrows=1)\n",
    "            print(df.head())\n",
    "            hsMetrics.append(df)\n",
    "        except:\n",
    "            continue\n",
    "hsMetrics = pd.concat(hsMetrics, axis=0)"
   ]
  },
  {
   "cell_type": "code",
   "execution_count": null,
   "id": "f49b7995",
   "metadata": {},
   "outputs": [],
   "source": [
    "plt.hist(hsMetrics.PERCENT_DUPLICATION)"
   ]
  },
  {
   "cell_type": "markdown",
   "id": "50a642cc",
   "metadata": {},
   "source": [
    "## Raw Read count comparison between alt and non-alt bams"
   ]
  },
  {
   "cell_type": "code",
   "execution_count": null,
   "id": "3d479043",
   "metadata": {},
   "outputs": [],
   "source": [
    "from google.cloud import storage\n",
    "import os\n",
    "client = storage.Client()\n",
    "flagstatMetrics = []\n",
    "names = []\n",
    "for blob in client.list_blobs('broad-qqin-sparkles', prefix='BamMetrics/c3f68d21-844c-46d7-89cd-7ee6b4e719e2'):\n",
    "    if 'flagstat' in blob.name:\n",
    "        names.append(os.path.basename(blob.name).split('.')[0])\n",
    "        flagstatMetrics.append(pd.read_table(os.path.join(\"gs://broad-qqin-sparkles/\", blob.name), \n",
    "                                             header=None, nrows=1, delimiter=' ').iloc[:, :3])\n",
    "flagstatMetrics = pd.concat(flagstatMetrics, axis=0)"
   ]
  },
  {
   "cell_type": "code",
   "execution_count": null,
   "id": "a2e8a23d",
   "metadata": {},
   "outputs": [],
   "source": [
    "flagstatMetrics.index = names"
   ]
  },
  {
   "cell_type": "code",
   "execution_count": null,
   "id": "e7490868",
   "metadata": {},
   "outputs": [],
   "source": [
    "flagstatMetrics.head()"
   ]
  },
  {
   "cell_type": "code",
   "execution_count": null,
   "id": "77997cc4",
   "metadata": {},
   "outputs": [],
   "source": [
    "flagstatMetrics.shape"
   ]
  },
  {
   "cell_type": "code",
   "execution_count": null,
   "id": "5edd02e1",
   "metadata": {},
   "outputs": [],
   "source": [
    "\n",
    "client = storage.Client()\n",
    "flagstatMetrics_noalt = []\n",
    "names = []\n",
    "#broad-qqin-sparkles/BamMetrics/5a863ea2-c8a6-4d24-a56c-c8984c5a125e\n",
    "for blob in client.list_blobs('broad-qqin-sparkles', prefix='BamMetrics/5a863ea2-c8a6-4d24-a56c-c8984c5a125e'):\n",
    "    if 'flagstat' in blob.name:\n",
    "        names.append(os.path.basename(blob.name).split('.')[0])\n",
    "        flagstatMetrics_noalt.append(pd.read_table(os.path.join(\"gs://broad-qqin-sparkles/\", blob.name), \n",
    "                                             header=None, nrows=1, delimiter=' ').iloc[:, :3])\n",
    "flagstatMetrics_noalt = pd.concat(flagstatMetrics_noalt, axis=0)"
   ]
  },
  {
   "cell_type": "code",
   "execution_count": null,
   "id": "21cfc1e7",
   "metadata": {},
   "outputs": [],
   "source": [
    "flagstatMetrics_noalt.index = names"
   ]
  },
  {
   "cell_type": "code",
   "execution_count": null,
   "id": "2e04946f",
   "metadata": {},
   "outputs": [],
   "source": [
    "flagstatMetrics_noalt.head()"
   ]
  },
  {
   "cell_type": "code",
   "execution_count": null,
   "id": "af340b94",
   "metadata": {},
   "outputs": [],
   "source": [
    "flagstatMetrics_noalt.head()"
   ]
  },
  {
   "cell_type": "code",
   "execution_count": null,
   "id": "7445ba51",
   "metadata": {},
   "outputs": [],
   "source": [
    "flagstatMetrics_noalt_final = flagstatMetrics_noalt.merge(flagstatMetrics, left_index=True, right_index=True)"
   ]
  },
  {
   "cell_type": "code",
   "execution_count": null,
   "id": "e9512e99",
   "metadata": {},
   "outputs": [],
   "source": [
    "flagstatMetrics_noalt_final.head()"
   ]
  },
  {
   "cell_type": "code",
   "execution_count": null,
   "id": "a0aad24d",
   "metadata": {},
   "outputs": [],
   "source": [
    "sns.scatterplot(flagstatMetrics_noalt_final, x='0_x', y='0_y')\n",
    "plt.ylabel(\"alt aware\")\n",
    "plt.xlabel(\"original\")"
   ]
  },
  {
   "cell_type": "markdown",
   "id": "c4a4a303",
   "metadata": {},
   "source": [
    "# Alignment summary/samtools comparison for high quality reads"
   ]
  },
  {
   "cell_type": "code",
   "execution_count": null,
   "id": "8e9e8b5e",
   "metadata": {},
   "outputs": [],
   "source": [
    "# new bams\n",
    "import re\n",
    "\n",
    "gcs_file_system = gcsfs.GCSFileSystem(project=\"broad-qqin\")\n",
    "\n",
    "client = storage.Client()\n",
    "flagstatMetrics = []\n",
    "names = []\n",
    "for blob in client.list_blobs('broad-qqin-sparkles', prefix='BamMetrics/c3f68d21-844c-46d7-89cd-7ee6b4e719e2'):    \n",
    "    if 'stdout' in blob.name and 'call-Count' in blob.name:\n",
    "        if 'pipelines-logs' not in blob.name:\n",
    "            with gcs_file_system.open(os.path.join(\"gs://broad-qqin-sparkles/\", blob.name).replace('stdout', 'Count-0.log')) as f:                \n",
    "                target_line = f.readlines()[4].decode('utf-8')\n",
    "                name = target_line.split('/')[-1]\n",
    "                names.append(name)\n",
    "#                print(os.path.join(\"gs://broad-qqin-sparkles/\", blob.name).replace('stdout', 'Count-0.log'))\n",
    "#                print(target_line)\n",
    "#                print(name)\n",
    "            with gcs_file_system.open(os.path.join(\"gs://broad-qqin-sparkles/\", blob.name)) as f:\n",
    "                flagstatMetrics.append(float(f.read().strip().split()[-1].decode('utf-8')))\n",
    "#            break"
   ]
  },
  {
   "cell_type": "code",
   "execution_count": null,
   "id": "9d84b1be",
   "metadata": {},
   "outputs": [],
   "source": [
    "len(flagstatMetrics)"
   ]
  },
  {
   "cell_type": "code",
   "execution_count": null,
   "id": "9877cef7",
   "metadata": {},
   "outputs": [],
   "source": [
    "len(names)"
   ]
  },
  {
   "cell_type": "code",
   "execution_count": null,
   "id": "52ce4d6c",
   "metadata": {},
   "outputs": [],
   "source": [
    "plt.hist(flagstatMetrics, bins=20)"
   ]
  },
  {
   "cell_type": "code",
   "execution_count": null,
   "id": "297d965b",
   "metadata": {},
   "outputs": [],
   "source": [
    "# New bams\n",
    "gcs_file_system = gcsfs.GCSFileSystem(project=\"broad-qqin\")\n",
    "gcs_json_path = \"gs://broad-qqin-sparkles/BamMetrics/50f6e3b8-b1bb-4055-9508-42596cfa0d6d/metadata.json\"\n",
    "with gcs_file_system.open(gcs_json_path) as f:\n",
    "    json_dict = json.load(f)\n",
    "count_output = [i['outputs']['alignmentSummary'] for i in json_dict['calls']['BamMetrics.picardMetrics']]"
   ]
  },
  {
   "cell_type": "code",
   "execution_count": null,
   "id": "0888924a",
   "metadata": {},
   "outputs": [],
   "source": [
    "align_res_new = []\n",
    "for align in count_output:\n",
    "    align_res_new.append(pd.read_table(align, skiprows=6).loc[:, ['PF_HQ_ALIGNED_READS']])\n",
    "align_res_new = pd.concat(align_res_new, axis=1)   \n",
    "align_res_new.columns = list(map(lambda x:os.path.basename(x).split('.')[0], count_output))\n",
    "count_output[:5]"
   ]
  },
  {
   "cell_type": "code",
   "execution_count": null,
   "id": "9bd6cf84",
   "metadata": {},
   "outputs": [],
   "source": [
    "align_res_new = align_res_new.iloc[:3, :]"
   ]
  },
  {
   "cell_type": "code",
   "execution_count": null,
   "id": "55e98e5b",
   "metadata": {},
   "outputs": [],
   "source": [
    "align_res_new.shape"
   ]
  },
  {
   "cell_type": "code",
   "execution_count": null,
   "id": "2b18faf8",
   "metadata": {},
   "outputs": [],
   "source": [
    "##Old bams files \n",
    "gcs_file_system = gcsfs.GCSFileSystem(project=\"broad-qqin\")\n",
    "gcs_json_path = \"gs://broad-qqin-sparkles/BamMetrics/01aad669-2562-4725-8170-c2d83452fcb0/metadata.json\"\n",
    "with gcs_file_system.open(gcs_json_path) as f:\n",
    "    json_dict = json.load(f)\n",
    "count_output = [i['outputs']['alignmentSummary'] for i in json_dict['calls']['BamMetrics.picardMetrics']]\n",
    "align_res = []\n",
    "for align in count_output:\n",
    "    align_res.append(pd.read_table(align, skiprows=6).loc[:, ['PF_HQ_ALIGNED_READS']])\n",
    "align_res = pd.concat(align_res, axis=1)   \n",
    "align_res.columns = list(map(lambda x:os.path.basename(x).split('.')[0], count_output))\n",
    "count_output[:5]    "
   ]
  },
  {
   "cell_type": "code",
   "execution_count": null,
   "id": "bade0894",
   "metadata": {},
   "outputs": [],
   "source": [
    "align_res = align_res.iloc[:3, :]\n",
    "hq_res_df = pd.concat([align_res_new.T, align_res.T.loc[align_res_new.columns, :]], axis=1).iloc[:, [2, 5]]"
   ]
  },
  {
   "cell_type": "code",
   "execution_count": null,
   "id": "05af8157",
   "metadata": {},
   "outputs": [],
   "source": [
    "hq_res_df.columns = ['new', 'old']"
   ]
  },
  {
   "cell_type": "code",
   "execution_count": null,
   "id": "d7ce23a8",
   "metadata": {},
   "outputs": [],
   "source": [
    "sns.scatterplot(x='new', y='old', data=hq_res_df)"
   ]
  },
  {
   "cell_type": "code",
   "execution_count": null,
   "id": "b08fd986",
   "metadata": {},
   "outputs": [],
   "source": [
    "(hq_res_df.new - hq_res_df.old).hist()"
   ]
  },
  {
   "cell_type": "code",
   "execution_count": null,
   "id": "5b05652c",
   "metadata": {},
   "outputs": [],
   "source": [
    "((hq_res_df.new - hq_res_df.old)/hq_res_df.new).hist()"
   ]
  },
  {
   "cell_type": "code",
   "execution_count": null,
   "id": "2aa87d7d",
   "metadata": {},
   "outputs": [],
   "source": [
    "#new bams\n",
    "samtools_count_df = pd.DataFrame({'names': list(map(lambda x:x.strip().split('.')[0], names)), 'flagstatMetrics': flagstatMetrics})"
   ]
  },
  {
   "cell_type": "code",
   "execution_count": null,
   "id": "c8e83269",
   "metadata": {},
   "outputs": [],
   "source": [
    "samtools_count_df = samtools_count_df.loc[samtools_count_df.names!='monitoring', :]"
   ]
  },
  {
   "cell_type": "code",
   "execution_count": null,
   "id": "679b0536",
   "metadata": {},
   "outputs": [],
   "source": [
    "from scipy.stats import pearsonr\n",
    "pearsonr(hq_res_df.loc[samtools_count_df.names, :].new, samtools_count_df.flagstatMetrics)"
   ]
  },
  {
   "cell_type": "code",
   "execution_count": null,
   "id": "fca504aa",
   "metadata": {},
   "outputs": [],
   "source": [
    "pearsonr(hq_res_df.loc[samtools_count_df.names, :].old, samtools_count_df.flagstatMetrics)"
   ]
  },
  {
   "cell_type": "code",
   "execution_count": null,
   "id": "44dd468e",
   "metadata": {},
   "outputs": [],
   "source": [
    "plt.scatter(hq_res_df.loc[samtools_count_df.names, :].new, samtools_count_df.flagstatMetrics)"
   ]
  },
  {
   "cell_type": "code",
   "execution_count": null,
   "id": "bb82a236",
   "metadata": {},
   "outputs": [],
   "source": [
    "plt.scatter(hq_res_df.loc[samtools_count_df.names, :].old, samtools_count_df.flagstatMetrics)"
   ]
  },
  {
   "cell_type": "markdown",
   "id": "2f63d765",
   "metadata": {},
   "source": [
    "# Coverage analysis for old and new bams"
   ]
  },
  {
   "cell_type": "code",
   "execution_count": null,
   "id": "ac184995",
   "metadata": {},
   "outputs": [],
   "source": [
    "def parse_output_from_wdlmeta(metafile: str=\"gs://broad-qqin-sparkles/BamMetrics/50f6e3b8-b1bb-4055-9508-42596cfa0d6d/metadata.json\",\n",
    "                              metric='depth') -> pd.DataFrame:\n",
    "    \"\"\" new bam metafile gs://broad-qqin-sparkles/BamMetrics/50f6e3b8-b1bb-4055-9508-42596cfa0d6d/metadata.json\n",
    "    old bam metafile gs://broad-qqin-sparkles/BamMetrics/01aad669-2562-4725-8170-c2d83452fcb0/metadata.json\n",
    "    \n",
    "    \"\"\"\n",
    "    gcs_file_system = gcsfs.GCSFileSystem(project=\"broad-qqin\")\n",
    "    with gcs_file_system.open(metafile) as f:\n",
    "        json_dict = json.load(f)   \n",
    "\n",
    "    if metric == 'depth':\n",
    "        depth3_output = [i['outputs']['HsMetrics'] for i in json_dict['calls']['BamMetrics.CollectHsMetrics']]\n",
    "        print(depth3_output[:5])\n",
    "        dep3_list = []\n",
    "        for dep3 in depth3_output:\n",
    "            dep3_list.append(pd.read_table(dep3, skiprows=6, nrows=1).loc[:, [\"BAIT_SET\", \"MEAN_BAIT_COVERAGE\"]])\n",
    "        df = pd.concat(dep3_list, axis=0)\n",
    "    if metric == 'align':\n",
    "        count_output = [i['outputs']['alignmentSummary'] for i in json_dict['calls']['BamMetrics.picardMetrics']]\n",
    "        align_res = []\n",
    "        for align in count_output:\n",
    "            align_res.append(pd.read_table(align, skiprows=6).loc[:, ['PF_HQ_ALIGNED_READS']])\n",
    "        df = pd.concat(align_res, axis=1)   \n",
    "        df.columns = list(map(lambda x:os.path.basename(x).split('.')[0], count_output))        \n",
    "    if metric == 'libcomplex':\n",
    "        lib_output = [i['outputs']['metricsFile'] for i in json_dict['calls']['BamMetrics.Libcomplex']]\n",
    "        lib_res = []\n",
    "        names = []\n",
    "        for lib in lib_output:\n",
    "            try:\n",
    "                lib_res.append(pd.read_table(lib, skiprows=6).loc[:, ['PERCENT_DUPLICATION']])     \n",
    "                names.append(os.path.basename(lib).split('.')[0])\n",
    "            except:\n",
    "                print(lib)\n",
    "                pass\n",
    "        df = pd.concat(lib_res, axis=1)\n",
    "        df.columns = names\n",
    "        \n",
    "    if metric == 'gc':\n",
    "        gc_output = [i['outputs']['gcBiasSummary'] for i in json_dict['calls']['BamMetrics.picardMetrics']]\n",
    "        gc_res = []\n",
    "        names = []\n",
    "        for gc in gc_output:\n",
    "            try:\n",
    "                gc_res.append(pd.read_table(gc, skiprows=6))\n",
    "                names.append(os.path.basename(gc).split('.')[0])\n",
    "            except:\n",
    "                print(gc)\n",
    "                pass\n",
    "        print(len(gc_res))\n",
    "        print(len(names))\n",
    "        df = pd.concat(gc_res, axis=0)   \n",
    "        df.index = names                 \n",
    "    return df"
   ]
  },
  {
   "cell_type": "code",
   "execution_count": null,
   "id": "c0598be2",
   "metadata": {},
   "outputs": [],
   "source": [
    "hs_dep_new = parse_output_from_wdlmeta()\n",
    "hs_dep_old = parse_output_from_wdlmeta('gs://broad-qqin-sparkles/BamMetrics/01aad669-2562-4725-8170-c2d83452fcb0/metadata.json')"
   ]
  },
  {
   "cell_type": "code",
   "execution_count": null,
   "id": "f52ad7cd",
   "metadata": {},
   "outputs": [],
   "source": [
    "fig, ax = plt.subplots(1, 4)\n",
    "fig.set_size_inches(12, 3)\n",
    "depths_df = hs_dep_old.merge(hs_dep_new, on='BAIT_SET')\n",
    "\n",
    "sns.scatterplot(x='MEAN_BAIT_COVERAGE_x', y='MEAN_BAIT_COVERAGE_y',\n",
    "                data=depths_df, ax=ax[0])\n",
    "ax[0].set_xlabel('old bam')\n",
    "ax[0].set_ylabel('new bam')\n",
    "ax[0].plot([0, 1], [0, 1], transform=ax[0].transAxes)\n",
    "ax[1].hist(depths_df.MEAN_BAIT_COVERAGE_x, bins=50, color='red')\n",
    "ax[1].hist(depths_df.MEAN_BAIT_COVERAGE_y, bins=50, color='blue')\n",
    "\n",
    "ax[3].hist(depths_df.MEAN_BAIT_COVERAGE_y-depths_df.MEAN_BAIT_COVERAGE_x, bins=50, color='blue')\n",
    "depths_df.index = depths_df.BAIT_SET\n",
    "depths_df.drop(columns=['BAIT_SET'], inplace=True)\n",
    "depths = depths_df.melt()\n",
    "depths['variable'] = depths['variable'] .map({\"MEAN_BAIT_COVERAGE_x\": 'old', 'MEAN_BAIT_COVERAGE_y': 'new'})\n",
    "sns.boxplot(x='variable', y='value', data=depths, ax=ax[2])"
   ]
  },
  {
   "cell_type": "code",
   "execution_count": null,
   "id": "e9a40273",
   "metadata": {},
   "outputs": [],
   "source": [
    "depths_df.head()"
   ]
  },
  {
   "cell_type": "code",
   "execution_count": null,
   "id": "3633252a",
   "metadata": {},
   "outputs": [],
   "source": [
    "fig, ax = plt.subplots(1, 2)\n",
    "fig.set_size_inches(15, 6)\n",
    "sns.scatterplot(x=0, y='MEAN_BAIT_COVERAGE_y', \n",
    "                data=pd.concat([pd.DataFrame(newclf_seg_num), depths_df.loc[newclf_seg_num.index, :]], axis=1),\n",
    "                ax=ax[0])\n",
    "ax[0].set_title(\"New bams (alt aware)\")\n",
    "ax[0].set_xlabel(\"Segment number\")\n",
    "ax[0].set_ylabel(\"Bait coverage\")\n",
    "\n",
    "\n",
    "sns.scatterplot(x=0, y='MEAN_BAIT_COVERAGE_x', \n",
    "                data=pd.concat([pd.DataFrame(clf_seg_num), depths_df.loc[clf_seg_num.index, :]], axis=1),\n",
    "                ax=ax[1])\n",
    "ax[1].set_title(\"Old bams (alt non-aware)\")\n",
    "ax[1].set_xlabel(\"Segment number\")\n",
    "ax[1].set_ylabel(\"Bait coverage\")\n",
    "ax[1].set_xlim(0, 3500)\n"
   ]
  },
  {
   "cell_type": "code",
   "execution_count": null,
   "id": "a7901103",
   "metadata": {},
   "outputs": [],
   "source": [
    "fig, ax = plt.subplots(1, 2)\n",
    "fig.set_size_inches(15, 6)\n",
    "sns.scatterplot(x=0, y='MEAN_BAIT_COVERAGE_y', \n",
    "                data=pd.concat([pd.DataFrame(newclf_seg_num), depths_df.loc[newclf_seg_num.index, :]], axis=1),\n",
    "                ax=ax[0], label='new')\n",
    "ax[0].set_title(\"Old/New bams (alt aware)\")\n",
    "ax[0].set_xlabel(\"Segment number\")\n",
    "ax[0].set_ylabel(\"Bait coverage\")\n",
    "\n",
    "\n",
    "ax = sns.scatterplot(x=0, y='MEAN_BAIT_COVERAGE_x', \n",
    "                data=pd.concat([pd.DataFrame(clf_seg_num), depths_df.loc[clf_seg_num.index, :]], axis=1),\n",
    "                ax=ax[0], label='old')\n"
   ]
  },
  {
   "cell_type": "code",
   "execution_count": null,
   "id": "5ae89e2b",
   "metadata": {},
   "outputs": [],
   "source": [
    "align_new = parse_output_from_wdlmeta(metric='align')\n",
    "align_old = parse_output_from_wdlmeta('gs://broad-qqin-sparkles/BamMetrics/01aad669-2562-4725-8170-c2d83452fcb0/metadata.json', metric='align')\n",
    "align_new = align_new.iloc[:3, :]\n",
    "align_old = align_old.iloc[:3, :]"
   ]
  },
  {
   "cell_type": "code",
   "execution_count": null,
   "id": "218995cd",
   "metadata": {},
   "outputs": [],
   "source": [
    "hq_res_df = pd.concat([align_old.T.loc[align_new.columns, :], align_new.T], axis=1).iloc[:, [2, 5]]\n",
    "hq_res_df.columns = ['old', 'new']\n",
    "\n",
    "fig, ax = plt.subplots(1, 4)\n",
    "fig.set_size_inches(12, 3)\n",
    "\n",
    "sns.scatterplot(x='old', y='new',\n",
    "                data=hq_res_df, ax=ax[0])\n",
    "ax[0].set_xlabel('old bam')\n",
    "ax[0].set_ylabel('new bam')\n",
    "ax[0].plot([0, 1], [0, 1], transform=ax[0].transAxes)\n",
    "\n",
    "ax[1].hist(hq_res_df.new, bins=50, color='blue')\n",
    "ax[1].hist(hq_res_df.old, bins=50, color='red')\n",
    "\n",
    "ax[3].hist(hq_res_df.new-hq_res_df.old, bins=50, color='blue')\n",
    "\n",
    "hq_res = hq_res_df.melt()\n",
    "sns.boxplot(x='variable', y='value', data=hq_res, ax=ax[2])"
   ]
  },
  {
   "cell_type": "code",
   "execution_count": null,
   "id": "5056eafc",
   "metadata": {},
   "outputs": [],
   "source": [
    "hq_res_df.head()"
   ]
  },
  {
   "cell_type": "code",
   "execution_count": null,
   "id": "ffbc1ce6",
   "metadata": {},
   "outputs": [],
   "source": [
    "fig, ax = plt.subplots(1, 2)\n",
    "fig.set_size_inches(15, 6)\n",
    "sns.scatterplot(x=0, y='old', \n",
    "                data=pd.concat([pd.DataFrame(newclf_seg_num), hq_res_df.loc[newclf_seg_num.index, :]], axis=1),\n",
    "                ax=ax[0])\n",
    "ax[0].set_title(\"New bams (alt aware)\")\n",
    "ax[0].set_xlabel(\"Segment number\")\n",
    "ax[0].set_ylabel(\"Bait coverage\")\n",
    "\n",
    "\n",
    "sns.scatterplot(x=0, y='new', \n",
    "                data=pd.concat([pd.DataFrame(clf_seg_num), hq_res_df.loc[clf_seg_num.index, :]], axis=1),\n",
    "                ax=ax[1])\n",
    "ax[1].set_title(\"Old bams (alt non-aware)\")\n",
    "ax[1].set_xlabel(\"Segment number\")\n",
    "ax[1].set_ylabel(\"Paired Read count (MAPQ>20)\")\n",
    "ax[1].set_xlim(0, 3500)\n"
   ]
  },
  {
   "cell_type": "code",
   "execution_count": null,
   "id": "5819d676",
   "metadata": {},
   "outputs": [],
   "source": [
    "fig, ax = plt.subplots(1, 2)\n",
    "fig.set_size_inches(15, 6)\n",
    "sns.scatterplot(x=0, y='new', \n",
    "                data=pd.concat([pd.DataFrame(newclf_seg_num), hq_res_df.loc[newclf_seg_num.index, :]], axis=1),\n",
    "                ax=ax[0], alpha=0.4, label='new cclf')\n",
    "ax[0].set_title(\"New bams (alt aware)\")\n",
    "ax[0].set_xlabel(\"Segment number\")\n",
    "ax[0].set_ylabel(\"Bait coverage\")\n",
    "\n",
    "\n",
    "sns.scatterplot(x=0, y='old', \n",
    "                data=pd.concat([pd.DataFrame(clf_seg_num), hq_res_df.loc[clf_seg_num.index, :]], axis=1),\n",
    "                ax=ax[0], alpha=0.4, label='old cclf')\n",
    "ax[0].set_title(\"Old/New bams (alt non-aware)\")\n",
    "ax[0].set_xlabel(\"Segment number\")\n",
    "ax[0].set_ylabel(\"Paired read Q>20\")\n",
    "ax[0].set_xlim(0, 3500)\n",
    "\n",
    "sns.scatterplot(res, x='0_x', y=2, ax=ax[0], alpha=0.4, label='ccle')\n",
    "# ax[1].set_ylabel(\"Paired read Q>20\")\n",
    "# ax[1].set_xlabel(\"Segment number\")\n",
    "# ax[1].set_title(\"CCLE WES samples\")\n",
    "# fig.set_size_inches(9, 5)"
   ]
  },
  {
   "cell_type": "code",
   "execution_count": null,
   "id": "b06504c7",
   "metadata": {},
   "outputs": [],
   "source": [
    "lib_new = parse_output_from_wdlmeta(metric='libcomplex')\n",
    "lib_old = parse_output_from_wdlmeta('gs://broad-qqin-sparkles/BamMetrics/01aad669-2562-4725-8170-c2d83452fcb0/metadata.json', metric='libcomplex')"
   ]
  },
  {
   "cell_type": "code",
   "execution_count": null,
   "id": "dfda465f",
   "metadata": {},
   "outputs": [],
   "source": [
    "lib_df = pd.concat([lib_old.iloc[[0], :].T,lib_new.iloc[[0], :].T], axis=1)\n",
    "lib_df.columns = ['old', 'new']\n",
    "fig, ax = plt.subplots(1, 4)\n",
    "fig.set_size_inches(12, 3)\n",
    "\n",
    "sns.scatterplot(x='old', y='new',\n",
    "                data=lib_df, ax=ax[0])\n",
    "ax[0].set_xlabel('old bam')\n",
    "ax[0].set_ylabel('new bam')\n",
    "ax[0].plot([0, 1], [0, 1], transform=ax[0].transAxes)\n",
    "\n",
    "ax[1].hist(lib_df.new, bins=50, color='blue')\n",
    "ax[1].hist(lib_df.old, bins=50, color='red')\n",
    "\n",
    "ax[3].hist(lib_df.new-lib_df.old, bins=50, color='blue')\n",
    "\n",
    "lib = lib_df.melt()\n",
    "sns.boxplot(x='variable', y='value', data=lib, ax=ax[2])"
   ]
  },
  {
   "cell_type": "code",
   "execution_count": null,
   "id": "58ed433d",
   "metadata": {},
   "outputs": [],
   "source": [
    "lib_index = np.intersect1d(newclf_seg_num.index, lib_df.index)"
   ]
  },
  {
   "cell_type": "code",
   "execution_count": null,
   "id": "fcd47174",
   "metadata": {},
   "outputs": [],
   "source": [
    "fig, ax = plt.subplots(1, 2)\n",
    "fig.set_size_inches(15, 6)\n",
    "sns.scatterplot(x=0, y='new', \n",
    "                data=pd.concat([pd.DataFrame(newclf_seg_num).loc[lib_index, :], lib_df.loc[lib_index, :]], axis=1),\n",
    "                ax=ax[0], alpha=0.4, label='new cclf')\n",
    "ax[0].set_title(\"New bams (alt aware)\")\n",
    "ax[0].set_xlabel(\"Segment number\")\n",
    "ax[0].set_ylabel(\"Bait coverage\")\n",
    "\n",
    "\n",
    "sns.scatterplot(x=0, y='old', \n",
    "                data=pd.concat([pd.DataFrame(clf_seg_num).loc[lib_index, :], lib_df.loc[lib_index, :]], axis=1),\n",
    "                ax=ax[0], alpha=0.4, label='old cclf')\n",
    "ax[0].set_title(\"Old/New bams (alt non-aware)\")\n",
    "ax[0].set_xlabel(\"Segment number\")\n",
    "ax[0].set_ylabel(\"Bait coverage\")\n",
    "ax[0].set_xlim(0, 3500)\n",
    "\n",
    "# sns.scatterplot(res, x='0_x', y=2, ax=ax[0], alpha=0.4, label='ccle')\n",
    "# ax[1].set_ylabel(\"Paired read Q>20\")\n",
    "# ax[1].set_xlabel(\"Segment number\")\n",
    "# ax[1].set_title(\"CCLE WES samples\")\n",
    "# fig.set_size_inches(9, 5)"
   ]
  },
  {
   "cell_type": "code",
   "execution_count": null,
   "id": "da6e48d3",
   "metadata": {},
   "outputs": [],
   "source": [
    "gc_new = parse_output_from_wdlmeta(metric='gc')"
   ]
  },
  {
   "cell_type": "code",
   "execution_count": null,
   "id": "25a0cb73",
   "metadata": {},
   "outputs": [],
   "source": [
    "gc_old = parse_output_from_wdlmeta('gs://broad-qqin-sparkles/BamMetrics/01aad669-2562-4725-8170-c2d83452fcb0/metadata.json', metric='gc')"
   ]
  },
  {
   "cell_type": "code",
   "execution_count": null,
   "id": "80399da1",
   "metadata": {},
   "outputs": [],
   "source": [
    "gc_new.head()"
   ]
  },
  {
   "cell_type": "code",
   "execution_count": null,
   "id": "800933be",
   "metadata": {},
   "outputs": [],
   "source": [
    "gc_old.head()"
   ]
  },
  {
   "cell_type": "code",
   "execution_count": null,
   "id": "861de2b0",
   "metadata": {},
   "outputs": [],
   "source": [
    "gc_new.shape, newclf_seg_num.shape"
   ]
  },
  {
   "cell_type": "code",
   "execution_count": null,
   "id": "beba43b1",
   "metadata": {},
   "outputs": [],
   "source": [
    "pd.concat([pd.DataFrame(newclf_seg_num), gc_new.loc[newclf_seg_num.index, 'GC_DROPOUT']], axis=1)"
   ]
  },
  {
   "cell_type": "code",
   "execution_count": null,
   "id": "09cd17a7",
   "metadata": {},
   "outputs": [],
   "source": [
    "fig, ax = plt.subplots(1, 2)\n",
    "fig.set_size_inches(15, 6)\n",
    "sns.scatterplot(x=0, y='GC_DROPOUT', \n",
    "                data=pd.concat([pd.DataFrame(newclf_seg_num), gc_new.loc[newclf_seg_num.index, 'GC_DROPOUT']], axis=1),\n",
    "                ax=ax[0], alpha=0.4, label='new cclf')\n",
    "ax[0].set_title(\"New bams (alt aware)\")\n",
    "ax[0].set_xlabel(\"Segment number\")\n",
    "ax[0].set_ylabel(\"GC_DROPOUT\")\n",
    "\n",
    "\n",
    "sns.scatterplot(x=0, y='GC_DROPOUT', \n",
    "                data=pd.concat([pd.DataFrame(clf_seg_num).loc[lib_index, :], gc_old.loc[lib_index, :]], axis=1),\n",
    "                ax=ax[0], alpha=0.4, label='old cclf')\n",
    "ax[0].set_title(\"Old/New bams (alt non-aware)\")\n",
    "ax[0].set_xlabel(\"Segment number\")\n",
    "ax[0].set_ylabel(\"GC_DROPOUT\")\n",
    "# ax[0].set_xlim(0, 3500)"
   ]
  }
 ],
 "metadata": {
  "kernelspec": {
   "display_name": "Python 3 (ipykernel)",
   "language": "python",
   "name": "python3"
  },
  "language_info": {
   "codemirror_mode": {
    "name": "ipython",
    "version": 3
   },
   "file_extension": ".py",
   "mimetype": "text/x-python",
   "name": "python",
   "nbconvert_exporter": "python",
   "pygments_lexer": "ipython3",
   "version": "3.10.8"
  }
 },
 "nbformat": 4,
 "nbformat_minor": 5
}
