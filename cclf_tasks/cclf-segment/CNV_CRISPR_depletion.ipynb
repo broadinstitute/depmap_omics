{
 "cells": [
  {
   "cell_type": "code",
   "execution_count": null,
   "id": "7c4beb06",
   "metadata": {},
   "outputs": [],
   "source": [
    "%load_ext autoreload\n",
    "%autoreload 2"
   ]
  },
  {
   "cell_type": "code",
   "execution_count": null,
   "id": "87bff1d2",
   "metadata": {},
   "outputs": [],
   "source": [
    "import matplotlib.pyplot as plt\n",
    "import numpy as np"
   ]
  },
  {
   "cell_type": "code",
   "execution_count": null,
   "id": "9f7e939e",
   "metadata": {},
   "outputs": [],
   "source": [
    "from taigapy import TaigaClient\n",
    "tc = TaigaClient()"
   ]
  },
  {
   "cell_type": "code",
   "execution_count": null,
   "id": "9b048100",
   "metadata": {},
   "outputs": [],
   "source": [
    "AvanaGuideMap = tc.get(name='chronos2-0test3-internal-d93b', version=1, file='AvanaGuideMap')"
   ]
  },
  {
   "cell_type": "code",
   "execution_count": null,
   "id": "e02ce5a6",
   "metadata": {},
   "outputs": [],
   "source": [
    "AvanaGuideMap.head()"
   ]
  },
  {
   "cell_type": "code",
   "execution_count": null,
   "id": "57e27aaa",
   "metadata": {},
   "outputs": [],
   "source": [
    "plt.hist(AvanaGuideMap.nAlignments, bins=20)"
   ]
  },
  {
   "cell_type": "code",
   "execution_count": null,
   "id": "eb3ce0c5",
   "metadata": {},
   "outputs": [],
   "source": [
    "# AvanaLogfoldChange = tc.get(name='chronos2-0test3-internal-d93b', version=1, file='AvanaLogfoldChange')"
   ]
  },
  {
   "cell_type": "code",
   "execution_count": null,
   "id": "0a6bdea0",
   "metadata": {},
   "outputs": [],
   "source": [
    "# AvanaLogfoldChange.head()"
   ]
  },
  {
   "cell_type": "code",
   "execution_count": null,
   "id": "7b22d342",
   "metadata": {},
   "outputs": [],
   "source": [
    "# AvanaLogfoldChange.shape, AvanaGuideMap.shape"
   ]
  },
  {
   "cell_type": "code",
   "execution_count": null,
   "id": "720e22f7",
   "metadata": {},
   "outputs": [],
   "source": [
    "# np.intersect1d(AvanaGuideMap.loc[AvanaGuideMap.nAlignments==1, :].sgRNA, AvanaLogfoldChange.index).shape"
   ]
  },
  {
   "cell_type": "code",
   "execution_count": null,
   "id": "34124ac0",
   "metadata": {},
   "outputs": [],
   "source": [
    "# AvanaGuideMap.head()"
   ]
  },
  {
   "cell_type": "code",
   "execution_count": null,
   "id": "65e775d4",
   "metadata": {},
   "outputs": [],
   "source": [
    "# AvanaLogfoldChange.head()"
   ]
  },
  {
   "cell_type": "code",
   "execution_count": null,
   "id": "9a64f65b",
   "metadata": {},
   "outputs": [],
   "source": [
    "ScreenNaiveGeneScore = tc.get(name='chronos2-0test3-internal-d93b', version=1, file='ScreenNaiveGeneScore')"
   ]
  },
  {
   "cell_type": "code",
   "execution_count": null,
   "id": "32dadbfa",
   "metadata": {},
   "outputs": [],
   "source": [
    "ScreenNaiveGeneScore.head()"
   ]
  },
  {
   "cell_type": "code",
   "execution_count": null,
   "id": "75d37dbf",
   "metadata": {},
   "outputs": [],
   "source": [
    "AvanaGuideMap.loc[AvanaGuideMap.nAlignments==1, 'Gene'].unique().shape"
   ]
  },
  {
   "cell_type": "code",
   "execution_count": null,
   "id": "395152bb",
   "metadata": {},
   "outputs": [],
   "source": [
    "OmicsCNSegmentsProfile = tc.get(name='internal-23q2-1e49', version=59, file='OmicsCNSegmentsProfile')\n"
   ]
  },
  {
   "cell_type": "code",
   "execution_count": null,
   "id": "09758257",
   "metadata": {},
   "outputs": [],
   "source": [
    "OmicsCNSegmentsProfile.head()"
   ]
  },
  {
   "cell_type": "code",
   "execution_count": null,
   "id": "1694f07d",
   "metadata": {},
   "outputs": [],
   "source": [
    "OmicsCNGene = tc.get(name='internal-23q2-1e49', version=59, file='OmicsCNGene')"
   ]
  },
  {
   "cell_type": "code",
   "execution_count": null,
   "id": "96a862d1",
   "metadata": {},
   "outputs": [],
   "source": [
    "OmicsExpressionProteinCodingGenesTPMLogp1 = tc.get(name='internal-23q2-1e49', version=59, file='OmicsExpressionProteinCodingGenesTPMLogp1')"
   ]
  },
  {
   "cell_type": "code",
   "execution_count": null,
   "id": "bebfcfc0",
   "metadata": {},
   "outputs": [],
   "source": [
    "OmicsExpressionProteinCodingGenesTPMLogp1.head()"
   ]
  },
  {
   "cell_type": "code",
   "execution_count": null,
   "id": "ce387f0f",
   "metadata": {},
   "outputs": [],
   "source": [
    "overlap_exp_cn = np.intersect1d(OmicsCNGene.index.values, OmicsExpressionProteinCodingGenesTPMLogp1.index.values)\n",
    "overlap_genes = np.intersect1d(OmicsCNGene.columns.values, OmicsExpressionProteinCodingGenesTPMLogp1.columns.values)\n",
    "expression = OmicsExpressionProteinCodingGenesTPMLogp1.loc[overlap_exp_cn, overlap_genes]"
   ]
  },
  {
   "cell_type": "code",
   "execution_count": null,
   "id": "51b1393d",
   "metadata": {},
   "outputs": [],
   "source": [
    "cnv = OmicsCNGene.loc[overlap_exp_cn, overlap_genes]"
   ]
  },
  {
   "cell_type": "code",
   "execution_count": null,
   "id": "537bb827",
   "metadata": {},
   "outputs": [],
   "source": [
    "cnv.shape, expression.shape"
   ]
  },
  {
   "cell_type": "code",
   "execution_count": null,
   "id": "e9822721",
   "metadata": {},
   "outputs": [],
   "source": [
    "import pandas as pd\n",
    "from scipy.stats import pearsonr\n",
    "pearson_exp_cnv = []\n",
    "for sample in cnv.index:\n",
    "    exp_cnv = pd.DataFrame({\"CNV\": cnv.loc[sample], \"EXP\": expression.loc[sample]})\n",
    "    #print(exp_cnv.shape)\n",
    "    pearson_exp_cnv.append(exp_cnv.dropna().corr().values[1][0])"
   ]
  },
  {
   "cell_type": "code",
   "execution_count": null,
   "id": "f0f5ddc4",
   "metadata": {},
   "outputs": [],
   "source": [
    "plt.hist(pearson_exp_cnv)"
   ]
  },
  {
   "cell_type": "code",
   "execution_count": null,
   "id": "be666885",
   "metadata": {},
   "outputs": [],
   "source": [
    "OmicsCNGene.loc['ACH-000917', :]"
   ]
  },
  {
   "cell_type": "code",
   "execution_count": null,
   "id": "fa381f89",
   "metadata": {},
   "outputs": [],
   "source": [
    "OmicsProfiles = tc.get(name='public-23q2-19de', file='OmicsProfiles')"
   ]
  },
  {
   "cell_type": "code",
   "execution_count": null,
   "id": "08c6fbaa",
   "metadata": {},
   "outputs": [],
   "source": [
    "OmicsProfiles.head()"
   ]
  },
  {
   "cell_type": "code",
   "execution_count": null,
   "id": "10d2a7b7",
   "metadata": {},
   "outputs": [],
   "source": [
    "OmicsProfiles.ModelID.unique().shape, OmicsProfiles.ModelID.shape"
   ]
  },
  {
   "cell_type": "code",
   "execution_count": null,
   "id": "e15103c7",
   "metadata": {},
   "outputs": [],
   "source": [
    "OmicsProfiles.loc[OmicsProfiles.ModelID== 'ACH-001131', :]"
   ]
  },
  {
   "cell_type": "code",
   "execution_count": null,
   "id": "c07b8888",
   "metadata": {},
   "outputs": [],
   "source": [
    "OmicsProfiles.loc[OmicsProfiles.ModelID== 'ACH-000277', :]"
   ]
  },
  {
   "cell_type": "code",
   "execution_count": null,
   "id": "8165dd62",
   "metadata": {},
   "outputs": [],
   "source": [
    "OmicsDefaultModelProfiles = tc.get(name='internal-23q2-1e49', version=59, file='OmicsDefaultModelProfiles')"
   ]
  },
  {
   "cell_type": "code",
   "execution_count": null,
   "id": "c34722ca",
   "metadata": {},
   "outputs": [],
   "source": [
    "OmicsDefaultModelProfiles.head()"
   ]
  },
  {
   "cell_type": "code",
   "execution_count": null,
   "id": "069f1ffe",
   "metadata": {},
   "outputs": [],
   "source": [
    "CRISPRInferredCommonEssentials = tc.get(name='internal-22q4-56d4', version=93, file='CRISPRInferredCommonEssentials')"
   ]
  },
  {
   "cell_type": "code",
   "execution_count": null,
   "id": "48d15f38",
   "metadata": {},
   "outputs": [],
   "source": [
    "CRISPRInferredCommonEssentials.head()"
   ]
  },
  {
   "cell_type": "code",
   "execution_count": null,
   "id": "2dbda149",
   "metadata": {},
   "outputs": [],
   "source": [
    "ScreenSequenceMap = tc.get(name='internal-22q4-56d4', version=93, file='ScreenSequenceMap')"
   ]
  },
  {
   "cell_type": "code",
   "execution_count": null,
   "id": "f7868296",
   "metadata": {},
   "outputs": [],
   "source": [
    "ScreenSequenceMap.loc[ScreenSequenceMap.ModelID.isin(['ACH-001799', 'ACH-001819']), :]"
   ]
  },
  {
   "cell_type": "code",
   "execution_count": null,
   "id": "9f53f8b8",
   "metadata": {},
   "outputs": [],
   "source": [
    "CRISPRInferredCommonEssentials.shape"
   ]
  },
  {
   "cell_type": "code",
   "execution_count": null,
   "id": "6622bda9",
   "metadata": {},
   "outputs": [],
   "source": [
    "ScreenNaiveGeneScore.shape"
   ]
  },
  {
   "cell_type": "code",
   "execution_count": null,
   "id": "8fd6488b",
   "metadata": {},
   "outputs": [],
   "source": [
    "ScreenNaiveGeneScore = ScreenNaiveGeneScore.loc[:, np.setdiff1d(ScreenNaiveGeneScore.columns.values, CRISPRInferredCommonEssentials.Essentials.values)]"
   ]
  },
  {
   "cell_type": "code",
   "execution_count": null,
   "id": "56fff6db",
   "metadata": {},
   "outputs": [],
   "source": [
    "ScreenNaiveGeneScore = ScreenNaiveGeneScore.loc[:, np.intersect1d(ScreenNaiveGeneScore.columns, AvanaGuideMap.loc[AvanaGuideMap.nAlignments==1, 'Gene'].unique())]"
   ]
  },
  {
   "cell_type": "code",
   "execution_count": null,
   "id": "8b1cf507",
   "metadata": {},
   "outputs": [],
   "source": [
    "ScreenNaiveGeneScore.head()"
   ]
  },
  {
   "cell_type": "code",
   "execution_count": null,
   "id": "889f9a25",
   "metadata": {},
   "outputs": [],
   "source": [
    "OmicsCNGene.shape"
   ]
  },
  {
   "cell_type": "code",
   "execution_count": null,
   "id": "385772de",
   "metadata": {},
   "outputs": [],
   "source": [
    "OmicsCNGene.head()"
   ]
  },
  {
   "cell_type": "code",
   "execution_count": null,
   "id": "a9559240",
   "metadata": {},
   "outputs": [],
   "source": [
    "OmicsCNGene.loc['ACH-000277', :].shape"
   ]
  },
  {
   "cell_type": "code",
   "execution_count": null,
   "id": "57d0f831",
   "metadata": {},
   "outputs": [],
   "source": [
    "OmicsCNGene.loc['ACH-000277',:]"
   ]
  },
  {
   "cell_type": "code",
   "execution_count": null,
   "id": "3695310e",
   "metadata": {},
   "outputs": [],
   "source": [
    "OmicsCNGene.index.unique().shape, OmicsCNGene.shape"
   ]
  },
  {
   "cell_type": "code",
   "execution_count": null,
   "id": "d8a249d5",
   "metadata": {},
   "outputs": [],
   "source": [
    "ScreenSequenceMap.head()"
   ]
  },
  {
   "cell_type": "code",
   "execution_count": null,
   "id": "46d8ca2a",
   "metadata": {},
   "outputs": [],
   "source": [
    "import pandas as pd\n",
    "import seaborn as sns\n",
    "\n",
    "def pl_scatterplot_boxplot(ACH_id, cnv_cutoff=2):\n",
    "    screen_id = ScreenSequenceMap.loc[ScreenSequenceMap.ModelID.isin([ACH_id]), :].ScreenID.unique()[0]\n",
    "    print(screen_id)\n",
    "    overlap_index = np.intersect1d(ScreenNaiveGeneScore.loc[screen_id, :].dropna().index, OmicsCNGene.loc[ACH_id, :].dropna().index)\n",
    "    data = pd.DataFrame({'CN': OmicsCNGene.loc[ACH_id, :].dropna().loc[overlap_index], \n",
    "                         'ScreenNaiveScore': ScreenNaiveGeneScore.loc[screen_id, :].dropna().loc[overlap_index]})\n",
    "    print(data.head())\n",
    "    data.loc[:, 'ScreenNaiveScore'] -= data.loc[:, 'ScreenNaiveScore'].mean()\n",
    "    # Filter common essential genes\n",
    "    # Filter high copy number variation genes > 4\n",
    "    data = data.loc[data.CN>=cnv_cutoff, :]\n",
    "    data.loc[:, 'CNquantile'] = pd.cut(data.CN, 5, precision=1)\n",
    "    fig, ax = plt.subplots(1, 2)\n",
    "    fig.set_size_inches(9.3, 5)\n",
    "    sns.scatterplot(x='CN', y='ScreenNaiveScore', size=1, data=data, ax=ax[0])\n",
    "    sns.boxplot(x='CNquantile', y='ScreenNaiveScore', data=data, ax=ax[1] )\n",
    "    ax[1].tick_params(axis='x', rotation=90)"
   ]
  },
  {
   "cell_type": "code",
   "execution_count": null,
   "id": "b7745939",
   "metadata": {},
   "outputs": [],
   "source": [
    "import pandas as pd\n",
    "import seaborn as sns\n",
    "\n",
    "def eval_cnv_expr_cor(ACH_id, cnv_cutoff: float =2):\n",
    "    try:\n",
    "        screen_id = ScreenSequenceMap.loc[ScreenSequenceMap.ModelID.isin([ACH_id]), :].ScreenID.unique()[0]\n",
    "        overlap_index = np.intersect1d(ScreenNaiveGeneScore.loc[screen_id, :].dropna().index, OmicsCNGene.loc[ACH_id, :].dropna().index)\n",
    "        data = pd.DataFrame({'CN': OmicsCNGene.loc[ACH_id, :].dropna().loc[overlap_index], \n",
    "                             'ScreenNaiveScore': ScreenNaiveGeneScore.loc[screen_id, :].dropna().loc[overlap_index]})\n",
    "        data = data.loc[data.CN>=cnv_cutoff, :]    \n",
    "        return data.corr().values[1][0]\n",
    "    except:\n",
    "        return np.nan"
   ]
  },
  {
   "cell_type": "code",
   "execution_count": null,
   "id": "d122f618",
   "metadata": {},
   "outputs": [],
   "source": [
    "for sample in OmicsCNGene.var(axis=1).sort_values(ascending=False).index[:5]:\n",
    "    try:\n",
    "        pl_scatterplot_boxplot(sample, cnv_cutoff=2)\n",
    "        plt.title(sample)\n",
    "    except:\n",
    "        print(sample)\n",
    "    "
   ]
  },
  {
   "cell_type": "code",
   "execution_count": null,
   "id": "5eff7e3b",
   "metadata": {},
   "outputs": [],
   "source": [
    "plt.hist(OmicsCNGene.var(axis=1))"
   ]
  },
  {
   "cell_type": "code",
   "execution_count": null,
   "id": "29883908",
   "metadata": {},
   "outputs": [],
   "source": [
    "crispr_cnv = []\n",
    "cutoffs = [1, 2, 3, 4]\n",
    "for cutoff in cutoffs:\n",
    "    for sample in OmicsCNGene.var(axis=1).sort_values(ascending=False).index[:50]:\n",
    "        crispr_cnv.append(eval_cnv_expr_cor(sample, cnv_cutoff=cutoff))\n",
    "    plt.figure()\n",
    "    plt.hist(crispr_cnv)    \n",
    "    plt.title(cutoff)"
   ]
  },
  {
   "cell_type": "code",
   "execution_count": null,
   "id": "6e5d9602",
   "metadata": {},
   "outputs": [],
   "source": [
    "OmicsProfiles = tc.get(name='internal-23q2-1e49', version=59, file='OmicsProfiles')"
   ]
  },
  {
   "cell_type": "code",
   "execution_count": null,
   "id": "ca321fbe",
   "metadata": {},
   "outputs": [],
   "source": [
    "OmicsProfiles.head()"
   ]
  },
  {
   "cell_type": "code",
   "execution_count": null,
   "id": "d6285f15",
   "metadata": {},
   "outputs": [],
   "source": [
    "merged_gene_cn_profile = tc.get(name='cn-latest-d8d4', version=40, file='merged_gene_cn_profile')"
   ]
  },
  {
   "cell_type": "code",
   "execution_count": null,
   "id": "4a2ce45f",
   "metadata": {},
   "outputs": [],
   "source": [
    "merged_gene_cn_profile.head()"
   ]
  },
  {
   "cell_type": "code",
   "execution_count": null,
   "id": "772df943",
   "metadata": {},
   "outputs": [],
   "source": [
    "OmicsProfiles.ProfileID.isin(merged_gene_cn_profile.index).sum()"
   ]
  },
  {
   "cell_type": "code",
   "execution_count": null,
   "id": "2e014801",
   "metadata": {},
   "outputs": [],
   "source": [
    "OmicsProfiles.ProfileID.unique().shape"
   ]
  },
  {
   "cell_type": "code",
   "execution_count": null,
   "id": "a3915fbd",
   "metadata": {},
   "outputs": [],
   "source": [
    "merged_gene_cn_profile.index.unique().shape"
   ]
  },
  {
   "cell_type": "code",
   "execution_count": null,
   "id": "4f2bcdf0",
   "metadata": {},
   "outputs": [],
   "source": [
    "OmicsProfiles.loc[~OmicsProfiles.ProfileID.isin(merged_gene_cn_profile.index)].Datatype.unique()"
   ]
  },
  {
   "cell_type": "code",
   "execution_count": null,
   "id": "b997d38c",
   "metadata": {},
   "outputs": [],
   "source": [
    "OmicsDefaultModelProfiles.head()"
   ]
  },
  {
   "cell_type": "code",
   "execution_count": null,
   "id": "a93b1fe4",
   "metadata": {},
   "outputs": [],
   "source": [
    "(~merged_gene_cn_profile.index.isin(OmicsProfiles.ProfileID)).sum()"
   ]
  },
  {
   "cell_type": "code",
   "execution_count": null,
   "id": "7c66fe42",
   "metadata": {},
   "outputs": [],
   "source": [
    "(~merged_gene_cn_profile.index.isin(OmicsDefaultModelProfiles.ProfileID)).sum() "
   ]
  },
  {
   "cell_type": "code",
   "execution_count": null,
   "id": "0bf04b53",
   "metadata": {},
   "outputs": [],
   "source": [
    "protocol_map_dict = dict(zip(OmicsProfiles.ProfileID, OmicsProfiles.Datatype))\n",
    "new_cnv_index = [protocol_map_dict.get(key, 'NA') for key in merged_gene_cn_profile.index]"
   ]
  },
  {
   "cell_type": "code",
   "execution_count": null,
   "id": "b9662e8d",
   "metadata": {},
   "outputs": [],
   "source": [
    "model_map_dict = dict(zip(OmicsProfiles.ProfileID, OmicsProfiles.ModelID))\n",
    "new_model = [model_map_dict.get(key, 'NA') for key in merged_gene_cn_profile.index]"
   ]
  },
  {
   "cell_type": "code",
   "execution_count": null,
   "id": "f6befb50",
   "metadata": {},
   "outputs": [],
   "source": [
    "merged_gene_cn_profile.loc[:, 'platform'] = new_cnv_index"
   ]
  },
  {
   "cell_type": "code",
   "execution_count": null,
   "id": "52edb2d9",
   "metadata": {},
   "outputs": [],
   "source": [
    "merged_gene_cn_profile.loc[:, 'ModelID'] = new_model"
   ]
  },
  {
   "cell_type": "code",
   "execution_count": null,
   "id": "7cb9f11a",
   "metadata": {},
   "outputs": [],
   "source": [
    "merged_gene_cn_profile.head()"
   ]
  },
  {
   "cell_type": "code",
   "execution_count": null,
   "id": "4bf11f2b",
   "metadata": {},
   "outputs": [],
   "source": [
    "# from depmap_omics_upload import tracker\n",
    "# mytracker = tracker.SampleTracker(gumbo_env='production')\n",
    "# pr_with_oncotree = mytracker.add_model_cols_to_prtable(cols=[\"ModelID\", \"depmap_model_type\"])\n",
    "# pr_with_oncotree.to_csv(\"all_meta_oncotree.tsv\", sep='\\t')"
   ]
  },
  {
   "cell_type": "code",
   "execution_count": null,
   "id": "bab62793",
   "metadata": {},
   "outputs": [],
   "source": [
    "assert (merged_gene_cn_profile.platform=='NA').sum() == (merged_gene_cn_profile.ModelID == 'NA').sum()"
   ]
  },
  {
   "cell_type": "code",
   "execution_count": null,
   "id": "06d8d362",
   "metadata": {},
   "outputs": [],
   "source": [
    "merged_gene_cn_profile_nonull = merged_gene_cn_profile.loc[merged_gene_cn_profile.platform!='NA', :]"
   ]
  },
  {
   "cell_type": "code",
   "execution_count": null,
   "id": "c611a9e8",
   "metadata": {},
   "outputs": [],
   "source": [
    "merged_gene_cn_profile_nonull.head()"
   ]
  },
  {
   "cell_type": "code",
   "execution_count": null,
   "id": "16a07e34",
   "metadata": {},
   "outputs": [],
   "source": [
    "merged_gene_cn_profile_nonull.platform.value_counts()"
   ]
  },
  {
   "cell_type": "code",
   "execution_count": null,
   "id": "1c01daac",
   "metadata": {},
   "outputs": [],
   "source": [
    "(merged_gene_cn_profile_nonull.ModelID.value_counts()>1).sum()"
   ]
  },
  {
   "cell_type": "code",
   "execution_count": null,
   "id": "691dabc2",
   "metadata": {},
   "outputs": [],
   "source": [
    "merged_segments_profile = tc.get(name='cn-latest-d8d4', version=40, file='merged_segments_profile')"
   ]
  },
  {
   "cell_type": "code",
   "execution_count": null,
   "id": "047973ad",
   "metadata": {},
   "outputs": [],
   "source": [
    "merged_segments_profile.head()"
   ]
  },
  {
   "cell_type": "code",
   "execution_count": null,
   "id": "1e6b1afe",
   "metadata": {},
   "outputs": [],
   "source": []
  }
 ],
 "metadata": {
  "kernelspec": {
   "display_name": "Python 3 (ipykernel)",
   "language": "python",
   "name": "python3"
  },
  "language_info": {
   "codemirror_mode": {
    "name": "ipython",
    "version": 3
   },
   "file_extension": ".py",
   "mimetype": "text/x-python",
   "name": "python",
   "nbconvert_exporter": "python",
   "pygments_lexer": "ipython3",
   "version": "3.10.8"
  }
 },
 "nbformat": 4,
 "nbformat_minor": 5
}
