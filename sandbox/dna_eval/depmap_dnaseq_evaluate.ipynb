{
 "cells": [
  {
   "cell_type": "markdown",
   "metadata": {},
   "source": [
    "# DepMap WGS and WES variant filtering and whitelisting evaluation\n",
    "\n"
   ]
  },
  {
   "cell_type": "markdown",
   "metadata": {},
   "source": [
    "# Outline\n",
    "\n",
    "- [Setup](#setup)\n",
    "   - [Dependencies](#load-packages)\n",
    "   - [Datasets](#load-datasets)\n",
    "- [Sanity checks of variants](#sanity-checks)\n",
    "- [CompareToPastRelease]()"
   ]
  },
  {
   "cell_type": "markdown",
   "metadata": {},
   "source": [
    "# Setup"
   ]
  },
  {
   "cell_type": "code",
   "execution_count": null,
   "metadata": {},
   "outputs": [],
   "source": [
    "%load_ext autoreload\n",
    "%autoreload 2\n",
    "%matplotlib inline"
   ]
  },
  {
   "cell_type": "code",
   "execution_count": null,
   "metadata": {},
   "outputs": [],
   "source": [
    "# %%capture\n",
    "# !pip install plotly"
   ]
  },
  {
   "cell_type": "code",
   "execution_count": null,
   "metadata": {},
   "outputs": [],
   "source": [
    "# ! pip install -U kaleido"
   ]
  },
  {
   "cell_type": "markdown",
   "metadata": {},
   "source": [
    "## Load packages"
   ]
  },
  {
   "cell_type": "code",
   "execution_count": null,
   "metadata": {},
   "outputs": [],
   "source": [
    "import pandas as pd\n",
    "import numpy as np\n",
    "import scipy\n",
    "import seaborn as sns\n",
    "import matplotlib.pyplot as plt\n",
    "from taigapy import TaigaClient\n",
    "import os\n",
    "import plotnine\n",
    "import plotly.io as pio\n",
    "\n",
    "pio.renderers.default = \"jpeg\"\n",
    "tc = TaigaClient()"
   ]
  },
  {
   "cell_type": "code",
   "execution_count": null,
   "metadata": {},
   "outputs": [],
   "source": [
    "%pwd"
   ]
  },
  {
   "cell_type": "markdown",
   "metadata": {},
   "source": [
    "## Load Datasets"
   ]
  },
  {
   "cell_type": "code",
   "execution_count": null,
   "metadata": {},
   "outputs": [],
   "source": [
    "# Generate aggregated maf from remote Terra workspaces\n",
    "\n",
    "!python combine_mafs.py"
   ]
  },
  {
   "cell_type": "code",
   "execution_count": null,
   "metadata": {},
   "outputs": [],
   "source": [
    "assert os.path.exists(\"23Q4_mutation_maf_latest.tsv\")"
   ]
  },
  {
   "cell_type": "code",
   "execution_count": null,
   "metadata": {},
   "outputs": [],
   "source": [
    "# Upload to Taiga for data version control\n",
    "\n",
    "update = True\n",
    "if update:\n",
    "    new_dataset_id = tc.update_dataset(\n",
    "        \"23q4-mutation-maf-f431\",\n",
    "        changes_description=\"this is a draft for 23Q4 maf of mutation\",\n",
    "        upload_files=[\n",
    "            {\n",
    "                \"path\": \"23Q4_mutation_maf_latest.tsv\",\n",
    "                \"name\": \"MAF\", # optional, will use file name if not provided\n",
    "                \"format\": \"Raw\", # or \"NumericMatrixCSV\" or \"TableCSV\"\n",
    "                \"encoding\": \"utf-8\" # optional (but recommended), will use iso-8859-1 if not provided\n",
    "            }\n",
    "        ],\n",
    "        add_all_existing_files=True,\n",
    "    )\n",
    "else:\n",
    "    new_dataset_id = tc.create_dataset(\n",
    "        \"23Q4_mutation_maf\",\n",
    "        dataset_description=\"this is a draft for 23Q4 maf of mutation\",\n",
    "        upload_files=[\n",
    "            {\n",
    "                \"path\": \"23Q4_mutation_maf_latest.tsv\",\n",
    "                \"name\": \"MAF\", # optional, will use file name if not provided\n",
    "                \"format\": \"Raw\", # or \"NumericMatrixCSV\" or \"TableCSV\"\n",
    "                \"encoding\": \"utf-8\" # optional (but recommended), will use iso-8859-1 if not provided\n",
    "            }\n",
    "        ],\n",
    "        folder_id=\"a9eedc220a6a4e70b8f1e64d2e57ed87\", # optional, will default to your home folder if not provided\n",
    "    )\n",
    "\n",
    "# new_dataset_id"
   ]
  },
  {
   "cell_type": "code",
   "execution_count": null,
   "metadata": {},
   "outputs": [],
   "source": [
    "%%capture\n",
    "maf_variants_23q4 = tc.download_to_cache(name='23q4-mutation-maf-f431', version=2, file='MAF')  # download_to_cache for raw\n",
    "maf_variants_23q4 = pd.read_table(maf_variants_23q4)\n",
    "\n",
    "# release_standard_maf is profile-based\n",
    "# release_maf_23q2 is model-based\n",
    "# We removed variants without gene symbols\n",
    "release_maf_23q2 = tc.get(name='internal-23q2-1e49', version=98, file='OmicsSomaticMutations')\n",
    "release_standard_maf = tc.download_to_cache(name='internal-23q2-1e49', version=98, file='OmicsSomaticMutationsMAFProfile.maf')  # download_to_cache for raw\n",
    "release_standard_maf_23q2 = pd.read_table(release_standard_maf)"
   ]
  },
  {
   "cell_type": "markdown",
   "metadata": {},
   "source": [
    "# Sanity checks"
   ]
  },
  {
   "cell_type": "markdown",
   "metadata": {},
   "source": [
    "## Sanity checks for compound variants that has multiple consequences even with --pick\n",
    "\n",
    "- Typical examples are splicing variants that may be missense mutation as well"
   ]
  },
  {
   "cell_type": "code",
   "execution_count": null,
   "metadata": {},
   "outputs": [],
   "source": [
    "maf_variants_23q4.loc[:, 'gnomade_af'] = maf_variants_23q4.loc[:, 'gnomade_af'].fillna(0)"
   ]
  },
  {
   "cell_type": "code",
   "execution_count": null,
   "metadata": {},
   "outputs": [],
   "source": [
    "maf_variants_23q4.loc[:, 'gnomadg_af'] = maf_variants_23q4.loc[:, 'gnomadg_af'].fillna(0)"
   ]
  },
  {
   "cell_type": "code",
   "execution_count": null,
   "metadata": {},
   "outputs": [],
   "source": [
    "maf_variants_23q4.loc[:, 'gnomade_af'].describe()"
   ]
  },
  {
   "cell_type": "code",
   "execution_count": null,
   "metadata": {},
   "outputs": [],
   "source": [
    "check_columns = ['pos', 'gnomadg_af', 'hess_driver', 'vep_impact', 'cosmic_tier', 'civic_score', 'clnsig', 'hugo_symbol', 'vep_mane_select', 'variant_info', 'protein_change', 'oncokb_oncogenic', 'oncokb_effect', 'oncokb_hotspot', 'rescue']"
   ]
  },
  {
   "cell_type": "code",
   "execution_count": null,
   "metadata": {},
   "outputs": [],
   "source": [
    "# splicing mutation do not have protein changes\n",
    "# when co-exist with synonymous mutation or missense mutation\n",
    "# there will be protein changes\n",
    "maf_variants_23q4.query(\"variant_info.str.contains('&')\")[check_columns].head()"
   ]
  },
  {
   "cell_type": "code",
   "execution_count": null,
   "metadata": {},
   "outputs": [],
   "source": [
    "# Remaining compound synonymous mutations are caused by rescue\n",
    "# 25 of them are from julian's papers\n",
    "maf_variants_23q4.query(\"variant_info.str.contains('&') & variant_info.str.contains('syno')\").value_counts(\"hess_driver\"), maf_variants_23q4.query(\"variant_info.str.contains('&') & variant_info.str.contains('syno')\").value_counts(\"rescue\").sum()"
   ]
  },
  {
   "cell_type": "code",
   "execution_count": null,
   "metadata": {},
   "outputs": [],
   "source": [
    "# No missense and Synonymous mutation co-occur\n",
    "# This is a sanity check that we chose only one transcript per variant\n",
    "((maf_variants_23q4.variant_info.str.contains('synony')) & (maf_variants_23q4.variant_info.str.contains('mis'))).sum()"
   ]
  },
  {
   "cell_type": "markdown",
   "metadata": {},
   "source": [
    "## Sanity checks of repeat elements"
   ]
  },
  {
   "cell_type": "code",
   "execution_count": null,
   "metadata": {},
   "outputs": [],
   "source": [
    "# Some segmental duplicates are masking the oncokb annotations\n",
    "# but rescued back\n",
    "maf_variants_23q4.query(\"segdup == 'Y'\").shape, maf_variants_23q4.query(\"segdup == 'Y'\").value_counts('oncokb_effect')"
   ]
  },
  {
   "cell_type": "code",
   "execution_count": null,
   "metadata": {},
   "outputs": [],
   "source": [
    "# all of the repeat masking variants are from high impact variants on Tumor Suppressor or Oncogene\n",
    "# We only whitelisting high impact mutations that locate in the Tumor Suppressor or Oncogene\n",
    "maf_variants_23q4.query(\"rm == 'Y'\").shape, maf_variants_23q4.query(\"rm == 'Y'\").value_counts('vep_impact')"
   ]
  },
  {
   "cell_type": "markdown",
   "metadata": {},
   "source": [
    "## Sanity checks with St Jude clinical pipeline"
   ]
  },
  {
   "cell_type": "code",
   "execution_count": null,
   "metadata": {},
   "outputs": [],
   "source": [
    "# Miss two only St Jude InDel now\n",
    "\n",
    "## MONOMAC1\tchr11.47355346.GC.\tchr11.47355353.CGCC.CC\tInDel\tTP53\tNA\n",
    "## SKNAS\tchr6.156778971..GCA\tchr6.156778980.GG.GCAGG\tInDel\n",
    "## For St Jude results to be left-aligned as well\n",
    "maf_variants_23q4.loc[maf_variants_23q4.pos.isin(np.array([105272634, 41224922, 124064038, 48791113, 23803335, 7675067, 47355346, 68293321, 156778971, 226064457, 49041176]) - 1), check_columns].shape"
   ]
  },
  {
   "cell_type": "markdown",
   "metadata": {},
   "source": [
    "## Sanity checks of Somatic filter \n",
    "\n",
    "- Gnomad genome frequencies\n",
    "- Gnomad exome frequencies"
   ]
  },
  {
   "cell_type": "code",
   "execution_count": null,
   "metadata": {},
   "outputs": [],
   "source": [
    "# We will not keep low frequency synonymous mutation that are never compound with splicing or other consequences\n",
    "maf_variants_23q4['gnomadg_af'].describe()"
   ]
  },
  {
   "cell_type": "code",
   "execution_count": null,
   "metadata": {},
   "outputs": [],
   "source": [
    "maf_variants_23q4.gnomadg_af.isnull().sum() / maf_variants_23q4.shape[0], ((maf_variants_23q4.gnomadg_af.astype('float32') < 1e-5)).sum() / maf_variants_23q4.shape[0], ((maf_variants_23q4.gnomadg_af.astype('float32') >= 1e-5)).sum() / maf_variants_23q4.shape[0]"
   ]
  },
  {
   "cell_type": "code",
   "execution_count": null,
   "metadata": {},
   "outputs": [],
   "source": [
    "(maf_variants_23q4.gnomadg_af.astype('float32') >= 1e-5).sum() "
   ]
  },
  {
   "cell_type": "code",
   "execution_count": null,
   "metadata": {},
   "outputs": [],
   "source": [
    "maf_variants_23q4.shape"
   ]
  },
  {
   "cell_type": "code",
   "execution_count": null,
   "metadata": {},
   "outputs": [],
   "source": [
    "import plotly.express as px\n",
    "fig = px.pie(((maf_variants_23q4.gnomadg_af.astype('float32')>1e-5) | ((maf_variants_23q4.gnomade_af.astype('float32')>1e-5))).value_counts().reset_index(), names=\"index\", values=0)\n",
    "fig.show()"
   ]
  },
  {
   "cell_type": "markdown",
   "metadata": {},
   "source": [
    "## Sanity checks of Whitelisted variants number"
   ]
  },
  {
   "cell_type": "code",
   "execution_count": null,
   "metadata": {},
   "outputs": [],
   "source": [
    "maf_variants_23q4.rescue.dropna().shape"
   ]
  },
  {
   "cell_type": "code",
   "execution_count": null,
   "metadata": {},
   "outputs": [],
   "source": [
    "maf_variants_23q4.rescue.dropna().sum(), maf_variants_23q4.rescue.dropna().shape[0]"
   ]
  },
  {
   "cell_type": "code",
   "execution_count": null,
   "metadata": {},
   "outputs": [],
   "source": [
    "# Majority of simple synonymous mutations are rescued by Julian's paper\n",
    "# Let's remove hess_driver in rescue list\n",
    "maf_variants_23q4.query(\"variant_info.str.contains('syno')\")[check_columns].value_counts(\"hess_driver\"), (maf_variants_23q4.hess_driver == 'Y').sum()"
   ]
  },
  {
   "cell_type": "code",
   "execution_count": null,
   "metadata": {},
   "outputs": [],
   "source": [
    "rescued_maf_variants = maf_variants_23q4.loc[maf_variants_23q4.rescue, :]\n",
    "rescued_maf_variants_sub_categores = rescued_maf_variants.loc[:, ['cosmic_tier', 'oncokb_effect', 'oncokb_hotspot', 'oncokb_oncogenic', 'hess_driver', 'gnomadg_af', 'gnomade_af']].melt(id_vars=['cosmic_tier', 'oncokb_effect', 'oncokb_hotspot', 'oncokb_oncogenic', 'hess_driver'])\n",
    "\n",
    "## Majority of the oncoKB hotspot mutation are also very pemissive\n",
    "## They will introduce inclusive oncoKB mutation effects \n",
    "## Let's remove hotspot mutation for whitelisting ..\n",
    "## May consider run hotspot method later\n",
    "\n",
    "sns.set_style(\"white\")\n",
    "fig, ax = plt.subplots(1, 5)\n",
    "fig.set_size_inches(15, 4)\n",
    "ax = ax.flatten()\n",
    "\n",
    "sns.violinplot(data=rescued_maf_variants_sub_categores, x='cosmic_tier', y='value', hue='variable', ax=ax[0])\n",
    "sns.violinplot(data=rescued_maf_variants_sub_categores, x='oncokb_effect', y='value', hue='variable', ax=ax[1])\n",
    "sns.violinplot(data=rescued_maf_variants_sub_categores, x='oncokb_hotspot', y='value', hue='variable', ax=ax[2])\n",
    "sns.violinplot(data=rescued_maf_variants_sub_categores, x='oncokb_oncogenic', y='value', hue='variable', ax=ax[3])\n",
    "sns.violinplot(data=rescued_maf_variants_sub_categores, x='hess_driver', y='value', hue='variable', ax=ax[4])\n",
    "\n",
    "for ax_index, curr_ax in enumerate(ax):\n",
    "    for tick in curr_ax.get_xticklabels():\n",
    "        tick.set_rotation(45)\n",
    "        tick.set_ha('right')\n",
    "        sns.despine()\n",
    "        if ax_index == 4:\n",
    "            curr_ax.legend(bbox_to_anchor=(0.5, 1.2), ncol=3, fancybox=True, shadow=True, loc='upper center')\n",
    "        else:\n",
    "            curr_ax.legend().set_visible(False)\n",
    "#plt.tight_layout()\n"
   ]
  },
  {
   "cell_type": "code",
   "execution_count": null,
   "metadata": {},
   "outputs": [],
   "source": [
    "sns.ecdfplot(data=rescued_maf_variants, y=\"gnomadg_af\", label='Gnomad Genome')\n",
    "sns.ecdfplot(data=rescued_maf_variants, y=\"gnomade_af\", label='Gnomad Exome')\n",
    "plt.ylabel(\"AF\")\n",
    "plt.legend()"
   ]
  },
  {
   "cell_type": "markdown",
   "metadata": {},
   "source": [
    "# Remove some rescue list to finalize a maf file"
   ]
  },
  {
   "cell_type": "code",
   "execution_count": null,
   "metadata": {},
   "outputs": [],
   "source": [
    "adjusted_gnomad_af_cutoff = 1e-1 # version 1 \n",
    "\n",
    "# Turn off hotspot rescue list \n",
    "# for both oncoKB and hess driver\n",
    "# maf_variants_23q4_hotspot = maf_variants_23q4.query(\"(oncokb_hotspot == 'Y') | (hess_driver == 'Y')\")\n",
    "\n",
    "## # Only remove the hotspot with synonymous mutations and high allele frequency\n",
    "#maf_variants_23q4_clean = maf_variants_23q4.drop(maf_variants_23q4_hotspot.index[((maf_variants_23q4_hotspot.gnomadg_af > adjusted_gnomad_af_cutoff) | (maf_variants_23q4_hotspot.gnomade_af > adjusted_gnomad_af_cutoff)) & (maf_variants_23q4_hotspot.variant_info.str.contains(\"^syno\", regex=True))], axis=0)\n",
    "\n",
    "# With above filter of rescue list\n",
    "# We still have ~110 synonymous mutations\n",
    "# Remove synonymous mutation even with low gnomad af\n",
    "# Unless there is very strong oncoKB support \n",
    "# any variants with leftmost (strongest) consequence is synonymous mutation \n",
    "# will be removed\n",
    "\n",
    "maf_variants_23q4_clean = maf_variants_23q4.query(\"~variant_info.str.contains('^synony', regex=True)\")"
   ]
  },
  {
   "cell_type": "code",
   "execution_count": null,
   "metadata": {},
   "outputs": [],
   "source": [
    "maf_variants_23q4_clean.shape"
   ]
  },
  {
   "cell_type": "code",
   "execution_count": null,
   "metadata": {},
   "outputs": [],
   "source": [
    "# Double check after removing hotspot rescue\n",
    "rescued_maf_variants = maf_variants_23q4_clean.loc[maf_variants_23q4_clean.rescue, :]\n",
    "rescued_maf_variants_sub_categores = rescued_maf_variants.loc[:, ['cosmic_tier', 'oncokb_effect', 'oncokb_hotspot', 'oncokb_oncogenic', 'hess_driver', 'gnomadg_af', 'gnomade_af']].melt(id_vars=['cosmic_tier', 'oncokb_effect', 'oncokb_hotspot', 'oncokb_oncogenic', 'hess_driver'])\n",
    "\n",
    "## Majority of the oncoKB hotspot mutation are also very pemissive\n",
    "## They will introduce inclusive oncoKB mutation effects \n",
    "## Let's remove hotspot mutation for whitelisting ..\n",
    "## May consider run hotspot method later\n",
    "\n",
    "sns.set_style(\"white\")\n",
    "fig, ax = plt.subplots(1, 5)\n",
    "fig.set_size_inches(18, 4)\n",
    "ax = ax.flatten()\n",
    "\n",
    "sns.violinplot(data=rescued_maf_variants_sub_categores, x='cosmic_tier', y='value', hue='variable', ax=ax[0])\n",
    "sns.violinplot(data=rescued_maf_variants_sub_categores, x='oncokb_effect', y='value', hue='variable', ax=ax[1])\n",
    "sns.violinplot(data=rescued_maf_variants_sub_categores, x='oncokb_hotspot', y='value', hue='variable', ax=ax[2])\n",
    "sns.violinplot(data=rescued_maf_variants_sub_categores, x='oncokb_oncogenic', y='value', hue='variable', ax=ax[3])\n",
    "sns.violinplot(data=rescued_maf_variants_sub_categores, x='hess_driver', y='value', hue='variable', ax=ax[4])\n",
    "\n",
    "for ax_index, curr_ax in enumerate(ax):\n",
    "    for tick in curr_ax.get_xticklabels():\n",
    "        tick.set_rotation(45)\n",
    "        tick.set_ha('right')\n",
    "        sns.despine()\n",
    "        if ax_index == 4:\n",
    "            curr_ax.legend(bbox_to_anchor=(0.5, 1.2), ncol=3, fancybox=True, shadow=True, loc='upper center')\n",
    "        else:\n",
    "            curr_ax.legend().set_visible(False)\n",
    "plt.tight_layout()"
   ]
  },
  {
   "cell_type": "code",
   "execution_count": null,
   "metadata": {},
   "outputs": [],
   "source": [
    "rescued_maf_variants.gnomade_af.max(), rescued_maf_variants.gnomadg_af.max()"
   ]
  },
  {
   "cell_type": "code",
   "execution_count": null,
   "metadata": {},
   "outputs": [],
   "source": [
    "# Turn off oncoKB hotspot rescue list  \n",
    "# maf_variants_23q4_oncokb = maf_variants_23q4_clean.query(\"(oncokb_hotspot == 'Y')\")\n",
    "\n",
    "## Only remove the hotspot with synonymous mutations and high allele frequency\n",
    "#maf_variants_23q4_clean = maf_variants_23q4_clean.drop(maf_variants_23q4_oncokb.index[((maf_variants_23q4_oncokb.gnomadg_af > adjusted_gnomad_af_cutoff) | (maf_variants_23q4_oncokb.gnomade_af > adjusted_gnomad_af_cutoff)) | \\\n",
    "#                                                                                       (maf_variants_23q4_oncokb.oncokb_effect.str.contains(\"^Inconclusive\", regex=True))], axis=0)\n",
    "\n",
    "# We do not remove any inclusive mutation which are hotspot in oncoKB\n",
    "maf_variants_23q4_clean = maf_variants_23q4_clean.drop(maf_variants_23q4_clean.index[((maf_variants_23q4_clean.gnomadg_af > adjusted_gnomad_af_cutoff) | (maf_variants_23q4_clean.gnomade_af > adjusted_gnomad_af_cutoff))], axis=0)\n",
    "\n",
    "maf_variants_23q4_clean.shape                                                                                    "
   ]
  },
  {
   "cell_type": "code",
   "execution_count": null,
   "metadata": {},
   "outputs": [],
   "source": [
    "# Double check after removing hotspot rescue\n",
    "rescued_maf_variants = maf_variants_23q4_clean.loc[maf_variants_23q4_clean.rescue, :]\n",
    "rescued_maf_variants_sub_categores = rescued_maf_variants.loc[:, ['cosmic_tier', 'oncokb_effect', 'oncokb_hotspot', 'oncokb_oncogenic', 'hess_driver', 'gnomadg_af', 'gnomade_af']].melt(id_vars=['cosmic_tier', 'oncokb_effect', 'oncokb_hotspot', 'oncokb_oncogenic', 'hess_driver'])\n",
    "\n",
    "## Majority of the oncoKB hotspot mutation are also very pemissive\n",
    "## They will introduce inclusive oncoKB mutation effects \n",
    "## Let's remove hotspot mutation for whitelisting ..\n",
    "## May consider run hotspot method later\n",
    "\n",
    "sns.set_style(\"white\")\n",
    "fig, ax = plt.subplots(1, 5)\n",
    "fig.set_size_inches(18, 4)\n",
    "ax = ax.flatten()\n",
    "\n",
    "sns.violinplot(data=rescued_maf_variants_sub_categores, x='cosmic_tier', y='value', hue='variable', ax=ax[0])\n",
    "sns.violinplot(data=rescued_maf_variants_sub_categores, x='oncokb_effect', y='value', hue='variable', ax=ax[1])\n",
    "sns.violinplot(data=rescued_maf_variants_sub_categores, x='oncokb_hotspot', y='value', hue='variable', ax=ax[2])\n",
    "sns.violinplot(data=rescued_maf_variants_sub_categores, x='oncokb_oncogenic', y='value', hue='variable', ax=ax[3])\n",
    "sns.violinplot(data=rescued_maf_variants_sub_categores, x='hess_driver', y='value', hue='variable', ax=ax[4])\n",
    "\n",
    "for ax_index, curr_ax in enumerate(ax):\n",
    "    for tick in curr_ax.get_xticklabels():\n",
    "        tick.set_rotation(45)\n",
    "        tick.set_ha('right')\n",
    "        sns.despine()\n",
    "        if ax_index == 4:\n",
    "            curr_ax.legend(bbox_to_anchor=(0.5, 1.2), ncol=3, fancybox=True, shadow=True, loc='upper center')\n",
    "        else:\n",
    "            curr_ax.legend().set_visible(False)\n",
    "plt.tight_layout()"
   ]
  },
  {
   "cell_type": "code",
   "execution_count": null,
   "metadata": {},
   "outputs": [],
   "source": [
    "# # Trim COSMIC tier 1 with high frequency\n",
    "# maf_variants_23q4_cosmic = maf_variants_23q4_clean.query(\"(cosmic_tier == 1) | (cosmic_tier == 3)\")\n",
    "\n",
    "# # Only remove the hotspot with synonymous mutations and high allele frequency\n",
    "# maf_variants_23q4_clean = maf_variants_23q4_clean.drop(maf_variants_23q4_cosmic.index[((maf_variants_23q4_cosmic.gnomadg_af > adjusted_gnomad_af_cutoff) | (maf_variants_23q4_cosmic.gnomade_af > adjusted_gnomad_af_cutoff))], axis=0)\n",
    "\n",
    "maf_variants_23q4_clean.shape                                                                                    "
   ]
  },
  {
   "cell_type": "markdown",
   "metadata": {},
   "source": [
    "### Check COSMIC census genes overlap with different adjusted gnomad for rescue list"
   ]
  },
  {
   "cell_type": "code",
   "execution_count": null,
   "metadata": {},
   "outputs": [],
   "source": [
    "# Simplify the whole rescue list adjustment process\n",
    "adjusted_gnomad_af_cutoff = 1e-2 # version 2\n",
    "maf_variants_23q4_clean_v2 = maf_variants_23q4_clean.drop(maf_variants_23q4_clean.index[((maf_variants_23q4_clean.gnomadg_af > adjusted_gnomad_af_cutoff) | (maf_variants_23q4_clean.gnomade_af > adjusted_gnomad_af_cutoff))], axis=0)"
   ]
  },
  {
   "cell_type": "code",
   "execution_count": null,
   "metadata": {},
   "outputs": [],
   "source": [
    "# Simplify the whole rescue list adjustment process\n",
    "adjusted_gnomad_af_cutoff = 1e-3 # version 3\n",
    "maf_variants_23q4_clean_v3 = maf_variants_23q4_clean.drop(maf_variants_23q4_clean.index[((maf_variants_23q4_clean.gnomadg_af > adjusted_gnomad_af_cutoff) | (maf_variants_23q4_clean.gnomade_af > adjusted_gnomad_af_cutoff))], axis=0)"
   ]
  },
  {
   "cell_type": "code",
   "execution_count": null,
   "metadata": {},
   "outputs": [],
   "source": [
    "adjusted_gnomad_af_cutoff = 1e-4 # version 4\n",
    "maf_variants_23q4_clean_v4 = maf_variants_23q4_clean.drop(maf_variants_23q4_clean.index[((maf_variants_23q4_clean.gnomadg_af > adjusted_gnomad_af_cutoff) | (maf_variants_23q4_clean.gnomade_af > adjusted_gnomad_af_cutoff))], axis=0)"
   ]
  },
  {
   "cell_type": "code",
   "execution_count": null,
   "metadata": {},
   "outputs": [],
   "source": [
    "# Check the version 3 and version 4 differences\n",
    "# We chose 1e-3 due to 1e-4 lose JAK2 gain-of-functions\n",
    "maf_variants_23q4_clean_v3.loc[~maf_variants_23q4_clean_v3.index.isin(maf_variants_23q4_clean_v4.index), :].to_csv(\"rescue_gnomad1e3_gnomad1e4_changes.tsv\", sep='\\t')"
   ]
  },
  {
   "cell_type": "code",
   "execution_count": null,
   "metadata": {},
   "outputs": [],
   "source": [
    "!wc -l rescue_gnomad1e3_gnomad1e4_changes.tsv "
   ]
  },
  {
   "cell_type": "code",
   "execution_count": null,
   "metadata": {},
   "outputs": [],
   "source": [
    "%pwd"
   ]
  },
  {
   "cell_type": "code",
   "execution_count": null,
   "metadata": {},
   "outputs": [],
   "source": [
    "adjusted_gnomad_af_cutoff = 1e-5 # version 3\n",
    "maf_variants_23q4_clean_v5 = maf_variants_23q4_clean.drop(maf_variants_23q4_clean.index[((maf_variants_23q4_clean.gnomadg_af > adjusted_gnomad_af_cutoff) | (maf_variants_23q4_clean.gnomade_af > adjusted_gnomad_af_cutoff))], axis=0)"
   ]
  },
  {
   "cell_type": "code",
   "execution_count": null,
   "metadata": {},
   "outputs": [],
   "source": [
    "cosmic_tier1 = pd.read_csv(\"/home/ubuntu/COSMIC_Census_Tier1_allSun Sep 24 20_50_28 2023.csv\")"
   ]
  },
  {
   "cell_type": "code",
   "execution_count": null,
   "metadata": {},
   "outputs": [],
   "source": [
    "maf_variants_23q4_clean.columns"
   ]
  },
  {
   "cell_type": "code",
   "execution_count": null,
   "metadata": {},
   "outputs": [],
   "source": [
    "cosmic_tier1.iloc[:, 0].unique().shape,  maf_variants_23q4_clean.loc[:, 'hugo_symbol'].unique().shape"
   ]
  },
  {
   "cell_type": "code",
   "execution_count": null,
   "metadata": {},
   "outputs": [],
   "source": [
    "cosmic_census_genes_overlap = []\n",
    "cosmic_tier_variants = []\n",
    "rescue_gnomad_cutoff = []\n",
    "total_rescued = []\n",
    "rescued_variants_without_gnomadaf = []\n",
    "\n",
    "for maf, cutoff in zip([maf_variants_23q4_clean, maf_variants_23q4_clean_v2, maf_variants_23q4_clean_v3, maf_variants_23q4_clean_v4, maf_variants_23q4_clean_v5], \n",
    "                       ['1e-1', '1e-2', '1e-3', '1e-4', '1e-5']):\n",
    "    cosmic_census_genes_overlap.append(np.intersect1d(list(cosmic_tier1.iloc[:, 0].unique()), list(maf.loc[:, 'hugo_symbol'].unique())).shape[0])\n",
    "    cosmic_tier_variants.append((maf.cosmic_tier == 1).sum())\n",
    "    rescue_gnomad_cutoff.append(cutoff)\n",
    "    total_rescued.append(maf.rescue.sum())\n",
    "    if cutoff == 'no':\n",
    "        rescued_variants_without_gnomadaf.append(maf.rescue.sum())\n",
    "    else:\n",
    "        print(float(cutoff))\n",
    "        # Fix the cutoff of gnomad 1e-5 for evaluation\n",
    "        rescued_variants_without_gnomadaf.append(((maf.rescue) & ((maf.gnomadg_af > float(1e-5)) | (maf.gnomade_af > float(1e-5)))).sum())"
   ]
  },
  {
   "cell_type": "code",
   "execution_count": null,
   "metadata": {},
   "outputs": [],
   "source": [
    "maf.cds_id.unique().shape[0]"
   ]
  },
  {
   "cell_type": "code",
   "execution_count": null,
   "metadata": {},
   "outputs": [],
   "source": [
    "rescue_gnomad_cosmic_census_df = pd.DataFrame({\"cosmic_census_genes_overlap\": cosmic_census_genes_overlap, \n",
    "                                               \"cosmic_tier_variants\": cosmic_tier_variants, \n",
    "                                               \"rescue_gnomad_cutoff\": rescue_gnomad_cutoff, \n",
    "                                               \"total_rescued\": total_rescued,\n",
    "                                               \"average_rescued_per_samplee\": np.array(total_rescued)/maf.cds_id.unique().shape[0] ,\n",
    "                                               \"average_rescued_variants_without_gnomadaf\": np.array(rescued_variants_without_gnomadaf)/maf.cds_id.unique().shape[0],\n",
    "                                               \"rescued_variants_without_gnomadaf\": rescued_variants_without_gnomadaf})"
   ]
  },
  {
   "cell_type": "code",
   "execution_count": null,
   "metadata": {},
   "outputs": [],
   "source": [
    "rescue_gnomad_cosmic_census_df"
   ]
  },
  {
   "cell_type": "code",
   "execution_count": null,
   "metadata": {},
   "outputs": [],
   "source": [
    "fig, ax = plt.subplots(1, 2)\n",
    "fig.set_size_inches(8, 4)\n",
    "\n",
    "sns.barplot(rescue_gnomad_cosmic_census_df, x='rescue_gnomad_cutoff', y='cosmic_census_genes_overlap', ax=ax[0])\n",
    "for container in ax[0].containers:\n",
    "    ax[0].bar_label(container, fmt='%.1f')\n",
    "ax2 = ax[0].twinx()\n",
    "sns.lineplot(rescue_gnomad_cosmic_census_df, x='rescue_gnomad_cutoff', y='cosmic_tier_variants', \n",
    "             color='red', ax=ax2)\n",
    "\n",
    "sns.barplot(rescue_gnomad_cosmic_census_df, x='rescue_gnomad_cutoff', y='average_rescued_per_samplee', ax=ax[1])\n",
    "for container in ax[1].containers:\n",
    "    ax[1].bar_label(container, fmt='%.1f')\n",
    "ax2 = ax[1].twinx()\n",
    "sns.lineplot(rescue_gnomad_cosmic_census_df, x='rescue_gnomad_cutoff', y='average_rescued_variants_without_gnomadaf', \n",
    "             color='red', ax=ax2)\n",
    "fig.tight_layout()"
   ]
  },
  {
   "cell_type": "code",
   "execution_count": null,
   "metadata": {},
   "outputs": [],
   "source": [
    "np.setdiff1d(np.intersect1d(list(cosmic_tier1.iloc[:, 0].unique()), list(maf_variants_23q4_clean_v2.loc[:, 'hugo_symbol'].unique())), \n",
    "             np.intersect1d(list(cosmic_tier1.iloc[:, 0].unique()), list(maf_variants_23q4_clean_v3.loc[:, 'hugo_symbol'].unique())))"
   ]
  },
  {
   "cell_type": "markdown",
   "metadata": {},
   "source": [
    "## Force the oncoKB variant frequency"
   ]
  },
  {
   "cell_type": "code",
   "execution_count": null,
   "metadata": {},
   "outputs": [],
   "source": [
    "# This considers NaN which does not > or < 1e-3\n",
    "maf_variants_23q4_clean_v3 = maf_variants_23q4_clean.drop(maf_variants_23q4_clean.index[((maf_variants_23q4_clean.gnomadg_af > 1e-3) | (maf_variants_23q4_clean.gnomade_af > 1e-3))], axis=0)\n",
    "\n",
    "maf_variants_23q4_clean_v3.shape"
   ]
  },
  {
   "cell_type": "code",
   "execution_count": null,
   "metadata": {},
   "outputs": [],
   "source": [
    "cosmic_census_genes_overlap = []\n",
    "cosmic_tier_variants = []\n",
    "rescue_gnomad_cutoff = []\n",
    "total_rescued = []\n",
    "rescued_variants_without_gnomadaf = []\n",
    "\n",
    "for maf, cutoff in zip([maf_variants_23q4, maf_variants_23q4_clean_v3],\n",
    "                       ['no', '1e-3']):\n",
    "    cosmic_census_genes_overlap.append(np.intersect1d(list(cosmic_tier1.iloc[:, 0].unique()), list(maf.loc[:, 'hugo_symbol'].unique())).shape[0])\n",
    "    cosmic_tier_variants.append((maf.cosmic_tier == 1).sum())\n",
    "    rescue_gnomad_cutoff.append(cutoff)\n",
    "    total_rescued.append(maf.rescue.sum())\n",
    "    if cutoff == 'no':\n",
    "        rescued_variants_without_gnomadaf.append(maf.rescue.sum())\n",
    "    else:\n",
    "        print(float(cutoff))\n",
    "        # Fix the cutoff of gnomad 1e-5 for evaluation\n",
    "        rescued_variants_without_gnomadaf.append(((maf.rescue) & ((maf.gnomadg_af > float(1e-5)) | (maf.gnomade_af > float(1e-5)))).sum())\n",
    "\n",
    "rescue_gnomad_cosmic_census_df = pd.DataFrame({\"cosmic_census_genes_overlap\": cosmic_census_genes_overlap, \n",
    "              \"cosmic_tier_variants\": cosmic_tier_variants, \n",
    "              \"rescue_gnomad_cutoff\": rescue_gnomad_cutoff, \n",
    "              \"total_rescued\": total_rescued,\n",
    "              \"average_rescued_per_samplee\": np.array(total_rescued)/maf.cds_id.unique().shape[0] ,\n",
    "              \"average_rescued_variants_without_gnomadaf\": np.array(rescued_variants_without_gnomadaf)/maf.cds_id.unique().shape[0],\n",
    "              \"rescued_variants_without_gnomadaf\": rescued_variants_without_gnomadaf})\n",
    "rescue_gnomad_cosmic_census_df"
   ]
  },
  {
   "cell_type": "code",
   "execution_count": null,
   "metadata": {},
   "outputs": [],
   "source": [
    "# Double check after removing hotspot rescue\n",
    "rescued_maf_variants = maf_variants_23q4_clean_v2.loc[maf_variants_23q4_clean_v2.rescue, :]\n",
    "rescued_maf_variants_sub_categores = rescued_maf_variants.loc[:, ['cosmic_tier', 'oncokb_effect', 'oncokb_hotspot', 'oncokb_oncogenic', 'hess_driver', 'gnomadg_af', 'gnomade_af']].melt(id_vars=['cosmic_tier', 'oncokb_effect', 'oncokb_hotspot', 'oncokb_oncogenic', 'hess_driver'])\n",
    "\n",
    "## Majority of the oncoKB hotspot mutation are also very pemissive\n",
    "## They will introduce inclusive oncoKB mutation effects \n",
    "## Let's remove hotspot mutation for whitelisting ..\n",
    "## May consider run hotspot method later\n",
    "\n",
    "sns.set_style(\"white\")\n",
    "fig, ax = plt.subplots(1, 5)\n",
    "fig.set_size_inches(18, 4)\n",
    "ax = ax.flatten()\n",
    "\n",
    "sns.violinplot(data=rescued_maf_variants_sub_categores, x='cosmic_tier', y='value', hue='variable', ax=ax[0])\n",
    "sns.violinplot(data=rescued_maf_variants_sub_categores, x='oncokb_effect', y='value', hue='variable', ax=ax[1])\n",
    "sns.violinplot(data=rescued_maf_variants_sub_categores, x='oncokb_hotspot', y='value', hue='variable', ax=ax[2])\n",
    "sns.violinplot(data=rescued_maf_variants_sub_categores, x='oncokb_oncogenic', y='value', hue='variable', ax=ax[3])\n",
    "sns.violinplot(data=rescued_maf_variants_sub_categores, x='hess_driver', y='value', hue='variable', ax=ax[4])\n",
    "\n",
    "for ax_index, curr_ax in enumerate(ax):\n",
    "    for tick in curr_ax.get_xticklabels():\n",
    "        tick.set_rotation(45)\n",
    "        tick.set_ha('right')\n",
    "        sns.despine()\n",
    "        if ax_index == 4:\n",
    "            curr_ax.legend(bbox_to_anchor=(0.5, 1.2), ncol=3, fancybox=True, shadow=True, loc='upper center')\n",
    "        else:\n",
    "            curr_ax.legend().set_visible(False)\n",
    "plt.tight_layout()"
   ]
  },
  {
   "cell_type": "code",
   "execution_count": null,
   "metadata": {},
   "outputs": [],
   "source": [
    "# Still have 38 variants with secondary effect belonging to synonymous mutation \n",
    "# Will be assigned to be silent mutation later according to maftools\n",
    "# That seems to be important in oncoKB \n",
    "\n",
    "maf_variants_23q4_clean_v3.query(\"variant_info.str.contains('syno')\")[['ref','alt', 'cds_id']+check_columns].shape"
   ]
  },
  {
   "cell_type": "markdown",
   "metadata": {},
   "source": [
    "## Double check clean MAF overlaped with St Jude"
   ]
  },
  {
   "cell_type": "code",
   "execution_count": null,
   "metadata": {},
   "outputs": [],
   "source": [
    "maf_variants_23q4_clean_v3.loc[maf_variants_23q4_clean_v3.pos.isin(np.array([105272634, 41224922, 124064038, 48791113, 23803335, 7675067, 47355346, 68293321, 156778971, 226064457, 49041176]) - 1), check_columns].shape"
   ]
  },
  {
   "cell_type": "markdown",
   "metadata": {},
   "source": [
    "# VCF 2 MAF standardised formatting to output "
   ]
  },
  {
   "cell_type": "markdown",
   "metadata": {},
   "source": [
    "## Convert coordinate and add essential standard MAF columns"
   ]
  },
  {
   "cell_type": "code",
   "execution_count": null,
   "metadata": {},
   "outputs": [],
   "source": [
    "def GetMafEndPosition(start: int, ref: str, alt: str) -> tuple:\n",
    "    \"\"\"Get the end position from the VCF start position and ref alt alleles\n",
    "\n",
    "    Learn the complex InDel from https://github.com/qinqian/vcf2maf/blob/main/vcf2maf.pl#L706\n",
    "\n",
    "\n",
    "    Return\n",
    "    -----------\n",
    "    (start, vartype, inframe): tuple\n",
    "    \"\"\"\n",
    "    assert len(ref) > 0\n",
    "    assert len(alt) > 0\n",
    "    if len(ref) == len(alt):\n",
    "        var_type_dict = {1: \"SNP\", 2: \"DNP\", 3: \"TNP\"}\n",
    "        inframe = False\n",
    "        if len(alt) > 3:\n",
    "            var_type = \"ONP\"\n",
    "        else:\n",
    "            var_type = var_type_dict[len(alt)]\n",
    "        return start, start + len(alt) - 1, var_type, inframe\n",
    "    elif len(ref) < len(alt):\n",
    "        # Insertion\n",
    "        var_type = \"INS\";\n",
    "        inframe = abs(len(ref) - len(alt)) % 3 == 0\n",
    "        if ref == \"-\":\n",
    "            return start - 1, start, var_type, inframe\n",
    "        else:\n",
    "            return start, start + len(ref) - 1, var_type, inframe\n",
    "    else:\n",
    "        # Deletion\n",
    "        inframe = abs(len(ref) - len(alt)) % 3 == 0\n",
    "        var_type = 'DEL'\n",
    "        return start, start + len(ref) - 1, var_type, inframe"
   ]
  },
  {
   "cell_type": "code",
   "execution_count": null,
   "metadata": {},
   "outputs": [],
   "source": [
    "formatted_coords = maf_variants_23q4_clean_v3.loc[:, ['pos', 'ref', 'alt']].apply(lambda x: GetMafEndPosition(*x), axis=1, result_type=\"expand\")"
   ]
  },
  {
   "cell_type": "code",
   "execution_count": null,
   "metadata": {},
   "outputs": [],
   "source": [
    "import re\n",
    "\n",
    "def GetVariantClassification(vep_seq_ontology: str, var_type: str, inframe: bool) -> str:\n",
    "    \"\"\"Map VEP sequence ontology into MAF variant classifications,\n",
    "    VEP consequences is ordered by http://useast.ensembl.org/info/genome/variation/prediction/predicted_data.html\"\"\"\n",
    "\n",
    "    if re.match(r\"^(splice_acceptor_variant|splice_donor_variant|transcript_ablation|exon_loss_variant)\", vep_seq_ontology):\n",
    "        return \"Splice_Site\"\n",
    "    \n",
    "    if re.match(r\"^(stop_gained)\", vep_seq_ontology):\n",
    "        return \"Nonsense_Mutation\"\n",
    "\n",
    "    if (re.match(r\"^(frameshift_variant)\", vep_seq_ontology) or (re.match(r\"^(protein_altering_variant)\", vep_seq_ontology) and not inframe)) and (var_type == 'DEL'):\n",
    "        return \"Frame_Shift_Del\"\n",
    "\n",
    "    if (re.match(r\"^(frameshift_variant)\", vep_seq_ontology) or (re.match(r\"^(protein_altering_variant)\", vep_seq_ontology) and not inframe)) and (var_type == 'INS'):\n",
    "        return \"Frame_Shift_Ins\"\n",
    "    \n",
    "    if re.match(r\"^(stop_lost)\", vep_seq_ontology):\n",
    "        return \"Nonstop_Mutation\"\n",
    "    \n",
    "    if re.match(r\"^(initiator_codon_variant|start_lost)\", vep_seq_ontology):\n",
    "        return \"Translation_Start_Site\" \n",
    "\n",
    "    if re.match(r\"^(inframe_insertion|conservative_inframe_insertion|disruptive_inframe_insertion)\", vep_seq_ontology) or (re.match(r\"^(protein_altering_variant)\", vep_seq_ontology) and inframe and (var_type == 'INS')):\n",
    "        return \"In_Frame_Ins\"\n",
    "\n",
    "    if re.match(r\"^(inframe_deletion|disruptive_inframe_deletion|conservative_inframe_deletion)\", vep_seq_ontology) or (re.match(r\"^(protein_altering_variant)\", vep_seq_ontology) and inframe and (var_type == 'DEL')):\n",
    "        return \"In_Frame_Del\"\n",
    "\n",
    "    if re.match(r\"^(missense_variant|coding_sequence_variant|conservative_missense_variant|rare_amino_acid_variant)\", vep_seq_ontology):\n",
    "        return \"Missense_Mutation\"\n",
    "\n",
    "    if re.match(r\"^(transcript_amplification|intron_variant|INTRAGENIC|intragenic_variant)\", vep_seq_ontology):\n",
    "        return \"Intron\"\n",
    "\n",
    "    if re.match(r\"^(incomplete_terminal_codon_variant|synonymous_variant|stop_retained_variant|NMD_transcript_variant|start_retained_variant)\", vep_seq_ontology):\n",
    "        return \"Silent\"\n",
    "\n",
    "    if re.match(r\"^(splice_region_variant|splice_polypyrimidine_tract_variant|splice_donor_5th_base_variant|splice_donor_region_variant)\", vep_seq_ontology):\n",
    "        return \"Splice_Region\"\n",
    "\n",
    "    if re.match(r\"^(mature_miRNA_variant|exon_variant|non_coding_exon_variant|non_coding_transcript_exon_variant|non_coding_transcript_variant|nc_transcript_variant|coding_transcript_variant)\", vep_seq_ontology):\n",
    "        return \"RNA\"\n",
    "\n",
    "    if re.match(r\"^(5_prime_UTR_variant|5_prime_UTR_premature_start_codon_gain_variant)\", vep_seq_ontology):\n",
    "        return \"5'UTR\"\n",
    "\n",
    "    if re.match(r\"^3_prime_UTR_variant\", vep_seq_ontology):\n",
    "        return \"3'UTR\"\n",
    "\n",
    "    if re.match(r\"^upstream_gene_variant\", vep_seq_ontology):\n",
    "        return \"5'Flank\"\n",
    "\n",
    "    if re.match(r\"^downstream_gene_variant\", vep_seq_ontology):\n",
    "        return \"3'Flank\"\n",
    "\n",
    "    if re.match(r\"^(TF_binding_site_variant|regulatory_region_variant|regulatory_region|intergenic_variant|intergenic_region)\", vep_seq_ontology):\n",
    "        return \"IGR\" \n",
    "\n",
    "    if vep_seq_ontology == \"\":\n",
    "        return \"NoAnnotation\"\n",
    "\n",
    "    return \"TargetedRegion\"\n"
   ]
  },
  {
   "cell_type": "code",
   "execution_count": null,
   "metadata": {},
   "outputs": [],
   "source": [
    "maf_variants_23q4_clean_v3.loc[:, 'Strand'] = '+'"
   ]
  },
  {
   "cell_type": "code",
   "execution_count": null,
   "metadata": {},
   "outputs": [],
   "source": [
    "maf_variants_23q4_clean_v3.loc[:, 'Start_Position'] = formatted_coords[0]\n",
    "maf_variants_23q4_clean_v3.loc[:, 'End_Position'] = formatted_coords[1]\n",
    "maf_variants_23q4_clean_v3.loc[:, 'Variant_Type'] = formatted_coords[2]\n",
    "maf_variants_23q4_clean_v3.loc[:, 'InFrame'] = formatted_coords[3]\n",
    "maf_variants_23q4_clean_v3.loc[:, 'Variant_Classification'] = maf_variants_23q4_clean_v3.loc[:, ['variant_info', 'Variant_Type', 'InFrame']].apply(lambda x: GetVariantClassification(*x), axis=1)"
   ]
  },
  {
   "cell_type": "code",
   "execution_count": null,
   "metadata": {},
   "outputs": [],
   "source": [
    "# No missing annotations\n",
    "maf_variants_23q4_clean_v3.loc[maf_variants_23q4_clean_v3.Variant_Classification == 'TargetedRegion', ['ref', 'alt', 'variant_info', 'Variant_Classification', 'variant_info', 'Variant_Type', 'InFrame']].values"
   ]
  },
  {
   "cell_type": "code",
   "execution_count": null,
   "metadata": {},
   "outputs": [],
   "source": [
    "maf_variants_23q4_clean_v3.Variant_Classification.unique()"
   ]
  },
  {
   "cell_type": "code",
   "execution_count": null,
   "metadata": {},
   "outputs": [],
   "source": [
    "maf_variants_23q4_clean_v3.shape"
   ]
  },
  {
   "cell_type": "markdown",
   "metadata": {},
   "source": [
    "## Reorder columns to keep consistent with MAF standards"
   ]
  },
  {
   "cell_type": "code",
   "execution_count": null,
   "metadata": {},
   "outputs": [],
   "source": [
    "maf_variants_23q4_clean_v3.loc[:, 'Strand'].value_counts()"
   ]
  },
  {
   "cell_type": "code",
   "execution_count": null,
   "metadata": {},
   "outputs": [],
   "source": [
    "maf_variants_23q4_clean_v3.rename(\n",
    "    columns={\n",
    "        \"hugo_symbol\": \"Hugo_Symbol\",\n",
    "        \"chrom\": \"Chromosome\",\n",
    "        \"ref\": \"Reference_Allele\",\n",
    "        \"alt\": \"Alternate_Allele\",\n",
    "        \"cds_id\": \"Tumor_Sample_Barcode\",\n",
    "        \"protein_change\": \"Protein_Change\",\n",
    "    },\n",
    "    inplace=True,\n",
    ")"
   ]
  },
  {
   "cell_type": "code",
   "execution_count": null,
   "metadata": {},
   "outputs": [],
   "source": [
    "maf_variants_23q4_clean_v3.loc[:, \"NCBI_Build\"] = \"GRCh38\" \n",
    "maf_variants_23q4_clean_v3.loc[:, \"Center\"] = \"DepMap\" "
   ]
  },
  {
   "cell_type": "code",
   "execution_count": null,
   "metadata": {},
   "outputs": [],
   "source": [
    "maf_variants_23q4_clean_v3.loc[:, \"Tumor_Seq_Allele1\"] = maf_variants_23q4_clean_v3.loc[\n",
    "    :, \"Reference_Allele\"\n",
    "] \n",
    "maf_variants_23q4_clean_v3.loc[:, \"Tumor_Seq_Allele2\"] = maf_variants_23q4_clean_v3.loc[:, \"Alternate_Allele\"]"
   ]
  },
  {
   "cell_type": "code",
   "execution_count": null,
   "metadata": {},
   "outputs": [],
   "source": [
    "reordered_columns = [\n",
    "        \"Hugo_Symbol\",\n",
    "        \"NCBI_Build\",\n",
    "        \"Chromosome\",\n",
    "        \"Start_Position\",\n",
    "        \"End_Position\",\n",
    "        \"Variant_Type\",\n",
    "        \"Reference_Allele\",\n",
    "        \"Tumor_Seq_Allele1\",\n",
    "        \"Tumor_Seq_Allele2\",\n",
    "        \"Tumor_Sample_Barcode\",\n",
    "        \"Variant_Classification\",\n",
    "        \"Protein_Change\",\n",
    "    ] "
   ]
  },
  {
   "cell_type": "code",
   "execution_count": null,
   "metadata": {},
   "outputs": [],
   "source": [
    "reordered_columns += list(set(maf_variants_23q4_clean_v3.columns) - set(reordered_columns))"
   ]
  },
  {
   "cell_type": "code",
   "execution_count": null,
   "metadata": {},
   "outputs": [],
   "source": [
    "maf_variants_23q4_clean_v3 = maf_variants_23q4_clean_v3.loc[:, reordered_columns]"
   ]
  },
  {
   "cell_type": "code",
   "execution_count": null,
   "metadata": {},
   "outputs": [],
   "source": [
    "maf_variants_23q4_clean_v2.shape"
   ]
  },
  {
   "cell_type": "code",
   "execution_count": null,
   "metadata": {},
   "outputs": [],
   "source": [
    "sns.set_style(\"white\")\n",
    "maf_variants_23q4_clean_v3.Variant_Classification.value_counts().plot.bar()\n",
    "plt.ylabel(\"Variant Count\")"
   ]
  },
  {
   "cell_type": "code",
   "execution_count": null,
   "metadata": {},
   "outputs": [],
   "source": [
    "maf_variants_23q4_clean_v3.shape[0] - maf_variants_23q4_clean_v3.Variant_Classification.value_counts()[-7:].sum()"
   ]
  },
  {
   "cell_type": "code",
   "execution_count": null,
   "metadata": {},
   "outputs": [],
   "source": [
    "# Filter based on maftools criterion of what is Silent mutations\n",
    "# Exclude the following classifications\n",
    "\n",
    "maf_variants_23q4_clean_v3 = maf_variants_23q4_clean_v3.loc[~maf_variants_23q4_clean_v3.Variant_Classification.isin(['Silent', 'RNA', 'Intron', \"5'UTR\", \"3'Flank\", 'Splice_Region', \"5'Flank\"]), :]\n",
    "maf_variants_23q4_clean_v3.shape"
   ]
  },
  {
   "cell_type": "code",
   "execution_count": null,
   "metadata": {},
   "outputs": [],
   "source": [
    "# Remove variants without Hugo_Symbol\n",
    "\n",
    "maf_variants_23q4_clean_v3 = maf_variants_23q4_clean_v3.loc[~maf_variants_23q4_clean_v3.Hugo_Symbol.isnull(), :]"
   ]
  },
  {
   "cell_type": "code",
   "execution_count": null,
   "metadata": {},
   "outputs": [],
   "source": [
    "maf_variants_23q4_clean_v3.shape"
   ]
  },
  {
   "cell_type": "code",
   "execution_count": null,
   "metadata": {},
   "outputs": [],
   "source": [
    "maf_variants_23q4_clean_v3 = maf_variants_23q4_clean_v3.sort_values(by=[\"Chromosome\", \"Start_Position\", \"End_Position\"])"
   ]
  },
  {
   "cell_type": "code",
   "execution_count": null,
   "metadata": {},
   "outputs": [],
   "source": [
    "# Get from Gumbo for the meta information\n",
    "oncotree_meta_profile = pd.read_csv(\"~/seq_table.csv\")"
   ]
  },
  {
   "cell_type": "code",
   "execution_count": null,
   "metadata": {},
   "outputs": [],
   "source": [
    "oncotree_meta_profile.head()"
   ]
  },
  {
   "cell_type": "code",
   "execution_count": null,
   "metadata": {},
   "outputs": [],
   "source": [
    "maf_variants_23q4_clean_v3['oncotree'] = maf_variants_23q4_clean_v3.Tumor_Sample_Barcode.map(dict(zip(oncotree_meta_profile['SequencingID'], oncotree_meta_profile['depmap_model_type'])))\n",
    "maf_variants_23q4_clean_v3['celltype'] = maf_variants_23q4_clean_v3.Tumor_Sample_Barcode.map(dict(zip(oncotree_meta_profile['SequencingID'], oncotree_meta_profile['StrippedCellLineName'])))\n",
    "maf_variants_23q4_clean_v3['lineage'] = maf_variants_23q4_clean_v3.Tumor_Sample_Barcode.map(dict(zip(oncotree_meta_profile['SequencingID'], oncotree_meta_profile['Lineage'])))"
   ]
  },
  {
   "cell_type": "code",
   "execution_count": null,
   "metadata": {},
   "outputs": [],
   "source": [
    "# maf_variants_23q4_clean['Datatype'] = maf_variants_23q4_clean.Tumor_Sample_Barcode.map(dict(zip(oncotree_meta_profile['MainSequencingID'], oncotree_meta_profile['Datatype'])))"
   ]
  },
  {
   "cell_type": "code",
   "execution_count": null,
   "metadata": {},
   "outputs": [],
   "source": [
    "maf_variants_23q4_clean_v3['ModelID'] = maf_variants_23q4_clean_v3.Tumor_Sample_Barcode.map(dict(zip(oncotree_meta_profile['SequencingID'], oncotree_meta_profile['ModelID'])))"
   ]
  },
  {
   "cell_type": "code",
   "execution_count": null,
   "metadata": {},
   "outputs": [],
   "source": [
    "# Missing oncotree information\n",
    "# For the following information\n",
    "maf_variants_23q4_clean_v3.loc[maf_variants_23q4_clean_v3.oncotree.isnull(), 'Tumor_Sample_Barcode'].unique()"
   ]
  },
  {
   "cell_type": "code",
   "execution_count": null,
   "metadata": {},
   "outputs": [],
   "source": [
    "maf_variants_23q4_clean_v3.loc[maf_variants_23q4_clean_v3.celltype.isnull(), 'Tumor_Sample_Barcode'].unique()"
   ]
  },
  {
   "cell_type": "markdown",
   "metadata": {},
   "source": [
    "## Internal cohort AF"
   ]
  },
  {
   "cell_type": "code",
   "execution_count": null,
   "metadata": {},
   "outputs": [],
   "source": [
    "# Interal cohort allele frequencies filtering\n",
    "\n",
    "internal_afs_23q4 = maf_variants_23q4_clean_v3.loc[:, ['Chromosome', 'Start_Position', 'End_Position', 'Tumor_Seq_Allele1', 'Tumor_Seq_Allele2']].apply(lambda x: ':'.join(map(str, x)), axis=1)"
   ]
  },
  {
   "cell_type": "code",
   "execution_count": null,
   "metadata": {},
   "outputs": [],
   "source": [
    "total_samples = maf_variants_23q4_clean_v3.Tumor_Sample_Barcode.unique().shape[0]"
   ]
  },
  {
   "cell_type": "code",
   "execution_count": null,
   "metadata": {},
   "outputs": [],
   "source": [
    "from collections import Counter\n",
    "\n",
    "# assume there are very few duplicated variants per sample\n",
    "# actually we have total 4 duplicated variants, it is trivial\n",
    "\n",
    "internal_afs_23q4_ratio_dict = {}\n",
    "for k, v in Counter(internal_afs_23q4.tolist()).items():\n",
    "    internal_afs_23q4_ratio_dict[k] = v / total_samples"
   ]
  },
  {
   "cell_type": "code",
   "execution_count": null,
   "metadata": {},
   "outputs": [],
   "source": [
    "# https://github.com/broadinstitute/depmap_omics/blob/update-vcf-to-depmap/depmapomics/mutations.py#L39\n",
    "\n",
    "maf_variants_23q4_clean_v3.loc[:, \"internal_afs_23q4\"] = internal_afs_23q4.map(internal_afs_23q4_ratio_dict)"
   ]
  },
  {
   "cell_type": "code",
   "execution_count": null,
   "metadata": {},
   "outputs": [],
   "source": [
    "fig = plt.figure()\n",
    "ax = fig.add_subplot(1, 1, 1)\n",
    "_ = ax.hist(maf_variants_23q4_clean_v3[\"internal_afs_23q4\"], color='blue', bins=100)\n",
    "ax.set_yscale('log')\n",
    "ax.set_xlabel(\"DepMap internal AF\")\n",
    "ax.set_ylabel(\"Count\")"
   ]
  },
  {
   "cell_type": "code",
   "execution_count": null,
   "metadata": {},
   "outputs": [],
   "source": [
    "(~maf_variants_23q4_clean_v3.rescue).sum(), maf_variants_23q4_clean_v3.shape"
   ]
  },
  {
   "cell_type": "code",
   "execution_count": null,
   "metadata": {},
   "outputs": [],
   "source": [
    "max_recurrence = 0.05 \n",
    "\n",
    "maf_variants_23q4_clean_v3_final = maf_variants_23q4_clean_v3.loc[(maf_variants_23q4_clean_v3.internal_afs_23q4 <= max_recurrence) | (maf_variants_23q4_clean_v3.rescue), :]"
   ]
  },
  {
   "cell_type": "code",
   "execution_count": null,
   "metadata": {},
   "outputs": [],
   "source": [
    "maf_variants_23q4_clean_v3_final.shape"
   ]
  },
  {
   "cell_type": "code",
   "execution_count": null,
   "metadata": {},
   "outputs": [],
   "source": [
    "maf_variants_23q4_clean_v3_final.to_csv(f\"23Q4_somatic_mutations_profile_drafted_internal_af{max_recurrence}.csv\", index=False)"
   ]
  },
  {
   "cell_type": "code",
   "execution_count": null,
   "metadata": {},
   "outputs": [],
   "source": [
    "maf_variants_23q4_clean_v3_final.to_csv(f\"23Q4_somatic_mutations_profile_drafted_internal_af{max_recurrence}.maf\", index=False, sep='\\t')"
   ]
  },
  {
   "cell_type": "code",
   "execution_count": null,
   "metadata": {},
   "outputs": [],
   "source": [
    "maf_variants_23q4_clean_v3_final.shape"
   ]
  },
  {
   "cell_type": "code",
   "execution_count": null,
   "metadata": {},
   "outputs": [],
   "source": [
    "# Upload to Taiga for data version control\n",
    "\n",
    "update = True\n",
    "if update:\n",
    "    new_dataset_id = tc.update_dataset(\n",
    "        \"23q4-mutation-maf-clean-4161\",\n",
    "        changes_description=\"this is a clean and standarised draft for 23Q4 maf of mutation\",\n",
    "        upload_files=[\n",
    "            {\n",
    "                \"path\": f\"23Q4_somatic_mutations_profile_drafted_internal_af{max_recurrence}.csv\",\n",
    "                \"name\": \"23Q4_CSV_mutations\", # optional, will use file name if not provided\n",
    "                \"format\": \"TableCSV\", # or \"NumericMatrixCSV\" or \"TableCSV\"\n",
    "                \"encoding\": \"utf-8\" # optional (but recommended), will use iso-8859-1 if not provided\n",
    "            },\n",
    "            {\n",
    "                \"path\": f\"23Q4_somatic_mutations_profile_drafted_internal_af{max_recurrence}.maf\",\n",
    "                \"name\": \"23Q4_MAF_mutations\", # optional, will use file name if not provided\n",
    "                \"format\": \"Raw\", # or \"NumericMatrixCSV\" or \"TableCSV\"\n",
    "                \"encoding\": \"utf-8\" # optional (but recommended), will use iso-8859-1 if not provided\n",
    "            }\n",
    "        ],\n",
    "        add_all_existing_files=True,\n",
    "    )\n",
    "else:\n",
    "    new_dataset_id = tc.create_dataset(\n",
    "        \"23Q4_mutation_maf_clean\",\n",
    "        dataset_description=\"this is a clean and standarised draft for 23Q4 maf of mutation\",\n",
    "        upload_files=[\n",
    "            {\n",
    "                \"path\": f\"23Q4_somatic_mutations_profile_drafted_internal_af{max_recurrence}.maf\",\n",
    "                \"name\": \"MAF\", # optional, will use file name if not provided\n",
    "                \"format\": \"Raw\", # or \"NumericMatrixCSV\" or \"TableCSV\"\n",
    "                \"encoding\": \"utf-8\" # optional (but recommended), will use iso-8859-1 if not provided\n",
    "            }\n",
    "        ],\n",
    "        folder_id=\"a9eedc220a6a4e70b8f1e64d2e57ed87\", # optional, will default to your home folder if not provided\n",
    "    )\n"
   ]
  },
  {
   "cell_type": "code",
   "execution_count": null,
   "metadata": {},
   "outputs": [],
   "source": [
    "maf_variants_23q4_clean_v3_final.query(\"(rescue)\").to_csv(\"23Q4_rescue_list.csv\")"
   ]
  },
  {
   "cell_type": "code",
   "execution_count": null,
   "metadata": {},
   "outputs": [],
   "source": [
    "update = True\n",
    "if update:\n",
    "    new_dataset_id = tc.update_dataset(\n",
    "        \"23q4-mutation-rescuelist-6aa7\",\n",
    "        changes_description=\"this is a union set of the variants that are considered as whitelisting mutation\", # optional (but recommended)\n",
    "        upload_files=[\n",
    "            {\n",
    "                \"path\": \"23Q4_rescue_list.csv\",\n",
    "                \"name\": \"RescueList\", # optional, will use file name if not provided\n",
    "                \"format\": \"TableCSV\", # or \"NumericMatrixCSV\" or \"TableCSV\"\n",
    "                \"encoding\": \"utf-8\" # optional (but recommended), will use iso-8859-1 if not provided\n",
    "            }\n",
    "        ],\n",
    "        add_all_existing_files=True,\n",
    "    )"
   ]
  },
  {
   "cell_type": "code",
   "execution_count": null,
   "metadata": {},
   "outputs": [],
   "source": [
    "# Splitted mafs by the oncotree informations \n",
    "\n",
    "# for cancer_type in maf_variants_23q4_clean.oncotree.unique():\n",
    "for cancer_type in ['READ', 'ESCA', 'AML', 'LUSC', 'SKCM', 'LUAD', 'BRCA']:\n",
    "    cancer_type_maf = maf_variants_23q4_clean_v3_final.query(\"oncotree == @cancer_type\")\n",
    "    cancer_type_maf.to_csv(f\"23Q4_somatic_mutations_profile_drafted_{cancer_type}_final.maf\", index=False, sep='\\t')"
   ]
  },
  {
   "cell_type": "code",
   "execution_count": null,
   "metadata": {},
   "outputs": [],
   "source": [
    "# Miss two only St Jude InDel now\n",
    "\n",
    "## MONOMAC1\tchr11.47355346.GC.\tchr11.47355353.CGCC.CC\tInDel\tTP53\tNA\n",
    "## SKNAS\tchr6.156778971..GCA\tchr6.156778980.GG.GCAGG\tInDel\n",
    "## For St Jude results to be left-aligned as well\n",
    "maf_variants_23q4_clean_v3_final.loc[maf_variants_23q4_clean_v3_final.pos.isin(np.array([105272634, 41224922, 124064038, 48791113, 23803335, 7675067, 47355346, 68293321, 156778971, 226064457, 49041176]) - 1), ].shape"
   ]
  },
  {
   "cell_type": "markdown",
   "metadata": {},
   "source": [
    "# Check sample specific question"
   ]
  },
  {
   "cell_type": "markdown",
   "metadata": {},
   "source": [
    "## 0. EGFR mutations"
   ]
  },
  {
   "cell_type": "code",
   "execution_count": null,
   "metadata": {},
   "outputs": [],
   "source": [
    "maf_variants_23q4_clean_v3_final.loc[(maf_variants_23q4_clean_v3_final.Hugo_Symbol == 'EGFR') & (maf_variants_23q4_clean_v3_final.celltype.isin(['PC9', 'HCC827'])), ['Chromosome', 'celltype', 'Start_Position', 'Reference_Allele', 'Tumor_Seq_Allele2', 'uniprot_id', 'Protein_Change']]"
   ]
  },
  {
   "cell_type": "markdown",
   "metadata": {},
   "source": [
    "## 1. The mutations of MTAP don't match with uniprot and ncbi\n",
    "\n",
    "I found that many of the mutations of MTAP (Uniprot ID: Q13126) don’t match with any sequence from uniprot or ncbi. For example, HCT116 has a mutation p.V106A, but on uniprot, the 106 should be R. And there are many other mutations of MTAP have the same problem.\n",
    "\n",
    "Answer: We actually do not have such a protein version in this drafted version, thus we checked the original output of maf from vcf_to_depmap, there is still no such a position"
   ]
  },
  {
   "cell_type": "code",
   "execution_count": null,
   "metadata": {},
   "outputs": [],
   "source": [
    "maf_variants_23q4_clean_v3_final.loc[(maf_variants_23q4_clean_v3_final.Hugo_Symbol == 'MTAP'), ['Chromosome', 'Start_Position', 'Reference_Allele', 'Tumor_Seq_Allele2', 'uniprot_id', 'Protein_Change']]"
   ]
  },
  {
   "cell_type": "code",
   "execution_count": null,
   "metadata": {},
   "outputs": [],
   "source": [
    "release_maf_23q2.loc[release_maf_23q2.loc[:, 'HugoSymbol'] == 'MTAP', ['Chrom', 'Pos', 'Ref', 'Alt', 'HugoSymbol', 'UniprotID', 'ProteinChange', 'DNAChange']].head(8)"
   ]
  },
  {
   "cell_type": "markdown",
   "metadata": {},
   "source": [
    "## KRAS G12D mutation\n",
    "\n",
    "The PANC1005 line is well characterized as having a KRAS G12D mutation, but this is missing from the latest release of DepMap data while present in the older releases. Is this is indeed the case or have I made a mistake in querying the data?\n",
    "\n",
    "Answer: we actually found the G12D mutation (Gly12Asp). We double checked 23Q2, it is not there."
   ]
  },
  {
   "cell_type": "code",
   "execution_count": null,
   "metadata": {},
   "outputs": [],
   "source": [
    "maf_variants_23q4_clean_v3_final.loc[(maf_variants_23q4_clean_v3_final.celltype == 'PANC1005') & (maf_variants_23q4_clean_v3_final.Hugo_Symbol == 'KRAS'), ['uniprot_id', 'Protein_Change']]"
   ]
  },
  {
   "cell_type": "code",
   "execution_count": null,
   "metadata": {},
   "outputs": [],
   "source": [
    "ids_23q2_g12d = release_maf_23q2.loc[release_maf_23q2.loc[:, 'ProteinChange'] == 'p.G12D', ['ModelID', 'Ref', 'Alt', 'HugoSymbol', 'UniprotID', 'ProteinChange', 'DNAChange']]"
   ]
  },
  {
   "cell_type": "code",
   "execution_count": null,
   "metadata": {},
   "outputs": [],
   "source": [
    "oncotree_meta_profile.loc[oncotree_meta_profile.ModelID.isin(ids_23q2_g12d.ModelID), 'StrippedCellLineName'].isin(['PANC1005']).sum()"
   ]
  },
  {
   "cell_type": "markdown",
   "metadata": {},
   "source": [
    "## Mutation and protein change\n",
    "\n",
    "“I have spent a bit of time trying to align the residue numbering on\n",
    "targets/mutations in DepMap to other public databases.  For some reason the\n",
    "sequence variants DepMap uses for assigning residue numbers are different\n",
    "than those used for all other datasources I use.  For example on EGFR, the\n",
    "common mutations L858R and T790M are listed as “L813R” and “T745M”.  Other\n",
    "databases like COSMIC, TCGA/cBioPortal, and our own internal database do\n",
    "not have this issue – the residue numbering on 99%+ of proteins is\n",
    "identical between the other databases, but then DepMap numbering is\n",
    "different.\n",
    "\n",
    "Answer: L858R and T790M now can be found in the 23Q4 version. "
   ]
  },
  {
   "cell_type": "code",
   "execution_count": null,
   "metadata": {},
   "outputs": [],
   "source": [
    "# L858R\n",
    "maf_variants_23q4_clean_v3_final.query(\"Hugo_Symbol == 'EGFR' & Protein_Change.str.contains('Leu')\")['Protein_Change']"
   ]
  },
  {
   "cell_type": "code",
   "execution_count": null,
   "metadata": {},
   "outputs": [],
   "source": [
    "# Thr790Met -> T790M\n",
    "maf_variants_23q4_clean_v3_final.query(\"Hugo_Symbol == 'EGFR' & Protein_Change.str.contains('Thr')\")['Protein_Change']"
   ]
  },
  {
   "cell_type": "markdown",
   "metadata": {},
   "source": [
    "## Incorrect germline mutation\n",
    "I had a question that I didn’t want to post to the forum but ask rather privately:\n",
    "In the gene RBM10:\n",
    "\n",
    "  *   ACH-000875 has a variant c.e20+1G>T marked as deleterious in 22q2 but not deleterious in 23q2\n",
    "  *   ACH-000414 (NCIH1944) has a frameshift p.P617fs in 22q2 but SNP p.V616F in 23q2\n",
    "Could you please clarify the first point as to changes in variant classification and for the second point what changed in the variant caller to call a frameshift a SNP instead? According to CBIOportal CCLE data on NCIH1944 it should also have a frameshift A540Rfs*10 but I don’t think this is in the mutation calls. Would be great to understand the underlying reason.\n",
    "\n",
    "\n",
    "Answer: \n",
    "1. ACH-00875 will have this high impact mutation in 23Q4 as deleterious \n",
    "2. We will have both frameshift ENSP00000366829.3:p.Ala618ArgfsTer10 and SNP p.Val616Phe for 23Q4."
   ]
  },
  {
   "cell_type": "code",
   "execution_count": null,
   "metadata": {},
   "outputs": [],
   "source": [
    "maf_variants_23q4_clean_v3_final.query(\"ModelID == 'ACH-000875' & Hugo_Symbol == 'RBM10'\")[['vep_impact', 'dna_change', 'Protein_Change']]"
   ]
  },
  {
   "cell_type": "code",
   "execution_count": null,
   "metadata": {},
   "outputs": [],
   "source": [
    "maf_variants_23q4_clean_v3_final.query(\"ModelID == 'ACH-000414' & Hugo_Symbol == 'RBM10'\")[['vep_impact', 'variant_info', 'dna_change', 'Protein_Change']]"
   ]
  },
  {
   "cell_type": "markdown",
   "metadata": {},
   "source": [
    "## L858R hotspot\n",
    "\n",
    "L858R hotspot is being annotated as L813R and exon 19 deletions should be between 729-761 and most common in-frame del in our data is annotated at 701. Wanted to flag this for you and something to check with our new annotations.\n",
    "\n",
    "Answer: this has been annotated as ENSP00000275233.7:p.Leu858ArgfsTer47 by VEP now. We also have a few missense mutations"
   ]
  },
  {
   "cell_type": "code",
   "execution_count": null,
   "metadata": {},
   "outputs": [],
   "source": [
    "maf_variants_23q4_clean_l585r = maf_variants_23q4_clean_v3_final.loc[~maf_variants_23q4_clean_v3_final.Protein_Change.isnull(), :]\n",
    "maf_variants_23q4_clean_l585r.loc[maf_variants_23q4_clean_l585r.Protein_Change.str.contains('Leu858Arg'), ['Protein_Change', 'vep_impact', 'variant_info']]"
   ]
  },
  {
   "cell_type": "markdown",
   "metadata": {},
   "source": [
    "## Start codon change classification\n",
    "\n",
    "\n",
    "- The OmicsSomaticMutationsMAFProfile.maf file registers missense mutants in the start codon as “silent” when in fact the mutation will most likely lead to a loss of function. I’ve noticed this in one specific gene of interest, but there could be more.\n",
    "Interestingly, the OmicsSomaticMutations.csv file recognizes it as a START_CODON_SNP and marks the mutant as gene_function_loss .\n",
    "The contents of OmicsSomaticMutationsMAFProfile.maf\n",
    "GNA11 GRCh38 19 3094654 3094655 SNP G G A PR-Ds9QdK Silent p.M1I\n",
    "GNA11 GRCh38 19 3094654 3094655 SNP G G A PR-Yz6AIC Silent p.M1I\n",
    "\n",
    "- The contents of OmicsSomaticMutations.csv\n",
    "chr19,3094654,G,A,0.286,9,3,0/1,,SNP,START_CODON_SNP,c.3G>A,p.M1I,GNA11,G protein subunit alpha 11,\"G protein subunits alpha, group q\",ENST00000078429.9,1.0,+,P29992,False,,,,0.8029925187032418,E,Dom,False,,False,,gene_function_loss;,False,False,False,,,,,7.3,False,True,False,,0.921563,0.9822536945303076,0.596,4.0,,,,,,,ACH-000995,2767.0\n"
   ]
  },
  {
   "cell_type": "code",
   "execution_count": null,
   "metadata": {},
   "outputs": [],
   "source": [
    "maf_variants_23q4_clean_v3_final.query(\"Start_Position == 3094654\")[['Chromosome', 'Start_Position', 'Variant_Classification', 'vep_impact']]"
   ]
  },
  {
   "cell_type": "markdown",
   "metadata": {},
   "source": [
    "# Statistics Compared to Past release"
   ]
  },
  {
   "cell_type": "code",
   "execution_count": null,
   "metadata": {},
   "outputs": [],
   "source": [
    "release_maf_23q2_stat = release_standard_maf_23q2.value_counts('Variant_Classification').reset_index().rename({0: 'counts'}, axis=1)\n",
    "release_maf_23q4_stat = maf_variants_23q4_clean_v3_final['Variant_Classification'].value_counts().reset_index().rename({'index':'Variant_Classification', 'Variant_Classification': 'counts'}, axis=1)"
   ]
  },
  {
   "cell_type": "code",
   "execution_count": null,
   "metadata": {},
   "outputs": [],
   "source": [
    "release_maf_23q2_stat['release'] = '23Q2'\n",
    "release_maf_23q4_stat['release'] = '23Q4'"
   ]
  },
  {
   "cell_type": "code",
   "execution_count": null,
   "metadata": {},
   "outputs": [],
   "source": [
    "ccolor = '#555555'\n",
    "dodge_text = position_dodge(width=0.9)\n",
    "\n",
    "ggplot(pd.concat([release_maf_23q2_stat, release_maf_23q4_stat], axis=0), aes(x='Variant_Classification', y='counts', fill='release')) + geom_col(stat='identity', position='dodge') + \\\n",
    "      theme(\n",
    "               #axis_title_y=element_blank(),\n",
    "               axis_line_x=element_line(color='black'),\n",
    "               #axis_line_y=element_blank(),\n",
    "               #axis_text_y=element_blank(),\n",
    "               axis_text_x=element_text(color=ccolor, angle=90, va='top'),\n",
    "               #axis_ticks_major_y=element_blank(),\n",
    "               #panel_grid=element_blank(),\n",
    "               panel_border=element_blank())"
   ]
  }
 ],
 "metadata": {
  "kernelspec": {
   "display_name": "cds-omics",
   "language": "python",
   "name": "python3"
  },
  "language_info": {
   "codemirror_mode": {
    "name": "ipython",
    "version": 3
   },
   "file_extension": ".py",
   "mimetype": "text/x-python",
   "name": "python",
   "nbconvert_exporter": "python",
   "pygments_lexer": "ipython3",
   "version": "3.9.16"
  }
 },
 "nbformat": 4,
 "nbformat_minor": 2
}
