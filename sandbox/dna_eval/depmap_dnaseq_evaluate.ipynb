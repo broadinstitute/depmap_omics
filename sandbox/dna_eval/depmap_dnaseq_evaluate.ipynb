{
 "cells": [
  {
   "cell_type": "markdown",
   "metadata": {},
   "source": [
    "# DepMap WGS and WES variant filtering and whitelisting evaluation\n",
    "\n"
   ]
  },
  {
   "cell_type": "markdown",
   "metadata": {},
   "source": [
    "# Outline\n",
    "\n",
    "- [Setup](#setup)\n",
    "   - [Dependencies](#load-packages)\n",
    "   - [Datasets](#load-datasets)\n",
    "- [Sanity checks of variants](#sanity-checks)\n",
    "- [CompareToPastRelease]()"
   ]
  },
  {
   "cell_type": "markdown",
   "metadata": {},
   "source": [
    "# Setup"
   ]
  },
  {
   "cell_type": "code",
   "execution_count": 1,
   "metadata": {},
   "outputs": [],
   "source": [
    "%load_ext autoreload\n",
    "%autoreload 2\n",
    "%matplotlib inline"
   ]
  },
  {
   "cell_type": "code",
   "execution_count": 2,
   "metadata": {},
   "outputs": [],
   "source": [
    "# %%capture\n",
    "# !pip install plotly"
   ]
  },
  {
   "cell_type": "code",
   "execution_count": 3,
   "metadata": {},
   "outputs": [],
   "source": [
    "# ! pip install -U kaleido"
   ]
  },
  {
   "cell_type": "markdown",
   "metadata": {},
   "source": [
    "## Load packages"
   ]
  },
  {
   "cell_type": "code",
   "execution_count": 4,
   "metadata": {},
   "outputs": [],
   "source": [
    "import pandas as pd\n",
    "import numpy as np\n",
    "import scipy\n",
    "import seaborn as sns\n",
    "import matplotlib.pyplot as plt\n",
    "from taigapy import TaigaClient\n",
    "import os\n",
    "import plotnine\n",
    "import plotly.io as pio\n",
    "\n",
    "pio.renderers.default = \"jpeg\"\n",
    "tc = TaigaClient()"
   ]
  },
  {
   "cell_type": "code",
   "execution_count": 5,
   "metadata": {},
   "outputs": [
    {
     "data": {
      "text/plain": [
       "'/home/ubuntu/depmap_omics/sandbox/dna_eval'"
      ]
     },
     "execution_count": 5,
     "metadata": {},
     "output_type": "execute_result"
    }
   ],
   "source": [
    "%pwd"
   ]
  },
  {
   "cell_type": "markdown",
   "metadata": {},
   "source": [
    "## Load Datasets"
   ]
  },
  {
   "cell_type": "code",
   "execution_count": 5,
   "metadata": {},
   "outputs": [
    {
     "name": "stdout",
     "output_type": "stream",
     "text": [
      "Reading cached transfers from transfers.pickled. Delete this file if you want to get a fresh snapshot of all files from Terra\n",
      "  7%|██▋                                     | 198/2937 [00:05<02:18, 19.75it/s]/home/ubuntu/depmap_omics/sandbox/dna_eval/combine_mafs.py:107: DtypeWarning: Columns (21,54,59,67,70,72,78) have mixed types. Specify dtype option on import or set low_memory=False.\n",
      "  df = pd.read_csv(transfer.srcs, index_col=0)\n",
      "100%|███████████████████████████████████████| 2937/2937 [05:24<00:00,  9.05it/s]\n",
      "[]\n",
      "2937\n",
      "0 failures\n"
     ]
    }
   ],
   "source": [
    "# Generate aggregated maf from remote Terra workspaces\n",
    "\n",
    "!python combine_mafs.py"
   ]
  },
  {
   "cell_type": "code",
   "execution_count": 6,
   "metadata": {},
   "outputs": [],
   "source": [
    "assert os.path.exists(\"23Q4_mutation_maf_latest.tsv\")"
   ]
  },
  {
   "cell_type": "code",
   "execution_count": 9,
   "metadata": {},
   "outputs": [
    {
     "name": "stdout",
     "output_type": "stream",
     "text": [
      "No dataset version provided. Using version 1.\n",
      "Uploading MAF to S3\n",
      "Finished uploading MAF to S3\n",
      "Uploading MAF to Taiga\n",
      "Finished uploading MAF to Taiga\n",
      "Dataset version created. Access it directly with this url: https://cds.team/taiga/dataset_version/834ce46f551742918d3c5874b9895711\n"
     ]
    }
   ],
   "source": [
    "# Upload to Taiga for data version control\n",
    "\n",
    "update = True\n",
    "if update:\n",
    "    new_dataset_id = tc.update_dataset(\n",
    "        \"23q4-mutation-maf-f431\",\n",
    "        changes_description=\"this is a draft for 23Q4 maf of mutation\",\n",
    "        upload_files=[\n",
    "            {\n",
    "                \"path\": \"23Q4_mutation_maf_latest.tsv\",\n",
    "                \"name\": \"MAF\", # optional, will use file name if not provided\n",
    "                \"format\": \"Raw\", # or \"NumericMatrixCSV\" or \"TableCSV\"\n",
    "                \"encoding\": \"utf-8\" # optional (but recommended), will use iso-8859-1 if not provided\n",
    "            }\n",
    "        ],\n",
    "        add_all_existing_files=True,\n",
    "    )\n",
    "else:\n",
    "    new_dataset_id = tc.create_dataset(\n",
    "        \"23Q4_mutation_maf\",\n",
    "        dataset_description=\"this is a draft for 23Q4 maf of mutation\",\n",
    "        upload_files=[\n",
    "            {\n",
    "                \"path\": \"23Q4_mutation_maf_latest.tsv\",\n",
    "                \"name\": \"MAF\", # optional, will use file name if not provided\n",
    "                \"format\": \"Raw\", # or \"NumericMatrixCSV\" or \"TableCSV\"\n",
    "                \"encoding\": \"utf-8\" # optional (but recommended), will use iso-8859-1 if not provided\n",
    "            }\n",
    "        ],\n",
    "        folder_id=\"a9eedc220a6a4e70b8f1e64d2e57ed87\", # optional, will default to your home folder if not provided\n",
    "    )\n",
    "\n",
    "# new_dataset_id"
   ]
  },
  {
   "cell_type": "code",
   "execution_count": 7,
   "metadata": {},
   "outputs": [],
   "source": [
    "%%capture\n",
    "maf_variants_23q4 = tc.download_to_cache(name='23q4-mutation-maf-f431', version=2, file='MAF')  # download_to_cache for raw\n",
    "maf_variants_23q4 = pd.read_table(maf_variants_23q4)\n",
    "\n",
    "# release_standard_maf is profile-based\n",
    "# release_maf_23q2 is model-based\n",
    "# We removed variants without gene symbols\n",
    "release_maf_23q2 = tc.get(name='internal-23q2-1e49', version=98, file='OmicsSomaticMutations')\n",
    "release_standard_maf = tc.download_to_cache(name='internal-23q2-1e49', version=98, file='OmicsSomaticMutationsMAFProfile.maf')  # download_to_cache for raw\n",
    "release_standard_maf_23q2 = pd.read_table(release_standard_maf)"
   ]
  },
  {
   "cell_type": "markdown",
   "metadata": {},
   "source": [
    "# Sanity checks"
   ]
  },
  {
   "cell_type": "markdown",
   "metadata": {},
   "source": [
    "## Sanity checks for compound variants that has multiple consequences even with --pick\n",
    "\n",
    "- Typical examples are splicing variants that may be missense mutation as well"
   ]
  },
  {
   "cell_type": "code",
   "execution_count": 9,
   "metadata": {},
   "outputs": [],
   "source": [
    "maf_variants_23q4.loc[:, 'gnomade_af'] = maf_variants_23q4.loc[:, 'gnomade_af'].fillna(0)"
   ]
  },
  {
   "cell_type": "code",
   "execution_count": 12,
   "metadata": {},
   "outputs": [],
   "source": [
    "maf_variants_23q4.loc[:, 'gnomadg_af'] = maf_variants_23q4.loc[:, 'gnomadg_af'].fillna(0)"
   ]
  },
  {
   "cell_type": "code",
   "execution_count": 15,
   "metadata": {},
   "outputs": [
    {
     "data": {
      "text/plain": [
       "count    1.124216e+06\n",
       "mean     2.315057e-03\n",
       "std      2.915893e-02\n",
       "min      0.000000e+00\n",
       "25%      0.000000e+00\n",
       "50%      0.000000e+00\n",
       "75%      0.000000e+00\n",
       "max      4.872000e-01\n",
       "Name: gnomade_af, dtype: float64"
      ]
     },
     "execution_count": 15,
     "metadata": {},
     "output_type": "execute_result"
    }
   ],
   "source": [
    "maf_variants_23q4.loc[:, 'gnomade_af'].describe()"
   ]
  },
  {
   "cell_type": "code",
   "execution_count": 16,
   "metadata": {},
   "outputs": [],
   "source": [
    "check_columns = ['pos', 'gnomadg_af', 'hess_driver', 'vep_impact', 'cosmic_tier', 'civic_score', 'clnsig', 'hugo_symbol', 'vep_mane_select', 'variant_info', 'protein_change', 'oncokb_oncogenic', 'oncokb_effect', 'oncokb_hotspot', 'rescue']"
   ]
  },
  {
   "cell_type": "code",
   "execution_count": 17,
   "metadata": {},
   "outputs": [
    {
     "data": {
      "text/html": [
       "<div>\n",
       "<style scoped>\n",
       "    .dataframe tbody tr th:only-of-type {\n",
       "        vertical-align: middle;\n",
       "    }\n",
       "\n",
       "    .dataframe tbody tr th {\n",
       "        vertical-align: top;\n",
       "    }\n",
       "\n",
       "    .dataframe thead th {\n",
       "        text-align: right;\n",
       "    }\n",
       "</style>\n",
       "<table border=\"1\" class=\"dataframe\">\n",
       "  <thead>\n",
       "    <tr style=\"text-align: right;\">\n",
       "      <th></th>\n",
       "      <th>pos</th>\n",
       "      <th>gnomadg_af</th>\n",
       "      <th>hess_driver</th>\n",
       "      <th>vep_impact</th>\n",
       "      <th>cosmic_tier</th>\n",
       "      <th>civic_score</th>\n",
       "      <th>clnsig</th>\n",
       "      <th>hugo_symbol</th>\n",
       "      <th>vep_mane_select</th>\n",
       "      <th>variant_info</th>\n",
       "      <th>protein_change</th>\n",
       "      <th>oncokb_oncogenic</th>\n",
       "      <th>oncokb_effect</th>\n",
       "      <th>oncokb_hotspot</th>\n",
       "      <th>rescue</th>\n",
       "    </tr>\n",
       "  </thead>\n",
       "  <tbody>\n",
       "    <tr>\n",
       "      <th>24</th>\n",
       "      <td>130173281</td>\n",
       "      <td>0.0000</td>\n",
       "      <td>NaN</td>\n",
       "      <td>MODERATE</td>\n",
       "      <td>NaN</td>\n",
       "      <td>NaN</td>\n",
       "      <td>NaN</td>\n",
       "      <td>SMPD4</td>\n",
       "      <td>NM_017951.5</td>\n",
       "      <td>missense_variant&amp;splice_region_variant</td>\n",
       "      <td>ENSP00000506463.1:p.Pro115Ser</td>\n",
       "      <td>NaN</td>\n",
       "      <td>NaN</td>\n",
       "      <td>NaN</td>\n",
       "      <td>False</td>\n",
       "    </tr>\n",
       "    <tr>\n",
       "      <th>40</th>\n",
       "      <td>149520808</td>\n",
       "      <td>0.1012</td>\n",
       "      <td>NaN</td>\n",
       "      <td>HIGH</td>\n",
       "      <td>NaN</td>\n",
       "      <td>NaN</td>\n",
       "      <td>NaN</td>\n",
       "      <td>WWTR1</td>\n",
       "      <td>NM_015472.6</td>\n",
       "      <td>stop_gained&amp;frameshift_variant</td>\n",
       "      <td>ENSP00000353847.3:p.Ter401=</td>\n",
       "      <td>NaN</td>\n",
       "      <td>NaN</td>\n",
       "      <td>NaN</td>\n",
       "      <td>True</td>\n",
       "    </tr>\n",
       "    <tr>\n",
       "      <th>67</th>\n",
       "      <td>32518079</td>\n",
       "      <td>0.0000</td>\n",
       "      <td>NaN</td>\n",
       "      <td>HIGH</td>\n",
       "      <td>NaN</td>\n",
       "      <td>NaN</td>\n",
       "      <td>NaN</td>\n",
       "      <td>HLA-DRB5</td>\n",
       "      <td>NM_002125.4</td>\n",
       "      <td>splice_acceptor_variant&amp;splice_polypyrimidine_...</td>\n",
       "      <td>NaN</td>\n",
       "      <td>NaN</td>\n",
       "      <td>NaN</td>\n",
       "      <td>NaN</td>\n",
       "      <td>False</td>\n",
       "    </tr>\n",
       "    <tr>\n",
       "      <th>72</th>\n",
       "      <td>79201726</td>\n",
       "      <td>0.0000</td>\n",
       "      <td>NaN</td>\n",
       "      <td>MODERATE</td>\n",
       "      <td>NaN</td>\n",
       "      <td>NaN</td>\n",
       "      <td>NaN</td>\n",
       "      <td>HMGN3</td>\n",
       "      <td>NaN</td>\n",
       "      <td>missense_variant&amp;splice_region_variant</td>\n",
       "      <td>ENSP00000482613.1:p.Ala119Thr</td>\n",
       "      <td>NaN</td>\n",
       "      <td>NaN</td>\n",
       "      <td>NaN</td>\n",
       "      <td>False</td>\n",
       "    </tr>\n",
       "    <tr>\n",
       "      <th>139</th>\n",
       "      <td>110455680</td>\n",
       "      <td>0.0000</td>\n",
       "      <td>NaN</td>\n",
       "      <td>MODERATE</td>\n",
       "      <td>NaN</td>\n",
       "      <td>NaN</td>\n",
       "      <td>NaN</td>\n",
       "      <td>GPN3</td>\n",
       "      <td>NM_016301.4</td>\n",
       "      <td>missense_variant&amp;splice_region_variant</td>\n",
       "      <td>ENSP00000228827.3:p.Phe190Ser</td>\n",
       "      <td>NaN</td>\n",
       "      <td>NaN</td>\n",
       "      <td>NaN</td>\n",
       "      <td>False</td>\n",
       "    </tr>\n",
       "  </tbody>\n",
       "</table>\n",
       "</div>"
      ],
      "text/plain": [
       "           pos  gnomadg_af hess_driver vep_impact  cosmic_tier  civic_score  \\\n",
       "24   130173281      0.0000         NaN   MODERATE          NaN          NaN   \n",
       "40   149520808      0.1012         NaN       HIGH          NaN          NaN   \n",
       "67    32518079      0.0000         NaN       HIGH          NaN          NaN   \n",
       "72    79201726      0.0000         NaN   MODERATE          NaN          NaN   \n",
       "139  110455680      0.0000         NaN   MODERATE          NaN          NaN   \n",
       "\n",
       "    clnsig hugo_symbol vep_mane_select  \\\n",
       "24     NaN       SMPD4     NM_017951.5   \n",
       "40     NaN       WWTR1     NM_015472.6   \n",
       "67     NaN    HLA-DRB5     NM_002125.4   \n",
       "72     NaN       HMGN3             NaN   \n",
       "139    NaN        GPN3     NM_016301.4   \n",
       "\n",
       "                                          variant_info  \\\n",
       "24              missense_variant&splice_region_variant   \n",
       "40                      stop_gained&frameshift_variant   \n",
       "67   splice_acceptor_variant&splice_polypyrimidine_...   \n",
       "72              missense_variant&splice_region_variant   \n",
       "139             missense_variant&splice_region_variant   \n",
       "\n",
       "                    protein_change oncokb_oncogenic oncokb_effect  \\\n",
       "24   ENSP00000506463.1:p.Pro115Ser              NaN           NaN   \n",
       "40     ENSP00000353847.3:p.Ter401=              NaN           NaN   \n",
       "67                             NaN              NaN           NaN   \n",
       "72   ENSP00000482613.1:p.Ala119Thr              NaN           NaN   \n",
       "139  ENSP00000228827.3:p.Phe190Ser              NaN           NaN   \n",
       "\n",
       "    oncokb_hotspot  rescue  \n",
       "24             NaN   False  \n",
       "40             NaN    True  \n",
       "67             NaN   False  \n",
       "72             NaN   False  \n",
       "139            NaN   False  "
      ]
     },
     "execution_count": 17,
     "metadata": {},
     "output_type": "execute_result"
    }
   ],
   "source": [
    "# splicing mutation do not have protein changes\n",
    "# when co-exist with synonymous mutation or missense mutation\n",
    "# there will be protein changes\n",
    "maf_variants_23q4.query(\"variant_info.str.contains('&')\")[check_columns].head()"
   ]
  },
  {
   "cell_type": "code",
   "execution_count": 18,
   "metadata": {},
   "outputs": [
    {
     "data": {
      "text/plain": [
       "(hess_driver\n",
       " Y    25\n",
       " dtype: int64,\n",
       " 71)"
      ]
     },
     "execution_count": 18,
     "metadata": {},
     "output_type": "execute_result"
    }
   ],
   "source": [
    "# Remaining compound synonymous mutations are caused by rescue\n",
    "# 25 of them are from julian's papers\n",
    "maf_variants_23q4.query(\"variant_info.str.contains('&') & variant_info.str.contains('syno')\").value_counts(\"hess_driver\"), maf_variants_23q4.query(\"variant_info.str.contains('&') & variant_info.str.contains('syno')\").value_counts(\"rescue\").sum()"
   ]
  },
  {
   "cell_type": "code",
   "execution_count": 19,
   "metadata": {},
   "outputs": [
    {
     "data": {
      "text/plain": [
       "0"
      ]
     },
     "execution_count": 19,
     "metadata": {},
     "output_type": "execute_result"
    }
   ],
   "source": [
    "# No missense and Synonymous mutation co-occur\n",
    "# This is a sanity check that we chose only one transcript per variant\n",
    "((maf_variants_23q4.variant_info.str.contains('synony')) & (maf_variants_23q4.variant_info.str.contains('mis'))).sum()"
   ]
  },
  {
   "cell_type": "markdown",
   "metadata": {},
   "source": [
    "## Sanity checks of repeat elements"
   ]
  },
  {
   "cell_type": "code",
   "execution_count": 20,
   "metadata": {},
   "outputs": [
    {
     "data": {
      "text/plain": [
       "((161, 82),\n",
       " oncokb_effect\n",
       " Gain-of-function           103\n",
       " Likely Loss-of-function     26\n",
       " Likely Gain-of-function      8\n",
       " Inconclusive                 1\n",
       " dtype: int64)"
      ]
     },
     "execution_count": 20,
     "metadata": {},
     "output_type": "execute_result"
    }
   ],
   "source": [
    "# Some segmental duplicates are masking the oncokb annotations\n",
    "# but rescued back\n",
    "maf_variants_23q4.query(\"segdup == 'Y'\").shape, maf_variants_23q4.query(\"segdup == 'Y'\").value_counts('oncokb_effect')"
   ]
  },
  {
   "cell_type": "code",
   "execution_count": 21,
   "metadata": {},
   "outputs": [
    {
     "data": {
      "text/plain": [
       "((35, 82),\n",
       " vep_impact\n",
       " HIGH    35\n",
       " dtype: int64)"
      ]
     },
     "execution_count": 21,
     "metadata": {},
     "output_type": "execute_result"
    }
   ],
   "source": [
    "# all of the repeat masking variants are from high impact variants on Tumor Suppressor or Oncogene\n",
    "# We only whitelisting high impact mutations that locate in the Tumor Suppressor or Oncogene\n",
    "maf_variants_23q4.query(\"rm == 'Y'\").shape, maf_variants_23q4.query(\"rm == 'Y'\").value_counts('vep_impact')"
   ]
  },
  {
   "cell_type": "markdown",
   "metadata": {},
   "source": [
    "## Sanity checks with St Jude clinical pipeline"
   ]
  },
  {
   "cell_type": "code",
   "execution_count": 22,
   "metadata": {},
   "outputs": [
    {
     "data": {
      "text/plain": [
       "(23, 15)"
      ]
     },
     "execution_count": 22,
     "metadata": {},
     "output_type": "execute_result"
    }
   ],
   "source": [
    "# Miss two only St Jude InDel now\n",
    "\n",
    "## MONOMAC1\tchr11.47355346.GC.\tchr11.47355353.CGCC.CC\tInDel\tTP53\tNA\n",
    "## SKNAS\tchr6.156778971..GCA\tchr6.156778980.GG.GCAGG\tInDel\n",
    "## For St Jude results to be left-aligned as well\n",
    "maf_variants_23q4.loc[maf_variants_23q4.pos.isin(np.array([105272634, 41224922, 124064038, 48791113, 23803335, 7675067, 47355346, 68293321, 156778971, 226064457, 49041176]) - 1), check_columns].shape"
   ]
  },
  {
   "cell_type": "markdown",
   "metadata": {},
   "source": [
    "## Sanity checks of Somatic filter \n",
    "\n",
    "- Gnomad genome frequencies\n",
    "- Gnomad exome frequencies"
   ]
  },
  {
   "cell_type": "code",
   "execution_count": 24,
   "metadata": {},
   "outputs": [
    {
     "data": {
      "text/plain": [
       "count    1.124216e+06\n",
       "mean     2.256150e-03\n",
       "std      2.783982e-02\n",
       "min      0.000000e+00\n",
       "25%      0.000000e+00\n",
       "50%      0.000000e+00\n",
       "75%      0.000000e+00\n",
       "max      4.946000e-01\n",
       "Name: gnomadg_af, dtype: float64"
      ]
     },
     "execution_count": 24,
     "metadata": {},
     "output_type": "execute_result"
    }
   ],
   "source": [
    "# We will not keep low frequency synonymous mutation that are never compound with splicing or other consequences\n",
    "maf_variants_23q4['gnomadg_af'].describe()"
   ]
  },
  {
   "cell_type": "code",
   "execution_count": 25,
   "metadata": {},
   "outputs": [
    {
     "data": {
      "text/plain": [
       "(0.0, 0.9903879681484697, 0.009612031851530312)"
      ]
     },
     "execution_count": 25,
     "metadata": {},
     "output_type": "execute_result"
    }
   ],
   "source": [
    "maf_variants_23q4.gnomadg_af.isnull().sum() / maf_variants_23q4.shape[0], ((maf_variants_23q4.gnomadg_af.astype('float32') < 1e-5)).sum() / maf_variants_23q4.shape[0], ((maf_variants_23q4.gnomadg_af.astype('float32') >= 1e-5)).sum() / maf_variants_23q4.shape[0]"
   ]
  },
  {
   "cell_type": "code",
   "execution_count": 26,
   "metadata": {},
   "outputs": [
    {
     "data": {
      "text/plain": [
       "10806"
      ]
     },
     "execution_count": 26,
     "metadata": {},
     "output_type": "execute_result"
    }
   ],
   "source": [
    "(maf_variants_23q4.gnomadg_af.astype('float32') >= 1e-5).sum() "
   ]
  },
  {
   "cell_type": "code",
   "execution_count": 27,
   "metadata": {},
   "outputs": [
    {
     "data": {
      "text/plain": [
       "(1124216, 82)"
      ]
     },
     "execution_count": 27,
     "metadata": {},
     "output_type": "execute_result"
    }
   ],
   "source": [
    "maf_variants_23q4.shape"
   ]
  },
  {
   "cell_type": "code",
   "execution_count": 28,
   "metadata": {},
   "outputs": [
    {
     "data": {
      "image/jpeg": "[encoded data removed]"
     },
     "metadata": {},
     "output_type": "display_data"
    }
   ],
   "source": [
    "import plotly.express as px\n",
    "fig = px.pie(((maf_variants_23q4.gnomadg_af.astype('float32')>1e-5) | ((maf_variants_23q4.gnomade_af.astype('float32')>1e-5))).value_counts().reset_index(), names=\"index\", values=0)\n",
    "fig.show()"
   ]
  },
  {
   "cell_type": "markdown",
   "metadata": {},
   "source": [
    "## Sanity checks of Whitelisted variants number"
   ]
  },
  {
   "cell_type": "code",
   "execution_count": 29,
   "metadata": {},
   "outputs": [
    {
     "data": {
      "text/plain": [
       "(1124216,)"
      ]
     },
     "execution_count": 29,
     "metadata": {},
     "output_type": "execute_result"
    }
   ],
   "source": [
    "maf_variants_23q4.rescue.dropna().shape"
   ]
  },
  {
   "cell_type": "code",
   "execution_count": 30,
   "metadata": {},
   "outputs": [
    {
     "data": {
      "text/plain": [
       "(28329, 1124216)"
      ]
     },
     "execution_count": 30,
     "metadata": {},
     "output_type": "execute_result"
    }
   ],
   "source": [
    "maf_variants_23q4.rescue.dropna().sum(), maf_variants_23q4.rescue.dropna().shape[0]"
   ]
  },
  {
   "cell_type": "code",
   "execution_count": 31,
   "metadata": {},
   "outputs": [
    {
     "data": {
      "text/plain": [
       "(hess_driver\n",
       " Y    278\n",
       " dtype: int64,\n",
       " 3959)"
      ]
     },
     "execution_count": 31,
     "metadata": {},
     "output_type": "execute_result"
    }
   ],
   "source": [
    "# Majority of simple synonymous mutations are rescued by Julian's paper\n",
    "# Let's remove hess_driver in rescue list\n",
    "maf_variants_23q4.query(\"variant_info.str.contains('syno')\")[check_columns].value_counts(\"hess_driver\"), (maf_variants_23q4.hess_driver == 'Y').sum()"
   ]
  },
  {
   "cell_type": "code",
   "execution_count": 32,
   "metadata": {},
   "outputs": [
    {
     "data": {
      "image/png": "[encoded data removed]",
      "text/plain": [
       "<Figure size 1500x400 with 5 Axes>"
      ]
     },
     "metadata": {},
     "output_type": "display_data"
    }
   ],
   "source": [
    "rescued_maf_variants = maf_variants_23q4.loc[maf_variants_23q4.rescue, :]\n",
    "rescued_maf_variants_sub_categores = rescued_maf_variants.loc[:, ['cosmic_tier', 'oncokb_effect', 'oncokb_hotspot', 'oncokb_oncogenic', 'hess_driver', 'gnomadg_af', 'gnomade_af']].melt(id_vars=['cosmic_tier', 'oncokb_effect', 'oncokb_hotspot', 'oncokb_oncogenic', 'hess_driver'])\n",
    "\n",
    "## Majority of the oncoKB hotspot mutation are also very pemissive\n",
    "## They will introduce inclusive oncoKB mutation effects \n",
    "## Let's remove hotspot mutation for whitelisting ..\n",
    "## May consider run hotspot method later\n",
    "\n",
    "sns.set_style(\"white\")\n",
    "fig, ax = plt.subplots(1, 5)\n",
    "fig.set_size_inches(15, 4)\n",
    "ax = ax.flatten()\n",
    "\n",
    "sns.violinplot(data=rescued_maf_variants_sub_categores, x='cosmic_tier', y='value', hue='variable', ax=ax[0])\n",
    "sns.violinplot(data=rescued_maf_variants_sub_categores, x='oncokb_effect', y='value', hue='variable', ax=ax[1])\n",
    "sns.violinplot(data=rescued_maf_variants_sub_categores, x='oncokb_hotspot', y='value', hue='variable', ax=ax[2])\n",
    "sns.violinplot(data=rescued_maf_variants_sub_categores, x='oncokb_oncogenic', y='value', hue='variable', ax=ax[3])\n",
    "sns.violinplot(data=rescued_maf_variants_sub_categores, x='hess_driver', y='value', hue='variable', ax=ax[4])\n",
    "\n",
    "for ax_index, curr_ax in enumerate(ax):\n",
    "    for tick in curr_ax.get_xticklabels():\n",
    "        tick.set_rotation(45)\n",
    "        tick.set_ha('right')\n",
    "        sns.despine()\n",
    "        if ax_index == 4:\n",
    "            curr_ax.legend(bbox_to_anchor=(0.5, 1.2), ncol=3, fancybox=True, shadow=True, loc='upper center')\n",
    "        else:\n",
    "            curr_ax.legend().set_visible(False)\n",
    "#plt.tight_layout()\n"
   ]
  },
  {
   "cell_type": "code",
   "execution_count": 33,
   "metadata": {},
   "outputs": [
    {
     "data": {
      "text/plain": [
       "<matplotlib.legend.Legend at 0x7c0cf4d41e80>"
      ]
     },
     "execution_count": 33,
     "metadata": {},
     "output_type": "execute_result"
    },
    {
     "data": {
      "image/png": "[encoded data removed]",
      "text/plain": [
       "<Figure size 640x480 with 1 Axes>"
      ]
     },
     "metadata": {},
     "output_type": "display_data"
    }
   ],
   "source": [
    "sns.ecdfplot(data=rescued_maf_variants, y=\"gnomadg_af\", label='Gnomad Genome')\n",
    "sns.ecdfplot(data=rescued_maf_variants, y=\"gnomade_af\", label='Gnomad Exome')\n",
    "plt.ylabel(\"AF\")\n",
    "plt.legend()"
   ]
  },
  {
   "cell_type": "markdown",
   "metadata": {},
   "source": [
    "# Remove some rescue list to finalize a maf file"
   ]
  },
  {
   "cell_type": "code",
   "execution_count": 35,
   "metadata": {},
   "outputs": [],
   "source": [
    "adjusted_gnomad_af_cutoff = 1e-1 # version 1 \n",
    "\n",
    "# Turn off hotspot rescue list \n",
    "# for both oncoKB and hess driver\n",
    "# maf_variants_23q4_hotspot = maf_variants_23q4.query(\"(oncokb_hotspot == 'Y') | (hess_driver == 'Y')\")\n",
    "\n",
    "## # Only remove the hotspot with synonymous mutations and high allele frequency\n",
    "#maf_variants_23q4_clean = maf_variants_23q4.drop(maf_variants_23q4_hotspot.index[((maf_variants_23q4_hotspot.gnomadg_af > adjusted_gnomad_af_cutoff) | (maf_variants_23q4_hotspot.gnomade_af > adjusted_gnomad_af_cutoff)) & (maf_variants_23q4_hotspot.variant_info.str.contains(\"^syno\", regex=True))], axis=0)\n",
    "\n",
    "# With above filter of rescue list\n",
    "# We still have ~110 synonymous mutations\n",
    "# Remove synonymous mutation even with low gnomad af\n",
    "# Unless there is very strong oncoKB support \n",
    "# any variants with leftmost (strongest) consequence is synonymous mutation \n",
    "# will be removed\n",
    "\n",
    "maf_variants_23q4_clean = maf_variants_23q4.query(\"~variant_info.str.contains('^synony', regex=True)\")"
   ]
  },
  {
   "cell_type": "code",
   "execution_count": 36,
   "metadata": {},
   "outputs": [
    {
     "data": {
      "text/plain": [
       "(1123963, 82)"
      ]
     },
     "execution_count": 36,
     "metadata": {},
     "output_type": "execute_result"
    }
   ],
   "source": [
    "maf_variants_23q4_clean.shape"
   ]
  },
  {
   "cell_type": "code",
   "execution_count": 37,
   "metadata": {},
   "outputs": [
    {
     "data": {
      "image/png": "[encoded data removed]",
      "text/plain": [
       "<Figure size 1800x400 with 5 Axes>"
      ]
     },
     "metadata": {},
     "output_type": "display_data"
    }
   ],
   "source": [
    "# Double check after removing hotspot rescue\n",
    "rescued_maf_variants = maf_variants_23q4_clean.loc[maf_variants_23q4_clean.rescue, :]\n",
    "rescued_maf_variants_sub_categores = rescued_maf_variants.loc[:, ['cosmic_tier', 'oncokb_effect', 'oncokb_hotspot', 'oncokb_oncogenic', 'hess_driver', 'gnomadg_af', 'gnomade_af']].melt(id_vars=['cosmic_tier', 'oncokb_effect', 'oncokb_hotspot', 'oncokb_oncogenic', 'hess_driver'])\n",
    "\n",
    "## Majority of the oncoKB hotspot mutation are also very pemissive\n",
    "## They will introduce inclusive oncoKB mutation effects \n",
    "## Let's remove hotspot mutation for whitelisting ..\n",
    "## May consider run hotspot method later\n",
    "\n",
    "sns.set_style(\"white\")\n",
    "fig, ax = plt.subplots(1, 5)\n",
    "fig.set_size_inches(18, 4)\n",
    "ax = ax.flatten()\n",
    "\n",
    "sns.violinplot(data=rescued_maf_variants_sub_categores, x='cosmic_tier', y='value', hue='variable', ax=ax[0])\n",
    "sns.violinplot(data=rescued_maf_variants_sub_categores, x='oncokb_effect', y='value', hue='variable', ax=ax[1])\n",
    "sns.violinplot(data=rescued_maf_variants_sub_categores, x='oncokb_hotspot', y='value', hue='variable', ax=ax[2])\n",
    "sns.violinplot(data=rescued_maf_variants_sub_categores, x='oncokb_oncogenic', y='value', hue='variable', ax=ax[3])\n",
    "sns.violinplot(data=rescued_maf_variants_sub_categores, x='hess_driver', y='value', hue='variable', ax=ax[4])\n",
    "\n",
    "for ax_index, curr_ax in enumerate(ax):\n",
    "    for tick in curr_ax.get_xticklabels():\n",
    "        tick.set_rotation(45)\n",
    "        tick.set_ha('right')\n",
    "        sns.despine()\n",
    "        if ax_index == 4:\n",
    "            curr_ax.legend(bbox_to_anchor=(0.5, 1.2), ncol=3, fancybox=True, shadow=True, loc='upper center')\n",
    "        else:\n",
    "            curr_ax.legend().set_visible(False)\n",
    "plt.tight_layout()"
   ]
  },
  {
   "cell_type": "code",
   "execution_count": 40,
   "metadata": {},
   "outputs": [
    {
     "data": {
      "text/plain": [
       "(0.4872, 0.4946)"
      ]
     },
     "execution_count": 40,
     "metadata": {},
     "output_type": "execute_result"
    }
   ],
   "source": [
    "rescued_maf_variants.gnomade_af.max(), rescued_maf_variants.gnomadg_af.max()"
   ]
  },
  {
   "cell_type": "code",
   "execution_count": 42,
   "metadata": {},
   "outputs": [
    {
     "data": {
      "text/plain": [
       "(1116228, 82)"
      ]
     },
     "execution_count": 42,
     "metadata": {},
     "output_type": "execute_result"
    }
   ],
   "source": [
    "# Turn off oncoKB hotspot rescue list  \n",
    "# maf_variants_23q4_oncokb = maf_variants_23q4_clean.query(\"(oncokb_hotspot == 'Y')\")\n",
    "\n",
    "## Only remove the hotspot with synonymous mutations and high allele frequency\n",
    "#maf_variants_23q4_clean = maf_variants_23q4_clean.drop(maf_variants_23q4_oncokb.index[((maf_variants_23q4_oncokb.gnomadg_af > adjusted_gnomad_af_cutoff) | (maf_variants_23q4_oncokb.gnomade_af > adjusted_gnomad_af_cutoff)) | \\\n",
    "#                                                                                       (maf_variants_23q4_oncokb.oncokb_effect.str.contains(\"^Inconclusive\", regex=True))], axis=0)\n",
    "\n",
    "# We do not remove any inclusive mutation which are hotspot in oncoKB\n",
    "maf_variants_23q4_clean = maf_variants_23q4_clean.drop(maf_variants_23q4_clean.index[((maf_variants_23q4_clean.gnomadg_af > adjusted_gnomad_af_cutoff) | (maf_variants_23q4_clean.gnomade_af > adjusted_gnomad_af_cutoff))], axis=0)\n",
    "\n",
    "maf_variants_23q4_clean.shape                                                                                    "
   ]
  },
  {
   "cell_type": "code",
   "execution_count": 43,
   "metadata": {},
   "outputs": [
    {
     "data": {
      "image/png": "[encoded data removed]",
      "text/plain": [
       "<Figure size 1800x400 with 5 Axes>"
      ]
     },
     "metadata": {},
     "output_type": "display_data"
    }
   ],
   "source": [
    "# Double check after removing hotspot rescue\n",
    "rescued_maf_variants = maf_variants_23q4_clean.loc[maf_variants_23q4_clean.rescue, :]\n",
    "rescued_maf_variants_sub_categores = rescued_maf_variants.loc[:, ['cosmic_tier', 'oncokb_effect', 'oncokb_hotspot', 'oncokb_oncogenic', 'hess_driver', 'gnomadg_af', 'gnomade_af']].melt(id_vars=['cosmic_tier', 'oncokb_effect', 'oncokb_hotspot', 'oncokb_oncogenic', 'hess_driver'])\n",
    "\n",
    "## Majority of the oncoKB hotspot mutation are also very pemissive\n",
    "## They will introduce inclusive oncoKB mutation effects \n",
    "## Let's remove hotspot mutation for whitelisting ..\n",
    "## May consider run hotspot method later\n",
    "\n",
    "sns.set_style(\"white\")\n",
    "fig, ax = plt.subplots(1, 5)\n",
    "fig.set_size_inches(18, 4)\n",
    "ax = ax.flatten()\n",
    "\n",
    "sns.violinplot(data=rescued_maf_variants_sub_categores, x='cosmic_tier', y='value', hue='variable', ax=ax[0])\n",
    "sns.violinplot(data=rescued_maf_variants_sub_categores, x='oncokb_effect', y='value', hue='variable', ax=ax[1])\n",
    "sns.violinplot(data=rescued_maf_variants_sub_categores, x='oncokb_hotspot', y='value', hue='variable', ax=ax[2])\n",
    "sns.violinplot(data=rescued_maf_variants_sub_categores, x='oncokb_oncogenic', y='value', hue='variable', ax=ax[3])\n",
    "sns.violinplot(data=rescued_maf_variants_sub_categores, x='hess_driver', y='value', hue='variable', ax=ax[4])\n",
    "\n",
    "for ax_index, curr_ax in enumerate(ax):\n",
    "    for tick in curr_ax.get_xticklabels():\n",
    "        tick.set_rotation(45)\n",
    "        tick.set_ha('right')\n",
    "        sns.despine()\n",
    "        if ax_index == 4:\n",
    "            curr_ax.legend(bbox_to_anchor=(0.5, 1.2), ncol=3, fancybox=True, shadow=True, loc='upper center')\n",
    "        else:\n",
    "            curr_ax.legend().set_visible(False)\n",
    "plt.tight_layout()"
   ]
  },
  {
   "cell_type": "code",
   "execution_count": 44,
   "metadata": {},
   "outputs": [
    {
     "data": {
      "text/plain": [
       "(1116228, 82)"
      ]
     },
     "execution_count": 44,
     "metadata": {},
     "output_type": "execute_result"
    }
   ],
   "source": [
    "# # Trim COSMIC tier 1 with high frequency\n",
    "# maf_variants_23q4_cosmic = maf_variants_23q4_clean.query(\"(cosmic_tier == 1) | (cosmic_tier == 3)\")\n",
    "\n",
    "# # Only remove the hotspot with synonymous mutations and high allele frequency\n",
    "# maf_variants_23q4_clean = maf_variants_23q4_clean.drop(maf_variants_23q4_cosmic.index[((maf_variants_23q4_cosmic.gnomadg_af > adjusted_gnomad_af_cutoff) | (maf_variants_23q4_cosmic.gnomade_af > adjusted_gnomad_af_cutoff))], axis=0)\n",
    "\n",
    "maf_variants_23q4_clean.shape                                                                                    "
   ]
  },
  {
   "cell_type": "markdown",
   "metadata": {},
   "source": [
    "### Check COSMIC census genes overlap with different adjusted gnomad for rescue list"
   ]
  },
  {
   "cell_type": "code",
   "execution_count": 45,
   "metadata": {},
   "outputs": [],
   "source": [
    "# Simplify the whole rescue list adjustment process\n",
    "adjusted_gnomad_af_cutoff = 1e-2 # version 2\n",
    "maf_variants_23q4_clean_v2 = maf_variants_23q4_clean.drop(maf_variants_23q4_clean.index[((maf_variants_23q4_clean.gnomadg_af > adjusted_gnomad_af_cutoff) | (maf_variants_23q4_clean.gnomade_af > adjusted_gnomad_af_cutoff))], axis=0)"
   ]
  },
  {
   "cell_type": "code",
   "execution_count": 46,
   "metadata": {},
   "outputs": [],
   "source": [
    "# Simplify the whole rescue list adjustment process\n",
    "adjusted_gnomad_af_cutoff = 1e-3 # version 3\n",
    "maf_variants_23q4_clean_v3 = maf_variants_23q4_clean.drop(maf_variants_23q4_clean.index[((maf_variants_23q4_clean.gnomadg_af > adjusted_gnomad_af_cutoff) | (maf_variants_23q4_clean.gnomade_af > adjusted_gnomad_af_cutoff))], axis=0)"
   ]
  },
  {
   "cell_type": "code",
   "execution_count": 48,
   "metadata": {},
   "outputs": [],
   "source": [
    "adjusted_gnomad_af_cutoff = 1e-4 # version 4\n",
    "maf_variants_23q4_clean_v4 = maf_variants_23q4_clean.drop(maf_variants_23q4_clean.index[((maf_variants_23q4_clean.gnomadg_af > adjusted_gnomad_af_cutoff) | (maf_variants_23q4_clean.gnomade_af > adjusted_gnomad_af_cutoff))], axis=0)"
   ]
  },
  {
   "cell_type": "code",
   "execution_count": 50,
   "metadata": {},
   "outputs": [],
   "source": [
    "# Check the version 3 and version 4 differences\n",
    "# We chose 1e-3 due to 1e-4 lose JAK2 gain-of-functions\n",
    "maf_variants_23q4_clean_v3.loc[~maf_variants_23q4_clean_v3.index.isin(maf_variants_23q4_clean_v4.index), :].to_csv(\"rescue_gnomad1e3_gnomad1e4_changes.tsv\", sep='\\t')"
   ]
  },
  {
   "cell_type": "code",
   "execution_count": 51,
   "metadata": {},
   "outputs": [
    {
     "name": "stdout",
     "output_type": "stream",
     "text": [
      "658 rescue_gnomad1e3_gnomad1e4_changes.tsv\n"
     ]
    }
   ],
   "source": [
    "!wc -l rescue_gnomad1e3_gnomad1e4_changes.tsv "
   ]
  },
  {
   "cell_type": "code",
   "execution_count": 52,
   "metadata": {},
   "outputs": [
    {
     "data": {
      "text/plain": [
       "'/home/ubuntu/depmap_omics/sandbox/dna_eval'"
      ]
     },
     "execution_count": 52,
     "metadata": {},
     "output_type": "execute_result"
    }
   ],
   "source": [
    "%pwd"
   ]
  },
  {
   "cell_type": "code",
   "execution_count": 53,
   "metadata": {},
   "outputs": [],
   "source": [
    "adjusted_gnomad_af_cutoff = 1e-5 # version 3\n",
    "maf_variants_23q4_clean_v5 = maf_variants_23q4_clean.drop(maf_variants_23q4_clean.index[((maf_variants_23q4_clean.gnomadg_af > adjusted_gnomad_af_cutoff) | (maf_variants_23q4_clean.gnomade_af > adjusted_gnomad_af_cutoff))], axis=0)"
   ]
  },
  {
   "cell_type": "code",
   "execution_count": 55,
   "metadata": {},
   "outputs": [],
   "source": [
    "cosmic_tier1 = pd.read_csv(\"/home/ubuntu/COSMIC_Census_Tier1_allSun Sep 24 20_50_28 2023.csv\")"
   ]
  },
  {
   "cell_type": "code",
   "execution_count": 56,
   "metadata": {},
   "outputs": [
    {
     "data": {
      "text/plain": [
       "Index(['0915', 'chrom', 'pos', 'ref', 'alt', 'af', 'dp', 'ref_count',\n",
       "       'alt_count', 'gt', 'ps', 'variant_type', 'variant_info', 'dna_change',\n",
       "       'protein_change', 'hugo_symbol', 'ensembl_gene_id',\n",
       "       'ensembl_feature_id', 'hgnc_name', 'hgnc_family', 'uniprot_id',\n",
       "       'dbsnp_rs_id', 'gc_content', 'lof_gene_name', 'lof_gene_id',\n",
       "       'lof_number_of_transcripts_in_gene',\n",
       "       'lof_percent_of_transcripts_affected', 'nmd', 'clnsig',\n",
       "       'molecular_consequence', 'af_exac', 'af_esp', 'af_tgp', 'vep_impact',\n",
       "       'vep_biotype', 'vep_hgnc_id', 'vep_existing_variation',\n",
       "       'vep_mane_select', 'vep_ensp', 'vep_swissprot', 'sift', 'polyphen',\n",
       "       'gnomade_af', 'gnomadg_af', 'vep_clin_sig', 'vep_somatic',\n",
       "       'vep_pli_gene_value', 'vep_loftool', 'oncogene_high_impact',\n",
       "       'tumor_suppressor_high_impact', 'achilles_top_genes',\n",
       "       'structural_relation', 'associated_with', 'lof', 'driver',\n",
       "       'likely_driver', 'transcript_likely_lof', 'brca1_func_score',\n",
       "       'civic_id', 'civic_description', 'civic_score', 'popaf', 'likely_gof',\n",
       "       'likely_lof', 'hess_driver', 'hess_signture', 'revel_score',\n",
       "       'pharmgkb_id', 'dida_id', 'dida_name', 'gwas_disease', 'gwas_pmid',\n",
       "       'gtex_gene', 'cosmic_tier', 'oncokb_effect', 'oncokb_hotspot',\n",
       "       'oncokb_oncogenic', 'provean_prediction', 'segdup', 'rm', 'rescue',\n",
       "       'cds_id'],\n",
       "      dtype='object')"
      ]
     },
     "execution_count": 56,
     "metadata": {},
     "output_type": "execute_result"
    }
   ],
   "source": [
    "maf_variants_23q4_clean.columns"
   ]
  },
  {
   "cell_type": "code",
   "execution_count": 57,
   "metadata": {},
   "outputs": [
    {
     "data": {
      "text/plain": [
       "((579,), (19799,))"
      ]
     },
     "execution_count": 57,
     "metadata": {},
     "output_type": "execute_result"
    }
   ],
   "source": [
    "cosmic_tier1.iloc[:, 0].unique().shape,  maf_variants_23q4_clean.loc[:, 'hugo_symbol'].unique().shape"
   ]
  },
  {
   "cell_type": "code",
   "execution_count": 67,
   "metadata": {},
   "outputs": [
    {
     "name": "stdout",
     "output_type": "stream",
     "text": [
      "0.1\n",
      "0.01\n",
      "0.001\n",
      "0.0001\n",
      "1e-05\n"
     ]
    }
   ],
   "source": [
    "cosmic_census_genes_overlap = []\n",
    "cosmic_tier_variants = []\n",
    "rescue_gnomad_cutoff = []\n",
    "total_rescued = []\n",
    "rescued_variants_without_gnomadaf = []\n",
    "\n",
    "for maf, cutoff in zip([maf_variants_23q4_clean, maf_variants_23q4_clean_v2, maf_variants_23q4_clean_v3, maf_variants_23q4_clean_v4, maf_variants_23q4_clean_v5], \n",
    "                       ['1e-1', '1e-2', '1e-3', '1e-4', '1e-5']):\n",
    "    cosmic_census_genes_overlap.append(np.intersect1d(list(cosmic_tier1.iloc[:, 0].unique()), list(maf.loc[:, 'hugo_symbol'].unique())).shape[0])\n",
    "    cosmic_tier_variants.append((maf.cosmic_tier == 1).sum())\n",
    "    rescue_gnomad_cutoff.append(cutoff)\n",
    "    total_rescued.append(maf.rescue.sum())\n",
    "    if cutoff == 'no':\n",
    "        rescued_variants_without_gnomadaf.append(maf.rescue.sum())\n",
    "    else:\n",
    "        print(float(cutoff))\n",
    "        # Fix the cutoff of gnomad 1e-5 for evaluation\n",
    "        rescued_variants_without_gnomadaf.append(((maf.rescue) & ((maf.gnomadg_af > float(1e-5)) | (maf.gnomade_af > float(1e-5)))).sum())"
   ]
  },
  {
   "cell_type": "code",
   "execution_count": 68,
   "metadata": {},
   "outputs": [
    {
     "data": {
      "text/plain": [
       "2937"
      ]
     },
     "execution_count": 68,
     "metadata": {},
     "output_type": "execute_result"
    }
   ],
   "source": [
    "maf.cds_id.unique().shape[0]"
   ]
  },
  {
   "cell_type": "code",
   "execution_count": 69,
   "metadata": {},
   "outputs": [],
   "source": [
    "rescue_gnomad_cosmic_census_df = pd.DataFrame({\"cosmic_census_genes_overlap\": cosmic_census_genes_overlap, \n",
    "                                               \"cosmic_tier_variants\": cosmic_tier_variants, \n",
    "                                               \"rescue_gnomad_cutoff\": rescue_gnomad_cutoff, \n",
    "                                               \"total_rescued\": total_rescued,\n",
    "                                               \"average_rescued_per_samplee\": np.array(total_rescued)/maf.cds_id.unique().shape[0] ,\n",
    "                                               \"average_rescued_variants_without_gnomadaf\": np.array(rescued_variants_without_gnomadaf)/maf.cds_id.unique().shape[0],\n",
    "                                               \"rescued_variants_without_gnomadaf\": rescued_variants_without_gnomadaf})"
   ]
  },
  {
   "cell_type": "code",
   "execution_count": 70,
   "metadata": {},
   "outputs": [
    {
     "data": {
      "text/html": [
       "<div>\n",
       "<style scoped>\n",
       "    .dataframe tbody tr th:only-of-type {\n",
       "        vertical-align: middle;\n",
       "    }\n",
       "\n",
       "    .dataframe tbody tr th {\n",
       "        vertical-align: top;\n",
       "    }\n",
       "\n",
       "    .dataframe thead th {\n",
       "        text-align: right;\n",
       "    }\n",
       "</style>\n",
       "<table border=\"1\" class=\"dataframe\">\n",
       "  <thead>\n",
       "    <tr style=\"text-align: right;\">\n",
       "      <th></th>\n",
       "      <th>cosmic_census_genes_overlap</th>\n",
       "      <th>cosmic_tier_variants</th>\n",
       "      <th>rescue_gnomad_cutoff</th>\n",
       "      <th>total_rescued</th>\n",
       "      <th>average_rescued_per_samplee</th>\n",
       "      <th>average_rescued_variants_without_gnomadaf</th>\n",
       "      <th>rescued_variants_without_gnomadaf</th>\n",
       "    </tr>\n",
       "  </thead>\n",
       "  <tbody>\n",
       "    <tr>\n",
       "      <th>0</th>\n",
       "      <td>557</td>\n",
       "      <td>2179</td>\n",
       "      <td>1e-1</td>\n",
       "      <td>20341</td>\n",
       "      <td>6.925775</td>\n",
       "      <td>1.409942</td>\n",
       "      <td>4141</td>\n",
       "    </tr>\n",
       "    <tr>\n",
       "      <th>1</th>\n",
       "      <td>557</td>\n",
       "      <td>2179</td>\n",
       "      <td>1e-2</td>\n",
       "      <td>19333</td>\n",
       "      <td>6.582567</td>\n",
       "      <td>1.066735</td>\n",
       "      <td>3133</td>\n",
       "    </tr>\n",
       "    <tr>\n",
       "      <th>2</th>\n",
       "      <td>557</td>\n",
       "      <td>2179</td>\n",
       "      <td>1e-3</td>\n",
       "      <td>18641</td>\n",
       "      <td>6.346953</td>\n",
       "      <td>0.831120</td>\n",
       "      <td>2441</td>\n",
       "    </tr>\n",
       "    <tr>\n",
       "      <th>3</th>\n",
       "      <td>557</td>\n",
       "      <td>2146</td>\n",
       "      <td>1e-4</td>\n",
       "      <td>17984</td>\n",
       "      <td>6.123255</td>\n",
       "      <td>0.607423</td>\n",
       "      <td>1784</td>\n",
       "    </tr>\n",
       "    <tr>\n",
       "      <th>4</th>\n",
       "      <td>556</td>\n",
       "      <td>1649</td>\n",
       "      <td>1e-5</td>\n",
       "      <td>16200</td>\n",
       "      <td>5.515832</td>\n",
       "      <td>0.000000</td>\n",
       "      <td>0</td>\n",
       "    </tr>\n",
       "  </tbody>\n",
       "</table>\n",
       "</div>"
      ],
      "text/plain": [
       "   cosmic_census_genes_overlap  cosmic_tier_variants rescue_gnomad_cutoff  \\\n",
       "0                          557                  2179                 1e-1   \n",
       "1                          557                  2179                 1e-2   \n",
       "2                          557                  2179                 1e-3   \n",
       "3                          557                  2146                 1e-4   \n",
       "4                          556                  1649                 1e-5   \n",
       "\n",
       "   total_rescued  average_rescued_per_samplee  \\\n",
       "0          20341                     6.925775   \n",
       "1          19333                     6.582567   \n",
       "2          18641                     6.346953   \n",
       "3          17984                     6.123255   \n",
       "4          16200                     5.515832   \n",
       "\n",
       "   average_rescued_variants_without_gnomadaf  \\\n",
       "0                                   1.409942   \n",
       "1                                   1.066735   \n",
       "2                                   0.831120   \n",
       "3                                   0.607423   \n",
       "4                                   0.000000   \n",
       "\n",
       "   rescued_variants_without_gnomadaf  \n",
       "0                               4141  \n",
       "1                               3133  \n",
       "2                               2441  \n",
       "3                               1784  \n",
       "4                                  0  "
      ]
     },
     "execution_count": 70,
     "metadata": {},
     "output_type": "execute_result"
    }
   ],
   "source": [
    "rescue_gnomad_cosmic_census_df"
   ]
  },
  {
   "cell_type": "code",
   "execution_count": 71,
   "metadata": {},
   "outputs": [
    {
     "data": {
      "image/png": "[encoded data removed]",
      "text/plain": [
       "<Figure size 800x400 with 4 Axes>"
      ]
     },
     "metadata": {},
     "output_type": "display_data"
    }
   ],
   "source": [
    "fig, ax = plt.subplots(1, 2)\n",
    "fig.set_size_inches(8, 4)\n",
    "\n",
    "sns.barplot(rescue_gnomad_cosmic_census_df, x='rescue_gnomad_cutoff', y='cosmic_census_genes_overlap', ax=ax[0])\n",
    "for container in ax[0].containers:\n",
    "    ax[0].bar_label(container, fmt='%.1f')\n",
    "ax2 = ax[0].twinx()\n",
    "sns.lineplot(rescue_gnomad_cosmic_census_df, x='rescue_gnomad_cutoff', y='cosmic_tier_variants', \n",
    "             color='red', ax=ax2)\n",
    "\n",
    "sns.barplot(rescue_gnomad_cosmic_census_df, x='rescue_gnomad_cutoff', y='average_rescued_per_samplee', ax=ax[1])\n",
    "for container in ax[1].containers:\n",
    "    ax[1].bar_label(container, fmt='%.1f')\n",
    "ax2 = ax[1].twinx()\n",
    "sns.lineplot(rescue_gnomad_cosmic_census_df, x='rescue_gnomad_cutoff', y='average_rescued_variants_without_gnomadaf', \n",
    "             color='red', ax=ax2)\n",
    "fig.tight_layout()"
   ]
  },
  {
   "cell_type": "code",
   "execution_count": 72,
   "metadata": {},
   "outputs": [
    {
     "data": {
      "text/plain": [
       "array([], dtype='<U32')"
      ]
     },
     "execution_count": 72,
     "metadata": {},
     "output_type": "execute_result"
    }
   ],
   "source": [
    "np.setdiff1d(np.intersect1d(list(cosmic_tier1.iloc[:, 0].unique()), list(maf_variants_23q4_clean_v2.loc[:, 'hugo_symbol'].unique())), \n",
    "             np.intersect1d(list(cosmic_tier1.iloc[:, 0].unique()), list(maf_variants_23q4_clean_v3.loc[:, 'hugo_symbol'].unique())))"
   ]
  },
  {
   "cell_type": "markdown",
   "metadata": {},
   "source": [
    "## Force the oncoKB variant frequency"
   ]
  },
  {
   "cell_type": "code",
   "execution_count": 73,
   "metadata": {},
   "outputs": [
    {
     "data": {
      "text/plain": [
       "(1114528, 82)"
      ]
     },
     "execution_count": 73,
     "metadata": {},
     "output_type": "execute_result"
    }
   ],
   "source": [
    "# This considers NaN which does not > or < 1e-3\n",
    "maf_variants_23q4_clean_v3 = maf_variants_23q4_clean.drop(maf_variants_23q4_clean.index[((maf_variants_23q4_clean.gnomadg_af > 1e-3) | (maf_variants_23q4_clean.gnomade_af > 1e-3))], axis=0)\n",
    "\n",
    "maf_variants_23q4_clean_v3.shape"
   ]
  },
  {
   "cell_type": "code",
   "execution_count": 74,
   "metadata": {},
   "outputs": [
    {
     "name": "stdout",
     "output_type": "stream",
     "text": [
      "0.001\n"
     ]
    },
    {
     "data": {
      "text/html": [
       "<div>\n",
       "<style scoped>\n",
       "    .dataframe tbody tr th:only-of-type {\n",
       "        vertical-align: middle;\n",
       "    }\n",
       "\n",
       "    .dataframe tbody tr th {\n",
       "        vertical-align: top;\n",
       "    }\n",
       "\n",
       "    .dataframe thead th {\n",
       "        text-align: right;\n",
       "    }\n",
       "</style>\n",
       "<table border=\"1\" class=\"dataframe\">\n",
       "  <thead>\n",
       "    <tr style=\"text-align: right;\">\n",
       "      <th></th>\n",
       "      <th>cosmic_census_genes_overlap</th>\n",
       "      <th>cosmic_tier_variants</th>\n",
       "      <th>rescue_gnomad_cutoff</th>\n",
       "      <th>total_rescued</th>\n",
       "      <th>average_rescued_per_samplee</th>\n",
       "      <th>average_rescued_variants_without_gnomadaf</th>\n",
       "      <th>rescued_variants_without_gnomadaf</th>\n",
       "    </tr>\n",
       "  </thead>\n",
       "  <tbody>\n",
       "    <tr>\n",
       "      <th>0</th>\n",
       "      <td>557</td>\n",
       "      <td>3614</td>\n",
       "      <td>no</td>\n",
       "      <td>28329</td>\n",
       "      <td>9.645557</td>\n",
       "      <td>9.645557</td>\n",
       "      <td>28329</td>\n",
       "    </tr>\n",
       "    <tr>\n",
       "      <th>1</th>\n",
       "      <td>557</td>\n",
       "      <td>2179</td>\n",
       "      <td>1e-3</td>\n",
       "      <td>18641</td>\n",
       "      <td>6.346953</td>\n",
       "      <td>0.831120</td>\n",
       "      <td>2441</td>\n",
       "    </tr>\n",
       "  </tbody>\n",
       "</table>\n",
       "</div>"
      ],
      "text/plain": [
       "   cosmic_census_genes_overlap  cosmic_tier_variants rescue_gnomad_cutoff  \\\n",
       "0                          557                  3614                   no   \n",
       "1                          557                  2179                 1e-3   \n",
       "\n",
       "   total_rescued  average_rescued_per_samplee  \\\n",
       "0          28329                     9.645557   \n",
       "1          18641                     6.346953   \n",
       "\n",
       "   average_rescued_variants_without_gnomadaf  \\\n",
       "0                                   9.645557   \n",
       "1                                   0.831120   \n",
       "\n",
       "   rescued_variants_without_gnomadaf  \n",
       "0                              28329  \n",
       "1                               2441  "
      ]
     },
     "execution_count": 74,
     "metadata": {},
     "output_type": "execute_result"
    }
   ],
   "source": [
    "cosmic_census_genes_overlap = []\n",
    "cosmic_tier_variants = []\n",
    "rescue_gnomad_cutoff = []\n",
    "total_rescued = []\n",
    "rescued_variants_without_gnomadaf = []\n",
    "\n",
    "for maf, cutoff in zip([maf_variants_23q4, maf_variants_23q4_clean_v3],\n",
    "                       ['no', '1e-3']):\n",
    "    cosmic_census_genes_overlap.append(np.intersect1d(list(cosmic_tier1.iloc[:, 0].unique()), list(maf.loc[:, 'hugo_symbol'].unique())).shape[0])\n",
    "    cosmic_tier_variants.append((maf.cosmic_tier == 1).sum())\n",
    "    rescue_gnomad_cutoff.append(cutoff)\n",
    "    total_rescued.append(maf.rescue.sum())\n",
    "    if cutoff == 'no':\n",
    "        rescued_variants_without_gnomadaf.append(maf.rescue.sum())\n",
    "    else:\n",
    "        print(float(cutoff))\n",
    "        # Fix the cutoff of gnomad 1e-5 for evaluation\n",
    "        rescued_variants_without_gnomadaf.append(((maf.rescue) & ((maf.gnomadg_af > float(1e-5)) | (maf.gnomade_af > float(1e-5)))).sum())\n",
    "\n",
    "rescue_gnomad_cosmic_census_df = pd.DataFrame({\"cosmic_census_genes_overlap\": cosmic_census_genes_overlap, \n",
    "              \"cosmic_tier_variants\": cosmic_tier_variants, \n",
    "              \"rescue_gnomad_cutoff\": rescue_gnomad_cutoff, \n",
    "              \"total_rescued\": total_rescued,\n",
    "              \"average_rescued_per_samplee\": np.array(total_rescued)/maf.cds_id.unique().shape[0] ,\n",
    "              \"average_rescued_variants_without_gnomadaf\": np.array(rescued_variants_without_gnomadaf)/maf.cds_id.unique().shape[0],\n",
    "              \"rescued_variants_without_gnomadaf\": rescued_variants_without_gnomadaf})\n",
    "rescue_gnomad_cosmic_census_df"
   ]
  },
  {
   "cell_type": "code",
   "execution_count": 75,
   "metadata": {},
   "outputs": [
    {
     "data": {
      "image/png": "[encoded data removed]",
      "text/plain": [
       "<Figure size 1800x400 with 5 Axes>"
      ]
     },
     "metadata": {},
     "output_type": "display_data"
    }
   ],
   "source": [
    "# Double check after removing hotspot rescue\n",
    "rescued_maf_variants = maf_variants_23q4_clean_v2.loc[maf_variants_23q4_clean_v2.rescue, :]\n",
    "rescued_maf_variants_sub_categores = rescued_maf_variants.loc[:, ['cosmic_tier', 'oncokb_effect', 'oncokb_hotspot', 'oncokb_oncogenic', 'hess_driver', 'gnomadg_af', 'gnomade_af']].melt(id_vars=['cosmic_tier', 'oncokb_effect', 'oncokb_hotspot', 'oncokb_oncogenic', 'hess_driver'])\n",
    "\n",
    "## Majority of the oncoKB hotspot mutation are also very pemissive\n",
    "## They will introduce inclusive oncoKB mutation effects \n",
    "## Let's remove hotspot mutation for whitelisting ..\n",
    "## May consider run hotspot method later\n",
    "\n",
    "sns.set_style(\"white\")\n",
    "fig, ax = plt.subplots(1, 5)\n",
    "fig.set_size_inches(18, 4)\n",
    "ax = ax.flatten()\n",
    "\n",
    "sns.violinplot(data=rescued_maf_variants_sub_categores, x='cosmic_tier', y='value', hue='variable', ax=ax[0])\n",
    "sns.violinplot(data=rescued_maf_variants_sub_categores, x='oncokb_effect', y='value', hue='variable', ax=ax[1])\n",
    "sns.violinplot(data=rescued_maf_variants_sub_categores, x='oncokb_hotspot', y='value', hue='variable', ax=ax[2])\n",
    "sns.violinplot(data=rescued_maf_variants_sub_categores, x='oncokb_oncogenic', y='value', hue='variable', ax=ax[3])\n",
    "sns.violinplot(data=rescued_maf_variants_sub_categores, x='hess_driver', y='value', hue='variable', ax=ax[4])\n",
    "\n",
    "for ax_index, curr_ax in enumerate(ax):\n",
    "    for tick in curr_ax.get_xticklabels():\n",
    "        tick.set_rotation(45)\n",
    "        tick.set_ha('right')\n",
    "        sns.despine()\n",
    "        if ax_index == 4:\n",
    "            curr_ax.legend(bbox_to_anchor=(0.5, 1.2), ncol=3, fancybox=True, shadow=True, loc='upper center')\n",
    "        else:\n",
    "            curr_ax.legend().set_visible(False)\n",
    "plt.tight_layout()"
   ]
  },
  {
   "cell_type": "code",
   "execution_count": 76,
   "metadata": {},
   "outputs": [
    {
     "data": {
      "text/plain": [
       "(38, 18)"
      ]
     },
     "execution_count": 76,
     "metadata": {},
     "output_type": "execute_result"
    }
   ],
   "source": [
    "# Still have 38 variants with secondary effect belonging to synonymous mutation \n",
    "# Will be assigned to be silent mutation later according to maftools\n",
    "# That seems to be important in oncoKB \n",
    "\n",
    "maf_variants_23q4_clean_v3.query(\"variant_info.str.contains('syno')\")[['ref','alt', 'cds_id']+check_columns].shape"
   ]
  },
  {
   "cell_type": "markdown",
   "metadata": {},
   "source": [
    "## Double check clean MAF overlaped with St Jude"
   ]
  },
  {
   "cell_type": "code",
   "execution_count": 77,
   "metadata": {},
   "outputs": [
    {
     "data": {
      "text/plain": [
       "(23, 15)"
      ]
     },
     "execution_count": 77,
     "metadata": {},
     "output_type": "execute_result"
    }
   ],
   "source": [
    "maf_variants_23q4_clean_v3.loc[maf_variants_23q4_clean_v3.pos.isin(np.array([105272634, 41224922, 124064038, 48791113, 23803335, 7675067, 47355346, 68293321, 156778971, 226064457, 49041176]) - 1), check_columns].shape"
   ]
  },
  {
   "cell_type": "markdown",
   "metadata": {},
   "source": [
    "# VCF 2 MAF standardised formatting to output "
   ]
  },
  {
   "cell_type": "markdown",
   "metadata": {},
   "source": [
    "## Convert coordinate and add essential standard MAF columns"
   ]
  },
  {
   "cell_type": "code",
   "execution_count": 78,
   "metadata": {},
   "outputs": [],
   "source": [
    "def GetMafEndPosition(start: int, ref: str, alt: str) -> tuple:\n",
    "    \"\"\"Get the end position from the VCF start position and ref alt alleles\n",
    "\n",
    "    Learn the complex InDel from https://github.com/qinqian/vcf2maf/blob/main/vcf2maf.pl#L706\n",
    "\n",
    "\n",
    "    Return\n",
    "    -----------\n",
    "    (start, vartype, inframe): tuple\n",
    "    \"\"\"\n",
    "    assert len(ref) > 0\n",
    "    assert len(alt) > 0\n",
    "    if len(ref) == len(alt):\n",
    "        var_type_dict = {1: \"SNP\", 2: \"DNP\", 3: \"TNP\"}\n",
    "        inframe = False\n",
    "        if len(alt) > 3:\n",
    "            var_type = \"ONP\"\n",
    "        else:\n",
    "            var_type = var_type_dict[len(alt)]\n",
    "        return start, start + len(alt) - 1, var_type, inframe\n",
    "    elif len(ref) < len(alt):\n",
    "        # Insertion\n",
    "        var_type = \"INS\";\n",
    "        inframe = abs(len(ref) - len(alt)) % 3 == 0\n",
    "        if ref == \"-\":\n",
    "            return start - 1, start, var_type, inframe\n",
    "        else:\n",
    "            return start, start + len(ref) - 1, var_type, inframe\n",
    "    else:\n",
    "        # Deletion\n",
    "        inframe = abs(len(ref) - len(alt)) % 3 == 0\n",
    "        var_type = 'DEL'\n",
    "        return start, start + len(ref) - 1, var_type, inframe"
   ]
  },
  {
   "cell_type": "code",
   "execution_count": 79,
   "metadata": {},
   "outputs": [],
   "source": [
    "formatted_coords = maf_variants_23q4_clean_v3.loc[:, ['pos', 'ref', 'alt']].apply(lambda x: GetMafEndPosition(*x), axis=1, result_type=\"expand\")"
   ]
  },
  {
   "cell_type": "code",
   "execution_count": 80,
   "metadata": {},
   "outputs": [],
   "source": [
    "import re\n",
    "\n",
    "def GetVariantClassification(vep_seq_ontology: str, var_type: str, inframe: bool) -> str:\n",
    "    \"\"\"Map VEP sequence ontology into MAF variant classifications,\n",
    "    VEP consequences is ordered by http://useast.ensembl.org/info/genome/variation/prediction/predicted_data.html\"\"\"\n",
    "\n",
    "    if re.match(r\"^(splice_acceptor_variant|splice_donor_variant|transcript_ablation|exon_loss_variant)\", vep_seq_ontology):\n",
    "        return \"Splice_Site\"\n",
    "    \n",
    "    if re.match(r\"^(stop_gained)\", vep_seq_ontology):\n",
    "        return \"Nonsense_Mutation\"\n",
    "\n",
    "    if (re.match(r\"^(frameshift_variant)\", vep_seq_ontology) or (re.match(r\"^(protein_altering_variant)\", vep_seq_ontology) and not inframe)) and (var_type == 'DEL'):\n",
    "        return \"Frame_Shift_Del\"\n",
    "\n",
    "    if (re.match(r\"^(frameshift_variant)\", vep_seq_ontology) or (re.match(r\"^(protein_altering_variant)\", vep_seq_ontology) and not inframe)) and (var_type == 'INS'):\n",
    "        return \"Frame_Shift_Ins\"\n",
    "    \n",
    "    if re.match(r\"^(stop_lost)\", vep_seq_ontology):\n",
    "        return \"Nonstop_Mutation\"\n",
    "    \n",
    "    if re.match(r\"^(initiator_codon_variant|start_lost)\", vep_seq_ontology):\n",
    "        return \"Translation_Start_Site\" \n",
    "\n",
    "    if re.match(r\"^(inframe_insertion|conservative_inframe_insertion|disruptive_inframe_insertion)\", vep_seq_ontology) or (re.match(r\"^(protein_altering_variant)\", vep_seq_ontology) and inframe and (var_type == 'INS')):\n",
    "        return \"In_Frame_Ins\"\n",
    "\n",
    "    if re.match(r\"^(inframe_deletion|disruptive_inframe_deletion|conservative_inframe_deletion)\", vep_seq_ontology) or (re.match(r\"^(protein_altering_variant)\", vep_seq_ontology) and inframe and (var_type == 'DEL')):\n",
    "        return \"In_Frame_Del\"\n",
    "\n",
    "    if re.match(r\"^(missense_variant|coding_sequence_variant|conservative_missense_variant|rare_amino_acid_variant)\", vep_seq_ontology):\n",
    "        return \"Missense_Mutation\"\n",
    "\n",
    "    if re.match(r\"^(transcript_amplification|intron_variant|INTRAGENIC|intragenic_variant)\", vep_seq_ontology):\n",
    "        return \"Intron\"\n",
    "\n",
    "    if re.match(r\"^(incomplete_terminal_codon_variant|synonymous_variant|stop_retained_variant|NMD_transcript_variant|start_retained_variant)\", vep_seq_ontology):\n",
    "        return \"Silent\"\n",
    "\n",
    "    if re.match(r\"^(splice_region_variant|splice_polypyrimidine_tract_variant|splice_donor_5th_base_variant|splice_donor_region_variant)\", vep_seq_ontology):\n",
    "        return \"Splice_Region\"\n",
    "\n",
    "    if re.match(r\"^(mature_miRNA_variant|exon_variant|non_coding_exon_variant|non_coding_transcript_exon_variant|non_coding_transcript_variant|nc_transcript_variant|coding_transcript_variant)\", vep_seq_ontology):\n",
    "        return \"RNA\"\n",
    "\n",
    "    if re.match(r\"^(5_prime_UTR_variant|5_prime_UTR_premature_start_codon_gain_variant)\", vep_seq_ontology):\n",
    "        return \"5'UTR\"\n",
    "\n",
    "    if re.match(r\"^3_prime_UTR_variant\", vep_seq_ontology):\n",
    "        return \"3'UTR\"\n",
    "\n",
    "    if re.match(r\"^upstream_gene_variant\", vep_seq_ontology):\n",
    "        return \"5'Flank\"\n",
    "\n",
    "    if re.match(r\"^downstream_gene_variant\", vep_seq_ontology):\n",
    "        return \"3'Flank\"\n",
    "\n",
    "    if re.match(r\"^(TF_binding_site_variant|regulatory_region_variant|regulatory_region|intergenic_variant|intergenic_region)\", vep_seq_ontology):\n",
    "        return \"IGR\" \n",
    "\n",
    "    if vep_seq_ontology == \"\":\n",
    "        return \"NoAnnotation\"\n",
    "\n",
    "    return \"TargetedRegion\"\n"
   ]
  },
  {
   "cell_type": "code",
   "execution_count": 81,
   "metadata": {},
   "outputs": [],
   "source": [
    "maf_variants_23q4_clean_v3.loc[:, 'Strand'] = '+'"
   ]
  },
  {
   "cell_type": "code",
   "execution_count": 82,
   "metadata": {},
   "outputs": [],
   "source": [
    "maf_variants_23q4_clean_v3.loc[:, 'Start_Position'] = formatted_coords[0]\n",
    "maf_variants_23q4_clean_v3.loc[:, 'End_Position'] = formatted_coords[1]\n",
    "maf_variants_23q4_clean_v3.loc[:, 'Variant_Type'] = formatted_coords[2]\n",
    "maf_variants_23q4_clean_v3.loc[:, 'InFrame'] = formatted_coords[3]\n",
    "maf_variants_23q4_clean_v3.loc[:, 'Variant_Classification'] = maf_variants_23q4_clean_v3.loc[:, ['variant_info', 'Variant_Type', 'InFrame']].apply(lambda x: GetVariantClassification(*x), axis=1)"
   ]
  },
  {
   "cell_type": "code",
   "execution_count": 83,
   "metadata": {},
   "outputs": [
    {
     "data": {
      "text/plain": [
       "array([], shape=(0, 7), dtype=object)"
      ]
     },
     "execution_count": 83,
     "metadata": {},
     "output_type": "execute_result"
    }
   ],
   "source": [
    "# No missing annotations\n",
    "maf_variants_23q4_clean_v3.loc[maf_variants_23q4_clean_v3.Variant_Classification == 'TargetedRegion', ['ref', 'alt', 'variant_info', 'Variant_Classification', 'variant_info', 'Variant_Type', 'InFrame']].values"
   ]
  },
  {
   "cell_type": "code",
   "execution_count": 84,
   "metadata": {},
   "outputs": [
    {
     "data": {
      "text/plain": [
       "array(['Missense_Mutation', 'Splice_Site', 'Nonsense_Mutation',\n",
       "       'Frame_Shift_Ins', 'In_Frame_Del', 'Frame_Shift_Del',\n",
       "       'Nonstop_Mutation', 'Translation_Start_Site', 'In_Frame_Ins',\n",
       "       \"3'Flank\", 'Splice_Region', 'Intron', \"5'Flank\", \"5'UTR\", 'RNA',\n",
       "       'Silent'], dtype=object)"
      ]
     },
     "execution_count": 84,
     "metadata": {},
     "output_type": "execute_result"
    }
   ],
   "source": [
    "maf_variants_23q4_clean_v3.Variant_Classification.unique()"
   ]
  },
  {
   "cell_type": "code",
   "execution_count": 85,
   "metadata": {},
   "outputs": [
    {
     "data": {
      "text/plain": [
       "(1114528, 88)"
      ]
     },
     "execution_count": 85,
     "metadata": {},
     "output_type": "execute_result"
    }
   ],
   "source": [
    "maf_variants_23q4_clean_v3.shape"
   ]
  },
  {
   "cell_type": "markdown",
   "metadata": {},
   "source": [
    "## Reorder columns to keep consistent with MAF standards"
   ]
  },
  {
   "cell_type": "code",
   "execution_count": 86,
   "metadata": {},
   "outputs": [
    {
     "data": {
      "text/plain": [
       "+    1114528\n",
       "Name: Strand, dtype: int64"
      ]
     },
     "execution_count": 86,
     "metadata": {},
     "output_type": "execute_result"
    }
   ],
   "source": [
    "maf_variants_23q4_clean_v3.loc[:, 'Strand'].value_counts()"
   ]
  },
  {
   "cell_type": "code",
   "execution_count": 87,
   "metadata": {},
   "outputs": [],
   "source": [
    "maf_variants_23q4_clean_v3.rename(\n",
    "    columns={\n",
    "        \"hugo_symbol\": \"Hugo_Symbol\",\n",
    "        \"chrom\": \"Chromosome\",\n",
    "        \"ref\": \"Reference_Allele\",\n",
    "        \"alt\": \"Alternate_Allele\",\n",
    "        \"cds_id\": \"Tumor_Sample_Barcode\",\n",
    "        \"protein_change\": \"Protein_Change\",\n",
    "    },\n",
    "    inplace=True,\n",
    ")"
   ]
  },
  {
   "cell_type": "code",
   "execution_count": 88,
   "metadata": {},
   "outputs": [],
   "source": [
    "maf_variants_23q4_clean_v3.loc[:, \"NCBI_Build\"] = \"GRCh38\" \n",
    "maf_variants_23q4_clean_v3.loc[:, \"Center\"] = \"DepMap\" "
   ]
  },
  {
   "cell_type": "code",
   "execution_count": 89,
   "metadata": {},
   "outputs": [],
   "source": [
    "maf_variants_23q4_clean_v3.loc[:, \"Tumor_Seq_Allele1\"] = maf_variants_23q4_clean_v3.loc[\n",
    "    :, \"Reference_Allele\"\n",
    "] \n",
    "maf_variants_23q4_clean_v3.loc[:, \"Tumor_Seq_Allele2\"] = maf_variants_23q4_clean_v3.loc[:, \"Alternate_Allele\"]"
   ]
  },
  {
   "cell_type": "code",
   "execution_count": 90,
   "metadata": {},
   "outputs": [],
   "source": [
    "reordered_columns = [\n",
    "        \"Hugo_Symbol\",\n",
    "        \"NCBI_Build\",\n",
    "        \"Chromosome\",\n",
    "        \"Start_Position\",\n",
    "        \"End_Position\",\n",
    "        \"Variant_Type\",\n",
    "        \"Reference_Allele\",\n",
    "        \"Tumor_Seq_Allele1\",\n",
    "        \"Tumor_Seq_Allele2\",\n",
    "        \"Tumor_Sample_Barcode\",\n",
    "        \"Variant_Classification\",\n",
    "        \"Protein_Change\",\n",
    "    ] "
   ]
  },
  {
   "cell_type": "code",
   "execution_count": 91,
   "metadata": {},
   "outputs": [],
   "source": [
    "reordered_columns += list(set(maf_variants_23q4_clean_v3.columns) - set(reordered_columns))"
   ]
  },
  {
   "cell_type": "code",
   "execution_count": 92,
   "metadata": {},
   "outputs": [],
   "source": [
    "maf_variants_23q4_clean_v3 = maf_variants_23q4_clean_v3.loc[:, reordered_columns]"
   ]
  },
  {
   "cell_type": "code",
   "execution_count": 93,
   "metadata": {},
   "outputs": [
    {
     "data": {
      "text/plain": [
       "(1115220, 82)"
      ]
     },
     "execution_count": 93,
     "metadata": {},
     "output_type": "execute_result"
    }
   ],
   "source": [
    "maf_variants_23q4_clean_v2.shape"
   ]
  },
  {
   "cell_type": "code",
   "execution_count": 94,
   "metadata": {},
   "outputs": [
    {
     "data": {
      "text/plain": [
       "Text(0, 0.5, 'Variant Count')"
      ]
     },
     "execution_count": 94,
     "metadata": {},
     "output_type": "execute_result"
    },
    {
     "data": {
      "image/png": "[encoded data removed]",
      "text/plain": [
       "<Figure size 640x480 with 1 Axes>"
      ]
     },
     "metadata": {},
     "output_type": "display_data"
    }
   ],
   "source": [
    "sns.set_style(\"white\")\n",
    "maf_variants_23q4_clean_v3.Variant_Classification.value_counts().plot.bar()\n",
    "plt.ylabel(\"Variant Count\")"
   ]
  },
  {
   "cell_type": "code",
   "execution_count": 95,
   "metadata": {},
   "outputs": [
    {
     "data": {
      "text/plain": [
       "1114436"
      ]
     },
     "execution_count": 95,
     "metadata": {},
     "output_type": "execute_result"
    }
   ],
   "source": [
    "maf_variants_23q4_clean_v3.shape[0] - maf_variants_23q4_clean_v3.Variant_Classification.value_counts()[-7:].sum()"
   ]
  },
  {
   "cell_type": "code",
   "execution_count": 96,
   "metadata": {},
   "outputs": [
    {
     "data": {
      "text/plain": [
       "(1114436, 92)"
      ]
     },
     "execution_count": 96,
     "metadata": {},
     "output_type": "execute_result"
    }
   ],
   "source": [
    "# Filter based on maftools criterion of what is Silent mutations\n",
    "# Exclude the following classifications\n",
    "\n",
    "maf_variants_23q4_clean_v3 = maf_variants_23q4_clean_v3.loc[~maf_variants_23q4_clean_v3.Variant_Classification.isin(['Silent', 'RNA', 'Intron', \"5'UTR\", \"3'Flank\", 'Splice_Region', \"5'Flank\"]), :]\n",
    "maf_variants_23q4_clean_v3.shape"
   ]
  },
  {
   "cell_type": "code",
   "execution_count": 97,
   "metadata": {},
   "outputs": [],
   "source": [
    "# Remove variants without Hugo_Symbol\n",
    "\n",
    "maf_variants_23q4_clean_v3 = maf_variants_23q4_clean_v3.loc[~maf_variants_23q4_clean_v3.Hugo_Symbol.isnull(), :]"
   ]
  },
  {
   "cell_type": "code",
   "execution_count": 99,
   "metadata": {},
   "outputs": [
    {
     "data": {
      "text/plain": [
       "(1111427, 92)"
      ]
     },
     "execution_count": 99,
     "metadata": {},
     "output_type": "execute_result"
    }
   ],
   "source": [
    "maf_variants_23q4_clean_v3.shape"
   ]
  },
  {
   "cell_type": "code",
   "execution_count": 100,
   "metadata": {},
   "outputs": [],
   "source": [
    "maf_variants_23q4_clean_v3 = maf_variants_23q4_clean_v3.sort_values(by=[\"Chromosome\", \"Start_Position\", \"End_Position\"])"
   ]
  },
  {
   "cell_type": "code",
   "execution_count": 101,
   "metadata": {},
   "outputs": [],
   "source": [
    "# Get from Gumbo for the meta information\n",
    "oncotree_meta_profile = pd.read_csv(\"~/seq_table.csv\")"
   ]
  },
  {
   "cell_type": "code",
   "execution_count": 102,
   "metadata": {},
   "outputs": [
    {
     "data": {
      "text/html": [
       "<div>\n",
       "<style scoped>\n",
       "    .dataframe tbody tr th:only-of-type {\n",
       "        vertical-align: middle;\n",
       "    }\n",
       "\n",
       "    .dataframe tbody tr th {\n",
       "        vertical-align: top;\n",
       "    }\n",
       "\n",
       "    .dataframe thead th {\n",
       "        text-align: right;\n",
       "    }\n",
       "</style>\n",
       "<table border=\"1\" class=\"dataframe\">\n",
       "  <thead>\n",
       "    <tr style=\"text-align: right;\">\n",
       "      <th></th>\n",
       "      <th>SequencingID</th>\n",
       "      <th>ModelID</th>\n",
       "      <th>depmap_model_type</th>\n",
       "      <th>StrippedCellLineName</th>\n",
       "      <th>Lineage</th>\n",
       "      <th>NCITSubtype</th>\n",
       "      <th>Sex</th>\n",
       "    </tr>\n",
       "  </thead>\n",
       "  <tbody>\n",
       "    <tr>\n",
       "      <th>0</th>\n",
       "      <td>CDS-000dBy</td>\n",
       "      <td>ACH-000998</td>\n",
       "      <td>COAD</td>\n",
       "      <td>CW2</td>\n",
       "      <td>colorectal</td>\n",
       "      <td>Colon Adenocarcinoma</td>\n",
       "      <td>Female</td>\n",
       "    </tr>\n",
       "    <tr>\n",
       "      <th>1</th>\n",
       "      <td>CDS-003Hul</td>\n",
       "      <td>ACH-000923</td>\n",
       "      <td>PEL</td>\n",
       "      <td>BCP1</td>\n",
       "      <td>lymphocyte</td>\n",
       "      <td>Primary Effusion Lymphoma</td>\n",
       "      <td>Male</td>\n",
       "    </tr>\n",
       "    <tr>\n",
       "      <th>2</th>\n",
       "      <td>CDS-00BC7k</td>\n",
       "      <td>ACH-000032</td>\n",
       "      <td>BLL</td>\n",
       "      <td>MHHCALL3</td>\n",
       "      <td>blood</td>\n",
       "      <td>Childhood B Acute Lymphoblastic Leukemia</td>\n",
       "      <td>Female</td>\n",
       "    </tr>\n",
       "    <tr>\n",
       "      <th>3</th>\n",
       "      <td>CDS-00Nrci</td>\n",
       "      <td>ACH-000839</td>\n",
       "      <td>BLSC</td>\n",
       "      <td>SCABER</td>\n",
       "      <td>urinary_tract</td>\n",
       "      <td>Bladder Squamous Cell Carcinoma</td>\n",
       "      <td>Male</td>\n",
       "    </tr>\n",
       "    <tr>\n",
       "      <th>4</th>\n",
       "      <td>CDS-00rz9N</td>\n",
       "      <td>ACH-002214</td>\n",
       "      <td>PEL</td>\n",
       "      <td>BC1</td>\n",
       "      <td>lymphocyte</td>\n",
       "      <td>Primary Effusion Lymphoma</td>\n",
       "      <td>Male</td>\n",
       "    </tr>\n",
       "  </tbody>\n",
       "</table>\n",
       "</div>"
      ],
      "text/plain": [
       "  SequencingID     ModelID depmap_model_type StrippedCellLineName  \\\n",
       "0   CDS-000dBy  ACH-000998              COAD                  CW2   \n",
       "1   CDS-003Hul  ACH-000923               PEL                 BCP1   \n",
       "2   CDS-00BC7k  ACH-000032               BLL             MHHCALL3   \n",
       "3   CDS-00Nrci  ACH-000839              BLSC               SCABER   \n",
       "4   CDS-00rz9N  ACH-002214               PEL                  BC1   \n",
       "\n",
       "         Lineage                               NCITSubtype     Sex  \n",
       "0     colorectal                      Colon Adenocarcinoma  Female  \n",
       "1     lymphocyte                 Primary Effusion Lymphoma    Male  \n",
       "2          blood  Childhood B Acute Lymphoblastic Leukemia  Female  \n",
       "3  urinary_tract           Bladder Squamous Cell Carcinoma    Male  \n",
       "4     lymphocyte                 Primary Effusion Lymphoma    Male  "
      ]
     },
     "execution_count": 102,
     "metadata": {},
     "output_type": "execute_result"
    }
   ],
   "source": [
    "oncotree_meta_profile.head()"
   ]
  },
  {
   "cell_type": "code",
   "execution_count": 103,
   "metadata": {},
   "outputs": [],
   "source": [
    "maf_variants_23q4_clean_v3['oncotree'] = maf_variants_23q4_clean_v3.Tumor_Sample_Barcode.map(dict(zip(oncotree_meta_profile['SequencingID'], oncotree_meta_profile['depmap_model_type'])))\n",
    "maf_variants_23q4_clean_v3['celltype'] = maf_variants_23q4_clean_v3.Tumor_Sample_Barcode.map(dict(zip(oncotree_meta_profile['SequencingID'], oncotree_meta_profile['StrippedCellLineName'])))\n",
    "maf_variants_23q4_clean_v3['lineage'] = maf_variants_23q4_clean_v3.Tumor_Sample_Barcode.map(dict(zip(oncotree_meta_profile['SequencingID'], oncotree_meta_profile['Lineage'])))"
   ]
  },
  {
   "cell_type": "code",
   "execution_count": 104,
   "metadata": {},
   "outputs": [],
   "source": [
    "# maf_variants_23q4_clean['Datatype'] = maf_variants_23q4_clean.Tumor_Sample_Barcode.map(dict(zip(oncotree_meta_profile['MainSequencingID'], oncotree_meta_profile['Datatype'])))"
   ]
  },
  {
   "cell_type": "code",
   "execution_count": 105,
   "metadata": {},
   "outputs": [],
   "source": [
    "maf_variants_23q4_clean_v3['ModelID'] = maf_variants_23q4_clean_v3.Tumor_Sample_Barcode.map(dict(zip(oncotree_meta_profile['SequencingID'], oncotree_meta_profile['ModelID'])))"
   ]
  },
  {
   "cell_type": "code",
   "execution_count": 106,
   "metadata": {},
   "outputs": [
    {
     "data": {
      "text/plain": [
       "array(['CDS-9MaK5m', 'CDS-9dmbNr', 'CDS-p5raBU', 'CDS-kZeKcd',\n",
       "       'CDS-RL0MET', 'CDS-wYSBN2'], dtype=object)"
      ]
     },
     "execution_count": 106,
     "metadata": {},
     "output_type": "execute_result"
    }
   ],
   "source": [
    "# Missing oncotree information\n",
    "# For the following information\n",
    "maf_variants_23q4_clean_v3.loc[maf_variants_23q4_clean_v3.oncotree.isnull(), 'Tumor_Sample_Barcode'].unique()"
   ]
  },
  {
   "cell_type": "code",
   "execution_count": 107,
   "metadata": {},
   "outputs": [
    {
     "data": {
      "text/plain": [
       "array(['CDS-9dmbNr', 'CDS-p5raBU', 'CDS-kZeKcd', 'CDS-RL0MET',\n",
       "       'CDS-wYSBN2'], dtype=object)"
      ]
     },
     "execution_count": 107,
     "metadata": {},
     "output_type": "execute_result"
    }
   ],
   "source": [
    "maf_variants_23q4_clean_v3.loc[maf_variants_23q4_clean_v3.celltype.isnull(), 'Tumor_Sample_Barcode'].unique()"
   ]
  },
  {
   "cell_type": "markdown",
   "metadata": {},
   "source": [
    "## Internal cohort AF"
   ]
  },
  {
   "cell_type": "code",
   "execution_count": 108,
   "metadata": {},
   "outputs": [],
   "source": [
    "# Interal cohort allele frequencies filtering\n",
    "\n",
    "internal_afs_23q4 = maf_variants_23q4_clean_v3.loc[:, ['Chromosome', 'Start_Position', 'End_Position', 'Tumor_Seq_Allele1', 'Tumor_Seq_Allele2']].apply(lambda x: ':'.join(map(str, x)), axis=1)"
   ]
  },
  {
   "cell_type": "code",
   "execution_count": 109,
   "metadata": {},
   "outputs": [],
   "source": [
    "total_samples = maf_variants_23q4_clean_v3.Tumor_Sample_Barcode.unique().shape[0]"
   ]
  },
  {
   "cell_type": "code",
   "execution_count": 110,
   "metadata": {},
   "outputs": [],
   "source": [
    "from collections import Counter\n",
    "\n",
    "# assume there are very few duplicated variants per sample\n",
    "# actually we have total 4 duplicated variants, it is trivial\n",
    "\n",
    "internal_afs_23q4_ratio_dict = {}\n",
    "for k, v in Counter(internal_afs_23q4.tolist()).items():\n",
    "    internal_afs_23q4_ratio_dict[k] = v / total_samples"
   ]
  },
  {
   "cell_type": "code",
   "execution_count": 111,
   "metadata": {},
   "outputs": [],
   "source": [
    "# https://github.com/broadinstitute/depmap_omics/blob/update-vcf-to-depmap/depmapomics/mutations.py#L39\n",
    "\n",
    "maf_variants_23q4_clean_v3.loc[:, \"internal_afs_23q4\"] = internal_afs_23q4.map(internal_afs_23q4_ratio_dict)"
   ]
  },
  {
   "cell_type": "code",
   "execution_count": 112,
   "metadata": {},
   "outputs": [
    {
     "data": {
      "text/plain": [
       "Text(0, 0.5, 'Count')"
      ]
     },
     "execution_count": 112,
     "metadata": {},
     "output_type": "execute_result"
    },
    {
     "data": {
      "image/png": "[encoded data removed]",
      "text/plain": [
       "<Figure size 640x480 with 1 Axes>"
      ]
     },
     "metadata": {},
     "output_type": "display_data"
    }
   ],
   "source": [
    "fig = plt.figure()\n",
    "ax = fig.add_subplot(1, 1, 1)\n",
    "_ = ax.hist(maf_variants_23q4_clean_v3[\"internal_afs_23q4\"], color='blue', bins=100)\n",
    "ax.set_yscale('log')\n",
    "ax.set_xlabel(\"DepMap internal AF\")\n",
    "ax.set_ylabel(\"Count\")"
   ]
  },
  {
   "cell_type": "code",
   "execution_count": 121,
   "metadata": {},
   "outputs": [
    {
     "data": {
      "text/plain": [
       "(1092877, (1111427, 97))"
      ]
     },
     "execution_count": 121,
     "metadata": {},
     "output_type": "execute_result"
    }
   ],
   "source": [
    "(~maf_variants_23q4_clean_v3.rescue).sum(), maf_variants_23q4_clean_v3.shape"
   ]
  },
  {
   "cell_type": "code",
   "execution_count": 122,
   "metadata": {},
   "outputs": [],
   "source": [
    "max_recurrence = 0.05 \n",
    "\n",
    "maf_variants_23q4_clean_v3_final = maf_variants_23q4_clean_v3.loc[(maf_variants_23q4_clean_v3.internal_afs_23q4 <= max_recurrence) | (maf_variants_23q4_clean_v3.rescue), :]"
   ]
  },
  {
   "cell_type": "code",
   "execution_count": 123,
   "metadata": {},
   "outputs": [
    {
     "data": {
      "text/plain": [
       "(1058239, 97)"
      ]
     },
     "execution_count": 123,
     "metadata": {},
     "output_type": "execute_result"
    }
   ],
   "source": [
    "maf_variants_23q4_clean_v3_final.shape"
   ]
  },
  {
   "cell_type": "code",
   "execution_count": 124,
   "metadata": {},
   "outputs": [],
   "source": [
    "maf_variants_23q4_clean_v3_final.to_csv(f\"23Q4_somatic_mutations_profile_drafted_internal_af{max_recurrence}.csv\", index=False)"
   ]
  },
  {
   "cell_type": "code",
   "execution_count": 125,
   "metadata": {},
   "outputs": [],
   "source": [
    "maf_variants_23q4_clean_v3_final.to_csv(f\"23Q4_somatic_mutations_profile_drafted_internal_af{max_recurrence}.maf\", index=False, sep='\\t')"
   ]
  },
  {
   "cell_type": "code",
   "execution_count": 126,
   "metadata": {},
   "outputs": [
    {
     "data": {
      "text/plain": [
       "(1058239, 97)"
      ]
     },
     "execution_count": 126,
     "metadata": {},
     "output_type": "execute_result"
    }
   ],
   "source": [
    "maf_variants_23q4_clean_v3_final.shape"
   ]
  },
  {
   "cell_type": "code",
   "execution_count": 128,
   "metadata": {},
   "outputs": [
    {
     "name": "stdout",
     "output_type": "stream",
     "text": [
      "No dataset version provided. Using version 5.\n",
      "Uploading 23Q4_MAF_mutations to S3\n",
      "Finished uploading 23Q4_MAF_mutations to S3\n",
      "Uploading 23Q4_MAF_mutations to Taiga\n",
      "Finished uploading 23Q4_MAF_mutations to Taiga\n",
      "Linking virtual file 23Q4_CSV_mutations\n",
      "Dataset version created. Access it directly with this url: https://cds.team/taiga/dataset_version/4829e257ec9947c497bde06007fc6605\n"
     ]
    }
   ],
   "source": [
    "# Upload to Taiga for data version control\n",
    "\n",
    "update = True\n",
    "if update:\n",
    "    new_dataset_id = tc.update_dataset(\n",
    "        \"23q4-mutation-maf-clean-4161\",\n",
    "        changes_description=\"this is a clean and standarised draft for 23Q4 maf of mutation\",\n",
    "        upload_files=[\n",
    "            {\n",
    "                \"path\": f\"23Q4_somatic_mutations_profile_drafted_internal_af{max_recurrence}.csv\",\n",
    "                \"name\": \"23Q4_CSV_mutations\", # optional, will use file name if not provided\n",
    "                \"format\": \"TableCSV\", # or \"NumericMatrixCSV\" or \"TableCSV\"\n",
    "                \"encoding\": \"utf-8\" # optional (but recommended), will use iso-8859-1 if not provided\n",
    "            },\n",
    "            {\n",
    "                \"path\": f\"23Q4_somatic_mutations_profile_drafted_internal_af{max_recurrence}.maf\",\n",
    "                \"name\": \"23Q4_MAF_mutations\", # optional, will use file name if not provided\n",
    "                \"format\": \"Raw\", # or \"NumericMatrixCSV\" or \"TableCSV\"\n",
    "                \"encoding\": \"utf-8\" # optional (but recommended), will use iso-8859-1 if not provided\n",
    "            }\n",
    "        ],\n",
    "        add_all_existing_files=True,\n",
    "    )\n",
    "else:\n",
    "    new_dataset_id = tc.create_dataset(\n",
    "        \"23Q4_mutation_maf_clean\",\n",
    "        dataset_description=\"this is a clean and standarised draft for 23Q4 maf of mutation\",\n",
    "        upload_files=[\n",
    "            {\n",
    "                \"path\": f\"23Q4_somatic_mutations_profile_drafted_internal_af{max_recurrence}.maf\",\n",
    "                \"name\": \"MAF\", # optional, will use file name if not provided\n",
    "                \"format\": \"Raw\", # or \"NumericMatrixCSV\" or \"TableCSV\"\n",
    "                \"encoding\": \"utf-8\" # optional (but recommended), will use iso-8859-1 if not provided\n",
    "            }\n",
    "        ],\n",
    "        folder_id=\"a9eedc220a6a4e70b8f1e64d2e57ed87\", # optional, will default to your home folder if not provided\n",
    "    )\n"
   ]
  },
  {
   "cell_type": "code",
   "execution_count": 129,
   "metadata": {},
   "outputs": [],
   "source": [
    "maf_variants_23q4_clean_v3_final.query(\"(rescue)\").to_csv(\"23Q4_rescue_list.csv\")"
   ]
  },
  {
   "cell_type": "code",
   "execution_count": 130,
   "metadata": {},
   "outputs": [
    {
     "name": "stdout",
     "output_type": "stream",
     "text": [
      "No dataset version provided. Using version 6.\n",
      "Uploading RescueList to S3\n",
      "Finished uploading RescueList to S3\n",
      "Uploading RescueList to Taiga\n",
      "Finished uploading RescueList to Taiga\n",
      "Dataset version created. Access it directly with this url: https://cds.team/taiga/dataset_version/6529f27239274a26b74eac6abe5d95c4\n"
     ]
    }
   ],
   "source": [
    "update = True\n",
    "if update:\n",
    "    new_dataset_id = tc.update_dataset(\n",
    "        \"23q4-mutation-rescuelist-6aa7\",\n",
    "        changes_description=\"this is a union set of the variants that are considered as whitelisting mutation\", # optional (but recommended)\n",
    "        upload_files=[\n",
    "            {\n",
    "                \"path\": \"23Q4_rescue_list.csv\",\n",
    "                \"name\": \"RescueList\", # optional, will use file name if not provided\n",
    "                \"format\": \"TableCSV\", # or \"NumericMatrixCSV\" or \"TableCSV\"\n",
    "                \"encoding\": \"utf-8\" # optional (but recommended), will use iso-8859-1 if not provided\n",
    "            }\n",
    "        ],\n",
    "        add_all_existing_files=True,\n",
    "    )"
   ]
  },
  {
   "cell_type": "code",
   "execution_count": 137,
   "metadata": {},
   "outputs": [],
   "source": [
    "# Splitted mafs by the oncotree informations \n",
    "\n",
    "# for cancer_type in maf_variants_23q4_clean.oncotree.unique():\n",
    "for cancer_type in ['READ', 'ESCA', 'AML', 'LUSC', 'SKCM', 'LUAD', 'BRCA']:\n",
    "    cancer_type_maf = maf_variants_23q4_clean_v3_final.query(\"oncotree == @cancer_type\")\n",
    "    cancer_type_maf.to_csv(f\"23Q4_somatic_mutations_profile_drafted_{cancer_type}_final.maf\", index=False, sep='\\t')"
   ]
  },
  {
   "cell_type": "code",
   "execution_count": 136,
   "metadata": {},
   "outputs": [
    {
     "data": {
      "text/plain": [
       "(23, 97)"
      ]
     },
     "execution_count": 136,
     "metadata": {},
     "output_type": "execute_result"
    }
   ],
   "source": [
    "# Miss two only St Jude InDel now\n",
    "\n",
    "## MONOMAC1\tchr11.47355346.GC.\tchr11.47355353.CGCC.CC\tInDel\tTP53\tNA\n",
    "## SKNAS\tchr6.156778971..GCA\tchr6.156778980.GG.GCAGG\tInDel\n",
    "## For St Jude results to be left-aligned as well\n",
    "maf_variants_23q4_clean_v3_final.loc[maf_variants_23q4_clean_v3_final.pos.isin(np.array([105272634, 41224922, 124064038, 48791113, 23803335, 7675067, 47355346, 68293321, 156778971, 226064457, 49041176]) - 1), ].shape"
   ]
  },
  {
   "cell_type": "markdown",
   "metadata": {},
   "source": [
    "# Check sample specific question"
   ]
  },
  {
   "cell_type": "markdown",
   "metadata": {},
   "source": [
    "## 0. EGFR mutations"
   ]
  },
  {
   "cell_type": "code",
   "execution_count": 138,
   "metadata": {},
   "outputs": [
    {
     "data": {
      "text/html": [
       "<div>\n",
       "<style scoped>\n",
       "    .dataframe tbody tr th:only-of-type {\n",
       "        vertical-align: middle;\n",
       "    }\n",
       "\n",
       "    .dataframe tbody tr th {\n",
       "        vertical-align: top;\n",
       "    }\n",
       "\n",
       "    .dataframe thead th {\n",
       "        text-align: right;\n",
       "    }\n",
       "</style>\n",
       "<table border=\"1\" class=\"dataframe\">\n",
       "  <thead>\n",
       "    <tr style=\"text-align: right;\">\n",
       "      <th></th>\n",
       "      <th>Chromosome</th>\n",
       "      <th>celltype</th>\n",
       "      <th>Start_Position</th>\n",
       "      <th>Reference_Allele</th>\n",
       "      <th>Tumor_Seq_Allele2</th>\n",
       "      <th>uniprot_id</th>\n",
       "      <th>Protein_Change</th>\n",
       "    </tr>\n",
       "  </thead>\n",
       "  <tbody>\n",
       "    <tr>\n",
       "      <th>783062</th>\n",
       "      <td>chr7</td>\n",
       "      <td>PC9</td>\n",
       "      <td>55174771</td>\n",
       "      <td>AGGAATTAAGAGAAGC</td>\n",
       "      <td>A</td>\n",
       "      <td>P00533-1</td>\n",
       "      <td>ENSP00000275493.2:p.Glu746_Ala750del</td>\n",
       "    </tr>\n",
       "    <tr>\n",
       "      <th>312163</th>\n",
       "      <td>chr7</td>\n",
       "      <td>HCC827</td>\n",
       "      <td>55174772</td>\n",
       "      <td>GGAATTAAGAGAAGCA</td>\n",
       "      <td>G</td>\n",
       "      <td>P00533-1</td>\n",
       "      <td>ENSP00000275493.2:p.Glu746_Ala750del</td>\n",
       "    </tr>\n",
       "    <tr>\n",
       "      <th>900735</th>\n",
       "      <td>chr7</td>\n",
       "      <td>HCC827</td>\n",
       "      <td>55174772</td>\n",
       "      <td>GGAATTAAGAGAAGCA</td>\n",
       "      <td>G</td>\n",
       "      <td>P00533-1</td>\n",
       "      <td>ENSP00000275493.2:p.Glu746_Ala750del</td>\n",
       "    </tr>\n",
       "  </tbody>\n",
       "</table>\n",
       "</div>"
      ],
      "text/plain": [
       "       Chromosome celltype  Start_Position  Reference_Allele  \\\n",
       "783062       chr7      PC9        55174771  AGGAATTAAGAGAAGC   \n",
       "312163       chr7   HCC827        55174772  GGAATTAAGAGAAGCA   \n",
       "900735       chr7   HCC827        55174772  GGAATTAAGAGAAGCA   \n",
       "\n",
       "       Tumor_Seq_Allele2 uniprot_id                        Protein_Change  \n",
       "783062                 A   P00533-1  ENSP00000275493.2:p.Glu746_Ala750del  \n",
       "312163                 G   P00533-1  ENSP00000275493.2:p.Glu746_Ala750del  \n",
       "900735                 G   P00533-1  ENSP00000275493.2:p.Glu746_Ala750del  "
      ]
     },
     "execution_count": 138,
     "metadata": {},
     "output_type": "execute_result"
    }
   ],
   "source": [
    "maf_variants_23q4_clean_v3_final.loc[(maf_variants_23q4_clean_v3_final.Hugo_Symbol == 'EGFR') & (maf_variants_23q4_clean_v3_final.celltype.isin(['PC9', 'HCC827'])), ['Chromosome', 'celltype', 'Start_Position', 'Reference_Allele', 'Tumor_Seq_Allele2', 'uniprot_id', 'Protein_Change']]"
   ]
  },
  {
   "cell_type": "markdown",
   "metadata": {},
   "source": [
    "## 1. The mutations of MTAP don't match with uniprot and ncbi\n",
    "\n",
    "I found that many of the mutations of MTAP (Uniprot ID: Q13126) don’t match with any sequence from uniprot or ncbi. For example, HCT116 has a mutation p.V106A, but on uniprot, the 106 should be R. And there are many other mutations of MTAP have the same problem.\n",
    "\n",
    "Answer: We actually do not have such a protein version in this drafted version, thus we checked the original output of maf from vcf_to_depmap, there is still no such a position"
   ]
  },
  {
   "cell_type": "code",
   "execution_count": 139,
   "metadata": {},
   "outputs": [
    {
     "data": {
      "text/html": [
       "<div>\n",
       "<style scoped>\n",
       "    .dataframe tbody tr th:only-of-type {\n",
       "        vertical-align: middle;\n",
       "    }\n",
       "\n",
       "    .dataframe tbody tr th {\n",
       "        vertical-align: top;\n",
       "    }\n",
       "\n",
       "    .dataframe thead th {\n",
       "        text-align: right;\n",
       "    }\n",
       "</style>\n",
       "<table border=\"1\" class=\"dataframe\">\n",
       "  <thead>\n",
       "    <tr style=\"text-align: right;\">\n",
       "      <th></th>\n",
       "      <th>Chromosome</th>\n",
       "      <th>Start_Position</th>\n",
       "      <th>Reference_Allele</th>\n",
       "      <th>Tumor_Seq_Allele2</th>\n",
       "      <th>uniprot_id</th>\n",
       "      <th>Protein_Change</th>\n",
       "    </tr>\n",
       "  </thead>\n",
       "  <tbody>\n",
       "    <tr>\n",
       "      <th>154606</th>\n",
       "      <td>chr9</td>\n",
       "      <td>21815485</td>\n",
       "      <td>G</td>\n",
       "      <td>T</td>\n",
       "      <td>Q13126-1</td>\n",
       "      <td>ENSP00000494373.1:p.Arg29Ile</td>\n",
       "    </tr>\n",
       "    <tr>\n",
       "      <th>517994</th>\n",
       "      <td>chr9</td>\n",
       "      <td>21816739</td>\n",
       "      <td>A</td>\n",
       "      <td>C</td>\n",
       "      <td>Q13126-1</td>\n",
       "      <td>ENSP00000494373.1:p.Lys49Thr</td>\n",
       "    </tr>\n",
       "    <tr>\n",
       "      <th>996343</th>\n",
       "      <td>chr9</td>\n",
       "      <td>21816749</td>\n",
       "      <td>T</td>\n",
       "      <td>G</td>\n",
       "      <td>Q13126-1</td>\n",
       "      <td>ENSP00000494373.1:p.Asn52Lys</td>\n",
       "    </tr>\n",
       "    <tr>\n",
       "      <th>139531</th>\n",
       "      <td>chr9</td>\n",
       "      <td>21816774</td>\n",
       "      <td>T</td>\n",
       "      <td>C</td>\n",
       "      <td>Q13126-1</td>\n",
       "      <td>NaN</td>\n",
       "    </tr>\n",
       "    <tr>\n",
       "      <th>517995</th>\n",
       "      <td>chr9</td>\n",
       "      <td>21816774</td>\n",
       "      <td>T</td>\n",
       "      <td>C</td>\n",
       "      <td>Q13126-1</td>\n",
       "      <td>NaN</td>\n",
       "    </tr>\n",
       "    <tr>\n",
       "      <th>881589</th>\n",
       "      <td>chr9</td>\n",
       "      <td>21816774</td>\n",
       "      <td>T</td>\n",
       "      <td>C</td>\n",
       "      <td>Q13126-1</td>\n",
       "      <td>NaN</td>\n",
       "    </tr>\n",
       "    <tr>\n",
       "      <th>129344</th>\n",
       "      <td>chr9</td>\n",
       "      <td>21818039</td>\n",
       "      <td>G</td>\n",
       "      <td>T</td>\n",
       "      <td>Q13126-1</td>\n",
       "      <td>ENSP00000494373.1:p.Gly62Ter</td>\n",
       "    </tr>\n",
       "    <tr>\n",
       "      <th>69315</th>\n",
       "      <td>chr9</td>\n",
       "      <td>21818040</td>\n",
       "      <td>G</td>\n",
       "      <td>A</td>\n",
       "      <td>Q13126-1</td>\n",
       "      <td>ENSP00000494373.1:p.Gly62Glu</td>\n",
       "    </tr>\n",
       "    <tr>\n",
       "      <th>287043</th>\n",
       "      <td>chr9</td>\n",
       "      <td>21818121</td>\n",
       "      <td>T</td>\n",
       "      <td>C</td>\n",
       "      <td>Q13126-1</td>\n",
       "      <td>ENSP00000494373.1:p.Val89Ala</td>\n",
       "    </tr>\n",
       "    <tr>\n",
       "      <th>885431</th>\n",
       "      <td>chr9</td>\n",
       "      <td>21818121</td>\n",
       "      <td>T</td>\n",
       "      <td>C</td>\n",
       "      <td>Q13126-1</td>\n",
       "      <td>ENSP00000494373.1:p.Val89Ala</td>\n",
       "    </tr>\n",
       "    <tr>\n",
       "      <th>534285</th>\n",
       "      <td>chr9</td>\n",
       "      <td>21818202</td>\n",
       "      <td>G</td>\n",
       "      <td>T</td>\n",
       "      <td>Q13126-1</td>\n",
       "      <td>ENSP00000494373.1:p.Arg116Met</td>\n",
       "    </tr>\n",
       "    <tr>\n",
       "      <th>842421</th>\n",
       "      <td>chr9</td>\n",
       "      <td>21818202</td>\n",
       "      <td>G</td>\n",
       "      <td>T</td>\n",
       "      <td>Q13126-1</td>\n",
       "      <td>ENSP00000494373.1:p.Arg116Met</td>\n",
       "    </tr>\n",
       "    <tr>\n",
       "      <th>777438</th>\n",
       "      <td>chr9</td>\n",
       "      <td>21837924</td>\n",
       "      <td>C</td>\n",
       "      <td>G</td>\n",
       "      <td>Q13126-1</td>\n",
       "      <td>ENSP00000494373.1:p.Gln122Glu</td>\n",
       "    </tr>\n",
       "    <tr>\n",
       "      <th>659077</th>\n",
       "      <td>chr9</td>\n",
       "      <td>21837940</td>\n",
       "      <td>G</td>\n",
       "      <td>A</td>\n",
       "      <td>Q13126-1</td>\n",
       "      <td>ENSP00000494373.1:p.Gly127Glu</td>\n",
       "    </tr>\n",
       "    <tr>\n",
       "      <th>758165</th>\n",
       "      <td>chr9</td>\n",
       "      <td>21837960</td>\n",
       "      <td>G</td>\n",
       "      <td>A</td>\n",
       "      <td>Q13126-1</td>\n",
       "      <td>ENSP00000494373.1:p.Gly134Arg</td>\n",
       "    </tr>\n",
       "    <tr>\n",
       "      <th>69316</th>\n",
       "      <td>chr9</td>\n",
       "      <td>21854745</td>\n",
       "      <td>T</td>\n",
       "      <td>TG</td>\n",
       "      <td>Q13126-1</td>\n",
       "      <td>ENSP00000494373.1:p.Ala191GlyfsTer16</td>\n",
       "    </tr>\n",
       "    <tr>\n",
       "      <th>826664</th>\n",
       "      <td>chr9</td>\n",
       "      <td>21854747</td>\n",
       "      <td>G</td>\n",
       "      <td>A</td>\n",
       "      <td>Q13126-1</td>\n",
       "      <td>ENSP00000494373.1:p.Trp189Ter</td>\n",
       "    </tr>\n",
       "    <tr>\n",
       "      <th>225958</th>\n",
       "      <td>chr9</td>\n",
       "      <td>21854787</td>\n",
       "      <td>G</td>\n",
       "      <td>A</td>\n",
       "      <td>Q13126-1</td>\n",
       "      <td>ENSP00000494373.1:p.Val203Ile</td>\n",
       "    </tr>\n",
       "    <tr>\n",
       "      <th>277595</th>\n",
       "      <td>chr9</td>\n",
       "      <td>21854787</td>\n",
       "      <td>G</td>\n",
       "      <td>A</td>\n",
       "      <td>Q13126-1</td>\n",
       "      <td>ENSP00000494373.1:p.Val203Ile</td>\n",
       "    </tr>\n",
       "    <tr>\n",
       "      <th>203192</th>\n",
       "      <td>chr9</td>\n",
       "      <td>21854794</td>\n",
       "      <td>C</td>\n",
       "      <td>T</td>\n",
       "      <td>Q13126-1</td>\n",
       "      <td>ENSP00000494373.1:p.Ala205Val</td>\n",
       "    </tr>\n",
       "    <tr>\n",
       "      <th>703633</th>\n",
       "      <td>chr9</td>\n",
       "      <td>21854794</td>\n",
       "      <td>C</td>\n",
       "      <td>T</td>\n",
       "      <td>Q13126-1</td>\n",
       "      <td>ENSP00000494373.1:p.Ala205Val</td>\n",
       "    </tr>\n",
       "    <tr>\n",
       "      <th>906191</th>\n",
       "      <td>chr9</td>\n",
       "      <td>21854815</td>\n",
       "      <td>A</td>\n",
       "      <td>G</td>\n",
       "      <td>Q13126-1</td>\n",
       "      <td>ENSP00000494373.1:p.Tyr212Cys</td>\n",
       "    </tr>\n",
       "    <tr>\n",
       "      <th>602668</th>\n",
       "      <td>chr9</td>\n",
       "      <td>21854845</td>\n",
       "      <td>A</td>\n",
       "      <td>T</td>\n",
       "      <td>Q13126-1</td>\n",
       "      <td>ENSP00000494373.1:p.Asp222Val</td>\n",
       "    </tr>\n",
       "    <tr>\n",
       "      <th>50114</th>\n",
       "      <td>chr9</td>\n",
       "      <td>21854861</td>\n",
       "      <td>C</td>\n",
       "      <td>A</td>\n",
       "      <td>Q13126-1</td>\n",
       "      <td>ENSP00000494373.1:p.His227Gln</td>\n",
       "    </tr>\n",
       "    <tr>\n",
       "      <th>137187</th>\n",
       "      <td>chr9</td>\n",
       "      <td>21854861</td>\n",
       "      <td>C</td>\n",
       "      <td>A</td>\n",
       "      <td>Q13126-1</td>\n",
       "      <td>ENSP00000494373.1:p.His227Gln</td>\n",
       "    </tr>\n",
       "    <tr>\n",
       "      <th>675243</th>\n",
       "      <td>chr9</td>\n",
       "      <td>21859316</td>\n",
       "      <td>G</td>\n",
       "      <td>A</td>\n",
       "      <td>Q13126-1</td>\n",
       "      <td>ENSP00000494373.1:p.Arg235Gln</td>\n",
       "    </tr>\n",
       "    <tr>\n",
       "      <th>354260</th>\n",
       "      <td>chr9</td>\n",
       "      <td>21859367</td>\n",
       "      <td>T</td>\n",
       "      <td>C</td>\n",
       "      <td>Q13126-1</td>\n",
       "      <td>ENSP00000494373.1:p.Leu252Pro</td>\n",
       "    </tr>\n",
       "    <tr>\n",
       "      <th>145847</th>\n",
       "      <td>chr9</td>\n",
       "      <td>21861985</td>\n",
       "      <td>C</td>\n",
       "      <td>T</td>\n",
       "      <td>Q13126-1</td>\n",
       "      <td>ENSP00000494373.1:p.Gln275Ter</td>\n",
       "    </tr>\n",
       "    <tr>\n",
       "      <th>1048964</th>\n",
       "      <td>chr9</td>\n",
       "      <td>21861985</td>\n",
       "      <td>C</td>\n",
       "      <td>T</td>\n",
       "      <td>Q13126-1</td>\n",
       "      <td>ENSP00000494373.1:p.Gln275Ter</td>\n",
       "    </tr>\n",
       "  </tbody>\n",
       "</table>\n",
       "</div>"
      ],
      "text/plain": [
       "        Chromosome  Start_Position Reference_Allele Tumor_Seq_Allele2  \\\n",
       "154606        chr9        21815485                G                 T   \n",
       "517994        chr9        21816739                A                 C   \n",
       "996343        chr9        21816749                T                 G   \n",
       "139531        chr9        21816774                T                 C   \n",
       "517995        chr9        21816774                T                 C   \n",
       "881589        chr9        21816774                T                 C   \n",
       "129344        chr9        21818039                G                 T   \n",
       "69315         chr9        21818040                G                 A   \n",
       "287043        chr9        21818121                T                 C   \n",
       "885431        chr9        21818121                T                 C   \n",
       "534285        chr9        21818202                G                 T   \n",
       "842421        chr9        21818202                G                 T   \n",
       "777438        chr9        21837924                C                 G   \n",
       "659077        chr9        21837940                G                 A   \n",
       "758165        chr9        21837960                G                 A   \n",
       "69316         chr9        21854745                T                TG   \n",
       "826664        chr9        21854747                G                 A   \n",
       "225958        chr9        21854787                G                 A   \n",
       "277595        chr9        21854787                G                 A   \n",
       "203192        chr9        21854794                C                 T   \n",
       "703633        chr9        21854794                C                 T   \n",
       "906191        chr9        21854815                A                 G   \n",
       "602668        chr9        21854845                A                 T   \n",
       "50114         chr9        21854861                C                 A   \n",
       "137187        chr9        21854861                C                 A   \n",
       "675243        chr9        21859316                G                 A   \n",
       "354260        chr9        21859367                T                 C   \n",
       "145847        chr9        21861985                C                 T   \n",
       "1048964       chr9        21861985                C                 T   \n",
       "\n",
       "        uniprot_id                        Protein_Change  \n",
       "154606    Q13126-1          ENSP00000494373.1:p.Arg29Ile  \n",
       "517994    Q13126-1          ENSP00000494373.1:p.Lys49Thr  \n",
       "996343    Q13126-1          ENSP00000494373.1:p.Asn52Lys  \n",
       "139531    Q13126-1                                   NaN  \n",
       "517995    Q13126-1                                   NaN  \n",
       "881589    Q13126-1                                   NaN  \n",
       "129344    Q13126-1          ENSP00000494373.1:p.Gly62Ter  \n",
       "69315     Q13126-1          ENSP00000494373.1:p.Gly62Glu  \n",
       "287043    Q13126-1          ENSP00000494373.1:p.Val89Ala  \n",
       "885431    Q13126-1          ENSP00000494373.1:p.Val89Ala  \n",
       "534285    Q13126-1         ENSP00000494373.1:p.Arg116Met  \n",
       "842421    Q13126-1         ENSP00000494373.1:p.Arg116Met  \n",
       "777438    Q13126-1         ENSP00000494373.1:p.Gln122Glu  \n",
       "659077    Q13126-1         ENSP00000494373.1:p.Gly127Glu  \n",
       "758165    Q13126-1         ENSP00000494373.1:p.Gly134Arg  \n",
       "69316     Q13126-1  ENSP00000494373.1:p.Ala191GlyfsTer16  \n",
       "826664    Q13126-1         ENSP00000494373.1:p.Trp189Ter  \n",
       "225958    Q13126-1         ENSP00000494373.1:p.Val203Ile  \n",
       "277595    Q13126-1         ENSP00000494373.1:p.Val203Ile  \n",
       "203192    Q13126-1         ENSP00000494373.1:p.Ala205Val  \n",
       "703633    Q13126-1         ENSP00000494373.1:p.Ala205Val  \n",
       "906191    Q13126-1         ENSP00000494373.1:p.Tyr212Cys  \n",
       "602668    Q13126-1         ENSP00000494373.1:p.Asp222Val  \n",
       "50114     Q13126-1         ENSP00000494373.1:p.His227Gln  \n",
       "137187    Q13126-1         ENSP00000494373.1:p.His227Gln  \n",
       "675243    Q13126-1         ENSP00000494373.1:p.Arg235Gln  \n",
       "354260    Q13126-1         ENSP00000494373.1:p.Leu252Pro  \n",
       "145847    Q13126-1         ENSP00000494373.1:p.Gln275Ter  \n",
       "1048964   Q13126-1         ENSP00000494373.1:p.Gln275Ter  "
      ]
     },
     "execution_count": 139,
     "metadata": {},
     "output_type": "execute_result"
    }
   ],
   "source": [
    "maf_variants_23q4_clean_v3_final.loc[(maf_variants_23q4_clean_v3_final.Hugo_Symbol == 'MTAP'), ['Chromosome', 'Start_Position', 'Reference_Allele', 'Tumor_Seq_Allele2', 'uniprot_id', 'Protein_Change']]"
   ]
  },
  {
   "cell_type": "code",
   "execution_count": 140,
   "metadata": {},
   "outputs": [
    {
     "data": {
      "text/html": [
       "<div>\n",
       "<style scoped>\n",
       "    .dataframe tbody tr th:only-of-type {\n",
       "        vertical-align: middle;\n",
       "    }\n",
       "\n",
       "    .dataframe tbody tr th {\n",
       "        vertical-align: top;\n",
       "    }\n",
       "\n",
       "    .dataframe thead th {\n",
       "        text-align: right;\n",
       "    }\n",
       "</style>\n",
       "<table border=\"1\" class=\"dataframe\">\n",
       "  <thead>\n",
       "    <tr style=\"text-align: right;\">\n",
       "      <th></th>\n",
       "      <th>Chrom</th>\n",
       "      <th>Pos</th>\n",
       "      <th>Ref</th>\n",
       "      <th>Alt</th>\n",
       "      <th>HugoSymbol</th>\n",
       "      <th>UniprotID</th>\n",
       "      <th>ProteinChange</th>\n",
       "      <th>DNAChange</th>\n",
       "    </tr>\n",
       "  </thead>\n",
       "  <tbody>\n",
       "    <tr>\n",
       "      <th>38983</th>\n",
       "      <td>chr9</td>\n",
       "      <td>21818202</td>\n",
       "      <td>G</td>\n",
       "      <td>T</td>\n",
       "      <td>MTAP</td>\n",
       "      <td>Q13126</td>\n",
       "      <td>p.R133M</td>\n",
       "      <td>c.398G&gt;T</td>\n",
       "    </tr>\n",
       "    <tr>\n",
       "      <th>44775</th>\n",
       "      <td>chr9</td>\n",
       "      <td>21818170</td>\n",
       "      <td>C</td>\n",
       "      <td>T</td>\n",
       "      <td>MTAP</td>\n",
       "      <td>Q13126</td>\n",
       "      <td>p.G122G</td>\n",
       "      <td>c.366C&gt;T</td>\n",
       "    </tr>\n",
       "    <tr>\n",
       "      <th>102146</th>\n",
       "      <td>chr9</td>\n",
       "      <td>21816774</td>\n",
       "      <td>T</td>\n",
       "      <td>C</td>\n",
       "      <td>MTAP</td>\n",
       "      <td>Q13126</td>\n",
       "      <td>None</td>\n",
       "      <td>c.e3+2T&gt;C</td>\n",
       "    </tr>\n",
       "    <tr>\n",
       "      <th>102147</th>\n",
       "      <td>chr9</td>\n",
       "      <td>21818047</td>\n",
       "      <td>G</td>\n",
       "      <td>A</td>\n",
       "      <td>MTAP</td>\n",
       "      <td>Q13126</td>\n",
       "      <td>p.Q81Q</td>\n",
       "      <td>c.243G&gt;A</td>\n",
       "    </tr>\n",
       "    <tr>\n",
       "      <th>108288</th>\n",
       "      <td>chr9</td>\n",
       "      <td>21818121</td>\n",
       "      <td>T</td>\n",
       "      <td>C</td>\n",
       "      <td>MTAP</td>\n",
       "      <td>Q13126</td>\n",
       "      <td>p.V106A</td>\n",
       "      <td>c.317T&gt;C</td>\n",
       "    </tr>\n",
       "    <tr>\n",
       "      <th>373342</th>\n",
       "      <td>chr9</td>\n",
       "      <td>21861985</td>\n",
       "      <td>C</td>\n",
       "      <td>T</td>\n",
       "      <td>MTAP</td>\n",
       "      <td>Q13126</td>\n",
       "      <td>p.Q292*</td>\n",
       "      <td>c.874C&gt;T</td>\n",
       "    </tr>\n",
       "    <tr>\n",
       "      <th>386378</th>\n",
       "      <td>chr9</td>\n",
       "      <td>21854714</td>\n",
       "      <td>C</td>\n",
       "      <td>T</td>\n",
       "      <td>MTAP</td>\n",
       "      <td>Q13126</td>\n",
       "      <td>p.S195S</td>\n",
       "      <td>c.585C&gt;T</td>\n",
       "    </tr>\n",
       "    <tr>\n",
       "      <th>534264</th>\n",
       "      <td>chr9</td>\n",
       "      <td>21931194</td>\n",
       "      <td>A</td>\n",
       "      <td>G</td>\n",
       "      <td>MTAP</td>\n",
       "      <td>Q13126</td>\n",
       "      <td>p.S334G</td>\n",
       "      <td>c.1000A&gt;G</td>\n",
       "    </tr>\n",
       "  </tbody>\n",
       "</table>\n",
       "</div>"
      ],
      "text/plain": [
       "       Chrom       Pos Ref Alt HugoSymbol UniprotID ProteinChange  DNAChange\n",
       "38983   chr9  21818202   G   T       MTAP    Q13126       p.R133M   c.398G>T\n",
       "44775   chr9  21818170   C   T       MTAP    Q13126       p.G122G   c.366C>T\n",
       "102146  chr9  21816774   T   C       MTAP    Q13126          None  c.e3+2T>C\n",
       "102147  chr9  21818047   G   A       MTAP    Q13126        p.Q81Q   c.243G>A\n",
       "108288  chr9  21818121   T   C       MTAP    Q13126       p.V106A   c.317T>C\n",
       "373342  chr9  21861985   C   T       MTAP    Q13126       p.Q292*   c.874C>T\n",
       "386378  chr9  21854714   C   T       MTAP    Q13126       p.S195S   c.585C>T\n",
       "534264  chr9  21931194   A   G       MTAP    Q13126       p.S334G  c.1000A>G"
      ]
     },
     "execution_count": 140,
     "metadata": {},
     "output_type": "execute_result"
    }
   ],
   "source": [
    "release_maf_23q2.loc[release_maf_23q2.loc[:, 'HugoSymbol'] == 'MTAP', ['Chrom', 'Pos', 'Ref', 'Alt', 'HugoSymbol', 'UniprotID', 'ProteinChange', 'DNAChange']].head(8)"
   ]
  },
  {
   "cell_type": "markdown",
   "metadata": {},
   "source": [
    "## KRAS G12D mutation\n",
    "\n",
    "The PANC1005 line is well characterized as having a KRAS G12D mutation, but this is missing from the latest release of DepMap data while present in the older releases. Is this is indeed the case or have I made a mistake in querying the data?\n",
    "\n",
    "Answer: we actually found the G12D mutation (Gly12Asp). We double checked 23Q2, it is not there."
   ]
  },
  {
   "cell_type": "code",
   "execution_count": 141,
   "metadata": {},
   "outputs": [
    {
     "data": {
      "text/html": [
       "<div>\n",
       "<style scoped>\n",
       "    .dataframe tbody tr th:only-of-type {\n",
       "        vertical-align: middle;\n",
       "    }\n",
       "\n",
       "    .dataframe tbody tr th {\n",
       "        vertical-align: top;\n",
       "    }\n",
       "\n",
       "    .dataframe thead th {\n",
       "        text-align: right;\n",
       "    }\n",
       "</style>\n",
       "<table border=\"1\" class=\"dataframe\">\n",
       "  <thead>\n",
       "    <tr style=\"text-align: right;\">\n",
       "      <th></th>\n",
       "      <th>uniprot_id</th>\n",
       "      <th>Protein_Change</th>\n",
       "    </tr>\n",
       "  </thead>\n",
       "  <tbody>\n",
       "    <tr>\n",
       "      <th>45069</th>\n",
       "      <td>P01116-2</td>\n",
       "      <td>ENSP00000308495.3:p.Gly12Asp</td>\n",
       "    </tr>\n",
       "    <tr>\n",
       "      <th>1063512</th>\n",
       "      <td>P01116-2</td>\n",
       "      <td>ENSP00000308495.3:p.Gly12Asp</td>\n",
       "    </tr>\n",
       "  </tbody>\n",
       "</table>\n",
       "</div>"
      ],
      "text/plain": [
       "        uniprot_id                Protein_Change\n",
       "45069     P01116-2  ENSP00000308495.3:p.Gly12Asp\n",
       "1063512   P01116-2  ENSP00000308495.3:p.Gly12Asp"
      ]
     },
     "execution_count": 141,
     "metadata": {},
     "output_type": "execute_result"
    }
   ],
   "source": [
    "maf_variants_23q4_clean_v3_final.loc[(maf_variants_23q4_clean_v3_final.celltype == 'PANC1005') & (maf_variants_23q4_clean_v3_final.Hugo_Symbol == 'KRAS'), ['uniprot_id', 'Protein_Change']]"
   ]
  },
  {
   "cell_type": "code",
   "execution_count": 143,
   "metadata": {},
   "outputs": [],
   "source": [
    "ids_23q2_g12d = release_maf_23q2.loc[release_maf_23q2.loc[:, 'ProteinChange'] == 'p.G12D', ['ModelID', 'Ref', 'Alt', 'HugoSymbol', 'UniprotID', 'ProteinChange', 'DNAChange']]"
   ]
  },
  {
   "cell_type": "code",
   "execution_count": 145,
   "metadata": {},
   "outputs": [
    {
     "data": {
      "text/plain": [
       "0"
      ]
     },
     "execution_count": 145,
     "metadata": {},
     "output_type": "execute_result"
    }
   ],
   "source": [
    "oncotree_meta_profile.loc[oncotree_meta_profile.ModelID.isin(ids_23q2_g12d.ModelID), 'StrippedCellLineName'].isin(['PANC1005']).sum()"
   ]
  },
  {
   "cell_type": "markdown",
   "metadata": {},
   "source": [
    "## Mutation and protein change\n",
    "\n",
    "“I have spent a bit of time trying to align the residue numbering on\n",
    "targets/mutations in DepMap to other public databases.  For some reason the\n",
    "sequence variants DepMap uses for assigning residue numbers are different\n",
    "than those used for all other datasources I use.  For example on EGFR, the\n",
    "common mutations L858R and T790M are listed as “L813R” and “T745M”.  Other\n",
    "databases like COSMIC, TCGA/cBioPortal, and our own internal database do\n",
    "not have this issue – the residue numbering on 99%+ of proteins is\n",
    "identical between the other databases, but then DepMap numbering is\n",
    "different.\n",
    "\n",
    "Answer: L858R and T790M now can be found in the 23Q4 version. "
   ]
  },
  {
   "cell_type": "code",
   "execution_count": 146,
   "metadata": {},
   "outputs": [
    {
     "data": {
      "text/plain": [
       "683459                   ENSP00000275493.2:p.Phe48Leu\n",
       "671443                   ENSP00000275493.2:p.Leu62Arg\n",
       "1063253                  ENSP00000275493.2:p.Gln71Leu\n",
       "623088                   ENSP00000275493.2:p.Leu76Pro\n",
       "669250                  ENSP00000275493.2:p.Val292Leu\n",
       "665425                  ENSP00000275493.2:p.Ser306Leu\n",
       "316046           ENSP00000275493.2:p.Leu747_Glu749del\n",
       "535312           ENSP00000275493.2:p.Leu747_Glu749del\n",
       "541517           ENSP00000275493.2:p.Leu747PhefsTer14\n",
       "669405     ENSP00000275493.2:p.Leu747_Pro753delinsSer\n",
       "485254                  ENSP00000275493.2:p.Leu858Arg\n",
       "643298                  ENSP00000275493.2:p.Leu858Arg\n",
       "957147                  ENSP00000275493.2:p.Leu858Arg\n",
       "1098765                 ENSP00000275493.2:p.Leu858Arg\n",
       "51407                   ENSP00000275493.2:p.Leu861Gln\n",
       "108969                  ENSP00000275493.2:p.Leu883Phe\n",
       "201735                  ENSP00000275493.2:p.Leu883Phe\n",
       "386012                  ENSP00000275493.2:p.Phe961Leu\n",
       "Name: Protein_Change, dtype: object"
      ]
     },
     "execution_count": 146,
     "metadata": {},
     "output_type": "execute_result"
    }
   ],
   "source": [
    "# L858R\n",
    "maf_variants_23q4_clean_v3_final.query(\"Hugo_Symbol == 'EGFR' & Protein_Change.str.contains('Leu')\")['Protein_Change']"
   ]
  },
  {
   "cell_type": "code",
   "execution_count": 147,
   "metadata": {},
   "outputs": [
    {
     "data": {
      "text/plain": [
       "1084322     ENSP00000275493.2:p.Ala289Thr\n",
       "866408      ENSP00000275493.2:p.Ser366Thr\n",
       "148684      ENSP00000275493.2:p.Thr751Ile\n",
       "844772      ENSP00000275493.2:p.Thr751Ile\n",
       "485253      ENSP00000275493.2:p.Thr790Met\n",
       "1098764     ENSP00000275493.2:p.Thr790Met\n",
       "876804      ENSP00000275493.2:p.Thr903Ile\n",
       "17376       ENSP00000275493.2:p.Thr940Ala\n",
       "855329      ENSP00000275493.2:p.Thr940Ala\n",
       "732439     ENSP00000275493.2:p.Ser1025Thr\n",
       "104416     ENSP00000275493.2:p.Ala1076Thr\n",
       "754298     ENSP00000275493.2:p.Ala1076Thr\n",
       "126327     ENSP00000275493.2:p.Thr1085Asn\n",
       "599306     ENSP00000275493.2:p.Ala1132Thr\n",
       "Name: Protein_Change, dtype: object"
      ]
     },
     "execution_count": 147,
     "metadata": {},
     "output_type": "execute_result"
    }
   ],
   "source": [
    "# Thr790Met -> T790M\n",
    "maf_variants_23q4_clean_v3_final.query(\"Hugo_Symbol == 'EGFR' & Protein_Change.str.contains('Thr')\")['Protein_Change']"
   ]
  },
  {
   "cell_type": "markdown",
   "metadata": {},
   "source": [
    "## Incorrect germline mutation\n",
    "I had a question that I didn’t want to post to the forum but ask rather privately:\n",
    "In the gene RBM10:\n",
    "\n",
    "  *   ACH-000875 has a variant c.e20+1G>T marked as deleterious in 22q2 but not deleterious in 23q2\n",
    "  *   ACH-000414 (NCIH1944) has a frameshift p.P617fs in 22q2 but SNP p.V616F in 23q2\n",
    "Could you please clarify the first point as to changes in variant classification and for the second point what changed in the variant caller to call a frameshift a SNP instead? According to CBIOportal CCLE data on NCIH1944 it should also have a frameshift A540Rfs*10 but I don’t think this is in the mutation calls. Would be great to understand the underlying reason.\n",
    "\n",
    "\n",
    "Answer: \n",
    "1. ACH-00875 will have this high impact mutation in 23Q4 as deleterious \n",
    "2. We will have both frameshift ENSP00000366829.3:p.Ala618ArgfsTer10 and SNP p.Val616Phe for 23Q4."
   ]
  },
  {
   "cell_type": "code",
   "execution_count": 148,
   "metadata": {},
   "outputs": [
    {
     "data": {
      "text/html": [
       "<div>\n",
       "<style scoped>\n",
       "    .dataframe tbody tr th:only-of-type {\n",
       "        vertical-align: middle;\n",
       "    }\n",
       "\n",
       "    .dataframe tbody tr th {\n",
       "        vertical-align: top;\n",
       "    }\n",
       "\n",
       "    .dataframe thead th {\n",
       "        text-align: right;\n",
       "    }\n",
       "</style>\n",
       "<table border=\"1\" class=\"dataframe\">\n",
       "  <thead>\n",
       "    <tr style=\"text-align: right;\">\n",
       "      <th></th>\n",
       "      <th>vep_impact</th>\n",
       "      <th>dna_change</th>\n",
       "      <th>Protein_Change</th>\n",
       "    </tr>\n",
       "  </thead>\n",
       "  <tbody>\n",
       "    <tr>\n",
       "      <th>166988</th>\n",
       "      <td>HIGH</td>\n",
       "      <td>ENST00000377604.8:c.2355+1G&gt;T</td>\n",
       "      <td>NaN</td>\n",
       "    </tr>\n",
       "  </tbody>\n",
       "</table>\n",
       "</div>"
      ],
      "text/plain": [
       "       vep_impact                     dna_change Protein_Change\n",
       "166988       HIGH  ENST00000377604.8:c.2355+1G>T            NaN"
      ]
     },
     "execution_count": 148,
     "metadata": {},
     "output_type": "execute_result"
    }
   ],
   "source": [
    "maf_variants_23q4_clean_v3_final.query(\"ModelID == 'ACH-000875' & Hugo_Symbol == 'RBM10'\")[['vep_impact', 'dna_change', 'Protein_Change']]"
   ]
  },
  {
   "cell_type": "code",
   "execution_count": 149,
   "metadata": {},
   "outputs": [
    {
     "data": {
      "text/html": [
       "<div>\n",
       "<style scoped>\n",
       "    .dataframe tbody tr th:only-of-type {\n",
       "        vertical-align: middle;\n",
       "    }\n",
       "\n",
       "    .dataframe tbody tr th {\n",
       "        vertical-align: top;\n",
       "    }\n",
       "\n",
       "    .dataframe thead th {\n",
       "        text-align: right;\n",
       "    }\n",
       "</style>\n",
       "<table border=\"1\" class=\"dataframe\">\n",
       "  <thead>\n",
       "    <tr style=\"text-align: right;\">\n",
       "      <th></th>\n",
       "      <th>vep_impact</th>\n",
       "      <th>variant_info</th>\n",
       "      <th>dna_change</th>\n",
       "      <th>Protein_Change</th>\n",
       "    </tr>\n",
       "  </thead>\n",
       "  <tbody>\n",
       "    <tr>\n",
       "      <th>359207</th>\n",
       "      <td>MODERATE</td>\n",
       "      <td>missense_variant</td>\n",
       "      <td>ENST00000377604.8:c.1846G&gt;T</td>\n",
       "      <td>ENSP00000366829.3:p.Val616Phe</td>\n",
       "    </tr>\n",
       "    <tr>\n",
       "      <th>425920</th>\n",
       "      <td>MODERATE</td>\n",
       "      <td>missense_variant</td>\n",
       "      <td>ENST00000377604.8:c.1846G&gt;T</td>\n",
       "      <td>ENSP00000366829.3:p.Val616Phe</td>\n",
       "    </tr>\n",
       "    <tr>\n",
       "      <th>359208</th>\n",
       "      <td>HIGH</td>\n",
       "      <td>frameshift_variant</td>\n",
       "      <td>ENST00000377604.8:c.1851dup</td>\n",
       "      <td>ENSP00000366829.3:p.Ala618ArgfsTer10</td>\n",
       "    </tr>\n",
       "    <tr>\n",
       "      <th>425921</th>\n",
       "      <td>HIGH</td>\n",
       "      <td>frameshift_variant</td>\n",
       "      <td>ENST00000377604.8:c.1851dup</td>\n",
       "      <td>ENSP00000366829.3:p.Ala618ArgfsTer10</td>\n",
       "    </tr>\n",
       "  </tbody>\n",
       "</table>\n",
       "</div>"
      ],
      "text/plain": [
       "       vep_impact        variant_info                   dna_change  \\\n",
       "359207   MODERATE    missense_variant  ENST00000377604.8:c.1846G>T   \n",
       "425920   MODERATE    missense_variant  ENST00000377604.8:c.1846G>T   \n",
       "359208       HIGH  frameshift_variant  ENST00000377604.8:c.1851dup   \n",
       "425921       HIGH  frameshift_variant  ENST00000377604.8:c.1851dup   \n",
       "\n",
       "                              Protein_Change  \n",
       "359207         ENSP00000366829.3:p.Val616Phe  \n",
       "425920         ENSP00000366829.3:p.Val616Phe  \n",
       "359208  ENSP00000366829.3:p.Ala618ArgfsTer10  \n",
       "425921  ENSP00000366829.3:p.Ala618ArgfsTer10  "
      ]
     },
     "execution_count": 149,
     "metadata": {},
     "output_type": "execute_result"
    }
   ],
   "source": [
    "maf_variants_23q4_clean_v3_final.query(\"ModelID == 'ACH-000414' & Hugo_Symbol == 'RBM10'\")[['vep_impact', 'variant_info', 'dna_change', 'Protein_Change']]"
   ]
  },
  {
   "cell_type": "markdown",
   "metadata": {},
   "source": [
    "## L858R hotspot\n",
    "\n",
    "L858R hotspot is being annotated as L813R and exon 19 deletions should be between 729-761 and most common in-frame del in our data is annotated at 701. Wanted to flag this for you and something to check with our new annotations.\n",
    "\n",
    "Answer: this has been annotated as ENSP00000275233.7:p.Leu858ArgfsTer47 by VEP now. We also have a few missense mutations"
   ]
  },
  {
   "cell_type": "code",
   "execution_count": 150,
   "metadata": {},
   "outputs": [
    {
     "data": {
      "text/html": [
       "<div>\n",
       "<style scoped>\n",
       "    .dataframe tbody tr th:only-of-type {\n",
       "        vertical-align: middle;\n",
       "    }\n",
       "\n",
       "    .dataframe tbody tr th {\n",
       "        vertical-align: top;\n",
       "    }\n",
       "\n",
       "    .dataframe thead th {\n",
       "        text-align: right;\n",
       "    }\n",
       "</style>\n",
       "<table border=\"1\" class=\"dataframe\">\n",
       "  <thead>\n",
       "    <tr style=\"text-align: right;\">\n",
       "      <th></th>\n",
       "      <th>Protein_Change</th>\n",
       "      <th>vep_impact</th>\n",
       "      <th>variant_info</th>\n",
       "    </tr>\n",
       "  </thead>\n",
       "  <tbody>\n",
       "    <tr>\n",
       "      <th>853764</th>\n",
       "      <td>ENSP00000473211.1:p.Leu858Arg</td>\n",
       "      <td>MODERATE</td>\n",
       "      <td>missense_variant</td>\n",
       "    </tr>\n",
       "    <tr>\n",
       "      <th>326455</th>\n",
       "      <td>ENSP00000275233.7:p.Leu858ArgfsTer47</td>\n",
       "      <td>HIGH</td>\n",
       "      <td>frameshift_variant</td>\n",
       "    </tr>\n",
       "    <tr>\n",
       "      <th>485254</th>\n",
       "      <td>ENSP00000275493.2:p.Leu858Arg</td>\n",
       "      <td>MODERATE</td>\n",
       "      <td>missense_variant</td>\n",
       "    </tr>\n",
       "    <tr>\n",
       "      <th>643298</th>\n",
       "      <td>ENSP00000275493.2:p.Leu858Arg</td>\n",
       "      <td>MODERATE</td>\n",
       "      <td>missense_variant</td>\n",
       "    </tr>\n",
       "    <tr>\n",
       "      <th>957147</th>\n",
       "      <td>ENSP00000275493.2:p.Leu858Arg</td>\n",
       "      <td>MODERATE</td>\n",
       "      <td>missense_variant</td>\n",
       "    </tr>\n",
       "    <tr>\n",
       "      <th>1098765</th>\n",
       "      <td>ENSP00000275493.2:p.Leu858Arg</td>\n",
       "      <td>MODERATE</td>\n",
       "      <td>missense_variant</td>\n",
       "    </tr>\n",
       "  </tbody>\n",
       "</table>\n",
       "</div>"
      ],
      "text/plain": [
       "                               Protein_Change vep_impact        variant_info\n",
       "853764          ENSP00000473211.1:p.Leu858Arg   MODERATE    missense_variant\n",
       "326455   ENSP00000275233.7:p.Leu858ArgfsTer47       HIGH  frameshift_variant\n",
       "485254          ENSP00000275493.2:p.Leu858Arg   MODERATE    missense_variant\n",
       "643298          ENSP00000275493.2:p.Leu858Arg   MODERATE    missense_variant\n",
       "957147          ENSP00000275493.2:p.Leu858Arg   MODERATE    missense_variant\n",
       "1098765         ENSP00000275493.2:p.Leu858Arg   MODERATE    missense_variant"
      ]
     },
     "execution_count": 150,
     "metadata": {},
     "output_type": "execute_result"
    }
   ],
   "source": [
    "maf_variants_23q4_clean_l585r = maf_variants_23q4_clean_v3_final.loc[~maf_variants_23q4_clean_v3_final.Protein_Change.isnull(), :]\n",
    "maf_variants_23q4_clean_l585r.loc[maf_variants_23q4_clean_l585r.Protein_Change.str.contains('Leu858Arg'), ['Protein_Change', 'vep_impact', 'variant_info']]"
   ]
  },
  {
   "cell_type": "markdown",
   "metadata": {},
   "source": [
    "## Start codon change classification\n",
    "\n",
    "\n",
    "- The OmicsSomaticMutationsMAFProfile.maf file registers missense mutants in the start codon as “silent” when in fact the mutation will most likely lead to a loss of function. I’ve noticed this in one specific gene of interest, but there could be more.\n",
    "Interestingly, the OmicsSomaticMutations.csv file recognizes it as a START_CODON_SNP and marks the mutant as gene_function_loss .\n",
    "The contents of OmicsSomaticMutationsMAFProfile.maf\n",
    "GNA11 GRCh38 19 3094654 3094655 SNP G G A PR-Ds9QdK Silent p.M1I\n",
    "GNA11 GRCh38 19 3094654 3094655 SNP G G A PR-Yz6AIC Silent p.M1I\n",
    "\n",
    "- The contents of OmicsSomaticMutations.csv\n",
    "chr19,3094654,G,A,0.286,9,3,0/1,,SNP,START_CODON_SNP,c.3G>A,p.M1I,GNA11,G protein subunit alpha 11,\"G protein subunits alpha, group q\",ENST00000078429.9,1.0,+,P29992,False,,,,0.8029925187032418,E,Dom,False,,False,,gene_function_loss;,False,False,False,,,,,7.3,False,True,False,,0.921563,0.9822536945303076,0.596,4.0,,,,,,,ACH-000995,2767.0\n"
   ]
  },
  {
   "cell_type": "code",
   "execution_count": 151,
   "metadata": {},
   "outputs": [
    {
     "data": {
      "text/html": [
       "<div>\n",
       "<style scoped>\n",
       "    .dataframe tbody tr th:only-of-type {\n",
       "        vertical-align: middle;\n",
       "    }\n",
       "\n",
       "    .dataframe tbody tr th {\n",
       "        vertical-align: top;\n",
       "    }\n",
       "\n",
       "    .dataframe thead th {\n",
       "        text-align: right;\n",
       "    }\n",
       "</style>\n",
       "<table border=\"1\" class=\"dataframe\">\n",
       "  <thead>\n",
       "    <tr style=\"text-align: right;\">\n",
       "      <th></th>\n",
       "      <th>Chromosome</th>\n",
       "      <th>Start_Position</th>\n",
       "      <th>Variant_Classification</th>\n",
       "      <th>vep_impact</th>\n",
       "    </tr>\n",
       "  </thead>\n",
       "  <tbody>\n",
       "    <tr>\n",
       "      <th>175995</th>\n",
       "      <td>chr19</td>\n",
       "      <td>3094654</td>\n",
       "      <td>Translation_Start_Site</td>\n",
       "      <td>HIGH</td>\n",
       "    </tr>\n",
       "    <tr>\n",
       "      <th>430785</th>\n",
       "      <td>chr19</td>\n",
       "      <td>3094654</td>\n",
       "      <td>Translation_Start_Site</td>\n",
       "      <td>HIGH</td>\n",
       "    </tr>\n",
       "  </tbody>\n",
       "</table>\n",
       "</div>"
      ],
      "text/plain": [
       "       Chromosome  Start_Position  Variant_Classification vep_impact\n",
       "175995      chr19         3094654  Translation_Start_Site       HIGH\n",
       "430785      chr19         3094654  Translation_Start_Site       HIGH"
      ]
     },
     "execution_count": 151,
     "metadata": {},
     "output_type": "execute_result"
    }
   ],
   "source": [
    "maf_variants_23q4_clean_v3_final.query(\"Start_Position == 3094654\")[['Chromosome', 'Start_Position', 'Variant_Classification', 'vep_impact']]"
   ]
  },
  {
   "cell_type": "markdown",
   "metadata": {},
   "source": [
    "# Statistics Compared to Past release"
   ]
  },
  {
   "cell_type": "code",
   "execution_count": 155,
   "metadata": {},
   "outputs": [],
   "source": [
    "release_maf_23q2_stat = release_standard_maf_23q2.value_counts('Variant_Classification').reset_index().rename({0: 'counts'}, axis=1)\n",
    "\n",
    "release_maf_23q4_stat = maf_variants_23q4_clean_v3_final['Variant_Classification'].value_counts().reset_index()"
   ]
  },
  {
   "cell_type": "code",
   "execution_count": 159,
   "metadata": {},
   "outputs": [
    {
     "data": {
      "text/html": [
       "<div>\n",
       "<style scoped>\n",
       "    .dataframe tbody tr th:only-of-type {\n",
       "        vertical-align: middle;\n",
       "    }\n",
       "\n",
       "    .dataframe tbody tr th {\n",
       "        vertical-align: top;\n",
       "    }\n",
       "\n",
       "    .dataframe thead th {\n",
       "        text-align: right;\n",
       "    }\n",
       "</style>\n",
       "<table border=\"1\" class=\"dataframe\">\n",
       "  <thead>\n",
       "    <tr style=\"text-align: right;\">\n",
       "      <th></th>\n",
       "      <th>Variant_Classification_x</th>\n",
       "      <th>counts</th>\n",
       "      <th>index</th>\n",
       "      <th>Variant_Classification_y</th>\n",
       "    </tr>\n",
       "  </thead>\n",
       "  <tbody>\n",
       "    <tr>\n",
       "      <th>0</th>\n",
       "      <td>Missense_Mutation</td>\n",
       "      <td>1269001.0</td>\n",
       "      <td>Missense_Mutation</td>\n",
       "      <td>873780.0</td>\n",
       "    </tr>\n",
       "    <tr>\n",
       "      <th>1</th>\n",
       "      <td>Silent</td>\n",
       "      <td>602191.0</td>\n",
       "      <td>NaN</td>\n",
       "      <td>NaN</td>\n",
       "    </tr>\n",
       "    <tr>\n",
       "      <th>2</th>\n",
       "      <td>Splice_Site</td>\n",
       "      <td>96140.0</td>\n",
       "      <td>Splice_Site</td>\n",
       "      <td>35104.0</td>\n",
       "    </tr>\n",
       "    <tr>\n",
       "      <th>3</th>\n",
       "      <td>Nonsense_Mutation</td>\n",
       "      <td>62941.0</td>\n",
       "      <td>Nonsense_Mutation</td>\n",
       "      <td>56928.0</td>\n",
       "    </tr>\n",
       "    <tr>\n",
       "      <th>4</th>\n",
       "      <td>Frame_Shift_Del</td>\n",
       "      <td>59806.0</td>\n",
       "      <td>Frame_Shift_Del</td>\n",
       "      <td>58351.0</td>\n",
       "    </tr>\n",
       "    <tr>\n",
       "      <th>5</th>\n",
       "      <td>Frame_Shift_Ins</td>\n",
       "      <td>20547.0</td>\n",
       "      <td>Frame_Shift_Ins</td>\n",
       "      <td>20444.0</td>\n",
       "    </tr>\n",
       "    <tr>\n",
       "      <th>6</th>\n",
       "      <td>In_Frame_Del</td>\n",
       "      <td>9024.0</td>\n",
       "      <td>In_Frame_Del</td>\n",
       "      <td>7340.0</td>\n",
       "    </tr>\n",
       "    <tr>\n",
       "      <th>7</th>\n",
       "      <td>In_Frame_Ins</td>\n",
       "      <td>4581.0</td>\n",
       "      <td>In_Frame_Ins</td>\n",
       "      <td>2689.0</td>\n",
       "    </tr>\n",
       "    <tr>\n",
       "      <th>8</th>\n",
       "      <td>Nonstop_Mutation</td>\n",
       "      <td>2076.0</td>\n",
       "      <td>Nonstop_Mutation</td>\n",
       "      <td>1372.0</td>\n",
       "    </tr>\n",
       "    <tr>\n",
       "      <th>9</th>\n",
       "      <td>NaN</td>\n",
       "      <td>NaN</td>\n",
       "      <td>Translation_Start_Site</td>\n",
       "      <td>2231.0</td>\n",
       "    </tr>\n",
       "  </tbody>\n",
       "</table>\n",
       "</div>"
      ],
      "text/plain": [
       "  Variant_Classification_x     counts                   index  \\\n",
       "0        Missense_Mutation  1269001.0       Missense_Mutation   \n",
       "1                   Silent   602191.0                     NaN   \n",
       "2              Splice_Site    96140.0             Splice_Site   \n",
       "3        Nonsense_Mutation    62941.0       Nonsense_Mutation   \n",
       "4          Frame_Shift_Del    59806.0         Frame_Shift_Del   \n",
       "5          Frame_Shift_Ins    20547.0         Frame_Shift_Ins   \n",
       "6             In_Frame_Del     9024.0            In_Frame_Del   \n",
       "7             In_Frame_Ins     4581.0            In_Frame_Ins   \n",
       "8         Nonstop_Mutation     2076.0        Nonstop_Mutation   \n",
       "9                      NaN        NaN  Translation_Start_Site   \n",
       "\n",
       "   Variant_Classification_y  \n",
       "0                  873780.0  \n",
       "1                       NaN  \n",
       "2                   35104.0  \n",
       "3                   56928.0  \n",
       "4                   58351.0  \n",
       "5                   20444.0  \n",
       "6                    7340.0  \n",
       "7                    2689.0  \n",
       "8                    1372.0  \n",
       "9                    2231.0  "
      ]
     },
     "execution_count": 159,
     "metadata": {},
     "output_type": "execute_result"
    }
   ],
   "source": [
    "release_maf_23q2_stat.merge(release_maf_23q4_stat, left_on='Variant_Classification', right_on='index', how='outer')"
   ]
  }
 ],
 "metadata": {
  "kernelspec": {
   "display_name": "cds-omics",
   "language": "python",
   "name": "python3"
  },
  "language_info": {
   "codemirror_mode": {
    "name": "ipython",
    "version": 3
   },
   "file_extension": ".py",
   "mimetype": "text/x-python",
   "name": "python",
   "nbconvert_exporter": "python",
   "pygments_lexer": "ipython3",
   "version": "3.9.16"
  },
  "orig_nbformat": 4
 },
 "nbformat": 4,
 "nbformat_minor": 2
}
