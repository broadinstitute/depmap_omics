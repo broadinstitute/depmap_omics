{
 "cells": [
  {
   "cell_type": "code",
   "execution_count": null,
   "metadata": {},
   "outputs": [],
   "source": [
    "import seaborn as sns\n",
    "import pandas as pd\n",
    "import matplotlib.pyplot as plt\n",
    "import matplotlib.pyplot as plt\n",
    "plt.rcParams.update({'font.size': 10})\n",
    "cosmic_somatic_stat =pd.read_table(\"cosmic_somatic_gnomad.stat\", header=None)"
   ]
  },
  {
   "cell_type": "code",
   "execution_count": null,
   "metadata": {},
   "outputs": [],
   "source": [
    "fig, ax = plt.subplots()\n",
    "fig.set_size_inches(9.2, 5.6)\n",
    "sns.violinplot(x=2, y=4, data=cosmic_somatic_stat, ax=ax)\n",
    "ax.set_ylim(0, 0.2)\n",
    "ax.set_ylabel(\"Gnomad Allele frequency\")\n",
    "fig.autofmt_xdate(rotation=45)\n",
    "fig.subplots_adjust(bottom=0.5) #"
   ]
  },
  {
   "cell_type": "code",
   "execution_count": null,
   "metadata": {},
   "outputs": [],
   "source": [
    "fig, ax = plt.subplots()\n",
    "fig.set_size_inches(9.2, 5.6)\n",
    "sns.violinplot(x=2, y=4, data=cosmic_somatic_stat, ax=ax)\n",
    "ax.set_ylim(-1.5, 0.05)\n",
    "ax.set_ylabel(\"Gnomad Allele frequency\")\n",
    "fig.autofmt_xdate(rotation=45)\n",
    "fig.subplots_adjust(bottom=0.5) # or whatever"
   ]
  },
  {
   "cell_type": "code",
   "execution_count": null,
   "metadata": {},
   "outputs": [],
   "source": [
    "cosmic_somatic_stat.head()"
   ]
  },
  {
   "cell_type": "code",
   "execution_count": null,
   "metadata": {},
   "outputs": [],
   "source": [
    "indexes = []\n",
    "somatic_prop = []"
   ]
  },
  {
   "cell_type": "code",
   "execution_count": null,
   "metadata": {},
   "outputs": [],
   "source": [
    "for cutoff in [0.05, 1e-2, 1e-2, 1e-4, 1e-5]:\n",
    "    select_som = pd.crosstab(cosmic_somatic_stat.loc[:, 2], \n",
    "                             cosmic_somatic_stat.loc[:, 4] < cutoff).loc[\"Confirmed somatic variant\", :]\n",
    "    print(select_som[1] / select_som.sum())\n",
    "    indexes.append(cutoff)\n",
    "    somatic_prop.append(select_som[1] / select_som.sum())"
   ]
  },
  {
   "cell_type": "code",
   "execution_count": null,
   "metadata": {},
   "outputs": [],
   "source": [
    "pd.DataFrame(somatic_prop, index=indexes)"
   ]
  },
  {
   "cell_type": "code",
   "execution_count": null,
   "metadata": {},
   "outputs": [],
   "source": [
    "pd.DataFrame(somatic_prop, index=indexes).plot.bar()"
   ]
  },
  {
   "cell_type": "code",
   "execution_count": null,
   "metadata": {},
   "outputs": [],
   "source": [
    "cosmic_somatic_stat.value_counts(2).plot.bar()"
   ]
  },
  {
   "cell_type": "code",
   "execution_count": null,
   "metadata": {},
   "outputs": [],
   "source": []
  }
 ],
 "metadata": {
  "kernelspec": {
   "display_name": "ds",
   "language": "python",
   "name": "python3"
  },
  "language_info": {
   "codemirror_mode": {
    "name": "ipython",
    "version": 3
   },
   "file_extension": ".py",
   "mimetype": "text/x-python",
   "name": "python",
   "nbconvert_exporter": "python",
   "pygments_lexer": "ipython3",
   "version": "3.10.0"
  }
 },
 "nbformat": 4,
 "nbformat_minor": 2
}
