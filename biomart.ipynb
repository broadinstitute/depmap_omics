{
 "cells": [
  {
   "cell_type": "code",
   "execution_count": null,
   "id": "262fecdd",
   "metadata": {},
   "outputs": [],
   "source": [
    "from mgenepy.utils import helper as h"
   ]
  },
  {
   "cell_type": "code",
   "execution_count": null,
   "id": "4de9360f",
   "metadata": {},
   "outputs": [],
   "source": [
    "mybiomart = h.generateGeneNames()"
   ]
  },
  {
   "cell_type": "code",
   "execution_count": null,
   "id": "ef43a766",
   "metadata": {},
   "outputs": [],
   "source": [
    "mybiomart[mybiomart.hgnc_symbol.duplicated()]"
   ]
  },
  {
   "cell_type": "code",
   "execution_count": null,
   "id": "7500d81e",
   "metadata": {},
   "outputs": [],
   "source": [
    "mybiomart[mybiomart.ensembl_gene_id.duplicated()]"
   ]
  },
  {
   "cell_type": "code",
   "execution_count": null,
   "id": "022dc298",
   "metadata": {},
   "outputs": [],
   "source": [
    "mybiomart[(mybiomart.ensembl_gene_id.duplicated()) & (mybiomart.gene_biotype == \"protein_coding\")]"
   ]
  },
  {
   "cell_type": "code",
   "execution_count": null,
   "id": "2de5eb6d",
   "metadata": {},
   "outputs": [],
   "source": [
    "for ens in mybiomart[(mybiomart.ensembl_gene_id.duplicated()) & (mybiomart.gene_biotype == \"protein_coding\")].ensembl_gene_id.unique():\n",
    "    if len(mybiomart[(mybiomart.ensembl_gene_id == ens)].entrezgene_id.unique()) > 1:\n",
    "        print(ens)"
   ]
  },
  {
   "cell_type": "code",
   "execution_count": null,
   "id": "fdf64669",
   "metadata": {},
   "outputs": [],
   "source": [
    "mybiomart[(mybiomart.ensembl_gene_id == \"ENSG00000230124\")]"
   ]
  },
  {
   "cell_type": "code",
   "execution_count": null,
   "id": "0d1e3597",
   "metadata": {},
   "outputs": [],
   "source": []
  }
 ],
 "metadata": {
  "kernelspec": {
   "display_name": "Python 3",
   "language": "python",
   "name": "python3"
  },
  "language_info": {
   "codemirror_mode": {
    "name": "ipython",
    "version": 3
   },
   "file_extension": ".py",
   "mimetype": "text/x-python",
   "name": "python",
   "nbconvert_exporter": "python",
   "pygments_lexer": "ipython3",
   "version": "3.8.13"
  }
 },
 "nbformat": 4,
 "nbformat_minor": 5
}
