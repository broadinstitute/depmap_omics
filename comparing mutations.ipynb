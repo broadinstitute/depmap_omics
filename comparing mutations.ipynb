{
 "cells": [
  {
   "cell_type": "code",
   "execution_count": null,
   "metadata": {},
   "outputs": [],
   "source": [
    "from __future__ import print_function\n",
    "import os.path\n",
    "import pandas as pd\n",
    "import gzip\n",
    "import sys\n",
    "import numpy as np\n",
    "\n",
    "sys.path.insert(0, '..')\n",
    "\n",
    "from src.CCLE_postp_function import *\n",
    "from JKBio import Datanalytics as da \n",
    "from JKBio import TerraFunction as terra\n",
    "from JKBio import Helper as h\n",
    "from gsheets import Sheets\n",
    "from taigapy import TaigaClient\n",
    "import dalmatian as dm\n",
    "\n",
    "from sklearn.manifold import TSNE\n",
    "from sklearn.neighbors import KNeighborsClassifier\n",
    "\n",
    "from bokeh.plotting import *\n",
    "from bokeh.models import HoverTool\n",
    "from collections import OrderedDict\n",
    "from IPython.display import Image,display\n",
    "\n",
    "\n",
    "\n",
    "%load_ext autoreload\n",
    "%autoreload 2\n",
    "%load_ext rpy2.ipython\n",
    "tc = TaigaClient()\n",
    "output_notebook()\n",
    "sheets = Sheets.from_files('~/.client_secret.json', '~/.storage.json')\n",
    "replace = {'T': 'Tumor', 'N': 'Normal', 'm': 'Unknown', 'L': 'Unknown'}"
   ]
  },
  {
   "cell_type": "code",
   "execution_count": null,
   "metadata": {},
   "outputs": [],
   "source": [
    "samplesetname = \"20Q2\"\n",
    "prevname=\"20Q1\"\n",
    "prevprevname ='19Q4'\n",
    "prevprevversion= 18\n",
    "virtual_public='public-20q2-075d'\n",
    "virtual_dmc='dmc-20q2-2db6'\n",
    "virtual_internal='internal-20q2-7f46'\n",
    "\n",
    "workspace1=\"broad-genomics-delivery/Getz_IBM_CellLines_Exomes\"\n",
    "workspace2=\"broad-firecloud-ccle/CCLE_DepMap_WES\"\n",
    "workspace3=\"broad-genomics-delivery/CCLE_DepMap_WES\"\n",
    "\n",
    "workspace6=\"terra-broad-cancer-prod/CCLE_DepMap_WES\"\n",
    "\n",
    "refworkspace=\"broad-firecloud-ccle/DepMap_Mutation_Calling_CGA_pipeline\"\n",
    "\n",
    "rnaworkspace=\"broad-firecloud-ccle/DepMap_hg38_RNAseq\"\n",
    "\n",
    "source1=\"ibm\"\n",
    "source2=\"ccle\"\n",
    "source3=\"ccle\"\n",
    "source6=\"ccle\"\n",
    "source7=\"ibm\"\n",
    "\n",
    "refsheet_url = \"https://docs.google.com/spreadsheets/d/1XkZypRuOEXzNLxVk9EOHeWRE98Z8_DBvL4PovyM01FE\"\n",
    "sheeturl = \"https://docs.google.com/spreadsheets/d/115TUgA1t_mD32SnWAGpW9OKmJ2W5WYAOs3SuSdedpX4\"\n",
    "\n",
    "release = samplesetname"
   ]
  },
  {
   "cell_type": "code",
   "execution_count": null,
   "metadata": {},
   "outputs": [],
   "source": [
    "wm1 = dm.WorkspaceManager(workspace1)\n",
    "wm2 = dm.WorkspaceManager(workspace2)\n",
    "wm3 = dm.WorkspaceManager(workspace3)\n",
    "\n",
    "wm6 = dm.WorkspaceManager(workspace6)\n",
    "\n",
    "refwm = dm.WorkspaceManager(refworkspace)"
   ]
  },
  {
   "cell_type": "code",
   "execution_count": null,
   "metadata": {},
   "outputs": [],
   "source": [
    "ccle_refsamples = sheets.get(refsheet_url).sheets[0].to_frame()"
   ]
  },
  {
   "cell_type": "code",
   "execution_count": null,
   "metadata": {},
   "outputs": [],
   "source": [
    "! wget https://github.com/mskcc/vcf2maf/archive/v1.6.18.zip"
   ]
  },
  {
   "cell_type": "code",
   "execution_count": null,
   "metadata": {},
   "outputs": [],
   "source": [
    "# for rnaseq\n",
    "#! gsutil cp gs://fc-secure-639c94ba-2b0d-4960-92fc-9cd50046a968/8af15313-7faf-4344-a7b7-97dd52353dc8/RNAseq/0de1da92-8821-4cbd-a9ce-96ed8b06f395/call-MergeVCFs/G41677.MV-4-11.5.g.vcf.gz temp/\n",
    "path= \"temp/G41677.MV-4-11.5.g.vcf.gz\"\n",
    "rnaseq, description = h.vcf_to_df(path)"
   ]
  },
  {
   "cell_type": "code",
   "execution_count": null,
   "metadata": {},
   "outputs": [],
   "source": [
    "# for rnaseq filtered\n",
    "#!gsutil cp gs://fc-secure-639c94ba-2b0d-4960-92fc-9cd50046a968/8af15313-7faf-4344-a7b7-97dd52353dc8/RNAseq/0de1da92-8821-4cbd-a9ce-96ed8b06f395/call-VariantFiltration/G41677.MV-4-11.5.variant_filtered.vcf.gz temp/\n",
    "rnaseqfilt, description = h.vcf_to_df(\"temp/G41677.MV-4-11.5.variant_filtered.vcf.gz\")"
   ]
  },
  {
   "cell_type": "code",
   "execution_count": null,
   "metadata": {},
   "outputs": [],
   "source": [
    "# for unfiltered wes\n",
    "#!gsutil cp gs://fc-secure-012d088c-f039-4d36-bde5-ee9b1b76b912/51fcb10c-9a67-4ff9-b13c-d9667e2d49d0/HaplotypeCallerGvcf_GATK4/6611b28a-12c2-484e-a4a3-901708785f95/call-MergeGVCFs/SANGER_MV411_HAEMATOPOIETIC_AND_LYMPHOID_TISSUE.g.vcf.gz temp/\n",
    "wes, description = h.vcf_to_df(\"temp/SANGER_MV411_HAEMATOPOIETIC_AND_LYMPHOID_TISSUE.g.vcf.gz\")"
   ]
  },
  {
   "cell_type": "code",
   "execution_count": null,
   "metadata": {},
   "outputs": [],
   "source": [
    "# for filtered wes\n",
    "#! gsutil cp gs://fc-secure-012d088c-f039-4d36-bde5-ee9b1b76b912/d953cc3f-7941-4426-bb44-a41992d57606/Cram2FilteredVcf/dc943e9d-aa73-4314-b43d-208a80319997/call-FilterVariantTranches/CDS-FInR9b_cnn_filtered.vcf.gz temp/\n",
    "wesfilt, description = h.vcf_to_df(\"temp/CDS-FInR9b_cnn_filtered.vcf.gz\")"
   ]
  },
  {
   "cell_type": "code",
   "execution_count": null,
   "metadata": {},
   "outputs": [],
   "source": [
    "# for somatic filtered wes\n",
    "somwesfilt = pd.read_csv('temp/mutations.'+release+'.all.tsv', sep='\\t')\n",
    "somwesfilt = somwesfilt[somwesfilt.DepMap_ID==\"ACH-000045\"]\n",
    "somwesfilt = somwesfilt.rename(columns=h.rename_mut)"
   ]
  },
  {
   "cell_type": "code",
   "execution_count": null,
   "metadata": {},
   "outputs": [],
   "source": [
    "# for somatic unfiltered wes\n",
    "#!gsutil cp gs://fc-secure-012d088c-f039-4d36-bde5-ee9b1b76b912/9e3cc501-3f08-47fb-87a5-0359febb833c/CGA_Production_Analysis_Workflow/72efd16d-fa2d-4d78-b7c7-81ec2a6d08e9/call-Oncotate_Task/CDS-FInR9b.MuTect1_SNV.MuTect2_INDEL.Strelka_INDEL.annotated.maf temp/\n",
    "somwes = pd.read_csv(\"temp/CDS-FInR9b.MuTect1_SNV.MuTect2_INDEL.Strelka_INDEL.annotated.maf\", sep='\\t')\n",
    "somwes = somwes.rename(columns=h.rename_mut)"
   ]
  },
  {
   "cell_type": "code",
   "execution_count": null,
   "metadata": {},
   "outputs": [],
   "source": [
    "# for strelka wes\n",
    "#!gsutil cp gs://fc-secure-012d088c-f039-4d36-bde5-ee9b1b76b912/9e3cc501-3f08-47fb-87a5-0359febb833c/CGA_Production_Analysis_Workflow/72efd16d-fa2d-4d78-b7c7-81ec2a6d08e9/call-Strelka/CDS-FInR9b.all.somatic.snvs.vcf temp/\n",
    "strelka, description = h.vcf_to_df(\"temp/CDS-FInR9b.all.somatic.snvs.vcf\", hasfilter=True,samples=['sample1_A','sample1_B'])\n",
    "#!gsutil cp gs://fc-secure-012d088c-f039-4d36-bde5-ee9b1b76b912/9e3cc501-3f08-47fb-87a5-0359febb833c/CGA_Production_Analysis_Workflow/72efd16d-fa2d-4d78-b7c7-81ec2a6d08e9/call-Strelka/CDS-FInR9b.all.somatic.indels.vcf temp/\n",
    "strelka2, description = h.vcf_to_df(\"temp/CDS-FInR9b.all.somatic.indels.vcf\",samples=['sample1_A','sample1_B'],hasfilter=True)\n",
    "strelka = pd.concat([strelka,strelka2], ignore_index=True,sort=False).sort_values(by=['chr','pos'])"
   ]
  },
  {
   "cell_type": "code",
   "execution_count": null,
   "metadata": {},
   "outputs": [],
   "source": [
    "# for mutect1 wes\n",
    "#!gsutil cp gs://fc-secure-012d088c-f039-4d36-bde5-ee9b1b76b912/9e3cc501-3f08-47fb-87a5-0359febb833c/CGA_Production_Analysis_Workflow/72efd16d-fa2d-4d78-b7c7-81ec2a6d08e9/call-Gather_Task/CDS-FInR9b.MuTect1.call_stats.txt temp/\n",
    "mutect1 = pd.read_csv('temp/CDS-FInR9b.MuTect1.call_stats.txt', sep='\\t', header=1, index_col=None)\n",
    "mutect1 = mutect1.rename(h.rename_mut)"
   ]
  },
  {
   "cell_type": "code",
   "execution_count": null,
   "metadata": {},
   "outputs": [],
   "source": [
    "# for mutect 2 wes\n",
    "#!gsutil cp gs://fc-secure-012d088c-f039-4d36-bde5-ee9b1b76b912/9e3cc501-3f08-47fb-87a5-0359febb833c/CGA_Production_Analysis_Workflow/72efd16d-fa2d-4d78-b7c7-81ec2a6d08e9/call-Gather_Task/CDS-FInR9b.MuTect2.call_stats.vcf temp/\n",
    "mutect2, description = h.vcf_to_df('temp/CDS-FInR9b.MuTect2.call_stats.vcf', hasfilter=True)"
   ]
  },
  {
   "cell_type": "code",
   "execution_count": null,
   "metadata": {},
   "outputs": [],
   "source": [
    "# for unfiltered wgs\n",
    "# for filtered wgs\n",
    "#! gsutil cp gs://fc-secure-bd7b8bc9-f665-4269-997e-5a402088a369/77dbe69a-509c-4618-a2bf-f809c1aea47a/liftover_workflows/2950a03d-c092-4355-b261-2e6eb50fca41/call-liftover/ccle_ACH-000045_liftover.vcf temp/\n",
    "wgsfilt, description = h.vcf_to_df('temp/ccle_ACH-000045_liftover.vcf')"
   ]
  },
  {
   "cell_type": "code",
   "execution_count": null,
   "metadata": {},
   "outputs": [],
   "source": [
    "data= {'wgsfilt': wgsfilt, 'mutect2': mutect2, 'mutect1': mutect1, 'strelka': strelka, 'somwes': somwes, 'somwesfilt': somwesfilt, 'wes': wes, 'rnaseq': rnaseq, 'rnaseqfilt': rnaseqfilt, 'wesfilt': wesfilt}"
   ]
  },
  {
   "cell_type": "code",
   "execution_count": null,
   "metadata": {},
   "outputs": [],
   "source": [
    "mutset = {}\n",
    "for i,v in data.items():\n",
    "    chrom = v.chr.tolist()\n",
    "    alt = v.alt.tolist()\n",
    "    pos = v.pos.tolist()\n",
    "    mutset[i] = set([str(chrom[i])+'_'+str(pos[i]) for i, a in enumerate(alt)])"
   ]
  },
  {
   "cell_type": "code",
   "execution_count": null,
   "metadata": {},
   "outputs": [],
   "source": [
    "len(mutset['wgsfilt'] & mutset['wesfilt']) / len(mutset['wesfilt']), len(mutset['wgsfilt']), len(mutset['wesfilt'])"
   ]
  },
  {
   "cell_type": "code",
   "execution_count": null,
   "metadata": {},
   "outputs": [],
   "source": [
    "len(mutset['rnaseqfilt']  & mutset['wesfilt']) / len(mutset['wesfilt'])"
   ]
  },
  {
   "cell_type": "code",
   "execution_count": null,
   "metadata": {},
   "outputs": [],
   "source": [
    "len(mutset['rnaseq']  & mutset['wesfilt']) / len(mutset['wesfilt'])"
   ]
  },
  {
   "cell_type": "code",
   "execution_count": null,
   "metadata": {},
   "outputs": [],
   "source": [
    "len(mutset['rnaseqfilt']  & mutset['rnaseq']) / len(mutset['rnaseq'])"
   ]
  },
  {
   "cell_type": "code",
   "execution_count": null,
   "metadata": {},
   "outputs": [],
   "source": [
    "len(mutset['wes']  & mutset['wesfilt']) / len(mutset['wesfilt'])"
   ]
  },
  {
   "cell_type": "code",
   "execution_count": null,
   "metadata": {},
   "outputs": [],
   "source": [
    "len(mutset['wes']  & mutset['wesfilt']) / len(mutset['wes'])\n",
    "# how many mutations is the cnn filtering.."
   ]
  },
  {
   "cell_type": "code",
   "execution_count": null,
   "metadata": {},
   "outputs": [],
   "source": [
    "len(mutset['wesfilt']), len(mutset['wes'])"
   ]
  },
  {
   "cell_type": "code",
   "execution_count": null,
   "metadata": {},
   "outputs": [],
   "source": [
    "len(mutset['strelka']), len(mutset['mutect1']), len(mutset['mutect2'])\n",
    "# how many mutations each contain and their similarity between each caller in cga"
   ]
  },
  {
   "cell_type": "code",
   "execution_count": null,
   "metadata": {},
   "outputs": [],
   "source": [
    "len(mutset['strelka'] & mutset['mutect1'] & mutset['mutect2'])"
   ]
  },
  {
   "cell_type": "code",
   "execution_count": null,
   "metadata": {},
   "outputs": [],
   "source": [
    "len(mutset['somwes']), len(mutset['somwesfilt']), len(mutset['somwesfilt'] & mutset['somwes'])\n",
    "# how many mutations each contain and their similarity between cga middle and cga end"
   ]
  },
  {
   "cell_type": "code",
   "execution_count": null,
   "metadata": {},
   "outputs": [],
   "source": [
    "len(mutset['somwes'] & mutset['mutect1']) / len(mutset['mutect1']), len(mutset['somwesfilt'] & mutset['mutect1']) / len(mutset['mutect1'])"
   ]
  },
  {
   "cell_type": "code",
   "execution_count": null,
   "metadata": {},
   "outputs": [],
   "source": [
    "len(mutset['somwes'] & mutset['mutect2']) / len(mutset['mutect2']), len(mutset['somwesfilt'] & mutset['mutect2']) / len(mutset['mutect2'])"
   ]
  },
  {
   "cell_type": "code",
   "execution_count": null,
   "metadata": {},
   "outputs": [],
   "source": [
    "len(mutset['somwes'] & mutset['strelka']) / len(mutset['strelka']), len(mutset['somwesfilt'] & mutset['strelka']) / len(mutset['strelka'])"
   ]
  },
  {
   "cell_type": "code",
   "execution_count": null,
   "metadata": {},
   "outputs": [],
   "source": [
    "len(mutset['somwes'] & mutset['wes']) / len(mutset['somwes']), len(mutset['wes'])"
   ]
  },
  {
   "cell_type": "code",
   "execution_count": null,
   "metadata": {},
   "outputs": [],
   "source": [
    "len(mutset['somwes'] & mutset['wesfilt']) / len(mutset['somwes']), len(mutset['wesfilt'])"
   ]
  },
  {
   "cell_type": "code",
   "execution_count": null,
   "metadata": {},
   "outputs": [],
   "source": [
    "len(mutset['somwesfilt'] & mutset['wesfilt']) / len(mutset['somwesfilt']), len(mutset['wesfilt'])\n",
    "# good agreement between wes hapcall and wes cga and we can see how much we recover once bad mutations get filtered!"
   ]
  },
  {
   "cell_type": "code",
   "execution_count": null,
   "metadata": {},
   "outputs": [],
   "source": [
    "len(mutset['somwes'] & mutset['wesfilt']), len(mutset['somwesfilt'] & mutset['wesfilt'])"
   ]
  },
  {
   "cell_type": "code",
   "execution_count": null,
   "metadata": {},
   "outputs": [],
   "source": [
    "len(mutset['somwes'] & mutset['wgsfilt']) / len(mutset['somwes'])"
   ]
  },
  {
   "cell_type": "code",
   "execution_count": null,
   "metadata": {},
   "outputs": [],
   "source": [
    "len(mutset['somwesfilt'] & mutset['wgsfilt']) / len(mutset['somwesfilt'])\n",
    "# good agreement between wgs hapcall and wes cga"
   ]
  },
  {
   "cell_type": "code",
   "execution_count": null,
   "metadata": {},
   "outputs": [],
   "source": [
    "len(mutset['somwesfilt'] & mutset['wes']) / len(mutset['somwesfilt']), len(mutset['wes'])\n",
    "# good agreement between wes hapcall and wes cga"
   ]
  },
  {
   "cell_type": "code",
   "execution_count": null,
   "metadata": {},
   "outputs": [],
   "source": [
    "#we don't have a good similarity wes/wgs, can it be because of slight differences in the base distances? can it be because of the mutation caller?\n",
    "len(set([i for i in mutset['wesfilt']]) & set([i for i in mutset['wgsfilt']]))/len(mutset['wesfilt'])"
   ]
  },
  {
   "cell_type": "code",
   "execution_count": null,
   "metadata": {},
   "outputs": [],
   "source": [
    "def locify(dat):\n",
    "    return ['chr'+d.split('_')[0]+':'+str(int(d.split('_')[1])-40)+'-'+str(int(d.split('_')[1])+40) for d in dat]"
   ]
  },
  {
   "cell_type": "code",
   "execution_count": null,
   "metadata": {},
   "outputs": [],
   "source": [
    "'chr6:27420132-27420212':'rna',\n",
    "'chr5:32089849-32089929':'del',\n",
    "'chr4:100574667-100574747':'wgs',\n",
    "'chr7:100643254-100643334':'wgs',\n",
    "'chr15:89070794-89070874':'wgs',\n",
    "'chr19:36120039-36120119':'snp',\n",
    "'chr20:31196288-31196368':'snp',\n",
    "'chr15:42343066-42343146':False,\n",
    "'chr11:6568654-6568734':'snp',\n",
    "\n",
    "'chr9:24543236-24543316':'snp',\n",
    "'chr15:23261902-23261982':'snp',\n",
    "'chr4:84255808-84255888':True,\n",
    "'chr13:76055619-76055699':'snp',\n",
    "'chrX:18969242-18969322':,\n",
    "'chr4:36152613-36152693':,\n",
    "'chr19:50354695-50354775':,\n",
    "'chr4:100574668-100574748':,\n",
    "'chr6:110763839-110763919':,\n",
    "'chr7:100648111-100648191':,\n",
    "'chr5:70858221-70858301':,\n",
    "'chr3:120489593-120489673':,\n",
    "'chr2:27601639-27601719':,\n",
    "'chr4:77184865-77184945':,"
   ]
  },
  {
   "cell_type": "code",
   "execution_count": null,
   "metadata": {},
   "outputs": [],
   "source": [
    "locify(mutset['somwesfilt'] - mutset['wesfilt'])"
   ]
  },
  {
   "cell_type": "code",
   "execution_count": null,
   "metadata": {},
   "outputs": [],
   "source": [
    "def subset(df,mut):\n",
    "    return pd.concat([df[(df.chr==val.split('_')[0]) & (df.pos==int(val.split('_')[1]))] for val in mut])"
   ]
  },
  {
   "cell_type": "code",
   "execution_count": null,
   "metadata": {},
   "outputs": [],
   "source": [
    "a = subset(data['somwesfilt'],mutset['somwesfilt'] - mutset['wesfilt'])\n",
    "print(60-a.SangerRecalibWES_AC.isna().sum())\n",
    "a[~a.SangerRecalibWES_AC.isna()]"
   ]
  },
  {
   "cell_type": "markdown",
   "metadata": {},
   "source": [
    "####  we have 60-40=20 that the old pipeline has found but not us. of these 20; 7 were suspicious as they were not confirmed by any other sequencing methods, had low depth etc."
   ]
  },
  {
   "cell_type": "code",
   "execution_count": null,
   "metadata": {},
   "outputs": [],
   "source": [
    "res = subset(data['somwesfilt'],mutset['somwesfilt'] & mutset['wesfilt'])\n",
    "print(res.SangerRecalibWES_AC.isna().sum())\n",
    "res[res.SangerRecalibWES_AC.isna()]"
   ]
  },
  {
   "cell_type": "code",
   "execution_count": null,
   "metadata": {},
   "outputs": [],
   "source": [
    "# we have found 16 mutations that the old pipeline did not fouund, of these, only one was only confirmed by one sequencing method"
   ]
  },
  {
   "cell_type": "code",
   "execution_count": null,
   "metadata": {},
   "outputs": [],
   "source": [
    "subset(data['somwesfilt'],mutset['rnaseqfilt'] & mutset['somwesfilt']).RNAseq_AC.isna().sum() #113"
   ]
  },
  {
   "cell_type": "code",
   "execution_count": null,
   "metadata": {},
   "outputs": [],
   "source": [
    "subset(data['somwesfilt'],mutset['somwesfilt'] - mutset['rnaseqfilt']).RNAseq_AC.isna().sum() #113"
   ]
  },
  {
   "cell_type": "code",
   "execution_count": null,
   "metadata": {},
   "outputs": [],
   "source": [
    "# we have found 12 more rnaseq mutations and lost 9 rnaseq mutations"
   ]
  },
  {
   "cell_type": "code",
   "execution_count": null,
   "metadata": {},
   "outputs": [],
   "source": [
    "res = subset(data['somwesfilt'],mutset['somwesfilt'] - mutset['wgsfilt'])\n",
    "print(37-res.WGS_AC.isna().sum())"
   ]
  },
  {
   "cell_type": "code",
   "execution_count": null,
   "metadata": {},
   "outputs": [],
   "source": [
    "res"
   ]
  },
  {
   "cell_type": "markdown",
   "metadata": {},
   "source": [
    "### we have high allele freq mut which seems it might be that they get filtered by the cnn. two seemed quite shady"
   ]
  },
  {
   "cell_type": "code",
   "execution_count": null,
   "metadata": {},
   "outputs": [],
   "source": []
  }
 ],
 "metadata": {
  "kernelspec": {
   "display_name": "Python 3",
   "language": "python",
   "name": "python3"
  },
  "language_info": {
   "codemirror_mode": {
    "name": "ipython",
    "version": 3
   },
   "file_extension": ".py",
   "mimetype": "text/x-python",
   "name": "python",
   "nbconvert_exporter": "python",
   "pygments_lexer": "ipython3",
   "version": "3.7.3"
  },
  "latex_envs": {
   "LaTeX_envs_menu_present": true,
   "autoclose": false,
   "autocomplete": true,
   "bibliofile": "biblio.bib",
   "cite_by": "apalike",
   "current_citInitial": 1,
   "eqLabelWithNumbers": true,
   "eqNumInitial": 1,
   "hotkeys": {
    "equation": "Ctrl-E",
    "itemize": "Ctrl-I"
   },
   "labels_anchors": false,
   "latex_user_defs": false,
   "report_style_numbering": false,
   "user_envs_cfg": false
  },
  "toc": {
   "base_numbering": 1,
   "nav_menu": {},
   "number_sections": true,
   "sideBar": true,
   "skip_h1_title": false,
   "title_cell": "Table of Contents",
   "title_sidebar": "Contents",
   "toc_cell": false,
   "toc_position": {},
   "toc_section_display": true,
   "toc_window_display": false
  }
 },
 "nbformat": 4,
 "nbformat_minor": 2
}
