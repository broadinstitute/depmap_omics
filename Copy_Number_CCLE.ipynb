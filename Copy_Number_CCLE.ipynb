{
 "cells": [
  {
   "cell_type": "markdown",
   "metadata": {},
   "source": [
    "# Copy Number Pipeline"
   ]
  },
  {
   "cell_type": "code",
   "execution_count": 1,
   "metadata": {
    "scrolled": true
   },
   "outputs": [],
   "source": [
    "from __future__ import print_function\n",
    "import os.path\n",
    "import pandas as pd\n",
    "from IPython.display import Image,display\n",
    "import dalmatian as dm\n",
    "from IPython.core.display import HTML \n",
    "from src.CCLE_postp_function import *\n",
    "import sys\n",
    "sys.path.insert(0, '../JKBio/')\n",
    "import TerraFunction as terra\n",
    "%load_ext autoreload\n",
    "%autoreload 2\n",
    "%load_ext rpy2.ipython\n",
    "from taigapy import TaigaClient\n",
    "tc = TaigaClient()"
   ]
  },
  {
   "cell_type": "code",
   "execution_count": 2,
   "metadata": {},
   "outputs": [
    {
     "name": "stdout",
     "output_type": "stream",
     "text": [
      "/Users/gmiller/Documents/Work/GitHub/ccle_processing\n"
     ]
    }
   ],
   "source": [
    "cwd = os.getcwd()\n",
    "print(cwd)"
   ]
  },
  {
   "cell_type": "code",
   "execution_count": 3,
   "metadata": {},
   "outputs": [],
   "source": [
    "namespace1=\"broad-genomics-delivery\"\n",
    "workspace1=\"Getz_IBM_CellLines_Exomes\"\n",
    "namespace2=\"broad-firecloud-ccle\"\n",
    "workspace2=\"CCLE_DepMap_WES\"\n",
    "namespace3=\"broad-genomics-delivery\"\n",
    "workspace3=\"CCLE_DepMap_WES\"\n",
    "refnamespace=\"broad-firecloud-ccle\"\n",
    "refworkspace=\"DepMap_WES_CN_hg38\"\n",
    "source1=\"ibm\"\n",
    "source2=\"ccle\"\n",
    "source3=\"ccle\"\n",
    "source4=\"ccle\"\n",
    "sample_set_id = \"19Q4interim\"\n",
    "release = sample_set_id"
   ]
  },
  {
   "cell_type": "code",
   "execution_count": 4,
   "metadata": {},
   "outputs": [],
   "source": [
    "wm1 = dm.WorkspaceManager(namespace1, workspace1)\n",
    "wm2 = dm.WorkspaceManager(namespace2, workspace2)\n",
    "wm3 = dm.WorkspaceManager(namespace3, workspace3)\n",
    "wm4 = dm.WorkspaceManager(namespace4, workspace4)\n",
    "\n",
    "refwm = dm.WorkspaceManager(refnamespace, refworkspace)"
   ]
  },
  {
   "cell_type": "code",
   "execution_count": null,
   "metadata": {},
   "outputs": [],
   "source": [
    "# ibmsamples= ['ibm_ACH-002446',\n",
    "#  'ibm_ACH-000658',\n",
    "#  'ibm_ACH-001802',\n",
    "#  'ibm_ACH-002015',\n",
    "#  'ibm_ACH-002018',\n",
    "#  'ibm_ACH-001279',\n",
    "#  'ibm_ACH-001862']\n",
    "\n",
    "# othersamples = [\"ccle_ACH-001172\", \"ccle_ACH-001577\", \"ccle_ACH-001961\",\n",
    "#                 \"ccle_ACH-001993\", \"ccle_ACH-002017\", \"ccle_ACH-002044\",\n",
    "#                 \"ccle_ACH-002066\", \"ccle_ACH-002462\", \"ccle_ACH-002463\",\n",
    "#                 \"ccle_ACH-002464\", \"ccle_ACH-002465\", \"ccle_ACH-002466\",\n",
    "#                 \"ccle_ACH-002467\", \"ccle_ACH-002475\", \"ccle_ACH-002476\"]"
   ]
  },
  {
   "cell_type": "code",
   "execution_count": null,
   "metadata": {},
   "outputs": [],
   "source": [
    "newsample = createDatasetWithNewCellLines(refwm, sample_set_id, wm3, source3)"
   ]
  },
  {
   "cell_type": "code",
   "execution_count": 5,
   "metadata": {},
   "outputs": [
    {
     "data": {
      "text/plain": [
       "['ibm_ACH-002446',\n",
       " 'ibm_ACH-000658',\n",
       " 'ibm_ACH-001802',\n",
       " 'ibm_ACH-002015',\n",
       " 'ibm_ACH-002018',\n",
       " 'ibm_ACH-001279',\n",
       " 'ibm_ACH-001862',\n",
       " 'ccle_ACH-001795',\n",
       " 'ccle_ACH-001510',\n",
       " 'ccle_ACH-001511',\n",
       " 'ccle_ACH-001844',\n",
       " 'ccle_ACH-001846',\n",
       " 'ccle_ACH-001543',\n",
       " 'ccle_ACH-002011',\n",
       " 'ccle_ACH-001619',\n",
       " 'ccle_ACH-001636',\n",
       " 'ccle_ACH-000246',\n",
       " 'ccle_ACH-000272',\n",
       " 'ccle_ACH-001858',\n",
       " 'ccle_ACH-001863',\n",
       " 'ccle_ACH-001864']"
      ]
     },
     "execution_count": 5,
     "metadata": {},
     "output_type": "execute_result"
    }
   ],
   "source": [
    "# this gives us the list of samples that exist in the sample set\n",
    "refwm.get_sample_sets()[\"samples\"][\"19Q3\"] "
   ]
  },
  {
   "cell_type": "code",
   "execution_count": null,
   "metadata": {},
   "outputs": [],
   "source": []
  },
  {
   "cell_type": "code",
   "execution_count": null,
   "metadata": {},
   "outputs": [],
   "source": [
    "terra.addToSampleSet(refwm,sample_set_id,othersamples)"
   ]
  },
  {
   "cell_type": "markdown",
   "metadata": {},
   "source": [
    "# ReaLign in HG38"
   ]
  },
  {
   "cell_type": "code",
   "execution_count": null,
   "metadata": {},
   "outputs": [],
   "source": [
    "bamtoubam= \"BamToUnmappedRGBams_MC\"\n",
    "ubamtofilelist = \"Generate_uBAM_File_List\"\n",
    "realign=\"Realign_WES_GATK4\""
   ]
  },
  {
   "cell_type": "code",
   "execution_count": null,
   "metadata": {},
   "outputs": [],
   "source": [
    "bamtoubam = refwm.get_config(bamtoubam)"
   ]
  },
  {
   "cell_type": "code",
   "execution_count": null,
   "metadata": {},
   "outputs": [],
   "source": [
    "refwm.update_config(bamtoubam)\n",
    "subid = refwm.create_submission(bamtoubam['name'],sample_set_id,\"sample_set\",\"this.samples\")"
   ]
  },
  {
   "cell_type": "code",
   "execution_count": null,
   "metadata": {},
   "outputs": [],
   "source": [
    "terra.waitForSubmission(refwm, subid)"
   ]
  },
  {
   "cell_type": "code",
   "execution_count": null,
   "metadata": {},
   "outputs": [],
   "source": [
    "ubamtofilelist = refwm.get_config(ubamtofilelist)\n",
    "ubamtofilelist"
   ]
  },
  {
   "cell_type": "code",
   "execution_count": null,
   "metadata": {},
   "outputs": [],
   "source": [
    "refwm.update_config(ubamtofilelist)\n",
    "subid = refwm.create_submission(ubamtofilelist['name'],sample_set_id,\"sample_set\",\"this.samples\")"
   ]
  },
  {
   "cell_type": "code",
   "execution_count": null,
   "metadata": {},
   "outputs": [],
   "source": [
    "terra.waitForSubmission(refwm, subid)"
   ]
  },
  {
   "cell_type": "code",
   "execution_count": null,
   "metadata": {
    "scrolled": true
   },
   "outputs": [],
   "source": [
    "realign = refwm.get_config(realign)\n",
    "realign"
   ]
  },
  {
   "cell_type": "code",
   "execution_count": null,
   "metadata": {
    "scrolled": true
   },
   "outputs": [],
   "source": [
    "refwm.update_config(realign)\n",
    "subid = refwm.create_submission(realign['name'],sample_set_id,\"sample_set\",\"this.samples\")"
   ]
  },
  {
   "cell_type": "code",
   "execution_count": null,
   "metadata": {
    "scrolled": true
   },
   "outputs": [],
   "source": [
    "terra.waitForSubmission(refwm, subid)"
   ]
  },
  {
   "cell_type": "code",
   "execution_count": null,
   "metadata": {},
   "outputs": [],
   "source": [
    "refwm.create_submission()"
   ]
  },
  {
   "cell_type": "code",
   "execution_count": null,
   "metadata": {},
   "outputs": [],
   "source": [
    "CNV_woXX = refwm.get_config(\"CNV_sample_XX\")\n",
    "CNV_woXX"
   ]
  },
  {
   "cell_type": "code",
   "execution_count": null,
   "metadata": {},
   "outputs": [],
   "source": [
    "refwm.update_config(CNV_woXX)\n",
    "submission_id = refwm.create_submission(CNV_woXX['name'],etype='sample_set',entity=sample_set_id,expression='this.samples')"
   ]
  },
  {
   "cell_type": "code",
   "execution_count": null,
   "metadata": {},
   "outputs": [],
   "source": [
    "terra.waitForSubmission(refwm,submission_id)"
   ]
  },
  {
   "cell_type": "code",
   "execution_count": 6,
   "metadata": {
    "scrolled": true
   },
   "outputs": [
    {
     "data": {
      "text/plain": [
       "{'deleted': False,\n",
       " 'inputs': {'aggregate_CN_segments_wrkflw.aggregate_CN_segments.disk_space': '10',\n",
       "  'aggregate_CN_segments_wrkflw.aggregate_CN_segments.num_preempt': '5',\n",
       "  'aggregate_CN_segments_wrkflw.aggregate_CN_segments.aggregate_seg_files_script': 'workspace.cn_single_file_script',\n",
       "  'aggregate_CN_segments_wrkflw.aggregate_CN_segments.memory': '5',\n",
       "  'aggregate_CN_segments_wrkflw.aggregate_CN_segments.sample_set_id': 'this.name',\n",
       "  'aggregate_CN_segments_wrkflw.aggregate_CN_segments.sample_seg_files': 'this.samples.called_copy_ratio_segments_tumor'},\n",
       " 'methodConfigVersion': 4,\n",
       " 'methodRepoMethod': {'methodName': 'Aggregate_CN_seg_files',\n",
       "  'methodVersion': 2,\n",
       "  'methodNamespace': 'gkugener',\n",
       "  'methodUri': 'agora://gkugener/Aggregate_CN_seg_files/2',\n",
       "  'sourceRepo': 'agora'},\n",
       " 'name': 'Aggregate_CN_seg_files',\n",
       " 'namespace': 'gkugener',\n",
       " 'outputs': {'aggregate_CN_segments_wrkflw.aggregate_CN_segments.combined_cn_file': 'this.combined_seg_file'},\n",
       " 'prerequisites': {},\n",
       " 'rootEntityType': 'sample_set'}"
      ]
     },
     "execution_count": 6,
     "metadata": {},
     "output_type": "execute_result"
    }
   ],
   "source": [
    "aggregate = refwm.get_config(\"Aggregate_CN_seg_files\")\n",
    "aggregate"
   ]
  },
  {
   "cell_type": "code",
   "execution_count": 7,
   "metadata": {},
   "outputs": [
    {
     "name": "stdout",
     "output_type": "stream",
     "text": [
      "Successfully created submission 18bc4877-f03c-4063-bf03-b27b5b12d1f1.\n"
     ]
    }
   ],
   "source": [
    "submission_id = refwm.create_submission(aggregate['name'],entity=sample_set_id)"
   ]
  },
  {
   "cell_type": "code",
   "execution_count": 8,
   "metadata": {},
   "outputs": [
    {
     "name": "stdout",
     "output_type": "stream",
     "text": [
      "1.0 of jobs Succeeded in submission 0.sion 0. 7 mn elapsed.\n"
     ]
    },
    {
     "data": {
      "text/plain": [
       "[]"
      ]
     },
     "execution_count": 8,
     "metadata": {},
     "output_type": "execute_result"
    }
   ],
   "source": [
    "terra.waitForSubmission(refwm,submission_id)"
   ]
  },
  {
   "cell_type": "code",
   "execution_count": 12,
   "metadata": {},
   "outputs": [
    {
     "data": {
      "text/plain": [
       "'gs://fc-secure-d2a2d895-a7af-4117-bdc7-652d7d268324/18bc4877-f03c-4063-bf03-b27b5b12d1f1/aggregate_CN_segments_wrkflw/bfc55fdc-5bd3-4837-a0d7-915a26bd7d50/call-aggregate_CN_segments/19Q3.called.seg'"
      ]
     },
     "execution_count": 12,
     "metadata": {},
     "output_type": "execute_result"
    }
   ],
   "source": [
    "aggregated = refwm.get_entities('sample_set').loc[sample_set_id][\"combined_seg_file\"]\n",
    "aggregated"
   ]
  },
  {
   "cell_type": "code",
   "execution_count": null,
   "metadata": {},
   "outputs": [],
   "source": [
    "! gsutil cp $aggregated \"temp/cnv_ccle.called.seg\""
   ]
  },
  {
   "cell_type": "code",
   "execution_count": null,
   "metadata": {
    "scrolled": true
   },
   "outputs": [],
   "source": [
    "%%R\n",
    "source('../JKBio/gkugener/RScripts/load_libraries_and_annotations.R')"
   ]
  },
  {
   "cell_type": "code",
   "execution_count": null,
   "metadata": {
    "scrolled": true
   },
   "outputs": [],
   "source": [
    "%%R\n",
    "genome_version <- 'hg38'\n",
    "release <- '19Q3'\n",
    "hg38_cyto_band_reference <- 'data/hg38_cytoband.gz'\n",
    "new_samples_copy_number_broad_wes <- 'temp/cnv_ccle.called.seg'"
   ]
  },
  {
   "cell_type": "code",
   "execution_count": null,
   "metadata": {},
   "outputs": [],
   "source": [
    "%%R\n",
    "source(\"CCLE_postp_function.R\")"
   ]
  },
  {
   "cell_type": "code",
   "execution_count": null,
   "metadata": {
    "scrolled": true
   },
   "outputs": [],
   "source": [
    "%%R\n",
    "# Previous release copy number profiles. This line will need to be updated as well\n",
    "wes.priority.cn.seg.profiles <- taigr::load.from.taiga(data.name='segmented-cn-wes-prioritzed-7fe1', data.file='wes.19Q3.segmented') %>%\n",
    "  dplyr::select(DepMap_ID, Chromosome, Start, End, Num_Probes, Segment_Mean, Source)"
   ]
  },
  {
   "cell_type": "markdown",
   "metadata": {},
   "source": [
    "## If want to reprocess something"
   ]
  },
  {
   "cell_type": "code",
   "execution_count": null,
   "metadata": {},
   "outputs": [],
   "source": [
    "#%%R\n",
    "#segments_unfiltered <- readr::read_csv('temp/wes.19Q3.segmented.cn')"
   ]
  },
  {
   "cell_type": "code",
   "execution_count": null,
   "metadata": {},
   "outputs": [],
   "source": [
    "prevversion = '5c76b219-404f-479a-9b7c-7cf5699fc161_aggregate_CN_segments_wrkflw_c0119f63-73d2-4f47-a6ec-88f24f74f3f2_call-aggregate_CN_segments_19Q3.called.seg'"
   ]
  },
  {
   "cell_type": "code",
   "execution_count": null,
   "metadata": {
    "scrolled": true
   },
   "outputs": [],
   "source": [
    "%%R\n",
    "segments <- processSegments(new_samples_copy_number_broad_wes)\n",
    "segments <- filterForCCLE(segments)\n",
    "segments <- interpolateGapsInSegmented(segments)$segs\n",
    "segments <- extendEndsOfSegments(segments,'../JKBio/data/hg38_cytoband.gz')\n",
    "print(segments)\n",
    "print(head(wes.priority.cn.seg.profiles))\n",
    "segments_unfiltered <- reprioritizeData(segments, wes.priority.cn.seg.profiles)\n",
    "# Fill in the gaps on the entire dataset\n",
    "# Extend start sites to 1, end sites to the end of the chromosome?"
   ]
  },
  {
   "cell_type": "code",
   "execution_count": null,
   "metadata": {},
   "outputs": [],
   "source": [
    "%%R\n",
    "embargoed <- \"WES_embargoed.txt\"\n",
    "blacklisted <- \"blacklist.txt\""
   ]
  },
  {
   "cell_type": "code",
   "execution_count": null,
   "metadata": {},
   "outputs": [],
   "source": [
    "%%R\n",
    "# TODO: IF seqnames (CHR) are 1-9 values, append \"chr\" in front of each! (bulk)\n",
    "# ifelse(grepl(\"[0-9]+\", new_copy_number$ChrChromosome), \"chr\"+, \"no\")\n",
    "segments_blacklisted <- filterBlackListedLine(filepath=blacklisted,segments_unfiltered)\n",
    "segments_embargoed <- filterBlackListedLine(filepath=embargoed,segments_unfiltered)"
   ]
  },
  {
   "cell_type": "code",
   "execution_count": null,
   "metadata": {},
   "outputs": [],
   "source": [
    "%%R\n",
    "write.table(segments_unfiltered, file = paste0(\"temp/wes.\",release,\".segmented.cn1\"), sep = ',', quote = F, row.names = F) "
   ]
  },
  {
   "cell_type": "code",
   "execution_count": null,
   "metadata": {},
   "outputs": [],
   "source": [
    "%%R\n",
    "entrezgenes <- generateEntrezGenes()"
   ]
  },
  {
   "cell_type": "code",
   "execution_count": null,
   "metadata": {},
   "outputs": [],
   "source": [
    "%%R\n",
    "head(corner(entrezgenes))"
   ]
  },
  {
   "cell_type": "code",
   "execution_count": null,
   "metadata": {},
   "outputs": [],
   "source": [
    "%%R\n",
    "res <- generateGeneLevelMatrixFromSegments(entrezgenes, segments_unfiltered)"
   ]
  },
  {
   "cell_type": "code",
   "execution_count": null,
   "metadata": {},
   "outputs": [],
   "source": [
    "%%R\n",
    "genematrix_unfiltered <- res$gene_level_data_hg38\n",
    "corner(genematrix_unfiltered)"
   ]
  },
  {
   "cell_type": "code",
   "execution_count": null,
   "metadata": {},
   "outputs": [],
   "source": [
    "%%R\n",
    "write.table(genematrix_unfiltered, file = paste0('temp/wes.',release,'.gene.cn'), \n",
    "sep = ',', quote = F, row.names = T)"
   ]
  },
  {
   "cell_type": "markdown",
   "metadata": {},
   "source": [
    "## Validation step"
   ]
  },
  {
   "cell_type": "code",
   "execution_count": null,
   "metadata": {},
   "outputs": [],
   "source": [
    "genecn = pd.read_csv('temp/wes.'+release+'.gene.cn', sep = ',')"
   ]
  },
  {
   "cell_type": "code",
   "execution_count": null,
   "metadata": {},
   "outputs": [],
   "source": [
    "prevsegmentcn = pd.read_csv('temp/cnv_ccle.called.seg', sep = '\\t')\n",
    "segmentcn = pd.read_csv('temp/wes.'+release+'.segmented.cn', sep = ',')"
   ]
  },
  {
   "cell_type": "code",
   "execution_count": null,
   "metadata": {},
   "outputs": [],
   "source": [
    "genecn.index = [i[-1] for i in genecn.index.str.split('_').tolist()]\n",
    "segmentcn[\"DepMap_ID\"] = [i[-1] for i in segmentcn[\"DepMap_ID\"].str.split('_').tolist()]"
   ]
  },
  {
   "cell_type": "code",
   "execution_count": null,
   "metadata": {},
   "outputs": [],
   "source": [
    "embargoed = \"WES_embargoed.txt\"\n",
    "embargoed = [line.rstrip('\\n') for line in open(embargoed)]\n",
    "blacklisted = \"blacklist.txt\"\n",
    "blacklisted = [line.rstrip('\\n') for line in open(blacklisted)]"
   ]
  },
  {
   "cell_type": "code",
   "execution_count": null,
   "metadata": {},
   "outputs": [],
   "source": [
    "prev = set(tc.get(name='segmented-cn-wes-prioritzed-7fe1', version=27, file='wes.19Q3interim.gene').index.values.tolist())\n",
    "new1 = set(genecn.index.values.tolist())\n",
    "new2 = set(segmentcn['Sample'].values.tolist())\n",
    "print(len(prev), len(prev & new1), len(new1), len(new1 & new2))"
   ]
  },
  {
   "cell_type": "code",
   "execution_count": null,
   "metadata": {
    "scrolled": true
   },
   "outputs": [],
   "source": [
    "checkAmountOfSegments(segmentcn,thresh = 750)"
   ]
  },
  {
   "cell_type": "code",
   "execution_count": null,
   "metadata": {},
   "outputs": [],
   "source": [
    "checkGeneChangeAccrossAll(genecn, thresh=1.5)"
   ]
  },
  {
   "cell_type": "code",
   "execution_count": null,
   "metadata": {},
   "outputs": [],
   "source": [
    "newsamples =  list(set(segmentcn[\"Sample\"].tolist()))"
   ]
  },
  {
   "cell_type": "code",
   "execution_count": null,
   "metadata": {
    "scrolled": true
   },
   "outputs": [],
   "source": [
    "segmentcn[segmentcn[\"DepMap_ID\"]==\"ACH-000658\"]"
   ]
  },
  {
   "cell_type": "code",
   "execution_count": null,
   "metadata": {},
   "outputs": [],
   "source": [
    "newsamples= refwm.get_sample_sets().loc[sample_set_id].samples"
   ]
  },
  {
   "cell_type": "code",
   "execution_count": null,
   "metadata": {
    "scrolled": true
   },
   "outputs": [],
   "source": [
    "samples = refwm.get_samples()\n",
    "plots = samples.loc[samples.index.isin(newsamples)][\"modeled_segments_plot_tumor\"].values\n",
    "for plot in plots:\n",
    "    ! gsutil cp $plot temp/"
   ]
  },
  {
   "cell_type": "code",
   "execution_count": null,
   "metadata": {
    "scrolled": false
   },
   "outputs": [],
   "source": [
    "for plot in plots:\n",
    "    display(Image('temp/'+plot.split('/')[-1]))"
   ]
  },
  {
   "cell_type": "code",
   "execution_count": null,
   "metadata": {},
   "outputs": [],
   "source": [
    "genecn.to_csv('temp/wes.'+release+'.gene.cn')\n",
    "segmentcn.to_csv('temp/wes.'+release+'.segmented.cn')"
   ]
  },
  {
   "cell_type": "code",
   "execution_count": null,
   "metadata": {},
   "outputs": [],
   "source": [
    "## for genecn removing first blacklisted, then embargoed, to create two datasets\n",
    "genecn = genecn.apply(lambda x: np.log2(1+x))\n",
    "for i in genecn.index:\n",
    "    if i in blacklisted:\n",
    "        genecn = genecn.drop(i)\n",
    "genecn.to_csv('temp/wes.'+release+'.blacklisted.gene.cn')\n",
    "for i in genecn.index:\n",
    "    if i in embargoed:\n",
    "        genecn = genecn.drop(i)\n",
    "genecn.to_csv('temp/wes.'+release+'.embargoed.gene.cn')"
   ]
  },
  {
   "cell_type": "code",
   "execution_count": null,
   "metadata": {},
   "outputs": [],
   "source": [
    "## for segment removing first blacklisted, then embargoed, to create two datasets\n",
    "segmentcn['Segment_Mean'] = segmentcn['Segment_Mean'].apply(lambda x: np.log2(1+x))\n",
    "for i, val in segmentcn.iterrows():\n",
    "    if val['DepMap_ID'] in blacklisted:\n",
    "        segmentcn = segmentcn.drop(i)\n",
    "segmentcn.to_csv('temp/wes.'+release+'.blacklisted.segmented.cn')\n",
    "for i, val in segmentcn.iterrows():\n",
    "    if val['DepMap_ID'] in embargoed:\n",
    "        segmentcn = segmentcn.drop(i)\n",
    "segmentcn.to_csv('temp/wes.'+release+'.embargoed.segmented.cn')"
   ]
  },
  {
   "cell_type": "code",
   "execution_count": null,
   "metadata": {},
   "outputs": [],
   "source": [
    "segmentcn"
   ]
  },
  {
   "cell_type": "markdown",
   "metadata": {},
   "source": [
    "# Upload to taiga"
   ]
  },
  {
   "cell_type": "code",
   "execution_count": null,
   "metadata": {
    "scrolled": true
   },
   "outputs": [],
   "source": [
    "tc.update_dataset(dataset_permaname=\"segmented-cn-wes-prioritzed-7fe1\", \n",
    "                  upload_file_path_dict={'temp/wes.'+release+'.gene.cn': 'NumericMatrixCSV',\n",
    "                                        'temp/wes.'+release+'.segmented.cn': 'TableCSV',\n",
    "                                        'temp/wes.'+release+'.embargoed.gene.cn': 'NumericMatrixCSV','temp/wes.'+release+'.embargoed.segmented.cn': 'TableCSV',\n",
    "                                         'temp/wes.'+release+'.blacklisted.gene.cn': 'NumericMatrixCSV',\n",
    "                                         'temp/wes.'+release+'.blacklisted.segmented.cn': 'TableCSV'},\n",
    "                dataset_description=\"updating to \"+release+\". Some cells lines have been flagged as: \\n \\\n",
    "                - having bad looking copy ration plots = [] \\n \\\n",
    "                 - having too many segments = [] \\n \\\n",
    "                  - Genes having a similar CN value accross all []\",\n",
    "                 )"
   ]
  }
 ],
 "metadata": {
  "kernelspec": {
   "display_name": "Python 3",
   "language": "python",
   "name": "python3"
  },
  "language_info": {
   "codemirror_mode": {
    "name": "ipython",
    "version": 3
   },
   "file_extension": ".py",
   "mimetype": "text/x-python",
   "name": "python",
   "nbconvert_exporter": "python",
   "pygments_lexer": "ipython3",
   "version": "3.7.4"
  }
 },
 "nbformat": 4,
 "nbformat_minor": 2
}
