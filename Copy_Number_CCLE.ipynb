{
 "cells": [
  {
   "cell_type": "markdown",
   "metadata": {},
   "source": [
    "# Copy Number Pipeline"
   ]
  },
  {
   "cell_type": "code",
   "execution_count": 7,
   "metadata": {},
   "outputs": [
    {
     "name": "stdout",
     "output_type": "stream",
     "text": [
      "you need to have installed JKBio in the same folder as ccle_processing\n"
     ]
    },
    {
     "ename": "ModuleNotFoundError",
     "evalue": "No module named 'rpy2'",
     "output_type": "error",
     "traceback": [
      "\u001b[0;31m---------------------------------------------------------------------------\u001b[0m",
      "\u001b[0;31mModuleNotFoundError\u001b[0m                       Traceback (most recent call last)",
      "\u001b[0;32m<ipython-input-7-2517b33e9270>\u001b[0m in \u001b[0;36m<module>\u001b[0;34m\u001b[0m\n\u001b[1;32m     10\u001b[0m \u001b[0;32mfrom\u001b[0m \u001b[0msrc\u001b[0m\u001b[0;34m.\u001b[0m\u001b[0mCCLE_postp_function\u001b[0m \u001b[0;32mimport\u001b[0m \u001b[0;34m*\u001b[0m\u001b[0;34m\u001b[0m\u001b[0;34m\u001b[0m\u001b[0m\n\u001b[1;32m     11\u001b[0m \u001b[0;32mimport\u001b[0m \u001b[0mTerraFunction\u001b[0m \u001b[0;32mas\u001b[0m \u001b[0mterra\u001b[0m\u001b[0;34m\u001b[0m\u001b[0;34m\u001b[0m\u001b[0m\n\u001b[0;32m---> 12\u001b[0;31m \u001b[0;32mimport\u001b[0m \u001b[0mrpy2\u001b[0m\u001b[0;34m\u001b[0m\u001b[0;34m\u001b[0m\u001b[0m\n\u001b[0m\u001b[1;32m     13\u001b[0m \u001b[0mget_ipython\u001b[0m\u001b[0;34m(\u001b[0m\u001b[0;34m)\u001b[0m\u001b[0;34m.\u001b[0m\u001b[0mrun_line_magic\u001b[0m\u001b[0;34m(\u001b[0m\u001b[0;34m'load_ext'\u001b[0m\u001b[0;34m,\u001b[0m \u001b[0;34m'autoreload'\u001b[0m\u001b[0;34m)\u001b[0m\u001b[0;34m\u001b[0m\u001b[0;34m\u001b[0m\u001b[0m\n\u001b[1;32m     14\u001b[0m \u001b[0mget_ipython\u001b[0m\u001b[0;34m(\u001b[0m\u001b[0;34m)\u001b[0m\u001b[0;34m.\u001b[0m\u001b[0mrun_line_magic\u001b[0m\u001b[0;34m(\u001b[0m\u001b[0;34m'autoreload'\u001b[0m\u001b[0;34m,\u001b[0m \u001b[0;34m'2'\u001b[0m\u001b[0;34m)\u001b[0m\u001b[0;34m\u001b[0m\u001b[0;34m\u001b[0m\u001b[0m\n",
      "\u001b[0;31mModuleNotFoundError\u001b[0m: No module named 'rpy2'"
     ]
    }
   ],
   "source": [
    "from __future__ import print_function\n",
    "import os.path\n",
    "import numpy as np\n",
    "import pandas as pd\n",
    "from IPython.display import Image,display\n",
    "import dalmatian as dm\n",
    "from IPython.core.display import HTML \n",
    "import sys\n",
    "sys.path.insert(0, '..')\n",
    "from src.CCLE_postp_function import *\n",
    "import TerraFunction as terra\n",
    "import rpy2\n",
    "%load_ext autoreload\n",
    "%autoreload 2\n",
    "%load_ext rpy2.ipython\n",
    "from taigapy import TaigaClient\n",
    "tc = TaigaClient()\n",
    "from gsheets import Sheets\n",
    "sheets = Sheets.from_files('~/.client_secret.json', '~/.storage.json')\n",
    "replace = {'T': 'Tumor', 'N': 'Normal', 'm': 'Unknown', 'L': 'Unknown'}"
   ]
  },
  {
   "cell_type": "code",
   "execution_count": null,
   "metadata": {},
   "outputs": [],
   "source": [
    "samplesetname = \"19Q4\"\n",
    "prevname = '19Q3'\n",
    "prevprevname ='19Q2'\n",
    "virtual_public='public-19q4-93d9'\n",
    "virtual_dmc='dmc-19q4-d5f3'\n",
    "virtual_internal='internal-19q4-fb11'\n",
    "\n",
    "workspace1=\"broad-genomics-delivery/Getz_IBM_CellLines_Exomes\"\n",
    "workspace2=\"broad-firecloud-ccle/CCLE_DepMap_WES\"\n",
    "workspace3=\"broad-genomics-delivery/CCLE_DepMap_WES\"\n",
    "refworkspace=\"broad-firecloud-ccle/DepMap_WES_CN_hg38\"\n",
    "source1=\"ibm\"\n",
    "source2=\"ccle\"\n",
    "source3=\"ccle\"\n",
    "release = samplesetname\n",
    "sheeturl = \"https://docs.google.com/spreadsheets/d/115TUgA1t_mD32SnWAGpW9OKmJ2W5WYAOs3SuSdedpX4\""
   ]
  },
  {
   "cell_type": "code",
   "execution_count": null,
   "metadata": {},
   "outputs": [],
   "source": [
    "%%R\n",
    "release <- '19Q4'\n",
    "prevname <- '19Q3'\n",
    "genome_version <- 'hg38'"
   ]
  },
  {
   "cell_type": "code",
   "execution_count": null,
   "metadata": {},
   "outputs": [],
   "source": [
    "wm1 = dm.WorkspaceManager(workspace1)\n",
    "wm2 = dm.WorkspaceManager(workspace2)\n",
    "wm3 = dm.WorkspaceManager(workspace3)\n",
    "\n",
    "refwm = dm.WorkspaceManager(refworkspace)"
   ]
  },
  {
   "cell_type": "code",
   "execution_count": null,
   "metadata": {},
   "outputs": [],
   "source": [
    "extract_to_change = {'ref_bams':'WES_bam'}"
   ]
  },
  {
   "cell_type": "code",
   "execution_count": null,
   "metadata": {},
   "outputs": [],
   "source": [
    "newsample = createDatasetWithNewCellLines(refwm, samplesetname, wmfroms = [wm1, wm2, wm3], sources=[source1, source2, source3], gsfolderto='gs://ccle_bams/wes/', match='ACH', participantslicepos=10, accept_unknowntypes=True, extract = extract_to_change, dry_run = True)"
   ]
  },
  {
   "cell_type": "markdown",
   "metadata": {},
   "source": [
    "## Check that we have all the cell lines we expect for this release\n",
    "This involves comparing to the list in the Google sheet \"Cell Line Profiling Status.\""
   ]
  },
  {
   "cell_type": "code",
   "execution_count": null,
   "metadata": {},
   "outputs": [],
   "source": [
    "# this function may not work - it hasn't been tested\n",
    "url = 'https://docs.google.com/spreadsheets/d/1qus-9TKzqzwUMNWp8S1QP4s4-3SsMo2vuQRZrNXf7ag/edit?ts=5db85e27#gid=0&fvid=1627883727'\n",
    "\n",
    "compareToCuratedGS(url, sample = newsample[0], samplesetname = samplesetname, colname = 'CN New to internal')"
   ]
  },
  {
   "cell_type": "markdown",
   "metadata": {},
   "source": [
    "# run Terra pipeline"
   ]
  },
  {
   "cell_type": "code",
   "execution_count": null,
   "metadata": {},
   "outputs": [],
   "source": [
    "gsheet.index = gsheet['DepMap ID']\n",
    "new_cn = gsheet[gsheet['CN New to internal'] == '19Q4tent']"
   ]
  },
  {
   "cell_type": "code",
   "execution_count": null,
   "metadata": {},
   "outputs": [],
   "source": [
    "terra_participants = refwm.get_samples()['participant'].tolist()\n",
    "terra_participants"
   ]
  },
  {
   "cell_type": "code",
   "execution_count": null,
   "metadata": {},
   "outputs": [],
   "source": [
    "set(new_cn.index.tolist()) - set(terra_participants)\n",
    "## NOTE: we do not want to include ACH-002446-cas9 in this release"
   ]
  },
  {
   "cell_type": "code",
   "execution_count": null,
   "metadata": {},
   "outputs": [],
   "source": [
    "bamtoubam= \"BamToUnmappedRGBams_MC\"\n",
    "ubamtofilelist = \"Generate_uBAM_File_List\"\n",
    "realign=\"Realign_WES_GATK4\""
   ]
  },
  {
   "cell_type": "code",
   "execution_count": null,
   "metadata": {},
   "outputs": [],
   "source": [
    "subid = refwm.create_submission(bamtoubam,samplesetname,\"sample_set\",\"this.samples\")\n",
    "terra.waitForSubmission(refworkspace, subid)"
   ]
  },
  {
   "cell_type": "code",
   "execution_count": null,
   "metadata": {},
   "outputs": [],
   "source": [
    "subid = refwm.create_submission(ubamtofilelist,samplesetname,\"sample_set\",\"this.samples\")\n",
    "terra.waitForSubmission(refworkspace, subid)"
   ]
  },
  {
   "cell_type": "code",
   "execution_count": null,
   "metadata": {},
   "outputs": [],
   "source": [
    "subid = refwm.create_submission(realign,samplesetname,\"sample_set\",\"this.samples\")\n",
    "terra.waitForSubmission(refworkspace, subid)"
   ]
  },
  {
   "cell_type": "code",
   "execution_count": null,
   "metadata": {},
   "outputs": [],
   "source": [
    "submission_id= refwm.create_submission(\"CNV_sample_XX\",etype='sample_set',entity=samplesetname,expression='this.samples')\n",
    "terra.waitForSubmission(refworkspace,submission_id)"
   ]
  },
  {
   "cell_type": "code",
   "execution_count": null,
   "metadata": {},
   "outputs": [],
   "source": [
    "submission_id = refwm.create_submission(\"Aggregate_CN_seg_files\",entity=samplesetname)\n",
    "terra.waitForSubmission(refworkspace,submission_id)"
   ]
  },
  {
   "cell_type": "code",
   "execution_count": null,
   "metadata": {},
   "outputs": [],
   "source": [
    "aggregated = refwm.get_entities('sample_set').loc[samplesetname][\"combined_seg_file\"]\n",
    "aggregated"
   ]
  },
  {
   "cell_type": "markdown",
   "metadata": {},
   "source": [
    "### Save the workflow configurations used"
   ]
  },
  {
   "cell_type": "code",
   "execution_count": null,
   "metadata": {},
   "outputs": [],
   "source": [
    "terra.saveConfigs(refworkspace,'data/'+sample_set_id+'/CNVconfig')"
   ]
  },
  {
   "cell_type": "markdown",
   "metadata": {},
   "source": [
    "## deleting unmapped bams"
   ]
  },
  {
   "cell_type": "code",
   "execution_count": null,
   "metadata": {},
   "outputs": [],
   "source": [
    "sam = refwm.get_samples()\n",
    "samplesinset = sam[sam.index.isin(refwm.get_sample_sets().loc[sample_set_id].samples)]"
   ]
  },
  {
   "cell_type": "code",
   "execution_count": null,
   "metadata": {},
   "outputs": [],
   "source": [
    "for val in samplesinset.readgroup_ubams:\n",
    "    ubams = ''\n",
    "    for v in val:\n",
    "        ubams+=' '+v\n",
    "    os.system('gsutil -m rm'+ubams)"
   ]
  },
  {
   "cell_type": "code",
   "execution_count": null,
   "metadata": {},
   "outputs": [],
   "source": [
    "onlycol = ['hg38_analysis_ready_bam',\n",
    "'hg38_analysis_ready_bam_index',\n",
    "'hg38_analysis_ready_bam_md5']\n",
    "newgs = 'gs://ccle_bams/hg38_wes/'\n",
    "for k, val in samplesinset[onlycol].iterrows():\n",
    "    data = ''\n",
    "    for v in val:\n",
    "        data+=' '+v\n",
    "    ! gsutil -m mv $data $newgs\n",
    "\n",
    "changeGSlocation(refwm,prevgslist=['gs://fc-secure-d2a2d895-a7af-4117-bdc7-652d7d268324/'], newgs=newgs, onlycol=onlycol, entity='samples')"
   ]
  },
  {
   "cell_type": "code",
   "execution_count": null,
   "metadata": {},
   "outputs": [],
   "source": [
    "! gsutil cp $aggregated \"temp/cnv_ccle.called.seg\""
   ]
  },
  {
   "cell_type": "markdown",
   "metadata": {},
   "source": [
    "removing the appended version number"
   ]
  },
  {
   "cell_type": "code",
   "execution_count": null,
   "metadata": {},
   "outputs": [],
   "source": [
    "a = pd.read_csv(\"temp/cnv_ccle.called.seg\", sep='\\t')\n",
    "a['Sample'] = [i.split('_')[0] for i in a['Sample']]\n",
    "a.to_csv(\"temp/cnv_ccle.called.seg\", sep='\\t')"
   ]
  },
  {
   "cell_type": "markdown",
   "metadata": {},
   "source": [
    "## If want to reprocess something"
   ]
  },
  {
   "cell_type": "code",
   "execution_count": null,
   "metadata": {},
   "outputs": [],
   "source": [
    "#%%R\n",
    "#segments_unfiltered <- readr::read_csv('temp/wes.19Q3.segmented.cn')"
   ]
  },
  {
   "cell_type": "markdown",
   "metadata": {},
   "source": [
    "## post Procesing"
   ]
  },
  {
   "cell_type": "code",
   "execution_count": null,
   "metadata": {},
   "outputs": [],
   "source": [
    "%%R\n",
    "source('../gkugener/RScripts/load_libraries_and_annotations.R')\n",
    "source(\"src/CCLE_postp_function.R\")\n",
    "library('celllinemapr')\n",
    "library('magrittr')\n",
    "library('taigr')\n",
    "library('cdsomics')\n",
    "library('readr')"
   ]
  },
  {
   "cell_type": "code",
   "execution_count": null,
   "metadata": {},
   "outputs": [],
   "source": [
    "%%R\n",
    "# Previous release copy number profiles. This line will need to be updated as well\n",
    "wes.priority.cn.seg.profiles <- taigr::load.from.taiga(data.name='segmented-cn-wes-prioritzed-7fe1', data.file=paste0(\"wes.\",prevname,\".segmented\"),data.version='33') %>%\n",
    "  dplyr::select(DepMap_ID, Chromosome, Start, End, Num_Probes, Segment_Mean, Source)"
   ]
  },
  {
   "cell_type": "code",
   "execution_count": null,
   "metadata": {},
   "outputs": [],
   "source": [
    "%%R\n",
    "print(mean(wes.priority.cn.seg.profiles$Segment_Mean)\n",
    "print(max(wes.priority.cn.seg.profiles$Segment_Mean)"
   ]
  },
  {
   "cell_type": "markdown",
   "metadata": {},
   "source": [
    "### getting blacklist"
   ]
  },
  {
   "cell_type": "code",
   "execution_count": null,
   "metadata": {},
   "outputs": [],
   "source": [
    "%%R\n",
    "segments <- processSegments(\"temp/cnv_ccle.called.seg\")\n",
    "segments <- filterForCCLE(segments)\n",
    "segments <- interpolateGapsInSegmented(segments)$segs\n",
    "segments <- extendEndsOfSegments(segments,'../JKBio/data/hg38_cytoband.gz')\n",
    "print(segments)\n",
    "print(head(wes.priority.cn.seg.profiles))\n",
    "# reprioritize also undo logtransform\n",
    "segments_unfiltered <- reprioritizeData(segments, wes.priority.cn.seg.profiles)\n",
    "# Fill in the gaps on the entire dataset\n",
    "# Extend start sites to 1, end sites to the end of the chromosome?"
   ]
  },
  {
   "cell_type": "code",
   "execution_count": null,
   "metadata": {},
   "outputs": [],
   "source": [
    "%%R\n",
    "print(mean(segments_unfiltered$Segment_Mean))\n",
    "print(max(segments_unfiltered$Segment_Mean))"
   ]
  },
  {
   "cell_type": "code",
   "execution_count": null,
   "metadata": {},
   "outputs": [],
   "source": [
    "%%R\n",
    "write.table(segments_unfiltered, file = paste0(\"temp/wes.\",release,\".segmented.cn\"), sep = ',', quote = F, row.names = F) "
   ]
  },
  {
   "cell_type": "code",
   "execution_count": null,
   "metadata": {},
   "outputs": [],
   "source": [
    "%%R\n",
    "entrezgenes <- generateEntrezGenes()"
   ]
  },
  {
   "cell_type": "code",
   "execution_count": null,
   "metadata": {},
   "outputs": [],
   "source": [
    "%%R\n",
    "head(corner(entrezgenes))"
   ]
  },
  {
   "cell_type": "code",
   "execution_count": null,
   "metadata": {},
   "outputs": [],
   "source": [
    "%%R\n",
    "res <- generateGeneLevelMatrixFromSegments(entrezgenes, segments_unfiltered)"
   ]
  },
  {
   "cell_type": "code",
   "execution_count": null,
   "metadata": {},
   "outputs": [],
   "source": [
    "%%R\n",
    "genematrix_unfiltered <- res$gene_level_data_hg38\n",
    "corner(genematrix_unfiltered)"
   ]
  },
  {
   "cell_type": "code",
   "execution_count": null,
   "metadata": {},
   "outputs": [],
   "source": [
    "%%R\n",
    "print(mean(genematrix_unfiltered))\n",
    "print(max(genematrix_unfiltered))"
   ]
  },
  {
   "cell_type": "code",
   "execution_count": null,
   "metadata": {},
   "outputs": [],
   "source": [
    "%%R\n",
    "write.table(genematrix_unfiltered, file = paste0('temp/wes.',release,'.gene.cn'), \n",
    "sep = ',', quote = F, row.names = T)"
   ]
  },
  {
   "cell_type": "markdown",
   "metadata": {},
   "source": [
    "## Validation step"
   ]
  },
  {
   "cell_type": "code",
   "execution_count": null,
   "metadata": {},
   "outputs": [],
   "source": [
    "wes_19Q3_gene = tc.get(name='segmented-cn-wes-prioritzed-7fe1', version=33, file='wes.19Q3.gene')"
   ]
  },
  {
   "cell_type": "code",
   "execution_count": null,
   "metadata": {},
   "outputs": [],
   "source": [
    "wes_19Q3_gene.values.max()"
   ]
  },
  {
   "cell_type": "code",
   "execution_count": null,
   "metadata": {},
   "outputs": [],
   "source": [
    "a = np.array([1.265172,1.141525,1.295836])"
   ]
  },
  {
   "cell_type": "code",
   "execution_count": null,
   "metadata": {},
   "outputs": [],
   "source": [
    "a"
   ]
  },
  {
   "cell_type": "code",
   "execution_count": null,
   "metadata": {},
   "outputs": [],
   "source": [
    "a"
   ]
  },
  {
   "cell_type": "code",
   "execution_count": null,
   "metadata": {},
   "outputs": [],
   "source": [
    "wes_19Q3_gene"
   ]
  },
  {
   "cell_type": "code",
   "execution_count": null,
   "metadata": {},
   "outputs": [],
   "source": [
    "genecn"
   ]
  },
  {
   "cell_type": "code",
   "execution_count": null,
   "metadata": {},
   "outputs": [],
   "source": [
    "wes_19Q3_gene.values.mean()"
   ]
  },
  {
   "cell_type": "code",
   "execution_count": null,
   "metadata": {},
   "outputs": [],
   "source": [
    "wes_19Q3_gene.values.min()"
   ]
  },
  {
   "cell_type": "code",
   "execution_count": null,
   "metadata": {},
   "outputs": [],
   "source": []
  },
  {
   "cell_type": "code",
   "execution_count": null,
   "metadata": {},
   "outputs": [],
   "source": [
    "genecn=wes_19Q4_gene"
   ]
  },
  {
   "cell_type": "code",
   "execution_count": null,
   "metadata": {},
   "outputs": [],
   "source": [
    "genecn.values.min()"
   ]
  },
  {
   "cell_type": "code",
   "execution_count": null,
   "metadata": {},
   "outputs": [],
   "source": [
    "2**(1.06425452573e-09)-1"
   ]
  },
  {
   "cell_type": "code",
   "execution_count": null,
   "metadata": {},
   "outputs": [],
   "source": [
    "np.log2(2**np.log2((2**genecn.values)-1)-1).mean()"
   ]
  },
  {
   "cell_type": "code",
   "execution_count": 3,
   "metadata": {
    "scrolled": true
   },
   "outputs": [
    {
     "ename": "NameError",
     "evalue": "name 'release' is not defined",
     "output_type": "error",
     "traceback": [
      "\u001b[0;31m---------------------------------------------------------------------------\u001b[0m",
      "\u001b[0;31mNameError\u001b[0m                                 Traceback (most recent call last)",
      "\u001b[0;32m<ipython-input-3-7dade3dbfbd0>\u001b[0m in \u001b[0;36m<module>\u001b[0;34m\u001b[0m\n\u001b[0;32m----> 1\u001b[0;31m \u001b[0mgenecn\u001b[0m \u001b[0;34m=\u001b[0m \u001b[0mpd\u001b[0m\u001b[0;34m.\u001b[0m\u001b[0mread_csv\u001b[0m\u001b[0;34m(\u001b[0m\u001b[0;34m'temp/wes.'\u001b[0m\u001b[0;34m+\u001b[0m\u001b[0mrelease\u001b[0m\u001b[0;34m+\u001b[0m\u001b[0;34m'.gene.cn'\u001b[0m\u001b[0;34m,\u001b[0m \u001b[0msep\u001b[0m \u001b[0;34m=\u001b[0m \u001b[0;34m','\u001b[0m\u001b[0;34m)\u001b[0m\u001b[0;34m\u001b[0m\u001b[0;34m\u001b[0m\u001b[0m\n\u001b[0m",
      "\u001b[0;31mNameError\u001b[0m: name 'release' is not defined"
     ]
    }
   ],
   "source": [
    "genecn = pd.read_csv('temp/wes.'+release+'.gene.cn', sep = ',')"
   ]
  },
  {
   "cell_type": "code",
   "execution_count": null,
   "metadata": {},
   "outputs": [],
   "source": [
    "segmentcn = pd.read_csv('temp/wes.'+release+'.segmented.cn', sep = ',')"
   ]
  },
  {
   "cell_type": "code",
   "execution_count": null,
   "metadata": {},
   "outputs": [],
   "source": [
    "prev = set(tc.get(name='segmented-cn-wes-prioritzed-7fe1', file='wes.'+prevname+'.gene', version=\"33\").index.tolist())\n",
    "prevprev= set(tc.get(name='segmented-cn-wes-prioritzed-7fe1', file='CCLE_internal_19q2_gene_cn', version='25').index.tolist())"
   ]
  },
  {
   "cell_type": "code",
   "execution_count": null,
   "metadata": {},
   "outputs": [],
   "source": [
    "new1 = set(genecn.index.values.tolist())\n",
    "new2 = set(segmentcn['DepMap_ID'].values.tolist())\n",
    "print(len(prev), len(prev & new1), len(new1), len(new1 & new2))"
   ]
  },
  {
   "cell_type": "code",
   "execution_count": null,
   "metadata": {},
   "outputs": [],
   "source": [
    "checkAmountOfSegments(segmentcn,thresh = 750)"
   ]
  },
  {
   "cell_type": "code",
   "execution_count": null,
   "metadata": {},
   "outputs": [],
   "source": [
    "checkGeneChangeAccrossAll(genecn, thresh=1.5)"
   ]
  },
  {
   "cell_type": "code",
   "execution_count": null,
   "metadata": {},
   "outputs": [],
   "source": [
    "segmentcn.Start = segmentcn.Start.astype(int)\n",
    "segmentcn.End = segmentcn.End.astype(int)"
   ]
  },
  {
   "cell_type": "code",
   "execution_count": null,
   "metadata": {},
   "outputs": [],
   "source": [
    "if(genecn.values.max() > 100):\n",
    "    print(\"\\n\\n\\nTOO HIGH, not LOG2 transformed!\")\n",
    "if(len(genecn.index.tolist()) > len(set(genecn.index))):\n",
    "    print(\"Duplicate CL, not reprioritized well!\")"
   ]
  },
  {
   "cell_type": "code",
   "execution_count": null,
   "metadata": {},
   "outputs": [],
   "source": [
    "segmentcn[segmentcn[\"DepMap_ID\"]==\"ACH-000658\"]"
   ]
  },
  {
   "cell_type": "code",
   "execution_count": null,
   "metadata": {},
   "outputs": [],
   "source": [
    "for k, val in samplesinset.iterrows():\n",
    "    plot = val[\"modeled_segments_plot_tumor\"]\n",
    "    ! gsutil cp $plot temp/\n",
    "    print(k)\n",
    "    display(Image('temp/'+plot.split('/')[-1]))"
   ]
  },
  {
   "cell_type": "markdown",
   "metadata": {},
   "source": [
    "These looks bad : \n",
    "M140325\n",
    "OCIP5X"
   ]
  },
  {
   "cell_type": "code",
   "execution_count": null,
   "metadata": {},
   "outputs": [],
   "source": [
    "gsheets = sheets.get(sheeturl).sheets[6].to_frame()\n",
    "wes_dmc_embargo = [i for i in gsheets['WES_DMC_embargo'].values.tolist() if i is not np.nan]\n",
    "blacklist = [i for i in gsheets['blacklist'].values.tolist() if i is not np.nan]"
   ]
  },
  {
   "cell_type": "markdown",
   "metadata": {},
   "source": [
    "# Upload to taiga"
   ]
  },
  {
   "cell_type": "markdown",
   "metadata": {},
   "source": [
    "## we Push full dataset in depmap taiga CN"
   ]
  },
  {
   "cell_type": "code",
   "execution_count": null,
   "metadata": {},
   "outputs": [],
   "source": [
    "print(segmentcn.Segment_Mean.mean(),segmentcn.Segment_Mean.max(), segmentcn.Segment_Mean.min())\n",
    "print(genecn.mean().max(), genecn.mean().mean(),genecn.values.max())"
   ]
  },
  {
   "cell_type": "markdown",
   "metadata": {},
   "source": [
    "# NEXT RELEASE CHECK THAT PREV SEG FILE WAS UNLOG2 TRANSFORMED!"
   ]
  },
  {
   "cell_type": "code",
   "execution_count": null,
   "metadata": {},
   "outputs": [],
   "source": [
    "segmentcn.Segment_Mean.max()"
   ]
  },
  {
   "cell_type": "code",
   "execution_count": null,
   "metadata": {},
   "outputs": [],
   "source": [
    "## for genecn removing first blacklisted, then embargoed, to create two datasets\n",
    "genecn = genecn.apply(lambda x: np.log2(1+x))\n",
    "segmentcn['Segment_Mean'] = segmentcn['Segment_Mean']\n",
    "genecn.to_csv('temp/wes.'+release+'.gene.cn', index=False)\n",
    "segmentcn.to_csv('temp/wes.'+release+'.segmented.cn', index=False)"
   ]
  },
  {
   "cell_type": "code",
   "execution_count": null,
   "metadata": {},
   "outputs": [],
   "source": [
    "genecn"
   ]
  },
  {
   "cell_type": "code",
   "execution_count": null,
   "metadata": {},
   "outputs": [],
   "source": [
    "tc.update_dataset(dataset_permaname=\"segmented-cn-wes-prioritzed-7fe1\", \n",
    "                  upload_file_path_dict={\n",
    "                    'temp/wes.'+release+'.gene.cn': 'NumericMatrixCSV',\n",
    "                    'temp/wes.'+release+'.segmented.cn': 'TableCSV'},\n",
    "                  dataset_description=\n",
    "\"\"\"\n",
    "# Copy Number\n",
    "\n",
    "Combined segment and gene-level CN calls from Broad WES, Sanger WES, and Broad SNP. Relative CN, log2(x+1) transformed.\n",
    "\n",
    "PORTAL TEAM SHOULD NOT USE THIS: There are lines here that should not make it even to internal. Must use subsetted dataset instead. These data will not make it on the portal starting 19Q1. With the DMC portal, there is new cell line release prioritization as to which lines can be included, so a new taiga dataset will be created containing CN for the portal.\n",
    "\n",
    "These data are generated for Achilles to pull from to run CERES.\n",
    "\n",
    "Versions to use:\n",
    "\n",
    "v25 for 19Q2 (hg38 aligned, Broad WES and Sanger WES based calls were generated from bam realignment. SNP based calls are still from liftover). The gene mapping script was updated to improve the gene level matrix (to remove NAs). The segmented level matrix is untransformed relative CN. Gene level matrix is log2(CN + 1).\n",
    "v20 for 19Q1 (version 21 is hg19)\n",
    "v18: for 18Q4\n",
    "v15: for 18Q3\n",
    "v11: for 18Q2\n",
    "Gene-level matrix in versions below 10 were using hg38 and not hg19. Version 11 is corrected and should be used instead\n",
    "\n",
    "Calls on X, Y chromosome for profiles should not be used.\n",
    "\n",
    "Prioritization is as follows:\n",
    "\n",
    "Broad WES kept over everything\n",
    "Sanger WES kept if:\n",
    "This cell line did not fail fingerprinting\n",
    "This cell line has no other CN data\n",
    "This cell lines does not have CRISPR LFC data from the Achilles screen\n",
    "This CN profile correlates better with Achilles CRISPR LFC data than Broad SNP CN OR the % gene-level difference between this cell lines CN profile from Sanger WES and Broad SNP < 2.5%\n",
    "Broad SNP used for remaining lines with no Broad WES or with Sanger WES that does not pass the criteria above\n",
    "The 'Source' column indicates which CN profile was used for that cell line.\n",
    "\n",
    "version 6: renamed Sample column to CCLE_name for consistency for the Achilles pipeline\n",
    "version 7: missing chordoma lines\n",
    "version 8: fixed to names of two chordoma lines (changed suffix from CHORDOMA -> BONE) and removed renamed cell lines that were duplicated (with different names). Reran comparison using 18q2 LFC results. Gene level matrix will be generated for version 9\n",
    "version 11: corrected error in gene-level matrix calculation (previously had been aligned to hg38 however alignment should be hg19). Segment level calls are unaffected.\n",
    "versions 12-14: Sanger WES were multiplied by 2 so should not be used\n",
    "version 15: internal segments and gene level matrices for 18q3 release including public version (removed black list lines and Broad WES < 6 months old). Gene level matrices are indexed using Broad IDs.\n",
    "version 16: internal segments and gene level matrices for 18q4 release including public version (uses all SNP and only WES if those lines are present in the 18Q4 public Achilles dataset)\n",
    "version 17: same as version 16 but with two additional line in the internal version\n",
    "version 18: same as version 17 but switched one line in public to use SNP instead of WES because not in public Avana\n",
    "version 20: two major changes occurred (1) we are using a FireCloud based pipeline for CN calling now for Broad WES data (2) we have moved to use hg38. This is accomplished by lifting over coordinates from hg19 to hg38 after processed by the CN pipeline.\n",
    "v21 same as version 20, but we are using the original hg19 coordinates, not hg38\n",
    "version 25: Broad WES and Sanger WES were realigned to hg38. SNP still uses liftover from hg19 to hg38\n",
    "version 35: Seeing what went wrong with the upload.\n",
    "version 36: problem with not log2 transforming the data\n",
    "version 37: resolving the problem with log2 transforming the segment data\n",
    "\n",
    "Gene level CN data:\n",
    "\n",
    "__Rows__: DepMap cell line IDs\n",
    "\n",
    "__Columns__: gene names in the format HGNC\\_symbol (Entrez\\_ID)\n",
    "\n",
    "Segmented data:\n",
    "\n",
    "__Columns__: DepMap\\_ID, Chromosome, Start, End, Num\\_Probes, Segment\\_Mean\"\"\")"
   ]
  },
  {
   "cell_type": "markdown",
   "metadata": {},
   "source": [
    "## We push internal dataset with blacklisted removed\n",
    "\n",
    "and we add it to eternal dataset and to virtual dataset"
   ]
  },
  {
   "cell_type": "code",
   "execution_count": null,
   "metadata": {},
   "outputs": [],
   "source": [
    "## for segment removing first blacklisted, then embargoed, to create two datasets\n",
    "segmentcn[~segmentcn.DepMap_ID.isin(blacklist)].to_csv('temp/internal_'+release+'_segs_cn', index=False)\n",
    "genecn[~genecn.index.isin(blacklist)].to_csv('temp/internal_'+release+'_gene_cn', index=False)"
   ]
  },
  {
   "cell_type": "code",
   "execution_count": null,
   "metadata": {},
   "outputs": [],
   "source": [
    "tc.update_dataset(dataset_permaname=\"depmap-wes-cn-data-81a7\", \n",
    "                  upload_file_path_dict={\n",
    "                    'temp/internal_'+release+'_gene_cn': 'NumericMatrixCSV',\n",
    "                    'temp/internal_'+release+'_segs_cn': 'TableCSV'},\n",
    "                  dataset_description=\n",
    "\"\"\"\n",
    "# Copy Number\n",
    "\n",
    "\n",
    "## ** Version 1 Internal 18Q1****\n",
    "\n",
    "Generated with the following script:\n",
    "\n",
    "```\n",
    "wes_pri <- taigr::load.from.taiga(data.name='gene-level-cn-87aa', \n",
    "                                  data.version=5, \n",
    "                                  data.file='gene_CN_WES_priority')\n",
    "source_info <- data.frame(ccle_name=gsub(\"snp_|sangerWES_|ccleWES_|achillesWES_\", \n",
    "                                         \"\", row.names(wes_pri)), \n",
    "                          source=gsub(\"_.*\", \"\", row.names(wes_pri)))\n",
    "wes_pri %<>% magrittr::set_rownames(source_info$ccle_name)\n",
    "\n",
    "```\n",
    "\n",
    "## ** Version 2 Internal 18Q2****\n",
    "\n",
    "Generated with the following script:\n",
    "\n",
    "```\n",
    "wes_pri <- taigr::load.from.taiga(data.name='segmented-cn-wes-prioritzed-7fe1', data.version=9, data.file='wes_priority_cn_gene_matrix') %>% log2()\n",
    "\n",
    "\n",
    "```\n",
    "\n",
    "## ** Version 3 Internal 18Q2****\n",
    "\n",
    "Generated with the following script:\n",
    "\n",
    "```\n",
    "wes_pri <- taigr::load.from.taiga(data.name='segmented-cn-wes-prioritzed-7fe1', data.version=11, data.file='wes_priority_cn_gene_matrix') %>% log2()\n",
    "\n",
    "\n",
    "```\n",
    "## ** Version 4-6 Internal 18Q3****\n",
    "\n",
    "__Description__: log2 gene level copy number data\n",
    "\n",
    "Generated with the following script:\n",
    "\n",
    "```\n",
    "wes_pri <- taigr::load.from.taiga(data.name='segmented-cn-wes-prioritzed-7fe1', data.version=15, data.file='wes_priority_cn_gene_matrix') %>% log2()\n",
    "\n",
    "\n",
    "```\n",
    "__Rows__: Broad (arxspan) cell line IDs\n",
    "\n",
    "__Columns__: gene names in the format HGNC\\_symbol (Entrez\\_ID)\n",
    "\n",
    "Version 5 has updated cell line name mapping\n",
    "\n",
    "Version 4 and 5 the segmented CN for Sanger's data is off by a factor of 2, version 6 corrects this\n",
    "\n",
    "**** Version 7 Internal 18Q4****\n",
    "\n",
    "__Description__: log2 gene level copy number data\n",
    "\n",
    "Generated with the following script:\n",
    "\n",
    "```\n",
    "wes_pri <- taigr::load.from.taiga(data.name='segmented-cn-wes-prioritzed-7fe1', data.version=17, data.file='wes_priority_cn_gene_matrix') %>% log2()\n",
    "\n",
    "\n",
    "```\n",
    "__Rows__: DepMap (arxspan) cell line IDs\n",
    "\n",
    "__Columns__: gene names in the format HGNC\\_symbol (Entrez\\_ID)\n",
    "\n",
    "## ** Version 8-9 Internal 19Q1****\n",
    "\n",
    "version 9 has the correct data for 19Q1\n",
    "\n",
    "## ** Version 10-11 Internal 19Q2****\n",
    "\n",
    "__version 11 added an additional 13 cell lines and adds the segmented copy number data__\n",
    "\n",
    "## ** Version 12 Internal 19Q3****\n",
    "\n",
    "__Description__: log2(X + 1) gene level copy number data (data is now log2 transformed with a __pseudocount of 1__ added). CN data is generated using __hg38__. \n",
    "\n",
    "\n",
    "## ** Version 15 Internal 19Q4****\n",
    "\n",
    "Adding 35 new cell lines\n",
    "Some cells lines have been flagged as:\n",
    "\n",
    " - having bad looking copy ration plots = \n",
    " - having too many segments = [ ACH-000458 762, ACH-000848 1171, ACH-001017 1223, ACH-000904 868, ACH-000444 974, ACH-001249 1756, ACH-000854 899, ACH-002204 1318, ACH-000901 816, ACH-001230 947, ACH-001150 782, ACH-000923 1469, ACH-000960 913, ACH-002335 1312, ACH-000550 974, ACH-001955 1296, ACH-000258 872, ACH-000167 838, ACH-000593 764, ACH-000064 1203, ACH-000488 954, ACH-000837 1015, ACH-001656 902, ACH-001088 1337, ACH-001036 858, ACH-001079 2586, ACH-001171 792, ACH-000454 1051, ACH-000419 826, ACH-000118 794, ACH-000870 1557, ACH-000128 767, ACH-001957 1426, ACH-001239 851, ACH-000068 812, ACH-001043 825, ACH-001113 1072, ACH-000774 953, ACH-000868 1422, ACH-000300 1431, ACH-000842 929, ACH-000578 869, ACH-001045 822, ACH-001214 889, ACH-000044 1202, ACH-000600 939, ACH-000659 1129, ACH-000865 1358, ACH-000941 813, ACH-000509 873, ACH-001094 1036, ACH-000216 925, ACH-001225 792, ACH-001234 819, ACH-000710 968, ACH-001071 1175, ACH-000452 816, ACH-000887 1408, ACH-000195 2029, ACH-001956 1368, ACH-000327 819, ACH-000658 927, ACH-000690 771, ACH-000738 1064, ACH-000090 1024, ACH-001101 1005, ACH-000356 1294, ACH-000961 763, ACH-000028 868, ACH-000071 1287, ACH-000635 1368, ACH-001000 980, ACH-000836 1001]\n",
    " - Genes having a similar CN value accross all []\n",
    "\n",
    "## ** Version 16 Internal 19Q4****\n",
    "resolving problem with not having log2 transform \n",
    "\n",
    "## ** Version 17 Internal 19Q4****\n",
    "resolving problem with having log2 transform on segments\n",
    "\n",
    "Gene level CN data:\n",
    "\n",
    "__Rows__: DepMap cell line IDs\n",
    "\n",
    "__Columns__: gene names in the format HGNC\\_symbol (Entrez\\_ID)\n",
    "\n",
    "Segmented data:\n",
    "\n",
    "__Columns__: DepMap\\_ID, Chromosome, Start, End, Num\\_Probes, Segment\\_Mean\n",
    "\"\"\")"
   ]
  },
  {
   "cell_type": "code",
   "execution_count": null,
   "metadata": {},
   "outputs": [],
   "source": [
    "# To add to a virtual dataset\n",
    "AddToVirtual(virtual_internal, 'depmap-wes-cn-data-81a7', [('CCLE_gene_cn', 'internal_'+release+'_gene_cn'),('CCLE_segment_cn', 'internal_'+release+'_segs_cn')])\n",
    "# To add to a eternal dataset\n",
    "AddToVirtual('depmap-a0ab', 'depmap-wes-cn-data-81a7', [('CCLE_gene_cn', 'internal_'+release+'_gene_cn'),('CCLE_segment_cn', 'internal_'+release+'_segs_cn')])"
   ]
  },
  {
   "cell_type": "markdown",
   "metadata": {},
   "source": [
    "## We add to dmc as in internal"
   ]
  },
  {
   "cell_type": "code",
   "execution_count": null,
   "metadata": {},
   "outputs": [],
   "source": [
    "os.system('mv temp/internal_'+release+'_gene_cn temp/dmc_'+release+'_gene_cn', index=False)\n",
    "os.system('mv temp/internal_'+release+'_segs_cn temp/dmc_'+release+'_segs_cn', index=False)"
   ]
  },
  {
   "cell_type": "code",
   "execution_count": null,
   "metadata": {},
   "outputs": [],
   "source": [
    "tc.update_dataset(dataset_permaname=\"depmap-cn-data-9b9d\",\n",
    "                upload_file_path_dict={\n",
    "                    'temp/dmc_'+release+'_gene_cn':'NumericMatrixCSV',\n",
    "                    'temp/dmc_'+release+'_segs_cn': 'TableCSV'\n",
    "                   },\n",
    "                \n",
    "                  dataset_description=\"\"\"\n",
    "**** Version 1-2 DMC 19Q1****\n",
    "\n",
    "version 2 contains the correct data for 19Q1\n",
    "\n",
    "**** Version 3-4 DMC 19Q2****\n",
    "\n",
    "__version 4 added an additional 13 cell lines and adds the segmented copy number data__\n",
    "\n",
    "**** Version 5 DMC 19Q3***\n",
    "\n",
    "**** Version 7 DMC 19Q4***\n",
    "adding 35 new cell lines\n",
    "\n",
    "**** Version 8 DMC 19Q4****\n",
    "resolving problem with not having log2 transform \n",
    "\n",
    "**** Version 9 DMC 19Q4****\n",
    "resolving problem with having log2 transformed the segments\n",
    "\n",
    "__Description__: log2(X + 1) gene level copy number data (data is now log2 transformed with a __pseudocount of 1__ added). CN data is generated using __hg38__.  The segmented copy number data includes the mean segmented copy number segments.\n",
    "\n",
    "Gene level CN data:\n",
    "\n",
    "__Rows__: DepMap cell line IDs\n",
    "\n",
    "__Columns__: gene names in the format HGNC\\_symbol (Entrez\\_ID)\n",
    "\n",
    "Segmented data:\n",
    "\n",
    "__Columns__: DepMap\\_ID, Chromosome, Start, End, Num\\_Probes, Segment\\_Mean\n",
    "\"\"\")"
   ]
  },
  {
   "cell_type": "code",
   "execution_count": null,
   "metadata": {},
   "outputs": [],
   "source": [
    "AddToVirtual(virtual_dmc, \"depmap-cn-data-9b9d\", files=[('CCLE_gene_cn', 'dmc_'+release+'_gene_cn'),('CCLE_segment_cn', 'dmc_'+release+'_segs_cn')])"
   ]
  },
  {
   "cell_type": "markdown",
   "metadata": {},
   "source": [
    "## We add to public as internal minus dmc embargoed and only cell lines from previous previous release (6 month)"
   ]
  },
  {
   "cell_type": "code",
   "execution_count": null,
   "metadata": {},
   "outputs": [],
   "source": [
    "a = segmentcn[segmentcn.DepMap_ID.isin(prevprev)]\n",
    "a[~a.DepMap_ID.isin(set(wes_dmc_embargo) | set(blacklist))].to_csv('temp/public_' + release + '_segs_cn', index=False)\n",
    "a = genecn[genecn.index.isin(prevprev)]\n",
    "a[~a.index.isin(set(wes_dmc_embargo) | set(blacklist))].to_csv('temp/public_'+release+'_gene_cn', index=False)"
   ]
  },
  {
   "cell_type": "code",
   "execution_count": null,
   "metadata": {},
   "outputs": [],
   "source": [
    "tc.update_dataset(dataset_permaname='depmap-wes-cn-data-97cc',\n",
    "                    upload_file_path_dict={\n",
    "                    'temp/public_'+release+'_gene_cn':'NumericMatrixCSV',\n",
    "                    'temp/public_'+release+'_segs_cn': 'TableCSV'\n",
    "                   },\n",
    "                  dataset_description=\"\"\"\n",
    "**** Versions 1-5 Public 18Q1****\n",
    "\n",
    "Gene-level WES copy-number data for publicly accessible CCLE data. \n",
    "\n",
    "```\n",
    "\n",
    "internal_lines <- readr::read_csv(\"~/Downloads/avana-broad-18q1_v2-sample-info.csv\")$cell_line\n",
    "public_lines <- readr::read_csv(\"~/Downloads/avana-public-tentative-18q1_v5-sample-info.csv\")$cell_line\n",
    "non_public_lines <- setdiff(internal_lines, public_lines)\n",
    "\n",
    "full_cn_set <- taigr::load.from.taiga(data.name='gene-level-cn-87aa', data.version=5, data.file='full_gene_CN')\n",
    "source_info <- data.frame(source=gsub(\"_.*\", \"\", row.names(full_cn_set)),\n",
    "                          ccle_name=gsub(\"snp_|achillesWES_|ccleWES_|sangerWES_\", \"\",\n",
    "                                         row.names(full_cn_set)),\n",
    "                          row_idx=1:nrow(full_cn_set))\n",
    "to_remove <- source_info %>%\n",
    "  dplyr::filter(ccle_name %in% non_public_lines,\n",
    "                source %in% c(\"ccleWES\", \"achillesWES\"))\n",
    "also_to_remove <- source_info %>%\n",
    "                    dplyr::filter(source == \"sangerWES\")\n",
    "indices_to_remove <- c(to_remove$row_idx, also_to_remove$row_idx) %>% unique()\n",
    "indices_to_keep <- source_info %>%\n",
    "  dplyr::filter(!(row_idx %in% indices_to_remove)) %>%\n",
    "  dplyr::group_by(ccle_name) %>%\n",
    "  dplyr::mutate(priority=ifelse(source == \"snp\", 4,\n",
    "                                ifelse(source == \"sangerWES\", 3,\n",
    "                                       ifelse(source == \"ccleWES\", 2, 1)))) %>%\n",
    "  dplyr::filter(priority == min(priority)) %>%\n",
    "  dplyr::ungroup()\n",
    "\n",
    "public_cn <- full_cn_set[indices_to_keep$row_idx,]\n",
    "source_info <- data.frame(source=gsub(\"_.*\", \"\", row.names(public_cn)),\n",
    "                          ccle_name=gsub(\"snp_|achillesWES_|ccleWES_|sangerWES_\", \"\",\n",
    "                                         row.names(public_cn)))\n",
    "public_cn %<>% magrittr::set_rownames(source_info$ccle_name)\n",
    "```\n",
    "\n",
    "CN data are on a log2 scale.\n",
    "\n",
    "`WES_source_info` tracks the source data for each cell line. Sources are `snp`, `achillesWES`, `ccleWES`, and `sangerWES`\n",
    "\n",
    "NOTE: Version 1 contained WES data from cell lines not available in the 18Q1 Public release. Versions 2-4 contained Sanger's WES CN data\n",
    "\n",
    "**** Version 6 Public 18Q2****\n",
    "\n",
    "Generated by running:\n",
    "\n",
    "```\n",
    "wes_pri <- taigr::load.from.taiga(data.name='segmented-cn-wes-prioritzed-7fe1', data.version=10, data.file='public_wes_priority_cn_gene_matrix') %>% log2()\n",
    "```\n",
    "\n",
    "**** Version 7 Public 18Q2****\n",
    "\n",
    "Generated by running:\n",
    "\n",
    "```\n",
    "wes_pri <- taigr::load.from.taiga(data.name='segmented-cn-wes-prioritzed-7fe1', data.version=11, data.file='public_wes_priority_cn_gene_matrix') %>% log2()\n",
    "```\n",
    "\n",
    "\n",
    "**** Version 8-9 Public 18Q3****\n",
    "\n",
    "Generated by running:\n",
    "\n",
    "```\n",
    "wes_pri <- taigr::load.from.taiga(data.name='segmented-cn-wes-prioritzed-7fe1', data.version=15, data.file='public_wes_priority_cn_gene_matrix') %>% log2()\n",
    "```\n",
    "Version 8 the segmented CN for Sanger's data is off by a factor of 2, version 9 corrects this\n",
    "\n",
    "includes cell lines that should not be public\n",
    "\n",
    "**** Version 10 Public 18Q1, 18Q2, 18Q3****\n",
    "\n",
    "__use version 10 for 18Q1, 18Q2 and 18Q3 datasets__ \n",
    "\n",
    "Version 10 is the most up-to-date version of \"public\\_18Q3\\_gene\\_cn.csv\". The three datasets have been updated to remove cell lines that should not have been made public. They are named in the portal and google bucket for portal downloads as v2, e.g. public\\_18Q3\\_gene\\_cn\\_v2.csv.\n",
    "\n",
    "__Rows__: Broad (arxspan) cell line IDs\n",
    "\n",
    "__Columns__: gene names in the format HGNC\\_symbol (Entrez\\_ID)\n",
    "\n",
    "**** Version 11 Public 18Q4****\n",
    "\n",
    "Generated by running:\n",
    "\n",
    "```\n",
    "wes_pri <- taigr::load.from.taiga(data.name='segmented-cn-wes-prioritzed-7fe1', data.version=17, data.file='public_wes_priority_cn_gene_matrix') %>% log2()\n",
    "```\n",
    "\n",
    "__Rows__: DepMap (arxspan) cell line IDs\n",
    "\n",
    "__Columns__: gene names in the format HGNC\\_symbol (Entrez\\_ID)\n",
    "\n",
    "**** Version 12-14 Public 19Q1****\n",
    "\n",
    "version 14 contains the correct data for 19Q1\n",
    "\n",
    "version 13 is the same as v12 except that it uses the original hg19 coordinates not hg38. The Achilles public data set uses the hg19 coordinates. \n",
    "\n",
    "**** Version 15-16 Public 19Q2****\n",
    "\n",
    "__version 16 also adds the segmented copy number data__\n",
    "\n",
    "**** Version 17-18 Public 19Q3****\n",
    "\n",
    "__data is hg38 liftover__\n",
    "\n",
    "__Description__: log2 + 1 gene level copy number data (data is log2 transformed with a __pseudocount of 1__ added). It uses hg19 coordinates. Also the segmented copy number data.\n",
    "\n",
    "**** Version 23 Public 19Q4****\n",
    "\n",
    "adding new cell lines\n",
    "\n",
    "**** Version 24 Internal 19Q4****\n",
    "resolving problem with not having log2 transform \n",
    "\n",
    "**** Version 24 Internal 19Q4****\n",
    "resolving problem with having log2 transformed the segments \n",
    "\n",
    "## Gene level CN data:\n",
    "\n",
    "__Rows__: DepMap cell line IDs\n",
    "\n",
    "__Columns__: gene names in the format HGNC\\_symbol (Entrez\\_ID)\n",
    "\n",
    "Segmented data:\n",
    "\n",
    "__Columns__: DepMap\\_ID, Chromosome, Start, End, Num\\_Probes, Segment\\_Mean, CCLE\\_name\n",
    "\"\"\")"
   ]
  },
  {
   "cell_type": "code",
   "execution_count": null,
   "metadata": {},
   "outputs": [],
   "source": [
    "# To add to a virtual dataset\n",
    "AddToVirtual(virtual_public, \"depmap-wes-cn-data-97cc\", files=[('CCLE_gene_cn', 'public_'+release+'_gene_cn'),('CCLE_segment_cn', 'public_'+release+'_segs_cn')])"
   ]
  },
  {
   "cell_type": "code",
   "execution_count": null,
   "metadata": {},
   "outputs": [],
   "source": []
  }
 ],
 "metadata": {
  "celltoolbar": "Aucun(e)",
  "kernelspec": {
   "display_name": "Python 3",
   "language": "python",
   "name": "python3"
  },
  "language_info": {
   "codemirror_mode": {
    "name": "ipython",
    "version": 3
   },
   "file_extension": ".py",
   "mimetype": "text/x-python",
   "name": "python",
   "nbconvert_exporter": "python",
   "pygments_lexer": "ipython3",
   "version": "3.7.6"
  },
  "latex_envs": {
   "LaTeX_envs_menu_present": true,
   "autoclose": false,
   "autocomplete": true,
   "bibliofile": "biblio.bib",
   "cite_by": "apalike",
   "current_citInitial": 1,
   "eqLabelWithNumbers": true,
   "eqNumInitial": 1,
   "hotkeys": {
    "equation": "Ctrl-E",
    "itemize": "Ctrl-I"
   },
   "labels_anchors": false,
   "latex_user_defs": false,
   "report_style_numbering": false,
   "user_envs_cfg": false
  },
  "notify_time": "10",
  "toc": {
   "base_numbering": 1,
   "nav_menu": {},
   "number_sections": true,
   "sideBar": true,
   "skip_h1_title": false,
   "title_cell": "Table of Contents",
   "title_sidebar": "Contents",
   "toc_cell": false,
   "toc_position": {},
   "toc_section_display": true,
   "toc_window_display": false
  },
  "varInspector": {
   "cols": {
    "lenName": 16,
    "lenType": 16,
    "lenVar": 40
   },
   "kernels_config": {
    "python": {
     "delete_cmd_postfix": "",
     "delete_cmd_prefix": "del ",
     "library": "var_list.py",
     "varRefreshCmd": "print(var_dic_list())"
    },
    "r": {
     "delete_cmd_postfix": ") ",
     "delete_cmd_prefix": "rm(",
     "library": "var_list.r",
     "varRefreshCmd": "cat(var_dic_list()) "
    }
   },
   "types_to_exclude": [
    "module",
    "function",
    "builtin_function_or_method",
    "instance",
    "_Feature"
   ],
   "window_display": false
  }
 },
 "nbformat": 4,
 "nbformat_minor": 2
}
