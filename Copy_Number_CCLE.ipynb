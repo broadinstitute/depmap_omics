{
 "cells": [
  {
   "cell_type": "markdown",
   "metadata": {},
   "source": [
    "# Copy Number Pipeline"
   ]
  },
  {
   "cell_type": "code",
   "execution_count": 124,
   "metadata": {
    "ExecuteTime": {
     "end_time": "2021-03-15T13:41:38.317971Z",
     "start_time": "2021-03-15T13:41:38.102055Z"
    }
   },
   "outputs": [
    {
     "name": "stdout",
     "output_type": "stream",
     "text": [
      "The autoreload extension is already loaded. To reload it, use:\n",
      "  %reload_ext autoreload\n",
      "The rpy2.ipython extension is already loaded. To reload it, use:\n",
      "  %reload_ext rpy2.ipython\n"
     ]
    },
    {
     "data": {
      "text/html": [
       "\n",
       "    <div class=\"bk-root\">\n",
       "        <a href=\"https://bokeh.pydata.org\" target=\"_blank\" class=\"bk-logo bk-logo-small bk-logo-notebook\"></a>\n",
       "        <span id=\"1002\">Loading BokehJS ...</span>\n",
       "    </div>"
      ]
     },
     "metadata": {},
     "output_type": "display_data"
    },
    {
     "data": {
      "application/javascript": [
       "\n",
       "(function(root) {\n",
       "  function now() {\n",
       "    return new Date();\n",
       "  }\n",
       "\n",
       "  var force = true;\n",
       "\n",
       "  if (typeof root._bokeh_onload_callbacks === \"undefined\" || force === true) {\n",
       "    root._bokeh_onload_callbacks = [];\n",
       "    root._bokeh_is_loading = undefined;\n",
       "  }\n",
       "\n",
       "  var JS_MIME_TYPE = 'application/javascript';\n",
       "  var HTML_MIME_TYPE = 'text/html';\n",
       "  var EXEC_MIME_TYPE = 'application/vnd.bokehjs_exec.v0+json';\n",
       "  var CLASS_NAME = 'output_bokeh rendered_html';\n",
       "\n",
       "  /**\n",
       "   * Render data to the DOM node\n",
       "   */\n",
       "  function render(props, node) {\n",
       "    var script = document.createElement(\"script\");\n",
       "    node.appendChild(script);\n",
       "  }\n",
       "\n",
       "  /**\n",
       "   * Handle when an output is cleared or removed\n",
       "   */\n",
       "  function handleClearOutput(event, handle) {\n",
       "    var cell = handle.cell;\n",
       "\n",
       "    var id = cell.output_area._bokeh_element_id;\n",
       "    var server_id = cell.output_area._bokeh_server_id;\n",
       "    // Clean up Bokeh references\n",
       "    if (id != null && id in Bokeh.index) {\n",
       "      Bokeh.index[id].model.document.clear();\n",
       "      delete Bokeh.index[id];\n",
       "    }\n",
       "\n",
       "    if (server_id !== undefined) {\n",
       "      // Clean up Bokeh references\n",
       "      var cmd = \"from bokeh.io.state import curstate; print(curstate().uuid_to_server['\" + server_id + \"'].get_sessions()[0].document.roots[0]._id)\";\n",
       "      cell.notebook.kernel.execute(cmd, {\n",
       "        iopub: {\n",
       "          output: function(msg) {\n",
       "            var id = msg.content.text.trim();\n",
       "            if (id in Bokeh.index) {\n",
       "              Bokeh.index[id].model.document.clear();\n",
       "              delete Bokeh.index[id];\n",
       "            }\n",
       "          }\n",
       "        }\n",
       "      });\n",
       "      // Destroy server and session\n",
       "      var cmd = \"import bokeh.io.notebook as ion; ion.destroy_server('\" + server_id + \"')\";\n",
       "      cell.notebook.kernel.execute(cmd);\n",
       "    }\n",
       "  }\n",
       "\n",
       "  /**\n",
       "   * Handle when a new output is added\n",
       "   */\n",
       "  function handleAddOutput(event, handle) {\n",
       "    var output_area = handle.output_area;\n",
       "    var output = handle.output;\n",
       "\n",
       "    // limit handleAddOutput to display_data with EXEC_MIME_TYPE content only\n",
       "    if ((output.output_type != \"display_data\") || (!output.data.hasOwnProperty(EXEC_MIME_TYPE))) {\n",
       "      return\n",
       "    }\n",
       "\n",
       "    var toinsert = output_area.element.find(\".\" + CLASS_NAME.split(' ')[0]);\n",
       "\n",
       "    if (output.metadata[EXEC_MIME_TYPE][\"id\"] !== undefined) {\n",
       "      toinsert[toinsert.length - 1].firstChild.textContent = output.data[JS_MIME_TYPE];\n",
       "      // store reference to embed id on output_area\n",
       "      output_area._bokeh_element_id = output.metadata[EXEC_MIME_TYPE][\"id\"];\n",
       "    }\n",
       "    if (output.metadata[EXEC_MIME_TYPE][\"server_id\"] !== undefined) {\n",
       "      var bk_div = document.createElement(\"div\");\n",
       "      bk_div.innerHTML = output.data[HTML_MIME_TYPE];\n",
       "      var script_attrs = bk_div.children[0].attributes;\n",
       "      for (var i = 0; i < script_attrs.length; i++) {\n",
       "        toinsert[toinsert.length - 1].firstChild.setAttribute(script_attrs[i].name, script_attrs[i].value);\n",
       "      }\n",
       "      // store reference to server id on output_area\n",
       "      output_area._bokeh_server_id = output.metadata[EXEC_MIME_TYPE][\"server_id\"];\n",
       "    }\n",
       "  }\n",
       "\n",
       "  function register_renderer(events, OutputArea) {\n",
       "\n",
       "    function append_mime(data, metadata, element) {\n",
       "      // create a DOM node to render to\n",
       "      var toinsert = this.create_output_subarea(\n",
       "        metadata,\n",
       "        CLASS_NAME,\n",
       "        EXEC_MIME_TYPE\n",
       "      );\n",
       "      this.keyboard_manager.register_events(toinsert);\n",
       "      // Render to node\n",
       "      var props = {data: data, metadata: metadata[EXEC_MIME_TYPE]};\n",
       "      render(props, toinsert[toinsert.length - 1]);\n",
       "      element.append(toinsert);\n",
       "      return toinsert\n",
       "    }\n",
       "\n",
       "    /* Handle when an output is cleared or removed */\n",
       "    events.on('clear_output.CodeCell', handleClearOutput);\n",
       "    events.on('delete.Cell', handleClearOutput);\n",
       "\n",
       "    /* Handle when a new output is added */\n",
       "    events.on('output_added.OutputArea', handleAddOutput);\n",
       "\n",
       "    /**\n",
       "     * Register the mime type and append_mime function with output_area\n",
       "     */\n",
       "    OutputArea.prototype.register_mime_type(EXEC_MIME_TYPE, append_mime, {\n",
       "      /* Is output safe? */\n",
       "      safe: true,\n",
       "      /* Index of renderer in `output_area.display_order` */\n",
       "      index: 0\n",
       "    });\n",
       "  }\n",
       "\n",
       "  // register the mime type if in Jupyter Notebook environment and previously unregistered\n",
       "  if (root.Jupyter !== undefined) {\n",
       "    var events = require('base/js/events');\n",
       "    var OutputArea = require('notebook/js/outputarea').OutputArea;\n",
       "\n",
       "    if (OutputArea.prototype.mime_types().indexOf(EXEC_MIME_TYPE) == -1) {\n",
       "      register_renderer(events, OutputArea);\n",
       "    }\n",
       "  }\n",
       "\n",
       "  \n",
       "  if (typeof (root._bokeh_timeout) === \"undefined\" || force === true) {\n",
       "    root._bokeh_timeout = Date.now() + 5000;\n",
       "    root._bokeh_failed_load = false;\n",
       "  }\n",
       "\n",
       "  var NB_LOAD_WARNING = {'data': {'text/html':\n",
       "     \"<div style='background-color: #fdd'>\\n\"+\n",
       "     \"<p>\\n\"+\n",
       "     \"BokehJS does not appear to have successfully loaded. If loading BokehJS from CDN, this \\n\"+\n",
       "     \"may be due to a slow or bad network connection. Possible fixes:\\n\"+\n",
       "     \"</p>\\n\"+\n",
       "     \"<ul>\\n\"+\n",
       "     \"<li>re-rerun `output_notebook()` to attempt to load from CDN again, or</li>\\n\"+\n",
       "     \"<li>use INLINE resources instead, as so:</li>\\n\"+\n",
       "     \"</ul>\\n\"+\n",
       "     \"<code>\\n\"+\n",
       "     \"from bokeh.resources import INLINE\\n\"+\n",
       "     \"output_notebook(resources=INLINE)\\n\"+\n",
       "     \"</code>\\n\"+\n",
       "     \"</div>\"}};\n",
       "\n",
       "  function display_loaded() {\n",
       "    var el = document.getElementById(\"1002\");\n",
       "    if (el != null) {\n",
       "      el.textContent = \"BokehJS is loading...\";\n",
       "    }\n",
       "    if (root.Bokeh !== undefined) {\n",
       "      if (el != null) {\n",
       "        el.textContent = \"BokehJS \" + root.Bokeh.version + \" successfully loaded.\";\n",
       "      }\n",
       "    } else if (Date.now() < root._bokeh_timeout) {\n",
       "      setTimeout(display_loaded, 100)\n",
       "    }\n",
       "  }\n",
       "\n",
       "\n",
       "  function run_callbacks() {\n",
       "    try {\n",
       "      root._bokeh_onload_callbacks.forEach(function(callback) {\n",
       "        if (callback != null)\n",
       "          callback();\n",
       "      });\n",
       "    } finally {\n",
       "      delete root._bokeh_onload_callbacks\n",
       "    }\n",
       "    console.debug(\"Bokeh: all callbacks have finished\");\n",
       "  }\n",
       "\n",
       "  function load_libs(css_urls, js_urls, callback) {\n",
       "    if (css_urls == null) css_urls = [];\n",
       "    if (js_urls == null) js_urls = [];\n",
       "\n",
       "    root._bokeh_onload_callbacks.push(callback);\n",
       "    if (root._bokeh_is_loading > 0) {\n",
       "      console.debug(\"Bokeh: BokehJS is being loaded, scheduling callback at\", now());\n",
       "      return null;\n",
       "    }\n",
       "    if (js_urls == null || js_urls.length === 0) {\n",
       "      run_callbacks();\n",
       "      return null;\n",
       "    }\n",
       "    console.debug(\"Bokeh: BokehJS not loaded, scheduling load and callback at\", now());\n",
       "    root._bokeh_is_loading = css_urls.length + js_urls.length;\n",
       "\n",
       "    function on_load() {\n",
       "      root._bokeh_is_loading--;\n",
       "      if (root._bokeh_is_loading === 0) {\n",
       "        console.debug(\"Bokeh: all BokehJS libraries/stylesheets loaded\");\n",
       "        run_callbacks()\n",
       "      }\n",
       "    }\n",
       "\n",
       "    function on_error() {\n",
       "      console.error(\"failed to load \" + url);\n",
       "    }\n",
       "\n",
       "    for (var i = 0; i < css_urls.length; i++) {\n",
       "      var url = css_urls[i];\n",
       "      const element = document.createElement(\"link\");\n",
       "      element.onload = on_load;\n",
       "      element.onerror = on_error;\n",
       "      element.rel = \"stylesheet\";\n",
       "      element.type = \"text/css\";\n",
       "      element.href = url;\n",
       "      console.debug(\"Bokeh: injecting link tag for BokehJS stylesheet: \", url);\n",
       "      document.body.appendChild(element);\n",
       "    }\n",
       "\n",
       "    for (var i = 0; i < js_urls.length; i++) {\n",
       "      var url = js_urls[i];\n",
       "      var element = document.createElement('script');\n",
       "      element.onload = on_load;\n",
       "      element.onerror = on_error;\n",
       "      element.async = false;\n",
       "      element.src = url;\n",
       "      console.debug(\"Bokeh: injecting script tag for BokehJS library: \", url);\n",
       "      document.head.appendChild(element);\n",
       "    }\n",
       "  };var element = document.getElementById(\"1002\");\n",
       "  if (element == null) {\n",
       "    console.error(\"Bokeh: ERROR: autoload.js configured with elementid '1002' but no matching script tag was found. \")\n",
       "    return false;\n",
       "  }\n",
       "\n",
       "  function inject_raw_css(css) {\n",
       "    const element = document.createElement(\"style\");\n",
       "    element.appendChild(document.createTextNode(css));\n",
       "    document.body.appendChild(element);\n",
       "  }\n",
       "\n",
       "  var js_urls = [\"https://cdn.pydata.org/bokeh/release/bokeh-1.3.4.min.js\", \"https://cdn.pydata.org/bokeh/release/bokeh-widgets-1.3.4.min.js\", \"https://cdn.pydata.org/bokeh/release/bokeh-tables-1.3.4.min.js\", \"https://cdn.pydata.org/bokeh/release/bokeh-gl-1.3.4.min.js\"];\n",
       "  var css_urls = [];\n",
       "\n",
       "  var inline_js = [\n",
       "    function(Bokeh) {\n",
       "      Bokeh.set_log_level(\"info\");\n",
       "    },\n",
       "    \n",
       "    function(Bokeh) {\n",
       "      \n",
       "    },\n",
       "    function(Bokeh) {} // ensure no trailing comma for IE\n",
       "  ];\n",
       "\n",
       "  function run_inline_js() {\n",
       "    \n",
       "    if ((root.Bokeh !== undefined) || (force === true)) {\n",
       "      for (var i = 0; i < inline_js.length; i++) {\n",
       "        inline_js[i].call(root, root.Bokeh);\n",
       "      }if (force === true) {\n",
       "        display_loaded();\n",
       "      }} else if (Date.now() < root._bokeh_timeout) {\n",
       "      setTimeout(run_inline_js, 100);\n",
       "    } else if (!root._bokeh_failed_load) {\n",
       "      console.log(\"Bokeh: BokehJS failed to load within specified timeout.\");\n",
       "      root._bokeh_failed_load = true;\n",
       "    } else if (force !== true) {\n",
       "      var cell = $(document.getElementById(\"1002\")).parents('.cell').data().cell;\n",
       "      cell.output_area.append_execute_result(NB_LOAD_WARNING)\n",
       "    }\n",
       "\n",
       "  }\n",
       "\n",
       "  if (root._bokeh_is_loading === 0) {\n",
       "    console.debug(\"Bokeh: BokehJS loaded, going straight to plotting\");\n",
       "    run_inline_js();\n",
       "  } else {\n",
       "    load_libs(css_urls, js_urls, function() {\n",
       "      console.debug(\"Bokeh: BokehJS plotting callback run at\", now());\n",
       "      run_inline_js();\n",
       "    });\n",
       "  }\n",
       "}(window));"
      ],
      "application/vnd.bokehjs_load.v0+json": "\n(function(root) {\n  function now() {\n    return new Date();\n  }\n\n  var force = true;\n\n  if (typeof root._bokeh_onload_callbacks === \"undefined\" || force === true) {\n    root._bokeh_onload_callbacks = [];\n    root._bokeh_is_loading = undefined;\n  }\n\n  \n\n  \n  if (typeof (root._bokeh_timeout) === \"undefined\" || force === true) {\n    root._bokeh_timeout = Date.now() + 5000;\n    root._bokeh_failed_load = false;\n  }\n\n  var NB_LOAD_WARNING = {'data': {'text/html':\n     \"<div style='background-color: #fdd'>\\n\"+\n     \"<p>\\n\"+\n     \"BokehJS does not appear to have successfully loaded. If loading BokehJS from CDN, this \\n\"+\n     \"may be due to a slow or bad network connection. Possible fixes:\\n\"+\n     \"</p>\\n\"+\n     \"<ul>\\n\"+\n     \"<li>re-rerun `output_notebook()` to attempt to load from CDN again, or</li>\\n\"+\n     \"<li>use INLINE resources instead, as so:</li>\\n\"+\n     \"</ul>\\n\"+\n     \"<code>\\n\"+\n     \"from bokeh.resources import INLINE\\n\"+\n     \"output_notebook(resources=INLINE)\\n\"+\n     \"</code>\\n\"+\n     \"</div>\"}};\n\n  function display_loaded() {\n    var el = document.getElementById(\"1002\");\n    if (el != null) {\n      el.textContent = \"BokehJS is loading...\";\n    }\n    if (root.Bokeh !== undefined) {\n      if (el != null) {\n        el.textContent = \"BokehJS \" + root.Bokeh.version + \" successfully loaded.\";\n      }\n    } else if (Date.now() < root._bokeh_timeout) {\n      setTimeout(display_loaded, 100)\n    }\n  }\n\n\n  function run_callbacks() {\n    try {\n      root._bokeh_onload_callbacks.forEach(function(callback) {\n        if (callback != null)\n          callback();\n      });\n    } finally {\n      delete root._bokeh_onload_callbacks\n    }\n    console.debug(\"Bokeh: all callbacks have finished\");\n  }\n\n  function load_libs(css_urls, js_urls, callback) {\n    if (css_urls == null) css_urls = [];\n    if (js_urls == null) js_urls = [];\n\n    root._bokeh_onload_callbacks.push(callback);\n    if (root._bokeh_is_loading > 0) {\n      console.debug(\"Bokeh: BokehJS is being loaded, scheduling callback at\", now());\n      return null;\n    }\n    if (js_urls == null || js_urls.length === 0) {\n      run_callbacks();\n      return null;\n    }\n    console.debug(\"Bokeh: BokehJS not loaded, scheduling load and callback at\", now());\n    root._bokeh_is_loading = css_urls.length + js_urls.length;\n\n    function on_load() {\n      root._bokeh_is_loading--;\n      if (root._bokeh_is_loading === 0) {\n        console.debug(\"Bokeh: all BokehJS libraries/stylesheets loaded\");\n        run_callbacks()\n      }\n    }\n\n    function on_error() {\n      console.error(\"failed to load \" + url);\n    }\n\n    for (var i = 0; i < css_urls.length; i++) {\n      var url = css_urls[i];\n      const element = document.createElement(\"link\");\n      element.onload = on_load;\n      element.onerror = on_error;\n      element.rel = \"stylesheet\";\n      element.type = \"text/css\";\n      element.href = url;\n      console.debug(\"Bokeh: injecting link tag for BokehJS stylesheet: \", url);\n      document.body.appendChild(element);\n    }\n\n    for (var i = 0; i < js_urls.length; i++) {\n      var url = js_urls[i];\n      var element = document.createElement('script');\n      element.onload = on_load;\n      element.onerror = on_error;\n      element.async = false;\n      element.src = url;\n      console.debug(\"Bokeh: injecting script tag for BokehJS library: \", url);\n      document.head.appendChild(element);\n    }\n  };var element = document.getElementById(\"1002\");\n  if (element == null) {\n    console.error(\"Bokeh: ERROR: autoload.js configured with elementid '1002' but no matching script tag was found. \")\n    return false;\n  }\n\n  function inject_raw_css(css) {\n    const element = document.createElement(\"style\");\n    element.appendChild(document.createTextNode(css));\n    document.body.appendChild(element);\n  }\n\n  var js_urls = [\"https://cdn.pydata.org/bokeh/release/bokeh-1.3.4.min.js\", \"https://cdn.pydata.org/bokeh/release/bokeh-widgets-1.3.4.min.js\", \"https://cdn.pydata.org/bokeh/release/bokeh-tables-1.3.4.min.js\", \"https://cdn.pydata.org/bokeh/release/bokeh-gl-1.3.4.min.js\"];\n  var css_urls = [];\n\n  var inline_js = [\n    function(Bokeh) {\n      Bokeh.set_log_level(\"info\");\n    },\n    \n    function(Bokeh) {\n      \n    },\n    function(Bokeh) {} // ensure no trailing comma for IE\n  ];\n\n  function run_inline_js() {\n    \n    if ((root.Bokeh !== undefined) || (force === true)) {\n      for (var i = 0; i < inline_js.length; i++) {\n        inline_js[i].call(root, root.Bokeh);\n      }if (force === true) {\n        display_loaded();\n      }} else if (Date.now() < root._bokeh_timeout) {\n      setTimeout(run_inline_js, 100);\n    } else if (!root._bokeh_failed_load) {\n      console.log(\"Bokeh: BokehJS failed to load within specified timeout.\");\n      root._bokeh_failed_load = true;\n    } else if (force !== true) {\n      var cell = $(document.getElementById(\"1002\")).parents('.cell').data().cell;\n      cell.output_area.append_execute_result(NB_LOAD_WARNING)\n    }\n\n  }\n\n  if (root._bokeh_is_loading === 0) {\n    console.debug(\"Bokeh: BokehJS loaded, going straight to plotting\");\n    run_inline_js();\n  } else {\n    load_libs(css_urls, js_urls, function() {\n      console.debug(\"Bokeh: BokehJS plotting callback run at\", now());\n      run_inline_js();\n    });\n  }\n}(window));"
     },
     "metadata": {},
     "output_type": "display_data"
    }
   ],
   "source": [
    "from __future__ import print_function\n",
    "import pandas as pd\n",
    "import numpy as np\n",
    "\n",
    "from src.CCLE_postp_function import *\n",
    "from genepy import terra\n",
    "from genepy.utils import helper as h\n",
    "from genepy.google import gcp\n",
    "from gsheets import Sheets\n",
    "from taigapy import TaigaClient\n",
    "import dalmatian as dm\n",
    "from genepy.google.google_sheet import dfToSheet\n",
    "\n",
    "from scipy.stats import pearsonr,spearmanr\n",
    "\n",
    "from bokeh.plotting import *\n",
    "from IPython.display import Image,display\n",
    "import seaborn as sns\n",
    "\n",
    "from biomart import BiomartServer\n",
    "import io\n",
    "\n",
    "%load_ext autoreload\n",
    "%autoreload 2\n",
    "%load_ext rpy2.ipython\n",
    "tc = TaigaClient()\n",
    "output_notebook()\n",
    "\n",
    "my_id = '~/.client_secret.json'\n",
    "mystorage_id = \"~/.storage.json\"\n",
    "# do the first steps of https://medium.com/craftsmenltd/from-csv-to-google-sheet-using-python-ef097cb014f9\n",
    "creds = '../.credentials.json'\n",
    "\n",
    "sheets = Sheets.from_files(my_id, mystorage_id)\n",
    "replace = {'T': 'Tumor', 'N': 'Normal', 'm': 'Unknown', 'L': 'Unknown'}"
   ]
  },
  {
   "cell_type": "markdown",
   "metadata": {},
   "source": [
    "## boot up\n",
    "\n",
    "- you first need to go to [taiga](https://cds.team/taiga/dataset) and create some new datasets for the virtual release\n",
    "- the easiest way to create a new dataset is to upload an empty file (since at least one file is required). This empty file can be deleted when you update the dataset with a new version\n",
    "\n",
    "we are instanciating all the parameters needed for this pipeline to run"
   ]
  },
  {
   "cell_type": "code",
   "execution_count": 125,
   "metadata": {
    "ExecuteTime": {
     "end_time": "2021-03-15T13:41:46.400450Z",
     "start_time": "2021-03-15T13:41:46.375525Z"
    }
   },
   "outputs": [],
   "source": [
    "samplesetname = \"21Q2\"\n",
    "\n",
    "refworkspace=\"broad-firecloud-ccle/DepMap_WES_CN_hg38\"\n",
    "genelist_hg38 = 'ftp://ftp.ncbi.nlm.nih.gov/pub/CCDS/current_human/CCDS.20180614.txt'\n",
    "\n",
    "refsheet_url = \"https://docs.google.com/spreadsheets/d/1Pgb5fIClGnErEqzxpU7qqX6ULpGTDjvzWwDN8XUJKIY\"\n",
    "sheeturl = \"https://docs.google.com/spreadsheets/d/115TUgA1t_mD32SnWAGpW9OKmJ2W5WYAOs3SuSdedpX4\"\n",
    "potential_list_url = \"https://docs.google.com/spreadsheets/d/1BEgH03V4OmGhYeciLCZV00h6hp3WkO0basahS93akCE\"\n",
    "\n",
    "CNWESmethods = [\n",
    "    \"gatk/PreProcessingForVariantDiscovery_GATK4/8\",\n",
    "    \"GP-TAG/Manta_SomaticSV/9\",\n",
    "    \"gkugener/ArrayOfFilesToTxt/1\",\n",
    "    \"vdauwera/BamToUnmappedRGBams/4\",\n",
    "    \"gatk/CNV_Somatic_Pair_Workflow/9\",\n",
    "    \"gkugener/Aggregate_CN_seg_files/2\"\n",
    "]\n",
    "\n",
    "#version 102\n",
    "ensemblserver = \"http://nov2020.archive.ensembl.org/biomart\" "
   ]
  },
  {
   "cell_type": "code",
   "execution_count": 126,
   "metadata": {
    "ExecuteTime": {
     "end_time": "2021-03-15T13:41:58.607156Z",
     "start_time": "2021-03-15T13:41:53.880922Z"
    }
   },
   "outputs": [
    {
     "data": {
      "text/plain": [
       "6771"
      ]
     },
     "execution_count": 126,
     "metadata": {},
     "output_type": "execute_result"
    }
   ],
   "source": [
    "release = samplesetname\n",
    "# we initialize the workspaces manager from dalmatian\n",
    "refwm = dm.WorkspaceManager(refworkspace)\n",
    "\n",
    "potential_list = sheets.get(potential_list_url).sheets[0].to_frame().values.T[0].tolist()\n",
    "\n",
    "ccle_refsamples = sheets.get(refsheet_url).sheets[0].to_frame(index_col=0)\n",
    "\n",
    "len(ccle_refsamples)"
   ]
  },
  {
   "cell_type": "markdown",
   "metadata": {},
   "source": [
    "## Check that we have all the cell lines we expect for this release\n",
    "\n",
    "This involves comparing to the list in the Google sheet \"Cell Line Profiling Status.\"\n",
    "\n",
    "_As the list cannot be parsed, we are not comparing it for now_"
   ]
  },
  {
   "cell_type": "code",
   "execution_count": null,
   "metadata": {},
   "outputs": [],
   "source": [
    "# this function may not work - it hasn't been tested\n",
    "url = 'https://docs.google.com/spreadsheets/d/1qus-9TKzqzwUMNWp8S1QP4s4-3SsMo2vuQRZrNXf7ag/edit?ts=5db85e27#gid=0&fvid=1627883727'\n",
    "\n",
    "compareToCuratedGS(url, sample = newsample[0], samplesetname = samplesetname, colname = 'CN New to internal')"
   ]
  },
  {
   "cell_type": "markdown",
   "metadata": {},
   "source": [
    "# run the pipeline\n",
    "\n",
    "We are using Dalmatian to send request to Terra, we are running a set of 5 functions To generate the copy number dataset:\n",
    "\n",
    "*   **BamToUnmappedRGBams_MC** vdauwera/BamToUnmappedRGBamsSnapshot ID: 3\n",
    "*   **Generate_uBAM_File_List** gkugener/ArrayOfFilesToTxtSnapshot ID: 1\n",
    "*   **Realign_WES_GATK4** gatk/PreProcessingForVariantDiscovery_GATK4Snapshot ID: 7\n",
    "*   **CNV_sample_XX** gatk/CNV_Somatic_Pair_WorkflowSnapshot ID: 9\n",
    "*   **Aggregate_CN_seg_files** gkugener/Aggregate_CN_seg_filesSnapshot ID: 2\n",
    "\n",
    "This output file for download will be saved under the sample set under the combined_seg_file attribute.\n",
    "\n",
    "There are several other tasks in this workspace. In brief:\n",
    "\n",
    "*   **CNV_Somatic_Panel_Workflow_Agilent_XX** gatk/CNV_Somatic_Panel_WorkflowSnapshot ID: 11. This task was used in this workspace to generate the Sanger PON. In the Sanger dataset, there is a set of 40 normal cell lines samples (cell lines derived from matched normal tissue). We can use these to generate a PON to normalize to rather than using the Agilent PON we use for the other CCLE cell lines. This leads to less noisy results. HOWEVER, results using the PON from this workflow should not use the X chromosome, as the sanger normals are not exclusively female or male (it is likely a mix).\n",
    "*   **SANGER_PON_CNV_sample_XX** gatk/CNV_Somatic_Pair_WorkflowSnapshot ID: 9. Same as the CNV_sample_XX_gatk, except that is uses the Sanger based PON. Should be used only for the Sanger cell lines.\n",
    "*   **Sanger_PON_Aggregate_CN_seg_files** gkugener/Aggregate_CN_seg_filesSnapshot ID: 2. Aggregates the segment files for the samples that were run using the Sanger PON based CNV workflow."
   ]
  },
  {
   "cell_type": "markdown",
   "metadata": {},
   "source": [
    "### cleaning workspaces"
   ]
  },
  {
   "cell_type": "code",
   "execution_count": null,
   "metadata": {},
   "outputs": [],
   "source": [
    "torm = terra.listHeavyFiles(refworkspace)\n",
    "h.parrun(['gsutil rm '+i for i in torm], cores=8)\n",
    "terra.removeFromFailedWorkflows(refworkspace, dryrun=False, everythingFor=['Realign_WES_GATK4','Generate_uBAM_File_List','BamToUnmappedRGBams_MC','CGA_WES_CCLE_ICE','CGA_WES_CCLE_AGILENT'])"
   ]
  },
  {
   "cell_type": "markdown",
   "metadata": {},
   "source": [
    "## On Terra"
   ]
  },
  {
   "cell_type": "code",
   "execution_count": null,
   "metadata": {},
   "outputs": [],
   "source": [
    "# a list of Terra workflows that are in the workspace and that we will call sequentially\n",
    "bamtoubam= \"BamToUnmappedRGBams_MC\"\n",
    "ubamtofilelist = \"Generate_uBAM_File_List\"\n",
    "realign=\"Realign_WES_GATK4\""
   ]
  },
  {
   "cell_type": "code",
   "execution_count": null,
   "metadata": {},
   "outputs": [],
   "source": [
    "# see dalmatian\n",
    "subid = refwm.create_submission(bamtoubam,samplesetname,\"sample_set\",\"this.samples\")\n",
    "terra.waitForSubmission(refworkspace, subid)"
   ]
  },
  {
   "cell_type": "code",
   "execution_count": null,
   "metadata": {},
   "outputs": [],
   "source": [
    "subid = refwm.create_submission(ubamtofilelist,samplesetname,\"sample_set\",\"this.samples\")\n",
    "terra.waitForSubmission(refworkspace, subid)"
   ]
  },
  {
   "cell_type": "code",
   "execution_count": null,
   "metadata": {},
   "outputs": [],
   "source": [
    "subid = refwm.create_submission(realign,samplesetname,\"sample_set\",\"this.samples\")\n",
    "terra.waitForSubmission(refworkspace, subid)"
   ]
  },
  {
   "cell_type": "code",
   "execution_count": null,
   "metadata": {},
   "outputs": [],
   "source": [
    "# Testing out the XY PoN for CN characterization. Will test by producing an output in a different column from usual so it's easy to delete the column attribute later\n",
    "# Also, need to make a split between Agilent and ICE samples..\n",
    "submission_id= refwm.create_submission(\"CNV_sample_XY_ice\",etype='sample_set',entity=samplesetname, expression='this.samples')\n",
    "terra.waitForSubmission(refworkspace,submission_id)"
   ]
  },
  {
   "cell_type": "markdown",
   "metadata": {},
   "source": [
    "### copy pairs data to sample data"
   ]
  },
  {
   "cell_type": "code",
   "execution_count": null,
   "metadata": {},
   "outputs": [],
   "source": [
    "pairs = refwm.get_pairs()"
   ]
  },
  {
   "cell_type": "code",
   "execution_count": null,
   "metadata": {},
   "outputs": [],
   "source": [
    "pairs = pairs[~pairs['called_copy_ratio_segments_tumor'].isna()]\n",
    "pairs = pairs.drop(columns=['case_sample','control_sample','participant'])\n",
    "pairs.index = [i.split('_')[0] for i in pairs.index]"
   ]
  },
  {
   "cell_type": "code",
   "execution_count": null,
   "metadata": {},
   "outputs": [],
   "source": [
    "refwm.update_sample_attributes(pairs)"
   ]
  },
  {
   "cell_type": "markdown",
   "metadata": {},
   "source": [
    "continuing"
   ]
  },
  {
   "cell_type": "code",
   "execution_count": null,
   "metadata": {},
   "outputs": [],
   "source": [
    "submission_id = refwm.create_submission(\"Aggregate_CN_seg_files\",entity=\"all\")\n",
    "terra.waitForSubmission(refworkspace,submission_id)"
   ]
  },
  {
   "cell_type": "markdown",
   "metadata": {},
   "source": [
    "__we are getting the results file path__"
   ]
  },
  {
   "cell_type": "code",
   "execution_count": null,
   "metadata": {},
   "outputs": [],
   "source": [
    "terra.waitForSubmission(refworkspace,submission_id)\n",
    "aggregated = refwm.get_entities('sample_set').loc['all'][\"combined_seg_file\"]\n",
    "aggregated"
   ]
  },
  {
   "cell_type": "markdown",
   "metadata": {},
   "source": [
    "## On local"
   ]
  },
  {
   "cell_type": "markdown",
   "metadata": {},
   "source": [
    "__We then save the workflow configurations used__"
   ]
  },
  {
   "cell_type": "code",
   "execution_count": null,
   "metadata": {},
   "outputs": [],
   "source": [
    "terra.saveConfigs(refworkspace,'data/'+samplesetname+'/CNVconfig')"
   ]
  },
  {
   "cell_type": "markdown",
   "metadata": {},
   "source": [
    "__delete unmapped bams generated during the process__"
   ]
  },
  {
   "cell_type": "code",
   "execution_count": null,
   "metadata": {},
   "outputs": [],
   "source": [
    "toremove = [\"readgroup_ubams\",]\n",
    "res = refwm.get_samples()\n",
    "for val in toremove:\n",
    "    refwm.disable_hound().delete_entity_attributes('sample', res[val], delete_files=True)"
   ]
  },
  {
   "cell_type": "code",
   "execution_count": null,
   "metadata": {},
   "outputs": [],
   "source": [
    "# sometimes the previous step does not work and you need to do it manually (you can run this to check it worked)\n",
    "for val in samplesinset.readgroup_ubams:\n",
    "    ubams = ''\n",
    "    if not type(val) is list:\n",
    "        continue \n",
    "    for v in val:\n",
    "        ubams+=' '+v\n",
    "    os.system('gsutil -m rm'+ubams)"
   ]
  },
  {
   "cell_type": "markdown",
   "metadata": {},
   "source": [
    "__and move the hg38 aligned bams to our own datastorage bucket__\n",
    "\n",
    "Note that we may encounter some WGS files, which need to go to a different folder from the WES bam files."
   ]
  },
  {
   "cell_type": "code",
   "execution_count": null,
   "metadata": {},
   "outputs": [],
   "source": [
    "samplesetname"
   ]
  },
  {
   "cell_type": "code",
   "execution_count": null,
   "metadata": {},
   "outputs": [],
   "source": [
    "#samplesinset = samples.index.tolist()\n",
    "samplesinset= [i['entityName'] for i in refwm.get_entities('sample_set').loc[samplesetname].samples]\n",
    "samplesinset"
   ]
  },
  {
   "cell_type": "code",
   "execution_count": null,
   "metadata": {},
   "outputs": [],
   "source": [
    "onlycol = ['hg38_analysis_ready_bam', 'hg38_analysis_ready_bam_index', 'hg38_analysis_ready_bam_md5']\n",
    "wes_newgs = 'gs://cclebams/hg38_wes/'\n",
    "wes_res, flagged = terra.changeGSlocation(refworkspace, newgs=wes_newgs, onlysamples=samplesinset, onlycol=onlycol, entity='sample', keeppath=False, dry_run = False)"
   ]
  },
  {
   "cell_type": "markdown",
   "metadata": {},
   "source": [
    "#### set it this way in our sample tracker"
   ]
  },
  {
   "cell_type": "code",
   "execution_count": null,
   "metadata": {},
   "outputs": [],
   "source": [
    "ccle_refsamples = sheets.get(refsheet_url).sheets[0].to_frame(index_col=0)"
   ]
  },
  {
   "cell_type": "code",
   "execution_count": null,
   "metadata": {},
   "outputs": [],
   "source": [
    "ccle_refsamples.loc[samplesinset,['legacy_bam_filepath','legacy_bai_filepath', 'legacy_size', 'legacy_crc32c_hash']] = ccle_refsamples.loc[samplesinset][['internal_bam_filepath', 'internal_bai_filepath', 'size', 'crc32c_hash']].values\n",
    "\n",
    "ccle_refsamples.loc[samplesinset,'internal_bam_filepath'] = wes_res['hg38_analysis_ready_bam'].values\n",
    "\n",
    "ccle_refsamples.loc[samplesinset,'internal_bai_filepath'] = wes_res['hg38_analysis_ready_bam_index'].values\n",
    "\n",
    "ccle_refsamples.loc[wes_res.index.tolist(),'size'] = [gcp.extractSize(i)[1] for i in gcp.lsFiles(wes_res['hg38_analysis_ready_bam'].tolist(),'-l')]\n",
    "\n",
    "ccle_refsamples.loc[wes_res.index.tolist(),'crc32c_hash'] = [gcp.extractHash(i) for i in gcp.lsFiles(wes_res['hg38_analysis_ready_bam'].tolist(),'-L')]\n",
    "\n",
    "ccle_refsamples.loc[wes_res.index.tolist(),'md5_hash'] = gcp.catFiles(wes_res['hg38_analysis_ready_bam_md5'].tolist(), cut=32)"
   ]
  },
  {
   "cell_type": "code",
   "execution_count": 121,
   "metadata": {
    "ExecuteTime": {
     "end_time": "2021-03-11T19:03:23.374226Z",
     "start_time": "2021-03-11T19:03:13.704607Z"
    }
   },
   "outputs": [],
   "source": [
    "dfToSheet(ccle_refsamples,'ccle sample tracker', secret=creds)"
   ]
  },
  {
   "cell_type": "markdown",
   "metadata": {},
   "source": [
    "### Get QC files"
   ]
  },
  {
   "cell_type": "code",
   "execution_count": null,
   "metadata": {},
   "outputs": [],
   "source": [
    "dataBam = getQC(workspace=refworkspace ,only=samplesinset, qcname=[\"hg38_duplication_metrics\",\"hg38_bqsr_report\"])\n",
    "dataCN = getQC(workspace=refworkspace ,only=samplesinset, qcname=[\"allelic_counts_tumor\",\"delta_MAD_tumor\",\"denoised_MAD_tumor\",\"scaled_delta_MAD_tumor\",\"denoised_copy_ratios_lim_4_plot_tumor\",\"denoised_copy_ratios_plot_tumor\",\"modeled_segments_plot_tumor\"])"
   ]
  },
  {
   "cell_type": "code",
   "execution_count": null,
   "metadata": {},
   "outputs": [],
   "source": [
    "for k,v in dataCN.items():\n",
    "    if k =='nan':\n",
    "        continue\n",
    "    ccle_refsamples.loc[k,'processing_qc'] = str(v)\n",
    "for k,v in dataBam.items():\n",
    "    if k =='nan':\n",
    "        continue\n",
    "    ccle_refsamples.loc[k,'bam_qc'] = str(v)"
   ]
  },
  {
   "cell_type": "code",
   "execution_count": null,
   "metadata": {},
   "outputs": [],
   "source": [
    "dfToSheet(ccle_refsamples,'ccle sample tracker', secret=creds)"
   ]
  },
  {
   "cell_type": "markdown",
   "metadata": {},
   "source": [
    "__We download and reprocess removing the appended version and keeping only the newest versions__"
   ]
  },
  {
   "cell_type": "code",
   "execution_count": null,
   "metadata": {},
   "outputs": [],
   "source": [
    "! gsutil cp $aggregated \"temp/cnv_ccle.called.seg\"\n",
    "segments = pd.read_csv(\"temp/cnv_ccle.called.seg\", sep='\\t')\n",
    "segments = segments.rename(columns={'CONTIG':'Chromosome',\n",
    "'START':'Start',\n",
    "'END':'End',\n",
    "'Sample':\"DepMap_ID\",\n",
    "'NUM_POINTS_COPY_RATIO':'Num_Probes',\n",
    "'MEAN_LOG2_COPY_RATIO':'Segment_Mean',\n",
    "'CALL':'Status'})\n",
    "# TODO: copy allelic calls as well\n",
    "len(set(segments.Sample))"
   ]
  },
  {
   "cell_type": "code",
   "execution_count": null,
   "metadata": {},
   "outputs": [],
   "source": [
    "segments = segments[~segments.DepMap_ID.isin(wrongswes)]"
   ]
  },
  {
   "cell_type": "code",
   "execution_count": null,
   "metadata": {},
   "outputs": [],
   "source": [
    "wrongswes = {'CDS-8Ut3sT','CDS-Ip02tY','CDS-Rd4nMx','CDS-TGTiB8','CDS-VnMBYD','CDS-YSRYLi','CDS-ZJh6UN','CDS-dgxjAa','CDS-0aJ4Yh','CDS-0lfqVz','CDS-0pZb0j','CDS-1b1Hxk','CDS-1djAlo','CDS-1p2nnc','CDS-34hKv3','CDS-3EBt51','CDS-3M6Pq9','CDS-3WygAj','CDS-49azaP','CDS-4sr6RL','CDS-5rD8XC','CDS-5wYxZS','CDS-6Yy3Yj','CDS-6da3hu','CDS-6l3V79','CDS-7PFldq','CDS-9XPgHB','CDS-9qDPiX','CDS-B0qAaq','CDS-CMenCH','CDS-CuJ0f8','CDS-Dkl8OF','CDS-Eq9UNX','CDS-FRxdcH','CDS-HNytLD','CDS-Hj3xAa','CDS-IJnjkY','CDS-Ig6N9S','CDS-KQDgIV','CDS-KYkMDa','CDS-KbbgMb','CDS-KgRznV','CDS-L0pDPl','CDS-M8xDMS','CDS-MLJbT2','CDS-MnF3x8','CDS-OCkOqy','CDS-ODmXrP','CDS-OgPf0h','CDS-PYw8ID','CDS-PdUZxY','CDS-QHp4h4','CDS-QU7ftt','CDS-QVhVDT','CDS-QXBhht','CDS-SJq3p4','CDS-Sp18uD','CDS-TpDBjm','CDS-TyWjJs','CDS-UV1pVE','CDS-UnDaBI','CDS-UtrDTK','CDS-W80jkV','CDS-WedVJA','CDS-WfjTcJ','CDS-X3c4UY','CDS-XQkXf4','CDS-XevQNc','CDS-YMIv9D','CDS-YYLKZ0','CDS-agZcmk','CDS-bntBUl','CDS-cAEii6','CDS-cYWYp7','CDS-cyuMYb','CDS-d18Xie','CDS-dpub1O','CDS-eUqT7L','CDS-eowEZF','CDS-fXMRF9','CDS-gIMBax','CDS-gRA4SM','CDS-iEULQm','CDS-ihI7Dp','CDS-iqPqOr','CDS-jqOvtj','CDS-kxNZ5S','CDS-leGxSD','CDS-nby0QM','CDS-no7ysz','CDS-o4dXGr','CDS-oHu1Ik','CDS-pXMN9C','CDS-picEuX','CDS-qZsCuJ','CDS-rLRUbG','CDS-txTRwz','CDS-uQ8nnX','CDS-yPSmxb''CDS-0qPmaJ','CDS-1PXzlf','CDS-1uWUTi','CDS-294bk6','CDS-2JxT1P','CDS-2LFZYm','CDS-2Q2Kia','CDS-2hGt1N','CDS-2lAFkD','CDS-2xSJmZ','CDS-3DHwSX','CDS-3FueNQ','CDS-3VNhFC','CDS-3jIdRa','CDS-3mvYnW','CDS-3pZIvU','CDS-49xzNU','CDS-4BrJr7','CDS-4S6juQ','CDS-4ZOQQF','CDS-4l9BUT','CDS-5H2go6','CDS-5IcijG','CDS-5LNjjI','CDS-5PXB9Y','CDS-5ViPeM','CDS-5bQzF2','CDS-5hbofu','CDS-6EyvRQ','CDS-6Fc0S5','CDS-6PZKz8','CDS-6mq2Or','CDS-6xyqy9','CDS-75psAH','CDS-7JWzyA','CDS-7nEZFG','CDS-7rcFYn','CDS-83LhEq','CDS-8aHSii','CDS-8mpXJa','CDS-8sQWae','CDS-8yHnJv','CDS-8z476r','CDS-96DdrP','CDS-9JpX07','CDS-9M8GNS','CDS-9sg0Pm','CDS-9u5DMn','CDS-9zidMf','CDS-AJMYsd','CDS-AOWMF3','CDS-AjRIMt','CDS-Awmxa5','CDS-BRxHbu','CDS-BnszE4','CDS-Bojgi7','CDS-C3hSav','CDS-C7o0op','CDS-CRPZeK','CDS-CZstO2','CDS-D6mIfI','CDS-DIckeT','CDS-DZMoWW','CDS-Eh7ost','CDS-Eo5oAR','CDS-EpURcL','CDS-EzZEgz','CDS-Fz0HXE','CDS-G1sVsw','CDS-GINQfy','CDS-GnBdHN','CDS-H1oKTL','CDS-H4hPhD','CDS-HEoDm7','CDS-HOVBCg','CDS-HjGCvC','CDS-HkZUmY','CDS-HoW111','CDS-Hv0i3y','CDS-Hw6KuA','CDS-Hx6zuD','CDS-I7bMcd','CDS-I97Uzq','CDS-IGOgCK','CDS-Iu8c04','CDS-IzeN7a','CDS-J3jfZW','CDS-J6kDsZ','CDS-JMfP1M','CDS-JvOeJK','CDS-K2tTmq','CDS-Kswf83','CDS-LCfY0q','CDS-LNTGnh','CDS-LOW19e','CDS-LUm1Vn','CDS-LVeuLY','CDS-LifesX','CDS-LnV7QY','CDS-M1sAGX','CDS-M8aV3P','CDS-MOOIHL','CDS-Md89va','CDS-MhXQX3','CDS-N83rwD','CDS-NBnCDl','CDS-NPG23x','CDS-NXnWiI','CDS-NZsio7','CDS-NjunRu','CDS-O1ShTQ','CDS-O8dfj7','CDS-OLgoE4','CDS-OWJaXi','CDS-OjLMVy','CDS-OnIxUL','CDS-OxQgBw','CDS-P79y6z','CDS-PHI8VT','CDS-PYWxsh','CDS-Pkk9e2','CDS-Pku96X','CDS-PyELSk','CDS-QE7bdY','CDS-Qbfoau','CDS-Ql8GJZ','CDS-QtTdY6','CDS-QxeMJW','CDS-R3txwY','CDS-R6ehaT','CDS-RFBAY6','CDS-RWYJ02','CDS-RnsUHX','CDS-RxQhcq','CDS-SO3AhH','CDS-SvzhGj','CDS-T10Uph','CDS-TCqSJW','CDS-TDblpN','CDS-TSDUCK','CDS-Twv1kD','CDS-Ty3mgt','CDS-UL1jLm','CDS-UVxUrF','CDS-UfC2Dz','CDS-Uru0Mh','CDS-UvBswk','CDS-UxKEaK','CDS-V2ZEuP','CDS-V6Kk5q','CDS-VBr00g','CDS-VCuHjJ','CDS-WAPQGk','CDS-WHZolj','CDS-WP95Oi','CDS-Ww1LC7','CDS-XJDBDj','CDS-Xgu4mi','CDS-XqaEOX','CDS-Y27yfi','CDS-YYd4ww','CDS-YnodyM','CDS-ZGlgTf','CDS-ZMsoXe','CDS-aDUHcI','CDS-aGMcvr','CDS-aXqwpM','CDS-allHxr','CDS-awunD8','CDS-b9sdh9','CDS-bPT1F0','CDS-bdb5iE','CDS-bons31','CDS-c2Sowd','CDS-cBOy2Z','CDS-cKMeDY','CDS-cMvnjL','CDS-ck9vpG','CDS-cmV75B','CDS-ctVpqU','CDS-dJqQ4g','CDS-dNVjOc','CDS-dPlJzz','CDS-dWHWU3','CDS-eGQYXr','CDS-eZg4P8','CDS-fLsYaB','CDS-fRpNQH','CDS-frzvLf','CDS-fs8moU','CDS-g0KUGN','CDS-gCSYjV','CDS-gKIdjs','CDS-gsqqAz','CDS-h4mOdz','CDS-hOI086','CDS-iKXYuH','CDS-iRstNJ','CDS-iX8vqU','CDS-ik526H','CDS-jHqXGP','CDS-kAARUi','CDS-kFiHZk','CDS-kt2Gne','CDS-ktRRkc','CDS-l1OClV','CDS-lSpYo6','CDS-lTogDX','CDS-ldrQm3','CDS-leyYAD','CDS-loy9vi','CDS-m49nRz','CDS-mGHY2S','CDS-mazUYU','CDS-mtMTts','CDS-n7Fqfe','CDS-nOKbmw','CDS-nTW67d','CDS-nYIBWR','CDS-ocw0rP','CDS-ogUnWk','CDS-ohjYlg','CDS-opnGD7','CDS-qIc5x3','CDS-qP2MBQ','CDS-qUtkjN','CDS-qaOoHQ','CDS-qeIIoY','CDS-qv2bpJ','CDS-r5Ym7C','CDS-rLadW7','CDS-rQIdNN','CDS-rQMY3G','CDS-rUs3FP','CDS-rVAuin','CDS-ragHOy','CDS-s7pOQR','CDS-sCWLGL','CDS-sbwn0P','CDS-sieIuO','CDS-soTPPi','CDS-tORJC8','CDS-tPR3fn','CDS-tYXity','CDS-tgnRyK','CDS-u1AlUI','CDS-uGZguG','CDS-w7i5l7','CDS-w8wJvh','CDS-wSV3OM','CDS-wWwBMZ','CDS-wbPtTZ','CDS-wlTAAF','CDS-wpXVQk','CDS-x21VqU','CDS-x7srFK','CDS-xCyamv','CDS-xI8ZAZ','CDS-xIv1KJ','CDS-xKNh7Q','CDS-yCSYHi','CDS-ycD9px','CDS-ydPJEM','CDS-z8Bvmk','CDS-ziEOXJ','CDS-zwAn7G'}"
   ]
  },
  {
   "cell_type": "markdown",
   "metadata": {},
   "source": [
    "### Priorization\n",
    "\n",
    "add columns to seg file with arxspan ID, version. only keep the newest version for any given arxspan ID.\n",
    "The process to keep the newest version of any given line is a little different from 20Q2 onwards, because don't have any dataset that uses the CDS-IDs for the data from 20Q1 or earlier.\n",
    "\n",
    "We have to download the Taiga datasets from the previous quarter, see if we have any arxspan IDs with new data, and then replace with that data. We use the function called \"removeOlderVersions\" to do this."
   ]
  },
  {
   "cell_type": "code",
   "execution_count": null,
   "metadata": {},
   "outputs": [],
   "source": [
    "renaming = removeOlderVersions(names=set(segments.DepMap_ID.tolist()), refsamples=ccle_refsamples[ccle_refsamples.datatype==\"wes\"], arxspan_id=\"arxspan_id\", version=\"version\")"
   ]
  },
  {
   "cell_type": "markdown",
   "metadata": {},
   "source": [
    "## post Procesing\n",
    "\n",
    "The post processing happens in R using guillaume's functions, in brief:\n",
    "\n",
    "- processSegments\n",
    "- filterForCCLE\n",
    "- interpolateGapsInSegmented\n",
    "- extendEndsOfSegments\n",
    "- reprioritizeData"
   ]
  },
  {
   "cell_type": "code",
   "execution_count": null,
   "metadata": {},
   "outputs": [],
   "source": [
    "notWESnotlegacy = notWES - set(legacy_segments.DepMap_ID)\n",
    "%store notWESnotlegacy\n",
    "notWESnotlegacy"
   ]
  },
  {
   "cell_type": "code",
   "execution_count": 71,
   "metadata": {
    "ExecuteTime": {
     "end_time": "2021-03-01T19:01:18.052964Z",
     "start_time": "2021-03-01T19:01:15.784965Z"
    }
   },
   "outputs": [
    {
     "name": "stdout",
     "output_type": "stream",
     "text": [
      "{'ENSEMBL_MART_ENSEMBL': Ensembl Genes 102,\n",
      " 'ENSEMBL_MART_FUNCGEN': Ensembl Regulation 102,\n",
      " 'ENSEMBL_MART_GENOMIC': Genomic features 102,\n",
      " 'ENSEMBL_MART_MOUSE': Mouse strains 102,\n",
      " 'ENSEMBL_MART_ONTOLOGY': Ontology,\n",
      " 'ENSEMBL_MART_SEQUENCE': Sequence,\n",
      " 'ENSEMBL_MART_SNP': Ensembl Variation 102}\n"
     ]
    }
   ],
   "source": [
    "server = BiomartServer(ensemblserver)\n",
    "ensmbl = server.datasets['hsapiens_gene_ensembl']\n",
    "server.show_databases()"
   ]
  },
  {
   "cell_type": "code",
   "execution_count": 64,
   "metadata": {
    "ExecuteTime": {
     "end_time": "2021-03-01T18:46:47.813410Z",
     "start_time": "2021-03-01T18:46:38.721218Z"
    }
   },
   "outputs": [],
   "source": [
    "server = BiomartServer( \"http://www.nov2020.archive.ensembl.org/biomart\" )\n",
    "ensmbl = server.datasets['hsapiens_gene_ensembl']\n",
    "server.show_databases()\n",
    "\n"
   ]
  },
  {
   "cell_type": "code",
   "execution_count": 69,
   "metadata": {
    "ExecuteTime": {
     "end_time": "2021-03-01T18:51:08.312358Z",
     "start_time": "2021-03-01T18:51:08.269378Z"
    }
   },
   "outputs": [
    {
     "data": {
      "text/html": [
       "<div>\n",
       "<style scoped>\n",
       "    .dataframe tbody tr th:only-of-type {\n",
       "        vertical-align: middle;\n",
       "    }\n",
       "\n",
       "    .dataframe tbody tr th {\n",
       "        vertical-align: top;\n",
       "    }\n",
       "\n",
       "    .dataframe thead th {\n",
       "        text-align: right;\n",
       "    }\n",
       "</style>\n",
       "<table border=\"1\" class=\"dataframe\">\n",
       "  <thead>\n",
       "    <tr style=\"text-align: right;\">\n",
       "      <th></th>\n",
       "      <th>clone_based_ensembl_gene</th>\n",
       "      <th>hgnc_symbol</th>\n",
       "      <th>gene_biotype</th>\n",
       "      <th>entrezgene_id</th>\n",
       "      <th>start</th>\n",
       "      <th>end</th>\n",
       "      <th>chr</th>\n",
       "    </tr>\n",
       "    <tr>\n",
       "      <th>ensembl_gene_id</th>\n",
       "      <th></th>\n",
       "      <th></th>\n",
       "      <th></th>\n",
       "      <th></th>\n",
       "      <th></th>\n",
       "      <th></th>\n",
       "      <th></th>\n",
       "    </tr>\n",
       "  </thead>\n",
       "  <tbody>\n",
       "    <tr>\n",
       "      <th>ENSG00000198888</th>\n",
       "      <td>NaN</td>\n",
       "      <td>MT-ND1</td>\n",
       "      <td>protein_coding</td>\n",
       "      <td>4535.0</td>\n",
       "      <td>3307</td>\n",
       "      <td>4262</td>\n",
       "      <td>MT</td>\n",
       "    </tr>\n",
       "    <tr>\n",
       "      <th>ENSG00000198763</th>\n",
       "      <td>NaN</td>\n",
       "      <td>MT-ND2</td>\n",
       "      <td>protein_coding</td>\n",
       "      <td>4536.0</td>\n",
       "      <td>4470</td>\n",
       "      <td>5511</td>\n",
       "      <td>MT</td>\n",
       "    </tr>\n",
       "    <tr>\n",
       "      <th>ENSG00000198804</th>\n",
       "      <td>NaN</td>\n",
       "      <td>MT-CO1</td>\n",
       "      <td>protein_coding</td>\n",
       "      <td>4512.0</td>\n",
       "      <td>5904</td>\n",
       "      <td>7445</td>\n",
       "      <td>MT</td>\n",
       "    </tr>\n",
       "    <tr>\n",
       "      <th>ENSG00000198712</th>\n",
       "      <td>NaN</td>\n",
       "      <td>MT-CO2</td>\n",
       "      <td>protein_coding</td>\n",
       "      <td>4513.0</td>\n",
       "      <td>7586</td>\n",
       "      <td>8269</td>\n",
       "      <td>MT</td>\n",
       "    </tr>\n",
       "    <tr>\n",
       "      <th>ENSG00000228253</th>\n",
       "      <td>NaN</td>\n",
       "      <td>MT-ATP8</td>\n",
       "      <td>protein_coding</td>\n",
       "      <td>4509.0</td>\n",
       "      <td>8366</td>\n",
       "      <td>8572</td>\n",
       "      <td>MT</td>\n",
       "    </tr>\n",
       "    <tr>\n",
       "      <th>...</th>\n",
       "      <td>...</td>\n",
       "      <td>...</td>\n",
       "      <td>...</td>\n",
       "      <td>...</td>\n",
       "      <td>...</td>\n",
       "      <td>...</td>\n",
       "      <td>...</td>\n",
       "    </tr>\n",
       "    <tr>\n",
       "      <th>ENSG00000189181</th>\n",
       "      <td>NaN</td>\n",
       "      <td>OR14I1</td>\n",
       "      <td>protein_coding</td>\n",
       "      <td>401994.0</td>\n",
       "      <td>248681322</td>\n",
       "      <td>248682328</td>\n",
       "      <td>1</td>\n",
       "    </tr>\n",
       "    <tr>\n",
       "      <th>ENSG00000175137</th>\n",
       "      <td>NaN</td>\n",
       "      <td>SH3BP5L</td>\n",
       "      <td>protein_coding</td>\n",
       "      <td>80851.0</td>\n",
       "      <td>248810446</td>\n",
       "      <td>248825915</td>\n",
       "      <td>1</td>\n",
       "    </tr>\n",
       "    <tr>\n",
       "      <th>ENSG00000171161</th>\n",
       "      <td>NaN</td>\n",
       "      <td>ZNF672</td>\n",
       "      <td>protein_coding</td>\n",
       "      <td>79894.0</td>\n",
       "      <td>248838210</td>\n",
       "      <td>248849517</td>\n",
       "      <td>1</td>\n",
       "    </tr>\n",
       "    <tr>\n",
       "      <th>ENSG00000171163</th>\n",
       "      <td>NaN</td>\n",
       "      <td>ZNF692</td>\n",
       "      <td>protein_coding</td>\n",
       "      <td>55657.0</td>\n",
       "      <td>248850006</td>\n",
       "      <td>248859144</td>\n",
       "      <td>1</td>\n",
       "    </tr>\n",
       "    <tr>\n",
       "      <th>ENSG00000185220</th>\n",
       "      <td>NaN</td>\n",
       "      <td>PGBD2</td>\n",
       "      <td>protein_coding</td>\n",
       "      <td>267002.0</td>\n",
       "      <td>248906196</td>\n",
       "      <td>248919946</td>\n",
       "      <td>1</td>\n",
       "    </tr>\n",
       "  </tbody>\n",
       "</table>\n",
       "<p>23048 rows × 7 columns</p>\n",
       "</div>"
      ],
      "text/plain": [
       "                clone_based_ensembl_gene hgnc_symbol    gene_biotype  \\\n",
       "ensembl_gene_id                                                        \n",
       "ENSG00000198888                      NaN      MT-ND1  protein_coding   \n",
       "ENSG00000198763                      NaN      MT-ND2  protein_coding   \n",
       "ENSG00000198804                      NaN      MT-CO1  protein_coding   \n",
       "ENSG00000198712                      NaN      MT-CO2  protein_coding   \n",
       "ENSG00000228253                      NaN     MT-ATP8  protein_coding   \n",
       "...                                  ...         ...             ...   \n",
       "ENSG00000189181                      NaN      OR14I1  protein_coding   \n",
       "ENSG00000175137                      NaN     SH3BP5L  protein_coding   \n",
       "ENSG00000171161                      NaN      ZNF672  protein_coding   \n",
       "ENSG00000171163                      NaN      ZNF692  protein_coding   \n",
       "ENSG00000185220                      NaN       PGBD2  protein_coding   \n",
       "\n",
       "                 entrezgene_id      start        end chr  \n",
       "ensembl_gene_id                                           \n",
       "ENSG00000198888         4535.0       3307       4262  MT  \n",
       "ENSG00000198763         4536.0       4470       5511  MT  \n",
       "ENSG00000198804         4512.0       5904       7445  MT  \n",
       "ENSG00000198712         4513.0       7586       8269  MT  \n",
       "ENSG00000228253         4509.0       8366       8572  MT  \n",
       "...                        ...        ...        ...  ..  \n",
       "ENSG00000189181       401994.0  248681322  248682328   1  \n",
       "ENSG00000175137        80851.0  248810446  248825915   1  \n",
       "ENSG00000171161        79894.0  248838210  248849517   1  \n",
       "ENSG00000171163        55657.0  248850006  248859144   1  \n",
       "ENSG00000185220       267002.0  248906196  248919946   1  \n",
       "\n",
       "[23048 rows x 7 columns]"
      ]
     },
     "execution_count": 69,
     "metadata": {},
     "output_type": "execute_result"
    }
   ],
   "source": [
    "genemapping[genemapping.gene_biotype==\"protein_coding\"]"
   ]
  },
  {
   "cell_type": "code",
   "execution_count": 67,
   "metadata": {
    "ExecuteTime": {
     "end_time": "2021-03-01T18:47:10.302599Z",
     "start_time": "2021-03-01T18:47:10.249366Z"
    }
   },
   "outputs": [
    {
     "data": {
      "text/plain": [
       "{'ENSG00000210049': 'MT-TF (ENSG00000210049)',\n",
       " 'ENSG00000211459': 'MT-RNR1 (ENSG00000211459)',\n",
       " 'ENSG00000210077': 'MT-TV (ENSG00000210077)',\n",
       " 'ENSG00000210082': 'MT-RNR2 (ENSG00000210082)',\n",
       " 'ENSG00000209082': 'MT-TL1 (ENSG00000209082)',\n",
       " 'ENSG00000198888': 'MT-ND1 (ENSG00000198888)',\n",
       " 'ENSG00000210100': 'MT-TI (ENSG00000210100)',\n",
       " 'ENSG00000210107': 'MT-TQ (ENSG00000210107)',\n",
       " 'ENSG00000210112': 'MT-TM (ENSG00000210112)',\n",
       " 'ENSG00000198763': 'MT-ND2 (ENSG00000198763)',\n",
       " 'ENSG00000210117': 'MT-TW (ENSG00000210117)',\n",
       " 'ENSG00000210127': 'MT-TA (ENSG00000210127)',\n",
       " 'ENSG00000210135': 'MT-TN (ENSG00000210135)',\n",
       " 'ENSG00000210140': 'MT-TC (ENSG00000210140)',\n",
       " 'ENSG00000210144': 'MT-TY (ENSG00000210144)',\n",
       " 'ENSG00000198804': 'MT-CO1 (ENSG00000198804)',\n",
       " 'ENSG00000210151': 'MT-TS1 (ENSG00000210151)',\n",
       " 'ENSG00000210154': 'MT-TD (ENSG00000210154)',\n",
       " 'ENSG00000198712': 'MT-CO2 (ENSG00000198712)',\n",
       " 'ENSG00000210156': 'MT-TK (ENSG00000210156)',\n",
       " 'ENSG00000228253': 'MT-ATP8 (ENSG00000228253)',\n",
       " 'ENSG00000198899': 'MT-ATP6 (ENSG00000198899)',\n",
       " 'ENSG00000198938': 'MT-CO3 (ENSG00000198938)',\n",
       " 'ENSG00000210164': 'MT-TG (ENSG00000210164)',\n",
       " 'ENSG00000198840': 'MT-ND3 (ENSG00000198840)',\n",
       " 'ENSG00000210174': 'MT-TR (ENSG00000210174)',\n",
       " 'ENSG00000212907': 'MT-ND4L (ENSG00000212907)',\n",
       " 'ENSG00000198886': 'MT-ND4 (ENSG00000198886)',\n",
       " 'ENSG00000210176': 'MT-TH (ENSG00000210176)',\n",
       " 'ENSG00000210184': 'MT-TS2 (ENSG00000210184)',\n",
       " 'ENSG00000210191': 'MT-TL2 (ENSG00000210191)',\n",
       " 'ENSG00000198786': 'MT-ND5 (ENSG00000198786)',\n",
       " 'ENSG00000198695': 'MT-ND6 (ENSG00000198695)',\n",
       " 'ENSG00000210194': 'MT-TE (ENSG00000210194)',\n",
       " 'ENSG00000198727': 'MT-CYB (ENSG00000198727)',\n",
       " 'ENSG00000210195': 'MT-TT (ENSG00000210195)',\n",
       " 'ENSG00000210196': 'MT-TP (ENSG00000210196)',\n",
       " 'ENSG00000271254': 'AC240274.1 (ENSG00000271254)',\n",
       " 'ENSG00000281806': 'AC208876.2 (ENSG00000281806)',\n",
       " 'ENSG00000278704': 'BX004987.1 (ENSG00000278704)',\n",
       " 'ENSG00000277995': 'AC025771.2 (ENSG00000277995)',\n",
       " 'ENSG00000275151': 'AC025771.1 (ENSG00000275151)',\n",
       " 'ENSG00000274882': 'LINC02109 (ENSG00000274882)',\n",
       " 'ENSG00000280538': 'AC208876.1 (ENSG00000280538)',\n",
       " 'ENSG00000279969': 'AC112172.1 (ENSG00000279969)',\n",
       " 'ENSG00000277044': 'OPRL1 (ENSG00000277044)',\n",
       " 'ENSG00000277339': 'NPBWR2 (ENSG00000277339)',\n",
       " 'ENSG00000280695': 'AC226131.1 (ENSG00000280695)',\n",
       " 'ENSG00000276876': 'MYT1 (ENSG00000276876)',\n",
       " 'ENSG00000275018': 'AL121581.1 (ENSG00000275018)',\n",
       " 'ENSG00000280663': 'PCMTD2 (ENSG00000280663)',\n",
       " 'ENSG00000262767': 'GEMIN2P1 (ENSG00000262767)',\n",
       " 'ENSG00000262994': 'AC217323.1 (ENSG00000262994)',\n",
       " 'ENSG00000262826': 'INTS3 (ENSG00000262826)',\n",
       " 'ENSG00000277570': 'LILRP1 (ENSG00000277570)',\n",
       " 'ENSG00000276306': 'AC245128.8 (ENSG00000276306)',\n",
       " 'ENSG00000275442': 'LILRP2 (ENSG00000275442)',\n",
       " 'ENSG00000274696': 'KIR3DL3 (ENSG00000274696)',\n",
       " 'ENSG00000276307': 'LILRP1 (ENSG00000276307)',\n",
       " 'ENSG00000273918': 'AC245128.4 (ENSG00000273918)',\n",
       " 'ENSG00000273883': 'LILRP2 (ENSG00000273883)',\n",
       " 'ENSG00000274339': 'LILRP1 (ENSG00000274339)',\n",
       " 'ENSG00000276808': 'AC245128.10 (ENSG00000276808)',\n",
       " 'ENSG00000274861': 'LILRP2 (ENSG00000274861)',\n",
       " 'ENSG00000274763': 'KIR3DL3 (ENSG00000274763)',\n",
       " 'ENSG00000276099': 'LILRP1 (ENSG00000276099)',\n",
       " 'ENSG00000273502': 'KIR3DL3 (ENSG00000273502)',\n",
       " 'ENSG00000274120': 'LILRP2 (ENSG00000274120)',\n",
       " 'ENSG00000275172': 'KIR3DL3 (ENSG00000275172)',\n",
       " 'ENSG00000274788': 'LILRP2 (ENSG00000274788)',\n",
       " 'ENSG00000274480': 'KIR3DL3 (ENSG00000274480)',\n",
       " 'ENSG00000277484': 'KIR2DL3 (ENSG00000277484)',\n",
       " 'ENSG00000276806': 'KIR3DL3 (ENSG00000276806)',\n",
       " 'ENSG00000278325': 'LILRP1 (ENSG00000278325)',\n",
       " 'ENSG00000275112': 'LILRP1 (ENSG00000275112)',\n",
       " 'ENSG00000276974': 'AC245128.11 (ENSG00000276974)',\n",
       " 'ENSG00000274130': 'AC245128.7 (ENSG00000274130)',\n",
       " 'ENSG00000274271': 'LILRP1 (ENSG00000274271)',\n",
       " 'ENSG00000278788': 'SBNO2 (ENSG00000278788)',\n",
       " 'ENSG00000275433': 'KIR3DL3 (ENSG00000275433)',\n",
       " 'ENSG00000274891': 'TRAPPC12 (ENSG00000274891)',\n",
       " 'ENSG00000274826': 'LILRP2 (ENSG00000274826)',\n",
       " 'ENSG00000277267': 'LILRP2 (ENSG00000277267)',\n",
       " 'ENSG00000276247': 'LILRP2 (ENSG00000276247)',\n",
       " 'ENSG00000275623': 'KIR2DL3 (ENSG00000275623)',\n",
       " 'ENSG00000273947': 'KIR2DL3 (ENSG00000273947)',\n",
       " 'ENSG00000278614': 'KIR2DP1 (ENSG00000278614)',\n",
       " 'ENSG00000278339': 'KIR2DP1 (ENSG00000278339)',\n",
       " 'ENSG00000276433': 'KIR3DL3 (ENSG00000276433)',\n",
       " 'ENSG00000278821': 'KIR2DL1 (ENSG00000278821)',\n",
       " 'ENSG00000277620': 'KIR3DL3 (ENSG00000277620)',\n",
       " 'ENSG00000276930': 'KIR3DL3 (ENSG00000276930)',\n",
       " 'ENSG00000276218': 'KIR2DL3 (ENSG00000276218)',\n",
       " 'ENSG00000277240': 'LILRP1 (ENSG00000277240)',\n",
       " 'ENSG00000276425': 'GU182359.4 (ENSG00000276425)',\n",
       " 'ENSG00000276324': 'AC245128.9 (ENSG00000276324)',\n",
       " 'ENSG00000273510': 'KIR2DL1 (ENSG00000273510)',\n",
       " 'ENSG00000277963': 'LILRP2 (ENSG00000277963)',\n",
       " 'ENSG00000273578': 'GU182359.1 (ENSG00000273578)',\n",
       " 'ENSG00000274912': 'KIR2DP1 (ENSG00000274912)',\n",
       " 'ENSG00000277921': 'LILRP1 (ENSG00000277921)',\n",
       " 'ENSG00000274009': 'AC245128.5 (ENSG00000274009)',\n",
       " 'ENSG00000275513': 'KIR3DL3 (ENSG00000275513)',\n",
       " 'ENSG00000274842': 'LILRP2 (ENSG00000274842)',\n",
       " 'ENSG00000276310': 'KIR2DL1 (ENSG00000276310)',\n",
       " 'ENSG00000276212': 'KIR3DP1 (ENSG00000276212)',\n",
       " 'ENSG00000274556': 'KIR3DL3 (ENSG00000274556)',\n",
       " 'ENSG00000273881': 'LILRP1 (ENSG00000273881)',\n",
       " 'ENSG00000280770': 'AC216281.1 (ENSG00000280770)',\n",
       " 'ENSG00000277940': 'AC245128.14 (ENSG00000277940)',\n",
       " 'ENSG00000263130': 'AL513523.7 (ENSG00000263130)',\n",
       " 'ENSG00000281723': 'AC114810.2 (ENSG00000281723)',\n",
       " 'ENSG00000275289': 'LILRP2 (ENSG00000275289)',\n",
       " 'ENSG00000275452': 'KIR2DS2 (ENSG00000275452)',\n",
       " 'ENSG00000263275': 'AL513523.8 (ENSG00000263275)',\n",
       " 'ENSG00000277355': 'KIR2DL4 (ENSG00000277355)',\n",
       " 'ENSG00000280830': 'ADI1 (ENSG00000280830)',\n",
       " 'ENSG00000269823': 'AL513523.9 (ENSG00000269823)',\n",
       " 'ENSG00000276328': 'KIR3DL3 (ENSG00000276328)',\n",
       " 'ENSG00000263163': 'SLC27A3 (ENSG00000263163)',\n",
       " 'ENSG00000277596': 'GU182343.4 (ENSG00000277596)',\n",
       " 'ENSG00000278327': 'KIR2DL3 (ENSG00000278327)',\n",
       " 'ENSG00000278369': 'KIR2DL3 (ENSG00000278369)',\n",
       " 'ENSG00000275815': 'KIR2DP1 (ENSG00000275815)',\n",
       " 'ENSG00000276625': 'KIR2DL1 (ENSG00000276625)',\n",
       " 'ENSG00000277392': 'KIR3DL3 (ENSG00000277392)',\n",
       " 'ENSG00000274545': 'LILRP1 (ENSG00000274545)',\n",
       " 'ENSG00000277552': 'KIR3DL3 (ENSG00000277552)',\n",
       " 'ENSG00000278360': 'AC245128.15 (ENSG00000278360)',\n",
       " 'ENSG00000278288': 'LILRP2 (ENSG00000278288)',\n",
       " 'ENSG00000278490': 'KIR3DL3 (ENSG00000278490)',\n",
       " 'ENSG00000278152': 'AL133414.6 (ENSG00000278152)',\n",
       " 'ENSG00000274518': 'GU182357.2 (ENSG00000274518)',\n",
       " 'ENSG00000278731': 'GU182357.5 (ENSG00000278731)',\n",
       " 'ENSG00000274438': 'GU182351.1 (ENSG00000274438)',\n",
       " 'ENSG00000277317': 'KIR2DL3 (ENSG00000277317)',\n",
       " 'ENSG00000274707': 'GU182343.2 (ENSG00000274707)',\n",
       " 'ENSG00000278414': 'GU182357.4 (ENSG00000278414)',\n",
       " 'ENSG00000275914': 'GU182351.4 (ENSG00000275914)',\n",
       " 'ENSG00000273522': 'KIR2DP1 (ENSG00000273522)',\n",
       " 'ENSG00000277630': 'BX072566.1 (ENSG00000277630)',\n",
       " 'ENSG00000274243': 'GU182357.1 (ENSG00000274243)',\n",
       " 'ENSG00000277070': 'LILRP1 (ENSG00000277070)',\n",
       " 'ENSG00000275436': 'GU182351.3 (ENSG00000275436)',\n",
       " 'ENSG00000273755': 'LILRP2 (ENSG00000273755)',\n",
       " 'ENSG00000278755': 'KIR2DL1 (ENSG00000278755)',\n",
       " 'ENSG00000277028': 'KIR3DL3 (ENSG00000277028)',\n",
       " 'ENSG00000276013': 'GU182357.3 (ENSG00000276013)',\n",
       " 'ENSG00000278051': 'KIR3DP1 (ENSG00000278051)',\n",
       " 'ENSG00000274830': 'KIR2DL3 (ENSG00000274830)',\n",
       " 'ENSG00000277362': 'KIR2DL4 (ENSG00000277362)',\n",
       " 'ENSG00000274851': 'KIR2DP1 (ENSG00000274851)',\n",
       " 'ENSG00000277616': 'KIR2DL1 (ENSG00000277616)',\n",
       " 'ENSG00000264450': 'AC004231.2 (ENSG00000264450)',\n",
       " 'ENSG00000274724': 'KIR3DL3 (ENSG00000274724)',\n",
       " 'ENSG00000263243': 'KRT12 (ENSG00000263243)',\n",
       " 'ENSG00000274782': 'KIR2DL1 (ENSG00000274782)',\n",
       " 'ENSG00000273955': 'KIR2DP1 (ENSG00000273955)',\n",
       " 'ENSG00000277554': 'KIR2DL3 (ENSG00000277554)',\n",
       " 'ENSG00000273794': 'KIR2DL1 (ENSG00000273794)',\n",
       " 'ENSG00000274942': 'KIR2DP1 (ENSG00000274942)',\n",
       " 'ENSG00000277560': 'KIR3DP1 (ENSG00000277560)',\n",
       " 'ENSG00000275276': 'KIR2DL1 (ENSG00000275276)',\n",
       " 'ENSG00000276779': 'KIR2DL4 (ENSG00000276779)',\n",
       " 'ENSG00000263057': 'KRT20 (ENSG00000263057)',\n",
       " 'ENSG00000274108': 'KIR2DL3 (ENSG00000274108)',\n",
       " 'ENSG00000275593': 'KIR3DP1 (ENSG00000275593)',\n",
       " 'ENSG00000278329': 'KIR2DP1 (ENSG00000278329)',\n",
       " 'ENSG00000277885': 'KIR2DS2 (ENSG00000277885)',\n",
       " 'ENSG00000278430': 'KIR2DL4 (ENSG00000278430)',\n",
       " 'ENSG00000277356': 'KIR2DL1 (ENSG00000277356)',\n",
       " 'ENSG00000276011': 'KIR2DL2 (ENSG00000276011)',\n",
       " 'ENSG00000276001': 'LILRP1 (ENSG00000276001)',\n",
       " 'ENSG00000274082': 'AC245128.6 (ENSG00000274082)',\n",
       " 'ENSG00000277657': 'GU182351.7 (ENSG00000277657)',\n",
       " 'ENSG00000274945': 'KIR2DL4 (ENSG00000274945)',\n",
       " 'ENSG00000276243': 'LILRP2 (ENSG00000276243)',\n",
       " 'ENSG00000262487': 'AC037482.1 (ENSG00000262487)',\n",
       " 'ENSG00000263309': 'KRT23 (ENSG00000263309)',\n",
       " 'ENSG00000275937': 'KIR2DL5B (ENSG00000275937)',\n",
       " 'ENSG00000277185': 'GU182351.6 (ENSG00000277185)',\n",
       " 'ENSG00000276139': 'GU182349.2 (ENSG00000276139)',\n",
       " 'ENSG00000273688': 'KIR3DP1 (ENSG00000273688)',\n",
       " 'ENSG00000274563': 'GU182343.1 (ENSG00000274563)',\n",
       " 'ENSG00000278207': 'KIR2DL1 (ENSG00000278207)',\n",
       " 'ENSG00000274955': 'KIR2DL4 (ENSG00000274955)',\n",
       " 'ENSG00000278306': 'KIR2DS3 (ENSG00000278306)',\n",
       " 'ENSG00000274786': 'KIR3DL3 (ENSG00000274786)',\n",
       " 'ENSG00000275059': 'GU182343.3 (ENSG00000275059)',\n",
       " 'ENSG00000275795': 'GU182339.2 (ENSG00000275795)',\n",
       " 'ENSG00000275080': 'KIR2DL1 (ENSG00000275080)',\n",
       " 'ENSG00000276820': 'KIR2DL1 (ENSG00000276820)',\n",
       " 'ENSG00000262299': 'AL513523.6 (ENSG00000262299)',\n",
       " 'ENSG00000277742': 'KIR3DP1 (ENSG00000277742)',\n",
       " 'ENSG00000261992': 'GATAD2B (ENSG00000261992)',\n",
       " 'ENSG00000277835': 'KIR3DP1 (ENSG00000277835)',\n",
       " 'ENSG00000275699': 'KIR2DL4 (ENSG00000275699)',\n",
       " 'ENSG00000273887': 'KIR2DL3 (ENSG00000273887)',\n",
       " 'ENSG00000275732': 'KIR2DL4 (ENSG00000275732)',\n",
       " 'ENSG00000278833': 'GU182360.1 (ENSG00000278833)',\n",
       " 'ENSG00000277375': 'KIR2DP1 (ENSG00000277375)',\n",
       " 'ENSG00000275546': 'GU182349.1 (ENSG00000275546)',\n",
       " 'ENSG00000277850': 'KIR2DL4 (ENSG00000277850)',\n",
       " 'ENSG00000276258': 'GU182345.3 (ENSG00000276258)',\n",
       " 'ENSG00000278495': 'KIR2DL1 (ENSG00000278495)',\n",
       " 'ENSG00000275407': 'GU182345.1 (ENSG00000275407)',\n",
       " 'ENSG00000275946': 'GU182345.2 (ENSG00000275946)',\n",
       " 'ENSG00000276676': 'GU182345.4 (ENSG00000276676)',\n",
       " 'ENSG00000275422': 'GU182351.2 (ENSG00000275422)',\n",
       " 'ENSG00000277376': 'KIR2DP1 (ENSG00000277376)',\n",
       " 'ENSG00000275848': 'KIR2DL4 (ENSG00000275848)',\n",
       " 'ENSG00000278805': 'KIR2DL1 (ENSG00000278805)',\n",
       " 'ENSG00000275751': 'KIR3DP1 (ENSG00000275751)',\n",
       " 'ENSG00000274163': 'KIR3DP1 (ENSG00000274163)',\n",
       " 'ENSG00000277176': 'KIR3DP1 (ENSG00000277176)',\n",
       " 'ENSG00000278074': 'KIR2DL4 (ENSG00000278074)',\n",
       " 'ENSG00000262025': 'AL513523.5 (ENSG00000262025)',\n",
       " 'ENSG00000277750': 'KIR2DL4 (ENSG00000277750)',\n",
       " 'ENSG00000277725': 'KIR2DL2 (ENSG00000277725)',\n",
       " 'ENSG00000274189': 'KIR2DL4 (ENSG00000274189)',\n",
       " 'ENSG00000274610': 'KIR3DP1 (ENSG00000274610)',\n",
       " 'ENSG00000275237': 'KIR2DL4 (ENSG00000275237)',\n",
       " 'ENSG00000276590': 'KIR2DL3 (ENSG00000276590)',\n",
       " 'ENSG00000273661': 'AL133414.2 (ENSG00000273661)',\n",
       " 'ENSG00000273775': 'KIR3DL1 (ENSG00000273775)',\n",
       " 'ENSG00000275659': 'KIR3DL1 (ENSG00000275659)',\n",
       " 'ENSG00000276518': 'KIR3DP1 (ENSG00000276518)',\n",
       " 'ENSG00000276970': 'GU182358.1 (ENSG00000276970)',\n",
       " 'ENSG00000274193': 'KIR2DL4 (ENSG00000274193)',\n",
       " 'ENSG00000275750': 'KIR2DL1 (ENSG00000275750)',\n",
       " 'ENSG00000276498': 'GU182359.5 (ENSG00000276498)',\n",
       " 'ENSG00000278079': 'KIR3DL1 (ENSG00000278079)',\n",
       " 'ENSG00000278786': 'KIR3DP1 (ENSG00000278786)',\n",
       " 'ENSG00000275887': 'KIR3DP1 (ENSG00000275887)',\n",
       " 'ENSG00000273575': 'KIR2DL4 (ENSG00000273575)',\n",
       " 'ENSG00000281250': 'LINC02054 (ENSG00000281250)',\n",
       " 'ENSG00000281738': 'LINC01839 (ENSG00000281738)',\n",
       " 'ENSG00000277076': 'KIR2DL4 (ENSG00000277076)',\n",
       " 'ENSG00000276501': 'KIR3DL1 (ENSG00000276501)',\n",
       " 'ENSG00000278345': 'GU182343.5 (ENSG00000278345)',\n",
       " 'ENSG00000276044': 'KIR2DL4 (ENSG00000276044)',\n",
       " 'ENSG00000262164': 'KRT39 (ENSG00000262164)',\n",
       " 'ENSG00000276329': 'KIR3DL1 (ENSG00000276329)',\n",
       " 'ENSG00000276423': 'KIR3DL1 (ENSG00000276423)',\n",
       " 'ENSG00000276035': 'KIR3DP1 (ENSG00000276035)',\n",
       " 'ENSG00000274920': 'KIR3DL1 (ENSG00000274920)',\n",
       " 'ENSG00000277964': 'KIR2DL4 (ENSG00000277964)',\n",
       " 'ENSG00000262845': 'KRT40 (ENSG00000262845)',\n",
       " 'ENSG00000277691': 'GU182338.1 (ENSG00000277691)',\n",
       " 'ENSG00000278368': 'KIR3DL1 (ENSG00000278368)',\n",
       " 'ENSG00000275317': 'KIR2DL4 (ENSG00000275317)',\n",
       " 'ENSG00000273518': 'KIR3DL1 (ENSG00000273518)',\n",
       " 'ENSG00000275288': 'KIR3DL1 (ENSG00000275288)',\n",
       " 'ENSG00000263101': 'KRTAP3-3 (ENSG00000263101)',\n",
       " 'ENSG00000263296': 'KRTAP3-2 (ENSG00000263296)',\n",
       " 'ENSG00000274948': 'KIR3DL1 (ENSG00000274948)',\n",
       " 'ENSG00000274465': 'KIR3DS1 (ENSG00000274465)',\n",
       " 'ENSG00000262616': 'KRTAP3-4P (ENSG00000262616)',\n",
       " 'ENSG00000262068': 'KRTAP3-1 (ENSG00000262068)',\n",
       " 'ENSG00000273990': 'RNVU1-26 (ENSG00000273990)',\n",
       " 'ENSG00000273757': 'RNVU1-2A (ENSG00000273757)',\n",
       " 'ENSG00000276379': 'KIR3DL1 (ENSG00000276379)',\n",
       " 'ENSG00000281416': 'AC006359.4 (ENSG00000281416)',\n",
       " 'ENSG00000275717': 'KIR3DL1 (ENSG00000275717)',\n",
       " 'ENSG00000261862': 'KRTAP1-5 (ENSG00000261862)',\n",
       " 'ENSG00000280708': 'AC006359.3 (ENSG00000280708)',\n",
       " 'ENSG00000263242': 'KRTAP1-4 (ENSG00000263242)',\n",
       " 'ENSG00000275974': 'PPIAL4F (ENSG00000275974)',\n",
       " 'ENSG00000262347': 'KRTAP1-3 (ENSG00000262347)',\n",
       " 'ENSG00000280579': 'AC006359.2 (ENSG00000280579)',\n",
       " 'ENSG00000262808': 'KRTAP1-1 (ENSG00000262808)',\n",
       " 'ENSG00000276197': 'AL592188.2 (ENSG00000276197)',\n",
       " 'ENSG00000274917': 'RNA5-8SN5 (ENSG00000274917)',\n",
       " 'ENSG00000273937': 'AL592188.1 (ENSG00000273937)',\n",
       " 'ENSG00000261852': 'KRTAP2-1 (ENSG00000261852)',\n",
       " 'ENSG00000274324': 'KIR2DS4 (ENSG00000274324)',\n",
       " 'ENSG00000280460': 'AC006359.1 (ENSG00000280460)',\n",
       " 'ENSG00000262731': 'AC037482.2 (ENSG00000262731)',\n",
       " 'ENSG00000276392': 'GU182359.3 (ENSG00000276392)',\n",
       " 'ENSG00000262862': 'KRTAP2-3 (ENSG00000262862)',\n",
       " 'ENSG00000277193': 'GU182359.6 (ENSG00000277193)',\n",
       " 'ENSG00000263091': 'KRTAP2-4 (ENSG00000263091)',\n",
       " 'ENSG00000275421': 'GU182359.2 (ENSG00000275421)',\n",
       " 'ENSG00000274714': 'KIR2DS4 (ENSG00000274714)',\n",
       " 'ENSG00000262376': 'KRTAP2-5P (ENSG00000262376)',\n",
       " 'ENSG00000266286': 'AC037482.3 (ENSG00000266286)',\n",
       " 'ENSG00000278758': 'KIR3DL2 (ENSG00000278758)',\n",
       " 'ENSG00000274722': 'KIR3DL2 (ENSG00000274722)',\n",
       " 'ENSG00000262520': 'KRTAP4-16 (ENSG00000262520)',\n",
       " 'ENSG00000262121': 'KRTAP4-9 (ENSG00000262121)',\n",
       " 'ENSG00000277272': 'KIR3DL1 (ENSG00000277272)',\n",
       " 'ENSG00000277175': 'KIR3DL1 (ENSG00000277175)',\n",
       " 'ENSG00000263229': 'KRTAP4-11 (ENSG00000263229)',\n",
       " 'ENSG00000277345': 'KIR2DS4 (ENSG00000277345)',\n",
       " 'ENSG00000263236': 'KRTAP4-12 (ENSG00000263236)',\n",
       " 'ENSG00000276424': 'KIR3DL2 (ENSG00000276424)',\n",
       " 'ENSG00000277078': 'KIR2DS4 (ENSG00000277078)',\n",
       " 'ENSG00000278474': 'KIR3DL2 (ENSG00000278474)',\n",
       " 'ENSG00000276534': 'AL133414.4 (ENSG00000276534)',\n",
       " 'ENSG00000275938': 'KIR2DS4 (ENSG00000275938)',\n",
       " 'ENSG00000278726': 'KIR3DL2 (ENSG00000278726)',\n",
       " 'ENSG00000276395': 'KIR2DS4 (ENSG00000276395)',\n",
       " 'ENSG00000278850': 'KIR3DL2 (ENSG00000278850)',\n",
       " 'ENSG00000261958': 'OR9G1 (ENSG00000261958)',\n",
       " 'ENSG00000262191': 'OR9G9 (ENSG00000262191)',\n",
       " 'ENSG00000281683': 'AP001803.2 (ENSG00000281683)',\n",
       " 'ENSG00000262268': 'OR9G3P (ENSG00000262268)',\n",
       " 'ENSG00000262647': 'OR9G4 (ENSG00000262647)',\n",
       " 'ENSG00000281777': 'OR9G2P (ENSG00000281777)',\n",
       " 'ENSG00000281313': 'OR5G1P (ENSG00000281313)',\n",
       " 'ENSG00000281279': 'OR5G4P (ENSG00000281279)',\n",
       " 'ENSG00000274807': 'KIR2DS4 (ENSG00000274807)',\n",
       " 'ENSG00000262535': 'OR5G5P (ENSG00000262535)',\n",
       " 'ENSG00000275321': 'AC010329.3 (ENSG00000275321)',\n",
       " 'ENSG00000280030': 'AC010329.4 (ENSG00000280030)',\n",
       " 'ENSG00000273526': 'KIR2DS4 (ENSG00000273526)',\n",
       " 'ENSG00000281107': 'OR5G3 (ENSG00000281107)',\n",
       " 'ENSG00000281839': 'LINC02735 (ENSG00000281839)',\n",
       " 'ENSG00000278116': 'KIR2DL5A (ENSG00000278116)',\n",
       " 'ENSG00000275416': 'KIR3DL2 (ENSG00000275416)',\n",
       " 'ENSG00000276999': 'AC226770.1 (ENSG00000276999)',\n",
       " 'ENSG00000280066': 'MTDHP4 (ENSG00000280066)',\n",
       " 'ENSG00000275050': 'ZNF66 (ENSG00000275050)',\n",
       " 'ENSG00000275500': 'GU182339.1 (ENSG00000275500)',\n",
       " 'ENSG00000279280': 'CCNYL6 (ENSG00000279280)',\n",
       " 'ENSG00000276004': 'KIR3DL2 (ENSG00000276004)',\n",
       " 'ENSG00000280218': 'VN1R84P (ENSG00000280218)',\n",
       " 'ENSG00000276327': 'KIR2DS1 (ENSG00000276327)',\n",
       " 'ENSG00000274746': 'ZNF100 (ENSG00000274746)',\n",
       " 'ENSG00000280428': 'BNIP3P24 (ENSG00000280428)',\n",
       " 'ENSG00000274676': 'AL133414.3 (ENSG00000274676)',\n",
       " 'ENSG00000276882': 'KIR3DL2 (ENSG00000276882)',\n",
       " 'ENSG00000274449': 'AC008463.2 (ENSG00000274449)',\n",
       " 'ENSG00000274106': 'AC008463.1 (ENSG00000274106)',\n",
       " 'ENSG00000274146': 'KIR3DL1 (ENSG00000274146)',\n",
       " 'ENSG00000275269': 'FCAR (ENSG00000275269)',\n",
       " 'ENSG00000279112': 'BRI3BPP1 (ENSG00000279112)',\n",
       " 'ENSG00000280271': 'AC092364.3 (ENSG00000280271)',\n",
       " 'ENSG00000279614': 'AC092364.2 (ENSG00000279614)',\n",
       " 'ENSG00000279566': 'ZNF43 (ENSG00000279566)',\n",
       " 'ENSG00000281935': 'DNAH10 (ENSG00000281935)',\n",
       " 'ENSG00000276465': 'KIR2DS4 (ENSG00000276465)',\n",
       " 'ENSG00000278091': 'ZNF85 (ENSG00000278091)',\n",
       " 'ENSG00000275786': 'KIR3DL1 (ENSG00000275786)',\n",
       " 'ENSG00000282650': 'MEIOB (ENSG00000282650)',\n",
       " 'ENSG00000278710': 'KIR3DL2 (ENSG00000278710)',\n",
       " 'ENSG00000276254': 'GU182351.5 (ENSG00000276254)',\n",
       " 'ENSG00000282469': 'LINC00254 (ENSG00000282469)',\n",
       " 'ENSG00000282069': 'LINC02124 (ENSG00000282069)',\n",
       " 'ENSG00000276333': 'HS3ST6 (ENSG00000276333)',\n",
       " 'ENSG00000277650': 'AL133414.5 (ENSG00000277650)',\n",
       " 'ENSG00000273517': 'AL133414.1 (ENSG00000273517)',\n",
       " 'ENSG00000274406': 'KIR2DS4 (ENSG00000274406)',\n",
       " 'ENSG00000263090': 'KRTAP9-2 (ENSG00000263090)',\n",
       " 'ENSG00000273735': 'KIR3DL2 (ENSG00000273735)',\n",
       " 'ENSG00000262749': 'KRTAP9-3 (ENSG00000262749)',\n",
       " 'ENSG00000267208': 'AC209539.1 (ENSG00000267208)',\n",
       " 'ENSG00000262512': 'KRTAP9-4 (ENSG00000262512)',\n",
       " 'ENSG00000275262': 'KIR3DL2 (ENSG00000275262)',\n",
       " 'ENSG00000267635': 'AC209539.2 (ENSG00000267635)',\n",
       " 'ENSG00000263103': 'KRTAP9-10P (ENSG00000263103)',\n",
       " 'ENSG00000273670': 'LILRP1 (ENSG00000273670)',\n",
       " 'ENSG00000262218': 'KRTAP29-1 (ENSG00000262218)',\n",
       " 'ENSG00000277456': 'AC245128.13 (ENSG00000277456)',\n",
       " 'ENSG00000281486': 'SNTG2 (ENSG00000281486)',\n",
       " 'ENSG00000273528': 'LILRP2 (ENSG00000273528)',\n",
       " 'ENSG00000281020': 'SNTG2 (ENSG00000281020)',\n",
       " 'ENSG00000276777': 'ARMC4P1 (ENSG00000276777)',\n",
       " 'ENSG00000275336': 'AL355493.2 (ENSG00000275336)',\n",
       " 'ENSG00000273681': 'FAM210CP (ENSG00000273681)',\n",
       " 'ENSG00000278364': 'TRIAP1P1 (ENSG00000278364)',\n",
       " 'ENSG00000276595': 'PTCHD3 (ENSG00000276595)',\n",
       " 'ENSG00000276084': 'KIR3DL3 (ENSG00000276084)',\n",
       " 'ENSG00000281232': 'AC108489.1 (ENSG00000281232)',\n",
       " 'ENSG00000279318': 'AC008739.4 (ENSG00000279318)',\n",
       " 'ENSG00000277603': 'TPO (ENSG00000277603)',\n",
       " 'ENSG00000276274': 'RNU6-1266P (ENSG00000276274)',\n",
       " 'ENSG00000277976': 'KRT18P40 (ENSG00000277976)',\n",
       " 'ENSG00000282534': 'IMPDH1P5 (ENSG00000282534)',\n",
       " 'ENSG00000279974': 'AC008739.6 (ENSG00000279974)',\n",
       " 'ENSG00000282233': 'AL450306.2 (ENSG00000282233)',\n",
       " 'ENSG00000278780': 'ZNF430 (ENSG00000278780)',\n",
       " 'ENSG00000274429': 'DLG5 (ENSG00000274429)',\n",
       " 'ENSG00000262214': 'KRTAP9-12P (ENSG00000262214)',\n",
       " 'ENSG00000262573': 'KRTAP9-2 (ENSG00000262573)',\n",
       " 'ENSG00000262896': 'KRTAP9-4 (ENSG00000262896)',\n",
       " 'ENSG00000262594': 'KRTAP9-9 (ENSG00000262594)',\n",
       " 'ENSG00000274957': 'KIR2DS4 (ENSG00000274957)',\n",
       " 'ENSG00000274947': 'KIR2DS4 (ENSG00000274947)',\n",
       " 'ENSG00000263263': 'KRTAP9-6 (ENSG00000263263)',\n",
       " 'ENSG00000275051': 'PIWIL1 (ENSG00000275051)',\n",
       " 'ENSG00000262946': 'KRTAP9-11P (ENSG00000262946)',\n",
       " 'ENSG00000273738': 'FCAR (ENSG00000273738)',\n",
       " 'ENSG00000278442': 'KIR3DL2 (ENSG00000278442)',\n",
       " 'ENSG00000262221': 'KRTAP9-7 (ENSG00000262221)',\n",
       " 'ENSG00000282429': 'AC208322.1 (ENSG00000282429)',\n",
       " 'ENSG00000263115': 'KRTAP9-10P (ENSG00000263115)',\n",
       " 'ENSG00000278361': 'KIR3DL2 (ENSG00000278361)',\n",
       " 'ENSG00000262542': 'KRTAP29-1 (ENSG00000262542)',\n",
       " 'ENSG00000275035': 'CCDC92 (ENSG00000275035)',\n",
       " 'ENSG00000280559': 'AC106795.6 (ENSG00000280559)',\n",
       " 'ENSG00000275353': 'KIR2DS4 (ENSG00000275353)',\n",
       " 'ENSG00000278666': 'AC106795.4 (ENSG00000278666)',\n",
       " 'ENSG00000281157': 'ARHGEF26-AS1 (ENSG00000281157)',\n",
       " 'ENSG00000278809': 'KIR3DL2 (ENSG00000278809)',\n",
       " 'ENSG00000277101': 'ARHGEF26 (ENSG00000277101)',\n",
       " 'ENSG00000276985': 'FCAR (ENSG00000276985)',\n",
       " 'ENSG00000274402': 'KIR2DL3 (ENSG00000274402)',\n",
       " 'ENSG00000278573': 'AC007325.3 (ENSG00000278573)',\n",
       " 'ENSG00000281942': 'AC068473.6 (ENSG00000281942)',\n",
       " 'ENSG00000276017': 'AC007325.1 (ENSG00000276017)',\n",
       " 'ENSG00000278817': 'AC007325.4 (ENSG00000278817)',\n",
       " 'ENSG00000274476': 'KIR2DP1 (ENSG00000274476)',\n",
       " 'ENSG00000277196': 'AC007325.2 (ENSG00000277196)',\n",
       " 'ENSG00000276858': 'FCAR (ENSG00000276858)',\n",
       " 'ENSG00000281995': 'AC215996.1 (ENSG00000281995)',\n",
       " 'ENSG00000277153': 'RNU6-222P (ENSG00000277153)',\n",
       " 'ENSG00000282606': 'AC068473.9 (ENSG00000282606)',\n",
       " 'ENSG00000282330': 'AC068473.8 (ENSG00000282330)',\n",
       " 'ENSG00000277833': 'KIR2DL1 (ENSG00000277833)',\n",
       " 'ENSG00000277334': 'NCR1 (ENSG00000277334)',\n",
       " 'ENSG00000282752': 'CTDP1 (ENSG00000282752)',\n",
       " 'ENSG00000280759': 'AP2A2 (ENSG00000280759)',\n",
       " 'ENSG00000280647': 'AC106795.7 (ENSG00000280647)',\n",
       " 'ENSG00000281644': 'AC106795.9 (ENSG00000281644)',\n",
       " 'ENSG00000281954': 'AC208069.1 (ENSG00000281954)',\n",
       " 'ENSG00000280971': 'AC236592.1 (ENSG00000280971)',\n",
       " 'ENSG00000281351': 'SUDS3P1 (ENSG00000281351)',\n",
       " 'ENSG00000274382': 'PROP1 (ENSG00000274382)',\n",
       " 'ENSG00000281775': 'FTCD (ENSG00000281775)',\n",
       " 'ENSG00000276209': 'KIR2DS4 (ENSG00000276209)',\n",
       " 'ENSG00000278656': 'KIR3DL2 (ENSG00000278656)',\n",
       " 'ENSG00000279612': 'AC231988.1 (ENSG00000279612)',\n",
       " 'ENSG00000263322': 'AC110597.2 (ENSG00000263322)',\n",
       " 'ENSG00000262102': 'DSEL (ENSG00000262102)',\n",
       " 'ENSG00000281763': 'DHX36 (ENSG00000281763)',\n",
       " 'ENSG00000282220': 'AC110597.5 (ENSG00000282220)',\n",
       " 'ENSG00000282112': 'AC110597.4 (ENSG00000282112)',\n",
       " 'ENSG00000281949': 'AC068473.7 (ENSG00000281949)',\n",
       " 'ENSG00000275255': 'KIR3DP1 (ENSG00000275255)',\n",
       " 'ENSG00000275136': 'FCAR (ENSG00000275136)',\n",
       " 'ENSG00000278606': 'KIR2DL4 (ENSG00000278606)',\n",
       " 'ENSG00000278476': 'RPL21P36 (ENSG00000278476)',\n",
       " 'ENSG00000279215': 'CRIM1-DT (ENSG00000279215)',\n",
       " 'ENSG00000281617': 'AC073135.6 (ENSG00000281617)',\n",
       " 'ENSG00000280541': 'FTCD-AS1 (ENSG00000280541)',\n",
       " 'ENSG00000281870': 'AC208814.1 (ENSG00000281870)',\n",
       " 'ENSG00000277354': 'CRIM1 (ENSG00000277354)',\n",
       " 'ENSG00000280892': 'AL161638.3 (ENSG00000280892)',\n",
       " 'ENSG00000274679': 'SPATC1L (ENSG00000274679)',\n",
       " 'ENSG00000281104': 'AL161638.4 (ENSG00000281104)',\n",
       " 'ENSG00000273546': 'LILRP1 (ENSG00000273546)',\n",
       " 'ENSG00000276994': 'AC245128.12 (ENSG00000276994)',\n",
       " 'ENSG00000273922': 'LILRP2 (ENSG00000273922)',\n",
       " 'ENSG00000276885': 'KIR2DS4 (ENSG00000276885)',\n",
       " 'ENSG00000274706': 'RNU6-821P (ENSG00000274706)',\n",
       " 'ENSG00000262860': 'LSM14A (ENSG00000262860)',\n",
       " 'ENSG00000281062': 'AC240720.1 (ENSG00000281062)',\n",
       " 'ENSG00000276086': 'KIR3DL3 (ENSG00000276086)',\n",
       " 'ENSG00000275629': 'KIR3DL2 (ENSG00000275629)',\n",
       " 'ENSG00000281503': 'AC240720.2 (ENSG00000281503)',\n",
       " 'ENSG00000281753': 'AP001468.2 (ENSG00000281753)',\n",
       " 'ENSG00000281577': 'AC240720.3 (ENSG00000281577)',\n",
       " 'ENSG00000276938': 'AC073135.4 (ENSG00000276938)',\n",
       " 'ENSG00000281289': 'LSS (ENSG00000281289)',\n",
       " 'ENSG00000281496': 'AC073135.5 (ENSG00000281496)',\n",
       " 'ENSG00000281976': 'ADAMTS7P1 (ENSG00000281976)',\n",
       " 'ENSG00000282037': 'GXYLT1P1 (ENSG00000282037)',\n",
       " 'ENSG00000275428': 'AC024940.6 (ENSG00000275428)',\n",
       " 'ENSG00000267639': 'AC073135.3 (ENSG00000267639)',\n",
       " 'ENSG00000282611': 'CNN2P12 (ENSG00000282611)',\n",
       " 'ENSG00000282352': 'ZNF965P (ENSG00000282352)',\n",
       " 'ENSG00000282782': 'CYP4F34P (ENSG00000282782)',\n",
       " 'ENSG00000276256': 'AC011043.1 (ENSG00000276256)',\n",
       " 'ENSG00000282677': 'SNX18P26 (ENSG00000282677)',\n",
       " 'ENSG00000267237': 'AC073135.2 (ENSG00000267237)',\n",
       " 'ENSG00000278198': 'AC011043.2 (ENSG00000278198)',\n",
       " 'ENSG00000282536': 'LINC00328-2P (ENSG00000282536)',\n",
       " 'ENSG00000282715': 'ANKRD20A9P (ENSG00000282715)',\n",
       " 'ENSG00000274980': 'RNU6-1025P (ENSG00000274980)',\n",
       " 'ENSG00000262453': 'AL022318.3 (ENSG00000262453)',\n",
       " 'ENSG00000278853': 'RNU6-55P (ENSG00000278853)',\n",
       " 'ENSG00000277518': 'MUC6 (ENSG00000277518)',\n",
       " 'ENSG00000262536': 'AC192820.1 (ENSG00000262536)',\n",
       " 'ENSG00000262156': 'APOBEC3A (ENSG00000262156)',\n",
       " 'ENSG00000274042': 'GOLGA6L10 (ENSG00000274042)',\n",
       " 'ENSG00000282734': 'AF067845.6 (ENSG00000282734)',\n",
       " 'ENSG00000282391': 'AC024940.8 (ENSG00000282391)',\n",
       " 'ENSG00000281953': 'AF067845.3 (ENSG00000281953)',\n",
       " 'ENSG00000281997': 'AC131901.1 (ENSG00000281997)',\n",
       " 'ENSG00000282388': 'AC024940.7 (ENSG00000282388)',\n",
       " 'ENSG00000281464': 'AC106795.8 (ENSG00000281464)',\n",
       " 'ENSG00000278025': 'NCR1 (ENSG00000278025)',\n",
       " 'ENSG00000282329': 'MREGP1 (ENSG00000282329)',\n",
       " 'ENSG00000276371': 'SINHCAF (ENSG00000276371)',\n",
       " 'ENSG00000282141': 'AC131901.2 (ENSG00000282141)',\n",
       " 'ENSG00000275495': 'AC114936.1 (ENSG00000275495)',\n",
       " 'ENSG00000282152': 'DLGAP2 (ENSG00000282152)',\n",
       " 'ENSG00000282480': 'AC127071.3 (ENSG00000282480)',\n",
       " 'ENSG00000282766': 'AC217627.1 (ENSG00000282766)',\n",
       " 'ENSG00000275637': 'NCR1 (ENSG00000275637)',\n",
       " 'ENSG00000282377': 'AC011295.3 (ENSG00000282377)',\n",
       " 'ENSG00000282001': 'DLGAP2-AS1 (ENSG00000282001)',\n",
       " 'ENSG00000275735': 'GU182355.5 (ENSG00000275735)',\n",
       " 'ENSG00000278692': 'GU182355.7 (ENSG00000278692)',\n",
       " 'ENSG00000275486': 'KIR3DL1 (ENSG00000275486)',\n",
       " 'ENSG00000280737': 'LINC02549 (ENSG00000280737)',\n",
       " 'ENSG00000262679': 'APOBEC3B-AS1 (ENSG00000262679)',\n",
       " 'ENSG00000275049': 'AC011295.2 (ENSG00000275049)',\n",
       " 'ENSG00000278277': 'GU182355.6 (ENSG00000278277)',\n",
       " 'ENSG00000274166': 'GOLGA6L10 (ENSG00000274166)',\n",
       " 'ENSG00000273498': 'KIR2DL4 (ENSG00000273498)',\n",
       " 'ENSG00000282649': 'SEPTIN9-DT (ENSG00000282649)',\n",
       " 'ENSG00000282753': 'AC068594.2 (ENSG00000282753)',\n",
       " 'ENSG00000279389': 'GARRE1 (ENSG00000279389)',\n",
       " 'ENSG00000282302': 'SEPTIN9 (ENSG00000282302)',\n",
       " 'ENSG00000280839': 'CES5AP1 (ENSG00000280839)',\n",
       " 'ENSG00000282507': 'AC236756.1 (ENSG00000282507)',\n",
       " 'ENSG00000282551': 'AC024940.9 (ENSG00000282551)',\n",
       " 'ENSG00000281690': 'ADAMTS12 (ENSG00000281690)',\n",
       " 'ENSG00000282084': 'UBE2Q2P2 (ENSG00000282084)',\n",
       " 'ENSG00000262113': 'AC010614.1 (ENSG00000262113)',\n",
       " 'ENSG00000277069': 'RXFP3 (ENSG00000277069)',\n",
       " 'ENSG00000280784': 'AL121956.3 (ENSG00000280784)',\n",
       " 'ENSG00000281076': 'ZDHHC8P1 (ENSG00000281076)',\n",
       " 'ENSG00000280765': 'AL121956.2 (ENSG00000280765)',\n",
       " 'ENSG00000281919': 'SLC45A2 (ENSG00000281919)',\n",
       " 'ENSG00000280557': 'GNG5P1 (ENSG00000280557)',\n",
       " 'ENSG00000280898': 'AC233714.1 (ENSG00000280898)',\n",
       " 'ENSG00000273673': 'AC011295.1 (ENSG00000273673)',\n",
       " 'ENSG00000281081': 'AC114936.3 (ENSG00000281081)',\n",
       " 'ENSG00000282814': 'AC010724.3 (ENSG00000282814)',\n",
       " 'ENSG00000281048': 'AC114936.2 (ENSG00000281048)',\n",
       " 'ENSG00000275521': 'NCR1 (ENSG00000275521)',\n",
       " 'ENSG00000274296': 'DECR2 (ENSG00000274296)',\n",
       " 'ENSG00000281567': 'SLC25A51P1 (ENSG00000281567)',\n",
       " 'ENSG00000277364': 'ADH5P4 (ENSG00000277364)',\n",
       " 'ENSG00000274320': 'GOLGA6L9 (ENSG00000274320)',\n",
       " 'ENSG00000278728': 'CNTNAP2 (ENSG00000278728)',\n",
       " 'ENSG00000281513': 'AC114936.4 (ENSG00000281513)',\n",
       " 'ENSG00000274681': 'SUDS3P1 (ENSG00000274681)',\n",
       " 'ENSG00000280618': 'CYFIP1 (ENSG00000280618)',\n",
       " 'ENSG00000281916': 'AF250324.4 (ENSG00000281916)',\n",
       " 'ENSG00000263270': 'AC093689.2 (ENSG00000263270)',\n",
       " 'ENSG00000276052': 'RNU1-51P (ENSG00000276052)',\n",
       " 'ENSG00000277894': 'LILRP1 (ENSG00000277894)',\n",
       " 'ENSG00000280716': 'FRG1-DT (ENSG00000280716)',\n",
       " 'ENSG00000278432': 'AC245128.16 (ENSG00000278432)',\n",
       " 'ENSG00000280635': 'PROP1 (ENSG00000280635)',\n",
       " 'ENSG00000273666': 'LILRP2 (ENSG00000273666)',\n",
       " 'ENSG00000275326': 'NOSTRIN (ENSG00000275326)',\n",
       " 'ENSG00000275970': 'FCAR (ENSG00000275970)',\n",
       " 'ENSG00000281151': 'KCNQ2 (ENSG00000281151)',\n",
       " 'ENSG00000274394': 'KIR3DL3 (ENSG00000274394)',\n",
       " 'ENSG00000281149': 'AP000344.3 (ENSG00000281149)',\n",
       " 'ENSG00000280986': 'LINC01659 (ENSG00000280986)',\n",
       " 'ENSG00000276228': 'UBE2Q2P6 (ENSG00000276228)',\n",
       " 'ENSG00000281374': 'AP000344.4 (ENSG00000281374)',\n",
       " 'ENSG00000282457': 'CSPG4P10 (ENSG00000282457)',\n",
       " 'ENSG00000282690': 'AL391421.2 (ENSG00000282690)',\n",
       " 'ENSG00000274657': 'FAM230I (ENSG00000274657)',\n",
       " 'ENSG00000276516': 'RN7SL284P (ENSG00000276516)',\n",
       " 'ENSG00000277442': 'NCR1 (ENSG00000277442)',\n",
       " 'ENSG00000282770': 'DLG5-AS1 (ENSG00000282770)',\n",
       " 'ENSG00000282514': 'AC010724.1 (ENSG00000282514)',\n",
       " 'ENSG00000282183': 'GOLGA2P10 (ENSG00000282183)',\n",
       " 'ENSG00000281077': 'LINC02557 (ENSG00000281077)',\n",
       " 'ENSG00000262411': 'LINC02066 (ENSG00000262411)',\n",
       " 'ENSG00000282044': 'AC083849.3 (ENSG00000282044)',\n",
       " 'ENSG00000281999': 'AC083849.2 (ENSG00000281999)',\n",
       " 'ENSG00000282443': 'AC105227.4 (ENSG00000282443)',\n",
       " 'ENSG00000282085': 'AC105227.3 (ENSG00000282085)',\n",
       " 'ENSG00000262132': 'RNA5SP458 (ENSG00000262132)',\n",
       " 'ENSG00000262634': 'SKA1 (ENSG00000262634)',\n",
       " 'ENSG00000282209': 'GOLGA6L17P (ENSG00000282209)',\n",
       " 'ENSG00000275737': 'GU182347.3 (ENSG00000275737)',\n",
       " 'ENSG00000275351': 'KIR2DS4 (ENSG00000275351)',\n",
       " 'ENSG00000261846': 'AADACL2 (ENSG00000261846)',\n",
       " 'ENSG00000276731': 'GU182347.5 (ENSG00000276731)',\n",
       " 'ENSG00000275083': 'KIR3DL2 (ENSG00000275083)',\n",
       " 'ENSG00000282596': 'DNM1P38 (ENSG00000282596)',\n",
       " 'ENSG00000278481': 'GU182347.8 (ENSG00000278481)',\n",
       " 'ENSG00000275608': 'GU182355.4 (ENSG00000275608)',\n",
       " 'ENSG00000276856': 'TUBGCP5 (ENSG00000276856)',\n",
       " 'ENSG00000278229': 'RPS17 (ENSG00000278229)',\n",
       " 'ENSG00000277163': 'GU182347.6 (ENSG00000277163)',\n",
       " 'ENSG00000276279': 'KIR2DP1 (ENSG00000276279)',\n",
       " 'ENSG00000262466': 'AADACL2-AS1 (ENSG00000262466)',\n",
       " 'ENSG00000281422': 'AC136687.2 (ENSG00000281422)',\n",
       " 'ENSG00000281537': 'AC136687.3 (ENSG00000281537)',\n",
       " 'ENSG00000275522': 'KIR2DL1 (ENSG00000275522)',\n",
       " 'ENSG00000281846': 'SPATA31E3P (ENSG00000281846)',\n",
       " 'ENSG00000278429': 'GOLGA8EP (ENSG00000278429)',\n",
       " 'ENSG00000278691': 'KIR3DP1 (ENSG00000278691)',\n",
       " 'ENSG00000277540': 'KIR2DL4 (ENSG00000277540)',\n",
       " 'ENSG00000280700': 'AC136687.1 (ENSG00000280700)',\n",
       " 'ENSG00000274404': 'GOLGA6L22 (ENSG00000274404)',\n",
       " 'ENSG00000262892': 'AC013759.1 (ENSG00000262892)',\n",
       " 'ENSG00000282110': 'MAPK4 (ENSG00000282110)',\n",
       " 'ENSG00000281828': 'HERC2P7 (ENSG00000281828)',\n",
       " 'ENSG00000280787': 'HERC2P2 (ENSG00000280787)',\n",
       " 'ENSG00000282755': 'AC010724.2 (ENSG00000282755)',\n",
       " 'ENSG00000273793': 'DUSP8 (ENSG00000273793)',\n",
       " 'ENSG00000277909': 'SPC25 (ENSG00000277909)',\n",
       " 'ENSG00000277445': 'CPEB1 (ENSG00000277445)',\n",
       " 'ENSG00000277271': 'GU182352.5 (ENSG00000277271)',\n",
       " 'ENSG00000281356': 'GOLGA8IP (ENSG00000281356)',\n",
       " 'ENSG00000275062': 'KIR3DL3 (ENSG00000275062)',\n",
       " 'ENSG00000280807': 'TUBGCP5 (ENSG00000280807)',\n",
       " 'ENSG00000281801': 'KRTAP5-AS1 (ENSG00000281801)',\n",
       " 'ENSG00000282201': 'AL023881.2 (ENSG00000282201)',\n",
       " 'ENSG00000276565': 'AP006285.2 (ENSG00000276565)',\n",
       " 'ENSG00000275338': 'RAB11FIP3 (ENSG00000275338)',\n",
       " 'ENSG00000278210': 'KRTAP5-1 (ENSG00000278210)',\n",
       " 'ENSG00000278489': 'KRTAP5-2 (ENSG00000278489)',\n",
       " 'ENSG00000278373': 'G6PC2 (ENSG00000278373)',\n",
       " 'ENSG00000275920': 'KRTAP5-3 (ENSG00000275920)',\n",
       " 'ENSG00000281725': 'ELMO2P1 (ENSG00000281725)',\n",
       " 'ENSG00000277068': 'KRTAP5-4 (ENSG00000277068)',\n",
       " 'ENSG00000278633': 'AC023491.2 (ENSG00000278633)',\n",
       " 'ENSG00000278066': 'AC023491.1 (ENSG00000278066)',\n",
       " 'ENSG00000278759': 'TBCD (ENSG00000278759)',\n",
       " 'ENSG00000277291': 'KRTAP5-5 (ENSG00000277291)',\n",
       " 'ENSG00000281645': 'AP006285.3 (ENSG00000281645)',\n",
       " 'ENSG00000276450': 'NCR1 (ENSG00000276450)',\n",
       " 'ENSG00000281733': 'FAM99A (ENSG00000281733)',\n",
       " 'ENSG00000278247': 'GOLGA6L1 (ENSG00000278247)',\n",
       " 'ENSG00000281783': 'FAM99B (ENSG00000281783)',\n",
       " 'ENSG00000281240': 'LINC02708 (ENSG00000281240)',\n",
       " 'ENSG00000275008': 'KIR2DL3 (ENSG00000275008)',\n",
       " 'ENSG00000275247': 'GU182352.2 (ENSG00000275247)',\n",
       " 'ENSG00000281737': 'AC116165.9 (ENSG00000281737)',\n",
       " 'ENSG00000274692': 'KIR2DL1 (ENSG00000274692)',\n",
       " 'ENSG00000275596': 'GU182355.3 (ENSG00000275596)',\n",
       " 'ENSG00000276582': 'ABCB11 (ENSG00000276582)',\n",
       " 'ENSG00000278508': 'GOLGA8DP (ENSG00000278508)',\n",
       " 'ENSG00000281914': 'AL353658.2 (ENSG00000281914)',\n",
       " 'ENSG00000281651': 'KCNQ2-AS1 (ENSG00000281651)',\n",
       " 'ENSG00000275047': 'GU182355.2 (ENSG00000275047)',\n",
       " 'ENSG00000273603': 'GU182355.1 (ENSG00000273603)',\n",
       " 'ENSG00000277729': 'GU182352.6 (ENSG00000277729)',\n",
       " 'ENSG00000278201': 'KIR2DL4 (ENSG00000278201)',\n",
       " 'ENSG00000275511': 'KIR3DL2 (ENSG00000275511)',\n",
       " 'ENSG00000281173': 'ABCB10P1 (ENSG00000281173)',\n",
       " 'ENSG00000280490': 'AC116165.5 (ENSG00000280490)',\n",
       " 'ENSG00000281254': 'AC116165.8 (ENSG00000281254)',\n",
       " 'ENSG00000275037': 'GU182347.1 (ENSG00000275037)',\n",
       " 'ENSG00000281754': 'AC116165.10 (ENSG00000281754)',\n",
       " 'ENSG00000282378': 'AC208188.1 (ENSG00000282378)',\n",
       " 'ENSG00000282485': 'LINC00235 (ENSG00000282485)',\n",
       " 'ENSG00000282214': 'CAPN15 (ENSG00000282214)',\n",
       " 'ENSG00000262795': 'IFNGR2 (ENSG00000262795)',\n",
       " 'ENSG00000280500': 'ELMO2P1 (ENSG00000280500)',\n",
       " 'ENSG00000275009': 'GOLGA6L1 (ENSG00000275009)',\n",
       " 'ENSG00000282347': 'AC100797.3 (ENSG00000282347)',\n",
       " 'ENSG00000277033': 'B3GNTL1 (ENSG00000277033)',\n",
       " 'ENSG00000282665': 'ERICH1 (ENSG00000282665)',\n",
       " 'ENSG00000278019': 'AC245690.1 (ENSG00000278019)',\n",
       " 'ENSG00000281703': 'AC245690.2 (ENSG00000281703)',\n",
       " 'ENSG00000280638': 'CDH12P2 (ENSG00000280638)',\n",
       " 'ENSG00000280476': 'AC116165.4 (ENSG00000280476)',\n",
       " 'ENSG00000277429': 'SERF1B (ENSG00000277429)',\n",
       " 'ENSG00000278070': 'GOLGA8DP (ENSG00000278070)',\n",
       " 'ENSG00000282245': 'AC100797.2 (ENSG00000282245)',\n",
       " 'ENSG00000281743': 'AC233280.15 (ENSG00000281743)',\n",
       " 'ENSG00000281094': 'AC233280.9 (ENSG00000281094)',\n",
       " 'ENSG00000281901': 'AC233280.18 (ENSG00000281901)',\n",
       " 'ENSG00000280748': 'AC233280.7 (ENSG00000280748)',\n",
       " 'ENSG00000280461': 'ABCB10P1 (ENSG00000280461)',\n",
       " 'ENSG00000281012': 'AC116165.7 (ENSG00000281012)',\n",
       " 'ENSG00000276512': 'GU182353.3 (ENSG00000276512)',\n",
       " 'ENSG00000281794': 'MUC20-OT1 (ENSG00000281794)',\n",
       " 'ENSG00000280679': 'AC116165.6 (ENSG00000280679)',\n",
       " 'ENSG00000281060': 'MUC20-OT1 (ENSG00000281060)',\n",
       " 'ENSG00000274254': 'KIR3DL3 (ENSG00000274254)',\n",
       " 'ENSG00000277400': 'AC145212.1 (ENSG00000277400)',\n",
       " 'ENSG00000274847': 'MAFIP (ENSG00000274847)',\n",
       " 'ENSG00000273748': 'AL592183.1 (ENSG00000273748)',\n",
       " 'ENSG00000274283': 'GU182352.1 (ENSG00000274283)',\n",
       " 'ENSG00000263160': 'TMEM50B (ENSG00000263160)',\n",
       " 'ENSG00000273772': 'SMN2 (ENSG00000273772)',\n",
       " 'ENSG00000263141': 'PAXBP1 (ENSG00000263141)',\n",
       " 'ENSG00000281798': 'AC233280.16 (ENSG00000281798)',\n",
       " 'ENSG00000280629': 'AC233280.5 (ENSG00000280629)',\n",
       " 'ENSG00000263140': 'C21orf62-AS1 (ENSG00000263140)',\n",
       " 'ENSG00000280993': 'MUC20-OT1 (ENSG00000280993)',\n",
       " 'ENSG00000281583': 'AC233280.13 (ENSG00000281583)',\n",
       " 'ENSG00000275253': 'GU182353.2 (ENSG00000275253)',\n",
       " 'ENSG00000281654': 'AC233280.14 (ENSG00000281654)',\n",
       " 'ENSG00000277251': 'GU182353.4 (ENSG00000277251)',\n",
       " 'ENSG00000280072': 'AP000280.2 (ENSG00000280072)',\n",
       " 'ENSG00000262938': 'C21orf62 (ENSG00000262938)',\n",
       " 'ENSG00000281915': 'MUC20-OT1 (ENSG00000281915)',\n",
       " 'ENSG00000276177': 'GU182347.4 (ENSG00000276177)',\n",
       " 'ENSG00000278086': 'GU182347.7 (ENSG00000278086)',\n",
       " 'ENSG00000275306': 'GU182347.2 (ENSG00000275306)',\n",
       " 'ENSG00000278403': 'KIR3DL2 (ENSG00000278403)',\n",
       " 'ENSG00000281945': 'AC127518.1 (ENSG00000281945)',\n",
       " 'ENSG00000262148': 'RPS5P3 (ENSG00000262148)',\n",
       " 'ENSG00000276686': 'GU182352.4 (ENSG00000276686)',\n",
       " 'ENSG00000263314': 'AC207981.1 (ENSG00000263314)',\n",
       " 'ENSG00000275031': 'METRNL (ENSG00000275031)',\n",
       " 'ENSG00000262911': 'DNAJC28 (ENSG00000262911)',\n",
       " 'ENSG00000275599': 'GU182352.3 (ENSG00000275599)',\n",
       " 'ENSG00000274639': 'KIR3DL3 (ENSG00000274639)',\n",
       " 'ENSG00000274971': 'GU182353.1 (ENSG00000274971)',\n",
       " 'ENSG00000262159': 'RPS6P22 (ENSG00000262159)',\n",
       " 'ENSG00000285263': 'AC244635.3 (ENSG00000285263)',\n",
       " 'ENSG00000278304': 'GU182352.7 (ENSG00000278304)',\n",
       " 'ENSG00000278271': 'KIR2DL4 (ENSG00000278271)',\n",
       " 'ENSG00000281380': 'AC244635.2 (ENSG00000281380)',\n",
       " 'ENSG00000262473': 'GART (ENSG00000262473)',\n",
       " 'ENSG00000262036': 'AC068305.3 (ENSG00000262036)',\n",
       " 'ENSG00000262592': 'AC068305.4 (ENSG00000262592)',\n",
       " 'ENSG00000275617': 'OR2T4 (ENSG00000275617)',\n",
       " 'ENSG00000280983': 'AC244635.1 (ENSG00000280983)',\n",
       " 'ENSG00000277982': 'KIR3DL2 (ENSG00000277982)',\n",
       " 'ENSG00000278659': 'OR2T6 (ENSG00000278659)',\n",
       " 'ENSG00000275581': 'SERF1A (ENSG00000275581)',\n",
       " 'ENSG00000273508': 'OR2T1 (ENSG00000273508)',\n",
       " 'ENSG00000281300': 'NXN (ENSG00000281300)',\n",
       " 'ENSG00000281489': 'OR2T7 (ENSG00000281489)',\n",
       " 'ENSG00000275754': 'OR2T2 (ENSG00000275754)',\n",
       " 'ENSG00000278501': 'TIMM22 (ENSG00000278501)',\n",
       " 'ENSG00000277113': 'OR2T3 (ENSG00000277113)',\n",
       " 'ENSG00000281821': 'AC233280.17 (ENSG00000281821)',\n",
       " 'ENSG00000281658': 'AC138089.2 (ENSG00000281658)',\n",
       " 'ENSG00000280865': 'AC233280.8 (ENSG00000280865)',\n",
       " 'ENSG00000275102': 'OR2T5 (ENSG00000275102)',\n",
       " 'ENSG00000276016': 'ABR (ENSG00000276016)',\n",
       " 'ENSG00000280482': 'AC233280.3 (ENSG00000280482)',\n",
       " 'ENSG00000276459': 'KIR2DL3 (ENSG00000276459)',\n",
       " 'ENSG00000280815': 'OR2AS2P (ENSG00000280815)',\n",
       " 'ENSG00000275225': 'GU182354.1 (ENSG00000275225)',\n",
       " 'ENSG00000278248': 'KIR2DL1 (ENSG00000278248)',\n",
       " 'ENSG00000281603': 'MUC20-OT1 (ENSG00000281603)',\n",
       " 'ENSG00000262788': 'UTP4 (ENSG00000262788)',\n",
       " 'ENSG00000275349': 'SMN1 (ENSG00000275349)',\n",
       " 'ENSG00000278427': 'KIR3DL1 (ENSG00000278427)',\n",
       " 'ENSG00000275245': 'GU182354.2 (ENSG00000275245)',\n",
       " 'ENSG00000275456': 'KIR2DL4 (ENSG00000275456)',\n",
       " 'ENSG00000282367': 'PTDSS2 (ENSG00000282367)',\n",
       " 'ENSG00000276429': 'PLCH2 (ENSG00000276429)',\n",
       " 'ENSG00000285240': 'AC244260.2 (ENSG00000285240)',\n",
       " 'ENSG00000281758': 'KCNIP4 (ENSG00000281758)',\n",
       " 'ENSG00000276068': 'NAIP (ENSG00000276068)',\n",
       " 'ENSG00000260873': 'SNTB2 (ENSG00000260873)',\n",
       " 'ENSG00000280838': 'AC210756.1 (ENSG00000280838)',\n",
       " 'ENSG00000281559': 'AC096576.5 (ENSG00000281559)',\n",
       " 'ENSG00000276230': 'RNH1 (ENSG00000276230)',\n",
       " 'ENSG00000281470': 'AC096576.4 (ENSG00000281470)',\n",
       " 'ENSG00000278856': 'KIR3DL1 (ENSG00000278856)',\n",
       " 'ENSG00000277848': 'MEGF11 (ENSG00000277848)',\n",
       " 'ENSG00000281225': 'AL139246.7 (ENSG00000281225)',\n",
       " 'ENSG00000281274': 'AL139246.8 (ENSG00000281274)',\n",
       " 'ENSG00000273494': 'PANK4 (ENSG00000273494)',\n",
       " 'ENSG00000280592': 'LINC01624 (ENSG00000280592)',\n",
       " 'ENSG00000280883': 'AL078605.2 (ENSG00000280883)',\n",
       " 'ENSG00000275555': 'DLL1 (ENSG00000275555)',\n",
       " 'ENSG00000275517': 'PRB1 (ENSG00000275517)',\n",
       " 'ENSG00000275731': 'KIR2DS4 (ENSG00000275731)',\n",
       " 'ENSG00000275333': 'FAM120B (ENSG00000275333)',\n",
       " 'ENSG00000275626': 'KIR3DL2 (ENSG00000275626)',\n",
       " 'ENSG00000276910': 'GTF2H2 (ENSG00000276910)',\n",
       " 'ENSG00000281482': 'AC093789.2 (ENSG00000281482)',\n",
       " 'ENSG00000281800': 'ICE2P1 (ENSG00000281800)',\n",
       " 'ENSG00000281580': 'LINC01060 (ENSG00000281580)',\n",
       " 'ENSG00000274112': 'SMDT1 (ENSG00000274112)',\n",
       " 'ENSG00000282280': 'AC087382.2 (ENSG00000282280)',\n",
       " 'ENSG00000277844': 'AC087382.1 (ENSG00000277844)',\n",
       " 'ENSG00000273529': 'HES5 (ENSG00000273529)',\n",
       " 'ENSG00000277365': 'NDUFA6 (ENSG00000277365)',\n",
       " 'ENSG00000272901': 'SMDT1 (ENSG00000272901)',\n",
       " 'ENSG00000281734': 'AL139246.9 (ENSG00000281734)',\n",
       " 'ENSG00000281197': 'TNFRSF14-AS1 (ENSG00000281197)',\n",
       " 'ENSG00000282114': 'LINC00824 (ENSG00000282114)',\n",
       " 'ENSG00000272765': 'NDUFA6 (ENSG00000272765)',\n",
       " 'ENSG00000276154': 'KIR2DS4 (ENSG00000276154)',\n",
       " 'ENSG00000281542': 'AL021878.4 (ENSG00000281542)',\n",
       " 'ENSG00000282113': 'AC068570.1 (ENSG00000282113)',\n",
       " 'ENSG00000280811': 'NDUFA6-DT (ENSG00000280811)',\n",
       " 'ENSG00000281237': 'SDHAP2 (ENSG00000281237)',\n",
       " 'ENSG00000276357': 'KIR3DL2 (ENSG00000276357)',\n",
       " 'ENSG00000273616': 'NDUFA6-DT (ENSG00000273616)',\n",
       " 'ENSG00000273936': 'TNFRSF14 (ENSG00000273936)',\n",
       " 'ENSG00000278114': 'MUC20 (ENSG00000278114)',\n",
       " 'ENSG00000272813': 'OLA1P1 (ENSG00000272813)',\n",
       " 'ENSG00000262303': 'AL021878.1 (ENSG00000262303)',\n",
       " 'ENSG00000281761': 'AL078605.3 (ENSG00000281761)',\n",
       " 'ENSG00000276374': 'AL451142.3 (ENSG00000276374)',\n",
       " 'ENSG00000280722': 'AL008628.2 (ENSG00000280722)',\n",
       " 'ENSG00000263181': 'CYP2D7 (ENSG00000263181)',\n",
       " 'ENSG00000278688': 'AC215799.1 (ENSG00000278688)',\n",
       " 'ENSG00000281184': 'PSMB1 (ENSG00000281184)',\n",
       " 'ENSG00000282464': 'AC137894.2 (ENSG00000282464)',\n",
       " 'ENSG00000281687': 'SDHAP2 (ENSG00000281687)',\n",
       " 'ENSG00000276536': 'HRAS (ENSG00000276536)',\n",
       " 'ENSG00000278165': 'DUSP8 (ENSG00000278165)',\n",
       " 'ENSG00000275430': 'MUC20 (ENSG00000275430)',\n",
       " 'ENSG00000278846': 'OLA1P1 (ENSG00000278846)',\n",
       " 'ENSG00000275211': 'CYP2D6 (ENSG00000275211)',\n",
       " 'ENSG00000281176': 'KRTAP5-AS1 (ENSG00000281176)',\n",
       " 'ENSG00000278468': 'MUC4 (ENSG00000278468)',\n",
       " 'ENSG00000274700': 'AC091304.6 (ENSG00000274700)',\n",
       " 'ENSG00000277278': 'HERC2 (ENSG00000277278)',\n",
       " 'ENSG00000280585': 'KRTAP5-1 (ENSG00000280585)',\n",
       " 'ENSG00000281533': 'KRTAP5-2 (ENSG00000281533)',\n",
       " 'ENSG00000281418': 'SDHAP2 (ENSG00000281418)',\n",
       " 'ENSG00000281191': 'KRTAP5-3 (ENSG00000281191)',\n",
       " 'ENSG00000278620': 'KRTAP5-4 (ENSG00000278620)',\n",
       " 'ENSG00000280909': 'SDHAP2 (ENSG00000280909)',\n",
       " 'ENSG00000281630': 'MUC20 (ENSG00000281630)',\n",
       " 'ENSG00000276613': 'MUC4 (ENSG00000276613)',\n",
       " 'ENSG00000278302': 'KRTAP5-5 (ENSG00000278302)',\n",
       " 'ENSG00000281019': 'AC116351.3 (ENSG00000281019)',\n",
       " 'ENSG00000274843': 'MUC20 (ENSG00000274843)',\n",
       " 'ENSG00000281111': 'AC130310.1 (ENSG00000281111)',\n",
       " 'ENSG00000274801': 'AC091304.7 (ENSG00000274801)',\n",
       " 'ENSG00000281521': 'AC116351.4 (ENSG00000281521)',\n",
       " 'ENSG00000281261': 'FAM99A (ENSG00000281261)',\n",
       " 'ENSG00000276920': 'NKD2 (ENSG00000276920)',\n",
       " 'ENSG00000282126': 'AC138747.6 (ENSG00000282126)',\n",
       " 'ENSG00000281829': 'FAM99B (ENSG00000281829)',\n",
       " 'ENSG00000276455': 'AC138747.5 (ENSG00000276455)',\n",
       " 'ENSG00000281633': 'LINC02708 (ENSG00000281633)',\n",
       " 'ENSG00000262055': 'CYP2D8P (ENSG00000262055)',\n",
       " 'ENSG00000277389': 'KRTAP5-6 (ENSG00000277389)',\n",
       " 'ENSG00000275855': 'AC138747.3 (ENSG00000275855)',\n",
       " 'ENSG00000281618': 'IFITM10 (ENSG00000281618)',\n",
       " 'ENSG00000276896': 'GOLGA8F (ENSG00000276896)',\n",
       " 'ENSG00000273831': 'LRRC56 (ENSG00000273831)',\n",
       " 'ENSG00000262024': 'TCF20 (ENSG00000262024)',\n",
       " 'ENSG00000273984': 'MUC4 (ENSG00000273984)',\n",
       " 'ENSG00000273822': 'MUC4 (ENSG00000273822)',\n",
       " 'ENSG00000275873': 'LMNTD2 (ENSG00000275873)',\n",
       " 'ENSG00000276143': 'AC138747.4 (ENSG00000276143)',\n",
       " 'ENSG00000282731': 'AC138747.10 (ENSG00000282731)',\n",
       " 'ENSG00000282516': 'AC138747.7 (ENSG00000282516)',\n",
       " 'ENSG00000282581': 'AC138747.8 (ENSG00000282581)',\n",
       " 'ENSG00000282587': 'AC138747.9 (ENSG00000282587)',\n",
       " 'ENSG00000276482': 'SLC12A7 (ENSG00000276482)',\n",
       " 'ENSG00000273635': 'AC138747.1 (ENSG00000273635)',\n",
       " 'ENSG00000273969': 'AC138747.2 (ENSG00000273969)',\n",
       " 'ENSG00000281946': 'AC138749.8 (ENSG00000281946)',\n",
       " 'ENSG00000274192': 'ABCB10P4 (ENSG00000274192)',\n",
       " 'ENSG00000272835': 'SMDT1 (ENSG00000272835)',\n",
       " 'ENSG00000273651': 'GOLGA8G (ENSG00000273651)',\n",
       " 'ENSG00000280609': 'AL139246.6 (ENSG00000280609)',\n",
       " 'ENSG00000281740': 'AL139246.10 (ENSG00000281740)',\n",
       " 'ENSG00000280556': 'BX247885.1 (ENSG00000280556)',\n",
       " 'ENSG00000275125': 'PRXL2B (ENSG00000275125)',\n",
       " 'ENSG00000273397': 'NDUFA6 (ENSG00000273397)',\n",
       " 'ENSG00000280880': 'BX247885.2 (ENSG00000280880)',\n",
       " 'ENSG00000278088': 'CYP2D7 (ENSG00000278088)',\n",
       " 'ENSG00000280521': 'SDHAP2 (ENSG00000280521)',\n",
       " 'ENSG00000282005': 'LMNTD2-AS1 (ENSG00000282005)',\n",
       " 'ENSG00000273859': 'RASSF7 (ENSG00000273859)',\n",
       " 'ENSG00000277753': 'MUC20 (ENSG00000277753)',\n",
       " 'ENSG00000280750': 'AL021878.3 (ENSG00000280750)',\n",
       " 'ENSG00000280613': 'NDUFA6-DT (ENSG00000280613)',\n",
       " 'ENSG00000273194': 'OLA1P1 (ENSG00000273194)',\n",
       " 'ENSG00000278303': 'MUC4 (ENSG00000278303)',\n",
       " 'ENSG00000272532': 'CYP2D6 (ENSG00000272532)',\n",
       " 'ENSG00000282810': 'MIR210HG (ENSG00000282810)',\n",
       " 'ENSG00000274780': 'PHRF1 (ENSG00000274780)',\n",
       " 'ENSG00000278550': 'SLC43A2 (ENSG00000278550)',\n",
       " 'ENSG00000277131': 'MMEL1 (ENSG00000277131)',\n",
       " 'ENSG00000282058': 'AC138749.9 (ENSG00000282058)',\n",
       " 'ENSG00000276485': 'AC138749.7 (ENSG00000276485)',\n",
       " 'ENSG00000263127': 'RPL4P5 (ENSG00000263127)',\n",
       " 'ENSG00000280518': 'AC244260.1 (ENSG00000280518)',\n",
       " 'ENSG00000281417': 'AC236040.3 (ENSG00000281417)',\n",
       " 'ENSG00000281650': 'AC243922.3 (ENSG00000281650)',\n",
       " 'ENSG00000272000': 'AC236040.1 (ENSG00000272000)',\n",
       " 'ENSG00000282531': 'AC138749.10 (ENSG00000282531)',\n",
       " 'ENSG00000282090': 'HERC2P11 (ENSG00000282090)',\n",
       " 'ENSG00000281425': 'AC243922.2 (ENSG00000281425)',\n",
       " 'ENSG00000278562': 'AC243922.1 (ENSG00000278562)',\n",
       " 'ENSG00000276005': 'AC138749.6 (ENSG00000276005)',\n",
       " 'ENSG00000281321': 'LINC02197 (ENSG00000281321)',\n",
       " 'ENSG00000273785': 'CYP2D8P (ENSG00000273785)',\n",
       " 'ENSG00000281210': 'AC245931.2 (ENSG00000281210)',\n",
       " 'ENSG00000280840': 'PMCHL2 (ENSG00000280840)',\n",
       " 'ENSG00000275577': 'VSTM1 (ENSG00000275577)',\n",
       " 'ENSG00000276461': 'TCF20 (ENSG00000276461)',\n",
       " 'ENSG00000280619': 'AC245931.1 (ENSG00000280619)',\n",
       " 'ENSG00000274803': 'BDP1 (ENSG00000274803)',\n",
       " 'ENSG00000280821': 'AC236040.2 (ENSG00000280821)',\n",
       " 'ENSG00000281122': 'AC108866.1 (ENSG00000281122)',\n",
       " 'ENSG00000275384': 'TARM1 (ENSG00000275384)',\n",
       " 'ENSG00000275644': 'OSCAR (ENSG00000275644)',\n",
       " 'ENSG00000273968': 'RN7SL105P (ENSG00000273968)',\n",
       " 'ENSG00000280645': 'MMEL1-AS1 (ENSG00000280645)',\n",
       " 'ENSG00000276336': 'SCARF1 (ENSG00000276336)',\n",
       " 'ENSG00000275571': 'TTC34 (ENSG00000275571)',\n",
       " 'ENSG00000277607': 'VSTM1 (ENSG00000277607)',\n",
       " 'ENSG00000276066': 'VSTM1 (ENSG00000276066)',\n",
       " 'ENSG00000276220': 'NDUFA3 (ENSG00000276220)',\n",
       " 'ENSG00000273954': 'LINC01194 (ENSG00000273954)',\n",
       " 'ENSG00000276323': 'TFPT (ENSG00000276323)',\n",
       " 'ENSG00000275117': 'PRPF31 (ENSG00000275117)',\n",
       " 'ENSG00000281742': 'MCCC2 (ENSG00000281742)',\n",
       " 'ENSG00000276561': 'IRF7 (ENSG00000276561)',\n",
       " 'ENSG00000274176': 'CNOT3 (ENSG00000274176)',\n",
       " 'ENSG00000273875': 'TARM1 (ENSG00000273875)',\n",
       " 'ENSG00000281819': 'AC022882.2 (ENSG00000281819)',\n",
       " 'ENSG00000263150': 'OR8J2 (ENSG00000263150)',\n",
       " 'ENSG00000274145': 'RILP (ENSG00000274145)',\n",
       " 'ENSG00000278378': 'OSCAR (ENSG00000278378)',\n",
       " 'ENSG00000262851': 'OR5T2 (ENSG00000262851)',\n",
       " 'ENSG00000277178': 'TARM1 (ENSG00000277178)',\n",
       " 'ENSG00000261897': 'OR5T3 (ENSG00000261897)',\n",
       " 'ENSG00000280621': 'AC110772.3 (ENSG00000280621)',\n",
       " 'ENSG00000262784': 'OR5T1 (ENSG00000262784)',\n",
       " 'ENSG00000278533': 'OSCAR (ENSG00000278533)',\n",
       " 'ENSG00000262611': 'OR8H1 (ENSG00000262611)',\n",
       " 'ENSG00000280712': 'OR8I1P (ENSG00000280712)',\n",
       " 'ENSG00000262755': 'OR8K3 (ENSG00000262755)',\n",
       " 'ENSG00000274442': 'PRPF8 (ENSG00000274442)',\n",
       " 'ENSG00000281773': 'FAM8A2P (ENSG00000281773)',\n",
       " 'ENSG00000280617': 'OR8K2P (ENSG00000280617)',\n",
       " 'ENSG00000263328': 'OR8K1 (ENSG00000263328)',\n",
       " 'ENSG00000281820': 'RPL5P29 (ENSG00000281820)',\n",
       " 'ENSG00000276774': 'LENG1 (ENSG00000276774)',\n",
       " 'ENSG00000280552': 'AC107622.1 (ENSG00000280552)',\n",
       " 'ENSG00000276260': 'TMC4 (ENSG00000276260)',\n",
       " 'ENSG00000262796': 'OR8J1 (ENSG00000262796)',\n",
       " 'ENSG00000262315': 'OR8U8 (ENSG00000262315)',\n",
       " 'ENSG00000281038': 'OR8U9 (ENSG00000281038)',\n",
       " 'ENSG00000280677': 'FAM66B (ENSG00000280677)',\n",
       " 'ENSG00000280577': 'OR8L1P (ENSG00000280577)',\n",
       " 'ENSG00000277802': 'AF252830.1 (ENSG00000277802)',\n",
       " 'ENSG00000281561': 'AF252830.2 (ENSG00000281561)',\n",
       " 'ENSG00000274195': 'ZNF705G (ENSG00000274195)',\n",
       " 'ENSG00000277722': 'NDUFA3 (ENSG00000277722)',\n",
       " 'ENSG00000276766': 'NDUFA3 (ENSG00000276766)',\n",
       " 'ENSG00000276378': 'DEFB108C (ENSG00000276378)',\n",
       " 'ENSG00000275444': 'DEFB4B (ENSG00000275444)',\n",
       " 'ENSG00000276263': 'TFPT (ENSG00000276263)',\n",
       " 'ENSG00000276022': 'TFPT (ENSG00000276022)',\n",
       " 'ENSG00000278322': 'MBOAT7 (ENSG00000278322)',\n",
       " 'ENSG00000282496': 'HSPD1P3 (ENSG00000282496)',\n",
       " 'ENSG00000273641': 'DEFB103B (ENSG00000273641)',\n",
       " 'ENSG00000274651': 'PRPF31 (ENSG00000274651)',\n",
       " 'ENSG00000273572': 'CDHR5 (ENSG00000273572)',\n",
       " 'ENSG00000274144': 'PRPF31 (ENSG00000274144)',\n",
       " 'ENSG00000274405': 'SPAG11B (ENSG00000274405)',\n",
       " 'ENSG00000274796': 'TSEN34 (ENSG00000274796)',\n",
       " 'ENSG00000274626': 'RPS9 (ENSG00000274626)',\n",
       " 'ENSG00000274941': 'CNOT3 (ENSG00000274941)',\n",
       " 'ENSG00000273083': 'NOP56P1 (ENSG00000273083)',\n",
       " 'ENSG00000273040': 'BX908720.1 (ENSG00000273040)',\n",
       " 'ENSG00000273200': 'LINC01623 (ENSG00000273200)',\n",
       " 'ENSG00000277006': 'DEFB104B (ENSG00000277006)',\n",
       " 'ENSG00000273286': 'RPL13P (ENSG00000273286)',\n",
       " 'ENSG00000237462': 'TRIM27 (ENSG00000237462)',\n",
       " 'ENSG00000277615': 'CNOT3 (ENSG00000277615)',\n",
       " 'ENSG00000273884': 'LILRA3 (ENSG00000273884)',\n",
       " 'ENSG00000275794': 'DEFB106B (ENSG00000275794)',\n",
       " 'ENSG00000274875': 'ZNF92P2 (ENSG00000274875)',\n",
       " 'ENSG00000279577': 'AC073539.4 (ENSG00000279577)',\n",
       " 'ENSG00000275641': 'PCGF7P (ENSG00000275641)',\n",
       " 'ENSG00000279661': 'MTDHP5 (ENSG00000279661)',\n",
       " 'ENSG00000274729': 'DEFB105B (ENSG00000274729)',\n",
       " 'ENSG00000280210': 'VN1R85P (ENSG00000280210)',\n",
       " 'ENSG00000276219': 'ZNF676 (ENSG00000276219)',\n",
       " 'ENSG00000231041': 'LINC01556 (ENSG00000231041)',\n",
       " 'ENSG00000226462': 'KRT18P1 (ENSG00000226462)',\n",
       " 'ENSG00000233035': 'HCG15 (ENSG00000233035)',\n",
       " 'ENSG00000277530': 'DEFB107B (ENSG00000277530)',\n",
       " 'ENSG00000240111': 'BX927167.1 (ENSG00000240111)',\n",
       " 'ENSG00000272603': 'NOP56P1 (ENSG00000272603)',\n",
       " 'ENSG00000235589': 'ZNF311 (ENSG00000235589)',\n",
       " 'ENSG00000272793': 'CR759954.1 (ENSG00000272793)',\n",
       " 'ENSG00000279350': 'BNIP3P30 (ENSG00000279350)',\n",
       " 'ENSG00000272857': 'LINC01623 (ENSG00000272857)',\n",
       " 'ENSG00000274540': 'PRR23D1 (ENSG00000274540)',\n",
       " 'ENSG00000279902': 'AC073539.6 (ENSG00000279902)',\n",
       " 'ENSG00000279731': 'AC073539.5 (ENSG00000279731)',\n",
       " 'ENSG00000272613': 'RPL13P (ENSG00000272613)',\n",
       " 'ENSG00000236614': 'ZNF90P2 (ENSG00000236614)',\n",
       " 'ENSG00000275272': 'YTHDC1 (ENSG00000275272)',\n",
       " 'ENSG00000279552': 'ZNF729 (ENSG00000279552)',\n",
       " 'ENSG00000234411': 'HCG14 (ENSG00000234411)',\n",
       " 'ENSG00000279984': 'BNIP3P31 (ENSG00000279984)',\n",
       " 'ENSG00000274953': 'VSTM1 (ENSG00000274953)',\n",
       " 'ENSG00000280471': 'FAM90A6P (ENSG00000280471)',\n",
       " 'ENSG00000234495': 'TRIM27 (ENSG00000234495)',\n",
       " 'ENSG00000281040': 'FAM90A7P (ENSG00000281040)',\n",
       " 'ENSG00000281150': 'FAM90A21P (ENSG00000281150)',\n",
       " 'ENSG00000281407': 'FAM90A22P (ENSG00000281407)',\n",
       " 'ENSG00000281862': 'FAM90A23P (ENSG00000281862)',\n",
       " 'ENSG00000278355': 'LILRA5 (ENSG00000278355)',\n",
       " 'ENSG00000276628': 'LENG1 (ENSG00000276628)',\n",
       " 'ENSG00000232781': 'OR2AD1P (ENSG00000232781)',\n",
       " 'ENSG00000228652': 'OR2W1 (ENSG00000228652)',\n",
       " 'ENSG00000277403': 'CR547123.1 (ENSG00000277403)',\n",
       " 'ENSG00000233019': 'OR2P1P (ENSG00000233019)',\n",
       " 'ENSG00000280960': 'OR7E157P (ENSG00000280960)',\n",
       " 'ENSG00000274905': 'TMC4 (ENSG00000274905)',\n",
       " ...}"
      ]
     },
     "execution_count": 67,
     "metadata": {},
     "output_type": "execute_result"
    }
   ],
   "source": [
    "gene_rename"
   ]
  },
  {
   "cell_type": "code",
   "execution_count": null,
   "metadata": {},
   "outputs": [],
   "source": [
    "segments['Chromosome'] = [i[3:] for i in segments['Chromosome'].tolist()]\n",
    "# reverting logtransform of GTK\n",
    "segments.Segment_Mean = 2**segments.Segment_Mean\n",
    "segments.Start = segments.Start.astype(int)\n",
    "segments.End = segments.End.astype(int)\n",
    "# setting sex genes to half of their value for it to match relative concentration of other genes.\n",
    "segments.loc[segments[segments.Chromosome.isin(['X','Y'])].index,'Segment_Mean'] = segments[segments.Chromosome.isin(['X','Y'])]['Segment_Mean']/2\n",
    "segments = segments.sort_values(by=['DepMap_ID','Chromosome','Start','End'])\n",
    "genemapping = genemapping.sort_values(by=['Chromosome','start','end'])"
   ]
  },
  {
   "cell_type": "code",
   "execution_count": null,
   "metadata": {},
   "outputs": [],
   "source": [
    "# TODO: check on IGV maxvalue"
   ]
  },
  {
   "cell_type": "markdown",
   "metadata": {},
   "source": [
    "## Validation step\n",
    "\n",
    "Once the files are saved, we load them back in python and do some validations, in brief:\n",
    "\n",
    "- mean,max,var...\n",
    "- to previous version: same mean,max,var...\n",
    "- checkAmountOfSegments: flag any samples with a very high number of segments\n",
    "- checkGeneChangeAccrossAll: flag any genes which stay at a similar value across all samples"
   ]
  },
  {
   "cell_type": "code",
   "execution_count": null,
   "metadata": {},
   "outputs": [],
   "source": [
    "len(segments[segments.Segment_Mean>1000])"
   ]
  },
  {
   "cell_type": "code",
   "execution_count": null,
   "metadata": {},
   "outputs": [],
   "source": [
    "gapmergedsegs = manageGapsInSegments(segments)\n",
    "genecn = toGeneMatrix(gapmergedsegs, gene_mapping)\n",
    "checkGeneChangeAccrossAll(genecn, thresh=0.025)"
   ]
  },
  {
   "cell_type": "code",
   "execution_count": null,
   "metadata": {},
   "outputs": [],
   "source": [
    "genecn.values.min(), genecn.values.mean(), genecn.values.max()"
   ]
  },
  {
   "cell_type": "code",
   "execution_count": null,
   "metadata": {},
   "outputs": [],
   "source": [
    "failed = checkAmountOfSegments(segments,thresh = 2000)\n",
    "failed"
   ]
  },
  {
   "cell_type": "code",
   "execution_count": null,
   "metadata": {},
   "outputs": [],
   "source": [
    "# reparing QC when we have a better duplicate\n",
    "ref=pd.DataFrame(ccle_refsamples[ccle_refsamples.datatype==\"wes\"]['arxspan_id'])\n",
    "replace={}\n",
    "for val in failed:\n",
    "    if val in list(renaming.keys()):\n",
    "        a = ref[ref.arxspan_id==ref.loc[val].arxspan_id].index\n",
    "        for v in a:\n",
    "            if v not in failed:\n",
    "                replace.update({val:v})\n",
    "                break\n",
    "print(len(replace), len(failed))\n",
    "for k, val in replace.items():\n",
    "    renaming[val] = renaming.pop(k)\n",
    "wesfailed = set(failed) - set(replace.keys())\n",
    "%store wesfailed"
   ]
  },
  {
   "cell_type": "code",
   "execution_count": null,
   "metadata": {},
   "outputs": [],
   "source": [
    "%store renaming"
   ]
  },
  {
   "cell_type": "code",
   "execution_count": null,
   "metadata": {},
   "outputs": [],
   "source": [
    "%store -r wesfailed"
   ]
  },
  {
   "cell_type": "code",
   "execution_count": null,
   "metadata": {},
   "outputs": [],
   "source": [
    "for i, (k, val) in enumerate(refwm.get_samples().loc[refwm.get_sample_sets().loc[\"all\"].samples].iterrows()):\n",
    "    if i>100:\n",
    "        continue\n",
    "    plot = val[\"modeled_segments_plot_tumor\"]\n",
    "    ! gsutil cp $plot temp/\n",
    "    print(k)\n",
    "    print(val['arxspan_id'], val['sex'])\n",
    "    display(Image('temp/'+plot.split('/')[-1]))"
   ]
  },
  {
   "cell_type": "markdown",
   "metadata": {},
   "source": [
    "These look bad in 20Q1: \n",
    "ACH-002511 (M140325), ACH-001370 (OCIP5X)\n",
    "\n",
    "These CN plots subjectively appear to have too many segments in new 20Q2 samples: \n",
    "ACH-002399 (CDS-sukIAT, 21NT_1), ACH-002401 (CDS-tVy3GF, 21MT2_1), ACH-002400 (CDS-VUHMHG, 21MT1_1)"
   ]
  },
  {
   "cell_type": "code",
   "execution_count": null,
   "metadata": {},
   "outputs": [],
   "source": [
    "prevgenecn = tc.get(name='internal-20q3-00d0', file='CCLE_gene_cn')"
   ]
  },
  {
   "cell_type": "code",
   "execution_count": null,
   "metadata": {},
   "outputs": [],
   "source": [
    "# getting the previous versions to check that we have everything we should\n",
    "#prevgenecn = tc.get(name='depmap-a0ab', file='CCLE_gene_cn')\n",
    "prevgenecn = tc.get(name='internal-20q3-00d0', file='CCLE_gene_cn')\n",
    "\n",
    "prevsegments = tc.get(name='depmap-a0ab', file='CCLE_segment_cn')\n",
    "prev = set(prevgenecn.index.tolist())\n",
    "prevgenecn.max().max()"
   ]
  },
  {
   "cell_type": "markdown",
   "metadata": {},
   "source": [
    "### Comparison to replicates"
   ]
  },
  {
   "cell_type": "markdown",
   "metadata": {},
   "source": [
    "### finding missmatch"
   ]
  },
  {
   "cell_type": "code",
   "execution_count": null,
   "metadata": {},
   "outputs": [],
   "source": [
    "closest = findClosestMatching(genecn, CCLE_gene_cn, True)"
   ]
  },
  {
   "cell_type": "code",
   "execution_count": null,
   "metadata": {},
   "outputs": [],
   "source": [
    "closest"
   ]
  },
  {
   "cell_type": "code",
   "execution_count": null,
   "metadata": {},
   "outputs": [],
   "source": [
    "# for each replicats, if it is not what it is supposed to be, will print other replicates that exist for this cell lines, and print what it seems to be vs what it is supposed to be\n",
    "issues = []\n",
    "for k,v in closest.items():\n",
    "    if ccle_refsamples.loc[k,'arxspan_id'] != v:\n",
    "        print(k)\n",
    "        print(ccle_refsamples[(ccle_refsamples.index!=k) & (ccle_refsamples.arxspan_id==v) & (ccle_refsamples.datatype=='wes')].index)\n",
    "        print(v,ccle_refsamples.loc[k,'arxspan_id'])\n",
    "        issues.append(k)"
   ]
  },
  {
   "cell_type": "code",
   "execution_count": null,
   "metadata": {},
   "outputs": [],
   "source": [
    "issues"
   ]
  },
  {
   "cell_type": "code",
   "execution_count": null,
   "metadata": {},
   "outputs": [],
   "source": [
    "match, corr =findClosestMatching(genecn, prevgenecn.loc[['ACH-000123',]], True, returncorr=True)"
   ]
  },
  {
   "cell_type": "code",
   "execution_count": null,
   "metadata": {},
   "outputs": [],
   "source": [
    "ccle_refsamples = changeCellLineName(ccle_refsamples, datatype = \"wes\", dupdict={\n",
    "'CDS-b5ElTm': \"ACH-000157\", \n",
    "\"CDS-up4Vo5\": \"ACH-000662\",\n",
    "\"CDS-CWA37D\": \"ACH-000825\", \n",
    "\"CDS-CCAK2f\": \"ACH-001328\",\n",
    "\"CDS-2jBQ8n\": \"ACH-000757\",\n",
    "\"CDS-T8W6P4\": \"ACH-000398\",\n",
    "\"CDS-9TDVpH\": \"ACH-000685\",\n",
    "\"CDS-dQKiht\": \"ACH-000375\",\n",
    "\"CDS-Ckptje\": \"ACH-002291\",\n",
    "\"CDS-ljFuDX\": \"ACH-001339\",\n",
    "\"CDS-5x4qLj\": \"ACH-000608\",\n",
    "\"CDS-UxJcOY\": \"ACH-000561\",\n",
    "\"CDS-TUYedU\": \"ACH-000261\",\n",
    "\"CDS-RLVrVE\": \"ACH-001523\",\n",
    "\"CDS-6liik0\": \"ACH-000561\",\n",
    "\"CDS-b5ElTm\": \"ACH-000157\",\n",
    "\"CDS-u9hZ60\": \"ACH-000077\",\n",
    "\"CDS-NUlX3d\": \"ACH-000458\",\n",
    "\"CDS-2HO10g\": \"ACH-000278\"})"
   ]
  },
  {
   "cell_type": "code",
   "execution_count": null,
   "metadata": {},
   "outputs": [],
   "source": [
    "ccle_refsamples = cleanVersions(ccle_refsamples)"
   ]
  },
  {
   "cell_type": "code",
   "execution_count": null,
   "metadata": {},
   "outputs": [],
   "source": [
    "iss=[]\n",
    "for k,v in corr.iterrows():\n",
    "    print(k, v.mean())\n",
    "    try:\n",
    "        if v[ccle_refsamples.loc[k,'arxspan_id']] < 0.75:\n",
    "            print(v[[closest[k],ccle_refsamples.loc[k,'arxspan_id']]])\n",
    "            continue\n",
    "    except:\n",
    "        a = np.argsort(v.values)[-5:]   \n",
    "        if  v.values[a[-1]]>0.8:\n",
    "            print(ccle_refsamples.loc[k,'arxspan_id'], corr.columns[a], v.values[a])\n",
    "            continue\n",
    "    iss.append(k)\n",
    "issues = iss"
   ]
  },
  {
   "cell_type": "code",
   "execution_count": null,
   "metadata": {},
   "outputs": [],
   "source": [
    "iss=[]\n",
    "for val in issues:\n",
    "    if val in renaming:\n",
    "        v = ccle_refsamples.loc[val,'arxspan_id']\n",
    "        a = ccle_refsamples[(ccle_refsamples.index!=val) & (ccle_refsamples.arxspan_id==v) & (ccle_refsamples.datatype=='wes')].index.tolist()\n",
    "        a = [e for e in a if e not in issues]\n",
    "        if len(a)>0:\n",
    "            a[0] = renaming.pop(val)\n",
    "        else:\n",
    "            iss.append(val)\n",
    "issues = iss"
   ]
  },
  {
   "cell_type": "code",
   "execution_count": null,
   "metadata": {},
   "outputs": [],
   "source": [
    "%store issues\n",
    "issues"
   ]
  },
  {
   "cell_type": "code",
   "execution_count": null,
   "metadata": {},
   "outputs": [],
   "source": [
    "prevgenecn"
   ]
  },
  {
   "cell_type": "markdown",
   "metadata": {},
   "source": [
    "### removing duplicates"
   ]
  },
  {
   "cell_type": "code",
   "execution_count": null,
   "metadata": {},
   "outputs": [],
   "source": [
    "unmatched"
   ]
  },
  {
   "cell_type": "code",
   "execution_count": null,
   "metadata": {},
   "outputs": [],
   "source": [
    "lis = {k: v for k,v in ccle_refsamples[ccle_refsamples.index.isin(set(genecn.index))]['arxspan_id'].iteritems()}"
   ]
  },
  {
   "cell_type": "code",
   "execution_count": null,
   "metadata": {},
   "outputs": [],
   "source": [
    "ge = np.log2(1+genecn[cols])\n",
    "ce = CCLE_gene_cn[cols]\n",
    "prev = ce.index.tolist()\n",
    "corr={val: {} for val in set(prev) & set(CCLE_gene_cn.index)}\n",
    "for k,v in lis.items():\n",
    "    if v in prev:\n",
    "        corr[v][k] = spearmanr(ge.loc[k],ce.loc[v])[0]"
   ]
  },
  {
   "cell_type": "code",
   "execution_count": null,
   "metadata": {},
   "outputs": [],
   "source": [
    "tomerge=[]\n",
    "for k,v in corr.items():\n",
    "    a = []\n",
    "    for i in h.dups(v.values()):\n",
    "        for l,w in v.items():\n",
    "            if w == i:\n",
    "                a.append(l)\n",
    "    if len(a)>1:\n",
    "        tomerge.append(a)\n",
    "len(tomerge)"
   ]
  },
  {
   "cell_type": "code",
   "execution_count": null,
   "metadata": {},
   "outputs": [],
   "source": [
    "segments[segments.DepMap_ID==\"CDS-A7rsOJ\"]"
   ]
  },
  {
   "cell_type": "code",
   "execution_count": null,
   "metadata": {},
   "outputs": [],
   "source": [
    "rerenaming['ACH-002359']"
   ]
  },
  {
   "cell_type": "code",
   "execution_count": null,
   "metadata": {},
   "outputs": [],
   "source": [
    "corr"
   ]
  },
  {
   "cell_type": "code",
   "execution_count": null,
   "metadata": {},
   "outputs": [],
   "source": [
    "for k,v in corr.items():\n",
    "    if v<0.7:\n",
    "        print(k)\n",
    "        print(set(priosegments[priosegments.DepMap_ID==k].Source), set(prevsegments[prevsegments.DepMap_ID==k].Source))"
   ]
  },
  {
   "cell_type": "code",
   "execution_count": null,
   "metadata": {},
   "outputs": [],
   "source": [
    "tomerge"
   ]
  },
  {
   "cell_type": "code",
   "execution_count": null,
   "metadata": {},
   "outputs": [],
   "source": [
    "wesdup= np.array(tomerge)\n",
    "%store wesdup"
   ]
  },
  {
   "cell_type": "code",
   "execution_count": null,
   "metadata": {},
   "outputs": [],
   "source": [
    "gcp.rmFiles(ccle_refsamples[ccle_refsamples.index.isin(np.array(tomerge)[:,1])][['internal_bam_filepath', 'internal_bai_filepath', 'legacy_bam_filepath', 'legacy_bai_filepath']].values.ravel())"
   ]
  },
  {
   "cell_type": "code",
   "execution_count": null,
   "metadata": {},
   "outputs": [],
   "source": [
    "# TODO: replace in the renaming"
   ]
  },
  {
   "cell_type": "code",
   "execution_count": null,
   "metadata": {},
   "outputs": [],
   "source": [
    "ccle_refsamples = sheets.get(refsheet_url).sheets[0].to_frame(index_col=0)"
   ]
  },
  {
   "cell_type": "code",
   "execution_count": null,
   "metadata": {},
   "outputs": [],
   "source": [
    "ccle_refsamples = ccle_refsamples.drop(np.array(tomerge)[:,1])"
   ]
  },
  {
   "cell_type": "code",
   "execution_count": null,
   "metadata": {},
   "outputs": [],
   "source": [
    "ccle_refsamples = cleanVersions(ccle_refsamples)"
   ]
  },
  {
   "cell_type": "code",
   "execution_count": null,
   "metadata": {},
   "outputs": [],
   "source": [
    "#dfToSheet(ccle_refsamples,'ccle sample tracker', secret=creds)\n",
    "copyToWorkspace(\"broad-firecloud-ccle/DepMap_WES_CN_hg38\", ccle_refsamples, deleteUnmatched=True)\n",
    "copyToWorkspace(\"broad-firecloud-ccle/DepMap_Mutation_Calling_CGA_pipeline\", ccle_refsamples, deleteUnmatched=True)"
   ]
  },
  {
   "cell_type": "markdown",
   "metadata": {},
   "source": [
    "### saving replicates"
   ]
  },
  {
   "cell_type": "code",
   "execution_count": null,
   "metadata": {},
   "outputs": [],
   "source": [
    "wesfailed"
   ]
  },
  {
   "cell_type": "code",
   "execution_count": null,
   "metadata": {},
   "outputs": [],
   "source": [
    "renaming"
   ]
  },
  {
   "cell_type": "code",
   "execution_count": null,
   "metadata": {},
   "outputs": [],
   "source": [
    "segments = segments[~segments.DepMap_ID.isin(set(wesfailed) | set(wesdup[:,1]))]\n",
    "genecn = genecn[~genecn.index.isin(set(wesfailed) | set(wesdup[:,1]))]"
   ]
  },
  {
   "cell_type": "code",
   "execution_count": null,
   "metadata": {},
   "outputs": [],
   "source": [
    "for v in set(segments.DepMap_ID):\n",
    "    segments.loc[segments[segments.DepMap_ID==v].index,'Source']= ccle_refsamples[ccle_refsamples.index==v].source.values[0]"
   ]
  },
  {
   "cell_type": "code",
   "execution_count": null,
   "metadata": {},
   "outputs": [],
   "source": [
    "segments.Source = segments.Source.replace({'CCLF':'Broad WES', 'CHORDOMA':'Chordoma WES', 'SANGER':'Sanger WES', 'IBM':'Broad WES', np.nan:'Broad WES', 'DEPMAP':'Broad WES', 'IBM WES': \"Broad WES\", 'Broad CCLF':\"Broad WES\"})"
   ]
  },
  {
   "cell_type": "code",
   "execution_count": null,
   "metadata": {},
   "outputs": [],
   "source": [
    "segments.to_csv('temp/segments_allWES_withreplicates_'+samplesetname+'.csv', index=False)\n",
    "genecn.to_csv('temp/gene_cn_allWES_withreplicates_'+samplesetname+\".csv\")"
   ]
  },
  {
   "cell_type": "code",
   "execution_count": null,
   "metadata": {},
   "outputs": [],
   "source": [
    "(set(renaming.keys()) - set(segments.DepMap_ID)) - wesfailed"
   ]
  },
  {
   "cell_type": "code",
   "execution_count": null,
   "metadata": {},
   "outputs": [],
   "source": [
    "segments = pd.read_csv('temp/segments_allWES_withreplicates_'+samplesetname+'.csv')\n",
    "genecn = pd.read_csv('temp/gene_cn_allWES_withreplicates_'+samplesetname+\".csv\", index_col=0)"
   ]
  },
  {
   "cell_type": "markdown",
   "metadata": {},
   "source": [
    "### Comparison to prioritized"
   ]
  },
  {
   "cell_type": "code",
   "execution_count": null,
   "metadata": {},
   "outputs": [],
   "source": [
    "# getting the other version if necessary, because the other on needs to be removed\n",
    "for val in wesdup:\n",
    "    if val[1] in renaming:\n",
    "        renaming[val[0]] = renaming.pop(val[1])\n",
    "        \n",
    "# getting another version that did not fail\n",
    "for val in wesfailed:\n",
    "    v = ccle_refsamples[(ccle_refsamples.arxspan_id == ccle_refsamples.loc[val].arxspan_id[0]) & (ccle_refsamples.datatype=='wes')].index\n",
    "    if len(v)>1:\n",
    "        for k in v:\n",
    "            if k != val:\n",
    "                renaming[k] = renaming.pop(val)\n",
    "    else:\n",
    "        try:\n",
    "            renaming.pop(val)\n",
    "        except:\n",
    "            print('already removed')\n",
    "%store renaming"
   ]
  },
  {
   "cell_type": "code",
   "execution_count": null,
   "metadata": {},
   "outputs": [],
   "source": [
    "set([\"ACH-000274\",\n",
    "\"ACH-002446\",\n",
    "\"ACH-000833\",\n",
    "\"ACH-001151\",\n",
    "\"ACH-001955\",\n",
    "\"ACH-000757\",\n",
    "\"ACH-000511\",\n",
    "\"ACH-001321\",\n",
    "\"ACH-000473\",\n",
    "\"ACH-001605\",\n",
    "\"ACH-001957\"]) - set(priosegments.DepMap_ID)"
   ]
  },
  {
   "cell_type": "code",
   "execution_count": null,
   "metadata": {},
   "outputs": [],
   "source": [
    "renaming.update({\"CDS-Ckptje\": \"ACH-001672\",\n",
    "\"CDS-pgDmZb\": \"ACH-002291\"})"
   ]
  },
  {
   "cell_type": "code",
   "execution_count": null,
   "metadata": {},
   "outputs": [],
   "source": [
    "priosegments = segments[segments.DepMap_ID.isin(set(renaming.keys()))].replace(renaming)\n",
    "priogenecn = genecn[genecn.index.isin(set(renaming.keys()))].rename(index=renaming)"
   ]
  },
  {
   "cell_type": "code",
   "execution_count": null,
   "metadata": {},
   "outputs": [],
   "source": [
    "cols = set(priogenecn.columns) & set(CCLE_gene_cn.columns)\n",
    "ge = np.log2(1+priogenecn[cols])\n",
    "ce = CCLE_gene_cn[cols]\n",
    "ind = set(priogenecn.index) & set(CCLE_gene_cn.index)\n",
    "corr={}\n",
    "for val in ind:\n",
    "    corr[val] = pearsonr(ge.loc[val],ce.loc[val])[0]\n",
    "for k,v in corr.items():\n",
    "    if v<0.3:\n",
    "        print(k)\n",
    "        print(set(priosegments[priosegments.DepMap_ID==k].Source), set(prevsegments[prevsegments.DepMap_ID==k].Source))"
   ]
  },
  {
   "cell_type": "code",
   "execution_count": null,
   "metadata": {},
   "outputs": [],
   "source": [
    "for k,v in corr.items():\n",
    "    if v<0.3:\n",
    "        print(k)\n",
    "        print(set(priosegments[priosegments.DepMap_ID==k].Source), set(CCLE_segment_cn[CCLE_segment_cn.DepMap_ID==k].Source))"
   ]
  },
  {
   "cell_type": "code",
   "execution_count": null,
   "metadata": {},
   "outputs": [],
   "source": [
    "a = np.array(list(corr.values()))\n",
    "sns.kdeplot(a)"
   ]
  },
  {
   "cell_type": "code",
   "execution_count": null,
   "metadata": {},
   "outputs": [],
   "source": [
    "sns.scatterplot(x=ge.loc[ind].values.ravel()[:100000],y=ce.loc[ind].values.ravel()[:100000],)"
   ]
  },
  {
   "cell_type": "code",
   "execution_count": null,
   "metadata": {},
   "outputs": [],
   "source": [
    "sns.kdeplot(data=np.array([ge.loc[ind].values.ravel()[:100000], ce.loc[ind].values.ravel()[:100000]]).T, fill=True)"
   ]
  },
  {
   "cell_type": "markdown",
   "metadata": {},
   "source": [
    "### saving prioritizd"
   ]
  },
  {
   "cell_type": "code",
   "execution_count": null,
   "metadata": {},
   "outputs": [],
   "source": [
    "ccle_refsamples = sheets.get(refsheet_url).sheets[0].to_frame(index_col=0)\n",
    "normals = ccle_refsamples[ccle_refsamples['primary_disease']=='normal'].index.tolist()\n",
    "#priosegments = priosegments[~priosegments.DepMap_ID.isin(normals)]\n",
    "#priogenecn = priogenecn.drop(index=normals)"
   ]
  },
  {
   "cell_type": "code",
   "execution_count": null,
   "metadata": {},
   "outputs": [],
   "source": [
    "#h.compareDfs(priosegments, tc.get(name='depmap-a0ab', file='CCLE_segment_cn'))\n",
    "h.compareDfs(priogenecn, tc.get(name='depmap-a0ab', file='CCLE_gene_cn'))"
   ]
  },
  {
   "cell_type": "code",
   "execution_count": null,
   "metadata": {},
   "outputs": [],
   "source": [
    "priosegments.to_csv(\"temp/segments_allWES_latest_\"+samplesetname+\".csv\", index=False)\n",
    "priogenecn.to_csv('temp/gene_cn_allWES_latest_'+samplesetname+\".csv\")"
   ]
  },
  {
   "cell_type": "code",
   "execution_count": null,
   "metadata": {},
   "outputs": [],
   "source": [
    "priosegments= pd.read_csv(\"temp/segments_allWES_latest_\"+samplesetname+\".csv\")\n",
    "priogenecn = pd.read_csv('temp/gene_cn_allWES_latest_'+samplesetname+\".csv\", index_col=0)"
   ]
  },
  {
   "cell_type": "markdown",
   "metadata": {},
   "source": [
    "looking for correlation issues to previous releases"
   ]
  },
  {
   "cell_type": "code",
   "execution_count": null,
   "metadata": {},
   "outputs": [],
   "source": [
    "a = set(priogenecn.columns) & set(prevgenecn.columns)"
   ]
  },
  {
   "cell_type": "code",
   "execution_count": null,
   "metadata": {},
   "outputs": [],
   "source": [
    "corr = np.corrcoef(priogenecn)"
   ]
  },
  {
   "cell_type": "code",
   "execution_count": null,
   "metadata": {},
   "outputs": [],
   "source": [
    "ind = priogenecn.index.tolist()"
   ]
  },
  {
   "cell_type": "code",
   "execution_count": null,
   "metadata": {},
   "outputs": [],
   "source": [
    "a = [(ind[val[0]], ind[val[1]]) for val in np.argwhere(corr>0.96) if val[0]!=val[1]]"
   ]
  },
  {
   "cell_type": "code",
   "execution_count": null,
   "metadata": {},
   "outputs": [],
   "source": [
    "len(a)"
   ]
  },
  {
   "cell_type": "code",
   "execution_count": null,
   "metadata": {},
   "outputs": [],
   "source": [
    "['ACH-000131','ACH-000125','ACH-001093','ACH-000284','ACH-000340', 'ACH-000214', 'ACH-001767','ACH-000240','ACH-000154','ACH-000063','ACH-000165']"
   ]
  },
  {
   "cell_type": "code",
   "execution_count": null,
   "metadata": {},
   "outputs": [],
   "source": [
    "[val for val in a if val[1] not in ['ACH-000131','ACH-000125','ACH-001093','ACH-000284','ACH-000340', 'ACH-000214', 'ACH-001767','ACH-000240','ACH-000154','ACH-000063','ACH-000165']]"
   ]
  },
  {
   "cell_type": "markdown",
   "metadata": {},
   "source": [
    "### saving samples version used for the release"
   ]
  },
  {
   "cell_type": "code",
   "execution_count": null,
   "metadata": {},
   "outputs": [],
   "source": [
    "ccle_refsamples = sheets.get(refsheet_url).sheets[0].to_frame(index_col=0)\n",
    "loc = set(wes_res.index) & set(ccle_refsamples.index)\n",
    "for i in ccle_refsamples.columns[-14:-1]:\n",
    "    ccle_refsamples.loc[loc,i] = 0\n",
    "ccle_refsamples[samplesetname]=0\n",
    "ccle_refsamples.loc[renaming.keys(),samplesetname]=1\n",
    "ccle_refsamples.loc[failed,'low_quality']=1\n",
    "dfToSheet(ccle_refsamples,'ccle sample tracker', secret=creds)"
   ]
  },
  {
   "cell_type": "markdown",
   "metadata": {},
   "source": [
    "# Upload to taiga\n",
    "\n",
    "- we load the blacklisted/embargoed sample ids\n",
    "- we log2 transform and create a file for each release (and one containing everything)\n",
    "- we upload the files using taigapy in a corresponding taiga dataset with the corresponding description and also upload it to its virtual dataset"
   ]
  },
  {
   "cell_type": "markdown",
   "metadata": {},
   "source": [
    "## we push full dataset version in depmap taiga CN"
   ]
  },
  {
   "cell_type": "code",
   "execution_count": null,
   "metadata": {},
   "outputs": [],
   "source": [
    "tc.update_dataset(dataset_permaname=\"cn-latest-d8d4\", \n",
    "                  upload_file_path_dict={\n",
    "    'temp/segments_allWES_latest_'+samplesetname+'.csv': 'TableCSV',\n",
    "    'temp/gene_cn_allWES_latest_'+samplesetname+\".csv\": 'NumericMatrixCSV',\n",
    "    'temp/segments_allWES_withreplicates_'+samplesetname+'.csv': 'TableCSV',\n",
    "    'temp/gene_cn_allWES_withreplicates_'+samplesetname+\".csv\": 'NumericMatrixCSV',\n",
    "    'temp/gene_cn_all_merged_'+samplesetname+\".csv\":\"NumericMatrixCSV\",\n",
    "    'temp/segments_allWGS_withreplicates_'+samplesetname+\".csv\":\"TableCSV\",\n",
    "    'temp/gene_cn_allWGS_withreplicates_'+samplesetname+\".csv\":\"NumericMatrixCSV\"},\n",
    "                  changes_description=\n",
    "\"\"\"\n",
    "\"\"\",\n",
    "#\"adding:\"+len(new)+\"lines and removed\"+str(removed)+\" and adding WGS data! with 29 new lines\",\n",
    "                  dataset_description=\"\"\"\n",
    "# Copy Number\n",
    "\n",
    "PORTAL TEAM SHOULD NOT USE THIS: There are lines here that should not make it even to internal.\n",
    "\n",
    "/!\\ This is the most up to date version of the CCLE CN data.\n",
    "\n",
    "# Notations:\n",
    "\n",
    "all: everything\n",
    "\n",
    "allWES: all data comes from the WExomeS samples we posses\n",
    "\n",
    "allWGS: all data comes from the WGenomeS samples we posses\n",
    "\n",
    "withreplicates: if we have two different sequencing from a sample, we kept both, see the depmap sample tracker for annotations [https://docs.google.com/spreadsheets/d/1XkZypRuOEXzNLxVk9EOHeWRE98Z8_DBvL4PovyM01FE](https://docs.google.com/spreadsheets/d/1XkZypRuOEXzNLxVk9EOHeWRE98Z8_DBvL4PovyM01FE). this dataset is more geared toward QC or in-depth analysis of a particular cell line.\n",
    "\n",
    "merged: everything from both WGS and WES\n",
    "\n",
    "latest: only the latest sequencing versions of the samples were kept\n",
    "\n",
    "\n",
    "Gene level CN data:\n",
    "\n",
    "__Rows__: cell line IDs\n",
    "\n",
    "__Columns__: gene names in the format HGNC\\_symbol (Entrez\\_ID)\n",
    "\n",
    "Segment level data:\n",
    "\n",
    "__Columns__: DepMap\\_ID, Chromosome, Start, End, Segment\\_Mean, Num\\_Probes, Calls\"\"\")"
   ]
  },
  {
   "cell_type": "code",
   "execution_count": null,
   "metadata": {},
   "outputs": [],
   "source": []
  }
 ],
 "metadata": {
  "celltoolbar": "Aucun(e)",
  "kernelspec": {
   "display_name": "Python 3",
   "language": "python",
   "name": "python3"
  },
  "language_info": {
   "codemirror_mode": {
    "name": "ipython",
    "version": 3
   },
   "file_extension": ".py",
   "mimetype": "text/x-python",
   "name": "python",
   "nbconvert_exporter": "python",
   "pygments_lexer": "ipython3",
   "version": "3.7.3"
  },
  "latex_envs": {
   "LaTeX_envs_menu_present": true,
   "autoclose": false,
   "autocomplete": true,
   "bibliofile": "biblio.bib",
   "cite_by": "apalike",
   "current_citInitial": 1,
   "eqLabelWithNumbers": true,
   "eqNumInitial": 1,
   "hotkeys": {
    "equation": "Ctrl-E",
    "itemize": "Ctrl-I"
   },
   "labels_anchors": false,
   "latex_user_defs": false,
   "report_style_numbering": false,
   "user_envs_cfg": false
  },
  "notify_time": "10",
  "toc": {
   "base_numbering": 1,
   "nav_menu": {
    "height": "313px",
    "width": "588px"
   },
   "number_sections": true,
   "sideBar": true,
   "skip_h1_title": false,
   "title_cell": "Table of Contents",
   "title_sidebar": "Contents",
   "toc_cell": false,
   "toc_position": {
    "height": "calc(100% - 180px)",
    "left": "10px",
    "top": "150px",
    "width": "230.788px"
   },
   "toc_section_display": true,
   "toc_window_display": true
  },
  "varInspector": {
   "cols": {
    "lenName": 16,
    "lenType": 16,
    "lenVar": 40
   },
   "kernels_config": {
    "python": {
     "delete_cmd_postfix": "",
     "delete_cmd_prefix": "del ",
     "library": "var_list.py",
     "varRefreshCmd": "print(var_dic_list())"
    },
    "r": {
     "delete_cmd_postfix": ") ",
     "delete_cmd_prefix": "rm(",
     "library": "var_list.r",
     "varRefreshCmd": "cat(var_dic_list()) "
    }
   },
   "types_to_exclude": [
    "module",
    "function",
    "builtin_function_or_method",
    "instance",
    "_Feature"
   ],
   "window_display": false
  }
 },
 "nbformat": 4,
 "nbformat_minor": 2
}
