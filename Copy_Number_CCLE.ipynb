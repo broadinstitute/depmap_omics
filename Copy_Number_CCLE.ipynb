{
 "cells": [
  {
   "cell_type": "markdown",
   "metadata": {},
   "source": [
    "# Copy Number Pipeline"
   ]
  },
  {
   "cell_type": "code",
   "execution_count": 2,
   "metadata": {},
   "outputs": [],
   "source": [
    "from __future__ import print_function\n",
    "import os.path\n",
    "import numpy as np\n",
    "import pandas as pd\n",
    "from IPython.display import Image,display\n",
    "import dalmatian as dm\n",
    "from IPython.core.display import HTML \n",
    "from src.CCLE_postp_function import *\n",
    "import sys\n",
    "sys.path.insert(0, '../JKBio/')\n",
    "import TerraFunction as terra\n",
    "import rpy2\n",
    "%load_ext autoreload\n",
    "%autoreload 2\n",
    "%load_ext rpy2.ipython\n",
    "from taigapy import TaigaClient\n",
    "tc = TaigaClient()\n",
    "from gsheets import Sheets\n",
    "sheets = Sheets.from_files('~/.client_secret.json', '~/.storage.json')\n",
    "replace = {'T': 'Tumor', 'N': 'Normal', 'm': 'Unknown', 'L': 'Unknown'}"
   ]
  },
  {
   "cell_type": "code",
   "execution_count": 3,
   "metadata": {},
   "outputs": [],
   "source": [
    "samplesetname = \"19Q4\"\n",
    "prevname = '19Q3'\n",
    "prevprevname ='19Q2'\n",
    "virtual_public=''\n",
    "virtual_dmc=''\n",
    "virtual_internal=''\n",
    "\n",
    "workspace1=\"broad-genomics-delivery/Getz_IBM_CellLines_Exomes\"\n",
    "workspace2=\"broad-firecloud-ccle/CCLE_DepMap_WES\"\n",
    "workspace3=\"broad-genomics-delivery/CCLE_DepMap_WES\"\n",
    "refworkspace=\"broad-firecloud-ccle/DepMap_WES_CN_hg38\"\n",
    "source1=\"ibm\"\n",
    "source2=\"ccle\"\n",
    "source3=\"ccle\"\n",
    "release = samplesetname\n",
    "sheeturl = \"https://docs.google.com/spreadsheets/d/115TUgA1t_mD32SnWAGpW9OKmJ2W5WYAOs3SuSdedpX4\""
   ]
  },
  {
   "cell_type": "code",
   "execution_count": 4,
   "metadata": {},
   "outputs": [],
   "source": [
    "%%R\n",
    "release <- '19Q4'\n",
    "prevname <- '19Q3'\n",
    "\n",
    "genome_version <- 'hg38'\n",
    "hg38_cyto_band_reference <- '../JKBio/data/hg38_cytoband.gz'\n",
    "new_samples_copy_number_broad_wes <- 'temp/cnv_ccle.called.seg'"
   ]
  },
  {
   "cell_type": "code",
   "execution_count": 5,
   "metadata": {},
   "outputs": [],
   "source": [
    "wm1 = dm.WorkspaceManager(workspace1)\n",
    "wm2 = dm.WorkspaceManager(workspace2)\n",
    "wm3 = dm.WorkspaceManager(workspace3)\n",
    "\n",
    "refwm = dm.WorkspaceManager(refworkspace)"
   ]
  },
  {
   "cell_type": "code",
   "execution_count": null,
   "metadata": {},
   "outputs": [],
   "source": [
    "extract_to_change = {'ref_bams':'WES_bam'}"
   ]
  },
  {
   "cell_type": "code",
   "execution_count": null,
   "metadata": {},
   "outputs": [],
   "source": [
    "newsample = createDatasetWithNewCellLines(refwm, samplesetname, wmfroms = [wm1, wm2, wm3], sources=[source1, source2, source3], gsfolderto='gs://ccle_bams/wes/', match='ACH', participantslicepos=10, accept_unknowntypes=True, extract = extract_to_change, dry_run = True)"
   ]
  },
  {
   "cell_type": "markdown",
   "metadata": {},
   "source": [
    "## Check that we have all the cell lines we expect for this release\n",
    "This involves comparing to the list in the Google sheet \"Cell Line Profiling Status.\""
   ]
  },
  {
   "cell_type": "code",
   "execution_count": null,
   "metadata": {},
   "outputs": [],
   "source": [
    "# this function may not work - it hasn't been tested\n",
    "url = 'https://docs.google.com/spreadsheets/d/1qus-9TKzqzwUMNWp8S1QP4s4-3SsMo2vuQRZrNXf7ag/edit?ts=5db85e27#gid=0&fvid=1627883727'\n",
    "\n",
    "compareToCuratedGS(url, sample = newsample[0], samplesetname = samplesetname, colname = 'CN New to internal')"
   ]
  },
  {
   "cell_type": "markdown",
   "metadata": {},
   "source": [
    "# run Terra pipeline"
   ]
  },
  {
   "cell_type": "code",
   "execution_count": null,
   "metadata": {},
   "outputs": [],
   "source": [
    "gsheet.index = gsheet['DepMap ID']\n",
    "new_cn = gsheet[gsheet['CN New to internal'] == '19Q4tent']"
   ]
  },
  {
   "cell_type": "code",
   "execution_count": null,
   "metadata": {},
   "outputs": [],
   "source": [
    "terra_participants = refwm.get_samples()['participant'].tolist()\n",
    "terra_participants"
   ]
  },
  {
   "cell_type": "code",
   "execution_count": null,
   "metadata": {},
   "outputs": [],
   "source": [
    "set(new_cn.index.tolist()) - set(terra_participants)\n",
    "## NOTE: we do not want to include ACH-002446-cas9 in this release"
   ]
  },
  {
   "cell_type": "code",
   "execution_count": null,
   "metadata": {},
   "outputs": [],
   "source": [
    "bamtoubam= \"BamToUnmappedRGBams_MC\"\n",
    "ubamtofilelist = \"Generate_uBAM_File_List\"\n",
    "realign=\"Realign_WES_GATK4\""
   ]
  },
  {
   "cell_type": "code",
   "execution_count": null,
   "metadata": {},
   "outputs": [],
   "source": [
    "subid = refwm.create_submission(bamtoubam,samplesetname,\"sample_set\",\"this.samples\")\n",
    "terra.waitForSubmission(refworkspace, subid)"
   ]
  },
  {
   "cell_type": "code",
   "execution_count": null,
   "metadata": {},
   "outputs": [],
   "source": [
    "subid = refwm.create_submission(ubamtofilelist,samplesetname,\"sample_set\",\"this.samples\")\n",
    "terra.waitForSubmission(refworkspace, subid)"
   ]
  },
  {
   "cell_type": "code",
   "execution_count": null,
   "metadata": {},
   "outputs": [],
   "source": [
    "subid = refwm.create_submission(realign,samplesetname,\"sample_set\",\"this.samples\")\n",
    "terra.waitForSubmission(refworkspace, subid)"
   ]
  },
  {
   "cell_type": "code",
   "execution_count": null,
   "metadata": {},
   "outputs": [],
   "source": [
    "submission_id= refwm.create_submission(\"CNV_sample_XX\",etype='sample_set',entity=samplesetname,expression='this.samples')\n",
    "terra.waitForSubmission(refworkspace,submission_id)"
   ]
  },
  {
   "cell_type": "code",
   "execution_count": null,
   "metadata": {},
   "outputs": [],
   "source": [
    "submission_id = refwm.create_submission(\"Aggregate_CN_seg_files\",entity=samplesetname)\n",
    "terra.waitForSubmission(refworkspace,submission_id)"
   ]
  },
  {
   "cell_type": "code",
   "execution_count": 24,
   "metadata": {},
   "outputs": [
    {
     "data": {
      "text/plain": [
       "'gs://fc-secure-d2a2d895-a7af-4117-bdc7-652d7d268324/b904ecf9-8eb2-4fa1-be0b-3749b7b57364/aggregate_CN_segments_wrkflw/96d5b974-e788-4755-9a58-a99f8a904500/call-aggregate_CN_segments/19Q4.called.seg'"
      ]
     },
     "execution_count": 24,
     "metadata": {},
     "output_type": "execute_result"
    }
   ],
   "source": [
    "aggregated = refwm.get_entities('sample_set').loc[samplesetname][\"combined_seg_file\"]\n",
    "aggregated"
   ]
  },
  {
   "cell_type": "markdown",
   "metadata": {},
   "source": [
    "### Save the workflow configurations used"
   ]
  },
  {
   "cell_type": "code",
   "execution_count": null,
   "metadata": {},
   "outputs": [],
   "source": [
    "terra.saveConfigs(refworkspace,'data/'+sample_set_id+'/CNVconfig')"
   ]
  },
  {
   "cell_type": "markdown",
   "metadata": {},
   "source": [
    "## deleting unmapped bams"
   ]
  },
  {
   "cell_type": "code",
   "execution_count": 25,
   "metadata": {
    "scrolled": true
   },
   "outputs": [
    {
     "ename": "NameError",
     "evalue": "name 'sample_set_id' is not defined",
     "output_type": "error",
     "traceback": [
      "\u001b[0;31m---------------------------------------------------------------------------\u001b[0m",
      "\u001b[0;31mNameError\u001b[0m                                 Traceback (most recent call last)",
      "\u001b[0;32m<ipython-input-25-845d37a1792e>\u001b[0m in \u001b[0;36m<module>\u001b[0;34m\u001b[0m\n\u001b[1;32m      1\u001b[0m \u001b[0msam\u001b[0m \u001b[0;34m=\u001b[0m \u001b[0mrefwm\u001b[0m\u001b[0;34m.\u001b[0m\u001b[0mget_samples\u001b[0m\u001b[0;34m(\u001b[0m\u001b[0;34m)\u001b[0m\u001b[0;34m\u001b[0m\u001b[0;34m\u001b[0m\u001b[0m\n\u001b[0;32m----> 2\u001b[0;31m \u001b[0msamplesinset\u001b[0m \u001b[0;34m=\u001b[0m \u001b[0msam\u001b[0m\u001b[0;34m[\u001b[0m\u001b[0msam\u001b[0m\u001b[0;34m.\u001b[0m\u001b[0mindex\u001b[0m\u001b[0;34m.\u001b[0m\u001b[0misin\u001b[0m\u001b[0;34m(\u001b[0m\u001b[0mrefwm\u001b[0m\u001b[0;34m.\u001b[0m\u001b[0mget_sample_sets\u001b[0m\u001b[0;34m(\u001b[0m\u001b[0;34m)\u001b[0m\u001b[0;34m.\u001b[0m\u001b[0mloc\u001b[0m\u001b[0;34m[\u001b[0m\u001b[0msample_set_id\u001b[0m\u001b[0;34m]\u001b[0m\u001b[0;34m.\u001b[0m\u001b[0msamples\u001b[0m\u001b[0;34m)\u001b[0m\u001b[0;34m]\u001b[0m\u001b[0;34m\u001b[0m\u001b[0;34m\u001b[0m\u001b[0m\n\u001b[0m",
      "\u001b[0;31mNameError\u001b[0m: name 'sample_set_id' is not defined"
     ]
    }
   ],
   "source": [
    "sam = refwm.get_samples()\n",
    "samplesinset = sam[sam.index.isin(refwm.get_sample_sets().loc[sample_set_id].samples)]"
   ]
  },
  {
   "cell_type": "code",
   "execution_count": null,
   "metadata": {},
   "outputs": [],
   "source": [
    "for val in samplesinset.readgroup_ubams:\n",
    "    ubams = ''\n",
    "    for v in val:\n",
    "        ubams+=' '+v\n",
    "    os.system('gsutil -m rm'+ubams)"
   ]
  },
  {
   "cell_type": "code",
   "execution_count": null,
   "metadata": {},
   "outputs": [],
   "source": [
    "onlycol = ['hg38_analysis_ready_bam',\n",
    "'hg38_analysis_ready_bam_index',\n",
    "'hg38_analysis_ready_bam_md5']\n",
    "newgs = 'gs://ccle_bams/hg38_wes/'\n",
    "for k, val in samplesinset[onlycol].iterrows():\n",
    "    data = ''\n",
    "    for v in val:\n",
    "        data+=' '+v\n",
    "    ! gsutil -m mv $data $newgs\n",
    "\n",
    "changeGSlocation(refwm,prevgslist=['gs://fc-secure-d2a2d895-a7af-4117-bdc7-652d7d268324/'], newgs=newgs, onlycol=onlycol, entity='samples')"
   ]
  },
  {
   "cell_type": "code",
   "execution_count": 26,
   "metadata": {},
   "outputs": [
    {
     "name": "stdout",
     "output_type": "stream",
     "text": [
      "Copying gs://fc-secure-d2a2d895-a7af-4117-bdc7-652d7d268324/b904ecf9-8eb2-4fa1-be0b-3749b7b57364/aggregate_CN_segments_wrkflw/96d5b974-e788-4755-9a58-a99f8a904500/call-aggregate_CN_segments/19Q4.called.seg...\n",
      "/ [1 files][448.9 KiB/448.9 KiB]                                                \n",
      "Operation completed over 1 objects/448.9 KiB.                                    \n"
     ]
    }
   ],
   "source": [
    "! gsutil cp $aggregated \"temp/cnv_ccle.called.seg\""
   ]
  },
  {
   "cell_type": "markdown",
   "metadata": {},
   "source": [
    "## If want to reprocess something"
   ]
  },
  {
   "cell_type": "code",
   "execution_count": null,
   "metadata": {},
   "outputs": [],
   "source": [
    "#%%R\n",
    "#segments_unfiltered <- readr::read_csv('temp/wes.19Q3.segmented.cn')"
   ]
  },
  {
   "cell_type": "markdown",
   "metadata": {},
   "source": [
    "## post Procesing"
   ]
  },
  {
   "cell_type": "code",
   "execution_count": 69,
   "metadata": {},
   "outputs": [
    {
     "name": "stderr",
     "output_type": "stream",
     "text": [
      "R[write to console]: Error in library(dplyr) : there is no package called ‘dplyr’\n",
      "Calls: <Anonymous> ... withVisible -> source -> withVisible -> eval -> eval -> library\n",
      "\n"
     ]
    },
    {
     "name": "stdout",
     "output_type": "stream",
     "text": [
      "\n",
      "Error in library(dplyr) : there is no package called ‘dplyr’\n",
      "Calls: <Anonymous> ... withVisible -> source -> withVisible -> eval -> eval -> library\n"
     ]
    }
   ],
   "source": [
    "%%R\n",
    "source('../gkugener/RScripts/load_libraries_and_annotations.R')\n",
    "source(\"src/CCLE_postp_function.R\")\n",
    "library('celllinemapr')\n",
    "library('magrittr')\n",
    "library('taigr')\n",
    "library('cdsomics')\n",
    "library('readr')"
   ]
  },
  {
   "cell_type": "code",
   "execution_count": null,
   "metadata": {},
   "outputs": [],
   "source": [
    "%%R\n",
    "paste0(\"wes.\",prevname,\".segmented\")"
   ]
  },
  {
   "cell_type": "code",
   "execution_count": null,
   "metadata": {},
   "outputs": [],
   "source": [
    "%%R\n",
    "# Previous release copy number profiles. This line will need to be updated as well\n",
    "wes.priority.cn.seg.profiles <- taigr::load.from.taiga(data.name='segmented-cn-wes-prioritzed-7fe1', data.file=paste0(\"wes.\",prevname,\".segmented\"),data.version='33') %>%\n",
    "  dplyr::select(DepMap_ID, Chromosome, Start, End, Num_Probes, Segment_Mean, Source)"
   ]
  },
  {
   "cell_type": "markdown",
   "metadata": {},
   "source": [
    "### getting blacklist"
   ]
  },
  {
   "cell_type": "code",
   "execution_count": null,
   "metadata": {},
   "outputs": [],
   "source": [
    "%%R\n",
    "segments <- processSegments(new_samples_copy_number_broad_wes)\n",
    "segments <- filterForCCLE(segments)\n",
    "segments <- interpolateGapsInSegmented(segments)$segs\n",
    "segments <- extendEndsOfSegments(segments,hg38_cyto_band_reference)\n",
    "print(segments)\n",
    "print(head(wes.priority.cn.seg.profiles))\n",
    "# reprioritize also undo logtransform\n",
    "segments_unfiltered <- reprioritizeData(segments, wes.priority.cn.seg.profiles)\n",
    "# Fill in the gaps on the entire dataset\n",
    "# Extend start sites to 1, end sites to the end of the chromosome?"
   ]
  },
  {
   "cell_type": "code",
   "execution_count": null,
   "metadata": {},
   "outputs": [],
   "source": [
    "%%R\n",
    "write.table(segments_unfiltered, file = paste0(\"temp/wes.\",release,\".segmented.cn\"), sep = ',', quote = F, row.names = F) "
   ]
  },
  {
   "cell_type": "code",
   "execution_count": null,
   "metadata": {},
   "outputs": [],
   "source": [
    "%%R\n",
    "entrezgenes <- generateEntrezGenes()"
   ]
  },
  {
   "cell_type": "code",
   "execution_count": null,
   "metadata": {},
   "outputs": [],
   "source": [
    "%%R\n",
    "head(corner(entrezgenes))"
   ]
  },
  {
   "cell_type": "code",
   "execution_count": null,
   "metadata": {},
   "outputs": [],
   "source": [
    "%%R\n",
    "res <- generateGeneLevelMatrixFromSegments(entrezgenes, segments_unfiltered)"
   ]
  },
  {
   "cell_type": "code",
   "execution_count": null,
   "metadata": {},
   "outputs": [],
   "source": [
    "%%R\n",
    "genematrix_unfiltered <- res$gene_level_data_hg38\n",
    "corner(genematrix_unfiltered)"
   ]
  },
  {
   "cell_type": "code",
   "execution_count": null,
   "metadata": {},
   "outputs": [],
   "source": [
    "%%R\n",
    "write.table(genematrix_unfiltered, file = paste0('temp/wes.',release,'.gene.cn'), \n",
    "sep = ',', quote = F, row.names = T)"
   ]
  },
  {
   "cell_type": "markdown",
   "metadata": {},
   "source": [
    "## Validation step"
   ]
  },
  {
   "cell_type": "code",
   "execution_count": 32,
   "metadata": {
    "scrolled": true
   },
   "outputs": [
    {
     "name": "stderr",
     "output_type": "stream",
     "text": [
      "[##################]100% |  40.6 MiB/s | 539.1 MiB / 539.1 MiB | Time:  0:00:13\n"
     ]
    }
   ],
   "source": [
    "wes_19Q3_gene = tc.get(name='segmented-cn-wes-prioritzed-7fe1', version=33, file='wes.19Q3.gene')"
   ]
  },
  {
   "cell_type": "code",
   "execution_count": 33,
   "metadata": {},
   "outputs": [
    {
     "data": {
      "text/plain": [
       "148.13492426"
      ]
     },
     "execution_count": 33,
     "metadata": {},
     "output_type": "execute_result"
    }
   ],
   "source": [
    "wes_19Q3_gene.values.max()"
   ]
  },
  {
   "cell_type": "code",
   "execution_count": 56,
   "metadata": {},
   "outputs": [],
   "source": [
    "a = np.array([1.265172,1.141525,1.295836])"
   ]
  },
  {
   "cell_type": "code",
   "execution_count": 57,
   "metadata": {},
   "outputs": [
    {
     "data": {
      "text/plain": [
       "array([1.265172, 1.141525, 1.295836])"
      ]
     },
     "execution_count": 57,
     "metadata": {},
     "output_type": "execute_result"
    }
   ],
   "source": [
    "a"
   ]
  },
  {
   "cell_type": "code",
   "execution_count": 68,
   "metadata": {},
   "outputs": [
    {
     "data": {
      "text/plain": [
       "array([1.265172, 1.141525, 1.295836])"
      ]
     },
     "execution_count": 68,
     "metadata": {},
     "output_type": "execute_result"
    }
   ],
   "source": [
    "a"
   ]
  },
  {
   "cell_type": "code",
   "execution_count": 47,
   "metadata": {},
   "outputs": [
    {
     "data": {
      "text/html": [
       "<div>\n",
       "<style scoped>\n",
       "    .dataframe tbody tr th:only-of-type {\n",
       "        vertical-align: middle;\n",
       "    }\n",
       "\n",
       "    .dataframe tbody tr th {\n",
       "        vertical-align: top;\n",
       "    }\n",
       "\n",
       "    .dataframe thead th {\n",
       "        text-align: right;\n",
       "    }\n",
       "</style>\n",
       "<table border=\"1\" class=\"dataframe\">\n",
       "  <thead>\n",
       "    <tr style=\"text-align: right;\">\n",
       "      <th></th>\n",
       "      <th>A1BG (1)</th>\n",
       "      <th>NAT2 (10)</th>\n",
       "      <th>ADA (100)</th>\n",
       "      <th>CDH2 (1000)</th>\n",
       "      <th>AKT3 (10000)</th>\n",
       "      <th>GAGE12F (100008586)</th>\n",
       "      <th>RNA5-8SN5 (100008587)</th>\n",
       "      <th>RNA18SN5 (100008588)</th>\n",
       "      <th>RNA28SN5 (100008589)</th>\n",
       "      <th>LINC02584 (100009613)</th>\n",
       "      <th>...</th>\n",
       "      <th>HNRNPDL (9987)</th>\n",
       "      <th>DMTF1 (9988)</th>\n",
       "      <th>PPP4R1 (9989)</th>\n",
       "      <th>CDH1 (999)</th>\n",
       "      <th>SLC12A6 (9990)</th>\n",
       "      <th>PTBP3 (9991)</th>\n",
       "      <th>KCNE2 (9992)</th>\n",
       "      <th>DGCR2 (9993)</th>\n",
       "      <th>CASP8AP2 (9994)</th>\n",
       "      <th>SCO2 (9997)</th>\n",
       "    </tr>\n",
       "  </thead>\n",
       "  <tbody>\n",
       "    <tr>\n",
       "      <td>ACH-000001</td>\n",
       "      <td>1.265172</td>\n",
       "      <td>1.141525</td>\n",
       "      <td>1.295836</td>\n",
       "      <td>0.662752</td>\n",
       "      <td>1.012791</td>\n",
       "      <td>2.048090</td>\n",
       "      <td>1.261577</td>\n",
       "      <td>1.261577</td>\n",
       "      <td>1.261577</td>\n",
       "      <td>1.001924</td>\n",
       "      <td>...</td>\n",
       "      <td>0.982285</td>\n",
       "      <td>0.936155</td>\n",
       "      <td>1.612348</td>\n",
       "      <td>0.680497</td>\n",
       "      <td>0.905825</td>\n",
       "      <td>0.672772</td>\n",
       "      <td>1.635826</td>\n",
       "      <td>1.261577</td>\n",
       "      <td>0.993110</td>\n",
       "      <td>0.678546</td>\n",
       "    </tr>\n",
       "    <tr>\n",
       "      <td>ACH-000002</td>\n",
       "      <td>1.013633</td>\n",
       "      <td>0.974174</td>\n",
       "      <td>1.017512</td>\n",
       "      <td>1.489327</td>\n",
       "      <td>1.012618</td>\n",
       "      <td>0.527652</td>\n",
       "      <td>1.030817</td>\n",
       "      <td>1.030817</td>\n",
       "      <td>1.030817</td>\n",
       "      <td>0.995799</td>\n",
       "      <td>...</td>\n",
       "      <td>0.998570</td>\n",
       "      <td>1.005580</td>\n",
       "      <td>1.489327</td>\n",
       "      <td>1.021939</td>\n",
       "      <td>0.981002</td>\n",
       "      <td>1.007272</td>\n",
       "      <td>1.009071</td>\n",
       "      <td>1.030817</td>\n",
       "      <td>1.002184</td>\n",
       "      <td>1.030817</td>\n",
       "    </tr>\n",
       "    <tr>\n",
       "      <td>ACH-000003</td>\n",
       "      <td>1.031898</td>\n",
       "      <td>1.095812</td>\n",
       "      <td>1.876833</td>\n",
       "      <td>0.536481</td>\n",
       "      <td>1.002498</td>\n",
       "      <td>1.008422</td>\n",
       "      <td>0.932645</td>\n",
       "      <td>0.932645</td>\n",
       "      <td>0.932645</td>\n",
       "      <td>1.633538</td>\n",
       "      <td>...</td>\n",
       "      <td>0.896888</td>\n",
       "      <td>1.167725</td>\n",
       "      <td>0.991923</td>\n",
       "      <td>1.258670</td>\n",
       "      <td>0.836420</td>\n",
       "      <td>1.025338</td>\n",
       "      <td>0.980575</td>\n",
       "      <td>0.184322</td>\n",
       "      <td>0.958799</td>\n",
       "      <td>0.184322</td>\n",
       "    </tr>\n",
       "    <tr>\n",
       "      <td>ACH-000004</td>\n",
       "      <td>1.349290</td>\n",
       "      <td>1.086509</td>\n",
       "      <td>0.785509</td>\n",
       "      <td>1.077061</td>\n",
       "      <td>1.086057</td>\n",
       "      <td>1.026334</td>\n",
       "      <td>1.049353</td>\n",
       "      <td>1.049353</td>\n",
       "      <td>1.049353</td>\n",
       "      <td>1.102287</td>\n",
       "      <td>...</td>\n",
       "      <td>0.767213</td>\n",
       "      <td>0.781653</td>\n",
       "      <td>1.045867</td>\n",
       "      <td>0.770678</td>\n",
       "      <td>1.124513</td>\n",
       "      <td>0.765991</td>\n",
       "      <td>1.984671</td>\n",
       "      <td>1.141159</td>\n",
       "      <td>1.122566</td>\n",
       "      <td>0.768331</td>\n",
       "    </tr>\n",
       "    <tr>\n",
       "      <td>ACH-000005</td>\n",
       "      <td>1.222033</td>\n",
       "      <td>1.162207</td>\n",
       "      <td>0.761254</td>\n",
       "      <td>1.072458</td>\n",
       "      <td>1.120937</td>\n",
       "      <td>0.437435</td>\n",
       "      <td>0.795196</td>\n",
       "      <td>0.795196</td>\n",
       "      <td>0.795196</td>\n",
       "      <td>1.142662</td>\n",
       "      <td>...</td>\n",
       "      <td>0.824491</td>\n",
       "      <td>0.767485</td>\n",
       "      <td>0.794864</td>\n",
       "      <td>0.757720</td>\n",
       "      <td>1.172731</td>\n",
       "      <td>0.769412</td>\n",
       "      <td>2.308558</td>\n",
       "      <td>0.795196</td>\n",
       "      <td>1.141036</td>\n",
       "      <td>0.756453</td>\n",
       "    </tr>\n",
       "    <tr>\n",
       "      <td>...</td>\n",
       "      <td>...</td>\n",
       "      <td>...</td>\n",
       "      <td>...</td>\n",
       "      <td>...</td>\n",
       "      <td>...</td>\n",
       "      <td>...</td>\n",
       "      <td>...</td>\n",
       "      <td>...</td>\n",
       "      <td>...</td>\n",
       "      <td>...</td>\n",
       "      <td>...</td>\n",
       "      <td>...</td>\n",
       "      <td>...</td>\n",
       "      <td>...</td>\n",
       "      <td>...</td>\n",
       "      <td>...</td>\n",
       "      <td>...</td>\n",
       "      <td>...</td>\n",
       "      <td>...</td>\n",
       "      <td>...</td>\n",
       "      <td>...</td>\n",
       "    </tr>\n",
       "    <tr>\n",
       "      <td>ACH-001846</td>\n",
       "      <td>0.984617</td>\n",
       "      <td>1.072726</td>\n",
       "      <td>1.069769</td>\n",
       "      <td>1.004626</td>\n",
       "      <td>1.052576</td>\n",
       "      <td>0.527245</td>\n",
       "      <td>1.034755</td>\n",
       "      <td>1.034755</td>\n",
       "      <td>1.034755</td>\n",
       "      <td>1.085688</td>\n",
       "      <td>...</td>\n",
       "      <td>1.055702</td>\n",
       "      <td>1.601603</td>\n",
       "      <td>1.004626</td>\n",
       "      <td>1.071370</td>\n",
       "      <td>0.525225</td>\n",
       "      <td>1.048270</td>\n",
       "      <td>0.528907</td>\n",
       "      <td>1.055911</td>\n",
       "      <td>0.535124</td>\n",
       "      <td>1.001655</td>\n",
       "    </tr>\n",
       "    <tr>\n",
       "      <td>ACH-001858</td>\n",
       "      <td>0.829331</td>\n",
       "      <td>0.802194</td>\n",
       "      <td>1.258846</td>\n",
       "      <td>0.789034</td>\n",
       "      <td>1.074852</td>\n",
       "      <td>0.682834</td>\n",
       "      <td>0.815913</td>\n",
       "      <td>0.815913</td>\n",
       "      <td>0.815913</td>\n",
       "      <td>1.153987</td>\n",
       "      <td>...</td>\n",
       "      <td>0.690972</td>\n",
       "      <td>1.211705</td>\n",
       "      <td>0.693304</td>\n",
       "      <td>0.870386</td>\n",
       "      <td>0.989552</td>\n",
       "      <td>1.232196</td>\n",
       "      <td>0.793702</td>\n",
       "      <td>0.815913</td>\n",
       "      <td>1.166469</td>\n",
       "      <td>0.815913</td>\n",
       "    </tr>\n",
       "    <tr>\n",
       "      <td>ACH-001863</td>\n",
       "      <td>1.467836</td>\n",
       "      <td>0.683695</td>\n",
       "      <td>1.011538</td>\n",
       "      <td>1.345138</td>\n",
       "      <td>0.941841</td>\n",
       "      <td>0.646753</td>\n",
       "      <td>1.612338</td>\n",
       "      <td>1.612338</td>\n",
       "      <td>1.612338</td>\n",
       "      <td>1.513787</td>\n",
       "      <td>...</td>\n",
       "      <td>2.219316</td>\n",
       "      <td>1.345728</td>\n",
       "      <td>0.760783</td>\n",
       "      <td>1.114001</td>\n",
       "      <td>1.006464</td>\n",
       "      <td>0.708956</td>\n",
       "      <td>0.737090</td>\n",
       "      <td>1.646575</td>\n",
       "      <td>0.680696</td>\n",
       "      <td>0.669828</td>\n",
       "    </tr>\n",
       "    <tr>\n",
       "      <td>ACH-001864</td>\n",
       "      <td>1.032269</td>\n",
       "      <td>0.671964</td>\n",
       "      <td>2.067528</td>\n",
       "      <td>0.656176</td>\n",
       "      <td>1.321251</td>\n",
       "      <td>1.356937</td>\n",
       "      <td>1.288708</td>\n",
       "      <td>1.288708</td>\n",
       "      <td>1.288708</td>\n",
       "      <td>1.021389</td>\n",
       "      <td>...</td>\n",
       "      <td>0.720468</td>\n",
       "      <td>0.725135</td>\n",
       "      <td>0.656176</td>\n",
       "      <td>1.313839</td>\n",
       "      <td>1.302492</td>\n",
       "      <td>0.888370</td>\n",
       "      <td>0.965422</td>\n",
       "      <td>1.288708</td>\n",
       "      <td>1.051116</td>\n",
       "      <td>1.288708</td>\n",
       "    </tr>\n",
       "    <tr>\n",
       "      <td>ACH-002011</td>\n",
       "      <td>0.944509</td>\n",
       "      <td>0.472215</td>\n",
       "      <td>1.395377</td>\n",
       "      <td>1.388964</td>\n",
       "      <td>1.352929</td>\n",
       "      <td>0.459059</td>\n",
       "      <td>1.440273</td>\n",
       "      <td>1.440273</td>\n",
       "      <td>1.440273</td>\n",
       "      <td>1.264900</td>\n",
       "      <td>...</td>\n",
       "      <td>0.943455</td>\n",
       "      <td>1.418921</td>\n",
       "      <td>1.501139</td>\n",
       "      <td>0.474975</td>\n",
       "      <td>0.485179</td>\n",
       "      <td>0.478057</td>\n",
       "      <td>1.327185</td>\n",
       "      <td>1.440273</td>\n",
       "      <td>0.916097</td>\n",
       "      <td>1.395035</td>\n",
       "    </tr>\n",
       "  </tbody>\n",
       "</table>\n",
       "<p>1716 rows × 27639 columns</p>\n",
       "</div>"
      ],
      "text/plain": [
       "            A1BG (1)  NAT2 (10)  ADA (100)  CDH2 (1000)  AKT3 (10000)  \\\n",
       "ACH-000001  1.265172   1.141525   1.295836     0.662752      1.012791   \n",
       "ACH-000002  1.013633   0.974174   1.017512     1.489327      1.012618   \n",
       "ACH-000003  1.031898   1.095812   1.876833     0.536481      1.002498   \n",
       "ACH-000004  1.349290   1.086509   0.785509     1.077061      1.086057   \n",
       "ACH-000005  1.222033   1.162207   0.761254     1.072458      1.120937   \n",
       "...              ...        ...        ...          ...           ...   \n",
       "ACH-001846  0.984617   1.072726   1.069769     1.004626      1.052576   \n",
       "ACH-001858  0.829331   0.802194   1.258846     0.789034      1.074852   \n",
       "ACH-001863  1.467836   0.683695   1.011538     1.345138      0.941841   \n",
       "ACH-001864  1.032269   0.671964   2.067528     0.656176      1.321251   \n",
       "ACH-002011  0.944509   0.472215   1.395377     1.388964      1.352929   \n",
       "\n",
       "            GAGE12F (100008586)  RNA5-8SN5 (100008587)  RNA18SN5 (100008588)  \\\n",
       "ACH-000001             2.048090               1.261577              1.261577   \n",
       "ACH-000002             0.527652               1.030817              1.030817   \n",
       "ACH-000003             1.008422               0.932645              0.932645   \n",
       "ACH-000004             1.026334               1.049353              1.049353   \n",
       "ACH-000005             0.437435               0.795196              0.795196   \n",
       "...                         ...                    ...                   ...   \n",
       "ACH-001846             0.527245               1.034755              1.034755   \n",
       "ACH-001858             0.682834               0.815913              0.815913   \n",
       "ACH-001863             0.646753               1.612338              1.612338   \n",
       "ACH-001864             1.356937               1.288708              1.288708   \n",
       "ACH-002011             0.459059               1.440273              1.440273   \n",
       "\n",
       "            RNA28SN5 (100008589)  LINC02584 (100009613)  ...  HNRNPDL (9987)  \\\n",
       "ACH-000001              1.261577               1.001924  ...        0.982285   \n",
       "ACH-000002              1.030817               0.995799  ...        0.998570   \n",
       "ACH-000003              0.932645               1.633538  ...        0.896888   \n",
       "ACH-000004              1.049353               1.102287  ...        0.767213   \n",
       "ACH-000005              0.795196               1.142662  ...        0.824491   \n",
       "...                          ...                    ...  ...             ...   \n",
       "ACH-001846              1.034755               1.085688  ...        1.055702   \n",
       "ACH-001858              0.815913               1.153987  ...        0.690972   \n",
       "ACH-001863              1.612338               1.513787  ...        2.219316   \n",
       "ACH-001864              1.288708               1.021389  ...        0.720468   \n",
       "ACH-002011              1.440273               1.264900  ...        0.943455   \n",
       "\n",
       "            DMTF1 (9988)  PPP4R1 (9989)  CDH1 (999)  SLC12A6 (9990)  \\\n",
       "ACH-000001      0.936155       1.612348    0.680497        0.905825   \n",
       "ACH-000002      1.005580       1.489327    1.021939        0.981002   \n",
       "ACH-000003      1.167725       0.991923    1.258670        0.836420   \n",
       "ACH-000004      0.781653       1.045867    0.770678        1.124513   \n",
       "ACH-000005      0.767485       0.794864    0.757720        1.172731   \n",
       "...                  ...            ...         ...             ...   \n",
       "ACH-001846      1.601603       1.004626    1.071370        0.525225   \n",
       "ACH-001858      1.211705       0.693304    0.870386        0.989552   \n",
       "ACH-001863      1.345728       0.760783    1.114001        1.006464   \n",
       "ACH-001864      0.725135       0.656176    1.313839        1.302492   \n",
       "ACH-002011      1.418921       1.501139    0.474975        0.485179   \n",
       "\n",
       "            PTBP3 (9991)  KCNE2 (9992)  DGCR2 (9993)  CASP8AP2 (9994)  \\\n",
       "ACH-000001      0.672772      1.635826      1.261577         0.993110   \n",
       "ACH-000002      1.007272      1.009071      1.030817         1.002184   \n",
       "ACH-000003      1.025338      0.980575      0.184322         0.958799   \n",
       "ACH-000004      0.765991      1.984671      1.141159         1.122566   \n",
       "ACH-000005      0.769412      2.308558      0.795196         1.141036   \n",
       "...                  ...           ...           ...              ...   \n",
       "ACH-001846      1.048270      0.528907      1.055911         0.535124   \n",
       "ACH-001858      1.232196      0.793702      0.815913         1.166469   \n",
       "ACH-001863      0.708956      0.737090      1.646575         0.680696   \n",
       "ACH-001864      0.888370      0.965422      1.288708         1.051116   \n",
       "ACH-002011      0.478057      1.327185      1.440273         0.916097   \n",
       "\n",
       "            SCO2 (9997)  \n",
       "ACH-000001     0.678546  \n",
       "ACH-000002     1.030817  \n",
       "ACH-000003     0.184322  \n",
       "ACH-000004     0.768331  \n",
       "ACH-000005     0.756453  \n",
       "...                 ...  \n",
       "ACH-001846     1.001655  \n",
       "ACH-001858     0.815913  \n",
       "ACH-001863     0.669828  \n",
       "ACH-001864     1.288708  \n",
       "ACH-002011     1.395035  \n",
       "\n",
       "[1716 rows x 27639 columns]"
      ]
     },
     "execution_count": 47,
     "metadata": {},
     "output_type": "execute_result"
    }
   ],
   "source": [
    "wes_19Q3_gene"
   ]
  },
  {
   "cell_type": "code",
   "execution_count": 54,
   "metadata": {},
   "outputs": [
    {
     "data": {
      "text/html": [
       "<div>\n",
       "<style scoped>\n",
       "    .dataframe tbody tr th:only-of-type {\n",
       "        vertical-align: middle;\n",
       "    }\n",
       "\n",
       "    .dataframe tbody tr th {\n",
       "        vertical-align: top;\n",
       "    }\n",
       "\n",
       "    .dataframe thead th {\n",
       "        text-align: right;\n",
       "    }\n",
       "</style>\n",
       "<table border=\"1\" class=\"dataframe\">\n",
       "  <thead>\n",
       "    <tr style=\"text-align: right;\">\n",
       "      <th></th>\n",
       "      <th>A1BG (1)</th>\n",
       "      <th>NAT2 (10)</th>\n",
       "      <th>ADA (100)</th>\n",
       "      <th>CDH2 (1000)</th>\n",
       "      <th>AKT3 (10000)</th>\n",
       "      <th>GAGE12F (100008586)</th>\n",
       "      <th>RNA5-8SN5 (100008587)</th>\n",
       "      <th>RNA18SN5 (100008588)</th>\n",
       "      <th>RNA28SN5 (100008589)</th>\n",
       "      <th>LINC02584 (100009613)</th>\n",
       "      <th>...</th>\n",
       "      <th>HNRNPDL (9987)</th>\n",
       "      <th>DMTF1 (9988)</th>\n",
       "      <th>PPP4R1 (9989)</th>\n",
       "      <th>CDH1 (999)</th>\n",
       "      <th>SLC12A6 (9990)</th>\n",
       "      <th>PTBP3 (9991)</th>\n",
       "      <th>KCNE2 (9992)</th>\n",
       "      <th>DGCR2 (9993)</th>\n",
       "      <th>CASP8AP2 (9994)</th>\n",
       "      <th>SCO2 (9997)</th>\n",
       "    </tr>\n",
       "  </thead>\n",
       "  <tbody>\n",
       "    <tr>\n",
       "      <td>ACH-000001</td>\n",
       "      <td>2.138670</td>\n",
       "      <td>2.072497</td>\n",
       "      <td>2.155488</td>\n",
       "      <td>1.841208</td>\n",
       "      <td>2.006410</td>\n",
       "      <td>2.617200</td>\n",
       "      <td>2.136709</td>\n",
       "      <td>2.136709</td>\n",
       "      <td>2.136709</td>\n",
       "      <td>2.000962</td>\n",
       "      <td>...</td>\n",
       "      <td>1.991170</td>\n",
       "      <td>1.968431</td>\n",
       "      <td>2.338422</td>\n",
       "      <td>1.849075</td>\n",
       "      <td>1.953681</td>\n",
       "      <td>1.845644</td>\n",
       "      <td>2.352661</td>\n",
       "      <td>2.136709</td>\n",
       "      <td>1.996559</td>\n",
       "      <td>1.848208</td>\n",
       "    </tr>\n",
       "    <tr>\n",
       "      <td>ACH-000002</td>\n",
       "      <td>2.006833</td>\n",
       "      <td>1.987145</td>\n",
       "      <td>2.008783</td>\n",
       "      <td>2.265311</td>\n",
       "      <td>2.006323</td>\n",
       "      <td>1.783072</td>\n",
       "      <td>2.015491</td>\n",
       "      <td>2.015491</td>\n",
       "      <td>2.015491</td>\n",
       "      <td>1.997901</td>\n",
       "      <td>...</td>\n",
       "      <td>1.999285</td>\n",
       "      <td>2.002793</td>\n",
       "      <td>2.265311</td>\n",
       "      <td>2.011011</td>\n",
       "      <td>1.990532</td>\n",
       "      <td>2.003640</td>\n",
       "      <td>2.004542</td>\n",
       "      <td>2.015491</td>\n",
       "      <td>2.001092</td>\n",
       "      <td>2.015491</td>\n",
       "    </tr>\n",
       "    <tr>\n",
       "      <td>ACH-000003</td>\n",
       "      <td>2.016037</td>\n",
       "      <td>2.048701</td>\n",
       "      <td>2.504030</td>\n",
       "      <td>1.786776</td>\n",
       "      <td>2.001250</td>\n",
       "      <td>2.004217</td>\n",
       "      <td>1.966716</td>\n",
       "      <td>1.966716</td>\n",
       "      <td>1.966716</td>\n",
       "      <td>2.351269</td>\n",
       "      <td>...</td>\n",
       "      <td>1.949365</td>\n",
       "      <td>2.086298</td>\n",
       "      <td>1.995967</td>\n",
       "      <td>2.135125</td>\n",
       "      <td>1.920527</td>\n",
       "      <td>2.012725</td>\n",
       "      <td>1.990320</td>\n",
       "      <td>1.649056</td>\n",
       "      <td>1.979546</td>\n",
       "      <td>1.649056</td>\n",
       "    </tr>\n",
       "    <tr>\n",
       "      <td>ACH-000004</td>\n",
       "      <td>2.185190</td>\n",
       "      <td>2.043903</td>\n",
       "      <td>1.896737</td>\n",
       "      <td>2.039045</td>\n",
       "      <td>2.043670</td>\n",
       "      <td>2.013227</td>\n",
       "      <td>2.024887</td>\n",
       "      <td>2.024887</td>\n",
       "      <td>2.024887</td>\n",
       "      <td>2.052050</td>\n",
       "      <td>...</td>\n",
       "      <td>1.888297</td>\n",
       "      <td>1.894953</td>\n",
       "      <td>2.023116</td>\n",
       "      <td>1.889891</td>\n",
       "      <td>2.063599</td>\n",
       "      <td>1.887735</td>\n",
       "      <td>2.574761</td>\n",
       "      <td>2.072305</td>\n",
       "      <td>2.062584</td>\n",
       "      <td>1.888811</td>\n",
       "    </tr>\n",
       "    <tr>\n",
       "      <td>ACH-000005</td>\n",
       "      <td>2.115284</td>\n",
       "      <td>2.083382</td>\n",
       "      <td>1.885560</td>\n",
       "      <td>2.036684</td>\n",
       "      <td>2.061735</td>\n",
       "      <td>1.745966</td>\n",
       "      <td>1.901229</td>\n",
       "      <td>1.901229</td>\n",
       "      <td>1.901229</td>\n",
       "      <td>2.073094</td>\n",
       "      <td>...</td>\n",
       "      <td>1.914913</td>\n",
       "      <td>1.888422</td>\n",
       "      <td>1.901075</td>\n",
       "      <td>1.883940</td>\n",
       "      <td>2.088949</td>\n",
       "      <td>1.889308</td>\n",
       "      <td>2.797818</td>\n",
       "      <td>1.901229</td>\n",
       "      <td>2.072241</td>\n",
       "      <td>1.883360</td>\n",
       "    </tr>\n",
       "    <tr>\n",
       "      <td>...</td>\n",
       "      <td>...</td>\n",
       "      <td>...</td>\n",
       "      <td>...</td>\n",
       "      <td>...</td>\n",
       "      <td>...</td>\n",
       "      <td>...</td>\n",
       "      <td>...</td>\n",
       "      <td>...</td>\n",
       "      <td>...</td>\n",
       "      <td>...</td>\n",
       "      <td>...</td>\n",
       "      <td>...</td>\n",
       "      <td>...</td>\n",
       "      <td>...</td>\n",
       "      <td>...</td>\n",
       "      <td>...</td>\n",
       "      <td>...</td>\n",
       "      <td>...</td>\n",
       "      <td>...</td>\n",
       "      <td>...</td>\n",
       "      <td>...</td>\n",
       "    </tr>\n",
       "    <tr>\n",
       "      <td>ACH-002476</td>\n",
       "      <td>0.974170</td>\n",
       "      <td>1.006780</td>\n",
       "      <td>1.018446</td>\n",
       "      <td>0.970864</td>\n",
       "      <td>0.999301</td>\n",
       "      <td>2.138328</td>\n",
       "      <td>1.031839</td>\n",
       "      <td>1.031839</td>\n",
       "      <td>1.031839</td>\n",
       "      <td>1.024468</td>\n",
       "      <td>...</td>\n",
       "      <td>1.023400</td>\n",
       "      <td>1.027562</td>\n",
       "      <td>0.970864</td>\n",
       "      <td>1.013489</td>\n",
       "      <td>1.030947</td>\n",
       "      <td>1.029268</td>\n",
       "      <td>0.984310</td>\n",
       "      <td>1.031839</td>\n",
       "      <td>1.016296</td>\n",
       "      <td>1.031839</td>\n",
       "    </tr>\n",
       "    <tr>\n",
       "      <td>ACH-002508</td>\n",
       "      <td>0.790660</td>\n",
       "      <td>1.246051</td>\n",
       "      <td>1.270051</td>\n",
       "      <td>0.755437</td>\n",
       "      <td>0.991930</td>\n",
       "      <td>0.428101</td>\n",
       "      <td>1.037863</td>\n",
       "      <td>1.037863</td>\n",
       "      <td>1.037863</td>\n",
       "      <td>1.261410</td>\n",
       "      <td>...</td>\n",
       "      <td>0.773155</td>\n",
       "      <td>0.778138</td>\n",
       "      <td>0.755437</td>\n",
       "      <td>0.773553</td>\n",
       "      <td>1.019839</td>\n",
       "      <td>1.178633</td>\n",
       "      <td>0.937277</td>\n",
       "      <td>1.037863</td>\n",
       "      <td>1.028239</td>\n",
       "      <td>1.052359</td>\n",
       "    </tr>\n",
       "    <tr>\n",
       "      <td>ACH-002509</td>\n",
       "      <td>0.887740</td>\n",
       "      <td>1.075906</td>\n",
       "      <td>1.092301</td>\n",
       "      <td>0.849194</td>\n",
       "      <td>1.199473</td>\n",
       "      <td>0.908285</td>\n",
       "      <td>1.095349</td>\n",
       "      <td>1.095349</td>\n",
       "      <td>1.095349</td>\n",
       "      <td>1.090689</td>\n",
       "      <td>...</td>\n",
       "      <td>1.062138</td>\n",
       "      <td>1.100696</td>\n",
       "      <td>0.849194</td>\n",
       "      <td>1.095584</td>\n",
       "      <td>0.648855</td>\n",
       "      <td>0.897010</td>\n",
       "      <td>0.878599</td>\n",
       "      <td>1.095349</td>\n",
       "      <td>1.019189</td>\n",
       "      <td>1.095349</td>\n",
       "    </tr>\n",
       "    <tr>\n",
       "      <td>ACH-002510</td>\n",
       "      <td>1.054755</td>\n",
       "      <td>0.960984</td>\n",
       "      <td>0.961169</td>\n",
       "      <td>1.134161</td>\n",
       "      <td>1.506412</td>\n",
       "      <td>0.392116</td>\n",
       "      <td>1.160694</td>\n",
       "      <td>1.160694</td>\n",
       "      <td>1.160694</td>\n",
       "      <td>1.138698</td>\n",
       "      <td>...</td>\n",
       "      <td>0.713536</td>\n",
       "      <td>1.149565</td>\n",
       "      <td>1.134161</td>\n",
       "      <td>0.694136</td>\n",
       "      <td>0.992001</td>\n",
       "      <td>0.704184</td>\n",
       "      <td>1.141474</td>\n",
       "      <td>1.160694</td>\n",
       "      <td>1.141887</td>\n",
       "      <td>1.160694</td>\n",
       "    </tr>\n",
       "    <tr>\n",
       "      <td>ACH-002511</td>\n",
       "      <td>1.174349</td>\n",
       "      <td>0.693474</td>\n",
       "      <td>1.327255</td>\n",
       "      <td>0.885284</td>\n",
       "      <td>1.075771</td>\n",
       "      <td>1.077253</td>\n",
       "      <td>1.125935</td>\n",
       "      <td>1.125935</td>\n",
       "      <td>1.125935</td>\n",
       "      <td>1.336506</td>\n",
       "      <td>...</td>\n",
       "      <td>0.951820</td>\n",
       "      <td>0.681380</td>\n",
       "      <td>1.153535</td>\n",
       "      <td>0.929665</td>\n",
       "      <td>0.698785</td>\n",
       "      <td>0.929563</td>\n",
       "      <td>1.175898</td>\n",
       "      <td>1.125935</td>\n",
       "      <td>0.703827</td>\n",
       "      <td>1.121955</td>\n",
       "    </tr>\n",
       "  </tbody>\n",
       "</table>\n",
       "<p>1752 rows × 27639 columns</p>\n",
       "</div>"
      ],
      "text/plain": [
       "            A1BG (1)  NAT2 (10)  ADA (100)  CDH2 (1000)  AKT3 (10000)  \\\n",
       "ACH-000001  2.138670   2.072497   2.155488     1.841208      2.006410   \n",
       "ACH-000002  2.006833   1.987145   2.008783     2.265311      2.006323   \n",
       "ACH-000003  2.016037   2.048701   2.504030     1.786776      2.001250   \n",
       "ACH-000004  2.185190   2.043903   1.896737     2.039045      2.043670   \n",
       "ACH-000005  2.115284   2.083382   1.885560     2.036684      2.061735   \n",
       "...              ...        ...        ...          ...           ...   \n",
       "ACH-002476  0.974170   1.006780   1.018446     0.970864      0.999301   \n",
       "ACH-002508  0.790660   1.246051   1.270051     0.755437      0.991930   \n",
       "ACH-002509  0.887740   1.075906   1.092301     0.849194      1.199473   \n",
       "ACH-002510  1.054755   0.960984   0.961169     1.134161      1.506412   \n",
       "ACH-002511  1.174349   0.693474   1.327255     0.885284      1.075771   \n",
       "\n",
       "            GAGE12F (100008586)  RNA5-8SN5 (100008587)  RNA18SN5 (100008588)  \\\n",
       "ACH-000001             2.617200               2.136709              2.136709   \n",
       "ACH-000002             1.783072               2.015491              2.015491   \n",
       "ACH-000003             2.004217               1.966716              1.966716   \n",
       "ACH-000004             2.013227               2.024887              2.024887   \n",
       "ACH-000005             1.745966               1.901229              1.901229   \n",
       "...                         ...                    ...                   ...   \n",
       "ACH-002476             2.138328               1.031839              1.031839   \n",
       "ACH-002508             0.428101               1.037863              1.037863   \n",
       "ACH-002509             0.908285               1.095349              1.095349   \n",
       "ACH-002510             0.392116               1.160694              1.160694   \n",
       "ACH-002511             1.077253               1.125935              1.125935   \n",
       "\n",
       "            RNA28SN5 (100008589)  LINC02584 (100009613)  ...  HNRNPDL (9987)  \\\n",
       "ACH-000001              2.136709               2.000962  ...        1.991170   \n",
       "ACH-000002              2.015491               1.997901  ...        1.999285   \n",
       "ACH-000003              1.966716               2.351269  ...        1.949365   \n",
       "ACH-000004              2.024887               2.052050  ...        1.888297   \n",
       "ACH-000005              1.901229               2.073094  ...        1.914913   \n",
       "...                          ...                    ...  ...             ...   \n",
       "ACH-002476              1.031839               1.024468  ...        1.023400   \n",
       "ACH-002508              1.037863               1.261410  ...        0.773155   \n",
       "ACH-002509              1.095349               1.090689  ...        1.062138   \n",
       "ACH-002510              1.160694               1.138698  ...        0.713536   \n",
       "ACH-002511              1.125935               1.336506  ...        0.951820   \n",
       "\n",
       "            DMTF1 (9988)  PPP4R1 (9989)  CDH1 (999)  SLC12A6 (9990)  \\\n",
       "ACH-000001      1.968431       2.338422    1.849075        1.953681   \n",
       "ACH-000002      2.002793       2.265311    2.011011        1.990532   \n",
       "ACH-000003      2.086298       1.995967    2.135125        1.920527   \n",
       "ACH-000004      1.894953       2.023116    1.889891        2.063599   \n",
       "ACH-000005      1.888422       1.901075    1.883940        2.088949   \n",
       "...                  ...            ...         ...             ...   \n",
       "ACH-002476      1.027562       0.970864    1.013489        1.030947   \n",
       "ACH-002508      0.778138       0.755437    0.773553        1.019839   \n",
       "ACH-002509      1.100696       0.849194    1.095584        0.648855   \n",
       "ACH-002510      1.149565       1.134161    0.694136        0.992001   \n",
       "ACH-002511      0.681380       1.153535    0.929665        0.698785   \n",
       "\n",
       "            PTBP3 (9991)  KCNE2 (9992)  DGCR2 (9993)  CASP8AP2 (9994)  \\\n",
       "ACH-000001      1.845644      2.352661      2.136709         1.996559   \n",
       "ACH-000002      2.003640      2.004542      2.015491         2.001092   \n",
       "ACH-000003      2.012725      1.990320      1.649056         1.979546   \n",
       "ACH-000004      1.887735      2.574761      2.072305         2.062584   \n",
       "ACH-000005      1.889308      2.797818      1.901229         2.072241   \n",
       "...                  ...           ...           ...              ...   \n",
       "ACH-002476      1.029268      0.984310      1.031839         1.016296   \n",
       "ACH-002508      1.178633      0.937277      1.037863         1.028239   \n",
       "ACH-002509      0.897010      0.878599      1.095349         1.019189   \n",
       "ACH-002510      0.704184      1.141474      1.160694         1.141887   \n",
       "ACH-002511      0.929563      1.175898      1.125935         0.703827   \n",
       "\n",
       "            SCO2 (9997)  \n",
       "ACH-000001     1.848208  \n",
       "ACH-000002     2.015491  \n",
       "ACH-000003     1.649056  \n",
       "ACH-000004     1.888811  \n",
       "ACH-000005     1.883360  \n",
       "...                 ...  \n",
       "ACH-002476     1.031839  \n",
       "ACH-002508     1.052359  \n",
       "ACH-002509     1.095349  \n",
       "ACH-002510     1.160694  \n",
       "ACH-002511     1.121955  \n",
       "\n",
       "[1752 rows x 27639 columns]"
      ]
     },
     "execution_count": 54,
     "metadata": {},
     "output_type": "execute_result"
    }
   ],
   "source": [
    "genecn"
   ]
  },
  {
   "cell_type": "code",
   "execution_count": 34,
   "metadata": {
    "scrolled": true
   },
   "outputs": [
    {
     "data": {
      "text/plain": [
       "1.0261536239625233"
      ]
     },
     "execution_count": 34,
     "metadata": {},
     "output_type": "execute_result"
    }
   ],
   "source": [
    "wes_19Q3_gene.values.mean()"
   ]
  },
  {
   "cell_type": "code",
   "execution_count": 35,
   "metadata": {},
   "outputs": [
    {
     "data": {
      "text/plain": [
       "1.927306e-10"
      ]
     },
     "execution_count": 35,
     "metadata": {},
     "output_type": "execute_result"
    }
   ],
   "source": [
    "wes_19Q3_gene.values.min()"
   ]
  },
  {
   "cell_type": "code",
   "execution_count": null,
   "metadata": {},
   "outputs": [],
   "source": []
  },
  {
   "cell_type": "code",
   "execution_count": 9,
   "metadata": {},
   "outputs": [],
   "source": [
    "genecn=wes_19Q4_gene"
   ]
  },
  {
   "cell_type": "code",
   "execution_count": 30,
   "metadata": {},
   "outputs": [
    {
     "data": {
      "text/plain": [
       "148.13492426"
      ]
     },
     "execution_count": 30,
     "metadata": {},
     "output_type": "execute_result"
    }
   ],
   "source": [
    "genecn.values.min()"
   ]
  },
  {
   "cell_type": "code",
   "execution_count": 29,
   "metadata": {},
   "outputs": [
    {
     "data": {
      "text/plain": [
       "7.376850241769262e-10"
      ]
     },
     "execution_count": 29,
     "metadata": {},
     "output_type": "execute_result"
    }
   ],
   "source": [
    "2**(1.06425452573e-09)-1"
   ]
  },
  {
   "cell_type": "code",
   "execution_count": 46,
   "metadata": {},
   "outputs": [
    {
     "name": "stderr",
     "output_type": "stream",
     "text": [
      "/home/jeremie/miniconda3/lib/python3.7/site-packages/ipykernel_launcher.py:1: RuntimeWarning: invalid value encountered in log2\n",
      "  \"\"\"Entry point for launching an IPython kernel.\n"
     ]
    },
    {
     "data": {
      "text/plain": [
       "nan"
      ]
     },
     "execution_count": 46,
     "metadata": {},
     "output_type": "execute_result"
    }
   ],
   "source": [
    "np.log2(2**np.log2((2**genecn.values)-1)-1).mean()"
   ]
  },
  {
   "cell_type": "code",
   "execution_count": 6,
   "metadata": {},
   "outputs": [
    {
     "ename": "FileNotFoundError",
     "evalue": "[Errno 2] File b'temp/wes.19Q4.gene.cn' does not exist: b'temp/wes.19Q4.gene.cn'",
     "output_type": "error",
     "traceback": [
      "\u001b[0;31m---------------------------------------------------------------------------\u001b[0m",
      "\u001b[0;31mFileNotFoundError\u001b[0m                         Traceback (most recent call last)",
      "\u001b[0;32m<ipython-input-6-7dade3dbfbd0>\u001b[0m in \u001b[0;36m<module>\u001b[0;34m\u001b[0m\n\u001b[0;32m----> 1\u001b[0;31m \u001b[0mgenecn\u001b[0m \u001b[0;34m=\u001b[0m \u001b[0mpd\u001b[0m\u001b[0;34m.\u001b[0m\u001b[0mread_csv\u001b[0m\u001b[0;34m(\u001b[0m\u001b[0;34m'temp/wes.'\u001b[0m\u001b[0;34m+\u001b[0m\u001b[0mrelease\u001b[0m\u001b[0;34m+\u001b[0m\u001b[0;34m'.gene.cn'\u001b[0m\u001b[0;34m,\u001b[0m \u001b[0msep\u001b[0m \u001b[0;34m=\u001b[0m \u001b[0;34m','\u001b[0m\u001b[0;34m)\u001b[0m\u001b[0;34m\u001b[0m\u001b[0;34m\u001b[0m\u001b[0m\n\u001b[0m",
      "\u001b[0;32m~/miniconda3/lib/python3.7/site-packages/pandas/io/parsers.py\u001b[0m in \u001b[0;36mparser_f\u001b[0;34m(filepath_or_buffer, sep, delimiter, header, names, index_col, usecols, squeeze, prefix, mangle_dupe_cols, dtype, engine, converters, true_values, false_values, skipinitialspace, skiprows, skipfooter, nrows, na_values, keep_default_na, na_filter, verbose, skip_blank_lines, parse_dates, infer_datetime_format, keep_date_col, date_parser, dayfirst, cache_dates, iterator, chunksize, compression, thousands, decimal, lineterminator, quotechar, quoting, doublequote, escapechar, comment, encoding, dialect, error_bad_lines, warn_bad_lines, delim_whitespace, low_memory, memory_map, float_precision)\u001b[0m\n\u001b[1;32m    683\u001b[0m         )\n\u001b[1;32m    684\u001b[0m \u001b[0;34m\u001b[0m\u001b[0m\n\u001b[0;32m--> 685\u001b[0;31m         \u001b[0;32mreturn\u001b[0m \u001b[0m_read\u001b[0m\u001b[0;34m(\u001b[0m\u001b[0mfilepath_or_buffer\u001b[0m\u001b[0;34m,\u001b[0m \u001b[0mkwds\u001b[0m\u001b[0;34m)\u001b[0m\u001b[0;34m\u001b[0m\u001b[0;34m\u001b[0m\u001b[0m\n\u001b[0m\u001b[1;32m    686\u001b[0m \u001b[0;34m\u001b[0m\u001b[0m\n\u001b[1;32m    687\u001b[0m     \u001b[0mparser_f\u001b[0m\u001b[0;34m.\u001b[0m\u001b[0m__name__\u001b[0m \u001b[0;34m=\u001b[0m \u001b[0mname\u001b[0m\u001b[0;34m\u001b[0m\u001b[0;34m\u001b[0m\u001b[0m\n",
      "\u001b[0;32m~/miniconda3/lib/python3.7/site-packages/pandas/io/parsers.py\u001b[0m in \u001b[0;36m_read\u001b[0;34m(filepath_or_buffer, kwds)\u001b[0m\n\u001b[1;32m    455\u001b[0m \u001b[0;34m\u001b[0m\u001b[0m\n\u001b[1;32m    456\u001b[0m     \u001b[0;31m# Create the parser.\u001b[0m\u001b[0;34m\u001b[0m\u001b[0;34m\u001b[0m\u001b[0;34m\u001b[0m\u001b[0m\n\u001b[0;32m--> 457\u001b[0;31m     \u001b[0mparser\u001b[0m \u001b[0;34m=\u001b[0m \u001b[0mTextFileReader\u001b[0m\u001b[0;34m(\u001b[0m\u001b[0mfp_or_buf\u001b[0m\u001b[0;34m,\u001b[0m \u001b[0;34m**\u001b[0m\u001b[0mkwds\u001b[0m\u001b[0;34m)\u001b[0m\u001b[0;34m\u001b[0m\u001b[0;34m\u001b[0m\u001b[0m\n\u001b[0m\u001b[1;32m    458\u001b[0m \u001b[0;34m\u001b[0m\u001b[0m\n\u001b[1;32m    459\u001b[0m     \u001b[0;32mif\u001b[0m \u001b[0mchunksize\u001b[0m \u001b[0;32mor\u001b[0m \u001b[0miterator\u001b[0m\u001b[0;34m:\u001b[0m\u001b[0;34m\u001b[0m\u001b[0;34m\u001b[0m\u001b[0m\n",
      "\u001b[0;32m~/miniconda3/lib/python3.7/site-packages/pandas/io/parsers.py\u001b[0m in \u001b[0;36m__init__\u001b[0;34m(self, f, engine, **kwds)\u001b[0m\n\u001b[1;32m    893\u001b[0m             \u001b[0mself\u001b[0m\u001b[0;34m.\u001b[0m\u001b[0moptions\u001b[0m\u001b[0;34m[\u001b[0m\u001b[0;34m\"has_index_names\"\u001b[0m\u001b[0;34m]\u001b[0m \u001b[0;34m=\u001b[0m \u001b[0mkwds\u001b[0m\u001b[0;34m[\u001b[0m\u001b[0;34m\"has_index_names\"\u001b[0m\u001b[0;34m]\u001b[0m\u001b[0;34m\u001b[0m\u001b[0;34m\u001b[0m\u001b[0m\n\u001b[1;32m    894\u001b[0m \u001b[0;34m\u001b[0m\u001b[0m\n\u001b[0;32m--> 895\u001b[0;31m         \u001b[0mself\u001b[0m\u001b[0;34m.\u001b[0m\u001b[0m_make_engine\u001b[0m\u001b[0;34m(\u001b[0m\u001b[0mself\u001b[0m\u001b[0;34m.\u001b[0m\u001b[0mengine\u001b[0m\u001b[0;34m)\u001b[0m\u001b[0;34m\u001b[0m\u001b[0;34m\u001b[0m\u001b[0m\n\u001b[0m\u001b[1;32m    896\u001b[0m \u001b[0;34m\u001b[0m\u001b[0m\n\u001b[1;32m    897\u001b[0m     \u001b[0;32mdef\u001b[0m \u001b[0mclose\u001b[0m\u001b[0;34m(\u001b[0m\u001b[0mself\u001b[0m\u001b[0;34m)\u001b[0m\u001b[0;34m:\u001b[0m\u001b[0;34m\u001b[0m\u001b[0;34m\u001b[0m\u001b[0m\n",
      "\u001b[0;32m~/miniconda3/lib/python3.7/site-packages/pandas/io/parsers.py\u001b[0m in \u001b[0;36m_make_engine\u001b[0;34m(self, engine)\u001b[0m\n\u001b[1;32m   1133\u001b[0m     \u001b[0;32mdef\u001b[0m \u001b[0m_make_engine\u001b[0m\u001b[0;34m(\u001b[0m\u001b[0mself\u001b[0m\u001b[0;34m,\u001b[0m \u001b[0mengine\u001b[0m\u001b[0;34m=\u001b[0m\u001b[0;34m\"c\"\u001b[0m\u001b[0;34m)\u001b[0m\u001b[0;34m:\u001b[0m\u001b[0;34m\u001b[0m\u001b[0;34m\u001b[0m\u001b[0m\n\u001b[1;32m   1134\u001b[0m         \u001b[0;32mif\u001b[0m \u001b[0mengine\u001b[0m \u001b[0;34m==\u001b[0m \u001b[0;34m\"c\"\u001b[0m\u001b[0;34m:\u001b[0m\u001b[0;34m\u001b[0m\u001b[0;34m\u001b[0m\u001b[0m\n\u001b[0;32m-> 1135\u001b[0;31m             \u001b[0mself\u001b[0m\u001b[0;34m.\u001b[0m\u001b[0m_engine\u001b[0m \u001b[0;34m=\u001b[0m \u001b[0mCParserWrapper\u001b[0m\u001b[0;34m(\u001b[0m\u001b[0mself\u001b[0m\u001b[0;34m.\u001b[0m\u001b[0mf\u001b[0m\u001b[0;34m,\u001b[0m \u001b[0;34m**\u001b[0m\u001b[0mself\u001b[0m\u001b[0;34m.\u001b[0m\u001b[0moptions\u001b[0m\u001b[0;34m)\u001b[0m\u001b[0;34m\u001b[0m\u001b[0;34m\u001b[0m\u001b[0m\n\u001b[0m\u001b[1;32m   1136\u001b[0m         \u001b[0;32melse\u001b[0m\u001b[0;34m:\u001b[0m\u001b[0;34m\u001b[0m\u001b[0;34m\u001b[0m\u001b[0m\n\u001b[1;32m   1137\u001b[0m             \u001b[0;32mif\u001b[0m \u001b[0mengine\u001b[0m \u001b[0;34m==\u001b[0m \u001b[0;34m\"python\"\u001b[0m\u001b[0;34m:\u001b[0m\u001b[0;34m\u001b[0m\u001b[0;34m\u001b[0m\u001b[0m\n",
      "\u001b[0;32m~/miniconda3/lib/python3.7/site-packages/pandas/io/parsers.py\u001b[0m in \u001b[0;36m__init__\u001b[0;34m(self, src, **kwds)\u001b[0m\n\u001b[1;32m   1915\u001b[0m         \u001b[0mkwds\u001b[0m\u001b[0;34m[\u001b[0m\u001b[0;34m\"usecols\"\u001b[0m\u001b[0;34m]\u001b[0m \u001b[0;34m=\u001b[0m \u001b[0mself\u001b[0m\u001b[0;34m.\u001b[0m\u001b[0musecols\u001b[0m\u001b[0;34m\u001b[0m\u001b[0;34m\u001b[0m\u001b[0m\n\u001b[1;32m   1916\u001b[0m \u001b[0;34m\u001b[0m\u001b[0m\n\u001b[0;32m-> 1917\u001b[0;31m         \u001b[0mself\u001b[0m\u001b[0;34m.\u001b[0m\u001b[0m_reader\u001b[0m \u001b[0;34m=\u001b[0m \u001b[0mparsers\u001b[0m\u001b[0;34m.\u001b[0m\u001b[0mTextReader\u001b[0m\u001b[0;34m(\u001b[0m\u001b[0msrc\u001b[0m\u001b[0;34m,\u001b[0m \u001b[0;34m**\u001b[0m\u001b[0mkwds\u001b[0m\u001b[0;34m)\u001b[0m\u001b[0;34m\u001b[0m\u001b[0;34m\u001b[0m\u001b[0m\n\u001b[0m\u001b[1;32m   1918\u001b[0m         \u001b[0mself\u001b[0m\u001b[0;34m.\u001b[0m\u001b[0munnamed_cols\u001b[0m \u001b[0;34m=\u001b[0m \u001b[0mself\u001b[0m\u001b[0;34m.\u001b[0m\u001b[0m_reader\u001b[0m\u001b[0;34m.\u001b[0m\u001b[0munnamed_cols\u001b[0m\u001b[0;34m\u001b[0m\u001b[0;34m\u001b[0m\u001b[0m\n\u001b[1;32m   1919\u001b[0m \u001b[0;34m\u001b[0m\u001b[0m\n",
      "\u001b[0;32mpandas/_libs/parsers.pyx\u001b[0m in \u001b[0;36mpandas._libs.parsers.TextReader.__cinit__\u001b[0;34m()\u001b[0m\n",
      "\u001b[0;32mpandas/_libs/parsers.pyx\u001b[0m in \u001b[0;36mpandas._libs.parsers.TextReader._setup_parser_source\u001b[0;34m()\u001b[0m\n",
      "\u001b[0;31mFileNotFoundError\u001b[0m: [Errno 2] File b'temp/wes.19Q4.gene.cn' does not exist: b'temp/wes.19Q4.gene.cn'"
     ]
    }
   ],
   "source": [
    "genecn = pd.read_csv('temp/wes.'+release+'.gene.cn', sep = ',')"
   ]
  },
  {
   "cell_type": "code",
   "execution_count": null,
   "metadata": {},
   "outputs": [],
   "source": [
    "segmentcn = pd.read_csv('temp/wes.'+release+'.segmented.cn', sep = ',')"
   ]
  },
  {
   "cell_type": "code",
   "execution_count": null,
   "metadata": {},
   "outputs": [],
   "source": [
    "genecn.index = [i[-1] for i in genecn.index.str.split('_').tolist()]\n",
    "segmentcn[\"DepMap_ID\"] = [i[-1] for i in segmentcn[\"DepMap_ID\"].str.split('_').tolist()]"
   ]
  },
  {
   "cell_type": "code",
   "execution_count": null,
   "metadata": {},
   "outputs": [],
   "source": [
    "prevprevname"
   ]
  },
  {
   "cell_type": "code",
   "execution_count": null,
   "metadata": {},
   "outputs": [],
   "source": [
    "prev = set(tc.get(name='segmented-cn-wes-prioritzed-7fe1', file='wes.'+prevname+'.gene', version=\"33\").index.tolist())\n",
    "prevprev= set(tc.get(name='segmented-cn-wes-prioritzed-7fe1', file='CCLE_internal_19q2_gene_cn', version='25').index.tolist())"
   ]
  },
  {
   "cell_type": "code",
   "execution_count": null,
   "metadata": {},
   "outputs": [],
   "source": [
    "new1 = set(genecn.index.values.tolist())\n",
    "new2 = set(segmentcn['Sample'].values.tolist())\n",
    "print(len(prev), len(prev & new1), len(new1), len(new1 & new2))"
   ]
  },
  {
   "cell_type": "code",
   "execution_count": null,
   "metadata": {},
   "outputs": [],
   "source": [
    "checkAmountOfSegments(segmentcn,thresh = 750)"
   ]
  },
  {
   "cell_type": "code",
   "execution_count": null,
   "metadata": {},
   "outputs": [],
   "source": [
    "checkGeneChangeAccrossAll(genecn, thresh=1.5)"
   ]
  },
  {
   "cell_type": "code",
   "execution_count": null,
   "metadata": {},
   "outputs": [],
   "source": [
    "segmentcn.Start = segmentcn.Start.astype(int)\n",
    "segmentcn.End = segmentcn.End.astype(int)"
   ]
  },
  {
   "cell_type": "code",
   "execution_count": null,
   "metadata": {},
   "outputs": [],
   "source": [
    "if(genecn.values.max() > 100):\n",
    "    print(\"TOO HIGH, not LOG2 transformed!\")\n",
    "if(len(genecn.index.tolist()) > len(set(genecn.index))):\n",
    "    print(\"Duplicate CL, not reprioritized well!\")"
   ]
  },
  {
   "cell_type": "code",
   "execution_count": null,
   "metadata": {},
   "outputs": [],
   "source": [
    "segmentcn[segmentcn[\"DepMap_ID\"]==\"ACH-000658\"]"
   ]
  },
  {
   "cell_type": "code",
   "execution_count": null,
   "metadata": {},
   "outputs": [],
   "source": [
    "for k, val in samplesinset.iterrows():\n",
    "    plot = val[\"modeled_segments_plot_tumor\"]\n",
    "    ! gsutil cp $plot temp/\n",
    "    print(k)\n",
    "    display(Image('temp/'+plot.split('/')[-1]))"
   ]
  },
  {
   "cell_type": "markdown",
   "metadata": {},
   "source": [
    "These looks bad : \n",
    "M140325\n",
    "OCIP5X"
   ]
  },
  {
   "cell_type": "code",
   "execution_count": null,
   "metadata": {},
   "outputs": [],
   "source": [
    "gsheets = sheets.get(sheeturl).sheets[6].to_frame()\n",
    "wes_dmc_embargo = [i for i in gsheets['WES_DMC_embargo'].values.tolist() if i is not np.nan]\n",
    "blacklist = [i for i in gsheets['blacklist'].values.tolist() if i is not np.nan]"
   ]
  },
  {
   "cell_type": "markdown",
   "metadata": {},
   "source": [
    "# Upload to taiga"
   ]
  },
  {
   "cell_type": "markdown",
   "metadata": {},
   "source": [
    "## we Push full dataset in depmap taiga CN"
   ]
  },
  {
   "cell_type": "code",
   "execution_count": 7,
   "metadata": {},
   "outputs": [
    {
     "ename": "NameError",
     "evalue": "name 'genecn' is not defined",
     "output_type": "error",
     "traceback": [
      "\u001b[0;31m---------------------------------------------------------------------------\u001b[0m",
      "\u001b[0;31mNameError\u001b[0m                                 Traceback (most recent call last)",
      "\u001b[0;32m<ipython-input-7-236ca658e068>\u001b[0m in \u001b[0;36m<module>\u001b[0;34m\u001b[0m\n\u001b[1;32m      1\u001b[0m \u001b[0;31m## for genecn removing first blacklisted, then embargoed, to create two datasets\u001b[0m\u001b[0;34m\u001b[0m\u001b[0;34m\u001b[0m\u001b[0;34m\u001b[0m\u001b[0m\n\u001b[0;32m----> 2\u001b[0;31m \u001b[0mgenecn\u001b[0m \u001b[0;34m=\u001b[0m \u001b[0mgenecn\u001b[0m\u001b[0;34m.\u001b[0m\u001b[0mapply\u001b[0m\u001b[0;34m(\u001b[0m\u001b[0;32mlambda\u001b[0m \u001b[0mx\u001b[0m\u001b[0;34m:\u001b[0m \u001b[0mnp\u001b[0m\u001b[0;34m.\u001b[0m\u001b[0mlog2\u001b[0m\u001b[0;34m(\u001b[0m\u001b[0;36m1\u001b[0m\u001b[0;34m+\u001b[0m\u001b[0mx\u001b[0m\u001b[0;34m)\u001b[0m\u001b[0;34m)\u001b[0m\u001b[0;34m\u001b[0m\u001b[0;34m\u001b[0m\u001b[0m\n\u001b[0m\u001b[1;32m      3\u001b[0m \u001b[0msegmentcn\u001b[0m\u001b[0;34m[\u001b[0m\u001b[0;34m'Segment_Mean'\u001b[0m\u001b[0;34m]\u001b[0m \u001b[0;34m=\u001b[0m \u001b[0msegmentcn\u001b[0m\u001b[0;34m[\u001b[0m\u001b[0;34m'Segment_Mean'\u001b[0m\u001b[0;34m]\u001b[0m\u001b[0;34m.\u001b[0m\u001b[0mapply\u001b[0m\u001b[0;34m(\u001b[0m\u001b[0;32mlambda\u001b[0m \u001b[0mx\u001b[0m\u001b[0;34m:\u001b[0m \u001b[0mnp\u001b[0m\u001b[0;34m.\u001b[0m\u001b[0mlog2\u001b[0m\u001b[0;34m(\u001b[0m\u001b[0;36m1\u001b[0m\u001b[0;34m+\u001b[0m\u001b[0mx\u001b[0m\u001b[0;34m)\u001b[0m\u001b[0;34m)\u001b[0m\u001b[0;34m\u001b[0m\u001b[0;34m\u001b[0m\u001b[0m\n\u001b[1;32m      4\u001b[0m \u001b[0mgenecn\u001b[0m\u001b[0;34m.\u001b[0m\u001b[0mto_csv\u001b[0m\u001b[0;34m(\u001b[0m\u001b[0;34m'temp/wes.'\u001b[0m\u001b[0;34m+\u001b[0m\u001b[0mrelease\u001b[0m\u001b[0;34m+\u001b[0m\u001b[0;34m'.gene.cn'\u001b[0m\u001b[0;34m)\u001b[0m\u001b[0;34m\u001b[0m\u001b[0;34m\u001b[0m\u001b[0m\n\u001b[1;32m      5\u001b[0m \u001b[0msegmentcn\u001b[0m\u001b[0;34m.\u001b[0m\u001b[0mto_csv\u001b[0m\u001b[0;34m(\u001b[0m\u001b[0;34m'temp/wes.'\u001b[0m\u001b[0;34m+\u001b[0m\u001b[0mrelease\u001b[0m\u001b[0;34m+\u001b[0m\u001b[0;34m'.segmented.cn'\u001b[0m\u001b[0;34m)\u001b[0m\u001b[0;34m\u001b[0m\u001b[0;34m\u001b[0m\u001b[0m\n",
      "\u001b[0;31mNameError\u001b[0m: name 'genecn' is not defined"
     ]
    }
   ],
   "source": [
    "## for genecn removing first blacklisted, then embargoed, to create two datasets\n",
    "genecn = genecn.apply(lambda x: np.log2(1+x))\n",
    "segmentcn['Segment_Mean'] = segmentcn['Segment_Mean'].apply(lambda x: np.log2(1+x))\n",
    "genecn.to_csv('temp/wes.'+release+'.gene.cn')\n",
    "segmentcn.to_csv('temp/wes.'+release+'.segmented.cn')"
   ]
  },
  {
   "cell_type": "code",
   "execution_count": null,
   "metadata": {},
   "outputs": [],
   "source": [
    "tc.update_dataset(dataset_permaname=\"segmented-cn-wes-prioritzed-7fe1\", \n",
    "                  upload_file_path_dict={\n",
    "                    'temp/wes.'+release+'.gene.cn': 'NumericMatrixCSV',\n",
    "                    'temp/wes.'+release+'.segmented.cn': 'TableCSV'},\n",
    "                  dataset_description=\n",
    "\"\"\"\n",
    "# Copy Number\n",
    "\n",
    "Combined segment and gene-level CN calls from Broad WES, Sanger WES, and Broad SNP. Relative CN, log2(x+1) transformed.\n",
    "\n",
    "PORTAL TEAM SHOULD NOT USE THIS: There are lines here that should not make it even to internal. Must use subsetted dataset instead. These data will not make it on the portal starting 19Q1. With the DMC portal, there is new cell line release prioritization as to which lines can be included, so a new taiga dataset will be created containing CN for the portal.\n",
    "\n",
    "These data are generated for Achilles to pull from to run CERES.\n",
    "\n",
    "Versions to use:\n",
    "\n",
    "v25 for 19Q2 (hg38 aligned, Broad WES and Sanger WES based calls were generated from bam realignment. SNP based calls are still from liftover). The gene mapping script was updated to improve the gene level matrix (to remove NAs). The segmented level matrix is untransformed relative CN. Gene level matrix is log2(CN + 1).\n",
    "v20 for 19Q1 (version 21 is hg19)\n",
    "v18: for 18Q4\n",
    "v15: for 18Q3\n",
    "v11: for 18Q2\n",
    "Gene-level matrix in versions below 10 were using hg38 and not hg19. Version 11 is corrected and should be used instead\n",
    "\n",
    "Calls on X, Y chromosome for profiles should not be used.\n",
    "\n",
    "Prioritization is as follows:\n",
    "\n",
    "Broad WES kept over everything\n",
    "Sanger WES kept if:\n",
    "This cell line did not fail fingerprinting\n",
    "This cell line has no other CN data\n",
    "This cell lines does not have CRISPR LFC data from the Achilles screen\n",
    "This CN profile correlates better with Achilles CRISPR LFC data than Broad SNP CN OR the % gene-level difference between this cell lines CN profile from Sanger WES and Broad SNP < 2.5%\n",
    "Broad SNP used for remaining lines with no Broad WES or with Sanger WES that does not pass the criteria above\n",
    "The 'Source' column indicates which CN profile was used for that cell line.\n",
    "\n",
    "version 6: renamed Sample column to CCLE_name for consistency for the Achilles pipeline\n",
    "version 7: missing chordoma lines\n",
    "version 8: fixed to names of two chordoma lines (changed suffix from CHORDOMA -> BONE) and removed renamed cell lines that were duplicated (with different names). Reran comparison using 18q2 LFC results. Gene level matrix will be generated for version 9\n",
    "version 11: corrected error in gene-level matrix calculation (previously had been aligned to hg38 however alignment should be hg19). Segment level calls are unaffected.\n",
    "versions 12-14: Sanger WES were multiplied by 2 so should not be used\n",
    "version 15: internal segments and gene level matrices for 18q3 release including public version (removed black list lines and Broad WES < 6 months old). Gene level matrices are indexed using Broad IDs.\n",
    "version 16: internal segments and gene level matrices for 18q4 release including public version (uses all SNP and only WES if those lines are present in the 18Q4 public Achilles dataset)\n",
    "version 17: same as version 16 but with two additional line in the internal version\n",
    "version 18: same as version 17 but switched one line in public to use SNP instead of WES because not in public Avana\n",
    "version 20: two major changes occurred (1) we are using a FireCloud based pipeline for CN calling now for Broad WES data (2) we have moved to use hg38. This is accomplished by lifting over coordinates from hg19 to hg38 after processed by the CN pipeline.\n",
    "v21 same as version 20, but we are using the original hg19 coordinates, not hg38\n",
    "version 25: Broad WES and Sanger WES were realigned to hg38. SNP still uses liftover from hg19 to hg38\n",
    "\n",
    "## ** Internal 19Q4****\n",
    "\n",
    "Adding 17 new cell lines, 3 reprioritized cell lines. log2(COPY RATIO+1). \n",
    "Some cells lines have been flagged as:\n",
    "\n",
    " - having bad looking copy ration plots = \n",
    " - having too many segments = [ ACH-000458 762, ACH-000848 1171, ACH-001017 1223, ACH-000904 868, ACH-000444 974, ACH-001249 1756, ACH-000854 899, ACH-002204 1318, ACH-000901 816, ACH-001230 947, ACH-001150 782, ACH-000923 1469, ACH-000960 913, ACH-002335 1312, ACH-000550 974, ACH-001955 1296, ACH-000258 872, ACH-000167 838, ACH-000593 764, ACH-000064 1203, ACH-000488 954, ACH-000837 1015, ACH-001656 902, ACH-001088 1337, ACH-001036 858, ACH-001079 2586, ACH-001171 792, ACH-000454 1051, ACH-000419 826, ACH-000118 794, ACH-000870 1557, ACH-000128 767, ACH-001957 1426, ACH-001239 851, ACH-000068 812, ACH-001043 825, ACH-001113 1072, ACH-000774 953, ACH-000868 1422, ACH-000300 1431, ACH-000842 929, ACH-000578 869, ACH-001045 822, ACH-001214 889, ACH-000044 1202, ACH-000600 939, ACH-000659 1129, ACH-000865 1358, ACH-000941 813, ACH-000509 873, ACH-001094 1036, ACH-000216 925, ACH-001225 792, ACH-001234 819, ACH-000710 968, ACH-001071 1175, ACH-000452 816, ACH-000887 1408, ACH-000195 2029, ACH-001956 1368, ACH-000327 819, ACH-000658 927, ACH-000690 771, ACH-000738 1064, ACH-000090 1024, ACH-001101 1005, ACH-000356 1294, ACH-000961 763, ACH-000028 868, ACH-000071 1287, ACH-000635 1368, ACH-001000 980, ACH-000836 1001]\n",
    " - Genes having a similar CN value accross all []\n",
    "\n",
    "\n",
    "Gene level CN data:\n",
    "\n",
    "__Rows__: DepMap cell line IDs\n",
    "\n",
    "__Columns__: gene names in the format HGNC\\_symbol (Entrez\\_ID)\n",
    "\n",
    "Segmented data:\n",
    "\n",
    "__Columns__: DepMap\\_ID, Chromosome, Start, End, Num\\_Probes, Segment\\_Mean\"\"\")"
   ]
  },
  {
   "cell_type": "markdown",
   "metadata": {},
   "source": [
    "## We push internal dataset with blacklisted removed\n",
    "\n",
    "and we add it to eternal dataset and to virtual dataset"
   ]
  },
  {
   "cell_type": "code",
   "execution_count": null,
   "metadata": {},
   "outputs": [],
   "source": [
    "## for segment removing first blacklisted, then embargoed, to create two datasets\n",
    "segmentcn[~segmentcn.DepMap_ID.isin(blacklist)].to_csv('temp/internal_'+release+'_segs_cn')\n",
    "genecn[~genecn.index.isin(blacklist)].to_csv('temp/internal_'+release+'_gene_cn')"
   ]
  },
  {
   "cell_type": "code",
   "execution_count": null,
   "metadata": {},
   "outputs": [],
   "source": [
    "tc.update_dataset(dataset_permaname=\"depmap-wes-cn-data-81a7\", \n",
    "                  upload_file_path_dict={\n",
    "                    'temp/internal_'+release+'_gene_cn': 'NumericMatrixCSV',\n",
    "                    'temp/internal_'+release+'_segs_cn': 'TableCSV'},\n",
    "                  dataset_description=\n",
    "\"\"\"\n",
    "# Copy Number\n",
    "\n",
    "\n",
    "## ** Version 1 Internal 18Q1****\n",
    "\n",
    "Generated with the following script:\n",
    "\n",
    "```\n",
    "wes_pri <- taigr::load.from.taiga(data.name='gene-level-cn-87aa', \n",
    "                                  data.version=5, \n",
    "                                  data.file='gene_CN_WES_priority')\n",
    "source_info <- data.frame(ccle_name=gsub(\"snp_|sangerWES_|ccleWES_|achillesWES_\", \n",
    "                                         \"\", row.names(wes_pri)), \n",
    "                          source=gsub(\"_.*\", \"\", row.names(wes_pri)))\n",
    "wes_pri %<>% magrittr::set_rownames(source_info$ccle_name)\n",
    "\n",
    "```\n",
    "\n",
    "## ** Version 2 Internal 18Q2****\n",
    "\n",
    "Generated with the following script:\n",
    "\n",
    "```\n",
    "wes_pri <- taigr::load.from.taiga(data.name='segmented-cn-wes-prioritzed-7fe1', data.version=9, data.file='wes_priority_cn_gene_matrix') %>% log2()\n",
    "\n",
    "\n",
    "```\n",
    "\n",
    "## ** Version 3 Internal 18Q2****\n",
    "\n",
    "Generated with the following script:\n",
    "\n",
    "```\n",
    "wes_pri <- taigr::load.from.taiga(data.name='segmented-cn-wes-prioritzed-7fe1', data.version=11, data.file='wes_priority_cn_gene_matrix') %>% log2()\n",
    "\n",
    "\n",
    "```\n",
    "## ** Version 4-6 Internal 18Q3****\n",
    "\n",
    "__Description__: log2 gene level copy number data\n",
    "\n",
    "Generated with the following script:\n",
    "\n",
    "```\n",
    "wes_pri <- taigr::load.from.taiga(data.name='segmented-cn-wes-prioritzed-7fe1', data.version=15, data.file='wes_priority_cn_gene_matrix') %>% log2()\n",
    "\n",
    "\n",
    "```\n",
    "__Rows__: Broad (arxspan) cell line IDs\n",
    "\n",
    "__Columns__: gene names in the format HGNC\\_symbol (Entrez\\_ID)\n",
    "\n",
    "Version 5 has updated cell line name mapping\n",
    "\n",
    "Version 4 and 5 the segmented CN for Sanger's data is off by a factor of 2, version 6 corrects this\n",
    "\n",
    "**** Version 7 Internal 18Q4****\n",
    "\n",
    "__Description__: log2 gene level copy number data\n",
    "\n",
    "Generated with the following script:\n",
    "\n",
    "```\n",
    "wes_pri <- taigr::load.from.taiga(data.name='segmented-cn-wes-prioritzed-7fe1', data.version=17, data.file='wes_priority_cn_gene_matrix') %>% log2()\n",
    "\n",
    "\n",
    "```\n",
    "__Rows__: DepMap (arxspan) cell line IDs\n",
    "\n",
    "__Columns__: gene names in the format HGNC\\_symbol (Entrez\\_ID)\n",
    "\n",
    "## ** Version 8-9 Internal 19Q1****\n",
    "\n",
    "version 9 has the correct data for 19Q1\n",
    "\n",
    "## ** Version 10-11 Internal 19Q2****\n",
    "\n",
    "__version 11 added an additional 13 cell lines and adds the segmented copy number data__\n",
    "\n",
    "## ** Version 12 Internal 19Q3****\n",
    "\n",
    "__Description__: log2(X + 1) gene level copy number data (data is now log2 transformed with a __pseudocount of 1__ added). CN data is generated using __hg38__. \n",
    "\n",
    "\n",
    "## ** Version 13 Internal 19Q4****\n",
    "\n",
    "Adding 17 new cell lines, 3 reprioritized cell lines. log2(COPY RATIO+1). \n",
    "Some cells lines have been flagged as:\n",
    "\n",
    " - having bad looking copy ration plots = \n",
    " - having too many segments = [ ACH-000458 762, ACH-000848 1171, ACH-001017 1223, ACH-000904 868, ACH-000444 974, ACH-001249 1756, ACH-000854 899, ACH-002204 1318, ACH-000901 816, ACH-001230 947, ACH-001150 782, ACH-000923 1469, ACH-000960 913, ACH-002335 1312, ACH-000550 974, ACH-001955 1296, ACH-000258 872, ACH-000167 838, ACH-000593 764, ACH-000064 1203, ACH-000488 954, ACH-000837 1015, ACH-001656 902, ACH-001088 1337, ACH-001036 858, ACH-001079 2586, ACH-001171 792, ACH-000454 1051, ACH-000419 826, ACH-000118 794, ACH-000870 1557, ACH-000128 767, ACH-001957 1426, ACH-001239 851, ACH-000068 812, ACH-001043 825, ACH-001113 1072, ACH-000774 953, ACH-000868 1422, ACH-000300 1431, ACH-000842 929, ACH-000578 869, ACH-001045 822, ACH-001214 889, ACH-000044 1202, ACH-000600 939, ACH-000659 1129, ACH-000865 1358, ACH-000941 813, ACH-000509 873, ACH-001094 1036, ACH-000216 925, ACH-001225 792, ACH-001234 819, ACH-000710 968, ACH-001071 1175, ACH-000452 816, ACH-000887 1408, ACH-000195 2029, ACH-001956 1368, ACH-000327 819, ACH-000658 927, ACH-000690 771, ACH-000738 1064, ACH-000090 1024, ACH-001101 1005, ACH-000356 1294, ACH-000961 763, ACH-000028 868, ACH-000071 1287, ACH-000635 1368, ACH-001000 980, ACH-000836 1001]\n",
    " - Genes having a similar CN value accross all []\n",
    "\n",
    "\n",
    "Gene level CN data:\n",
    "\n",
    "__Rows__: DepMap cell line IDs\n",
    "\n",
    "__Columns__: gene names in the format HGNC\\_symbol (Entrez\\_ID)\n",
    "\n",
    "Segmented data:\n",
    "\n",
    "__Columns__: DepMap\\_ID, Chromosome, Start, End, Num\\_Probes, Segment\\_Mean\n",
    "\"\"\")"
   ]
  },
  {
   "cell_type": "code",
   "execution_count": null,
   "metadata": {},
   "outputs": [],
   "source": [
    "# To add to a virtual dataset\n",
    "AddToVirtual(virtual_internal, 'depmap-wes-cn-data-81a7', [('CCLE_gene_cn', 'internal_'+release+'_gene_cn'),('CCLE_segment_cn', 'internal_'+release+'_segs_cn')])\n",
    "# To add to a eternal dataset\n",
    "AddToVirtual('depmap-a0ab', 'depmap-wes-cn-data-81a7', [('CCLE_gene_cn', 'internal_'+release+'_gene_cn'),('CCLE_segment_cn', 'internal_'+release+'_segs_cn')])"
   ]
  },
  {
   "cell_type": "markdown",
   "metadata": {},
   "source": [
    "## We add to dmc as in internal"
   ]
  },
  {
   "cell_type": "code",
   "execution_count": null,
   "metadata": {},
   "outputs": [],
   "source": [
    "os.system('mv temp/internal_'+release+'_gene_cn temp/dmc_'+release+'_gene_cn')\n",
    "os.system('mv temp/internal_'+release+'_segs_cn temp/dmc_'+release+'_segs_cn')"
   ]
  },
  {
   "cell_type": "code",
   "execution_count": null,
   "metadata": {},
   "outputs": [],
   "source": [
    "tc.update_dataset(dataset_permaname=\"depmap-cn-data-9b9d\",\n",
    "                upload_file_path_dict={\n",
    "                    'temp/dmc_'+release+'_gene_cn':'NumericMatrixCSV',\n",
    "                    'temp/dmc_'+release+'_segs_cn': 'TableCSV'\n",
    "                   },\n",
    "                \n",
    "                  dataset_description=\"\"\"\n",
    "**** Version 1-2 DMC 19Q1****\n",
    "\n",
    "version 2 contains the correct data for 19Q1\n",
    "\n",
    "**** Version 3-4 DMC 19Q2****\n",
    "\n",
    "__version 4 added an additional 13 cell lines and adds the segmented copy number data__\n",
    "\n",
    "**** Version 5 DMC 19Q3***\n",
    "\n",
    "__Description__: log2(X + 1) gene level copy number data (data is now log2 transformed with a __pseudocount of 1__ added). CN data is generated using __hg38__.  The segmented copy number data includes the mean segmented copy number segments.\n",
    "\n",
    "Gene level CN data:\n",
    "\n",
    "__Rows__: DepMap cell line IDs\n",
    "\n",
    "__Columns__: gene names in the format HGNC\\_symbol (Entrez\\_ID)\n",
    "\n",
    "Segmented data:\n",
    "\n",
    "__Columns__: DepMap\\_ID, Chromosome, Start, End, Num\\_Probes, Segment\\_Mean\n",
    "\"\"\")\n",
    "AddToVirtual(virtual_dmc, \"depmap-cn-data-9b9d\", new_aliases=[('CCLE_gene_cn', 'internal_'+release+'_gene_cn'),('CCLE_segment_cn', 'internal_'+release+'_segs_cn')])"
   ]
  },
  {
   "cell_type": "markdown",
   "metadata": {},
   "source": [
    "## We add to public as internal minus dmc embargoed and only cell lines from previous previous release (6 month)"
   ]
  },
  {
   "cell_type": "code",
   "execution_count": null,
   "metadata": {},
   "outputs": [],
   "source": [
    "(set(wes_dmc_embargo) | set(blacklist))"
   ]
  },
  {
   "cell_type": "code",
   "execution_count": null,
   "metadata": {},
   "outputs": [],
   "source": [
    "genecn[~genecn.index.isin(set(wes_dmc_embargo) | set(blacklist))]"
   ]
  },
  {
   "cell_type": "code",
   "execution_count": null,
   "metadata": {},
   "outputs": [],
   "source": [
    "a = segmentcn[segmentcn.DepMap_ID.isin(prevprev)]\n",
    "a[~a.DepMap_ID.isin(set(wes_dmc_embargo) | set(blacklist))].to_csv('temp/public_' + release + '_segs_cn')\n",
    "a = genecn[genecn.index.isin(prevprev)]\n",
    "a[~a.index.isin(set(wes_dmc_embargo) | set(blacklist))].to_csv('temp/public_'+release+'_gene_cn')"
   ]
  },
  {
   "cell_type": "code",
   "execution_count": null,
   "metadata": {},
   "outputs": [],
   "source": [
    "tc.update_dataset(dataset_permaname='depmap-wes-cn-data-97cc',\n",
    "                    upload_file_path_dict={\n",
    "                    'temp/public_'+release+'_gene_cn':'NumericMatrixCSV',\n",
    "                    'temp/public_'+release+'_segs_cn': 'TableCSV'\n",
    "                   },\n",
    "                  dataset_description=\"\"\"\n",
    "**** Versions 1-5 Public 18Q1****\n",
    "\n",
    "Gene-level WES copy-number data for publicly accessible CCLE data. \n",
    "\n",
    "```\n",
    "\n",
    "internal_lines <- readr::read_csv(\"~/Downloads/avana-broad-18q1_v2-sample-info.csv\")$cell_line\n",
    "public_lines <- readr::read_csv(\"~/Downloads/avana-public-tentative-18q1_v5-sample-info.csv\")$cell_line\n",
    "non_public_lines <- setdiff(internal_lines, public_lines)\n",
    "\n",
    "full_cn_set <- taigr::load.from.taiga(data.name='gene-level-cn-87aa', data.version=5, data.file='full_gene_CN')\n",
    "source_info <- data.frame(source=gsub(\"_.*\", \"\", row.names(full_cn_set)),\n",
    "                          ccle_name=gsub(\"snp_|achillesWES_|ccleWES_|sangerWES_\", \"\",\n",
    "                                         row.names(full_cn_set)),\n",
    "                          row_idx=1:nrow(full_cn_set))\n",
    "to_remove <- source_info %>%\n",
    "  dplyr::filter(ccle_name %in% non_public_lines,\n",
    "                source %in% c(\"ccleWES\", \"achillesWES\"))\n",
    "also_to_remove <- source_info %>%\n",
    "                    dplyr::filter(source == \"sangerWES\")\n",
    "indices_to_remove <- c(to_remove$row_idx, also_to_remove$row_idx) %>% unique()\n",
    "indices_to_keep <- source_info %>%\n",
    "  dplyr::filter(!(row_idx %in% indices_to_remove)) %>%\n",
    "  dplyr::group_by(ccle_name) %>%\n",
    "  dplyr::mutate(priority=ifelse(source == \"snp\", 4,\n",
    "                                ifelse(source == \"sangerWES\", 3,\n",
    "                                       ifelse(source == \"ccleWES\", 2, 1)))) %>%\n",
    "  dplyr::filter(priority == min(priority)) %>%\n",
    "  dplyr::ungroup()\n",
    "\n",
    "public_cn <- full_cn_set[indices_to_keep$row_idx,]\n",
    "source_info <- data.frame(source=gsub(\"_.*\", \"\", row.names(public_cn)),\n",
    "                          ccle_name=gsub(\"snp_|achillesWES_|ccleWES_|sangerWES_\", \"\",\n",
    "                                         row.names(public_cn)))\n",
    "public_cn %<>% magrittr::set_rownames(source_info$ccle_name)\n",
    "```\n",
    "\n",
    "CN data are on a log2 scale.\n",
    "\n",
    "`WES_source_info` tracks the source data for each cell line. Sources are `snp`, `achillesWES`, `ccleWES`, and `sangerWES`\n",
    "\n",
    "NOTE: Version 1 contained WES data from cell lines not available in the 18Q1 Public release. Versions 2-4 contained Sanger's WES CN data\n",
    "\n",
    "**** Version 6 Public 18Q2****\n",
    "\n",
    "Generated by running:\n",
    "\n",
    "```\n",
    "wes_pri <- taigr::load.from.taiga(data.name='segmented-cn-wes-prioritzed-7fe1', data.version=10, data.file='public_wes_priority_cn_gene_matrix') %>% log2()\n",
    "```\n",
    "\n",
    "**** Version 7 Public 18Q2****\n",
    "\n",
    "Generated by running:\n",
    "\n",
    "```\n",
    "wes_pri <- taigr::load.from.taiga(data.name='segmented-cn-wes-prioritzed-7fe1', data.version=11, data.file='public_wes_priority_cn_gene_matrix') %>% log2()\n",
    "```\n",
    "\n",
    "\n",
    "**** Version 8-9 Public 18Q3****\n",
    "\n",
    "Generated by running:\n",
    "\n",
    "```\n",
    "wes_pri <- taigr::load.from.taiga(data.name='segmented-cn-wes-prioritzed-7fe1', data.version=15, data.file='public_wes_priority_cn_gene_matrix') %>% log2()\n",
    "```\n",
    "Version 8 the segmented CN for Sanger's data is off by a factor of 2, version 9 corrects this\n",
    "\n",
    "includes cell lines that should not be public\n",
    "\n",
    "**** Version 10 Public 18Q1, 18Q2, 18Q3****\n",
    "\n",
    "__use version 10 for 18Q1, 18Q2 and 18Q3 datasets__ \n",
    "\n",
    "Version 10 is the most up-to-date version of \"public\\_18Q3\\_gene\\_cn.csv\". The three datasets have been updated to remove cell lines that should not have been made public. They are named in the portal and google bucket for portal downloads as v2, e.g. public\\_18Q3\\_gene\\_cn\\_v2.csv.\n",
    "\n",
    "__Rows__: Broad (arxspan) cell line IDs\n",
    "\n",
    "__Columns__: gene names in the format HGNC\\_symbol (Entrez\\_ID)\n",
    "\n",
    "**** Version 11 Public 18Q4****\n",
    "\n",
    "Generated by running:\n",
    "\n",
    "```\n",
    "wes_pri <- taigr::load.from.taiga(data.name='segmented-cn-wes-prioritzed-7fe1', data.version=17, data.file='public_wes_priority_cn_gene_matrix') %>% log2()\n",
    "```\n",
    "\n",
    "__Rows__: DepMap (arxspan) cell line IDs\n",
    "\n",
    "__Columns__: gene names in the format HGNC\\_symbol (Entrez\\_ID)\n",
    "\n",
    "**** Version 12-14 Public 19Q1****\n",
    "\n",
    "version 14 contains the correct data for 19Q1\n",
    "\n",
    "version 13 is the same as v12 except that it uses the original hg19 coordinates not hg38. The Achilles public data set uses the hg19 coordinates. \n",
    "\n",
    "**** Version 15-16 Public 19Q2****\n",
    "\n",
    "__version 16 also adds the segmented copy number data__\n",
    "\n",
    "**** Version 17-18 Public 19Q3****\n",
    "\n",
    "__data is hg38 liftover__\n",
    "\n",
    "__Description__: log2 + 1 gene level copy number data (data is log2 transformed with a __pseudocount of 1__ added). It uses hg19 coordinates. Also the segmented copy number data.\n",
    "\n",
    "Gene level CN data:\n",
    "\n",
    "__Rows__: DepMap cell line IDs\n",
    "\n",
    "__Columns__: gene names in the format HGNC\\_symbol (Entrez\\_ID)\n",
    "\n",
    "Segmented data:\n",
    "\n",
    "__Columns__: DepMap\\_ID, Chromosome, Start, End, Num\\_Probes, Segment\\_Mean, CCLE\\_name\n",
    "\n",
    "# /!\\ Deprecated\n",
    "\n",
    "This data version has been deprecated. It was used internally at the broad from 19Q1 to 19Q2.\n",
    "It appeared to contain too many NaN values and was thus deprecated for a more recent dataset version.\n",
    "We subseted this version with only the cell line listed for this public release.\n",
    "\n",
    "**** Version 19 Public 19Q3 ****\n",
    "\"\"\")\n",
    "# To add to a virtual dataset\n",
    "AddToVirtual(virtual_public, \"depmap-wes-cn-data-97cc\", new_aliases=[('CCLE_gene_cn', 'public_'+release+'_gene_cn'),('CCLE_segment_cn', 'public_'+release+'_segs_cn')])"
   ]
  },
  {
   "cell_type": "code",
   "execution_count": null,
   "metadata": {},
   "outputs": [],
   "source": []
  }
 ],
 "metadata": {
  "celltoolbar": "Aucun(e)",
  "kernelspec": {
   "display_name": "Python 3",
   "language": "python",
   "name": "python3"
  },
  "language_info": {
   "codemirror_mode": {
    "name": "ipython",
    "version": 3
   },
   "file_extension": ".py",
   "mimetype": "text/x-python",
   "name": "python",
   "nbconvert_exporter": "python",
   "pygments_lexer": "ipython3",
   "version": "3.7.3"
  },
  "latex_envs": {
   "LaTeX_envs_menu_present": true,
   "autoclose": false,
   "autocomplete": true,
   "bibliofile": "biblio.bib",
   "cite_by": "apalike",
   "current_citInitial": 1,
   "eqLabelWithNumbers": true,
   "eqNumInitial": 1,
   "hotkeys": {
    "equation": "Ctrl-E",
    "itemize": "Ctrl-I"
   },
   "labels_anchors": false,
   "latex_user_defs": false,
   "report_style_numbering": false,
   "user_envs_cfg": false
  },
  "notify_time": "10",
  "toc": {
   "base_numbering": 1,
   "nav_menu": {},
   "number_sections": true,
   "sideBar": true,
   "skip_h1_title": false,
   "title_cell": "Table of Contents",
   "title_sidebar": "Contents",
   "toc_cell": false,
   "toc_position": {},
   "toc_section_display": true,
   "toc_window_display": false
  },
  "varInspector": {
   "cols": {
    "lenName": 16,
    "lenType": 16,
    "lenVar": 40
   },
   "kernels_config": {
    "python": {
     "delete_cmd_postfix": "",
     "delete_cmd_prefix": "del ",
     "library": "var_list.py",
     "varRefreshCmd": "print(var_dic_list())"
    },
    "r": {
     "delete_cmd_postfix": ") ",
     "delete_cmd_prefix": "rm(",
     "library": "var_list.r",
     "varRefreshCmd": "cat(var_dic_list()) "
    }
   },
   "types_to_exclude": [
    "module",
    "function",
    "builtin_function_or_method",
    "instance",
    "_Feature"
   ],
   "window_display": false
  }
 },
 "nbformat": 4,
 "nbformat_minor": 2
}
