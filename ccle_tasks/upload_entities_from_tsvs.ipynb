{
 "cells": [
  {
   "cell_type": "code",
   "execution_count": null,
   "metadata": {},
   "outputs": [],
   "source": [
    "from __future__ import print_function\n",
    "import os.path\n",
    "import pandas as pd\n",
    "from IPython.display import Image,display, Audio\n",
    "import dalmatian as dm\n",
    "from IPython.core.display import HTML \n",
    "from src.CCLE_postp_function import *\n",
    "import sys\n",
    "sys.path.insert(0, '../JKBio/')\n",
    "import TerraFunction as terra\n",
    "%load_ext autoreload\n",
    "%autoreload 2\n",
    "%load_ext rpy2.ipython\n",
    "from taigapy import TaigaClient\n",
    "tc = TaigaClient()"
   ]
  },
  {
   "cell_type": "code",
   "execution_count": null,
   "metadata": {},
   "outputs": [],
   "source": [
    "namespace1=\"broad-genomics-delivery\"\n",
    "workspace1=\"Getz_IBM_CellLines_Exomes\"\n",
    "namespace2=\"broad-firecloud-ccle\"\n",
    "workspace2=\"CCLE_DepMap_WES\"\n",
    "namespace3=\"broad-genomics-delivery\"\n",
    "workspace3=\"CCLE_DepMap_WES\"\n",
    "refnamespace=\"broad-firecloud-ccle\"\n",
    "refworkspace=\"DepMap_WES_CN_hg38\"\n",
    "source1=\"ibm\"\n",
    "source2=\"ccle\"\n",
    "source3=\"ccle\"\n",
    "sample_set_id = \"19Q4\"\n",
    "release = sample_set_id"
   ]
  },
  {
   "cell_type": "code",
   "execution_count": null,
   "metadata": {},
   "outputs": [],
   "source": [
    "wm1 = dm.WorkspaceManager(namespace1, workspace1)\n",
    "wm2 = dm.WorkspaceManager(namespace2, workspace2)\n",
    "wm3 = dm.WorkspaceManager(namespace3, workspace3)\n",
    "# wm4 = dm.WorkspaceManager(namespace4, workspace4)\n",
    "\n",
    "refwm = dm.WorkspaceManager(refnamespace, refworkspace)"
   ]
  },
  {
   "cell_type": "code",
   "execution_count": null,
   "metadata": {},
   "outputs": [],
   "source": [
    "# #####\n",
    "# ####\n",
    "# tmp = terra.changeGSlocation(refnamespace+'/'+refworkspace, newgs='gs://ccle_bams', onlycol = ['WES_bai','WES_bam'], entity = 'samples', dry_run = True)"
   ]
  },
  {
   "cell_type": "code",
   "execution_count": null,
   "metadata": {},
   "outputs": [],
   "source": [
    "# sample_info = pd.read_csv('../workspace_safety/DepMap_Mutation_Calling_CGA_pipeline/edited/sample.tsv', sep = \"\\t\",na_filter= False)\n",
    "# sample_info = sample_info.rename(columns={\"entity:sample_id\":'sample_id'})\n",
    "# sample_info = sample_info.set_index('sample_id')\n",
    "# sampleset_members = pd.read_csv('../workspace_safety/DepMap_Mutation_Calling_CGA_pipeline/edited/sample_set_membership.tsv', sep = \"\\t\",na_filter= False)\n",
    "# sampleset_members = sampleset_members.rename(columns={\"membership:sample_set_id\":'sample_set_id'})\n",
    "# sampleset_members = sampleset_members.set_index('sample_set_id')\n",
    "\n",
    "# sampleset_entity = pd.read_csv('../workspace_safety/DepMap_Mutation_Calling_CGA_pipeline/sample_set/sample_set_entity.tsv', sep = \"\\t\", na_filter= False)\n",
    "# sampleset_entity = sampleset_entity.set_index('entity:sample_set_id')\n"
   ]
  },
  {
   "cell_type": "markdown",
   "metadata": {},
   "source": [
    "## Uploading sample tsv to Terra from local file"
   ]
  },
  {
   "cell_type": "code",
   "execution_count": null,
   "metadata": {},
   "outputs": [],
   "source": [
    "sample_info = pd.read_csv('../workspace_safety/DepMap_WES_CN_hg38/v4/sample.tsv', sep = \"\\t\", na_filter= False)\n",
    "print(sample_info.shape)\n",
    "new_sample_info = pd.read_csv('../workspace_safety/DepMap_WES_CN_hg38/19Q4_extra_new_cn_samples.tsv', sep = \"\\t\", na_filter= False)\n",
    "new_sample_info = new_sample_info[0:4] # check: IDK why it had extra empty rows\n",
    "sample_info = pd.concat([sample_info, new_sample_info], axis=0, sort=True)\n",
    "sample_info = sample_info.rename(columns={\"entity:sample_id\":'sample_id'})\n",
    "sample_info.drop(['readgroup_ubams'], axis=1, inplace=True)\n",
    "sample_info = sample_info.set_index('sample_id')\n",
    "sample_info.index.name = 'entity:sample_id' ## check: maybe delete this\n",
    "sample_info.drop(['Unnamed: 6'], axis = 1, inplace=True)\n",
    "print(sample_info.shape)"
   ]
  },
  {
   "cell_type": "code",
   "execution_count": null,
   "metadata": {},
   "outputs": [],
   "source": [
    "# Run this chunk to save the sample_info TSV to a file. I highly recommend this when running a pipeline on a new batch.\n",
    "# This way, if anything goes wrong in the workspace, you can fall back to this.\n",
    "filepath = '../workspace_safety/DepMap_WES_CN_hg38/v4/%s_sample_info.tsv' % 'edited_'\n",
    "sample_info.to_csv(filepath, sep='\\t')"
   ]
  },
  {
   "cell_type": "code",
   "execution_count": null,
   "metadata": {},
   "outputs": [],
   "source": [
    "# read in the file you just saved\n",
    "filepath = '../workspace_safety/DepMap_WES_CN_hg38/v4/%s_sample_info.tsv' % 'edited_'\n",
    "sample_info = pd.read_csv(filepath, sep = '\\t', na_filter = False)\n",
    "sample_info = sample_info.set_index('entity:sample_id')\n",
    "sample_info.index.name = 'sample_id' ## check: maybe delete this\n",
    "sample_info = sample_info.reset_index()\n",
    "sample_info = sample_info.set_index('sample_id')\n",
    "\n",
    "print(sample_info.shape)\n",
    "sample_info.head()"
   ]
  },
  {
   "cell_type": "code",
   "execution_count": null,
   "metadata": {},
   "outputs": [],
   "source": [
    "# upload the TSVs\n",
    "print(\"uploading new samples from tsv...\")\n",
    "refwm.upload_samples(sample_info)\n",
    "# if not \"NA\" in refwm.get_samples().index.tolist():\n",
    "#     refwm.upload_samples(pd.DataFrame({'sample_id':['NA'], 'participant_id':['NA']}).set_index('sample_id'))"
   ]
  },
  {
   "cell_type": "markdown",
   "metadata": {},
   "source": [
    "## Uploading sample_set tsv to Terra from local file"
   ]
  },
  {
   "cell_type": "code",
   "execution_count": null,
   "metadata": {},
   "outputs": [],
   "source": [
    "sampleset_members = pd.read_csv('../workspace_safety/DepMap_WES_CN_hg38/v4/sample_set/sample_set_membership.tsv', sep = \"\\t\",na_filter= False)\n",
    "sampleset_members = sampleset_members.rename(columns={\"membership:sample_set_id\":'sample_set_id'})\n",
    "sampleset_members = sampleset_members.set_index('sample_set_id')\n",
    "\n",
    "sampleset_entity = pd.read_csv('../workspace_safety/DepMap_WES_CN_hg38/v4/sample_set/sample_set_entity.tsv', sep = \"\\t\", na_filter= False)\n",
    "sampleset_entity = sampleset_entity.set_index('entity:sample_set_id')"
   ]
  },
  {
   "cell_type": "code",
   "execution_count": null,
   "metadata": {},
   "outputs": [],
   "source": [
    "print(\"uploading sample_sets from tsvs...\")\n",
    "refname_work = refnamespace + '/' + refworkspace\n",
    "# upload sample set entity\n",
    "refwm.upload_entities('sample_set', sampleset_entity)\n",
    "\n",
    "# upload sample set membership\n",
    "grouped = sampleset_members.groupby('sample_set_id')\n",
    "for name, group in grouped:\n",
    "    try:\n",
    "        terra.addToSampleSet(refname_work, samplesetid = name, samples = list(group['sample']))\n",
    "    except KeyError:\n",
    "        refwm.update_sample_set(name, list(group['sample']))"
   ]
  },
  {
   "cell_type": "code",
   "execution_count": null,
   "metadata": {},
   "outputs": [],
   "source": []
  }
 ],
 "metadata": {
  "kernelspec": {
   "display_name": "Python 3",
   "language": "python",
   "name": "python3"
  },
  "language_info": {
   "codemirror_mode": {
    "name": "ipython",
    "version": 3
   },
   "file_extension": ".py",
   "mimetype": "text/x-python",
   "name": "python",
   "nbconvert_exporter": "python",
   "pygments_lexer": "ipython3",
   "version": "3.7.4"
  },
  "toc": {
   "base_numbering": 1,
   "nav_menu": {},
   "number_sections": true,
   "sideBar": true,
   "skip_h1_title": false,
   "title_cell": "Table of Contents",
   "title_sidebar": "Contents",
   "toc_cell": false,
   "toc_position": {},
   "toc_section_display": true,
   "toc_window_display": true
  }
 },
 "nbformat": 4,
 "nbformat_minor": 2
}
