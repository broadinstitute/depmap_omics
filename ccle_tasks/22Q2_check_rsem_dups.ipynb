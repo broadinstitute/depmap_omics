{
 "cells": [
  {
   "cell_type": "code",
   "execution_count": null,
   "id": "28501994",
   "metadata": {},
   "outputs": [],
   "source": [
    "import pandas as pd\n",
    "from genepy.utils import helper as h\n",
    "import numpy as np"
   ]
  },
  {
   "cell_type": "code",
   "execution_count": null,
   "id": "568581df",
   "metadata": {},
   "outputs": [],
   "source": [
    "old_rsem_genes_tpm = pd.read_csv(\"gs://fc-secure-d6345f68-81ef-475e-95e0-1e3a8e925f61/ddaac348-0b3e-4f3a-b85e-603f1f090d43/RNA_aggregate/23ef35d1-c4e6-47e5-98b1-b966a859f7f9/call-rsem_aggregate_results/all.rsem_genes_expected_count.txt.gz\", sep='\\t')\n",
    "old_rsem_genes_tpm = old_rsem_genes_tpm[(old_rsem_genes_tpm.sum(1) != 0) & (old_rsem_genes_tpm.var(1) != 0)]\n",
    "old_rsem_genes_tpm"
   ]
  },
  {
   "cell_type": "code",
   "execution_count": null,
   "id": "b677f452",
   "metadata": {},
   "outputs": [],
   "source": [
    "final_rsem_genes_tpm = pd.read_csv(\"gs://fc-secure-639c94ba-2b0d-4960-92fc-9cd50046a968/f698468d-ac97-4303-9ef2-ca25058a7382/RNA_aggregate/77ce446d-f9e6-43d8-b411-3a31241988d7/call-rsem_aggregate_results/all.rsem_genes_tpm.txt.gz\", sep='\\t')\n",
    "final_rsem_genes_tpm = final_rsem_genes_tpm[(final_rsem_genes_tpm.sum(1) != 0) & (final_rsem_genes_tpm.var(1) != 0)]\n",
    "final_rsem_genes_tpm"
   ]
  },
  {
   "cell_type": "code",
   "execution_count": null,
   "id": "bd8fa729",
   "metadata": {},
   "outputs": [],
   "source": [
    "r = [i.split(\".\")[0] for i in final_rsem_genes_tpm['gene_id']]\n",
    "dup = h.dups(r)"
   ]
  },
  {
   "cell_type": "code",
   "execution_count": null,
   "id": "e848fe40",
   "metadata": {},
   "outputs": [],
   "source": [
    "mybiomart = h.generateGeneNames(ensemble_server='http://nov2020.archive.ensembl.org/biomart', useCache=True)\n",
    "# creating renaming index, keeping top name first\n",
    "gene_rename = {}\n",
    "for _, i in mybiomart.iterrows():\n",
    "    if i.ensembl_gene_id not in gene_rename:\n",
    "        gene_rename.update(\n",
    "            {i.ensembl_gene_id: i.hgnc_symbol + \" (\" + i.ensembl_gene_id + \")\"}\n",
    "        )\n",
    "protcod_rename = {}\n",
    "for _, i in mybiomart[\n",
    "    (~mybiomart.entrezgene_id.isna()) & (mybiomart.gene_biotype == \"protein_coding\")\n",
    "].iterrows():\n",
    "    if i.ensembl_gene_id not in protcod_rename:\n",
    "        protcod_rename.update(\n",
    "            {\n",
    "                i.ensembl_gene_id: i.hgnc_symbol\n",
    "                + \" (\"\n",
    "                + str(int(i.entrezgene_id))\n",
    "                + \")\"\n",
    "            }\n",
    "        )"
   ]
  },
  {
   "cell_type": "code",
   "execution_count": null,
   "id": "56d3eff9",
   "metadata": {},
   "outputs": [],
   "source": [
    "len(mybiomart[mybiomart.ensembl_gene_id.isin(dup)])"
   ]
  },
  {
   "cell_type": "code",
   "execution_count": null,
   "id": "cd9d07cc",
   "metadata": {},
   "outputs": [],
   "source": [
    "startswith(mybiomart[mybiomart.ensembl_gene_id == 'ENSG00000002586'].hgnc_symbol)"
   ]
  },
  {
   "cell_type": "code",
   "execution_count": null,
   "id": "f7a106f7",
   "metadata": {},
   "outputs": [],
   "source": [
    "from taigapy import TaigaClient\n",
    "tc = TaigaClient()\n",
    "\n",
    "genes_tpm_logp1 = tc.get(name='expression-d035', version=21, file='genes_tpm_logp1')"
   ]
  },
  {
   "cell_type": "code",
   "execution_count": null,
   "id": "2ad45a3e",
   "metadata": {},
   "outputs": [],
   "source": [
    "from gsheets import Sheets\n",
    "SHEETCREDS = \"../.credentials.json\"\n",
    "MY_ID = \"~/.client_secret.json\"\n",
    "MYSTORAGE_ID = \"~/.storage.json\"\n",
    "REFSHEET_URL = \"https://docs.google.com/spreadsheets/d/1Pgb5fIClGnErEqzxpU7qqX6ULpGTDjvzWwDN8XUJKIY\"\n",
    "\n",
    "t = Sheets.from_files(MY_ID, MYSTORAGE_ID).get(REFSHEET_URL).sheets[0].to_frame(index_col=0)\n",
    "\n",
    "for d in dup:\n",
    "    s = final_rsem_genes_tpm[final_rsem_genes_tpm.gene_id.str.startswith(d)].iloc[:, 2:]\n",
    "    if s.duplicated().sum() != 1:\n",
    "        print('DUP ENSEMBL ID: ', d)\n",
    "        diff = s.diff().T\n",
    "        idx = diff.columns[-1]\n",
    "        for i in diff[diff[idx] != 0].index:\n",
    "            print('non-NA CDS id: ', i)\n",
    "            arxs = t.loc[i].arxspan_id\n",
    "            colname = mybiomart[mybiomart.ensembl_gene_id == d].hgnc_symbol + \" (\" + d + \")\"\n",
    "            print('expression level in previous genes_tpm_logp1: ', float(genes_tpm_logp1.loc[arxs, colname]))\n",
    "            print('expression level in current aggregation: ')\n",
    "            print(final_rsem_genes_tpm[final_rsem_genes_tpm.gene_id.str.startswith(d)].gene_id.tolist()[0], np.log2(s[i].tolist()[0] + 1))\n",
    "            print(final_rsem_genes_tpm[final_rsem_genes_tpm.gene_id.str.startswith(d)].gene_id.tolist()[1], np.log2(s[i].tolist()[1] + 1))\n",
    "            print(\"combined: \", np.log2(s[i].tolist()[0] + s[i].tolist()[1] + 1), '\\n')\n",
    "            "
   ]
  },
  {
   "cell_type": "code",
   "execution_count": null,
   "id": "4fea25c1",
   "metadata": {},
   "outputs": [],
   "source": [
    "from gsheets import Sheets\n",
    "SHEETCREDS = \"../.credentials.json\"\n",
    "MY_ID = \"~/.client_secret.json\"\n",
    "MYSTORAGE_ID = \"~/.storage.json\"\n",
    "REFSHEET_URL = \"https://docs.google.com/spreadsheets/d/1Pgb5fIClGnErEqzxpU7qqX6ULpGTDjvzWwDN8XUJKIY\"\n",
    "\n",
    "genes_tpm = tc.get(name='expression-d035', version=21, file='genes_tpm')\n",
    "t = Sheets.from_files(MY_ID, MYSTORAGE_ID).get(REFSHEET_URL).sheets[0].to_frame(index_col=0)\n",
    "\n",
    "for d in dup:\n",
    "    s = final_rsem_genes_tpm[final_rsem_genes_tpm.gene_id.str.startswith(d)].iloc[:, 2:]\n",
    "    if s.duplicated().sum() != 1:\n",
    "        print('DUP ENSEMBL ID: ', d)\n",
    "        diff = s.diff().T\n",
    "        idx = diff.columns[-1]\n",
    "        for i in diff[diff[idx] != 0].index:\n",
    "            print('non-NA CDS id: ', i)\n",
    "            arxs = t.loc[i].arxspan_id\n",
    "            colname = mybiomart[mybiomart.ensembl_gene_id == d].hgnc_symbol + \" (\" + d + \")\"\n",
    "            print('expression level in previous genes_tpm: ', float(genes_tpm.loc[arxs, colname]))\n",
    "            print('expression level in current aggregation: ')\n",
    "            print(final_rsem_genes_tpm[final_rsem_genes_tpm.gene_id.str.startswith(d)].gene_id.tolist()[0], s[i].tolist()[0])\n",
    "            print(final_rsem_genes_tpm[final_rsem_genes_tpm.gene_id.str.startswith(d)].gene_id.tolist()[1], s[i].tolist()[1])\n",
    "            print(\"combined: \", s[i].tolist()[0] + s[i].tolist()[1], '\\n')\n",
    "            "
   ]
  },
  {
   "cell_type": "code",
   "execution_count": null,
   "id": "3e9c1e8c",
   "metadata": {},
   "outputs": [],
   "source": [
    "final_rsem_genes_tpm[final_rsem_genes_tpm.gene_id.str.startswith('ENSG00000002586')].iloc[:, 2:]"
   ]
  },
  {
   "cell_type": "code",
   "execution_count": null,
   "id": "8ae44298",
   "metadata": {},
   "outputs": [],
   "source": [
    "final_rsem_genes_tpm[final_rsem_genes_tpm.gene_id.str.startswith('ENSG00000002586')].loc[:, 'CDS-Et3K1I']"
   ]
  },
  {
   "cell_type": "code",
   "execution_count": null,
   "id": "7887f490",
   "metadata": {},
   "outputs": [],
   "source": [
    "final_rsem_genes_tpm.loc[23]"
   ]
  },
  {
   "cell_type": "code",
   "execution_count": null,
   "id": "7aa0fee5",
   "metadata": {},
   "outputs": [],
   "source": [
    "mybiomart[mybiomart.ensembl_gene_id == 'ENSG00000002586']"
   ]
  },
  {
   "cell_type": "code",
   "execution_count": null,
   "id": "0e79eecd",
   "metadata": {},
   "outputs": [],
   "source": [
    "genes_tpm.loc['ACH-001113', 'CD99 (ENSG00000002586)']"
   ]
  },
  {
   "cell_type": "code",
   "execution_count": null,
   "id": "a3e00358",
   "metadata": {},
   "outputs": [],
   "source": [
    "rsem_genes_expected_count = pd.read_csv(\"gs://fc-secure-639c94ba-2b0d-4960-92fc-9cd50046a968/f698468d-ac97-4303-9ef2-ca25058a7382/RNA_aggregate/77ce446d-f9e6-43d8-b411-3a31241988d7/call-rsem_aggregate_results/all.rsem_genes_expected_count.txt.gz\", sep='\\t')\n",
    "rsem_genes_expected_count = rsem_genes_expected_count[(rsem_genes_expected_count.sum(1) != 0) & (rsem_genes_expected_count.var(1) != 0)]\n",
    "rsem_genes_expected_count\n"
   ]
  },
  {
   "cell_type": "code",
   "execution_count": null,
   "id": "f08e319b",
   "metadata": {},
   "outputs": [],
   "source": [
    "rsem_genes_expected_count[rsem_genes_expected_count.gene_id.str.endswith('_PAR_Y')]"
   ]
  },
  {
   "cell_type": "code",
   "execution_count": null,
   "id": "70f5aa46",
   "metadata": {},
   "outputs": [],
   "source": [
    "r = [i.split(\".\")[0] for i in rsem_genes_expected_count['gene_id']]\n",
    "dup = h.dups(r)"
   ]
  },
  {
   "cell_type": "code",
   "execution_count": null,
   "id": "93f1fdd7",
   "metadata": {},
   "outputs": [],
   "source": [
    "dup"
   ]
  },
  {
   "cell_type": "code",
   "execution_count": null,
   "id": "87434005",
   "metadata": {},
   "outputs": [],
   "source": [
    "from gsheets import Sheets\n",
    "SHEETCREDS = \"../.credentials.json\"\n",
    "MY_ID = \"~/.client_secret.json\"\n",
    "MYSTORAGE_ID = \"~/.storage.json\"\n",
    "REFSHEET_URL = \"https://docs.google.com/spreadsheets/d/1Pgb5fIClGnErEqzxpU7qqX6ULpGTDjvzWwDN8XUJKIY\"\n",
    "\n",
    "genes_expected_count = tc.get(name='expression-d035', version=21, file='genes_expected_count')\n",
    "t = Sheets.from_files(MY_ID, MYSTORAGE_ID).get(REFSHEET_URL).sheets[0].to_frame(index_col=0)\n",
    "\n",
    "for d in dup:\n",
    "    s = rsem_genes_expected_count[rsem_genes_expected_count.gene_id.str.startswith(d)].iloc[:, 2:]\n",
    "    if s.duplicated().sum() != 1:\n",
    "        print('DUP ENSEMBL ID: ', d)\n",
    "        diff = s.diff().T\n",
    "        idx = diff.columns[-1]\n",
    "        for i in diff[diff[idx] != 0].index:\n",
    "            print('non-NA CDS id: ', i)\n",
    "            arxs = t.loc[i].arxspan_id\n",
    "            colname = mybiomart[mybiomart.ensembl_gene_id == d].hgnc_symbol + \" (\" + d + \")\"\n",
    "            print('expression level in previous genes_tpm: ', float(genes_expected_count.loc[arxs, colname]))\n",
    "            print('expression level in current aggregation: ')\n",
    "            print(rsem_genes_expected_count[rsem_genes_expected_count.gene_id.str.startswith(d)].gene_id.tolist()[0], s[i].tolist()[0])\n",
    "            print(rsem_genes_expected_count[rsem_genes_expected_count.gene_id.str.startswith(d)].gene_id.tolist()[1], s[i].tolist()[1])\n",
    "            print(\"combined: \", s[i].tolist()[0] + s[i].tolist()[1], '\\n')\n",
    "            "
   ]
  },
  {
   "cell_type": "code",
   "execution_count": null,
   "id": "feda3b27",
   "metadata": {},
   "outputs": [],
   "source": [
    "# rsem_genes_expected_count = rsem_genes_expected_count.set_index(\"gene_id\")\n",
    "par_y_drop = []\n",
    "for d in dup:\n",
    "    idx = rsem_genes_expected_count[(rsem_genes_expected_count.index.str.startswith(d)) & (~rsem_genes_expected_count.index.str.endswith('_PAR_Y'))].index[0]\n",
    "    idx_par_y = rsem_genes_expected_count[(rsem_genes_expected_count.index.str.startswith(d)) & (rsem_genes_expected_count.index.str.endswith('_PAR_Y'))].index[0]\n",
    "    rsem_genes_expected_count.loc[idx] = rsem_genes_expected_count.loc[[idx, idx_par_y], :].sum()\n",
    "    par_y_drop.append(idx_par_y)\n",
    "rsem_genes_expected_count = rsem_genes_expected_count.drop(index=par_y_drop)"
   ]
  },
  {
   "cell_type": "code",
   "execution_count": null,
   "id": "c625d9c4",
   "metadata": {},
   "outputs": [],
   "source": [
    "idx"
   ]
  },
  {
   "cell_type": "code",
   "execution_count": null,
   "id": "46f153c7",
   "metadata": {},
   "outputs": [],
   "source": [
    "rsem_genes_expected_count.loc['ENSG00000002586.20', 'transcript_id(s)']"
   ]
  },
  {
   "cell_type": "code",
   "execution_count": null,
   "id": "24467d35",
   "metadata": {},
   "outputs": [],
   "source": [
    "rsem_transcripts_expected_count = pd.read_csv(\"gs://fc-secure-639c94ba-2b0d-4960-92fc-9cd50046a968/f698468d-ac97-4303-9ef2-ca25058a7382/RNA_aggregate/77ce446d-f9e6-43d8-b411-3a31241988d7/call-rsem_aggregate_results/all.rsem_transcripts_expected_count.txt.gz\", sep='\\t')\n",
    "rsem_transcripts_expected_count = rsem_transcripts_expected_count[(rsem_transcripts_expected_count.sum(1) != 0) & (rsem_transcripts_expected_count.var(1) != 0)]\n",
    "rsem_transcripts_expected_count\n"
   ]
  },
  {
   "cell_type": "code",
   "execution_count": null,
   "id": "96c54756",
   "metadata": {},
   "outputs": [],
   "source": [
    "rsem_transcripts_expected_count[rsem_transcripts_expected_count.gene_id.str.startswith('ENSG00000002586.20')]"
   ]
  },
  {
   "cell_type": "code",
   "execution_count": null,
   "id": "dd66e42a",
   "metadata": {},
   "outputs": [],
   "source": [
    "r = [i.split(\".\")[0] for i in rsem_transcripts_expected_count.transcript_id]\n",
    "dup = h.dups(r)\n",
    "dup"
   ]
  },
  {
   "cell_type": "code",
   "execution_count": null,
   "id": "527b2a2b",
   "metadata": {},
   "outputs": [],
   "source": [
    "rsem_transcripts_expected_count[rsem_transcripts_expected_count.gene_id.str.startswith('ENSG00000010030')]"
   ]
  },
  {
   "cell_type": "code",
   "execution_count": null,
   "id": "72c6ee63",
   "metadata": {},
   "outputs": [],
   "source": [
    "old_rsem_transcripts_expected_count = pd.read_csv(\"gs://fc-secure-639c94ba-2b0d-4960-92fc-9cd50046a968/efcf68f6-73a8-4d28-9200-99e2f8e9a84d/rsem_aggregate_results_workflow/a75ed264-7e9d-4c4d-b74b-7a74adc71e69/call-rsem_aggregate_results/all.rsem_transcripts_expected_count.txt.gz\", sep='\\t')\n",
    "old_rsem_transcripts_expected_count = old_rsem_transcripts_expected_count[(old_rsem_transcripts_expected_count.sum(1) != 0) & (old_rsem_transcripts_expected_count.var(1) != 0)]\n",
    "old_rsem_transcripts_expected_count\n",
    "\n"
   ]
  },
  {
   "cell_type": "code",
   "execution_count": null,
   "id": "0ceabc09",
   "metadata": {},
   "outputs": [],
   "source": [
    "transcripts_expected_count = tc.get(name='expression-d035', version=21, file='transcripts_expected_count')\n"
   ]
  },
  {
   "cell_type": "code",
   "execution_count": null,
   "id": "fccad822",
   "metadata": {},
   "outputs": [],
   "source": [
    "transcripts_expected_count.loc['ACH-001113', 'CD99 (ENST00000381177)']"
   ]
  },
  {
   "cell_type": "code",
   "execution_count": null,
   "id": "60682e53",
   "metadata": {},
   "outputs": [],
   "source": [
    "transcripts_expected_count.columns.endswith('ENSG00000002586')"
   ]
  },
  {
   "cell_type": "code",
   "execution_count": null,
   "id": "adcb7744",
   "metadata": {},
   "outputs": [],
   "source": []
  },
  {
   "cell_type": "code",
   "execution_count": null,
   "id": "a37a2490",
   "metadata": {},
   "outputs": [],
   "source": [
    "transcripts_expected_count"
   ]
  },
  {
   "cell_type": "code",
   "execution_count": null,
   "id": "2c53ecf8",
   "metadata": {},
   "outputs": [],
   "source": [
    "final_rsem_genes_tpm[final_rsem_genes_tpm.gene_id.str.startswith(\"ENSG00000277203\")]"
   ]
  },
  {
   "cell_type": "code",
   "execution_count": null,
   "id": "21b5aadc",
   "metadata": {},
   "outputs": [],
   "source": [
    "old_rsem_genes_tpm[old_rsem_genes_tpm.gene_id.str.startswith(\"ENSG00000277203\")]"
   ]
  },
  {
   "cell_type": "code",
   "execution_count": null,
   "id": "1df2b9cb",
   "metadata": {},
   "outputs": [],
   "source": [
    "mybiomart[mybiomart.hgnc_symbol == 'F8A1']"
   ]
  },
  {
   "cell_type": "code",
   "execution_count": null,
   "id": "0e26c252",
   "metadata": {},
   "outputs": [],
   "source": [
    "from taigapy import TaigaClient\n",
    "tc = TaigaClient()\n",
    "\n",
    "CCLE_expression_old = tc.get(name='internal-22q1-1778', version=24, file='CCLE_expression')"
   ]
  },
  {
   "cell_type": "code",
   "execution_count": null,
   "id": "52fa5c83",
   "metadata": {},
   "outputs": [],
   "source": [
    "CCLE_expression_new = tc.get(name='tentative-virtual-d84e', version=53, file='CCLE_expression')"
   ]
  },
  {
   "cell_type": "code",
   "execution_count": null,
   "id": "cba4fc6b",
   "metadata": {},
   "outputs": [],
   "source": [
    "CCLE_expression_new"
   ]
  },
  {
   "cell_type": "code",
   "execution_count": null,
   "id": "c0f72723",
   "metadata": {},
   "outputs": [],
   "source": [
    "from depmapomics.qc.test_compare_to_ref_release import (\n",
    "    FILE_ATTRIBUTES_PAIRED,\n",
    "    PREV_RELEASE,\n",
    "    NEW_RELEASE,\n",
    "    data,\n",
    "    get_both_releases_from_taiga,\n",
    ")\n",
    "\n",
    "def get_data_stack(file, number_of_points=100000, random_state=0):\n",
    "    data1, data2 = CCLE_expression_old, CCLE_expression_new\n",
    "\n",
    "    row = set(data1.index) & set(data2.index)\n",
    "    col = set(data1.columns) & set(data2.columns)\n",
    "\n",
    "    data1_stack = data1.loc[row, col].stack()\n",
    "    data2_stack = data2.loc[row, col].stack()\n",
    "\n",
    "    if number_of_points > 0:\n",
    "        data1_stack = data1_stack.sample(number_of_points)\n",
    "\n",
    "    idx = list(set(data1_stack.index) & set(data2_stack.index))\n",
    "\n",
    "    data1_stack = data1_stack.loc[idx]\n",
    "    data2_stack = data2_stack.loc[idx]\n",
    "\n",
    "    data_stack = pd.concat([data1_stack, data2_stack], axis=1)\n",
    "\n",
    "    cols = [\n",
    "        \"{:s}.{:d}\".format(PREV_RELEASE[\"name\"], PREV_RELEASE[\"version\"]),\n",
    "        \"{:s}.{:d}\".format(NEW_RELEASE[\"name\"], NEW_RELEASE[\"version\"]),\n",
    "    ]\n",
    "    data_stack.columns = cols\n",
    "    data_stack.reset_index(inplace=True)\n",
    "    data_stack.rename(columns={\"level_0\": \"DepMap_ID\", \"level_1\": \"gene\"}, inplace=True)\n",
    "    return data_stack, cols"
   ]
  },
  {
   "cell_type": "code",
   "execution_count": null,
   "id": "59aafca6",
   "metadata": {},
   "outputs": [],
   "source": [
    "data_stack, cols = get_data_stack(\"\")\n",
    "data_stack"
   ]
  },
  {
   "cell_type": "code",
   "execution_count": null,
   "id": "9dbeda9d",
   "metadata": {},
   "outputs": [],
   "source": [
    "data_stack[(data_stack['internal-22q1-1778.24'] < 2.5) & (data_stack['tentative-virtual-d84e.53'] > 7.5)]"
   ]
  },
  {
   "cell_type": "code",
   "execution_count": null,
   "id": "b002d714",
   "metadata": {},
   "outputs": [],
   "source": [
    "data_stack, cols = get_data_stack(\"\")\n",
    "data_stack[(data_stack['internal-22q1-1778.24'] < 2.5) & (data_stack['tentative-virtual-d84e.53'] > 7.5)]"
   ]
  },
  {
   "cell_type": "code",
   "execution_count": null,
   "id": "9afaf485",
   "metadata": {},
   "outputs": [],
   "source": [
    "data_stack, cols = get_data_stack(\"\")\n",
    "data_stack[(data_stack['internal-22q1-1778.24'] < 2.5) & (data_stack['tentative-virtual-d84e.53'] > 7.5)]"
   ]
  },
  {
   "cell_type": "code",
   "execution_count": null,
   "id": "070cf7bb",
   "metadata": {},
   "outputs": [],
   "source": [
    "data_stack, cols = get_data_stack(\"\")\n",
    "data_stack[(data_stack['internal-22q1-1778.24'] < 2.5) & (data_stack['tentative-virtual-d84e.53'] > 7.5)]"
   ]
  },
  {
   "cell_type": "code",
   "execution_count": null,
   "id": "acf0a1d1",
   "metadata": {},
   "outputs": [],
   "source": [
    "data_stack, cols = get_data_stack(\"\")\n",
    "data_stack[(data_stack['internal-22q1-1778.24'] < 2.5) & (data_stack['tentative-virtual-d84e.53'] > 7.5)]"
   ]
  },
  {
   "cell_type": "code",
   "execution_count": null,
   "id": "483fff82",
   "metadata": {},
   "outputs": [],
   "source": [
    "CCLE_expression = tc.get(name='tentative-virtual-d84e', version=53, file='CCLE_expression')\n",
    "'RPL36A-HNRNPH2 (100529097)' in CCLE_expression.columns"
   ]
  },
  {
   "cell_type": "code",
   "execution_count": null,
   "id": "f34d89da",
   "metadata": {},
   "outputs": [],
   "source": []
  }
 ],
 "metadata": {
  "kernelspec": {
   "display_name": "Python 3",
   "language": "python",
   "name": "python3"
  },
  "language_info": {
   "codemirror_mode": {
    "name": "ipython",
    "version": 3
   },
   "file_extension": ".py",
   "mimetype": "text/x-python",
   "name": "python",
   "nbconvert_exporter": "python",
   "pygments_lexer": "ipython3",
   "version": "3.8.2"
  }
 },
 "nbformat": 4,
 "nbformat_minor": 5
}
