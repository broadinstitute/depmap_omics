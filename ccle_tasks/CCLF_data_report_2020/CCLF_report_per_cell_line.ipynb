{
 "cells": [
  {
   "cell_type": "markdown",
   "metadata": {},
   "source": [
    "# Produce CCLF report with all information for each specified cell line\n",
    "The goal of this notebook is to be able to create a unified HTML report for either:\n",
    "1. All CN and SNV data for a single participant (e.g. PEDS172) across the targeted probe data and WES data\n",
    "    + Different culture conditions, passage number, tumor tissue vs cell line, etc.\n",
    "2. All CN and SNV data for a single patient ID across the targeted probe data and WES data\n",
    "\n",
    "Both of these will make it easier for collaborators and Moony Tseng to analyse the existing data and determine what the next steps should be. The goal is to best serve these individuals and groups."
   ]
  },
  {
   "cell_type": "markdown",
   "metadata": {},
   "source": [
    "## Acquire / produce all the data for mutations and copy number\n",
    "Pull from CCLF_WES and the most updated TSCA workspace. Currently, trying to transition to CCLF_targeted. "
   ]
  },
  {
   "cell_type": "code",
   "execution_count": null,
   "metadata": {},
   "outputs": [],
   "source": [
    "from __future__ import print_function\n",
    "import os.path\n",
    "# import os\n",
    "import dalmatian as dm\n",
    "import pandas as pd\n",
    "import numpy as np\n",
    "import sys\n",
    "sys.path.insert(0, '../../JKBio/')\n",
    "import TerraFunction as terra\n",
    "import CCLF_processing\n",
    "%load_ext autoreload\n",
    "%autoreload 2\n",
    "%load_ext rpy2.ipython\n",
    "from IPython.display import Image, display, HTML\n",
    "import ipdb"
   ]
  },
  {
   "cell_type": "code",
   "execution_count": null,
   "metadata": {},
   "outputs": [],
   "source": [
    "## widgets\n",
    "# !pip install -U -q ipywidgets\n",
    "# !jupyter nbextension enable --py widgetsnbextension\n",
    "\n",
    "## qgrid for interactive plots\n",
    "# !pip install qgrid\n",
    "# !jupyter nbextension enable --py --sys-prefix qgrid"
   ]
  },
  {
   "cell_type": "code",
   "execution_count": null,
   "metadata": {},
   "outputs": [],
   "source": [
    "import qgrid # interactive tables\n",
    "import ipywidgets as widgets\n",
    "from ipywidgets import interact, interact_manual\n",
    "import gcsfs # to be able to read in files from GCS in Python\n",
    "\n",
    "# # Extra options\n",
    "# pd.options.display.max_rows = 30\n",
    "# pd.options.display.max_columns = 25\n",
    "qgrid.set_grid_option('maxVisibleRows', 10)\n",
    "\n",
    "# # Show all code cells outputs\n",
    "# from IPython.core.interactiveshell import InteractiveShell\n",
    "# InteractiveShell.ast_node_interactivity = 'all'"
   ]
  },
  {
   "cell_type": "code",
   "execution_count": null,
   "metadata": {},
   "outputs": [],
   "source": [
    "cwd = os.getcwd()\n",
    "print(cwd)"
   ]
  },
  {
   "cell_type": "code",
   "execution_count": null,
   "metadata": {},
   "outputs": [],
   "source": [
    "specificSamples_both = [\"CCLF_PEDS1012\",\n",
    "                   \"PEDS172\",\n",
    "                   \"PEDS182\",\n",
    "                   \"PEDS196\",\n",
    "                   \"PEDS204\"]\n",
    "specificSamples_onlyWES = [\"PEDS012\",\n",
    "                   \"PEDS018\",\n",
    "                   \"PEDS110\",\n",
    "                   \"PEDS117\"]\n",
    "specificSamples = specificSamples_both + specificSamples_onlyWES"
   ]
  },
  {
   "cell_type": "code",
   "execution_count": null,
   "metadata": {},
   "outputs": [],
   "source": [
    "df = '../../ccle_processing/ccle_tasks/data/kim_sept/kim_sample_disease_info.csv'\n",
    "\n",
    "df = \"/Users/gmiller/Documents/Work/GitHub/ccle_processing/ccle_tasks/data/kim_sept/kim_sample_disease_info.csv\""
   ]
  },
  {
   "cell_type": "code",
   "execution_count": null,
   "metadata": {},
   "outputs": [],
   "source": [
    "# gather all the existing files\n",
    "CCLF_processing.getReport(datadir = \"gs://cclf_results/targeted/test/\", specificlist = [\"PEDS172\"], specificlist_disease=df)\n",
    "# CCLF_processing.getReport(datadir = \"gs://cclf_results/targeted/kim_sept_6/\", specificlist = specificSamples, specificlist_disease=df)"
   ]
  },
  {
   "cell_type": "markdown",
   "metadata": {},
   "source": [
    "We want to create heat map style copy number plots for each participant. Want to have all the culture conditions, primary tissue, matched normal that exist side by side.\n",
    "\n",
    "We might have to make separate CN heat map for TSCA vs WES samples because can't create sample set containing both since they're in separate workspaces... or at least I think this is problematic. But maybe there's a workaround.\n",
    "\n",
    "* step 1: create sample set for each participant (add each sample_id to a sample set list?)\n",
    "   \n",
    "* step 2: create submission for each participant to generate the CN heat map\n",
    "    + Terra.waitForSubmission needed before step 3\n",
    "    + try/except style?\n",
    "* step 3: copy the image from the workspace into the output location"
   ]
  },
  {
   "cell_type": "code",
   "execution_count": null,
   "metadata": {},
   "outputs": [],
   "source": [
    "# create heat map style copy number plots for each participant\n",
    "# want to have all the culture conditions, primary tissue, matched normal that exist side by side\n",
    "\n",
    "# step 1: create sample set for each participant (add each sample_id to a sample set list?)\n",
    "# step 2: create submission for each participant to generate the CN heat map\n",
    "# - Terra.waitForSubmission needed before step 3\n",
    "# - try/except style?\n",
    "# step 3: copy the image from the workspace into the output location"
   ]
  },
  {
   "cell_type": "code",
   "execution_count": null,
   "metadata": {},
   "outputs": [],
   "source": [
    "# ! gsutil -m rm -r 'gs://cclf_results/targeted/test/'\n"
   ]
  },
  {
   "cell_type": "markdown",
   "metadata": {},
   "source": [
    "***\n",
    "***"
   ]
  },
  {
   "cell_type": "markdown",
   "metadata": {},
   "source": [
    "# Pretty report generation\n",
    "After grabbing and making all of the files we want for a given participant (e.g. PEDS182), we want to make a pretty, interactive report. This will be similar to a README except that we will directly embed tables and images. This involves using Jupyter widgets to create dropdown menus and the like. Here are the main functionalities I'd like:\n",
    "\n",
    "1. kable-like tables that are interactive: sorting, filtering, typing in text or numbers to search, (ability to download sorted/filtered table as a CSV?)\n",
    "2. ability to quickly go to any image in the directory. I want this so that the user can quickly look through the copy number maps (horizontal plots). Ideally, I'd like to be able to select which one(s) I'd like to view. This could be useful if they want to see two or more at once (i.e. to compare two treatment conditions).\n",
    "\n",
    "## Automate generation of separate Jupyter notebook for each participant\n",
    "To do this, we will use Papermill. Papermill automates notebook to notebook generation, and also executes the generated notebook. We may also want to convert the generated notebook to HTML. We can use *nbconvert* for this operation (see https://github.com/jupyter/nbconvert)."
   ]
  },
  {
   "cell_type": "code",
   "execution_count": null,
   "metadata": {},
   "outputs": [],
   "source": [
    "# path would be the participant-specific path\n",
    "path = \"gs://cclf_results/targeted/kim_sept_6/Alveolar_Rhabdomyosarcoma/PEDS172/\" \n",
    "# a list of file paths for the selected participant\n",
    "filepaths = ! gsutil ls -r {path}**\n",
    "\n",
    "# get all the tables in the bucket\n",
    "table_filepaths = ! gsutil ls -r {path}*.txt # check: will this search recursively for all .txt files?\n",
    "to_add = ! gsutil ls -r {path}*.tsv\n",
    "table_filepaths += to_add\n",
    "# get all the pngs in the bucket\n",
    "img_filepaths = ! gsutil ls -r {path}*.png\n",
    "\n",
    "# copy all the pngs in the bucket to a tmp folder\n",
    "tempdir='./temp/cclfreport/images/'\n",
    "! gsutil cp -r {path}*.png {tempdir} # copy images from google bucket to local temp folder\n",
    "local_img_filepaths = ! ls {tempdir}*.png\n",
    "os.chdir(tempdir)\n",
    "local_img_file_names = ! ls *.png # list of all pngs in tempdir\n",
    "os.chdir(cwd)"
   ]
  },
  {
   "cell_type": "code",
   "execution_count": null,
   "metadata": {},
   "outputs": [],
   "source": [
    "print(local_img_filepaths)\n",
    "print(local_img_file_names)"
   ]
  },
  {
   "cell_type": "code",
   "execution_count": null,
   "metadata": {},
   "outputs": [],
   "source": [
    "def make_interactive_table(filepath): # assuming single filepath\n",
    "    print(\"Table: \"+filepath[0])\n",
    "    data = pd.read_table(filepath[0])\n",
    "    qgrid_widget = qgrid.show_grid(data, show_toolbar=True, grid_options = {'forceFitColumns': False,\n",
    "    'defaultColumnWidth': 150})\n",
    "    display(qgrid_widget)\n",
    "    print(\"\\n\")"
   ]
  },
  {
   "cell_type": "markdown",
   "metadata": {},
   "source": [
    "# Sample information and identifiers\n",
    "This section details the external IDs for all the samples we discovered when searching the existing targeted probe data and WES data."
   ]
  },
  {
   "cell_type": "code",
   "execution_count": null,
   "metadata": {},
   "outputs": [],
   "source": [
    "all_external_ids = ! gsutil ls -r {path}*all_external_ids.tsv\n",
    "all_failed_external_ids = ! gsutil ls -r {path}*all_failed_external_ids.tsv\n",
    "# check: should I make them interactive??"
   ]
  },
  {
   "cell_type": "markdown",
   "metadata": {},
   "source": [
    "## Table: all external IDs"
   ]
  },
  {
   "cell_type": "code",
   "execution_count": null,
   "metadata": {},
   "outputs": [],
   "source": [
    "all_external_ids"
   ]
  },
  {
   "cell_type": "markdown",
   "metadata": {},
   "source": [
    "## Table: failed QC external IDs \n",
    "This table has the external IDs of all the samples that failed the depth of coverage QC in the targeted probe pipeline."
   ]
  },
  {
   "cell_type": "code",
   "execution_count": null,
   "metadata": {},
   "outputs": [],
   "source": [
    "all_failed_external_ids"
   ]
  },
  {
   "cell_type": "markdown",
   "metadata": {},
   "source": [
    "# Copy number data"
   ]
  },
  {
   "cell_type": "markdown",
   "metadata": {},
   "source": [
    "## Copy number heat maps\n",
    "There are two plots in this section, one for CN data from the targeted probe data and a second for CN data from WES data. To look at any one sample in more detail, look either at the corresponding horizontal CN plot or at the CN table.\n",
    "\n",
    "These tables are searchable and filterable, so just search for the sample of interest."
   ]
  },
  {
   "cell_type": "markdown",
   "metadata": {},
   "source": [
    "### Targeted CN heat map"
   ]
  },
  {
   "cell_type": "code",
   "execution_count": null,
   "metadata": {},
   "outputs": [],
   "source": []
  },
  {
   "cell_type": "markdown",
   "metadata": {},
   "source": [
    "### WES CN heat map"
   ]
  },
  {
   "cell_type": "code",
   "execution_count": null,
   "metadata": {},
   "outputs": [],
   "source": []
  },
  {
   "cell_type": "markdown",
   "metadata": {},
   "source": [
    "## Copy number horizontal plots"
   ]
  },
  {
   "cell_type": "markdown",
   "metadata": {},
   "source": [
    "Select the copy number plot you would like to display from the dropdown menu. The dropdown menu includes CN plots from both targeted probe (TSCA and TWIST) and WES data. The source of the data will be displayed on the title of the image. You can also refer to the table of all external IDs that maps each external ID to the source of the data.\n",
    "\n",
    "**check:** can I add a linked reference to this table so that they can quickly jump there? Might be best to just make it it's own section so that it shows up in the TOC.\n",
    "\n",
    "<!-- Note that to get nice dropdown menu names, I'm changing directories for now. There's probably a better way to do this. -->"
   ]
  },
  {
   "cell_type": "code",
   "execution_count": null,
   "metadata": {},
   "outputs": [],
   "source": [
    "os.chdir(tempdir)"
   ]
  },
  {
   "cell_type": "code",
   "execution_count": null,
   "metadata": {},
   "outputs": [],
   "source": [
    "# select image to display from dropdown menu    \n",
    "@interact\n",
    "def show_images(file=local_img_file_names): # can Image work with gcsfs/GCS file paths? no.\n",
    "    print(file)\n",
    "    display(Image(file))"
   ]
  },
  {
   "cell_type": "code",
   "execution_count": null,
   "metadata": {},
   "outputs": [],
   "source": [
    "## must change back to the main directory\n",
    "os.chdir(cwd)"
   ]
  },
  {
   "cell_type": "code",
   "execution_count": null,
   "metadata": {},
   "outputs": [],
   "source": [
    "# fdir = '/Users/gmiller/Documents/Pictures/'\n",
    "\n",
    "# @interact\n",
    "# def show_images(file=os.listdir(fdir)):\n",
    "#     print(fdir+file)\n",
    "#     display(Image(fdir+file))"
   ]
  },
  {
   "cell_type": "code",
   "execution_count": null,
   "metadata": {},
   "outputs": [],
   "source": [
    "# get the CN tables from the Google storage bucket\n",
    "tsca_cn = ! gsutil ls -r {path}*copy_number.tsv\n",
    "wes_cn = ! gsutil ls -r {path}*wes_copy_number.tsv"
   ]
  },
  {
   "cell_type": "markdown",
   "metadata": {},
   "source": [
    "## Targeted CN table"
   ]
  },
  {
   "cell_type": "code",
   "execution_count": null,
   "metadata": {},
   "outputs": [],
   "source": [
    "make_interactive_table(tsca_cn)"
   ]
  },
  {
   "cell_type": "markdown",
   "metadata": {},
   "source": [
    "## WES CN table"
   ]
  },
  {
   "cell_type": "code",
   "execution_count": null,
   "metadata": {},
   "outputs": [],
   "source": [
    "make_interactive_table(wes_cn)"
   ]
  },
  {
   "cell_type": "code",
   "execution_count": null,
   "metadata": {},
   "outputs": [],
   "source": [
    "# for i in [tsca_cn, wes_cn]:\n",
    "#     make_interactive_table(i)"
   ]
  },
  {
   "cell_type": "markdown",
   "metadata": {},
   "source": [
    "# Mutation data"
   ]
  },
  {
   "cell_type": "markdown",
   "metadata": {},
   "source": [
    "Below are interactive tables containing mutation information from the targeted probe data and the WES data. If there were multiple external IDs in eiter dataset, they have been combined into one table. The external_id column can be used to filter the data so only the mutations for a single external ID is displayed.\n",
    "\n",
    "Note that this report only includes samples from the targeted data that pass the depth of coverage QC. Samples that did not pass this QC are not included in this report, and their data is not included in the Google bucket. A list of the samples that failed this QC is included earlier in this document.\n",
    "\n",
    "Also, note that the below tables have been filtered such that keep equals True. What this means is that only the variants that passed the filtering steps in the pipeline are included in the tables below. However, the raw mutation TSVs included in the Google bucket contain all the variants regardless of whether keep is True or False if you are interested in that information.\n",
    "\n",
    "**check:** would be ideal to start with it automatically filtered, but allow for the filter to be removed if desired. Also, I should probably be smart about the ordering of the columns..."
   ]
  },
  {
   "cell_type": "code",
   "execution_count": null,
   "metadata": {},
   "outputs": [],
   "source": [
    "tsca_mut = ! gsutil ls -r {path}*mutation.tsv\n",
    "wes_mut = ! gsutil ls -r {path}*wes_mutations.tsv"
   ]
  },
  {
   "cell_type": "markdown",
   "metadata": {},
   "source": [
    "## Targeted mutation table"
   ]
  },
  {
   "cell_type": "code",
   "execution_count": null,
   "metadata": {},
   "outputs": [],
   "source": [
    "make_interactive_table(tsca_mut)"
   ]
  },
  {
   "cell_type": "markdown",
   "metadata": {},
   "source": [
    "## WES mutation table"
   ]
  },
  {
   "cell_type": "code",
   "execution_count": null,
   "metadata": {},
   "outputs": [],
   "source": [
    "make_interactive_table(wes_mut)"
   ]
  },
  {
   "cell_type": "code",
   "execution_count": null,
   "metadata": {},
   "outputs": [],
   "source": [
    "# for i in [tsca_mut, wes_mut]:\n",
    "#     make_interactive_table(i)"
   ]
  },
  {
   "cell_type": "code",
   "execution_count": null,
   "metadata": {},
   "outputs": [],
   "source": [
    "# data = pd.read_table(table_filepaths[4])\n",
    "# qgrid_widget = qgrid.show_grid(data, show_toolbar=True)\n",
    "# qgrid_widget"
   ]
  },
  {
   "cell_type": "markdown",
   "metadata": {},
   "source": [
    "## Dropdown, non-interactive tables\n",
    "I'm not convinced that this should be included unless I can get it to be interactive or sortable or something..."
   ]
  },
  {
   "cell_type": "code",
   "execution_count": null,
   "metadata": {},
   "outputs": [],
   "source": [
    "# select table to display from dropdown menu\n",
    "## doesn't work with the interactive tables, unfortunately.\n",
    "@interact\n",
    "def show_tables(file=table_filepaths):\n",
    "    print(file)\n",
    "    data = pd.read_table(file)\n",
    "    qgrid_widget = qgrid.show_grid(data, show_toolbar=True)\n",
    "    qgrid_widget\n",
    "    display(data)"
   ]
  },
  {
   "cell_type": "code",
   "execution_count": null,
   "metadata": {},
   "outputs": [],
   "source": [
    "## reading in image from GCS\n",
    "# method: https://pypi.org/project/fs-gcsfs/\n",
    "\n",
    "# from fs_gcsfs import GCSFS\n",
    "# gcsfs = GCSFS(bucket_name=\"cclf_results\")\n",
    "\n",
    "# gcsfs.fix_storage() # see https://fs-gcsfs.readthedocs.io/en/latest/#limitations\n",
    "# gcsfs.tree()\n",
    "\n",
    "# with open(\"/targeted/kim_sept_6/Alveolar_Rhabdomyosarcoma/PEDS172/PEDS172T_PF_AR5_p7_sample_statistics.txt\") as f:\n",
    "#     df = pd.read_csv(f)\n",
    "    \n",
    "# method: https://gcsfs.readthedocs.io/en/latest/\n",
    "# fs = gcsfs.GCSFileSystem(project='my-google-project')\n",
    "# fs.ls('my-bucket')\n",
    "# with fs.open('my-bucket/my-file.txt', 'rb') as f:\n",
    "#     df = pd.read_csv(f)\n",
    "#         display(f)\n",
    "\n",
    "# @interact\n",
    "# def show_images(file=filepaths): # can Image work with gcsfs/GCS file paths? It doesn't look like it.\n",
    "#     print(file)\n",
    "#     display(Image(file))"
   ]
  }
 ],
 "metadata": {
  "kernelspec": {
   "display_name": "Python 3",
   "language": "python",
   "name": "python3"
  },
  "language_info": {
   "codemirror_mode": {
    "name": "ipython",
    "version": 3
   },
   "file_extension": ".py",
   "mimetype": "text/x-python",
   "name": "python",
   "nbconvert_exporter": "python",
   "pygments_lexer": "ipython3",
   "version": "3.7.4"
  },
  "toc": {
   "base_numbering": 1,
   "nav_menu": {},
   "number_sections": true,
   "sideBar": true,
   "skip_h1_title": false,
   "title_cell": "Table of Contents",
   "title_sidebar": "Contents",
   "toc_cell": false,
   "toc_position": {
    "height": "calc(100% - 180px)",
    "left": "10px",
    "top": "150px",
    "width": "262px"
   },
   "toc_section_display": true,
   "toc_window_display": true
  }
 },
 "nbformat": 4,
 "nbformat_minor": 2
}
