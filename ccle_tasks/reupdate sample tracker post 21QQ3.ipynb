{
 "cells": [
  {
   "cell_type": "code",
   "execution_count": null,
   "metadata": {},
   "outputs": [],
   "source": [
    "from depmapomics import tracker\n",
    "from depmapomics.config_prod import *\n",
    "import dalmatian as dm\n",
    "from depmapomics import copynumbers as cn\n",
    "\n",
    "%reload_ext autoreload\n",
    "%autoreload 2"
   ]
  },
  {
   "cell_type": "code",
   "execution_count": null,
   "metadata": {},
   "outputs": [],
   "source": [
    "track = tracker.getTracker()\n"
   ]
  },
  {
   "cell_type": "code",
   "execution_count": null,
   "metadata": {},
   "outputs": [],
   "source": [
    "wm = dm.WorkspaceManager(WGSWORKSPACE)\n",
    "sam = wm.get_samples()"
   ]
  },
  {
   "cell_type": "code",
   "execution_count": null,
   "metadata": {},
   "outputs": [],
   "source": [
    "unk = track[(track.internal_bai_filepath.isna())&(track.datatype==\"wgs\")].index\n",
    "unk"
   ]
  },
  {
   "cell_type": "code",
   "execution_count": null,
   "metadata": {},
   "outputs": [],
   "source": [
    "cn.updateTracker(tracker=track, selected=unk, samplesetname=\"21Q3\", lowqual=[], procqc=PROCQC, bamqc=BAMQC, newgs=WGS_GCS_PATH_HG38, refworkspace=WGSWORKSPACE, sheetcreds=\"../../.credentials.json\", sheetname=\"ccle sample tracker\")"
   ]
  },
  {
   "cell_type": "code",
   "execution_count": null,
   "metadata": {},
   "outputs": [],
   "source": [
    "unk = track[(track.internal_bam_filepath.isna())&(track.datatype==\"rna\")].index\n",
    "unk"
   ]
  }
 ],
 "metadata": {
  "interpreter": {
   "hash": "bba30bad6dc2abd483aef1526473acfc7356ef9fe6d481727d10a1c0a97ae5c6"
  },
  "kernelspec": {
   "display_name": "Python 3.7.3 64-bit ('base': conda)",
   "name": "python3"
  },
  "language_info": {
   "codemirror_mode": {
    "name": "ipython",
    "version": 3
   },
   "file_extension": ".py",
   "mimetype": "text/x-python",
   "name": "python",
   "nbconvert_exporter": "python",
   "pygments_lexer": "ipython3",
   "version": "3.7.3"
  }
 },
 "nbformat": 4,
 "nbformat_minor": 2
}
