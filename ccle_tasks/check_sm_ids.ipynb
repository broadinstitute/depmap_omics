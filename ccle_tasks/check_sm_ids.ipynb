{
 "cells": [
  {
   "cell_type": "code",
   "execution_count": null,
   "id": "33d2b3a6",
   "metadata": {},
   "outputs": [],
   "source": [
    "from depmapomics.config import *\n",
    "from depmapomics.config_global import *\n",
    "from depmapomics import loading\n",
    "from depmapomics import tracker as track\n",
    "from gsheets import Sheets\n",
    "import dalmatian as dm"
   ]
  },
  {
   "cell_type": "code",
   "execution_count": null,
   "id": "53f16f3a",
   "metadata": {},
   "outputs": [],
   "source": [
    "extract = EXTRACT_DEFAULTS"
   ]
  },
  {
   "cell_type": "code",
   "execution_count": null,
   "id": "10cc844e",
   "metadata": {},
   "outputs": [],
   "source": [
    "# test run in WGS \n",
    "samples, unmapped = loading.loadFromTerraWorkspace(\"terra-broad-cancer-prod/DepMap_WGS\", extract[\"sm_id\"], \"SMIDReturned\", \"DEPMAP\", \"wgs\")"
   ]
  },
  {
   "cell_type": "code",
   "execution_count": null,
   "id": "d007c2b2",
   "metadata": {},
   "outputs": [],
   "source": [
    "unmapped"
   ]
  },
  {
   "cell_type": "code",
   "execution_count": null,
   "id": "51ef2fb2",
   "metadata": {},
   "outputs": [],
   "source": [
    "samples"
   ]
  },
  {
   "cell_type": "code",
   "execution_count": null,
   "id": "8e294dd1",
   "metadata": {},
   "outputs": [],
   "source": [
    "# test run in WGS depmap workspace:\n",
    "samples, unmapped = loading.loadFromTerraWorkspace(\"terra-broad-cancer-prod/DepMap_WGS\", extract[\"sm_id\"], \"SMIDReturned\", \"DEPMAP\", \"wgs\")"
   ]
  },
  {
   "cell_type": "code",
   "execution_count": null,
   "id": "738945b5",
   "metadata": {},
   "outputs": [],
   "source": [
    "samples"
   ]
  },
  {
   "cell_type": "code",
   "execution_count": null,
   "id": "7f98b7bf",
   "metadata": {},
   "outputs": [],
   "source": [
    "unmapped"
   ]
  },
  {
   "cell_type": "code",
   "execution_count": null,
   "id": "b97ed0e1",
   "metadata": {},
   "outputs": [],
   "source": [
    "table"
   ]
  },
  {
   "cell_type": "code",
   "execution_count": null,
   "id": "a9e2d477",
   "metadata": {},
   "outputs": [],
   "source": [
    "wm_depmap = dm.WorkspaceManager(\"terra-broad-cancer-prod/DepMap_WGS\")\n",
    "wm_ibm = dm.WorkspaceManager(\"terra-broad-cancer-prod/Getz_IBM_CellLines_WGS\")\n",
    "samples_depmap = wm_depmap.disable_hound().get_samples()\n",
    "samples_ibm = wm_ibm.disable_hound().get_samples()"
   ]
  },
  {
   "cell_type": "code",
   "execution_count": null,
   "id": "883c4306",
   "metadata": {},
   "outputs": [],
   "source": [
    "for i in table.index:\n",
    "    out_sm = table.loc[i, 'BSP_SAMPLE_ID_CSV']\n",
    "    alias = table.loc[i, 'Collaborator Participant ID']\n",
    "    is_ibm = table.loc[i, 'Title'].startswith('Getz')\n",
    "    if is_ibm:\n",
    "        terra_sm = samples_ibm[samples_ibm.individual_alias == alias].root_sample_id.to_string()\n",
    "        if out_sm == terra_sm:\n",
    "            print(alias, terra_sm, out_sm)\n",
    "    else:\n",
    "        terra_sm = samples_depmap[samples_depmap.individual_alias == alias].root_sample_id.to_string()\n",
    "        if out_sm == terra_sm:\n",
    "            print(alias, terra_sm, out_sm)\n",
    "        "
   ]
  },
  {
   "cell_type": "code",
   "execution_count": null,
   "id": "1193fde5",
   "metadata": {},
   "outputs": [],
   "source": [
    "is_depmap"
   ]
  },
  {
   "cell_type": "code",
   "execution_count": null,
   "id": "760e3999",
   "metadata": {},
   "outputs": [],
   "source": [
    "from taigapy import TaigaClient\n",
    "tc = TaigaClient()\n",
    "merged_somatic_mutations = tc.get(name='mutations-latest-ed72', version=26, file='merged_somatic_mutations')"
   ]
  },
  {
   "cell_type": "code",
   "execution_count": null,
   "id": "973b93c2",
   "metadata": {},
   "outputs": [],
   "source": [
    "neuro_lines = ['ACH-002818', 'ACH-002822', 'ACH-002825', 'ACH-002851', 'ACH-002828']"
   ]
  },
  {
   "cell_type": "code",
   "execution_count": null,
   "id": "4c4ad374",
   "metadata": {},
   "outputs": [],
   "source": [
    "merged_somatic_mutations[(merged_somatic_mutations.DepMap_ID.isin(neuro_lines)) & (merged_somatic_mutations.Hugo_Symbol.isin(['IDH1', 'IDH2']))]"
   ]
  },
  {
   "cell_type": "code",
   "execution_count": null,
   "id": "db153d0a",
   "metadata": {},
   "outputs": [],
   "source": [
    "merged_somatic_mutations.columns"
   ]
  },
  {
   "cell_type": "code",
   "execution_count": null,
   "id": "b2c67a04",
   "metadata": {},
   "outputs": [],
   "source": [
    "from depmapomics import tracker as track\n",
    "from gsheets import Sheets\n",
    "\n",
    "MY_ID = \"~/.client_secret.json\"\n",
    "MYSTORAGE_ID = \"~/.storage.json\"\n",
    "\n",
    "mytracker = track.SampleTracker()\n",
    "seq_table = mytracker.read_seq_table()\n",
    "ccletracker = (Sheets.from_files(MY_ID, MYSTORAGE_ID).get(\"https://docs.google.com/spreadsheets/d/1Pgb5fIClGnErEqzxpU7qqX6ULpGTDjvzWwDN8XUJKIY/edit#gid=1421309842\").sheets[0].to_frame(index_col=0))"
   ]
  },
  {
   "cell_type": "code",
   "execution_count": null,
   "id": "5cbd1d11",
   "metadata": {},
   "outputs": [],
   "source": [
    "for i in seq_table.index:\n",
    "    seq_table.loc[i, \"ExpectedType\"] = ccletracker.loc[i, 'datatype']"
   ]
  },
  {
   "cell_type": "code",
   "execution_count": null,
   "id": "5d0184c4",
   "metadata": {},
   "outputs": [],
   "source": [
    "mytracker.write_seq_table(seq_table)"
   ]
  },
  {
   "cell_type": "code",
   "execution_count": null,
   "id": "21fa1f1e",
   "metadata": {},
   "outputs": [],
   "source": [
    "from genepy.utils import helper as h\n",
    "\n",
    "\"CDS-\" + h.randomString(stringLength=6, stype=\"all\", withdigits=True)"
   ]
  },
  {
   "cell_type": "code",
   "execution_count": null,
   "id": "3fb6d01a",
   "metadata": {},
   "outputs": [],
   "source": [
    "seq_table.columns"
   ]
  },
  {
   "cell_type": "code",
   "execution_count": null,
   "id": "87dbcc43",
   "metadata": {},
   "outputs": [],
   "source": [
    "new = seq_table.append(samples, sort=False)\n",
    "new.columns"
   ]
  },
  {
   "cell_type": "code",
   "execution_count": null,
   "id": "587e6f8d",
   "metadata": {},
   "outputs": [],
   "source": [
    "for i in seq_table.index:\n",
    "    print(seq_table.loc[i, \"ProfileID\"].empty)"
   ]
  },
  {
   "cell_type": "code",
   "execution_count": null,
   "id": "232d8024",
   "metadata": {},
   "outputs": [],
   "source": [
    "seq_table.loc[\"CDS-NX3IYb\", \"ProfileID\"]"
   ]
  },
  {
   "cell_type": "code",
   "execution_count": null,
   "id": "6563ac91",
   "metadata": {},
   "outputs": [],
   "source": []
  }
 ],
 "metadata": {
  "kernelspec": {
   "display_name": "Python 3",
   "language": "python",
   "name": "python3"
  },
  "language_info": {
   "codemirror_mode": {
    "name": "ipython",
    "version": 3
   },
   "file_extension": ".py",
   "mimetype": "text/x-python",
   "name": "python",
   "nbconvert_exporter": "python",
   "pygments_lexer": "ipython3",
   "version": "3.8.2"
  }
 },
 "nbformat": 4,
 "nbformat_minor": 5
}
