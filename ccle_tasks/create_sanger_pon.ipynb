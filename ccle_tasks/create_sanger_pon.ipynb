{
 "cells": [
  {
   "cell_type": "code",
   "execution_count": null,
   "id": "7128a69a",
   "metadata": {},
   "outputs": [],
   "source": [
    "# extract sanger male normal lines from tracker\n",
    "\n",
    "from depmapomics.tracker import getTracker\n",
    "tracker = getTracker()\n",
    "sanger = tracker[(tracker['source'] == 'SANGER') & (tracker['primary_disease'].str.lower()=='normal')]\n",
    "assert (sanger['datatype'] == 'wes').all()\n",
    "\n",
    "sanger['sex'].value_counts()"
   ]
  },
  {
   "cell_type": "code",
   "execution_count": null,
   "id": "7d652c18",
   "metadata": {},
   "outputs": [],
   "source": [
    "sanger = sanger[sanger.sex == 'Male']\n",
    "sanger"
   ]
  },
  {
   "cell_type": "code",
   "execution_count": null,
   "id": "8506397c",
   "metadata": {},
   "outputs": [],
   "source": [
    "sanger = sanger[['internal_bam_filepath', 'internal_bai_filepath', 'participant_id']]\n",
    "sanger = sanger.rename(columns={'internal_bam_filepath': 'hg38_analysis_ready_bam', 'internal_bai_filepath': 'hg38_analysis_ready_bam_index'})\n",
    "sanger"
   ]
  },
  {
   "cell_type": "code",
   "execution_count": null,
   "id": "44a2012a",
   "metadata": {},
   "outputs": [],
   "source": [
    "# import the above lines to terra workspace broad-firecloud-ccle/DepMap_WES_PONS_hg38-copy\n",
    "from depmapomics import loading\n",
    "import dalmatian as dm\n",
    "\n",
    "refworkspace = 'broad-firecloud-ccle/DepMap_WES_PONS_hg38-copy'\n",
    "samplesetname = 'SANGER_XY'\n",
    "samples = sanger\n",
    "\n",
    "samples.index.name = 'sample_id'\n",
    "refwm = dm.WorkspaceManager(refworkspace).disable_hound()\n",
    "refwm.upload_samples(samples)\n",
    "\n",
    "#creating a sample set\n",
    "refwm.update_sample_set(sample_set_id=samplesetname,\n",
    "                      sample_ids=samples.index)\n"
   ]
  },
  {
   "cell_type": "code",
   "execution_count": null,
   "id": "6db04f70",
   "metadata": {},
   "outputs": [],
   "source": [
    "from genepy import terra\n",
    "\n",
    "submission_id = refwm.create_submission(\"CNV_Somatic_Panel_Workflow_Agilent_XY\", samplesetname)\n",
    "await terra.waitForSubmission(refworkspace, submission_id)"
   ]
  },
  {
   "cell_type": "code",
   "execution_count": null,
   "id": "589a6cc0",
   "metadata": {},
   "outputs": [],
   "source": [
    "# create a sanger sampleset in broad-firecloud-ccle/DepMap_WES_CN_hg38-sandbox\n",
    "\n",
    "tracker = getTracker()\n",
    "\n",
    "sangerwes = tracker[(tracker['source'] == 'SANGER') & (tracker['datatype']=='wes')]\n",
    "sangerwes"
   ]
  },
  {
   "cell_type": "code",
   "execution_count": null,
   "id": "8dc571eb",
   "metadata": {},
   "outputs": [],
   "source": [
    "refworkspace = 'broad-firecloud-ccle/DepMap_WES_CN_hg38-sandbox'\n",
    "samplesetname = 'all_sanger'\n",
    "samples = sangerwes\n",
    "\n",
    "samples.index.name = 'sample_id'\n",
    "refwm = dm.WorkspaceManager(refworkspace).disable_hound()\n",
    "refwm.update_sample_set(sample_set_id=samplesetname,\n",
    "                      sample_ids=samples.index)"
   ]
  },
  {
   "cell_type": "code",
   "execution_count": null,
   "id": "60da4207",
   "metadata": {},
   "outputs": [],
   "source": [
    "all_pairs = refwm.get_pairs()\n",
    "sanger_pairs = all_pairs[all_pairs.case_sample.isin(sangerwes.index)]\n",
    "sanger_pairs.index"
   ]
  },
  {
   "cell_type": "code",
   "execution_count": null,
   "id": "cb6034d6",
   "metadata": {},
   "outputs": [],
   "source": [
    "refwm.update_pair_set(pair_set_id=samplesetname,\n",
    "                      pair_ids=sanger_pairs.index)"
   ]
  },
  {
   "cell_type": "code",
   "execution_count": null,
   "id": "13a2b42e",
   "metadata": {},
   "outputs": [],
   "source": [
    "# hg38_analysis_ready_bam_index != internal_bai_filepath for some lines\n",
    "# update those lines in workspace:\n",
    "terra_wes = refwm.get_samples()\n",
    "terra_wes_sanger = terra_wes[terra_wes.index.isin(sangerwes.index)]\n",
    "terra_wes_sanger"
   ]
  },
  {
   "cell_type": "code",
   "execution_count": null,
   "id": "346679b6",
   "metadata": {},
   "outputs": [],
   "source": [
    "sum(terra_wes_sanger['internal_bai_filepath'] == terra_wes_sanger['hg38_analysis_ready_bam_index'])"
   ]
  },
  {
   "cell_type": "code",
   "execution_count": null,
   "id": "1e480cfa",
   "metadata": {},
   "outputs": [],
   "source": [
    "terra_wes_sanger['hg38_analysis_ready_bam_index'] = terra_wes_sanger['internal_bai_filepath']\n",
    "sum(terra_wes_sanger['internal_bai_filepath'] == terra_wes_sanger['hg38_analysis_ready_bam_index'])"
   ]
  },
  {
   "cell_type": "code",
   "execution_count": null,
   "id": "34edc05e",
   "metadata": {},
   "outputs": [],
   "source": [
    "terra_wes.update(terra_wes_sanger)\n",
    "terra_wes"
   ]
  },
  {
   "cell_type": "code",
   "execution_count": null,
   "id": "b236ae33",
   "metadata": {},
   "outputs": [],
   "source": [
    "refwm.update_sample_attributes(terra_wes)"
   ]
  },
  {
   "cell_type": "code",
   "execution_count": null,
   "id": "85014b0c",
   "metadata": {},
   "outputs": [],
   "source": [
    "submission_id = refwm.create_submission(\"CNV_sample_XY_agilent\", 'all_sanger', 'pair_set', expression='this.pairs')\n",
    "await terra.waitForSubmission(refworkspace, submission_id)"
   ]
  },
  {
   "cell_type": "code",
   "execution_count": null,
   "id": "b4d8ff71",
   "metadata": {},
   "outputs": [],
   "source": []
  }
 ],
 "metadata": {
  "kernelspec": {
   "display_name": "Python 3",
   "language": "python",
   "name": "python3"
  },
  "language_info": {
   "codemirror_mode": {
    "name": "ipython",
    "version": 3
   },
   "file_extension": ".py",
   "mimetype": "text/x-python",
   "name": "python",
   "nbconvert_exporter": "python",
   "pygments_lexer": "ipython3",
   "version": "3.8.2"
  }
 },
 "nbformat": 4,
 "nbformat_minor": 5
}
