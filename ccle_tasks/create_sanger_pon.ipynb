{
 "cells": [
  {
   "cell_type": "code",
   "execution_count": null,
   "id": "7128a69a",
   "metadata": {},
   "outputs": [],
   "source": [
    "# extract sanger male normal lines from tracker\n",
    "\n",
    "from depmapomics.tracker import getTracker\n",
    "tracker = getTracker()\n",
    "sanger = tracker[(tracker['source'] == 'SANGER') & (tracker['primary_disease'].str.lower()=='normal')]\n",
    "assert (sanger['datatype'] == 'wes').all()\n",
    "\n",
    "sanger['sex'].value_counts()"
   ]
  },
  {
   "cell_type": "code",
   "execution_count": null,
   "id": "7d652c18",
   "metadata": {},
   "outputs": [],
   "source": [
    "sanger = sanger[sanger.sex == 'Male']\n",
    "sanger"
   ]
  },
  {
   "cell_type": "code",
   "execution_count": null,
   "id": "8506397c",
   "metadata": {},
   "outputs": [],
   "source": [
    "sanger = sanger[['internal_bam_filepath', 'internal_bai_filepath', 'participant_id']]\n",
    "sanger = sanger.rename(columns={'internal_bam_filepath': 'hg38_analysis_ready_bam', 'internal_bai_filepath': 'hg38_analysis_ready_bam_index'})\n",
    "sanger"
   ]
  },
  {
   "cell_type": "code",
   "execution_count": null,
   "id": "44a2012a",
   "metadata": {},
   "outputs": [],
   "source": [
    "# import the above lines to terra workspace broad-firecloud-ccle/DepMap_WES_PONS_hg38\n",
    "from depmapomics import loading\n",
    "import dalmatian as dm\n",
    "\n",
    "refworkspace = 'broad-firecloud-ccle/DepMap_WES_PONS_hg38-copy'\n",
    "samplesetname = 'SANGER_XY'\n",
    "samples = sanger\n",
    "\n",
    "samples.index.name = 'sample_id'\n",
    "refwm = dm.WorkspaceManager(refworkspace).disable_hound()\n",
    "refwm.upload_samples(samples)\n",
    "\n",
    "#creating a sample set\n",
    "refwm.update_sample_set(sample_set_id=samplesetname,\n",
    "                      sample_ids=samples.index)\n"
   ]
  },
  {
   "cell_type": "code",
   "execution_count": null,
   "id": "6db04f70",
   "metadata": {},
   "outputs": [],
   "source": [
    "from genepy import terra\n",
    "\n",
    "submission_id = refwm.create_submission(\"CNV_Somatic_Panel_Workflow_Agilent_XY\", samplesetname)\n",
    "await terra.waitForSubmission(refworkspace, submission_id)"
   ]
  },
  {
   "cell_type": "code",
   "execution_count": null,
   "id": "589a6cc0",
   "metadata": {},
   "outputs": [],
   "source": []
  }
 ],
 "metadata": {
  "kernelspec": {
   "display_name": "Python 3",
   "language": "python",
   "name": "python3"
  },
  "language_info": {
   "codemirror_mode": {
    "name": "ipython",
    "version": 3
   },
   "file_extension": ".py",
   "mimetype": "text/x-python",
   "name": "python",
   "nbconvert_exporter": "python",
   "pygments_lexer": "ipython3",
   "version": "3.8.2"
  }
 },
 "nbformat": 4,
 "nbformat_minor": 5
}
