{
 "cells": [
  {
   "cell_type": "code",
   "execution_count": null,
   "id": "7128a69a",
   "metadata": {},
   "outputs": [],
   "source": [
    "# extract sanger male normal lines from tracker\n",
    "\n",
    "from depmapomics.tracker import getTracker\n",
    "tracker = getTracker()\n",
    "sanger = tracker[(tracker['source'] == 'SANGER') & (tracker['primary_disease'].str.lower()=='normal')]\n",
    "assert (sanger['datatype'] == 'wes').all()\n",
    "\n",
    "sanger['sex'].value_counts()"
   ]
  },
  {
   "cell_type": "code",
   "execution_count": null,
   "id": "7d652c18",
   "metadata": {},
   "outputs": [],
   "source": [
    "sanger = sanger[sanger.sex == 'Male']\n",
    "sanger"
   ]
  },
  {
   "cell_type": "code",
   "execution_count": null,
   "id": "8506397c",
   "metadata": {},
   "outputs": [],
   "source": [
    "sanger = sanger[['internal_bam_filepath', 'internal_bai_filepath', 'participant_id']]\n",
    "sanger = sanger.rename(columns={'internal_bam_filepath': 'hg38_analysis_ready_bam', 'internal_bai_filepath': 'hg38_analysis_ready_bam_index'})\n",
    "sanger"
   ]
  },
  {
   "cell_type": "code",
   "execution_count": null,
   "id": "44a2012a",
   "metadata": {},
   "outputs": [],
   "source": [
    "# import the above lines to terra workspace broad-firecloud-ccle/DepMap_WES_PONS_hg38-copy\n",
    "from depmapomics import loading\n",
    "import dalmatian as dm\n",
    "\n",
    "refworkspace = 'broad-firecloud-ccle/DepMap_WES_PONS_hg38-copy'\n",
    "samplesetname = 'SANGER_XY'\n",
    "samples = sanger\n",
    "\n",
    "samples.index.name = 'sample_id'\n",
    "refwm = dm.WorkspaceManager(refworkspace).disable_hound()\n",
    "refwm.upload_samples(samples)\n",
    "\n",
    "#creating a sample set\n",
    "refwm.update_sample_set(sample_set_id=samplesetname,\n",
    "                      sample_ids=samples.index)\n"
   ]
  },
  {
   "cell_type": "code",
   "execution_count": null,
   "id": "6db04f70",
   "metadata": {},
   "outputs": [],
   "source": [
    "from genepy import terra\n",
    "\n",
    "submission_id = refwm.create_submission(\"CNV_Somatic_Panel_Workflow_Agilent_XY\", samplesetname)\n",
    "await terra.waitForSubmission(refworkspace, submission_id)"
   ]
  },
  {
   "cell_type": "code",
   "execution_count": null,
   "id": "589a6cc0",
   "metadata": {},
   "outputs": [],
   "source": [
    "# create a sanger sampleset in broad-firecloud-ccle/DepMap_WES_CN_hg38-sandbox\n",
    "\n",
    "tracker = getTracker()\n",
    "\n",
    "sangerwes = tracker[(tracker['source'] == 'SANGER') & (tracker['datatype']=='wes')]\n",
    "sangerwes"
   ]
  },
  {
   "cell_type": "code",
   "execution_count": null,
   "id": "47798d9e",
   "metadata": {},
   "outputs": [],
   "source": [
<<<<<<< HEAD
    "from depmapomics import loading\n",
    "import dalmatian as dm\n",
    "\n",
    "refworkspace = 'broad-firecloud-ccle/DepMap_WES_CN_hg38'\n",
    "samplesetname = 'all_sanger'\n",
    "\n",
    "# samples.index.name = 'sample_id'\n",
    "refwm = dm.WorkspaceManager(refworkspace).disable_hound()\n",
=======
    "refworkspace = 'broad-firecloud-ccle/DepMap_WES_CN_hg38-sandbox'\n",
    "samplesetname = 'all_sanger'\n",
    "samples = sangerwes\n",
    "\n",
    "# samples.index.name = 'sample_id'\n",
    "# refwm = dm.WorkspaceManager(refworkspace).disable_hound()\n",
>>>>>>> origin/master
    "# refwm.update_sample_set(sample_set_id=samplesetname,\n",
    "#                       sample_ids=samples.index)"
   ]
  },
  {
   "cell_type": "code",
   "execution_count": null,
   "id": "621576be",
   "metadata": {},
   "outputs": [],
   "source": [
    "all_pairs = refwm.get_pairs()\n",
    "sanger_pairs = all_pairs[all_pairs.case_sample.isin(sangerwes.index)]\n",
    "sanger_pairs.index"
   ]
  },
  {
   "cell_type": "code",
   "execution_count": null,
   "id": "f32775c9",
   "metadata": {},
   "outputs": [],
   "source": [
    "refwm.update_pair_set(pair_set_id=samplesetname,\n",
    "                      pair_ids=sanger_pairs.index)"
   ]
  },
  {
   "cell_type": "code",
   "execution_count": null,
<<<<<<< HEAD
   "id": "e01d0c76",
   "metadata": {},
   "outputs": [],
   "source": [
    "sandboxwm = dm.WorkspaceManager('broad-firecloud-ccle/DepMap_WES_CN_hg38-sandbox').disable_hound()\n",
    "set(sanger_pairs.index) - set(sandboxwm.get_pair_sets().loc['all_sanger', 'pairs'])"
   ]
  },
  {
   "cell_type": "code",
   "execution_count": null,
=======
>>>>>>> origin/master
   "id": "f2aa060c",
   "metadata": {},
   "outputs": [],
   "source": [
    "# hg38_analysis_ready_bam_index != internal_bai_filepath for some lines\n",
    "# update those lines in workspace:\n",
    "terra_wes = refwm.get_samples()\n",
    "terra_wes_sanger = terra_wes[terra_wes.index.isin(sangerwes.index)]\n",
    "terra_wes_sanger"
   ]
  },
  {
   "cell_type": "code",
   "execution_count": null,
   "id": "828b03f1",
   "metadata": {},
   "outputs": [],
   "source": [
    "sum(terra_wes_sanger['internal_bai_filepath'] == terra_wes_sanger['hg38_analysis_ready_bam_index'])"
   ]
  },
  {
   "cell_type": "code",
   "execution_count": null,
   "id": "38d0edbc",
   "metadata": {},
   "outputs": [],
   "source": [
    "terra_wes_sanger['hg38_analysis_ready_bam_index'] = terra_wes_sanger['internal_bai_filepath']\n",
    "sum(terra_wes_sanger['internal_bai_filepath'] == terra_wes_sanger['hg38_analysis_ready_bam_index'])"
   ]
  },
  {
   "cell_type": "code",
   "execution_count": null,
   "id": "d4673afd",
   "metadata": {},
   "outputs": [],
   "source": [
    "terra_wes.update(terra_wes_sanger)\n",
    "terra_wes"
   ]
  },
  {
   "cell_type": "code",
   "execution_count": null,
   "id": "665222e8",
   "metadata": {},
   "outputs": [],
   "source": [
    "refwm.update_sample_attributes(terra_wes)"
   ]
  },
  {
   "cell_type": "code",
   "execution_count": null,
   "id": "85ffd358",
   "metadata": {},
   "outputs": [],
   "source": [
    "submission_id = refwm.create_submission(\"CNV_sample_XY_agilent\", 'all_sanger', 'pair_set', expression='this.pairs')\n",
    "await terra.waitForSubmission(refworkspace, submission_id)"
   ]
  },
  {
   "cell_type": "code",
   "execution_count": null,
   "id": "7cdb6e79",
   "metadata": {},
   "outputs": [],
   "source": [
    "submission_id = refwm.create_submission(\"Aggregate_CN_seg_files\", 'all')\n",
    "await terra.waitForSubmission(refworkspace, submission_id)"
   ]
  },
  {
   "cell_type": "code",
   "execution_count": null,
   "id": "fe80bcb4",
   "metadata": {},
   "outputs": [],
   "source": [
    "# plot histogram!\n",
    "import pandas as pd\n",
    "\n",
    "sanger_seg = pd.read_csv(\"gs://fc-secure-72da20b9-dac7-4c49-9ffa-c7175b79855a/d34cb8cd-2350-455c-af70-5cb893959399/aggregate_CN_segments_wrkflw/d548fcf8-4713-407f-b6a8-8f9c5b8b719a/call-aggregate_CN_segments/all_sanger.called.seg\", delimiter='\\t')\n",
    "sanger_seg"
   ]
  },
  {
   "cell_type": "code",
   "execution_count": null,
<<<<<<< HEAD
   "id": "6bdc4f80",
   "metadata": {},
   "outputs": [],
   "source": [
    "sanger_seg_counts = sanger_seg.Sample.value_counts()\n",
    "sanger_seg_counts"
   ]
  },
  {
   "cell_type": "code",
   "execution_count": null,
=======
>>>>>>> origin/master
   "id": "aa105e5c",
   "metadata": {},
   "outputs": [],
   "source": [
    "import matplotlib.pyplot as plt\n",
    "\n",
<<<<<<< HEAD
=======
    "sanger_seg_counts = sanger_seg.Sample.value_counts()\n",
>>>>>>> origin/master
    "plt.hist(sanger_seg.Sample.value_counts(), bins=120)"
   ]
  },
  {
   "cell_type": "code",
   "execution_count": null,
   "id": "bbbfbf3e",
   "metadata": {},
   "outputs": [],
   "source": [
    "all_seg = pd.read_csv(\"gs://fc-secure-d2a2d895-a7af-4117-bdc7-652d7d268324/bdd767bd-f535-4716-88cb-0faeff5e5ec7/aggregate_CN_segments_wrkflw/a816ac7e-2fc6-4165-b98e-ec39975ab9fa/call-aggregate_CN_segments/attempt-2/all.called.seg\", delimiter='\\t')\n",
    "all_seg"
   ]
  },
  {
   "cell_type": "code",
   "execution_count": null,
   "id": "86ce66e0",
   "metadata": {},
   "outputs": [],
   "source": [
    "all_seg_counts = all_seg.Sample.value_counts()\n",
    "all_seg_counts"
   ]
  },
  {
   "cell_type": "code",
   "execution_count": null,
   "id": "7e6760d6",
   "metadata": {},
   "outputs": [],
   "source": [
    "t = getTracker()"
   ]
  },
  {
   "cell_type": "code",
   "execution_count": null,
<<<<<<< HEAD
   "id": "e68d82d6",
=======
   "id": "1ead3b44",
>>>>>>> origin/master
   "metadata": {},
   "outputs": [],
   "source": [
    "broad_wes_idx = t[(t.source != 'SANGER') & (t.source != 'CHORDOMA') & (t.datatype == 'wes')].index\n",
    "broad_seg_counts = all_seg_counts[broad_wes_idx]\n",
    "broad_seg_counts"
   ]
  },
  {
   "cell_type": "code",
   "execution_count": null,
<<<<<<< HEAD
   "id": "290d9d5e",
=======
   "id": "97350d41",
>>>>>>> origin/master
   "metadata": {},
   "outputs": [],
   "source": [
    "from matplotlib import pyplot\n",
    "import numpy as np\n",
    "\n",
    "bins = np.linspace(0, 1500, 75)\n",
    "\n",
    "pyplot.hist(sanger_seg_counts, bins, alpha=0.5, label='sanger wes')\n",
    "pyplot.hist(broad_seg_counts, bins, alpha=0.5, label='broad wes')\n",
    "pyplot.legend(loc='upper right')\n",
    "pyplot.show()"
   ]
  },
  {
   "cell_type": "code",
   "execution_count": null,
<<<<<<< HEAD
   "id": "aaf70838",
   "metadata": {},
   "outputs": [],
   "source": [
    "# within sanger, plot male vs female:"
   ]
  },
  {
   "cell_type": "code",
   "execution_count": null,
   "id": "68b83d75",
   "metadata": {},
   "outputs": [],
   "source": [
    "sanger_seg_counts = pd.DataFrame(sanger_seg_counts).join(t)\n",
    "sanger_seg_counts = sanger_seg_counts.rename(columns={'Sample': 'seg_count'})\n",
    "sanger_seg_counts"
   ]
  },
  {
   "cell_type": "code",
   "execution_count": null,
   "id": "d9c367cf",
   "metadata": {},
   "outputs": [],
   "source": [
    "bins = np.linspace(0, 600, 40)\n",
    "\n",
    "pyplot.hist(sanger_seg_counts[sanger_seg_counts['sex']=='Male']['seg_count'], bins, alpha=0.5, label='sanger wes male')\n",
    "pyplot.hist(sanger_seg_counts[sanger_seg_counts['sex']=='Female']['seg_count'], bins, alpha=0.5, label='sanger wes female')\n",
    "pyplot.legend(loc='upper right')\n",
    "pyplot.show()"
   ]
  },
  {
   "cell_type": "code",
   "execution_count": null,
   "id": "d24e1e5e",
   "metadata": {},
   "outputs": [],
   "source": [
    "sanger_seg_counts.sex.value_counts()"
   ]
  },
  {
   "cell_type": "code",
   "execution_count": null,
   "id": "8075fa6b",
   "metadata": {},
   "outputs": [],
   "source": [
    "# within broad, plot male vs female:"
   ]
  },
  {
   "cell_type": "code",
   "execution_count": null,
   "id": "cbdfd0ad",
   "metadata": {},
   "outputs": [],
   "source": [
    "broad_seg_counts = pd.DataFrame(broad_seg_counts).join(t)\n",
    "broad_seg_counts = broad_seg_counts.rename(columns={'Sample': 'seg_count'})\n",
    "broad_seg_counts"
   ]
  },
  {
   "cell_type": "code",
   "execution_count": null,
   "id": "46e0d2b6",
   "metadata": {},
   "outputs": [],
   "source": [
    "bins = np.linspace(0, 600, 40)\n",
    "\n",
    "pyplot.hist(broad_seg_counts[broad_seg_counts['sex']=='Male']['seg_count'], bins, alpha=0.5, label='broad wes male')\n",
    "pyplot.hist(broad_seg_counts[broad_seg_counts['sex']=='Female']['seg_count'], bins, alpha=0.5, label='broad wes female')\n",
    "pyplot.legend(loc='upper right')\n",
    "pyplot.show()"
   ]
  },
  {
   "cell_type": "code",
   "execution_count": null,
   "id": "df3db267",
   "metadata": {},
   "outputs": [],
   "source": [
    "broad_seg_counts.sex.value_counts()"
   ]
  },
  {
   "cell_type": "code",
   "execution_count": null,
   "id": "38c53ef0",
   "metadata": {},
   "outputs": [],
   "source": [
    "from taigapy import TaigaClient\n",
    "tc = TaigaClient()\n",
    "\n",
    "wgs_genecn_all = tc.get(name='cn-latest-d8d4', version=23, file='wgs_genecn_all')\n",
    "wgs_genecn_all"
   ]
  },
  {
   "cell_type": "code",
   "execution_count": null,
   "id": "004ffeaa",
   "metadata": {},
   "outputs": [],
   "source": [
    "wgs_genecn_all.loc['CDS-Jix4jB',:]"
   ]
  },
  {
   "cell_type": "code",
   "execution_count": null,
   "id": "5cbecff9",
   "metadata": {},
   "outputs": [],
   "source": [
    "only_sanger_seg = pd.read_csv(\"gs://fc-secure-72da20b9-dac7-4c49-9ffa-c7175b79855a/d34cb8cd-2350-455c-af70-5cb893959399/aggregate_CN_segments_wrkflw/d548fcf8-4713-407f-b6a8-8f9c5b8b719a/call-aggregate_CN_segments/all_sanger.called.seg\", delimiter='\\t')\n",
    "old_all_seg = pd.read_csv(\"gs://fc-secure-d2a2d895-a7af-4117-bdc7-652d7d268324/bdd767bd-f535-4716-88cb-0faeff5e5ec7/aggregate_CN_segments_wrkflw/a816ac7e-2fc6-4165-b98e-ec39975ab9fa/call-aggregate_CN_segments/attempt-2/all.called.seg\", delimiter='\\t')\n",
    "\n",
    "old_no_sanger = old_all_seg[~old_all_seg.Sample.isin(only_sanger_seg.Sample)]\n",
    "old_no_sanger"
   ]
  },
  {
   "cell_type": "code",
   "execution_count": null,
   "id": "b267d67e",
   "metadata": {},
   "outputs": [],
   "source": [
    "only_sanger_seg"
   ]
  },
  {
   "cell_type": "code",
   "execution_count": null,
   "id": "931d873a",
   "metadata": {},
   "outputs": [],
   "source": [
    "new_all = old_no_sanger.append(only_sanger_seg, ignore_index=True)\n",
    "new_all "
   ]
  },
  {
   "cell_type": "code",
   "execution_count": null,
   "id": "515bc911",
   "metadata": {},
   "outputs": [],
   "source": [
    "new_all.to_csv(\"new_wes_segments.csv\", sep=\"\\t\", index=False)"
   ]
  },
  {
   "cell_type": "code",
   "execution_count": null,
   "id": "d78676f1",
   "metadata": {},
   "outputs": [],
   "source": [
    "pd.read_csv(\"new_wes_segments.csv\", sep=\"\\t\")"
   ]
  },
  {
   "cell_type": "code",
   "execution_count": null,
   "id": "4e3bbbd9",
   "metadata": {},
   "outputs": [],
   "source": [
    "from depmapomics.config import *\n",
    "import numpy as np\n",
    "from gsheets import Sheets\n",
    "from depmapomics import tracker as track\n",
    "from depmapomics.qc import cn\n",
    "from depmapomics.config import *\n",
    "from IPython.display import Image, display\n",
    "import dalmatian as dm\n",
    "import pandas as pd\n",
    "import os\n",
    "from genepy import mutations as mut\n",
    "from genepy.utils import helper as h\n",
    "from genepy import terra\n",
    "from genepy import rna\n",
    "import matplotlib.pyplot as plt\n",
    "from depmapomics import terra as myterra\n",
    "\n",
    "\n",
    "def renameColumns(df):\n",
    "    \"\"\"\n",
    "  rename some of the main columns names from RSEM, GATK.. to more readable column names\n",
    "  Args:\n",
    "  -----\n",
    "    df: the df to rename\n",
    "  Returns:\n",
    "  ------\n",
    "    df the renamed df\n",
    "  \"\"\"\n",
    "    return df.rename(columns=COLRENAMING)\n",
    "\n",
    "\n",
    "def loadFromGATKAggregation(\n",
    "    refworkspace,\n",
    "    sortby=[SAMPLEID, \"Chromosome\", \"Start\", \"End\"],\n",
    "    save_output=\"\",\n",
    "    doCleanup=True,\n",
    "    todrop=[],\n",
    "    showPlots=False,\n",
    "    colname=\"combined_seg_file\",\n",
    "    plotColname=\"modeled_segments_plot_tumor\",\n",
    "    tempFolder=\"temp/\",\n",
    "    toremove=[\"readgroup_ubams\",],\n",
    "    sampleset=\"all\",\n",
    "    colRenaming=COLRENAMING,\n",
    "):\n",
    "    \"\"\"fetching the data from the Terra and loading it into a dataframe\n",
    "  Args:\n",
    "    refworkspace (str): workspace path\n",
    "    sortby (list, optional): columns to sort df. Defaults to [SAMPLEID, 'Chromosome', \"Start\", \"End\"].\n",
    "    save_output (str, optional): location to save output. Defaults to ''.\n",
    "    doCleanup (bool, optional): if do cleanup of Terra workspace unused output and logs. Defaults to True.\n",
    "    todrop (list, optional): [description]. Defaults to [].\n",
    "    showPlots (bool, optional): whether to show plot output from the GATK pipeline. Defaults to False.\n",
    "    colname (str, optional): the column in Terra where the file is saved in sampleset. Defaults to \"combined_seg_file\".\n",
    "    plotColname (str, optional): the column on terra where the plots exist in sample. Defaults to \"modeled_segments_plot_tumor\".\n",
    "    tempFolder (str, optional): where to put temp files. Defaults to \"temp/\".\n",
    "    toremove (list, optional): columns in Terra samples to remove (and delete corresponding data). Defaults to [\"readgroup_ubams\", ].\n",
    "    sampleset (str, optional): sample set to load in terra. Defaults to \"all\".\n",
    "    colRenaming (dict, optional): segment renaming dict. Defaults to COLRENAMING.\n",
    "  Returns:\n",
    "    pd.dataframe: dataframe containing the segments concatenated in a bed like format\n",
    "  \"\"\"\n",
    "    wm = dm.WorkspaceManager(refworkspace)\n",
    "    if save_output:\n",
    "        terra.saveConfigs(refworkspace, os.path.join(save_output, \"terra/\"))\n",
    "\n",
    "    if doCleanup:\n",
    "        print(\"cleaning up\")\n",
    "        res = wm.get_samples()\n",
    "        for val in toremove:\n",
    "            if val in res.columns.tolist():\n",
    "                wm.disable_hound().delete_entity_attributes(\n",
    "                    \"sample\", res[val], delete_files=True\n",
    "                )\n",
    "\n",
    "    segments = pd.read_csv(\"new_wes_segments.csv\", sep=\"\\t\").rename(columns=colRenaming)\n",
    "\n",
    "    # removing the duplicates\n",
    "    segments = segments[~segments[SAMPLEID].isin(todrop)].reset_index(drop=True)\n",
    "    if \"chr\" in segments[\"Chromosome\"][0]:\n",
    "        segments[\"Chromosome\"] = [i[3:] for i in segments[\"Chromosome\"]]\n",
    "    # tranforming the df\n",
    "    segments.Segment_Mean = 2 ** segments.Segment_Mean\n",
    "    segments.Start = segments.Start.astype(int)\n",
    "    segments.End = segments.End.astype(int)\n",
    "    segments.loc[\n",
    "        segments[segments.Chromosome.isin([\"X\", \"Y\"])].index, \"Segment_Mean\"\n",
    "    ] = (segments[segments.Chromosome.isin([\"X\", \"Y\"])][\"Segment_Mean\"] / 2)\n",
    "    segments = segments.sort_values(by=sortby)\n",
    "\n",
    "    print(\"loading \" + str(len(set(segments[SAMPLEID]))) + \" rows\")\n",
    "    if showPlots:\n",
    "        # plotting results of CN calls for this new sample set\n",
    "        for i, (k, val) in enumerate(\n",
    "            wm.get_samples().loc[wm.get_sample_sets().loc[sampleset].samples].iterrows()\n",
    "        ):\n",
    "            plot = val[plotColname]\n",
    "            os.system(\"gsutil cp \" + plot + \" \" + tempFolder)\n",
    "            print(k)\n",
    "            print(val[\"arxspan_id\"], val[\"sex\"])\n",
    "            if i > 30:\n",
    "                continue\n",
    "            display(Image(os.path.join(tempFolder, plot.split(\"/\")[-1])))\n",
    "    return segments\n",
    "\n",
    "def managingDuplicates(samples, failed, datatype, tracker, newname=\"arxspan_id\"):\n",
    "    \"\"\"removes duplicates and solves failed data\n",
    "  Args:\n",
    "    failed (list): list of samples that failed QC\n",
    "    datatype (str): 'wes' or 'wgs'\n",
    "    tracker (dataframe[datatype, prioritized, arxspan_id, index, ($newname)]): the sample tracker containing necessary info to compute which duplicates to keep\n",
    "    samples (list): list of samples to filter\n",
    "    newname (str): name of the new sample set\n",
    "  Returns:\n",
    "    dict: a dict of duplicates to keep and their newname name\n",
    "  \"\"\"\n",
    "    # selecting the right arxspan id (latest version)\n",
    "    renaming = track.removeOlderVersions(\n",
    "        names=samples,\n",
    "        refsamples=tracker[tracker.datatype == datatype],\n",
    "        priority=\"prioritized\",\n",
    "    )\n",
    "\n",
    "    # reparing QC when we have a better duplicate\n",
    "    ref = pd.DataFrame(tracker[tracker.datatype == datatype][newname])\n",
    "    replace = 0\n",
    "    for val in failed:\n",
    "        if val in list(renaming.keys()):\n",
    "            a = ref[ref[newname] == ref.loc[val][newname]].index\n",
    "            for v in a:\n",
    "                if v not in failed:\n",
    "                    renaming[v] = renaming.pop(val)\n",
    "                    replace += 1\n",
    "                    break\n",
    "    print(\"could replace:\")\n",
    "    print(replace)\n",
    "    return renaming\n",
    "\n",
    "\n",
    "def postProcess(\n",
    "    refworkspace,\n",
    "    sampleset=\"all\",\n",
    "    save_output=\"\",\n",
    "    doCleanup=True,\n",
    "    sortby=[SAMPLEID, \"Chromosome\", \"Start\", \"End\"],\n",
    "    todrop=[],\n",
    "    priority=[],\n",
    "    genechangethresh=0.025,\n",
    "    segmentsthresh=2000,\n",
    "    ensemblserver=ENSEMBL_SERVER_V,\n",
    "    source_rename={},\n",
    "    useCache=False,\n",
    "):\n",
    "    \"\"\"post process an aggregated CN segment file, the CCLE way\n",
    "  take a CN segment file from the Aggregate_WGS master terra workflow and post process it\n",
    "  in the CCLE way.\n",
    "  Args:\n",
    "      refworkspace (str): terra workspace where the ref data is stored\n",
    "      sampleset (str, optional): sampleset where the red data is stored. Defaults to 'all'.\n",
    "      save_output (str, optional): whether to save our data. Defaults to \"\".\n",
    "      doCleanup (bool, optional): whether to clean the Terra workspaces from their unused output and lo. Defaults to True.\n",
    "      sortby (list, optional): columns to sort df. Defaults to [SAMPLEID, 'Chromosome', \"Start\", \"End\"].\n",
    "      todrop (list, optional): if some samples have to be dropped whatever happens. Defaults to [].\n",
    "      priority (list, optional): if some samples have to not be dropped when failing QC . Defaults to [].\n",
    "      genechangethresh (float, optional): above this threshold of variance of gene CN, the sample is considered failed. Defaults to 0.025.\n",
    "      segmentsthresh (int, optional): above this threshold of number of segments the WGS sample is considered failed. Defaults to 2000.\n",
    "      ensemblserver (str, optional): ensembl server biomart version . Defaults to ENSEMBL_SERVER_V.\n",
    "      source_rename (dict, optional): dict to rename the source column if needed. Defaults to {}.\n",
    "      useCache (bool, optional): whether to cache the ensembl server data. Defaults to False.\n",
    "  Returns:\n",
    "      pd.dataframe: a dataframe with the post processed segment file as a bed file concatenated over all samples.\n",
    "      pd.dataframe: a dataframe with the post processed gene CN file as a bed file of samples x genes.\n",
    "      list: list of samples that failed to be processed.\n",
    "  \"\"\"\n",
    "    h.createFoldersFor(save_output)\n",
    "    print(\"loading CN from Terra\")\n",
    "    segments = loadFromGATKAggregation(\n",
    "        refworkspace,\n",
    "        sampleset=sampleset,\n",
    "        sortby=sortby,\n",
    "        todrop=todrop,\n",
    "        doCleanup=doCleanup,\n",
    "    )\n",
    "    print(\"making gene level copy number\")\n",
    "\n",
    "    mybiomart = h.generateGeneNames(\n",
    "        ensemble_server=ensemblserver,\n",
    "        useCache=useCache,\n",
    "        attributes=[\"start_position\", \"end_position\", \"chromosome_name\"],\n",
    "    )\n",
    "    mybiomart = mybiomart.rename(\n",
    "        columns={\n",
    "            \"start_position\": \"start\",\n",
    "            \"end_position\": \"end\",\n",
    "            \"chromosome_name\": \"Chromosome\",\n",
    "        }\n",
    "    )\n",
    "    mybiomart[\"Chromosome\"] = mybiomart[\"Chromosome\"].astype(str)\n",
    "    mybiomart = mybiomart.sort_values(by=[\"Chromosome\", \"start\", \"end\"])\n",
    "    mybiomart = mybiomart[mybiomart[\"Chromosome\"].isin(set(segments[\"Chromosome\"]))]\n",
    "    mybiomart = mybiomart.drop_duplicates(\"hgnc_symbol\", keep=\"first\")\n",
    "    mybiomart[\"gene_name\"] = [\n",
    "        i[\"hgnc_symbol\"] + \" (\" + str(i[\"entrezgene_id\"]).split(\".\")[0] + \")\"\n",
    "        for _, i in mybiomart.iterrows()\n",
    "    ]\n",
    "\n",
    "    genecn = mut.toGeneMatrix(mut.manageGapsInSegments(segments), mybiomart)\n",
    "    # validation step\n",
    "    print(\"summary of the gene cn data:\")\n",
    "    print(genecn.values.min(), genecn.values.mean(), genecn.values.max())\n",
    "    mut.checkGeneChangeAccrossAll(genecn, thresh=genechangethresh)\n",
    "    failed = mut.checkAmountOfSegments(segments, thresh=segmentsthresh)\n",
    "\n",
    "    print(\"failed our QC\")\n",
    "    print(failed)\n",
    "\n",
    "    if source_rename:\n",
    "        segments = segments.replace({\"Source\": source_rename})\n",
    "    if save_output:\n",
    "        h.listToFile(failed, save_output + \"failed.txt\")\n",
    "    # subsetting\n",
    "    segments = segments[\n",
    "        ~segments[SAMPLEID].isin((set(failed) | set(todrop)) - set(priority))\n",
    "    ].reset_index(drop=True)\n",
    "    genecn = genecn[~genecn.index.isin((set(failed) | set(todrop)) - set(priority))]\n",
    "\n",
    "    # saving\n",
    "    print(\"saving files\")\n",
    "    segments.to_csv(save_output + \"segments_all.csv\", index=False)\n",
    "    genecn.to_csv(save_output + \"genecn_all.csv\")\n",
    "    print(\"done\")\n",
    "\n",
    "    return segments, genecn, failed\n",
    "\n",
    "\n",
    "def _CCLEPostProcessingwes(\n",
    "    wesrefworkspace=WESCNWORKSPACE,\n",
    "    wgsrefworkspace=WGSWORKSPACE,\n",
    "    samplesetname=SAMPLESETNAME,\n",
    "    AllSamplesetName=\"all\",\n",
    "    my_id=MY_ID,\n",
    "    mystorage_id=MYSTORAGE_ID,\n",
    "    sheetcreds=SHEETCREDS,\n",
    "    sheetname=SHEETNAME,\n",
    "    refsheet_url=REFSHEET_URL,\n",
    "    todrop=KNOWN_DROP,\n",
    "    prevgenecn=\"ccle\",\n",
    "    taiga_dataset=TAIGA_CN,\n",
    "    dataset_description=CNreadme,\n",
    "    subsetsegs=[\n",
    "        SAMPLEID,\n",
    "        \"Chromosome\",\n",
    "        \"Start\",\n",
    "        \"End\",\n",
    "        \"Segment_Mean\",\n",
    "        \"Num_Probes\",\n",
    "        \"Status\",\n",
    "        \"Source\",\n",
    "    ],\n",
    "    bamqc=BAMQC,\n",
    "    procqc=PROCQC,\n",
    "    source_rename=SOURCE_RENAME,\n",
    "    redoWES=False,\n",
    "    wesfolder=\"\",\n",
    "    **kwargs\n",
    "):\n",
    "    \"\"\"the full CCLE Copy Number post processing pipeline (used only by CCLE)\n",
    "  see postprocessing() to reproduce most of our analysis and find out about additional parameters\n",
    "  Args:\n",
    "    wesrefworkspace (str): wes terra workspace where the ref data is stored\n",
    "    wgsrefworkspace (str): wgs terra workspace where the ref data is stored\n",
    "    samplesetname (str): name of the current release\n",
    "    AllSamplesetName (str, optional): name of the sample set to get the data from (should contain everything). Defaults to 'all'.\n",
    "    my_id (str, optional): google sheet user id to access the ref sheets . Defaults to MY_ID.\n",
    "    mystorage_id (str, optional): google sheet storage id to access the ref sheets . Defaults to MYSTORAGE_ID.\n",
    "    sheetcreds (str, optional): @see updateTracker. Defaults to SHEETCREDS.\n",
    "    sheetname (str, optional): @see updateTracker. Defaults to SHEETNAME.\n",
    "    refsheet_url (str, optional): @see updateTracker. Defaults to REFSHEET_URL.\n",
    "    prevgenecn (str, optional): where the previous version exists on taiga (for QC purposes). Defaults to tc.get(name=TAIGA_ETERNAL, file='CCLE_gene_cn').\n",
    "    taiga_dataset (str, optional): where to save the output to on taiga. Defaults to TAIGA_CN.\n",
    "    dataset_description (str, optional): A long string that will be pushed to taiga to explain the CN dataset. Defaults to CNreadme.\n",
    "    subsetsegs (list[str], optional): what columns to keep for the segments. Defaults to [SAMPLEID, 'Chromosome', 'Start', 'End', 'Segment_Mean', 'Num_Probes', 'Status', 'Source'].\n",
    "    bamqc ([type], optional): @see updateTracker. Defaults to BAMQC.\n",
    "    procqc ([type], optional): @see updateTracker. Defaults to PROCQC.\n",
    "    source_rename ([type], optional): @see managing duplicates. Defaults to SOURCE_RENAME.\n",
    "  \"\"\"\n",
    "    from taigapy import TaigaClient\n",
    "\n",
    "    tc = TaigaClient()\n",
    "\n",
    "    if prevgenecn is \"ccle\":\n",
    "        prevgenecn = tc.get(name=TAIGA_ETERNAL, file=\"CCLE_gene_cn\")\n",
    "\n",
    "    sheets = Sheets.from_files(my_id, mystorage_id)\n",
    "    tracker = sheets.get(refsheet_url).sheets[0].to_frame(index_col=0)\n",
    "\n",
    "    # doing wes\n",
    "    folder = os.path.join(\"temp\", samplesetname, \"wes_\")\n",
    "    if redoWES:\n",
    "        print(\"doing wes\")\n",
    "        priority = tracker[\n",
    "            (tracker.datatype == \"wes\") & (tracker.prioritized == 1)\n",
    "        ].index.tolist()\n",
    "        todropwes = (\n",
    "            todrop\n",
    "            + tracker[\n",
    "                (tracker.datatype == \"wes\") & (tracker.blacklist == 1)\n",
    "            ].index.tolist()\n",
    "        )\n",
    "        wessegments, genecn, wesfailed = postProcess(\n",
    "            wesrefworkspace,\n",
    "            AllSamplesetName if AllSamplesetName else samplesetname,\n",
    "            todrop=todropwes,\n",
    "            save_output=folder,\n",
    "            segmentsthresh=850,\n",
    "            priority=priority,\n",
    "            **kwargs\n",
    "        )\n",
    "\n",
    "        wesrenaming = managingDuplicates(\n",
    "            set(wessegments[SAMPLEID]),\n",
    "            (set(wesfailed) - set(priority)) | set(todropwes),\n",
    "            \"wes\",\n",
    "            tracker,\n",
    "        )\n",
    "        h.dictToFile(wesrenaming, folder + \"sample_renaming.json\")\n",
    "\n",
    "        print(\"renaming\")\n",
    "        wespriosegments = (\n",
    "            wessegments[wessegments[SAMPLEID].isin(set(wesrenaming.keys()))]\n",
    "            .replace({SAMPLEID: wesrenaming})\n",
    "            .reset_index(drop=True)\n",
    "        )\n",
    "        wespriogenecn = genecn[genecn.index.isin(set(wesrenaming.keys()))].rename(\n",
    "            index=wesrenaming\n",
    "        )\n",
    "\n",
    "        # saving prio\n",
    "        wespriosegments.to_csv(folder + \"segments_latest.csv\", index=False)\n",
    "        wespriogenecn.to_csv(folder + \"genecn_latest.csv\")\n",
    "    else:\n",
    "        print(\"bypassing WES using folder: \" + wesfolder if wesfolder else folder)\n",
    "        wesfailed = h.fileToList((wesfolder if wesfolder else folder) + \"failed.txt\")\n",
    "        wesrenaming = h.fileToDict(\n",
    "            (wesfolder if wesfolder else folder) + \"sample_renaming.json\"\n",
    "        )\n",
    "        wespriosegments = pd.read_csv(folder + \"segments_latest.csv\")\n",
    "        wespriogenecn = pd.read_csv(folder + \"genecn_latest.csv\", index_col=0)\n",
    "\n",
    "    return wespriosegments\n",
    "\n"
   ]
  },
  {
   "cell_type": "code",
   "execution_count": null,
   "id": "e3e0aa7d",
   "metadata": {},
   "outputs": [],
   "source": [
    "wespriosegs, wgspriosegs = await _CCLEPostProcessingwes(samplesetname=SAMPLESETNAME, redoWES=True)"
   ]
  },
  {
   "cell_type": "code",
   "execution_count": null,
   "id": "00e78aaa",
=======
   "id": "fa74024f",
>>>>>>> origin/master
   "metadata": {},
   "outputs": [],
   "source": []
  },
  {
   "cell_type": "code",
   "execution_count": null,
<<<<<<< HEAD
   "id": "6336ed50",
   "metadata": {},
   "outputs": [],
   "source": [
    "# plot corr histograms\n",
    "from taigapy import TaigaClient\n",
    "tc = TaigaClient()\n",
    "\n",
    "cn_wes_new = pd.read_csv('temp/21Q4/wes_genecn_latest.csv')\n",
    "cn_merged_20q1 = tc.get(name='public-20q1-c3b6', version=17, file='CCLE_gene_cn')\n",
    "cn_wes_21q4 = tc.get(name='cn-latest-d8d4', version=23, file='wes_genecn_latest')"
   ]
  },
  {
   "cell_type": "code",
   "execution_count": null,
   "id": "417fb555",
   "metadata": {},
   "outputs": [],
   "source": [
    "cn_wes_new = cn_wes_new.set_index('Unnamed: 0')\n",
    "cn_wes_new.index.name = None\n",
    "cn_wes_new.dropna()"
   ]
  },
  {
   "cell_type": "code",
   "execution_count": null,
   "id": "90060218",
   "metadata": {},
   "outputs": [],
   "source": [
    "cn_wes_21q4"
   ]
  },
  {
   "cell_type": "code",
   "execution_count": null,
   "id": "3e7d3a43",
   "metadata": {},
   "outputs": [],
   "source": [
    "cn_merged_20q1"
   ]
  },
  {
   "cell_type": "code",
   "execution_count": null,
   "id": "c1a7c03c",
   "metadata": {},
   "outputs": [],
   "source": [
    "np.mean(cn_wes_new.corrwith(cn_wes_21q4, axis=1).dropna())"
   ]
  },
  {
   "cell_type": "code",
   "execution_count": null,
   "id": "585be47e",
=======
   "id": "b3561697",
>>>>>>> origin/master
   "metadata": {},
   "outputs": [],
   "source": []
  },
  {
   "cell_type": "code",
   "execution_count": null,
<<<<<<< HEAD
   "id": "a2a5dff2",
   "metadata": {},
   "outputs": [],
   "source": [
    "# 20Q1 vs 21Q4 per gene\n",
    "plt.hist(cn_merged_20q1.corrwith(cn_wes_21q4, axis=0), bins=100)\n",
    "plt.title(\"20Q1 vs 21Q4 per gene\")"
   ]
  },
  {
   "cell_type": "code",
   "execution_count": null,
   "id": "30faf5ea",
   "metadata": {},
   "outputs": [],
   "source": [
    "# 20Q1 vs 21Q4 per cell line\n",
    "plt.hist(cn_merged_20q1.corrwith(cn_wes_21q4, axis=1), bins=100)\n",
    "plt.title(\"20Q1 vs 21Q4 per cell line\")"
   ]
  },
  {
   "cell_type": "code",
   "execution_count": null,
   "id": "ce3e6d60",
   "metadata": {},
   "outputs": [],
   "source": [
    "# new pon vs 20Q1 per gene\n",
    "plt.hist(cn_merged_20q1.corrwith(cn_wes_new, axis=0), bins=100)\n",
    "plt.title(\"new pon vs 20Q1 per gene\")"
   ]
  },
  {
   "cell_type": "code",
   "execution_count": null,
   "id": "3d1b1f51",
   "metadata": {},
   "outputs": [],
   "source": [
    "# new pon vs 20Q1 per cell line\n",
    "plt.hist(cn_merged_20q1.corrwith(cn_wes_new, axis=1), bins=100)\n",
    "plt.title(\"new pon vs 20Q1 per cell line\")"
   ]
=======
   "id": "46d64ead",
   "metadata": {},
   "outputs": [],
   "source": []
>>>>>>> origin/master
  },
  {
   "cell_type": "code",
   "execution_count": null,
<<<<<<< HEAD
   "id": "1a97b6b7",
   "metadata": {},
   "outputs": [],
   "source": [
    "# new pon vs 21Q4 per gene\n",
    "plt.hist(cn_wes_21q4.corrwith(cn_wes_new, axis=0), bins=100)\n",
    "plt.title(\"new pon vs 21Q4 per gene\")"
   ]
=======
   "id": "d8702c17",
   "metadata": {},
   "outputs": [],
   "source": []
>>>>>>> origin/master
  },
  {
   "cell_type": "code",
   "execution_count": null,
<<<<<<< HEAD
   "id": "739424d7",
   "metadata": {},
   "outputs": [],
   "source": [
    "# new pon vs 21Q4 per cell line\n",
    "plt.hist(cn_wes_21q4.corrwith(cn_wes_new, axis=1), bins=100)\n",
    "plt.title(\"new pon vs 21Q4 per cell line\")"
   ]
=======
   "id": "8023f077",
   "metadata": {},
   "outputs": [],
   "source": []
>>>>>>> origin/master
  },
  {
   "cell_type": "code",
   "execution_count": null,
<<<<<<< HEAD
   "id": "140eebee",
   "metadata": {},
   "outputs": [],
   "source": [
    "# \n",
    "sandboxws = 'broad-firecloud-ccle/DepMap_WES_CN_hg38-sandbox'\n",
    "sandboxwm = dm.WorkspaceManager(sandboxws).disable_hound()"
   ]
=======
   "id": "d6139bc5",
   "metadata": {},
   "outputs": [],
   "source": []
>>>>>>> origin/master
  },
  {
   "cell_type": "code",
   "execution_count": null,
<<<<<<< HEAD
   "id": "a6b00a8c",
=======
   "id": "9e281085",
>>>>>>> origin/master
   "metadata": {},
   "outputs": [],
   "source": []
  }
 ],
 "metadata": {
  "kernelspec": {
   "display_name": "Python 3",
   "language": "python",
   "name": "python3"
  },
  "language_info": {
   "codemirror_mode": {
    "name": "ipython",
    "version": 3
   },
   "file_extension": ".py",
   "mimetype": "text/x-python",
   "name": "python",
   "nbconvert_exporter": "python",
   "pygments_lexer": "ipython3",
   "version": "3.8.2"
  }
 },
 "nbformat": 4,
 "nbformat_minor": 5
}
