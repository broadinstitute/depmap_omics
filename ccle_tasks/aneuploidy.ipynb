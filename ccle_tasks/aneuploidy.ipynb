{
 "cells": [
  {
   "cell_type": "markdown",
   "id": "5cb5ef35",
   "metadata": {},
   "source": [
    "## Reproducing method from this Nature 2021 paper https://www.nature.com/articles/s41586-020-03114-6 by converting original R code https://github.com/broadinstitute/Aneuploidy_dependencies/tree/master into python"
   ]
  },
  {
   "cell_type": "code",
   "execution_count": null,
   "id": "c0a27dd5",
   "metadata": {},
   "outputs": [],
   "source": [
    "import pandas as pd\n",
    "from taigapy import TaigaClient\n",
    "tc = TaigaClient()"
   ]
  },
  {
   "cell_type": "markdown",
   "id": "e36dd9ea",
   "metadata": {},
   "source": [
    "### Load profileID-level PureCN's outputs from the latest release"
   ]
  },
  {
   "cell_type": "code",
   "execution_count": null,
   "id": "fdccddd2",
   "metadata": {},
   "outputs": [],
   "source": [
    "OmicsAbsoluteCNSegmentsProfile = tc.get(name='internal-23q2-1e49', version=97, file='OmicsAbsoluteCNSegmentsProfile')\n",
    "OmicsSignaturesProfile = tc.get(name='internal-23q2-1e49', version=97, file='OmicsSignaturesProfile')\n",
    "OmicsProfiles = tc.get(name='internal-23q2-1e49', version=97, file='OmicsProfiles')"
   ]
  },
  {
   "cell_type": "code",
   "execution_count": null,
   "id": "16026ec3",
   "metadata": {},
   "outputs": [],
   "source": [
    "# pre-23Q4 only: rename misleading column name. Should be fixed after 23Q4\n",
    "OmicsAbsoluteCNSegmentsProfile = OmicsAbsoluteCNSegmentsProfile.rename(columns={\"MajorAlleleAbsoluteCN\": \"SegmentAbsoluteCN\"})"
   ]
  },
  {
   "cell_type": "code",
   "execution_count": null,
   "id": "c67809a5",
   "metadata": {},
   "outputs": [],
   "source": [
    "OmicsSignaturesProfile = OmicsSignaturesProfile.reset_index().rename(columns={\"index\": \"ProfileID\"}).drop(columns=[\"MSIScore\", \"CIN\", \"LoHFraction\", \"WGD\"])\n",
    "OmicsSignaturesProfile = OmicsSignaturesProfile[~OmicsSignaturesProfile.Ploidy.isna()]"
   ]
  },
  {
   "cell_type": "markdown",
   "id": "3009b576",
   "metadata": {},
   "source": [
    "### Hg38 centromere coordinates taken from \"Modeled centromeres and heterochromatin regions\" https://www.ncbi.nlm.nih.gov/grc/human"
   ]
  },
  {
   "cell_type": "code",
   "execution_count": null,
   "id": "25d33e83",
   "metadata": {},
   "outputs": [],
   "source": [
    "cent = pd.read_csv(\"../data/Modeled_regions_for_GRCh38.tsv\", sep=\"\\t\", index_col=False)\n",
    "cent = cent[~(cent[\"#region_name\"].str.startswith(\"HET\")) & (~cent[\"chr\"].isin([\"X\", \"Y\"]))].drop(columns=[\"#region_name\"]).rename(columns={\"chr\": \"Chromosome\", \"start\": \"cent_start\", \"stop\": \"cent_end\"})\n",
    "cent[\"cent_mid\"] = (0.5*(cent[\"cent_start\"] + cent[\"cent_end\"])).round().astype(int)"
   ]
  },
  {
   "cell_type": "code",
   "execution_count": null,
   "id": "fadd2c07",
   "metadata": {},
   "outputs": [],
   "source": [
    "cent['Chromosome']=cent['Chromosome'].astype(int)\n",
    "OmicsAbsoluteCNSegmentsProfile['Chromosome']=OmicsAbsoluteCNSegmentsProfile['Chromosome'].astype(int)"
   ]
  },
  {
   "cell_type": "code",
   "execution_count": null,
   "id": "6dedb599",
   "metadata": {},
   "outputs": [],
   "source": [
    "merged_seg = OmicsAbsoluteCNSegmentsProfile.merge(cent, on=['Chromosome'], how=\"left\")\n",
    "merged_seg = merged_seg.merge(OmicsSignaturesProfile, on=['ProfileID'], how=\"left\")"
   ]
  },
  {
   "cell_type": "markdown",
   "id": "a2fdb427",
   "metadata": {},
   "source": [
    "## Make arm-level calls"
   ]
  },
  {
   "cell_type": "code",
   "execution_count": null,
   "id": "e26ded15",
   "metadata": {},
   "outputs": [],
   "source": [
    "def arm_call(df, cn_colname=\"SegmentAbsoluteCN\", width_colname=\"seg_width\", ploidy_colname=\"Ploidy\"):\n",
    "    df = df[~df.arm.isna()]\n",
    "    df.sort_values(cn_colname, inplace=True)\n",
    "    cumsum = df[width_colname].cumsum()\n",
    "    cutoff = df[width_colname].sum() / 2.0\n",
    "    median = df[cn_colname][cumsum >= cutoff].iloc[0].round().astype(int)\n",
    "    \n",
    "    ploidy = df[ploidy_colname].iloc[0].round().astype(int)\n",
    "    status = 0\n",
    "    if median > ploidy:\n",
    "        status = 1\n",
    "    elif median < ploidy:\n",
    "        status = -1\n",
    "    return status"
   ]
  },
  {
   "cell_type": "code",
   "execution_count": null,
   "id": "dc4101ea",
   "metadata": {},
   "outputs": [],
   "source": [
    "def get_which_arm(df, start_colname=\"Start\", end_colname=\"End\"):\n",
    "    df[\"seg_cent\"] = 0.5*(df[start_colname] + df[end_colname])\n",
    "    df[\"arm\"] = None\n",
    "    df.loc[df['seg_cent'] < df['cent_start'], 'arm'] = 'p'\n",
    "    df.loc[df['seg_cent'] > df['cent_end'], 'arm'] = 'q'\n",
    "    return(df)"
   ]
  },
  {
   "cell_type": "code",
   "execution_count": null,
   "id": "7312ad71",
   "metadata": {},
   "outputs": [],
   "source": [
    "seg_with_arm = get_which_arm(merged_seg)"
   ]
  },
  {
   "cell_type": "code",
   "execution_count": null,
   "id": "b7990c3b",
   "metadata": {},
   "outputs": [],
   "source": [
    "seg_with_arm[\"seg_width\"] = seg_with_arm[\"End\"] - seg_with_arm[\"Start\"]\n",
    "seg_with_arm[\"chrom_arm\"] = seg_with_arm[\"Chromosome\"].astype(str) + seg_with_arm[\"arm\"]"
   ]
  },
  {
   "cell_type": "code",
   "execution_count": null,
   "id": "8b34e6c0",
   "metadata": {},
   "outputs": [],
   "source": [
    "cna_table = seg_with_arm.groupby([\"ProfileID\", \"chrom_arm\"]).apply(arm_call).unstack(level=1)"
   ]
  },
  {
   "cell_type": "code",
   "execution_count": null,
   "id": "8ef49a7e",
   "metadata": {},
   "outputs": [],
   "source": [
    "cna_table = cna_table.drop(columns=[\"21p\", \"22p\"])"
   ]
  },
  {
   "cell_type": "code",
   "execution_count": null,
   "id": "fc5f6f71",
   "metadata": {},
   "outputs": [],
   "source": [
    "cna_table"
   ]
  },
  {
   "cell_type": "code",
   "execution_count": null,
   "id": "c421881b",
   "metadata": {},
   "outputs": [],
   "source": [
    "aneuploidy = cna_table.abs().sum(axis=1)"
   ]
  },
  {
   "cell_type": "code",
   "execution_count": null,
   "id": "86ddc2bd",
   "metadata": {},
   "outputs": [],
   "source": [
    "renaming_dict = dict(zip(OmicsProfiles.ProfileID.tolist(), OmicsProfiles.ModelID.tolist()))"
   ]
  },
  {
   "cell_type": "code",
   "execution_count": null,
   "id": "051639a2",
   "metadata": {},
   "outputs": [],
   "source": [
    "aneuploidy_model = aneuploidy.rename(index=renaming_dict)"
   ]
  },
  {
   "cell_type": "code",
   "execution_count": null,
   "id": "ac83460c",
   "metadata": {},
   "outputs": [],
   "source": [
    "aneuploidy"
   ]
  },
  {
   "cell_type": "markdown",
   "id": "d3cdad89",
   "metadata": {},
   "source": [
    "## attempt to replicate CCLE results using ABSOLUTE seg data"
   ]
  },
  {
   "cell_type": "code",
   "execution_count": null,
   "id": "97b7c966",
   "metadata": {},
   "outputs": [],
   "source": [
    "CCLE_ABSOLUTE_combined_segtab = tc.get(name='ccle-absolute-cn', version=5, file='CCLE_ABSOLUTE_combined_segtab')\n",
    "CCLE_ABSOLUTE_combined_table = tc.get(name='ccle-absolute-cn', version=5, file='CCLE_ABSOLUTE_combined_table')"
   ]
  },
  {
   "cell_type": "code",
   "execution_count": null,
   "id": "339746c9",
   "metadata": {},
   "outputs": [],
   "source": [
    "CCLE_ABSOLUTE_combined_segtab[(CCLE_ABSOLUTE_combined_segtab.Chromosome == 15) & (CCLE_ABSOLUTE_combined_segtab.DepMap_ID == \"ACH-000001\")]"
   ]
  },
  {
   "cell_type": "code",
   "execution_count": null,
   "id": "63492801",
   "metadata": {},
   "outputs": [],
   "source": [
    "CCLE_ABSOLUTE_combined_segtab = CCLE_ABSOLUTE_combined_segtab.drop(columns=[\"CCLE_ID\", \"Length\", \"Num_Probes\", \"Modal_HSCN_1\", \"Modal_HSCN_2\", \"Subclonal_HSCN_a1\", \"Subclonal_HSCN_a2\", \"Cancer_cell_frac_a1\", \"Ccf_ci95_low_a1\", \"Ccf_ci95_high_a1\", \"Cancer_cell_frac_a2\", \"Ccf_ci95_low_a2\", \"Ccf_ci95_high_a2\", \"LOH\", \"Homozygous_deletion\"])\n",
    "CCLE_ABSOLUTE_combined_segtab = CCLE_ABSOLUTE_combined_segtab.rename(columns={\"Modal_Total_CN\": \"SegmentAbsoluteCN\"})"
   ]
  },
  {
   "cell_type": "code",
   "execution_count": null,
   "id": "6e1e01c4",
   "metadata": {},
   "outputs": [],
   "source": [
    "CCLE_ABSOLUTE_combined_segtab = CCLE_ABSOLUTE_combined_segtab.merge(CCLE_ABSOLUTE_combined_table[[\"DepMap_ID\", \"ploidy\"]].rename(columns={\"ploidy\": \"Ploidy\"}), on=['DepMap_ID'], how=\"left\")"
   ]
  },
  {
   "cell_type": "code",
   "execution_count": null,
   "id": "1bded677",
   "metadata": {},
   "outputs": [],
   "source": [
    "CCLE_ABSOLUTE_combined_table[CCLE_ABSOLUTE_combined_table.DepMap_ID == \"ACH-000001\"]"
   ]
  },
  {
   "cell_type": "code",
   "execution_count": null,
   "id": "3aa5f12c",
   "metadata": {},
   "outputs": [],
   "source": [
    "# hg19 centromere coordinates extracted from the rCGH package\n",
    "hg19_cent = pd.read_csv(\"../data/hg19_cent.csv\").rename(columns={\"chrom\": \"Chromosome\", \"centStart\": \"cent_start\", \"centEnd\": \"cent_end\"})"
   ]
  },
  {
   "cell_type": "code",
   "execution_count": null,
   "id": "193b5db7",
   "metadata": {},
   "outputs": [],
   "source": [
    "hg19_cent[\"cent_mid\"] = (0.5*(hg19_cent[\"cent_start\"] + hg19_cent[\"cent_end\"])).round().astype(int)\n",
    "hg19_cent['Chromosome']=hg19_cent['Chromosome'].astype(int)\n",
    "CCLE_ABSOLUTE_combined_segtab['Chromosome']=CCLE_ABSOLUTE_combined_segtab['Chromosome'].astype(int)\n",
    "ccle_merged_seg = CCLE_ABSOLUTE_combined_segtab.merge(hg19_cent, on=['Chromosome'], how=\"left\")\n"
   ]
  },
  {
   "cell_type": "code",
   "execution_count": null,
   "id": "ee733afd",
   "metadata": {},
   "outputs": [],
   "source": [
    "ccle_merged_seg"
   ]
  },
  {
   "cell_type": "code",
   "execution_count": null,
   "id": "8f7f8dfd",
   "metadata": {},
   "outputs": [],
   "source": [
    "def split_cent_crosses(df):\n",
    "    cross_segs = (df.Start < df.cent_start) & (df.End > df.cent_end)\n",
    "    print(\"number of segments that span centromere: \", cross_segs.sum())\n",
    "    c = df[cross_segs].copy()\n",
    "    c.loc[:, \"Start\"] = c.loc[:, \"cent_mid\"]\n",
    "    df.append(c, ignore_index = True)\n",
    "    df.loc[cross_segs, \"End\"] = df.loc[cross_segs, \"cent_mid\"]\n",
    "    return(df)"
   ]
  },
  {
   "cell_type": "code",
   "execution_count": null,
   "id": "4db5f308",
   "metadata": {},
   "outputs": [],
   "source": [
    "split_ccle_merged_seg = split_cent_crosses(ccle_merged_seg)"
   ]
  },
  {
   "cell_type": "code",
   "execution_count": null,
   "id": "d2b89b3d",
   "metadata": {},
   "outputs": [],
   "source": [
    "ccle_seg_with_arm = get_which_arm(split_ccle_merged_seg)"
   ]
  },
  {
   "cell_type": "code",
   "execution_count": null,
   "id": "455cf687",
   "metadata": {},
   "outputs": [],
   "source": [
    "ccle_seg_with_arm[\"seg_width\"] = ccle_seg_with_arm[\"End\"] - ccle_seg_with_arm[\"Start\"]\n",
    "ccle_seg_with_arm[\"chrom_arm\"] = ccle_seg_with_arm[\"Chromosome\"].astype(str) + ccle_seg_with_arm[\"arm\"]"
   ]
  },
  {
   "cell_type": "code",
   "execution_count": null,
   "id": "a6bdf170",
   "metadata": {},
   "outputs": [],
   "source": [
    "ccle_cna_table = ccle_seg_with_arm.groupby([\"DepMap_ID\", \"chrom_arm\"]).apply(arm_call).unstack(level=1)"
   ]
  },
  {
   "cell_type": "code",
   "execution_count": null,
   "id": "c66689b1",
   "metadata": {},
   "outputs": [],
   "source": [
    "ccle_aneuploidy = ccle_cna_table.abs().sum(axis=1)\n",
    "ccle_aneuploidy.name = \"new_aneuploidy\""
   ]
  },
  {
   "cell_type": "code",
   "execution_count": null,
   "id": "ae7b60c9",
   "metadata": {},
   "outputs": [],
   "source": [
    "ccle_merged_seg[(ccle_merged_seg.Chromosome == 22) & (ccle_merged_seg.DepMap_ID == \"ACH-000001\")]"
   ]
  },
  {
   "cell_type": "code",
   "execution_count": null,
   "id": "94509154",
   "metadata": {},
   "outputs": [],
   "source": [
    "ccle_aneuploidy"
   ]
  },
  {
   "cell_type": "code",
   "execution_count": null,
   "id": "4f745bbe",
   "metadata": {},
   "outputs": [],
   "source": [
    "published_aneuploidy_scores = pd.read_csv(\"../data/aneuploidy_scores.csv\")"
   ]
  },
  {
   "cell_type": "code",
   "execution_count": null,
   "id": "7842b8d8",
   "metadata": {},
   "outputs": [],
   "source": [
    "old_and_new = published_aneuploidy_scores.merge(ccle_aneuploidy, on=\"DepMap_ID\", how=\"left\")"
   ]
  },
  {
   "cell_type": "code",
   "execution_count": null,
   "id": "424a004d",
   "metadata": {},
   "outputs": [],
   "source": [
    "old_and_new"
   ]
  },
  {
   "cell_type": "markdown",
   "id": "47e7e14e",
   "metadata": {},
   "source": [
    "### R's weighted.median function does something weird! "
   ]
  },
  {
   "cell_type": "code",
   "execution_count": null,
   "id": "e35c7a82",
   "metadata": {},
   "outputs": [],
   "source": [
    "import numpy as np\n",
    "import matplotlib.pyplot as plt\n",
    "\n",
    "x = old_and_new[\"Aneuploidy score\"]\n",
    "y = old_and_new[\"new_aneuploidy\"]\n",
    "\n",
    "plt.scatter(x, y, alpha=0.5)\n",
    "\n",
    "plt.xlabel(\"CCLE method\")\n",
    "plt.ylabel(\"current method\")\n",
    "plt.show()"
   ]
  },
  {
   "cell_type": "markdown",
   "id": "e53ea78f",
   "metadata": {},
   "source": [
    "## using the same (current) method, compare ABSOLUTE and PureCN outputs from WES"
   ]
  },
  {
   "cell_type": "code",
   "execution_count": null,
   "id": "3660ac34",
   "metadata": {},
   "outputs": [],
   "source": [
    "from depmap_omics_upload import tracker\n",
    "\n",
    "mytracker = tracker.SampleTracker()\n",
    "pr_table = mytracker.add_model_cols_to_prtable([\"ModelID\"])"
   ]
  },
  {
   "cell_type": "code",
   "execution_count": null,
   "id": "68d8efb4",
   "metadata": {},
   "outputs": [],
   "source": [
    "wes_prs = pr_table[(pr_table.Datatype == \"wes\") & (pr_table.ProfileSource != \"taiga\")]"
   ]
  },
  {
   "cell_type": "code",
   "execution_count": null,
   "id": "0126d1e4",
   "metadata": {},
   "outputs": [],
   "source": [
    "wes_prs"
   ]
  },
  {
   "cell_type": "code",
   "execution_count": null,
   "id": "bc784600",
   "metadata": {},
   "outputs": [],
   "source": [
    "wes_aneuploidy = aneuploidy[aneuploidy.index.isin(wes_prs.index)]\n",
    "renaming_dict = dict(zip(wes_prs.index.tolist(), wes_prs.ModelID.tolist()))\n",
    "wes_aneuploidy_model = wes_aneuploidy.rename(index=renaming_dict)"
   ]
  },
  {
   "cell_type": "code",
   "execution_count": null,
   "id": "3020c553",
   "metadata": {},
   "outputs": [],
   "source": [
    "wes_aneuploidy_model.name = \"PureCN_aneuploidy\""
   ]
  },
  {
   "cell_type": "code",
   "execution_count": null,
   "id": "b6131f3c",
   "metadata": {},
   "outputs": [],
   "source": [
    "wes_aneuploidy_model.index.name = \"DepMap_ID\""
   ]
  },
  {
   "cell_type": "code",
   "execution_count": null,
   "id": "292ee7ef",
   "metadata": {},
   "outputs": [],
   "source": [
    "wes_aneuploidy_model"
   ]
  },
  {
   "cell_type": "code",
   "execution_count": null,
   "id": "a79c3bf9",
   "metadata": {},
   "outputs": [],
   "source": [
    "old_and_new = published_aneuploidy_scores.merge(wes_aneuploidy_model, on=\"DepMap_ID\", how=\"left\")"
   ]
  },
  {
   "cell_type": "code",
   "execution_count": null,
   "id": "de866f8c",
   "metadata": {},
   "outputs": [],
   "source": [
    "import numpy as np\n",
    "import matplotlib.pyplot as plt\n",
    "\n",
    "x = old_and_new[\"Aneuploidy score\"]\n",
    "y = old_and_new[\"PureCN_aneuploidy\"]\n",
    "\n",
    "plt.scatter(x, y, alpha=0.2)\n",
    "\n",
    "plt.xlabel(\"ABSOLUTE\")\n",
    "plt.ylabel(\"PureCN\")\n",
    "plt.title(\"WES only\")\n",
    "plt.show()"
   ]
  },
  {
   "cell_type": "code",
   "execution_count": null,
   "id": "92def8d1",
   "metadata": {},
   "outputs": [],
   "source": [
    "old_and_new[(old_and_new[\"Aneuploidy score\"] < 10) & (old_and_new[\"PureCN_aneuploidy\"] > 30)]"
   ]
  },
  {
   "cell_type": "code",
   "execution_count": null,
   "id": "f67dcb30",
   "metadata": {},
   "outputs": [],
   "source": [
    "aneuploidy['PR-ZxbCmO']"
   ]
  },
  {
   "cell_type": "markdown",
   "id": "1b17f757",
   "metadata": {},
   "source": [
    "## using the same (current) method, compare ABSOLUTE and PureCN outputs with DepMap's prioritization scheme (WGS > WES)"
   ]
  },
  {
   "cell_type": "code",
   "execution_count": null,
   "id": "1cbd8831",
   "metadata": {},
   "outputs": [],
   "source": [
    "OmicsAbsoluteCNSegmentsProfile = tc.get(name='internal-23q2-1e49', version=97, file='OmicsAbsoluteCNSegmentsProfile')\n",
    "OmicsSignaturesProfile = tc.get(name='internal-23q2-1e49', version=97, file='OmicsSignaturesProfile')\n",
    "OmicsAbsoluteCNSegmentsProfile = OmicsAbsoluteCNSegmentsProfile.rename(columns={\"MajorAlleleAbsoluteCN\": \"SegmentAbsoluteCN\"})"
   ]
  },
  {
   "cell_type": "code",
   "execution_count": null,
   "id": "2f9df20d",
   "metadata": {},
   "outputs": [],
   "source": [
    "def get_cna_and_aneuploidy(seg, sig_table, cent_filename=\"../data/Modeled_regions_for_GRCh38.tsv\", id_col=\"DepMap_ID\", ploidy_col=\"Ploidy\"):\n",
    "    # parse centromere file\n",
    "    cent = pd.read_csv(cent_filename, sep=\"\\t\", index_col=False)\n",
    "    cent = cent[~(cent[\"#region_name\"].str.startswith(\"HET\")) & (~cent[\"chr\"].isin([\"X\", \"Y\"]))].drop(columns=[\"#region_name\"]).rename(columns={\"chr\": \"Chromosome\", \"start\": \"cent_start\", \"stop\": \"cent_end\"})\n",
    "    cent[\"cent_mid\"] = (0.5*(cent[\"cent_start\"] + cent[\"cent_end\"])).round().astype(int)\n",
    "    cent['Chromosome']=cent['Chromosome'].astype(int)\n",
    "\n",
    "    seg['Chromosome']=seg['Chromosome'].astype(int)\n",
    "    seg[\"seg_width\"] = seg[\"End\"] - seg[\"Start\"]\n",
    "    merged_seg = seg.merge(cent, on=['Chromosome'], how=\"left\")\n",
    "    sig_table = sig_table.reset_index().rename(columns={\"index\": id_col})\n",
    "    merged_seg = merged_seg.merge(sig_table[[id_col, ploidy_col]], on=[id_col], how=\"left\")\n",
    "    \n",
    "    seg_with_arm = get_which_arm(merged_seg)\n",
    "    seg_with_arm[\"chrom_arm\"] = seg_with_arm[\"Chromosome\"].astype(str) + seg_with_arm[\"arm\"]\n",
    "    \n",
    "    cna_table = seg_with_arm.groupby([id_col, \"chrom_arm\"]).apply(arm_call).unstack(level=1)\n",
    "    cna_table = cna_table.drop(columns=[\"21p\", \"22p\"])\n",
    "    \n",
    "    aneuploidy = cna_table.abs().sum(axis=1).to_dict()\n",
    "    sig_table[\"Aneuploidy\"] = sig_table[id_col].map(aneuploidy)\n",
    "    \n",
    "    return cna_table, sig_table"
   ]
  },
  {
   "cell_type": "code",
   "execution_count": null,
   "id": "c692a858",
   "metadata": {},
   "outputs": [],
   "source": [
    "cna_table, sig_table = get_cna_and_aneuploidy(OmicsAbsoluteCNSegmentsProfile, OmicsSignaturesProfile, id_col=\"ProfileID\")"
   ]
  },
  {
   "cell_type": "code",
   "execution_count": null,
   "id": "563499e4",
   "metadata": {},
   "outputs": [],
   "source": [
    "sig_table"
   ]
  },
  {
   "cell_type": "code",
   "execution_count": null,
   "id": "0889a06e",
   "metadata": {},
   "outputs": [],
   "source": [
    "OmicsDefaultModelProfiles = tc.get(name='internal-23q2-1e49', version=97, file='OmicsDefaultModelProfiles')\n",
    "OmicsDefaultModelProfiles"
   ]
  },
  {
   "cell_type": "code",
   "execution_count": null,
   "id": "c2f994c9",
   "metadata": {},
   "outputs": [],
   "source": [
    "sig_table_model = sig_table[sig_table.ProfileID.isin(OmicsDefaultModelProfiles.ProfileID)]\n",
    "renaming_dict = dict(zip(OmicsDefaultModelProfiles.ProfileID.tolist(), OmicsDefaultModelProfiles.ModelID.tolist()))\n",
    "sig_table_model[\"ModelID\"] = sig_table_model[\"ProfileID\"].map(renaming_dict)\n",
    "sig_table_model = sig_table_model[sig_table_model.ModelID.isin(published_aneuploidy_scores.DepMap_ID)]"
   ]
  },
  {
   "cell_type": "code",
   "execution_count": null,
   "id": "af4a920f",
   "metadata": {},
   "outputs": [],
   "source": [
    "sig_table_model = sig_table_model.merge(published_aneuploidy_scores.rename(columns={\"DepMap_ID\": \"ModelID\"})[[\"ModelID\", \"Aneuploidy score\"]], on=[\"ModelID\"])"
   ]
  },
  {
   "cell_type": "code",
   "execution_count": null,
   "id": "27f4f52a",
   "metadata": {},
   "outputs": [],
   "source": [
    "sig_table_model"
   ]
  },
  {
   "cell_type": "code",
   "execution_count": null,
   "id": "9b4d4d1f",
   "metadata": {},
   "outputs": [],
   "source": [
    "x = sig_table_model[\"Aneuploidy score\"]\n",
    "y = sig_table_model[\"Aneuploidy\"]\n",
    "\n",
    "plt.scatter(x, y, alpha=0.2)\n",
    "\n",
    "plt.xlabel(\"CCLE - WES and SNP array\")\n",
    "plt.ylabel(\"Current DepMap - WGS and WES\")\n",
    "plt.show()"
   ]
  },
  {
   "cell_type": "code",
   "execution_count": null,
   "id": "635468fe",
   "metadata": {},
   "outputs": [],
   "source": [
    "sig_table_model[(sig_table_model[\"Aneuploidy score\"] < 10) & (sig_table_model[\"Aneuploidy\"] > 25)]"
   ]
  },
  {
   "cell_type": "code",
   "execution_count": null,
   "id": "c193b774",
   "metadata": {},
   "outputs": [],
   "source": [
    "sig_table[(sig_table.ProfileID == \"PR-qskzui\")]"
   ]
  },
  {
   "cell_type": "code",
   "execution_count": null,
   "id": "e0a28cd0",
   "metadata": {},
   "outputs": [],
   "source": [
    "sig_table_with_model = sig_table.merge(pr_table.reset_index().rename(columns={\"index\": \"ProfileID\"})[[\"ProfileID\", \"ModelID\", \"Datatype\"]], on=[\"ProfileID\"])"
   ]
  },
  {
   "cell_type": "code",
   "execution_count": null,
   "id": "ee1f0c83",
   "metadata": {},
   "outputs": [],
   "source": [
    "sig_table_with_model[sig_table_with_model.ModelID == \"ACH-000649\"]"
   ]
  },
  {
   "cell_type": "code",
   "execution_count": null,
   "id": "42833570",
   "metadata": {},
   "outputs": [],
   "source": [
    "sig_table_with_model.set_index(\"ProfileID\")"
   ]
  },
  {
   "cell_type": "code",
   "execution_count": null,
   "id": "2ffb3a4e",
   "metadata": {},
   "outputs": [],
   "source": [
    "print(\"lines that have multiple DNAseq profiles with drastically different aneuploidy scores: \")\n",
    "for m in sig_table_with_model.ModelID.tolist():\n",
    "    s = sig_table_with_model[(sig_table_with_model.ModelID == m)]\n",
    "    if len(s) > 1:\n",
    "        if s.Aneuploidy.max() - s.Aneuploidy.min() > 10:\n",
    "            print(m)"
   ]
  },
  {
   "cell_type": "code",
   "execution_count": null,
   "id": "86d3d2ff",
   "metadata": {},
   "outputs": [],
   "source": []
  }
 ],
 "metadata": {
  "kernelspec": {
   "display_name": "Python 3",
   "language": "python",
   "name": "python3"
  },
  "language_info": {
   "codemirror_mode": {
    "name": "ipython",
    "version": 3
   },
   "file_extension": ".py",
   "mimetype": "text/x-python",
   "name": "python",
   "nbconvert_exporter": "python",
   "pygments_lexer": "ipython3",
   "version": "3.8.13"
  }
 },
 "nbformat": 4,
 "nbformat_minor": 5
}
