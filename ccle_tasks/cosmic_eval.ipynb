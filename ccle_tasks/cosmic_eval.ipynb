{
 "cells": [
  {
   "cell_type": "code",
   "execution_count": null,
   "id": "c2875ae4",
   "metadata": {},
   "outputs": [],
   "source": [
    "import pandas as pd\n",
    "from taigapy import TaigaClient\n",
    "tc = TaigaClient()"
   ]
  },
  {
   "cell_type": "code",
   "execution_count": null,
   "id": "6a596e42",
   "metadata": {},
   "outputs": [],
   "source": [
    "cosmic_cmc = pd.read_csv(\"/home/xiaomeng/bin/depmap_omics/cmc_export.tsv.gz\", sep=\"\\t\")"
   ]
  },
  {
   "cell_type": "code",
   "execution_count": null,
   "id": "0d6793c7",
   "metadata": {},
   "outputs": [],
   "source": [
    "# drop variants that don't have Mutation genome position GRCh38\n",
    "cosmic_cmc_reformatted = cosmic_cmc[~cosmic_cmc[\"Mutation genome position GRCh38\"].isna()]\n",
    "# create chromosome column\n",
    "cosmic_cmc_reformatted[\"chrom\"] = cosmic_cmc_reformatted[\"Mutation genome position GRCh38\"].str.split(\":\").str[0]"
   ]
  },
  {
   "cell_type": "code",
   "execution_count": null,
   "id": "274d04aa",
   "metadata": {},
   "outputs": [],
   "source": [
    "cosmic_cmc_reformatted[\"chrom\"] = \"chr\" + cosmic_cmc_reformatted[\"chrom\"]\n",
    "cosmic_cmc_reformatted = cosmic_cmc_reformatted[cosmic_cmc_reformatted.chrom != \"chr25\"]\n",
    "cosmic_cmc_reformatted = cosmic_cmc_reformatted.replace({'chrom': {\"chr23\": \"chrX\", \"chr24\": \"chrY\"}})"
   ]
  },
  {
   "cell_type": "code",
   "execution_count": null,
   "id": "a78ae804",
   "metadata": {},
   "outputs": [],
   "source": [
    "cosmic_cmc_reformatted[\"pos\"] = cosmic_cmc_reformatted[\"Mutation genome position GRCh38\"].str.replace('-', ':').str.split(\":\").str[1]"
   ]
  },
  {
   "cell_type": "code",
   "execution_count": null,
   "id": "faf0a768",
   "metadata": {},
   "outputs": [],
   "source": [
    "cosmic_cmc_reformatted[\"chrom\"].value_counts()"
   ]
  },
  {
   "cell_type": "code",
   "execution_count": null,
   "id": "dc008b3e",
   "metadata": {},
   "outputs": [],
   "source": [
    "# rename ref and alt columns\n",
    "cosmic_cmc_reformatted = cosmic_cmc_reformatted.rename(columns={\"GENOMIC_WT_ALLELE_SEQ\": \"ref\", \"GENOMIC_MUT_ALLELE_SEQ\": \"alt\"})"
   ]
  },
  {
   "cell_type": "code",
   "execution_count": null,
   "id": "94a7a61a",
   "metadata": {},
   "outputs": [],
   "source": [
    "# keep only tier 1\n",
    "cosmic_cmc_reformatted = cosmic_cmc_reformatted[cosmic_cmc_reformatted.MUTATION_SIGNIFICANCE_TIER == \"1\"]"
   ]
  },
  {
   "cell_type": "code",
   "execution_count": null,
   "id": "9002028f",
   "metadata": {},
   "outputs": [],
   "source": [
    "cosmic_cmc_reformatted.to_csv(\"cosmic_cmc_20230509_tier1.csv\", index=False)"
   ]
  },
  {
   "cell_type": "code",
   "execution_count": null,
   "id": "b6de77c3",
   "metadata": {},
   "outputs": [],
   "source": [
    "cosmic_cmc_reformatted.columns"
   ]
  },
  {
   "cell_type": "code",
   "execution_count": null,
   "id": "c2f8c878",
   "metadata": {},
   "outputs": [],
   "source": [
    "cosmic_tier1 = pd.read_csv(\"gs://cds-cosmic/cosmic_cmc_20230509_tier1.csv\")"
   ]
  },
  {
   "cell_type": "code",
   "execution_count": null,
   "id": "506d9c45",
   "metadata": {},
   "outputs": [],
   "source": [
    "cosmic_tier1"
   ]
  },
  {
   "cell_type": "code",
   "execution_count": null,
   "id": "2ae42251",
   "metadata": {},
   "outputs": [],
   "source": [
    "len(cosmic_tier1.chrom.unique())"
   ]
  },
  {
   "cell_type": "code",
   "execution_count": null,
   "id": "0aef7685",
   "metadata": {},
   "outputs": [],
   "source": [
    "# MIN_SIFT_PRED: D/T/NaN, D == damaging and T == tolerated"
   ]
  },
  {
   "cell_type": "code",
   "execution_count": null,
   "id": "00e711f9",
   "metadata": {},
   "outputs": [],
   "source": [
    "cosmic_cols_tokeep = ['CLINVAR_CLNSIG', 'CLINVAR_TRAIT', 'GERP++_RS', 'MIN_SIFT_SCORE', 'MIN_SIFT_PRED', 'MUTATION_SIGNIFICANCE_TIER']"
   ]
  },
  {
   "cell_type": "code",
   "execution_count": null,
   "id": "0a5a2a50",
   "metadata": {},
   "outputs": [],
   "source": [
    "cosmic_tier1[[\"chrom\", \"pos\", \"ref\", \"alt\"] + cosmic_cols_tokeep]"
   ]
  },
  {
   "cell_type": "code",
   "execution_count": null,
   "id": "9eb9ce71",
   "metadata": {},
   "outputs": [],
   "source": [
    "from taigapy import TaigaClient\n",
    "tc = TaigaClient()\n",
    "\n",
    "OmicsSomaticMutationsMatrixHotspot = tc.get(name='internal-22q4-56d4', version=93, file='OmicsSomaticMutationsMatrixHotspot')\n"
   ]
  },
  {
   "cell_type": "code",
   "execution_count": null,
   "id": "e0095024",
   "metadata": {},
   "outputs": [],
   "source": [
    "OmicsSomaticMutationsMatrixHotspot.sum(axis=1).sort_values(ascending=False)"
   ]
  },
  {
   "cell_type": "code",
   "execution_count": null,
   "id": "1ebca625",
   "metadata": {},
   "outputs": [],
   "source": [
    "new_maf = pd.read_csv(\"gs://fc-secure-c1c2ec19-6efc-4c8d-8410-9bcf6ae87d81/submissions/0328a1f4-3a30-4b73-8fd6-2f5f667e2492/run_vcf_to_depmap/48b70bce-e298-40ba-9617-7ce6740af461/call-vcf_to_depmap/CDS-3oyqwn-maf-coding_somatic-subset.csv.gz\")"
   ]
  },
  {
   "cell_type": "code",
   "execution_count": null,
   "id": "72a4bc82",
   "metadata": {},
   "outputs": [],
   "source": [
    "both = new_maf[(new_maf.hess_driver == \"Y\") & (~new_maf.cosmic_tier.isna())]\n",
    "neither = new_maf[(new_maf.hess_driver != \"Y\") & (new_maf.cosmic_tier.isna())]\n",
    "hess_only = new_maf[(new_maf.hess_driver == \"Y\") & (new_maf.cosmic_tier.isna())]\n",
    "cosmic_only = new_maf[(new_maf.hess_driver != \"Y\") & (~new_maf.cosmic_tier.isna())]"
   ]
  },
  {
   "cell_type": "code",
   "execution_count": null,
   "id": "5e209acd",
   "metadata": {},
   "outputs": [],
   "source": [
    "pd.DataFrame(data=[[len(both), len(cosmic_only)], [len(hess_only), len(neither)]], columns=[\"in hess\", \"not in hess\"], index=[\"in cosmic\", \"not in cosmic\"])"
   ]
  },
  {
   "cell_type": "code",
   "execution_count": null,
   "id": "9c0b4dea",
   "metadata": {},
   "outputs": [],
   "source": [
    "hess_driver = pd.read_csv(\"/home/xiaomeng/bin/depmap_omics/WGS_pipeline/hess_drivers/data/hess_drivers.csv.gz\")"
   ]
  },
  {
   "cell_type": "code",
   "execution_count": null,
   "id": "98f88278",
   "metadata": {},
   "outputs": [],
   "source": [
    "hess_driver"
   ]
  },
  {
   "cell_type": "code",
   "execution_count": null,
   "id": "837f68b9",
   "metadata": {},
   "outputs": [],
   "source": [
    "hess_driver[hess_driver.POS == 26779863]"
   ]
  },
  {
   "cell_type": "code",
   "execution_count": null,
   "id": "fb2d14b0",
   "metadata": {},
   "outputs": [],
   "source": [
    "# aggregating mafs for comparison"
   ]
  },
  {
   "cell_type": "code",
   "execution_count": null,
   "id": "ff600f7a",
   "metadata": {},
   "outputs": [],
   "source": [
    "from depmapomics import mutations\n",
    "import dalmatian as dm\n",
    "\n",
    "wm = dm.WorkspaceManager(\"broad-firecloud-ccle/DEV_DepMap_WES_CN_hg38\")"
   ]
  },
  {
   "cell_type": "code",
   "execution_count": null,
   "id": "53a5287d",
   "metadata": {},
   "outputs": [],
   "source": [
    "agg_maf = mutations.aggregateMAFs(wm, mafcol=\"depmap_maf_withcosmic\")"
   ]
  },
  {
   "cell_type": "code",
   "execution_count": null,
   "id": "e9deaa4d",
   "metadata": {},
   "outputs": [],
   "source": [
    "wm = dm.WorkspaceManager(\"broad-firecloud-ccle/DepMap_WGS_CN_cosmic_run\")\n",
    "agg_maf_wgs = mutations.aggregateMAFs(wm, mafcol=\"depmap_maf_withcosmic\")"
   ]
  },
  {
   "cell_type": "code",
   "execution_count": null,
   "id": "5f3919eb",
   "metadata": {},
   "outputs": [],
   "source": [
    "maf_all = pd.concat([agg_maf, agg_maf_wgs], ignore_index=True)"
   ]
  },
  {
   "cell_type": "code",
   "execution_count": null,
   "id": "91c8859d",
   "metadata": {},
   "outputs": [],
   "source": [
    "maf_all"
   ]
  },
  {
   "cell_type": "code",
   "execution_count": null,
   "id": "a6db15fe",
   "metadata": {},
   "outputs": [],
   "source": [
    "agg_maf[(agg_maf.hugo_symbol == \"APC\") & (~agg_maf.cosmic_tier.isna())][[\"protein_change\", \"popaf\"]]"
   ]
  },
  {
   "cell_type": "code",
   "execution_count": null,
   "id": "f931b875",
   "metadata": {},
   "outputs": [],
   "source": [
    "agg_maf[(agg_maf.hugo_symbol == \"TP53\") & (agg_maf.cosmic_tier.isna()) & (agg_maf.hess_driver == \"Y\")].protein_change.value_counts()"
   ]
  },
  {
   "cell_type": "code",
   "execution_count": null,
   "id": "920c202d",
   "metadata": {},
   "outputs": [],
   "source": [
    "maf_all[\"hugo_protein_change\"] = maf_all[\"hugo_symbol\"] + \" \" + maf_all[\"protein_change\"]"
   ]
  },
  {
   "cell_type": "code",
   "execution_count": null,
   "id": "aafcdcc3",
   "metadata": {},
   "outputs": [],
   "source": [
    "both = maf_all[(maf_all.hess_driver == \"Y\") & (~maf_all.cosmic_tier.isna())]\n",
    "neither = maf_all[(maf_all.hess_driver != \"Y\") & (maf_all.cosmic_tier.isna())]\n",
    "hess_only = maf_all[(maf_all.hess_driver == \"Y\") & (maf_all.cosmic_tier.isna())]\n",
    "cosmic_only = maf_all[(maf_all.hess_driver != \"Y\") & (~maf_all.cosmic_tier.isna())]"
   ]
  },
  {
   "cell_type": "code",
   "execution_count": null,
   "id": "3c679e1f",
   "metadata": {},
   "outputs": [],
   "source": [
    "dict(cosmic_only.hugo_symbol.value_counts())"
   ]
  },
  {
   "cell_type": "code",
   "execution_count": null,
   "id": "a5e7cb45",
   "metadata": {},
   "outputs": [],
   "source": [
    "dict(hess_only.hugo_symbol.value_counts())"
   ]
  },
  {
   "cell_type": "code",
   "execution_count": null,
   "id": "42f1105f",
   "metadata": {},
   "outputs": [],
   "source": [
    "# multiple occurences per variant:\n",
    "pd.DataFrame(data=[[len(both), len(cosmic_only)], [len(hess_only), len(neither)]], columns=[\"in hess\", \"not in hess\"], index=[\"in cosmic\", \"not in cosmic\"])"
   ]
  },
  {
   "cell_type": "code",
   "execution_count": null,
   "id": "cec9762e",
   "metadata": {},
   "outputs": [],
   "source": [
    "# only looking at unique variants:\n",
    "unique_variants = maf_all.drop_duplicates(subset=['chrom','pos','ref','alt'])"
   ]
  },
  {
   "cell_type": "code",
   "execution_count": null,
   "id": "25f2e91a",
   "metadata": {},
   "outputs": [],
   "source": [
    "both_unique = unique_variants[(unique_variants.hess_driver == \"Y\") & (~unique_variants.cosmic_tier.isna())]\n",
    "neither_unique = unique_variants[(unique_variants.hess_driver != \"Y\") & (unique_variants.cosmic_tier.isna())]\n",
    "hess_only_unique = unique_variants[(unique_variants.hess_driver == \"Y\") & (unique_variants.cosmic_tier.isna())]\n",
    "cosmic_only_unique = unique_variants[(unique_variants.hess_driver != \"Y\") & (~unique_variants.cosmic_tier.isna())]\n",
    "pd.DataFrame(data=[[len(both_unique), len(cosmic_only_unique)], [len(hess_only_unique), len(neither_unique)]], columns=[\"in hess\", \"not in hess\"], index=[\"in cosmic\", \"not in cosmic\"])"
   ]
  },
  {
   "cell_type": "code",
   "execution_count": null,
   "id": "62c4a0e3",
   "metadata": {},
   "outputs": [],
   "source": [
    "dict(cosmic_only_unique.hugo_protein_change.value_counts())"
   ]
  },
  {
   "cell_type": "code",
   "execution_count": null,
   "id": "8f02da89",
   "metadata": {},
   "outputs": [],
   "source": [
    "dict(hess_only_unique.hugo_protein_change.value_counts())"
   ]
  },
  {
   "cell_type": "code",
   "execution_count": null,
   "id": "831a46dd",
   "metadata": {},
   "outputs": [],
   "source": [
    "# transform into pr-level\n",
    "from depmap_omics_upload import tracker\n",
    "\n",
    "mytracker = tracker.SampleTracker()\n",
    "seq_table = mytracker.read_seq_table()\n",
    "renaming_dict = dict(zip(seq_table.index, seq_table['ProfileID']))"
   ]
  },
  {
   "cell_type": "code",
   "execution_count": null,
   "id": "8ca35e18",
   "metadata": {},
   "outputs": [],
   "source": [
    "maf_all[\"DepMap_ID\"] = maf_all[\"DepMap_ID\"].replace(renaming_dict)"
   ]
  },
  {
   "cell_type": "code",
   "execution_count": null,
   "id": "dc893fe0",
   "metadata": {},
   "outputs": [],
   "source": [
    "OmicsSomaticMutationsProfile = tc.get(name='internal-23q2-1e49', version=97, file='OmicsSomaticMutationsProfile')\n"
   ]
  },
  {
   "cell_type": "code",
   "execution_count": null,
   "id": "68f34b89",
   "metadata": {},
   "outputs": [],
   "source": [
    "cosmic_maf_23q2 = maf_all[maf_all.DepMap_ID.isin(set(OmicsSomaticMutationsProfile.ProfileID))]"
   ]
  },
  {
   "cell_type": "markdown",
   "id": "4da38481",
   "metadata": {},
   "source": [
    "# actually run depmap mutation postprocessing to get comparable maf"
   ]
  },
  {
   "cell_type": "code",
   "execution_count": null,
   "id": "3516aef0",
   "metadata": {},
   "outputs": [],
   "source": [
    "import pandas as pd\n",
    "\n",
    "cosmic_maf_23q2 = pd.read_csv(\"../output/23Q2/merged_somatic_mutations_profile.csv\")"
   ]
  },
  {
   "cell_type": "code",
   "execution_count": null,
   "id": "b8bd2171",
   "metadata": {},
   "outputs": [],
   "source": [
    "cosmic_maf_23q2 = cosmic_maf_23q2[cosmic_maf_23q2.DepMap_ID.isin(set(OmicsSomaticMutationsProfile.ProfileID))]"
   ]
  },
  {
   "cell_type": "code",
   "execution_count": null,
   "id": "88b22bfd",
   "metadata": {},
   "outputs": [],
   "source": [
    "cosmic_maf_23q2.CosmicTier.value_counts()"
   ]
  },
  {
   "cell_type": "markdown",
   "id": "cbb6df4c",
   "metadata": {},
   "source": [
    "# on the sample-level, calculate overlap and plot"
   ]
  },
  {
   "cell_type": "code",
   "execution_count": null,
   "id": "d161368a",
   "metadata": {},
   "outputs": [],
   "source": [
    "pr_ids = cosmic_maf_23q2.DepMap_ID.unique()\n",
    "overlap_df = pd.DataFrame(columns=[\"hess_only\", \"cosmic_only\", \"neither\", \"both\", \"percent_hess\", \"percent_cosmic\"], index=pr_ids)"
   ]
  },
  {
   "cell_type": "code",
   "execution_count": null,
   "id": "87bd6f5b",
   "metadata": {},
   "outputs": [],
   "source": [
    "pr_ids = cosmic_maf_23q2.DepMap_ID.unique()\n",
    "for pr in pr_ids:\n",
    "    variants = cosmic_maf_23q2[cosmic_maf_23q2.DepMap_ID == pr]\n",
    "    overlap_df.loc[pr, \"both\"] = len(variants[(variants.HessDriver) & (~variants.CosmicTier.isna())])\n",
    "    overlap_df.loc[pr, \"neither\"] = len(variants[(~variants.HessDriver) & (variants.CosmicTier.isna())])\n",
    "    overlap_df.loc[pr, \"hess_only\"] = len(variants[(variants.HessDriver) & (variants.CosmicTier.isna())])\n",
    "    overlap_df.loc[pr, \"cosmic_only\"] = len(variants[(~variants.HessDriver) & (~variants.CosmicTier.isna())])\n",
    "    if overlap_df.loc[pr, \"hess_only\"] + overlap_df.loc[pr, \"both\"] != 0:\n",
    "        overlap_df.loc[pr, \"percent_hess\"] = overlap_df.loc[pr, \"both\"] / (overlap_df.loc[pr, \"hess_only\"] + overlap_df.loc[pr, \"both\"])\n",
    "\n",
    "    if overlap_df.loc[pr, \"cosmic_only\"] + overlap_df.loc[pr, \"both\"] != 0:\n",
    "        overlap_df.loc[pr, \"percent_cosmic\"] = overlap_df.loc[pr, \"both\"] / (overlap_df.loc[pr, \"cosmic_only\"] + overlap_df.loc[pr, \"both\"])\n"
   ]
  },
  {
   "cell_type": "code",
   "execution_count": null,
   "id": "736c2ad7",
   "metadata": {},
   "outputs": [],
   "source": [
    "overlap_df"
   ]
  },
  {
   "cell_type": "code",
   "execution_count": null,
   "id": "899d3f58",
   "metadata": {},
   "outputs": [],
   "source": [
    "overlap_df_toplot = overlap_df[(~overlap_df.percent_hess.isna()) & (~overlap_df.percent_cosmic.isna())]"
   ]
  },
  {
   "cell_type": "code",
   "execution_count": null,
   "id": "76a96209",
   "metadata": {},
   "outputs": [],
   "source": [
    "x = np.array(overlap_df_toplot.percent_hess.tolist())\n",
    "y = np.array(overlap_df_toplot.percent_cosmic.tolist())"
   ]
  },
  {
   "cell_type": "code",
   "execution_count": null,
   "id": "824e2092",
   "metadata": {},
   "outputs": [],
   "source": [
    "import matplotlib.pyplot as plt\n",
    "\n",
    "plt.scatter(x, y, alpha=0.1)\n",
    "\n",
    "plt.xlabel(\"% Hess\")\n",
    "plt.ylabel(\"% COSMIC\")"
   ]
  },
  {
   "cell_type": "code",
   "execution_count": null,
   "id": "4888b98a",
   "metadata": {},
   "outputs": [],
   "source": [
    "from cds import plotting"
   ]
  },
  {
   "cell_type": "code",
   "execution_count": null,
   "id": "799ce566",
   "metadata": {},
   "outputs": [],
   "source": [
    "plotting.density_scatter(x, y)"
   ]
  },
  {
   "cell_type": "code",
   "execution_count": null,
   "id": "89af28af",
   "metadata": {},
   "outputs": [],
   "source": [
    "overlap_df[(~overlap_df.percent_hess.isna()) & (overlap_df.percent_cosmic.isna())]"
   ]
  },
  {
   "cell_type": "code",
   "execution_count": null,
   "id": "af96050d",
   "metadata": {},
   "outputs": [],
   "source": [
    "overlap_df[(overlap_df.percent_hess.isna()) & (~overlap_df.percent_cosmic.isna())]"
   ]
  },
  {
   "cell_type": "markdown",
   "id": "262398be",
   "metadata": {},
   "source": [
    "# Comparison on profiles released in 23Q2"
   ]
  },
  {
   "cell_type": "code",
   "execution_count": null,
   "id": "534486ae",
   "metadata": {},
   "outputs": [],
   "source": [
    "cosmic_maf_23q2[\"unique_var\"] = cosmic_maf_23q2[\"DepMap_ID\"] + cosmic_maf_23q2[\"Chrom\"] + cosmic_maf_23q2[\"Pos\"].astype(str) + cosmic_maf_23q2[\"Ref\"] + cosmic_maf_23q2[\"Alt\"]\n",
    "OmicsSomaticMutationsProfile[\"unique_var\"] = OmicsSomaticMutationsProfile[\"ProfileID\"] + OmicsSomaticMutationsProfile[\"Chrom\"] + OmicsSomaticMutationsProfile[\"Pos\"].astype(str) + OmicsSomaticMutationsProfile[\"Ref\"] + OmicsSomaticMutationsProfile[\"Alt\"]"
   ]
  },
  {
   "cell_type": "code",
   "execution_count": null,
   "id": "d681dbe3",
   "metadata": {},
   "outputs": [],
   "source": [
    "OmicsSomaticMutationsProfile"
   ]
  },
  {
   "cell_type": "code",
   "execution_count": null,
   "id": "7370f62e",
   "metadata": {},
   "outputs": [],
   "source": [
    "cosmic_maf_23q2"
   ]
  },
  {
   "cell_type": "code",
   "execution_count": null,
   "id": "f187f451",
   "metadata": {},
   "outputs": [],
   "source": [
    "new_variants = cosmic_maf_23q2[~cosmic_maf_23q2.unique_var.isin(set(OmicsSomaticMutationsProfile.unique_var))]"
   ]
  },
  {
   "cell_type": "code",
   "execution_count": null,
   "id": "7c27c2e3",
   "metadata": {},
   "outputs": [],
   "source": [
    "new_variants[(new_variants.CivicScore > 8)]"
   ]
  },
  {
   "cell_type": "code",
   "execution_count": null,
   "id": "f1531920",
   "metadata": {},
   "outputs": [],
   "source": [
    "new_dann = new_variants[(new_variants.DannScore > 0.96) & (new_variants.HessDriver != True) & ~(new_variants.CivicScore > 8) & (new_variants.CosmicTier != 1)]"
   ]
  },
  {
   "cell_type": "code",
   "execution_count": null,
   "id": "8b2763de",
   "metadata": {},
   "outputs": [],
   "source": [
    "new_civic = new_variants[(new_variants.DannScore < 0.96) & (new_variants.HessDriver != True) & (new_variants.CivicScore > 8) & (new_variants.CosmicTier != 1)]"
   ]
  },
  {
   "cell_type": "code",
   "execution_count": null,
   "id": "f73d5864",
   "metadata": {},
   "outputs": [],
   "source": [
    "new_civic"
   ]
  },
  {
   "cell_type": "code",
   "execution_count": null,
   "id": "a1adb026",
   "metadata": {},
   "outputs": [],
   "source": [
    "new_variants_minus_dann = new_variants[~((new_variants.DannScore > 0.96) & (new_variants.HessDriver != True) & ~(new_variants.CivicScore > 8) & (new_variants.CosmicTier != 1))]"
   ]
  },
  {
   "cell_type": "code",
   "execution_count": null,
   "id": "e654734c",
   "metadata": {},
   "outputs": [],
   "source": [
    "dict(new_variants_minus_dann.HugoSymbol.value_counts())"
   ]
  },
  {
   "cell_type": "markdown",
   "id": "d1321623",
   "metadata": {},
   "source": [
    "# map civic variants to clinvar significance/pathogenicity score and see overlap"
   ]
  },
  {
   "cell_type": "code",
   "execution_count": null,
   "id": "43ad06bf",
   "metadata": {},
   "outputs": [],
   "source": [
    "civic = pd.read_csv(\"/home/xiaomeng/bin/depmap_omics/WGS_pipeline/civic_export_09222022.csv\").drop(columns=[\"chromosome_37\", \"start_37\"])"
   ]
  },
  {
   "cell_type": "code",
   "execution_count": null,
   "id": "db627a33",
   "metadata": {},
   "outputs": [],
   "source": [
    "civic"
   ]
  },
  {
   "cell_type": "code",
   "execution_count": null,
   "id": "3ccdfd2e",
   "metadata": {},
   "outputs": [],
   "source": [
    "cosmic_cmc_reformatted.pos = cosmic_cmc_reformatted.pos.astype(\"int64\")"
   ]
  },
  {
   "cell_type": "code",
   "execution_count": null,
   "id": "ec175943",
   "metadata": {},
   "outputs": [],
   "source": [
    "cosmic_cmc_reformatted[[\"chrom\", \"pos\", \"ref\", \"alt\", \"CLINVAR_CLNSIG\", \"MUTATION_SIGNIFICANCE_TIER\"]]"
   ]
  },
  {
   "cell_type": "code",
   "execution_count": null,
   "id": "b9dc8c39",
   "metadata": {},
   "outputs": [],
   "source": [
    "merged_civic_cosmic = civic.merge(cosmic_cmc_reformatted[[\"chrom\", \"pos\", \"ref\", \"alt\", \"CLINVAR_CLNSIG\", \"MUTATION_SIGNIFICANCE_TIER\"]], on=[\"chrom\", \"pos\", \"ref\", \"alt\"], how=\"left\")"
   ]
  },
  {
   "cell_type": "code",
   "execution_count": null,
   "id": "c767c3c8",
   "metadata": {},
   "outputs": [],
   "source": [
    "merged_civic_cosmic[merged_civic_cosmic.civic_actionability_score > 8].MUTATION_SIGNIFICANCE_TIER.value_counts(dropna=False)"
   ]
  },
  {
   "cell_type": "code",
   "execution_count": null,
   "id": "22eb9489",
   "metadata": {},
   "outputs": [],
   "source": [
    "merged_civic_cosmic[merged_civic_cosmic.civic_actionability_score > 8]"
   ]
  },
  {
   "cell_type": "code",
   "execution_count": null,
   "id": "068f4158",
   "metadata": {},
   "outputs": [],
   "source": [
    "# https://ftp.ncbi.nlm.nih.gov/pub/clinvar/tab_delimited/"
   ]
  },
  {
   "cell_type": "code",
   "execution_count": null,
   "id": "fdb95380",
   "metadata": {},
   "outputs": [],
   "source": [
    "clinvar_variants = pd.read_csv(\"/home/xiaomeng/bin/depmap_omics/variant_summary.txt.gz\", sep=\"\\t\")"
   ]
  },
  {
   "cell_type": "code",
   "execution_count": null,
   "id": "f408314e",
   "metadata": {},
   "outputs": [],
   "source": [
    "clinvar_variants[[\"Chromosome\", \"Start\", \"Stop\", \"Assembly\", \"GeneSymbol\", \"ReferenceAlleleVCF\", \"AlternateAlleleVCF\", \"ClinSigSimple\"]]"
   ]
  },
  {
   "cell_type": "code",
   "execution_count": null,
   "id": "57871cb5",
   "metadata": {},
   "outputs": [],
   "source": [
    "clinvar_variants.NumberSubmitters.value_counts()"
   ]
  },
  {
   "cell_type": "code",
   "execution_count": null,
   "id": "7388c751",
   "metadata": {},
   "outputs": [],
   "source": [
    "clinvar_variants.loc[100]"
   ]
  },
  {
   "cell_type": "code",
   "execution_count": null,
   "id": "2860f089",
   "metadata": {},
   "outputs": [],
   "source": [
    "clinvar_variants.columns"
   ]
  },
  {
   "cell_type": "code",
   "execution_count": null,
   "id": "4c7e5243",
   "metadata": {},
   "outputs": [],
   "source": [
    "new_variants_minus_dann[new_variants_minus_dann.HugoSymbol == \"ABCB1\"].CivicScore.value_counts()"
   ]
  },
  {
   "cell_type": "code",
   "execution_count": null,
   "id": "e5b7124a",
   "metadata": {},
   "outputs": [],
   "source": [
    "new_variants_minus_dann[new_variants_minus_dann.HugoSymbol == \"ABCB1\"][[\"DannScore\", \"HessDriver\", \"CivicScore\", \"CosmicTier\", \"LikelyLoF\"]]"
   ]
  },
  {
   "cell_type": "code",
   "execution_count": null,
   "id": "2a504c97",
   "metadata": {},
   "outputs": [],
   "source": [
    "from mgenepy.utils import helper as h\n",
    "\n",
    "tumor_suppressor_list = h.fileToList(\"../WGS_pipeline/oncokb_dm/data/tumor_suppressor_oncokb.txt\")"
   ]
  },
  {
   "cell_type": "code",
   "execution_count": null,
   "id": "8833ba80",
   "metadata": {},
   "outputs": [],
   "source": [
    "cosmic_minus_dann = cosmic_maf_23q2[~((cosmic_maf_23q2.hugo_symbol.isin(set(tumor_suppressor_list))) & (cosmic_maf_23q2.dann_score > 0.96) & (cosmic_maf_23q2.hess_driver != \"Y\") & (cosmic_maf_23q2.cosmic_tier != 1) & (cosmic_maf_23q2.civic_score.isna()))]"
   ]
  },
  {
   "cell_type": "code",
   "execution_count": null,
   "id": "d55b7630",
   "metadata": {},
   "outputs": [],
   "source": [
    "minus_civic = cosmic_minus_dann[~((cosmic_minus_dann.hess_driver != \"Y\") & (cosmic_minus_dann.cosmic_tier != 1) & (cosmic_maf_23q2.civic_score > 8))]"
   ]
  },
  {
   "cell_type": "code",
   "execution_count": null,
   "id": "a4f98721",
   "metadata": {},
   "outputs": [],
   "source": [
    "OmicsSomaticMutationsProfile.HugoSymbol.value_counts()"
   ]
  },
  {
   "cell_type": "code",
   "execution_count": null,
   "id": "673f1bca",
   "metadata": {},
   "outputs": [],
   "source": [
    "new_dict = dict(cosmic_minus_dann.hugo_symbol.value_counts())\n",
    "old_dict = dict(OmicsSomaticMutationsProfile.HugoSymbol.value_counts())\n",
    "diff = dict()\n",
    "\n",
    "for k, v in new_dict.items():\n",
    "    if k in old_dict.keys():\n",
    "        v = v - old_dict[k]\n",
    "        if v > 100:\n",
    "            diff[k] = v"
   ]
  },
  {
   "cell_type": "code",
   "execution_count": null,
   "id": "e32f610e",
   "metadata": {},
   "outputs": [],
   "source": [
    "diff"
   ]
  },
  {
   "cell_type": "code",
   "execution_count": null,
   "id": "79d49ac0",
   "metadata": {},
   "outputs": [],
   "source": [
    "cosmic_maf_23q2[(cosmic_maf_23q2.hugo_symbol == \"TP53\") & (cosmic_maf_23q2.civic_score > 8)].civic_score.value_counts()"
   ]
  },
  {
   "cell_type": "code",
   "execution_count": null,
   "id": "21a70949",
   "metadata": {},
   "outputs": [],
   "source": [
    "OmicsSomaticMutationsProfile[(OmicsSomaticMutationsProfile.HugoSymbol == \"FLT3\") & (OmicsSomaticMutationsProfile.CivicScore > 8)][[\"CivicScore\", \"HessDriver\"]]"
   ]
  },
  {
   "cell_type": "code",
   "execution_count": null,
   "id": "21e3c6c2",
   "metadata": {},
   "outputs": [],
   "source": [
    "cosmic_maf_23q2[cosmic_maf_23q2.civic_score.isna()]"
   ]
  },
  {
   "cell_type": "code",
   "execution_count": null,
   "id": "2a5b4f60",
   "metadata": {},
   "outputs": [],
   "source": [
    "cosmic_maf_23q2.columns"
   ]
  },
  {
   "cell_type": "code",
   "execution_count": null,
   "id": "ded53c21",
   "metadata": {},
   "outputs": [],
   "source": [
    "cosmic_maf_23q2[cosmic_maf_23q2.funseq2_score > 0.5]"
   ]
  },
  {
   "cell_type": "code",
   "execution_count": null,
   "id": "980c9b42",
   "metadata": {},
   "outputs": [],
   "source": [
    "cosmic_maf_23q2.funseq2_score.value_counts()"
   ]
  },
  {
   "cell_type": "markdown",
   "id": "c14e23eb",
   "metadata": {},
   "source": [
    "# Compare Civic and COSMIC actionability scores"
   ]
  },
  {
   "cell_type": "code",
   "execution_count": null,
   "id": "81558939",
   "metadata": {},
   "outputs": [],
   "source": [
    "import pandas as pd\n",
    "\n",
    "cosmic_actionability = pd.read_csv(\"../ActionabilityData.tsv\", sep=\"\\t\")\n",
    "civic = pd.read_csv(\"/home/xiaomeng/bin/depmap_omics/01-Jun-2023-VariantSummaries.tsv\", sep=\"\\t\")"
   ]
  },
  {
   "cell_type": "code",
   "execution_count": null,
   "id": "d96a0fe0",
   "metadata": {},
   "outputs": [],
   "source": [
    "cosmic_actionability"
   ]
  },
  {
   "cell_type": "code",
   "execution_count": null,
   "id": "54f9b801",
   "metadata": {},
   "outputs": [],
   "source": [
    "civic"
   ]
  },
  {
   "cell_type": "code",
   "execution_count": null,
   "id": "e5c2c3a0",
   "metadata": {},
   "outputs": [],
   "source": [
    "#!/usr/bin/env python\n",
    "\n",
    "import io\n",
    "import os\n",
    "import pandas as pd\n",
    "\n",
    "\n",
    "def read_vcf(path):\n",
    "    with open(path, 'r') as f:\n",
    "        lines = [l for l in f if not l.startswith('##')]\n",
    "    return pd.read_csv(\n",
    "        io.StringIO(''.join(lines)),\n",
    "        dtype={'#CHROM': str, 'POS': int, 'ID': str, 'REF': str, 'ALT': str,\n",
    "               'QUAL': str, 'FILTER': str, 'INFO': str},\n",
    "        sep='\\t'\n",
    "    ).rename(columns={'#CHROM': 'CHROM'})"
   ]
  },
  {
   "cell_type": "code",
   "execution_count": null,
   "id": "f4bdb1c6",
   "metadata": {},
   "outputs": [],
   "source": [
    "vcf = read_vcf('../clinvar_20230604.vcf')"
   ]
  },
  {
   "cell_type": "code",
   "execution_count": null,
   "id": "247f5a03",
   "metadata": {},
   "outputs": [],
   "source": [
    "vcf.loc[0, \"INFO\"]"
   ]
  },
  {
   "cell_type": "code",
   "execution_count": null,
   "id": "d5c7e53a",
   "metadata": {},
   "outputs": [],
   "source": [
    "vcf.CHROM.unique()"
   ]
  },
  {
   "cell_type": "code",
   "execution_count": null,
   "id": "5a1eccec",
   "metadata": {},
   "outputs": [],
   "source": [
    "import numpy as np\n",
    "\n",
    "def transformGeneInfo(row):\n",
    "    split_list = row.split(';')\n",
    "    geneinfo = [l for l in split_list if l.startswith('GENEINFO')]\n",
    "    if len(geneinfo) > 0:\n",
    "        full = geneinfo[0]\n",
    "        return full.split(\"=\")[1].split(\":\")[0]\n",
    "    else:\n",
    "        return np.nan"
   ]
  },
  {
   "cell_type": "code",
   "execution_count": null,
   "id": "6a6fbdc6",
   "metadata": {},
   "outputs": [],
   "source": [
    "def transformSig(row):\n",
    "    split_list = row.split(';')\n",
    "    geneinfo = [l for l in split_list if l.startswith('CLNSIG')]\n",
    "    if len(geneinfo) > 0:\n",
    "        full = geneinfo[0]\n",
    "        return full.split(\"=\")[1]\n",
    "    else:\n",
    "        return np.nan"
   ]
  },
  {
   "cell_type": "code",
   "execution_count": null,
   "id": "dab6dd1e",
   "metadata": {},
   "outputs": [],
   "source": [
    "vcf[\"GeneName\"] = vcf.apply(lambda x: (transformGeneInfo(x[\"INFO\"])), axis=1)"
   ]
  },
  {
   "cell_type": "code",
   "execution_count": null,
   "id": "26a1bc81",
   "metadata": {},
   "outputs": [],
   "source": [
    "vcf[\"Sig\"] = vcf.apply(lambda x: (transformSig(x[\"INFO\"])), axis=1)"
   ]
  },
  {
   "cell_type": "code",
   "execution_count": null,
   "id": "4add93a7",
   "metadata": {},
   "outputs": [],
   "source": [
    "len(vcf.GeneName.unique())"
   ]
  },
  {
   "cell_type": "code",
   "execution_count": null,
   "id": "24080e75",
   "metadata": {},
   "outputs": [],
   "source": [
    "vcf"
   ]
  },
  {
   "cell_type": "code",
   "execution_count": null,
   "id": "00189d4d",
   "metadata": {},
   "outputs": [],
   "source": [
    "from mgenepy.utils import fetch_biomart as bm\n",
    "\n",
    "mybiomart = bm.generateGeneNames(\n",
    "        useCache=False,\n",
    "        attributes=[\"start_position\", \"end_position\", \"chromosome_name\"],\n",
    "    )"
   ]
  },
  {
   "cell_type": "code",
   "execution_count": null,
   "id": "5e990388",
   "metadata": {},
   "outputs": [],
   "source": [
    "mybiomart"
   ]
  },
  {
   "cell_type": "code",
   "execution_count": null,
   "id": "80961628",
   "metadata": {},
   "outputs": [],
   "source": [
    "overlap = mybiomart[(mybiomart.hgnc_symbol.isin(vcf.GeneName)) & (mybiomart.chromosome_name.isin([\"9\", \"13\", \"21\", \"X\", \"16\"]))]"
   ]
  },
  {
   "cell_type": "code",
   "execution_count": null,
   "id": "4a712a13",
   "metadata": {},
   "outputs": [],
   "source": [
    "overlap[['chromosome_name', \"start_position\", \"end_position\", \"hgnc_symbol\"]]"
   ]
  },
  {
   "cell_type": "code",
   "execution_count": null,
   "id": "47fb2675",
   "metadata": {},
   "outputs": [],
   "source": [
    "overlap['chromosome_name'] = \"chr\" + overlap['chromosome_name']\n",
    "overlap = overlap.rename(columns={'chromosome_name': 'sequence', 'start_position': 'sequenceStart', 'end_position': 'sequenceEnd'})\n"
   ]
  },
  {
   "cell_type": "code",
   "execution_count": null,
   "id": "faa5b0d6",
   "metadata": {},
   "outputs": [],
   "source": [
    "overlap = overlap[[\"sequence\", \"sequenceStart\", \"sequenceEnd\", \"hgnc_symbol\"]]"
   ]
  },
  {
   "cell_type": "code",
   "execution_count": null,
   "id": "5f2837b0",
   "metadata": {},
   "outputs": [],
   "source": [
    "overlap.to_csv(\"overlap.bed\", sep='\\t', index=False)"
   ]
  },
  {
   "cell_type": "code",
   "execution_count": null,
   "id": "aa143015",
   "metadata": {},
   "outputs": [],
   "source": [
    "overlap[overlap.hgnc_symbol == \"U2AF1\"]"
   ]
  },
  {
   "cell_type": "code",
   "execution_count": null,
   "id": "5cdf8461",
   "metadata": {},
   "outputs": [],
   "source": [
    "missing = vcf[(~vcf.GeneName.isin(mybiomart.hgnc_symbol)) & (vcf.CHROM.isin([\"9\", \"13\", \"21\", \"X\", \"16\"]))]"
   ]
  },
  {
   "cell_type": "code",
   "execution_count": null,
   "id": "96f1cd99",
   "metadata": {},
   "outputs": [],
   "source": [
    "missing.Sig.unique()"
   ]
  },
  {
   "cell_type": "code",
   "execution_count": null,
   "id": "c3c34ad6",
   "metadata": {},
   "outputs": [],
   "source": [
    "missing_sig = missing[missing.Sig.isin(['Conflicting_interpretations_of_pathogenicity','Likely_pathogenic',\n",
    "       'Pathogenic/Likely_pathogenic', 'Pathogenic', '2443913:Pathogenic'])]"
   ]
  },
  {
   "cell_type": "code",
   "execution_count": null,
   "id": "cb345224",
   "metadata": {},
   "outputs": [],
   "source": [
    "missing_sig"
   ]
  },
  {
   "cell_type": "code",
   "execution_count": null,
   "id": "d035d866",
   "metadata": {},
   "outputs": [],
   "source": [
    "missing_sig[missing_sig.CHROM == \"16\"]"
   ]
  },
  {
   "cell_type": "code",
   "execution_count": null,
   "id": "9de324c5",
   "metadata": {},
   "outputs": [],
   "source": [
    "vcf[vcf.GeneName == \"TRPM3\"]"
   ]
  },
  {
   "cell_type": "code",
   "execution_count": null,
   "id": "8af8f8d6",
   "metadata": {},
   "outputs": [],
   "source": [
    "vcf.loc[991950, \"INFO\"]"
   ]
  },
  {
   "cell_type": "code",
   "execution_count": null,
   "id": "b1a43210",
   "metadata": {},
   "outputs": [],
   "source": [
    "server = BiomartServer(\"http://feb2023.archive.ensembl.org/biomart\")\n",
    "ensmbl = server.datasets[\"hsapiens_gene_ensembl\"]"
   ]
  },
  {
   "cell_type": "code",
   "execution_count": null,
   "id": "42e36bc2",
   "metadata": {},
   "outputs": [],
   "source": [
    "ensmbl.search({\"attributes\": [\"attributes\"]}, header=1)"
   ]
  },
  {
   "cell_type": "code",
   "execution_count": null,
   "id": "beff6a77",
   "metadata": {},
   "outputs": [],
   "source": [
    "ensmbl.attributes"
   ]
  },
  {
   "cell_type": "markdown",
   "id": "71d5eeee",
   "metadata": {},
   "source": [
    "# Cutoff=0.05, check recurrent/immortalized mutations"
   ]
  },
  {
   "cell_type": "code",
   "execution_count": null,
   "id": "57441eb5",
   "metadata": {},
   "outputs": [],
   "source": [
    "# model-level:\n",
    "OmicsSomaticMutations = tc.get(name='internal-23q2-1e49', version=97, file='OmicsSomaticMutations')\n"
   ]
  },
  {
   "cell_type": "code",
   "execution_count": null,
   "id": "811f55d4",
   "metadata": {},
   "outputs": [],
   "source": [
    "OmicsSomaticMutations"
   ]
  },
  {
   "cell_type": "code",
   "execution_count": null,
   "id": "0f211f96",
   "metadata": {},
   "outputs": [],
   "source": [
    "from collections import Counter\n",
    "\n",
    "def annotateLikelyImmortalized(\n",
    "    maf,\n",
    "    sample_col=\"ModelID\",\n",
    "    genome_change_col=\"DNAChange\",\n",
    "    chrom_col=\"Chrom\",\n",
    "    pos_col=\"Pos\",\n",
    "    hotspotcol=\"cosmic_hotspot\",\n",
    "    max_recurrence=0.05,\n",
    "):\n",
    "    \"\"\"Annotate the maf file with the likely immortalized mutations\n",
    "\n",
    "    Based on occurence accross samples\n",
    "\n",
    "    Args:\n",
    "        maf (pandas.DataFrame): the maf file with columns: sample_col, genome_change_col, TCGAlocs\n",
    "        sample_col (str): the column name of the sample id\n",
    "        genome_change_col (str, optional): the column name of the genome change. Defaults to \"Genome_Change\".\n",
    "        TCGAlocs (list, optional): the column names of the counts that would make the mutation non immortalization induced. Defaults to ['TCGAhsCnt', 'COSMIChsCnt'].\n",
    "        max_recurrence (float, optional): the maximum recurrence rate to call immortalize. Defaults to 0.05.\n",
    "        min_tcga_true_cancer (int, optional): the minimum number of TCGA true cancer samples to not call immortalize. Defaults to 5.\n",
    "\n",
    "    Returns:\n",
    "        pandas.DataFrame: the maf file with the added column: immortalized\n",
    "    \"\"\"\n",
    "    maf[\"is_likely_immortalization\"] = False\n",
    "    maf[\"combined_mut\"] = (\n",
    "        maf[chrom_col] + \"_\" + maf[pos_col].astype(str) + \"_\" + maf[genome_change_col]\n",
    "    )\n",
    "    leng = len(set(maf[sample_col]))\n",
    "    maf[(\n",
    "            maf[\"combined_mut\"].isin(\n",
    "                [\n",
    "                    k\n",
    "                    for k, v in Counter(maf[\"combined_mut\"].tolist()).items()\n",
    "                    if v > max_recurrence * leng\n",
    "                ]\n",
    "            )\n",
    "        )\n",
    "    ][\"LikelyImmortalized\"] = True\n",
    "    # maf = maf.drop(columns=[\"combined_mut\"])\n",
    "    return maf"
   ]
  },
  {
   "cell_type": "code",
   "execution_count": null,
   "id": "e1313c03",
   "metadata": {},
   "outputs": [],
   "source": [
    "annotated = annotateLikelyImmortalized(OmicsSomaticMutations)"
   ]
  },
  {
   "cell_type": "code",
   "execution_count": null,
   "id": "d8fbd232",
   "metadata": {},
   "outputs": [],
   "source": [
    "annotated[annotated.is_likely_immortalization]"
   ]
  },
  {
   "cell_type": "code",
   "execution_count": null,
   "id": "579d4324",
   "metadata": {},
   "outputs": [],
   "source": [
    "annotated.combined_mut.value_counts()"
   ]
  },
  {
   "cell_type": "code",
   "execution_count": null,
   "id": "3a04467f",
   "metadata": {},
   "outputs": [],
   "source": []
  }
 ],
 "metadata": {
  "kernelspec": {
   "display_name": "Python 3",
   "language": "python",
   "name": "python3"
  },
  "language_info": {
   "codemirror_mode": {
    "name": "ipython",
    "version": 3
   },
   "file_extension": ".py",
   "mimetype": "text/x-python",
   "name": "python",
   "nbconvert_exporter": "python",
   "pygments_lexer": "ipython3",
   "version": "3.8.13"
  }
 },
 "nbformat": 4,
 "nbformat_minor": 5
}
