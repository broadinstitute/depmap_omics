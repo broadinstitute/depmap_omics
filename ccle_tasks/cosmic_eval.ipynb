{
 "cells": [
  {
   "cell_type": "code",
   "execution_count": null,
   "id": "c2875ae4",
   "metadata": {},
   "outputs": [],
   "source": [
    "import pandas as pd\n",
    "from taigapy import TaigaClient\n",
    "tc = TaigaClient()"
   ]
  },
  {
   "cell_type": "code",
   "execution_count": null,
   "id": "6a596e42",
   "metadata": {},
   "outputs": [],
   "source": [
    "cosmic_cmc = pd.read_csv(\"/home/xiaomeng/bin/depmap_omics/cmc_export.tsv.gz\", sep=\"\\t\")"
   ]
  },
  {
   "cell_type": "code",
   "execution_count": null,
   "id": "30e3fead",
   "metadata": {},
   "outputs": [],
   "source": [
    "cosmic_cmc_reformatted[\"Mutation genome position GRCh38\"].str.split(\":\").str[0]"
   ]
  },
  {
   "cell_type": "code",
   "execution_count": null,
   "id": "0d6793c7",
   "metadata": {},
   "outputs": [],
   "source": [
    "# drop variants that don't have Mutation genome position GRCh38\n",
    "cosmic_cmc_reformatted = cosmic_cmc[~cosmic_cmc[\"Mutation genome position GRCh38\"].isna()]\n",
    "# create chromosome column\n",
    "cosmic_cmc_reformatted[\"chrom\"] = cosmic_cmc_reformatted[\"Mutation genome position GRCh38\"].str.split(\":\").str[0]\n",
    "cosmic_cmc_reformatted[\"pos\"] = cosmic_cmc_reformatted[\"Mutation genome position GRCh38\"].str.replace('-', ':').str.split(\":\").str[1]"
   ]
  },
  {
   "cell_type": "code",
   "execution_count": null,
   "id": "dc008b3e",
   "metadata": {},
   "outputs": [],
   "source": [
    "# rename ref and alt columns\n",
    "cosmic_cmc_reformatted = cosmic_cmc_reformatted.rename(columns={\"GENOMIC_WT_ALLELE_SEQ\": \"ref\", \"GENOMIC_MUT_ALLELE_SEQ\": \"alt\"})"
   ]
  },
  {
   "cell_type": "code",
   "execution_count": null,
   "id": "94a7a61a",
   "metadata": {},
   "outputs": [],
   "source": [
    "# keep only tier 1\n",
    "cosmic_cmc_reformatted = cosmic_cmc_reformatted[cosmic_cmc_reformatted.MUTATION_SIGNIFICANCE_TIER == \"1\"]"
   ]
  },
  {
   "cell_type": "code",
   "execution_count": null,
   "id": "9002028f",
   "metadata": {},
   "outputs": [],
   "source": [
    "cosmic_cmc_reformatted.to_csv(\"cosmic_cmc_20230509_tier1.csv\", index=False)"
   ]
  },
  {
   "cell_type": "code",
   "execution_count": null,
   "id": "b6de77c3",
   "metadata": {},
   "outputs": [],
   "source": [
    "cosmic_cmc_reformatted.columns"
   ]
  },
  {
   "cell_type": "code",
   "execution_count": null,
   "id": "124b0011",
   "metadata": {},
   "outputs": [],
   "source": [
    "cosmic_cmc_reformatted.CLINVAR_CLNSIG.value_counts()"
   ]
  },
  {
   "cell_type": "code",
   "execution_count": null,
   "id": "8a3db9ff",
   "metadata": {},
   "outputs": [],
   "source": [
    "OmicsSomaticMutations = tc.get(name='internal-22q4-56d4', version=93, file='OmicsSomaticMutations')\n"
   ]
  },
  {
   "cell_type": "code",
   "execution_count": null,
   "id": "6ffcd486",
   "metadata": {},
   "outputs": [],
   "source": [
    "OmicsSomaticMutations.columns"
   ]
  },
  {
   "cell_type": "code",
   "execution_count": null,
   "id": "b5e0f428",
   "metadata": {},
   "outputs": [],
   "source": [
    "OmicsSomaticMutations"
   ]
  },
  {
   "cell_type": "code",
   "execution_count": null,
   "id": "c2f8c878",
   "metadata": {},
   "outputs": [],
   "source": []
  },
  {
   "cell_type": "code",
   "execution_count": null,
   "id": "144ca25b",
   "metadata": {},
   "outputs": [],
   "source": []
  },
  {
   "cell_type": "code",
   "execution_count": null,
   "id": "00e711f9",
   "metadata": {},
   "outputs": [],
   "source": []
  },
  {
   "cell_type": "code",
   "execution_count": null,
   "id": "0a5a2a50",
   "metadata": {},
   "outputs": [],
   "source": []
  },
  {
   "cell_type": "code",
   "execution_count": null,
   "id": "b1eed078",
   "metadata": {},
   "outputs": [],
   "source": []
  },
  {
   "cell_type": "code",
   "execution_count": null,
   "id": "d25eea4c",
   "metadata": {},
   "outputs": [],
   "source": []
  },
  {
   "cell_type": "code",
   "execution_count": null,
   "id": "aa99016c",
   "metadata": {},
   "outputs": [],
   "source": []
  }
 ],
 "metadata": {
  "kernelspec": {
   "display_name": "Python 3",
   "language": "python",
   "name": "python3"
  },
  "language_info": {
   "codemirror_mode": {
    "name": "ipython",
    "version": 3
   },
   "file_extension": ".py",
   "mimetype": "text/x-python",
   "name": "python",
   "nbconvert_exporter": "python",
   "pygments_lexer": "ipython3",
   "version": "3.8.13"
  }
 },
 "nbformat": 4,
 "nbformat_minor": 5
}
