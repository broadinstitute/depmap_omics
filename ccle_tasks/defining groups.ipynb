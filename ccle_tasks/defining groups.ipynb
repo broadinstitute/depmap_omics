{
 "cells": [
  {
   "cell_type": "code",
   "execution_count": null,
   "metadata": {},
   "outputs": [],
   "source": [
    "from taigapy import TaigaClient\n",
    "tc = TaigaClient()\n",
    "from genepy.utils import helper as h "
   ]
  },
  {
   "cell_type": "code",
   "execution_count": null,
   "metadata": {},
   "outputs": [],
   "source": [
    "#rnaseq_transcripts = tc.get(name='internal-22q2-097a', version=15, file='CCLE_expression_transcripts_expected_count')\n",
    "rnaseq_gene = tc.get(name='internal-22q2-097a', version=15, file='CCLE_RNAseq_reads')\n",
    "CCLE_gene_cn = tc.get(name='internal-22q2-097a', version=15, file='CCLE_gene_cn')"
   ]
  },
  {
   "cell_type": "code",
   "execution_count": null,
   "metadata": {},
   "outputs": [],
   "source": []
  },
  {
   "cell_type": "code",
   "execution_count": null,
   "metadata": {},
   "outputs": [],
   "source": [
    "rna_corr = CCLE_gene_cn.corr()"
   ]
  },
  {
   "cell_type": "code",
   "execution_count": null,
   "metadata": {},
   "outputs": [],
   "source": [
    "rna_corr = rnaseq_gene."
   ]
  },
  {
   "cell_type": "code",
   "execution_count": null,
   "metadata": {},
   "outputs": [],
   "source": [
    "col = rna_corr.columns.tolist()"
   ]
  },
  {
   "cell_type": "code",
   "execution_count": null,
   "metadata": {},
   "outputs": [],
   "source": [
    "rna_corr.shape"
   ]
  },
  {
   "cell_type": "code",
   "execution_count": null,
   "metadata": {},
   "outputs": [],
   "source": [
    "# for RNAseq\n",
    "# selecting .99 would get you to 2% genes being dropped\n",
    "# selecting .95 would get you to ~ 3x more genes being dropped\n",
    "# selecting .90 would get you to ~ 5x more genes being dropped\n",
    "# seems to be logarithmic thing\n",
    "\n",
    "# for CN\n",
    "# selecting .99 would get you to 92% genes being dropped\n",
    "# selectring .95 would get you to 96% genes being dropped"
   ]
  },
  {
   "cell_type": "code",
   "execution_count": null,
   "metadata": {},
   "outputs": [],
   "source": [
    "def removeCoVar(mat, maxcorr=0.95):\n",
    "    if type(mat) is pd.DataFrame:\n",
    "        col = mat.columns.tolist()\n",
    "    else:\n",
    "        col = list(range(mat.shape[1]))\n",
    "    loc = np.argwhere(mat.corr()>0.95)\n",
    "    nloc = h.cutLoops(loc)\n",
    "    \n",
    "    drop = []\n",
    "    sameness=[]\n",
    "    for a,b in nloc:\n",
    "        if b in drop:\n",
    "            if a not in drop:\n",
    "                continue\n",
    "            else:\n",
    "                drop.append(a)\n",
    "                for same in sameness:\n",
    "                    if same[0]==col[b]:\n",
    "                        sameness.append((col[a],same[0]))\n",
    "                        break\n",
    "        else:\n",
    "            drop.append(b)\n",
    "            if a in drop:\n",
    "                for same in sameness:\n",
    "                    if same[0]==col[a]:\n",
    "                        sameness.append((col[b],same[0]))\n",
    "                        break\n",
    "            else:\n",
    "                sameness.append((col[b],col[a]))\n",
    "    return sameness, drop"
   ]
  },
  {
   "cell_type": "code",
   "execution_count": null,
   "metadata": {},
   "outputs": [],
   "source": [
    "loc = np.argwhere(rna_corr.values>0.95)"
   ]
  },
  {
   "cell_type": "code",
   "execution_count": null,
   "metadata": {},
   "outputs": [],
   "source": [
    "nloc = h.cutLoops(loc)"
   ]
  },
  {
   "cell_type": "code",
   "execution_count": null,
   "metadata": {},
   "outputs": [],
   "source": [
    "print(len(nloc)/(54_000*54_000))"
   ]
  },
  {
   "cell_type": "code",
   "execution_count": null,
   "metadata": {},
   "outputs": [],
   "source": [
    "for (i,j) in nloc:        \n",
    "    print(col[i],col[j],': ', rna_corr.iloc[i,j])"
   ]
  },
  {
   "cell_type": "code",
   "execution_count": null,
   "metadata": {},
   "outputs": [],
   "source": [
    "drop = []\n",
    "sameness=[]\n",
    "for a,b in nloc:\n",
    "    if b in drop:\n",
    "        if a not in drop:\n",
    "            continue\n",
    "        else:\n",
    "            drop.append(a)\n",
    "            for same in sameness:\n",
    "                if same[0]==col[b]:\n",
    "                    sameness.append((col[a],same[0]))\n",
    "                    break\n",
    "    else:\n",
    "        drop.append(b)\n",
    "        if a in drop:\n",
    "            for same in sameness:\n",
    "                if same[0]==col[a]:\n",
    "                    sameness.append((col[b],same[0]))\n",
    "                    break\n",
    "        else:\n",
    "            sameness.append((col[b],col[a]))"
   ]
  },
  {
   "cell_type": "code",
   "execution_count": null,
   "metadata": {},
   "outputs": [],
   "source": [
    "len(col), len(nloc), len(drop), len(sameness)"
   ]
  },
  {
   "cell_type": "code",
   "execution_count": null,
   "metadata": {},
   "outputs": [],
   "source": [
    "drop"
   ]
  },
  {
   "cell_type": "code",
   "execution_count": null,
   "metadata": {},
   "outputs": [],
   "source": [
    "sameness"
   ]
  },
  {
   "cell_type": "code",
   "execution_count": null,
   "metadata": {},
   "outputs": [],
   "source": []
  }
 ],
 "metadata": {
  "kernelspec": {
   "display_name": "gae",
   "language": "python",
   "name": "gae"
  },
  "language_info": {
   "codemirror_mode": {
    "name": "ipython",
    "version": 3
   },
   "file_extension": ".py",
   "mimetype": "text/x-python",
   "name": "python",
   "nbconvert_exporter": "python",
   "pygments_lexer": "ipython3",
   "version": "3.8.12"
  },
  "latex_envs": {
   "LaTeX_envs_menu_present": true,
   "autoclose": false,
   "autocomplete": true,
   "bibliofile": "biblio.bib",
   "cite_by": "apalike",
   "current_citInitial": 1,
   "eqLabelWithNumbers": true,
   "eqNumInitial": 1,
   "hotkeys": {
    "equation": "Ctrl-E",
    "itemize": "Ctrl-I"
   },
   "labels_anchors": false,
   "latex_user_defs": false,
   "report_style_numbering": false,
   "user_envs_cfg": false
  },
  "toc": {
   "base_numbering": 1,
   "nav_menu": {},
   "number_sections": true,
   "sideBar": true,
   "skip_h1_title": false,
   "title_cell": "Table of Contents",
   "title_sidebar": "Contents",
   "toc_cell": false,
   "toc_position": {},
   "toc_section_display": true,
   "toc_window_display": false
  },
  "varInspector": {
   "cols": {
    "lenName": 16,
    "lenType": 16,
    "lenVar": 40
   },
   "kernels_config": {
    "python": {
     "delete_cmd_postfix": "",
     "delete_cmd_prefix": "del ",
     "library": "var_list.py",
     "varRefreshCmd": "print(var_dic_list())"
    },
    "r": {
     "delete_cmd_postfix": ") ",
     "delete_cmd_prefix": "rm(",
     "library": "var_list.r",
     "varRefreshCmd": "cat(var_dic_list()) "
    }
   },
   "types_to_exclude": [
    "module",
    "function",
    "builtin_function_or_method",
    "instance",
    "_Feature"
   ],
   "window_display": false
  }
 },
 "nbformat": 4,
 "nbformat_minor": 2
}
