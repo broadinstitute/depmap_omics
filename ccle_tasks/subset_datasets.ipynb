{
 "cells": [
  {
   "cell_type": "code",
   "execution_count": null,
   "id": "f815364a",
   "metadata": {},
   "outputs": [],
   "source": [
    "# Subset mutations for Sellers lab\n",
    "# only include CCLE2 lines\n",
    "\n",
    "import pandas as pd\n",
    "import dalmatian as dm"
   ]
  },
  {
   "cell_type": "code",
   "execution_count": null,
   "id": "d66c0fa8",
   "metadata": {},
   "outputs": [],
   "source": [
    "ccle2_ws = \"fccredits-silver-tan-7621/CCLE_v2\""
   ]
  },
  {
   "cell_type": "code",
   "execution_count": null,
   "id": "0e3bff37",
   "metadata": {},
   "outputs": [],
   "source": [
    "ccle2wm = dm.WorkspaceManager(ccle2_ws).disable_hound()"
   ]
  },
  {
   "cell_type": "code",
   "execution_count": null,
   "id": "aa4524dc",
   "metadata": {},
   "outputs": [],
   "source": [
    "ccle2samples = ccle2wm.get_samples()"
   ]
  },
  {
   "cell_type": "code",
   "execution_count": null,
   "id": "80dab4f3",
   "metadata": {},
   "outputs": [],
   "source": [
    "ccle2samples.index"
   ]
  },
  {
   "cell_type": "code",
   "execution_count": null,
   "id": "c1cb33ef",
   "metadata": {},
   "outputs": [],
   "source": [
    "from taigapy import TaigaClient\n",
    "tc = TaigaClient()\n",
    "merged_somatic_mutations = tc.get(name='mutations-latest-ed72', version=24, file='merged_somatic_mutations')"
   ]
  },
  {
   "cell_type": "code",
   "execution_count": null,
   "id": "a74c0a86",
   "metadata": {},
   "outputs": [],
   "source": [
    "merged_somatic_mutations"
   ]
  },
  {
   "cell_type": "code",
   "execution_count": null,
   "id": "fa3f6b62",
   "metadata": {},
   "outputs": [],
   "source": [
    "subset_mut = merged_somatic_mutations[merged_somatic_mutations.DepMap_ID.isin(ccle2samples.index)]\n",
    "subset_mut"
   ]
  },
  {
   "cell_type": "code",
   "execution_count": null,
   "id": "a4fc335c",
   "metadata": {},
   "outputs": [],
   "source": [
    "subset_mut.to_csv(\"ccle2_mutations.csv\", index=None)"
   ]
  },
  {
   "cell_type": "code",
   "execution_count": null,
   "id": "a31c23e6",
   "metadata": {},
   "outputs": [],
   "source": [
    "merged_segments_all = tc.get(name='cn-latest-d8d4', version=26, file='merged_segments_all')\n"
   ]
  },
  {
   "cell_type": "code",
   "execution_count": null,
   "id": "1d85eacf",
   "metadata": {},
   "outputs": [],
   "source": [
    "merged_segments_all"
   ]
  },
  {
   "cell_type": "code",
   "execution_count": null,
   "id": "1951a492",
   "metadata": {},
   "outputs": [],
   "source": [
    "GBM_names = [\"42MGBA\", \"8MGBA\", \"A172\", \"AM38\", \"BECKER\", \"CAS1\", \"CCFSTTG1\", \"DBTRG05MG\", \"DKMG\", \"GAMG\", \"GB1\", \"GI1\", \"GMS10\", \"GOS3\", \"HS683\", \"KALS1\", \"KG1C\", \"KNS42\", \"KNS60\", \"KNS81\", \"LN18\", \"LN229\", \"M059K\", \"NMCG1\", \"SF126\", \"SF268\", \"SF295\", \"SF539\", \"SNB75\", \"SNU1105\", \"SNU201\", \"SNU466\", \"SNU489\", \"SNU626\", \"SNU738\", \"SW1088\", \"SW1783\", \"T98G\", \"TM31\", \"U118MG\", \"U251MG\", \"U87MG\", \"YH13\", \"YKG1\"]"
   ]
  },
  {
   "cell_type": "code",
   "execution_count": null,
   "id": "43dc86e0",
   "metadata": {},
   "outputs": [],
   "source": [
    "from depmapomics import tracker as track\n",
    "trackerobj = track.initTracker()\n",
    "t = trackerobj.read_tracker()\n",
    "t"
   ]
  },
  {
   "cell_type": "code",
   "execution_count": null,
   "id": "49a9c72d",
   "metadata": {},
   "outputs": [],
   "source": [
    "GBM_rows = t[t.stripped_cell_line_name.isin(GBM_names)]\n",
    "GBM_rows"
   ]
  },
  {
   "cell_type": "code",
   "execution_count": null,
   "id": "9035330f",
   "metadata": {},
   "outputs": [],
   "source": [
    "len(GBM_rows.arxspan_id.unique())"
   ]
  },
  {
   "cell_type": "code",
   "execution_count": null,
   "id": "1aed5cfb",
   "metadata": {},
   "outputs": [],
   "source": [
    "GBM_seg = merged_segments_all[merged_segments_all.DepMap_ID.isin(GBM_rows.arxspan_id.unique())]\n",
    "GBM_seg"
   ]
  },
  {
   "cell_type": "code",
   "execution_count": null,
   "id": "82a52b22",
   "metadata": {},
   "outputs": [],
   "source": [
    "GBM_seg.to_csv(\"ccle_seg.csv\", index=None)"
   ]
  },
  {
   "cell_type": "code",
   "execution_count": null,
   "id": "7b062deb",
   "metadata": {},
   "outputs": [],
   "source": [
    "# Check cclf twist snv output\n",
    "twistwm = dm.WorkspaceManager(\"nci-mimoun-bi-org/PANCAN_TWIST copy\").disable_hound()"
   ]
  },
  {
   "cell_type": "code",
   "execution_count": null,
   "id": "01f37ec3",
   "metadata": {},
   "outputs": [],
   "source": [
    "twist_pairsets = twistwm.get_pair_sets()\n",
    "twist_pairsets"
   ]
  },
  {
   "cell_type": "code",
   "execution_count": null,
   "id": "67e235b7",
   "metadata": {},
   "outputs": [],
   "source": [
    "twist41snv = pd.read_csv(twist_pairsets.loc[\"CCLF_TWIST41_pairs\", \"aggregate_snvs\"], sep=\"\\t\")\n",
    "twist41snv"
   ]
  },
  {
   "cell_type": "code",
   "execution_count": null,
   "id": "78d2bba8",
   "metadata": {},
   "outputs": [],
   "source": [
    "twist41subset = twist41snv[twist41snv.external_id == \"ACH-003025_BOM_P7_3D_1\"]\n",
    "twist41subset[twist41subset.Chromosome == \"16\"]['Hugo_Symbol']"
   ]
  },
  {
   "cell_type": "code",
   "execution_count": null,
   "id": "f2d2e96d",
   "metadata": {},
   "outputs": [],
   "source": [
    "twist41subset[twist41subset.Chromosome == \"16\"][['Start_position', 'End_position']]"
   ]
  },
  {
   "cell_type": "code",
   "execution_count": null,
   "id": "60796e2b",
   "metadata": {},
   "outputs": [],
   "source": [
    "twist41snv[twist41snv.external_id == \"ACH-003025_BOM_P7_3D_1\"].to_csv(\"ACH003025.csv\", index=None)"
   ]
  },
  {
   "cell_type": "code",
   "execution_count": null,
   "id": "8e850462",
   "metadata": {},
   "outputs": [],
   "source": [
    "maf = pd.read_csv(\"gs://fc-secure-bd7b8bc9-f665-4269-997e-5a402088a369/1cdc902e-234f-450c-9303-406fb34ff6ad/WGS_pipeline/b6bc83be-af09-4ac2-8c91-57bf070b8870/call-filterMaf/CDS-0JJKl3_outMAFfn.txt\", sep=\"\\t\")\n",
    "maf\n"
   ]
  },
  {
   "cell_type": "code",
   "execution_count": null,
   "id": "5b7e20cd",
   "metadata": {},
   "outputs": [],
   "source": [
    "maf.dbNSFP_Polyphen2_HVAR_pred.unique()"
   ]
  },
  {
   "cell_type": "code",
   "execution_count": null,
   "id": "7921cf1c",
   "metadata": {},
   "outputs": [],
   "source": [
    "proteincoding_genes_tpm_logp1 = tc.get(name='expression-d035', version=21, file='proteincoding_genes_tpm_logp1')\n",
    "proteincoding_genes_tpm_logp1"
   ]
  },
  {
   "cell_type": "code",
   "execution_count": null,
   "id": "9ccda858",
   "metadata": {},
   "outputs": [],
   "source": [
    "filter_col = [col for col in proteincoding_genes_tpm_logp1 if col.startswith(('ERBB2 (', 'ESR1 (', 'PGR ('))]\n",
    "filter_col"
   ]
  },
  {
   "cell_type": "code",
   "execution_count": null,
   "id": "fcc58def",
   "metadata": {},
   "outputs": [],
   "source": [
    "from scipy.stats import zscore\n",
    "zscores = proteincoding_genes_tpm_logp1.apply(zscore)\n",
    "zscores"
   ]
  },
  {
   "cell_type": "code",
   "execution_count": null,
   "id": "c052ee50",
   "metadata": {},
   "outputs": [],
   "source": [
    "minerva_lines = [\"ACH-002949\", \"ACH-002839\", \"ACH-002741\", \"ACH-002885\", \"ACH-002950\", \"ACH-002951\", \"ACH-002954\", \"ACH-002968\", \"ACH-002981\", \"ACH-002883\", \"ACH-002835\", \"ACH-002744\", \"ACH-002837\", \"ACH-002730\", \"ACH-002742\", \"ACH-002743\", \"ACH-002947\", \"ACH-002871\", \"ACH-002735\", \"ACH-002757\", \"ACH-002972\", \"ACH-002869\", \"ACH-002737\", \"ACH-002853\", \"ACH-002738\", \"ACH-002979\", \"ACH-002841\", \"ACH-002736\", \"ACH-002884\", \"ACH-002745\", \"ACH-002967\", \"ACH-002733\"]\n",
    "minerva_zscores = zscores[zscores.index.isin(minerva_lines)].T\n",
    "minerva_zscores.to_csv(\"minerva_expression_zscores.csv\")"
   ]
  },
  {
   "cell_type": "code",
   "execution_count": null,
   "id": "0ccc89db",
   "metadata": {},
   "outputs": [],
   "source": [
    "minerva_zscores.loc[\"ACH-002949\", \"PGR (5241)\"]"
   ]
  },
  {
   "cell_type": "code",
   "execution_count": null,
   "id": "33a10c38",
   "metadata": {},
   "outputs": [],
   "source": [
    "from biomart import BiomartServer\n",
    "import io\n",
    "\n",
    "def _fetchFromServer(ensemble_server, attributes):\n",
    "    server = BiomartServer(ensemble_server)\n",
    "    ensmbl = server.datasets[\"hsapiens_gene_ensembl\"]\n",
    "    res = pd.read_csv(\n",
    "        io.StringIO(\n",
    "            ensmbl.search({\"attributes\": attributes}, header=1).content.decode()\n",
    "        ),\n",
    "        sep=\"\\t\",\n",
    "    )\n",
    "    return res\n",
    "\n",
    "def generateGeneNames(\n",
    "    ensemble_server=\"http://nov2020.archive.ensembl.org/biomart\",\n",
    "    useCache=False,\n",
    "    cache_folder=\"\",\n",
    "    attributes=[],\n",
    "):\n",
    "    \"\"\"generate a genelist dataframe from ensembl's biomart\n",
    "\n",
    "  Args:\n",
    "      ensemble_server ([type], optional): [description]. Defaults to ENSEMBL_SERVER_V.\n",
    "      useCache (bool, optional): [description]. Defaults to False.\n",
    "      cache_folder ([type], optional): [description]. Defaults to CACHE_PATH.\n",
    "\n",
    "  Raises:\n",
    "      ValueError: [description]\n",
    "\n",
    "  Returns:\n",
    "      [type]: [description]\n",
    "  \"\"\"\n",
    "    attr = [\n",
    "        \"ensembl_gene_id\",\n",
    "        \"hgnc_symbol\",\n",
    "        \"gene_biotype\",\n",
    "        \"entrezgene_id\",\n",
    "    ]\n",
    "    #assert cache_folder[-1] == \"/\"\n",
    "\n",
    "    cache_folder = os.path.expanduser(cache_folder)\n",
    "    #createFoldersFor(cache_folder)\n",
    "    cachefile = os.path.join(cache_folder, \".biomart.csv\")\n",
    "    if useCache & os.path.isfile(cachefile):\n",
    "        print(\"fetching gene names from biomart cache\")\n",
    "        res = pd.read_csv(cachefile)\n",
    "    else:\n",
    "        print(\"downloading gene names from biomart\")\n",
    "        res = _fetchFromServer(ensemble_server, attr + attributes)\n",
    "        res.to_csv(cachefile, index=False)\n",
    "\n",
    "    res.columns = attr + attributes\n",
    "    if type(res) is not type(pd.DataFrame()):\n",
    "        raise ValueError(\"should be a dataframe\")\n",
    "    res = res[~(res[\"hgnc_symbol\"].isna())]\n",
    "\n",
    "    return res"
   ]
  },
  {
   "cell_type": "code",
   "execution_count": null,
   "id": "cb029471",
   "metadata": {},
   "outputs": [],
   "source": [
    "from genepy.utils import helper as h\n",
    "\n",
    "mybiomart = generateGeneNames(ensemble_server=\"http://dec2021.archive.ensembl.org/biomart\", useCache=False)\n",
    "mybiomart"
   ]
  },
  {
   "cell_type": "code",
   "execution_count": null,
   "id": "9a3f12f1",
   "metadata": {},
   "outputs": [],
   "source": [
    "mybiomart[mybiomart.entrezgene_id == 1394.0]›"
   ]
  },
  {
   "cell_type": "code",
   "execution_count": null,
   "id": "c051f2b6",
   "metadata": {},
   "outputs": [],
   "source": [
    "protmybiomart = mybiomart[mybiomart.gene_biotype == \"protein_coding\"]"
   ]
  },
  {
   "cell_type": "code",
   "execution_count": null,
   "id": "e1512584",
   "metadata": {},
   "outputs": [],
   "source": [
    "protmybiomart"
   ]
  },
  {
   "cell_type": "code",
   "execution_count": null,
   "id": "ad7f3c5e",
   "metadata": {},
   "outputs": [],
   "source": [
    "mybiomart_unique = protmybiomart.drop_duplicates(subset='ensembl_gene_id', keep=\"first\")\n",
    "mybiomart_unique"
   ]
  },
  {
   "cell_type": "code",
   "execution_count": null,
   "id": "ae06df65",
   "metadata": {},
   "outputs": [],
   "source": [
    "grouped = mybiomart_unique.groupby(['entrezgene_id'])"
   ]
  },
  {
   "cell_type": "code",
   "execution_count": null,
   "id": "970bafc9",
   "metadata": {},
   "outputs": [],
   "source": [
    "dups = []\n",
    "for name, group in grouped:\n",
    "    if len(group) > 1 and len(set(group.hgnc_symbol)) > 1:\n",
    "        print(set(group.hgnc_symbol))\n",
    "        dups.append((str(int(name)), set(group.hgnc_symbol)))"
   ]
  },
  {
   "cell_type": "code",
   "execution_count": null,
   "id": "dca2832a",
   "metadata": {},
   "outputs": [],
   "source": [
    "dups"
   ]
  },
  {
   "cell_type": "code",
   "execution_count": null,
   "id": "64d63779",
   "metadata": {},
   "outputs": [],
   "source": [
    "mybiomart[mybiomart.entrezgene_id == 3811.0]"
   ]
  },
  {
   "cell_type": "code",
   "execution_count": null,
   "id": "add11d5a",
   "metadata": {},
   "outputs": [],
   "source": [
    "myoldbiomart = generateGeneNames(ensemble_server=ENSEMBL_SERVER_V, useCache=False)\n",
    "myoldbiomart"
   ]
  },
  {
   "cell_type": "code",
   "execution_count": null,
   "id": "54b8c951",
   "metadata": {},
   "outputs": [],
   "source": [
    "protmyoldbiomart = myoldbiomart[myoldbiomart.gene_biotype == \"protein_coding\"]\n",
    "myoldbiomart_unique = protmyoldbiomart.drop_duplicates(subset='ensembl_gene_id', keep=\"first\")\n",
    "groupedold = myoldbiomart_unique.groupby(['entrezgene_id'])\n",
    "\n",
    "dupsold = []\n",
    "for name, group in groupedold:\n",
    "    if len(group) > 1 and len(set(group.hgnc_symbol)) > 1:\n",
    "        print(set(group.hgnc_symbol))\n",
    "        dupsold.append((str(int(name)), set(group.hgnc_symbol)))"
   ]
  },
  {
   "cell_type": "code",
   "execution_count": null,
   "id": "dfb04879",
   "metadata": {},
   "outputs": [],
   "source": [
    "dupsold"
   ]
  },
  {
   "cell_type": "code",
   "execution_count": null,
   "id": "bb12fef6",
   "metadata": {},
   "outputs": [],
   "source": [
    "myoldbiomart[myoldbiomart.entrezgene_id == 3811.0]"
   ]
  },
  {
   "cell_type": "code",
   "execution_count": null,
   "id": "38acc243",
   "metadata": {},
   "outputs": [],
   "source": [
    "myoldbiomart[myoldbiomart.hgnc_symbol == \"CRHR1\"]"
   ]
  },
  {
   "cell_type": "code",
   "execution_count": null,
   "id": "38b7529a",
   "metadata": {},
   "outputs": [],
   "source": [
    "from taigapy import TaigaClient\n",
    "tc = TaigaClient()\n",
    "\n",
    "CCLE_expression = tc.get(name='internal-22q1-1778', version=24, file='CCLE_expression')\n",
    "CCLE_expression"
   ]
  },
  {
   "cell_type": "code",
   "execution_count": null,
   "id": "962e1e95",
   "metadata": {},
   "outputs": [],
   "source": [
    "CCLE_expression[['KIR3DL1 (3811)']]"
   ]
  },
  {
   "cell_type": "code",
   "execution_count": null,
   "id": "c784aeb3",
   "metadata": {},
   "outputs": [],
   "source": []
  },
  {
   "cell_type": "code",
   "execution_count": null,
   "id": "8a0dd9c3",
   "metadata": {},
   "outputs": [],
   "source": [
    "rnawm = dm.WorkspaceManager('terra-broad-cancer-prod/CCLE_DepMap_RNAseq')\n",
    "rnasamples = rnawm.get_samples()\n",
    "rnasamples"
   ]
  },
  {
   "cell_type": "code",
   "execution_count": null,
   "id": "81118c53",
   "metadata": {},
   "outputs": [],
   "source": [
    "from taigapy import TaigaClient\n",
    "tc = TaigaClient()\n",
    "achilles_gene_cn = tc.get(name='cn-achilles-version-06ca', version=70, file='achilles_gene_cn')"
   ]
  },
  {
   "cell_type": "code",
   "execution_count": null,
   "id": "d8228815",
   "metadata": {},
   "outputs": [],
   "source": [
    "achilles_gene_cn"
   ]
  },
  {
   "cell_type": "code",
   "execution_count": null,
   "id": "b2a1b1d2",
   "metadata": {},
   "outputs": [],
   "source": [
    "all_21Q2_gene_cn = tc.get(name='cn-achilles-version-06ca', version=60, file='all_21Q2_gene_cn')"
   ]
  },
  {
   "cell_type": "code",
   "execution_count": null,
   "id": "6c5c37ae",
   "metadata": {},
   "outputs": [],
   "source": [
    "all_21Q2_gene_cn"
   ]
  },
  {
   "cell_type": "code",
   "execution_count": null,
   "id": "fe34cc62",
   "metadata": {},
   "outputs": [],
   "source": [
    "pd.read_csv(\"../temp/21Q4v2/merged_somatic_mutations_boolmatrix_other.csv\")"
   ]
  },
  {
   "cell_type": "code",
   "execution_count": null,
   "id": "8641e876",
   "metadata": {},
   "outputs": [],
   "source": []
  }
 ],
 "metadata": {
  "kernelspec": {
   "display_name": "Python 3",
   "language": "python",
   "name": "python3"
  },
  "language_info": {
   "codemirror_mode": {
    "name": "ipython",
    "version": 3
   },
   "file_extension": ".py",
   "mimetype": "text/x-python",
   "name": "python",
   "nbconvert_exporter": "python",
   "pygments_lexer": "ipython3",
   "version": "3.8.2"
  }
 },
 "nbformat": 4,
 "nbformat_minor": 5
}
