{
 "cells": [
  {
   "cell_type": "code",
   "execution_count": null,
   "id": "f815364a",
   "metadata": {},
   "outputs": [],
   "source": [
    "# Subset mutations for Sellers lab\n",
    "# only include CCLE2 lines\n",
    "\n",
    "import pandas as pd\n",
    "import dalmatian as dm"
   ]
  },
  {
   "cell_type": "code",
   "execution_count": null,
   "id": "d66c0fa8",
   "metadata": {},
   "outputs": [],
   "source": [
    "ccle2_ws = \"fccredits-silver-tan-7621/CCLE_v2\""
   ]
  },
  {
   "cell_type": "code",
   "execution_count": null,
   "id": "0e3bff37",
   "metadata": {},
   "outputs": [],
   "source": [
    "ccle2wm = dm.WorkspaceManager(ccle2_ws).disable_hound()"
   ]
  },
  {
   "cell_type": "code",
   "execution_count": null,
   "id": "aa4524dc",
   "metadata": {},
   "outputs": [],
   "source": [
    "ccle2samples = ccle2wm.get_samples()"
   ]
  },
  {
   "cell_type": "code",
   "execution_count": null,
   "id": "80dab4f3",
   "metadata": {},
   "outputs": [],
   "source": [
    "ccle2samples.index"
   ]
  },
  {
   "cell_type": "code",
   "execution_count": null,
   "id": "c1cb33ef",
   "metadata": {},
   "outputs": [],
   "source": [
    "from taigapy import TaigaClient\n",
    "tc = TaigaClient()\n",
    "merged_somatic_mutations = tc.get(name='mutations-latest-ed72', version=24, file='merged_somatic_mutations')"
   ]
  },
  {
   "cell_type": "code",
   "execution_count": null,
   "id": "a74c0a86",
   "metadata": {},
   "outputs": [],
   "source": [
    "merged_somatic_mutations"
   ]
  },
  {
   "cell_type": "code",
   "execution_count": null,
   "id": "fa3f6b62",
   "metadata": {},
   "outputs": [],
   "source": [
    "subset_mut = merged_somatic_mutations[merged_somatic_mutations.DepMap_ID.isin(ccle2samples.index)]\n",
    "subset_mut"
   ]
  },
  {
   "cell_type": "code",
   "execution_count": null,
   "id": "a4fc335c",
   "metadata": {},
   "outputs": [],
   "source": [
    "subset_mut.to_csv(\"ccle2_mutations.csv\", index=None)"
   ]
  },
  {
   "cell_type": "code",
   "execution_count": null,
   "id": "a31c23e6",
   "metadata": {},
   "outputs": [],
   "source": [
    "merged_segments_all = tc.get(name='cn-latest-d8d4', version=26, file='merged_segments_all')\n"
   ]
  },
  {
   "cell_type": "code",
   "execution_count": null,
   "id": "1d85eacf",
   "metadata": {},
   "outputs": [],
   "source": [
    "merged_segments_all"
   ]
  },
  {
   "cell_type": "code",
   "execution_count": null,
   "id": "1951a492",
   "metadata": {},
   "outputs": [],
   "source": [
    "GBM_names = [\"42MGBA\", \"8MGBA\", \"A172\", \"AM38\", \"BECKER\", \"CAS1\", \"CCFSTTG1\", \"DBTRG05MG\", \"DKMG\", \"GAMG\", \"GB1\", \"GI1\", \"GMS10\", \"GOS3\", \"HS683\", \"KALS1\", \"KG1C\", \"KNS42\", \"KNS60\", \"KNS81\", \"LN18\", \"LN229\", \"M059K\", \"NMCG1\", \"SF126\", \"SF268\", \"SF295\", \"SF539\", \"SNB75\", \"SNU1105\", \"SNU201\", \"SNU466\", \"SNU489\", \"SNU626\", \"SNU738\", \"SW1088\", \"SW1783\", \"T98G\", \"TM31\", \"U118MG\", \"U251MG\", \"U87MG\", \"YH13\", \"YKG1\"]"
   ]
  },
  {
   "cell_type": "code",
   "execution_count": null,
   "id": "43dc86e0",
   "metadata": {},
   "outputs": [],
   "source": [
    "from depmapomics import tracker as track\n",
    "trackerobj = track.initTracker()\n",
    "t = trackerobj.read_tracker()\n",
    "t"
   ]
  },
  {
   "cell_type": "code",
   "execution_count": null,
   "id": "49a9c72d",
   "metadata": {},
   "outputs": [],
   "source": [
    "GBM_rows = t[t.stripped_cell_line_name.isin(GBM_names)]\n",
    "GBM_rows"
   ]
  },
  {
   "cell_type": "code",
   "execution_count": null,
   "id": "9035330f",
   "metadata": {},
   "outputs": [],
   "source": [
    "len(GBM_rows.arxspan_id.unique())"
   ]
  },
  {
   "cell_type": "code",
   "execution_count": null,
   "id": "1aed5cfb",
   "metadata": {},
   "outputs": [],
   "source": [
    "GBM_seg = merged_segments_all[merged_segments_all.DepMap_ID.isin(GBM_rows.arxspan_id.unique())]\n",
    "GBM_seg"
   ]
  },
  {
   "cell_type": "code",
   "execution_count": null,
   "id": "82a52b22",
   "metadata": {},
   "outputs": [],
   "source": [
    "GBM_seg.to_csv(\"ccle_seg.csv\", index=None)"
   ]
  },
  {
   "cell_type": "code",
   "execution_count": null,
   "id": "7b062deb",
   "metadata": {},
   "outputs": [],
   "source": [
    "# Check cclf twist snv output\n",
    "twistwm = dm.WorkspaceManager(\"nci-mimoun-bi-org/PANCAN_TWIST copy\").disable_hound()"
   ]
  },
  {
   "cell_type": "code",
   "execution_count": null,
   "id": "01f37ec3",
   "metadata": {},
   "outputs": [],
   "source": [
    "twist_pairsets = twistwm.get_pair_sets()\n",
    "twist_pairsets"
   ]
  },
  {
   "cell_type": "code",
   "execution_count": null,
   "id": "67e235b7",
   "metadata": {},
   "outputs": [],
   "source": [
    "twist41snv = pd.read_csv(twist_pairsets.loc[\"CCLF_TWIST41_pairs\", \"aggregate_snvs\"], sep=\"\\t\")\n",
    "twist41snv"
   ]
  },
  {
   "cell_type": "code",
   "execution_count": null,
   "id": "78d2bba8",
   "metadata": {},
   "outputs": [],
   "source": [
    "twist41subset = twist41snv[twist41snv.external_id == \"ACH-003025_BOM_P7_3D_1\"]\n",
    "twist41subset[twist41subset.Chromosome == \"16\"]['Hugo_Symbol']"
   ]
  },
  {
   "cell_type": "code",
   "execution_count": null,
   "id": "f2d2e96d",
   "metadata": {},
   "outputs": [],
   "source": [
    "twist41subset[twist41subset.Chromosome == \"16\"][['Start_position', 'End_position']]"
   ]
  },
  {
   "cell_type": "code",
   "execution_count": null,
   "id": "60796e2b",
   "metadata": {},
   "outputs": [],
   "source": [
    "twist41snv[twist41snv.external_id == \"ACH-003025_BOM_P7_3D_1\"].to_csv(\"ACH003025.csv\", index=None)"
   ]
  },
  {
   "cell_type": "code",
   "execution_count": null,
   "id": "8e850462",
   "metadata": {},
   "outputs": [],
   "source": [
    "maf = pd.read_csv(\"gs://fc-secure-bd7b8bc9-f665-4269-997e-5a402088a369/1cdc902e-234f-450c-9303-406fb34ff6ad/WGS_pipeline/b6bc83be-af09-4ac2-8c91-57bf070b8870/call-filterMaf/CDS-0JJKl3_outMAFfn.txt\", sep=\"\\t\")\n",
    "maf\n"
   ]
  },
  {
   "cell_type": "code",
   "execution_count": null,
   "id": "5b7e20cd",
   "metadata": {},
   "outputs": [],
   "source": [
    "maf.dbNSFP_Polyphen2_HVAR_pred.unique()"
   ]
  },
  {
   "cell_type": "code",
   "execution_count": null,
   "id": "7921cf1c",
   "metadata": {},
   "outputs": [],
   "source": [
    "proteincoding_genes_tpm_logp1 = tc.get(name='expression-d035', version=21, file='proteincoding_genes_tpm_logp1')\n",
    "proteincoding_genes_tpm_logp1"
   ]
  },
  {
   "cell_type": "code",
   "execution_count": null,
   "id": "98dc7b91",
   "metadata": {},
   "outputs": [],
   "source": [
    "proteincoding_genes_tpm_logp1[]"
   ]
  },
  {
   "cell_type": "code",
   "execution_count": null,
   "id": "9ccda858",
   "metadata": {},
   "outputs": [],
   "source": [
    "filter_col = [col for col in proteincoding_genes_tpm_logp1 if col.startswith(('ERBB2 (', 'ESR1 (', 'PGR ('))]\n",
    "filter_col"
   ]
  },
  {
   "cell_type": "code",
   "execution_count": null,
   "id": "fcc58def",
   "metadata": {},
   "outputs": [],
   "source": [
    "from scipy.stats import zscore\n",
    "zscores = proteincoding_genes_tpm_logp1[filter_col].apply(zscore)\n",
    "zscores.loc[['ACH-002949', 'ACH-002950', 'ACH-002951', 'ACH-002883', 'ACH-002885']]"
   ]
  },
  {
   "cell_type": "code",
   "execution_count": null,
   "id": "cb029471",
   "metadata": {},
   "outputs": [],
   "source": []
  }
 ],
 "metadata": {
  "kernelspec": {
   "display_name": "Python 3",
   "language": "python",
   "name": "python3"
  },
  "language_info": {
   "codemirror_mode": {
    "name": "ipython",
    "version": 3
   },
   "file_extension": ".py",
   "mimetype": "text/x-python",
   "name": "python",
   "nbconvert_exporter": "python",
   "pygments_lexer": "ipython3",
   "version": "3.8.2"
  }
 },
 "nbformat": 4,
 "nbformat_minor": 5
}
