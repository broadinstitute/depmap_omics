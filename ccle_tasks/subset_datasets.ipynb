{
 "cells": [
  {
   "cell_type": "code",
   "execution_count": null,
   "id": "f815364a",
   "metadata": {},
   "outputs": [],
   "source": [
    "# Subset mutations for Sellers lab\n",
    "# only include CCLE2 lines\n",
    "\n",
    "import pandas as pd\n",
    "import dalmatian as dm"
   ]
  },
  {
   "cell_type": "code",
   "execution_count": null,
   "id": "d66c0fa8",
   "metadata": {},
   "outputs": [],
   "source": [
    "ccle2_ws = \"fccredits-silver-tan-7621/CCLE_v2\""
   ]
  },
  {
   "cell_type": "code",
   "execution_count": null,
   "id": "0e3bff37",
   "metadata": {},
   "outputs": [],
   "source": [
    "ccle2wm = dm.WorkspaceManager(ccle2_ws).disable_hound()"
   ]
  },
  {
   "cell_type": "code",
   "execution_count": null,
   "id": "aa4524dc",
   "metadata": {},
   "outputs": [],
   "source": [
    "ccle2samples = ccle2wm.get_samples()"
   ]
  },
  {
   "cell_type": "code",
   "execution_count": null,
   "id": "80dab4f3",
   "metadata": {},
   "outputs": [],
   "source": [
    "ccle2samples.index"
   ]
  },
  {
   "cell_type": "code",
   "execution_count": null,
   "id": "c1cb33ef",
   "metadata": {},
   "outputs": [],
   "source": [
    "from taigapy import TaigaClient\n",
    "tc = TaigaClient()\n",
    "merged_somatic_mutations = tc.get(name='mutations-latest-ed72', version=24, file='merged_somatic_mutations')"
   ]
  },
  {
   "cell_type": "code",
   "execution_count": null,
   "id": "a74c0a86",
   "metadata": {},
   "outputs": [],
   "source": [
    "merged_somatic_mutations"
   ]
  },
  {
   "cell_type": "code",
   "execution_count": null,
   "id": "fa3f6b62",
   "metadata": {},
   "outputs": [],
   "source": [
    "subset_mut = merged_somatic_mutations[merged_somatic_mutations.DepMap_ID.isin(ccle2samples.index)]\n",
    "subset_mut"
   ]
  },
  {
   "cell_type": "code",
   "execution_count": null,
   "id": "a4fc335c",
   "metadata": {},
   "outputs": [],
   "source": [
    "subset_mut.to_csv(\"ccle2_mutations.csv\", index=None)"
   ]
  },
  {
   "cell_type": "code",
   "execution_count": null,
   "id": "a31c23e6",
   "metadata": {},
   "outputs": [],
   "source": [
    "merged_segments_all = tc.get(name='cn-latest-d8d4', version=26, file='merged_segments_all')\n"
   ]
  },
  {
   "cell_type": "code",
   "execution_count": null,
   "id": "1d85eacf",
   "metadata": {},
   "outputs": [],
   "source": [
    "merged_segments_all"
   ]
  },
  {
   "cell_type": "code",
   "execution_count": null,
   "id": "1951a492",
   "metadata": {},
   "outputs": [],
   "source": [
    "GBM_names = [\"42MGBA\", \"8MGBA\", \"A172\", \"AM38\", \"BECKER\", \"CAS1\", \"CCFSTTG1\", \"DBTRG05MG\", \"DKMG\", \"GAMG\", \"GB1\", \"GI1\", \"GMS10\", \"GOS3\", \"HS683\", \"KALS1\", \"KG1C\", \"KNS42\", \"KNS60\", \"KNS81\", \"LN18\", \"LN229\", \"M059K\", \"NMCG1\", \"SF126\", \"SF268\", \"SF295\", \"SF539\", \"SNB75\", \"SNU1105\", \"SNU201\", \"SNU466\", \"SNU489\", \"SNU626\", \"SNU738\", \"SW1088\", \"SW1783\", \"T98G\", \"TM31\", \"U118MG\", \"U251MG\", \"U87MG\", \"YH13\", \"YKG1\"]"
   ]
  },
  {
   "cell_type": "code",
   "execution_count": null,
   "id": "43dc86e0",
   "metadata": {},
   "outputs": [],
   "source": [
    "from depmapomics import tracker as track\n",
    "trackerobj = track.initTracker()\n",
    "t = trackerobj.read_tracker()\n",
    "t"
   ]
  },
  {
   "cell_type": "code",
   "execution_count": null,
   "id": "49a9c72d",
   "metadata": {},
   "outputs": [],
   "source": [
    "GBM_rows = t[t.stripped_cell_line_name.isin(GBM_names)]\n",
    "GBM_rows"
   ]
  },
  {
   "cell_type": "code",
   "execution_count": null,
   "id": "9035330f",
   "metadata": {},
   "outputs": [],
   "source": [
    "len(GBM_rows.arxspan_id.unique())"
   ]
  },
  {
   "cell_type": "code",
   "execution_count": null,
   "id": "1aed5cfb",
   "metadata": {},
   "outputs": [],
   "source": [
    "GBM_seg = merged_segments_all[merged_segments_all.DepMap_ID.isin(GBM_rows.arxspan_id.unique())]\n",
    "GBM_seg"
   ]
  },
  {
   "cell_type": "code",
   "execution_count": null,
   "id": "82a52b22",
   "metadata": {},
   "outputs": [],
   "source": [
    "GBM_seg.to_csv(\"ccle_seg.csv\", index=None)"
   ]
  },
  {
   "cell_type": "code",
   "execution_count": null,
   "id": "7b062deb",
   "metadata": {},
   "outputs": [],
   "source": [
    "# Check cclf twist snv output\n",
    "twistwm = dm.WorkspaceManager(\"nci-mimoun-bi-org/PANCAN_TWIST copy\").disable_hound()"
   ]
  },
  {
   "cell_type": "code",
   "execution_count": null,
   "id": "01f37ec3",
   "metadata": {},
   "outputs": [],
   "source": [
    "twist_pairsets = twistwm.get_pair_sets()\n",
    "twist_pairsets"
   ]
  },
  {
   "cell_type": "code",
   "execution_count": null,
   "id": "67e235b7",
   "metadata": {},
   "outputs": [],
   "source": [
    "twist41snv = pd.read_csv(twist_pairsets.loc[\"CCLF_TWIST41_pairs\", \"aggregate_snvs\"], sep=\"\\t\")\n",
    "twist41snv"
   ]
  },
  {
   "cell_type": "code",
   "execution_count": null,
   "id": "78d2bba8",
   "metadata": {},
   "outputs": [],
   "source": [
    "twist41subset = twist41snv[twist41snv.external_id == \"ACH-003025_BOM_P7_3D_1\"]\n",
    "twist41subset[twist41subset.Chromosome == \"16\"]['Hugo_Symbol']"
   ]
  },
  {
   "cell_type": "code",
   "execution_count": null,
   "id": "f2d2e96d",
   "metadata": {},
   "outputs": [],
   "source": [
    "twist41subset[twist41subset.Chromosome == \"16\"][['Start_position', 'End_position']]"
   ]
  },
  {
   "cell_type": "code",
   "execution_count": null,
   "id": "60796e2b",
   "metadata": {},
   "outputs": [],
   "source": [
    "twist41snv[twist41snv.external_id == \"ACH-003025_BOM_P7_3D_1\"].to_csv(\"ACH003025.csv\", index=None)"
   ]
  },
  {
   "cell_type": "code",
   "execution_count": null,
   "id": "8e850462",
   "metadata": {},
   "outputs": [],
   "source": [
    "maf = pd.read_csv(\"gs://fc-secure-bd7b8bc9-f665-4269-997e-5a402088a369/1cdc902e-234f-450c-9303-406fb34ff6ad/WGS_pipeline/b6bc83be-af09-4ac2-8c91-57bf070b8870/call-filterMaf/CDS-0JJKl3_outMAFfn.txt\", sep=\"\\t\")\n",
    "maf\n"
   ]
  },
  {
   "cell_type": "code",
   "execution_count": null,
   "id": "5b7e20cd",
   "metadata": {},
   "outputs": [],
   "source": [
    "maf.dbNSFP_Polyphen2_HVAR_pred.unique()"
   ]
  },
  {
   "cell_type": "code",
   "execution_count": null,
   "id": "7921cf1c",
   "metadata": {},
   "outputs": [],
   "source": [
    "proteincoding_genes_tpm_logp1 = tc.get(name='expression-d035', version=21, file='proteincoding_genes_tpm_logp1')\n",
    "proteincoding_genes_tpm_logp1"
   ]
  },
  {
   "cell_type": "code",
   "execution_count": null,
   "id": "9ccda858",
   "metadata": {},
   "outputs": [],
   "source": [
    "filter_col = [col for col in proteincoding_genes_tpm_logp1 if col.startswith(('ERBB2 (', 'ESR1 (', 'PGR ('))]\n",
    "filter_col"
   ]
  },
  {
   "cell_type": "code",
   "execution_count": null,
   "id": "fcc58def",
   "metadata": {},
   "outputs": [],
   "source": [
    "from scipy.stats import zscore\n",
    "zscores = proteincoding_genes_tpm_logp1.apply(zscore)\n",
    "zscores"
   ]
  },
  {
   "cell_type": "code",
   "execution_count": null,
   "id": "c052ee50",
   "metadata": {},
   "outputs": [],
   "source": [
    "minerva_lines = [\"ACH-002949\", \"ACH-002839\", \"ACH-002741\", \"ACH-002885\", \"ACH-002950\", \"ACH-002951\", \"ACH-002954\", \"ACH-002968\", \"ACH-002981\", \"ACH-002883\", \"ACH-002835\", \"ACH-002744\", \"ACH-002837\", \"ACH-002730\", \"ACH-002742\", \"ACH-002743\", \"ACH-002947\", \"ACH-002871\", \"ACH-002735\", \"ACH-002757\", \"ACH-002972\", \"ACH-002869\", \"ACH-002737\", \"ACH-002853\", \"ACH-002738\", \"ACH-002979\", \"ACH-002841\", \"ACH-002736\", \"ACH-002884\", \"ACH-002745\", \"ACH-002967\", \"ACH-002733\"]\n",
    "minerva_zscores = zscores[zscores.index.isin(minerva_lines)].T\n",
    "minerva_zscores.to_csv(\"minerva_expression_zscores.csv\")"
   ]
  },
  {
   "cell_type": "code",
   "execution_count": null,
   "id": "0ccc89db",
   "metadata": {},
   "outputs": [],
   "source": [
    "minerva_zscores.loc[\"ACH-002949\", \"PGR (5241)\"]"
   ]
  },
  {
   "cell_type": "code",
   "execution_count": null,
   "id": "33a10c38",
   "metadata": {},
   "outputs": [],
   "source": [
    "from biomart import BiomartServer\n",
    "import io\n",
    "\n",
    "def _fetchFromServer(ensemble_server, attributes):\n",
    "    server = BiomartServer(ensemble_server)\n",
    "    ensmbl = server.datasets[\"hsapiens_gene_ensembl\"]\n",
    "    res = pd.read_csv(\n",
    "        io.StringIO(\n",
    "            ensmbl.search({\"attributes\": attributes}, header=1).content.decode()\n",
    "        ),\n",
    "        sep=\"\\t\",\n",
    "    )\n",
    "    return res\n",
    "\n",
    "def generateGeneNames(\n",
    "    ensemble_server=\"http://nov2020.archive.ensembl.org/biomart\",\n",
    "    useCache=False,\n",
    "    cache_folder=\"\",\n",
    "    attributes=[],\n",
    "):\n",
    "    \"\"\"generate a genelist dataframe from ensembl's biomart\n",
    "\n",
    "  Args:\n",
    "      ensemble_server ([type], optional): [description]. Defaults to ENSEMBL_SERVER_V.\n",
    "      useCache (bool, optional): [description]. Defaults to False.\n",
    "      cache_folder ([type], optional): [description]. Defaults to CACHE_PATH.\n",
    "\n",
    "  Raises:\n",
    "      ValueError: [description]\n",
    "\n",
    "  Returns:\n",
    "      [type]: [description]\n",
    "  \"\"\"\n",
    "    attr = [\n",
    "        \"ensembl_gene_id\",\n",
    "        \"hgnc_symbol\",\n",
    "        \"gene_biotype\",\n",
    "        \"entrezgene_id\",\n",
    "    ]\n",
    "    #assert cache_folder[-1] == \"/\"\n",
    "\n",
    "    cache_folder = os.path.expanduser(cache_folder)\n",
    "    #createFoldersFor(cache_folder)\n",
    "    cachefile = os.path.join(cache_folder, \".biomart.csv\")\n",
    "    if useCache & os.path.isfile(cachefile):\n",
    "        print(\"fetching gene names from biomart cache\")\n",
    "        res = pd.read_csv(cachefile)\n",
    "    else:\n",
    "        print(\"downloading gene names from biomart\")\n",
    "        res = _fetchFromServer(ensemble_server, attr + attributes)\n",
    "        res.to_csv(cachefile, index=False)\n",
    "\n",
    "    res.columns = attr + attributes\n",
    "    if type(res) is not type(pd.DataFrame()):\n",
    "        raise ValueError(\"should be a dataframe\")\n",
    "    res = res[~(res[\"hgnc_symbol\"].isna())]\n",
    "\n",
    "    return res"
   ]
  },
  {
   "cell_type": "code",
   "execution_count": null,
   "id": "cb029471",
   "metadata": {},
   "outputs": [],
   "source": [
    "from genepy.utils import helper as h\n",
    "\n",
    "mybiomart = generateGeneNames(ensemble_server=\"http://dec2021.archive.ensembl.org/biomart\", useCache=False)\n",
    "mybiomart"
   ]
  },
  {
   "cell_type": "code",
   "execution_count": null,
   "id": "9a3f12f1",
   "metadata": {},
   "outputs": [],
   "source": [
    "mybiomart[mybiomart.entrezgene_id == 1394.0]›"
   ]
  },
  {
   "cell_type": "code",
   "execution_count": null,
   "id": "c051f2b6",
   "metadata": {},
   "outputs": [],
   "source": [
    "protmybiomart = mybiomart[mybiomart.gene_biotype == \"protein_coding\"]"
   ]
  },
  {
   "cell_type": "code",
   "execution_count": null,
   "id": "e1512584",
   "metadata": {},
   "outputs": [],
   "source": [
    "protmybiomart"
   ]
  },
  {
   "cell_type": "code",
   "execution_count": null,
   "id": "ad7f3c5e",
   "metadata": {},
   "outputs": [],
   "source": [
    "mybiomart_unique = protmybiomart.drop_duplicates(subset='ensembl_gene_id', keep=\"first\")\n",
    "mybiomart_unique"
   ]
  },
  {
   "cell_type": "code",
   "execution_count": null,
   "id": "ae06df65",
   "metadata": {},
   "outputs": [],
   "source": [
    "grouped = mybiomart_unique.groupby(['entrezgene_id'])"
   ]
  },
  {
   "cell_type": "code",
   "execution_count": null,
   "id": "970bafc9",
   "metadata": {},
   "outputs": [],
   "source": [
    "dups = []\n",
    "for name, group in grouped:\n",
    "    if len(group) > 1 and len(set(group.hgnc_symbol)) > 1:\n",
    "        print(set(group.hgnc_symbol))\n",
    "        dups.append((str(int(name)), set(group.hgnc_symbol)))"
   ]
  },
  {
   "cell_type": "code",
   "execution_count": null,
   "id": "dca2832a",
   "metadata": {},
   "outputs": [],
   "source": [
    "dups"
   ]
  },
  {
   "cell_type": "code",
   "execution_count": null,
   "id": "64d63779",
   "metadata": {},
   "outputs": [],
   "source": [
    "mybiomart[mybiomart.entrezgene_id == 3811.0]"
   ]
  },
  {
   "cell_type": "code",
   "execution_count": null,
   "id": "add11d5a",
   "metadata": {},
   "outputs": [],
   "source": [
    "myoldbiomart = generateGeneNames(ensemble_server=ENSEMBL_SERVER_V, useCache=False)\n",
    "myoldbiomart"
   ]
  },
  {
   "cell_type": "code",
   "execution_count": null,
   "id": "54b8c951",
   "metadata": {},
   "outputs": [],
   "source": [
    "protmyoldbiomart = myoldbiomart[myoldbiomart.gene_biotype == \"protein_coding\"]\n",
    "myoldbiomart_unique = protmyoldbiomart.drop_duplicates(subset='ensembl_gene_id', keep=\"first\")\n",
    "groupedold = myoldbiomart_unique.groupby(['entrezgene_id'])\n",
    "\n",
    "dupsold = []\n",
    "for name, group in groupedold:\n",
    "    if len(group) > 1 and len(set(group.hgnc_symbol)) > 1:\n",
    "        print(set(group.hgnc_symbol))\n",
    "        dupsold.append((str(int(name)), set(group.hgnc_symbol)))"
   ]
  },
  {
   "cell_type": "code",
   "execution_count": null,
   "id": "dfb04879",
   "metadata": {},
   "outputs": [],
   "source": [
    "dupsold"
   ]
  },
  {
   "cell_type": "code",
   "execution_count": null,
   "id": "bb12fef6",
   "metadata": {},
   "outputs": [],
   "source": [
    "myoldbiomart[myoldbiomart.entrezgene_id == 3811.0]"
   ]
  },
  {
   "cell_type": "code",
   "execution_count": null,
   "id": "38acc243",
   "metadata": {},
   "outputs": [],
   "source": [
    "myoldbiomart[myoldbiomart.hgnc_symbol == \"CRHR1\"]"
   ]
  },
  {
   "cell_type": "code",
   "execution_count": null,
   "id": "38b7529a",
   "metadata": {},
   "outputs": [],
   "source": [
    "from taigapy import TaigaClient\n",
    "tc = TaigaClient()\n",
    "\n",
    "CCLE_expression = tc.get(name='internal-22q1-1778', version=24, file='CCLE_expression')\n",
    "CCLE_expression"
   ]
  },
  {
   "cell_type": "code",
   "execution_count": null,
   "id": "962e1e95",
   "metadata": {},
   "outputs": [],
   "source": [
    "CCLE_expression[['KIR3DL1 (3811)']]"
   ]
  },
  {
   "cell_type": "code",
   "execution_count": null,
   "id": "c784aeb3",
   "metadata": {},
   "outputs": [],
   "source": []
  },
  {
   "cell_type": "code",
   "execution_count": null,
   "id": "8a0dd9c3",
   "metadata": {},
   "outputs": [],
   "source": [
    "rnawm = dm.WorkspaceManager('terra-broad-cancer-prod/CCLE_DepMap_RNAseq')\n",
    "rnasamples = rnawm.get_samples()\n",
    "rnasamples"
   ]
  },
  {
   "cell_type": "code",
   "execution_count": null,
   "id": "81118c53",
   "metadata": {},
   "outputs": [],
   "source": [
    "from taigapy import TaigaClient\n",
    "tc = TaigaClient()\n",
    "achilles_gene_cn = tc.get(name='cn-achilles-version-06ca', version=70, file='achilles_gene_cn')"
   ]
  },
  {
   "cell_type": "code",
   "execution_count": null,
   "id": "d8228815",
   "metadata": {},
   "outputs": [],
   "source": [
    "achilles_gene_cn"
   ]
  },
  {
   "cell_type": "code",
   "execution_count": null,
   "id": "b2a1b1d2",
   "metadata": {},
   "outputs": [],
   "source": [
    "all_21Q2_gene_cn = tc.get(name='cn-achilles-version-06ca', version=60, file='all_21Q2_gene_cn')"
   ]
  },
  {
   "cell_type": "code",
   "execution_count": null,
   "id": "6c5c37ae",
   "metadata": {},
   "outputs": [],
   "source": [
    "all_21Q2_gene_cn"
   ]
  },
  {
   "cell_type": "code",
   "execution_count": null,
   "id": "fe34cc62",
   "metadata": {},
   "outputs": [],
   "source": [
    "pd.read_csv(\"../temp/21Q4v2/merged_somatic_mutations_boolmatrix_other.csv\")"
   ]
  },
  {
   "cell_type": "code",
   "execution_count": null,
   "id": "8641e876",
   "metadata": {},
   "outputs": [],
   "source": [
    "immortalized = [\"ACH-000043\", \"ACH-000049\", \"ACH-000063\", \"ACH-000064\", \"ACH-000071\", \"ACH-000079\", \"ACH-000083\", \"ACH-000088\", \"ACH-000119\", \"ACH-000125\", \"ACH-000131\", \"ACH-000134\", \"ACH-000135\", \"ACH-000154\", \"ACH-000165\", \"ACH-000170\", \"ACH-000175\", \"ACH-000180\", \"ACH-000184\", \"ACH-000185\", \"ACH-000194\", \"ACH-000199\", \"ACH-000214\", \"ACH-000224\", \"ACH-000229\", \"ACH-000230\", \"ACH-000240\", \"ACH-000275\", \"ACH-000284\", \"ACH-000306\", \"ACH-000340\", \"ACH-000413\", \"ACH-000494\", \"ACH-000526\", \"ACH-000529\", \"ACH-000531\", \"ACH-000539\", \"ACH-000540\", \"ACH-000642\", \"ACH-000742\", \"ACH-000797\", \"ACH-000850\", \"ACH-001018\", \"ACH-001087\", \"ACH-001093\", \"ACH-001142\", \"ACH-001169\", \"ACH-001179\", \"ACH-001180\", \"ACH-001181\", \"ACH-001187\", \"ACH-001207\", \"ACH-001310\", \"ACH-001357\", \"ACH-001453\", \"ACH-001646\", \"ACH-001767\", \"ACH-001827\", \"ACH-001828\", \"ACH-001854\", \"ACH-002210\", \"ACH-002247\", \"ACH-002270\", \"ACH-002316\", \"ACH-002319\", \"ACH-002321\", \"ACH-002327\", \"ACH-002336\", \"ACH-002342\", \"ACH-002343\", \"ACH-002344\", \"ACH-002346\", \"ACH-002347\", \"ACH-002348\", \"ACH-002350\", \"ACH-002351\", \"ACH-002352\", \"ACH-002353\", \"ACH-002354\", \"ACH-002355\", \"ACH-002356\", \"ACH-002357\", \"ACH-002358\", \"ACH-002359\", \"ACH-002360\", \"ACH-002361\", \"ACH-002362\", \"ACH-002363\", \"ACH-002364\", \"ACH-002365\", \"ACH-002366\", \"ACH-002367\", \"ACH-002368\", \"ACH-002369\", \"ACH-002370\", \"ACH-002371\", \"ACH-002372\", \"ACH-002373\", \"ACH-002374\", \"ACH-002375\", \"ACH-002376\", \"ACH-002377\", \"ACH-002378\", \"ACH-002379\", \"ACH-002380\", \"ACH-002381\", \"ACH-002382\", \"ACH-002383\", \"ACH-002384\", \"ACH-002402\", \"ACH-002462\", \"ACH-002463\", \"ACH-002464\", \"ACH-002465\", \"ACH-002466\", \"ACH-002467\", \"ACH-002521\", \"ACH-002549\", \"ACH-002558\", \"ACH-002576\", \"ACH-002591\", \"ACH-002592\", \"ACH-002593\", \"ACH-002594\", \"ACH-002609\", \"ACH-002610\", \"ACH-002611\", \"ACH-002612\", \"ACH-002623\", \"ACH-002624\", \"ACH-002625\", \"ACH-002712\", \"ACH-003016\", \"ACH-003017\", \"ACH-003020\", \"ACH-003062\", \"ACH-003068\", \"ACH-003104\", \"ACH-003117\", \"ACH-003118\", \"ACH-003132\", \"ACH-003133\", \"ACH-003135\", \"ACH-003136\", \"ACH-003137\", \"ACH-003138\", \"ACH-003139\", \"ACH-003140\", \"ACH-003141\", \"ACH-003142\", \"ACH-003143\", \"ACH-003144\", \"ACH-003145\", \"ACH-003146\", \"ACH-003147\", \"ACH-003148\", \"ACH-003149\", \"ACH-003150\", \"ACH-003151\", \"ACH-003152\", \"ACH-003153\", \"ACH-003154\", \"ACH-003155\", \"ACH-003156\", \"ACH-003157\", \"ACH-003158\", \"ACH-003159\", \"ACH-003160\", \"ACH-003161\"]"
   ]
  },
  {
   "cell_type": "code",
   "execution_count": null,
   "id": "b8146a15",
   "metadata": {},
   "outputs": [],
   "source": [
    "from taigapy import TaigaClient\n",
    "tc = TaigaClient()\n",
    "\n",
    "OmicsExpressionProteinCodingGenesTPMLogp1 = tc.get(name='internal-22q4-56d4', version=81, file='OmicsExpressionProteinCodingGenesTPMLogp1')\n"
   ]
  },
  {
   "cell_type": "code",
   "execution_count": null,
   "id": "c39d1526",
   "metadata": {},
   "outputs": [],
   "source": [
    "subset_immortalized = OmicsExpressionProteinCodingGenesTPMLogp1[OmicsExpressionProteinCodingGenesTPMLogp1.index.isin(immortalized)]"
   ]
  },
  {
   "cell_type": "code",
   "execution_count": null,
   "id": "971fc67b",
   "metadata": {},
   "outputs": [],
   "source": [
    "subset_immortalized.to_csv(\"immortalized_proteincoding.csv\")"
   ]
  },
  {
   "cell_type": "code",
   "execution_count": null,
   "id": "5925c4a4",
   "metadata": {},
   "outputs": [],
   "source": [
    "from taigapy import TaigaClient\n",
    "tc = TaigaClient()\n",
    "\n",
    "proteinCoding_genes_tpm_logp1_withReplicates = tc.get(name='expression-d035', version=29, file='proteinCoding_genes_tpm_logp1_withReplicates')\n"
   ]
  },
  {
   "cell_type": "code",
   "execution_count": null,
   "id": "3fbf9ca0",
   "metadata": {},
   "outputs": [],
   "source": [
    "subset_blacklisted = proteinCoding_genes_tpm_logp1_withReplicates[proteinCoding_genes_tpm_logp1_withReplicates.index.isin([\"CDS-I2xehY\", \"CDS-vvQhsI\"])]"
   ]
  },
  {
   "cell_type": "code",
   "execution_count": null,
   "id": "21e0c108",
   "metadata": {},
   "outputs": [],
   "source": [
    "subset_blacklisted.rename(index={\"CDS-I2xehY\": \"ACH-003140\", \"CDS-vvQhsI\": \"ACH-003144\"}).to_csv(\"immortalized_blacklisted.csv\")"
   ]
  },
  {
   "cell_type": "code",
   "execution_count": null,
   "id": "6c0485de",
   "metadata": {},
   "outputs": [],
   "source": []
  }
 ],
 "metadata": {
  "kernelspec": {
   "display_name": "Python 3",
   "language": "python",
   "name": "python3"
  },
  "language_info": {
   "codemirror_mode": {
    "name": "ipython",
    "version": 3
   },
   "file_extension": ".py",
   "mimetype": "text/x-python",
   "name": "python",
   "nbconvert_exporter": "python",
   "pygments_lexer": "ipython3",
   "version": "3.8.13"
  },
  "vscode": {
   "interpreter": {
    "hash": "1f170dacc8a54decc88aa6dec68bcf2a5d65c3893a5412f67865d27128dae76b"
   }
  }
 },
 "nbformat": 4,
 "nbformat_minor": 5
}
