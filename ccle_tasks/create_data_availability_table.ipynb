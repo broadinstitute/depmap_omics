{
 "cells": [
  {
   "cell_type": "code",
   "execution_count": null,
   "metadata": {},
   "outputs": [],
   "source": [
    "import pandas as pd\n",
    "from depmapomics.tracker import getTracker\n",
    "from taigapy import TaigaClient \n",
    "tc = TaigaClient()"
   ]
  },
  {
   "cell_type": "code",
   "execution_count": null,
   "metadata": {},
   "outputs": [],
   "source": [
    "val = pd.read_csv('~/Desktop/data_availability.csv', index_col=0)\n",
    "val"
   ]
  },
  {
   "cell_type": "code",
   "execution_count": null,
   "metadata": {},
   "outputs": [],
   "source": [
    "track = getTracker()\n",
    "track = track[track.blacklist==0]\n",
    "track"
   ]
  },
  {
   "cell_type": "code",
   "execution_count": null,
   "metadata": {},
   "outputs": [],
   "source": [
    "df = pd.DataFrame(index=set(track.arxspan_id))\n",
    "\n",
    "for t in set(track.datatype):\n",
    "  df.loc[set(track[track.datatype==t].arxspan_id),t] = 1\n",
    "df"
   ]
  },
  {
   "cell_type": "code",
   "execution_count": null,
   "metadata": {},
   "outputs": [],
   "source": [
    "df = pd.concat([df, val[['CRISPR', 'Metabolomics', 'Proteomics', 'RNAi', 'PRISM']]], axis=1)"
   ]
  },
  {
   "cell_type": "code",
   "execution_count": null,
   "metadata": {},
   "outputs": [],
   "source": [
    "CCLE_miRNA_20180525 = tc.get(name='mirna-573f', version=3, file='CCLE_miRNA_20180525')"
   ]
  },
  {
   "cell_type": "code",
   "execution_count": null,
   "metadata": {},
   "outputs": [],
   "source": [
    "df.loc[CCLE_miRNA_20180525.index, 'miRNA'] = 1"
   ]
  },
  {
   "cell_type": "code",
   "execution_count": null,
   "metadata": {},
   "outputs": [],
   "source": [
    "for val in df.columns:\n",
    "  print(val, df[val].sum(), len(df))"
   ]
  },
  {
   "cell_type": "code",
   "execution_count": null,
   "metadata": {},
   "outputs": [],
   "source": [
    "df.fillna(0).astype(int).to_csv(\"/tmp/data_availability.csv\")"
   ]
  },
  {
   "cell_type": "code",
   "execution_count": null,
   "metadata": {},
   "outputs": [],
   "source": [
    "track.to_csv('/tmp/sample_tracker.csv')"
   ]
  },
  {
   "cell_type": "code",
   "execution_count": null,
   "metadata": {},
   "outputs": [],
   "source": [
    "\n",
    "tc.update_dataset(\n",
    "  changes_description=\"updating availability\",\n",
    "  dataset_permaname=\"info-1d9e\",\n",
    "  upload_files=[\n",
    "      {\n",
    "          \"path\": \"/tmp/data_availability.csv\",\n",
    "          \"format\": \"TableCSV\",\n",
    "          \"encoding\": \"utf-8\",\n",
    "      },\n",
    "      {\n",
    "          \"path\": \"/tmp/sample_tracker.csv\",\n",
    "          \"format\": \"TableCSV\",\n",
    "          \"encoding\": \"utf-8\",\n",
    "      },\n",
    "\n",
    "  ],\n",
    ")"
   ]
  }
 ],
 "metadata": {
  "interpreter": {
   "hash": "b6979a8a2b0c8b20507f7dc1436108e0a886fa021b0d62a505c92a02916c29b3"
  },
  "kernelspec": {
   "display_name": "Python 3.8.8 64-bit ('py38': conda)",
   "language": "python",
   "name": "python3"
  },
  "language_info": {
   "codemirror_mode": {
    "name": "ipython",
    "version": 3
   },
   "file_extension": ".py",
   "mimetype": "text/x-python",
   "name": "python",
   "nbconvert_exporter": "python",
   "pygments_lexer": "ipython3",
   "version": "3.8.8"
  }
 },
 "nbformat": 4,
 "nbformat_minor": 2
}
