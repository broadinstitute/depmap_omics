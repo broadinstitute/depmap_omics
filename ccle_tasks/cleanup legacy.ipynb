{
 "cells": [
  {
   "cell_type": "code",
   "execution_count": null,
   "metadata": {},
   "outputs": [],
   "source": [
    "from taigapy import TaigaClient\n",
    "tc = TaigaClient()\n",
    "\n",
    "import pandas as pd\n",
    "from depmapomics import tracker as track \n",
    "\n",
    "%load_ext autoreload\n",
    "%autoreload 2"
   ]
  },
  {
   "cell_type": "code",
   "execution_count": null,
   "metadata": {},
   "outputs": [],
   "source": [
    "legacy_hybridcapture = tc.get(name='mutations-da6a', version=3, file='legacy_hybridcapture')\n",
    "legacy_raindance = tc.get(name='mutations-da6a', version=3, file='legacy_raindance')\n",
    "legacy_rna = tc.get(name='mutations-da6a', version=3, file='legacy_rna')\n",
    "legacy_wes_sanger = tc.get(name='mutations-da6a', version=3, file='legacy_wes_sanger')\n",
    "legacy_wgs_exoniconly = tc.get(name='mutations-da6a', version=3, file='legacy_wgs_exoniconly')\n",
    "legacy_segments = tc.get(name='copy-number-5f61', version=1, file='legacy_segments')"
   ]
  },
  {
   "cell_type": "code",
   "execution_count": null,
   "metadata": {},
   "outputs": [],
   "source": [
    "# todrop = {'ACH-001096', 'ACH-001196', 'ACH-000961', 'ACH-000511', 'ACH-000375', 'ACH-000278',\n",
    "#           'ACH-001709', 'ACH-002475', 'ACH-001063', 'ACH-000641', 'ACH-000090', 'ACH-000658',\n",
    "#           'ACH-001146', 'ACH-002260', 'ACH-000010', 'ACH-001078', 'ACH-001709', 'ACH-001011',\n",
    "#           'ACH-001043', 'ACH-001092', 'ACH-001108', 'ACH-001187', 'ACH-001131', }#'ACH-002217',\n",
    "         # 'ACH-002315', 'ACH-002341', 'ACH-002390', 'ACH-002391', 'ACH-002393', 'ACH-002394',\n",
    "          #'ACH-002395', 'ACH-002396'}\n",
    "        \n",
    "LINES_TO_DROP_COMMON = {'ACH-000010', 'ACH-001078', 'ACH-001146', 'ACH-001173','ACH-001741', 'ACH-001790', 'ACH-002022', 'ACH-002184', 'ACH-002260',  'ACH-001196', 'ACH-001096'}\n",
    "\n",
    "legacy_hybridcapture = legacy_hybridcapture[~legacy_hybridcapture.DepMap_ID.isin(LINES_TO_DROP_COMMON)]\n",
    "legacy_raindance = legacy_raindance[~legacy_raindance.DepMap_ID.isin(LINES_TO_DROP_COMMON)]\n",
    "legacy_rna = legacy_rna[~legacy_rna.DepMap_ID.isin(LINES_TO_DROP_COMMON)]\n",
    "legacy_wes_sanger = legacy_wes_sanger[~legacy_wes_sanger.DepMap_ID.isin(LINES_TO_DROP_COMMON)]\n",
    "legacy_wgs_exoniconly = legacy_wgs_exoniconly[~legacy_wgs_exoniconly.DepMap_ID.isin(LINES_TO_DROP_COMMON)]\n",
    "legacy_segments = legacy_segments[~legacy_segments.DepMap_ID.isin(LINES_TO_DROP_COMMON)]\n"
   ]
  },
  {
   "cell_type": "code",
   "execution_count": null,
   "metadata": {},
   "outputs": [],
   "source": [
    "RENAME_SANGER_WES = {'ACH-002260': 'ACH-001543'}\n",
    "legacy_wes_sanger = legacy_wes_sanger.replace({\"DepMap_ID\": RENAME_SANGER_WES})"
   ]
  },
  {
   "cell_type": "code",
   "execution_count": null,
   "metadata": {},
   "outputs": [],
   "source": [
    "# remove only legacy wes and segments, same thing as remove only segments\n",
    "drop_wes_seg = {'ACH-002475', 'ACH-001709', 'ACH-000658',  'ACH-000278', 'ACH-000375', 'ACH-000511', 'ACH-001709','ACH-002475'}\n",
    "#remove only WGS\n",
    "drop_wgs = {\"ACH-000014\", 'ACH-002475'}\n",
    "#remove only wes sanger and segments\n",
    "drop_sanger_seg = {'ACH-001063', 'ACH-000090', 'ACH-000641', 'ACH-000961', 'ACH-002475'}\n",
    "#remove only RNA\n",
    "drop_rna = {'ACH-000658', 'ACH-001212', 'ACH-001316'}\n",
    "#remove only segments\n",
    "drop_seg = {\"ACH-001011\", \"ACH-001108\", \"ACH-001187\", \"ACH-002291\", \"ACH-002010\", \"ACH-000314\", 'ACH-001078', 'ACH-002184', 'ACH-001146', 'ACH-002022', 'ACH-001173', 'ACH-001790', 'ACH-002260', 'ACH-001741', 'ACH-000010', 'ACH-002475', 'ACH-001543', 'ACH-002475'}"
   ]
  },
  {
   "cell_type": "code",
   "execution_count": null,
   "metadata": {},
   "outputs": [],
   "source": [
    "# remove only legacy wes and segments\n",
    "legacy_segments = legacy_segments[~legacy_segments.DepMap_ID.isin(drop_wes_seg)]"
   ]
  },
  {
   "cell_type": "code",
   "execution_count": null,
   "metadata": {},
   "outputs": [],
   "source": [
    "#remove only WGS\n",
    "legacy_wgs_exoniconly = legacy_wgs_exoniconly[~legacy_wgs_exoniconly.DepMap_ID.isin(drop_wgs)]"
   ]
  },
  {
   "cell_type": "code",
   "execution_count": null,
   "metadata": {},
   "outputs": [],
   "source": [
    "#remove only wes sanger and segments\n",
    "legacy_wes_sanger = legacy_wes_sanger[~legacy_wes_sanger.DepMap_ID.isin(drop_sanger_seg)]\n",
    "legacy_segments = legacy_segments[~legacy_segments.DepMap_ID.isin(drop_sanger_seg)]"
   ]
  },
  {
   "cell_type": "code",
   "execution_count": null,
   "metadata": {},
   "outputs": [],
   "source": [
    "#remove only RNA\n",
    "legacy_rna = legacy_rna[~legacy_rna.DepMap_ID.isin(drop_rna)]"
   ]
  },
  {
   "cell_type": "code",
   "execution_count": null,
   "metadata": {},
   "outputs": [],
   "source": [
    "#remove only segments\n",
    "legacy_segments = legacy_segments[~legacy_segments.DepMap_ID.isin(drop_seg)]"
   ]
  },
  {
   "cell_type": "code",
   "execution_count": null,
   "metadata": {},
   "outputs": [],
   "source": [
    "from genepy.utils import helper as h"
   ]
  },
  {
   "cell_type": "code",
   "execution_count": null,
   "metadata": {},
   "outputs": [],
   "source": [
    "#+ duplicates from CN legacy datasets (remove the SNP version\n",
    "h.dups([i.split('_')[0] for i in list(set(legacy_segments[\"DepMap_ID\"]+\"_\"+legacy_segments[\"Source\"]))])"
   ]
  },
  {
   "cell_type": "code",
   "execution_count": null,
   "metadata": {},
   "outputs": [],
   "source": [
    "set(legacy_segments[legacy_segments.DepMap_ID.isin(['ACH-000272', 'ACH-000246'])].Source)"
   ]
  },
  {
   "cell_type": "code",
   "execution_count": null,
   "metadata": {},
   "outputs": [],
   "source": [
    "legacy_segments = legacy_segments[~(legacy_segments[\"DepMap_ID\"]+\"_\"+legacy_segments[\"Source\"]).isin([\"ACH-000272_Broad WES\", \"ACH-000246_Broad WES\"])]"
   ]
  },
  {
   "cell_type": "code",
   "execution_count": null,
   "metadata": {},
   "outputs": [],
   "source": [
    "ccle = track.getTracker()"
   ]
  },
  {
   "cell_type": "code",
   "execution_count": null,
   "metadata": {},
   "outputs": [],
   "source": [
    "missing_sanger = {'ACH-001131',\n",
    "                 'ACH-002217',\n",
    "                 'ACH-002315',\n",
    "                 'ACH-002341',\n",
    "                 'ACH-002390',\n",
    "                 'ACH-002391',\n",
    "                 'ACH-002393',\n",
    "                 'ACH-002394',\n",
    "                 'ACH-002395',\n",
    "                 'ACH-002396'}"
   ]
  },
  {
   "cell_type": "code",
   "execution_count": null,
   "metadata": {},
   "outputs": [],
   "source": [
    "#removed: missing_broad_wes = {'ACH-000314', 'ACH-001173', 'ACH-001790', 'ACH-002022'}"
   ]
  },
  {
   "cell_type": "code",
   "execution_count": null,
   "metadata": {},
   "outputs": [],
   "source": [
    "set(legacy_segments[legacy_segments.Source.isin([\"Broad WES\", \"Sanger WES\"])].DepMap_ID) - set(ccle[ccle.datatype=='wes'].arxspan_id)"
   ]
  },
  {
   "cell_type": "code",
   "execution_count": null,
   "metadata": {},
   "outputs": [],
   "source": [
    "set(legacy_segments[legacy_segments.Source.isin([\"Broad WES\", \"Sanger WES\"])].DepMap_ID) - set(ccle[(ccle.datatype=='wes') & (ccle.blacklist==0)].arxspan_id)"
   ]
  },
  {
   "cell_type": "code",
   "execution_count": null,
   "metadata": {},
   "outputs": [],
   "source": [
    "#broad/sanger wes in legacy segments missing from tracker:\n",
    "{'ACH-002217', 'ACH-002378'}"
   ]
  },
  {
   "cell_type": "code",
   "execution_count": null,
   "metadata": {},
   "outputs": [],
   "source": [
    "# set(legacy_hybridcapture.DepMap_ID) - set(ccle[(ccle.datatype=='hybrid_capture')].arxspan_id)\n",
    "set(legacy_hybridcapture.DepMap_ID) - set(ccle[(ccle.datatype=='hybrid_capture') & (ccle.blacklist==0)].arxspan_id)"
   ]
  },
  {
   "cell_type": "code",
   "execution_count": null,
   "metadata": {},
   "outputs": [],
   "source": [
    "blacklisted_hc = {'ACH-001011', 'ACH-001043', 'ACH-001092', 'ACH-001108', 'ACH-001187'}\n",
    "legacy_hybridcapture = legacy_hybridcapture[~legacy_hybridcapture.DepMap_ID.isin(blacklisted_hc)]"
   ]
  },
  {
   "cell_type": "code",
   "execution_count": null,
   "metadata": {},
   "outputs": [],
   "source": [
    "set(legacy_raindance.DepMap_ID) - set(ccle[ccle.datatype=='raindance'].arxspan_id), \n",
    "set(legacy_raindance.DepMap_ID) - set(ccle[(ccle.datatype=='raindance') & (ccle.blacklist==0)].arxspan_id)"
   ]
  },
  {
   "cell_type": "code",
   "execution_count": null,
   "metadata": {},
   "outputs": [],
   "source": [
    "set(legacy_rna.DepMap_ID) - set(ccle[ccle.datatype=='rna'].arxspan_id), \n",
    "set(legacy_rna.DepMap_ID) - set(ccle[(ccle.datatype=='rna') & (ccle.blacklist==0)].arxspan_id)"
   ]
  },
  {
   "cell_type": "code",
   "execution_count": null,
   "metadata": {},
   "outputs": [],
   "source": [
    "set(legacy_wes_sanger.DepMap_ID) - set(ccle[ccle.datatype=='wes'].arxspan_id)"
   ]
  },
  {
   "cell_type": "code",
   "execution_count": null,
   "metadata": {},
   "outputs": [],
   "source": [
    "set(legacy_wes_sanger.DepMap_ID) - set(ccle[(ccle.datatype=='wes') & (ccle.blacklist==0)].arxspan_id)"
   ]
  },
  {
   "cell_type": "code",
   "execution_count": null,
   "metadata": {},
   "outputs": [],
   "source": [
    "set(legacy_wgs_exoniconly.DepMap_ID) - set(ccle[ccle.datatype=='wgs'].arxspan_id), \n",
    "set(legacy_wgs_exoniconly.DepMap_ID) - set(ccle[(ccle.datatype=='wgs') & (ccle.blacklist==0)].arxspan_id)"
   ]
  },
  {
   "cell_type": "code",
   "execution_count": null,
   "metadata": {},
   "outputs": [],
   "source": [
    "# last update from FP\n",
    "# renaming from FP"
   ]
  },
  {
   "cell_type": "code",
   "execution_count": null,
   "metadata": {},
   "outputs": [],
   "source": [
    "rep = {'SLR20':'T24DM'}\n",
    "ccle = ccle.replace({'stripped_cell_line_name':rep})"
   ]
  },
  {
   "cell_type": "code",
   "execution_count": null,
   "metadata": {},
   "outputs": [],
   "source": [
    "ccle.loc[ccle[ccle.stripped_cell_line_name==\"T24DM\"].index, \"parent_cell_line\"] = \"T24\""
   ]
  },
  {
   "cell_type": "code",
   "execution_count": null,
   "metadata": {},
   "outputs": [],
   "source": [
    "# dropping two FP fail\n",
    "ccle.loc[ccle[ccle.stripped_cell_line_name.isin([\"COLO775\", \"HS571T\"])].index, \"blacklist\"] = 1"
   ]
  },
  {
   "cell_type": "code",
   "execution_count": null,
   "metadata": {},
   "outputs": [],
   "source": [
    "legacy_hybridcapture = legacy_hybridcapture[~legacy_hybridcapture.DepMap_ID.isin([\"COLO775\", \"HS571T\"])]"
   ]
  },
  {
   "cell_type": "code",
   "execution_count": null,
   "metadata": {},
   "outputs": [],
   "source": [
    "legacy_segments"
   ]
  },
  {
   "cell_type": "code",
   "execution_count": null,
   "metadata": {},
   "outputs": [],
   "source": [
    "# update tracker with ccle\n",
    "\n",
    "from genepy.google.google_sheet import dfToSheet\n",
    "dfToSheet(ccle, 'ccle sample tracker', secret = '../.credentials.json')\n"
   ]
  },
  {
   "cell_type": "code",
   "execution_count": null,
   "metadata": {},
   "outputs": [],
   "source": [
    "# remove extra index col\n",
    "legacy_segments = legacy_segments.drop('Unnamed: 0', 1)\n",
    "legacy_segments"
   ]
  },
  {
   "cell_type": "code",
   "execution_count": null,
   "metadata": {},
   "outputs": [],
   "source": [
    "# update taiga datasets\n",
    "legacy_segments.to_csv('temp/legacy_segments.csv')"
   ]
  },
  {
   "cell_type": "code",
   "execution_count": null,
   "metadata": {},
   "outputs": [],
   "source": [
    "legacy_hybridcapture.to_csv('temp/legacy_hybridcapture.csv', index=False)\n",
    "legacy_raindance.to_csv('temp/legacy_raindance.csv', index=False)\n",
    "legacy_rna.to_csv('temp/legacy_rna.csv', index=False)\n",
    "legacy_wes_sanger.to_csv('temp/legacy_wes_sanger.csv', index=False)\n",
    "legacy_wgs_exoniconly.to_csv('temp/legacy_wgs_exoniconly.csv', index=False)"
   ]
  },
  {
   "cell_type": "code",
   "execution_count": null,
   "metadata": {},
   "outputs": [],
   "source": [
    "tc.update_dataset(changes_description=\"clean up legacy\",\n",
    "                dataset_permaname='copy-number-5f61',\n",
    "                upload_files=[\n",
    "                  {\n",
    "                      \"path\": 'temp/legacy_segments.csv',\n",
    "                      \"format\": \"TableCSV\",\n",
    "                      \"encoding\": \"utf-8\"\n",
    "                  }\n",
    "                ],\n",
    "                dataset_description=\"where the legacy copy number lies\")"
   ]
  },
  {
   "cell_type": "code",
   "execution_count": null,
   "metadata": {},
   "outputs": [],
   "source": [
    "tc.update_dataset(changes_description=\"clean up legacy, drop index col\",\n",
    "                dataset_permaname='mutations-da6a',\n",
    "                upload_files=[\n",
    "                  {\n",
    "                      \"path\": 'temp/legacy_hybridcapture.csv',\n",
    "                      \"format\": \"TableCSV\",\n",
    "                      \"encoding\": \"utf-8\"\n",
    "                  },\n",
    "                  {\n",
    "                      \"path\": 'temp/legacy_raindance.csv',\n",
    "                      \"format\": \"TableCSV\",\n",
    "                      \"encoding\": \"utf-8\"\n",
    "                  },\n",
    "                  {\n",
    "                      \"path\": 'temp/legacy_rna.csv',\n",
    "                      \"format\": \"TableCSV\",\n",
    "                      \"encoding\": \"utf-8\"\n",
    "                  },\n",
    "                  {\n",
    "                      \"path\": 'temp/legacy_wes_sanger.csv',\n",
    "                      \"format\": \"TableCSV\",\n",
    "                      \"encoding\": \"utf-8\"\n",
    "                  },\n",
    "                  {\n",
    "                      \"path\": 'temp/legacy_wgs_exoniconly.csv',\n",
    "                      \"format\": \"TableCSV\",\n",
    "                      \"encoding\": \"utf-8\"\n",
    "                  },\n",
    "                ],\n",
    "                dataset_description=\"where the legacy mutation lies\")"
   ]
  },
  {
   "cell_type": "code",
   "execution_count": null,
   "metadata": {},
   "outputs": [],
   "source": []
  }
 ],
 "metadata": {
  "kernelspec": {
   "display_name": "Python 3",
   "language": "python",
   "name": "python3"
  },
  "language_info": {
   "codemirror_mode": {
    "name": "ipython",
    "version": 3
   },
   "file_extension": ".py",
   "mimetype": "text/x-python",
   "name": "python",
   "nbconvert_exporter": "python",
   "pygments_lexer": "ipython3",
   "version": "3.8.2"
  },
  "latex_envs": {
   "LaTeX_envs_menu_present": true,
   "autoclose": false,
   "autocomplete": true,
   "bibliofile": "biblio.bib",
   "cite_by": "apalike",
   "current_citInitial": 1,
   "eqLabelWithNumbers": true,
   "eqNumInitial": 1,
   "hotkeys": {
    "equation": "Ctrl-E",
    "itemize": "Ctrl-I"
   },
   "labels_anchors": false,
   "latex_user_defs": false,
   "report_style_numbering": false,
   "user_envs_cfg": false
  },
  "toc": {
   "base_numbering": 1,
   "nav_menu": {},
   "number_sections": true,
   "sideBar": true,
   "skip_h1_title": false,
   "title_cell": "Table of Contents",
   "title_sidebar": "Contents",
   "toc_cell": false,
   "toc_position": {},
   "toc_section_display": true,
   "toc_window_display": false
  },
  "varInspector": {
   "cols": {
    "lenName": 16,
    "lenType": 16,
    "lenVar": 40
   },
   "kernels_config": {
    "python": {
     "delete_cmd_postfix": "",
     "delete_cmd_prefix": "del ",
     "library": "var_list.py",
     "varRefreshCmd": "print(var_dic_list())"
    },
    "r": {
     "delete_cmd_postfix": ") ",
     "delete_cmd_prefix": "rm(",
     "library": "var_list.r",
     "varRefreshCmd": "cat(var_dic_list()) "
    }
   },
   "types_to_exclude": [
    "module",
    "function",
    "builtin_function_or_method",
    "instance",
    "_Feature"
   ],
   "window_display": false
  }
 },
 "nbformat": 4,
 "nbformat_minor": 2
}
