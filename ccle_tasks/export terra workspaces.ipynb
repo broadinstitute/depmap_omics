{
 "cells": [
  {
   "cell_type": "code",
   "execution_count": null,
   "id": "83c42095-90c4-4551-b2b4-bd52e5aee4f3",
   "metadata": {},
   "outputs": [],
   "source": [
    "import firecloud.api"
   ]
  },
  {
   "cell_type": "code",
   "execution_count": null,
   "id": "c2351fe5-5ceb-497b-a6f5-cfc7b62d0da2",
   "metadata": {},
   "outputs": [],
   "source": [
    "import os"
   ]
  },
  {
   "cell_type": "code",
   "execution_count": null,
   "id": "22d7a10f-3283-4d98-9ffc-3463ba0f6a65",
   "metadata": {},
   "outputs": [],
   "source": [
    "def authorization_domain(domains):\n",
    "    return \", \".join([x['membersGroupName'] for x in domains])\n",
    "\n",
    "ws = firecloud.api.list_workspaces().json()\n",
    "\n",
    "workspaces = [\n",
    " {\"authorizationDomain\": authorization_domain(x[\"workspace\"][\"authorizationDomain\"]),\n",
    "  \"billingAccount\": x[\"workspace\"].get(\"billingAccount\"),\n",
    "  \"bucketName\": x[\"workspace\"][\"bucketName\"],\n",
    "  \"cloudPlatform\": x[\"workspace\"][\"cloudPlatform\"],\n",
    "  \"createdBy\": x[\"workspace\"][\"createdBy\"],\n",
    "  \"googleProject\": x[\"workspace\"][\"googleProject\"],\n",
    "  \"lastModified\": x[\"workspace\"][\"lastModified\"],\n",
    "  \"name\": x[\"workspace\"][\"name\"],\n",
    "  \"namespace\": x[\"workspace\"][\"namespace\"],\n",
    "  \"workspaceType\": x[\"workspace\"][\"workspaceType\"] }\n",
    "for x in ws if not x['public']\n",
    "]"
   ]
  },
  {
   "cell_type": "code",
   "execution_count": null,
   "id": "f38263b9-8714-4710-901b-a165c9f805f8",
   "metadata": {},
   "outputs": [],
   "source": [
    "import pandas as pd\n",
    "fn = f\"workspaces_export_{os.getlogin()}.csv\"\n",
    "print(f\"Writing {fn}\")\n",
    "pd.DataFrame(workspaces).to_csv(fn)"
   ]
  },
  {
   "cell_type": "code",
   "execution_count": null,
   "id": "78cf6f3b-63a8-4603-82b0-7d36737aa45e",
   "metadata": {},
   "outputs": [],
   "source": [
    "import pandas as pd\n",
    "import dalmatian as dm"
   ]
  },
  {
   "cell_type": "code",
   "execution_count": null,
   "id": "cb6a8fcc-47e1-4163-a25d-dd614e473e7e",
   "metadata": {},
   "outputs": [],
   "source": [
    "samples = pd.read_csv(\"/home/xiaomeng/bin/depmap_omics/ccle_tasks/10052022_CCLF_GEA_cell_lines_for_SU2C.tsv\", sep='\\t')"
   ]
  },
  {
   "cell_type": "code",
   "execution_count": null,
   "id": "7f02c369",
   "metadata": {},
   "outputs": [],
   "source": [
    "wes_wm = dm.WorkspaceManager(\"nci-mimoun-bi-org/CCLF_WES\")\n",
    "wes_samples = wes_wm.get_samples()"
   ]
  },
  {
   "cell_type": "code",
   "execution_count": null,
   "id": "61410049",
   "metadata": {},
   "outputs": [],
   "source": [
    "wes_samples"
   ]
  },
  {
   "cell_type": "code",
   "execution_count": null,
   "id": "169d1859",
   "metadata": {},
   "outputs": [],
   "source": [
    "len(samples)"
   ]
  },
  {
   "cell_type": "code",
   "execution_count": null,
   "id": "89ae8a65",
   "metadata": {},
   "outputs": [],
   "source": [
    "sample_ids = set(wes_samples.index.tolist())\n",
    "\n",
    "matches = []\n",
    "for i in samples.index:\n",
    "    match = [j for j in sample_ids if samples.loc[i, \"Root.SM.ID\"] in j or samples.loc[i, \"Collaborator.Sample.ID\"] in j]\n",
    "    if len(match) > 0:\n",
    "        matches.append(match[0])"
   ]
  },
  {
   "cell_type": "code",
   "execution_count": null,
   "id": "b053a215",
   "metadata": {},
   "outputs": [],
   "source": [
    "len(matches)"
   ]
  },
  {
   "cell_type": "code",
   "execution_count": null,
   "id": "de3b0ee6",
   "metadata": {},
   "outputs": [],
   "source": [
    "rna_wm = dm.WorkspaceManager(\"nci-mimoun-bi-org/CCLF_RNA_2_0\")\n",
    "rna_samples = rna_wm.get_samples()"
   ]
  },
  {
   "cell_type": "code",
   "execution_count": null,
   "id": "0e71a749",
   "metadata": {},
   "outputs": [],
   "source": [
    "sample_ids = set(rna_samples.index.tolist())\n",
    "\n",
    "rnamatches = []\n",
    "for i in samples.index:\n",
    "    match = [j for j in sample_ids if samples.loc[i, \"Root.SM.ID\"] in j or samples.loc[i, \"Collaborator.Sample.ID\"] in j]\n",
    "    if len(match) > 0:\n",
    "        rnamatches.append(match[0])"
   ]
  },
  {
   "cell_type": "code",
   "execution_count": null,
   "id": "1718a6e5",
   "metadata": {},
   "outputs": [],
   "source": [
    "len(rnamatches)"
   ]
  },
  {
   "cell_type": "code",
   "execution_count": null,
   "id": "47dd85e1",
   "metadata": {},
   "outputs": [],
   "source": []
  }
 ],
 "metadata": {
  "kernelspec": {
   "display_name": "Python 3",
   "language": "python",
   "name": "python3"
  },
  "language_info": {
   "codemirror_mode": {
    "name": "ipython",
    "version": 3
   },
   "file_extension": ".py",
   "mimetype": "text/x-python",
   "name": "python",
   "nbconvert_exporter": "python",
   "pygments_lexer": "ipython3",
   "version": "3.8.2"
  }
 },
 "nbformat": 4,
 "nbformat_minor": 5
}
