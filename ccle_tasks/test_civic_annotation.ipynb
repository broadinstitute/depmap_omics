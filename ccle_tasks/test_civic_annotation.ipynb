{
 "cells": [
  {
   "cell_type": "code",
   "execution_count": null,
   "id": "70ccf7e6",
   "metadata": {},
   "outputs": [],
   "source": [
    "import pandas as pd"
   ]
  },
  {
   "cell_type": "code",
   "execution_count": null,
   "id": "655f93e1",
   "metadata": {},
   "outputs": [],
   "source": [
    "maf = pd.read_csv(\"gs://fc-secure-9dffc819-20a8-49ea-8fa8-1b1bab1475d0/submissions/71f1917d-1e79-4f26-81de-0db4a7316f09/WGS_pipeline/60197659-7c2a-43a7-ade2-85d52b5861f0/call-my_vcf_to_depmap/CDS-17moNf-maf-coding_somatic-subset.csv.gz\")\n"
   ]
  },
  {
   "cell_type": "code",
   "execution_count": null,
   "id": "afc745fc",
   "metadata": {},
   "outputs": [],
   "source": [
    "civic_df = pd.read_csv(\"../WGS_pipeline/civic.csv\").drop(columns=['chromosome_37', 'start_37'])\n",
    "civic_df = civic_df.rename(columns={'chromosome_38': 'chrom', 'start_38': 'pos', 'reference_bases': 'ref', \n",
    "                                    'variant_bases': 'alt', 'description': 'civic_description', \n",
    "                                    'civic_actionability_score': 'civic_score', 'id': 'civic_id'})"
   ]
  },
  {
   "cell_type": "code",
   "execution_count": null,
   "id": "ba1a5f62",
   "metadata": {},
   "outputs": [],
   "source": [
    "civic_df"
   ]
  },
  {
   "cell_type": "code",
   "execution_count": null,
   "id": "5437d025",
   "metadata": {},
   "outputs": [],
   "source": [
    "merged = civic_df.merge(maf,on=['chrom','pos', 'ref', 'alt'],how='right')"
   ]
  },
  {
   "cell_type": "code",
   "execution_count": null,
   "id": "b3ee01ec",
   "metadata": {},
   "outputs": [],
   "source": [
    "merged[merged[\"civic_score_x\"].astype(float) >= 8]"
   ]
  },
  {
   "cell_type": "code",
   "execution_count": null,
   "id": "177e7135",
   "metadata": {},
   "outputs": [],
   "source": [
    "maf"
   ]
  },
  {
   "cell_type": "code",
   "execution_count": null,
   "id": "7013fd4c",
   "metadata": {},
   "outputs": [],
   "source": [
    "new_maf = pd.read_csv(\"gs://fc-secure-9dffc819-20a8-49ea-8fa8-1b1bab1475d0/submissions/bcc29b00-95bc-4763-aa77-474629725edb/run_vcf_to_depmap/8b4f08b9-413e-4f9d-8cfd-cbaac1abdf1f/call-vcf_to_depmap/attempt-2/CDS-17moNf-maf-coding_somatic-subset.csv.gz\")"
   ]
  },
  {
   "cell_type": "code",
   "execution_count": null,
   "id": "c27c13a9",
   "metadata": {},
   "outputs": [],
   "source": [
    "old3 = pd.read_csv(\"gs://fc-secure-bd7b8bc9-f665-4269-997e-5a402088a369/submissions/cfeeb3ac-7eaa-48ac-8afa-8ba6316e9c93/run_vcf_to_depmap/a4fedae6-3187-480c-a89f-319b07f902b7/call-vcf_to_depmap/attempt-2/CDS-17moNf-maf-coding_somatic-subset.csv.gz\")"
   ]
  },
  {
   "cell_type": "code",
   "execution_count": null,
   "id": "1d699c7a",
   "metadata": {},
   "outputs": [],
   "source": [
    "set(new_maf.columns) == set(old3.columns)"
   ]
  },
  {
   "cell_type": "code",
   "execution_count": null,
   "id": "51059237",
   "metadata": {},
   "outputs": [],
   "source": [
    "lost_mutations = pd.read_csv(\"oncogenic_mutations_dropped_new_pipeline.csv\", index_col=0)"
   ]
  },
  {
   "cell_type": "code",
   "execution_count": null,
   "id": "fa50b6f0",
   "metadata": {},
   "outputs": [],
   "source": [
    "lost_mutations[['sample_id', 'hugo_symbol', 'chrom', 'pos', 'ref', 'alt', 'gene_change_old']]"
   ]
  },
  {
   "cell_type": "code",
   "execution_count": null,
   "id": "85db9eaf",
   "metadata": {},
   "outputs": [],
   "source": [
    "maf = pd.read_csv(\"gs://fc-secure-d2a2d895-a7af-4117-bdc7-652d7d268324/submissions/c46ec126-d6b9-4664-b7b7-536ce97d9d0e/run_vcf_to_depmap/3242ea6f-25b7-45ce-a91e-dce7636b4ac7/call-vcf_to_depmap/CDS-GHfeD9-maf-coding_somatic-subset.csv.gz\")"
   ]
  },
  {
   "cell_type": "code",
   "execution_count": null,
   "id": "04cd3b0d",
   "metadata": {},
   "outputs": [],
   "source": [
    "maf[maf.hugo_symbol == \"KRAS\"][['hugo_symbol', 'chrom', 'pos', 'ref', 'alt', 'protein_change', 'civic_score']]"
   ]
  },
  {
   "cell_type": "code",
   "execution_count": null,
   "id": "57ca3dee",
   "metadata": {},
   "outputs": [],
   "source": [
    "from genepy.mutations import vcf_to_df\n",
    "\n",
    "prefilter_df, desc = vcf_to_df(\"../CDS-T63MlE_prefilter.vcf.gz\")"
   ]
  },
  {
   "cell_type": "code",
   "execution_count": null,
   "id": "7288c807",
   "metadata": {},
   "outputs": [],
   "source": []
  },
  {
   "cell_type": "code",
   "execution_count": null,
   "id": "59bbd1f1",
   "metadata": {},
   "outputs": [],
   "source": [
    "prefilter_df[prefilter_df.pos == 34811853]"
   ]
  },
  {
   "cell_type": "code",
   "execution_count": null,
   "id": "1cbf01b8",
   "metadata": {},
   "outputs": [],
   "source": [
    "prefilter_df"
   ]
  },
  {
   "cell_type": "code",
   "execution_count": null,
   "id": "1cd281fe",
   "metadata": {},
   "outputs": [],
   "source": [
    "prefilter_df[(prefilter_df.chr == 'chr3') & (prefilter_df.pos > 179234290)]"
   ]
  },
  {
   "cell_type": "code",
   "execution_count": null,
   "id": "c8955a06",
   "metadata": {},
   "outputs": [],
   "source": [
    "prefilter_df.columns.FUNCOTATION[0]"
   ]
  },
  {
   "cell_type": "code",
   "execution_count": null,
   "id": "a99c087f",
   "metadata": {},
   "outputs": [],
   "source": [
    "civic_table = pd.read_csv(\"../WGS_pipeline/civic.csv\")"
   ]
  },
  {
   "cell_type": "code",
   "execution_count": null,
   "id": "d90e13c1",
   "metadata": {},
   "outputs": [],
   "source": [
    "civic_table[civic_table.ref.isnull()]"
   ]
  },
  {
   "cell_type": "code",
   "execution_count": null,
   "id": "3244318e",
   "metadata": {},
   "outputs": [],
   "source": [
    "civic_table[civic_table.ref.isnull()]"
   ]
  },
  {
   "cell_type": "code",
   "execution_count": null,
   "id": "becacf96",
   "metadata": {},
   "outputs": [],
   "source": [
    "from taigapy import TaigaClient\n",
    "tc = TaigaClient()\n",
    "\n",
    "old_cleaned = tc.get(name='comparison-new-maf-old-maf-24b4', version=10, file='old_cleaned')\n"
   ]
  },
  {
   "cell_type": "code",
   "execution_count": null,
   "id": "68892822",
   "metadata": {},
   "outputs": [],
   "source": [
    "old_cleaned[~old_cleaned.ref.isin(['A', 'T', 'C', 'G', '-'])].alt.value_counts()"
   ]
  },
  {
   "cell_type": "code",
   "execution_count": null,
   "id": "f67f384d",
   "metadata": {},
   "outputs": [],
   "source": [
    "OmicsSomaticMutations = tc.get(name='internal-22q2dryrun-5ffb', version=113, file='OmicsSomaticMutations')\n",
    "OmicsSomaticMutations.columns"
   ]
  },
  {
   "cell_type": "code",
   "execution_count": null,
   "id": "8ca255c5",
   "metadata": {},
   "outputs": [],
   "source": [
    "len(OmicsSomaticMutations[OmicsSomaticMutations.HessDriver == \"Y\"].HugoSymbol.unique())"
   ]
  },
  {
   "cell_type": "code",
   "execution_count": null,
   "id": "4caf0286",
   "metadata": {},
   "outputs": [],
   "source": [
    "len(OmicsSomaticMutations[(~OmicsSomaticMutations.CivicScore.isnull()) & (OmicsSomaticMutations.CivicScore != 0)].HugoSymbol.unique())"
   ]
  },
  {
   "cell_type": "code",
   "execution_count": null,
   "id": "2aef14b7",
   "metadata": {},
   "outputs": [],
   "source": [
    "OmicsSomaticMutations.CivicScore.value_counts()"
   ]
  },
  {
   "cell_type": "markdown",
   "id": "e82bfe3e",
   "metadata": {},
   "source": [
    "# Testing hotspot annotation"
   ]
  },
  {
   "cell_type": "code",
   "execution_count": null,
   "id": "b6a4f009",
   "metadata": {},
   "outputs": [],
   "source": [
    "hotspot_table = pd.read_csv(\"../WGS_pipeline/hotspot_table.csv\")"
   ]
  },
  {
   "cell_type": "code",
   "execution_count": null,
   "id": "7a8de08d",
   "metadata": {},
   "outputs": [],
   "source": [
    "hotspot_table.sort_values([\"chr\", \"pos\"])"
   ]
  },
  {
   "cell_type": "code",
   "execution_count": null,
   "id": "fb0b44a0",
   "metadata": {},
   "outputs": [],
   "source": [
    "hess_drivers = pd.read_csv(\"../WGS_pipeline/hess_drivers/data/hess_drivers.csv.gz\")"
   ]
  },
  {
   "cell_type": "code",
   "execution_count": null,
   "id": "35df563a",
   "metadata": {},
   "outputs": [],
   "source": [
    "hess_drivers[hess_drivers.sig_assignments.isnull()]"
   ]
  },
  {
   "cell_type": "code",
   "execution_count": null,
   "id": "e03f98af",
   "metadata": {},
   "outputs": [],
   "source": [
    "wfpjyi = pd.read_csv(\"gs://fc-secure-d2a2d895-a7af-4117-bdc7-652d7d268324/submissions/c46ec126-d6b9-4664-b7b7-536ce97d9d0e/run_vcf_to_depmap/2582967b-64c8-45b5-96b6-3ea0db05db89/call-vcf_to_depmap/attempt-2/CDS-VHwTBX-maf-coding_somatic-subset.csv.gz\")"
   ]
  },
  {
   "cell_type": "code",
   "execution_count": null,
   "id": "3eba5e23",
   "metadata": {},
   "outputs": [],
   "source": [
    "wfpjyi[wfpjyi.chrom == \"chr9\"][['chrom', 'pos', 'ref', 'alt','hess_driver']]"
   ]
  },
  {
   "cell_type": "code",
   "execution_count": null,
   "id": "6bd663ca",
   "metadata": {},
   "outputs": [],
   "source": [
    "pd.read_csv(\"gs://fc-secure-639c94ba-2b0d-4960-92fc-9cd50046a968/submissions/4abb417b-ec77-4187-862f-1252b80d8184/rsem_aggregate_results_workflow/b93a39b6-722b-4e04-b5d9-11e77c7dc375/call-rsem_aggregate_results/attempt-4/all.rsem_transcripts_expected_count.txt.gz\", sep='\\t')"
   ]
  },
  {
   "cell_type": "code",
   "execution_count": null,
   "id": "447a3be9",
   "metadata": {},
   "outputs": [],
   "source": [
    "pd.read_csv(\"gs://fc-secure-c9d6fca1-5878-40be-8485-139e1bea89b0/submissions/52c38fea-3ff1-4979-8b0d-9d069249bdae/RNA_aggregate/5052659f-ff78-4d95-a9a4-f3e6ae4ce9a8/call-rsem_aggregate_results/all.rsem_transcripts_expected_count.txt.gz\", sep='\\t')"
   ]
  },
  {
   "cell_type": "code",
   "execution_count": null,
   "id": "d750a6cf",
   "metadata": {},
   "outputs": [],
   "source": [
    "import dalmatian as dm\n",
    "\n",
    "rnawm = dm.WorkspaceManager(\"broad-firecloud-ccle/DepMap_hg38_RNAseq\")\n",
    "rnawm_dev = dm.WorkspaceManager(\"broad-firecloud-ccle/DEV_DepMap_hg38_RNAseq\")"
   ]
  },
  {
   "cell_type": "code",
   "execution_count": null,
   "id": "7ccd3d54",
   "metadata": {},
   "outputs": [],
   "source": [
    "set(rnawm.get_sample_sets().loc['all', 'samples']) - set(rnawm.get_sample_sets().loc['22Q4', 'samples']) - set(rnawm_dev.get_sample_sets().loc['all', 'samples'])"
   ]
  },
  {
   "cell_type": "code",
   "execution_count": null,
   "id": "9ac35a3c",
   "metadata": {},
   "outputs": [],
   "source": [
    "pd.read_csv(\"gs://fc-secure-639c94ba-2b0d-4960-92fc-9cd50046a968/submissions/9638b5d8-a27d-450e-974a-ad7d8f4d8eac/rsem_aggregate_results_workflow/f5423b1d-60a7-4558-94f1-d0e60280333a/call-rsem_aggregate_results/22Q4.rsem_transcripts_expected_count.txt.gz\", sep='\\t')"
   ]
  },
  {
   "cell_type": "code",
   "execution_count": null,
   "id": "c22169a1",
   "metadata": {},
   "outputs": [],
   "source": [
    "set(rnawm.get_sample_sets().loc['all', 'samples']) - {'CDS-yyTabn'}"
   ]
  },
  {
   "cell_type": "code",
   "execution_count": null,
   "id": "16fd635c",
   "metadata": {},
   "outputs": [],
   "source": [
    "rnawm.update_sample_set(\n",
    "            sample_set_id=\"all_except_cclf\", sample_ids=list(set(rnawm.get_sample_sets().loc['all', 'samples']) - {'CDS-yyTabn'})\n",
    "        )"
   ]
  },
  {
   "cell_type": "code",
   "execution_count": null,
   "id": "5055c0a7",
   "metadata": {},
   "outputs": [],
   "source": [
    "import pandas as pd\n",
    "\n",
    "pd.read_csv(\"gs://fc-secure-639c94ba-2b0d-4960-92fc-9cd50046a968/submissions/0563f426-6710-4961-8358-71c8b72ee056/rsem_aggregate_results_workflow/f6c93da7-fb43-41a1-83df-1762b67b9a33/call-rsem_aggregate_results/all.rsem_transcripts_tpm.txt.gz\", sep='\\t')"
   ]
  },
  {
   "cell_type": "code",
   "execution_count": null,
   "id": "0cfa074c",
   "metadata": {},
   "outputs": [],
   "source": [
    "from depmap_omics_upload import tracker\n",
    "\n",
    "mytracker = tracker.SampleTracker()"
   ]
  },
  {
   "cell_type": "code",
   "execution_count": null,
   "id": "341f12a3",
   "metadata": {},
   "outputs": [],
   "source": [
    "seq_table = mytracker.read_seq_table()"
   ]
  },
  {
   "cell_type": "code",
   "execution_count": null,
   "id": "c9fabb7c",
   "metadata": {},
   "outputs": [],
   "source": [
    "seq_table_w_model_info = mytracker.add_model_cols_to_seqtable([\"ModelID\"])"
   ]
  },
  {
   "cell_type": "code",
   "execution_count": null,
   "id": "c26ba544",
   "metadata": {},
   "outputs": [],
   "source": [
    "seq_table_w_model_info[['version', 'blacklist', 'expected_type', 'ModelID']]"
   ]
  },
  {
   "cell_type": "code",
   "execution_count": null,
   "id": "ab6d3e99",
   "metadata": {},
   "outputs": [],
   "source": [
    "seq_table.loc[\"CDS-6eIb5W\", \"ProfileID\"] = \"PR-ujcbEc\""
   ]
  },
  {
   "cell_type": "code",
   "execution_count": null,
   "id": "15cefaa1",
   "metadata": {},
   "outputs": [],
   "source": [
    "fp_blacklisted = ['CDS-EsMbxV', 'CDS-0DgVJy', 'CDS-0hakYH', 'CDS-I2xehY', 'CDS-vvQhsI', 'CDS-k1F3wR']"
   ]
  },
  {
   "cell_type": "code",
   "execution_count": null,
   "id": "8efb9ba3",
   "metadata": {},
   "outputs": [],
   "source": [
    "seq_table.loc[fp_blacklisted, 'blacklist'] = True"
   ]
  },
  {
   "cell_type": "code",
   "execution_count": null,
   "id": "fcd29263",
   "metadata": {},
   "outputs": [],
   "source": [
    "mytracker.write_seq_table(seq_table)"
   ]
  },
  {
   "cell_type": "code",
   "execution_count": null,
   "id": "6d93b826",
   "metadata": {},
   "outputs": [],
   "source": [
    "seq_table.columns"
   ]
  },
  {
   "cell_type": "code",
   "execution_count": null,
   "id": "6bc0e27b",
   "metadata": {},
   "outputs": [],
   "source": [
    "seq_table.loc['CDS-000dBy', 'prioritized']"
   ]
  },
  {
   "cell_type": "code",
   "execution_count": null,
   "id": "7623651b",
   "metadata": {},
   "outputs": [],
   "source": [
    "seq_table[seq_table.blacklist != True]"
   ]
  },
  {
   "cell_type": "code",
   "execution_count": null,
   "id": "8bbffa7e",
   "metadata": {},
   "outputs": [],
   "source": [
    "seq_table.blacklist.value_counts()"
   ]
  },
  {
   "cell_type": "code",
   "execution_count": null,
   "id": "cc57235e",
   "metadata": {},
   "outputs": [],
   "source": [
    "seq_table"
   ]
  },
  {
   "cell_type": "code",
   "execution_count": null,
   "id": "3fde3389",
   "metadata": {},
   "outputs": [],
   "source": [
    "wgs_cram_final = pd.read_csv(\"../22Q4_wgs_cram_final_samples.csv\", sep='\\t', index_col=0)\n",
    "wgs_cram_new = pd.read_csv(\"../22Q4_wgs_cram_new_samples.csv\", index_col=0)\n",
    "wgs_cram = pd.read_csv(\"../22Q4_wgs_cram_samples.csv\", index_col=0)"
   ]
  },
  {
   "cell_type": "code",
   "execution_count": null,
   "id": "b293c1bf",
   "metadata": {},
   "outputs": [],
   "source": [
    "cram_samples = wgs_cram.index.tolist() + wgs_cram_new.index.tolist() + wgs_cram_final.index.tolist()\n",
    "len(cram_samples)"
   ]
  },
  {
   "cell_type": "code",
   "execution_count": null,
   "id": "b8810ff0",
   "metadata": {},
   "outputs": [],
   "source": [
    "import dalmatian as dm\n",
    "\n",
    "fp_wm = dm.WorkspaceManager(\"broad-firecloud-ccle/CCLE_SNP_QC\")\n",
    "fp_wm.update_sample_set(sample_set_id=\"hg38\", sample_ids=cram_samples)"
   ]
  },
  {
   "cell_type": "code",
   "execution_count": null,
   "id": "4f2f3390",
   "metadata": {},
   "outputs": [],
   "source": [
    "# copy PRISM cnn vcfs to separate bucket\n",
    "model_set_init = [\"ACH-000060\", \"ACH-000747\", \"ACH-000809\", \"ACH-000322\", \"ACH-000736\", \"ACH-000740\", \"ACH-000078\", \"ACH-000366\", \"ACH-000149\", \"ACH-000543\"]\n",
    "model_set = [\"ACH-000896\", \"ACH-000657\", \"ACH-000880\", \"ACH-000826\", \"ACH-000457\", \"ACH-000174\", \"ACH-000749\", \"ACH-000906\", \"ACH-000572\", \"ACH-000542\", \"ACH-000847\", \"ACH-000393\", \"ACH-000721\", \"ACH-000961\", \"ACH-000265\", \"ACH-000784\", \"ACH-000685\", \"ACH-000601\", \"ACH-000704\", \"ACH-000943\", \"ACH-000376\", \"ACH-000018\", \"ACH-000428\", \"ACH-000723\", \"ACH-000836\", \"ACH-000429\", \"ACH-000940\", \"ACH-000805\", \"ACH-000082\", \"ACH-000096\", \"ACH-000178\", \"ACH-000396\", \"ACH-000476\", \"ACH-000108\", \"ACH-000524\", \"ACH-000777\", \"ACH-000153\", \"ACH-000924\", \"ACH-000628\", \"ACH-001318\", \"ACH-000839\", \"ACH-000361\", \"ACH-000939\", \"ACH-000955\", \"ACH-000842\", \"ACH-000651\", \"ACH-000421\", \"ACH-000332\", \"ACH-000469\", \"ACH-000570\", \"ACH-000323\", \"ACH-000219\", \"ACH-000788\", \"ACH-000086\", \"ACH-000792\", \"ACH-000211\", \"ACH-000936\", \"ACH-000903\", \"ACH-000054\", \"ACH-000882\", \"ACH-000650\", \"ACH-000217\", \"ACH-000324\", \"ACH-000471\", \"ACH-000510\", \"ACH-000463\", \"ACH-000947\", \"ACH-000164\", \"ACH-000670\", \"ACH-000748\", \"ACH-000549\", \"ACH-000302\", \"ACH-000048\", \"ACH-000545\", \"ACH-000762\", \"ACH-000008\", \"ACH-001016\", \"ACH-000191\", \"ACH-000210\", \"ACH-000433\", \"ACH-000803\", \"ACH-000375\", \"ACH-000941\", \"ACH-000259\", \"ACH-000007\", \"ACH-000395\", \"ACH-000688\", \"ACH-000599\", \"ACH-000619\", \"ACH-000347\", \"ACH-000965\", \"ACH-000719\", \"ACH-000532\", \"ACH-000407\", \"ACH-000316\", \"ACH-000418\", \"ACH-000677\", \"ACH-000566\", \"ACH-000716\", \"ACH-000484\"]"
   ]
  },
  {
   "cell_type": "code",
   "execution_count": null,
   "id": "093fb463",
   "metadata": {},
   "outputs": [],
   "source": [
    "import dalmatian as dm\n",
    "\n",
    "wes_wm = dm.WorkspaceManager(\"broad-firecloud-ccle/DepMap_WES_CN_hg38\")\n",
    "wes_samples = wes_wm.get_samples()\n",
    "wgs_wm = dm.WorkspaceManager(\"broad-firecloud-ccle/DepMap_WGS_CN\")\n",
    "wgs_samples = wgs_wm.get_samples()"
   ]
  },
  {
   "cell_type": "code",
   "execution_count": null,
   "id": "ec4c82d0",
   "metadata": {},
   "outputs": [],
   "source": [
    "import pandas as pd\n",
    "\n",
    "vcf_df = pd.DataFrame(index=model_set_init + model_set)\n",
    "vcf_df[\"SequencingID\"] = \"\"\n",
    "vcf_df[\"Datatype\"] = \"\""
   ]
  },
  {
   "cell_type": "code",
   "execution_count": null,
   "id": "e9f3f0e7",
   "metadata": {},
   "outputs": [],
   "source": [
    "from depmap_omics_upload import tracker as track\n",
    "\n",
    "mytracker = track.SampleTracker()\n",
    "seq_table = mytracker.add_model_cols_to_seqtable(cols=[\"ModelID\"])"
   ]
  },
  {
   "cell_type": "code",
   "execution_count": null,
   "id": "2dd16da8",
   "metadata": {},
   "outputs": [],
   "source": [
    "for i in model_set_init + model_set:\n",
    "    if len(seq_table[(seq_table.ModelID == i) & (seq_table.expected_type == \"wgs\") & (seq_table.blacklist != False)]) > 0:\n",
    "        seqid = seq_table[(seq_table.ModelID == i) & (seq_table.expected_type == \"wgs\")].index.tolist()[0]\n",
    "        vcf_df.loc[i, \"SequencingID\"] = seqid\n",
    "        vcf_df.loc[i, \"Datatype\"] = \"wgs\"\n",
    "    elif len(seq_table[(seq_table.ModelID == i) & (seq_table.expected_type == \"wes\") & (seq_table.blacklist != False)]) == 1:\n",
    "        seqid = seq_table[(seq_table.ModelID == i) & (seq_table.expected_type == \"wes\")].index.tolist()[0]\n",
    "        vcf_df.loc[i, \"SequencingID\"] = seqid\n",
    "        vcf_df.loc[i, \"Datatype\"] = \"wes\"\n",
    "    elif len(seq_table[(seq_table.ModelID == i) & (seq_table.expected_type == \"wes\") & (seq_table.blacklist != False)]) > 1:\n",
    "        seqid = seq_table[(seq_table.ModelID == i) & (seq_table.expected_type == \"wes\") & (seq_table.source != \"SANGER\")].index.tolist()[0]\n",
    "        vcf_df.loc[i, \"SequencingID\"] = seqid\n",
    "        vcf_df.loc[i, \"Datatype\"] = \"wes\""
   ]
  },
  {
   "cell_type": "code",
   "execution_count": null,
   "id": "036b300a",
   "metadata": {},
   "outputs": [],
   "source": [
    "len(vcf_df[vcf_df.Datatype == \"wes\"])"
   ]
  },
  {
   "cell_type": "code",
   "execution_count": null,
   "id": "265375c0",
   "metadata": {},
   "outputs": [],
   "source": [
    "for i in vcf_df.index:\n",
    "    seqid = vcf_df.loc[i, \"SequencingID\"]\n",
    "    if seqid in wgs_samples.index:\n",
    "        vcf_df.loc[i, 'mutect2_vcf'] = wgs_samples.loc[seqid, 'mutect2_filtered_vcf']\n",
    "        vcf_df.loc[i, 'mutect2_vcf_index'] = wgs_samples.loc[seqid, 'mutect2_filtered_vcf_idx']\n",
    "    elif seqid in wes_samples.index:\n",
    "        vcf_df.loc[i, 'mutect2_vcf'] = wes_samples.loc[seqid, 'mutect2_filtered_vcf']\n",
    "        vcf_df.loc[i, 'mutect2_vcf_index'] = wes_samples.loc[seqid, 'mutect2_filtered_vcf_idx']"
   ]
  },
  {
   "cell_type": "code",
   "execution_count": null,
   "id": "1ab9ae77",
   "metadata": {},
   "outputs": [],
   "source": [
    "vcf_df"
   ]
  },
  {
   "cell_type": "code",
   "execution_count": null,
   "id": "242b912c",
   "metadata": {},
   "outputs": [],
   "source": [
    "files = vcf_df.mutect2_vcf.tolist() + vcf_df.mutect2_vcf_index.tolist()\n",
    "cmds = [\"gsutil -u broad-firecloud-ccle cp \" + f + \" gs://prism-vcf/\" for f in files]"
   ]
  },
  {
   "cell_type": "code",
   "execution_count": null,
   "id": "4c2fc8ab",
   "metadata": {},
   "outputs": [],
   "source": [
    "cmds"
   ]
  },
  {
   "cell_type": "code",
   "execution_count": null,
   "id": "87d0c7b6",
   "metadata": {},
   "outputs": [],
   "source": [
    "from genepy.utils import helper as h\n",
    "\n",
    "h.parrun(cmds, cores=8)"
   ]
  },
  {
   "cell_type": "code",
   "execution_count": null,
   "id": "3b9fb686",
   "metadata": {},
   "outputs": [],
   "source": [
    "for i in vcf_df.index:\n",
    "    vcf_df.loc[i, \"mutect2_vcf\"] = \"gs://prism-vcf/\" + vcf_df.loc[i, \"mutect2_vcf\"].split(\"/\")[-1]\n",
    "    vcf_df.loc[i, \"mutect2_vcf_index\"] = \"gs://prism-vcf/\" + vcf_df.loc[i, \"mutect2_vcf_index\"].split(\"/\")[-1]"
   ]
  },
  {
   "cell_type": "code",
   "execution_count": null,
   "id": "02ded7ba",
   "metadata": {},
   "outputs": [],
   "source": [
    "vcf_df.to_csv(\"prism_vcf_110.csv\")"
   ]
  },
  {
   "cell_type": "code",
   "execution_count": null,
   "id": "9228b624",
   "metadata": {},
   "outputs": [],
   "source": [
    "from taigapy import TaigaClient\n",
    "tc = TaigaClient()\n",
    "\n",
    "tc.update_dataset(\n",
    "    changes_description=\"add all gene matrix\",\n",
    "    dataset_permaname=\"expression-d035\",\n",
    "    upload_files=[\n",
    "        {\n",
    "            \"path\": \"../output/22Q4/genes_tpm_logp1.csv\",\n",
    "            \"format\": \"NumericMatrixCSV\",\n",
    "            \"encoding\": \"utf-8\",\n",
    "        }\n",
    "    ],\n",
    "    add_all_existing_files = True,\n",
    ")"
   ]
  },
  {
   "cell_type": "code",
   "execution_count": null,
   "id": "da1d0c63",
   "metadata": {},
   "outputs": [],
   "source": [
    "import vcf\n",
    "\n",
    "vcf_reader = vcf.Reader(filename='../CDS-00Nrci.vcf.gz')"
   ]
  },
  {
   "cell_type": "code",
   "execution_count": null,
   "id": "92162b5b",
   "metadata": {},
   "outputs": [],
   "source": [
    "vcf_reader"
   ]
  },
  {
   "cell_type": "code",
   "execution_count": null,
   "id": "1fa3a2b8",
   "metadata": {},
   "outputs": [],
   "source": [
    "for record in vcf_reader:\n",
    "    print(record)"
   ]
  },
  {
   "cell_type": "code",
   "execution_count": null,
   "id": "2e2e5a78",
   "metadata": {},
   "outputs": [],
   "source": [
    "record.samples"
   ]
  },
  {
   "cell_type": "code",
   "execution_count": null,
   "id": "673027fb",
   "metadata": {},
   "outputs": [],
   "source": [
    "for sample in record.samples:\n",
    "    print(sample['GB'])"
   ]
  },
  {
   "cell_type": "code",
   "execution_count": null,
   "id": "f9f8b2f2",
   "metadata": {},
   "outputs": [],
   "source": [
    "import pysam\n",
    "f2 = pysam.VariantFile('../CDS-00Nrci.vcf.gz')"
   ]
  },
  {
   "cell_type": "code",
   "execution_count": null,
   "id": "be430165",
   "metadata": {},
   "outputs": [],
   "source": []
  }
 ],
 "metadata": {
  "kernelspec": {
   "display_name": "Python 3",
   "language": "python",
   "name": "python3"
  },
  "language_info": {
   "codemirror_mode": {
    "name": "ipython",
    "version": 3
   },
   "file_extension": ".py",
   "mimetype": "text/x-python",
   "name": "python",
   "nbconvert_exporter": "python",
   "pygments_lexer": "ipython3",
   "version": "3.8.13"
  }
 },
 "nbformat": 4,
 "nbformat_minor": 5
}
