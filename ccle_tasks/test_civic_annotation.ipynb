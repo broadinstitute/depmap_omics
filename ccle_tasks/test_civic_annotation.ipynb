{
 "cells": [
  {
   "cell_type": "code",
   "execution_count": null,
   "id": "70ccf7e6",
   "metadata": {},
   "outputs": [],
   "source": [
    "import pandas as pd"
   ]
  },
  {
   "cell_type": "code",
   "execution_count": null,
   "id": "655f93e1",
   "metadata": {},
   "outputs": [],
   "source": [
    "maf = pd.read_csv(\"gs://fc-secure-9dffc819-20a8-49ea-8fa8-1b1bab1475d0/submissions/71f1917d-1e79-4f26-81de-0db4a7316f09/WGS_pipeline/60197659-7c2a-43a7-ade2-85d52b5861f0/call-my_vcf_to_depmap/CDS-17moNf-maf-coding_somatic-subset.csv.gz\")\n"
   ]
  },
  {
   "cell_type": "code",
   "execution_count": null,
   "id": "afc745fc",
   "metadata": {},
   "outputs": [],
   "source": [
    "civic_df = pd.read_csv(\"../WGS_pipeline/civic.csv\").drop(columns=['chromosome_37', 'start_37'])\n",
    "civic_df = civic_df.rename(columns={'chromosome_38': 'chrom', 'start_38': 'pos', 'reference_bases': 'ref', \n",
    "                                    'variant_bases': 'alt', 'description': 'civic_description', \n",
    "                                    'civic_actionability_score': 'civic_score', 'id': 'civic_id'})"
   ]
  },
  {
   "cell_type": "code",
   "execution_count": null,
   "id": "ba1a5f62",
   "metadata": {},
   "outputs": [],
   "source": [
    "civic_df"
   ]
  },
  {
   "cell_type": "code",
   "execution_count": null,
   "id": "5437d025",
   "metadata": {},
   "outputs": [],
   "source": [
    "merged = civic_df.merge(maf,on=['chrom','pos', 'ref', 'alt'],how='right')"
   ]
  },
  {
   "cell_type": "code",
   "execution_count": null,
   "id": "b3ee01ec",
   "metadata": {},
   "outputs": [],
   "source": [
    "merged[merged[\"civic_score_x\"].astype(float) >= 8]"
   ]
  },
  {
   "cell_type": "code",
   "execution_count": null,
   "id": "177e7135",
   "metadata": {},
   "outputs": [],
   "source": [
    "maf"
   ]
  },
  {
   "cell_type": "code",
   "execution_count": null,
   "id": "7013fd4c",
   "metadata": {},
   "outputs": [],
   "source": [
    "new_maf = pd.read_csv(\"gs://fc-secure-9dffc819-20a8-49ea-8fa8-1b1bab1475d0/submissions/bcc29b00-95bc-4763-aa77-474629725edb/run_vcf_to_depmap/8b4f08b9-413e-4f9d-8cfd-cbaac1abdf1f/call-vcf_to_depmap/attempt-2/CDS-17moNf-maf-coding_somatic-subset.csv.gz\")"
   ]
  },
  {
   "cell_type": "code",
   "execution_count": null,
   "id": "c27c13a9",
   "metadata": {},
   "outputs": [],
   "source": [
    "old3 = pd.read_csv(\"gs://fc-secure-bd7b8bc9-f665-4269-997e-5a402088a369/submissions/cfeeb3ac-7eaa-48ac-8afa-8ba6316e9c93/run_vcf_to_depmap/a4fedae6-3187-480c-a89f-319b07f902b7/call-vcf_to_depmap/attempt-2/CDS-17moNf-maf-coding_somatic-subset.csv.gz\")"
   ]
  },
  {
   "cell_type": "code",
   "execution_count": null,
   "id": "1d699c7a",
   "metadata": {},
   "outputs": [],
   "source": [
    "set(new_maf.columns) == set(old3.columns)"
   ]
  },
  {
   "cell_type": "code",
   "execution_count": null,
   "id": "51059237",
   "metadata": {},
   "outputs": [],
   "source": [
    "old3"
   ]
  },
  {
   "cell_type": "code",
   "execution_count": null,
   "id": "85db9eaf",
   "metadata": {},
   "outputs": [],
   "source": []
  }
 ],
 "metadata": {
  "kernelspec": {
   "display_name": "Python 3",
   "language": "python",
   "name": "python3"
  },
  "language_info": {
   "codemirror_mode": {
    "name": "ipython",
    "version": 3
   },
   "file_extension": ".py",
   "mimetype": "text/x-python",
   "name": "python",
   "nbconvert_exporter": "python",
   "pygments_lexer": "ipython3",
   "version": "3.8.2"
  }
 },
 "nbformat": 4,
 "nbformat_minor": 5
}
