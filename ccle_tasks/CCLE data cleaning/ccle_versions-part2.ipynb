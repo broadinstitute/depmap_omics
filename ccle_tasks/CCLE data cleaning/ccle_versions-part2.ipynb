{
 "cells": [
  {
   "cell_type": "code",
   "execution_count": null,
   "metadata": {},
   "outputs": [],
   "source": [
    "import os\n",
    "import pandas as pd\n",
    "import numpy as np\n",
    "import dalmatian as dm\n",
    "import signal\n",
    "import ipdb\n",
    "import sys\n",
    "sys.path.append('../../..')\n",
    "from JKBio import GCPFunction as gcp\n",
    "from JKBio import Helper as h\n",
    "import re\n",
    "from gsheets import Sheets\n",
    "sheets = Sheets.from_files('~/.client_secrets.json', '~/.storage.json')\n",
    "%load_ext autoreload\n",
    "%autoreload 2"
   ]
  },
  {
   "cell_type": "code",
   "execution_count": null,
   "metadata": {},
   "outputs": [],
   "source": [
    "folder = 'gs://ccle_bams/'"
   ]
  },
  {
   "cell_type": "code",
   "execution_count": null,
   "metadata": {},
   "outputs": [],
   "source": [
    "samples = os.popen('gsutil -m ls -al '+folder +'**.bam').read().split('\\n')"
   ]
  },
  {
   "cell_type": "code",
   "execution_count": null,
   "metadata": {},
   "outputs": [],
   "source": [
    "sizes = {'gs://' + val.split('gs://')[1].split('#')[0]: int(val.split(\" 2019-\")[0] if \"2019-\" in val else val.split(\" 2020-\")[0]) for val in samples[:-2]}"
   ]
  },
  {
   "cell_type": "code",
   "execution_count": null,
   "metadata": {},
   "outputs": [],
   "source": [
    "sizes"
   ]
  },
  {
   "cell_type": "code",
   "execution_count": null,
   "metadata": {},
   "outputs": [],
   "source": [
    "# can we find more wes for these ??\n",
    "wesfor = {'ACH-000004',\n",
    " 'ACH-000118',\n",
    " 'ACH-000246',\n",
    " 'ACH-000258',\n",
    " 'ACH-000272',\n",
    " 'ACH-000304',\n",
    " 'ACH-000356',\n",
    " 'ACH-000444',\n",
    " 'ACH-000452',\n",
    " 'ACH-000488',\n",
    " 'ACH-000658',\n",
    " 'ACH-000738',\n",
    " 'ACH-000768',\n",
    " 'ACH-000837',\n",
    " 'ACH-000848',\n",
    " 'ACH-000865',\n",
    " 'ACH-000960',\n",
    " 'ACH-000961'}\n",
    "historyofsnparray = {\"ACH-000004\",\"ACH-000014\",\"ACH-000025\",\"ACH-000028\",\"ACH-000118\",\"ACH-000128\",\"ACH-000164\",\"ACH-000167\",\"ACH-000215\",\"ACH-000237\",\"ACH-000246\",\"ACH-000258\",\"ACH-000272\",\"ACH-000304\",\"ACH-000310\",\"ACH-000356\",\"ACH-000436\",\"ACH-000444\",\"ACH-000452\",\"ACH-000454\",\"ACH-000458\",\"ACH-000488\",\"ACH-000550\",\"ACH-000591\",\"ACH-000593\",\"ACH-000600\",\"ACH-000632\",\"ACH-000634\",\"ACH-000658\",\"ACH-000673\",\"ACH-000695\",\"ACH-000738\",\"ACH-000739\",\"ACH-000768\",\"ACH-000774\",\"ACH-000836\",\"ACH-000837\",\"ACH-000848\",\"ACH-000854\",\"ACH-000865\",\"ACH-000887\",\"ACH-000901\",\"ACH-000928\",\"ACH-000941\",\"ACH-000960\",\"ACH-000961\",\"ACH-001061\",\"ACH-001239\"}\n",
    "stillsnpfor = historyofsnparray - wesfor\n",
    "stillsnpfor"
   ]
  },
  {
   "cell_type": "code",
   "execution_count": null,
   "metadata": {},
   "outputs": [],
   "source": [
    "stillsnpfor = stillsnpfor - set(df[df.datatype=='wes'].arxspan_id)\n",
    "stillsnpfor"
   ]
  },
  {
   "cell_type": "code",
   "execution_count": null,
   "metadata": {},
   "outputs": [],
   "source": [
    "set([i.split('_')[0] for i in cnsam.index]) & stillsnpfor"
   ]
  },
  {
   "cell_type": "code",
   "execution_count": null,
   "metadata": {},
   "outputs": [],
   "source": [
    "h.listToFile(stillsnpfor,'droppedbcnoWES.txt')"
   ]
  },
  {
   "cell_type": "markdown",
   "metadata": {},
   "source": [
    "# rescuinig ACH-003000"
   ]
  },
  {
   "cell_type": "code",
   "execution_count": null,
   "metadata": {},
   "outputs": [],
   "source": [
    "for k, val in df.loc[df[df.ccle_name.isna()].index].iterrows():\n",
    "    for v in df[df.arxspan_id==val.arxspan_id].ccle_name:\n",
    "        if str(v) !='nan':\n",
    "            df.loc[k,'ccle_name'] = v\n",
    "            break"
   ]
  },
  {
   "cell_type": "code",
   "execution_count": null,
   "metadata": {},
   "outputs": [],
   "source": [
    "df.loc[df[df.arxspan_id.isna()].index,'arxspan_id'] = [\"ACH-001421\",\"ACH-001533\",\"ACH-001574\",\"ACH-001678\",\"ACH-001711\",\"ACH-001847\",\"ACH-002021\",\"ACH-002048\",\"ACH-002065\",\"ACH-003000\",'ACH-001957','ACH-000005']\n",
    "\n",
    "#ACH-002446-311cas9"
   ]
  },
  {
   "cell_type": "code",
   "execution_count": null,
   "metadata": {},
   "outputs": [],
   "source": [
    "df[df.arxspan_id=='ACH-003000']"
   ]
  },
  {
   "cell_type": "code",
   "execution_count": null,
   "metadata": {},
   "outputs": [],
   "source": [
    "h.listToFile(['CCLFUPGI0005T-311cas9'],'tocreate_arxspan.txt')"
   ]
  },
  {
   "cell_type": "markdown",
   "metadata": {},
   "source": [
    "# add other data type to csv\n",
    "\n",
    "using the Terra workspacce CCLE2 and master depmap CV : pakita master  \n",
    "\n",
    "using the columns : \n",
    "- Stripped Cell Line Name\t\n",
    "- Aliases\t\n",
    "- Gender\t\n",
    "- notes\t\n",
    "- Primary Site\t\n",
    "- Primary Disease\t\n",
    "- Subtype\t\n",
    "- Comments\t\n",
    "- Disease\t\n",
    "- Disease Subtype\t\n",
    "- Disease Sub-subtype\n",
    "- Tumor Type for Dashboard\n",
    "\n",
    "use snp pairs to: \n",
    "- merge some CL\n",
    "- create parents of"
   ]
  },
  {
   "cell_type": "code",
   "execution_count": null,
   "metadata": {},
   "outputs": [],
   "source": [
    "## QC file, sra, "
   ]
  },
  {
   "cell_type": "code",
   "execution_count": null,
   "metadata": {},
   "outputs": [],
   "source": [
    "masteromics.loc[4543,'DepMap ID']='ACH-003000'\n",
    "masteromics.loc[4542,'DepMap ID']='ACH-003000'"
   ]
  },
  {
   "cell_type": "code",
   "execution_count": null,
   "metadata": {},
   "outputs": [],
   "source": [
    "for val in set(df.arxspan_id):\n",
    "    df.loc[df[df.arxspan_id==val].index,'patient_id'] = 'PT-'+h.randomString(stringLength=8, stype='all', withdigits=True)"
   ]
  },
  {
   "cell_type": "code",
   "execution_count": null,
   "metadata": {},
   "outputs": [],
   "source": [
    "master = masterdepmap.find('Master_Paquita').to_frame(header=2)"
   ]
  },
  {
   "cell_type": "code",
   "execution_count": null,
   "metadata": {},
   "outputs": [],
   "source": [
    "for k, val in master.iterrows():\n",
    "    index =df[df.arxspan_id==val['DepMap_ID']].index\n",
    "    df.loc[index,'stripped_cell_line_name'] = val[\"Stripped Cell Line Name\"]\n",
    "    df.loc[index,'gender'] = val[\"Gender\"]\n",
    "    df.loc[index,'primary_site'] = val[\"Primary Site\"]\n",
    "    df.loc[index,'primary_disease'] = val[\"Primary Disease\"]\n",
    "    df.loc[index,'subtype'] = val[\"Disease Subtype\"]\n",
    "    df.loc[index,'origin'] = val[\"Disease\"]\n",
    "    df.loc[index,'comments'] = val[\"Comments\"]\n",
    "    df.loc[index,'notes'] = val[\"Gender\"]\n",
    "    df.loc[index,'subsubtype'] = val[\"Disease Sub-subtype\"]"
   ]
  },
  {
   "cell_type": "code",
   "execution_count": null,
   "metadata": {},
   "outputs": [],
   "source": [
    "df.stripped_cell_line_name = [i.replace('-','').replace('_','') if type(i) is str else i for i in df.stripped_cell_line_name]"
   ]
  },
  {
   "cell_type": "markdown",
   "metadata": {},
   "source": [
    "### Merging similar lines and adding parent relationships"
   ]
  },
  {
   "cell_type": "code",
   "execution_count": null,
   "metadata": {},
   "outputs": [],
   "source": [
    "samepatient=[('HEL','HEL9217'),\n",
    "('LS513','HCC1588'),\n",
    "('C2BBE1','CACO2'),\n",
    "('253J','253JBV'),\n",
    "('A101D', 'HS294T'),\n",
    "('HS294T', 'A101D'),\n",
    "('SKBR3','AU565'),\n",
    "('T24', 'ACCS'),\n",
    "('MCF7', 'KPL1'),\n",
    "('NCIH1693', 'NCIH1819'),\n",
    "('PATU8988S', 'PATU8988T'),\n",
    "('KPL1', 'MCF7'),\n",
    "('U343', 'GOS3'),\n",
    "('U118MG', 'U138MG' ),\n",
    "('1321N1', 'U138MG'),\n",
    "('TOV112D', 'HS571T'),\n",
    "('PANC1005', 'PL45'),\n",
    "('KP3L', 'KP3'),\n",
    "('M059J', 'M059K'),\n",
    "('SW579', 'CGTHW1'),\n",
    "('KE97', 'KMS18'),\n",
    "('PK1', 'KLM1'),\n",
    "('MONOMAC1', 'MONOMAC6'),\n",
    "('R256', 'R262'),\n",
    "('PLCPRF5', 'ALEXANDER'),\n",
    "('ISHIKAWA', 'HEK'),\n",
    "('KARPAS422', 'OCILY10'),\n",
    "('PSN1', 'GRM'),\n",
    "('HLF', 'HLE'),\n",
    "('NICH322', 'NICH3255'),\n",
    "('FTC133', 'FTC238'),\n",
    "('KMS18', 'KE97'),\n",
    "('LN464', 'ACN'),\n",
    "('HMC18', 'HLC1'),\n",
    "('HEPG2', 'C3A'),\n",
    "('AU565', 'SKBR3'),\n",
    "('WM115', 'WM2664'),\n",
    "('IGR39', 'IGR37SW620'),\n",
    "('SW480', 'IGR37SW620'),\n",
    "('COLO205', 'COLO201'),\n",
    "('COLO206', 'COLO201'),\n",
    "('COLO800', 'COLO794'),\n",
    "('SF767', 'ME180'),\n",
    "('WM2664', 'WM115'),\n",
    "('PEO1', 'PEO4'),\n",
    "('PEO6', 'PEO4'),\n",
    "('GP5D', 'GP2D'),\n",
    "('UPCISCC152', 'UPCISCC90'),\n",
    "('MDAMB435S', 'M14'),\n",
    "('MDAMB435', 'M14'),\n",
    "('MEC1', 'MEC2'),\n",
    "('SKMES1', 'RERFLCMA'),\n",
    "('PANC1','KP1N'),\n",
    "('IMR32','IMR5'),\n",
    "('A545','NCIH1993'),\n",
    "('NCIH2073','A545'),\n",
    "('COLO775','RPMI8226'),\n",
    "('COLO677','RPMI8226'),\n",
    "('CHL1','COLO699'),\n",
    "('HMCB','COLO699'),\n",
    "('DLD1','HRT18'),\n",
    "('HCT15','DLD1'),\n",
    "('D458','D425'),\n",
    "('CCLFPEDS0001T_KIDNEY','PEDS005TSUSP')]\n",
    "\n",
    "sameline=[('ZR751','YMB1'),\n",
    "('PC14','PC9'),\n",
    "('A375C5', 'A373C6'),\n",
    "('COLO206', 'COLO206F'),\n",
    "('RH30','SJRH30')]\n",
    "\n",
    "parentsof=[('ONCODG1', 'NIHOVCAR3'),\n",
    "('MCIXC', 'SKNMC'),\n",
    "('YMB1E', 'ZR751'),\n",
    "('HEYA8', 'HEY'),\n",
    "('A373C6', 'A375'),\n",
    "('NC37', 'RAJI'),\n",
    "('A2780ADR', 'A2780'),\n",
    "('A2780cis', 'A2780'),\n",
    "('MKN28', 'MKN74'),\n",
    "('RT11284', 'RT112'),\n",
    "('LNZTA3WT4', 'LNZ308'),\n",
    "('LNZTA3WT11', 'LNZ308'),\n",
    "('143B', 'HOS'),\n",
    "('MDAMB435S', 'MDAMB435'),\n",
    "('CORL23CPR', 'CORL23'),\n",
    "('BE2M17', 'SKNBE2'),\n",
    "('TUR', 'U937'),\n",
    "('HEC1B', 'HEC1'),\n",
    "('HEC1A', 'HEC1'),\n",
    "('KP1NL', 'KP1N'),\n",
    "('HAP1MLH1KO', 'HAP1')]"
   ]
  },
  {
   "cell_type": "code",
   "execution_count": null,
   "metadata": {},
   "outputs": [],
   "source": [
    "for i,j in samepatient:\n",
    "    if j in df.stripped_cell_line_name.tolist():\n",
    "        df.loc[df[df.stripped_cell_line_name==i].index,'patient_id']=df[df.stripped_cell_line_name==j].patient_id[0]\n",
    "        df.loc[df[df.stripped_cell_line_name==i].index,'gender']=df[df.stripped_cell_line_name==j].gender[0]\n",
    "    else:\n",
    "        print(i,j)"
   ]
  },
  {
   "cell_type": "code",
   "execution_count": null,
   "metadata": {},
   "outputs": [],
   "source": [
    "for i,j in parentsof:\n",
    "    if j in df.stripped_cell_line_name.tolist():\n",
    "        df.loc[df[df.stripped_cell_line_name==i].index,'patient_id']=df[df.stripped_cell_line_name==j].patient_id[0]\n",
    "        df.loc[df[df.stripped_cell_line_name==i].index,'gender']=df[df.stripped_cell_line_name==j].gender[0]\n",
    "        df.loc[df[df.stripped_cell_line_name==i].index,'parent_cell_line'] = df[df.stripped_cell_line_name==j].arxspan_id[0]\n",
    "    else:\n",
    "        print(i,j)"
   ]
  },
  {
   "cell_type": "code",
   "execution_count": null,
   "metadata": {},
   "outputs": [],
   "source": [
    "df."
   ]
  },
  {
   "cell_type": "code",
   "execution_count": null,
   "metadata": {},
   "outputs": [],
   "source": [
    "dfe = df.reset_index(drop=False).set_index('cds_id').drop(columns=['aliases','disease_subsubtype','disease_subtype','disease','tumor_type_for_dashboard']).rename(columns={'cds_idsm_id':'sm_id'})[['bam_public_sra_path','internal_bam_filepath', 'internal_bai_filepath', 'parent_cell_line', 'stripped_cell_line_name', 'gender', 'notes', 'primary_site', 'primary_disease', 'subtype', 'comments', 'arxspan_id', 'ccle_name', 'version', 'sm_id', 'source', 'datatype', 'sequencing_type', 'sequencing_date', 'baits', 'origin', 'subsubtype', 'patient_id', 'release_date', 'bam_qc', 'processing_qc', 'crc32c_hash', '18q1', '18q2', '18q3', '18q4', '19q1', '19q2', '19q3', '19q4', '20q1', '20q2']]"
   ]
  },
  {
   "cell_type": "code",
   "execution_count": null,
   "metadata": {},
   "outputs": [],
   "source": [
    "dfe = dfe.drop(columns='notes')"
   ]
  },
  {
   "cell_type": "code",
   "execution_count": null,
   "metadata": {},
   "outputs": [],
   "source": [
    "def inttodate(i, lim=1965):\n",
    "    a = int(i//365)\n",
    "    if a > lim:\n",
    "        a = str(a)\n",
    "        r = i%365\n",
    "        m = str(int(r//30)) if int(r)>0 else str(1)\n",
    "        r = r%30\n",
    "        d = str(int(r)) if int(r)>0 else str(1)\n",
    "    else:\n",
    "        return 'U'\n",
    "    return d+'/'+m+'/'+a  \n",
    "dfe['sequencing_date'] = [inttodate(i) for i in dfe['sequencing_date']]"
   ]
  },
  {
   "cell_type": "code",
   "execution_count": null,
   "metadata": {},
   "outputs": [],
   "source": [
    "import math"
   ]
  },
  {
   "cell_type": "code",
   "execution_count": null,
   "metadata": {},
   "outputs": [],
   "source": [
    "i"
   ]
  },
  {
   "cell_type": "code",
   "execution_count": null,
   "metadata": {},
   "outputs": [],
   "source": [
    "i%365"
   ]
  },
  {
   "cell_type": "code",
   "execution_count": null,
   "metadata": {},
   "outputs": [],
   "source": [
    "dfe[\"condition\"] = None\n",
    "dfe[\"mediatype\"] = None"
   ]
  },
  {
   "cell_type": "code",
   "execution_count": null,
   "metadata": {},
   "outputs": [],
   "source": [
    "dfe"
   ]
  },
  {
   "cell_type": "code",
   "execution_count": null,
   "metadata": {},
   "outputs": [],
   "source": [
    "dfe.to_csv('ccle_samples.csv')"
   ]
  },
  {
   "cell_type": "code",
   "execution_count": null,
   "metadata": {},
   "outputs": [],
   "source": [
    "df =pd.read_csv('../data/ccle_samples - ccle_samples.csv').set_index('cds_id')"
   ]
  },
  {
   "cell_type": "code",
   "execution_count": null,
   "metadata": {},
   "outputs": [],
   "source": [
    "clotoarx = pd.read_csv('../data/arxspan-cell-line-export_v390-ach.csv')"
   ]
  },
  {
   "cell_type": "code",
   "execution_count": null,
   "metadata": {},
   "outputs": [],
   "source": [
    "pd.set_option('display.max_columns', None)"
   ]
  },
  {
   "cell_type": "code",
   "execution_count": null,
   "metadata": {},
   "outputs": [],
   "source": [
    "clotoarx"
   ]
  },
  {
   "cell_type": "code",
   "execution_count": null,
   "metadata": {},
   "outputs": [],
   "source": [
    "for i,val in clotoarx.iterrows():\n",
    "    loc = df[df.arxspan_id==val.arxspan_id].index\n",
    "    df.loc[loc,'age'] = val['CCLF Age'] \n",
    "    df.loc[loc,'cellosaurus_id'] = val['RRID']\n",
    "    for l in loc:\n",
    "        if df.loc[l,'stripped_cell_line_name'] is np.nan:\n",
    "            df.loc[l,'stripped_cell_line_name'] = val['Stripped Cell Line Name']"
   ]
  },
  {
   "cell_type": "code",
   "execution_count": null,
   "metadata": {},
   "outputs": [],
   "source": [
    "df[df.stripped_cell_line_name.isna()]"
   ]
  },
  {
   "cell_type": "code",
   "execution_count": null,
   "metadata": {},
   "outputs": [],
   "source": [
    "## check what is not in masteromics\n",
    "set(df.arxspan_id) - set(masteromics['DepMap ID'])"
   ]
  },
  {
   "cell_type": "code",
   "execution_count": null,
   "metadata": {},
   "outputs": [],
   "source": [
    "for val in df.cellosaurus_id:\n",
    "    data= set(df[df.cellosaurus_id==val].arxspan_id)\n",
    "    if len(data) > 1:\n",
    "        print(data)   "
   ]
  },
  {
   "cell_type": "code",
   "execution_count": null,
   "metadata": {},
   "outputs": [],
   "source": [
    "set(df[df.cellosaurus_id.isna()].stripped_cell_line_name)"
   ]
  },
  {
   "cell_type": "code",
   "execution_count": null,
   "metadata": {},
   "outputs": [],
   "source": [
    "set(df[df.age.isna()].stripped_cell_line_name)"
   ]
  },
  {
   "cell_type": "code",
   "execution_count": null,
   "metadata": {},
   "outputs": [],
   "source": [
    "set(df[df.gender.isna()].stripped_cell_line_name)"
   ]
  },
  {
   "cell_type": "markdown",
   "metadata": {},
   "source": [
    "## get back the cellosaurus_id"
   ]
  },
  {
   "cell_type": "code",
   "execution_count": null,
   "metadata": {},
   "outputs": [],
   "source": [
    "df.to_csv('../data/fullccle.csv')"
   ]
  },
  {
   "cell_type": "code",
   "execution_count": null,
   "metadata": {},
   "outputs": [],
   "source": [
    "df = pd.read_csv('../data/fullccle.csv',index_col=0)\n",
    "df"
   ]
  },
  {
   "cell_type": "markdown",
   "metadata": {},
   "source": [
    "## get back the true age (or if ped or not)"
   ]
  },
  {
   "cell_type": "code",
   "execution_count": null,
   "metadata": {},
   "outputs": [],
   "source": [
    "# we have pediatric != age"
   ]
  },
  {
   "cell_type": "markdown",
   "metadata": {},
   "source": [
    "## get back from cellosaurus if same Cell Line"
   ]
  },
  {
   "cell_type": "code",
   "execution_count": null,
   "metadata": {},
   "outputs": [],
   "source": [
    "# some cell lines have diffferent arxpsan id and or stripped cell line name but are the same cell line"
   ]
  },
  {
   "cell_type": "code",
   "execution_count": null,
   "metadata": {},
   "outputs": [],
   "source": [
    "## reupdate the versions and make sure that annotations are the same (patient id, stripped name, gender, age, primary, disease, origin )"
   ]
  },
  {
   "cell_type": "markdown",
   "metadata": {},
   "source": [
    "## get back from celosaurus if same patient"
   ]
  },
  {
   "cell_type": "code",
   "execution_count": null,
   "metadata": {},
   "outputs": [],
   "source": [
    "# use known pairs file:\n",
    "kp = pd.read_csv('data/Known Pairs - Main.csv')"
   ]
  },
  {
   "cell_type": "code",
   "execution_count": null,
   "metadata": {},
   "outputs": [],
   "source": [
    "df[df.stripped_cell_line_name=='CMK86']"
   ]
  },
  {
   "cell_type": "code",
   "execution_count": null,
   "metadata": {},
   "outputs": [],
   "source": [
    "import ipdb"
   ]
  },
  {
   "cell_type": "code",
   "execution_count": null,
   "metadata": {},
   "outputs": [],
   "source": [
    "used= set()\n",
    "for i,val in kp.iterrows():\n",
    "    if val['Known Pairs'] is not np.nan:\n",
    "        p = df[df.stripped_cell_line_name==val['Stripped Cell Line Name']].patient_id\n",
    "        if len(p)==0:\n",
    "            # we don't have this cell line\n",
    "            print(\"we don't have this cl: \"+ val['Stripped Cell Line Name'])\n",
    "            continue\n",
    "        else:\n",
    "            p = p.values[0]\n",
    "        for v in val['Known Pairs'].split(';'):\n",
    "            v = v.replace(' ','').replace('*','')\n",
    "            # if we don't have this cell line\n",
    "            if len(v)<2 or v not in df.stripped_cell_line_name:\n",
    "                continue\n",
    "            if v in used:\n",
    "                if val['Stripped Cell Line Name'] not in used:\n",
    "                    #print(i, v,val['Stripped Cell Line Name'])\n",
    "                    loc = df[df.stripped_cell_line_name==val['Stripped Cell Line Name']].index\n",
    "                    p2=df[df.stripped_cell_line_name==v].patient_id\n",
    "                    if len(p2)==0:\n",
    "                        print(\"was empty\")\n",
    "                        continue\n",
    "                    else:\n",
    "                        p2 = p2.values[0]\n",
    "                    df.loc[loc,'patient_id']= p2\n",
    "                    continue\n",
    "                else:\n",
    "                    continue\n",
    "            used.add(v)\n",
    "            loc = df[df.stripped_cell_line_name==v].index\n",
    "            df.loc[loc,'patient_id']=p\n",
    "        used.add(val['Stripped Cell Line Name'])"
   ]
  },
  {
   "cell_type": "code",
   "execution_count": null,
   "metadata": {},
   "outputs": [],
   "source": [
    "set(df[df.patient_id.isna()].stripped_cell_line_name) &set(kp['Stripped Cell Line Name'])"
   ]
  },
  {
   "cell_type": "code",
   "execution_count": null,
   "metadata": {},
   "outputs": [],
   "source": [
    "df[df.stripped_cell_line_name.isin([\"RPE1SS77\",\"RPE1\", \"RPE1SS48\", \"RPE1SS6\"])].patient_id"
   ]
  },
  {
   "cell_type": "code",
   "execution_count": null,
   "metadata": {},
   "outputs": [],
   "source": [
    "kp.loc[10:]"
   ]
  },
  {
   "cell_type": "code",
   "execution_count": null,
   "metadata": {},
   "outputs": [],
   "source": [
    "df.to_csv('../data/fullccle_matchedpatients.csv')"
   ]
  },
  {
   "cell_type": "code",
   "execution_count": null,
   "metadata": {},
   "outputs": [],
   "source": [
    "# some cell lines have diffferent patient id but are actually from the same patient (~50)"
   ]
  },
  {
   "cell_type": "code",
   "execution_count": null,
   "metadata": {},
   "outputs": [],
   "source": [
    "# and make sure that annotations are the same (patient id, gender, age, primary, disease..)"
   ]
  },
  {
   "cell_type": "markdown",
   "metadata": {},
   "source": [
    "# Update Terra TSVs"
   ]
  },
  {
   "cell_type": "code",
   "execution_count": null,
   "metadata": {},
   "outputs": [],
   "source": [
    "dfe[dfe.arxspan_id=='ACH-001092'].internal_bam_filepath"
   ]
  },
  {
   "cell_type": "code",
   "execution_count": null,
   "metadata": {},
   "outputs": [],
   "source": [
    "set(dfe[dfe.gender.isna()].arxspan_id)"
   ]
  },
  {
   "cell_type": "code",
   "execution_count": null,
   "metadata": {},
   "outputs": [],
   "source": [
    "dfe[dfe.datatype=='rna'][dfe.arxspan_id.isin(rnasam.participant)][dfe.version==1]"
   ]
  },
  {
   "cell_type": "code",
   "execution_count": null,
   "metadata": {},
   "outputs": [],
   "source": [
    "df = pd.read_csv('../data/fullccle_matchedpatients.csv')"
   ]
  },
  {
   "cell_type": "code",
   "execution_count": null,
   "metadata": {},
   "outputs": [],
   "source": [
    "rnawm = dm.WorkspaceManager('broad-firecloud-ccle/DepMap_hg38_RNAseq')\n",
    "rnasam = rnawm.get_samples()\n",
    "\n",
    "cnwm = dm.WorkspaceManager('broad-firecloud-ccle/DepMap_WES_CN_hg38')\n",
    "cnsam = cnwm.get_samples()\n",
    "\n",
    "mutwm= dm.WorkspaceManager('broad-firecloud-ccle/DepMap_Mutation_Calling_CGA_pipeline')\n",
    "mutsam = mutwm.get_samples()"
   ]
  },
  {
   "cell_type": "markdown",
   "metadata": {},
   "source": [
    "## get sm ids for all and change the ach ID for sm ID"
   ]
  },
  {
   "cell_type": "code",
   "execution_count": null,
   "metadata": {},
   "outputs": [],
   "source": [
    "notinmyset = set([str(i).replace('/ccle_bams','/cclebams') for i in mutsam.WES_bam ]) -set(df.internal_bam_filepath)"
   ]
  },
  {
   "cell_type": "code",
   "execution_count": null,
   "metadata": {},
   "outputs": [],
   "source": [
    "a = list(notinmyset)\n",
    "a.remove('nan')"
   ]
  },
  {
   "cell_type": "code",
   "execution_count": null,
   "metadata": {},
   "outputs": [],
   "source": [
    "gcp.lsFiles(a)"
   ]
  },
  {
   "cell_type": "code",
   "execution_count": null,
   "metadata": {},
   "outputs": [],
   "source": [
    "newmutsam = pd.DataFrame(columns=mutsam.columns)"
   ]
  },
  {
   "cell_type": "code",
   "execution_count": null,
   "metadata": {},
   "outputs": [],
   "source": [
    "df.columns.tolist()"
   ]
  },
  {
   "cell_type": "code",
   "execution_count": null,
   "metadata": {},
   "outputs": [],
   "source": [
    "val.internal_bam_filepath.replace('cclebams','ccle_bams')"
   ]
  },
  {
   "cell_type": "code",
   "execution_count": null,
   "metadata": {},
   "outputs": [],
   "source": [
    "mutsam.WES_bam"
   ]
  },
  {
   "cell_type": "code",
   "execution_count": null,
   "metadata": {},
   "outputs": [],
   "source": [
    "baits = []\n",
    "for i, val in df.iterrows():\n",
    "    if val.datatype=='wes':\n",
    "        if val.internal_bam_filepath.replace('cclebams','ccle_bams') in mutsam.WES_bam.tolist():\n",
    "            print('i')\n",
    "            baits.append( mutsam[ mutsam.WES_bam == val.internal_bam_filepath.replace('cclebams', 'ccle_bams')].target_type[0])\n",
    "        else:\n",
    "            baits.append('unknown')\n",
    "    elif val.datatype=='rna':\n",
    "        baits.append('polyA')\n",
    "    else:\n",
    "        baits.append(None)"
   ]
  },
  {
   "cell_type": "code",
   "execution_count": null,
   "metadata": {},
   "outputs": [],
   "source": [
    "set(baits)"
   ]
  },
  {
   "cell_type": "code",
   "execution_count": null,
   "metadata": {},
   "outputs": [],
   "source": [
    "baits.count('unknown')"
   ]
  },
  {
   "cell_type": "code",
   "execution_count": null,
   "metadata": {},
   "outputs": [],
   "source": [
    "baits = [i if i not in ['NA', None] else np.nan for i in baits]"
   ]
  },
  {
   "cell_type": "code",
   "execution_count": null,
   "metadata": {},
   "outputs": [],
   "source": [
    "df.baits=baits"
   ]
  },
  {
   "cell_type": "code",
   "execution_count": null,
   "metadata": {},
   "outputs": [],
   "source": [
    "for i, v in df[df.baits=='unknown'].iterrows():\n",
    "    if v.sequencing_date=='U':\n",
    "        continue\n",
    "    if int(v.sequencing_date.split('/')[-1]) <2016:\n",
    "        df.loc[i,'baits']='AGILENT'\n",
    "    elif int(v.sequencing_date.split('/')[-1]) >2017:\n",
    "        df.loc[i,'baits']=='ICE'\n",
    "    else:\n",
    "        print(v)"
   ]
  },
  {
   "cell_type": "code",
   "execution_count": null,
   "metadata": {},
   "outputs": [],
   "source": [
    "df.loc[5132,'baits'] = 'ICE'"
   ]
  },
  {
   "cell_type": "code",
   "execution_count": null,
   "metadata": {},
   "outputs": [],
   "source": [
    "df.loc[df[df.baits=='unknown'].index,'baits']='ICE'"
   ]
  },
  {
   "cell_type": "code",
   "execution_count": null,
   "metadata": {},
   "outputs": [],
   "source": [
    "df.sequencing_date = [i.replace('/0/','/1/') for i in df.sequencing_date]"
   ]
  },
  {
   "cell_type": "code",
   "execution_count": null,
   "metadata": {},
   "outputs": [],
   "source": [
    "#because sanger is agilent and it is all sanger\n",
    "df.loc[df[df.baits=='unknown'][df.sequencing_date=='U'].index,'baits']='AGILENT'"
   ]
  },
  {
   "cell_type": "code",
   "execution_count": null,
   "metadata": {},
   "outputs": [],
   "source": [
    "df[df.datatype=='wes'][df.baits.isna()]"
   ]
  },
  {
   "cell_type": "code",
   "execution_count": null,
   "metadata": {},
   "outputs": [],
   "source": [
    "df[df.stripped_cell_line_name=='HA7EBV']"
   ]
  },
  {
   "cell_type": "code",
   "execution_count": null,
   "metadata": {},
   "outputs": [],
   "source": [
    "df[df.internal_bai_filepath.str.contains('NORMAL')]"
   ]
  },
  {
   "cell_type": "code",
   "execution_count": null,
   "metadata": {},
   "outputs": [],
   "source": [
    "df.to_csv('../data/fullccle_matchedpatients.csv')"
   ]
  },
  {
   "cell_type": "code",
   "execution_count": null,
   "metadata": {},
   "outputs": [],
   "source": [
    "df = pd.read_csv('../data/fullccle_matchedpatients.csv').set_index('cds_id', drop=True)"
   ]
  },
  {
   "cell_type": "code",
   "execution_count": null,
   "metadata": {},
   "outputs": [],
   "source": [
    "rnas = df[df.datatype=='rna'].drop(columns=['bam_qc', 'processing_qc', 'crc32c_hash', '18q1','18q2', '18q3', '18q4', '19q1', '19q2', '19q3', '19q4', '20q1', '20q2','cellosaurus_id','ccle_name','comments']).rename(columns={'cds_id':'sample_id','patient_id':'participant_id'})"
   ]
  },
  {
   "cell_type": "code",
   "execution_count": null,
   "metadata": {},
   "outputs": [],
   "source": [
    "rnas.index.name='sample_id'"
   ]
  },
  {
   "cell_type": "code",
   "execution_count": null,
   "metadata": {},
   "outputs": [],
   "source": [
    "rnawm.disable_hound().upload_samples(rnas)"
   ]
  },
  {
   "cell_type": "markdown",
   "metadata": {},
   "source": [
    "## make normal pairs and upload to Terra"
   ]
  },
  {
   "cell_type": "code",
   "execution_count": null,
   "metadata": {},
   "outputs": [],
   "source": [
    "df[df.cellosaurus_id.isna() | df.gender.isna() | df.age.isna()].sort_values(by='stripped_cell_line_name').to_csv('../tofind.csv')"
   ]
  },
  {
   "cell_type": "code",
   "execution_count": null,
   "metadata": {},
   "outputs": [],
   "source": [
    "for i in set(df[df.gender.isna()].patient_id):\n",
    "    res = df[(df.patient_id==i) & (~df.gender.isna())]\n",
    "    if len(res) > 0:\n",
    "        print(res.gender[0])\n",
    "        df.loc[df[df.patient_id==i].index,'gender']=res.gender[0]\n",
    "for i in set(df[df.age.isna()].patient_id):\n",
    "    res = df[(df.patient_id==i) & (~df.age.isna())]\n",
    "    if len(res) > 0:\n",
    "        print(res.age[0])\n",
    "        df.loc[df[df.patient_id==i].index,'age']=res.age[0]\n",
    "for i in set(df[df.primary_disease.isna()].patient_id):\n",
    "    res = df[(df.patient_id==i) & (~df.primary_disease.isna())]\n",
    "    if len(res) > 0:\n",
    "        if res.primary_disease[0]!='normal':\n",
    "            print(res.primary_disease[0])\n",
    "            df.loc[df[df.patient_id==i].index,'primary_disease']=res.primary_disease[0]\n",
    "for i in set(df[df.origin.isna()].patient_id):\n",
    "    res = df[(df.patient_id==i) & (~df.origin.isna())]\n",
    "    if len(res) > 0:\n",
    "        print(res.origin[0])\n",
    "        df.loc[df[df.patient_id==i].index,'origin']=res.origin[0]\n",
    "for i in set(df[df.subtype.isna()].patient_id):\n",
    "    res = df[(df.patient_id==i) & (~df.subtype.isna())]\n",
    "    if len(res) > 0:\n",
    "        if res.subtype[0]!='normal':\n",
    "            print(res.subtype[0])\n",
    "            df.loc[df[df.patient_id==i].index,'subtype']=res.subtype[0]"
   ]
  },
  {
   "cell_type": "code",
   "execution_count": null,
   "metadata": {},
   "outputs": [],
   "source": [
    "a = h.fileToList('data/cellosaurus.txt')"
   ]
  },
  {
   "cell_type": "code",
   "execution_count": null,
   "metadata": {},
   "outputs": [],
   "source": [
    "AG= {}\n",
    "HI = {}\n",
    "SX = {}\n",
    "CVCL = {}\n",
    "NAME = {}\n",
    "ID=''\n",
    "for val in a[10:]:\n",
    "    if val[:2]=='AC':\n",
    "        ID = val.split('   ')[1]\n",
    "        CVCL[ID]=name\n",
    "        NAME[name]=ID\n",
    "    if val=='//':\n",
    "        ID= ''\n",
    "    if val[:2]=='AG' and ID:\n",
    "        ag=val.split('   ')[1]\n",
    "        ag = '1' if ag=='Yearling' else ag\n",
    "        ag = ag.split('Y')[0].split('>')[-1].split('-')[0]\n",
    "        ag = 'U' if ag == 'Age unspecified' else ag\n",
    "        ag = 'A' if ag ==  'Adult' else ag\n",
    "        ag = '0' if ag[-1] in ['M','W','D'] else ag\n",
    "        ag = 'F' if ag=='Fetus' else ag\n",
    "        af = 'P' if ag=='Children' else ag\n",
    "        ag = 'E' if ag in ['Embryo','Embryonic stage','Late embryonic stage','Larva'] else ag\n",
    "        ag = 'B' if ag == 'Blastocyst stage' else ag\n",
    "        AG[ID] = ag\n",
    "    if val[:2]=='SX' and ID:\n",
    "        sx=val.split('   ')[1]\n",
    "        SX[ID] = 'U' if sx==\"Sex unspecified\" else sx\n",
    "    if val[:2]=='HI' and ID:\n",
    "        if ID in HI:\n",
    "            HI[ID].append(val.split('   ')[1].split(' ! ')[0])\n",
    "        else:\n",
    "            HI[ID] = [val.split('   ')[1].split(' ! ')[0]]\n",
    "    if val[:2]=='ID':\n",
    "        name = val.split('   ')[1]"
   ]
  },
  {
   "cell_type": "code",
   "execution_count": null,
   "metadata": {},
   "outputs": [],
   "source": [
    "AG"
   ]
  },
  {
   "cell_type": "code",
   "execution_count": null,
   "metadata": {},
   "outputs": [],
   "source": [
    "for i,v in df[df.cellosaurus_id.isna()].iterrows():\n",
    "    if v.stripped_cell_line_name in NAME:\n",
    "        df.loc[i,'cellosaurus_id'] = NAME[v.stripped_cell_line_name]\n",
    "    else:\n",
    "        df.loc[i,'cellosaurus_id']='U'"
   ]
  },
  {
   "cell_type": "code",
   "execution_count": null,
   "metadata": {},
   "outputs": [],
   "source": [
    "for i,v in df[df.age.isna()| (df.age=='U')].iterrows():\n",
    "    if v.cellosaurus_id in AG:\n",
    "        #print(AG[v.cellosaurus_id])\n",
    "        df.loc[i,'age'] = AG[v.cellosaurus_id]\n",
    "    else:\n",
    "        df.loc[i,'age'] = 'U'"
   ]
  },
  {
   "cell_type": "code",
   "execution_count": null,
   "metadata": {},
   "outputs": [],
   "source": [
    "df.gender"
   ]
  },
  {
   "cell_type": "code",
   "execution_count": null,
   "metadata": {},
   "outputs": [],
   "source": [
    "for i,v in df[df.gender.isna()| (df.gender=='U')].iterrows():\n",
    "    if v.cellosaurus_id in SX:\n",
    "        print(SX[v.cellosaurus_id])\n",
    "        df.loc[i,'gender'] = SX[v.cellosaurus_id]\n",
    "    else:\n",
    "        df.loc[i,'gender'] = 'U'"
   ]
  },
  {
   "cell_type": "code",
   "execution_count": null,
   "metadata": {},
   "outputs": [],
   "source": [
    "for i in HI.values():\n",
    "    if len(i) >2:\n",
    "        print(i)"
   ]
  },
  {
   "cell_type": "code",
   "execution_count": null,
   "metadata": {},
   "outputs": [],
   "source": [
    "cello = set(df.cellosaurus_id)\n",
    "for v in cello:\n",
    "    if v in HI:\n",
    "        ind_father = df[df.cellosaurus_id.isin(HI[v])].patient_id.tolist()\n",
    "        if len(ind_father)==0:\n",
    "            continue\n",
    "        ind_child= df[df.cellosaurus_id==v].patient_id[0]\n",
    "        ind_father.append(ind_child)\n",
    "        #print(ind_father)\n",
    "        if len(set(ind_father))<2:\n",
    "            continue\n",
    "        print(ind_father)\n",
    "        df.loc[df[df.patient_id.isin([ind_father,ind_child])].index,'patient_id']=ind_father[0]\n",
    "                "
   ]
  },
  {
   "cell_type": "code",
   "execution_count": null,
   "metadata": {},
   "outputs": [],
   "source": [
    "df[df.gender.isna()]"
   ]
  },
  {
   "cell_type": "code",
   "execution_count": null,
   "metadata": {},
   "outputs": [],
   "source": [
    "df.to_csv('../data/fullccle_matchedpatients.csv')"
   ]
  },
  {
   "cell_type": "code",
   "execution_count": null,
   "metadata": {},
   "outputs": [],
   "source": [
    "df = pd.read_csv('../data/fullccle_matchedpatients.csv').set_index('cds_id', drop=True)"
   ]
  },
  {
   "cell_type": "code",
   "execution_count": null,
   "metadata": {},
   "outputs": [],
   "source": [
    "muts = df[df.datatype=='wes'].drop(columns=['bam_qc', 'processing_qc', 'crc32c_hash', '18q1','18q2', '18q3', '18q4', '19q1', '19q2', '19q3', '19q4', '20q1', '20q2','cellosaurus_id','ccle_name','comments'])"
   ]
  },
  {
   "cell_type": "markdown",
   "metadata": {},
   "source": [
    "### add the WGS files to WES pipeline"
   ]
  },
  {
   "cell_type": "code",
   "execution_count": null,
   "metadata": {},
   "outputs": [],
   "source": [
    "lineswithonlyWGS= {'ACH-000014',\n",
    "'ACH-000164',\n",
    "'ACH-000454',\n",
    "'ACH-000550',\n",
    "'ACH-000632',\n",
    "'ACH-000739',\n",
    "'ACH-000928',\n",
    "'ACH-001239'}"
   ]
  },
  {
   "cell_type": "code",
   "execution_count": null,
   "metadata": {},
   "outputs": [],
   "source": [
    "muts = muts.append(df[df.datatype=='wgs'][df.arxspan_id.isin(lineswithonlyWGS)].drop(columns=['bam_qc', 'processing_qc', 'crc32c_hash', '18q1','18q2', '18q3', '18q4', '19q1', '19q2', '19q3', '19q4', '20q1', '20q2','cellosaurus_id','ccle_name','comments']))"
   ]
  },
  {
   "cell_type": "code",
   "execution_count": null,
   "metadata": {},
   "outputs": [],
   "source": [
    "muts.index.name='sample_id'"
   ]
  },
  {
   "cell_type": "code",
   "execution_count": null,
   "metadata": {},
   "outputs": [],
   "source": [
    "muts = muts.rename(columns={'patient_id':'participant_id'})"
   ]
  },
  {
   "cell_type": "code",
   "execution_count": null,
   "metadata": {},
   "outputs": [],
   "source": [
    "mutwm = mutwm.disable_hound()"
   ]
  },
  {
   "cell_type": "code",
   "execution_count": null,
   "metadata": {},
   "outputs": [],
   "source": [
    "mutwm.upload_samples(muts)"
   ]
  },
  {
   "cell_type": "code",
   "execution_count": null,
   "metadata": {},
   "outputs": [],
   "source": [
    "cnwm.disable_hound().upload_samples(muts)"
   ]
  },
  {
   "cell_type": "code",
   "execution_count": null,
   "metadata": {},
   "outputs": [],
   "source": [
    "nan = pd.DataFrame(columns=muts.columns, index=['nan'],data=[[None]*len(muts.columns)])\n",
    "nan.index.name='sample_id'\n",
    "nan.participant_id = ['nan']"
   ]
  },
  {
   "cell_type": "code",
   "execution_count": null,
   "metadata": {},
   "outputs": [],
   "source": [
    "cnwm.disable_hound().upload_samples(nan)"
   ]
  },
  {
   "cell_type": "code",
   "execution_count": null,
   "metadata": {},
   "outputs": [],
   "source": [
    "mutwm.disable_hound().upload_samples(nan)"
   ]
  },
  {
   "cell_type": "code",
   "execution_count": null,
   "metadata": {},
   "outputs": [],
   "source": [
    "pairs = {}\n",
    "for i,val in muts.iterrows():\n",
    "    pairs[str(i)+'_'+str(val.matched_normal)] = [str(i),str(val.matched_normal),val.participant_id]"
   ]
  },
  {
   "cell_type": "code",
   "execution_count": null,
   "metadata": {},
   "outputs": [],
   "source": [
    "pairs = pd.DataFrame.from_dict(pairs, orient='index',columns=['case_sample','control_sample','participant'])"
   ]
  },
  {
   "cell_type": "code",
   "execution_count": null,
   "metadata": {},
   "outputs": [],
   "source": [
    "pairs.index.name = 'pair_id'"
   ]
  },
  {
   "cell_type": "code",
   "execution_count": null,
   "metadata": {},
   "outputs": [],
   "source": [
    "pairs"
   ]
  },
  {
   "cell_type": "code",
   "execution_count": null,
   "metadata": {},
   "outputs": [],
   "source": [
    "mutwm.upload_entities('pairs',pairs)"
   ]
  },
  {
   "cell_type": "code",
   "execution_count": null,
   "metadata": {},
   "outputs": [],
   "source": [
    "cnwm.disable_hound().upload_entities('pairs',pairs)"
   ]
  },
  {
   "cell_type": "markdown",
   "metadata": {},
   "source": [
    "# solve some RNAseq files we are not taking from external workspaces"
   ]
  }
 ],
 "metadata": {
  "gist": {
   "data": {
    "description": "ccle_processing/ccle_tasks/CCLE data cleaning/ccle_versions.ipynb",
    "public": false
   },
   "id": ""
  },
  "kernelspec": {
   "display_name": "py37",
   "language": "python",
   "name": "py37"
  },
  "language_info": {
   "codemirror_mode": {
    "name": "ipython",
    "version": 3
   },
   "file_extension": ".py",
   "mimetype": "text/x-python",
   "name": "python",
   "nbconvert_exporter": "python",
   "pygments_lexer": "ipython3",
   "version": "3.7.6"
  },
  "latex_envs": {
   "LaTeX_envs_menu_present": true,
   "autoclose": false,
   "autocomplete": true,
   "bibliofile": "biblio.bib",
   "cite_by": "apalike",
   "current_citInitial": 1,
   "eqLabelWithNumbers": true,
   "eqNumInitial": 1,
   "hotkeys": {
    "equation": "Ctrl-E",
    "itemize": "Ctrl-I"
   },
   "labels_anchors": false,
   "latex_user_defs": false,
   "report_style_numbering": false,
   "user_envs_cfg": false
  },
  "toc": {
   "base_numbering": 1,
   "nav_menu": {},
   "number_sections": false,
   "sideBar": true,
   "skip_h1_title": false,
   "title_cell": "Table of Contents",
   "title_sidebar": "Contents",
   "toc_cell": false,
   "toc_position": {
    "height": "576.8px",
    "left": "10px",
    "top": "150px",
    "width": "227.625px"
   },
   "toc_section_display": true,
   "toc_window_display": false
  },
  "varInspector": {
   "cols": {
    "lenName": 16,
    "lenType": 16,
    "lenVar": 40
   },
   "kernels_config": {
    "python": {
     "delete_cmd_postfix": "",
     "delete_cmd_prefix": "del ",
     "library": "var_list.py",
     "varRefreshCmd": "print(var_dic_list())"
    },
    "r": {
     "delete_cmd_postfix": ") ",
     "delete_cmd_prefix": "rm(",
     "library": "var_list.r",
     "varRefreshCmd": "cat(var_dic_list()) "
    }
   },
   "types_to_exclude": [
    "module",
    "function",
    "builtin_function_or_method",
    "instance",
    "_Feature"
   ],
   "window_display": false
  }
 },
 "nbformat": 4,
 "nbformat_minor": 2
}
