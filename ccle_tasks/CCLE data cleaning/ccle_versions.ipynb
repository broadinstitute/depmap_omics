{
 "cells": [
  {
   "cell_type": "code",
   "execution_count": null,
   "metadata": {},
   "outputs": [],
   "source": [
    "import os\n",
    "import pandas as pd\n",
    "import numpy as np\n",
    "import dalmatian as dm\n",
    "import signal\n",
    "import sys\n",
    "sys.path.append('../../..')\n",
    "from JKBio import GCPFunction as gcp\n",
    "from JKBio import Helper as h\n",
    "import re\n",
    "from gsheets import Sheets\n",
    "sheets = Sheets.from_files('~/.client_secrets.json', '~/.storage.json')"
   ]
  },
  {
   "cell_type": "code",
   "execution_count": null,
   "metadata": {},
   "outputs": [],
   "source": [
    "folder = 'gs://ccle_bams/'"
   ]
  },
  {
   "cell_type": "code",
   "execution_count": null,
   "metadata": {},
   "outputs": [],
   "source": [
    "samples = os.popen('gsutil -m ls -al '+folder +'**.bam').read().split('\\n')"
   ]
  },
  {
   "cell_type": "code",
   "execution_count": null,
   "metadata": {},
   "outputs": [],
   "source": [
    "sizes = {'gs://' + val.split('gs://')[1].split('#')[0]: int(val.split(\" 2019-\")[0] if \"2019-\" in val else val.split(\" 2020-\")[0]) for val in samples[:-2]}"
   ]
  },
  {
   "cell_type": "code",
   "execution_count": null,
   "metadata": {},
   "outputs": [],
   "source": [
    "sizes"
   ]
  },
  {
   "cell_type": "markdown",
   "metadata": {},
   "source": [
    "## managing duplicates"
   ]
  },
  {
   "cell_type": "code",
   "execution_count": null,
   "metadata": {},
   "outputs": [],
   "source": [
    "names = {}\n",
    "count = 0\n",
    "dup= []\n",
    "for k, val in sizes.items():\n",
    "    if val in names:\n",
    "        dup.append((k, names[val]))\n",
    "        count+=1\n",
    "    names[val] = k"
   ]
  },
  {
   "cell_type": "code",
   "execution_count": null,
   "metadata": {},
   "outputs": [],
   "source": [
    "dup"
   ]
  },
  {
   "cell_type": "code",
   "execution_count": null,
   "metadata": {},
   "outputs": [],
   "source": [
    "count"
   ]
  },
  {
   "cell_type": "code",
   "execution_count": null,
   "metadata": {},
   "outputs": [],
   "source": [
    "rna = dm.WorkspaceManager('broad-firecloud-ccle/DepMap_hg38_RNAseq').get_samples().RNAseq_bam"
   ]
  },
  {
   "cell_type": "code",
   "execution_count": null,
   "metadata": {},
   "outputs": [],
   "source": [
    "keeprem = {} \n",
    "for i,j in dup:\n",
    "    if ('rna' in i and 'wes' in j) or ('rna' in j and 'wes' in i):\n",
    "        print('RNA/WES MISLABELLING')\n",
    "        print(i,j)\n",
    "    else:\n",
    "        if '/v' in i:\n",
    "            keeprem[j]=i\n",
    "            if '/v' in j:\n",
    "                print(i, j)\n",
    "        elif '/v' in j:\n",
    "            keeprem[i]=j\n",
    "        else:\n",
    "            print('NONE:')\n",
    "            print(i,j)"
   ]
  },
  {
   "cell_type": "code",
   "execution_count": null,
   "metadata": {},
   "outputs": [],
   "source": [
    "keeprem.update({\n",
    "\"gs://ccle_bams/rna/PA1.bam\": \"gs://ccle_bams/rna/G141708/PA1/current/PA1.bam\",\n",
    "\"gs://ccle_bams/rna/RP-1561/Exome/NOZ/current/NOZ.bam\": \"gs://ccle_bams/rna/G144965/NOZ/current/NOZ.bam\",\n",
    "\"gs://ccle_bams/rna/v2.0/ICC7.bam\": \"gs://ccle_bams/rna/v2/ICC7.bam\",\n",
    "\"gs://ccle_bams/wes/ccle.wes.gdc/C836.CCF-STTG1.2.bam\": \"gs://ccle_bams/wes/C836.CCF-STTG1.2.bam\",\n",
    "})"
   ]
  },
  {
   "cell_type": "markdown",
   "metadata": {},
   "source": [
    "## managing the different versions"
   ]
  },
  {
   "cell_type": "markdown",
   "metadata": {},
   "source": [
    "### first move and check the RNA vs WES files, then use this function to find back some versions, use the depmap pv omics to match back the names to ACH ids using strip_cell_name and Data_links columns "
   ]
  },
  {
   "cell_type": "code",
   "execution_count": null,
   "metadata": {},
   "outputs": [],
   "source": [
    "newnames"
   ]
  },
  {
   "cell_type": "code",
   "execution_count": null,
   "metadata": {},
   "outputs": [],
   "source": [
    "versions = {}\n",
    "vs = {str(i):[] for i in range(10)}\n",
    "vUnknowns = []\n",
    "newnames = {}\n",
    "minlen=3\n",
    "for val in sizes.keys():\n",
    "    if 'v1' in val:\n",
    "        versions[val] = '1'\n",
    "        vs['1'].append(val)\n",
    "    elif 'v2' in val:\n",
    "        versions[val] = '2'\n",
    "        vs['2'].append(val)\n",
    "    elif 'v3' in val:\n",
    "        versions[val] = '3'\n",
    "        vs['3'].append(val)\n",
    "    elif 'v4' in val:\n",
    "        versions[val] = '4'\n",
    "        vs['4'].append(val)\n",
    "    elif 'v5' in val:\n",
    "        versions[val] = '5'\n",
    "        vs['5'].append(val)\n",
    "    elif 'v6' in val:\n",
    "        versions[val] = '6'\n",
    "        vs['6'].append(val)\n",
    "    elif 'v7' in val:\n",
    "        versions[val] = '7'\n",
    "        vs['7'].append(val)\n",
    "    elif 'v8' in val:\n",
    "        versions[val] = '8'\n",
    "        vs['8'].append(val)\n",
    "    elif 'v9' in val:\n",
    "        versions[val] = '9'\n",
    "        vs['9'].append(val)\n",
    "    else:\n",
    "        versions[val] = 'U'\n",
    "    sval = val.split('/')[-1]\n",
    "    cdot = sval.count('.')\n",
    "    if cdot > 1:\n",
    "        if cdot==2:\n",
    "            if '.hg38.' in sval:\n",
    "                continue\n",
    "            if '.T.' in sval or '.fixed' in sval:\n",
    "                nam = sval.split('.')[0]\n",
    "                if len(nam) < minlen:\n",
    "                    print(val)\n",
    "                    continue\n",
    "                newnames[val]=nam\n",
    "                continue\n",
    "            print(val)\n",
    "            continue\n",
    "        nam = sval.split('.')[:-1]\n",
    "        if len(nam) < minlen:\n",
    "            print(val)\n",
    "            continue\n",
    "        for i in range(10,-1):\n",
    "            if str(i) in nam:\n",
    "                if val in versions:\n",
    "                    if versions[val] != 'U' and str(i)!=versions[val]:\n",
    "                        raise ValueError(\"error mismatch version: \"+versions[val]+\" and \"+str(i)+ \" in \"+val)\n",
    "                versions[val] = str(i)\n",
    "                vs[str(i)].append(val)\n",
    "        if len(nam[1]) < minlen:\n",
    "            print(val)\n",
    "            continue\n",
    "        newnames[val] = nam[1]\n",
    "    else:\n",
    "        nam = sval.split('.')[0]\n",
    "        if len(nam) < minlen:\n",
    "            print(val)\n",
    "            continue\n",
    "        newnames[val] = sval.split('.')[0]"
   ]
  },
  {
   "cell_type": "markdown",
   "metadata": {},
   "source": [
    "# retrieving some versions using duplicates"
   ]
  },
  {
   "cell_type": "code",
   "execution_count": null,
   "metadata": {},
   "outputs": [],
   "source": [
    "versions.update({\"gs://ccle_bams/rna/G106825/F5/current/F5.bam\":\"U\",\n",
    "\"gs://ccle_bams/rna/G20488.DB.2.bam\":\"2\",\n",
    "\"gs://ccle_bams/rna/G26230.L3.3.2.bam\":\"2\",\n",
    "\"gs://ccle_bams/rna/G27208.SU.86.86.1.bam\":\"1\",\n",
    "\"gs://ccle_bams/rna/G27326.EN.1.bam\":\"1\",\n",
    "\"gs://ccle_bams/rna/G27337.H4.1.bam\":\"1\",\n",
    "\"gs://ccle_bams/rna/G27535.RD.2.bam\":\"2\",\n",
    "\"gs://ccle_bams/rna/G28599.MJ.1.bam\":\"1\",\n",
    "\"gs://ccle_bams/rna/G28835.HT.3.bam\":\"3\",\n",
    "\"gs://ccle_bams/rna/G28857.HuH28.bam\":\"U\",\n",
    "\"gs://ccle_bams/rna/G28867.HH.3.bam\":\"3\",\n",
    "\"gs://ccle_bams/rna/G30571.TT.1.bam\":\"1\",\n",
    "\"gs://ccle_bams/rna/G35069.SNU-46.bam\":\"U\",\n",
    "\"gs://ccle_bams/rna/G35078.HDLM-2.bam\":\"U\",\n",
    "\"gs://ccle_bams/rna/G41675.RL.5.bam\":\"5\",\n",
    "\"gs://ccle_bams/rna/G41736.T.T.5.bam\":\"5\",\n",
    "\"gs://ccle_bams/rna/G41754.LN-215.bam\":\"U\",\n",
    "\"gs://ccle_bams/rna/G41756.LN-428.bam\":\"U\",\n",
    "\"gs://ccle_bams/rna/G41770.SLR25.bam\":\"U\",\n",
    "\"gs://ccle_bams/rna/G41771.LN-319.bam\":\"U\",\n",
    "\"gs://ccle_bams/rna/G41774.HCC827_GR5.bam\":\"U\",\n",
    "\"gs://ccle_bams/rna/G41778.SLR20.bam\":\"U\",\n",
    "\"gs://ccle_bams/rna/G41787.HEK_TE.bam\":\"U\",\n",
    "\"gs://ccle_bams/rna/G41791.SiHa.bam\":\"U\",\n",
    "\"gs://ccle_bams/rna/G41793.KMS-18-2.bam\":\"U\",\n",
    "\"gs://ccle_bams/rna/G41794.OPM-1-2.bam\":\"U\",\n",
    "\"gs://ccle_bams/rna/G41795.INA-6-2.bam\":\"U\",\n",
    "\"gs://ccle_bams/rna/G41796.HNT-34-2.bam\":\"U\",\n",
    "\"gs://ccle_bams/rna/G41797.PLB-985-2.bam\":\"U\",\n",
    "\"gs://ccle_bams/rna/G41798.OCI-MY5-2.bam\":\"U\",\n",
    "\"gs://ccle_bams/rna/G41800.OCI-MY7-2.bam\":\"U\",\n",
    "\"gs://ccle_bams/rna/G41801.Caco-2.bam\":\"U\",\n",
    "\"gs://ccle_bams/rna/G41804.NCI-H2004_RT_2.bam\":\"2\",\n",
    "\"gs://ccle_bams/rna/G41816.NCI-H2882.bam\":\"U\",\n",
    "\"gs://ccle_bams/rna/G41818.TTC-709.bam\":\"U\",\n",
    "\"gs://ccle_bams/rna/G41819.HCC2450.bam\":\"U\",\n",
    "\"gs://ccle_bams/rna/G77548.C8166.bam\":\"U\",\n",
    "\"gs://ccle_bams/rna/G77555.SK-NEP-1_01.bam\":\"1\",\n",
    "\"gs://ccle_bams/rna/G77557.KD_01.bam\":\"1\",\n",
    "\"gs://ccle_bams/rna/G88215/BI_2.03_T1/current/BI_2.03_T1.bam\":\"U\",\n",
    "\"gs://ccle_bams/rna/Getz_IBM_CellLines_RNASeqData_23samples_10312018/RP-1561/RNA/CI/v1/CI.bam\":\"U\",\n",
    "\"gs://ccle_bams/rna/Getz_IBM_CellLines_RNASeq_13samples_11282017/G20492/NA/HEL_92.1.7/v2/HEL_92.1.7.bam\":\"U\",\n",
    "\"gs://ccle_bams/rna/RP-1561/RNA/LS/current/LS.bam\":\"U\",\n",
    "\"gs://ccle_bams/wes/C836.DOV13.bam\":\"U\",\n",
    "\"gs://ccle_bams/wes/C836.HT.2.bam\":\"2\",\n",
    "\"gs://ccle_bams/wes/C836.K-562.bam\":'U',\n",
    "\"gs://ccle_bams/wes/C836.KMS-26.bam\":'U',\n",
    "\"gs://ccle_bams/wes/C836.L3.3.1.bam\":\"1\",\n",
    "\"gs://ccle_bams/wes/C836.MJ.2.bam\":\"2\",\n",
    "\"gs://ccle_bams/wes/C836.T.T.2.bam\":\"2\",\n",
    "\"gs://ccle_bams/wes/C836.T1-73.bam\":\"U\",\n",
    "\"gs://ccle_bams/wes/C836.TT.2.bam\":\"2\",\n",
    "\"gs://ccle_bams/wes/C836.T1-73.bam\":\"U\",\n",
    "\"gs://ccle_bams/wes/C836.TT.2.bam\":\"2\",\n",
    "\"gs://ccle_bams/wes/F5.bam\":\"U\",\n",
    "\"gs://ccle_bams/wes/G16365/HEL_92.1.7/v1/HEL_92.1.7.bam\":\"1\",\n",
    "\"gs://ccle_bams/wes/G16441/DB/v1/DB.bam\":\"1\",\n",
    "\"gs://ccle_bams/wes/G16640/DB/current/DB.bam\":\"U\",\n",
    "\"gs://ccle_bams/wes/G16640/HEL_92.1.7/current/HEL_92.1.7.bam\":\"U\",\n",
    "\"gs://ccle_bams/wes/G16640/HH/current/HH.bam\":\"U\",\n",
    "\"gs://ccle_bams/wes/G16640/HT/current/HT.bam\":\"U\",\n",
    "\"gs://ccle_bams/wes/G16640/Hep_3B2.1-7/current/Hep_3B2.1-7.bam\":\"U\",\n",
    "\"gs://ccle_bams/wes/G16640/L3.3/current/L3.3.bam\":\"U\",\n",
    "\"gs://ccle_bams/wes/G16640/MJ/current/MJ.bam\":\"U\",\n",
    "\"gs://ccle_bams/wes/G16640/Panc_02.13/current/Panc_02.13.bam\":\"U\",\n",
    "\"gs://ccle_bams/wes/G16640/Panc_03.27/current/Panc_03.27.bam\":\"U\",\n",
    "\"gs://ccle_bams/wes/G16640/Panc_04.03/current/Panc_04.03.bam\":\"U\",\n",
    "\"gs://ccle_bams/wes/G16640/Panc_05.04/current/Panc_05.04.bam\":\"U\",\n",
    "\"gs://ccle_bams/wes/G16640/Panc_08.13/current/Panc_08.13.bam\":\"U\",\n",
    "\"gs://ccle_bams/wes/G16640/RD/current/RD.bam\":\"U\",\n",
    "\"gs://ccle_bams/wes/G16640/RL/current/RL.bam\":\"U\",\n",
    "\"gs://ccle_bams/wes/G16640/SU.86.86/current/SU.86.86.bam\":\"U\",\n",
    "\"gs://ccle_bams/wes/G16640/T.T/current/T.T.bam\":\"U\",\n",
    "\"gs://ccle_bams/wes/G16640/TT/current/TT.bam\":\"U\",\n",
    "\"gs://ccle_bams/wes/G29750/DB/v1/DB.bam\":\"1\",\n",
    "\"gs://ccle_bams/wes/G29750/EN/v2/EN.bam\":\"2\",\n",
    "\"gs://ccle_bams/wes/G29750/H4/v2/H4.bam\":\"2\",\n",
    "\"gs://ccle_bams/wes/G29750/HEL_92.1.7/v2/HEL_92.1.7.bam\":\"2\",\n",
    "\"gs://ccle_bams/wes/G29750/HH/v2/HH.bam\":\"2\",\n",
    "\"gs://ccle_bams/wes/G29750/HT/v2/HT.bam\":\"2\",\n",
    "\"gs://ccle_bams/wes/G29750/Hep_3B2.1-7/v2/Hep_3B2.1-7.bam\":\"2\",\n",
    "\"gs://ccle_bams/wes/G29750/L3.3/v2/L3.3.bam\":\"2\",\n",
    "\"gs://ccle_bams/wes/G29750/MJ/v2/MJ.bam\":\"2\",\n",
    "\"gs://ccle_bams/wes/G29750/Panc_02.03/v2/Panc_02.03.bam\":\"2\",\n",
    "\"gs://ccle_bams/wes/G29750/Panc_02.13/v4/Panc_02.13.bam\":\"4\",\n",
    "\"gs://ccle_bams/wes/G29750/Panc_03.27/v2/Panc_03.27.bam\":\"2\",\n",
    "\"gs://ccle_bams/wes/G29750/Panc_04.03/v2/Panc_04.03.bam\":\"2\",\n",
    "\"gs://ccle_bams/wes/G29750/Panc_05.04/v2/Panc_05.04.bam\":\"2\",\n",
    "\"gs://ccle_bams/wes/G29750/Panc_08.13/v1/Panc_08.13.bam\":\"1\",\n",
    "\"gs://ccle_bams/wes/G29750/Panc_10.05/v2/Panc_10.05.bam\":\"2\",\n",
    "\"gs://ccle_bams/wes/G29750/RD/v2/RD.bam\":\"2\",\n",
    "\"gs://ccle_bams/wes/G29750/RL/v2/RL.bam\":\"2\",\n",
    "\"gs://ccle_bams/wes/G29750/SU.86.86/v2/SU.86.86.bam\":\"2\",\n",
    "\"gs://ccle_bams/wes/G29750/T.T/v1/T.T.bam\":\"1\",\n",
    "\"gs://ccle_bams/wes/G29750/TT/v4/TT.bam\":\"4\",\n",
    "\"gs://ccle_bams/wes/G32831/H4/v2/H4.bam\":\"2\",\n",
    "\"gs://ccle_bams/wes/G32831/HEL_92.1.7/v2/HEL_92.1.7.bam\":\"2\",\n",
    "\"gs://ccle_bams/wes/G32831/Panc_03.27/v2/Panc_03.27.bam\":\"2\",\n",
    "\"gs://ccle_bams/wes/G32831/Panc_10.05/v2/Panc_10.05.bam\":\"2\",\n",
    "\"gs://ccle_bams/wes/LS.bam\":\"U\",\n",
    "\"gs://ccle_bams/wes/RP-1211/Exome/KD/v1/KD.bam\":\"1\",\n",
    "\"gs://ccle_bams/wes/RP-1500/Exome/HEL_92.1.7/current/HEL_92.1.7.bam\":\"U\",\n",
    "\"gs://ccle_bams/wes/RP-1561/Exome/CI/current/CI.bam\":\"U\"})"
   ]
  },
  {
   "cell_type": "code",
   "execution_count": null,
   "metadata": {},
   "outputs": [],
   "source": [
    "newnames.update({\"gs://ccle_bams/rna/G106825/F5/current/F5.bam\":\"F5\",\n",
    "\"gs://ccle_bams/rna/G20488.DB.2.bam\":\"DB.2\",\n",
    "\"gs://ccle_bams/rna/G26230.L3.3.2.bam\":\"L3.3.2\",\n",
    "\"gs://ccle_bams/rna/G27208.SU.86.86.1.bam\":\"SU.86.86.1\",\n",
    "\"gs://ccle_bams/rna/G27326.EN.1.bam\":\"EN.1\",\n",
    "\"gs://ccle_bams/rna/G27337.H4.1.bam\":\"H4.1\",\n",
    "\"gs://ccle_bams/rna/G27535.RD.2.bam\":\"RD.2\",\n",
    "\"gs://ccle_bams/rna/G28599.MJ.1.bam\":\"MJ.1\",\n",
    "\"gs://ccle_bams/rna/G28835.HT.3.bam\":\"HT.3\",\n",
    "\"gs://ccle_bams/rna/G28857.HuH28.bam\":\"HuH28\",\n",
    "\"gs://ccle_bams/rna/G28867.HH.3.bam\":\"HH.3\",\n",
    "\"gs://ccle_bams/rna/G30571.TT.1.bam\":\"TT.1\",\n",
    "\"gs://ccle_bams/rna/G35069.SNU-46.bam\":\"SNU-46\",\n",
    "\"gs://ccle_bams/rna/G35078.HDLM-2.bam\":\"HDLM-2\",\n",
    "\"gs://ccle_bams/rna/G41675.RL.5.bam\":\"RL.5\",\n",
    "\"gs://ccle_bams/rna/G41736.T.T.5.bam\":\"T.T.5\",\n",
    "\"gs://ccle_bams/rna/G41754.LN-215.bam\":\"LN-215\",\n",
    "\"gs://ccle_bams/rna/G41756.LN-428.bam\":\"LN-428\",\n",
    "\"gs://ccle_bams/rna/G41770.SLR25.bam\":\"SLR25\",\n",
    "\"gs://ccle_bams/rna/G41771.LN-319.bam\":\"LN-319\",\n",
    "\"gs://ccle_bams/rna/G41774.HCC827_GR5.bam\":\"HCC827_GR5\",\n",
    "\"gs://ccle_bams/rna/G41778.SLR20.bam\":\"SLR20\",\n",
    "\"gs://ccle_bams/rna/G41787.HEK_TE.bam\":\"HEK_TE\",\n",
    "\"gs://ccle_bams/rna/G41791.SiHa.bam\":\"SiHa\",\n",
    "\"gs://ccle_bams/rna/G41793.KMS-18-2.bam\":\"KMS-18-2\",\n",
    "\"gs://ccle_bams/rna/G41794.OPM-1-2.bam\":\"OPM-1-2\",\n",
    "\"gs://ccle_bams/rna/G41795.INA-6-2.bam\":\"INA-6-2\",\n",
    "\"gs://ccle_bams/rna/G41796.HNT-34-2.bam\":\"HNT-34-2\",\n",
    "\"gs://ccle_bams/rna/G41797.PLB-985-2.bam\":\"PLB-985-2\",\n",
    "\"gs://ccle_bams/rna/G41798.OCI-MY5-2.bam\":\"OCI-MY5-2\",\n",
    "\"gs://ccle_bams/rna/G41800.OCI-MY7-2.bam\":\"OCI-MY7-2\",\n",
    "\"gs://ccle_bams/rna/G41801.Caco-2.bam\":\"Caco-2\",\n",
    "\"gs://ccle_bams/rna/G41804.NCI-H2004_RT_2.bam\":\"NCI-H2004_RT_2\",\n",
    "\"gs://ccle_bams/rna/G41816.NCI-H2882.bam\":\"NCI-H2882\",\n",
    "\"gs://ccle_bams/rna/G41818.TTC-709.bam\":\"TTC-709\",\n",
    "\"gs://ccle_bams/rna/G41819.HCC2450.bam\":\"HCC2450\",\n",
    "\"gs://ccle_bams/rna/G77548.C8166.bam\":\"C8166\",\n",
    "\"gs://ccle_bams/rna/G77555.SK-NEP-1_01.bam\":\"SK-NEP-1_01\",\n",
    "\"gs://ccle_bams/rna/G77557.KD_01.bam\":\"KD_01\",\n",
    "\"gs://ccle_bams/rna/G88215/BI_2.03_T1/current/BI_2.03_T1.bam\":\"BI_2.03_T1\",\n",
    "\"gs://ccle_bams/rna/Getz_IBM_CellLines_RNASeqData_23samples_10312018/RP-1561/RNA/CI/v1/CI.bam\":\"CI\",\n",
    "\"gs://ccle_bams/rna/Getz_IBM_CellLines_RNASeq_13samples_11282017/G20492/NA/HEL_92.1.7/v2/HEL_92.1.7.bam\":\"HEL_92.1.7\",\n",
    "\"gs://ccle_bams/rna/RP-1561/RNA/LS/current/LS.bam\":\"LS\",\n",
    "\"gs://ccle_bams/wes/C836.DOV13.bam\":\"DOV13\",\n",
    "\"gs://ccle_bams/wes/C836.HT.2.bam\":\"HT\",\n",
    "\"gs://ccle_bams/wes/C836.K-562.bam\":'K-562',\n",
    "\"gs://ccle_bams/wes/C836.KMS-26.bam\":'KMS-26',\n",
    "\"gs://ccle_bams/wes/C836.L3.3.1.bam\":\"K562\",\n",
    "\"gs://ccle_bams/wes/C836.MJ.2.bam\":\"KMS-26\",\n",
    "\"gs://ccle_bams/wes/C836.T.T.2.bam\":\"L3.3.1\",\n",
    "\"gs://ccle_bams/wes/C836.T1-73.bam\":\"MJ.2\",\n",
    "\"gs://ccle_bams/wes/C836.TT.2.bam\":\"T.T.2\",\n",
    "\"gs://ccle_bams/wes/C836.T1-73.bam\":\"T1-73\",\n",
    "\"gs://ccle_bams/wes/C836.TT.2.bam\":\"TT.2\",\n",
    "\"gs://ccle_bams/wes/F5.bam\":\"F5\",\n",
    "\"gs://ccle_bams/wes/G16365/HEL_92.1.7/v1/HEL_92.1.7.bam\":\"HEL_92.1.7\",\n",
    "\"gs://ccle_bams/wes/G16441/DB/v1/DB.bam\":\"DB\",\n",
    "\"gs://ccle_bams/wes/G16640/DB/current/DB.bam\":\"DB\",\n",
    "\"gs://ccle_bams/wes/G16640/HEL_92.1.7/current/HEL_92.1.7.bam\":\"HEL_92.1.7\",\n",
    "\"gs://ccle_bams/wes/G16640/HH/current/HH.bam\":\"HH\",\n",
    "\"gs://ccle_bams/wes/G16640/HT/current/HT.bam\":\"HT\",\n",
    "\"gs://ccle_bams/wes/G16640/Hep_3B2.1-7/current/Hep_3B2.1-7.bam\":\"Hep_3B2.1-7\",\n",
    "\"gs://ccle_bams/wes/G16640/L3.3/current/L3.3.bam\":\"L3.3\",\n",
    "\"gs://ccle_bams/wes/G16640/MJ/current/MJ.bam\":\"MJ\",\n",
    "\"gs://ccle_bams/wes/G16640/Panc_02.13/current/Panc_02.13.bam\":\"Panc_02.13\",\n",
    "\"gs://ccle_bams/wes/G16640/Panc_03.27/current/Panc_03.27.bam\":\"Panc_03.27\",\n",
    "\"gs://ccle_bams/wes/G16640/Panc_04.03/current/Panc_04.03.bam\":\"Panc_04.03\",\n",
    "\"gs://ccle_bams/wes/G16640/Panc_05.04/current/Panc_05.04.bam\":\"Panc_05.04\",\n",
    "\"gs://ccle_bams/wes/G16640/Panc_08.13/current/Panc_08.13.bam\":\"Panc_08.13\",\n",
    "\"gs://ccle_bams/wes/G16640/RD/current/RD.bam\":\"RD\",\n",
    "\"gs://ccle_bams/wes/G16640/RL/current/RL.bam\":\"RL\",\n",
    "\"gs://ccle_bams/wes/G16640/SU.86.86/current/SU.86.86.bam\":\"SU.86.86\",\n",
    "\"gs://ccle_bams/wes/G16640/T.T/current/T.T.bam\":\"T.T\",\n",
    "\"gs://ccle_bams/wes/G16640/TT/current/TT.bam\":\"TT\",\n",
    "\"gs://ccle_bams/wes/G29750/DB/v1/DB.bam\":\"DB\",\n",
    "\"gs://ccle_bams/wes/G29750/EN/v2/EN.bam\":\"EN\",\n",
    "\"gs://ccle_bams/wes/G29750/H4/v2/H4.bam\":\"H4\",\n",
    "\"gs://ccle_bams/wes/G29750/HEL_92.1.7/v2/HEL_92.1.7.bam\":\"HEL_92.1.7\",\n",
    "\"gs://ccle_bams/wes/G29750/HH/v2/HH.bam\":\"HH\",\n",
    "\"gs://ccle_bams/wes/G29750/HT/v2/HT.bam\":\"HT\",\n",
    "\"gs://ccle_bams/wes/G29750/Hep_3B2.1-7/v2/Hep_3B2.1-7.bam\":\"Hep_3B2.1-7\",\n",
    "\"gs://ccle_bams/wes/G29750/L3.3/v2/L3.3.bam\":\"L3.3\",\n",
    "\"gs://ccle_bams/wes/G29750/MJ/v2/MJ.bam\":\"MJ\",\n",
    "\"gs://ccle_bams/wes/G29750/Panc_02.03/v2/Panc_02.03.bam\":\"Panc_02.03\",\n",
    "\"gs://ccle_bams/wes/G29750/Panc_02.13/v4/Panc_02.13.bam\":\"Panc_02.13\",\n",
    "\"gs://ccle_bams/wes/G29750/Panc_03.27/v2/Panc_03.27.bam\":\"Panc_03.27\",\n",
    "\"gs://ccle_bams/wes/G29750/Panc_04.03/v2/Panc_04.03.bam\":\"Panc_04.03\",\n",
    "\"gs://ccle_bams/wes/G29750/Panc_05.04/v2/Panc_05.04.bam\":\"Panc_05.04\",\n",
    "\"gs://ccle_bams/wes/G29750/Panc_08.13/v1/Panc_08.13.bam\":\"Panc_08.13\",\n",
    "\"gs://ccle_bams/wes/G29750/Panc_10.05/v2/Panc_10.05.bam\":\"Panc_10.05\",\n",
    "\"gs://ccle_bams/wes/G29750/RD/v2/RD.bam\":\"RD\",\n",
    "\"gs://ccle_bams/wes/G29750/RL/v2/RL.bam\":\"RL\",\n",
    "\"gs://ccle_bams/wes/G29750/SU.86.86/v2/SU.86.86.bam\":\"SU.86.86\",\n",
    "\"gs://ccle_bams/wes/G29750/T.T/v1/T.T.bam\":\"T.T\",\n",
    "\"gs://ccle_bams/wes/G29750/TT/v4/TT.bam\":\"TT\",\n",
    "\"gs://ccle_bams/wes/G32831/H4/v2/H4.bam\":\"H4\",\n",
    "\"gs://ccle_bams/wes/G32831/HEL_92.1.7/v2/HEL_92.1.7.bam\":\"HEL_92.1.7\",\n",
    "\"gs://ccle_bams/wes/G32831/Panc_03.27/v2/Panc_03.27.bam\":\"Panc_03.27\",\n",
    "\"gs://ccle_bams/wes/G32831/Panc_10.05/v2/Panc_10.05.bam\":\"Panc_10.05\",\n",
    "\"gs://ccle_bams/wes/LS.bam\":\"LS\",\n",
    "\"gs://ccle_bams/wes/RP-1211/Exome/KD/v1/KD.bam\":\"KD\",\n",
    "\"gs://ccle_bams/wes/RP-1500/Exome/HEL_92.1.7/current/HEL_92.1.7.bam\":\"HEL_9217\",\n",
    "\"gs://ccle_bams/wes/RP-1561/Exome/CI/current/CI.bam\":\"CI\"})"
   ]
  },
  {
   "cell_type": "code",
   "execution_count": null,
   "metadata": {},
   "outputs": [],
   "source": [
    "masterdepmap = sheets.get(\"https://docs.google.com/spreadsheets/d/1uqCOos-T9EMQU7y2ZUw4Nm84opU5fIT1y7jet1vnScE\")"
   ]
  },
  {
   "cell_type": "code",
   "execution_count": null,
   "metadata": {},
   "outputs": [],
   "source": [
    "masteromics = masterdepmap.find('Omics').to_frame()"
   ]
  },
  {
   "cell_type": "code",
   "execution_count": null,
   "metadata": {},
   "outputs": [],
   "source": [
    "masteromics.columns"
   ]
  },
  {
   "cell_type": "code",
   "execution_count": null,
   "metadata": {},
   "outputs": [],
   "source": [
    "val = 'CI'"
   ]
  },
  {
   "cell_type": "code",
   "execution_count": null,
   "metadata": {},
   "outputs": [],
   "source": [
    "[i for i, path in enumerate(masteromics['Data Links    '].astype(str)) if val+'.bam' in path]"
   ]
  },
  {
   "cell_type": "code",
   "execution_count": null,
   "metadata": {},
   "outputs": [],
   "source": [
    "blacklist = [ \"ACH-002342\", \"ACH-002343\", \"ACH-002344\", \"ACH-002345\", \"ACH-002346\", \"ACH-002347\", \"ACH-002348\", \"ACH-002349\", \"ACH-002350\", \"ACH-002351\", \"ACH-002352\", \"ACH-002353\", \"ACH-002354\", \"ACH-002355\", \"ACH-002356\", \"ACH-002357\", \"ACH-002358\", \"ACH-002359\", \"ACH-002360\", \"ACH-002361\", \"ACH-002362\", \"ACH-002363\", \"ACH-002364\", \"ACH-002365\", \"ACH-002366\", \"ACH-002367\", \"ACH-002368\", \"ACH-002369\", \"ACH-002370\", \"ACH-002371\", \"ACH-002372\", \"ACH-002373\", \"ACH-002374\", \"ACH-002375\", \"ACH-002376\", \"ACH-002377\", \"ACH-002378\", \"ACH-002379\", \"ACH-002380\", \"ACH-002381\", \"ACH-002382\", \"ACH-002383\", \"ACH-002384\", \"ACH-002385\"]"
   ]
  },
  {
   "cell_type": "code",
   "execution_count": null,
   "metadata": {},
   "outputs": [],
   "source": [
    "import ipdb\n",
    "notfound=[]\n",
    "achtoname = {i:[] for i in masteromics['DepMap ID'].tolist()}\n",
    "for k, val in newnames.items():\n",
    "    if val in masteromics['Stripped Cell Name'].tolist():\n",
    "        res = masteromics[masteromics['Stripped Cell Name']==val]['DepMap ID'].tolist()\n",
    "        res = [i for i in res if i not in blacklist]\n",
    "        if len(res)==1:\n",
    "            achtoname[res[0]].append(k)\n",
    "        elif res[0]==res[1] and len(res)==2:\n",
    "            achtoname[res[0]].append(k)\n",
    "        else:\n",
    "            print(val,res,[masteromics.iloc[i]['DepMap ID'] for i in res])\n",
    "            ipdb.set_trace()\n",
    "    else:\n",
    "        res = [i for i, path in enumerate(masteromics['Data Links    '].astype(str)) if val+'.bam' in path]\n",
    "        if len(res) ==1:\n",
    "            achtoname[masteromics.iloc[res[0]]['DepMap ID']].append(k)\n",
    "        elif len(res) == 0:\n",
    "            notfound.append(k)\n",
    "        elif len(res)==2:\n",
    "            if masteromics.iloc[res[0]]['DepMap ID'] == masteromics.iloc[res[1]]['DepMap ID']:\n",
    "                achtoname[masteromics.iloc[res[0]]['DepMap ID']].append(k)\n",
    "            else:\n",
    "                print(val,res,[masteromics.iloc[i]['DepMap ID'] for i in res])\n",
    "                ipdb.set_trace() \n",
    "        elif len(res)>2:  \n",
    "            print(val,res,[masteromics.iloc[i]['DepMap ID'] for i in res])\n",
    "            ipdb.set_trace()"
   ]
  },
  {
   "cell_type": "markdown",
   "metadata": {},
   "source": [
    "## solving last issue"
   ]
  },
  {
   "cell_type": "code",
   "execution_count": null,
   "metadata": {},
   "outputs": [],
   "source": [
    "len(notfound)"
   ]
  },
  {
   "cell_type": "code",
   "execution_count": null,
   "metadata": {},
   "outputs": [],
   "source": [
    "notfound"
   ]
  },
  {
   "cell_type": "code",
   "execution_count": null,
   "metadata": {},
   "outputs": [],
   "source": [
    "notfound2 = []\n",
    "for k in notfound:\n",
    "    if \"SANGER_\" in k:\n",
    "        val = k.split('_')[2]\n",
    "        print(val)\n",
    "        if val in masteromics['Stripped Cell Name'].tolist():\n",
    "            res = masteromics[masteromics['Stripped Cell Name']==val]['DepMap ID'].tolist()\n",
    "            res = [i for i in res if i not in blacklist]\n",
    "            if len(res)==1:\n",
    "                achtoname[res[0]].append(k)\n",
    "            elif res[0]==res[1] and len(res)==2:\n",
    "                achtoname[res[0]].append(k)\n",
    "            else:\n",
    "                print(val,res,[masteromics.iloc[i]['DepMap ID'] for i in res])\n",
    "                ipdb.set_trace()\n",
    "        else:\n",
    "            res = [i for i, path in enumerate(masteromics['Data Links    '].astype(str)) if val in path]\n",
    "            if len(res) ==1:\n",
    "                achtoname[masteromics.iloc[res[0]]['DepMap ID']].append(k)\n",
    "            elif len(res) == 0:\n",
    "                print('notfound')\n",
    "                notfound2.append(k)\n",
    "            elif len(res)==2:\n",
    "                if masteromics.iloc[res[0]]['DepMap ID'] == masteromics.iloc[res[1]]['DepMap ID']:\n",
    "                    achtoname[masteromics.iloc[res[0]]['DepMap ID']].append(k)\n",
    "                else:\n",
    "                    print(val,res,[masteromics.iloc[i]['DepMap ID'] for i in res])\n",
    "                    ipdb.set_trace() \n",
    "            elif len(res)>2:  \n",
    "                print(val,res,[masteromics.iloc[i]['DepMap ID'] for i in res])\n",
    "                ipdb.set_trace()\n",
    "    else:\n",
    "        notfound2.append(k)"
   ]
  },
  {
   "cell_type": "code",
   "execution_count": null,
   "metadata": {},
   "outputs": [],
   "source": [
    "len(notfound2)"
   ]
  },
  {
   "cell_type": "code",
   "execution_count": null,
   "metadata": {},
   "outputs": [],
   "source": [
    "notfound = notfound2"
   ]
  },
  {
   "cell_type": "code",
   "execution_count": null,
   "metadata": {},
   "outputs": [],
   "source": [
    "notfound"
   ]
  },
  {
   "cell_type": "code",
   "execution_count": null,
   "metadata": {},
   "outputs": [],
   "source": [
    "notfound2 = []\n",
    "for k in notfound:\n",
    "    val = ''.join(k.split('.')[1:-2]).replace('-','').replace('_','')\n",
    "    if val.upper() in masteromics['Stripped Cell Name'].tolist():\n",
    "        print(val)\n",
    "        res = masteromics[masteromics['Stripped Cell Name']==val.upper()]['DepMap ID'].tolist()\n",
    "        res = [i for i in res if i not in blacklist]\n",
    "        if len(res)==1:\n",
    "            achtoname[res[0]].append(k)\n",
    "        elif res[0]==res[1] and len(res)==2:\n",
    "            achtoname[res[0]].append(k)\n",
    "        else:\n",
    "            print(val,res,[masteromics.iloc[i]['DepMap ID'] for i in res])\n",
    "            ipdb.set_trace()\n",
    "    else:\n",
    "        notfound2.append(k)"
   ]
  },
  {
   "cell_type": "code",
   "execution_count": null,
   "metadata": {},
   "outputs": [],
   "source": [
    "len(notfound2)"
   ]
  },
  {
   "cell_type": "code",
   "execution_count": null,
   "metadata": {},
   "outputs": [],
   "source": [
    "notfound2"
   ]
  },
  {
   "cell_type": "code",
   "execution_count": null,
   "metadata": {},
   "outputs": [],
   "source": [
    "notfound = notfound2"
   ]
  },
  {
   "cell_type": "code",
   "execution_count": null,
   "metadata": {},
   "outputs": [],
   "source": [
    "notfound2 = []\n",
    "for k in notfound:\n",
    "    val = ''.join(k.split('/')[-1].split('.')[:-1]).replace('-','').replace('_','')\n",
    "    if val.upper() in masteromics['Stripped Cell Name'].tolist():\n",
    "        print(val)\n",
    "        res = masteromics[masteromics['Stripped Cell Name']==val.upper()]['DepMap ID'].tolist()\n",
    "        res = [i for i in res if i not in blacklist]\n",
    "        if len(res)==1:\n",
    "            achtoname[res[0]].append(k)\n",
    "        elif res[0]==res[1] and len(res)==2:\n",
    "            achtoname[res[0]].append(k)\n",
    "        else:\n",
    "            print(val,res,[masteromics.iloc[i]['DepMap ID'] for i in res])\n",
    "            ipdb.set_trace()\n",
    "    else:\n",
    "        notfound2.append(k)"
   ]
  },
  {
   "cell_type": "code",
   "execution_count": null,
   "metadata": {},
   "outputs": [],
   "source": [
    "len(notfound2)"
   ]
  },
  {
   "cell_type": "code",
   "execution_count": null,
   "metadata": {},
   "outputs": [],
   "source": [
    "notfound2"
   ]
  },
  {
   "cell_type": "code",
   "execution_count": null,
   "metadata": {},
   "outputs": [],
   "source": [
    "!gsutil rm 'gs://ccle_bams/wes/CCLF_RCRF1009GL.bam'\n",
    "newnames.pop('gs://ccle_bams/wes/CCLF_RCRF1009GL.bam')\n",
    "versions.pop('gs://ccle_bams/wes/CCLF_RCRF1009GL.bam')"
   ]
  },
  {
   "cell_type": "code",
   "execution_count": null,
   "metadata": {},
   "outputs": [],
   "source": [
    "toadd={\n",
    "  'gs://ccle_bams/rna/G146346/PEDS005T_SUSP_LUA-4502_1/current/PEDS005T_SUSP_LUA-4502_1.bam':'ACH-001316',\n",
    " 'gs://ccle_bams/rna/G28813.Hs_274.T.bam':'ACH-000134',\n",
    " 'gs://ccle_bams/rna/G77552/TTC-642_01/current/TTC-642_01.bam':'ACH-001212',\n",
    " 'gs://ccle_bams/rna/G77553/TTC-549_01/current/TTC-549_01.bam':'ACH-001211',\n",
    " 'gs://ccle_bams/rna/G77554/TTC-1240_01/current/TTC-1240_01.bam': 'ACH-001210',\n",
    " 'gs://ccle_bams/wes/C835.HCC1143_BL.4.bam':'ACH-000374',\n",
    " 'gs://ccle_bams/wes/G29750/G-292,_clone_A141B1/v1/G-292,_clone_A141B1.bam':'ACH-000082',\n",
    " 'gs://ccle_bams/wes/MJW/projects/chordoma/data/wes.crdlines/sample/bam.analysis.ready/jhc7.analysis.ready.bam':'ACH-001955',\n",
    " 'gs://ccle_bams/wes/MJW/projects/chordoma/data/wes.crdlines/sample/bam.analysis.ready/mugchor1.analysis.ready.bam':'ACH-001956',\n",
    " \n",
    " 'gs://ccle_bams/wes/RD_P3F__7_1.fixed.bam':'ACH-001758',\n",
    " 'gs://ccle_bams/rna/G41793.KMS-18-2.bam':'ACH-000658',\n",
    " 'gs://ccle_bams/rna/G41794.OPM-1-2.bam':'ACH-000057',\n",
    " 'gs://ccle_bams/rna/G41795.INA-6-2.bam':'ACH-000512',\n",
    " 'gs://ccle_bams/rna/G41797.PLB-985-2.bam':'ACH-000034',\n",
    " 'gs://ccle_bams/rna/G41798.OCI-MY5-2.bam':'ACH-000854',\n",
    " 'gs://ccle_bams/rna/G41800.OCI-MY7-2.bam':'ACH-000436'  \n",
    "}"
   ]
  },
  {
   "cell_type": "code",
   "execution_count": null,
   "metadata": {},
   "outputs": [],
   "source": [
    "for k, val in toadd.items():\n",
    "    achtoname[val].append(k)"
   ]
  },
  {
   "cell_type": "code",
   "execution_count": null,
   "metadata": {},
   "outputs": [],
   "source": [
    "len([val for val in newnames.keys() if '/rna/' in val])"
   ]
  },
  {
   "cell_type": "code",
   "execution_count": null,
   "metadata": {},
   "outputs": [],
   "source": [
    "achtoname"
   ]
  },
  {
   "cell_type": "code",
   "execution_count": null,
   "metadata": {},
   "outputs": [],
   "source": [
    "keeprem"
   ]
  },
  {
   "cell_type": "markdown",
   "metadata": {},
   "source": [
    "## wow we seem to have a lot more wes than RNA"
   ]
  },
  {
   "cell_type": "markdown",
   "metadata": {},
   "source": [
    "## removing duplicates"
   ]
  },
  {
   "cell_type": "code",
   "execution_count": null,
   "metadata": {},
   "outputs": [],
   "source": [
    "baisprem = [\"gs://ccle_bams/rna/CCLE_DepMap_RNAseq_July_Dec_2018/RP-1561/RNA/94T778/v3/94T778.bai\",\n",
    "\"gs://ccle_bams/rna/CCLE_DepMap_RNAseq_July_Dec_2018/RP-1561/RNA/C396/v2/C396.bai\",\n",
    "\"gs://ccle_bams/rna/CCLE_DepMap_RNAseq_July_Dec_2018/RP-1561/RNA/CCLP1/v1/CCLP1.bai\",\n",
    "\"gs://ccle_bams/rna/CCLE_DepMap_RNAseq_July_Dec_2018/RP-1561/RNA/CII/v3/CII.bai\",\n",
    "\"gs://ccle_bams/rna/DepMap_CellLine_RNAseq_Aug2019/RP-1561/RNA/Becker/v1/Becker.bai\",\n",
    "\"gs://ccle_bams/rna/DepMap_CellLine_RNAseq_Batch2_July2019/RP-1561/RNA/CCLFUPGI0005T/v2/CCLFUPGI0005T.bai\",\n",
    "\"gs://ccle_bams/rna/G141708/CASKI/v3/CASKI.bai\",\n",
    "\"gs://ccle_bams/rna/CCLE_DepMap_RNAseq_July_Dec_2018/RP-1561/RNA/G415/v1/G415.bai\",\n",
    "\"gs://ccle_bams/rna/DepMap_CellLine_RNAseq_July2019/RP-1561/RNA/GB2/v2/GB2.bai\",\n",
    "\"gs://ccle_bams/rna/Getz_IBM_CellLine_RNASeq_March2019/RP-1561/RNA/A388/v3/A388.bai\",\n",
    "\"gs://ccle_bams/rna/Getz_IBM_CellLine_RNAseq_April2019/RP-1561/RNA/BPH1/v1/BPH1.bai\",\n",
    "\"gs://ccle_bams/rna/Getz_IBM_CellLine_RNAseq_June2019/RP-1561/RNA/ECC4/v2/ECC4.bai\",\n",
    "\"gs://ccle_bams/rna/Getz_IBM_CellLine_RNASeq_March2019/RP-1561/RNA/H157/v2/H157.bai\",\n",
    "\"gs://ccle_bams/rna/CCLE_DepMap_RNAseq_July_Dec_2018/RP-1561/RNA/H357/v1/H357.bai\",\n",
    "\"gs://ccle_bams/rna/CCLE_DepMap_RNAseq_July_Dec_2018/RP-1561/RNA/H376/v2/H376.bai\",\n",
    "\"gs://ccle_bams/rna/CCLE_DepMap_RNAseq_July_Dec_2018/RP-1561/RNA/H413/v1/H413.bai\",\n",
    "\"gs://ccle_bams/rna/DepMap_CellLine_RNAseq_July2019/RP-1561/RNA/HAP1MLH1KO/v2/HAP1MLH1KO.bai\",\n",
    "\"gs://ccle_bams/rna/HCSC1/v2/HCSC1.bai\",\n",
    "\"gs://ccle_bams/rna/Getz_IBM_CellLine_RNAseq_April2019/RP-1561/RNA/HEC116/v1/HEC116.bai\",\n",
    "\"gs://ccle_bams/rna/Getz_IBM_CellLine_RNAseq_June2019/RP-1561/RNA/HHUA/v1/HHUA.bai\",\n",
    "\"gs://ccle_bams/rna/DepMap_CellLine_RNAseq_June2019/RP-1561/RNA/HO1U1/v2/HO1U1.bai\",\n",
    "\"gs://ccle_bams/rna/Getz_IBM_CellLine_RNAseq_April2019/RP-1561/RNA/HOKUG/v1/HOKUG.bai\",\n",
    "\"gs://ccle_bams/rna/Getz_IBM_CellLine_RNAseq_May2019/RP-1561/RNA/HOUAI/v2/HOUAI.bai\",\n",
    "\"gs://ccle_bams/rna/DepMap_CellLine_RNAseq_Batch2_July2019/RP-1561/RNA/HS860T/v2/HS860T.bai\",\n",
    "\"gs://ccle_bams/rna/Getz_IBM_CellLine_RNAseq_June2019/RP-1561/RNA/HSKTC/v1/HSKTC.bai\",\n",
    "\"gs://ccle_bams/rna/Getz_IBM_CellLine_RNASeq_Batch3_March2019/RP-1561/RNA/HSOS1/v2/HSOS1.bai\",\n",
    "\"gs://ccle_bams/rna/DepMap_CellLine_RNAseq_July2019/RP-1561/RNA/HSQ89/v2/HSQ89.bai\",\n",
    "\"gs://ccle_bams/rna/DepMap_CellLine_RNAseq_July2019/RP-1561/RNA/HSSCH2/v2/HSSCH2.bai\",\n",
    "\"gs://ccle_bams/rna/HT144SKINFV1/v2/HT144SKINFV1.bai\",\n",
    "\"gs://ccle_bams/rna/HT144SKINFV2/v2/HT144SKINFV2.bai\",\n",
    "\"gs://ccle_bams/rna/HT144SKINFV3/v2/HT144SKINFV3.bai\",\n",
    "\"gs://ccle_bams/rna/Getz_IBM_CellLine_RNASeq_March2019/RP-1561/RNA/HT3/v2/HT3.bai\",\n",
    "\"gs://ccle_bams/rna/Getz_IBM_CellLine_RNAseq_June2019/RP-1561/RNA/HTMMT/v1/HTMMT.bai\",\n",
    "\"gs://ccle_bams/rna/CCLE_DepMap_RNAseq_July_Dec_2018/RP-1561/RNA/HUO9/v1/HUO9.bai\",\n",
    "\"gs://ccle_bams/rna/CCLE_DepMap_RNAseq_July_Dec_2018/RP-1561/RNA/ICC12/v1/ICC12.bai\",\n",
    "\"gs://ccle_bams/rna/CCLE_DepMap_RNAseq_July_Dec_2018/RP-1561/RNA/ICC4/v1/ICC4.bai\",\n",
    "\"gs://ccle_bams/rna/DepMap_CellLine_RNAseq_May2019/RP-1561/RNA/ICC6/v2/ICC6.bai\",\n",
    "\"gs://ccle_bams/rna/CCLE_DepMap_RNAseq_July_Dec_2018/RP-1561/RNA/ICC9/v1/ICC9.bai\",\n",
    "\"gs://ccle_bams/rna/Getz_IBM_CellLine_RNAseq_July2019/RP-1561/RNA/IHH4/v2/IHH4.bai\",\n",
    "\"gs://ccle_bams/rna/CCLE_DepMap_RNAseq_July_Dec_2018/RP-1561/RNA/JEG3/v1/JEG3.bai\",\n",
    "\"gs://ccle_bams/rna/DepMap_CellLine_RNAseq_June2019/RP-1561/RNA/KCI-MOH1/v2/KCI-MOH1.bai\",\n",
    "\"gs://ccle_bams/rna/KML1/v2/KML1.bai\",\n",
    "\"gs://ccle_bams/rna/CCLE_DepMap_RNAseq_July_Dec_2018/RP-1561/RNA/KOSC2CL343/v2/KOSC2CL343.bai\",\n",
    "\"gs://ccle_bams/rna/DepMap_CellLine_RNAseq_Aug2019/RP-1561/RNA/LC-1_sq-SF/v1/LC-1_sq-SF.bai\",\n",
    "\"gs://ccle_bams/rna/CCLE_DepMap_RNAseq_July_Dec_2018/RP-1561/RNA/LPS27/v1/LPS27.bai\",\n",
    "\"gs://ccle_bams/rna/CCLE_DepMap_RNAseq_July_Dec_2018/RP-1561/RNA/MEL290/v2/MEL290.bai\",\n",
    "\"gs://ccle_bams/rna/CCLE_DepMap_RNAseq_July_Dec_2018/RP-1561/RNA/MFM223/v1/MFM223.bai\",\n",
    "\"gs://ccle_bams/rna/DepMap_CellLine_RNAseq_June2019/RP-1561/RNA/MUTZ8/v2/MUTZ8.bai\",\n",
    "\"gs://ccle_bams/rna/DepMap_CellLine_RNAseq_July2019/RP-1561/RNA/NALM16/v2/NALM16.bai\",\n",
    "\"gs://ccle_bams/rna/CCLE_DepMap_RNAseq_July_Dec_2018/RP-1561/RNA/NGP/v1/NGP.bai\",\n",
    "\"gs://ccle_bams/rna/Getz_IBM_CellLine_RNASeq_Batch3_March2019/RP-1561/RNA/NZOV9/v2/NZOV9.bai\",\n",
    "\"gs://ccle_bams/rna/Getz_IBM_CellLine_RNAseq_April2019/RP-1561/RNA/OCIC4P/v1/OCIC4P.bai\",\n",
    "\"gs://ccle_bams/rna/Getz_IBM_CellLine_RNASeq_Batch4_March2019/RP-1561/RNA/OCILY18/v1/OCILY18.bai\",\n",
    "\"gs://ccle_bams/rna/CCLE_DepMap_RNAseq_July_Dec_2018/RP-1561/RNA/OCIM2/v1/OCIM2.bai\",\n",
    "\"gs://ccle_bams/rna/CCLE_DepMap_RNAseq_July_Dec_2018/RP-1561/RNA/OCUG1/v2/OCUG1.bai\",\n",
    "\"gs://ccle_bams/rna/DepMap_CellLine_RNAseq_June2019/RP-1561/RNA/OMM1/v2/OMM1.bai\",\n",
    "\"gs://ccle_bams/rna/Getz_IBM_CellLine_RNAseq_April2019/RP-1561/RNA/ONDA8/v1/ONDA8.bai\",\n",
    "\"gs://ccle_bams/rna/DepMap_CellLine_RNAseq_May2019/RP-1561/RNA/P30OHK/v2/P30OHK.bai\",\n",
    "\"gs://ccle_bams/rna/Getz_IBM_CellLine_RNAseq_June2019/RP-1561/RNA/PK8/v1/PK8.bai\",\n",
    "\"gs://ccle_bams/rna/Getz_IBM_CellLine_RNASeq_Batch3_March2019/RP-1561/RNA/PMFKO14/v1/PMFKO14.bai\",\n",
    "\"gs://ccle_bams/rna/DepMap_CellLine_RNAseq_Batch2_July2019/RP-1561/RNA/R256/v2/R256.bai\",\n",
    "\"gs://ccle_bams/rna/CCLE_DepMap_RNAseq_July_Dec_2018/RP-1561/RNA/RCK8/v2/RCK8.bai\",\n",
    "\"gs://ccle_bams/rna/RNA/ICC106/v2/ICC106.bai\",\n",
    "\"gs://ccle_bams/rna/RNA/ICC5/v2/ICC5.bai\",\n",
    "\"gs://ccle_bams/rna/RNA/LPS510/v2/LPS510.bai\",\n",
    "\"gs://ccle_bams/rna/RNA/RAMOS/v1/RAMOS.bai\",\n",
    "\"gs://ccle_bams/rna/DepMap_CellLine_RNAseq_June2019/RP-1561/RNA/RPE1SS111/v2/RPE1SS111.bai\",\n",
    "\"gs://ccle_bams/rna/DepMap_CellLine_RNAseq_June2019/RP-1561/RNA/RPE1SS119/v2/RPE1SS119.bai\",\n",
    "\"gs://ccle_bams/rna/DepMap_CellLine_RNAseq_June2019/RP-1561/RNA/RPE1SS48/v2/RPE1SS48.bai\",\n",
    "\"gs://ccle_bams/rna/DepMap_CellLine_RNAseq_June2019/RP-1561/RNA/RPE1SS51/v2/RPE1SS51.bai\",\n",
    "\"gs://ccle_bams/rna/DepMap_CellLine_RNAseq_June2019/RP-1561/RNA/RPE1SS6/v3/RPE1SS6.bai\",\n",
    "\"gs://ccle_bams/rna/DepMap_CellLine_RNAseq_June2019/RP-1561/RNA/RPE1SS77/v2/RPE1SS77.bai\",\n",
    "\"gs://ccle_bams/rna/RVH421SKINFV1/v2/RVH421SKINFV1.bai\",\n",
    "\"gs://ccle_bams/rna/DepMap_CellLine_RNAseq_Aug2019/RP-1561/RNA/SAS/v1/SAS.bai\",\n",
    "\"gs://ccle_bams/rna/RNA/SCC3/v2/SCC3.bai\",\n",
    "\"gs://ccle_bams/rna/CCLE_DepMap_RNAseq_July_Dec_2018/RP-1561/RNA/SHI1/v1/SHI1.bai\",\n",
    "\"gs://ccle_bams/rna/Getz_IBM_CellLine_RNAseq_June2019/RP-1561/RNA/SHMAC5/v1/SHMAC5.bai\",\n",
    "\"gs://ccle_bams/rna/Getz_IBM_CellLine_RNAseq_July2019/RP-1561/RNA/SK-RC-31/v2/SK-RC-31.bai\",\n",
    "\"gs://ccle_bams/rna/SKGII/v2/SKGII.bai\",\n",
    "\"gs://ccle_bams/rna/Getz_IBM_CellLine_RNAseq_May2019/RP-1561/RNA/SLVL/v2/SLVL.bai\",\n",
    "\"gs://ccle_bams/rna/SNU1544/v2/SNU1544.bai\",\n",
    "\"gs://ccle_bams/rna/CCLE_DepMap_RNAseq_July_Dec_2018/RP-1561/RNA/SNU638/v1/SNU638.bai\",\n",
    "\"gs://ccle_bams/rna/CCLE_DepMap_RNAseq_July_Dec_2018/RP-1561/RNA/SSP25/v2/SSP25.bai\",\n",
    "\"gs://ccle_bams/rna/Getz_IBM_CellLine_RNASeq_Batch2_June2019/RP-1561/RNA/SUM102PT/v2/SUM102PT.bai\",\n",
    "\"gs://ccle_bams/rna/SUM44PE/v2/SUM44PE.bai\",\n",
    "\"gs://ccle_bams/rna/CCLE_DepMap_RNAseq_July_Dec_2018/RP-1561/RNA/SUM52PE/v5/SUM52PE.bai\",\n",
    "\"gs://ccle_bams/rna/CCLE_DepMap_RNAseq_July_Dec_2018/RP-1561/RNA/SUSA/v1/SUSA.bai\",\n",
    "\"gs://ccle_bams/rna/Getz_IBM_CellLine_RNASeq_Batch2_June2019/RP-1561/RNA/SW156/v2/SW156.bai\",\n",
    "\"gs://ccle_bams/rna/Getz_IBM_CellLine_RNAseq_April2019/RP-1561/RNA/T3M5/v1/T3M5.bai\",\n",
    "\"gs://ccle_bams/rna/Getz_IBM_CellLine_RNAseq_April2019/RP-1561/RNA/TGBC18TKB/v1/TGBC18TKB.bai\",\n",
    "\"gs://ccle_bams/rna/RNA/TGBC1TKB/v2/TGBC1TKB.bai\",\n",
    "\"gs://ccle_bams/rna/RNA/TGBC52TKB/v1/TGBC52TKB.bai\",\n",
    "\"gs://ccle_bams/rna/CCLE_DepMap_RNAseq_July_Dec_2018/RP-1561/RNA/TGW_/v2/TGW_.bai\",\n",
    "\"gs://ccle_bams/rna/CCLE_DepMap_RNAseq_July_Dec_2018/RP-1561/RNA/TKKK/v3/TKKK.bai\",\n",
    "\"gs://ccle_bams/rna/Getz_IBM_CellLine_RNAseq_July2019/RP-1561/RNA/TT1TKB/v2/TT1TKB.bai\",\n",
    "\"gs://ccle_bams/rna/UHO1/v2/UHO1.bai\",\n",
    "\"gs://ccle_bams/rna/Getz_IBM_CellLine_RNAseq_May2019/RP-1561/RNA/UMRC3/v2/UMRC3.bai\",\n",
    "\"gs://ccle_bams/rna/Getz_IBM_CellLine_RNAseq_June2019/RP-1561/RNA/UMRC7/v1/UMRC7.bai\",\n",
    "\"gs://ccle_bams/rna/Getz_IBM_CellLine_RNASeq_March2019/RP-1561/RNA/UPCISCC026/v2/UPCISCC026.bai\",\n",
    "\"gs://ccle_bams/rna/Getz_IBM_CellLine_RNAseq_June2019/RP-1561/RNA/UPCISCC040/v1/UPCISCC040.bai\",\n",
    "\"gs://ccle_bams/rna/Getz_IBM_CellLine_RNASeq_Batch2_June2019/RP-1561/RNA/UPCISCC116/v2/UPCISCC116.bai\",\n",
    "\"gs://ccle_bams/rna/DepMap_CellLine_RNAseq_Aug2019/RP-1561/RNA/UPCISCC131/v1/UPCISCC131.bai\",\n",
    "\"gs://ccle_bams/rna/Getz_IBM_CellLine_RNAseq_June2019/RP-1561/RNA/UPCISCC154/v1/UPCISCC154.bai\",\n",
    "\"gs://ccle_bams/rna/RNA/VAESBJ/v2/VAESBJ.bai\",\n",
    "\"gs://ccle_bams/rna/Getz_IBM_CellLine_RNAseq_Aug2019/RP-1561/RNA/WSUNHL/v1/WSUNHL.bai\",\n",
    "\"gs://ccle_bams/rna/CCLE_DepMap_RNAseq_July_Dec_2018/RP-1561/RNA/YSCCC/v2/YSCCC.bai\",\n",
    "\"gs://ccle_bams/rna/v2/ICC7.bai\",\n",
    "\"gs://ccle_bams/wes/C836/DOV13/v1/DOV13.bai\",\n",
    "\"gs://ccle_bams/wes/C836/K-562/v2/K-562.bai\",\n",
    "\"gs://ccle_bams/wes/C836/KMS-26/v2/KMS-26.bai\",\n",
    "\"gs://ccle_bams/wes/C836/T1-73/v1/T1-73.bai\",\n",
    "\"gs://ccle_bams/wes/DepMap_CellLine_WES_July2019/RP-1561/Exome/GB2/v2/GB2.bai\",\n",
    "\"gs://ccle_bams/wes/Getz_IBM_CellLine_WES_April2019/RP-1561/Exome/BPH1/v1/BPH1.bai\",\n",
    "\"gs://ccle_bams/wes/DepMap_CellLine_WES_July2019/RP-1561/Exome/HAP1MLH1KO_1/v2/HAP1MLH1KO_1.bai\",\n",
    "\"gs://ccle_bams/wes/DepMap_CellLine_WES_July2019/RP-1561/Exome/HAP1_1/v2/HAP1_1.bai\",\n",
    "\"gs://ccle_bams/wes/DepMap_CellLine_WES_June2019/RP-1561/Exome/HO1U1/v2/HO1U1.bai\",\n",
    "\"gs://ccle_bams/wes/DepMap_CellLine_WES_July2019/RP-1561/Exome/HSQ89_1/v2/HSQ89_1.bai\",\n",
    "\"gs://ccle_bams/wes/DepMap_CellLine_WES_July2019/RP-1561/Exome/HSSCH2_1/v2/HSSCH2_1.bai\",\n",
    "\"gs://ccle_bams/wes/Getz_IBM_CellLine_WES_Batch2_July2019/RP-1561/Exome/IHH4/v2/IHH4.bai\",\n",
    "\"gs://ccle_bams/wes/DepMap_CellLine_WES_Sept2019/RP-1561/Exome/LPS067/v1/LPS067.bai\",\n",
    "\"gs://ccle_bams/wes/CCLE_DepMap_WES_July_Dec_2018/RP-1561/Exome/MFM223/v1/MFM223.bai\",\n",
    "\"gs://ccle_bams/wes/DepMap_CellLine_WES_June2019/RP-1561/Exome/MUTZ8/v1/MUTZ8.bai\",\n",
    "\"gs://ccle_bams/wes/DepMap_CellLine_WES_July2019/RP-1561/Exome/NALM16/v2/NALM16.bai\",\n",
    "\"gs://ccle_bams/wes/DepMap_CellLine_WES_Batch2_Sept2019/RP-1561/Exome/OCIAML4/v1/OCIAML4.bai\",\n",
    "\"gs://ccle_bams/wes/DepMap_CellLine_WES_Batch2_April2019/RP-1561/Exome/OCILY7/v1/OCILY7.bai\",\n",
    "\"gs://ccle_bams/wes/DepMap_CellLine_WES_Batch2_June2019/RP-1561/Exome/OMM1/v1/OMM1.bai\",\n",
    "\"gs://ccle_bams/wes/DepMap_CellLine_WES_May2019/RP-1561/Exome/P30OHK_1/v1/P30OHK_1.bai\",\n",
    "\"gs://ccle_bams/wes/DepMap_CellLine_WES_Batch3_June2019/RP-1561/Exome/R256/v2/R256.bai\",\n",
    "\"gs://ccle_bams/wes/DepMap_CellLine_WES_June2019/RP-1561/Exome/RPE1SS111/v1/RPE1SS111.bai\",\n",
    "\"gs://ccle_bams/wes/DepMap_CellLine_WES_June2019/RP-1561/Exome/RPE1SS119/v1/RPE1SS119.bai\",\n",
    "\"gs://ccle_bams/wes/DepMap_CellLine_WES_June2019/RP-1561/Exome/RPE1SS48/v1/RPE1SS48.bai\",\n",
    "\"gs://ccle_bams/wes/DepMap_CellLine_WES_June2019/RP-1561/Exome/RPE1SS51/v1/RPE1SS51.bai\",\n",
    "\"gs://ccle_bams/wes/DepMap_CellLine_WES_June2019/RP-1561/Exome/RPE1SS6/v1/RPE1SS6.bai\",\n",
    "\"gs://ccle_bams/wes/DepMap_CellLine_WES_June2019/RP-1561/Exome/RPE1SS77/v1/RPE1SS77.bai\",\n",
    "\"gs://ccle_bams/wes/DepMap_CellLine_WES_Aug2019/RP-1561/Exome/SAS/v3/SAS.bai\",\n",
    "\"gs://ccle_bams/wes/Getz_IBM_CellLines_Exomes_11samples_04122018/RP-1561/Exome/SKGT2/v2/SKGT2.bai\",\n",
    "\"gs://ccle_bams/wes/Getz_IBM_CellLine_WES_May2019/RP-1561/Exome/SLVL/v1/SLVL.bai\",\n",
    "\"gs://ccle_bams/wes/Getz_IBM_CellLine_WES_March2019/RP-1561/Exome/SW156/v1/SW156.bai\",\n",
    "\"gs://ccle_bams/wes/RP-1561/Exome/TASK1/v1/TASK1.bai\",\n",
    "\"gs://ccle_bams/wes/DepMap_CellLine_WES_Sept2019/RP-1561/Exome/WM3211/v1/WM3211.bai\",\n",
    "\"gs://ccle_bams/wes/v1.0/CCLFUPGI0005T-311Cas9.bai\",\n",
    "\"gs://ccle_bams/wes/v1.0/HSPSS.bai\",\n",
    "\"gs://ccle_bams/wes/v1.0/ICC7.bai\",\n",
    "\"gs://ccle_bams/wes/v1.0/KARPAS1718.bai\",\n",
    "\"gs://ccle_bams/wes/v1.0/MOLM14.bai\",\n",
    "\"gs://ccle_bams/wes/v1.0/OSC19.bai\",\n",
    "\"gs://ccle_bams/wes/v1.0/RMSYM.bai\",\n",
    "\"gs://ccle_bams/wes/v1.0/T3M3.bai\",\n",
    "\"gs://ccle_bams/wes/v1.0/U2940.bai\",\n",
    "\"gs://ccle_bams/rna/G141708/PA1/current/PA1.bai\",\n",
    "\"gs://ccle_bams/rna/G144965/NOZ/current/NOZ.bai\",\n",
    "\"gs://ccle_bams/wes/C836.CCF-STTG1.2.bai\"]"
   ]
  },
  {
   "cell_type": "code",
   "execution_count": null,
   "metadata": {},
   "outputs": [],
   "source": [
    "for k, v in keeprem.items():\n",
    "    os.system('gsutil ls '+v[:-1]+'*')"
   ]
  },
  {
   "cell_type": "code",
   "execution_count": null,
   "metadata": {},
   "outputs": [],
   "source": [
    "n"
   ]
  },
  {
   "cell_type": "code",
   "execution_count": null,
   "metadata": {},
   "outputs": [],
   "source": [
    "for n, (k, val) in enumerate(keeprem.items()):\n",
    "    if n>106:\n",
    "        print(k,val,baisprem[n])\n",
    "        for i,v in achtoname.items():\n",
    "            if k in v:\n",
    "                achtoname[i].remove(k)\n",
    "                res = os.system(\"gsutil rm \"+k)\n",
    "                if res!=0:\n",
    "                    raise ValueError(\"stoped or error\")\n",
    "                if '/wes/' in k and '/wes/' in val:\n",
    "                    if k in cnsam.WES_bam.tolist():\n",
    "                        cnwm.update_sample_attributes({'WES_bam':val,'WES_bai': baisprem[n]}, cnsam[cnsam.WES_bam==k].index[0])\n",
    "                        mutwm.update_sample_attributes({'WES_bam':val,'WES_bai': baisprem[n]}, mutsam[mutsam.WES_bam==k].index[0])\n",
    "                elif '/rna/' in k and '/rna/' in val:\n",
    "                    if k in rnasam.RNAseq_bam.tolist():\n",
    "                        rnawm.update_sample_attributes({'RNAseq_bam':val, 'RNAseq_bai': baisprem[n]}, rnasam[rnasam.RNAseq_bam==k].index[0])\n",
    "                else:\n",
    "                    raise ValueError(\"misslabelling\")"
   ]
  },
  {
   "cell_type": "code",
   "execution_count": null,
   "metadata": {},
   "outputs": [],
   "source": [
    "for n, (k, val) in enumerate(keeprem.items()):\n",
    "    if k in newnames:\n",
    "        newnames.pop(k)\n",
    "    if k in versions:\n",
    "        versions.pop(k)"
   ]
  },
  {
   "cell_type": "code",
   "execution_count": null,
   "metadata": {},
   "outputs": [],
   "source": [
    "val in rnasam.RNAseq_bam.tolist()"
   ]
  },
  {
   "cell_type": "code",
   "execution_count": null,
   "metadata": {},
   "outputs": [],
   "source": [
    "len(versions)"
   ]
  },
  {
   "cell_type": "code",
   "execution_count": null,
   "metadata": {},
   "outputs": [],
   "source": [
    "len(newnames)"
   ]
  },
  {
   "cell_type": "code",
   "execution_count": null,
   "metadata": {},
   "outputs": [],
   "source": [
    "[versions.pop(i) for i in versions.keys() - newnames.keys()]"
   ]
  },
  {
   "cell_type": "code",
   "execution_count": null,
   "metadata": {},
   "outputs": [],
   "source": [
    "blacklist = ['L3.3.bam']"
   ]
  },
  {
   "cell_type": "code",
   "execution_count": null,
   "metadata": {},
   "outputs": [],
   "source": [
    "for k, val in versions.items():\n",
    "    if 'U'==val:\n",
    "        print(k)\n",
    "        versions[k] = '0'"
   ]
  },
  {
   "cell_type": "code",
   "execution_count": null,
   "metadata": {},
   "outputs": [],
   "source": [
    "len([k for k, v in versions.items() if v=='0'])"
   ]
  },
  {
   "cell_type": "code",
   "execution_count": null,
   "metadata": {},
   "outputs": [],
   "source": [
    "vUnknowns = [k for k, v in versions.items() if v=='0' and 'SANGER_' not in k]"
   ]
  },
  {
   "cell_type": "code",
   "execution_count": null,
   "metadata": {},
   "outputs": [],
   "source": [
    "vUnknowns"
   ]
  },
  {
   "cell_type": "code",
   "execution_count": null,
   "metadata": {},
   "outputs": [],
   "source": [
    "SMs= {}\n",
    "for i, bam in enumerate(versions):\n",
    "    print(i,end='\\r')\n",
    "    data = os.popen('export GCS_OAUTH_TOKEN=`gcloud auth application-default print-access-token` && samtools view -H '+bam +' | grep \"^@RG\"')\n",
    "    if data == signal.SIGINT:\n",
    "        print('Awakened')\n",
    "        break\n",
    "    else:\n",
    "        res = data.read()\n",
    "        SMs[bam] = re.findall(\"(?<=\\tSM:).+?\\t\", res)[0]"
   ]
  },
  {
   "cell_type": "code",
   "execution_count": null,
   "metadata": {},
   "outputs": [],
   "source": [
    "  "
   ]
  },
  {
   "cell_type": "code",
   "execution_count": null,
   "metadata": {},
   "outputs": [],
   "source": [
    "for k, val in achtoname.items():\n",
    "    names = [v for v in achtoname[k] if '/wes/' in v ]\n",
    "    vers = [int(versions[n]) if not 'SANGER_' in n else -1  for n in names]\n",
    "    for i in range(10):\n",
    "        if vers.count(i)>1:\n",
    "            print(vers,names)\n",
    "            ipdb.set_trace()\n",
    "    args = np.argsort(vers)\n",
    "    names = names[args]\n",
    "    for i, v in enumerate(names):\n",
    "        versions[v] = i+1"
   ]
  },
  {
   "cell_type": "code",
   "execution_count": null,
   "metadata": {},
   "outputs": [],
   "source": [
    "data = pd.DataFrame(,index=name)"
   ]
  },
  {
   "cell_type": "code",
   "execution_count": null,
   "metadata": {},
   "outputs": [],
   "source": [
    "data.reset_index(inplace=True)"
   ]
  },
  {
   "cell_type": "code",
   "execution_count": null,
   "metadata": {},
   "outputs": [],
   "source": [
    "data.columns"
   ]
  },
  {
   "cell_type": "code",
   "execution_count": null,
   "metadata": {},
   "outputs": [],
   "source": [
    "len(data)"
   ]
  },
  {
   "cell_type": "code",
   "execution_count": null,
   "metadata": {},
   "outputs": [],
   "source": [
    "gb = data.groupby(('index'))"
   ]
  },
  {
   "cell_type": "code",
   "execution_count": null,
   "metadata": {},
   "outputs": [],
   "source": [
    "res = pd.DataFrame(gb[data.columns[0]].unique())"
   ]
  },
  {
   "cell_type": "code",
   "execution_count": null,
   "metadata": {},
   "outputs": [],
   "source": [
    "for i in data.columns[1:]:\n",
    "    res[i] = gb[i].unique()"
   ]
  },
  {
   "cell_type": "code",
   "execution_count": null,
   "metadata": {},
   "outputs": [],
   "source": [
    "for k, val in res.iterrows():\n",
    "    for j, i in val.iteritems():\n",
    "        put=False\n",
    "        for v in i:\n",
    "            if v is not np.NaN:\n",
    "                res.loc[k,j] = v\n",
    "                put = True\n",
    "        if not put:\n",
    "            res.loc[k,j] = np.NaN"
   ]
  },
  {
   "cell_type": "code",
   "execution_count": null,
   "metadata": {},
   "outputs": [],
   "source": [
    "res = res.drop('index',1)"
   ]
  },
  {
   "cell_type": "code",
   "execution_count": null,
   "metadata": {},
   "outputs": [],
   "source": [
    "res.to_csv('state.csv')"
   ]
  },
  {
   "cell_type": "code",
   "execution_count": null,
   "metadata": {},
   "outputs": [],
   "source": [
    "res = pd.read_csv('ccle_versions_state.csv')"
   ]
  },
  {
   "cell_type": "code",
   "execution_count": null,
   "metadata": {},
   "outputs": [],
   "source": [
    "for i, val in res.iterrows():\n",
    "    if val.v1 is np.nan:\n",
    "        if val.unknown is not np.nan:\n",
    "            res.loc[i,'v1'] = val.unknown\n",
    "            res.loc[i,'unknown'] = np.nan\n",
    "        elif val.current is not np.nan:\n",
    "            res.loc[i,'v1'] = val.current\n",
    "            res.loc[i,'current'] = np.nan\n",
    "            "
   ]
  },
  {
   "cell_type": "code",
   "execution_count": null,
   "metadata": {},
   "outputs": [],
   "source": [
    "res.isna().sum(0)/len(res)"
   ]
  },
  {
   "cell_type": "code",
   "execution_count": null,
   "metadata": {},
   "outputs": [],
   "source": [
    "res"
   ]
  },
  {
   "cell_type": "markdown",
   "metadata": {},
   "source": [
    "# Gathering the required information in all workspaces "
   ]
  },
  {
   "cell_type": "markdown",
   "metadata": {},
   "source": [
    "## IN RNA WORKSPACE BUT IN WES FOLDER"
   ]
  },
  {
   "cell_type": "code",
   "execution_count": null,
   "metadata": {},
   "outputs": [],
   "source": [
    "inRNAbutwesfolder={'gs://ccle_bams/wes/G41801.Caco-2.bam',\n",
    " 'gs://ccle_bams/wes/G41809/NCI-H2077/current/NCI-H2077.bam',\n",
    " 'gs://ccle_bams/wes/G27206.SNU-201.1.bam',\n",
    " 'gs://ccle_bams/wes/G41763/U343/current/U343.bam',\n",
    " 'gs://ccle_bams/wes/G41787.HEK_TE.bam',\n",
    " 'gs://ccle_bams/wes/G41778.SLR20.bam',\n",
    " 'gs://ccle_bams/wes/G41771.LN-319.bam',\n",
    " 'gs://ccle_bams/wes/G28813.Hs_274.T.bam',\n",
    " 'gs://ccle_bams/wes/G28860/Hs_751.T/current/Hs_751.T.bam',\n",
    " 'gs://ccle_bams/wes/G41820/TM-87/current/TM-87.bam',\n",
    " 'gs://ccle_bams/wes/G41760/U178/current/U178.bam',\n",
    " 'gs://ccle_bams/wes/G41776/JH-ESOAD1/current/JH-ESOAD1.bam',\n",
    " 'gs://ccle_bams/wes/G41777/SLR23/current/SLR23.bam',\n",
    " 'gs://ccle_bams/wes/G35078.HDLM-2.bam',\n",
    " 'gs://ccle_bams/wes/G41765/SLR24/current/SLR24.bam',\n",
    " 'gs://ccle_bams/wes/G28885.Hs_852.T.3.bam',\n",
    " 'gs://ccle_bams/wes/G41775/A1207/current/A1207.bam',\n",
    " 'gs://ccle_bams/wes/G41796.HNT-34-2.bam',\n",
    " 'gs://ccle_bams/wes/G41770.SLR25.bam',\n",
    " 'gs://ccle_bams/wes/G27268.SK-HEP-1.1.bam',\n",
    " 'gs://ccle_bams/wes/G35070/OVKATE/current/OVKATE.bam',\n",
    " 'gs://ccle_bams/wes/G27506.RERF-LC-KJ.2.bam',\n",
    " 'gs://ccle_bams/wes/G41759/SF767/current/SF767.bam',\n",
    " 'gs://ccle_bams/wes/G41782/OELE/current/OELE.bam',\n",
    " 'gs://ccle_bams/wes/G41789/EW8/current/EW8.bam',\n",
    " 'gs://ccle_bams/wes/G35069.SNU-46.bam',\n",
    " 'gs://ccle_bams/wes/G25203.NCI-H1092.1.bam',\n",
    " 'gs://ccle_bams/wes/G41804.NCI-H2004_RT_2.bam',\n",
    " 'gs://ccle_bams/wes/G41780/SLR26/current/SLR26.bam',\n",
    " 'gs://ccle_bams/wes/G28037/KYO-1/v2/KYO-1.bam',\n",
    " 'gs://ccle_bams/wes/G41784/HMEL/current/HMEL.bam',\n",
    " 'gs://ccle_bams/wes/G41758/LN-443/current/LN-443.bam',\n",
    " 'gs://ccle_bams/wes/G35068/SNU-283/current/SNU-283.bam',\n",
    " 'gs://ccle_bams/wes/C1926/SNU-601/current/SNU-601.bam',\n",
    " 'gs://ccle_bams/wes/G41813/A427/current/A427.bam',\n",
    " 'gs://ccle_bams/wes/G41808/PC-9/current/PC-9.bam',\n",
    " 'gs://ccle_bams/wes/G28857.HuH28.bam',\n",
    " 'gs://ccle_bams/wes/G35076/NCI-H1373/current/NCI-H1373.bam',\n",
    " 'gs://ccle_bams/wes/G41761/SF172/current/SF172.bam',\n",
    " 'gs://ccle_bams/wes/G25205.NCI-H2286.1.bam',\n",
    " 'gs://ccle_bams/wes/G130264/143B_1/current/143B_1.bam',\n",
    " 'gs://ccle_bams/wes/G143832/CBAGPN/v1/CBAGPN.bam',\n",
    " 'gs://ccle_bams/wes/G106825/CHLA266_1/current/CHLA266_1.bam',\n",
    " 'gs://ccle_bams/wes/G106825/CHLA32_1/current/CHLA32_1.bam',\n",
    " 'gs://ccle_bams/wes/G106825/CHLA57_1/current/CHLA57_1.bam',\n",
    " 'gs://ccle_bams/wes/G106825/CHLA-9_1/current/CHLA-9_1.bam',\n",
    " 'gs://ccle_bams/wes/G106825/CHLA99_1/current/CHLA99_1.bam',\n",
    " 'gs://ccle_bams/wes/G130264/COV504_1/current/COV504_1.bam',\n",
    " 'gs://ccle_bams/wes/G106825/CW9019_1/current/CW9019_1.bam',\n",
    " 'gs://ccle_bams/wes/G102426/D425_1/current/D425_1.bam',\n",
    " 'gs://ccle_bams/wes/G102426/D458_1/current/D458_1.bam',\n",
    " 'gs://ccle_bams/wes/G143832/DL_/current/DL_.bam',\n",
    " 'gs://ccle_bams/wes/G93756/DL-40_1/current/DL-40_1.bam',\n",
    " 'gs://ccle_bams/wes/G106825/F5/current/F5.bam',\n",
    " 'gs://ccle_bams/wes/G91718/FEPD_1/current/FEPD_1.bam',\n",
    " 'gs://ccle_bams/wes/G28543.OCI-LY-19.1.bam',\n",
    " 'gs://ccle_bams/wes/G91718/Karpas-384_1/current/Karpas-384_1.bam',\n",
    " 'gs://ccle_bams/wes/G77557.KD_01.bam',\n",
    " 'gs://ccle_bams/wes/G91718/KHYG-1_1/current/KHYG-1_1.bam',\n",
    " 'gs://ccle_bams/wes/G131709/L82_1/current/L82_1.bam',\n",
    " 'gs://ccle_bams/wes/G77556/MON_01/current/MON_01.bam',\n",
    " 'gs://ccle_bams/wes/G26187/MONO-MAC-1/v3/MONO-MAC-1.bam',\n",
    " 'gs://ccle_bams/wes/G93756/MTA_1/current/MTA_1.bam',\n",
    " 'gs://ccle_bams/wes/G131709/My-La_1/current/My-La_1.bam',\n",
    " 'gs://ccle_bams/wes/G91718/NKL_1/current/NKL_1.bam',\n",
    " 'gs://ccle_bams/wes/G143832/OC316/current/OC316.bam',\n",
    " 'gs://ccle_bams/wes/G102426/PEDS005PTFAD_1/current/PEDS005PTFAD_1.bam',\n",
    " 'gs://ccle_bams/wes/G102426/R262_1/current/R262_1.bam',\n",
    " 'gs://ccle_bams/wes/G136933/SCMCRM2_1/current/SCMCRM2_1.bam',\n",
    " 'gs://ccle_bams/wes/G131767/SMZ-1_2/current/SMZ-1_2.bam',\n",
    " 'gs://ccle_bams/wes/G18893/TC32/current/TC32.bam',\n",
    " 'gs://ccle_bams/wes/G41786/TIG3-TD/current/TIG3-TD.bam',\n",
    " 'gs://ccle_bams/wes/G77554/TTC-1240_01/current/TTC-1240_01.bam',\n",
    " 'gs://ccle_bams/wes/G130264/127399_1/current/127399_1.bam',\n",
    " 'gs://ccle_bams/wes/G106825/SW982_1/current/SW982_1.bam',\n",
    " 'gs://ccle_bams/wes/G100662/BIN-67_1/current/BIN-67_1.bam',\n",
    " 'gs://ccle_bams/wes/G106825/CHLA15_1/current/CHLA15_1.bam',\n",
    " 'gs://ccle_bams/wes/G106825/COGN278_1/current/COGN278_1.bam',\n",
    " 'gs://ccle_bams/wes/G106825/COGN305_1/current/COGN305_1.bam',\n",
    " 'gs://ccle_bams/wes/G130264/NB1643_1/current/NB1643_1.bam',\n",
    " 'gs://ccle_bams/wes/G143832/HA1E/v1/HA1E.bam',\n",
    " 'gs://ccle_bams/wes/G130264/CME-1_1/current/CME-1_1.bam',\n",
    " 'gs://ccle_bams/wes/G134624/A431_1/v4/A431_1.bam',\n",
    " 'gs://ccle_bams/wes/G141708/C33A/current/C33A.bam',\n",
    " 'gs://ccle_bams/wes/G134624/COLO794_1/current/COLO794_1.bam',\n",
    " 'gs://ccle_bams/wes/G141708/COV413A/v2/COV413A.bam',\n",
    " 'gs://ccle_bams/wes/G141708/GIMEN/current/GIMEN.bam',\n",
    " 'gs://ccle_bams/wes/G141708/H103/v2/H103.bam',\n",
    " 'gs://ccle_bams/wes/G141708/JOPACA1/current/JOPACA1.bam',\n",
    " 'gs://ccle_bams/wes/G141708/LAN2/v2/LAN2.bam',\n",
    " 'gs://ccle_bams/wes/G141708/MS751/v2/MS751.bam',\n",
    " 'gs://ccle_bams/wes/G144159/NMB/v1/NMB.bam',\n",
    " 'gs://ccle_bams/wes/G141708/OV17R/v2/OV17R.bam',\n",
    " 'gs://ccle_bams/wes/G141708/PACADD119/current/PACADD119.bam',\n",
    " 'gs://ccle_bams/wes/G141708/PACADD135/v2/PACADD135.bam',\n",
    " 'gs://ccle_bams/wes/G144159/PACADD159/current/PACADD159.bam',\n",
    " 'gs://ccle_bams/wes/G141708/PACADD165/v2/PACADD165.bam',\n",
    " 'gs://ccle_bams/wes/G141708/PACADD188/current/PACADD188.bam',\n",
    " 'gs://ccle_bams/wes/G134624/SCLC22H_1/current/SCLC22H_1.bam',\n",
    " 'gs://ccle_bams/wes/G134624/SUM149PT_1/current/SUM149PT_1.bam',\n",
    " 'gs://ccle_bams/wes/G134624/SUM159PT_1/v4/SUM159PT_1.bam',\n",
    " 'gs://ccle_bams/wes/G134624/SUM299PE_1/current/SUM299PE_1.bam',\n",
    " 'gs://ccle_bams/wes/G144963/SW954/v2/SW954.bam',\n",
    " 'gs://ccle_bams/wes/G141708/UMUC16/current/UMUC16.bam',\n",
    " 'gs://ccle_bams/wes/G141708/UMUC5/current/UMUC5.bam',\n",
    " 'gs://ccle_bams/wes/G141708/UMUC10/current/UMUC10.bam',\n",
    " 'gs://ccle_bams/wes/G141708/UMUC11/current/UMUC11.bam',\n",
    " 'gs://ccle_bams/wes/G141708/UMUC6/v2/UMUC6.bam',\n",
    " 'gs://ccle_bams/wes/G141708/UMUC7/v2/UMUC7.bam',\n",
    " 'gs://ccle_bams/wes/G106825/TC138_1/current/TC138_1.bam',\n",
    " 'gs://ccle_bams/wes/G106825/TC205_1/current/TC205_1.bam',\n",
    " 'gs://ccle_bams/wes/G130264/PEDS092T__1/current/PEDS092T__1.bam',\n",
    " 'gs://ccle_bams/wes/G134624/C10_1/v4/C10_1.bam',\n",
    " 'gs://ccle_bams/wes/G134624/C75_1/v4/C75_1.bam',\n",
    " 'gs://ccle_bams/wes/G134624/C80_1/v4/C80_1.bam',\n",
    " 'gs://ccle_bams/wes/G134624/C99_1/current/C99_1.bam',\n",
    " 'gs://ccle_bams/wes/G144159/EGI1/v1/EGI1.bam',\n",
    " 'gs://ccle_bams/wes/G134624/ESO26_1/current/ESO26_1.bam',\n",
    " 'gs://ccle_bams/wes/G134624/FLO1_1/current/FLO1_1.bam',\n",
    " 'gs://ccle_bams/wes/G134624/HSC1_1/current/HSC1_1.bam',\n",
    " 'gs://ccle_bams/wes/G144159/KKU100/v1/KKU100.bam',\n",
    " 'gs://ccle_bams/wes/G144963/KMLS1/current/KMLS1.bam',\n",
    " 'gs://ccle_bams/wes/G134624/MCC13_1/current/MCC13_1.bam',\n",
    " 'gs://ccle_bams/wes/G134624/MCC26_1/current/MCC26_1.bam',\n",
    " 'gs://ccle_bams/wes/G134624/MERO48A_1/v4/MERO48A_1.bam',\n",
    " 'gs://ccle_bams/wes/G134624/MERO83_1/current/MERO83_1.bam',\n",
    " 'gs://ccle_bams/wes/G134624/MERO84_1/current/MERO84_1.bam',\n",
    " 'gs://ccle_bams/wes/G134624/MM386_1/v4/MM386_1.bam',\n",
    " 'gs://ccle_bams/wes/G134624/MM426_1/v4/MM426_1.bam',\n",
    " 'gs://ccle_bams/wes/G144159/NP5/v1/NP5.bam',\n",
    " 'gs://ccle_bams/wes/G144159/ONDA9/v1/ONDA9.bam',\n",
    " 'gs://ccle_bams/wes/G146853/PEO1/v2/PEO1.bam',\n",
    " 'gs://ccle_bams/wes/G134624/SEKI_1/current/SEKI_1.bam',\n",
    " 'gs://ccle_bams/wes/Getz_IBM_CellLines_Exomes_11samples_04122018/G141708/NA/SISO/v2/SISO.bam',\n",
    " 'gs://ccle_bams/wes/G146853/SKGI/v2/SKGI.bam',\n",
    " 'gs://ccle_bams/wes/G144963/U2904/current/U2904.bam',\n",
    " 'gs://ccle_bams/wes/G144965/CAL72/v2/CAL72.bam',\n",
    " 'gs://ccle_bams/wes/G116621/RHJT/current/RHJT.bam',\n",
    " 'gs://ccle_bams/wes/G136933/RD_pcDNA1_1/v2/RD_pcDNA1_1.bam',\n",
    " 'gs://ccle_bams/wes/G136933/RD_p3F__7_1/v2/RD_p3F__7_1.bam',\n",
    " 'gs://ccle_bams/wes/G136933/RD_P3F__14_1/v2/RD_P3F__14_1.bam',\n",
    " 'gs://ccle_bams/wes/G146344/ICC2/current/ICC2.bam'}"
   ]
  },
  {
   "cell_type": "code",
   "execution_count": null,
   "metadata": {},
   "outputs": [],
   "source": [
    "likely_wes= []\n",
    "for val in inRNAbutwesfolder:\n",
    "    res = os.popen('samtools view -H '+val).read()\n",
    "    if 'bwa mem' in res:\n",
    "        likely_wes.append(val)"
   ]
  },
  {
   "cell_type": "code",
   "execution_count": null,
   "metadata": {},
   "outputs": [],
   "source": [
    "likely_wes = ['gs://ccle_bams/wes/C1926/SNU-601/current/SNU-601.bam']"
   ]
  },
  {
   "cell_type": "markdown",
   "metadata": {},
   "source": [
    "we found a likely wes file and a missing sample"
   ]
  },
  {
   "cell_type": "code",
   "execution_count": null,
   "metadata": {},
   "outputs": [],
   "source": [
    "inRNAbutwesfolder_name = [i.split('/')[-1] for i in inRNAbutwesfolder]"
   ]
  },
  {
   "cell_type": "code",
   "execution_count": null,
   "metadata": {},
   "outputs": [],
   "source": [
    "!gsutil ls gs://ccle_bams/wes/**U343*.bam"
   ]
  },
  {
   "cell_type": "code",
   "execution_count": null,
   "metadata": {},
   "outputs": [],
   "source": [
    "bams = !gsutil ls gs://ccle_bams/rna/**/*SNU-601*.bam\n",
    "set(bams) - set(likelymisslab)"
   ]
  },
  {
   "cell_type": "code",
   "execution_count": null,
   "metadata": {},
   "outputs": [],
   "source": [
    "inRNAreplace =  \n",
    "{\"gs://ccle_bams/wes/G41763/U343/current/U343.bam\":\n",
    "\"gs://ccle_bams/wes/U343/current/U343.bam\",\n",
    "\"gs://ccle_bams/wes/C1926/SNU-601/current/SNU-601.bam\":\n",
    "\"gs://ccle_bams/rna/G27466.SNU-601.2.bam\"}\n",
    "\n",
    "inWESreplace = \n",
    "{'gs://ccle_bams/wes/U343/current/U343.bam':\n",
    "'gs://ccle_bams/wes/CCLE_DepMap_WES_July_Dec_2018/RP-1561/Exome/U343/v1/U343.bam'}"
   ]
  },
  {
   "cell_type": "markdown",
   "metadata": {},
   "source": [
    "## finding additional mislabbeled"
   ]
  },
  {
   "cell_type": "code",
   "execution_count": null,
   "metadata": {},
   "outputs": [],
   "source": [
    "a=5000\n",
    "i=0\n",
    "for k in names:\n",
    "    i+=1\n",
    "    if k in misclass or i<a:\n",
    "        continue\n",
    "    res = os.popen('samtools view -H '+k).read()\n",
    "    if res == '':\n",
    "        raise ValueError()\n",
    "    if 'tophat' in res or 'STAR' in res:\n",
    "        if '_bams/wes/' in k:\n",
    "            misclass[k] = res\n",
    "    elif 'bwa ' in res or 'maq' in res:\n",
    "        if '_bams/rna/' in k:\n",
    "            misclass[k] = res\n",
    "    else:\n",
    "        print res\n",
    "        raise ValueError(k)\n",
    "    print(str(i)+'\\r')"
   ]
  },
  {
   "cell_type": "code",
   "execution_count": null,
   "metadata": {},
   "outputs": [],
   "source": [
    "likelymisslab= ['gs://ccle_bams/rna/G29750/HT-1376/v1/HT-1376.bam',\n",
    " 'gs://ccle_bams/rna/G16640/BICR_16/current/BICR_16.bam',\n",
    " 'gs://ccle_bams/rna/G16640/NCI-H1734/current/NCI-H1734.bam',\n",
    " 'gs://ccle_bams/rna/C1926/HCC2935/current/HCC2935.bam',\n",
    " 'gs://ccle_bams/rna/G16640/NCI-H1693/current/NCI-H1693.bam',\n",
    " 'gs://ccle_bams/rna/C1926/NCI-H1755/current/NCI-H1755.bam',\n",
    " 'gs://ccle_bams/wes/G28054.KYSE-520.1.bam',\n",
    " 'gs://ccle_bams/rna/G29750/huH-1/v1/huH-1.bam',\n",
    " 'gs://ccle_bams/rna/C1926/SNU-283/current/SNU-283.bam',\n",
    " 'gs://ccle_bams/rna/G16640/BFTC-909/current/BFTC-909.bam',\n",
    " 'gs://ccle_bams/rna/G29750/JHOM-2B/v1/JHOM-2B.bam',\n",
    " 'gs://ccle_bams/rna/G29750/NALM-6/v1/NALM-6.bam',\n",
    " 'gs://ccle_bams/rna/G32831/HCC1599/v2/HCC1599.bam',\n",
    " 'gs://ccle_bams/rna/G16640/SNU-1197/current/SNU-1197.bam',\n",
    " 'gs://ccle_bams/rna/G16640/IST-MES2/current/IST-MES2.bam',\n",
    " 'gs://ccle_bams/rna/G16640/Caki-2/current/Caki-2.bam',\n",
    " 'gs://ccle_bams/rna/C1926/NCI-H1838/current/NCI-H1838.bam',\n",
    " 'gs://ccle_bams/rna/G29750/NCI-H1092/v1/NCI-H1092.bam',\n",
    " 'gs://ccle_bams/rna/G16640/SNU-489/current/SNU-489.bam',\n",
    " 'gs://ccle_bams/wes/G136933/RD_pcDNA1_1/v2/RD_pcDNA1_1.bam',\n",
    " 'gs://ccle_bams/rna/G29750/Hs_618.T/v2/Hs_618.T.bam',\n",
    " 'gs://ccle_bams/wes/G134624/C10_1/v4/C10_1.bam',\n",
    " 'gs://ccle_bams/rna/G16640/HCC1143/current/HCC1143.bam',\n",
    " 'gs://ccle_bams/rna/G16640/TE-9/current/TE-9.bam',\n",
    " 'gs://ccle_bams/rna/G16640/RL/current/RL.bam',\n",
    " 'gs://ccle_bams/wes/G77554/TTC-1240_01/current/TTC-1240_01.bam',\n",
    " 'gs://ccle_bams/rna/G29750/SW837/v1/SW837.bam',\n",
    " 'gs://ccle_bams/rna/G16640/LCLC-103H/current/LCLC-103H.bam',\n",
    " 'gs://ccle_bams/rna/G16640/PK-45H/current/PK-45H.bam',\n",
    " 'gs://ccle_bams/rna/G16640/Hs_766T/current/Hs_766T.bam',\n",
    " 'gs://ccle_bams/rna/G16640/NCI-H211/current/NCI-H211.bam',\n",
    " 'gs://ccle_bams/rna/G29750/WM-115/v3/WM-115.bam',\n",
    " 'gs://ccle_bams/rna/G16384/NCI-H2196/v1/NCI-H2196.bam',\n",
    " 'gs://ccle_bams/rna/G16640/LS513/current/LS513.bam',\n",
    " 'gs://ccle_bams/rna/G29750/COLO-800/v2/COLO-800.bam',\n",
    " 'gs://ccle_bams/rna/C1926/CJM/current/CJM.bam',\n",
    " 'gs://ccle_bams/rna/C1926/HCC-2279/current/HCC-2279.bam',\n",
    " 'gs://ccle_bams/rna/G16640/Panc_05.04/current/Panc_05.04.bam',\n",
    " 'gs://ccle_bams/rna/G32831/NCI-H838/v1/NCI-H838.bam',\n",
    " 'gs://ccle_bams/rna/G29750/Hs_751.T/v2/Hs_751.T.bam',\n",
    " 'gs://ccle_bams/rna/G16640/Panc_02.13/current/Panc_02.13.bam',\n",
    " 'gs://ccle_bams/rna/C1926/NCI-H1105/current/NCI-H1105.bam',\n",
    " 'gs://ccle_bams/rna/G29750/SNU-761/v1/SNU-761.bam',\n",
    " 'gs://ccle_bams/rna/G16640/KMS-18/current/KMS-18.bam',\n",
    " 'gs://ccle_bams/rna/G29750/NCI-H1666/v1/NCI-H1666.bam',\n",
    " 'gs://ccle_bams/rna/G16640/TF-1/current/TF-1.bam',\n",
    " 'gs://ccle_bams/rna/G29750/NCI-H1048/v1/NCI-H1048.bam',\n",
    " 'gs://ccle_bams/rna/G16640/Loucy/current/Loucy.bam',\n",
    " 'gs://ccle_bams/rna/G29750/HEC-265/v3/HEC-265.bam',\n",
    " 'gs://ccle_bams/rna/G16377/KYSE-410/v2/KYSE-410.bam',\n",
    " 'gs://ccle_bams/rna/G29750/U-87_MG/v1/U-87_MG.bam',\n",
    " 'gs://ccle_bams/rna/G16441/DB/v1/DB.bam',\n",
    " 'gs://ccle_bams/rna/G29750/NCI-H2087/v3/NCI-H2087.bam',\n",
    " 'gs://ccle_bams/rna/G29750/Kasumi-6/v4/Kasumi-6.bam',\n",
    " 'gs://ccle_bams/rna/G29750/KMS-34/v1/KMS-34.bam',\n",
    " 'gs://ccle_bams/rna/G16640/SKM-1/current/SKM-1.bam',\n",
    " 'gs://ccle_bams/rna/C817/EWS834/current/EWS834.bam',\n",
    " 'gs://ccle_bams/rna/G16640/SK-MEL-2/current/SK-MEL-2.bam',\n",
    " 'gs://ccle_bams/wes/G41780/SLR26/current/SLR26.bam',\n",
    " 'gs://ccle_bams/wes/G41789/EW8/current/EW8.bam',\n",
    " 'gs://ccle_bams/rna/G16640/NCI-H1792/current/NCI-H1792.bam',\n",
    " 'gs://ccle_bams/rna/G16640/MPP_89/current/MPP_89.bam',\n",
    " 'gs://ccle_bams/rna/G29750/HuCCT1/v2/HuCCT1.bam',\n",
    " 'gs://ccle_bams/rna/G16640/JHH-1/current/JHH-1.bam',\n",
    " 'gs://ccle_bams/rna/G16640/COR-L279/current/COR-L279.bam',\n",
    " 'gs://ccle_bams/wes/G28860/Hs_751.T/current/Hs_751.T.bam',\n",
    " 'gs://ccle_bams/rna/G32831/NCI-H1975/v2/NCI-H1975.bam',\n",
    " 'gs://ccle_bams/rna/G29750/MONO-MAC-1/v1/MONO-MAC-1.bam',\n",
    " 'gs://ccle_bams/rna/G29750/NCI-H2227/v1/NCI-H2227.bam',\n",
    " 'gs://ccle_bams/rna/G16640/TE_617.T/current/TE_617.T.bam',\n",
    " 'gs://ccle_bams/wes/G91718/Karpas-384_1/current/Karpas-384_1.bam',\n",
    " 'gs://ccle_bams/rna/G16640/DND-41/current/DND-41.bam',\n",
    " 'gs://ccle_bams/rna/G16640/RI-1/current/RI-1.bam',\n",
    " 'gs://ccle_bams/rna/G29750/RH-41/v3/RH-41.bam',\n",
    " 'gs://ccle_bams/rna/G16640/MEG-01/current/MEG-01.bam',\n",
    " 'gs://ccle_bams/rna/G16640/CMK/current/CMK.bam',\n",
    " 'gs://ccle_bams/rna/G29750/MDA-MB-361/v1/MDA-MB-361.bam',\n",
    " 'gs://ccle_bams/rna/G29750/Hs_616.T/v3/Hs_616.T.bam',\n",
    " 'gs://ccle_bams/wes/G35069.SNU-46.bam',\n",
    " 'gs://ccle_bams/rna/G29750/59M/v3/59M.bam',\n",
    " 'gs://ccle_bams/rna/G32831/OV56/v2/OV56.bam',\n",
    " 'gs://ccle_bams/rna/G16382/RERF-LC-MS/v2/RERF-LC-MS.bam',\n",
    " 'gs://ccle_bams/rna/G16640/Hs_939.T/current/Hs_939.T.bam',\n",
    " 'gs://ccle_bams/rna/G16350/DMS_273/v4/DMS_273.bam',\n",
    " 'gs://ccle_bams/wes/G41808/PC-9/current/PC-9.bam',\n",
    " 'gs://ccle_bams/rna/G29750/BV-173/v1/BV-173.bam',\n",
    " 'gs://ccle_bams/rna/G29750/JHUEM-7/v2/JHUEM-7.bam',\n",
    " 'gs://ccle_bams/rna/G32831/JHUEM-1/v2/JHUEM-1.bam',\n",
    " 'gs://ccle_bams/rna/G32831/ES-2/v2/ES-2.bam',\n",
    " 'gs://ccle_bams/rna/G29750/OE21/v3/OE21.bam',\n",
    " 'gs://ccle_bams/rna/G16640/IGR-37/current/IGR-37.bam',\n",
    " 'gs://ccle_bams/wes/G41782/OELE/current/OELE.bam',\n",
    " 'gs://ccle_bams/rna/G29750/KYSE-150/v1/KYSE-150.bam',\n",
    " 'gs://ccle_bams/rna/G16640/SW_1783/current/SW_1783.bam',\n",
    " 'gs://ccle_bams/rna/G16640/HT-29/current/HT-29.bam',\n",
    " 'gs://ccle_bams/rna/G29750/YD-8/v3/YD-8.bam',\n",
    " 'gs://ccle_bams/rna/C1926/NCI-H1915/current/NCI-H1915.bam',\n",
    " 'gs://ccle_bams/rna/C1926/SW480/current/SW480.bam',\n",
    " 'gs://ccle_bams/rna/G16640/HT55/current/HT55.bam',\n",
    " 'gs://ccle_bams/rna/G16640/U266B1/current/U266B1.bam',\n",
    " 'gs://ccle_bams/rna/G29750/L-540/v1/L-540.bam',\n",
    " 'gs://ccle_bams/rna/G16640/EFE-184/current/EFE-184.bam',\n",
    " 'gs://ccle_bams/rna/G16640/OVTOKO/current/OVTOKO.bam',\n",
    " 'gs://ccle_bams/rna/G29750/HMCB/v1/HMCB.bam',\n",
    " 'gs://ccle_bams/rna/G16640/Daudi/current/Daudi.bam',\n",
    " 'gs://ccle_bams/rna/G16640/RERF-LC-MS/current/RERF-LC-MS.bam',\n",
    " 'gs://ccle_bams/rna/G16640/NCI-H322/current/NCI-H322.bam',\n",
    " 'gs://ccle_bams/rna/G29750/LC-1F/v1/LC-1F.bam',\n",
    " 'gs://ccle_bams/rna/G29750/Caki-2/v4/Caki-2.bam',\n",
    " 'gs://ccle_bams/rna/G29750/BHT-101/v2/BHT-101.bam',\n",
    " 'gs://ccle_bams/wes/G131709/L82_1/current/L82_1.bam',\n",
    " 'gs://ccle_bams/rna/G16640/Li-7/current/Li-7.bam',\n",
    " 'gs://ccle_bams/rna/G29750/KP-3/v1/KP-3.bam',\n",
    " 'gs://ccle_bams/rna/G16640/PA-TU-8988S/current/PA-TU-8988S.bam',\n",
    " 'gs://ccle_bams/rna/G29750/NCI-H1975/v3/NCI-H1975.bam',\n",
    " 'gs://ccle_bams/rna/G29750/J82/v2/J82.bam',\n",
    " 'gs://ccle_bams/rna/G29750/8-MG-BA/v1/8-MG-BA.bam',\n",
    " 'gs://ccle_bams/rna/G29750/SNU-423/v2/SNU-423.bam',\n",
    " 'gs://ccle_bams/rna/C1926/SNU-1040/current/SNU-1040.bam',\n",
    " 'gs://ccle_bams/wes/G27492.SNU-719.2.bam',\n",
    " 'gs://ccle_bams/rna/G29750/NCI-H2286/v2/NCI-H2286.bam',\n",
    " 'gs://ccle_bams/rna/G16640/A-673/current/A-673.bam',\n",
    " 'gs://ccle_bams/rna/G29750/TF-1/v2/TF-1.bam',\n",
    " 'gs://ccle_bams/rna/G16640/SK-N-DZ/current/SK-N-DZ.bam',\n",
    " 'gs://ccle_bams/rna/G29750/LCLC-103H/v1/LCLC-103H.bam',\n",
    " 'gs://ccle_bams/rna/C1926/SNU-1066/current/SNU-1066.bam',\n",
    " 'gs://ccle_bams/rna/G29750/CFPAC-1/v1/CFPAC-1.bam',\n",
    " 'gs://ccle_bams/rna/G16640/CADO-ES1/current/CADO-ES1.bam',\n",
    " 'gs://ccle_bams/rna/G29750/NCI-H460/v2/NCI-H460.bam',\n",
    " 'gs://ccle_bams/wes/G27275.TE-9.1.bam',\n",
    " 'gs://ccle_bams/rna/G16640/SU-DHL-6/current/SU-DHL-6.bam',\n",
    " 'gs://ccle_bams/rna/G16640/Hs_281.T/current/Hs_281.T.bam',\n",
    " 'gs://ccle_bams/rna/G29750/Loucy/v1/Loucy.bam',\n",
    " 'gs://ccle_bams/wes/G41758/LN-443/current/LN-443.bam',\n",
    " 'gs://ccle_bams/rna/G16640/SNU-C5/current/SNU-C5.bam',\n",
    " 'gs://ccle_bams/rna/G29750/GCT/v1/GCT.bam',\n",
    " 'gs://ccle_bams/rna/G29750/SF268/v2/SF268.bam',\n",
    " 'gs://ccle_bams/rna/G29750/IPC-298/v1/IPC-298.bam',\n",
    " 'gs://ccle_bams/rna/G29750/NCI-H747/v2/NCI-H747.bam',\n",
    " 'gs://ccle_bams/rna/G29750/ONCO-DG-1/v2/ONCO-DG-1.bam',\n",
    " 'gs://ccle_bams/rna/G16450/NUGC-3/v1/NUGC-3.bam',\n",
    " 'gs://ccle_bams/rna/G29750/NCI-H69/v1/NCI-H69.bam',\n",
    " 'gs://ccle_bams/rna/G16640/Pfeiffer/current/Pfeiffer.bam',\n",
    " 'gs://ccle_bams/rna/G16640/G-361/current/G-361.bam',\n",
    " 'gs://ccle_bams/rna/G29750/NCI-H1355/v3/NCI-H1355.bam',\n",
    " 'gs://ccle_bams/rna/G16640/253J/current/253J.bam',\n",
    " 'gs://ccle_bams/wes/G30554.KASUMI-1.1.bam',\n",
    " 'gs://ccle_bams/rna/G16640/SNU-878/current/SNU-878.bam',\n",
    " 'gs://ccle_bams/wes/G35078.HDLM-2.bam',\n",
    " 'gs://ccle_bams/rna/G16420/MFE-296/v1/MFE-296.bam',\n",
    " 'gs://ccle_bams/rna/C1926/LU65/current/LU65.bam',\n",
    " 'gs://ccle_bams/rna/G16640/Mino/current/Mino.bam',\n",
    " 'gs://ccle_bams/rna/G16640/HEC-108/current/HEC-108.bam',\n",
    " 'gs://ccle_bams/rna/G29750/COLO-783/v4/COLO-783.bam',\n",
    " 'gs://ccle_bams/rna/G16640/Hs_742.T/current/Hs_742.T.bam',\n",
    " 'gs://ccle_bams/wes/G106825/CHLA99_1/current/CHLA99_1.bam',\n",
    " 'gs://ccle_bams/rna/G32831/HPAC/v2/HPAC.bam',\n",
    " 'gs://ccle_bams/rna/G16485/T24/v1/T24.bam',\n",
    " 'gs://ccle_bams/rna/G29750/SNU-308/v2/SNU-308.bam',\n",
    " 'gs://ccle_bams/wes/G116621/RHJT/current/RHJT.bam',\n",
    " 'gs://ccle_bams/wes/G136933/RD_p3F__7_1/v2/RD_p3F__7_1.bam',\n",
    " 'gs://ccle_bams/rna/G16640/SNU-1196/current/SNU-1196.bam',\n",
    " 'gs://ccle_bams/rna/G29750/MOLT-16/v1/MOLT-16.bam',\n",
    " 'gs://ccle_bams/rna/C1926/HCC-1588/current/HCC-1588.bam',\n",
    " 'gs://ccle_bams/rna/G16640/NCI-H1385/current/NCI-H1385.bam',\n",
    " 'gs://ccle_bams/rna/G16640/ESS-1/current/ESS-1.bam',\n",
    " 'gs://ccle_bams/wes/G141708/UMUC5/current/UMUC5.bam',\n",
    " 'gs://ccle_bams/rna/G16640/GMS-10/current/GMS-10.bam',\n",
    " 'gs://ccle_bams/rna/G29750/OAW42/v2/OAW42.bam',\n",
    " 'gs://ccle_bams/rna/G29750/IST-MES2/v3/IST-MES2.bam',\n",
    " 'gs://ccle_bams/rna/G16640/DMS_53/current/DMS_53.bam',\n",
    " 'gs://ccle_bams/rna/G32831/NCI-H358/v1/NCI-H358.bam',\n",
    " 'gs://ccle_bams/rna/G29750/COR-L88/v2/COR-L88.bam',\n",
    " 'gs://ccle_bams/rna/G16640/L-363/current/L-363.bam',\n",
    " 'gs://ccle_bams/wes/G134624/FLO1_1/current/FLO1_1.bam',\n",
    " 'gs://ccle_bams/rna/G29750/NCI-H2081/v3/NCI-H2081.bam',\n",
    " 'gs://ccle_bams/wes/G26259.AML-193.2.bam',\n",
    " 'gs://ccle_bams/rna/G32831/RMG-I/v2/RMG-I.bam',\n",
    " 'gs://ccle_bams/rna/G16640/Hs_852.T/current/Hs_852.T.bam',\n",
    " 'gs://ccle_bams/rna/G16640/HCC-78/current/HCC-78.bam',\n",
    " 'gs://ccle_bams/rna/G32831/NCI-H1703/v3/NCI-H1703.bam',\n",
    " 'gs://ccle_bams/rna/G29750/CMK/v4/CMK.bam',\n",
    " 'gs://ccle_bams/rna/G16640/MKN74/current/MKN74.bam',\n",
    " 'gs://ccle_bams/rna/G16365/HEL_92.1.7/v1/HEL_92.1.7.bam',\n",
    " 'gs://ccle_bams/rna/G29750/HCC4006/v3/HCC4006.bam',\n",
    " 'gs://ccle_bams/rna/G16640/SU-DHL-1/current/SU-DHL-1.bam',\n",
    " 'gs://ccle_bams/rna/G29750/NB-1/v2/NB-1.bam',\n",
    " 'gs://ccle_bams/wes/G106825/SW982_1/current/SW982_1.bam',\n",
    " 'gs://ccle_bams/rna/G16640/HARA/current/HARA.bam',\n",
    " 'gs://ccle_bams/rna/G16640/RVH-421/current/RVH-421.bam',\n",
    " 'gs://ccle_bams/rna/G16640/HCC70/current/HCC70.bam',\n",
    " 'gs://ccle_bams/wes/G91718/OCILY12_1/current/OCILY12_1.bam',\n",
    " 'gs://ccle_bams/rna/G16640/NCI-H358/current/NCI-H358.bam',\n",
    " 'gs://ccle_bams/rna/G16640/NCI-H1623/current/NCI-H1623.bam',\n",
    " 'gs://ccle_bams/rna/G16640/Reh/current/Reh.bam',\n",
    " 'gs://ccle_bams/rna/G29750/U-118_MG/v2/U-118_MG.bam',\n",
    " 'gs://ccle_bams/rna/G16362/23132_87/v2/23132_87.bam',\n",
    " 'gs://ccle_bams/rna/G29750/253J-BV/v1/253J-BV.bam',\n",
    " 'gs://ccle_bams/rna/G16640/CAL-85-1/current/CAL-85-1.bam',\n",
    " 'gs://ccle_bams/wes/G41803/HeLa/current/HeLa.bam',\n",
    " 'gs://ccle_bams/rna/C1926/SW403/current/SW403.bam',\n",
    " 'gs://ccle_bams/rna/G16640/JK-1/current/JK-1.bam',\n",
    " 'gs://ccle_bams/rna/G16640/NCI-H1930/current/NCI-H1930.bam',\n",
    " 'gs://ccle_bams/rna/G16640/UACC-893/current/UACC-893.bam',\n",
    " 'gs://ccle_bams/rna/G16640/NCI-H69/current/NCI-H69.bam',\n",
    " 'gs://ccle_bams/rna/G32831/NCI-H460/v2/NCI-H460.bam',\n",
    " 'gs://ccle_bams/rna/G29750/Hs_888.T/v1/Hs_888.T.bam',\n",
    " 'gs://ccle_bams/rna/G16640/NCI-H2106/current/NCI-H2106.bam',\n",
    " 'gs://ccle_bams/rna/G32831/KYM-1/v2/KYM-1.bam',\n",
    " 'gs://ccle_bams/rna/C1926/KE-39/current/KE-39.bam',\n",
    " 'gs://ccle_bams/rna/G29750/JHOS-2/v4/JHOS-2.bam',\n",
    " 'gs://ccle_bams/rna/G29750/SK-N-SH/v2/SK-N-SH.bam',\n",
    " 'gs://ccle_bams/rna/G16640/AML-193/current/AML-193.bam',\n",
    " 'gs://ccle_bams/rna/G16401/NCI-H1876/v1/NCI-H1876.bam',\n",
    " 'gs://ccle_bams/rna/G16640/MONO-MAC-6/current/MONO-MAC-6.bam',\n",
    " 'gs://ccle_bams/rna/G16460/NCI-N87/v1/NCI-N87.bam',\n",
    " 'gs://ccle_bams/rna/G29750/SNB75/v2/SNB75.bam',\n",
    " 'gs://ccle_bams/rna/G16640/HT-144/current/HT-144.bam',\n",
    " 'gs://ccle_bams/rna/G29750/PA-TU-8988S/v2/PA-TU-8988S.bam',\n",
    " 'gs://ccle_bams/rna/G16482/FaDu/v1/FaDu.bam',\n",
    " 'gs://ccle_bams/rna/G29750/MDA-MB-157/v2/MDA-MB-157.bam',\n",
    " 'gs://ccle_bams/wes/G106825/F5/current/F5.bam',\n",
    " 'gs://ccle_bams/rna/G16640/Hs_870.T/current/Hs_870.T.bam',\n",
    " 'gs://ccle_bams/rna/G29750/NCI-H1339/v2/NCI-H1339.bam',\n",
    " 'gs://ccle_bams/rna/G32831/LAMA-84/v1/LAMA-84.bam',\n",
    " 'gs://ccle_bams/rna/C1926/NCI-H2009/current/NCI-H2009.bam',\n",
    " 'gs://ccle_bams/rna/G29750/A101D/v1/A101D.bam',\n",
    " 'gs://ccle_bams/rna/G16640/Panc_08.13/current/Panc_08.13.bam',\n",
    " 'gs://ccle_bams/rna/G29750/NCO2/v2/NCO2.bam',\n",
    " 'gs://ccle_bams/rna/G29750/EFO-27/v3/EFO-27.bam',\n",
    " 'gs://ccle_bams/rna/C1926/NCI-H854/current/NCI-H854.bam',\n",
    " 'gs://ccle_bams/rna/C1926/SNU-216/current/SNU-216.bam',\n",
    " 'gs://ccle_bams/wes/G106825/TC205_1/current/TC205_1.bam',\n",
    " 'gs://ccle_bams/rna/G16640/DMS_273/current/DMS_273.bam',\n",
    " 'gs://ccle_bams/rna/G16388/NCI-H2081/v1/NCI-H2081.bam',\n",
    " 'gs://ccle_bams/rna/G32831/SW_1783/v1/SW_1783.bam',\n",
    " 'gs://ccle_bams/rna/G16640/JJN-3/current/JJN-3.bam',\n",
    " 'gs://ccle_bams/rna/G32831/SNU-182/v1/SNU-182.bam',\n",
    " 'gs://ccle_bams/rna/G29750/NCI-H196/v2/NCI-H196.bam',\n",
    " 'gs://ccle_bams/rna/G16640/Calu-6/current/Calu-6.bam',\n",
    " 'gs://ccle_bams/rna/G16404/NCI-H1650/v1/NCI-H1650.bam',\n",
    " 'gs://ccle_bams/rna/G29750/HCC1187/v2/HCC1187.bam',\n",
    " 'gs://ccle_bams/wes/G146344/ICC2/current/ICC2.bam',\n",
    " 'gs://ccle_bams/wes/G28824.HEC-265.3.bam',\n",
    " 'gs://ccle_bams/rna/G29750/OVCAR-8/v1/OVCAR-8.bam',\n",
    " 'gs://ccle_bams/rna/C1926/NCI-H23/current/NCI-H23.bam',\n",
    " 'gs://ccle_bams/rna/G16640/MJ/current/MJ.bam',\n",
    " 'gs://ccle_bams/rna/G29750/KURAMOCHI/v1/KURAMOCHI.bam',\n",
    " 'gs://ccle_bams/rna/G29750/TE-5/v1/TE-5.bam',\n",
    " 'gs://ccle_bams/rna/G16640/MDST8/current/MDST8.bam',\n",
    " 'gs://ccle_bams/rna/G16640/RERF-GC-1B/current/RERF-GC-1B.bam',\n",
    " 'gs://ccle_bams/rna/G29750/HCC202/v1/HCC202.bam',\n",
    " 'gs://ccle_bams/rna/G32831/OAW42/v2/OAW42.bam',\n",
    " 'gs://ccle_bams/rna/G16640/NCI-H226/current/NCI-H226.bam',\n",
    " 'gs://ccle_bams/rna/G29750/YKG1/v1/YKG1.bam',\n",
    " 'gs://ccle_bams/rna/G29750/SW1463/v2/SW1463.bam',\n",
    " 'gs://ccle_bams/rna/G16640/Ki-JK/current/Ki-JK.bam',\n",
    " 'gs://ccle_bams/rna/G29750/COV504/v2/COV504.bam',\n",
    " 'gs://ccle_bams/rna/G16640/SEM/current/SEM.bam',\n",
    " 'gs://ccle_bams/rna/G29750/SW_1573/v2/SW_1573.bam',\n",
    " 'gs://ccle_bams/rna/G16440/MKN74/v1/MKN74.bam',\n",
    " 'gs://ccle_bams/rna/G29750/HPB-ALL/v2/HPB-ALL.bam',\n",
    " 'gs://ccle_bams/rna/G29750/NCI-H1869/v3/NCI-H1869.bam',\n",
    " 'gs://ccle_bams/rna/G16640/COLO_741/current/COLO_741.bam',\n",
    " 'gs://ccle_bams/wes/G134624/SUM159PT_1/v4/SUM159PT_1.bam',\n",
    " 'gs://ccle_bams/rna/C1926/Hs_737.T/current/Hs_737.T.bam',\n",
    " 'gs://ccle_bams/rna/G29750/OE19/v2/OE19.bam',\n",
    " 'gs://ccle_bams/rna/C817/TC-32/v3/TC-32.bam',\n",
    " 'gs://ccle_bams/wes/G141708/COV413A/v2/COV413A.bam',\n",
    " 'gs://ccle_bams/rna/C1926/ECC10/current/ECC10.bam',\n",
    " 'gs://ccle_bams/rna/G29750/8505C/v1/8505C.bam',\n",
    " 'gs://ccle_bams/rna/C1926/MHH-ES-1/current/MHH-ES-1.bam',\n",
    " 'gs://ccle_bams/wes/G144965/CAL72/v2/CAL72.bam',\n",
    " 'gs://ccle_bams/rna/G29750/HEC-151/v4/HEC-151.bam',\n",
    " 'gs://ccle_bams/rna/G29750/MDST8/v2/MDST8.bam',\n",
    " 'gs://ccle_bams/rna/G16640/IGR-39/current/IGR-39.bam',\n",
    " 'gs://ccle_bams/rna/G29750/SW_780/v1/SW_780.bam',\n",
    " 'gs://ccle_bams/rna/G32831/AN3_CA/v2/AN3_CA.bam',\n",
    " 'gs://ccle_bams/rna/G16640/Hs_578T/current/Hs_578T.bam',\n",
    " 'gs://ccle_bams/rna/C1926/IA-LM/current/IA-LM.bam',\n",
    " 'gs://ccle_bams/rna/G29750/SK-MES-1/v2/SK-MES-1.bam',\n",
    " 'gs://ccle_bams/wes/G141708/CASKI/v3/CASKI.bam',\n",
    " 'gs://ccle_bams/rna/C1926/NCI-H2291/current/NCI-H2291.bam',\n",
    " 'gs://ccle_bams/rna/G16640/NCI-H727/current/NCI-H727.bam',\n",
    " 'gs://ccle_bams/rna/G16640/DMS_114/current/DMS_114.bam',\n",
    " 'gs://ccle_bams/rna/G16640/BT-474/current/BT-474.bam',\n",
    " 'gs://ccle_bams/rna/G16640/MOLT-13/current/MOLT-13.bam',\n",
    " 'gs://ccle_bams/rna/G16640/SK-MEL-24/current/SK-MEL-24.bam',\n",
    " 'gs://ccle_bams/rna/G16640/ONS-76/current/ONS-76.bam',\n",
    " 'gs://ccle_bams/rna/G29750/KYSE-410/v1/KYSE-410.bam',\n",
    " 'gs://ccle_bams/rna/G29750/KS-1/v1/KS-1.bam',\n",
    " 'gs://ccle_bams/rna/G29750/CAS-1/v1/CAS-1.bam',\n",
    " 'gs://ccle_bams/rna/G32831/CAL-51/v1/CAL-51.bam',\n",
    " 'gs://ccle_bams/rna/G16640/OCI-AML5/current/OCI-AML5.bam',\n",
    " 'gs://ccle_bams/wes/G144963/U2904/current/U2904.bam',\n",
    " 'gs://ccle_bams/rna/G16640/SW48/current/SW48.bam',\n",
    " 'gs://ccle_bams/rna/G29750/KM12/v1/KM12.bam',\n",
    " 'gs://ccle_bams/rna/G16640/WSU-DLCL2/current/WSU-DLCL2.bam',\n",
    " 'gs://ccle_bams/rna/G29750/COLO-320/v2/COLO-320.bam',\n",
    " 'gs://ccle_bams/rna/G29750/PSN1/v1/PSN1.bam',\n",
    " 'gs://ccle_bams/rna/G16640/Detroit_562/current/Detroit_562.bam',\n",
    " 'gs://ccle_bams/rna/G16640/NCI-H2286/current/NCI-H2286.bam',\n",
    " 'gs://ccle_bams/rna/G29750/HMC-1-8/v2/HMC-1-8.bam',\n",
    " 'gs://ccle_bams/rna/G29750/HLF/v2/HLF.bam',\n",
    " 'gs://ccle_bams/wes/G144159/NP5/v1/NP5.bam',\n",
    " 'gs://ccle_bams/rna/G29750/KYSE-30/v2/KYSE-30.bam',\n",
    " 'gs://ccle_bams/rna/G16640/GAMG/current/GAMG.bam',\n",
    " 'gs://ccle_bams/rna/G16425/HCT-15/v1/HCT-15.bam',\n",
    " 'gs://ccle_bams/rna/G32831/HT-1376/v2/HT-1376.bam',\n",
    " 'gs://ccle_bams/rna/G16640/Panc_03.27/current/Panc_03.27.bam',\n",
    " 'gs://ccle_bams/rna/G32831/MFE-319/v2/MFE-319.bam',\n",
    " 'gs://ccle_bams/rna/C1926/ACC-MESO-1/current/ACC-MESO-1.bam',\n",
    " 'gs://ccle_bams/rna/G16640/KURAMOCHI/current/KURAMOCHI.bam',\n",
    " 'gs://ccle_bams/rna/G29750/BxPC-3/v1/BxPC-3.bam',\n",
    " 'gs://ccle_bams/rna/G29750/KMS-11/v3/KMS-11.bam',\n",
    " 'gs://ccle_bams/rna/G16438/5637/v1/5637.bam',\n",
    " 'gs://ccle_bams/rna/G32831/ZR-75-1/v1/ZR-75-1.bam',\n",
    " 'gs://ccle_bams/wes/G41768/SLR21/current/SLR21.bam',\n",
    " 'gs://ccle_bams/rna/G32831/LN-18/v2/LN-18.bam',\n",
    " 'gs://ccle_bams/rna/G29750/OVTOKO/v5/OVTOKO.bam',\n",
    " 'gs://ccle_bams/rna/G16640/TUHR14TKB/current/TUHR14TKB.bam',\n",
    " 'gs://ccle_bams/wes/G106825/CHLA15_1/current/CHLA15_1.bam',\n",
    " 'gs://ccle_bams/wes/G28885.Hs_852.T.3.bam',\n",
    " 'gs://ccle_bams/rna/G29750/SNU-387/v3/SNU-387.bam',\n",
    " 'gs://ccle_bams/rna/C1926/NCI-H1581/current/NCI-H1581.bam',\n",
    " 'gs://ccle_bams/rna/G29750/MDA-MB-231/v2/MDA-MB-231.bam',\n",
    " 'gs://ccle_bams/rna/G16640/MOLM-6/current/MOLM-6.bam',\n",
    " 'gs://ccle_bams/wes/G41761/SF172/current/SF172.bam',\n",
    " 'gs://ccle_bams/rna/G16640/CA46/current/CA46.bam',\n",
    " 'gs://ccle_bams/rna/G29750/JHH-4/v1/JHH-4.bam',\n",
    " 'gs://ccle_bams/rna/G16640/MHH-CALL-4/current/MHH-CALL-4.bam',\n",
    " 'gs://ccle_bams/rna/C1926/NCI-H727/current/NCI-H727.bam',\n",
    " 'gs://ccle_bams/rna/G16640/U-BLC1/current/U-BLC1.bam',\n",
    " 'gs://ccle_bams/rna/G16640/SU.86.86/current/SU.86.86.bam',\n",
    " 'gs://ccle_bams/rna/G29750/TYK-nu/v2/TYK-nu.bam',\n",
    " 'gs://ccle_bams/rna/G32831/HCC1428/v1/HCC1428.bam',\n",
    " 'gs://ccle_bams/wes/G143832/CBAGPN/v1/CBAGPN.bam',\n",
    " 'gs://ccle_bams/rna/G16640/HCC827/current/HCC827.bam',\n",
    " 'gs://ccle_bams/wes/G141708/OV17R/v2/OV17R.bam',\n",
    " 'gs://ccle_bams/rna/G32831/COLO_829/v1/COLO_829.bam',\n",
    " 'gs://ccle_bams/rna/G16640/SK-N-FI/current/SK-N-FI.bam',\n",
    " 'gs://ccle_bams/wes/G146853/PEO1/v2/PEO1.bam',\n",
    " 'gs://ccle_bams/rna/G16640/SNU-423/current/SNU-423.bam',\n",
    " 'gs://ccle_bams/rna/G48942/PK-1/current/PK-1.bam',\n",
    " 'gs://ccle_bams/rna/C1926/SNU-61/current/SNU-61.bam',\n",
    " 'gs://ccle_bams/rna/G32831/MFE-280/v1/MFE-280.bam',\n",
    " 'gs://ccle_bams/wes/RP-1561/Exome/NOZ/current/NOZ.bam',\n",
    " 'gs://ccle_bams/rna/G16437/SK-MEL-30/v1/SK-MEL-30.bam',\n",
    " 'gs://ccle_bams/rna/G29750/SNU-201/v4/SNU-201.bam',\n",
    " 'gs://ccle_bams/rna/G16640/Caov-3/current/Caov-3.bam',\n",
    " 'gs://ccle_bams/rna/G29750/NCI-H889/v2/NCI-H889.bam',\n",
    " 'gs://ccle_bams/rna/C1926/SNU-175/current/SNU-175.bam',\n",
    " 'gs://ccle_bams/wes/G141708/H103/v2/H103.bam',\n",
    " 'gs://ccle_bams/rna/G32831/G-402/v2/G-402.bam',\n",
    " 'gs://ccle_bams/rna/G29750/BICR_18/v1/BICR_18.bam',\n",
    " 'gs://ccle_bams/rna/G29750/NCI-H1648/v1/NCI-H1648.bam',\n",
    " 'gs://ccle_bams/wes/G41716.IA-LM.5.bam',\n",
    " 'gs://ccle_bams/rna/G16640/Kasumi-6/current/Kasumi-6.bam',\n",
    " 'gs://ccle_bams/rna/G29750/COLO_668/v5/COLO_668.bam',\n",
    " 'gs://ccle_bams/rna/C1926/NCI-H1563/current/NCI-H1563.bam',\n",
    " 'gs://ccle_bams/rna/G29750/SNU-685/v3/SNU-685.bam',\n",
    " 'gs://ccle_bams/rna/G16640/NCI-H1395/current/NCI-H1395.bam',\n",
    " 'gs://ccle_bams/rna/G29750/LS513/v2/LS513.bam',\n",
    " 'gs://ccle_bams/rna/G29750/DBTRG-05MG/v1/DBTRG-05MG.bam',\n",
    " 'gs://ccle_bams/rna/C1926/SNU-5/current/SNU-5.bam',\n",
    " 'gs://ccle_bams/rna/G29750/Hs_604.T/v3/Hs_604.T.bam',\n",
    " 'gs://ccle_bams/rna/G29750/RPMI-8402/v2/RPMI-8402.bam',\n",
    " 'gs://ccle_bams/rna/G29750/SNU-478/v2/SNU-478.bam',\n",
    " 'gs://ccle_bams/rna/G16640/PA-TU-8988T/current/PA-TU-8988T.bam',\n",
    " 'gs://ccle_bams/rna/G29750/HEC-108/v3/HEC-108.bam',\n",
    " 'gs://ccle_bams/rna/G16358/NCI-H1184/v1/NCI-H1184.bam',\n",
    " 'gs://ccle_bams/wes/G134624/C80_1/v4/C80_1.bam',\n",
    " 'gs://ccle_bams/rna/C1926/KYO-1/current/KYO-1.bam',\n",
    " 'gs://ccle_bams/rna/G29750/NCI-H292/v2/NCI-H292.bam',\n",
    " 'gs://ccle_bams/rna/G29750/UACC-62/v2/UACC-62.bam',\n",
    " 'gs://ccle_bams/rna/G16640/NCI-H660/current/NCI-H660.bam',\n",
    " 'gs://ccle_bams/rna/G29750/Hs_839.T/v2/Hs_839.T.bam',\n",
    " 'gs://ccle_bams/rna/G16640/HEC-6/current/HEC-6.bam',\n",
    " 'gs://ccle_bams/rna/G16640/SCaBER/current/SCaBER.bam',\n",
    " 'gs://ccle_bams/rna/G29750/CCF-STTG1/v3/CCF-STTG1.bam',\n",
    " 'gs://ccle_bams/rna/G16640/L-1236/current/L-1236.bam',\n",
    " 'gs://ccle_bams/rna/G16640/SK-N-MC/current/SK-N-MC.bam',\n",
    " 'gs://ccle_bams/rna/G29750/HT-144/v1/HT-144.bam',\n",
    " 'gs://ccle_bams/rna/G29750/ACC-MESO-1/v2/ACC-MESO-1.bam',\n",
    " 'gs://ccle_bams/rna/G29750/DMS_79/v2/DMS_79.bam',\n",
    " 'gs://ccle_bams/rna/G29750/NCI-H2066/v1/NCI-H2066.bam',\n",
    " 'gs://ccle_bams/wes/G106825/CHLA32_1/current/CHLA32_1.bam',\n",
    " 'gs://ccle_bams/rna/G16640/SCC-25/current/SCC-25.bam',\n",
    " 'gs://ccle_bams/rna/G29750/Hs_606.T/v3/Hs_606.T.bam',\n",
    " 'gs://ccle_bams/rna/G32831/HCC1937/v2/HCC1937.bam',\n",
    " 'gs://ccle_bams/rna/G16640/NCI-H2122/current/NCI-H2122.bam',\n",
    " 'gs://ccle_bams/rna/G16640/647-V/current/647-V.bam',\n",
    " 'gs://ccle_bams/rna/G16640/NCI-H1963/current/NCI-H1963.bam',\n",
    " 'gs://ccle_bams/rna/G29750/EHEB/v1/EHEB.bam',\n",
    " 'gs://ccle_bams/rna/G16640/SNU-1/current/SNU-1.bam',\n",
    " 'gs://ccle_bams/rna/G16640/769-P/current/769-P.bam',\n",
    " 'gs://ccle_bams/rna/G16640/SW_1353/current/SW_1353.bam',\n",
    " 'gs://ccle_bams/rna/G29750/TE-10/v1/TE-10.bam',\n",
    " 'gs://ccle_bams/rna/G16640/SR-786/current/SR-786.bam',\n",
    " 'gs://ccle_bams/rna/G29750/A2058/v2/A2058.bam',\n",
    " 'gs://ccle_bams/rna/C836/KMS-26/v2/KMS-26.bam',\n",
    " 'gs://ccle_bams/rna/G29750/SNU-1041/v3/SNU-1041.bam',\n",
    " 'gs://ccle_bams/rna/G29750/FU-OV-1/v1/FU-OV-1.bam',\n",
    " 'gs://ccle_bams/rna/G16640/KMS-26/current/KMS-26.bam',\n",
    " 'gs://ccle_bams/wes/G27206.SNU-201.1.bam',\n",
    " 'gs://ccle_bams/rna/G16640/NCI-H1299/current/NCI-H1299.bam',\n",
    " 'gs://ccle_bams/wes/G28543.OCI-LY-19.1.bam',\n",
    " 'gs://ccle_bams/rna/G16640/KS-1/current/KS-1.bam',\n",
    " 'gs://ccle_bams/rna/G32831/SNU-119/v2/SNU-119.bam',\n",
    " 'gs://ccle_bams/rna/G16640/PANC-1/current/PANC-1.bam',\n",
    " 'gs://ccle_bams/rna/G29750/HuNS1/v1/HuNS1.bam',\n",
    " 'gs://ccle_bams/wes/G91718/KHYG-1_1/current/KHYG-1_1.bam',\n",
    " 'gs://ccle_bams/rna/G16640/SNU-387/current/SNU-387.bam',\n",
    " 'gs://ccle_bams/rna/G29750/FTC-133/v2/FTC-133.bam',\n",
    " 'gs://ccle_bams/rna/G16640/SNU-1272/current/SNU-1272.bam',\n",
    " 'gs://ccle_bams/rna/G16640/GA-10/current/GA-10.bam',\n",
    " 'gs://ccle_bams/wes/G41775/A1207/current/A1207.bam',\n",
    " 'gs://ccle_bams/rna/G16640/JHOM-2B/current/JHOM-2B.bam',\n",
    " 'gs://ccle_bams/wes/G41786/TIG3-TD/current/TIG3-TD.bam',\n",
    " 'gs://ccle_bams/rna/G48942/TE-14/current/TE-14.bam',\n",
    " 'gs://ccle_bams/rna/G16640/NALM-19/current/NALM-19.bam',\n",
    " 'gs://ccle_bams/rna/G29750/Hs_294T/v3/Hs_294T.bam',\n",
    " 'gs://ccle_bams/rna/G29750/TEN/v1/TEN.bam',\n",
    " 'gs://ccle_bams/rna/G29750/U-2_OS/v1/U-2_OS.bam',\n",
    " 'gs://ccle_bams/wes/G146853/SKGI/v2/SKGI.bam',\n",
    " 'gs://ccle_bams/rna/G29750/SW_900/v1/SW_900.bam',\n",
    " 'gs://ccle_bams/rna/C1926/Hs_675.T/current/Hs_675.T.bam',\n",
    " 'gs://ccle_bams/rna/G16640/CCK-81/current/CCK-81.bam',\n",
    " 'gs://ccle_bams/rna/G29750/SNU-5/v1/SNU-5.bam',\n",
    " 'gs://ccle_bams/rna/G29750/OVKATE/v3/OVKATE.bam',\n",
    " 'gs://ccle_bams/rna/C1926/SNU-620/current/SNU-620.bam',\n",
    " 'gs://ccle_bams/rna/G16640/SNU-407/current/SNU-407.bam',\n",
    " 'gs://ccle_bams/rna/G29750/SNU-503/v3/SNU-503.bam',\n",
    " 'gs://ccle_bams/rna/G16640/SW_1271/current/SW_1271.bam',\n",
    " 'gs://ccle_bams/wes/G28813.Hs_274.T.bam',\n",
    " 'gs://ccle_bams/rna/G29750/SNU-449/v1/SNU-449.bam',\n",
    " 'gs://ccle_bams/rna/G29750/A-375/v1/A-375.bam',\n",
    " 'gs://ccle_bams/rna/G29750/OV56/v2/OV56.bam',\n",
    " 'gs://ccle_bams/rna/G32831/UACC-893/v1/UACC-893.bam',\n",
    " 'gs://ccle_bams/wes/G131709/SiHa/current/SiHa.bam',\n",
    " 'gs://ccle_bams/rna/G16640/NCI-H1703/current/NCI-H1703.bam',\n",
    " 'gs://ccle_bams/rna/G16465/G-361/v1/G-361.bam',\n",
    " 'gs://ccle_bams/rna/G16640/JMSU-1/current/JMSU-1.bam',\n",
    " 'gs://ccle_bams/rna/G29750/DM-3/v1/DM-3.bam',\n",
    " 'gs://ccle_bams/rna/G16640/TE-6/current/TE-6.bam',\n",
    " 'gs://ccle_bams/rna/G29750/LU99/v1/LU99.bam',\n",
    " 'gs://ccle_bams/rna/G16370/KYSE-180/v2/KYSE-180.bam',\n",
    " 'gs://ccle_bams/rna/G16640/L-540/current/L-540.bam',\n",
    " 'gs://ccle_bams/wes/G93756/DL-40_1/current/DL-40_1.bam',\n",
    " 'gs://ccle_bams/rna/G29750/MOLP-2/v2/MOLP-2.bam',\n",
    " 'gs://ccle_bams/rna/G29750/OE33/v2/OE33.bam',\n",
    " 'gs://ccle_bams/rna/G29750/MSTO-211H/v1/MSTO-211H.bam',\n",
    " 'gs://ccle_bams/rna/G29750/CL-11/v1/CL-11.bam',\n",
    " 'gs://ccle_bams/rna/G29750/ME-1/v3/ME-1.bam',\n",
    " 'gs://ccle_bams/rna/G16640/Capan-1/current/Capan-1.bam',\n",
    " 'gs://ccle_bams/rna/G16417/SNG-M/v1/SNG-M.bam',\n",
    " 'gs://ccle_bams/rna/G29750/NCI-H1651/v1/NCI-H1651.bam',\n",
    " 'gs://ccle_bams/rna/G16640/Hs_688_A_.T/current/Hs_688_A_.T.bam',\n",
    " 'gs://ccle_bams/rna/G29750/MIA_PaCa-2/v3/MIA_PaCa-2.bam',\n",
    " 'gs://ccle_bams/rna/G32831/CAL-120/v2/CAL-120.bam',\n",
    " 'gs://ccle_bams/rna/C1926/SNU-719/current/SNU-719.bam',\n",
    " 'gs://ccle_bams/rna/G16640/GCT/current/GCT.bam',\n",
    " 'gs://ccle_bams/rna/G16640/JHOS-4/current/JHOS-4.bam',\n",
    " 'gs://ccle_bams/rna/G16640/EJM/current/EJM.bam',\n",
    " 'gs://ccle_bams/rna/G32831/MDA-MB-134-VI/v1/MDA-MB-134r-VI.bam',\n",
    " 'gs://ccle_bams/rna/C1926/RERF-LC-KJ/current/RERF-LC-KJ.bam',\n",
    " 'gs://ccle_bams/rna/G32831/COV362/v2/COV362.bam',\n",
    " 'gs://ccle_bams/wes/G130264/127399_1/current/127399_1.bam',\n",
    " 'gs://ccle_bams/rna/G32831/HuTu_80/v4/HuTu_80.bam',\n",
    " 'gs://ccle_bams/rna/G16364/NCI-H747/v2/NCI-H747.bam',\n",
    " 'gs://ccle_bams/rna/G29750/Sq-1/v3/Sq-1.bam',\n",
    " 'gs://ccle_bams/rna/G29750/SNU-869/v1/SNU-869.bam',\n",
    " 'gs://ccle_bams/rna/G29750/A4_Fuk/v2/A4_Fuk.bam',\n",
    " 'gs://ccle_bams/rna/G16640/LUDLU-1/current/LUDLU-1.bam',\n",
    " 'gs://ccle_bams/rna/G29750/HCC-33/v3/HCC-33.bam',\n",
    " 'gs://ccle_bams/rna/G29750/TE-11/v1/TE-11.bam',\n",
    " 'gs://ccle_bams/rna/G29750/HOS/v1/HOS.bam',\n",
    " 'gs://ccle_bams/rna/G16640/Hs_888.T/current/Hs_888.T.bam',\n",
    " 'gs://ccle_bams/rna/G16445/HSC-3/v1/HSC-3.bam',\n",
    " 'gs://ccle_bams/rna/G32831/SK-MEL-24/v2/SK-MEL-24.bam',\n",
    " 'gs://ccle_bams/rna/G29750/HCC2935/v3/HCC2935.bam',\n",
    " 'gs://ccle_bams/rna/C1926/LUDLU-1/current/LUDLU-1.bam',\n",
    " 'gs://ccle_bams/rna/G29750/NALM-1/v3/NALM-1.bam',\n",
    " 'gs://ccle_bams/rna/G29750/FaDu/v1/FaDu.bam',\n",
    " 'gs://ccle_bams/rna/G16640/JHOM-1/current/JHOM-1.bam',\n",
    " 'gs://ccle_bams/rna/G16640/HCC1954/current/HCC1954.bam',\n",
    " 'gs://ccle_bams/rna/G29750/MOLT-13/v1/MOLT-13.bam',\n",
    " 'gs://ccle_bams/rna/G16640/NB-4/current/NB-4.bam',\n",
    " 'gs://ccle_bams/rna/G29750/JIMT-1/v1/JIMT-1.bam',\n",
    " 'gs://ccle_bams/rna/G29750/OS-RC-2/v1/OS-RC-2.bam',\n",
    " 'gs://ccle_bams/rna/G16640/SNU-466/current/SNU-466.bam',\n",
    " 'gs://ccle_bams/wes/G144963/KMLS1/current/KMLS1.bam',\n",
    " 'gs://ccle_bams/rna/G29750/SNU-C2A/v3/SNU-C2A.bam',\n",
    " 'gs://ccle_bams/rna/C1926/SNU-81/current/SNU-81.bam',\n",
    " 'gs://ccle_bams/rna/G16640/KNS-60/current/KNS-60.bam',\n",
    " 'gs://ccle_bams/rna/G29750/HEC-1-B/v2/HEC-1-B.bam',\n",
    " 'gs://ccle_bams/rna/G29750/GP2d/v1/GP2d.bam',\n",
    " 'gs://ccle_bams/rna/G16640/NCI-H510/current/NCI-H510.bam',\n",
    " 'gs://ccle_bams/rna/G32831/BT-474/v1/BT-474.bam',\n",
    " 'gs://ccle_bams/rna/G16640/8305C/current/8305C.bam',\n",
    " 'gs://ccle_bams/rna/G16640/ML-1/current/ML-1.bam',\n",
    " 'gs://ccle_bams/rna/G16640/VMRC-RCZ/current/VMRC-RCZ.bam',\n",
    " 'gs://ccle_bams/rna/G16640/HPAC/current/HPAC.bam',\n",
    " 'gs://ccle_bams/rna/G29750/F-36P/v1/F-36P.bam',\n",
    " 'gs://ccle_bams/rna/C1926/SK-MEL-28/current/SK-MEL-28.bam',\n",
    " 'gs://ccle_bams/rna/G16640/KYSE-510/current/KYSE-510.bam',\n",
    " 'gs://ccle_bams/rna/G16640/NCI-H508/current/NCI-H508.bam',\n",
    " 'gs://ccle_bams/rna/G29750/A549/v2/A549.bam',\n",
    " 'gs://ccle_bams/rna/G16640/PE_CA-PJ49/current/PE_CA-PJ49.bam',\n",
    " 'gs://ccle_bams/rna/G29750/SNU-601/v3/SNU-601.bam',\n",
    " 'gs://ccle_bams/rna/G16640/LU99/current/LU99.bam',\n",
    " 'gs://ccle_bams/rna/G29750/HuH28/v4/HuH28.bam',\n",
    " 'gs://ccle_bams/wes/G106825/TC138_1/current/TC138_1.bam',\n",
    " 'gs://ccle_bams/wes/G134624/MERO83_1/current/MERO83_1.bam',\n",
    " 'gs://ccle_bams/rna/G16640/Malme-3M/current/Malme-3M.bam',\n",
    " 'gs://ccle_bams/rna/G32831/COV644/v2/COV644.bam',\n",
    " 'gs://ccle_bams/rna/G16640/NCI-H1339/current/NCI-H1339.bam',\n",
    " 'gs://ccle_bams/rna/G16640/HCC1937/current/HCC1937.bam',\n",
    " 'gs://ccle_bams/rna/G16640/HuNS1/current/HuNS1.bam',\n",
    " 'gs://ccle_bams/rna/G16640/KYSE-70/current/KYSE-70.bam',\n",
    " 'gs://ccle_bams/rna/G29750/SNU-1079/v5/SNU-1079.bam',\n",
    " 'gs://ccle_bams/wes/G91718/NKL_1/current/NKL_1.bam',\n",
    " 'gs://ccle_bams/rna/C1926/NALM-19/current/NALM-19.bam',\n",
    " 'gs://ccle_bams/rna/G29750/SIG-M5/v3/SIG-M5.bam',\n",
    " 'gs://ccle_bams/rna/G29750/SW1116/v2/SW1116.bam',\n",
    " 'gs://ccle_bams/wes/G41726.MCF7.5.bam',\n",
    " 'gs://ccle_bams/rna/C1926/COLO-678/current/COLO-678.bam',\n",
    " 'gs://ccle_bams/rna/C1926/NCI-H2073/current/NCI-H2073.bam',\n",
    " 'gs://ccle_bams/rna/G29750/SK-MEL-1/v2/SK-MEL-1.bam',\n",
    " 'gs://ccle_bams/rna/G29750/SEM/v2/SEM.bam',\n",
    " 'gs://ccle_bams/rna/G16640/MKN7/current/MKN7.bam',\n",
    " 'gs://ccle_bams/rna/G32831/OE19/v2/OE19.bam',\n",
    " 'gs://ccle_bams/wes/U343/current/U343.bam',\n",
    " 'gs://ccle_bams/rna/C1926/HT55/current/HT55.bam',\n",
    " 'gs://ccle_bams/rna/G16640/KNS-62/current/KNS-62.bam',\n",
    " 'gs://ccle_bams/rna/G16640/MHH-CALL-3/current/MHH-CALL-3.bam',\n",
    " 'gs://ccle_bams/rna/G29750/LN-229/v1/LN-229.bam',\n",
    " 'gs://ccle_bams/rna/G48942/SCLC-21H/current/SCLC-21H.bam',\n",
    " 'gs://ccle_bams/wes/G18893/TC32/current/TC32.bam',\n",
    " 'gs://ccle_bams/rna/G16640/NCI-H2030/current/NCI-H2030.bam',\n",
    " 'gs://ccle_bams/rna/G29750/NCI-H358/v1/NCI-H358.bam',\n",
    " 'gs://ccle_bams/rna/C1926/SNU-520/current/SNU-520.bam',\n",
    " 'gs://ccle_bams/rna/G16640/SNU-201/current/SNU-201.bam',\n",
    " 'gs://ccle_bams/rna/G16640/PF-382/current/PF-382.bam',\n",
    " 'gs://ccle_bams/rna/G16442/EFO-27/v1/EFO-27.bam',\n",
    " 'gs://ccle_bams/rna/G16640/HEC-1-B/current/HEC-1-B.bam',\n",
    " 'gs://ccle_bams/rna/G32831/RPMI-7951/v2/RPMI-7951.bam',\n",
    " 'gs://ccle_bams/rna/G32831/A2058/v1/A2058.bam',\n",
    " 'gs://ccle_bams/rna/G29750/RL95-2/v2/RL95-2.bam',\n",
    " 'gs://ccle_bams/rna/G16640/LCLC-97TM1/current/LCLC-97TM1.bam',\n",
    " 'gs://ccle_bams/rna/G29750/MEG-01/v1/MEG-01.bam',\n",
    " 'gs://ccle_bams/rna/C1926/SNU-1197/current/SNU-1197.bam',\n",
    " 'gs://ccle_bams/rna/G16640/NCI-H1155/current/NCI-H1155.bam',\n",
    " 'gs://ccle_bams/rna/G16640/HT115/current/HT115.bam',\n",
    " 'gs://ccle_bams/rna/G29750/TT/v4/TT.bam',\n",
    " 'gs://ccle_bams/rna/G32831/HCC1419/v2/HCC1419.bam',\n",
    " 'gs://ccle_bams/rna/G29750/TGBC11TKB/v1/TGBC11TKB.bam',\n",
    " 'gs://ccle_bams/wes/G144159/NMB/v1/NMB.bam',\n",
    " 'gs://ccle_bams/wes/G134624/ESO26_1/current/ESO26_1.bam',\n",
    " 'gs://ccle_bams/rna/G29750/CL-40/v1/CL-40.bam',\n",
    " 'gs://ccle_bams/rna/G16640/SCLC-21H/current/SCLC-21H.bam',\n",
    " 'gs://ccle_bams/wes/G141708/C33A/current/C33A.bam',\n",
    " 'gs://ccle_bams/wes/G106825/COGN305_1/current/COGN305_1.bam',\n",
    " 'gs://ccle_bams/rna/G29750/KYSE-140/v1/KYSE-140.bam',\n",
    " 'gs://ccle_bams/rna/G29750/CA46/v2/CA46.bam',\n",
    " 'gs://ccle_bams/rna/G29750/NCI-H1618/v1/NCI-H1618.bam',\n",
    " 'gs://ccle_bams/rna/G32831/GP2d/v1/GP2d.bam',\n",
    " 'gs://ccle_bams/rna/C1926/NCI-H1373/current/NCI-H1373.bam',\n",
    " 'gs://ccle_bams/rna/G16640/KMRC-3/current/KMRC-3.bam',\n",
    " 'gs://ccle_bams/wes/G130264/COV504_1/current/COV504_1.bam',\n",
    " 'gs://ccle_bams/wes/G136933/SCMCRM2_1/current/SCMCRM2_1.bam',\n",
    " 'gs://ccle_bams/rna/G29750/SW_1783/v2/SW_1783.bam',\n",
    " 'gs://ccle_bams/rna/G16640/SNU-1105/current/SNU-1105.bam',\n",
    " 'gs://ccle_bams/rna/G16640/KE-39/current/KE-39.bam',\n",
    " 'gs://ccle_bams/rna/G16640/KALS-1/current/KALS-1.bam',\n",
    " 'gs://ccle_bams/wes/G77556/MON_01/current/MON_01.bam',\n",
    " 'gs://ccle_bams/rna/G16640/BFTC-905/current/BFTC-905.bam',\n",
    " 'gs://ccle_bams/rna/C817/TTC-466/current/TTC-466.bam',\n",
    " 'gs://ccle_bams/wes/G27496.SNU-216.2.bam',\n",
    " 'gs://ccle_bams/rna/G16640/NH-6/current/NH-6.bam',\n",
    " 'gs://ccle_bams/rna/G16640/MV-4-11/current/MV-4-11.bam',\n",
    " 'gs://ccle_bams/rna/G16640/DK-MG/current/DK-MG.bam',\n",
    " 'gs://ccle_bams/rna/G16387/HCC-33/v1/HCC-33.bam',\n",
    " 'gs://ccle_bams/rna/G29750/VM-CUB1/v2/VM-CUB1.bam',\n",
    " 'gs://ccle_bams/rna/G16640/A549/current/A549.bam',\n",
    " 'gs://ccle_bams/rna/G16640/J82/current/J82.bam',\n",
    " 'gs://ccle_bams/rna/G32831/OVCAR-4/v2/OVCAR-4.bam',\n",
    " 'gs://ccle_bams/rna/G16640/Hs_675.T/current/Hs_675.T.bam',\n",
    " 'gs://ccle_bams/rna/G29750/MDA-MB-415/v2/MDA-MB-415.bam',\n",
    " 'gs://ccle_bams/rna/G32831/769-P/v1/769-P.bam',\n",
    " 'gs://ccle_bams/rna/G16640/KMRC-2/current/KMRC-2.bam',\n",
    " 'gs://ccle_bams/rna/G48942/WM1799/current/WM1799.bam',\n",
    " 'gs://ccle_bams/rna/G16640/KMRC-20/current/KMRC-20.bam',\n",
    " 'gs://ccle_bams/wes/G134624/COLO794_1/current/COLO794_1.bam',\n",
    " 'gs://ccle_bams/rna/G16640/G-402/current/G-402.bam',\n",
    " 'gs://ccle_bams/wes/G134624/SCLC22H_1/current/SCLC22H_1.bam',\n",
    " 'gs://ccle_bams/rna/G29750/SNU-407/v1/SNU-407.bam',\n",
    " 'gs://ccle_bams/rna/G16640/OS-RC-2/current/OS-RC-2.bam',\n",
    " 'gs://ccle_bams/rna/G29750/SW_1990/v1/SW_1990.bam',\n",
    " 'gs://ccle_bams/rna/G16640/JHH-6/current/JHH-6.bam',\n",
    " 'gs://ccle_bams/wes/G134624/C99_1/current/C99_1.bam',\n",
    " 'gs://ccle_bams/rna/G16640/MFE-280/current/MFE-280.bam',\n",
    " 'gs://ccle_bams/rna/G16640/PK-59/current/PK-59.bam',\n",
    " 'gs://ccle_bams/rna/C1926/IST-MES2/current/IST-MES2.bam',\n",
    " 'gs://ccle_bams/rna/G16640/LN-229/current/LN-229.bam',\n",
    " 'gs://ccle_bams/rna/G32831/Calu-6/v2/Calu-6.bam',\n",
    " 'gs://ccle_bams/rna/G29750/DMS_53/v2/DMS_53.bam',\n",
    " 'gs://ccle_bams/rna/G29750/BFTC-905/v2/BFTC-905.bam',\n",
    " 'gs://ccle_bams/rna/G29750/JURL-MK1/v2/JURL-MK1.bam',\n",
    " 'gs://ccle_bams/rna/C1926/HSC-4/current/HSC-4.bam',\n",
    " 'gs://ccle_bams/rna/G16640/BCP-1/current/BCP-1.bam',\n",
    " 'gs://ccle_bams/rna/G16640/BDCM/current/BDCM.bam',\n",
    " 'gs://ccle_bams/rna/G16405/NCI-H650/v1/NCI-H650.bam',\n",
    " 'gs://ccle_bams/rna/G16640/P3HR-1/current/P3HR-1.bam',\n",
    " 'gs://ccle_bams/rna/C1926/SK-N-MC/current/SK-N-MC.bam',\n",
    " 'gs://ccle_bams/rna/G29750/DU4475/v1/DU4475.bam',\n",
    " 'gs://ccle_bams/rna/G16640/LC-1F/current/LC-1F.bam',\n",
    " 'gs://ccle_bams/rna/C1926/SNU-283/current/SNU-283.bam',\n",
    " 'gs://ccle_bams/rna/G29750/U-BLC1/v2/U-BLC1.bam',\n",
    " 'gs://ccle_bams/wes/G131709/SNU-410/current/SNU-410.bam',\n",
    " 'gs://ccle_bams/rna/G32831/HEC-1-A/v1/HEC-1-A.bam',\n",
    " 'gs://ccle_bams/rna/C836/K-562/v2/K-562.bam',\n",
    " 'gs://ccle_bams/rna/G48942/NCI-H23/current/NCI-H23.bam',\n",
    " 'gs://ccle_bams/rna/C1926/NCC-StC-K140/current/NCC-StC-K140.bam',\n",
    " 'gs://ccle_bams/rna/G29750/639-V/v1/639-V.bam',\n",
    " 'gs://ccle_bams/rna/G16640/KMM-1/current/KMM-1.bam',\n",
    " 'gs://ccle_bams/rna/G29750/NCI-H146/v1/NCI-H146.bam',\n",
    " 'gs://ccle_bams/rna/G29750/COLO_684/v1/COLO_684.bam',\n",
    " 'gs://ccle_bams/rna/G29750/OUMS-27/v2/OUMS-27.bam',\n",
    " 'gs://ccle_bams/wes/G134624/MM386_1/v4/MM386_1.bam',\n",
    " 'gs://ccle_bams/rna/G29750/AU565/v2/AU565.bam',\n",
    " 'gs://ccle_bams/rna/G16640/NCI-H1568/current/NCI-H1568.bam',\n",
    " 'gs://ccle_bams/rna/G16640/BHT-101/current/BHT-101.bam',\n",
    " 'gs://ccle_bams/rna/G29750/SK-MEL-30/v1/SK-MEL-30.bam',\n",
    " 'gs://ccle_bams/rna/G16640/NCI-H211/current/NCI-H211.bam',\n",
    " 'gs://ccle_bams/rna/G16640/OV-90/current/OV-90.bam',\n",
    " 'gs://ccle_bams/rna/G16640/SNU-899/current/SNU-899.bam',\n",
    " 'gs://ccle_bams/wes/G141708/PACADD165/v2/PACADD165.bam',\n",
    " 'gs://ccle_bams/rna/C1926/SNU-C1/current/SNU-C1.bam',\n",
    " 'gs://ccle_bams/rna/G32831/Ishikawa__Heraklio__02_ER-/v1/Ishikawa__Heraklio__02_ER-.bam',\n",
    " 'gs://ccle_bams/rna/G29750/KYSE-180/v1/KYSE-180.bam',\n",
    " 'gs://ccle_bams/rna/G16640/COR-L47/current/COR-L47.bam',\n",
    " 'gs://ccle_bams/wes/G102426/PEDS005PTFAD_1/current/PEDS005PTFAD_1.bam',\n",
    " 'gs://ccle_bams/rna/C1926/NCI-H2085/current/NCI-H2085.bam',\n",
    " 'gs://ccle_bams/rna/G29750/DMS_114/v1/DMS_114.bam',\n",
    " 'gs://ccle_bams/rna/G32831/Detroit_562/v2/Detroit_562.bam',\n",
    " 'gs://ccle_bams/rna/G16640/Hs_936.T/current/Hs_936.T.bam',\n",
    " 'gs://ccle_bams/rna/G29750/Hs_746T/v2/Hs_746T.bam',\n",
    " 'gs://ccle_bams/rna/G16383/NCI-H510/v1/NCI-H510.bam',\n",
    " 'gs://ccle_bams/rna/G16640/Set-2/current/Set-2.bam',\n",
    " 'gs://ccle_bams/rna/G29750/S-117/v2/S-117.bam',\n",
    " 'gs://ccle_bams/rna/G16640/KMS-20/current/KMS-20.bam',\n",
    " 'gs://ccle_bams/rna/G29750/G-292,_clone_A141B1/v1/G-292,_clone_A141B1.bam',\n",
    " 'gs://ccle_bams/rna/G29750/DU_145/v2/DU_145.bam',\n",
    " 'gs://ccle_bams/rna/G29750/NCI-H1792/v1/NCI-H1792.bam',\n",
    " 'gs://ccle_bams/rna/G29750/HSC-2/v1/HSC-2.bam',\n",
    " 'gs://ccle_bams/rna/G29750/D341_Med/v2/D341_Med.bam',\n",
    " 'gs://ccle_bams/rna/G29750/SK-LMS-1/v3/SK-LMS-1.bam',\n",
    " 'gs://ccle_bams/rna/G16640/EBC-1/current/EBC-1.bam',\n",
    " 'gs://ccle_bams/rna/G29750/HCC70/v1/HCC70.bam',\n",
    " 'gs://ccle_bams/rna/C1926/HCC-1195/current/HCC-1195.bam',\n",
    " 'gs://ccle_bams/rna/G32831/VM-CUB1/v2/VM-CUB1.bam',\n",
    " 'gs://ccle_bams/rna/G16640/DOHH-2/current/DOHH-2.bam',\n",
    " 'gs://ccle_bams/rna/G16640/OCI-M1/current/OCI-M1.bam',\n",
    " 'gs://ccle_bams/rna/G16355/NCI-H2170/v1/NCI-H2170.bam',\n",
    " 'gs://ccle_bams/rna/C1926/NCI-H1385/current/NCI-H1385.bam',\n",
    " 'gs://ccle_bams/rna/G29750/SH-10-TC/v3/SH-10-TC.bam',\n",
    " 'gs://ccle_bams/rna/G29750/EFE-184/v2/EFE-184.bam',\n",
    " 'gs://ccle_bams/rna/G16640/BICR_56/current/BICR_56.bam',\n",
    " 'gs://ccle_bams/wes/G41789/EW8/current/EW8.bam',\n",
    " 'gs://ccle_bams/rna/G32831/Caov-3/v2/Caov-3.bam',\n",
    " 'gs://ccle_bams/rna/G48942/SCC-4/current/SCC-4.bam',\n",
    " 'gs://ccle_bams/rna/G16640/SNU-520/current/SNU-520.bam',\n",
    " 'gs://ccle_bams/rna/Getz_IBM_CellLines_RNASeqData_1sample_09262017/C1926/NA/SW_1573/v1/SW_1573.bam',\n",
    " 'gs://ccle_bams/wes/G141708/PACADD188/current/PACADD188.bam',\n",
    " 'gs://ccle_bams/wes/G134624/SUM149PT_1/current/SUM149PT_1.bam',\n",
    " 'gs://ccle_bams/rna/G32831/SNU-407/v1/SNU-407.bam',\n",
    " 'gs://ccle_bams/rna/G16640/C32/current/C32.bam',\n",
    " 'gs://ccle_bams/wes/G144159/PACADD159/current/PACADD159.bam',\n",
    " 'gs://ccle_bams/rna/G16640/T-47D/current/T-47D.bam',\n",
    " 'gs://ccle_bams/rna/G16640/KMS-21BM/current/KMS-21BM.bam',\n",
    " 'gs://ccle_bams/rna/G16640/SNU-840/current/SNU-840.bam',\n",
    " 'gs://ccle_bams/rna/G29750/HCC-1359/v2/HCC-1359.bam',\n",
    " 'gs://ccle_bams/rna/G29750/Mino/v1/Mino.bam',\n",
    " 'gs://ccle_bams/rna/G32831/KU-19-19/v3/KU-19-19.bam',\n",
    " 'gs://ccle_bams/rna/G29750/NCI-H2405/v2/NCI-H2405.bam',\n",
    " 'gs://ccle_bams/wes/G141708/MS751/v2/MS751.bam',\n",
    " 'gs://ccle_bams/rna/G29750/HPAC/v2/HPAC.bam',\n",
    " 'gs://ccle_bams/rna/G16640/Toledo/current/Toledo.bam',\n",
    " 'gs://ccle_bams/rna/G29750/SW-1710/v1/SW-1710.bam',\n",
    " 'gs://ccle_bams/rna/G16640/HCC38/current/HCC38.bam',\n",
    " 'gs://ccle_bams/rna/G29750/TE-9/v1/TE-9.bam',\n",
    " 'gs://ccle_bams/rna/G16640/AN3_CA/current/AN3_CA.bam',\n",
    " 'gs://ccle_bams/wes/G141708/PA1/current/PA1.bam',\n",
    " 'gs://ccle_bams/rna/G29750/HuH-6/v4/HuH-6.bam',\n",
    " 'gs://ccle_bams/rna/G29750/59M/v3/59M.bam',\n",
    " 'gs://ccle_bams/rna/G48942/HCC1599/current/HCC1599.bam',\n",
    " 'gs://ccle_bams/rna/G16640/TUHR4TKB/current/TUHR4TKB.bam',\n",
    " 'gs://ccle_bams/rna/G16381/DMS_153/v1/DMS_153.bam',\n",
    " 'gs://ccle_bams/rna/G16640/EC-GI-10/current/EC-GI-10.bam',\n",
    " 'gs://ccle_bams/rna/G32831/DU4475/v1/DU4475.bam',\n",
    " 'gs://ccle_bams/rna/G16640/SNU-719/current/SNU-719.bam',\n",
    " 'gs://ccle_bams/rna/G16409/NCI-H2122/v1/NCI-H2122.bam',\n",
    " 'gs://ccle_bams/rna/G16640/LOX_IMVI/current/LOX_IMVI.bam',\n",
    " 'gs://ccle_bams/rna/G32831/JHUEM-1/v2/JHUEM-1.bam',\n",
    " 'gs://ccle_bams/wes/G25203.NCI-H1092.1.bam',\n",
    " 'gs://ccle_bams/rna/G29750/MOLM-13/v2/MOLM-13.bam',\n",
    " 'gs://ccle_bams/rna/G29750/UM-UC-1/v5/UM-UC-1.bam',\n",
    " 'gs://ccle_bams/rna/C1926/Hs_600.T/current/Hs_600.T.bam',\n",
    " 'gs://ccle_bams/rna/G29750/COLO_829/v2/COLO_829.bam',\n",
    " 'gs://ccle_bams/rna/G29750/PE_CA-PJ34__clone_C12_/v2/PE_CA-PJ34__clone_C12_.bam',\n",
    " 'gs://ccle_bams/rna/G16640/CAL-33/current/CAL-33.bam',\n",
    " 'gs://ccle_bams/rna/G29750/BL-70/v2/BL-70.bam',\n",
    " 'gs://ccle_bams/rna/C1926/CW-2/current/CW-2.bam',\n",
    " 'gs://ccle_bams/rna/G29750/PF-382/v1/PF-382.bam',\n",
    " 'gs://ccle_bams/rna/G29750/NH-6/v6/NH-6.bam',\n",
    " 'gs://ccle_bams/wes/G134624/MCC13_1/current/MCC13_1.bam',\n",
    " 'gs://ccle_bams/rna/C1926/COLO_792/current/COLO_792.bam',\n",
    " 'gs://ccle_bams/wes/G20474.Hs_746T.2.bam',\n",
    " 'gs://ccle_bams/rna/G29750/ML-1/v2/ML-1.bam',\n",
    " 'gs://ccle_bams/rna/G16640/MCAS/current/MCAS.bam',\n",
    " 'gs://ccle_bams/rna/G29750/LAMA-84/v2/LAMA-84.bam',\n",
    " 'gs://ccle_bams/rna/G32831/SCaBER/v2/SCaBER.bam',\n",
    " 'gs://ccle_bams/rna/G32831/LoVo/v1/LoVo.bam',\n",
    " 'gs://ccle_bams/rna/G16640/NCI-H146/current/NCI-H146.bam',\n",
    " 'gs://ccle_bams/rna/G16640/KYO-1/current/KYO-1.bam',\n",
    " 'gs://ccle_bams/wes/G134624/SUM299PE_1/current/SUM299PE_1.bam',\n",
    " 'gs://ccle_bams/wes/G41801.Caco-2.bam',\n",
    " 'gs://ccle_bams/rna/G29750/JHUEM-1/v2/JHUEM-1.bam',\n",
    " 'gs://ccle_bams/rna/G29750/OCI-AML3/v2/OCI-AML3.bam',\n",
    " 'gs://ccle_bams/rna/G29750/HCC-78/v2/HCC-78.bam',\n",
    " 'gs://ccle_bams/rna/G29750/YD-15/v1/YD-15.bam',\n",
    " 'gs://ccle_bams/rna/G16481/DU_145/v1/DU_145.bam',\n",
    " 'gs://ccle_bams/wes/G131709/LN-428/current/LN-428.bam',\n",
    " 'gs://ccle_bams/wes/G41770.SLR25.bam',\n",
    " 'gs://ccle_bams/rna/G16640/RL95-2/current/RL95-2.bam',\n",
    " 'gs://ccle_bams/rna/G29750/HCC-1833/v3/HCC-1833.bam',\n",
    " 'gs://ccle_bams/rna/G16459/OPM-2/v2/OPM-2.bam',\n",
    " 'gs://ccle_bams/rna/G29750/MKN1/v1/MKN1.bam',\n",
    " 'gs://ccle_bams/rna/C1926/GSU/current/GSU.bam',\n",
    " 'gs://ccle_bams/rna/G16640/KARPAS-620/current/KARPAS-620.bam',\n",
    " 'gs://ccle_bams/rna/G32831/EFM-192A/v1/EFM-192A.bam',\n",
    " 'gs://ccle_bams/rna/G16640/SNU-869/current/SNU-869.bam',\n",
    " 'gs://ccle_bams/wes/G35070/OVKATE/current/OVKATE.bam',\n",
    " 'gs://ccle_bams/wes/G102426/D458_1/current/D458_1.bam',\n",
    " 'gs://ccle_bams/wes/G35076/NCI-H1373/current/NCI-H1373.bam',\n",
    " 'gs://ccle_bams/rna/C817/EWS-502/current/EWS-502.bam',\n",
    " 'gs://ccle_bams/wes/G143832/OC316/current/OC316.bam',\n",
    " 'gs://ccle_bams/wes/G28857.HuH28.bam',\n",
    " 'gs://ccle_bams/rna/C1926/MDST8/current/MDST8.bam',\n",
    " 'gs://ccle_bams/wes/G134624/MERO48A_1/v4/MERO48A_1.bam',\n",
    " 'gs://ccle_bams/rna/G29750/697/v2/697.bam',\n",
    " 'gs://ccle_bams/rna/G16640/ZR-75-1/current/ZR-75-1.bam',\n",
    " 'gs://ccle_bams/rna/G29750/NMC-G1/v1/NMC-G1.bam',\n",
    " 'gs://ccle_bams/rna/G29750/RERF-LC-KJ/v2/RERF-LC-KJ.bam',\n",
    " 'gs://ccle_bams/wes/G106825/CHLA266_1/current/CHLA266_1.bam',\n",
    " 'gs://ccle_bams/rna/C1926/A-673/current/A-673.bam',\n",
    " 'gs://ccle_bams/wes/G106825/CHLA57_1/current/CHLA57_1.bam',\n",
    " 'gs://ccle_bams/rna/G29750/BICR_31/v3/BICR_31.bam',\n",
    " 'gs://ccle_bams/rna/G29750/Hs_578T/v2/Hs_578T.bam',\n",
    " 'gs://ccle_bams/rna/G32831/MONO-MAC-1/v2/MONO-MAC-1.bam',\n",
    " 'gs://ccle_bams/rna/G16640/HCC-1833/current/HCC-1833.bam',\n",
    " 'gs://ccle_bams/wes/G144963/SW954/v2/SW954.bam',\n",
    " 'gs://ccle_bams/rna/G29750/DEL/v3/DEL.bam',\n",
    " 'gs://ccle_bams/rna/G29750/AMO-1/v2/AMO-1.bam',\n",
    " 'gs://ccle_bams/wes/G134624/MM426_1/v4/MM426_1.bam',\n",
    " 'gs://ccle_bams/rna/G16640/OAW28/current/OAW28.bam',\n",
    " 'gs://ccle_bams/rna/G32831/GI-1/v1/GI-1.bam',\n",
    " 'gs://ccle_bams/wes/G41759/SF767/current/SF767.bam',\n",
    " 'gs://ccle_bams/rna/G16640/SNU-1077/current/SNU-1077.bam',\n",
    " 'gs://ccle_bams/rna/G29750/LUDLU-1/v1/LUDLU-1.bam',\n",
    " 'gs://ccle_bams/rna/G32831/ChaGo-K-1/v2/ChaGo-K-1.bam',\n",
    " 'gs://ccle_bams/rna/G16640/NCI-H1876/current/NCI-H1876.bam',\n",
    " 'gs://ccle_bams/rna/C1926/NCI-H441/current/NCI-H441.bam',\n",
    " 'gs://ccle_bams/rna/G16640/DOV13/current/DOV13.bam',\n",
    " 'gs://ccle_bams/rna/G16640/Hs_604.T/current/Hs_604.T.bam',\n",
    " 'gs://ccle_bams/rna/G29750/RH-30/v2/RH-30.bam',\n",
    " 'gs://ccle_bams/rna/G16427/Hep_G2/v1/Hep_G2.bam',\n",
    " 'gs://ccle_bams/rna/G29750/Raji/v2/Raji.bam',\n",
    " 'gs://ccle_bams/rna/C1926/NCI-H2347/current/NCI-H2347.bam',\n",
    " 'gs://ccle_bams/rna/G29750/VMRC-RCW/v1/VMRC-RCW.bam',\n",
    " 'gs://ccle_bams/rna/G16640/SNU-398/current/SNU-398.bam',\n",
    " 'gs://ccle_bams/rna/G29750/GSS/v1/GSS.bam',\n",
    " 'gs://ccle_bams/rna/G16360/TE-11/v1/TE-11.bam',\n",
    " 'gs://ccle_bams/rna/G29750/Hs_936.T/v2/Hs_936.T.bam',\n",
    " 'gs://ccle_bams/rna/G32831/Hs_294T/v1/Hs_294T.bam',\n",
    " 'gs://ccle_bams/rna/G29750/L3.3/v2/L3.3.bam',\n",
    " 'gs://ccle_bams/wes/G93756/MTA_1/current/MTA_1.bam',\n",
    " 'gs://ccle_bams/rna/G16640/SNU-1033/current/SNU-1033.bam',\n",
    " 'gs://ccle_bams/wes/G27270.TE-11.1.bam',\n",
    " 'gs://ccle_bams/rna/G29750/WSU-DLCL2/v3/WSU-DLCL2.bam',\n",
    " 'gs://ccle_bams/rna/G29750/NUGC-4/v2/NUGC-4.bam',\n",
    " 'gs://ccle_bams/rna/G29750/SK-BR-3/v1/SK-BR-3.bam',\n",
    " 'gs://ccle_bams/rna/G29750/NCI-H2172/v4/NCI-H2172.bam',\n",
    " 'gs://ccle_bams/rna/G29750/DK-MG/v2/DK-MG.bam',\n",
    " 'gs://ccle_bams/rna/G16640/SUP-T1/current/SUP-T1.bam',\n",
    " 'gs://ccle_bams/rna/G29750/KALS-1/v2/KALS-1.bam',\n",
    " 'gs://ccle_bams/rna/G29750/NCI-H1793/v1/NCI-H1793.bam',\n",
    " 'gs://ccle_bams/rna/G29750/HT55/v2/HT55.bam',\n",
    " 'gs://ccle_bams/rna/G29750/A2780/v2/A2780.bam',\n",
    " 'gs://ccle_bams/wes/G91718/Karpas-384_1/current/Karpas-384_1.bam',\n",
    " 'gs://ccle_bams/rna/G29750/SNU-1077/v2/SNU-1077.bam',\n",
    " 'gs://ccle_bams/rna/G29750/PCM6/v3/PCM6.bam',\n",
    " 'gs://ccle_bams/rna/G32831/MDA-MB-453/v1/MDA-MB-453.bam',\n",
    " 'gs://ccle_bams/rna/G16640/A-253/current/A-253.bam',\n",
    " 'gs://ccle_bams/wes/G141708/UMUC7/v2/UMUC7.bam',\n",
    " 'gs://ccle_bams/rna/G16398/SW480/v2/SW480.bam',\n",
    " 'gs://ccle_bams/rna/G29750/CAL-51/v1/CAL-51.bam',\n",
    " 'gs://ccle_bams/rna/G29750/Toledo/v2/Toledo.bam',\n",
    " 'gs://ccle_bams/rna/G29750/HDLM-2/v1/HDLM-2.bam',\n",
    " 'gs://ccle_bams/rna/G16640/KU-19-19/current/KU-19-19.bam',\n",
    " 'gs://ccle_bams/rna/C1926/SNU-46/current/SNU-46.bam',\n",
    " 'gs://ccle_bams/rna/C1926/NCI-H322/current/NCI-H322.bam',\n",
    " 'gs://ccle_bams/rna/C1926/SK-MEL-3/current/SK-MEL-3.bam',\n",
    " 'gs://ccle_bams/rna/G16640/NCI-H28/current/NCI-H28.bam',\n",
    " 'gs://ccle_bams/wes/G41804.NCI-H2004_RT_2.bam',\n",
    " 'gs://ccle_bams/rna/G16640/HCC-15/current/HCC-15.bam',\n",
    " 'gs://ccle_bams/rna/G16640/HT-144/current/HT-144.bam',\n",
    " 'gs://ccle_bams/rna/G29750/SCaBER/v1/SCaBER.bam',\n",
    " 'gs://ccle_bams/rna/C1926/T3M-10/current/T3M-10.bam',\n",
    " 'gs://ccle_bams/wes/G134624/MERO84_1/current/MERO84_1.bam',\n",
    " 'gs://ccle_bams/rna/G29750/SNU-1/v1/SNU-1.bam',\n",
    " 'gs://ccle_bams/rna/G16467/AGS/v2/AGS.bam',\n",
    " 'gs://ccle_bams/rna/G29750/NCI-H650/v2/NCI-H650.bam',\n",
    " 'gs://ccle_bams/rna/G29750/22Rv1/v3/22Rv1.bam',\n",
    " 'gs://ccle_bams/rna/G16640/NCI-H2291/current/NCI-H2291.bam',\n",
    " 'gs://ccle_bams/rna/C1926/NB-1/current/NB-1.bam',\n",
    " 'gs://ccle_bams/rna/G16408/NCI-H1963/v1/NCI-H1963.bam',\n",
    " 'gs://ccle_bams/rna/G16640/KMS-11/current/KMS-11.bam',\n",
    " 'gs://ccle_bams/rna/G29750/SW_1271/v3/SW_1271.bam',\n",
    " 'gs://ccle_bams/rna/G29750/HuG1-N/v1/HuG1-N.bam',\n",
    " 'gs://ccle_bams/wes/G102426/D425_1/current/D425_1.bam',\n",
    " 'gs://ccle_bams/rna/G48942/UACC-893/current/UACC-893.bam',\n",
    " 'gs://ccle_bams/rna/G29750/JVM-3/v1/JVM-3.bam',\n",
    " 'gs://ccle_bams/rna/G16400/SNU-387/v1/SNU-387.bam',\n",
    " 'gs://ccle_bams/wes/G41820/TM-87/current/TM-87.bam',\n",
    " 'gs://ccle_bams/rna/G29750/A-498/v2/A-498.bam',\n",
    " 'gs://ccle_bams/rna/G29750/KNS-62/v1/KNS-62.bam',\n",
    " 'gs://ccle_bams/rna/C1926/LCLC-97TM1/current/LCLC-97TM1.bam',\n",
    " 'gs://ccle_bams/rna/G29750/Daudi/v1/Daudi.bam',\n",
    " 'gs://ccle_bams/rna/G48942/U251-MG/current/U251-MG.bam',\n",
    " 'gs://ccle_bams/rna/G16640/HCT_116/current/HCT_116.bam',\n",
    " 'gs://ccle_bams/rna/G29750/KYM-1/v1/KYM-1.bam',\n",
    " 'gs://ccle_bams/rna/G29750/RCH-ACV/v1/RCH-ACV.bam',\n",
    " 'gs://ccle_bams/rna/G16640/Hs_939.T/current/Hs_939.T.bam',\n",
    " 'gs://ccle_bams/rna/G32831/EBC-1/v1/EBC-1.bam',\n",
    " 'gs://ccle_bams/rna/G29750/SU.86.86/v2/SU.86.86.bam',\n",
    " 'gs://ccle_bams/rna/G48942/RCC10RGB/current/RCC10RGB.bam',\n",
    " 'gs://ccle_bams/rna/G16640/NCI-H2081/current/NCI-H2081.bam',\n",
    " 'gs://ccle_bams/rna/G29750/JJN-3/v3/JJN-3.bam',\n",
    " 'gs://ccle_bams/rna/C1926/CL-11/current/CL-11.bam',\n",
    " 'gs://ccle_bams/rna/C1926/TF-1/current/TF-1.bam',\n",
    " 'gs://ccle_bams/rna/G29750/CAL-54/v1/CAL-54.bam',\n",
    " 'gs://ccle_bams/rna/G16640/MEC-1/current/MEC-1.bam',\n",
    " 'gs://ccle_bams/rna/G16640/CAL-51/current/CAL-51.bam',\n",
    " 'gs://ccle_bams/rna/G16640/HT-1376/current/HT-1376.bam',\n",
    " 'gs://ccle_bams/rna/G16428/NCI-H1092/v1/NCI-H1092.bam',\n",
    " 'gs://ccle_bams/rna/C1926/MPP_89/current/MPP_89.bam',\n",
    " 'gs://ccle_bams/rna/G29750/KYSE-450/v1/KYSE-450.bam',\n",
    " 'gs://ccle_bams/rna/G29750/P12-ICHIKAWA/v1/P12-ICHIKAWA.bam',\n",
    " 'gs://ccle_bams/rna/G29750/HT/v2/HT.bam',\n",
    " 'gs://ccle_bams/rna/G32831/MDA-MB-361/v2/MDA-MB-361.bam',\n",
    " 'gs://ccle_bams/rna/G29750/MFE-280/v1/MFE-280.bam',\n",
    " 'gs://ccle_bams/rna/G29750/CCK-81/v1/CCK-81.bam',\n",
    " 'gs://ccle_bams/wes/G131709/C8166/current/C8166.bam',\n",
    " 'gs://ccle_bams/rna/G29750/IMR-32/v1/IMR-32.bam',\n",
    " 'gs://ccle_bams/rna/G16640/SW403/current/SW403.bam',\n",
    " 'gs://ccle_bams/rna/G16640/GSS/current/GSS.bam',\n",
    " 'gs://ccle_bams/rna/G16640/SK-MEL-5/current/SK-MEL-5.bam',\n",
    " 'gs://ccle_bams/rna/G16640/SNU-620/current/SNU-620.bam',\n",
    " 'gs://ccle_bams/wes/G41686.KYSE-150.5.bam',\n",
    " 'gs://ccle_bams/rna/G29750/G-402/v2/G-402.bam',\n",
    " 'gs://ccle_bams/rna/G29750/BEN/v1/BEN.bam',\n",
    " 'gs://ccle_bams/rna/G16640/Capan-2/current/Capan-2.bam',\n",
    " 'gs://ccle_bams/rna/G29750/LMSU/v2/LMSU.bam',\n",
    " 'gs://ccle_bams/rna/G16441/DB/v1/DB.bam',\n",
    " 'gs://ccle_bams/rna/G16640/BxPC-3/current/BxPC-3.bam',\n",
    " 'gs://ccle_bams/wes/G106825/COGN278_1/current/COGN278_1.bam',\n",
    " 'gs://ccle_bams/wes/G26236.NCI-H716.2.bam',\n",
    " 'gs://ccle_bams/wes/G25205.NCI-H2286.1.bam',\n",
    " 'gs://ccle_bams/rna/G29750/SNU-245/v2/SNU-245.bam',\n",
    " 'gs://ccle_bams/rna/G29750/SU-DHL-6/v2/SU-DHL-6.bam',\n",
    " 'gs://ccle_bams/rna/G16480/NCI-H2052/v1/NCI-H2052.bam',\n",
    " 'gs://ccle_bams/rna/G32831/REC-1/v2/REC-1.bam',\n",
    " 'gs://ccle_bams/rna/G29750/NCI-H1876/v2/NCI-H1876.bam',\n",
    " 'gs://ccle_bams/rna/G29750/RD/v2/RD.bam',\n",
    " 'gs://ccle_bams/rna/G29750/COV318/v2/COV318.bam',\n",
    " 'gs://ccle_bams/rna/G16640/MM1-S/current/MM1-S.bam',\n",
    " 'gs://ccle_bams/rna/G29750/Hs_675.T/v3/Hs_675.T.bam',\n",
    " 'gs://ccle_bams/rna/C1926/HCC4006/current/HCC4006.bam',\n",
    " 'gs://ccle_bams/rna/G16640/JVM-2/current/JVM-2.bam',\n",
    " 'gs://ccle_bams/rna/G29750/253J/v2/253J.bam',\n",
    " 'gs://ccle_bams/rna/G16640/DU_145/current/DU_145.bam',\n",
    " 'gs://ccle_bams/rna/G29750/COLO_792/v1/COLO_792.bam',\n",
    " 'gs://ccle_bams/rna/G29750/SU-DHL-5/v2/SU-DHL-5.bam',\n",
    " 'gs://ccle_bams/rna/G29750/COLO-679/v1/COLO-679.bam',\n",
    " 'gs://ccle_bams/rna/G32831/QGP-1/v2/QGP-1.bam',\n",
    " 'gs://ccle_bams/rna/C1926/NCI-H2110/current/NCI-H2110.bam',\n",
    " 'gs://ccle_bams/rna/G29750/OCUM-1/v1/OCUM-1.bam',\n",
    " 'gs://ccle_bams/rna/G16640/CAL_27/current/CAL_27.bam',\n",
    " 'gs://ccle_bams/rna/G16640/MDA-MB-175-VII/current/MDA-MB-175-VII.bam',\n",
    " 'gs://ccle_bams/rna/G29750/EM-2/v4/EM-2.bam',\n",
    " 'gs://ccle_bams/rna/G29750/8305C/v1/8305C.bam',\n",
    " 'gs://ccle_bams/wes/G130264/143B_1/current/143B_1.bam',\n",
    " 'gs://ccle_bams/rna/C1926/Hs_695T/current/Hs_695T.bam',\n",
    " 'gs://ccle_bams/rna/G16640/SIMA/current/SIMA.bam',\n",
    " 'gs://ccle_bams/rna/G16640/CW-2/current/CW-2.bam',\n",
    " 'gs://ccle_bams/rna/G16640/JHH-5/current/JHH-5.bam',\n",
    " 'gs://ccle_bams/rna/G29750/JHUEM-7/v2/JHUEM-7.bam',\n",
    " 'gs://ccle_bams/rna/G48942/LS411N/current/LS411N.bam',\n",
    " 'gs://ccle_bams/wes/G141708/UMUC16/current/UMUC16.bam',\n",
    " 'gs://ccle_bams/rna/G16640/786-O/current/786-O.bam',\n",
    " 'gs://ccle_bams/rna/G16640/Hs_944.T/current/Hs_944.T.bam',\n",
    " 'gs://ccle_bams/rna/C1926/Hs_706.T/current/Hs_706.T.bam',\n",
    " 'gs://ccle_bams/rna/G32831/CAL-54/v1/CAL-54.bam',\n",
    " 'gs://ccle_bams/rna/G32831/SK-MEL-2/v2/SK-MEL-2.bam',\n",
    " 'gs://ccle_bams/rna/G29750/SR-786/v1/SR-786.bam',\n",
    " 'gs://ccle_bams/wes/G141708/PACADD119/current/PACADD119.bam',\n",
    " 'gs://ccle_bams/rna/G16640/JHOS-2/current/JHOS-2.bam',\n",
    " 'gs://ccle_bams/wes/G26187/MONO-MAC-1/v3/MONO-MAC-1.bam',\n",
    " 'gs://ccle_bams/rna/G16640/HEC-59/current/HEC-59.bam',\n",
    " 'gs://ccle_bams/rna/G29750/KE-97/v1/KE-97.bam',\n",
    " 'gs://ccle_bams/rna/G16339/U-87_MG/v1/U-87_MG.bam',\n",
    " 'gs://ccle_bams/rna/G29750/TE-8/v2/TE-8.bam',\n",
    " 'gs://ccle_bams/rna/G29750/KMM-1/v1/KMM-1.bam',\n",
    " 'gs://ccle_bams/rna/G16640/MDA_PCa_2b/current/MDA_PCa_2b.bam',\n",
    " 'gs://ccle_bams/rna/G16640/PE_CA-PJ41__clone_D2_/current/PE_CA-PJ41__clone_D2_.bam',\n",
    " 'gs://ccle_bams/rna/G16640/A101D/current/A101D.bam',\n",
    " 'gs://ccle_bams/rna/G29750/RERF-LC-Ad2/v1/RERF-LC-Ad2.bam',\n",
    " 'gs://ccle_bams/rna/G16640/BL-70/current/BL-70.bam',\n",
    " 'gs://ccle_bams/rna/C1926/KOPN-8/current/KOPN-8.bam',\n",
    " 'gs://ccle_bams/rna/G29750/SNU-1105/v1/SNU-1105.bam',\n",
    " 'gs://ccle_bams/rna/G29750/NCI-H1581/v1/NCI-H1581.bam',\n",
    " 'gs://ccle_bams/wes/G41784/HMEL/current/HMEL.bam',\n",
    " 'gs://ccle_bams/rna/G29750/T24/v2/T24.bam',\n",
    " 'gs://ccle_bams/rna/G32831/CAS-1/v1/CAS-1.bam',\n",
    " 'gs://ccle_bams/rna/G29750/SBC-5/v2/SBC-5.bam',\n",
    " 'gs://ccle_bams/rna/G32831/LS_180/v1/LS_180.bam',\n",
    " 'gs://ccle_bams/rna/G29750/Hs_821.T/v2/Hs_821.T.bam',\n",
    " 'gs://ccle_bams/rna/G29750/M-07e/v3/M-07e.bam',\n",
    " 'gs://ccle_bams/rna/G29750/NCI-H1184/v3/NCI-H1184.bam',\n",
    " 'gs://ccle_bams/rna/G16640/SK-MEL-31/current/SK-MEL-31.bam',\n",
    " 'gs://ccle_bams/rna/G16640/CHP-126/current/CHP-126.bam',\n",
    " 'gs://ccle_bams/rna/G32831/SK-LU-1/v3/SK-LU-1.bam',\n",
    " 'gs://ccle_bams/rna/G16422/NCI-H2286/v1/NCI-H2286.bam',\n",
    " 'gs://ccle_bams/wes/G136933/RD_P3F__14_1/v2/RD_P3F__14_1.bam',\n",
    " 'gs://ccle_bams/rna/G29750/MOLP-8/v2/MOLP-8.bam',\n",
    " 'gs://ccle_bams/rna/G29750/HCC1569/v1/HCC1569.bam',\n",
    " 'gs://ccle_bams/wes/G41809/NCI-H2077/current/NCI-H2077.bam',\n",
    " 'gs://ccle_bams/wes/G28844.HEL.3.bam',\n",
    " 'gs://ccle_bams/rna/G32831/KARPAS-299/v2/KARPAS-299.bam',\n",
    " 'gs://ccle_bams/rna/G29750/LXF-289/v2/LXF-289.bam',\n",
    " 'gs://ccle_bams/wes/G102426/R262_1/current/R262_1.bam',\n",
    " 'gs://ccle_bams/rna/G16640/CAL-62/current/CAL-62.bam',\n",
    " 'gs://ccle_bams/rna/G29750/Calu-6/v1/Calu-6.bam',\n",
    " 'gs://ccle_bams/rna/G29750/KMS-12-BM/v1/KMS-12-BM.bam',\n",
    " 'gs://ccle_bams/rna/G16640/MHH-ES-1/current/MHH-ES-1.bam',\n",
    " 'gs://ccle_bams/rna/G16418/NCI-H1437/v1/NCI-H1437.bam',\n",
    " 'gs://ccle_bams/rna/G16640/HCC-366/current/HCC-366.bam',\n",
    " 'gs://ccle_bams/rna/G29750/DMS_273/v1/DMS_273.bam',\n",
    " 'gs://ccle_bams/wes/G141708/GIMEN/current/GIMEN.bam',\n",
    " 'gs://ccle_bams/wes/G144159/ONDA9/v1/ONDA9.bam',\n",
    " 'gs://ccle_bams/rna/G48942/HCC1428/current/HCC1428.bam',\n",
    " 'gs://ccle_bams/rna/G29750/YAPC/v1/YAPC.bam',\n",
    " 'gs://ccle_bams/rna/G29750/BICR_16/v3/BICR_16.bam',\n",
    " 'gs://ccle_bams/rna/G29750/SNU-1196/v2/SNU-1196.bam',\n",
    " 'gs://ccle_bams/rna/C1926/NCI-H2087/current/NCI-H2087.bam',\n",
    " 'gs://ccle_bams/rna/G32831/OVK18/v2/OVK18.bam',\n",
    " 'gs://ccle_bams/rna/G32831/LS411N/v1/LS411N.bam',\n",
    " 'gs://ccle_bams/rna/C1926/Hs_698.T/current/Hs_698.T.bam',\n",
    " 'gs://ccle_bams/rna/G16457/NUGC-4/v1/NUGC-4.bam',\n",
    " 'gs://ccle_bams/rna/G29750/HCC2218/v1/HCC2218.bam',\n",
    " 'gs://ccle_bams/rna/G29750/SNU-719/v4/SNU-719.bam',\n",
    " 'gs://ccle_bams/rna/G16477/RERF-GC-1B/v1/RERF-GC-1B.bam',\n",
    " 'gs://ccle_bams/rna/G16640/U-937/current/U-937.bam',\n",
    " 'gs://ccle_bams/rna/G29750/HEC-50B/v2/HEC-50B.bam',\n",
    " 'gs://ccle_bams/rna/G16374/HCT_116/v1/HCT_116.bam',\n",
    " 'gs://ccle_bams/rna/G16640/COLO_684/current/COLO_684.bam',\n",
    " 'gs://ccle_bams/wes/G144159/KKU100/v1/KKU100.bam',\n",
    " 'gs://ccle_bams/rna/G16640/MDA-MB-435S/current/MDA-MB-435S.bam',\n",
    " 'gs://ccle_bams/rna/G32831/EOL-1/v1/EOL-1.bam',\n",
    " 'gs://ccle_bams/rna/G16640/RKO/current/RKO.bam',\n",
    " 'gs://ccle_bams/rna/G16640/SNU-5/current/SNU-5.bam',\n",
    " 'gs://ccle_bams/rna/G32831/KYSE-520/v1/KYSE-520.bam',\n",
    " 'gs://ccle_bams/rna/G29750/RVH-421/v2/RVH-421.bam',\n",
    " 'gs://ccle_bams/rna/C1926/MCAS/current/MCAS.bam',\n",
    " 'gs://ccle_bams/wes/G77557.KD_01.bam',\n",
    " 'gs://ccle_bams/wes/G134624/HSC1_1/current/HSC1_1.bam',\n",
    " 'gs://ccle_bams/rna/G29750/RI-1/v2/RI-1.bam',\n",
    " 'gs://ccle_bams/rna/G16640/NCI-H2085/current/NCI-H2085.bam',\n",
    " 'gs://ccle_bams/rna/G29750/ALL-SIL/v3/ALL-SIL.bam',\n",
    " 'gs://ccle_bams/rna/G29750/KU-19-19/v1/KU-19-19.bam',\n",
    " 'gs://ccle_bams/rna/G16640/SNU-283/current/SNU-283.bam',\n",
    " 'gs://ccle_bams/rna/G16436/U-2_OS/v1/U-2_OS.bam',\n",
    " 'gs://ccle_bams/rna/G16640/HCC1806/current/HCC1806.bam',\n",
    " 'gs://ccle_bams/wes/G130264/NB1643_1/current/NB1643_1.bam',\n",
    " 'gs://ccle_bams/rna/G16640/NCI-H2023/current/NCI-H2023.bam',\n",
    " 'gs://ccle_bams/rna/G16640/DBTRG-05MG/current/DBTRG-05MG.bam',\n",
    " 'gs://ccle_bams/rna/G16640/SNU-601/current/SNU-601.bam',\n",
    " 'gs://ccle_bams/rna/G29750/RT-112/v2/RT-112.bam',\n",
    " 'gs://ccle_bams/wes/G134624/SEKI_1/current/SEKI_1.bam',\n",
    " 'gs://ccle_bams/rna/G32831/UACC-812/v1/UACC-812.bam',\n",
    " 'gs://ccle_bams/rna/G16640/RERF-LC-Sq1/current/RERF-LC-Sq1.bam',\n",
    " 'gs://ccle_bams/wes/G27506.RERF-LC-KJ.2.bam',\n",
    " 'gs://ccle_bams/rna/G29750/NCI-H2227/v1/NCI-H2227.bam',\n",
    " 'gs://ccle_bams/rna/G29750/NCI-H1436/v1/NCI-H1436.bam',\n",
    " 'gs://ccle_bams/rna/G29750/NCI-H661/v1/NCI-H661.bam',\n",
    " 'gs://ccle_bams/rna/G16640/HCC2935/current/HCC2935.bam',\n",
    " 'gs://ccle_bams/wes/G41776/JH-ESOAD1/current/JH-ESOAD1.bam',\n",
    " 'gs://ccle_bams/rna/G16640/A-375/current/A-375.bam',\n",
    " 'gs://ccle_bams/rna/G16640/SW1417/current/SW1417.bam',\n",
    " 'gs://ccle_bams/rna/G16640/HUP-T3/current/HUP-T3.bam',\n",
    " 'gs://ccle_bams/rna/C1926/NCI-H2405/current/NCI-H2405.bam',\n",
    " 'gs://ccle_bams/wes/G41778.SLR20.bam',\n",
    " 'gs://ccle_bams/rna/G16640/CAL-12T/current/CAL-12T.bam',\n",
    " 'gs://ccle_bams/rna/G32831/MDA-MB-175-VII/v2/MDA-MB-175-VII.bam',\n",
    " 'gs://ccle_bams/rna/G29750/RMUG-S/v3/RMUG-S.bam',\n",
    " 'gs://ccle_bams/rna/G29750/Malme-3M/v5/Malme-3M.bam',\n",
    " 'gs://ccle_bams/rna/G16640/NCI-H1048/current/NCI-H1048.bam',\n",
    " 'gs://ccle_bams/rna/G32831/NCI-H23/v2/NCI-H23.bam',\n",
    " 'gs://ccle_bams/rna/G16640/MUTZ-5/current/MUTZ-5.bam',\n",
    " 'gs://ccle_bams/rna/G16375/NCI-H2029/v1/NCI-H2029.bam',\n",
    " 'gs://ccle_bams/rna/C1926/ECC12/current/ECC12.bam',\n",
    " 'gs://ccle_bams/rna/G32831/KYSE-70/v2/KYSE-70.bam',\n",
    " 'gs://ccle_bams/rna/G16640/NIH_OVCAR-3/current/NIH_OVCAR-3.bam',\n",
    " 'gs://ccle_bams/rna/G29750/Calu-1/v3/Calu-1.bam',\n",
    " 'gs://ccle_bams/rna/G29750/HCC1143/v2/HCC1143.bam',\n",
    " 'gs://ccle_bams/wes/G141708/UMUC11/current/UMUC11.bam',\n",
    " 'gs://ccle_bams/rna/G29750/U266B1/v1/U266B1.bam',\n",
    " 'gs://ccle_bams/rna/G16640/HPB-ALL/current/HPB-ALL.bam',\n",
    " 'gs://ccle_bams/rna/G32831/NCI-H1355/v1/NCI-H1355.bam',\n",
    " 'gs://ccle_bams/rna/G29750/SNU-738/v2/SNU-738.bam',\n",
    " 'gs://ccle_bams/wes/G41796.HNT-34-2.bam',\n",
    " 'gs://ccle_bams/rna/G16640/PCM6/current/PCM6.bam',\n",
    " 'gs://ccle_bams/rna/G16640/SW1116/current/SW1116.bam',\n",
    " 'gs://ccle_bams/rna/G29750/KP-2/v1/KP-2.bam',\n",
    " 'gs://ccle_bams/rna/G29750/PLC_PRF_5/v2/PLC_PRF_5.bam',\n",
    " 'gs://ccle_bams/rna/G16449/CHP-212/v2/CHP-212.bam',\n",
    " 'gs://ccle_bams/rna/G16640/HEC-1-A/current/HEC-1-A.bam',\n",
    " 'gs://ccle_bams/rna/G29750/Saos-2/v1/Saos-2.bam',\n",
    " 'gs://ccle_bams/rna/G29750/VCaP/v2/VCaP.bam',\n",
    " 'gs://ccle_bams/rna/G29750/KE-37/v1/KE-37.bam',\n",
    " 'gs://ccle_bams/rna/G29750/KYSE-270/v1/KYSE-270.bam',\n",
    " 'gs://ccle_bams/rna/G29750/OCI-LY-19/v2/OCI-LY-19.bam',\n",
    " 'gs://ccle_bams/rna/G16640/SW837/current/SW837.bam',\n",
    " 'gs://ccle_bams/rna/G29750/COR-L95/v2/COR-L95.bam',\n",
    " 'gs://ccle_bams/rna/G16640/Calu-1/current/Calu-1.bam',\n",
    " 'gs://ccle_bams/rna/G29750/BICR_56/v2/BICR_56.bam',\n",
    " 'gs://ccle_bams/rna/G32831/HCC-95/v1/HCC-95.bam',\n",
    " 'gs://ccle_bams/rna/G29750/AGS/v1/AGS.bam',\n",
    " 'gs://ccle_bams/wes/G130264/PEDS092T__1/current/PEDS092T__1.bam',\n",
    " 'gs://ccle_bams/rna/G29750/SU-DHL-10/v4/SU-DHL-10.bam',\n",
    " 'gs://ccle_bams/rna/G16640/SU-DHL-8/current/SU-DHL-8.bam',\n",
    " 'gs://ccle_bams/wes/G141708/UMUC6/v2/UMUC6.bam',\n",
    " 'gs://ccle_bams/rna/C1926/TGBC11TKB/current/TGBC11TKB.bam',\n",
    " 'gs://ccle_bams/rna/G16640/OCI-AML3/current/OCI-AML3.bam',\n",
    " 'gs://ccle_bams/rna/G29750/T3M-10/v1/T3M-10.bam',\n",
    " 'gs://ccle_bams/rna/G16640/JeKo-1/current/JeKo-1.bam',\n",
    " 'gs://ccle_bams/rna/G29750/NCI-H441/v1/NCI-H441.bam',\n",
    " 'gs://ccle_bams/rna/G16640/T.T/current/T.T.bam',\n",
    " 'gs://ccle_bams/rna/G32831/A101D/v2/A101D.bam',\n",
    " 'gs://ccle_bams/wes/G41765/SLR24/current/SLR24.bam',\n",
    " 'gs://ccle_bams/rna/G29750/HPAF-II/v1/HPAF-II.bam',\n",
    " 'gs://ccle_bams/wes/G41760/U178/current/U178.bam',\n",
    " 'gs://ccle_bams/rna/G32831/JHH-7/v2/JHH-7.bam',\n",
    " 'gs://ccle_bams/rna/G16640/COV504/current/COV504.bam',\n",
    " 'gs://ccle_bams/rna/G29750/NCI-H2171/v1/NCI-H2171.bam',\n",
    " 'gs://ccle_bams/rna/G16640/SNU-308/current/SNU-308.bam',\n",
    " 'gs://ccle_bams/wes/G106825/TTC-709/current/TTC-709.bam',\n",
    " 'gs://ccle_bams/rna/G16640/TE-4/current/TE-4.bam',\n",
    " 'gs://ccle_bams/rna/G16372/SNU-475/v1/SNU-475.bam',\n",
    " 'gs://ccle_bams/rna/C1926/KCL-22/current/KCL-22.bam',\n",
    " 'gs://ccle_bams/rna/G16640/KMBC-2/current/KMBC-2.bam',\n",
    " 'gs://ccle_bams/rna/G16640/KYSE-150/current/KYSE-150.bam',\n",
    " 'gs://ccle_bams/rna/C1926/NCI-H2023/current/NCI-H2023.bam',\n",
    " 'gs://ccle_bams/rna/G16640/Hs_698.T/current/Hs_698.T.bam',\n",
    " 'gs://ccle_bams/rna/G16367/SK-MES-1/v2/SK-MES-1.bam',\n",
    " 'gs://ccle_bams/rna/G16640/OVKATE/current/OVKATE.bam',\n",
    " 'gs://ccle_bams/rna/G29750/TALL-1/v1/TALL-1.bam',\n",
    " 'gs://ccle_bams/rna/G16640/NUGC-4/current/NUGC-4.bam',\n",
    " 'gs://ccle_bams/rna/G29750/SK-N-BE_2_/v2/SK-N-BE_2_.bam',\n",
    " 'gs://ccle_bams/rna/G16640/MC116/current/MC116.bam',\n",
    " 'gs://ccle_bams/rna/G29750/NU-DUL-1/v2/NU-DUL-1.bam',\n",
    " 'gs://ccle_bams/rna/G16640/SCC-15/current/SCC-15.bam',\n",
    " 'gs://ccle_bams/rna/G29750/769-P/v1/769-P.bam',\n",
    " 'gs://ccle_bams/rna/G16640/NCI-H1105/current/NCI-H1105.bam',\n",
    " 'gs://ccle_bams/rna/G16640/LN-18/current/LN-18.bam',\n",
    " 'gs://ccle_bams/wes/G130264/CME-1_1/current/CME-1_1.bam',\n",
    " 'gs://ccle_bams/rna/G29750/RKN/v3/RKN.bam',\n",
    " 'gs://ccle_bams/rna/G16640/CAL-120/current/CAL-120.bam',\n",
    " 'gs://ccle_bams/wes/G141708/LAN2/v2/LAN2.bam',\n",
    " 'gs://ccle_bams/rna/G16640/HCC-1438/current/HCC-1438.bam',\n",
    " 'gs://ccle_bams/rna/G29750/HUP-T4/v1/HUP-T4.bam',\n",
    " 'gs://ccle_bams/rna/G16640/NCI-H661/current/NCI-H661.bam',\n",
    " 'gs://ccle_bams/wes/G106825/CW9019_1/current/CW9019_1.bam',\n",
    " 'gs://ccle_bams/rna/G16469/Hs_746T/v1/Hs_746T.bam',\n",
    " 'gs://ccle_bams/rna/C1926/NCI-H1648/current/NCI-H1648.bam',\n",
    " 'gs://ccle_bams/rna/G16640/K029AX/current/K029AX.bam',\n",
    " 'gs://ccle_bams/rna/G29750/SW480/v4/SW480.bam',\n",
    " 'gs://ccle_bams/rna/G16640/KP-N-SI9s/current/KP-N-SI9s.bam',\n",
    " 'gs://ccle_bams/rna/G29750/SW48/v1/SW48.bam',\n",
    " 'gs://ccle_bams/rna/G32831/HEL_92.1.7/v2/HEL_92.1.7.bam',\n",
    " 'gs://ccle_bams/wes/G27268.SK-HEP-1.1.bam',\n",
    " 'gs://ccle_bams/rna/G16640/MG-63/current/MG-63.bam',\n",
    " 'gs://ccle_bams/rna/G16640/FTC-133/current/FTC-133.bam',\n",
    " 'gs://ccle_bams/rna/G48942/HEL/current/HEL.bam',\n",
    " 'gs://ccle_bams/rna/G16640/COLO-680N/current/COLO-680N.bam',\n",
    " 'gs://ccle_bams/rna/G16447/MKN7/v2/MKN7.bam',\n",
    " 'gs://ccle_bams/rna/G16640/NB-1/current/NB-1.bam',\n",
    " 'gs://ccle_bams/rna/C1926/LS1034/current/LS1034.bam',\n",
    " 'gs://ccle_bams/rna/G32831/SW48/v2/SW48.bam',\n",
    " 'gs://ccle_bams/rna/G32831/PANC-1/v2/PANC-1.bam',\n",
    " 'gs://ccle_bams/rna/G16443/OVSAHO/v1/OVSAHO.bam',\n",
    " 'gs://ccle_bams/rna/G16640/NCI-H1915/current/NCI-H1915.bam',\n",
    " 'gs://ccle_bams/rna/G29750/BICR_22/v2/BICR_22.bam',\n",
    " 'gs://ccle_bams/wes/G143832/DL_/current/DL_.bam',\n",
    " 'gs://ccle_bams/rna/G16640/SH-10-TC/current/SH-10-TC.bam',\n",
    " 'gs://ccle_bams/rna/G32831/BT-483/v1/BT-483.bam',\n",
    " 'gs://ccle_bams/wes/G91718/FEPD_1/current/FEPD_1.bam',\n",
    " 'gs://ccle_bams/rna/G29750/SK-MEL-31/v2/SK-MEL-31.bam',\n",
    " 'gs://ccle_bams/rna/G16446/A2780/v1/A2780.bam',\n",
    " 'gs://ccle_bams/rna/G16640/NCI-H1092/current/NCI-H1092.bam',\n",
    " 'gs://ccle_bams/wes/G134624/MCC26_1/current/MCC26_1.bam',\n",
    " 'gs://ccle_bams/rna/G29750/CAL-33/v2/CAL-33.bam',\n",
    " 'gs://ccle_bams/rna/C1926/LK-2/current/LK-2.bam',\n",
    " 'gs://ccle_bams/rna/C817/TC-71/current/TC-71.bam',\n",
    " 'gs://ccle_bams/rna/G29750/KG-1-C/v2/KG-1-C.bam',\n",
    " 'gs://ccle_bams/rna/G48942/KMRC-1/current/KMRC-1.bam',\n",
    " 'gs://ccle_bams/rna/G29750/JHUEM-2/v2/JHUEM-2.bam',\n",
    " 'gs://ccle_bams/rna/G29750/NCI-H1563/v3/NCI-H1563.bam',\n",
    " 'gs://ccle_bams/rna/G16640/SK-ES-1/current/SK-ES-1.bam',\n",
    " 'gs://ccle_bams/rna/G16640/GDM-1/current/GDM-1.bam',\n",
    " 'gs://ccle_bams/rna/C1926/SNU-761/current/SNU-761.bam',\n",
    " 'gs://ccle_bams/rna/G32831/NCI-H520/v1/NCI-H520.bam',\n",
    " 'gs://ccle_bams/rna/G48942/HCC-1438/current/HCC-1438.bam',\n",
    " 'gs://ccle_bams/rna/G32831/TE-1/v1/TE-1.bam',\n",
    " 'gs://ccle_bams/wes/G41787.HEK_TE.bam',\n",
    " 'gs://ccle_bams/rna/G32831/HT115/v2/HT115.bam',\n",
    " 'gs://ccle_bams/rna/G29750/HCC1937/v2/HCC1937.bam',\n",
    " 'gs://ccle_bams/rna/C1926/EPLC-272H/current/EPLC-272H.bam',\n",
    " 'gs://ccle_bams/wes/G106825/CHLA-9_1/current/CHLA-9_1.bam',\n",
    " 'gs://ccle_bams/rna/G16640/UACC-257/current/UACC-257.bam',\n",
    " 'gs://ccle_bams/rna/G29750/HEC-251/v3/HEC-251.bam',\n",
    " 'gs://ccle_bams/wes/G41813/A427/current/A427.bam',\n",
    " 'gs://ccle_bams/rna/G16640/LS_180/current/LS_180.bam',\n",
    " 'gs://ccle_bams/rna/G16640/NCI-H524/current/NCI-H524.bam',\n",
    " 'gs://ccle_bams/wes/G144159/EGI1/v1/EGI1.bam',\n",
    " 'gs://ccle_bams/rna/C818/CR_G-401/current/CR_G-401.bam',\n",
    " 'gs://ccle_bams/wes/G141708/PACADD135/v2/PACADD135.bam',\n",
    " 'gs://ccle_bams/rna/G16640/NCI-H2029/current/NCI-H2029.bam',\n",
    " 'gs://ccle_bams/rna/C1926/RERF-LC-Ad1/current/RERF-LC-Ad1.bam',\n",
    " 'gs://ccle_bams/rna/G16640/VMRC-RCW/current/VMRC-RCW.bam',\n",
    " 'gs://ccle_bams/rna/G29750/L-363/v2/L-363.bam',\n",
    " 'gs://ccle_bams/rna/G32831/NCI-H1693/v1/NCI-H1693.bam',\n",
    " 'gs://ccle_bams/rna/G16640/SW_1088/current/SW_1088.bam',\n",
    " 'gs://ccle_bams/wes/G100662/BIN-67_1/current/BIN-67_1.bam',\n",
    " 'gs://ccle_bams/rna/G16640/MONO-MAC-1/current/MONO-MAC-1.bam',\n",
    " 'gs://ccle_bams/rna/G29750/SNU-398/v2/SNU-398.bam',\n",
    " 'gs://ccle_bams/rna/G29750/SNU-C4/v2/SNU-C4.bam',\n",
    " 'gs://ccle_bams/rna/G16444/G-401/v1/G-401.bam',\n",
    " 'gs://ccle_bams/rna/C1926/COR-L95/current/COR-L95.bam',\n",
    " 'gs://ccle_bams/rna/G16402/NCI-H522/v1/NCI-H522.bam',\n",
    " 'gs://ccle_bams/rna/G16640/KE-37/current/KE-37.bam',\n",
    " 'gs://ccle_bams/rna/G29750/HDQ-P1/v1/HDQ-P1.bam',\n",
    " 'gs://ccle_bams/rna/G29750/GA-10/v2/GA-10.bam',\n",
    " 'gs://ccle_bams/rna/G16640/SUP-B15/current/SUP-B15.bam',\n",
    " 'gs://ccle_bams/rna/G29750/COV362/v1/COV362.bam',\n",
    " 'gs://ccle_bams/rna/G29750/ECC10/v1/ECC10.bam',\n",
    " 'gs://ccle_bams/rna/G29750/OVK18/v2/OVK18.bam',\n",
    " 'gs://ccle_bams/rna/C1926/K029AX/current/K029AX.bam',\n",
    " 'gs://ccle_bams/rna/G16640/COR-L311/current/COR-L311.bam',\n",
    " 'gs://ccle_bams/rna/G16640/Hey-A8/current/Hey-A8.bam',\n",
    " 'gs://ccle_bams/rna/G16640/SBC-5/current/SBC-5.bam',\n",
    " 'gs://ccle_bams/rna/C1926/SW1463/current/SW1463.bam',\n",
    " 'gs://ccle_bams/rna/G16640/SU-DHL-10/current/SU-DHL-10.bam',\n",
    " 'gs://ccle_bams/rna/G29750/LUDLU-1/v1/LUDLU-1.bam',\n",
    " 'gs://ccle_bams/rna/G16353/COR-L88/v1/COR-L88.bam',\n",
    " 'gs://ccle_bams/rna/C836/T1-73/v1/T1-73.bam',\n",
    " 'gs://ccle_bams/rna/G16439/ONS-76/v1/ONS-76.bam',\n",
    " 'gs://ccle_bams/rna/G29750/NCI-H2126/v2/NCI-H2126.bam',\n",
    " 'gs://ccle_bams/rna/G29750/KYSE-70/v1/KYSE-70.bam',\n",
    " 'gs://ccle_bams/rna/G29750/SNU-738/v2/SNU-738.bam',\n",
    " 'gs://ccle_bams/rna/C1926/KMS-27/current/KMS-27.bam',\n",
    " 'gs://ccle_bams/wes/G134624/A431_1/v4/A431_1.bam',\n",
    " 'gs://ccle_bams/rna/G29750/Hs_729/v3/Hs_729.bam',\n",
    " 'gs://ccle_bams/rna/G16640/WM-115/current/WM-115.bam',\n",
    " 'gs://ccle_bams/rna/C1926/NCI-H292/current/NCI-H292.bam',\n",
    " 'gs://ccle_bams/rna/G29750/OCI-M1/v1/OCI-M1.bam',\n",
    " 'gs://ccle_bams/rna/G29750/MHH-CALL-4/v2/MHH-CALL-4.bam',\n",
    " 'gs://ccle_bams/rna/G16640/SU-DHL-5/current/SU-DHL-5.bam',\n",
    " 'gs://ccle_bams/wes/G141708/MS751/v2/MS751.bam',\n",
    " 'gs://ccle_bams/rna/C836/K-562/v2/K-562.bam',\n",
    " 'gs://ccle_bams/rna/C1926/TGBC11TKB/current/TGBC11TKB.bam',\n",
    " 'gs://ccle_bams/rna/G29750/SW1417/v1/SW1417.bam',\n",
    " 'gs://ccle_bams/rna/G16640/SIMA/current/SIMA.bam',\n",
    " 'gs://ccle_bams/rna/G16640/CAMA-1/current/CAMA-1.bam',\n",
    " 'gs://ccle_bams/rna/G16360/TE-11/v1/TE-11.bam',\n",
    " 'gs://ccle_bams/rna/G16380/COR-L279/v1/COR-L279.bam',\n",
    " 'gs://ccle_bams/rna/G29750/NCI-H146/v1/NCI-H146.bam',\n",
    " 'gs://ccle_bams/rna/G16640/NU-DHL-1/current/NU-DHL-1.bam',\n",
    " 'gs://ccle_bams/rna/G16640/HuCCT1/current/HuCCT1.bam',\n",
    " 'gs://ccle_bams/rna/G29750/TE-4/v1/TE-4.bam',\n",
    " 'gs://ccle_bams/rna/G29750/Hep_G2/v1/Hep_G2.bam',\n",
    " 'gs://ccle_bams/rna/G29750/WSU-DLCL2/v3/WSU-DLCL2.bam',\n",
    " 'gs://ccle_bams/rna/G29750/NCI-H2172/v4/NCI-H2172.bam',\n",
    " 'gs://ccle_bams/rna/G16640/BHT-101/current/BHT-101.bam',\n",
    " 'gs://ccle_bams/rna/C1926/Hs_706.T/current/Hs_706.T.bam',\n",
    " 'gs://ccle_bams/rna/G32831/CAL-54/v1/CAL-54.bam',\n",
    " 'gs://ccle_bams/rna/G16640/SNU-46/current/SNU-46.bam',\n",
    " 'gs://ccle_bams/rna/G16640/Capan-2/current/Capan-2.bam',\n",
    " 'gs://ccle_bams/wes/G141708/UMUC10/current/UMUC10.bam',\n",
    " 'gs://ccle_bams/rna/G16640/COV504/current/COV504.bam',\n",
    " 'gs://ccle_bams/wes/G26187/MONO-MAC-1/v3/MONO-MAC-1.bam',\n",
    " 'gs://ccle_bams/rna/G29750/M-07e/v3/M-07e.bam',\n",
    " 'gs://ccle_bams/rna/G16410/ESS-1/v1/ESS-1.bam',\n",
    " 'gs://ccle_bams/rna/G29750/NCI-H1693/v3/NCI-H1693.bam',\n",
    " 'gs://ccle_bams/rna/G29750/DMS_114/v1/DMS_114.bam',\n",
    " 'gs://ccle_bams/rna/G16640/KPL-1/current/KPL-1.bam',\n",
    " 'gs://ccle_bams/rna/G29750/SNU-489/v2/SNU-489.bam',\n",
    " 'gs://ccle_bams/rna/G29750/A-498/v2/A-498.bam',\n",
    " 'gs://ccle_bams/rna/G16640/Set-2/current/Set-2.bam',\n",
    " 'gs://ccle_bams/rna/G32831/MDA-MB-157/v3/MDA-MB-157.bam',\n",
    " 'gs://ccle_bams/rna/G16405/NCI-H650/v1/NCI-H650.bam',\n",
    " 'gs://ccle_bams/rna/G29750/LS1034/v3/LS1034.bam',\n",
    " 'gs://ccle_bams/rna/G16379/RKO/v2/RKO.bam',\n",
    " 'gs://ccle_bams/rna/G16640/SNU-840/current/SNU-840.bam',\n",
    " 'gs://ccle_bams/rna/C1926/HOP-92/current/HOP-92.bam',\n",
    " 'gs://ccle_bams/rna/C1926/NCI-H1436/current/NCI-H1436.bam',\n",
    " 'gs://ccle_bams/rna/G32831/CAS-1/v1/CAS-1.bam',\n",
    " 'gs://ccle_bams/rna/G29750/CAL-51/v1/CAL-51.bam',\n",
    " 'gs://ccle_bams/rna/G29750/COV318/v2/COV318.bam',\n",
    " 'gs://ccle_bams/rna/Getz_IBM_CellLines_RNASeqData_21samples_09222017/C1926/NA/HCC-366/v1/HCC-366.bam',\n",
    " 'gs://ccle_bams/rna/C1926/TC-71/current/TC-71.bam',\n",
    " 'gs://ccle_bams/rna/G16640/NCI-H28/current/NCI-H28.bam',\n",
    " 'gs://ccle_bams/wes/G41804.NCI-H2004_RT_2.bam',\n",
    " 'gs://ccle_bams/rna/G16640/SCC-15/current/SCC-15.bam',\n",
    " 'gs://ccle_bams/wes/G27228.A101D.1.bam',\n",
    " 'gs://ccle_bams/rna/G29750/SH-10-TC/v3/SH-10-TC.bam',\n",
    " 'gs://ccle_bams/rna/G16640/LN-18/current/LN-18.bam',\n",
    " 'gs://ccle_bams/rna/G29750/NCI-H1299/v1/NCI-H1299.bam',\n",
    " 'gs://ccle_bams/rna/G16640/CAL-120/current/CAL-120.bam',\n",
    " 'gs://ccle_bams/rna/C1926/NCI-H2342/current/NCI-H2342.bam',\n",
    " 'gs://ccle_bams/wes/G134624/SUM149PT_1/current/SUM149PT_1.bam',\n",
    " 'gs://ccle_bams/wes/G131709/My-La_1/current/My-La_1.bam',\n",
    " 'gs://ccle_bams/rna/G29750/Panc_03.27/v2/Panc_03.27.bam',\n",
    " 'gs://ccle_bams/rna/G16640/SW948/current/SW948.bam',\n",
    " 'gs://ccle_bams/wes/G144159/PACADD159/current/PACADD159.bam',\n",
    " 'gs://ccle_bams/rna/G16640/KNS-81/current/KNS-81.bam',\n",
    " 'gs://ccle_bams/rna/G29750/KMS-12-BM/v1/KMS-12-BM.bam',\n",
    " 'gs://ccle_bams/rna/G29750/SW480/v4/SW480.bam',\n",
    " 'gs://ccle_bams/rna/G29750/SNU-1196/v2/SNU-1196.bam',\n",
    " 'gs://ccle_bams/wes/G134624/C75_1/v4/C75_1.bam',\n",
    " 'gs://ccle_bams/rna/G29750/HCC-1359/v2/HCC-1359.bam',\n",
    " 'gs://ccle_bams/rna/C1926/COLO-320/current/COLO-320.bam',\n",
    " 'gs://ccle_bams/rna/G29750/HD-MY-Z/v1/HD-MY-Z.bam',\n",
    " 'gs://ccle_bams/wes/G141708/JOPACA1/current/JOPACA1.bam',\n",
    " 'gs://ccle_bams/rna/G16640/Hs_737.T/current/Hs_737.T.bam',\n",
    " 'gs://ccle_bams/rna/G48942/HEL/current/HEL.bam',\n",
    " 'gs://ccle_bams/rna/G16447/MKN7/v2/MKN7.bam',\n",
    " 'gs://ccle_bams/rna/G16640/PCM6/current/PCM6.bam',\n",
    " 'gs://ccle_bams/rna/G16640/WM983B/current/WM983B.bam',\n",
    " 'gs://ccle_bams/rna/G16640/HCC38/current/HCC38.bam',\n",
    " 'gs://ccle_bams/rna/G16640/SK-OV-3/current/SK-OV-3.bam',\n",
    " 'gs://ccle_bams/rna/G29750/KMS-21BM/v2/KMS-21BM.bam',\n",
    " 'gs://ccle_bams/rna/G29750/KNS-62/v1/KNS-62.bam',\n",
    " 'gs://ccle_bams/wes/G41771.LN-319.bam',\n",
    " 'gs://ccle_bams/rna/G29750/SNU-1214/v4/SNU-1214.bam',\n",
    " 'gs://ccle_bams/rna/G32831/H4/v2/H4.bam',\n",
    " 'gs://ccle_bams/rna/G16435/22Rv1/v1/22Rv1.bam',\n",
    " 'gs://ccle_bams/rna/G48942/U251-MG/current/U251-MG.bam',\n",
    " 'gs://ccle_bams/rna/C1926/HuG1-N/current/HuG1-N.bam',\n",
    " 'gs://ccle_bams/rna/G32831/T-47D/v1/T-47D.bam',\n",
    " 'gs://ccle_bams/rna/G16344/786-O/v2/786-O.bam',\n",
    " 'gs://ccle_bams/wes/G41777/SLR23/current/SLR23.bam',\n",
    " 'gs://ccle_bams/rna/G29750/SNU-1197/v2/SNU-1197.bam',\n",
    " 'gs://ccle_bams/rna/C1926/NCI-H2347/current/NCI-H2347.bam',\n",
    " 'gs://ccle_bams/rna/C1926/Hs_821.T/current/Hs_821.T.bam',\n",
    " 'gs://ccle_bams/rna/G32831/EOL-1/v1/EOL-1.bam',\n",
    " 'gs://ccle_bams/rna/G48942/RCC10RGB/current/RCC10RGB.bam',\n",
    " 'gs://ccle_bams/rna/G16456/SH-10-TC/v2/SH-10-TC.bam',\n",
    " 'gs://ccle_bams/rna/G16640/NCI-H1105/current/NCI-H1105.bam',\n",
    " 'gs://ccle_bams/rna/G29750/Capan-2/v1/Capan-2.bam',\n",
    " 'gs://ccle_bams/rna/G29750/HCC-15/v1/HCC-15.bam',\n",
    " 'gs://ccle_bams/rna/G16640/THP-1/current/THP-1.bam',\n",
    " 'gs://ccle_bams/rna/G29750/JK-1/v4/JK-1.bam',\n",
    " 'gs://ccle_bams/rna/G16640/SNU-761/current/SNU-761.bam',\n",
    " 'gs://ccle_bams/rna/C1926/CL-11/current/CL-11.bam',\n",
    " 'gs://ccle_bams/rna/G32831/MDA-MB-231/v2/MDA-MB-231.bam',\n",
    " 'gs://ccle_bams/rna/G29750/VMRC-RCZ/v2/VMRC-RCZ.bam',\n",
    " 'gs://ccle_bams/rna/G29750/HCC1937/v2/HCC1937.bam',\n",
    " 'gs://ccle_bams/rna/G29750/ACHN/v1/ACHN.bam',\n",
    " 'gs://ccle_bams/rna/G16640/JM1/current/JM1.bam',\n",
    " 'gs://ccle_bams/rna/G48942/SNU-C1/current/SNU-C1.bam',\n",
    " 'gs://ccle_bams/rna/G16640/TT2609-C02/current/TT2609-C02.bam',\n",
    " 'gs://ccle_bams/rna/G32831/OS-RC-2/v1/OS-RC-2.bam',\n",
    " 'gs://ccle_bams/rna/G29750/BT-474/v3/BT-474.bam',\n",
    " 'gs://ccle_bams/rna/C1926/SW837/current/SW837.bam',\n",
    " 'gs://ccle_bams/rna/G29750/ALL-SIL/v3/ALL-SIL.bam',\n",
    " 'gs://ccle_bams/rna/G29750/Hs_934.T/v2/Hs_934.T.bam',\n",
    " 'gs://ccle_bams/rna/C1926/SNU-761/current/SNU-761.bam',\n",
    " 'gs://ccle_bams/rna/G16640/NCI-H2023/current/NCI-H2023.bam',\n",
    " 'gs://ccle_bams/rna/G16640/OCUM-1/current/OCUM-1.bam',\n",
    " 'gs://ccle_bams/rna/G16428/NCI-H1092/v1/NCI-H1092.bam',\n",
    " 'gs://ccle_bams/rna/G16462/KMS-11/v1/KMS-11.bam',\n",
    " 'gs://ccle_bams/wes/G28037/KYO-1/v2/KYO-1.bam',\n",
    " 'gs://ccle_bams/rna/G16455/SCLC-21H/v1/SCLC-21H.bam',\n",
    " 'gs://ccle_bams/wes/G134624/SEKI_1/current/SEKI_1.bam',\n",
    " 'gs://ccle_bams/rna/G16640/SNU-308/current/SNU-308.bam',\n",
    " 'gs://ccle_bams/wes/G131709/C8166/current/C8166.bam',\n",
    " 'gs://ccle_bams/rna/G16640/RPMI_8226/current/RPMI_8226.bam',\n",
    " 'gs://ccle_bams/rna/G16640/ZR-75-1/current/ZR-75-1.bam',\n",
    " 'gs://ccle_bams/rna/G16640/HCC2935/current/HCC2935.bam',\n",
    " 'gs://ccle_bams/rna/G16640/G-401/current/G-401.bam',\n",
    " 'gs://ccle_bams/rna/G29750/TOV-21G/v5/TOV-21G.bam',\n",
    " 'gs://ccle_bams/rna/G32831/ACHN/v2/ACHN.bam',\n",
    " 'gs://ccle_bams/wes/G28831.J82.3.bam',\n",
    " 'gs://ccle_bams/wes/G143832/HA1E/v1/HA1E.bam',\n",
    " 'gs://ccle_bams/rna/G29750/NCI-H1930/v2/NCI-H1930.bam',\n",
    " 'gs://ccle_bams/rna/G29750/MDA-MB-453/v1/MDA-MB-453.bam',\n",
    " 'gs://ccle_bams/rna/G29750/RERF-LC-Ad1/v2/RERF-LC-Ad1.bam',\n",
    " 'gs://ccle_bams/rna/G16640/HPB-ALL/current/HPB-ALL.bam',\n",
    " 'gs://ccle_bams/rna/G29750/RMUG-S/v3/RMUG-S.bam',\n",
    " 'gs://ccle_bams/rna/G16433/MM1-S/v1/MM1-S.bam',\n",
    " 'gs://ccle_bams/rna/C1926/NCI-H2405/current/NCI-H2405.bam',\n",
    " 'gs://ccle_bams/wes/G144963/SW954/v2/SW954.bam',\n",
    " 'gs://ccle_bams/wes/G35076/NCI-H1373/current/NCI-H1373.bam',\n",
    " 'gs://ccle_bams/rna/G29750/KE-39/v1/KE-39.bam',\n",
    " 'gs://ccle_bams/rna/G16640/JHUEM-2/current/JHUEM-2.bam',\n",
    " 'gs://ccle_bams/rna/G29750/SU-DHL-10/v4/SU-DHL-10.bam',\n",
    " 'gs://ccle_bams/wes/G25205.NCI-H2286.1.bam',\n",
    " 'gs://ccle_bams/rna/G16640/SNU-398/current/SNU-398.bam',\n",
    " 'gs://ccle_bams/wes/G131767/SMZ-1_2/current/SMZ-1_2.bam',\n",
    " 'gs://ccle_bams/rna/G16477/RERF-GC-1B/v1/RERF-GC-1B.bam',\n",
    " 'gs://ccle_bams/rna/C1926/RERF-LC-AI/current/RERF-LC-AI.bam',\n",
    " 'gs://ccle_bams/rna/G29750/697/v2/697.bam',\n",
    " 'gs://ccle_bams/rna/G29750/SU-DHL-6/v2/SU-DHL-6.bam',\n",
    " 'gs://ccle_bams/rna/G16640/NCI-H929/current/NCI-H929.bam',\n",
    " 'gs://ccle_bams/rna/G29750/PC-3/v1/PC-3.bam',\n",
    " 'gs://ccle_bams/wes/G106825/CHLA266_1/current/CHLA266_1.bam',\n",
    " 'gs://ccle_bams/rna/G16640/NCI-H1650/current/NCI-H1650.bam',\n",
    " 'gs://ccle_bams/rna/G16640/KYM-1/current/KYM-1.bam',\n",
    " 'gs://ccle_bams/rna/G16640/OVISE/current/OVISE.bam',\n",
    " 'gs://ccle_bams/rna/G16640/SNU-1076/current/SNU-1076.bam',\n",
    " 'gs://ccle_bams/rna/G16640/NUGC-4/current/NUGC-4.bam',\n",
    " 'gs://ccle_bams/rna/G29750/BT-20/v1/BT-20.bam',\n",
    " 'gs://ccle_bams/rna/G16640/5637/current/5637.bam',\n",
    " 'gs://ccle_bams/rna/G29750/DMS_153/v1/DMS_153.bam',\n",
    " 'gs://ccle_bams/rna/G29750/HEL_92.1.7/v2/HEL_92.1.7.bam',\n",
    " 'gs://ccle_bams/rna/G29750/ZR-75-1/v2/ZR-75-1.bam',\n",
    " 'gs://ccle_bams/rna/G16640/DU4475/current/DU4475.bam',\n",
    " 'gs://ccle_bams/rna/G16640/PC-3/current/PC-3.bam',\n",
    " 'gs://ccle_bams/rna/G29750/253J/v2/253J.bam',\n",
    " 'gs://ccle_bams/rna/C1926/COR-L47/current/COR-L47.bam',\n",
    " 'gs://ccle_bams/rna/G29750/HSC-3/v2/HSC-3.bam',\n",
    " 'gs://ccle_bams/rna/G29750/GAMG/v1/GAMG.bam',\n",
    " 'gs://ccle_bams/rna/G16640/SNU-668/current/SNU-668.bam',\n",
    " 'gs://ccle_bams/wes/G35068/SNU-283/current/SNU-283.bam',\n",
    " 'gs://ccle_bams/rna/G29750/NCI-H1395/v2/NCI-H1395.bam',\n",
    " 'gs://ccle_bams/wes/Getz_IBM_CellLines_Exomes_11samples_04122018/G141708/NA/SISO/v2/SISO.bam',\n",
    " 'gs://ccle_bams/rna/G16640/NCI-H524/current/NCI-H524.bam']"
   ]
  },
  {
   "cell_type": "markdown",
   "metadata": {},
   "source": [
    "# check whether it is really WES or RNAseq from DEPMAP_master file"
   ]
  },
  {
   "cell_type": "code",
   "execution_count": null,
   "metadata": {},
   "outputs": [],
   "source": [
    "rnawm = dm.WorkspaceManager('broad-firecloud-ccle/DepMap_hg38_RNAseq')\n",
    "rnasam = rnawm.get_samples()"
   ]
  },
  {
   "cell_type": "code",
   "execution_count": null,
   "metadata": {},
   "outputs": [],
   "source": [
    "rnasam.loc['ACH-000150_2'].RNAseq_bam"
   ]
  },
  {
   "cell_type": "code",
   "execution_count": null,
   "metadata": {},
   "outputs": [],
   "source": [
    "likelymisslabinrna = set(rnasam.RNAseq_bam) &set(likelymisslab)"
   ]
  },
  {
   "cell_type": "markdown",
   "metadata": {},
   "source": [
    "they might be wes!"
   ]
  },
  {
   "cell_type": "code",
   "execution_count": null,
   "metadata": {},
   "outputs": [],
   "source": [
    "likelymisslabinrna = [i for i in likelymisslabinrna if \"/rna/\" in i]\n",
    "likelymisslabinrna"
   ]
  },
  {
   "cell_type": "code",
   "execution_count": null,
   "metadata": {},
   "outputs": [],
   "source": [
    "name = !gsutil ls gs://ccle_bams/rna/**/*SW_1573*.bam\n",
    "set(name) - set(likelymisslab)"
   ]
  },
  {
   "cell_type": "code",
   "execution_count": null,
   "metadata": {},
   "outputs": [],
   "source": [
    "name"
   ]
  },
  {
   "cell_type": "code",
   "execution_count": null,
   "metadata": {},
   "outputs": [],
   "source": [
    "rnasam[rnasam.RNAseq_bam.isin(likelymisslabinrna)].index"
   ]
  },
  {
   "cell_type": "code",
   "execution_count": null,
   "metadata": {},
   "outputs": [],
   "source": [
    "rnasam[rnasam.RNAseq_bam.isin(likelymisslabinrna)].RNAseq_bam.values"
   ]
  },
  {
   "cell_type": "code",
   "execution_count": null,
   "metadata": {},
   "outputs": [],
   "source": [
    "bams = ['gs://ccle_bams/rna/G28870.HCC2935.3.bam',\n",
    "      'gs://ccle_bams/rna/G30620.SW_1573.1.bam',\n",
    "         'gs://ccle_bams/rna/G28840.HCC-366.3.bam',\n",
    "        'gs://ccle_bams/rna/G28021.LU99.1.bam'\n",
    "        ]\n",
    "\n",
    "bais = ['gs://ccle_bams/rna/G28870.HCC2935.3.bai',\n",
    "    'gs://ccle_bams/rna/G30620.SW_1573.1.bam.bai',\n",
    "     'gs://ccle_bams/rna/G28840.HCC-366.3.bai',\n",
    "    'gs://ccle_bams/rna/G28021.LU99.1.bam.bai'\n",
    "            ]\n",
    "\n",
    "sids = ['ACH-000150_2', 'ACH-000677_2', 'ACH-000840_2', 'ACH-001147_1']\n",
    "for i in range(len(bais)):\n",
    "    rnawm.update_sample_attributes({'RNAseq_bam':bams[i],'RNAseq_bai': bais[i]},sids[i])"
   ]
  },
  {
   "cell_type": "code",
   "execution_count": null,
   "metadata": {},
   "outputs": [],
   "source": [
    "len(likelymisslabinrna)"
   ]
  },
  {
   "cell_type": "markdown",
   "metadata": {},
   "source": [
    "we need to find the rna version of likelymisslabinrna that are said to be wes (they are rna files that seem to contain wes data)."
   ]
  },
  {
   "cell_type": "code",
   "execution_count": null,
   "metadata": {},
   "outputs": [],
   "source": [
    "inrel = dm.WorkspaceManager('broad-firecloud-ccle/DepMap_hg38_RNAseq').get_sample_sets().loc['20Q1'].samples"
   ]
  },
  {
   "cell_type": "code",
   "execution_count": null,
   "metadata": {},
   "outputs": [],
   "source": [
    "inrel"
   ]
  },
  {
   "cell_type": "code",
   "execution_count": null,
   "metadata": {},
   "outputs": [],
   "source": [
    "set(rnasam[rnasam.RNAseq_bam.isin(likelymisslabinrna)].index) & set(inrel)"
   ]
  },
  {
   "cell_type": "code",
   "execution_count": null,
   "metadata": {},
   "outputs": [],
   "source": [
    "cnwm = dm.WorkspaceManager('broad-firecloud-ccle/DepMap_WES_CN_hg38')\n",
    "cnsam = cnwm.get_samples()"
   ]
  },
  {
   "cell_type": "code",
   "execution_count": null,
   "metadata": {},
   "outputs": [],
   "source": [
    "likelymisslabincn = set(cnsam.WES_bam) &set(likelymisslab)"
   ]
  },
  {
   "cell_type": "code",
   "execution_count": null,
   "metadata": {},
   "outputs": [],
   "source": [
    "likelymisslabincn"
   ]
  },
  {
   "cell_type": "code",
   "execution_count": null,
   "metadata": {},
   "outputs": [],
   "source": [
    "bams = !gsutil ls gs://ccle_bams/wes/**NOZ*.bam\n",
    "set(bams) - set(likelymisslab)"
   ]
  },
  {
   "cell_type": "code",
   "execution_count": null,
   "metadata": {},
   "outputs": [],
   "source": [
    "inRNAreplace =  {\"gs://ccle_bams/wes/G41763/U343/current/U343.bam\":\n",
    "\"gs://ccle_bams/wes/U343/current/U343.bam\",\n",
    "\"gs://ccle_bams/wes/C1926/SNU-601/current/SNU-601.bam\":\n",
    "\"gs://ccle_bams/rna/G27466.SNU-601.2.bam\"}\n",
    "\n",
    "inWESreplace = {'gs://ccle_bams/wes/U343/current/U343.bam':\n",
    "'gs://ccle_bams/wes/CCLE_DepMap_WES_July_Dec_2018/RP-1561/Exome/U343/v1/U343.bam',\n",
    "\"gs://ccle_bams/wes/RP-1561/Exome/NOZ/current/NOZ.bam\":\n",
    "\"gs://ccle_bams/wes/RP-1561/Exome/NOZ/v1/NOZ.bam\"\n",
    "}"
   ]
  },
  {
   "cell_type": "code",
   "execution_count": null,
   "metadata": {},
   "outputs": [],
   "source": [
    "mutwm= dm.WorkspaceManager('broad-firecloud-ccle/DepMap_Mutation_Calling_CGA_pipeline')\n",
    "mutsam = mutwm.get_samples()"
   ]
  },
  {
   "cell_type": "code",
   "execution_count": null,
   "metadata": {},
   "outputs": [],
   "source": [
    "mutwm"
   ]
  },
  {
   "cell_type": "code",
   "execution_count": null,
   "metadata": {},
   "outputs": [],
   "source": [
    "likelymisslabinmut = set(mutsam.WES_bam) &set(likelymisslab)"
   ]
  },
  {
   "cell_type": "code",
   "execution_count": null,
   "metadata": {},
   "outputs": [],
   "source": [
    "likelymisslabinmut"
   ]
  },
  {
   "cell_type": "markdown",
   "metadata": {},
   "source": [
    "they are the same in both"
   ]
  },
  {
   "cell_type": "code",
   "execution_count": null,
   "metadata": {},
   "outputs": [],
   "source": [
    "!gsutil ls gs://ccle_bams/rna/**/*U343*"
   ]
  },
  {
   "cell_type": "code",
   "execution_count": null,
   "metadata": {},
   "outputs": [],
   "source": [
    "likely_wes= []\n",
    "for val in [\"gs://ccle_bams/wes/CCLE_DepMap_WES_July_Dec_2018/RP-1561/Exome/U343/v1/U343.bam\",\n",
    "            \"gs://ccle_bams/wes/U343/current/U343.bam\"]:\n",
    "    res = os.popen('samtools view -H '+val).read()\n",
    "    if 'bwa mem' in res:\n",
    "        print(val)"
   ]
  },
  {
   "cell_type": "code",
   "execution_count": null,
   "metadata": {},
   "outputs": [],
   "source": [
    "inrna = [i for i in sizes.keys() if '/rna/' in i]"
   ]
  },
  {
   "cell_type": "code",
   "execution_count": null,
   "metadata": {},
   "outputs": [],
   "source": [
    "inrna_name = [i.split('/')[-1] for i in inrna]"
   ]
  },
  {
   "cell_type": "code",
   "execution_count": null,
   "metadata": {},
   "outputs": [],
   "source": [
    "\"gs://ccle_bams/wes/U343/current/U343.bam\" in likelymisslab "
   ]
  },
  {
   "cell_type": "code",
   "execution_count": null,
   "metadata": {},
   "outputs": [],
   "source": [
    "inRNAreplace"
   ]
  },
  {
   "cell_type": "code",
   "execution_count": null,
   "metadata": {},
   "outputs": [],
   "source": [
    "set(inRNAbutwesfolder) - set(likelymisslab)"
   ]
  },
  {
   "cell_type": "code",
   "execution_count": null,
   "metadata": {},
   "outputs": [],
   "source": [
    "set(inRNAbutwesfolder_name) & set(inrna_name)"
   ]
  },
  {
   "cell_type": "code",
   "execution_count": null,
   "metadata": {},
   "outputs": [],
   "source": [
    "inRNAbutwesfolder"
   ]
  },
  {
   "cell_type": "markdown",
   "metadata": {},
   "source": [
    "#### gs://ccle_bams/wes/SANGER_NCIH211_LUNG.bam seems to have a bad header"
   ]
  },
  {
   "cell_type": "markdown",
   "metadata": {},
   "source": [
    "## seems ok now .. "
   ]
  },
  {
   "cell_type": "markdown",
   "metadata": {},
   "source": [
    "# IN MUTATION BUT NOT IN CN"
   ]
  },
  {
   "cell_type": "code",
   "execution_count": null,
   "metadata": {},
   "outputs": [],
   "source": [
    "len(inmutbnotincn)"
   ]
  },
  {
   "cell_type": "code",
   "execution_count": null,
   "metadata": {},
   "outputs": [],
   "source": [
    "inmutbnotincn={'gs://ccle_bams/wes/C835.HCC1143_BL.4.bam',\n",
    " 'gs://ccle_bams/wes/CCLF_RCRF1009GL.bam',\n",
    " 'gs://ccle_bams/wes/LPS067.bam',\n",
    " 'gs://ccle_bams/wes/MUTZ8.bam',\n",
    " 'gs://ccle_bams/wes/OCIAML4.bam',\n",
    " 'gs://ccle_bams/wes/OMM1.bam',\n",
    " 'gs://ccle_bams/wes/R256.bam',\n",
    " 'gs://ccle_bams/wes/RPE1SS111.bam',\n",
    " 'gs://ccle_bams/wes/RPE1SS119.bam',\n",
    " 'gs://ccle_bams/wes/RPE1SS48.bam',\n",
    " 'gs://ccle_bams/wes/RPE1SS51.bam',\n",
    " 'gs://ccle_bams/wes/RPE1SS6.bam',\n",
    " 'gs://ccle_bams/wes/RPE1SS77.bam',\n",
    " 'gs://ccle_bams/wes/WM3211.bam'}"
   ]
  },
  {
   "cell_type": "code",
   "execution_count": null,
   "metadata": {},
   "outputs": [],
   "source": [
    "set(likelymisslab) & inmutbnotincn"
   ]
  },
  {
   "cell_type": "code",
   "execution_count": null,
   "metadata": {},
   "outputs": [],
   "source": [
    "keeprem"
   ]
  },
  {
   "cell_type": "code",
   "execution_count": null,
   "metadata": {},
   "outputs": [],
   "source": [
    "set(inmutbnotincn) & set(keeprem.values())"
   ]
  },
  {
   "cell_type": "code",
   "execution_count": null,
   "metadata": {},
   "outputs": [],
   "source": [
    "dup_under_another_name = [keeprem[i] for i in (set(inmutbnotincn) & set(keeprem.keys()))]\n",
    "dup_under_another_name"
   ]
  },
  {
   "cell_type": "code",
   "execution_count": null,
   "metadata": {},
   "outputs": [],
   "source": [
    "addtoCNfromMut = set(inmutbnotincn) - set(keeprem.keys())\n",
    "addtoCNfromMut"
   ]
  },
  {
   "cell_type": "code",
   "execution_count": null,
   "metadata": {},
   "outputs": [],
   "source": [
    "tochangeinCN = {\n",
    " 'gs://ccle_bams/wes/LPS067.bam':'gs://ccle_bams/wes/DepMap_CellLine_WES_Sept2019/RP-1561/Exome/LPS067/v1/LPS067.bam',\n",
    " 'gs://ccle_bams/wes/MUTZ8.bam':'gs://ccle_bams/wes/DepMap_CellLine_WES_June2019/RP-1561/Exome/MUTZ8/v1/MUTZ8.bam',\n",
    "'gs://ccle_bams/wes/OCIAML4.bam':'gs://ccle_bams/wes/DepMap_CellLine_WES_Batch2_Sept2019/RP-1561/Exome/OCIAML4/v1/OCIAML4.bam',\n",
    " 'gs://ccle_bams/wes/OMM1.bam': 'gs://ccle_bams/wes/DepMap_CellLine_WES_Batch2_June2019/RP-1561/Exome/OMM1/v1/OMM1.bam',\n",
    " 'gs://ccle_bams/wes/R256.bam': 'gs://ccle_bams/wes/DepMap_CellLine_WES_Batch3_June2019/RP-1561/Exome/R256/v2/R256.bam',\n",
    " 'gs://ccle_bams/wes/RPE1SS111.bam': 'gs://ccle_bams/wes/DepMap_CellLine_WES_June2019/RP-1561/Exome/RPE1SS111/v1/RPE1SS111.bam',\n",
    " 'gs://ccle_bams/wes/RPE1SS119.bam': 'gs://ccle_bams/wes/DepMap_CellLine_WES_June2019/RP-1561/Exome/RPE1SS119/v1/RPE1SS119.bam',\n",
    " 'gs://ccle_bams/wes/RPE1SS48.bam': 'gs://ccle_bams/wes/DepMap_CellLine_WES_June2019/RP-1561/Exome/RPE1SS48/v1/RPE1SS48.bam',\n",
    " 'gs://ccle_bams/wes/RPE1SS51.bam': 'gs://ccle_bams/wes/DepMap_CellLine_WES_June2019/RP-1561/Exome/RPE1SS51/v1/RPE1SS51.bam',\n",
    " 'gs://ccle_bams/wes/RPE1SS6.bam': 'gs://ccle_bams/wes/DepMap_CellLine_WES_June2019/RP-1561/Exome/RPE1SS6/v1/RPE1SS6.bam',\n",
    " 'gs://ccle_bams/wes/RPE1SS77.bam': 'gs://ccle_bams/wes/DepMap_CellLine_WES_June2019/RP-1561/Exome/RPE1SS77/v1/RPE1SS77.bam',\n",
    " 'gs://ccle_bams/wes/WM3211.bam': 'gs://ccle_bams/wes/DepMap_CellLine_WES_Sept2019/RP-1561/Exome/WM3211/v1/WM3211.bam'\n",
    "}"
   ]
  },
  {
   "cell_type": "markdown",
   "metadata": {},
   "source": [
    "# IN CN BUT NOT IN MUT"
   ]
  },
  {
   "cell_type": "code",
   "execution_count": null,
   "metadata": {},
   "outputs": [],
   "source": [
    "incnbnotinmut={'gs://ccle_bams/wes/DepMap_CellLine_WES_Batch2_June2019/RP-1561/Exome/OMM1/v1/OMM1.bam',\n",
    " 'gs://ccle_bams/wes/DepMap_CellLine_WES_Batch2_Sept2019/RP-1561/Exome/OCIAML4/v1/OCIAML4.bam',\n",
    " 'gs://ccle_bams/wes/DepMap_CellLine_WES_Batch3_June2019/RP-1561/Exome/R256/v1/R256.bam',\n",
    " 'gs://ccle_bams/wes/DepMap_CellLine_WES_Batch3_June2019/RP-1561/Exome/R256/v2/R256.bam',\n",
    " 'gs://ccle_bams/wes/DepMap_CellLine_WES_July2019/RP-1561/Exome/GB2/v1/GB2.bam',\n",
    " 'gs://ccle_bams/wes/DepMap_CellLine_WES_July2019/RP-1561/Exome/HAP1MLH1KO_1/v1/HAP1MLH1KO_1.bam',\n",
    " 'gs://ccle_bams/wes/DepMap_CellLine_WES_July2019/RP-1561/Exome/HAP1_1/v1/HAP1_1.bam',\n",
    " 'gs://ccle_bams/wes/DepMap_CellLine_WES_July2019/RP-1561/Exome/HSQ89_1/v1/HSQ89_1.bam',\n",
    " 'gs://ccle_bams/wes/DepMap_CellLine_WES_July2019/RP-1561/Exome/HSSCH2_1/v1/HSSCH2_1.bam',\n",
    " 'gs://ccle_bams/wes/DepMap_CellLine_WES_July2019/RP-1561/Exome/NALM16/v1/NALM16.bam',\n",
    " 'gs://ccle_bams/wes/DepMap_CellLine_WES_June2019/RP-1561/Exome/MUTZ8/v1/MUTZ8.bam',\n",
    " 'gs://ccle_bams/wes/DepMap_CellLine_WES_June2019/RP-1561/Exome/RPE1SS111/v1/RPE1SS111.bam',\n",
    " 'gs://ccle_bams/wes/DepMap_CellLine_WES_June2019/RP-1561/Exome/RPE1SS119/v1/RPE1SS119.bam',\n",
    " 'gs://ccle_bams/wes/DepMap_CellLine_WES_June2019/RP-1561/Exome/RPE1SS48/v1/RPE1SS48.bam',\n",
    " 'gs://ccle_bams/wes/DepMap_CellLine_WES_June2019/RP-1561/Exome/RPE1SS51/v1/RPE1SS51.bam',\n",
    " 'gs://ccle_bams/wes/DepMap_CellLine_WES_June2019/RP-1561/Exome/RPE1SS6/v1/RPE1SS6.bam',\n",
    " 'gs://ccle_bams/wes/DepMap_CellLine_WES_June2019/RP-1561/Exome/RPE1SS77/v1/RPE1SS77.bam',\n",
    " 'gs://ccle_bams/wes/DepMap_CellLine_WES_Sept2019/RP-1561/Exome/LPS067/v1/LPS067.bam',\n",
    " 'gs://ccle_bams/wes/DepMap_CellLine_WES_Sept2019/RP-1561/Exome/WM3211/v1/WM3211.bam',\n",
    " 'gs://ccle_bams/wes/v2/PFSK1.bam',\n",
    " 'gs://ccle_bams/wes/v2/WERIRB1.bam'}"
   ]
  },
  {
   "cell_type": "code",
   "execution_count": null,
   "metadata": {},
   "outputs": [],
   "source": [
    "incnbnotinmut = incnbnotinmut - set(tochangeinCN.values()) \n",
    "incnbnotinmut"
   ]
  },
  {
   "cell_type": "code",
   "execution_count": null,
   "metadata": {},
   "outputs": [],
   "source": [
    "set(likelymisslab) & incnbnotinmut"
   ]
  },
  {
   "cell_type": "code",
   "execution_count": null,
   "metadata": {},
   "outputs": [],
   "source": [
    "incnbnotinmut & set(keeprem.keys())"
   ]
  },
  {
   "cell_type": "code",
   "execution_count": null,
   "metadata": {},
   "outputs": [],
   "source": [
    "set(incnbnotinmut) & set(keeprem.values())"
   ]
  },
  {
   "cell_type": "markdown",
   "metadata": {},
   "source": [
    "## lost CN datat for  "
   ]
  },
  {
   "cell_type": "code",
   "execution_count": null,
   "metadata": {},
   "outputs": [],
   "source": [
    "lostcn={'gs://ccle_bams/wes/DepMap_CellLine_WES_Batch3_June2019/RP-1561/Exome/R256/v1/R256.bam',\n",
    " 'gs://ccle_bams/wes/DepMap_CellLine_WES_July2019/RP-1561/Exome/GB2/v1/GB2.bam',\n",
    " 'gs://ccle_bams/wes/DepMap_CellLine_WES_July2019/RP-1561/Exome/HAP1MLH1KO_1/v1/HAP1MLH1KO_1.bam',\n",
    " 'gs://ccle_bams/wes/DepMap_CellLine_WES_July2019/RP-1561/Exome/HAP1_1/v1/HAP1_1.bam',\n",
    " 'gs://ccle_bams/wes/DepMap_CellLine_WES_July2019/RP-1561/Exome/HSQ89_1/v1/HSQ89_1.bam',\n",
    " 'gs://ccle_bams/wes/DepMap_CellLine_WES_July2019/RP-1561/Exome/HSSCH2_1/v1/HSSCH2_1.bam',\n",
    " 'gs://ccle_bams/wes/DepMap_CellLine_WES_July2019/RP-1561/Exome/NALM16/v1/NALM16.bam',\n",
    " 'gs://ccle_bams/wes/SANGER_J82_URINARY_TRACT.bam',\n",
    " 'gs://ccle_bams/wes/SANGER_PA1_OVARY.bam',\n",
    " 'gs://ccle_bams/wes/SANGER_TE11_OESOPHAGUS.bam',\n",
    " 'gs://ccle_bams/wes/chordomafoundationsequencedata/BAM_Files/ExomeSeq/ExomeSeq/U-CH1_ExomeSeq_GS001437.cleaned.rg.sorted.markedDupes.realigned.recal.bam',\n",
    " 'gs://ccle_bams/wes/chordomafoundationsequencedata/BAM_Files/ExomeSeq/ExomeSeq/U-CH2_ExomeSeq_GS001438.cleaned.rg.sorted.markedDupes.realigned.recal.bam'}"
   ]
  },
  {
   "cell_type": "code",
   "execution_count": null,
   "metadata": {},
   "outputs": [],
   "source": [
    "addtoMutfromCN = set(incnbnotinmut) - set(keeprem.values())\n",
    "addtoMutfromCN = addtoMutfromCN - lostcn\n",
    "addtoMutfromCN"
   ]
  },
  {
   "cell_type": "code",
   "execution_count": null,
   "metadata": {},
   "outputs": [],
   "source": [
    "sam[sam.CCLE_name.isin(['R256','GB2','HAP1MLH1KO_1','HAP1_1','HSQ89_1','HSSCH2_1','NALM16'])].CCLE_name"
   ]
  },
  {
   "cell_type": "code",
   "execution_count": null,
   "metadata": {},
   "outputs": [],
   "source": [
    "lostversioncn = incnbnotinmut & lostcn\n",
    "lostversioncn"
   ]
  },
  {
   "cell_type": "code",
   "execution_count": null,
   "metadata": {},
   "outputs": [],
   "source": [
    "dup"
   ]
  },
  {
   "cell_type": "code",
   "execution_count": null,
   "metadata": {},
   "outputs": [],
   "source": [
    "[i[1] for i in dup if i[0] in lostcn] + [i[0] for i in dup if i[1] in lostcn]"
   ]
  },
  {
   "cell_type": "markdown",
   "metadata": {},
   "source": [
    "# Gathering all info for a replace of samples"
   ]
  },
  {
   "cell_type": "markdown",
   "metadata": {},
   "source": [
    "### lost mut data for "
   ]
  },
  {
   "cell_type": "code",
   "execution_count": null,
   "metadata": {},
   "outputs": [],
   "source": [
    "lostmut={'gs://ccle_bams/wes/SANGER_J82_URINARY_TRACT.bam',\n",
    " 'gs://ccle_bams/wes/SANGER_PA1_OVARY.bam',\n",
    " 'gs://ccle_bams/wes/SANGER_TE11_OESOPHAGUS.bam',\n",
    " 'gs://ccle_bams/wes/chordomafoundationsequencedata/BAM_Files/ExomeSeq/ExomeSeq/U-CH1_ExomeSeq_GS001437.cleaned.rg.sorted.markedDupes.realigned.recal.bam',\n",
    " 'gs://ccle_bams/wes/chordomafoundationsequencedata/BAM_Files/ExomeSeq/ExomeSeq/U-CH2_ExomeSeq_GS001438.cleaned.rg.sorted.markedDupes.realigned.recal.bam'}"
   ]
  },
  {
   "cell_type": "markdown",
   "metadata": {},
   "source": [
    "### lost RNA data for"
   ]
  },
  {
   "cell_type": "code",
   "execution_count": null,
   "metadata": {},
   "outputs": [],
   "source": [
    "lostrna={'gs://ccle_bams/rna/RNA/LPS141/v2/LPS141.bam',\n",
    " 'gs://ccle_bams/rna/VAESBJ/v2/VAESBJ.bam',\n",
    " 'gs://fc-8a38e8a8-44ef-44c6-9bb8-4201797c5d7f/Getz_IBM_DMX_CellLines_10samples_Truseq_100M_12082018/RP-1420/RNA/HCSC1/v1/HCSC1.bam',\n",
    " 'gs://fc-8a38e8a8-44ef-44c6-9bb8-4201797c5d7f/Getz_IBM_DMX_CellLines_10samples_Truseq_100M_12082018/RP-1420/RNA/HT144SKINFV1/v1/HT144SKINFV1.bam',\n",
    " 'gs://fc-8a38e8a8-44ef-44c6-9bb8-4201797c5d7f/Getz_IBM_DMX_CellLines_10samples_Truseq_100M_12082018/RP-1420/RNA/HT144SKINFV2/v1/HT144SKINFV2.bam',\n",
    " 'gs://fc-8a38e8a8-44ef-44c6-9bb8-4201797c5d7f/Getz_IBM_DMX_CellLines_10samples_Truseq_100M_12082018/RP-1420/RNA/HT144SKINFV3/v1/HT144SKINFV3.bam',\n",
    " 'gs://fc-8a38e8a8-44ef-44c6-9bb8-4201797c5d7f/Getz_IBM_DMX_CellLines_10samples_Truseq_100M_12082018/RP-1420/RNA/KML1/v1/KML1.bam',\n",
    " 'gs://fc-8a38e8a8-44ef-44c6-9bb8-4201797c5d7f/Getz_IBM_DMX_CellLines_10samples_Truseq_100M_12082018/RP-1420/RNA/RVH421SKINFV1/v1/RVH421SKINFV1.bam',\n",
    " 'gs://fc-8a38e8a8-44ef-44c6-9bb8-4201797c5d7f/Getz_IBM_DMX_CellLines_10samples_Truseq_100M_12082018/RP-1420/RNA/SKGII/v1/SKGII.bam',\n",
    " 'gs://fc-8a38e8a8-44ef-44c6-9bb8-4201797c5d7f/Getz_IBM_DMX_CellLines_10samples_Truseq_100M_12082018/RP-1420/RNA/SNU1544/v1/SNU1544.bam',\n",
    " 'gs://fc-8a38e8a8-44ef-44c6-9bb8-4201797c5d7f/Getz_IBM_DMX_CellLines_10samples_Truseq_100M_12082018/RP-1420/RNA/SUM44PE/v1/SUM44PE.bam',\n",
    " 'gs://fc-8a38e8a8-44ef-44c6-9bb8-4201797c5d7f/Getz_IBM_DMX_CellLines_10samples_Truseq_100M_12082018/RP-1420/RNA/UHO1/v1/UHO1.bam'}"
   ]
  },
  {
   "cell_type": "code",
   "execution_count": null,
   "metadata": {},
   "outputs": [],
   "source": [
    "[i[1] for i in dup if i[0] in lostrna] + [i[0] for i in dup if i[1] in lostrna]"
   ]
  },
  {
   "cell_type": "code",
   "execution_count": null,
   "metadata": {},
   "outputs": [],
   "source": [
    "adup = [i[0] for i in dup] + [i[1] for i in dup]"
   ]
  },
  {
   "cell_type": "code",
   "execution_count": null,
   "metadata": {},
   "outputs": [],
   "source": [
    "!gsutil -m ls -al gs://ccle_bams/**HCSC1*.bam"
   ]
  },
  {
   "cell_type": "code",
   "execution_count": null,
   "metadata": {},
   "outputs": [],
   "source": [
    "adup"
   ]
  },
  {
   "cell_type": "code",
   "execution_count": null,
   "metadata": {},
   "outputs": [],
   "source": [
    "inRNAreplace =  {\"gs://ccle_bams/wes/G41763/U343/current/U343.bam\":\n",
    "\"gs://ccle_bams/wes/U343/current/U343.bam\",\n",
    "\"gs://ccle_bams/wes/C1926/SNU-601/current/SNU-601.bam\":\n",
    "\"gs://ccle_bams/rna/G27466.SNU-601.2.bam\",\n",
    "\"gs://ccle_bams/rna/VAESBJ/v2/VAESBJ.bam\":\n",
    "\"gs://ccle_bams/rna/RNA/VAESBJ/v2/VAESBJ.bam\",\n",
    "\"gs://ccle_bams/rna/RNA/LPS141/v2/LPS141.bam\":\n",
    "\"gs://ccle_bams/rna/LPS141.bam\"}\n",
    "\n",
    "inWESreplace = {'gs://ccle_bams/wes/U343/current/U343.bam':\n",
    "'gs://ccle_bams/wes/CCLE_DepMap_WES_July_Dec_2018/RP-1561/Exome/U343/v1/U343.bam',\n",
    "\"gs://ccle_bams/wes/RP-1561/Exome/NOZ/current/NOZ.bam\":\n",
    "\"gs://ccle_bams/wes/RP-1561/Exome/NOZ/v1/NOZ.bam\",\n",
    "\"gs://ccle_bams/wes/SANGER_TE11_OESOPHAGUS.bam\":\n",
    "\"gs://ccle_bams/wes/SANGER_TE11_OESOPHAGUS.bam\",\n",
    "'gs://ccle_bams/wes/SANGER_J82_URINARY_TRACT.bam':\n",
    "\"gs://ccle_bams/wes/SANGER_J82_URINARY_TRACT.bam\",\n",
    "'gs://ccle_bams/wes/SANGER_PA1_OVARY.bam':\n",
    "\"gs://ccle_bams/wes/SANGER_PA1_OVARY.bam\"}"
   ]
  },
  {
   "cell_type": "code",
   "execution_count": null,
   "metadata": {},
   "outputs": [],
   "source": [
    "for k,val in inRNAreplace.items():\n",
    "    v = val[:-1]\n",
    "    ! gsutil ls $v*"
   ]
  },
  {
   "cell_type": "code",
   "execution_count": null,
   "metadata": {},
   "outputs": [],
   "source": [
    "inRNAreplacebai = {\"gs://ccle_bams/wes/G41763/U343/current/U343.bam\":\n",
    "\"gs://ccle_bams/wes/U343/current/U343.bai\",\n",
    "\"gs://ccle_bams/wes/C1926/SNU-601/current/SNU-601.bam\":\n",
    "\"gs://ccle_bams/rna/G27466.SNU-601.2.bam.bai\",\n",
    "\"gs://ccle_bams/rna/VAESBJ/v2/VAESBJ.bam\":\n",
    "\"gs://ccle_bams/rna/RNA/VAESBJ/v2/VAESBJ.bai\",\n",
    "\"gs://ccle_bams/rna/RNA/LPS141/v2/LPS141.bam\":\n",
    "\"gs://ccle_bams/rna/LPS141.bai\"}"
   ]
  },
  {
   "cell_type": "code",
   "execution_count": null,
   "metadata": {},
   "outputs": [],
   "source": [
    "for k,val in inRNAreplace.items():\n",
    "    rnawm.update_sample_attributes({'RNAseq_bam':val,'RNAseq_bai': inRNAreplacebai[k]},rnasam[rnasam.RNAseq_bam==k].index[0])"
   ]
  },
  {
   "cell_type": "code",
   "execution_count": null,
   "metadata": {},
   "outputs": [],
   "source": [
    "! gsutil mv gs://ccle_bams/wes/Getz_IBM_CellLines_Exomes_19samples_02012018/SANGER_PA1_OVARY.bam gs://ccle_bams/wes/SANGER_PA1_OVARY.bam"
   ]
  },
  {
   "cell_type": "code",
   "execution_count": null,
   "metadata": {},
   "outputs": [],
   "source": [
    "for k,val in inWESreplace.items():\n",
    "    v = val[:-1]\n",
    "    ! gsutil ls $v*"
   ]
  },
  {
   "cell_type": "code",
   "execution_count": null,
   "metadata": {},
   "outputs": [],
   "source": [
    "inWESreplacebai = {'gs://ccle_bams/wes/U343/current/U343.bam':\n",
    "'gs://ccle_bams/wes/CCLE_DepMap_WES_July_Dec_2018/RP-1561/Exome/U343/v1/U343.bai',\n",
    "\"gs://ccle_bams/wes/RP-1561/Exome/NOZ/current/NOZ.bam\":\n",
    "\"gs://ccle_bams/wes/RP-1561/Exome/NOZ/v1/NOZ.bai\",\n",
    "\"gs://ccle_bams/wes/SANGER_TE11_OESOPHAGUS.bam\":\n",
    "\"gs://ccle_bams/wes/SANGER_TE11_OESOPHAGUS.bam.bai\",\n",
    "'gs://ccle_bams/wes/SANGER_J82_URINARY_TRACT.bam':\n",
    "\"gs://ccle_bams/wes/SANGER_J82_URINARY_TRACT.bam.bai\",\n",
    "'gs://ccle_bams/wes/SANGER_PA1_OVARY.bam':\n",
    "\"gs://ccle_bams/wes/SANGER_PA1_OVARY.bam.bai\"}"
   ]
  },
  {
   "cell_type": "code",
   "execution_count": null,
   "metadata": {},
   "outputs": [],
   "source": [
    "for k,val in inWESreplace.items():\n",
    "    cnwm.update_sample_attributes({'WES_bam':val,'WES_bai': inWESreplacebai[k]},cnsam[cnsam.WES_bam==k].index[0])"
   ]
  },
  {
   "cell_type": "code",
   "execution_count": null,
   "metadata": {},
   "outputs": [],
   "source": [
    "for k,val in inWESreplace.items():\n",
    "    mutwm.update_sample_attributes({'WES_bam':val,'WES_bai': inWESreplacebai[k]},mutsam[mutsam.WES_bam==k].index[0])"
   ]
  },
  {
   "cell_type": "code",
   "execution_count": null,
   "metadata": {},
   "outputs": [],
   "source": [
    "lostrna = lostrna - set(inRNAreplace.keys())\n",
    "lostrna"
   ]
  },
  {
   "cell_type": "code",
   "execution_count": null,
   "metadata": {},
   "outputs": [],
   "source": [
    "rnasam.loc[[i.split('_')[0]+'_2' for i in rnasam[rnasam.RNAseq_bam.isin(lostrna)].index]].index"
   ]
  },
  {
   "cell_type": "markdown",
   "metadata": {},
   "source": [
    "# MATCH NORMAL TISSUE\n"
   ]
  },
  {
   "cell_type": "code",
   "execution_count": null,
   "metadata": {},
   "outputs": [],
   "source": [
    "matchnormal = {\"ACH-002343_1\",\n",
    "\"ACH-002344_1\",\n",
    "\"ACH-002346_1\",\n",
    "\"ACH-002367_1\",\n",
    "\"ACH-002368_1\",\n",
    "\"ACH-002369_1\",\n",
    "\"ACH-002370_1\",\n",
    "\"ACH-002364_1\",\n",
    "\"ACH-002365_1\",\n",
    "\"ACH-002366_1\",\n",
    "\"ACH-002359_1\",\n",
    "\"ACH-002360_1\",\n",
    "\"ACH-002361_1\",\n",
    "\"ACH-002362_1\",\n",
    "\"ACH-002347_1\",\n",
    "\"ACH-002348_1\",\n",
    "\"ACH-002349_1\",\n",
    "\"ACH-002350_1\",\n",
    "\"ACH-002351_1\",\n",
    "\"ACH-002352_1\",\n",
    "\"ACH-002353_1\",\n",
    "\"ACH-002354_1\",\n",
    "\"ACH-002355_1\",\n",
    "\"ACH-002356_1\",\n",
    "\"ACH-002357_1\",\n",
    "\"ACH-002358_1\",\n",
    "\"ACH-002363_1\",\n",
    "\"ACH-002371_1\",\n",
    "\"ACH-002372_1\",\n",
    "\"ACH-002373_1\",\n",
    "\"ACH-002374_1\",\n",
    "\"ACH-002342_1\",\n",
    "\"ACH-002383_1\",\n",
    "\"ACH-002384_1\",\n",
    "\"ACH-002379_1\",\n",
    "\"ACH-002380_1\",\n",
    "\"ACH-002381_1\",\n",
    "\"ACH-002382_1\",\n",
    "\"ACH-002375_1\",\n",
    "\"ACH-002376_1\",\n",
    "\"ACH-002377_1\",\n",
    "\"ACH-002378_1\"}"
   ]
  },
  {
   "cell_type": "code",
   "execution_count": null,
   "metadata": {},
   "outputs": [],
   "source": [
    "cnwm.delete_sample(matchnormal)"
   ]
  },
  {
   "cell_type": "code",
   "execution_count": null,
   "metadata": {},
   "outputs": [],
   "source": [
    "mutwm.delete_sample(matchnormal)"
   ]
  },
  {
   "cell_type": "code",
   "execution_count": null,
   "metadata": {},
   "outputs": [],
   "source": [
    "mutsam[mutsam.index.isin(matchnormal)].to_csv('match_normal_mut.csv')"
   ]
  },
  {
   "cell_type": "markdown",
   "metadata": {},
   "source": [
    "### moving directly in terra some chordoma that were just CCLE task but not data"
   ]
  },
  {
   "cell_type": "markdown",
   "metadata": {},
   "source": [
    "# save and remove the lost samples "
   ]
  },
  {
   "cell_type": "code",
   "execution_count": null,
   "metadata": {},
   "outputs": [],
   "source": [
    "# NO Versions at all WES\n",
    "noversionwes=['gs://ccle_bams/wes/chordomafoundationsequencedata/BAM_File/ExomeSeq/ExomeSeq/U-CH1_ExomeSeq_GS001437.cleaned.rg.sorted.markedDupes.realigned.recal.bam',\n",
    " 'gs://ccle_bams/wes/chordomafoundationsequencedata/BAM_Files/ExomeSeq/ExomeSeq/U-CH2_ExomeSeq_GS001438.cleaned.rg.sorted.markedDupes.realigned.recal.bam']"
   ]
  },
  {
   "cell_type": "code",
   "execution_count": null,
   "metadata": {},
   "outputs": [],
   "source": [
    "# missing version WES\n",
    "missingwes=['gs://ccle_bams/wes/DepMap_CellLine_WES_Batch3_June2019/RP-1561/Exome/R256/v1/R256.bam',\n",
    "'gs://ccle_bams/wes/DepMap_CellLine_WES_July2019/RP-1561/Exome/GB2/v1/GB2.bam',\n",
    "'gs://ccle_bams/wes/DepMap_CellLine_WES_July2019/RP-1561/Exome/HAP1MLH1KO_1/v1/HAP1MLH1KO_1.bam',\n",
    "'gs://ccle_bams/wes/DepMap_CellLine_WES_July2019/RP-1561/Exome/HAP1_1/v1/HAP1_1.bam',\n",
    "'gs://ccle_bams/wes/DepMap_CellLine_WES_July2019/RP-1561/Exome/HSQ89_1/v1/HSQ89_1.bam',\n",
    "'gs://ccle_bams/wes/DepMap_CellLine_WES_July2019/RP-1561/Exome/HSSCH2_1/v1/HSSCH2_1.bam',\n",
    "'gs://ccle_bams/wes/DepMap_CellLine_WES_July2019/RP-1561/Exome/NALM16/v1/NALM16.bam']"
   ]
  },
  {
   "cell_type": "code",
   "execution_count": null,
   "metadata": {},
   "outputs": [],
   "source": [
    "# missing version RNA\n",
    "missingRNA=['gs://fc-8a38e8a8-44ef-44c6-9bb8-4201797c5d7f/Getz_IBM_DMX_CellLines_10samples_Truseq_100M_12082018/RP-1420/RNA/HCSC1/v1/HCSC1.bam',\n",
    "'gs://fc-8a38e8a8-44ef-44c6-9bb8-4201797c5d7f/Getz_IBM_DMX_CellLines_10samples_Truseq_100M_12082018/RP-1420/RNA/HT144SKINFV1/v1/HT144SKINFV1.bam',\n",
    "'gs://fc-8a38e8a8-44ef-44c6-9bb8-4201797c5d7f/Getz_IBM_DMX_CellLines_10samples_Truseq_100M_12082018/RP-1420/RNA/HT144SKINFV2/v1/HT144SKINFV2.bam',\n",
    "'gs://fc-8a38e8a8-44ef-44c6-9bb8-4201797c5d7f/Getz_IBM_DMX_CellLines_10samples_Truseq_100M_12082018/RP-1420/RNA/HT144SKINFV3/v1/HT144SKINFV3.bam',\n",
    "'gs://fc-8a38e8a8-44ef-44c6-9bb8-4201797c5d7f/Getz_IBM_DMX_CellLines_10samples_Truseq_100M_12082018/RP-1420/RNA/KML1/v1/KML1.bam',\n",
    "'gs://fc-8a38e8a8-44ef-44c6-9bb8-4201797c5d7f/Getz_IBM_DMX_CellLines_10samples_Truseq_100M_12082018/RP-1420/RNA/RVH421SKINFV1/v1/RVH421SKINFV1.bam',\n",
    "'gs://fc-8a38e8a8-44ef-44c6-9bb8-4201797c5d7f/Getz_IBM_DMX_CellLines_10samples_Truseq_100M_12082018/RP-1420/RNA/SKGII/v1/SKGII.bam',\n",
    "'gs://fc-8a38e8a8-44ef-44c6-9bb8-4201797c5d7f/Getz_IBM_DMX_CellLines_10samples_Truseq_100M_12082018/RP-1420/RNA/SNU1544/v1/SNU1544.bam',\n",
    "'gs://fc-8a38e8a8-44ef-44c6-9bb8-4201797c5d7f/Getz_IBM_DMX_CellLines_10samples_Truseq_100M_12082018/RP-1420/RNA/SUM44PE/v1/SUM44PE.bam',\n",
    "'gs://fc-8a38e8a8-44ef-44c6-9bb8-4201797c5d7f/Getz_IBM_DMX_CellLines_10samples_Truseq_100M_12082018/RP-1420/RNA/UHO1/v1/UHO1.bam']"
   ]
  },
  {
   "cell_type": "code",
   "execution_count": null,
   "metadata": {},
   "outputs": [],
   "source": [
    "rnasam[rnasam.RNAseq_bam.isin(missingRNA)].to_csv('rnamissing_save.csv')\n",
    "mutsam[mutsam.WES_bam.isin(missingwes+noversionwes)].to_csv('mutmissing_save.csv')\n",
    "cnsam[cnsam.WES_bam.isin(missingwes+noversionwes)].to_csv('cnmissing_save.csv')"
   ]
  },
  {
   "cell_type": "code",
   "execution_count": null,
   "metadata": {},
   "outputs": [],
   "source": [
    "rnawm.delete_sample(rnasam[rnasam.RNAseq_bam.isin(missingRNA)].index)"
   ]
  },
  {
   "cell_type": "code",
   "execution_count": null,
   "metadata": {},
   "outputs": [],
   "source": [
    "mutwm.delete_sample(mutsam[mutsam.WES_bam.isin(missingwes+noversionwes)].index)"
   ]
  },
  {
   "cell_type": "code",
   "execution_count": null,
   "metadata": {},
   "outputs": [],
   "source": [
    "cnwm.delete_sample(cnsam[cnsam.WES_bam.isin(missingwes+noversionwes)].index)"
   ]
  },
  {
   "cell_type": "markdown",
   "metadata": {},
   "source": [
    "# final recheck of Bams"
   ]
  },
  {
   "cell_type": "code",
   "execution_count": null,
   "metadata": {},
   "outputs": [],
   "source": [
    "cnsam = cnwm.get_samples()"
   ]
  },
  {
   "cell_type": "code",
   "execution_count": null,
   "metadata": {},
   "outputs": [],
   "source": [
    "files = gcp.lsFiles(cnsam.WES_bam.tolist())"
   ]
  },
  {
   "cell_type": "code",
   "execution_count": null,
   "metadata": {},
   "outputs": [],
   "source": [
    "set(cnsam.WES_bam) - set(files)"
   ]
  },
  {
   "cell_type": "code",
   "execution_count": null,
   "metadata": {},
   "outputs": [],
   "source": [
    "for i in inWESreplace.values():\n",
    "    !gsutil ls $i"
   ]
  },
  {
   "cell_type": "code",
   "execution_count": null,
   "metadata": {},
   "outputs": [],
   "source": [
    "cnsam[cnsam.WES_bam==\"gs://ccle_bams/wes/chordomafoundationsequencedata/BAM_Files/ExomeSeq/ExomeSeq/U-CH1_ExomeSeq_GS001437.cleaned.rg.sorted.markedDupes.realigned.recal.bam\"].to_csv('additionalCN.csv')"
   ]
  },
  {
   "cell_type": "code",
   "execution_count": null,
   "metadata": {},
   "outputs": [],
   "source": [
    "cnwm.delete_sample(cnsam[cnsam.WES_bam==\"gs://ccle_bams/wes/chordomafoundationsequencedata/BAM_Files/ExomeSeq/ExomeSeq/U-CH1_ExomeSeq_GS001437.cleaned.rg.sorted.markedDupes.realigned.recal.bam\"].index)"
   ]
  },
  {
   "cell_type": "code",
   "execution_count": null,
   "metadata": {},
   "outputs": [],
   "source": [
    "mutsam = mutwm.get_samples()"
   ]
  },
  {
   "cell_type": "code",
   "execution_count": null,
   "metadata": {},
   "outputs": [],
   "source": [
    "files = gcp.lsFiles([i for i in mutsam.WES_bam.tolist() if type(i) is str])"
   ]
  },
  {
   "cell_type": "code",
   "execution_count": null,
   "metadata": {},
   "outputs": [],
   "source": [
    "set(mutsam.WES_bam) - set(files)"
   ]
  },
  {
   "cell_type": "code",
   "execution_count": null,
   "metadata": {},
   "outputs": [],
   "source": [
    "mutwm.delete_sample(mutsam[mutsam.WES_bam==\"gs://ccle_bams/wes/chordomafoundationsequencedata/BAM_Files/ExomeSeq/ExomeSeq/U-CH1_ExomeSeq_GS001437.cleaned.rg.sorted.markedDupes.realigned.recal.bam\"].index)"
   ]
  },
  {
   "cell_type": "code",
   "execution_count": null,
   "metadata": {},
   "outputs": [],
   "source": [
    "mutsam[mutsam.WES_bam==\"gs://ccle_bams/wes/chordomafoundationsequencedata/BAM_Files/ExomeSeq/ExomeSeq/U-CH1_ExomeSeq_GS001437.cleaned.rg.sorted.markedDupes.realigned.recal.bam\"].to_csv('additionalCN.csv')"
   ]
  },
  {
   "cell_type": "code",
   "execution_count": null,
   "metadata": {},
   "outputs": [],
   "source": [
    "rnasam = rnawm.get_samples()"
   ]
  },
  {
   "cell_type": "code",
   "execution_count": null,
   "metadata": {},
   "outputs": [],
   "source": [
    "files = gcp.lsFiles([i for i in rnasam.RNAseq_bam.tolist() if type(i) is str])"
   ]
  },
  {
   "cell_type": "code",
   "execution_count": null,
   "metadata": {},
   "outputs": [],
   "source": [
    "wrongrna = set(rnasam.RNAseq_bam) - set(files)"
   ]
  },
  {
   "cell_type": "code",
   "execution_count": null,
   "metadata": {},
   "outputs": [],
   "source": [
    "wrongrna & inRNAreplace.keys()"
   ]
  },
  {
   "cell_type": "code",
   "execution_count": null,
   "metadata": {},
   "outputs": [],
   "source": [
    "wrongrna & set(inRNAreplace.values())"
   ]
  },
  {
   "cell_type": "code",
   "execution_count": null,
   "metadata": {},
   "outputs": [],
   "source": [
    "a = set()\n",
    "for i in wrongrna:\n",
    "    a.add(os.popen('gsutil ls '+i).read().split('\\n')[0])\n",
    "wrongrna = wrongrna -a"
   ]
  },
  {
   "cell_type": "code",
   "execution_count": null,
   "metadata": {},
   "outputs": [],
   "source": [
    "len(wrongrna)"
   ]
  },
  {
   "cell_type": "code",
   "execution_count": null,
   "metadata": {},
   "outputs": [],
   "source": [
    "wrongrna"
   ]
  },
  {
   "cell_type": "markdown",
   "metadata": {},
   "source": [
    "# Adding things that should be in both workspaces"
   ]
  },
  {
   "cell_type": "code",
   "execution_count": null,
   "metadata": {},
   "outputs": [],
   "source": [
    "set(cnsam.WES_bam) - set(mutsam.WES_bam)"
   ]
  },
  {
   "cell_type": "code",
   "execution_count": null,
   "metadata": {},
   "outputs": [],
   "source": [
    "for val in set(cnsam.WES_bam) - set(mutsam.WES_bam):\n",
    "    mutwm.update_sample_attributes()"
   ]
  },
  {
   "cell_type": "code",
   "execution_count": null,
   "metadata": {},
   "outputs": [],
   "source": [
    "set(mutsam.WES_bam) - set(cnsam.WES_bam)"
   ]
  },
  {
   "cell_type": "code",
   "execution_count": null,
   "metadata": {},
   "outputs": [],
   "source": [
    "def sortOutVersions(bams):\n",
    "    for bam in bams:\n",
    "        data = os.popen('export GCS_OAUTH_TOKEN=`gcloud auth application-default print-access-token` && samtools view -H '+bam)\n",
    "        if data == signal.SIGINT:\n",
    "            print('Awakened')\n",
    "            break\n",
    "        else:\n",
    "            res = data.read()\n",
    "        \n",
    "        "
   ]
  },
  {
   "cell_type": "markdown",
   "metadata": {},
   "source": [
    "# move and change the path of samples that are likely misslabelled"
   ]
  },
  {
   "cell_type": "code",
   "execution_count": null,
   "metadata": {},
   "outputs": [],
   "source": [
    "cnsam[cnsam.WES_bam.isin([i.RNAseq_bam for k, i in rnasam.iterrows() if '/wes/' in str(i.RNAseq_bam)])]"
   ]
  },
  {
   "cell_type": "code",
   "execution_count": null,
   "metadata": {},
   "outputs": [],
   "source": [
    "bais = []\n",
    "for vals in h.grouped(likelymisslab,50):\n",
    "    v = ''\n",
    "    for val in vals:\n",
    "        v+=val[:-1]+'* '\n",
    "    res = os.popen('gsutil -m ls '+v)\n",
    "    if res==signal.SIGINT:\n",
    "        raise ValueError('pressed excape or error')\n",
    "    res = res.read().split('\\n')[:-1]\n",
    "    bais.extend([i for i in res if '.bai' in str(i)])"
   ]
  },
  {
   "cell_type": "code",
   "execution_count": null,
   "metadata": {},
   "outputs": [],
   "source": [
    "for i,v in enumerate(bais[1:]):\n",
    "    if '.bam.bai' in v:\n",
    "        print(bais[i],v)"
   ]
  },
  {
   "cell_type": "code",
   "execution_count": null,
   "metadata": {},
   "outputs": [],
   "source": [
    "nonsimidup=['gs://ccle_bams/wes/G28831.J82.3.',\n",
    "'gs://ccle_bams/wes/G28844.HEL.3.',\n",
    "'gs://ccle_bams/wes/G41716.IA-LM.5.',\n",
    "'gs://ccle_bams/wes/RP-1561/Exome/NOZ/current/NOZ.',\n",
    "'gs://ccle_bams/wes/G28885.Hs_852.T.3.',\n",
    "'gs://ccle_bams/wes/G28824.HEC-265.3.']"
   ]
  },
  {
   "cell_type": "code",
   "execution_count": null,
   "metadata": {},
   "outputs": [],
   "source": [
    "for val in nonsimidup[1:]:\n",
    "    os.system('export GCS_OAUTH_TOKEN=`gcloud auth application-default print-access-token` && samtools index '+val+'bam '+val+'bai &')"
   ]
  },
  {
   "cell_type": "code",
   "execution_count": null,
   "metadata": {},
   "outputs": [],
   "source": [
    "candrop = [\"gs://ccle_bams/wes/G28054.KYSE-520.1.bam.bai\",\n",
    "            \"gs://ccle_bams/wes/G27492.SNU-719.2.bam.bai\",\n",
    "            \"gs://ccle_bams/wes/G27275.TE-9.1.bam.bai\",\n",
    "            \"gs://ccle_bams/wes/G30554.KASUMI-1.1.bam.bai\",\n",
    "            \"gs://ccle_bams/wes/G26259.AML-193.2.bam.bai\",\n",
    "            \"gs://ccle_bams/wes/G28824.HEC-265.3.bam.bai\",\n",
    "            \"gs://ccle_bams/wes/G28885.Hs_852.T.3.bam.bai\",\n",
    "            \"gs://ccle_bams/wes/RP-1561/Exome/NOZ/current/NOZ.bam.bai\",\n",
    "            \"gs://ccle_bams/wes/G20474.Hs_746T.2.bam.bai\",\n",
    "            \"gs://ccle_bams/wes/G27270.TE-11.1.bam.bai\",\n",
    "            \"gs://ccle_bams/wes/G41686.KYSE-150.5.bam.bai\",\n",
    "            \"gs://ccle_bams/wes/G28844.HEL.3.bam.bai\",\n",
    "            \"gs://ccle_bams/wes/G27228.A101D.1.bam.bai\",\n",
    "            \"gs://ccle_bams/wes/G28831.J82.3.bam.bai\",\n",
    "            \"gs://ccle_bams/wes/G41716.IA-LM.5.bam.bai\",\n",
    "            \"gs://ccle_bams/wes/G28543.OCI-LY-19.1.bam.bai\",\n",
    "            \"gs://ccle_bams/wes/G41726.MCF7.5.bam.bai\",\n",
    "           \"gs://ccle_bams/wes/G27496.SNU-216.2.bam.bai\"\n",
    "          ]"
   ]
  },
  {
   "cell_type": "code",
   "execution_count": null,
   "metadata": {},
   "outputs": [],
   "source": [
    "bais = [i for i in bais if not (i in candrop)]"
   ]
  },
  {
   "cell_type": "code",
   "execution_count": null,
   "metadata": {},
   "outputs": [],
   "source": [
    "len(bais)"
   ]
  },
  {
   "cell_type": "code",
   "execution_count": null,
   "metadata": {},
   "outputs": [],
   "source": [
    "len(likelymisslab)"
   ]
  },
  {
   "cell_type": "code",
   "execution_count": null,
   "metadata": {},
   "outputs": [],
   "source": [
    "likelymisslab.remove('gs://ccle_bams/rna/G32831/MDA-MB-134-VI/v1/MDA-MB-134r-VI.bam')"
   ]
  },
  {
   "cell_type": "code",
   "execution_count": null,
   "metadata": {},
   "outputs": [],
   "source": [
    "for i, val in enumerate(likelymisslab):\n",
    "    if val[:-1] not in bais[i]:\n",
    "        raise ValueError(i,likelymisslab[i-1:i+2],bais[i-1:i+2])"
   ]
  },
  {
   "cell_type": "code",
   "execution_count": null,
   "metadata": {},
   "outputs": [],
   "source": [
    "i"
   ]
  },
  {
   "cell_type": "code",
   "execution_count": null,
   "metadata": {},
   "outputs": [],
   "source": [
    "j=1265\n",
    "for i,val in enumerate(likelymisslab[j:]):\n",
    "    res=0\n",
    "    if '/rna/' in val:\n",
    "        rename = val.replace('/rna/','/wes/')\n",
    "        res = os.system('gsutil mv '+val+' '+rename)\n",
    "        res += os.system('gsutil mv '+bais[j+i]+' '+bais[j+i].replace('/rna/','/wes/'))\n",
    "        if val in cnsam.WES_bam and val in mutsam.WES_bam:\n",
    "            print(val)\n",
    "            cnwm.update_sample_attributes({})\n",
    "        elif val in rnasam.RNAseq_bam:\n",
    "            raise ValueError('is it WES?? '+val)\n",
    "        if res!=0:\n",
    "            print(val)\n",
    "            if os.system('gsutil ls '+rename) != 0:\n",
    "                raise ValueError('left or error')\n",
    "    elif '/wes/' in val:\n",
    "        rename = val.replace('/wes/','/rna/')\n",
    "        res = os.system('gsutil mv '+val+' '+rename)\n",
    "        res += os.system('gsutil mv '+bais[j+i]+' '+bais[j+i].replace('/wes/','/rna/'))\n",
    "        if val in rnasam.RNAseq_bam.tolist():\n",
    "            rnawm.update_sample_attributes({'RNAseq_bam':rename, 'RNAseq_bai':bais[j+i].replace('/wes/','/rna/')}, rnasam[rnasam.RNAseq_bam==val].index[0])   \n",
    "    else:\n",
    "        raise ValueError('nothing '+val)\n",
    "    "
   ]
  },
  {
   "cell_type": "code",
   "execution_count": null,
   "metadata": {},
   "outputs": [],
   "source": [
    "val = likelymisslab[1189]\n",
    "rename = val.replace('/wes/','/rna/')\n",
    "rnawm.update_sample_attributes({'RNAseq_bam':rename, 'RNAseq_bai':bais[1189].replace('/wes/','/rna/')}, rnasam[rnasam.RNAseq_bam==val].index[0]) "
   ]
  },
  {
   "cell_type": "markdown",
   "metadata": {},
   "source": [
    "## Check final"
   ]
  },
  {
   "cell_type": "code",
   "execution_count": null,
   "metadata": {},
   "outputs": [],
   "source": [
    "samples = os.popen('gsutil -m ls -l '+folder +'**.bam').read().split('\\n')\n",
    "sizes = {'gs://' + val.split('gs://')[1].split('#')[0]: int(val.split(\" 2019-\")[0] if \"2019-\" in val else val.split(\" 2020-\")[0]) for val in samples[:-2]}\n",
    "names = {}\n",
    "count = 0\n",
    "dup= []\n",
    "for k, val in sizes.items():\n",
    "    if val in names:\n",
    "        dup.append((k, names[val]))\n",
    "        count+=1\n",
    "    names[val] = k"
   ]
  },
  {
   "cell_type": "code",
   "execution_count": null,
   "metadata": {},
   "outputs": [],
   "source": [
    "len(names)"
   ]
  },
  {
   "cell_type": "code",
   "execution_count": null,
   "metadata": {},
   "outputs": [],
   "source": [
    "rnasam[rnasam.RNAseq_bam.isin([i[1] for i in dup])].RNAseq_bam.tolist()"
   ]
  },
  {
   "cell_type": "code",
   "execution_count": null,
   "metadata": {},
   "outputs": [],
   "source": [
    "sizes.keys() & set(likelymisslab)"
   ]
  },
  {
   "cell_type": "code",
   "execution_count": null,
   "metadata": {},
   "outputs": [],
   "source": [
    "sizes.keys() & set(bais)"
   ]
  },
  {
   "cell_type": "markdown",
   "metadata": {},
   "source": [
    "## get the version that we have in the bucket but not in terra"
   ]
  },
  {
   "cell_type": "code",
   "execution_count": null,
   "metadata": {},
   "outputs": [],
   "source": [
    "notanywhere = set(names.values()) - set(rnasam.RNAseq_bam.tolist() + mutsam.WES_bam.tolist() + cnsam.WES_bam.tolist())\n",
    "notanywhere"
   ]
  },
  {
   "cell_type": "code",
   "execution_count": null,
   "metadata": {},
   "outputs": [],
   "source": [
    "len(notanywhere)"
   ]
  },
  {
   "cell_type": "code",
   "execution_count": null,
   "metadata": {},
   "outputs": [],
   "source": []
  },
  {
   "cell_type": "code",
   "execution_count": null,
   "metadata": {},
   "outputs": [],
   "source": []
  },
  {
   "cell_type": "markdown",
   "metadata": {},
   "source": [
    "## find the versions number from the date sequenced compared to other samples or from name "
   ]
  },
  {
   "cell_type": "code",
   "execution_count": null,
   "metadata": {},
   "outputs": [],
   "source": []
  },
  {
   "cell_type": "code",
   "execution_count": null,
   "metadata": {},
   "outputs": [],
   "source": []
  },
  {
   "cell_type": "code",
   "execution_count": null,
   "metadata": {},
   "outputs": [],
   "source": []
  },
  {
   "cell_type": "markdown",
   "metadata": {},
   "source": [
    "## upload them to terra"
   ]
  },
  {
   "cell_type": "code",
   "execution_count": null,
   "metadata": {},
   "outputs": [],
   "source": []
  },
  {
   "cell_type": "code",
   "execution_count": null,
   "metadata": {},
   "outputs": [],
   "source": []
  },
  {
   "cell_type": "code",
   "execution_count": null,
   "metadata": {},
   "outputs": [],
   "source": []
  },
  {
   "cell_type": "markdown",
   "metadata": {},
   "source": [
    "# check that we have the correct bais for each samples"
   ]
  },
  {
   "cell_type": "code",
   "execution_count": null,
   "metadata": {},
   "outputs": [],
   "source": []
  },
  {
   "cell_type": "code",
   "execution_count": null,
   "metadata": {},
   "outputs": [],
   "source": []
  },
  {
   "cell_type": "code",
   "execution_count": null,
   "metadata": {},
   "outputs": [],
   "source": []
  },
  {
   "cell_type": "markdown",
   "metadata": {},
   "source": [
    "# change the ach ID for sm ID  "
   ]
  },
  {
   "cell_type": "code",
   "execution_count": null,
   "metadata": {},
   "outputs": [],
   "source": [
    "# get sm ids for all"
   ]
  },
  {
   "cell_type": "code",
   "execution_count": null,
   "metadata": {},
   "outputs": [],
   "source": []
  },
  {
   "cell_type": "code",
   "execution_count": null,
   "metadata": {},
   "outputs": [],
   "source": []
  },
  {
   "cell_type": "code",
   "execution_count": null,
   "metadata": {},
   "outputs": [],
   "source": []
  },
  {
   "cell_type": "markdown",
   "metadata": {},
   "source": [
    "# create the csv file"
   ]
  },
  {
   "cell_type": "code",
   "execution_count": null,
   "metadata": {},
   "outputs": [],
   "source": []
  },
  {
   "cell_type": "code",
   "execution_count": null,
   "metadata": {},
   "outputs": [],
   "source": []
  },
  {
   "cell_type": "code",
   "execution_count": null,
   "metadata": {},
   "outputs": [],
   "source": []
  },
  {
   "cell_type": "markdown",
   "metadata": {},
   "source": [
    "## add previous sequencing to csv"
   ]
  },
  {
   "cell_type": "code",
   "execution_count": null,
   "metadata": {},
   "outputs": [],
   "source": []
  },
  {
   "cell_type": "code",
   "execution_count": null,
   "metadata": {},
   "outputs": [],
   "source": []
  },
  {
   "cell_type": "code",
   "execution_count": null,
   "metadata": {},
   "outputs": [],
   "source": []
  },
  {
   "cell_type": "code",
   "execution_count": null,
   "metadata": {},
   "outputs": [],
   "source": [
    "# can we find more wes for these ??\n",
    "wesfor = {'ACH-000004',\n",
    " 'ACH-000118',\n",
    " 'ACH-000246',\n",
    " 'ACH-000258',\n",
    " 'ACH-000272',\n",
    " 'ACH-000304',\n",
    " 'ACH-000356',\n",
    " 'ACH-000444',\n",
    " 'ACH-000452',\n",
    " 'ACH-000488',\n",
    " 'ACH-000658',\n",
    " 'ACH-000738',\n",
    " 'ACH-000768',\n",
    " 'ACH-000837',\n",
    " 'ACH-000848',\n",
    " 'ACH-000865',\n",
    " 'ACH-000960',\n",
    " 'ACH-000961'}\n",
    "historyofsnparray = {\"ACH-000004\",\"ACH-000014\",\"ACH-000025\",\"ACH-000028\",\"ACH-000118\",\"ACH-000128\",\"ACH-000164\",\"ACH-000167\",\"ACH-000215\",\"ACH-000237\",\"ACH-000246\",\"ACH-000258\",\"ACH-000272\",\"ACH-000304\",\"ACH-000310\",\"ACH-000356\",\"ACH-000436\",\"ACH-000444\",\"ACH-000452\",\"ACH-000454\",\"ACH-000458\",\"ACH-000488\",\"ACH-000550\",\"ACH-000591\",\"ACH-000593\",\"ACH-000600\",\"ACH-000632\",\"ACH-000634\",\"ACH-000658\",\"ACH-000673\",\"ACH-000695\",\"ACH-000738\",\"ACH-000739\",\"ACH-000768\",\"ACH-000774\",\"ACH-000836\",\"ACH-000837\",\"ACH-000848\",\"ACH-000854\",\"ACH-000865\",\"ACH-000887\",\"ACH-000901\",\"ACH-000928\",\"ACH-000941\",\"ACH-000960\",\"ACH-000961\",\"ACH-001061\",\"ACH-001239\"}\n",
    "stillsnpfor = historyofsnparray - wesfor\n",
    "stillsnpfor"
   ]
  },
  {
   "cell_type": "markdown",
   "metadata": {},
   "source": [
    "# add WGS to csv"
   ]
  },
  {
   "cell_type": "code",
   "execution_count": null,
   "metadata": {},
   "outputs": [],
   "source": []
  },
  {
   "cell_type": "code",
   "execution_count": null,
   "metadata": {},
   "outputs": [],
   "source": []
  },
  {
   "cell_type": "code",
   "execution_count": null,
   "metadata": {},
   "outputs": [],
   "source": []
  },
  {
   "cell_type": "code",
   "execution_count": null,
   "metadata": {},
   "outputs": [],
   "source": []
  },
  {
   "cell_type": "code",
   "execution_count": null,
   "metadata": {},
   "outputs": [],
   "source": []
  },
  {
   "cell_type": "markdown",
   "metadata": {},
   "source": [
    "### add the WGS files to WES pipeline"
   ]
  },
  {
   "cell_type": "code",
   "execution_count": null,
   "metadata": {},
   "outputs": [],
   "source": [
    "lineswithonlyWGS= {'ACH-000014',\n",
    "'ACH-000164',\n",
    "'ACH-000454',\n",
    "'ACH-000550',\n",
    "'ACH-000632',\n",
    "'ACH-000739',\n",
    "'ACH-000928',\n",
    "'ACH-001239'}"
   ]
  },
  {
   "cell_type": "code",
   "execution_count": null,
   "metadata": {},
   "outputs": [],
   "source": []
  },
  {
   "cell_type": "code",
   "execution_count": null,
   "metadata": {},
   "outputs": [],
   "source": []
  },
  {
   "cell_type": "code",
   "execution_count": null,
   "metadata": {},
   "outputs": [],
   "source": []
  },
  {
   "cell_type": "code",
   "execution_count": null,
   "metadata": {},
   "outputs": [],
   "source": []
  },
  {
   "cell_type": "markdown",
   "metadata": {},
   "source": [
    "## add to mut, rna, cn workspaces:\n",
    "from depmap cv pakita master:\n",
    "- Gender\t\n",
    "- Primary Site\t\n",
    "- Primary Disease\t\n",
    "- Subtype\t\n",
    "- Disease\t\n",
    "- Disease Subtype\t\n",
    "- Disease Sub-subtype\n",
    "- Tumor Type for Dashboard"
   ]
  },
  {
   "cell_type": "code",
   "execution_count": null,
   "metadata": {},
   "outputs": [],
   "source": []
  },
  {
   "cell_type": "code",
   "execution_count": null,
   "metadata": {},
   "outputs": [],
   "source": []
  },
  {
   "cell_type": "code",
   "execution_count": null,
   "metadata": {},
   "outputs": [],
   "source": []
  },
  {
   "cell_type": "markdown",
   "metadata": {},
   "source": [
    "# add other data type to csv\n",
    "\n",
    "using the Terra workspacce CCLE2 and master depmap CV : pakita master  \n",
    "\n",
    "using the columns : \n",
    "- Stripped Cell Line Name\t\n",
    "- Aliases\t\n",
    "- Gender\t\n",
    "- notes\t\n",
    "- Primary Site\t\n",
    "- Primary Disease\t\n",
    "- Subtype\t\n",
    "- Comments\t\n",
    "- Disease\t\n",
    "- Disease Subtype\t\n",
    "- Disease Sub-subtype\n",
    "- Tumor Type for Dashboard\n",
    "\n",
    "use snp pairs to: \n",
    "- merge some CL\n",
    "- create parents of"
   ]
  },
  {
   "cell_type": "code",
   "execution_count": null,
   "metadata": {},
   "outputs": [],
   "source": []
  },
  {
   "cell_type": "code",
   "execution_count": null,
   "metadata": {},
   "outputs": [],
   "source": []
  },
  {
   "cell_type": "code",
   "execution_count": null,
   "metadata": {},
   "outputs": [],
   "source": []
  },
  {
   "cell_type": "code",
   "execution_count": null,
   "metadata": {},
   "outputs": [],
   "source": []
  },
  {
   "cell_type": "code",
   "execution_count": null,
   "metadata": {},
   "outputs": [],
   "source": []
  },
  {
   "cell_type": "code",
   "execution_count": null,
   "metadata": {},
   "outputs": [],
   "source": []
  },
  {
   "cell_type": "markdown",
   "metadata": {},
   "source": [
    "# rescuinig ACH-003000"
   ]
  },
  {
   "cell_type": "code",
   "execution_count": null,
   "metadata": {},
   "outputs": [],
   "source": []
  },
  {
   "cell_type": "code",
   "execution_count": null,
   "metadata": {},
   "outputs": [],
   "source": []
  },
  {
   "cell_type": "code",
   "execution_count": null,
   "metadata": {},
   "outputs": [],
   "source": []
  },
  {
   "cell_type": "markdown",
   "metadata": {},
   "source": [
    "# solve some RNAseq files we are not taking from external workspaces"
   ]
  },
  {
   "cell_type": "code",
   "execution_count": null,
   "metadata": {},
   "outputs": [],
   "source": []
  },
  {
   "cell_type": "code",
   "execution_count": null,
   "metadata": {},
   "outputs": [],
   "source": []
  },
  {
   "cell_type": "code",
   "execution_count": null,
   "metadata": {},
   "outputs": [],
   "source": []
  },
  {
   "cell_type": "code",
   "execution_count": null,
   "metadata": {},
   "outputs": [],
   "source": []
  }
 ],
 "metadata": {
  "gist": {
   "data": {
    "description": "ccle_processing/ccle_tasks/CCLE data cleaning/ccle_versions.ipynb",
    "public": false
   },
   "id": ""
  },
  "kernelspec": {
   "display_name": "Python 3",
   "language": "python",
   "name": "python3"
  },
  "language_info": {
   "codemirror_mode": {
    "name": "ipython",
    "version": 3
   },
   "file_extension": ".py",
   "mimetype": "text/x-python",
   "name": "python",
   "nbconvert_exporter": "python",
   "pygments_lexer": "ipython3",
   "version": "3.7.6"
  },
  "latex_envs": {
   "LaTeX_envs_menu_present": true,
   "autoclose": false,
   "autocomplete": true,
   "bibliofile": "biblio.bib",
   "cite_by": "apalike",
   "current_citInitial": 1,
   "eqLabelWithNumbers": true,
   "eqNumInitial": 1,
   "hotkeys": {
    "equation": "Ctrl-E",
    "itemize": "Ctrl-I"
   },
   "labels_anchors": false,
   "latex_user_defs": false,
   "report_style_numbering": false,
   "user_envs_cfg": false
  },
  "toc": {
   "base_numbering": 1,
   "nav_menu": {},
   "number_sections": false,
   "sideBar": true,
   "skip_h1_title": false,
   "title_cell": "Table of Contents",
   "title_sidebar": "Contents",
   "toc_cell": false,
   "toc_position": {
    "height": "576.8px",
    "left": "10px",
    "top": "150px",
    "width": "227.625px"
   },
   "toc_section_display": true,
   "toc_window_display": true
  },
  "varInspector": {
   "cols": {
    "lenName": 16,
    "lenType": 16,
    "lenVar": 40
   },
   "kernels_config": {
    "python": {
     "delete_cmd_postfix": "",
     "delete_cmd_prefix": "del ",
     "library": "var_list.py",
     "varRefreshCmd": "print(var_dic_list())"
    },
    "r": {
     "delete_cmd_postfix": ") ",
     "delete_cmd_prefix": "rm(",
     "library": "var_list.r",
     "varRefreshCmd": "cat(var_dic_list()) "
    }
   },
   "types_to_exclude": [
    "module",
    "function",
    "builtin_function_or_method",
    "instance",
    "_Feature"
   ],
   "window_display": false
  }
 },
 "nbformat": 4,
 "nbformat_minor": 2
}
