{
 "cells": [
  {
   "cell_type": "code",
   "execution_count": null,
   "id": "6411ea4a",
   "metadata": {},
   "outputs": [],
   "source": [
    "import gumbo_client\n",
    "\n",
    "client = gumbo_client.Client(username=\"szhang\")\n",
    "pr_table = client.get(\"omics_profile\")\n",
    "pr_table = pr_table.set_index(\"profile_id\")"
   ]
  },
  {
   "cell_type": "code",
   "execution_count": null,
   "id": "e22491b7",
   "metadata": {},
   "outputs": [],
   "source": [
    "# pr_table.loc[pr_table['public_release_date'].notnull(), 'public_release_date'] = \"22Q2\"\n",
    "# pr_table.loc[pr_table['consortium_release_date'].notnull(), 'consortium_release_date'] = \"22Q2\"\n",
    "# pr_table.loc[pr_table['internal_release_date'].notnull(), 'internal_release_date'] = \"22Q2\"\n",
    "# pr_table.loc[pr_table['ibm_release_date'].notnull(), 'ibm_release_date'] = \"22Q2\""
   ]
  },
  {
   "cell_type": "code",
   "execution_count": null,
   "id": "991ac6d7",
   "metadata": {},
   "outputs": [],
   "source": [
    "dates = pr_table[['public_release_date', 'consortium_release_date', 'internal_release_date', 'ibm_release_date']]\n",
    "dates"
   ]
  },
  {
   "cell_type": "code",
   "execution_count": null,
   "id": "07a38465",
   "metadata": {},
   "outputs": [],
   "source": [
    "dates['no_of_nans'] = dates.isnull().sum(axis=1)\n",
    "prs_to_backfill = dates[(dates['no_of_nans'] != 4) & (dates['no_of_nans'] != 0)].index.tolist()\n",
    "len(prs_to_backfill)"
   ]
  },
  {
   "cell_type": "code",
   "execution_count": null,
   "id": "9160a222",
   "metadata": {},
   "outputs": [],
   "source": [
    "import json\n",
    "from depmapomics.config import *\n",
    "\n",
    "rna_renaming = {}\n",
    "with open('../temp/22Q2/rna_sample_renaming.json') as json_file:\n",
    "    rna_renaming = json.load(json_file)\n",
    "rna_renaming_swapped = dict([(value, key) for key, value in rna_renaming.items()])\n",
    "\n",
    "wgs_renaming = {}\n",
    "wes_renaming = {}\n",
    "\n",
    "with open('../temp/22Q2/wgs_sample_renaming.json') as json_file:\n",
    "    wgs_renaming = json.load(json_file)\n",
    "\n",
    "with open('../temp/22Q2/wes_sample_renaming.json') as json_file:\n",
    "    wes_renaming = json.load(json_file)\n",
    "    \n",
    "# combine renaming dictionaries, prioritizing WES\n",
    "wes_renaming.update(RESCUE_FOR_MUTATION_WES)\n",
    "wgs_renaming.update(RESCUE_FOR_MUTATION_WGS)\n",
    "wgs_renaming_swapped = dict([(value, key) for key, value in wgs_renaming.items()])\n",
    "wes_renaming_swapped = dict([(value, key) for key, value in wes_renaming.items()])"
   ]
  },
  {
   "cell_type": "code",
   "execution_count": null,
   "id": "3e9b67df",
   "metadata": {},
   "outputs": [],
   "source": [
    "def compare_quarters(dataset_old, dataset_new, newq, portal):\n",
    "    exp_old = tc.get(name=dataset_old, file='CCLE_expression')\n",
    "    exp_new = tc.get(name=dataset_new, file='CCLE_expression')\n",
    "    cn_old = tc.get(name=dataset_old, file='CCLE_gene_cn')\n",
    "    cn_new = tc.get(name=dataset_new, file='CCLE_gene_cn')\n",
    "    new_exp_arxspans = set(exp_new.index).difference(set(exp_old.index))\n",
    "    new_cn_arxspans = set(cn_new.index).difference(set(cn_old.index))\n",
    "    \n",
    "    rna_seqids = [rna_renaming_swapped.get(key) for key in new_exp_arxspans]\n",
    "    wgs_seqids = [wgs_renaming_swapped.get(key) for key in new_cn_arxspans]\n",
    "    \n",
    "    rna_prids = pr_table[pr_table.main_sequencing_id.isin(rna_seqids)].index.tolist()\n",
    "    wgs_prids = pr_table[pr_table.main_sequencing_id.isin(wgs_seqids)].index.tolist()\n",
    "    \n",
    "    prs = rna_prids + wgs_prids\n",
    "    prids = [pr for pr in prs if pr in prs_to_backfill]\n",
    "    \n",
    "    pr_table.loc[prids, portal] = newq"
   ]
  },
  {
   "cell_type": "code",
   "execution_count": null,
   "id": "5b88bddd",
   "metadata": {},
   "outputs": [],
   "source": [
    "# 21Q2\n",
    "PREV_VIRTUAL['public'] = 'public-21q2-110d'\n",
    "PREV_VIRTUAL['ibm'] = 'ibm-21q2-9ed1'\n",
    "PREV_VIRTUAL['dmc'] = 'dmc-21q2-27e1'\n",
    "PREV_VIRTUAL['internal'] = 'internal-21q2-9d16'\n",
    "\n",
    "# 21Q3\n",
    "PREV_VIRTUAL[\"public\"] = \"public-21q3-bf1e\"\n",
    "PREV_VIRTUAL[\"ibm\"] = \"ibm-21q3-179f\"\n",
    "PREV_VIRTUAL[\"dmc\"] = \"dmc-21q3-482c\"\n",
    "PREV_VIRTUAL[\"internal\"] = \"internal-21q3-fe4c\"\n",
    "\n",
    "# 21Q4\n",
    "PREV_VIRTUAL[\"public\"] = \"public-21q4-a0d6\"\n",
    "PREV_VIRTUAL[\"ibm\"] = \"ibm-21q4-4e18\"\n",
    "PREV_VIRTUAL[\"dmc\"] = \"dmc-21q4-5725\"\n",
    "PREV_VIRTUAL[\"internal\"] = \"internal-21q4-ac0a\"\n",
    "\n",
    "# 22Q1\n",
    "PREV_VIRTUAL[\"public\"] = \"public-22q1-305b\"\n",
    "PREV_VIRTUAL[\"ibm\"] = \"ibm-22q1-cce1\"\n",
    "PREV_VIRTUAL[\"dmc\"] = \"dmc-22q1-d00a\"\n",
    "PREV_VIRTUAL[\"internal\"] = \"internal-22q1-1778\""
   ]
  },
  {
   "cell_type": "code",
   "execution_count": null,
   "id": "bc663f83",
   "metadata": {},
   "outputs": [],
   "source": [
    "compare_quarters(\"internal-22q1-1778\", \"internal-22q2-097a\", \"2022-05-01\", \"internal_release_date\")\n",
    "compare_quarters(\"internal-21q4-ac0a\", \"internal-22q1-1778\", \"2022-02-01\", \"internal_release_date\")\n",
    "compare_quarters(\"internal-21q3-fe4c\", \"internal-21q4-ac0a\", \"2021-11-01\", \"internal_release_date\")\n",
    "compare_quarters('internal-21q2-9d16', \"internal-21q3-fe4c\", \"2021-08-01\", \"internal_release_date\")"
   ]
  },
  {
   "cell_type": "code",
   "execution_count": null,
   "id": "56c480b0",
   "metadata": {},
   "outputs": [],
   "source": [
    "compare_quarters(\"ibm-22q1-cce1\", \"ibm-22q2-a71e\", \"2022-05-01\", \"ibm_release_date\")\n",
    "compare_quarters(\"ibm-21q4-4e18\", \"ibm-22q1-cce1\", \"2022-02-01\", \"ibm_release_date\")\n",
    "compare_quarters(\"ibm-21q3-179f\", \"ibm-21q4-4e18\", \"2021-11-01\", \"ibm_release_date\")\n",
    "compare_quarters('dmc-21q2-27e1', \"ibm-21q3-179f\", \"2021-08-01\", \"ibm_release_date\")"
   ]
  },
  {
   "cell_type": "code",
   "execution_count": null,
   "id": "dc5b6e88",
   "metadata": {},
   "outputs": [],
   "source": [
    "compare_quarters(\"dmc-22q1-d00a\", 'dmc-22q2-5e51', \"2022-05-01\", \"consortium_release_date\")\n",
    "compare_quarters(\"dmc-21q4-5725\", \"dmc-22q1-d00a\", \"2022-02-01\", \"consortium_release_date\")\n",
    "compare_quarters(\"dmc-21q3-482c\", \"dmc-21q4-5725\", \"2021-11-01\", \"consortium_release_date\")\n",
    "compare_quarters('dmc-21q2-27e1', \"dmc-21q3-482c\", \"2021-08-01\", \"consortium_release_date\")"
   ]
  },
  {
   "cell_type": "code",
   "execution_count": null,
   "id": "4d74302a",
   "metadata": {},
   "outputs": [],
   "source": [
    "pr_table = pr_table.replace(\"22Q2\", \"2021-05-01\")\n",
    "pr_table = pr_table.reset_index(level=0)\n",
    "pr_table"
   ]
  },
  {
   "cell_type": "code",
   "execution_count": null,
   "id": "d5d7ac27",
   "metadata": {},
   "outputs": [],
   "source": [
    "client.update(\"omics_profile\", pr_table)"
   ]
  },
  {
   "cell_type": "code",
   "execution_count": null,
   "id": "cedce354",
   "metadata": {},
   "outputs": [],
   "source": [
    "client.commit()"
   ]
  },
  {
   "cell_type": "code",
   "execution_count": null,
   "id": "96b795e5",
   "metadata": {},
   "outputs": [],
   "source": [
    "pr_table[['public_release_date', 'consortium_release_date', 'internal_release_date', 'ibm_release_date']]"
   ]
  },
  {
   "cell_type": "code",
   "execution_count": null,
   "id": "150c8232",
   "metadata": {},
   "outputs": [],
   "source": []
  }
 ],
 "metadata": {
  "kernelspec": {
   "display_name": "Python 3",
   "language": "python",
   "name": "python3"
  },
  "language_info": {
   "codemirror_mode": {
    "name": "ipython",
    "version": 3
   },
   "file_extension": ".py",
   "mimetype": "text/x-python",
   "name": "python",
   "nbconvert_exporter": "python",
   "pygments_lexer": "ipython3",
   "version": "3.8.2"
  }
 },
 "nbformat": 4,
 "nbformat_minor": 5
}
