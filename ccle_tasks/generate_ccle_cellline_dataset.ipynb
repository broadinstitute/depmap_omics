{
 "cells": [
  {
   "cell_type": "code",
   "execution_count": null,
   "metadata": {},
   "outputs": [],
   "source": [
    "import pandas as pd\n",
    "\n",
    "import dalmatian as dm\n",
    "from depmapomics import tracker\n",
    "from genepy import terra\n",
    "\n",
    "from taigapy import TaigaClient\n",
    "tc = TaigaClient()"
   ]
  },
  {
   "cell_type": "code",
   "execution_count": null,
   "metadata": {},
   "outputs": [],
   "source": [
    "track = tracker.getTracker()"
   ]
  },
  {
   "cell_type": "code",
   "execution_count": null,
   "metadata": {},
   "outputs": [],
   "source": [
    "wm = dm.WorkspaceManager('fccredits-silver-tan-7621/CCLE_v2').disable_hound()\n",
    "da = wm.get_samples() # get all samples\n"
   ]
  },
  {
   "cell_type": "code",
   "execution_count": null,
   "metadata": {},
   "outputs": [],
   "source": [
    "CCLE_segment_cn = tc.get(name='public-21q3-bf1e',\n",
    "                         version=11, file='CCLE_segment_cn')\n",
    "CCLE_expression = tc.get(name='public-21q3-bf1e',\n",
    "                         version=11, file='CCLE_expression')\n",
    "lines_genome = CCLE_segment_cn.DepMap_ID.unique()\n",
    "lines_expression = CCLE_expression.index\n"
   ]
  },
  {
   "cell_type": "code",
   "execution_count": null,
   "metadata": {},
   "outputs": [],
   "source": [
    "# adding hg38 WGS data\n",
    "data = track[track.arxspan_id.isin(lines_genome) & (\n",
    "    track.datatype == 'wgs') & (track.blacklist == 0)]\n",
    "for i in range(6,1,-1):\n",
    "  a = data[data.version==i].arxspan_id.unique()\n",
    "  if len(a)>0:\n",
    "    data = data[~(data.arxspan_id.isin(a) & (data.version < i))]\n",
    "\n",
    "data = data[[\"arxspan_id\", \"internal_bam_filepath\", \"internal_bai_filepath\", \"legacy_bam_filepath\", \"legacy_bai_filepath\"]].set_index(\"arxspan_id\").rename(columns={\n",
    "    \"internal_bam_filepath\": \"wgs_bam\",\n",
    "    \"internal_bai_filepath\": \"wgs_bai\",\n",
    "    \"legacy_bam_filepath\": \"hg19_wgs_bam\", \n",
    "    \"legacy_bai_filepath\": \"hg19_wgs_bai\",\n",
    "    })\n",
    "data.index.name = 'sample_id'\n",
    "data['participant_id'] = data.index\n",
    "wm.upload_samples(data)"
   ]
  },
  {
   "cell_type": "code",
   "execution_count": null,
   "metadata": {},
   "outputs": [],
   "source": [
    "# adding hg38 WGS data\n",
    "data = track[track.arxspan_id.isin(lines_genome) & (\n",
    "    track.datatype == 'wes') & (track.blacklist == 0)]\n",
    "for i in range(6, 1, -1):\n",
    "  a = data[data.version == i].arxspan_id.unique()\n",
    "  if len(a) > 0:\n",
    "    data = data[~(data.arxspan_id.isin(a) & (data.version < i))]\n",
    "\n",
    "data = data[[\"arxspan_id\", \"internal_bam_filepath\", \"internal_bai_filepath\", \"legacy_bam_filepath\", \"legacy_bai_filepath\"]].set_index(\"arxspan_id\").rename(columns={\n",
    "    \"internal_bam_filepath\": \"wes_bam\",\n",
    "    \"internal_bai_filepath\": \"wes_bai\",\n",
    "    \"legacy_bam_filepath\": \"hg19_wes_bam\",\n",
    "    \"legacy_bai_filepath\": \"hg19_wes_bai\",\n",
    "})\n",
    "data.index.name = 'sample_id'\n",
    "data['participant_id'] = data.index\n"
   ]
  },
  {
   "cell_type": "code",
   "execution_count": null,
   "metadata": {},
   "outputs": [],
   "source": [
    "wm.upload_samples(data)\n"
   ]
  },
  {
   "cell_type": "code",
   "execution_count": null,
   "metadata": {},
   "outputs": [],
   "source": [
    "# adding RNA data\n",
    "data = track[track.arxspan_id.isin(lines_expression) & (\n",
    "    track.datatype == 'rna') & (track.blacklist == 0)]\n",
    "for i in range(6, 1, -1):\n",
    "  a = data[data.version == i].arxspan_id.unique()\n",
    "  if len(a) > 0:\n",
    "    data = data[~(data.arxspan_id.isin(a) & (data.version < i))]\n",
    "\n",
    "data = data[[\"arxspan_id\", \"internal_bam_filepath\", \"internal_bai_filepath\", \"legacy_bam_filepath\", \"legacy_bai_filepath\"]].set_index(\"arxspan_id\").rename(columns={\n",
    "    \"internal_bam_filepath\": \"rna_bam\",\n",
    "    \"internal_bai_filepath\": \"rna_bai\",\n",
    "    \"legacy_bam_filepath\": \"hg19_rna_bam\",\n",
    "    \"legacy_bai_filepath\": \"hg19_rna_bai\",\n",
    "})\n",
    "data.index.name = 'sample_id'\n",
    "data['participant_id'] = data.index\n",
    "wm.upload_samples(data)"
   ]
  },
  {
   "cell_type": "code",
   "execution_count": null,
   "metadata": {},
   "outputs": [],
   "source": [
    "torm = track[(track.datatype == 'wgs') & (\n",
    "    track.source != 'CCLE2')].arxspan_id.unique()"
   ]
  },
  {
   "cell_type": "code",
   "execution_count": null,
   "metadata": {},
   "outputs": [],
   "source": [
    "wm.delete_sample_attributes(da.loc[set(torm) & set(da.index), ['hg19_wgs_bam', 'hg19_wgs_bai', 'hg38_wgs_bam', 'hg38_wgs_bai', 'hg38_wgs_hc_cnn_filtered_vcf_index', 'hg38_wgs_hc_cnn_filtered_vcf_index']], dry_run=False)"
   ]
  },
  {
   "cell_type": "code",
   "execution_count": null,
   "metadata": {},
   "outputs": [],
   "source": [
    "sam = da[~da.hg19_wes_bam.isna()].index\n",
    "sangerwes = track[(track.datatype=='wes')&(track.source=='SANGER')].arxspan_id.unique()\n",
    "sangeronly = set(sangerwes) - set(track[(track.datatype=='wes')&(track.source!='SANGER')].arxspan_id.unique())\n",
    "\n",
    "torm = set(sangeronly) & set(sam)\n",
    "wm.delete_sample_attributes(da.loc[set(torm) & set(da.index), ['hg19_wes_bam', 'hg19_wes_bai', 'hg38_wes_bam',\n",
    "'hg38_wes_bai', 'hg38_wes_hc_cnn_filtered_vcf_index', 'hg38_wes_hc_cnn_filtered_vcf_index']], dry_run=False)\n"
   ]
  },
  {
   "cell_type": "code",
   "execution_count": null,
   "metadata": {},
   "outputs": [],
   "source": [
    "terra.shareTerraBams(\"allAuthenticatedUsers\",\n",
    "                     'fccredits-silver-tan-7621/CCLE_v2', da[~da.hg19_wes_bam.isna()].index, ['wes_bam', 'hg19_wes_bam', 'wes_bai', 'hg19_wes_bai'])\n"
   ]
  },
  {
   "cell_type": "code",
   "execution_count": null,
   "metadata": {},
   "outputs": [],
   "source": []
  },
  {
   "cell_type": "code",
   "execution_count": null,
   "metadata": {},
   "outputs": [],
   "source": []
  }
 ],
 "metadata": {
  "interpreter": {
   "hash": "bba30bad6dc2abd483aef1526473acfc7356ef9fe6d481727d10a1c0a97ae5c6"
  },
  "kernelspec": {
   "display_name": "Python 3.7.3 64-bit ('base': conda)",
   "name": "python3"
  },
  "language_info": {
   "codemirror_mode": {
    "name": "ipython",
    "version": 3
   },
   "file_extension": ".py",
   "mimetype": "text/x-python",
   "name": "python",
   "nbconvert_exporter": "python",
   "pygments_lexer": "ipython3",
   "version": "3.7.3"
  }
 },
 "nbformat": 4,
 "nbformat_minor": 2
}
