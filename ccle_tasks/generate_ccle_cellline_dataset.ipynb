{
 "cells": [
  {
   "cell_type": "code",
   "execution_count": null,
   "metadata": {},
   "outputs": [],
   "source": [
    "import pandas as pd\n",
    "\n",
    "import dalmatian as dm\n",
    "from depmapomics import tracker\n",
    "\n",
    "from taigapy import TaigaClient\n",
    "tc = TaigaClient()"
   ]
  },
  {
   "cell_type": "code",
   "execution_count": null,
   "metadata": {},
   "outputs": [],
   "source": [
    "track = tracker.getCCLETracker()"
   ]
  },
  {
   "cell_type": "code",
   "execution_count": null,
   "metadata": {},
   "outputs": [],
   "source": [
    "wm = dm.WorkspaceManager('fccredits-silver-tan-7621/CCLE_v2').disable_hound()\n",
    "da = wm.get_samples() # get all samples\n"
   ]
  },
  {
   "cell_type": "code",
   "execution_count": null,
   "metadata": {},
   "outputs": [],
   "source": [
    "CCLE_segment_cn = tc.get(name='public-21q3-bf1e',\n",
    "                         version=11, file='CCLE_segment_cn')\n",
    "CCLE_expression = tc.get(name='public-21q3-bf1e',\n",
    "                         version=11, file='CCLE_expression')\n",
    "lines_genome = CCLE_segment_cn.DepMap_ID.unique()\n",
    "lines_expression = CCLE_expression.index\n"
   ]
  },
  {
   "cell_type": "code",
   "execution_count": null,
   "metadata": {},
   "outputs": [],
   "source": [
    "# adding hg38 WGS data\n",
    "data = track[track.arxspan_id.isin(lines_genome) & (\n",
    "    track.datatype == 'wgs') & (track.blacklist == 0)]\n",
    "for i in range(6,1,-1):\n",
    "  a = data[data.version==i].arxspan_id.unique()\n",
    "  if len(a)>0:\n",
    "    data = data[~(data.arxspan_id.isin(a) & (data.version < i))]\n",
    "\n",
    "data = data[[\"arxspan_id\", \"internal_bam_filepath\", \"internal_bai_filepath\", \"legacy_bam_filepath\", \"legacy_bai_filepath\"]].set_index(\"arxspan_id\").rename(columns={\n",
    "    \"internal_bam_filepath\": \"wgs_bam\",\n",
    "    \"internal_bai_filepath\": \"wgs_bai\",\n",
    "    \"legacy_bam_filepath\": \"hg19_wgs_bam\", \n",
    "    \"legacy_bai_filepath\": \"hg19_wgs_bai\",\n",
    "    })\n",
    "data.index.name = 'sample_id'\n",
    "data['participant_id'] = data.index\n",
    "wm.upload_samples(data)"
   ]
  },
  {
   "cell_type": "code",
   "execution_count": null,
   "metadata": {},
   "outputs": [],
   "source": [
    "# adding hg38 WGS data\n",
    "data = track[track.arxspan_id.isin(lines_genome) & (\n",
    "    track.datatype == 'wes') & (track.blacklist == 0)]\n",
    "for i in range(6, 1, -1):\n",
    "  a = data[data.version == i].arxspan_id.unique()\n",
    "  if len(a) > 0:\n",
    "    data = data[~(data.arxspan_id.isin(a) & (data.version < i))]\n",
    "\n",
    "data = data[[\"arxspan_id\", \"internal_bam_filepath\", \"internal_bai_filepath\", \"legacy_bam_filepath\", \"legacy_bai_filepath\"]].set_index(\"arxspan_id\").rename(columns={\n",
    "    \"internal_bam_filepath\": \"wes_bam\",\n",
    "    \"internal_bai_filepath\": \"wes_bai\",\n",
    "    \"legacy_bam_filepath\": \"hg19_wes_bam\",\n",
    "    \"legacy_bai_filepath\": \"hg19_wes_bai\",\n",
    "})\n",
    "data.index.name = 'sample_id'\n",
    "data['participant_id'] = data.index\n"
   ]
  },
  {
   "cell_type": "code",
   "execution_count": null,
   "metadata": {},
   "outputs": [],
   "source": [
    "wm.upload_samples(data)\n"
   ]
  },
  {
   "cell_type": "code",
   "execution_count": null,
   "metadata": {},
   "outputs": [],
   "source": [
    "# adding RNA data\n",
    "data = track[track.arxspan_id.isin(lines_expression) & (\n",
    "    track.datatype == 'rna') & (track.blacklist == 0)]\n",
    "for i in range(6, 1, -1):\n",
    "  a = data[data.version == i].arxspan_id.unique()\n",
    "  if len(a) > 0:\n",
    "    data = data[~(data.arxspan_id.isin(a) & (data.version < i))]\n",
    "\n",
    "data = data[[\"arxspan_id\", \"internal_bam_filepath\", \"internal_bai_filepath\", \"legacy_bam_filepath\", \"legacy_bai_filepath\"]].set_index(\"arxspan_id\").rename(columns={\n",
    "    \"internal_bam_filepath\": \"rna_bam\",\n",
    "    \"internal_bai_filepath\": \"rna_bai\",\n",
    "    \"legacy_bam_filepath\": \"hg19_rna_bam\",\n",
    "    \"legacy_bai_filepath\": \"hg19_rna_bai\",\n",
    "})\n",
    "data.index.name = 'sample_id'\n",
    "data['participant_id'] = data.index\n",
    "wm.upload_samples(data)"
   ]
  },
  {
   "cell_type": "code",
   "execution_count": null,
   "metadata": {},
   "outputs": [],
   "source": []
  },
  {
   "cell_type": "code",
   "execution_count": null,
   "metadata": {},
   "outputs": [],
   "source": []
  }
 ],
 "metadata": {
  "interpreter": {
   "hash": "fe530364903d59281e494bcc279d8c14e780111e77318cb90e580203bf764f21"
  },
  "kernelspec": {
   "display_name": "Python 3.8.8 64-bit ('py38': conda)",
   "name": "python3"
  },
  "language_info": {
   "codemirror_mode": {
    "name": "ipython",
    "version": 3
   },
   "file_extension": ".py",
   "mimetype": "text/x-python",
   "name": "python",
   "nbconvert_exporter": "python",
   "pygments_lexer": "ipython3",
   "version": "3.8.8"
  }
 },
 "nbformat": 4,
 "nbformat_minor": 2
}
