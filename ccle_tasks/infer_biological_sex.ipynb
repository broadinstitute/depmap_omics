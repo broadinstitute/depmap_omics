{
 "cells": [
  {
   "cell_type": "code",
   "execution_count": null,
   "id": "6e832925",
   "metadata": {},
   "outputs": [],
   "source": [
    "import pandas as pd\n",
    "import os\n",
    "import re\n",
    "import dalmatian as dm\n",
    "from mgenepy.utils import helper as h\n",
    "from depmap_omics_upload import tracker"
   ]
  },
  {
   "cell_type": "code",
   "execution_count": null,
   "id": "1224c23e",
   "metadata": {},
   "outputs": [],
   "source": [
    "rna_wm = dm.WorkspaceManager(\"broad-firecloud-ccle/DepMap_hg38_RNAseq\")\n",
    "rna_23q2 = rna_wm.get_sample_sets().loc[\"23Q2\", \"samples\"]\n",
    "wes_wm = dm.WorkspaceManager(\"broad-firecloud-ccle/DepMap_WES_CN_hg38\")\n",
    "wes_23q2 = wes_wm.get_sample_sets().loc[\"23Q2\", \"samples\"]"
   ]
  },
  {
   "cell_type": "code",
   "execution_count": null,
   "id": "0ec0f3f1",
   "metadata": {},
   "outputs": [],
   "source": [
    "mytracker = tracker.SampleTracker()\n",
    "seq_table = mytracker.add_model_cols_to_seqtable([\"ModelID\", \"Sex\"])"
   ]
  },
  {
   "cell_type": "code",
   "execution_count": null,
   "id": "cb962a85",
   "metadata": {},
   "outputs": [],
   "source": [
    "cclf_seq_table = seq_table[(seq_table.source == \"CCLF\") & (seq_table.index.isin(set(rna_23q2 + wes_23q2)))]"
   ]
  },
  {
   "cell_type": "markdown",
   "id": "f1df6456",
   "metadata": {},
   "source": [
    "# Inference from X chrom SNPs"
   ]
  },
  {
   "cell_type": "code",
   "execution_count": null,
   "id": "b3cc0e5d",
   "metadata": {},
   "outputs": [],
   "source": [
    "import io\n",
    "import gzip\n",
    "import numpy as np\n",
    "from google.cloud import storage\n",
    "\n",
    "def read_vcf(path):\n",
    "    storage_client = storage.Client()\n",
    "    bucket = storage_client.bucket(path.split(\"/\")[2])\n",
    "    blob = bucket.blob(\"/\".join(path.split(\"/\")[3:]))\n",
    "    if path.endswith(\".gz\"):\n",
    "        data = io.BytesIO(blob.download_as_string())\n",
    "        with gzip.open(data, 'r') as f:\n",
    "            lines = [l.decode(\"utf-8\") for l in f if not l.startswith(b'#') and not l.startswith(b'#CHROM')]\n",
    "    else:\n",
    "        data = blob.download_as_string().decode(\"utf-8\") \n",
    "        f = data.split(\"\\n\")\n",
    "        lines = [l + \"\\n\" for l in f if not l.startswith('#')]\n",
    "    return pd.read_csv(\n",
    "        io.StringIO(''.join(lines)),\n",
    "        names=['CHROM', 'POS', 'ID', 'REF', 'ALT', 'QUAL', 'FILTER', 'INFO', 'FORMAT', 'SAMPLE'],\n",
    "        sep='\\t'\n",
    "    )"
   ]
  },
  {
   "cell_type": "code",
   "execution_count": null,
   "id": "7f0a931b",
   "metadata": {},
   "outputs": [],
   "source": [
    "def extractInfo(sample, form, field):\n",
    "    split_format = form.split(\":\")\n",
    "    idx = split_format.index(field)\n",
    "    split_gt = sample.split(\":\")\n",
    "    return split_gt[idx]"
   ]
  },
  {
   "cell_type": "code",
   "execution_count": null,
   "id": "0b4b8d1a",
   "metadata": {},
   "outputs": [],
   "source": [
    "def extractAndFilter(vcf_df, afcutoff = 0.2, mincoverage = 10, germline_only=True):\n",
    "    vcf_df = vcf_df.drop(columns=[\"ID\", \"QUAL\", \"INFO\"])\n",
    "    # ignore multiallelic mutations\n",
    "    vcf_df = vcf_df[~vcf_df.ALT.str.contains(\",\")]\n",
    "    if germline_only:\n",
    "        vcf_df = vcf_df[~vcf_df.FILTER.str.contains(\"germline\")]\n",
    "        vcf_df = vcf_df.drop(columns=[\"FILTER\"])\n",
    "    # vcf_df[\"GT\"] = vcf_df.apply(lambda x: (extractInfo(x[\"SAMPLE\"], x[\"FORMAT\"], \"GT\")), axis=1)\n",
    "    vcf_df[\"AF\"] = vcf_df.apply(lambda x: (extractInfo(x[\"SAMPLE\"], x[\"FORMAT\"], \"AF\")), axis=1)\n",
    "    vcf_df[\"DP\"] = vcf_df.apply(lambda x: (extractInfo(x[\"SAMPLE\"], x[\"FORMAT\"], \"DP\")), axis=1)\n",
    "    vcf_df = vcf_df[(vcf_df.DP.astype(float) > mincoverage) & (~vcf_df.CHROM.isin([\"chrY\", \"Y\", \"chrM\", \"M\"]))]\n",
    "    if not germline_only:\n",
    "        vcf_df = vcf_df[(vcf_df.AF.astype(float) > afcutoff)]\n",
    "    return vcf_df"
   ]
  },
  {
   "cell_type": "code",
   "execution_count": null,
   "id": "5849f1cc",
   "metadata": {},
   "outputs": [],
   "source": [
    "from scipy.stats import fisher_exact\n",
    "import numpy as np\n",
    "from scipy.stats.contingency import odds_ratio\n",
    "\n",
    "def predictSex(vcf_df_filtered, min_or = 4, min_or_na = 2.5, max_pv = 0.001, homafcutoff = 0.95):\n",
    "    homx = len(vcf_df_filtered[(vcf_df_filtered.AF.astype(float) > homafcutoff) & (vcf_df_filtered.CHROM.isin([\"chrX\", \"X\"]))])\n",
    "    hetx = len(vcf_df_filtered[(vcf_df_filtered.AF.astype(float) <= homafcutoff) & (vcf_df_filtered.CHROM.isin([\"chrX\", \"X\"]))])\n",
    "    homauto = len(vcf_df_filtered[(vcf_df_filtered.AF.astype(float) > homafcutoff) & (~vcf_df_filtered.CHROM.isin([\"chrX\", \"X\"]))])\n",
    "    hetauto = len(vcf_df_filtered[(vcf_df_filtered.AF.astype(float) <= homafcutoff) & (~vcf_df_filtered.CHROM.isin([\"chrX\", \"X\"]))])\n",
    "    table = np.array([[homx, hetx], [homauto, hetauto]])\n",
    "    res = fisher_exact(table)\n",
    "    pval = res[1]\n",
    "    odds = odds_ratio(table).statistic\n",
    "    print(\"odds ratio: \" + str(odds))\n",
    "    predicted_sex = \"F\"\n",
    "    if odds >= min_or_na:\n",
    "        predicted_sex = \"NA\"\n",
    "    if odds >= min_or and pval > max_pv:\n",
    "        predicted_sex = \"NA\"\n",
    "    if pval <= max_pv and odds >= min_or:\n",
    "        predicted_sex = \"M\"\n",
    "    return predicted_sex, odds"
   ]
  },
  {
   "cell_type": "code",
   "execution_count": null,
   "id": "17a1234b",
   "metadata": {},
   "outputs": [],
   "source": [
    "vcf_df = read_vcf(wes_cclf_samples.loc[\"CDS-1aJRXx\", \"mutect2_fixed_vcf\"])\n",
    "vcf_df_filtered = extractAndFilter(vcf_df)"
   ]
  },
  {
   "cell_type": "code",
   "execution_count": null,
   "id": "31840f64",
   "metadata": {},
   "outputs": [],
   "source": [
    "predictSex(vcf_df_filtered)"
   ]
  },
  {
   "cell_type": "code",
   "execution_count": null,
   "id": "a30675cd",
   "metadata": {},
   "outputs": [],
   "source": [
    "vcf_df"
   ]
  },
  {
   "cell_type": "code",
   "execution_count": null,
   "id": "60fe1f42",
   "metadata": {},
   "outputs": [],
   "source": [
    "vcf_df_filtered"
   ]
  },
  {
   "cell_type": "code",
   "execution_count": null,
   "id": "4351d27b",
   "metadata": {},
   "outputs": [],
   "source": [
    "wes_samples = wes_wm.get_samples()\n",
    "wes_cclf_samples = wes_samples.loc[wes_23q2]"
   ]
  },
  {
   "cell_type": "code",
   "execution_count": null,
   "id": "b95207c4",
   "metadata": {},
   "outputs": [],
   "source": [
    "cclf_seq_table = seq_table.loc[wes_23q2]"
   ]
  },
  {
   "cell_type": "code",
   "execution_count": null,
   "id": "80a3b136",
   "metadata": {},
   "outputs": [],
   "source": [
    "print(\"CCLF:\")\n",
    "for i in wes_cclf_samples.index.tolist():\n",
    "    print(i)\n",
    "    print(\"reported sex: \" + seq_table.loc[i, \"Sex\"])\n",
    "    vcfpath = wes_cclf_samples.loc[i, \"mutect2_fixed_vcf\"]\n",
    "    vcf_df = read_vcf(vcfpath)\n",
    "    vcf_df_filtered = extractAndFilter(vcf_df)\n",
    "    sex, odds = predictSex(vcf_df_filtered)\n",
    "    print(\"inferred sex: \" + sex)\n",
    "    cclf_seq_table.loc[i, \"snp_inferred_sex\"] = sex\n",
    "    cclf_seq_table.loc[i, \"odds_ratio\"] = odds\n",
    "    "
   ]
  },
  {
   "cell_type": "code",
   "execution_count": null,
   "id": "2603c10f",
   "metadata": {},
   "outputs": [],
   "source": [
    "cclf_seq_table[\"snp_inferred_sex\"] = cclf_seq_table[\"snp_inferred_sex\"].replace({\"F\": \"Female\", \"M\": \"Male\"})"
   ]
  },
  {
   "cell_type": "code",
   "execution_count": null,
   "id": "ea5565ce",
   "metadata": {},
   "outputs": [],
   "source": [
    "cclf_seq_table = cclf_seq_table[~cclf_seq_table.version.isna()]"
   ]
  },
  {
   "cell_type": "code",
   "execution_count": null,
   "id": "9f6fa74f",
   "metadata": {},
   "outputs": [],
   "source": [
    "import matplotlib.pyplot as plt\n",
    "import numpy as np\n",
    "\n",
    "plt.hist(cclf_seq_table[(cclf_seq_table.Sex == \"Male\") & (cclf_seq_table.expected_type == \"wes\")].odds_ratio, \n",
    "         alpha=0.5,\n",
    "         label='reported male',\n",
    "         bins=40)\n",
    "  \n",
    "plt.hist(cclf_seq_table[(cclf_seq_table.Sex == \"Female\") & (cclf_seq_table.expected_type == \"wes\")].odds_ratio,\n",
    "         alpha=0.5,\n",
    "         label='reported female',\n",
    "         bins=40)\n",
    "\n",
    "plt.xlim(0, 10)\n",
    "plt.legend(loc='upper right')\n",
    "plt.title('odds ratio - CCLF')\n",
    "plt.show()"
   ]
  },
  {
   "cell_type": "code",
   "execution_count": null,
   "id": "7fba8c8f",
   "metadata": {},
   "outputs": [],
   "source": [
    "print(\"CCLF\")\n",
    "print(\"total: \", len(cclf_seq_table[cclf_seq_table.Sex != \"Unknown\"]))\n",
    "print(\"total male: \", len(cclf_seq_table[cclf_seq_table.Sex == \"Male\"]))\n",
    "print(\"correct male: \", len(cclf_seq_table[(cclf_seq_table.Sex == \"Male\") & (cclf_seq_table.snp_inferred_sex == \"Male\")]))\n",
    "print(\"incorrect male: \", len(cclf_seq_table[(cclf_seq_table.Sex == \"Male\") & (cclf_seq_table.snp_inferred_sex == \"Female\")]))\n",
    "print(\"inconclusive male: \", len(cclf_seq_table[(cclf_seq_table.Sex == \"Male\") & (cclf_seq_table.snp_inferred_sex == \"NA\")]))\n",
    "print(\"total female: \", len(cclf_seq_table[cclf_seq_table.Sex == \"Female\"]))\n",
    "print(\"correct female: \", len(cclf_seq_table[(cclf_seq_table.Sex == \"Female\") & (cclf_seq_table.snp_inferred_sex == \"Female\")]))\n",
    "print(\"incorrect female: \", len(cclf_seq_table[(cclf_seq_table.Sex == \"Female\") & (cclf_seq_table.snp_inferred_sex == \"Male\")]))\n",
    "print(\"inconclusive female: \", len(cclf_seq_table[(cclf_seq_table.Sex == \"Female\") & (cclf_seq_table.snp_inferred_sex == \"NA\")]))\n"
   ]
  },
  {
   "cell_type": "code",
   "execution_count": null,
   "id": "38da1998",
   "metadata": {},
   "outputs": [],
   "source": [
    "print(\"CCLE:\")\n",
    "for i in ccle_seq_table.index.tolist():\n",
    "    print(i)\n",
    "    if i in wes_samples.index:\n",
    "        print(\"reported sex: \" + seq_table.loc[i, \"Sex\"])\n",
    "        vcfpath = wes_samples.loc[i, \"mutect2_fixed_vcf\"]\n",
    "        vcf_df = read_vcf(vcfpath)\n",
    "        vcf_df_filtered = extractAndFilter(vcf_df)\n",
    "        sex, odds = predictSex(vcf_df_filtered)\n",
    "        print(\"inferred sex: \" + sex)\n",
    "        ccle_seq_table.loc[i, \"snp_inferred_sex\"] = sex\n",
    "        ccle_seq_table.loc[i, \"odds_ratio\"] = odds"
   ]
  },
  {
   "cell_type": "code",
   "execution_count": null,
   "id": "d96dccd0",
   "metadata": {},
   "outputs": [],
   "source": [
    "ccle_seq_table"
   ]
  },
  {
   "cell_type": "code",
   "execution_count": null,
   "id": "c495da74",
   "metadata": {},
   "outputs": [],
   "source": [
    "for i in ccle_seq_table.index.tolist():\n",
    "    if i in set(cclf_seq_table.index.tolist()):\n",
    "        ccle_seq_table.loc[i, \"odds_ratio\"] = cclf_seq_table.loc[i, \"odds_ratio\"]"
   ]
  },
  {
   "cell_type": "code",
   "execution_count": null,
   "id": "fd99d6d3",
   "metadata": {},
   "outputs": [],
   "source": [
    "ccle_seq_table[\"snp_inferred_sex\"] = ccle_seq_table[\"snp_inferred_sex\"].replace({\"F\": \"Female\", \"M\": \"Male\"})"
   ]
  },
  {
   "cell_type": "code",
   "execution_count": null,
   "id": "b58eedcb",
   "metadata": {},
   "outputs": [],
   "source": [
    "import matplotlib.pyplot as plt\n",
    "import numpy as np\n",
    "\n",
    "plt.hist(ccle_seq_table[(ccle_seq_table.Sex == \"Male\") & (ccle_seq_table.expected_type == \"wes\")].odds_ratio, \n",
    "         alpha=0.5,\n",
    "         label='reported male',\n",
    "         bins=30)\n",
    "  \n",
    "plt.hist(ccle_seq_table[(ccle_seq_table.Sex == \"Female\") & (ccle_seq_table.expected_type == \"wes\")].odds_ratio,\n",
    "         alpha=0.5,\n",
    "         label='reported female',\n",
    "         bins=30)\n",
    "\n",
    "plt.xlim(0, 10)\n",
    "plt.legend(loc='upper right')\n",
    "plt.title('odds ratio - CCLE')\n",
    "plt.show()"
   ]
  },
  {
   "cell_type": "code",
   "execution_count": null,
   "id": "5707f3d5",
   "metadata": {},
   "outputs": [],
   "source": [
    "print(\"CCLE\")\n",
    "print(\"total: \", len(ccle_seq_table[ccle_seq_table.Sex != \"Unknown\"]))\n",
    "print(\"total male: \", len(ccle_seq_table[ccle_seq_table.Sex == \"Male\"]))\n",
    "print(\"correct male: \", len(ccle_seq_table[(ccle_seq_table.Sex == \"Male\") & (ccle_seq_table.snp_inferred_sex == \"Male\")]))\n",
    "print(\"incorrect male: \", len(ccle_seq_table[(ccle_seq_table.Sex == \"Male\") & (ccle_seq_table.snp_inferred_sex == \"Female\")]))\n",
    "print(\"inconclusive male: \", len(ccle_seq_table[(ccle_seq_table.Sex == \"Male\") & (ccle_seq_table.snp_inferred_sex == \"NA\")]))\n",
    "print(\"total female: \", len(ccle_seq_table[ccle_seq_table.Sex == \"Female\"]))\n",
    "print(\"correct female: \", len(ccle_seq_table[(ccle_seq_table.Sex == \"Female\") & (ccle_seq_table.snp_inferred_sex == \"Female\")]))\n",
    "print(\"incorrect female: \", len(ccle_seq_table[(ccle_seq_table.Sex == \"Female\") & (ccle_seq_table.snp_inferred_sex == \"Male\")]))\n",
    "print(\"inconclusive female: \", len(ccle_seq_table[(ccle_seq_table.Sex == \"Female\") & (ccle_seq_table.snp_inferred_sex == \"NA\")]))\n"
   ]
  },
  {
   "cell_type": "code",
   "execution_count": null,
   "id": "5d95db46",
   "metadata": {},
   "outputs": [],
   "source": [
    "path = \"gs://fc-secure-d2a2d895-a7af-4117-bdc7-652d7d268324/6001c090-b09a-4785-8b8a-33aa9c3a7ec6/omics_post_mutect2/6b5fc00b-2b07-4b26-967e-1b4386a7094f/call-fixm2/cacheCopy/CDS-00rz9N_fixed.vcf.gz\""
   ]
  },
  {
   "cell_type": "code",
   "execution_count": null,
   "id": "e816cff2",
   "metadata": {},
   "outputs": [],
   "source": [
    "vcf_df = read_vcf(path)"
   ]
  },
  {
   "cell_type": "code",
   "execution_count": null,
   "id": "47419897",
   "metadata": {},
   "outputs": [],
   "source": [
    "vcf_df_filtered = extractADfromX(vcf_df)"
   ]
  },
  {
   "cell_type": "code",
   "execution_count": null,
   "id": "159e1b3e",
   "metadata": {},
   "outputs": [],
   "source": [
    "predictSex(vcf_df_filtered)"
   ]
  },
  {
   "cell_type": "code",
   "execution_count": null,
   "id": "c568779f",
   "metadata": {},
   "outputs": [],
   "source": [
    "vcf_df_filtered"
   ]
  },
  {
   "cell_type": "code",
   "execution_count": null,
   "id": "8ed86d6a",
   "metadata": {},
   "outputs": [],
   "source": []
  },
  {
   "cell_type": "code",
   "execution_count": null,
   "id": "5feb7b88",
   "metadata": {},
   "outputs": [],
   "source": []
  },
  {
   "cell_type": "code",
   "execution_count": null,
   "id": "ddbc4969",
   "metadata": {},
   "outputs": [],
   "source": []
  },
  {
   "cell_type": "code",
   "execution_count": null,
   "id": "a509d738",
   "metadata": {},
   "outputs": [],
   "source": []
  },
  {
   "cell_type": "markdown",
   "id": "2062cc43",
   "metadata": {},
   "source": [
    "# Inference from log2(X coverage/Y coverage)"
   ]
  },
  {
   "cell_type": "code",
   "execution_count": null,
   "id": "3fb2798e",
   "metadata": {},
   "outputs": [],
   "source": [
    "le = len(cclf_seq_table.index)\n",
    "j = 0\n",
    "for i in cclf_seq_table.index:\n",
    "    j += 1\n",
    "    h.showcount(j, le)\n",
    "    bam = cclf_seq_table.loc[i, \"hg19_bam_filepath\"]\n",
    "    data = os.popen(\"export GCS_OAUTH_TOKEN=`gcloud auth application-default print-access-token` && samtools idxstats \" + bam)\n",
    "    res = data.read()\n",
    "    df = pd.DataFrame([y.split('\\t') for y in res.split('\\n')], columns=[\"chrom\", \"length\", \"mapped\", \"unmapped\"]).set_index('chrom')\n",
    "    ratio = 0\n",
    "    if \"chrX\" in df.index.tolist():\n",
    "        ratio = int(df.loc[\"chrX\", \"mapped\"]) / int(df.loc[\"chrY\", \"mapped\"])\n",
    "    elif \"X\" in df.index.tolist():\n",
    "        ratio = int(df.loc[\"X\", \"mapped\"]) / int(df.loc[\"Y\", \"mapped\"])\n",
    "    else:\n",
    "        print(\"wrong contig name\")\n",
    "    cclf_seq_table.loc[i, \"X_to_Y_ratio\"] = ratio\n",
    "    if ratio > 4:\n",
    "        cclf_seq_table.loc[i, \"inferred_gender\"] = \"Female\"\n",
    "    else:\n",
    "        cclf_seq_table.loc[i, \"inferred_gender\"] = \"Male\""
   ]
  },
  {
   "cell_type": "code",
   "execution_count": null,
   "id": "a5e0157a",
   "metadata": {},
   "outputs": [],
   "source": [
    "print(\"done\")"
   ]
  },
  {
   "cell_type": "code",
   "execution_count": null,
   "id": "d48de54d",
   "metadata": {},
   "outputs": [],
   "source": [
    "cclf_seq_table.Sex.value_counts()"
   ]
  },
  {
   "cell_type": "code",
   "execution_count": null,
   "id": "39693a98",
   "metadata": {},
   "outputs": [],
   "source": [
    "cclf_seq_table = cclf_seq_table[cclf_seq_table.Sex != \"Unknown\"]"
   ]
  },
  {
   "cell_type": "code",
   "execution_count": null,
   "id": "c6c6657a",
   "metadata": {},
   "outputs": [],
   "source": [
    "import matplotlib.pyplot as plt\n",
    "import numpy as np\n",
    "\n",
    "plt.hist(cclf_seq_table[cclf_seq_table.Sex == \"Male\"].X_to_Y_ratio.apply(lambda x: np.log2(x)), bins=50, label='petal_length')\n",
    "plt.show() "
   ]
  },
  {
   "cell_type": "code",
   "execution_count": null,
   "id": "b2233105",
   "metadata": {},
   "outputs": [],
   "source": [
    "plt.hist(cclf_seq_table[(cclf_seq_table.Sex == \"Male\") & (cclf_seq_table.expected_type == \"wes\")].X_to_Y_ratio.apply(lambda x: np.log2(x)), \n",
    "         alpha=0.5,\n",
    "         label='annotated male',\n",
    "         bins=50)\n",
    "  \n",
    "plt.hist(cclf_seq_table[(cclf_seq_table.Sex == \"Female\") & (cclf_seq_table.expected_type == \"wes\")].X_to_Y_ratio.apply(lambda x: np.log2(x)),\n",
    "         alpha=0.5,\n",
    "         label='annotated female',\n",
    "         bins=50)\n",
    "  \n",
    "plt.legend(loc='upper right')\n",
    "plt.title('log2(X/Y) - CCLF')\n",
    "plt.show()"
   ]
  },
  {
   "cell_type": "code",
   "execution_count": null,
   "id": "432f3d44",
   "metadata": {},
   "outputs": [],
   "source": [
    "mismatch = cclf_seq_table[cclf_seq_table.Sex != cclf_seq_table.inferred_gender]"
   ]
  },
  {
   "cell_type": "code",
   "execution_count": null,
   "id": "facedb54",
   "metadata": {},
   "outputs": [],
   "source": [
    "cclf_seq_table.inferred_gender.value_counts()"
   ]
  },
  {
   "cell_type": "code",
   "execution_count": null,
   "id": "275e0e26",
   "metadata": {},
   "outputs": [],
   "source": [
    "mismatch[mismatch.Sex == \"Female\"]"
   ]
  },
  {
   "cell_type": "code",
   "execution_count": null,
   "id": "df10bab8",
   "metadata": {},
   "outputs": [],
   "source": [
    "mismatch[mismatch.Sex == \"Male\"]"
   ]
  },
  {
   "cell_type": "code",
   "execution_count": null,
   "id": "620e56e8",
   "metadata": {},
   "outputs": [],
   "source": []
  },
  {
   "cell_type": "code",
   "execution_count": null,
   "id": "95527fd6",
   "metadata": {},
   "outputs": [],
   "source": [
    "data = os.popen(\n",
    "                \"export GCS_OAUTH_TOKEN=`gcloud auth application-default print-access-token` && export GCS_REQUESTER_PAYS_PROJECT=`broad-firecloud-ccle` && samtools idxstats \"\n",
    "                + \"gs://cclebams/rna/CDS-0ERvMG.bam\"\n",
    "            )\n",
    "res = data.read()\n",
    "df = pd.DataFrame([y.split('\\t') for y in res.split('\\n')], columns=[\"chrom\", \"length\", \"mapped\", \"unmapped\"]).set_index('chrom')\n"
   ]
  },
  {
   "cell_type": "code",
   "execution_count": null,
   "id": "525568c9",
   "metadata": {},
   "outputs": [],
   "source": [
    "df.index"
   ]
  },
  {
   "cell_type": "code",
   "execution_count": null,
   "id": "95c3c914",
   "metadata": {},
   "outputs": [],
   "source": [
    "pd.DataFrame([y.split('\\t') for y in res.split('\\n')], columns=[\"chrom\", \"length\", \"mapped\", \"unmapped\"]).set_index('chrom')"
   ]
  },
  {
   "cell_type": "code",
   "execution_count": null,
   "id": "8436fbfe",
   "metadata": {},
   "outputs": [],
   "source": [
    "ccle_seq_table = seq_table[(seq_table.source == \"CCLE2\") & (seq_table.expected_type.isin([\"wes\"]))]"
   ]
  },
  {
   "cell_type": "code",
   "execution_count": null,
   "id": "330c3b64",
   "metadata": {},
   "outputs": [],
   "source": [
    "le = len(ccle_seq_table.index)\n",
    "j = 0\n",
    "for i in ccle_seq_table.index:\n",
    "    j += 1\n",
    "    h.showcount(j, le)\n",
    "    bam = ccle_seq_table.loc[i, \"bam_filepath\"]\n",
    "    data = os.popen(\"export GCS_OAUTH_TOKEN=`gcloud auth application-default print-access-token` && samtools idxstats \" + bam)\n",
    "    res = data.read()\n",
    "    df = pd.DataFrame([y.split('\\t') for y in res.split('\\n')], columns=[\"chrom\", \"length\", \"mapped\", \"unmapped\"]).set_index('chrom')\n",
    "    ratio = 0\n",
    "    if \"chrX\" in df.index.tolist():\n",
    "        ratio = int(df.loc[\"chrX\", \"mapped\"]) / int(df.loc[\"chrY\", \"mapped\"])\n",
    "    elif \"X\" in df.index.tolist():\n",
    "        ratio = int(df.loc[\"X\", \"mapped\"]) / int(df.loc[\"Y\", \"mapped\"])\n",
    "    else:\n",
    "        print(\"wrong contig name\")\n",
    "    ccle_seq_table.loc[i, \"X_to_Y_ratio\"] = ratio\n",
    "    if ratio > 4:\n",
    "        ccle_seq_table.loc[i, \"inferred_gender\"] = \"Female\"\n",
    "    else:\n",
    "        ccle_seq_table.loc[i, \"inferred_gender\"] = \"Male\""
   ]
  },
  {
   "cell_type": "code",
   "execution_count": null,
   "id": "47c43553",
   "metadata": {},
   "outputs": [],
   "source": [
    "ccle_seq_table.inferred_gender.value_counts()"
   ]
  },
  {
   "cell_type": "code",
   "execution_count": null,
   "id": "9f31c29d",
   "metadata": {},
   "outputs": [],
   "source": [
    "plt.hist(ccle_seq_table[(ccle_seq_table.Sex == \"Male\") & (ccle_seq_table.expected_type == \"wes\")].X_to_Y_ratio.apply(lambda x: np.log2(x)), \n",
    "         alpha=0.5,\n",
    "         label='annotated male',\n",
    "         bins=50)\n",
    "  \n",
    "plt.hist(ccle_seq_table[(ccle_seq_table.Sex == \"Female\") & (ccle_seq_table.expected_type == \"wes\")].X_to_Y_ratio.apply(lambda x: np.log2(x)),\n",
    "         alpha=0.5,\n",
    "         label='annotated female',\n",
    "         bins=50)\n",
    "  \n",
    "plt.legend(loc='upper right')\n",
    "plt.title('log2(X/Y) - CCLE')\n",
    "plt.show()"
   ]
  },
  {
   "cell_type": "code",
   "execution_count": null,
   "id": "4f23d389",
   "metadata": {},
   "outputs": [],
   "source": []
  }
 ],
 "metadata": {
  "kernelspec": {
   "display_name": "Python 3",
   "language": "python",
   "name": "python3"
  },
  "language_info": {
   "codemirror_mode": {
    "name": "ipython",
    "version": 3
   },
   "file_extension": ".py",
   "mimetype": "text/x-python",
   "name": "python",
   "nbconvert_exporter": "python",
   "pygments_lexer": "ipython3",
   "version": "3.8.13"
  }
 },
 "nbformat": 4,
 "nbformat_minor": 5
}
