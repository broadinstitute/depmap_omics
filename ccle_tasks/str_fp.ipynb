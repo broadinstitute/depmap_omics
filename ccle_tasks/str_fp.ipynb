{
 "cells": [
  {
   "cell_type": "code",
   "execution_count": null,
   "id": "a9f6dbf9",
   "metadata": {},
   "outputs": [],
   "source": [
    "#https://gist.github.com/dceoy/99d976a2c01e7f0ba1c813778f9db744\n",
    "\n",
    "import io\n",
    "import os\n",
    "import pandas as pd\n",
    "import gzip\n",
    "import numpy as np\n",
    "from google.cloud import storage\n",
    "from depmap_omics_upload import tracker as track\n",
    "\n",
    "\n",
    "def read_vcf(path):\n",
    "    storage_client = storage.Client()\n",
    "    bucket = storage_client.bucket(path.split(\"/\")[2])\n",
    "    blob = bucket.blob(\"/\".join(path.split(\"/\")[3:]))\n",
    "    if path.endswith(\".gz\"):\n",
    "        data = io.BytesIO(blob.download_as_string())\n",
    "        with gzip.open(data, 'r') as f:\n",
    "            lines = [l.decode(\"utf-8\") for l in f if not l.startswith(b'#')]\n",
    "    else:\n",
    "        data = blob.download_as_string().decode(\"utf-8\") \n",
    "        f = data.split(\"\\n\")\n",
    "        lines = [l + \"\\n\" for l in f if not l.startswith('#')]\n",
    "    return pd.read_csv(\n",
    "        io.StringIO(''.join(lines)),\n",
    "        names=['CHROM', 'POS', 'ID', 'REF', 'ALT', 'QUAL', 'FILTER', 'INFO', 'FORMAT', 'GT'],\n",
    "        sep='\\t'\n",
    "    )"
   ]
  },
  {
   "cell_type": "code",
   "execution_count": null,
   "id": "33ce9664",
   "metadata": {},
   "outputs": [],
   "source": [
    "def transformGB(row):\n",
    "    if len(row) < 2:\n",
    "        return np.nan\n",
    "    else:\n",
    "        split_gt = row.split(':')[1].split('|')\n",
    "        return [int(i) for i in split_gt]"
   ]
  },
  {
   "cell_type": "code",
   "execution_count": null,
   "id": "9d82a1df",
   "metadata": {},
   "outputs": [],
   "source": [
    "def gb2str(row):\n",
    "    if not isinstance(row[\"GB\"], list):\n",
    "        return \"NA\"\n",
    "    else:\n",
    "        strs = []\n",
    "        for i in row[\"GB\"]:\n",
    "            integer = (row[\"REF\"] * row[\"PERIOD\"] + i) // row[\"PERIOD\"]\n",
    "            remainder = (row[\"REF\"] * row[\"PERIOD\"] + i) % row[\"PERIOD\"]\n",
    "            if remainder == 0:\n",
    "                strs.append(str(int(integer)))\n",
    "            else:\n",
    "                strs.append(str(int(integer)) + \".\" + str(int(remainder)))\n",
    "        return ', '.join(list(set(strs)))"
   ]
  },
  {
   "cell_type": "code",
   "execution_count": null,
   "id": "a2598344",
   "metadata": {},
   "outputs": [],
   "source": [
    "def generateSTRRow(paths_df, method, colname=\"str\"):\n",
    "    hg38_sites = pd.read_csv(\"/home/xiaomeng/bin/depmap_omics/data/str_hg38.bed\", sep=\"\\t\", names=[\"CHROM\",\"START\",\"END\",\"PERIOD\",\"REF\",\"ID\"]).astype({'PERIOD': 'int32'})\n",
    "    str_rows = []\n",
    "#     mytracker = track.SampleTracker()\n",
    "#     seq_table = mytracker.add_model_cols_to_seqtable(cols=[\"ModelID\"])\n",
    "#     mytracker.close_gumbo_client()\n",
    "    for i, p in paths_df.iterrows():\n",
    "        if pd.isna(p[colname]):\n",
    "            print(\"no hipSTR vcf available for: \" + i)\n",
    "        else:\n",
    "            df = read_vcf(p[colname])\n",
    "            if method == \"hipstr\":\n",
    "                df[\"GB\"] = df.apply(lambda x: (transformGB(x[\"GT\"])), axis=1)\n",
    "                df = hg38_sites.merge(df[[\"ID\", \"GB\"]], on='ID', how='left')\n",
    "                df[\"STR\"] = df.apply(lambda x: gb2str(x), axis=1)\n",
    "            elif method == \"gangstr\":\n",
    "                df = df.rename(columns={\"POS\": \"START\"})\n",
    "                df = hg38_sites.merge(df[['CHROM', 'START', \"ALT\"]], on=['CHROM', 'START'], how='left')\n",
    "                df[\"STR\"] = df.apply(lambda x: altAllele2str(x), axis=1)\n",
    "            # Maybe no need to convert to model IDs here yet?\n",
    "            df[\"sample_id\"] = i\n",
    "            str_row = df.pivot(index='sample_id', columns='ID', values='STR')\n",
    "            str_rows.append(str_row)\n",
    "    return(pd.concat(str_rows))"
   ]
  },
  {
   "cell_type": "code",
   "execution_count": null,
   "id": "282e37d1",
   "metadata": {},
   "outputs": [],
   "source": [
    "locations_14 = ['CSF1PO', 'D13S317', 'D16S539', 'D18S51', 'D21S11', 'D3S1358', 'D5S818', 'D7S820', 'D8S1179', 'FGA', 'PentaD', 'PentaE', 'TH01', 'TPOX']\n",
    "locations_13 = ['CSF1PO', 'D13S317', 'D16S539', 'D18S51', 'D3S1358', 'D5S818', 'D7S820', 'D8S1179', 'FGA', 'PentaD', 'PentaE', 'TH01', 'TPOX']"
   ]
  },
  {
   "cell_type": "code",
   "execution_count": null,
   "id": "0b992a9a",
   "metadata": {},
   "outputs": [],
   "source": [
    "def computeTanabe(df1, idx1, df2, idx2, colnames=locations_13):\n",
    "    # compute tanabe similarity between two STR profiles\n",
    "    match = 0\n",
    "    total = 0\n",
    "    for col in colnames:\n",
    "        # TODO: how to best handle NAs?\n",
    "        a1 = set(df1.loc[idx1, col].split(\", \"))\n",
    "        a2 = set(df2.loc[idx2, col].split(\", \"))\n",
    "        if a1 != set(['NA']) & a2 != set(['NA']):\n",
    "            match += len(set(a1) & set(a2))\n",
    "            total += len(set(a1)) + len(set(a2))\n",
    "    return(2 * match / total)"
   ]
  },
  {
   "cell_type": "code",
   "execution_count": null,
   "id": "274ae869",
   "metadata": {},
   "outputs": [],
   "source": [
    "def makeScoreMatrixDatabase(df_seqid, df_achid, colnames=locations_13):\n",
    "    mytracker = track.SampleTracker()\n",
    "    seq_table = mytracker.add_model_cols_to_seqtable(cols=[\"ModelID\"])\n",
    "    valid_achids = list(set(df_achid.index) - set([np.nan]))\n",
    "    scoremat = pd.DataFrame(columns=valid_achids + ['ModelID'], index=(df_seqid.index))\n",
    "    for i in df_seqid.index:\n",
    "        scoremat.loc[i, \"ModelID\"] = seq_table.loc[i, \"ModelID\"]\n",
    "        for j in valid_achids:\n",
    "            scoremat.loc[i, j] = computeTanabe(df_seqid, i, df_achid, j)\n",
    "    return scoremat"
   ]
  },
  {
   "cell_type": "code",
   "execution_count": null,
   "id": "c15cc6b4",
   "metadata": {},
   "outputs": [],
   "source": [
    "fn1 = 'gs://fc-secure-9dffc819-20a8-49ea-8fa8-1b1bab1475d0/submissions/fb75cad6-1ee7-41b9-b25d-d725a87067a2/hipstr/6d988cc2-8510-40f5-b77e-cbbe13b29ec4/call-run_hipstr/CDS-0b4jFH.vcf.gz'\n",
    "fn2 = \"gs://fc-secure-9dffc819-20a8-49ea-8fa8-1b1bab1475d0/submissions/fb75cad6-1ee7-41b9-b25d-d725a87067a2/hipstr/b364a608-44d1-4ac0-8abe-86bf7651d7e5/call-run_hipstr/CDS-00Nrci.vcf.gz\"\n",
    "fn3 = 'gs://fc-secure-9dffc819-20a8-49ea-8fa8-1b1bab1475d0/submissions/fb75cad6-1ee7-41b9-b25d-d725a87067a2/hipstr/5eec577a-04f9-4a57-a056-c600e4b71fca/call-run_hipstr/CDS-0bV15m.vcf.gz'\n",
    "fn4 = \"gs://fc-secure-9dffc819-20a8-49ea-8fa8-1b1bab1475d0/submissions/fb75cad6-1ee7-41b9-b25d-d725a87067a2/hipstr/636ae126-8a85-4e19-b08c-589a28b2f5d2/call-run_hipstr/CDS-0e3PRe.vcf.gz\"\n",
    "fn5 = 'gs://fc-secure-9dffc819-20a8-49ea-8fa8-1b1bab1475d0/submissions/fb75cad6-1ee7-41b9-b25d-d725a87067a2/hipstr/1423f686-fbfe-48db-b582-a1f23d56d7dc/call-run_hipstr/CDS-0ewUnk.vcf.gz'"
   ]
  },
  {
   "cell_type": "code",
   "execution_count": null,
   "id": "08d53e47",
   "metadata": {},
   "outputs": [],
   "source": [
    "import dalmatian as dm\n",
    "\n",
    "ws = dm.WorkspaceManager(\"broad-firecloud-ccle/DEV_DepMap_WGS_CN\")\n",
    "samples = ws.get_samples()"
   ]
  },
  {
   "cell_type": "code",
   "execution_count": null,
   "id": "4ab8969d",
   "metadata": {},
   "outputs": [],
   "source": [
    "samples = samples.iloc[0:50]"
   ]
  },
  {
   "cell_type": "code",
   "execution_count": null,
   "id": "8f355dd0",
   "metadata": {},
   "outputs": [],
   "source": [
    "samples"
   ]
  },
  {
   "cell_type": "code",
   "execution_count": null,
   "id": "4979ceb1",
   "metadata": {},
   "outputs": [],
   "source": [
    "path_mapping = pd.DataFrame(data=[fn1, fn2, fn3, fn4, fn5], columns=[\"str\"], index=[\"CDS-0b4jFH\", \"CDS-00Nrci\", \"CDS-0bV15m\", \"CDS-0e3PRe\", \"CDS-0ewUnk\"])"
   ]
  },
  {
   "cell_type": "code",
   "execution_count": null,
   "id": "fea9bb38",
   "metadata": {},
   "outputs": [],
   "source": [
    "wgs_str_hipstr = generateSTRRow(path_mapping, method=\"hipstr\")"
   ]
  },
  {
   "cell_type": "code",
   "execution_count": null,
   "id": "48a04f43",
   "metadata": {},
   "outputs": [],
   "source": [
    "wgs_str_hipstr"
   ]
  },
  {
   "cell_type": "code",
   "execution_count": null,
   "id": "e9fbb92c",
   "metadata": {},
   "outputs": [],
   "source": [
    "from gsheets import Sheets\n",
    "\n",
    "broad_internal_str_url = \"https://docs.google.com/spreadsheets/d/134zxrQ77yMdDL4hLYybJJQN6pxLZIVLz-hORXIpid50/edit#gid=1107673601\"\n",
    "MY_ID = \"~/.client_secret.json\"\n",
    "MYSTORAGE_ID = \"~/.storage.json\"\n",
    "str_names = ['D3S1358','TH01', 'D21S11', 'D18S51', 'Penta E', 'D5S818', 'D13S317', 'D7S820',\n",
    "             'D16S539', 'CSF1PO', 'Penta D', 'D8S1179', 'TPOX', 'FGA']\n",
    "\n",
    "sheets = Sheets.from_files(MY_ID, MYSTORAGE_ID)\n",
    "broad_str = sheets.get(broad_internal_str_url).sheets[0].to_frame(index_col=0)[str_names + ['Source']].rename(columns={\"Penta E\": \"PentaE\", \"Penta D\": \"PentaD\"})\n",
    "broad_str = broad_str.fillna(\"NA\")\n",
    "broad_str = broad_str[~broad_str.index.isin(set([np.nan]))]"
   ]
  },
  {
   "cell_type": "code",
   "execution_count": null,
   "id": "a5b8234b",
   "metadata": {},
   "outputs": [],
   "source": [
    "minerva_str = sheets.get(\"https://docs.google.com/spreadsheets/d/1RsJS2e6zgyHwnt4bUyedYoyMbXMNbSmZfsr7SoSKn5U/edit?usp=sharing\").sheets[0].to_frame(index_col=0)[str_names].rename(columns={\"Penta E\": \"PentaE\", \"Penta D\": \"PentaD\"})\n",
    "minerva_str = minerva_str.fillna(\"NA\")\n",
    "minerva_str = minerva_str[~minerva_str.index.isin(set([np.nan]))]"
   ]
  },
  {
   "cell_type": "code",
   "execution_count": null,
   "id": "b6ccbd50",
   "metadata": {},
   "outputs": [],
   "source": [
    "# drop dup rows, if from multiple source, keep the one from achilles\n",
    "idx = broad_str.index.tolist()\n",
    "dups = set([x for x in idx if idx.count(x) > 1])\n",
    "broad_str = broad_str.reset_index()\n",
    "todrop = []\n",
    "for d in dups:\n",
    "    dup_rows = broad_str[broad_str['Arxspan ID'] == d]\n",
    "    if len(set(dup_rows.Source)) > 1 and \"Achilles\" in set(dup_rows.Source):\n",
    "        todrop.extend(dup_rows[dup_rows['Source'] != \"Achilles\"].index.tolist())\n",
    "broad_str = broad_str.drop(todrop)\n",
    "broad_str = broad_str.drop(columns=[\"Source\"])\n",
    "broad_str = broad_str.set_index('Arxspan ID')"
   ]
  },
  {
   "cell_type": "code",
   "execution_count": null,
   "id": "de0a6af5",
   "metadata": {},
   "outputs": [],
   "source": [
    "broad_str"
   ]
  },
  {
   "cell_type": "code",
   "execution_count": null,
   "id": "8ea39410",
   "metadata": {},
   "outputs": [],
   "source": [
    "score_mat = makeScoreMatrixDatabase(wgs_str, broad_str)"
   ]
  },
  {
   "cell_type": "code",
   "execution_count": null,
   "id": "234e1914",
   "metadata": {},
   "outputs": [],
   "source": [
    "score_mat_minerva = makeScoreMatrixDatabase(wgs_str, minerva_str)"
   ]
  },
  {
   "cell_type": "code",
   "execution_count": null,
   "id": "afd1832c",
   "metadata": {},
   "outputs": [],
   "source": [
    "wgs_str.loc[[\"CDS-00Nrci\"]][locations_13]"
   ]
  },
  {
   "cell_type": "code",
   "execution_count": null,
   "id": "1869bab3",
   "metadata": {},
   "outputs": [],
   "source": [
    "broad_str.loc[[\"ACH-000839\"]][locations_13]"
   ]
  },
  {
   "cell_type": "code",
   "execution_count": null,
   "id": "011bb835",
   "metadata": {},
   "outputs": [],
   "source": [
    "score_mat_minerva_t.loc[\"2869-1\", \"CDS-Zdl1W4\"]"
   ]
  },
  {
   "cell_type": "code",
   "execution_count": null,
   "id": "592852eb",
   "metadata": {},
   "outputs": [],
   "source": [
    "score_mat_minerva_t = score_mat_minerva.T\n",
    "score_mat_minerva_t = score_mat_minerva_t.drop([\"ModelID\"])\n",
    "score_mat_minerva_t[score_mat_minerva_t[\"CDS-Zdl1W4\"].astype(float) > 0.6]"
   ]
  },
  {
   "cell_type": "code",
   "execution_count": null,
   "id": "1e3368b1",
   "metadata": {},
   "outputs": [],
   "source": [
    "mytracker = track.SampleTracker()\n",
    "seq_table = mytracker.add_model_cols_to_seqtable(cols=[\"ModelID\", \"PatientID\"])\n",
    "\n",
    "model_table = mytracker.read_model_table()"
   ]
  },
  {
   "cell_type": "code",
   "execution_count": null,
   "id": "492359ee",
   "metadata": {},
   "outputs": [],
   "source": [
    "scores = []\n",
    "mismatch_scores = []\n",
    "for i in score_mat.index:\n",
    "    if score_mat.loc[i, \"ModelID\"] in set(score_mat.columns):\n",
    "        patient_id = seq_table.loc[i, \"PatientID\"]\n",
    "        same_patient = set(model_table[model_table.PatientID == patient_id].index)\n",
    "        scores.append(score_mat.loc[i, score_mat.loc[i, \"ModelID\"]])\n",
    "        mismatches = set(score_mat.columns) - set([\"ModelID\", score_mat.loc[i, \"ModelID\"]]) - same_patient\n",
    "        mismatch_scores.extend(score_mat.loc[i, list(mismatches)].tolist())"
   ]
  },
  {
   "cell_type": "code",
   "execution_count": null,
   "id": "b92567aa",
   "metadata": {},
   "outputs": [],
   "source": [
    "score_mat[score_mat.ModelID == \"ACH-002835\"][\"ACH-002835\"]"
   ]
  },
  {
   "cell_type": "code",
   "execution_count": null,
   "id": "2b1712ea",
   "metadata": {},
   "outputs": [],
   "source": [
    "import numpy as np\n",
    "import matplotlib.pyplot as plt\n",
    "\n",
    "fig, ax = plt.subplots(figsize =(6, 4))\n",
    "ax.hist(scores, bins = 20)\n",
    " \n",
    "# Show plot\n",
    "plt.show()"
   ]
  },
  {
   "cell_type": "code",
   "execution_count": null,
   "id": "f51162d7",
   "metadata": {},
   "outputs": [],
   "source": [
    "# plot mismatch scores:\n",
    "\n",
    "fig, ax = plt.subplots(figsize =(6, 4))\n",
    "ax.hist(mismatch_scores, bins = 20)\n",
    " \n",
    "# Show plot\n",
    "plt.show()"
   ]
  },
  {
   "cell_type": "code",
   "execution_count": null,
   "id": "bbc8ed2a",
   "metadata": {},
   "outputs": [],
   "source": [
    "mismatch_scores.sort()"
   ]
  },
  {
   "cell_type": "code",
   "execution_count": null,
   "id": "4ae3063c",
   "metadata": {},
   "outputs": [],
   "source": [
    "mismatch_scores[-20:]"
   ]
  },
  {
   "cell_type": "markdown",
   "id": "d6cc4f74",
   "metadata": {},
   "source": [
    "# GangSTR"
   ]
  },
  {
   "cell_type": "code",
   "execution_count": null,
   "id": "55d0bd81",
   "metadata": {},
   "outputs": [],
   "source": [
    "def altAllele2str(row):\n",
    "    if pd.isna(row[\"ALT\"]) or row[\"ALT\"] == \".\":\n",
    "        return \"NA\"\n",
    "    else:\n",
    "        strs = []\n",
    "        for i in row[\"ALT\"].split(\",\"):\n",
    "            l = len(i)\n",
    "            integer = l // row[\"PERIOD\"]\n",
    "            remainder = l % row[\"PERIOD\"]\n",
    "            if remainder == 0:\n",
    "                strs.append(str(int(integer)))\n",
    "            else:\n",
    "                strs.append(str(int(integer)) + \".\" + str(int(remainder)))\n",
    "        return ', '.join(list(set(strs)))"
   ]
  },
  {
   "cell_type": "code",
   "execution_count": null,
   "id": "27f22d48",
   "metadata": {},
   "outputs": [],
   "source": [
    "gangstr_fn1 = \"gs://fc-secure-9dffc819-20a8-49ea-8fa8-1b1bab1475d0/submissions/7b4fe301-f573-4859-bd05-98191c15a608/GangSTR/84e4fe9a-096e-4613-a0fd-462a1081a294/call-CallGangSTR/attempt-2/CDS-00Nrci.vcf\"\n",
    "gangstr_fn2 = \"gs://fc-secure-9dffc819-20a8-49ea-8fa8-1b1bab1475d0/submissions/7b4fe301-f573-4859-bd05-98191c15a608/GangSTR/1bea68db-ec31-4e18-b2e0-9c76fce185ed/call-CallGangSTR/attempt-2/CDS-0b4jFH.vcf\"\n",
    "gangstr_fn3 = \"gs://fc-secure-9dffc819-20a8-49ea-8fa8-1b1bab1475d0/submissions/7b4fe301-f573-4859-bd05-98191c15a608/GangSTR/643addc8-e6f0-45ae-812e-79fa599b3328/call-CallGangSTR/CDS-0bV15m.vcf\"\n",
    "gangstr_fn4 = \"gs://fc-secure-9dffc819-20a8-49ea-8fa8-1b1bab1475d0/submissions/7b4fe301-f573-4859-bd05-98191c15a608/GangSTR/4d798622-7f63-41b2-8a05-5c06287556f9/call-CallGangSTR/CDS-0e3PRe.vcf\"\n",
    "gangstr_fn5 = \"gs://fc-secure-9dffc819-20a8-49ea-8fa8-1b1bab1475d0/submissions/7b4fe301-f573-4859-bd05-98191c15a608/GangSTR/d987a65c-0cd0-48d0-9e8d-a439de082dcc/call-CallGangSTR/attempt-2/CDS-0ewUnk.vcf\""
   ]
  },
  {
   "cell_type": "code",
   "execution_count": null,
   "id": "5aaf5f8d",
   "metadata": {},
   "outputs": [],
   "source": [
    "path_mapping_gangstr = pd.DataFrame(data=[gangstr_fn1, gangstr_fn2, gangstr_fn3, gangstr_fn4, gangstr_fn5], columns=[\"str\"], index=[\"CDS-00Nrci\", \"CDS-0b4jFH\", \"CDS-0bV15m\", \"CDS-0e3PRe\", \"CDS-0ewUnk\"])"
   ]
  },
  {
   "cell_type": "code",
   "execution_count": null,
   "id": "f007070f",
   "metadata": {},
   "outputs": [],
   "source": [
    "wgs_str_gangstr = generateSTRRow(path_mapping_gangstr, method=\"gangstr\")"
   ]
  },
  {
   "cell_type": "code",
   "execution_count": null,
   "id": "a3c054ee",
   "metadata": {},
   "outputs": [],
   "source": [
    "wgs_str_gangstr.loc[[\"CDS-00Nrci\"]]"
   ]
  },
  {
   "cell_type": "code",
   "execution_count": null,
   "id": "aa09dff3",
   "metadata": {},
   "outputs": [],
   "source": [
    "wgs_str_hipstr.loc[[\"CDS-00Nrci\"]]"
   ]
  },
  {
   "cell_type": "code",
   "execution_count": null,
   "id": "73e6fdc8",
   "metadata": {},
   "outputs": [],
   "source": [
    "df = read_vcf(gangstr_fn1)\n",
    "df"
   ]
  },
  {
   "cell_type": "code",
   "execution_count": null,
   "id": "dfb2825f",
   "metadata": {},
   "outputs": [],
   "source": [
    "from taigapy import TaigaClient\n",
    "tc = TaigaClient()\n",
    "\n",
    "CCLE_gene_cn = tc.get(name='internal-20q4-2540', version=47, file='CCLE_gene_cn')"
   ]
  },
  {
   "cell_type": "code",
   "execution_count": null,
   "id": "d447bbb2",
   "metadata": {},
   "outputs": [],
   "source": [
    "\"ACH-001955\" in CCLE_gene_cn.index"
   ]
  },
  {
   "cell_type": "code",
   "execution_count": null,
   "id": "4482c7f2",
   "metadata": {},
   "outputs": [],
   "source": [
    "wgs_str_gangstr_all = generateSTRRow(samples, method=\"gangstr\", colname=\"GangSTR_vcf\")"
   ]
  },
  {
   "cell_type": "code",
   "execution_count": null,
   "id": "b01c0a21",
   "metadata": {},
   "outputs": [],
   "source": [
    "wgs_str_gangstr_all"
   ]
  },
  {
   "cell_type": "code",
   "execution_count": null,
   "id": "9f74de1c",
   "metadata": {},
   "outputs": [],
   "source": [
    "score_mat_gangstr = makeScoreMatrixDatabase(wgs_str_gangstr_all, broad_str, colnames=locations_14)"
   ]
  },
  {
   "cell_type": "code",
   "execution_count": null,
   "id": "e7481624",
   "metadata": {},
   "outputs": [],
   "source": [
    "score_mat_gangstr"
   ]
  },
  {
   "cell_type": "code",
   "execution_count": null,
   "id": "ebe39f5f",
   "metadata": {},
   "outputs": [],
   "source": [
    "scores_gangstr = []\n",
    "mismatch_scores_gangstr = []\n",
    "for i in score_mat_gangstr.index:\n",
    "    if score_mat_gangstr.loc[i, \"ModelID\"] in set(score_mat_gangstr.columns):\n",
    "        patient_id = seq_table.loc[i, \"PatientID\"]\n",
    "        same_patient = set(model_table[model_table.PatientID == patient_id].index)\n",
    "        scores_gangstr.append(score_mat_gangstr.loc[i, score_mat_gangstr.loc[i, \"ModelID\"]])\n",
    "        mismatches = set(score_mat_gangstr.columns) - set([\"ModelID\", score_mat_gangstr.loc[i, \"ModelID\"]]) - same_patient\n",
    "        mismatch_scores_gangstr.extend(score_mat_gangstr.loc[i, list(mismatches)].tolist())"
   ]
  },
  {
   "cell_type": "code",
   "execution_count": null,
   "id": "01da0200",
   "metadata": {},
   "outputs": [],
   "source": [
    "import numpy as np\n",
    "import matplotlib.pyplot as plt\n",
    "\n",
    "fig, ax = plt.subplots(figsize =(6, 4))\n",
    "ax.hist(scores_gangstr, bins = 20)\n",
    " \n",
    "# Show plot\n",
    "plt.show()"
   ]
  },
  {
   "cell_type": "code",
   "execution_count": null,
   "id": "78dd9a15",
   "metadata": {},
   "outputs": [],
   "source": [
    "# plot mismatch scores:\n",
    "\n",
    "fig, ax = plt.subplots(figsize =(6, 4))\n",
    "ax.hist(mismatch_scores_gangstr, bins = 20)\n",
    "\n",
    "# Show plot\n",
    "plt.show()"
   ]
  },
  {
   "cell_type": "code",
   "execution_count": null,
   "id": "53a384ee",
   "metadata": {},
   "outputs": [],
   "source": [
    "# check ACH-000600 and ACH-000658 against STR database"
   ]
  },
  {
   "cell_type": "code",
   "execution_count": null,
   "id": "73fc3c35",
   "metadata": {},
   "outputs": [],
   "source": [
    "ids = [\"CDS-0DgVJy\", \"CDS-p5raBU\", \"CDS-2FC7DW\"]"
   ]
  },
  {
   "cell_type": "code",
   "execution_count": null,
   "id": "703f9d95",
   "metadata": {},
   "outputs": [],
   "source": [
    "import dalmatian as dm\n",
    "\n",
    "wm = dm.WorkspaceManager(\"broad-firecloud-ccle/CCLE_SNP_QC-copy\").disable_hound()"
   ]
  },
  {
   "cell_type": "code",
   "execution_count": null,
   "id": "062c73ce",
   "metadata": {},
   "outputs": [],
   "source": [
    "mytracker = track.SampleTracker()\n",
    "seq_table = mytracker.read_seq_table()\n",
    "\n",
    "samples = seq_table.loc[ids]"
   ]
  },
  {
   "cell_type": "code",
   "execution_count": null,
   "id": "629670ea",
   "metadata": {},
   "outputs": [],
   "source": [
    "HG38BAMCOL = [\"bam_filepath\", \"bai_filepath\"]\n",
    "\n",
    "bams = samples[HG38BAMCOL]\n",
    "bams[\"id\"] = bams.index\n",
    "\n",
    "# Upload sample sheet\n",
    "samples_df = pd.DataFrame(\n",
    "    bams[HG38BAMCOL + [\"id\", \"id\"]].values,\n",
    "    columns=[\"internal_bam_filepath\", \"internal_bai_filepath\"] + [\"sample_id\", \"participant_id\"],\n",
    ")"
   ]
  },
  {
   "cell_type": "code",
   "execution_count": null,
   "id": "be994855",
   "metadata": {},
   "outputs": [],
   "source": [
    "samples_df = samples_df.set_index(\"sample_id\")\n",
    "wm.upload_samples(samples_df, add_participant_samples=True)"
   ]
  },
  {
   "cell_type": "code",
   "execution_count": null,
   "id": "c0dd823c",
   "metadata": {},
   "outputs": [],
   "source": [
    "fn1 = \"gs://fc-secure-9c2c0017-9eb5-47e5-9f43-983097f1f7b6/submissions/5160df09-c8f6-47c1-a1b0-1016aad12f93/hipstr/09f55f83-7f97-4e61-9033-d34b950b9456/call-run_hipstr/CDS-0DgVJy.vcf.gz\"\n",
    "fn2 = \"gs://fc-secure-9c2c0017-9eb5-47e5-9f43-983097f1f7b6/submissions/5160df09-c8f6-47c1-a1b0-1016aad12f93/hipstr/1be62168-30cf-491b-8227-c7f1876ac603/call-run_hipstr/CDS-p5raBU.vcf.gz\"\n",
    "fn3 = \"gs://fc-secure-9c2c0017-9eb5-47e5-9f43-983097f1f7b6/submissions/5160df09-c8f6-47c1-a1b0-1016aad12f93/hipstr/86b096e1-53db-4665-8dfa-c731885d7312/call-run_hipstr/cacheCopy/CDS-2FC7DW.vcf.gz\""
   ]
  },
  {
   "cell_type": "code",
   "execution_count": null,
   "id": "60284d36",
   "metadata": {},
   "outputs": [],
   "source": [
    "path_mapping = pd.DataFrame(data=[fn1, fn2, fn3], columns=[\"str\"], index=[\"CDS-0DgVJy\", \"CDS-p5raBU\", \"CDS-2FC7DW\"])"
   ]
  },
  {
   "cell_type": "code",
   "execution_count": null,
   "id": "2ebf0f89",
   "metadata": {},
   "outputs": [],
   "source": [
    "path_mapping = pd.DataFrame(data=[fn3], columns=[\"str\"], index=[\"CDS-2FC7DW\"])"
   ]
  },
  {
   "cell_type": "code",
   "execution_count": null,
   "id": "0f88bfb6",
   "metadata": {},
   "outputs": [],
   "source": [
    "wgs_str_hipstr = generateSTRRow(path_mapping, method=\"hipstr\")"
   ]
  },
  {
   "cell_type": "code",
   "execution_count": null,
   "id": "a0c8b9d2",
   "metadata": {},
   "outputs": [],
   "source": [
    "score_mat = makeScoreMatrixDatabase(wgs_str_hipstr, broad_str)"
   ]
  },
  {
   "cell_type": "code",
   "execution_count": null,
   "id": "a98ddcb7",
   "metadata": {},
   "outputs": [],
   "source": [
    "score_mat.loc[[\"CDS-0DgVJy\", \"CDS-p5raBU\", \"CDS-2FC7DW\"], [\"ACH-001341\", \"ACH-000658\"]]"
   ]
  },
  {
   "cell_type": "code",
   "execution_count": null,
   "id": "33eda8e5",
   "metadata": {},
   "outputs": [],
   "source": [
    "wgs_str_hipstr"
   ]
  },
  {
   "cell_type": "code",
   "execution_count": null,
   "id": "23e5bf63",
   "metadata": {},
   "outputs": [],
   "source": []
  }
 ],
 "metadata": {
  "kernelspec": {
   "display_name": "Python 3",
   "language": "python",
   "name": "python3"
  },
  "language_info": {
   "codemirror_mode": {
    "name": "ipython",
    "version": 3
   },
   "file_extension": ".py",
   "mimetype": "text/x-python",
   "name": "python",
   "nbconvert_exporter": "python",
   "pygments_lexer": "ipython3",
   "version": "3.8.13"
  }
 },
 "nbformat": 4,
 "nbformat_minor": 5
}
