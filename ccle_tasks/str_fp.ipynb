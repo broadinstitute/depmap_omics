{
 "cells": [
  {
   "cell_type": "code",
   "execution_count": null,
   "id": "a9f6dbf9",
   "metadata": {},
   "outputs": [],
   "source": [
    "#https://gist.github.com/dceoy/99d976a2c01e7f0ba1c813778f9db744\n",
    "\n",
    "import io\n",
    "import os\n",
    "import pandas as pd\n",
    "import gzip\n",
    "import numpy as np\n",
    "from google.cloud import storage\n",
    "from depmap_omics_upload import tracker as track\n",
    "\n",
    "\n",
    "def read_vcf(path):\n",
    "    storage_client = storage.Client()\n",
    "    bucket = storage_client.bucket(path.split(\"/\")[2])\n",
    "    blob = bucket.blob(\"/\".join(path.split(\"/\")[3:]))\n",
    "    data = io.BytesIO(blob.download_as_string())\n",
    "    with gzip.open(data, 'r') as f:\n",
    "        lines = [l.decode(\"utf-8\") for l in f if not l.startswith(b'#')]\n",
    "    return pd.read_csv(\n",
    "        io.StringIO(''.join(lines)),\n",
    "        names=['CHROM', 'POS', 'ID', 'REF', 'ALT', 'QUAL', 'FILTER', 'INFO', 'FORMAT', 'GT'],\n",
    "        sep='\\t'\n",
    "    )"
   ]
  },
  {
   "cell_type": "code",
   "execution_count": null,
   "id": "33ce9664",
   "metadata": {},
   "outputs": [],
   "source": [
    "def transformGB(row):\n",
    "    if len(row) < 2:\n",
    "        return np.nan\n",
    "    else:\n",
    "        split_gt = row.split(':')[1].split('|')\n",
    "        return [int(i) for i in split_gt]"
   ]
  },
  {
   "cell_type": "code",
   "execution_count": null,
   "id": "9d82a1df",
   "metadata": {},
   "outputs": [],
   "source": [
    "def gb2str(row):\n",
    "    if not isinstance(row[\"GB\"], list):\n",
    "        return \"NA\"\n",
    "    else:\n",
    "        strs = []\n",
    "        for i in row[\"GB\"]:\n",
    "            integer = (row[\"REF\"] * row[\"PERIOD\"] + i) // row[\"PERIOD\"]\n",
    "            remainder = (row[\"REF\"] * row[\"PERIOD\"] + i) % row[\"PERIOD\"]\n",
    "            if remainder == 0:\n",
    "                strs.append(str(int(integer)))\n",
    "            else:\n",
    "                strs.append(str(int(integer)) + \".\" + str(int(remainder)))\n",
    "        return ', '.join(list(set(strs)))"
   ]
  },
  {
   "cell_type": "code",
   "execution_count": null,
   "id": "a2598344",
   "metadata": {},
   "outputs": [],
   "source": [
    "def generateSTRRow(paths_df):\n",
    "    hg38_sites = pd.read_csv(\"/home/xiaomeng/bin/depmap_omics/data/str_hg38.bed\", sep=\"\\t\", names=[\"CHROM\",\"START\",\"END\",\"PERIOD\",\"REF\",\"ID\"]).astype({'PERIOD': 'int32'})\n",
    "    str_rows = []\n",
    "#     mytracker = track.SampleTracker()\n",
    "#     seq_table = mytracker.add_model_cols_to_seqtable(cols=[\"ModelID\"])\n",
    "#     mytracker.close_gumbo_client()\n",
    "    for i, p in paths_df.iterrows():\n",
    "        if pd.isna(p[\"str\"]):\n",
    "            print(\"no hipSTR vcf available for: \" + i)\n",
    "        else:\n",
    "            df = read_vcf(p[\"str\"])\n",
    "            df[\"GB\"] = df.apply(lambda x: (transformGB(x[\"GT\"])), axis=1)\n",
    "            df = hg38_sites.merge(df[[\"ID\", \"GB\"]], on='ID', how='left')\n",
    "            df[\"STR\"] = df.apply(lambda x: gb2str(x), axis=1)\n",
    "            # Maybe no need to convert to model IDs here yet?\n",
    "            df[\"sample_id\"] = i\n",
    "            str_row = df.pivot(index='sample_id', columns='ID', values='STR')\n",
    "            str_rows.append(str_row)\n",
    "    return(pd.concat(str_rows))"
   ]
  },
  {
   "cell_type": "code",
   "execution_count": null,
   "id": "282e37d1",
   "metadata": {},
   "outputs": [],
   "source": [
    "locations_14 = ['CSF1PO', 'D13S317', 'D16S539', 'D18S51', 'D21S11', 'D3S1358', 'D5S818', 'D7S820', 'D8S1179', 'FGA', 'PentaD', 'PentaE', 'TH01', 'TPOX']\n",
    "locations_13 = ['CSF1PO', 'D13S317', 'D16S539', 'D18S51', 'D3S1358', 'D5S818', 'D7S820', 'D8S1179', 'FGA', 'PentaD', 'PentaE', 'TH01', 'TPOX']"
   ]
  },
  {
   "cell_type": "code",
   "execution_count": null,
   "id": "0b992a9a",
   "metadata": {},
   "outputs": [],
   "source": [
    "def computeTanabe(df1, idx1, df2, idx2, colnames=locations_13):\n",
    "    # compute tanabe similarity between two STR profiles\n",
    "    match = 0\n",
    "    total = 0\n",
    "    for col in colnames:\n",
    "        # TODO: how to best handle NAs?\n",
    "        a1 = set(df1.loc[idx1, col].split(\", \"))\n",
    "        a2 = set(df2.loc[idx2, col].split(\", \"))\n",
    "        if a1 != set(['NA']) & a2 != set(['NA']):\n",
    "            match += len(set(a1) & set(a2))\n",
    "            total += len(set(a1)) + len(set(a2))\n",
    "    return(2 * match / total)"
   ]
  },
  {
   "cell_type": "code",
   "execution_count": null,
   "id": "274ae869",
   "metadata": {},
   "outputs": [],
   "source": [
    "def makeScoreMatrixDatabase(df_seqid, df_achid):\n",
    "    mytracker = track.SampleTracker()\n",
    "    seq_table = mytracker.add_model_cols_to_seqtable(cols=[\"ModelID\"])\n",
    "    valid_achids = list(set(df_achid.index) - set([np.nan]))\n",
    "    scoremat = pd.DataFrame(columns=valid_achids + ['ModelID'], index=(df_seqid.index))\n",
    "    for i in df_seqid.index:\n",
    "        scoremat.loc[i, \"ModelID\"] = seq_table.loc[i, \"ModelID\"]\n",
    "        for j in valid_achids:\n",
    "            scoremat.loc[i, j] = computeTanabe(df_seqid, i, df_achid, j)\n",
    "    return scoremat"
   ]
  },
  {
   "cell_type": "code",
   "execution_count": null,
   "id": "c15cc6b4",
   "metadata": {},
   "outputs": [],
   "source": [
    "fn1 = 'gs://fc-secure-9dffc819-20a8-49ea-8fa8-1b1bab1475d0/submissions/fb75cad6-1ee7-41b9-b25d-d725a87067a2/hipstr/6d988cc2-8510-40f5-b77e-cbbe13b29ec4/call-run_hipstr/CDS-0b4jFH.vcf.gz'\n",
    "fn2 = \"gs://fc-secure-9dffc819-20a8-49ea-8fa8-1b1bab1475d0/submissions/fb75cad6-1ee7-41b9-b25d-d725a87067a2/hipstr/b364a608-44d1-4ac0-8abe-86bf7651d7e5/call-run_hipstr/CDS-00Nrci.vcf.gz\""
   ]
  },
  {
   "cell_type": "code",
   "execution_count": null,
   "id": "08d53e47",
   "metadata": {},
   "outputs": [],
   "source": [
    "import dalmatian as dm\n",
    "\n",
    "ws = dm.WorkspaceManager(\"broad-firecloud-ccle/DEV_DepMap_WGS_CN\")\n",
    "samples = ws.get_samples()"
   ]
  },
  {
   "cell_type": "code",
   "execution_count": null,
   "id": "4ab8969d",
   "metadata": {},
   "outputs": [],
   "source": [
    "samples = samples.iloc[0:50]"
   ]
  },
  {
   "cell_type": "code",
   "execution_count": null,
   "id": "8f355dd0",
   "metadata": {},
   "outputs": [],
   "source": [
    "samples"
   ]
  },
  {
   "cell_type": "code",
   "execution_count": null,
   "id": "4979ceb1",
   "metadata": {},
   "outputs": [],
   "source": [
    "path_mapping = pd.DataFrame(data=[fn1, fn2], columns=[\"str\"], index=[\"CDS-0b4jFH\", \"CDS-00Nrci\"])"
   ]
  },
  {
   "cell_type": "code",
   "execution_count": null,
   "id": "fea9bb38",
   "metadata": {},
   "outputs": [],
   "source": [
    "wgs_str = generateSTRRow(path_mapping)"
   ]
  },
  {
   "cell_type": "code",
   "execution_count": null,
   "id": "48a04f43",
   "metadata": {},
   "outputs": [],
   "source": [
    "wgs_str"
   ]
  },
  {
   "cell_type": "code",
   "execution_count": null,
   "id": "e9fbb92c",
   "metadata": {},
   "outputs": [],
   "source": [
    "from gsheets import Sheets\n",
    "\n",
    "broad_internal_str_url = \"https://docs.google.com/spreadsheets/d/134zxrQ77yMdDL4hLYybJJQN6pxLZIVLz-hORXIpid50/edit#gid=1107673601\"\n",
    "MY_ID = \"~/.client_secret.json\"\n",
    "MYSTORAGE_ID = \"~/.storage.json\"\n",
    "str_names = ['D3S1358','TH01', 'D21S11', 'D18S51', 'Penta E', 'D5S818', 'D13S317', 'D7S820',\n",
    "             'D16S539', 'CSF1PO', 'Penta D', 'D8S1179', 'TPOX', 'FGA']\n",
    "\n",
    "sheets = Sheets.from_files(MY_ID, MYSTORAGE_ID)\n",
    "broad_str = sheets.get(broad_internal_str_url).sheets[0].to_frame(index_col=0)[str_names + ['Source']].rename(columns={\"Penta E\": \"PentaE\", \"Penta D\": \"PentaD\"})\n",
    "broad_str = broad_str.fillna(\"NA\")\n",
    "broad_str = broad_str[~broad_str.index.isin(set([np.nan]))]"
   ]
  },
  {
   "cell_type": "code",
   "execution_count": null,
   "id": "b6ccbd50",
   "metadata": {},
   "outputs": [],
   "source": [
    "# drop dup rows, if from multiple source, keep the one from achilles\n",
    "idx = broad_str.index.tolist()\n",
    "dups = set([x for x in idx if idx.count(x) > 1])\n",
    "broad_str = broad_str.reset_index()\n",
    "todrop = []\n",
    "for d in dups:\n",
    "    dup_rows = broad_str[broad_str['Arxspan ID'] == d]\n",
    "    if len(set(dup_rows.Source)) > 1 and \"Achilles\" in set(dup_rows.Source):\n",
    "        todrop.extend(dup_rows[dup_rows['Source'] != \"Achilles\"].index.tolist())\n",
    "broad_str = broad_str.drop(todrop)\n",
    "broad_str = broad_str.drop(columns=[\"Source\"])\n",
    "broad_str = broad_str.set_index('Arxspan ID')"
   ]
  },
  {
   "cell_type": "code",
   "execution_count": null,
   "id": "de0a6af5",
   "metadata": {},
   "outputs": [],
   "source": [
    "broad_str"
   ]
  },
  {
   "cell_type": "code",
   "execution_count": null,
   "id": "8ea39410",
   "metadata": {},
   "outputs": [],
   "source": [
    "score_mat = makeScoreMatrixDatabase(wgs_str, broad_str)"
   ]
  },
  {
   "cell_type": "code",
   "execution_count": null,
   "id": "afd1832c",
   "metadata": {},
   "outputs": [],
   "source": [
    "wgs_str.loc[[\"CDS-00Nrci\"]][locations_13]"
   ]
  },
  {
   "cell_type": "code",
   "execution_count": null,
   "id": "1869bab3",
   "metadata": {},
   "outputs": [],
   "source": [
    "broad_str.loc[[\"ACH-000839\"]][locations_13]"
   ]
  },
  {
   "cell_type": "code",
   "execution_count": null,
   "id": "37cdd7c9",
   "metadata": {},
   "outputs": [],
   "source": [
    "score_mat"
   ]
  },
  {
   "cell_type": "code",
   "execution_count": null,
   "id": "006ad9d2",
   "metadata": {},
   "outputs": [],
   "source": [
    "mytracker = track.SampleTracker()\n",
    "seq_table = mytracker.add_model_cols_to_seqtable(cols=[\"ModelID\", \"PatientID\"])"
   ]
  },
  {
   "cell_type": "code",
   "execution_count": null,
   "id": "c413120c",
   "metadata": {},
   "outputs": [],
   "source": [
    "model_table = mytracker.read_model_table()"
   ]
  },
  {
   "cell_type": "code",
   "execution_count": null,
   "id": "2cd57d87",
   "metadata": {},
   "outputs": [],
   "source": [
    "scores = []\n",
    "mismatch_scores = []\n",
    "for i in score_mat.index:\n",
    "    if score_mat.loc[i, \"ModelID\"] in set(score_mat.columns):\n",
    "        patient_id = seq_table.loc[i, \"PatientID\"]\n",
    "        same_patient = set(model_table[model_table.PatientID == patient_id].index)\n",
    "        scores.append(score_mat.loc[i, score_mat.loc[i, \"ModelID\"]])\n",
    "        mismatches = set(score_mat.columns) - set([\"ModelID\", score_mat.loc[i, \"ModelID\"]]) - same_patient\n",
    "        mismatch_scores.extend(score_mat.loc[i, list(mismatches)].tolist())"
   ]
  },
  {
   "cell_type": "code",
   "execution_count": null,
   "id": "19848693",
   "metadata": {},
   "outputs": [],
   "source": []
  },
  {
   "cell_type": "code",
   "execution_count": null,
   "id": "6f70bfb9",
   "metadata": {},
   "outputs": [],
   "source": [
    "score_mat[score_mat.ModelID == \"ACH-002835\"][\"ACH-002835\"]"
   ]
  },
  {
   "cell_type": "code",
   "execution_count": null,
   "id": "2b0931bd",
   "metadata": {},
   "outputs": [],
   "source": [
    "import numpy as np\n",
    "import matplotlib.pyplot as plt\n",
    "\n",
    "fig, ax = plt.subplots(figsize =(6, 4))\n",
    "ax.hist(scores, bins = 20)\n",
    " \n",
    "# Show plot\n",
    "plt.show()"
   ]
  },
  {
   "cell_type": "code",
   "execution_count": null,
   "id": "f51162d7",
   "metadata": {},
   "outputs": [],
   "source": [
    "# plot mismatch scores:\n",
    "\n",
    "fig, ax = plt.subplots(figsize =(6, 4))\n",
    "ax.hist(mismatch_scores, bins = 20)\n",
    " \n",
    "# Show plot\n",
    "plt.show()"
   ]
  },
  {
   "cell_type": "code",
   "execution_count": null,
   "id": "bbc8ed2a",
   "metadata": {},
   "outputs": [],
   "source": [
    "mismatch_scores.sort()"
   ]
  },
  {
   "cell_type": "code",
   "execution_count": null,
   "id": "4ae3063c",
   "metadata": {},
   "outputs": [],
   "source": [
    "mismatch_scores[-20:]"
   ]
  },
  {
   "cell_type": "code",
   "execution_count": null,
   "id": "482a3306",
   "metadata": {},
   "outputs": [],
   "source": []
  }
 ],
 "metadata": {
  "kernelspec": {
   "display_name": "Python 3",
   "language": "python",
   "name": "python3"
  },
  "language_info": {
   "codemirror_mode": {
    "name": "ipython",
    "version": 3
   },
   "file_extension": ".py",
   "mimetype": "text/x-python",
   "name": "python",
   "nbconvert_exporter": "python",
   "pygments_lexer": "ipython3",
   "version": "3.8.13"
  }
 },
 "nbformat": 4,
 "nbformat_minor": 5
}
