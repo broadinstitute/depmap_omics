{
 "cells": [
  {
   "cell_type": "code",
   "execution_count": null,
   "id": "a9f6dbf9",
   "metadata": {},
   "outputs": [],
   "source": [
    "#https://gist.github.com/dceoy/99d976a2c01e7f0ba1c813778f9db744\n",
    "\n",
    "import io\n",
    "import os\n",
    "import pandas as pd\n",
    "import gzip\n",
    "import numpy as np\n",
    "from google.cloud import storage\n",
    "from depmap_omics_upload import tracker as track\n",
    "\n",
    "\n",
    "def read_vcf(path):\n",
    "    storage_client = storage.Client()\n",
    "    bucket = storage_client.bucket(path.split(\"/\")[2])\n",
    "    blob = bucket.blob(\"/\".join(path.split(\"/\")[3:]))\n",
    "    data = io.BytesIO(blob.download_as_string())\n",
    "    with gzip.open(data, 'r') as f:\n",
    "        lines = [l.decode(\"utf-8\") for l in f if not l.startswith(b'#')]\n",
    "    return pd.read_csv(\n",
    "        io.StringIO(''.join(lines)),\n",
    "        names=['CHROM', 'POS', 'ID', 'REF', 'ALT', 'QUAL', 'FILTER', 'INFO', 'FORMAT', 'GT'],\n",
    "        sep='\\t'\n",
    "    )"
   ]
  },
  {
   "cell_type": "code",
   "execution_count": null,
   "id": "33ce9664",
   "metadata": {},
   "outputs": [],
   "source": [
    "def transformGB(row):\n",
    "    if len(row) < 2:\n",
    "        return np.nan\n",
    "    else:\n",
    "        split_gt = row.split(':')[1].split('|')\n",
    "        return [int(i) for i in split_gt]"
   ]
  },
  {
   "cell_type": "code",
   "execution_count": null,
   "id": "9d82a1df",
   "metadata": {},
   "outputs": [],
   "source": [
    "def gb2str(row):\n",
    "    if not isinstance(row[\"GB\"], list):\n",
    "        return \"NA\"\n",
    "    else:\n",
    "        strs = []\n",
    "        for i in row[\"GB\"]:\n",
    "            integer = (row[\"REF\"] * row[\"PERIOD\"] + i) // row[\"PERIOD\"]\n",
    "            remainder = (row[\"REF\"] * row[\"PERIOD\"] + i) % row[\"PERIOD\"]\n",
    "            if remainder == 0:\n",
    "                strs.append(str(int(integer)))\n",
    "            else:\n",
    "                strs.append(str(int(integer)) + \".\" + str(int(remainder)))\n",
    "        return ', '.join(strs)"
   ]
  },
  {
   "cell_type": "code",
   "execution_count": null,
   "id": "0074ef9b",
   "metadata": {},
   "outputs": [],
   "source": [
    "def generateSTRRow(paths_df):\n",
    "    hg38_sites = pd.read_csv(\"/home/xiaomeng/bin/depmap_omics/data/str_hg38.bed\", sep=\"\\t\", names=[\"CHROM\",\"START\",\"END\",\"PERIOD\",\"REF\",\"ID\"]).astype({'PERIOD': 'int32'})\n",
    "    str_rows = []\n",
    "    mytracker = track.SampleTracker()\n",
    "    seq_table = mytracker.add_model_cols_to_seqtable(cols=[\"ModelID\"])\n",
    "    mytracker.close_gumbo_client()\n",
    "    for i, p in paths_df.iterrows():\n",
    "        df = read_vcf(p[\"str\"])\n",
    "        df[\"GB\"] = df.apply(lambda x: (transformGB(x[\"GT\"])), axis=1)\n",
    "        df = hg38_sites.merge(df[[\"ID\", \"GB\"]], on='ID', how='left')\n",
    "        df[\"STR\"] = df.apply(lambda x: gb2str(x), axis=1)\n",
    "        df[\"sample_id\"] = seq_table.loc[i, \"ModelID\"]\n",
    "        str_row = df.pivot(index='sample_id', columns='ID', values='STR')\n",
    "        str_rows.append(str_row)\n",
    "    return(pd.concat(str_rows))"
   ]
  },
  {
   "cell_type": "code",
   "execution_count": null,
   "id": "c15cc6b4",
   "metadata": {},
   "outputs": [],
   "source": [
    "fn1 = 'gs://fc-secure-9dffc819-20a8-49ea-8fa8-1b1bab1475d0/submissions/fb75cad6-1ee7-41b9-b25d-d725a87067a2/hipstr/6d988cc2-8510-40f5-b77e-cbbe13b29ec4/call-run_hipstr/CDS-0b4jFH.vcf.gz'\n",
    "fn2 = \"gs://fc-secure-9dffc819-20a8-49ea-8fa8-1b1bab1475d0/submissions/fb75cad6-1ee7-41b9-b25d-d725a87067a2/hipstr/b364a608-44d1-4ac0-8abe-86bf7651d7e5/call-run_hipstr/CDS-00Nrci.vcf.gz\""
   ]
  },
  {
   "cell_type": "code",
   "execution_count": null,
   "id": "4979ceb1",
   "metadata": {},
   "outputs": [],
   "source": [
    "path_mapping = pd.DataFrame(data=[fn1, fn2], columns=[\"str\"], index=[\"CDS-0b4jFH\", \"CDS-00Nrci\"])"
   ]
  },
  {
   "cell_type": "code",
   "execution_count": null,
   "id": "fea9bb38",
   "metadata": {},
   "outputs": [],
   "source": [
    "generateSTRRow(path_mapping)"
   ]
  },
  {
   "cell_type": "code",
   "execution_count": null,
   "id": "e9fbb92c",
   "metadata": {},
   "outputs": [],
   "source": []
  },
  {
   "cell_type": "code",
   "execution_count": null,
   "id": "35ec9910",
   "metadata": {},
   "outputs": [],
   "source": []
  }
 ],
 "metadata": {
  "kernelspec": {
   "display_name": "Python 3",
   "language": "python",
   "name": "python3"
  },
  "language_info": {
   "codemirror_mode": {
    "name": "ipython",
    "version": 3
   },
   "file_extension": ".py",
   "mimetype": "text/x-python",
   "name": "python",
   "nbconvert_exporter": "python",
   "pygments_lexer": "ipython3",
   "version": "3.8.13"
  }
 },
 "nbformat": 4,
 "nbformat_minor": 5
}
