{
 "cells": [
  {
   "cell_type": "code",
   "execution_count": null,
   "id": "2bfc7b09",
   "metadata": {},
   "outputs": [],
   "source": [
    "from depmap_omics_upload import tracker as track\n",
    "import pandas as pd\n",
    "import dalmatian as dm"
   ]
  },
  {
   "cell_type": "code",
   "execution_count": null,
   "id": "20d638f1",
   "metadata": {},
   "outputs": [],
   "source": [
    "wm = dm.WorkspaceManager(\"fccredits-silver-tan-7621/CCLE_v2\")\n",
    "ccle_samples = wm.get_samples()"
   ]
  },
  {
   "cell_type": "code",
   "execution_count": null,
   "id": "d765d9ca",
   "metadata": {},
   "outputs": [],
   "source": [
    "mytracker = track.SampleTracker()\n",
    "seq_table = mytracker.add_model_cols_to_seqtable()"
   ]
  },
  {
   "cell_type": "code",
   "execution_count": null,
   "id": "02b42b21",
   "metadata": {},
   "outputs": [],
   "source": [
    "seq_table"
   ]
  },
  {
   "cell_type": "code",
   "execution_count": null,
   "id": "b5da367d",
   "metadata": {},
   "outputs": [],
   "source": [
    "for m in ccle_samples.index:\n",
    "    if pd.isna(ccle_samples.loc[m, \"hg38_wgs_bam\"]):\n",
    "        if len(seq_table[(seq_table.ModelID == m) & (seq_table.expected_type == \"wgs\")]) > 1:\n",
    "            cdsid = seq_table[(seq_table.ModelID == m) & (seq_table.expected_type == \"wgs\") & (seq_table.version == 2)].index.tolist()[0]\n",
    "            ccle_samples.loc[m, \"hg38_wgs_bam\"] = seq_table.loc[cdsid, \"bam_filepath\"]\n",
    "            ccle_samples.loc[m, \"hg38_wgs_bai\"] = seq_table.loc[cdsid, \"bai_filepath\"]\n",
    "        if len(seq_table[(seq_table.ModelID == m) & (seq_table.expected_type == \"wgs\")]) == 1:\n",
    "            cdsid = seq_table[(seq_table.ModelID == m) & (seq_table.expected_type == \"wgs\")].index.tolist()[0]\n",
    "            ccle_samples.loc[m, \"hg38_wgs_bam\"] = seq_table.loc[cdsid, \"bam_filepath\"]\n",
    "            ccle_samples.loc[m, \"hg38_wgs_bai\"] = seq_table.loc[cdsid, \"bai_filepath\"]"
   ]
  },
  {
   "cell_type": "code",
   "execution_count": null,
   "id": "0b86581f",
   "metadata": {},
   "outputs": [],
   "source": [
    "ccle_samples.loc[\"ACH-001001\", \"hg38_wgs_bam\"]"
   ]
  },
  {
   "cell_type": "code",
   "execution_count": null,
   "id": "7deb9ead",
   "metadata": {},
   "outputs": [],
   "source": [
    "wm.update_sample_attributes(ccle_samples)"
   ]
  },
  {
   "cell_type": "code",
   "execution_count": null,
   "id": "9affc758",
   "metadata": {},
   "outputs": [],
   "source": [
    "cmds = []\n",
    "\n",
    "for m in ccle_samples.index:\n",
    "    if not pd.isna(ccle_samples.loc[m, \"hg38_wgs_bam\"]):\n",
    "        cmds.append(\"gsutil -u broad-firecloud-ccle acl ch -u AllUsers:R \" + ccle_samples.loc[m, \"hg38_wgs_bam\"])\n",
    "        cmds.append(\"gsutil -u broad-firecloud-ccle acl ch -u AllUsers:R \" + ccle_samples.loc[m, \"hg38_wgs_bai\"])"
   ]
  },
  {
   "cell_type": "code",
   "execution_count": null,
   "id": "1cfb8f3f",
   "metadata": {},
   "outputs": [],
   "source": [
    "from depmap_omics_upload.mgenepy.utils import helper as h\n",
    "\n",
    "h.parrun(cmds, cores=8)"
   ]
  },
  {
   "cell_type": "code",
   "execution_count": null,
   "id": "a20e7593",
   "metadata": {},
   "outputs": [],
   "source": [
    "print(\"done\")"
   ]
  },
  {
   "cell_type": "code",
   "execution_count": null,
   "id": "cf18018c",
   "metadata": {},
   "outputs": [],
   "source": []
  }
 ],
 "metadata": {
  "kernelspec": {
   "display_name": "Python 3",
   "language": "python",
   "name": "python3"
  },
  "language_info": {
   "codemirror_mode": {
    "name": "ipython",
    "version": 3
   },
   "file_extension": ".py",
   "mimetype": "text/x-python",
   "name": "python",
   "nbconvert_exporter": "python",
   "pygments_lexer": "ipython3",
   "version": "3.8.13"
  }
 },
 "nbformat": 4,
 "nbformat_minor": 5
}
