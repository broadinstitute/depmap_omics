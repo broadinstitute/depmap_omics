{
 "cells": [
  {
   "cell_type": "code",
   "execution_count": null,
   "id": "faaee6c3",
   "metadata": {},
   "outputs": [],
   "source": [
    "import pandas as pd"
   ]
  },
  {
   "cell_type": "code",
   "execution_count": null,
   "id": "22657010",
   "metadata": {},
   "outputs": [],
   "source": [
    "filename = \"/home/xiaomeng/bin/depmap_omics/ccle_tasks/hgvsg_annotated_final.csv\""
   ]
  },
  {
   "cell_type": "code",
   "execution_count": null,
   "id": "c1576329",
   "metadata": {},
   "outputs": [],
   "source": [
    "oncokb_df = pd.read_csv(filename)"
   ]
  },
  {
   "cell_type": "code",
   "execution_count": null,
   "id": "5869b954",
   "metadata": {},
   "outputs": [],
   "source": [
    "oncokb_df"
   ]
  },
  {
   "cell_type": "code",
   "execution_count": null,
   "id": "852cf4db",
   "metadata": {},
   "outputs": [],
   "source": [
    "print(\"number of hotspots:\")\n",
    "oncokb_df.Hotspot.sum()"
   ]
  },
  {
   "cell_type": "code",
   "execution_count": null,
   "id": "d82bee75",
   "metadata": {},
   "outputs": [],
   "source": [
    "oncokb_df.MutationEffect.value_counts()"
   ]
  },
  {
   "cell_type": "code",
   "execution_count": null,
   "id": "c38ce1d9",
   "metadata": {},
   "outputs": [],
   "source": [
    "oncokb_df.Oncogenic.value_counts()"
   ]
  },
  {
   "cell_type": "code",
   "execution_count": null,
   "id": "1473d3ff",
   "metadata": {},
   "outputs": [],
   "source": []
  }
 ],
 "metadata": {
  "kernelspec": {
   "display_name": "Python 3",
   "language": "python",
   "name": "python3"
  },
  "language_info": {
   "codemirror_mode": {
    "name": "ipython",
    "version": 3
   },
   "file_extension": ".py",
   "mimetype": "text/x-python",
   "name": "python",
   "nbconvert_exporter": "python",
   "pygments_lexer": "ipython3",
   "version": "3.8.13"
  }
 },
 "nbformat": 4,
 "nbformat_minor": 5
}
