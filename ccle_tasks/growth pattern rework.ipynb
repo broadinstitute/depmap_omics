{
 "cells": [
  {
   "cell_type": "code",
   "execution_count": null,
   "metadata": {},
   "outputs": [],
   "source": [
    "from depmapomics.tracker import initTracker\n",
    "from gsheets import Sheets"
   ]
  },
  {
   "cell_type": "code",
   "execution_count": null,
   "metadata": {},
   "outputs": [],
   "source": [
    "frame = Sheets.from_files( \"~/.client_secret.json\", \"~/.storage.json\").get(\"https://docs.google.com/spreadsheets/d/1esHqP0Z76_oVMhQtaigyF9FuuniAQefkANoUzLD9rt4\").sheets[1].to_frame(index_col=0, skiprows=2)"
   ]
  },
  {
   "cell_type": "code",
   "execution_count": null,
   "metadata": {},
   "outputs": [],
   "source": [
    "res = frame[['VisualCharacteristics','GrowthPattern']]"
   ]
  },
  {
   "cell_type": "code",
   "execution_count": null,
   "metadata": {},
   "outputs": [],
   "source": [
    "res"
   ]
  },
  {
   "cell_type": "code",
   "execution_count": null,
   "metadata": {},
   "outputs": [],
   "source": [
    "def isin(li, st):\n",
    "    for val in li:\n",
    "        if val in st:\n",
    "            return True\n",
    "    return False"
   ]
  },
  {
   "cell_type": "code",
   "execution_count": null,
   "metadata": {},
   "outputs": [],
   "source": [
    "val is np.nan"
   ]
  },
  {
   "cell_type": "code",
   "execution_count": null,
   "metadata": {},
   "outputs": [],
   "source": [
    "val"
   ]
  },
  {
   "cell_type": "code",
   "execution_count": null,
   "metadata": {},
   "outputs": [],
   "source": [
    "res.VisualCharacteristics.iloc[:10]"
   ]
  },
  {
   "cell_type": "code",
   "execution_count": null,
   "metadata": {},
   "outputs": [],
   "source": [
    "dat = {i: [] for i in [\"forma\", \"group\", \"shape\", \"debris\", \"size\", \"characteristics\", \"other\"]}\n",
    "for val in res.VisualCharacteristics.str.lower():\n",
    "    if val is None or val is np.nan:\n",
    "        for i in [\"forma\", \"group\", \"shape\", \"debris\", \"size\", \"characteristics\", \"other\"]:\n",
    "            dat[i].append('')\n",
    "        continue\n",
    "    if isin([\"loosely adherent\", \"semi-adherent\", \"accasional adherent\", \"mixed\", \"mix\", \"occasional adherent\", \"monolayer and suspension\", \"monolayer and floating\"], val):\n",
    "        dat[\"forma\"].append(\"mixed\")\n",
    "    elif isin([\"adherent\", \"adherenet\", \"monolayer\"], val):\n",
    "        if \"monolayer\" in val:\n",
    "            dat[\"forma\"].append(\"monolayer\")\n",
    "        else:\n",
    "            dat['forma'].append('adherent')\n",
    "    elif isin([\"suspension\", \"suspention\"], val):\n",
    "        dat[\"forma\"].append(\"suspension\")\n",
    "    else:\n",
    "        dat[\"forma\"].append(\"\")\n",
    "    \n",
    "    if isin([\"islets\", \"aggregates\", \"clumps\"], val):\n",
    "        dat[\"group\"].append('aggregates')\n",
    "    elif isin([\"single\", \"singly\"], val):\n",
    "        dat[\"group\"].append('single')\n",
    "    else:\n",
    "        dat[\"group\"].append('')\n",
    "    \n",
    "    if isin([\"round cells\", \"spheroidal\", \"spheroid\", \"round\"], val):\n",
    "        dat[\"shape\"].append(\"round\")\n",
    "    elif isin([\"polymorph\", \"polymorphic\", \"polypoid\", \"variable morphology\", \"pleomorphic\"], val):\n",
    "        dat[\"shape\"].append(\"polymorph\")\n",
    "    elif \"polygonal\" in val:\n",
    "        dat[\"shape\"].append(\"polygonal\")\n",
    "    elif \"spindle\" in val:\n",
    "        dat[\"shape\"].append(\"spindle\")\n",
    "    else:\n",
    "        dat[\"shape\"].append(\"\")\n",
    "    \n",
    "    if isin([\"debris\", \"dark\", \"granules\"], val):\n",
    "        dat[\"debris\"].append('true')    \n",
    "    else:\n",
    "        dat[\"debris\"].append('')   \n",
    "    \n",
    "    if isin([\"gigantic\",\"giant\"], val):\n",
    "        dat[\"size\"].append('gigantic')\n",
    "    elif \"large\" in val:\n",
    "        dat[\"size\"].append('large')\n",
    "    elif \"small\" in val:\n",
    "        dat[\"size\"].append(\"small\")\n",
    "    else:\n",
    "        dat['size'].append('')\n",
    "    \n",
    "    if \"neuroblast\" in val:\n",
    "        dat[\"characteristics\"].append(\"neuroblast\")\n",
    "    elif isin([\"epithelial\", \"epitheloid\"], val):\n",
    "        dat[\"characteristics\"].append(\"epithelial\")\n",
    "    elif isin([\"lymphoblast\", \"lymphoblastoid\", \"lymphocyte\"], val):\n",
    "        dat[\"characteristics\"].append(\"lymphocyte\")\n",
    "    elif isin([\"fibroblst\", \"fibroblast\", \"sarcomatoid\"], val):\n",
    "        dat[\"characteristics\"].append(\"fibroblast\")\n",
    "    elif \"keratinocyte\" in val:\n",
    "        dat[\"characteristics\"].append(\"keratinocyte\")\n",
    "    elif \"plamacyte\" in val:\n",
    "        dat[\"characteristics\"].append(\"plamacyte\")\n",
    "    else:\n",
    "        dat[\"characteristics\"].append(\"\")\n",
    "    \n",
    "    if \"long extentions\" in val:\n",
    "        dat[\"other\"].append('with_extensions')\n",
    "    else:\n",
    "        dat[\"other\"].append('')"
   ]
  },
  {
   "cell_type": "code",
   "execution_count": null,
   "metadata": {},
   "outputs": [],
   "source": [
    "set(res.GrowthPattern)"
   ]
  },
  {
   "cell_type": "code",
   "execution_count": null,
   "metadata": {},
   "outputs": [],
   "source": [
    "for i, val in enumerate(res.GrowthPattern.str.lower()):\n",
    "    if val==\"3d\":\n",
    "        dat['forma']=='3d'\n",
    "    elif val in [\"adherent\", \"loose_adherent\"]:\n",
    "        if dat['forma'][i]==\"suspension\":\n",
    "            dat['forma'][i]=\"\"\n",
    "        elif dat['forma'][i]==\"\":\n",
    "            dat['forma'][i]=\"adherent\"\n",
    "    elif val==\"mix\":\n",
    "        dat['forma'][i]=\"mixed\"\n",
    "    elif val in [\"suspension\", \"suspension_agg\"]:\n",
    "        if dat['forma'][i]==\"adherent\":\n",
    "            dat['forma'][i]=\"\"\n",
    "        elif dat['forma'][i]==\"\":\n",
    "            dat['forma'][i]=\"suspension\"\n",
    "        \n",
    "        if val==\"suspension_agg\":\n",
    "            if dat[\"group\"][i]==\"single\":\n",
    "                dat[\"group\"][i]=\"\"\n",
    "            elif dat[\"group\"][i]==\"\":\n",
    "                dat[\"group\"][i]=\"aggregate\""
   ]
  },
  {
   "cell_type": "code",
   "execution_count": null,
   "metadata": {},
   "outputs": [],
   "source": [
    "pd.DataFrame(dat).to_csv(sys.stdout, sep='\\t', index=None)"
   ]
  },
  {
   "cell_type": "code",
   "execution_count": null,
   "metadata": {},
   "outputs": [],
   "source": [
    "set(res.VisualCharacteristics.str.lower().str.replace(',', ' ').str.replace( ';', ' ').str.replace('  ', ' '))"
   ]
  },
  {
   "cell_type": "code",
   "execution_count": null,
   "metadata": {},
   "outputs": [],
   "source": []
  }
 ],
 "metadata": {
  "kernelspec": {
   "display_name": "gae",
   "language": "python",
   "name": "gae"
  },
  "language_info": {
   "codemirror_mode": {
    "name": "ipython",
    "version": 3
   },
   "file_extension": ".py",
   "mimetype": "text/x-python",
   "name": "python",
   "nbconvert_exporter": "python",
   "pygments_lexer": "ipython3",
   "version": "3.8.12"
  },
  "latex_envs": {
   "LaTeX_envs_menu_present": true,
   "autoclose": false,
   "autocomplete": true,
   "bibliofile": "biblio.bib",
   "cite_by": "apalike",
   "current_citInitial": 1,
   "eqLabelWithNumbers": true,
   "eqNumInitial": 1,
   "hotkeys": {
    "equation": "Ctrl-E",
    "itemize": "Ctrl-I"
   },
   "labels_anchors": false,
   "latex_user_defs": false,
   "report_style_numbering": false,
   "user_envs_cfg": false
  },
  "toc": {
   "base_numbering": 1,
   "nav_menu": {},
   "number_sections": true,
   "sideBar": true,
   "skip_h1_title": false,
   "title_cell": "Table of Contents",
   "title_sidebar": "Contents",
   "toc_cell": false,
   "toc_position": {},
   "toc_section_display": true,
   "toc_window_display": false
  },
  "varInspector": {
   "cols": {
    "lenName": 16,
    "lenType": 16,
    "lenVar": 40
   },
   "kernels_config": {
    "python": {
     "delete_cmd_postfix": "",
     "delete_cmd_prefix": "del ",
     "library": "var_list.py",
     "varRefreshCmd": "print(var_dic_list())"
    },
    "r": {
     "delete_cmd_postfix": ") ",
     "delete_cmd_prefix": "rm(",
     "library": "var_list.r",
     "varRefreshCmd": "cat(var_dic_list()) "
    }
   },
   "types_to_exclude": [
    "module",
    "function",
    "builtin_function_or_method",
    "instance",
    "_Feature"
   ],
   "window_display": false
  }
 },
 "nbformat": 4,
 "nbformat_minor": 2
}
