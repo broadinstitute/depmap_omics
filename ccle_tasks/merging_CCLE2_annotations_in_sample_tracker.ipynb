{
 "cells": [
  {
   "cell_type": "code",
   "execution_count": null,
   "metadata": {},
   "outputs": [],
   "source": [
    "import pandas as pd\n",
    "from depmapomics.tracker import getTracker\n",
    "from taigapy import TaigaClient \n",
    "tc = TaigaClient()\n",
    "\n",
    "# autoreload\n"
   ]
  },
  {
   "cell_type": "code",
   "execution_count": null,
   "metadata": {},
   "outputs": [],
   "source": [
    "track = getTracker()"
   ]
  },
  {
   "cell_type": "code",
   "execution_count": null,
   "metadata": {},
   "outputs": [],
   "source": [
    "val = tc.get(name='other-ccle2-c93e', version=2, file='Cell_lines_annotations_20181226')\n",
    "\n",
    "val.loc[val.CCLE_ID==\"OMM25_EYE\", 'DepMap_ID']=\"ACH-002018\"\n",
    "\n",
    "val = val[~val.DepMap_ID.isna()]\n"
   ]
  },
  {
   "cell_type": "code",
   "execution_count": null,
   "metadata": {},
   "outputs": [],
   "source": [
    "set(val[~val['Doubling.Time.Calculated.hrs'].isna()]['Doubling.Time.Calculated.hrs'])"
   ]
  },
  {
   "cell_type": "code",
   "execution_count": null,
   "metadata": {},
   "outputs": [],
   "source": [
    "miss = set(val[~val['Doubling.Time.Calculated.hrs'].isna()].index) - set(track[~track.doublingt.isna()].arxspan_id)\n",
    "miss = miss & set(track.arxspan_id)"
   ]
  },
  {
   "cell_type": "code",
   "execution_count": null,
   "metadata": {},
   "outputs": [],
   "source": [
    "val = val.set_index(\"DepMap_ID\")"
   ]
  },
  {
   "cell_type": "code",
   "execution_count": null,
   "metadata": {},
   "outputs": [],
   "source": [
    "for i in miss:\n",
    "  track.loc[track.arxspan_id==i, 'doublingt'] = val.loc[i, 'Doubling.Time.Calculated.hrs']"
   ]
  },
  {
   "cell_type": "code",
   "execution_count": null,
   "metadata": {},
   "outputs": [],
   "source": [
    "for i, v in val.iterrows():\n",
    "  track.loc[track.arxspan_id==i, 'mediatype'] = v['Growth.Medium']"
   ]
  },
  {
   "cell_type": "code",
   "execution_count": null,
   "metadata": {},
   "outputs": [],
   "source": [
    "set(val[~val['Characteristics'].isna()]['Characteristics'])"
   ]
  },
  {
   "cell_type": "code",
   "execution_count": null,
   "metadata": {},
   "outputs": [],
   "source": [
    "rename = {\"Pathology\": \"pathology\",\n",
    "\"Site_Subtype1\": \"pathology_subtype\",\n",
    "\"Site_Subtype2\": \"pathology_subtype2\",\n",
    "\"Site_Subtype3\": \"pathology_subtype3\",\n",
    "\"Histology\": \"histology\",\n",
    "\"Hist_Subtype1\": \"histology_subtype\",\n",
    "\"Hist_Subtype2\": \"histology_subtype2\",\n",
    "\"Hist_Subtype3\": \"histology_subtype3\",\n",
    "\"Race\": \"stated_race\",\n",
    "\"Geo_Loc\": \"geo_loc\",\n",
    "\"inferred_ethnicity\": \"infered_ethnicity\",\n",
    "\"Site_Of_Finding\": \"finding_site\",\n",
    "\"Original.Source.of.Cell.Line\": \"original_source\",\n",
    "\"Characteristics\": \"visual_characteristics\",\n",
    "\"Supplements\": \"supplements\",\n",
    "\"Freezing.Medium\": \"freeze_media\",\n",
    "\"PATHOLOGIST_ANNOTATION\": \"pathology_annotation\",\n",
    "\"mutRate\": \"mut_rate\"}"
   ]
  },
  {
   "cell_type": "code",
   "execution_count": null,
   "metadata": {},
   "outputs": [],
   "source": [
    "val = val.rename(columns=rename)[rename.values()]"
   ]
  },
  {
   "cell_type": "code",
   "execution_count": null,
   "metadata": {},
   "outputs": [],
   "source": [
    "for i, v in val.iterrows():\n",
    "  track.loc[track.arxspan_id==i, val.columns] = v.values"
   ]
  },
  {
   "cell_type": "code",
   "execution_count": null,
   "metadata": {},
   "outputs": [],
   "source": [
    "from genepy.google.google_sheet import dfToSheet"
   ]
  },
  {
   "cell_type": "code",
   "execution_count": null,
   "metadata": {},
   "outputs": [],
   "source": [
    "pwd"
   ]
  },
  {
   "cell_type": "code",
   "execution_count": null,
   "metadata": {},
   "outputs": [],
   "source": [
    "dfToSheet(track, \"ccle sample tracker\", '/Users/jeremie/.credentials.json')"
   ]
  }
 ],
 "metadata": {
  "interpreter": {
   "hash": "b6979a8a2b0c8b20507f7dc1436108e0a886fa021b0d62a505c92a02916c29b3"
  },
  "kernelspec": {
   "display_name": "Python 3.8.8 64-bit ('py38': conda)",
   "language": "python",
   "name": "python3"
  },
  "language_info": {
   "codemirror_mode": {
    "name": "ipython",
    "version": 3
   },
   "file_extension": ".py",
   "mimetype": "text/x-python",
   "name": "python",
   "nbconvert_exporter": "python",
   "pygments_lexer": "ipython3",
   "version": "3.8.8"
  }
 },
 "nbformat": 4,
 "nbformat_minor": 2
}
