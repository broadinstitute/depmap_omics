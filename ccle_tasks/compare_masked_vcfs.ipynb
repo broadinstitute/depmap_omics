{
 "cells": [
  {
   "cell_type": "code",
   "execution_count": null,
   "id": "bcd5287c",
   "metadata": {},
   "outputs": [],
   "source": [
    "import dalmatian as dm"
   ]
  },
  {
   "cell_type": "code",
   "execution_count": null,
   "id": "426d93fc",
   "metadata": {},
   "outputs": [],
   "source": [
    "wes_wm = dm.WorkspaceManager(\"broad-firecloud-ccle/DepMap_WES_CN_hg38\")\n",
    "wes_dev_wm = dm.WorkspaceManager(\"broad-firecloud-ccle/DEV_DepMap_WES_CN_hg38\")\n",
    "wes_samples = wes_wm.get_samples()\n",
    "wes_dev_samples = wes_dev_wm.get_samples()"
   ]
  },
  {
   "cell_type": "code",
   "execution_count": null,
   "id": "8b496135",
   "metadata": {},
   "outputs": [],
   "source": [
    "aml = [\"CDS-9ImTq5\", \"CDS-886T1H\", \"CDS-NFZUwr\", \"CDS-Uh1A6J\", \"CDS-V8goIl\", \"CDS-xiWEJn\"]"
   ]
  },
  {
   "cell_type": "code",
   "execution_count": null,
   "id": "c965a2bf",
   "metadata": {},
   "outputs": [],
   "source": [
    "from mgenepy.utils import helper as h"
   ]
  },
  {
   "cell_type": "code",
   "execution_count": null,
   "id": "dd76c873",
   "metadata": {},
   "outputs": [],
   "source": [
    "cmds = []\n",
    "for a in aml:\n",
    "    cmds.append(\"gsutil cp \" + wes_samples.loc[a, \"mutect2_fixed_vcf\"] + \" \" + a + \"_unmasked.vcf.gz\")\n",
    "    cmds.append(\"gsutil cp \" + wes_dev_samples.loc[a, \"mutect2_fixed_vcf\"] + \" \" + a + \"_masked.vcf.gz\")"
   ]
  },
  {
   "cell_type": "code",
   "execution_count": null,
   "id": "d55d6575",
   "metadata": {},
   "outputs": [],
   "source": [
    "h.parrun(cmds, cores=4)"
   ]
  },
  {
   "cell_type": "code",
   "execution_count": null,
   "id": "f4b13b51",
   "metadata": {},
   "outputs": [],
   "source": []
  }
 ],
 "metadata": {
  "kernelspec": {
   "display_name": "Python 3",
   "language": "python",
   "name": "python3"
  },
  "language_info": {
   "codemirror_mode": {
    "name": "ipython",
    "version": 3
   },
   "file_extension": ".py",
   "mimetype": "text/x-python",
   "name": "python",
   "nbconvert_exporter": "python",
   "pygments_lexer": "ipython3",
   "version": "3.8.13"
  }
 },
 "nbformat": 4,
 "nbformat_minor": 5
}
