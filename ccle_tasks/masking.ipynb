{
 "cells": [
  {
   "cell_type": "code",
   "execution_count": null,
   "id": "266c7294",
   "metadata": {},
   "outputs": [],
   "source": [
    "import pandas as pd"
   ]
  },
  {
   "cell_type": "code",
   "execution_count": null,
   "id": "bf3b7f84",
   "metadata": {},
   "outputs": [],
   "source": [
    "segdup = pd.read_csv(\"../data/segdup_regions.csv\")[[\"chrom\", \"chromStart\", \"chromEnd\", \"fracMatch\", \"fracMatchIndel\", \"otherChrom\", \"otherStart\", \"otherEnd\"]]"
   ]
  },
  {
   "cell_type": "code",
   "execution_count": null,
   "id": "c3e69138",
   "metadata": {},
   "outputs": [],
   "source": [
    "segdup"
   ]
  },
  {
   "cell_type": "markdown",
   "id": "6d657cf8",
   "metadata": {},
   "source": [
    "## convert to bed"
   ]
  },
  {
   "cell_type": "code",
   "execution_count": null,
   "id": "df705b4e",
   "metadata": {},
   "outputs": [],
   "source": [
    "segdup = segdup[(segdup.fracMatch > 0.98) & (~segdup.chrom.str.contains(\"_\"))]"
   ]
  },
  {
   "cell_type": "code",
   "execution_count": null,
   "id": "1dc72797",
   "metadata": {},
   "outputs": [],
   "source": [
    "segdup[\"chrom\"] = segdup[\"chrom\"].replace({\"chrX\": \"chr23\", \"chrY\": \"chr24\", \"chrM\": \"chr25\"})\n",
    "segdup[\"chrom\"] = segdup[\"chrom\"].str.replace(\"chr\", \"\").astype(\"int\")\n",
    "segdup = segdup.sort_values(by=[\"chrom\", \"chromStart\", \"chromEnd\"])\n",
    "segdup[\"chrom\"] = \"chr\" + segdup[\"chrom\"].astype(str)\n",
    "segdup[\"chrom\"] = segdup[\"chrom\"].replace({\"chr23\": \"chrX\", \"chr24\": \"chrY\", \"chr25\": \"chrM\"})"
   ]
  },
  {
   "cell_type": "code",
   "execution_count": null,
   "id": "421922db",
   "metadata": {},
   "outputs": [],
   "source": [
    "segdup"
   ]
  },
  {
   "cell_type": "code",
   "execution_count": null,
   "id": "f57ca2c9",
   "metadata": {},
   "outputs": [],
   "source": [
    "segdup.otherChrom.value_counts()"
   ]
  },
  {
   "cell_type": "code",
   "execution_count": null,
   "id": "8be0af15",
   "metadata": {},
   "outputs": [],
   "source": [
    "segdup[[\"chrom\", \"chromStart\", \"chromEnd\"]].to_csv(\"../data/segDup_majorAllele_withAltContigs_98pcFracMatch.bed\", sep=\"\\t\", header=False, index=False)"
   ]
  },
  {
   "cell_type": "markdown",
   "id": "c4d8bdc2",
   "metadata": {},
   "source": [
    "### a lot of segments in this bed file overlap with each other. had to run bedtools merge to get the union of those segments"
   ]
  },
  {
   "cell_type": "markdown",
   "id": "fe8ce998",
   "metadata": {},
   "source": [
    "## see how many genes in the CN matrix are going to be masked"
   ]
  },
  {
   "cell_type": "code",
   "execution_count": null,
   "id": "fa134c94",
   "metadata": {},
   "outputs": [],
   "source": [
    "from taigapy import TaigaClient\n",
    "tc = TaigaClient()\n",
    "\n",
    "OmicsCNGene = tc.get(name='internal-23q2-1e49', version=97, file='OmicsCNGene')\n"
   ]
  },
  {
   "cell_type": "code",
   "execution_count": null,
   "id": "96ace74e",
   "metadata": {},
   "outputs": [],
   "source": [
    "from mgenepy.utils import helper as h\n",
    "\n",
    "mybiomart = h.generateGeneNames(attributes=[\"start_position\", \"end_position\", \"chromosome_name\"],)\n",
    "mybiomart = mybiomart.rename(\n",
    "        columns={\n",
    "            \"start_position\": \"start\",\n",
    "            \"end_position\": \"end\",\n",
    "            \"chromosome_name\": \"Chromosome\",\n",
    "        }\n",
    "    )"
   ]
  },
  {
   "cell_type": "code",
   "execution_count": null,
   "id": "0b9a6024",
   "metadata": {},
   "outputs": [],
   "source": [
    "mybiomart"
   ]
  },
  {
   "cell_type": "code",
   "execution_count": null,
   "id": "5de3330e",
   "metadata": {},
   "outputs": [],
   "source": [
    "mybiomart[\"Chromosome\"] = mybiomart[\"Chromosome\"].replace({\"X\": \"23\", \"Y\": \"24\", \"MT\": \"25\"})\n",
    "mybiomart = mybiomart[mybiomart.Chromosome.isin(set(map(str, range(1, 26))))]\n",
    "mybiomart[\"Chromosome\"] = mybiomart[\"Chromosome\"].astype(int)"
   ]
  },
  {
   "cell_type": "code",
   "execution_count": null,
   "id": "7b28577c",
   "metadata": {},
   "outputs": [],
   "source": [
    "mybiomart = mybiomart.sort_values(by=[\"Chromosome\", \"start\", \"end\"])\n",
    "mybiomart[\"Chromosome\"] = mybiomart[\"Chromosome\"].replace({23: \"X\", 24: \"Y\", 25: \"MT\"})\n",
    "mybiomart = mybiomart.drop_duplicates(\"hgnc_symbol\", keep=\"first\")\n",
    "mybiomart[\"gene_name\"] = [\n",
    "        i[\"hgnc_symbol\"] + \" (\" + str(i[\"entrezgene_id\"]).split(\".\")[0] + \")\"\n",
    "        for _, i in mybiomart.iterrows()\n",
    "    ]\n",
    "mybiomart[\"Chromosome\"] = \"chr\" + mybiomart[\"Chromosome\"].astype(str)\n"
   ]
  },
  {
   "cell_type": "code",
   "execution_count": null,
   "id": "133d8bd9",
   "metadata": {},
   "outputs": [],
   "source": [
    "mybiomart[mybiomart.gene_name.isin(OmicsCNGene)][[\"Chromosome\", \"start\", \"end\", \"gene_name\"]].to_csv(\"../data/biomart_cngenes.bed\", sep=\"\\t\", header=False, index=False)"
   ]
  },
  {
   "cell_type": "code",
   "execution_count": null,
   "id": "5afef3c5",
   "metadata": {},
   "outputs": [],
   "source": [
    "gene_dict = mybiomart[[\"Chromosome\", \"start\", \"end\", \"gene_name\"]].set_index('gene_name').T.to_dict('list')"
   ]
  },
  {
   "cell_type": "code",
   "execution_count": null,
   "id": "42781707",
   "metadata": {},
   "outputs": [],
   "source": [
    "gene_dict"
   ]
  },
  {
   "cell_type": "code",
   "execution_count": null,
   "id": "18d245dd",
   "metadata": {},
   "outputs": [],
   "source": [
    "overlap_df = pd.read_csv(\"/home/xiaomeng/bin/depmap_omics/data/overlap_withalt.txt\", sep=\"\\t\", names=[\"chrom\", \"start\", \"end\", \"gene_name\"])"
   ]
  },
  {
   "cell_type": "code",
   "execution_count": null,
   "id": "78baa747",
   "metadata": {},
   "outputs": [],
   "source": [
    "overlap_df"
   ]
  },
  {
   "cell_type": "code",
   "execution_count": null,
   "id": "cd5b06cc",
   "metadata": {},
   "outputs": [],
   "source": [
    "masked_genes = []\n",
    "for g in overlap_df.gene_name.unique().tolist():\n",
    "    _, start, end = gene_dict[g]\n",
    "    gene_length = end - start\n",
    "    overlap_length = 0\n",
    "    overlap_segments = overlap_df[overlap_df.gene_name == g]\n",
    "    for i, v in overlap_segments.iterrows():\n",
    "        overlap_length += v['end'] - v['start']\n",
    "    if overlap_length / gene_length > 0.5:\n",
    "        masked_genes.append(g)"
   ]
  },
  {
   "cell_type": "code",
   "execution_count": null,
   "id": "8ece3e0f",
   "metadata": {},
   "outputs": [],
   "source": [
    "masked_genes"
   ]
  },
  {
   "cell_type": "code",
   "execution_count": null,
   "id": "eedac594",
   "metadata": {},
   "outputs": [],
   "source": [
    "len(masked_genes)"
   ]
  },
  {
   "cell_type": "code",
   "execution_count": null,
   "id": "6d7c84ff",
   "metadata": {},
   "outputs": [],
   "source": [
    "[c for c in OmicsCNGene.columns if c.startswith(\"LINC01670\")]"
   ]
  },
  {
   "cell_type": "code",
   "execution_count": null,
   "id": "4ec63fe6",
   "metadata": {},
   "outputs": [],
   "source": [
    "gene_dict[\"LINC01670 (105379487)\"]"
   ]
  },
  {
   "cell_type": "code",
   "execution_count": null,
   "id": "3e3c3237",
   "metadata": {},
   "outputs": [],
   "source": [
    "OmicsCNGene[masked_genes].sum().value_counts()"
   ]
  },
  {
   "cell_type": "code",
   "execution_count": null,
   "id": "cdd00fb3",
   "metadata": {},
   "outputs": [],
   "source": [
    "OmicsCNGene.sum().value_counts()"
   ]
  },
  {
   "cell_type": "markdown",
   "id": "1f6a0f36",
   "metadata": {},
   "source": [
    "# a proper function for it"
   ]
  },
  {
   "cell_type": "code",
   "execution_count": null,
   "id": "ab226c67",
   "metadata": {},
   "outputs": [],
   "source": [
    "import pybedtools"
   ]
  },
  {
   "cell_type": "code",
   "execution_count": null,
   "id": "dfa75091",
   "metadata": {},
   "outputs": [],
   "source": [
    "def maskSegDup(cnmatrix, matname, mybiomart, save_output=\"\", segdup_bed=\"../data/repeatMasker_max10_noAlt_merged.bed\", thresh=0.5):\n",
    "    # sort and format biomart\n",
    "#     mybiomart[\"Chromosome\"] = mybiomart[\"Chromosome\"].replace({\"X\": \"23\", \"Y\": \"24\", \"MT\": \"25\"})\n",
    "#     mybiomart = mybiomart[mybiomart.Chromosome.isin(set(map(str, range(1, 26))))]\n",
    "#     mybiomart[\"Chromosome\"] = mybiomart[\"Chromosome\"].astype(int)\n",
    "#     mybiomart = mybiomart.sort_values(by=[\"Chromosome\", \"start\", \"end\"])\n",
    "#     mybiomart[\"Chromosome\"] = mybiomart[\"Chromosome\"].replace({23: \"X\", 24: \"Y\", 25: \"MT\"})\n",
    "#     mybiomart = mybiomart.drop_duplicates(\"hgnc_symbol\", keep=\"first\")\n",
    "#     mybiomart[\"Chromosome\"] = \"chr\" + mybiomart[\"Chromosome\"].astype(str)\n",
    "    \n",
    "    mybiomart[mybiomart.gene_name.isin(cnmatrix)][[\"Chromosome\", \"start\", \"end\", \"gene_name\"]].to_csv(save_output + \"biomart_cngenes.bed\", sep=\"\\t\", header=False, index=False)\n",
    "    \n",
    "    cngenes = pybedtools.BedTool(save_output + \"biomart_cngenes.bed\")\n",
    "    cngenes.intersect(segdup_bed).saveas(save_output + 'mask_overlap.bed')\n",
    "    \n",
    "    overlap_df = pd.read_csv(save_output + 'mask_overlap.bed', sep=\"\\t\", names=[\"chrom\", \"start\", \"end\", \"gene_name\"])\n",
    "    gene_dict = mybiomart[[\"Chromosome\", \"start\", \"end\", \"gene_name\"]].set_index('gene_name').T.to_dict('list')\n",
    "    masked_genes = []\n",
    "    for g in overlap_df.gene_name.unique().tolist():\n",
    "        _, start, end = gene_dict[g]\n",
    "        gene_length = end - start\n",
    "        overlap_length = 0\n",
    "        overlap_segments = overlap_df[overlap_df.gene_name == g]\n",
    "        for i, v in overlap_segments.iterrows():\n",
    "            overlap_length += v['end'] - v['start']\n",
    "        if overlap_length / gene_length > thresh:\n",
    "            masked_genes.append(g)\n",
    "    print(\"masking \" + str(len(masked_genes)) + \" genes from CN matrix\")\n",
    "    cnmatrix = cnmatrix.drop(columns=masked_genes)\n",
    "    \n",
    "    return cnmatrix, masked_genes"
   ]
  },
  {
   "cell_type": "code",
   "execution_count": null,
   "id": "3d4cf342",
   "metadata": {},
   "outputs": [],
   "source": [
    "genes = pybedtools.BedTool(\"../data/biomart_cngenes.bed\")"
   ]
  },
  {
   "cell_type": "code",
   "execution_count": null,
   "id": "8138f083",
   "metadata": {},
   "outputs": [],
   "source": [
    "genes.intersect(\"/home/xiaomeng/bin/depmap_omics/data/segDup_majorAllele_98pcFracMatch_merged.bed\").saveas('ov.bed')"
   ]
  },
  {
   "cell_type": "code",
   "execution_count": null,
   "id": "684f46f3",
   "metadata": {},
   "outputs": [],
   "source": [
    "cnmatrix, masked_genes = maskSegDup(OmicsCNGene, \"CN\", mybiomart, thresh=0.01, segdup_bed=\"../data/repeatMasker_max10_noAlt_merged.bed\")"
   ]
  },
  {
   "cell_type": "code",
   "execution_count": null,
   "id": "a3549cc8",
   "metadata": {},
   "outputs": [],
   "source": [
    "masked_genes"
   ]
  },
  {
   "cell_type": "markdown",
   "id": "3223711c",
   "metadata": {},
   "source": [
    "## repeatmasker"
   ]
  },
  {
   "cell_type": "code",
   "execution_count": null,
   "id": "aaa989c7",
   "metadata": {},
   "outputs": [],
   "source": [
    "repeats = pd.read_csv(\"/home/xiaomeng/bin/depmap_omics/data/repeatmasker.csv\")[[\"milliDiv\", \"milliDel\", \"milliIns\", \"genoName\", \"genoStart\", \"genoEnd\"]]"
   ]
  },
  {
   "cell_type": "code",
   "execution_count": null,
   "id": "ca4568f2",
   "metadata": {},
   "outputs": [],
   "source": [
    "repeats[\"max\"] = repeats[[\"milliDiv\", \"milliDel\", \"milliIns\"]].max(axis=1)"
   ]
  },
  {
   "cell_type": "code",
   "execution_count": null,
   "id": "5ce5a6ca",
   "metadata": {},
   "outputs": [],
   "source": [
    "repeats = repeats[(repeats[\"max\"] < 10) & (~repeats.genoName.str.contains(\"_\"))]\n",
    "repeats[\"genoName\"] = repeats[\"genoName\"].replace({\"chrX\": \"chr23\", \"chrY\": \"chr24\", \"chrM\": \"chr25\"})\n",
    "repeats[\"genoName\"] = repeats[\"genoName\"].str.replace(\"chr\", \"\").astype(\"int\")\n",
    "repeats = repeats.sort_values(by=[\"genoName\", \"genoStart\", \"genoEnd\"])\n",
    "repeats[\"genoName\"] = \"chr\" + repeats[\"genoName\"].astype(str)\n",
    "repeats[\"genoName\"] = repeats[\"genoName\"].replace({\"chr23\": \"chrX\", \"chr24\": \"chrY\", \"chr25\": \"chrM\"})"
   ]
  },
  {
   "cell_type": "code",
   "execution_count": null,
   "id": "6fa60dbc",
   "metadata": {},
   "outputs": [],
   "source": [
    "repeats[[\"genoName\", \"genoStart\", \"genoEnd\"]].to_csv(\"../data/repeatMasker_max10_noAlt.bed\", sep=\"\\t\", header=False, index=False)"
   ]
  },
  {
   "cell_type": "code",
   "execution_count": null,
   "id": "5a5670cc",
   "metadata": {},
   "outputs": [],
   "source": [
    "repeats"
   ]
  },
  {
   "cell_type": "code",
   "execution_count": null,
   "id": "393b4de4",
   "metadata": {},
   "outputs": [],
   "source": []
  },
  {
   "cell_type": "code",
   "execution_count": null,
   "id": "83db7221",
   "metadata": {},
   "outputs": [],
   "source": [
    "repeats[(repeats.genoName == \"chr11\") & (repeats.genoStart > 55635000) & (repeats.genoStart < 55641309)]"
   ]
  },
  {
   "cell_type": "code",
   "execution_count": null,
   "id": "39cdf3cb",
   "metadata": {},
   "outputs": [],
   "source": []
  }
 ],
 "metadata": {
  "kernelspec": {
   "display_name": "Python 3",
   "language": "python",
   "name": "python3"
  },
  "language_info": {
   "codemirror_mode": {
    "name": "ipython",
    "version": 3
   },
   "file_extension": ".py",
   "mimetype": "text/x-python",
   "name": "python",
   "nbconvert_exporter": "python",
   "pygments_lexer": "ipython3",
   "version": "3.8.13"
  }
 },
 "nbformat": 4,
 "nbformat_minor": 5
}
