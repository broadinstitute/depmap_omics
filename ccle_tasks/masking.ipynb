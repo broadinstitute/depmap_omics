{
 "cells": [
  {
   "cell_type": "code",
   "execution_count": null,
   "id": "266c7294",
   "metadata": {},
   "outputs": [],
   "source": [
    "import pandas as pd"
   ]
  },
  {
   "cell_type": "code",
   "execution_count": null,
   "id": "bf3b7f84",
   "metadata": {},
   "outputs": [],
   "source": [
    "segdup = pd.read_csv(\"../data/segdup_regions.csv\")[[\"chrom\", \"chromStart\", \"chromEnd\", \"fracMatch\", \"fracMatchIndel\", \"otherChrom\", \"otherStart\", \"otherEnd\"]]"
   ]
  },
  {
   "cell_type": "code",
   "execution_count": null,
   "id": "c3e69138",
   "metadata": {},
   "outputs": [],
   "source": [
    "segdup"
   ]
  },
  {
   "cell_type": "markdown",
   "id": "6d657cf8",
   "metadata": {},
   "source": [
    "## convert to bed"
   ]
  },
  {
   "cell_type": "code",
   "execution_count": null,
   "id": "df705b4e",
   "metadata": {},
   "outputs": [],
   "source": [
    "segdup = segdup[(segdup.fracMatch > 0.98) & (~segdup.chrom.str.contains(\"_\"))]"
   ]
  },
  {
   "cell_type": "code",
   "execution_count": null,
   "id": "1dc72797",
   "metadata": {},
   "outputs": [],
   "source": [
    "segdup[\"chrom\"] = segdup[\"chrom\"].replace({\"chrX\": \"chr23\", \"chrY\": \"chr24\", \"chrM\": \"chr25\"})\n",
    "segdup[\"chrom\"] = segdup[\"chrom\"].str.replace(\"chr\", \"\").astype(\"int\")\n",
    "segdup = segdup.sort_values(by=[\"chrom\", \"chromStart\", \"chromEnd\"])\n",
    "segdup[\"chrom\"] = \"chr\" + segdup[\"chrom\"].astype(str)\n",
    "segdup[\"chrom\"] = segdup[\"chrom\"].replace({\"chr23\": \"chrX\", \"chr24\": \"chrY\", \"chr25\": \"chrM\"})"
   ]
  },
  {
   "cell_type": "code",
   "execution_count": null,
   "id": "421922db",
   "metadata": {},
   "outputs": [],
   "source": [
    "segdup"
   ]
  },
  {
   "cell_type": "code",
   "execution_count": null,
   "id": "d6b83520",
   "metadata": {},
   "outputs": [],
   "source": [
    "segdup.otherChrom.value_counts()"
   ]
  },
  {
   "cell_type": "code",
   "execution_count": null,
   "id": "8be0af15",
   "metadata": {},
   "outputs": [],
   "source": [
    "segdup[[\"chrom\", \"chromStart\", \"chromEnd\"]].to_csv(\"../data/segDup_majorAllele_withAltContigs_98pcFracMatch.bed\", sep=\"\\t\", header=False, index=False)"
   ]
  },
  {
   "cell_type": "markdown",
   "id": "c4d8bdc2",
   "metadata": {},
   "source": [
    "### a lot of segments in this bed file overlap with each other. had to run bedtools merge to get the union of those segments"
   ]
  },
  {
   "cell_type": "markdown",
   "id": "fe8ce998",
   "metadata": {},
   "source": [
    "## see how many genes in the CN matrix are going to be masked"
   ]
  },
  {
   "cell_type": "code",
   "execution_count": null,
   "id": "fa134c94",
   "metadata": {},
   "outputs": [],
   "source": [
    "from taigapy import TaigaClient\n",
    "tc = TaigaClient()\n",
    "\n",
    "OmicsCNGene = tc.get(name='internal-23q2-1e49', version=97, file='OmicsCNGene')\n"
   ]
  },
  {
   "cell_type": "code",
   "execution_count": null,
   "id": "96ace74e",
   "metadata": {},
   "outputs": [],
   "source": [
    "from mgenepy.utils import helper as h\n",
    "\n",
    "mybiomart = h.generateGeneNames(attributes=[\"start_position\", \"end_position\", \"chromosome_name\"],)\n",
    "mybiomart = mybiomart.rename(\n",
    "        columns={\n",
    "            \"start_position\": \"start\",\n",
    "            \"end_position\": \"end\",\n",
    "            \"chromosome_name\": \"Chromosome\"\n",
    "        }\n",
    "    )"
   ]
  },
  {
   "cell_type": "code",
   "execution_count": null,
   "id": "5de3330e",
   "metadata": {},
   "outputs": [],
   "source": [
    "mybiomart[\"Chromosome\"] = mybiomart[\"Chromosome\"].replace({\"X\": \"23\", \"Y\": \"24\", \"MT\": \"25\"})\n",
    "mybiomart = mybiomart[mybiomart.Chromosome.isin(set(map(str, range(1, 26))))]\n",
    "mybiomart[\"Chromosome\"] = mybiomart[\"Chromosome\"].astype(int)"
   ]
  },
  {
   "cell_type": "code",
   "execution_count": null,
   "id": "7b28577c",
   "metadata": {},
   "outputs": [],
   "source": [
    "mybiomart = mybiomart.sort_values(by=[\"Chromosome\", \"start\", \"end\"])\n",
    "mybiomart[\"Chromosome\"] = mybiomart[\"Chromosome\"].replace({23: \"X\", 24: \"Y\", 25: \"MT\"})\n",
    "mybiomart = mybiomart.drop_duplicates(\"hgnc_symbol\", keep=\"first\")\n",
    "mybiomart[\"gene_name\"] = [\n",
    "        i[\"hgnc_symbol\"] + \" (\" + str(i[\"entrezgene_id\"]).split(\".\")[0] + \")\"\n",
    "        for _, i in mybiomart.iterrows()\n",
    "    ]\n",
    "mybiomart[\"Chromosome\"] = \"chr\" + mybiomart[\"Chromosome\"].astype(str)\n"
   ]
  },
  {
   "cell_type": "code",
   "execution_count": null,
   "id": "afec8daf",
   "metadata": {},
   "outputs": [],
   "source": [
    "mybiomart"
   ]
  },
  {
   "cell_type": "code",
   "execution_count": null,
   "id": "0987f07f",
   "metadata": {},
   "outputs": [],
   "source": [
    "biomart_exon_raw = h.generateGeneNames(attributes=[\"chromosome_name\", \"exon_chrom_start\", \"exon_chrom_end\", \"ensembl_gene_id\"], default_attr=[])"
   ]
  },
  {
   "cell_type": "code",
   "execution_count": null,
   "id": "23da76c7",
   "metadata": {},
   "outputs": [],
   "source": [
    "len(biomart_exon_raw.ensembl_gene_id.unique())"
   ]
  },
  {
   "cell_type": "code",
   "execution_count": null,
   "id": "fe60a566",
   "metadata": {},
   "outputs": [],
   "source": [
    "biomart_exon = biomart_exon_raw.merge(mybiomart[[\"ensembl_gene_id\", \"gene_name\"]], on=[\"ensembl_gene_id\"], how=\"left\")\n",
    "biomart_exon = biomart_exon[~biomart_exon.gene_name.isin(OmicsCNGene)]"
   ]
  },
  {
   "cell_type": "code",
   "execution_count": null,
   "id": "439e4eff",
   "metadata": {},
   "outputs": [],
   "source": [
    "biomart_exon[\"chromosome_name\"] = biomart_exon[\"chromosome_name\"].replace({\"X\": \"23\", \"Y\": \"24\", \"MT\": \"25\"})\n",
    "biomart_exon = biomart_exon[biomart_exon.chromosome_name.isin(set(map(str, range(1, 26))))]\n",
    "biomart_exon[\"chromosome_name\"] = biomart_exon[\"chromosome_name\"].astype(int)\n",
    "biomart_exon = biomart_exon.sort_values(by=[\"chromosome_name\", \"exon_chrom_start\", \"exon_chrom_end\"])\n",
    "biomart_exon[\"chromosome_name\"] = biomart_exon[\"chromosome_name\"].replace({23: \"X\", 24: \"Y\", 25: \"MT\"})\n",
    "biomart_exon[\"chromosome_name\"] = \"chr\" + biomart_exon[\"chromosome_name\"].astype(str)\n"
   ]
  },
  {
   "cell_type": "code",
   "execution_count": null,
   "id": "87bfcc4d",
   "metadata": {},
   "outputs": [],
   "source": [
    "biomart_exon[['chromosome_name', 'exon_chrom_start', 'exon_chrom_end', 'gene_name']].to_csv(\"biomart_exons.bed\", sep=\"\\t\", header=False, index=False)"
   ]
  },
  {
   "cell_type": "code",
   "execution_count": null,
   "id": "203e998e",
   "metadata": {},
   "outputs": [],
   "source": [
    "biomart_exon"
   ]
  },
  {
   "cell_type": "code",
   "execution_count": null,
   "id": "6f4f0ce9",
   "metadata": {},
   "outputs": [],
   "source": [
    "exons = pybedtools.BedTool(\"biomart_exons.bed\")\n",
    "exons.merge().saveas('biomart_exons_merged.bed')"
   ]
  },
  {
   "cell_type": "code",
   "execution_count": null,
   "id": "7c46f3ec",
   "metadata": {},
   "outputs": [],
   "source": [
    "mybiomart.merge(biomart_exon, on=[\"ensembl_gene_id\"], how=\"right\")"
   ]
  },
  {
   "cell_type": "code",
   "execution_count": null,
   "id": "59af6f63",
   "metadata": {},
   "outputs": [],
   "source": [
    "def exonUnion(df):\n",
    "    l = list(zip(df.exon_chrom_start, df.exon_chrom_end))\n",
    "    \n",
    "    sorted_data = sorted(l)\n",
    "    b = []\n",
    "    for begin,end in sorted_data:\n",
    "        if b and b[-1][1] >= begin - 1:\n",
    "            b[-1][1] = max(b[-1][1], end)\n",
    "        else:\n",
    "            b.append([begin, end])\n",
    "    return b"
   ]
  },
  {
   "cell_type": "code",
   "execution_count": null,
   "id": "eca307e7",
   "metadata": {},
   "outputs": [],
   "source": [
    "df = pd.DataFrame(biomart_exon.groupby([\"gene_name\"]).apply(exonUnion), columns=[\"exons\"]).reset_index()"
   ]
  },
  {
   "cell_type": "code",
   "execution_count": null,
   "id": "8a801664",
   "metadata": {},
   "outputs": [],
   "source": [
    "df"
   ]
  },
  {
   "cell_type": "code",
   "execution_count": null,
   "id": "21298dd5",
   "metadata": {},
   "outputs": [],
   "source": [
    "df_ = df.explode('exons').reset_index(drop=True)"
   ]
  },
  {
   "cell_type": "code",
   "execution_count": null,
   "id": "1952f97a",
   "metadata": {},
   "outputs": [],
   "source": [
    "df_ = pd.concat(\n",
    "    [df_[['gene_name']], pd.DataFrame(df_['exons'].tolist()).add_prefix('col')], axis=1\n",
    ")\n",
    "df_.merge(mybiomart[['gene_name', 'Chromosome']], on=[\"gene_name\"], how=\"left\")"
   ]
  },
  {
   "cell_type": "code",
   "execution_count": null,
   "id": "4e85c5a6",
   "metadata": {},
   "outputs": [],
   "source": [
    "biomart_exon_union"
   ]
  },
  {
   "cell_type": "code",
   "execution_count": null,
   "id": "c61de9a5",
   "metadata": {},
   "outputs": [],
   "source": [
    "#biomart_exon_raw = h.generateGeneNames(attributes=[\"chromosome_name\", \"exon_chrom_start\", \"exon_chrom_end\", \"ensembl_gene_id\"], default_attr=[])\n",
    "biomart_exon = biomart_exon_raw.merge(mybiomart[[\"ensembl_gene_id\", \"gene_name\"]], on=[\"ensembl_gene_id\"], how=\"left\")\n",
    "biomart_exon = biomart_exon[~biomart_exon.gene_name.isin(OmicsCNGene)]\n",
    "\n",
    "biomart_exon_union = pd.DataFrame(biomart_exon.groupby([\"gene_name\"]).apply(exonUnion), columns=[\"exons\"]).reset_index().explode('exons').reset_index(drop=True)\n",
    "biomart_exon_union = pd.concat([biomart_exon_union[['gene_name']], pd.DataFrame(biomart_exon_union['exons'].tolist()).add_prefix('col')], axis=1)\n",
    "biomart_exon_union = biomart_exon_union.merge(biomart_exon[['gene_name', 'chromosome_name']], on=[\"gene_name\"], how=\"left\")\n",
    "biomart_exon_union[\"chromosome_name\"] = biomart_exon_union[\"chromosome_name\"].replace({\"X\": \"23\", \"Y\": \"24\", \"MT\": \"25\"})\n",
    "biomart_exon_union = biomart_exon_union[biomart_exon_union.chromosome_name.isin(set(map(str, range(1, 26))))]\n",
    "biomart_exon_union[\"chromosome_name\"] = biomart_exon_union[\"chromosome_name\"].astype(int)\n",
    "biomart_exon_union = biomart_exon_union.sort_values(by=[\"chromosome_name\", \"col0\", \"col1\"])\n",
    "biomart_exon_union[\"chromosome_name\"] = biomart_exon_union[\"chromosome_name\"].replace({23: \"X\", 24: \"Y\", 25: \"MT\"})\n",
    "biomart_exon_union[\"chromosome_name\"] = \"chr\" + biomart_exon_union[\"chromosome_name\"].astype(str)"
   ]
  },
  {
   "cell_type": "code",
   "execution_count": null,
   "id": "b57e01fe",
   "metadata": {},
   "outputs": [],
   "source": [
    "biomart_exon_union"
   ]
  },
  {
   "cell_type": "code",
   "execution_count": null,
   "id": "72ad7044",
   "metadata": {},
   "outputs": [],
   "source": [
    "cnmatrix, masked_genes_segdup, masked_genes_rm = maskSegDup(OmicsCNGene, \"CN\", mybiomart, thresh=0.5, repeat_bed=\"/home/xiaomeng/bin/depmap_omics/data/repeatMasker_max10_noAlt_merged.bed\")"
   ]
  },
  {
   "cell_type": "code",
   "execution_count": null,
   "id": "28d30089",
   "metadata": {},
   "outputs": [],
   "source": [
    "cnmatrix"
   ]
  },
  {
   "cell_type": "code",
   "execution_count": null,
   "id": "83fa907f",
   "metadata": {},
   "outputs": [],
   "source": [
    "exon_union_mat = biomart_exon.groupby('ensembl_gene_id').apply(exonUnion)"
   ]
  },
  {
   "cell_type": "code",
   "execution_count": null,
   "id": "beb61330",
   "metadata": {},
   "outputs": [],
   "source": [
    "import pandas as pd\n",
    "\n",
    "exon_union_mat = pd.DataFrame(exon_union_mat.reset_index(), columns=[\"ensembl_gene_id\", \"exons\"])"
   ]
  },
  {
   "cell_type": "code",
   "execution_count": null,
   "id": "95d772fd",
   "metadata": {},
   "outputs": [],
   "source": [
    "exon_union_mat"
   ]
  },
  {
   "cell_type": "code",
   "execution_count": null,
   "id": "f0eba91e",
   "metadata": {},
   "outputs": [],
   "source": [
    "mybiomart.merge(exon_union_mat, on=['ensembl_gene_id'], how=\"left\")"
   ]
  },
  {
   "cell_type": "code",
   "execution_count": null,
   "id": "2fbdb7d0",
   "metadata": {},
   "outputs": [],
   "source": [
    "ensmbl.attribute_pages['sequences']"
   ]
  },
  {
   "cell_type": "code",
   "execution_count": null,
   "id": "133d8bd9",
   "metadata": {},
   "outputs": [],
   "source": [
    "mybiomart[mybiomart.gene_name.isin(OmicsCNGene)][[\"Chromosome\", \"start\", \"end\", \"gene_name\"]].to_csv(\"../data/biomart_cngenes.bed\", sep=\"\\t\", header=False, index=False)"
   ]
  },
  {
   "cell_type": "code",
   "execution_count": null,
   "id": "5afef3c5",
   "metadata": {},
   "outputs": [],
   "source": [
    "gene_dict = mybiomart[[\"Chromosome\", \"start\", \"end\", \"gene_name\"]].set_index('gene_name').T.to_dict('list')"
   ]
  },
  {
   "cell_type": "code",
   "execution_count": null,
   "id": "42781707",
   "metadata": {},
   "outputs": [],
   "source": [
    "gene_dict"
   ]
  },
  {
   "cell_type": "code",
   "execution_count": null,
   "id": "18d245dd",
   "metadata": {},
   "outputs": [],
   "source": [
    "overlap_df = pd.read_csv(\"/home/xiaomeng/bin/depmap_omics/data/overlap_withalt.txt\", sep=\"\\t\", names=[\"chrom\", \"start\", \"end\", \"gene_name\"])"
   ]
  },
  {
   "cell_type": "code",
   "execution_count": null,
   "id": "78baa747",
   "metadata": {},
   "outputs": [],
   "source": [
    "overlap_df"
   ]
  },
  {
   "cell_type": "markdown",
   "id": "1f6a0f36",
   "metadata": {},
   "source": [
    "# a proper function for it"
   ]
  },
  {
   "cell_type": "code",
   "execution_count": null,
   "id": "dfa75091",
   "metadata": {},
   "outputs": [],
   "source": [
    "import pybedtools\n",
    "\n",
    "def maskSegDup(cnmatrix, matname, mybiomart, save_output=\"\", segdup_bed=\"../data/segDup_majorAllele_withAltContigs_98pcFracMatch_merged.bed\", repeat_bed=\"../data/repeatMasker_max100_noAlt_merged.bed\", thresh=0.5):\n",
    "    # sort and format biomart\n",
    "#     mybiomart[\"Chromosome\"] = mybiomart[\"Chromosome\"].replace({\"X\": \"23\", \"Y\": \"24\", \"MT\": \"25\"})\n",
    "#     mybiomart = mybiomart[mybiomart.Chromosome.isin(set(map(str, range(1, 26))))]\n",
    "#     mybiomart[\"Chromosome\"] = mybiomart[\"Chromosome\"].astype(int)\n",
    "#     mybiomart = mybiomart.sort_values(by=[\"Chromosome\", \"start\", \"end\"])\n",
    "#     mybiomart[\"Chromosome\"] = mybiomart[\"Chromosome\"].replace({23: \"X\", 24: \"Y\", 25: \"MT\"})\n",
    "#     mybiomart = mybiomart.drop_duplicates(\"hgnc_symbol\", keep=\"first\")\n",
    "#     mybiomart[\"Chromosome\"] = \"chr\" + mybiomart[\"Chromosome\"].astype(str)\n",
    "    \n",
    "    mybiomart = mybiomart[mybiomart.gene_name.isin(cnmatrix)]\n",
    "    mybiomart[[\"Chromosome\", \"start\", \"end\", \"gene_name\"]].to_csv(save_output + \"biomart_cngenes.bed\", sep=\"\\t\", header=False, index=False)\n",
    "    cngenes = pybedtools.BedTool(save_output + \"biomart_cngenes.bed\")\n",
    "    cngenes.intersect(segdup_bed).saveas(save_output + 'mask_overlap_segdup.bed')\n",
    "    \n",
    "    overlap_segdup = pd.read_csv(save_output + 'mask_overlap_segdup.bed', sep=\"\\t\", names=[\"chrom\", \"start\", \"end\", \"gene_name\"])\n",
    "    \n",
    "    # download and reformat exon info\n",
    "    biomart_exon_raw = h.generateGeneNames(attributes=[\"chromosome_name\", \"exon_chrom_start\", \"exon_chrom_end\", \"ensembl_gene_id\"], default_attr=[])\n",
    "    biomart_exon = biomart_exon_raw.merge(mybiomart[[\"ensembl_gene_id\", \"gene_name\"]], on=[\"ensembl_gene_id\"], how=\"left\")\n",
    "    biomart_exon = biomart_exon[biomart_exon.gene_name.isin(cnmatrix)]\n",
    "\n",
    "    biomart_exon_union = pd.DataFrame(biomart_exon.groupby([\"gene_name\"]).apply(exonUnion), columns=[\"exons\"]).reset_index().explode('exons').reset_index(drop=True)\n",
    "    biomart_exon_union = pd.concat([biomart_exon_union[['gene_name']], pd.DataFrame(biomart_exon_union['exons'].tolist()).add_prefix('col')], axis=1)\n",
    "    biomart_exon_union = biomart_exon_union.merge(biomart_exon[['gene_name', 'chromosome_name']], on=[\"gene_name\"], how=\"left\")\n",
    "    biomart_exon_union[\"chromosome_name\"] = biomart_exon_union[\"chromosome_name\"].replace({\"X\": \"23\", \"Y\": \"24\", \"MT\": \"25\"})\n",
    "    biomart_exon_union = biomart_exon_union[biomart_exon_union.chromosome_name.isin(set(map(str, range(1, 26))))]\n",
    "    biomart_exon_union[\"chromosome_name\"] = biomart_exon_union[\"chromosome_name\"].astype(int)\n",
    "    biomart_exon_union = biomart_exon_union.sort_values(by=[\"chromosome_name\", \"col0\", \"col1\"])\n",
    "    biomart_exon_union[\"chromosome_name\"] = biomart_exon_union[\"chromosome_name\"].replace({23: \"X\", 24: \"Y\", 25: \"MT\"})\n",
    "    biomart_exon_union[\"chromosome_name\"] = \"chr\" + biomart_exon_union[\"chromosome_name\"].astype(str)\n",
    "\n",
    "    biomart_exon_union[['chromosome_name', 'col0', 'col1', 'gene_name']].to_csv(\"biomart_exons.bed\", sep=\"\\t\", header=False, index=False)\n",
    "    exons_merged = pybedtools.BedTool(\"biomart_exons.bed\")\n",
    "    exons_merged.intersect(repeat_bed).saveas(save_output + 'mask_overlap_rm.bed')\n",
    "    overlap_rm = pd.read_csv(save_output + 'mask_overlap_rm.bed', sep=\"\\t\", names=[\"chrom\", \"start\", \"end\", \"gene_name\"])\n",
    "\n",
    "    gene_dict = mybiomart[[\"Chromosome\", \"start\", \"end\", \"gene_name\"]].set_index('gene_name').T.to_dict('list')\n",
    "    \n",
    "    #segdup\n",
    "    masked_genes_segdup = []\n",
    "    for g in overlap_segdup.gene_name.unique().tolist():\n",
    "        _, start, end = gene_dict[g]\n",
    "        gene_length = end - start\n",
    "        overlap_length = 0\n",
    "        overlap_segments = overlap_segdup[overlap_segdup.gene_name == g]\n",
    "        for i, v in overlap_segments.iterrows():\n",
    "            overlap_length += v['end'] - v['start']\n",
    "        if overlap_length / gene_length > thresh:\n",
    "            masked_genes_segdup.append(g)\n",
    "    print(\"masking \" + str(len(masked_genes_segdup)) + \" genes from CN matrix due to segmental duplication\")\n",
    "    \n",
    "    #repeat masker\n",
    "    masked_genes_rm = []\n",
    "    for g in overlap_rm.gene_name.unique().tolist():\n",
    "        all_overlaps = overlap_rm[overlap_rm.gene_name == g]\n",
    "        exons = biomart_exon_union[biomart_exon_union.gene_name == g]\n",
    "        exon_length = exons[\"col1\"].sum() - exons[\"col0\"].sum()\n",
    "        overlap_length = all_overlaps[\"end\"].sum() - all_overlaps[\"start\"].sum()\n",
    "        if overlap_length / exon_length > thresh:\n",
    "            masked_genes_rm.append(g)\n",
    "    print(\"masking \" + str(len(masked_genes_rm)) + \" genes from CN matrix due to repeat masker, \")\n",
    "    print(str(len(set(masked_genes_rm) - set(masked_genes_segdup))) + \" of which were not masked by segdup\")\n",
    "    \n",
    "    cnmatrix = cnmatrix.drop(columns=masked_genes_segdup + masked_genes_rm)\n",
    "    \n",
    "    return cnmatrix, masked_genes_segdup, masked_genes_rm"
   ]
  },
  {
   "cell_type": "code",
   "execution_count": null,
   "id": "3d4cf342",
   "metadata": {},
   "outputs": [],
   "source": [
    "genes = pybedtools.BedTool(\"../data/biomart_cngenes.bed\")"
   ]
  },
  {
   "cell_type": "code",
   "execution_count": null,
   "id": "8138f083",
   "metadata": {},
   "outputs": [],
   "source": [
    "genes.intersect(\"/home/xiaomeng/bin/depmap_omics/data/segDup_majorAllele_98pcFracMatch_merged.bed\").saveas('ov.bed')"
   ]
  },
  {
   "cell_type": "code",
   "execution_count": null,
   "id": "28a1cf28",
   "metadata": {},
   "outputs": [],
   "source": [
    "cnmatrix, masked_genes = maskSegDup(OmicsCNGene, \"CN\", mybiomart, thresh=0.01, segdup_bed=\"/home/xiaomeng/bin/depmap_omics/data/repeatMasker_max100_noAlt_merged.bed\")"
   ]
  },
  {
   "cell_type": "code",
   "execution_count": null,
   "id": "79cb019a",
   "metadata": {},
   "outputs": [],
   "source": [
    "masked_genes"
   ]
  },
  {
   "cell_type": "markdown",
   "id": "12edc5fe",
   "metadata": {},
   "source": [
    "## repeatmasker"
   ]
  },
  {
   "cell_type": "code",
   "execution_count": null,
   "id": "d82227f0",
   "metadata": {},
   "outputs": [],
   "source": [
    "repeats = pd.read_csv(\"/home/xiaomeng/bin/depmap_omics/data/repeatmasker.csv\")[[\"milliDiv\", \"milliDel\", \"milliIns\", \"genoName\", \"genoStart\", \"genoEnd\"]]"
   ]
  },
  {
   "cell_type": "code",
   "execution_count": null,
   "id": "4fdff053",
   "metadata": {},
   "outputs": [],
   "source": [
    "repeats[\"max\"] = repeats[[\"milliDiv\", \"milliDel\", \"milliIns\"]].max(axis=1)"
   ]
  },
  {
   "cell_type": "code",
   "execution_count": null,
   "id": "93e92b4a",
   "metadata": {},
   "outputs": [],
   "source": [
    "repeats = repeats[(repeats[\"max\"] <= 10) & (~repeats.genoName.str.contains(\"_\"))]\n",
    "repeats[\"genoName\"] = repeats[\"genoName\"].replace({\"chrX\": \"chr23\", \"chrY\": \"chr24\", \"chrM\": \"chr25\"})\n",
    "repeats[\"genoName\"] = repeats[\"genoName\"].str.replace(\"chr\", \"\").astype(\"int\")\n",
    "repeats = repeats.sort_values(by=[\"genoName\", \"genoStart\", \"genoEnd\"])\n",
    "repeats[\"genoName\"] = \"chr\" + repeats[\"genoName\"].astype(str)\n",
    "repeats[\"genoName\"] = repeats[\"genoName\"].replace({\"chr23\": \"chrX\", \"chr24\": \"chrY\", \"chr25\": \"chrM\"})"
   ]
  },
  {
   "cell_type": "code",
   "execution_count": null,
   "id": "98be9572",
   "metadata": {},
   "outputs": [],
   "source": [
    "repeats[[\"genoName\", \"genoStart\", \"genoEnd\"]].to_csv(\"../data/repeatMasker_max10_noAlt.bed\", sep=\"\\t\", header=False, index=False)"
   ]
  },
  {
   "cell_type": "code",
   "execution_count": null,
   "id": "71b3108b",
   "metadata": {},
   "outputs": [],
   "source": [
    "repeats"
   ]
  },
  {
   "cell_type": "code",
   "execution_count": null,
   "id": "7c9f9463",
   "metadata": {},
   "outputs": [],
   "source": []
  },
  {
   "cell_type": "code",
   "execution_count": null,
   "id": "50ca2664",
   "metadata": {},
   "outputs": [],
   "source": [
    "repeats[(repeats.genoName == \"chr11\") & (repeats.genoStart > 55635000) & (repeats.genoStart < 55641309)]"
   ]
  },
  {
   "cell_type": "code",
   "execution_count": null,
   "id": "2ab7aedc",
   "metadata": {},
   "outputs": [],
   "source": [
    "from biomart import BiomartServer\n",
    "    \n",
    "server = BiomartServer(\"http://nov2020.archive.ensembl.org/biomart\")\n",
    "ensmbl = server.datasets[\"hsapiens_gene_ensembl\"]\n"
   ]
  },
  {
   "cell_type": "code",
   "execution_count": null,
   "id": "55272fb7",
   "metadata": {},
   "outputs": [],
   "source": [
    "res[(res[\"Gene start (bp)\"] != res[\"Exon region start (bp)\"]) | (res[\"Gene end (bp)\"] != res[\"Exon region end (bp)\"])]"
   ]
  },
  {
   "cell_type": "code",
   "execution_count": null,
   "id": "0324907e",
   "metadata": {},
   "outputs": [],
   "source": []
  }
 ],
 "metadata": {
  "kernelspec": {
   "display_name": "Python 3",
   "language": "python",
   "name": "python3"
  },
  "language_info": {
   "codemirror_mode": {
    "name": "ipython",
    "version": 3
   },
   "file_extension": ".py",
   "mimetype": "text/x-python",
   "name": "python",
   "nbconvert_exporter": "python",
   "pygments_lexer": "ipython3",
   "version": "3.8.13"
  }
 },
 "nbformat": 4,
 "nbformat_minor": 5
}
