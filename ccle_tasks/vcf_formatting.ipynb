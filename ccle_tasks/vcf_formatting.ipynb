{
 "cells": [
  {
   "cell_type": "code",
   "execution_count": null,
   "id": "cccec73a",
   "metadata": {},
   "outputs": [],
   "source": [
    "import pandas as pd\n",
    "import genepy.mutations as mut\n",
    "import numpy as np"
   ]
  },
  {
   "cell_type": "code",
   "execution_count": null,
   "id": "f25863d4",
   "metadata": {},
   "outputs": [],
   "source": [
    "vcf_df, desc, header = mut.vcf_to_df(\"../temp/CDS-hWv3gY_fixedcolumn.vcf.gz\", additional_cols=[\"PON\"])\n",
    "vcf_df"
   ]
  },
  {
   "cell_type": "code",
   "execution_count": null,
   "id": "a232e8f8",
   "metadata": {},
   "outputs": [],
   "source": [
    "from itertools import islice\n",
    "import gzip\n",
    "\n",
    "fields = {}\n",
    "description = {}\n",
    "c = 0\n",
    "headerrow = 0\n",
    "with gzip.open(\"../temp/CDS-hWv3gY_fixedcolumn.vcf.gz\") as f:\n",
    "    with open(\"../temp/header.hr\", \"w\") as f2:\n",
    "        for l in f:\n",
    "            l = l.decode(\"utf-8\") if type(l) is not str else l\n",
    "            if l.startswith(\"##INFO=<ID=OC_provean__prediction\"):\n",
    "                l = l.replace('\"D(amaging)\"', 'D(amaging)').replace('\"N(eutral)\"', 'N(eutral)')\n",
    "                print(l)\n",
    "                f2.write(l)\n",
    "            elif l.startswith('##'):\n",
    "                if 'FORMAT' in l[:20]:\n",
    "                    res = l.split('ID=')[1].split(',')[0]\n",
    "                    desc = l.split('Description=')[1][:-2]\n",
    "                    description.update({res: desc})\n",
    "                if 'INFO' in l[:20]:\n",
    "                    res = l.split('ID=')[1].split(',')[0]\n",
    "                    desc = l.split('Description=')[1][:-2]\n",
    "                    description.update({res: desc})\n",
    "                    fields.update({res: []})\n",
    "                f2.write(l)\n",
    "                c += 1\n",
    "            elif l.startswith(\"#CHROM\"):\n",
    "                f2.write(l)\n",
    "                headerrow = c + 1\n",
    "            else:\n",
    "                break"
   ]
  },
  {
   "cell_type": "code",
   "execution_count": null,
   "id": "f5334477",
   "metadata": {},
   "outputs": [],
   "source": [
    "names = ['chr', 'pos', 'id', 'ref', 'alt', 'qual']\n",
    "names += ['strand']\n",
    "names += ['data', 'format'] + ['sample']\n",
    "\n",
    "a = pd.read_csv('../temp/CDS-hWv3gY_norm.vcf', sep='\\t', header=None, skiprows=headerrow+3, names=names, index_col=False)"
   ]
  },
  {
   "cell_type": "code",
   "execution_count": null,
   "id": "ffb0eb6f",
   "metadata": {},
   "outputs": [],
   "source": [
    "a"
   ]
  },
  {
   "cell_type": "code",
   "execution_count": null,
   "id": "219e28e5",
   "metadata": {},
   "outputs": [],
   "source": [
    "vcf_df_split, desc, header = mut.vcf_to_df(\"../temp/CDS-hWv3gY_norm.vcf\", additional_cols=[\"PON\"])\n",
    "vcf_df_split"
   ]
  },
  {
   "cell_type": "code",
   "execution_count": null,
   "id": "1b4d04b8",
   "metadata": {},
   "outputs": [],
   "source": [
    "# Expand funcotation cols\n",
    "def expand_funcotation(df, desc):\n",
    "    funco_fields = desc['FUNCOTATION'].replace(\": \", \"|\").replace(\"\\\"\", \"\").split(\"|\")[1:]\n",
    "    func_df = df[\"FUNCOTATION\"].str.replace(\"[\", \"\", regex=True).replace(\"]\", \"\", regex=True).str.split(\"|\").tolist()\n",
    "    func_df = pd.DataFrame(data=func_df, columns=funco_fields, index=df.index)\n",
    "    func_df = func_df.replace(\"_%20_\", \" \", regex=True).replace(\"_%3D_\", \"=\", regex=True).replace(\"_%7C_\", \"|\", regex=True).replace(\"_%2C_\", \",\", regex=True)\n",
    "    cols_to_drop = []\n",
    "    for f in funco_fields:\n",
    "        # drop columns that have the same value across all rows\n",
    "        if len(func_df[f].unique()) == 1:\n",
    "            print(f)\n",
    "            cols_to_drop.append(f)\n",
    "    return pd.concat([df.drop(columns=\"FUNCOTATION\"), func_df.drop(columns=cols_to_drop)], axis=1)\n"
   ]
  },
  {
   "cell_type": "code",
   "execution_count": null,
   "id": "a13cfe88",
   "metadata": {},
   "outputs": [],
   "source": [
    "\n",
    "vcf_with_func = expand_funcotation(vcf_df_split, desc)\n",
    "pd.set_option('display.max_columns', None)\n",
    "pd.set_option('display.max_rows', 20)\n",
    "\n",
    "# mutect2 generates 2 DP columns, one in INFO and the other in FORMAT\n",
    "# according to mutect2, INFO fields are for the variant as a whole (over all samples), \n",
    "# while FORMAT fields are for individual samples.\n",
    "# https://github.com/broadinstitute/gatk/issues/6067\n",
    "# here we are dropping the one in INFO\n",
    "\n",
    "vcf_with_func['DP_keep'] = vcf_with_func['DP'].iloc[:, 1]\n",
    "vcf_with_func = vcf_with_func.drop(columns=['DP']).rename(columns={'DP_keep': 'DP'})\n",
    "vcf_with_func['DP']\n",
    "\n",
    "vcf_with_func"
   ]
  },
  {
   "cell_type": "code",
   "execution_count": null,
   "id": "9b04ebdf",
   "metadata": {},
   "outputs": [],
   "source": [
    "def transform_oc_cols(df):\n",
    "    df['OC_base__all_mappings'] = df['OC_base__all_mappings'].str.replace(\"%3A\", \":\").str.replace(\"%3B-\", \";\").str.split(\";\")\n",
    "    df['OC_base__all_mappings'] = df['OC_base__all_mappings'].apply(lambda x: dict([(v.split(\":\")[0], \",\".join(v.split(\":\")[1:])) for v in x]) if x is not None else dict())\n",
    "    \n",
    "    df['OC_chasmplus__all'] = df['OC_chasmplus__all'].str.replace(\"\\]%2C\\[\", \";\").str.replace(\"\\]\", \"\").str.replace(\"\\[\", \"\").str.replace(\"%2C\", \",\").str.split(';')\n",
    "    df['OC_chasmplus__all'] = df['OC_chasmplus__all'].apply(lambda x: dict([(v.split(\",\")[0], \",\".join(v.split(\",\")[1:])) for v in x]) if type(x) == list else dict())\n",
    "    \n",
    "    df['OC_funseq2__hot'] = df['OC_funseq2__hot'].str.replace(\"%3B\", \";\")\n",
    "    \n",
    "    df['OC_funseq2__all'] = df['OC_funseq2__all'].str.replace(\"\\]%2C\\[\", \";\").str.replace(\"\\]\", \"\").str.replace(\"\\[\", \"\").str.replace(\"%2C\", \",\").str.replace(\"\\\"\", \"\").str.split(';')\n",
    "    df['OC_funseq2__all'] = df['OC_funseq2__all'].apply(lambda x: dict([(v.split(\",\")[0], \",\".join(v.split(\",\")[1:])) for v in x]) if type(x) == list else dict())\n",
    "    \n",
    "    df['OC_genehancer__target_genes'] = df['OC_genehancer__target_genes'].str.replace(\"%3A\", \":\").str.replace(\"%2C\", \";\").str.split(';')\n",
    "    df['OC_genehancer__target_genes'] = df['OC_genehancer__target_genes'].apply(lambda x: dict([(v.split(\":\")[0], float(v.split(\":\")[1])) for v in x]) if type(x) == list else dict())\n",
    "\n",
    "    "
   ]
  },
  {
   "cell_type": "code",
   "execution_count": null,
   "id": "d5602a47",
   "metadata": {},
   "outputs": [],
   "source": [
    "transform_oc_cols(vcf_with_func)"
   ]
  },
  {
   "cell_type": "code",
   "execution_count": null,
   "id": "abbc6a90",
   "metadata": {},
   "outputs": [],
   "source": [
    "vcf_with_func"
   ]
  },
  {
   "cell_type": "code",
   "execution_count": null,
   "id": "385795a0",
   "metadata": {},
   "outputs": [],
   "source": [
    "for f in vcf_with_func.columns:\n",
    "    # drop columns that have the same value across all rows\n",
    "    if not isinstance(vcf_with_func[f][0], dict) and len(vcf_with_func[f].unique()) == 1:\n",
    "        print(f, \": \", vcf_with_func[f][0])"
   ]
  },
  {
   "cell_type": "code",
   "execution_count": null,
   "id": "2297e3ba",
   "metadata": {},
   "outputs": [],
   "source": []
  }
 ],
 "metadata": {
  "kernelspec": {
   "display_name": "Python 3",
   "language": "python",
   "name": "python3"
  },
  "language_info": {
   "codemirror_mode": {
    "name": "ipython",
    "version": 3
   },
   "file_extension": ".py",
   "mimetype": "text/x-python",
   "name": "python",
   "nbconvert_exporter": "python",
   "pygments_lexer": "ipython3",
   "version": "3.8.2"
  }
 },
 "nbformat": 4,
 "nbformat_minor": 5
}
