{
 "cells": [
  {
   "cell_type": "code",
   "execution_count": null,
   "id": "cccec73a",
   "metadata": {},
   "outputs": [],
   "source": [
    "import pandas as pd\n",
    "import genepy.mutations as mut"
   ]
  },
  {
   "cell_type": "code",
   "execution_count": null,
   "id": "f25863d4",
   "metadata": {},
   "outputs": [],
   "source": [
    "vcf_df = mut.vcf_to_df(\"../temp/CDS-02waxZ_fixedploidy.vcf.gz.vcf.gz\")\n",
    "vcf_df"
   ]
  },
  {
   "cell_type": "code",
   "execution_count": null,
   "id": "a232e8f8",
   "metadata": {},
   "outputs": [],
   "source": []
  },
  {
   "cell_type": "code",
   "execution_count": null,
   "id": "1b4d04b8",
   "metadata": {},
   "outputs": [],
   "source": []
  }
 ],
 "metadata": {
  "kernelspec": {
   "display_name": "Python 3",
   "language": "python",
   "name": "python3"
  },
  "language_info": {
   "codemirror_mode": {
    "name": "ipython",
    "version": 3
   },
   "file_extension": ".py",
   "mimetype": "text/x-python",
   "name": "python",
   "nbconvert_exporter": "python",
   "pygments_lexer": "ipython3",
   "version": "3.8.2"
  }
 },
 "nbformat": 4,
 "nbformat_minor": 5
}
