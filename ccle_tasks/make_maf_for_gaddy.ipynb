{
 "cells": [
  {
   "cell_type": "code",
   "execution_count": null,
   "id": "4b194b88",
   "metadata": {},
   "outputs": [],
   "source": [
    "from depmapomics import mutations\n",
    "import dalmatian as dm"
   ]
  },
  {
   "cell_type": "code",
   "execution_count": null,
   "id": "dc33f419",
   "metadata": {},
   "outputs": [],
   "source": [
    "wgs_wm = dm.WorkspaceManager(\"broad-firecloud-ccle/DepMap_WGS_CN\")\n",
    "wgsmut = mutations.aggregateMAFs(wgs_wm)"
   ]
  },
  {
   "cell_type": "code",
   "execution_count": null,
   "id": "5d76f817",
   "metadata": {},
   "outputs": [],
   "source": [
    "wes_wm = dm.WorkspaceManager(\"broad-firecloud-ccle/DepMap_WES_CN_hg38\")\n",
    "wesmut = mutations.aggregateMAFs(wes_wm)"
   ]
  },
  {
   "cell_type": "code",
   "execution_count": null,
   "id": "1410f997",
   "metadata": {},
   "outputs": [],
   "source": [
    "import pandas as pd\n",
    "\n",
    "merged_maf = pd.concat([wgsmut, wesmut])"
   ]
  },
  {
   "cell_type": "code",
   "execution_count": null,
   "id": "bce6f16f",
   "metadata": {},
   "outputs": [],
   "source": [
    "merged_maf.to_csv(\"new_maf.csv\", index=None)"
   ]
  },
  {
   "cell_type": "code",
   "execution_count": null,
   "id": "64660388",
   "metadata": {},
   "outputs": [],
   "source": [
    "merged_maf"
   ]
  },
  {
   "cell_type": "code",
   "execution_count": null,
   "id": "81d1ba37",
   "metadata": {},
   "outputs": [],
   "source": [
    "from taigapy import TaigaClient\n",
    "tc = TaigaClient()\n",
    "\n",
    "tc.update_dataset(\n",
    "    changes_description=\"add new maf\",\n",
    "    dataset_permaname=\"comparison-new-maf-old-maf-24b4\",\n",
    "    upload_files=[            \n",
    "        {\n",
    "            \"path\": \"new_maf.csv\",\n",
    "            \"format\": \"TableCSV\",\n",
    "            \"encoding\": \"utf-8\",\n",
    "        },\n",
    "    ],\n",
    "    upload_async=False,\n",
    "    add_all_existing_files=True,\n",
    ")"
   ]
  },
  {
   "cell_type": "code",
   "execution_count": null,
   "id": "1ca4d54e",
   "metadata": {},
   "outputs": [],
   "source": [
    "old_wes_maf = pd.read_csv(\"gs://fc-secure-012d088c-f039-4d36-bde5-ee9b1b76b912/fe49d507-c56e-4b83-b8f5-a9ff65dc4521/aggregateMAFs_selectFields_workflow/e336ee4e-a444-4e82-a2a5-16906e5a91ea/call-aggregateMAFs_selectFields/all.mergedMAF.txt\", sep='\\t')"
   ]
  },
  {
   "cell_type": "code",
   "execution_count": null,
   "id": "0fc1ff0e",
   "metadata": {},
   "outputs": [],
   "source": [
    "old_wgs_maf = pd.read_csv(\"gs://fc-secure-bd7b8bc9-f665-4269-997e-5a402088a369/20586939-b3c2-4dae-a397-d5ba5a04dddb/WGS_aggregate/6a5580e0-2889-42a6-bbbc-62e1056eb8b2/call-aggregateMAFs_selectFields/allcurrent.mergedMAF.txt\", sep='\\t')"
   ]
  },
  {
   "cell_type": "code",
   "execution_count": null,
   "id": "640f0695",
   "metadata": {},
   "outputs": [],
   "source": [
    "old_wes_maf = old_wes_maf.rename(columns={\"Tumor_Sample_Barcode\": \"DepMap_ID\"})\n",
    "old_wgs_maf = old_wgs_maf.rename(columns={\"Tumor_Sample_Barcode\": \"DepMap_ID\"})\n",
    "old_wgs_maf = old_wgs_maf[old_wes_maf.columns]"
   ]
  },
  {
   "cell_type": "code",
   "execution_count": null,
   "id": "d51964fa",
   "metadata": {},
   "outputs": [],
   "source": [
    "merged_old = pd.concat([old_wes_maf, old_wgs_maf])\n",
    "merged_old.to_csv(\"old_maf.csv\", index=None)"
   ]
  },
  {
   "cell_type": "code",
   "execution_count": null,
   "id": "f63c96ec",
   "metadata": {},
   "outputs": [],
   "source": [
    "merged_old"
   ]
  },
  {
   "cell_type": "code",
   "execution_count": null,
   "id": "297f7a6a",
   "metadata": {},
   "outputs": [],
   "source": [
    "from taigapy import TaigaClient\n",
    "tc = TaigaClient()\n",
    "\n",
    "tc.update_dataset(\n",
    "    changes_description=\"subset old maf columns\",\n",
    "    dataset_permaname=\"comparison-new-maf-old-maf-24b4\",\n",
    "    upload_files=[            \n",
    "        {\n",
    "            \"path\": \"old_maf.csv\",\n",
    "            \"format\": \"TableCSV\",\n",
    "            \"encoding\": \"utf-8\",\n",
    "        },\n",
    "    ],\n",
    "    upload_async=False,\n",
    "    add_all_existing_files=True,\n",
    ")"
   ]
  },
  {
   "cell_type": "code",
   "execution_count": null,
   "id": "d82311c1",
   "metadata": {},
   "outputs": [],
   "source": [
    "tc.update_dataset(\n",
    "    changes_description=\"drop unnamed col\",\n",
    "    dataset_permaname=\"comparison-new-maf-old-maf-24b4\",\n",
    "    upload_files=[            \n",
    "        {\n",
    "            \"path\": \"old_maf.csv\",\n",
    "            \"format\": \"TableCSV\",\n",
    "            \"encoding\": \"utf-8\",\n",
    "        },\n",
    "        {\n",
    "            \"path\": \"new_maf.csv\",\n",
    "            \"format\": \"TableCSV\",\n",
    "            \"encoding\": \"utf-8\",\n",
    "        },\n",
    "    ],\n",
    "    upload_async=False,\n",
    "    add_all_existing_files=True,\n",
    ")"
   ]
  },
  {
   "cell_type": "code",
   "execution_count": null,
   "id": "30c53736",
   "metadata": {},
   "outputs": [],
   "source": [
    "from taigapy import TaigaClient\n",
    "tc = TaigaClient()\n",
    "new = tc.get(name='comparison-new-maf-old-maf-24b4', version=3, file='new')\n",
    "new_maf = tc.get(name='comparison-new-maf-old-maf-24b4', version=3, file='new_maf')"
   ]
  },
  {
   "cell_type": "code",
   "execution_count": null,
   "id": "00079636",
   "metadata": {},
   "outputs": [],
   "source": [
    "set(new.columns) - set(new_maf.columns)"
   ]
  },
  {
   "cell_type": "code",
   "execution_count": null,
   "id": "875107e6",
   "metadata": {},
   "outputs": [],
   "source": [
    "old_maf = tc.get(name='comparison-new-maf-old-maf-24b4', version=9, file='old_maf')\n",
    "old_maf"
   ]
  },
  {
   "cell_type": "code",
   "execution_count": null,
   "id": "51c61192",
   "metadata": {},
   "outputs": [],
   "source": []
  }
 ],
 "metadata": {
  "kernelspec": {
   "display_name": "Python 3",
   "language": "python",
   "name": "python3"
  },
  "language_info": {
   "codemirror_mode": {
    "name": "ipython",
    "version": 3
   },
   "file_extension": ".py",
   "mimetype": "text/x-python",
   "name": "python",
   "nbconvert_exporter": "python",
   "pygments_lexer": "ipython3",
   "version": "3.8.2"
  }
 },
 "nbformat": 4,
 "nbformat_minor": 5
}
