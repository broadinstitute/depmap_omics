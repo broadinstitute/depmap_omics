{
 "cells": [
  {
   "cell_type": "markdown",
   "metadata": {},
   "source": [
    "# Gene expression re-normalization\n",
    "\n",
    "We need to renormalize gene expression to reduce chrM bias or MYC gene expression amplification bias."
   ]
  },
  {
   "cell_type": "markdown",
   "metadata": {},
   "source": [
    "# Outline\n",
    "- [Introduction](#gene-expression-re-normalization)\n",
    "- [Setup](#setup)\n",
    "- [Data](#data)\n",
    "- [Reproduce problem](#reproduce-chrm-bias)"
   ]
  },
  {
   "cell_type": "markdown",
   "metadata": {},
   "source": [
    "# Setup"
   ]
  },
  {
   "cell_type": "code",
   "execution_count": null,
   "metadata": {},
   "outputs": [],
   "source": [
    "%load_ext autoreload\n",
    "%autoreload 2\n",
    "from taigapy import TaigaClient\n",
    "import seaborn as sns\n",
    "import numpy as np\n",
    "import matplotlib.pyplot as plt\n",
    "from cds import plotting\n",
    "from mgenepy.utils import helper\n",
    "#from depmap_omics_upload import tracker as track\n",
    "\n",
    "tc = TaigaClient()"
   ]
  },
  {
   "cell_type": "markdown",
   "metadata": {},
   "source": [
    "# Data"
   ]
  },
  {
   "cell_type": "code",
   "execution_count": null,
   "metadata": {},
   "outputs": [],
   "source": [
    "%%capture\n",
    "\n",
    "OmicsExpressionProteinCodingGenesTPMLogp1 = tc.get(name='internal-23q4-ac2b', version=68, file='OmicsExpressionProteinCodingGenesTPMLogp1')"
   ]
  },
  {
   "cell_type": "code",
   "execution_count": null,
   "metadata": {},
   "outputs": [],
   "source": [
    "OmicsExpressionProteinCodingGenesTPMLogp1.shape"
   ]
  },
  {
   "cell_type": "code",
   "execution_count": null,
   "metadata": {},
   "outputs": [],
   "source": [
    "%%capture\n",
    "\n",
    "OmicsExpressionAllGenesEffectiveLengthProfile = tc.get(name='internal-23q4-ac2b', version=68, file='OmicsExpressionAllGenesEffectiveLengthProfile')\n",
    "OmicsExpressionAllGenesTPMLogp1Profile = tc.get(name='internal-23q4-ac2b', version=68, file='OmicsExpressionAllGenesTPMLogp1Profile')\n",
    "OmicsExpressionGenesExpectedCountProfile = tc.get(name='internal-23q4-ac2b', version=68, file='OmicsExpressionGenesExpectedCountProfile')\n",
    "OmicsDefaultModelProfiles = tc.get(name='internal-23q4-ac2b', version=68, file='OmicsDefaultModelProfiles')\n",
    "OmicsDefaultModelConditionProfiles = tc.get(name='internal-23q4-ac2b', version=68, file='OmicsDefaultModelConditionProfiles')\n"
   ]
  },
  {
   "cell_type": "code",
   "execution_count": null,
   "metadata": {},
   "outputs": [],
   "source": [
    "profile_to_model_dict = OmicsDefaultModelProfiles.query(\"ProfileType == 'rna'\").\\\n",
    "        set_index(\"ProfileID\").\\\n",
    "        drop(\"ProfileType\", axis=1).\\\n",
    "        to_dict()[\"ModelID\"]"
   ]
  },
  {
   "cell_type": "code",
   "execution_count": null,
   "metadata": {},
   "outputs": [],
   "source": [
    "OmicsExpressionProteinCodingGenesTPMLogp1.shape, \\\n",
    "    OmicsExpressionAllGenesEffectiveLengthProfile.shape, \\\n",
    "    OmicsExpressionAllGenesTPMLogp1Profile.shape, \\\n",
    "    OmicsExpressionGenesExpectedCountProfile.shape, \\\n",
    "    OmicsExpressionProteinCodingGenesTPMLogp1.shape"
   ]
  },
  {
   "cell_type": "code",
   "execution_count": null,
   "metadata": {},
   "outputs": [],
   "source": [
    "OmicsExpressionAllGenesEffectiveLengthProfile_matched_genes = OmicsExpressionAllGenesEffectiveLengthProfile.loc[:, OmicsExpressionGenesExpectedCountProfile.columns]"
   ]
  },
  {
   "cell_type": "code",
   "execution_count": null,
   "metadata": {},
   "outputs": [],
   "source": [
    "OmicsExpressionAllGenesEffectiveLengthProfile_matched_genes.shape, OmicsExpressionGenesExpectedCountProfile.shape"
   ]
  },
  {
   "cell_type": "markdown",
   "metadata": {},
   "source": [
    "# Reproduce TPM for protein coding genes"
   ]
  },
  {
   "cell_type": "code",
   "execution_count": null,
   "metadata": {},
   "outputs": [],
   "source": [
    "def calculate_tpm(counts_df, transcripts_length_df):\n",
    "    \"\"\"https://github.com/deweylab/RSEM/blob/8bc1e2115493c0cdf3c6bee80ef7a21a91b2acce/WriteResults.h#L77\"\"\"\n",
    "    assert counts_df.shape == transcripts_length_df.shape\n",
    "\n",
    "    denom = counts_df.sum(axis=1)\n",
    "    denom = denom.where(denom > 1e-300, 1)\n",
    "    print(denom.isnull().sum().sum())\n",
    "    frac = counts_df.div(denom, axis=0)\n",
    "    print(frac.isnull().sum().sum())\n",
    "\n",
    "    transcripts_length_df = transcripts_length_df.where(transcripts_length_df > 1e-300, 1)\n",
    "    fpkm = frac * 1e9 / transcripts_length_df\n",
    "    print(fpkm.isnull().sum().sum())\n",
    "\n",
    "    fpkm_sum = fpkm.sum(axis=1)\n",
    "    fpkm_denom = fpkm_sum.where(fpkm_sum > 1e-300, 1)\n",
    "    print(fpkm_denom.isnull().sum().sum())\n",
    "\n",
    "    tpm_df = (fpkm.div(fpkm_denom, axis=0)) * 1e6\n",
    "    print(tpm_df.isnull().sum().sum())\n",
    "    return np.log2(tpm_df+1)"
   ]
  },
  {
   "cell_type": "code",
   "execution_count": null,
   "metadata": {},
   "outputs": [],
   "source": [
    "OmicsExpressionGenesExpectedCountProfile_tpm = calculate_tpm(OmicsExpressionGenesExpectedCountProfile, OmicsExpressionAllGenesEffectiveLengthProfile_matched_genes)"
   ]
  },
  {
   "cell_type": "code",
   "execution_count": null,
   "metadata": {},
   "outputs": [],
   "source": [
    "mybiomart = helper.generateGeneNames(ensemble_server=\"http://nov2020.archive.ensembl.org/biomart\", useCache=False)"
   ]
  },
  {
   "cell_type": "code",
   "execution_count": null,
   "metadata": {},
   "outputs": [],
   "source": [
    "protcod_rename = {}\n",
    "for _, i in mybiomart[\n",
    "    (~mybiomart.entrezgene_id.isna()) & (mybiomart.gene_biotype == \"protein_coding\")\n",
    "].iterrows():\n",
    "    if i.ensembl_gene_id not in protcod_rename:\n",
    "        protcod_rename.update(\n",
    "            {\n",
    "                i.hgnc_symbol + \" (\" + i.ensembl_gene_id + \")\": i.hgnc_symbol\n",
    "                + \" (\"\n",
    "                + str(int(i.entrezgene_id))\n",
    "                + \")\"\n",
    "            }\n",
    "        )"
   ]
  },
  {
   "cell_type": "code",
   "execution_count": null,
   "metadata": {},
   "outputs": [],
   "source": [
    "protcod_rename"
   ]
  },
  {
   "cell_type": "code",
   "execution_count": null,
   "metadata": {},
   "outputs": [],
   "source": [
    "OmicsExpressionGenesExpectedCountProfile_tpm.columns = OmicsExpressionGenesExpectedCountProfile_tpm.columns.map(protcod_rename)\n",
    "OmicsExpressionGenesExpectedCountProfile_tpm = OmicsExpressionGenesExpectedCountProfile_tpm.loc[:, ~OmicsExpressionGenesExpectedCountProfile_tpm.columns.isnull()]"
   ]
  },
  {
   "cell_type": "code",
   "execution_count": null,
   "metadata": {},
   "outputs": [],
   "source": [
    "OmicsExpressionAllGenesTPMLogp1Profile.columns = OmicsExpressionAllGenesTPMLogp1Profile.columns.map(protcod_rename)\n",
    "OmicsExpressionAllGenesTPMLogp1Profile = OmicsExpressionAllGenesTPMLogp1Profile.loc[:, ~OmicsExpressionAllGenesTPMLogp1Profile.columns.isnull()]"
   ]
  },
  {
   "cell_type": "code",
   "execution_count": null,
   "metadata": {},
   "outputs": [],
   "source": [
    "from scipy.stats import pearsonr\n",
    "\n",
    "tpm_correlation_list = []\n",
    "for gene in OmicsExpressionAllGenesTPMLogp1Profile.columns:\n",
    "    tpm_correlation_list.append(pearsonr(OmicsExpressionGenesExpectedCountProfile_tpm.loc[:, gene], OmicsExpressionAllGenesTPMLogp1Profile.loc[:, gene])[0])"
   ]
  },
  {
   "cell_type": "code",
   "execution_count": null,
   "metadata": {},
   "outputs": [],
   "source": [
    "np.isnan(tpm_correlation_list).sum(), np.min(tpm_correlation_list), np.mean(tpm_correlation_list)"
   ]
  },
  {
   "cell_type": "code",
   "execution_count": null,
   "metadata": {},
   "outputs": [],
   "source": [
    "sns.kdeplot(tpm_correlation_list)"
   ]
  },
  {
   "cell_type": "code",
   "execution_count": null,
   "metadata": {},
   "outputs": [],
   "source": [
    "OmicsExpressionGenesExpectedCountProfile_tpm.isnull().sum().sum()"
   ]
  },
  {
   "cell_type": "code",
   "execution_count": null,
   "metadata": {},
   "outputs": [],
   "source": [
    "OmicsExpressionGenesExpectedCountProfile_tpm.loc[:, \"Model\"] = OmicsExpressionGenesExpectedCountProfile_tpm.index.map(profile_to_model_dict)\n",
    "OmicsExpressionGenesExpectedCountModel_tpm = OmicsExpressionGenesExpectedCountProfile_tpm.set_index(\"Model\")\n",
    "OmicsExpressionGenesExpectedCountModel_tpm = OmicsExpressionGenesExpectedCountModel_tpm.loc[OmicsExpressionProteinCodingGenesTPMLogp1.index, :]"
   ]
  },
  {
   "cell_type": "code",
   "execution_count": null,
   "metadata": {},
   "outputs": [],
   "source": [
    "OmicsExpressionGenesExpectedCountProfile_tpm.shape"
   ]
  },
  {
   "cell_type": "markdown",
   "metadata": {},
   "source": [
    "# Reproduce chrM bias"
   ]
  },
  {
   "cell_type": "code",
   "execution_count": null,
   "metadata": {},
   "outputs": [],
   "source": [
    "sample_median_expression = OmicsExpressionProteinCodingGenesTPMLogp1.median(axis=1)\n",
    "sample_median_expression_rank = sample_median_expression.rank()"
   ]
  },
  {
   "cell_type": "code",
   "execution_count": null,
   "metadata": {},
   "outputs": [],
   "source": [
    "top_1_sample_index = sample_median_expression.argmax()\n",
    "top_1_sample_rank = sample_median_expression_rank[top_1_sample_index]\n",
    "top_1_sample = sample_median_expression.index[top_1_sample_index]\n",
    "top_1_sample_expression = sample_median_expression[top_1_sample_index]\n",
    "bottom_1_sample_index = sample_median_expression.argmin()\n",
    "bottom_1_sample_rank = sample_median_expression_rank[bottom_1_sample_index]\n",
    "bottom_1_sample = sample_median_expression.index[bottom_1_sample_index]\n",
    "bottom_1_sample_expression = sample_median_expression[bottom_1_sample_index]\n",
    "\n",
    "fig, ax = plt.subplots()\n",
    "fig.set_size_inches(8, 5)\n",
    "sns.scatterplot(y=sample_median_expression, x=sample_median_expression_rank, ax=ax, s=1)\n",
    "ax.set_xlabel(\"Rank\")\n",
    "ax.set_ylabel(\"Median gene-level expression for LogTPM+1\")\n",
    "ax.annotate(top_1_sample, xy=(top_1_sample_rank, top_1_sample_expression), xytext=(0, 2), ha='center', textcoords='offset points', va='bottom')\n",
    "ax.annotate(bottom_1_sample, xy=(bottom_1_sample_rank, bottom_1_sample_expression), \n",
    "            xytext=(bottom_1_sample_rank+50, 2), ha='center', va='bottom', textcoords='offset points', \n",
    "                arrowprops = dict(arrowstyle=\"simple\", facecolor='red'))\n",
    "\n",
    "sns.despine()"
   ]
  },
  {
   "cell_type": "code",
   "execution_count": null,
   "metadata": {},
   "outputs": [],
   "source": [
    "plotting.waterfall_plot(sample_median_expression, s=1)"
   ]
  },
  {
   "cell_type": "code",
   "execution_count": null,
   "metadata": {},
   "outputs": [],
   "source": [
    "new_sample_median_expression = OmicsExpressionGenesExpectedCountModel_tpm.median(axis=1)\n",
    "plotting.waterfall_plot(new_sample_median_expression, s=1)"
   ]
  },
  {
   "cell_type": "code",
   "execution_count": null,
   "metadata": {},
   "outputs": [],
   "source": [
    "new_sample_median_expression.head()"
   ]
  },
  {
   "cell_type": "code",
   "execution_count": null,
   "metadata": {},
   "outputs": [],
   "source": [
    "fig, ax = plt.subplots(1, 2)\n",
    "fig.set_size_inches(16, 5)\n",
    "chrM_labels = OmicsExpressionProteinCodingGenesTPMLogp1.columns[OmicsExpressionProteinCodingGenesTPMLogp1.columns.str.contains(\"^MT-\")]\n",
    "highest_sample = OmicsExpressionProteinCodingGenesTPMLogp1.loc['ACH-001386', :]\n",
    "lowest_sample = OmicsExpressionProteinCodingGenesTPMLogp1.loc['ACH-000904', :]\n",
    "plotting.density_scatter(highest_sample,\n",
    "                         lowest_sample, ax=ax[0],\n",
    "                         label_specific=chrM_labels)\n",
    "sns.despine()\n",
    "                         \n",
    "ax[0].set_xlabel(\"Expression in ACH-001386\")\n",
    "ax[0].set_ylabel(\"Expression in ACH-000904\")\n",
    "ax[0].set_xlim(0, 18)\n",
    "ax[0].set_ylim(0, 18)\n",
    "\n",
    "highest_sample = OmicsExpressionProteinCodingGenesTPMLogp1.loc['ACH-001388', :]\n",
    "lowest_sample = OmicsExpressionProteinCodingGenesTPMLogp1.loc['ACH-000904', :]\n",
    "plotting.density_scatter(highest_sample,\n",
    "                         lowest_sample, ax=ax[1],\n",
    "                         label_specific=chrM_labels)\n",
    "sns.despine()\n",
    "                         \n",
    "ax[1].set_xlabel(\"Expression in ACH-001388\")\n",
    "ax[1].set_ylabel(\"Expression in ACH-000904\")\n",
    "ax[1].set_xlim(0, 18)\n",
    "ax[1].set_ylim(0, 18)"
   ]
  },
  {
   "cell_type": "code",
   "execution_count": null,
   "metadata": {},
   "outputs": [],
   "source": [
    "fig, ax = plt.subplots(1, 2)\n",
    "fig.set_size_inches(16, 5)\n",
    "chrM_labels = OmicsExpressionGenesExpectedCountModel_tpm.columns[OmicsExpressionGenesExpectedCountModel_tpm.columns.str.contains(\"^MT-\")]\n",
    "highest_sample = OmicsExpressionGenesExpectedCountModel_tpm.loc['ACH-001386', :]\n",
    "lowest_sample = OmicsExpressionGenesExpectedCountModel_tpm.loc['ACH-000904', :]\n",
    "plotting.density_scatter(highest_sample,\n",
    "                         lowest_sample, ax=ax[0],\n",
    "                         label_specific=chrM_labels)\n",
    "sns.despine()\n",
    "                         \n",
    "ax[0].set_xlabel(\"Expression in ACH-001386\")\n",
    "ax[0].set_ylabel(\"Expression in ACH-000904\")\n",
    "ax[0].set_xlim(0, 18)\n",
    "ax[0].set_ylim(0, 18)\n",
    "\n",
    "highest_sample = OmicsExpressionGenesExpectedCountModel_tpm.loc['ACH-001388', :]\n",
    "lowest_sample = OmicsExpressionGenesExpectedCountModel_tpm.loc['ACH-000904', :]\n",
    "plotting.density_scatter(highest_sample,\n",
    "                         lowest_sample, ax=ax[1],\n",
    "                         label_specific=chrM_labels)\n",
    "sns.despine()\n",
    "                         \n",
    "ax[1].set_xlabel(\"Expression in ACH-001388\")\n",
    "ax[1].set_ylabel(\"Expression in ACH-000904\")\n",
    "ax[1].set_xlim(0, 18)\n",
    "ax[1].set_ylim(0, 18)"
   ]
  },
  {
   "cell_type": "code",
   "execution_count": null,
   "metadata": {},
   "outputs": [],
   "source": [
    "fig, ax = plt.subplots()\n",
    "fig.set_size_inches(8, 5)\n",
    "plotting.density_scatter(OmicsExpressionProteinCodingGenesTPMLogp1.loc[:, :].median(axis=1),\n",
    "                         OmicsExpressionProteinCodingGenesTPMLogp1.loc[:, chrM_labels].median(axis=1),\n",
    "                         ax=ax)\n",
    "ax.set_ylabel(\"Mitochondrial median expression\")\n",
    "ax.set_xlabel(\"All gene median expression\")\n",
    "\n",
    "fig, ax = plt.subplots()\n",
    "fig.set_size_inches(8, 5)\n",
    "plotting.density_scatter(OmicsExpressionGenesExpectedCountModel_tpm.loc[:, :].median(axis=1),\n",
    "                         OmicsExpressionGenesExpectedCountModel_tpm.loc[:, chrM_labels].median(axis=1),\n",
    "                         ax=ax)\n",
    "ax.set_ylabel(\"Mitochondrial median expression\")\n",
    "ax.set_xlabel(\"All gene median expression\")"
   ]
  },
  {
   "cell_type": "markdown",
   "metadata": {},
   "source": [
    "# Apply the correction"
   ]
  },
  {
   "cell_type": "code",
   "execution_count": null,
   "metadata": {},
   "outputs": [],
   "source": [
    "def calculate_tpm_correct_chrM_log(counts_df, transcripts_length_df):\n",
    "    \"\"\"https://github.com/deweylab/RSEM/blob/8bc1e2115493c0cdf3c6bee80ef7a21a91b2acce/WriteResults.h#L77\"\"\"\n",
    "    assert counts_df.shape == transcripts_length_df.shape\n",
    "    EPSILON = 1e-300\n",
    "\n",
    "    chrM_labels = counts_df.columns.str.contains(\"^MT-\")\n",
    "    print(chrM_labels.sum())\n",
    "\n",
    "    denom = counts_df.loc[:, ~chrM_labels].sum(axis=1)\n",
    "    denom = denom.where(denom > EPSILON, 1)\n",
    "    print(denom.isnull().sum().sum())\n",
    "    frac = counts_df.div(denom, axis=0)\n",
    "    print(frac.isnull().sum().sum())\n",
    "\n",
    "    transcripts_length_df = transcripts_length_df.where(transcripts_length_df > EPSILON, 1)\n",
    "    fpkm = frac * 1e9 / transcripts_length_df\n",
    "    print(fpkm.isnull().sum().sum())\n",
    "\n",
    "    fpkm_sum = fpkm.loc[:, ~chrM_labels].sum(axis=1)\n",
    "    fpkm_denom = fpkm_sum.where(fpkm_sum > EPSILON, 1)\n",
    "    print(fpkm_denom.isnull().sum().sum())\n",
    "\n",
    "    tpm_df = (fpkm.div(fpkm_denom, axis=0)) * 1e6\n",
    "    print(tpm_df.isnull().sum().sum())\n",
    "    return np.log2(tpm_df+1)"
   ]
  },
  {
   "cell_type": "code",
   "execution_count": null,
   "metadata": {},
   "outputs": [],
   "source": [
    "OmicsExpressionGenesExpectedCountProfile_tpm_chrM = calculate_tpm_correct_chrM_log(OmicsExpressionGenesExpectedCountProfile, \n",
    "                                                                               OmicsExpressionAllGenesEffectiveLengthProfile_matched_genes)\n",
    "OmicsExpressionGenesExpectedCountProfile_tpm_chrM.columns = OmicsExpressionGenesExpectedCountProfile_tpm_chrM.columns.map(protcod_rename)\n",
    "OmicsExpressionGenesExpectedCountProfile_tpm_chrM = OmicsExpressionGenesExpectedCountProfile_tpm_chrM.loc[:, ~OmicsExpressionGenesExpectedCountProfile_tpm_chrM.columns.isnull()]\n",
    "\n",
    "OmicsExpressionGenesExpectedCountProfile_tpm_chrM.loc[:, \"Model\"] = OmicsExpressionGenesExpectedCountProfile_tpm_chrM.index.map(profile_to_model_dict)\n",
    "OmicsExpressionGenesExpectedCountModel_tpm_chrM = OmicsExpressionGenesExpectedCountProfile_tpm_chrM.set_index(\"Model\")\n",
    "OmicsExpressionGenesExpectedCountModel_tpm_chrM = OmicsExpressionGenesExpectedCountModel_tpm_chrM.loc[OmicsExpressionProteinCodingGenesTPMLogp1.index, :]"
   ]
  },
  {
   "cell_type": "code",
   "execution_count": null,
   "metadata": {},
   "outputs": [],
   "source": [
    "new_sample_median_expression = OmicsExpressionGenesExpectedCountModel_tpm_chrM.median(axis=1)\n",
    "plotting.waterfall_plot(new_sample_median_expression, s=1)"
   ]
  },
  {
   "cell_type": "code",
   "execution_count": null,
   "metadata": {},
   "outputs": [],
   "source": [
    "chrM_labels = OmicsExpressionGenesExpectedCountModel_tpm.columns[OmicsExpressionGenesExpectedCountModel_tpm.columns.str.contains(\"^MT-\")]\n",
    "\n",
    "fig, ax = plt.subplots()\n",
    "fig.set_size_inches(8, 5)\n",
    "plotting.density_scatter(OmicsExpressionGenesExpectedCountModel_tpm_chrM.loc[:, :].median(axis=1),\n",
    "                         OmicsExpressionGenesExpectedCountModel_tpm_chrM.loc[:, chrM_labels].median(axis=1),\n",
    "                         ax=ax)\n",
    "ax.set_ylabel(\"Mitochondrial median expression\")\n",
    "ax.set_xlabel(\"All gene median expression\")\n",
    "\n",
    "fig, ax = plt.subplots()\n",
    "fig.set_size_inches(8, 5)\n",
    "plotting.density_scatter(OmicsExpressionAllGenesTPMLogp1Profile.loc[:, :].median(axis=1),\n",
    "                         OmicsExpressionAllGenesTPMLogp1Profile.loc[:, chrM_labels].median(axis=1),\n",
    "                         ax=ax)\n",
    "ax.set_ylabel(\"Mitochondrial median expression\")\n",
    "ax.set_xlabel(\"All gene median expression\")"
   ]
  },
  {
   "cell_type": "code",
   "execution_count": null,
   "metadata": {},
   "outputs": [],
   "source": [
    "fig, ax = plt.subplots()\n",
    "fig.set_size_inches(8, 5)\n",
    "\n",
    "highest_sample = OmicsExpressionGenesExpectedCountModel_tpm_chrM.loc['ACH-001388', :]\n",
    "lowest_sample = OmicsExpressionGenesExpectedCountModel_tpm_chrM.loc['ACH-000904', :]\n",
    "plotting.density_scatter(highest_sample,\n",
    "                         lowest_sample, ax=ax,\n",
    "                         label_specific=chrM_labels)\n",
    "sns.despine()\n",
    "                         \n",
    "ax.set_xlabel(\"Expression in ACH-001388\")\n",
    "ax.set_ylabel(\"Expression in ACH-000904\")\n",
    "#ax[0].set_xlim(0, 18)\n",
    "#ax[0].set_ylim(0, 18)\n",
    "\n",
    "# fig, ax = plt.subplots()\n",
    "# fig.set_size_inches(8, 5)\n",
    "highest_sample = OmicsExpressionGenesExpectedCountModel_tpm.loc['ACH-001388', :]\n",
    "lowest_sample = OmicsExpressionGenesExpectedCountModel_tpm.loc['ACH-000904', :]\n",
    "plotting.density_scatter(highest_sample,\n",
    "                         lowest_sample, ax=ax,\n",
    "                         trend_line_args={'color': 'b'},\n",
    "                         label_specific=chrM_labels)\n",
    "sns.despine()\n",
    "                       \n",
    "ax.set_xlabel(\"Expression in ACH-001388\")\n",
    "ax.set_ylabel(\"Expression in ACH-000904\")\n",
    "#ax[1].set_xlim(0, 18)\n",
    "#ax[1].set_ylim(0, 18)"
   ]
  },
  {
   "cell_type": "code",
   "execution_count": null,
   "metadata": {},
   "outputs": [],
   "source": [
    "fig, ax = plt.subplots()\n",
    "fig.set_size_inches(8, 5)\n",
    "\n",
    "highest_sample = OmicsExpressionGenesExpectedCountModel_tpm_chrM.loc['ACH-001388', :]\n",
    "lowest_sample = OmicsExpressionGenesExpectedCountModel_tpm_chrM.loc['ACH-000904', :]\n",
    "plotting.density_scatter(highest_sample,\n",
    "                         lowest_sample, ax=ax,\n",
    "                         label_specific=chrM_labels)\n",
    "sns.despine()\n",
    "                         \n",
    "ax.set_xlabel(\"Expression in ACH-001388\")\n",
    "ax.set_ylabel(\"Expression in ACH-000904\")\n",
    "#ax[0].set_xlim(0, 18)\n",
    "#ax[0].set_ylim(0, 18)\n",
    "\n",
    "fig, ax = plt.subplots()\n",
    "fig.set_size_inches(8, 5)\n",
    "highest_sample = OmicsExpressionGenesExpectedCountModel_tpm.loc['ACH-001388', :]\n",
    "lowest_sample = OmicsExpressionGenesExpectedCountModel_tpm.loc['ACH-000904', :]\n",
    "plotting.density_scatter(highest_sample,\n",
    "                         lowest_sample, ax=ax,\n",
    "                         trend_line_args={'color': 'b'},\n",
    "                         label_specific=chrM_labels)\n",
    "sns.despine()\n",
    "                       \n",
    "ax.set_xlabel(\"Expression in ACH-001388\")\n",
    "ax.set_ylabel(\"Expression in ACH-000904\")\n",
    "#ax[1].set_xlim(0, 18)\n",
    "#ax[1].set_ylim(0, 18)"
   ]
  },
  {
   "cell_type": "code",
   "execution_count": null,
   "metadata": {},
   "outputs": [],
   "source": [
    "fig, ax = plt.subplots()\n",
    "fig.set_size_inches(8, 5)\n",
    "\n",
    "highest_sample = OmicsExpressionGenesExpectedCountModel_tpm_chrM.loc['ACH-000399', :]\n",
    "lowest_sample = OmicsExpressionGenesExpectedCountModel_tpm_chrM.loc['ACH-003106', :]\n",
    "plotting.density_scatter(highest_sample,\n",
    "                         lowest_sample, ax=ax,\n",
    "                         label_specific=chrM_labels)\n",
    "sns.despine()\n",
    "                         \n",
    "ax.set_xlabel(\"Expression in ACH-00039\")\n",
    "ax.set_ylabel(\"Expression in ACH-003106\")\n",
    "#ax[0].set_xlim(0, 18)\n",
    "#ax[0].set_ylim(0, 18)\n",
    "\n",
    "# fig, ax = plt.subplots()\n",
    "# fig.set_size_inches(8, 5)\n",
    "highest_sample = OmicsExpressionGenesExpectedCountModel_tpm.loc['ACH-000399', :]\n",
    "lowest_sample = OmicsExpressionGenesExpectedCountModel_tpm.loc['ACH-003106', :]\n",
    "plotting.density_scatter(highest_sample,\n",
    "                         lowest_sample, ax=ax,\n",
    "                         trend_line_args={'color': 'b'},\n",
    "                         label_specific=chrM_labels)\n",
    "sns.despine()\n",
    "                       \n",
    "ax.set_xlabel(\"Expression in ACH-00039\")\n",
    "ax.set_ylabel(\"Expression in ACH-003106\")\n",
    "#ax[1].set_xlim(0, 18)\n",
    "#ax[1].set_ylim(0, 18)"
   ]
  },
  {
   "cell_type": "markdown",
   "metadata": {},
   "source": [
    "## Upload this new version of datasets"
   ]
  },
  {
   "cell_type": "code",
   "execution_count": null,
   "metadata": {},
   "outputs": [],
   "source": [
    "OmicsExpressionGenesExpectedCountModel_tpm_chrM.to_csv(\"OmicsExpressionGenesExpectedCountModel_tpm_chrM.csv\")"
   ]
  },
  {
   "cell_type": "code",
   "execution_count": null,
   "metadata": {},
   "outputs": [],
   "source": [
    "update = True\n",
    "if update:\n",
    "   new_dataset_id = tc.update_dataset(\n",
    "        dataset_id=\"post-23q4-gene-expression-renormalization-chrm-8a6b\",\n",
    "        changes_description=\"post 23Q4 adjust gene expression normalization 2\",\n",
    "        upload_files=[\n",
    "            {\n",
    "                \"path\": \"OmicsExpressionGenesExpectedCountModel_tpm_chrM.csv\",\n",
    "                \"name\": \"OmicsExpressionGenesExpectedCountModel_tpm_chrM\", # optional, will use file name if not provided\n",
    "                \"format\": \"NumericMatrixCSV\", # or \"NumericMatrixCSV\" or \"TableCSV\"\n",
    "                \"encoding\": \"utf-8\" # optional (but recommended), will use iso-8859-1 if not provided\n",
    "            }\n",
    "        ],\n",
    "        upload_async=False,\n",
    "        dataset_description=\"post 23Q4 adjust gene expression normalization\",\n",
    "   )\n",
    "else:\n",
    "   new_dataset_id = tc.create_dataset(\n",
    "       \"post-23q4-gene-expression-renormalization-chrM\",\n",
    "       dataset_description=\"post 23Q4 adjust gene expression normalization\",\n",
    "       upload_files=[\n",
    "           {\n",
    "               \"path\": \"OmicsExpressionGenesExpectedCountModel_tpm_chrM.csv\",\n",
    "               \"name\": \"OmicsExpressionGenesExpectedCountModel_tpm_chrM\", # optional, will use file name if not provided\n",
    "               \"format\": \"NumericMatrixCSV\", # or \"NumericMatrixCSV\" or \"TableCSV\"\n",
    "               \"encoding\": \"utf-8\" # optional (but recommended), will use iso-8859-1 if not provided\n",
    "           }\n",
    "       ],\n",
    "       folder_id=\"a9eedc220a6a4e70b8f1e64d2e57ed87\", # optional, will default to your home folder if not provided\n",
    "   )\n",
    "\n",
    "new_dataset_id"
   ]
  },
  {
   "cell_type": "markdown",
   "metadata": {},
   "source": [
    "# Square root normalization"
   ]
  },
  {
   "cell_type": "code",
   "execution_count": null,
   "metadata": {},
   "outputs": [],
   "source": [
    "def calculate_tpm_correct_chrM(counts_df, transcripts_length_df, chrM=True):\n",
    "    \"\"\"https://github.com/deweylab/RSEM/blob/8bc1e2115493c0cdf3c6bee80ef7a21a91b2acce/WriteResults.h#L77\"\"\"\n",
    "    assert counts_df.shape == transcripts_length_df.shape\n",
    "    EPSILON = 1e-300\n",
    "\n",
    "    chrM_labels = counts_df.columns.str.contains(\"^MT-\")\n",
    "    print(chrM_labels.sum())\n",
    "\n",
    "    if chrM:\n",
    "        denom = counts_df.loc[:, ~chrM_labels].sum(axis=1)\n",
    "    else:\n",
    "        denom = counts_df.sum(axis=1)\n",
    "\n",
    "    denom = denom.where(denom > EPSILON, 1)\n",
    "    print(denom.isnull().sum().sum())\n",
    "    frac = counts_df.div(denom, axis=0)\n",
    "    print(frac.isnull().sum().sum())\n",
    "\n",
    "    transcripts_length_df = transcripts_length_df.where(transcripts_length_df > EPSILON, 1)\n",
    "    fpkm = frac * 1e9 / transcripts_length_df\n",
    "    print(fpkm.isnull().sum().sum())\n",
    "\n",
    "    if chrM:\n",
    "        fpkm_sum = fpkm.loc[:, ~chrM_labels].sum(axis=1)\n",
    "    else:\n",
    "        fpkm_sum = fpkm.sum(axis=1)\n",
    "\n",
    "    fpkm_denom = fpkm_sum.where(fpkm_sum > EPSILON, 1)\n",
    "    print(fpkm_denom.isnull().sum().sum())\n",
    "\n",
    "    tpm_df = (fpkm.div(fpkm_denom, axis=0)) * 1e6\n",
    "    print(tpm_df.isnull().sum().sum())\n",
    "    return np.sqrt(tpm_df+1)"
   ]
  },
  {
   "cell_type": "code",
   "execution_count": null,
   "metadata": {},
   "outputs": [],
   "source": [
    "OmicsExpressionGenesExpectedCountProfile_tpm_sqrt = calculate_tpm_correct_chrM(OmicsExpressionGenesExpectedCountProfile, \n",
    "                                                                               OmicsExpressionAllGenesEffectiveLengthProfile_matched_genes, chrM=False)\n",
    "OmicsExpressionGenesExpectedCountProfile_tpm_sqrt.columns = OmicsExpressionGenesExpectedCountProfile_tpm_sqrt.columns.map(protcod_rename)\n",
    "OmicsExpressionGenesExpectedCountProfile_tpm_sqrt = OmicsExpressionGenesExpectedCountProfile_tpm_sqrt.loc[:, ~OmicsExpressionGenesExpectedCountProfile_tpm_sqrt.columns.isnull()]\n",
    "\n",
    "OmicsExpressionGenesExpectedCountProfile_tpm_sqrt.loc[:, \"Model\"] = OmicsExpressionGenesExpectedCountProfile_tpm_sqrt.index.map(profile_to_model_dict)\n",
    "OmicsExpressionGenesExpectedCountModel_tpm_sqrt = OmicsExpressionGenesExpectedCountProfile_tpm_sqrt.set_index(\"Model\")\n",
    "OmicsExpressionGenesExpectedCountModel_tpm_sqrt = OmicsExpressionGenesExpectedCountModel_tpm_sqrt.loc[OmicsExpressionProteinCodingGenesTPMLogp1.index, :]"
   ]
  },
  {
   "cell_type": "code",
   "execution_count": null,
   "metadata": {},
   "outputs": [],
   "source": [
    "OmicsExpressionGenesExpectedCountProfile_tpm_chrM = calculate_tpm_correct_chrM(OmicsExpressionGenesExpectedCountProfile, \n",
    "                                                                               OmicsExpressionAllGenesEffectiveLengthProfile_matched_genes)\n",
    "OmicsExpressionGenesExpectedCountProfile_tpm_chrM.columns = OmicsExpressionGenesExpectedCountProfile_tpm_chrM.columns.map(protcod_rename)\n",
    "OmicsExpressionGenesExpectedCountProfile_tpm_chrM = OmicsExpressionGenesExpectedCountProfile_tpm_chrM.loc[:, ~OmicsExpressionGenesExpectedCountProfile_tpm_chrM.columns.isnull()]\n",
    "\n",
    "OmicsExpressionGenesExpectedCountProfile_tpm_chrM.loc[:, \"Model\"] = OmicsExpressionGenesExpectedCountProfile_tpm_chrM.index.map(profile_to_model_dict)\n",
    "OmicsExpressionGenesExpectedCountModel_tpm_chrM = OmicsExpressionGenesExpectedCountProfile_tpm_chrM.set_index(\"Model\")\n",
    "OmicsExpressionGenesExpectedCountModel_tpm_chrM = OmicsExpressionGenesExpectedCountModel_tpm_chrM.loc[OmicsExpressionProteinCodingGenesTPMLogp1.index, :]"
   ]
  },
  {
   "cell_type": "code",
   "execution_count": null,
   "metadata": {},
   "outputs": [],
   "source": [
    "chrM_labels = OmicsExpressionGenesExpectedCountModel_tpm_chrM.columns[OmicsExpressionGenesExpectedCountModel_tpm_chrM.columns.str.contains(\"^MT-\")]\n",
    "\n",
    "fig, ax = plt.subplots()\n",
    "fig.set_size_inches(8, 5)\n",
    "plotting.density_scatter(OmicsExpressionGenesExpectedCountModel_tpm_chrM.loc[:, :].median(axis=1),\n",
    "                         OmicsExpressionGenesExpectedCountModel_tpm_chrM.loc[:, chrM_labels].median(axis=1),\n",
    "                         ax=ax)\n",
    "ax.set_ylabel(\"Mitochondrial median expression\")\n",
    "ax.set_xlabel(\"All gene median expression\")\n",
    "#ax.set_ylim(0, 200)\n",
    "\n",
    "fig, ax = plt.subplots()\n",
    "fig.set_size_inches(8, 5)\n",
    "plotting.density_scatter(OmicsExpressionAllGenesTPMLogp1Profile.loc[:, :].median(axis=1),\n",
    "                         OmicsExpressionAllGenesTPMLogp1Profile.loc[:, chrM_labels].median(axis=1),\n",
    "                         ax=ax)\n",
    "ax.set_ylabel(\"Mitochondrial median expression\")\n",
    "ax.set_xlabel(\"All gene median expression\")"
   ]
  },
  {
   "cell_type": "code",
   "execution_count": null,
   "metadata": {},
   "outputs": [],
   "source": [
    "chrM_labels = OmicsExpressionGenesExpectedCountModel_tpm_sqrt.columns[OmicsExpressionGenesExpectedCountModel_tpm_sqrt.columns.str.contains(\"^MT-\")]\n",
    "\n",
    "fig, ax = plt.subplots()\n",
    "fig.set_size_inches(8, 5)\n",
    "plotting.density_scatter(OmicsExpressionGenesExpectedCountModel_tpm_sqrt.loc[:, :].median(axis=1),\n",
    "                         OmicsExpressionGenesExpectedCountModel_tpm_sqrt.loc[:, chrM_labels].median(axis=1),\n",
    "                         ax=ax)\n",
    "ax.set_ylabel(\"Mitochondrial median expression\")\n",
    "ax.set_xlabel(\"All gene median expression\")\n",
    "#ax.set_ylim(0, 200)\n",
    "\n",
    "fig, ax = plt.subplots()\n",
    "fig.set_size_inches(8, 5)\n",
    "plotting.density_scatter(OmicsExpressionAllGenesTPMLogp1Profile.loc[:, :].median(axis=1),\n",
    "                         OmicsExpressionAllGenesTPMLogp1Profile.loc[:, chrM_labels].median(axis=1),\n",
    "                         ax=ax)\n",
    "ax.set_ylabel(\"Mitochondrial median expression\")\n",
    "ax.set_xlabel(\"All gene median expression\")"
   ]
  },
  {
   "cell_type": "code",
   "execution_count": null,
   "metadata": {},
   "outputs": [],
   "source": [
    "fig, ax = plt.subplots()\n",
    "fig.set_size_inches(8, 5)\n",
    "\n",
    "highest_sample = OmicsExpressionGenesExpectedCountModel_tpm_chrM.loc['ACH-001388', :]\n",
    "lowest_sample = OmicsExpressionGenesExpectedCountModel_tpm_chrM.loc['ACH-000904', :]\n",
    "plotting.density_scatter(highest_sample,\n",
    "                         lowest_sample, ax=ax,\n",
    "                         label_specific=chrM_labels)\n",
    "sns.despine()\n",
    "                         \n",
    "ax.set_xlabel(\"Expression in ACH-001388\")\n",
    "ax.set_ylabel(\"Expression in ACH-000904\")\n",
    "#ax[0].set_xlim(0, 18)\n",
    "#ax[0].set_ylim(0, 18)\n",
    "\n",
    "fig, ax = plt.subplots()\n",
    "fig.set_size_inches(8, 5)\n",
    "highest_sample = OmicsExpressionGenesExpectedCountModel_tpm.loc['ACH-001388', :]\n",
    "lowest_sample = OmicsExpressionGenesExpectedCountModel_tpm.loc['ACH-000904', :]\n",
    "plotting.density_scatter(highest_sample,\n",
    "                         lowest_sample, ax=ax,\n",
    "                         trend_line_args={'color': 'b'},\n",
    "                         label_specific=chrM_labels)\n",
    "sns.despine()\n",
    "                       \n",
    "ax.set_xlabel(\"Expression in ACH-001388\")\n",
    "ax.set_ylabel(\"Expression in ACH-000904\")\n",
    "#ax[1].set_xlim(0, 18)\n",
    "#ax[1].set_ylim(0, 18)"
   ]
  },
  {
   "cell_type": "code",
   "execution_count": null,
   "metadata": {},
   "outputs": [],
   "source": [
    "fig, ax = plt.subplots()\n",
    "fig.set_size_inches(8, 5)\n",
    "\n",
    "highest_sample = OmicsExpressionGenesExpectedCountModel_tpm_sqrt.loc['ACH-001388', :]\n",
    "lowest_sample = OmicsExpressionGenesExpectedCountModel_tpm_sqrt.loc['ACH-000904', :]\n",
    "plotting.density_scatter(highest_sample,\n",
    "                         lowest_sample, ax=ax,\n",
    "                         label_specific=chrM_labels)\n",
    "sns.despine()\n",
    "                         \n",
    "ax.set_xlabel(\"Expression in ACH-001388\")\n",
    "ax.set_ylabel(\"Expression in ACH-000904\")\n",
    "#ax[0].set_xlim(0, 18)\n",
    "#ax[0].set_ylim(0, 18)\n",
    "\n",
    "fig, ax = plt.subplots()\n",
    "fig.set_size_inches(8, 5)\n",
    "highest_sample = OmicsExpressionGenesExpectedCountModel_tpm.loc['ACH-001388', :]\n",
    "lowest_sample = OmicsExpressionGenesExpectedCountModel_tpm.loc['ACH-000904', :]\n",
    "plotting.density_scatter(highest_sample,\n",
    "                         lowest_sample, ax=ax,\n",
    "                         trend_line_args={'color': 'b'},\n",
    "                         label_specific=chrM_labels)\n",
    "sns.despine()\n",
    "                       \n",
    "ax.set_xlabel(\"Expression in ACH-001388\")\n",
    "ax.set_ylabel(\"Expression in ACH-000904\")\n",
    "#ax[1].set_xlim(0, 18)\n",
    "#ax[1].set_ylim(0, 18)"
   ]
  },
  {
   "cell_type": "code",
   "execution_count": null,
   "metadata": {},
   "outputs": [],
   "source": [
    "OmicsExpressionGenesExpectedCountModel_tpm_chrM.to_csv(\"OmicsExpressionGenesExpectedCountModel_tpm_chrM_sqrt.csv\")"
   ]
  },
  {
   "cell_type": "code",
   "execution_count": null,
   "metadata": {},
   "outputs": [],
   "source": [
    "update = True\n",
    "if update:\n",
    "   new_dataset_id = tc.update_dataset(\n",
    "        dataset_id=\"post-23q4-gene-expression-renormalization-chrm-sqrt-e82f\",\n",
    "        changes_description=\"post 23Q4 adjust gene expression normalization square root normalization after removing chrM from denomitor\",\n",
    "        upload_files=[\n",
    "            {\n",
    "                \"path\": \"OmicsExpressionGenesExpectedCountModel_tpm_chrM_sqrt.csv\",\n",
    "                \"name\": \"OmicsExpressionGenesExpectedCountModel_tpm_chrM_sqrt\", # optional, will use file name if not provided\n",
    "                \"format\": \"NumericMatrixCSV\", # or \"NumericMatrixCSV\" or \"TableCSV\"\n",
    "                \"encoding\": \"utf-8\" # optional (but recommended), will use iso-8859-1 if not provided\n",
    "            }\n",
    "        ],\n",
    "        upload_async=False,\n",
    "        dataset_description=\"post 23Q4 adjust gene expression normalization after removing chrM\",\n",
    "   )\n",
    "else:\n",
    "   new_dataset_id = tc.create_dataset(\n",
    "       \"post-23q4-gene-expression-renormalization-chrM-sqrt\",\n",
    "       dataset_description=\"post 23Q4 adjust gene expression normalization\",\n",
    "       upload_files=[\n",
    "           {\n",
    "               \"path\": \"OmicsExpressionGenesExpectedCountModel_tpm_chrM_sqrt.csv\",\n",
    "               \"name\": \"OmicsExpressionGenesExpectedCountModel_tpm_chrM_sqrt\", # optional, will use file name if not provided\n",
    "               \"format\": \"NumericMatrixCSV\", # or \"NumericMatrixCSV\" or \"TableCSV\"\n",
    "               \"encoding\": \"utf-8\" # optional (but recommended), will use iso-8859-1 if not provided\n",
    "           }\n",
    "       ],\n",
    "       folder_id=\"a9eedc220a6a4e70b8f1e64d2e57ed87\", # optional, will default to your home folder if not provided\n",
    "   )\n",
    "\n",
    "new_dataset_id"
   ]
  },
  {
   "cell_type": "code",
   "execution_count": null,
   "metadata": {},
   "outputs": [],
   "source": [
    "OmicsExpressionGenesExpectedCountModel_tpm_sqrt.to_csv(\"OmicsExpressionGenesExpectedCountModel_tpm_sqrt.csv\")"
   ]
  },
  {
   "cell_type": "code",
   "execution_count": null,
   "metadata": {},
   "outputs": [],
   "source": [
    "update = False\n",
    "if update:\n",
    "   new_dataset_id = tc.update_dataset(\n",
    "        dataset_id=\"post-23q4-gene-expression-renormalization-chrm-sqrt-e82f\",\n",
    "        changes_description=\"post 23Q4 adjust gene expression normalization square root normalization after removing chrM from denomitor\",\n",
    "        upload_files=[\n",
    "            {\n",
    "                \"path\": \"OmicsExpressionGenesExpectedCountModel_tpm_chrM_sqrt.csv\",\n",
    "                \"name\": \"OmicsExpressionGenesExpectedCountModel_tpm_chrM_sqrt\", # optional, will use file name if not provided\n",
    "                \"format\": \"NumericMatrixCSV\", # or \"NumericMatrixCSV\" or \"TableCSV\"\n",
    "                \"encoding\": \"utf-8\" # optional (but recommended), will use iso-8859-1 if not provided\n",
    "            }\n",
    "        ],\n",
    "        upload_async=False,\n",
    "        dataset_description=\"post 23Q4 adjust gene expression normalization after removing chrM\",\n",
    "   )\n",
    "else:\n",
    "   new_dataset_id = tc.create_dataset(\n",
    "       \"post-23q4-gene-expression-renormalization-sqrt\",\n",
    "       dataset_description=\"post 23Q4 adjust gene expression normalization\",\n",
    "       upload_files=[\n",
    "           {\n",
    "               \"path\": \"OmicsExpressionGenesExpectedCountModel_tpm_sqrt.csv\",\n",
    "               \"name\": \"OmicsExpressionGenesExpectedCountModel_tpm_sqrt\", # optional, will use file name if not provided\n",
    "               \"format\": \"NumericMatrixCSV\", # or \"NumericMatrixCSV\" or \"TableCSV\"\n",
    "               \"encoding\": \"utf-8\" # optional (but recommended), will use iso-8859-1 if not provided\n",
    "           }\n",
    "       ],\n",
    "       folder_id=\"a9eedc220a6a4e70b8f1e64d2e57ed87\", # optional, will default to your home folder if not provided\n",
    "   )\n",
    "\n",
    "new_dataset_id"
   ]
  },
  {
   "cell_type": "markdown",
   "metadata": {},
   "source": [
    "# Aggregate read count table for testing"
   ]
  },
  {
   "cell_type": "code",
   "execution_count": null,
   "metadata": {},
   "outputs": [],
   "source": [
    "import pandas as pd\n",
    "import dalmatian as dm"
   ]
  },
  {
   "cell_type": "code",
   "execution_count": null,
   "metadata": {},
   "outputs": [],
   "source": [
    "wm = dm.WorkspaceManager(\"broad-firecloud-ccle/DEV_DepMap_hg38_RNAseq\")\n",
    "terra_rnaseq_df = wm.get_samples()"
   ]
  },
  {
   "cell_type": "code",
   "execution_count": null,
   "metadata": {},
   "outputs": [],
   "source": [
    "def load_rnaseqc(terra_path):\n",
    "    rnaseqc_count_df = pd.read_csv(terra_path, sep='\\t', skiprows=2)\n",
    "    rnaseqc_count_df = rnaseqc_count_df.set_index(rnaseqc_count_df.apply(lambda x: f\"{x[1]} ({x[0].split('.')[0]})\", axis=1))\n",
    "    rnaseqc_count_df = rnaseqc_count_df.drop([\"Name\", \"Description\"], axis=1)\n",
    "    return rnaseqc_count_df"
   ]
  },
  {
   "cell_type": "code",
   "execution_count": null,
   "metadata": {},
   "outputs": [],
   "source": [
    "from multiprocessing import Pool\n",
    "pool = Pool(8)\n",
    "rnaseqc_count_dfs = pool.map(load_rnaseqc, terra_rnaseq_df.rnaseqc2_gene_counts)"
   ]
  },
  {
   "cell_type": "code",
   "execution_count": null,
   "metadata": {},
   "outputs": [],
   "source": [
    "pool.close()"
   ]
  },
  {
   "cell_type": "code",
   "execution_count": null,
   "metadata": {},
   "outputs": [],
   "source": [
    "rnaseqc_count_mat = pd.concat(rnaseqc_count_dfs, axis=1)"
   ]
  },
  {
   "cell_type": "code",
   "execution_count": null,
   "metadata": {},
   "outputs": [],
   "source": [
    "rnaseqc_count_mat = rnaseqc_count_mat.T"
   ]
  },
  {
   "cell_type": "code",
   "execution_count": null,
   "metadata": {},
   "outputs": [],
   "source": [
    "rnaseqc_count_mat.shape"
   ]
  },
  {
   "cell_type": "code",
   "execution_count": null,
   "metadata": {},
   "outputs": [],
   "source": [
    "import pickle\n",
    "with open(\"/home/ubuntu/pr_table.pkl\", \"rb\") as input_file:\n",
    "    pr_dict = pickle.load(input_file)"
   ]
  },
  {
   "cell_type": "code",
   "execution_count": null,
   "metadata": {},
   "outputs": [],
   "source": [
    "rnaseqc_count_mat.index = rnaseqc_count_mat.index.map(pr_dict)"
   ]
  },
  {
   "cell_type": "code",
   "execution_count": null,
   "metadata": {},
   "outputs": [],
   "source": [
    "rnaseqc_count_mat.head()"
   ]
  },
  {
   "cell_type": "code",
   "execution_count": null,
   "metadata": {},
   "outputs": [],
   "source": [
    "rnaseqc_count_mat = rnaseqc_count_mat.loc[~rnaseqc_count_mat.index.isnull(), :]"
   ]
  },
  {
   "cell_type": "code",
   "execution_count": null,
   "metadata": {},
   "outputs": [],
   "source": [
    "rnaseqc_count_mat.shape"
   ]
  },
  {
   "cell_type": "code",
   "execution_count": null,
   "metadata": {},
   "outputs": [],
   "source": [
    "rnaseqc_count_lengths = OmicsExpressionAllGenesEffectiveLengthProfile.loc[:, np.intersect1d(rnaseqc_count_mat.columns, OmicsExpressionAllGenesEffectiveLengthProfile.columns)]"
   ]
  },
  {
   "cell_type": "code",
   "execution_count": null,
   "metadata": {},
   "outputs": [],
   "source": [
    "rnaseqc_count_mat.shape, rnaseqc_count_lengths.shape"
   ]
  },
  {
   "cell_type": "code",
   "execution_count": null,
   "metadata": {},
   "outputs": [],
   "source": [
    "rnaseqc_count_lengths = rnaseqc_count_lengths.loc[np.intersect1d(rnaseqc_count_mat.index, rnaseqc_count_lengths.index), :]"
   ]
  },
  {
   "cell_type": "code",
   "execution_count": null,
   "metadata": {},
   "outputs": [],
   "source": [
    "rnaseqc_count_lengths.shape"
   ]
  },
  {
   "cell_type": "code",
   "execution_count": null,
   "metadata": {},
   "outputs": [],
   "source": [
    "rnaseqc_count_mat = rnaseqc_count_mat.loc[rnaseqc_count_lengths.index, :]"
   ]
  },
  {
   "cell_type": "code",
   "execution_count": null,
   "metadata": {},
   "outputs": [],
   "source": [
    "rnaseqc_count_mat = rnaseqc_count_mat.loc[:, rnaseqc_count_lengths.columns]"
   ]
  },
  {
   "cell_type": "code",
   "execution_count": null,
   "metadata": {},
   "outputs": [],
   "source": [
    "rnaseqc_count_mat.shape"
   ]
  },
  {
   "cell_type": "code",
   "execution_count": null,
   "metadata": {},
   "outputs": [],
   "source": [
    "rnaseqc_count_mat = rnaseqc_count_mat.loc[:, ~rnaseqc_count_mat.columns.duplicated()]"
   ]
  },
  {
   "cell_type": "code",
   "execution_count": null,
   "metadata": {},
   "outputs": [],
   "source": [
    "rnaseqc_count_mat.shape"
   ]
  },
  {
   "cell_type": "code",
   "execution_count": null,
   "metadata": {},
   "outputs": [],
   "source": [
    "rnaseqc_count_mat.head()"
   ]
  },
  {
   "cell_type": "code",
   "execution_count": null,
   "metadata": {},
   "outputs": [],
   "source": [
    "rnaseqc_count_mat.to_csv(\"rnaseqc_count_mat.csv\")"
   ]
  },
  {
   "cell_type": "code",
   "execution_count": null,
   "metadata": {},
   "outputs": [],
   "source": [
    "update = False\n",
    "if update:\n",
    "   new_dataset_id = tc.update_dataset(\n",
    "        dataset_id=\"post-23q4-gene-expression-renormalization-chrm-8a6b\",\n",
    "        changes_description=\"post 23Q4 adjust gene expression normalization 2\",\n",
    "        upload_files=[\n",
    "            {\n",
    "                \"path\": \"OmicsExpressionGenesExpectedCountModel_tpm_chrM_sqrt.csv\",\n",
    "                \"name\": \"OmicsExpressionGenesExpectedCountModel_tpm_chrM\", # optional, will use file name if not provided\n",
    "                \"format\": \"NumericMatrixCSV\", # or \"NumericMatrixCSV\" or \"TableCSV\"\n",
    "                \"encoding\": \"utf-8\" # optional (but recommended), will use iso-8859-1 if not provided\n",
    "            }\n",
    "        ],\n",
    "        upload_async=False,\n",
    "        dataset_description=\"post 23Q4 adjust gene expression normalization\",\n",
    "   )\n",
    "else:\n",
    "   new_dataset_id = tc.create_dataset(\n",
    "       \"rnqseqc2_gene_count_profile\",\n",
    "       dataset_description=\"rnqseqc2 count profile\",\n",
    "       upload_files=[\n",
    "           {\n",
    "               \"path\": \"rnaseqc_count_mat.csv\",\n",
    "               \"name\": \"rnqseqc2_gene_count_profile\", # optional, will use file name if not provided\n",
    "               \"format\": \"NumericMatrixCSV\", # or \"NumericMatrixCSV\" or \"TableCSV\"\n",
    "               \"encoding\": \"utf-8\" # optional (but recommended), will use iso-8859-1 if not provided\n",
    "           }\n",
    "       ],\n",
    "       folder_id=\"a9eedc220a6a4e70b8f1e64d2e57ed87\", # optional, will default to your home folder if not provided\n",
    "   )\n",
    "\n",
    "new_dataset_id"
   ]
  },
  {
   "cell_type": "code",
   "execution_count": null,
   "metadata": {},
   "outputs": [],
   "source": [
    "rnaseqc_count_mat_tpm = calculate_tpm_correct_chrM_log(rnaseqc_count_mat, rnaseqc_count_lengths)"
   ]
  },
  {
   "cell_type": "code",
   "execution_count": null,
   "metadata": {},
   "outputs": [],
   "source": [
    "rnaseqc_count_mat_tpm.head()"
   ]
  },
  {
   "cell_type": "code",
   "execution_count": null,
   "metadata": {},
   "outputs": [],
   "source": [
    "rnaseqc_count_mat_tpm.columns = rnaseqc_count_mat_tpm.columns.map(protcod_rename)\n",
    "rnaseqc_count_mat_tpm = rnaseqc_count_mat_tpm.loc[:, ~rnaseqc_count_mat_tpm.columns.isnull()]"
   ]
  },
  {
   "cell_type": "code",
   "execution_count": null,
   "metadata": {},
   "outputs": [],
   "source": [
    "rnaseqc_count_mat_tpm.shape"
   ]
  },
  {
   "cell_type": "code",
   "execution_count": null,
   "metadata": {},
   "outputs": [],
   "source": [
    "rnaseqc_count_mat_tpm.index = rnaseqc_count_mat_tpm.index.map(profile_to_model_dict)"
   ]
  },
  {
   "cell_type": "code",
   "execution_count": null,
   "metadata": {},
   "outputs": [],
   "source": [
    "rnaseqc_count_mat_tpm.shape"
   ]
  },
  {
   "cell_type": "code",
   "execution_count": null,
   "metadata": {},
   "outputs": [],
   "source": [
    "rnaseqc_count_mat_tpm = rnaseqc_count_mat_tpm.loc[~rnaseqc_count_mat_tpm.index.isnull(), :]"
   ]
  },
  {
   "cell_type": "code",
   "execution_count": null,
   "metadata": {},
   "outputs": [],
   "source": [
    "rnaseqc_count_mat_tpm.shape"
   ]
  },
  {
   "cell_type": "code",
   "execution_count": null,
   "metadata": {},
   "outputs": [],
   "source": [
    "new_sample_median_expression = rnaseqc_count_mat_tpm.median(axis=1)\n",
    "plotting.waterfall_plot(new_sample_median_expression, s=1)"
   ]
  },
  {
   "cell_type": "code",
   "execution_count": null,
   "metadata": {},
   "outputs": [],
   "source": [
    "fig, ax = plt.subplots()\n",
    "fig.set_size_inches(8, 5)\n",
    "chrM_labels = rnaseqc_count_mat_tpm.columns[rnaseqc_count_mat_tpm.columns.str.contains(\"^MT-\")]\n",
    "\n",
    "plotting.density_scatter(rnaseqc_count_mat_tpm.loc[:, :].median(axis=1),\n",
    "                         rnaseqc_count_mat_tpm.loc[:, chrM_labels].median(axis=1),\n",
    "                         ax=ax)\n",
    "ax.set_ylabel(\"Mitochondrial median expression\")\n",
    "ax.set_xlabel(\"All gene median expression\")"
   ]
  },
  {
   "cell_type": "code",
   "execution_count": null,
   "metadata": {},
   "outputs": [],
   "source": [
    "fig, ax = plt.subplots(1, 2)\n",
    "fig.set_size_inches(16, 5)\n",
    "chrM_labels = rnaseqc_count_mat_tpm.columns[rnaseqc_count_mat_tpm.columns.str.contains(\"^MT-\")]\n",
    "highest_sample = rnaseqc_count_mat_tpm.loc['ACH-001386', :]\n",
    "lowest_sample = rnaseqc_count_mat_tpm.loc['ACH-000904', :]\n",
    "plotting.density_scatter(highest_sample,\n",
    "                         lowest_sample, ax=ax[0],\n",
    "                         label_specific=chrM_labels)\n",
    "sns.despine()\n",
    "                         \n",
    "ax[0].set_xlabel(\"Expression in ACH-001386\")\n",
    "ax[0].set_ylabel(\"Expression in ACH-000904\")\n",
    "ax[0].set_xlim(0, 18)\n",
    "ax[0].set_ylim(0, 18)\n",
    "\n",
    "\n",
    "highest_sample = rnaseqc_count_mat_tpm.loc['ACH-000399', :]\n",
    "lowest_sample = rnaseqc_count_mat_tpm.loc['ACH-001097', :]\n",
    "\n",
    "plotting.density_scatter(highest_sample,\n",
    "                         lowest_sample, ax=ax[1],\n",
    "                         label_specific=chrM_labels)\n",
    "sns.despine()\n",
    "                         \n",
    "ax[1].set_xlabel(\"Expression in ACH-000399\")\n",
    "ax[1].set_ylabel(\"Expression in ACH-001097\")\n",
    "ax[1].set_xlim(0, 18)\n",
    "ax[1].set_ylim(0, 18)"
   ]
  }
 ],
 "metadata": {
  "kernelspec": {
   "display_name": "cds-omics",
   "language": "python",
   "name": "python3"
  },
  "language_info": {
   "codemirror_mode": {
    "name": "ipython",
    "version": 3
   },
   "file_extension": ".py",
   "mimetype": "text/x-python",
   "name": "python",
   "nbconvert_exporter": "python",
   "pygments_lexer": "ipython3",
   "version": "3.9.0"
  }
 },
 "nbformat": 4,
 "nbformat_minor": 2
}
