{
 "cells": [
  {
   "cell_type": "code",
   "execution_count": null,
   "id": "55103068",
   "metadata": {},
   "outputs": [],
   "source": [
    "from depmapomics import tracker\n",
    "from genepy.terra import shareCCLEbams\n",
    "\n",
    "trackerobj = tracker.initTracker()\n",
    "tracker = trackerobj.read_tracker()\n",
    "\n",
    "cell_line_names = {\"SNU1079\", \"HUCCT1\", \"HUH28\", \"CCLP1\", \"CCSW1\", \"HKGZCC\", \"RBE\", \"SG231\", \"SSP25\", \"YSCCC\", \"TKKK\", \"OZ\", \"ICC2\", \"ICC3\", \"ICC4\", \"ICC5\", \"ICC6\", \"ICC8\", \"ICC9\", \"ICC10\", \"ICC11\", \"ICC108\", \"ICC106\", \"ICC12\", \"ICC137\", \"CORL105\", \"SW1353\", \"HT1080\"}\n",
    "tracker_subset = tracker[tracker['stripped_cell_line_name'].isin(cell_line_names)]\n",
    "tracker_subset = tracker_subset[tracker_subset['datatype'] == 'rna']\n",
    "# tracker_subset.to_csv('../tracker_subset.csv')\n",
    "\n",
    "bamcols = ['internal_bam_filepath', 'internal_bai_filepath', 'legacy_bam_filepath', 'legacy_bai_filepath']\n",
    "tracker_subset"
   ]
  },
  {
   "cell_type": "code",
   "execution_count": null,
   "id": "708e7206",
   "metadata": {},
   "outputs": [],
   "source": [
    "tracker_subset = tracker_subset.drop(['CDS-Gzu5vF', 'CDS-b1XWMR'])\n",
    "tracker_subset"
   ]
  },
  {
   "cell_type": "code",
   "execution_count": null,
   "id": "e1019508",
   "metadata": {},
   "outputs": [],
   "source": [
    "tracker_subset"
   ]
  },
  {
   "cell_type": "code",
   "execution_count": null,
   "id": "1b2dc64c",
   "metadata": {},
   "outputs": [],
   "source": [
    "from genepy.terra import shareCCLEbams\n",
    "\n",
    "await shareCCLEbams(users=['kolander@broadinstitute.org'],\n",
    "    samples=tracker_subset.index, requesterpays_project='broad-firecloud-ccle',\n",
    "    bamcols=bamcols)"
   ]
  },
  {
   "cell_type": "code",
   "execution_count": null,
   "id": "85c3bc6f",
   "metadata": {},
   "outputs": [],
   "source": []
  }
 ],
 "metadata": {
  "kernelspec": {
   "display_name": "Python 3",
   "language": "python",
   "name": "python3"
  },
  "language_info": {
   "codemirror_mode": {
    "name": "ipython",
    "version": 3
   },
   "file_extension": ".py",
   "mimetype": "text/x-python",
   "name": "python",
   "nbconvert_exporter": "python",
   "pygments_lexer": "ipython3",
   "version": "3.8.2"
  }
 },
 "nbformat": 4,
 "nbformat_minor": 5
}
