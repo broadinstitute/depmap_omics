{
 "cells": [
  {
   "cell_type": "code",
   "execution_count": null,
   "metadata": {},
   "outputs": [],
   "source": [
    "from __future__ import print_function\n",
    "import os.path\n",
    "import dalmatian as dm\n",
    "import pandas as pd\n",
    "import sys\n",
    "pathtoJK = \"../../JKBio\"\n",
    "sys.path.insert(0, pathtoJK)\n",
    "import TerraFunction as terra\n",
    "from Helper import *\n",
    "import numpy as np\n",
    "from gsheets import Sheets"
   ]
  },
  {
   "cell_type": "code",
   "execution_count": null,
   "metadata": {},
   "outputs": [],
   "source": [
    "namespace1=\"broad-firecloud-ccle\"\n",
    "workspace1=\"DepMap_WES_PONS_hg38\"\n",
    "wm = dm.WorkspaceManager(namespace1,workspace1)"
   ]
  },
  {
   "cell_type": "markdown",
   "metadata": {},
   "source": [
    "## creating sample sets"
   ]
  },
  {
   "cell_type": "code",
   "execution_count": null,
   "metadata": {},
   "outputs": [],
   "source": [
    "samples = wm.get_samples()\n",
    "participants = wm.get_participants()"
   ]
  },
  {
   "cell_type": "code",
   "execution_count": null,
   "metadata": {},
   "outputs": [],
   "source": [
    "ice = samples[samples['type']=='ice']\n",
    "agilent = samples[samples['type']=='agilent']"
   ]
  },
  {
   "cell_type": "code",
   "execution_count": null,
   "metadata": {},
   "outputs": [],
   "source": [
    "participants"
   ]
  },
  {
   "cell_type": "markdown",
   "metadata": {},
   "source": [
    "## creating sample sets for each pons"
   ]
  },
  {
   "cell_type": "code",
   "execution_count": null,
   "metadata": {},
   "outputs": [],
   "source": [
    "xx = participants[participants['gender']=='F'].index.tolist()\n",
    "xy = participants[participants['gender']=='M'].index.tolist()"
   ]
  },
  {
   "cell_type": "code",
   "execution_count": null,
   "metadata": {},
   "outputs": [],
   "source": [
    "xy_ice = ice[ice['participant'].isin(xy)]\n",
    "xy_agilent = agilent[agilent['participant'].isin(xy)]\n",
    "xx_ice = ice[ice['participant'].isin(xx)]\n",
    "xx_agilent  = agilent[agilent['participant'].isin(xx)]"
   ]
  },
  {
   "cell_type": "code",
   "execution_count": null,
   "metadata": {},
   "outputs": [],
   "source": [
    "wm.update_sample_set('xy_ice',xy_ice.index.tolist())\n",
    "wm.update_sample_set('xy_agilent',xy_agilent.index.tolist())\n",
    "wm.update_sample_set('xx_ice',xx_ice.index.tolist())\n",
    "wm.update_sample_set('xx_agilent',xx_agilent.index.tolist())"
   ]
  },
  {
   "cell_type": "markdown",
   "metadata": {},
   "source": [
    "## unmapping hg19 bams"
   ]
  },
  {
   "cell_type": "code",
   "execution_count": null,
   "metadata": {},
   "outputs": [],
   "source": [
    "unmap1 = wm.create_submission(\"BamToUnmappedRGBams_MC\",'xy_agilent','sample_set','this.samples')\n",
    "unmap2 = wm.create_submission(\"BamToUnmappedRGBams_MC\",'xy_ice','sample_set','this.samples')\n",
    "terra.waitForSubmission(wm,[unmap1,unmap2])"
   ]
  },
  {
   "cell_type": "code",
   "execution_count": null,
   "metadata": {},
   "outputs": [],
   "source": [
    "ubamfilelist1 = wm.create_submission(\"Generate_uBAM_File_List\",'xy_agilent','sample_set','this.samples')\n",
    "ubamfilelist2 = wm.create_submission(\"Generate_uBAM_File_List\",'xy_ice','sample_set','this.samples')\n",
    "terra.waitForSubmission(wm,[ubamfilelist1,ubamfilelist2])"
   ]
  },
  {
   "cell_type": "markdown",
   "metadata": {},
   "source": [
    "## realigning them to hg38"
   ]
  },
  {
   "cell_type": "code",
   "execution_count": null,
   "metadata": {},
   "outputs": [],
   "source": [
    "realign1 = wm.create_submission(\"Relalign_WES_GATK4\",'xy_agilent','sample_set','this.samples')\n",
    "realign2 = wm.create_submission(\"Relalign_WES_GATK4\",'xy_ice','sample_set','this.samples')\n",
    "terra.waitForSubmission(wm,[realign1,realign2])"
   ]
  },
  {
   "cell_type": "code",
   "execution_count": null,
   "metadata": {},
   "outputs": [],
   "source": [
    "terra.waitForSubmission(wm,\"e11159e111595f-9f14-4f01-81fd-74ee988a0032\")"
   ]
  },
  {
   "cell_type": "markdown",
   "metadata": {},
   "source": [
    "## config pon for Agilent data"
   ]
  },
  {
   "cell_type": "code",
   "execution_count": null,
   "metadata": {},
   "outputs": [],
   "source": [
    "failed =['AGILENT_10001','AGILENT_10172','AGILENT_10344','AGILENT_10372','AGILENT_10516','AGILENT_10597','AGILENT_11543','AGILENT_11630','AGILENT_11740','AGILENT_11800','AGILENT_11985','AGILENT_12068','AGILENT_12161','AGILENT_12406','AGILENT_12585','AGILENT_12877','AGILENT_12997','AGILENT_13051','AGILENT_13305','AGILENT_13522','AGILENT_13536','AGILENT_13545','AGILENT_14010','AGILENT_14379','AGILENT_24981','AGILENT_25020','AGILENT_25103','AGILENT_25177','AGILENT_25209','AGILENT_25293','AGILENT_25412','AGILENT_25477','AGILENT_25598','AGILENT_25688','AGILENT_25771','AGILENT_25807','AGILENT_25873','AGILENT_25898','AGILENT_25906','AGILENT_26095','AGILENT_26110','AGILENT_26255','AGILENT_26416','AGILENT_26426','AGILENT_918992','AGILENT_A00131','AGILENT_PT-7X7B','AGILENT_PT-7XGX','AGILENT_PT-7XHZ','AGILENT_PT-7XI7','AGILENT_PT-7YVH','AGILENT_PT-7Z9C','AGILENT_PT-7ZI3','AGILENT_PT-7ZYL','AGILENT_PT-7ZZ6','AGILENT_PT-811S'\n",
    "]"
   ]
  },
  {
   "cell_type": "code",
   "execution_count": null,
   "metadata": {},
   "outputs": [],
   "source": [
    "wm.update_sample_set('xy_agilent_retry',failed)"
   ]
  },
  {
   "cell_type": "code",
   "execution_count": null,
   "metadata": {},
   "outputs": [],
   "source": [
    "realign1 = wm.create_submission(\"Relalign_WES_GATK4\",'xy_agilent_retry','sample_set','this.samples')"
   ]
  },
  {
   "cell_type": "markdown",
   "metadata": {},
   "source": [
    "## they seemed to have failed for good..."
   ]
  },
  {
   "cell_type": "code",
   "execution_count": null,
   "metadata": {},
   "outputs": [],
   "source": [
    "sset"
   ]
  },
  {
   "cell_type": "code",
   "execution_count": null,
   "metadata": {},
   "outputs": [],
   "source": [
    "sset = wm.get_sample_sets()\n",
    "sset = sset[sset.index=='xy_agilent'].samples.tolist()[0]\n",
    "newset = [val for val in sset if val not in failed ]\n",
    "wm.update_sample_set('xy_agilent_notfailed',newset)"
   ]
  },
  {
   "cell_type": "code",
   "execution_count": null,
   "metadata": {},
   "outputs": [],
   "source": [
    "config_PON = wm.get_configuration(\"CNV_Somatic_Panel_Workflow_Agilent_XX\")\n",
    "config_PON"
   ]
  },
  {
   "cell_type": "code",
   "execution_count": null,
   "metadata": {},
   "outputs": [],
   "source": [
    "config_PON['inputs']['CNVSomaticPanelWorkflow.intervals'] = 'workspace.agilent_xy_intervals_no_pad'\n",
    "config_PON['inputs']['CNVSomaticPanelWorkflow.pon_entity_id'] = '\"hg38_agilent_pon_XY\"'\n",
    "config_PON['name'] = 'CNV_Somatic_Panel_Workflow_Agilent_XY'"
   ]
  },
  {
   "cell_type": "code",
   "execution_count": null,
   "metadata": {},
   "outputs": [],
   "source": [
    "wm.update_configuration(config_PON)\n",
    "pon_creation1 = wm.create_submission(config_PON['name'],'xy_agilent_notfailed')"
   ]
  },
  {
   "cell_type": "markdown",
   "metadata": {},
   "source": [
    "## config pon for ice data"
   ]
  },
  {
   "cell_type": "code",
   "execution_count": null,
   "metadata": {},
   "outputs": [],
   "source": [
    "config_PON['inputs']['CNVSomaticPanelWorkflow.intervals'] = 'workspace.ice_xy_intervals_no_pad'\n",
    "config_PON['inputs']['CNVSomaticPanelWorkflow.pon_entity_id'] = '\"hg38_ice_pon_XY\"'\n",
    "config_PON['name'] = 'CNV_Somatic_Panel_Workflow_ICE_XY'"
   ]
  },
  {
   "cell_type": "code",
   "execution_count": null,
   "metadata": {},
   "outputs": [],
   "source": [
    "wm.update_configuration(config_PON)\n",
    "pon_creation2 = wm.create_submission(config_PON['name'],'xy_ice')\n",
    "terra.waitForSubmission(wm,[pon_creation2])"
   ]
  },
  {
   "cell_type": "markdown",
   "metadata": {},
   "source": [
    "# we now want to remove the intermediary files"
   ]
  },
  {
   "cell_type": "code",
   "execution_count": null,
   "metadata": {},
   "outputs": [],
   "source": [
    "# get all files above a certain size\n",
    "! gsutil -m ls -l \"gs://fc-secure-b82334d0-5e87-4e4d-8e0b-757b9a8aae6b/**\" | awk '{if ($1 > 1000000000) print $NF}' > 'ponwmdatamorethan1Gb.txt'\n",
    "\n",
    "file = help.fileToList('/Users/jeremie/ponwmdatamorethan1Gb.txt')\n",
    "# not removing the hg38 version\n",
    "file = [i for i in file if '.hg38.bam' not in i]\n",
    "\n",
    "# removing files by bunch of 40\n",
    "for f in grouped(file,40):\n",
    "    c = ''\n",
    "    for v in f:\n",
    "        c+=' ' + v\n",
    "        os.system('gsutil -m rm'+c)"
   ]
  }
 ],
 "metadata": {
  "kernelspec": {
   "display_name": "Python 3",
   "language": "python",
   "name": "python3"
  },
  "language_info": {
   "codemirror_mode": {
    "name": "ipython",
    "version": 3
   },
   "file_extension": ".py",
   "mimetype": "text/x-python",
   "name": "python",
   "nbconvert_exporter": "python",
   "pygments_lexer": "ipython3",
   "version": "3.7.3"
  },
  "latex_envs": {
   "LaTeX_envs_menu_present": true,
   "autoclose": false,
   "autocomplete": true,
   "bibliofile": "biblio.bib",
   "cite_by": "apalike",
   "current_citInitial": 1,
   "eqLabelWithNumbers": true,
   "eqNumInitial": 1,
   "hotkeys": {
    "equation": "Ctrl-E",
    "itemize": "Ctrl-I"
   },
   "labels_anchors": false,
   "latex_user_defs": false,
   "report_style_numbering": false,
   "user_envs_cfg": false
  },
  "toc": {
   "base_numbering": 1,
   "nav_menu": {},
   "number_sections": true,
   "sideBar": true,
   "skip_h1_title": false,
   "title_cell": "Table of Contents",
   "title_sidebar": "Contents",
   "toc_cell": false,
   "toc_position": {},
   "toc_section_display": true,
   "toc_window_display": false
  },
  "varInspector": {
   "cols": {
    "lenName": 16,
    "lenType": 16,
    "lenVar": 40
   },
   "kernels_config": {
    "python": {
     "delete_cmd_postfix": "",
     "delete_cmd_prefix": "del ",
     "library": "var_list.py",
     "varRefreshCmd": "print(var_dic_list())"
    },
    "r": {
     "delete_cmd_postfix": ") ",
     "delete_cmd_prefix": "rm(",
     "library": "var_list.r",
     "varRefreshCmd": "cat(var_dic_list()) "
    }
   },
   "types_to_exclude": [
    "module",
    "function",
    "builtin_function_or_method",
    "instance",
    "_Feature"
   ],
   "window_display": false
  }
 },
 "nbformat": 4,
 "nbformat_minor": 2
}
