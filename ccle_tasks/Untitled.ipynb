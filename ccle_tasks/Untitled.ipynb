{
 "cells": [
  {
   "cell_type": "code",
   "execution_count": null,
   "metadata": {},
   "outputs": [],
   "source": [
    "import pysam\n",
    "import numpy as np\n",
    "import pandas as pd"
   ]
  },
  {
   "cell_type": "code",
   "execution_count": null,
   "metadata": {},
   "outputs": [],
   "source": [
    "bams = ! gsutil ls gs://ccle_bams/**.bam"
   ]
  },
  {
   "cell_type": "code",
   "execution_count": null,
   "metadata": {},
   "outputs": [],
   "source": [
    "bams"
   ]
  },
  {
   "cell_type": "code",
   "execution_count": null,
   "metadata": {},
   "outputs": [],
   "source": [
    "res = {}\n",
    "i = 0"
   ]
  },
  {
   "cell_type": "code",
   "execution_count": null,
   "metadata": {},
   "outputs": [],
   "source": [
    "for i, bam in enumerate(bams[i:]):\n",
    "    print(i/len(bams[i:]),end='\\r')\n",
    "    a = pysam.AlignmentFile('data/seqs/'+'/'.join(bam.split('/')[3:]), mode=\"r\",threads=4)\n",
    "    try:\n",
    "        dt = [val['DT'].split('T')[0] for val in a.header['RG']]\n",
    "    except KeyError:\n",
    "        res[bam] = \"unknown\"\n",
    "        continue\n",
    "    if len(dt) >1:\n",
    "        arr=np.array(dt[0].split('-')).astype(int)\n",
    "        for val in dt[1:]:\n",
    "            arr = np.vstack((arr,np.array(val.split('-')).astype(int)))\n",
    "        arr = arr.T\n",
    "        i = arr[0]*365 + arr[1] * 30 + arr[2]\n",
    "        res[bam] = dt[np.argsort(i)[0]]\n",
    "    else:\n",
    "        res[bam] = dt[0]"
   ]
  },
  {
   "cell_type": "code",
   "execution_count": null,
   "metadata": {},
   "outputs": [],
   "source": [
    "import json\n",
    "with open('saved.json', 'w') as json_file:\n",
    "    json.dump(res, json_file)"
   ]
  },
  {
   "cell_type": "code",
   "execution_count": null,
   "metadata": {},
   "outputs": [],
   "source": [
    "i = 4209"
   ]
  },
  {
   "cell_type": "code",
   "execution_count": null,
   "metadata": {},
   "outputs": [],
   "source": [
    "len(bams)"
   ]
  },
  {
   "cell_type": "code",
   "execution_count": null,
   "metadata": {},
   "outputs": [],
   "source": [
    "res"
   ]
  },
  {
   "cell_type": "code",
   "execution_count": null,
   "metadata": {},
   "outputs": [],
   "source": [
    "def maxdate(dt):\n",
    "    \"\"\"\n",
    "    gets the maxdate from a list of str date formated YYYY-MM-DD\n",
    "    \"\"\"\n",
    "    arr=np.array(dt[0].split('-')).astype(int)\n",
    "    if len(dt) >1:\n",
    "        for val in dt[1:]:\n",
    "            arr = np.vstack((arr,np.array(dt[0].split('-')).astype(int))).T\n",
    "        i = arr[0]*365 + arr[1] * 30 + arr[2]\n",
    "        \n",
    "        return dt[np.argsort(i)[0]]\n",
    "    else:\n",
    "        return dt[0]"
   ]
  },
  {
   "cell_type": "code",
   "execution_count": null,
   "metadata": {},
   "outputs": [],
   "source": []
  }
 ],
 "metadata": {
  "kernelspec": {
   "display_name": "Python 3",
   "language": "python",
   "name": "python3"
  },
  "language_info": {
   "codemirror_mode": {
    "name": "ipython",
    "version": 3
   },
   "file_extension": ".py",
   "mimetype": "text/x-python",
   "name": "python",
   "nbconvert_exporter": "python",
   "pygments_lexer": "ipython3",
   "version": "3.7.6"
  },
  "toc": {
   "base_numbering": 1,
   "nav_menu": {},
   "number_sections": true,
   "sideBar": true,
   "skip_h1_title": false,
   "title_cell": "Table of Contents",
   "title_sidebar": "Contents",
   "toc_cell": false,
   "toc_position": {},
   "toc_section_display": true,
   "toc_window_display": false
  }
 },
 "nbformat": 4,
 "nbformat_minor": 2
}
