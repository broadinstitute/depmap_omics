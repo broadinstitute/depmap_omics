{
 "cells": [
  {
   "cell_type": "code",
   "execution_count": null,
   "id": "af281e21",
   "metadata": {},
   "outputs": [],
   "source": [
    "from taigapy import TaigaClient\n",
    "tc = TaigaClient()\n",
    "\n",
    "OmicsSomaticMutationsProfile = tc.get(name='internal-23q2-1e49', version=97, file='OmicsSomaticMutationsProfile')"
   ]
  },
  {
   "cell_type": "code",
   "execution_count": null,
   "id": "5dd46825",
   "metadata": {},
   "outputs": [],
   "source": [
    "OmicsSomaticMutationsProfile"
   ]
  },
  {
   "cell_type": "code",
   "execution_count": null,
   "id": "434d2d52",
   "metadata": {},
   "outputs": [],
   "source": [
    "from collections import Counter\n",
    "\n",
    "def annotateLikelyImmortalized(\n",
    "    maf,\n",
    "    sample_col=\"ProfileID\",\n",
    "    genome_change_col=\"DNAChange\",\n",
    "    chrom_col=\"Chrom\",\n",
    "    pos_col=\"Pos\",\n",
    "    hotspotcol=\"cosmic_hotspot\",\n",
    "    max_recurrence=0.05,\n",
    "):\n",
    "    \"\"\"Annotate the maf file with the likely immortalized mutations\n",
    "\n",
    "    Based on occurence accross samples\n",
    "\n",
    "    Args:\n",
    "        maf (pandas.DataFrame): the maf file with columns: sample_col, genome_change_col, TCGAlocs\n",
    "        sample_col (str): the column name of the sample id\n",
    "        genome_change_col (str, optional): the column name of the genome change. Defaults to \"Genome_Change\".\n",
    "        TCGAlocs (list, optional): the column names of the counts that would make the mutation non immortalization induced. Defaults to ['TCGAhsCnt', 'COSMIChsCnt'].\n",
    "        max_recurrence (float, optional): the maximum recurrence rate to call immortalize. Defaults to 0.05.\n",
    "        min_tcga_true_cancer (int, optional): the minimum number of TCGA true cancer samples to not call immortalize. Defaults to 5.\n",
    "\n",
    "    Returns:\n",
    "        pandas.DataFrame: the maf file with the added column: immortalized\n",
    "    \"\"\"\n",
    "    maf[\"LikelyImmortalized\"] = False\n",
    "    maf[\"combined_mut\"] = (\n",
    "        maf[chrom_col] + \"_\" + maf[pos_col].astype(str) + \"_\" + maf[genome_change_col]\n",
    "    )\n",
    "    leng = len(set(maf[sample_col]))\n",
    "    maf.loc[maf[(\n",
    "            maf[\"combined_mut\"].isin(\n",
    "                [\n",
    "                    k\n",
    "                    for k, v in Counter(maf[\"combined_mut\"].tolist()).items()\n",
    "                    if v > max_recurrence * leng\n",
    "                ]\n",
    "            )\n",
    "        )].index, \"LikelyImmortalized\"] = True\n",
    "    # maf = maf.drop(columns=[\"combined_mut\"])\n",
    "    return maf"
   ]
  },
  {
   "cell_type": "code",
   "execution_count": null,
   "id": "98781c7b",
   "metadata": {},
   "outputs": [],
   "source": [
    "annotated_maf = annotateLikelyImmortalized(OmicsSomaticMutationsProfile)"
   ]
  },
  {
   "cell_type": "code",
   "execution_count": null,
   "id": "1416dda2",
   "metadata": {},
   "outputs": [],
   "source": [
    "annotated_maf['occurrence'] = annotated_maf['combined_mut'].map(annotated_maf['combined_mut'].value_counts())"
   ]
  },
  {
   "cell_type": "code",
   "execution_count": null,
   "id": "4c2d501f",
   "metadata": {},
   "outputs": [],
   "source": [
    "len(annotated_maf[annotated_maf.combined_mut == \"chr1_13225068_c.653T>C\"])"
   ]
  },
  {
   "cell_type": "code",
   "execution_count": null,
   "id": "00df4503",
   "metadata": {},
   "outputs": [],
   "source": [
    "import matplotlib.pyplot as plt\n",
    "import numpy as np\n",
    "\n",
    "x = annotated_maf.combined_mut.value_counts().tolist()\n",
    "#x = [np.log(c) for c in x]\n",
    "\n",
    "plt.hist(x, bins=200)\n",
    "plt.show() "
   ]
  },
  {
   "cell_type": "code",
   "execution_count": null,
   "id": "729de4a5",
   "metadata": {},
   "outputs": [],
   "source": [
    "# histogram with a broken y-axis\n",
    "import numpy as np\n",
    "import matplotlib.pyplot as plt\n",
    "\n",
    "np.random.seed(19680801)\n",
    "\n",
    "pts = np.random.rand(30)*.2\n",
    "pts = x\n",
    "\n",
    "# If we were to simply plot pts, we'd lose most of the interesting\n",
    "# details due to the outliers. So let's 'break' or 'cut-out' the y-axis\n",
    "# into two portions - use the top (ax1) for the outliers, and the bottom\n",
    "# (ax2) for the details of the majority of our data\n",
    "fig, (ax1, ax2) = plt.subplots(2, 1, sharex=True)\n",
    "fig.subplots_adjust(hspace=0.05)  # adjust space between axes\n",
    "fig.set_size_inches(16, 10)\n",
    "\n",
    "# plot the same data on both axes\n",
    "ax1.hist(pts, bins=200)\n",
    "ax2.hist(pts, bins=200)\n",
    "\n",
    "# zoom-in / limit the view to different portions of the data\n",
    "ax1.set_ylim(50, 1300000)  # outliers only\n",
    "ax2.set_ylim(0, 50)  # most of the data\n",
    "\n",
    "# hide the spines between ax and ax2\n",
    "ax1.spines.bottom.set_visible(False)\n",
    "ax2.spines.top.set_visible(False)\n",
    "ax1.xaxis.tick_top()\n",
    "ax1.tick_params(labeltop=False)  # don't put tick labels at the top\n",
    "ax2.xaxis.tick_bottom()\n",
    "\n",
    "# Now, let's turn towards the cut-out slanted lines.\n",
    "# We create line objects in axes coordinates, in which (0,0), (0,1),\n",
    "# (1,0), and (1,1) are the four corners of the axes.\n",
    "# The slanted lines themselves are markers at those locations, such that the\n",
    "# lines keep their angle and position, independent of the axes size or scale\n",
    "# Finally, we need to disable clipping.\n",
    "\n",
    "d = .5  # proportion of vertical to horizontal extent of the slanted line\n",
    "kwargs = dict(marker=[(-1, -d), (1, d)], markersize=12,\n",
    "              linestyle=\"none\", color='k', mec='k', mew=1, clip_on=False)\n",
    "ax1.plot([0, 1], [0, 0], transform=ax1.transAxes, **kwargs)\n",
    "ax2.plot([0, 1], [1, 1], transform=ax2.transAxes, **kwargs)\n",
    "plt.axvline(x = 133, color = 'r', label = '0.05 cutoff')\n",
    "\n",
    "\n",
    "plt.show()"
   ]
  },
  {
   "cell_type": "code",
   "execution_count": null,
   "id": "2e0f6fe9",
   "metadata": {},
   "outputs": [],
   "source": [
    "len(annotated_maf[annotated_maf.LikelyImmortalized].combined_mut.unique())"
   ]
  },
  {
   "cell_type": "code",
   "execution_count": null,
   "id": "dd6f1c0b",
   "metadata": {},
   "outputs": [],
   "source": [
    "len(set(annotated_maf[\"ProfileID\"])) * 0.05"
   ]
  },
  {
   "cell_type": "code",
   "execution_count": null,
   "id": "4264358c",
   "metadata": {},
   "outputs": [],
   "source": [
    "Counter(annotated_maf[\"combined_mut\"].tolist()).items()"
   ]
  },
  {
   "cell_type": "code",
   "execution_count": null,
   "id": "eb4ed388",
   "metadata": {},
   "outputs": [],
   "source": []
  }
 ],
 "metadata": {
  "kernelspec": {
   "display_name": "Python 3",
   "language": "python",
   "name": "python3"
  },
  "language_info": {
   "codemirror_mode": {
    "name": "ipython",
    "version": 3
   },
   "file_extension": ".py",
   "mimetype": "text/x-python",
   "name": "python",
   "nbconvert_exporter": "python",
   "pygments_lexer": "ipython3",
   "version": "3.8.13"
  }
 },
 "nbformat": 4,
 "nbformat_minor": 5
}
