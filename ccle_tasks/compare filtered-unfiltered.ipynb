{
 "cells": [
  {
   "cell_type": "code",
   "execution_count": null,
   "metadata": {},
   "outputs": [],
   "source": [
    "from __future__ import print_function\n",
    "from beakerx import *\n",
    "import pandas as pd\n",
    "import sys\n",
    "%load_ext autoreload\n",
    "%autoreload 2\n",
    "%load_ext rpy2.ipython\n",
    "import dalmatian as dm\n",
    "import numpy as np\n",
    "\n",
    "sys.path.insert(0, '../')\n",
    "from src.CCLE_postp_function import *\n",
    "sys.path.insert(0, '../../JKBio/')\n",
    "import Datanalytics as da\n",
    "import TerraFunction as terra\n",
    "\n",
    "from taigapy import TaigaClient\n",
    "from IPython.display import Image, display\n",
    "tc = TaigaClient()"
   ]
  },
  {
   "cell_type": "code",
   "execution_count": null,
   "metadata": {},
   "outputs": [],
   "source": [
    "refnamespace=\"broad-firecloud-ccle/DepMap_Mutation_Calling_CGA_pipeline\""
   ]
  },
  {
   "cell_type": "markdown",
   "metadata": {},
   "source": [
    "# Downloading from terra"
   ]
  },
  {
   "cell_type": "code",
   "execution_count": null,
   "metadata": {},
   "outputs": [],
   "source": [
    "refwm= dm.WorkspaceManager(refnamespace)"
   ]
  },
  {
   "cell_type": "markdown",
   "metadata": {},
   "source": [
    "Let's get samples from when we made the switch to CGA only data"
   ]
  },
  {
   "cell_type": "code",
   "execution_count": null,
   "metadata": {},
   "outputs": [],
   "source": [
    "res = refwm.get_sample_sets().loc['DM19Q2_COMPLETE_SET']\n",
    "res"
   ]
  },
  {
   "cell_type": "code",
   "execution_count": null,
   "metadata": {},
   "outputs": [],
   "source": [
    "filtered = res['passedCGA_filteredMAF_aggregated']\n",
    "unfiltered = res['unfiltered_CGA_MAF_aggregated']\n",
    "\n",
    "! gsutil cp $filtered \"temp/mutation_filtered_terra_merged.txt\"\n",
    "! gsutil cp $unfiltered \"temp/mutation_unfiltered_terra_merged.txt\""
   ]
  },
  {
   "cell_type": "markdown",
   "metadata": {},
   "source": [
    "let's also look at the latest data version to see if the problem comes from here"
   ]
  },
  {
   "cell_type": "code",
   "execution_count": null,
   "metadata": {},
   "outputs": [],
   "source": [
    "release = pd.read_csv('../temp/mutations.19Q3.tsv', sep='\\t')"
   ]
  },
  {
   "cell_type": "code",
   "execution_count": null,
   "metadata": {},
   "outputs": [],
   "source": [
    "len(release)"
   ]
  },
  {
   "cell_type": "code",
   "execution_count": null,
   "metadata": {},
   "outputs": [],
   "source": [
    "filtered = pd.read_csv('../temp/mutation_filtered_terra_merged.txt', sep='\\t')\n",
    "unfiltered = pd.read_csv('../temp/mutation_unfiltered_terra_merged.txt', sep='\\t')"
   ]
  },
  {
   "cell_type": "code",
   "execution_count": null,
   "metadata": {},
   "outputs": [],
   "source": [
    "len(filtered)"
   ]
  },
  {
   "cell_type": "markdown",
   "metadata": {},
   "source": [
    "let's only use the same set of columns for comparison purposes"
   ]
  },
  {
   "cell_type": "code",
   "execution_count": null,
   "metadata": {},
   "outputs": [],
   "source": [
    "unfiltered = unfiltered[set(unfiltered.columns.tolist()) & set(filtered.columns.tolist())]\n",
    "filtered = filtered[unfiltered.columns]"
   ]
  },
  {
   "cell_type": "markdown",
   "metadata": {
    "variables": {
     "b": "0"
    }
   },
   "source": [
    "## How much genome change non overlap do we have to the filtered version?\n",
    "\n",
    "{{b}}"
   ]
  },
  {
   "cell_type": "code",
   "execution_count": null,
   "metadata": {},
   "outputs": [],
   "source": [
    "b = len(set(filtered.Genome_Change.tolist())) - len(set(unfiltered.Genome_Change.tolist()) & set(filtered.Genome_Change.tolist()))\n",
    "b"
   ]
  },
  {
   "cell_type": "markdown",
   "metadata": {
    "variables": {
     "a*100": "7.55741960282494"
    }
   },
   "source": [
    "## how much genome change do we have in duplicate? \n",
    "R : {{a*100}}%"
   ]
  },
  {
   "cell_type": "code",
   "execution_count": null,
   "metadata": {},
   "outputs": [],
   "source": [
    "a = (len(filtered) - len(set(filtered.Genome_Change.tolist()))) / len(filtered)\n",
    "a"
   ]
  },
  {
   "cell_type": "markdown",
   "metadata": {},
   "source": [
    "does not seem to be a 19Q3 problem"
   ]
  },
  {
   "cell_type": "code",
   "execution_count": null,
   "metadata": {},
   "outputs": [],
   "source": [
    "len(filtered[filtered.Hugo_Symbol=='TP53']) - len(release[release.Hugo_Symbol=='TP53'])"
   ]
  },
  {
   "cell_type": "code",
   "execution_count": null,
   "metadata": {},
   "outputs": [],
   "source": [
    "set(filtered[filtered.Hugo_Symbol=='TP53'].Protein_Change) - set(release[release.Hugo_Symbol=='TP53'].Protein_Change)"
   ]
  },
  {
   "cell_type": "code",
   "execution_count": null,
   "metadata": {},
   "outputs": [],
   "source": [
    "filtered.columns"
   ]
  },
  {
   "cell_type": "code",
   "execution_count": null,
   "metadata": {},
   "outputs": [],
   "source": [
    "filtered.iloc[0].values"
   ]
  },
  {
   "cell_type": "code",
   "execution_count": null,
   "metadata": {},
   "outputs": [],
   "source": [
    "release.columns"
   ]
  },
  {
   "cell_type": "code",
   "execution_count": null,
   "metadata": {},
   "outputs": [],
   "source": [
    "filtered[filtered.Protein_Change=='p.PSS126fs'].values"
   ]
  },
  {
   "cell_type": "code",
   "execution_count": null,
   "metadata": {},
   "outputs": [],
   "source": [
    "set(unfiltered[unfiltered.Hugo_Symbol=='TP53'].Protein_Change)"
   ]
  },
  {
   "cell_type": "code",
   "execution_count": null,
   "metadata": {},
   "outputs": [],
   "source": [
    "set(filtered[filtered.Hugo_Symbol=='TP53'].Protein_Change)"
   ]
  },
  {
   "cell_type": "code",
   "execution_count": null,
   "metadata": {},
   "outputs": [],
   "source": [
    "set(release[release.Hugo_Symbol=='TP53'].Protein_Change)"
   ]
  },
  {
   "cell_type": "markdown",
   "metadata": {},
   "source": [
    "## Looking at data from 19Q1 to see exactly the missign mutations"
   ]
  },
  {
   "cell_type": "code",
   "execution_count": null,
   "metadata": {},
   "outputs": [],
   "source": [
    "new = tc.get(name='depmap-mutation-calls-9be3', version=15, file='depmap_19Q3_mutation_calls')\n",
    "prev = tc.get(name='depmap-mutation-calls-9be3', version=11, file='depmap_19Q1_mutation_calls')"
   ]
  },
  {
   "cell_type": "code",
   "execution_count": null,
   "metadata": {},
   "outputs": [],
   "source": [
    "prev= prev.drop('Unnamed: 0',1)"
   ]
  },
  {
   "cell_type": "code",
   "execution_count": null,
   "metadata": {},
   "outputs": [],
   "source": [
    "prev.columns"
   ]
  },
  {
   "cell_type": "markdown",
   "metadata": {},
   "source": [
    "lets only look at the data of cell lines that we had in VA+ CGA vs CGA"
   ]
  },
  {
   "cell_type": "code",
   "execution_count": null,
   "metadata": {},
   "outputs": [],
   "source": [
    "newp = new[new.DepMap_ID.isin(set(prev.DepMap_ID))]"
   ]
  },
  {
   "cell_type": "code",
   "execution_count": null,
   "metadata": {},
   "outputs": [],
   "source": [
    "unfiltered['DepMap_ID'] =[i.split('_')[1] for i in unfiltered['Tumor_Sample_Barcode']]"
   ]
  },
  {
   "cell_type": "code",
   "execution_count": null,
   "metadata": {},
   "outputs": [],
   "source": [
    "unfiltered = unfiltered[unfiltered.DepMap_ID.isin(set(prev.DepMap_ID))]"
   ]
  },
  {
   "cell_type": "markdown",
   "metadata": {},
   "source": [
    "we still have more data on the unfiltered version (seem to make sense)"
   ]
  },
  {
   "cell_type": "code",
   "execution_count": null,
   "metadata": {},
   "outputs": [],
   "source": [
    "len(unfiltered) - len(prev)"
   ]
  },
  {
   "cell_type": "markdown",
   "metadata": {},
   "source": [
    "there seem to be a lot less data in the new version compared to the old one "
   ]
  },
  {
   "cell_type": "code",
   "execution_count": null,
   "metadata": {},
   "outputs": [],
   "source": [
    "len(newp) - len(prev)"
   ]
  },
  {
   "cell_type": "code",
   "execution_count": null,
   "metadata": {},
   "outputs": [],
   "source": [
    "len(newp[newp.Hugo_Symbol=='TP53'])"
   ]
  },
  {
   "cell_type": "code",
   "execution_count": null,
   "metadata": {},
   "outputs": [],
   "source": [
    "len(prev[prev.Hugo_Symbol=='TP53'])"
   ]
  },
  {
   "cell_type": "markdown",
   "metadata": {},
   "source": [
    "there is cell lines for which there is mutations that have been called in VA +CGA but not in CGA. And here are the genome changes that have never been called in the CGA only version"
   ]
  },
  {
   "cell_type": "code",
   "execution_count": null,
   "metadata": {},
   "outputs": [],
   "source": [
    "set(prev[prev.Hugo_Symbol=='TP53'].DepMap_ID) - set(newp[newp.Hugo_Symbol=='TP53'].DepMap_ID) "
   ]
  },
  {
   "cell_type": "code",
   "execution_count": null,
   "metadata": {},
   "outputs": [],
   "source": [
    "other = set(prev[prev.Hugo_Symbol=='TP53'].Genome_Change) - set(newp[newp.Hugo_Symbol=='TP53'].Genome_Change) \n",
    "other"
   ]
  },
  {
   "cell_type": "code",
   "execution_count": null,
   "metadata": {},
   "outputs": [],
   "source": []
  },
  {
   "cell_type": "code",
   "execution_count": null,
   "metadata": {},
   "outputs": [],
   "source": [
    "cgamva = set(newp[newp.Hugo_Symbol=='TP53'].Genome_Change) - set(prev[prev.Hugo_Symbol=='TP53'].Genome_Change) \n",
    "cgamva"
   ]
  },
  {
   "cell_type": "code",
   "execution_count": null,
   "metadata": {},
   "outputs": [],
   "source": [
    "new[new.Hugo_Symbol=='TP53'][new.Genome_Change.isin(cgamva)]"
   ]
  },
  {
   "cell_type": "markdown",
   "metadata": {},
   "source": [
    "let's look at the tp53 mutations with this particular genome change."
   ]
  },
  {
   "cell_type": "code",
   "execution_count": null,
   "metadata": {},
   "outputs": [],
   "source": [
    "a = pd.read_csv('../../../../../new.tsv', sep='\\t')\n",
    "b = a[a.Hugo_Symbol=='TP53']"
   ]
  },
  {
   "cell_type": "code",
   "execution_count": null,
   "metadata": {},
   "outputs": [],
   "source": [
    "b.T.to_csv('new.csv')"
   ]
  },
  {
   "cell_type": "code",
   "execution_count": null,
   "metadata": {},
   "outputs": [],
   "source": [
    "prev.columns.tolist()"
   ]
  },
  {
   "cell_type": "code",
   "execution_count": null,
   "metadata": {},
   "outputs": [],
   "source": [
    "prev[prev.Hugo_Symbol=='TP53'][prev.Genome_Change.isin(other)]"
   ]
  },
  {
   "cell_type": "code",
   "execution_count": null,
   "metadata": {},
   "outputs": [],
   "source": [
    "tp53prev = prev[prev.Hugo_Symbol=='TP53']"
   ]
  },
  {
   "cell_type": "code",
   "execution_count": null,
   "metadata": {},
   "outputs": [],
   "source": [
    "newp[newp.Hugo_Symbol=='TP53'][newp.Genome_Change.isin(set(tp53prev.Genome_Change)) & newp.DepMap_ID.isin(set(tp53prev.DepMap_ID))]"
   ]
  },
  {
   "cell_type": "code",
   "execution_count": null,
   "metadata": {},
   "outputs": [],
   "source": [
    "found = []\n",
    "for i, v in newp[newp.Hugo_Symbol=='TP53'].iterrows():\n",
    "    print(i,end='\\r')\n",
    "    for k, val in prev[prev.Hugo_Symbol=='TP53'].iterrows():\n",
    "        if val.Genome_Change == v.Genome_Change:\n",
    "            if val.DepMap_ID == v.DepMap_ID:\n",
    "                found.append(i)\n",
    "                break"
   ]
  },
  {
   "cell_type": "code",
   "execution_count": null,
   "metadata": {},
   "outputs": [],
   "source": [
    "innewnotinprev = newp[~newp.index.isin(found)][newp.Hugo_Symbol=='TP53']"
   ]
  },
  {
   "cell_type": "code",
   "execution_count": null,
   "metadata": {},
   "outputs": [],
   "source": [
    "len(innewnotinprev)"
   ]
  },
  {
   "cell_type": "code",
   "execution_count": null,
   "metadata": {},
   "outputs": [],
   "source": [
    "innewnotinprev.isCOSMIChotspot.sum()"
   ]
  },
  {
   "cell_type": "code",
   "execution_count": null,
   "metadata": {},
   "outputs": [],
   "source": [
    "len([i for i in inprevnotinnew.VA_WES_AC.values if type(i) is str])"
   ]
  },
  {
   "cell_type": "code",
   "execution_count": null,
   "metadata": {},
   "outputs": [],
   "source": [
    "found = []\n",
    "for k, val in prev[prev.Hugo_Symbol=='TP53'].iterrows():\n",
    "    print(k,end='\\r')\n",
    "    for i, v in unfiltered[unfiltered.Hugo_Symbol=='TP53'].iterrows():\n",
    "        if val.Genome_Change == v.Genome_Change:\n",
    "            if val.DepMap_ID == v.DepMap_ID:\n",
    "                found.append(k)\n",
    "                break"
   ]
  },
  {
   "cell_type": "code",
   "execution_count": null,
   "metadata": {},
   "outputs": [],
   "source": [
    "inprevnotinunfiltered = prev[~prev.index.isin(found)][prev.Hugo_Symbol=='TP53']"
   ]
  },
  {
   "cell_type": "code",
   "execution_count": null,
   "metadata": {},
   "outputs": [],
   "source": [
    "len(inprevnotinunfiltered)"
   ]
  },
  {
   "cell_type": "code",
   "execution_count": null,
   "metadata": {},
   "outputs": [],
   "source": [
    "inprevnotinunfiltered"
   ]
  },
  {
   "cell_type": "code",
   "execution_count": null,
   "metadata": {},
   "outputs": [],
   "source": [
    "found = []\n",
    "for k, val in prev[prev.Hugo_Symbol=='TP53'].iterrows():\n",
    "    print(k,end='\\r')\n",
    "    for i, v in newp[newp.Hugo_Symbol=='TP53'].iterrows():\n",
    "        if val.Genome_Change == v.Genome_Change:\n",
    "            if val.DepMap_ID == v.DepMap_ID:\n",
    "                found.append(k)\n",
    "                break"
   ]
  },
  {
   "cell_type": "code",
   "execution_count": null,
   "metadata": {},
   "outputs": [],
   "source": [
    "inprevnotinnew = prev[~prev.index.isin(found)][prev.Hugo_Symbol=='TP53']"
   ]
  },
  {
   "cell_type": "code",
   "execution_count": null,
   "metadata": {},
   "outputs": [],
   "source": [
    "len(inprevnotinnew)"
   ]
  },
  {
   "cell_type": "code",
   "execution_count": null,
   "metadata": {},
   "outputs": [],
   "source": [
    "inprevnotinnew.isCOSMIChotspot"
   ]
  },
  {
   "cell_type": "code",
   "execution_count": null,
   "metadata": {},
   "outputs": [],
   "source": [
    "inprevnotinnew[inprevnotinnew.CGA_WES_AC=='0:0']"
   ]
  },
  {
   "cell_type": "code",
   "execution_count": null,
   "metadata": {},
   "outputs": [],
   "source": [
    "prev[prev.CGA_WES_AC=='0:0']"
   ]
  },
  {
   "cell_type": "code",
   "execution_count": null,
   "metadata": {},
   "outputs": [],
   "source": [
    "set(prev[prev.CGA_WES_AC=='0:0'].Genome_Change)"
   ]
  },
  {
   "cell_type": "code",
   "execution_count": null,
   "metadata": {},
   "outputs": [],
   "source": [
    "new[new.Genome_Change=='g.chr17:7577548C>T']"
   ]
  },
  {
   "cell_type": "code",
   "execution_count": null,
   "metadata": {},
   "outputs": [],
   "source": []
  },
  {
   "cell_type": "code",
   "execution_count": null,
   "metadata": {},
   "outputs": [],
   "source": [
    "np.where(((prev[prev.Hugo_Symbol=='TP53'].Genome_Change == \\\n",
    "newp[newp.Hugo_Symbol=='TP53'].Genome_Change) & \\\n",
    "         (newp[newp.Hugo_Symbol=='TP53'].DepMap_ID == \\\n",
    "         newp[newp.Hugo_Symbol=='TP53'].DepMap_ID)))"
   ]
  },
  {
   "cell_type": "code",
   "execution_count": null,
   "metadata": {},
   "outputs": [],
   "source": []
  },
  {
   "cell_type": "code",
   "execution_count": null,
   "metadata": {},
   "outputs": [],
   "source": []
  },
  {
   "cell_type": "code",
   "execution_count": null,
   "metadata": {},
   "outputs": [],
   "source": []
  }
 ],
 "metadata": {
  "kernelspec": {
   "display_name": "Python 3",
   "language": "python",
   "name": "python3"
  },
  "language_info": {
   "codemirror_mode": {
    "name": "ipython",
    "version": 3
   },
   "file_extension": ".py",
   "mimetype": "text/x-python",
   "name": "python",
   "nbconvert_exporter": "python",
   "pygments_lexer": "ipython3",
   "version": "3.6.7"
  },
  "latex_envs": {
   "LaTeX_envs_menu_present": true,
   "autoclose": false,
   "autocomplete": true,
   "bibliofile": "biblio.bib",
   "cite_by": "apalike",
   "current_citInitial": 1,
   "eqLabelWithNumbers": true,
   "eqNumInitial": 1,
   "hotkeys": {
    "equation": "Ctrl-E",
    "itemize": "Ctrl-I"
   },
   "labels_anchors": false,
   "latex_user_defs": false,
   "report_style_numbering": false,
   "user_envs_cfg": false
  },
  "toc": {
   "base_numbering": 1,
   "nav_menu": {
    "height": "277px",
    "width": "375px"
   },
   "number_sections": true,
   "sideBar": false,
   "skip_h1_title": false,
   "title_cell": "Table of Contents",
   "title_sidebar": "Contents",
   "toc_cell": false,
   "toc_position": {
    "height": "610.895px",
    "left": "1462.9px",
    "top": "91.406px",
    "width": "258.892px"
   },
   "toc_section_display": true,
   "toc_window_display": true
  },
  "varInspector": {
   "cols": {
    "lenName": 16,
    "lenType": 16,
    "lenVar": 40
   },
   "kernels_config": {
    "python": {
     "delete_cmd_postfix": "",
     "delete_cmd_prefix": "del ",
     "library": "var_list.py",
     "varRefreshCmd": "print(var_dic_list())"
    },
    "r": {
     "delete_cmd_postfix": ") ",
     "delete_cmd_prefix": "rm(",
     "library": "var_list.r",
     "varRefreshCmd": "cat(var_dic_list()) "
    }
   },
   "oldHeight": 633.5648180000001,
   "position": {
    "height": "635px",
    "left": "9.35795px",
    "right": "20px",
    "top": "296.98px",
    "width": "126.122px"
   },
   "types_to_exclude": [
    "module",
    "function",
    "builtin_function_or_method",
    "instance",
    "_Feature"
   ],
   "varInspector_section_display": "block",
   "window_display": true
  }
 },
 "nbformat": 4,
 "nbformat_minor": 2
}
