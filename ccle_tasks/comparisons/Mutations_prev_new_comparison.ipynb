{
 "cells": [
  {
   "cell_type": "code",
   "execution_count": null,
   "metadata": {},
   "outputs": [],
   "source": [
    "from __future__ import print_function\n",
    "import os.path\n",
    "import pandas as pd\n",
    "import gzip\n",
    "import sys\n",
    "import numpy as np\n",
    "\n",
    "sys.path.insert(0, '..')\n",
    "\n",
    "from src.CCLE_postp_function import *\n",
    "from JKBio import Datanalytics as da \n",
    "from JKBio import TerraFunction as terra\n",
    "from JKBio import Helper as h\n",
    "from gsheets import Sheets\n",
    "from taigapy import TaigaClient\n",
    "import dalmatian as dm\n",
    "\n",
    "from sklearn.manifold import TSNE\n",
    "from sklearn.neighbors import KNeighborsClassifier\n",
    "\n",
    "from bokeh.plotting import *\n",
    "from bokeh.models import HoverTool\n",
    "from collections import OrderedDict\n",
    "from IPython.display import Image,display\n",
    "\n",
    "\n",
    "\n",
    "%load_ext autoreload\n",
    "%autoreload 2\n",
    "%load_ext rpy2.ipython\n",
    "tc = TaigaClient()\n",
    "output_notebook()\n",
    "sheets = Sheets.from_files('~/.client_secret.json', '~/.storage.json')\n",
    "replace = {'T': 'Tumor', 'N': 'Normal', 'm': 'Unknown', 'L': 'Unknown'}"
   ]
  },
  {
   "cell_type": "markdown",
   "metadata": {},
   "source": [
    "# boot up\n",
    "\n",
    "we are instanciating all the parameters needed for this pipeline to run"
   ]
  },
  {
   "cell_type": "code",
   "execution_count": null,
   "metadata": {},
   "outputs": [],
   "source": [
    "samplesetname = \"20Q3\"\n",
    "prevname=\"20Q2\"\n",
    "prevversion = 22\n",
    "prevprevname ='20Q1'\n",
    "prevprevversion= 20\n",
    "virtual_internal='internal-20q3-00d0'\n",
    "\n",
    "refworkspace=\"broad-firecloud-ccle/DepMap_Mutation_Calling_CGA_pipeline\"\n",
    "\n",
    "\n",
    "\n",
    "refsheet_url = \"https://docs.google.com/spreadsheets/d/1XkZypRuOEXzNLxVk9EOHeWRE98Z8_DBvL4PovyM01FE\"\n",
    "sheeturl = \"https://docs.google.com/spreadsheets/d/115TUgA1t_mD32SnWAGpW9OKmJ2W5WYAOs3SuSdedpX4\"\n",
    "\n",
    "release = samplesetname"
   ]
  },
  {
   "cell_type": "code",
   "execution_count": null,
   "metadata": {},
   "outputs": [],
   "source": [
    "%%R\n",
    "release <- '20Q3'\n",
    "prevname <- '20Q2'\n",
    "genome_version <- 'hg19'\n",
    "taiga_version <- 10\n",
    "prevversion <-13"
   ]
  },
  {
   "cell_type": "code",
   "execution_count": null,
   "metadata": {},
   "outputs": [],
   "source": [
    "refwm = dm.WorkspaceManager(refworkspace)"
   ]
  },
  {
   "cell_type": "code",
   "execution_count": null,
   "metadata": {},
   "outputs": [],
   "source": [
    "res = refwm.get_sample_sets().loc[\"all\"]\n",
    "res"
   ]
  },
  {
   "cell_type": "code",
   "execution_count": null,
   "metadata": {},
   "outputs": [],
   "source": [
    "filtered = res['filtered_CGA_MAF_aggregated']\n",
    "! gsutil cp $filtered \"temp/mutation_filtered_terra_merged.txt\""
   ]
  },
  {
   "cell_type": "code",
   "execution_count": null,
   "metadata": {},
   "outputs": [],
   "source": [
    "file = pd.read_csv('temp/mutation_filtered_terra_merged.txt',sep='\\t') \n",
    "print(file.columns[:10])\n",
    "renaming = removeOlderVersions(names = set(file['Tumor_Sample_Barcode']), refsamples = refwm.get_samples(), arxspan_id = \"arxspan_id\", version=\"version\")\n",
    "print(file[file['Chromosome']=='0'])\n",
    "file[file['Tumor_Sample_Barcode'].isin(renaming.keys())].replace({'Tumor_Sample_Barcode':renaming}).reset_index(drop=True).to_csv('temp/mutation_filtered_terra_merged.txt',sep='\\t',index=None)"
   ]
  },
  {
   "cell_type": "code",
   "execution_count": null,
   "metadata": {},
   "outputs": [],
   "source": [
    "ls ../JKBio/"
   ]
  },
  {
   "cell_type": "markdown",
   "metadata": {},
   "source": [
    "# Analysis"
   ]
  },
  {
   "cell_type": "code",
   "execution_count": null,
   "metadata": {},
   "outputs": [],
   "source": [
    "%%R\n",
    "#source('src/load_libraries_and_annotations.R')\n",
    "load('src/Annotations.rdata') \n",
    "# There are some cell lines the celllinemapr does not know how to map so we need to load this data object for now (from old datasets)\n",
    "source('src/CCLE_postp_function.R')\n",
    "library('cdsomics')\n",
    "library(tidyverse)\n",
    "library(data.table)\n",
    "library(magrittr)\n",
    "library(taigr)\n",
    "library(cdsomics)\n",
    "library(celllinemapr) # To pull out DepMap_IDs from CCLE_names where needed"
   ]
  },
  {
   "cell_type": "code",
   "execution_count": null,
   "metadata": {},
   "outputs": [],
   "source": [
    "%%R\n",
    "newly_merged_maf <- readMutations('temp/mutation_filtered_terra_merged.txt')\n",
    "new_release <- createSNPs(newly_merged_maf)\n",
    "names(new_release)"
   ]
  },
  {
   "cell_type": "code",
   "execution_count": null,
   "metadata": {},
   "outputs": [],
   "source": [
    "%%R\n",
    "new_release <- renameAsInMainMutation(new_release)"
   ]
  },
  {
   "cell_type": "code",
   "execution_count": null,
   "metadata": {},
   "outputs": [],
   "source": [
    "%%R\n",
    "filtered <- filterAllelicFraction(new_release)"
   ]
  },
  {
   "cell_type": "code",
   "execution_count": null,
   "metadata": {},
   "outputs": [],
   "source": []
  },
  {
   "cell_type": "code",
   "execution_count": null,
   "metadata": {},
   "outputs": [],
   "source": [
    "%%R\n",
    "write.table(\n",
    "  filtered$merged, \n",
    "  paste0('temp/newmutations.', release, '.all.csv'), sep = ',', quote = F, row.names = F)"
   ]
  },
  {
   "cell_type": "code",
   "execution_count": null,
   "metadata": {},
   "outputs": [],
   "source": [
    "%%R\n",
    "filtered <- filterMinCoverage(filtered$merged, filtered$removed_from_maf)"
   ]
  },
  {
   "cell_type": "code",
   "execution_count": null,
   "metadata": {},
   "outputs": [],
   "source": [
    "%%R\n",
    "head(merged)"
   ]
  },
  {
   "cell_type": "code",
   "execution_count": null,
   "metadata": {},
   "outputs": [],
   "source": [
    "%%R\n",
    "clean_annotations <- mergeAnnotations(merged,previous.release.maf)"
   ]
  },
  {
   "cell_type": "code",
   "execution_count": null,
   "metadata": {},
   "outputs": [],
   "source": [
    "%%R\n",
    "\n",
    "# Allie's version\n",
    "new_release <- addAnnotation(new_release)"
   ]
  },
  {
   "cell_type": "code",
   "execution_count": null,
   "metadata": {},
   "outputs": [],
   "source": [
    "%%R\n",
    "# some matric files that does get used internaly and might be useful\n",
    "damaging_mutation <- mutation_maf_to_binary_matrix(new_release, damaging =  TRUE)\n",
    "other_mutation <- mutation_maf_to_binary_matrix(new_release, other = TRUE)\n",
    "hotspot_mutation <- mutation_maf_to_binary_matrix(new_release, hotspot = TRUE)"
   ]
  },
  {
   "cell_type": "code",
   "execution_count": null,
   "metadata": {},
   "outputs": [],
   "source": [
    "%%R\n",
    "# Save the ready to upload file to upload to taiga\n",
    "write.table(\n",
    "  new_release, \n",
    "  paste0('temp/mutations.', release, '.all.csv'), sep = ',', quote = F, row.names = F)\n",
    "# Save the ready to upload file to upload to taiga\n",
    "write.table(\n",
    "  damaging_mutation, \n",
    "  paste0('temp/damaging_mutation.', release, '.all.csv'), sep = ',', quote = F)\n",
    "# Save the ready to upload file to upload to taiga\n",
    "write.table(\n",
    "  other_mutation, \n",
    "  paste0('temp/other_mutation.', release, '.all.csv'), sep = ',', quote = F)\n",
    "# Save the ready to upload file to upload to taiga\n",
    "write.table(\n",
    "  hotspot_mutation, \n",
    "  paste0('temp/hotspot_mutation.', release, '.all.csv'), sep = ',', quote = F)"
   ]
  },
  {
   "cell_type": "code",
   "execution_count": null,
   "metadata": {},
   "outputs": [],
   "source": [
    "newmutations = pd.read_csv('temp/mutations.'+release+'.all.csv')"
   ]
  },
  {
   "cell_type": "code",
   "execution_count": null,
   "metadata": {},
   "outputs": [],
   "source": [
    "mutations_20Q2_all = tc.get(name='depmap-mutations-maf-35fe', version=14, file='mutations.20Q2.all')"
   ]
  },
  {
   "cell_type": "markdown",
   "metadata": {},
   "source": [
    "# Comparing"
   ]
  },
  {
   "cell_type": "markdown",
   "metadata": {},
   "source": [
    "## initial, simple"
   ]
  },
  {
   "cell_type": "code",
   "execution_count": null,
   "metadata": {},
   "outputs": [],
   "source": [
    "#removing all of the WGS and snp arrays\n",
    "mutations_20Q2_all = mutations_20Q2_all[~mutations_20Q2_all.DepMap_ID.isin(set(mutations_20Q2_all.DepMap_ID) - set(newmutations.Tumor_Sample_Barcode))]"
   ]
  },
  {
   "cell_type": "markdown",
   "metadata": {},
   "source": [
    "### strange new cell lines"
   ]
  },
  {
   "cell_type": "code",
   "execution_count": null,
   "metadata": {},
   "outputs": [],
   "source": [
    "#Too recent? removed by what means? why?\n",
    "set(newmutations.Tumor_Sample_Barcode) - set(mutations_20Q2_all.DepMap_ID)"
   ]
  },
  {
   "cell_type": "code",
   "execution_count": null,
   "metadata": {},
   "outputs": [],
   "source": [
    "newmutations = newmutations[~newmutations.Tumor_Sample_Barcode.isin(set(newmutations.Tumor_Sample_Barcode) - set(mutations_20Q2_all.DepMap_ID))]"
   ]
  },
  {
   "cell_type": "code",
   "execution_count": null,
   "metadata": {},
   "outputs": [],
   "source": [
    "newmutations = newmutations.sort_values(by=['Tumor_Sample_Barcode','Chromosome','Start_position','End_position'])\n",
    "mutations_20Q2_all = mutations_20Q2_all.sort_values(by=['DepMap_ID','Chromosome','Start_position','End_position'])"
   ]
  },
  {
   "cell_type": "code",
   "execution_count": null,
   "metadata": {},
   "outputs": [],
   "source": [
    "newmutations[['Tumor_Sample_Barcode','Chromosome','Start_position','End_position']] = newmutations[['Tumor_Sample_Barcode','Chromosome','Start_position','End_position']].astype(str)\n",
    "newmutationsset = newmutations['Tumor_Sample_Barcode']+'_'+newmutations['Chromosome']+':'+newmutations['Start_position']+'-'+newmutations['End_position']\n",
    "newmutations['grouped'] = newmutationsset"
   ]
  },
  {
   "cell_type": "code",
   "execution_count": null,
   "metadata": {},
   "outputs": [],
   "source": [
    "len(newmutationsset)"
   ]
  },
  {
   "cell_type": "code",
   "execution_count": null,
   "metadata": {},
   "outputs": [],
   "source": [
    "dups = h.dups(newmutationsset)"
   ]
  },
  {
   "cell_type": "code",
   "execution_count": null,
   "metadata": {},
   "outputs": [],
   "source": [
    "len(dups)"
   ]
  },
  {
   "cell_type": "code",
   "execution_count": null,
   "metadata": {},
   "outputs": [],
   "source": [
    "newmutationsset = set(newmutationsset)"
   ]
  },
  {
   "cell_type": "code",
   "execution_count": null,
   "metadata": {},
   "outputs": [],
   "source": [
    "mutations_20Q2_all[['DepMap_ID','Chromosome','Start_position','End_position']] = mutations_20Q2_all[['DepMap_ID','Chromosome','Start_position','End_position']].astype(str)\n",
    "mutations_20Q2_allset = mutations_20Q2_all['DepMap_ID']+'_'+mutations_20Q2_all['Chromosome']+':'+mutations_20Q2_all['Start_position']+'-'+mutations_20Q2_all['End_position']\n",
    "mutations_20Q2_all['grouped'] = mutations_20Q2_allset"
   ]
  },
  {
   "cell_type": "code",
   "execution_count": null,
   "metadata": {},
   "outputs": [],
   "source": [
    "len(mutations_20Q2_allset)"
   ]
  },
  {
   "cell_type": "code",
   "execution_count": null,
   "metadata": {},
   "outputs": [],
   "source": [
    "dups = h.dups(mutations_20Q2_allset)"
   ]
  },
  {
   "cell_type": "markdown",
   "metadata": {},
   "source": [
    "### issues with duplicates"
   ]
  },
  {
   "cell_type": "code",
   "execution_count": null,
   "metadata": {},
   "outputs": [],
   "source": [
    "## How come?? the merging did not work well\n",
    "len(dups)"
   ]
  },
  {
   "cell_type": "code",
   "execution_count": null,
   "metadata": {},
   "outputs": [],
   "source": [
    "set(mutations_20Q2_all.Variant_Classification)"
   ]
  },
  {
   "cell_type": "code",
   "execution_count": null,
   "metadata": {},
   "outputs": [],
   "source": [
    "mutations_20Q2_all[mutations_20Q2_all['grouped']==dups[0]]"
   ]
  },
  {
   "cell_type": "code",
   "execution_count": null,
   "metadata": {},
   "outputs": [],
   "source": [
    "mutations_20Q2_all[mutations_20Q2_all['grouped']==dups[0]][mutations_20Q2_all.columns[:20]]"
   ]
  },
  {
   "cell_type": "code",
   "execution_count": null,
   "metadata": {},
   "outputs": [],
   "source": [
    "submutations_20Q2_all = mutations_20Q2_all[~(mutations_20Q2_all.CGA_WES_AC.isna())] #& mutations_20Q2_all.SangerRecalibWES_AC.isna())]"
   ]
  },
  {
   "cell_type": "code",
   "execution_count": null,
   "metadata": {},
   "outputs": [],
   "source": [
    "len(submutations_20Q2_all) "
   ]
  },
  {
   "cell_type": "code",
   "execution_count": null,
   "metadata": {},
   "outputs": [],
   "source": [
    "len(set(submutations_20Q2_all.DepMap_ID))"
   ]
  },
  {
   "cell_type": "code",
   "execution_count": null,
   "metadata": {},
   "outputs": [],
   "source": [
    "submutations_20Q2_allset = submutations_20Q2_all.grouped"
   ]
  },
  {
   "cell_type": "code",
   "execution_count": null,
   "metadata": {},
   "outputs": [],
   "source": [
    "mutations_20Q2_allset = mutations_20Q2_all.grouped"
   ]
  },
  {
   "cell_type": "markdown",
   "metadata": {},
   "source": [
    "### similarity"
   ]
  },
  {
   "cell_type": "code",
   "execution_count": null,
   "metadata": {},
   "outputs": [],
   "source": [
    "len(set(submutations_20Q2_allset) & set(newmutationsset))/ len(submutations_20Q2_allset)"
   ]
  },
  {
   "cell_type": "code",
   "execution_count": null,
   "metadata": {},
   "outputs": [],
   "source": [
    "[i for i in submutations_20Q2_allset if type(i)!= str]"
   ]
  },
  {
   "cell_type": "code",
   "execution_count": null,
   "metadata": {},
   "outputs": [],
   "source": [
    "len(set(submutations_20Q2_allset) - set(newmutationsset))"
   ]
  },
  {
   "cell_type": "code",
   "execution_count": null,
   "metadata": {},
   "outputs": [],
   "source": [
    "len(set(submutations_20Q2_allset) & set(newmutationsset))/ len(newmutationsset)"
   ]
  },
  {
   "cell_type": "code",
   "execution_count": null,
   "metadata": {},
   "outputs": [],
   "source": [
    "subnewmutationsset = set(newmutations[newmutations.Tumor_Sample_Barcode.isin(submutations_20Q2_all.DepMap_ID)].grouped)\n",
    "len(set(submutations_20Q2_allset) & set(subnewmutationsset))/ len(subnewmutationsset)"
   ]
  },
  {
   "cell_type": "code",
   "execution_count": null,
   "metadata": {},
   "outputs": [],
   "source": [
    "len(set(subnewmutationsset)- set(submutations_20Q2_allset))"
   ]
  },
  {
   "cell_type": "code",
   "execution_count": null,
   "metadata": {},
   "outputs": [],
   "source": [
    "on = newmutations[newmutations.Tumor_Sample_Barcode.isin(set(submutations_20Q2_allset) & set(subnewmutationsset))]"
   ]
  },
  {
   "cell_type": "markdown",
   "metadata": {},
   "source": [
    "### similarity with everything from all datasets"
   ]
  },
  {
   "cell_type": "code",
   "execution_count": null,
   "metadata": {},
   "outputs": [],
   "source": [
    "len(set(newmutationsset) - set(mutations_20Q2_allset))"
   ]
  },
  {
   "cell_type": "code",
   "execution_count": null,
   "metadata": {},
   "outputs": [],
   "source": [
    "len(set(mutations_20Q2_allset) & set(newmutationsset))/ len(mutations_20Q2_allset)"
   ]
  },
  {
   "cell_type": "code",
   "execution_count": null,
   "metadata": {},
   "outputs": [],
   "source": [
    "len(mutations_20Q2_all[mutations_20Q2_all.CGA_WES_AC.isna() & mutations_20Q2_all.SangerRecalibWES_AC.isna()])/ len(mutations_20Q2_all)"
   ]
  },
  {
   "cell_type": "markdown",
   "metadata": {},
   "source": [
    "# INVESTIGATE ??"
   ]
  },
  {
   "cell_type": "markdown",
   "metadata": {},
   "source": [
    "## correct for number of cell lines and look at it for each columns ??"
   ]
  },
  {
   "cell_type": "code",
   "execution_count": null,
   "metadata": {},
   "outputs": [],
   "source": [
    "len(set(mutations_20Q2_all[mutations_20Q2_all.DepMap_ID.isin(newmutations.Tumor_Sample_Barcode)].grouped) - set(newmutations[newmutations.Tumor_Sample_Barcode.isin(mutations_20Q2_all.DepMap_ID)].grouped))"
   ]
  },
  {
   "cell_type": "code",
   "execution_count": null,
   "metadata": {},
   "outputs": [],
   "source": [
    "submutations_20Q2_all[submutations_20Q2_all.grouped.isin(set(submutations_20Q2_allset) - set(newmutationsset))]"
   ]
  },
  {
   "cell_type": "code",
   "execution_count": null,
   "metadata": {},
   "outputs": [],
   "source": [
    "notfound = submutations_20Q2_all[submutations_20Q2_all.grouped.isin(set(submutations_20Q2_allset) - set(newmutationsset))]"
   ]
  },
  {
   "cell_type": "code",
   "execution_count": null,
   "metadata": {},
   "outputs": [],
   "source": [
    "len(notfound)"
   ]
  },
  {
   "cell_type": "code",
   "execution_count": null,
   "metadata": {},
   "outputs": [],
   "source": [
    "# how many genes\n",
    "len(set(notfound.Hugo_Symbol))"
   ]
  },
  {
   "cell_type": "code",
   "execution_count": null,
   "metadata": {},
   "outputs": [],
   "source": [
    "len(set())"
   ]
  },
  {
   "cell_type": "code",
   "execution_count": null,
   "metadata": {},
   "outputs": [],
   "source": [
    "newmutations"
   ]
  },
  {
   "cell_type": "code",
   "execution_count": null,
   "metadata": {},
   "outputs": [],
   "source": [
    "newmutations[newmutations.Tumor_Sample_Barcode.isin(set(notfound.DepMap_ID))]"
   ]
  },
  {
   "cell_type": "code",
   "execution_count": null,
   "metadata": {},
   "outputs": [],
   "source": [
    "notfound[~(notfound.SangerRecalibWES_AC.isna() & notfound.SangerWES_AC.isna() & notfound.HC_AC.isna() & notfound.WGS_AC.isna() & notfound.RNAseq_AC.isna() &notfound.RD_AC.isna())]"
   ]
  },
  {
   "cell_type": "markdown",
   "metadata": {},
   "source": [
    "### only one half of the notfound mutations were backed by any other analysis, showing an FP rate of 50%"
   ]
  },
  {
   "cell_type": "code",
   "execution_count": null,
   "metadata": {},
   "outputs": [],
   "source": [
    "len(set(newmutationsset) - set(mutations_20Q2_allset))"
   ]
  },
  {
   "cell_type": "markdown",
   "metadata": {},
   "source": [
    "### what about the other way around? need to merge"
   ]
  },
  {
   "cell_type": "code",
   "execution_count": null,
   "metadata": {},
   "outputs": [],
   "source": [
    "len(set(subnewmutationsset) - set(submutations_20Q2_allset))"
   ]
  },
  {
   "cell_type": "code",
   "execution_count": null,
   "metadata": {},
   "outputs": [],
   "source": [
    "len(set(subnewmutationsset) - set(submutations_20Q2_allset))"
   ]
  },
  {
   "cell_type": "code",
   "execution_count": null,
   "metadata": {},
   "outputs": [],
   "source": [
    "len(set(mutations_20Q2_allset) & (set(subnewmutationsset) - set(submutations_20Q2_allset)))"
   ]
  },
  {
   "cell_type": "code",
   "execution_count": null,
   "metadata": {},
   "outputs": [],
   "source": [
    "len(set(newmutations[newmutations.grouped.isin(set(subnewmutationsset) - set(submutations_20Q2_allset))].Tumor_Sample_Barcode))"
   ]
  },
  {
   "cell_type": "code",
   "execution_count": null,
   "metadata": {},
   "outputs": [],
   "source": [
    "len(set(submutations_20Q2_allset)-set(subnewmutationsset))"
   ]
  },
  {
   "cell_type": "code",
   "execution_count": null,
   "metadata": {},
   "outputs": [],
   "source": [
    "len(set(mutations_20Q2_all[mutations_20Q2_all.grouped.isin(set(submutations_20Q2_allset) - set(subnewmutationsset))].Tumor_Sample_Barcode))"
   ]
  },
  {
   "cell_type": "code",
   "execution_count": null,
   "metadata": {},
   "outputs": [],
   "source": [
    "len(set(mutations_20Q2_all[mutations_20Q2_all.grouped.isin(set(submutations_20Q2_allset))].Tumor_Sample_Barcode))"
   ]
  },
  {
   "cell_type": "code",
   "execution_count": null,
   "metadata": {},
   "outputs": [],
   "source": [
    "newmutations[newmutations.grouped.isin(set(newmutationsset) - set(mutations_20Q2_allset))]"
   ]
  },
  {
   "cell_type": "code",
   "execution_count": null,
   "metadata": {},
   "outputs": [],
   "source": [
    "len(set(newmutations[newmutations.grouped.isin(set(newmutationsset) - set(mutations_20Q2_allset))].Tumor_Sample_Barcode))"
   ]
  },
  {
   "cell_type": "code",
   "execution_count": null,
   "metadata": {},
   "outputs": [],
   "source": [
    "len(set(mutations_20Q2_all[mutations_20Q2_all.grouped.isin(set(mutations_20Q2_allset) - set(newmutationsset))].Tumor_Sample_Barcode))"
   ]
  },
  {
   "cell_type": "code",
   "execution_count": null,
   "metadata": {},
   "outputs": [],
   "source": [
    "a = np.array(mutations_20Q2_all[~mutations_20Q2_all['CGA_WES_AC'].isna()]['CGA_WES_AC'].str.split(':').tolist())[:,0].astype(int)"
   ]
  },
  {
   "cell_type": "code",
   "execution_count": null,
   "metadata": {},
   "outputs": [],
   "source": [
    "mutations_20Q2_all[~mutations_20Q2_all['CGA_WES_AC'].isna()].iloc[np.where(a==0)]"
   ]
  },
  {
   "cell_type": "code",
   "execution_count": null,
   "metadata": {},
   "outputs": [],
   "source": [
    "a = np.array(newmutations['CGA_WES_AC'].str.split(':').tolist()).astype(int)"
   ]
  },
  {
   "cell_type": "code",
   "execution_count": null,
   "metadata": {},
   "outputs": [],
   "source": [
    "a = np.array(mutations_20Q2_all[mutations_20Q2_all.grouped.isin(set(submutations_20Q2_allset) - set(subnewmutationsset))]['CGA_WES_AC'].str.split(':').tolist())"
   ]
  },
  {
   "cell_type": "code",
   "execution_count": null,
   "metadata": {},
   "outputs": [],
   "source": [
    "np.where(a=='NA')"
   ]
  },
  {
   "cell_type": "code",
   "execution_count": null,
   "metadata": {},
   "outputs": [],
   "source": [
    "a[1148]"
   ]
  },
  {
   "cell_type": "code",
   "execution_count": null,
   "metadata": {},
   "outputs": [],
   "source": [
    "mutations_20Q2_all[mutations_20Q2_all.grouped.isin(set(submutations_20Q2_allset) - set(subnewmutationsset))]['CGA_WES_AC'].iloc[1148]"
   ]
  },
  {
   "cell_type": "code",
   "execution_count": null,
   "metadata": {},
   "outputs": [],
   "source": [
    "alternate = np.array(mutations_20Q2_all[mutations_20Q2_all.grouped.isin(set(submutations_20Q2_allset) - set(subnewmutationsset))]['CGA_WES_AC'].str.split(':').tolist())[:,0].astype(int)\n",
    "a,b = np.unique(alternate, return_counts=True)\n",
    "fig, ax = plt.subplots(figsize=(10,10))\n",
    "ax=sns.barplot(x=a[:90],y=b[:90], ci=None, ax=ax)\n",
    "ax.set_yscale('log')"
   ]
  },
  {
   "cell_type": "code",
   "execution_count": null,
   "metadata": {},
   "outputs": [],
   "source": [
    "alternate = np.array(newmutations[newmutations.grouped.isin(set(newmutationsset) - set(mutations_20Q2_allset))]['CGA_WES_AC'].str.split(':').tolist()).astype(int)[:,0]"
   ]
  },
  {
   "cell_type": "code",
   "execution_count": null,
   "metadata": {},
   "outputs": [],
   "source": [
    "alternate.mean()"
   ]
  },
  {
   "cell_type": "code",
   "execution_count": null,
   "metadata": {},
   "outputs": [],
   "source": [
    "alternate.min()"
   ]
  },
  {
   "cell_type": "code",
   "execution_count": null,
   "metadata": {},
   "outputs": [],
   "source": [
    "import seaborn as sns\n",
    "import matplotlib.pyplot as plt"
   ]
  },
  {
   "cell_type": "markdown",
   "metadata": {},
   "source": [
    "### distribution of alternate allele count in the mutation newly found by the new pipeline"
   ]
  },
  {
   "cell_type": "code",
   "execution_count": null,
   "metadata": {},
   "outputs": [],
   "source": [
    "a,b = np.unique(alternate, return_counts=True)\n",
    "fig, ax = plt.subplots(figsize=(10,10))\n",
    "ax=sns.barplot(x=a[:40],y=b[:40], ci=None, ax=ax)\n",
    "ax.set_yscale('log')"
   ]
  },
  {
   "cell_type": "code",
   "execution_count": null,
   "metadata": {},
   "outputs": [],
   "source": [
    "len(alternate[alternate>2]) / len(alternate) "
   ]
  },
  {
   "cell_type": "code",
   "execution_count": null,
   "metadata": {},
   "outputs": [],
   "source": [
    "len(alternate[alternate>3]) / len(alternate) "
   ]
  },
  {
   "cell_type": "code",
   "execution_count": null,
   "metadata": {},
   "outputs": [],
   "source": [
    "onlyinnew = newmutations[newmutations.grouped.isin(set(newmutationsset) - set(mutations_20Q2_allset))]\n",
    "highconf = onlyinnew[(onlyinnew['CGA_WES_AC'].str.split(':').str[0].values.astype(int)>2) & (onlyinnew['PERC_CGA_WES_AC'].values.astype(float)>0.1)]"
   ]
  },
  {
   "cell_type": "markdown",
   "metadata": {},
   "source": [
    "### We can see that 97% seems to come from good quality additional mutations, we should filter the other ones as is done in guillaume's pipelines"
   ]
  },
  {
   "cell_type": "code",
   "execution_count": null,
   "metadata": {},
   "outputs": [],
   "source": [
    "len(highconf)/len(onlyinnew)"
   ]
  },
  {
   "cell_type": "markdown",
   "metadata": {},
   "source": [
    "### 5-10% are really mutations no one know what to do with"
   ]
  },
  {
   "cell_type": "code",
   "execution_count": null,
   "metadata": {},
   "outputs": [],
   "source": [
    "whatarethey = onlyinnew[(onlyinnew['CGA_WES_AC'].str.split(':').str[0].values.astype(int)>20) & (onlyinnew['PERC_CGA_WES_AC'].values.astype(float)<0.2)]"
   ]
  },
  {
   "cell_type": "code",
   "execution_count": null,
   "metadata": {},
   "outputs": [],
   "source": [
    "len(whatarethey)/len(onlyinnew)"
   ]
  },
  {
   "cell_type": "code",
   "execution_count": null,
   "metadata": {},
   "outputs": [],
   "source": [
    "len(newmutations[newmutations['Variant_Classification']=='Silent'])"
   ]
  },
  {
   "cell_type": "markdown",
   "metadata": {},
   "source": [
    "## Number of mutation on the same gene"
   ]
  },
  {
   "cell_type": "code",
   "execution_count": null,
   "metadata": {},
   "outputs": [],
   "source": [
    "maf = newmutations[newmutations['Variant_Classification']!='Silent']\n",
    "samplesCol = \"Tumor_Sample_Barcode\"\n",
    "mutNameCol=\"Hugo_Symbol\"\n",
    "col= \"PERC_CGA_WES_AC\"\n",
    "maf = maf.sort_values(by = mutNameCol)\n",
    "samples = set(maf[samplesCol])\n",
    "mut = pd.DataFrame(data = np.zeros((len(set(maf[mutNameCol])), 1)), columns=['fake'], index=set(maf[mutNameCol])).astype(float)\n",
    "a = {}\n",
    "du = []\n",
    "counts=[]\n",
    "for i,val in enumerate(samples):\n",
    "    h.showcount(i,len(samples))\n",
    "    e = maf[maf[samplesCol]==val]\n",
    "    dups = h.dups(e[mutNameCol])\n",
    "    a[val] = len(dups)/len(e)\n",
    "    du.extend(dups)\n",
    "    if dups:\n",
    "        for v in dups:\n",
    "            m = e[e[mutNameCol]==v]\n",
    "            if m[col].mean() >0.75:\n",
    "                counts.append(m[['Tumor_Sample_Barcode', 'PERC_CGA_WES_AC', 'Hugo_Symbol', 'Variant_Classification']].values)"
   ]
  },
  {
   "cell_type": "code",
   "execution_count": null,
   "metadata": {},
   "outputs": [],
   "source": [
    "a = pd.DataFrame(data=a,index=['dupmut_to_mut'])"
   ]
  },
  {
   "cell_type": "code",
   "execution_count": null,
   "metadata": {},
   "outputs": [],
   "source": [
    "a=a.T"
   ]
  },
  {
   "cell_type": "code",
   "execution_count": null,
   "metadata": {},
   "outputs": [],
   "source": [
    "a.max(),a.min(),a.mean(),a.var()"
   ]
  },
  {
   "cell_type": "markdown",
   "metadata": {},
   "source": [
    "### 5% of damaging mutations occur on the same gene."
   ]
  },
  {
   "cell_type": "code",
   "execution_count": null,
   "metadata": {},
   "outputs": [],
   "source": [
    "a.values[0]"
   ]
  },
  {
   "cell_type": "code",
   "execution_count": null,
   "metadata": {},
   "outputs": [],
   "source": [
    "sns.kdeplot(data = a.values[0])"
   ]
  },
  {
   "cell_type": "markdown",
   "metadata": {},
   "source": [
    "### filtered by silent"
   ]
  },
  {
   "cell_type": "code",
   "execution_count": null,
   "metadata": {},
   "outputs": [],
   "source": [
    "a = pd.DataFrame(data=a,index=['dupmut_to_mut'])"
   ]
  },
  {
   "cell_type": "code",
   "execution_count": null,
   "metadata": {},
   "outputs": [],
   "source": [
    "a=a.T"
   ]
  },
  {
   "cell_type": "code",
   "execution_count": null,
   "metadata": {},
   "outputs": [],
   "source": [
    "a.max(),a.min(),a.mean(),a.var()"
   ]
  },
  {
   "cell_type": "code",
   "execution_count": null,
   "metadata": {},
   "outputs": [],
   "source": [
    "sns.kdeplot(data = a.T.values[0])"
   ]
  },
  {
   "cell_type": "code",
   "execution_count": null,
   "metadata": {},
   "outputs": [],
   "source": [
    "from collections import Counter\n",
    "dudf = pd.DataFrame(data=Counter(du).values(), index=Counter(du).keys(),columns=['counts'])"
   ]
  },
  {
   "cell_type": "code",
   "execution_count": null,
   "metadata": {},
   "outputs": [],
   "source": [
    "dudf = dudf.sort_values(by='counts')"
   ]
  },
  {
   "cell_type": "code",
   "execution_count": null,
   "metadata": {},
   "outputs": [],
   "source": [
    "dudf = dudf[dudf.counts>20]"
   ]
  },
  {
   "cell_type": "code",
   "execution_count": null,
   "metadata": {},
   "outputs": [],
   "source": [
    "dudf.iloc[-50:]"
   ]
  },
  {
   "cell_type": "code",
   "execution_count": null,
   "metadata": {},
   "outputs": [],
   "source": [
    "from pybiomart import Server\n",
    "server = Server(host='http://www.ensembl.org')\n",
    "dataset = (server.marts['ENSEMBL_MART_ENSEMBL']\n",
    "                 .datasets['hsapiens_gene_ensembl'])"
   ]
  },
  {
   "cell_type": "code",
   "execution_count": null,
   "metadata": {},
   "outputs": [],
   "source": [
    "table = dataset.query(attributes=[\"hgnc_symbol\", \"start_position\",\"end_position\"])\n"
   ]
  },
  {
   "cell_type": "code",
   "execution_count": null,
   "metadata": {},
   "outputs": [],
   "source": [
    "table = table[~table['HGNC symbol'].isna()]"
   ]
  },
  {
   "cell_type": "code",
   "execution_count": null,
   "metadata": {},
   "outputs": [],
   "source": [
    "table['size'] = table['Gene end (bp)'] - table['Gene start (bp)']"
   ]
  },
  {
   "cell_type": "code",
   "execution_count": null,
   "metadata": {},
   "outputs": [],
   "source": [
    "size=[]\n",
    "for i in dudf.index:\n",
    "    a = sum(table[table['HGNC symbol']==i]['size'])\n",
    "    if a==0:\n",
    "        dudf = dudf.drop(i)\n",
    "        continue\n",
    "    size.append(a)\n",
    "dudf['size']=size"
   ]
  },
  {
   "cell_type": "code",
   "execution_count": null,
   "metadata": {},
   "outputs": [],
   "source": [
    "dudf['normalized'] = dudf['counts']/dudf['size']"
   ]
  },
  {
   "cell_type": "code",
   "execution_count": null,
   "metadata": {},
   "outputs": [],
   "source": [
    "dudf['normalized'] = dudf['normalized'] /max(dudf['normalized'])"
   ]
  },
  {
   "cell_type": "code",
   "execution_count": null,
   "metadata": {},
   "outputs": [],
   "source": [
    "dudf.sort_values(by='normalized').iloc[-50:]"
   ]
  },
  {
   "cell_type": "code",
   "execution_count": null,
   "metadata": {},
   "outputs": [],
   "source": [
    "# normalize the list to gene size"
   ]
  },
  {
   "cell_type": "markdown",
   "metadata": {},
   "source": [
    "This is linked to gene size and association to cancer:\n",
    "    - TTN: 250k\n",
    "    - MUC16: 132 kb\n",
    "    - LRP1B: 1900kb\n",
    "    - PCLO: 400kb\n",
    "    - TP53: 25kb\n",
    "    \n",
    "But why would cancer need 2 specific damaging mutations in one very important gene?\n",
    "\n",
    "- still passenger? (would be a helpful info to estimate what is passenger and what is not)\n",
    "- one of the mutation was not being effective?\n",
    "- is there a new phenotype from that?\n",
    "\n",
    "Why do we get a statistically significative number? \n",
    "-> there might be tons of mutations, only the few that are deemed \"reportable\" by CGA are in the most well known genes. Meaning we are heavily skewed towards these mutations "
   ]
  },
  {
   "cell_type": "markdown",
   "metadata": {},
   "source": [
    "### what about allele frequency"
   ]
  },
  {
   "cell_type": "code",
   "execution_count": null,
   "metadata": {},
   "outputs": [],
   "source": [
    "counts = np.concatenate(counts, axis=0 )"
   ]
  },
  {
   "cell_type": "code",
   "execution_count": null,
   "metadata": {},
   "outputs": [],
   "source": [
    "len(set(counts[:,0]))"
   ]
  },
  {
   "cell_type": "code",
   "execution_count": null,
   "metadata": {},
   "outputs": [],
   "source": [
    "len(set(counts[:,2]))"
   ]
  },
  {
   "cell_type": "code",
   "execution_count": null,
   "metadata": {},
   "outputs": [],
   "source": [
    "len(counts) / (1200000*0.047 )"
   ]
  },
  {
   "cell_type": "code",
   "execution_count": null,
   "metadata": {},
   "outputs": [],
   "source": [
    "c = pd.DataFrame(data=Counter(counts[:,2]).values(), index=Counter(counts[:,2]).keys(),columns=['counts']).sort_values(by='counts')/2"
   ]
  },
  {
   "cell_type": "code",
   "execution_count": null,
   "metadata": {},
   "outputs": [],
   "source": [
    "c"
   ]
  },
  {
   "cell_type": "code",
   "execution_count": null,
   "metadata": {},
   "outputs": [],
   "source": [
    "size=[]\n",
    "for i in c.index:\n",
    "    a = sum(table[table['HGNC symbol']==i]['size'])\n",
    "    if a==0:\n",
    "        c = c.drop(i)\n",
    "        continue\n",
    "    size.append(a)\n",
    "c['size']=size"
   ]
  },
  {
   "cell_type": "code",
   "execution_count": null,
   "metadata": {},
   "outputs": [],
   "source": [
    "c['normalized'] = c['counts']/c['size']\n",
    "c['normalized'] = c['normalized'] /max(c['normalized'])"
   ]
  },
  {
   "cell_type": "code",
   "execution_count": null,
   "metadata": {},
   "outputs": [],
   "source": [
    "c[c.counts>8].sort_values(by='normalized').iloc[-50:]"
   ]
  },
  {
   "cell_type": "markdown",
   "metadata": {},
   "source": [
    "1/3 of cell lines have on average 2 genes with a double hit homozygous deleterious mutation. \n",
    "\n",
    "95% of the double hit damaging mutation could pertain to the known double hit model \n"
   ]
  },
  {
   "cell_type": "markdown",
   "metadata": {},
   "source": [
    "## Comparing Sanger vs new data\n",
    "- sanger processed vs notsanger processed. sanger not in new; in new no in sanger;\n",
    "- we have maf files for the two pipelines on the same samples"
   ]
  },
  {
   "cell_type": "code",
   "execution_count": null,
   "metadata": {},
   "outputs": [],
   "source": [
    "sangmutations_20Q2_all = mutations_20Q2_all[~mutations_20Q2_all['SangerWES_AC'].isna()]"
   ]
  },
  {
   "cell_type": "code",
   "execution_count": null,
   "metadata": {},
   "outputs": [],
   "source": [
    "len(sangmutations_20Q2_all) "
   ]
  },
  {
   "cell_type": "code",
   "execution_count": null,
   "metadata": {},
   "outputs": [],
   "source": [
    "sangmutations_20Q2_allset = set(sangmutations_20Q2_all.grouped)"
   ]
  },
  {
   "cell_type": "code",
   "execution_count": null,
   "metadata": {},
   "outputs": [],
   "source": [
    "subnewmutationsset = set(newmutations[newmutations.Tumor_Sample_Barcode.isin(sangmutations_20Q2_all.DepMap_ID)].grouped)"
   ]
  },
  {
   "cell_type": "markdown",
   "metadata": {},
   "source": [
    "### similarity"
   ]
  },
  {
   "cell_type": "code",
   "execution_count": null,
   "metadata": {},
   "outputs": [],
   "source": [
    "len(sangmutations_20Q2_allset - subnewmutationsset)"
   ]
  },
  {
   "cell_type": "code",
   "execution_count": null,
   "metadata": {},
   "outputs": [],
   "source": [
    "len(subnewmutationsset - sangmutations_20Q2_allset)"
   ]
  },
  {
   "cell_type": "code",
   "execution_count": null,
   "metadata": {},
   "outputs": [],
   "source": [
    "alternate = np.array(sangmutations_20Q2_all['SangerWES_AC'].str.split(':').tolist()).astype(int)[:,0]"
   ]
  },
  {
   "cell_type": "code",
   "execution_count": null,
   "metadata": {},
   "outputs": [],
   "source": [
    "a,b = np.unique(alternate, return_counts=True)\n",
    "fig, ax = plt.subplots(figsize=(10,10))\n",
    "ax=sns.barplot(x=a[:40],y=b[:40], ci=None, ax=ax)\n",
    "ax.set_yscale('log')"
   ]
  },
  {
   "cell_type": "code",
   "execution_count": null,
   "metadata": {},
   "outputs": [],
   "source": [
    "alternate = np.array(sangmutations_20Q2_all[sangmutations_20Q2_all.grouped.isin(sangmutations_20Q2_allset - subnewmutationsset)]['SangerWES_AC'].str.split(':').tolist()).astype(int)[:,0]\n",
    "a,b = np.unique(alternate, return_counts=True)\n",
    "fig, ax = plt.subplots(figsize=(10,10))\n",
    "ax=sns.barplot(x=a[:40],y=b[:40], ci=None, ax=ax)\n",
    "ax.set_yscale('log')"
   ]
  },
  {
   "cell_type": "code",
   "execution_count": null,
   "metadata": {},
   "outputs": [],
   "source": [
    "mutations_20Q2_all[(mutations_20Q2_all.grouped.isin(sangmutations_20Q2_allset - subnewmutationsset)) & ~(mutations_20Q2_all.HC_AC.isna() & mutations_20Q2_all.WGS_AC.isna() & mutations_20Q2_all.RNAseq_AC.isna() & mutations_20Q2_all.RD_AC.isna())]"
   ]
  },
  {
   "cell_type": "code",
   "execution_count": null,
   "metadata": {},
   "outputs": [],
   "source": [
    "## You haven't removed cell lines?? make it a bit more clear!"
   ]
  },
  {
   "cell_type": "code",
   "execution_count": null,
   "metadata": {},
   "outputs": [],
   "source": [
    "len(mutations_20Q2_all[(mutations_20Q2_all.grouped.isin(sangmutations_20Q2_allset - subnewmutationsset)) & ~((mutations_20Q2_all.HC_AC.isna() & mutations_20Q2_all.WGS_AC.isna() & mutations_20Q2_all.RNAseq_AC.isna() & mutations_20Q2_all.RD_AC.isna()))]) / len(mutations_20Q2_all[mutations_20Q2_all.grouped.isin(sangmutations_20Q2_allset - subnewmutationsset)])"
   ]
  },
  {
   "cell_type": "code",
   "execution_count": null,
   "metadata": {},
   "outputs": [],
   "source": [
    "len(mutations_20Q2_all[(mutations_20Q2_all.grouped.isin(subnewmutationsset- sangmutations_20Q2_allset)) & ~((mutations_20Q2_all.HC_AC.isna() & mutations_20Q2_all.WGS_AC.isna() & mutations_20Q2_all.RNAseq_AC.isna() & mutations_20Q2_all.RD_AC.isna()))]) / len(mutations_20Q2_all[mutations_20Q2_all.grouped.isin(subnewmutationsset- sangmutations_20Q2_allset)])"
   ]
  },
  {
   "cell_type": "markdown",
   "metadata": {},
   "source": [
    "mmh it is interresting that we get more \"good quality peaks\" with the Sanger PiPeline than the CGA Pipeline"
   ]
  },
  {
   "cell_type": "markdown",
   "metadata": {},
   "source": [
    "## working on the new all python pipeline"
   ]
  },
  {
   "cell_type": "code",
   "execution_count": null,
   "metadata": {},
   "outputs": [],
   "source": [
    "old_dataset = mutations_20Q2_all.drop(columns='CGA_WES_AC')"
   ]
  },
  {
   "cell_type": "code",
   "execution_count": null,
   "metadata": {},
   "outputs": [],
   "source": [
    "hc_mutations = mutations_20Q2_all[~mutations_20Q2_all.HC_AC.isna()].drop(columns=['CGA_WES_AC',\"SangerRecalibWES_AC\",\"SangerWES_AC\",\"WGS_AC\",\"RNAseq_AC\",\"RD_AC\"])\n",
    "wgs_mutations = mutations_20Q2_all[~mutations_20Q2_all.WGS_AC.isna()].drop(columns=['CGA_WES_AC',\"SangerRecalibWES_AC\",\"SangerWES_AC\",\"HC_AC\",\"RNAseq_AC\",\"RD_AC\"])\n",
    "rna_mutations = mutations_20Q2_all[~mutations_20Q2_all.RNAseq_AC.isna()].drop(columns=['CGA_WES_AC',\"SangerRecalibWES_AC\",\"SangerWES_AC\",\"HC_AC\",\"WGS_AC\",\"RD_AC\"])\n",
    "rd_mutations = mutations_20Q2_all[~mutations_20Q2_all.RD_AC.isna()].drop(columns=['CGA_WES_AC',\"SangerRecalibWES_AC\",\"SangerWES_AC\",\"HC_AC\",\"RNAseq_AC\",\"WGS_AC\"])\n",
    "sanger_mutations = mutations_20Q2_all[~mutations_20Q2_all.SangerWES_AC.isna()].drop(columns=['CGA_WES_AC',\"SangerRecalibWES_AC\",\"RD_AC\",\"HC_AC\",\"RNAseq_AC\",\"WGS_AC\"])"
   ]
  },
  {
   "cell_type": "code",
   "execution_count": null,
   "metadata": {},
   "outputs": [],
   "source": [
    "def filterCoverage(maf, loc=['CGA_WES_AC'], sep=':',cov=4):\n",
    "    muts=np.zeroes((len(maf),2))\n",
    "    for val in loc:\n",
    "        muts+= np.array([[v[0],0] if 'NA' in v else v for v in mutations_20Q2_all[val].fillna('0'+sep+'0').astype(str).str.split(sep).tolist()]).astype(int)\n",
    "    return maf[muts[:,1]>=cov]\n",
    "\n",
    "def filterAllelicFraction(maf, loc=['CGA_WES_AC'], sep=':',frac=0.3):\n",
    "    muts=np.zeroes((len(maf),2))\n",
    "    for val in loc:\n",
    "        muts+= np.array([[v[0],0] if 'NA' in v else v for v in mutations_20Q2_all[val].fillna('0'+sep+'0').astype(str).str.split(sep).tolist()]).astype(int)\n",
    "    muts = muts[:,0]/muts[:,1]\n",
    "    return maf[muts>=frac]\n",
    "\n",
    "def mergeAnnotations(newmaf, additionalmaf, additionalonmerge=[]):\n",
    "    on = ['Chromosome', 'Start_position', 'End_position', 'Reference_Allele', 'Tumor_Seq_Allele1']\n",
    "    on.extend(additionalonmerge)\n",
    "    \n",
    "    newmaf = newmaf.join(additionalmaf, on = on)\n",
    "    if \n",
    "    solve issues with Hugo_Symbol, Entrez_Gene_Id\n",
    "    \n",
    "    return newmad\n",
    "    \n",
    "def mergeXY():\n",
    "    dbSNP_RS.x, dbSNP_RS.y\n",
    "\n",
    "\n",
    "def addAnnotation(maf, NCBI_Build='37', Strand=\"+\"):\n",
    "    maf['NCBI_Build'] = NCBI_Build\n",
    "    maf['Strand'] = Strand\n",
    "    maf = maf[['current', 'SangerWES_AC', 'SangerRecalibWES_AC', 'RNAseq_AC', 'HC_AC', 'RD_AC', 'WGS_AC']\n",
    "\n",
    "def mafToMat(maf, col, boolify = False, samplesCol = \"DepMap_ID\", mutNameCol=\"Hugo_Symbol\"):\n",
    "    maf = maf.sort_values(by = mutNameCol)\n",
    "    samples = set(maf[samplesCol])\n",
    "    mut = pd.DataFrame(data = np.zeros((len(set(maf[mutNameCol])), 1)), columns=['fake'], index=set(maf[mutNameCol])).astype(float)\n",
    "    for i,val in enumerate(samples):\n",
    "        h.showcount(i,len(samples))\n",
    "        mut = mut.join(maf[maf[samplesCol]==val].drop_duplicates(mutNameCol).set_index(mutNameCol)[col].rename(val))\n",
    "    return mut.nan_to_num(0).astype(bool if boolify else float).drop(columns=['fake'])"
   ]
  },
  {
   "cell_type": "code",
   "execution_count": null,
   "metadata": {},
   "outputs": [],
   "source": [
    "filtered_mutations = filterCoverage(mutations)\n",
    "filtered_mutations = filterAllelicFraction(filtered_mutations)\n",
    "\n",
    "merged_mutations = addAnnotation(mutations)\n",
    "\n",
    "mafToMat(filtered_mutations[filtered_mutations.damaging]).to_csv('.csv')\n",
    "mafToMat(filtered_mutations[filtered_mutations.other]).to_csv('.csv')\n",
    "mafToMat(filtered_mutations[filtered_mutations.hotspot]).to_csv('.csv')\n",
    "\n",
    "\n",
    "CCLE2othermutations = \n",
    "\n",
    "mutations = mergeAnnotations(filtered_mutations, CCLE2othermutations)\n",
    "\n",
    "#making \n",
    "for muttype in ['']:\n",
    "    mafToMat(CCLE2othermutations[CCLE2othermutations.damaging & CCLE2othermutations[muttype]]).to_csv(''+muttype+\".csv\")\n",
    "    mafToMat(CCLE2othermutations[CCLE2othermutations.other & CCLE2othermutations[muttype]]).to_csv(''+muttype+\".csv\")\n",
    "    mafToMat(CCLE2othermutations[CCLE2othermutations.hotspot & CCLE2othermutations[muttype]]).to_csv(''+muttype+\".csv\")"
   ]
  },
  {
   "cell_type": "markdown",
   "metadata": {},
   "source": [
    "# Looking at the new unfiltered MAF"
   ]
  },
  {
   "cell_type": "code",
   "execution_count": null,
   "metadata": {},
   "outputs": [],
   "source": [
    "unfiltered = res['unfiltered_CGA_MAF_aggregated']\n",
    "! gsutil cp $unfiltered \"temp/mutation_unfiltered_terra_merged.txt\""
   ]
  },
  {
   "cell_type": "code",
   "execution_count": null,
   "metadata": {},
   "outputs": [],
   "source": [
    "unfiltered = pd.read_csv('temp/mutation_unfiltered_terra_merged.txt', sep='\\t', encoding='L6',na_values=[\"__UNKNOWN__\"])"
   ]
  },
  {
   "cell_type": "code",
   "execution_count": null,
   "metadata": {},
   "outputs": [],
   "source": [
    "unfiltered = unfiltered.astype(str).replace(['.',\"__UNKNOWN__\"],None)"
   ]
  },
  {
   "cell_type": "code",
   "execution_count": null,
   "metadata": {},
   "outputs": [],
   "source": [
    "toremove = []\n",
    "for val in unfiltered.columns:\n",
    "    if len(unfiltered[unfiltered[val]=='__UNKNOWN__'])>3160000:\n",
    "        toremove.append(val)"
   ]
  },
  {
   "cell_type": "code",
   "execution_count": null,
   "metadata": {},
   "outputs": [],
   "source": [
    "unfiltered=unfiltered.drop(columns=toremove)"
   ]
  },
  {
   "cell_type": "code",
   "execution_count": null,
   "metadata": {},
   "outputs": [],
   "source": [
    "toremove = []\n",
    "for val in unfiltered.columns[40:]:\n",
    "    if len(unfiltered[unfiltered[val]=='nan'])>3160000:\n",
    "        toremove.append(val)\n",
    "    elif len(set(unfiltered[val])-set(['nan']))==1:\n",
    "        toremove.append(val)"
   ]
  },
  {
   "cell_type": "code",
   "execution_count": null,
   "metadata": {},
   "outputs": [],
   "source": [
    "unfiltered = unfiltered.drop(columns=[\"UniProt_Site\",\"alt_allele_seen\",\"CCLE_ONCOMAP_overlapping_mutations\",\"failure_reasons\",\"ESP_CA\",\"SVTYPE\",\"id\",\"gnomADg_GT\",\"ESP_GWAS_PUBMED\", 'dbSNP_Val_Status', 'qual', 'iHpol', 'QSI_ref', 'BCNoise', 'score', 'Familial_Cancer_Genes_Reference', 'NT']+toremove)"
   ]
  },
  {
   "cell_type": "code",
   "execution_count": null,
   "metadata": {},
   "outputs": [],
   "source": [
    "unfiltered['somatic'] = unfiltered['somatic'].replace('nan','False')\n",
    "unfiltered['HGNC_Status'] = unfiltered['HGNC_Status'].replace('nan','Unapproved')\n",
    "unfiltered['judgement'] = unfiltered['judgement'].replace('nan','REMOVE')"
   ]
  },
  {
   "cell_type": "code",
   "execution_count": null,
   "metadata": {},
   "outputs": [],
   "source": [
    "for val in unfiltered.columns:\n",
    "    a = unfiltered[val]\n",
    "    print(val, a[~a.isna()][:10])"
   ]
  },
  {
   "cell_type": "code",
   "execution_count": null,
   "metadata": {},
   "outputs": [],
   "source": [
    "toint =  [\"Start_position\", \"End_position\"]"
   ]
  },
  {
   "cell_type": "code",
   "execution_count": null,
   "metadata": {},
   "outputs": [],
   "source": [
    "for val in toint:\n",
    "    unfiltered[val]  = unfiltered[val].astype('Int64')"
   ]
  },
  {
   "cell_type": "code",
   "execution_count": null,
   "metadata": {},
   "outputs": [],
   "source": [
    "tofloat = [ \"n_ref_count\", \"t_q20_count\", \"t_ins_count\", \"t_lod_fstar\", \"ESP_AvgAAsampleReadDepth\", \"TQSI_NT\", \"normal_f\", \"FDP50\", \"t_lod_fstar_forward\", \"TQSI\", \"tumor_alt_rpir_median\", \"ESP_CP\", \"DP2\", \"ESP_Position\", \"RC\", \"observed_in_normals_count\", \"Transcript_Exon\", \"contaminant_lod\", \"normal_power_wsp\", \"ESP_TotalAAsamplesCovered\", \"n_alt_count\", \"map_Q0_reads\", \"t_alt_max_mapq\", \"ESP_CG\", \"n_q20_count\", \"QSI_NT\", \"ESP_TotalSamplesCovered\", \"contaminant_fraction\", \"tumor_alt_rpir_mad\", \"tumor_f\", \"power_to_detect_negative_strand_artifact\", \"total_reads\", \"t_ref_max_mapq\", \"QSI\", \"ESP_AvgEAsampleReadDepth\", \"IHP\", \"init_n_lod\", \"ORegAnno_bin\", \"t_alt_sum\", \"SUBDP50\", \"t_lod_fstar_reverse\", \"read_depth\", \"t_ref_sum\", \"n_ref_sum\", \"gc_content\", \"t_alt_count\", \"power_to_detect_positive_strand_artifact\", \"IC\", \"normal_power\", \"UniProt_AApos\", \"ESP_TotalEAsamplesCovered\", \"COSMIC_total_alterations_in_gene\", \"normal_power_nsp\", \"CCLE_ONCOMAP_total_mutations_in_gene\", \"init_t_lod\", \"power\", \"tumor_alt_fpir_median\", \"ESP_AvgSampleReadDepth\", \"tumor_power\", \"tumor_alt_fpir_mad\", \"t_del_count\", \"n_alt_sum\", \"COSMIC_n_overlapping_mutations\", \"t_ref_count\", \"DP50\"]"
   ]
  },
  {
   "cell_type": "code",
   "execution_count": null,
   "metadata": {},
   "outputs": [],
   "source": [
    "for val in tofloat[5:]:\n",
    "    try:\n",
    "        unfiltered[val]  = unfiltered[val].astype(float)\n",
    "    except:\n",
    "        print(val)"
   ]
  },
  {
   "cell_type": "code",
   "execution_count": null,
   "metadata": {},
   "outputs": [],
   "source": [
    "unfiltered = unfiltered.reset_index()"
   ]
  },
  {
   "cell_type": "code",
   "execution_count": null,
   "metadata": {},
   "outputs": [],
   "source": [
    "unfiltered.to_csv('temp/mutation_unfiltered_terra_merged.csv.gz')"
   ]
  },
  {
   "cell_type": "code",
   "execution_count": null,
   "metadata": {},
   "outputs": [],
   "source": [
    "unfiltered = pd.read_csv('temp/mutation_unfiltered_terra_merged.csv.gz').drop(columns=['Unnamed: 0','index'])"
   ]
  },
  {
   "cell_type": "code",
   "execution_count": null,
   "metadata": {},
   "outputs": [],
   "source": [
    "unfiltered = unfiltered.rename(columns={'Tumor_Sample_Barcode':'DepMap_ID'})"
   ]
  },
  {
   "cell_type": "code",
   "execution_count": null,
   "metadata": {},
   "outputs": [],
   "source": [
    "unfiltered.dbSNP_RS.str.contains('|',regex=False).sum() / len(unfiltered)"
   ]
  },
  {
   "cell_type": "code",
   "execution_count": null,
   "metadata": {},
   "outputs": [],
   "source": [
    "for val in unfiltered.columns:\n",
    "    try:\n",
    "        a = unfiltered[val].str.contains('|',regex=False).sum()\n",
    "    except:\n",
    "        continue\n",
    "    if  a >3:\n",
    "        print(val)"
   ]
  },
  {
   "cell_type": "code",
   "execution_count": null,
   "metadata": {},
   "outputs": [],
   "source": [
    "renaming = removeOlderVersions(names = set(unfiltered.DepMap_ID), refsamples = refwm.get_samples(), arxspan_id = \"arxspan_id\", version=\"version\")"
   ]
  },
  {
   "cell_type": "code",
   "execution_count": null,
   "metadata": {},
   "outputs": [],
   "source": [
    "unfiltered.to_csv('temp/mutation_unfiltered_terra_merged.csv.gz')"
   ]
  },
  {
   "cell_type": "markdown",
   "metadata": {},
   "source": [
    "## seperating dbSNP status to the rest"
   ]
  },
  {
   "cell_type": "code",
   "execution_count": null,
   "metadata": {},
   "outputs": [],
   "source": [
    "[i for i in unfiltered.columns if 'db' in i]"
   ]
  },
  {
   "cell_type": "markdown",
   "metadata": {},
   "source": [
    "# reprocessing WGS"
   ]
  },
  {
   "cell_type": "markdown",
   "metadata": {},
   "source": [
    "reprocessing CNV /SV / mutations for WGS"
   ]
  },
  {
   "cell_type": "code",
   "execution_count": null,
   "metadata": {},
   "outputs": [],
   "source": [
    "workspace = \"broad-firecloud-ccle/DepMap_WGS_CN\"\n",
    "wm = dm.WorkspaceManager(workspace)"
   ]
  },
  {
   "cell_type": "code",
   "execution_count": null,
   "metadata": {},
   "outputs": [],
   "source": [
    "sub1 = 'e00f369a-ba2f-4a2f-a8e4-3b6ddc80d3bb'\n",
    "sub2 = '1ac9bc3f-b22b-417e-9998-5ba07fe776bf'\n",
    "sub3 = \"990e353d-4461-4129-8f23-96bcd8869e75\"\n",
    "sub4 = \"b85dec97-262b-454e-b2e5-9452f1048215\""
   ]
  },
  {
   "cell_type": "code",
   "execution_count": null,
   "metadata": {},
   "outputs": [],
   "source": [
    "ccle_refsamples = sheets.get(refsheet_url).sheets[0].to_frame()"
   ]
  },
  {
   "cell_type": "code",
   "execution_count": null,
   "metadata": {},
   "outputs": [],
   "source": [
    "a = terra.waitForSubmission(workspace,'e00f369a-ba2f-4a2f-a8e4-3b6ddc80d3bb')"
   ]
  },
  {
   "cell_type": "code",
   "execution_count": null,
   "metadata": {},
   "outputs": [],
   "source": [
    "failed = [\"CDS-1YwLXW\",\"CDS-7UJrWv\",\"CDS-AHsEp4\",\"CDS-AtxiIO\",\"CDS-IFlU2c\",\"CDS-K9VWSo\",\"CDS-L2WS8G\",\"CDS-LJGHlm\",\"CDS-NDaM5V\",\"CDS-WiJdsP\",\"CDS-aN8PNg\",\"CDS-dIijHP\",\"CDS-fzqrxa\",\"CDS-gILaI6\",\"CDS-hKsmPi\",\"CDS-kU1WWq\",\"CDS-knM0TU\",\"CDS-mYOC4j\",\"CDS-njO2PJ\",\"CDS-uQv8yw\",\n",
    "]"
   ]
  },
  {
   "cell_type": "code",
   "execution_count": null,
   "metadata": {},
   "outputs": [],
   "source": [
    "wm.update_sample_set(\"failed\",failed)"
   ]
  },
  {
   "cell_type": "markdown",
   "metadata": {},
   "source": [
    "cleaning and copying back all hg38_WES samples for CNV pipeline"
   ]
  },
  {
   "cell_type": "code",
   "execution_count": null,
   "metadata": {},
   "outputs": [],
   "source": [
    "cnworkspace = \"broad-firecloud-ccle/DepMap_WES_CN_hg38\"\n",
    "cnwm = dm.WorkspaceManager(cnworkspace)"
   ]
  },
  {
   "cell_type": "code",
   "execution_count": null,
   "metadata": {},
   "outputs": [],
   "source": [
    "ind= ccle_refsamples[(ccle_refsamples.datatype=='wes')].index\n",
    "ccle_refsamples.loc[ind,'legacy_bam_filepath'] = ccle_refsamples.loc[ind,'internal_bam_filepath']"
   ]
  },
  {
   "cell_type": "code",
   "execution_count": null,
   "metadata": {},
   "outputs": [],
   "source": [
    "ind= ccle_refsamples[(ccle_refsamples.datatype=='wes')].index\n",
    "ccle_refsamples.loc[ind,'legacy_bai_filepath'] = ccle_refsamples.loc[ind,'internal_bai_filepath']"
   ]
  },
  {
   "cell_type": "code",
   "execution_count": null,
   "metadata": {},
   "outputs": [],
   "source": [
    "ccle_refsamples = ccle_refsamples.set_index('cds_sample_id')"
   ]
  },
  {
   "cell_type": "code",
   "execution_count": null,
   "metadata": {},
   "outputs": [],
   "source": [
    "cnsam = cnwm.get_samples()"
   ]
  },
  {
   "cell_type": "code",
   "execution_count": null,
   "metadata": {},
   "outputs": [],
   "source": [
    "cnsam = cnsam.drop('nan')"
   ]
  },
  {
   "cell_type": "code",
   "execution_count": null,
   "metadata": {},
   "outputs": [],
   "source": [
    "ccle_refsamples.loc[cnsam.index,'internal_bai_filepath'] = cnsam.hg38_analysis_ready_bam_index"
   ]
  },
  {
   "cell_type": "code",
   "execution_count": null,
   "metadata": {},
   "outputs": [],
   "source": [
    "ccle_refsamples.loc[cnsam.index,'internal_bam_filepath'] = cnsam.hg38_analysis_ready_bam"
   ]
  },
  {
   "cell_type": "code",
   "execution_count": null,
   "metadata": {},
   "outputs": [],
   "source": [
    "ccle_refsamples['md5_hash'] = None"
   ]
  },
  {
   "cell_type": "code",
   "execution_count": null,
   "metadata": {},
   "outputs": [],
   "source": [
    "ccle_refsamples['legacy_size'] = None\n",
    "ccle_refsamples['legacy_crc32c_hash'] = None"
   ]
  },
  {
   "cell_type": "code",
   "execution_count": null,
   "metadata": {},
   "outputs": [],
   "source": [
    "ind= ccle_refsamples[(ccle_refsamples.datatype=='wes')].index\n",
    "ccle_refsamples.loc[ind,'legacy_size'] = ccle_refsamples.loc[ind,'size']\n",
    "ccle_refsamples.loc[ind,'legacy_crc32c_hash'] = ccle_refsamples.loc[ind,'crc32c_hash']"
   ]
  },
  {
   "cell_type": "code",
   "execution_count": null,
   "metadata": {},
   "outputs": [],
   "source": [
    "ccle_refsamples.loc[cnsam.index,'md5_hash'] = gcp.catFiles(cnsam.hg38_analysis_ready_bam_md5, cut=50)"
   ]
  },
  {
   "cell_type": "code",
   "execution_count": null,
   "metadata": {},
   "outputs": [],
   "source": [
    "ccle_refsamples.loc[cnsam.index,'size']"
   ]
  },
  {
   "cell_type": "code",
   "execution_count": null,
   "metadata": {},
   "outputs": [],
   "source": [
    "ccle_refsamples.loc[cnsam.index,'size'] = [gcp.extractSize(i)[1] for i in gcp.lsFiles(cnsam.hg38_analysis_ready_bam.tolist(), add='-l')]"
   ]
  },
  {
   "cell_type": "code",
   "execution_count": null,
   "metadata": {},
   "outputs": [],
   "source": [
    "ccle_refsamples = ccle_refsamples.drop(index=ccle_refsamples[ccle_refsamples.datatype=='hg38_wes'].index)"
   ]
  },
  {
   "cell_type": "markdown",
   "metadata": {},
   "source": [
    "removing cached data for WGS and copying back hg38 to bucket"
   ]
  },
  {
   "cell_type": "code",
   "execution_count": null,
   "metadata": {},
   "outputs": [],
   "source": [
    "ind = ccle_refsamples[ccle_refsamples.datatype==\"wgs\"].index"
   ]
  },
  {
   "cell_type": "code",
   "execution_count": null,
   "metadata": {},
   "outputs": [],
   "source": [
    "ccle_refsamples.loc[ind,'legacy_bam_filepath'] = ccle_refsamples.loc[ind,'internal_bam_filepath']\n",
    "ccle_refsamples.loc[ind,'legacy_bai_filepath'] = ccle_refsamples.loc[ind,'internal_bai_filepath']\n",
    "ccle_refsamples.loc[ind,'legacy_size'] = ccle_refsamples.loc[ind,'size']\n",
    "ccle_refsamples.loc[ind,'legacy_crc32c_hash'] = ccle_refsamples.loc[ind,'crc32c_hash']"
   ]
  },
  {
   "cell_type": "code",
   "execution_count": null,
   "metadata": {},
   "outputs": [],
   "source": [
    "wgsworkspace = \"broad-firecloud-ccle/DepMap_WGS_CN\"\n",
    "wgswm = dm.WorkspaceManager(wgsworkspace)"
   ]
  },
  {
   "cell_type": "code",
   "execution_count": null,
   "metadata": {},
   "outputs": [],
   "source": [
    "sam = wgswm.get_samples()"
   ]
  },
  {
   "cell_type": "code",
   "execution_count": null,
   "metadata": {},
   "outputs": [],
   "source": [
    "ccle_refsamples.loc[sam.index,'internal_bai_filepath'] = sam.analysis_ready_bam_index\n",
    "ccle_refsamples.loc[sam.index,'internal_bam_filepath'] = sam.analysis_ready_bam"
   ]
  },
  {
   "cell_type": "code",
   "execution_count": null,
   "metadata": {},
   "outputs": [],
   "source": [
    "ccle_refsamples.loc[sam.index,'md5_hash'] = gcp.catFiles(sam.analysis_ready_bam_md5, cut=32)"
   ]
  },
  {
   "cell_type": "code",
   "execution_count": null,
   "metadata": {},
   "outputs": [],
   "source": [
    "ccle_refsamples.loc[sam.index,'size'] = [gcp.extractSize(i)[1] for i in gcp.lsFiles(sam.analysis_ready_bam.tolist(), add='-l')]"
   ]
  },
  {
   "cell_type": "code",
   "execution_count": null,
   "metadata": {},
   "outputs": [],
   "source": [
    "sam.analysis_ready_bam[1]"
   ]
  },
  {
   "cell_type": "code",
   "execution_count": null,
   "metadata": {},
   "outputs": [],
   "source": [
    "hou"
   ]
  },
  {
   "cell_type": "code",
   "execution_count": null,
   "metadata": {},
   "outputs": [],
   "source": [
    "terra.changeGSlocation(wgsworkspace, \"gs://cclebams/wgs_hg38/\", entity='sample', onlycol=['analysis_ready_bam','analysis_ready_bam_index',\"analysis_ready_bam_md5\"],keeppath=False, dry_run=False)"
   ]
  },
  {
   "cell_type": "code",
   "execution_count": null,
   "metadata": {},
   "outputs": [],
   "source": [
    "terra.cleanWorkspace(wgsworkspace, only=[sub1, sub2, sub3, sub4])"
   ]
  },
  {
   "cell_type": "code",
   "execution_count": null,
   "metadata": {},
   "outputs": [],
   "source": [
    "a = gcp.get_all_sizes('gs://fc-secure-bd7b8bc9-f665-4269-997e-5a402088a369/', suffix='bam')"
   ]
  },
  {
   "cell_type": "code",
   "execution_count": null,
   "metadata": {},
   "outputs": [],
   "source": [
    "! gsutil -m rm gs://fc-secure-bd7b8bc9-f665-4269-997e-5a402088a369/*/PreProcessingForVariantDiscovery_GATK4/**.bam"
   ]
  },
  {
   "cell_type": "code",
   "execution_count": null,
   "metadata": {},
   "outputs": [],
   "source": [
    "ccle_refsamples.to_csv('temp/newsamples.csv')"
   ]
  },
  {
   "cell_type": "code",
   "execution_count": null,
   "metadata": {},
   "outputs": [],
   "source": []
  }
 ],
 "metadata": {
  "kernelspec": {
   "display_name": "Python 3",
   "language": "python",
   "name": "python3"
  },
  "language_info": {
   "codemirror_mode": {
    "name": "ipython",
    "version": 3
   },
   "file_extension": ".py",
   "mimetype": "text/x-python",
   "name": "python",
   "nbconvert_exporter": "python",
   "pygments_lexer": "ipython3",
   "version": "3.7.3"
  },
  "latex_envs": {
   "LaTeX_envs_menu_present": true,
   "autoclose": false,
   "autocomplete": true,
   "bibliofile": "biblio.bib",
   "cite_by": "apalike",
   "current_citInitial": 1,
   "eqLabelWithNumbers": true,
   "eqNumInitial": 1,
   "hotkeys": {
    "equation": "Ctrl-E",
    "itemize": "Ctrl-I"
   },
   "labels_anchors": false,
   "latex_user_defs": false,
   "report_style_numbering": false,
   "user_envs_cfg": false
  },
  "notify_time": "5",
  "toc": {
   "base_numbering": 1,
   "nav_menu": {
    "height": "277px",
    "width": "375px"
   },
   "number_sections": true,
   "sideBar": true,
   "skip_h1_title": false,
   "title_cell": "Table of Contents",
   "title_sidebar": "Contents",
   "toc_cell": false,
   "toc_position": {
    "height": "calc(100% - 180px)",
    "left": "10px",
    "top": "150px",
    "width": "198.8px"
   },
   "toc_section_display": true,
   "toc_window_display": true
  },
  "varInspector": {
   "cols": {
    "lenName": 16,
    "lenType": 16,
    "lenVar": 40
   },
   "kernels_config": {
    "python": {
     "delete_cmd_postfix": "",
     "delete_cmd_prefix": "del ",
     "library": "var_list.py",
     "varRefreshCmd": "print(var_dic_list())"
    },
    "r": {
     "delete_cmd_postfix": ") ",
     "delete_cmd_prefix": "rm(",
     "library": "var_list.r",
     "varRefreshCmd": "cat(var_dic_list()) "
    }
   },
   "position": {
    "height": "617.8px",
    "left": "1232.4px",
    "right": "20px",
    "top": "120px",
    "width": "262.8px"
   },
   "types_to_exclude": [
    "module",
    "function",
    "builtin_function_or_method",
    "instance",
    "_Feature"
   ],
   "window_display": true
  }
 },
 "nbformat": 4,
 "nbformat_minor": 2
}
