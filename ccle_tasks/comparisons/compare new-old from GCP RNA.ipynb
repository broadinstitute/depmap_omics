{
 "cells": [
  {
   "cell_type": "code",
   "execution_count": null,
   "metadata": {},
   "outputs": [],
   "source": [
    "from __future__ import print_function\n",
    "import os.path\n",
    "import dalmatian as dm\n",
    "import pandas as pd"
   ]
  },
  {
   "cell_type": "code",
   "execution_count": null,
   "metadata": {},
   "outputs": [],
   "source": [
    "namespace=\"broad-genomics-delivery\"\n",
    "workspace=\"Getz_IBM_CellLines_RNASeqData\"\n",
    "refnamespace=\"broad-firecloud-ccle\"\n",
    "refworkspace=\"DepMap_hg38_RNAseq\"\n",
    "source=\"ibm\"\n",
    "samplesetname=\"CCLE_19Q3interim\""
   ]
  },
  {
   "cell_type": "code",
   "execution_count": null,
   "metadata": {},
   "outputs": [],
   "source": [
    "wm = dm.WorkspaceManager(namespace, workspace)\n",
    "refwm = dm.WorkspaceManager(refnamespace, refworkspace)"
   ]
  },
  {
   "cell_type": "markdown",
   "metadata": {},
   "source": [
    "# Generate sample set from new samples"
   ]
  },
  {
   "cell_type": "code",
   "execution_count": null,
   "metadata": {},
   "outputs": [],
   "source": [
    "refsamples = refwm.get_samples()\n",
    "refids = refsamples['participant'].tolist()\n",
    "refids = [val[val.index('ACH'):] for val in refids]\n",
    "refsamples"
   ]
  },
  {
   "cell_type": "code",
   "execution_count": null,
   "metadata": {},
   "outputs": [],
   "source": [
    "samples = wm.get_samples()\n",
    "samples = samples[samples['individual_alias'].str.contains('ACH')][~samples['individual_alias'].str.slice(0,10).isin(refids)]\n",
    "samples['individual_alias']"
   ]
  },
  {
   "cell_type": "code",
   "execution_count": null,
   "metadata": {},
   "outputs": [],
   "source": [
    "for ind, val in samples.iterrows():\n",
    "    refsamples = refsamples.append(pd.Series({\n",
    "        \"CCLE_name\": val['sample_alias'],\n",
    "        \"WES_bai\": val['crai_or_bai_path'],\n",
    "        \"WES_bam\": val['cram_or_bam_path'],\n",
    "        \"Source\": source,\n",
    "        \"participant\":val['individual_alias'][:10],\n",
    "    },name=source+'_'+val['individual_alias'][:10]))"
   ]
  },
  {
   "cell_type": "code",
   "execution_count": null,
   "metadata": {},
   "outputs": [],
   "source": [
    "refsamples.shape"
   ]
  },
  {
   "cell_type": "code",
   "execution_count": null,
   "metadata": {},
   "outputs": [],
   "source": [
    "refwm.upload_samples(refsamples)"
   ]
  },
  {
   "cell_type": "code",
   "execution_count": null,
   "metadata": {},
   "outputs": [],
   "source": [
    "sample_ids = [source+'_'+i for i in samples['individual_alias'].str.slice(0,10).tolist()]\n",
    "sample_ids"
   ]
  },
  {
   "cell_type": "code",
   "execution_count": null,
   "metadata": {},
   "outputs": [],
   "source": [
    "refwm.update_sample_set(sample_set_id=samplesetname,sample_ids=sample_ids)"
   ]
  },
  {
   "cell_type": "markdown",
   "metadata": {},
   "source": [
    "# run the pipeline"
   ]
  },
  {
   "cell_type": "code",
   "execution_count": null,
   "metadata": {},
   "outputs": [],
   "source": [
    "samtofastq = refwm.get_config(\"samtofastq_v1-0_BETA_cfg\")\n",
    "samtofastq"
   ]
  },
  {
   "cell_type": "code",
   "execution_count": null,
   "metadata": {},
   "outputs": [],
   "source": [
    "samtofastq['samtofastq_workflow.samtofastq.input_bam_cram']= 'this.WES_bam'\n",
    "refwm.update_config(samtofastq)\n",
    "submission_id = refwm.create_submission(samtofastq['name'], samplesetname,'sample_set',expression='this.samples')\n",
    "while wm.get_submission(submission_id)['status'] not in {'Done', 'Aborted'}:\n",
    "    time.sleep(60)\n",
    "assert wm.get_submission(submission_id)['status'] !='Aborted'"
   ]
  },
  {
   "cell_type": "code",
   "execution_count": null,
   "metadata": {},
   "outputs": [],
   "source": [
    "star = refwm.get_config(\"star_v1-0_BETA_cfg\")\n",
    "star"
   ]
  },
  {
   "cell_type": "code",
   "execution_count": null,
   "metadata": {},
   "outputs": [],
   "source": [
    "refwm.update_config(star)\n",
    "submission_id = refwm.create_submission(star['name'], samplesetname,'sample_set',expression='this.samples')\n",
    "while wm.get_submission(submission_id)['status'] not in {'Done', 'Aborted'}:\n",
    "    time.sleep(60)\n",
    "assert wm.get_submission(submission_id)['status'] !='Aborted'"
   ]
  },
  {
   "cell_type": "code",
   "execution_count": null,
   "metadata": {},
   "outputs": [],
   "source": [
    "rsem = refwm.get_config(\"rsem_v1-0_BETA_cfg\")\n",
    "rsem"
   ]
  },
  {
   "cell_type": "code",
   "execution_count": null,
   "metadata": {},
   "outputs": [],
   "source": [
    "refwm.update_config(rsem)\n",
    "submission_id1 = refwm.create_submission(rsem['name'], samplesetname,'sample_set',expression='this.samples')"
   ]
  },
  {
   "cell_type": "code",
   "execution_count": null,
   "metadata": {},
   "outputs": [],
   "source": [
    "fusion = refwm.get_config(\"hg38_STAR_fusion\")\n",
    "fusion"
   ]
  },
  {
   "cell_type": "code",
   "execution_count": null,
   "metadata": {},
   "outputs": [],
   "source": [
    "fusion['inputs']['trinity_cleaned.samtofastq.input_bam'] = 'this.WES_bam'\n",
    "refwm.update_config(fusion)\n",
    "submission_id2 = refwm.create_submission(fusion['name'], samplesetname,'sample_set',expression='this.samples')"
   ]
  },
  {
   "cell_type": "code",
   "execution_count": null,
   "metadata": {},
   "outputs": [],
   "source": [
    "wait_for_submission([submission_id1,submission_id2])"
   ]
  },
  {
   "cell_type": "code",
   "execution_count": null,
   "metadata": {},
   "outputs": [],
   "source": [
    "import time\n",
    "def wait_for_submission(submissions):\n",
    "    failed_submission = []\n",
    "    if type(submissions) is type(\"\"):\n",
    "        submissions = [submissions]\n",
    "    for submission_id in submissions:\n",
    "        if not wm.get_submission(submission_id)['workflows']:\n",
    "            while wm.get_submission(submission_id)['status'] not in {'Done', 'Aborted'}:\n",
    "                time.sleep(60)\n",
    "        else:\n",
    "            for i in wm.get_submission(submission_id)[\"workflows\"]:\n",
    "                while i['status'] not in {'Done', 'Aborted'}:\n",
    "                    time.sleep(60)\n",
    "                if i[\"status\"]=='Failed':\n",
    "                    print(newsample.loc[i[\"workflowEntity\"][\"entityName\"]][\"attr_sex\"])\n",
    "                    print(i[\"workflowEntity\"][\"entityName\"])\n",
    "                    failed_submission.append(i[\"workflowEntity\"][\"entityName\"])\n",
    "    # print and return well formated data"
   ]
  },
  {
   "cell_type": "code",
   "execution_count": null,
   "metadata": {},
   "outputs": [],
   "source": [
    "a = []\n",
    "type(a) is str"
   ]
  },
  {
   "cell_type": "code",
   "execution_count": null,
   "metadata": {},
   "outputs": [],
   "source": [
    "wm.get_submission(submission_id2)"
   ]
  },
  {
   "cell_type": "code",
   "execution_count": null,
   "metadata": {},
   "outputs": [],
   "source": []
  }
 ],
 "metadata": {
  "kernelspec": {
   "display_name": "Python 3",
   "language": "python",
   "name": "python3"
  },
  "language_info": {
   "codemirror_mode": {
    "name": "ipython",
    "version": 3
   },
   "file_extension": ".py",
   "mimetype": "text/x-python",
   "name": "python",
   "nbconvert_exporter": "python",
   "pygments_lexer": "ipython3",
   "version": "3.6.7"
  }
 },
 "nbformat": 4,
 "nbformat_minor": 2
}
