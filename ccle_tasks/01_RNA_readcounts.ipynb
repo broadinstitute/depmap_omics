{
 "cells": [
  {
   "cell_type": "code",
   "execution_count": 1,
   "metadata": {},
   "outputs": [],
   "source": [
    "import pandas as pd\n",
    "import dalmatian as dm"
   ]
  },
  {
   "cell_type": "code",
   "execution_count": null,
   "metadata": {},
   "outputs": [],
   "source": [
    "wm = dm.WorkspaceManager(\"broad-firecloud-ccle/DepMap_hg38_RNAseq\")\n",
    "terra_rnaseq_df = wm.get_samples()"
   ]
  },
  {
   "cell_type": "code",
   "execution_count": null,
   "metadata": {},
   "outputs": [],
   "source": [
    "def load_rnaseqc(terra_path):\n",
    "    rnaseqc_count_df = pd.read_csv(terra_path, sep='\\t', skiprows=2)\n",
    "    rnaseqc_count_df = rnaseqc_count_df.set_index(rnaseqc_count_df.apply(lambda x: f\"{x[1]} ({x[0].split('.')[0]})\", axis=1))\n",
    "    rnaseqc_count_df = rnaseqc_count_df.drop([\"Name\", \"Description\"], axis=1)\n",
    "    return rnaseqc_count_df"
   ]
  },
  {
   "cell_type": "code",
   "execution_count": null,
   "metadata": {},
   "outputs": [],
   "source": [
    "from multiprocessing import Pool\n",
    "pool = Pool(12)\n",
    "rnaseqc_count_dfs = pool.map(load_rnaseqc, terra_rnaseq_df.rnaseqc2_gene_counts)"
   ]
  },
  {
   "cell_type": "code",
   "execution_count": null,
   "metadata": {},
   "outputs": [],
   "source": [
    "rnaseqc_count_mat = pd.concat(rnaseqc_count_dfs, axis=1)\n",
    "rnaseqc_count_mat = rnaseqc_count_mat.T\n",
    "##all_samples_qc = tc.get(name='expression-869e', version=6, file='all_samples_qc')\n",
    "all_samples_qc = tc.get(name='expression-d035', version=44, file='all_samples_qc')"
   ]
  },
  {
   "cell_type": "code",
   "execution_count": null,
   "metadata": {},
   "outputs": [],
   "source": [
    "pool.close()"
   ]
  },
  {
   "cell_type": "code",
   "execution_count": null,
   "metadata": {},
   "outputs": [],
   "source": [
    "rnaseqc_count_mat.to_csv(\"rnaseqc_count_mat.csv\")"
   ]
  },
  {
   "cell_type": "code",
   "execution_count": null,
   "metadata": {},
   "outputs": [],
   "source": [
    "update = True\n",
    "if update:\n",
    "   new_dataset_id = tc.update_dataset(\n",
    "        dataset_id=\"rnqseqc2-gene-count-profile-5577\",\n",
    "        changes_description=\"rnqseqc2 count cds ids\",\n",
    "        upload_files=[\n",
    "            {\n",
    "                \"path\": \"rnaseqc_count_mat.csv\",\n",
    "                \"name\": \"rnqseqc2_gene_count_profile\", # optional, will use file name if not provided\n",
    "                \"format\": \"NumericMatrixCSV\", # or \"NumericMatrixCSV\" or \"TableCSV\"\n",
    "                \"encoding\": \"utf-8\" # optional (but recommended), will use iso-8859-1 if not provided\n",
    "            }\n",
    "        ],\n",
    "        upload_async=False,\n",
    "        dataset_description=\"rnqseqc2 count profile\",\n",
    "   )\n",
    "else:\n",
    "   new_dataset_id = tc.create_dataset(\n",
    "       \"rnqseqc2_gene_count_profile\",\n",
    "       dataset_description=\"rnqseqc2 count profile\",\n",
    "       upload_files=[\n",
    "           {\n",
    "               \"path\": \"rnaseqc_count_mat.csv\",\n",
    "               \"name\": \"rnqseqc2_gene_count_profile\", # optional, will use file name if not provided\n",
    "               \"format\": \"NumericMatrixCSV\", # or \"NumericMatrixCSV\" or \"TableCSV\"\n",
    "               \"encoding\": \"utf-8\" # optional (but recommended), will use iso-8859-1 if not provided\n",
    "           }\n",
    "       ],\n",
    "       folder_id=\"a9eedc220a6a4e70b8f1e64d2e57ed87\", # optional, will default to your home folder if not provided\n",
    "   )\n",
    "\n",
    "new_dataset_id"
   ]
  }
 ],
 "metadata": {
  "kernelspec": {
   "display_name": "cds-omics",
   "language": "python",
   "name": "python3"
  },
  "language_info": {
   "codemirror_mode": {
    "name": "ipython",
    "version": 3
   },
   "file_extension": ".py",
   "mimetype": "text/x-python",
   "name": "python",
   "nbconvert_exporter": "python",
   "pygments_lexer": "ipython3",
   "version": "3.9.16"
  }
 },
 "nbformat": 4,
 "nbformat_minor": 2
}
