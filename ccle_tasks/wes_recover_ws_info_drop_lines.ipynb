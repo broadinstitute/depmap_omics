{
 "cells": [
  {
   "cell_type": "code",
   "execution_count": null,
   "id": "3302b27c",
   "metadata": {},
   "outputs": [],
   "source": [
    "# certain pair/sample set info was accidentally removed\n",
    "# this notebook reverted those changes and removed samples we want to remove due to various issues\n",
    "# see https://app.asana.com/0/478455687490660/1201271559247444/f\n",
    "import dalmatian as dm\n",
    "\n",
    "sandbox2ws = 'broad-firecloud-ccle/DepMap_WES_CN_hg38-sandbox2'\n",
    "sandbox2wm = dm.WorkspaceManager(sandbox2ws).disable_hound()"
   ]
  },
  {
   "cell_type": "code",
   "execution_count": null,
   "id": "7e8ca9be",
   "metadata": {},
   "outputs": [],
   "source": [
    "sandbox1ws = 'broad-firecloud-ccle/DepMap_WES_CN_hg38'\n",
    "sandbox1wm = dm.WorkspaceManager(sandbox1ws).disable_hound()"
   ]
  },
  {
   "cell_type": "code",
   "execution_count": null,
   "id": "a93a6969",
   "metadata": {},
   "outputs": [],
   "source": [
    "sb2pairs = sandbox2wm.get_pairs()\n",
    "sb1pairs = sandbox1wm.get_pairs()"
   ]
  },
  {
   "cell_type": "code",
   "execution_count": null,
   "id": "28c8c481",
   "metadata": {},
   "outputs": [],
   "source": [
    "pairstoadd = sb2pairs[~sb2pairs.index.isin(sb1pairs.index)]\n",
    "pairstoadd"
   ]
  },
  {
   "cell_type": "code",
   "execution_count": null,
   "id": "be4867b5",
   "metadata": {},
   "outputs": [],
   "source": [
    "sandbox1wm.upload_entities('pair', pairstoadd)"
   ]
  },
  {
   "cell_type": "code",
   "execution_count": null,
   "id": "d58cc531",
   "metadata": {},
   "outputs": [],
   "source": [
    "sandbox1wm.get_sample_sets()"
   ]
  },
  {
   "cell_type": "code",
   "execution_count": null,
   "id": "0b69ab20",
   "metadata": {},
   "outputs": [],
   "source": [
    "for s in sandbox1wm.get_sample_sets().index:\n",
    "    sam = sandbox2wm.get_sample_sets().loc[s, 'samples']\n",
    "    sandbox1wm.update_sample_set(sample_set_id=s, sample_ids=sam)"
   ]
  },
  {
   "cell_type": "code",
   "execution_count": null,
   "id": "3326f49a",
   "metadata": {},
   "outputs": [],
   "source": [
    "for s in sandbox1wm.get_pair_sets().index:\n",
    "    pairs = sandbox2wm.get_pair_sets().loc[s, 'pairs']\n",
    "    sandbox1wm.update_pair_set(pair_set_id=s, pair_ids=pairs)"
   ]
  },
  {
   "cell_type": "code",
   "execution_count": null,
   "id": "76342aaa",
   "metadata": {},
   "outputs": [],
   "source": [
    "from genepy import terra\n",
    "\n",
    "samples_to_remove = {'CDS-NE61ys', 'CDS-YANwQB', 'CDS-ywnbJT', 'CDS-P4ZoH4', 'CDS-d2xe4x', 'CDS-A7rsOJ', 'CDS-CCAK2f', 'CDS-ezLdbO', 'CDS-TUYedU', 'CDS-GNOJc5', 'CDS-P5LOnq'}\n",
    "\n",
    "terra.removeSamples(sandbox1ws, samples_to_remove)"
   ]
  },
  {
   "cell_type": "code",
   "execution_count": null,
   "id": "907ee3c6",
   "metadata": {},
   "outputs": [],
   "source": []
  }
 ],
 "metadata": {
  "kernelspec": {
   "display_name": "Python 3",
   "language": "python",
   "name": "python3"
  },
  "language_info": {
   "codemirror_mode": {
    "name": "ipython",
    "version": 3
   },
   "file_extension": ".py",
   "mimetype": "text/x-python",
   "name": "python",
   "nbconvert_exporter": "python",
   "pygments_lexer": "ipython3",
   "version": "3.8.2"
  }
 },
 "nbformat": 4,
 "nbformat_minor": 5
}
