{
 "cells": [
  {
   "cell_type": "code",
   "execution_count": null,
   "id": "5e75cd4c",
   "metadata": {},
   "outputs": [],
   "source": [
    "import h5py\n",
    "filename = \"../WGS_PON_XY_v2.pon.hdf5\""
   ]
  },
  {
   "cell_type": "code",
   "execution_count": null,
   "id": "74f8a45d",
   "metadata": {},
   "outputs": [],
   "source": [
    "with h5py.File(filename, \"r\") as f:\n",
    "    # Print all root level object names (aka keys) \n",
    "    # these can be group or dataset names \n",
    "    print(\"Keys: %s\" % f.keys())\n",
    "    # get first object name/key; may or may NOT be a group\n",
    "    a_group_key = list(f.keys())[0]\n",
    "\n",
    "    # get the object type for a_group_key: usually group or dataset\n",
    "    print(type(f[a_group_key])) \n",
    "\n",
    "    # If a_group_key is a group name, \n",
    "    # this gets the object names in the group and returns as a list\n",
    "    data = list(f[a_group_key])\n",
    "\n",
    "    # If a_group_key is a dataset name, \n",
    "    # this gets the dataset values and returns as a list\n",
    "    data = list(f[a_group_key])\n",
    "    # preferred methods to get dataset values:\n",
    "    ds_obj = f[a_group_key]      # returns as a h5py dataset object\n",
    "    ds_arr = f[a_group_key][()]  # returns as a numpy array"
   ]
  },
  {
   "cell_type": "code",
   "execution_count": null,
   "id": "8a779242",
   "metadata": {},
   "outputs": [],
   "source": [
    "f = h5py.File(filename, \"r\")"
   ]
  },
  {
   "cell_type": "code",
   "execution_count": null,
   "id": "9072a415",
   "metadata": {},
   "outputs": [],
   "source": [
    "f['command_line']['value'][()]"
   ]
  },
  {
   "cell_type": "code",
   "execution_count": null,
   "id": "d9a6984f",
   "metadata": {},
   "outputs": [],
   "source": [
    "f['original_data'].keys()"
   ]
  },
  {
   "cell_type": "code",
   "execution_count": null,
   "id": "be527825",
   "metadata": {},
   "outputs": [],
   "source": [
    "f['original_data']['intervals'].keys()"
   ]
  },
  {
   "cell_type": "code",
   "execution_count": null,
   "id": "051209a4",
   "metadata": {},
   "outputs": [],
   "source": [
    "f['original_data']['intervals']['indexed_contig_names'][()]"
   ]
  },
  {
   "cell_type": "code",
   "execution_count": null,
   "id": "88cfac38",
   "metadata": {},
   "outputs": [],
   "source": [
    "f1 = h5py.File(\"../CDS-2FC7DW.hg38.counts.hdf5\", \"r\")"
   ]
  },
  {
   "cell_type": "code",
   "execution_count": null,
   "id": "641343dc",
   "metadata": {},
   "outputs": [],
   "source": [
    "f1.keys()"
   ]
  },
  {
   "cell_type": "code",
   "execution_count": null,
   "id": "7d6cca91",
   "metadata": {},
   "outputs": [],
   "source": [
    "f1['intervals']['indexed_contig_names'][()]"
   ]
  },
  {
   "cell_type": "code",
   "execution_count": null,
   "id": "16ca4f43",
   "metadata": {},
   "outputs": [],
   "source": []
  }
 ],
 "metadata": {
  "kernelspec": {
   "display_name": "Python 3",
   "language": "python",
   "name": "python3"
  },
  "language_info": {
   "codemirror_mode": {
    "name": "ipython",
    "version": 3
   },
   "file_extension": ".py",
   "mimetype": "text/x-python",
   "name": "python",
   "nbconvert_exporter": "python",
   "pygments_lexer": "ipython3",
   "version": "3.8.13"
  }
 },
 "nbformat": 4,
 "nbformat_minor": 5
}
