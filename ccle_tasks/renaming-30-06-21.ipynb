{
 "cells": [
  {
   "cell_type": "code",
   "execution_count": null,
   "metadata": {},
   "outputs": [],
   "source": [
    "from depmapomics import tracker"
   ]
  },
  {
   "cell_type": "code",
   "execution_count": null,
   "metadata": {},
   "outputs": [],
   "source": [
    "ref = tracker.getCCLETracker()"
   ]
  },
  {
   "cell_type": "code",
   "execution_count": null,
   "metadata": {},
   "outputs": [],
   "source": [
    "#to set as isogenic            \n",
    "a = {                          \n",
    "    \"ACH-001200\": \"ACH-000597\",\n",
    "    \"ACH-002061\": \"ACH-000551\",\n",
    "    \"ACH-000169\": \"ACH-001759\",\n",
    "    \"ACH-000169\": \"ACH-001758\",\n",
    "    \"ACH-000169\": \"ACH-001756\",\n",
    "    \"ACH-000169\": \"ACH-001760\",\n",
    "    \"ACH-002060\": \"ACH-002276\",\n",
    "    \"ACH-002238\": \"ACH-001669\",\n",
    "    \"ACH-001743\": \"ACH-002501\",\n",
    "    \"ACH-002162\": \"ACH-002084\",\n",
    "    \"ACH-001571\": \"ACH-002339\",\n",
    "}                              "
   ]
  },
  {
   "cell_type": "code",
   "execution_count": null,
   "metadata": {},
   "outputs": [],
   "source": [
    "ref = tracker.updateIsogenecity(a, ref)"
   ]
  },
  {
   "cell_type": "code",
   "execution_count": null,
   "metadata": {},
   "outputs": [],
   "source": [
    "ref.loc[ref[ref.arxspan_id==\"ACH-001790\"].index, ['stripped_cell_line_name','blacklist']] = ['RH18DMWRONG', 1]\n",
    "ref.loc[ref[ref.arxspan_id==\"ACH-002707\"].index, ['stripped_cell_line_name','blacklist']] = ['IMSM2WRONG', 1]\n",
    "ref.loc[ref[ref.arxspan_id==\"ACH-001078\"].index, ['stripped_cell_line_name','blacklist']] = ['HCC1588WRONG', 1]"
   ]
  },
  {
   "cell_type": "code",
   "execution_count": null,
   "metadata": {},
   "outputs": [],
   "source": [
    "# to unset as isogenic\n",
    "di = {\"ACH-001001\": \"ACH-000825\",\n",
    "\"ACH-000717\": \"ACH-001547\",\n",
    "\"ACH-002399\": \"ACH-001707\",\n",
    "\"ACH-000590\": \"ACH-000681\",\n",
    "\"ACH-001137\": \"ACH-002337\",\n",
    "\"ACH-000957\": \"ACH-000925\",\n",
    "\"ACH-001858\": \"ACH-001856\",\n",
    "\"ACH-000167\": \"ACH-000658\",\n",
    "\"ACH-000201\": \"ACH-001212\",}"
   ]
  }
 ],
 "metadata": {
  "kernelspec": {
   "display_name": "Python 3",
   "language": "python",
   "name": "python3"
  },
  "language_info": {
   "codemirror_mode": {
    "name": "ipython",
    "version": 3
   },
   "file_extension": ".py",
   "mimetype": "text/x-python",
   "name": "python",
   "nbconvert_exporter": "python",
   "pygments_lexer": "ipython3",
   "version": "3.7.3"
  },
  "latex_envs": {
   "LaTeX_envs_menu_present": true,
   "autoclose": false,
   "autocomplete": true,
   "bibliofile": "biblio.bib",
   "cite_by": "apalike",
   "current_citInitial": 1,
   "eqLabelWithNumbers": true,
   "eqNumInitial": 1,
   "hotkeys": {
    "equation": "Ctrl-E",
    "itemize": "Ctrl-I"
   },
   "labels_anchors": false,
   "latex_user_defs": false,
   "report_style_numbering": false,
   "user_envs_cfg": false
  },
  "toc": {
   "base_numbering": 1,
   "nav_menu": {},
   "number_sections": true,
   "sideBar": true,
   "skip_h1_title": false,
   "title_cell": "Table of Contents",
   "title_sidebar": "Contents",
   "toc_cell": false,
   "toc_position": {},
   "toc_section_display": true,
   "toc_window_display": false
  },
  "varInspector": {
   "cols": {
    "lenName": 16,
    "lenType": 16,
    "lenVar": 40
   },
   "kernels_config": {
    "python": {
     "delete_cmd_postfix": "",
     "delete_cmd_prefix": "del ",
     "library": "var_list.py",
     "varRefreshCmd": "print(var_dic_list())"
    },
    "r": {
     "delete_cmd_postfix": ") ",
     "delete_cmd_prefix": "rm(",
     "library": "var_list.r",
     "varRefreshCmd": "cat(var_dic_list()) "
    }
   },
   "types_to_exclude": [
    "module",
    "function",
    "builtin_function_or_method",
    "instance",
    "_Feature"
   ],
   "window_display": false
  }
 },
 "nbformat": 4,
 "nbformat_minor": 2
}
