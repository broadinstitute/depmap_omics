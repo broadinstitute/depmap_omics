{
 "cells": [
  {
   "cell_type": "code",
   "execution_count": null,
   "id": "a1cfc5c4",
   "metadata": {},
   "outputs": [],
   "source": [
    "new_virtual = {\"internal\": [\"internal-22q4-56d4\", 57, 78], \"dmc\": [\"dmc-22q4-a73a\", 52, 73], \"public\": [\"public-22q4-6837\", 52, 68]}\n",
    "old_virtual = {\"internal\": \"internal-22q2-097a\", \"dmc\": \"dmc-22q2-5e51\", \"public\": \"public-22q2-de04\"}"
   ]
  },
  {
   "cell_type": "code",
   "execution_count": null,
   "id": "4e7d1486",
   "metadata": {},
   "outputs": [],
   "source": [
    "from taigapy import TaigaClient\n",
    "tc = TaigaClient()"
   ]
  },
  {
   "cell_type": "code",
   "execution_count": null,
   "id": "5203ac2a",
   "metadata": {},
   "outputs": [],
   "source": [
    "# portal = \"internal\"\n",
    "from depmap_omics_upload import tracker as track\n",
    "import pandas as pd\n",
    "\n",
    "mytracker = track.SampleTracker()\n",
    "pr_table = mytracker.add_model_cols_to_prtable([\"ModelID\"])\n",
    "blacklist = set(['ACH-001956', 'ACH-000116', 'ACH-001957', 'ACH-001955'])\n",
    "\n",
    "def appendLegacyCN(portal):\n",
    "    new_mat = tc.get(name=new_virtual[portal][0], version=new_virtual[portal][1], file='OmicsCNGene')\n",
    "    old_mat = tc.get(name=old_virtual[portal], file='CCLE_gene_cn')\n",
    "    legacy_segments = tc.get(name='copy-number-5f61', version=5, file='legacy_segments')\n",
    "    default_model_table = tc.get(name=new_virtual[portal][0], file='OmicsDefaultModelProfiles')\n",
    "    default_mc_table = tc.get(name=new_virtual[portal][0], file='OmicsDefaultModelConditionProfiles')\n",
    "    legacy_models = set(legacy_segments.DepMap_ID)\n",
    "\n",
    "    new_models = set(new_mat.index)\n",
    "    old_models = set(old_mat.index)\n",
    "\n",
    "    missing_in_new = old_models - new_models\n",
    "    missing_in_old = new_models - old_models\n",
    "\n",
    "    to_append = [l for l in missing_in_new if (l in legacy_models and l not in blacklist)]\n",
    "    print(\"appending \" + str(len(to_append)) + \" rows for \" + portal)\n",
    "    \n",
    "#     return to_append\n",
    "    rename_model_to_pr = dict()\n",
    "    rename_mc_to_pr = dict()\n",
    "    prs_to_append = []\n",
    "    for l in to_append:\n",
    "        if len(pr_table[(pr_table.ModelID == l) & (pr_table.ProfileSource == \"taiga\")]) == 1:\n",
    "            pr = pr_table[(pr_table.ModelID == l) & (pr_table.ProfileSource == \"taiga\")].index[0]\n",
    "            mc = pr_table.loc[pr, \"ModelCondition\"]\n",
    "            prs_to_append.append(pr)\n",
    "            rename_model_to_pr[l] = pr\n",
    "            rename_mc_to_pr[mc] = pr\n",
    "    \n",
    "    return prs_to_append\n",
    "\n",
    "#     to_append_df = old_mat[old_mat.index.isin(to_append)]\n",
    "\n",
    "# #     full_mat = new_mat.append(to_append_df)\n",
    "\n",
    "# #     full_mat.to_csv(\"../output/22Q4/gene_cn_with_legacy.csv\")\n",
    "    \n",
    "#     # appending to default tables\n",
    "#     app_mc = pd.DataFrame.from_dict(rename_mc_to_pr, orient='index').reset_index()\n",
    "#     app_mc.columns=['ModelConditionID', \"ProfileID\"]\n",
    "#     app_mc[\"ProfileType\"] = \"CN only\"\n",
    "#     full_mc_table = pd.concat([default_mc_table, app_mc], ignore_index=True)\n",
    "#     full_mc_table.to_csv(\"../output/22Q4/mc_table_with_legacy.csv\", index=False)\n",
    "    \n",
    "#     app_model = pd.DataFrame.from_dict(rename_model_to_pr, orient='index').reset_index()\n",
    "#     app_model.columns=['ModelID', \"ProfileID\"]\n",
    "#     app_model[\"ProfileType\"] = \"CN only\"\n",
    "#     full_model_table = pd.concat([default_model_table, app_model], ignore_index=True)\n",
    "#     full_model_table.to_csv(\"../output/22Q4/model_table_with_legacy.csv\", index=False)\n",
    "    \n",
    "    \n",
    "    \n",
    "#     tc.update_dataset(\n",
    "#         changes_description=\"append legacy\",\n",
    "#         dataset_id=new_virtual[portal][0],\n",
    "#         upload_files=[\n",
    "# #             {\n",
    "# #                 \"path\": \"../output/22Q4/gene_cn_with_legacy.csv\",\n",
    "# #                 \"name\": \"OmicsCNGene\",\n",
    "# #                 \"format\": \"NumericMatrixCSV\",\n",
    "# #                 \"encoding\": \"utf-8\",\n",
    "# #             },\n",
    "#             {\n",
    "#                 \"path\": \"../output/22Q4/mc_table_with_legacy.csv\",\n",
    "#                 \"name\": \"OmicsDefaultModelConditionProfiles\",\n",
    "#                 \"format\": \"TableCSV\",\n",
    "#                 \"encoding\": \"utf-8\",\n",
    "#             },\n",
    "#             {\n",
    "#                 \"path\": \"../output/22Q4/model_table_with_legacy.csv\",\n",
    "#                 \"name\": \"OmicsDefaultModelProfiles\",\n",
    "#                 \"format\": \"TableCSV\",\n",
    "#                 \"encoding\": \"utf-8\",\n",
    "#             },\n",
    "#         ],\n",
    "#         add_all_existing_files=True,\n",
    "#     )"
   ]
  },
  {
   "cell_type": "code",
   "execution_count": null,
   "id": "d3fe141b",
   "metadata": {},
   "outputs": [],
   "source": [
    "for p in new_virtual.keys():\n",
    "    OmicsProfiles = tc.get(name=new_virtual[p][0], version=new_virtual[p][2], file='OmicsProfiles')\n",
    "    to_append = appendLegacyCN(p)\n",
    "    profile_table = mytracker.add_model_cols_to_prtable([\"ModelID\"])\n",
    "\n",
    "    prs = list(set(OmicsProfiles.ProfileID)) + list(set(to_append))\n",
    "    profile_table = profile_table.loc[prs, [\"ModelCondition\", \"ModelID\", \"Datatype\"]]\n",
    "    profile_table = profile_table[profile_table[\"Datatype\"].isin([\"rna\", \"wgs\", \"wes\", \"SNParray\"])]\n",
    "    profile_table = profile_table.rename(columns={\"ModelCondition\": \"ModelConditionID\"})\n",
    "    profile_table.to_csv(\"../output/22Q4/omics_profiles_with_legacy.csv\")\n",
    "    \n",
    "    tc.update_dataset(\n",
    "        changes_description=\"append legacy\",\n",
    "        dataset_id=new_virtual[p][0],\n",
    "        upload_files=[\n",
    "            {\n",
    "                \"path\": \"../output/22Q4/omics_profiles_with_legacy.csv\",\n",
    "                \"name\": \"OmicsProfiles\",\n",
    "                \"format\": \"TableCSV\",\n",
    "                \"encoding\": \"utf-8\",\n",
    "            },\n",
    "        ],\n",
    "        add_all_existing_files=True,\n",
    "    )"
   ]
  },
  {
   "cell_type": "code",
   "execution_count": null,
   "id": "9b58a102",
   "metadata": {},
   "outputs": [],
   "source": [
    "to_append"
   ]
  },
  {
   "cell_type": "code",
   "execution_count": null,
   "id": "33fa9f62",
   "metadata": {},
   "outputs": [],
   "source": [
    "from depmap_omics_upload import tracker as track\n",
    "\n",
    "mytracker = track.SampleTracker()\n",
    "pr_table = mytracker.add_model_cols_to_prtable([\"ModelID\"])"
   ]
  },
  {
   "cell_type": "code",
   "execution_count": null,
   "id": "2abd8a49",
   "metadata": {},
   "outputs": [],
   "source": [
    "len(to_append)"
   ]
  },
  {
   "cell_type": "code",
   "execution_count": null,
   "id": "5d2f3633",
   "metadata": {},
   "outputs": [],
   "source": [
    "# do the sam on seg level for latest:\n",
    "new_mat = tc.get(name=\"cn-latest-d8d4\", version=29, file='merged_gene_cn_profile')\n",
    "old_mat = tc.get(name=\"internal-22q2-097a\", file='CCLE_gene_cn')\n",
    "\n",
    "to_append = [i for i in to_append if i not in ['ACH-001956', 'ACH-001955', 'ACH-001957', 'ACH-000116']]\n",
    "\n",
    "to_append_df = old_mat[old_mat.index.isin(to_append)]\n",
    "full_mat = new_mat.append(to_append_df)\n",
    "\n",
    "full_mat = full_mat.rename(index=rename_model_to_pr)\n",
    "\n",
    "full_mat.to_csv(\"../output/22Q4/gene_cn_with_legacy_pr.csv\")\n",
    "\n",
    "tc.update_dataset(\n",
    "    changes_description=\"append legacy\",\n",
    "    dataset_id=\"cn-latest-d8d4\",\n",
    "    upload_files=[\n",
    "        {\n",
    "            \"path\": \"../output/22Q4/gene_cn_with_legacy_pr.csv\",\n",
    "            \"name\": \"merged_gene_cn_profile\",\n",
    "            \"format\": \"NumericMatrixCSV\",\n",
    "            \"encoding\": \"utf-8\",\n",
    "        },\n",
    "    ],\n",
    "    add_all_existing_files=True,\n",
    ")"
   ]
  },
  {
   "cell_type": "code",
   "execution_count": null,
   "id": "837214dd",
   "metadata": {},
   "outputs": [],
   "source": [
    "\"ACH-000580\" in to_append"
   ]
  },
  {
   "cell_type": "code",
   "execution_count": null,
   "id": "90ca9057",
   "metadata": {},
   "outputs": [],
   "source": [
    "for p in ['internal']:\n",
    "    print(p + \": \")\n",
    "    to_append_internal = appendLegacyCN(p)"
   ]
  },
  {
   "cell_type": "code",
   "execution_count": null,
   "id": "8857bf96",
   "metadata": {},
   "outputs": [],
   "source": [
    "to_append_internal = ['ACH-001094', 'ACH-000600', 'ACH-000731', 'ACH-001230', 'ACH-001224', 'ACH-000229', 'ACH-001088', 'ACH-002217', 'ACH-001150', 'ACH-001087', 'ACH-001090', 'ACH-000049', 'ACH-001142', 'ACH-002378', 'ACH-001000', 'ACH-001234', 'ACH-000737', 'ACH-001018', 'ACH-001044', 'ACH-000034', 'ACH-000306', 'ACH-000071', 'ACH-001017', 'ACH-000658', 'ACH-001121', 'ACH-000282', 'ACH-001072', 'ACH-001956', 'ACH-000494', 'ACH-000300', 'ACH-000230', 'ACH-000539', 'ACH-000116', 'ACH-001045', 'ACH-000578', 'ACH-001071', 'ACH-000850', 'ACH-000931', 'ACH-001225', 'ACH-000642', 'ACH-001015', 'ACH-000016', 'ACH-001079', 'ACH-000185', 'ACH-000710', 'ACH-000742', 'ACH-001101', 'ACH-001207', 'ACH-001957', 'ACH-000064', 'ACH-000333', 'ACH-001171', 'ACH-000170', 'ACH-001042', 'ACH-000088', 'ACH-000854', 'ACH-000194', 'ACH-001037', 'ACH-001214', 'ACH-000003', 'ACH-000690', 'ACH-000299', 'ACH-001249', 'ACH-001198', 'ACH-000014', 'ACH-000923', 'ACH-000575', 'ACH-000413', 'ACH-000057', 'ACH-001047', 'ACH-001043', 'ACH-001955', 'ACH-000526', 'ACH-000904', 'ACH-000580', 'ACH-001091', 'ACH-001175']"
   ]
  },
  {
   "cell_type": "code",
   "execution_count": null,
   "id": "11d07af0",
   "metadata": {},
   "outputs": [],
   "source": [
    "[i for i in to_append if i not in to_append_internal]"
   ]
  },
  {
   "cell_type": "code",
   "execution_count": null,
   "id": "ae441fc6",
   "metadata": {},
   "outputs": [],
   "source": [
    "len(to_append_internal)"
   ]
  },
  {
   "cell_type": "code",
   "execution_count": null,
   "id": "271a68c9",
   "metadata": {},
   "outputs": [],
   "source": [
    "from depmap_omics_upload import tracker as track\n",
    "\n",
    "mytracker = track.SampleTracker()\n",
    "pr_table = mytracker.add_model_cols_to_prtable([\"ModelID\"])"
   ]
  },
  {
   "cell_type": "code",
   "execution_count": null,
   "id": "414987a2",
   "metadata": {},
   "outputs": [],
   "source": [
    "snps = []\n",
    "rename_model_to_pr = dict()\n",
    "rename_mc_to_pr = dict()\n",
    "blacklist = set(['ACH-001956', 'ACH-000116', 'ACH-001957', 'ACH-001955'])\n",
    "for l in to_append:\n",
    "    if l not in blacklist:\n",
    "        if len(pr_table[(pr_table.ModelID == l) & (pr_table.ProfileSource == \"taiga\")]) == 1:\n",
    "            pr = pr_table[(pr_table.ModelID == l) & (pr_table.ProfileSource == \"taiga\")].index[0]\n",
    "            mc = pr_table.loc[pr, \"ModelCondition\"]\n",
    "            rename_model_to_pr[l] = pr\n",
    "            rename_mc_to_pr[mc] = pr\n",
    "            if pr_table.loc[pr, \"Datatype\"] == \"SNParray\":\n",
    "                snps.append(l)\n",
    "            if pr_table.loc[pr, \"BlacklistOmics\"]:\n",
    "                print(l)\n"
   ]
  },
  {
   "cell_type": "code",
   "execution_count": null,
   "id": "3bb0fe3b",
   "metadata": {},
   "outputs": [],
   "source": [
    "len(to_append)"
   ]
  },
  {
   "cell_type": "code",
   "execution_count": null,
   "id": "93e7d29c",
   "metadata": {},
   "outputs": [],
   "source": [
    "import pandas as pd\n",
    "\n",
    "app_mc = pd.DataFrame.from_dict(rename_mc_to_pr, orient='index').reset_index()\n",
    "app_mc.columns=['ModelConditionID', \"ProfileID\"]\n",
    "app_mc[\"ProfileType\"] = \"CN only\"\n",
    "pd.concat([app_mc, OmicsDefaultModelConditionProfiles], ignore_index=True)"
   ]
  },
  {
   "cell_type": "code",
   "execution_count": null,
   "id": "9eb8a1da",
   "metadata": {},
   "outputs": [],
   "source": [
    "len(to_append)"
   ]
  },
  {
   "cell_type": "markdown",
   "id": "5098e4b9",
   "metadata": {},
   "source": [
    "## some mutation QC"
   ]
  },
  {
   "cell_type": "code",
   "execution_count": null,
   "id": "406af592",
   "metadata": {},
   "outputs": [],
   "source": [
    "OmicsSomaticMutationsMatrixHotspot = tc.get(name='internal-22q4-56d4', version=23, file='OmicsSomaticMutationsMatrixHotspot')\n",
    "OmicsSomaticMutationsMatrixDamaging = tc.get(name='internal-22q4-56d4', version=23, file='OmicsSomaticMutationsMatrixDamaging')\n",
    "OmicsSomaticMutations = tc.get(name='internal-22q4-56d4', version=23, file='OmicsSomaticMutations')\n"
   ]
  },
  {
   "cell_type": "code",
   "execution_count": null,
   "id": "7e2705c1",
   "metadata": {},
   "outputs": [],
   "source": [
    "OmicsSomaticMutationsMatrixHotspot[[c for c in OmicsSomaticMutationsMatrixHotspot.columns if c.startswith(\"BRAF\")]].value_counts()"
   ]
  },
  {
   "cell_type": "code",
   "execution_count": null,
   "id": "57a153cc",
   "metadata": {},
   "outputs": [],
   "source": [
    "OmicsSomaticMutationsMatrixHotspot[OmicsSomaticMutationsMatrixHotspot['BRAF (673)'] == 2.0].index"
   ]
  },
  {
   "cell_type": "code",
   "execution_count": null,
   "id": "57fdf966",
   "metadata": {},
   "outputs": [],
   "source": [
    "OmicsSomaticMutations[(OmicsSomaticMutations.DepMap_ID == \"ACH-000121\") & (OmicsSomaticMutations.HugoSymbol == \"BRAF\")][[\"GT\", \"HessDriver\", \"CCLEDeleterious\", \"LikelyLoF\"]]"
   ]
  },
  {
   "cell_type": "code",
   "execution_count": null,
   "id": "d4b0e3a3",
   "metadata": {},
   "outputs": [],
   "source": [
    "OmicsSomaticMutationsMatrixDamaging[[c for c in OmicsSomaticMutationsMatrixDamaging.columns if c.startswith(\"BRAF\")]].value_counts()"
   ]
  },
  {
   "cell_type": "code",
   "execution_count": null,
   "id": "ef4dbad2",
   "metadata": {},
   "outputs": [],
   "source": [
    "OmicsSomaticMutationsMatrixDamaging[OmicsSomaticMutationsMatrixDamaging['BRAF (673)'] == 2.0].index"
   ]
  },
  {
   "cell_type": "code",
   "execution_count": null,
   "id": "516d41e8",
   "metadata": {},
   "outputs": [],
   "source": [
    "from depmap_omics_upload import upload\n",
    "\n",
    "d = upload.getPRToRelease()"
   ]
  },
  {
   "cell_type": "code",
   "execution_count": null,
   "id": "3b666d03",
   "metadata": {},
   "outputs": [],
   "source": [
    "\"PR-TOatoO\" in d['internal']"
   ]
  },
  {
   "cell_type": "code",
   "execution_count": null,
   "id": "0e7580b5",
   "metadata": {},
   "outputs": [],
   "source": [
    "from depmap_omics_upload import tracker as track\n",
    "\n",
    "mytracker = track.SampleTracker()\n",
    "pr_table = mytracker.read_pr_table()"
   ]
  },
  {
   "cell_type": "code",
   "execution_count": null,
   "id": "8ec6020a",
   "metadata": {},
   "outputs": [],
   "source": [
    "pr_table[pr_table.ProfileSource.isnull()]"
   ]
  },
  {
   "cell_type": "code",
   "execution_count": null,
   "id": "89086b24",
   "metadata": {},
   "outputs": [],
   "source": [
    "OmicsGuideMutationsBinaryAvana_q4 = tc.get(name='internal-22q4-56d4', version=40, file='OmicsGuideMutationsBinaryAvana')\n",
    "OmicsGuideMutationsBinaryAvana_dryrun = tc.get(name='internal-22q2dryrun-5ffb', version=113, file='OmicsGuideMutationsBinaryAvana')\n"
   ]
  },
  {
   "cell_type": "code",
   "execution_count": null,
   "id": "1f0214df",
   "metadata": {},
   "outputs": [],
   "source": [
    "cols = [c for c in OmicsGuideMutationsBinaryAvana_q4.columns if c in OmicsGuideMutationsBinaryAvana_dryrun.columns]\n",
    "OmicsGuideMutationsBinaryAvana_q4 = OmicsGuideMutationsBinaryAvana_q4[cols]"
   ]
  },
  {
   "cell_type": "code",
   "execution_count": null,
   "id": "6043be2a",
   "metadata": {},
   "outputs": [],
   "source": [
    "len(OmicsGuideMutationsBinaryAvana_q4['ACH-001552'].compare(OmicsGuideMutationsBinaryAvana_dryrun['ACH-001552']))"
   ]
  },
  {
   "cell_type": "code",
   "execution_count": null,
   "id": "5534e4cc",
   "metadata": {},
   "outputs": [],
   "source": [
    "for c in OmicsGuideMutationsBinaryAvana_q4.columns.tolist():\n",
    "    if len(OmicsGuideMutationsBinaryAvana_q4[c].compare(OmicsGuideMutationsBinaryAvana_dryrun[c])) > 0:\n",
    "        print(c)"
   ]
  },
  {
   "cell_type": "code",
   "execution_count": null,
   "id": "46e2e341",
   "metadata": {},
   "outputs": [],
   "source": [
    "OmicsDefaultModelConditionProfiles"
   ]
  },
  {
   "cell_type": "code",
   "execution_count": null,
   "id": "ea3d58b5",
   "metadata": {},
   "outputs": [],
   "source": [
    "merged_gene_cn_profile = tc.get(name='cn-latest-d8d4', file='merged_gene_cn_profile')\n"
   ]
  },
  {
   "cell_type": "code",
   "execution_count": null,
   "id": "62332094",
   "metadata": {},
   "outputs": [],
   "source": [
    "[i for i in merged_gene_cn_profile.index if not i.startswith(\"PR-\")]"
   ]
  },
  {
   "cell_type": "code",
   "execution_count": null,
   "id": "bad3d2b4",
   "metadata": {},
   "outputs": [],
   "source": [
    "\"PR-h2XOKt\" in merged_gene_cn_profile.index"
   ]
  },
  {
   "cell_type": "code",
   "execution_count": null,
   "id": "95aaa44e",
   "metadata": {},
   "outputs": [],
   "source": [
    "OmicsDefaultModelProfiles_internal = tc.get(name='internal-22q4-56d4', version=58, file='OmicsDefaultModelProfiles')\n",
    "OmicsDefaultModelProfiles = tc.get(name='public-22q4-6837', version=53, file='OmicsDefaultModelProfiles')\n",
    "OmicsDefaultModelConditionProfiles = tc.get(name='public-22q4-6837', version=53, file='OmicsDefaultModelConditionProfiles')\n"
   ]
  },
  {
   "cell_type": "code",
   "execution_count": null,
   "id": "5290b23f",
   "metadata": {},
   "outputs": [],
   "source": [
    "OmicsDefaultModelProfiles_internal[OmicsDefaultModelProfiles_internal.ModelID == \"ACH-000580\"]"
   ]
  },
  {
   "cell_type": "code",
   "execution_count": null,
   "id": "f6c69442",
   "metadata": {},
   "outputs": [],
   "source": [
    "OmicsDefaultModelProfiles[OmicsDefaultModelProfiles.ModelID == \"ACH-000580\"]"
   ]
  },
  {
   "cell_type": "code",
   "execution_count": null,
   "id": "2c3563de",
   "metadata": {},
   "outputs": [],
   "source": [
    "OmicsSomaticMutations_q4 = tc.get(name='internal-22q4-56d4', version=58, file='OmicsSomaticMutations')\n"
   ]
  },
  {
   "cell_type": "code",
   "execution_count": null,
   "id": "556eedd8",
   "metadata": {},
   "outputs": [],
   "source": [
    "\"PR-T9HSIG\" in OmicsDefaultModelConditionProfiles.ProfileID.tolist()"
   ]
  },
  {
   "cell_type": "code",
   "execution_count": null,
   "id": "4b076ff6",
   "metadata": {},
   "outputs": [],
   "source": [
    "OmicsDefaultModelConditionProfiles[OmicsDefaultModelConditionProfiles.ModelConditionID == \"MC-000580-ymtS\"]"
   ]
  },
  {
   "cell_type": "code",
   "execution_count": null,
   "id": "e9ba3b16",
   "metadata": {},
   "outputs": [],
   "source": [
    "OmicsSomaticMutations = tc.get(name='internal-22q4-56d4', version=58, file='OmicsSomaticMutations')\n",
    "OmicsSomaticMutations_dryrun = tc.get(name='internal-22q2dryrun-5ffb', version=113, file='OmicsSomaticMutations')\n"
   ]
  },
  {
   "cell_type": "code",
   "execution_count": null,
   "id": "a958e3e0",
   "metadata": {},
   "outputs": [],
   "source": [
    "OmicsSomaticMutations_dryrun = OmicsSomaticMutations_dryrun[[c for c in OmicsSomaticMutations]]"
   ]
  },
  {
   "cell_type": "code",
   "execution_count": null,
   "id": "ae42f4be",
   "metadata": {},
   "outputs": [],
   "source": [
    "OmicsSomaticMutations = OmicsSomaticMutations[OmicsSomaticMutations.DepMap_ID.isin(set(OmicsSomaticMutations_dryrun.DepMap_ID))]"
   ]
  },
  {
   "cell_type": "code",
   "execution_count": null,
   "id": "9ec4d9ac",
   "metadata": {},
   "outputs": [],
   "source": [
    "OmicsSomaticMutations[OmicsSomaticMutations.DepMap_ID == \"ACH-002252\"].reset_index(drop=True).compare(OmicsSomaticMutations_dryrun[OmicsSomaticMutations_dryrun.DepMap_ID == \"ACH-002252\"].reset_index(drop=True))"
   ]
  },
  {
   "cell_type": "code",
   "execution_count": null,
   "id": "a5743c45",
   "metadata": {},
   "outputs": [],
   "source": [
    "old = OmicsSomaticMutations_dryrun[OmicsSomaticMutations_dryrun.DepMap_ID == \"ACH-000786\"].reset_index(drop=True)\n",
    "new = OmicsSomaticMutations[OmicsSomaticMutations.DepMap_ID == \"ACH-000786\"].reset_index(drop=True)"
   ]
  },
  {
   "cell_type": "code",
   "execution_count": null,
   "id": "84d8287a",
   "metadata": {},
   "outputs": [],
   "source": [
    "arxspans = set(OmicsSomaticMutations.DepMap_ID)\n",
    "\n",
    "for i in arxspans:\n",
    "    if len(OmicsSomaticMutations_dryrun[(OmicsSomaticMutations_dryrun.DepMap_ID == i) & (OmicsSomaticMutations_dryrun.HessDriver == \"Y\")]) != len(OmicsSomaticMutations[(OmicsSomaticMutations.DepMap_ID == i) & (OmicsSomaticMutations.HessDriver == \"Y\")]):\n",
    "        print(i)\n",
    "#     if len(OmicsSomaticMutations[OmicsSomaticMutations.DepMap_ID == i].reset_index(drop=True).compare(OmicsSomaticMutations_dryrun[OmicsSomaticMutations_dryrun.DepMap_ID == i].reset_index(drop=True))) > 0:\n",
    "#         print(\"different \" + i)"
   ]
  },
  {
   "cell_type": "code",
   "execution_count": null,
   "id": "7d60a770",
   "metadata": {},
   "outputs": [],
   "source": [
    "OmicsSomaticMutations_dryrun[(OmicsSomaticMutations_dryrun.DepMap_ID == \"ACH-000714\") & (OmicsSomaticMutations_dryrun.HessDriver == \"Y\")]#[[\"Chrom\", \"Pos\", \"HugoSymbol\"]]"
   ]
  },
  {
   "cell_type": "code",
   "execution_count": null,
   "id": "dd6abcaf",
   "metadata": {},
   "outputs": [],
   "source": [
    "OmicsSomaticMutations[(OmicsSomaticMutations.DepMap_ID == \"ACH-000714\") & (OmicsSomaticMutations.HessDriver == \"Y\")]#[[\"Chrom\", \"Pos\", \"HugoSymbol\"]]"
   ]
  },
  {
   "cell_type": "code",
   "execution_count": null,
   "id": "0afec895",
   "metadata": {},
   "outputs": [],
   "source": [
    "OmicsSomaticMutations_dryrun[OmicsSomaticMutations_dryrun.DepMap_ID == \"ACH-000373\"].reset_index(drop=True)"
   ]
  },
  {
   "cell_type": "code",
   "execution_count": null,
   "id": "d3df3f57",
   "metadata": {},
   "outputs": [],
   "source": [
    "OmicsSomaticMutations[OmicsSomaticMutations.DepMap_ID == \"ACH-000373\"].reset_index(drop=True)"
   ]
  },
  {
   "cell_type": "code",
   "execution_count": null,
   "id": "dbf0ae8f",
   "metadata": {},
   "outputs": [],
   "source": [
    "new_cleaned = tc.get(name='comparison-new-maf-old-maf-24b4', version=10, file='new_cleaned')\n"
   ]
  },
  {
   "cell_type": "code",
   "execution_count": null,
   "id": "c5e3d65d",
   "metadata": {},
   "outputs": [],
   "source": [
    "new_cleaned.sample_id.value_counts()"
   ]
  },
  {
   "cell_type": "code",
   "execution_count": null,
   "id": "753a4cc3",
   "metadata": {},
   "outputs": [],
   "source": [
    "OmicsProfiles = tc.get(name='dmc-22q4-a73a', file='OmicsProfiles')\n",
    "OmicsDefaultModelConditionProfiles = tc.get(name='dmc-22q4-a73a', file='OmicsDefaultModelConditionProfiles')\n"
   ]
  },
  {
   "cell_type": "code",
   "execution_count": null,
   "id": "7daad8bb",
   "metadata": {},
   "outputs": [],
   "source": [
    "len(set(OmicsProfiles.ModelConditionID))"
   ]
  },
  {
   "cell_type": "code",
   "execution_count": null,
   "id": "343b8a64",
   "metadata": {},
   "outputs": [],
   "source": [
    "len(set(OmicsDefaultModelConditionProfiles.ModelConditionID))"
   ]
  },
  {
   "cell_type": "code",
   "execution_count": null,
   "id": "dd6911b7",
   "metadata": {},
   "outputs": [],
   "source": [
    "set(OmicsDefaultModelConditionProfiles.ModelConditionID) - set(OmicsProfiles.ModelConditionID)"
   ]
  },
  {
   "cell_type": "code",
   "execution_count": null,
   "id": "26522e81",
   "metadata": {},
   "outputs": [],
   "source": [
    "set(OmicsProfiles.ModelConditionID) - set(OmicsDefaultModelConditionProfiles.ModelConditionID)"
   ]
  },
  {
   "cell_type": "code",
   "execution_count": null,
   "id": "35b9d7ff",
   "metadata": {},
   "outputs": [],
   "source": [
    "OmicsProfiles"
   ]
  },
  {
   "cell_type": "code",
   "execution_count": null,
   "id": "7259fb41",
   "metadata": {},
   "outputs": [],
   "source": [
    "OmicsExpressionProteinCodingGenesTPMLogp1 = tc.get(name='public-22q4-6837', version=71, file='OmicsExpressionProteinCodingGenesTPMLogp1')\n",
    "OmicsCNGene = tc.get(name='public-22q4-6837', version=71, file='OmicsCNGene')\n"
   ]
  },
  {
   "cell_type": "code",
   "execution_count": null,
   "id": "1779607d",
   "metadata": {},
   "outputs": [],
   "source": [
    "print(OmicsExpressionProteinCodingGenesTPMLogp1.index.tolist())"
   ]
  },
  {
   "cell_type": "code",
   "execution_count": null,
   "id": "c7278a2d",
   "metadata": {},
   "outputs": [],
   "source": [
    "set(OmicsExpressionProteinCodingGenesTPMLogp1.index.tolist()) - set(OmicsCNGene.index.tolist())"
   ]
  },
  {
   "cell_type": "code",
   "execution_count": null,
   "id": "3cdcfb53",
   "metadata": {},
   "outputs": [],
   "source": [
    "OmicsAbsoluteCNGene = tc.get(name='internal-22q4-56d4', version=77, file='OmicsAbsoluteCNGene')\n",
    "OmicsAbsoluteCNGene_dryrun = tc.get(name='internal-22q2dryrun-5ffb', version=113, file='OmicsAbsoluteCNGene')\n"
   ]
  },
  {
   "cell_type": "code",
   "execution_count": null,
   "id": "2d8471ac",
   "metadata": {},
   "outputs": [],
   "source": [
    "set(OmicsAbsoluteCNGene.index) - set(OmicsAbsoluteCNGene_dryrun.index)"
   ]
  },
  {
   "cell_type": "code",
   "execution_count": null,
   "id": "fc515a87",
   "metadata": {},
   "outputs": [],
   "source": [
    "set(OmicsAbsoluteCNGene_dryrun.index) - set(OmicsAbsoluteCNGene.index)"
   ]
  },
  {
   "cell_type": "code",
   "execution_count": null,
   "id": "cbb93a39",
   "metadata": {},
   "outputs": [],
   "source": [
    "OmicsAbsoluteCNGene_dryrun"
   ]
  },
  {
   "cell_type": "code",
   "execution_count": null,
   "id": "c9fa5203",
   "metadata": {},
   "outputs": [],
   "source": []
  }
 ],
 "metadata": {
  "kernelspec": {
   "display_name": "Python 3",
   "language": "python",
   "name": "python3"
  },
  "language_info": {
   "codemirror_mode": {
    "name": "ipython",
    "version": 3
   },
   "file_extension": ".py",
   "mimetype": "text/x-python",
   "name": "python",
   "nbconvert_exporter": "python",
   "pygments_lexer": "ipython3",
   "version": "3.8.13"
  }
 },
 "nbformat": 4,
 "nbformat_minor": 5
}
