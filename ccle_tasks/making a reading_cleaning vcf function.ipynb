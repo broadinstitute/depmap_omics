{
 "cells": [
  {
   "cell_type": "code",
   "execution_count": null,
   "metadata": {},
   "outputs": [],
   "source": [
    "import pandas as pd\n",
    "import genepy.mutations as mut\n",
    "import numpy as np\n",
    "\n",
    "from importlib import reload\n",
    "\n",
    "import pyarrow.parquet as pq\n",
    "import pyarrow as pa\n",
    "\n",
    "from depmapomics import vcf\n",
    "\n",
    "%load_ext autoreload\n",
    "%autoreload 2"
   ]
  },
  {
   "cell_type": "code",
   "execution_count": null,
   "metadata": {},
   "outputs": [],
   "source": [
    "!gsutil cp gs://fc-secure-bd7b8bc9-f665-4269-997e-5a402088a369/656daacd-9c89-4b94-a952-f531e67bc325/omics_post_mutect2/70383990-bcdb-4ec2-909c-ad8f12924cc5/call-open_cravat/out/CDS-1UJEpC_fixed.vcf.gz.vcf.gz ."
   ]
  },
  {
   "cell_type": "code",
   "execution_count": null,
   "metadata": {},
   "outputs": [],
   "source": [
    "! gsutil cp gs://fc-secure-76d1542e-1c49-4411-8268-e41e92f9f311/1408f7db-9e1a-447f-99d1-a15f16c3c98a/omics_post_mutect2/fe55ad1f-2f11-46ee-ba5a-35000082e905/call-open_cravat/out/CDS-Kockd8.hg38-filtered.vcf.gz.annotated.vcf.gz.vcf.gz .\n",
    "\n",
    "! gsutil cp gs://fc-secure-d2a2d895-a7af-4117-bdc7-652d7d268324/e07d7685-6000-43e3-ab2d-081cce51f111/opencravat/2fdacfa1-7136-43b1-ba21-2b6151ce781d/call-run_opencravat/out/CDS-00rz9N_fixedploidy.vcf.gz.vcf.gz ."
   ]
  },
  {
   "cell_type": "code",
   "execution_count": null,
   "metadata": {},
   "outputs": [],
   "source": [
    "#no opencrav\n",
    "! gsutil cp gs://fc-secure-bd7b8bc9-f665-4269-997e-5a402088a369/51b88f4b-4eb5-4f72-9dbe-9904400682a9/omics_mutect2/d36d8cf7-b100-4521-baa6-99a01841b028/call-fix_mutect2/CDS-00Nrci_fixed.vcf.gz ."
   ]
  },
  {
   "cell_type": "code",
   "execution_count": null,
   "metadata": {},
   "outputs": [],
   "source": [
    "force_keep=['clinvar_vcf_ssr', 'clinvar_vcf_clndnincl', 'clinvar_vcf_clndisdbincl', 'clinvar_vcf_clnsigincl', 'oc_oncokb__all', 'oc_oncokb__highestdiagnosticimplicationlevel']"
   ]
  },
  {
   "cell_type": "code",
   "execution_count": null,
   "metadata": {},
   "outputs": [],
   "source": [
    "! gsutil ls gs://fc-secure-bd7b8bc9-f665-4269-997e-5a402088a369/0fa53646-a1ff-4494-82ad-70bd64a6735c/omics_post_mutect2/cd241fb3-21a9-4cc7-9b42-c8b2dc12f122/call-my_vcf_to_depmap/glob-cee1f6320fb2e9690dc69ecc442b61ec/"
   ]
  },
  {
   "cell_type": "code",
   "execution_count": null,
   "metadata": {},
   "outputs": [],
   "source": []
  },
  {
   "cell_type": "code",
   "execution_count": null,
   "metadata": {},
   "outputs": [],
   "source": [
    "! gsutil rm gs://fc-secure-bd7b8bc9-f665-4269-997e-5a402088a369/0fa53646-a1ff-4494-82ad-70bd64a6735c/omics_post_mutect2/cd241fb3-21a9-4cc7-9b42-c8b2dc12f122/call-my_vcf_to_depmap/glob-cee1f6320fb2e9690dc69ecc442b61ec/cromwell_glob_control_file"
   ]
  },
  {
   "cell_type": "code",
   "execution_count": null,
   "metadata": {},
   "outputs": [],
   "source": [
    "rm CDS-0bV15m.parquet/glob-cee1f6320fb2e9690dc69ecc442b61ec/cromwell_glob_control_file"
   ]
  },
  {
   "cell_type": "code",
   "execution_count": null,
   "metadata": {},
   "outputs": [],
   "source": [
    "hot"
   ]
  },
  {
   "cell_type": "code",
   "execution_count": null,
   "metadata": {},
   "outputs": [],
   "source": [
    "hot = pd.read_csv('gs://ccleparams/hotspot_hess_et_al.csv')\n",
    "h = set(hot.chrom.astype(str)+\":\"+hot.pos.astype(str)+\":\"+hot.alt)\n",
    "v = set(val.chrom.astype(str)+\":\"+val.pos.astype(str)+\":\"+val.alt)\n",
    "for pos in list(v & h):\n",
    "    pos = pos.split(':')\n",
    "    loc = (val.chrom==pos[0])&(val.pos.astype(str)==pos[1])&(val.alt==pos[2])]\n",
    "    for k, val in val[loc].iteritems()\n",
    "    for k, l in :\n",
    "        base_ch.append(tuple(l[3:-3].split('->')))\n",
    "\n",
    "    print('possible match: ',base_ch, )\n",
    "    if l in"
   ]
  },
  {
   "cell_type": "code",
   "execution_count": null,
   "metadata": {},
   "outputs": [],
   "source": [
    "# !!!!!!!!!!! it looks like hg19 not same ref at same base"
   ]
  },
  {
   "cell_type": "code",
   "execution_count": null,
   "metadata": {},
   "outputs": [],
   "source": [
    "val = pd.read_csv('CDS-1UJEpC_fixed-maf-coding_somatic-subset.csv.gz')\n",
    "val"
   ]
  },
  {
   "cell_type": "code",
   "execution_count": null,
   "metadata": {},
   "outputs": [],
   "source": [
    "file = pd.read_parquet('gs://fc-secure-bd7b8bc9-f665-4269-997e-5a402088a369/443ddd61-b278-4985-b251-20e9f780655b/omics_post_mutect2/acd8b67d-cd40-4f22-8f61-d12e124bcb5a/call-my_vcf_to_depmap/attempt-2/glob-a8ffee9532d02dbc02d223472b942444/6c7e1f5f559f4c5f85f122850a802c09-0.parquet')"
   ]
  },
  {
   "cell_type": "code",
   "execution_count": null,
   "metadata": {},
   "outputs": [],
   "source": [
    "cgc_mutation_type"
   ]
  },
  {
   "cell_type": "code",
   "execution_count": null,
   "metadata": {},
   "outputs": [],
   "source": [
    "import re"
   ]
  },
  {
   "cell_type": "code",
   "execution_count": null,
   "metadata": {},
   "outputs": [],
   "source": [
    "min_count_hotspot=5\n",
    "hotspot_l=[]"
   ]
  },
  {
   "cell_type": "code",
   "execution_count": null,
   "metadata": {},
   "outputs": [],
   "source": [
    "file.loc[file['cosmic_overlapping_mutations'].isin(hotspot_l)][file.columns[:5].tolist()+['variant_info','popaf','cosmic_overlapping_mutations', 'protein_change', 'is_coding', 'germline', 'ad']].germline"
   ]
  },
  {
   "cell_type": "code",
   "execution_count": null,
   "metadata": {},
   "outputs": [],
   "source": [
    "for v in list(set(file[file['cosmic_overlapping_mutations']!='']['cosmic_overlapping_mutations'])):\n",
    "    res = sum([int(val.group(0)[1:-1]) for val in re.finditer(r'([(])\\d+([)])',  v)])\n",
    "    if res>min_count_hotspot:\n",
    "        hotspot_l.append(v)"
   ]
  },
  {
   "cell_type": "code",
   "execution_count": null,
   "metadata": {},
   "outputs": [],
   "source": [
    "file[file['cosmic_overlapping_mutations']!='']['cosmic_overlapping_mutations']"
   ]
  },
  {
   "cell_type": "code",
   "execution_count": null,
   "metadata": {},
   "outputs": [],
   "source": [
    "file[file['cosmictissue_tissue_types_affected']!='']['cosmictissue_tissue_types_affected']"
   ]
  },
  {
   "cell_type": "code",
   "execution_count": null,
   "metadata": {},
   "outputs": [],
   "source": [
    "file.columns.tolist()"
   ]
  },
  {
   "cell_type": "code",
   "execution_count": null,
   "metadata": {},
   "outputs": [],
   "source": []
  },
  {
   "cell_type": "code",
   "execution_count": null,
   "metadata": {},
   "outputs": [],
   "source": []
  },
  {
   "cell_type": "code",
   "execution_count": null,
   "metadata": {},
   "outputs": [],
   "source": []
  },
  {
   "cell_type": "code",
   "execution_count": null,
   "metadata": {},
   "outputs": [],
   "source": [
    "# read in vcf as a df\n",
    "n_rows = 500_000\n",
    "tobreak=False\n",
    "for i in range(100):\n",
    "    vcf_file, _, _ = mut.vcf_to_df(\"CDS-00Nrci.filtered.vcf.gz\", additional_cols=[\"PON\"], force_keep=force_keep if i==0 else prev_cols + force_keep, drop_null=True, parse_filter=True, nrows=n_rows, skiprows=n_rows*i, cols_to_drop=[\n",
    "            \"clinvar_vcf_mc\",\n",
    "            \"oreganno_build\",\n",
    "            \"gt\",\n",
    "            \"ad\",\n",
    "            \"af\",\n",
    "            \"dp\",\n",
    "            \"f1r2\",\n",
    "            \"f2r1\",\n",
    "            \"fad\",\n",
    "            \"sb\",\n",
    "            \"pid\",\n",
    "            \"pl\",\n",
    "            \"ps\",\n",
    "            \"gq\",\n",
    "            'pgt',\n",
    "        ])\n",
    "    \n",
    "    if len(vcf_file) < n_rows:\n",
    "        #we have reached the end:\n",
    "        tobreak=True\n",
    "    \n",
    "    #improve\n",
    "    vcf_file_o = vcf.improve(vcf_file.copy(), with_onco_kb=False, split_multiallelic=False, torename = vcf.TO_RENAME)\n",
    "\n",
    "    # checking we have the same set of columns\n",
    "    cols = vcf_file_o.columns.tolist()\n",
    "    if i==0:\n",
    "        prev_cols=cols\n",
    "    if cols != prev_cols:\n",
    "        raise ValueError('we are removing different sets of columns', cols, list(set(cols)^set(prev_cols)))\n",
    "        \n",
    "    #save full\n",
    "    # need pyarrows\n",
    "    pq.write_to_dataset(pa.Table.from_pandas(vcf_file_o) , root_path='CDS-1UJEpC_fixed'+\"-maf-full.parquet\")\n",
    "\n",
    "    #save maf\n",
    "    if i==0:\n",
    "        vcf.to_maf(vcf_file_o, 'CDS-1UJEpC_fixed', drop_multi=True, index=False)\n",
    "    else:\n",
    "        vcf.to_maf(vcf_file_o, 'CDS-1UJEpC_fixed', drop_multi=True, mode='a', header=False, index=False)\n",
    "        \n",
    "    if tobreak:\n",
    "        break"
   ]
  },
  {
   "cell_type": "code",
   "execution_count": null,
   "metadata": {},
   "outputs": [],
   "source": [
    "pd.read_parquet('gs://cclebams/CDS-00Nrci-maf-full.parquet')"
   ]
  },
  {
   "cell_type": "code",
   "execution_count": null,
   "metadata": {},
   "outputs": [],
   "source": [
    "#split multi allelic"
   ]
  },
  {
   "cell_type": "code",
   "execution_count": null,
   "metadata": {},
   "outputs": [],
   "source": [
    "for k, row in vcf_df_split[vcf_df_split.multiallelic].iterrows():\n",
    "    row.split"
   ]
  },
  {
   "cell_type": "code",
   "execution_count": null,
   "metadata": {},
   "outputs": [],
   "source": [
    "vcf_df_split.oc_oncokb__knowneffect=='Likely Loss-of-function'"
   ]
  },
  {
   "cell_type": "code",
   "execution_count": null,
   "metadata": {},
   "outputs": [],
   "source": [
    "vcf_df_split.oc_oncokb__oncogenic==\"Likely Oncogenic\""
   ]
  },
  {
   "cell_type": "code",
   "execution_count": null,
   "metadata": {},
   "outputs": [],
   "source": [
    "set(vcf_df_split.oc_genehancer__feature_name)"
   ]
  },
  {
   "cell_type": "code",
   "execution_count": null,
   "metadata": {},
   "outputs": [],
   "source": [
    "vcf_df_split.hgnc_locus_typereplace('RNA, ': 'RNA: ')"
   ]
  },
  {
   "cell_type": "code",
   "execution_count": null,
   "metadata": {},
   "outputs": [],
   "source": [
    "set(vcf_df_split.hgnc_locus_type.str.replace(r'([^\\s-]),([^\\s-])', r'\\1%3D\\2', regex=True)).str.split('%3D')[0]"
   ]
  },
  {
   "cell_type": "code",
   "execution_count": null,
   "metadata": {},
   "outputs": [],
   "source": [
    "set(vcf_df_split.hgnc_locus_group)"
   ]
  },
  {
   "cell_type": "code",
   "execution_count": null,
   "metadata": {},
   "outputs": [],
   "source": [
    "set(vcf_df_split.oc_base__so)"
   ]
  },
  {
   "cell_type": "code",
   "execution_count": null,
   "metadata": {},
   "outputs": [],
   "source": [
    "set(val.ccle_deleterious)"
   ]
  },
  {
   "cell_type": "code",
   "execution_count": null,
   "metadata": {},
   "outputs": [],
   "source": [
    "val['']"
   ]
  },
  {
   "cell_type": "code",
   "execution_count": null,
   "metadata": {},
   "outputs": [],
   "source": [
    "val[val.protein_change!='']"
   ]
  },
  {
   "cell_type": "code",
   "execution_count": null,
   "metadata": {},
   "outputs": [],
   "source": [
    "val[(val.ccle_deleterious!=True) & val.is_coding]"
   ]
  },
  {
   "cell_type": "code",
   "execution_count": null,
   "metadata": {},
   "outputs": [],
   "source": []
  },
  {
   "cell_type": "code",
   "execution_count": null,
   "metadata": {},
   "outputs": [],
   "source": [
    "set(val['cosmictissue_tissue_types_affected'])"
   ]
  },
  {
   "cell_type": "code",
   "execution_count": null,
   "metadata": {},
   "outputs": [],
   "source": [
    "set(val[\"cosmictissue_total_alterations_in_gene\"])"
   ]
  },
  {
   "cell_type": "code",
   "execution_count": null,
   "metadata": {},
   "outputs": [],
   "source": [
    "set(val[\"variant_info\"]+\"____\"+val[\"gencode_34_secondaryvariantclassification\"])"
   ]
  },
  {
   "cell_type": "code",
   "execution_count": null,
   "metadata": {},
   "outputs": [],
   "source": [
    "# feature_name\n",
    "vcf_df_split[~vcf_df_split.hgnc_locus_type.isna() & (vcf_df_split.hgnc_locus_type != vcf_df_split.hgnc_locus_group)][[\"oc_genehancer__feature_name\",\n",
    "\"hgnc_locus_type\",\n",
    "\"hgnc_locus_group\",\n",
    "\n",
    "\"gencode_34_variantclassification\",\n",
    "\"gencode_34_secondaryvariantclassification\",\n",
    "\"oc_base__so\"]]"
   ]
  },
  {
   "cell_type": "code",
   "execution_count": null,
   "metadata": {},
   "outputs": [],
   "source": [
    "#somatic_score\n",
    "\n",
    "\n",
    "#quality_score\n",
    "\n",
    "\n",
    "#deleteriousness_score\n",
    "\n",
    "\n",
    "#transcript_specific_pathogenecity\n",
    "\n",
    "\n",
    "#functionality_score\n",
    "\n",
    "\n",
    "#effect_score\n",
    "\n",
    "\n",
    "#disease_association\n",
    "\n",
    "\n",
    "#chemical_association\n",
    "\n",
    "\n",
    "#splice_AI_info\n",
    "\n"
   ]
  },
  {
   "cell_type": "markdown",
   "metadata": {},
   "source": [
    "### 6. variantClassification\n",
    "Type: String\n",
    "The classification of the variant being annotated. Will always be one of the following:\n",
    "\n",
    "- COULD_NOT_DETERMINE : Variant classification could not be determined.\n",
    "- INTRON : Variant lies between exons within the bounds of the chosen transcript. Only valid for Introns.\n",
    "- FIVE_PRIME_UTR : Variant is on the 5'UTR for the chosen transcript. Only valid for UTRs.\n",
    "- THREE_PRIME_UTR : Variant is on the 3'UTR for the chosen transcript. Only valid for UTRs.\n",
    "- IGR : Intergenic region. Does not overlap any transcript. Only valid for IGRs.\n",
    "- FIVE_PRIME_FLANK : The variant is upstream of the chosen transcript. Only valid for IGRs.\n",
    "- THREE_PRIME_FLANK : The variant is downstream of the chosen transcript. Only valid for IGRs.\n",
    "- MISSENSE : The point mutation alters the protein structure by one amino acid. Can occur in Coding regions or Introns.\n",
    "- NONSENSE : A premature stop codon is created by the variant. Can occur in Coding regions or Introns.\n",
    "- NONSTOP : Variant removes stop codon. Can occur in Coding regions or Introns.\n",
    "- SILENT : Variant is in coding region of the chosen transcript, but protein structure is identical. Can occur in Coding regions or Introns.\n",
    "- SPLICE_SITE : The variant is within a configurable number of bases of a splice site. See the secondary classification to determine if it lies on the exon or intron side. Can occur in Coding regions or Introns.\n",
    "- IN_FRAME_DEL : Deletion that keeps the sequence in frame. Can occur in Coding regions or Introns.\n",
    "- IN_FRAME_INS : Insertion that keeps the sequence in frame. Can occur in Coding regions or Introns.\n",
    "- FRAME_SHIFT_INS : Insertion that moves the coding sequence out of frame. Can occur in Coding regions or Introns.\n",
    "- FRAME_SHIFT_DEL : Deletion that moves the sequence out of frame. Can occur in Coding regions or Introns.\n",
    "- START_CODON_SNP : Point mutation that overlaps the start codon. Can occur in Coding regions.\n",
    "- START_CODON_INS : Insertion that overlaps the start codon. Can occur in Coding regions.\n",
    "- START_CODON_DEL : Deletion that overlaps the start codon. Can occur in Coding regions.\n",
    "- DE_NOVO_START_IN_FRAME : New start codon is created by the given variant using the chosen transcript. However, it is in frame relative to the coded protein, meaning that if the coding sequence were extended then the new start codon would be in frame with the existing start and stop codons. This can only occur in a 5' UTR.\n",
    "- DE_NOVO_START_OUT_FRAME : New start codon is created by the given variant using the chosen transcript. However, it is out of frame relative to the coded protein, meaning that if the coding sequence were extended then the new start codon would NOT be in frame with the existing start and stop codons. This can only occur in a 5' UTR.\n",
    "- RNA : Variant lies on one of the RNA transcripts. (special catch-all case)\n",
    "- LINCRNA : Variant lies on one of the lincRNAs. (special catch-all case)\n",
    "\n",
    "#### 7. secondaryVariantClassification\n",
    "\n",
    "Type: String\n",
    "Additional variant classification information for variant alleles that have a VariantClassification of SPLICE_SITE. For a variant allele with the VariantClassification of SPLICE_SITE, this will indicate the specific classification of the variant. For all variants that do not have the VariantClassification of SPLICE_SITE, this will be the empty string.\n",
    "\n",
    "#### 8. variantType\n",
    "Type: String\n",
    "Basic information about the variant allele being annotated. Can be one of:\n",
    "\n",
    "- INS - The variant allele is some kind of insertion.\n",
    "- DEL - The variant allele is some kind of deletion.\n",
    "- SNP - The variant allele is a single nucleotide polymorphism.\n",
    "- DNP - The variant allele is a di-nucleotide polymorphism.\n",
    "- TNP - The variant allele is a tri-nucleotide polymorphism.\n",
    "- ONP - The variant allele is an oligo-nucleotide polymorphism (Synonymous with MNP).\n",
    "- MNP - The variant allele is a multi-nucleotide polymorphism (Synonymous with ONP).\n",
    "- NA - The variant allele type cannot be determined."
   ]
  },
  {
   "cell_type": "code",
   "execution_count": null,
   "metadata": {},
   "outputs": [],
   "source": [
    "# rename and drop\n",
    "tokeep = {\n",
    "'chr': 'chr',\n",
    "\"pos\": \"pos\",\n",
    "\"ref\": \"ref\",\n",
    "\"alt\": \"alt\",\n",
    "\n",
    "'AF': 'af',\n",
    "\"AD\": \"ad\",\n",
    "\"GT\": \"gt\",\n",
    "\"PS\": \"ps\",\n",
    "\n",
    "\"oc_base__so\": \"variant_info\",\n",
    "\"oc_base__cchange\": \"dna_change\",\n",
    "\n",
    "\"oc_base__coding\": \"is_coding\",\n",
    "\"oc_base__hugo\": \"hugo_symbol\",\n",
    "\"hgnc_approved_name\": \"hgnc_name\",\n",
    "\"hgnc_gene_family_name\": \"hgnc_family\",\n",
    "\"oc_base__transcript\": \"transcript\",\n",
    "\"gencode_34_transcriptexon\": \"transcript_exon\",\n",
    "\"oc_base__achange\": \"protein_change\",\n",
    "\"gencode_34_transcriptstrand\": \"transcript_strand\",\n",
    "\"oc_provean__uniprot\": \"uniprot_id\",\n",
    "    \n",
    "\"simple_uniprot_go_biological_process\": \"go_biological_process\",\n",
    "\"simple_uniprot_go_cellular_component\": \"go_cellular_component\",\n",
    "\"simple_uniprot_go_molecular_function\": \"go_molecular_function\",\n",
    "\n",
    "\"feature_name\": \"feature_name\",\n",
    "\"str\": 'str',\n",
    "\n",
    "\"cgc_tissue_type\": \"lineage_association\",\n",
    "\"disease_association\": \"disease_association\",\n",
    "\"chemical_association\": \"chemical_association\",\n",
    "\n",
    "\"achilles_top_genes\": \"achilles_top_genes\",\n",
    "\"cgc_cancer_molecular_genetics\": \"cancer_molecular_genetics\",\n",
    "\"hotspot\": \"hotspot\",\n",
    "\n",
    "\"dbsnp_id\": \"dbsnp_id\",\n",
    "\"dbsnp_filter\": \"dbsnp_filter\",\n",
    "\"issue\": \"issue\",\n",
    "\"quality_score\": \"quality_score\",\n",
    "\n",
    "\"somatic_score\": \"somatic_score\",\n",
    "    \n",
    "\"gencode_34_gccontent\": \"gc_content\",\n",
    "\"dnarepair\": \"dnarepair\",\n",
    "\n",
    "\"splice_ai_info\": \"splice_ai_info\",\n",
    "\n",
    "\"ccle_deleterious\": \"ccle_deleterious\",\n",
    "\"deleteriousness_score\": \"deleteriousness_score\",\n",
    "\"functionality_score\": \"functionality_score\",\n",
    "\"effect_score\": \"effect_score\",\n",
    "\"transcript_specific_pathogenecity\": \"transcript_specific_pathogenecity\",\n",
    "\n",
    "\"structural_relation\": \"structural_relation\",\n",
    "}"
   ]
  }
 ],
 "metadata": {
  "kernelspec": {
   "display_name": "Python 3 (ipykernel)",
   "language": "python",
   "name": "python3"
  },
  "language_info": {
   "codemirror_mode": {
    "name": "ipython",
    "version": 3
   },
   "file_extension": ".py",
   "mimetype": "text/x-python",
   "name": "python",
   "nbconvert_exporter": "python",
   "pygments_lexer": "ipython3",
   "version": "3.7.3"
  },
  "latex_envs": {
   "LaTeX_envs_menu_present": true,
   "autoclose": false,
   "autocomplete": true,
   "bibliofile": "biblio.bib",
   "cite_by": "apalike",
   "current_citInitial": 1,
   "eqLabelWithNumbers": true,
   "eqNumInitial": 1,
   "hotkeys": {
    "equation": "Ctrl-E",
    "itemize": "Ctrl-I"
   },
   "labels_anchors": false,
   "latex_user_defs": false,
   "report_style_numbering": false,
   "user_envs_cfg": false
  },
  "toc": {
   "base_numbering": 1,
   "nav_menu": {},
   "number_sections": true,
   "sideBar": true,
   "skip_h1_title": false,
   "title_cell": "Table of Contents",
   "title_sidebar": "Contents",
   "toc_cell": false,
   "toc_position": {},
   "toc_section_display": true,
   "toc_window_display": false
  },
  "varInspector": {
   "cols": {
    "lenName": 16,
    "lenType": 16,
    "lenVar": 40
   },
   "kernels_config": {
    "python": {
     "delete_cmd_postfix": "",
     "delete_cmd_prefix": "del ",
     "library": "var_list.py",
     "varRefreshCmd": "print(var_dic_list())"
    },
    "r": {
     "delete_cmd_postfix": ") ",
     "delete_cmd_prefix": "rm(",
     "library": "var_list.r",
     "varRefreshCmd": "cat(var_dic_list()) "
    }
   },
   "position": {
    "height": "144.856px",
    "left": "1026px",
    "right": "20px",
    "top": "120px",
    "width": "350px"
   },
   "types_to_exclude": [
    "module",
    "function",
    "builtin_function_or_method",
    "instance",
    "_Feature"
   ],
   "window_display": false
  }
 },
 "nbformat": 4,
 "nbformat_minor": 2
}
