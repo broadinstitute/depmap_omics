{
 "cells": [
  {
   "cell_type": "code",
   "execution_count": null,
   "id": "bdb85fb8",
   "metadata": {},
   "outputs": [],
   "source": [
    "from __future__ import print_function\n",
    "import pandas as pd\n",
    "from gsheets import Sheets\n",
    "import os \n",
    "from depmapomics import tracker\n",
    "import numpy as np\n",
    "import dalmatian as dm\n",
    "import firecloud.api\n",
    "\n",
    "from taigapy import TaigaClient\n",
    "tc = TaigaClient()\n",
    "\n",
    "\n",
    "SHEETCREDS = '../.credentials.json'\n",
    "MY_ID = '~/.client_secret.json'\n",
    "MYSTORAGE_ID = \"~/.storage.json\"\n",
    "SHEETNAME = 'ccle sample tracker'\n",
    "REFSHEET_URL = \"https://docs.google.com/spreadsheets/d/1Pgb5fIClGnErEqzxpU7qqX6ULpGTDjvzWwDN8XUJKIY\"\n",
    "WORKING_DIR = \"temp/\""
   ]
  },
  {
   "cell_type": "code",
   "execution_count": null,
   "id": "a8eb81b3",
   "metadata": {},
   "outputs": [],
   "source": [
    "wm = dm.WorkspaceManager('broad-firecloud-ccle/CCLE_SNP_QC').disable_hound()\n",
    "wm_copy = dm.WorkspaceManager('broad-firecloud-ccle/CCLE_SNP_QC-copy').disable_hound()\n"
   ]
  },
  {
   "cell_type": "code",
   "execution_count": null,
   "id": "57f2fdd6",
   "metadata": {},
   "outputs": [],
   "source": [
    "# create sample sets\n",
    "sample_group_df = wm.get_entities(\"sample_group\")\n",
    "existing_sample_sets = wm.get_entities(\"sample_set\").index\n",
    "vcf_groups = sample_group_df[~sample_group_df.index.isin(existing_sample_sets)]\n",
    "for i in vcf_groups.index:\n",
    "    fn = vcf_groups.loc[i, 'vcf_group']\n",
    "    df = pd.read_csv(fn, sep='\\t', header=None, comment='#')\n",
    "    idx = df[0].tolist()\n",
    "    idx = [x.split('/')[4][:10] for x in idx]\n",
    "    wm.update_sample_set(sample_set_id=i,\n",
    "                          sample_ids=idx)\n",
    "i"
   ]
  },
  {
   "cell_type": "code",
   "execution_count": null,
   "id": "f20dab87",
   "metadata": {},
   "outputs": [],
   "source": [
    "all_sample_sets = wm_copy.get_entities(\"sample_set\").index\n",
    "all_sample_sets"
   ]
  },
  {
   "cell_type": "code",
   "execution_count": null,
   "id": "d158a0df",
   "metadata": {},
   "outputs": [],
   "source": [
    "sample_set_a_list = []\n",
    "sample_set_b_list = []\n",
    "pair_ids = []\n",
    "for s in all_sample_sets:\n",
    "    for t in all_sample_sets:\n",
    "        sample_set_a_list.append(s)\n",
    "        sample_set_b_list.append(t)\n",
    "        pair_ids.append(s + '-' + t)\n",
    "            \n",
    "pair_df = pd.DataFrame(\n",
    "    np.array([sample_set_a_list, sample_set_b_list]).T,\n",
    "    columns=['sample_batch_a', 'sample_batch_b'],\n",
    "    index=pair_ids\n",
    ")\n",
    "pair_df.index.name = 'entity:sample_batch_pair_id'\n",
    "pair_df"
   ]
  },
  {
   "cell_type": "code",
   "execution_count": null,
   "id": "e33d1ec6",
   "metadata": {},
   "outputs": [],
   "source": [
    "# update dalmatian function (moved to terra.py)\n",
    "def update_sample_batch_references(wm, etype, attrs):\n",
    "    reserved_attrs = {}\n",
    "    if etype=='sample':\n",
    "        reserved_attrs = {'participant': 'participant'}\n",
    "    elif etype=='pair':\n",
    "        reserved_attrs = {'participant': 'participant','case_sample': 'sample','control_sample': 'sample'}\n",
    "    elif etype == 'sample_batch_pair':\n",
    "        reserved_attrs = {'sample_batch_a': 'sample_set', 'sample_batch_b': 'sample_set'}\n",
    "\n",
    "    attr_list = []\n",
    "    for entity, row in attrs.iterrows():\n",
    "        attr_list.extend([{\n",
    "            'name':entity,\n",
    "            'entityType':etype,\n",
    "            'operations': [\n",
    "                {\n",
    "                    \"op\": \"AddUpdateAttribute\",\n",
    "                    \"attributeName\": i,\n",
    "                    \"addUpdateAttribute\": wm._process_attribute_value(i, j, reserved_attrs)\n",
    "                } for i,j in row.iteritems() if not np.any(pd.isnull(j))\n",
    "            ]\n",
    "        }])\n",
    "\n",
    "    # try rawls batch call if available\n",
    "    r = dm.wmanager._batch_update_entities(wm.namespace, wm.workspace, attr_list)\n",
    "    try:\n",
    "        if r.status_code == 204:\n",
    "            if isinstance(attrs, pd.DataFrame):\n",
    "                print(\"Successfully updated attributes '{}' for {} {}s.\".format(attrs.columns.tolist(), attrs.shape[0], etype))\n",
    "            elif isinstance(attrs, pd.Series):\n",
    "                print(\"Successfully updated attribute '{}' for {} {}s.\".format(attrs.name, len(attrs), etype))\n",
    "            else:\n",
    "                print(\"Successfully updated attribute '{}' for {} {}s.\".format(attrs.name, len(attrs), etype))\n",
    "        elif r.status_code >= 400:\n",
    "            raise APIException(\"Unable to update entity attributes\", r)\n",
    "        else:\n",
    "            print(r.text)\n",
    "    except:  # revert to public API\n",
    "        traceback.print_exc()\n",
    "        print(\"Failed to use batch update endpoint; switching to slower fallback\")\n",
    "        for update in attr_list:\n",
    "            r = firecloud.api.update_entity(\n",
    "                wm.namespace,\n",
    "                wm.workspace,\n",
    "                update['entityType'],\n",
    "                update['name'],\n",
    "                update['operations']\n",
    "            )\n",
    "            if r.status_code==200:\n",
    "                print('Successfully updated {}.'.format(update['name']))\n",
    "            elif r.status_code >= 400:\n",
    "                raise APIException(\"Unable to update entity attributes\", r)\n",
    "            else:\n",
    "                print(r.text)\n",
    "    if wm.hound._enabled:\n",
    "        with wm.hound.batch():\n",
    "            for obj in attr_list:\n",
    "                wm.hound.update_entity_meta(\n",
    "                    etype,\n",
    "                    obj['name'],\n",
    "                    \"Updating {} attributes: {}\".format(\n",
    "                        len(obj['operations']),\n",
    "                        ', '.join(attr['attributeName'] for attr in obj['operations'])\n",
    "                    )\n",
    "                )\n",
    "                for attr in obj['operations']:\n",
    "                    wm.hound.update_entity_attribute(\n",
    "                        etype,\n",
    "                        obj['name'],\n",
    "                        attr['attributeName'],\n",
    "                        attr['addUpdateAttribute'] if isinstance(attr['addUpdateAttribute'], str)\n",
    "                        else (\n",
    "                            attr['addUpdateAttribute']['entityName'] if 'entityName' in attr['addUpdateAttribute']\n",
    "                            else attr['addUpdateAttribute']['items']\n",
    "                        )\n",
    "                    )"
   ]
  },
  {
   "cell_type": "code",
   "execution_count": null,
   "id": "96ddcc76",
   "metadata": {},
   "outputs": [],
   "source": [
    "pair_df.to_csv(\"sample_batch_pairs.tsv\", sep='\\t') #uploaded to terra manually"
   ]
  },
  {
   "cell_type": "code",
   "execution_count": null,
   "id": "7496c378",
   "metadata": {},
   "outputs": [],
   "source": [
    "pair_df"
   ]
  },
  {
   "cell_type": "code",
   "execution_count": null,
   "id": "bb4448d2",
   "metadata": {},
   "outputs": [],
   "source": [
    "update_sample_batch_references(wm_copy, 'sample_batch_pair', pair_df)"
   ]
  },
  {
   "cell_type": "code",
   "execution_count": null,
   "id": "1f9acb7f",
   "metadata": {},
   "outputs": [],
   "source": [
    "# upload/update sample_set_pair_set\n",
    "unique_pairs = wm_copy.get_entities('sample_batch_pair').index.tolist()\n",
    "sample_set_pair_set_df = pd.DataFrame(np.transpose(unique_pairs), index=['all'] * len(unique_pairs), columns=['sample_batch_pair'])\n",
    "sample_set_pair_set_df.index.name = 'membership:sample_batch_pair_set_id'\n",
    "sample_set_pair_set_df"
   ]
  },
  {
   "cell_type": "code",
   "execution_count": null,
   "id": "7bd2cc3e",
   "metadata": {},
   "outputs": [],
   "source": [
    "sample_set_pair_set_df.to_csv(\"sample_batch_pair_set.tsv\", sep='\\t') #manually updated"
   ]
  },
  {
   "cell_type": "code",
   "execution_count": null,
   "id": "aed94e9e",
   "metadata": {},
   "outputs": [],
   "source": [
    "df1 = pd.read_csv('gs://fc-secure-5a880d76-79f9-4141-844c-9e95369ced4e/2eab2e8e-f2e5-43a5-9a21-9938b64ebdbb/crosscheck/029926a1-e3b8-4cd5-be50-2c5b982bc3fe/call-run_crosscheck/21Q4-vcf_batch_6_crosscheck', sep='\\t', comment='#')\n",
    "df1"
   ]
  },
  {
   "cell_type": "code",
   "execution_count": null,
   "id": "2294a413",
   "metadata": {},
   "outputs": [],
   "source": [
    "df1[(df1.RIGHT_SAMPLE == 'CDS-WSxpHG') & (df1.LEFT_SAMPLE == 'CDS-y7yI24')]"
   ]
  },
  {
   "cell_type": "code",
   "execution_count": null,
   "id": "1733ff50",
   "metadata": {},
   "outputs": [],
   "source": [
    "df1[(df1.RIGHT_SAMPLE == 'CDS-WfPJyi') & (df1.LEFT_SAMPLE == 'CDS-y7yI24')]"
   ]
  },
  {
   "cell_type": "code",
   "execution_count": null,
   "id": "fce07ec4",
   "metadata": {},
   "outputs": [],
   "source": [
    "df2 = pd.read_csv('gs://fc-secure-5a880d76-79f9-4141-844c-9e95369ced4e/2eab2e8e-f2e5-43a5-9a21-9938b64ebdbb/crosscheck/597eaf73-9def-45fc-b31c-552c71492fa1/call-run_crosscheck/21Q4-vcf_batch_1_crosscheck', sep='\\t', comment='#')\n",
    "df2[(df2.RIGHT_SAMPLE == 'CDS-7fm9Do') & (df2.LEFT_SAMPLE == 'CDS-y7yI24')]"
   ]
  },
  {
   "cell_type": "code",
   "execution_count": null,
   "id": "1db8e60b",
   "metadata": {},
   "outputs": [],
   "source": []
  },
  {
   "cell_type": "code",
   "execution_count": null,
   "id": "e791345b",
   "metadata": {},
   "outputs": [],
   "source": [
    "df2 = pd.read_csv('gs://fc-secure-5a880d76-79f9-4141-844c-9e95369ced4e/b2aa5f3d-bc4a-4fae-ad0d-89436ea9a1f6/crosscheck/09e1df45-3aef-469f-bce8-4cdc290f90af/call-run_crosscheck/vcf_batch_1-vcf_batch_6_crosscheck', sep='\\t', comment='#')\n",
    "df2[(df2.RIGHT_SAMPLE == 'CDS-WfPJyi') & (df2.LEFT_SAMPLE == 'CDS-7fm9Do')]"
   ]
  },
  {
   "cell_type": "code",
   "execution_count": null,
   "id": "aa386405",
   "metadata": {},
   "outputs": [],
   "source": [
    "df2 = pd.read_csv('gs://fc-secure-5a880d76-79f9-4141-844c-9e95369ced4e/b2aa5f3d-bc4a-4fae-ad0d-89436ea9a1f6/crosscheck/6f9ff836-605f-452b-8c3f-1c37c08cbac0/call-run_crosscheck/21Q4-vcf_batch_3_crosscheck', sep='\\t', comment='#')\n",
    "df2[(df2.RIGHT_SAMPLE == 'CDS-FXX26z') & (df2.LEFT_SAMPLE == 'CDS-eKPJ34')]"
   ]
  },
  {
   "cell_type": "code",
   "execution_count": null,
   "id": "b792621d",
   "metadata": {},
   "outputs": [],
   "source": [
    "df2 = pd.read_csv('gs://fc-secure-5a880d76-79f9-4141-844c-9e95369ced4e/b2aa5f3d-bc4a-4fae-ad0d-89436ea9a1f6/crosscheck/39b6b4de-5a45-4a6d-9db3-b3268cc91207/call-run_crosscheck/vcf_batch_3-vcf_batch_7_crosscheck', sep='\\t', comment='#')\n",
    "df2[(df2.RIGHT_SAMPLE == 'CDS-f4JXdG') & (df2.LEFT_SAMPLE == 'CDS-FXX26z')]"
   ]
  },
  {
   "cell_type": "code",
   "execution_count": null,
   "id": "eef83ae2",
   "metadata": {},
   "outputs": [],
   "source": [
    "df2 = pd.read_csv('gs://fc-secure-5a880d76-79f9-4141-844c-9e95369ced4e/b2aa5f3d-bc4a-4fae-ad0d-89436ea9a1f6/crosscheck/e00f40e8-7594-4a63-9513-45f3c63f54b3/call-run_crosscheck/21Q4-vcf_batch_7_crosscheck', sep='\\t', comment='#')\n",
    "df2[(df2.RIGHT_SAMPLE == 'CDS-f4JXdG') & (df2.LEFT_SAMPLE == 'CDS-eKPJ34')]"
   ]
  },
  {
   "cell_type": "code",
   "execution_count": null,
   "id": "2c3eb244",
   "metadata": {},
   "outputs": [],
   "source": [
    "# combine LOD matrix"
   ]
  },
  {
   "cell_type": "code",
   "execution_count": null,
   "id": "0d9bffd0",
   "metadata": {},
   "outputs": [],
   "source": [
    "all_sample_sets"
   ]
  },
  {
   "cell_type": "code",
   "execution_count": null,
   "id": "e18c921f",
   "metadata": {},
   "outputs": [],
   "source": [
    "updated_lod_mat = []\n",
    "for s in all_sample_sets:\n",
    "    new_lod_list = []\n",
    "    sample_batch_pair_df = wm_copy.get_entities(\"sample_batch_pair\")\n",
    "    samples_df = sample_batch_pair_df[sample_batch_pair_df.sample_batch_b.apply(lambda x: x['entityName'] == s)]['cross_checks_out'].tolist()\n",
    "    for batch in samples_df:\n",
    "        # could be pd concat\n",
    "        df = pd.read_csv(batch, sep='\\t', comment='#')\n",
    "        lod_mat = df.pivot(index = \"LEFT_SAMPLE\",columns=\"RIGHT_SAMPLE\",values = \"LOD_SCORE\")\n",
    "        new_lod_list.append(lod_mat)\n",
    "    new_lod_mat = pd.concat(new_lod_list)\n",
    "    new_lod_mat.index.name = None\n",
    "    new_lod_mat = new_lod_mat.T\n",
    "    updated_lod_mat.append(new_lod_mat)\n",
    "updated_lod_mat = pd.concat(updated_lod_mat)\n",
    "updated_lod_mat.index.name = None\n",
    "updated_lod_mat"
   ]
  },
  {
   "cell_type": "code",
   "execution_count": null,
   "id": "7b7ba43b",
   "metadata": {},
   "outputs": [],
   "source": [
    "prev_id = 'CDS-7fm9Do'\n",
    "bam_from = 'CDS-WSxpHG'\n",
    "bam_mapped_to = 'CDS-9HXF2k'\n",
    "bam_from_wgs = 'CDS-wmOGjh'\n",
    "\n",
    "print('wes - rna: ', updated_lod_mat.loc['CDS-WfPJyi', prev_id])\n",
    "print('wgs - rna: ', updated_lod_mat.loc['CDS-y7yI24', prev_id])\n",
    "print('wes - wgs: ', updated_lod_mat.loc['CDS-WfPJyi', 'CDS-y7yI24'])"
   ]
  },
  {
   "cell_type": "code",
   "execution_count": null,
   "id": "78cc1d5e",
   "metadata": {},
   "outputs": [],
   "source": [
    "updated_lod_mat.to_csv('fingerprint_lod_matrix.csv')"
   ]
  },
  {
   "cell_type": "code",
   "execution_count": null,
   "id": "b83b35fc",
   "metadata": {},
   "outputs": [],
   "source": [
    "# Upload updated LOD matrix to Taiga\n",
    "tc.update_dataset(dataset_permaname = \"ccle-bam-fingerprints-6f30\",\n",
    "                  changes_description=\"Fixed swapped samples\",\n",
    "                  upload_files=[\n",
    "                    {\n",
    "                        \"path\": 'fingerprint_lod_matrix.csv',\n",
    "                        \"name\": 'fingerprint_lod_matrix',\n",
    "                        \"format\": \"NumericMatrixCSV\",\n",
    "                        \"encoding\": \"utf-8\"\n",
    "                    }\n",
    "                 ],\n",
    "                 add_all_existing_files=True)"
   ]
  },
  {
   "cell_type": "code",
   "execution_count": null,
   "id": "478d711b",
   "metadata": {},
   "outputs": [],
   "source": [
    "from taigapy import TaigaClient\n",
    "tc = TaigaClient()\n",
    "old_lod_mat = tc.get(name='ccle-bam-fingerprints-6f30', version=4, file='fingerprint_lod_matrix')"
   ]
  },
  {
   "cell_type": "code",
   "execution_count": null,
   "id": "434d6744",
   "metadata": {},
   "outputs": [],
   "source": [
    "len(set(updated_lod_mat.index) - set(old_lod_mat.index))"
   ]
  },
  {
   "cell_type": "code",
   "execution_count": null,
   "id": "a348074f",
   "metadata": {},
   "outputs": [],
   "source": [
    "targeted = list(set(updated_lod_mat.index) - set(old_lod_mat.index))\n",
    "targeted.remove('CDS-sGjmuP')\n",
    "t = tracker.getTracker()\n",
    "t.loc[targeted, :].datatype.unique()"
   ]
  },
  {
   "cell_type": "code",
   "execution_count": null,
   "id": "7dec9ac6",
   "metadata": {},
   "outputs": [],
   "source": []
  },
  {
   "cell_type": "code",
   "execution_count": null,
   "id": "5e251acc",
   "metadata": {},
   "outputs": [],
   "source": [
    "submission_id = wm.create_submission(\"crosscheck_vcfs\", 'all', 'sample_batch_pair_set', expression='this.sample_batch_pairs')"
   ]
  },
  {
   "cell_type": "code",
   "execution_count": null,
   "id": "e4db7be9",
   "metadata": {},
   "outputs": [],
   "source": [
    "updated_lod_mat_new = []\n",
    "for s in all_sample_sets:\n",
    "    new_lod_list = []\n",
    "    sample_batch_pair_df = wm.get_entities(\"sample_batch_pair\")\n",
    "    samples_df = sample_batch_pair_df[sample_batch_pair_df.sample_batch_b.apply(lambda x: x['entityName'] == s)]['cross_checks_out'].tolist()\n",
    "    for batch in samples_df:\n",
    "        # could be pd concat\n",
    "        df = pd.read_csv(batch, sep='\\t', comment='#')\n",
    "        lod_mat = df.pivot(index = \"LEFT_SAMPLE\",columns=\"RIGHT_SAMPLE\",values = \"LOD_SCORE\")\n",
    "        new_lod_list.append(lod_mat)\n",
    "    new_lod_mat = pd.concat(new_lod_list)\n",
    "    new_lod_mat.index.name = None\n",
    "    new_lod_mat = new_lod_mat.T\n",
    "    updated_lod_mat_new.append(new_lod_mat)\n",
    "updated_lod_mat_new = pd.concat(updated_lod_mat_new)\n",
    "updated_lod_mat_new.index.name = None\n",
    "updated_lod_mat_new"
   ]
  },
  {
   "cell_type": "code",
   "execution_count": null,
   "id": "383d783d",
   "metadata": {},
   "outputs": [],
   "source": [
    "prev_id = 'CDS-7fm9Do'\n",
    "bam_from = 'CDS-WSxpHG'\n",
    "bam_mapped_to = 'CDS-9HXF2k'\n",
    "bam_from_wgs = 'CDS-wmOGjh'\n",
    "\n",
    "print('wes - rna: ', updated_lod_mat_new.loc['CDS-WfPJyi', prev_id])\n",
    "print('wgs - rna: ', updated_lod_mat_new.loc['CDS-y7yI24', prev_id])\n",
    "print('wes - wgs: ', updated_lod_mat_new.loc['CDS-WfPJyi', 'CDS-y7yI24'])"
   ]
  },
  {
   "cell_type": "code",
   "execution_count": null,
   "id": "2b2ae2bc",
   "metadata": {},
   "outputs": [],
   "source": [
    "updated_lod_mat_new.loc['CDS-sGjmuP',:]"
   ]
  },
  {
   "cell_type": "code",
   "execution_count": null,
   "id": "eb739f4f",
   "metadata": {},
   "outputs": [],
   "source": [
    "targeted.append('CDS-sGjmuP')\n",
    "updated_lod_mat_new = updated_lod_mat_new[~updated_lod_mat_new.index.isin(targeted)]\n",
    "updated_lod_mat_new = updated_lod_mat_new.drop(columns=targeted)\n",
    "updated_lod_mat_new"
   ]
  },
  {
   "cell_type": "code",
   "execution_count": null,
   "id": "e7e4c028",
   "metadata": {},
   "outputs": [],
   "source": [
    "updated_lod_mat_new.to_csv('fingerprint_lod_matrix.csv')\n",
    "# Upload updated LOD matrix to Taiga\n",
    "tc.update_dataset(dataset_permaname = \"ccle-bam-fingerprints-6f30\",\n",
    "                  changes_description=\"drop targeted seq that were accidentally added\",\n",
    "                  upload_files=[\n",
    "                    {\n",
    "                        \"path\": 'fingerprint_lod_matrix.csv',\n",
    "                        \"name\": 'fingerprint_lod_matrix',\n",
    "                        \"format\": \"NumericMatrixCSV\",\n",
    "                        \"encoding\": \"utf-8\"\n",
    "                    }\n",
    "                 ],\n",
    "                 add_all_existing_files=True)"
   ]
  },
  {
   "cell_type": "code",
   "execution_count": null,
   "id": "49f54585",
   "metadata": {},
   "outputs": [],
   "source": []
  },
  {
   "cell_type": "code",
   "execution_count": null,
   "id": "eb798e70",
   "metadata": {},
   "outputs": [],
   "source": []
  }
 ],
 "metadata": {
  "kernelspec": {
   "display_name": "Python 3",
   "language": "python",
   "name": "python3"
  },
  "language_info": {
   "codemirror_mode": {
    "name": "ipython",
    "version": 3
   },
   "file_extension": ".py",
   "mimetype": "text/x-python",
   "name": "python",
   "nbconvert_exporter": "python",
   "pygments_lexer": "ipython3",
   "version": "3.8.2"
  }
 },
 "nbformat": 4,
 "nbformat_minor": 5
}
