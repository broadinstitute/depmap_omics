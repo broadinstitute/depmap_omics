{
 "cells": [
  {
   "cell_type": "markdown",
   "metadata": {},
   "source": [
    "# Just doing some neuroblastoma-specific stuff.\n",
    "\n",
    "In particular, this notebook will run the mutation pipeline (or most of it) on a subset of the neuroblastoma (NB) cell lines for which we have not processed the BAM and BAI files we have. Most of these are samples from Sanger.\n",
    "\n",
    "In addition, some subset of NB lines that we have CCLE data on were included in the CCLE2 paper, and already have results from running ABSOLUTE."
   ]
  },
  {
   "cell_type": "code",
   "execution_count": null,
   "metadata": {},
   "outputs": [],
   "source": [
    "from __future__ import print_function\n",
    "import os.path\n",
    "import dalmatian as dm\n",
    "import pandas as pd\n",
    "import sys\n",
    "sys.path.insert(0, '../../JKBio/')\n",
    "sys.path.insert(0, '../')\n",
    "from src.CCLE_postp_function import *\n",
    "import TerraFunction as terra\n",
    "%load_ext autoreload\n",
    "%autoreload 2\n",
    "%load_ext rpy2.ipython\n",
    "from taigapy import TaigaClient\n",
    "from IPython.display import Image,display\n",
    "tc = TaigaClient()\n",
    "import numpy as np"
   ]
  },
  {
   "cell_type": "code",
   "execution_count": null,
   "metadata": {},
   "outputs": [],
   "source": [
    "## Import up sound alert dependencies\n",
    "from IPython.display import Audio, display\n",
    "\n",
    "# play sound alert when function is called\n",
    "def allDone():\n",
    "    framerate = 4410\n",
    "    play_time_seconds = 1\n",
    "\n",
    "    t = np.linspace(0, play_time_seconds, framerate*play_time_seconds)\n",
    "    audio_data = np.sin(2*np.pi*300*t) + np.sin(2*np.pi*240*t)\n",
    "    display(Audio(audio_data, rate=framerate, autoplay=True))"
   ]
  },
  {
   "cell_type": "code",
   "execution_count": null,
   "metadata": {},
   "outputs": [],
   "source": [
    "cwd = os.getcwd()\n",
    "print(cwd)"
   ]
  },
  {
   "cell_type": "code",
   "execution_count": null,
   "metadata": {},
   "outputs": [],
   "source": [
    "refnamespace=\"broad-firecloud-ccle\"\n",
    "refworkspace=\"DepMap_Mutation_Calling_CGA_pipeline\"\n",
    "samplesetname = \"NB_to_run\"\n",
    "refname_work = refnamespace + \"/\" + refworkspace"
   ]
  },
  {
   "cell_type": "code",
   "execution_count": null,
   "metadata": {},
   "outputs": [],
   "source": [
    "refwm = dm.WorkspaceManager(refnamespace, refworkspace)"
   ]
  },
  {
   "cell_type": "markdown",
   "metadata": {},
   "source": [
    "## create sample set for NB lines to run"
   ]
  },
  {
   "cell_type": "code",
   "execution_count": null,
   "metadata": {},
   "outputs": [],
   "source": [
    "# get list of all samples in the Sanger set\n",
    "refwm.get_sample_sets()[\"samples\"][\"Sanger\"]"
   ]
  },
  {
   "cell_type": "code",
   "execution_count": null,
   "metadata": {},
   "outputs": [],
   "source": [
    "# get subset that haven't been run through the pipeline yet\n",
    "# need to grab just these: \n",
    "nb_lines_to_run = pd.read_csv(\"../../NB-copy-loss/data/NB_lines_to_run.csv\") # I used an R script to get this list.\n",
    "nb_lines_to_run = nb_lines_to_run[\"x\"].to_list()\n",
    "nb_lines_to_run"
   ]
  },
  {
   "cell_type": "code",
   "execution_count": null,
   "metadata": {},
   "outputs": [],
   "source": [
    "# create new sample set in Terra for these lines\n",
    "refwm.update_sample_set(samplesetname, nb_lines_to_run)"
   ]
  },
  {
   "cell_type": "code",
   "execution_count": null,
   "metadata": {},
   "outputs": [],
   "source": [
    "refwm.get_sample_sets()[\"samples\"][\"NB_to_run\"] "
   ]
  },
  {
   "cell_type": "code",
   "execution_count": null,
   "metadata": {},
   "outputs": [],
   "source": [
    "# run the CGA characterization pipeline: will give MAF and ABSOLUTE as output\n",
    "CGAmutations = refwm.get_config(\"CGA_WES_CCLE_Characterization_Pipeline_v0.1_Jul2019\")\n",
    "CGAmutations"
   ]
  },
  {
   "cell_type": "code",
   "execution_count": null,
   "metadata": {},
   "outputs": [],
   "source": [
    "refwm.update_config(CGAmutations)\n",
    "submission_id = refwm.create_submission(CGAmutations['name'], samplesetname,'sample_set',expression='this.samples')"
   ]
  },
  {
   "cell_type": "code",
   "execution_count": null,
   "metadata": {},
   "outputs": [],
   "source": [
    "terra.waitForSubmission(refname_work, submission_id)\n",
    "allDone()"
   ]
  },
  {
   "cell_type": "code",
   "execution_count": null,
   "metadata": {},
   "outputs": [],
   "source": []
  }
 ],
 "metadata": {
  "kernelspec": {
   "display_name": "Python 3",
   "language": "python",
   "name": "python3"
  },
  "toc": {
   "base_numbering": 1,
   "nav_menu": {},
   "number_sections": true,
   "sideBar": true,
   "skip_h1_title": false,
   "title_cell": "Table of Contents",
   "title_sidebar": "Contents",
   "toc_cell": false,
   "toc_position": {
    "height": "calc(100% - 180px)",
    "left": "10px",
    "top": "150px",
    "width": "165px"
   },
   "toc_section_display": true,
   "toc_window_display": true
  }
 },
 "nbformat": 4,
 "nbformat_minor": 2
}
