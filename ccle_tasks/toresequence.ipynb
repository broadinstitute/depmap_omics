{
 "cells": [
  {
   "cell_type": "code",
   "execution_count": null,
   "metadata": {},
   "outputs": [],
   "source": [
    "# load from google sheet\n",
    "import pandas as pd\n",
    "import numpy as np\n",
    "from gsheets import Sheets\n",
    "import dalmatian as dm \n",
    "from genepy.utils import helper as h\n",
    "MY_ID = '~/.client_secret.json'\n",
    "MYSTORAGE_ID = \"~/.storage.json\""
   ]
  },
  {
   "cell_type": "code",
   "execution_count": null,
   "metadata": {},
   "outputs": [],
   "source": [
    "data = Sheets.from_files(MY_ID, MYSTORAGE_ID).get(\"https://docs.google.com/spreadsheets/d/1Pgb5fIClGnErEqzxpU7qqX6ULpGTDjvzWwDN8XUJKIY\").sheets[0].to_frame(index_col=0)"
   ]
  },
  {
   "cell_type": "code",
   "execution_count": null,
   "metadata": {},
   "outputs": [],
   "source": [
    "from taigapy import TaigaClient\n",
    "tc = TaigaClient()\n",
    "achilles_segment = tc.get(name='cn-achilles-version-06ca', version=85, file='achilles_segment')\n",
    "merged_somatic_mutations_withlegacy = tc.get(name='mutations-latest-ed72', version=26, file='merged_somatic_mutations_withlegacy')\n"
   ]
  },
  {
   "cell_type": "code",
   "execution_count": null,
   "metadata": {},
   "outputs": [],
   "source": []
  },
  {
   "cell_type": "code",
   "execution_count": null,
   "metadata": {},
   "outputs": [],
   "source": [
    "set(hasAchiles) & set(data[data.datatype.isin(['rna'])].arxspan_id) - set(data[data.datatype.isin(['rna']) & ~data.blacklist.astype(bool)].arxspan_id)"
   ]
  },
  {
   "cell_type": "code",
   "execution_count": null,
   "metadata": {},
   "outputs": [],
   "source": [
    "hasWXS = set(data[data.datatype.isin(['wes','wgs'])].arxspan_id)\n",
    "hasRNA = set(data[data.datatype.isin(['rna'])].arxspan_id)\n",
    "hasSNPArray = set(achilles_segment.DepMap_ID) - hasWXS\n",
    "hasAchiles = set(pd.read_csv('lines_marked_pass_in_masterfile.csv').DepMap_ID)\n",
    "hasLegacy = set(merged_somatic_mutations_withlegacy.DepMap_ID)\n",
    "allarxs = set(data.arxspan_id) | hasSNPArray | hasAchiles | hasLegacy"
   ]
  },
  {
   "cell_type": "code",
   "execution_count": null,
   "metadata": {},
   "outputs": [],
   "source": [
    "has_pellet = set(Sheets.from_files(MY_ID, MYSTORAGE_ID).get(\"https://docs.google.com/spreadsheets/d/1xcnuSQSWZ0Oo4-QjxNoGSXs9oCYlhF-iIZfpkpj4IYU\").sheets[0].to_frame(index_col=0).index)"
   ]
  },
  {
   "cell_type": "code",
   "execution_count": null,
   "metadata": {},
   "outputs": [],
   "source": [
    "prioWXS = hasAchiles - hasWXS\n",
    "prioRNA = hasAchiles - hasRNA\n",
    "len(prioWXS), len(prioRNA)"
   ]
  },
  {
   "cell_type": "code",
   "execution_count": null,
   "metadata": {},
   "outputs": [],
   "source": [
    "prioRNA"
   ]
  },
  {
   "cell_type": "code",
   "execution_count": null,
   "metadata": {},
   "outputs": [],
   "source": [
    "noRNA = (allarxs - hasRNA)\n",
    "remainingRNA = noRNA - prioRNA\n",
    "noWXS = (allarxs - hasWXS)\n",
    "remainingWXS = noWXS - prioWXS\n",
    "len(remainingRNA), len(remainingWXS)"
   ]
  },
  {
   "cell_type": "code",
   "execution_count": null,
   "metadata": {},
   "outputs": [],
   "source": [
    "remainingRNA & has_pellet"
   ]
  },
  {
   "cell_type": "code",
   "execution_count": null,
   "metadata": {},
   "outputs": [],
   "source": [
    "lines = pd.read_csv('lines_marked_pass_in_masterfile.csv')['DepMap_ID'].tolist()"
   ]
  },
  {
   "cell_type": "code",
   "execution_count": null,
   "metadata": {},
   "outputs": [],
   "source": []
  },
  {
   "cell_type": "code",
   "execution_count": null,
   "metadata": {},
   "outputs": [],
   "source": [
    "# ssave to stdout\n",
    "tosave.to_csv(sys.stdout, sep='\\t')"
   ]
  },
  {
   "cell_type": "code",
   "execution_count": null,
   "metadata": {},
   "outputs": [],
   "source": [
    "from genepy.google import gcp"
   ]
  },
  {
   "cell_type": "code",
   "execution_count": null,
   "metadata": {},
   "outputs": [],
   "source": [
    "gcp.deleteOldVersions('gs://cclebams/rnasq_hg38', dryrun=False)"
   ]
  },
  {
   "cell_type": "code",
   "execution_count": null,
   "metadata": {},
   "outputs": [],
   "source": [
    "toshare = [\"CDS-h6Vqmg\",\n",
    "\"CDS-m7XYuu\",\n",
    "\"CDS-S70cTT\",\n",
    "\"CDS-m0Uy2R\",\n",
    "\"CDS-lyf6Uw\",\n",
    "\"CDS-O3WkgT\",\n",
    "\"CDS-VLAQjq\",\n",
    "\"CDS-csua84\",\n",
    "\"CDS-fAoiLf\",\n",
    "\"CDS-9Pf77t\",\n",
    "\"CDS-LKaB7J\",\n",
    "\"CDS-cmxi9N\",\n",
    "\"CDS-9HXF2k\",\n",
    "\"CDS-EplWBx\",\n",
    "\"CDS-fJbEiL\",\n",
    "\"CDS-8wTTss\",\n",
    "\"CDS-UcURrc\"]"
   ]
  }
 ],
 "metadata": {
  "interpreter": {
   "hash": "fd8698c164edaa1fafe02e09417b19c3da26ece954e3310283697fab1cf76ba9"
  },
  "kernelspec": {
   "display_name": "Python 3.8.12 ('gae')",
   "language": "python",
   "name": "python3"
  },
  "language_info": {
   "codemirror_mode": {
    "name": "ipython",
    "version": 3
   },
   "file_extension": ".py",
   "mimetype": "text/x-python",
   "name": "python",
   "nbconvert_exporter": "python",
   "pygments_lexer": "ipython3",
   "version": "3.8.12"
  }
 },
 "nbformat": 4,
 "nbformat_minor": 2
}
