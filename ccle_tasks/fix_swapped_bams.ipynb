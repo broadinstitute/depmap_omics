{
 "cells": [
  {
   "cell_type": "code",
   "execution_count": null,
   "id": "563fa8b7",
   "metadata": {},
   "outputs": [],
   "source": [
    "# all new rna lines in 21Q3 had wrong internal bam (& sizehash cols) assigned on the tracker\n",
    "# this notebook fixes \n",
    "\n",
    "from __future__ import print_function\n",
    "import pandas as pd\n",
    "from gsheets import Sheets\n",
    "import os \n",
    "from depmapomics import tracker\n",
    "\n",
    "SHEETCREDS = '../.credentials.json'\n",
    "MY_ID = '~/.client_secret.json'\n",
    "MYSTORAGE_ID = \"~/.storage.json\"\n",
    "SHEETNAME = 'ccle sample tracker'\n",
    "REFSHEET_URL = \"https://docs.google.com/spreadsheets/d/1Pgb5fIClGnErEqzxpU7qqX6ULpGTDjvzWwDN8XUJKIY\""
   ]
  },
  {
   "cell_type": "code",
   "execution_count": null,
   "id": "01976367",
   "metadata": {},
   "outputs": [],
   "source": [
    "# investigate why internal_bam and internal_bai are swapped within a set of samples\n",
    "track = Sheets.from_files(MY_ID, MYSTORAGE_ID).get(REFSHEET_URL).sheets[0].to_frame(index_col=0)\n",
    "track = track.dropna(subset=['internal_bam_filepath', 'internal_bai_filepath'])\n",
    "track['cds_id'] = track.index"
   ]
  },
  {
   "cell_type": "code",
   "execution_count": null,
   "id": "b259feb6",
   "metadata": {},
   "outputs": [],
   "source": [
    "swappedbams = track[track.apply(lambda x: 'CDS-' in x.internal_bam_filepath and x.cds_id not in x.internal_bam_filepath, axis=1)]"
   ]
  },
  {
   "cell_type": "code",
   "execution_count": null,
   "id": "12532aaa",
   "metadata": {},
   "outputs": [],
   "source": [
    "swappedbams.internal_bam_filepath"
   ]
  },
  {
   "cell_type": "code",
   "execution_count": null,
   "id": "37919e0c",
   "metadata": {},
   "outputs": [],
   "source": [
    "swappedbams.cds_id.tolist()"
   ]
  },
  {
   "cell_type": "code",
   "execution_count": null,
   "id": "e32d3d4d",
   "metadata": {},
   "outputs": [],
   "source": [
    "# making sure there's no bams missing/broken, just swapped within this set\n",
    "set(swappedbams.index) == set([x.split('/')[-1][:10] for x in swappedbams['internal_bam_filepath']])"
   ]
  },
  {
   "cell_type": "code",
   "execution_count": null,
   "id": "b570b7d1",
   "metadata": {},
   "outputs": [],
   "source": [
    "set(swappedbams.index) == set([x.split('/')[-1][:10] for x in swappedbams['internal_bai_filepath']])"
   ]
  },
  {
   "cell_type": "code",
   "execution_count": null,
   "id": "81fd47ff",
   "metadata": {},
   "outputs": [],
   "source": [
    "# pull tracker again, correct internal_bam_filepath, internal_bai_filepath, size, crc32c_hash and md5_hash\n",
    "track = tracker.getTracker()\n",
    "for idx in swappedbams.index:\n",
    "    correct_idx = swappedbams.loc[idx, 'internal_bam_filepath'].split('/')[-1][:10]\n",
    "    track.loc[correct_idx, 'internal_bam_filepath'] = swappedbams.loc[idx, 'internal_bam_filepath']\n",
    "    track.loc[correct_idx, 'internal_bai_filepath'] = swappedbams.loc[idx, 'internal_bai_filepath']\n",
    "    track.loc[correct_idx, 'size'] = swappedbams.loc[idx, 'size']\n",
    "    track.loc[correct_idx, 'crc32c_hash'] = swappedbams.loc[idx, 'crc32c_hash']\n",
    "    track.loc[correct_idx, 'md5_hash'] = swappedbams.loc[idx, 'md5_hash']"
   ]
  },
  {
   "cell_type": "code",
   "execution_count": null,
   "id": "8b633d25",
   "metadata": {},
   "outputs": [],
   "source": [
    "sheetname='ccle sample tracker'\n",
    "sheetcreds='../../.credentials.json'"
   ]
  },
  {
   "cell_type": "code",
   "execution_count": null,
   "id": "d8c824a6",
   "metadata": {},
   "outputs": [],
   "source": [
    "from genepy.google.google_sheet import dfToSheet\n",
    "dfToSheet(track, sheetname, secret=sheetcreds)"
   ]
  },
  {
   "cell_type": "code",
   "execution_count": null,
   "id": "518ea03b",
   "metadata": {},
   "outputs": [],
   "source": [
    "# Update FP terra workspace"
   ]
  },
  {
   "cell_type": "code",
   "execution_count": null,
   "id": "129a8dd2",
   "metadata": {},
   "outputs": [],
   "source": [
    "workspace = 'broad-firecloud-ccle/CCLE_SNP_QC'"
   ]
  },
  {
   "cell_type": "code",
   "execution_count": null,
   "id": "f7ce0546",
   "metadata": {},
   "outputs": [],
   "source": [
    "from taigapy import TaigaClient\n",
    "tc = TaigaClient()\n",
    "\n",
    "v = tc.get(name='ccle-bam-fingerprints-6f30', version=4, file='fingerprint_lod_matrix')"
   ]
  },
  {
   "cell_type": "code",
   "execution_count": null,
   "id": "5d53b460",
   "metadata": {},
   "outputs": [],
   "source": [
    "# Generate matrix with LOD score for new fingerprint vcfs\n",
    "new_lod_list = []\n",
    "samples_df = wm.get_entities(\"sample_group\")['cross_checks_out'].tolist()\n",
    "for batch in samples_df:\n",
    "    # could be pd concat\n",
    "    df = pd.read_csv(batch, sep='\\t', comment='#')\n",
    "    lod_mat = df.pivot(index = \"LEFT_SAMPLE\",columns=\"RIGHT_SAMPLE\",values = \"LOD_SCORE\")\n",
    "    new_lod_list.append(lod_mat)\n",
    "new_lod_mat = pd.concat(new_lod_list)\n",
    "new_lod_mat.index.name = None\n",
    "new_lod_mat = new_lod_mat.T"
   ]
  },
  {
   "cell_type": "code",
   "execution_count": null,
   "id": "34f8557f",
   "metadata": {},
   "outputs": [],
   "source": [
    "df1 = pd.read_csv('gs://fc-secure-6b6a3e1a-6fb8-4d30-b0df-a359e6c5d6e6/d93e690f-d4cc-4190-b62a-4f5f0869f99d/crosscheck/779d4831-255c-4bf1-82c4-905e5cc13e19/call-run_crosscheck/cacheCopy/vcf_batch_6_crosscheck', sep='\\t', comment='#')\n",
    "dfin = df1[df1.LEFT_SAMPLE.isin(swappedidx)]\n",
    "dfin['LEFT_SAMPLE'].unique()"
   ]
  },
  {
   "cell_type": "code",
   "execution_count": null,
   "id": "7d9598b7",
   "metadata": {},
   "outputs": [],
   "source": [
    "dfin[(dfin.RIGHT_SAMPLE == 'CDS-y7yI24') & (dfin.LEFT_SAMPLE == 'CDS-7fm9Do')]"
   ]
  },
  {
   "cell_type": "code",
   "execution_count": null,
   "id": "0258cb99",
   "metadata": {},
   "outputs": [],
   "source": [
    "prev_lod_mat =  tc.get(name='ccle-bam-fingerprints-6f30',file='fingerprint_lod_matrix')\n",
    "new_ids = set(new_lod_mat.index)\n",
    "old_ids = set(prev_lod_mat.index) - set(new_ids)\n",
    "updated_lod_mat = pd.concat((prev_lod_mat.loc[old_ids,old_ids],new_lod_mat.loc[new_ids,old_ids]), axis=0)\n",
    "updated_lod_mat = pd.concat((updated_lod_mat.loc[new_ids.union(old_ids), old_ids], new_lod_mat.transpose().loc[new_ids.union(old_ids, new_ids)]), axis=1)\n",
    "updated_lod_mat"
   ]
  },
  {
   "cell_type": "code",
   "execution_count": null,
   "id": "c44b5ef2",
   "metadata": {},
   "outputs": [],
   "source": [
    "new_lod_mat"
   ]
  },
  {
   "cell_type": "code",
   "execution_count": null,
   "id": "e0a08bb2",
   "metadata": {},
   "outputs": [],
   "source": [
    "from depmapomics import tracker\n",
    "\n",
    "ref = Sheets.from_files(MY_ID, MYSTORAGE_ID).get(REFSHEET_URL).sheets[0].to_frame(index_col=0)\n",
    "ref = ref.loc[ref.blacklist != 1]"
   ]
  },
  {
   "cell_type": "code",
   "execution_count": null,
   "id": "8d5b55b8",
   "metadata": {},
   "outputs": [],
   "source": [
    "import numpy as np\n",
    "\n",
    "print(\"issues with \")\n",
    "previ = ''\n",
    "l = {}\n",
    "for i,j in [(v.index[x], v.columns[y]) for x, y in np.argwhere(v.values>500)]:\n",
    "    if (i in ref.index and j in ref.index):\n",
    "        if i == j:\n",
    "            continue\n",
    "        if ref.loc[i]['participant_id'] == ref.loc[j]['participant_id']:\n",
    "            continue\n",
    "        if i != previ:\n",
    "            if previ!='':\n",
    "                l.update({'_'.join(ref.loc[previ, ['arxspan_id','version','datatype','participant_id','stripped_cell_line_name']].astype(str).values.tolist()):n})\n",
    "            n = [tuple(ref.loc[j, ['arxspan_id','version','datatype','participant_id','stripped_cell_line_name']].values)]\n",
    "        else:\n",
    "            n.append(tuple(ref.loc[j, ['arxspan_id','version','datatype','participant_id','stripped_cell_line_name']].values))\n",
    "        previ = i"
   ]
  },
  {
   "cell_type": "code",
   "execution_count": null,
   "id": "bd2bf8ea",
   "metadata": {},
   "outputs": [],
   "source": []
  },
  {
   "cell_type": "code",
   "execution_count": null,
   "id": "8cbd5013",
   "metadata": {},
   "outputs": [],
   "source": [
    "len(l)"
   ]
  },
  {
   "cell_type": "code",
   "execution_count": null,
   "id": "a63744ab",
   "metadata": {},
   "outputs": [],
   "source": [
    "updated_lod_mat.loc['CDS-WfPJyi', 'CDS-WSxpHG']"
   ]
  },
  {
   "cell_type": "code",
   "execution_count": null,
   "id": "8fe22891",
   "metadata": {},
   "outputs": [],
   "source": []
  },
  {
   "cell_type": "code",
   "execution_count": null,
   "id": "4c60b9a4",
   "metadata": {},
   "outputs": [],
   "source": []
  },
  {
   "cell_type": "code",
   "execution_count": null,
   "id": "695918b0",
   "metadata": {},
   "outputs": [],
   "source": [
    "updated_lod_mat.loc['CDS-WfPJyi', 'CDS-7fm9Do'] # swapped"
   ]
  },
  {
   "cell_type": "code",
   "execution_count": null,
   "id": "6ef6b387",
   "metadata": {},
   "outputs": [],
   "source": [
    "updated_lod_mat.loc['CDS-WfPJyi', 'CDS-9HXF2k'] # 'corrected'"
   ]
  },
  {
   "cell_type": "code",
   "execution_count": null,
   "id": "827db81b",
   "metadata": {},
   "outputs": [],
   "source": [
    "updated_lod_mat.loc['CDS-y7yI24', 'CDS-9HXF2k']"
   ]
  },
  {
   "cell_type": "code",
   "execution_count": null,
   "id": "b5e58b06",
   "metadata": {},
   "outputs": [],
   "source": [
    "previ = ''\n",
    "l = {}\n",
    "#ref = ref.append(fbams)\n",
    "for u in set(fbams.arxspan_id):\n",
    "    res = v.loc[fbams[fbams.arxspan_id==u].index , ref[ref.arxspan_id==u].index.tolist()]\n",
    "    for i,j in [(res.index[x], res.columns[y]) for x, y in np.argwhere(res.values<100)]:\n",
    "        print('__________________________')\n",
    "        print(res.loc[i,j])\n",
    "        print(i,':', tuple(ref.loc[i,['arxspan_id','version','datatype','participant_id']].values),j,':',tuple(ref.loc[j,['arxspan_id','version','datatype','participant_id', 'blacklist']]))"
   ]
  },
  {
   "cell_type": "code",
   "execution_count": null,
   "id": "993d7899",
   "metadata": {},
   "outputs": [],
   "source": [
    "# subset lines in FP workspace that has wrong internal bams\n",
    "import dalmatian as dm\n",
    "\n",
    "wm = dm.WorkspaceManager('broad-firecloud-ccle/CCLE_SNP_QC').disable_hound()\n",
    "sam = wm.get_samples()"
   ]
  },
  {
   "cell_type": "code",
   "execution_count": null,
   "id": "818e172a",
   "metadata": {},
   "outputs": [],
   "source": [
    "sam.internal_bam_filepath"
   ]
  },
  {
   "cell_type": "code",
   "execution_count": null,
   "id": "30372353",
   "metadata": {},
   "outputs": [],
   "source": [
    "track = Sheets.from_files(MY_ID, MYSTORAGE_ID).get(REFSHEET_URL).sheets[0].to_frame(index_col=0)\n",
    "rnatrack = track[track.datatype == 'rna']\n",
    "rnatrack"
   ]
  },
  {
   "cell_type": "code",
   "execution_count": null,
   "id": "3ab22eac",
   "metadata": {},
   "outputs": [],
   "source": [
    "swappedidx = []\n",
    "swappedbams = []\n",
    "vcfs = []\n",
    "d = {}\n",
    "bamd = {}\n",
    "baid = {}\n",
    "for i in rnatrack.index:\n",
    "    if i in sam.index and str(sam.loc[i, 'internal_bam_filepath']) != 'nan' and rnatrack.loc[i, 'internal_bam_filepath'] != sam.loc[i, 'internal_bam_filepath']:\n",
    "        swappedidx.append(i)\n",
    "        bamd[i] = rnatrack.loc[i, 'internal_bam_filepath']\n",
    "        baid[i] = rnatrack.loc[i, 'internal_bai_filepath']\n",
    "        swappedbams.append(sam.loc[i, 'internal_bam_filepath'])\n",
    "        vcfs.append(sam.loc[i, 'fingerprints'])\n",
    "        correct_vcf = 'gs://fc-secure-6b6a3e1a-6fb8-4d30-b0df-a359e6c5d6e6/fingerprints/' + sam.loc[i, 'internal_bam_filepath'].split('/')[4][:10] + '.vcf'\n",
    "        d[sam.loc[i, 'fingerprints']] = correct_vcf\n",
    "len(swappedidx)"
   ]
  },
  {
   "cell_type": "code",
   "execution_count": null,
   "id": "07f90ecb",
   "metadata": {},
   "outputs": [],
   "source": [
    "set(swappedidx) == set(swappedbams)"
   ]
  },
  {
   "cell_type": "code",
   "execution_count": null,
   "id": "24f96fca",
   "metadata": {},
   "outputs": [],
   "source": [
    "len(d)"
   ]
  },
  {
   "cell_type": "code",
   "execution_count": null,
   "id": "604fb084",
   "metadata": {},
   "outputs": [],
   "source": [
    "for b in swappedbams:\n",
    "    oldbam = b+'_'\n",
    "    !gsutil -u broad-firecloud-ccle mv {oldbam} {b}"
   ]
  },
  {
   "cell_type": "code",
   "execution_count": null,
   "id": "9abbe9f3",
   "metadata": {},
   "outputs": [],
   "source": [
    "for k, v in d.items():\n",
    "    newk = k + '_'\n",
    "    !gsutil -u broad-firecloud-ccle mv {k} {newk}"
   ]
  },
  {
   "cell_type": "code",
   "execution_count": null,
   "id": "026d59f1",
   "metadata": {},
   "outputs": [],
   "source": [
    "for k, v in d.items():\n",
    "    newk = k + '_'\n",
    "    !gsutil -u broad-firecloud-ccle mv {newk} {v}"
   ]
  },
  {
   "cell_type": "code",
   "execution_count": null,
   "id": "bc448e74",
   "metadata": {},
   "outputs": [],
   "source": [
    "# undo above\n",
    "for k, v in d.items():\n",
    "    newv = v + '_'\n",
    "    !gsutil -u broad-firecloud-ccle mv {newv} {k}"
   ]
  },
  {
   "cell_type": "code",
   "execution_count": null,
   "id": "580182fe",
   "metadata": {},
   "outputs": [],
   "source": [
    "d"
   ]
  },
  {
   "cell_type": "code",
   "execution_count": null,
   "id": "91800c43",
   "metadata": {},
   "outputs": [],
   "source": [
    "# now fix the columns in FP workspace\n",
    "wm = dm.WorkspaceManager('broad-firecloud-ccle/CCLE_SNP_QC').disable_hound()\n",
    "sam = wm.get_samples()\n"
   ]
  },
  {
   "cell_type": "code",
   "execution_count": null,
   "id": "6e94b9e9",
   "metadata": {},
   "outputs": [],
   "source": [
    "bamd"
   ]
  },
  {
   "cell_type": "code",
   "execution_count": null,
   "id": "3456920f",
   "metadata": {},
   "outputs": [],
   "source": [
    "for k, v in bamd.items():\n",
    "    sam.loc[k, 'internal_bam_filepath'] = v\n",
    "    sam.loc[k, 'internal_bai_filepath'] = baid[k]"
   ]
  },
  {
   "cell_type": "code",
   "execution_count": null,
   "id": "f5d8c39d",
   "metadata": {},
   "outputs": [],
   "source": [
    "sam.loc['CDS-HzoODG', 'internal_bam_filepath']"
   ]
  },
  {
   "cell_type": "code",
   "execution_count": null,
   "id": "2ab75e61",
   "metadata": {},
   "outputs": [],
   "source": [
    "sam.loc['CDS-HzoODG', 'internal_bai_filepath']"
   ]
  },
  {
   "cell_type": "code",
   "execution_count": null,
   "id": "3a218311",
   "metadata": {},
   "outputs": [],
   "source": [
    "wm1 = dm.WorkspaceManager('broad-firecloud-ccle/CCLE_SNP_QC-copy').disable_hound()"
   ]
  },
  {
   "cell_type": "code",
   "execution_count": null,
   "id": "cf1b4a08",
   "metadata": {},
   "outputs": [],
   "source": [
    "wm1.update_sample_attributes(sam[sam.index.isin(swappedidx)])"
   ]
  },
  {
   "cell_type": "code",
   "execution_count": null,
   "id": "f21cca6d",
   "metadata": {},
   "outputs": [],
   "source": [
    "wm1.update_sample_set(sample_set_id='rna_swapped',\n",
    "                          sample_ids=swappedidx)"
   ]
  },
  {
   "cell_type": "code",
   "execution_count": null,
   "id": "d5321928",
   "metadata": {},
   "outputs": [],
   "source": [
    "wm = dm.WorkspaceManager('broad-firecloud-ccle/CCLE_SNP_QC').disable_hound()\n",
    "wm.update_sample_set(sample_set_id='rna_swapped',\n",
    "                          sample_ids=swappedidx)"
   ]
  },
  {
   "cell_type": "code",
   "execution_count": null,
   "id": "ad56e729",
   "metadata": {},
   "outputs": [],
   "source": [
    "len(swappedidx)"
   ]
  },
  {
   "cell_type": "code",
   "execution_count": null,
   "id": "1c9c3458",
   "metadata": {},
   "outputs": [],
   "source": [
    "track = Sheets.from_files(MY_ID, MYSTORAGE_ID).get(REFSHEET_URL).sheets[0].to_frame(index_col=0)\n",
    "arx = track[track.index.isin(swappedidx)]\n",
    "arx = set(arx.arxspan_id)\n",
    "len(arx)"
   ]
  },
  {
   "cell_type": "code",
   "execution_count": null,
   "id": "d5f67ad0",
   "metadata": {},
   "outputs": [],
   "source": [
    "wgscontaminated = track[(track.arxspan_id.isin(arx)) & (track.datatype == 'wgs')]\n",
    "wgscontaminated"
   ]
  },
  {
   "cell_type": "code",
   "execution_count": null,
   "id": "fcce611c",
   "metadata": {},
   "outputs": [],
   "source": []
  },
  {
   "cell_type": "code",
   "execution_count": null,
   "id": "731ca17e",
   "metadata": {},
   "outputs": [],
   "source": []
  },
  {
   "cell_type": "code",
   "execution_count": null,
   "id": "046f41e6",
   "metadata": {},
   "outputs": [],
   "source": [
    "#####################\n",
    "\n",
    "# check lod scores\n",
    "\n",
    "#####################"
   ]
  },
  {
   "cell_type": "code",
   "execution_count": null,
   "id": "278828a9",
   "metadata": {},
   "outputs": [],
   "source": [
    "lod_mat = tc.get(name='ccle-bam-fingerprints-6f30',file='fingerprint_lod_matrix')"
   ]
  },
  {
   "cell_type": "code",
   "execution_count": null,
   "id": "60bfdbf9",
   "metadata": {},
   "outputs": [],
   "source": [
    "prev_id = 'CDS-7fm9Do'\n",
    "bam_from = 'CDS-WSxpHG'\n",
    "bam_mapped_to = 'CDS-9HXF2k'\n",
    "bam_from_wgs = 'CDS-wmOGjh'"
   ]
  },
  {
   "cell_type": "code",
   "execution_count": null,
   "id": "f25bd55f",
   "metadata": {},
   "outputs": [],
   "source": [
    "print('wes - rna: ', lod_mat.loc['CDS-WfPJyi', prev_id])\n",
    "print('wgs - rna: ', lod_mat.loc['CDS-y7yI24', prev_id])\n",
    "print('wes - wgs: ', lod_mat.loc['CDS-WfPJyi', 'CDS-y7yI24'])"
   ]
  },
  {
   "cell_type": "code",
   "execution_count": null,
   "id": "e5304071",
   "metadata": {},
   "outputs": [],
   "source": [
    "print('wes - rna: ', lod_mat.loc['CDS-WfPJyi', bam_from])\n",
    "print('wgs - rna: ', lod_mat.loc['CDS-y7yI24', bam_from])"
   ]
  },
  {
   "cell_type": "code",
   "execution_count": null,
   "id": "8361164b",
   "metadata": {},
   "outputs": [],
   "source": [
    "print('wes - rna: ', lod_mat.loc['CDS-WfPJyi', bam_mapped_to])\n",
    "print('wgs - rna: ', lod_mat.loc['CDS-y7yI24', bam_mapped_to])"
   ]
  },
  {
   "cell_type": "code",
   "execution_count": null,
   "id": "55c82652",
   "metadata": {},
   "outputs": [],
   "source": [
    "lod_mat.loc[bam_from_wgs, bam_from]"
   ]
  },
  {
   "cell_type": "code",
   "execution_count": null,
   "id": "4d918835",
   "metadata": {},
   "outputs": [],
   "source": [
    "prev_id = 'CDS-f4JXdG'\n",
    "bam_from = 'CDS-DpgIZ9'\n",
    "bam_mapped_to = 'CDS-DpgIZ9'"
   ]
  },
  {
   "cell_type": "code",
   "execution_count": null,
   "id": "7f1c15ac",
   "metadata": {},
   "outputs": [],
   "source": [
    "print('wes - rna: ', lod_mat.loc['CDS-FXX26z', prev_id])\n",
    "print('wgs - rna: ', lod_mat.loc['CDS-eKPJ34', prev_id])\n",
    "print('wes - wgs: ', lod_mat.loc['CDS-FXX26z', 'CDS-eKPJ34'])"
   ]
  },
  {
   "cell_type": "code",
   "execution_count": null,
   "id": "fa5192bf",
   "metadata": {},
   "outputs": [],
   "source": [
    "print('wes - rna: ', lod_mat.loc['CDS-FXX26z', bam_from])\n",
    "print('wgs - rna: ', lod_mat.loc['CDS-eKPJ34', bam_from])"
   ]
  },
  {
   "cell_type": "code",
   "execution_count": null,
   "id": "9717cf9b",
   "metadata": {},
   "outputs": [],
   "source": [
    "print('wes - rna: ', lod_mat.loc['CDS-FXX26z', bam_mapped_to])\n",
    "print('wgs - rna: ', lod_mat.loc['CDS-eKPJ34', bam_mapped_to])"
   ]
  },
  {
   "cell_type": "code",
   "execution_count": null,
   "id": "c168ba98",
   "metadata": {},
   "outputs": [],
   "source": [
    "lod_mat.loc['CDS-DpgIZ9', 'CDS-1Zvqir']"
   ]
  },
  {
   "cell_type": "code",
   "execution_count": null,
   "id": "b674fdac",
   "metadata": {},
   "outputs": [],
   "source": []
  },
  {
   "cell_type": "code",
   "execution_count": null,
   "id": "2ea7bb7f",
   "metadata": {},
   "outputs": [],
   "source": [
    "idxd = {}\n",
    "for k, v in d.items():\n",
    "    idxd[k.split('/')[4][:10]] = v.split('/')[4][:10]\n",
    "idxd"
   ]
  },
  {
   "cell_type": "code",
   "execution_count": null,
   "id": "c79c8b0e",
   "metadata": {},
   "outputs": [],
   "source": [
    "for k, v in idxd.items():\n",
    "    patient = track.loc[v, 'participant_id']\n",
    "    patient_idx = list(track[track.participant_id == patient].index)\n",
    "    for s in patient_idx:\n",
    "        if k in lod_mat.index and s in lod_mat.index and lod_mat.loc[k, s] >= 500:\n",
    "            print(k, s)"
   ]
  },
  {
   "cell_type": "code",
   "execution_count": null,
   "id": "70c7e688",
   "metadata": {},
   "outputs": [],
   "source": [
    "print('wes - rna: ', new_lod_mat.loc['CDS-WfPJyi', prev_id])\n",
    "print('wgs - rna: ', new_lod_mat.loc['CDS-y7yI24', prev_id])\n",
    "print('wes - wgs: ', new_lod_mat.loc['CDS-WfPJyi', 'CDS-y7yI24'])"
   ]
  },
  {
   "cell_type": "code",
   "execution_count": null,
   "id": "bfe29b1c",
   "metadata": {},
   "outputs": [],
   "source": []
  },
  {
   "cell_type": "code",
   "execution_count": null,
   "id": "4ce63b5a",
   "metadata": {},
   "outputs": [],
   "source": [
    "# check if all swapped vcfs are in batches\n",
    "new_lod_list = []\n",
    "vcf_groups = wm.get_entities(\"sample_group\")['vcf_group'].tolist()\n",
    "combined_vcf_dir = {}\n",
    "for batch in vcf_groups:\n",
    "    # could be pd concat\n",
    "    df = pd.read_csv(batch, sep='\\t', header=None, comment='#')\n",
    "    df = df[0].tolist()\n",
    "    for i in df:\n",
    "        combined_vcf_dir[i] = batch.split('/')[4]\n",
    "len(combined_vcf_dir)\n"
   ]
  },
  {
   "cell_type": "code",
   "execution_count": null,
   "id": "8e5d9531",
   "metadata": {},
   "outputs": [],
   "source": [
    "combined_vcf_dir"
   ]
  },
  {
   "cell_type": "code",
   "execution_count": null,
   "id": "ef062d9f",
   "metadata": {},
   "outputs": [],
   "source": [
    "combined_vcf_dir\n",
    "for k, v in d.items():\n",
    "    if k not in combined_vcf_dir:\n",
    "        print(k)"
   ]
  },
  {
   "cell_type": "code",
   "execution_count": null,
   "id": "e08c68e0",
   "metadata": {},
   "outputs": [],
   "source": [
    "combined_vcf_dir['gs://fc-secure-6b6a3e1a-6fb8-4d30-b0df-a359e6c5d6e6/fingerprints/CDS-WSxpHG.vcf']"
   ]
  },
  {
   "cell_type": "code",
   "execution_count": null,
   "id": "d3216c89",
   "metadata": {},
   "outputs": [],
   "source": []
  },
  {
   "cell_type": "code",
   "execution_count": null,
   "id": "ad8463e6",
   "metadata": {},
   "outputs": [],
   "source": []
  },
  {
   "cell_type": "code",
   "execution_count": null,
   "id": "bca536eb",
   "metadata": {},
   "outputs": [],
   "source": []
  },
  {
   "cell_type": "code",
   "execution_count": null,
   "id": "6e441232",
   "metadata": {},
   "outputs": [],
   "source": []
  }
 ],
 "metadata": {
  "kernelspec": {
   "display_name": "Python 3",
   "language": "python",
   "name": "python3"
  },
  "language_info": {
   "codemirror_mode": {
    "name": "ipython",
    "version": 3
   },
   "file_extension": ".py",
   "mimetype": "text/x-python",
   "name": "python",
   "nbconvert_exporter": "python",
   "pygments_lexer": "ipython3",
   "version": "3.8.2"
  }
 },
 "nbformat": 4,
 "nbformat_minor": 5
}
