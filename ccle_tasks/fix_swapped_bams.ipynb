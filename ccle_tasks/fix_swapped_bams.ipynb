{
 "cells": [
  {
   "cell_type": "code",
   "execution_count": null,
   "id": "62d054c5",
   "metadata": {},
   "outputs": [],
   "source": [
    "# all new rna lines in 21Q3 had wrong internal bam (& sizehash cols) assigned on the tracker\n",
    "# this notebook fixes \n",
    "\n",
    "from __future__ import print_function\n",
    "import pandas as pd\n",
    "\n",
    "import os \n",
    "from depmapomics import tracker"
   ]
  },
  {
   "cell_type": "code",
   "execution_count": null,
   "id": "7fe06c13",
   "metadata": {},
   "outputs": [],
   "source": [
    "# investigate why internal_bam and internal_bai are swapped within a set of samples\n",
    "track = tracker.getTracker()\n",
    "track = track.dropna(subset=['internal_bam_filepath', 'internal_bai_filepath'])\n",
    "track['cds_id'] = track.index"
   ]
  },
  {
   "cell_type": "code",
   "execution_count": null,
   "id": "9a83d8a6",
   "metadata": {},
   "outputs": [],
   "source": [
    "swappedbams = track[track.apply(lambda x: 'CDS-' in x.internal_bam_filepath and x.cds_id not in x.internal_bam_filepath, axis=1)]"
   ]
  },
  {
   "cell_type": "code",
   "execution_count": null,
   "id": "70314fe4",
   "metadata": {},
   "outputs": [],
   "source": [
    "swappedbams"
   ]
  },
  {
   "cell_type": "code",
   "execution_count": null,
   "id": "b3118f0a",
   "metadata": {},
   "outputs": [],
   "source": [
    "swappedbams.cds_id.tolist()"
   ]
  },
  {
   "cell_type": "code",
   "execution_count": null,
   "id": "ca91fdb3",
   "metadata": {},
   "outputs": [],
   "source": [
    "# making sure there's no bams missing/broken, just swapped within this set\n",
    "# set([x.split('/')[-1][:10] for x in swappedbams['internal_bam_filepath']]) - set(swappedbams.index)\n",
    "set(swappedbams.index) == set([x.split('/')[-1][:10] for x in swappedbams['internal_bam_filepath']])"
   ]
  },
  {
   "cell_type": "code",
   "execution_count": null,
   "id": "632084d6",
   "metadata": {},
   "outputs": [],
   "source": [
    "set(swappedbams.index) == set([x.split('/')[-1][:10] for x in swappedbams['internal_bai_filepath']])"
   ]
  },
  {
   "cell_type": "code",
   "execution_count": null,
   "id": "67522663",
   "metadata": {},
   "outputs": [],
   "source": []
  },
  {
   "cell_type": "code",
   "execution_count": null,
   "id": "b6db0108",
   "metadata": {},
   "outputs": [],
   "source": []
  },
  {
   "cell_type": "code",
   "execution_count": null,
   "id": "b1b03d68",
   "metadata": {},
   "outputs": [],
   "source": []
  }
 ],
 "metadata": {
  "kernelspec": {
   "display_name": "Python 3",
   "language": "python",
   "name": "python3"
  },
  "language_info": {
   "codemirror_mode": {
    "name": "ipython",
    "version": 3
   },
   "file_extension": ".py",
   "mimetype": "text/x-python",
   "name": "python",
   "nbconvert_exporter": "python",
   "pygments_lexer": "ipython3",
   "version": "3.8.2"
  }
 },
 "nbformat": 4,
 "nbformat_minor": 5
}
