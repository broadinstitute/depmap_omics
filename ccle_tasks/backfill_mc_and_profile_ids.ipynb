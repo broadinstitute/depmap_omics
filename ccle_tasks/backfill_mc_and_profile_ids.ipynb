{
 "cells": [
  {
   "cell_type": "code",
   "execution_count": null,
   "id": "944a8d64",
   "metadata": {},
   "outputs": [],
   "source": [
    "from depmapomics import tracker \n",
    "import pandas as pd\n",
    "from genepy.utils import helper as h"
   ]
  },
  {
   "cell_type": "code",
   "execution_count": null,
   "id": "fca504fa",
   "metadata": {},
   "outputs": [],
   "source": [
    "t = tracker.getTracker()"
   ]
  },
  {
   "cell_type": "code",
   "execution_count": null,
   "id": "5c6f5416",
   "metadata": {},
   "outputs": [],
   "source": [
    "for a in t.arxspan_id.unique():\n",
    "    entries = t[t.arxspan_id == a]\n",
    "    if \"SANGER\" in entries.source.tolist():\n",
    "        sangerid = \"MC-\" + a[4:] + \"-\" + h.randomString(stringLength=4, stype=\"all\", withdigits=True)\n",
    "        sangeridx = t[(t.source == \"SANGER\") & (t.arxspan_id == a)].index\n",
    "        t.loc[sangeridx, \"model_condition_id\"] = sangerid\n",
    "    broadidx = t[(~t.source.isin([\"SANGER\"])) & (t.arxspan_id == a)].index\n",
    "    broadid = \"MC-\" + a[4:] + \"-\" + h.randomString(stringLength=4, stype=\"all\", withdigits=True)\n",
    "    t.loc[broadidx, \"model_condition_id\"] = broadid"
   ]
  },
  {
   "cell_type": "code",
   "execution_count": null,
   "id": "afe7fe53",
   "metadata": {},
   "outputs": [],
   "source": [
    "t[t.model_condition_id.isnull()]"
   ]
  },
  {
   "cell_type": "code",
   "execution_count": null,
   "id": "1c066210",
   "metadata": {},
   "outputs": [],
   "source": [
    "check = [x[-4:] for x in t.model_condition_id.unique().tolist()]\n",
    "len(check)"
   ]
  },
  {
   "cell_type": "code",
   "execution_count": null,
   "id": "33b2920b",
   "metadata": {},
   "outputs": [],
   "source": [
    "len(set(check))"
   ]
  },
  {
   "cell_type": "code",
   "execution_count": null,
   "id": "03c1c7e5",
   "metadata": {},
   "outputs": [],
   "source": [
    "from genepy.google.google_sheet import dfToSheet\n",
    "\n",
    "dfToSheet(t, \"ccle sample tracker - 22Q2\", secret=\"../../.credentials.json\")"
   ]
  },
  {
   "cell_type": "code",
   "execution_count": null,
   "id": "3bc82cfb",
   "metadata": {},
   "outputs": [],
   "source": [
    "# some 21Q3 samples are missing source annotation\n",
    "# adding it back here\n",
    "t = tracker.getTracker()\n",
    "missing_annot = t[t.source.isnull()]"
   ]
  },
  {
   "cell_type": "code",
   "execution_count": null,
   "id": "1405f345",
   "metadata": {},
   "outputs": [],
   "source": [
    "import dalmatian as dm\n",
    "\n",
    "rna_depmap = dm.WorkspaceManager(\"terra-broad-cancer-prod/CCLE_DepMap_RNAseq\").disable_hound().get_samples()\n",
    "rna_ibm = dm.WorkspaceManager(\"terra-broad-cancer-prod/Getz_IBM_CellLines_RNASeqData\").disable_hound().get_samples()\n",
    "wgs_depmap = dm.WorkspaceManager(\"terra-broad-cancer-prod/DepMap_WGS\").disable_hound().get_samples()\n",
    "wgs_ibm = dm.WorkspaceManager(\"terra-broad-cancer-prod/Getz_IBM_CellLines_WGS\").disable_hound().get_samples()"
   ]
  },
  {
   "cell_type": "code",
   "execution_count": null,
   "id": "888c40ef",
   "metadata": {},
   "outputs": [],
   "source": [
    "rna_missing = missing_annot[missing_annot.datatype == 'rna']\n",
    "for i in rna_missing.index:\n",
    "    arx = rna_missing.loc[i, 'arxspan_id']\n",
    "    if rna_depmap.individual_alias.str.startswith(arx).sum() > 0 and rna_ibm.individual_alias.str.startswith(arx).sum() > 0:\n",
    "        print(i)\n",
    "    if rna_depmap.individual_alias.str.startswith(arx).sum() > 0:\n",
    "        t.loc[i, 'source'] = 'DEPMAP'\n",
    "    elif rna_ibm.individual_alias.str.startswith(arx).sum() > 0:\n",
    "        t.loc[i, 'source'] = 'IBM'"
   ]
  },
  {
   "cell_type": "code",
   "execution_count": null,
   "id": "1bf7f1f2",
   "metadata": {},
   "outputs": [],
   "source": [
    "wgs_missing = missing_annot[missing_annot.datatype == 'wgs']\n",
    "for i in wgs_missing.index:\n",
    "    arx = wgs_missing.loc[i, 'arxspan_id']\n",
    "    if wgs_depmap.individual_alias.str.startswith(arx).sum() > 0 and wgs_ibm.individual_alias.str.startswith(arx).sum() > 0:\n",
    "        print(i)\n",
    "    if wgs_depmap.individual_alias.str.startswith(arx).sum() > 0:\n",
    "        t.loc[i, 'source'] = 'DEPMAP'\n",
    "    elif wgs_ibm.individual_alias.str.startswith(arx).sum() > 0:\n",
    "        t.loc[i, 'source'] = 'IBM'"
   ]
  },
  {
   "cell_type": "code",
   "execution_count": null,
   "id": "7ccb153b",
   "metadata": {},
   "outputs": [],
   "source": [
    "# updating sources\n",
    "from genepy.google.google_sheet import dfToSheet\n",
    "\n",
    "dfToSheet(t, \"ccle sample tracker - 22Q2\", secret=\"../../.credentials.json\")"
   ]
  },
  {
   "cell_type": "code",
   "execution_count": null,
   "id": "fe1bc9bb",
   "metadata": {},
   "outputs": [],
   "source": [
    "# generate profile ids\n",
    "t = tracker.getTracker()\n",
    "for mc in t.model_condition_id.unique():\n",
    "    entries = t[t.model_condition_id == mc]\n",
    "    for d in entries.datatype.unique():\n",
    "        for s in entries.source.unique():\n",
    "            for b in t[(t.model_condition_id == mc) & (t.datatype == d) & (t.source == s)].baits.unique():\n",
    "                idx = t[(t.model_condition_id == mc) & (t.datatype == d) & (t.baits == b) & (t.source == s)].index\n",
    "                t.loc[idx, 'profile_id'] = \"PR-\" + h.randomString(stringLength=6, stype=\"all\", withdigits=True)"
   ]
  },
  {
   "cell_type": "code",
   "execution_count": null,
   "id": "f73449da",
   "metadata": {},
   "outputs": [],
   "source": [
    "t[t.profile_id.isnull()]"
   ]
  },
  {
   "cell_type": "code",
   "execution_count": null,
   "id": "f2b422ce",
   "metadata": {},
   "outputs": [],
   "source": [
    "len((t['model_condition_id'].astype(str) + t['datatype'].astype(str) + t['source'].astype(str) + t['baits'].astype(str)).unique())"
   ]
  },
  {
   "cell_type": "code",
   "execution_count": null,
   "id": "96d1d798",
   "metadata": {},
   "outputs": [],
   "source": [
    "# making sure there's no collision\n",
    "len(t.profile_id.unique())"
   ]
  },
  {
   "cell_type": "code",
   "execution_count": null,
   "id": "bc43e5b0",
   "metadata": {},
   "outputs": [],
   "source": [
    "dfToSheet(t, \"ccle sample tracker - 22Q2\", secret=\"../../.credentials.json\")"
   ]
  },
  {
   "cell_type": "code",
   "execution_count": null,
   "id": "791c0a25",
   "metadata": {},
   "outputs": [],
   "source": [
    "t = tracker.getTracker()\n",
    "len(t.profile_id.unique())"
   ]
  },
  {
   "cell_type": "code",
   "execution_count": null,
   "id": "8b5b9f86",
   "metadata": {},
   "outputs": [],
   "source": [
    "# example to demonstrate the new system\n",
    "t[t.arxspan_id == 'ACH-000833'][['model_condition_id', 'profile_id', 'source', 'datatype', 'version']]"
   ]
  },
  {
   "cell_type": "code",
   "execution_count": null,
   "id": "1191b400",
   "metadata": {},
   "outputs": [],
   "source": [
    "# backfill for legacy data\n",
    "from taigapy import TaigaClient\n",
    "tc = TaigaClient()\n",
    "legacy_hybridcapture = tc.get(name='mutations-da6a', version=9, file='legacy_hybridcapture')\n",
    "legacy_raindance = tc.get(name='mutations-da6a', version=9, file='legacy_raindance')\n",
    "legacy_rna = tc.get(name='mutations-da6a', version=9, file='legacy_rna')\n",
    "legacy_wes_sanger = tc.get(name='mutations-da6a', version=9, file='legacy_wes_sanger')\n",
    "legacy_wgs_exoniconly = tc.get(name='mutations-da6a', version=9, file='legacy_wgs_exoniconly')"
   ]
  },
  {
   "cell_type": "code",
   "execution_count": null,
   "id": "b8e83d6e",
   "metadata": {},
   "outputs": [],
   "source": [
    "legacy_hybridcapture.columns"
   ]
  },
  {
   "cell_type": "code",
   "execution_count": null,
   "id": "398b0038",
   "metadata": {},
   "outputs": [],
   "source": [
    "# hybrid capture: no missing data on the tracker, no need to invent new ones for legacy\n",
    "hc_tracker= t[t.datatype == 'hybrid_capture']\n",
    "sum(~legacy_hybridcapture.DepMap_ID.isin(hc_tracker.arxspan_id.unique()))"
   ]
  },
  {
   "cell_type": "code",
   "execution_count": null,
   "id": "59f9fe29",
   "metadata": {},
   "outputs": [],
   "source": [
    "# raindance: no missing data on the tracker, no need to invent new ones for legacy\n",
    "rd_tracker= t[t.datatype == 'raindance']\n",
    "sum(~legacy_raindance.DepMap_ID.isin(rd_tracker.arxspan_id.unique()))"
   ]
  },
  {
   "cell_type": "code",
   "execution_count": null,
   "id": "65bcff77",
   "metadata": {},
   "outputs": [],
   "source": [
    "# rna: no missing data on the tracker, no need to invent new ones for legacy\n",
    "rna_tracker= t[t.datatype == 'rna']\n",
    "sum(~legacy_rna.DepMap_ID.isin(rna_tracker.arxspan_id.unique()))"
   ]
  },
  {
   "cell_type": "code",
   "execution_count": null,
   "id": "4716fc2e",
   "metadata": {},
   "outputs": [],
   "source": [
    "# sanger wes: some lines we don't have bams for and are not on the tracker,\n",
    "# need to invent MC and PR ids for these lines\n",
    "sanger_wes_tracker = t[(t.datatype == 'wes') & (t.source == 'SANGER')]\n",
    "missing_sanger_wes = legacy_wes_sanger[~legacy_wes_sanger.DepMap_ID.isin(sanger_wes_tracker.arxspan_id.unique())].DepMap_ID.unique()\n",
    "has_depmap_wes = []\n",
    "no_depmap_wes = []\n",
    "for m in missing_sanger_wes:\n",
    "    if not len(t[(t.arxspan_id == m) & (t.datatype == 'wes')]) > 0:\n",
    "        no_depmap_wes.append(m)\n",
    "    elif len(t[(t.arxspan_id == m) & (t.datatype == 'wes') & (t.source != \"SANGER\")]) > 0:\n",
    "        #print(t[(t.arxspan_id == m) & (t.datatype == 'wes') & (t.source != \"SANGER\")].source[0])\n",
    "        has_depmap_wes.append(m)\n",
    "missing_sanger_wes"
   ]
  },
  {
   "cell_type": "code",
   "execution_count": null,
   "id": "a9234d00",
   "metadata": {},
   "outputs": [],
   "source": [
    "# create MC and PR ids for the lines that are missing on the tracker\n",
    "# arxspan : MC-id : PR-id is 1:1:1 here\n",
    "for a in missing_sanger_wes:\n",
    "    print(\"MC-\" + a[4:] + \"-\" + h.randomString(stringLength=4, stype=\"all\", withdigits=True))"
   ]
  },
  {
   "cell_type": "code",
   "execution_count": null,
   "id": "f1ffa33a",
   "metadata": {},
   "outputs": [],
   "source": [
    "for a in missing_sanger_wes:\n",
    "    print(\"PR-\" + h.randomString(stringLength=6, stype=\"all\", withdigits=True))"
   ]
  },
  {
   "cell_type": "code",
   "execution_count": null,
   "id": "cbce4afb",
   "metadata": {},
   "outputs": [],
   "source": [
    "# wgs: no missing data on the tracker, no need to invent new ones for legacy\n",
    "wgs_tracker = t[t.datatype == 'wgs']\n",
    "legacy_wgs_exoniconly[~legacy_wgs_exoniconly.DepMap_ID.isin(wgs_tracker.arxspan_id.unique())].DepMap_ID.unique()"
   ]
  },
  {
   "cell_type": "code",
   "execution_count": null,
   "id": "b34a70d7",
   "metadata": {},
   "outputs": [],
   "source": [
    "# segments\n",
    "t = tracker.getTracker()\n",
    "\n",
    "from taigapy import TaigaClient\n",
    "tc = TaigaClient()\n",
    "legacy_segments = tc.get(name='copy-number-5f61', version=4, file='legacy_segments')\n",
    "legacy_segments.Source.unique()"
   ]
  },
  {
   "cell_type": "code",
   "execution_count": null,
   "id": "b7c5ee92",
   "metadata": {},
   "outputs": [],
   "source": [
    "from gsheets import Sheets\n",
    "from depmapomics.config import *\n",
    "backfilled_t = Sheets.from_files(MY_ID, MYSTORAGE_ID).get(\"https://docs.google.com/spreadsheets/d/10Lg0xkT5OHLYgJ9VKpkh8VR64TXfxPVJXRVAckU8uBg\").sheets[0].to_frame(index_col=0)\n",
    "backfilled_t"
   ]
  },
  {
   "cell_type": "code",
   "execution_count": null,
   "id": "6803517f",
   "metadata": {},
   "outputs": [],
   "source": [
    "# since some sanger wes lines have already been added with mutation legacy\n",
    "# only added ACH-002378 which doesn't have mutation data\n",
    "sanger_wes_seg = legacy_segments[legacy_segments.Source == 'Sanger WES']\n",
    "sanger_wes_tracker = t[(t.datatype == 'wes') & (t.source == 'SANGER')]\n",
    "sanger_wes_seg[~sanger_wes_seg.DepMap_ID.isin(sanger_wes_tracker.arxspan_id.unique())].DepMap_ID.unique()\n"
   ]
  },
  {
   "cell_type": "code",
   "execution_count": null,
   "id": "c99d1cee",
   "metadata": {},
   "outputs": [],
   "source": [
    "# ACH-003000 was a fake arxspan id, now it's been renamed to ACH-003020\n",
    "# TODO: rename this for legacy\n",
    "# ACH-001650 is missing from the tracker, assuming we have no bam for it, created PR-id (but used existing MC-id)\n",
    "broad_wes_seg = legacy_segments[legacy_segments.Source == 'Broad WES']\n",
    "broad_wes_tracker = t[(t.datatype == 'wes') & (t.source != 'SANGER')]\n",
    "broad_wes_seg[~broad_wes_seg.DepMap_ID.isin(broad_wes_tracker.arxspan_id.unique())].DepMap_ID.unique()"
   ]
  },
  {
   "cell_type": "code",
   "execution_count": null,
   "id": "ee4830ac",
   "metadata": {},
   "outputs": [],
   "source": [
    "# each SNP array line needs a new PR id since we don't have SNP data on the tracker at all\n",
    "# but some of them don't need a new MC id, since the same line has other datatypes on the tracker already\n",
    "broad_snp_seg = legacy_segments[legacy_segments.Source == 'Broad SNP']\n",
    "broad_snp_tracker = t[(t.source != 'SANGER')]\n",
    "missing_broad_snp = broad_snp_seg[~broad_snp_seg.DepMap_ID.isin(broad_snp_tracker.arxspan_id.unique())].DepMap_ID.unique()\n",
    "#len(broad_snp_seg.DepMap_ID.unique())"
   ]
  },
  {
   "cell_type": "code",
   "execution_count": null,
   "id": "34710dea",
   "metadata": {},
   "outputs": [],
   "source": [
    "snp_has_mc = broad_snp_seg[broad_snp_seg.DepMap_ID.isin(broad_snp_tracker.arxspan_id.unique())].DepMap_ID.unique()\n",
    "# for the lines that have MC ids on the tracker, retrieve them here\n",
    "for i in snp_has_mc:\n",
    "    print(t[(t.arxspan_id == i) & (t.source != 'SANGER')].model_condition_id.unique()[0])"
   ]
  },
  {
   "cell_type": "code",
   "execution_count": null,
   "id": "611ddc01",
   "metadata": {},
   "outputs": [],
   "source": [
    "# for the lines that don't have MC ids on the tracker, generate new ones\n",
    "for i in missing_broad_snp:\n",
    "    print(\"MC-\" + i[4:] + \"-\" + h.randomString(stringLength=4, stype=\"all\", withdigits=True))"
   ]
  },
  {
   "cell_type": "code",
   "execution_count": null,
   "id": "393a62ae",
   "metadata": {},
   "outputs": [],
   "source": [
    "# generate PR ids for all snp lines\n",
    "for i in broad_snp_seg.DepMap_ID.unique():\n",
    "    print(\"PR-\" + h.randomString(stringLength=6, stype=\"all\", withdigits=True))"
   ]
  },
  {
   "cell_type": "code",
   "execution_count": null,
   "id": "397a8b8b",
   "metadata": {},
   "outputs": [],
   "source": [
    "# one chordoma line doesn't have a chordoma wes on tracker, but has a sanger wes\n",
    "# not creating PR/MC id for this because it will not get used\n",
    "chordoma_seg = legacy_segments[legacy_segments.Source == 'Chordoma WES']\n",
    "chordoma_tracker = t[(t.datatype == 'wes') & (t.source == 'CHORDOMA')]\n",
    "chordoma_seg[~chordoma_seg.DepMap_ID.isin(chordoma_tracker.arxspan_id.unique())].DepMap_ID.unique()\n",
    "#chordoma_seg.DepMap_ID.unique()"
   ]
  },
  {
   "cell_type": "code",
   "execution_count": null,
   "id": "07b54c95",
   "metadata": {},
   "outputs": [],
   "source": [
    "print(\"MC-\" + '002204' + \"-\" + h.randomString(stringLength=4, stype=\"all\", withdigits=True))"
   ]
  },
  {
   "cell_type": "markdown",
   "id": "844e142e",
   "metadata": {},
   "source": [
    "## Now all lines have been backfilled with MC- and PR-id. The following section populates the modelCondition tab on \"New Data transfer proposal\"\n",
    "ALL model conditions will be recorded in the modelCondition tab, no matter if they are blacklisted or if they're only present in legacy. Blacklist info will be on the omicsProfile tab"
   ]
  },
  {
   "cell_type": "code",
   "execution_count": null,
   "id": "d8cb8563",
   "metadata": {},
   "outputs": [],
   "source": [
    "t = tracker.getTracker()\n",
    "backfilled_t = Sheets.from_files(MY_ID, MYSTORAGE_ID).get(\"https://docs.google.com/spreadsheets/d/10Lg0xkT5OHLYgJ9VKpkh8VR64TXfxPVJXRVAckU8uBg\").sheets[1].to_frame(index_col=0)\n"
   ]
  },
  {
   "cell_type": "code",
   "execution_count": null,
   "id": "657fab58",
   "metadata": {},
   "outputs": [],
   "source": [
    "len(set([x[10:] for x in t.model_condition_id.astype(str)]))"
   ]
  },
  {
   "cell_type": "code",
   "execution_count": null,
   "id": "a5842550",
   "metadata": {},
   "outputs": [],
   "source": [
    "len(set([x[10:] for x in backfilled_t.model_condition_id.astype(str)]))"
   ]
  },
  {
   "cell_type": "code",
   "execution_count": null,
   "id": "c4b01ed6",
   "metadata": {},
   "outputs": [],
   "source": [
    "len(set([x[10:] for x in t.model_condition_id.astype(str)] + [x[10:] for x in backfilled_t.model_condition_id.astype(str)]))"
   ]
  },
  {
   "cell_type": "code",
   "execution_count": null,
   "id": "d4f24a3a",
   "metadata": {},
   "outputs": [],
   "source": [
    "-124 + 2725 + 171"
   ]
  },
  {
   "cell_type": "code",
   "execution_count": null,
   "id": "68e49d66",
   "metadata": {},
   "outputs": [],
   "source": [
    "len(set(t.profile_id.astype(str)))"
   ]
  },
  {
   "cell_type": "code",
   "execution_count": null,
   "id": "cb891ed3",
   "metadata": {},
   "outputs": [],
   "source": [
    "len(set(backfilled_t.index.astype(str)))"
   ]
  },
  {
   "cell_type": "code",
   "execution_count": null,
   "id": "4ecf433e",
   "metadata": {},
   "outputs": [],
   "source": [
    "len(set(t.profile_id.tolist() + backfilled_t.index.tolist()))"
   ]
  },
  {
   "cell_type": "code",
   "execution_count": null,
   "id": "b773bf0f",
   "metadata": {},
   "outputs": [],
   "source": [
    "mc_tab = Sheets.from_files(MY_ID, MYSTORAGE_ID).get(\"https://docs.google.com/spreadsheets/d/10Lg0xkT5OHLYgJ9VKpkh8VR64TXfxPVJXRVAckU8uBg\").sheets[].to_frame(index_col=0)"
   ]
  },
  {
   "cell_type": "code",
   "execution_count": null,
   "id": "4e31494d",
   "metadata": {},
   "outputs": [],
   "source": [
    "mc_tab"
   ]
  },
  {
   "cell_type": "code",
   "execution_count": null,
   "id": "a22edb12",
   "metadata": {},
   "outputs": [],
   "source": []
  },
  {
   "cell_type": "code",
   "execution_count": null,
   "id": "20c861ab",
   "metadata": {},
   "outputs": [],
   "source": [
    "for i in list(set(t.model_condition_id.tolist() + backfilled_t.model_condition_id.tolist())):\n",
    "    print(i)"
   ]
  },
  {
   "cell_type": "code",
   "execution_count": null,
   "id": "e55d32b4",
   "metadata": {},
   "outputs": [],
   "source": [
    "all_mcs = t.model_condition_id.unique().tolist() + backfilled_t.model_condition_id.unique().tolist()"
   ]
  },
  {
   "cell_type": "code",
   "execution_count": null,
   "id": "ff44b3d7",
   "metadata": {},
   "outputs": [],
   "source": [
    "import json\n",
    "\n",
    "rna_renaming = {}\n",
    "\n",
    "with open('../temp/22Q2/rna_sample_renaming.json') as json_file:\n",
    "    rna_renaming = json.load(json_file)"
   ]
  },
  {
   "cell_type": "code",
   "execution_count": null,
   "id": "41cdbc13",
   "metadata": {},
   "outputs": [],
   "source": [
    "mc_tab = Sheets.from_files(MY_ID, MYSTORAGE_ID).get(\"https://docs.google.com/spreadsheets/d/10Lg0xkT5OHLYgJ9VKpkh8VR64TXfxPVJXRVAckU8uBg\").sheets[0].to_frame(index_col=0)\n",
    "mc_tab"
   ]
  },
  {
   "cell_type": "code",
   "execution_count": null,
   "id": "0dca3e49",
   "metadata": {},
   "outputs": [],
   "source": [
    "# backfill expression and fusion on the model condition tab (no legacy)\n",
    "t = tracker.getTracker()\n",
    "\n",
    "for k in rna_renaming:\n",
    "    if k != 'transcript_id(s)':\n",
    "        mc = t.loc[k, 'model_condition_id']\n",
    "        pr = t.loc[k, 'profile_id']\n",
    "        mc_tab.loc[mc, 'expression'] = pr\n",
    "        mc_tab.loc[mc, 'fusion'] = pr\n",
    "        "
   ]
  },
  {
   "cell_type": "code",
   "execution_count": null,
   "id": "69dd221e",
   "metadata": {},
   "outputs": [],
   "source": [
    "import pygsheets\n",
    "\n",
    "gc = pygsheets.authorize(service_file=\"../../.credentials.json\")"
   ]
  },
  {
   "cell_type": "code",
   "execution_count": null,
   "id": "6224d792",
   "metadata": {},
   "outputs": [],
   "source": [
    "sheet = gc.open('Backfilled profile IDs')\n",
    "wksht = sheet.worksheet('title','ModelCondition')\n",
    "# wksht.set_dataframe(mc_tab, 'A1', copy_index=True, nan='')"
   ]
  },
  {
   "cell_type": "code",
   "execution_count": null,
   "id": "bf2015aa",
   "metadata": {},
   "outputs": [],
   "source": [
    "from gsheets import Sheets\n",
    "from depmapomics.config import *\n",
    "\n",
    "mc_tab = Sheets.from_files(MY_ID, MYSTORAGE_ID).get(\"https://docs.google.com/spreadsheets/d/10Lg0xkT5OHLYgJ9VKpkh8VR64TXfxPVJXRVAckU8uBg\").sheets[0].to_frame(index_col=0)\n",
    "mc_tab"
   ]
  },
  {
   "cell_type": "code",
   "execution_count": null,
   "id": "7780e20b",
   "metadata": {},
   "outputs": [],
   "source": [
    "# fill in source column on the model condition tab\n",
    "# only 2 categories for this tab: sanger vs broad\n",
    "source_dict = pd.concat([t[['model_condition_id', 'source']], legacy_tab[['model_condition_id', 'source']]], ignore_index=True)\n",
    "for i in mc_tab.index:\n",
    "    if 'SANGER' in source_dict[source_dict.model_condition_id == i].source.unique().tolist() or 'SANGER_NOBAM' in source_dict[source_dict.model_condition_id == i].source.unique().tolist():\n",
    "        mc_tab.loc[i, 'source'] = 'SANGER'\n",
    "    else:\n",
    "        mc_tab.loc[i, 'source'] = 'BROAD'\n",
    "wksht.set_dataframe(mc_tab, 'A1', copy_index=True, nan='')"
   ]
  },
  {
   "cell_type": "code",
   "execution_count": null,
   "id": "77f77e92",
   "metadata": {},
   "outputs": [],
   "source": [
    "# backfill rna mut legacy on the model condition tab\n",
    "for i in legacy_rna.DepMap_ID.unique():\n",
    "    if len(t[(t.arxspan_id == i) & (t.datatype == 'rna')].model_condition_id.unique()) == 1:\n",
    "        mc = t[(t.arxspan_id == i) & (t.datatype == 'rna')].model_condition_id.unique()[0]\n",
    "        pr = t[(t.arxspan_id == i) & (t.datatype == 'rna') & (t.source == 'CCLE2')].profile_id.unique()[0]\n",
    "        mc_tab.loc[mc, 'mut_rna'] = pr\n",
    "        if len(t[(t.arxspan_id == i) & (t.datatype == 'rna') & (t.source == 'CCLE2')].profile_id.unique()) != 1:\n",
    "            print(i)\n",
    "    else:\n",
    "        print('multiple mc-ids corresponding to one arxspan: ', i)\n",
    "wksht.set_dataframe(mc_tab, 'A1', copy_index=True, nan='')"
   ]
  },
  {
   "cell_type": "code",
   "execution_count": null,
   "id": "b33bb2b8",
   "metadata": {},
   "outputs": [],
   "source": [
    "# backfill hc mut legacy on the model condition tab\n",
    "for i in legacy_hybridcapture.DepMap_ID.unique():\n",
    "    if len(t[(t.arxspan_id == i) & (t.datatype == 'hybrid_capture')].model_condition_id.unique()) == 1:\n",
    "        mc = t[(t.arxspan_id == i) & (t.datatype == 'hybrid_capture')].model_condition_id.unique()[0]\n",
    "        pr = t[(t.arxspan_id == i) & (t.datatype == 'hybrid_capture') & (t.source == 'CCLE2')].profile_id.unique()[0]\n",
    "        mc_tab.loc[mc, 'mut_hc'] = pr\n",
    "        if len(t[(t.arxspan_id == i) & (t.datatype == 'hybrid_capture') & (t.source == 'CCLE2')].profile_id.unique()) != 1:\n",
    "            print(i)\n",
    "    else:\n",
    "        print('multiple mc-ids corresponding to one arxspan: ', i)\n",
    "wksht.set_dataframe(mc_tab, 'A1', copy_index=True, nan='')"
   ]
  },
  {
   "cell_type": "code",
   "execution_count": null,
   "id": "5499f99e",
   "metadata": {},
   "outputs": [],
   "source": [
    "# backfill rd mut legacy on the model condition tab\n",
    "for i in legacy_raindance.DepMap_ID.unique():\n",
    "    if len(t[(t.arxspan_id == i) & (t.datatype == 'raindance')].model_condition_id.unique()) == 1:\n",
    "        mc = t[(t.arxspan_id == i) & (t.datatype == 'raindance')].model_condition_id.unique()[0]\n",
    "        pr = t[(t.arxspan_id == i) & (t.datatype == 'raindance') & (t.source == 'CCLE2')].profile_id.unique()[0]\n",
    "        mc_tab.loc[mc, 'mut_rd'] = pr\n",
    "        if len(t[(t.arxspan_id == i) & (t.datatype == 'raindance') & (t.source == 'CCLE2')].profile_id.unique()) != 1:\n",
    "            print(i)\n",
    "    else:\n",
    "        print('multiple mc-ids corresponding to one arxspan: ', i)\n",
    "wksht.set_dataframe(mc_tab, 'A1', copy_index=True, nan='')"
   ]
  },
  {
   "cell_type": "code",
   "execution_count": null,
   "id": "d856d45a",
   "metadata": {},
   "outputs": [],
   "source": [
    "mc_tab = Sheets.from_files(MY_ID, MYSTORAGE_ID).get(\"https://docs.google.com/spreadsheets/d/10Lg0xkT5OHLYgJ9VKpkh8VR64TXfxPVJXRVAckU8uBg\").sheets[1].to_frame(index_col=0)\n",
    "legacy_tab = Sheets.from_files(MY_ID, MYSTORAGE_ID).get(\"https://docs.google.com/spreadsheets/d/10Lg0xkT5OHLYgJ9VKpkh8VR64TXfxPVJXRVAckU8uBg\").sheets[2].to_frame(index_col=0)"
   ]
  },
  {
   "cell_type": "code",
   "execution_count": null,
   "id": "697e2e38",
   "metadata": {},
   "outputs": [],
   "source": [
    "# backfill sanger wes mut legacy on the model condition tab\n",
    "for i in legacy_wes_sanger.DepMap_ID.unique():\n",
    "    mc_tracker = t[(t.arxspan_id == i) & (t.datatype == 'wes') & (t.source == 'SANGER')].model_condition_id.unique().tolist()\n",
    "    mc_legacy = legacy_tab[(legacy_tab.arxspan_id == i) & (legacy_tab.source == 'SANGER_NOBAM') & (legacy_tab.datatype == 'wes')].model_condition_id.unique().tolist()\n",
    "    if len(set(mc_tracker + mc_legacy)) > 1:\n",
    "        print('more than 1 mc-ids corresponding to one arxspan: ', i)\n",
    "    mc = list(set(mc_tracker + mc_legacy))[0]\n",
    "    if mc in mc_tracker:\n",
    "        pr = t[(t.model_condition_id == mc) & (t.source == 'SANGER') & (t.datatype == 'wes')].profile_id.unique().tolist()\n",
    "        if len(pr) > 1:\n",
    "            print('more than 1 pr-ids corresponding to one mc-id: ', mc)\n",
    "        mc_tab.loc[mc, 'mut_sanger_wes'] = pr\n",
    "    else:\n",
    "        pr = legacy_tab[(legacy_tab.model_condition_id == mc) & (legacy_tab.source == 'SANGER_NOBAM') & (legacy_tab.datatype == 'wes')].index.unique().tolist()\n",
    "        if len(pr) > 1:\n",
    "            print('more than 1 pr-ids corresponding to one mc-id: ', mc)\n",
    "        mc_tab.loc[mc, 'mut_sanger_wes'] = pr"
   ]
  },
  {
   "cell_type": "code",
   "execution_count": null,
   "id": "6bcde31b",
   "metadata": {},
   "outputs": [],
   "source": [
    "# backfill wgs mut legacy on the model condition tab\n",
    "for i in legacy_wgs_exoniconly.DepMap_ID.unique():\n",
    "    if len(t[(t.arxspan_id == i) & (t.datatype == 'wgs')].model_condition_id.unique()) == 1:\n",
    "        mc = t[(t.arxspan_id == i) & (t.datatype == 'wgs')].model_condition_id.unique()[0]\n",
    "        pr = t[(t.arxspan_id == i) & (t.datatype == 'wgs') & (t.source == 'CCLE2')].profile_id.unique()[0]\n",
    "        mc_tab.loc[mc, 'mut_wgs'] = pr\n",
    "        if len(t[(t.arxspan_id == i) & (t.datatype == 'wgs') & (t.source == 'CCLE2')].profile_id.unique()) != 1:\n",
    "            print(i)\n",
    "    else:\n",
    "        print('multiple mc-ids corresponding to one arxspan: ', i)\n",
    "wksht.set_dataframe(mc_tab, 'A1', copy_index=True, nan='')"
   ]
  },
  {
   "cell_type": "code",
   "execution_count": null,
   "id": "49d5383f",
   "metadata": {},
   "outputs": [],
   "source": [
    "wksht.set_dataframe(mc_tab, 'A1', copy_index=True, nan='')"
   ]
  },
  {
   "cell_type": "code",
   "execution_count": null,
   "id": "a57285e5",
   "metadata": {},
   "outputs": [],
   "source": [
    "# backfill\n",
    "import json\n",
    "\n",
    "wgs_renaming = {}\n",
    "wes_renaming = {}\n",
    "\n",
    "with open('../temp/22Q2/wgs_sample_renaming.json') as json_file:\n",
    "    wgs_renaming = json.load(json_file)\n",
    "\n",
    "with open('../temp/22Q2/wes_sample_renaming.json') as json_file:\n",
    "    wes_renaming = json.load(json_file)\n"
   ]
  },
  {
   "cell_type": "code",
   "execution_count": null,
   "id": "14e2756d",
   "metadata": {},
   "outputs": [],
   "source": [
    "# backfill cga wes mut\n",
    "# for the same MC, prioritize wes mutation\n",
    "from depmapomics.config import *\n",
    "\n",
    "# some lines failed CN QC, but we have been rescuing them for mutation data.\n",
    "# these lines aren't saved in the renaming json files as of 22Q2, so add them here\n",
    "wes_renaming.update(RESCUE_FOR_MUTATION_WES)\n",
    "wgs_renaming.update(RESCUE_FOR_MUTATION_WGS)\n",
    "\n",
    "mcs = set([])\n",
    "for ke in wes_renaming:\n",
    "    mc = t.loc[ke, 'model_condition_id']\n",
    "    pr = t.loc[ke, 'profile_id']\n",
    "    mcs.add(mc)\n",
    "    mc_tab.loc[mc, 'mut_cga_wes'] = pr\n",
    "for kw in wgs_renaming:\n",
    "    mc = t.loc[kw, 'model_condition_id']\n",
    "    if mc not in mcs:\n",
    "        pr = t.loc[kw, 'profile_id']\n",
    "        mcs.add(mc)\n",
    "        mc_tab.loc[mc, 'mut_cga_wes'] = pr\n",
    "wksht.set_dataframe(mc_tab, 'A1', copy_index=True, nan='')"
   ]
  },
  {
   "cell_type": "code",
   "execution_count": null,
   "id": "1fff02fa",
   "metadata": {},
   "outputs": [],
   "source": [
    "# backfill germline matrix\n",
    "# here use the renaming dicts before appending rescued lines\n",
    "wgs_mat = pd.read_csv(\"../temp/binary_mutguides_wgs.tsv.gz\", sep='\\t', index_col='Unnamed: 0')\n",
    "wes_mat = pd.read_csv(\"../temp/binary_mutguides_wes.tsv.gz\", sep='\\t', index_col='Unnamed: 0')\n",
    "\n",
    "wgs_mat_noguides = wgs_mat.iloc[:, 4:]\n",
    "wes_mat_noguides = wes_mat.iloc[:, 4:]\n",
    "\n",
    "wgs_whitelist = [x for x in wgs_mat_noguides.columns if x in wgs_renaming]\n",
    "wes_whitelist = [x for x in wes_mat_noguides.columns if x in wes_renaming]"
   ]
  },
  {
   "cell_type": "code",
   "execution_count": null,
   "id": "f82309a3",
   "metadata": {},
   "outputs": [],
   "source": [
    "# use the same prioritization scheme as make_germline_matrix_wgs.ipynb\n",
    "mcs = set([])\n",
    "for kw in wgs_whitelist:\n",
    "    mc = t.loc[kw, 'model_condition_id']\n",
    "    pr = t.loc[kw, 'profile_id']\n",
    "    mcs.add(mc)\n",
    "    mc_tab.loc[mc, 'germline_matrix'] = pr\n",
    "for ke in wes_whitelist:\n",
    "    mc = t.loc[ke, 'model_condition_id']\n",
    "    if mc not in mcs:\n",
    "        pr = t.loc[ke, 'profile_id']\n",
    "        mcs.add(mc)\n",
    "        mc_tab.loc[mc, 'germline_matrix'] = pr\n",
    "wksht.set_dataframe(mc_tab, 'A1', copy_index=True, nan='')    "
   ]
  },
  {
   "cell_type": "code",
   "execution_count": null,
   "id": "9e95d6bf",
   "metadata": {},
   "outputs": [],
   "source": [
    "# backfill cnv, using the same local jsons without rescued lines\n",
    "mcs = set([])\n",
    "for kw in wgs_renaming:\n",
    "    mc = t.loc[kw, 'model_condition_id']\n",
    "    pr = t.loc[kw, 'profile_id']\n",
    "    mcs.add(mc)\n",
    "    mc_tab.loc[mc, 'cnv'] = pr\n",
    "for ke in wes_renaming:\n",
    "    mc = t.loc[ke, 'model_condition_id']\n",
    "    if mc not in mcs:\n",
    "        pr = t.loc[ke, 'profile_id']\n",
    "        mcs.add(mc)\n",
    "        mc_tab.loc[mc, 'cnv'] = pr\n",
    "wksht.set_dataframe(mc_tab, 'A1', copy_index=True, nan='')    "
   ]
  },
  {
   "cell_type": "markdown",
   "id": "405bc753",
   "metadata": {},
   "source": [
    "# Backfill the omicProfile tab"
   ]
  },
  {
   "cell_type": "code",
   "execution_count": null,
   "id": "3da60f5c",
   "metadata": {},
   "outputs": [],
   "source": [
    "from gsheets import Sheets\n",
    "from depmapomics.config import *\n",
    "\n",
    "pr_tab = Sheets.from_files(MY_ID, MYSTORAGE_ID).get(\"https://docs.google.com/spreadsheets/d/10Lg0xkT5OHLYgJ9VKpkh8VR64TXfxPVJXRVAckU8uBg\").sheets[0].to_frame(index_col=0, header=2)\n",
    "#t = tracker.getTracker()\n",
    "pr_tab"
   ]
  },
  {
   "cell_type": "code",
   "execution_count": null,
   "id": "a5a567a2",
   "metadata": {},
   "outputs": [],
   "source": [
    "portal_cols = {'public': 'public_release_date', 'dmc': 'consortium_release_date', 'internal': 'internal_release_date', 'ibm': 'ibm_release_date'}\n",
    "portal_taiga = {'internal': 'internal-22q2-097a', 'ibm': 'ibm-22q2-a71e', 'dmc': 'dmc-22q2-5e51', 'public': 'public-22q2-de04'}"
   ]
  },
  {
   "cell_type": "code",
   "execution_count": null,
   "id": "b8ee82de",
   "metadata": {},
   "outputs": [],
   "source": [
    "# backfill rna profiles\n",
    "import json\n",
    "from taigapy import TaigaClient\n",
    "tc = TaigaClient()\n",
    "\n",
    "rna_renaming = {}\n",
    "with open('../temp/22Q2/rna_sample_renaming.json') as json_file:\n",
    "    rna_renaming = json.load(json_file)\n",
    "rna_renaming_swapped = dict([(value, key) for key, value in rna_renaming.items()])"
   ]
  },
  {
   "cell_type": "code",
   "execution_count": null,
   "id": "744951da",
   "metadata": {},
   "outputs": [],
   "source": [
    "rna_renaming_swapped['ACH-000008']"
   ]
  },
  {
   "cell_type": "code",
   "execution_count": null,
   "id": "5cc8eb2b",
   "metadata": {},
   "outputs": [],
   "source": [
    "for i in portal_taiga:\n",
    "    CCLE_expression = tc.get(name=portal_taiga[i], file='CCLE_expression')\n",
    "    lines = CCLE_expression.index.tolist()\n",
    "    for l in lines:\n",
    "        cds_id = rna_renaming_swapped[l]\n",
    "        pr = t.loc[cds_id, 'ProfileID']\n",
    "        mc = t.loc[cds_id, 'ModelConditionID']\n",
    "        pr_tab.loc[pr, 'ModelCondition'] = mc\n",
    "        pr_tab.loc[pr, 'Datatype'] = 'rna'\n",
    "        pr_tab.loc[pr, 'Baits'] = t.loc[cds_id, 'baits']\n",
    "        pr_tab.loc[pr, 'BlacklistOmics'] = t.loc[cds_id, 'blacklist']\n",
    "        pr_tab.loc[pr, 'Issue'] = t.loc[cds_id, 'issue']\n",
    "        pr_tab.loc[pr, 'Prioritized'] = t.loc[cds_id, 'prioritized']\n",
    "        pr_tab.loc[pr, 'CDSID'] = cds_id\n",
    "        pr_tab.loc[pr, 'ProfileSource'] = 'bam'\n",
    "        pr_tab.loc[pr, portal_cols[i]] = '22Q2'"
   ]
  },
  {
   "cell_type": "code",
   "execution_count": null,
   "id": "19173a02",
   "metadata": {},
   "outputs": [],
   "source": [
    "pr_tab.loc['PR-bKcagB', 'CDSID']"
   ]
  },
  {
   "cell_type": "code",
   "execution_count": null,
   "id": "27675e20",
   "metadata": {},
   "outputs": [],
   "source": [
    "sheet = gc.open('Backfilled profile IDs')\n",
    "wksht = sheet.worksheet('title','OmicsProfile')\n",
    "\n",
    "wksht.set_dataframe(pr_tab, 'A3', copy_index=True, nan='') "
   ]
  },
  {
   "cell_type": "code",
   "execution_count": null,
   "id": "fa2bf4f2",
   "metadata": {},
   "outputs": [],
   "source": [
    "# backfill WGS/WES profiles\n",
    "wgs_renaming = {}\n",
    "wes_renaming = {}\n",
    "\n",
    "with open('../temp/22Q2/wgs_sample_renaming.json') as json_file:\n",
    "    wgs_renaming = json.load(json_file)\n",
    "\n",
    "with open('../temp/22Q2/wes_sample_renaming.json') as json_file:\n",
    "    wes_renaming = json.load(json_file)"
   ]
  },
  {
   "cell_type": "code",
   "execution_count": null,
   "id": "7488e26e",
   "metadata": {},
   "outputs": [],
   "source": [
    "# combine renaming dictionaries, prioritizing WES\n",
    "wes_renaming.update(RESCUE_FOR_MUTATION_WES)\n",
    "wgs_renaming.update(RESCUE_FOR_MUTATION_WGS)\n",
    "wgs_renaming_swapped = dict([(value, key) for key, value in wgs_renaming.items()])\n",
    "wes_renaming_swapped = dict([(value, key) for key, value in wes_renaming.items()])\n",
    "\n",
    "combined_mut = wes_renaming_swapped.copy()\n",
    "for i in wgs_renaming_swapped:\n",
    "    if i not in combined_mut:\n",
    "        combined_mut[i] = wgs_renaming_swapped[i]"
   ]
  },
  {
   "cell_type": "code",
   "execution_count": null,
   "id": "d9bbe82d",
   "metadata": {},
   "outputs": [],
   "source": [
    "# backfill WES_CGA mut\n",
    "pr_tab = Sheets.from_files(MY_ID, MYSTORAGE_ID).get(\"https://docs.google.com/spreadsheets/d/10Lg0xkT5OHLYgJ9VKpkh8VR64TXfxPVJXRVAckU8uBg\").sheets[0].to_frame(index_col=0, header=1)\n",
    "\n",
    "for i in portal_taiga:\n",
    "    CCLE_mutations = tc.get(name=portal_taiga[i], file='CCLE_mutations')\n",
    "    AC_cols = [\"CGA_WES_AC\", \"HC_AC\", \"RD_AC\", \"RNAseq_AC\", \"SangerWES_AC\", \"WGS_AC\"]\n",
    "    mut_notnull1 = CCLE_mutations.groupby(\"DepMap_ID\")[AC_cols].apply(lambda x: x.notnull().any())\n",
    "    lines = mut_notnull1.index.tolist()\n",
    "    for l in lines:\n",
    "        if mut_notnull1.loc[l, 'CGA_WES_AC'] == True:\n",
    "            cds_id = combined_mut[l]\n",
    "            pr = t.loc[cds_id, 'profile_id']\n",
    "            mc = t.loc[cds_id, 'model_condition_id']\n",
    "            pr_tab.loc[pr, 'ModelCondition'] = mc\n",
    "            pr_tab.loc[pr, 'datatype'] = t.loc[cds_id, 'datatype']\n",
    "            pr_tab.loc[pr, 'baits'] = t.loc[cds_id, 'baits']\n",
    "            pr_tab.loc[pr, 'blacklist_omics'] = t.loc[cds_id, 'blacklist']\n",
    "            pr_tab.loc[pr, 'issue'] = t.loc[cds_id, 'issue']\n",
    "            pr_tab.loc[pr, 'prioritized'] = t.loc[cds_id, 'prioritized']\n",
    "            pr_tab.loc[pr, 'cds_id'] = cds_id\n",
    "            pr_tab.loc[pr, 'profile_source'] = 'BAM'\n",
    "            pr_tab.loc[pr, portal_cols[i]] = '22Q2'            "
   ]
  },
  {
   "cell_type": "code",
   "execution_count": null,
   "id": "221b3eb9",
   "metadata": {},
   "outputs": [],
   "source": [
    "sheet = gc.open('Backfilled profile IDs')\n",
    "wksht = sheet.worksheet('title','OmicsProfile')\n",
    "\n",
    "wksht.set_dataframe(pr_tab, 'A2', copy_index=True, nan='') "
   ]
  },
  {
   "cell_type": "code",
   "execution_count": null,
   "id": "ff6c38ee",
   "metadata": {},
   "outputs": [],
   "source": [
    "# backfill legacy mut (everything except sanger wes)\n",
    "# the rna are overwriting the expression/fusion profiles but that's ok ?\n",
    "pr_tab = Sheets.from_files(MY_ID, MYSTORAGE_ID).get(\"https://docs.google.com/spreadsheets/d/10Lg0xkT5OHLYgJ9VKpkh8VR64TXfxPVJXRVAckU8uBg\").sheets[0].to_frame(index_col=0, header=1)\n",
    "\n",
    "legacy_mapping = {\"HC_AC\": \"hybrid_capture\", \"RD_AC\": \"raindance\", \"RNAseq_AC\": \"rna\", \"WGS_AC\": \"wgs\"}\n",
    "\n",
    "for i in portal_taiga:\n",
    "    CCLE_mutations = tc.get(name=portal_taiga[i], file='CCLE_mutations')\n",
    "    AC_cols = [\"CGA_WES_AC\", \"HC_AC\", \"RD_AC\", \"RNAseq_AC\", \"SangerWES_AC\", \"WGS_AC\"]\n",
    "    mut_notnull1 = CCLE_mutations.groupby(\"DepMap_ID\")[AC_cols].apply(lambda x: x.notnull().any())\n",
    "    lines = mut_notnull1.index.tolist()\n",
    "    for l in lines:\n",
    "        for k in legacy_mapping:\n",
    "            if mut_notnull1.loc[l, k] == True:\n",
    "                cds_id = t[(t.arxspan_id == l) & (t.datatype == legacy_mapping[k]) & (t.source == 'CCLE2')].index\n",
    "                pr = t.loc[cds_id, 'profile_id'].unique()\n",
    "                mc = t.loc[cds_id, 'model_condition_id'].unique()\n",
    "                if len(pr) != 1 or len(mc) != 1:\n",
    "                    print(k, cds_id, 'multiple mc or pr mapped to the same line')\n",
    "                pr = pr[0]\n",
    "                mc = mc[0]\n",
    "                cds_id = cds_id[0]\n",
    "                pr_tab.loc[pr, 'ModelCondition'] = mc\n",
    "                pr_tab.loc[pr, 'datatype'] = t.loc[cds_id, 'datatype']\n",
    "                pr_tab.loc[pr, 'baits'] = t.loc[cds_id, 'baits']\n",
    "                pr_tab.loc[pr, 'blacklist_omics'] = t.loc[cds_id, 'blacklist']\n",
    "                pr_tab.loc[pr, 'issue'] = t.loc[cds_id, 'issue']\n",
    "                pr_tab.loc[pr, 'prioritized'] = t.loc[cds_id, 'prioritized']\n",
    "                pr_tab.loc[pr, 'cds_id'] = cds_id\n",
    "                pr_tab.loc[pr, 'profile_source'] = 'mutations-da6a'\n",
    "                pr_tab.loc[pr, portal_cols[i]] = '22Q2'\n",
    "\n",
    "sheet = gc.open('Backfilled profile IDs')\n",
    "wksht = sheet.worksheet('title','OmicsProfile')\n",
    "wksht.set_dataframe(pr_tab, 'A2', copy_index=True, nan='') "
   ]
  },
  {
   "cell_type": "code",
   "execution_count": null,
   "id": "db41a705",
   "metadata": {},
   "outputs": [],
   "source": [
    "# backfill sanger wes legacy mut\n",
    "pr_tab = Sheets.from_files(MY_ID, MYSTORAGE_ID).get(\"https://docs.google.com/spreadsheets/d/10Lg0xkT5OHLYgJ9VKpkh8VR64TXfxPVJXRVAckU8uBg\").sheets[0].to_frame(index_col=0, header=1)\n",
    "legacy_tab = Sheets.from_files(MY_ID, MYSTORAGE_ID).get(\"https://docs.google.com/spreadsheets/d/10Lg0xkT5OHLYgJ9VKpkh8VR64TXfxPVJXRVAckU8uBg\").sheets[2].to_frame(index_col=0)\n",
    "\n",
    "for i in portal_taiga:\n",
    "    CCLE_mutations = tc.get(name=portal_taiga[i], file='CCLE_mutations')\n",
    "    AC_cols = [\"CGA_WES_AC\", \"HC_AC\", \"RD_AC\", \"RNAseq_AC\", \"SangerWES_AC\", \"WGS_AC\"]\n",
    "    mut_notnull1 = CCLE_mutations.groupby(\"DepMap_ID\")[AC_cols].apply(lambda x: x.notnull().any())\n",
    "    lines = mut_notnull1.index.tolist()\n",
    "    for l in lines:\n",
    "        if mut_notnull1.loc[l, 'SangerWES_AC'] == True:\n",
    "            cds_id = t[(t.arxspan_id == l) & (t.datatype == 'wes') & (t.source == 'SANGER')].index\n",
    "            pr, mc = '', ''\n",
    "            # if can't find a cds id on the tracker, check the backfilled legacy tab instead\n",
    "            if len(cds_id) == 0:\n",
    "                pr = legacy_tab[(legacy_tab.arxspan_id == l) & (legacy_tab.datatype == 'wes') & (legacy_tab.source == 'SANGER_NOBAM') & (legacy_tab.legacy_type == 'mut')].index.tolist()\n",
    "                mc = legacy_tab[(legacy_tab.arxspan_id == l) & (legacy_tab.datatype == 'wes') & (legacy_tab.source == 'SANGER_NOBAM') & (legacy_tab.legacy_type == 'mut')].model_condition_id.tolist()\n",
    "                cds_id = []\n",
    "            else:\n",
    "                pr = t.loc[cds_id, 'profile_id'].unique().tolist()\n",
    "                mc = t.loc[cds_id, 'model_condition_id'].unique().tolist()\n",
    "            if len(pr) != 1 or len(mc) != 1:\n",
    "                print(k, cds_id, 'multiple mc or pr mapped to the same line')\n",
    "            pr = pr[0]\n",
    "            mc = mc[0]\n",
    "            pr_tab.loc[pr, 'ModelCondition'] = mc\n",
    "            pr_tab.loc[pr, 'datatype'] = 'wes'\n",
    "            pr_tab.loc[pr, 'profile_source'] = 'mutations-da6a'\n",
    "            pr_tab.loc[pr, portal_cols[i]] = '22Q2'\n",
    "            if len(cds_id) > 0:\n",
    "                cds_id = cds_id[0]\n",
    "                pr_tab.loc[pr, 'baits'] = t.loc[cds_id, 'baits']\n",
    "                pr_tab.loc[pr, 'blacklist_omics'] = t.loc[cds_id, 'blacklist']\n",
    "                pr_tab.loc[pr, 'issue'] = t.loc[cds_id, 'issue']\n",
    "                pr_tab.loc[pr, 'prioritized'] = t.loc[cds_id, 'prioritized']\n",
    "                pr_tab.loc[pr, 'cds_id'] = cds_id\n",
    "                \n",
    "sheet = gc.open('Backfilled profile IDs')\n",
    "wksht = sheet.worksheet('title','OmicsProfile')\n",
    "wksht.set_dataframe(pr_tab, 'A2', copy_index=True, nan='') "
   ]
  },
  {
   "cell_type": "code",
   "execution_count": null,
   "id": "186760c6",
   "metadata": {},
   "outputs": [],
   "source": [
    "# backfill CN\n",
    "wgs_renaming = {}\n",
    "wes_renaming = {}\n",
    "\n",
    "with open('../temp/22Q2/wgs_sample_renaming.json') as json_file:\n",
    "    wgs_renaming = json.load(json_file)\n",
    "\n",
    "with open('../temp/22Q2/wes_sample_renaming.json') as json_file:\n",
    "    wes_renaming = json.load(json_file)\n",
    "\n",
    "wgs_renaming_swapped = dict([(value, key) for key, value in wgs_renaming.items()])\n",
    "wes_renaming_swapped = dict([(value, key) for key, value in wes_renaming.items()])\n",
    "\n",
    "combined_cn = wgs_renaming_swapped.copy()\n",
    "for i in wes_renaming_swapped:\n",
    "    if i not in combined_cn:\n",
    "        combined_cn[i] = wes_renaming_swapped[i]"
   ]
  },
  {
   "cell_type": "code",
   "execution_count": null,
   "id": "9759b470",
   "metadata": {},
   "outputs": [],
   "source": [
    "pr_tab = Sheets.from_files(MY_ID, MYSTORAGE_ID).get(\"https://docs.google.com/spreadsheets/d/10Lg0xkT5OHLYgJ9VKpkh8VR64TXfxPVJXRVAckU8uBg\").sheets[0].to_frame(index_col=0, header=1)\n",
    "legacy_tab = Sheets.from_files(MY_ID, MYSTORAGE_ID).get(\"https://docs.google.com/spreadsheets/d/10Lg0xkT5OHLYgJ9VKpkh8VR64TXfxPVJXRVAckU8uBg\").sheets[2].to_frame(index_col=0)\n",
    "\n",
    "legacy_seg = {'Sanger WES': ['SANGER', 'wes'], 'Broad SNP': ['CCLE2', 'SNParray'], 'Broad WES': ['Broad', 'wes'], 'Chordoma WES': ['CHORDOMA', 'wes']}\n",
    "\n",
    "for i in portal_taiga:\n",
    "    CCLE_segment_cn = tc.get(name=portal_taiga[i], file='CCLE_segment_cn')\n",
    "    lines = CCLE_segment_cn.DepMap_ID.unique().tolist()\n",
    "    for l in lines:\n",
    "        if l in combined_cn:\n",
    "            cds_id = combined_cn[l]\n",
    "            pr = t.loc[cds_id, 'profile_id']\n",
    "            mc = t.loc[cds_id, 'model_condition_id']\n",
    "            pr_tab.loc[pr, 'ModelCondition'] = mc\n",
    "            pr_tab.loc[pr, 'datatype'] = t.loc[cds_id, 'datatype']\n",
    "            pr_tab.loc[pr, 'baits'] = t.loc[cds_id, 'baits']\n",
    "            pr_tab.loc[pr, 'blacklist_omics'] = t.loc[cds_id, 'blacklist']\n",
    "            pr_tab.loc[pr, 'issue'] = t.loc[cds_id, 'issue']\n",
    "            pr_tab.loc[pr, 'prioritized'] = t.loc[cds_id, 'prioritized']\n",
    "            pr_tab.loc[pr, 'cds_id'] = cds_id\n",
    "            pr_tab.loc[pr, 'profile_source'] = 'BAM'\n",
    "            pr_tab.loc[pr, portal_cols[i]] = '22Q2'\n",
    "        else:\n",
    "            seg_source = CCLE_segment_cn[CCLE_segment_cn.DepMap_ID == l].Source.tolist()[0]\n",
    "            cds_id = t[(t.arxspan_id == l) & (t.source == legacy_seg[seg_source][0]) & (t.datatype == legacy_seg[seg_source][1])].index\n",
    "            pr, mc = '', ''\n",
    "            # if can't find a cds id on the tracker, check the backfilled legacy tab instead\n",
    "            if len(cds_id) == 0:\n",
    "                pr = legacy_tab[(legacy_tab.arxspan_id == l) & (legacy_tab.datatype == legacy_seg[seg_source][1]) & (legacy_tab.source.str.startswith(legacy_seg[seg_source][0]))].index.tolist()\n",
    "                mc = legacy_tab[(legacy_tab.arxspan_id == l) & (legacy_tab.datatype == legacy_seg[seg_source][1]) & (legacy_tab.source.str.startswith(legacy_seg[seg_source][0]))].model_condition_id.tolist()\n",
    "                cds_id = []\n",
    "            else:\n",
    "                pr = t.loc[cds_id, 'profile_id'].unique().tolist()\n",
    "                mc = t.loc[cds_id, 'model_condition_id'].unique().tolist()\n",
    "            if len(pr) != 1 or len(mc) != 1:\n",
    "                print(k, cds_id, 'multiple mc or pr mapped to the same line')\n",
    "            pr = pr[0]\n",
    "            mc = mc[0]\n",
    "            pr_tab.loc[pr, 'ModelCondition'] = mc\n",
    "            pr_tab.loc[pr, 'datatype'] = legacy_seg[seg_source][1]\n",
    "            pr_tab.loc[pr, 'profile_source'] = 'copy-number-5f61'\n",
    "            pr_tab.loc[pr, portal_cols[i]] = '22Q2'\n",
    "            if len(cds_id) > 0:\n",
    "                cds_id = cds_id[0]\n",
    "                pr_tab.loc[pr, 'baits'] = t.loc[cds_id, 'baits']\n",
    "                pr_tab.loc[pr, 'blacklist_omics'] = t.loc[cds_id, 'blacklist']\n",
    "                pr_tab.loc[pr, 'issue'] = t.loc[cds_id, 'issue']\n",
    "                pr_tab.loc[pr, 'prioritized'] = t.loc[cds_id, 'prioritized']\n",
    "                pr_tab.loc[pr, 'cds_id'] = cds_id\n",
    "        \n",
    "sheet = gc.open('Backfilled profile IDs')\n",
    "wksht = sheet.worksheet('title','OmicsProfile')\n",
    "wksht.set_dataframe(pr_tab, 'A2', copy_index=True, nan='')"
   ]
  },
  {
   "cell_type": "code",
   "execution_count": null,
   "id": "43051035",
   "metadata": {},
   "outputs": [],
   "source": [
    "tc.get(name=portal_taiga['internal'], file='CCLE_gene_cn')"
   ]
  },
  {
   "cell_type": "code",
   "execution_count": null,
   "id": "5355d665",
   "metadata": {},
   "outputs": [],
   "source": [
    "CCLE_segment_cn = tc.get(name='internal-22q2-097a', version=10, file='CCLE_segment_cn')\n",
    "CCLE_segment_cn"
   ]
  },
  {
   "cell_type": "code",
   "execution_count": null,
   "id": "4e99c523",
   "metadata": {},
   "outputs": [],
   "source": [
    "for i in CCLE_segment_cn.DepMap_ID.unique().tolist():\n",
    "    if len(CCLE_segment_cn[CCLE_segment_cn.DepMap_ID == i].Source.unique()) > 1:\n",
    "        print(i)"
   ]
  },
  {
   "cell_type": "code",
   "execution_count": null,
   "id": "bbb6ad24",
   "metadata": {},
   "outputs": [],
   "source": [
    "CCLE_segment_cn.Source.unique().tolist()"
   ]
  },
  {
   "cell_type": "code",
   "execution_count": null,
   "id": "2eee01be",
   "metadata": {},
   "outputs": [],
   "source": [
    "from taigapy import TaigaClient\n",
    "tc = TaigaClient()\n",
    "legacy_segments = tc.get(name='copy-number-5f61', version=5, file='legacy_segments')\n",
    "legacy_segments.Source.unique()"
   ]
  },
  {
   "cell_type": "markdown",
   "id": "990ccfff",
   "metadata": {},
   "source": [
    "# transfer media annotation columns to MC tab\n",
    "first check for inconsistencies"
   ]
  },
  {
   "cell_type": "code",
   "execution_count": null,
   "id": "f4490137",
   "metadata": {},
   "outputs": [],
   "source": [
    "t = tracker.getTracker()\n",
    "mc_tracker = t[['model_condition_id', 'parent_entity_id', 'doublingt', 'CCLE_doubling_time', 'DMX_doubling_time', 'GPP_cell_doubling_time', 'mut_rate', 'characteristics', 'visual_characteristics', 'growth_pattern', 'comments', 'puromycin_selection_ug_ml', 'observed_cell_representation', 'year_passaging_billed', 'month_passaging_billed', 'observed_infection_rate', 'vol_pooled_virus_for_each_well', 'cas9_activity', 'blasticidin_selection_ug_ml', 'transfected', 'freeze_media', 'condition', 'supplements', 'base_media', 'serums', 'glutamine', 'sodium_pyruv', 'neaa', 'its', 'hepes', 'hydrocortisone', 'estradiol', 'sodium_bicarb', 'pen_strep', 'gm_csf', 'other_media']]"
   ]
  },
  {
   "cell_type": "code",
   "execution_count": null,
   "id": "40003843",
   "metadata": {},
   "outputs": [],
   "source": [
    "nodup_mc_tracker = mc_tracker.drop_duplicates(ignore_index=True)\n",
    "nodup_mc_tracker"
   ]
  },
  {
   "cell_type": "code",
   "execution_count": null,
   "id": "6f15c5e4",
   "metadata": {},
   "outputs": [],
   "source": [
    "for mc in nodup_mc_tracker.model_condition_id.unique():\n",
    "    if len(nodup_mc_tracker[nodup_mc_tracker.model_condition_id == mc]) > 1:\n",
    "        for c in nodup_mc_tracker.columns:\n",
    "            df = nodup_mc_tracker[nodup_mc_tracker.model_condition_id == mc]\n",
    "            if len(df[c].dropna().unique()) > 1:\n",
    "                print(mc, 'conflicting col: ', c)\n",
    "                print(df[c].dropna().unique())"
   ]
  },
  {
   "cell_type": "markdown",
   "id": "98f26510",
   "metadata": {},
   "source": [
    "# Correction: if a profile is on the tracker, the 'ProfileSource' should be 'bam'. Otherwise, it should be 'taiga'"
   ]
  },
  {
   "cell_type": "code",
   "execution_count": null,
   "id": "956c62c4",
   "metadata": {},
   "outputs": [],
   "source": [
    "pr_tab = Sheets.from_files(MY_ID, MYSTORAGE_ID).get(\"https://docs.google.com/spreadsheets/d/10Lg0xkT5OHLYgJ9VKpkh8VR64TXfxPVJXRVAckU8uBg\").sheets[0].to_frame(index_col=0, header=1)\n",
    "t = tracker.getTracker()\n",
    "\n",
    "for i in pr_tab.index:\n",
    "    if i in t.profile_id.tolist():\n",
    "        pr_tab.loc[i, 'ProfileSource'] = 'bam'\n",
    "    else:\n",
    "        pr_tab.loc[i, 'ProfileSource'] = 'taiga'\n",
    "\n",
    "sheet = gc.open('Backfilled profile IDs')\n",
    "wksht = sheet.worksheet('title','OmicsProfile')\n",
    "wksht.set_dataframe(pr_tab, 'A2', copy_index=True, nan='')"
   ]
  },
  {
   "cell_type": "code",
   "execution_count": null,
   "id": "886cf79f",
   "metadata": {},
   "outputs": [],
   "source": [
    "rna_t = t[t.datatype == 'rna']\n",
    "len(rna_t.arxspan_id.unique())"
   ]
  },
  {
   "cell_type": "code",
   "execution_count": null,
   "id": "58a047e7",
   "metadata": {},
   "outputs": [],
   "source": [
    "len(rna_t.profile_id.unique())"
   ]
  },
  {
   "cell_type": "code",
   "execution_count": null,
   "id": "95fd47e7",
   "metadata": {},
   "outputs": [],
   "source": [
    "dna_t = t[t.datatype.isin(['wgs', 'wes'])]\n",
    "len(dna_t.arxspan_id.unique())"
   ]
  },
  {
   "cell_type": "code",
   "execution_count": null,
   "id": "808a67df",
   "metadata": {},
   "outputs": [],
   "source": [
    "len(dna_t.profile_id.unique())"
   ]
  },
  {
   "cell_type": "markdown",
   "id": "15206b65",
   "metadata": {},
   "source": [
    "# add profile ids to legacy datasets"
   ]
  },
  {
   "cell_type": "code",
   "execution_count": null,
   "id": "50ecb9bb",
   "metadata": {},
   "outputs": [],
   "source": [
    "from taigapy import TaigaClient\n",
    "tc = TaigaClient()\n",
    "legacy_hybridcapture = tc.get(name='mutations-da6a', version=10, file='legacy_hybridcapture')\n",
    "legacy_raindance = tc.get(name='mutations-da6a', version=10, file='legacy_raindance')\n",
    "legacy_rna = tc.get(name='mutations-da6a', version=10, file='legacy_rna')\n",
    "legacy_wes_sanger = tc.get(name='mutations-da6a', version=10, file='legacy_wes_sanger')\n",
    "legacy_wgs_exoniconly = tc.get(name='mutations-da6a', version=10, file='legacy_wgs_exoniconly')"
   ]
  },
  {
   "cell_type": "code",
   "execution_count": null,
   "id": "8e7403ae",
   "metadata": {},
   "outputs": [],
   "source": [
    "t = tracker.getTracker()\n",
    "hc_t = t[(t.datatype == 'hybrid_capture') & (t.arxspan_id.isin(legacy_hybridcapture.DepMap_ID))]\n",
    "hc_dict = dict(zip(hc_t.arxspan_id, hc_t.ProfileID))\n",
    "assert(set(legacy_hybridcapture.DepMap_ID).issubset(hc_dict.keys()))\n",
    "legacy_hybridcapture['ProfileID'] = legacy_hybridcapture['DepMap_ID'].map(hc_dict)\n",
    "legacy_hybridcapture.to_csv('../temp/legacy_hybridcapture.csv', index=False)"
   ]
  },
  {
   "cell_type": "code",
   "execution_count": null,
   "id": "a1b76ba4",
   "metadata": {},
   "outputs": [],
   "source": [
    "rd_t = t[(t.datatype == 'raindance') & (t.arxspan_id.isin(legacy_raindance.DepMap_ID))]\n",
    "rd_dict = dict(zip(rd_t.arxspan_id, rd_t.ProfileID))\n",
    "assert(set(legacy_raindance.DepMap_ID).issubset(rd_dict.keys()))\n",
    "legacy_raindance['ProfileID'] = legacy_raindance['DepMap_ID'].map(hc_dict)\n",
    "legacy_raindance.to_csv('../temp/legacy_raindance.csv', index=False)"
   ]
  },
  {
   "cell_type": "code",
   "execution_count": null,
   "id": "41289781",
   "metadata": {},
   "outputs": [],
   "source": [
    "legacy_raindance"
   ]
  },
  {
   "cell_type": "code",
   "execution_count": null,
   "id": "537a9f8e",
   "metadata": {},
   "outputs": [],
   "source": []
  },
  {
   "cell_type": "code",
   "execution_count": null,
   "id": "5b7394f8",
   "metadata": {},
   "outputs": [],
   "source": []
  },
  {
   "cell_type": "code",
   "execution_count": null,
   "id": "47f5ac0f",
   "metadata": {},
   "outputs": [],
   "source": [
    "tc.update_dataset(changes_description=\"add ProfileID column\",\n",
    "                dataset_permaname='mutations-da6a',\n",
    "                upload_files=[\n",
    "                  {\n",
    "                      \"path\": '../temp/legacy_hybridcapture.csv',\n",
    "                      \"format\": \"TableCSV\",\n",
    "                      \"encoding\": \"utf-8\"\n",
    "                  },\n",
    "                  {\n",
    "                      \"path\": '../temp/legacy_raindance.csv',\n",
    "                      \"format\": \"TableCSV\",\n",
    "                      \"encoding\": \"utf-8\"\n",
    "                  },\n",
    "                  {\n",
    "                      \"path\": '../temp/legacy_rna.csv',\n",
    "                      \"format\": \"TableCSV\",\n",
    "                      \"encoding\": \"utf-8\"\n",
    "                  },\n",
    "                  {\n",
    "                      \"path\": '../temp/legacy_wes_sanger.csv',\n",
    "                      \"format\": \"TableCSV\",\n",
    "                      \"encoding\": \"utf-8\"\n",
    "                  },\n",
    "                  {\n",
    "                      \"path\": '../temp/legacy_wgs_exoniconly.csv',\n",
    "                      \"format\": \"TableCSV\",\n",
    "                      \"encoding\": \"utf-8\"\n",
    "                  },\n",
    "                ],\n",
    "                dataset_description=\"where the legacy mutation lies\")"
   ]
  },
  {
   "cell_type": "code",
   "execution_count": null,
   "id": "e5d957aa",
   "metadata": {},
   "outputs": [],
   "source": []
  }
 ],
 "metadata": {
  "kernelspec": {
   "display_name": "Python 3",
   "language": "python",
   "name": "python3"
  },
  "language_info": {
   "codemirror_mode": {
    "name": "ipython",
    "version": 3
   },
   "file_extension": ".py",
   "mimetype": "text/x-python",
   "name": "python",
   "nbconvert_exporter": "python",
   "pygments_lexer": "ipython3",
   "version": "3.8.2"
  }
 },
 "nbformat": 4,
 "nbformat_minor": 5
}
