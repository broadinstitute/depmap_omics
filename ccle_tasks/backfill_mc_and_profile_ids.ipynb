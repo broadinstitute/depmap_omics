{
 "cells": [
  {
   "cell_type": "code",
   "execution_count": null,
   "id": "944a8d64",
   "metadata": {},
   "outputs": [],
   "source": [
    "from depmapomics import tracker \n",
    "import pandas as pd\n",
    "from genepy.utils import helper as h"
   ]
  },
  {
   "cell_type": "code",
   "execution_count": null,
   "id": "fca504fa",
   "metadata": {},
   "outputs": [],
   "source": [
    "t = tracker.getTracker()"
   ]
  },
  {
   "cell_type": "code",
   "execution_count": null,
   "id": "5c6f5416",
   "metadata": {},
   "outputs": [],
   "source": [
    "for a in t.arxspan_id.unique():\n",
    "    entries = t[t.arxspan_id == a]\n",
    "    if \"SANGER\" in entries.source.tolist():\n",
    "        sangerid = \"MC-\" + a[4:] + \"-\" + h.randomString(stringLength=4, stype=\"all\", withdigits=True)\n",
    "        sangeridx = t[(t.source == \"SANGER\") & (t.arxspan_id == a)].index\n",
    "        t.loc[sangeridx, \"model_condition_id\"] = sangerid\n",
    "    broadidx = t[(~t.source.isin([\"SANGER\"])) & (t.arxspan_id == a)].index\n",
    "    broadid = \"MC-\" + a[4:] + \"-\" + h.randomString(stringLength=4, stype=\"all\", withdigits=True)\n",
    "    t.loc[broadidx, \"model_condition_id\"] = broadid"
   ]
  },
  {
   "cell_type": "code",
   "execution_count": null,
   "id": "afe7fe53",
   "metadata": {},
   "outputs": [],
   "source": [
    "t[t.model_condition_id.isnull()]"
   ]
  },
  {
   "cell_type": "code",
   "execution_count": null,
   "id": "1c066210",
   "metadata": {},
   "outputs": [],
   "source": [
    "check = [x[-4:] for x in t.model_condition_id.unique().tolist()]\n",
    "len(check)"
   ]
  },
  {
   "cell_type": "code",
   "execution_count": null,
   "id": "33b2920b",
   "metadata": {},
   "outputs": [],
   "source": [
    "len(set(check))"
   ]
  },
  {
   "cell_type": "code",
   "execution_count": null,
   "id": "03c1c7e5",
   "metadata": {},
   "outputs": [],
   "source": [
    "from genepy.google.google_sheet import dfToSheet\n",
    "\n",
    "dfToSheet(t, \"Copy of ccle sample tracker - 030422\", secret=\"../../.credentials.json\")"
   ]
  },
  {
   "cell_type": "code",
   "execution_count": null,
   "id": "fe1bc9bb",
   "metadata": {},
   "outputs": [],
   "source": [
    "# t = tracker.getTracker()\n",
    "for mc in t.model_condition_id.unique():\n",
    "    entries = t[t.model_condition_id == mc]\n",
    "    for d in entries.datatype.unique():\n",
    "        idx = t[(t.model_condition_id == mc) & (t.datatype == d)].index\n",
    "        t.loc[idx, 'profile_id'] = \"PR-\" + h.randomString(stringLength=6, stype=\"all\", withdigits=True)"
   ]
  },
  {
   "cell_type": "code",
   "execution_count": null,
   "id": "f73449da",
   "metadata": {},
   "outputs": [],
   "source": [
    "t[t.profile_id.isnull()]"
   ]
  },
  {
   "cell_type": "code",
   "execution_count": null,
   "id": "f2b422ce",
   "metadata": {},
   "outputs": [],
   "source": [
    "len((t['model_condition_id'] + t['profile_id']).unique())"
   ]
  },
  {
   "cell_type": "code",
   "execution_count": null,
   "id": "96d1d798",
   "metadata": {},
   "outputs": [],
   "source": [
    "len(t.profile_id.unique())"
   ]
  },
  {
   "cell_type": "code",
   "execution_count": null,
   "id": "bc43e5b0",
   "metadata": {},
   "outputs": [],
   "source": [
    "dfToSheet(t, \"Copy of ccle sample tracker - 030422\", secret=\"../../.credentials.json\")"
   ]
  },
  {
   "cell_type": "code",
   "execution_count": null,
   "id": "791c0a25",
   "metadata": {},
   "outputs": [],
   "source": []
  }
 ],
 "metadata": {
  "kernelspec": {
   "display_name": "Python 3",
   "language": "python",
   "name": "python3"
  },
  "language_info": {
   "codemirror_mode": {
    "name": "ipython",
    "version": 3
   },
   "file_extension": ".py",
   "mimetype": "text/x-python",
   "name": "python",
   "nbconvert_exporter": "python",
   "pygments_lexer": "ipython3",
   "version": "3.8.2"
  }
 },
 "nbformat": 4,
 "nbformat_minor": 5
}
