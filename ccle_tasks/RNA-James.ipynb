{
 "cells": [
  {
   "cell_type": "code",
   "execution_count": 2,
   "metadata": {},
   "outputs": [],
   "source": [
    "from __future__ import print_function\n",
    "import os.path\n",
    "import dalmatian as dm\n",
    "import pandas as pd\n",
    "import sys\n",
    "sys.path.insert(0, '../')\n",
    "from CCLE_postp_function import CreateDatasetWithNewCellLines\n",
    "sys.path.insert(0, '../../JKBio/')\n",
    "import datanalytics as da \n",
    "import TerraFunction as terra\n",
    "%load_ext autoreload\n",
    "%autoreload 2\n",
    "%load_ext rpy2.ipython\n",
    "from taigapy import TaigaClient\n",
    "tc = TaigaClient()"
   ]
  },
  {
   "cell_type": "code",
   "execution_count": 3,
   "metadata": {},
   "outputs": [],
   "source": [
    "refnamespace=\"broad-firecloud-ccle\"\n",
    "refworkspace=\"DepMap_hg38_RNAseq\"\n",
    "source=\"Unknown\"\n",
    "samplesetname=\"james_rna\"\n",
    "gcpfolder= 'jkobject'\n",
    "prefix='rnaseq_james/'\n",
    "release = samplesetname"
   ]
  },
  {
   "cell_type": "code",
   "execution_count": 4,
   "metadata": {},
   "outputs": [],
   "source": [
    "refwm = dm.WorkspaceManager(refnamespace, refworkspace)"
   ]
  },
  {
   "cell_type": "markdown",
   "metadata": {},
   "source": [
    "# Generate sample set from new samples"
   ]
  },
  {
   "cell_type": "code",
   "execution_count": 13,
   "metadata": {
    "scrolled": false
   },
   "outputs": [
    {
     "name": "stdout",
     "output_type": "stream",
     "text": [
      "please be sure you gave access to your terra email account access to this bucket\n",
      "unrecognized file type : rnaseq_james/\n",
      "{'sample_id': ['A0029D_1', 'A0029D_2', 'A0029D_3', 'A0029T_1', 'A0029T_2', 'A0029T_3', 'A0069D_1', 'A0069D_2', 'A0069D_3', 'A0069T_1', 'A0069T_2', 'A0069T_3', 'A0087D_1', 'A0087D_2', 'A0087D_3', 'A0087T_1', 'A0087T_2', 'A0087T_3', 'A0233D_1', 'A0233D_2', 'A0233D_3', 'A0233T_1', 'A0233T_2', 'A0233T_3', 'A0368D_1', 'A0368D_2', 'A0368D_3', 'A0368T_1', 'A0368T_2', 'A0368T_3', 'A0405D_1', 'A0405D_2', 'A0405D_3', 'A0405T_1', 'A0405T_2', 'A0405T_3', 'A0407D_1', 'A0407D_2', 'A0407D_3', 'A0407T_1', 'A0407T_2', 'A0407T_3', 'A0465D_1', 'A0465D_2', 'A0465D_3', 'A0465T_1', 'A0465T_2', 'A0465T_3'], 'fastq1': ['gs://jkobject/rnaseq_james/A0029D_1_1.fq.gz', 'gs://jkobject/rnaseq_james/A0029D_2_1.fq.gz', 'gs://jkobject/rnaseq_james/A0029D_3_1.fq.gz', 'gs://jkobject/rnaseq_james/A0029T_1_1.fq.gz', 'gs://jkobject/rnaseq_james/A0029T_2_1.fq.gz', 'gs://jkobject/rnaseq_james/A0029T_3_1.fq.gz', 'gs://jkobject/rnaseq_james/A0069D_1_1.fq.gz', 'gs://jkobject/rnaseq_james/A0069D_2_1.fq.gz', 'gs://jkobject/rnaseq_james/A0069D_3_1.fq.gz', 'gs://jkobject/rnaseq_james/A0069T_1_1.fq.gz', 'gs://jkobject/rnaseq_james/A0069T_2_1.fq.gz', 'gs://jkobject/rnaseq_james/A0069T_3_1.fq.gz', 'gs://jkobject/rnaseq_james/A0087D_1_1.fq.gz', 'gs://jkobject/rnaseq_james/A0087D_2_1.fq.gz', 'gs://jkobject/rnaseq_james/A0087D_3_1.fq.gz', 'gs://jkobject/rnaseq_james/A0087T_1_1.fq.gz', 'gs://jkobject/rnaseq_james/A0087T_2_1.fq.gz', 'gs://jkobject/rnaseq_james/A0087T_3_1.fq.gz', 'gs://jkobject/rnaseq_james/A0233D_1_1.fq.gz', 'gs://jkobject/rnaseq_james/A0233D_2_1.fq.gz', 'gs://jkobject/rnaseq_james/A0233D_3_1.fq.gz', 'gs://jkobject/rnaseq_james/A0233T_1_1.fq.gz', 'gs://jkobject/rnaseq_james/A0233T_2_1.fq.gz', 'gs://jkobject/rnaseq_james/A0233T_3_1.fq.gz', 'gs://jkobject/rnaseq_james/A0368D_1_1.fq.gz', 'gs://jkobject/rnaseq_james/A0368D_2_1.fq.gz', 'gs://jkobject/rnaseq_james/A0368D_3_1.fq.gz', 'gs://jkobject/rnaseq_james/A0368T_1_1.fq.gz', 'gs://jkobject/rnaseq_james/A0368T_2_1.fq.gz', 'gs://jkobject/rnaseq_james/A0368T_3_1.fq.gz', 'gs://jkobject/rnaseq_james/A0405D_1_1.fq.gz', 'gs://jkobject/rnaseq_james/A0405D_2_1.fq.gz', 'gs://jkobject/rnaseq_james/A0405D_3_1.fq.gz', 'gs://jkobject/rnaseq_james/A0405T_1_1.fq.gz', 'gs://jkobject/rnaseq_james/A0405T_2_1.fq.gz', 'gs://jkobject/rnaseq_james/A0405T_3_1.fq.gz', 'gs://jkobject/rnaseq_james/A0407D_1_1.fq.gz', 'gs://jkobject/rnaseq_james/A0407D_2_1.fq.gz', 'gs://jkobject/rnaseq_james/A0407D_3_1.fq.gz', 'gs://jkobject/rnaseq_james/A0407T_1_1.fq.gz', 'gs://jkobject/rnaseq_james/A0407T_2_1.fq.gz', 'gs://jkobject/rnaseq_james/A0407T_3_1.fq.gz', 'gs://jkobject/rnaseq_james/A0465D_1_1.fq.gz', 'gs://jkobject/rnaseq_james/A0465D_2_1.fq.gz', 'gs://jkobject/rnaseq_james/A0465D_3_1.fq.gz', 'gs://jkobject/rnaseq_james/A0465T_1_1.fq.gz', 'gs://jkobject/rnaseq_james/A0465T_2_1.fq.gz', 'gs://jkobject/rnaseq_james/A0465T_3_1.fq.gz'], 'fastq2': ['gs://jkobject/rnaseq_james/A0029D_1_2.fq.gz', 'gs://jkobject/rnaseq_james/A0029D_2_2.fq.gz', 'gs://jkobject/rnaseq_james/A0029D_3_2.fq.gz', 'gs://jkobject/rnaseq_james/A0029T_1_2.fq.gz', 'gs://jkobject/rnaseq_james/A0029T_2_2.fq.gz', 'gs://jkobject/rnaseq_james/A0029T_3_2.fq.gz', 'gs://jkobject/rnaseq_james/A0069D_1_2.fq.gz', 'gs://jkobject/rnaseq_james/A0069D_2_2.fq.gz', 'gs://jkobject/rnaseq_james/A0069D_3_2.fq.gz', 'gs://jkobject/rnaseq_james/A0069T_1_2.fq.gz', 'gs://jkobject/rnaseq_james/A0069T_2_2.fq.gz', 'gs://jkobject/rnaseq_james/A0069T_3_2.fq.gz', 'gs://jkobject/rnaseq_james/A0087D_1_2.fq.gz', 'gs://jkobject/rnaseq_james/A0087D_2_2.fq.gz', 'gs://jkobject/rnaseq_james/A0087D_3_2.fq.gz', 'gs://jkobject/rnaseq_james/A0087T_1_2.fq.gz', 'gs://jkobject/rnaseq_james/A0087T_2_2.fq.gz', 'gs://jkobject/rnaseq_james/A0087T_3_2.fq.gz', 'gs://jkobject/rnaseq_james/A0233D_1_2.fq.gz', 'gs://jkobject/rnaseq_james/A0233D_2_2.fq.gz', 'gs://jkobject/rnaseq_james/A0233D_3_2.fq.gz', 'gs://jkobject/rnaseq_james/A0233T_1_2.fq.gz', 'gs://jkobject/rnaseq_james/A0233T_2_2.fq.gz', 'gs://jkobject/rnaseq_james/A0233T_3_2.fq.gz', 'gs://jkobject/rnaseq_james/A0368D_1_2.fq.gz', 'gs://jkobject/rnaseq_james/A0368D_2_2.fq.gz', 'gs://jkobject/rnaseq_james/A0368D_3_2.fq.gz', 'gs://jkobject/rnaseq_james/A0368T_1_2.fq.gz', 'gs://jkobject/rnaseq_james/A0368T_2_2.fq.gz', 'gs://jkobject/rnaseq_james/A0368T_3_2.fq.gz', 'gs://jkobject/rnaseq_james/A0405D_1_2.fq.gz', 'gs://jkobject/rnaseq_james/A0405D_2_2.fq.gz', 'gs://jkobject/rnaseq_james/A0405D_3_2.fq.gz', 'gs://jkobject/rnaseq_james/A0405T_1_2.fq.gz', 'gs://jkobject/rnaseq_james/A0405T_2_2.fq.gz', 'gs://jkobject/rnaseq_james/A0405T_3_2.fq.gz', 'gs://jkobject/rnaseq_james/A0407D_1_2.fq.gz', 'gs://jkobject/rnaseq_james/A0407D_2_2.fq.gz', 'gs://jkobject/rnaseq_james/A0407D_3_2.fq.gz', 'gs://jkobject/rnaseq_james/A0407T_1_2.fq.gz', 'gs://jkobject/rnaseq_james/A0407T_2_2.fq.gz', 'gs://jkobject/rnaseq_james/A0407T_3_2.fq.gz', 'gs://jkobject/rnaseq_james/A0465D_1_2.fq.gz', 'gs://jkobject/rnaseq_james/A0465D_2_2.fq.gz', 'gs://jkobject/rnaseq_james/A0465D_3_2.fq.gz', 'gs://jkobject/rnaseq_james/A0465T_1_2.fq.gz', 'gs://jkobject/rnaseq_james/A0465T_2_2.fq.gz', 'gs://jkobject/rnaseq_james/A0465T_3_2.fq.gz']}\n",
      "Successfully imported 48 participants.\n",
      "Successfully imported 48 samples.\n",
      "Successfully imported 1 sample sets:\n",
      "  * rnaseq_james (48 samples)\n"
     ]
    }
   ],
   "source": [
    "terra.UploadFromFolder(gcpfolder, prefix, refwm, samplesetname=samplesetname, sep='@')"
   ]
  },
  {
   "cell_type": "markdown",
   "metadata": {},
   "source": [
    "# run the pipeline"
   ]
  },
  {
   "cell_type": "markdown",
   "metadata": {},
   "source": [
    "### if submitted as bams"
   ]
  },
  {
   "cell_type": "code",
   "execution_count": 41,
   "metadata": {
    "scrolled": true
   },
   "outputs": [
    {
     "data": {
      "text/plain": [
       "{'deleted': False,\n",
       " 'inputs': {'samtofastq_workflow.samtofastq.prefix': 'this.name',\n",
       "  'samtofastq_workflow.samtofastq.disk_space': '50',\n",
       "  'samtofastq_workflow.samtofastq.num_threads': '1',\n",
       "  'samtofastq_workflow.samtofastq.memory': '3',\n",
       "  'samtofastq_workflow.samtofastq.num_preempt': '5',\n",
       "  'samtofastq_workflow.samtofastq.input_bam_cram': 'this.WES_bam'},\n",
       " 'methodConfigVersion': 2,\n",
       " 'methodRepoMethod': {'methodName': 'samtofastq_v1-0_BETA',\n",
       "  'methodVersion': 5,\n",
       "  'methodNamespace': 'broadinstitute_gtex',\n",
       "  'methodUri': 'agora://broadinstitute_gtex/samtofastq_v1-0_BETA/5',\n",
       "  'sourceRepo': 'agora'},\n",
       " 'name': 'samtofastq_v1-0_BETA_cfg',\n",
       " 'namespace': 'broadinstitute_gtex',\n",
       " 'outputs': {'samtofastq_workflow.samtofastq.fastq1': 'this.fastq1',\n",
       "  'samtofastq_workflow.samtofastq.fastq2': 'this.fastq2'},\n",
       " 'prerequisites': {},\n",
       " 'rootEntityType': 'sample'}"
      ]
     },
     "execution_count": 41,
     "metadata": {},
     "output_type": "execute_result"
    }
   ],
   "source": [
    "samtofastq = refwm.get_config(\"samtofastq_v1-0_BETA_cfg\")\n",
    "samtofastq"
   ]
  },
  {
   "cell_type": "code",
   "execution_count": 25,
   "metadata": {},
   "outputs": [
    {
     "name": "stdout",
     "output_type": "stream",
     "text": [
      "Successfully created submission b09e54b1-4280-440a-9dd3-6926ca793056.\n"
     ]
    },
    {
     "data": {
      "text/plain": [
       "'b09e54b1-4280-440a-9dd3-6926ca793056'"
      ]
     },
     "execution_count": 25,
     "metadata": {},
     "output_type": "execute_result"
    }
   ],
   "source": [
    "samtofastq['samtofastq_workflow.samtofastq.input_bam_cram']= 'this.WES_bam'\n",
    "refwm.update_config(samtofastq)\n",
    "submission_id = refwm.create_submission(samtofastq['name'], samplesetname,'sample_set',expression='this.samples')\n"
   ]
  },
  {
   "cell_type": "code",
   "execution_count": null,
   "metadata": {},
   "outputs": [],
   "source": [
    "wait_for_submission(refwm, submission_id1)"
   ]
  },
  {
   "cell_type": "markdown",
   "metadata": {},
   "source": [
    "### else as fastqs"
   ]
  },
  {
   "cell_type": "code",
   "execution_count": 14,
   "metadata": {
    "scrolled": true
   },
   "outputs": [
    {
     "data": {
      "text/plain": [
       "{'deleted': False,\n",
       " 'inputs': {'star_workflow.star.outSAMattrRGline': '\"ID:rg1 SM:sm1\"',\n",
       "  'star_workflow.star.num_threads': '8',\n",
       "  'star_workflow.star.alignSoftClipAtReferenceEnds': '\"Yes\"',\n",
       "  'star_workflow.star.alignMatesGapMax': '1000000',\n",
       "  'star_workflow.star.outFilterType': '\"BySJout\"',\n",
       "  'star_workflow.star.prefix': 'this.name',\n",
       "  'star_workflow.star.num_preempt': '5',\n",
       "  'star_workflow.star.alignSJoverhangMin': '8',\n",
       "  'star_workflow.star.chimOutJunctionFormat': '1',\n",
       "  'star_workflow.star.memory': '52',\n",
       "  'star_workflow.star.fastq2': 'this.fastq2',\n",
       "  'star_workflow.star.outFilterMismatchNoverLmax': '0.1',\n",
       "  'star_workflow.star.alignIntronMax': '1000000',\n",
       "  'star_workflow.star.star_index': 'workspace.star_index',\n",
       "  'star_workflow.star.outSAMattributes': '\"NH HI AS nM NM ch\"',\n",
       "  'star_workflow.star.outSAMstrandField': '\"intronMotif\"',\n",
       "  'star_workflow.star.limitSjdbInsertNsj': '1200000',\n",
       "  'star_workflow.star.chimSegmentMin': '15',\n",
       "  'star_workflow.star.chimJunctionOverhangMin': '15',\n",
       "  'star_workflow.star.fastq1': 'this.fastq1',\n",
       "  'star_workflow.star.chimOutType': '\"Junctions WithinBAM SoftClip\"',\n",
       "  'star_workflow.star.quantMode': '\"TranscriptomeSAM GeneCounts\"',\n",
       "  'star_workflow.star.disk_space': '250',\n",
       "  'star_workflow.star.outFilterScoreMinOverLread': '0.33',\n",
       "  'star_workflow.star.chimMainSegmentMultNmax': '1',\n",
       "  'star_workflow.star.alignIntronMin': '20',\n",
       "  'star_workflow.star.outFilterMismatchNmax': '999',\n",
       "  'star_workflow.star.outFilterMultimapNmax': '20',\n",
       "  'star_workflow.star.outFilterMatchNminOverLread': '0.33',\n",
       "  'star_workflow.star.alignSJDBoverhangMin': '1',\n",
       "  'star_workflow.star.outFilterIntronMotifs': '\"None\"'},\n",
       " 'methodConfigVersion': 5,\n",
       " 'methodRepoMethod': {'methodName': 'star_v1-0_BETA',\n",
       "  'methodVersion': 7,\n",
       "  'methodNamespace': 'broadinstitute_gtex',\n",
       "  'methodUri': 'agora://broadinstitute_gtex/star_v1-0_BETA/7',\n",
       "  'sourceRepo': 'agora'},\n",
       " 'name': 'star_v1-0_BETA_cfg',\n",
       " 'namespace': 'broadinstitute_gtex',\n",
       " 'outputs': {'star_workflow.star.chimeric_bam_file': 'this.star_chimeric_bam_file',\n",
       "  'star_workflow.star.junctions': 'this.star_junctions',\n",
       "  'star_workflow.star.transcriptome_bam': 'this.star_transcriptome_bam',\n",
       "  'star_workflow.star.chimeric_junctions': 'this.star_chimeric_junctions',\n",
       "  'star_workflow.star.junctions_pass1': 'this.star_junctions_pass1',\n",
       "  'star_workflow.star.bam_file': 'this.star_bam_file',\n",
       "  'star_workflow.star.read_counts': 'this.star_read_counts',\n",
       "  'star_workflow.star.chimeric_bam_index': 'this.star_chimeric_bam_index',\n",
       "  'star_workflow.star.bam_index': 'this.star_bam_index',\n",
       "  'star_workflow.star.logs': 'this.star_logs'},\n",
       " 'prerequisites': {},\n",
       " 'rootEntityType': 'sample'}"
      ]
     },
     "execution_count": 14,
     "metadata": {},
     "output_type": "execute_result"
    }
   ],
   "source": [
    "star = refwm.get_config(\"star_v1-0_BETA_cfg\")\n",
    "star"
   ]
  },
  {
   "cell_type": "code",
   "execution_count": 15,
   "metadata": {},
   "outputs": [
    {
     "name": "stdout",
     "output_type": "stream",
     "text": [
      "Successfully updated configuration broadinstitute_gtex/star_v1-0_BETA_cfg\n",
      "Successfully created submission 35318d38-6fa8-400e-b39c-a3f3627230af.\n"
     ]
    }
   ],
   "source": [
    "refwm.update_config(star)\n",
    "submission_id = refwm.create_submission(star['name'], samplesetname,'sample_set',expression='this.samples')"
   ]
  },
  {
   "cell_type": "code",
   "execution_count": null,
   "metadata": {},
   "outputs": [],
   "source": [
    "terra.wait_for_submission(refwm, submission_id)"
   ]
  },
  {
   "cell_type": "code",
   "execution_count": 4,
   "metadata": {
    "scrolled": true
   },
   "outputs": [
    {
     "data": {
      "text/plain": [
       "{'deleted': False,\n",
       " 'inputs': {'rsem_workflow.rsem.transcriptome_bam': 'this.star_transcriptome_bam',\n",
       "  'rsem_workflow.rsem.max_frag_len': '1000',\n",
       "  'rsem_workflow.rsem.memory': '50',\n",
       "  'rsem_workflow.rsem.prefix': 'this.name',\n",
       "  'rsem_workflow.rsem.disk_space': '100',\n",
       "  'rsem_workflow.rsem.estimate_rspd': '\"true\"',\n",
       "  'rsem_workflow.rsem.is_stranded': '\"false\"',\n",
       "  'rsem_workflow.rsem.rsem_reference': 'workspace.rsem_reference',\n",
       "  'rsem_workflow.rsem.num_preempt': '5',\n",
       "  'rsem_workflow.rsem.num_threads': '2'},\n",
       " 'methodConfigVersion': 4,\n",
       " 'methodRepoMethod': {'methodName': 'rsem_v1-0_BETA',\n",
       "  'methodVersion': 4,\n",
       "  'methodNamespace': 'broadinstitute_gtex',\n",
       "  'methodUri': 'agora://broadinstitute_gtex/rsem_v1-0_BETA/4',\n",
       "  'sourceRepo': 'agora'},\n",
       " 'name': 'rsem_v1-0_BETA_cfg',\n",
       " 'namespace': 'broadinstitute_gtex',\n",
       " 'outputs': {'rsem_workflow.rsem.genes': 'this.rsem_genes',\n",
       "  'rsem_workflow.rsem.isoforms': 'this.rsem_isoforms'},\n",
       " 'prerequisites': {},\n",
       " 'rootEntityType': 'sample'}"
      ]
     },
     "execution_count": 4,
     "metadata": {},
     "output_type": "execute_result"
    }
   ],
   "source": [
    "rsem = refwm.get_config(\"rsem_v1-0_BETA_cfg\")\n",
    "rsem"
   ]
  },
  {
   "cell_type": "code",
   "execution_count": 5,
   "metadata": {},
   "outputs": [
    {
     "name": "stdout",
     "output_type": "stream",
     "text": [
      "Successfully updated configuration broadinstitute_gtex/rsem_v1-0_BETA_cfg\n",
      "Successfully created submission a52b20b8-64f8-4cf5-bfaf-0fc45550ac25.\n"
     ]
    }
   ],
   "source": [
    "refwm.update_config(rsem)\n",
    "submission_id1 = refwm.create_submission(rsem['name'], samplesetname,'sample_set',expression='this.samples')"
   ]
  },
  {
   "cell_type": "code",
   "execution_count": null,
   "metadata": {},
   "outputs": [],
   "source": [
    "terra.wait_for_submission(refwm, submission_id1)"
   ]
  },
  {
   "cell_type": "code",
   "execution_count": 6,
   "metadata": {
    "scrolled": true
   },
   "outputs": [
    {
     "data": {
      "text/plain": [
       "{'deleted': False,\n",
       " 'inputs': {'trinity_cleaned.StarFusion.ref_genome_fa_star_idx_files': 'workspace.hg38_star_fusion_ctat_star_index_files',\n",
       "  'trinity_cleaned.samtofastq.num_preempt': '4',\n",
       "  'trinity_cleaned.StarFusion.memory': '64',\n",
       "  'trinity_cleaned.remove_intermediate_files': 'true',\n",
       "  'trinity_cleaned.StarFusion.num_preempt': '2',\n",
       "  'trinity_cleaned.StarFusion.ctat_genome_lib_build_dir_files': 'workspace.hg38_star_fusion_ctat_files',\n",
       "  'trinity_cleaned.prefix': 'this.name',\n",
       "  'trinity_cleaned.StarFusion.num_threads': '8',\n",
       "  'trinity_cleaned.samtofastq.memory': '16',\n",
       "  'trinity_cleaned.samtofastq.num_threads': '1',\n",
       "  'trinity_cleaned.samtofastq.input_bam': 'this.WES_bam',\n",
       "  'trinity_cleaned.StarFusion.disk_space': '500',\n",
       "  'trinity_cleaned.StarFusion.docker': '\"trinityctat/ctatfusion:1.6.0\"',\n",
       "  'trinity_cleaned.samtofastq.disk_space': '100'},\n",
       " 'methodConfigVersion': 7,\n",
       " 'methodRepoMethod': {'methodName': 'STAR_fusion',\n",
       "  'methodVersion': 14,\n",
       "  'methodNamespace': 'gkugener',\n",
       "  'methodUri': 'agora://gkugener/STAR_fusion/14',\n",
       "  'sourceRepo': 'agora'},\n",
       " 'name': 'hg38_STAR_fusion',\n",
       " 'namespace': 'gkugener',\n",
       " 'outputs': {'trinity_cleaned.samtofastq.fastq1': 'this.fastq1',\n",
       "  'trinity_cleaned.samtofastq.fastq2': 'this.fastq2',\n",
       "  'trinity_cleaned.StarFusion.fusion_predictions': 'this.fusion_predictions',\n",
       "  'trinity_cleaned.StarFusion.fusion_predictions_abridged': 'this.fusion_predictions_abridged'},\n",
       " 'prerequisites': {},\n",
       " 'rootEntityType': 'sample'}"
      ]
     },
     "execution_count": 6,
     "metadata": {},
     "output_type": "execute_result"
    }
   ],
   "source": [
    "fusion = refwm.get_config(\"hg38_STAR_fusion\") \n",
    "fusion"
   ]
  },
  {
   "cell_type": "code",
   "execution_count": 7,
   "metadata": {},
   "outputs": [
    {
     "name": "stdout",
     "output_type": "stream",
     "text": [
      "Successfully updated configuration gkugener/hg38_STAR_fusion\n",
      "Successfully created submission 31bb3c99-40c0-43fa-aa80-3494166b9d22.\n"
     ]
    }
   ],
   "source": [
    "fusion['inputs']['trinity_cleaned.samtofastq.input_bam'] = 'this.WES_bam'\n",
    "refwm.update_config(fusion)\n",
    "submission_id2 = refwm.create_submission(fusion['name'], samplesetname,'sample_set',expression='this.samples')"
   ]
  },
  {
   "cell_type": "code",
   "execution_count": null,
   "metadata": {},
   "outputs": [],
   "source": [
    "wait_for_submission(refwm, submission_id1)"
   ]
  },
  {
   "cell_type": "code",
   "execution_count": 4,
   "metadata": {},
   "outputs": [
    {
     "data": {
      "text/plain": [
       "{'deleted': False,\n",
       " 'inputs': {'rsem_aggregate_results_workflow.rsem_aggregate_results.rsem_genes': 'this.samples.rsem_genes',\n",
       "  'rsem_aggregate_results_workflow.rsem_aggregate_results.num_preempt': '5',\n",
       "  'rsem_aggregate_results_workflow.rsem_aggregate_results.prefix': 'this.name',\n",
       "  'rsem_aggregate_results_workflow.rsem_aggregate_results.num_threads': '2',\n",
       "  'rsem_aggregate_results_workflow.rsem_aggregate_results.rsem_isoforms': 'this.samples.rsem_isoforms',\n",
       "  'rsem_aggregate_results_workflow.rsem_aggregate_results.disk_space': '50',\n",
       "  'rsem_aggregate_results_workflow.rsem_aggregate_results.memory': '13'},\n",
       " 'methodConfigVersion': 3,\n",
       " 'methodRepoMethod': {'methodName': 'rsem_aggregate_results_v1-0_BETA',\n",
       "  'methodVersion': 3,\n",
       "  'methodNamespace': 'broadinstitute_gtex',\n",
       "  'methodUri': 'agora://broadinstitute_gtex/rsem_aggregate_results_v1-0_BETA/3',\n",
       "  'sourceRepo': 'agora'},\n",
       " 'name': 'rsem_aggregate_results_v1-0_BETA_cfg',\n",
       " 'namespace': 'broadinstitute_gtex',\n",
       " 'outputs': {'rsem_aggregate_results_workflow.rsem_aggregate_results.genes_expected_count': 'this.rsem_genes_expected_count',\n",
       "  'rsem_aggregate_results_workflow.rsem_aggregate_results.transcripts_tpm': 'this.rsem_transcripts_tpm',\n",
       "  'rsem_aggregate_results_workflow.rsem_aggregate_results.transcripts_expected_count': 'this.rsem_transcripts_expected_count',\n",
       "  'rsem_aggregate_results_workflow.rsem_aggregate_results.genes_tpm': 'this.rsem_genes_tpm',\n",
       "  'rsem_aggregate_results_workflow.rsem_aggregate_results.transcripts_isopct': 'this.rsem_transcripts_isopct'},\n",
       " 'prerequisites': {},\n",
       " 'rootEntityType': 'sample_set'}"
      ]
     },
     "execution_count": 4,
     "metadata": {},
     "output_type": "execute_result"
    }
   ],
   "source": [
    "aggregate = refwm.get_config(\"rsem_aggregate_results_v1-0_BETA_cfg\")\n",
    "aggregate"
   ]
  },
  {
   "cell_type": "code",
   "execution_count": 5,
   "metadata": {},
   "outputs": [
    {
     "name": "stdout",
     "output_type": "stream",
     "text": [
      "Successfully created submission 089edd9a-220c-4c40-a956-9f0ae5c242d0.\n"
     ]
    }
   ],
   "source": [
    "submission_id1 = refwm.create_submission(aggregate['name'], samplesetname)"
   ]
  },
  {
   "cell_type": "markdown",
   "metadata": {},
   "source": [
    "## Expression post processing"
   ]
  },
  {
   "cell_type": "code",
   "execution_count": 5,
   "metadata": {},
   "outputs": [],
   "source": [
    "terra.wait_for_submission(refwm, submission_id1)"
   ]
  },
  {
   "cell_type": "code",
   "execution_count": 5,
   "metadata": {
    "scrolled": true
   },
   "outputs": [
    {
     "name": "stderr",
     "output_type": "stream",
     "text": [
      "2019-06-24 09:18:13::WARNING  R[write to console]: \n",
      "Attaching package: ‘dplyr’\n",
      "\n",
      "\n",
      "2019-06-24 09:18:13::WARNING  R[write to console]: The following objects are masked from ‘package:plyr’:\n",
      "\n",
      "    arrange, count, desc, failwith, id, mutate, rename, summarise,\n",
      "    summarize\n",
      "\n",
      "\n",
      "2019-06-24 09:18:13::WARNING  R[write to console]: The following objects are masked from ‘package:stats’:\n",
      "\n",
      "    filter, lag\n",
      "\n",
      "\n",
      "2019-06-24 09:18:13::WARNING  R[write to console]: The following objects are masked from ‘package:base’:\n",
      "\n",
      "    intersect, setdiff, setequal, union\n",
      "\n",
      "\n",
      "2019-06-24 09:18:14::WARNING  R[write to console]: ── \u001b[1mAttaching packages\u001b[22m ─────────────────────────────────────── tidyverse 1.2.1 ──\n",
      "\n",
      "2019-06-24 09:18:14::WARNING  R[write to console]: \u001b[32m✔\u001b[39m \u001b[34mggplot2\u001b[39m 3.1.1     \u001b[32m✔\u001b[39m \u001b[34mreadr  \u001b[39m 1.3.1\n",
      "\u001b[32m✔\u001b[39m \u001b[34mtibble \u001b[39m 2.1.3     \u001b[32m✔\u001b[39m \u001b[34mpurrr  \u001b[39m 0.3.2\n",
      "\u001b[32m✔\u001b[39m \u001b[34mtidyr  \u001b[39m 0.8.3     \u001b[32m✔\u001b[39m \u001b[34mstringr\u001b[39m 1.4.0\n",
      "\u001b[32m✔\u001b[39m \u001b[34mggplot2\u001b[39m 3.1.1     \u001b[32m✔\u001b[39m \u001b[34mforcats\u001b[39m 0.4.0\n",
      "\n",
      "2019-06-24 09:18:14::WARNING  R[write to console]: ── \u001b[1mConflicts\u001b[22m ────────────────────────────────────────── tidyverse_conflicts() ──\n",
      "\u001b[31m✖\u001b[39m \u001b[34mdplyr\u001b[39m::\u001b[32marrange()\u001b[39m   masks \u001b[34mplyr\u001b[39m::arrange()\n",
      "\u001b[31m✖\u001b[39m \u001b[34mpurrr\u001b[39m::\u001b[32mcompact()\u001b[39m   masks \u001b[34mplyr\u001b[39m::compact()\n",
      "\u001b[31m✖\u001b[39m \u001b[34mdplyr\u001b[39m::\u001b[32mcount()\u001b[39m     masks \u001b[34mplyr\u001b[39m::count()\n",
      "\u001b[31m✖\u001b[39m \u001b[34mdplyr\u001b[39m::\u001b[32mfailwith()\u001b[39m  masks \u001b[34mplyr\u001b[39m::failwith()\n",
      "\u001b[31m✖\u001b[39m \u001b[34mdplyr\u001b[39m::\u001b[32mfilter()\u001b[39m    masks \u001b[34mstats\u001b[39m::filter()\n",
      "\u001b[31m✖\u001b[39m \u001b[34mdplyr\u001b[39m::\u001b[32mid()\u001b[39m        masks \u001b[34mplyr\u001b[39m::id()\n",
      "\u001b[31m✖\u001b[39m \u001b[34mdplyr\u001b[39m::\u001b[32mlag()\u001b[39m       masks \u001b[34mstats\u001b[39m::lag()\n",
      "\u001b[31m✖\u001b[39m \u001b[34mdplyr\u001b[39m::\u001b[32mmutate()\u001b[39m    masks \u001b[34mplyr\u001b[39m::mutate()\n",
      "\u001b[31m✖\u001b[39m \u001b[34mdplyr\u001b[39m::\u001b[32mrename()\u001b[39m    masks \u001b[34mplyr\u001b[39m::rename()\n",
      "\u001b[31m✖\u001b[39m \u001b[34mdplyr\u001b[39m::\u001b[32msummarise()\u001b[39m masks \u001b[34mplyr\u001b[39m::summarise()\n",
      "\u001b[31m✖\u001b[39m \u001b[34mdplyr\u001b[39m::\u001b[32msummarize()\u001b[39m masks \u001b[34mplyr\u001b[39m::summarize()\n",
      "\n",
      "2019-06-24 09:18:14::WARNING  R[write to console]: \n",
      "Attaching package: ‘magrittr’\n",
      "\n",
      "\n",
      "2019-06-24 09:18:14::WARNING  R[write to console]: The following object is masked from ‘package:purrr’:\n",
      "\n",
      "    set_names\n",
      "\n",
      "\n",
      "2019-06-24 09:18:14::WARNING  R[write to console]: The following object is masked from ‘package:tidyr’:\n",
      "\n",
      "    extract\n",
      "\n",
      "\n",
      "2019-06-24 09:18:14::WARNING  R[write to console]: \n",
      "Attaching package: ‘reshape2’\n",
      "\n",
      "\n",
      "2019-06-24 09:18:14::WARNING  R[write to console]: The following object is masked from ‘package:tidyr’:\n",
      "\n",
      "    smiths\n",
      "\n",
      "\n",
      "2019-06-24 09:18:14::WARNING  R[write to console]: Loading required package: lpSolve\n",
      "\n",
      "2019-06-24 09:18:14::WARNING  R[write to console]: \n",
      "Attaching package: ‘zoo’\n",
      "\n",
      "\n",
      "2019-06-24 09:18:14::WARNING  R[write to console]: The following objects are masked from ‘package:base’:\n",
      "\n",
      "    as.Date, as.Date.numeric\n",
      "\n",
      "\n",
      "2019-06-24 09:18:14::WARNING  R[write to console]: \n",
      "Attaching package: ‘scales’\n",
      "\n",
      "\n",
      "2019-06-24 09:18:14::WARNING  R[write to console]: The following object is masked from ‘package:purrr’:\n",
      "\n",
      "    discard\n",
      "\n",
      "\n",
      "2019-06-24 09:18:14::WARNING  R[write to console]: The following object is masked from ‘package:readr’:\n",
      "\n",
      "    col_factor\n",
      "\n",
      "\n",
      "2019-06-24 09:18:14::WARNING  R[write to console]: \n",
      "Attaching package: ‘rlang’\n",
      "\n",
      "\n",
      "2019-06-24 09:18:14::WARNING  R[write to console]: The following object is masked from ‘package:magrittr’:\n",
      "\n",
      "    set_names\n",
      "\n",
      "\n",
      "2019-06-24 09:18:14::WARNING  R[write to console]: The following objects are masked from ‘package:purrr’:\n",
      "\n",
      "    %@%, as_function, flatten, flatten_chr, flatten_dbl, flatten_int,\n",
      "    flatten_lgl, flatten_raw, invoke, list_along, modify, prepend,\n",
      "    splice\n",
      "\n",
      "\n",
      "2019-06-24 09:18:14::WARNING  R[write to console]: Loading required package: SnowballC\n",
      "\n",
      "2019-06-24 09:18:14::WARNING  R[write to console]: \n",
      "Attaching package: ‘gridExtra’\n",
      "\n",
      "\n",
      "2019-06-24 09:18:14::WARNING  R[write to console]: The following object is masked from ‘package:dplyr’:\n",
      "\n",
      "    combine\n",
      "\n",
      "\n",
      "2019-06-24 09:18:14::WARNING  R[write to console]: \n",
      "Attaching package: ‘ggridges’\n",
      "\n",
      "\n",
      "2019-06-24 09:18:14::WARNING  R[write to console]: The following object is masked from ‘package:ggplot2’:\n",
      "\n",
      "    scale_discrete_manual\n",
      "\n",
      "\n",
      "2019-06-24 09:18:15::WARNING  R[write to console]: \n",
      "Attaching package: ‘GGally’\n",
      "\n",
      "\n",
      "2019-06-24 09:18:15::WARNING  R[write to console]: The following object is masked from ‘package:dplyr’:\n",
      "\n",
      "    nasa\n",
      "\n",
      "\n",
      "2019-06-24 09:18:15::WARNING  R[write to console]: \n",
      "Attaching package: ‘plotly’\n",
      "\n",
      "\n",
      "2019-06-24 09:18:15::WARNING  R[write to console]: The following object is masked from ‘package:ggplot2’:\n",
      "\n",
      "    last_plot\n",
      "\n",
      "\n",
      "2019-06-24 09:18:15::WARNING  R[write to console]: The following objects are masked from ‘package:plyr’:\n",
      "\n",
      "    arrange, mutate, rename, summarise\n",
      "\n",
      "\n",
      "2019-06-24 09:18:15::WARNING  R[write to console]: The following object is masked from ‘package:stats’:\n",
      "\n",
      "    filter\n",
      "\n",
      "\n",
      "2019-06-24 09:18:15::WARNING  R[write to console]: The following object is masked from ‘package:graphics’:\n",
      "\n",
      "    layout\n",
      "\n",
      "\n",
      "2019-06-24 09:18:15::WARNING  R[write to console]: Loading required package: grid\n",
      "\n",
      "2019-06-24 09:18:15::WARNING  R[write to console]: Loading required package: futile.logger\n",
      "\n",
      "2019-06-24 09:18:15::WARNING  R[write to console]: Registering fonts with R\n",
      "\n",
      "2019-06-24 09:18:15::WARNING  R[write to console]: \n",
      "Attaching package: ‘cowplot’\n",
      "\n",
      "\n",
      "2019-06-24 09:18:15::WARNING  R[write to console]: The following object is masked from ‘package:ggthemes’:\n",
      "\n",
      "    theme_map\n",
      "\n",
      "\n",
      "2019-06-24 09:18:15::WARNING  R[write to console]: The following object is masked from ‘package:ggplot2’:\n",
      "\n",
      "    ggsave\n",
      "\n",
      "\n",
      "2019-06-24 09:18:15::WARNING  R[write to console]: \n",
      "Attaching package: ‘data.table’\n",
      "\n",
      "\n",
      "2019-06-24 09:18:15::WARNING  R[write to console]: The following object is masked from ‘package:rlang’:\n",
      "\n",
      "    :=\n",
      "\n",
      "\n",
      "2019-06-24 09:18:15::WARNING  R[write to console]: The following objects are masked from ‘package:reshape2’:\n",
      "\n",
      "    dcast, melt\n",
      "\n",
      "\n",
      "2019-06-24 09:18:15::WARNING  R[write to console]: The following object is masked from ‘package:purrr’:\n",
      "\n",
      "    transpose\n",
      "\n",
      "\n",
      "2019-06-24 09:18:15::WARNING  R[write to console]: The following objects are masked from ‘package:dplyr’:\n",
      "\n",
      "    between, first, last\n",
      "\n",
      "\n",
      "2019-06-24 09:18:15::WARNING  R[write to console]: \n",
      "Attaching package: ‘DT’\n",
      "\n",
      "\n",
      "2019-06-24 09:18:15::WARNING  R[write to console]: The following object is masked from ‘package:networkD3’:\n",
      "\n",
      "    JS\n",
      "\n",
      "\n",
      "2019-06-24 09:18:15::WARNING  R[write to console]: Loading required package: stats4\n",
      "\n",
      "2019-06-24 09:18:15::WARNING  R[write to console]: Loading required package: BiocGenerics\n",
      "\n",
      "2019-06-24 09:18:15::WARNING  R[write to console]: Loading required package: parallel\n",
      "\n",
      "2019-06-24 09:18:15::WARNING  R[write to console]: \n",
      "Attaching package: ‘BiocGenerics’\n",
      "\n",
      "\n",
      "2019-06-24 09:18:15::WARNING  R[write to console]: The following objects are masked from ‘package:parallel’:\n",
      "\n",
      "    clusterApply, clusterApplyLB, clusterCall, clusterEvalQ,\n",
      "    clusterExport, clusterMap, parApply, parCapply, parLapply,\n",
      "    parLapplyLB, parRapply, parSapply, parSapplyLB\n",
      "\n",
      "\n",
      "2019-06-24 09:18:15::WARNING  R[write to console]: The following object is masked from ‘package:gridExtra’:\n",
      "\n",
      "    combine\n",
      "\n",
      "\n",
      "2019-06-24 09:18:15::WARNING  R[write to console]: The following object is masked from ‘package:limma’:\n",
      "\n",
      "    plotMA\n",
      "\n",
      "\n",
      "2019-06-24 09:18:15::WARNING  R[write to console]: The following objects are masked from ‘package:dplyr’:\n",
      "\n",
      "    combine, intersect, setdiff, union\n",
      "\n",
      "\n",
      "2019-06-24 09:18:15::WARNING  R[write to console]: The following objects are masked from ‘package:stats’:\n",
      "\n",
      "    IQR, mad, sd, var, xtabs\n",
      "\n",
      "\n",
      "2019-06-24 09:18:15::WARNING  R[write to console]: The following objects are masked from ‘package:base’:\n",
      "\n",
      "    anyDuplicated, append, as.data.frame, basename, cbind, colMeans,\n",
      "    colnames, colSums, dirname, do.call, duplicated, eval, evalq,\n",
      "    Filter, Find, get, grep, grepl, intersect, is.unsorted, lapply,\n",
      "    lengths, Map, mapply, match, mget, order, paste, pmax, pmax.int,\n",
      "    pmin, pmin.int, Position, rank, rbind, Reduce, rowMeans, rownames,\n",
      "    rowSums, sapply, setdiff, sort, table, tapply, union, unique,\n",
      "    unsplit, which, which.max, which.min\n",
      "\n",
      "\n",
      "2019-06-24 09:18:15::WARNING  R[write to console]: Loading required package: S4Vectors\n",
      "\n",
      "2019-06-24 09:18:16::WARNING  R[write to console]: \n",
      "Attaching package: ‘S4Vectors’\n",
      "\n",
      "\n"
     ]
    },
    {
     "name": "stderr",
     "output_type": "stream",
     "text": [
      "2019-06-24 09:18:16::WARNING  R[write to console]: The following objects are masked from ‘package:data.table’:\n",
      "\n",
      "    first, second\n",
      "\n",
      "\n",
      "2019-06-24 09:18:16::WARNING  R[write to console]: The following object is masked from ‘package:plotly’:\n",
      "\n",
      "    rename\n",
      "\n",
      "\n",
      "2019-06-24 09:18:16::WARNING  R[write to console]: The following object is masked from ‘package:tidyr’:\n",
      "\n",
      "    expand\n",
      "\n",
      "\n",
      "2019-06-24 09:18:16::WARNING  R[write to console]: The following objects are masked from ‘package:dplyr’:\n",
      "\n",
      "    first, rename\n",
      "\n",
      "\n",
      "2019-06-24 09:18:16::WARNING  R[write to console]: The following object is masked from ‘package:plyr’:\n",
      "\n",
      "    rename\n",
      "\n",
      "\n",
      "2019-06-24 09:18:16::WARNING  R[write to console]: The following object is masked from ‘package:base’:\n",
      "\n",
      "    expand.grid\n",
      "\n",
      "\n",
      "2019-06-24 09:18:16::WARNING  R[write to console]: Loading required package: IRanges\n",
      "\n",
      "2019-06-24 09:18:17::WARNING  R[write to console]: \n",
      "Attaching package: ‘IRanges’\n",
      "\n",
      "\n",
      "2019-06-24 09:18:17::WARNING  R[write to console]: The following object is masked from ‘package:data.table’:\n",
      "\n",
      "    shift\n",
      "\n",
      "\n",
      "2019-06-24 09:18:17::WARNING  R[write to console]: The following object is masked from ‘package:plotly’:\n",
      "\n",
      "    slice\n",
      "\n",
      "\n",
      "2019-06-24 09:18:17::WARNING  R[write to console]: The following object is masked from ‘package:purrr’:\n",
      "\n",
      "    reduce\n",
      "\n",
      "\n",
      "2019-06-24 09:18:17::WARNING  R[write to console]: The following objects are masked from ‘package:dplyr’:\n",
      "\n",
      "    collapse, desc, slice\n",
      "\n",
      "\n",
      "2019-06-24 09:18:17::WARNING  R[write to console]: The following object is masked from ‘package:plyr’:\n",
      "\n",
      "    desc\n",
      "\n",
      "\n",
      "2019-06-24 09:18:17::WARNING  R[write to console]: Loading required package: GenomeInfoDb\n",
      "\n",
      "2019-06-24 09:18:19::WARNING  R[write to console]: Loading required package: Biobase\n",
      "\n",
      "2019-06-24 09:18:19::WARNING  R[write to console]: Welcome to Bioconductor\n",
      "\n",
      "    Vignettes contain introductory material; view with\n",
      "    'browseVignettes()'. To cite Bioconductor, see\n",
      "    'citation(\"Biobase\")', and for packages 'citation(\"pkgname\")'.\n",
      "\n",
      "\n",
      "2019-06-24 09:18:19::WARNING  R[write to console]: \n",
      "Attaching package: ‘Biobase’\n",
      "\n",
      "\n",
      "2019-06-24 09:18:19::WARNING  R[write to console]: The following object is masked from ‘package:rlang’:\n",
      "\n",
      "    exprs\n",
      "\n",
      "\n",
      "2019-06-24 09:18:19::WARNING  R[write to console]: Loading required package: annotate\n",
      "\n",
      "2019-06-24 09:18:19::WARNING  R[write to console]: Loading required package: AnnotationDbi\n",
      "\n",
      "2019-06-24 09:18:19::WARNING  R[write to console]: \n",
      "Attaching package: ‘AnnotationDbi’\n",
      "\n",
      "\n",
      "2019-06-24 09:18:19::WARNING  R[write to console]: The following object is masked from ‘package:plotly’:\n",
      "\n",
      "    select\n",
      "\n",
      "\n",
      "2019-06-24 09:18:19::WARNING  R[write to console]: The following object is masked from ‘package:dplyr’:\n",
      "\n",
      "    select\n",
      "\n",
      "\n",
      "2019-06-24 09:18:19::WARNING  R[write to console]: Loading required package: XML\n",
      "\n",
      "2019-06-24 09:18:20::WARNING  R[write to console]: \n",
      "Attaching package: ‘XML’\n",
      "\n",
      "\n",
      "2019-06-24 09:18:20::WARNING  R[write to console]: The following object is masked from ‘package:tools’:\n",
      "\n",
      "    toHTML\n",
      "\n",
      "\n",
      "2019-06-24 09:18:20::WARNING  R[write to console]: Loading required package: graph\n",
      "\n",
      "2019-06-24 09:18:20::WARNING  R[write to console]: \n",
      "Attaching package: ‘graph’\n",
      "\n",
      "\n",
      "2019-06-24 09:18:20::WARNING  R[write to console]: The following object is masked from ‘package:XML’:\n",
      "\n",
      "    addNode\n",
      "\n",
      "\n",
      "2019-06-24 09:18:20::WARNING  R[write to console]: The following object is masked from ‘package:stringr’:\n",
      "\n",
      "    boundary\n",
      "\n",
      "\n",
      "2019-06-24 09:18:20::WARNING  R[write to console]: The following object is masked from ‘package:plyr’:\n",
      "\n",
      "    join\n",
      "\n",
      "\n",
      "2019-06-24 09:18:20::WARNING  R[write to console]: Loading required package: RCurl\n",
      "\n",
      "2019-06-24 09:18:20::WARNING  R[write to console]: Loading required package: bitops\n",
      "\n",
      "2019-06-24 09:18:20::WARNING  R[write to console]: \n",
      "Attaching package: ‘RCurl’\n",
      "\n",
      "\n",
      "2019-06-24 09:18:20::WARNING  R[write to console]: The following object is masked from ‘package:tidyr’:\n",
      "\n",
      "    complete\n",
      "\n",
      "\n",
      "2019-06-24 09:18:20::WARNING  R[write to console]: Loading required package: httr\n",
      "\n",
      "2019-06-24 09:18:21::WARNING  R[write to console]: \n",
      "Attaching package: ‘httr’\n",
      "\n",
      "\n",
      "2019-06-24 09:18:21::WARNING  R[write to console]: The following object is masked from ‘package:Biobase’:\n",
      "\n",
      "    content\n",
      "\n",
      "\n",
      "2019-06-24 09:18:21::WARNING  R[write to console]: The following object is masked from ‘package:plotly’:\n",
      "\n",
      "    config\n",
      "\n",
      "\n",
      "2019-06-24 09:18:21::WARNING  R[write to console]: Package 'mclust' version 5.4.3\n",
      "Type 'citation(\"mclust\")' for citing this R package in publications.\n",
      "\n",
      "2019-06-24 09:18:21::WARNING  R[write to console]: \n",
      "Attaching package: ‘mclust’\n",
      "\n",
      "\n",
      "2019-06-24 09:18:21::WARNING  R[write to console]: The following object is masked from ‘package:purrr’:\n",
      "\n",
      "    map\n",
      "\n",
      "\n"
     ]
    },
    {
     "name": "stdout",
     "output_type": "stream",
     "text": [
      "Fetching https://cds.team/taiga/api/dataset/msigdb-gene-set-collections-8453/2 \n",
      "Status 200 \n"
     ]
    },
    {
     "name": "stderr",
     "output_type": "stream",
     "text": [
      "2019-06-24 09:18:21::WARNING  R[write to console]: No encoding supplied: defaulting to UTF-8.\n",
      "\n"
     ]
    },
    {
     "name": "stdout",
     "output_type": "stream",
     "text": [
      "loading cached data version from  ~/.taiga/msigdb-gene-set-collections-8453_2.toc \n",
      "Checking for cached file ~/.taiga/495ea37b8d744a428946a5628c5fe7ce_gsc-data.raw \n"
     ]
    }
   ],
   "source": [
    "%%R\n",
    "source('../JKBio/gkugener/RScripts/load_libraries_and_annotations.R')"
   ]
  },
  {
   "cell_type": "code",
   "execution_count": 10,
   "metadata": {},
   "outputs": [],
   "source": [
    "%%R\n",
    "source('CCLE_postp_function.R')\n",
    "release <- \"james_rna\""
   ]
  },
  {
   "cell_type": "code",
   "execution_count": 10,
   "metadata": {},
   "outputs": [
    {
     "data": {
      "text/plain": [
       "fusions_star                                                                     NaN\n",
       "mergedExonUsageRObj_hg38                                                         NaN\n",
       "rsem_genes_expected_count          gs://fc-secure-639c94ba-2b0d-4960-92fc-9cd5004...\n",
       "rsem_genes_tpm                     gs://fc-secure-639c94ba-2b0d-4960-92fc-9cd5004...\n",
       "rsem_transcripts_expected_count    gs://fc-secure-639c94ba-2b0d-4960-92fc-9cd5004...\n",
       "rsem_transcripts_isopct            gs://fc-secure-639c94ba-2b0d-4960-92fc-9cd5004...\n",
       "rsem_transcripts_tpm               gs://fc-secure-639c94ba-2b0d-4960-92fc-9cd5004...\n",
       "samples                            [A0029D_1, A0029D_2, A0029D_3, A0029T_1, A0029...\n",
       "Name: rnaseq_james, dtype: object"
      ]
     },
     "execution_count": 10,
     "metadata": {},
     "output_type": "execute_result"
    }
   ],
   "source": [
    "res = refwm.get_sample_sets().loc[samplesetname]\n",
    "res"
   ]
  },
  {
   "cell_type": "code",
   "execution_count": 11,
   "metadata": {},
   "outputs": [
    {
     "name": "stdout",
     "output_type": "stream",
     "text": [
      "Copying gs://fc-secure-639c94ba-2b0d-4960-92fc-9cd50046a968/089edd9a-220c-4c40-a956-9f0ae5c242d0/rsem_aggregate_results_workflow/c4661a92-d6fe-42ca-99fd-3a14056ff10b/call-rsem_aggregate_results/rnaseq_james.rsem_transcripts_tpm.txt.gz...\n",
      "Copying gs://fc-secure-639c94ba-2b0d-4960-92fc-9cd50046a968/089edd9a-220c-4c40-a956-9f0ae5c242d0/rsem_aggregate_results_workflow/c4661a92-d6fe-42ca-99fd-3a14056ff10b/call-rsem_aggregate_results/rnaseq_james.rsem_genes_tpm.txt.gz...\n",
      "Copying gs://fc-secure-639c94ba-2b0d-4960-92fc-9cd50046a968/089edd9a-220c-4c40-a956-9f0ae5c242d0/rsem_aggregate_results_workflow/c4661a92-d6fe-42ca-99fd-3a14056ff10b/call-rsem_aggregate_results/rnaseq_james.rsem_genes_expected_count.txt.gz...\n",
      "/ [1 files][  3.0 MiB/  3.0 MiB]                                                \n",
      "Operation completed over 1 objects/3.0 MiB.                                      \n",
      "/ [1 files][  3.2 MiB/  3.2 MiB]                                                \n",
      "Operation completed over 1 objects/3.2 MiB.                                      \n",
      "/ [1 files][  8.2 MiB/  8.2 MiB]                                                \n",
      "Operation completed over 1 objects/8.2 MiB.                                      \n"
     ]
    }
   ],
   "source": [
    "rsem_genes_expected_count = res['rsem_genes_expected_count']\n",
    "rsem_genes_tpm = res['rsem_genes_tpm']\n",
    "rsem_transcripts_tpm = res['rsem_transcripts_tpm']\n",
    "! gsutil cp $rsem_genes_expected_count \"temp/expression/expectedcount.txt.gz\" & gsutil cp $rsem_genes_tpm \"temp/expression/genestpm.txt.gz\" & gsutil cp $rsem_transcripts_tpm \"temp/expression/transcripttpm.txt.gz\""
   ]
  },
  {
   "cell_type": "code",
   "execution_count": 16,
   "metadata": {},
   "outputs": [],
   "source": [
    "%%R\n",
    "# These files are downloaded from FireCloud/Terra\n",
    "download_paths <- list(\n",
    "  tpm_genes='temp/expression/genestpm.txt.gz',\n",
    "  tpm_transcripts='temp/expression/transcripttpm.txt.gz',\n",
    "  counts_genes='temp/expression/expectedcount.txt.gz')"
   ]
  },
  {
   "cell_type": "code",
   "execution_count": 18,
   "metadata": {
    "scrolled": true
   },
   "outputs": [
    {
     "name": "stderr",
     "output_type": "stream",
     "text": [
      "2019-06-24 09:25:08::WARNING  R[write to console]: Parsed with column specification:\n",
      "cols(\n",
      "  .default = col_double(),\n",
      "  transcript_id = \u001b[31mcol_character()\u001b[39m,\n",
      "  gene_id = \u001b[31mcol_character()\u001b[39m\n",
      ")\n",
      "\n",
      "2019-06-24 09:25:08::WARNING  R[write to console]: See spec(...) for full column specifications.\n",
      "\n",
      "2019-06-24 09:25:11::WARNING  R[write to console]: Parsed with column specification:\n",
      "cols(\n",
      "  .default = col_double(),\n",
      "  gene_id = \u001b[31mcol_character()\u001b[39m,\n",
      "  `transcript_id(s)` = \u001b[31mcol_character()\u001b[39m\n",
      ")\n",
      "\n",
      "2019-06-24 09:25:11::WARNING  R[write to console]: See spec(...) for full column specifications.\n",
      "\n",
      "2019-06-24 09:25:13::WARNING  R[write to console]: Parsed with column specification:\n",
      "cols(\n",
      "  .default = col_double(),\n",
      "  gene_id = \u001b[31mcol_character()\u001b[39m,\n",
      "  `transcript_id(s)` = \u001b[31mcol_character()\u001b[39m\n",
      ")\n",
      "\n",
      "2019-06-24 09:25:13::WARNING  R[write to console]: See spec(...) for full column specifications.\n",
      "\n"
     ]
    }
   ],
   "source": [
    "%%R\n",
    "tpm_transcripts = readTranscripts(download_paths$tpm_transcripts)\n",
    "counts_genes = readCounts(download_paths$counts_genes)\n",
    "tpm_genes = readTPM(download_paths$tpm_genes)"
   ]
  },
  {
   "cell_type": "markdown",
   "metadata": {},
   "source": [
    "%%R\n",
    "# Fix the colnames (for cases where there are mixed values (CCLE_name and DepMap_IDs))\n",
    "colnames(counts_genes) %<>% renameFunction(.)\n",
    "colnames(tpm_genes) %<>% renameFunction(.)\n",
    "colnames(tpm_transcripts) %<>% renameFunction(.)"
   ]
  },
  {
   "cell_type": "markdown",
   "metadata": {},
   "source": [
    "### data exploration and QC"
   ]
  },
  {
   "cell_type": "code",
   "execution_count": 14,
   "metadata": {},
   "outputs": [],
   "source": [
    "%%R \n",
    "# Quick QC\n",
    "# We are looking for samples with a worrying amount of zeros\n",
    "zero_threshold <- 39000\n",
    "\n",
    "number_zeros <- apply(tpm_genes[,3:ncol(tpm_genes)], 2, FUN = function(x) length(x[x == 0]))\n",
    "nzdf <- data.frame(CL=names(number_zeros), nz=number_zeros, stringsAsFactors = F)"
   ]
  },
  {
   "cell_type": "code",
   "execution_count": 15,
   "metadata": {},
   "outputs": [],
   "source": [
    "%%R\n",
    "# Plot of the samples that fail\n",
    "plot <- ggplot(nzdf, aes(nz)) +\n",
    "  geom_histogram(bins = 100, color='black', fill='white') +\n",
    "  geom_vline(xintercept = zero_threshold, linetype=2) +\n",
    "  geom_label_repel(data = nzdf %>% filter(nz > zero_threshold), aes(x=nz, y=0, label=CL), size=5, fill=rgb(1,1,1,0.5))\n",
    "\n",
    "ggsave(plot, filename ='temp/ggplot.pdf', width=20, height = 20)"
   ]
  },
  {
   "cell_type": "code",
   "execution_count": 17,
   "metadata": {},
   "outputs": [
    {
     "data": {
      "image/png": "[encoded data removed]",
      "text/plain": [
       "<wand.image.Image: bf7c0ca 'PDF' (1440x1440)>"
      ]
     },
     "execution_count": 17,
     "metadata": {},
     "output_type": "execute_result"
    }
   ],
   "source": [
    "from wand.image import Image as WImage\n",
    "img = WImage(filename='temp/ggplot.pdf')\n",
    "img"
   ]
  },
  {
   "cell_type": "code",
   "execution_count": 18,
   "metadata": {},
   "outputs": [
    {
     "name": "stderr",
     "output_type": "stream",
     "text": [
      "2019-06-24 06:56:28::WARNING  R[write to console]: Error: Columns `3`, `4`, `5`, `6`, `7`, ... cannot have NA as name\n",
      "\n",
      "2019-06-24 06:56:28::WARNING  R[write to console]: In addition: \n",
      "2019-06-24 06:56:28::WARNING  R[write to console]: Warning messages:\n",
      "\n",
      "2019-06-24 06:56:28::WARNING  R[write to console]: 1: \n",
      "2019-06-24 06:56:28::WARNING  R[write to console]: In taiga2.resolve.id(data.id, data.name, data.version, data.dir,  :\n",
      "2019-06-24 06:56:28::WARNING  R[write to console]: \n",
      " \n",
      "2019-06-24 06:56:28::WARNING  R[write to console]:  No filename passed, getting the first one by default\n",
      "\n",
      "2019-06-24 06:56:28::WARNING  R[write to console]: 2: Removed 11 rows containing missing values (geom_label_repel). \n",
      "\n"
     ]
    },
    {
     "name": "stdout",
     "output_type": "stream",
     "text": [
      "\n",
      "Error: Columns `3`, `4`, `5`, `6`, `7`, ... cannot have NA as name\n"
     ]
    }
   ],
   "source": [
    "%%R\n",
    "pass <- number_zeros[order(-number_zeros)] %>% .[. < zero_threshold] %>% names()\n",
    "\n",
    "# These samples failed\n",
    "setdiff(colnames(tpm_genes), pass) %>% .[!(. %in% c('gene_id', 'transcript_id(s)'))]\n",
    "\n",
    "counts_genes %<>% dplyr::select(c(\"gene_id\",\"transcript_id(s)\", pass))\n",
    "tpm_genes %<>% dplyr::select(c(\"gene_id\",\"transcript_id(s)\", pass))\n",
    "tpm_transcripts %<>% dplyr::select(\"transcript_id\", \"gene_id\", pass)"
   ]
  },
  {
   "cell_type": "code",
   "execution_count": 19,
   "metadata": {},
   "outputs": [
    {
     "name": "stdout",
     "output_type": "stream",
     "text": [
      " [1] NA NA NA NA NA NA NA NA NA NA NA NA NA NA NA NA NA NA NA NA NA NA NA NA NA\n",
      "[26] NA NA NA NA NA NA NA NA NA NA NA NA\n"
     ]
    }
   ],
   "source": [
    "%%R\n",
    "pass"
   ]
  },
  {
   "cell_type": "markdown",
   "metadata": {},
   "source": [
    "## Save files for taiga"
   ]
  },
  {
   "cell_type": "code",
   "execution_count": 22,
   "metadata": {},
   "outputs": [],
   "source": [
    "%%R\n",
    "write.table(\n",
    "  counts_genes, \n",
    "  file = paste0('temp/expression.', release,'.counts.tsv'), \n",
    "  sep = '\\t', row.names = F, quote = F)\n",
    "write.table(\n",
    "  tpm_genes, \n",
    "  file = paste0('temp/expression.', release,'.tpm.tsv'), \n",
    "  sep = '\\t', row.names = F, quote = F)\n",
    "write.table(\n",
    "  tpm_transcripts, \n",
    "  file = paste0('temp/expression.', release,'.transcripts.tsv'),\n",
    "  sep = '\\t', row.names = F, quote = F)"
   ]
  },
  {
   "cell_type": "code",
   "execution_count": null,
   "metadata": {},
   "outputs": [],
   "source": [
    "! mv "
   ]
  },
  {
   "cell_type": "markdown",
   "metadata": {},
   "source": [
    "# validation"
   ]
  },
  {
   "cell_type": "code",
   "execution_count": 11,
   "metadata": {},
   "outputs": [],
   "source": [
    "upload_file_path_dict={'../data/james_rna/expression.'+ release + '.transcripts.tsv': 'TableTSV',\n",
    "                          '../data/james_rna/expression.'+ release + '.counts.tsv': 'TableTSV',\n",
    "                          '../data/james_rna/expression.'+ release + '.tpm.tsv': 'TableTSV'}"
   ]
  },
  {
   "cell_type": "code",
   "execution_count": 10,
   "metadata": {},
   "outputs": [
    {
     "name": "stdout",
     "output_type": "stream",
     "text": [
      "Uploading expression.james_rna.transcripts...\n",
      "hitting https://cds.team/taiga/api/datafile/d8d26ed205664dc89fd0bf4106a2e7cd\n",
      "Conversion and upload...:\n",
      "\t Downloading the file from S3\n",
      "\t Downloading the file from S3\n",
      "\t Downloading the file from S3\n",
      "\t Downloading the file from S3\n",
      "\t Downloading the file from S3\n",
      "\t Downloading the file from S3\n",
      "\t Downloading the file from S3\n",
      "\t Downloading the file from S3\n",
      "\t Downloading the file from S3\n",
      "\t Downloading the file from S3\n",
      "\t Downloading the file from S3\n",
      "\t Downloading the file from S3\n",
      "\t Downloading the file from S3\n",
      "\t Downloading the file from S3\n",
      "\t Uploading to S3\n",
      "\n",
      "\t Done: expression.james_rna.transcripts properly converted and uploaded\n",
      "hitting https://cds.team/taiga/api/dataset\n",
      "\n",
      "Congratulations! Your dataset `james_rna` has been created in the public folder with the id 2d7a6d3133ec46cbaebd333ec719fe74. You can directly access to it with this url: https://cds.team/taiga/dataset/2d7a6d3133ec46cbaebd333ec719fe74\n",
      "\n"
     ]
    },
    {
     "data": {
      "text/plain": [
       "'2d7a6d3133ec46cbaebd333ec719fe74'"
      ]
     },
     "execution_count": 10,
     "metadata": {},
     "output_type": "execute_result"
    }
   ],
   "source": [
    "\n",
    "tc.create_dataset(dataset_name=release,\n",
    "    dataset_description='Here is the rna seq data processed for James McFarland by Jeremie Kalfon using the CCLE processing pipeline. Some Cell lines have been flagged as containing many zero valued gene. Else the processing went ok.',\n",
    "    upload_file_path_dict=upload_file_path_dict, folder_id='public')"
   ]
  },
  {
   "cell_type": "code",
   "execution_count": 12,
   "metadata": {},
   "outputs": [
    {
     "name": "stdout",
     "output_type": "stream",
     "text": [
      "Uploading expression.james_rna.transcripts...\n",
      "hitting https://cds.team/taiga/api/datafile/894d327b3bd94b58a4465dbdf7984d6e\n",
      "Conversion and upload...:\n",
      "\t Downloading the file from S3\n",
      "\t Downloading the file from S3\n",
      "\t Downloading the file from S3\n",
      "\t Downloading the file from S3\n",
      "\t Downloading the file from S3\n",
      "\t Downloading the file from S3\n",
      "\t Downloading the file from S3\n",
      "\t Downloading the file from S3\n",
      "\t Downloading the file from S3\n",
      "\t Downloading the file from S3\n",
      "\t Downloading the file from S3\n",
      "\t Downloading the file from S3\n",
      "\t Downloading the file from S3\n",
      "\t Downloading the file from S3\n",
      "\t Downloading the file from S3\n",
      "\n",
      "\t Done: expression.james_rna.transcripts properly converted and uploaded\n",
      "Uploading expression.james_rna.counts...\n",
      "hitting https://cds.team/taiga/api/datafile/894d327b3bd94b58a4465dbdf7984d6e\n",
      "Conversion and upload...:\n",
      "\t Downloading the file from S3\n",
      "\t Downloading the file from S3\n",
      "\t Downloading the file from S3\n",
      "\t Downloading the file from S3\n",
      "\t Downloading the file from S3\n",
      "\n",
      "\t Done: expression.james_rna.counts properly converted and uploaded\n",
      "Uploading expression.james_rna.tpm...\n",
      "hitting https://cds.team/taiga/api/datafile/894d327b3bd94b58a4465dbdf7984d6e\n",
      "Conversion and upload...:\n",
      "\t Downloading the file from S3\n",
      "\t Downloading the file from S3\n",
      "\t Downloading the file from S3\n",
      "\t Downloading the file from S3\n",
      "\t Downloading the file from S3\n",
      "\n",
      "\t Done: expression.james_rna.tpm properly converted and uploaded\n",
      "Creating the new version with these files:\n",
      "\tNEW: expression.james_rna.transcripts - TableTSV\n",
      "\tNEW: expression.james_rna.counts - TableTSV\n",
      "\tNEW: expression.james_rna.tpm - TableTSV\n",
      "hitting https://cds.team/taiga/api/datasetVersion\n",
      "\n",
      "Dataset version with id 83313f2afb5f4cecb30256a27fbc994b created. You can access to this dataset version directly with this url: https://cds.team/taiga/dataset_version/83313f2afb5f4cecb30256a27fbc994b\n"
     ]
    },
    {
     "data": {
      "text/plain": [
       "'83313f2afb5f4cecb30256a27fbc994b'"
      ]
     },
     "execution_count": 12,
     "metadata": {},
     "output_type": "execute_result"
    }
   ],
   "source": [
    "tc.update_dataset(dataset_permaname=\"james-rna-8479\",\n",
    "                     upload_file_path_dict=upload_file_path_dict,\n",
    "                 dataset_description=\"Updating to \"+release,\n",
    "                 force_remove=True)\n"
   ]
  },
  {
   "cell_type": "markdown",
   "metadata": {},
   "source": [
    "## Fusion post processing"
   ]
  },
  {
   "cell_type": "code",
   "execution_count": null,
   "metadata": {},
   "outputs": [],
   "source": [
    "terra.wait_for_submission(submission_id2)"
   ]
  },
  {
   "cell_type": "code",
   "execution_count": 59,
   "metadata": {},
   "outputs": [
    {
     "data": {
      "text/plain": [
       "{'deleted': False,\n",
       " 'inputs': {'aggregate_set_files_workflow.aggregate_set_files.disk_space': '250',\n",
       "  'aggregate_set_files_workflow.aggregate_set_files.output_file_name': '\"Fusions.aggregated.tsv\"',\n",
       "  'aggregate_set_files_workflow.aggregate_set_files.aggregate_files_script': 'workspace.aggregate_fusions_script',\n",
       "  'aggregate_set_files_workflow.aggregate_set_files.num_preempt': '5',\n",
       "  'aggregate_set_files_workflow.aggregate_set_files.sample_files': 'this.samples.fusion_predictions_abridged',\n",
       "  'aggregate_set_files_workflow.aggregate_set_files.memory': '3'},\n",
       " 'methodConfigVersion': 7,\n",
       " 'methodRepoMethod': {'methodName': 'Aggregate_files_set',\n",
       "  'methodVersion': 2,\n",
       "  'methodNamespace': 'gkugener',\n",
       "  'methodUri': 'agora://gkugener/Aggregate_files_set/2',\n",
       "  'sourceRepo': 'agora'},\n",
       " 'name': 'Aggregate_Fusion_Calls',\n",
       " 'namespace': 'gkugener',\n",
       " 'outputs': {'aggregate_set_files_workflow.aggregate_set_files.output_merged_file': 'this.fusions_star'},\n",
       " 'prerequisites': {},\n",
       " 'rootEntityType': 'sample_set'}"
      ]
     },
     "execution_count": 59,
     "metadata": {},
     "output_type": "execute_result"
    }
   ],
   "source": [
    "aggregate = refwm.get_config('Aggregate_Fusion_Calls')\n",
    "aggregate"
   ]
  },
  {
   "cell_type": "code",
   "execution_count": 60,
   "metadata": {},
   "outputs": [
    {
     "name": "stdout",
     "output_type": "stream",
     "text": [
      "Successfully updated configuration gkugener/Aggregate_Fusion_Calls\n",
      "Successfully created submission c853b79b-c226-4b29-a718-5875b7f74e10.\n"
     ]
    }
   ],
   "source": [
    "refwm.update_config(aggregate)\n",
    "submission_id2 = refwm.create_submission(aggregate['name'], 'All_samples')"
   ]
  },
  {
   "cell_type": "code",
   "execution_count": null,
   "metadata": {},
   "outputs": [],
   "source": [
    "terra.wait_for_submission(submission_id2)"
   ]
  },
  {
   "cell_type": "code",
   "execution_count": 10,
   "metadata": {},
   "outputs": [
    {
     "data": {
      "text/plain": [
       "fusions_star                                                                     NaN\n",
       "mergedExonUsageRObj_hg38                                                         NaN\n",
       "rsem_genes_expected_count                                                        NaN\n",
       "rsem_genes_tpm                                                                   NaN\n",
       "rsem_transcripts_expected_count                                                  NaN\n",
       "rsem_transcripts_isopct                                                          NaN\n",
       "rsem_transcripts_tpm                                                             NaN\n",
       "samples                            [dm_ACH-000001, dm_ACH-000002, dm_ACH-000003, ...\n",
       "Name: all_samples, dtype: object"
      ]
     },
     "execution_count": 10,
     "metadata": {},
     "output_type": "execute_result"
    }
   ],
   "source": [
    "refwm.get_sample_sets().loc['All_samples']['fusions_star']"
   ]
  },
  {
   "cell_type": "code",
   "execution_count": 37,
   "metadata": {},
   "outputs": [
    {
     "name": "stdout",
     "output_type": "stream",
     "text": [
      "Copying gs://fc-secure-639c94ba-2b0d-4960-92fc-9cd50046a968/15ab70c1-73af-44bc-9aeb-750ef6d70bc8/aggregate_set_files_workflow/7d6bdfe1-27fb-478b-ade1-fcda622c4960/call-aggregate_set_files/Fusions.aggregated.tsv...\n",
      "/ [1 files][ 30.2 KiB/ 30.2 KiB]                                                \n",
      "Operation completed over 1 objects/30.2 KiB.                                     \n"
     ]
    }
   ],
   "source": [
    "! gsutil cp $aggregated \"temp/fusion.Fusions.aggregated.tsv\""
   ]
  },
  {
   "cell_type": "markdown",
   "metadata": {},
   "source": [
    "### Overview\n",
    "\n",
    "This document contains the code used to generate the unfiltered and filtered versions of the fusion datasets for the release. The bottom of the document also contains some comparisons between the release fusion dataset, CCLE2 fusion calls, and the translocation data from CCLE2."
   ]
  },
  {
   "cell_type": "code",
   "execution_count": 20,
   "metadata": {},
   "outputs": [],
   "source": [
    "%%R\n",
    "source(\"CCLE_postp_function.R\")\n",
    "filepath <- 'temp/fusion.Fusions.aggregated.tsv'"
   ]
  },
  {
   "cell_type": "markdown",
   "metadata": {},
   "source": [
    "## Generate filtered fusion table\n",
    "\n",
    "Release: `r release`\n",
    "\n",
    "We want to apply filters to the fusion table to reduce the number of artifacts in the dataset. Specifically, we filter the following:\n",
    "\n",
    "* Remove fusions involving mitochondrial chromosomes, or HLA genes, or immunoglobulin genes\n",
    "* Remove red herring fusions (from STAR-Fusion annotations column)\n",
    "* Remove recurrent in CCLE (>= 25 samples)\n",
    "* Remove fusion with (SpliceType=\" INCL_NON_REF_SPLICE\" and LargeAnchorSupport=\"No\" and FFPM < 0.1)\n",
    "* Remove fusions with FFPM < 0.05 (STAR-Fusion suggests using 0.1, but looking at the translocation data, this looks like it might be too aggressive)"
   ]
  },
  {
   "cell_type": "code",
   "execution_count": 21,
   "metadata": {},
   "outputs": [],
   "source": [
    "%%R\n",
    "unfiltered_fusions <- read_fusions(filepath)\n",
    "filtered_fusions <- filter_fusions(unfiltered_fusions)"
   ]
  },
  {
   "cell_type": "code",
   "execution_count": 37,
   "metadata": {},
   "outputs": [],
   "source": [
    "%%R\n",
    "# Save the files (to be uploaded to taiga)\n",
    "write.table(\n",
    "  unfiltered_fusions,\n",
    "  file = paste0('temp/fusions.',release, '.unfiltered.tsv'),\n",
    "  sep = '\\t', quote = F, row.names = F\n",
    ")\n",
    "write.table(\n",
    "  filtered_fusions,\n",
    "  file = paste0('temp/fusions.', release, '.filtered.tsv'),\n",
    "  sep = '\\t', quote = F, row.names = F\n",
    ")"
   ]
  },
  {
   "cell_type": "code",
   "execution_count": 38,
   "metadata": {},
   "outputs": [
    {
     "name": "stdout",
     "output_type": "stream",
     "text": [
      "Now choosing the datasets you would want to keep or remove:\n",
      "\tKeep fusions.19q1.unfiltered ? (y/n) y\n",
      "\tKeep fusions.19q1.filtered ? (y/n) y\n",
      "Uploading fusions.19Q3interim.filtered...\n",
      "hitting https://cds.team/taiga/api/datafile/cf2b503f926c4ce2b9ae53301c3d3ea5\n",
      "Conversion and upload...:\n",
      "\t Downloading the file from S3\n",
      "\t Downloading the file from S3\n",
      "\n",
      "\t Done: fusions.19Q3interim.filtered properly converted and uploaded\n",
      "Uploading fusions.19Q3interim.unfiltered...\n",
      "hitting https://cds.team/taiga/api/datafile/cf2b503f926c4ce2b9ae53301c3d3ea5\n",
      "Conversion and upload...:\n",
      "\t Downloading the file from S3\n",
      "\n",
      "\t Done: fusions.19Q3interim.unfiltered properly converted and uploaded\n",
      "Creating the new version with these files:\n",
      "\tNEW: fusions.19Q3interim.filtered - TableTSV\n",
      "\tNEW: fusions.19Q3interim.unfiltered - TableTSV\n",
      "\tKEEP: fusions.19q1.unfiltered - Columnar\n",
      "\tKEEP: fusions.19q1.filtered - Columnar\n",
      "hitting https://cds.team/taiga/api/datasetVersion\n",
      "\n",
      "Dataset version with id 0b90a3c5c37e47c395c67b78c2d74722 created. You can access to this dataset version directly with this url: https://cds.team/taiga/dataset_version/0b90a3c5c37e47c395c67b78c2d74722\n"
     ]
    },
    {
     "data": {
      "text/plain": [
       "'0b90a3c5c37e47c395c67b78c2d74722'"
      ]
     },
     "execution_count": 38,
     "metadata": {},
     "output_type": "execute_result"
    }
   ],
   "source": [
    "from taigapy import TaigaClient\n",
    "\n",
    "tc = TaigaClient()\n",
    "tc.update_dataset(dataset_permaname=\"depmap-fusions-7990\",\n",
    "                     upload_file_path_dict={'temp/fusions.'+release+'.filtered.tsv': 'TableTSV',\n",
    "                                        'temp/fusions.'+release+'.unfiltered.tsv': 'TableTSV'},\n",
    "                 dataset_description=\"Updating to \"+release,\n",
    "                 force_remove=True)\n"
   ]
  },
  {
   "cell_type": "markdown",
   "metadata": {},
   "source": [
    "# IF want to merge here instead of on Terra:"
   ]
  },
  {
   "cell_type": "code",
   "execution_count": 20,
   "metadata": {},
   "outputs": [
    {
     "name": "stdout",
     "output_type": "stream",
     "text": [
      "Copying gs://fc-secure-639c94ba-2b0d-4960-92fc-9cd50046a968/25b86d44-d5d3-481a-9c29-5438c9905f44/rsem_workflow/7b23b231-27f3-47c4-b3bb-8df48393b187/call-rsem/ibm_ACH-001616.rsem.genes.results...\n",
      "/ [1 files][  6.3 MiB/  6.3 MiB]                                                \n",
      "Operation completed over 1 objects/6.3 MiB.                                      \n",
      "Copying gs://fc-secure-639c94ba-2b0d-4960-92fc-9cd50046a968/25b86d44-d5d3-481a-9c29-5438c9905f44/rsem_workflow/7b23b231-27f3-47c4-b3bb-8df48393b187/call-rsem/ibm_ACH-001616.rsem.isoforms.results...\n",
      "Resuming download for temp/expression.transcripts.results                       \n",
      "/ [1 files][ 13.6 MiB/ 13.6 MiB]                                                \n",
      "Operation completed over 1 objects/13.6 MiB.                                     \n",
      "Copying gs://fc-secure-639c94ba-2b0d-4960-92fc-9cd50046a968/988fb43c-f90d-4327-ba52-be47db7d5f46/trinity_cleaned/9570c783-9757-4a32-a569-b98d02b8a7d6/call-StarFusion/attempt-2/ibm_ACH-001616.star-fusion.fusion_predictions.abridged.tsv...\n",
      "/ [1 files][ 23.3 KiB/ 23.3 KiB]                                                \n",
      "Operation completed over 1 objects/23.3 KiB.                                     \n"
     ]
    }
   ],
   "source": [
    "res = refwm.get_samples().loc['ibm_ACH-001616']\n",
    "genes_fusion = res['fusion_predictions_abridged']\n",
    "rsem_genes_transcripts = res['rsem_isoforms']\n",
    "rsem_genes_expected_count = res['rsem_genes']\n",
    "\n",
    "! gsutil cp $rsem_genes_expected_count \"temp/expression.genes.results\" && gsutil cp $rsem_genes_transcripts \"temp/expression.transcripts.results\" && gsutil cp $genes_fusion \"temp/expression.fusion.tsv\""
   ]
  }
 ],
 "metadata": {
  "kernelspec": {
   "display_name": "Python 3",
   "language": "python",
   "name": "python3"
  },
  "language_info": {
   "codemirror_mode": {
    "name": "ipython",
    "version": 3
   },
   "file_extension": ".py",
   "mimetype": "text/x-python",
   "name": "python",
   "nbconvert_exporter": "python",
   "pygments_lexer": "ipython3",
   "version": "3.7.3"
  }
 },
 "nbformat": 4,
 "nbformat_minor": 2
}
