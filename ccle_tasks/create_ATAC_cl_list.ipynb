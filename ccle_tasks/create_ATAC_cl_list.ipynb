{
 "cells": [
  {
   "cell_type": "code",
   "execution_count": null,
   "metadata": {},
   "outputs": [],
   "source": [
    "# load from google sheet\n",
    "import pandas as pd\n",
    "import numpy as np\n",
    "from gsheets import Sheets\n",
    "import dalmatian as dm \n",
    "from genepy.utils import helper as h\n",
    "MY_ID = '~/.client_secret.json'\n",
    "MYSTORAGE_ID = \"~/.storage.json\""
   ]
  },
  {
   "cell_type": "code",
   "execution_count": null,
   "metadata": {},
   "outputs": [],
   "source": [
    "data = Sheets.from_files(MY_ID, MYSTORAGE_ID).get(\"https://docs.google.com/spreadsheets/d/1Pgb5fIClGnErEqzxpU7qqX6ULpGTDjvzWwDN8XUJKIY\").sheets[0].to_frame(index_col=0)"
   ]
  },
  {
   "cell_type": "code",
   "execution_count": null,
   "metadata": {},
   "outputs": [],
   "source": [
    "has_pellet = set(Sheets.from_files(MY_ID, MYSTORAGE_ID).get(\"https://docs.google.com/spreadsheets/d/1xcnuSQSWZ0Oo4-QjxNoGSXs9oCYlhF-iIZfpkpj4IYU\").sheets[0].to_frame(index_col=0).index)"
   ]
  },
  {
   "cell_type": "code",
   "execution_count": null,
   "metadata": {},
   "outputs": [],
   "source": [
    "from taigapy import TaigaClient\n",
    "tc = TaigaClient()\n",
    "cn = tc.get(name='cn-latest-d8d4', version=27, file='merged_genecn_all')"
   ]
  },
  {
   "cell_type": "code",
   "execution_count": null,
   "metadata": {},
   "outputs": [],
   "source": [
    "cnvar = cn.var(1)"
   ]
  },
  {
   "cell_type": "code",
   "execution_count": null,
   "metadata": {},
   "outputs": [],
   "source": [
    "lines = pd.read_csv('lines_marked_pass_in_masterfile.csv')['DepMap_ID'].tolist()"
   ]
  },
  {
   "cell_type": "code",
   "execution_count": null,
   "metadata": {},
   "outputs": [],
   "source": [
    "haswxs = set(data[data.datatype.isin(['wgs', 'wes'])].arxspan_id) \n",
    "hasrna = set(data[data.datatype=='rna'].arxspan_id)"
   ]
  },
  {
   "cell_type": "code",
   "execution_count": null,
   "metadata": {},
   "outputs": [],
   "source": [
    "toget = hasrna & haswxs & has_pellet & set(cnvar.index) & set(lines)"
   ]
  },
  {
   "cell_type": "code",
   "execution_count": null,
   "metadata": {},
   "outputs": [],
   "source": [
    "tosave = data.drop_duplicates(subset=['arxspan_id','participant_id']).set_index('arxspan_id')[['lineage', 'subtype','msi']].loc[toget]"
   ]
  },
  {
   "cell_type": "code",
   "execution_count": null,
   "metadata": {},
   "outputs": [],
   "source": [
    "tosave[\"cnvar\"] = cnvar.loc[toget].values"
   ]
  },
  {
   "cell_type": "code",
   "execution_count": null,
   "metadata": {},
   "outputs": [],
   "source": [
    "import sys"
   ]
  },
  {
   "cell_type": "code",
   "execution_count": null,
   "metadata": {},
   "outputs": [],
   "source": [
    "# ssave to stdout\n",
    "tosave.to_csv(sys.stdout, sep='\\t')"
   ]
  },
  {
   "cell_type": "code",
   "execution_count": null,
   "metadata": {},
   "outputs": [],
   "source": [
    "from genepy.google import gcp"
   ]
  },
  {
   "cell_type": "code",
   "execution_count": null,
   "metadata": {},
   "outputs": [],
   "source": [
    "gcp.deleteOldVersions('gs://cclebams/rnasq_hg38', dryrun=False)"
   ]
  },
  {
   "cell_type": "code",
   "execution_count": null,
   "metadata": {},
   "outputs": [],
   "source": [
    "toshare = [\"CDS-h6Vqmg\",\n",
    "\"CDS-m7XYuu\",\n",
    "\"CDS-S70cTT\",\n",
    "\"CDS-m0Uy2R\",\n",
    "\"CDS-lyf6Uw\",\n",
    "\"CDS-O3WkgT\",\n",
    "\"CDS-VLAQjq\",\n",
    "\"CDS-csua84\",\n",
    "\"CDS-fAoiLf\",\n",
    "\"CDS-9Pf77t\",\n",
    "\"CDS-LKaB7J\",\n",
    "\"CDS-cmxi9N\",\n",
    "\"CDS-9HXF2k\",\n",
    "\"CDS-EplWBx\",\n",
    "\"CDS-fJbEiL\",\n",
    "\"CDS-8wTTss\",\n",
    "\"CDS-UcURrc\"]"
   ]
  },
  {
   "cell_type": "code",
   "execution_count": null,
   "metadata": {},
   "outputs": [],
   "source": [
    "from depmapomics.tracker import _shareCCLEbams\n",
    "\n",
    "%reload_ext autoreload\n",
    "%autoreload 2\n",
    "\n",
    "\n",
    "await _shareCCLEbams(toshare, ['smalinow@broadinstitute.org'])\n"
   ]
  }
 ],
 "metadata": {
  "interpreter": {
   "hash": "fd8698c164edaa1fafe02e09417b19c3da26ece954e3310283697fab1cf76ba9"
  },
  "kernelspec": {
   "display_name": "Python 3.8.12 ('gae')",
   "language": "python",
   "name": "python3"
  },
  "language_info": {
   "codemirror_mode": {
    "name": "ipython",
    "version": 3
   },
   "file_extension": ".py",
   "mimetype": "text/x-python",
   "name": "python",
   "nbconvert_exporter": "python",
   "pygments_lexer": "ipython3",
   "version": "3.8.12"
  }
 },
 "nbformat": 4,
 "nbformat_minor": 2
}
