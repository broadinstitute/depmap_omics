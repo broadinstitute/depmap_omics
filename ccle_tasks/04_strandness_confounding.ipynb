{
 "cells": [
  {
   "cell_type": "code",
   "execution_count": 1,
   "metadata": {},
   "outputs": [],
   "source": [
    "%load_ext autoreload\n",
    "%autoreload 2\n",
    "from taigapy import TaigaClient\n",
    "import seaborn as sns\n",
    "import numpy as np\n",
    "import matplotlib.pyplot as plt\n",
    "from cds import plotting\n",
    "from mgenepy.utils import helper\n",
    "from taigapy import create_taiga_client_v3\n",
    "#from depmap_omics_upload import tracker as track\n",
    "\n",
    "tc = TaigaClient()"
   ]
  },
  {
   "cell_type": "code",
   "execution_count": 2,
   "metadata": {},
   "outputs": [],
   "source": [
    "from statsmodels.formula.api import ols"
   ]
  },
  {
   "cell_type": "code",
   "execution_count": 3,
   "metadata": {},
   "outputs": [],
   "source": [
    "import statsmodels.api as sm"
   ]
  },
  {
   "cell_type": "code",
   "execution_count": 4,
   "metadata": {},
   "outputs": [],
   "source": [
    "%%capture\n",
    "\n",
    "OmicsExpressionProteinCodingGenesTPMLogp1 = tc.get(name='internal-23q4-ac2b', version=68, file='OmicsExpressionProteinCodingGenesTPMLogp1')\n",
    "OmicsExpressionAllGenesEffectiveLengthProfile = tc.get(name='internal-23q4-ac2b', version=68, file='OmicsExpressionAllGenesEffectiveLengthProfile')\n",
    "OmicsExpressionAllGenesTPMLogp1Profile = tc.get(name='internal-23q4-ac2b', version=68, file='OmicsExpressionAllGenesTPMLogp1Profile')\n",
    "OmicsExpressionGenesExpectedCountProfile = tc.get(name='internal-23q4-ac2b', version=68, file='OmicsExpressionGenesExpectedCountProfile')\n",
    "OmicsDefaultModelProfiles = tc.get(name='internal-23q4-ac2b', version=68, file='OmicsDefaultModelProfiles')\n",
    "OmicsDefaultModelConditionProfiles = tc.get(name='internal-23q4-ac2b', version=68, file='OmicsDefaultModelConditionProfiles')"
   ]
  },
  {
   "cell_type": "code",
   "execution_count": 5,
   "metadata": {},
   "outputs": [],
   "source": [
    "profile_to_model_dict = OmicsDefaultModelProfiles.query(\"ProfileType == 'rna'\").\\\n",
    "        set_index(\"ProfileID\").\\\n",
    "        drop(\"ProfileType\", axis=1).\\\n",
    "        to_dict()[\"ModelID\"]"
   ]
  },
  {
   "cell_type": "code",
   "execution_count": 6,
   "metadata": {},
   "outputs": [
    {
     "name": "stderr",
     "output_type": "stream",
     "text": [
      "[                      ]  0% |   0.0 s/B |   0.0 B /  40.0 KiB | ETA:  --:--:--\n",
      "[##################]100% |  39.4 MiB/s |  40.0 KiB /  40.0 KiB | ETA:  00:00:00\n"
     ]
    }
   ],
   "source": [
    "rnaseq_strandness_inference = tc.get(name='rnaseq-strandness-inference-cae2', version=1, file='rnaseq_strandness_inference')"
   ]
  },
  {
   "cell_type": "code",
   "execution_count": 7,
   "metadata": {},
   "outputs": [
    {
     "data": {
      "text/html": [
       "<div>\n",
       "<style scoped>\n",
       "    .dataframe tbody tr th:only-of-type {\n",
       "        vertical-align: middle;\n",
       "    }\n",
       "\n",
       "    .dataframe tbody tr th {\n",
       "        vertical-align: top;\n",
       "    }\n",
       "\n",
       "    .dataframe thead th {\n",
       "        text-align: right;\n",
       "    }\n",
       "</style>\n",
       "<table border=\"1\" class=\"dataframe\">\n",
       "  <thead>\n",
       "    <tr style=\"text-align: right;\">\n",
       "      <th></th>\n",
       "      <th>sample_id</th>\n",
       "      <th>Fraction of reads failed to determine</th>\n",
       "      <th>Fraction of reads explained by \"1++,1--,2+-,2-+\"</th>\n",
       "      <th>Fraction of reads explained by \"1+-,1-+,2++,2--\"</th>\n",
       "      <th>Profile</th>\n",
       "      <th>strandness</th>\n",
       "    </tr>\n",
       "  </thead>\n",
       "  <tbody>\n",
       "    <tr>\n",
       "      <th>0</th>\n",
       "      <td>CDS-010xbm</td>\n",
       "      <td>0.0259</td>\n",
       "      <td>0.0212</td>\n",
       "      <td>0.9528</td>\n",
       "      <td>PR-AdBjpG</td>\n",
       "      <td>True</td>\n",
       "    </tr>\n",
       "    <tr>\n",
       "      <th>1</th>\n",
       "      <td>CDS-02TzJp</td>\n",
       "      <td>0.0301</td>\n",
       "      <td>0.0153</td>\n",
       "      <td>0.9546</td>\n",
       "      <td>PR-I2AzwG</td>\n",
       "      <td>True</td>\n",
       "    </tr>\n",
       "    <tr>\n",
       "      <th>2</th>\n",
       "      <td>CDS-04NSe4</td>\n",
       "      <td>0.0135</td>\n",
       "      <td>0.0304</td>\n",
       "      <td>0.9560</td>\n",
       "      <td>PR-iQmzF3</td>\n",
       "      <td>True</td>\n",
       "    </tr>\n",
       "    <tr>\n",
       "      <th>3</th>\n",
       "      <td>CDS-0693hw</td>\n",
       "      <td>0.0142</td>\n",
       "      <td>0.0101</td>\n",
       "      <td>0.9757</td>\n",
       "      <td>PR-5ekAAC</td>\n",
       "      <td>True</td>\n",
       "    </tr>\n",
       "    <tr>\n",
       "      <th>4</th>\n",
       "      <td>CDS-07Plat</td>\n",
       "      <td>0.0234</td>\n",
       "      <td>0.0079</td>\n",
       "      <td>0.9687</td>\n",
       "      <td>NaN</td>\n",
       "      <td>True</td>\n",
       "    </tr>\n",
       "  </tbody>\n",
       "</table>\n",
       "</div>"
      ],
      "text/plain": [
       "    sample_id  Fraction of reads failed to determine  \\\n",
       "0  CDS-010xbm                                 0.0259   \n",
       "1  CDS-02TzJp                                 0.0301   \n",
       "2  CDS-04NSe4                                 0.0135   \n",
       "3  CDS-0693hw                                 0.0142   \n",
       "4  CDS-07Plat                                 0.0234   \n",
       "\n",
       "   Fraction of reads explained by \"1++,1--,2+-,2-+\"  \\\n",
       "0                                            0.0212   \n",
       "1                                            0.0153   \n",
       "2                                            0.0304   \n",
       "3                                            0.0101   \n",
       "4                                            0.0079   \n",
       "\n",
       "   Fraction of reads explained by \"1+-,1-+,2++,2--\"    Profile  strandness  \n",
       "0                                            0.9528  PR-AdBjpG        True  \n",
       "1                                            0.9546  PR-I2AzwG        True  \n",
       "2                                            0.9560  PR-iQmzF3        True  \n",
       "3                                            0.9757  PR-5ekAAC        True  \n",
       "4                                            0.9687        NaN        True  "
      ]
     },
     "execution_count": 7,
     "metadata": {},
     "output_type": "execute_result"
    }
   ],
   "source": [
    "rnaseq_strandness_inference.head()"
   ]
  },
  {
   "cell_type": "code",
   "execution_count": 8,
   "metadata": {},
   "outputs": [],
   "source": [
    "tc = create_taiga_client_v3()\n",
    "df_gene_effect = tc.get('internal-23q4-ac2b.68/CRISPRGeneEffect')"
   ]
  },
  {
   "cell_type": "code",
   "execution_count": 9,
   "metadata": {},
   "outputs": [
    {
     "data": {
      "text/html": [
       "<div>\n",
       "<style scoped>\n",
       "    .dataframe tbody tr th:only-of-type {\n",
       "        vertical-align: middle;\n",
       "    }\n",
       "\n",
       "    .dataframe tbody tr th {\n",
       "        vertical-align: top;\n",
       "    }\n",
       "\n",
       "    .dataframe thead th {\n",
       "        text-align: right;\n",
       "    }\n",
       "</style>\n",
       "<table border=\"1\" class=\"dataframe\">\n",
       "  <thead>\n",
       "    <tr style=\"text-align: right;\">\n",
       "      <th></th>\n",
       "      <th>A1BG (1)</th>\n",
       "      <th>A1CF (29974)</th>\n",
       "      <th>A2M (2)</th>\n",
       "      <th>A2ML1 (144568)</th>\n",
       "      <th>A3GALT2 (127550)</th>\n",
       "      <th>A4GALT (53947)</th>\n",
       "      <th>A4GNT (51146)</th>\n",
       "      <th>AAAS (8086)</th>\n",
       "      <th>AACS (65985)</th>\n",
       "      <th>AADAC (13)</th>\n",
       "      <th>...</th>\n",
       "      <th>ZWILCH (55055)</th>\n",
       "      <th>ZWINT (11130)</th>\n",
       "      <th>ZXDA (7789)</th>\n",
       "      <th>ZXDB (158586)</th>\n",
       "      <th>ZXDC (79364)</th>\n",
       "      <th>ZYG11A (440590)</th>\n",
       "      <th>ZYG11B (79699)</th>\n",
       "      <th>ZYX (7791)</th>\n",
       "      <th>ZZEF1 (23140)</th>\n",
       "      <th>ZZZ3 (26009)</th>\n",
       "    </tr>\n",
       "  </thead>\n",
       "  <tbody>\n",
       "    <tr>\n",
       "      <th>ACH-000001</th>\n",
       "      <td>-0.095061</td>\n",
       "      <td>0.056694</td>\n",
       "      <td>0.045961</td>\n",
       "      <td>-0.169475</td>\n",
       "      <td>-0.024669</td>\n",
       "      <td>0.337310</td>\n",
       "      <td>-0.022525</td>\n",
       "      <td>-0.119822</td>\n",
       "      <td>0.180870</td>\n",
       "      <td>0.045184</td>\n",
       "      <td>...</td>\n",
       "      <td>-0.137586</td>\n",
       "      <td>0.011028</td>\n",
       "      <td>0.149662</td>\n",
       "      <td>0.309245</td>\n",
       "      <td>0.180299</td>\n",
       "      <td>-0.257746</td>\n",
       "      <td>-0.020003</td>\n",
       "      <td>0.086519</td>\n",
       "      <td>0.121076</td>\n",
       "      <td>-0.467081</td>\n",
       "    </tr>\n",
       "    <tr>\n",
       "      <th>ACH-000004</th>\n",
       "      <td>-0.014141</td>\n",
       "      <td>-0.069027</td>\n",
       "      <td>-0.090334</td>\n",
       "      <td>-0.059851</td>\n",
       "      <td>0.007217</td>\n",
       "      <td>0.012467</td>\n",
       "      <td>0.319230</td>\n",
       "      <td>-0.099312</td>\n",
       "      <td>0.207448</td>\n",
       "      <td>0.183822</td>\n",
       "      <td>...</td>\n",
       "      <td>-0.209179</td>\n",
       "      <td>-0.420732</td>\n",
       "      <td>0.186465</td>\n",
       "      <td>0.107289</td>\n",
       "      <td>0.126151</td>\n",
       "      <td>0.068953</td>\n",
       "      <td>-0.389859</td>\n",
       "      <td>0.082071</td>\n",
       "      <td>0.285443</td>\n",
       "      <td>-0.075159</td>\n",
       "    </tr>\n",
       "    <tr>\n",
       "      <th>ACH-000005</th>\n",
       "      <td>-0.117444</td>\n",
       "      <td>0.022142</td>\n",
       "      <td>0.186275</td>\n",
       "      <td>0.090944</td>\n",
       "      <td>-0.129305</td>\n",
       "      <td>-0.102159</td>\n",
       "      <td>0.213622</td>\n",
       "      <td>-0.089824</td>\n",
       "      <td>-0.104679</td>\n",
       "      <td>0.070451</td>\n",
       "      <td>...</td>\n",
       "      <td>-0.333891</td>\n",
       "      <td>-0.453153</td>\n",
       "      <td>-0.093295</td>\n",
       "      <td>-0.061744</td>\n",
       "      <td>0.009252</td>\n",
       "      <td>-0.210187</td>\n",
       "      <td>-0.181788</td>\n",
       "      <td>-0.066776</td>\n",
       "      <td>0.019221</td>\n",
       "      <td>-0.165291</td>\n",
       "    </tr>\n",
       "    <tr>\n",
       "      <th>ACH-000007</th>\n",
       "      <td>-0.051711</td>\n",
       "      <td>-0.094682</td>\n",
       "      <td>0.065743</td>\n",
       "      <td>0.083394</td>\n",
       "      <td>0.015167</td>\n",
       "      <td>0.140738</td>\n",
       "      <td>0.056952</td>\n",
       "      <td>-0.254952</td>\n",
       "      <td>-0.176011</td>\n",
       "      <td>0.222967</td>\n",
       "      <td>...</td>\n",
       "      <td>-0.335173</td>\n",
       "      <td>-0.452485</td>\n",
       "      <td>-0.035450</td>\n",
       "      <td>0.263585</td>\n",
       "      <td>0.043859</td>\n",
       "      <td>-0.073312</td>\n",
       "      <td>-0.449223</td>\n",
       "      <td>0.016872</td>\n",
       "      <td>-0.284166</td>\n",
       "      <td>-0.449154</td>\n",
       "    </tr>\n",
       "    <tr>\n",
       "      <th>ACH-000009</th>\n",
       "      <td>0.002336</td>\n",
       "      <td>-0.133981</td>\n",
       "      <td>0.063479</td>\n",
       "      <td>0.061919</td>\n",
       "      <td>0.104689</td>\n",
       "      <td>0.038360</td>\n",
       "      <td>0.080136</td>\n",
       "      <td>-0.165914</td>\n",
       "      <td>0.053202</td>\n",
       "      <td>0.118570</td>\n",
       "      <td>...</td>\n",
       "      <td>-0.294201</td>\n",
       "      <td>-0.317915</td>\n",
       "      <td>-0.063940</td>\n",
       "      <td>0.270825</td>\n",
       "      <td>-0.071296</td>\n",
       "      <td>-0.096871</td>\n",
       "      <td>-0.585607</td>\n",
       "      <td>0.073148</td>\n",
       "      <td>0.006722</td>\n",
       "      <td>-0.302816</td>\n",
       "    </tr>\n",
       "  </tbody>\n",
       "</table>\n",
       "<p>5 rows × 18443 columns</p>\n",
       "</div>"
      ],
      "text/plain": [
       "            A1BG (1)  A1CF (29974)   A2M (2)  A2ML1 (144568)  \\\n",
       "ACH-000001 -0.095061      0.056694  0.045961       -0.169475   \n",
       "ACH-000004 -0.014141     -0.069027 -0.090334       -0.059851   \n",
       "ACH-000005 -0.117444      0.022142  0.186275        0.090944   \n",
       "ACH-000007 -0.051711     -0.094682  0.065743        0.083394   \n",
       "ACH-000009  0.002336     -0.133981  0.063479        0.061919   \n",
       "\n",
       "            A3GALT2 (127550)  A4GALT (53947)  A4GNT (51146)  AAAS (8086)  \\\n",
       "ACH-000001         -0.024669        0.337310      -0.022525    -0.119822   \n",
       "ACH-000004          0.007217        0.012467       0.319230    -0.099312   \n",
       "ACH-000005         -0.129305       -0.102159       0.213622    -0.089824   \n",
       "ACH-000007          0.015167        0.140738       0.056952    -0.254952   \n",
       "ACH-000009          0.104689        0.038360       0.080136    -0.165914   \n",
       "\n",
       "            AACS (65985)  AADAC (13)  ...  ZWILCH (55055)  ZWINT (11130)  \\\n",
       "ACH-000001      0.180870    0.045184  ...       -0.137586       0.011028   \n",
       "ACH-000004      0.207448    0.183822  ...       -0.209179      -0.420732   \n",
       "ACH-000005     -0.104679    0.070451  ...       -0.333891      -0.453153   \n",
       "ACH-000007     -0.176011    0.222967  ...       -0.335173      -0.452485   \n",
       "ACH-000009      0.053202    0.118570  ...       -0.294201      -0.317915   \n",
       "\n",
       "            ZXDA (7789)  ZXDB (158586)  ZXDC (79364)  ZYG11A (440590)  \\\n",
       "ACH-000001     0.149662       0.309245      0.180299        -0.257746   \n",
       "ACH-000004     0.186465       0.107289      0.126151         0.068953   \n",
       "ACH-000005    -0.093295      -0.061744      0.009252        -0.210187   \n",
       "ACH-000007    -0.035450       0.263585      0.043859        -0.073312   \n",
       "ACH-000009    -0.063940       0.270825     -0.071296        -0.096871   \n",
       "\n",
       "            ZYG11B (79699)  ZYX (7791)  ZZEF1 (23140)  ZZZ3 (26009)  \n",
       "ACH-000001       -0.020003    0.086519       0.121076     -0.467081  \n",
       "ACH-000004       -0.389859    0.082071       0.285443     -0.075159  \n",
       "ACH-000005       -0.181788   -0.066776       0.019221     -0.165291  \n",
       "ACH-000007       -0.449223    0.016872      -0.284166     -0.449154  \n",
       "ACH-000009       -0.585607    0.073148       0.006722     -0.302816  \n",
       "\n",
       "[5 rows x 18443 columns]"
      ]
     },
     "execution_count": 9,
     "metadata": {},
     "output_type": "execute_result"
    }
   ],
   "source": [
    "df_gene_effect.head()"
   ]
  },
  {
   "cell_type": "code",
   "execution_count": 10,
   "metadata": {},
   "outputs": [],
   "source": [
    "rnaseq_strandness_inference['model_id'] = rnaseq_strandness_inference.Profile.map(profile_to_model_dict)"
   ]
  },
  {
   "cell_type": "code",
   "execution_count": 27,
   "metadata": {},
   "outputs": [],
   "source": [
    "gene_exp_with_strand = rnaseq_strandness_inference.loc[:, ['strandness', 'model_id']].merge(df_gene_effect, left_on='model_id', right_index=True).fillna(0)"
   ]
  },
  {
   "cell_type": "code",
   "execution_count": 28,
   "metadata": {},
   "outputs": [],
   "source": [
    "#gene_eff_with_strand = rnaseq_strandness_inference.loc[:, ['strandness', 'model_id']].merge(df_gene_effect, left_on='model_id', right_index=True)"
   ]
  },
  {
   "cell_type": "code",
   "execution_count": 29,
   "metadata": {},
   "outputs": [],
   "source": [
    "gene_exp_with_strand.columns = gene_exp_with_strand.columns.map(lambda x: x.split()[0])"
   ]
  },
  {
   "cell_type": "code",
   "execution_count": 30,
   "metadata": {},
   "outputs": [],
   "source": [
    "gene_exp_with_strand.columns = gene_exp_with_strand.columns.map(lambda x: x.replace(\"-\", \"_\"))"
   ]
  },
  {
   "cell_type": "code",
   "execution_count": 31,
   "metadata": {},
   "outputs": [
    {
     "data": {
      "text/html": [
       "<div>\n",
       "<style scoped>\n",
       "    .dataframe tbody tr th:only-of-type {\n",
       "        vertical-align: middle;\n",
       "    }\n",
       "\n",
       "    .dataframe tbody tr th {\n",
       "        vertical-align: top;\n",
       "    }\n",
       "\n",
       "    .dataframe thead th {\n",
       "        text-align: right;\n",
       "    }\n",
       "</style>\n",
       "<table border=\"1\" class=\"dataframe\">\n",
       "  <thead>\n",
       "    <tr style=\"text-align: right;\">\n",
       "      <th></th>\n",
       "      <th>strandness</th>\n",
       "      <th>model_id</th>\n",
       "      <th>A1BG</th>\n",
       "      <th>A1CF</th>\n",
       "      <th>A2M</th>\n",
       "      <th>A2ML1</th>\n",
       "      <th>A3GALT2</th>\n",
       "      <th>A4GALT</th>\n",
       "      <th>A4GNT</th>\n",
       "      <th>AAAS</th>\n",
       "      <th>...</th>\n",
       "      <th>ZWILCH</th>\n",
       "      <th>ZWINT</th>\n",
       "      <th>ZXDA</th>\n",
       "      <th>ZXDB</th>\n",
       "      <th>ZXDC</th>\n",
       "      <th>ZYG11A</th>\n",
       "      <th>ZYG11B</th>\n",
       "      <th>ZYX</th>\n",
       "      <th>ZZEF1</th>\n",
       "      <th>ZZZ3</th>\n",
       "    </tr>\n",
       "  </thead>\n",
       "  <tbody>\n",
       "    <tr>\n",
       "      <th>1</th>\n",
       "      <td>True</td>\n",
       "      <td>ACH-001289</td>\n",
       "      <td>-0.068904</td>\n",
       "      <td>-0.048852</td>\n",
       "      <td>0.149217</td>\n",
       "      <td>-0.099686</td>\n",
       "      <td>-0.167408</td>\n",
       "      <td>-0.034267</td>\n",
       "      <td>0.052643</td>\n",
       "      <td>-0.224737</td>\n",
       "      <td>...</td>\n",
       "      <td>-0.336887</td>\n",
       "      <td>-0.327865</td>\n",
       "      <td>0.113000</td>\n",
       "      <td>0.098985</td>\n",
       "      <td>0.228290</td>\n",
       "      <td>-0.143943</td>\n",
       "      <td>-0.436279</td>\n",
       "      <td>-0.111736</td>\n",
       "      <td>-0.115814</td>\n",
       "      <td>-0.384909</td>\n",
       "    </tr>\n",
       "    <tr>\n",
       "      <th>8</th>\n",
       "      <td>False</td>\n",
       "      <td>ACH-000792</td>\n",
       "      <td>-0.052640</td>\n",
       "      <td>-0.006476</td>\n",
       "      <td>0.133520</td>\n",
       "      <td>-0.017690</td>\n",
       "      <td>-0.040130</td>\n",
       "      <td>0.171573</td>\n",
       "      <td>0.118090</td>\n",
       "      <td>-0.055436</td>\n",
       "      <td>...</td>\n",
       "      <td>-0.199660</td>\n",
       "      <td>-0.332640</td>\n",
       "      <td>0.162474</td>\n",
       "      <td>0.230283</td>\n",
       "      <td>-0.045801</td>\n",
       "      <td>0.014840</td>\n",
       "      <td>-0.112315</td>\n",
       "      <td>0.009608</td>\n",
       "      <td>-0.171878</td>\n",
       "      <td>-0.043699</td>\n",
       "    </tr>\n",
       "    <tr>\n",
       "      <th>9</th>\n",
       "      <td>True</td>\n",
       "      <td>ACH-001098</td>\n",
       "      <td>-0.038030</td>\n",
       "      <td>0.042083</td>\n",
       "      <td>-0.019681</td>\n",
       "      <td>0.172695</td>\n",
       "      <td>-0.271337</td>\n",
       "      <td>-0.094765</td>\n",
       "      <td>0.154178</td>\n",
       "      <td>-0.442781</td>\n",
       "      <td>...</td>\n",
       "      <td>-0.164584</td>\n",
       "      <td>-0.875905</td>\n",
       "      <td>-0.209009</td>\n",
       "      <td>0.353112</td>\n",
       "      <td>0.020812</td>\n",
       "      <td>-0.033503</td>\n",
       "      <td>-0.067341</td>\n",
       "      <td>-0.157525</td>\n",
       "      <td>-0.076153</td>\n",
       "      <td>-0.180721</td>\n",
       "    </tr>\n",
       "    <tr>\n",
       "      <th>10</th>\n",
       "      <td>True</td>\n",
       "      <td>ACH-001538</td>\n",
       "      <td>-0.048501</td>\n",
       "      <td>-0.011658</td>\n",
       "      <td>-0.095111</td>\n",
       "      <td>0.111847</td>\n",
       "      <td>-0.203427</td>\n",
       "      <td>0.095461</td>\n",
       "      <td>0.019710</td>\n",
       "      <td>-0.072826</td>\n",
       "      <td>...</td>\n",
       "      <td>-0.167839</td>\n",
       "      <td>-0.468269</td>\n",
       "      <td>0.009162</td>\n",
       "      <td>0.000317</td>\n",
       "      <td>0.154488</td>\n",
       "      <td>-0.137269</td>\n",
       "      <td>-0.299843</td>\n",
       "      <td>0.013617</td>\n",
       "      <td>-0.213334</td>\n",
       "      <td>-0.438291</td>\n",
       "    </tr>\n",
       "    <tr>\n",
       "      <th>16</th>\n",
       "      <td>False</td>\n",
       "      <td>ACH-000570</td>\n",
       "      <td>0.003927</td>\n",
       "      <td>-0.057902</td>\n",
       "      <td>0.134673</td>\n",
       "      <td>0.092704</td>\n",
       "      <td>-0.293602</td>\n",
       "      <td>0.069115</td>\n",
       "      <td>-0.078678</td>\n",
       "      <td>-0.074066</td>\n",
       "      <td>...</td>\n",
       "      <td>-0.254545</td>\n",
       "      <td>-0.590306</td>\n",
       "      <td>0.170956</td>\n",
       "      <td>0.003822</td>\n",
       "      <td>-0.071664</td>\n",
       "      <td>-0.138300</td>\n",
       "      <td>-0.257072</td>\n",
       "      <td>-0.134620</td>\n",
       "      <td>-0.324711</td>\n",
       "      <td>-0.200896</td>\n",
       "    </tr>\n",
       "  </tbody>\n",
       "</table>\n",
       "<p>5 rows × 18445 columns</p>\n",
       "</div>"
      ],
      "text/plain": [
       "    strandness    model_id      A1BG      A1CF       A2M     A2ML1   A3GALT2  \\\n",
       "1         True  ACH-001289 -0.068904 -0.048852  0.149217 -0.099686 -0.167408   \n",
       "8        False  ACH-000792 -0.052640 -0.006476  0.133520 -0.017690 -0.040130   \n",
       "9         True  ACH-001098 -0.038030  0.042083 -0.019681  0.172695 -0.271337   \n",
       "10        True  ACH-001538 -0.048501 -0.011658 -0.095111  0.111847 -0.203427   \n",
       "16       False  ACH-000570  0.003927 -0.057902  0.134673  0.092704 -0.293602   \n",
       "\n",
       "      A4GALT     A4GNT      AAAS  ...    ZWILCH     ZWINT      ZXDA      ZXDB  \\\n",
       "1  -0.034267  0.052643 -0.224737  ... -0.336887 -0.327865  0.113000  0.098985   \n",
       "8   0.171573  0.118090 -0.055436  ... -0.199660 -0.332640  0.162474  0.230283   \n",
       "9  -0.094765  0.154178 -0.442781  ... -0.164584 -0.875905 -0.209009  0.353112   \n",
       "10  0.095461  0.019710 -0.072826  ... -0.167839 -0.468269  0.009162  0.000317   \n",
       "16  0.069115 -0.078678 -0.074066  ... -0.254545 -0.590306  0.170956  0.003822   \n",
       "\n",
       "        ZXDC    ZYG11A    ZYG11B       ZYX     ZZEF1      ZZZ3  \n",
       "1   0.228290 -0.143943 -0.436279 -0.111736 -0.115814 -0.384909  \n",
       "8  -0.045801  0.014840 -0.112315  0.009608 -0.171878 -0.043699  \n",
       "9   0.020812 -0.033503 -0.067341 -0.157525 -0.076153 -0.180721  \n",
       "10  0.154488 -0.137269 -0.299843  0.013617 -0.213334 -0.438291  \n",
       "16 -0.071664 -0.138300 -0.257072 -0.134620 -0.324711 -0.200896  \n",
       "\n",
       "[5 rows x 18445 columns]"
      ]
     },
     "execution_count": 31,
     "metadata": {},
     "output_type": "execute_result"
    }
   ],
   "source": [
    "gene_exp_with_strand.head()"
   ]
  },
  {
   "cell_type": "code",
   "execution_count": 32,
   "metadata": {},
   "outputs": [
    {
     "data": {
      "image/png": "[encoded data removed]",
      "text/plain": [
       "<Figure size 800x600 with 1 Axes>"
      ]
     },
     "metadata": {},
     "output_type": "display_data"
    }
   ],
   "source": [
    "fig, ax = plt.subplots(figsize=(8, 6))\n",
    "fig = gene_exp_with_strand.boxplot(\"TP53\", \"strandness\", ax=ax, grid=False)"
   ]
  },
  {
   "cell_type": "code",
   "execution_count": 33,
   "metadata": {},
   "outputs": [],
   "source": [
    "from statsmodels.stats.api import anova_lm\n",
    "anova_tables = []\n",
    "for gene in gene_exp_with_strand.columns[2:]:\n",
    "    gene_exp_with_strand_lm = ols(f\"{gene} ~ C(strandness)\", data=gene_exp_with_strand).fit()\n",
    "    table9 = anova_lm(gene_exp_with_strand_lm, type=2)\n",
    "    anova_tables.append(table9)\n",
    "    #print(gene_exp_with_strand_lm.model.data.orig_exog)"
   ]
  },
  {
   "cell_type": "code",
   "execution_count": 34,
   "metadata": {},
   "outputs": [],
   "source": [
    "PR_dict = {}\n",
    "for gene, table in zip(gene_exp_with_strand.columns[2:], anova_tables):\n",
    "    PR_dict[gene] = table.loc[:, 'PR(>F)'][0]\n",
    "    #break"
   ]
  },
  {
   "cell_type": "code",
   "execution_count": 35,
   "metadata": {},
   "outputs": [],
   "source": [
    "import pandas as pd\n",
    "from cds import plotting\n",
    "\n",
    "PR_series = pd.Series(PR_dict)"
   ]
  },
  {
   "cell_type": "code",
   "execution_count": 47,
   "metadata": {},
   "outputs": [
    {
     "data": {
      "text/plain": [
       "Text(0.5, 0, 'CRISPR gene effect ANOVA p value with strandness')"
      ]
     },
     "execution_count": 47,
     "metadata": {},
     "output_type": "execute_result"
    },
    {
     "data": {
      "image/png": "[encoded data removed]",
      "text/plain": [
       "<Figure size 640x480 with 1 Axes>"
      ]
     },
     "metadata": {},
     "output_type": "display_data"
    }
   ],
   "source": [
    "sns.histplot(PR_series)\n",
    "plt.xlabel(\"CRISPR gene effect ANOVA p value with strandness\")"
   ]
  },
  {
   "cell_type": "code",
   "execution_count": 37,
   "metadata": {},
   "outputs": [
    {
     "data": {
      "text/plain": [
       "RPL15     1.341413e-30\n",
       "RPSA      1.650799e-30\n",
       "LCE2C     7.991254e-29\n",
       "RPL7      3.262165e-25\n",
       "EIF1AY    4.391667e-25\n",
       "              ...     \n",
       "SHLD3     3.781069e-13\n",
       "PRKDC     3.867755e-13\n",
       "SVOP      3.952837e-13\n",
       "S100A7    3.979587e-13\n",
       "IL3RA     4.696665e-13\n",
       "Length: 100, dtype: float64"
      ]
     },
     "execution_count": 37,
     "metadata": {},
     "output_type": "execute_result"
    }
   ],
   "source": [
    "PR_series.sort_values()[:100]"
   ]
  },
  {
   "cell_type": "code",
   "execution_count": 38,
   "metadata": {},
   "outputs": [
    {
     "data": {
      "text/plain": [
       "(2723, (18443,))"
      ]
     },
     "execution_count": 38,
     "metadata": {},
     "output_type": "execute_result"
    }
   ],
   "source": [
    "(PR_series<1e-3).sum(), PR_series.shape"
   ]
  },
  {
   "cell_type": "code",
   "execution_count": 39,
   "metadata": {},
   "outputs": [],
   "source": [
    "oncokb = pd.read_csv(\"~/OncoKB_Annotated_Final_2024-03-19_08-12-54.csv\")"
   ]
  },
  {
   "cell_type": "code",
   "execution_count": 40,
   "metadata": {},
   "outputs": [
    {
     "data": {
      "text/html": [
       "<div>\n",
       "<style scoped>\n",
       "    .dataframe tbody tr th:only-of-type {\n",
       "        vertical-align: middle;\n",
       "    }\n",
       "\n",
       "    .dataframe tbody tr th {\n",
       "        vertical-align: top;\n",
       "    }\n",
       "\n",
       "    .dataframe thead th {\n",
       "        text-align: right;\n",
       "    }\n",
       "</style>\n",
       "<table border=\"1\" class=\"dataframe\">\n",
       "  <thead>\n",
       "    <tr style=\"text-align: right;\">\n",
       "      <th></th>\n",
       "      <th>Chromosome</th>\n",
       "      <th>Position</th>\n",
       "      <th>Ref</th>\n",
       "      <th>Alt</th>\n",
       "      <th>EntrezGeneID</th>\n",
       "      <th>HugoSymbol</th>\n",
       "      <th>ProteinChange</th>\n",
       "      <th>HgvsFormat</th>\n",
       "      <th>Oncogenic</th>\n",
       "      <th>MutationEffect</th>\n",
       "      <th>Citation_PMIDs</th>\n",
       "      <th>HighestSensitiveLevel</th>\n",
       "      <th>HighestResistanceLevel</th>\n",
       "      <th>Hotspot</th>\n",
       "    </tr>\n",
       "  </thead>\n",
       "  <tbody>\n",
       "    <tr>\n",
       "      <th>0</th>\n",
       "      <td>chr1</td>\n",
       "      <td>26732685</td>\n",
       "      <td>C</td>\n",
       "      <td>T</td>\n",
       "      <td>8289.0</td>\n",
       "      <td>ARID1A</td>\n",
       "      <td>Q605*</td>\n",
       "      <td>1:g.26732685C&gt;T</td>\n",
       "      <td>Likely Oncogenic</td>\n",
       "      <td>Likely Loss-of-function</td>\n",
       "      <td>['21900401', '24899687', '22009941', '25625625']</td>\n",
       "      <td>LEVEL_4</td>\n",
       "      <td>NaN</td>\n",
       "      <td>False</td>\n",
       "    </tr>\n",
       "    <tr>\n",
       "      <th>1</th>\n",
       "      <td>chr1</td>\n",
       "      <td>235229231</td>\n",
       "      <td>T</td>\n",
       "      <td>C</td>\n",
       "      <td>NaN</td>\n",
       "      <td>ARID4B</td>\n",
       "      <td>E299E</td>\n",
       "      <td>1:g.235229231T&gt;C</td>\n",
       "      <td>Likely Oncogenic</td>\n",
       "      <td>Likely Loss-of-function</td>\n",
       "      <td>['24382590', '18728284']</td>\n",
       "      <td>NaN</td>\n",
       "      <td>NaN</td>\n",
       "      <td>False</td>\n",
       "    </tr>\n",
       "    <tr>\n",
       "      <th>2</th>\n",
       "      <td>chr2</td>\n",
       "      <td>47783349</td>\n",
       "      <td>G</td>\n",
       "      <td>A</td>\n",
       "      <td>2956.0</td>\n",
       "      <td>MSH6</td>\n",
       "      <td>G39E</td>\n",
       "      <td>2:g.47783349G&gt;A</td>\n",
       "      <td>Inconclusive</td>\n",
       "      <td>Inconclusive</td>\n",
       "      <td>['24362816']</td>\n",
       "      <td>NaN</td>\n",
       "      <td>NaN</td>\n",
       "      <td>False</td>\n",
       "    </tr>\n",
       "    <tr>\n",
       "      <th>3</th>\n",
       "      <td>chr2</td>\n",
       "      <td>141059052</td>\n",
       "      <td>A</td>\n",
       "      <td>G</td>\n",
       "      <td>NaN</td>\n",
       "      <td>LRP1B</td>\n",
       "      <td>V413V</td>\n",
       "      <td>2:g.141059052A&gt;G</td>\n",
       "      <td>Likely Oncogenic</td>\n",
       "      <td>Likely Loss-of-function</td>\n",
       "      <td>['28408316', '33653800']</td>\n",
       "      <td>NaN</td>\n",
       "      <td>NaN</td>\n",
       "      <td>False</td>\n",
       "    </tr>\n",
       "    <tr>\n",
       "      <th>4</th>\n",
       "      <td>chr3</td>\n",
       "      <td>37048980</td>\n",
       "      <td>A</td>\n",
       "      <td>G</td>\n",
       "      <td>4292.0</td>\n",
       "      <td>MLH1</td>\n",
       "      <td>Q448R</td>\n",
       "      <td>3:g.37048980A&gt;G</td>\n",
       "      <td>Inconclusive</td>\n",
       "      <td>Inconclusive</td>\n",
       "      <td>['25092538', '24362816']</td>\n",
       "      <td>NaN</td>\n",
       "      <td>NaN</td>\n",
       "      <td>False</td>\n",
       "    </tr>\n",
       "  </tbody>\n",
       "</table>\n",
       "</div>"
      ],
      "text/plain": [
       "  Chromosome   Position Ref Alt  EntrezGeneID HugoSymbol ProteinChange  \\\n",
       "0       chr1   26732685   C   T        8289.0     ARID1A         Q605*   \n",
       "1       chr1  235229231   T   C           NaN     ARID4B         E299E   \n",
       "2       chr2   47783349   G   A        2956.0       MSH6          G39E   \n",
       "3       chr2  141059052   A   G           NaN      LRP1B         V413V   \n",
       "4       chr3   37048980   A   G        4292.0       MLH1         Q448R   \n",
       "\n",
       "         HgvsFormat         Oncogenic           MutationEffect  \\\n",
       "0   1:g.26732685C>T  Likely Oncogenic  Likely Loss-of-function   \n",
       "1  1:g.235229231T>C  Likely Oncogenic  Likely Loss-of-function   \n",
       "2   2:g.47783349G>A      Inconclusive             Inconclusive   \n",
       "3  2:g.141059052A>G  Likely Oncogenic  Likely Loss-of-function   \n",
       "4   3:g.37048980A>G      Inconclusive             Inconclusive   \n",
       "\n",
       "                                     Citation_PMIDs HighestSensitiveLevel  \\\n",
       "0  ['21900401', '24899687', '22009941', '25625625']               LEVEL_4   \n",
       "1                          ['24382590', '18728284']                   NaN   \n",
       "2                                      ['24362816']                   NaN   \n",
       "3                          ['28408316', '33653800']                   NaN   \n",
       "4                          ['25092538', '24362816']                   NaN   \n",
       "\n",
       "  HighestResistanceLevel  Hotspot  \n",
       "0                    NaN    False  \n",
       "1                    NaN    False  \n",
       "2                    NaN    False  \n",
       "3                    NaN    False  \n",
       "4                    NaN    False  "
      ]
     },
     "execution_count": 40,
     "metadata": {},
     "output_type": "execute_result"
    }
   ],
   "source": [
    "oncokb.head()"
   ]
  },
  {
   "cell_type": "code",
   "execution_count": 45,
   "metadata": {},
   "outputs": [
    {
     "data": {
      "text/plain": [
       "((93,), (44,))"
      ]
     },
     "execution_count": 45,
     "metadata": {},
     "output_type": "execute_result"
    }
   ],
   "source": [
    "np.intersect1d(PR_series[PR_series<1e-2].index, oncokb.HugoSymbol).shape, \\\n",
    "  np.intersect1d(PR_series[PR_series<1e-3].index, oncokb.HugoSymbol).shape"
   ]
  },
  {
   "cell_type": "code",
   "execution_count": 42,
   "metadata": {},
   "outputs": [
    {
     "data": {
      "text/plain": [
       "(array(['ARID1A', 'ASXL2', 'ATR', 'ATRX', 'BARD1', 'BCL11B', 'BRCA2',\n",
       "        'BRD4', 'CCNQ', 'CDK12', 'CDKN1A', 'CDKN2B', 'CEBPA', 'CHEK1',\n",
       "        'CIC', 'CRBN', 'CREBBP', 'CYLD', 'DICER1', 'ECT2L', 'EGR1',\n",
       "        'ERCC4', 'ERRFI1', 'ESCO2', 'FANCA', 'FANCC', 'FANCD2', 'FANCL',\n",
       "        'FAS', 'FH', 'FOXL2', 'GNA11', 'H3C2', 'HNF1A', 'HTATIP2', 'ID3',\n",
       "        'INHA', 'KDM6A', 'KDR', 'KLF2', 'LRP6', 'MAL2', 'MAP2K4', 'MLH1',\n",
       "        'MPL', 'MSH3', 'MTOR', 'MYC', 'MYCN', 'NFE2L2', 'NOTCH3', 'NOTCH4',\n",
       "        'NPM1', 'NSD2', 'NTHL1', 'NTRK1', 'PARP1', 'PHOX2B', 'PIK3R3',\n",
       "        'POLE', 'PPM1D', 'PRDM1', 'PRKDC', 'PRPF8', 'PTPN13', 'RAD50',\n",
       "        'RAD51B', 'RAD52', 'RECQL4', 'RHOA', 'RNF43', 'RPS6KA4', 'RXRA',\n",
       "        'SDHC', 'SESN3', 'SETD2', 'SHQ1', 'SLFN11', 'SLX4', 'SOX17',\n",
       "        'STAT5B', 'TGFBR1', 'TGFBR2', 'TMPRSS2', 'TP53', 'TP53BP1', 'TP63',\n",
       "        'TYK2', 'XPO1', 'XRCC1', 'ZBTB20', 'ZFHX3', 'ZNF750'], dtype=object),\n",
       " (437,))"
      ]
     },
     "execution_count": 42,
     "metadata": {},
     "output_type": "execute_result"
    }
   ],
   "source": [
    "np.intersect1d(PR_series[PR_series<1e-2].index, oncokb.HugoSymbol), oncokb.HugoSymbol.unique().shape"
   ]
  },
  {
   "cell_type": "code",
   "execution_count": 44,
   "metadata": {},
   "outputs": [
    {
     "data": {
      "text/plain": [
       "(array(['ASXL2', 'ATR', 'ATRX', 'BARD1', 'BCL11B', 'CCNQ', 'CDK12',\n",
       "        'CHEK1', 'CYLD', 'EGR1', 'ERCC4', 'ERRFI1', 'ESCO2', 'FANCA',\n",
       "        'FANCC', 'FANCD2', 'FANCL', 'KDR', 'KLF2', 'LRP6', 'MAL2', 'MSH3',\n",
       "        'NOTCH3', 'NTHL1', 'PARP1', 'PPM1D', 'PRDM1', 'PRKDC', 'PRPF8',\n",
       "        'RAD50', 'RAD51B', 'RAD52', 'RECQL4', 'SESN3', 'SHQ1', 'SLFN11',\n",
       "        'SLX4', 'STAT5B', 'TGFBR2', 'TMPRSS2', 'TP53', 'TP53BP1', 'TP63',\n",
       "        'ZFHX3'], dtype=object),\n",
       " (437,))"
      ]
     },
     "execution_count": 44,
     "metadata": {},
     "output_type": "execute_result"
    }
   ],
   "source": [
    "np.intersect1d(PR_series[PR_series<1e-3].index, oncokb.HugoSymbol), oncokb.HugoSymbol.unique().shape"
   ]
  },
  {
   "cell_type": "code",
   "execution_count": 43,
   "metadata": {},
   "outputs": [
    {
     "data": {
      "image/png": "[encoded data removed]",
      "text/plain": [
       "<Figure size 640x480 with 1 Axes>"
      ]
     },
     "metadata": {},
     "output_type": "display_data"
    }
   ],
   "source": [
    "plotting.waterfall_plot(PR_series)"
   ]
  }
 ],
 "metadata": {
  "kernelspec": {
   "display_name": "cds-omics",
   "language": "python",
   "name": "python3"
  },
  "language_info": {
   "codemirror_mode": {
    "name": "ipython",
    "version": 3
   },
   "file_extension": ".py",
   "mimetype": "text/x-python",
   "name": "python",
   "nbconvert_exporter": "python",
   "pygments_lexer": "ipython3",
   "version": "3.9.16"
  }
 },
 "nbformat": 4,
 "nbformat_minor": 2
}
