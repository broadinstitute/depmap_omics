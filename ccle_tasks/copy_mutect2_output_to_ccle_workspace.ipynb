{
 "cells": [
  {
   "cell_type": "code",
   "execution_count": null,
   "id": "e9311808",
   "metadata": {},
   "outputs": [],
   "source": [
    "import dalmatian as dm\n",
    "import pandas as pd\n",
    "from genepy.utils import helper as h\n",
    "import numpy as np"
   ]
  },
  {
   "cell_type": "code",
   "execution_count": null,
   "id": "0932ba85",
   "metadata": {},
   "outputs": [],
   "source": [
    "ccle_wm = dm.WorkspaceManager(\"fccredits-silver-tan-7621/CCLE_v2\").disable_hound()\n",
    "wgs_wm = dm.WorkspaceManager(\"broad-firecloud-ccle/DepMap_WGS_CN\").disable_hound()\n",
    "wes_wm = dm.WorkspaceManager(\"broad-firecloud-ccle/DepMap_WES_CN_hg38\").disable_hound()"
   ]
  },
  {
   "cell_type": "code",
   "execution_count": null,
   "id": "d0bd8aa4",
   "metadata": {},
   "outputs": [],
   "source": [
    "ccle_samples = ccle_wm.get_samples()\n",
    "wgs_samples = wgs_wm.get_samples()\n",
    "wes_samples = wes_wm.get_samples()"
   ]
  },
  {
   "cell_type": "code",
   "execution_count": null,
   "id": "c19c4e8c",
   "metadata": {},
   "outputs": [],
   "source": [
    "cmds = []\n",
    "\n",
    "for i in ccle_samples.index:\n",
    "    if not pd.isnull(ccle_samples.loc[i, \"hg38_wgs_bam\"]):\n",
    "        cdsid = ccle_samples.loc[i, \"hg38_wgs_bam\"].split('/')[-1][:10]\n",
    "        vcf_old = wgs_samples.loc[cdsid, \"final_vcf\"]\n",
    "        vcf_new = \"gs://ccle-mutation/mutect2_vcf/\" + vcf_old.split('/')[-1]\n",
    "        if not pd.isnull(vcf_old):\n",
    "            ccle_samples.loc[i, \"mutect2_vcf\"] = vcf_new\n",
    "            cmds.append(\"gsutil -u broad-firecloud-ccle cp \" + vcf_old + \" \" + vcf_new)\n",
    "        parquet_old_all = wgs_samples.loc[cdsid, \"dna_pipeline_main_parquet\"]\n",
    "        if len(parquet_old_all) > 0:\n",
    "            new_parquet_list = []\n",
    "            for p in parquet_old_all:\n",
    "                new_parquet = \"gs://ccle-mutation/mutect2_parquet/\" + p.split('/')[-1]\n",
    "                cmds.append(\"gsutil -u broad-firecloud-ccle cp \" + p + \" \" + new_parquet)\n",
    "                new_parquet_list.append(new_parquet)\n",
    "            ccle_samples.at[i, \"mutect2_parquet\"] = new_parquet_list"
   ]
  },
  {
   "cell_type": "code",
   "execution_count": null,
   "id": "b9033590",
   "metadata": {},
   "outputs": [],
   "source": [
    "len(ccle_samples)"
   ]
  },
  {
   "cell_type": "code",
   "execution_count": null,
   "id": "ff163505",
   "metadata": {},
   "outputs": [],
   "source": [
    "h.parrun(cmds, cores=8)"
   ]
  },
  {
   "cell_type": "code",
   "execution_count": null,
   "id": "8a1e831c",
   "metadata": {},
   "outputs": [],
   "source": [
    "print(\"done copying\")"
   ]
  },
  {
   "cell_type": "code",
   "execution_count": null,
   "id": "68a8dc6a",
   "metadata": {},
   "outputs": [],
   "source": [
    "ccle_wm.update_sample_attributes(ccle_samples)"
   ]
  },
  {
   "cell_type": "code",
   "execution_count": null,
   "id": "51db649b",
   "metadata": {},
   "outputs": [],
   "source": [
    "df = ccle_samples[[\"participant\"]]"
   ]
  },
  {
   "cell_type": "code",
   "execution_count": null,
   "id": "1071b117",
   "metadata": {},
   "outputs": [],
   "source": [
    "df.to_csv(\"participants.csv\", index=False)"
   ]
  },
  {
   "cell_type": "markdown",
   "id": "fbc6f952",
   "metadata": {},
   "source": [
    "## first populate the wes workspace w/fixed vcf"
   ]
  },
  {
   "cell_type": "code",
   "execution_count": null,
   "id": "5f31e0d7",
   "metadata": {},
   "outputs": [],
   "source": [
    "from google.cloud import storage\n",
    "\n",
    "client = storage.Client()\n",
    "for blob in client.list_blobs('fc-secure-d2a2d895-a7af-4117-bdc7-652d7d268324', prefix='6001c090-b09a-4785-8b8a-33aa9c3a7ec6/omics_post_mutect2'):\n",
    "    if blob.name.endswith(\"_fixed.vcf.gz\"):\n",
    "        fn = blob.name\n",
    "        cdsid = fn.split('/')[-1][:10]\n",
    "        if pd.isnull(wes_samples.loc[cdsid, \"mutect2_fixed_vcf\"]):\n",
    "            wes_samples.loc[cdsid, \"mutect2_fixed_vcf\"] = \"gs://fc-secure-d2a2d895-a7af-4117-bdc7-652d7d268324/\" + blob.name"
   ]
  },
  {
   "cell_type": "code",
   "execution_count": null,
   "id": "159d51bc",
   "metadata": {},
   "outputs": [],
   "source": [
    "wes_wm.update_sample_attributes(wes_samples)"
   ]
  },
  {
   "cell_type": "code",
   "execution_count": null,
   "id": "8f26fb4c",
   "metadata": {},
   "outputs": [],
   "source": [
    "cmds = []\n",
    "\n",
    "for i in ccle_samples.index:\n",
    "    if not pd.isnull(ccle_samples.loc[i, \"hg38_wes_bam\"]):\n",
    "        cdsid = ccle_samples.loc[i, \"hg38_wes_bam\"].split('/')[-1][:10]\n",
    "        vcf_old = wes_samples.loc[cdsid, \"mutect2_fixed_vcf\"]\n",
    "        vcf_new = \"gs://ccle-mutation/mutect2_vcf/\" + vcf_old.split('/')[-1]\n",
    "        if not pd.isnull(vcf_old):\n",
    "            ccle_samples.loc[i, \"mutect2_vcf_wes\"] = vcf_new\n",
    "            cmds.append(\"gsutil -u broad-firecloud-ccle cp \" + vcf_old + \" \" + vcf_new)\n",
    "        parquet_old_all = wes_samples.loc[cdsid, \"dna_pipeline_main_parquet\"]\n",
    "        if len(parquet_old_all) > 0:\n",
    "            new_parquet_list = []\n",
    "            for p in parquet_old_all:\n",
    "                new_parquet = \"gs://ccle-mutation/mutect2_parquet/\" + p.split('/')[-1]\n",
    "                cmds.append(\"gsutil -u broad-firecloud-ccle cp \" + p + \" \" + new_parquet)\n",
    "                new_parquet_list.append(new_parquet)\n",
    "            ccle_samples.at[i, \"mutect2_parquet_wes\"] = new_parquet_list"
   ]
  },
  {
   "cell_type": "code",
   "execution_count": null,
   "id": "a0e541c3",
   "metadata": {},
   "outputs": [],
   "source": [
    "cmds"
   ]
  },
  {
   "cell_type": "code",
   "execution_count": null,
   "id": "203c1dcd",
   "metadata": {},
   "outputs": [],
   "source": [
    "h.parrun(cmds, cores=8)\n",
    "print(\"done copying\")"
   ]
  },
  {
   "cell_type": "code",
   "execution_count": null,
   "id": "f02a34ec",
   "metadata": {},
   "outputs": [],
   "source": [
    "ccle_samples[[\"mutect2_parquet_wes\"]]"
   ]
  },
  {
   "cell_type": "code",
   "execution_count": null,
   "id": "2901d660",
   "metadata": {},
   "outputs": [],
   "source": [
    "ccle_wm.update_sample_attributes(ccle_samples)"
   ]
  },
  {
   "cell_type": "code",
   "execution_count": null,
   "id": "721b526f",
   "metadata": {},
   "outputs": [],
   "source": []
  },
  {
   "cell_type": "code",
   "execution_count": null,
   "id": "ddda1400",
   "metadata": {},
   "outputs": [],
   "source": []
  },
  {
   "cell_type": "code",
   "execution_count": null,
   "id": "bc0ad2bd",
   "metadata": {},
   "outputs": [],
   "source": []
  }
 ],
 "metadata": {
  "kernelspec": {
   "display_name": "Python 3",
   "language": "python",
   "name": "python3"
  },
  "language_info": {
   "codemirror_mode": {
    "name": "ipython",
    "version": 3
   },
   "file_extension": ".py",
   "mimetype": "text/x-python",
   "name": "python",
   "nbconvert_exporter": "python",
   "pygments_lexer": "ipython3",
   "version": "3.8.13"
  }
 },
 "nbformat": 4,
 "nbformat_minor": 5
}
