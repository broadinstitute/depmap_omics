{
 "cells": [
  {
   "cell_type": "code",
   "execution_count": null,
   "id": "56b76295",
   "metadata": {},
   "outputs": [],
   "source": [
    "from depmapomics.config import *\n",
    "from depmapomics import tracker\n",
    "from depmapomics import upload\n",
    "from depmapomics import mutations\n",
    "from genepy.utils import helper as h"
   ]
  },
  {
   "cell_type": "code",
   "execution_count": null,
   "id": "9c0bfc92",
   "metadata": {},
   "outputs": [],
   "source": [
    "wgs_mat = mutations.generateGermlineMatrix(refworkspace=WGSWORKSPACE,\n",
    "        vcfdir=WGSVCFDIR,\n",
    "        savedir=\"output/\" + SAMPLESETNAME + \"/\",\n",
    "        filename=\"binary_mutguides_wgs.tsv.gz\",\n",
    "        bed_location=GUIDESBED,)"
   ]
  },
  {
   "cell_type": "code",
   "execution_count": null,
   "id": "3b1f8396",
   "metadata": {},
   "outputs": [],
   "source": [
    "### test running bcftools w/ gcs data vs. w/ local data\n",
    "vcfslist = [\"gs://fc-secure-bd7b8bc9-f665-4269-997e-5a402088a369/4b0d5819-84a3-4a55-a23b-cd169cc9caf9/Mutect2/d05388cc-7977-4191-80ac-8656a7d451f0/call-Filter/CDS-00Nrci.wgs_ccle-filtered.vcf.gz\",\n",
    "           \"gs://fc-secure-bd7b8bc9-f665-4269-997e-5a402088a369/4b0d5819-84a3-4a55-a23b-cd169cc9caf9/Mutect2/2b5664d2-fa3d-4bf9-b60a-5cfa81209db3/call-Filter/CDS-0b4jFH.wgs_ccle-filtered.vcf.gz\",\n",
    "           \"gs://fc-secure-bd7b8bc9-f665-4269-997e-5a402088a369/8170451d-2504-473b-9087-0088d47ead7b/Mutect2/504c5aa7-90dc-491f-8386-12239b3ab7b5/call-Filter/CDS-0bV15m.wgs_ccle-filtered.vcf.gz\"]"
   ]
  },
  {
   "cell_type": "code",
   "execution_count": null,
   "id": "2d610169",
   "metadata": {},
   "outputs": [],
   "source": [
    "# 1. directly pulling from gs bucket\n",
    "bed_location=GUIDESBED\n",
    "vcfdir=WGSVCFDIR\n",
    "cmd = [\n",
    "        \"export GCS_OAUTH_TOKEN=`gcloud auth application-default print-access-token`\"\n",
    "        + \" && bcftools query \\\n",
    "  --exclude \\\"FILTER!='PASS'&GT!='mis'&GT!~'\\.'\\\" \\\n",
    "  --regions-file \"\n",
    "        + bed_location\n",
    "        + \" \\\n",
    "  --format '%CHROM\\\\t%POS\\\\t%END\\\\t%ALT{0}\\n' \"\n",
    "        + sam\n",
    "        + \" >\\\n",
    " \"\n",
    "        + vcfdir\n",
    "        + \"loc_\"\n",
    "        + sam.split(\"/\")[-1].split(\".\")[0]\n",
    "        + \".bed\"\n",
    "        for sam in vcfslist\n",
    "    ]"
   ]
  },
  {
   "cell_type": "code",
   "execution_count": null,
   "id": "f30e00f3",
   "metadata": {},
   "outputs": [],
   "source": [
    "cmd"
   ]
  },
  {
   "cell_type": "code",
   "execution_count": null,
   "id": "10858762",
   "metadata": {},
   "outputs": [],
   "source": [
    "from datetime import datetime\n",
    "\n",
    "start=datetime.now()\n",
    "\n",
    "h.parrun(cmd, cores=16)\n",
    "\n",
    "print(datetime.now()-start)"
   ]
  },
  {
   "cell_type": "code",
   "execution_count": null,
   "id": "8acc9046",
   "metadata": {},
   "outputs": [],
   "source": [
    "# 2. downloading vcfs and indices\n",
    "vcfdir = \"/tmp/vcfs_wgs_test/\"\n",
    "cmd = [\n",
    "        \"gsutil cp \"\n",
    "        + sam\n",
    "        + \" \"\n",
    "        + vcfdir\n",
    "        + sam.split(\"/\")[-1]\n",
    "        + \" && gsutil cp \"\n",
    "        + sam + \".tbi\"\n",
    "        + \" \"\n",
    "        + vcfdir\n",
    "        + sam.split(\"/\")[-1] + \".tbi\"\n",
    "        + \" && bcftools query \\\n",
    "  --exclude \\\"FILTER!='PASS'&GT!='mis'&GT!~'\\.'\\\" \\\n",
    "  --regions-file \"\n",
    "        + bed_location\n",
    "        + \" \\\n",
    "  --format '%CHROM\\\\t%POS\\\\t%END\\\\t%ALT{0}\\n' \"\n",
    "        + vcfdir\n",
    "        + sam.split(\"/\")[-1]\n",
    "        + \" >\\\n",
    " \"\n",
    "        + vcfdir\n",
    "        + \"loc_\"\n",
    "        + sam.split(\"/\")[-1].split(\".\")[0]\n",
    "        + \".bed &&\\\n",
    " rm \"\n",
    "        + vcfdir\n",
    "        + sam.split(\"/\")[-1]\n",
    "        + \"*\"\n",
    "        for sam in vcfslist\n",
    "    ]"
   ]
  },
  {
   "cell_type": "code",
   "execution_count": null,
   "id": "beac6dc1",
   "metadata": {},
   "outputs": [],
   "source": [
    "cmd"
   ]
  },
  {
   "cell_type": "code",
   "execution_count": null,
   "id": "1925b3a4",
   "metadata": {},
   "outputs": [],
   "source": [
    "from datetime import datetime\n",
    "\n",
    "start=datetime.now()\n",
    "\n",
    "h.parrun(cmd, cores=16)\n",
    "\n",
    "print(datetime.now()-start)"
   ]
  },
  {
   "cell_type": "code",
   "execution_count": null,
   "id": "d26d2423",
   "metadata": {},
   "outputs": [],
   "source": []
  }
 ],
 "metadata": {
  "kernelspec": {
   "display_name": "Python 3",
   "language": "python",
   "name": "python3"
  },
  "language_info": {
   "codemirror_mode": {
    "name": "ipython",
    "version": 3
   },
   "file_extension": ".py",
   "mimetype": "text/x-python",
   "name": "python",
   "nbconvert_exporter": "python",
   "pygments_lexer": "ipython3",
   "version": "3.8.2"
  }
 },
 "nbformat": 4,
 "nbformat_minor": 5
}
