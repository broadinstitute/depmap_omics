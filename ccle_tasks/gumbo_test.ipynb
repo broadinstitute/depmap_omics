{
 "cells": [
  {
   "cell_type": "code",
   "execution_count": null,
   "id": "56b76295",
   "metadata": {},
   "outputs": [],
   "source": [
    "from depmapomics.config import *\n",
    "from depmapomics import tracker\n",
    "from depmapomics import upload\n",
    "from depmapomics import mutations\n",
    "from genepy.utils import helper as h"
   ]
  },
  {
   "cell_type": "code",
   "execution_count": null,
   "id": "9c0bfc92",
   "metadata": {},
   "outputs": [],
   "source": [
    "wgs_mat = mutations.generateGermlineMatrix(refworkspace=WGSWORKSPACE,\n",
    "        vcfdir=WGSVCFDIR,\n",
    "        savedir=\"output/\" + SAMPLESETNAME + \"/\",\n",
    "        filename=\"binary_mutguides_wgs.tsv.gz\",\n",
    "        bed_location=GUIDESBED,)"
   ]
  },
  {
   "cell_type": "code",
   "execution_count": null,
   "id": "d26d2423",
   "metadata": {},
   "outputs": [],
   "source": [
    "import gumbo_client\n",
    "\n",
    "client = gumbo_client.Client(username=\"szhang\")"
   ]
  },
  {
   "cell_type": "code",
   "execution_count": null,
   "id": "107dc7ef",
   "metadata": {},
   "outputs": [],
   "source": [
    "pr_table = client.get(\"OmicsProfile\")"
   ]
  },
  {
   "cell_type": "code",
   "execution_count": null,
   "id": "4c72a429",
   "metadata": {},
   "outputs": [],
   "source": [
    "pr_table = client.get(\"omics_profile\")"
   ]
  },
  {
   "cell_type": "code",
   "execution_count": null,
   "id": "dc03b4ba",
   "metadata": {},
   "outputs": [],
   "source": [
    "import gumbo_client\n",
    "\n",
    "client = gumbo_client.Client(username=\"szhang\")\n",
    "pr_table = client.get(\"omics_profile\")"
   ]
  },
  {
   "cell_type": "code",
   "execution_count": null,
   "id": "34055d77",
   "metadata": {},
   "outputs": [],
   "source": [
    "pr_table.columns"
   ]
  },
  {
   "cell_type": "code",
   "execution_count": null,
   "id": "0d25b3e8",
   "metadata": {},
   "outputs": [],
   "source": []
  }
 ],
 "metadata": {
  "kernelspec": {
   "display_name": "Python 3",
   "language": "python",
   "name": "python3"
  },
  "language_info": {
   "codemirror_mode": {
    "name": "ipython",
    "version": 3
   },
   "file_extension": ".py",
   "mimetype": "text/x-python",
   "name": "python",
   "nbconvert_exporter": "python",
   "pygments_lexer": "ipython3",
   "version": "3.8.2"
  }
 },
 "nbformat": 4,
 "nbformat_minor": 5
}
