{
 "cells": [
  {
   "cell_type": "code",
   "execution_count": null,
   "id": "56b76295",
   "metadata": {},
   "outputs": [],
   "source": [
    "from depmapomics.config import *\n",
    "from depmap_omics_upload import tracker\n",
    "from depmap_omics_upload import upload\n",
    "from depmapomics import mutations\n",
    "from genepy.utils import helper as h"
   ]
  },
  {
   "cell_type": "code",
   "execution_count": null,
   "id": "9ada30ee",
   "metadata": {},
   "outputs": [],
   "source": [
    "from depmap_omics_upload import tracker, upload\n",
    "mytracker = tracker.SampleTracker()"
   ]
  },
  {
   "cell_type": "code",
   "execution_count": null,
   "id": "d4bc9e37",
   "metadata": {},
   "outputs": [],
   "source": [
    "upload.initVirtualDatasets(samplesetname=\"22Q4\")"
   ]
  },
  {
   "cell_type": "code",
   "execution_count": null,
   "id": "886724c9",
   "metadata": {},
   "outputs": [],
   "source": [
    "from depmap_omics_upload import tracker, upload\n",
    "\n",
    "virtual = {'internal': '766e45863f8549feafda32aab71a9555',\n",
    " 'dmc': '033e4a5eea94476c8832addaa0532e2a',\n",
    " 'public': '7aa37823a3ed4c2ba211e75fb3d4157e'}"
   ]
  },
  {
   "cell_type": "code",
   "execution_count": null,
   "id": "47210d9e",
   "metadata": {},
   "outputs": [],
   "source": [
    "upload.makeModelLvMatrices(virtual_ids=virtual, files_nummat=LATEST2FN_NUMMAT_MODEL, files_table=LATEST2FN_TABLE_MODEL)"
   ]
  },
  {
   "cell_type": "code",
   "execution_count": null,
   "id": "f854ca8a",
   "metadata": {},
   "outputs": [],
   "source": [
    "upload.makePRLvMatrices(virtual_ids=virtual, files_nummat=LATEST2FN_NUMMAT_PR, files_table=LATEST2FN_TABLE_PR)"
   ]
  },
  {
   "cell_type": "code",
   "execution_count": null,
   "id": "4b32f887",
   "metadata": {},
   "outputs": [],
   "source": [
    "upload.uploadAuxTables(taiga_ids=virtual_dryrun,)"
   ]
  },
  {
   "cell_type": "code",
   "execution_count": null,
   "id": "e9754290",
   "metadata": {},
   "outputs": [],
   "source": [
    "set(CCLE_expression.index) - set(OmicsExpressionProteinCodingGenesTPMLogp1.index)"
   ]
  },
  {
   "cell_type": "code",
   "execution_count": null,
   "id": "9704b5ba",
   "metadata": {},
   "outputs": [],
   "source": [
    "shared_cols = [c in CCLE_expression.columns if c in OmicsExpressionProteinCodingGenesTPMLogp1.columns]\n",
    "CCLE_expression = CCLE_expression[shared_cols]"
   ]
  },
  {
   "cell_type": "code",
   "execution_count": null,
   "id": "85c76b7a",
   "metadata": {},
   "outputs": [],
   "source": [
    "CCLE_expression.corrwith(OmicsExpressionProteinCodingGenesTPMLogp1)"
   ]
  },
  {
   "cell_type": "code",
   "execution_count": null,
   "id": "da719fbf",
   "metadata": {},
   "outputs": [],
   "source": [
    "from taigapy import TaigaClient\n",
    "tc = TaigaClient()\n",
    "\n",
    "OmicsSomaticMutations = tc.get(name='internal-22q2dryrun-5ffb', version=39, file='OmicsSomaticMutations')\n",
    "OmicsSomaticMutations.columns"
   ]
  },
  {
   "cell_type": "code",
   "execution_count": null,
   "id": "c0a31f9a",
   "metadata": {},
   "outputs": [],
   "source": [
    "OmicsSomaticMutations"
   ]
  },
  {
   "cell_type": "code",
   "execution_count": null,
   "id": "e0c31cce",
   "metadata": {},
   "outputs": [],
   "source": [
    "O_micsStructuralVariantsProfile = tc.get(name='dmc-22q2dryrun-0f8d', version=28, file='O​micsStructuralVariantsProfile')\n"
   ]
  },
  {
   "cell_type": "code",
   "execution_count": null,
   "id": "36a07e61",
   "metadata": {},
   "outputs": [],
   "source": [
    "O_micsStructuralVariantsProfile"
   ]
  },
  {
   "cell_type": "code",
   "execution_count": null,
   "id": "2b3ee7fc",
   "metadata": {},
   "outputs": [],
   "source": [
    "OmicsLoH = tc.get(name='dmc-22q2dryrun-0f8d', file='OmicsLoH')\n",
    "OmicsLoH"
   ]
  },
  {
   "cell_type": "code",
   "execution_count": null,
   "id": "53ccc82c",
   "metadata": {},
   "outputs": [],
   "source": [
    "from taigapy import TaigaClient\n",
    "tc = TaigaClient()\n",
    "\n",
    "somaticMutations_profile = tc.get(name='mutations-latest-f263', version=8, file='somaticMutations_profile')"
   ]
  },
  {
   "cell_type": "code",
   "execution_count": null,
   "id": "47427dc3",
   "metadata": {},
   "outputs": [],
   "source": [
    "somaticMutations_model = somaticMutations_profile[\n",
    "            somaticMutations_profile[\"DepMap_ID\"].isin(set(pr2model_dict.keys()))\n",
    "        ].replace({\"DepMap_ID\": pr2model_dict})\n",
    "somaticMutations_model.to_csv(\"somaticMutations_model.csv\", index=False)"
   ]
  },
  {
   "cell_type": "code",
   "execution_count": null,
   "id": "9e23bd8f",
   "metadata": {},
   "outputs": [],
   "source": [
    "tc.update_dataset(\n",
    "    changes_description=\"add model level maf\",\n",
    "    dataset_permaname=\"mutations-latest-f263\",\n",
    "    upload_files=[            \n",
    "        {\n",
    "            \"path\": \"somaticMutations_model.csv\",\n",
    "            \"format\": \"TableCSV\",\n",
    "            \"encoding\": \"utf-8\",\n",
    "        },\n",
    "    ],\n",
    "    upload_async=False,\n",
    "    add_all_existing_files=True,\n",
    ")"
   ]
  },
  {
   "cell_type": "code",
   "execution_count": null,
   "id": "e27ff01f",
   "metadata": {},
   "outputs": [],
   "source": [
    "d = upload.getPRToRelease()"
   ]
  },
  {
   "cell_type": "code",
   "execution_count": null,
   "id": "e9683ac7",
   "metadata": {},
   "outputs": [],
   "source": [
    "default_table = upload.makeDefaultModelTable(d['internal'])\n",
    "pr2model_dict = dict(list(zip(default_table.ProfileID, default_table.ModelID)))"
   ]
  },
  {
   "cell_type": "code",
   "execution_count": null,
   "id": "df644fdd",
   "metadata": {},
   "outputs": [],
   "source": [
    "pr2model_dict"
   ]
  },
  {
   "cell_type": "code",
   "execution_count": null,
   "id": "c382b8ed",
   "metadata": {},
   "outputs": [],
   "source": [
    "from depmap_omics_upload import tracker as track\n",
    "\n",
    "mytracker = track.SampleTracker()"
   ]
  },
  {
   "cell_type": "code",
   "execution_count": null,
   "id": "82f125c7",
   "metadata": {},
   "outputs": [],
   "source": [
    "pr_table = mytracker.read_pr_table()\n",
    "seq_table = mytracker.add_model_cols_to_seqtable(cols=[\"ModelID\"])"
   ]
  },
  {
   "cell_type": "code",
   "execution_count": null,
   "id": "78e42c1c",
   "metadata": {},
   "outputs": [],
   "source": [
    "pr_table[pr_table.ModelCondition.isnull()]"
   ]
  },
  {
   "cell_type": "code",
   "execution_count": null,
   "id": "48a17338",
   "metadata": {},
   "outputs": [],
   "source": [
    "pr_table.ModelCondition"
   ]
  },
  {
   "cell_type": "code",
   "execution_count": null,
   "id": "17be6f1a",
   "metadata": {},
   "outputs": [],
   "source": [
    "import pandas as pd\n",
    "\n",
    "for pr in pr_table.index:\n",
    "    if (pr_table.loc[pr, \"Datatype\"] == \"wgs\" or pr_table.loc[pr, \"Datatype\"] == \"wes\") and not (pd.isna(pr_table.loc[pr, \"MainSequencingID\"])):\n",
    "        cdsid = pr_table.loc[pr, \"MainSequencingID\"]\n",
    "        if seq_table.loc[cdsid, \"source\"] == 'CCLE2':\n",
    "            if seq_table.loc[cdsid, \"ModelID\"] not in OmicsCNGene.index:\n",
    "                print(seq_table.loc[cdsid, \"ModelID\"])"
   ]
  },
  {
   "cell_type": "code",
   "execution_count": null,
   "id": "0f04e000",
   "metadata": {},
   "outputs": [],
   "source": [
    "from taigapy import TaigaClient\n",
    "tc = TaigaClient()\n",
    "OmicsCNGene = tc.get(name='internal-22q2dryrun-5ffb', version=86, file='OmicsCNSegmentsProfile')\n"
   ]
  },
  {
   "cell_type": "code",
   "execution_count": null,
   "id": "01402d50",
   "metadata": {},
   "outputs": [],
   "source": [
    "# grant gs access\n",
    "import dalmatian as dm\n",
    "ws = dm.WorkspaceManager(\"fccredits-silver-tan-7621/CCLE_v2\").disable_hound()\n",
    "ccle2samples = ws.get_samples()"
   ]
  },
  {
   "cell_type": "code",
   "execution_count": null,
   "id": "7d6e1ca1",
   "metadata": {},
   "outputs": [],
   "source": [
    "cols = ['hg38_rna_bam', 'hg38_rna_bai', 'hg38_wgs_bam', 'hg38_wgs_bai', 'hg38_wes_bam', 'hg38_wes_bai']"
   ]
  },
  {
   "cell_type": "code",
   "execution_count": null,
   "id": "4fe68374",
   "metadata": {},
   "outputs": [],
   "source": [
    "from genepy.utils import helper as h\n",
    "import pandas as pd\n",
    "\n",
    "cmds = []\n",
    "for i in ccle2samples.index:\n",
    "    for c in ['hg38_wgs_bam', 'hg38_wgs_bai']:\n",
    "        if pd.isna(ccle2samples.loc[i, c]) == False:\n",
    "            if '/wgs/' in ccle2samples.loc[i, c] or '/wes/' in ccle2samples.loc[i, c]:\n",
    "                print(ccle2samples.loc[i, c])\n",
    "            cmds.append(\"gsutil -u broad-firecloud-ccle -m acl ch -R -g All:R \" + ccle2samples.loc[i, c])"
   ]
  },
  {
   "cell_type": "code",
   "execution_count": null,
   "id": "3d5cf810",
   "metadata": {},
   "outputs": [],
   "source": [
    "h.parrun(cmds, cores=8)"
   ]
  },
  {
   "cell_type": "code",
   "execution_count": null,
   "id": "b0d24909",
   "metadata": {},
   "outputs": [],
   "source": [
    "cmds"
   ]
  },
  {
   "cell_type": "code",
   "execution_count": null,
   "id": "2bed01e8",
   "metadata": {},
   "outputs": [],
   "source": [
    "old_maf = pd.read_csv(\"gs://fc-secure-bd7b8bc9-f665-4269-997e-5a402088a369/submissions/cfeeb3ac-7eaa-48ac-8afa-8ba6316e9c93/run_vcf_to_depmap/ea5d21ec-b350-4ee2-a391-9d26e21ce96b/call-vcf_to_depmap/attempt-2/CDS-0Z9yIY-maf-coding_somatic-subset.csv.gz\")"
   ]
  },
  {
   "cell_type": "code",
   "execution_count": null,
   "id": "1b9c3605",
   "metadata": {},
   "outputs": [],
   "source": [
    "old_maf"
   ]
  },
  {
   "cell_type": "code",
   "execution_count": null,
   "id": "ffa2cc9d",
   "metadata": {},
   "outputs": [],
   "source": [
    "new_maf = pd.read_csv(\"gs://fc-secure-9dffc819-20a8-49ea-8fa8-1b1bab1475d0/submissions/58b92d2c-7d5e-483c-a7d9-ca3a952458d2/WGS_pipeline/5be4117d-bc64-4e51-aca4-c30dca3d170b/call-my_vcf_to_depmap/CDS-0Z9yIY-maf-coding_somatic-subset.csv.gz\")"
   ]
  },
  {
   "cell_type": "code",
   "execution_count": null,
   "id": "1fc065ec",
   "metadata": {},
   "outputs": [],
   "source": [
    "new = pd.read_csv(\"gs://fc-secure-bd7b8bc9-f665-4269-997e-5a402088a369/submissions/745d8e9e-5651-453e-842a-7add2f3c16b5/run_vcf_to_depmap/29fa5ba6-df81-416e-9768-5fe13a605a99/call-vcf_to_depmap/attempt-4/CDS-00Nrci-maf-coding_somatic-subset.csv.gz\")\n",
    "old = pd.read_csv(\"gs://fc-secure-bd7b8bc9-f665-4269-997e-5a402088a369/submissions/cfeeb3ac-7eaa-48ac-8afa-8ba6316e9c93/run_vcf_to_depmap/3d2f9581-58e4-4337-84f4-ce21866a596a/call-vcf_to_depmap/CDS-00Nrci-maf-coding_somatic-subset.csv.gz\")"
   ]
  },
  {
   "cell_type": "code",
   "execution_count": null,
   "id": "7ed2f262",
   "metadata": {},
   "outputs": [],
   "source": [
    "new.cosmic_hotspot.value_counts()"
   ]
  },
  {
   "cell_type": "code",
   "execution_count": null,
   "id": "0643d461",
   "metadata": {},
   "outputs": [],
   "source": [
    "old.compare(new)"
   ]
  },
  {
   "cell_type": "code",
   "execution_count": null,
   "id": "b521b6d8",
   "metadata": {},
   "outputs": [],
   "source": [
    "from genepy.utils import helper as h\n",
    "h.parrun(cmds, cores=8)\n",
    "print(\"done\")"
   ]
  },
  {
   "cell_type": "code",
   "execution_count": null,
   "id": "5285e383",
   "metadata": {},
   "outputs": [],
   "source": [
    "from taigapy import TaigaClient\n",
    "tc = TaigaClient()\n",
    "\n",
    "OmicsSomaticMutationsMatrixDamaging = tc.get(name='internal-22q2dryrun-5ffb', version=111, file='OmicsSomaticMutationsMatrixDamaging')\n",
    "OmicsSomaticMutationsMatrixDriver = tc.get(name='internal-22q2dryrun-5ffb', version=111, file='OmicsSomaticMutationsMatrixDriver')\n",
    "OmicsSomaticMutationsMatrixHotspot = tc.get(name='internal-22q2dryrun-5ffb', version=111, file='OmicsSomaticMutationsMatrixHotspot')"
   ]
  },
  {
   "cell_type": "code",
   "execution_count": null,
   "id": "0c965581",
   "metadata": {},
   "outputs": [],
   "source": [
    "OmicsSomaticMutationsMatrixDamaging = OmicsSomaticMutationsMatrixDamaging.fillna(0).astype(int)\n",
    "OmicsSomaticMutationsMatrixDriver = OmicsSomaticMutationsMatrixDriver.fillna(0).astype(int)\n",
    "OmicsSomaticMutationsMatrixHotspot = OmicsSomaticMutationsMatrixHotspot.fillna(0).astype(int)"
   ]
  },
  {
   "cell_type": "code",
   "execution_count": null,
   "id": "594e4c24",
   "metadata": {},
   "outputs": [],
   "source": [
    "OmicsSomaticMutationsMatrixHotspot"
   ]
  },
  {
   "cell_type": "code",
   "execution_count": null,
   "id": "9b8319b5",
   "metadata": {},
   "outputs": [],
   "source": [
    "OmicsSomaticMutationsMatrixDamaging.to_csv(\"OmicsSomaticMutationsMatrixDamaging.csv\")\n",
    "OmicsSomaticMutationsMatrixDriver.to_csv(\"OmicsSomaticMutationsMatrixDriver.csv\")\n",
    "OmicsSomaticMutationsMatrixHotspot.to_csv(\"OmicsSomaticMutationsMatrixHotspot.csv\")"
   ]
  },
  {
   "cell_type": "code",
   "execution_count": null,
   "id": "583c64cb",
   "metadata": {},
   "outputs": [],
   "source": [
    "tc.update_dataset(\n",
    "    changes_description=\"convert nans to 0s\",\n",
    "    dataset_permaname=\"internal-22q2dryrun-5ffb\",\n",
    "    upload_files=[            \n",
    "        {\n",
    "            \"path\": \"OmicsSomaticMutationsMatrixDamaging.csv\",\n",
    "            \"format\": \"NumericMatrixCSV\",\n",
    "            \"encoding\": \"utf-8\",\n",
    "        },\n",
    "        {\n",
    "            \"path\": \"OmicsSomaticMutationsMatrixDriver.csv\",\n",
    "            \"format\": \"NumericMatrixCSV\",\n",
    "            \"encoding\": \"utf-8\",\n",
    "        },\n",
    "        {\n",
    "            \"path\": \"OmicsSomaticMutationsMatrixHotspot.csv\",\n",
    "            \"format\": \"NumericMatrixCSV\",\n",
    "            \"encoding\": \"utf-8\",\n",
    "        },\n",
    "    ],\n",
    "    upload_async=False,\n",
    "    add_all_existing_files=True,\n",
    ")"
   ]
  },
  {
   "cell_type": "code",
   "execution_count": null,
   "id": "5592ca3d",
   "metadata": {},
   "outputs": [],
   "source": [
    "CCLE_mutations_bool_hotspot = tc.get(name='internal-22q2-097a', version=16, file='CCLE_mutations_bool_hotspot')\n"
   ]
  },
  {
   "cell_type": "code",
   "execution_count": null,
   "id": "6945abbd",
   "metadata": {},
   "outputs": [],
   "source": [
    "import numpy as np\n",
    "\n",
    "CCLE_mutations_bool_hotspot.replace(0,np.nan).dropna(axis=\"columns\", how=\"all\")"
   ]
  },
  {
   "cell_type": "code",
   "execution_count": null,
   "id": "ce698489",
   "metadata": {},
   "outputs": [],
   "source": [
    "CCLE_mutations_bool_hotspot.sum().value_counts()"
   ]
  },
  {
   "cell_type": "markdown",
   "id": "cfc6580e",
   "metadata": {},
   "source": [
    "## subset Q4 mutation data for Lisa and Kirsty"
   ]
  },
  {
   "cell_type": "code",
   "execution_count": null,
   "id": "95b910ad",
   "metadata": {},
   "outputs": [],
   "source": [
    "from taigapy import TaigaClient\n",
    "tc = TaigaClient()\n",
    "\n",
    "OmicsSomaticMutations = tc.get(name='internal-22q4-56d4', version=21, file='OmicsSomaticMutations')"
   ]
  },
  {
   "cell_type": "code",
   "execution_count": null,
   "id": "1ee7298b",
   "metadata": {},
   "outputs": [],
   "source": [
    "lisa_mutations = OmicsSomaticMutations[OmicsSomaticMutations.HugoSymbol.isin(lisa_genes)]"
   ]
  },
  {
   "cell_type": "code",
   "execution_count": null,
   "id": "fdf26438",
   "metadata": {},
   "outputs": [],
   "source": [
    "lisa_mutations.to_csv(\"mutation_subset_by_genes.csv\", index=False)"
   ]
  },
  {
   "cell_type": "code",
   "execution_count": null,
   "id": "abf501fc",
   "metadata": {},
   "outputs": [],
   "source": [
    "kirsty_lines = [\"ACH-000529\",\n",
    "\"ACH-001018\",\n",
    "\"ACH-001087\",\n",
    "\"ACH-001169\",\n",
    "\"ACH-001179\",\n",
    "\"ACH-001180\",\n",
    "\"ACH-001181\",\n",
    "\"ACH-001187\",\n",
    "\"ACH-001357\",\n",
    "\"ACH-001453\",\n",
    "\"ACH-001767\",\n",
    "\"ACH-001827\",\n",
    "\"ACH-001854\",\n",
    "\"ACH-002210\",\n",
    "\"ACH-002247\",\n",
    "\"ACH-002270\",\n",
    "\"ACH-002319\",\n",
    "\"ACH-002321\",\n",
    "\"ACH-002327\",\n",
    "\"ACH-002336\",\n",
    "\"ACH-002558\",\n",
    "\"ACH-002591\",\n",
    "\"ACH-002592\",\n",
    "\"ACH-002593\",\n",
    "\"ACH-002609\",\n",
    "\"ACH-002610\",\n",
    "\"ACH-002611\",\n",
    "\"ACH-002623\",\n",
    "\"ACH-002624\",\n",
    "\"ACH-002625\",\n",
    "\"ACH-002712\",\n",
    "\"ACH-003016\",\n",
    "\"ACH-003020\",\n",
    "\"ACH-003062\",\n",
    "\"ACH-003068\",\n",
    "\"ACH-003104\",\n",
    "\"ACH-003117\",\n",
    "\"ACH-003118\"]"
   ]
  },
  {
   "cell_type": "code",
   "execution_count": null,
   "id": "f0c77e45",
   "metadata": {},
   "outputs": [],
   "source": [
    "kirsty_mutations = OmicsSomaticMutations[OmicsSomaticMutations.DepMap_ID.isin(kirsty_lines)]"
   ]
  },
  {
   "cell_type": "code",
   "execution_count": null,
   "id": "09e104f3",
   "metadata": {},
   "outputs": [],
   "source": [
    "kirsty_mutations.to_csv(\"mutation_subset_by_lines.csv\", index=False)"
   ]
  },
  {
   "cell_type": "code",
   "execution_count": null,
   "id": "51c1b0a8",
   "metadata": {},
   "outputs": [],
   "source": [
    "from taigapy import TaigaClient\n",
    "tc = TaigaClient()\n",
    "\n",
    "a = tc.create_dataset(\n",
    "    \"22Q4_mutation_subset\",\n",
    "    dataset_description=\"subset of 22Q4 mutation data (NOT QC'ED) for Kirsty and Lisa\",\n",
    "    upload_files=[\n",
    "        {\n",
    "            \"path\": \"mutation_subset_by_lines.csv\",\n",
    "            \"format\": \"TableCSV\",\n",
    "            \"encoding\": \"utf-8\",\n",
    "        },\n",
    "        {\n",
    "            \"path\": \"mutation_subset_by_genes.csv\",\n",
    "            \"format\": \"TableCSV\",\n",
    "            \"encoding\": \"utf-8\",\n",
    "        }\n",
    "    ],\n",
    "    folder_id=\"af8daf85d5f84f29b9f1494e8f05b9fd\",\n",
    ")"
   ]
  },
  {
   "cell_type": "code",
   "execution_count": null,
   "id": "7d797230",
   "metadata": {},
   "outputs": [],
   "source": [
    "mutation_subset_by_lines = tc.get(name='22q4-mutation-subset-a22e', version=1, file='mutation_subset_by_lines')\n"
   ]
  },
  {
   "cell_type": "code",
   "execution_count": null,
   "id": "bf7ddcaf",
   "metadata": {},
   "outputs": [],
   "source": [
    "from taigapy import TaigaClient\n",
    "tc = TaigaClient()\n",
    "fingerprint_lod_matrix = tc.get(name='ccle-bam-fingerprints-6f30', file='fingerprint_lod_matrix')"
   ]
  },
  {
   "cell_type": "code",
   "execution_count": null,
   "id": "bd3cba4a",
   "metadata": {},
   "outputs": [],
   "source": [
    "fingerprint_lod_matrix.loc[['CDS-wkBjwZ', 'CDS-7wtGGb'], ['CDS-wkBjwZ', 'CDS-7wtGGb']]"
   ]
  },
  {
   "cell_type": "code",
   "execution_count": null,
   "id": "707cb20a",
   "metadata": {},
   "outputs": [],
   "source": [
    "OmicsDefaultModelConditionProfiles = tc.get(name='internal-22q4-56d4', version=68, file='OmicsDefaultModelConditionProfiles')\n",
    "OmicsDefaultModelConditionProfiles_old = tc.get(name='internal-22q4-56d4', version=57, file='OmicsDefaultModelConditionProfiles')\n"
   ]
  },
  {
   "cell_type": "code",
   "execution_count": null,
   "id": "d13a3daa",
   "metadata": {},
   "outputs": [],
   "source": [
    "[i for i in set(OmicsDefaultModelConditionProfiles.ProfileID) if i not in set(OmicsDefaultModelConditionProfiles_old.ProfileID)]"
   ]
  },
  {
   "cell_type": "code",
   "execution_count": null,
   "id": "009a97a5",
   "metadata": {},
   "outputs": [],
   "source": [
    "OmicsSomaticMutationsMatrixDamaging_q4 = tc.get(name='internal-22q4-56d4', version=69, file='OmicsSomaticMutationsMatrixDamaging')\n",
    "OmicsSomaticMutationsMatrixDamaging_dryrun = tc.get(name='internal-22q2dryrun-5ffb', version=113, file='OmicsSomaticMutationsMatrixDamaging')\n"
   ]
  },
  {
   "cell_type": "code",
   "execution_count": null,
   "id": "87b8af9e",
   "metadata": {},
   "outputs": [],
   "source": [
    "OmicsSomaticMutationsMatrixDamaging_q4 = OmicsSomaticMutationsMatrixDamaging_q4[[c for c in OmicsSomaticMutationsMatrixDamaging_q4.columns if c in set(OmicsSomaticMutationsMatrixDamaging_dryrun.columns)]]\n"
   ]
  },
  {
   "cell_type": "code",
   "execution_count": null,
   "id": "565b57f6",
   "metadata": {},
   "outputs": [],
   "source": [
    "OmicsSomaticMutationsMatrixDamaging_dryrun = OmicsSomaticMutationsMatrixDamaging_dryrun[[c for c in OmicsSomaticMutationsMatrixDamaging_dryrun.columns if c in set(OmicsSomaticMutationsMatrixDamaging_q4.columns)]]\n"
   ]
  },
  {
   "cell_type": "code",
   "execution_count": null,
   "id": "25952c81",
   "metadata": {},
   "outputs": [],
   "source": [
    "OmicsSomaticMutationsMatrixDamaging_q4 = OmicsSomaticMutationsMatrixDamaging_q4.loc[[i for i in OmicsSomaticMutationsMatrixDamaging_q4.index if i in set(OmicsSomaticMutationsMatrixDamaging_dryrun.index)]]"
   ]
  },
  {
   "cell_type": "code",
   "execution_count": null,
   "id": "f2ac65d8",
   "metadata": {},
   "outputs": [],
   "source": [
    "OmicsSomaticMutationsMatrixDamaging_dryrun = OmicsSomaticMutationsMatrixDamaging_dryrun.loc[[i for i in OmicsSomaticMutationsMatrixDamaging_dryrun.index if i in set(OmicsSomaticMutationsMatrixDamaging_q4.index)]]"
   ]
  },
  {
   "cell_type": "code",
   "execution_count": null,
   "id": "7f08e980",
   "metadata": {},
   "outputs": [],
   "source": [
    "OmicsSomaticMutationsMatrixDamaging_q4.sort_index(inplace=True)\n",
    "OmicsSomaticMutationsMatrixDamaging_dryrun.sort_index(inplace=True)"
   ]
  },
  {
   "cell_type": "code",
   "execution_count": null,
   "id": "d7a08d2e",
   "metadata": {},
   "outputs": [],
   "source": [
    "set(OmicsSomaticMutationsMatrixDamaging_q4.columns) == set(OmicsSomaticMutationsMatrixDamaging_dryrun.columns)"
   ]
  },
  {
   "cell_type": "code",
   "execution_count": null,
   "id": "2e85e860",
   "metadata": {},
   "outputs": [],
   "source": [
    "OmicsDefaultModelConditionProfiles = tc.get(name='internal-22q4-56d4', version=69, file='OmicsDefaultModelConditionProfiles')\n",
    "OmicsDefaultModelProfiles = tc.get(name='internal-22q4-56d4', version=69, file='OmicsDefaultModelProfiles')\n"
   ]
  },
  {
   "cell_type": "code",
   "execution_count": null,
   "id": "45f8f599",
   "metadata": {},
   "outputs": [],
   "source": [
    "OmicsDefaultModelConditionProfiles[OmicsDefaultModelConditionProfiles.ModelConditionID == \"MC-001227-21hV\"]"
   ]
  },
  {
   "cell_type": "code",
   "execution_count": null,
   "id": "85f98580",
   "metadata": {},
   "outputs": [],
   "source": [
    "proteinCoding_genes_tpm_logp1_withReplicates = tc.get(name='expression-d035', version=29, file='proteinCoding_genes_tpm_logp1_withReplicates')\n"
   ]
  },
  {
   "cell_type": "code",
   "execution_count": null,
   "id": "a571b529",
   "metadata": {},
   "outputs": [],
   "source": [
    "\"CDS-vvQhsI\" in proteinCoding_genes_tpm_logp1_withReplicates.index"
   ]
  },
  {
   "cell_type": "code",
   "execution_count": null,
   "id": "13f999d8",
   "metadata": {},
   "outputs": [],
   "source": []
  }
 ],
 "metadata": {
  "kernelspec": {
   "display_name": "Python 3",
   "language": "python",
   "name": "python3"
  },
  "language_info": {
   "codemirror_mode": {
    "name": "ipython",
    "version": 3
   },
   "file_extension": ".py",
   "mimetype": "text/x-python",
   "name": "python",
   "nbconvert_exporter": "python",
   "pygments_lexer": "ipython3",
   "version": "3.8.13"
  }
 },
 "nbformat": 4,
 "nbformat_minor": 5
}
