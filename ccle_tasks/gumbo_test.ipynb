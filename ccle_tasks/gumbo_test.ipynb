{
 "cells": [
  {
   "cell_type": "code",
   "execution_count": null,
   "id": "56b76295",
   "metadata": {},
   "outputs": [],
   "source": [
    "from depmapomics.config import *\n",
    "from depmap_omics_upload import tracker\n",
    "from depmap_omics_upload import upload\n",
    "from depmapomics import mutations\n",
    "from genepy.utils import helper as h"
   ]
  },
  {
   "cell_type": "code",
   "execution_count": null,
   "id": "9c0bfc92",
   "metadata": {},
   "outputs": [],
   "source": [
    "wgs_mat = mutations.generateGermlineMatrix(refworkspace=WGSWORKSPACE,\n",
    "        vcfdir=WGSVCFDIR,\n",
    "        savedir=\"output/\" + SAMPLESETNAME + \"/\",\n",
    "        filename=\"binary_mutguides_wgs.tsv.gz\",\n",
    "        bed_location=GUIDESBED,)"
   ]
  },
  {
   "cell_type": "code",
   "execution_count": null,
   "id": "9ada30ee",
   "metadata": {},
   "outputs": [],
   "source": [
    "from depmap_omics_upload import tracker, upload\n",
    "mytracker = tracker.SampleTracker()"
   ]
  },
  {
   "cell_type": "code",
   "execution_count": null,
   "id": "d4bc9e37",
   "metadata": {},
   "outputs": [],
   "source": [
    "upload.initVirtualDatasets(samplesetname=\"22Q2dryrun\")"
   ]
  },
  {
   "cell_type": "code",
   "execution_count": null,
   "id": "886724c9",
   "metadata": {},
   "outputs": [],
   "source": [
    "from depmap_omics_upload import tracker, upload\n",
    "\n",
    "virtual_dryrun = {'internal': 'a3b993e833694883bd242b5316f9c9a0',\n",
    " 'dmc': 'af9f25e12bde4ade8558bbe07caeab5a',\n",
    " 'public': '1368629a38d84323b50151512d575b8b'}"
   ]
  },
  {
   "cell_type": "code",
   "execution_count": null,
   "id": "2dae41d6",
   "metadata": {},
   "outputs": [],
   "source": [
    "from depmapomics.config import *\n",
    "\n",
    "TAIGA_CN = \"cn-latest-8bea\"\n",
    "TAIGA_EXPRESSION = \"expression-869e\"\n",
    "\n",
    "LATEST2FN_NUMMAT_MODEL = {\n",
    "#     TAIGA_CN: VIRTUAL_FILENAMES_NUMMAT_CN_MODEL,\n",
    "#     TAIGA_EXPRESSION: VIRTUAL_FILENAMES_NUMMAT_EXP_MODEL,\n",
    "     TAIGA_MUTATION: VIRTUAL_FILENAMES_NUMMAT_MUT_MODEL,\n",
    "}\n",
    "\n",
    "LATEST2FN_TABLE_MODEL = {\n",
    "#    TAIGA_CN: VIRTUAL_FILENAMES_TABLE_CN_MODEL,\n",
    "#     TAIGA_FUSION: VIRTUAL_FILENAMES_TABLE_FUSION_MODEL,\n",
    "     TAIGA_MUTATION: VIRTUAL_FILENAMES_TABLE_MUT_MODEL,\n",
    "}\n",
    "\n",
    "LATEST2FN_NUMMAT_PR = {\n",
    "#   TAIGA_CN: VIRTUAL_FILENAMES_NUMMAT_CN_PR,\n",
    "#     TAIGA_EXPRESSION: VIRTUAL_FILENAMES_NUMMAT_EXP_PR,\n",
    "     TAIGA_MUTATION: VIRTUAL_FILENAMES_NUMMAT_MUT_PR,\n",
    "}\n",
    "\n",
    "LATEST2FN_TABLE_PR = {\n",
    "#    TAIGA_CN: VIRTUAL_FILENAMES_TABLE_CN_PR,\n",
    "#     TAIGA_FUSION: VIRTUAL_FILENAMES_TABLE_FUSION_PR,\n",
    "     TAIGA_MUTATION: VIRTUAL_FILENAMES_TABLE_MUT_PR,\n",
    "}"
   ]
  },
  {
   "cell_type": "code",
   "execution_count": null,
   "id": "f854ca8a",
   "metadata": {},
   "outputs": [],
   "source": [
    "upload.makePRLvMatrices(virtual_ids=virtual_dryrun, files_nummat=LATEST2FN_NUMMAT_PR, files_table=LATEST2FN_TABLE_PR)"
   ]
  },
  {
   "cell_type": "code",
   "execution_count": null,
   "id": "47210d9e",
   "metadata": {},
   "outputs": [],
   "source": [
    "upload.makeModelLvMatrices(virtual_ids=virtual_dryrun, files_nummat=LATEST2FN_NUMMAT_MODEL, files_table=LATEST2FN_TABLE_MODEL)"
   ]
  },
  {
   "cell_type": "code",
   "execution_count": null,
   "id": "4b32f887",
   "metadata": {},
   "outputs": [],
   "source": [
    "upload.uploadAuxTables(taiga_ids=virtual_dryrun,)"
   ]
  },
  {
   "cell_type": "code",
   "execution_count": null,
   "id": "e9754290",
   "metadata": {},
   "outputs": [],
   "source": [
    "set(CCLE_expression.index) - set(OmicsExpressionProteinCodingGenesTPMLogp1.index)"
   ]
  },
  {
   "cell_type": "code",
   "execution_count": null,
   "id": "9704b5ba",
   "metadata": {},
   "outputs": [],
   "source": [
    "shared_cols = [c in CCLE_expression.columns if c in OmicsExpressionProteinCodingGenesTPMLogp1.columns]\n",
    "CCLE_expression = CCLE_expression[shared_cols]"
   ]
  },
  {
   "cell_type": "code",
   "execution_count": null,
   "id": "85c76b7a",
   "metadata": {},
   "outputs": [],
   "source": [
    "CCLE_expression.corrwith(OmicsExpressionProteinCodingGenesTPMLogp1)"
   ]
  },
  {
   "cell_type": "code",
   "execution_count": null,
   "id": "da719fbf",
   "metadata": {},
   "outputs": [],
   "source": [
    "from taigapy import TaigaClient\n",
    "tc = TaigaClient()\n",
    "\n",
    "OmicsSomaticMutations = tc.get(name='internal-22q2dryrun-5ffb', version=39, file='OmicsSomaticMutations')\n",
    "OmicsSomaticMutations.columns"
   ]
  },
  {
   "cell_type": "code",
   "execution_count": null,
   "id": "c0a31f9a",
   "metadata": {},
   "outputs": [],
   "source": [
    "OmicsSomaticMutations"
   ]
  },
  {
   "cell_type": "code",
   "execution_count": null,
   "id": "e0c31cce",
   "metadata": {},
   "outputs": [],
   "source": [
    "O_micsStructuralVariantsProfile = tc.get(name='dmc-22q2dryrun-0f8d', version=28, file='O​micsStructuralVariantsProfile')\n"
   ]
  },
  {
   "cell_type": "code",
   "execution_count": null,
   "id": "36a07e61",
   "metadata": {},
   "outputs": [],
   "source": [
    "O_micsStructuralVariantsProfile"
   ]
  },
  {
   "cell_type": "code",
   "execution_count": null,
   "id": "2b3ee7fc",
   "metadata": {},
   "outputs": [],
   "source": [
    "OmicsLoH = tc.get(name='dmc-22q2dryrun-0f8d', file='OmicsLoH')\n",
    "OmicsLoH"
   ]
  },
  {
   "cell_type": "code",
   "execution_count": null,
   "id": "53ccc82c",
   "metadata": {},
   "outputs": [],
   "source": [
    "from taigapy import TaigaClient\n",
    "tc = TaigaClient()\n",
    "\n",
    "somaticMutations_profile = tc.get(name='mutations-latest-f263', version=8, file='somaticMutations_profile')"
   ]
  },
  {
   "cell_type": "code",
   "execution_count": null,
   "id": "47427dc3",
   "metadata": {},
   "outputs": [],
   "source": [
    "somaticMutations_model = somaticMutations_profile[\n",
    "            somaticMutations_profile[\"DepMap_ID\"].isin(set(pr2model_dict.keys()))\n",
    "        ].replace({\"DepMap_ID\": pr2model_dict})\n",
    "somaticMutations_model.to_csv(\"somaticMutations_model.csv\", index=False)"
   ]
  },
  {
   "cell_type": "code",
   "execution_count": null,
   "id": "9e23bd8f",
   "metadata": {},
   "outputs": [],
   "source": [
    "tc.update_dataset(\n",
    "    changes_description=\"add model level maf\",\n",
    "    dataset_permaname=\"mutations-latest-f263\",\n",
    "    upload_files=[            \n",
    "        {\n",
    "            \"path\": \"somaticMutations_model.csv\",\n",
    "            \"format\": \"TableCSV\",\n",
    "            \"encoding\": \"utf-8\",\n",
    "        },\n",
    "    ],\n",
    "    upload_async=False,\n",
    "    add_all_existing_files=True,\n",
    ")"
   ]
  },
  {
   "cell_type": "code",
   "execution_count": null,
   "id": "e27ff01f",
   "metadata": {},
   "outputs": [],
   "source": [
    "d = upload.getPRToRelease()"
   ]
  },
  {
   "cell_type": "code",
   "execution_count": null,
   "id": "e9683ac7",
   "metadata": {},
   "outputs": [],
   "source": [
    "default_table = upload.makeDefaultModelTable(d['internal'])\n",
    "pr2model_dict = dict(list(zip(default_table.ProfileID, default_table.ModelID)))"
   ]
  },
  {
   "cell_type": "code",
   "execution_count": null,
   "id": "df644fdd",
   "metadata": {},
   "outputs": [],
   "source": [
    "pr2model_dict"
   ]
  },
  {
   "cell_type": "code",
   "execution_count": null,
   "id": "c382b8ed",
   "metadata": {},
   "outputs": [],
   "source": [
    "from depmap_omics_upload import tracker as track\n",
    "\n",
    "mytracker = track.SampleTracker()"
   ]
  },
  {
   "cell_type": "code",
   "execution_count": null,
   "id": "82f125c7",
   "metadata": {},
   "outputs": [],
   "source": [
    "pr_table = mytracker.read_pr_table()\n",
    "seq_table = mytracker.add_model_cols_to_seqtable(cols=[\"ModelID\"])"
   ]
  },
  {
   "cell_type": "code",
   "execution_count": null,
   "id": "17be6f1a",
   "metadata": {},
   "outputs": [],
   "source": [
    "import pandas as pd\n",
    "\n",
    "for pr in pr_table.index:\n",
    "    if (pr_table.loc[pr, \"Datatype\"] == \"wgs\" or pr_table.loc[pr, \"Datatype\"] == \"wes\") and not (pd.isna(pr_table.loc[pr, \"MainSequencingID\"])):\n",
    "        cdsid = pr_table.loc[pr, \"MainSequencingID\"]\n",
    "        if seq_table.loc[cdsid, \"source\"] == 'CCLE2':\n",
    "            if seq_table.loc[cdsid, \"ModelID\"] not in OmicsCNGene.index:\n",
    "                print(seq_table.loc[cdsid, \"ModelID\"])"
   ]
  },
  {
   "cell_type": "code",
   "execution_count": null,
   "id": "0f04e000",
   "metadata": {},
   "outputs": [],
   "source": [
    "from taigapy import TaigaClient\n",
    "tc = TaigaClient()\n",
    "OmicsCNGene = tc.get(name='internal-22q2dryrun-5ffb', version=86, file='OmicsCNSegmentsProfile')\n"
   ]
  },
  {
   "cell_type": "code",
   "execution_count": null,
   "id": "01402d50",
   "metadata": {},
   "outputs": [],
   "source": [
    "# grant gs access\n",
    "import dalmatian as dm\n",
    "ws = dm.WorkspaceManager(\"fccredits-silver-tan-7621/CCLE_v2\").disable_hound()\n",
    "ccle2samples = ws.get_samples()"
   ]
  },
  {
   "cell_type": "code",
   "execution_count": null,
   "id": "7d6e1ca1",
   "metadata": {},
   "outputs": [],
   "source": [
    "cols = ['hg38_rna_bam', 'hg38_rna_bai', 'hg38_wgs_bam', 'hg38_wgs_bai', 'hg38_wes_bam', 'hg38_wes_bai']"
   ]
  },
  {
   "cell_type": "code",
   "execution_count": null,
   "id": "4fe68374",
   "metadata": {},
   "outputs": [],
   "source": [
    "from genepy.utils import helper as h\n",
    "import pandas as pd\n",
    "\n",
    "cmds = []\n",
    "for i in ccle2samples.index:\n",
    "    for c in ['hg38_wgs_bam', 'hg38_wgs_bai']:\n",
    "        if pd.isna(ccle2samples.loc[i, c]) == False:\n",
    "            if '/wgs/' in ccle2samples.loc[i, c] or '/wes/' in ccle2samples.loc[i, c]:\n",
    "                print(ccle2samples.loc[i, c])\n",
    "            cmds.append(\"gsutil -u broad-firecloud-ccle -m acl ch -R -g All:R \" + ccle2samples.loc[i, c])"
   ]
  },
  {
   "cell_type": "code",
   "execution_count": null,
   "id": "3d5cf810",
   "metadata": {},
   "outputs": [],
   "source": [
    "h.parrun(cmds, cores=8)"
   ]
  },
  {
   "cell_type": "code",
   "execution_count": null,
   "id": "b0d24909",
   "metadata": {},
   "outputs": [],
   "source": [
    "cmds"
   ]
  },
  {
   "cell_type": "code",
   "execution_count": null,
   "id": "2bed01e8",
   "metadata": {},
   "outputs": [],
   "source": [
    "old_maf = pd.read_csv(\"gs://fc-secure-bd7b8bc9-f665-4269-997e-5a402088a369/submissions/cfeeb3ac-7eaa-48ac-8afa-8ba6316e9c93/run_vcf_to_depmap/ea5d21ec-b350-4ee2-a391-9d26e21ce96b/call-vcf_to_depmap/attempt-2/CDS-0Z9yIY-maf-coding_somatic-subset.csv.gz\")"
   ]
  },
  {
   "cell_type": "code",
   "execution_count": null,
   "id": "1b9c3605",
   "metadata": {},
   "outputs": [],
   "source": [
    "old_maf"
   ]
  },
  {
   "cell_type": "code",
   "execution_count": null,
   "id": "ffa2cc9d",
   "metadata": {},
   "outputs": [],
   "source": [
    "new_maf = pd.read_csv(\"gs://fc-secure-9dffc819-20a8-49ea-8fa8-1b1bab1475d0/submissions/58b92d2c-7d5e-483c-a7d9-ca3a952458d2/WGS_pipeline/5be4117d-bc64-4e51-aca4-c30dca3d170b/call-my_vcf_to_depmap/CDS-0Z9yIY-maf-coding_somatic-subset.csv.gz\")"
   ]
  },
  {
   "cell_type": "code",
   "execution_count": null,
   "id": "1fc065ec",
   "metadata": {},
   "outputs": [],
   "source": []
  },
  {
   "cell_type": "code",
   "execution_count": null,
   "id": "7ed2f262",
   "metadata": {},
   "outputs": [],
   "source": []
  }
 ],
 "metadata": {
  "kernelspec": {
   "display_name": "Python 3",
   "language": "python",
   "name": "python3"
  },
  "language_info": {
   "codemirror_mode": {
    "name": "ipython",
    "version": 3
   },
   "file_extension": ".py",
   "mimetype": "text/x-python",
   "name": "python",
   "nbconvert_exporter": "python",
   "pygments_lexer": "ipython3",
   "version": "3.8.2"
  }
 },
 "nbformat": 4,
 "nbformat_minor": 5
}
