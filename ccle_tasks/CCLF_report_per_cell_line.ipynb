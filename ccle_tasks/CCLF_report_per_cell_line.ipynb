{
 "cells": [
  {
   "cell_type": "markdown",
   "metadata": {},
   "source": [
    "# Produce CCLF report with all information for each specified cell line"
   ]
  },
  {
   "cell_type": "markdown",
   "metadata": {},
   "source": [
    "## Acquire / produce all the data for mutations and copy number\n",
    "Pull from CCLF_WES and the most updated TSCA workspace. Currently, trying to transition to CCLF_targeted. "
   ]
  },
  {
   "cell_type": "code",
   "execution_count": 1,
   "metadata": {},
   "outputs": [],
   "source": [
    "from __future__ import print_function\n",
    "import os.path\n",
    "# import os\n",
    "import dalmatian as dm\n",
    "import pandas as pd\n",
    "import numpy as np\n",
    "import sys\n",
    "sys.path.insert(0, '../../JKBio/')\n",
    "import TerraFunction as terra\n",
    "import CCLF_processing\n",
    "%load_ext autoreload\n",
    "%autoreload 2\n",
    "%load_ext rpy2.ipython\n",
    "from IPython.display import Image, display, HTML\n",
    "import ipdb"
   ]
  },
  {
   "cell_type": "code",
   "execution_count": 2,
   "metadata": {},
   "outputs": [],
   "source": [
    "## widgets\n",
    "# !pip install -U -q ipywidgets\n",
    "# !jupyter nbextension enable --py widgetsnbextension\n",
    "\n",
    "## qgrid for interactive plots\n",
    "# !pip install qgrid\n",
    "# !jupyter nbextension enable --py --sys-prefix qgrid"
   ]
  },
  {
   "cell_type": "code",
   "execution_count": 2,
   "metadata": {},
   "outputs": [],
   "source": [
    "import qgrid # interactive tables\n",
    "import ipywidgets as widgets\n",
    "from ipywidgets import interact, interact_manual\n",
    "import gcsfs # to be able to read in files from GCS in Python\n",
    "\n",
    "# # Extra options\n",
    "# pd.options.display.max_rows = 30\n",
    "# pd.options.display.max_columns = 25\n",
    "qgrid.set_grid_option('maxVisibleRows', 10)\n",
    "\n",
    "# # Show all code cells outputs\n",
    "# from IPython.core.interactiveshell import InteractiveShell\n",
    "# InteractiveShell.ast_node_interactivity = 'all'"
   ]
  },
  {
   "cell_type": "code",
   "execution_count": 3,
   "metadata": {},
   "outputs": [
    {
     "name": "stdout",
     "output_type": "stream",
     "text": [
      "/Users/gmiller/Documents/Work/GitHub/ccle_processing/ccle_tasks\n"
     ]
    }
   ],
   "source": [
    "cwd = os.getcwd()\n",
    "print(cwd)"
   ]
  },
  {
   "cell_type": "code",
   "execution_count": 4,
   "metadata": {
    "scrolled": true
   },
   "outputs": [],
   "source": [
    "specificSamples_both = [\"CCLF_PEDS1012\",\n",
    "                   \"PEDS172\",\n",
    "                   \"PEDS182\",\n",
    "                   \"PEDS196\",\n",
    "                   \"PEDS204\"]\n",
    "specificSamples_onlyWES = [\"PEDS012\",\n",
    "                   \"PEDS018\",\n",
    "                   \"PEDS110\",\n",
    "                   \"PEDS117\"]\n",
    "specificSamples = specificSamples_both + specificSamples_onlyWES"
   ]
  },
  {
   "cell_type": "code",
   "execution_count": 5,
   "metadata": {},
   "outputs": [],
   "source": [
    "df = '../../ccle_processing/ccle_tasks/data/kim_sept/kim_sample_disease_info.csv'\n",
    "\n",
    "df = \"/Users/gmiller/Documents/Work/GitHub/ccle_processing/ccle_tasks/data/kim_sept/kim_sample_disease_info.csv\""
   ]
  },
  {
   "cell_type": "code",
   "execution_count": null,
   "metadata": {},
   "outputs": [],
   "source": [
    "# gather all the existing files\n",
    "CCLF_processing.getReport(datadir = \"gs://cclf_results/targeted/test/\", specificlist = [\"PEDS172\"], specificlist_disease=df)\n",
    "# CCLF_processing.getReport(datadir = \"gs://cclf_results/targeted/kim_sept_6/\", specificlist = specificSamples, specificlist_disease=df)"
   ]
  },
  {
   "cell_type": "markdown",
   "metadata": {},
   "source": [
    "We want to create heat map style copy number plots for each participant. Want to have all the culture conditions, primary tissue, matched normal that exist side by side.\n",
    "\n",
    "We might have to make separate CN heat map for TSCA vs WES samples because can't create sample set containing both since they're in separate workspaces... or at least I think this is problematic. But maybe there's a workaround.\n",
    "\n",
    "* step 1: create sample set for each participant (add each sample_id to a sample set list?)\n",
    "   \n",
    "* step 2: create submission for each participant to generate the CN heat map\n",
    "    + Terra.waitForSubmission needed before step 3\n",
    "    + try/except style?\n",
    "* step 3: copy the image from the workspace into the output location"
   ]
  },
  {
   "cell_type": "code",
   "execution_count": null,
   "metadata": {},
   "outputs": [],
   "source": [
    "# create heat map style copy number plots for each participant\n",
    "# want to have all the culture conditions, primary tissue, matched normal that exist side by side\n",
    "\n",
    "# step 1: create sample set for each participant (add each sample_id to a sample set list?)\n",
    "# step 2: create submission for each participant to generate the CN heat map\n",
    "# - Terra.waitForSubmission needed before step 3\n",
    "# - try/except style?\n",
    "# step 3: copy the image from the workspace into the output location"
   ]
  },
  {
   "cell_type": "code",
   "execution_count": null,
   "metadata": {},
   "outputs": [],
   "source": [
    "# ! gsutil -m rm -r 'gs://cclf_results/targeted/kim_sept_2/'\n"
   ]
  },
  {
   "cell_type": "markdown",
   "metadata": {},
   "source": [
    "***\n",
    "***"
   ]
  },
  {
   "cell_type": "markdown",
   "metadata": {},
   "source": [
    "# Pretty report generation\n",
    "After grabbing and making all of the files we want for a given participant (e.g. PEDS182), we want to make a pretty, interactive report. This will be similar to a README except that we will directly embed tables and images. This involves using Jupyter widgets to create dropdown menus and the like. Here are the main functionalities I'd like:\n",
    "\n",
    "1. kable-like tables that are interactive: sorting, filtering, typing in text or numbers to search, (ability to download sorted/filtered table as a CSV?)\n",
    "2. ability to quickly go to any image in the directory. I want this so that the user can quickly look through the copy number maps (horizontal plots). Ideally, I'd like to be able to select which one(s) I'd like to view. This could be useful if they want to see two or more at once (i.e. to compare two treatment conditions).\n",
    "\n",
    "## Automate generation of separate Jupyter notebook for each participant\n",
    "To do this, we will use Papermill. Papermill automates notebook to notebook generation, and also executes the generated notebook. We may also want to convert the generated notebook to HTML. We can use *nbconvert* for this operation (see https://github.com/jupyter/nbconvert)."
   ]
  },
  {
   "cell_type": "code",
   "execution_count": 55,
   "metadata": {
    "scrolled": true
   },
   "outputs": [
    {
     "name": "stdout",
     "output_type": "stream",
     "text": [
      "Copying gs://cclf_results/targeted/kim_sept_6/Alveolar_Rhabdomyosarcoma/PEDS172/merged_copy_number_map.png...\n",
      "- [1 files][  1.2 MiB/  1.2 MiB]                                                \n",
      "Operation completed over 1 objects/1.2 MiB.                                      \n"
     ]
    }
   ],
   "source": [
    "# path would be the participant-specific path\n",
    "path = \"gs://cclf_results/targeted/kim_sept_6/Alveolar_Rhabdomyosarcoma/PEDS172/\" \n",
    "# a list of file paths for the selected participant\n",
    "filepaths = ! gsutil ls -r {path}**\n",
    "\n",
    "# get all the tables in the bucket\n",
    "table_filepaths = ! gsutil ls -r {path}*.txt # check: will this search recursively for all .txt files?\n",
    "to_add = ! gsutil ls -r {path}*.tsv\n",
    "table_filepaths += to_add\n",
    "# get all the pngs in the bucket\n",
    "img_filepaths = ! gsutil ls -r {path}*.png\n",
    "\n",
    "# copy all the pngs in the bucket to a tmp folder\n",
    "tempdir='./temp/cclfreport/images/'\n",
    "! gsutil cp -r {path}*.png {tempdir} # copy images from google bucket to local temp folder\n",
    "local_img_filepaths = ! ls {tempdir}*.png\n",
    "os.chdir(tempdir)\n",
    "local_img_file_names = ! ls *.png # list of all pngs in tempdir\n",
    "os.chdir('../../../')"
   ]
  },
  {
   "cell_type": "code",
   "execution_count": 57,
   "metadata": {
    "scrolled": false
   },
   "outputs": [
    {
     "name": "stdout",
     "output_type": "stream",
     "text": [
      "['./temp/cclfreport/images/merged_copy_number_map.png', './temp/cclfreport/images/test.png']\n",
      "['merged_copy_number_map.png', 'test.png']\n"
     ]
    }
   ],
   "source": [
    "print(local_img_filepaths)\n",
    "print(local_img_file_names)"
   ]
  },
  {
   "cell_type": "code",
   "execution_count": 7,
   "metadata": {},
   "outputs": [],
   "source": [
    "def make_interactive_table(filepath): # assuming single filepath\n",
    "    print(\"Table: \"+filepath[0])\n",
    "    data = pd.read_table(filepath[0])\n",
    "    qgrid_widget = qgrid.show_grid(data, show_toolbar=True, grid_options = {'forceFitColumns': False,\n",
    "    'defaultColumnWidth': 150})\n",
    "    display(qgrid_widget)\n",
    "    print(\"\\n\")"
   ]
  },
  {
   "cell_type": "code",
   "execution_count": 8,
   "metadata": {},
   "outputs": [],
   "source": [
    "tsca_cn = ! gsutil ls -r {path}*copy_number.tsv\n",
    "wes_cn = ! gsutil ls -r {path}*wes_copy_number.tsv"
   ]
  },
  {
   "cell_type": "code",
   "execution_count": 9,
   "metadata": {
    "scrolled": true
   },
   "outputs": [
    {
     "name": "stdout",
     "output_type": "stream",
     "text": [
      "Table: gs://cclf_results/targeted/kim_sept_6/Alveolar_Rhabdomyosarcoma/PEDS172/copy_number.tsv\n"
     ]
    },
    {
     "data": {
      "application/vnd.jupyter.widget-view+json": {
       "model_id": "f27de98085584e28837df55b53d1c555",
       "version_major": 2,
       "version_minor": 0
      },
      "text/plain": [
       "QgridWidget(grid_options={'fullWidthRows': True, 'syncColumnCellResize': True, 'forceFitColumns': False, 'defa…"
      ]
     },
     "metadata": {},
     "output_type": "display_data"
    },
    {
     "name": "stdout",
     "output_type": "stream",
     "text": [
      "\n",
      "\n",
      "Table: gs://cclf_results/targeted/kim_sept_6/Alveolar_Rhabdomyosarcoma/PEDS172/wes_copy_number.tsv\n"
     ]
    },
    {
     "data": {
      "application/vnd.jupyter.widget-view+json": {
       "model_id": "60a3c5adf7bb4fe4b9b0995524945114",
       "version_major": 2,
       "version_minor": 0
      },
      "text/plain": [
       "QgridWidget(grid_options={'fullWidthRows': True, 'syncColumnCellResize': True, 'forceFitColumns': False, 'defa…"
      ]
     },
     "metadata": {},
     "output_type": "display_data"
    },
    {
     "name": "stdout",
     "output_type": "stream",
     "text": [
      "\n",
      "\n"
     ]
    }
   ],
   "source": [
    "for i in [tsca_cn, wes_cn]:\n",
    "    make_interactive_table(i)"
   ]
  },
  {
   "cell_type": "code",
   "execution_count": null,
   "metadata": {},
   "outputs": [],
   "source": []
  },
  {
   "cell_type": "code",
   "execution_count": 10,
   "metadata": {},
   "outputs": [],
   "source": [
    "tsca_mut = ! gsutil ls -r {path}*mutation.tsv\n",
    "wes_mut = ! gsutil ls -r {path}*wes_mutations.tsv"
   ]
  },
  {
   "cell_type": "code",
   "execution_count": 11,
   "metadata": {
    "scrolled": true
   },
   "outputs": [
    {
     "name": "stdout",
     "output_type": "stream",
     "text": [
      "Table: gs://cclf_results/targeted/kim_sept_6/Alveolar_Rhabdomyosarcoma/PEDS172/mutation.tsv\n"
     ]
    },
    {
     "data": {
      "application/vnd.jupyter.widget-view+json": {
       "model_id": "a865427930b5470cb16ea3f8dd4bcc10",
       "version_major": 2,
       "version_minor": 0
      },
      "text/plain": [
       "QgridWidget(grid_options={'fullWidthRows': True, 'syncColumnCellResize': True, 'forceFitColumns': False, 'defa…"
      ]
     },
     "metadata": {},
     "output_type": "display_data"
    },
    {
     "name": "stdout",
     "output_type": "stream",
     "text": [
      "\n",
      "\n",
      "Table: gs://cclf_results/targeted/kim_sept_6/Alveolar_Rhabdomyosarcoma/PEDS172/wes_mutations.tsv\n"
     ]
    },
    {
     "data": {
      "application/vnd.jupyter.widget-view+json": {
       "model_id": "e36135c3acdc4fe79ec864e4a48ad5f1",
       "version_major": 2,
       "version_minor": 0
      },
      "text/plain": [
       "QgridWidget(grid_options={'fullWidthRows': True, 'syncColumnCellResize': True, 'forceFitColumns': False, 'defa…"
      ]
     },
     "metadata": {},
     "output_type": "display_data"
    },
    {
     "name": "stdout",
     "output_type": "stream",
     "text": [
      "\n",
      "\n"
     ]
    }
   ],
   "source": [
    "for i in [tsca_mut, wes_mut]:\n",
    "    make_interactive_table(i)"
   ]
  },
  {
   "cell_type": "code",
   "execution_count": null,
   "metadata": {
    "scrolled": false
   },
   "outputs": [],
   "source": [
    "# data = pd.read_table(table_filepaths[4])\n",
    "# qgrid_widget = qgrid.show_grid(data, show_toolbar=True)\n",
    "# qgrid_widget"
   ]
  },
  {
   "cell_type": "code",
   "execution_count": 14,
   "metadata": {
    "scrolled": true
   },
   "outputs": [
    {
     "data": {
      "application/vnd.jupyter.widget-view+json": {
       "model_id": "2a14316c6eb24ffd89197f6a3ea31718",
       "version_major": 2,
       "version_minor": 0
      },
      "text/plain": [
       "interactive(children=(Dropdown(description='file', options=('gs://cclf_results/targeted/kim_sept_6/Alveolar_Rh…"
      ]
     },
     "metadata": {},
     "output_type": "display_data"
    }
   ],
   "source": [
    "# select table to display from dropdown menu\n",
    "## doesn't work with the interactive tables, unfortunately.\n",
    "@interact\n",
    "def show_tables(file=table_filepaths):\n",
    "    print(file)\n",
    "    data = pd.read_table(file)\n",
    "    qgrid_widget = qgrid.show_grid(data, show_toolbar=True)\n",
    "    qgrid_widget\n",
    "    display(data)"
   ]
  },
  {
   "cell_type": "code",
   "execution_count": null,
   "metadata": {},
   "outputs": [],
   "source": [
    "## reading in image from GCS\n",
    "# method: https://pypi.org/project/fs-gcsfs/\n",
    "from fs_gcsfs import GCSFS\n",
    "gcsfs = GCSFS(bucket_name=\"cclf_results\")\n",
    "# gcsfs.fix_storage() # see https://fs-gcsfs.readthedocs.io/en/latest/#limitations\n",
    "# gcsfs.tree()\n",
    "\n",
    "# with open(\"/targeted/kim_sept_6/Alveolar_Rhabdomyosarcoma/PEDS172/PEDS172T_PF_AR5_p7_sample_statistics.txt\") as f:\n",
    "#     df = pd.read_csv(f)\n",
    "    \n",
    "# method: https://gcsfs.readthedocs.io/en/latest/\n",
    "# fs = gcsfs.GCSFileSystem(project='my-google-project')\n",
    "# fs.ls('my-bucket')\n",
    "# with fs.open('my-bucket/my-file.txt', 'rb') as f:\n",
    "#     df = pd.read_csv(f)\n",
    "#         display(f)\n",
    "\n",
    "# @interact\n",
    "# def show_images(file=filepaths): # can Image work with gcsfs/GCS file paths? It doesn't look like it.\n",
    "#     print(file)\n",
    "#     display(Image(file))"
   ]
  },
  {
   "cell_type": "markdown",
   "metadata": {},
   "source": [
    "## Copy number plots\n",
    "Select the copy number plot you would like to display from the dropdown menu.\n",
    "\n",
    "<!-- Note that to get nice dropdown menu names, I'm changing directories for now. There's probably a better way to do this. -->"
   ]
  },
  {
   "cell_type": "code",
   "execution_count": 66,
   "metadata": {},
   "outputs": [],
   "source": [
    "os.chdir(tempdir)"
   ]
  },
  {
   "cell_type": "code",
   "execution_count": 67,
   "metadata": {
    "scrolled": true
   },
   "outputs": [
    {
     "data": {
      "application/vnd.jupyter.widget-view+json": {
       "model_id": "40d34f9b2e644a83870261c96db3393e",
       "version_major": 2,
       "version_minor": 0
      },
      "text/plain": [
       "interactive(children=(Dropdown(description='file', options=('merged_copy_number_map.png', 'test.png'), value='…"
      ]
     },
     "metadata": {},
     "output_type": "display_data"
    }
   ],
   "source": [
    "# select image to display from dropdown menu    \n",
    "@interact\n",
    "def show_images(file=local_img_file_names): # can Image work with gcsfs/GCS file paths? It doesn't look like it.\n",
    "    print(file)\n",
    "    display(Image(file))"
   ]
  },
  {
   "cell_type": "code",
   "execution_count": 70,
   "metadata": {},
   "outputs": [],
   "source": [
    "## must change back to the main directory\n",
    "os.chdir(cwd)"
   ]
  },
  {
   "cell_type": "code",
   "execution_count": null,
   "metadata": {},
   "outputs": [],
   "source": [
    "# fdir = '/Users/gmiller/Documents/Pictures/'\n",
    "\n",
    "# @interact\n",
    "# def show_images(file=os.listdir(fdir)):\n",
    "#     print(fdir+file)\n",
    "#     display(Image(fdir+file))"
   ]
  }
 ],
 "metadata": {
  "kernelspec": {
   "display_name": "Python 3",
   "language": "python",
   "name": "python3"
  },
  "language_info": {
   "codemirror_mode": {
    "name": "ipython",
    "version": 3
   },
   "file_extension": ".py",
   "mimetype": "text/x-python",
   "name": "python",
   "nbconvert_exporter": "python",
   "pygments_lexer": "ipython3",
   "version": "3.7.4"
  },
  "toc": {
   "base_numbering": 1,
   "nav_menu": {},
   "number_sections": true,
   "sideBar": true,
   "skip_h1_title": false,
   "title_cell": "Table of Contents",
   "title_sidebar": "Contents",
   "toc_cell": false,
   "toc_position": {},
   "toc_section_display": true,
   "toc_window_display": true
  }
 },
 "nbformat": 4,
 "nbformat_minor": 2
}
