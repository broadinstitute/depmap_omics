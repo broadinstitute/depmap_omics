{
 "cells": [
  {
   "cell_type": "code",
   "execution_count": null,
   "id": "416856d0",
   "metadata": {},
   "outputs": [],
   "source": [
    "import pandas as pd\n",
    "import dalmatian as dm"
   ]
  },
  {
   "cell_type": "code",
   "execution_count": null,
   "id": "10643500",
   "metadata": {},
   "outputs": [],
   "source": [
    "wm = dm.WorkspaceManager(\"broad-firecloud-ccle/DepMap_hg38_RNAseq\").disable_hound()\n",
    "rnasamples = wm.get_samples()"
   ]
  },
  {
   "cell_type": "code",
   "execution_count": null,
   "id": "06b37971",
   "metadata": {},
   "outputs": [],
   "source": [
    "# rMATS analyzes skipped exon (SE), alternative 5' splice site (A5SS), alternative 3' splice site (A3SS), \n",
    "# mutually exclusive exons (MXE), and retained intron (RI) events\n",
    "rmats_cols = [\"A3SS_JC_output\", \"A5SS_JC_output\", \"MXE_JC_output\", \"RI_JC_output\", \"SE_JC_output\"]"
   ]
  },
  {
   "cell_type": "code",
   "execution_count": null,
   "id": "ed61ce55",
   "metadata": {},
   "outputs": [],
   "source": [
    "rnasamples[rmats_cols]"
   ]
  },
  {
   "cell_type": "code",
   "execution_count": null,
   "id": "4ff1a482",
   "metadata": {},
   "outputs": [],
   "source": [
    "import json\n",
    "\n",
    "rna_renaming = {}\n",
    "with open('../temp/22minerva/rna_sample_renaming.json') as json_file:\n",
    "    rna_renaming = json.load(json_file)\n"
   ]
  },
  {
   "cell_type": "code",
   "execution_count": null,
   "id": "5516a67b",
   "metadata": {},
   "outputs": [],
   "source": [
    "for c in rmats_cols:\n",
    "    print(\"aggregating \" + c)\n",
    "    df_list = []\n",
    "    for i in rnasamples.index:\n",
    "        if i in rna_renaming:\n",
    "            arxspan = rnasamples.loc[i, \"arxspan_id\"]\n",
    "            df = pd.read_csv(rnasamples.loc[i, c], sep='\\t')\n",
    "            df = df.dropna(axis=1, how='all')\n",
    "            df = df.drop(['ID', 'ID.1'], axis=1)\n",
    "            df = df[~df.IncLevel1.isna()]\n",
    "            df['DepMap_ID'] = rna_renaming[i]\n",
    "            df_list.append(df)\n",
    "    agg_df = pd.concat(df_list)\n",
    "    print(\"saving file: \" + c + \"_aggregated.csv\")\n",
    "    agg_df.to_csv(c + \"_aggregated.csv\", index=False)\n",
    "    print(c + \"_aggregated.csv saved\")"
   ]
  },
  {
   "cell_type": "code",
   "execution_count": null,
   "id": "1b0ad808",
   "metadata": {},
   "outputs": [],
   "source": [
    "pd.read_csv(\"A3SS_JC_output_aggregated.csv\", sep='\\t')"
   ]
  },
  {
   "cell_type": "code",
   "execution_count": null,
   "id": "44a6d865",
   "metadata": {},
   "outputs": [],
   "source": [
    "from taigapy import TaigaClient\n",
    "tc = TaigaClient()\n",
    "\n",
    "tc.update_dataset(\n",
    "        changes_description=\"updated aggregated rMATS outputs\",\n",
    "        dataset_permaname=\"omics-features-952e\",\n",
    "        upload_files=[\n",
    "            {\n",
    "                \"path\": \"A3SS_JC_output_aggregated.csv\",\n",
    "                \"format\": \"TableCSV\",\n",
    "                \"encoding\": \"utf-8\",\n",
    "            },\n",
    "            {\n",
    "                \"path\": \"A5SS_JC_output_aggregated.csv\",\n",
    "                \"format\": \"TableCSV\",\n",
    "                \"encoding\": \"utf-8\",\n",
    "            },\n",
    "            {\n",
    "                \"path\": \"MXE_JC_output_aggregated.csv\",\n",
    "                \"format\": \"TableCSV\",\n",
    "                \"encoding\": \"utf-8\",\n",
    "            },\n",
    "            {\n",
    "                \"path\": \"RI_JC_output_aggregated.csv\",\n",
    "                \"format\": \"TableCSV\",\n",
    "                \"encoding\": \"utf-8\",\n",
    "            },\n",
    "#             {\n",
    "#                 \"path\": \"SE_JC_output_aggregated.csv\",\n",
    "#                 \"format\": \"TableCSV\",\n",
    "#                 \"encoding\": \"utf-8\",\n",
    "#             },\n",
    "        ],\n",
    "        add_all_existing_files=True\n",
    "    )"
   ]
  },
  {
   "cell_type": "code",
   "execution_count": null,
   "id": "3f78d582",
   "metadata": {},
   "outputs": [],
   "source": []
  }
 ],
 "metadata": {
  "kernelspec": {
   "display_name": "Python 3",
   "language": "python",
   "name": "python3"
  },
  "language_info": {
   "codemirror_mode": {
    "name": "ipython",
    "version": 3
   },
   "file_extension": ".py",
   "mimetype": "text/x-python",
   "name": "python",
   "nbconvert_exporter": "python",
   "pygments_lexer": "ipython3",
   "version": "3.8.2"
  }
 },
 "nbformat": 4,
 "nbformat_minor": 5
}
