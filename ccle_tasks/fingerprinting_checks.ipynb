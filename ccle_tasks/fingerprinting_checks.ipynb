{
 "cells": [
  {
   "cell_type": "code",
   "execution_count": null,
   "id": "5b218fea",
   "metadata": {},
   "outputs": [],
   "source": [
    "import pandas as pd\n",
    "import numpy as np"
   ]
  },
  {
   "cell_type": "code",
   "execution_count": null,
   "id": "0599a372",
   "metadata": {},
   "outputs": [],
   "source": [
    "from taigapy import TaigaClient\n",
    "tc = TaigaClient()\n",
    "\n",
    "fingerprint_lod_matrix = tc.get(name='ccle-bam-fingerprints-6f30', version=10, file='fingerprint_lod_matrix')"
   ]
  },
  {
   "cell_type": "code",
   "execution_count": null,
   "id": "2d3b7493",
   "metadata": {},
   "outputs": [],
   "source": [
    "from depmap_omics_upload import tracker as track\n",
    "\n",
    "mytracker = track.SampleTracker()\n",
    "seq_table = mytracker.add_model_cols_to_seqtable([\"ModelID\", \"PatientID\"])"
   ]
  },
  {
   "cell_type": "code",
   "execution_count": null,
   "id": "06667bd1",
   "metadata": {},
   "outputs": [],
   "source": [
    "models_to_look = [\"ACH-001002\"]"
   ]
  },
  {
   "cell_type": "code",
   "execution_count": null,
   "id": "0043d73a",
   "metadata": {},
   "outputs": [],
   "source": [
    "seqids = seq_table[seq_table.ModelID.isin(models_to_look)].index.tolist()\n",
    "seqids = [i for i in seqids if i in set(fingerprint_lod_matrix.index)]\n",
    "renaming_dict1 = {i: seq_table.loc[i, \"ModelID\"] + \" \" + seq_table.loc[i, \"expected_type\"] for i in seqids}"
   ]
  },
  {
   "cell_type": "code",
   "execution_count": null,
   "id": "87e6560f",
   "metadata": {},
   "outputs": [],
   "source": [
    "fingerprint_lod_matrix.loc[seqids, seqids].rename(columns=renaming_dict1, index=renaming_dict1)"
   ]
  },
  {
   "cell_type": "code",
   "execution_count": null,
   "id": "b43d3e3b",
   "metadata": {},
   "outputs": [],
   "source": [
    "subset = fingerprint_lod_matrix.loc[seqids]\n",
    "cols = set([subset.columns[y] for x, y in np.argwhere(subset.values > 500) if subset.columns[y] in set(seq_table.index)])\n",
    "renaming_dict2 = {i: seq_table.loc[i, \"ModelID\"] + \" \" + seq_table.loc[i, \"expected_type\"] for i in cols}\n",
    "subset.loc[:, cols].rename(columns=renaming_dict2, index=renaming_dict1)"
   ]
  },
  {
   "cell_type": "code",
   "execution_count": null,
   "id": "0fb8bae4",
   "metadata": {},
   "outputs": [],
   "source": [
    "np.argwhere(subset.values > 500)"
   ]
  },
  {
   "cell_type": "code",
   "execution_count": null,
   "id": "f700127d",
   "metadata": {},
   "outputs": [],
   "source": [
    "(fingerprint_lod_matrix.loc[seqids] > 500).sum().sum()"
   ]
  },
  {
   "cell_type": "code",
   "execution_count": null,
   "id": "6c8fc92a",
   "metadata": {},
   "outputs": [],
   "source": [
    "[(fingerprint_lod_matrix.index[x], lod_mat.columns[y]) for x, y in np.argwhere(fingerprint_lod_matrix.values > 500)]"
   ]
  },
  {
   "cell_type": "code",
   "execution_count": null,
   "id": "68cd0885",
   "metadata": {},
   "outputs": [],
   "source": [
    "np.argwhere(fingerprint_lod_matrix.values > 500)"
   ]
  },
  {
   "cell_type": "code",
   "execution_count": null,
   "id": "8787d77d",
   "metadata": {},
   "outputs": [],
   "source": [
    "from depmap_omics_upload import upload\n",
    "from depmap_omics_upload import tracker as track"
   ]
  },
  {
   "cell_type": "code",
   "execution_count": null,
   "id": "9f09665d",
   "metadata": {},
   "outputs": [],
   "source": [
    "upload.checkDataPermission()"
   ]
  },
  {
   "cell_type": "code",
   "execution_count": null,
   "id": "49dc9a4c",
   "metadata": {},
   "outputs": [],
   "source": [
    "mytracker = track.SampleTracker()\n",
    "pr_table = mytracker.add_model_cols_to_prtable(cols=[\"ModelID\", \"PermissionToRelease\"])\n",
    "mytracker.close_gumbo_client()\n",
    "problematic_prs = pr_table[~(pr_table[\"InternalReleaseDate\"].isnull()) & (~pr_table[\"PermissionToRelease\"])]"
   ]
  },
  {
   "cell_type": "code",
   "execution_count": null,
   "id": "91212531",
   "metadata": {},
   "outputs": [],
   "source": [
    "problematic_prs[[\"ModelID\", \"Datatype\", \"InternalReleaseDate\", \"IBMReleaseDate\", \"ConsortiumReleaseDate\", \"PublicReleaseDate\"]].to_csv(\"prs_without_permission.csv\")"
   ]
  },
  {
   "cell_type": "code",
   "execution_count": null,
   "id": "ea52632d",
   "metadata": {},
   "outputs": [],
   "source": [
    "upload.checkDataAvailability()"
   ]
  },
  {
   "cell_type": "code",
   "execution_count": null,
   "id": "5cee2976",
   "metadata": {},
   "outputs": [],
   "source": [
    "prs = upload.getPRToRelease()"
   ]
  },
  {
   "cell_type": "code",
   "execution_count": null,
   "id": "732bd061",
   "metadata": {},
   "outputs": [],
   "source": [
    ".MainSequencingID.isnull().values.any()"
   ]
  },
  {
   "cell_type": "code",
   "execution_count": null,
   "id": "e6011f4c",
   "metadata": {},
   "outputs": [],
   "source": [
    "from depmap_omics_upload import tracker as track\n",
    "\n",
    "mytracker = track.SampleTracker()\n",
    "pr_table = mytracker.read_pr_table()"
   ]
  },
  {
   "cell_type": "code",
   "execution_count": null,
   "id": "3fce2b1a",
   "metadata": {},
   "outputs": [],
   "source": [
    "pr_table[(pr_table.ProfileSource != \"taiga\") & (pr_table.Datatype.isin([\"wgs\", \"rna\", \"wes\"])) & (pr_table.Baits.isnull())]"
   ]
  },
  {
   "cell_type": "code",
   "execution_count": null,
   "id": "114c7bd9",
   "metadata": {},
   "outputs": [],
   "source": [
    "from datetime import date\n",
    "\n",
    "today = date.today()\n",
    "prs_with_date = pr_table[~(pr_table[\"InternalReleaseDate\"].isnull())]\n",
    "prs_with_date = prs_with_date[(prs_with_date.InternalReleaseDate <= today) & (prs_with_date.ProfileSource != \"taiga\")]\n",
    "prs_with_date.MainSequencingID.isnull().values.any()"
   ]
  },
  {
   "cell_type": "code",
   "execution_count": null,
   "id": "51197aee",
   "metadata": {},
   "outputs": [],
   "source": [
    "mytracker = track.SampleTracker()"
   ]
  },
  {
   "cell_type": "code",
   "execution_count": null,
   "id": "4ef8ee81",
   "metadata": {},
   "outputs": [],
   "source": [
    "mytracker.client.get(\"model_data_view\")"
   ]
  },
  {
   "cell_type": "code",
   "execution_count": null,
   "id": "a0063cc6",
   "metadata": {},
   "outputs": [],
   "source": [
    "import gumbo_client\n",
    "\n",
    "client = gumbo_client.Client(config_dir=\"~/.config/gumbo-staging\")\n",
    "client.get(\"model_data_view\")"
   ]
  },
  {
   "cell_type": "code",
   "execution_count": null,
   "id": "f101201d",
   "metadata": {},
   "outputs": [],
   "source": [
    "from taigapy import TaigaClient\n",
    "tc = TaigaClient()\n",
    "\n",
    "OmicsProfiles = tc.get(name='internal-22q4-56d4', version=90, file='OmicsProfiles')\n"
   ]
  },
  {
   "cell_type": "code",
   "execution_count": null,
   "id": "e76d0a49",
   "metadata": {},
   "outputs": [],
   "source": [
    "OmicsProfiles"
   ]
  },
  {
   "cell_type": "code",
   "execution_count": null,
   "id": "1f9e063f",
   "metadata": {},
   "outputs": [],
   "source": []
  }
 ],
 "metadata": {
  "kernelspec": {
   "display_name": "Python 3",
   "language": "python",
   "name": "python3"
  },
  "language_info": {
   "codemirror_mode": {
    "name": "ipython",
    "version": 3
   },
   "file_extension": ".py",
   "mimetype": "text/x-python",
   "name": "python",
   "nbconvert_exporter": "python",
   "pygments_lexer": "ipython3",
   "version": "3.8.13"
  },
  "vscode": {
   "interpreter": {
    "hash": "31f2aee4e71d21fbe5cf8b01ff0e069b9275f58929596ceb00d14d90e3e16cd6"
   }
  }
 },
 "nbformat": 4,
 "nbformat_minor": 5
}
