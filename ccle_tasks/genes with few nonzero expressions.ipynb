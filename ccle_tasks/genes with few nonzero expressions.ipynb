{
 "cells": [
  {
   "cell_type": "code",
   "execution_count": null,
   "id": "cfb369bf",
   "metadata": {},
   "outputs": [],
   "source": [
    "from taigapy import TaigaClient\n",
    "tc = TaigaClient()\n",
    "\n",
    "OmicsExpressionProteinCodingGenesTPMLogp1 = tc.get(name='dmc-22q4-a73a', version=87, file='OmicsExpressionProteinCodingGenesTPMLogp1')"
   ]
  },
  {
   "cell_type": "code",
   "execution_count": null,
   "id": "3c04bc01",
   "metadata": {},
   "outputs": [],
   "source": [
    "zeros = OmicsExpressionProteinCodingGenesTPMLogp1.eq(0).sum()"
   ]
  },
  {
   "cell_type": "code",
   "execution_count": null,
   "id": "5093de41",
   "metadata": {},
   "outputs": [],
   "source": [
    "proteinCoding_genes_tpm_logp1_withReplicates = tc.get(name='expression-d035', version=29, file='proteinCoding_genes_tpm_logp1_withReplicates')\n",
    "zeros = proteinCoding_genes_tpm_logp1_withReplicates.eq(0).sum()"
   ]
  },
  {
   "cell_type": "code",
   "execution_count": null,
   "id": "cc03260d",
   "metadata": {},
   "outputs": [],
   "source": [
    "zeros[zeros == 1788]"
   ]
  },
  {
   "cell_type": "code",
   "execution_count": null,
   "id": "01b15ed8",
   "metadata": {},
   "outputs": [],
   "source": [
    "proteinCoding_genes_tpm_logp1_withReplicates[proteinCoding_genes_tpm_logp1_withReplicates[\"DEFB130A (245940)\"] != 0]"
   ]
  },
  {
   "cell_type": "code",
   "execution_count": null,
   "id": "65d0f1c6",
   "metadata": {},
   "outputs": [],
   "source": [
    "proteinCoding_genes_tpm_logp1_withReplicates[proteinCoding_genes_tpm_logp1_withReplicates[\"DEFB130B (100133267)\"] != 0]"
   ]
  },
  {
   "cell_type": "code",
   "execution_count": null,
   "id": "c5d81afc",
   "metadata": {},
   "outputs": [],
   "source": []
  },
  {
   "cell_type": "code",
   "execution_count": null,
   "id": "a2582a00",
   "metadata": {},
   "outputs": [],
   "source": []
  },
  {
   "cell_type": "code",
   "execution_count": null,
   "id": "e97d6bb2",
   "metadata": {},
   "outputs": [],
   "source": []
  }
 ],
 "metadata": {
  "kernelspec": {
   "display_name": "Python 3",
   "language": "python",
   "name": "python3"
  },
  "language_info": {
   "codemirror_mode": {
    "name": "ipython",
    "version": 3
   },
   "file_extension": ".py",
   "mimetype": "text/x-python",
   "name": "python",
   "nbconvert_exporter": "python",
   "pygments_lexer": "ipython3",
   "version": "3.8.13"
  }
 },
 "nbformat": 4,
 "nbformat_minor": 5
}
