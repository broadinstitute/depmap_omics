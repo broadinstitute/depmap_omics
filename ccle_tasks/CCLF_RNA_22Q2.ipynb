{
 "cells": [
  {
   "cell_type": "markdown",
   "metadata": {},
   "source": [
    "# CCLF processing 04/11/2022"
   ]
  },
  {
   "cell_type": "code",
   "execution_count": null,
   "metadata": {},
   "outputs": [],
   "source": [
    "import dalmatian as dm"
   ]
  },
  {
   "cell_type": "code",
   "execution_count": null,
   "metadata": {},
   "outputs": [],
   "source": [
    "proc = 'nci-mimoun-bi-org/CCLF_RNA_2_0'\n",
    "data = \"terra-broad-cancer-prod/CCLF_Bass_GE_ModelCharacterization\""
   ]
  },
  {
   "cell_type": "code",
   "execution_count": null,
   "metadata": {},
   "outputs": [],
   "source": [
    "datawm = dm.WorkspaceManager(data)\n",
    "procwm = dm.WorkspaceManager(proc)\n",
    "datsam = datawm.get_samples()\n",
    "procsam = procwm.get_samples()"
   ]
  },
  {
   "cell_type": "code",
   "execution_count": null,
   "metadata": {},
   "outputs": [],
   "source": [
    "datsam = datsam[datsam['data_type']=='RNA'][['crai_or_bai_path', 'cram_or_bam_path','PDO', 'LC-SET']].rename(columns={\n",
    "    'cram_or_bam_path': 'bam_file_rna',\n",
    "    'crai_or_bai_path': 'bai_file_rna'\n",
    "})"
   ]
  },
  {
   "cell_type": "code",
   "execution_count": null,
   "metadata": {},
   "outputs": [],
   "source": [
    "datsam['participant_id'] = datsam.index"
   ]
  },
  {
   "cell_type": "code",
   "execution_count": null,
   "metadata": {},
   "outputs": [],
   "source": [
    "procwm.upload_samples(datsam)"
   ]
  },
  {
   "cell_type": "code",
   "execution_count": null,
   "metadata": {},
   "outputs": [],
   "source": [
    "procwm.get_sample_sets()('22Q2proc', datsam.index.tolist())"
   ]
  },
  {
   "cell_type": "code",
   "execution_count": null,
   "metadata": {},
   "outputs": [],
   "source": [
    "val = procwm.get_sample_sets().loc['CCLF_22Q2', ['genes_expected_count', 'genes_tpm']]"
   ]
  },
  {
   "cell_type": "code",
   "execution_count": null,
   "metadata": {},
   "outputs": [],
   "source": [
    "for i in val.values:\n",
    "  !gsutil cp $i ~/Desktop/"
   ]
  },
  {
   "cell_type": "code",
   "execution_count": null,
   "metadata": {},
   "outputs": [],
   "source": [
    "from depmapomics.expressions import postProcess\n",
    "%reload_ext autoreload\n",
    "%autoreload 2\n"
   ]
  },
  {
   "cell_type": "code",
   "execution_count": null,
   "metadata": {},
   "outputs": [],
   "source": [
    "res = await postProcess(proc, 'CCLF_22Q2', samplesetToLoad='CCLF_22Q2', compute_enrichment=False, recompute_ssgsea=False)"
   ]
  }
 ],
 "metadata": {
  "interpreter": {
   "hash": "b6979a8a2b0c8b20507f7dc1436108e0a886fa021b0d62a505c92a02916c29b3"
  },
  "kernelspec": {
   "display_name": "Python 3.8.8 ('py38')",
   "language": "python",
   "name": "python3"
  },
  "language_info": {
   "codemirror_mode": {
    "name": "ipython",
    "version": 3
   },
   "file_extension": ".py",
   "mimetype": "text/x-python",
   "name": "python",
   "nbconvert_exporter": "python",
   "pygments_lexer": "ipython3",
   "version": "3.8.8"
  }
 },
 "nbformat": 4,
 "nbformat_minor": 2
}
