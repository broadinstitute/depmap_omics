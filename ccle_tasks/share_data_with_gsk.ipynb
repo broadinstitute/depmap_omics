{
 "cells": [
  {
   "cell_type": "code",
   "execution_count": null,
   "id": "e712867b",
   "metadata": {},
   "outputs": [],
   "source": [
    "import dalmatian as dm\n",
    "import pandas as pd"
   ]
  },
  {
   "cell_type": "code",
   "execution_count": null,
   "id": "7b47d56d",
   "metadata": {},
   "outputs": [],
   "source": [
    "ccle_ws = dm.WorkspaceManager(\"fccredits-silver-tan-7621/CCLE_v2\")\n",
    "ccle_samples = ccle_ws.get_samples()\n",
    "ccle_wgs = ccle_samples[~ccle_samples.hg38_wgs_bam.isna()][[\"hg38_wgs_bam\"]]"
   ]
  },
  {
   "cell_type": "code",
   "execution_count": null,
   "id": "74a48b85",
   "metadata": {},
   "outputs": [],
   "source": [
    "ccle_wgs['vcf'] = \"\"\n",
    "ccle_wgs"
   ]
  },
  {
   "cell_type": "code",
   "execution_count": null,
   "id": "0843a2bd",
   "metadata": {},
   "outputs": [],
   "source": [
    "ccle_wgs[\"vcf_index\"] = \"\""
   ]
  },
  {
   "cell_type": "code",
   "execution_count": null,
   "id": "bc342190",
   "metadata": {},
   "outputs": [],
   "source": [
    "wgs_ws = dm.WorkspaceManager(\"broad-firecloud-ccle/DepMap_WGS_CN\")\n",
    "wgs_samples = wgs_ws.get_samples()"
   ]
  },
  {
   "cell_type": "code",
   "execution_count": null,
   "id": "d751b605",
   "metadata": {},
   "outputs": [],
   "source": [
    "from genepy.utils import helper as h\n",
    "\n",
    "cmds = []\n",
    "for i in ccle_wgs.index:\n",
    "    bam = ccle_wgs.loc[i, \"hg38_wgs_bam\"]\n",
    "    cdsid = bam.split(\"/\")[-1][:10]\n",
    "    vcf = wgs_samples.loc[cdsid, \"cnn_filtered_vcf\"]\n",
    "    ccle_wgs.loc[i, \"vcf\"] = \"gs://depmap-wgs-vcf/\" + vcf.split(\"/\")[-1]\n",
    "    vcf_idx = wgs_samples.loc[cdsid, \"cnn_filtered_vcf_index\"]\n",
    "    ccle_wgs.loc[i, \"vcf_index\"] = \"gs://depmap-wgs-vcf/\" + vcf_idx.split(\"/\")[-1]\n",
    "    cmds.append(\"gsutil -u broad-firecloud-ccle cp \" + vcf + \" gs://depmap-wgs-vcf\")\n",
    "    cmds.append(\"gsutil -u broad-firecloud-ccle cp \" + vcf_idx + \" gs://depmap-wgs-vcf\")"
   ]
  },
  {
   "cell_type": "code",
   "execution_count": null,
   "id": "3c3a977a",
   "metadata": {},
   "outputs": [],
   "source": [
    "cmds"
   ]
  },
  {
   "cell_type": "code",
   "execution_count": null,
   "id": "332318ba",
   "metadata": {},
   "outputs": [],
   "source": [
    "ccle_wgs"
   ]
  },
  {
   "cell_type": "code",
   "execution_count": null,
   "id": "06dde521",
   "metadata": {},
   "outputs": [],
   "source": [
    "h.parrun(cmds, cores=8)"
   ]
  },
  {
   "cell_type": "code",
   "execution_count": null,
   "id": "f94a9464",
   "metadata": {},
   "outputs": [],
   "source": [
    "ccle_wgs.to_csv(\"wgs_vcf.csv\")"
   ]
  },
  {
   "cell_type": "code",
   "execution_count": null,
   "id": "494e3f7f",
   "metadata": {},
   "outputs": [],
   "source": []
  }
 ],
 "metadata": {
  "kernelspec": {
   "display_name": "Python 3",
   "language": "python",
   "name": "python3"
  },
  "language_info": {
   "codemirror_mode": {
    "name": "ipython",
    "version": 3
   },
   "file_extension": ".py",
   "mimetype": "text/x-python",
   "name": "python",
   "nbconvert_exporter": "python",
   "pygments_lexer": "ipython3",
   "version": "3.8.2"
  }
 },
 "nbformat": 4,
 "nbformat_minor": 5
}
