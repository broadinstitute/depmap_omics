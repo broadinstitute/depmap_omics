{
 "cells": [
  {
   "cell_type": "code",
   "execution_count": null,
   "metadata": {},
   "outputs": [],
   "source": [
    "from __future__ import print_function\n",
    "import os.path\n",
    "import dalmatian as dm\n",
    "import pandas as pd"
   ]
  },
  {
   "cell_type": "code",
   "execution_count": null,
   "metadata": {},
   "outputs": [],
   "source": [
    "namespace=\"broad-genomics-delivery\"\n",
    "workspace=\"Getz_IBM_CellLines_Exomes\"\n",
    "refnamespace=\"broad-firecloud-ccle\"\n",
    "refworkspace=\"DepMap_WES_CN_HG38\"\n",
    "source=\"ibm\"\n",
    "\n",
    "intervals = '\"gs://fc-secure-bb273170-1bd6-405c-82c7-67fb31fcda40/references/intervals/agilent_hg38_lifted_chrXX.no_header.list\"'\n",
    "readcountpon = '\"gs://fc-secure-b82334d0-5e87-4e4d-8e0b-757b9a8aae6b/49f36c0e-5731-4228-b40b-882a182616c0/CNVSomaticPanelWorkflow/2875ee8d-c68f-45f9-b4c2-3683ea5dc42d/call-CreateReadCountPanelOfNormals/hg38_agilent_pon_XX.pon.hdf5\"'"
   ]
  },
  {
   "cell_type": "code",
   "execution_count": null,
   "metadata": {},
   "outputs": [],
   "source": [
    "wm = dm.WorkspaceManager(namespace, workspace)\n",
    "refwm = dm.WorkspaceManager(refnamespace, refworkspace)"
   ]
  },
  {
   "cell_type": "code",
   "execution_count": null,
   "metadata": {},
   "outputs": [],
   "source": [
    "refsamples = refwm.get_samples()\n",
    "refids = refsamples['participant'].tolist()\n",
    "refids = [val[val.index('ACH'):] for val in refids]\n",
    "refsamples"
   ]
  },
  {
   "cell_type": "code",
   "execution_count": null,
   "metadata": {},
   "outputs": [],
   "source": [
    "samples = wm.get_samples()\n",
    "samples = samples[samples['individual_alias'].str.contains('ACH')][~samples['individual_alias'].str.slice(0,10).isin(refids)]\n",
    "samples['individual_alias']"
   ]
  },
  {
   "cell_type": "code",
   "execution_count": null,
   "metadata": {},
   "outputs": [],
   "source": [
    "for ind, val in samples.iterrows():\n",
    "    refsamples = refsamples.append(pd.Series({\n",
    "        \"CCLE_name\": val['sample_alias'],\n",
    "        \"WES_bai\": val['crai_or_bai_path'],\n",
    "        \"WES_bam\": val['cram_or_bam_path'],\n",
    "        \"Source\": source,\n",
    "        \"participant\":val['individual_alias'][:10],\n",
    "    },name=source+'_'+val['individual_alias'][:10]))"
   ]
  },
  {
   "cell_type": "code",
   "execution_count": null,
   "metadata": {},
   "outputs": [],
   "source": [
    "refsamples.shape"
   ]
  },
  {
   "cell_type": "code",
   "execution_count": null,
   "metadata": {},
   "outputs": [],
   "source": [
    "refwm.upload_samples(refsamples)"
   ]
  },
  {
   "cell_type": "code",
   "execution_count": null,
   "metadata": {},
   "outputs": [],
   "source": [
    "a = [source+'_'+i for i in samples['individual_alias'].str.slice(0,10).tolist()]\n",
    "a"
   ]
  },
  {
   "cell_type": "code",
   "execution_count": null,
   "metadata": {},
   "outputs": [],
   "source": [
    "refwm.update_sample_set(sample_set_id=\"CCLE_19Q3interim\",sample_ids=a)"
   ]
  },
  {
   "cell_type": "code",
   "execution_count": null,
   "metadata": {},
   "outputs": [],
   "source": [
    "conf = refwm.get_config(\"CNV_sample_XX\")\n",
    "conf"
   ]
  },
  {
   "cell_type": "code",
   "execution_count": null,
   "metadata": {},
   "outputs": [],
   "source": [
    "CNVSomaticPairWorkflow['inputs']['CNVSomaticPairWorkflow.tumor_bam_idx'] = \"this.WES_bai\"\n",
    "CNVSomaticPairWorkflow['inputs']['CNVSomaticPairWorkflow.tumor_bam'] = \"this.WES_bam\"\n",
    "CNVSomaticPairWorkflow['inputs']['CNVSomaticPairWorkflow.read_count_pon'] = readcountpon\n",
    "CNVSomaticPairWorkflow['inputs']['CNVSomaticPairWorkflow.intervals'] = intervals\n",
    "submission_id = refwm.create_submission(CNVSomaticPairWorkflow['name'],etype='sample_set',entity=\"CCLE_19Q3interim\",expression='this.samples')\n",
    "while wm.get_submission(submission_id)['status'] not in {'Done', 'Aborted'}:\n",
    "    time.sleep(60)\n",
    "assert wm.get_submission(submission_id)['status'] !='Aborted'"
   ]
  },
  {
   "cell_type": "code",
   "execution_count": null,
   "metadata": {},
   "outputs": [],
   "source": []
  }
 ],
 "metadata": {
  "kernelspec": {
   "display_name": "Python 3",
   "language": "python",
   "name": "python3"
  },
  "language_info": {
   "codemirror_mode": {
    "name": "ipython",
    "version": 3
   },
   "file_extension": ".py",
   "mimetype": "text/x-python",
   "name": "python",
   "nbconvert_exporter": "python",
   "pygments_lexer": "ipython3",
   "version": "3.6.7"
  }
 },
 "nbformat": 4,
 "nbformat_minor": 2
}
