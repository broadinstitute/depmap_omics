{
 "cells": [
  {
   "cell_type": "code",
   "execution_count": null,
   "id": "4da2c7b8",
   "metadata": {},
   "outputs": [],
   "source": [
    "import dalmatian as dm\n",
    "from depmapomics import tracker"
   ]
  },
  {
   "cell_type": "code",
   "execution_count": null,
   "id": "ae7083a3",
   "metadata": {},
   "outputs": [],
   "source": [
    "# First make sure new star has been run on all samples\n",
    "wm = dm.WorkspaceManager(\"broad-firecloud-ccle/DepMap_hg38_RNAseq\").disable_hound()\n",
    "rna_samples = wm.get_samples()\n",
    "rna_samples"
   ]
  },
  {
   "cell_type": "code",
   "execution_count": null,
   "id": "f212c69a",
   "metadata": {},
   "outputs": [],
   "source": [
    "t = tracker.getTracker()"
   ]
  },
  {
   "cell_type": "code",
   "execution_count": null,
   "id": "380deebd",
   "metadata": {},
   "outputs": [],
   "source": [
    "# Make sure all rna samples on terra are on the tracker\n",
    "rna_ids = set(rna_samples.index)\n",
    "tracker_ids = set(t.index)\n",
    "rna_ids - tracker_ids"
   ]
  },
  {
   "cell_type": "code",
   "execution_count": null,
   "id": "94e282b2",
   "metadata": {},
   "outputs": [],
   "source": [
    "rna_samples.david_internal_bam_filepath.isna().sum()"
   ]
  },
  {
   "cell_type": "code",
   "execution_count": null,
   "id": "2b41872f",
   "metadata": {},
   "outputs": [],
   "source": [
    "for i in rna_ids:\n",
    "    fn = \"gs://cclebams/rnasq_hg38/\" + i + \".Aligned.sortedByCoord.out.bam\"\n",
    "    if t.loc[i, \"internal_bam_filepath\"] != fn:\n",
    "        print(i)"
   ]
  },
  {
   "cell_type": "code",
   "execution_count": null,
   "id": "a6d04bf5",
   "metadata": {},
   "outputs": [],
   "source": [
    "from taigapy import TaigaClient\n",
    "tc = TaigaClient()\n",
    "proteincoding_genes_tpm_logp1 = tc.get(name='expression-d035', version=21, file='proteincoding_genes_tpm_logp1')"
   ]
  },
  {
   "cell_type": "code",
   "execution_count": null,
   "id": "ba9979dd",
   "metadata": {},
   "outputs": [],
   "source": [
    "'ACH-001767' in proteincoding_genes_tpm_logp1.index"
   ]
  },
  {
   "cell_type": "code",
   "execution_count": null,
   "id": "6203daf4",
   "metadata": {},
   "outputs": [],
   "source": [
    "for i in rna_ids:\n",
    "    if t.loc[i, \"internal_bam_filepath\"] != rna_samples.loc[i, \"internal_bam_filepath\"]:\n",
    "        print(i)"
   ]
  },
  {
   "cell_type": "code",
   "execution_count": null,
   "id": "26f533a1",
   "metadata": {},
   "outputs": [],
   "source": [
    "from genepy.utils import helper as h\n",
    "\n",
    "to_move = []\n",
    "for i in rna_samples.index:\n",
    "    david_bam = rna_samples.loc[i, 'david_internal_bam_filepath']\n",
    "    david_bai = rna_samples.loc[i, 'david_internal_bai_filepath']\n",
    "    old_bam = rna_samples.loc[i, \"internal_bam_filepath\"]\n",
    "    old_bai = rna_samples.loc[i, \"internal_bai_filepath\"]\n",
    "    \n",
    "    to_move.append((david_bam, old_bam))\n",
    "    to_move.append((david_bai, old_bai))\n",
    "to_move"
   ]
  },
  {
   "cell_type": "code",
   "execution_count": null,
   "id": "a341bb2b",
   "metadata": {},
   "outputs": [],
   "source": [
    "# test on one sample\n",
    "# h.parrun(['gsutil -u broad-firecloud-ccle mv gs://fc-secure-639c94ba-2b0d-4960-92fc-9cd50046a968/96d2add9-c915-4d1b-8c67-afe2d3f349ec/star_workflow/39f9cd7c-3ed6-48b8-94b3-e95f9ee4673b/call-star/star_out/CDS-ABH0uZ.Aligned.sortedByCoord.out.bam gs://cclebams/rnasq_hg38/CDS-ABH0uZ.Aligned.sortedByCoord.out.bam'], cores=20)\n",
    "for (i, v) in to_move[:6]:\n",
    "    print(i + \" moving to \" + v)"
   ]
  },
  {
   "cell_type": "code",
   "execution_count": null,
   "id": "2f1d72f7",
   "metadata": {},
   "outputs": [],
   "source": [
    "h.parrun(['gsutil -u broad-firecloud-ccle mv ' + i + ' ' + v for (i, v) in to_move[6:]], cores=20)"
   ]
  },
  {
   "cell_type": "code",
   "execution_count": null,
   "id": "cd693cc7",
   "metadata": {},
   "outputs": [],
   "source": [
    "rna_samples.to_csv('rna_terraws_backup.csv')"
   ]
  },
  {
   "cell_type": "code",
   "execution_count": null,
   "id": "d35ea1a5",
   "metadata": {},
   "outputs": [],
   "source": []
  },
  {
   "cell_type": "code",
   "execution_count": null,
   "id": "dde2a8eb",
   "metadata": {},
   "outputs": [],
   "source": []
  },
  {
   "cell_type": "code",
   "execution_count": null,
   "id": "baf9d015",
   "metadata": {},
   "outputs": [],
   "source": []
  },
  {
   "cell_type": "code",
   "execution_count": null,
   "id": "0b3f1af2",
   "metadata": {},
   "outputs": [],
   "source": []
  }
 ],
 "metadata": {
  "kernelspec": {
   "display_name": "Python 3",
   "language": "python",
   "name": "python3"
  },
  "language_info": {
   "codemirror_mode": {
    "name": "ipython",
    "version": 3
   },
   "file_extension": ".py",
   "mimetype": "text/x-python",
   "name": "python",
   "nbconvert_exporter": "python",
   "pygments_lexer": "ipython3",
   "version": "3.8.2"
  }
 },
 "nbformat": 4,
 "nbformat_minor": 5
}
