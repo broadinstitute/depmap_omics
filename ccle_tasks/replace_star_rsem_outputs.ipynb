{
 "cells": [
  {
   "cell_type": "code",
   "execution_count": null,
   "id": "4da2c7b8",
   "metadata": {},
   "outputs": [],
   "source": [
    "import dalmatian as dm\n",
    "from depmapomics import tracker"
   ]
  },
  {
   "cell_type": "code",
   "execution_count": null,
   "id": "ae7083a3",
   "metadata": {},
   "outputs": [],
   "source": [
    "# First make sure new star has been run on all samples\n",
    "wm = dm.WorkspaceManager(\"broad-firecloud-ccle/DepMap_hg38_RNAseq\").disable_hound()\n",
    "rna_samples = wm.get_samples()\n",
    "rna_samples"
   ]
  },
  {
   "cell_type": "code",
   "execution_count": null,
   "id": "f212c69a",
   "metadata": {},
   "outputs": [],
   "source": [
    "t = tracker.getTracker()"
   ]
  },
  {
   "cell_type": "code",
   "execution_count": null,
   "id": "380deebd",
   "metadata": {},
   "outputs": [],
   "source": [
    "# Make sure all rna samples on terra are on the tracker\n",
    "rna_ids = set(rna_samples.index)\n",
    "tracker_ids = set(t.index)\n",
    "rna_ids - tracker_ids"
   ]
  },
  {
   "cell_type": "code",
   "execution_count": null,
   "id": "94e282b2",
   "metadata": {},
   "outputs": [],
   "source": [
    "rna_samples.david_internal_bam_filepath.isna().sum()"
   ]
  },
  {
   "cell_type": "code",
   "execution_count": null,
   "id": "2b41872f",
   "metadata": {},
   "outputs": [],
   "source": [
    "for i in rna_ids:\n",
    "    fn = \"gs://cclebams/rnasq_hg38/\" + i + \".Aligned.sortedByCoord.out.bam\"\n",
    "    if t.loc[i, \"internal_bam_filepath\"] != fn:\n",
    "        print(i)"
   ]
  },
  {
   "cell_type": "code",
   "execution_count": null,
   "id": "a6d04bf5",
   "metadata": {},
   "outputs": [],
   "source": [
    "from taigapy import TaigaClient\n",
    "tc = TaigaClient()\n",
    "proteincoding_genes_tpm_logp1 = tc.get(name='expression-d035', version=21, file='proteincoding_genes_tpm_logp1')"
   ]
  },
  {
   "cell_type": "code",
   "execution_count": null,
   "id": "ba9979dd",
   "metadata": {},
   "outputs": [],
   "source": [
    "'ACH-001767' in proteincoding_genes_tpm_logp1.index"
   ]
  },
  {
   "cell_type": "code",
   "execution_count": null,
   "id": "6203daf4",
   "metadata": {},
   "outputs": [],
   "source": [
    "for i in rna_ids:\n",
    "    if t.loc[i, \"internal_bam_filepath\"] != rna_samples.loc[i, \"internal_bam_filepath\"]:\n",
    "        print(i)"
   ]
  },
  {
   "cell_type": "code",
   "execution_count": null,
   "id": "26f533a1",
   "metadata": {},
   "outputs": [],
   "source": [
    "from genepy.utils import helper as h\n",
    "\n",
    "to_move = []\n",
    "for i in rna_samples.index:\n",
    "    david_bam = rna_samples.loc[i, 'david_internal_bam_filepath']\n",
    "    david_bai = rna_samples.loc[i, 'david_internal_bai_filepath']\n",
    "    old_bam = rna_samples.loc[i, \"internal_bam_filepath\"]\n",
    "    old_bai = rna_samples.loc[i, \"internal_bai_filepath\"]\n",
    "    \n",
    "    to_move.append((david_bam, old_bam))\n",
    "    to_move.append((david_bai, old_bai))\n",
    "to_move"
   ]
  },
  {
   "cell_type": "code",
   "execution_count": null,
   "id": "a341bb2b",
   "metadata": {},
   "outputs": [],
   "source": [
    "# test on one sample\n",
    "# h.parrun(['gsutil -u broad-firecloud-ccle mv gs://fc-secure-639c94ba-2b0d-4960-92fc-9cd50046a968/96d2add9-c915-4d1b-8c67-afe2d3f349ec/star_workflow/39f9cd7c-3ed6-48b8-94b3-e95f9ee4673b/call-star/star_out/CDS-ABH0uZ.Aligned.sortedByCoord.out.bam gs://cclebams/rnasq_hg38/CDS-ABH0uZ.Aligned.sortedByCoord.out.bam'], cores=20)\n",
    "for (i, v) in to_move[:6]:\n",
    "    print(i + \" moving to \" + v)"
   ]
  },
  {
   "cell_type": "code",
   "execution_count": null,
   "id": "2f1d72f7",
   "metadata": {},
   "outputs": [],
   "source": [
    "h.parrun(['gsutil -u broad-firecloud-ccle mv ' + i + ' ' + v for (i, v) in to_move[6:]], cores=20)"
   ]
  },
  {
   "cell_type": "code",
   "execution_count": null,
   "id": "cd693cc7",
   "metadata": {},
   "outputs": [],
   "source": [
    "rna_samples.to_csv('rna_terraws_backup.csv')"
   ]
  },
  {
   "cell_type": "code",
   "execution_count": null,
   "id": "30164233",
   "metadata": {},
   "outputs": [],
   "source": [
    "cols_to_delete = ['david_more_resources_rsem_genes',\n",
    "    'david_more_resources_rsem_isoforms',\n",
    "    'rsem_genes',\n",
    "    'rsem_isoforms',\n",
    "    'star_chimeric_bam_file',\n",
    "    'star_chimeric_bam_index',\n",
    "    'star_chimeric_junctions',\n",
    "    'star_junctions',\n",
    "    'star_junctions_pass1',\n",
    "    'star_logs',\n",
    "    'star_read_counts',\n",
    "    'star_transcriptome_bam']"
   ]
  },
  {
   "cell_type": "code",
   "execution_count": null,
   "id": "dde2a8eb",
   "metadata": {},
   "outputs": [],
   "source": [
    "wm.delete_sample_attributes(rna_samples[cols_to_delete], delete_files=True, dry_run=False)"
   ]
  },
  {
   "cell_type": "code",
   "execution_count": null,
   "id": "baf9d015",
   "metadata": {},
   "outputs": [],
   "source": [
    "rna_samples = wm.get_samples()\n",
    "rna_samples"
   ]
  },
  {
   "cell_type": "code",
   "execution_count": null,
   "id": "c6ae6259",
   "metadata": {},
   "outputs": [],
   "source": [
    "renaming_dict = {'david_internal_bai_filepath': 'internal_bai_filepath',\n",
    "    'david_internal_bam_filepath': 'internal_bam_filepath',\n",
    "    'david_rsem_genes': 'rsem_genes',\n",
    "    'david_rsem_isoforms': 'rsem_isoforms',\n",
    "    'david_star_chimeric_bam_file': 'star_chimeric_bam_file',\n",
    "    'david_star_chimeric_bam_index': 'star_chimeric_bam_index',\n",
    "    'david_star_chimeric_junctions': 'star_chimeric_junctions',\n",
    "    'david_star_junctions': 'star_junctions',\n",
    "    'david_star_junctions_pass1': 'star_junctions_pass1',\n",
    "    'david_star_logs': 'star_logs',\n",
    "    'david_star_read_counts': 'star_read_counts',\n",
    "    'david_star_transcriptome_bam': 'star_transcriptome_bam',\n",
    "                }"
   ]
  },
  {
   "cell_type": "code",
   "execution_count": null,
   "id": "0b3f1af2",
   "metadata": {},
   "outputs": [],
   "source": [
    "rna_samples = rna_samples.rename(columns=renaming_dict)\n",
    "rna_samples"
   ]
  },
  {
   "cell_type": "code",
   "execution_count": null,
   "id": "07f82366",
   "metadata": {},
   "outputs": [],
   "source": [
    "rna_samples.columns"
   ]
  },
  {
   "cell_type": "code",
   "execution_count": null,
   "id": "c3b4c669",
   "metadata": {},
   "outputs": [],
   "source": [
    "wm.update_sample_attributes(rna_samples)"
   ]
  },
  {
   "cell_type": "code",
   "execution_count": null,
   "id": "8667af19",
   "metadata": {},
   "outputs": [],
   "source": [
    "rna_samples = wm.get_samples()\n",
    "rna_samples"
   ]
  },
  {
   "cell_type": "code",
   "execution_count": null,
   "id": "736d78a9",
   "metadata": {},
   "outputs": [],
   "source": [
    "renaming_dict.keys()"
   ]
  },
  {
   "cell_type": "code",
   "execution_count": null,
   "id": "b69ec793",
   "metadata": {},
   "outputs": [],
   "source": [
    "wm.delete_sample_attributes(rna_samples[renaming_dict.keys()], delete_files=False, dry_run=False)"
   ]
  },
  {
   "cell_type": "code",
   "execution_count": null,
   "id": "cda2f063",
   "metadata": {},
   "outputs": [],
   "source": [
    "rna_samples = wm.get_samples()"
   ]
  },
  {
   "cell_type": "code",
   "execution_count": null,
   "id": "ff6ccd4c",
   "metadata": {},
   "outputs": [],
   "source": [
    "# some lines are missing rsem run outputs, rerun on them:\n",
    "rerun_rsem = rna_samples[rna_samples.rsem_genes.isnull()]\n",
    "rerun_rsem.index"
   ]
  },
  {
   "cell_type": "code",
   "execution_count": null,
   "id": "545c018a",
   "metadata": {},
   "outputs": [],
   "source": [
    "wm.update_sample_set(sample_set_id=\"rerun_rsem\", sample_ids=rerun_rsem.index)"
   ]
  },
  {
   "cell_type": "code",
   "execution_count": null,
   "id": "c9efe006",
   "metadata": {},
   "outputs": [],
   "source": [
    "rna_samples.star_chimeric_junctions.isnull().sum()"
   ]
  },
  {
   "cell_type": "code",
   "execution_count": null,
   "id": "b3d03c74",
   "metadata": {},
   "outputs": [],
   "source": []
  },
  {
   "cell_type": "code",
   "execution_count": null,
   "id": "1928da54",
   "metadata": {},
   "outputs": [],
   "source": []
  },
  {
   "cell_type": "code",
   "execution_count": null,
   "id": "fd364c29",
   "metadata": {},
   "outputs": [],
   "source": []
  },
  {
   "cell_type": "code",
   "execution_count": null,
   "id": "2cc085c1",
   "metadata": {},
   "outputs": [],
   "source": []
  }
 ],
 "metadata": {
  "kernelspec": {
   "display_name": "Python 3",
   "language": "python",
   "name": "python3"
  },
  "language_info": {
   "codemirror_mode": {
    "name": "ipython",
    "version": 3
   },
   "file_extension": ".py",
   "mimetype": "text/x-python",
   "name": "python",
   "nbconvert_exporter": "python",
   "pygments_lexer": "ipython3",
   "version": "3.8.2"
  }
 },
 "nbformat": 4,
 "nbformat_minor": 5
}
