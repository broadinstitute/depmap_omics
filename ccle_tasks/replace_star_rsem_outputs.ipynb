{
 "cells": [
  {
   "cell_type": "code",
   "execution_count": null,
   "id": "4da2c7b8",
   "metadata": {},
   "outputs": [],
   "source": [
    "import dalmatian as dm"
   ]
  },
  {
   "cell_type": "code",
   "execution_count": null,
   "id": "ae7083a3",
   "metadata": {},
   "outputs": [],
   "source": [
    "# First part replaces the old files with outputs from David's rerun w/ updated star and rsem indices\n",
    "# First make sure new star has been run on all samples\n",
    "wm = dm.WorkspaceManager(\"broad-firecloud-ccle/DepMap_hg38_RNAseq\").disable_hound()\n",
    "rna_samples = wm.get_samples()\n",
    "rna_samples"
   ]
  },
  {
   "cell_type": "code",
   "execution_count": null,
   "id": "f212c69a",
   "metadata": {},
   "outputs": [],
   "source": [
    "t = tracker.getTracker()"
   ]
  },
  {
   "cell_type": "code",
   "execution_count": null,
   "id": "380deebd",
   "metadata": {},
   "outputs": [],
   "source": [
    "# Make sure all rna samples on terra are on the tracker\n",
    "rna_ids = set(rna_samples.index)\n",
    "tracker_ids = set(t.index)\n",
    "rna_ids - tracker_ids"
   ]
  },
  {
   "cell_type": "code",
   "execution_count": null,
   "id": "94e282b2",
   "metadata": {},
   "outputs": [],
   "source": [
    "rna_samples.david_internal_bam_filepath.isna().sum()"
   ]
  },
  {
   "cell_type": "code",
   "execution_count": null,
   "id": "2b41872f",
   "metadata": {},
   "outputs": [],
   "source": [
    "for i in rna_ids:\n",
    "    fn = \"gs://cclebams/rnasq_hg38/\" + i + \".Aligned.sortedByCoord.out.bam\"\n",
    "    if t.loc[i, \"internal_bam_filepath\"] != fn:\n",
    "        print(i)"
   ]
  },
  {
   "cell_type": "code",
   "execution_count": null,
   "id": "a6d04bf5",
   "metadata": {},
   "outputs": [],
   "source": [
    "from taigapy import TaigaClient\n",
    "tc = TaigaClient()\n",
    "proteincoding_genes_tpm_logp1 = tc.get(name='expression-d035', version=21, file='proteincoding_genes_tpm_logp1')"
   ]
  },
  {
   "cell_type": "code",
   "execution_count": null,
   "id": "ba9979dd",
   "metadata": {},
   "outputs": [],
   "source": [
    "'ACH-001767' in proteincoding_genes_tpm_logp1.index"
   ]
  },
  {
   "cell_type": "code",
   "execution_count": null,
   "id": "6203daf4",
   "metadata": {},
   "outputs": [],
   "source": [
    "for i in rna_ids:\n",
    "    if t.loc[i, \"internal_bam_filepath\"] != rna_samples.loc[i, \"internal_bam_filepath\"]:\n",
    "        print(i)"
   ]
  },
  {
   "cell_type": "code",
   "execution_count": null,
   "id": "26f533a1",
   "metadata": {},
   "outputs": [],
   "source": [
    "from genepy.utils import helper as h\n",
    "\n",
    "to_move = []\n",
    "for i in rna_samples.index:\n",
    "    david_bam = rna_samples.loc[i, 'david_internal_bam_filepath']\n",
    "    david_bai = rna_samples.loc[i, 'david_internal_bai_filepath']\n",
    "    old_bam = rna_samples.loc[i, \"internal_bam_filepath\"]\n",
    "    old_bai = rna_samples.loc[i, \"internal_bai_filepath\"]\n",
    "    \n",
    "    to_move.append((david_bam, old_bam))\n",
    "    to_move.append((david_bai, old_bai))\n",
    "to_move"
   ]
  },
  {
   "cell_type": "code",
   "execution_count": null,
   "id": "a341bb2b",
   "metadata": {},
   "outputs": [],
   "source": [
    "# test on one sample\n",
    "# h.parrun(['gsutil -u broad-firecloud-ccle mv gs://fc-secure-639c94ba-2b0d-4960-92fc-9cd50046a968/96d2add9-c915-4d1b-8c67-afe2d3f349ec/star_workflow/39f9cd7c-3ed6-48b8-94b3-e95f9ee4673b/call-star/star_out/CDS-ABH0uZ.Aligned.sortedByCoord.out.bam gs://cclebams/rnasq_hg38/CDS-ABH0uZ.Aligned.sortedByCoord.out.bam'], cores=20)\n",
    "for (i, v) in to_move[:6]:\n",
    "    print(i + \" moving to \" + v)"
   ]
  },
  {
   "cell_type": "code",
   "execution_count": null,
   "id": "2f1d72f7",
   "metadata": {},
   "outputs": [],
   "source": [
    "h.parrun(['gsutil -u broad-firecloud-ccle mv ' + i + ' ' + v for (i, v) in to_move[6:]], cores=20)"
   ]
  },
  {
   "cell_type": "code",
   "execution_count": null,
   "id": "cd693cc7",
   "metadata": {},
   "outputs": [],
   "source": [
    "rna_samples.to_csv('rna_terraws_backup.csv')"
   ]
  },
  {
   "cell_type": "code",
   "execution_count": null,
   "id": "30164233",
   "metadata": {},
   "outputs": [],
   "source": [
    "cols_to_delete = ['david_more_resources_rsem_genes',\n",
    "    'david_more_resources_rsem_isoforms',\n",
    "    'rsem_genes',\n",
    "    'rsem_isoforms',\n",
    "    'star_chimeric_bam_file',\n",
    "    'star_chimeric_bam_index',\n",
    "    'star_chimeric_junctions',\n",
    "    'star_junctions',\n",
    "    'star_junctions_pass1',\n",
    "    'star_logs',\n",
    "    'star_read_counts',\n",
    "    'star_transcriptome_bam']"
   ]
  },
  {
   "cell_type": "code",
   "execution_count": null,
   "id": "dde2a8eb",
   "metadata": {},
   "outputs": [],
   "source": [
    "wm.delete_sample_attributes(rna_samples[cols_to_delete], delete_files=True, dry_run=False)"
   ]
  },
  {
   "cell_type": "code",
   "execution_count": null,
   "id": "baf9d015",
   "metadata": {},
   "outputs": [],
   "source": [
    "rna_samples = wm.get_samples()\n",
    "rna_samples"
   ]
  },
  {
   "cell_type": "code",
   "execution_count": null,
   "id": "c6ae6259",
   "metadata": {},
   "outputs": [],
   "source": [
    "renaming_dict = {'david_internal_bai_filepath': 'internal_bai_filepath',\n",
    "    'david_internal_bam_filepath': 'internal_bam_filepath',\n",
    "    'david_rsem_genes': 'rsem_genes',\n",
    "    'david_rsem_isoforms': 'rsem_isoforms',\n",
    "    'david_star_chimeric_bam_file': 'star_chimeric_bam_file',\n",
    "    'david_star_chimeric_bam_index': 'star_chimeric_bam_index',\n",
    "    'david_star_chimeric_junctions': 'star_chimeric_junctions',\n",
    "    'david_star_junctions': 'star_junctions',\n",
    "    'david_star_junctions_pass1': 'star_junctions_pass1',\n",
    "    'david_star_logs': 'star_logs',\n",
    "    'david_star_read_counts': 'star_read_counts',\n",
    "    'david_star_transcriptome_bam': 'star_transcriptome_bam',\n",
    "                }"
   ]
  },
  {
   "cell_type": "code",
   "execution_count": null,
   "id": "0b3f1af2",
   "metadata": {},
   "outputs": [],
   "source": [
    "rna_samples = rna_samples.rename(columns=renaming_dict)\n",
    "rna_samples"
   ]
  },
  {
   "cell_type": "code",
   "execution_count": null,
   "id": "07f82366",
   "metadata": {},
   "outputs": [],
   "source": [
    "rna_samples.columns"
   ]
  },
  {
   "cell_type": "code",
   "execution_count": null,
   "id": "c3b4c669",
   "metadata": {},
   "outputs": [],
   "source": [
    "wm.update_sample_attributes(rna_samples)"
   ]
  },
  {
   "cell_type": "code",
   "execution_count": null,
   "id": "8667af19",
   "metadata": {},
   "outputs": [],
   "source": [
    "rna_samples = wm.get_samples()\n",
    "rna_samples"
   ]
  },
  {
   "cell_type": "code",
   "execution_count": null,
   "id": "736d78a9",
   "metadata": {},
   "outputs": [],
   "source": [
    "renaming_dict.keys()"
   ]
  },
  {
   "cell_type": "code",
   "execution_count": null,
   "id": "b69ec793",
   "metadata": {},
   "outputs": [],
   "source": [
    "wm.delete_sample_attributes(rna_samples[renaming_dict.keys()], delete_files=False, dry_run=False)"
   ]
  },
  {
   "cell_type": "code",
   "execution_count": null,
   "id": "cda2f063",
   "metadata": {},
   "outputs": [],
   "source": [
    "rna_samples = wm.get_samples()"
   ]
  },
  {
   "cell_type": "code",
   "execution_count": null,
   "id": "ff6ccd4c",
   "metadata": {},
   "outputs": [],
   "source": [
    "# some lines are missing rsem run outputs, rerun on them:\n",
    "rerun_rsem = rna_samples[rna_samples.rsem_genes.isnull()]\n",
    "rerun_rsem.index"
   ]
  },
  {
   "cell_type": "code",
   "execution_count": null,
   "id": "545c018a",
   "metadata": {},
   "outputs": [],
   "source": [
    "wm.update_sample_set(sample_set_id=\"rerun_rsem\", sample_ids=rerun_rsem.index)"
   ]
  },
  {
   "cell_type": "code",
   "execution_count": null,
   "id": "c9efe006",
   "metadata": {},
   "outputs": [],
   "source": [
    "rna_samples.star_chimeric_junctions.isnull().sum()"
   ]
  },
  {
   "cell_type": "code",
   "execution_count": null,
   "id": "b3d03c74",
   "metadata": {},
   "outputs": [],
   "source": [
    "# Second part!! several months later!! \n",
    "# where we updated STAR and RSEM indices AGAIN using the ref fasta from here: https://github.com/broadinstitute/gtex-pipeline/blob/master/TOPMed_RNAseq_pipeline.md\n",
    "# and did a remapping in the dev workspace. Now we move things to the main processing workspace"
   ]
  },
  {
   "cell_type": "code",
   "execution_count": null,
   "id": "1928da54",
   "metadata": {},
   "outputs": [],
   "source": [
    "wm = dm.WorkspaceManager(\"broad-firecloud-ccle/DepMap_hg38_RNAseq\").disable_hound()\n",
    "wm_dev = dm.WorkspaceManager(\"broad-firecloud-ccle/DEV_DepMap_hg38_RNAseq\").disable_hound()"
   ]
  },
  {
   "cell_type": "code",
   "execution_count": null,
   "id": "fd364c29",
   "metadata": {},
   "outputs": [],
   "source": [
    "dev_samples = wm_dev.get_samples()\n",
    "dev_ids = set(dev_samples.index)\n",
    "rna_samples = wm.get_samples()\n",
    "rna_ids = set(rna_samples.index)\n",
    "\n",
    "for i in dev_ids:\n",
    "    fn = \"gs://cclebams/rnasq_hg38/\" + i + \".Aligned.sortedByCoord.out.bam\"\n",
    "    if rna_samples.loc[i, \"internal_bam_filepath\"] != fn:\n",
    "        rna_samples.loc[i, \"internal_bam_filepath\"] = fn\n",
    "        print(fn)"
   ]
  },
  {
   "cell_type": "code",
   "execution_count": null,
   "id": "2cc085c1",
   "metadata": {},
   "outputs": [],
   "source": [
    "from genepy.utils import helper as h\n",
    "\n",
    "to_move = []\n",
    "for i in dev_samples.index:\n",
    "    new_bam = dev_samples.loc[i, 'internal_bam_filepath']\n",
    "    new_bai = dev_samples.loc[i, 'internal_bai_filepath']\n",
    "    new_transcriptome = dev_samples.loc[i, 'star_transcriptome_bam']\n",
    "    old_bam = \"gs://cclebams/rnasq_hg38/\" + i + \".Aligned.sortedByCoord.out.bam\"\n",
    "    old_bai = \"gs://cclebams/rnasq_hg38/\" + i + \".Aligned.sortedByCoord.out.bam.bai\"\n",
    "    old_transcriptome = rna_samples.loc[i, 'star_transcriptome_bam']\n",
    "    \n",
    "    to_move.append((new_bam, old_bam))\n",
    "    to_move.append((new_bai, old_bai))\n",
    "    to_move.append((new_transcriptome, old_transcriptome))"
   ]
  },
  {
   "cell_type": "code",
   "execution_count": null,
   "id": "4ed8d4d0",
   "metadata": {},
   "outputs": [],
   "source": [
    "for (i, v) in to_move[:6]:\n",
    "    print(i + \" moving to \" + v)"
   ]
  },
  {
   "cell_type": "code",
   "execution_count": null,
   "id": "fd282c35",
   "metadata": {},
   "outputs": [],
   "source": [
    "h.parrun(['gsutil -u broad-firecloud-ccle mv ' + i + ' ' + v for (i, v) in to_move[:6]], cores=20)"
   ]
  },
  {
   "cell_type": "code",
   "execution_count": null,
   "id": "c82049b3",
   "metadata": {},
   "outputs": [],
   "source": [
    "h.parrun(['gsutil -u broad-firecloud-ccle mv ' + i + ' ' + v for (i, v) in to_move[6:]], cores=20)"
   ]
  },
  {
   "cell_type": "code",
   "execution_count": null,
   "id": "de4412e8",
   "metadata": {},
   "outputs": [],
   "source": [
    "# other output columns from RNA_pipeline\n",
    "cols = ['star_chimeric_bam_file', 'star_chimeric_junctions', 'rnaseqc2_exon_counts', 'fusion_predictions', \n",
    "        'rnaseqc2_gene_counts', 'rnaseqc2_gene_tpm', 'rnaseqc2_insertsize_distr', 'star_junctions', \n",
    "        'star_junctions_pass1', 'rnaseqc2_metrics', 'star_read_counts']\n",
    "cols_important = ['fusion_predictions_abridged', 'rsem_genes', 'rsem_isoforms']"
   ]
  },
  {
   "cell_type": "code",
   "execution_count": null,
   "id": "95690981",
   "metadata": {},
   "outputs": [],
   "source": []
  },
  {
   "cell_type": "code",
   "execution_count": null,
   "id": "1e218378",
   "metadata": {},
   "outputs": [],
   "source": [
    "from genepy import terra\n",
    "from genepy.google import gcp\n",
    "from genepy.utils import helper as h\n",
    "import dalmatian as dm\n",
    "\n",
    "wmto = dm.WorkspaceManager(\"broad-firecloud-ccle/DepMap_hg38_RNAseq\")\n",
    "\n",
    "for c in cols:\n",
    "    print(c)\n",
    "    res, _, cmds = terra.changeGSlocation(\n",
    "            \"broad-firecloud-ccle/DEV_DepMap_hg38_RNAseq\",\n",
    "            newgs=\"gs://fc-secure-639c94ba-2b0d-4960-92fc-9cd50046a968/\",\n",
    "            bamfilepaths=[c],\n",
    "            entity=\"sample\",\n",
    "            keeppath=True,\n",
    "            dry_run=True,\n",
    "            workspaceto=\"broad-firecloud-ccle/DepMap_hg38_RNAseq\",\n",
    "        )\n",
    "#     fns = [cmd.split()[2] for cmd in cmds]\n",
    "#     valid = set(gcp.lsFiles(fns))\n",
    "#     valid_cmd = [c for c in cmds if c.split()[2] in valid]\n",
    "#     print(len(valid))\n",
    "#     h.parrun(valid, cores=20)\n",
    "    \n",
    "    print(\"updating column \" + c + \" in the terra workspace\")\n",
    "    wmto.disable_hound().update_entity_attributes(\"sample\", res)\n"
   ]
  },
  {
   "cell_type": "code",
   "execution_count": null,
   "id": "47833d11",
   "metadata": {},
   "outputs": [],
   "source": [
    "wmto = dm.WorkspaceManager(\"broad-firecloud-ccle/DepMap_hg38_RNAseq\")\n",
    "#wmto.disable_hound().update_entity_attributes(\"sample\", res)"
   ]
  },
  {
   "cell_type": "code",
   "execution_count": null,
   "id": "26b4cdf8",
   "metadata": {},
   "outputs": [],
   "source": [
    "wmfrom = dm.WorkspaceManager(\"broad-firecloud-ccle/DEV_DepMap_hg38_RNAseq\")\n",
    "\n",
    "sfrom = wmfrom.get_samples()\n",
    "sto = wmto.get_samples()\n",
    "\n",
    "wmfrom.disable_hound().update_entity_attributes(\"sample\", sto.loc[set(sfrom.index), ['internal_bam_filepath', 'internal_bai_filepath', 'star_transcriptome_bam']])"
   ]
  },
  {
   "cell_type": "code",
   "execution_count": null,
   "id": "609c36f5",
   "metadata": {},
   "outputs": [],
   "source": [
    "sfrom = wmfrom.get_samples()\n",
    "sto = wmto.get_samples()\n",
    "sto.loc[set(sfrom.index), cols + cols_important]"
   ]
  },
  {
   "cell_type": "code",
   "execution_count": null,
   "id": "e16c51fc",
   "metadata": {},
   "outputs": [],
   "source": [
    "for k, v in res.items():\n",
    "    print(k, len(v))"
   ]
  },
  {
   "cell_type": "code",
   "execution_count": null,
   "id": "fa09b488",
   "metadata": {},
   "outputs": [],
   "source": []
  }
 ],
 "metadata": {
  "kernelspec": {
   "display_name": "Python 3",
   "language": "python",
   "name": "python3"
  },
  "language_info": {
   "codemirror_mode": {
    "name": "ipython",
    "version": 3
   },
   "file_extension": ".py",
   "mimetype": "text/x-python",
   "name": "python",
   "nbconvert_exporter": "python",
   "pygments_lexer": "ipython3",
   "version": "3.8.2"
  }
 },
 "nbformat": 4,
 "nbformat_minor": 5
}
