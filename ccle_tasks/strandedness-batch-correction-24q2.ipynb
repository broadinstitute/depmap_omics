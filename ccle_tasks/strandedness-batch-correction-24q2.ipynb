{
 "cells": [
  {
   "cell_type": "markdown",
   "id": "d0228b24",
   "metadata": {},
   "source": [
    "### This notebook contains code for generating batch-corrected versions of the RNAseq data in the 24q2 data release and uploading them to Taiga."
   ]
  },
  {
   "cell_type": "code",
   "execution_count": null,
   "id": "c15c6fbc",
   "metadata": {},
   "outputs": [],
   "source": [
    "from taigapy import TaigaClient\n",
    "import pandas as pd\n",
    "from inmoose.pycombat import pycombat_norm, pycombat_seq\n",
    "import numpy as np"
   ]
  },
  {
   "cell_type": "code",
   "execution_count": null,
   "id": "cd904172",
   "metadata": {},
   "outputs": [],
   "source": [
    "tc = TaigaClient()"
   ]
  },
  {
   "cell_type": "code",
   "execution_count": null,
   "id": "807a4b7f",
   "metadata": {},
   "outputs": [],
   "source": [
    "OmicsExpressionProteinCodingGenesTPMLogp1_internal = tc.get(name='internal-24q2-3719', version=63, file='OmicsExpressionProteinCodingGenesTPMLogp1')\n",
    "OmicsExpressionProteinCodingGenesTPMLogp1Stranded_internal = tc.get(name='internal-24q2-3719', version=63, file='OmicsExpressionProteinCodingGenesTPMLogp1Stranded')\n",
    "\n",
    "OmicsExpressionProteinCodingGenesTPMLogp1_public = tc.get(name='public-24q2-356f', version=33, file='OmicsExpressionProteinCodingGenesTPMLogp1')\n",
    "OmicsExpressionProteinCodingGenesTPMLogp1Stranded_public = tc.get(name='public-24q2-356f', version=33, file='OmicsExpressionProteinCodingGenesTPMLogp1Stranded')\n",
    "\n",
    "OmicsExpressionProteinCodingGenesTPMLogp1_dmc = tc.get(name='dmc-24q2-5194', version=40, file='OmicsExpressionProteinCodingGenesTPMLogp1')\n",
    "OmicsExpressionProteinCodingGenesTPMLogp1Stranded_dmc = tc.get(name='dmc-24q2-5194', version=40, file='OmicsExpressionProteinCodingGenesTPMLogp1Stranded')"
   ]
  },
  {
   "cell_type": "code",
   "execution_count": null,
   "id": "b4aa82cf",
   "metadata": {},
   "outputs": [],
   "source": [
    "OmicsProfiles_internal = tc.get(name='internal-24q2-3719', version=63, file='OmicsProfiles')\n",
    "OmicsProfiles_public = tc.get(name='public-24q2-356f', version=2, file='OmicsProfiles')\n",
    "OmicsProfiles_dmc = tc.get(name='dmc-24q2-5194', version=2, file='OmicsProfiles')"
   ]
  },
  {
   "cell_type": "code",
   "execution_count": null,
   "id": "640c670e",
   "metadata": {},
   "outputs": [],
   "source": [
    "OmicsDefaultModelProfiles_internal = tc.get(name='internal-24q2-3719', version=63, file='OmicsDefaultModelProfiles')\n",
    "OmicsDefaultModelProfiles_public = tc.get(name='public-24q2-356f', version=2, file='OmicsDefaultModelProfiles')\n",
    "OmicsDefaultModelProfiles_dmc = tc.get(name='dmc-24q2-5194', version=2, file='OmicsDefaultModelProfiles')"
   ]
  },
  {
   "cell_type": "markdown",
   "id": "972706e4",
   "metadata": {},
   "source": [
    "### Internal"
   ]
  },
  {
   "cell_type": "markdown",
   "id": "53eb4dc6",
   "metadata": {},
   "source": [
    "Retreive profile IDs for internal and filter based on strandedness. Some profile IDs correspond to the same model ID, so remove duplicates using OmicsDefaultModelProfiles."
   ]
  },
  {
   "cell_type": "code",
   "execution_count": null,
   "id": "3aef9122",
   "metadata": {},
   "outputs": [],
   "source": [
    "nonstranded_profiles = OmicsProfiles_internal[OmicsProfiles_internal['Stranded'] == False]['ProfileID']"
   ]
  },
  {
   "cell_type": "code",
   "execution_count": null,
   "id": "44c224c3",
   "metadata": {},
   "outputs": [],
   "source": [
    "nonstranded_model_ids = OmicsDefaultModelProfiles_internal[OmicsDefaultModelProfiles_internal['ProfileID'].isin(nonstranded_profiles)]['ModelID']"
   ]
  },
  {
   "cell_type": "code",
   "execution_count": null,
   "id": "50b928e4",
   "metadata": {},
   "outputs": [],
   "source": [
    "stranded_profiles = OmicsProfiles_internal[OmicsProfiles_internal['Stranded'] == True]['ProfileID']"
   ]
  },
  {
   "cell_type": "code",
   "execution_count": null,
   "id": "a0d3b89a",
   "metadata": {},
   "outputs": [],
   "source": [
    "stranded_model_ids = OmicsDefaultModelProfiles_internal[OmicsDefaultModelProfiles_internal['ProfileID'].isin(stranded_profiles)]['ModelID']"
   ]
  },
  {
   "cell_type": "code",
   "execution_count": null,
   "id": "e12e63ac",
   "metadata": {},
   "outputs": [],
   "source": [
    "len(nonstranded_model_ids), len(stranded_model_ids)"
   ]
  },
  {
   "cell_type": "markdown",
   "id": "3f349158",
   "metadata": {},
   "source": [
    "Find overlapping gene names between the original expression dataset (includes unstranded RNAseq w/ unstranded RSEM mode + stranded RNAseq w/ unstranded RSEM mode) and new expression dataset (stranded RNAseq w/ stranded RSEM mode). "
   ]
  },
  {
   "cell_type": "code",
   "execution_count": null,
   "id": "3f5d77b8",
   "metadata": {},
   "outputs": [],
   "source": [
    "genes_overlap_ids = list(set(OmicsExpressionProteinCodingGenesTPMLogp1Stranded_internal.loc[stranded_model_ids].columns).intersection(set(OmicsExpressionProteinCodingGenesTPMLogp1_internal.loc[nonstranded_model_ids].columns)))"
   ]
  },
  {
   "cell_type": "code",
   "execution_count": null,
   "id": "609ad564",
   "metadata": {},
   "outputs": [],
   "source": [
    "nonstranded_24q2 = OmicsExpressionProteinCodingGenesTPMLogp1_internal.loc[nonstranded_model_ids, genes_overlap_ids]"
   ]
  },
  {
   "cell_type": "code",
   "execution_count": null,
   "id": "88373047",
   "metadata": {},
   "outputs": [],
   "source": [
    "stranded_24q2 = OmicsExpressionProteinCodingGenesTPMLogp1Stranded_internal.loc[stranded_model_ids, genes_overlap_ids]"
   ]
  },
  {
   "cell_type": "code",
   "execution_count": null,
   "id": "7fc61da8",
   "metadata": {},
   "outputs": [],
   "source": [
    "tpm_24q2 = pd.concat((nonstranded_24q2, stranded_24q2), axis=0)"
   ]
  },
  {
   "cell_type": "code",
   "execution_count": null,
   "id": "efcffd62",
   "metadata": {},
   "outputs": [],
   "source": [
    "tpm_24q2"
   ]
  },
  {
   "cell_type": "code",
   "execution_count": null,
   "id": "5c70890b",
   "metadata": {},
   "outputs": [],
   "source": [
    "strandness = np.array([0] * len(nonstranded_model_ids) + [1] * len(stranded_model_ids))"
   ]
  },
  {
   "cell_type": "code",
   "execution_count": null,
   "id": "dd3f3181",
   "metadata": {},
   "outputs": [],
   "source": [
    "tpm_corrected_24q2 = pycombat_norm(tpm_24q2.T, strandness)"
   ]
  },
  {
   "cell_type": "code",
   "execution_count": null,
   "id": "9a542346",
   "metadata": {},
   "outputs": [],
   "source": [
    "tpm_corrected_24q2 = tpm_corrected_24q2.T"
   ]
  },
  {
   "cell_type": "code",
   "execution_count": null,
   "id": "25d54f67",
   "metadata": {},
   "outputs": [],
   "source": [
    "tpm_corrected_24q2"
   ]
  },
  {
   "cell_type": "code",
   "execution_count": null,
   "id": "397cd8fe",
   "metadata": {},
   "outputs": [],
   "source": [
    "tpm_corrected_24q2.to_csv('/Users/gulatide/Documents/strandedness/proteinCoding_genes_tpm_logp1_profile_batch_corrected.csv')"
   ]
  },
  {
   "cell_type": "code",
   "execution_count": null,
   "id": "4752e9c2",
   "metadata": {},
   "outputs": [],
   "source": [
    "from taigapy import default_tc as tc\n",
    "\n",
    "new_dataset_id = tc.update_dataset(\n",
    "    changes_description=\"adding batch corrected version to 24Q2 release\",\n",
    "    dataset_permaname=\"internal-24q2-3719\",\n",
    "    upload_files=[\n",
    "        {\n",
    "            \"path\": \"/Users/gulatide/Documents/strandedness/proteinCoding_genes_tpm_logp1_profile_batch_corrected.csv\",\n",
    "            \"name\": \"OmicsExpressionProteinCodingGenesTPMLogp1BatchCorrected\", # optional, will use file name if not provided\n",
    "            \"format\": \"NumericMatrixCSV\", # or \"NumericMatrixCSV\" or \"TableCSV\"\n",
    "            \"encoding\": \"utf-8\" # optional (but recommended), will use iso-8859-1 if not provided\n",
    "        }\n",
    "    ],\n",
    "    add_all_existing_files=True,\n",
    "    upload_async=False,\n",
    "    dataset_description=\"24Q2 release of the DepMap dataset for the DepMap Portal. Please look at the README file for additional information about this dataset.\", # optional (but recommended)\n",
    ")"
   ]
  },
  {
   "cell_type": "markdown",
   "id": "bcc9262a",
   "metadata": {},
   "source": [
    "Validate batch correction does what it is supposed to:"
   ]
  },
  {
   "cell_type": "code",
   "execution_count": null,
   "id": "8e4890fb",
   "metadata": {},
   "outputs": [],
   "source": [
    "lineage_v2 = [0]*len(strandness)"
   ]
  },
  {
   "cell_type": "code",
   "execution_count": null,
   "id": "cdcf035a",
   "metadata": {},
   "outputs": [],
   "source": [
    "from sklearn.decomposition import PCA\n",
    "import pandas as pd\n",
    "import colorcet as cc\n",
    "import umap\n",
    "import seaborn as sns\n",
    "import matplotlib.pyplot as plt\n",
    "u = umap.UMAP()\n",
    "palette = sns.color_palette(cc.glasbey, n_colors=33)\n",
    "\n",
    "fig, ax = plt.subplots(3, 3)\n",
    "fig.set_size_inches(21, 20)\n",
    "\n",
    "for i, comp_number in enumerate([5, 10, 30]):\n",
    "    pca = PCA(n_components=comp_number, whiten=True, random_state=999)\n",
    "#     strandness = np.hstack([OmicsExpressionAllGenesTPMLogp1Profile.index.map(dict(zip(strand_count_dfs.Profile, strand_count_dfs.loc[:, 'strandness']))), ['rsem-stranded']*len(paired_data)])\n",
    "    components = pca.fit_transform(tpm_corrected_24q2.T)\n",
    "    print(components.shape, strandness.shape)\n",
    "    if i == 0:\n",
    "        pca_plot_data = pd.DataFrame({\"comp1\": components[:, 0], \"comp2\": components[:, 1], \"lineage\": lineage_v2, \"strandness\": strandness})\n",
    "        # pca_plot_data = pd.DataFrame({\"comp1\": components[:, 0], \"comp2\": components[:, 1], \"lineage\": lineage, \"strandness\": np.hstack([OmicsExpressionAllGenesTPMLogp1Profile.index.map(dict(zip(strand_count_dfs.Profile, strand_count_dfs.loc[:, 'strandness']))), ['rsem-stranded']*len(paired_data)])})\n",
    "        sns.scatterplot(data=pca_plot_data, x=\"comp1\", y=\"comp2\", hue=\"strandness\", alpha=0.8, s=8, ax=ax[i][0], palette=palette)\n",
    "        ax[i][0].set_xlabel(f'comp1 {pca.explained_variance_ratio_[0]*100:.2f} %')\n",
    "        ax[i][0].set_ylabel(f'comp2 {pca.explained_variance_ratio_[1]*100:.2f} %')\n",
    "    elif i == 1:\n",
    "        pca_plot_data = pd.DataFrame({\"comp1\": components[:, 0], \"comp3\": components[:, 2], \"lineage\": lineage_v2, \"strandness\": strandness})\n",
    "        # pca_plot_data = pd.DataFrame({\"comp1\": components[:, 0], \"comp3\": components[:, 2], \"lineage\": lineage, \"strandness\": OmicsExpressionAllGenesTPMLogp1Profile.index.map(dict(zip(strand_count_dfs.Profile, strand_count_dfs.loc[:, 'strandness'])))})\n",
    "        sns.scatterplot(data=pca_plot_data, x=\"comp1\", y=\"comp3\", hue=\"strandness\", alpha=0.8, s=8, ax=ax[i][0], palette=palette)\n",
    "        ax[i][0].set_xlabel(f'comp1 {pca.explained_variance_ratio_[0]*100:.2f} %')\n",
    "        ax[i][0].set_ylabel(f'comp3 {pca.explained_variance_ratio_[2]*100:.2f} %')\n",
    "    elif i == 2:\n",
    "        pca_plot_data = pd.DataFrame({\"comp2\": components[:, 1], \"comp3\": components[:, 2], \"lineage\": lineage_v2, \"strandness\": strandness})\n",
    "        # pca_plot_data = pd.DataFrame({\"comp2\": components[:, 1], \"comp3\": components[:, 2], \"lineage\": lineage, \"strandness\": OmicsExpressionAllGenesTPMLogp1Profile.index.map(dict(zip(strand_count_dfs.Profile, strand_count_dfs.loc[:, 'strandness'])))})\n",
    "        sns.scatterplot(data=pca_plot_data, x=\"comp2\", y=\"comp3\", hue=\"strandness\", alpha=0.8, s=8, ax=ax[i][0], palette=palette)\n",
    "        ax[i][0].set_xlabel(f'comp2 {pca.explained_variance_ratio_[1]*100:.2f} %')\n",
    "        ax[i][0].set_ylabel(f'comp3 {pca.explained_variance_ratio_[2]*100:.2f} %')\n",
    "    \n",
    "    umap_rna = u.fit_transform(components)\n",
    "    \n",
    "    pca_plot_data = pd.DataFrame({\"comp1\": umap_rna[:, 0], \"comp2\": umap_rna[:, 1], \"lineage\": lineage_v2, \"strandness\": strandness})\n",
    "    # pca_plot_data = pd.DataFrame({\"comp1\": umap_rna[:, 0], \"comp2\": umap_rna[:, 1], \"lineage\": lineage, \"strandness\": OmicsExpressionAllGenesTPMLogp1Profile.index.map(dict(zip(strand_count_dfs.Profile, strand_count_dfs.loc[:, 'strandness'])))})\n",
    "    sns.scatterplot(data=pca_plot_data, x=\"comp1\", y=\"comp2\", hue=\"strandness\", alpha=0.8, s=8, ax=ax[i][1], palette=palette)\n",
    "\n",
    "    pca_plot_data = pd.DataFrame({\"comp1\": umap_rna[:, 0], \"comp2\": umap_rna[:, 1], \"lineage\": lineage_v2, \"strandness\": strandness})\n",
    "    # pca_plot_data = pd.DataFrame({\"comp1\": umap_rna[:, 0], \"comp2\": umap_rna[:, 1], \"lineage\": lineage, \"strandness\": OmicsExpressionAllGenesTPMLogp1Profile.index.map(dict(zip(strand_count_dfs.Profile, strand_count_dfs.loc[:, 'strandness'])))})\n",
    "    sns.scatterplot(data=pca_plot_data, x=\"comp1\", y=\"comp2\", hue=\"lineage\", alpha=0.8, s=8, ax=ax[i][2], palette=palette)\n",
    "    sns.move_legend(ax[i][2], \"upper left\", bbox_to_anchor=(1, 1), frameon=False, ncols=3)\n"
   ]
  },
  {
   "cell_type": "markdown",
   "id": "0e1ea6a6",
   "metadata": {},
   "source": [
    "### Public"
   ]
  },
  {
   "cell_type": "code",
   "execution_count": null,
   "id": "d4445cac",
   "metadata": {},
   "outputs": [],
   "source": [
    "nonstranded_profiles = OmicsProfiles_public[OmicsProfiles_public['Stranded'] == False]['ProfileID']"
   ]
  },
  {
   "cell_type": "code",
   "execution_count": null,
   "id": "e84389a2",
   "metadata": {},
   "outputs": [],
   "source": [
    "nonstranded_model_ids_public = OmicsDefaultModelProfiles_public[OmicsDefaultModelProfiles_public['ProfileID'].isin(nonstranded_profiles)]['ModelID']"
   ]
  },
  {
   "cell_type": "code",
   "execution_count": null,
   "id": "d1e26d2a",
   "metadata": {},
   "outputs": [],
   "source": [
    "stranded_profiles = OmicsProfiles_public[OmicsProfiles_public['Stranded'] == True]['ProfileID']"
   ]
  },
  {
   "cell_type": "code",
   "execution_count": null,
   "id": "a8da5544",
   "metadata": {},
   "outputs": [],
   "source": [
    "stranded_model_ids_public = OmicsDefaultModelProfiles_public[OmicsDefaultModelProfiles_public['ProfileID'].isin(stranded_profiles)]['ModelID']"
   ]
  },
  {
   "cell_type": "code",
   "execution_count": null,
   "id": "fceabb0a",
   "metadata": {},
   "outputs": [],
   "source": [
    "len(nonstranded_model_ids_public), len(stranded_model_ids_public)"
   ]
  },
  {
   "cell_type": "code",
   "execution_count": null,
   "id": "fc85c93c",
   "metadata": {},
   "outputs": [],
   "source": [
    "genes_overlap_ids_public = list(set(OmicsExpressionProteinCodingGenesTPMLogp1Stranded_public.loc[stranded_model_ids_public].columns).intersection(set(OmicsExpressionProteinCodingGenesTPMLogp1_public.loc[nonstranded_model_ids_public].columns)))"
   ]
  },
  {
   "cell_type": "code",
   "execution_count": null,
   "id": "7be6b211",
   "metadata": {},
   "outputs": [],
   "source": [
    "nonstranded_24q2_public = OmicsExpressionProteinCodingGenesTPMLogp1_public.loc[nonstranded_model_ids_public, genes_overlap_ids_public]"
   ]
  },
  {
   "cell_type": "code",
   "execution_count": null,
   "id": "ab060c66",
   "metadata": {},
   "outputs": [],
   "source": [
    "stranded_24q2_public = OmicsExpressionProteinCodingGenesTPMLogp1Stranded_public.loc[stranded_model_ids_public, genes_overlap_ids_public]"
   ]
  },
  {
   "cell_type": "code",
   "execution_count": null,
   "id": "c844a906",
   "metadata": {},
   "outputs": [],
   "source": [
    "tpm_24q2_public = pd.concat((nonstranded_24q2_public, stranded_24q2_public), axis=0)"
   ]
  },
  {
   "cell_type": "markdown",
   "id": "c7854039",
   "metadata": {},
   "source": [
    "Drop the gene below from expression matrix since the variance is zero across model IDs, which leads to a divide-by-zero error when doing batch correction:"
   ]
  },
  {
   "cell_type": "code",
   "execution_count": null,
   "id": "1538059d",
   "metadata": {},
   "outputs": [],
   "source": [
    "tpm_24q2_public = tpm_24q2_public.drop(columns=['DEFB131A (644414)'])"
   ]
  },
  {
   "cell_type": "code",
   "execution_count": null,
   "id": "a1749018",
   "metadata": {},
   "outputs": [],
   "source": [
    "strandness_public = np.array([0] * len(nonstranded_model_ids_public) + [1] * len(stranded_model_ids_public))"
   ]
  },
  {
   "cell_type": "code",
   "execution_count": null,
   "id": "f4373053",
   "metadata": {},
   "outputs": [],
   "source": [
    "len(strandness_public)"
   ]
  },
  {
   "cell_type": "code",
   "execution_count": null,
   "id": "bb8669f1",
   "metadata": {},
   "outputs": [],
   "source": [
    "from inmoose.pycombat import pycombat_norm"
   ]
  },
  {
   "cell_type": "code",
   "execution_count": null,
   "id": "f6752e6e",
   "metadata": {},
   "outputs": [],
   "source": [
    "tpm_corrected_24q2_public = pycombat_norm(tpm_24q2_public.T, strandness_public)"
   ]
  },
  {
   "cell_type": "code",
   "execution_count": null,
   "id": "a525d53c",
   "metadata": {},
   "outputs": [],
   "source": [
    "tpm_corrected_24q2_public"
   ]
  },
  {
   "cell_type": "code",
   "execution_count": null,
   "id": "4a3a4258",
   "metadata": {},
   "outputs": [],
   "source": [
    "tpm_corrected_24q2_public = tpm_corrected_24q2_public.T"
   ]
  },
  {
   "cell_type": "code",
   "execution_count": null,
   "id": "cdf46ad2",
   "metadata": {},
   "outputs": [],
   "source": [
    "tpm_corrected_24q2_public.shape"
   ]
  },
  {
   "cell_type": "code",
   "execution_count": null,
   "id": "14db92db",
   "metadata": {},
   "outputs": [],
   "source": [
    "tpm_corrected_24q2_public.to_csv('/Users/gulatide/Documents/strandedness/proteinCoding_genes_tpm_logp1_profile_batch_corrected.csv')"
   ]
  },
  {
   "cell_type": "code",
   "execution_count": null,
   "id": "ad4895ba",
   "metadata": {},
   "outputs": [],
   "source": [
    "from taigapy import default_tc as tc\n",
    "\n",
    "new_dataset_id = tc.update_dataset(\n",
    "    changes_description=\"adding batch corrected version to 24Q2 release\",\n",
    "    dataset_permaname=\"public-24q2-356f\",\n",
    "    upload_files=[\n",
    "        {\n",
    "            \"path\": \"/Users/gulatide/Documents/strandedness/proteinCoding_genes_tpm_logp1_profile_batch_corrected.csv\",\n",
    "            \"name\": \"OmicsExpressionProteinCodingGenesTPMLogp1BatchCorrected\", # optional, will use file name if not provided\n",
    "            \"format\": \"NumericMatrixCSV\", # or \"NumericMatrixCSV\" or \"TableCSV\"\n",
    "            \"encoding\": \"utf-8\" # optional (but recommended), will use iso-8859-1 if not provided\n",
    "        }\n",
    "    ],\n",
    "    add_all_existing_files=True,\n",
    "    upload_async=False,\n",
    "    dataset_description=\"24Q2 release of the DepMap dataset for the DepMap Portal. Please look at the README file for additional information about this dataset.\", # optional (but recommended)\n",
    ")"
   ]
  },
  {
   "cell_type": "code",
   "execution_count": null,
   "id": "9d026af5",
   "metadata": {},
   "outputs": [],
   "source": [
    "lineage_v2 = [0]*len(strandness_public)"
   ]
  },
  {
   "cell_type": "code",
   "execution_count": null,
   "id": "1b280741",
   "metadata": {},
   "outputs": [],
   "source": [
    "from sklearn.decomposition import PCA\n",
    "import pandas as pd\n",
    "import colorcet as cc\n",
    "import umap\n",
    "import seaborn as sns\n",
    "import matplotlib.pyplot as plt\n",
    "u = umap.UMAP()\n",
    "palette = sns.color_palette(cc.glasbey, n_colors=33)\n",
    "\n",
    "fig, ax = plt.subplots(3, 3)\n",
    "fig.set_size_inches(21, 20)\n",
    "\n",
    "for i, comp_number in enumerate([5, 10, 30]):\n",
    "    pca = PCA(n_components=comp_number, whiten=True, random_state=999)\n",
    "#     strandness = np.hstack([OmicsExpressionAllGenesTPMLogp1Profile.index.map(dict(zip(strand_count_dfs.Profile, strand_count_dfs.loc[:, 'strandness']))), ['rsem-stranded']*len(paired_data)])\n",
    "    components = pca.fit_transform(tpm_corrected_24q2_public.T)\n",
    "    print(components.shape, strandness_public.shape)\n",
    "    if i == 0:\n",
    "        pca_plot_data = pd.DataFrame({\"comp1\": components[:, 0], \"comp2\": components[:, 1], \"lineage\": lineage_v2, \"strandness\": strandness_public})\n",
    "        # pca_plot_data = pd.DataFrame({\"comp1\": components[:, 0], \"comp2\": components[:, 1], \"lineage\": lineage, \"strandness\": np.hstack([OmicsExpressionAllGenesTPMLogp1Profile.index.map(dict(zip(strand_count_dfs.Profile, strand_count_dfs.loc[:, 'strandness']))), ['rsem-stranded']*len(paired_data)])})\n",
    "        sns.scatterplot(data=pca_plot_data, x=\"comp1\", y=\"comp2\", hue=\"strandness\", alpha=0.8, s=8, ax=ax[i][0], palette=palette)\n",
    "        ax[i][0].set_xlabel(f'comp1 {pca.explained_variance_ratio_[0]*100:.2f} %')\n",
    "        ax[i][0].set_ylabel(f'comp2 {pca.explained_variance_ratio_[1]*100:.2f} %')\n",
    "    elif i == 1:\n",
    "        pca_plot_data = pd.DataFrame({\"comp1\": components[:, 0], \"comp3\": components[:, 2], \"lineage\": lineage_v2, \"strandness\": strandness_public})\n",
    "        # pca_plot_data = pd.DataFrame({\"comp1\": components[:, 0], \"comp3\": components[:, 2], \"lineage\": lineage, \"strandness\": OmicsExpressionAllGenesTPMLogp1Profile.index.map(dict(zip(strand_count_dfs.Profile, strand_count_dfs.loc[:, 'strandness'])))})\n",
    "        sns.scatterplot(data=pca_plot_data, x=\"comp1\", y=\"comp3\", hue=\"strandness\", alpha=0.8, s=8, ax=ax[i][0], palette=palette)\n",
    "        ax[i][0].set_xlabel(f'comp1 {pca.explained_variance_ratio_[0]*100:.2f} %')\n",
    "        ax[i][0].set_ylabel(f'comp3 {pca.explained_variance_ratio_[2]*100:.2f} %')\n",
    "    elif i == 2:\n",
    "        pca_plot_data = pd.DataFrame({\"comp2\": components[:, 1], \"comp3\": components[:, 2], \"lineage\": lineage_v2, \"strandness\": strandness_public})\n",
    "        # pca_plot_data = pd.DataFrame({\"comp2\": components[:, 1], \"comp3\": components[:, 2], \"lineage\": lineage, \"strandness\": OmicsExpressionAllGenesTPMLogp1Profile.index.map(dict(zip(strand_count_dfs.Profile, strand_count_dfs.loc[:, 'strandness'])))})\n",
    "        sns.scatterplot(data=pca_plot_data, x=\"comp2\", y=\"comp3\", hue=\"strandness\", alpha=0.8, s=8, ax=ax[i][0], palette=palette)\n",
    "        ax[i][0].set_xlabel(f'comp2 {pca.explained_variance_ratio_[1]*100:.2f} %')\n",
    "        ax[i][0].set_ylabel(f'comp3 {pca.explained_variance_ratio_[2]*100:.2f} %')\n",
    "    \n",
    "    umap_rna = u.fit_transform(components)\n",
    "    \n",
    "    pca_plot_data = pd.DataFrame({\"comp1\": umap_rna[:, 0], \"comp2\": umap_rna[:, 1], \"lineage\": lineage_v2, \"strandness\": strandness_public})\n",
    "    # pca_plot_data = pd.DataFrame({\"comp1\": umap_rna[:, 0], \"comp2\": umap_rna[:, 1], \"lineage\": lineage, \"strandness\": OmicsExpressionAllGenesTPMLogp1Profile.index.map(dict(zip(strand_count_dfs.Profile, strand_count_dfs.loc[:, 'strandness'])))})\n",
    "    sns.scatterplot(data=pca_plot_data, x=\"comp1\", y=\"comp2\", hue=\"strandness\", alpha=0.8, s=8, ax=ax[i][1], palette=palette)\n",
    "\n",
    "    pca_plot_data = pd.DataFrame({\"comp1\": umap_rna[:, 0], \"comp2\": umap_rna[:, 1], \"lineage\": lineage_v2, \"strandness\": strandness_public})\n",
    "    # pca_plot_data = pd.DataFrame({\"comp1\": umap_rna[:, 0], \"comp2\": umap_rna[:, 1], \"lineage\": lineage, \"strandness\": OmicsExpressionAllGenesTPMLogp1Profile.index.map(dict(zip(strand_count_dfs.Profile, strand_count_dfs.loc[:, 'strandness'])))})\n",
    "    sns.scatterplot(data=pca_plot_data, x=\"comp1\", y=\"comp2\", hue=\"lineage\", alpha=0.8, s=8, ax=ax[i][2], palette=palette)\n",
    "    sns.move_legend(ax[i][2], \"upper left\", bbox_to_anchor=(1, 1), frameon=False, ncols=3)\n"
   ]
  },
  {
   "cell_type": "markdown",
   "id": "0ec38fe4",
   "metadata": {},
   "source": [
    "### DMC"
   ]
  },
  {
   "cell_type": "code",
   "execution_count": null,
   "id": "87bcdeed",
   "metadata": {},
   "outputs": [],
   "source": [
    "nonstranded_profiles = OmicsProfiles_dmc[OmicsProfiles_dmc['Stranded'] == False]['ProfileID']"
   ]
  },
  {
   "cell_type": "code",
   "execution_count": null,
   "id": "ce84d178",
   "metadata": {},
   "outputs": [],
   "source": [
    "nonstranded_model_ids_dmc = OmicsDefaultModelProfiles_dmc[OmicsDefaultModelProfiles_dmc['ProfileID'].isin(nonstranded_profiles)]['ModelID']"
   ]
  },
  {
   "cell_type": "code",
   "execution_count": null,
   "id": "4f36e848",
   "metadata": {},
   "outputs": [],
   "source": [
    "stranded_profiles = OmicsProfiles_dmc[OmicsProfiles_dmc['Stranded'] == True]['ProfileID']"
   ]
  },
  {
   "cell_type": "code",
   "execution_count": null,
   "id": "01d0ef19",
   "metadata": {},
   "outputs": [],
   "source": [
    "stranded_model_ids_dmc = OmicsDefaultModelProfiles_dmc[OmicsDefaultModelProfiles_dmc['ProfileID'].isin(stranded_profiles)]['ModelID']"
   ]
  },
  {
   "cell_type": "code",
   "execution_count": null,
   "id": "cfd5321c",
   "metadata": {},
   "outputs": [],
   "source": [
    "len(nonstranded_model_ids_dmc), len(stranded_model_ids_dmc)"
   ]
  },
  {
   "cell_type": "code",
   "execution_count": null,
   "id": "ccfd2f01",
   "metadata": {},
   "outputs": [],
   "source": [
    "genes_overlap_ids_dmc = list(set(OmicsExpressionProteinCodingGenesTPMLogp1Stranded_dmc.loc[stranded_model_ids_dmc].columns).intersection(set(OmicsExpressionProteinCodingGenesTPMLogp1_dmc.loc[nonstranded_model_ids_dmc].columns)))"
   ]
  },
  {
   "cell_type": "code",
   "execution_count": null,
   "id": "0d07273c",
   "metadata": {},
   "outputs": [],
   "source": [
    "nonstranded_24q2_dmc = OmicsExpressionProteinCodingGenesTPMLogp1_dmc.loc[nonstranded_model_ids_dmc, genes_overlap_ids_dmc]"
   ]
  },
  {
   "cell_type": "code",
   "execution_count": null,
   "id": "af5cf056",
   "metadata": {},
   "outputs": [],
   "source": [
    "stranded_24q2_dmc = OmicsExpressionProteinCodingGenesTPMLogp1Stranded_dmc.loc[stranded_model_ids_dmc, genes_overlap_ids_dmc]"
   ]
  },
  {
   "cell_type": "code",
   "execution_count": null,
   "id": "9f400397",
   "metadata": {},
   "outputs": [],
   "source": [
    "tpm_24q2_dmc = pd.concat((nonstranded_24q2_dmc, stranded_24q2_dmc), axis=0)"
   ]
  },
  {
   "cell_type": "code",
   "execution_count": null,
   "id": "2d38ac53",
   "metadata": {},
   "outputs": [],
   "source": [
    "strandness_dmc = np.array([0] * len(nonstranded_model_ids_dmc) + [1] * len(stranded_model_ids_dmc))"
   ]
  },
  {
   "cell_type": "code",
   "execution_count": null,
   "id": "331ff02e",
   "metadata": {},
   "outputs": [],
   "source": [
    "tpm_corrected_24q2_dmc = pycombat_norm(tpm_24q2_dmc.T, strandness_dmc)"
   ]
  },
  {
   "cell_type": "code",
   "execution_count": null,
   "id": "a657f26d",
   "metadata": {},
   "outputs": [],
   "source": [
    "tpm_corrected_24q2_dmc = tpm_corrected_24q2_dmc.T"
   ]
  },
  {
   "cell_type": "code",
   "execution_count": null,
   "id": "003f1262",
   "metadata": {},
   "outputs": [],
   "source": [
    "tpm_corrected_24q2_dmc.shape"
   ]
  },
  {
   "cell_type": "code",
   "execution_count": null,
   "id": "4f851532",
   "metadata": {},
   "outputs": [],
   "source": [
    "tpm_corrected_24q2_dmc.to_csv('/Users/gulatide/Documents/strandedness/proteinCoding_genes_tpm_logp1_profile_batch_corrected.csv')"
   ]
  },
  {
   "cell_type": "code",
   "execution_count": null,
   "id": "d1835bc8",
   "metadata": {},
   "outputs": [],
   "source": [
    "from taigapy import default_tc as tc\n",
    "\n",
    "new_dataset_id = tc.update_dataset(\n",
    "    changes_description=\"adding batch corrected version to 24Q2 release\",\n",
    "    dataset_permaname=\"dmc-24q2-5194\",\n",
    "    upload_files=[\n",
    "        {\n",
    "            \"path\": \"/Users/gulatide/Documents/strandedness/proteinCoding_genes_tpm_logp1_profile_batch_corrected.csv\",\n",
    "            \"name\": \"OmicsExpressionProteinCodingGenesTPMLogp1BatchCorrected\", # optional, will use file name if not provided\n",
    "            \"format\": \"NumericMatrixCSV\", # or \"NumericMatrixCSV\" or \"TableCSV\"\n",
    "            \"encoding\": \"utf-8\" # optional (but recommended), will use iso-8859-1 if not provided\n",
    "        }\n",
    "    ],\n",
    "    add_all_existing_files=True,\n",
    "    upload_async=False,\n",
    "    dataset_description=\"24Q2 release of the DepMap dataset for the DepMap Portal. Please look at the README file for additional information about this dataset.\", # optional (but recommended)\n",
    ")"
   ]
  }
 ],
 "metadata": {
  "kernelspec": {
   "display_name": "strandedness",
   "language": "python",
   "name": "strandedness"
  },
  "language_info": {
   "codemirror_mode": {
    "name": "ipython",
    "version": 3
   },
   "file_extension": ".py",
   "mimetype": "text/x-python",
   "name": "python",
   "nbconvert_exporter": "python",
   "pygments_lexer": "ipython3",
   "version": "3.9.19"
  }
 },
 "nbformat": 4,
 "nbformat_minor": 5
}
