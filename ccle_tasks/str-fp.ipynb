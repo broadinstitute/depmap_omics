{
 "cells": [
  {
   "cell_type": "code",
   "execution_count": null,
   "id": "a9f6dbf9",
   "metadata": {},
   "outputs": [],
   "source": [
    "#https://gist.github.com/dceoy/99d976a2c01e7f0ba1c813778f9db744\n",
    "\n",
    "import io\n",
    "import os\n",
    "import pandas as pd\n",
    "import gzip\n",
    "import numpy as np\n",
    "from google.cloud import storage\n",
    "from depmap_omics_upload import tracker as track\n",
    "\n",
    "\n",
    "def read_vcf(path):\n",
    "    storage_client = storage.Client()\n",
    "    bucket = storage_client.bucket(path.split(\"/\")[2])\n",
    "    blob = bucket.blob(\"/\".join(path.split(\"/\")[3:]))\n",
    "    if path.endswith(\".gz\"):\n",
    "        data = io.BytesIO(blob.download_as_string())\n",
    "        with gzip.open(data, 'r') as f:\n",
    "            lines = [l.decode(\"utf-8\") for l in f if not l.startswith(b'#')]\n",
    "    else:\n",
    "        data = blob.download_as_string().decode(\"utf-8\") \n",
    "        f = data.split(\"\\n\")\n",
    "        lines = [l + \"\\n\" for l in f if not l.startswith('#')]\n",
    "    return pd.read_csv(\n",
    "        io.StringIO(''.join(lines)),\n",
    "        names=['CHROM', 'POS', 'ID', 'REF', 'ALT', 'QUAL', 'FILTER', 'INFO', 'FORMAT', 'GT'],\n",
    "        sep='\\t'\n",
    "    )"
   ]
  },
  {
   "cell_type": "code",
   "execution_count": null,
   "id": "33ce9664",
   "metadata": {},
   "outputs": [],
   "source": [
    "def transformGB(row):\n",
    "    if len(row) < 2:\n",
    "        return np.nan\n",
    "    else:\n",
    "        split_gt = row.split(':')[1].split('|')\n",
    "        return [int(i) for i in split_gt]"
   ]
  },
  {
   "cell_type": "code",
   "execution_count": null,
   "id": "9d82a1df",
   "metadata": {},
   "outputs": [],
   "source": [
    "def gb2str(row):\n",
    "    if not isinstance(row[\"GB\"], list):\n",
    "        return \"NA\"\n",
    "    else:\n",
    "        strs = []\n",
    "        for i in row[\"GB\"]:\n",
    "            integer = (row[\"REF\"] * row[\"PERIOD\"] + i) // row[\"PERIOD\"]\n",
    "            remainder = (row[\"REF\"] * row[\"PERIOD\"] + i) % row[\"PERIOD\"]\n",
    "            if remainder == 0:\n",
    "                strs.append(str(int(integer)))\n",
    "            else:\n",
    "                strs.append(str(int(integer)) + \".\" + str(int(remainder)))\n",
    "        return ', '.join(list(set(strs)))"
   ]
  },
  {
   "cell_type": "code",
   "execution_count": null,
   "id": "a2598344",
   "metadata": {},
   "outputs": [],
   "source": [
    "def generateSTRRow(paths_df, method, colname=\"str\"):\n",
    "    hg38_sites = pd.read_csv(\"/home/xiaomeng/bin/depmap_omics/data/str_hg38.bed\", sep=\"\\t\", names=[\"CHROM\",\"START\",\"END\",\"PERIOD\",\"REF\",\"ID\"]).astype({'PERIOD': 'int32'})\n",
    "    str_rows = []\n",
    "#     mytracker = track.SampleTracker()\n",
    "#     seq_table = mytracker.add_model_cols_to_seqtable(cols=[\"ModelID\"])\n",
    "#     mytracker.close_gumbo_client()\n",
    "    for i, p in paths_df.iterrows():\n",
    "        if pd.isna(p[colname]):\n",
    "            print(\"no hipSTR vcf available for: \" + i)\n",
    "        else:\n",
    "            df = read_vcf(p[colname])\n",
    "            if method == \"hipstr\":\n",
    "                df[\"GB\"] = df.apply(lambda x: (transformGB(x[\"GT\"])), axis=1)\n",
    "                df = hg38_sites.merge(df[[\"ID\", \"GB\"]], on='ID', how='left')\n",
    "                df[\"STR\"] = df.apply(lambda x: gb2str(x), axis=1)\n",
    "            elif method == \"gangstr\":\n",
    "                df = df.rename(columns={\"POS\": \"START\"})\n",
    "                df = hg38_sites.merge(df[['CHROM', 'START', \"ALT\"]], on=['CHROM', 'START'], how='left')\n",
    "                df[\"STR\"] = df.apply(lambda x: altAllele2str(x), axis=1)\n",
    "            # Maybe no need to convert to model IDs here yet?\n",
    "            df[\"sample_id\"] = i\n",
    "            str_row = df.pivot(index='sample_id', columns='ID', values='STR')\n",
    "            str_rows.append(str_row)\n",
    "    return(pd.concat(str_rows))"
   ]
  },
  {
   "cell_type": "code",
   "execution_count": null,
   "id": "282e37d1",
   "metadata": {},
   "outputs": [],
   "source": [
    "locations_14 = ['CSF1PO', 'D13S317', 'D16S539', 'D18S51', 'D21S11', 'D3S1358', 'D5S818', 'D7S820', 'D8S1179', 'FGA', 'PentaD', 'PentaE', 'TH01', 'TPOX']\n",
    "locations_13 = ['CSF1PO', 'D13S317', 'D16S539', 'D18S51', 'D3S1358', 'D5S818', 'D7S820', 'D8S1179', 'FGA', 'PentaD', 'PentaE', 'TH01', 'TPOX']"
   ]
  },
  {
   "cell_type": "code",
   "execution_count": null,
   "id": "0b992a9a",
   "metadata": {},
   "outputs": [],
   "source": [
    "def computeTanabe(df1, idx1, df2, idx2, colnames=locations_13):\n",
    "    # compute tanabe similarity between two STR profiles\n",
    "    match = 0\n",
    "    total = 0\n",
    "    for col in colnames:\n",
    "        # TODO: how to best handle NAs?\n",
    "        a1 = set(df1.loc[idx1, col].split(\", \"))\n",
    "        a2 = set(df2.loc[idx2, col].split(\", \"))\n",
    "        if a1 != set(['NA']) & a2 != set(['NA']):\n",
    "            match += len(set(a1) & set(a2))\n",
    "            total += len(set(a1)) + len(set(a2))\n",
    "    return(2 * match / total)"
   ]
  },
  {
   "cell_type": "code",
   "execution_count": null,
   "id": "274ae869",
   "metadata": {},
   "outputs": [],
   "source": [
    "def makeScoreMatrixDatabase(df_seqid, df_achid, colnames=locations_13):\n",
    "    mytracker = track.SampleTracker()\n",
    "    seq_table = mytracker.add_model_cols_to_seqtable(cols=[\"ModelID\"])\n",
    "    valid_achids = list(set(df_achid.index) - set([np.nan]))\n",
    "    scoremat = pd.DataFrame(columns=valid_achids + ['ModelID'], index=(df_seqid.index))\n",
    "    for i in df_seqid.index:\n",
    "        scoremat.loc[i, \"ModelID\"] = seq_table.loc[i, \"ModelID\"]\n",
    "        for j in valid_achids:\n",
    "            scoremat.loc[i, j] = computeTanabe(df_seqid, i, df_achid, j)\n",
    "    return scoremat"
   ]
  },
  {
   "cell_type": "code",
   "execution_count": null,
   "id": "c15cc6b4",
   "metadata": {},
   "outputs": [],
   "source": [
    "fn1 = 'gs://fc-secure-6b6a3e1a-6fb8-4d30-b0df-a359e6c5d6e6/submissions/90b6e606-b120-4fe6-925d-25d259102afc/hipstr/6e27f596-8bff-43ff-beb5-96350f06ecc4/call-run_hipstr/CDS-d7p66m.vcf.gz'\n",
    "fn2 = \"gs://fc-secure-6b6a3e1a-6fb8-4d30-b0df-a359e6c5d6e6/submissions/7979e8bb-42bf-41b9-857d-d6186cb54aa5/hipstr/3f5d6cab-a0c0-492f-b8ea-b970e9de5365/call-run_hipstr/CDS-5P6nT1.vcf.gz\"\n",
    "fn3 = 'gs://fc-secure-6b6a3e1a-6fb8-4d30-b0df-a359e6c5d6e6/submissions/7979e8bb-42bf-41b9-857d-d6186cb54aa5/hipstr/861270da-afcb-4c4b-92b5-8b9309b57a47/call-run_hipstr/CDS-BkvCmE.vcf.gz'"
   ]
  },
  {
   "cell_type": "code",
   "execution_count": null,
   "id": "4979ceb1",
   "metadata": {},
   "outputs": [],
   "source": [
    "path_mapping = pd.DataFrame(data=[fn1], columns=[\"str\"], index=[\"CDS-d7p66m\"])"
   ]
  },
  {
   "cell_type": "code",
   "execution_count": null,
   "id": "fea9bb38",
   "metadata": {},
   "outputs": [],
   "source": [
    "wgs_str_hipstr = generateSTRRow(path_mapping, method=\"hipstr\")"
   ]
  },
  {
   "cell_type": "code",
   "execution_count": null,
   "id": "b6a03ece",
   "metadata": {},
   "outputs": [],
   "source": [
    "wgs_str_hipstr"
   ]
  },
  {
   "cell_type": "code",
   "execution_count": null,
   "id": "08d53e47",
   "metadata": {},
   "outputs": [],
   "source": [
    "import dalmatian as dm\n",
    "\n",
    "ws = dm.WorkspaceManager(\"broad-firecloud-ccle/DEV_DepMap_WGS_CN\")\n",
    "samples = ws.get_samples()"
   ]
  },
  {
   "cell_type": "code",
   "execution_count": null,
   "id": "4ab8969d",
   "metadata": {},
   "outputs": [],
   "source": [
    "samples = samples.iloc[0:50]"
   ]
  },
  {
   "cell_type": "code",
   "execution_count": null,
   "id": "8f355dd0",
   "metadata": {},
   "outputs": [],
   "source": [
    "samples"
   ]
  },
  {
   "cell_type": "code",
   "execution_count": null,
   "id": "48a04f43",
   "metadata": {},
   "outputs": [],
   "source": [
    "wgs_str_hipstr"
   ]
  },
  {
   "cell_type": "code",
   "execution_count": null,
   "id": "e9fbb92c",
   "metadata": {},
   "outputs": [],
   "source": [
    "from gsheets import Sheets\n",
    "\n",
    "broad_internal_str_url = \"https://docs.google.com/spreadsheets/d/134zxrQ77yMdDL4hLYybJJQN6pxLZIVLz-hORXIpid50/edit#gid=1107673601\"\n",
    "MY_ID = \"~/.client_secret.json\"\n",
    "MYSTORAGE_ID = \"~/.storage.json\"\n",
    "str_names = ['D3S1358','TH01', 'D21S11', 'D18S51', 'Penta E', 'D5S818', 'D13S317', 'D7S820',\n",
    "             'D16S539', 'CSF1PO', 'Penta D', 'D8S1179', 'TPOX', 'FGA']\n",
    "\n",
    "sheets = Sheets.from_files(MY_ID, MYSTORAGE_ID)\n",
    "broad_str = sheets.get(broad_internal_str_url).sheets[0].to_frame(index_col=0)[str_names + ['Source']].rename(columns={\"Penta E\": \"PentaE\", \"Penta D\": \"PentaD\"})\n",
    "broad_str = broad_str.fillna(\"NA\")\n",
    "broad_str = broad_str[~broad_str.index.isin(set([np.nan]))]"
   ]
  },
  {
   "cell_type": "code",
   "execution_count": null,
   "id": "a5b8234b",
   "metadata": {},
   "outputs": [],
   "source": [
    "minerva_str = sheets.get(\"https://docs.google.com/spreadsheets/d/1RsJS2e6zgyHwnt4bUyedYoyMbXMNbSmZfsr7SoSKn5U/edit?usp=sharing\").sheets[0].to_frame(index_col=0)[str_names].rename(columns={\"Penta E\": \"PentaE\", \"Penta D\": \"PentaD\"})\n",
    "minerva_str = minerva_str.fillna(\"NA\")\n",
    "minerva_str = minerva_str[~minerva_str.index.isin(set([np.nan]))]"
   ]
  },
  {
   "cell_type": "code",
   "execution_count": null,
   "id": "51f584d7",
   "metadata": {},
   "outputs": [],
   "source": [
    "mnemosyne_str = sheets.get(\"https://docs.google.com/spreadsheets/d/1U9S8nvFj87ZcBelKabdMjjfjNUvBKq8Ja8hCWoLHgPw/edit#gid=1623015619\").sheets[0].to_frame(index_col=0)[str_names].rename(columns={\"Penta E\": \"PentaE\", \"Penta D\": \"PentaD\"})\n",
    "mnemosyne_str = mnemosyne_str.fillna(\"NA\")\n",
    "mnemosyne_str = mnemosyne_str[~mnemosyne_str.index.isin(set([np.nan]))]\n"
   ]
  },
  {
   "cell_type": "code",
   "execution_count": null,
   "id": "b6ccbd50",
   "metadata": {},
   "outputs": [],
   "source": [
    "# drop dup rows, if from multiple source, keep the one from achilles\n",
    "idx = broad_str.index.tolist()\n",
    "dups = set([x for x in idx if idx.count(x) > 1])\n",
    "broad_str = broad_str.reset_index()\n",
    "todrop = []\n",
    "for d in dups:\n",
    "    dup_rows = broad_str[broad_str['Arxspan ID'] == d]\n",
    "    if len(set(dup_rows.Source)) > 1 and \"Achilles\" in set(dup_rows.Source):\n",
    "        todrop.extend(dup_rows[dup_rows['Source'] != \"Achilles\"].index.tolist())\n",
    "broad_str = broad_str.drop(todrop)\n",
    "broad_str = broad_str.drop(columns=[\"Source\"])\n",
    "broad_str = broad_str.set_index('Arxspan ID')"
   ]
  },
  {
   "cell_type": "code",
   "execution_count": null,
   "id": "de0a6af5",
   "metadata": {},
   "outputs": [],
   "source": [
    "broad_str"
   ]
  },
  {
   "cell_type": "code",
   "execution_count": null,
   "id": "591052a2",
   "metadata": {},
   "outputs": [],
   "source": [
    "dom_str = sheets.get(\"https://docs.google.com/spreadsheets/d/1UtrkGRB0APTXKw_xfp5LObP892YPj0n0sFRfZBKYX0g/edit#gid=1807658353\").sheets[0].to_frame(index_col=0)[str_names].rename(columns={\"Penta E\": \"PentaE\", \"Penta D\": \"PentaD\"}).astype(str)\n"
   ]
  },
  {
   "cell_type": "code",
   "execution_count": null,
   "id": "12279e42",
   "metadata": {},
   "outputs": [],
   "source": [
    "dom_str"
   ]
  },
  {
   "cell_type": "code",
   "execution_count": null,
   "id": "8ea39410",
   "metadata": {},
   "outputs": [],
   "source": [
    "score_mat = makeScoreMatrixDatabase(wgs_str_hipstr, broad_str.loc[[\"ACH-002056\"]])"
   ]
  },
  {
   "cell_type": "code",
   "execution_count": null,
   "id": "963c72b8",
   "metadata": {},
   "outputs": [],
   "source": [
    "score_mat"
   ]
  },
  {
   "cell_type": "code",
   "execution_count": null,
   "id": "234e1914",
   "metadata": {},
   "outputs": [],
   "source": [
    "score_mat_minerva = makeScoreMatrixDatabase(wgs_str_hipstr, minerva_str)"
   ]
  },
  {
   "cell_type": "code",
   "execution_count": null,
   "id": "727de4de",
   "metadata": {},
   "outputs": [],
   "source": [
    "score_mat_mnemosyne = makeScoreMatrixDatabase(wgs_str_hipstr, mnemosyne_str)"
   ]
  },
  {
   "cell_type": "code",
   "execution_count": null,
   "id": "9ddb9e2e",
   "metadata": {},
   "outputs": [],
   "source": [
    "for c in score_mat_mnemosyne.columns.tolist():\n",
    "    if c != \"ModelID\" and score_mat_mnemosyne.loc[\"CDS-d7p66m\", c] > 0.6:\n",
    "        print(c)"
   ]
  },
  {
   "cell_type": "code",
   "execution_count": null,
   "id": "9b21426f",
   "metadata": {},
   "outputs": [],
   "source": [
    "score_mat_mnemosyne.loc[\"CDS-d7p66m\", [\"2817-0\", \"2817-4\"]]"
   ]
  },
  {
   "cell_type": "code",
   "execution_count": null,
   "id": "afd1832c",
   "metadata": {},
   "outputs": [],
   "source": [
    "wgs_str.loc[[\"CDS-00Nrci\"]][locations_13]"
   ]
  },
  {
   "cell_type": "code",
   "execution_count": null,
   "id": "1869bab3",
   "metadata": {},
   "outputs": [],
   "source": [
    "broad_str.loc[[\"ACH-000839\"]][locations_13]"
   ]
  },
  {
   "cell_type": "code",
   "execution_count": null,
   "id": "011bb835",
   "metadata": {},
   "outputs": [],
   "source": [
    "score_mat_minerva_t.loc[\"2869-1\", \"CDS-Zdl1W4\"]"
   ]
  },
  {
   "cell_type": "code",
   "execution_count": null,
   "id": "592852eb",
   "metadata": {},
   "outputs": [],
   "source": [
    "score_mat_minerva_t = score_mat_minerva.T\n",
    "score_mat_minerva_t = score_mat_minerva_t.drop([\"ModelID\"])\n",
    "score_mat_minerva_t[score_mat_minerva_t[\"CDS-Zdl1W4\"].astype(float) > 0.6]"
   ]
  },
  {
   "cell_type": "code",
   "execution_count": null,
   "id": "1e3368b1",
   "metadata": {},
   "outputs": [],
   "source": [
    "mytracker = track.SampleTracker()\n",
    "seq_table = mytracker.add_model_cols_to_seqtable(cols=[\"ModelID\", \"PatientID\"])\n",
    "\n",
    "model_table = mytracker.read_model_table()"
   ]
  },
  {
   "cell_type": "code",
   "execution_count": null,
   "id": "492359ee",
   "metadata": {},
   "outputs": [],
   "source": [
    "scores = []\n",
    "mismatch_scores = []\n",
    "for i in score_mat.index:\n",
    "    if score_mat.loc[i, \"ModelID\"] in set(score_mat.columns):\n",
    "        patient_id = seq_table.loc[i, \"PatientID\"]\n",
    "        same_patient = set(model_table[model_table.PatientID == patient_id].index)\n",
    "        scores.append(score_mat.loc[i, score_mat.loc[i, \"ModelID\"]])\n",
    "        mismatches = set(score_mat.columns) - set([\"ModelID\", score_mat.loc[i, \"ModelID\"]]) - same_patient\n",
    "        mismatch_scores.extend(score_mat.loc[i, list(mismatches)].tolist())"
   ]
  },
  {
   "cell_type": "code",
   "execution_count": null,
   "id": "b92567aa",
   "metadata": {},
   "outputs": [],
   "source": [
    "score_mat[score_mat.ModelID == \"ACH-002835\"][\"ACH-002835\"]"
   ]
  },
  {
   "cell_type": "code",
   "execution_count": null,
   "id": "2b1712ea",
   "metadata": {},
   "outputs": [],
   "source": [
    "import numpy as np\n",
    "import matplotlib.pyplot as plt\n",
    "\n",
    "fig, ax = plt.subplots(figsize =(6, 4))\n",
    "ax.hist(scores, bins = 20)\n",
    " \n",
    "# Show plot\n",
    "plt.show()"
   ]
  },
  {
   "cell_type": "code",
   "execution_count": null,
   "id": "f51162d7",
   "metadata": {},
   "outputs": [],
   "source": [
    "# plot mismatch scores:\n",
    "\n",
    "fig, ax = plt.subplots(figsize =(6, 4))\n",
    "ax.hist(mismatch_scores, bins = 20)\n",
    " \n",
    "# Show plot\n",
    "plt.show()"
   ]
  },
  {
   "cell_type": "code",
   "execution_count": null,
   "id": "bbc8ed2a",
   "metadata": {},
   "outputs": [],
   "source": [
    "mismatch_scores.sort()"
   ]
  },
  {
   "cell_type": "code",
   "execution_count": null,
   "id": "4ae3063c",
   "metadata": {},
   "outputs": [],
   "source": [
    "mismatch_scores[-20:]"
   ]
  },
  {
   "cell_type": "markdown",
   "id": "d6cc4f74",
   "metadata": {},
   "source": [
    "# GangSTR"
   ]
  },
  {
   "cell_type": "code",
   "execution_count": null,
   "id": "55d0bd81",
   "metadata": {},
   "outputs": [],
   "source": [
    "def altAllele2str(row):\n",
    "    if pd.isna(row[\"ALT\"]) or row[\"ALT\"] == \".\":\n",
    "        return \"NA\"\n",
    "    else:\n",
    "        strs = []\n",
    "        for i in row[\"ALT\"].split(\",\"):\n",
    "            l = len(i)\n",
    "            integer = l // row[\"PERIOD\"]\n",
    "            remainder = l % row[\"PERIOD\"]\n",
    "            if remainder == 0:\n",
    "                strs.append(str(int(integer)))\n",
    "            else:\n",
    "                strs.append(str(int(integer)) + \".\" + str(int(remainder)))\n",
    "        return ', '.join(list(set(strs)))"
   ]
  },
  {
   "cell_type": "code",
   "execution_count": null,
   "id": "27f22d48",
   "metadata": {},
   "outputs": [],
   "source": [
    "gangstr_fn1 = \"gs://fc-secure-9dffc819-20a8-49ea-8fa8-1b1bab1475d0/submissions/7b4fe301-f573-4859-bd05-98191c15a608/GangSTR/84e4fe9a-096e-4613-a0fd-462a1081a294/call-CallGangSTR/attempt-2/CDS-00Nrci.vcf\"\n",
    "gangstr_fn2 = \"gs://fc-secure-9dffc819-20a8-49ea-8fa8-1b1bab1475d0/submissions/7b4fe301-f573-4859-bd05-98191c15a608/GangSTR/1bea68db-ec31-4e18-b2e0-9c76fce185ed/call-CallGangSTR/attempt-2/CDS-0b4jFH.vcf\"\n",
    "gangstr_fn3 = \"gs://fc-secure-9dffc819-20a8-49ea-8fa8-1b1bab1475d0/submissions/7b4fe301-f573-4859-bd05-98191c15a608/GangSTR/643addc8-e6f0-45ae-812e-79fa599b3328/call-CallGangSTR/CDS-0bV15m.vcf\"\n",
    "gangstr_fn4 = \"gs://fc-secure-9dffc819-20a8-49ea-8fa8-1b1bab1475d0/submissions/7b4fe301-f573-4859-bd05-98191c15a608/GangSTR/4d798622-7f63-41b2-8a05-5c06287556f9/call-CallGangSTR/CDS-0e3PRe.vcf\"\n",
    "gangstr_fn5 = \"gs://fc-secure-9dffc819-20a8-49ea-8fa8-1b1bab1475d0/submissions/7b4fe301-f573-4859-bd05-98191c15a608/GangSTR/d987a65c-0cd0-48d0-9e8d-a439de082dcc/call-CallGangSTR/attempt-2/CDS-0ewUnk.vcf\""
   ]
  },
  {
   "cell_type": "code",
   "execution_count": null,
   "id": "5aaf5f8d",
   "metadata": {},
   "outputs": [],
   "source": [
    "path_mapping_gangstr = pd.DataFrame(data=[gangstr_fn1, gangstr_fn2, gangstr_fn3, gangstr_fn4, gangstr_fn5], columns=[\"str\"], index=[\"CDS-00Nrci\", \"CDS-0b4jFH\", \"CDS-0bV15m\", \"CDS-0e3PRe\", \"CDS-0ewUnk\"])"
   ]
  },
  {
   "cell_type": "code",
   "execution_count": null,
   "id": "f007070f",
   "metadata": {},
   "outputs": [],
   "source": [
    "wgs_str_gangstr = generateSTRRow(path_mapping_gangstr, method=\"gangstr\")"
   ]
  },
  {
   "cell_type": "code",
   "execution_count": null,
   "id": "a3c054ee",
   "metadata": {},
   "outputs": [],
   "source": [
    "wgs_str_gangstr.loc[[\"CDS-00Nrci\"]]"
   ]
  },
  {
   "cell_type": "code",
   "execution_count": null,
   "id": "aa09dff3",
   "metadata": {},
   "outputs": [],
   "source": [
    "wgs_str_hipstr.loc[[\"CDS-00Nrci\"]]"
   ]
  },
  {
   "cell_type": "code",
   "execution_count": null,
   "id": "73e6fdc8",
   "metadata": {},
   "outputs": [],
   "source": [
    "df = read_vcf(gangstr_fn1)\n",
    "df"
   ]
  },
  {
   "cell_type": "code",
   "execution_count": null,
   "id": "dfb2825f",
   "metadata": {},
   "outputs": [],
   "source": [
    "from taigapy import TaigaClient\n",
    "tc = TaigaClient()\n",
    "\n",
    "CCLE_gene_cn = tc.get(name='internal-20q4-2540', version=47, file='CCLE_gene_cn')"
   ]
  },
  {
   "cell_type": "code",
   "execution_count": null,
   "id": "d447bbb2",
   "metadata": {},
   "outputs": [],
   "source": [
    "\"ACH-001955\" in CCLE_gene_cn.index"
   ]
  },
  {
   "cell_type": "code",
   "execution_count": null,
   "id": "4482c7f2",
   "metadata": {},
   "outputs": [],
   "source": [
    "wgs_str_gangstr_all = generateSTRRow(samples, method=\"gangstr\", colname=\"GangSTR_vcf\")"
   ]
  },
  {
   "cell_type": "code",
   "execution_count": null,
   "id": "b01c0a21",
   "metadata": {},
   "outputs": [],
   "source": [
    "wgs_str_gangstr_all"
   ]
  },
  {
   "cell_type": "code",
   "execution_count": null,
   "id": "9f74de1c",
   "metadata": {},
   "outputs": [],
   "source": [
    "score_mat_gangstr = makeScoreMatrixDatabase(wgs_str_gangstr_all, broad_str, colnames=locations_14)"
   ]
  },
  {
   "cell_type": "code",
   "execution_count": null,
   "id": "e7481624",
   "metadata": {},
   "outputs": [],
   "source": [
    "score_mat_gangstr"
   ]
  },
  {
   "cell_type": "code",
   "execution_count": null,
   "id": "ebe39f5f",
   "metadata": {},
   "outputs": [],
   "source": [
    "scores_gangstr = []\n",
    "mismatch_scores_gangstr = []\n",
    "for i in score_mat_gangstr.index:\n",
    "    if score_mat_gangstr.loc[i, \"ModelID\"] in set(score_mat_gangstr.columns):\n",
    "        patient_id = seq_table.loc[i, \"PatientID\"]\n",
    "        same_patient = set(model_table[model_table.PatientID == patient_id].index)\n",
    "        scores_gangstr.append(score_mat_gangstr.loc[i, score_mat_gangstr.loc[i, \"ModelID\"]])\n",
    "        mismatches = set(score_mat_gangstr.columns) - set([\"ModelID\", score_mat_gangstr.loc[i, \"ModelID\"]]) - same_patient\n",
    "        mismatch_scores_gangstr.extend(score_mat_gangstr.loc[i, list(mismatches)].tolist())"
   ]
  },
  {
   "cell_type": "code",
   "execution_count": null,
   "id": "01da0200",
   "metadata": {},
   "outputs": [],
   "source": [
    "import numpy as np\n",
    "import matplotlib.pyplot as plt\n",
    "\n",
    "fig, ax = plt.subplots(figsize =(6, 4))\n",
    "ax.hist(scores_gangstr, bins = 20)\n",
    " \n",
    "# Show plot\n",
    "plt.show()"
   ]
  },
  {
   "cell_type": "code",
   "execution_count": null,
   "id": "78dd9a15",
   "metadata": {},
   "outputs": [],
   "source": [
    "# plot mismatch scores:\n",
    "\n",
    "fig, ax = plt.subplots(figsize =(6, 4))\n",
    "ax.hist(mismatch_scores_gangstr, bins = 20)\n",
    "\n",
    "# Show plot\n",
    "plt.show()"
   ]
  },
  {
   "cell_type": "code",
   "execution_count": null,
   "id": "53a384ee",
   "metadata": {},
   "outputs": [],
   "source": [
    "# check ACH-000600 and ACH-000658 against STR database"
   ]
  },
  {
   "cell_type": "code",
   "execution_count": null,
   "id": "73fc3c35",
   "metadata": {},
   "outputs": [],
   "source": [
    "ids = [\"CDS-0DgVJy\", \"CDS-p5raBU\", \"CDS-2FC7DW\"]"
   ]
  },
  {
   "cell_type": "code",
   "execution_count": null,
   "id": "703f9d95",
   "metadata": {},
   "outputs": [],
   "source": [
    "import dalmatian as dm\n",
    "\n",
    "wm = dm.WorkspaceManager(\"broad-firecloud-ccle/CCLE_SNP_QC-copy\").disable_hound()"
   ]
  },
  {
   "cell_type": "code",
   "execution_count": null,
   "id": "062c73ce",
   "metadata": {},
   "outputs": [],
   "source": [
    "mytracker = track.SampleTracker()\n",
    "seq_table = mytracker.read_seq_table()\n",
    "\n",
    "samples = seq_table.loc[ids]"
   ]
  },
  {
   "cell_type": "code",
   "execution_count": null,
   "id": "629670ea",
   "metadata": {},
   "outputs": [],
   "source": [
    "HG38BAMCOL = [\"bam_filepath\", \"bai_filepath\"]\n",
    "\n",
    "bams = samples[HG38BAMCOL]\n",
    "bams[\"id\"] = bams.index\n",
    "\n",
    "# Upload sample sheet\n",
    "samples_df = pd.DataFrame(\n",
    "    bams[HG38BAMCOL + [\"id\", \"id\"]].values,\n",
    "    columns=[\"internal_bam_filepath\", \"internal_bai_filepath\"] + [\"sample_id\", \"participant_id\"],\n",
    ")"
   ]
  },
  {
   "cell_type": "code",
   "execution_count": null,
   "id": "be994855",
   "metadata": {},
   "outputs": [],
   "source": [
    "samples_df = samples_df.set_index(\"sample_id\")\n",
    "wm.upload_samples(samples_df, add_participant_samples=True)"
   ]
  },
  {
   "cell_type": "code",
   "execution_count": null,
   "id": "c0dd823c",
   "metadata": {},
   "outputs": [],
   "source": [
    "fn1 = \"gs://fc-secure-9c2c0017-9eb5-47e5-9f43-983097f1f7b6/submissions/5160df09-c8f6-47c1-a1b0-1016aad12f93/hipstr/09f55f83-7f97-4e61-9033-d34b950b9456/call-run_hipstr/CDS-0DgVJy.vcf.gz\"\n",
    "fn2 = \"gs://fc-secure-9c2c0017-9eb5-47e5-9f43-983097f1f7b6/submissions/5160df09-c8f6-47c1-a1b0-1016aad12f93/hipstr/1be62168-30cf-491b-8227-c7f1876ac603/call-run_hipstr/CDS-p5raBU.vcf.gz\"\n",
    "fn3 = \"gs://fc-secure-9c2c0017-9eb5-47e5-9f43-983097f1f7b6/submissions/5160df09-c8f6-47c1-a1b0-1016aad12f93/hipstr/86b096e1-53db-4665-8dfa-c731885d7312/call-run_hipstr/cacheCopy/CDS-2FC7DW.vcf.gz\""
   ]
  },
  {
   "cell_type": "code",
   "execution_count": null,
   "id": "60284d36",
   "metadata": {},
   "outputs": [],
   "source": [
    "path_mapping = pd.DataFrame(data=[fn1, fn2, fn3], columns=[\"str\"], index=[\"CDS-0DgVJy\", \"CDS-p5raBU\", \"CDS-2FC7DW\"])"
   ]
  },
  {
   "cell_type": "code",
   "execution_count": null,
   "id": "2ebf0f89",
   "metadata": {},
   "outputs": [],
   "source": [
    "path_mapping = pd.DataFrame(data=[fn3], columns=[\"str\"], index=[\"CDS-2FC7DW\"])"
   ]
  },
  {
   "cell_type": "code",
   "execution_count": null,
   "id": "0f88bfb6",
   "metadata": {},
   "outputs": [],
   "source": [
    "wgs_str_hipstr = generateSTRRow(path_mapping, method=\"hipstr\")"
   ]
  },
  {
   "cell_type": "code",
   "execution_count": null,
   "id": "a0c8b9d2",
   "metadata": {},
   "outputs": [],
   "source": [
    "score_mat = makeScoreMatrixDatabase(wgs_str_hipstr, broad_str)"
   ]
  },
  {
   "cell_type": "code",
   "execution_count": null,
   "id": "a98ddcb7",
   "metadata": {},
   "outputs": [],
   "source": [
    "score_mat.loc[[\"CDS-0DgVJy\", \"CDS-p5raBU\", \"CDS-2FC7DW\"], [\"ACH-001341\", \"ACH-000658\"]]"
   ]
  },
  {
   "cell_type": "code",
   "execution_count": null,
   "id": "33eda8e5",
   "metadata": {},
   "outputs": [],
   "source": [
    "wgs_str_hipstr"
   ]
  },
  {
   "cell_type": "markdown",
   "id": "07a24050",
   "metadata": {},
   "source": [
    "# Trying out Gumbo STR table"
   ]
  },
  {
   "cell_type": "code",
   "execution_count": null,
   "id": "80c39168",
   "metadata": {},
   "outputs": [],
   "source": [
    "from depmap_omics_upload import tracker as track\n",
    "\n",
    "mytracker = track.SampleTracker(gumbo_env=\"staging\")"
   ]
  },
  {
   "cell_type": "code",
   "execution_count": null,
   "id": "a506d462",
   "metadata": {},
   "outputs": [],
   "source": [
    "model_table = mytracker.read_model_table()"
   ]
  },
  {
   "cell_type": "code",
   "execution_count": null,
   "id": "931a4900",
   "metadata": {},
   "outputs": [],
   "source": [
    "str_table = client.get(\"str_profile\")"
   ]
  },
  {
   "cell_type": "code",
   "execution_count": null,
   "id": "405a8536",
   "metadata": {},
   "outputs": [],
   "source": [
    "str_table.columns"
   ]
  },
  {
   "cell_type": "code",
   "execution_count": null,
   "id": "eba0f597",
   "metadata": {},
   "outputs": [],
   "source": [
    "str_col_rename = {'D3S1358': 'd3s1358', \n",
    "                  'TH01': 'th01', \n",
    "                  'D21S11': 'd21s11', \n",
    "                  'D18S51': 'd18s51', \n",
    "                  'Penta E': 'penta_e',\n",
    "                  'D5S818': 'd5s818', \n",
    "                  'D13S317': 'd13s317', \n",
    "                  'D7S820':'d7s820', \n",
    "                  'D16S539': 'd16s539', \n",
    "                  'CSF1PO':'csf1po', \n",
    "                  'Penta D': 'penta_d', \n",
    "                  'vWA': 'vwa',\n",
    "                  'D8S1179': 'd8s1179', \n",
    "                  'TPOX': 'tpox', \n",
    "                  'FGA': 'fga', \n",
    "                  'Amelogenin': 'amelogenin', \n",
    "                  'Mouse': 'mouse', \n",
    "                  'Mycoplasma': 'mycoplasma',\n",
    "                  'LabCorpSpecNbr': 'lab_corp_spec_nbr', \n",
    "                  'LabCorpCaseNbr': 'lab_corp_case_nbr', \n",
    "                  'Source': 'source_group'}"
   ]
  },
  {
   "cell_type": "code",
   "execution_count": null,
   "id": "a832f917",
   "metadata": {},
   "outputs": [],
   "source": [
    "from gsheets import Sheets\n",
    "import numpy as np\n",
    "\n",
    "broad_internal_str_url = \"https://docs.google.com/spreadsheets/d/134zxrQ77yMdDL4hLYybJJQN6pxLZIVLz-hORXIpid50/edit#gid=1107673601\"\n",
    "MY_ID = \"~/.client_secret.json\"\n",
    "MYSTORAGE_ID = \"~/.storage.json\"\n",
    "str_names = ['D3S1358','TH01', 'D21S11', 'D18S51', 'Penta E', 'D5S818', 'D13S317', 'D7S820',\n",
    "             'D16S539', 'CSF1PO', 'Penta D', 'D8S1179', 'TPOX', 'FGA']\n",
    "\n",
    "sheets = Sheets.from_files(MY_ID, MYSTORAGE_ID)\n",
    "broad_str = sheets.get(broad_internal_str_url).sheets[0].to_frame()[list(str_col_rename.keys()) + [\"Arxspan ID\"]].rename(columns=str_col_rename)"
   ]
  },
  {
   "cell_type": "code",
   "execution_count": null,
   "id": "e3da8fed",
   "metadata": {},
   "outputs": [],
   "source": [
    "broad_str.columns"
   ]
  },
  {
   "cell_type": "code",
   "execution_count": null,
   "id": "3a66f578",
   "metadata": {},
   "outputs": [],
   "source": [
    "first5 = broad_str.iloc[1055:1065]"
   ]
  },
  {
   "cell_type": "code",
   "execution_count": null,
   "id": "d8ad2de7",
   "metadata": {},
   "outputs": [],
   "source": [
    "first5['source'] = 'Internal'\n",
    "first5['is_reference'] = False"
   ]
  },
  {
   "cell_type": "code",
   "execution_count": null,
   "id": "f8df5a49",
   "metadata": {},
   "outputs": [],
   "source": [
    "for i in first5.index:\n",
    "    patient_id = model_table.loc[first5.loc[i, \"Arxspan ID\"], \"PatientID\"]\n",
    "    first5.loc[i, \"patient_id\"] = patient_id"
   ]
  },
  {
   "cell_type": "code",
   "execution_count": null,
   "id": "f587021c",
   "metadata": {},
   "outputs": [],
   "source": [
    "first5 = first5.drop(columns=[\"Arxspan ID\"])"
   ]
  },
  {
   "cell_type": "code",
   "execution_count": null,
   "id": "b85f0294",
   "metadata": {},
   "outputs": [],
   "source": [
    "first5"
   ]
  },
  {
   "cell_type": "code",
   "execution_count": null,
   "id": "c768b883",
   "metadata": {},
   "outputs": [],
   "source": [
    "mytracker.client.insert_only(\"str_profile\", first5)"
   ]
  },
  {
   "cell_type": "code",
   "execution_count": null,
   "id": "20e9765c",
   "metadata": {},
   "outputs": [],
   "source": [
    "mytracker.client.commit()"
   ]
  },
  {
   "cell_type": "markdown",
   "id": "7cdbb503",
   "metadata": {},
   "source": [
    "# Clean up and reformat existing STR sheets"
   ]
  },
  {
   "cell_type": "code",
   "execution_count": null,
   "id": "6a782b5d",
   "metadata": {},
   "outputs": [],
   "source": [
    "from depmap_omics_upload import tracker as track\n",
    "\n",
    "mytracker = track.SampleTracker(gumbo_env=\"production\")\n",
    "\n",
    "mc_table = mytracker.read_mc_table()\n",
    "model_table = mytracker.read_model_table()"
   ]
  },
  {
   "cell_type": "markdown",
   "id": "93b82652",
   "metadata": {},
   "source": [
    "## DMX"
   ]
  },
  {
   "cell_type": "code",
   "execution_count": null,
   "id": "7b124f4c",
   "metadata": {},
   "outputs": [],
   "source": [
    "from gsheets import Sheets\n",
    "import numpy as np\n",
    "\n",
    "broad_internal_str_url = \"https://docs.google.com/spreadsheets/d/134zxrQ77yMdDL4hLYybJJQN6pxLZIVLz-hORXIpid50/edit#gid=1107673601\"\n",
    "MY_ID = \"~/.client_secret.json\"\n",
    "MYSTORAGE_ID = \"~/.storage.json\"\n",
    "str_names = ['D3S1358','TH01', 'D21S11', 'D18S51', 'Penta E', 'D5S818', 'D13S317', 'D7S820',\n",
    "             'D16S539', 'CSF1PO', 'Penta D', 'D8S1179', 'TPOX', 'FGA']\n",
    "\n",
    "sheets = Sheets.from_files(MY_ID, MYSTORAGE_ID)\n",
    "broad_str = sheets.get(broad_internal_str_url).sheets[0].to_frame()[list(str_col_rename.keys()) + [\"Arxspan ID\", \"Annotation\", \"Notes\", \"Sample Reference\"]].rename(columns=str_col_rename)"
   ]
  },
  {
   "cell_type": "code",
   "execution_count": null,
   "id": "6508e862",
   "metadata": {},
   "outputs": [],
   "source": [
    "import pandas as pd\n",
    "import numpy as np\n",
    "\n",
    "# replace all NA* with NaN\n",
    "broad_str = broad_str.replace({\"NA*\": np.nan})"
   ]
  },
  {
   "cell_type": "code",
   "execution_count": null,
   "id": "af369b59",
   "metadata": {},
   "outputs": [],
   "source": [
    "# rename arxspan ids that are no longer in gumbo as a result of model merging:\n",
    "arxspan_rename = {\"ACH-001665\": \"ACH-000338\", \"ACH-003070\": \"ACH-001281\", \"ACH-000643-03\": \"ACH-000643\"}\n",
    "broad_str[\"Arxspan ID\"] = broad_str[\"Arxspan ID\"].replace(arxspan_rename)"
   ]
  },
  {
   "cell_type": "code",
   "execution_count": null,
   "id": "142e52a8",
   "metadata": {},
   "outputs": [],
   "source": [
    "# ignore arxspan ids that are not in model table\n",
    "broad_str = broad_str[broad_str[\"Arxspan ID\"].isin(set(model_table.index))]"
   ]
  },
  {
   "cell_type": "code",
   "execution_count": null,
   "id": "da90601f",
   "metadata": {},
   "outputs": [],
   "source": [
    "# ignore minerva entries, since they're duplicates\n",
    "broad_str = broad_str[broad_str[\"source_group\"] != \"Minerva\"]"
   ]
  },
  {
   "cell_type": "code",
   "execution_count": null,
   "id": "4d6a943b",
   "metadata": {},
   "outputs": [],
   "source": [
    "# fill patient ids\n",
    "broad_str[\"patient_id\"] = np.NaN\n",
    "for i in broad_str.index:\n",
    "    arxs = broad_str.loc[i, \"Arxspan ID\"]\n",
    "    patient_id = model_table.loc[arxs, \"PatientID\"]\n",
    "    broad_str.loc[i, \"patient_id\"] = patient_id"
   ]
  },
  {
   "cell_type": "code",
   "execution_count": null,
   "id": "52191777",
   "metadata": {},
   "outputs": [],
   "source": [
    "# rename values in mouse column:\n",
    "mouse_rename_dict = {\"NA*\": \"NA\", \"Negative\": \"Not Detected\", \"POSITIVE\": \"Positive\", np.nan: \"NA\"}\n",
    "broad_str[\"mouse\"] = broad_str[\"mouse\"].replace(mouse_rename_dict)"
   ]
  },
  {
   "cell_type": "code",
   "execution_count": null,
   "id": "d5849da7",
   "metadata": {},
   "outputs": [],
   "source": [
    "# check STRs in the DMX sheet that only maps to one SANGER MC\n",
    "# so sam can create BROAD MCs for them in gumbo\n",
    "for arxs in broad_str[\"Arxspan ID\"].unique().tolist():\n",
    "    mcs = mc_table[(mc_table.ModelID == arxs)]\n",
    "    if len(mcs) == 1 and len(mc_table[(mc_table.ModelID == arxs) & (mc_table.Source == \"SANGER\")]) == 1:\n",
    "        print(arxs)"
   ]
  },
  {
   "cell_type": "code",
   "execution_count": null,
   "id": "9925e84d",
   "metadata": {},
   "outputs": [],
   "source": [
    "# attempts to fill mc-ids!\n",
    "# see under each model, if there's one and only one Broad MC:\n",
    "for arxs in broad_str[\"Arxspan ID\"].unique().tolist():\n",
    "    mcs = mc_table[(mc_table.ModelID == arxs)]\n",
    "    if len(mcs) == 0:\n",
    "        print(str(arxs) + \": no MC in gumbo!\")\n",
    "    elif len(mcs) != 1:\n",
    "        broad_mcs = mc_table[(mc_table.ModelID == arxs) & (mc_table.Source == \"BROAD\") & (~mc_table.expansion_team.isin([\"CCLF\", \"Minerva\", \"Mnemosyne\"]))]\n",
    "        if len(broad_mcs) != 1:\n",
    "            print(arxs)\n",
    "        else:\n",
    "            broad_str.loc[broad_str[\"Arxspan ID\"] == arxs, \"model_condition_id\"] = broad_mcs.index.tolist()[0]\n",
    "    else:\n",
    "        if len(mcs[mcs.Source == \"SANGER\"]) != 1:\n",
    "            broad_str.loc[broad_str[\"Arxspan ID\"] == arxs, \"model_condition_id\"] = mcs.index.tolist()[0]"
   ]
  },
  {
   "cell_type": "code",
   "execution_count": null,
   "id": "be336092",
   "metadata": {},
   "outputs": [],
   "source": [
    "# for lines that can't be programmatically mapped above, rename manually\n",
    "model2mc_dict={'ACH-002411': 'MC-002411-Xj7Q',\n",
    "'ACH-002415': 'MC-002415-MwHT',\n",
    "'ACH-002416': 'MC-002416-sOXV',\n",
    "'ACH-002418': 'MC-002418-FEiN',\n",
    "'ACH-000219': 'MC-000219-yd7j',\n",
    "'ACH-001163': 'MC-001163-vV3z',\n",
    "'ACH-001164': 'MC-001164-VOSE',\n",
    "'ACH-000614': 'MC-000614-7X1Q',\n",
    "'ACH-002410': 'MC-002410-gy9C',\n",
    "'ACH-002452': 'MC-002452-vQCK',\n",
    "'ACH-002454': 'MC-002454-LPKC',\n",
    "'ACH-002456': 'MC-002456-294k'}"
   ]
  },
  {
   "cell_type": "code",
   "execution_count": null,
   "id": "eb394267",
   "metadata": {},
   "outputs": [],
   "source": [
    "for i in broad_str[broad_str.model_condition_id.isna()].index:\n",
    "    if broad_str.loc[i, \"Arxspan ID\"] not in list(model2mc_dict.keys()):\n",
    "        print(\"no mapping available for \" + broad_str.loc[i, \"Arxspan ID\"])\n",
    "    else:\n",
    "        broad_str.loc[i, \"model_condition_id\"] = model2mc_dict[broad_str.loc[i, \"Arxspan ID\"]]"
   ]
  },
  {
   "cell_type": "code",
   "execution_count": null,
   "id": "7b25330c",
   "metadata": {},
   "outputs": [],
   "source": [
    "# combine \"annotation\" and \"notes\" to populate the \"comment\" column\n",
    "def combine_comments(row):\n",
    "    if pd.isnull(row[\"Notes\"]):\n",
    "        return row[\"Annotation\"]\n",
    "    else:\n",
    "        return row[\"Annotation\"] + \"; \" + row[\"Notes\"]\n",
    "\n",
    "broad_str[\"comments\"] = broad_str.apply(lambda x: combine_comments(x), axis=1)"
   ]
  },
  {
   "cell_type": "code",
   "execution_count": null,
   "id": "f8850c3e",
   "metadata": {},
   "outputs": [],
   "source": [
    "# all PRISM profiles shouldn't have MCs assigned yet\n",
    "broad_str.loc[broad_str[broad_str.source_group == \"PRISM\"].index.tolist(), \"model_condition_id\"] = np.nan"
   ]
  },
  {
   "cell_type": "code",
   "execution_count": null,
   "id": "5ae6a8fe",
   "metadata": {},
   "outputs": [],
   "source": [
    "# all DMX STR profiles are internal\n",
    "broad_str[\"source\"] = \"Internal\""
   ]
  },
  {
   "cell_type": "code",
   "execution_count": null,
   "id": "40d13bc4",
   "metadata": {},
   "outputs": [],
   "source": [
    "# drop columns that are not in gumbo\n",
    "broad_str = broad_str[[c for c in broad_str.columns if c in str_table.columns]]"
   ]
  },
  {
   "cell_type": "code",
   "execution_count": null,
   "id": "e60308f6",
   "metadata": {},
   "outputs": [],
   "source": [
    "broad_str"
   ]
  },
  {
   "cell_type": "code",
   "execution_count": null,
   "id": "8f276975",
   "metadata": {},
   "outputs": [],
   "source": [
    "broad_str[broad_str.source_group == \"PRISM\"]"
   ]
  },
  {
   "cell_type": "code",
   "execution_count": null,
   "id": "a5a56c84",
   "metadata": {},
   "outputs": [],
   "source": [
    "from depmap_omics_upload import tracker as track\n",
    "\n",
    "mytracker = track.SampleTracker(gumbo_env=\"staging\")\n",
    "\n",
    "mytracker.client.insert_only(\"str_profile\", broad_str)"
   ]
  },
  {
   "cell_type": "code",
   "execution_count": null,
   "id": "69ef34d3",
   "metadata": {},
   "outputs": [],
   "source": [
    "mytracker.client.commit()"
   ]
  },
  {
   "cell_type": "markdown",
   "id": "7dee6983",
   "metadata": {},
   "source": [
    "## Minerva"
   ]
  },
  {
   "cell_type": "code",
   "execution_count": null,
   "id": "45c23ac7",
   "metadata": {},
   "outputs": [],
   "source": [
    "str_col_rename_minerva = {\n",
    "                        'D3S1358': 'd3s1358', \n",
    "                        'TH01': 'th01', \n",
    "                        'D21S11': 'd21s11', \n",
    "                        'D18S51': 'd18s51', \n",
    "                        'Penta E': 'penta_e',\n",
    "                        'D5S818': 'd5s818', \n",
    "                        'D13S317': 'd13s317', \n",
    "                        'D7S820':'d7s820',\n",
    "                        'D16S539': 'd16s539', \n",
    "                        'CSF1PO':'csf1po', \n",
    "                        'Penta D': 'penta_d', \n",
    "                        'vWA': 'vwa',\n",
    "                        'D8S1179': 'd8s1179', \n",
    "                        'TPOX': 'tpox', \n",
    "                        'FGA': 'fga', \n",
    "                        'AMEL': 'amelogenin', \n",
    "                        'Mouse': 'mouse',\n",
    "                        'LabCorpSpecNbr': 'lab_corp_spec_nbr', \n",
    "                        'LabCorpCaseNbr': 'lab_corp_case_nbr',\n",
    "                        'Date Submitted': \"pellet_submitted_date\",\n",
    "                        'Date Collected': \"pellet_creation_date\",\n",
    "                        'SampleReferenceNbr': \"sample_reference\"}"
   ]
  },
  {
   "cell_type": "code",
   "execution_count": null,
   "id": "529f3592",
   "metadata": {},
   "outputs": [],
   "source": [
    "from gsheets import Sheets\n",
    "import numpy as np\n",
    "\n",
    "MY_ID = \"~/.client_secret.json\"\n",
    "MYSTORAGE_ID = \"~/.storage.json\"\n",
    "\n",
    "sheets = Sheets.from_files(MY_ID, MYSTORAGE_ID)\n",
    "\n",
    "minerva_str = sheets.get(\"https://docs.google.com/spreadsheets/d/1RsJS2e6zgyHwnt4bUyedYoyMbXMNbSmZfsr7SoSKn5U/edit?usp=sharing\").sheets[0].to_frame(index_col=0)[list(str_col_rename_minerva.keys())].rename(columns=str_col_rename_minerva)"
   ]
  },
  {
   "cell_type": "code",
   "execution_count": null,
   "id": "25dc49ed",
   "metadata": {},
   "outputs": [],
   "source": [
    "# add Arxspan id column\n",
    "minerva_str[\"Arxspan ID\"] = \"ACH-00\" + minerva_str.index.str.split(\"-\").str[0]"
   ]
  },
  {
   "cell_type": "code",
   "execution_count": null,
   "id": "0ef0ba0a",
   "metadata": {},
   "outputs": [],
   "source": [
    "# fill patient ids\n",
    "minerva_str[\"patient_id\"] = np.NaN\n",
    "for i in minerva_str.index:\n",
    "    arxs = minerva_str.loc[i, \"Arxspan ID\"]\n",
    "    patient_id = model_table.loc[arxs, \"PatientID\"]\n",
    "    minerva_str.loc[i, \"patient_id\"] = patient_id"
   ]
  },
  {
   "cell_type": "code",
   "execution_count": null,
   "id": "cad15440",
   "metadata": {},
   "outputs": [],
   "source": [
    "# attempts to fill mc-ids!\n",
    "# see under each model, if there's one and only one Broad MC:\n",
    "minerva_str[\"model_condition_id\"] = None\n",
    "for arxs in minerva_str[\"Arxspan ID\"].unique().tolist():\n",
    "    mcs = mc_table[(mc_table.ModelID == arxs) & (mc_table.expansion_team == \"Minerva\") & (mc_table.Source == \"BROAD\")]\n",
    "    if len(mcs) == 0:\n",
    "        print(str(arxs) + \": no Broad Minerva MC in gumbo!\")\n",
    "    elif len(mcs) > 1:\n",
    "        print(str(arxs) + \": multiple Broad Minerva MCs in gumbo!\")\n",
    "    else:\n",
    "        minerva_str.loc[minerva_str[\"Arxspan ID\"] == arxs, \"model_condition_id\"] = mcs.index.tolist()[0]"
   ]
  },
  {
   "cell_type": "code",
   "execution_count": null,
   "id": "0854bb42",
   "metadata": {},
   "outputs": [],
   "source": [
    "# rename values in mouse column:\n",
    "mouse_rename_dict = {\"NA*\": \"NA\", \"Negative\": \"Not Detected\", 'Not detected': 'Not Detected', \"POSITIVE\": \"Positive\", np.nan: \"NA\"}\n",
    "minerva_str[\"mouse\"] = minerva_str[\"mouse\"].replace(mouse_rename_dict)"
   ]
  },
  {
   "cell_type": "code",
   "execution_count": null,
   "id": "90424671",
   "metadata": {},
   "outputs": [],
   "source": [
    "# drop redundant columns\n",
    "minerva_str = minerva_str.drop(columns=[\"Arxspan ID\"])"
   ]
  },
  {
   "cell_type": "code",
   "execution_count": null,
   "id": "40b81e9d",
   "metadata": {},
   "outputs": [],
   "source": [
    "# fill in source, source group and is_ref columns\n",
    "minerva_str[\"source\"] = \"Internal\"\n",
    "minerva_str[\"source_group\"] = \"Minerva\"\n",
    "minerva_str[\"is_reference\"] = False"
   ]
  },
  {
   "cell_type": "code",
   "execution_count": null,
   "id": "1adc2418",
   "metadata": {},
   "outputs": [],
   "source": [
    "minerva_str"
   ]
  },
  {
   "cell_type": "code",
   "execution_count": null,
   "id": "6fc68ba9",
   "metadata": {},
   "outputs": [],
   "source": [
    "#mytracker.client.insert_only(\"str_profile\", minerva_str.loc[[\"2730-1\", \"2730-2\", \"2730-3\"]])"
   ]
  },
  {
   "cell_type": "code",
   "execution_count": null,
   "id": "3c392d07",
   "metadata": {},
   "outputs": [],
   "source": [
    "#mytracker.client.commit()"
   ]
  },
  {
   "cell_type": "markdown",
   "id": "646c4a81",
   "metadata": {},
   "source": [
    "## Mnemosyne"
   ]
  },
  {
   "cell_type": "code",
   "execution_count": null,
   "id": "7e527813",
   "metadata": {},
   "outputs": [],
   "source": [
    "from gsheets import Sheets\n",
    "import numpy as np\n",
    "\n",
    "MY_ID = \"~/.client_secret.json\"\n",
    "MYSTORAGE_ID = \"~/.storage.json\"\n",
    "\n",
    "sheets = Sheets.from_files(MY_ID, MYSTORAGE_ID)\n",
    "broad_str = sheets.get(broad_internal_str_url).sheets[0].to_frame()[list(str_col_rename.keys()) + [\"Arxspan ID\", \"Sample Reference\"]].rename(columns=str_col_rename)\n",
    "\n",
    "mnemosyne_str = sheets.get(\"https://docs.google.com/spreadsheets/d/1U9S8nvFj87ZcBelKabdMjjfjNUvBKq8Ja8hCWoLHgPw/edit#gid=1623015619\").sheets[0].to_frame(index_col=0)[list(str_col_rename_minerva.keys())].rename(columns=str_col_rename_minerva)"
   ]
  },
  {
   "cell_type": "code",
   "execution_count": null,
   "id": "ef02fb82",
   "metadata": {},
   "outputs": [],
   "source": [
    "# add Arxspan id column\n",
    "mnemosyne_str[\"Arxspan ID\"] = \"ACH-00\" + mnemosyne_str.index.str.split(\"-\").str[0]"
   ]
  },
  {
   "cell_type": "code",
   "execution_count": null,
   "id": "9f4f8544",
   "metadata": {},
   "outputs": [],
   "source": [
    "# fill patient ids\n",
    "print(\"indices not in gumbo: \")\n",
    "print(mnemosyne_str[~mnemosyne_str[\"Arxspan ID\"].isin(model_table.index.tolist())].index)\n",
    "\n",
    "mnemosyne_str[\"patient_id\"] = np.NaN\n",
    "mnemosyne_str = mnemosyne_str[mnemosyne_str[\"Arxspan ID\"].isin(model_table.index.tolist())]\n",
    "for i in mnemosyne_str.index:\n",
    "    arxs = mnemosyne_str.loc[i, \"Arxspan ID\"]\n",
    "    patient_id = model_table.loc[arxs, \"PatientID\"]\n",
    "    mnemosyne_str.loc[i, \"patient_id\"] = patient_id"
   ]
  },
  {
   "cell_type": "code",
   "execution_count": null,
   "id": "34429fed",
   "metadata": {},
   "outputs": [],
   "source": [
    "# attempts to fill mc-ids!\n",
    "# see under each model, if there's one and only one Broad MC:\n",
    "for arxs in mnemosyne_str[\"Arxspan ID\"].unique().tolist():\n",
    "    mcs = mc_table[(mc_table.ModelID == arxs) & (mc_table.expansion_team == \"Mnemosyne\") & (mc_table.Source == \"BROAD\")]\n",
    "    if len(mcs) == 0:\n",
    "        print(str(arxs) + \": no Broad Mnemosyne MC in gumbo!\")\n",
    "    elif len(mcs) > 1:\n",
    "        print(str(arxs) + \": multiple Broad Mnemosyne MCs in gumbo!\")\n",
    "    else:\n",
    "        mnemosyne_str.loc[mnemosyne_str[\"Arxspan ID\"] == arxs, \"model_condition_id\"] = mcs.index.tolist()[0]"
   ]
  },
  {
   "cell_type": "code",
   "execution_count": null,
   "id": "b302a51f",
   "metadata": {},
   "outputs": [],
   "source": [
    "# rename values in mouse column:\n",
    "mouse_rename_dict = {\"NA*\": \"NA\", \"Negative\": \"Not Detected\", 'Not detected': 'Not Detected', \"POSITIVE\": \"Positive\", np.nan: \"NA\"}\n",
    "mnemosyne_str[\"mouse\"] = mnemosyne_str[\"mouse\"].replace(mouse_rename_dict)"
   ]
  },
  {
   "cell_type": "code",
   "execution_count": null,
   "id": "9cc6f577",
   "metadata": {},
   "outputs": [],
   "source": [
    "# drop redundant columns\n",
    "mnemosyne_str = mnemosyne_str.drop(columns=[\"Arxspan ID\"])"
   ]
  },
  {
   "cell_type": "code",
   "execution_count": null,
   "id": "cba0f614",
   "metadata": {},
   "outputs": [],
   "source": [
    "# fill in source, source group and is_ref columns\n",
    "mnemosyne_str[\"source\"] = \"Internal\"\n",
    "mnemosyne_str[\"source_group\"] = \"Mnemosyne\"\n",
    "mnemosyne_str[\"is_reference\"] = False"
   ]
  },
  {
   "cell_type": "code",
   "execution_count": null,
   "id": "22dd800f",
   "metadata": {},
   "outputs": [],
   "source": [
    "mnemosyne_str"
   ]
  },
  {
   "cell_type": "markdown",
   "id": "f44f0c3d",
   "metadata": {},
   "source": [
    "## WGS derived"
   ]
  },
  {
   "cell_type": "code",
   "execution_count": null,
   "id": "ff54047a",
   "metadata": {},
   "outputs": [],
   "source": [
    "str_col_rename_omics = {'D3S1358': 'd3s1358', \n",
    "                  'TH01': 'th01', \n",
    "                  'D21S11': 'd21s11', \n",
    "                  'D18S51': 'd18s51', \n",
    "                  'PentaE': 'penta_e',\n",
    "                  'D5S818': 'd5s818', \n",
    "                  'D13S317': 'd13s317', \n",
    "                  'D7S820':'d7s820', \n",
    "                  'D16S539': 'd16s539', \n",
    "                  'CSF1PO':'csf1po', \n",
    "                  'PentaD': 'penta_d', \n",
    "                  'vWA': 'vwa',\n",
    "                  'D8S1179': 'd8s1179', \n",
    "                  'TPOX': 'tpox', \n",
    "                  'FGA': 'fga'}"
   ]
  },
  {
   "cell_type": "code",
   "execution_count": null,
   "id": "16758017",
   "metadata": {},
   "outputs": [],
   "source": [
    "import dalmatian as dm\n",
    "\n",
    "ws = dm.WorkspaceManager(\"broad-firecloud-ccle/DEV_DepMap_WGS_CN\")\n",
    "samples = ws.get_samples()"
   ]
  },
  {
   "cell_type": "code",
   "execution_count": null,
   "id": "f8235674",
   "metadata": {},
   "outputs": [],
   "source": [
    "wgs_str_hipstr = generateSTRRow(samples.iloc[:10], method=\"hipstr\")"
   ]
  },
  {
   "cell_type": "code",
   "execution_count": null,
   "id": "c2fd8b4d",
   "metadata": {},
   "outputs": [],
   "source": [
    "# replace \"NA\" with nan\n",
    "wgs_str_hipstr = wgs_str_hipstr.replace({\"NA\": np.nan})"
   ]
  },
  {
   "cell_type": "code",
   "execution_count": null,
   "id": "d009d64e",
   "metadata": {},
   "outputs": [],
   "source": [
    "# map patient and MC ids\n",
    "from depmap_omics_upload import tracker as track\n",
    "\n",
    "mytracker = track.SampleTracker(gumbo_env=\"staging\")\n",
    "\n",
    "seq_table = mytracker.read_seq_table()\n",
    "pr_table = mytracker.add_model_cols_to_prtable([\"ModelID\", \"PatientID\"])"
   ]
  },
  {
   "cell_type": "code",
   "execution_count": null,
   "id": "c855f6c3",
   "metadata": {},
   "outputs": [],
   "source": [
    "for i in wgs_str_hipstr.index:\n",
    "    pr_id = seq_table.loc[i, \"ProfileID\"]\n",
    "    wgs_str_hipstr.loc[i, \"patient_id\"] = pr_table.loc[pr_id, \"PatientID\"]\n",
    "    wgs_str_hipstr.loc[i, \"model_condition_id\"] = pr_table.loc[pr_id, \"ModelCondition\"]"
   ]
  },
  {
   "cell_type": "code",
   "execution_count": null,
   "id": "b10e6d29",
   "metadata": {},
   "outputs": [],
   "source": [
    "# rename columns into snake case\n",
    "wgs_str_hipstr = wgs_str_hipstr.rename(columns=str_col_rename_omics)"
   ]
  },
  {
   "cell_type": "code",
   "execution_count": null,
   "id": "d1f3c132",
   "metadata": {},
   "outputs": [],
   "source": [
    "# fill in source, source group and is_ref columns\n",
    "wgs_str_hipstr[\"source\"] = \"Internal\"\n",
    "wgs_str_hipstr[\"source_group\"] = \"WGS Inferred\"\n",
    "wgs_str_hipstr[\"is_reference\"] = False"
   ]
  },
  {
   "cell_type": "code",
   "execution_count": null,
   "id": "c996cd10",
   "metadata": {},
   "outputs": [],
   "source": [
    "# randomly generate indicies\n",
    "from depmap_omics_upload.mgenepy.utils import helper as h\n",
    "\n",
    "wgs_str_hipstr[\"id\"] = [\n",
    "        \"STR-\" + h.randomString(stringLength=6, stype=\"all\", withdigits=True)\n",
    "        for _ in range(len(wgs_str_hipstr))\n",
    "    ]"
   ]
  },
  {
   "cell_type": "code",
   "execution_count": null,
   "id": "80c84856",
   "metadata": {},
   "outputs": [],
   "source": [
    "for i in wgs_str_hipstr.index:\n",
    "    seq_table.loc[i, \"str_profile\"] = wgs_str_hipstr.loc[i, \"id\"]"
   ]
  },
  {
   "cell_type": "code",
   "execution_count": null,
   "id": "f5c72a43",
   "metadata": {},
   "outputs": [],
   "source": [
    "wgs_str_hipstr = wgs_str_hipstr.reset_index()\n",
    "wgs_str_hipstr = wgs_str_hipstr.drop(columns=\"sample_id\")"
   ]
  },
  {
   "cell_type": "code",
   "execution_count": null,
   "id": "bc3e4512",
   "metadata": {},
   "outputs": [],
   "source": []
  },
  {
   "cell_type": "code",
   "execution_count": null,
   "id": "ea89c0c5",
   "metadata": {},
   "outputs": [],
   "source": [
    "wgs_str_hipstr"
   ]
  },
  {
   "cell_type": "code",
   "execution_count": null,
   "id": "dd1804ce",
   "metadata": {},
   "outputs": [],
   "source": [
    "mytracker.client.insert_only(\"str_profile\", wgs_str_hipstr)"
   ]
  },
  {
   "cell_type": "code",
   "execution_count": null,
   "id": "f5c768b9",
   "metadata": {},
   "outputs": [],
   "source": [
    "mytracker.client.commit()"
   ]
  },
  {
   "cell_type": "code",
   "execution_count": null,
   "id": "b132c054",
   "metadata": {},
   "outputs": [],
   "source": [
    "mytracker.write_seq_table(seq_table)"
   ]
  },
  {
   "cell_type": "code",
   "execution_count": null,
   "id": "4cd38703",
   "metadata": {},
   "outputs": [],
   "source": []
  },
  {
   "cell_type": "markdown",
   "id": "d34fb1f2",
   "metadata": {},
   "source": [
    "# Assign reference"
   ]
  },
  {
   "cell_type": "code",
   "execution_count": null,
   "id": "f4a9cfcb",
   "metadata": {},
   "outputs": [],
   "source": [
    "from depmap_omics_upload import tracker as track\n",
    "\n",
    "mytracker = track.SampleTracker(gumbo_env=\"production\")\n",
    "\n",
    "mc_table = mytracker.read_mc_table()\n",
    "model_table = mytracker.read_model_table()"
   ]
  },
  {
   "cell_type": "code",
   "execution_count": null,
   "id": "1a32143b",
   "metadata": {},
   "outputs": [],
   "source": [
    "print(\"total number of patients: \")\n",
    "print(len(model_table.PatientID.unique()))"
   ]
  },
  {
   "cell_type": "code",
   "execution_count": null,
   "id": "441d53e3",
   "metadata": {},
   "outputs": [],
   "source": [
    "print(\"number of patients in DMX's sheet (minerva excluded): \")\n",
    "print(len(broad_str.patient_id.unique()))"
   ]
  },
  {
   "cell_type": "code",
   "execution_count": null,
   "id": "3069b3f7",
   "metadata": {},
   "outputs": [],
   "source": [
    "print(\"number of patients with multiple DMX STR profiles: \")\n",
    "print(len(broad_str[broad_str.patient_id.duplicated()].patient_id.unique()))"
   ]
  },
  {
   "cell_type": "code",
   "execution_count": null,
   "id": "efb41e8d",
   "metadata": {},
   "outputs": [],
   "source": [
    "tda_str = pd.concat([minerva_str, mnemosyne_str], ignore_index=True)"
   ]
  },
  {
   "cell_type": "code",
   "execution_count": null,
   "id": "5455308c",
   "metadata": {},
   "outputs": [],
   "source": [
    "tda_str"
   ]
  },
  {
   "cell_type": "code",
   "execution_count": null,
   "id": "4356546e",
   "metadata": {},
   "outputs": [],
   "source": [
    "print(\"number of patients with multiple STR profiles, between DMX and minerva/mnemosyne:\")\n",
    "tda_str[tda_str.patient_id.isin(broad_str.patient_id)].to_csv(\"tda_dups_dmx.csv\")"
   ]
  },
  {
   "cell_type": "code",
   "execution_count": null,
   "id": "18afc7a7",
   "metadata": {},
   "outputs": [],
   "source": []
  },
  {
   "cell_type": "code",
   "execution_count": null,
   "id": "e2967b05",
   "metadata": {},
   "outputs": [],
   "source": []
  }
 ],
 "metadata": {
  "kernelspec": {
   "display_name": "Python 3",
   "language": "python",
   "name": "python3"
  },
  "language_info": {
   "codemirror_mode": {
    "name": "ipython",
    "version": 3
   },
   "file_extension": ".py",
   "mimetype": "text/x-python",
   "name": "python",
   "nbconvert_exporter": "python",
   "pygments_lexer": "ipython3",
   "version": "3.8.13"
  }
 },
 "nbformat": 4,
 "nbformat_minor": 5
}
