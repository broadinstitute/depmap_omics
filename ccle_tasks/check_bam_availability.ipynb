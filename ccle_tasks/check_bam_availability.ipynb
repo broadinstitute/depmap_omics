{
 "cells": [
  {
   "cell_type": "code",
   "execution_count": null,
   "id": "14a78a7e",
   "metadata": {},
   "outputs": [],
   "source": [
    "from depmap_omics_upload import tracker\n",
    "import pandas as pd"
   ]
  },
  {
   "cell_type": "code",
   "execution_count": null,
   "id": "58af3e14",
   "metadata": {},
   "outputs": [],
   "source": [
    "mytracker = tracker.SampleTracker()\n",
    "seq_table = mytracker.add_model_cols_to_seqtable()\n",
    "seq_table = seq_table[(~seq_table.blacklist) & (seq_table.expected_type.isin([\"rna\", \"wgs\", \"wes\"]))]"
   ]
  },
  {
   "cell_type": "code",
   "execution_count": null,
   "id": "7b1ddb44",
   "metadata": {},
   "outputs": [],
   "source": [
    "pr_table = mytracker.add_model_cols_to_prtable()"
   ]
  },
  {
   "cell_type": "code",
   "execution_count": null,
   "id": "73e3c350",
   "metadata": {},
   "outputs": [],
   "source": [
    "from taigapy import TaigaClient\n",
    "tc = TaigaClient()\n",
    "\n",
    "OmicsDefaultModelProfiles = tc.get(name='internal-22q4-56d4', version=90, file='OmicsDefaultModelProfiles')"
   ]
  },
  {
   "cell_type": "code",
   "execution_count": null,
   "id": "5376d596",
   "metadata": {},
   "outputs": [],
   "source": [
    "OmicsDefaultModelProfiles"
   ]
  },
  {
   "cell_type": "code",
   "execution_count": null,
   "id": "993aeb5d",
   "metadata": {},
   "outputs": [],
   "source": [
    "seq_table"
   ]
  },
  {
   "cell_type": "code",
   "execution_count": null,
   "id": "722225cf",
   "metadata": {},
   "outputs": [],
   "source": [
    "lines_to_check = pd.read_csv(\"check_for_dbgap.csv\", index_col=0)\n",
    "lines_to_check['rna_bam'] = pd.NA\n",
    "lines_to_check['wgs_bam'] = pd.NA\n",
    "lines_to_check['wes_bam'] = pd.NA"
   ]
  },
  {
   "cell_type": "code",
   "execution_count": null,
   "id": "47e822ec",
   "metadata": {},
   "outputs": [],
   "source": [
    "from google.cloud import storage\n",
    "storage_client = storage.Client()\n",
    "bucket_name = 'cclebams'\n",
    "bucket = storage_client.bucket(bucket_name)"
   ]
  },
  {
   "cell_type": "code",
   "execution_count": null,
   "id": "9de3b8c3",
   "metadata": {},
   "outputs": [],
   "source": [
    "for i in lines_to_check.index:\n",
    "    rna = seq_table[(seq_table.ModelID == i) & (seq_table.expected_type == \"rna\")]\n",
    "    if len(rna) != 0:\n",
    "        rna_latestid = rna[\"version\"].idxmax()\n",
    "        bam_path = rna.loc[rna_latestid, \"bam_filepath\"]\n",
    "        relative_path = \"/\".join(bam_path.split(\"/\")[3:])\n",
    "        stats = storage.Blob(bucket=bucket, name=relative_path).exists(storage_client)\n",
    "        if stats == False:\n",
    "            print(bam_path + \" is missing\")\n",
    "        else:\n",
    "            lines_to_check.loc[i, 'rna_bam'] = bam_path\n",
    "    wgs = seq_table[(seq_table.ModelID == i) & (seq_table.expected_type == \"wgs\")]\n",
    "    if len(wgs) != 0:\n",
    "        wgs_latestid = wgs[\"version\"].idxmax()\n",
    "        bam_path = wgs.loc[wgs_latestid, \"bam_filepath\"]\n",
    "        relative_path = \"/\".join(bam_path.split(\"/\")[3:])\n",
    "        stats = storage.Blob(bucket=bucket, name=relative_path).exists(storage_client)\n",
    "        if stats == False:\n",
    "            print(bam_path + \" is missing\")\n",
    "        else:\n",
    "            lines_to_check.loc[i, 'wgs_bam'] = bam_path\n",
    "    wes = seq_table[(seq_table.ModelID == i) & (seq_table.expected_type == \"wes\")]\n",
    "    if len(wes) != 0:\n",
    "        wes_latestid = wes[\"version\"].idxmax()\n",
    "        bam_path = wes.loc[wes_latestid, \"bam_filepath\"]\n",
    "        relative_path = \"/\".join(bam_path.split(\"/\")[3:])\n",
    "        stats = storage.Blob(bucket=bucket, name=relative_path).exists(storage_client)\n",
    "        if stats == False:\n",
    "            print(bam_path + \" is missing\")\n",
    "        else:\n",
    "            lines_to_check.loc[i, 'wes_bam'] = bam_path"
   ]
  },
  {
   "cell_type": "code",
   "execution_count": null,
   "id": "7507aba2",
   "metadata": {},
   "outputs": [],
   "source": [
    "stats"
   ]
  },
  {
   "cell_type": "code",
   "execution_count": null,
   "id": "ee47a84f",
   "metadata": {},
   "outputs": [],
   "source": [
    "relative_path"
   ]
  },
  {
   "cell_type": "code",
   "execution_count": null,
   "id": "088a72b8",
   "metadata": {},
   "outputs": [],
   "source": [
    "storage.Blob(bucket=bucket, name='hg38_wes/CDS-4w5dFL.hg38.bam').exists(storage_client)"
   ]
  },
  {
   "cell_type": "code",
   "execution_count": null,
   "id": "8cc29129",
   "metadata": {},
   "outputs": [],
   "source": [
    "lines_to_check.to_csv(\"dbgap_line_availability.csv\")"
   ]
  },
  {
   "cell_type": "code",
   "execution_count": null,
   "id": "80a7317f",
   "metadata": {},
   "outputs": [],
   "source": [
    "# check CCLF line availability"
   ]
  },
  {
   "cell_type": "code",
   "execution_count": null,
   "id": "e591bd9e",
   "metadata": {},
   "outputs": [],
   "source": [
    "cclf_lines = pd.read_csv(\"List of CCLF Models_potentialDMC.csv\", index_col=0)"
   ]
  },
  {
   "cell_type": "code",
   "execution_count": null,
   "id": "0949b028",
   "metadata": {},
   "outputs": [],
   "source": [
    "model_table = mytracker.read_model_table()"
   ]
  },
  {
   "cell_type": "code",
   "execution_count": null,
   "id": "65054b29",
   "metadata": {},
   "outputs": [],
   "source": [
    "model_table[\"aliases\"] = model_table.cell_line_aliases.apply(lambda x: x.split(\", \") if x != None else [])"
   ]
  },
  {
   "cell_type": "code",
   "execution_count": null,
   "id": "3020804a",
   "metadata": {},
   "outputs": [],
   "source": [
    "aliases = set(model_table[\"aliases\"].sum())"
   ]
  },
  {
   "cell_type": "code",
   "execution_count": null,
   "id": "5e74b1cc",
   "metadata": {},
   "outputs": [],
   "source": [
    "cclf_lines[\"model_exists_in_gumbo\"] = \"No\""
   ]
  },
  {
   "cell_type": "code",
   "execution_count": null,
   "id": "3dc79b80",
   "metadata": {},
   "outputs": [],
   "source": [
    "cclf_lines.loc[cclf_lines[(cclf_lines[\"CCLF Publication ID\"].isin(set(model_table.CellLineName))) | (cclf_lines[\"CCLF Publication ID\"].isin(aliases))].index, \"model_exists_in_gumbo\"] = \"Yes\""
   ]
  },
  {
   "cell_type": "code",
   "execution_count": null,
   "id": "805fa3b9",
   "metadata": {},
   "outputs": [],
   "source": [
    "missing_arxspan = cclf_lines[(cclf_lines.model_exists_in_gumbo == \"Yes\") & (cclf_lines[\"Arxspan ID\"] == \"-\")]\n",
    "for i in missing_arxspan.index.tolist():\n",
    "    cclf_lines.loc[i, \"model_exists_in_gumbo\"] = \"Cell line name exists, arxspan ID in gumbo is \" + model_table[(model_table.CellLineName == cclf_lines.loc[i, \"CCLF Publication ID\"]) | (model_table.cell_line_aliases.str.contains(cclf_lines.loc[i, \"CCLF Publication ID\"]))].index.tolist()[0]"
   ]
  },
  {
   "cell_type": "code",
   "execution_count": null,
   "id": "87a6cd0a",
   "metadata": {},
   "outputs": [],
   "source": [
    "ach_cclfid_mismatch = cclf_lines[(cclf_lines.model_exists_in_gumbo == \"No\") & (cclf_lines[\"Arxspan ID\"] != \"-\")]\n",
    "for i in ach_cclfid_mismatch.index.tolist():\n",
    "    cclf_lines.loc[i, \"model_exists_in_gumbo\"] = \"Arxspan ID exists, but cell line name in gumbo is \" + model_table.loc[cclf_lines.loc[i, \"Arxspan ID\"], \"CellLineName\"]"
   ]
  },
  {
   "cell_type": "code",
   "execution_count": null,
   "id": "df5d5cb4",
   "metadata": {},
   "outputs": [],
   "source": [
    "cclf_lines[\"rnaseq_profile_available\"] = \"No\"\n",
    "cclf_lines[\"wes_profile_available\"] = \"No\"\n",
    "\n",
    "cclf_lines[\"rnaseq_profile_release_date\"] = \"\"\n",
    "cclf_lines[\"wes_profile_release_date\"] = \"\"\n",
    "\n",
    "for i in cclf_lines[cclf_lines[\"model_exists_in_gumbo\"] == \"Yes\"].index.tolist():\n",
    "    if cclf_lines.loc[i, \"Arxspan ID\"] != \"-\":\n",
    "        rna_prs = pr_table[(pr_table.Datatype == \"rna\") & (pr_table.ModelID == cclf_lines.loc[i, \"Arxspan ID\"]) & (pr_table.BlacklistOmics != True)]\n",
    "        if len(rna_prs) > 0:\n",
    "            dates = rna_prs.ConsortiumReleaseDate.astype(str).tolist()\n",
    "            if set(dates) == {\"None\"}:\n",
    "                cclf_lines.loc[i, \"rnaseq_profile_release_date\"] = \"Not assigned\"\n",
    "            else:\n",
    "                if \"None\" in dates:\n",
    "                    dates.remove(\"None\")\n",
    "                cclf_lines.loc[i, \"rnaseq_profile_release_date\"] = dates[0]\n",
    "            cclf_lines.loc[i, \"rnaseq_profile_available\"] = \"Yes\"\n",
    "        wes_prs = pr_table[(pr_table.Datatype == \"wes\") & (pr_table.ModelID == cclf_lines.loc[i, \"Arxspan ID\"]) & (pr_table.BlacklistOmics != True)]\n",
    "        if len(wes_prs) > 0:\n",
    "            dates = wes_prs.ConsortiumReleaseDate.astype(str).tolist()\n",
    "            if set(dates) == {\"None\"}:\n",
    "                cclf_lines.loc[i, \"wes_profile_release_date\"] = \"Not assigned\"\n",
    "            else:\n",
    "                if \"None\" in dates:\n",
    "                    dates.remove(\"None\")\n",
    "                cclf_lines.loc[i, \"wes_profile_release_date\"] = dates[0]\n",
    "            cclf_lines.loc[i, \"wes_profile_available\"] = \"Yes\"\n",
    "    else:\n",
    "        arxspan = model_table[(model_table.CellLineName == cclf_lines.loc[i, \"CCLF Publication ID\"]) | (model_table.cell_line_aliases.str.contains(cclf_lines.loc[i, \"CCLF Publication ID\"]))].index.tolist()[0]\n",
    "        rna_prs = pr_table[(pr_table.Datatype == \"rna\") & (pr_table.ModelID == arxspan) & (pr_table.BlacklistOmics != True)]\n",
    "        if len(rna_prs) > 0:\n",
    "            dates = rna_prs.ConsortiumReleaseDate.astype(str).tolist()\n",
    "            if set(dates) == {\"None\"}:\n",
    "                cclf_lines.loc[i, \"rnaseq_profile_release_date\"] = \"Not assigned\"\n",
    "            else:\n",
    "                if \"None\" in dates:\n",
    "                    dates.remove(\"None\")\n",
    "                cclf_lines.loc[i, \"rnaseq_profile_release_date\"] = dates[0]\n",
    "            cclf_lines.loc[i, \"rnaseq_profile_available\"] = \"Yes\"\n",
    "        wes_prs = pr_table[(pr_table.Datatype == \"wes\") & (pr_table.ModelID == arxspan) & (pr_table.BlacklistOmics != True)]\n",
    "        if len(wes_prs) > 0:\n",
    "            dates = wes_prs.ConsortiumReleaseDate.astype(str).tolist()\n",
    "            if set(dates) == {\"None\"}:\n",
    "                cclf_lines.loc[i, \"wes_profile_release_date\"] = \"Not assigned\"\n",
    "            else:\n",
    "                if \"None\" in dates:\n",
    "                    dates.remove(\"None\")\n",
    "                cclf_lines.loc[i, \"wes_profile_release_date\"] = dates[0]\n",
    "            cclf_lines.loc[i, \"wes_profile_available\"] = \"Yes\""
   ]
  },
  {
   "cell_type": "code",
   "execution_count": null,
   "id": "80be1e67",
   "metadata": {},
   "outputs": [],
   "source": [
    "for i in cclf_lines[(cclf_lines[\"Arxspan ID\"] != \"-\") & (cclf_lines[\"model_exists_in_gumbo\"] != \"Yes\")].index.tolist():\n",
    "    rna_prs = pr_table[(pr_table.Datatype == \"rna\") & (pr_table.ModelID == cclf_lines.loc[i, \"Arxspan ID\"]) & (pr_table.BlacklistOmics != True)]\n",
    "    if len(rna_prs) > 0:\n",
    "        dates = rna_prs.ConsortiumReleaseDate.astype(str).tolist()\n",
    "        if set(dates) == {\"None\"}:\n",
    "            cclf_lines.loc[i, \"rnaseq_profile_release_date\"] = \"Not assigned\"\n",
    "        else:\n",
    "            if \"None\" in dates:\n",
    "                dates.remove(\"None\")\n",
    "            cclf_lines.loc[i, \"rnaseq_profile_release_date\"] = dates[0]\n",
    "        cclf_lines.loc[i, \"rnaseq_profile_available\"] = \"Yes\"\n",
    "    wes_prs = pr_table[(pr_table.Datatype == \"wes\") & (pr_table.ModelID == cclf_lines.loc[i, \"Arxspan ID\"]) & (pr_table.BlacklistOmics != True)]\n",
    "    if len(wes_prs) > 0:\n",
    "        dates = wes_prs.ConsortiumReleaseDate.astype(str).tolist()\n",
    "        if set(dates) == {\"None\"}:\n",
    "            cclf_lines.loc[i, \"wes_profile_release_date\"] = \"Not assigned\"\n",
    "        else:\n",
    "            if \"None\" in dates:\n",
    "                dates.remove(\"None\")\n",
    "            cclf_lines.loc[i, \"wes_profile_release_date\"] = dates[0]\n",
    "        cclf_lines.loc[i, \"wes_profile_available\"] = \"Yes\""
   ]
  },
  {
   "cell_type": "code",
   "execution_count": null,
   "id": "fd055043",
   "metadata": {},
   "outputs": [],
   "source": [
    "cclf_lines[cclf_lines.rnaseq_profile_available == \"Yes\"]"
   ]
  },
  {
   "cell_type": "code",
   "execution_count": null,
   "id": "a2d8dc1b",
   "metadata": {},
   "outputs": [],
   "source": [
    "cclf_lines.to_csv(\"CCLF_availability.csv\")"
   ]
  },
  {
   "cell_type": "code",
   "execution_count": null,
   "id": "b56b29a0",
   "metadata": {},
   "outputs": [],
   "source": [
    "model_table.columns"
   ]
  },
  {
   "cell_type": "code",
   "execution_count": null,
   "id": "c935866f",
   "metadata": {},
   "outputs": [],
   "source": []
  }
 ],
 "metadata": {
  "kernelspec": {
   "display_name": "Python 3",
   "language": "python",
   "name": "python3"
  },
  "language_info": {
   "codemirror_mode": {
    "name": "ipython",
    "version": 3
   },
   "file_extension": ".py",
   "mimetype": "text/x-python",
   "name": "python",
   "nbconvert_exporter": "python",
   "pygments_lexer": "ipython3",
   "version": "3.8.13"
  }
 },
 "nbformat": 4,
 "nbformat_minor": 5
}
