{
 "cells": [
  {
   "cell_type": "code",
   "execution_count": null,
   "id": "14a78a7e",
   "metadata": {},
   "outputs": [],
   "source": [
    "from depmap_omics_upload import tracker\n",
    "import pandas as pd"
   ]
  },
  {
   "cell_type": "code",
   "execution_count": null,
   "id": "58af3e14",
   "metadata": {},
   "outputs": [],
   "source": [
    "mytracker = tracker.SampleTracker()\n",
    "seq_table = mytracker.add_model_cols_to_seqtable()\n",
    "seq_table = seq_table[(~seq_table.blacklist) & (seq_table.expected_type.isin([\"rna\", \"wgs\", \"wes\"]))]"
   ]
  },
  {
   "cell_type": "code",
   "execution_count": null,
   "id": "7b1ddb44",
   "metadata": {},
   "outputs": [],
   "source": [
    "pr_table = mytracker.add_model_cols_to_prtable()"
   ]
  },
  {
   "cell_type": "code",
   "execution_count": null,
   "id": "73e3c350",
   "metadata": {},
   "outputs": [],
   "source": [
    "from taigapy import TaigaClient\n",
    "tc = TaigaClient()\n",
    "\n",
    "OmicsDefaultModelProfiles = tc.get(name='internal-22q4-56d4', version=90, file='OmicsDefaultModelProfiles')"
   ]
  },
  {
   "cell_type": "code",
   "execution_count": null,
   "id": "5376d596",
   "metadata": {},
   "outputs": [],
   "source": [
    "OmicsDefaultModelProfiles"
   ]
  },
  {
   "cell_type": "code",
   "execution_count": null,
   "id": "993aeb5d",
   "metadata": {},
   "outputs": [],
   "source": [
    "seq_table"
   ]
  },
  {
   "cell_type": "code",
   "execution_count": null,
   "id": "722225cf",
   "metadata": {},
   "outputs": [],
   "source": [
    "lines_to_check = pd.read_csv(\"check_for_dbgap.csv\", index_col=0)\n",
    "lines_to_check['rna_bam'] = pd.NA\n",
    "lines_to_check['wgs_bam'] = pd.NA\n",
    "lines_to_check['wes_bam'] = pd.NA"
   ]
  },
  {
   "cell_type": "code",
   "execution_count": null,
   "id": "47e822ec",
   "metadata": {},
   "outputs": [],
   "source": [
    "from google.cloud import storage\n",
    "storage_client = storage.Client()\n",
    "bucket_name = 'cclebams'\n",
    "bucket = storage_client.bucket(bucket_name)"
   ]
  },
  {
   "cell_type": "code",
   "execution_count": null,
   "id": "9de3b8c3",
   "metadata": {},
   "outputs": [],
   "source": [
    "for i in lines_to_check.index:\n",
    "    rna = seq_table[(seq_table.ModelID == i) & (seq_table.expected_type == \"rna\")]\n",
    "    if len(rna) != 0:\n",
    "        rna_latestid = rna[\"version\"].idxmax()\n",
    "        bam_path = rna.loc[rna_latestid, \"bam_filepath\"]\n",
    "        relative_path = \"/\".join(bam_path.split(\"/\")[3:])\n",
    "        stats = storage.Blob(bucket=bucket, name=relative_path).exists(storage_client)\n",
    "        if stats == False:\n",
    "            print(bam_path + \" is missing\")\n",
    "        else:\n",
    "            lines_to_check.loc[i, 'rna_bam'] = bam_path\n",
    "    wgs = seq_table[(seq_table.ModelID == i) & (seq_table.expected_type == \"wgs\")]\n",
    "    if len(wgs) != 0:\n",
    "        wgs_latestid = wgs[\"version\"].idxmax()\n",
    "        bam_path = wgs.loc[wgs_latestid, \"bam_filepath\"]\n",
    "        relative_path = \"/\".join(bam_path.split(\"/\")[3:])\n",
    "        stats = storage.Blob(bucket=bucket, name=relative_path).exists(storage_client)\n",
    "        if stats == False:\n",
    "            print(bam_path + \" is missing\")\n",
    "        else:\n",
    "            lines_to_check.loc[i, 'wgs_bam'] = bam_path\n",
    "    wes = seq_table[(seq_table.ModelID == i) & (seq_table.expected_type == \"wes\")]\n",
    "    if len(wes) != 0:\n",
    "        wes_latestid = wes[\"version\"].idxmax()\n",
    "        bam_path = wes.loc[wes_latestid, \"bam_filepath\"]\n",
    "        relative_path = \"/\".join(bam_path.split(\"/\")[3:])\n",
    "        stats = storage.Blob(bucket=bucket, name=relative_path).exists(storage_client)\n",
    "        if stats == False:\n",
    "            print(bam_path + \" is missing\")\n",
    "        else:\n",
    "            lines_to_check.loc[i, 'wes_bam'] = bam_path"
   ]
  },
  {
   "cell_type": "code",
   "execution_count": null,
   "id": "7507aba2",
   "metadata": {},
   "outputs": [],
   "source": [
    "stats"
   ]
  },
  {
   "cell_type": "code",
   "execution_count": null,
   "id": "ee47a84f",
   "metadata": {},
   "outputs": [],
   "source": [
    "relative_path"
   ]
  },
  {
   "cell_type": "code",
   "execution_count": null,
   "id": "088a72b8",
   "metadata": {},
   "outputs": [],
   "source": [
    "storage.Blob(bucket=bucket, name='hg38_wes/CDS-4w5dFL.hg38.bam').exists(storage_client)"
   ]
  },
  {
   "cell_type": "code",
   "execution_count": null,
   "id": "8cc29129",
   "metadata": {},
   "outputs": [],
   "source": [
    "lines_to_check.to_csv(\"dbgap_line_availability.csv\")"
   ]
  },
  {
   "cell_type": "code",
   "execution_count": null,
   "id": "80a7317f",
   "metadata": {},
   "outputs": [],
   "source": [
    "# check CCLF line availability"
   ]
  },
  {
   "cell_type": "code",
   "execution_count": null,
   "id": "e591bd9e",
   "metadata": {},
   "outputs": [],
   "source": [
    "cclf_lines = pd.read_csv(\"List of CCLF Models_potentialDMC.csv\", index_col=0)"
   ]
  },
  {
   "cell_type": "code",
   "execution_count": null,
   "id": "0949b028",
   "metadata": {},
   "outputs": [],
   "source": [
    "model_table = mytracker.read_model_table()"
   ]
  },
  {
   "cell_type": "code",
   "execution_count": null,
   "id": "65054b29",
   "metadata": {},
   "outputs": [],
   "source": [
    "model_table[\"aliases\"] = model_table.cell_line_aliases.apply(lambda x: x.split(\", \") if x != None else [])"
   ]
  },
  {
   "cell_type": "code",
   "execution_count": null,
   "id": "3020804a",
   "metadata": {},
   "outputs": [],
   "source": [
    "aliases = set(model_table[\"aliases\"].sum())"
   ]
  },
  {
   "cell_type": "code",
   "execution_count": null,
   "id": "5e74b1cc",
   "metadata": {},
   "outputs": [],
   "source": [
    "cclf_lines[\"model_exists_in_gumbo\"] = \"No\""
   ]
  },
  {
   "cell_type": "code",
   "execution_count": null,
   "id": "3dc79b80",
   "metadata": {},
   "outputs": [],
   "source": [
    "cclf_lines.loc[cclf_lines[(cclf_lines[\"CCLF Publication ID\"].isin(set(model_table.CellLineName))) | (cclf_lines[\"CCLF Publication ID\"].isin(aliases))].index, \"model_exists_in_gumbo\"] = \"Yes\""
   ]
  },
  {
   "cell_type": "code",
   "execution_count": null,
   "id": "805fa3b9",
   "metadata": {},
   "outputs": [],
   "source": [
    "missing_arxspan = cclf_lines[(cclf_lines.model_exists_in_gumbo == \"Yes\") & (cclf_lines[\"Arxspan ID\"] == \"-\")]\n",
    "for i in missing_arxspan.index.tolist():\n",
    "    cclf_lines.loc[i, \"model_exists_in_gumbo\"] = \"Cell line name exists, arxspan ID in gumbo is \" + model_table[(model_table.CellLineName == cclf_lines.loc[i, \"CCLF Publication ID\"]) | (model_table.cell_line_aliases.str.contains(cclf_lines.loc[i, \"CCLF Publication ID\"]))].index.tolist()[0]"
   ]
  },
  {
   "cell_type": "code",
   "execution_count": null,
   "id": "87a6cd0a",
   "metadata": {},
   "outputs": [],
   "source": [
    "ach_cclfid_mismatch = cclf_lines[(cclf_lines.model_exists_in_gumbo == \"No\") & (cclf_lines[\"Arxspan ID\"] != \"-\")]\n",
    "for i in ach_cclfid_mismatch.index.tolist():\n",
    "    cclf_lines.loc[i, \"model_exists_in_gumbo\"] = \"Arxspan ID exists, but cell line name in gumbo is \" + model_table.loc[cclf_lines.loc[i, \"Arxspan ID\"], \"CellLineName\"]"
   ]
  },
  {
   "cell_type": "code",
   "execution_count": null,
   "id": "df5d5cb4",
   "metadata": {},
   "outputs": [],
   "source": [
    "cclf_lines[\"rnaseq_profile_available\"] = \"No\"\n",
    "cclf_lines[\"wes_profile_available\"] = \"No\"\n",
    "\n",
    "cclf_lines[\"rnaseq_profile_release_date\"] = \"\"\n",
    "cclf_lines[\"wes_profile_release_date\"] = \"\"\n",
    "\n",
    "for i in cclf_lines[cclf_lines[\"model_exists_in_gumbo\"] == \"Yes\"].index.tolist():\n",
    "    if cclf_lines.loc[i, \"Arxspan ID\"] != \"-\":\n",
    "        rna_prs = pr_table[(pr_table.Datatype == \"rna\") & (pr_table.ModelID == cclf_lines.loc[i, \"Arxspan ID\"]) & (pr_table.BlacklistOmics != True)]\n",
    "        if len(rna_prs) > 0:\n",
    "            dates = rna_prs.ConsortiumReleaseDate.astype(str).tolist()\n",
    "            if set(dates) == {\"None\"}:\n",
    "                cclf_lines.loc[i, \"rnaseq_profile_release_date\"] = \"Not assigned\"\n",
    "            else:\n",
    "                if \"None\" in dates:\n",
    "                    dates.remove(\"None\")\n",
    "                cclf_lines.loc[i, \"rnaseq_profile_release_date\"] = dates[0]\n",
    "            cclf_lines.loc[i, \"rnaseq_profile_available\"] = \"Yes\"\n",
    "        wes_prs = pr_table[(pr_table.Datatype == \"wes\") & (pr_table.ModelID == cclf_lines.loc[i, \"Arxspan ID\"]) & (pr_table.BlacklistOmics != True)]\n",
    "        if len(wes_prs) > 0:\n",
    "            dates = wes_prs.ConsortiumReleaseDate.astype(str).tolist()\n",
    "            if set(dates) == {\"None\"}:\n",
    "                cclf_lines.loc[i, \"wes_profile_release_date\"] = \"Not assigned\"\n",
    "            else:\n",
    "                if \"None\" in dates:\n",
    "                    dates.remove(\"None\")\n",
    "                cclf_lines.loc[i, \"wes_profile_release_date\"] = dates[0]\n",
    "            cclf_lines.loc[i, \"wes_profile_available\"] = \"Yes\"\n",
    "    else:\n",
    "        arxspan = model_table[(model_table.CellLineName == cclf_lines.loc[i, \"CCLF Publication ID\"]) | (model_table.cell_line_aliases.str.contains(cclf_lines.loc[i, \"CCLF Publication ID\"]))].index.tolist()[0]\n",
    "        rna_prs = pr_table[(pr_table.Datatype == \"rna\") & (pr_table.ModelID == arxspan) & (pr_table.BlacklistOmics != True)]\n",
    "        if len(rna_prs) > 0:\n",
    "            dates = rna_prs.ConsortiumReleaseDate.astype(str).tolist()\n",
    "            if set(dates) == {\"None\"}:\n",
    "                cclf_lines.loc[i, \"rnaseq_profile_release_date\"] = \"Not assigned\"\n",
    "            else:\n",
    "                if \"None\" in dates:\n",
    "                    dates.remove(\"None\")\n",
    "                cclf_lines.loc[i, \"rnaseq_profile_release_date\"] = dates[0]\n",
    "            cclf_lines.loc[i, \"rnaseq_profile_available\"] = \"Yes\"\n",
    "        wes_prs = pr_table[(pr_table.Datatype == \"wes\") & (pr_table.ModelID == arxspan) & (pr_table.BlacklistOmics != True)]\n",
    "        if len(wes_prs) > 0:\n",
    "            dates = wes_prs.ConsortiumReleaseDate.astype(str).tolist()\n",
    "            if set(dates) == {\"None\"}:\n",
    "                cclf_lines.loc[i, \"wes_profile_release_date\"] = \"Not assigned\"\n",
    "            else:\n",
    "                if \"None\" in dates:\n",
    "                    dates.remove(\"None\")\n",
    "                cclf_lines.loc[i, \"wes_profile_release_date\"] = dates[0]\n",
    "            cclf_lines.loc[i, \"wes_profile_available\"] = \"Yes\""
   ]
  },
  {
   "cell_type": "code",
   "execution_count": null,
   "id": "80be1e67",
   "metadata": {},
   "outputs": [],
   "source": [
    "for i in cclf_lines[(cclf_lines[\"Arxspan ID\"] != \"-\") & (cclf_lines[\"model_exists_in_gumbo\"] != \"Yes\")].index.tolist():\n",
    "    rna_prs = pr_table[(pr_table.Datatype == \"rna\") & (pr_table.ModelID == cclf_lines.loc[i, \"Arxspan ID\"]) & (pr_table.BlacklistOmics != True)]\n",
    "    if len(rna_prs) > 0:\n",
    "        dates = rna_prs.ConsortiumReleaseDate.astype(str).tolist()\n",
    "        if set(dates) == {\"None\"}:\n",
    "            cclf_lines.loc[i, \"rnaseq_profile_release_date\"] = \"Not assigned\"\n",
    "        else:\n",
    "            if \"None\" in dates:\n",
    "                dates.remove(\"None\")\n",
    "            cclf_lines.loc[i, \"rnaseq_profile_release_date\"] = dates[0]\n",
    "        cclf_lines.loc[i, \"rnaseq_profile_available\"] = \"Yes\"\n",
    "    wes_prs = pr_table[(pr_table.Datatype == \"wes\") & (pr_table.ModelID == cclf_lines.loc[i, \"Arxspan ID\"]) & (pr_table.BlacklistOmics != True)]\n",
    "    if len(wes_prs) > 0:\n",
    "        dates = wes_prs.ConsortiumReleaseDate.astype(str).tolist()\n",
    "        if set(dates) == {\"None\"}:\n",
    "            cclf_lines.loc[i, \"wes_profile_release_date\"] = \"Not assigned\"\n",
    "        else:\n",
    "            if \"None\" in dates:\n",
    "                dates.remove(\"None\")\n",
    "            cclf_lines.loc[i, \"wes_profile_release_date\"] = dates[0]\n",
    "        cclf_lines.loc[i, \"wes_profile_available\"] = \"Yes\""
   ]
  },
  {
   "cell_type": "code",
   "execution_count": null,
   "id": "fd055043",
   "metadata": {},
   "outputs": [],
   "source": [
    "cclf_lines[cclf_lines.rnaseq_profile_available == \"Yes\"]"
   ]
  },
  {
   "cell_type": "code",
   "execution_count": null,
   "id": "a2d8dc1b",
   "metadata": {},
   "outputs": [],
   "source": [
    "cclf_lines.to_csv(\"CCLF_availability.csv\")"
   ]
  },
  {
   "cell_type": "code",
   "execution_count": null,
   "id": "b56b29a0",
   "metadata": {},
   "outputs": [],
   "source": [
    "# check if files exist in terra workspace\n",
    "import dalmatian as dm"
   ]
  },
  {
   "cell_type": "code",
   "execution_count": null,
   "id": "c935866f",
   "metadata": {},
   "outputs": [],
   "source": [
    "wm = dm.WorkspaceManager(\"nci-mimoun-bi-org/CCLF_WES\")\n",
    "samples_delivered = wm.get_samples()"
   ]
  },
  {
   "cell_type": "code",
   "execution_count": null,
   "id": "820a8560",
   "metadata": {},
   "outputs": [],
   "source": [
    "wm_ge = dm.WorkspaceManager(\"terra-broad-cancer-prod/CCLF_Bass_GE_ModelCharacterization\")\n",
    "samples_delivered_ge = wm_ge.get_samples()"
   ]
  },
  {
   "cell_type": "code",
   "execution_count": null,
   "id": "4f04fad6",
   "metadata": {},
   "outputs": [],
   "source": [
    "samples_delivered[\"rna_bam_fn\"] = samples_delivered[\"bam_file_rna\"].apply(lambda x: x.split(\"/\")[-1] if not pd.isna(x) else \"None\")\n",
    "samples_delivered[\"wes_bam_fn\"] = samples_delivered[\"formatted_bam_file\"].apply(lambda x: x.split(\"/\")[-1] if not pd.isna(x) else \"None\")"
   ]
  },
  {
   "cell_type": "code",
   "execution_count": null,
   "id": "81f6631c",
   "metadata": {},
   "outputs": [],
   "source": [
    "samples_delivered_ge[\"bam_fn\"] = samples_delivered_ge[\"cram_or_bam_path\"].apply(lambda x: x.split(\"/\")[-1] if not pd.isna(x) else \"None\")"
   ]
  },
  {
   "cell_type": "code",
   "execution_count": null,
   "id": "e537c846",
   "metadata": {},
   "outputs": [],
   "source": [
    "cclf_lines[\"rna_bam_in_cclf_workspace\"] = [dict() for _ in range(cclf_lines.shape[0])]\n",
    "cclf_lines[\"wes_bam_in_cclf_workspace\"] = [dict() for _ in range(cclf_lines.shape[0])]"
   ]
  },
  {
   "cell_type": "code",
   "execution_count": null,
   "id": "82e9cf69",
   "metadata": {},
   "outputs": [],
   "source": [
    "for i in cclf_lines.index:\n",
    "    bamname = i + \".bam\"\n",
    "    rnabams = samples_delivered[samples_delivered.rna_bam_fn.str.startswith(i)]\n",
    "    wesbams = samples_delivered[samples_delivered.wes_bam_fn.str.startswith(i)]\n",
    "    if len(rnabams) > 0:\n",
    "        cclf_lines.loc[i, \"rna_bam_in_cclf_workspace\"][\"CCLF_WES\"] = rnabams.index.tolist()\n",
    "    if len(wesbams) > 0:\n",
    "        cclf_lines.loc[i, \"wes_bam_in_cclf_workspace\"][\"CCLF_WES\"] = wesbams.index.tolist()"
   ]
  },
  {
   "cell_type": "code",
   "execution_count": null,
   "id": "78239dfb",
   "metadata": {},
   "outputs": [],
   "source": [
    "# second workspace\n",
    "for i in cclf_lines.index:\n",
    "    bamname = i + \".bam\"\n",
    "    rnabams = samples_delivered_ge[(samples_delivered_ge.data_type == \"RNA\") & (samples_delivered_ge.bam_fn.str.startswith(i))]\n",
    "    wesbams = samples_delivered_ge[(samples_delivered_ge.data_type == \"WES\") & (samples_delivered_ge.bam_fn.str.startswith(i))]\n",
    "    if len(rnabams) > 0:\n",
    "        cclf_lines.loc[i, \"rna_bam_in_cclf_workspace\"][\"CCLF_Bass_GE_ModelCharacterization\"] = rnabams.index.tolist()\n",
    "    if len(wesbams) > 0:\n",
    "        cclf_lines.loc[i, \"wes_bam_in_cclf_workspace\"][\"CCLF_Bass_GE_ModelCharacterization\"] = wesbams.index.tolist()"
   ]
  },
  {
   "cell_type": "code",
   "execution_count": null,
   "id": "7e3bfc77",
   "metadata": {},
   "outputs": [],
   "source": [
    "# third workspace, RNAseq only\n",
    "wm_rnaseq = dm.WorkspaceManager(\"broad-genomics-delivery/Cancer_Cell_Line_Factory_CCLF_RNAseq\")\n",
    "samples_delivered_rnaseq = wm_rnaseq.get_samples()\n",
    "samples_delivered_rnaseq[\"bam_fn\"] = samples_delivered_rnaseq[\"cram_or_bam_path\"].apply(lambda x: x.split(\"/\")[-1] if not pd.isna(x) else \"None\")"
   ]
  },
  {
   "cell_type": "code",
   "execution_count": null,
   "id": "4dd25696",
   "metadata": {},
   "outputs": [],
   "source": [
    "for i in cclf_lines.index:\n",
    "    bamname = i + \".bam\"\n",
    "    rnabams = samples_delivered_rnaseq[(samples_delivered_rnaseq.data_type == \"RNA\") & (samples_delivered_rnaseq.bam_fn.str.startswith(i))]\n",
    "    if len(rnabams) > 0:\n",
    "        cclf_lines.loc[i, \"rna_bam_in_cclf_workspace\"][\"Cancer_Cell_Line_Factory_CCLF_RNAseq\"] = rnabams.index.tolist()"
   ]
  },
  {
   "cell_type": "code",
   "execution_count": null,
   "id": "f7e3372e",
   "metadata": {},
   "outputs": [],
   "source": [
    "# fourth workspace, WES only\n",
    "wm_wes = dm.WorkspaceManager(\"terra-broad-cancer-prod/Cancer_Cell_Line_Factory_CCLF_Sequencing\")\n",
    "samples_delivered_wes = wm_wes.get_samples()\n",
    "samples_delivered_wes[\"bam_fn\"] = samples_delivered_wes[\"cram_or_bam_path\"].apply(lambda x: x.split(\"/\")[-1] if not pd.isna(x) else \"None\")"
   ]
  },
  {
   "cell_type": "code",
   "execution_count": null,
   "id": "aaed7b66",
   "metadata": {},
   "outputs": [],
   "source": [
    "samples_delivered_wes.loc[\"RP-571_DW036T_v1_Exome_OnPrem\", \"bam_fn\"]"
   ]
  },
  {
   "cell_type": "code",
   "execution_count": null,
   "id": "247938e4",
   "metadata": {},
   "outputs": [],
   "source": [
    "for i in cclf_lines.index:\n",
    "    bamname = i + \".bam\"\n",
    "    wesbams = samples_delivered_wes[(samples_delivered_wes.bam_fn.str.startswith(i))]\n",
    "    if len(wesbams) > 0:\n",
    "        cclf_lines.loc[i, \"wes_bam_in_cclf_workspace\"][\"Cancer_Cell_Line_Factory_CCLF_Sequencing\"] = wesbams.index.tolist()"
   ]
  },
  {
   "cell_type": "code",
   "execution_count": null,
   "id": "1bfeeda9",
   "metadata": {},
   "outputs": [],
   "source": [
    "cclf_lines"
   ]
  },
  {
   "cell_type": "code",
   "execution_count": null,
   "id": "b707cb47",
   "metadata": {},
   "outputs": [],
   "source": [
    "cclf_lines[(cclf_lines[\"rnaseq_profile_available\"] == \"No\") & (cclf_lines[\"rna_bam_in_cclf_workspace\"].astype(str) == \"{}\")]"
   ]
  },
  {
   "cell_type": "code",
   "execution_count": null,
   "id": "a280b982",
   "metadata": {},
   "outputs": [],
   "source": [
    "cclf_lines[(cclf_lines[\"wes_profile_available\"] == \"No\") & (cclf_lines[\"wes_bam_in_cclf_workspace\"].astype(str) == \"{}\")]"
   ]
  },
  {
   "cell_type": "code",
   "execution_count": null,
   "id": "5c371034",
   "metadata": {},
   "outputs": [],
   "source": [
    "cclf_lines.to_csv(\"CCLF_availability.csv\")"
   ]
  },
  {
   "cell_type": "code",
   "execution_count": null,
   "id": "ab445577",
   "metadata": {},
   "outputs": [],
   "source": []
  },
  {
   "cell_type": "code",
   "execution_count": null,
   "id": "e12ccd45",
   "metadata": {},
   "outputs": [],
   "source": []
  },
  {
   "cell_type": "code",
   "execution_count": null,
   "id": "57797b92",
   "metadata": {},
   "outputs": [],
   "source": []
  },
  {
   "cell_type": "code",
   "execution_count": null,
   "id": "9e7e624f",
   "metadata": {},
   "outputs": [],
   "source": []
  },
  {
   "cell_type": "code",
   "execution_count": null,
   "id": "59df90b5",
   "metadata": {},
   "outputs": [],
   "source": []
  }
 ],
 "metadata": {
  "kernelspec": {
   "display_name": "Python 3",
   "language": "python",
   "name": "python3"
  },
  "language_info": {
   "codemirror_mode": {
    "name": "ipython",
    "version": 3
   },
   "file_extension": ".py",
   "mimetype": "text/x-python",
   "name": "python",
   "nbconvert_exporter": "python",
   "pygments_lexer": "ipython3",
   "version": "3.8.13"
  }
 },
 "nbformat": 4,
 "nbformat_minor": 5
}
