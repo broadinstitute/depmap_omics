{
 "cells": [
  {
   "cell_type": "code",
   "execution_count": null,
   "metadata": {},
   "outputs": [],
   "source": [
    "import pysam\n",
    "import numpy as np\n",
    "import pandas as pd\n",
    "import os \n",
    "import re\n",
    "import signal\n",
    "%load_ext autoreload\n",
    "%autoreload 2\n",
    "import sys\n",
    "sys.path.append('..')\n",
    "from JKBio import GCPFunction as gcp\n",
    "from JKBio import Helper as h"
   ]
  },
  {
   "cell_type": "code",
   "execution_count": null,
   "metadata": {},
   "outputs": [],
   "source": [
    "%store -r sizes"
   ]
  },
  {
   "cell_type": "code",
   "execution_count": null,
   "metadata": {},
   "outputs": [],
   "source": [
    "h.parrun(['export GCS_OAUTH_TOKEN=`gcloud auth application-default print-access-token` && samtools index '+val+' '+val[:-3]+'bai' for n, val in enumerate(sizes) if n> 3120],cores=20)"
   ]
  },
  {
   "cell_type": "code",
   "execution_count": null,
   "metadata": {},
   "outputs": [],
   "source": [
    "val = \"gs://ccle_bams/rna/G27205.SNU-1105.1.bam\"\n",
    "os.popen('export GCS_OAUTH_TOKEN=`gcloud auth application-default print-access-token` && samtools index '+val+' '+val[:-3]+'bai').read()"
   ]
  },
  {
   "cell_type": "code",
   "execution_count": null,
   "metadata": {},
   "outputs": [],
   "source": [
    "for n, val in enumerate(sizes):\n",
    "    if val==\"gs://ccle_bams/rna/G27205.SNU-1105.1.bam\":\n",
    "        print(n)"
   ]
  },
  {
   "cell_type": "code",
   "execution_count": null,
   "metadata": {},
   "outputs": [],
   "source": [
    "h.parrun(['export GCS_OAUTH_TOKEN=`gcloud auth application-default print-access-token` && samtools index '+val+' '+val[:-3]+'bai' for n, val in enumerate(sizes) if n> 3120],cores=20)\n",
    "\n"
   ]
  },
  {
   "cell_type": "code",
   "execution_count": null,
   "metadata": {},
   "outputs": [],
   "source": [
    "redo = [\"gs://ccle_bams/rna/G28531.NALM-19.1.bam\",\n",
    "\"gs://ccle_bams/rna/G27483.S-117.2.bam\",\n",
    "\"gs://ccle_bams/rna/G27299.BICR_56.1.bam\",\n",
    "\"gs://ccle_bams/rna/G27302.FTC-238.1.bam\",\n",
    "\"gs://ccle_bams/rna/G41683.HUP-T4.5.bam\",\n",
    "\"gs://ccle_bams/rna/G41678.SF-295.5.bam\",\n",
    "\"gs://ccle_bams/rna/G35078.HDLM-2.bam\",\n",
    "\"gs://ccle_bams/rna/G41663.OVISE.5.bam\",\n",
    "\"gs://ccle_bams/rna/G41672.SK-MEL-5.5.bam\",\n",
    "\"gs://ccle_bams/rna/Getz_IBM_CellLines_RNASeqData_39samples_08102018/G141708/NA/DOTC24510/v2/DOTC24510.bam\"]\n",
    "\n",
    "h.parrun(['export GCS_OAUTH_TOKEN=`gcloud auth application-default print-access-token` && samtools index '+val+' '+val[:-3]+'bai' for n, val in enumerate(redo)],cores=20)"
   ]
  },
  {
   "cell_type": "code",
   "execution_count": null,
   "metadata": {},
   "outputs": [],
   "source": []
  }
 ],
 "metadata": {
  "kernelspec": {
   "display_name": "Python 3",
   "language": "python",
   "name": "python3"
  },
  "language_info": {
   "codemirror_mode": {
    "name": "ipython",
    "version": 3
   },
   "file_extension": ".py",
   "mimetype": "text/x-python",
   "name": "python",
   "nbconvert_exporter": "python",
   "pygments_lexer": "ipython3",
   "version": "3.7.6"
  },
  "toc": {
   "base_numbering": 1,
   "nav_menu": {},
   "number_sections": true,
   "sideBar": true,
   "skip_h1_title": false,
   "title_cell": "Table of Contents",
   "title_sidebar": "Contents",
   "toc_cell": false,
   "toc_position": {},
   "toc_section_display": true,
   "toc_window_display": false
  }
 },
 "nbformat": 4,
 "nbformat_minor": 4
}
