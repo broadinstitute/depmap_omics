{
 "cells": [
  {
   "cell_type": "code",
   "execution_count": null,
   "metadata": {},
   "outputs": [],
   "source": [
    "from __future__ import print_function\n",
    "import os.path\n",
    "import dalmatian as dm\n",
    "import pandas as pd\n",
    "import sys\n",
    "from src.CCLE_postp_function import *\n",
    "sys.path.insert(0, '../JKBio/')\n",
    "import Datanalytics as da \n",
    "import TerraFunction as terra\n",
    "%load_ext autoreload\n",
    "%autoreload 2\n",
    "%load_ext rpy2.ipython\n",
    "from taigapy import TaigaClient\n",
    "from IPython.display import Image,display\n",
    "tc = TaigaClient()\n",
    "import numpy as np\n",
    "from gsheets import Sheets\n",
    "sheets = Sheets.from_files('~/.client_secret.json', '~/.storage.json')\n",
    "replace = {'T': 'Tumor', 'N': 'Normal', 'm': 'Unknown', 'L': 'Unknown'}"
   ]
  },
  {
   "cell_type": "code",
   "execution_count": null,
   "metadata": {},
   "outputs": [],
   "source": [
    "samplesetname = \"19Q4\"\n",
    "prevname=\"19Q3\"\n",
    "prevprevname ='19Q2'\n",
    "virtual_public='public-19q4-93d9'\n",
    "virtual_dmc='dmc-19q4-d5f3'\n",
    "virtual_internal='internal-19q4-fb11'\n",
    "\n",
    "workspace1=\"broad-genomics-delivery/Getz_IBM_CellLines_Exomes\"\n",
    "workspace2=\"broad-firecloud-ccle/CCLE_DepMap_WES\"\n",
    "workspace3=\"broad-genomics-delivery/CCLE_DepMap_WES\"\n",
    "refworkspace=\"broad-firecloud-ccle/DepMap_Mutation_Calling_CGA_pipeline\"\n",
    "source1=\"ibm\"\n",
    "source2=\"ccle\"\n",
    "source3=\"ccle\"\n",
    "sheeturl = \"https://docs.google.com/spreadsheets/d/115TUgA1t_mD32SnWAGpW9OKmJ2W5WYAOs3SuSdedpX4\"\n",
    "release = samplesetname"
   ]
  },
  {
   "cell_type": "code",
   "execution_count": null,
   "metadata": {},
   "outputs": [],
   "source": [
    "%%R\n",
    "release <- '19Q4'\n",
    "prevname <- '19Q3'\n",
    "genome_version <- 'hg19'"
   ]
  },
  {
   "cell_type": "markdown",
   "metadata": {
    "variables": {
     "samplesetname": "19Q4"
    }
   },
   "source": [
    "# Processing release {{samplesetname}}"
   ]
  },
  {
   "cell_type": "code",
   "execution_count": null,
   "metadata": {},
   "outputs": [],
   "source": [
    "wm1 = dm.WorkspaceManager(workspace1)\n",
    "wm2 = dm.WorkspaceManager(workspace2)\n",
    "wm3 = dm.WorkspaceManager(workspace3)\n",
    "\n",
    "refwm = dm.WorkspaceManager(refworkspace)"
   ]
  },
  {
   "cell_type": "code",
   "execution_count": null,
   "metadata": {},
   "outputs": [],
   "source": [
    "extract_to_change = {'ref_bams':'WES_bam'}"
   ]
  },
  {
   "cell_type": "code",
   "execution_count": null,
   "metadata": {},
   "outputs": [],
   "source": [
    "newsamples = createDatasetWithNewCellLines(refwm, samplesetname, [wm1], [source1], match='ACH', participantslicepos=10, accept_unknowntypes=True, gsfolderto=\"gs://ccle_bams/wes/\",extract=extract_to_change,\n",
    "                                          dry_run=True)"
   ]
  },
  {
   "cell_type": "code",
   "execution_count": null,
   "metadata": {},
   "outputs": [],
   "source": [
    "newsamples = createDatasetWithNewCellLines(refwm, samplesetname, [wm1, wm2, wm3], [source1, source2, source3], match='ACH', participantslicepos=10, accept_unknowntypes=True, gsfolderto=\"gs://ccle_bams/wes/\",extract=extract_to_change,\n",
    "                                          dry_run=True)"
   ]
  },
  {
   "cell_type": "markdown",
   "metadata": {},
   "source": [
    "## update all sample set"
   ]
  },
  {
   "cell_type": "code",
   "execution_count": null,
   "metadata": {},
   "outputs": [],
   "source": [
    "refwm.update_sample_set('All_samples',refwm.get_samples().index.tolist())"
   ]
  },
  {
   "cell_type": "markdown",
   "metadata": {},
   "source": [
    "## Check that we have all the cell lines we expect for this release\n",
    "This involves comparing to the list in the Google sheet \"Cell Line Profiling Status.\""
   ]
  },
  {
   "cell_type": "code",
   "execution_count": null,
   "metadata": {},
   "outputs": [],
   "source": [
    "# this function may not work - it hasn't been tested\n",
    "url = 'https://docs.google.com/spreadsheets/d/1qus-9TKzqzwUMNWp8S1QP4s4-3SsMo2vuQRZrNXf7ag/edit?ts=5db85e27#gid=0&fvid=1627883727'\n",
    "\n",
    "compareToCuratedGS(url, sample = newsample[0], samplesetname = samplesetname, colname = 'CN New to internal')"
   ]
  },
  {
   "cell_type": "markdown",
   "metadata": {},
   "source": [
    "# Run the pipeline"
   ]
  },
  {
   "cell_type": "code",
   "execution_count": null,
   "metadata": {},
   "outputs": [],
   "source": [
    "submission_id = refwm.create_submission(\"CGA_WES_CCLE_Characterization_Pipeline_v0.1_Jul2019\", samplesetname,'sample_set',expression='this.samples')\n",
    "terra.waitForSubmission(refworkspace, submission_id)"
   ]
  },
  {
   "cell_type": "code",
   "execution_count": null,
   "metadata": {},
   "outputs": [],
   "source": [
    "submission_id = refwm.create_submission(\"common_variant_filter\", samplesetname, 'sample_set', expression='this.samples')\n",
    "terra.waitForSubmission(refworkspace, submission_id)"
   ]
  },
  {
   "cell_type": "code",
   "execution_count": null,
   "metadata": {},
   "outputs": [],
   "source": [
    "submission_id = refwm.create_submission(\"filterMAF_on_CGA_pipeline\", samplesetname,'sample_set',expression='this.samples')\n",
    "terra.waitForSubmission(refworkspace, submission_id)"
   ]
  },
  {
   "cell_type": "markdown",
   "metadata": {},
   "source": [
    "### filtered"
   ]
  },
  {
   "cell_type": "code",
   "execution_count": null,
   "metadata": {},
   "outputs": [],
   "source": [
    "submission_id1 = refwm.create_submission(\"aggregateMAFs_selectFields_copy\", samplesetname)"
   ]
  },
  {
   "cell_type": "markdown",
   "metadata": {},
   "source": [
    "### unfiltered"
   ]
  },
  {
   "cell_type": "code",
   "execution_count": null,
   "metadata": {},
   "outputs": [],
   "source": [
    "submission_id2 = refwm.create_submission(\"aggregateMAFs_selectFields_unfiltered\", samplesetname)"
   ]
  },
  {
   "cell_type": "code",
   "execution_count": null,
   "metadata": {},
   "outputs": [],
   "source": [
    "terra.waitForSubmission(refworkspace, [submission_id1,submission_id2])"
   ]
  },
  {
   "cell_type": "markdown",
   "metadata": {},
   "source": [
    "### Save the workflow configurations used"
   ]
  },
  {
   "cell_type": "code",
   "execution_count": null,
   "metadata": {},
   "outputs": [],
   "source": [
    "terra.saveConfigs(refworkspace,'./data/'+samplesetname+'/Mutconfig')"
   ]
  },
  {
   "cell_type": "markdown",
   "metadata": {},
   "source": [
    "# Downloading from terra"
   ]
  },
  {
   "cell_type": "code",
   "execution_count": null,
   "metadata": {},
   "outputs": [],
   "source": [
    "res = refwm.get_sample_sets().loc[release]\n",
    "res"
   ]
  },
  {
   "cell_type": "code",
   "execution_count": null,
   "metadata": {},
   "outputs": [],
   "source": [
    "filtered = res['filtered_CGA_MAF_aggregated']\n",
    "unfiltered = res['unfiltered_CGA_MAF_aggregated']\n",
    "\n",
    "! gsutil cp $filtered \"temp/mutation_filtered_terra_merged.txt\"\n",
    "! gsutil cp $unfiltered \"temp/mutation_unfiltered_terra_merged.txt\""
   ]
  },
  {
   "cell_type": "markdown",
   "metadata": {},
   "source": [
    "###### retrieving RNAseq MAFs"
   ]
  },
  {
   "cell_type": "code",
   "execution_count": null,
   "metadata": {},
   "outputs": [],
   "source": []
  },
  {
   "cell_type": "code",
   "execution_count": null,
   "metadata": {},
   "outputs": [],
   "source": []
  },
  {
   "cell_type": "markdown",
   "metadata": {},
   "source": [
    "# postprocessing"
   ]
  },
  {
   "cell_type": "code",
   "execution_count": null,
   "metadata": {},
   "outputs": [],
   "source": [
    "a = pd.read_csv('temp/mutation_filtered_terra_merged.txt',sep='\\t')"
   ]
  },
  {
   "cell_type": "code",
   "execution_count": null,
   "metadata": {},
   "outputs": [],
   "source": [
    "a.Tumor_Sample_Barcode = [i.split('_') for i in a.Tumor_Sample_Barcode]"
   ]
  },
  {
   "cell_type": "code",
   "execution_count": null,
   "metadata": {},
   "outputs": [],
   "source": [
    "a.to_csv('temp/mutation_filtered_terra_merged.txt',sep='\\t')"
   ]
  },
  {
   "cell_type": "code",
   "execution_count": null,
   "metadata": {},
   "outputs": [],
   "source": [
    "%%R\n",
    "source('../gkugener/RScripts/load_libraries_and_annotations.R')\n",
    "load('../gkugener/DM_OMICS/Annotations.RData') \n",
    "# There are some cell lines the celllinemapr does not know how to map so we need to load this data object for now (from old datasets)\n",
    "source('src/CCLE_postp_function.R')\n",
    "library(tidyverse)\n",
    "library(data.table)\n",
    "library(magrittr)\n",
    "library(taigr)\n",
    "library(cdsomics)\n",
    "library(celllinemapr) # To pull out DepMap_IDs from CCLE_names where needed"
   ]
  },
  {
   "cell_type": "code",
   "execution_count": null,
   "metadata": {},
   "outputs": [],
   "source": [
    "%%R\n",
    "newly_merged_maf <- readMutations('temp/mutation_filtered_terra_merged.txt')\n",
    "new_release <- createSNPs(newly_merged_maf)\n",
    "names(new_release)"
   ]
  },
  {
   "cell_type": "markdown",
   "metadata": {},
   "source": [
    "## Quick adding\n",
    "\n",
    "Here, rather than rerunning the entire analysis, because we know we are adding only WES samples, we can download the previous release's MAF, add the samples, update any annotations, and perform any global filters at the end.\n",
    "\n",
    "First we need to do an additional step of filtering on coverage and number "
   ]
  },
  {
   "cell_type": "code",
   "execution_count": null,
   "metadata": {},
   "outputs": [],
   "source": []
  },
  {
   "cell_type": "code",
   "execution_count": null,
   "metadata": {},
   "outputs": [],
   "source": [
    "%%R\n",
    "previous.release.maf <- load.from.taiga(data.name='depmap-mutations-maf-35fe', data.file=paste0('mutations.',prevname),data.version=9)\n",
    "if (colnames(previous.release.maf)[1] == 'X1' || colnames(previous.release.maf)[1] == \"\") {\n",
    " previous.release.maf[,1] <- NULL \n",
    "}\n",
    "names(previous.release.maf)"
   ]
  },
  {
   "cell_type": "code",
   "execution_count": null,
   "metadata": {},
   "outputs": [],
   "source": [
    "%%R\n",
    "merged <- addToMainMutation(previous.release.maf, new_release)"
   ]
  },
  {
   "cell_type": "code",
   "execution_count": null,
   "metadata": {},
   "outputs": [],
   "source": [
    "%%R\n",
    "## Adding more\n",
    "##more <- load.from.taiga(data.name='',  data.version=3, data.file='')\n",
    "##if (colnames(previous.release.maf)[1] == 'X1' || colnames(previous.release.maf)[1] == '') {\n",
    "## previous.release.maf[,1] <- NULL \n",
    "##}\n",
    "##merged <- addToMainMutation(merged, more)"
   ]
  },
  {
   "cell_type": "code",
   "execution_count": null,
   "metadata": {},
   "outputs": [],
   "source": [
    "%%R\n",
    "names(merged)"
   ]
  },
  {
   "cell_type": "code",
   "execution_count": null,
   "metadata": {},
   "outputs": [],
   "source": [
    "%%R\n",
    "## check if some rows have nans\n",
    "length(which(is.na(merged$Hugo_Symbol)))"
   ]
  },
  {
   "cell_type": "code",
   "execution_count": null,
   "metadata": {},
   "outputs": [],
   "source": [
    "%%R\n",
    "dim(merged)"
   ]
  },
  {
   "cell_type": "code",
   "execution_count": null,
   "metadata": {},
   "outputs": [],
   "source": [
    "%%R\n",
    "filtered <- filterAllelicFraction(merged)"
   ]
  },
  {
   "cell_type": "code",
   "execution_count": null,
   "metadata": {},
   "outputs": [],
   "source": [
    "%%R\n",
    "filtered <- filterMinCoverage(filtered$merged, filtered$removed_from_maf)"
   ]
  },
  {
   "cell_type": "code",
   "execution_count": null,
   "metadata": {},
   "outputs": [],
   "source": [
    "%%R\n",
    "merged %<>% dplyr::rename(Tumor_Seq_Allele2=Tumor_Seq_Allele1)"
   ]
  },
  {
   "cell_type": "code",
   "execution_count": null,
   "metadata": {},
   "outputs": [],
   "source": [
    "%%R\n",
    "clean_annotations <- mergeAnnotations(merged,previous.release.maf)"
   ]
  },
  {
   "cell_type": "code",
   "execution_count": null,
   "metadata": {},
   "outputs": [],
   "source": [
    "%%R\n",
    "# Guillaume's version\n",
    "new_release <- addAnnotation(filtered$merged, clean_annotations, colnames(previous.release.maf))\n",
    "# Allie's version\n",
    "new_release <- maf_add_variant_annotations(new_release)"
   ]
  },
  {
   "cell_type": "code",
   "execution_count": null,
   "metadata": {},
   "outputs": [],
   "source": [
    "%%R\n",
    "# some matric files that does get used internaly and might be useful\n",
    "damaging_mutation <- mutation_maf_to_binary_matrix(new_release, damaging =  TRUE)\n",
    "other_mutation <- mutation_maf_to_binary_matrix(new_release, other = TRUE)\n",
    "hotspot_mutation <- mutation_maf_to_binary_matrix(new_release, hotspot = TRUE)"
   ]
  },
  {
   "cell_type": "code",
   "execution_count": null,
   "metadata": {},
   "outputs": [],
   "source": [
    "%%R\n",
    "# Save the ready to upload file to upload to taiga\n",
    "write.table(\n",
    "  new_release, \n",
    "  paste0('temp/mutations.', release, '.tsv'), sep = '\\t', quote = F, row.names = F)\n",
    "# Save the ready to upload file to upload to taiga\n",
    "write.table(\n",
    "  damaging_mutation, \n",
    "  paste0('temp/damaging_mutation.', release, '.tsv'), sep = '\\t', quote = F, row.names = F)\n",
    "# Save the ready to upload file to upload to taiga\n",
    "write.table(\n",
    "  other_mutation, \n",
    "  paste0('temp/other_mutation.', release, '.tsv'), sep = '\\t', quote = F, row.names = F)\n",
    "# Save the ready to upload file to upload to taiga\n",
    "write.table(\n",
    "  hotspot_mutation, \n",
    "  paste0('temp/hotspot_mutation.', release, '.tsv'), sep = '\\t', quote = F, row.names = F)"
   ]
  },
  {
   "cell_type": "code",
   "execution_count": null,
   "metadata": {},
   "outputs": [],
   "source": [
    "a = pd.read_csv('temp/mutations.'+ release+ '.tsv',sep='\\t')"
   ]
  },
  {
   "cell_type": "code",
   "execution_count": null,
   "metadata": {},
   "outputs": [],
   "source": [
    "a[a.DepMap_ID==\"ACH-002476\"]"
   ]
  },
  {
   "cell_type": "markdown",
   "metadata": {},
   "source": [
    "# Validation"
   ]
  },
  {
   "cell_type": "markdown",
   "metadata": {},
   "source": [
    "## Compare to previous release\n",
    "\n",
    "I would run some checks here comparing the results to the previous releases MAF. Namely:\n",
    "\n",
    "- Count the total number of mutations per cell line, split by type (SNP, INS, DEL)\n",
    "- Count the total number of mutations observed by position (group by chromosome, start position, end position and count the number of mutations)\n",
    "- Look at specific differences between the two MAFs (join on DepMap_ID, Chromosome, Start position, End position, Variant_Type). I would do this for WES only"
   ]
  },
  {
   "cell_type": "code",
   "execution_count": null,
   "metadata": {},
   "outputs": [],
   "source": [
    "mutations = pd.read_csv('temp/mutations.'+release+'.tsv', sep='\\t')\n",
    "damaging_mutation = pd.read_csv('temp/damaging_mutation.'+release+'.tsv', sep='\\t')\n",
    "other_mutation = pd.read_csv('temp/other_mutation.'+release+'.tsv', sep='\\t')\n",
    "hotspot_mutation = pd.read_csv('temp/hotspot_mutation.'+release+'.tsv', sep='\\t')"
   ]
  },
  {
   "cell_type": "markdown",
   "metadata": {},
   "source": [
    "## Remove less used "
   ]
  },
  {
   "cell_type": "code",
   "execution_count": null,
   "metadata": {},
   "outputs": [],
   "source": [
    "len(mutations.columns)"
   ]
  },
  {
   "cell_type": "code",
   "execution_count": null,
   "metadata": {},
   "outputs": [],
   "source": [
    "mutations[mutations[\"Hugo_Symbol\"]==\"ACOT4\"][mutations['Start_position']==74058831]"
   ]
  },
  {
   "cell_type": "code",
   "execution_count": null,
   "metadata": {},
   "outputs": [],
   "source": [
    "ac_data = mutations[[val for val in mutations.columns.values if '_AC' in val]]"
   ]
  },
  {
   "cell_type": "code",
   "execution_count": null,
   "metadata": {},
   "outputs": [],
   "source": [
    "ac_names = ac_data.columns.values\n",
    "ac_data = ac_data.values"
   ]
  },
  {
   "cell_type": "code",
   "execution_count": null,
   "metadata": {},
   "outputs": [],
   "source": [
    "ac_data.shape[0]"
   ]
  },
  {
   "cell_type": "markdown",
   "metadata": {},
   "source": [
    "## check important mutations"
   ]
  },
  {
   "cell_type": "code",
   "execution_count": null,
   "metadata": {},
   "outputs": [],
   "source": [
    "# check MOLM13, MV411 cell lines- The well known mutation status of FLT3"
   ]
  },
  {
   "cell_type": "code",
   "execution_count": null,
   "metadata": {},
   "outputs": [],
   "source": [
    "# check TP53 mutation "
   ]
  },
  {
   "cell_type": "code",
   "execution_count": null,
   "metadata": {},
   "outputs": [],
   "source": [
    "toofew = 0\n",
    "allnan = 0\n",
    "for pos, val in enumerate(ac_data):\n",
    "    i = 0\n",
    "    print(100*pos/ac_data.shape[0],end='\\r')\n",
    "    for p, v in enumerate(val):\n",
    "        if v is np.nan:\n",
    "            i+=1\n",
    "    if i==7:\n",
    "        mutations = mutations.drop[pos]\n",
    "        allnan+=1"
   ]
  },
  {
   "cell_type": "markdown",
   "metadata": {},
   "source": [
    "### basic counts"
   ]
  },
  {
   "cell_type": "code",
   "execution_count": null,
   "metadata": {},
   "outputs": [],
   "source": [
    "#Count the total number of mutations per cell line, split by type (SNP, INS, DEL)"
   ]
  },
  {
   "cell_type": "code",
   "execution_count": null,
   "metadata": {},
   "outputs": [],
   "source": [
    "# Count the total number of mutations observed by position"
   ]
  },
  {
   "cell_type": "markdown",
   "metadata": {},
   "source": [
    "Are mutation consistent?"
   ]
  },
  {
   "cell_type": "code",
   "execution_count": null,
   "metadata": {},
   "outputs": [],
   "source": [
    "#  to check this, if you group all the mutations in the mutations table by Chromosome, Start_position, End_position, Reference_Allele, Tumor_Seq_Allele1 columns, they should all have the same annotation for the other columns (protein change, exac_af, etc...)"
   ]
  },
  {
   "cell_type": "markdown",
   "metadata": {},
   "source": [
    "QC mutations, for a known dependency, check if it matches mutation of this gene. (if P53 is mutated, cannot have dependency on P53 or MDM2 MDM4/ inverse fir BRAF and KRAF to themselves)"
   ]
  },
  {
   "cell_type": "code",
   "execution_count": null,
   "metadata": {},
   "outputs": [],
   "source": [
    "prevprev= set(tc.get(name='depmap-mutation-calls-9be3', file=\"depmap_\"+prevprevname+\"_mutation_calls\", version=13).index.tolist())"
   ]
  },
  {
   "cell_type": "markdown",
   "metadata": {},
   "source": [
    "# uploading on taiga"
   ]
  },
  {
   "cell_type": "code",
   "execution_count": null,
   "metadata": {},
   "outputs": [],
   "source": [
    "gsheets = sheets.get(sheeturl).sheets[6].to_frame()\n",
    "wes_dmc_embargo = [i for i in gsheets['WES_DMC_embargo'].values.tolist() if i is not np.nan]\n",
    "blacklist = [i for i in gsheets['blacklist'].values.tolist() if i is not np.nan]"
   ]
  },
  {
   "cell_type": "code",
   "execution_count": null,
   "metadata": {},
   "outputs": [],
   "source": [
    "tc.update_dataset(dataset_permaname=\"depmap-mutations-maf-35fe\",\n",
    "                 upload_file_path_dict={'temp/mutations.'+release+'.tsv': 'TableTSV'}, \n",
    "                 dataset_description=\"\"\"\n",
    "# Mutations\n",
    "\n",
    "filtered and unfiltered mutation files from Broad WES and Sanger WES data mapped to hg19\n",
    "The MAF file for DepMap that includes all of the latest WES samples. This MAF is generated by merging CCLE (WGS, RNAseq, RD, HC) and Sanger (WES) data.\n",
    "\n",
    "PORTAL TEAM SHOULD NOT USE THIS: There are lines here that should not make it even to internal. Must use subsetted dataset instead. These data will not make it on the portal starting 19Q1. With the DMC portal, there is new cell line release prioritization as to which lines can be included, so a new taiga dataset will be created containing CN for the portal.\n",
    "\n",
    "version 1:  In 19Q1 the WES_AC column has been replaced by two columns, VA_WES_AC and CGA_WES_AC. We are currently using the Van Allen and CGA based pipeline to generate mutation calls. The CGA pipeline includes more filtering on the MAFs than VA and has a better INDEL caller. However, some of these filters may be removing some variants of interest that are still capture by the VA pipeline, which is why both a retained for now. DEPRECATED:  Missing the VA_WES_AC, CGA_WES_AC columns\n",
    "version 2: 19Q1 data\n",
    "version 3: 19Q2 data. We are no longer using the CCLE_WES_AC column. We are only using the CGA pipeline for mutation calls.\n",
    "version 4: Updating to 19Q3interim DEPRECATED\n",
    "version 5: Updating to 19Q3interim DEPRECATED\n",
    "version 6: Updating to 19Q3interim\n",
    "version 7: Updating to 19Q3 DEPRECATED\n",
    "version 8: reparing the missing mutation problem DEPRECATED\n",
    "version 9: reparing the missing column problem\n",
    "\n",
    "\n",
    "## ** Internal 19Q4****\n",
    "\n",
    "Adding 52 new cell lines. \n",
    "Some cells lines have been flagged as:\n",
    "\n",
    " - having bad looking copy ration plots = \n",
    " - Genes having a similar CN value accross all []\n",
    "\n",
    "\n",
    "genes (gene rpkm):\n",
    "__Rows__:\n",
    "__Columns__:\n",
    "Counts (gene counts):\n",
    "__Rows__:\n",
    "__Columns__:\n",
    "Gene level CN data:\n",
    "__Rows__:\n",
    "__Columns__:\n",
    " DepMap cell line IDs\n",
    " gene names in the format HGNC\\_symbol (Entrez\\_ID)\n",
    "DepMap\\_ID, Chromosome, Start, End, Num\\_Probes, Segment\\_Mean\n",
    " \"\"\")"
   ]
  },
  {
   "cell_type": "markdown",
   "metadata": {},
   "source": [
    "## Internal"
   ]
  },
  {
   "cell_type": "code",
   "execution_count": null,
   "metadata": {},
   "outputs": [],
   "source": [
    "mutations[~mutations.index.isin(blacklist)].to_csv('temp/depmap_'+release+'_mutation_calls', sep='\\t')\n",
    "damaging_mutation[~damaging_mutation.index.isin(blacklist)].to_csv('temp/hotspot_mutation', sep='\\t')\n",
    "other_mutation[~other_mutation.index.isin(blacklist)].to_csv('temp/damaging_mutation', sep='\\t')\n",
    "hotspot_mutation[~hotspot_mutation.index.isin(blacklist)].to_csv('temp/other_mutation', sep='\\t')"
   ]
  },
  {
   "cell_type": "code",
   "execution_count": null,
   "metadata": {},
   "outputs": [],
   "source": [
    "tc.update_dataset(dataset_permaname=\"depmap-mutation-calls-9be3\",\n",
    "                 upload_file_path_dict={'temp/depmap_'+release+'_mutation_calls': 'TableTSV',\n",
    "                                        'temp/damaging_mutation': 'TableTSV',\n",
    "                                        'temp/other_mutation': 'TableTSV',\n",
    "                                        'temp/hotspot_mutation': 'TableTSV'},\n",
    "                 dataset_description=\"\"\"\n",
    "# Internal Mutations\n",
    "\n",
    "Mutation calls for Internal DepMap data\n",
    "\n",
    "* Version 1 Internal 18Q1*\n",
    "\n",
    "original source: /xchip/ccle_dist/broad_only/CMAG/mutations/CCLE_depMap_18Q1_maf_20180202.txt\n",
    "* Version 2-4 Internal 18Q2*\n",
    "\n",
    "merged mutations and indels file (1,606 cell lines, including CCLE and Sanger WES reanalysis)\n",
    "original source: /xchip/ccle_dist/broad_only/CMAG/mutations/CCLE_depMap_18q2_maf_20180502.txt\n",
    "Binary matrices:\n",
    "damaging: if isDeleterious is true\n",
    "missense: if isDeleterious is false\n",
    "hotspot: if missense and either TCGA or COSMIC hotspot\n",
    "Version 2 contains the MAF file\n",
    "* Version 5-6 Internal 18Q3*\n",
    "\n",
    "version 5 deprecated\n",
    "\n",
    "original source: /xchip/ccle_dist/broad_only/CMAG/mutations/CCLE_depMap_18q3_maf_20180716.txt\n",
    "\n",
    "Binary matrices:\n",
    "damaging: if isDeleterious is true\n",
    "missense: if isDeleterious is false\n",
    "hotspot: if missense and either TCGA or COSMIC hotspot\n",
    "Rows: cell line, Broad (arxspan) IDs\n",
    "\n",
    "Columns: Gene, HGNC symbol (Entrez ID)\n",
    "\n",
    "MAF file\n",
    "\n",
    "* Version 7-8 Internal 18Q4*\n",
    "\n",
    "version 8 just changes a column name in the MAF file from Broad_ID to DepMap_ID\n",
    "\n",
    "original source: /xchip/ccle_dist/broad_only/CMAG/mutations/CCLE_DepMap_18Q4_maf_20181028.txt\n",
    "\n",
    "* Version 9-12 Internal 19Q1*\n",
    "\n",
    "version 12 updates the column name from VA_WES_AC to CCLE_WES_AC\n",
    "\n",
    "version 11+ uses an updated definition for hotspot mutations\n",
    "\n",
    "version 12 contains the correct data for 19Q1\n",
    "\n",
    "* Version 13 Internal 19Q2*\n",
    "\n",
    "* Version 14-15 Internal 19Q3*\n",
    "\n",
    "version 15 fixed entrez ids\n",
    "\n",
    "* Version 16 Internal 19Q4*\n",
    "\n",
    "adding 35 new cell lines.\n",
    "\n",
    "*** Variant annotation column ***\n",
    "\n",
    "MAF file, added column (Variant_annotation) classifying each variant as either silent, damaging, other conserving, or other non-conserving, based on this mapping (old annotation from Variant_Classification column - new annotation):\n",
    "\n",
    "Silent - silent\n",
    "Splice_Site - damaging\n",
    "Missense_Mutation - other non-conserving\n",
    "Nonsense_Mutation - damaging\n",
    "De_novo_Start_OutOfFrame - damaging\n",
    "Nonstop_Mutation - other non-conserving\n",
    "Frame_Shift_Del - damaging\n",
    "Frame_Shift_Ins - damaging\n",
    "In_Frame_Del - other non-conserving\n",
    "In_Frame_Ins - other non-conserving\n",
    "Stop_Codon_Del - other non-conserving\n",
    "Stop_Codon_Ins - other non-conserving\n",
    "Start_Codon_SNP - damaging\n",
    "Start_Codon_Del - damaging\n",
    "Start_Codon_Ins - damaging\n",
    "5'Flank - other conserving\n",
    "Intron - other conserving\n",
    "IGR - other conserving\n",
    "3'UTR - other conserving\n",
    "5'UTR - other conserving\n",
    "Binary matrices:\n",
    "\n",
    "damaging: if damaging\n",
    "other: if other conserving or other non-conserving\n",
    "hotspot: if it is not a silent mutation and is either TCGA or COSMIC hotspot\n",
    "Rows: cell line, DepMap (arxspan) IDs\n",
    "\n",
    "Columns: Gene, HGNC symbol (Entrez ID)\n",
    "\"\"\")"
   ]
  },
  {
   "cell_type": "code",
   "execution_count": null,
   "metadata": {},
   "outputs": [],
   "source": [
    "# To add to a virtual dataset\n",
    "AddToVirtual(virtual_internal, 'depmap-mutation-calls-9be3', [('CCLE_mutations', 'depmap_'+release+'_mutation_calls')])\n",
    "# To add to a eternal dataset\n",
    "AddToVirtual('depmap-a0ab', 'depmap-mutation-calls-9be3', [('CCLE_mutations', 'depmap_'+release+'_mutation_calls')])"
   ]
  },
  {
   "cell_type": "markdown",
   "metadata": {},
   "source": [
    "## DMC"
   ]
  },
  {
   "cell_type": "code",
   "execution_count": null,
   "metadata": {},
   "outputs": [],
   "source": [
    "tc.update_dataset(dataset_permaname=\"depmap-mutation-calls-dfce\",\n",
    "                 upload_file_path_dict={'temp/depmap_'+release+'_mutation_calls': 'TableTSV',\n",
    "                                        'temp/damaging_mutation': 'TableTSV',\n",
    "                                        'temp/other_mutation': 'TableTSV',\n",
    "                                        'temp/hotspot_mutation': 'TableTSV'},\n",
    "                 dataset_description=\"\"\"\n",
    "# DMC Mutations\n",
    "\n",
    "* Version 1-5 DMC 19Q1*\n",
    "\n",
    "version 5 is a one-off portal thing because dmc wanted to be able to plot if a gene has any mutation as one-hot encoded value in the x/y axes of the data explorer It adds the any_mutation matrix, but does not change the others. Code used to generate:\n",
    "\n",
    "from taigapy import TaigaClient\n",
    "\n",
    "c = TaigaClient()\n",
    "\n",
    "dmc_19q1_mutation_taiga_root = \"depmap-mutation-calls-dfce.3/\"\n",
    "other_matrix = c.get(dmc_19q1_mutation_taiga_root + \"other_mutation\")\n",
    "damaging_matrix = c.get(dmc_19q1_mutation_taiga_root + \"damaging_mutation\")\n",
    "hotspot_matrix = c.get(dmc_19q1_mutation_taiga_root + \"hotspot_mutation\")\n",
    "\n",
    "df = other_matrix.append(damaging_matrix)\n",
    "df = df.groupby(level=0).sum()\n",
    "\n",
    "df = df.append(hotspot_matrix)\n",
    "df = df.groupby(level=0).sum()\n",
    "\n",
    "df[df > 1] = 1\n",
    "\n",
    "df.to_csv('any_mutation.csv')\n",
    "The code uses version 3 because the dmc portal was using version 3\n",
    "\n",
    "version 4 updates the column name from VA_WES_AC to CCLE_WES_AC\n",
    "\n",
    "version 3 has an updated definition for hotspot mutations\n",
    "\n",
    "version 2+ contains the correct data for 19Q1\n",
    "\n",
    "* Version 6 DMC 19Q2*\n",
    "\n",
    "* Version 7-8 DMC 19Q3*\n",
    "\n",
    "* Version 9 DMC 19Q4*\n",
    "\n",
    "adding 52 new cell lines.\n",
    "\n",
    "version 8 fixed entrez ids\n",
    "\n",
    "MAF file, added column (Variant_annotation) classifying each variant as either silent, damaging, other conserving, or other non-conserving, based on this mapping (old annotation from Variant_Classification column - new annotation):\n",
    "\n",
    "Silent - silent\n",
    "Splice_Site - damaging\n",
    "Missense_Mutation - other non-conserving\n",
    "Nonsense_Mutation - damaging\n",
    "De_novo_Start_OutOfFrame - damaging\n",
    "Nonstop_Mutation - other non-conserving\n",
    "Frame_Shift_Del - damaging\n",
    "Frame_Shift_Ins - damaging\n",
    "In_Frame_Del - other non-conserving\n",
    "In_Frame_Ins - other non-conserving\n",
    "Stop_Codon_Del - other non-conserving\n",
    "Stop_Codon_Ins - other non-conserving\n",
    "Start_Codon_SNP - damaging\n",
    "Start_Codon_Del - damaging\n",
    "Start_Codon_Ins - damaging\n",
    "5'Flank - other conserving\n",
    "Intron - other conserving\n",
    "IGR - other conserving\n",
    "3'UTR - other conserving\n",
    "5'UTR - other conserving\n",
    "Binary matrices:\n",
    "\n",
    "damaging: if damaging\n",
    "other: if other conserving or other non-conserving\n",
    "hotspot: if it is not a silent mutation and is either TCGA or COSMIC hotspot\n",
    "Rows: cell line, DepMap (arxspan) IDs\n",
    "\n",
    "Columns: Gene, HGNC symbol (Entrez ID)\n",
    " \"\"\")"
   ]
  },
  {
   "cell_type": "code",
   "execution_count": null,
   "metadata": {},
   "outputs": [],
   "source": [
    "# To add to a virtual dataset\n",
    "AddToVirtual(virtual_dmc, 'depmap-mutation-calls-dfce', [('CCLE_mutations', 'depmap_'+release+'_mutation_calls')])"
   ]
  },
  {
   "cell_type": "markdown",
   "metadata": {},
   "source": [
    "## Public"
   ]
  },
  {
   "cell_type": "code",
   "execution_count": null,
   "metadata": {},
   "outputs": [],
   "source": [
    "mutations = mutations[mutations.index.isin(prevprev)]\n",
    "mutations[~mutations.index.isin(blacklist+wes_dmc_embargo)].to_csv('temp/depmap_'+release+'_mutation_calls', sep='\\t')\n",
    "damaging_mutation = damaging_mutation[damaging_mutation.index.isin(prevprev)]\n",
    "damaging_mutation[~damaging_mutation.index.isin(blacklist+wes_dmc_embargo)].to_csv('temp/hotspot_mutation', sep='\\t')\n",
    "other_mutation = other_mutation[other_mutation.index.isin(prevprev)]\n",
    "other_mutation[~other_mutation.index.isin(blacklist+wes_dmc_embargo)].to_csv('temp/damaging_mutation', sep='\\t')\n",
    "hotspot_mutation = hotspot_mutation[hotspot_mutation.index.isin(prevprev)]\n",
    "hotspot_mutation[~hotspot_mutation.index.isin(blacklist+wes_dmc_embargo)].to_csv('temp/other_mutation', sep='\\t')"
   ]
  },
  {
   "cell_type": "code",
   "execution_count": null,
   "metadata": {},
   "outputs": [],
   "source": [
    "tc.update_dataset(dataset_permaname=\"depmap-mutation-calls-9a1a\",\n",
    "                 upload_file_path_dict={'temp/depmap_'+release+'_mutation_calls': 'TableTSV',\n",
    "                                        'temp/damaging_mutation': 'TableTSV',\n",
    "                                        'temp/other_mutation': 'TableTSV',\n",
    "                                        'temp/hotspot_mutation': 'TableTSV'},\n",
    "                 dataset_description=\"\"\"\n",
    "# Public Mutations\n",
    "\n",
    "Mutation calls for Public DepMap data\n",
    "\n",
    "* Version 1 Public 18Q1*\n",
    "\n",
    "original source: CCLE data portal\n",
    "* Version 2 Public 18Q2*\n",
    "\n",
    "merged mutations and indels file (1,549 cell lines total, including data for 63 newly released cell lines)\n",
    "original source: /xchip/ccle_dist/public/DepMap_18Q2/CCLE_DepMap_18Q2_maf_20180502.txt\n",
    "* Version 3-4 Public 18Q3*\n",
    "\n",
    "version 3 deprecated\n",
    "\n",
    "original source: /xchip/ccle_dist/public/DepMap_18Q3/CCLE_DepMap_18q3_maf_20180718.txt\n",
    "\n",
    "Binary matrices:\n",
    "damaging: if isDeleterious is true\n",
    "missense: if isDeleterious is false\n",
    "hotspot: if missense and either TCGA or COSMIC hotspot\n",
    "Rows: cell line, Broad (arxspan) IDs\n",
    "\n",
    "Columns: Gene, HGNC symbol (Entrez ID)\n",
    "\n",
    "MAF file\n",
    "\n",
    "* Version 5 Public 18Q4*\n",
    "\n",
    "original source: /xchip/ccle_dist/public/DepMap_18Q4/CCLE_DepMap_18q4_maf_20181029.txt\n",
    "\n",
    "* Version 6-9 Public 19Q1*\n",
    "\n",
    "version 9 updates the column name from VA_WES_AC to CCLE_WES_AC\n",
    "\n",
    "version 8 uses an updated definition for hotspot mutations\n",
    "\n",
    "version 9 contains the correct data for 19Q1\n",
    "\n",
    "* Version 10 Public 19Q2*\n",
    "\n",
    "* Version 11-12 Public 19Q3*\n",
    "\n",
    "version 12 fixed entrez ids\n",
    "\n",
    "* Version 13 Public 19Q4*\n",
    "\n",
    "adding 52 new cell lines\n",
    "\n",
    "MAF file, added column (Variant_annotation) classifying each variant as either silent, damaging, other conserving, or other non-conserving, based on this mapping (old annotation from Variant_Classification column - new annotation):\n",
    "\n",
    "Silent - silent\n",
    "Splice_Site - damaging\n",
    "Missense_Mutation - other non-conserving\n",
    "Nonsense_Mutation - damaging\n",
    "De_novo_Start_OutOfFrame - damaging\n",
    "Nonstop_Mutation - other non-conserving\n",
    "Frame_Shift_Del - damaging\n",
    "Frame_Shift_Ins - damaging\n",
    "In_Frame_Del - other non-conserving\n",
    "In_Frame_Ins - other non-conserving\n",
    "Stop_Codon_Del - other non-conserving\n",
    "Stop_Codon_Ins - other non-conserving\n",
    "Start_Codon_SNP - damaging\n",
    "Start_Codon_Del - damaging\n",
    "Start_Codon_Ins - damaging\n",
    "5'Flank - other conserving\n",
    "Intron - other conserving\n",
    "IGR - other conserving\n",
    "3'UTR - other conserving\n",
    "5'UTR - other conserving\n",
    "Binary matrices:\n",
    "\n",
    "damaging: if damaging\n",
    "other: if other conserving or other non-conserving\n",
    "hotspot: if it is not a silent mutation and is either TCGA or COSMIC hotspot\n",
    "Rows: cell line, DepMap (arxspan) IDs\n",
    "\n",
    "Columns: Gene, HGNC symbol (Entrez ID)\n",
    " \"\"\")"
   ]
  },
  {
   "cell_type": "code",
   "execution_count": null,
   "metadata": {},
   "outputs": [],
   "source": [
    "# To add to a virtual dataset\n",
    "AddToVirtual(virtual_public, 'depmap-mutation-calls-9a1a', [('CCLE_mutations', 'depmap_'+release+'_mutation_calls')])"
   ]
  },
  {
   "cell_type": "code",
   "execution_count": null,
   "metadata": {},
   "outputs": [],
   "source": []
  }
 ],
 "metadata": {
  "kernelspec": {
   "display_name": "Python 3",
   "language": "python",
   "name": "python3"
  },
  "language_info": {
   "codemirror_mode": {
    "name": "ipython",
    "version": 3
   },
   "file_extension": ".py",
   "mimetype": "text/x-python",
   "name": "python",
   "nbconvert_exporter": "python",
   "pygments_lexer": "ipython3",
   "version": "3.6.7"
  },
  "latex_envs": {
   "LaTeX_envs_menu_present": true,
   "autoclose": false,
   "autocomplete": true,
   "bibliofile": "biblio.bib",
   "cite_by": "apalike",
   "current_citInitial": 1,
   "eqLabelWithNumbers": true,
   "eqNumInitial": 1,
   "hotkeys": {
    "equation": "Ctrl-E",
    "itemize": "Ctrl-I"
   },
   "labels_anchors": false,
   "latex_user_defs": false,
   "report_style_numbering": false,
   "user_envs_cfg": false
  },
  "notify_time": "5",
  "toc": {
   "base_numbering": 1,
   "nav_menu": {
    "height": "277px",
    "width": "375px"
   },
   "number_sections": true,
   "sideBar": true,
   "skip_h1_title": false,
   "title_cell": "Table of Contents",
   "title_sidebar": "Contents",
   "toc_cell": false,
   "toc_position": {
    "height": "calc(100% - 180px)",
    "left": "10px",
    "top": "150px",
    "width": "165px"
   },
   "toc_section_display": true,
   "toc_window_display": true
  },
  "varInspector": {
   "cols": {
    "lenName": 16,
    "lenType": 16,
    "lenVar": 40
   },
   "kernels_config": {
    "python": {
     "delete_cmd_postfix": "",
     "delete_cmd_prefix": "del ",
     "library": "var_list.py",
     "varRefreshCmd": "print(var_dic_list())"
    },
    "r": {
     "delete_cmd_postfix": ") ",
     "delete_cmd_prefix": "rm(",
     "library": "var_list.r",
     "varRefreshCmd": "cat(var_dic_list()) "
    }
   },
   "position": {
    "height": "617.8px",
    "left": "1232.4px",
    "right": "20px",
    "top": "120px",
    "width": "262.8px"
   },
   "types_to_exclude": [
    "module",
    "function",
    "builtin_function_or_method",
    "instance",
    "_Feature"
   ],
   "window_display": true
  }
 },
 "nbformat": 4,
 "nbformat_minor": 2
}
