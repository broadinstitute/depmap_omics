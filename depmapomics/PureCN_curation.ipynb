{
 "cells": [
  {
   "cell_type": "markdown",
   "id": "419ad8c6",
   "metadata": {},
   "source": [
    "# PureCN Curation\n",
    "Notebook to select PureCN absolute copy number calls for manual curation.\n",
    "\n",
    "William Colgan (wcolgan@broadinstitute.org)"
   ]
  },
  {
   "cell_type": "code",
   "execution_count": null,
   "id": "95d4d150",
   "metadata": {},
   "outputs": [],
   "source": [
    "# Load packages\n",
    "\n",
    "import pandas as pd\n",
    "import numpy as np\n",
    "import dalmatian as dm\n",
    "import os\n",
    "pd.options.mode.chained_assignment = None"
   ]
  },
  {
   "cell_type": "code",
   "execution_count": null,
   "id": "04c12474",
   "metadata": {},
   "outputs": [],
   "source": [
    "# Pipeline parameters\n",
    "WORKSPACE = \"broad-firecloud-ccle/DepMap_WES_CN_hg38\"\n",
    "MIN_GOF = 70\n",
    "MAX_PLOIDY = 5"
   ]
  },
  {
   "cell_type": "markdown",
   "id": "7263a260",
   "metadata": {},
   "source": [
    "## Select calls to Curate\n",
    "Goodness of fit < MIN_GOR and not Non-aberrant or Ploidy > MAX_PLOIDY"
   ]
  },
  {
   "cell_type": "code",
   "execution_count": null,
   "id": "e4bb6282",
   "metadata": {},
   "outputs": [],
   "source": [
    "wm = dm.WorkspaceManager(WORKSPACE)\n",
    "samples_df = wm.get_sample()\n",
    "#samples_df = pd.read_csv(\"~/Downloads/sample.tsv\",sep = \"\\t\")"
   ]
  },
  {
   "cell_type": "code",
   "execution_count": null,
   "id": "497bdd63",
   "metadata": {},
   "outputs": [],
   "source": [
    "samples_df['PureCN_gof'] = samples_df.PureCN_comment.str.extract(r'([0-9]+)',expand = True).fillna(100).astype(int)\n",
    "samples_df['Non_aberrant'] = samples_df.PureCN_comment.str.contains(\"NON-ABERRANT\").astype(bool)"
   ]
  },
  {
   "cell_type": "code",
   "execution_count": null,
   "id": "9c072570",
   "metadata": {},
   "outputs": [],
   "source": [
    "to_curate = samples_df[((samples_df.PureCN_gof < MIN_GOF) & ~samples_df.Non_aberrant) | \\\n",
    "                       (samples_df.PureCN_ploidy > MAX_PLOIDY)]\n",
    "to_curate[\"PureCN_curated_solution\"] = \"\"\n",
    "to_curate[\"PureCN_failed\"] = \"\"\n",
    "to_curate[\"PureCN_curated\"] = True\n",
    "to_curate.loc[:,['entity:sample_id','PureCN_ploidy','PureCN_comment','PureCN_curated', \\\n",
    "           'PureCN_curated_solution','PureCN_failed']].to_csv(\"~/Desktop/to_curate.csv\") "
   ]
  },
  {
   "cell_type": "markdown",
   "id": "88cb0c2a",
   "metadata": {},
   "source": [
    "## Download Solution PDFs"
   ]
  },
  {
   "cell_type": "code",
   "execution_count": null,
   "id": "a6ee3126",
   "metadata": {},
   "outputs": [],
   "source": [
    "os.system(\"gsutil -m cp \"+to_curate.PureCN_solutions_pdf.str.cat(sep = \" \")+ \" ~/Desktop/solutions/\")"
   ]
  },
  {
   "cell_type": "markdown",
   "id": "a00f371d",
   "metadata": {},
   "source": [
    "## Update Sample Sheet"
   ]
  },
  {
   "cell_type": "code",
   "execution_count": null,
   "id": "26394795",
   "metadata": {},
   "outputs": [],
   "source": [
    "curated = pd.read_csv(\"~/Desktop/to_curate.csv\",index_col = 0)\n",
    "samples_df = samples_df.drop(['PureCN_curated'], axis = 1).join( \\\n",
    "                  curated[['PureCN_curated','PureCN_curated_solution','PureCN_failed']])\n",
    "samples_df['PureCN_curated'] = samples_df['PureCN_curated'].fillna(False)\n",
    "samples_df['PureCN_failed'] = samples_df['PureCN_failed'].fillna(False)"
   ]
  },
  {
   "cell_type": "code",
   "execution_count": null,
   "id": "b7e8125c",
   "metadata": {},
   "outputs": [],
   "source": [
    "wm.upload_samples(samples_df.drop(['PureCN_gof','Non_aberrant'], axis = 1))\n",
    "#samples_df.drop(['PureCN_gof','Non_aberrant'], axis = 1).to_csv(\"~/Desktop/sample.tsv\",sep = \"\\t\",index=False)"
   ]
  }
 ],
 "metadata": {
  "kernelspec": {
   "display_name": "Python 3",
   "language": "python",
   "name": "python3"
  },
  "language_info": {
   "codemirror_mode": {
    "name": "ipython",
    "version": 3
   },
   "file_extension": ".py",
   "mimetype": "text/x-python",
   "name": "python",
   "nbconvert_exporter": "python",
   "pygments_lexer": "ipython3",
   "version": "3.8.3"
  }
 },
 "nbformat": 4,
 "nbformat_minor": 5
}
