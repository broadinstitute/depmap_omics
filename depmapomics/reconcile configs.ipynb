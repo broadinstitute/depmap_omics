{
 "cells": [
  {
   "cell_type": "code",
   "execution_count": null,
   "id": "f426c1f6",
   "metadata": {},
   "outputs": [],
   "source": []
  },
  {
   "cell_type": "code",
   "execution_count": null,
   "id": "20e60ab5",
   "metadata": {},
   "outputs": [],
   "source": [
    "help(exec)"
   ]
  },
  {
   "cell_type": "code",
   "execution_count": null,
   "id": "5fb4d131",
   "metadata": {},
   "outputs": [],
   "source": [
    "\n"
   ]
  },
  {
   "cell_type": "code",
   "execution_count": null,
   "id": "733c330d",
   "metadata": {},
   "outputs": [],
   "source": [
    "globals"
   ]
  },
  {
   "cell_type": "code",
   "execution_count": null,
   "id": "950c5b56",
   "metadata": {},
   "outputs": [],
   "source": [
    "import re\n",
    "\n",
    "def read_settings(fn):\n",
    "    content = open(fn).read()\n",
    "    globals = {}\n",
    "    locals = {}\n",
    "    exec(content, globals, locals)\n",
    "    return { k:v for k,v in locals.items() if re.match(\"[A-Z]+.*\", k) }"
   ]
  },
  {
   "cell_type": "code",
   "execution_count": null,
   "id": "8c75e892",
   "metadata": {},
   "outputs": [],
   "source": [
    "dev = read_settings(\"config_dev.py\")"
   ]
  },
  {
   "cell_type": "code",
   "execution_count": null,
   "id": "6e7a2c0e",
   "metadata": {},
   "outputs": [],
   "source": [
    "shared = read_settings(\"config_global.py\")"
   ]
  },
  {
   "cell_type": "code",
   "execution_count": null,
   "id": "380f81f4",
   "metadata": {},
   "outputs": [],
   "source": [
    "prod = read_settings(\"config_prod.py\")"
   ]
  },
  {
   "cell_type": "code",
   "execution_count": null,
   "id": "ed0e263a",
   "metadata": {},
   "outputs": [],
   "source": [
    "set(dev.keys()).difference(prod.keys())"
   ]
  },
  {
   "cell_type": "code",
   "execution_count": null,
   "id": "8cb217c3",
   "metadata": {},
   "outputs": [],
   "source": [
    "set(prod.keys()).difference(dev.keys())"
   ]
  },
  {
   "cell_type": "code",
   "execution_count": null,
   "id": "4519a6a7",
   "metadata": {},
   "outputs": [],
   "source": [
    "set(dev.keys()).intersection(shared.keys())"
   ]
  },
  {
   "cell_type": "code",
   "execution_count": null,
   "id": "46630618",
   "metadata": {},
   "outputs": [],
   "source": [
    "set(prod.keys()).intersection(shared.keys())"
   ]
  },
  {
   "cell_type": "code",
   "execution_count": null,
   "id": "c8ab7035",
   "metadata": {},
   "outputs": [],
   "source": [
    "for k in set(prod.keys()).intersection(dev.keys()):\n",
    "    if prod[k] == dev[k]:\n",
    "        shared[k] = prod[k]\n",
    "        del prod[k]\n",
    "        del dev[k]"
   ]
  },
  {
   "cell_type": "code",
   "execution_count": null,
   "id": "aa83acb2",
   "metadata": {},
   "outputs": [],
   "source": [
    "prod.keys()"
   ]
  },
  {
   "cell_type": "code",
   "execution_count": null,
   "id": "e12dab2f",
   "metadata": {},
   "outputs": [],
   "source": [
    "shared.keys()"
   ]
  },
  {
   "cell_type": "code",
   "execution_count": null,
   "id": "c8c0dcf2",
   "metadata": {},
   "outputs": [],
   "source": [
    "config_vars = set(shared.keys()) # set(prod.keys()).union(shared.keys()).union(dev.keys())"
   ]
  },
  {
   "cell_type": "code",
   "execution_count": null,
   "id": "556a9b7d",
   "metadata": {},
   "outputs": [],
   "source": []
  },
  {
   "cell_type": "code",
   "execution_count": null,
   "id": "32ab6ab6",
   "metadata": {},
   "outputs": [],
   "source": [
    "def rewrite(fn):\n",
    "    constant_var_pattern = re.compile(\"(\"+(\"|\".join(config_vars))+\")\")\n",
    "    env_var_pattern = re.compile(\"(\"+(\"|\".join(set(prod.keys()).union(dev.keys())))+\")\")\n",
    "    \n",
    "    print(\"rewriting\", fn)\n",
    "    content = open(fn, \"rt\").read()\n",
    "    assert \"constants\" not in content\n",
    "    with open(f\"{fn}\", \"wt\") as fd:\n",
    "        new_content = re.sub(constant_var_pattern, \"constants.\\\\1\", content)\n",
    "        new_content = re.sub(env_var_pattern, \"env_config.\\\\1\", new_content)\n",
    "        new_content = re.sub(\"from depmapomics.config import \\\\*\", \"\", new_content)\n",
    "        if new_content != content:\n",
    "            fd.write(\"from depmapomics import constants\\n\")\n",
    "            fd.write(\"from depmapomics import env_config\\n\")\n",
    "        fd.write(new_content)\n",
    "\n",
    "with open(\"constants.py\", \"wt\") as fd:\n",
    "    for k, v in shared.items():\n",
    "        fd.write(f\"{k} = {repr(v)}\\n\\n\")\n",
    "\n",
    "with open(\"config_dev.py\", \"wt\") as fd:\n",
    "    for k, v in dev.items():\n",
    "        fd.write(f\"{k} = {repr(v)}\\n\\n\")\n",
    "\n",
    "with open(\"config_prod.py\", \"wt\") as fd:\n",
    "    for k, v in prod.items():\n",
    "        fd.write(f\"{k} = {repr(v)}\\n\\n\")\n",
    "\n"
   ]
  },
  {
   "cell_type": "code",
   "execution_count": null,
   "id": "3223f43b",
   "metadata": {},
   "outputs": [],
   "source": [
    "import os"
   ]
  },
  {
   "cell_type": "code",
   "execution_count": null,
   "id": "fef55648",
   "metadata": {},
   "outputs": [],
   "source": [
    "python_files = []\n",
    "for root, subdirs, files in os.walk('.'):\n",
    "    for fn in files:\n",
    "        if fn.endswith(\".py\"):\n",
    "            python_files.append(os.path.join(root, fn))\n",
    "python_files"
   ]
  },
  {
   "cell_type": "code",
   "execution_count": null,
   "id": "6a53be65",
   "metadata": {},
   "outputs": [],
   "source": [
    "for fn in python_files:\n",
    "    if fn not in ['./config.py', \"./config_dev.py\", \"./config_global.py\", \"./config_prod.py\", \"./constants.py\"]:\n",
    "        rewrite(fn)"
   ]
  },
  {
   "cell_type": "code",
   "execution_count": null,
   "id": "2a10a0f9",
   "metadata": {},
   "outputs": [],
   "source": [
    "help(re.sub)"
   ]
  },
  {
   "cell_type": "code",
   "execution_count": null,
   "id": "d91b1cc1",
   "metadata": {},
   "outputs": [],
   "source": []
  }
 ],
 "metadata": {
  "kernelspec": {
   "display_name": "Python 3 (ipykernel)",
   "language": "python",
   "name": "python3"
  },
  "language_info": {
   "codemirror_mode": {
    "name": "ipython",
    "version": 3
   },
   "file_extension": ".py",
   "mimetype": "text/x-python",
   "name": "python",
   "nbconvert_exporter": "python",
   "pygments_lexer": "ipython3",
   "version": "3.11.0"
  }
 },
 "nbformat": 4,
 "nbformat_minor": 5
}
