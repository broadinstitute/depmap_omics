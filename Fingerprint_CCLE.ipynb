{
 "cells": [
  {
   "cell_type": "markdown",
   "id": "a8127bb2-4a2a-49ea-9ca3-3f09864ecb91",
   "metadata": {},
   "source": [
    "# CCLE SNP Fingerprinting Pipeline\n",
    "Author: William Colgan (wcolgan@broadinstitute.org)"
   ]
  },
  {
   "cell_type": "code",
   "execution_count": null,
   "id": "925e7a97-b3cf-4934-a127-6586c7ddfadb",
   "metadata": {},
   "outputs": [],
   "source": [
    "# Load packages\n",
    "\n",
    "import pandas as pd\n",
    "import numpy as np\n",
    "import dalmatian as dm\n",
    "import subprocess\n",
    "from taigapy import TaigaClient\n",
    "from functools import reduce\n",
    "\n",
    "tc = TaigaClient()"
   ]
  },
  {
   "cell_type": "code",
   "execution_count": null,
   "id": "89fedc5d-6a0a-493a-ac91-89b38be90d67",
   "metadata": {},
   "outputs": [],
   "source": [
    "# Pipeline parameters\n",
    "\n",
    "# CSV file of bams to fingerprint with columns: id, bam_filepath, bai_filepath\n",
    "bams_sheet = \"/Users/wcolgan/Desktop/bams_to_fingerprint.csv\" \n",
    "\n",
    "# Local directory to save intermediate files to\n",
    "working_dir = \"/Users/wcolgan/Desktop/fingerprint/\"\n",
    "\n",
    "# GC storage bucket containing fingerprints\n",
    "fingerprints_dir = \"gs://fc-secure-6b6a3e1a-6fb8-4d30-b0df-a359e6c5d6e6/fingerprints\"\n",
    "\n",
    "# GC storage bucket containing lists for vcf files\n",
    "vcf_list_dir = \"gs://fc-secure-6b6a3e1a-6fb8-4d30-b0df-a359e6c5d6e6/vcf_lists\"\n",
    "\n",
    "# Batch sise for crosscheck_vcf. If more than 200 bams are being run this should be decreased\n",
    "crosscheck_batch_size = 500"
   ]
  },
  {
   "cell_type": "markdown",
   "id": "fc9ff46f-a628-4c0e-b7e8-a60ecb505ebc",
   "metadata": {},
   "source": [
    "## Generate Fingerprint VCFs\n",
    "\n",
    "Here we use Dalmatian to run the `fingerprint_bam_with_liftover` workflow on Terra. \n",
    "This workflow calls Picard ExtractFingerprint to generate a fingerprint VCF and then \n",
    "calls Picard LiftoverVcf to covert this vcf to hg38. To fingerprint hg38 bam files just run `fingerprint_bam` instead."
   ]
  },
  {
   "cell_type": "code",
   "execution_count": null,
   "id": "f739ff7b-675e-4a3b-b482-c7a27c3b45d3",
   "metadata": {},
   "outputs": [],
   "source": [
    "bams = pd.read_csv(bams_sheet)\n",
    "bams"
   ]
  },
  {
   "cell_type": "code",
   "execution_count": null,
   "id": "96dc3cf8-cea1-4927-9775-86d758e180e8",
   "metadata": {},
   "outputs": [],
   "source": [
    "wm = dm.WorkspaceManager(\"broad-firecloud-ccle/CCLE_SNP_QC\")"
   ]
  },
  {
   "cell_type": "code",
   "execution_count": null,
   "id": "2d070fbb-0282-4a5b-926a-eddd44f7189d",
   "metadata": {},
   "outputs": [],
   "source": [
    "# Upload sample sheet\n",
    "samples_df = bams[[\"bam_filepath\",\"bai_filepath\"]]\n",
    "samples_df[[\"sample_id\"]] = bams[[\"id\"]]\n",
    "samples_df[[\"participant_id\"]] = bams[[\"id\"]]\n",
    "samples_df = samples_df.set_index('sample_id')\n",
    "wm.upload_samples(samples_df, add_participant_samples=True)\n",
    "wm.update_sample_set('all_samples', samples_df.index)"
   ]
  },
  {
   "cell_type": "code",
   "execution_count": null,
   "id": "21c3a53b-e0bb-4c55-adb9-fe730b2f354a",
   "metadata": {},
   "outputs": [],
   "source": [
    "# Submit jobs \n",
    "wm.create_submission(\"fingerprint_bam_with_liftover\",'all_samples','sample_set',expression='this.samples')\n",
    "#wm.create_submission(\"fingerprint_bam\",'all_samples','sample_set',expression='this.samples')"
   ]
  },
  {
   "cell_type": "code",
   "execution_count": null,
   "id": "c10f1e24-1659-4dd9-b4c9-dd35163f386b",
   "metadata": {},
   "outputs": [],
   "source": [
    "# Monitor jobs\n",
    "wm.get_submission_status()"
   ]
  },
  {
   "cell_type": "markdown",
   "id": "f79168f6-636b-44ab-8a72-c060a224b578",
   "metadata": {},
   "source": [
    "## Move Fingerprint VCFs\n",
    "\n",
    "Here we move the fingerprint vcf files into `fingerprints_dir`"
   ]
  },
  {
   "cell_type": "code",
   "execution_count": null,
   "id": "8f92dcf8-c4cf-4d99-836e-946b36ee5389",
   "metadata": {},
   "outputs": [],
   "source": [
    "samples_df = wm.get_samples()\n",
    "cmd = 'echo -e \"{}\" | gsutil -m cp -I {}'.format('\\n'.join(samples_df[\"fingerprint_vcf\"]), fingerprints_dir)\n",
    "subprocess.check_call(cmd, shell=True, executable='/bin/bash')"
   ]
  },
  {
   "cell_type": "markdown",
   "id": "f405febe-8e7a-4fbe-9467-0b1b1f384197",
   "metadata": {},
   "source": [
    "## Crosscheck Fingerprint VCFs\n",
    "\n",
    "Here we use Dalmation to run the `crosscheck_vcfs` workflow on Terra. This workflow calls Picard CrosscheckFingerprints to compare the new fingerprint vcfs to batches of existing fingerprint vcfs in `fingerprints_dir`"
   ]
  },
  {
   "cell_type": "code",
   "execution_count": null,
   "id": "39670ef3-cd65-4a99-bcc7-5cf53930bdb7",
   "metadata": {},
   "outputs": [],
   "source": [
    "# Create batch files listing all vcfs in fingerprints dir and upload to bucket\n",
    "cmd = \"gsutil ls \"+fingerprints_dir\n",
    "out, err = subprocess.Popen(cmd, shell=True, stdout=subprocess.PIPE, executable='/bin/bash').communicate()\n",
    "vcf_list = str(out).split(\"\\\\n\")\n",
    "vcf_list = vcf_list[1:len(vcf_list)-1]\n",
    "num = 0\n",
    "batches = [] \n",
    "for i in range(0, len(vcf_list), crosscheck_batch_size):\n",
    "    f = open(working_dir + \"vcf_batch_\"+str(num), 'w')\n",
    "    f.write(\"\\n\".join(vcf_list[i:i + crosscheck_batch_size]))\n",
    "    f.close()\n",
    "    batches += [\"vcf_batch_\"+str(num)]\n",
    "    num += 1\n",
    "cmd = 'echo -e \"{}\" | gsutil -m cp -I {}'.format(working_dir+('\\n'+working_dir).join(batches),vcf_list_dir)\n",
    "subprocess.check_call(cmd, shell=True, executable='/bin/bash')"
   ]
  },
  {
   "cell_type": "code",
   "execution_count": null,
   "id": "4cb43515-18e5-4e7f-9824-fc4945cca8f2",
   "metadata": {},
   "outputs": [],
   "source": [
    "# Create list with new vcfs and upload to bucket\n",
    "f = open(working_dir + \"new_vcfs\", 'w')\n",
    "f.write(fingerprints_dir+'/'+('.vcf\\n'+fingerprints_dir+'/').join(bams[\"id\"])+'.vcf')\n",
    "f.close()\n",
    "cmd = 'gsutil cp '+working_dir+'new_vcfs '+vcf_list_dir\n",
    "subprocess.check_call(cmd, shell=True, executable='/bin/bash')"
   ]
  },
  {
   "cell_type": "code",
   "execution_count": null,
   "id": "c732ee0c-84c9-4e97-8c1b-3d8fdf1f1472",
   "metadata": {},
   "outputs": [],
   "source": [
    "# Upload sample sheet\n",
    "samples_df = pd.DataFrame(data={\"sample_id\" : batches, \"participant_id\" : batches, \\\n",
    "                    \"vcf_input_file\" : [vcf_list_dir+'/new_vcfs']*len(batches), \\\n",
    "                   \"vcf_second_input_file\" : [vcf_list_dir+'/'+x for x in batches]})\n",
    "samples_df = samples_df.set_index('sample_id')\n",
    "wm.upload_samples(samples_df, add_participant_samples=True)\n",
    "wm.update_sample_set('all_samples', samples_df.index)"
   ]
  },
  {
   "cell_type": "code",
   "execution_count": null,
   "id": "deb2932d-e828-45fd-bf30-05424e0e5d05",
   "metadata": {},
   "outputs": [],
   "source": [
    "# Submit jobs\n",
    "wm.create_submission(\"crosscheck_vcfs\",'all_samples','sample_set',expression='this.samples')"
   ]
  },
  {
   "cell_type": "code",
   "execution_count": null,
   "id": "464da9be-0602-405c-b75c-985d9c216fc6",
   "metadata": {},
   "outputs": [],
   "source": [
    "# Monitor jobs\n",
    "wm.get_submission_status()"
   ]
  },
  {
   "cell_type": "markdown",
   "id": "7d1417b0-de49-448b-b81b-56b441e46f32",
   "metadata": {},
   "source": [
    "## Update LOD matrix\n",
    "\n",
    "Here we update the fingerprint LOD matrix on taiga with the new fingerprints"
   ]
  },
  {
   "cell_type": "code",
   "execution_count": null,
   "id": "9f9740b2-d77c-4e64-8161-516d1bc96e93",
   "metadata": {},
   "outputs": [],
   "source": [
    "# Download crosscheck results\n",
    "samples_df = wm.get_samples()\n",
    "cmd = 'echo -e \"{}\" | gsutil -m cp -I {}'.format('\\n'.join(samples_df.loc[batches,\"crosscheck_out\"]),working_dir)\n",
    "subprocess.check_call(cmd, shell=True, executable='/bin/bash')"
   ]
  },
  {
   "cell_type": "code",
   "execution_count": null,
   "id": "d680a8cc-5eb2-4663-ba89-d9e2b4a4f89e",
   "metadata": {},
   "outputs": [],
   "source": [
    "# Generate matrix with LOD score for new fingerprint vcfs\n",
    "new_lod_list = []\n",
    "for batch in batches:\n",
    "    df = pd.read_csv(working_dir+batch+\"_crosscheck\",sep='\\t',comment='#')\n",
    "    lod_mat = df.pivot(index = \"LEFT_SAMPLE\",columns=\"RIGHT_SAMPLE\",values = \"LOD_SCORE\")\n",
    "    new_lod_list += [lod_mat]\n",
    "new_lod_mat = reduce(lambda x, y: pd.merge(x, y, left_index = True, right_index = True), new_lod_list)\n",
    "new_lod_mat.index.name = None\n",
    "new_lod_mat"
   ]
  },
  {
   "cell_type": "code",
   "execution_count": null,
   "id": "fca59bde-6512-4922-b712-8996d3c3b5e4",
   "metadata": {},
   "outputs": [],
   "source": [
    "lod_mat =  tc.get(name='ccle-bam-fingerprints-6f30',file='fingerprint_lod_matrix')"
   ]
  },
  {
   "cell_type": "code",
   "execution_count": null,
   "id": "8b5ebd6e-06fd-4785-9b3f-6f4f65f3f4d8",
   "metadata": {},
   "outputs": [],
   "source": [
    "# Update LOD matrix\n",
    "new_ids = set(new_lod_mat.index)\n",
    "old_ids = set(lod_mat.index).difference(new_ids)\n",
    "updated_lod_mat = pd.concat((lod_mat.loc[old_ids,old_ids],new_lod_mat.loc[new_ids,old_ids]), axis=0)\n",
    "updated_lod_mat = pd.concat((updated_lod_mat.loc[new_ids.union(old_ids),old_ids], \\\n",
    "                             new_lod_mat.transpose().loc[new_ids.union(old_ids,new_ids)]), axis=1)\n",
    "updated_lod_mat"
   ]
  },
  {
   "cell_type": "code",
   "execution_count": null,
   "id": "a77d1595-665c-449a-abc5-b71ae2ecd413",
   "metadata": {},
   "outputs": [],
   "source": [
    "# Upload updated LOD matrix to Tiaga\n",
    "updated_lod_mat.to_csv(working_dir+'fingerprint_lod_matrix.csv')\n",
    "tc.update_dataset(dataset_permaname = \"ccle-bam-fingerprints-6f30\",\n",
    "                  changes_description=\"New bam fingerprints added\",\n",
    "                  upload_file_path_dict=[\n",
    "                    {\n",
    "                        \"path\": working_dir+'fingerprint_lod_matrix.csv',\n",
    "                        \"name\": \"fingerprint_lod_matrix\",\n",
    "                        \"format\": \"NumericMatrixCSV\",\n",
    "                        \"encoding\": \"utf-8\"\n",
    "                    }\n",
    "                 ],\n",
    "                 add_all_existing_files=True)"
   ]
  },
  {
   "cell_type": "code",
   "execution_count": null,
   "id": "9ab40bcd-91ea-4175-b6ba-e7699442781f",
   "metadata": {},
   "outputs": [],
   "source": []
  }
 ],
 "metadata": {
  "kernelspec": {
   "display_name": "Python 3",
   "language": "python",
   "name": "python3"
  },
  "language_info": {
   "codemirror_mode": {
    "name": "ipython",
    "version": 3
   },
   "file_extension": ".py",
   "mimetype": "text/x-python",
   "name": "python",
   "nbconvert_exporter": "python",
   "pygments_lexer": "ipython3",
   "version": "3.8.3"
  }
 },
 "nbformat": 4,
 "nbformat_minor": 5
}
