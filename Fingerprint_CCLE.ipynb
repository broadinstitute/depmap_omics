{
 "cells": [
  {
   "cell_type": "markdown",
   "id": "a8127bb2-4a2a-49ea-9ca3-3f09864ecb91",
   "metadata": {},
   "source": [
    "# CCLE SNP Fingerprinting Pipeline\n",
    "Author: William Colgan (wcolgan@broadinstitute.org)"
   ]
  },
  {
   "cell_type": "code",
   "execution_count": 236,
   "id": "925e7a97-b3cf-4934-a127-6586c7ddfadb",
   "metadata": {},
   "outputs": [],
   "source": [
    "# Load packages\n",
    "\n",
    "import pandas as pd\n",
    "import numpy as np\n",
    "import dalmatian as dm\n",
    "import subprocess\n",
    "from taigapy import TaigaClient\n",
    "from functools import reduce\n",
    "\n",
    "tc = TaigaClient()"
   ]
  },
  {
   "cell_type": "code",
   "execution_count": 360,
   "id": "89fedc5d-6a0a-493a-ac91-89b38be90d67",
   "metadata": {},
   "outputs": [],
   "source": [
    "# Pipeline parameters\n",
    "\n",
    "# CSV file of bams to fingerprint with columns: id, bam_filepath, bai_filepath\n",
    "bams_sheet = \"/Users/wcolgan/Desktop/bams_to_fingerprint.csv\" \n",
    "\n",
    "# Local directory to save intermediate files to\n",
    "working_dir = \"/Users/wcolgan/Desktop/fingerprint/\"\n",
    "\n",
    "# GC storage bucket containing fingerprints\n",
    "fingerprints_dir = \"gs://fc-secure-6b6a3e1a-6fb8-4d30-b0df-a359e6c5d6e6/fingerprints\"\n",
    "\n",
    "# GC storage bucket containing lists for vcf files\n",
    "vcf_list_dir = \"gs://fc-secure-6b6a3e1a-6fb8-4d30-b0df-a359e6c5d6e6/vcf_lists\"\n",
    "\n",
    "# Batch sise for crosscheck_vcf. If more than 200 bams are being run this should be decreased\n",
    "crosscheck_batch_size = 500"
   ]
  },
  {
   "cell_type": "markdown",
   "id": "fc9ff46f-a628-4c0e-b7e8-a60ecb505ebc",
   "metadata": {},
   "source": [
    "## Generate Fingerprint VCFs\n",
    "\n",
    "Here we use Dalmatian to run the `fingerprint_bam_with_liftover` workflow on Terra. \n",
    "This workflow calls Picard ExtractFingerprint to generate a fingerprint VCF and then \n",
    "calls Picard LiftoverVcf to covert this vcf to hg38. To fingerprint hg38 bam files just run `fingerprint_bam` instead."
   ]
  },
  {
   "cell_type": "code",
   "execution_count": 42,
   "id": "f739ff7b-675e-4a3b-b482-c7a27c3b45d3",
   "metadata": {},
   "outputs": [
    {
     "data": {
      "text/html": [
       "<div>\n",
       "<style scoped>\n",
       "    .dataframe tbody tr th:only-of-type {\n",
       "        vertical-align: middle;\n",
       "    }\n",
       "\n",
       "    .dataframe tbody tr th {\n",
       "        vertical-align: top;\n",
       "    }\n",
       "\n",
       "    .dataframe thead th {\n",
       "        text-align: right;\n",
       "    }\n",
       "</style>\n",
       "<table border=\"1\" class=\"dataframe\">\n",
       "  <thead>\n",
       "    <tr style=\"text-align: right;\">\n",
       "      <th></th>\n",
       "      <th>id</th>\n",
       "      <th>bam_filepath</th>\n",
       "      <th>bai_filepath</th>\n",
       "    </tr>\n",
       "  </thead>\n",
       "  <tbody>\n",
       "    <tr>\n",
       "      <th>0</th>\n",
       "      <td>CDS-23oatC</td>\n",
       "      <td>gs://cclebams/raindance/G16640/NCI-H1915/curre...</td>\n",
       "      <td>gs://cclebams/raindance/G16640/NCI-H1915/curre...</td>\n",
       "    </tr>\n",
       "    <tr>\n",
       "      <th>1</th>\n",
       "      <td>CDS-QfMo0t</td>\n",
       "      <td>gs://cclebams/raindance/G16640/HH/current/HH.bam</td>\n",
       "      <td>gs://cclebams/raindance/G16640/HH/current/HH.bai</td>\n",
       "    </tr>\n",
       "    <tr>\n",
       "      <th>2</th>\n",
       "      <td>CDS-VzUBNL</td>\n",
       "      <td>gs://cclebams/raindance/G16640/LXF-289/current...</td>\n",
       "      <td>gs://cclebams/raindance/G16640/LXF-289/current...</td>\n",
       "    </tr>\n",
       "  </tbody>\n",
       "</table>\n",
       "</div>"
      ],
      "text/plain": [
       "           id                                       bam_filepath  \\\n",
       "0  CDS-23oatC  gs://cclebams/raindance/G16640/NCI-H1915/curre...   \n",
       "1  CDS-QfMo0t   gs://cclebams/raindance/G16640/HH/current/HH.bam   \n",
       "2  CDS-VzUBNL  gs://cclebams/raindance/G16640/LXF-289/current...   \n",
       "\n",
       "                                        bai_filepath  \n",
       "0  gs://cclebams/raindance/G16640/NCI-H1915/curre...  \n",
       "1   gs://cclebams/raindance/G16640/HH/current/HH.bai  \n",
       "2  gs://cclebams/raindance/G16640/LXF-289/current...  "
      ]
     },
     "execution_count": 42,
     "metadata": {},
     "output_type": "execute_result"
    }
   ],
   "source": [
    "bams = pd.read_csv(bams_sheet)\n",
    "bams"
   ]
  },
  {
   "cell_type": "code",
   "execution_count": 10,
   "id": "96dc3cf8-cea1-4927-9775-86d758e180e8",
   "metadata": {},
   "outputs": [],
   "source": [
    "wm = dm.WorkspaceManager(\"broad-firecloud-ccle/CCLE_SNP_QC\")"
   ]
  },
  {
   "cell_type": "code",
   "execution_count": 43,
   "id": "2d070fbb-0282-4a5b-926a-eddd44f7189d",
   "metadata": {},
   "outputs": [
    {
     "name": "stdout",
     "output_type": "stream",
     "text": [
      "Successfully imported 3 participants.\n",
      "Successfully imported 3 samples.\n",
      "  * The FireCloud data model currently does not provide participant.samples\n",
      "    Adding \"participant.samples_\" as an explicit attribute.\n",
      "Updating samples for participants [                                                           ] 0.00Updating samples for participants [                                                           ] 0.000===================                                        ] 33.33=======================================                    ] 66.66========================================================== ] 100.00                                                                                                      \n",
      "    Finished attaching samples to 3 participants\n",
      "Hound executing batch upload of 12 records\n",
      "Successfully imported 1 sample sets:\n",
      "  * all_samples (3 samples)\n"
     ]
    }
   ],
   "source": [
    "# Upload sample sheet\n",
    "samples_df = bams[[\"bam_filepath\",\"bai_filepath\"]]\n",
    "samples_df[[\"sample_id\"]] = bams[[\"id\"]]\n",
    "samples_df[[\"participant_id\"]] = bams[[\"id\"]]\n",
    "samples_df = samples_df.set_index('sample_id')\n",
    "wm.upload_samples(samples_df, add_participant_samples=True)\n",
    "wm.update_sample_set('all_samples', samples_df.index)"
   ]
  },
  {
   "cell_type": "code",
   "execution_count": 53,
   "id": "21c3a53b-e0bb-4c55-adb9-fe730b2f354a",
   "metadata": {},
   "outputs": [
    {
     "name": "stdout",
     "output_type": "stream",
     "text": [
      "Successfully created submission 1390a3ce-a2f8-409d-a86d-3c0384e64d10.\n"
     ]
    },
    {
     "data": {
      "text/plain": [
       "'1390a3ce-a2f8-409d-a86d-3c0384e64d10'"
      ]
     },
     "execution_count": 53,
     "metadata": {},
     "output_type": "execute_result"
    }
   ],
   "source": [
    "# Submit jobs \n",
    "wm.create_submission(\"fingerprint_bam_with_liftover\",'all_samples','sample_set',expression='this.samples')\n",
    "#wm.create_submission(\"fingerprint_bam\",'all_samples','sample_set',expression='this.samples')"
   ]
  },
  {
   "cell_type": "code",
   "execution_count": null,
   "id": "c10f1e24-1659-4dd9-b4c9-dd35163f386b",
   "metadata": {},
   "outputs": [],
   "source": [
    "# Monitor jobs\n",
    "wm.get_submission_status()"
   ]
  },
  {
   "cell_type": "markdown",
   "id": "f79168f6-636b-44ab-8a72-c060a224b578",
   "metadata": {},
   "source": [
    "## Move Fingerprint VCFs\n",
    "\n",
    "Here we move the fingerprint vcf files into `fingerprints_dir`"
   ]
  },
  {
   "cell_type": "code",
   "execution_count": 97,
   "id": "8f92dcf8-c4cf-4d99-836e-946b36ee5389",
   "metadata": {},
   "outputs": [
    {
     "data": {
      "text/plain": [
       "0"
      ]
     },
     "execution_count": 97,
     "metadata": {},
     "output_type": "execute_result"
    }
   ],
   "source": [
    "samples_df = wm.get_samples()\n",
    "cmd = 'echo -e \"{}\" | gsutil -m cp -I {}'.format('\\n'.join(samples_df[\"fingerprint_vcf\"]), fingerprints_dir)\n",
    "subprocess.check_call(cmd, shell=True, executable='/bin/bash')"
   ]
  },
  {
   "cell_type": "markdown",
   "id": "f405febe-8e7a-4fbe-9467-0b1b1f384197",
   "metadata": {},
   "source": [
    "## Crosscheck Fingerprint VCFs\n",
    "\n",
    "Here we use Dalmation to run the `crosscheck_vcfs` workflow on Terra. This workflow calls Picard CrosscheckFingerprints to compare the new fingerprint vcfs to batches of existing fingerprint vcfs in `fingerprints_dir`"
   ]
  },
  {
   "cell_type": "code",
   "execution_count": 361,
   "id": "39670ef3-cd65-4a99-bcc7-5cf53930bdb7",
   "metadata": {},
   "outputs": [
    {
     "data": {
      "text/plain": [
       "0"
      ]
     },
     "execution_count": 361,
     "metadata": {},
     "output_type": "execute_result"
    }
   ],
   "source": [
    "# Create batch files listing all vcfs in fingerprints dir and upload to bucket\n",
    "cmd = \"gsutil ls \"+fingerprints_dir\n",
    "out, err = subprocess.Popen(cmd, shell=True, stdout=subprocess.PIPE, executable='/bin/bash').communicate()\n",
    "vcf_list = str(out).split(\"\\\\n\")\n",
    "vcf_list = vcf_list[1:len(vcf_list)-1]\n",
    "num = 0\n",
    "batches = [] \n",
    "for i in range(0, len(vcf_list), crosscheck_batch_size):\n",
    "    f = open(working_dir + \"vcf_batch_\"+str(num), 'w')\n",
    "    f.write(\"\\n\".join(vcf_list[i:i + crosscheck_batch_size]))\n",
    "    f.close()\n",
    "    batches += [\"vcf_batch_\"+str(num)]\n",
    "    num += 1\n",
    "cmd = 'echo -e \"{}\" | gsutil -m cp -I {}'.format(working_dir+('\\n'+working_dir).join(batches),vcf_list_dir)\n",
    "subprocess.check_call(cmd, shell=True, executable='/bin/bash')"
   ]
  },
  {
   "cell_type": "code",
   "execution_count": 351,
   "id": "4cb43515-18e5-4e7f-9824-fc4945cca8f2",
   "metadata": {},
   "outputs": [
    {
     "data": {
      "text/plain": [
       "0"
      ]
     },
     "execution_count": 351,
     "metadata": {},
     "output_type": "execute_result"
    }
   ],
   "source": [
    "# Create list with new vcfs and upload to bucket\n",
    "f = open(working_dir + \"new_vcfs\", 'w')\n",
    "f.write(fingerprints_dir+'/'+('.vcf\\n'+fingerprints_dir+'/').join(bams[\"id\"])+'.vcf')\n",
    "f.close()\n",
    "cmd = 'gsutil cp '+working_dir+'new_vcfs '+vcf_list_dir\n",
    "subprocess.check_call(cmd, shell=True, executable='/bin/bash')"
   ]
  },
  {
   "cell_type": "code",
   "execution_count": 347,
   "id": "c732ee0c-84c9-4e97-8c1b-3d8fdf1f1472",
   "metadata": {},
   "outputs": [
    {
     "name": "stdout",
     "output_type": "stream",
     "text": [
      "Successfully imported 12 participants.\n",
      "Successfully imported 12 samples.\n",
      "  * The FireCloud data model currently does not provide participant.samples\n",
      "    Adding \"participant.samples_\" as an explicit attribute.\n",
      "Updating samples for participants [                                                           ] 0.00Updating samples for participants [                                                           ] 0.000===                                                        ] 6.667=======                                                    ] 13.33===========                                                ] 20.00===============                                            ] 26.66===================                                        ] 33.33=======================                                    ] 40.00===========================                                ] 46.66===============================                            ] 53.33===================================                        ] 60.00=======================================                    ] 66.66===========================================                ] 73.33===============================================            ] 80.00===================================================        ] 86.66=======================================================    ] 93.33===========================================================] 100.00                                                                                                      \n",
      "    Finished attaching samples to 15 participants\n",
      "Hound executing batch upload of 60 records\n",
      "Sample set \"all_samples\" (12 samples) successfully updated.\n"
     ]
    }
   ],
   "source": [
    "# Upload sample sheet\n",
    "samples_df = pd.DataFrame(data={\"sample_id\" : batches, \"participant_id\" : batches, \\\n",
    "                    \"vcf_input_file\" : [vcf_list_dir+'/new_vcfs']*len(batches), \\\n",
    "                   \"vcf_second_input_file\" : [vcf_list_dir+'/'+x for x in batches]})\n",
    "samples_df = samples_df.set_index('sample_id')\n",
    "wm.upload_samples(samples_df, add_participant_samples=True)\n",
    "wm.update_sample_set('all_samples', samples_df.index)"
   ]
  },
  {
   "cell_type": "code",
   "execution_count": 352,
   "id": "deb2932d-e828-45fd-bf30-05424e0e5d05",
   "metadata": {},
   "outputs": [
    {
     "name": "stdout",
     "output_type": "stream",
     "text": [
      "Successfully created submission 5ef1d80d-a5d9-4b52-835b-b5bead5dae67.\n"
     ]
    },
    {
     "data": {
      "text/plain": [
       "'5ef1d80d-a5d9-4b52-835b-b5bead5dae67'"
      ]
     },
     "execution_count": 352,
     "metadata": {},
     "output_type": "execute_result"
    }
   ],
   "source": [
    "# Submit jobs\n",
    "wm.create_submission(\"crosscheck_vcfs\",'all_samples','sample_set',expression='this.samples')"
   ]
  },
  {
   "cell_type": "code",
   "execution_count": null,
   "id": "464da9be-0602-405c-b75c-985d9c216fc6",
   "metadata": {},
   "outputs": [],
   "source": [
    "# Monitor jobs\n",
    "wm.get_submission_status()"
   ]
  },
  {
   "cell_type": "markdown",
   "id": "7d1417b0-de49-448b-b81b-56b441e46f32",
   "metadata": {},
   "source": [
    "## Update LOD matrix\n",
    "\n",
    "Here we update the fingerprint LOD matrix on taiga with the new fingerprints"
   ]
  },
  {
   "cell_type": "code",
   "execution_count": 371,
   "id": "9f9740b2-d77c-4e64-8161-516d1bc96e93",
   "metadata": {},
   "outputs": [
    {
     "data": {
      "text/plain": [
       "0"
      ]
     },
     "execution_count": 371,
     "metadata": {},
     "output_type": "execute_result"
    }
   ],
   "source": [
    "# Download crosscheck results\n",
    "samples_df = wm.get_samples()\n",
    "cmd = 'echo -e \"{}\" | gsutil -m cp -I {}'.format('\\n'.join(samples_df.loc[batches,\"crosscheck_out\"]),working_dir)\n",
    "subprocess.check_call(cmd, shell=True, executable='/bin/bash')"
   ]
  },
  {
   "cell_type": "code",
   "execution_count": 380,
   "id": "d680a8cc-5eb2-4663-ba89-d9e2b4a4f89e",
   "metadata": {},
   "outputs": [
    {
     "data": {
      "text/html": [
       "<div>\n",
       "<style scoped>\n",
       "    .dataframe tbody tr th:only-of-type {\n",
       "        vertical-align: middle;\n",
       "    }\n",
       "\n",
       "    .dataframe tbody tr th {\n",
       "        vertical-align: top;\n",
       "    }\n",
       "\n",
       "    .dataframe thead th {\n",
       "        text-align: right;\n",
       "    }\n",
       "</style>\n",
       "<table border=\"1\" class=\"dataframe\">\n",
       "  <thead>\n",
       "    <tr style=\"text-align: right;\">\n",
       "      <th>RIGHT_SAMPLE</th>\n",
       "      <th>CDS-000dBy</th>\n",
       "      <th>CDS-00Nrci</th>\n",
       "      <th>CDS-00rz9N</th>\n",
       "      <th>CDS-010xbm</th>\n",
       "      <th>CDS-01bI6z</th>\n",
       "      <th>CDS-02TzJp</th>\n",
       "      <th>CDS-02ltm1</th>\n",
       "      <th>CDS-02waxZ</th>\n",
       "      <th>CDS-04TUV3</th>\n",
       "      <th>CDS-04j2qH</th>\n",
       "      <th>...</th>\n",
       "      <th>CDS-ztl1X2</th>\n",
       "      <th>CDS-zu3dLJ</th>\n",
       "      <th>CDS-zuxWuZ</th>\n",
       "      <th>CDS-zvEfPE</th>\n",
       "      <th>CDS-zveZ9V</th>\n",
       "      <th>CDS-zvrgDc</th>\n",
       "      <th>CDS-zvvAOM</th>\n",
       "      <th>CDS-zx92JS</th>\n",
       "      <th>CDS-zyxdAN</th>\n",
       "      <th>CDS-zzbiLf</th>\n",
       "    </tr>\n",
       "  </thead>\n",
       "  <tbody>\n",
       "    <tr>\n",
       "      <th>CDS-23oatC</th>\n",
       "      <td>-94.284684</td>\n",
       "      <td>-122.999530</td>\n",
       "      <td>-123.655088</td>\n",
       "      <td>-84.356566</td>\n",
       "      <td>-86.213755</td>\n",
       "      <td>-92.719186</td>\n",
       "      <td>0.0</td>\n",
       "      <td>-112.404489</td>\n",
       "      <td>-97.072316</td>\n",
       "      <td>-68.507172</td>\n",
       "      <td>...</td>\n",
       "      <td>-47.291486</td>\n",
       "      <td>-97.681978</td>\n",
       "      <td>-137.193205</td>\n",
       "      <td>-89.912195</td>\n",
       "      <td>-64.553341</td>\n",
       "      <td>-98.109644</td>\n",
       "      <td>-75.392459</td>\n",
       "      <td>-97.419513</td>\n",
       "      <td>-92.086247</td>\n",
       "      <td>-104.100597</td>\n",
       "    </tr>\n",
       "    <tr>\n",
       "      <th>CDS-QfMo0t</th>\n",
       "      <td>-94.983583</td>\n",
       "      <td>-147.947205</td>\n",
       "      <td>-95.976123</td>\n",
       "      <td>-109.823965</td>\n",
       "      <td>-100.514152</td>\n",
       "      <td>-114.737916</td>\n",
       "      <td>0.0</td>\n",
       "      <td>-139.541130</td>\n",
       "      <td>-109.777991</td>\n",
       "      <td>-84.796627</td>\n",
       "      <td>...</td>\n",
       "      <td>-56.901680</td>\n",
       "      <td>-111.504015</td>\n",
       "      <td>-128.873864</td>\n",
       "      <td>-104.861319</td>\n",
       "      <td>-73.690429</td>\n",
       "      <td>-118.464489</td>\n",
       "      <td>-110.689836</td>\n",
       "      <td>-107.049804</td>\n",
       "      <td>-110.146897</td>\n",
       "      <td>-90.764134</td>\n",
       "    </tr>\n",
       "    <tr>\n",
       "      <th>CDS-VzUBNL</th>\n",
       "      <td>-99.422741</td>\n",
       "      <td>-137.322642</td>\n",
       "      <td>-106.501876</td>\n",
       "      <td>-109.943256</td>\n",
       "      <td>-106.397270</td>\n",
       "      <td>-104.116092</td>\n",
       "      <td>0.0</td>\n",
       "      <td>-125.199889</td>\n",
       "      <td>-86.127213</td>\n",
       "      <td>-51.771305</td>\n",
       "      <td>...</td>\n",
       "      <td>-59.525901</td>\n",
       "      <td>-111.010430</td>\n",
       "      <td>-143.055577</td>\n",
       "      <td>-109.003780</td>\n",
       "      <td>-73.797286</td>\n",
       "      <td>-99.229976</td>\n",
       "      <td>-90.853960</td>\n",
       "      <td>-133.635805</td>\n",
       "      <td>-127.439504</td>\n",
       "      <td>-99.963662</td>\n",
       "    </tr>\n",
       "  </tbody>\n",
       "</table>\n",
       "<p>3 rows × 5908 columns</p>\n",
       "</div>"
      ],
      "text/plain": [
       "RIGHT_SAMPLE  CDS-000dBy  CDS-00Nrci  CDS-00rz9N  CDS-010xbm  CDS-01bI6z  \\\n",
       "CDS-23oatC    -94.284684 -122.999530 -123.655088  -84.356566  -86.213755   \n",
       "CDS-QfMo0t    -94.983583 -147.947205  -95.976123 -109.823965 -100.514152   \n",
       "CDS-VzUBNL    -99.422741 -137.322642 -106.501876 -109.943256 -106.397270   \n",
       "\n",
       "RIGHT_SAMPLE  CDS-02TzJp  CDS-02ltm1  CDS-02waxZ  CDS-04TUV3  CDS-04j2qH  ...  \\\n",
       "CDS-23oatC    -92.719186         0.0 -112.404489  -97.072316  -68.507172  ...   \n",
       "CDS-QfMo0t   -114.737916         0.0 -139.541130 -109.777991  -84.796627  ...   \n",
       "CDS-VzUBNL   -104.116092         0.0 -125.199889  -86.127213  -51.771305  ...   \n",
       "\n",
       "RIGHT_SAMPLE  CDS-ztl1X2  CDS-zu3dLJ  CDS-zuxWuZ  CDS-zvEfPE  CDS-zveZ9V  \\\n",
       "CDS-23oatC    -47.291486  -97.681978 -137.193205  -89.912195  -64.553341   \n",
       "CDS-QfMo0t    -56.901680 -111.504015 -128.873864 -104.861319  -73.690429   \n",
       "CDS-VzUBNL    -59.525901 -111.010430 -143.055577 -109.003780  -73.797286   \n",
       "\n",
       "RIGHT_SAMPLE  CDS-zvrgDc  CDS-zvvAOM  CDS-zx92JS  CDS-zyxdAN  CDS-zzbiLf  \n",
       "CDS-23oatC    -98.109644  -75.392459  -97.419513  -92.086247 -104.100597  \n",
       "CDS-QfMo0t   -118.464489 -110.689836 -107.049804 -110.146897  -90.764134  \n",
       "CDS-VzUBNL    -99.229976  -90.853960 -133.635805 -127.439504  -99.963662  \n",
       "\n",
       "[3 rows x 5908 columns]"
      ]
     },
     "execution_count": 380,
     "metadata": {},
     "output_type": "execute_result"
    }
   ],
   "source": [
    "# Generate matrix with LOD score for new fingerprint vcfs\n",
    "new_lod_list = []\n",
    "for batch in batches:\n",
    "    df = pd.read_csv(working_dir+batch+\"_crosscheck\",sep='\\t',comment='#')\n",
    "    lod_mat = df.pivot(index = \"LEFT_SAMPLE\",columns=\"RIGHT_SAMPLE\",values = \"LOD_SCORE\")\n",
    "    new_lod_list += [lod_mat]\n",
    "new_lod_mat = reduce(lambda x, y: pd.merge(x, y, left_index = True, right_index = True), new_lod_list)\n",
    "new_lod_mat.index.name = None\n",
    "new_lod_mat"
   ]
  },
  {
   "cell_type": "code",
   "execution_count": 381,
   "id": "fca59bde-6512-4922-b712-8996d3c3b5e4",
   "metadata": {},
   "outputs": [
    {
     "name": "stderr",
     "output_type": "stream",
     "text": [
      "[##################]100% |   7.8 MiB/s | 250.2 MiB / 250.2 MiB | Time:  0:00:31\n"
     ]
    }
   ],
   "source": [
    "lod_mat =  tc.get(name='ccle-bam-fingerprints-6f30',file='fingerprint_lod_matrix')"
   ]
  },
  {
   "cell_type": "code",
   "execution_count": 386,
   "id": "8b5ebd6e-06fd-4785-9b3f-6f4f65f3f4d8",
   "metadata": {},
   "outputs": [],
   "source": [
    "# Update LOD matrix\n",
    "new_ids = set(new_lod_mat.index)\n",
    "old_ids = set(lod_mat.index).difference(new_ids)\n",
    "updated_lod_mat = pd.concat((lod_mat.loc[old_ids,old_ids],new_lod_mat.loc[new_ids,old_ids]), axis=0)\n",
    "updated_lod_mat = pd.concat((updated_lod_mat.loc[new_ids.union(old_ids),old_ids], \\\n",
    "                             new_lod_mat.transpose().loc[new_ids.union(old_ids,new_ids)]), axis=1)\n",
    "updated_lod_mat"
   ]
  },
  {
   "cell_type": "code",
   "execution_count": 237,
   "id": "a77d1595-665c-449a-abc5-b71ae2ecd413",
   "metadata": {},
   "outputs": [
    {
     "ename": "AttributeError",
     "evalue": "'list' object has no attribute 'items'",
     "output_type": "error",
     "traceback": [
      "\u001b[0;31m---------------------------------------------------------------------------\u001b[0m",
      "\u001b[0;31mAttributeError\u001b[0m                            Traceback (most recent call last)",
      "\u001b[0;32m<ipython-input-237-6d840a0b1098>\u001b[0m in \u001b[0;36m<module>\u001b[0;34m\u001b[0m\n\u001b[1;32m      1\u001b[0m \u001b[0mupdated_lod_mat\u001b[0m\u001b[0;34m.\u001b[0m\u001b[0mto_csv\u001b[0m\u001b[0;34m(\u001b[0m\u001b[0mworking_dir\u001b[0m\u001b[0;34m+\u001b[0m\u001b[0;34m'fingerprint_lod_matrix.csv'\u001b[0m\u001b[0;34m)\u001b[0m\u001b[0;34m\u001b[0m\u001b[0;34m\u001b[0m\u001b[0m\n\u001b[0;32m----> 2\u001b[0;31m tc.update_dataset(dataset_permaname = \"ccle-bam-fingerprints-6f30\",\n\u001b[0m\u001b[1;32m      3\u001b[0m                   \u001b[0mchanges_description\u001b[0m\u001b[0;34m=\u001b[0m\u001b[0;34m\"New bam fingerprints added\"\u001b[0m\u001b[0;34m,\u001b[0m\u001b[0;34m\u001b[0m\u001b[0;34m\u001b[0m\u001b[0m\n\u001b[1;32m      4\u001b[0m                   upload_file_path_dict=[\n\u001b[1;32m      5\u001b[0m                     {\n",
      "\u001b[0;32m/Library/miniconda3/lib/python3.8/site-packages/taigapy/__init__.py\u001b[0m in \u001b[0;36mupdate_dataset\u001b[0;34m(self, dataset_id, dataset_permaname, dataset_version, dataset_description, changes_description, upload_file_path_dict, add_taiga_ids, add_all_existing_files)\u001b[0m\n",
      "\u001b[0;31mAttributeError\u001b[0m: 'list' object has no attribute 'items'"
     ]
    }
   ],
   "source": [
    "# Upload updated LOD matrix to Tiaga\n",
    "updated_lod_mat.to_csv(working_dir+'fingerprint_lod_matrix.csv')\n",
    "tc.update_dataset(dataset_permaname = \"ccle-bam-fingerprints-6f30\",\n",
    "                  changes_description=\"New bam fingerprints added\",\n",
    "                  upload_file_path_dict=[\n",
    "                    {\n",
    "                        \"path\": working_dir+'fingerprint_lod_matrix.csv',\n",
    "                        \"name\": \"fingerprint_lod_matrix\",\n",
    "                        \"format\": \"NumericMatrixCSV\",\n",
    "                        \"encoding\": \"utf-8\"\n",
    "                    }\n",
    "                 ],\n",
    "                 add_all_existing_files=True)"
   ]
  },
  {
   "cell_type": "code",
   "execution_count": null,
   "id": "9ab40bcd-91ea-4175-b6ba-e7699442781f",
   "metadata": {},
   "outputs": [],
   "source": []
  }
 ],
 "metadata": {
  "kernelspec": {
   "display_name": "Python 3",
   "language": "python",
   "name": "python3"
  },
  "language_info": {
   "codemirror_mode": {
    "name": "ipython",
    "version": 3
   },
   "file_extension": ".py",
   "mimetype": "text/x-python",
   "name": "python",
   "nbconvert_exporter": "python",
   "pygments_lexer": "ipython3",
   "version": "3.8.3"
  }
 },
 "nbformat": 4,
 "nbformat_minor": 5
}
