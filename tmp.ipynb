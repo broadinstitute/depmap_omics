{
 "cells": [
  {
   "cell_type": "code",
   "execution_count": null,
   "metadata": {},
   "outputs": [],
   "source": [
    "!touch /tmp/tmp.txt"
   ]
  },
  {
   "cell_type": "code",
   "execution_count": null,
   "metadata": {},
   "outputs": [],
   "source": [
    "from taigapy import default_tc as tc\n",
    "\n",
    "new_dataset_id = tc.create_dataset(\n",
    "    \"CN latest\",\n",
    "    dataset_description=\"copy number data\", # optional (but recommended)\n",
    "    upload_files=[\n",
    "        {\n",
    "            \"path\": \"/tmp/tmp.txt\",\n",
    "            \"name\": \"temp\", # optional, will use file name if not provided\n",
    "            \"format\": \"Raw\", # or \"NumericMatrixCSV\" or \"TableCSV\"\n",
    "            \"encoding\": \"utf-8\" # optional (but recommended), will use iso-8859-1 if not provided\n",
    "        }\n",
    "    ],\n",
    "    folder_id=\"af8daf85d5f84f29b9f1494e8f05b9fd\", # optional, will default to your home folder if not provided\n",
    ")"
   ]
  },
  {
   "cell_type": "code",
   "execution_count": null,
   "metadata": {},
   "outputs": [],
   "source": []
  }
 ],
 "metadata": {
  "interpreter": {
   "hash": "dbfbddf5c4176ea56e92aa442bfc1e9f8af93a802b8712f75ea721993d9f596d"
  },
  "kernelspec": {
   "display_name": "Python 3.8.5 64-bit ('base': conda)",
   "name": "python3"
  },
  "language_info": {
   "codemirror_mode": {
    "name": "ipython",
    "version": 3
   },
   "file_extension": ".py",
   "mimetype": "text/x-python",
   "name": "python",
   "nbconvert_exporter": "python",
   "pygments_lexer": "ipython3",
   "version": "3.8.5"
  }
 },
 "nbformat": 4,
 "nbformat_minor": 2
}
