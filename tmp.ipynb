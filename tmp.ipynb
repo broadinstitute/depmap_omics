{
 "cells": [
  {
   "cell_type": "code",
   "execution_count": null,
   "metadata": {},
   "outputs": [],
   "source": [
    "!touch /tmp/tmp.txt\n",
    "!touch /tmp/tmp0.txt\n",
    "!touch /tmp/tmp1.txt\n",
    "!touch /tmp/tmp2.txt\n",
    "!touch /tmp/tmp3.txt\n",
    "!touch /tmp/tmp4.txt"
   ]
  },
  {
   "cell_type": "code",
   "execution_count": null,
   "metadata": {},
   "outputs": [],
   "source": [
    "from taigapy import default_tc as tc"
   ]
  },
  {
   "cell_type": "code",
   "execution_count": null,
   "metadata": {},
   "outputs": [],
   "source": [
    "new_dataset_id = tc.create_dataset(\n",
    "    \"CN latest\",\n",
    "    dataset_description=\"copy number data\", # optional (but recommended)\n",
    "    upload_files=[\n",
    "        {\n",
    "            \"path\": \"/tmp/tmp.txt\",\n",
    "            \"name\": \"temp\", # optional, will use file name if not provided\n",
    "            \"format\": \"Raw\", # or \"NumericMatrixCSV\" or \"TableCSV\"\n",
    "            \"encoding\": \"utf-8\" # optional (but recommended), will use iso-8859-1 if not provided\n",
    "        }\n",
    "    ],\n",
    "    folder_id=\"af8daf85d5f84f29b9f1494e8f05b9fd\", # optional, will default to your home folder if not provided\n",
    ")"
   ]
  },
  {
   "cell_type": "code",
   "execution_count": null,
   "metadata": {},
   "outputs": [],
   "source": [
    "new_dataset_id = tc.create_dataset(\n",
    "    \"expression\",\n",
    "    dataset_description=\"expression data\", # optional (but recommended)\n",
    "    upload_files=[\n",
    "        {\n",
    "            \"path\": \"/tmp/tmp0.txt\",\n",
    "            \"name\": \"temp\", # optional, will use file name if not provided\n",
    "            \"format\": \"Raw\", # or \"NumericMatrixCSV\" or \"TableCSV\"\n",
    "            \"encoding\": \"utf-8\" # optional (but recommended), will use iso-8859-1 if not provided\n",
    "        }\n",
    "    ],\n",
    "    folder_id=\"af8daf85d5f84f29b9f1494e8f05b9fd\", # optional, will default to your home folder if not provided\n",
    ")"
   ]
  },
  {
   "cell_type": "code",
   "execution_count": null,
   "metadata": {},
   "outputs": [],
   "source": [
    "new_dataset_id = tc.create_dataset(\n",
    "    \"mutations latest\",\n",
    "    dataset_description=\"mutations latest data\", # optional (but recommended)\n",
    "    upload_files=[\n",
    "        {\n",
    "            \"path\": \"/tmp/tmp1.txt\",\n",
    "            \"name\": \"temp\", # optional, will use file name if not provided\n",
    "            \"format\": \"Raw\", # or \"NumericMatrixCSV\" or \"TableCSV\"\n",
    "            \"encoding\": \"utf-8\" # optional (but recommended), will use iso-8859-1 if not provided\n",
    "        }\n",
    "    ],\n",
    "    folder_id=\"af8daf85d5f84f29b9f1494e8f05b9fd\", # optional, will default to your home folder if not provided\n",
    ")"
   ]
  },
  {
   "cell_type": "code",
   "execution_count": null,
   "metadata": {},
   "outputs": [],
   "source": [
    "new_dataset_id = tc.create_dataset(\n",
    "    \"fusions\",\n",
    "    dataset_description=\"fusions data\", # optional (but recommended)\n",
    "    upload_files=[\n",
    "        {\n",
    "            \"path\": \"/tmp/tmp2.txt\",\n",
    "            \"name\": \"temp\", # optional, will use file name if not provided\n",
    "            \"format\": \"Raw\", # or \"NumericMatrixCSV\" or \"TableCSV\"\n",
    "            \"encoding\": \"utf-8\" # optional (but recommended), will use iso-8859-1 if not provided\n",
    "        }\n",
    "    ],\n",
    "    folder_id=\"af8daf85d5f84f29b9f1494e8f05b9fd\", # optional, will default to your home folder if not provided\n",
    ")"
   ]
  },
  {
   "cell_type": "code",
   "execution_count": null,
   "metadata": {},
   "outputs": [],
   "source": [
    "new_dataset_id = tc.create_dataset(\n",
    "    \"CN Achilles version\",\n",
    "    dataset_description=\"CN Achilles version data\", # optional (but recommended)\n",
    "    upload_files=[\n",
    "        {\n",
    "            \"path\": \"/tmp/tmp3.txt\",\n",
    "            \"name\": \"temp\", # optional, will use file name if not provided\n",
    "            \"format\": \"Raw\", # or \"NumericMatrixCSV\" or \"TableCSV\"\n",
    "            \"encoding\": \"utf-8\" # optional (but recommended), will use iso-8859-1 if not provided\n",
    "        }\n",
    "    ],\n",
    "    folder_id=\"af8daf85d5f84f29b9f1494e8f05b9fd\", # optional, will default to your home folder if not provided\n",
    ")"
   ]
  },
  {
   "cell_type": "code",
   "execution_count": null,
   "metadata": {},
   "outputs": [],
   "source": [
    "new_dataset_id = tc.create_dataset(\n",
    "    \"dmc_21Q3\",\n",
    "    dataset_description=\"dmc_21Q3\", # optional (but recommended)\n",
    "    upload_files=[\n",
    "        {\n",
    "            \"path\": \"/tmp/tmp.txt\",\n",
    "            \"name\": \"temp\", # optional, will use file name if not provided\n",
    "            \"format\": \"Raw\", # or \"NumericMatrixCSV\" or \"TableCSV\"\n",
    "            \"encoding\": \"utf-8\" # optional (but recommended), will use iso-8859-1 if not provided\n",
    "        }\n",
    "    ],\n",
    "    folder_id=\"aee7ec053d434091a670bc64a9d7a3c1\", # optional, will default to your home folder if not provided\n",
    ")"
   ]
  },
  {
   "cell_type": "code",
   "execution_count": null,
   "metadata": {},
   "outputs": [],
   "source": [
    "new_dataset_id = tc.create_dataset(\n",
    "    \"ibm_21Q3\",\n",
    "    dataset_description=\"ibm_21Q3\", # optional (but recommended)\n",
    "    upload_files=[\n",
    "        {\n",
    "            \"path\": \"/tmp/tmp.txt\",\n",
    "            \"name\": \"temp\", # optional, will use file name if not provided\n",
    "            \"format\": \"Raw\", # or \"NumericMatrixCSV\" or \"TableCSV\"\n",
    "            \"encoding\": \"utf-8\" # optional (but recommended), will use iso-8859-1 if not provided\n",
    "        }\n",
    "    ],\n",
    "    folder_id=\"aee7ec053d434091a670bc64a9d7a3c1\", # optional, will default to your home folder if not provided\n",
    ")"
   ]
  },
  {
   "cell_type": "code",
   "execution_count": null,
   "metadata": {},
   "outputs": [],
   "source": [
    "new_dataset_id = tc.create_dataset(\n",
    "    \"internal_21Q3\",\n",
    "    dataset_description=\"internal_21Q3\", # optional (but recommended)\n",
    "    upload_files=[\n",
    "        {\n",
    "            \"path\": \"/tmp/tmp.txt\",\n",
    "            \"name\": \"temp\", # optional, will use file name if not provided\n",
    "            \"format\": \"Raw\", # or \"NumericMatrixCSV\" or \"TableCSV\"\n",
    "            \"encoding\": \"utf-8\" # optional (but recommended), will use iso-8859-1 if not provided\n",
    "        }\n",
    "    ],\n",
    "    folder_id=\"aee7ec053d434091a670bc64a9d7a3c1\", # optional, will default to your home folder if not provided\n",
    ")"
   ]
  },
  {
   "cell_type": "code",
   "execution_count": null,
   "metadata": {},
   "outputs": [],
   "source": [
    "new_dataset_id = tc.create_dataset(\n",
    "    \"public_21Q3\",\n",
    "    dataset_description=\"public_21Q3\", # optional (but recommended)\n",
    "    upload_files=[\n",
    "        {\n",
    "            \"path\": \"/tmp/tmp.txt\",\n",
    "            \"name\": \"temp\", # optional, will use file name if not provided\n",
    "            \"format\": \"Raw\", # or \"NumericMatrixCSV\" or \"TableCSV\"\n",
    "            \"encoding\": \"utf-8\" # optional (but recommended), will use iso-8859-1 if not provided\n",
    "        }\n",
    "    ],\n",
    "    folder_id=\"aee7ec053d434091a670bc64a9d7a3c1\", # optional, will default to your home folder if not provided\n",
    ")"
   ]
  },
  {
   "cell_type": "code",
   "execution_count": null,
   "metadata": {},
   "outputs": [],
   "source": [
    "import numpy as np\n",
    "from gsheets import Sheets\n",
    "from depmapomics import tracker as track\n",
    "from depmapomics import utils\n",
    "from depmapomics.qc import cn\n",
    "from depmapomics.config import *\n",
    "from IPython.display import Image, display\n",
    "import dalmatian as dm\n",
    "import pandas as pd\n",
    "from taigapy import TaigaClient\n",
    "tc = TaigaClient()\n",
    "import os\n",
    "from genepy import mutations as mut\n",
    "from genepy.utils import helper as h\n",
    "from genepy import terra\n",
    "from genepy.google import gcp\n",
    "from genepy import rna\n",
    "import matplotlib.pyplot as plt\n",
    "\n",
    "\n",
    "SHEETCREDS = '../.credentials.json'\n",
    "MY_ID = '~/.client_secret.json'\n",
    "MYSTORAGE_ID = \"~/.storage.json\"\n",
    "REFSHEET_URL = \"https://docs.google.com/spreadsheets/d/161mmmHF5nc3nFhgpp_7zub5Erod8xDbXnNZ-u-7BWKI\"\n",
    "SHEETNAME = 'ccle sample tracker sandbox'\n",
    "\n",
    "my_id=MY_ID\n",
    "mystorage_id=MYSTORAGE_ID\n",
    "sheetcreds=SHEETCREDS\n",
    "sheetname=SHEETNAME\n",
    "refsheet_url=REFSHEET_URL"
   ]
  },
  {
   "cell_type": "code",
   "execution_count": null,
   "metadata": {},
   "outputs": [],
   "source": [
    "sheets = Sheets.from_files(my_id, mystorage_id)\n",
    "tracker = sheets.get(refsheet_url).sheets[0].to_frame(index_col=0)\n",
    "\n"
   ]
  },
  {
   "cell_type": "code",
   "execution_count": null,
   "metadata": {},
   "outputs": [],
   "source": [
    "import dalmatian as dm\n",
    "\n",
    "wm1 = dm.WorkspaceManager(\"broad-firecloud-ccle/DepMap_WGS_CN-sandbox\")\n",
    "\n",
    "wgs_samples = wm1.get_samples()\n",
    "wgs_samples = wgs_samples[10:13]\n",
    "# wgs_samples.to_csv(\"wgs_samples.tsv\", sep = '\\t')"
   ]
  },
  {
   "cell_type": "code",
   "execution_count": null,
   "metadata": {},
   "outputs": [],
   "source": [
    "wm2 = dm.WorkspaceManager(\"broad-firecloud-ccle/simone-test\")\n",
    "# wm2 = wm2.disable_hound()\n",
    "wm2.upload_samples(wgs_samples)"
   ]
  }
 ],
 "metadata": {
  "interpreter": {
   "hash": "c43df2cae5c6158b6e53cea1d8cdf493489329b0941ecb076bd167c8d5a6836b"
  },
  "kernelspec": {
   "display_name": "Python 3.9.5 64-bit ('base': conda)",
   "name": "python3"
  },
  "language_info": {
   "codemirror_mode": {
    "name": "ipython",
    "version": 3
   },
   "file_extension": ".py",
   "mimetype": "text/x-python",
   "name": "python",
   "nbconvert_exporter": "python",
   "pygments_lexer": "ipython3",
   "version": "3.9.5"
  }
 },
 "nbformat": 4,
 "nbformat_minor": 2
}
