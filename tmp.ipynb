{
 "cells": [
  {
   "cell_type": "code",
   "execution_count": 3,
   "source": [
    "!touch /tmp/tmp.txt\n",
    "!touch /tmp/tmp0.txt\n",
    "!touch /tmp/tmp1.txt\n",
    "!touch /tmp/tmp2.txt\n",
    "!touch /tmp/tmp3.txt\n",
    "!touch /tmp/tmp4.txt"
   ],
   "outputs": [],
   "metadata": {}
  },
  {
   "cell_type": "code",
   "execution_count": 2,
   "source": [
    "from taigapy import default_tc as tc\n",
    "\n",
    "new_dataset_id = tc.create_dataset(\n",
    "    \"CN latest\",\n",
    "    dataset_description=\"copy number data\", # optional (but recommended)\n",
    "    upload_files=[\n",
    "        {\n",
    "            \"path\": \"/tmp/tmp.txt\",\n",
    "            \"name\": \"temp\", # optional, will use file name if not provided\n",
    "            \"format\": \"Raw\", # or \"NumericMatrixCSV\" or \"TableCSV\"\n",
    "            \"encoding\": \"utf-8\" # optional (but recommended), will use iso-8859-1 if not provided\n",
    "        }\n",
    "    ],\n",
    "    folder_id=\"af8daf85d5f84f29b9f1494e8f05b9fd\", # optional, will default to your home folder if not provided\n",
    ")"
   ],
   "outputs": [
    {
     "output_type": "stream",
     "name": "stdout",
     "text": [
      "Uploading temp to S3\n",
      "Finished uploading temp to S3\n",
      "Uploading temp to Taiga\n",
      "Finished uploading temp to Taiga\n",
      "Dataset created. Access it directly with this url: https://cds.team/taiga/dataset/b524d6547a0b4957af5e9a05d601dfa8\n",
      "\n"
     ]
    }
   ],
   "metadata": {}
  },
  {
   "cell_type": "code",
   "execution_count": 4,
   "source": [
    "new_dataset_id = tc.create_dataset(\n",
    "    \"expression\",\n",
    "    dataset_description=\"expression data\", # optional (but recommended)\n",
    "    upload_files=[\n",
    "        {\n",
    "            \"path\": \"/tmp/tmp0.txt\",\n",
    "            \"name\": \"temp\", # optional, will use file name if not provided\n",
    "            \"format\": \"Raw\", # or \"NumericMatrixCSV\" or \"TableCSV\"\n",
    "            \"encoding\": \"utf-8\" # optional (but recommended), will use iso-8859-1 if not provided\n",
    "        }\n",
    "    ],\n",
    "    folder_id=\"af8daf85d5f84f29b9f1494e8f05b9fd\", # optional, will default to your home folder if not provided\n",
    ")"
   ],
   "outputs": [
    {
     "output_type": "stream",
     "name": "stdout",
     "text": [
      "Uploading temp to S3\n",
      "Finished uploading temp to S3\n",
      "Uploading temp to Taiga\n",
      "Finished uploading temp to Taiga\n",
      "Dataset created. Access it directly with this url: https://cds.team/taiga/dataset/9c3d558b0b5842aa8cf69b11df263de0\n",
      "\n"
     ]
    }
   ],
   "metadata": {}
  },
  {
   "cell_type": "code",
   "execution_count": 5,
   "source": [
    "new_dataset_id = tc.create_dataset(\n",
    "    \"mutations latest\",\n",
    "    dataset_description=\"mutations latest data\", # optional (but recommended)\n",
    "    upload_files=[\n",
    "        {\n",
    "            \"path\": \"/tmp/tmp1.txt\",\n",
    "            \"name\": \"temp\", # optional, will use file name if not provided\n",
    "            \"format\": \"Raw\", # or \"NumericMatrixCSV\" or \"TableCSV\"\n",
    "            \"encoding\": \"utf-8\" # optional (but recommended), will use iso-8859-1 if not provided\n",
    "        }\n",
    "    ],\n",
    "    folder_id=\"af8daf85d5f84f29b9f1494e8f05b9fd\", # optional, will default to your home folder if not provided\n",
    ")"
   ],
   "outputs": [
    {
     "output_type": "stream",
     "name": "stdout",
     "text": [
      "Uploading temp to S3\n",
      "Finished uploading temp to S3\n",
      "Uploading temp to Taiga\n",
      "Finished uploading temp to Taiga\n",
      "Dataset created. Access it directly with this url: https://cds.team/taiga/dataset/381ee95950384e8997128e4897dc1da9\n",
      "\n"
     ]
    }
   ],
   "metadata": {}
  },
  {
   "cell_type": "code",
   "execution_count": 6,
   "source": [
    "new_dataset_id = tc.create_dataset(\n",
    "    \"fusions\",\n",
    "    dataset_description=\"fusions data\", # optional (but recommended)\n",
    "    upload_files=[\n",
    "        {\n",
    "            \"path\": \"/tmp/tmp2.txt\",\n",
    "            \"name\": \"temp\", # optional, will use file name if not provided\n",
    "            \"format\": \"Raw\", # or \"NumericMatrixCSV\" or \"TableCSV\"\n",
    "            \"encoding\": \"utf-8\" # optional (but recommended), will use iso-8859-1 if not provided\n",
    "        }\n",
    "    ],\n",
    "    folder_id=\"af8daf85d5f84f29b9f1494e8f05b9fd\", # optional, will default to your home folder if not provided\n",
    ")"
   ],
   "outputs": [
    {
     "output_type": "stream",
     "name": "stdout",
     "text": [
      "Uploading temp to S3\n",
      "Finished uploading temp to S3\n",
      "Uploading temp to Taiga\n",
      "Finished uploading temp to Taiga\n",
      "Dataset created. Access it directly with this url: https://cds.team/taiga/dataset/301aba3dd9be4052acdf1de2a2fafd77\n",
      "\n"
     ]
    }
   ],
   "metadata": {}
  },
  {
   "cell_type": "code",
   "execution_count": 7,
   "source": [
    "new_dataset_id = tc.create_dataset(\n",
    "    \"CN Achilles version\",\n",
    "    dataset_description=\"CN Achilles version data\", # optional (but recommended)\n",
    "    upload_files=[\n",
    "        {\n",
    "            \"path\": \"/tmp/tmp3.txt\",\n",
    "            \"name\": \"temp\", # optional, will use file name if not provided\n",
    "            \"format\": \"Raw\", # or \"NumericMatrixCSV\" or \"TableCSV\"\n",
    "            \"encoding\": \"utf-8\" # optional (but recommended), will use iso-8859-1 if not provided\n",
    "        }\n",
    "    ],\n",
    "    folder_id=\"af8daf85d5f84f29b9f1494e8f05b9fd\", # optional, will default to your home folder if not provided\n",
    ")"
   ],
   "outputs": [
    {
     "output_type": "stream",
     "name": "stdout",
     "text": [
      "Uploading temp to S3\n",
      "Finished uploading temp to S3\n",
      "Uploading temp to Taiga\n",
      "Finished uploading temp to Taiga\n",
      "Dataset created. Access it directly with this url: https://cds.team/taiga/dataset/8f67bd9591c3471d91ca1a3c8cf90855\n",
      "\n"
     ]
    }
   ],
   "metadata": {}
  }
 ],
 "metadata": {
  "interpreter": {
   "hash": "c43df2cae5c6158b6e53cea1d8cdf493489329b0941ecb076bd167c8d5a6836b"
  },
  "kernelspec": {
   "name": "python3",
   "display_name": "Python 3.9.5 64-bit ('base': conda)"
  },
  "language_info": {
   "codemirror_mode": {
    "name": "ipython",
    "version": 3
   },
   "file_extension": ".py",
   "mimetype": "text/x-python",
   "name": "python",
   "nbconvert_exporter": "python",
   "pygments_lexer": "ipython3",
   "version": "3.9.5"
  }
 },
 "nbformat": 4,
 "nbformat_minor": 2
}