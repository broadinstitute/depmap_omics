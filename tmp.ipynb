{
 "cells": [
  {
   "cell_type": "code",
   "execution_count": null,
   "metadata": {},
   "outputs": [],
   "source": [
    "from depmapomics.tracker import getCCLETracker\n",
    "\n",
    "tracker = getCCLETracker()"
   ]
  },
  {
   "cell_type": "code",
   "execution_count": null,
   "metadata": {},
   "outputs": [],
   "source": [
    "dropped_from_rna_legacy_v1_to_v3 = {'ACH-000047','ACH-000309','ACH-000426','ACH-000658','ACH-000727','ACH-000795','ACH-000979','ACH-000992'}\n",
    "tracker[tracker['arxspan_id'].isin(dropped_from_rna_legacy_v1_to_v3) & (tracker['datatype']=='rna')][['arxspan_id', 'low_quality', 'blacklist']]"
   ]
  },
  {
   "cell_type": "code",
   "execution_count": null,
   "metadata": {},
   "outputs": [],
   "source": [
    "from taigapy import TaigaClient\n",
    "tc = TaigaClient()\n",
    "CCLE_expression = tc.get(name='tentative-virtual-d84e', version=33, file='CCLE_expression')\n"
   ]
  },
  {
   "cell_type": "code",
   "execution_count": null,
   "metadata": {},
   "outputs": [],
   "source": [
    "CCLE_gene_cn = tc.get(name='tentative-virtual-d84e', version=33, file='CCLE_gene_cn')\n"
   ]
  },
  {
   "cell_type": "code",
   "execution_count": null,
   "metadata": {},
   "outputs": [],
   "source": [
    "'ACH-000658' in set(CCLE_expression.index)"
   ]
  },
  {
   "cell_type": "code",
   "execution_count": null,
   "metadata": {},
   "outputs": [],
   "source": [
    "'ACH-000658' in set(CCLE_gene_cn.index)"
   ]
  },
  {
   "cell_type": "code",
   "execution_count": null,
   "metadata": {},
   "outputs": [],
   "source": [
    "dropped_from_rna_legacy_v1_to_v3 & set(CCLE_expression.index)"
   ]
  },
  {
   "cell_type": "code",
   "execution_count": null,
   "metadata": {},
   "outputs": [],
   "source": [
    "SAMPLESETNAME = '21Q3'"
   ]
  },
  {
   "cell_type": "code",
   "execution_count": null,
   "metadata": {},
   "outputs": [],
   "source": [
    "import pandas as pd\n",
    "transcripts_tpm = pd.read_csv('temp/' + SAMPLESETNAME + '/transcripts_tpm_logp1.csv', index_col=0)"
   ]
  },
  {
   "cell_type": "code",
   "execution_count": null,
   "metadata": {},
   "outputs": [],
   "source": [
    "genes_tpm = pd.read_csv('temp/'+SAMPLESETNAME+'/genes_tpm_logp1.csv',index_col=0)"
   ]
  },
  {
   "cell_type": "code",
   "execution_count": null,
   "metadata": {},
   "outputs": [],
   "source": [
    "genes_expected_count = pd.read_csv('temp/' + SAMPLESETNAME + '/genes_expected_count.csv', index_col=0)"
   ]
  },
  {
   "cell_type": "code",
   "execution_count": null,
   "metadata": {},
   "outputs": [],
   "source": [
    "proteincoding_genes_expected_count = pd.read_csv('temp/' + SAMPLESETNAME + '/proteincoding_genes_expected_count.csv', index_col=0)"
   ]
  },
  {
   "cell_type": "code",
   "execution_count": null,
   "metadata": {},
   "outputs": [],
   "source": [
    "\n",
    "\n",
    "\n",
    "\n",
    "proteincoding_genes_tpm = pd.read_csv('temp/' + SAMPLESETNAME + '/proteincoding_genes_tpm_logp1.csv', index_col=0)\n",
    "transcripts_expected_count = pd.read_csv('temp/' + SAMPLESETNAME + '/transcripts_expected_count.csv', index_col=0)\n",
    "#enrichments = pd.read_csv('temp/' + SAMPLESETNAME + '/gene_sets_all.csv', index_col=0)"
   ]
  },
  {
   "cell_type": "code",
   "execution_count": null,
   "metadata": {},
   "outputs": [],
   "source": [
    "from taigapy import TaigaClient\n",
    "tc = TaigaClient()\n",
    "\n",
    "# CCLE_mutations_21q2 = tc.get(name='internal-21q2-9d16', version=17, file='CCLE_mutations')\n",
    "# CCLE_expression_21q2 = tc.get(name='internal-21q2-9d16', version=17, file='CCLE_expression')\n",
    "# CCLE_expression_21q3 = tc.get(name='tentative-virtual-d84e', version=30, file='CCLE_expression')\n",
    "# CCLE_mutations_21q3 = tc.get(name='tentative-virtual-d84e', version=30, file='CCLE_mutations')\n",
    "\n",
    "legacy_rna_1 = tc.get(name='mutations-da6a', version=1, file='legacy_rna_somatic_mutations')\n",
    "legacy_rna_3 = tc.get(name='mutations-da6a', file='legacy_rna', version=3)\n",
    "\n",
    "# legacy_wes_sanger_v3 = tc.get(name='mutations-da6a', version=3, file='legacy_wes_sanger')\n",
    "# legacy_wes_sanger_v1 = tc.get(name='mutations-da6a', version=1, file='legacy_wes_sanger_somatic_mutations')\n"
   ]
  },
  {
   "cell_type": "code",
   "execution_count": null,
   "metadata": {},
   "outputs": [],
   "source": [
    "import pandas as pd\n",
    "def cleanup_legacy(legacy_maf, ac_col):\n",
    "  print('cleaning up mutation legacy data for column {}'.format(ac_col))\n",
    "  legacy_maf = legacy_maf.drop(['Unnamed: 0', 'Tumor_Sample_Barcode'], axis=1).rename(\n",
    "      columns={'Tumor_Seq_Allele1': 'Tumor_Allele'})\n",
    "  freqs = legacy_maf.apply(lambda x: [int(y) for y in x[ac_col].split(':')], result_type='expand', axis=1)\n",
    "  freqs.columns = ['t_alt_count', 't_ref_count']\n",
    "  freqs['tumor_f'] = freqs.astype(float).apply(\n",
    "      lambda row: row['t_alt_count'] / (row['t_alt_count'] + row['t_ref_count']), axis=1)\n",
    "  legacy_maf = pd.concat([legacy_maf, freqs], axis=1)\n",
    "  return legacy_maf\n"
   ]
  },
  {
   "cell_type": "code",
   "execution_count": null,
   "metadata": {},
   "outputs": [],
   "source": [
    "legacy_rna = cleanup_legacy(legacy_rna_1, 'RNAseq_AC')"
   ]
  },
  {
   "cell_type": "code",
   "execution_count": null,
   "metadata": {},
   "outputs": [],
   "source": [
    "set(legacy_rna.columns) - set(legacy_rna_3.columns)"
   ]
  },
  {
   "cell_type": "code",
   "execution_count": null,
   "metadata": {},
   "outputs": [],
   "source": [
    "set(legacy_rna_3.columns) - set(legacy_rna.columns)"
   ]
  },
  {
   "cell_type": "code",
   "execution_count": null,
   "metadata": {},
   "outputs": [],
   "source": [
    "legacy_rna"
   ]
  },
  {
   "cell_type": "code",
   "execution_count": null,
   "metadata": {},
   "outputs": [],
   "source": [
    "set(legacy_rna.columns) - set(legacy_rna_3.columns)"
   ]
  },
  {
   "cell_type": "code",
   "execution_count": null,
   "metadata": {},
   "outputs": [],
   "source": [
    "mergecols = ['DepMap_ID', 'Chromosome', 'Start_position', 'End_position', 'Tumor_Allele']\n",
    "\n",
    "def test_row_counts_match(legacy_wgs_exoniconly_v1, legacy_wgs_exoniconly_v3):\n",
    "  counts = pd.concat([legacy_wgs_exoniconly_v1.groupby('DepMap_ID').size(), \n",
    "            legacy_wgs_exoniconly_v3.groupby('DepMap_ID').size()], \n",
    "            join = 'inner', keys=['v1', 'v3'], axis=1)\n",
    "  assert (counts['v1'] == counts['v3']).all(), counts[counts['v1'] != counts['v3']]  \n",
    "\n",
    "  assert not legacy_wgs_exoniconly_v1[mergecols].duplicated().any()\n",
    "  assert not legacy_wgs_exoniconly_v3[mergecols].duplicated().any()\n",
    "\n",
    "def test_shared_mutations(legacy_wgs_exoniconly_v1, legacy_wgs_exoniconly_v3, test=True):\n",
    "  shared_lines = set(legacy_wgs_exoniconly_v1['DepMap_ID']) & set(legacy_wgs_exoniconly_v3['DepMap_ID'])\n",
    "\n",
    "  merged = pd.merge(legacy_wgs_exoniconly_v1[legacy_wgs_exoniconly_v1['DepMap_ID'].isin(shared_lines)],\n",
    "                    legacy_wgs_exoniconly_v3[legacy_wgs_exoniconly_v3['DepMap_ID'].isin(shared_lines)],\n",
    "                    on=mergecols, indicator=True, how='outer')\n",
    "  if test:\n",
    "    assert (merged['_merge'] == 'both').all(), 'some mutations are not shared between the two datasets'\n",
    "  return merged\n",
    "  \n",
    "\n",
    "import numpy as np\n",
    "\n",
    "def test_fraction_of_unequal_columns_from_merged_file(dataframes_merged, expected_changed_cols):\n",
    "    dataframes_merged.drop([x+'_x' for x in expected_changed_cols], inplace=True, axis=1)\n",
    "    dataframes_merged.drop([x+'_y' for x in expected_changed_cols], inplace=True, axis=1)\n",
    "    cols = list(set([x[:-2] for x in dataframes_merged.columns if x.endswith('_x') | x.endswith('_y')]))\n",
    "    dataframe_merge_both = dataframes_merged[dataframes_merged['_merge'] == 'both']\n",
    "    dataframe_merge_both.set_index('DepMap_ID', inplace=True)\n",
    "    unequal_values = pd.DataFrame(index=dataframe_merge_both.index, columns=cols)\n",
    "    cols_dtype = dataframe_merge_both[[col+'_x' for col in cols]].dtypes\n",
    "    equal_nonNA = lambda a, b: (a == b) | ((a != a) & (b != b)) # this is a regular equality tests with the exception that NA==NA\n",
    "    almost_equal_nonNA = lambda a, b: np.isclose(a, b) | ((a != a) & (b != b)) # this is a regular equality tests with the exception that NA==NA\n",
    "    for col in cols:\n",
    "        if cols_dtype[col+'_x'] == np.dtype('float64'): # otherwise very close values will look different\n",
    "            unequal_values[col] = ~almost_equal_nonNA(dataframe_merge_both[col+'_x'], dataframe_merge_both[col+'_y'])\n",
    "        else:\n",
    "            unequal_values[col] = ~equal_nonNA(dataframe_merge_both[col+'_x'], dataframe_merge_both[col+'_y'])\n",
    "\n",
    "    unequal_columns = unequal_values.agg(['mean', 'sum']).T\n",
    "    unequal_columns.sort_values('mean', ascending=False, inplace=True)\n",
    "    unequal_columns['sum'] = unequal_columns['sum'].astype(int)\n",
    "    unequal_columns = unequal_columns[unequal_columns['sum'] > 0]\n",
    "    unequal_columns.rename(columns={'mean': 'freq', 'sum': 'count'}, inplace=True)\n",
    "\n",
    "    unequal_values_sum = unequal_values.groupby('DepMap_ID').sum()\n",
    "    unequal_values_sum = unequal_values_sum[(unequal_values_sum > 0).any(axis=1)]\n",
    "    unequal_values_sum = unequal_values_sum.loc[:, (unequal_values_sum > 0).all()]\n",
    "\n",
    "    return unequal_values, unequal_columns, unequal_values_sum\n",
    "    # assert unequal_columns.empty\n",
    "\n",
    "# unequal_values, unequal_columns, unequal_values_sum = test_fraction_of_unequal_columns_from_merged_file(merged, [])"
   ]
  },
  {
   "cell_type": "code",
   "execution_count": null,
   "metadata": {},
   "outputs": [],
   "source": [
    "merged = test_shared_mutations(legacy_rna, legacy_rna_3, test=False)"
   ]
  },
  {
   "cell_type": "code",
   "execution_count": null,
   "metadata": {},
   "outputs": [],
   "source": [
    "counts = pd.concat([legacy_rna.groupby('DepMap_ID').size(), \n",
    "          legacy_rna_3.groupby('DepMap_ID').size()], \n",
    "          join = 'inner', keys=['v1', 'v3'], axis=1)\n"
   ]
  },
  {
   "cell_type": "code",
   "execution_count": null,
   "metadata": {},
   "outputs": [],
   "source": [
    "merged[(merged['DepMap_ID'] == 'ACH-000192') & (merged['_merge']!='both')]"
   ]
  },
  {
   "cell_type": "code",
   "execution_count": null,
   "metadata": {},
   "outputs": [],
   "source": [
    "counts[counts['v1'] != counts['v3']]"
   ]
  },
  {
   "cell_type": "code",
   "execution_count": null,
   "metadata": {},
   "outputs": [],
   "source": [
    "unequal_values, unequal_columns, unequal_values_sum = test_fraction_of_unequal_columns_from_merged_file(merged, [])"
   ]
  },
  {
   "cell_type": "code",
   "execution_count": null,
   "metadata": {},
   "outputs": [],
   "source": [
    "unequal_columns"
   ]
  },
  {
   "cell_type": "code",
   "execution_count": null,
   "metadata": {},
   "outputs": [],
   "source": [
    "merged[merged['Genome_Change_x'] != merged['Genome_Change_y']]"
   ]
  },
  {
   "cell_type": "code",
   "execution_count": null,
   "metadata": {},
   "outputs": [],
   "source": [
    "test_row_counts_match(legacy_rna, legacy_rna_3)"
   ]
  },
  {
   "cell_type": "code",
   "execution_count": null,
   "metadata": {},
   "outputs": [],
   "source": []
  },
  {
   "cell_type": "code",
   "execution_count": null,
   "metadata": {},
   "outputs": [],
   "source": [
    "\n",
    "legacy_rna_3"
   ]
  },
  {
   "cell_type": "code",
   "execution_count": null,
   "metadata": {},
   "outputs": [],
   "source": [
    "arxspan = 'ACH-000426'\n",
    "\n",
    "print(arxspan in set(CCLE_expression_21q2.index), arxspan in set(CCLE_expression_21q3.index))\n",
    "print(CCLE_mutations_21q2[CCLE_mutations_21q2['DepMap_ID'] == arxspan]['RNAseq_AC'].notnull().any(),\\\n",
    "CCLE_mutations_21q3[CCLE_mutations_21q3['DepMap_ID'] == arxspan]['RNAseq_AC'].notnull().any()  )\n",
    "print(arxspan in set(legacy_rna_1['DepMap_ID']), arxspan in set(legacy_rna_3['DepMap_ID']))"
   ]
  },
  {
   "cell_type": "code",
   "execution_count": null,
   "metadata": {},
   "outputs": [],
   "source": [
    "set(legacy_rna_3['DepMap_ID']) - set(legacy_rna_1['DepMap_ID'])"
   ]
  },
  {
   "cell_type": "code",
   "execution_count": null,
   "metadata": {},
   "outputs": [],
   "source": [
    "arxspans = '''\n",
    "E         ACH-000195         11    11    11        11           10     00\n",
    "E         ACH-001543         11    00    00        00           01     00\n",
    "E         ACH-000090         10    11    11        11           00     11\n",
    "E         ACH-000992         11    11    00        10           00     00\n",
    "E         ACH-000641         11    11    11        11           10     00\n",
    "E         ACH-001212         11    00    00        10           00     00\n",
    "E         ACH-000727         11    11    11        10           11     11\n",
    "E         ACH-000658         10    11    11        10           00     00\n",
    "E         ACH-000426         11    11    11        10           00     00\n",
    "E         ACH-000901         10    11    00        11           00     00\n",
    "E         ACH-000979         11    10    11        10           11     11\n",
    "E         ACH-001709         11    00    00        00           10     00\n",
    "E         ACH-000795         11    11    11        10           11     00\n",
    "E         ACH-000309         11    11    11        10           11     11\n",
    "E         ACH-000047         11    11    11        10           11     11\n",
    "E         ACH-000961         10    11    11        11           00     11\n",
    "'''\n",
    "arxspans = {x.strip().split()[0] for x in arxspans.split('E') if x != '\\n'}"
   ]
  },
  {
   "cell_type": "code",
   "execution_count": null,
   "metadata": {},
   "outputs": [],
   "source": [
    "arxspans - set(legacy_rna_1['DepMap_ID'])"
   ]
  },
  {
   "cell_type": "code",
   "execution_count": null,
   "metadata": {},
   "outputs": [],
   "source": [
    "arxspans - set(legacy_rna_3['DepMap_ID'])"
   ]
  },
  {
   "cell_type": "code",
   "execution_count": null,
   "metadata": {},
   "outputs": [],
   "source": [
    "set(legacy_rna_1['DepMap_ID']) - set(legacy_rna_3['DepMap_ID'])"
   ]
  },
  {
   "cell_type": "code",
   "execution_count": null,
   "metadata": {},
   "outputs": [],
   "source": [
    "set(legacy_wes_sanger_v3['DepMap_ID']) - set(legacy_wes_sanger_v1['DepMap_ID'])"
   ]
  },
  {
   "cell_type": "code",
   "execution_count": null,
   "metadata": {},
   "outputs": [],
   "source": [
    "set(legacy_wes_sanger_v1['DepMap_ID']) - set(legacy_wes_sanger_v3['DepMap_ID'])"
   ]
  },
  {
   "cell_type": "code",
   "execution_count": null,
   "metadata": {},
   "outputs": [],
   "source": [
    "legacy_rna_1"
   ]
  },
  {
   "cell_type": "code",
   "execution_count": null,
   "metadata": {},
   "outputs": [],
   "source": [
    "legacy_wes_sanger_v1"
   ]
  },
  {
   "cell_type": "code",
   "execution_count": null,
   "metadata": {},
   "outputs": [],
   "source": [
    "CCLE_mutations.columns"
   ]
  },
  {
   "cell_type": "code",
   "execution_count": null,
   "metadata": {},
   "outputs": [],
   "source": [
    "CCLE_mutations[['Reference_Allele', 'Tumor_Seq_Allele1']]\n"
   ]
  },
  {
   "cell_type": "code",
   "execution_count": null,
   "metadata": {},
   "outputs": [],
   "source": [
    "from taigapy import TaigaClient\n",
    "tc = TaigaClient()\n",
    "\n",
    "CCLE_fusions = tc.get(name='tentative-virtual-d84e', version=30, file='CCLE_fusions')\n",
    "CCLE_fusions_unfiltered = tc.get(name='tentative-virtual-d84e', version=30, file='CCLE_fusions_unfiltered')\n"
   ]
  },
  {
   "cell_type": "code",
   "execution_count": null,
   "metadata": {},
   "outputs": [],
   "source": [
    "len(CCLE_fusions[CCLE_fusions['DepMap_ID'] == 'ACH-000756'])"
   ]
  },
  {
   "cell_type": "code",
   "execution_count": null,
   "metadata": {},
   "outputs": [],
   "source": [
    "len(CCLE_fusions_unfiltered[CCLE_fusions_unfiltered['DepMap_ID'] == 'ACH-000756'])"
   ]
  },
  {
   "cell_type": "code",
   "execution_count": null,
   "metadata": {},
   "outputs": [],
   "source": [
    "CCLE_fusions = tc.get(name='internal-21q2-9d16', version=17, file='CCLE_fusions')\n",
    "CCLE_fusions_unfiltered = tc.get(name='internal-21q2-9d16', version=17, file='CCLE_fusions_unfiltered')\n"
   ]
  },
  {
   "cell_type": "code",
   "execution_count": null,
   "metadata": {},
   "outputs": [],
   "source": [
    "len(CCLE_fusions[CCLE_fusions['DepMap_ID'] == 'ACH-000756'])"
   ]
  },
  {
   "cell_type": "code",
   "execution_count": null,
   "metadata": {},
   "outputs": [],
   "source": [
    "len(CCLE_fusions_unfiltered[CCLE_fusions_unfiltered['DepMap_ID'] == 'ACH-000756'])"
   ]
  },
  {
   "cell_type": "code",
   "execution_count": null,
   "metadata": {},
   "outputs": [],
   "source": [
    "arxspans = '''\n",
    "ACH-000756\n",
    "ACH-000833\n",
    "ACH-001096\n",
    "ACH-001163\n",
    "ACH-001164\n",
    "ACH-001196\n",
    "'''\n",
    "\n",
    "arxspans = set(arxspans.split())"
   ]
  },
  {
   "cell_type": "code",
   "execution_count": null,
   "metadata": {},
   "outputs": [],
   "source": [
    "from genepy.utils import helper as h\n",
    "renaming = h.fileToDict(\"temp/21Q3/rna_sample_renaming.json\")"
   ]
  },
  {
   "cell_type": "code",
   "execution_count": null,
   "metadata": {},
   "outputs": [],
   "source": [
    "renaming.pop('CDS-tTwJLo')\n",
    "renaming.pop('CDS-Fauu92')\n",
    "renaming.update({'CDS-pvNwpR': 'ACH-000833', 'CDS-V5yMiU': 'ACH-001164'})"
   ]
  },
  {
   "cell_type": "code",
   "execution_count": null,
   "metadata": {},
   "outputs": [],
   "source": [
    "{k:v for k,v in renaming.items() if v in arxspans}"
   ]
  },
  {
   "cell_type": "code",
   "execution_count": null,
   "metadata": {},
   "outputs": [],
   "source": [
    "from depmapomics.tracker import getCCLETracker\n",
    "tracker = getCCLETracker()"
   ]
  },
  {
   "cell_type": "code",
   "execution_count": null,
   "metadata": {},
   "outputs": [],
   "source": [
    "tracker_subset = tracker[(tracker['datatype']=='rna') & tracker['arxspan_id'].isin(arxspans)]\n",
    "tracker_subset.sort_values(by=['arxspan_id', 'version'])"
   ]
  },
  {
   "cell_type": "code",
   "execution_count": null,
   "metadata": {},
   "outputs": [],
   "source": []
  },
  {
   "cell_type": "code",
   "execution_count": null,
   "metadata": {},
   "outputs": [],
   "source": [
    "import pandas as pd\n",
    "\n",
    "fusions_all = pd.read_csv(\"temp/21Q3/fusions_all.csv\")\n",
    "fusions_latest = pd.read_csv(\"temp/21Q3/fusions_latest.csv\")\n",
    "\n",
    "from taigapy import TaigaClient\n",
    "tc = TaigaClient()\n",
    "CCLE_fusions = tc.get(name='internal-21q2-9d16', version=17, file='CCLE_fusions')"
   ]
  },
  {
   "cell_type": "code",
   "execution_count": null,
   "metadata": {},
   "outputs": [],
   "source": [
    "cds_id = 'CDS-tTwJLo'\t\n",
    "arxspan_id = 'ACH-000833'\n",
    "x1 = fusions_all.loc[fusions_all['DepMap_ID'] == cds_id, 'JunctionReadCount']\n",
    "x2 = fusions_latest.loc[fusions_latest['DepMap_ID'] == arxspan_id, 'JunctionReadCount']\n",
    "x3 = CCLE_fusions.loc[fusions_latest['DepMap_ID'] == arxspan_id, 'JunctionReadCount']\n",
    "assert x1.reset_index(drop=True).equals(x2.reset_index(drop=True))"
   ]
  },
  {
   "cell_type": "code",
   "execution_count": null,
   "metadata": {},
   "outputs": [],
   "source": []
  },
  {
   "cell_type": "code",
   "execution_count": null,
   "metadata": {},
   "outputs": [],
   "source": [
    "import dalmatian as dm\n",
    "\n",
    "wm = dm.WorkspaceManager('broad-firecloud-ccle/DepMap_hg38_RNAseq')"
   ]
  },
  {
   "cell_type": "code",
   "execution_count": null,
   "metadata": {},
   "outputs": [],
   "source": [
    "sample_sets = wm.get_sample_sets()"
   ]
  },
  {
   "cell_type": "code",
   "execution_count": null,
   "metadata": {},
   "outputs": [],
   "source": [
    "arxspans ='''\n",
    "ACH-000756\n",
    "ACH-000833\n",
    "ACH-001096\n",
    "ACH-001163\n",
    "ACH-001164\n",
    "ACH-001196\n",
    "'''\n",
    "arxspans = arxspans.split()\n",
    "\n",
    "from depmapomics.tracker import getCCLETracker\n",
    "tracker = getCCLETracker()\n"
   ]
  },
  {
   "cell_type": "code",
   "execution_count": null,
   "metadata": {},
   "outputs": [],
   "source": [
    "tracker_subset = tracker[tracker['arxspan_id'].isin(arxspans) & (tracker['datatype'] == 'rna')]"
   ]
  },
  {
   "cell_type": "code",
   "execution_count": null,
   "metadata": {},
   "outputs": [],
   "source": [
    "sample_sets['samples'].map(lambda x: set(x) & set(tracker_subset.index))"
   ]
  },
  {
   "cell_type": "code",
   "execution_count": null,
   "metadata": {},
   "outputs": [],
   "source": [
    "set(tracker_subset.index) - set(sample_sets.loc['star_fusion_workflow_2020-10-15T18-40-03']['samples']) "
   ]
  },
  {
   "cell_type": "code",
   "execution_count": null,
   "metadata": {},
   "outputs": [],
   "source": [
    "  FUSION_COLNAME = ['DepMap_ID', 'FusionName', 'JunctionReadCount',\n",
    "                  'SpanningFragCount', 'SpliceType', 'LeftGene', 'LeftBreakpoint',\n",
    "                  'RightGene', 'RightBreakpoint', 'LargeAnchorSupport', 'FFPM',\n",
    "                  'LeftBreakDinuc', 'LeftBreakEntropy', 'RightBreakDinuc',\n",
    "                  'RightBreakEntropy', 'annots']\n",
    "  aggregated = wm.get_sample_sets().loc['all']['fusions_star']\n",
    "  fusions = pd.read_csv(aggregated, names=FUSION_COLNAME, skiprows=1, sep='\\t')\n"
   ]
  },
  {
   "cell_type": "code",
   "execution_count": null,
   "metadata": {},
   "outputs": [],
   "source": [
    "{'CDS-R22IHj', 'CDS-xMnTwN'} & set(tracker_subset.index)"
   ]
  },
  {
   "cell_type": "code",
   "execution_count": null,
   "metadata": {},
   "outputs": [],
   "source": [
    "fusions[fusions['DepMap_ID'].str.startswith(cds_id)]"
   ]
  },
  {
   "cell_type": "code",
   "execution_count": null,
   "metadata": {},
   "outputs": [],
   "source": [
    "CCLE_fusions[CCLE_fusions['DepMap_ID'].isin([arxspan_id])]"
   ]
  },
  {
   "cell_type": "code",
   "execution_count": null,
   "metadata": {},
   "outputs": [],
   "source": [
    "x1.reset_index(drop=True).equals(x3.reset_index(drop=True))"
   ]
  },
  {
   "cell_type": "code",
   "execution_count": null,
   "metadata": {},
   "outputs": [],
   "source": [
    "len(x1) == len(x3)"
   ]
  },
  {
   "cell_type": "code",
   "execution_count": null,
   "metadata": {},
   "outputs": [],
   "source": [
    "fusions_all_21q2 = tc.get(name='fusions-95c9', version=7, file='fusions_all')\n",
    "fusions_all_21q3 = fusions_all\n"
   ]
  },
  {
   "cell_type": "code",
   "execution_count": null,
   "metadata": {},
   "outputs": [],
   "source": [
    "x21q2 = fusions_all_21q2.loc[fusions_all_21q2['DepMap_ID'] == cds_id, 'JunctionReadCount']\n",
    "x21q3 = fusions_all_21q3.loc[fusions_all_21q3['DepMap_ID'] == cds_id, 'JunctionReadCount']"
   ]
  },
  {
   "cell_type": "code",
   "execution_count": null,
   "metadata": {},
   "outputs": [],
   "source": [
    "fusions_all_21q2.loc[fusions_all_21q2['DepMap_ID'] == cds_id]"
   ]
  },
  {
   "cell_type": "code",
   "execution_count": null,
   "metadata": {},
   "outputs": [],
   "source": [
    "merge_columns = ['DepMap_ID', 'LeftGene', 'RightGene', 'LeftBreakpoint', 'RightBreakpoint']\n",
    "dataframes_merged = pd.merge(fusions_all_21q2, fusions_all_21q3, \n",
    "                       on=merge_columns, indicator=True, how='outer')"
   ]
  },
  {
   "cell_type": "code",
   "execution_count": null,
   "metadata": {},
   "outputs": [],
   "source": [
    "dataframe_merge_both = dataframes_merged[dataframes_merged['_merge'] == 'both']"
   ]
  },
  {
   "cell_type": "code",
   "execution_count": null,
   "metadata": {},
   "outputs": [],
   "source": [
    "dataframe_merge_both[dataframe_merge_both['JunctionReadCount_x'] != dataframe_merge_both['JunctionReadCount_y']]"
   ]
  },
  {
   "cell_type": "code",
   "execution_count": null,
   "metadata": {},
   "outputs": [],
   "source": [
    "data_mismatch = dataframes_merged[dataframes_merged['_merge'] != 'both'][['DepMap_ID', '_merge']].drop_duplicates()\n",
    "data_mismatch"
   ]
  },
  {
   "cell_type": "code",
   "execution_count": null,
   "metadata": {},
   "outputs": [],
   "source": [
    "cds_id in set(data_mismatch['DepMap_ID'])"
   ]
  },
  {
   "cell_type": "code",
   "execution_count": null,
   "metadata": {},
   "outputs": [],
   "source": [
    "dataframes_merged[dataframes_merged['DepMap_ID'] == cds_id]['_merge'].unique()"
   ]
  },
  {
   "cell_type": "code",
   "execution_count": null,
   "metadata": {},
   "outputs": [],
   "source": [
    "dataframe_merge_both"
   ]
  },
  {
   "cell_type": "code",
   "execution_count": null,
   "metadata": {},
   "outputs": [],
   "source": [
    "fusions_all_21q3.loc[fusions_all_21q3['DepMap_ID'] == cds_id]"
   ]
  },
  {
   "cell_type": "code",
   "execution_count": null,
   "metadata": {},
   "outputs": [],
   "source": [
    "assert x21q2.reset_index(drop=True).equals(x21q3.reset_index(drop=True))"
   ]
  },
  {
   "cell_type": "code",
   "execution_count": null,
   "metadata": {},
   "outputs": [],
   "source": [
    "x21q3"
   ]
  },
  {
   "cell_type": "code",
   "execution_count": null,
   "metadata": {},
   "outputs": [],
   "source": [
    "    import pickle\n",
    "    (files, gene_rename, trancriptLevelCols) = pickle.load(open('transcript.pkl', 'rb'))\n"
   ]
  },
  {
   "cell_type": "code",
   "execution_count": null,
   "metadata": {},
   "outputs": [],
   "source": [
    "def subsetGenes(files, gene_rename, filenames=None,\n",
    "                drop=[], index=\"transcript_id\"):\n",
    "  \"\"\"\n",
    "  # TODO: to document\n",
    "  \"\"\"\n",
    "  print('subsetting '+index+' columns')\n",
    "  rename_transcript = {}\n",
    "  missing = []\n",
    "  for val in filenames:\n",
    "    if len(rename_transcript) == 0 and index == \"transcript_id\":\n",
    "      for _, v in files[val].iterrows():\n",
    "        if v['gene_id'].split('.')[0] in gene_rename:\n",
    "          rename_transcript[v['transcript_id']] = gene_rename[\n",
    "              v['gene_id'].split('.')[0]].split(' (')[0] + ' (' + v.transcript_id.split('.')[0] + ')'\n",
    "        else:\n",
    "          missing.append(v.gene_id.split('.')[0])\n",
    "      print('missing: '+str(len(missing))+' genes')\n",
    "    file = files[val].drop(columns=drop).set_index(index)\n",
    "    file = file[(file.sum(1) != 0) & (file.var(1) != 0)]\n",
    "    r = [i.split('.')[0] for i in file.index]\n",
    "    dup = h.dups(r)\n",
    "    if len(dup) > 0:\n",
    "      print(dup)\n",
    "      raise ValueError('duplicate '+index)\n",
    "    file.index = r\n",
    "\n",
    "    file = file.rename(index=rename_transcript if len(\n",
    "        rename_transcript) != 0 else gene_rename).T\n",
    "    files[val] = file\n",
    "  return files\n",
    "\n"
   ]
  },
  {
   "cell_type": "code",
   "execution_count": null,
   "metadata": {},
   "outputs": [],
   "source": [
    "for _, v in files[val].iterrows():\n",
    "  if v['gene_id'].split('.')[0] in gene_rename:\n",
    "    rename_transcript[v['transcript_id']] = gene_rename[\n",
    "        v['gene_id'].split('.')[0]].split(' (')[0] + ' (' + v.transcript_id.split('.')[0] + ')'\n",
    "  else:\n",
    "    missing.append(v.gene_id.split('.')[0])\n"
   ]
  },
  {
   "cell_type": "code",
   "execution_count": null,
   "metadata": {},
   "outputs": [],
   "source": [
    "file = files[val].copy()"
   ]
  },
  {
   "cell_type": "code",
   "execution_count": null,
   "metadata": {},
   "outputs": [],
   "source": [
    "import pandas as pd\n",
    "pd.DataFrame.from_dict(gene_rename, orient='index', columns=['gene_ensg'])"
   ]
  },
  {
   "cell_type": "code",
   "execution_count": null,
   "metadata": {},
   "outputs": [],
   "source": [
    "file['transcript_id'] = file['transcript_id'].map(lambda x: x.split('.')[0])\n",
    "file['gene_id'] = file['gene_id'].map(lambda x: x.split('.')[0])"
   ]
  },
  {
   "cell_type": "code",
   "execution_count": null,
   "metadata": {},
   "outputs": [],
   "source": [
    "merge = pd.merge(file, pd.DataFrame.from_dict(gene_rename, orient='index', columns=['gene_ensg']), \n",
    "         left_on='gene_id', right_index=True, how='left')#.set_index('gene_ensg').drop(['transcript_id',\t'gene_id'], axis=1)"
   ]
  },
  {
   "cell_type": "code",
   "execution_count": null,
   "metadata": {},
   "outputs": [],
   "source": [
    "missing2 = set(merge.loc[merge['gene_ensg'].isnull(), 'gene_id'])"
   ]
  },
  {
   "cell_type": "code",
   "execution_count": null,
   "metadata": {},
   "outputs": [],
   "source": [
    "assert set(missing) == missing2"
   ]
  },
  {
   "cell_type": "code",
   "execution_count": null,
   "metadata": {},
   "outputs": [],
   "source": [
    "import re\n",
    "merge.index = merge.apply(lambda x: re.sub(r'ENSG\\d+', x['transcript_id'], x['gene_ensg']), axis=1)"
   ]
  },
  {
   "cell_type": "code",
   "execution_count": null,
   "metadata": {},
   "outputs": [],
   "source": [
    "# files = subsetGenes(files, gene_rename, filenames=trancriptLevelCols, drop=\"gene_id\", index=\"transcript_id\")"
   ]
  },
  {
   "cell_type": "code",
   "execution_count": null,
   "metadata": {},
   "outputs": [],
   "source": [
    "files.keys()"
   ]
  },
  {
   "cell_type": "code",
   "execution_count": null,
   "metadata": {},
   "outputs": [],
   "source": [
    "drop= \"gene_id\"\n",
    "filenames=trancriptLevelCols\n",
    "index=\"transcript_id\"\n",
    "print('subsetting '+index+' columns')\n",
    "rename_transcript = {}\n",
    "missing = []\n",
    "val = 'transcripts_tpm'\n",
    "if len(rename_transcript) == 0 and index == \"transcript_id\":\n",
    "  for _, v in files[val].iterrows():\n",
    "    if v['gene_id'].split('.')[0] in gene_rename:\n",
    "      rename_transcript[v['transcript_id']] = gene_rename[\n",
    "          v['gene_id'].split('.')[0]].split(' (')[0] + ' (' + v.transcript_id.split('.')[0] + ')'\n",
    "    else:\n",
    "      missing.append(v.gene_id.split('.')[0])\n",
    "  print('missing: '+str(len(missing))+' genes')\n",
    "file = files[val].drop(columns=drop).set_index(index)\n",
    "file = file[(file.sum(1) != 0) & (file.var(1) != 0)]\n",
    "r = [i.split('.')[0] for i in file.index]\n",
    "assert len(r) == len(set(r))\n",
    "# dup = h.dups(r)\n",
    "# if len(dup) > 0:\n",
    "#   print(dup)\n",
    "#   raise ValueError('duplicate '+index)"
   ]
  },
  {
   "cell_type": "code",
   "execution_count": null,
   "metadata": {},
   "outputs": [],
   "source": [
    "files[val]"
   ]
  },
  {
   "cell_type": "code",
   "execution_count": null,
   "metadata": {},
   "outputs": [],
   "source": []
  },
  {
   "cell_type": "code",
   "execution_count": null,
   "metadata": {},
   "outputs": [],
   "source": [
    "file.index = r"
   ]
  },
  {
   "cell_type": "code",
   "execution_count": null,
   "metadata": {},
   "outputs": [],
   "source": [
    "file.rename(index={k.split('.')[0]:v for k,v in rename_transcript.items()})#.T"
   ]
  },
  {
   "cell_type": "code",
   "execution_count": null,
   "metadata": {},
   "outputs": [],
   "source": [
    "file"
   ]
  },
  {
   "cell_type": "code",
   "execution_count": null,
   "metadata": {},
   "outputs": [],
   "source": []
  },
  {
   "cell_type": "code",
   "execution_count": null,
   "metadata": {},
   "outputs": [],
   "source": []
  }
 ],
 "metadata": {
  "interpreter": {
   "hash": "bba30bad6dc2abd483aef1526473acfc7356ef9fe6d481727d10a1c0a97ae5c6"
  },
  "kernelspec": {
   "display_name": "Python 3",
   "language": "python",
   "name": "python3"
  },
  "language_info": {
   "codemirror_mode": {
    "name": "ipython",
    "version": 3
   },
   "file_extension": ".py",
   "mimetype": "text/x-python",
   "name": "python",
   "nbconvert_exporter": "python",
   "pygments_lexer": "ipython3",
   "version": "3.7.3"
  },
  "latex_envs": {
   "LaTeX_envs_menu_present": true,
   "autoclose": false,
   "autocomplete": true,
   "bibliofile": "biblio.bib",
   "cite_by": "apalike",
   "current_citInitial": 1,
   "eqLabelWithNumbers": true,
   "eqNumInitial": 1,
   "hotkeys": {
    "equation": "Ctrl-E",
    "itemize": "Ctrl-I"
   },
   "labels_anchors": false,
   "latex_user_defs": false,
   "report_style_numbering": false,
   "user_envs_cfg": false
  },
  "toc": {
   "base_numbering": 1,
   "nav_menu": {},
   "number_sections": true,
   "sideBar": true,
   "skip_h1_title": false,
   "title_cell": "Table of Contents",
   "title_sidebar": "Contents",
   "toc_cell": false,
   "toc_position": {},
   "toc_section_display": true,
   "toc_window_display": false
  },
  "varInspector": {
   "cols": {
    "lenName": 16,
    "lenType": 16,
    "lenVar": 40
   },
   "kernels_config": {
    "python": {
     "delete_cmd_postfix": "",
     "delete_cmd_prefix": "del ",
     "library": "var_list.py",
     "varRefreshCmd": "print(var_dic_list())"
    },
    "r": {
     "delete_cmd_postfix": ") ",
     "delete_cmd_prefix": "rm(",
     "library": "var_list.r",
     "varRefreshCmd": "cat(var_dic_list()) "
    }
   },
   "types_to_exclude": [
    "module",
    "function",
    "builtin_function_or_method",
    "instance",
    "_Feature"
   ],
   "window_display": false
  }
 },
 "nbformat": 4,
 "nbformat_minor": 2
}
