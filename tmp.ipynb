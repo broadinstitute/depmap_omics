{
 "cells": [
  {
   "cell_type": "code",
   "execution_count": 4,
   "source": [
    "!touch /tmp/tmp.txt\n",
    "!touch /tmp/tmp0.txt\n",
    "!touch /tmp/tmp1.txt\n",
    "!touch /tmp/tmp2.txt\n",
    "!touch /tmp/tmp3.txt\n",
    "!touch /tmp/tmp4.txt"
   ],
   "outputs": [],
   "metadata": {}
  },
  {
   "cell_type": "code",
   "execution_count": 2,
   "source": [
    "from taigapy import default_tc as tc"
   ],
   "outputs": [],
   "metadata": {}
  },
  {
   "cell_type": "code",
   "execution_count": 2,
   "source": [
    "new_dataset_id = tc.create_dataset(\n",
    "    \"CN latest\",\n",
    "    dataset_description=\"copy number data\", # optional (but recommended)\n",
    "    upload_files=[\n",
    "        {\n",
    "            \"path\": \"/tmp/tmp.txt\",\n",
    "            \"name\": \"temp\", # optional, will use file name if not provided\n",
    "            \"format\": \"Raw\", # or \"NumericMatrixCSV\" or \"TableCSV\"\n",
    "            \"encoding\": \"utf-8\" # optional (but recommended), will use iso-8859-1 if not provided\n",
    "        }\n",
    "    ],\n",
    "    folder_id=\"af8daf85d5f84f29b9f1494e8f05b9fd\", # optional, will default to your home folder if not provided\n",
    ")"
   ],
   "outputs": [
    {
     "output_type": "stream",
     "name": "stdout",
     "text": [
      "Uploading temp to S3\n",
      "Finished uploading temp to S3\n",
      "Uploading temp to Taiga\n",
      "Finished uploading temp to Taiga\n",
      "Dataset created. Access it directly with this url: https://cds.team/taiga/dataset/b524d6547a0b4957af5e9a05d601dfa8\n",
      "\n"
     ]
    }
   ],
   "metadata": {}
  },
  {
   "cell_type": "code",
   "execution_count": 4,
   "source": [
    "new_dataset_id = tc.create_dataset(\n",
    "    \"expression\",\n",
    "    dataset_description=\"expression data\", # optional (but recommended)\n",
    "    upload_files=[\n",
    "        {\n",
    "            \"path\": \"/tmp/tmp0.txt\",\n",
    "            \"name\": \"temp\", # optional, will use file name if not provided\n",
    "            \"format\": \"Raw\", # or \"NumericMatrixCSV\" or \"TableCSV\"\n",
    "            \"encoding\": \"utf-8\" # optional (but recommended), will use iso-8859-1 if not provided\n",
    "        }\n",
    "    ],\n",
    "    folder_id=\"af8daf85d5f84f29b9f1494e8f05b9fd\", # optional, will default to your home folder if not provided\n",
    ")"
   ],
   "outputs": [
    {
     "output_type": "stream",
     "name": "stdout",
     "text": [
      "Uploading temp to S3\n",
      "Finished uploading temp to S3\n",
      "Uploading temp to Taiga\n",
      "Finished uploading temp to Taiga\n",
      "Dataset created. Access it directly with this url: https://cds.team/taiga/dataset/9c3d558b0b5842aa8cf69b11df263de0\n",
      "\n"
     ]
    }
   ],
   "metadata": {}
  },
  {
   "cell_type": "code",
   "execution_count": 5,
   "source": [
    "new_dataset_id = tc.create_dataset(\n",
    "    \"mutations latest\",\n",
    "    dataset_description=\"mutations latest data\", # optional (but recommended)\n",
    "    upload_files=[\n",
    "        {\n",
    "            \"path\": \"/tmp/tmp1.txt\",\n",
    "            \"name\": \"temp\", # optional, will use file name if not provided\n",
    "            \"format\": \"Raw\", # or \"NumericMatrixCSV\" or \"TableCSV\"\n",
    "            \"encoding\": \"utf-8\" # optional (but recommended), will use iso-8859-1 if not provided\n",
    "        }\n",
    "    ],\n",
    "    folder_id=\"af8daf85d5f84f29b9f1494e8f05b9fd\", # optional, will default to your home folder if not provided\n",
    ")"
   ],
   "outputs": [
    {
     "output_type": "stream",
     "name": "stdout",
     "text": [
      "Uploading temp to S3\n",
      "Finished uploading temp to S3\n",
      "Uploading temp to Taiga\n",
      "Finished uploading temp to Taiga\n",
      "Dataset created. Access it directly with this url: https://cds.team/taiga/dataset/381ee95950384e8997128e4897dc1da9\n",
      "\n"
     ]
    }
   ],
   "metadata": {}
  },
  {
   "cell_type": "code",
   "execution_count": 6,
   "source": [
    "new_dataset_id = tc.create_dataset(\n",
    "    \"fusions\",\n",
    "    dataset_description=\"fusions data\", # optional (but recommended)\n",
    "    upload_files=[\n",
    "        {\n",
    "            \"path\": \"/tmp/tmp2.txt\",\n",
    "            \"name\": \"temp\", # optional, will use file name if not provided\n",
    "            \"format\": \"Raw\", # or \"NumericMatrixCSV\" or \"TableCSV\"\n",
    "            \"encoding\": \"utf-8\" # optional (but recommended), will use iso-8859-1 if not provided\n",
    "        }\n",
    "    ],\n",
    "    folder_id=\"af8daf85d5f84f29b9f1494e8f05b9fd\", # optional, will default to your home folder if not provided\n",
    ")"
   ],
   "outputs": [
    {
     "output_type": "stream",
     "name": "stdout",
     "text": [
      "Uploading temp to S3\n",
      "Finished uploading temp to S3\n",
      "Uploading temp to Taiga\n",
      "Finished uploading temp to Taiga\n",
      "Dataset created. Access it directly with this url: https://cds.team/taiga/dataset/301aba3dd9be4052acdf1de2a2fafd77\n",
      "\n"
     ]
    }
   ],
   "metadata": {}
  },
  {
   "cell_type": "code",
   "execution_count": 7,
   "source": [
    "new_dataset_id = tc.create_dataset(\n",
    "    \"CN Achilles version\",\n",
    "    dataset_description=\"CN Achilles version data\", # optional (but recommended)\n",
    "    upload_files=[\n",
    "        {\n",
    "            \"path\": \"/tmp/tmp3.txt\",\n",
    "            \"name\": \"temp\", # optional, will use file name if not provided\n",
    "            \"format\": \"Raw\", # or \"NumericMatrixCSV\" or \"TableCSV\"\n",
    "            \"encoding\": \"utf-8\" # optional (but recommended), will use iso-8859-1 if not provided\n",
    "        }\n",
    "    ],\n",
    "    folder_id=\"af8daf85d5f84f29b9f1494e8f05b9fd\", # optional, will default to your home folder if not provided\n",
    ")"
   ],
   "outputs": [
    {
     "output_type": "stream",
     "name": "stdout",
     "text": [
      "Uploading temp to S3\n",
      "Finished uploading temp to S3\n",
      "Uploading temp to Taiga\n",
      "Finished uploading temp to Taiga\n",
      "Dataset created. Access it directly with this url: https://cds.team/taiga/dataset/8f67bd9591c3471d91ca1a3c8cf90855\n",
      "\n"
     ]
    }
   ],
   "metadata": {}
  },
  {
   "cell_type": "code",
   "execution_count": 5,
   "source": [
    "new_dataset_id = tc.create_dataset(\n",
    "    \"dmc_21Q3\",\n",
    "    dataset_description=\"dmc_21Q3\", # optional (but recommended)\n",
    "    upload_files=[\n",
    "        {\n",
    "            \"path\": \"/tmp/tmp.txt\",\n",
    "            \"name\": \"temp\", # optional, will use file name if not provided\n",
    "            \"format\": \"Raw\", # or \"NumericMatrixCSV\" or \"TableCSV\"\n",
    "            \"encoding\": \"utf-8\" # optional (but recommended), will use iso-8859-1 if not provided\n",
    "        }\n",
    "    ],\n",
    "    folder_id=\"aee7ec053d434091a670bc64a9d7a3c1\", # optional, will default to your home folder if not provided\n",
    ")"
   ],
   "outputs": [
    {
     "output_type": "stream",
     "name": "stdout",
     "text": [
      "Uploading temp to S3\n",
      "Finished uploading temp to S3\n",
      "Uploading temp to Taiga\n",
      "Finished uploading temp to Taiga\n",
      "Dataset created. Access it directly with this url: https://cds.team/taiga/dataset/2b3e0c9e364447b192192b993596a244\n",
      "\n"
     ]
    }
   ],
   "metadata": {}
  },
  {
   "cell_type": "code",
   "execution_count": 6,
   "source": [
    "new_dataset_id = tc.create_dataset(\n",
    "    \"ibm_21Q3\",\n",
    "    dataset_description=\"ibm_21Q3\", # optional (but recommended)\n",
    "    upload_files=[\n",
    "        {\n",
    "            \"path\": \"/tmp/tmp.txt\",\n",
    "            \"name\": \"temp\", # optional, will use file name if not provided\n",
    "            \"format\": \"Raw\", # or \"NumericMatrixCSV\" or \"TableCSV\"\n",
    "            \"encoding\": \"utf-8\" # optional (but recommended), will use iso-8859-1 if not provided\n",
    "        }\n",
    "    ],\n",
    "    folder_id=\"aee7ec053d434091a670bc64a9d7a3c1\", # optional, will default to your home folder if not provided\n",
    ")"
   ],
   "outputs": [
    {
     "output_type": "stream",
     "name": "stdout",
     "text": [
      "Uploading temp to S3\n",
      "Finished uploading temp to S3\n",
      "Uploading temp to Taiga\n",
      "Finished uploading temp to Taiga\n",
      "Dataset created. Access it directly with this url: https://cds.team/taiga/dataset/c488ff6ade7f4f8da0c3a80afe0a6006\n",
      "\n"
     ]
    }
   ],
   "metadata": {}
  },
  {
   "cell_type": "code",
   "execution_count": 7,
   "source": [
    "new_dataset_id = tc.create_dataset(\n",
    "    \"internal_21Q3\",\n",
    "    dataset_description=\"internal_21Q3\", # optional (but recommended)\n",
    "    upload_files=[\n",
    "        {\n",
    "            \"path\": \"/tmp/tmp.txt\",\n",
    "            \"name\": \"temp\", # optional, will use file name if not provided\n",
    "            \"format\": \"Raw\", # or \"NumericMatrixCSV\" or \"TableCSV\"\n",
    "            \"encoding\": \"utf-8\" # optional (but recommended), will use iso-8859-1 if not provided\n",
    "        }\n",
    "    ],\n",
    "    folder_id=\"aee7ec053d434091a670bc64a9d7a3c1\", # optional, will default to your home folder if not provided\n",
    ")"
   ],
   "outputs": [
    {
     "output_type": "stream",
     "name": "stdout",
     "text": [
      "Uploading temp to S3\n",
      "Finished uploading temp to S3\n",
      "Uploading temp to Taiga\n",
      "Finished uploading temp to Taiga\n",
      "Dataset created. Access it directly with this url: https://cds.team/taiga/dataset/30fffd6f609446cd9c859bb3846e2806\n",
      "\n"
     ]
    }
   ],
   "metadata": {}
  },
  {
   "cell_type": "code",
   "execution_count": 8,
   "source": [
    "new_dataset_id = tc.create_dataset(\n",
    "    \"public_21Q3\",\n",
    "    dataset_description=\"public_21Q3\", # optional (but recommended)\n",
    "    upload_files=[\n",
    "        {\n",
    "            \"path\": \"/tmp/tmp.txt\",\n",
    "            \"name\": \"temp\", # optional, will use file name if not provided\n",
    "            \"format\": \"Raw\", # or \"NumericMatrixCSV\" or \"TableCSV\"\n",
    "            \"encoding\": \"utf-8\" # optional (but recommended), will use iso-8859-1 if not provided\n",
    "        }\n",
    "    ],\n",
    "    folder_id=\"aee7ec053d434091a670bc64a9d7a3c1\", # optional, will default to your home folder if not provided\n",
    ")"
   ],
   "outputs": [
    {
     "output_type": "stream",
     "name": "stdout",
     "text": [
      "Uploading temp to S3\n",
      "Finished uploading temp to S3\n",
      "Uploading temp to Taiga\n",
      "Finished uploading temp to Taiga\n",
      "Dataset created. Access it directly with this url: https://cds.team/taiga/dataset/8555d4f2d2ba4387bb7bb499edc84d2a\n",
      "\n"
     ]
    }
   ],
   "metadata": {}
  },
  {
   "cell_type": "code",
   "execution_count": 15,
   "source": [
    "import numpy as np\n",
    "from gsheets import Sheets\n",
    "from depmapomics import tracker as track\n",
    "from depmapomics import utils\n",
    "from depmapomics.qc import cn\n",
    "from depmapomics.config import *\n",
    "from IPython.display import Image, display\n",
    "import dalmatian as dm\n",
    "import pandas as pd\n",
    "from taigapy import TaigaClient\n",
    "tc = TaigaClient()\n",
    "import os\n",
    "from genepy import mutations as mut\n",
    "from genepy.utils import helper as h\n",
    "from genepy import terra\n",
    "from genepy.google import gcp\n",
    "from genepy import rna\n",
    "import matplotlib.pyplot as plt\n",
    "\n",
    "\n",
    "SHEETCREDS = '../.credentials.json'\n",
    "MY_ID = '~/.client_secret.json'\n",
    "MYSTORAGE_ID = \"~/.storage.json\"\n",
    "REFSHEET_URL = \"https://docs.google.com/spreadsheets/d/161mmmHF5nc3nFhgpp_7zub5Erod8xDbXnNZ-u-7BWKI\"\n",
    "SHEETNAME = 'ccle sample tracker sandbox'\n",
    "\n",
    "my_id=MY_ID\n",
    "mystorage_id=MYSTORAGE_ID\n",
    "sheetcreds=SHEETCREDS\n",
    "sheetname=SHEETNAME\n",
    "refsheet_url=REFSHEET_URL"
   ],
   "outputs": [],
   "metadata": {}
  },
  {
   "cell_type": "code",
   "execution_count": 16,
   "source": [
    "sheets = Sheets.from_files(my_id, mystorage_id)\n",
    "tracker = sheets.get(refsheet_url).sheets[0].to_frame(index_col=0)\n",
    "\n"
   ],
   "outputs": [],
   "metadata": {}
  },
  {
   "cell_type": "code",
   "execution_count": 1,
   "source": [
    "import dalmatian as dm\n",
    "\n",
    "wm1 = dm.WorkspaceManager(\"broad-firecloud-ccle/DepMap_WGS_CN-sandbox\")\n",
    "\n",
    "wgs_samples = wm1.get_samples()\n",
    "wgs_samples = wgs_samples[10:13]\n",
    "# wgs_samples.to_csv(\"wgs_samples.tsv\", sep = '\\t')"
   ],
   "outputs": [],
   "metadata": {}
  },
  {
   "cell_type": "code",
   "execution_count": 2,
   "source": [
    "wm2 = dm.WorkspaceManager(\"broad-firecloud-ccle/simone-test\")\n",
    "# wm2 = wm2.disable_hound()\n",
    "wm2.upload_samples(wgs_samples)"
   ],
   "outputs": [
    {
     "output_type": "stream",
     "name": "stdout",
     "text": [
      "Successfully imported 3 participants.\n"
     ]
    },
    {
     "output_type": "error",
     "ename": "OSError",
     "evalue": "Project was not passed and could not be determined from the environment.",
     "traceback": [
      "\u001b[0;31m---------------------------------------------------------------------------\u001b[0m",
      "\u001b[0;31mOSError\u001b[0m                                   Traceback (most recent call last)",
      "\u001b[0;32m/var/folders/z4/g9905z5x4s5cyl27br7_br6h0000gp/T/ipykernel_48393/2545744319.py\u001b[0m in \u001b[0;36m<module>\u001b[0;34m\u001b[0m\n\u001b[1;32m      1\u001b[0m \u001b[0mwm2\u001b[0m \u001b[0;34m=\u001b[0m \u001b[0mdm\u001b[0m\u001b[0;34m.\u001b[0m\u001b[0mWorkspaceManager\u001b[0m\u001b[0;34m(\u001b[0m\u001b[0;34m\"broad-firecloud-ccle/simone-test\"\u001b[0m\u001b[0;34m)\u001b[0m\u001b[0;34m\u001b[0m\u001b[0;34m\u001b[0m\u001b[0m\n\u001b[1;32m      2\u001b[0m \u001b[0;31m# wm2 = wm2.disable_hound()\u001b[0m\u001b[0;34m\u001b[0m\u001b[0;34m\u001b[0m\u001b[0;34m\u001b[0m\u001b[0m\n\u001b[0;32m----> 3\u001b[0;31m \u001b[0mwm2\u001b[0m\u001b[0;34m.\u001b[0m\u001b[0mupload_samples\u001b[0m\u001b[0;34m(\u001b[0m\u001b[0mwgs_samples\u001b[0m\u001b[0;34m)\u001b[0m\u001b[0;34m\u001b[0m\u001b[0;34m\u001b[0m\u001b[0m\n\u001b[0m",
      "\u001b[0;32m~/miniconda3/lib/python3.9/site-packages/dalmatian/wmanager.py\u001b[0m in \u001b[0;36mupload_samples\u001b[0;34m(self, df, participant_df, add_participant_samples)\u001b[0m\n\u001b[1;32m    375\u001b[0m         \u001b[0;31m# 1) upload participant IDs (without additional attributes)\u001b[0m\u001b[0;34m\u001b[0m\u001b[0;34m\u001b[0m\u001b[0;34m\u001b[0m\u001b[0m\n\u001b[1;32m    376\u001b[0m         \u001b[0;32mif\u001b[0m \u001b[0mparticipant_df\u001b[0m \u001b[0;32mis\u001b[0m \u001b[0;32mNone\u001b[0m\u001b[0;34m:\u001b[0m\u001b[0;34m\u001b[0m\u001b[0;34m\u001b[0m\u001b[0m\n\u001b[0;32m--> 377\u001b[0;31m             \u001b[0mself\u001b[0m\u001b[0;34m.\u001b[0m\u001b[0mupload_participants\u001b[0m\u001b[0;34m(\u001b[0m\u001b[0mnp\u001b[0m\u001b[0;34m.\u001b[0m\u001b[0munique\u001b[0m\u001b[0;34m(\u001b[0m\u001b[0mdf\u001b[0m\u001b[0;34m[\u001b[0m\u001b[0mparticipant_col\u001b[0m\u001b[0;34m]\u001b[0m\u001b[0;34m)\u001b[0m\u001b[0;34m)\u001b[0m\u001b[0;34m\u001b[0m\u001b[0;34m\u001b[0m\u001b[0m\n\u001b[0m\u001b[1;32m    378\u001b[0m         \u001b[0;32melse\u001b[0m\u001b[0;34m:\u001b[0m\u001b[0;34m\u001b[0m\u001b[0;34m\u001b[0m\u001b[0m\n\u001b[1;32m    379\u001b[0m             if not (\n",
      "\u001b[0;32m~/miniconda3/lib/python3.9/site-packages/dalmatian/wmanager.py\u001b[0m in \u001b[0;36mupload_participants\u001b[0;34m(self, participant_ids)\u001b[0m\n\u001b[1;32m    353\u001b[0m             \u001b[0mcolumns\u001b[0m\u001b[0;34m=\u001b[0m\u001b[0;34m[\u001b[0m\u001b[0;34m'entity:participant_id'\u001b[0m\u001b[0;34m]\u001b[0m\u001b[0;34m\u001b[0m\u001b[0;34m\u001b[0m\u001b[0m\n\u001b[1;32m    354\u001b[0m         )\n\u001b[0;32m--> 355\u001b[0;31m         \u001b[0mself\u001b[0m\u001b[0;34m.\u001b[0m\u001b[0mupload_entities\u001b[0m\u001b[0;34m(\u001b[0m\u001b[0;34m'participant'\u001b[0m\u001b[0;34m,\u001b[0m \u001b[0mparticipant_df\u001b[0m\u001b[0;34m,\u001b[0m \u001b[0mindex\u001b[0m\u001b[0;34m=\u001b[0m\u001b[0;32mFalse\u001b[0m\u001b[0;34m)\u001b[0m\u001b[0;34m\u001b[0m\u001b[0;34m\u001b[0m\u001b[0m\n\u001b[0m\u001b[1;32m    356\u001b[0m \u001b[0;34m\u001b[0m\u001b[0m\n\u001b[1;32m    357\u001b[0m \u001b[0;34m\u001b[0m\u001b[0m\n",
      "\u001b[0;32m~/miniconda3/lib/python3.9/site-packages/dalmatian/wmanager.py\u001b[0m in \u001b[0;36mupload_entities\u001b[0;34m(self, etype, df, index)\u001b[0m\n\u001b[1;32m    307\u001b[0m             \u001b[0;32melse\u001b[0m\u001b[0;34m:\u001b[0m\u001b[0;34m\u001b[0m\u001b[0;34m\u001b[0m\u001b[0m\n\u001b[1;32m    308\u001b[0m                 \u001b[0mprint\u001b[0m\u001b[0;34m(\u001b[0m\u001b[0;34m'Successfully imported {} {}s.'\u001b[0m\u001b[0;34m.\u001b[0m\u001b[0mformat\u001b[0m\u001b[0;34m(\u001b[0m\u001b[0mdf\u001b[0m\u001b[0;34m.\u001b[0m\u001b[0mshape\u001b[0m\u001b[0;34m[\u001b[0m\u001b[0;36m0\u001b[0m\u001b[0;34m]\u001b[0m\u001b[0;34m,\u001b[0m \u001b[0met\u001b[0m\u001b[0;34m)\u001b[0m\u001b[0;34m)\u001b[0m\u001b[0;34m\u001b[0m\u001b[0;34m\u001b[0m\u001b[0m\n\u001b[0;32m--> 309\u001b[0;31m             \u001b[0;32mif\u001b[0m \u001b[0mself\u001b[0m\u001b[0;34m.\u001b[0m\u001b[0mhound\u001b[0m\u001b[0;34m.\u001b[0m\u001b[0m_enabled\u001b[0m\u001b[0;34m:\u001b[0m\u001b[0;34m\u001b[0m\u001b[0;34m\u001b[0m\u001b[0m\n\u001b[0m\u001b[1;32m    310\u001b[0m                 \u001b[0;32mif\u001b[0m \u001b[0mdf\u001b[0m\u001b[0;34m.\u001b[0m\u001b[0mindex\u001b[0m\u001b[0;34m.\u001b[0m\u001b[0mname\u001b[0m \u001b[0;32mis\u001b[0m \u001b[0;32mnot\u001b[0m \u001b[0;32mNone\u001b[0m\u001b[0;34m:\u001b[0m\u001b[0;34m\u001b[0m\u001b[0;34m\u001b[0m\u001b[0m\n\u001b[1;32m    311\u001b[0m                     \u001b[0;32mif\u001b[0m \u001b[0mdf\u001b[0m\u001b[0;34m.\u001b[0m\u001b[0mindex\u001b[0m\u001b[0;34m.\u001b[0m\u001b[0mname\u001b[0m\u001b[0;34m.\u001b[0m\u001b[0mstartswith\u001b[0m\u001b[0;34m(\u001b[0m\u001b[0;34m'membership:'\u001b[0m\u001b[0;34m)\u001b[0m\u001b[0;34m:\u001b[0m\u001b[0;34m\u001b[0m\u001b[0;34m\u001b[0m\u001b[0m\n",
      "\u001b[0;32m~/miniconda3/lib/python3.9/site-packages/dalmatian/wmanager.py\u001b[0m in \u001b[0;36mhound\u001b[0;34m(self)\u001b[0m\n\u001b[1;32m    138\u001b[0m         \"\"\"\n\u001b[1;32m    139\u001b[0m         \u001b[0;32mif\u001b[0m \u001b[0mself\u001b[0m\u001b[0;34m.\u001b[0m\u001b[0m__hound\u001b[0m \u001b[0;32mis\u001b[0m \u001b[0;32mNone\u001b[0m\u001b[0;34m:\u001b[0m\u001b[0;34m\u001b[0m\u001b[0;34m\u001b[0m\u001b[0m\n\u001b[0;32m--> 140\u001b[0;31m             \u001b[0mself\u001b[0m\u001b[0;34m.\u001b[0m\u001b[0m__hound\u001b[0m \u001b[0;34m=\u001b[0m \u001b[0mHoundClient\u001b[0m\u001b[0;34m(\u001b[0m\u001b[0mself\u001b[0m\u001b[0;34m.\u001b[0m\u001b[0mget_bucket_id\u001b[0m\u001b[0;34m(\u001b[0m\u001b[0;34m)\u001b[0m\u001b[0;34m,\u001b[0m \u001b[0mcredentials\u001b[0m\u001b[0;34m=\u001b[0m\u001b[0mself\u001b[0m\u001b[0;34m.\u001b[0m\u001b[0m__credentials\u001b[0m\u001b[0;34m,\u001b[0m \u001b[0muser_project\u001b[0m\u001b[0;34m=\u001b[0m\u001b[0mself\u001b[0m\u001b[0;34m.\u001b[0m\u001b[0m__user_project\u001b[0m\u001b[0;34m)\u001b[0m\u001b[0;34m\u001b[0m\u001b[0;34m\u001b[0m\u001b[0m\n\u001b[0m\u001b[1;32m    141\u001b[0m         \u001b[0;32mreturn\u001b[0m \u001b[0mself\u001b[0m\u001b[0;34m.\u001b[0m\u001b[0m__hound\u001b[0m\u001b[0;34m\u001b[0m\u001b[0;34m\u001b[0m\u001b[0m\n\u001b[1;32m    142\u001b[0m \u001b[0;34m\u001b[0m\u001b[0m\n",
      "\u001b[0;32m~/miniconda3/lib/python3.9/site-packages/hound/client.py\u001b[0m in \u001b[0;36m__init__\u001b[0;34m(self, bucket_id, snowflake_client, credentials, user_project)\u001b[0m\n\u001b[1;32m    120\u001b[0m         \"\"\"\n\u001b[1;32m    121\u001b[0m \u001b[0;34m\u001b[0m\u001b[0m\n\u001b[0;32m--> 122\u001b[0;31m         \u001b[0mself\u001b[0m\u001b[0;34m.\u001b[0m\u001b[0mbucket\u001b[0m \u001b[0;34m=\u001b[0m \u001b[0m_getblob_bucket\u001b[0m\u001b[0;34m(\u001b[0m\u001b[0mcredentials\u001b[0m\u001b[0;34m,\u001b[0m \u001b[0mbucket_id\u001b[0m\u001b[0;34m,\u001b[0m \u001b[0muser_project\u001b[0m\u001b[0;34m)\u001b[0m\u001b[0;34m\u001b[0m\u001b[0;34m\u001b[0m\u001b[0m\n\u001b[0m\u001b[1;32m    123\u001b[0m         self.snowflake_client = (\n\u001b[1;32m    124\u001b[0m             \u001b[0msnowflake_client\u001b[0m \u001b[0;32mif\u001b[0m \u001b[0misinstance\u001b[0m\u001b[0;34m(\u001b[0m\u001b[0msnowflake_client\u001b[0m\u001b[0;34m,\u001b[0m \u001b[0mSnowflakeClient\u001b[0m\u001b[0;34m)\u001b[0m\u001b[0;34m\u001b[0m\u001b[0;34m\u001b[0m\u001b[0m\n",
      "\u001b[0;32m~/miniconda3/lib/python3.9/site-packages/hound/client.py\u001b[0m in \u001b[0;36m_getblob_bucket\u001b[0;34m(credentials, bucket_id, user_project)\u001b[0m\n\u001b[1;32m     25\u001b[0m \u001b[0;34m@\u001b[0m\u001b[0mlru_cache\u001b[0m\u001b[0;34m(\u001b[0m\u001b[0;34m)\u001b[0m\u001b[0;34m\u001b[0m\u001b[0;34m\u001b[0m\u001b[0m\n\u001b[1;32m     26\u001b[0m \u001b[0;32mdef\u001b[0m \u001b[0m_getblob_bucket\u001b[0m\u001b[0;34m(\u001b[0m\u001b[0mcredentials\u001b[0m\u001b[0;34m,\u001b[0m \u001b[0mbucket_id\u001b[0m\u001b[0;34m,\u001b[0m \u001b[0muser_project\u001b[0m\u001b[0;34m)\u001b[0m\u001b[0;34m:\u001b[0m\u001b[0;34m\u001b[0m\u001b[0;34m\u001b[0m\u001b[0m\n\u001b[0;32m---> 27\u001b[0;31m     \u001b[0;32mreturn\u001b[0m \u001b[0m_getblob_client\u001b[0m\u001b[0;34m(\u001b[0m\u001b[0mcredentials\u001b[0m\u001b[0;34m)\u001b[0m\u001b[0;34m.\u001b[0m\u001b[0mbucket\u001b[0m\u001b[0;34m(\u001b[0m\u001b[0mbucket_id\u001b[0m\u001b[0;34m,\u001b[0m \u001b[0muser_project\u001b[0m\u001b[0;34m)\u001b[0m\u001b[0;34m\u001b[0m\u001b[0;34m\u001b[0m\u001b[0m\n\u001b[0m\u001b[1;32m     28\u001b[0m \u001b[0;34m\u001b[0m\u001b[0m\n\u001b[1;32m     29\u001b[0m \u001b[0;32mdef\u001b[0m \u001b[0m_bulk_upload\u001b[0m\u001b[0;34m(\u001b[0m\u001b[0mbucket\u001b[0m\u001b[0;34m,\u001b[0m \u001b[0mdata\u001b[0m\u001b[0;34m)\u001b[0m\u001b[0;34m:\u001b[0m\u001b[0;34m\u001b[0m\u001b[0;34m\u001b[0m\u001b[0m\n",
      "\u001b[0;32m~/miniconda3/lib/python3.9/site-packages/hound/client.py\u001b[0m in \u001b[0;36m_getblob_client\u001b[0;34m(credentials)\u001b[0m\n\u001b[1;32m     21\u001b[0m \u001b[0;34m@\u001b[0m\u001b[0mlru_cache\u001b[0m\u001b[0;34m(\u001b[0m\u001b[0;34m)\u001b[0m\u001b[0;34m\u001b[0m\u001b[0;34m\u001b[0m\u001b[0m\n\u001b[1;32m     22\u001b[0m \u001b[0;32mdef\u001b[0m \u001b[0m_getblob_client\u001b[0m\u001b[0;34m(\u001b[0m\u001b[0mcredentials\u001b[0m\u001b[0;34m)\u001b[0m\u001b[0;34m:\u001b[0m\u001b[0;34m\u001b[0m\u001b[0;34m\u001b[0m\u001b[0m\n\u001b[0;32m---> 23\u001b[0;31m     \u001b[0;32mreturn\u001b[0m \u001b[0mstorage\u001b[0m\u001b[0;34m.\u001b[0m\u001b[0mClient\u001b[0m\u001b[0;34m(\u001b[0m\u001b[0mcredentials\u001b[0m\u001b[0;34m=\u001b[0m\u001b[0mcredentials\u001b[0m\u001b[0;34m)\u001b[0m\u001b[0;34m\u001b[0m\u001b[0;34m\u001b[0m\u001b[0m\n\u001b[0m\u001b[1;32m     24\u001b[0m \u001b[0;34m\u001b[0m\u001b[0m\n\u001b[1;32m     25\u001b[0m \u001b[0;34m@\u001b[0m\u001b[0mlru_cache\u001b[0m\u001b[0;34m(\u001b[0m\u001b[0;34m)\u001b[0m\u001b[0;34m\u001b[0m\u001b[0;34m\u001b[0m\u001b[0m\n",
      "\u001b[0;32m~/miniconda3/lib/python3.9/site-packages/google/cloud/storage/client.py\u001b[0m in \u001b[0;36m__init__\u001b[0;34m(self, project, credentials, _http, client_info, client_options)\u001b[0m\n\u001b[1;32m    122\u001b[0m             \u001b[0mproject\u001b[0m \u001b[0;34m=\u001b[0m \u001b[0;32mNone\u001b[0m\u001b[0;34m\u001b[0m\u001b[0;34m\u001b[0m\u001b[0m\n\u001b[1;32m    123\u001b[0m \u001b[0;34m\u001b[0m\u001b[0m\n\u001b[0;32m--> 124\u001b[0;31m         super(Client, self).__init__(\n\u001b[0m\u001b[1;32m    125\u001b[0m             \u001b[0mproject\u001b[0m\u001b[0;34m=\u001b[0m\u001b[0mproject\u001b[0m\u001b[0;34m,\u001b[0m\u001b[0;34m\u001b[0m\u001b[0;34m\u001b[0m\u001b[0m\n\u001b[1;32m    126\u001b[0m             \u001b[0mcredentials\u001b[0m\u001b[0;34m=\u001b[0m\u001b[0mcredentials\u001b[0m\u001b[0;34m,\u001b[0m\u001b[0;34m\u001b[0m\u001b[0;34m\u001b[0m\u001b[0m\n",
      "\u001b[0;32m~/miniconda3/lib/python3.9/site-packages/google/cloud/client.py\u001b[0m in \u001b[0;36m__init__\u001b[0;34m(self, project, credentials, client_options, _http)\u001b[0m\n\u001b[1;32m    316\u001b[0m \u001b[0;34m\u001b[0m\u001b[0m\n\u001b[1;32m    317\u001b[0m     \u001b[0;32mdef\u001b[0m \u001b[0m__init__\u001b[0m\u001b[0;34m(\u001b[0m\u001b[0mself\u001b[0m\u001b[0;34m,\u001b[0m \u001b[0mproject\u001b[0m\u001b[0;34m=\u001b[0m\u001b[0;32mNone\u001b[0m\u001b[0;34m,\u001b[0m \u001b[0mcredentials\u001b[0m\u001b[0;34m=\u001b[0m\u001b[0;32mNone\u001b[0m\u001b[0;34m,\u001b[0m \u001b[0mclient_options\u001b[0m\u001b[0;34m=\u001b[0m\u001b[0;32mNone\u001b[0m\u001b[0;34m,\u001b[0m \u001b[0m_http\u001b[0m\u001b[0;34m=\u001b[0m\u001b[0;32mNone\u001b[0m\u001b[0;34m)\u001b[0m\u001b[0;34m:\u001b[0m\u001b[0;34m\u001b[0m\u001b[0;34m\u001b[0m\u001b[0m\n\u001b[0;32m--> 318\u001b[0;31m         \u001b[0m_ClientProjectMixin\u001b[0m\u001b[0;34m.\u001b[0m\u001b[0m__init__\u001b[0m\u001b[0;34m(\u001b[0m\u001b[0mself\u001b[0m\u001b[0;34m,\u001b[0m \u001b[0mproject\u001b[0m\u001b[0;34m=\u001b[0m\u001b[0mproject\u001b[0m\u001b[0;34m,\u001b[0m \u001b[0mcredentials\u001b[0m\u001b[0;34m=\u001b[0m\u001b[0mcredentials\u001b[0m\u001b[0;34m)\u001b[0m\u001b[0;34m\u001b[0m\u001b[0;34m\u001b[0m\u001b[0m\n\u001b[0m\u001b[1;32m    319\u001b[0m         Client.__init__(\n\u001b[1;32m    320\u001b[0m             \u001b[0mself\u001b[0m\u001b[0;34m,\u001b[0m \u001b[0mcredentials\u001b[0m\u001b[0;34m=\u001b[0m\u001b[0mcredentials\u001b[0m\u001b[0;34m,\u001b[0m \u001b[0mclient_options\u001b[0m\u001b[0;34m=\u001b[0m\u001b[0mclient_options\u001b[0m\u001b[0;34m,\u001b[0m \u001b[0m_http\u001b[0m\u001b[0;34m=\u001b[0m\u001b[0m_http\u001b[0m\u001b[0;34m\u001b[0m\u001b[0;34m\u001b[0m\u001b[0m\n",
      "\u001b[0;32m~/miniconda3/lib/python3.9/site-packages/google/cloud/client.py\u001b[0m in \u001b[0;36m__init__\u001b[0;34m(self, project, credentials)\u001b[0m\n\u001b[1;32m    267\u001b[0m \u001b[0;34m\u001b[0m\u001b[0m\n\u001b[1;32m    268\u001b[0m         \u001b[0;32mif\u001b[0m \u001b[0mproject\u001b[0m \u001b[0;32mis\u001b[0m \u001b[0;32mNone\u001b[0m\u001b[0;34m:\u001b[0m\u001b[0;34m\u001b[0m\u001b[0;34m\u001b[0m\u001b[0m\n\u001b[0;32m--> 269\u001b[0;31m             raise EnvironmentError(\n\u001b[0m\u001b[1;32m    270\u001b[0m                 \u001b[0;34m\"Project was not passed and could not be \"\u001b[0m\u001b[0;34m\u001b[0m\u001b[0;34m\u001b[0m\u001b[0m\n\u001b[1;32m    271\u001b[0m                 \u001b[0;34m\"determined from the environment.\"\u001b[0m\u001b[0;34m\u001b[0m\u001b[0;34m\u001b[0m\u001b[0m\n",
      "\u001b[0;31mOSError\u001b[0m: Project was not passed and could not be determined from the environment."
     ]
    }
   ],
   "metadata": {}
  }
 ],
 "metadata": {
  "interpreter": {
   "hash": "c43df2cae5c6158b6e53cea1d8cdf493489329b0941ecb076bd167c8d5a6836b"
  },
  "kernelspec": {
   "name": "python3",
   "display_name": "Python 3.9.5 64-bit ('base': conda)"
  },
  "language_info": {
   "codemirror_mode": {
    "name": "ipython",
    "version": 3
   },
   "file_extension": ".py",
   "mimetype": "text/x-python",
   "name": "python",
   "nbconvert_exporter": "python",
   "pygments_lexer": "ipython3",
   "version": "3.9.5"
  }
 },
 "nbformat": 4,
 "nbformat_minor": 2
}