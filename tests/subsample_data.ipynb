{
 "cells": [
  {
   "attachments": {},
   "cell_type": "markdown",
   "metadata": {},
   "source": [
    "# Instructions\n",
    "\n",
    "This notebook is intended as a place to collect code for subsampling real data files. It's worth\n",
    "keeping (in some lightweight) way how to subset datafiles because inevitably, data formats change\n",
    "or you get new data. In which case, having a notebook of how the data was subsampled last time makes\n",
    "it much faster to redo. Hopefully this will be infrequent, but having the code is better than not \n",
    "when you do need to redo it.\n"
   ]
  },
  {
   "cell_type": "code",
   "execution_count": null,
   "metadata": {},
   "outputs": [],
   "source": [
    "# using ACH-000009 as a sample. I chose this sample at random from the public CCLE dataset after\n",
    "# confirming we have WGS data for it.\n",
    "# (I wanted something in the public CCLE dataset we don't need to worry about keeping the genomics \n",
    "# under access controls in case these test cases become public some day)\n",
    "\n",
    "# gs://fc-secure-bd7b8bc9-f665-4269-997e-5a402088a369/submissions/eeed6174-a0ca-4212-8cd0-fbbeeceb8bbf/omics_post_mutect2/0a4687d3-4e33-4dbd-801a-43dbb6958161/call-open_cravat/out/CDS-R99tiF.filtered.vcf.gz\n",
    "import os\n",
    "if not os.path.exists(\"tmp-vcf.gz\"):\n",
    "    os.system(\"gsutil cp gs://fc-secure-bd7b8bc9-f665-4269-997e-5a402088a369/submissions/eeed6174-a0ca-4212-8cd0-fbbeeceb8bbf/omics_post_mutect2/0a4687d3-4e33-4dbd-801a-43dbb6958161/call-open_cravat/out/CDS-R99tiF.filtered.vcf.gz tmp-vcf.gz\")"
   ]
  },
  {
   "cell_type": "code",
   "execution_count": null,
   "metadata": {},
   "outputs": [],
   "source": [
    "import gzip\n",
    "import random\n",
    "def subsample_by_line(in_filename, out_filename, keep_all_comments=True, max_lines=5000, probability=0.01):\n",
    "    r = random.Random(0)\n",
    "    fd = gzip.open(in_filename, \"rt\")\n",
    "    fd_out = gzip.open(out_filename, \"wt\")\n",
    "    out_count = 0\n",
    "    for line in fd:\n",
    "        if line.startswith(\"#\") and keep_all_comments:\n",
    "            pass\n",
    "        elif r.random() < probability:\n",
    "            pass\n",
    "        else:\n",
    "            continue\n",
    "        fd_out.write(line)\n",
    "        out_count += 1\n",
    "        if out_count >= max_lines:\n",
    "            break\n",
    "    fd.close()\n",
    "    fd_out.close()\n",
    "\n",
    "subsample_by_line(\"tmp-vcf.gz\", \"CDS-R99tiF.subset.vcf.gz\")"
   ]
  },
  {
   "cell_type": "code",
   "execution_count": null,
   "metadata": {},
   "outputs": [],
   "source": [
    "!ls -l CDS-R99tiF.subset.vcf.gz"
   ]
  },
  {
   "cell_type": "code",
   "execution_count": null,
   "metadata": {},
   "outputs": [],
   "source": []
  }
 ],
 "metadata": {
  "kernelspec": {
   "display_name": "depmap-omics-saIjBcuY-py3.9",
   "language": "python",
   "name": "python3"
  },
  "language_info": {
   "codemirror_mode": {
    "name": "ipython",
    "version": 3
   },
   "file_extension": ".py",
   "mimetype": "text/x-python",
   "name": "python",
   "nbconvert_exporter": "python",
   "pygments_lexer": "ipython3",
   "version": "3.9.16"
  }
 },
 "nbformat": 4,
 "nbformat_minor": 2
}
