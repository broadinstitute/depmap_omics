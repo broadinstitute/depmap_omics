{
 "cells": [
  {
   "cell_type": "code",
   "execution_count": null,
   "source": [
    "from gsheets import Sheets\n",
    "\n",
    "sheet = Sheets.from_files('~/.client_secret.json', \"~/.storage.json\").get(\"https://docs.google.com/spreadsheets/d/161mmmHF5nc3nFhgpp_7zub5Erod8xDbXnNZ-u-7BWKI\").sheets[0].to_frame(index_col=0)"
   ],
   "outputs": [],
   "metadata": {}
  },
  {
   "cell_type": "code",
   "execution_count": null,
   "source": [
    "sheet"
   ],
   "outputs": [],
   "metadata": {}
  },
  {
   "cell_type": "code",
   "execution_count": null,
   "source": [
    "import gspread\n",
    "from oauth2client.service_account import ServiceAccountCredentials\n",
    "\n",
    "scope = [\"https://spreadsheets.google.com/feeds\", 'https://www.googleapis.com/auth/spreadsheets',\n",
    "         \"https://www.googleapis.com/auth/drive.file\", \"https://www.googleapis.com/auth/drive\"]\n",
    "\n",
    "credentials = ServiceAccountCredentials.from_json_keyfile_name('../.credentials.json', scope)\n",
    "client = gspread.authorize(credentials)\n",
    "spreadsheet = client.open('ccle sample tracker sandbox')\n",
    "\n"
   ],
   "outputs": [],
   "metadata": {}
  },
  {
   "cell_type": "code",
   "execution_count": null,
   "source": [
    "from firecloud import fccore\n",
    "from firecloud import api as fapi\n"
   ],
   "outputs": [],
   "metadata": {}
  },
  {
   "cell_type": "code",
   "execution_count": null,
   "source": [
    "fapi.whoami()"
   ],
   "outputs": [],
   "metadata": {}
  },
  {
   "cell_type": "code",
   "execution_count": null,
   "source": [
    " a = fapi.get_entities(\"broad-firecloud-ccle\", \"DepMap_hg38_RNAseq-sandbox\", \"sample_set\")\n",
    " # a.json()\n"
   ],
   "outputs": [],
   "metadata": {}
  },
  {
   "cell_type": "code",
   "execution_count": null,
   "source": [
    "import dalmatian as dm"
   ],
   "outputs": [],
   "metadata": {}
  },
  {
   "cell_type": "code",
   "execution_count": null,
   "source": [
    "refworkspace1 = \"broad-firecloud-ccle/DepMap_hg38_RNAseq-sandbox\"\n",
    "\n",
    "refwm1 = dm.WorkspaceManager(refworkspace1)\n",
    "res = refwm1.get_samples()"
   ],
   "outputs": [],
   "metadata": {}
  },
  {
   "cell_type": "code",
   "execution_count": null,
   "source": [
    "res_subset = res[:3]\n",
    "res_subset"
   ],
   "outputs": [],
   "metadata": {}
  },
  {
   "cell_type": "code",
   "execution_count": null,
   "source": [
    "refworkspace2 = \"broad-firecloud-ccle/simone-test\"\n",
    "refwm2 = dm.WorkspaceManager(refworkspace2)\n",
    "\n",
    "refwm2.upload_samples(res_subset)\n"
   ],
   "outputs": [],
   "metadata": {}
  },
  {
   "cell_type": "code",
   "execution_count": null,
   "source": [
    "refwm2.upload_samples(res[10:15], add_participant_samples=False)"
   ],
   "outputs": [],
   "metadata": {}
  },
  {
   "cell_type": "code",
   "execution_count": 2,
   "source": [
    "from __future__ import print_function\n",
    "\n",
    "from depmapomics.config import *\n",
    "\n",
    "from depmapomics import loading, tracker\n",
    "from depmapomics import mutations as omics_mut\n",
    "from depmapomics import copynumbers as omics_cn\n",
    "from genepy import terra\n",
    "from genepy.utils import helper as h\n",
    "\n",
    "import dalmatian as dm\n",
    "from bokeh.plotting import output_notebook\n",
    "\n",
    "%load_ext autoreload\n",
    "%autoreload 2\n",
    "\n",
    "output_notebook()"
   ],
   "outputs": [
    {
     "output_type": "error",
     "ename": "NameError",
     "evalue": "name 'TAIGA_LEGACY_CN' is not defined",
     "traceback": [
      "\u001b[0;31m---------------------------------------------------------------------------\u001b[0m",
      "\u001b[0;31mNameError\u001b[0m                                 Traceback (most recent call last)",
      "\u001b[0;32m/tmp/ipykernel_30081/2649267091.py\u001b[0m in \u001b[0;36m<module>\u001b[0;34m\u001b[0m\n\u001b[1;32m      5\u001b[0m \u001b[0;32mfrom\u001b[0m \u001b[0mdepmapomics\u001b[0m \u001b[0;32mimport\u001b[0m \u001b[0mloading\u001b[0m\u001b[0;34m,\u001b[0m \u001b[0mtracker\u001b[0m\u001b[0;34m\u001b[0m\u001b[0;34m\u001b[0m\u001b[0m\n\u001b[1;32m      6\u001b[0m \u001b[0;32mfrom\u001b[0m \u001b[0mdepmapomics\u001b[0m \u001b[0;32mimport\u001b[0m \u001b[0mmutations\u001b[0m \u001b[0;32mas\u001b[0m \u001b[0momics_mut\u001b[0m\u001b[0;34m\u001b[0m\u001b[0;34m\u001b[0m\u001b[0m\n\u001b[0;32m----> 7\u001b[0;31m \u001b[0;32mfrom\u001b[0m \u001b[0mdepmapomics\u001b[0m \u001b[0;32mimport\u001b[0m \u001b[0mcopynumbers\u001b[0m \u001b[0;32mas\u001b[0m \u001b[0momics_cn\u001b[0m\u001b[0;34m\u001b[0m\u001b[0;34m\u001b[0m\u001b[0m\n\u001b[0m\u001b[1;32m      8\u001b[0m \u001b[0;32mfrom\u001b[0m \u001b[0mgenepy\u001b[0m \u001b[0;32mimport\u001b[0m \u001b[0mterra\u001b[0m\u001b[0;34m\u001b[0m\u001b[0;34m\u001b[0m\u001b[0m\n\u001b[1;32m      9\u001b[0m \u001b[0;32mfrom\u001b[0m \u001b[0mgenepy\u001b[0m\u001b[0;34m.\u001b[0m\u001b[0mutils\u001b[0m \u001b[0;32mimport\u001b[0m \u001b[0mhelper\u001b[0m \u001b[0;32mas\u001b[0m \u001b[0mh\u001b[0m\u001b[0;34m\u001b[0m\u001b[0;34m\u001b[0m\u001b[0m\n",
      "\u001b[0;32m~/bin/depmap_omics/depmapomics/copynumbers.py\u001b[0m in \u001b[0;36m<module>\u001b[0;34m\u001b[0m\n\u001b[1;32m    463\u001b[0m                         \u001b[0;31m# much more than that..\u001b[0m\u001b[0;34m\u001b[0m\u001b[0;34m\u001b[0m\u001b[0;34m\u001b[0m\u001b[0m\n\u001b[1;32m    464\u001b[0m                         \u001b[0;34m\"ACH-002010\"\u001b[0m\u001b[0;34m,\u001b[0m\u001b[0;34m\u001b[0m\u001b[0;34m\u001b[0m\u001b[0m\n\u001b[0;32m--> 465\u001b[0;31m                         \"ACH-000314\"], taiga_legacy_loc=TAIGA_LEGACY_CN,\n\u001b[0m\u001b[1;32m    466\u001b[0m                        \u001b[0mtaiga_legacy_filename\u001b[0m\u001b[0;34m=\u001b[0m\u001b[0;34m'legacy_segments'\u001b[0m\u001b[0;34m,\u001b[0m\u001b[0;34m\u001b[0m\u001b[0;34m\u001b[0m\u001b[0m\n\u001b[1;32m    467\u001b[0m                        \u001b[0mtaiga_dataset\u001b[0m\u001b[0;34m=\u001b[0m\u001b[0mTAIGA_CN_ACHILLES\u001b[0m\u001b[0;34m,\u001b[0m\u001b[0;34m\u001b[0m\u001b[0;34m\u001b[0m\u001b[0m\n",
      "\u001b[0;31mNameError\u001b[0m: name 'TAIGA_LEGACY_CN' is not defined"
     ]
    }
   ],
   "metadata": {}
  },
  {
   "cell_type": "code",
   "execution_count": null,
   "source": [],
   "outputs": [],
   "metadata": {}
  }
 ],
 "metadata": {
  "interpreter": {
   "hash": "f3270f4bf365f5f20887eadc3d1c9f91dc2237815d6e55da5033651fc7624cd9"
  },
  "kernelspec": {
   "name": "python3",
   "display_name": "Python 3.8.2 64-bit ('base': conda)"
  },
  "language_info": {
   "codemirror_mode": {
    "name": "ipython",
    "version": 3
   },
   "file_extension": ".py",
   "mimetype": "text/x-python",
   "name": "python",
   "nbconvert_exporter": "python",
   "pygments_lexer": "ipython3",
   "version": "3.8.2"
  }
 },
 "nbformat": 4,
 "nbformat_minor": 2
}