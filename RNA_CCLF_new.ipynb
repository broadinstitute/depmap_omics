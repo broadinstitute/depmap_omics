{
 "cells": [
  {
   "cell_type": "markdown",
   "metadata": {},
   "source": [
    "# This is just fusion postprocessing for now"
   ]
  },
  {
   "cell_type": "code",
   "execution_count": null,
   "metadata": {},
   "outputs": [],
   "source": [
    "%load_ext autoreload\n",
    "%autoreload 2\n",
    "%load_ext rpy2.ipython\n",
    "from depmapomics.postprocess_fusions import postprocess_fusions"
   ]
  },
  {
   "cell_type": "code",
   "execution_count": null,
   "metadata": {},
   "outputs": [],
   "source": [
    "fusions, fusions_filtered = postprocess_fusions('nci-mimoun-bi-org/CCLF_RNA_2_0', \n",
    "                                                 sample_id_name='sample_id', \n",
    "                                                 sample_set_name='all_samples',                         \n",
    "                                                 output_fusion_file='/tmp/fusions.csv',\n",
    "                                                 output_fusion_filtered_file='/tmp/filtered_fusions.csv')"
   ]
  },
  {
   "cell_type": "code",
   "execution_count": null,
   "metadata": {},
   "outputs": [],
   "source": [
    "ls /tmp/"
   ]
  },
  {
   "cell_type": "code",
   "execution_count": null,
   "metadata": {},
   "outputs": [],
   "source": [
    "!head /tmp/filtered_fusions.csv| cut -d, -f1-8"
   ]
  },
  {
   "cell_type": "code",
   "execution_count": null,
   "metadata": {},
   "outputs": [],
   "source": [
    "!head /tmp/fusions.csv| cut -d, -f1-8"
   ]
  },
  {
   "cell_type": "code",
   "execution_count": null,
   "metadata": {},
   "outputs": [],
   "source": [
    "from taigapy import TaigaClient\n",
    "tc = TaigaClient()\n",
    "\n",
    "# dataset_version_id = tc.update_dataset(\n",
    "#     dataset_id='cclf-mutations-9ab4',\n",
    "#     changes_description='add sample_info file',\n",
    "#     upload_files=[\n",
    "#         {\"path\": '/tmp/sample_info.csv',\n",
    "#         \"format\": 'TableCSV',\n",
    "#         \"name\": 'sample_info'}\n",
    "#     ],\n",
    "#     add_all_existing_files=True\n",
    "# )\n",
    "\n",
    "tc.update_dataset(\n",
    "    dataset_id='rnaseq-expression-data-47e5',\n",
    "    changes_description='add rnaseq file',\n",
    "    upload_files=[\n",
    "        {\"path\": '/tmp/fusions.csv',\n",
    "        \"format\": 'TableCSV',\n",
    "        \"name\": 'fusions_all'},\n",
    "        {\"path\": '/tmp/filtered_fusions.csv',\n",
    "        \"format\": 'TableCSV',\n",
    "        \"name\": 'fusions_unfiltered_all'}\n",
    "    ],\n",
    "    add_all_existing_files=True\n",
    ")"
   ]
  },
  {
   "cell_type": "code",
   "execution_count": null,
   "metadata": {},
   "outputs": [],
   "source": [
    "# test\n",
    "from taigapy import TaigaClient\n",
    "tc = TaigaClient()\n",
    "fusions_all = tc.get(name='rnaseq-expression-data-47e5', version=7, file='fusions_all')\n",
    "fusions_unfiltered_all = tc.get(name='rnaseq-expression-data-47e5', version=7, file='fusions_unfiltered_all')\n"
   ]
  },
  {
   "cell_type": "code",
   "execution_count": null,
   "metadata": {},
   "outputs": [],
   "source": []
  }
 ],
 "metadata": {
  "kernelspec": {
   "display_name": "Python 3.8.5 64-bit ('miniconda3': virtualenv)",
   "metadata": {
    "interpreter": {
     "hash": "dbfbddf5c4176ea56e92aa442bfc1e9f8af93a802b8712f75ea721993d9f596d"
    }
   },
   "name": "python3"
  },
  "language_info": {
   "codemirror_mode": {
    "name": "ipython",
    "version": 3
   },
   "file_extension": ".py",
   "mimetype": "text/x-python",
   "name": "python",
   "nbconvert_exporter": "python",
   "pygments_lexer": "ipython3",
   "version": "3.8.5-final"
  }
 },
 "nbformat": 4,
 "nbformat_minor": 2
}
