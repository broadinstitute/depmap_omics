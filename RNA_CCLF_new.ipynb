{
 "metadata": {
  "language_info": {
   "codemirror_mode": {
    "name": "ipython",
    "version": 3
   },
   "file_extension": ".py",
   "mimetype": "text/x-python",
   "name": "python",
   "nbconvert_exporter": "python",
   "pygments_lexer": "ipython3",
   "version": "3.8.5-final"
  },
  "orig_nbformat": 2,
  "kernelspec": {
   "name": "python3",
   "display_name": "Python 3.8.5 64-bit ('miniconda3': virtualenv)",
   "metadata": {
    "interpreter": {
     "hash": "dbfbddf5c4176ea56e92aa442bfc1e9f8af93a802b8712f75ea721993d9f596d"
    }
   }
  }
 },
 "nbformat": 4,
 "nbformat_minor": 2,
 "cells": [
  {
   "source": [
    "# This is just fusion postprocessing for now"
   ],
   "cell_type": "markdown",
   "metadata": {}
  },
  {
   "cell_type": "code",
   "execution_count": 6,
   "metadata": {},
   "outputs": [
    {
     "output_type": "stream",
     "name": "stdout",
     "text": [
      "The autoreload extension is already loaded. To reload it, use:\n  %reload_ext autoreload\nThe rpy2.ipython extension is already loaded. To reload it, use:\n  %reload_ext rpy2.ipython\n"
     ]
    }
   ],
   "source": [
    "%load_ext autoreload\n",
    "%autoreload 2\n",
    "%load_ext rpy2.ipython\n",
    "from depmapomics.postprocess_fusions import postprocess_fusions"
   ]
  },
  {
   "cell_type": "code",
   "execution_count": 12,
   "metadata": {},
   "outputs": [],
   "source": [
    "fusions, fusions_filtered = postprocess_fusions('nci-mimoun-bi-org/CCLF_RNA_2_0', \n",
    "                                                 sample_id_name='sample_id', \n",
    "                                                 sample_set_name='all_samples',                         \n",
    "                                                 output_fusion_file='/tmp/fusions.csv',\n",
    "                                                 output_fusion_filtered_file='/tmp/filtered_fusions.csv')"
   ]
  },
  {
   "cell_type": "code",
   "execution_count": 8,
   "metadata": {},
   "outputs": [
    {
     "output_type": "stream",
     "name": "stdout",
     "text": [
      "\u001b[34mKSDownloadAction.JqW6wBOyyB\u001b[m\u001b[m/      \u001b[34mtmp8o5aex7d\u001b[m\u001b[m/\n\u001b[34mKSDownloadAction.SPLqvuUQQB\u001b[m\u001b[m/      \u001b[34mtmpdalr8j8a\u001b[m\u001b[m/\n\u001b[34mKSInstallAction.QYQtNBJJc2\u001b[m\u001b[m/       \u001b[34mtmpeflpem2j\u001b[m\u001b[m/\n\u001b[34mKSInstallAction.ZdXi3kHKEO\u001b[m\u001b[m/       \u001b[34mtmpehqmi8r8\u001b[m\u001b[m/\n\u001b[34mKSOutOfProcessFetcher.9sNWNVRZXK\u001b[m\u001b[m/ \u001b[34mtmpf2adazi0\u001b[m\u001b[m/\n\u001b[34mKSOutOfProcessFetcher.tbpJrVfTXO\u001b[m\u001b[m/ \u001b[34mtmpfb774w3n\u001b[m\u001b[m/\n\u001b[34mcom.apple.launchd.CmGWb6Nie2\u001b[m\u001b[m/     \u001b[34mtmpfzkzo4lf\u001b[m\u001b[m/\n\u001b[34mcom.apple.launchd.ZyrqKG9Jx5\u001b[m\u001b[m/     \u001b[34mtmph4mt15ce\u001b[m\u001b[m/\n\u001b[34mcom.google.Keystone\u001b[m\u001b[m/              \u001b[34mtmpmy9t465i\u001b[m\u001b[m/\nexpression.fusion.tsv             \u001b[34mtmpnqgb8jc9\u001b[m\u001b[m/\nfiltered_fusions.csv              \u001b[34mtmpoakkkywt\u001b[m\u001b[m/\nfusions.csv                       \u001b[34mtmpqpshscbp\u001b[m\u001b[m/\njupyter.log                       \u001b[34mtmprc3ifdqq\u001b[m\u001b[m/\n\u001b[34mpowerlog\u001b[m\u001b[m/                         \u001b[34mtmptlf0ca_c\u001b[m\u001b[m/\n\u001b[34mtmp2_n112vg\u001b[m\u001b[m/                      \u001b[34mtmpu4a337eo\u001b[m\u001b[m/\n\u001b[34mtmp4asgaelh\u001b[m\u001b[m/                      \u001b[34mtmpwlygq4hx\u001b[m\u001b[m/\n\u001b[34mtmp5ah36_vl\u001b[m\u001b[m/                      \u001b[34mtmpycscqmka\u001b[m\u001b[m/\n\u001b[34mtmp8c_zu4l5\u001b[m\u001b[m/\n"
     ]
    }
   ],
   "source": [
    "ls /tmp/"
   ]
  },
  {
   "cell_type": "code",
   "execution_count": 10,
   "metadata": {},
   "outputs": [
    {
     "output_type": "stream",
     "name": "stdout",
     "text": [
      "sample_id,FusionName,JunctionReadCount,SpanningFragCount,SpliceType\nAA02-Tumor-SM-5LB98.star-fusion.fusion_predictions.abridged.tsv,SMAD4--LINC01630,3,1,ONLY_REF_SPLICE\nAA02-Tumor-SM-5LB98.star-fusion.fusion_predictions.abridged.tsv,AC005670.3--C12orf42,2,1,ONLY_REF_SPLICE\nAA02-Tumor-SM-5LB98.star-fusion.fusion_predictions.abridged.tsv,SMAD4--LINC01630,1,1,ONLY_REF_SPLICE\nAA13-Tumor-SM-GXH5W.star-fusion.fusion_predictions.abridged.tsv,HNRNPA2B1--DNAH11,26,0,INCL_NON_REF_SPLICE\nCCLF_Mix_RNASeq_June2016-AA13-Tumor-SM-6DBPD.star-fusion.fusion_predictions.abridged.tsv,HNRNPA2B1--DNAH11,21,0,INCL_NON_REF_SPLICE\nCCLF_Mix_RNASeq_June2016-AB016-Tumor-SM-9QQCX.star-fusion.fusion_predictions.abridged.tsv,HNRNPA2B1--DNAH11,20,0,INCL_NON_REF_SPLICE\nPEDS030-Tumor-SM-GBCD3.star-fusion.fusion_predictions.abridged.tsv,HNRNPA2B1--DNAH11,6,0,INCL_NON_REF_SPLICE\nAA13-Tumor-SM-GXH5W.star-fusion.fusion_predictions.abridged.tsv,CCND2--CCND1,10,0,ONLY_REF_SPLICE\nAA13-Tumor-SM-GXH5W.star-fusion.fusion_predictions.abridged.tsv,ATP5MC1--AL139220.1,10,0,INCL_NON_REF_SPLICE\n"
     ]
    }
   ],
   "source": [
    "!head /tmp/filtered_fusions.csv| cut -d, -f1-5"
   ]
  },
  {
   "cell_type": "code",
   "execution_count": 11,
   "metadata": {},
   "outputs": [
    {
     "output_type": "stream",
     "name": "stdout",
     "text": [
      "sample_id,FusionName,JunctionReadCount,SpanningFragCount,SpliceType\nAA02-Tumor-SM-5LB98.star-fusion.fusion_predictions.abridged.tsv,SMAD4--LINC01630,3,1,ONLY_REF_SPLICE\nAA02-Tumor-SM-5LB98.star-fusion.fusion_predictions.abridged.tsv,AC005670.3--C12orf42,2,1,ONLY_REF_SPLICE\nAA02-Tumor-SM-5LB98.star-fusion.fusion_predictions.abridged.tsv,SMAD4--LINC01630,1,1,ONLY_REF_SPLICE\nAA02-Tumor-SM-5LB98.star-fusion.fusion_predictions.abridged.tsv,SAA4--SAA1,2,0,ONLY_REF_SPLICE\nAA22-Tumor-SM-ALFLY.star-fusion.fusion_predictions.abridged.tsv,SAA4--SAA1,76,0,ONLY_REF_SPLICE\nAA26-Tumor-SM-AU5YZ.star-fusion.fusion_predictions.abridged.tsv,SAA4--SAA1,267,0,ONLY_REF_SPLICE\nAA26-Tumor-SM-GXH2N.star-fusion.fusion_predictions.abridged.tsv,SAA4--SAA1,86,0,ONLY_REF_SPLICE\nAA29-Tumor-SM-GXH2P.star-fusion.fusion_predictions.abridged.tsv,SAA4--SAA1,5,0,ONLY_REF_SPLICE\nAA42-Tumor-SM-CGNNZ.star-fusion.fusion_predictions.abridged.tsv,SAA4--SAA1,22,0,ONLY_REF_SPLICE\n"
     ]
    }
   ],
   "source": [
    "!head /tmp/fusions.csv| cut -d, -f1-5"
   ]
  },
  {
   "cell_type": "code",
   "execution_count": 13,
   "metadata": {},
   "outputs": [
    {
     "output_type": "stream",
     "name": "stdout",
     "text": [
      "No dataset version provided. Using version 6.\n",
      "Uploading fusions_all to S3\n",
      "Uploading fusions_unfiltered_all to S3\n",
      "Finished uploading fusions_unfiltered_all to S3\n",
      "Uploading fusions_unfiltered_all to Taiga\n",
      "Finished uploading fusions_unfiltered_all to Taiga\n",
      "Finished uploading fusions_all to S3\n",
      "Uploading fusions_all to Taiga\n",
      "Finished uploading fusions_all to Taiga\n",
      "Linking virtual file rnaseq-expression-data-47e5.6/id_mapping\n",
      "Linking virtual file rnaseq-expression-data-47e5.6/expression_with_root_smid\n",
      "Linking virtual file rnaseq-expression-data-47e5.6/expression.cclf_20201005.counts\n",
      "Linking virtual file rnaseq-expression-data-47e5.6/metadata_with_disease_info\n",
      "Linking virtual file rnaseq-expression-data-47e5.6/expression.cclf_20201005.protein_coding\n",
      "Linking virtual file rnaseq-expression-data-47e5.6/expression.cclf_20201005.genes\n",
      "Linking virtual file rnaseq-expression-data-47e5.6/expression.cclf_20201005.transcripts\n",
      "Linking virtual file rnaseq-expression-data-47e5.6/cclf_expression_sample_subset\n",
      "Dataset version created. Access it directly with this url: https://cds.team/taiga/dataset_version/11ab8fe14bdb4f46a2d0e296e8283c2f\n"
     ]
    },
    {
     "output_type": "execute_result",
     "data": {
      "text/plain": [
       "'11ab8fe14bdb4f46a2d0e296e8283c2f'"
      ]
     },
     "metadata": {},
     "execution_count": 13
    }
   ],
   "source": [
    "from taigapy import TaigaClient\n",
    "tc = TaigaClient()\n",
    "\n",
    "# dataset_version_id = tc.update_dataset(\n",
    "#     dataset_id='cclf-mutations-9ab4',\n",
    "#     changes_description='add sample_info file',\n",
    "#     upload_files=[\n",
    "#         {\"path\": '/tmp/sample_info.csv',\n",
    "#         \"format\": 'TableCSV',\n",
    "#         \"name\": 'sample_info'}\n",
    "#     ],\n",
    "#     add_all_existing_files=True\n",
    "# )\n",
    "\n",
    "tc.update_dataset(\n",
    "    dataset_id='rnaseq-expression-data-47e5',\n",
    "    changes_description='add rnaseq file',\n",
    "    upload_files=[\n",
    "        {\"path\": '/tmp/fusions.csv',\n",
    "        \"format\": 'TableCSV',\n",
    "        \"name\": 'fusions_all'},\n",
    "        {\"path\": '/tmp/filtered_fusions.csv',\n",
    "        \"format\": 'TableCSV',\n",
    "        \"name\": 'fusions_unfiltered_all'}\n",
    "    ],\n",
    "    add_all_existing_files=True\n",
    ")"
   ]
  },
  {
   "cell_type": "code",
   "execution_count": 14,
   "metadata": {},
   "outputs": [
    {
     "output_type": "stream",
     "name": "stderr",
     "text": [
      "[##################]100% | 577.7 MiB/s | 477.4 KiB / 477.4 KiB | ETA:  00:00:00\n",
      "[##################]100% |  99.6 MiB/s | 124.7 KiB / 124.7 KiB | ETA:  00:00:00\n"
     ]
    }
   ],
   "source": [
    "# test\n",
    "from taigapy import TaigaClient\n",
    "tc = TaigaClient()\n",
    "fusions_all = tc.get(name='rnaseq-expression-data-47e5', version=7, file='fusions_all')\n",
    "fusions_unfiltered_all = tc.get(name='rnaseq-expression-data-47e5', version=7, file='fusions_unfiltered_all')\n"
   ]
  },
  {
   "cell_type": "code",
   "execution_count": null,
   "metadata": {},
   "outputs": [],
   "source": []
  }
 ]
}