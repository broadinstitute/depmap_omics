{
 "cells": [
  {
   "cell_type": "code",
   "execution_count": null,
   "metadata": {},
   "outputs": [],
   "source": [
    "from depmapomics.postprocess_mutations import postprocess_mutations_filtered_wes\n",
    "\n",
    "mutations = postprocess_mutations_filtered_wes('nci-mimoun-bi-org/CCLF_WES',\n",
    "                                               sample_set_name = 'all',\n",
    "                                               output_file='/tmp/wes_somatic_mutations.csv')"
   ]
  },
  {
   "cell_type": "code",
   "execution_count": null,
   "metadata": {},
   "outputs": [],
   "source": [
    "# import dalmatian as dm\n",
    "# refworkspace = 'nci-mimoun-bi-org/CCLF_WES'\n",
    "# sample_set_name = 'all'\n",
    "# refwm = dm.WorkspaceManager(refworkspace).disable_hound()\n",
    "# filtered = refwm.get_sample_sets().loc[sample_set_name]['filtered_CGA_MAF_aggregated']\n",
    "# # print('copying aggregated filtered mutation file')\n",
    "# # cpFiles([filtered], \"/tmp/mutation_filtered_terra_merged.txt\")\n",
    "# # dm.gs_copy()\n"
   ]
  },
  {
   "cell_type": "code",
   "execution_count": null,
   "metadata": {},
   "outputs": [],
   "source": [
    "ls /tmp/"
   ]
  },
  {
   "cell_type": "code",
   "execution_count": null,
   "metadata": {},
   "outputs": [],
   "source": [
    "from taigapy import TaigaClient\n",
    "tc = TaigaClient()\n",
    "\n",
    "dataset_version_id = tc.update_dataset(\n",
    "    dataset_id='cclf-mutations-9ab4',\n",
    "    changes_description='add filtered mutations',\n",
    "    upload_files=[\n",
    "        {\"path\": '/tmp/wes_somatic_mutations.csv',\n",
    "        \"format\": 'TableCSV',\n",
    "        \"name\": 'wes_somatic_mutations_filtered_all'}\n",
    "    ],\n",
    "    add_all_existing_files=True\n",
    ")\n",
    "\n",
    "# tc.update_dataset(\n",
    "#     dataset_id='rnaseq-expression-data-47e5',\n",
    "#     changes_description='add rnaseq file',\n",
    "#     upload_files=[\n",
    "#         {\"path\": '/tmp/expression_with_root_smid.csv',\n",
    "#         \"format\": 'NumericMatrixCSV',\n",
    "#         \"name\": 'expression_with_root_smid'}\n",
    "#     ],\n",
    "#     add_all_existing_files=True\n",
    "# )"
   ]
  },
  {
   "cell_type": "code",
   "execution_count": null,
   "metadata": {},
   "outputs": [],
   "source": [
    "# test"
   ]
  }
 ],
 "metadata": {
  "kernelspec": {
   "display_name": "Python 3",
   "language": "python",
   "name": "python3"
  },
  "language_info": {
   "codemirror_mode": {
    "name": "ipython",
    "version": 3
   },
   "file_extension": ".py",
   "mimetype": "text/x-python",
   "name": "python",
   "nbconvert_exporter": "python",
   "pygments_lexer": "ipython3",
   "version": "3.8.5"
  }
 },
 "nbformat": 4,
 "nbformat_minor": 4
}
