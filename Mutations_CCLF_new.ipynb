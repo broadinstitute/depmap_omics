{
 "cells": [
  {
   "cell_type": "code",
   "execution_count": 1,
   "metadata": {},
   "outputs": [
    {
     "name": "stdout",
     "output_type": "stream",
     "text": [
      "copying aggregated filtered mutation file\n",
      "reading the mutation file\n",
      "writing CGA_WES_AC column\n",
      "filtering coverage\n",
      "filtering allelic fractions\n",
      "adding NCBI_Build and strand annotations\n",
      "saving results to output file\n"
     ]
    }
   ],
   "source": [
    "from depmapomics.postprocess_mutations import postprocess_mutations_filtered_wes\n",
    "\n",
    "mutations = postprocess_mutations_filtered_wes('nci-mimoun-bi-org/CCLF_WES',\n",
    "                                               sample_set_name = 'all',\n",
    "                                               output_file='/tmp/wes_somatic_mutations.csv')"
   ]
  },
  {
   "cell_type": "code",
   "execution_count": null,
   "metadata": {},
   "outputs": [
    {
     "name": "stdout",
     "output_type": "stream",
     "text": [
      "No dataset version provided. Using version 2.\n",
      "Uploading wes_somatic_mutations_filtered_all to S3\n",
      "Finished uploading wes_somatic_mutations_filtered_all to S3\n",
      "Uploading wes_somatic_mutations_filtered_all to Taiga\n"
     ]
    }
   ],
   "source": [
    "from taigapy import TaigaClient\n",
    "tc = TaigaClient()\n",
    "\n",
    "dataset_version_id = tc.update_dataset(\n",
    "    dataset_id='cclf-mutations-9ab4',\n",
    "    changes_description='add filtered mutations',\n",
    "    upload_files=[\n",
    "        {\"path\": '/tmp/wes_somatic_mutations.csv',\n",
    "        \"format\": 'TableCSV',\n",
    "        \"name\": 'wes_somatic_mutations_filtered_all'}\n",
    "    ],\n",
    "    add_all_existing_files=True\n",
    ")\n",
    "\n",
    "# tc.update_dataset(\n",
    "#     dataset_id='rnaseq-expression-data-47e5',\n",
    "#     changes_description='add rnaseq file',\n",
    "#     upload_files=[\n",
    "#         {\"path\": '/tmp/expression_with_root_smid.csv',\n",
    "#         \"format\": 'NumericMatrixCSV',\n",
    "#         \"name\": 'expression_with_root_smid'}\n",
    "#     ],\n",
    "#     add_all_existing_files=True\n",
    "# )"
   ]
  },
  {
   "cell_type": "code",
   "execution_count": null,
   "metadata": {},
   "outputs": [],
   "source": [
    "# test\n"
   ]
  }
 ],
 "metadata": {
  "kernelspec": {
   "display_name": "Python 3",
   "language": "python",
   "name": "python3"
  },
  "language_info": {
   "codemirror_mode": {
    "name": "ipython",
    "version": 3
   },
   "file_extension": ".py",
   "mimetype": "text/x-python",
   "name": "python",
   "nbconvert_exporter": "python",
   "pygments_lexer": "ipython3",
   "version": "3.8.5"
  }
 },
 "nbformat": 4,
 "nbformat_minor": 4
}
