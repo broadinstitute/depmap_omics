{
 "cells": [
  {
   "cell_type": "markdown",
   "metadata": {},
   "source": [
    "# Mutation Pipeline"
   ]
  },
  {
   "cell_type": "code",
   "execution_count": null,
   "metadata": {},
   "outputs": [],
   "source": [
    "from __future__ import print_function\n",
    "import os.path\n",
    "import pandas as pd\n",
    "import gzip\n",
    "import sys\n",
    "import numpy as np\n",
    "\n",
    "sys.path.insert(0, '..')\n",
    "\n",
    "from src.CCLE_postp_function import *\n",
    "from JKBio import Datanalytics as da \n",
    "from JKBio import TerraFunction as terra\n",
    "from JKBio import Helper as h\n",
    "from gsheets import Sheets\n",
    "from taigapy import TaigaClient\n",
    "import dalmatian as dm\n",
    "\n",
    "from sklearn.manifold import TSNE\n",
    "from sklearn.neighbors import KNeighborsClassifier\n",
    "\n",
    "from bokeh.plotting import *\n",
    "from bokeh.models import HoverTool\n",
    "from collections import OrderedDict\n",
    "from IPython.display import Image,display\n",
    "\n",
    "\n",
    "\n",
    "%load_ext autoreload\n",
    "%autoreload 2\n",
    "%load_ext rpy2.ipython\n",
    "tc = TaigaClient()\n",
    "output_notebook()\n",
    "sheets = Sheets.from_files('~/.client_secret.json', '~/.storage.json')\n",
    "replace = {'T': 'Tumor', 'N': 'Normal', 'm': 'Unknown', 'L': 'Unknown'}"
   ]
  },
  {
   "cell_type": "markdown",
   "metadata": {},
   "source": [
    "## boot up\n",
    "\n",
    "we are instanciating all the parameters needed for this pipeline to run"
   ]
  },
  {
   "cell_type": "code",
   "execution_count": null,
   "metadata": {},
   "outputs": [],
   "source": [
    "samplesetname = \"20Q3\"\n",
    "prevname=\"20Q2\"\n",
    "prevversion = 22\n",
    "prevprevname ='20Q1'\n",
    "prevprevversion= 20\n",
    "virtual_internal='internal-20q3-00d0'\n",
    "\n",
    "refworkspace=\"broad-firecloud-ccle/DepMap_Mutation_Calling_CGA_pipeline\"\n",
    "\n",
    "\n",
    "\n",
    "refsheet_url = \"https://docs.google.com/spreadsheets/d/1XkZypRuOEXzNLxVk9EOHeWRE98Z8_DBvL4PovyM01FE\"\n",
    "sheeturl = \"https://docs.google.com/spreadsheets/d/115TUgA1t_mD32SnWAGpW9OKmJ2W5WYAOs3SuSdedpX4\"\n",
    "\n",
    "release = samplesetname"
   ]
  },
  {
   "cell_type": "code",
   "execution_count": null,
   "metadata": {},
   "outputs": [],
   "source": [
    "%%R\n",
    "release <- '20Q3'\n",
    "prevname <- '20Q2'\n",
    "genome_version <- 'hg19'\n",
    "taiga_version <- 10\n",
    "prevversion <-13"
   ]
  },
  {
   "cell_type": "code",
   "execution_count": null,
   "metadata": {},
   "outputs": [],
   "source": [
    "refwm = dm.WorkspaceManager(refworkspace)"
   ]
  },
  {
   "cell_type": "code",
   "execution_count": null,
   "metadata": {},
   "outputs": [],
   "source": [
    "res = refwm.get_sample_sets().loc[\"all\"]\n",
    "res"
   ]
  },
  {
   "cell_type": "code",
   "execution_count": null,
   "metadata": {},
   "outputs": [],
   "source": [
    "filtered = res['filtered_CGA_MAF_aggregated']\n",
    "! gsutil cp $filtered \"temp/mutation_filtered_terra_merged.txt\""
   ]
  },
  {
   "cell_type": "code",
   "execution_count": null,
   "metadata": {},
   "outputs": [],
   "source": [
    "file = pd.read_csv('temp/mutation_filtered_terra_merged.txt',sep='\\t') \n",
    "print(file.columns[:10])\n",
    "renaming = removeOlderVersions(names = set(file['Tumor_Sample_Barcode']), refsamples = refwm.get_samples(), arxspan_id = \"arxspan_id\", version=\"version\")\n",
    "print(file[file['Chromosome']=='0'])\n",
    "file[file['Tumor_Sample_Barcode'].isin(renaming.keys())].replace({'Tumor_Sample_Barcode':renaming}).reset_index(drop=True).to_csv('temp/mutation_filtered_terra_merged.txt',sep='\\t',index=None)"
   ]
  },
  {
   "cell_type": "code",
   "execution_count": null,
   "metadata": {},
   "outputs": [],
   "source": [
    "ls ../JKBio/"
   ]
  },
  {
   "cell_type": "code",
   "execution_count": null,
   "metadata": {},
   "outputs": [],
   "source": [
    "%%R\n",
    "#source('src/load_libraries_and_annotations.R')\n",
    "load('src/Annotations.rdata') \n",
    "# There are some cell lines the celllinemapr does not know how to map so we need to load this data object for now (from old datasets)\n",
    "source('src/CCLE_postp_function.R')\n",
    "library('cdsomics')\n",
    "library(tidyverse)\n",
    "library(data.table)\n",
    "library(magrittr)\n",
    "library(taigr)\n",
    "library(cdsomics)\n",
    "library(celllinemapr) # To pull out DepMap_IDs from CCLE_names where needed"
   ]
  },
  {
   "cell_type": "code",
   "execution_count": null,
   "metadata": {},
   "outputs": [],
   "source": [
    "%%R\n",
    "newly_merged_maf <- readMutations('temp/mutation_filtered_terra_merged.txt')\n",
    "new_release <- createSNPs(newly_merged_maf)\n",
    "names(new_release)"
   ]
  },
  {
   "cell_type": "code",
   "execution_count": null,
   "metadata": {},
   "outputs": [],
   "source": [
    "%%R\n",
    "new_release <- renameAsInMainMutation(new_release)"
   ]
  },
  {
   "cell_type": "code",
   "execution_count": null,
   "metadata": {},
   "outputs": [],
   "source": [
    "%%R\n",
    "filtered <- filterAllelicFraction(new_release)"
   ]
  },
  {
   "cell_type": "code",
   "execution_count": null,
   "metadata": {},
   "outputs": [],
   "source": []
  },
  {
   "cell_type": "code",
   "execution_count": null,
   "metadata": {},
   "outputs": [],
   "source": [
    "%%R\n",
    "write.table(\n",
    "  filtered$merged, \n",
    "  paste0('temp/newmutations.', release, '.all.csv'), sep = ',', quote = F, row.names = F)"
   ]
  },
  {
   "cell_type": "code",
   "execution_count": null,
   "metadata": {},
   "outputs": [],
   "source": [
    "%%R\n",
    "filtered <- filterMinCoverage(filtered$merged, filtered$removed_from_maf)"
   ]
  },
  {
   "cell_type": "code",
   "execution_count": null,
   "metadata": {},
   "outputs": [],
   "source": [
    "%%R\n",
    "head(merged)"
   ]
  },
  {
   "cell_type": "code",
   "execution_count": null,
   "metadata": {},
   "outputs": [],
   "source": [
    "%%R\n",
    "clean_annotations <- mergeAnnotations(merged,previous.release.maf)"
   ]
  },
  {
   "cell_type": "code",
   "execution_count": null,
   "metadata": {},
   "outputs": [],
   "source": [
    "%%R\n",
    "\n",
    "# Allie's version\n",
    "new_release <- addAnnotation(new_release)"
   ]
  },
  {
   "cell_type": "code",
   "execution_count": null,
   "metadata": {},
   "outputs": [],
   "source": [
    "%%R\n",
    "# some matric files that does get used internaly and might be useful\n",
    "damaging_mutation <- mutation_maf_to_binary_matrix(new_release, damaging =  TRUE)\n",
    "other_mutation <- mutation_maf_to_binary_matrix(new_release, other = TRUE)\n",
    "hotspot_mutation <- mutation_maf_to_binary_matrix(new_release, hotspot = TRUE)"
   ]
  },
  {
   "cell_type": "code",
   "execution_count": null,
   "metadata": {},
   "outputs": [],
   "source": [
    "%%R\n",
    "# Save the ready to upload file to upload to taiga\n",
    "write.table(\n",
    "  new_release, \n",
    "  paste0('temp/mutations.', release, '.all.csv'), sep = ',', quote = F, row.names = F)\n",
    "# Save the ready to upload file to upload to taiga\n",
    "write.table(\n",
    "  damaging_mutation, \n",
    "  paste0('temp/damaging_mutation.', release, '.all.csv'), sep = ',', quote = F)\n",
    "# Save the ready to upload file to upload to taiga\n",
    "write.table(\n",
    "  other_mutation, \n",
    "  paste0('temp/other_mutation.', release, '.all.csv'), sep = ',', quote = F)\n",
    "# Save the ready to upload file to upload to taiga\n",
    "write.table(\n",
    "  hotspot_mutation, \n",
    "  paste0('temp/hotspot_mutation.', release, '.all.csv'), sep = ',', quote = F)"
   ]
  },
  {
   "cell_type": "markdown",
   "metadata": {},
   "source": [
    "# Validation"
   ]
  },
  {
   "cell_type": "code",
   "execution_count": null,
   "metadata": {},
   "outputs": [],
   "source": [
    "newmutations = pd.read_csv('temp/mutations.'+release+'.all.csv')"
   ]
  },
  {
   "cell_type": "code",
   "execution_count": null,
   "metadata": {},
   "outputs": [],
   "source": [
    "mutations_20Q2_all = tc.get(name='depmap-mutations-maf-35fe', version=14, file='mutations.20Q2.all')"
   ]
  },
  {
   "cell_type": "code",
   "execution_count": null,
   "metadata": {},
   "outputs": [],
   "source": [
    "#removing all of the WGS and snp arrays\n",
    "mutations_20Q2_all = mutations_20Q2_all[~mutations_20Q2_all.DepMap_ID.isin(set(mutations_20Q2_all.DepMap_ID) - set(newmutations.Tumor_Sample_Barcode))]"
   ]
  },
  {
   "cell_type": "code",
   "execution_count": null,
   "metadata": {},
   "outputs": [],
   "source": [
    "#Too recent? removed by what means? why?\n",
    "set(newmutations.Tumor_Sample_Barcode) - set(mutations_20Q2_all.DepMap_ID)"
   ]
  },
  {
   "cell_type": "code",
   "execution_count": null,
   "metadata": {},
   "outputs": [],
   "source": [
    "newmutations = newmutations[~newmutations.Tumor_Sample_Barcode.isin(set(newmutations.Tumor_Sample_Barcode) - set(mutations_20Q2_all.DepMap_ID))]"
   ]
  },
  {
   "cell_type": "code",
   "execution_count": null,
   "metadata": {},
   "outputs": [],
   "source": [
    "newmutations = newmutations.sort_values(by=['Tumor_Sample_Barcode','Chromosome','Start_position','End_position'])\n",
    "mutations_20Q2_all = mutations_20Q2_all.sort_values(by=['DepMap_ID','Chromosome','Start_position','End_position'])"
   ]
  },
  {
   "cell_type": "code",
   "execution_count": null,
   "metadata": {},
   "outputs": [],
   "source": [
    "newmutations[['Tumor_Sample_Barcode','Chromosome','Start_position','End_position']] = newmutations[['Tumor_Sample_Barcode','Chromosome','Start_position','End_position']].astype(str)\n",
    "newmutationsset = newmutations['Tumor_Sample_Barcode']+'_'+newmutations['Chromosome']+':'+newmutations['Start_position']+'-'+newmutations['End_position']\n",
    "newmutations['grouped'] = newmutationsset"
   ]
  },
  {
   "cell_type": "code",
   "execution_count": null,
   "metadata": {},
   "outputs": [],
   "source": [
    "len(newmutationsset)"
   ]
  },
  {
   "cell_type": "code",
   "execution_count": null,
   "metadata": {},
   "outputs": [],
   "source": [
    "dups = h.dups(newmutationsset)"
   ]
  },
  {
   "cell_type": "code",
   "execution_count": null,
   "metadata": {},
   "outputs": [],
   "source": [
    "len(dups)"
   ]
  },
  {
   "cell_type": "code",
   "execution_count": null,
   "metadata": {},
   "outputs": [],
   "source": [
    "newmutationsset = set(newmutationsset)"
   ]
  },
  {
   "cell_type": "code",
   "execution_count": null,
   "metadata": {},
   "outputs": [],
   "source": [
    "mutations_20Q2_all[['DepMap_ID','Chromosome','Start_position','End_position']] = mutations_20Q2_all[['DepMap_ID','Chromosome','Start_position','End_position']].astype(str)\n",
    "mutations_20Q2_allset = mutations_20Q2_all['DepMap_ID']+'_'+mutations_20Q2_all['Chromosome']+':'+mutations_20Q2_all['Start_position']+'-'+mutations_20Q2_all['End_position']\n",
    "mutations_20Q2_all['grouped'] = mutations_20Q2_allset"
   ]
  },
  {
   "cell_type": "code",
   "execution_count": null,
   "metadata": {},
   "outputs": [],
   "source": [
    "len(mutations_20Q2_allset)"
   ]
  },
  {
   "cell_type": "code",
   "execution_count": null,
   "metadata": {},
   "outputs": [],
   "source": [
    "len(set(mutations_20Q2_allset))"
   ]
  },
  {
   "cell_type": "code",
   "execution_count": null,
   "metadata": {},
   "outputs": [],
   "source": [
    "dups = h.dups(mutations_20Q2_allset)"
   ]
  },
  {
   "cell_type": "code",
   "execution_count": null,
   "metadata": {},
   "outputs": [],
   "source": [
    "## How come?? the merging did not work well\n",
    "len(dups)"
   ]
  },
  {
   "cell_type": "code",
   "execution_count": null,
   "metadata": {},
   "outputs": [],
   "source": [
    "mutations_20Q2_all[mutations_20Q2_all['grouped']==dups[0]]"
   ]
  },
  {
   "cell_type": "code",
   "execution_count": null,
   "metadata": {},
   "outputs": [],
   "source": [
    "submutations_20Q2_all = mutations_20Q2_all[~mutations_20Q2_all.CGA_WES_AC.isna()]"
   ]
  },
  {
   "cell_type": "code",
   "execution_count": null,
   "metadata": {},
   "outputs": [],
   "source": [
    "len(submutations_20Q2_all) "
   ]
  },
  {
   "cell_type": "code",
   "execution_count": null,
   "metadata": {},
   "outputs": [],
   "source": [
    "submutations_20Q2_allset = submutations_20Q2_all.grouped"
   ]
  },
  {
   "cell_type": "code",
   "execution_count": null,
   "metadata": {},
   "outputs": [],
   "source": [
    "mutations_20Q2_allset = mutations_20Q2_all.grouped"
   ]
  },
  {
   "cell_type": "code",
   "execution_count": null,
   "metadata": {},
   "outputs": [],
   "source": [
    "len(set(submutations_20Q2_allset) & set(newmutationsset))/ len(submutations_20Q2_allset)"
   ]
  },
  {
   "cell_type": "code",
   "execution_count": null,
   "metadata": {},
   "outputs": [],
   "source": [
    "len(set(submutations_20Q2_allset) & set(newmutationsset))/ len(newmutationsset)"
   ]
  },
  {
   "cell_type": "markdown",
   "metadata": {},
   "source": [
    "with everything from all pipelines"
   ]
  },
  {
   "cell_type": "code",
   "execution_count": null,
   "metadata": {},
   "outputs": [],
   "source": [
    "len(set(mutations_20Q2_allset) & set(newmutationsset))/ len(newmutationsset)"
   ]
  },
  {
   "cell_type": "code",
   "execution_count": null,
   "metadata": {},
   "outputs": [],
   "source": [
    "len(set(mutations_20Q2_allset) & set(newmutationsset))/ len(mutations_20Q2_allset)"
   ]
  },
  {
   "cell_type": "code",
   "execution_count": null,
   "metadata": {},
   "outputs": [],
   "source": [
    "submutations_20Q2_all[submutations_20Q2_all.grouped.isin(set(submutations_20Q2_allset) - set(newmutationsset))]"
   ]
  },
  {
   "cell_type": "code",
   "execution_count": null,
   "metadata": {},
   "outputs": [],
   "source": [
    "notfound = submutations_20Q2_all[submutations_20Q2_all.grouped.isin(set(submutations_20Q2_allset) - set(newmutationsset))]"
   ]
  },
  {
   "cell_type": "code",
   "execution_count": null,
   "metadata": {},
   "outputs": [],
   "source": [
    "len(set(notfound.DepMap_ID))"
   ]
  },
  {
   "cell_type": "code",
   "execution_count": null,
   "metadata": {},
   "outputs": [],
   "source": [
    "notfound[~(notfound.SangerRecalibWES_AC.isna() & notfound.SangerWES_AC.isna() & notfound.HC_AC.isna() & notfound.WGS_AC.isna() & notfound.RNAseq_AC.isna() &notfound.RD_AC.isna())]"
   ]
  },
  {
   "cell_type": "markdown",
   "metadata": {},
   "source": [
    "only one third of the notfound mutations were backed by any other analysis, showing an FP rate of 2/3"
   ]
  },
  {
   "cell_type": "code",
   "execution_count": null,
   "metadata": {},
   "outputs": [],
   "source": [
    "len(set(newmutationsset) - set(mutations_20Q2_allset))"
   ]
  },
  {
   "cell_type": "code",
   "execution_count": null,
   "metadata": {},
   "outputs": [],
   "source": [
    "newmutations[newmutations.grouped.isin(set(newmutationsset) - set(mutations_20Q2_allset))]"
   ]
  },
  {
   "cell_type": "code",
   "execution_count": null,
   "metadata": {},
   "outputs": [],
   "source": [
    "len(set(newmutations[newmutations.grouped.isin(set(newmutationsset) - set(mutations_20Q2_allset))].Tumor_Sample_Barcode))"
   ]
  },
  {
   "cell_type": "code",
   "execution_count": null,
   "metadata": {},
   "outputs": [],
   "source": [
    "alternate = np.array(newmutations[newmutations.grouped.isin(set(newmutationsset) - set(mutations_20Q2_allset))]['CGA_WES_AC'].str.split(':').tolist()).astype(int)[:,0]"
   ]
  },
  {
   "cell_type": "code",
   "execution_count": null,
   "metadata": {},
   "outputs": [],
   "source": [
    "alternate.mean()"
   ]
  },
  {
   "cell_type": "code",
   "execution_count": null,
   "metadata": {},
   "outputs": [],
   "source": [
    "alternate.min()"
   ]
  },
  {
   "cell_type": "code",
   "execution_count": null,
   "metadata": {},
   "outputs": [],
   "source": [
    "import seaborn as sns\n",
    "import matplotlib.pyplot as plt"
   ]
  },
  {
   "cell_type": "code",
   "execution_count": null,
   "metadata": {},
   "outputs": [],
   "source": [
    "a,b = np.unique(alternate, return_counts=True)\n",
    "fig, ax = plt.subplots(figsize=(10,10))\n",
    "ax=sns.barplot(x=a[:40],y=b[:40], ci=None, ax=ax)\n",
    "ax.set_yscale('log')"
   ]
  },
  {
   "cell_type": "code",
   "execution_count": null,
   "metadata": {},
   "outputs": [],
   "source": [
    "len(alternate[alternate>2]) / len(alternate) "
   ]
  },
  {
   "cell_type": "code",
   "execution_count": null,
   "metadata": {},
   "outputs": [],
   "source": [
    "len(alternate[alternate>3]) / len(alternate) "
   ]
  },
  {
   "cell_type": "code",
   "execution_count": null,
   "metadata": {},
   "outputs": [],
   "source": []
  },
  {
   "cell_type": "code",
   "execution_count": null,
   "metadata": {},
   "outputs": [],
   "source": [
    "onlyinnew = newmutations[newmutations.grouped.isin(set(newmutationsset) - set(mutations_20Q2_allset))]\n",
    "highconf = onlyinnew[(onlyinnew['CGA_WES_AC'].str.split(':').str[0].values.astype(int)>3) & (onlyinnew['PERC_CGA_WES_AC'].values.astype(float)>0.3)]"
   ]
  },
  {
   "cell_type": "code",
   "execution_count": null,
   "metadata": {},
   "outputs": [],
   "source": [
    "len(highconf)/len(onlyinnew)"
   ]
  },
  {
   "cell_type": "code",
   "execution_count": null,
   "metadata": {},
   "outputs": [],
   "source": [
    "newmutations"
   ]
  },
  {
   "cell_type": "code",
   "execution_count": null,
   "metadata": {},
   "outputs": [],
   "source": [
    "def filterCoverage(maf, loc=['CGA_WES_AC'], sep=':',cov=4):\n",
    "    muts=np.zeroes((len(maf),2))\n",
    "    for val in loc:\n",
    "        muts+= np.array([[v[0],0] if 'NA' in v else v for v in mutations_20Q2_all[val].fillna('0'+sep+'0').astype(str).str.split(sep).tolist()]).astype(int)\n",
    "    return maf[muts[:,1]>=cov]\n",
    "\n",
    "def filterAllelicFraction(maf, loc=['CGA_WES_AC'], sep=':',frac=0.3):\n",
    "    muts=np.zeroes((len(maf),2))\n",
    "    for val in loc:\n",
    "        muts+= np.array([[v[0],0] if 'NA' in v else v for v in mutations_20Q2_all[val].fillna('0'+sep+'0').astype(str).str.split(sep).tolist()]).astype(int)\n",
    "    muts = muts[:,0]/muts[:,1]\n",
    "    return maf[muts>=frac]\n",
    "\n",
    "def mergeAnnotations(newmaf, additionalmaf):\n",
    "    \n",
    "\n",
    "def addAnnotation(maf):\n",
    "    \n",
    "\n",
    "def mafToMat(maf, col, boolify = False, samplesCol = \"DepMap_ID\", mutNameCol=\"Hugo_Symbol\"):\n",
    "    maf = maf.sort_values(by = mutNameCol)\n",
    "    mut = pd.DataFrame(data = np.zeroes((len(set(maf[mutNameCol])), 1)), columns=['fake'], index=set(maf[mutNameCol])).astype(float)\n",
    "    for val in set(maf[samplesCol]):\n",
    "        mut.append(maf[maf[samplesCol]==val], axis=)\n",
    "    return mut.nan_to_num(0).astype(bool if boolify else float).drop(columns=['fake'])\n",
    "    "
   ]
  },
  {
   "cell_type": "code",
   "execution_count": null,
   "metadata": {},
   "outputs": [],
   "source": [
    "filtered_mutations = filterCoverage(mutations)\n",
    "filtered_mutations = filterAllelicFraction(filtered_mutations)\n",
    "\n",
    "merged_mutations = addAnnotation(mutations)\n",
    "\n",
    "mafToMat(filtered_mutations[filtered_mutations.damaging]).to_csv('.csv')\n",
    "mafToMat(filtered_mutations[filtered_mutations.other]).to_csv('.csv')\n",
    "mafToMat(filtered_mutations[filtered_mutations.hotspot]).to_csv('.csv')\n",
    "\n",
    "\n",
    "CCLE2othermutations = \n",
    "\n",
    "mutations = mergeAnnotations(filtered_mutations, CCLE2othermutations)\n",
    "\n",
    "#making \n",
    "for muttype in ['']:\n",
    "    mafToMat(CCLE2othermutations[CCLE2othermutations.damaging & CCLE2othermutations[muttype]]).to_csv(''+muttype+\".csv\")\n",
    "    mafToMat(CCLE2othermutations[CCLE2othermutations.other & CCLE2othermutations[muttype]]).to_csv(''+muttype+\".csv\")\n",
    "    mafToMat(CCLE2othermutations[CCLE2othermutations.hotspot & CCLE2othermutations[muttype]]).to_csv(''+muttype+\".csv\")"
   ]
  },
  {
   "cell_type": "markdown",
   "metadata": {},
   "source": [
    "## DMC"
   ]
  },
  {
   "cell_type": "code",
   "execution_count": null,
   "metadata": {},
   "outputs": [],
   "source": [
    "os.system('cd ../depmap-release-readmes && git pull && mv release-'+releAse+'/dmc-'+releAse+'.txt ../ccle_processing/temp/README && cd -')"
   ]
  },
  {
   "cell_type": "code",
   "execution_count": null,
   "metadata": {},
   "outputs": [],
   "source": [
    "print(len(mutations))\n",
    "mutations = mutations[~mutations.DepMap_ID.isin(wes_embargo)]\n",
    "print(len(mutations))\n",
    "mutations.to_csv('temp/depmap_'+release+'_mutation_calls.all', index=False)\n",
    "print(len(damaging_mutation))\n",
    "damaging_mutation = damaging_mutation[~damaging_mutation.index.isin(wes_embargo)]\n",
    "print(len(damaging_mutation))\n",
    "damaging_mutation.to_csv('temp/damaging_mutation.all')\n",
    "print(len(other_mutation))\n",
    "other_mutation = other_mutation[~other_mutation.index.isin(wes_embargo)]\n",
    "print(len(other_mutation))\n",
    "other_mutation.to_csv('temp/other_mutation.all',)\n",
    "print(len(hotspot_mutation))\n",
    "hotspot_mutation = hotspot_mutation[~hotspot_mutation.index.isin(wes_embargo)]\n",
    "print(len(hotspot_mutation))\n",
    "hotspot_mutation.to_csv('temp/hotspot_mutation.all',)"
   ]
  },
  {
   "cell_type": "code",
   "execution_count": null,
   "metadata": {},
   "outputs": [],
   "source": [
    "prevmut = tc.get(name='depmap-mutation-calls-dfce', version=15, file='depmap_'+prevname+'_mutation_calls')\n",
    "print('shoud be None')\n",
    "print(set(prevmut.DepMap_ID) - set(mutations.DepMap_ID))\n",
    "print(\"new lines\")\n",
    "newlines = set(mutations.DepMap_ID) - set(prevmut.DepMap_ID) \n",
    "newlines"
   ]
  },
  {
   "cell_type": "code",
   "execution_count": null,
   "metadata": {},
   "outputs": [],
   "source": [
    "tc.update_dataset(dataset_permaname=\"depmap-mutation-calls-dfce\",\n",
    "                 upload_file_path_dict={'temp/depmap_'+release+'_mutation_calls.all': 'TableCSV',\n",
    "                                        'temp/damaging_mutation.all': 'NumericMatrixCSV',\n",
    "                                        'temp/other_mutation.all': 'NumericMatrixCSV',\n",
    "                                        'temp/hotspot_mutation.all': 'NumericMatrixCSV',\n",
    "                                       },#'temp/README': 'Raw'},\n",
    "                 dataset_description=\"\"\"\n",
    "# DMC Mutations\n",
    "\n",
    "* Version 1-5 DMC 19Q1*\n",
    "\n",
    "version 5 is a one-off portal thing because dmc wanted to be able to plot if a gene has any mutation as one-hot encoded value in the x/y axes of the data explorer It adds the any_mutation matrix, but does not change the others. Code used to generate:\n",
    "\n",
    "```\n",
    "from taigapy import TaigaClient\n",
    "\n",
    "c = TaigaClient()\n",
    "\n",
    "dmc_19q1_mutation_taiga_root = \"depmap-mutation-calls-dfce.3/\"\n",
    "other_matrix = c.get(dmc_19q1_mutation_taiga_root + \"other_mutation\")\n",
    "damaging_matrix = c.get(dmc_19q1_mutation_taiga_root + \"damaging_mutation\")\n",
    "hotspot_matrix = c.get(dmc_19q1_mutation_taiga_root + \"hotspot_mutation\")\n",
    "\n",
    "df = other_matrix.append(damaging_matrix)\n",
    "df = df.groupby(level=0).sum()\n",
    "\n",
    "df = df.append(hotspot_matrix)\n",
    "df = df.groupby(level=0).sum()\n",
    "\n",
    "df[df > 1] = 1\n",
    "\n",
    "df.to_csv('any_mutation.csv')\n",
    "```\n",
    "The code uses version 3 because the dmc portal was using version 3\n",
    "\n",
    "version 4 updates the column name from VA_WES_AC to CCLE_WES_AC\n",
    "\n",
    "version 3 has an updated definition for hotspot mutations\n",
    "\n",
    "version 2+ contains the correct data for 19Q1\n",
    "\n",
    "* Version 6 DMC 19Q2*\n",
    "\n",
    "* Version 7-8 DMC 19Q3*\n",
    "version 8 fixed entrez ids\n",
    "\n",
    "* Version 9 DMC 19Q4*\n",
    "adding 52 new cell lines.\n",
    "\n",
    "* Version 10 DMC 19Q4*\n",
    "removing unauthorized lines and setting as matrices\n",
    "\n",
    "* Version 11 DMC 19Q4*\n",
    "removing unauthorized lines and setting as matrices\n",
    "\n",
    "* Version 12 Internal 20Q1*\n",
    "uploading 8 new lines\n",
    "\n",
    "* Version 13 Internal 20Q1*\n",
    "removing unauthorized cl\n",
    "\n",
    "* Version 14 Internal 20Q2*\n",
    "uploading 8 new lines and adding .all to express the fact that this data is the aggregate of all different sequencing methods.\n",
    "\n",
    "* Version 15 Internal 20Q2*\n",
    "removing 2 lines\n",
    "\n",
    "* Version 15 Internal 20Q3*\n",
    "nothing different from 20Q2. no new cell lines\n",
    "\n",
    "* Version 15 Internal 20Q3*\n",
    "updating the blacklists\n",
    "\n",
    "\n",
    "MAF file, added column (Variant_annotation) classifying each variant as either silent, damaging, other conserving, or other non-conserving, based on this mapping (old annotation from Variant_Classification column - new annotation):\n",
    "\n",
    "Silent - silent\n",
    "Splice_Site - damaging\n",
    "Missense_Mutation - other non-conserving\n",
    "Nonsense_Mutation - damaging\n",
    "De_novo_Start_OutOfFrame - damaging\n",
    "Nonstop_Mutation - other non-conserving\n",
    "Frame_Shift_Del - damaging\n",
    "Frame_Shift_Ins - damaging\n",
    "In_Frame_Del - other non-conserving\n",
    "In_Frame_Ins - other non-conserving\n",
    "Stop_Codon_Del - other non-conserving\n",
    "Stop_Codon_Ins - other non-conserving\n",
    "Start_Codon_SNP - damaging\n",
    "Start_Codon_Del - damaging\n",
    "Start_Codon_Ins - damaging\n",
    "5'Flank - other conserving\n",
    "Intron - other conserving\n",
    "IGR - other conserving\n",
    "3'UTR - other conserving\n",
    "5'UTR - other conserving\n",
    "Binary matrices:\n",
    "- damaging: if damaging\n",
    "- other: if other conserving or other non-conserving\n",
    "- hotspot: if it is not a silent mutation and is either TCGA or COSMIC hotspot\n",
    "- Rows: cell line, DepMap (arxspan) IDs\n",
    "\n",
    "Columns: Gene, HGNC symbol (Entrez ID)\n",
    "\n",
    "NEW LINES:\n",
    "\"\"\"+newlines)"
   ]
  },
  {
   "cell_type": "code",
   "execution_count": null,
   "metadata": {},
   "outputs": [],
   "source": [
    "# To add to a virtual dataset\n",
    "AddToVirtual(virtual_dmc, 'depmap-mutation-calls-dfce', [('CCLE_mutations', 'depmap_'+release+'_mutation_calls'),])#('README','README')])"
   ]
  },
  {
   "cell_type": "markdown",
   "metadata": {},
   "source": [
    "## Public"
   ]
  },
  {
   "cell_type": "code",
   "execution_count": null,
   "metadata": {},
   "outputs": [],
   "source": [
    "os.system('cd ../depmap-release-readmes && git pull && mv release-'+releAse+'/public-'+releAse+'.txt README && cd -')"
   ]
  },
  {
   "cell_type": "code",
   "execution_count": null,
   "metadata": {},
   "outputs": [],
   "source": [
    "\n",
    "#damaging_mutation\n",
    "mutations=depmap_20Q3_mutation_calls\n",
    "#hotspot_mutation\n",
    "#other_mutation"
   ]
  },
  {
   "cell_type": "code",
   "execution_count": null,
   "metadata": {},
   "outputs": [],
   "source": [
    "print(len(mutations))\n",
    "mutations = mutations[mutations.DepMap_ID.isin(prevprev)]\n",
    "mutations = mutations[~mutations.DepMap_ID.isin(wes_dmc_embargo)]\n",
    "print(len(mutations))\n",
    "mutations.to_csv('temp/depmap_'+release+'_mutation_calls.all', index=False)\n",
    "print(len(damaging_mutation))\n",
    "damaging_mutation = damaging_mutation[damaging_mutation.index.isin(prevprev)]\n",
    "damaging_mutation = damaging_mutation[~damaging_mutation.index.isin(wes_dmc_embargo)]\n",
    "print(len(damaging_mutation))\n",
    "damaging_mutation.to_csv('temp/damaging_mutation.all')\n",
    "print(len(other_mutation))\n",
    "other_mutation = other_mutation[other_mutation.index.isin(prevprev)]\n",
    "other_mutation = other_mutation[~other_mutation.index.isin(wes_dmc_embargo)]\n",
    "print(len(other_mutation))\n",
    "other_mutation.to_csv('temp/other_mutation.all')\n",
    "print(len(hotspot_mutation))\n",
    "hotspot_mutation = hotspot_mutation[hotspot_mutation.index.isin(prevprev)]\n",
    "hotspot_mutation = hotspot_mutation[~hotspot_mutation.index.isin(wes_dmc_embargo)]\n",
    "print(len(hotspot_mutation))\n",
    "hotspot_mutation.to_csv('temp/hotspot_mutation.all')"
   ]
  },
  {
   "cell_type": "code",
   "execution_count": null,
   "metadata": {},
   "outputs": [],
   "source": [
    "prevmut = tc.get(name='depmap-mutation-calls-9a1a', version=18, file='depmap_'+prevname+'_mutation_calls')\n",
    "print('shoud be None')\n",
    "ermgency_removed = set(prevmut.DepMap_ID) - set(mutations.DepMap_ID)\n",
    "print(ermgency_removed) \n",
    "print(\"new lines\")\n",
    "newlines = set(mutations.DepMap_ID) - set(prevmut.DepMap_ID) \n",
    "newlines"
   ]
  },
  {
   "cell_type": "code",
   "execution_count": null,
   "metadata": {},
   "outputs": [],
   "source": [
    "description=\"\"\"\n",
    "# Public Mutations\n",
    "\n",
    "Mutation calls for Public DepMap data\n",
    "\n",
    "* Version 1 Public 18Q1*\n",
    "\n",
    "original source: CCLE data portal\n",
    "* Version 2 Public 18Q2*\n",
    "\n",
    "merged mutations and indels file (1,549 cell lines total, including data for 63 newly released cell lines)\n",
    "original source: `/xchip/ccle_dist/public/DepMap_18Q2/CCLE_DepMap_18Q2_maf_20180502.txt`\n",
    "* Version 3-4 Public 18Q3*\n",
    "\n",
    "version 3 deprecated\n",
    "\n",
    "original source: `/xchip/ccle_dist/public/DepMap_18Q3/CCLE_DepMap_18q3_maf_20180718.txt`\n",
    "\n",
    "Binary matrices:\n",
    "damaging: if isDeleterious is true\n",
    "missense: if isDeleterious is false\n",
    "hotspot: if missense and either TCGA or COSMIC hotspot\n",
    "Rows: cell line, Broad (arxspan) IDs\n",
    "\n",
    "Columns: Gene, HGNC symbol (Entrez ID)\n",
    "\n",
    "MAF file\n",
    "\n",
    "* Version 5 Public 18Q4*\n",
    "\n",
    "original source: `/xchip/ccle_dist/public/DepMap_18Q4/CCLE_DepMap_18q4_maf_20181029.txt`\n",
    "\n",
    "* Version 6-9 Public 19Q1*\n",
    "\n",
    "version 9 updates the column name from VA_WES_AC to CCLE_WES_AC\n",
    "\n",
    "version 8 uses an updated definition for hotspot mutations\n",
    "\n",
    "version 9 contains the correct data for 19Q1\n",
    "\n",
    "* Version 10 Public 19Q2*\n",
    "\n",
    "* Version 11-12 Public 19Q3*\n",
    "\n",
    "version 12 fixed entrez ids\n",
    "\n",
    "* Version 13 Public 19Q4*\n",
    "\n",
    "adding 52 new cell lines\n",
    "\n",
    "* Version 14 Public 19Q4*\n",
    "removing unauthorized lines and setting matrices\n",
    "\n",
    "* Version 15 Public 20Q1*\n",
    "adding 8 new lines \n",
    "\n",
    "* Version 16 Public 20Q1*\n",
    "removing an unauthorized line\n",
    "\n",
    "* Version 17 Internal 20Q2*\n",
    "uploading 8 new lines and adding .all to express the fact that this data is the aggregate of all different sequencing methods.\n",
    "\n",
    "* Version 18 Internal 20Q2*\n",
    "removing 2 lines\n",
    "\n",
    "* Version 19 Internal 20Q3*\n",
    "nothing different from 20Q2. no new cell lines\n",
    "\n",
    "* Version 20 Internal 20Q3*\n",
    "updating the blacklists\n",
    "\n",
    "* Version 21 Internal 20Q3*\n",
    "updating the dmc\n",
    "\n",
    "* Version 22 Internal 20Q3*\n",
    "readding two already released samples to the public list\n",
    "\n",
    "MAF file, added column (Variant_annotation) classifying each variant as either silent, damaging, other conserving, or other non-conserving, based on this mapping (old annotation from Variant_Classification column - new annotation):\n",
    "\n",
    "Silent - silent\n",
    "Splice_Site - damaging\n",
    "Missense_Mutation - other non-conserving\n",
    "Nonsense_Mutation - damaging\n",
    "De_novo_Start_OutOfFrame - damaging\n",
    "Nonstop_Mutation - other non-conserving\n",
    "Frame_Shift_Del - damaging\n",
    "Frame_Shift_Ins - damaging\n",
    "In_Frame_Del - other non-conserving\n",
    "In_Frame_Ins - other non-conserving\n",
    "Stop_Codon_Del - other non-conserving\n",
    "Stop_Codon_Ins - other non-conserving\n",
    "Start_Codon_SNP - damaging\n",
    "Start_Codon_Del - damaging\n",
    "Start_Codon_Ins - damaging\n",
    "5'Flank - other conserving\n",
    "Intron - other conserving\n",
    "IGR - other conserving\n",
    "3'UTR - other conserving\n",
    "5'UTR - other conserving\n",
    "Binary matrices:\n",
    "\n",
    "- damaging: if damaging\n",
    "- other: if other conserving or other non-conserving\n",
    "- hotspot: if it is not a silent mutation and is either TCGA or COSMIC hotspot\n",
    "- Rows: cell line, DepMap (arxspan) IDs\n",
    "\n",
    "Columns: Gene, HGNC symbol (Entrez ID)\n",
    "\n",
    "NEW LINES:\n",
    "\"\"\"+str(newlines)\n",
    "\n",
    "if len(ermgency_removed):\n",
    "    description+=\"\"\"\n",
    "    \n",
    "    !! WE REMOVED!!:\n",
    "    \"\"\"+str(ermgency_removed)\n",
    "\n",
    "tc.update_dataset(dataset_permaname=\"depmap-mutation-calls-9a1a\",\n",
    "                 upload_file_path_dict={'temp/depmap_'+release+'_mutation_calls.all': 'TableCSV',\n",
    "                                        'temp/damaging_mutation.all': 'NumericMatrixCSV',\n",
    "                                        'temp/other_mutation.all': 'NumericMatrixCSV',\n",
    "                                        'temp/hotspot_mutation.all': 'NumericMatrixCSV',\n",
    "                                       },#'temp/README': 'Raw'},\n",
    "                 dataset_description=description)"
   ]
  },
  {
   "cell_type": "code",
   "execution_count": null,
   "metadata": {},
   "outputs": [],
   "source": [
    "# To add to a virtual dataset\n",
    "AddToVirtual(virtual_public, 'depmap-mutation-calls-9a1a', [('CCLE_mutations', 'depmap_'+release+'_mutation_calls'),])#('README','README')])"
   ]
  },
  {
   "cell_type": "code",
   "execution_count": null,
   "metadata": {},
   "outputs": [],
   "source": []
  }
 ],
 "metadata": {
  "kernelspec": {
   "display_name": "Python 3",
   "language": "python",
   "name": "python3"
  },
  "language_info": {
   "codemirror_mode": {
    "name": "ipython",
    "version": 3
   },
   "file_extension": ".py",
   "mimetype": "text/x-python",
   "name": "python",
   "nbconvert_exporter": "python",
   "pygments_lexer": "ipython3",
   "version": "3.7.3"
  },
  "latex_envs": {
   "LaTeX_envs_menu_present": true,
   "autoclose": false,
   "autocomplete": true,
   "bibliofile": "biblio.bib",
   "cite_by": "apalike",
   "current_citInitial": 1,
   "eqLabelWithNumbers": true,
   "eqNumInitial": 1,
   "hotkeys": {
    "equation": "Ctrl-E",
    "itemize": "Ctrl-I"
   },
   "labels_anchors": false,
   "latex_user_defs": false,
   "report_style_numbering": false,
   "user_envs_cfg": false
  },
  "notify_time": "5",
  "toc": {
   "base_numbering": 1,
   "nav_menu": {
    "height": "277px",
    "width": "375px"
   },
   "number_sections": true,
   "sideBar": true,
   "skip_h1_title": false,
   "title_cell": "Table of Contents",
   "title_sidebar": "Contents",
   "toc_cell": false,
   "toc_position": {
    "height": "calc(100% - 180px)",
    "left": "10px",
    "top": "150px",
    "width": "198.8px"
   },
   "toc_section_display": true,
   "toc_window_display": true
  },
  "varInspector": {
   "cols": {
    "lenName": 16,
    "lenType": 16,
    "lenVar": 40
   },
   "kernels_config": {
    "python": {
     "delete_cmd_postfix": "",
     "delete_cmd_prefix": "del ",
     "library": "var_list.py",
     "varRefreshCmd": "print(var_dic_list())"
    },
    "r": {
     "delete_cmd_postfix": ") ",
     "delete_cmd_prefix": "rm(",
     "library": "var_list.r",
     "varRefreshCmd": "cat(var_dic_list()) "
    }
   },
   "position": {
    "height": "617.8px",
    "left": "1232.4px",
    "right": "20px",
    "top": "120px",
    "width": "262.8px"
   },
   "types_to_exclude": [
    "module",
    "function",
    "builtin_function_or_method",
    "instance",
    "_Feature"
   ],
   "window_display": true
  }
 },
 "nbformat": 4,
 "nbformat_minor": 2
}
