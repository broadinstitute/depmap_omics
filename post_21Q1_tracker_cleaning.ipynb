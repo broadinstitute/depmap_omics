{
 "cells": [
  {
   "cell_type": "code",
   "execution_count": null,
   "metadata": {},
   "outputs": [],
   "source": [
    "from __future__ import print_function\n",
    "\n",
    "import pandas as pd\n",
    "import numpy as np\n",
    "\n",
    "from src import tracker\n",
    "from genepy import terra\n",
    "from genepy.utils import helper as h\n",
    "from genepy.google import gcp\n",
    "from genepy import sequencing as seq\n",
    "from gsheets import Sheets\n",
    "from taigapy import TaigaClient\n",
    "import dalmatian as dm\n",
    "from genepy.google.google_sheet import dfToSheet\n",
    "\n",
    "from IPython.display import Image,display\n",
    "from bokeh.plotting import *\n",
    "\n",
    "%load_ext autoreload\n",
    "%autoreload 2\n",
    "%load_ext rpy2.ipython\n",
    "tc = TaigaClient()\n",
    "output_notebook()\n",
    "\n",
    "my_id = '~/.client_secret.json'\n",
    "mystorage_id = \"~/.storage.json\"\n",
    "# do the first steps of https://medium.com/craftsmenltd/from-csv-to-google-sheet-using-python-ef097cb014f9\n",
    "creds = '../.credentials.json'\n",
    "\n",
    "sheets = Sheets.from_files(my_id, mystorage_id)\n",
    "replace = {'T': 'Tumor', 'N': 'Normal', 'm': 'Unknown', 'L': 'Unknown'}"
   ]
  },
  {
   "cell_type": "markdown",
   "metadata": {},
   "source": [
    "## boot up\n",
    "\n",
    "we are instanciating all the parameters needed for this pipeline to run"
   ]
  },
  {
   "cell_type": "code",
   "execution_count": null,
   "metadata": {},
   "outputs": [],
   "source": [
    "samplesetname = \"21Q1\"\n",
    "\n",
    "workspace1=\"terra-broad-cancer-prod/DepMap_WGS\"\n",
    "workspace2=\"terra-broad-cancer-prod/Getz_IBM_CellLines_WGS\"\n",
    "\n",
    "refworkspace=\"broad-firecloud-ccle/DepMap_WGS_CN\"\n",
    "cgaworkspace=\"broad-firecloud-ccle/DepMap_Mutation_Calling_CGA_pipeline-wgs\"\n",
    "\n",
    "source1=\"ccle\"\n",
    "source2=\"ibm\"\n",
    "\n",
    "refsheet_url = \"https://docs.google.com/spreadsheets/d/1Pgb5fIClGnErEqzxpU7qqX6ULpGTDjvzWwDN8XUJKIY\"\n",
    "sheeturl = \"https://docs.google.com/spreadsheets/d/115TUgA1t_mD32SnWAGpW9OKmJ2W5WYAOs3SuSdedpX4\"\n",
    "potential_list_url = \"https://docs.google.com/spreadsheets/d/1BEgH03V4OmGhYeciLCZV00h6hp3WkO0basahS93akCE\"\n",
    "\n",
    "depmap_pv = \"https://docs.google.com/spreadsheets/d/1uqCOos-T9EMQU7y2ZUw4Nm84opU5fIT1y7jet1vnScE\"\n",
    "\n",
    "release = samplesetname\n",
    "\n",
    "WGSmethods = [\n",
    "    \"gatk/PreProcessingForVariantDiscovery_GATK4/8\",\n",
    "    \"GP-TAG/Manta_SomaticSV/9\",\n",
    "    \"gkugener/ArrayOfFilesToTxt/1\",\n",
    "    \"vdauwera/BamToUnmappedRGBams/4\",\n",
    "    \"gatk/CNV_Somatic_Pair_Workflow/9\",\n",
    "    \"gkugener/Aggregate_CN_seg_files/2\"\n",
    "]\n",
    "\n",
    "maxage='2020-09-10'\n",
    "\n",
    "# version 102\n",
    "ensemblserver = \"http://nov2020.archive.ensembl.org/biomart\" "
   ]
  },
  {
   "cell_type": "code",
   "execution_count": null,
   "metadata": {},
   "outputs": [],
   "source": [
    "wm1 = dm.WorkspaceManager(workspace1)\n",
    "wm2 = dm.WorkspaceManager(workspace2)\n",
    "\n",
    "refwm = dm.WorkspaceManager(refworkspace).disable_hound()\n",
    "cgawm = dm.WorkspaceManager(cgaworkspace).disable_hound()"
   ]
  },
  {
   "cell_type": "code",
   "execution_count": null,
   "metadata": {},
   "outputs": [],
   "source": [
    "extract_to_change = {'from_arxspan_id': 'participant'}\n",
    "potential_list = sheets.get(potential_list_url).sheets[0].to_frame().values.T[0].tolist()\n",
    "ccle_refsamples = sheets.get(refsheet_url).sheets[0].to_frame(index_col=0)\n",
    "#ccle_refsamples=pd.read_csv('temp/updated_ref_samples.csv',index_col=0)\n",
    "\n",
    "depmap_pv = sheets.get(depmap_pv).sheets[0].to_frame(header=2)\n",
    "depmap_pv = depmap_pv.drop(depmap_pv.iloc[:1].index).set_index('DepMap_ID', drop=True)[['Culture Type', 'Culture Medium']]\n",
    "depmap_master = tc.get(name='arxspan-cell-line-export-f808', file='ACH').set_index('arxspan_id',drop=True)\n",
    "depmap_master = depmap_master.join(depmap_pv)"
   ]
  },
  {
   "cell_type": "code",
   "execution_count": null,
   "metadata": {},
   "outputs": [],
   "source": [
    "ccle_refsamples = sheets.get(refsheet_url).sheets[0].to_frame(index_col=0)\n"
   ]
  },
  {
   "cell_type": "code",
   "execution_count": null,
   "metadata": {},
   "outputs": [],
   "source": [
    "wm = dm.WorkspaceManager(\"broad-firecloud-ccle/DepMap_hg38_RNAseq\")\n",
    "a=ccle_refsamples.loc[[\"CDS-G0F5f5\", \"CDS-kU30H5\", \"CDS-fk564T\"], [\"stripped_cell_name\", \"participant_id\", \"cellosaurus_id\", \"internal_bam_filepath\", \"internal_bai_filepath\", \"legacy_bam_filepath\", \"legacy_bai_filepath\", \"parent_cell_line\", \"sex\", \"matched_normal\", \"age\", \"primary_site\", \"primary_disease\", \"subtype\", \"subsubtype\", \"origin\", \"mediatype\", \"condition\", \"baits\", \"source\", \"sequencing_date\", 'size', 'crc32c_hash', 'md5_hash', 'legacy_size', \"legacy_crc32c_hash\"]]\n",
    "a.index.name=\"sample_id\"\n",
    "a = a.rename(columns={'patient_id': 'participant_id'})\n",
    "wm.upload_samples(a)"
   ]
  },
  {
   "cell_type": "code",
   "execution_count": null,
   "metadata": {},
   "outputs": [],
   "source": [
    "wm.update_sample_set('toremap', a.index.tolist())"
   ]
  },
  {
   "cell_type": "code",
   "execution_count": null,
   "metadata": {},
   "outputs": [],
   "source": [
    "wm.create_submission('star_v1-0_BETA_cfg', \"toremap\", \"sample_set\", \"this.samples\")"
   ]
  },
  {
   "cell_type": "code",
   "execution_count": null,
   "metadata": {},
   "outputs": [],
   "source": [
    "sam= wm.get_samples()"
   ]
  },
  {
   "cell_type": "code",
   "execution_count": null,
   "metadata": {},
   "outputs": [],
   "source": [
    "sam.loc[[\"CDS-G0F5f5\", \"CDS-kU30H5\", \"CDS-fk564T\"], ['star_bam_file', 'star_bam_index']]"
   ]
  },
  {
   "cell_type": "code",
   "execution_count": null,
   "metadata": {},
   "outputs": [],
   "source": [
    "a=terra.changeToBucket(sam.loc[[\"CDS-G0F5f5\", \"CDS-kU30H5\", \"CDS-fk564T\"], ['star_bam_file', 'star_bam_index']],'gs://cclebams/rnasq_hg38/', name_col= \"index\" , values=['star_bam_file','star_bam_index'], filetypes=['bam', 'bai'], catchdup=True, test=False)"
   ]
  },
  {
   "cell_type": "code",
   "execution_count": null,
   "metadata": {},
   "outputs": [],
   "source": [
    "ccle_refsamples.loc[[\"CDS-G0F5f5\", \"CDS-kU30H5\", \"CDS-fk564T\"], ['internal_bam_filepath', 'internal_bai_filepath']]"
   ]
  },
  {
   "cell_type": "code",
   "execution_count": null,
   "metadata": {},
   "outputs": [],
   "source": [
    "dfToSheet(ccle_refsamples,'ccle sample tracker', secret=creds)"
   ]
  },
  {
   "cell_type": "markdown",
   "metadata": {},
   "source": [
    "## PART 2"
   ]
  },
  {
   "cell_type": "code",
   "execution_count": null,
   "metadata": {},
   "outputs": [],
   "source": [
    "a = ! gsutil ls gs://cclebams/rnasq_hg38/"
   ]
  },
  {
   "cell_type": "code",
   "execution_count": null,
   "metadata": {},
   "outputs": [],
   "source": [
    "set(ccle_refsamples[ccle_refsamples.datatype.isin(['rna'])].index) - set([\"CDS\"+i.split('/CDS')[-1].split('.Ali')[0] for i in a])"
   ]
  },
  {
   "cell_type": "code",
   "execution_count": null,
   "metadata": {},
   "outputs": [],
   "source": [
    "l"
   ]
  },
  {
   "cell_type": "code",
   "execution_count": null,
   "metadata": {},
   "outputs": [],
   "source": [
    "i  = ! gsutil ls gs://cclebams/**"
   ]
  },
  {
   "cell_type": "code",
   "execution_count": null,
   "metadata": {},
   "outputs": [],
   "source": [
    "b = [a for a in i if a.endswith('.bam')]"
   ]
  },
  {
   "cell_type": "code",
   "execution_count": null,
   "metadata": {},
   "outputs": [],
   "source": [
    "len(b)"
   ]
  },
  {
   "cell_type": "code",
   "execution_count": null,
   "metadata": {},
   "outputs": [],
   "source": [
    "bi = [a for a in i if a.endswith('.bam') and a[:-4]+\".bai\" not in i and a+\".bai\" not in i]"
   ]
  },
  {
   "cell_type": "code",
   "execution_count": null,
   "metadata": {},
   "outputs": [],
   "source": [
    "len(bi)"
   ]
  },
  {
   "cell_type": "code",
   "execution_count": null,
   "metadata": {},
   "outputs": [],
   "source": [
    "! gsutil ls gs://cclebams/wes/Getz_IBM_DMX_CellLines_12samples_deepcov_01302018/RP-1561/Exome/RVH421SKINFV1/v1/RVH421SKINFV1.bam"
   ]
  },
  {
   "cell_type": "code",
   "execution_count": null,
   "metadata": {},
   "outputs": [],
   "source": [
    "u = set(ccle_refsamples[ccle_refsamples.datatype==\"wes\"].legacy_bam_filepath)- set([a for a in i if a.endswith('.bam')])"
   ]
  },
  {
   "cell_type": "code",
   "execution_count": null,
   "metadata": {},
   "outputs": [],
   "source": [
    "sizes = [gcp.extractSize(a) for a in gcp.lsFiles(set([a for a in i if a.endswith('.bam')]) - set(ccle_refsamples[ccle_refsamples.datatype==\"wes\"].legacy_bam_filepath), \"-l\")]"
   ]
  },
  {
   "cell_type": "code",
   "execution_count": null,
   "metadata": {},
   "outputs": [],
   "source": [
    "sizes"
   ]
  },
  {
   "cell_type": "code",
   "execution_count": null,
   "metadata": {},
   "outputs": [],
   "source": [
    "torm = []\n",
    "tofind = []\n",
    "for val in sizes:\n",
    "    a = ccle_refsamples[ccle_refsamples.legacy_size==val[1]]\n",
    "    if len(a)>0:\n",
    "        torm.append(val[0])\n",
    "        continue\n",
    "    a = ccle_refsamples[ccle_refsamples['size']==val[1]]\n",
    "    if len(a)>0:\n",
    "        torm.append(val[0])\n",
    "        continue\n",
    "    tofind.append(val[0])"
   ]
  },
  {
   "cell_type": "code",
   "execution_count": null,
   "metadata": {},
   "outputs": [],
   "source": [
    "! gsutil ls -l gs://cclebams/wes/RP-1500/Exome/ESO51_1/current/ESO51_1.bam"
   ]
  },
  {
   "cell_type": "code",
   "execution_count": null,
   "metadata": {},
   "outputs": [],
   "source": [
    "! gsutil ls -l gs://cclebams/wes/CDS-CmkOx5.bam"
   ]
  },
  {
   "cell_type": "code",
   "execution_count": null,
   "metadata": {},
   "outputs": [],
   "source": [
    "! gsutil ls -l gs://cclebams/wes/Getz_IBM_CellLine_WES_April2019/RP-1561/Exome/BPH1/v1/BPH1.bam"
   ]
  },
  {
   "cell_type": "markdown",
   "metadata": {},
   "source": [
    "## PART 3"
   ]
  },
  {
   "cell_type": "code",
   "execution_count": null,
   "metadata": {},
   "outputs": [],
   "source": [
    "## missing legacy for rna/wes\n",
    "ccle_refsamples[ccle_refsamples.datatype.isin(['rna','wes'])& ccle_refsamples.legacy_bam_filepath.isna()]"
   ]
  },
  {
   "cell_type": "code",
   "execution_count": null,
   "metadata": {},
   "outputs": [],
   "source": [
    "ccle_refsamples[ccle_refsamples.datatype.isin(['rna','wes'])& ccle_refsamples.legacy_bai_filepath.isna()]"
   ]
  },
  {
   "cell_type": "code",
   "execution_count": null,
   "metadata": {},
   "outputs": [],
   "source": [
    "## wrong filepath legacy for rna/wes\n",
    "miss_rwbi = gcp.exists(ccle_refsamples[ccle_refsamples.datatype.isin(['rna','wes'])].legacy_bai_filepath.tolist())"
   ]
  },
  {
   "cell_type": "code",
   "execution_count": null,
   "metadata": {},
   "outputs": [],
   "source": [
    "miss_rw = gcp.exists(ccle_refsamples[ccle_refsamples.datatype.isin(['rna','wes'])].legacy_bam_filepath.tolist())"
   ]
  },
  {
   "cell_type": "code",
   "execution_count": null,
   "metadata": {},
   "outputs": [],
   "source": [
    "## which ones can we get from remapping\n",
    "remapable = ccle_refsamples[ccle_refsamples.legacy_bam_filepath.isin(miss_rw[1]) & ~ccle_refsamples.internal_bam_filepath.isna()]\n",
    "len(remapable)"
   ]
  },
  {
   "cell_type": "code",
   "execution_count": null,
   "metadata": {},
   "outputs": [],
   "source": [
    "remapable[remapable.datatype=='wes']"
   ]
  },
  {
   "cell_type": "code",
   "execution_count": null,
   "metadata": {},
   "outputs": [],
   "source": [
    "## remapping\n",
    "weswm = dm.WorkspaceManager(\"broad-firecloud-ccle/DepMap_WES_CN_hg38\")\n",
    "\n",
    "#weswm.update_sample_set(\"toremap\", remapable.index.tolist())"
   ]
  },
  {
   "cell_type": "code",
   "execution_count": null,
   "metadata": {},
   "outputs": [],
   "source": [
    "a = weswm.create_submission('BamToUnmappedRGBams_MC', \"toremap\", \"sample_set\", \"this.samples\")"
   ]
  },
  {
   "cell_type": "code",
   "execution_count": null,
   "metadata": {},
   "outputs": [],
   "source": [
    "a = weswm.create_submission('Generate_uBAM_File_List', \"toremap\", \"sample_set\", \"this.samples\")"
   ]
  },
  {
   "cell_type": "code",
   "execution_count": null,
   "metadata": {},
   "outputs": [],
   "source": [
    "a = weswm.create_submission('Realign_WES_GATK4_hg19', \"toremap\", \"sample_set\", \"this.samples\")"
   ]
  },
  {
   "cell_type": "code",
   "execution_count": null,
   "metadata": {},
   "outputs": [],
   "source": [
    "## the ones we can't\n",
    "nonremapable = ccle_refsamples[ccle_refsamples.legacy_bam_filepath.isin(miss_rw[1]) & ccle_refsamples.internal_bam_filepath.isna()]\n",
    "nonremapable"
   ]
  },
  {
   "cell_type": "code",
   "execution_count": null,
   "metadata": {},
   "outputs": [],
   "source": [
    "## indexing\n",
    "a, missrwbi = gcp.exists(ccle_refsamples[~ccle_refsamples.legacy_bai_filepath.isna()].legacy_bai_filepath.tolist())"
   ]
  },
  {
   "cell_type": "code",
   "execution_count": null,
   "metadata": {},
   "outputs": [],
   "source": [
    "a, missrw = gcp.exists(ccle_refsamples[~ccle_refsamples.legacy_bam_filepath.isna()].legacy_bam_filepath.tolist())"
   ]
  },
  {
   "cell_type": "code",
   "execution_count": null,
   "metadata": {},
   "outputs": [],
   "source": [
    "missrwbirwbi"
   ]
  },
  {
   "cell_type": "code",
   "execution_count": null,
   "metadata": {},
   "outputs": [],
   "source": [
    "bais = await seq.indexBams(bams=ccle_refsamples[(~ccle_refsamples.legacy_bai_filepath.isna()) |(ccle_refsamples.legacy_bai_filepath.isin(missrwbi))].legacy_bam_filepath, cores=12)"
   ]
  },
  {
   "cell_type": "code",
   "execution_count": null,
   "metadata": {},
   "outputs": [],
   "source": [
    "bais = ! gsutil ls gs://cclebams/**.bai"
   ]
  },
  {
   "cell_type": "code",
   "execution_count": null,
   "metadata": {},
   "outputs": [],
   "source": [
    "ccle_refsamples.loc[ccle_refsamples[((~ccle_refsamples.legacy_bam_filepath.isna()) &(ccle_refsamples.legacy_bai_filepath.isna())) |(ccle_refsamples.legacy_bai_filepath.isin(missrwbi))].index, 'legacy_bai_filepath'] = [i[:-4]+\".bai\" if i[:-4]+\".bai\" in bais else None for i in ccle_refsamples[((~ccle_refsamples.legacy_bam_filepath.isna()) &(ccle_refsamples.legacy_bai_filepath.isna())) |(ccle_refsamples.legacy_bai_filepath.isin(missrwbi))].legacy_bam_filepath]"
   ]
  },
  {
   "cell_type": "code",
   "execution_count": null,
   "metadata": {},
   "outputs": [],
   "source": [
    "gcp.rmFiles(set(bais) - (set(ccle_refsamples.internal_bai_filepath) | set(ccle_refsamples.legacy_bai_filepath)), dryrun=False)"
   ]
  },
  {
   "cell_type": "code",
   "execution_count": null,
   "metadata": {},
   "outputs": [],
   "source": [
    "len(set(ccle_refsamples.internal_bai_filepath) | set(ccle_refsamples.legacy_bai_filepath))"
   ]
  },
  {
   "cell_type": "code",
   "execution_count": null,
   "metadata": {},
   "outputs": [],
   "source": [
    "ccle_refsamples[((~ccle_refsamples.legacy_bam_filepath.isna()) &(ccle_refsamples.legacy_bai_filepath.isna())) |(ccle_refsamples.legacy_bai_filepath.isin(missrwbi))].legacy_bam_filepath"
   ]
  },
  {
   "cell_type": "code",
   "execution_count": null,
   "metadata": {},
   "outputs": [],
   "source": [
    "a = await seq.indexBams(ccle_refsamples[((~ccle_refsamples.legacy_bam_filepath.isna()) &(ccle_refsamples.legacy_bai_filepath.isna())) |(ccle_refsamples.legacy_bai_filepath.isin(missrwbi))].legacy_bam_filepath, cores=8)"
   ]
  },
  {
   "cell_type": "code",
   "execution_count": null,
   "metadata": {},
   "outputs": [],
   "source": [
    "ccle_refsamples[((~ccle_refsamples.legacy_bam_filepath.isna()) &(ccle_refsamples.legacy_bai_filepath.isna())) |(ccle_refsamples.legacy_bai_filepath.isin(missrwbi))].legacy_bam_filepath"
   ]
  },
  {
   "cell_type": "code",
   "execution_count": null,
   "metadata": {},
   "outputs": [],
   "source": [
    "## recompute size/ hashes for rna/wes legacy\n",
    "ccle_refsamples.loc[ccle_refsamples[~ccle_refsamples.legacy_bam_filepath.isna() & ~ccle_refsamples.legacy_bam_filepath.isin(a[1])].index, \"legacy_crc32c_hash\"] = [gcp.extractHash(i) for i in gcp.lsFiles(ccle_refsamples[~ccle_refsamples.legacy_bam_filepath.isna() & ~ccle_refsamples.legacy_bam_filepath.isin(a[1])].legacy_bam_filepath, \"-L\")]\n",
    "ccle_refsamples.loc[ccle_refsamples[~ccle_refsamples.legacy_bam_filepath.isna() & ~ccle_refsamples.legacy_bam_filepath.isin(a[1])].index, \"legacy_size\"] = [gcp.extractSize(i)[1] for i in gcp.lsFiles(ccle_refsamples[~ccle_refsamples.legacy_bam_filepath.isna() & ~ccle_refsamples.legacy_bam_filepath.isin(a[1])].legacy_bam_filepath, \"-l\")]"
   ]
  },
  {
   "cell_type": "code",
   "execution_count": null,
   "metadata": {},
   "outputs": [],
   "source": [
    "## missing bam filepath \n",
    "missing = ccle_refsamples[ccle_refsamples.internal_bam_filepath.isna()]\n",
    "missing"
   ]
  },
  {
   "cell_type": "code",
   "execution_count": null,
   "metadata": {},
   "outputs": [],
   "source": [
    "## missing bai filepath\n",
    "missing = ccle_refsamples[ccle_refsamples.internal_bai_filepath.isna()]\n",
    "missing"
   ]
  },
  {
   "cell_type": "code",
   "execution_count": null,
   "metadata": {},
   "outputs": [],
   "source": [
    "## wrong bam filepath\n",
    "wrongfilepath = gcp.exists(ccle_refsamples[~ccle_refsamples.internal_bam_filepath.isna()].internal_bam_filepath.tolist())"
   ]
  },
  {
   "cell_type": "code",
   "execution_count": null,
   "metadata": {},
   "outputs": [],
   "source": [
    "wrongfilepath"
   ]
  },
  {
   "cell_type": "code",
   "execution_count": null,
   "metadata": {},
   "outputs": [],
   "source": [
    "## recompute size/hashes for bam filepath\n",
    "ccle_refsamples.loc[ccle_refsamples[~ccle_refsamples.internal_bam_filepath.isna()].index, \"crc32c_hash\"] = [gcp.extractHash(i) for i in gcp.lsFiles(ccle_refsamples[~ccle_refsamples.internal_bam_filepath.isna()].internal_bam_filepath, \"-L\")]\n",
    "ccle_refsamples.loc[ccle_refsamples[~ccle_refsamples.internal_bam_filepath.isna()].index, \"size\"] = [gcp.extractSize(i)[1] for i in gcp.lsFiles(ccle_refsamples[~ccle_refsamples.internal_bam_filepath.isna()].internal_bam_filepath, \"-l\")]\n",
    "ccle_refsamples.loc[ccle_refsamples[~ccle_refsamples.internal_bam_filepath.isna()].index, \"md5_hash\"] = [gcp.extractHash(i, \"md5\") for i in gcp.lsFiles(ccle_refsamples[~ccle_refsamples.internal_bam_filepath.isna()].internal_bam_filepath, \"-L\")]"
   ]
  },
  {
   "cell_type": "code",
   "execution_count": null,
   "metadata": {},
   "outputs": [],
   "source": [
    "## duplicate size accross legacy/internal \n",
    "h.dups(ccle_refsamples['legacy_size'].tolist())"
   ]
  },
  {
   "cell_type": "code",
   "execution_count": null,
   "metadata": {},
   "outputs": [],
   "source": [
    "ccle_refsamples[ccle_refsamples['size'].isin([10555223974.0, 5176380746.0, 6707901359.0, 4634241136.0, 8984432599.0])].internal_bam_filepath"
   ]
  },
  {
   "cell_type": "code",
   "execution_count": null,
   "metadata": {},
   "outputs": [],
   "source": [
    "remove = ['CDS-T5BcdG','CDS-gJupgp',\"CDS-phR2eo\",\"CDS-GuKG2u\", \"CDS-gLz8Kz\",        \"CDS-NUlX3d\",\"CDS-b5ElTm\",\"CDS-ljFuDX\", \"CDS-VS9XDY\", \"CDS-bb2V33\", \"CDS-lIXOWR\",\"CDS-k9Qfva\",\"CDS-9TDRpv\",\"CDS-pBashm\",\"CDS-6i6dRP\",\"CDS-yu1s5X\",\"CDS-g2J7MD\",\"CDS-oRM8DN\",\"CDS-2jBQ8n\",\"CDS-c51IFr\",\"CDS-59uKc2\",\"CDS-363TYH\",\"CDS-IQuj9W\",\"CDS-R22IHj\",\"CDS-up4Vo5\",\"CDS-jSUD4f\",\"CDS-RLVrVE\",\"CDS-5x4qLj\",\"CDS-6YFjST\",\"CDS-2HO10g\",\"CDS-vrqu12\",\"CDS-pIy1EQ\"]"
   ]
  },
  {
   "cell_type": "code",
   "execution_count": null,
   "metadata": {},
   "outputs": [],
   "source": [
    "ccle_refsamples = ccle_refsamples[~ccle_refsamples.index.isin(['CDS-BNyMCM'])]"
   ]
  },
  {
   "cell_type": "code",
   "execution_count": null,
   "metadata": {},
   "outputs": [],
   "source": [
    ","
   ]
  },
  {
   "cell_type": "code",
   "execution_count": null,
   "metadata": {},
   "outputs": [],
   "source": [
    "dm.WorkspaceManager(\"broad-firecloud-ccle/DepMap_WES_CN_hg38\").delete_sample(set([\"CDS-BNyMCM\"]+remove) & set(dm.WorkspaceManager(\"broad-firecloud-ccle/DepMap_WES_CN_hg38\").get_samples()))"
   ]
  },
  {
   "cell_type": "code",
   "execution_count": null,
   "metadata": {},
   "outputs": [],
   "source": [
    "terra.removeSamples(\"broad-firecloud-ccle/DepMap_WES_CN_hg38\",[\"CDS-BNyMCM\"]+remove)"
   ]
  },
  {
   "cell_type": "code",
   "execution_count": null,
   "metadata": {},
   "outputs": [],
   "source": [
    "ccle_refsamples[ccle_refsamples['legacy_size'].isin([19734437052.0])][['arxspan_id','version',\"datatype\",\"size\",\"legacy_size\"]].sort_values(by=\"legacy_size\").iloc[:40]"
   ]
  },
  {
   "cell_type": "code",
   "execution_count": null,
   "metadata": {},
   "outputs": [],
   "source": [
    "for val in h.dups(list(set(ccle_refsamples['size']))+list(set(ccle_refsamples['legacy_size']))):\n",
    "    print(ccle_refsamples[(ccle_refsamples['size']==val)|(ccle_refsamples['legacy_size']==val)][['arxspan_id','version',\"datatype\",\"size\",\"legacy_size\"]])"
   ]
  },
  {
   "cell_type": "code",
   "execution_count": null,
   "metadata": {},
   "outputs": [],
   "source": [
    "## missingbam index\n",
    "wrongfilepath = gcp.exists(ccle_refsamples[~ccle_refsamples.internal_bai_filepath.isna()].internal_bai_filepath.tolist())"
   ]
  },
  {
   "cell_type": "code",
   "execution_count": null,
   "metadata": {},
   "outputs": [],
   "source": [
    "## bam index non matching anything\n",
    "bais= await seq.indexBams(bams= ccle_refsamples[ccle_refsamples.internal_bai_filepath.isin(wrongfilepath[1])].internal_bam_filepath, bucketpath=None, cores=10)"
   ]
  },
  {
   "cell_type": "code",
   "execution_count": null,
   "metadata": {},
   "outputs": [],
   "source": [
    "for k,val in bais.items():\n",
    "    ccle_refsamples.loc[ccle_refsamples[ccle_refsamples.internal_bam_filepath == k].index, 'internal_bai_filepath'] = val"
   ]
  },
  {
   "cell_type": "code",
   "execution_count": null,
   "metadata": {},
   "outputs": [],
   "source": [
    "dfToSheet(ccle_refsamples,'ccle sample tracker', secret=creds)"
   ]
  },
  {
   "cell_type": "code",
   "execution_count": null,
   "metadata": {},
   "outputs": [],
   "source": [
    "i  = ! gsutil ls gs://cclebams/**"
   ]
  },
  {
   "cell_type": "code",
   "execution_count": null,
   "metadata": {},
   "outputs": [],
   "source": [
    "## bam non matching anything in the sample tracker\n",
    "nonmatch = set([a for a in i if a.endswith('.bam')]) - set(ccle_refsamples.internal_bam_filepath.tolist()+ ccle_refsamples.legacy_bam_filepath.tolist())\n",
    "nonmatch"
   ]
  },
  {
   "cell_type": "code",
   "execution_count": null,
   "metadata": {},
   "outputs": [],
   "source": [
    "## bam that match something in size and can be deleted or can replace the other one\n",
    "sizze=[gcp.extractSize(i) for i in gcp.lsFiles(nonmatch, '-l')]"
   ]
  },
  {
   "cell_type": "code",
   "execution_count": null,
   "metadata": {},
   "outputs": [],
   "source": [
    "sizze"
   ]
  },
  {
   "cell_type": "code",
   "execution_count": null,
   "metadata": {},
   "outputs": [],
   "source": [
    "miss_rw"
   ]
  },
  {
   "cell_type": "code",
   "execution_count": null,
   "metadata": {},
   "outputs": [],
   "source": [
    "found=[]\n",
    "torm=[]\n",
    "remaining = set()\n",
    "for val in sizze:\n",
    "    res= ccle_refsamples[(ccle_refsamples['legacy_size']==val[1])]\n",
    "    if len(res) >0:\n",
    "        if res['legacy_bam_filepath'].values[0] in miss_rw[1]:\n",
    "            print(\"found!-----------\")\n",
    "            ccle_refsamples.loc[res.index, 'legacy_bam_filepath'] = val[0]\n",
    "            found.append(res.index[0])\n",
    "        else:\n",
    "            torm.append(val[0])\n",
    "    else:\n",
    "        remaining.add(val[0])"
   ]
  },
  {
   "cell_type": "code",
   "execution_count": null,
   "metadata": {},
   "outputs": [],
   "source": [
    "found"
   ]
  },
  {
   "cell_type": "code",
   "execution_count": null,
   "metadata": {},
   "outputs": [],
   "source": [
    "torm = ['gs://cclebams/wes/CDS-eGQYXr.bam',\n",
    " 'gs://cclebams/wes/CDS-Fz0HXE.bam',\n",
    " 'gs://cclebams/wes/CDS-4S6juQ.bam',\n",
    " 'gs://cclebams/wes/CDS-UL1jLm.bam',\n",
    " 'gs://cclebams/rna/UPCISCC111.bam',\n",
    " 'gs://cclebams/wes/CDS-gKIdjs.bam',\n",
    " 'gs://cclebams/rna/TERA2.bam',\n",
    " 'gs://cclebams/wes/CDS-Hx6zuD.bam',\n",
    " 'gs://cclebams/wes/CDS-Xgu4mi.bam',\n",
    " 'gs://cclebams/wes/CDS-kt2Gne.bam',\n",
    " 'gs://cclebams/wes/CDS-SvzhGj.bam',\n",
    " 'gs://cclebams/wes/CDS-Pku96X.bam',\n",
    " 'gs://cclebams/wes/CDS-leyYAD.bam',\n",
    " 'gs://cclebams/wes/CDS-R6ehaT.bam',\n",
    " 'gs://cclebams/wes/CDS-cKMeDY.bam',\n",
    " 'gs://cclebams/wes/CDS-I7bMcd.bam',\n",
    " 'gs://cclebams/wes/CDS-GnBdHN.bam',\n",
    " 'gs://cclebams/wes/CDS-PHI8VT.bam',\n",
    " 'gs://cclebams/wes/CDS-Y27yfi.bam',\n",
    " 'gs://cclebams/wes/CDS-sieIuO.bam',\n",
    " 'gs://cclebams/rna/MM253.bam',\n",
    " 'gs://cclebams/wes/CDS-3mvYnW.bam',\n",
    " 'gs://cclebams/rna/PEDS117.bam',\n",
    " 'gs://cclebams/wes/CDS-AOWMF3.bam',\n",
    " 'gs://cclebams/wes/CDS-8z476r.bam',\n",
    " 'gs://cclebams/wes/CDS-qaOoHQ.bam',\n",
    " 'gs://cclebams/wes/CDS-xCyamv.bam',\n",
    " 'gs://cclebams/wes/CDS-6PZKz8.bam',\n",
    " 'gs://cclebams/wes/CDS-N83rwD.bam',\n",
    " 'gs://cclebams/wes/CDS-5bQzF2.bam',\n",
    " 'gs://cclebams/wes/CDS-3pZIvU.bam',\n",
    " 'gs://cclebams/wes/CDS-R3txwY.bam',\n",
    " 'gs://cclebams/wes/CDS-O8dfj7.bam',\n",
    " 'gs://cclebams/wes/CDS-D6mIfI.bam',\n",
    " 'gs://cclebams/wes/CDS-9sg0Pm.bam',\n",
    " 'gs://cclebams/wes/CDS-C7o0op.bam',\n",
    " 'gs://cclebams/wes/CDS-aDUHcI.bam',\n",
    " 'gs://cclebams/wes/CDS-YnodyM.bam',\n",
    " 'gs://cclebams/wes/CDS-s7pOQR.bam',\n",
    " 'gs://cclebams/wes/CDS-V6Kk5q.bam',\n",
    " 'gs://cclebams/wes/CDS-WP95Oi.bam',\n",
    " 'gs://cclebams/wes/CDS-HkZUmY.bam',\n",
    " 'gs://cclebams/wes/CDS-rVAuin.bam',\n",
    " 'gs://cclebams/wes/CDS-LifesX.bam',\n",
    " 'gs://cclebams/wes/CDS-NBnCDl.bam',\n",
    " 'gs://cclebams/wes/CDS-J6kDsZ.bam',\n",
    " 'gs://cclebams/wes/CDS-LOW19e.bam',\n",
    " 'gs://cclebams/wes/CDS-h4mOdz.bam',\n",
    " 'gs://cclebams/wes/CDS-9u5DMn.bam',\n",
    " 'gs://cclebams/wes/CDS-rQMY3G.bam',\n",
    " 'gs://cclebams/wes/CDS-9M8GNS.bam',\n",
    " 'gs://cclebams/wes/CDS-wSV3OM.bam',\n",
    " 'gs://cclebams/wes/CDS-4BrJr7.bam',\n",
    " 'gs://cclebams/wes/CDS-sbwn0P.bam',\n",
    " 'gs://cclebams/wes/CDS-WAPQGk.bam',\n",
    " 'gs://cclebams/wes/CDS-tORJC8.bam',\n",
    " 'gs://cclebams/rna/SNU2372.bam',\n",
    " 'gs://cclebams/wes/CDS-CZstO2.bam',\n",
    " 'gs://cclebams/wes/CDS-bdb5iE.bam',\n",
    " 'gs://cclebams/rna/SUM190PT.bam',\n",
    " 'gs://cclebams/wes/CDS-opnGD7.bam',\n",
    " 'gs://cclebams/wes/CDS-c2Sowd.bam',\n",
    " 'gs://cclebams/wes/CDS-NPG23x.bam',\n",
    " 'gs://cclebams/wes/CDS-w7i5l7.bam',\n",
    " 'gs://cclebams/wes/CDS-iRstNJ.bam',\n",
    " 'gs://cclebams/rna/HEMCSS.bam',\n",
    " 'gs://cclebams/wes/CDS-ZGlgTf.bam',\n",
    " 'gs://cclebams/wes/CDS-ohjYlg.bam',\n",
    " 'gs://cclebams/wes/CDS-RWYJ02.bam',\n",
    " 'gs://cclebams/wes/CDS-ogUnWk.bam',\n",
    " 'gs://cclebams/wes/CDS-ktRRkc.bam',\n",
    " 'gs://cclebams/wes/CDS-Qbfoau.bam',\n",
    " 'gs://cclebams/wes/CDS-m49nRz.bam',\n",
    " 'gs://cclebams/wes/CDS-P79y6z.bam',\n",
    " 'gs://cclebams/wes/CDS-lTogDX.bam',\n",
    " 'gs://cclebams/wes/CDS-iX8vqU.bam',\n",
    " 'gs://cclebams/wes/CDS-5hbofu.bam',\n",
    " 'gs://cclebams/wes/CDS-nTW67d.bam',\n",
    " 'gs://cclebams/wes/CDS-ldrQm3.bam',\n",
    " 'gs://cclebams/wes/CDS-xI8ZAZ.bam',\n",
    " 'gs://cclebams/rna/VAL.bam',\n",
    " 'gs://cclebams/wes/CDS-UvBswk.bam',\n",
    " 'gs://cclebams/wes/CDS-HjGCvC.bam',\n",
    " 'gs://cclebams/rna/UPCISCC072.bam',\n",
    " 'gs://cclebams/wes/CDS-YYd4ww.bam',\n",
    " 'gs://cclebams/wes/CDS-IzeN7a.bam',\n",
    " 'gs://cclebams/wes/CDS-2JxT1P.bam',\n",
    " 'gs://cclebams/wes/CDS-rLadW7.bam',\n",
    " 'gs://cclebams/wes/CDS-ctVpqU.bam',\n",
    " 'gs://cclebams/wes/CDS-xIv1KJ.bam',\n",
    " 'gs://cclebams/wes/CDS-ragHOy.bam',\n",
    " 'gs://cclebams/wes/CDS-4ZOQQF.bam',\n",
    " 'gs://cclebams/wes/CDS-6xyqy9.bam',\n",
    " 'gs://cclebams/wes/CDS-Iu8c04.bam',\n",
    " 'gs://cclebams/wes/CDS-wpXVQk.bam',\n",
    " 'gs://cclebams/wes/CDS-soTPPi.bam',\n",
    " 'gs://cclebams/wes/CDS-5ViPeM.bam',\n",
    " 'gs://cclebams/wes/CDS-EzZEgz.bam',\n",
    " 'gs://cclebams/wes/CDS-gCSYjV.bam',\n",
    " 'gs://cclebams/rna/NOS1.bam',\n",
    " 'gs://cclebams/rna/ONDA10.bam',\n",
    " 'gs://cclebams/wes/CDS-Ww1LC7.bam',\n",
    " 'gs://cclebams/wes/CDS-BRxHbu.bam',\n",
    " 'gs://cclebams/rna/MM466.bam',\n",
    " 'gs://cclebams/wes/CDS-OxQgBw.bam',\n",
    " 'gs://cclebams/wes/CDS-RFBAY6.bam',\n",
    " 'gs://cclebams/wes/CDS-rQIdNN.bam',\n",
    " 'gs://cclebams/wes/CDS-4l9BUT.bam',\n",
    " 'gs://cclebams/wes/CDS-Bojgi7.bam',\n",
    " 'gs://cclebams/wes/CDS-6Fc0S5.bam',\n",
    " 'gs://cclebams/wes/CDS-DZMoWW.bam',\n",
    " 'gs://cclebams/wes/CDS-HEoDm7.bam',\n",
    " 'gs://cclebams/wes/CDS-IGOgCK.bam',\n",
    " 'gs://cclebams/wes/CDS-AjRIMt.bam',\n",
    " 'gs://cclebams/wes/CDS-G1sVsw.bam',\n",
    " 'gs://cclebams/rna/NCCIT.bam',\n",
    " 'gs://cclebams/wes/CDS-8mpXJa.bam',\n",
    " 'gs://cclebams/wes/CDS-mtMTts.bam',\n",
    " 'gs://cclebams/wes/CDS-75psAH.bam',\n",
    " 'gs://cclebams/wes/CDS-LnV7QY.bam',\n",
    " 'gs://cclebams/wes/CDS-ydPJEM.bam',\n",
    " 'gs://cclebams/wes/CDS-tPR3fn.bam',\n",
    " 'gs://cclebams/wes/CDS-PYWxsh.bam',\n",
    " 'gs://cclebams/wes/CDS-wWwBMZ.bam',\n",
    " 'gs://cclebams/wes/CDS-frzvLf.bam',\n",
    " 'gs://cclebams/wes/CDS-wlTAAF.bam',\n",
    " 'gs://cclebams/wes/CDS-UVxUrF.bam',\n",
    " 'gs://cclebams/wes/CDS-x21VqU.bam',\n",
    " 'gs://cclebams/wes/CDS-tYXity.bam',\n",
    " 'gs://cclebams/rna/RO82W1.bam',\n",
    " 'gs://cclebams/wes/CDS-Md89va.bam',\n",
    " 'gs://cclebams/wes/CDS-mazUYU.bam',\n",
    " 'gs://cclebams/wes/CDS-wbPtTZ.bam',\n",
    " 'gs://cclebams/wes/CDS-gsqqAz.bam',\n",
    " 'gs://cclebams/wes/CDS-ik526H.bam',\n",
    " 'gs://cclebams/wes/CDS-83LhEq.bam',\n",
    " 'gs://cclebams/wes/CDS-MhXQX3.bam',\n",
    " 'gs://cclebams/wes/CDS-Awmxa5.bam',\n",
    " 'gs://cclebams/wes/CDS-z8Bvmk.bam',\n",
    " 'gs://cclebams/wes/CDS-HOVBCg.bam',\n",
    " 'gs://cclebams/wes/CDS-0qPmaJ.bam',\n",
    " 'gs://cclebams/wes/CDS-Pkk9e2.bam',\n",
    " 'gs://cclebams/wes/CDS-6EyvRQ.bam',\n",
    " 'gs://cclebams/wes/CDS-nYIBWR.bam',\n",
    " 'gs://cclebams/wes/CDS-NXnWiI.bam',\n",
    " 'gs://cclebams/wes/CDS-8aHSii.bam',\n",
    " 'gs://cclebams/wes/CDS-Eh7ost.bam',\n",
    " 'gs://cclebams/wes/CDS-uGZguG.bam',\n",
    " 'gs://cclebams/wes/CDS-CRPZeK.bam',\n",
    " 'gs://cclebams/wes/CDS-n7Fqfe.bam',\n",
    " 'gs://cclebams/wes/CDS-1PXzlf.bam',\n",
    " 'gs://cclebams/wes/CDS-b9sdh9.bam',\n",
    " 'gs://cclebams/wes/CDS-LNTGnh.bam',\n",
    " 'gs://cclebams/wes/CDS-M1sAGX.bam',\n",
    " 'gs://cclebams/wes/CDS-dNVjOc.bam',\n",
    " 'gs://cclebams/wes/CDS-fLsYaB.bam',\n",
    " 'gs://cclebams/wes/CDS-loy9vi.bam',\n",
    " 'gs://cclebams/wes/CDS-nOKbmw.bam',\n",
    " 'gs://cclebams/wes/CDS-SO3AhH.bam',\n",
    " 'gs://cclebams/wes/CDS-r5Ym7C.bam',\n",
    " 'gs://cclebams/rna/MP41.bam',\n",
    " 'gs://cclebams/rna/OZ.bam',\n",
    " 'gs://cclebams/wes/CDS-Hv0i3y.bam',\n",
    " 'gs://cclebams/wes/CDS-Hw6KuA.bam',\n",
    " 'gs://cclebams/rna/TANOUE.bam',\n",
    " 'gs://cclebams/rna/U2973.bam',\n",
    " 'gs://cclebams/wes/CDS-allHxr.bam',\n",
    " 'gs://cclebams/wes/CDS-TDblpN.bam',\n",
    " 'gs://cclebams/wes/CDS-3jIdRa.bam',\n",
    " 'gs://cclebams/wes/CDS-ck9vpG.bam',\n",
    " 'gs://cclebams/wes/CDS-EpURcL.bam',\n",
    " 'gs://cclebams/rna/TL1.bam',\n",
    " 'gs://cclebams/wes/CDS-2Q2Kia.bam',\n",
    " 'gs://cclebams/wes/CDS-LUm1Vn.bam',\n",
    " 'gs://cclebams/rna/rna/DepMap_CellLine_RNAseq_Feb2020/RP-1561/RNA/CHL-1/v2/CHL-1.bam',\n",
    " 'gs://cclebams/wes/CDS-96DdrP.bam',\n",
    " 'gs://cclebams/wes/CDS-TSDUCK.bam',\n",
    " 'gs://cclebams/wes/CDS-ZMsoXe.bam',\n",
    " 'gs://cclebams/wes/CDS-8yHnJv.bam',\n",
    " 'gs://cclebams/wes/CDS-7JWzyA.bam',\n",
    " 'gs://cclebams/wes/CDS-bPT1F0.bam',\n",
    " 'gs://cclebams/wes/CDS-ycD9px.bam',\n",
    " 'gs://cclebams/wes/CDS-Ql8GJZ.bam',\n",
    " 'gs://cclebams/wes/CDS-g0KUGN.bam',\n",
    " 'gs://cclebams/rna/TY82.bam',\n",
    " 'gs://cclebams/rna/WSUFSCCL.bam',\n",
    " 'gs://cclebams/wes/CDS-2lAFkD.bam',\n",
    " 'gs://cclebams/rna/MM485.bam',\n",
    " 'gs://cclebams/wes/CDS-XJDBDj.bam',\n",
    " 'gs://cclebams/wes/CDS-PyELSk.bam',\n",
    " 'gs://cclebams/wes/CDS-kAARUi.bam',\n",
    " 'gs://cclebams/wes/CDS-rUs3FP.bam',\n",
    " 'gs://cclebams/wes/CDS-Uru0Mh.bam',\n",
    " 'gs://cclebams/wes/CDS-aXqwpM.bam',\n",
    " 'gs://cclebams/wes/CDS-l1OClV.bam',\n",
    " 'gs://cclebams/wes/CDS-lSpYo6.bam',\n",
    " 'gs://cclebams/wes/CDS-5IcijG.bam',\n",
    " 'gs://cclebams/wes/CDS-RnsUHX.bam',\n",
    " 'gs://cclebams/wes/CDS-9zidMf.bam',\n",
    " 'gs://cclebams/rna/KKU055.bam',\n",
    " 'gs://cclebams/wes/CDS-XqaEOX.bam',\n",
    " 'gs://cclebams/rna/NH12.bam',\n",
    " 'gs://cclebams/wes/CDS-aGMcvr.bam',\n",
    " 'gs://cclebams/wes/CDS-QtTdY6.bam',\n",
    " 'gs://cclebams/wes/CDS-8sQWae.bam',\n",
    " 'gs://cclebams/wes/CDS-jHqXGP.bam',\n",
    " 'gs://cclebams/wes/CDS-LVeuLY.bam',\n",
    " 'gs://cclebams/wes/CDS-2xSJmZ.bam',\n",
    " 'gs://cclebams/rna/OSC20.bam',\n",
    " 'gs://cclebams/wes/CDS-5PXB9Y.bam',\n",
    " 'gs://cclebams/wes/CDS-u1AlUI.bam',\n",
    " 'gs://cclebams/wes/9505BIK.bam',\n",
    " 'gs://cclebams/wes/CDS-mGHY2S.bam',\n",
    " 'gs://cclebams/wes/CDS-49xzNU.bam',\n",
    " 'gs://cclebams/wes/CDS-3DHwSX.bam',\n",
    " 'gs://cclebams/wes/CDS-V2ZEuP.bam',\n",
    " 'gs://cclebams/wes/CDS-VCuHjJ.bam',\n",
    " 'gs://cclebams/wes/CDS-cmV75B.bam',\n",
    " 'gs://cclebams/wes/CDS-OnIxUL.bam',\n",
    " 'gs://cclebams/wes/CDS-HoW111.bam',\n",
    " 'gs://cclebams/wes/CDS-cMvnjL.bam',\n",
    " 'gs://cclebams/wes/CDS-dJqQ4g.bam',\n",
    " 'gs://cclebams/wes/CDS-Ty3mgt.bam',\n",
    " 'gs://cclebams/wes/CDS-eZg4P8.bam',\n",
    " 'gs://cclebams/wes/CDS-9JpX07.bam',\n",
    " 'gs://cclebams/rna/RPMI2650.bam',\n",
    " 'gs://cclebams/wes/CDS-3FueNQ.bam',\n",
    " 'gs://cclebams/wes/CDS-O1ShTQ.bam',\n",
    " 'gs://cclebams/wes/CDS-RxQhcq.bam',\n",
    " 'gs://cclebams/rna/HDMB03.bam',\n",
    " 'gs://cclebams/wes/CDS-3VNhFC.bam',\n",
    " 'gs://cclebams/wes/CDS-sCWLGL.bam',\n",
    " 'gs://cclebams/wes/CDS-x7srFK.bam',\n",
    " 'gs://cclebams/wes/CDS-Twv1kD.bam',\n",
    " 'gs://cclebams/rna/HAC2.bam',\n",
    " 'gs://cclebams/wes/CDS-qIc5x3.bam',\n",
    " 'gs://cclebams/wes/CDS-AJMYsd.bam',\n",
    " 'gs://cclebams/wes/CDS-hOI086.bam',\n",
    " 'gs://cclebams/wes/CDS-5H2go6.bam',\n",
    " 'gs://cclebams/wes/CDS-zwAn7G.bam',\n",
    " 'gs://cclebams/rna/LO68.bam',\n",
    " 'gs://cclebams/wes/CDS-294bk6.bam',\n",
    " 'gs://cclebams/wes/CDS-ziEOXJ.bam',\n",
    " 'gs://cclebams/wes/CDS-VBr00g.bam',\n",
    " 'gs://cclebams/rna/ULA.bam',\n",
    " 'gs://cclebams/wes/CDS-dWHWU3.bam',\n",
    " 'gs://cclebams/rna/MMNK1.bam',\n",
    " 'gs://cclebams/wes/CDS-H4hPhD.bam',\n",
    " 'gs://cclebams/wes/CDS-cBOy2Z.bam',\n",
    " 'gs://cclebams/wes/CDS-NZsio7.bam',\n",
    " 'gs://cclebams/wes/CDS-5LNjjI.bam',\n",
    " 'gs://cclebams/wes/CDS-JvOeJK.bam',\n",
    " 'gs://cclebams/wes/CDS-xKNh7Q.bam',\n",
    " 'gs://cclebams/wes/CDS-2hGt1N.bam',\n",
    " 'gs://cclebams/wes/CDS-tgnRyK.bam',\n",
    " 'gs://cclebams/wes/CDS-Eo5oAR.bam',\n",
    " 'gs://cclebams/wes/CDS-T10Uph.bam',\n",
    " 'gs://cclebams/wes/CDS-QE7bdY.bam',\n",
    " 'gs://cclebams/wes/CDS-1uWUTi.bam']\n",
    "torm"
   ]
  },
  {
   "cell_type": "code",
   "execution_count": null,
   "metadata": {},
   "outputs": [],
   "source": [
    "for val in sizze:\n",
    "    res= ccle_refsamples[(ccle_refsamples['size']==val[1])]\n",
    "    if len(res) >0:\n",
    "        print(val[0], res['internal_bam_filepath'])\n",
    "        torm.append(val[0])\n",
    "        remaining.remove(val[0])"
   ]
  },
  {
   "cell_type": "code",
   "execution_count": null,
   "metadata": {},
   "outputs": [],
   "source": [
    "## removing\n",
    "a = gcp.rmFiles(torm, dryrun=False)"
   ]
  },
  {
   "cell_type": "code",
   "execution_count": null,
   "metadata": {},
   "outputs": [],
   "source": [
    "## preventing remapping of found ones\n",
    "weswm.update_sample_set(\"toremap\", set(remapable.index) - set(found))"
   ]
  },
  {
   "cell_type": "code",
   "execution_count": null,
   "metadata": {},
   "outputs": [],
   "source": [
    "# loading the remapped version to ccle sample tracker\n",
    "ss = weswm.get_sample_sets()"
   ]
  },
  {
   "cell_type": "code",
   "execution_count": null,
   "metadata": {},
   "outputs": [],
   "source": [
    "sam = weswm.get_samples().loc[ss.loc['toremap'].samples]"
   ]
  },
  {
   "cell_type": "code",
   "execution_count": null,
   "metadata": {},
   "outputs": [],
   "source": [
    "e = []\n",
    "for i in sam[\"readgroup_ubams\"].values.tolist():\n",
    "    if i is not np.nan:\n",
    "        e.extend(i)"
   ]
  },
  {
   "cell_type": "code",
   "execution_count": null,
   "metadata": {},
   "outputs": [],
   "source": [
    "gcp.rmFiles(e)"
   ]
  },
  {
   "cell_type": "code",
   "execution_count": null,
   "metadata": {},
   "outputs": [],
   "source": [
    "newloc = terra.changeGSlocation(\"broad-firecloud-ccle/DepMap_WES_CN_hg38\", newgs=\"gs://cclebams/wes/\", onlycol=['hg38_analysis_ready_bam', 'hg38_analysis_ready_bam_index'], entity='sample', keeppath=False, dry_run = False, onlysamples=ss.loc['toremap'].samples)"
   ]
  },
  {
   "cell_type": "code",
   "execution_count": null,
   "metadata": {},
   "outputs": [],
   "source": [
    "newloc = newloc[0].applymap(lambda v: v.replace('.hg38.', '.hg19.'))"
   ]
  },
  {
   "cell_type": "code",
   "execution_count": null,
   "metadata": {},
   "outputs": [],
   "source": [
    "h.parrun(['gsutil mv '+val+' '+val.replace('.hg38.', '.hg19.') for val in newloc[0].values.ravel()], 10)"
   ]
  },
  {
   "cell_type": "code",
   "execution_count": null,
   "metadata": {},
   "outputs": [],
   "source": [
    "newloc[['hg38_analysis_ready_bam',\"hg38_analysis_ready_bam_index\"]] =  ccle_refsamples.loc[newloc.index, ['internal_bam_filepath','internal_bai_filepath']]"
   ]
  },
  {
   "cell_type": "code",
   "execution_count": null,
   "metadata": {},
   "outputs": [],
   "source": [
    "ccle_refsamples.loc[newloc.index, ['legacy_bam_filepath','legacy_bai_filepath']] = newloc.values"
   ]
  },
  {
   "cell_type": "code",
   "execution_count": null,
   "metadata": {},
   "outputs": [],
   "source": [
    "weswm.update_sample_attributes(newloc)"
   ]
  },
  {
   "cell_type": "code",
   "execution_count": null,
   "metadata": {},
   "outputs": [],
   "source": [
    "ccle_refsamples.loc[newloc.index, ['legacy_bam_filepath','legacy_bai_filepath']]"
   ]
  },
  {
   "cell_type": "code",
   "execution_count": null,
   "metadata": {},
   "outputs": [],
   "source": [
    "## are they very close to a related sample? (yes? drop)"
   ]
  },
  {
   "cell_type": "code",
   "execution_count": null,
   "metadata": {},
   "outputs": [],
   "source": [
    "## can we find a related CDS id? (yes? find out if close else drop)\n",
    "ccle_refsamples[ccle_refsamples.index.isin([i.split('/')[-1].split('.')[0] for i in remaining if \"CDS\" in i])]"
   ]
  },
  {
   "cell_type": "code",
   "execution_count": null,
   "metadata": {},
   "outputs": [],
   "source": [
    "## do we have this cell line already? (investigate, either add or drop)\n",
    "sizze = [gcp.extractSize(u) for u in gcp.lsFiles([i for i in remaining if \"CDS\" not in i],'-l')]"
   ]
  },
  {
   "cell_type": "code",
   "execution_count": null,
   "metadata": {},
   "outputs": [],
   "source": [
    "for val in sizze:\n",
    "    print('------------')\n",
    "    print(val)\n",
    "    a = h.closest(ccle_refsamples['size'], val[1])\n",
    "    print(a)\n",
    "    print(ccle_refsamples[ccle_refsamples['size'] == a][['stripped_cell_name','arxspan_id']])"
   ]
  },
  {
   "cell_type": "code",
   "execution_count": null,
   "metadata": {},
   "outputs": [],
   "source": [
    "gs://cclebams/wes/RP-1500/Exome/ESO26_1/current/ESO26_1.bam'"
   ]
  },
  {
   "cell_type": "code",
   "execution_count": null,
   "metadata": {},
   "outputs": [],
   "source": [
    "for val in sizze:\n",
    "    print('------------')\n",
    "    print(val)\n",
    "    a = h.closest(ccle_refsamples[~ccle_refsamples['legacy_size'].isna()]['legacy_size'], val[1])\n",
    "    print(a)\n",
    "    print(ccle_refsamples[ccle_refsamples['legacy_size'] == a][['stripped_cell_name','arxspan_id']])"
   ]
  },
  {
   "cell_type": "code",
   "execution_count": null,
   "metadata": {},
   "outputs": [],
   "source": [
    "## match md5 to bam files\n",
    "md5s = [u for u in i if u.endswith('.md5')]\n",
    "for val in md5s:\n",
    "    rres = ccle_refsamples[(ccle_refsamples.internal_bam_filepath==val[:-4])&(ccle_refsamples.md5_hash.isna())]\n",
    "    if len(rres)>0:\n",
    "        print(rres)"
   ]
  },
  {
   "cell_type": "code",
   "execution_count": null,
   "metadata": {},
   "outputs": [],
   "source": [
    "## delete md5s\n",
    "gcp.rmFiles(md5s, dryrun=False)"
   ]
  },
  {
   "cell_type": "code",
   "execution_count": null,
   "metadata": {},
   "outputs": [],
   "source": [
    "## missing tissue annot\n",
    "set(ccle_refsamples[ccle_refsamples['primary_site'].isna() | ccle_refsamples['primary_disease'].isna() | ccle_refsamples['subtype'].isna() | ccle_refsamples['origin'].isna()].arxspan_id)"
   ]
  },
  {
   "cell_type": "code",
   "execution_count": null,
   "metadata": {},
   "outputs": [],
   "source": [
    "## missing name/arxspan\n",
    "ccle_refsamples[ccle_refsamples['arxspan_id'].isna() | ccle_refsamples['stripped_cell_name'].isna()]"
   ]
  },
  {
   "cell_type": "code",
   "execution_count": null,
   "metadata": {},
   "outputs": [],
   "source": [
    "# clean annots:\n",
    "set(ccle_refsamples.primary_disease)"
   ]
  },
  {
   "cell_type": "code",
   "execution_count": null,
   "metadata": {},
   "outputs": [],
   "source": [
    "set(ccle_refsamples.primary_site)"
   ]
  },
  {
   "cell_type": "code",
   "execution_count": null,
   "metadata": {},
   "outputs": [],
   "source": [
    "set(ccle_refsamples.age)"
   ]
  },
  {
   "cell_type": "code",
   "execution_count": null,
   "metadata": {},
   "outputs": [],
   "source": [
    "ccle_refsamples[ccle_refsamples.age.isna()]"
   ]
  },
  {
   "cell_type": "code",
   "execution_count": null,
   "metadata": {},
   "outputs": [],
   "source": [
    "set(ccle_refsamples.subtype)"
   ]
  },
  {
   "cell_type": "code",
   "execution_count": null,
   "metadata": {},
   "outputs": [],
   "source": [
    "set(ccle_refsamples.origin)"
   ]
  },
  {
   "cell_type": "code",
   "execution_count": null,
   "metadata": {},
   "outputs": [],
   "source": [
    "set(ccle_refsamples[ccle_refsamples.source.isna()].arxspan_id)"
   ]
  },
  {
   "cell_type": "code",
   "execution_count": null,
   "metadata": {},
   "outputs": [],
   "source": [
    "ccle_refsamples[ccle_refsamples.sex.isna()]"
   ]
  },
  {
   "cell_type": "code",
   "execution_count": null,
   "metadata": {},
   "outputs": [],
   "source": [
    "set(ccle_refsamples.baits)"
   ]
  },
  {
   "cell_type": "code",
   "execution_count": null,
   "metadata": {},
   "outputs": [],
   "source": [
    "ccle_refsamples.loc[k, upd]"
   ]
  },
  {
   "cell_type": "code",
   "execution_count": null,
   "metadata": {},
   "outputs": [],
   "source": [
    "k"
   ]
  },
  {
   "cell_type": "code",
   "execution_count": null,
   "metadata": {},
   "outputs": [],
   "source": [
    "upd = ['participant_id', 'cellosaurus_id', 'parent_cell_line', 'sex',\n",
    "       'matched_normal', 'age', 'primary_site', 'primary_disease', 'subtype',\n",
    "       'subsubtype', 'origin']\n",
    "for k in [\"CDS-yYeDem\",\n",
    "            \"CDS-OT217E\",\n",
    "            \"CDS-a8BCnW\",\n",
    "            \"CDS-zeFugQ\",\n",
    "            \"CDS-GOI63U\",\n",
    "            \"CDS-ldvG6N\",\n",
    "            \"CDS-LFK9QA\",\n",
    "            \"CDS-SdYhEt\",\n",
    "            \"CDS-gyyVs5\",\n",
    "            \"CDS-IgYH22\",\n",
    "            \"CDS-PoGjEx\",\n",
    "            \"CDS-J80Eb1\",\n",
    "            \"CDS-Hb7hHv\",\n",
    "            \"CDS-3VSkPT\",\n",
    "            \"CDS-2FgC1U\"]:\n",
    "    res = ccle_refsamples[(ccle_refsamples.arxspan_id==ccle_refsamples.loc[k,\"arxspan_id\"]) &(~ccle_refsamples.age.isna()) & (ccle_refsamples.index!=k)]\n",
    "    if len(res)>0:\n",
    "        ccle_refsamples.loc[k, upd] = res.iloc[0][upd].values\n",
    "    else:\n",
    "        print(k)"
   ]
  },
  {
   "cell_type": "code",
   "execution_count": null,
   "metadata": {},
   "outputs": [],
   "source": [
    "upd = ['participant_id', 'cellosaurus_id', 'parent_cell_line', 'sex',\n",
    "       'matched_normal', 'age', 'primary_site', 'primary_disease', 'subtype',\n",
    "       'subsubtype', 'origin']\n",
    "for k, v in ccle_refsamples[ccle_refsamples['primary_site'].isna() | ccle_refsamples['primary_disease'].isna() | ccle_refsamples['subtype'].isna() | ccle_refsamples['origin'].isna() | ccle_refsamples['source'].isna()].iterrows():\n",
    "    res = ccle_refsamples[(ccle_refsamples.arxspan_id==v.arxspan_id) & (ccle_refsamples.index!=k)]\n",
    "    if len(res)>0:\n",
    "        ccle_refsamples.loc[k, upd] = res.iloc[0][upd].values"
   ]
  },
  {
   "cell_type": "code",
   "execution_count": null,
   "metadata": {},
   "outputs": [],
   "source": [
    "## missing tissue annot\n",
    "len(set(ccle_refsamples[ccle_refsamples['primary_site'].isna() | ccle_refsamples['primary_disease'].isna() | ccle_refsamples['subtype'].isna() | ccle_refsamples['origin'].isna()].arxspan_id))"
   ]
  },
  {
   "cell_type": "code",
   "execution_count": null,
   "metadata": {},
   "outputs": [],
   "source": [
    "ccle_refsamples[(ccle_refsamples.arxspan_id==val.arxspan_id) &(~ccle_refsamples.age.isna())].iloc[0][upd].values"
   ]
  },
  {
   "cell_type": "code",
   "execution_count": null,
   "metadata": {},
   "outputs": [],
   "source": [
    "dfToSheet(ccle_refsamples,'ccle sample tracker', secret=creds)"
   ]
  },
  {
   "cell_type": "markdown",
   "metadata": {},
   "source": [
    "## PART 4"
   ]
  },
  {
   "cell_type": "code",
   "execution_count": null,
   "metadata": {},
   "outputs": [],
   "source": [
    "wm.disable_hound().update_sample_attributes(a)"
   ]
  },
  {
   "cell_type": "code",
   "execution_count": null,
   "metadata": {},
   "outputs": [],
   "source": [
    "wm = dm.WorkspaceManager('broad-firecloud-ccle/DepMap_hg38_RNAseq')"
   ]
  },
  {
   "cell_type": "code",
   "execution_count": null,
   "metadata": {},
   "outputs": [],
   "source": [
    "a = wm.get_samples()"
   ]
  },
  {
   "cell_type": "code",
   "execution_count": null,
   "metadata": {},
   "outputs": [],
   "source": [
    "ss= h.dups(ccle_refsamples['size'].tolist()+ccle_refsamples['legacy_size'].tolist())"
   ]
  },
  {
   "cell_type": "code",
   "execution_count": null,
   "metadata": {},
   "outputs": [],
   "source": [
    "issue = {val:[] for val in ss}\n",
    "recom = []\n",
    "for val in ss:\n",
    "    for k,v in ccle_refsamples[(ccle_refsamples['size']==val)].iterrows():\n",
    "        if v.size!= gcp.extractSize(gcp.lsFiles([v.internal_bam_filepath],\"-l\")[0]):\n",
    "            recom.append(k)\n",
    "        else:\n",
    "            issue[val].append(k)\n",
    "    for k,v in ccle_refsamples[(ccle_refsamples['legacy_size']==val)].iterrows():\n",
    "        if v.legacy_size!= gcp.extractSize(gcp.lsFiles([v.legacy_bam_filepath],\"-l\")[0]):\n",
    "            recom.append(k)    \n",
    "        else:\n",
    "            issue[val].append(k)"
   ]
  },
  {
   "cell_type": "code",
   "execution_count": null,
   "metadata": {},
   "outputs": [],
   "source": [
    "e = gcp.lsFiles(a.legacy_bam_filepath.tolist(),\"-L\")"
   ]
  },
  {
   "cell_type": "code",
   "execution_count": null,
   "metadata": {},
   "outputs": [],
   "source": [
    "wm.update_sample_attributes(a)"
   ]
  },
  {
   "cell_type": "code",
   "execution_count": null,
   "metadata": {},
   "outputs": [],
   "source": [
    "for k, val in ccle_refsamples[(ccle_refsamples.datatype=='rna')&(~ccle_refsamples.internal_bam_filepath.str.contains(\"/rnasq_hg38\",na=True))].internal_bam_filepath.iteritems():\n",
    "    rn = \"gs://cclebams/rna/\"+'/'.join(val.split('/')[3:])\n",
    "    print(rn)\n",
    "    rni = rn[:-1]+'i'\n",
    "    vali = val[:-1]+\"i\"\n",
    "    #! gsutil cp $val $rn\n",
    "    #! gsutil cp $vali $rni\n",
    "    ccle_refsamples.loc[k, \"internal_bam_filepath\"] = rn\n",
    "    ccle_refsamples.loc[k, \"internal_bai_filepath\"] = rni\n",
    "    ccle_refsamples.loc[k, \"size\"] = gcp.extractSize(gcp.lsFiles([rn], '-l')[0],)[1]\n",
    "    ccle_refsamples.loc[k, \"crc32c_hash\"] = gcp.extractHash(gcp.lsFiles([rn], '-L')[0])[1]\n",
    "    ccle_refsamples.loc[k, \"sequencing_date\"]= seq.getBamDate([rn])[0]\n",
    "    print(rn)\n",
    "    break"
   ]
  },
  {
   "cell_type": "code",
   "execution_count": null,
   "metadata": {},
   "outputs": [],
   "source": [
    "ccle_refsamples.loc[a[a.legacy_bam_filepath.isna()].index].internal_bam_filepath"
   ]
  },
  {
   "cell_type": "code",
   "execution_count": null,
   "metadata": {},
   "outputs": [],
   "source": [
    "ccle_refsamples.loc[ccle_refsamples[ccle_refsamples.datatype.isin(['rna'])].index.tolist(),'size']"
   ]
  },
  {
   "cell_type": "code",
   "execution_count": null,
   "metadata": {},
   "outputs": [],
   "source": [
    "ccle_refsamples.loc[ccle_refsamples[ccle_refsamples.datatype.isin(['rna'])].index.tolist(),'size'] = [gcp.extractSize(i)[1] for i in gcp.lsFiles(ccle_refsamples[ccle_refsamples.datatype.isin(['rna'])]['internal_bam_filepath'].tolist(),'-l')]\n",
    "\n",
    "ccle_refsamples.loc[ccle_refsamples[ccle_refsamples.datatype.isin(['rna'])].index.tolist(),'crc32c_hash'] = [gcp.extractHash(i) for i in gcp.lsFiles(ccle_refsamples[ccle_refsamples.datatype.isin(['rna'])]['internal_bam_filepath'].tolist(),'-L')]"
   ]
  },
  {
   "cell_type": "code",
   "execution_count": null,
   "metadata": {},
   "outputs": [],
   "source": [
    "ccle_refsamples[ccle_refsamples.datatype.isin(['wgs'])][[\"internal_bam_filepath\", \"internal_bai_filepath\", \"md5_hash\",\"legacy_bam_filepath\",\"legacy_bai_filepath\",'legacy_size', 'legacy_crc32c_hash']]"
   ]
  },
  {
   "cell_type": "code",
   "execution_count": null,
   "metadata": {},
   "outputs": [],
   "source": []
  }
 ],
 "metadata": {
  "kernelspec": {
   "display_name": "Python 3",
   "language": "python",
   "name": "python3"
  },
  "language_info": {
   "codemirror_mode": {
    "name": "ipython",
    "version": 3
   },
   "file_extension": ".py",
   "mimetype": "text/x-python",
   "name": "python",
   "nbconvert_exporter": "python",
   "pygments_lexer": "ipython3",
   "version": "3.7.3"
  },
  "latex_envs": {
   "LaTeX_envs_menu_present": true,
   "autoclose": false,
   "autocomplete": true,
   "bibliofile": "biblio.bib",
   "cite_by": "apalike",
   "current_citInitial": 1,
   "eqLabelWithNumbers": true,
   "eqNumInitial": 1,
   "hotkeys": {
    "equation": "Ctrl-E",
    "itemize": "Ctrl-I"
   },
   "labels_anchors": false,
   "latex_user_defs": false,
   "report_style_numbering": false,
   "user_envs_cfg": false
  },
  "toc": {
   "base_numbering": 1,
   "nav_menu": {},
   "number_sections": true,
   "sideBar": true,
   "skip_h1_title": false,
   "title_cell": "Table of Contents",
   "title_sidebar": "Contents",
   "toc_cell": false,
   "toc_position": {
    "height": "calc(100% - 180px)",
    "left": "10px",
    "top": "150px",
    "width": "230.4px"
   },
   "toc_section_display": true,
   "toc_window_display": true
  },
  "varInspector": {
   "cols": {
    "lenName": 16,
    "lenType": 16,
    "lenVar": 40
   },
   "kernels_config": {
    "python": {
     "delete_cmd_postfix": "",
     "delete_cmd_prefix": "del ",
     "library": "var_list.py",
     "varRefreshCmd": "print(var_dic_list())"
    },
    "r": {
     "delete_cmd_postfix": ") ",
     "delete_cmd_prefix": "rm(",
     "library": "var_list.r",
     "varRefreshCmd": "cat(var_dic_list()) "
    }
   },
   "types_to_exclude": [
    "module",
    "function",
    "builtin_function_or_method",
    "instance",
    "_Feature"
   ],
   "window_display": false
  }
 },
 "nbformat": 4,
 "nbformat_minor": 2
}
